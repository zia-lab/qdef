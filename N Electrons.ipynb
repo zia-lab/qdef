{
 "cells": [
  {
   "cell_type": "markdown",
   "metadata": {},
   "source": [
    "# N electrons meet in a crystal"
   ]
  },
  {
   "cell_type": "markdown",
   "metadata": {},
   "source": [
    "<center><img src=\"./images/qdef-banner.png\" style=\"width: 500px\">\n",
    "\n",
    "The main goal of this notebook was to develop the classes `CrystalElectronsSCoupling` and `CrystalElectronsLLCoupling` to couple electrons in sequence and in like-to-like groups. Both of which were condensed in qdef.py.\n",
    "\n",
    "The development code was left here and would be hard to interpret again.\n",
    "</center>"
   ]
  },
  {
   "cell_type": "code",
   "execution_count": 1,
   "metadata": {},
   "outputs": [
    {
     "data": {
      "text/html": [
       "<pre>✔️ 5.73 s (2021-12-30T16:53:57/2021-12-30T16:54:02)</pre>"
      ],
      "text/plain": [
       "<IPython.core.display.HTML object>"
      ]
     },
     "metadata": {},
     "output_type": "display_data"
    },
    {
     "name": "stdout",
     "output_type": "stream",
     "text": [
      "Reloading /Users/juan/Zia Lab/Codebase/qdef/data/CPGs.pkl ...\n"
     ]
    }
   ],
   "source": [
    "%load_ext line_profiler\n",
    "%load_ext autoreload\n",
    "# provide cell timings\n",
    "%load_ext autotime\n",
    "%autoreload 2\n",
    "import sympy as sp\n",
    "import numpy as np\n",
    "%config InlineBackend.figure_format='retina'\n",
    "%config Completer.use_jedi = False\n",
    "from qdef import *\n",
    "from misc import *\n",
    "from IPython.display import display, Math, Latex, HTML\n",
    "from joblib import Parallel, delayed\n",
    "import multiprocessing\n",
    "num_cores = multiprocessing.cpu_count()\n",
    "import time\n",
    "from itertools import product\n",
    "from itertools import permutations\n",
    "from sympy import Eijk as εijk"
   ]
  },
  {
   "cell_type": "code",
   "execution_count": 4,
   "metadata": {},
   "outputs": [
    {
     "data": {
      "text/html": [
       "<pre>✔️ 79.4 ms (2021-12-30T16:55:30/2021-12-30T16:55:30)</pre>"
      ],
      "text/plain": [
       "<IPython.core.display.HTML object>"
      ]
     },
     "metadata": {},
     "output_type": "display_data"
    },
    {
     "name": "stdout",
     "output_type": "stream",
     "text": [
      "\u001b[0;31mInit signature:\u001b[0m \u001b[0mCrystalElectronsSCoupling\u001b[0m\u001b[0;34m(\u001b[0m\u001b[0mgroup_label\u001b[0m\u001b[0;34m,\u001b[0m \u001b[0mΓs\u001b[0m\u001b[0;34m)\u001b[0m\u001b[0;34m\u001b[0m\u001b[0;34m\u001b[0m\u001b[0m\n",
      "\u001b[0;31mDocstring:\u001b[0m      Couple electrons in sequence, adding one at a time.\n",
      "\u001b[0;31mInit docstring:\u001b[0m\n",
      "Parameters\n",
      "----------\n",
      "group_label (str): a string representing a point group\n",
      "Γs     (iterable): with irrep symbols\n",
      "\u001b[0;31mFile:\u001b[0m           ~/Zia Lab/Codebase/qdef/qdef.py\n",
      "\u001b[0;31mType:\u001b[0m           type\n",
      "\u001b[0;31mSubclasses:\u001b[0m     \n"
     ]
    }
   ],
   "source": [
    "CrystalElectronsSCoupling?"
   ]
  },
  {
   "cell_type": "code",
   "execution_count": 5,
   "metadata": {},
   "outputs": [
    {
     "data": {
      "text/html": [
       "<pre>✔️ 2.51 ms (2021-12-30T16:55:32/2021-12-30T16:55:32)</pre>"
      ],
      "text/plain": [
       "<IPython.core.display.HTML object>"
      ]
     },
     "metadata": {},
     "output_type": "display_data"
    },
    {
     "name": "stdout",
     "output_type": "stream",
     "text": [
      "\u001b[0;31mInit signature:\u001b[0m \u001b[0mCrystalElectronsLLCoupling\u001b[0m\u001b[0;34m(\u001b[0m\u001b[0mgroup_label\u001b[0m\u001b[0;34m,\u001b[0m \u001b[0mΓ1s\u001b[0m\u001b[0;34m,\u001b[0m \u001b[0mΓ2s\u001b[0m\u001b[0;34m)\u001b[0m\u001b[0;34m\u001b[0m\u001b[0;34m\u001b[0m\u001b[0m\n",
      "\u001b[0;31mDocstring:\u001b[0m      Couple two groups of electrons in one fell swoop.\n",
      "\u001b[0;31mInit docstring:\u001b[0m\n",
      "group_label (str): label for a crystallographic point group\n",
      "Γ1s    (2-tuple): (irrep_symbol (sp.Symbol), num_electrons (int))\n",
      "Γ2s    (2-tuple): (irrep_symbol (sp.Symbol), num_electrons (int))\n",
      "\u001b[0;31mFile:\u001b[0m           ~/Zia Lab/Codebase/qdef/qdef.py\n",
      "\u001b[0;31mType:\u001b[0m           type\n",
      "\u001b[0;31mSubclasses:\u001b[0m     \n"
     ]
    }
   ],
   "source": [
    "CrystalElectronsLLCoupling?"
   ]
  },
  {
   "cell_type": "markdown",
   "metadata": {},
   "source": [
    "As an example let's couple two T_2 electrons and two E electrons."
   ]
  },
  {
   "cell_type": "code",
   "execution_count": 6,
   "metadata": {},
   "outputs": [
    {
     "data": {
      "text/html": [
       "<pre>✔️ 102 ms (2021-12-30T16:55:36/2021-12-30T16:55:36)</pre>"
      ],
      "text/plain": [
       "<IPython.core.display.HTML object>"
      ]
     },
     "metadata": {},
     "output_type": "display_data"
    }
   ],
   "source": [
    "t2e2 = CrystalElectronsLLCoupling('O',[sp.Symbol('T_2'),2],[sp.Symbol('E'),2])"
   ]
  },
  {
   "cell_type": "markdown",
   "metadata": {},
   "source": [
    "Here are the wavefunctions grouped in their corresponding terms. Only the first wavefunction being printed (if all are wanted make print_all True)"
   ]
  },
  {
   "cell_type": "code",
   "execution_count": 7,
   "metadata": {},
   "outputs": [
    {
     "data": {
      "text/html": [
       "<pre>✔️ 63.2 ms (2021-12-30T16:55:38/2021-12-30T16:55:38)</pre>"
      ],
      "text/plain": [
       "<IPython.core.display.HTML object>"
      ]
     },
     "metadata": {},
     "output_type": "display_data"
    },
    {
     "data": {
      "text/html": [
       "<hr>"
      ],
      "text/plain": [
       "<IPython.core.display.HTML object>"
      ]
     },
     "metadata": {},
     "output_type": "display_data"
    },
    {
     "data": {
      "text/latex": [
       "$\\displaystyle {}^{1}A_{1}$"
      ],
      "text/plain": [
       "{}^{1}A_{1}"
      ]
     },
     "metadata": {},
     "output_type": "display_data"
    },
    {
     "data": {
      "text/latex": [
       "$\\displaystyle \\psi_{1}(e^{2} t_{2}^{2},{}^{1}A_{1},M=0,{\\alpha}) = \\frac{\\sqrt{6} |\\bar{{\\chi}} {\\chi} \\bar{{\\gamma}} {\\gamma}|}{6} + \\frac{\\sqrt{6} |\\bar{{\\chi}} {\\chi} \\bar{{\\zeta}} {\\zeta}|}{6} + \\frac{\\sqrt{6} |\\bar{{\\phi}} {\\phi} \\bar{{\\gamma}} {\\gamma}|}{6} + \\frac{\\sqrt{6} |\\bar{{\\phi}} {\\phi} \\bar{{\\zeta}} {\\zeta}|}{6} + \\frac{\\sqrt{6} |\\bar{{\\xi}} {\\xi} \\bar{{\\gamma}} {\\gamma}|}{6} + \\frac{\\sqrt{6} |\\bar{{\\xi}} {\\xi} \\bar{{\\zeta}} {\\zeta}|}{6}$"
      ],
      "text/plain": [
       "<IPython.core.display.Math object>"
      ]
     },
     "metadata": {},
     "output_type": "display_data"
    },
    {
     "data": {
      "text/latex": [
       "$\\displaystyle \\textrm{(... and 1 other wave function ...)}$"
      ],
      "text/plain": [
       "<IPython.core.display.Math object>"
      ]
     },
     "metadata": {},
     "output_type": "display_data"
    },
    {
     "data": {
      "text/html": [
       "<hr>"
      ],
      "text/plain": [
       "<IPython.core.display.HTML object>"
      ]
     },
     "metadata": {},
     "output_type": "display_data"
    },
    {
     "data": {
      "text/latex": [
       "$\\displaystyle {}^{1}E$"
      ],
      "text/plain": [
       "{}^{1}E"
      ]
     },
     "metadata": {},
     "output_type": "display_data"
    },
    {
     "data": {
      "text/latex": [
       "$\\displaystyle \\psi_{2}(e^{2} t_{2}^{2},{}^{1}E,M=0,{\\gamma}) = - \\frac{\\sqrt{6} |\\bar{{\\chi}} {\\chi} \\bar{{\\gamma}} {\\gamma}|}{6} + \\frac{\\sqrt{6} |\\bar{{\\chi}} {\\chi} \\bar{{\\zeta}} {\\zeta}|}{6} - \\frac{\\sqrt{6} |\\bar{{\\phi}} {\\phi} \\bar{{\\gamma}} {\\gamma}|}{6} + \\frac{\\sqrt{6} |\\bar{{\\phi}} {\\phi} \\bar{{\\zeta}} {\\zeta}|}{6} - \\frac{\\sqrt{6} |\\bar{{\\xi}} {\\xi} \\bar{{\\gamma}} {\\gamma}|}{6} + \\frac{\\sqrt{6} |\\bar{{\\xi}} {\\xi} \\bar{{\\zeta}} {\\zeta}|}{6}$"
      ],
      "text/plain": [
       "<IPython.core.display.Math object>"
      ]
     },
     "metadata": {},
     "output_type": "display_data"
    },
    {
     "data": {
      "text/latex": [
       "$\\displaystyle \\textrm{(... and 5 other wave functions ...)}$"
      ],
      "text/plain": [
       "<IPython.core.display.Math object>"
      ]
     },
     "metadata": {},
     "output_type": "display_data"
    },
    {
     "data": {
      "text/html": [
       "<hr>"
      ],
      "text/plain": [
       "<IPython.core.display.HTML object>"
      ]
     },
     "metadata": {},
     "output_type": "display_data"
    },
    {
     "data": {
      "text/latex": [
       "$\\displaystyle {}^{1}A_{2}$"
      ],
      "text/plain": [
       "{}^{1}A_{2}"
      ]
     },
     "metadata": {},
     "output_type": "display_data"
    },
    {
     "data": {
      "text/latex": [
       "$\\displaystyle \\psi_{3}(e^{2} t_{2}^{2},{}^{1}A_{2},M=0,{\\beta}) = - \\frac{\\sqrt{2} |\\bar{{\\chi}} {\\chi} \\bar{{\\gamma}} {\\gamma}|}{4} - \\frac{\\sqrt{6} |\\bar{{\\chi}} {\\chi} \\bar{{\\gamma}} {\\zeta}|}{12} + \\frac{\\sqrt{2} |\\bar{{\\chi}} {\\chi} \\bar{{\\zeta}} {\\zeta}|}{4} + \\frac{\\sqrt{6} |\\bar{{\\chi}} {\\chi} {\\gamma} \\bar{{\\zeta}}|}{12} + \\frac{\\sqrt{2} |\\bar{{\\phi}} {\\phi} \\bar{{\\gamma}} {\\gamma}|}{4} - \\frac{\\sqrt{6} |\\bar{{\\phi}} {\\phi} \\bar{{\\gamma}} {\\zeta}|}{12} - \\frac{\\sqrt{2} |\\bar{{\\phi}} {\\phi} \\bar{{\\zeta}} {\\zeta}|}{4} + \\frac{\\sqrt{6} |\\bar{{\\phi}} {\\phi} {\\gamma} \\bar{{\\zeta}}|}{12} + \\frac{\\sqrt{6} |\\bar{{\\xi}} {\\xi} \\bar{{\\gamma}} {\\zeta}|}{6} - \\frac{\\sqrt{6} |\\bar{{\\xi}} {\\xi} {\\gamma} \\bar{{\\zeta}}|}{6}$"
      ],
      "text/plain": [
       "<IPython.core.display.Math object>"
      ]
     },
     "metadata": {},
     "output_type": "display_data"
    },
    {
     "data": {
      "text/html": [
       "<hr>"
      ],
      "text/plain": [
       "<IPython.core.display.HTML object>"
      ]
     },
     "metadata": {},
     "output_type": "display_data"
    },
    {
     "data": {
      "text/latex": [
       "$\\displaystyle {}^{1}T_{2}$"
      ],
      "text/plain": [
       "{}^{1}T_{2}"
      ]
     },
     "metadata": {},
     "output_type": "display_data"
    },
    {
     "data": {
      "text/latex": [
       "$\\displaystyle \\psi_{4}(e^{2} t_{2}^{2},{}^{1}T_{2},M=0,{\\chi}) = \\frac{\\sqrt{3} |\\bar{{\\xi}} \\bar{{\\phi}} {\\gamma} {\\zeta}|}{3} - \\frac{\\sqrt{3} |\\bar{{\\xi}} {\\phi} \\bar{{\\gamma}} {\\zeta}|}{6} - \\frac{\\sqrt{3} |\\bar{{\\xi}} {\\phi} {\\gamma} \\bar{{\\zeta}}|}{6} - \\frac{\\sqrt{3} |{\\xi} \\bar{{\\phi}} \\bar{{\\gamma}} {\\zeta}|}{6} - \\frac{\\sqrt{3} |{\\xi} \\bar{{\\phi}} {\\gamma} \\bar{{\\zeta}}|}{6} + \\frac{\\sqrt{3} |{\\xi} {\\phi} \\bar{{\\gamma}} \\bar{{\\zeta}}|}{3}$"
      ],
      "text/plain": [
       "<IPython.core.display.Math object>"
      ]
     },
     "metadata": {},
     "output_type": "display_data"
    },
    {
     "data": {
      "text/latex": [
       "$\\displaystyle \\textrm{(... and 8 other wave functions ...)}$"
      ],
      "text/plain": [
       "<IPython.core.display.Math object>"
      ]
     },
     "metadata": {},
     "output_type": "display_data"
    },
    {
     "data": {
      "text/html": [
       "<hr>"
      ],
      "text/plain": [
       "<IPython.core.display.HTML object>"
      ]
     },
     "metadata": {},
     "output_type": "display_data"
    },
    {
     "data": {
      "text/latex": [
       "$\\displaystyle {}^{1}T_{1}$"
      ],
      "text/plain": [
       "{}^{1}T_{1}"
      ]
     },
     "metadata": {},
     "output_type": "display_data"
    },
    {
     "data": {
      "text/latex": [
       "$\\displaystyle \\psi_{5}(e^{2} t_{2}^{2},{}^{1}T_{1},M=0,{\\eta}) = \\frac{\\sqrt{3} |\\bar{{\\xi}} {\\phi} \\bar{{\\gamma}} {\\gamma}|}{4} + \\frac{|\\bar{{\\xi}} {\\phi} \\bar{{\\gamma}} {\\zeta}|}{4} - \\frac{\\sqrt{3} |\\bar{{\\xi}} {\\phi} \\bar{{\\zeta}} {\\zeta}|}{4} - \\frac{|\\bar{{\\xi}} {\\phi} {\\gamma} \\bar{{\\zeta}}|}{4} - \\frac{\\sqrt{3} |{\\xi} \\bar{{\\phi}} \\bar{{\\gamma}} {\\gamma}|}{4} - \\frac{|{\\xi} \\bar{{\\phi}} \\bar{{\\gamma}} {\\zeta}|}{4} + \\frac{\\sqrt{3} |{\\xi} \\bar{{\\phi}} \\bar{{\\zeta}} {\\zeta}|}{4} + \\frac{|{\\xi} \\bar{{\\phi}} {\\gamma} \\bar{{\\zeta}}|}{4}$"
      ],
      "text/plain": [
       "<IPython.core.display.Math object>"
      ]
     },
     "metadata": {},
     "output_type": "display_data"
    },
    {
     "data": {
      "text/latex": [
       "$\\displaystyle \\textrm{(... and 2 other wave functions ...)}$"
      ],
      "text/plain": [
       "<IPython.core.display.Math object>"
      ]
     },
     "metadata": {},
     "output_type": "display_data"
    },
    {
     "data": {
      "text/html": [
       "<hr>"
      ],
      "text/plain": [
       "<IPython.core.display.HTML object>"
      ]
     },
     "metadata": {},
     "output_type": "display_data"
    },
    {
     "data": {
      "text/latex": [
       "$\\displaystyle {}^{3}A_{2}$"
      ],
      "text/plain": [
       "{}^{3}A_{2}"
      ]
     },
     "metadata": {},
     "output_type": "display_data"
    },
    {
     "data": {
      "text/latex": [
       "$\\displaystyle \\psi_{6}(e^{2} t_{2}^{2},{}^{3}A_{2},M=-1,{\\beta}) = \\frac{\\sqrt{3} |\\bar{{\\chi}} {\\chi} \\bar{{\\gamma}} \\bar{{\\zeta}}|}{3} + \\frac{\\sqrt{3} |\\bar{{\\phi}} {\\phi} \\bar{{\\gamma}} \\bar{{\\zeta}}|}{3} + \\frac{\\sqrt{3} |\\bar{{\\xi}} {\\xi} \\bar{{\\gamma}} \\bar{{\\zeta}}|}{3}$"
      ],
      "text/plain": [
       "<IPython.core.display.Math object>"
      ]
     },
     "metadata": {},
     "output_type": "display_data"
    },
    {
     "data": {
      "text/latex": [
       "$\\displaystyle \\textrm{(... and 2 other wave functions ...)}$"
      ],
      "text/plain": [
       "<IPython.core.display.Math object>"
      ]
     },
     "metadata": {},
     "output_type": "display_data"
    },
    {
     "data": {
      "text/html": [
       "<hr>"
      ],
      "text/plain": [
       "<IPython.core.display.HTML object>"
      ]
     },
     "metadata": {},
     "output_type": "display_data"
    },
    {
     "data": {
      "text/latex": [
       "$\\displaystyle {}^{3}E$"
      ],
      "text/plain": [
       "{}^{3}E"
      ]
     },
     "metadata": {},
     "output_type": "display_data"
    },
    {
     "data": {
      "text/latex": [
       "$\\displaystyle \\psi_{7}(e^{2} t_{2}^{2},{}^{3}E,M=-1,{\\gamma}) = \\frac{\\sqrt{2} |\\bar{{\\chi}} {\\chi} \\bar{{\\gamma}} \\bar{{\\zeta}}|}{2} - \\frac{\\sqrt{2} |\\bar{{\\phi}} {\\phi} \\bar{{\\gamma}} \\bar{{\\zeta}}|}{2}$"
      ],
      "text/plain": [
       "<IPython.core.display.Math object>"
      ]
     },
     "metadata": {},
     "output_type": "display_data"
    },
    {
     "data": {
      "text/latex": [
       "$\\displaystyle \\textrm{(... and 5 other wave functions ...)}$"
      ],
      "text/plain": [
       "<IPython.core.display.Math object>"
      ]
     },
     "metadata": {},
     "output_type": "display_data"
    },
    {
     "data": {
      "text/html": [
       "<hr>"
      ],
      "text/plain": [
       "<IPython.core.display.HTML object>"
      ]
     },
     "metadata": {},
     "output_type": "display_data"
    },
    {
     "data": {
      "text/latex": [
       "$\\displaystyle {}^{3}T_{1}$"
      ],
      "text/plain": [
       "{}^{3}T_{1}"
      ]
     },
     "metadata": {},
     "output_type": "display_data"
    },
    {
     "data": {
      "text/latex": [
       "$\\displaystyle \\psi_{8}(e^{2} t_{2}^{2},{}^{3}T_{1},M=-1,{\\eta}) = \\frac{\\sqrt{2} |\\bar{{\\xi}} \\bar{{\\phi}} \\bar{{\\gamma}} {\\gamma}|}{2} + \\frac{\\sqrt{2} |\\bar{{\\xi}} \\bar{{\\phi}} \\bar{{\\zeta}} {\\zeta}|}{2}$"
      ],
      "text/plain": [
       "<IPython.core.display.Math object>"
      ]
     },
     "metadata": {},
     "output_type": "display_data"
    },
    {
     "data": {
      "text/latex": [
       "$\\displaystyle \\textrm{(... and 26 other wave functions ...)}$"
      ],
      "text/plain": [
       "<IPython.core.display.Math object>"
      ]
     },
     "metadata": {},
     "output_type": "display_data"
    },
    {
     "data": {
      "text/html": [
       "<hr>"
      ],
      "text/plain": [
       "<IPython.core.display.HTML object>"
      ]
     },
     "metadata": {},
     "output_type": "display_data"
    },
    {
     "data": {
      "text/latex": [
       "$\\displaystyle {}^{3}T_{2}$"
      ],
      "text/plain": [
       "{}^{3}T_{2}"
      ]
     },
     "metadata": {},
     "output_type": "display_data"
    },
    {
     "data": {
      "text/latex": [
       "$\\displaystyle \\psi_{9}(e^{2} t_{2}^{2},{}^{3}T_{2},M=-1,{\\chi}) = - \\frac{\\sqrt{6} |\\bar{{\\xi}} \\bar{{\\phi}} \\bar{{\\gamma}} {\\gamma}|}{4} - \\frac{\\sqrt{2} |\\bar{{\\xi}} \\bar{{\\phi}} \\bar{{\\gamma}} {\\zeta}|}{4} + \\frac{\\sqrt{6} |\\bar{{\\xi}} \\bar{{\\phi}} \\bar{{\\zeta}} {\\zeta}|}{4} + \\frac{\\sqrt{2} |\\bar{{\\xi}} \\bar{{\\phi}} {\\gamma} \\bar{{\\zeta}}|}{4}$"
      ],
      "text/plain": [
       "<IPython.core.display.Math object>"
      ]
     },
     "metadata": {},
     "output_type": "display_data"
    },
    {
     "data": {
      "text/latex": [
       "$\\displaystyle \\textrm{(... and 17 other wave functions ...)}$"
      ],
      "text/plain": [
       "<IPython.core.display.Math object>"
      ]
     },
     "metadata": {},
     "output_type": "display_data"
    },
    {
     "data": {
      "text/html": [
       "<hr>"
      ],
      "text/plain": [
       "<IPython.core.display.HTML object>"
      ]
     },
     "metadata": {},
     "output_type": "display_data"
    },
    {
     "data": {
      "text/latex": [
       "$\\displaystyle {}^{5}T_{2}$"
      ],
      "text/plain": [
       "{}^{5}T_{2}"
      ]
     },
     "metadata": {},
     "output_type": "display_data"
    },
    {
     "data": {
      "text/latex": [
       "$\\displaystyle \\psi_{10}(e^{2} t_{2}^{2},{}^{5}T_{2},M=-2,{\\chi}) = |\\bar{{\\xi}} \\bar{{\\phi}} \\bar{{\\gamma}} \\bar{{\\zeta}}|$"
      ],
      "text/plain": [
       "<IPython.core.display.Math object>"
      ]
     },
     "metadata": {},
     "output_type": "display_data"
    },
    {
     "data": {
      "text/latex": [
       "$\\displaystyle \\textrm{(... and 14 other wave functions ...)}$"
      ],
      "text/plain": [
       "<IPython.core.display.Math object>"
      ]
     },
     "metadata": {},
     "output_type": "display_data"
    },
    {
     "data": {
      "text/html": [
       "<hr>"
      ],
      "text/plain": [
       "<IPython.core.display.HTML object>"
      ]
     },
     "metadata": {},
     "output_type": "display_data"
    }
   ],
   "source": [
    "print_all = False\n",
    "terms = {}\n",
    "collected = {}\n",
    "for k,v in t2e2.equiv_waves.items():\n",
    "    if k.terms[-1] not in terms:\n",
    "        terms[k.terms[-1]] = 0\n",
    "        collected[k.terms[-1]] = []\n",
    "    terms[k.terms[-1]] += 1\n",
    "    collected[k.terms[-1]].append((k,v))\n",
    "\n",
    "terms = OrderedDict()\n",
    "econfig_maker = lambda x,y: sp.Symbol(sp.latex(x).lower()) * sp.Symbol(sp.latex(y).lower())\n",
    "for wave_key, wave in t2e2.equiv_waves.items():\n",
    "    this_term = wave_key.terms[-1]\n",
    "    if this_term not in terms:\n",
    "        terms[this_term] = []\n",
    "    terms[this_term].append((wave_key,wave))\n",
    "    # display(wave.as_ket())\n",
    "sorted_terms = sorted(terms.keys(), key= lambda x: x[0])\n",
    "for term in sorted_terms:\n",
    "    terms[term] = list(sorted(terms[term], key=lambda x: str(x[0].γ)))\n",
    "counter = 0\n",
    "for term in sorted_terms:\n",
    "    display(HTML('<hr>'))\n",
    "    term_symb = sp.Symbol('{}^{%d}%s' % (term[0]*2+1, sp.latex(term[1])))\n",
    "    display(term_symb)\n",
    "    num_waves = len(terms[term])\n",
    "    for wave_key, wave in terms[term]:\n",
    "        e_config = sp.latex(reduce(sp.Mul,wave_key.electrons)).lower()\n",
    "        multiplicity = int(wave_key.S*2+1)\n",
    "        M = sp.latex(wave_key.M)\n",
    "        γ = sp.latex(wave_key.γ)\n",
    "        the_wave = sp.latex(as_det_ket(wave))\n",
    "        wave_line = '\\psi_{%d}(%s,%s,M=%s,%s) = %s' % (counter+1, e_config, term_symb, M, γ, the_wave)\n",
    "        counter += 1\n",
    "        display(Math(wave_line))\n",
    "        if not print_all:\n",
    "            if num_waves != 1:\n",
    "                plurality = 's' if (num_waves-1)>1 else ''\n",
    "                msg = '(... and %d other wave function%s ...)' % (num_waves-1, plurality)\n",
    "                display(Math('\\\\textrm{%s}' % msg))\n",
    "            break\n",
    "else:\n",
    "    display(HTML('<hr>'))"
   ]
  },
  {
   "cell_type": "code",
   "execution_count": 18,
   "metadata": {},
   "outputs": [
    {
     "data": {
      "text/html": [
       "<pre>✔️ 35.2 s (2021-12-30T17:07:49/2021-12-30T17:08:24)</pre>"
      ],
      "text/plain": [
       "<IPython.core.display.HTML object>"
      ]
     },
     "metadata": {},
     "output_type": "display_data"
    }
   ],
   "source": [
    "econfig = CrystalElectronsLLCoupling('O',[sp.Symbol('T_2'),5],[sp.Symbol('E'),3])"
   ]
  },
  {
   "cell_type": "code",
   "execution_count": 19,
   "metadata": {},
   "outputs": [
    {
     "data": {
      "text/html": [
       "<pre>✔️ 74 ms (2021-12-30T17:08:33/2021-12-30T17:08:33)</pre>"
      ],
      "text/plain": [
       "<IPython.core.display.HTML object>"
      ]
     },
     "metadata": {},
     "output_type": "display_data"
    },
    {
     "data": {
      "text/html": [
       "<hr>"
      ],
      "text/plain": [
       "<IPython.core.display.HTML object>"
      ]
     },
     "metadata": {},
     "output_type": "display_data"
    },
    {
     "data": {
      "text/latex": [
       "$\\displaystyle {}^{1}T_{2}$"
      ],
      "text/plain": [
       "{}^{1}T_{2}"
      ]
     },
     "metadata": {},
     "output_type": "display_data"
    },
    {
     "data": {
      "text/latex": [
       "$\\displaystyle \\psi_{1}(e^{3} t_{2}^{5},{}^{1}T_{2},M=0,{\\chi}) = - \\frac{\\sqrt{6} |\\bar{{\\phi}} {\\phi} \\bar{{\\xi}} {\\xi} \\bar{{\\chi}} \\bar{{\\gamma}} {\\gamma} {\\zeta}|}{4} - \\frac{\\sqrt{2} |\\bar{{\\phi}} {\\phi} \\bar{{\\xi}} {\\xi} \\bar{{\\chi}} \\bar{{\\zeta}} {\\zeta} {\\gamma}|}{4} + \\frac{\\sqrt{6} |\\bar{{\\phi}} {\\phi} \\bar{{\\xi}} {\\xi} {\\chi} \\bar{{\\gamma}} {\\gamma} \\bar{{\\zeta}}|}{4} + \\frac{\\sqrt{2} |\\bar{{\\phi}} {\\phi} \\bar{{\\xi}} {\\xi} {\\chi} \\bar{{\\zeta}} {\\zeta} \\bar{{\\gamma}}|}{4}$"
      ],
      "text/plain": [
       "<IPython.core.display.Math object>"
      ]
     },
     "metadata": {},
     "output_type": "display_data"
    },
    {
     "data": {
      "text/latex": [
       "$\\displaystyle \\psi_{2}(e^{3} t_{2}^{5},{}^{1}T_{2},M=0,{\\phi}) = \\frac{\\sqrt{6} |\\bar{{\\chi}} {\\chi} \\bar{{\\xi}} {\\xi} \\bar{{\\phi}} \\bar{{\\gamma}} {\\gamma} {\\zeta}|}{4} - \\frac{\\sqrt{2} |\\bar{{\\chi}} {\\chi} \\bar{{\\xi}} {\\xi} \\bar{{\\phi}} \\bar{{\\zeta}} {\\zeta} {\\gamma}|}{4} - \\frac{\\sqrt{6} |\\bar{{\\chi}} {\\chi} \\bar{{\\xi}} {\\xi} {\\phi} \\bar{{\\gamma}} {\\gamma} \\bar{{\\zeta}}|}{4} + \\frac{\\sqrt{2} |\\bar{{\\chi}} {\\chi} \\bar{{\\xi}} {\\xi} {\\phi} \\bar{{\\zeta}} {\\zeta} \\bar{{\\gamma}}|}{4}$"
      ],
      "text/plain": [
       "<IPython.core.display.Math object>"
      ]
     },
     "metadata": {},
     "output_type": "display_data"
    },
    {
     "data": {
      "text/latex": [
       "$\\displaystyle \\psi_{3}(e^{3} t_{2}^{5},{}^{1}T_{2},M=0,{\\xi}) = \\frac{\\sqrt{2} |\\bar{{\\chi}} {\\chi} \\bar{{\\phi}} {\\phi} \\bar{{\\xi}} \\bar{{\\zeta}} {\\zeta} {\\gamma}|}{2} - \\frac{\\sqrt{2} |\\bar{{\\chi}} {\\chi} \\bar{{\\phi}} {\\phi} {\\xi} \\bar{{\\zeta}} {\\zeta} \\bar{{\\gamma}}|}{2}$"
      ],
      "text/plain": [
       "<IPython.core.display.Math object>"
      ]
     },
     "metadata": {},
     "output_type": "display_data"
    },
    {
     "data": {
      "text/html": [
       "<hr>"
      ],
      "text/plain": [
       "<IPython.core.display.HTML object>"
      ]
     },
     "metadata": {},
     "output_type": "display_data"
    },
    {
     "data": {
      "text/latex": [
       "$\\displaystyle {}^{1}T_{1}$"
      ],
      "text/plain": [
       "{}^{1}T_{1}"
      ]
     },
     "metadata": {},
     "output_type": "display_data"
    },
    {
     "data": {
      "text/latex": [
       "$\\displaystyle \\psi_{4}(e^{3} t_{2}^{5},{}^{1}T_{1},M=0,{\\eta}) = \\frac{\\sqrt{2} |\\bar{{\\phi}} {\\phi} \\bar{{\\xi}} {\\xi} \\bar{{\\chi}} \\bar{{\\gamma}} {\\gamma} {\\zeta}|}{4} - \\frac{\\sqrt{6} |\\bar{{\\phi}} {\\phi} \\bar{{\\xi}} {\\xi} \\bar{{\\chi}} \\bar{{\\zeta}} {\\zeta} {\\gamma}|}{4} - \\frac{\\sqrt{2} |\\bar{{\\phi}} {\\phi} \\bar{{\\xi}} {\\xi} {\\chi} \\bar{{\\gamma}} {\\gamma} \\bar{{\\zeta}}|}{4} + \\frac{\\sqrt{6} |\\bar{{\\phi}} {\\phi} \\bar{{\\xi}} {\\xi} {\\chi} \\bar{{\\zeta}} {\\zeta} \\bar{{\\gamma}}|}{4}$"
      ],
      "text/plain": [
       "<IPython.core.display.Math object>"
      ]
     },
     "metadata": {},
     "output_type": "display_data"
    },
    {
     "data": {
      "text/latex": [
       "$\\displaystyle \\psi_{5}(e^{3} t_{2}^{5},{}^{1}T_{1},M=0,{\\mu}) = - \\frac{\\sqrt{2} |\\bar{{\\chi}} {\\chi} \\bar{{\\phi}} {\\phi} \\bar{{\\xi}} \\bar{{\\gamma}} {\\gamma} {\\zeta}|}{2} + \\frac{\\sqrt{2} |\\bar{{\\chi}} {\\chi} \\bar{{\\phi}} {\\phi} {\\xi} \\bar{{\\gamma}} {\\gamma} \\bar{{\\zeta}}|}{2}$"
      ],
      "text/plain": [
       "<IPython.core.display.Math object>"
      ]
     },
     "metadata": {},
     "output_type": "display_data"
    },
    {
     "data": {
      "text/latex": [
       "$\\displaystyle \\psi_{6}(e^{3} t_{2}^{5},{}^{1}T_{1},M=0,{\\nu}) = \\frac{\\sqrt{2} |\\bar{{\\chi}} {\\chi} \\bar{{\\xi}} {\\xi} \\bar{{\\phi}} \\bar{{\\gamma}} {\\gamma} {\\zeta}|}{4} + \\frac{\\sqrt{6} |\\bar{{\\chi}} {\\chi} \\bar{{\\xi}} {\\xi} \\bar{{\\phi}} \\bar{{\\zeta}} {\\zeta} {\\gamma}|}{4} - \\frac{\\sqrt{2} |\\bar{{\\chi}} {\\chi} \\bar{{\\xi}} {\\xi} {\\phi} \\bar{{\\gamma}} {\\gamma} \\bar{{\\zeta}}|}{4} - \\frac{\\sqrt{6} |\\bar{{\\chi}} {\\chi} \\bar{{\\xi}} {\\xi} {\\phi} \\bar{{\\zeta}} {\\zeta} \\bar{{\\gamma}}|}{4}$"
      ],
      "text/plain": [
       "<IPython.core.display.Math object>"
      ]
     },
     "metadata": {},
     "output_type": "display_data"
    },
    {
     "data": {
      "text/html": [
       "<hr>"
      ],
      "text/plain": [
       "<IPython.core.display.HTML object>"
      ]
     },
     "metadata": {},
     "output_type": "display_data"
    },
    {
     "data": {
      "text/latex": [
       "$\\displaystyle {}^{3}T_{2}$"
      ],
      "text/plain": [
       "{}^{3}T_{2}"
      ]
     },
     "metadata": {},
     "output_type": "display_data"
    },
    {
     "data": {
      "text/latex": [
       "$\\displaystyle \\psi_{7}(e^{3} t_{2}^{5},{}^{3}T_{2},M=-1,{\\chi}) = \\frac{\\sqrt{3} |\\bar{{\\phi}} {\\phi} \\bar{{\\xi}} {\\xi} \\bar{{\\chi}} \\bar{{\\gamma}} {\\gamma} \\bar{{\\zeta}}|}{2} + \\frac{|\\bar{{\\phi}} {\\phi} \\bar{{\\xi}} {\\xi} \\bar{{\\chi}} \\bar{{\\zeta}} {\\zeta} \\bar{{\\gamma}}|}{2}$"
      ],
      "text/plain": [
       "<IPython.core.display.Math object>"
      ]
     },
     "metadata": {},
     "output_type": "display_data"
    },
    {
     "data": {
      "text/latex": [
       "$\\displaystyle \\psi_{8}(e^{3} t_{2}^{5},{}^{3}T_{2},M=0,{\\chi}) = \\frac{\\sqrt{6} |\\bar{{\\phi}} {\\phi} \\bar{{\\xi}} {\\xi} \\bar{{\\chi}} \\bar{{\\gamma}} {\\gamma} {\\zeta}|}{4} + \\frac{\\sqrt{2} |\\bar{{\\phi}} {\\phi} \\bar{{\\xi}} {\\xi} \\bar{{\\chi}} \\bar{{\\zeta}} {\\zeta} {\\gamma}|}{4} + \\frac{\\sqrt{6} |\\bar{{\\phi}} {\\phi} \\bar{{\\xi}} {\\xi} {\\chi} \\bar{{\\gamma}} {\\gamma} \\bar{{\\zeta}}|}{4} + \\frac{\\sqrt{2} |\\bar{{\\phi}} {\\phi} \\bar{{\\xi}} {\\xi} {\\chi} \\bar{{\\zeta}} {\\zeta} \\bar{{\\gamma}}|}{4}$"
      ],
      "text/plain": [
       "<IPython.core.display.Math object>"
      ]
     },
     "metadata": {},
     "output_type": "display_data"
    },
    {
     "data": {
      "text/latex": [
       "$\\displaystyle \\psi_{9}(e^{3} t_{2}^{5},{}^{3}T_{2},M=1,{\\chi}) = \\frac{\\sqrt{3} |\\bar{{\\phi}} {\\phi} \\bar{{\\xi}} {\\xi} {\\chi} \\bar{{\\gamma}} {\\gamma} {\\zeta}|}{2} + \\frac{|\\bar{{\\phi}} {\\phi} \\bar{{\\xi}} {\\xi} {\\chi} \\bar{{\\zeta}} {\\zeta} {\\gamma}|}{2}$"
      ],
      "text/plain": [
       "<IPython.core.display.Math object>"
      ]
     },
     "metadata": {},
     "output_type": "display_data"
    },
    {
     "data": {
      "text/latex": [
       "$\\displaystyle \\psi_{10}(e^{3} t_{2}^{5},{}^{3}T_{2},M=-1,{\\phi}) = - \\frac{\\sqrt{3} |\\bar{{\\chi}} {\\chi} \\bar{{\\xi}} {\\xi} \\bar{{\\phi}} \\bar{{\\gamma}} {\\gamma} \\bar{{\\zeta}}|}{2} + \\frac{|\\bar{{\\chi}} {\\chi} \\bar{{\\xi}} {\\xi} \\bar{{\\phi}} \\bar{{\\zeta}} {\\zeta} \\bar{{\\gamma}}|}{2}$"
      ],
      "text/plain": [
       "<IPython.core.display.Math object>"
      ]
     },
     "metadata": {},
     "output_type": "display_data"
    },
    {
     "data": {
      "text/latex": [
       "$\\displaystyle \\psi_{11}(e^{3} t_{2}^{5},{}^{3}T_{2},M=0,{\\phi}) = - \\frac{\\sqrt{6} |\\bar{{\\chi}} {\\chi} \\bar{{\\xi}} {\\xi} \\bar{{\\phi}} \\bar{{\\gamma}} {\\gamma} {\\zeta}|}{4} + \\frac{\\sqrt{2} |\\bar{{\\chi}} {\\chi} \\bar{{\\xi}} {\\xi} \\bar{{\\phi}} \\bar{{\\zeta}} {\\zeta} {\\gamma}|}{4} - \\frac{\\sqrt{6} |\\bar{{\\chi}} {\\chi} \\bar{{\\xi}} {\\xi} {\\phi} \\bar{{\\gamma}} {\\gamma} \\bar{{\\zeta}}|}{4} + \\frac{\\sqrt{2} |\\bar{{\\chi}} {\\chi} \\bar{{\\xi}} {\\xi} {\\phi} \\bar{{\\zeta}} {\\zeta} \\bar{{\\gamma}}|}{4}$"
      ],
      "text/plain": [
       "<IPython.core.display.Math object>"
      ]
     },
     "metadata": {},
     "output_type": "display_data"
    },
    {
     "data": {
      "text/latex": [
       "$\\displaystyle \\psi_{12}(e^{3} t_{2}^{5},{}^{3}T_{2},M=1,{\\phi}) = - \\frac{\\sqrt{3} |\\bar{{\\chi}} {\\chi} \\bar{{\\xi}} {\\xi} {\\phi} \\bar{{\\gamma}} {\\gamma} {\\zeta}|}{2} + \\frac{|\\bar{{\\chi}} {\\chi} \\bar{{\\xi}} {\\xi} {\\phi} \\bar{{\\zeta}} {\\zeta} {\\gamma}|}{2}$"
      ],
      "text/plain": [
       "<IPython.core.display.Math object>"
      ]
     },
     "metadata": {},
     "output_type": "display_data"
    },
    {
     "data": {
      "text/latex": [
       "$\\displaystyle \\psi_{13}(e^{3} t_{2}^{5},{}^{3}T_{2},M=-1,{\\xi}) = - |\\bar{{\\chi}} {\\chi} \\bar{{\\phi}} {\\phi} \\bar{{\\xi}} \\bar{{\\zeta}} {\\zeta} \\bar{{\\gamma}}|$"
      ],
      "text/plain": [
       "<IPython.core.display.Math object>"
      ]
     },
     "metadata": {},
     "output_type": "display_data"
    },
    {
     "data": {
      "text/latex": [
       "$\\displaystyle \\psi_{14}(e^{3} t_{2}^{5},{}^{3}T_{2},M=0,{\\xi}) = - \\frac{\\sqrt{2} |\\bar{{\\chi}} {\\chi} \\bar{{\\phi}} {\\phi} \\bar{{\\xi}} \\bar{{\\zeta}} {\\zeta} {\\gamma}|}{2} - \\frac{\\sqrt{2} |\\bar{{\\chi}} {\\chi} \\bar{{\\phi}} {\\phi} {\\xi} \\bar{{\\zeta}} {\\zeta} \\bar{{\\gamma}}|}{2}$"
      ],
      "text/plain": [
       "<IPython.core.display.Math object>"
      ]
     },
     "metadata": {},
     "output_type": "display_data"
    },
    {
     "data": {
      "text/latex": [
       "$\\displaystyle \\psi_{15}(e^{3} t_{2}^{5},{}^{3}T_{2},M=1,{\\xi}) = - |\\bar{{\\chi}} {\\chi} \\bar{{\\phi}} {\\phi} {\\xi} \\bar{{\\zeta}} {\\zeta} {\\gamma}|$"
      ],
      "text/plain": [
       "<IPython.core.display.Math object>"
      ]
     },
     "metadata": {},
     "output_type": "display_data"
    },
    {
     "data": {
      "text/html": [
       "<hr>"
      ],
      "text/plain": [
       "<IPython.core.display.HTML object>"
      ]
     },
     "metadata": {},
     "output_type": "display_data"
    },
    {
     "data": {
      "text/latex": [
       "$\\displaystyle {}^{3}T_{1}$"
      ],
      "text/plain": [
       "{}^{3}T_{1}"
      ]
     },
     "metadata": {},
     "output_type": "display_data"
    },
    {
     "data": {
      "text/latex": [
       "$\\displaystyle \\psi_{16}(e^{3} t_{2}^{5},{}^{3}T_{1},M=-1,{\\eta}) = - \\frac{|\\bar{{\\phi}} {\\phi} \\bar{{\\xi}} {\\xi} \\bar{{\\chi}} \\bar{{\\gamma}} {\\gamma} \\bar{{\\zeta}}|}{2} + \\frac{\\sqrt{3} |\\bar{{\\phi}} {\\phi} \\bar{{\\xi}} {\\xi} \\bar{{\\chi}} \\bar{{\\zeta}} {\\zeta} \\bar{{\\gamma}}|}{2}$"
      ],
      "text/plain": [
       "<IPython.core.display.Math object>"
      ]
     },
     "metadata": {},
     "output_type": "display_data"
    },
    {
     "data": {
      "text/latex": [
       "$\\displaystyle \\psi_{17}(e^{3} t_{2}^{5},{}^{3}T_{1},M=0,{\\eta}) = - \\frac{\\sqrt{2} |\\bar{{\\phi}} {\\phi} \\bar{{\\xi}} {\\xi} \\bar{{\\chi}} \\bar{{\\gamma}} {\\gamma} {\\zeta}|}{4} + \\frac{\\sqrt{6} |\\bar{{\\phi}} {\\phi} \\bar{{\\xi}} {\\xi} \\bar{{\\chi}} \\bar{{\\zeta}} {\\zeta} {\\gamma}|}{4} - \\frac{\\sqrt{2} |\\bar{{\\phi}} {\\phi} \\bar{{\\xi}} {\\xi} {\\chi} \\bar{{\\gamma}} {\\gamma} \\bar{{\\zeta}}|}{4} + \\frac{\\sqrt{6} |\\bar{{\\phi}} {\\phi} \\bar{{\\xi}} {\\xi} {\\chi} \\bar{{\\zeta}} {\\zeta} \\bar{{\\gamma}}|}{4}$"
      ],
      "text/plain": [
       "<IPython.core.display.Math object>"
      ]
     },
     "metadata": {},
     "output_type": "display_data"
    },
    {
     "data": {
      "text/latex": [
       "$\\displaystyle \\psi_{18}(e^{3} t_{2}^{5},{}^{3}T_{1},M=1,{\\eta}) = - \\frac{|\\bar{{\\phi}} {\\phi} \\bar{{\\xi}} {\\xi} {\\chi} \\bar{{\\gamma}} {\\gamma} {\\zeta}|}{2} + \\frac{\\sqrt{3} |\\bar{{\\phi}} {\\phi} \\bar{{\\xi}} {\\xi} {\\chi} \\bar{{\\zeta}} {\\zeta} {\\gamma}|}{2}$"
      ],
      "text/plain": [
       "<IPython.core.display.Math object>"
      ]
     },
     "metadata": {},
     "output_type": "display_data"
    },
    {
     "data": {
      "text/latex": [
       "$\\displaystyle \\psi_{19}(e^{3} t_{2}^{5},{}^{3}T_{1},M=-1,{\\mu}) = |\\bar{{\\chi}} {\\chi} \\bar{{\\phi}} {\\phi} \\bar{{\\xi}} \\bar{{\\gamma}} {\\gamma} \\bar{{\\zeta}}|$"
      ],
      "text/plain": [
       "<IPython.core.display.Math object>"
      ]
     },
     "metadata": {},
     "output_type": "display_data"
    },
    {
     "data": {
      "text/latex": [
       "$\\displaystyle \\psi_{20}(e^{3} t_{2}^{5},{}^{3}T_{1},M=0,{\\mu}) = \\frac{\\sqrt{2} |\\bar{{\\chi}} {\\chi} \\bar{{\\phi}} {\\phi} \\bar{{\\xi}} \\bar{{\\gamma}} {\\gamma} {\\zeta}|}{2} + \\frac{\\sqrt{2} |\\bar{{\\chi}} {\\chi} \\bar{{\\phi}} {\\phi} {\\xi} \\bar{{\\gamma}} {\\gamma} \\bar{{\\zeta}}|}{2}$"
      ],
      "text/plain": [
       "<IPython.core.display.Math object>"
      ]
     },
     "metadata": {},
     "output_type": "display_data"
    },
    {
     "data": {
      "text/latex": [
       "$\\displaystyle \\psi_{21}(e^{3} t_{2}^{5},{}^{3}T_{1},M=1,{\\mu}) = |\\bar{{\\chi}} {\\chi} \\bar{{\\phi}} {\\phi} {\\xi} \\bar{{\\gamma}} {\\gamma} {\\zeta}|$"
      ],
      "text/plain": [
       "<IPython.core.display.Math object>"
      ]
     },
     "metadata": {},
     "output_type": "display_data"
    },
    {
     "data": {
      "text/latex": [
       "$\\displaystyle \\psi_{22}(e^{3} t_{2}^{5},{}^{3}T_{1},M=-1,{\\nu}) = - \\frac{|\\bar{{\\chi}} {\\chi} \\bar{{\\xi}} {\\xi} \\bar{{\\phi}} \\bar{{\\gamma}} {\\gamma} \\bar{{\\zeta}}|}{2} - \\frac{\\sqrt{3} |\\bar{{\\chi}} {\\chi} \\bar{{\\xi}} {\\xi} \\bar{{\\phi}} \\bar{{\\zeta}} {\\zeta} \\bar{{\\gamma}}|}{2}$"
      ],
      "text/plain": [
       "<IPython.core.display.Math object>"
      ]
     },
     "metadata": {},
     "output_type": "display_data"
    },
    {
     "data": {
      "text/latex": [
       "$\\displaystyle \\psi_{23}(e^{3} t_{2}^{5},{}^{3}T_{1},M=0,{\\nu}) = - \\frac{\\sqrt{2} |\\bar{{\\chi}} {\\chi} \\bar{{\\xi}} {\\xi} \\bar{{\\phi}} \\bar{{\\gamma}} {\\gamma} {\\zeta}|}{4} - \\frac{\\sqrt{6} |\\bar{{\\chi}} {\\chi} \\bar{{\\xi}} {\\xi} \\bar{{\\phi}} \\bar{{\\zeta}} {\\zeta} {\\gamma}|}{4} - \\frac{\\sqrt{2} |\\bar{{\\chi}} {\\chi} \\bar{{\\xi}} {\\xi} {\\phi} \\bar{{\\gamma}} {\\gamma} \\bar{{\\zeta}}|}{4} - \\frac{\\sqrt{6} |\\bar{{\\chi}} {\\chi} \\bar{{\\xi}} {\\xi} {\\phi} \\bar{{\\zeta}} {\\zeta} \\bar{{\\gamma}}|}{4}$"
      ],
      "text/plain": [
       "<IPython.core.display.Math object>"
      ]
     },
     "metadata": {},
     "output_type": "display_data"
    },
    {
     "data": {
      "text/latex": [
       "$\\displaystyle \\psi_{24}(e^{3} t_{2}^{5},{}^{3}T_{1},M=1,{\\nu}) = - \\frac{|\\bar{{\\chi}} {\\chi} \\bar{{\\xi}} {\\xi} {\\phi} \\bar{{\\gamma}} {\\gamma} {\\zeta}|}{2} - \\frac{\\sqrt{3} |\\bar{{\\chi}} {\\chi} \\bar{{\\xi}} {\\xi} {\\phi} \\bar{{\\zeta}} {\\zeta} {\\gamma}|}{2}$"
      ],
      "text/plain": [
       "<IPython.core.display.Math object>"
      ]
     },
     "metadata": {},
     "output_type": "display_data"
    },
    {
     "data": {
      "text/html": [
       "<hr>"
      ],
      "text/plain": [
       "<IPython.core.display.HTML object>"
      ]
     },
     "metadata": {},
     "output_type": "display_data"
    }
   ],
   "source": [
    "print_all = True\n",
    "terms = {}\n",
    "collected = {}\n",
    "for k,v in econfig.equiv_waves.items():\n",
    "    if k.terms[-1] not in terms:\n",
    "        terms[k.terms[-1]] = 0\n",
    "        collected[k.terms[-1]] = []\n",
    "    terms[k.terms[-1]] += 1\n",
    "    collected[k.terms[-1]].append((k,v))\n",
    "\n",
    "terms = OrderedDict()\n",
    "econfig_maker = lambda x,y: sp.Symbol(sp.latex(x).lower()) * sp.Symbol(sp.latex(y).lower())\n",
    "for wave_key, wave in econfig.equiv_waves.items():\n",
    "    this_term = wave_key.terms[-1]\n",
    "    if this_term not in terms:\n",
    "        terms[this_term] = []\n",
    "    terms[this_term].append((wave_key,wave))\n",
    "    # display(wave.as_ket())\n",
    "sorted_terms = sorted(terms.keys(), key= lambda x: x[0])\n",
    "for term in sorted_terms:\n",
    "    terms[term] = list(sorted(terms[term], key=lambda x: str(x[0].γ)))\n",
    "counter = 0\n",
    "for term in sorted_terms:\n",
    "    display(HTML('<hr>'))\n",
    "    term_symb = sp.Symbol('{}^{%d}%s' % (term[0]*2+1, sp.latex(term[1])))\n",
    "    display(term_symb)\n",
    "    num_waves = len(terms[term])\n",
    "    for wave_key, wave in terms[term]:\n",
    "        e_config = sp.latex(reduce(sp.Mul,wave_key.electrons)).lower()\n",
    "        multiplicity = int(wave_key.S*2+1)\n",
    "        M = sp.latex(wave_key.M)\n",
    "        γ = sp.latex(wave_key.γ)\n",
    "        the_wave = sp.latex(as_det_ket(wave))\n",
    "        wave_line = '\\psi_{%d}(%s,%s,M=%s,%s) = %s' % (counter+1, e_config, term_symb, M, γ, the_wave)\n",
    "        counter += 1\n",
    "        display(Math(wave_line))\n",
    "        if not print_all:\n",
    "            if num_waves != 1:\n",
    "                plurality = 's' if (num_waves-1)>1 else ''\n",
    "                msg = '(... and %d other wave function%s ...)' % (num_waves-1, plurality)\n",
    "                display(Math('\\\\textrm{%s}' % msg))\n",
    "            break\n",
    "else:\n",
    "    display(HTML('<hr>'))"
   ]
  },
  {
   "cell_type": "markdown",
   "metadata": {},
   "source": [
    "# Like-to-like Coupling \"LL coupling\""
   ]
  },
  {
   "cell_type": "code",
   "execution_count": 333,
   "metadata": {},
   "outputs": [
    {
     "data": {
      "text/html": [
       "<pre>✔️ 35.3 ms (2021-12-15T17:23:23/2021-12-15T17:23:23)</pre>"
      ],
      "text/plain": [
       "<IPython.core.display.HTML object>"
      ]
     },
     "metadata": {},
     "output_type": "display_data"
    }
   ],
   "source": [
    "from collections import namedtuple\n",
    "from functools import reduce\n",
    "Ψ = namedtuple('Ψ',['electrons','terms','γ','S','M']) "
   ]
  },
  {
   "cell_type": "code",
   "execution_count": 423,
   "metadata": {},
   "outputs": [
    {
     "data": {
      "text/html": [
       "<pre>✔️ 9.77 ms (2021-12-15T18:47:59/2021-12-15T18:47:59)</pre>"
      ],
      "text/plain": [
       "<IPython.core.display.HTML object>"
      ]
     },
     "metadata": {},
     "output_type": "display_data"
    }
   ],
   "source": [
    "class CrystalElectronsSCoupling():\n",
    "    '''\n",
    "    Couple electrons in sequence.\n",
    "    '''\n",
    "    remember_remember = {}\n",
    "    def __init__(self, group_label, Γs):\n",
    "        self.Γs = Γs\n",
    "        self.group_label = group_label\n",
    "        self.group = CPGs.get_group_by_label(self.group_label)\n",
    "        self.group_CGs = self.group.CG_coefficients\n",
    "        self.flat_labels = dict(sum([list(l.items()) for l in list(new_labels[self.group_label].values())],[]))\n",
    "        self.group_CGs = {(self.flat_labels[k[0]], self.flat_labels[k[1]], self.flat_labels[k[2]]):v for k,v in self.group_CGs.items()}\n",
    "        self.irreps = self.group.irrep_labels\n",
    "        self.ms = [-sp.S(1)/2,sp.S(1)/2]\n",
    "        self.s_half = sp.S(1)/2\n",
    "        self.component_labels = {k:list(v.values()) for k,v in new_labels[self.group_label].items()}\n",
    "        self.inequiv_waves = self.elec_aggregate(self.Γs)\n",
    "        if len(self.Γs) == 1:\n",
    "            self.equiv_waves = self.inequiv_waves\n",
    "        else:\n",
    "            self.equiv_waves = self.to_equiv_electrons()\n",
    "\n",
    "    def qet_divide(self, qet0, qet1):\n",
    "        '''\n",
    "        Given   two   qets,   assumed   to   be   superpositions  of\n",
    "        determinantal states. Determine if they are collinear and if\n",
    "        they are, provide their ratio.\n",
    "\n",
    "        Parameters\n",
    "        ----------\n",
    "        qet0    (qdef.Qet) : a qet with determinantal keys.\n",
    "        qet1    (qdef.Qet) : a qet with determinantal keys.\n",
    "\n",
    "        Returns\n",
    "        -------\n",
    "        ratio (num): 0 if qets are not collinear, otherwise equal to\n",
    "        qet0/qet1.\n",
    "\n",
    "\n",
    "        '''\n",
    "        if len(qet0.dict) != len(qet1.dict):\n",
    "            return 0\n",
    "        set0 = frozenset(map(frozenset,qet0.dict.keys()))\n",
    "        set1 = frozenset(map(frozenset,qet1.dict.keys()))\n",
    "        num_parts = len(qet0.dict)\n",
    "        # a necessary condition for them to be possibly collinear\n",
    "        # is that they should have have the same sets of quantum\n",
    "        # numbers.\n",
    "        if set0 != set1:\n",
    "            return 0\n",
    "        else:\n",
    "            ratios = []\n",
    "            # iterate over the quantum nums of the first qet\n",
    "            for qet_key_0, qet_val_0 in qet0.dict.items():\n",
    "                set0 = set(qet_key_0)\n",
    "                # and determine the ratio that it has\n",
    "                # to all of the parts of the other qet\n",
    "                # allowing for reaarangmenets valid\n",
    "                # under determinantal state rules\n",
    "                for qet_key_1, qet_val_1 in qet1.dict.items():\n",
    "                    set1 = set(qet_key_1)\n",
    "                    if set0 == set1:\n",
    "                        ordering = [qet_key_0.index(qk) for qk in qet_key_1]\n",
    "                        sign = εijk(*ordering)\n",
    "                        ratios.append(sign * qet_val_0/qet_val_1)\n",
    "                        continue\n",
    "        if ratios == []:\n",
    "            return 0\n",
    "        else:\n",
    "            # if all of the ratios are equal\n",
    "            # then the ratio of the two qets\n",
    "            # is well defined\n",
    "            if len(set(ratios)) == 1 and len(ratios) == num_parts:\n",
    "                return ratios[0]\n",
    "            else:\n",
    "                return 0\n",
    "\n",
    "    def det_qet_simplify(self, qet):\n",
    "        equivalent_parts = {}\n",
    "        standard_order = {} # this holds the standard order to which all the other list members will be referred to\n",
    "        for ket_part_key, ket_part_coeff in qet.dict.items():\n",
    "            set_ket = frozenset(ket_part_key)\n",
    "            if set_ket not in equivalent_parts:\n",
    "                equivalent_parts[set_ket] = []\n",
    "                standard_order[set_ket] = ket_part_key\n",
    "            equivalent_parts[set_ket].append((ket_part_key, ket_part_coeff))\n",
    "        # once I've grouped them together into pices of equivalent parts\n",
    "        # i then need to rearrange and properly sign the rearrangements\n",
    "        det_simple = []\n",
    "        for equivalent_key in equivalent_parts:\n",
    "            base_order = standard_order[equivalent_key]\n",
    "            total_coeff = 0\n",
    "            equiv_parts = equivalent_parts[equivalent_key]\n",
    "            for equiv_part in equiv_parts:\n",
    "                ordering = [base_order.index(part) for part in equiv_part[0]]\n",
    "                sign = εijk(*ordering)\n",
    "                total_coeff += sign*equiv_part[1]\n",
    "            final = (base_order, total_coeff)\n",
    "            if total_coeff != 0:\n",
    "                det_simple.append(final)\n",
    "        return det_simple\n",
    "\n",
    "    def adder(self, ψ_12s, Γ3):\n",
    "        '''\n",
    "        This function gets a dictionary of wave functions\n",
    "        and an additional electron that needs to be added\n",
    "        to them.\n",
    "        '''\n",
    "        #>2 this is called with Γ3\n",
    "        ψ_123s = {}\n",
    "        comps_3 = self.component_labels[Γ3]\n",
    "        s3 = sp.S(1)/2\n",
    "\n",
    "        for ψ_12, qet_12 in ψ_12s.items():\n",
    "            electrons = ψ_12.electrons\n",
    "            terms = ψ_12.terms\n",
    "            Γ12 = terms[-1][1]\n",
    "            γ12 = ψ_12.γ\n",
    "            S12, M12 = ψ_12.S, ψ_12.M\n",
    "            S123s = lrange(S12, s3)\n",
    "            Γ123s = self.group.product_table.odict[(Γ12, Γ3)] # these are the possible Γs from Γ12XΓ3\n",
    "            for Γ123, S123 in product(Γ123s, S123s):\n",
    "                M123s = mrange(S123)\n",
    "                γ123s = self.component_labels[Γ123]\n",
    "                for γ123, m3, γ3, M123 in product(γ123s, self.ms, comps_3, M123s):\n",
    "                    sCG2 = clebschG.eva(S12, s3, S123, M12, m3, M123)\n",
    "                    # coupling a γ12, γ3 to get a final γ\n",
    "                    gCG2 = self.group_CGs.setdefault((γ12, γ3, γ123), 0)\n",
    "                    coeff = sCG2 * gCG2\n",
    "                    if coeff == 0:\n",
    "                        continue\n",
    "                    ψ_123 = Ψ(electrons = electrons + (Γ3,),\n",
    "                                terms = terms + ((S123,Γ123),),\n",
    "                                    γ = γ123,\n",
    "                                    S = S123,\n",
    "                                    M = M123\n",
    "                            )\n",
    "                    if ψ_123 not in ψ_123s:\n",
    "                        ψ_123s[ψ_123] = Qet({})\n",
    "                    γ3f = (γ3 if (m3 > 0) else bar_symbol(γ3))\n",
    "                    ψ_123s[ψ_123] = ψ_123s[ψ_123] + (qet_12 * Qet({(γ3f,): coeff}))\n",
    "        return ψ_123s\n",
    "\n",
    "    def elec_aggregate(self, Γs):\n",
    "        if len(Γs) == 0:\n",
    "            return {}\n",
    "        elif len(Γs) == 1:\n",
    "            Γ1 = Γs[0]\n",
    "            S = self.s_half\n",
    "            ms = mrange(S)\n",
    "            comps_1 = self.component_labels[Γ1]\n",
    "            ψs = {}\n",
    "            for m, γ in product(ms, comps_1):\n",
    "                ψ = Ψ(electrons = (Γ1,),\n",
    "                        terms = ((S,Γ1),),\n",
    "                        γ = γ,\n",
    "                        S = S,\n",
    "                        M = m\n",
    "                        )\n",
    "                γf = (γ if (m > 0) else bar_symbol(γ))\n",
    "                total_ket_part_key = (γf,)\n",
    "                if ψ not in ψs:\n",
    "                    ψs[ψ] = {}\n",
    "                if total_ket_part_key not in ψs[ψ]:\n",
    "                    ψs[ψ][total_ket_part_key] = 0\n",
    "                ψs[ψ][total_ket_part_key] = 1\n",
    "            ψs = {k : Qet(v) for k,v in ψs.items()} \n",
    "            return ψs\n",
    "        elif len(Γs) == 2:\n",
    "            s1, s2 = self.s_half, self.s_half\n",
    "            Γ1, Γ2 = Γs\n",
    "            comps_1, comps_2 = [self.component_labels[ir] for ir in [Γ1, Γ2]]\n",
    "            Γ12s = self.group.product_table.odict[(Γ1, Γ2)] # the intermediate irreps belong to the reduction of Γ1 X Γ2\n",
    "            S12s = lrange(s1,s2) # this is just [0,1] as for the total angular momentum of the intermediate states\n",
    "            ψ_12s = {}\n",
    "\n",
    "            for γ1, γ2, m1, m2, Γ12, S12 in product(comps_1, comps_2, self.ms, self.ms, Γ12s, S12s):\n",
    "                comps_12 = self.component_labels[Γ12]\n",
    "                M12s = mrange(S12)\n",
    "                for γ12, M12 in product(comps_12, M12s):\n",
    "                    ψ = Ψ(electrons = (Γ1, Γ2),\n",
    "                        terms = ((s1,Γ1),(s2,Γ2),(S12,Γ12)),\n",
    "                        γ = γ12,\n",
    "                        S = S12,\n",
    "                        M = M12\n",
    "                        )\n",
    "                    # summing s1 and s2 to yield S12\n",
    "                    sCG1 = clebschG.eva(s1, s2, S12, m1, m2, M12)\n",
    "                    # coupling a γ1, γ2 to get a γ12\n",
    "                    gCG1 = self.group_CGs.setdefault((γ1, γ2, γ12), 0)\n",
    "                    coeff = sCG1 * gCG1\n",
    "                    if coeff == 0:\n",
    "                        continue\n",
    "                    # collect in the dictionary all the parts that correspond to the sums\n",
    "                    if ψ not in ψ_12s:\n",
    "                        ψ_12s[ψ] = {}\n",
    "                    γ1f = (γ1 if (m1 > 0) else bar_symbol(γ1))\n",
    "                    γ2f = (γ2 if (m2 > 0) else bar_symbol(γ2))\n",
    "                    total_ket_part_key = (γ1f, γ2f)\n",
    "                    if total_ket_part_key not in ψ_12s[ψ]:\n",
    "                        ψ_12s[ψ][total_ket_part_key] = 0\n",
    "                    ψ_12s[ψ][total_ket_part_key] += coeff\n",
    "            ψ_12s = {k : Qet(v) for k,v in ψ_12s.items()} \n",
    "            # print(\"returning %d qets\" % len(ψ_12s))\n",
    "            return ψ_12s\n",
    "        else:\n",
    "            Γ_train, Γ_last = Γs[:-1], Γs[-1]\n",
    "            # decimate until only two electrons are added\n",
    "            ψ_totals = self.adder(\n",
    "                            self.elec_aggregate(Γ_train),\n",
    "                            Γ_last\n",
    "                                 )\n",
    "            # print(\"returning %d qets\" % len(ψ_totals))\n",
    "            return ψ_totals\n",
    "        \n",
    "    def to_equiv_electrons(self):\n",
    "        # To account for electrons being equivalent it suffices to interpret each\n",
    "        # tuple of symbols under the keys of each qet to be a slater determinant\n",
    "        # in turn this allows simplifying the qets to account for the symmetries\n",
    "        # under exchange of symbols/electrons inside the keys\n",
    "\n",
    "        ψ_totals = self.inequiv_waves\n",
    "        # print(\"Calculating equivalent electron determinantal states ...\")\n",
    "        # print(\"Starting from %d qets ...\" % len(ψ_totals))\n",
    "        simplified_kets = {}\n",
    "        for ψ_123, qet_123 in ψ_totals.items():\n",
    "            qet_simplified = self.det_qet_simplify(qet_123)\n",
    "            if len(qet_simplified) != 0:\n",
    "                    simplified_kets[ψ_123] = Qet(dict(qet_simplified))\n",
    "                    the_normalizer = 1/simplified_kets[ψ_123].norm()\n",
    "                    simplified_kets[ψ_123] = the_normalizer*simplified_kets[ψ_123]\n",
    "\n",
    "        # The same qet might have been arrived at by different paths, the only\n",
    "        # difference begin an overall phase.\n",
    "        # This last step only keeps the qets that are non-equivalent.\n",
    "\n",
    "        full_det_qets = []\n",
    "        qsymbs = []\n",
    "        for total_ket_key_0, simple_ket_0 in simplified_kets.items():\n",
    "            ratios = []\n",
    "            for simple_ket_1 in full_det_qets:\n",
    "                divvy = self.qet_divide(simple_ket_0, simple_ket_1)\n",
    "                ratios.append(divvy==0)\n",
    "            ratios = sum(ratios)\n",
    "            if ratios == len(full_det_qets):\n",
    "                full_det_qets.append(simple_ket_0)\n",
    "                qsymbs.append(total_ket_key_0)\n",
    "        full_det_qets = dict(zip(qsymbs, full_det_qets))\n",
    "        # print(\"Ending with %d qets ...\" % len(full_det_qets))\n",
    "        return full_det_qets"
   ]
  },
  {
   "cell_type": "code",
   "execution_count": 440,
   "metadata": {},
   "outputs": [
    {
     "data": {
      "text/html": [
       "<pre>✔️ 3.86 ms (2021-12-15T19:03:02/2021-12-15T19:03:02)</pre>"
      ],
      "text/plain": [
       "<IPython.core.display.HTML object>"
      ]
     },
     "metadata": {},
     "output_type": "display_data"
    }
   ],
   "source": [
    "class CrystalElectronsLLcoupling():\n",
    "    '''\n",
    "    Couple two groups of electrons.\n",
    "    '''\n",
    "    def __init__(self, group_label, Γ1s, Γ2s):\n",
    "        '''\n",
    "        group_label (str): label for a crystallographic point group\n",
    "        Γ1s    (2-tuple): (irrep_symbol (sp.Symbol), num_electrons (int))\n",
    "        Γ2s    (2-tuple): (irrep_symbol (sp.Symbol), num_electrons (int))\n",
    "        '''\n",
    "        if len(Γ1s) == 0:\n",
    "            self.Γ1s = []\n",
    "        else:\n",
    "            self.Γ1s = [Γ1s[0] for _ in range(Γ1s[1])]\n",
    "        if len(Γ2s) == 0:\n",
    "            self.Γ2s = []\n",
    "        else:\n",
    "            self.Γ2s = [Γ2s[0] for _ in range(Γ2s[1])]\n",
    "        self.crystalelectron0 = CrystalElectronsSCoupling(group_label, self.Γ1s)\n",
    "        self.crystalelectron1 = CrystalElectronsSCoupling(group_label, self.Γ2s)\n",
    "        self.group_label = group_label\n",
    "        self.group = CPGs.get_group_by_label(self.group_label)\n",
    "        self.group_CGs = self.group.CG_coefficients\n",
    "        self.flat_labels = dict(sum([list(l.items()) for l in list(new_labels[self.group_label].values())],[]))\n",
    "        self.group_CGs = {(self.flat_labels[k[0]], self.flat_labels[k[1]], self.flat_labels[k[2]]):v for k,v in self.group_CGs.items()}\n",
    "        self.irreps = self.group.irrep_labels\n",
    "        self.ms = [-sp.S(1)/2,sp.S(1)/2]\n",
    "        self.s_half = sp.S(1)/2\n",
    "        self.component_labels = {k:list(v.values()) for k,v in new_labels[self.group_label].items()}\n",
    "        self.equiv_waves = self.wave_muxer(self.crystalelectron0.equiv_waves,\n",
    "                                     self.crystalelectron1.equiv_waves)\n",
    "        self.equiv_waves = self.to_equiv_electrons(self.equiv_waves)\n",
    "\n",
    "    def wave_muxer(self, ψ_12s, ψ_34s):\n",
    "        '''\n",
    "        Takes two dictionaries of wavefunctions and couples them.\n",
    "        '''\n",
    "        if len(ψ_34s)== 0:\n",
    "            return ψ_12s\n",
    "        if len(ψ_12s) == 0:\n",
    "            return ψ_34s\n",
    "        ψ_1234s = {}\n",
    "        for ψ_12, qet_12 in ψ_12s.items():\n",
    "            electrons12 = ψ_12.electrons\n",
    "            terms12 = ψ_12.terms\n",
    "            Γ12 = terms12[-1][1]\n",
    "            γ12 = ψ_12.γ\n",
    "            S12, M12 = ψ_12.S, ψ_12.M\n",
    "            for ψ_34, qet_34 in ψ_34s.items():\n",
    "                electrons34 = ψ_34.electrons\n",
    "                terms34 = ψ_34.terms\n",
    "                Γ34 = terms34[-1][1]\n",
    "                γ34 = ψ_34.γ\n",
    "                S34, M34 = ψ_34.S, ψ_34.M\n",
    "                S1234s = lrange(S12, S34)\n",
    "                Γ1234s = self.group.product_table.odict[(Γ12, Γ34)]\n",
    "                for Γ1234, S1234 in product(Γ1234s, S1234s):\n",
    "                    M1234s = mrange(S1234)\n",
    "                    γ1234s = component_labels[Γ1234]\n",
    "                    for γ1234, M1234 in product(γ1234s, M1234s):\n",
    "                        sCG2 = clebschG.eva(S12, S34, S1234, M12, M34, M1234)\n",
    "                        # coupling a γ12, γ3 to get a final γ\n",
    "                        gCG2 = self.group_CGs.setdefault((γ12, γ34, γ1234), 0)\n",
    "                        coeff = sCG2 * gCG2\n",
    "                        if coeff == 0:\n",
    "                            continue\n",
    "                        ψ_1234 = Ψ(electrons = electrons12 + electrons34,\n",
    "                                    terms = (terms12[-1], terms34[-1],(S1234, Γ1234)),\n",
    "                                        γ = γ1234,\n",
    "                                        S = S1234,\n",
    "                                        M = M1234\n",
    "                                )\n",
    "                        if ψ_1234 not in ψ_1234s:\n",
    "                            ψ_1234s[ψ_1234] = Qet({})\n",
    "                        # γ3f = (γ3 if (m3 > 0) else bar_symbol(γ3))\n",
    "                        ψ_1234s[ψ_1234] = ψ_1234s[ψ_1234] + coeff* (qet_12 * qet_34)\n",
    "        return ψ_1234s\n",
    "\n",
    "    def qet_divide(self, qet0, qet1):\n",
    "        '''\n",
    "        Given   two   qets,   assumed   to   be   superpositions  of\n",
    "        determinantal states. Determine if they are collinear and if\n",
    "        they are, provide their ratio.\n",
    "\n",
    "        Parameters\n",
    "        ----------\n",
    "        qet0    (qdef.Qet) : a qet with determinantal keys.\n",
    "        qet1    (qdef.Qet) : a qet with determinantal keys.\n",
    "\n",
    "        Returns\n",
    "        -------\n",
    "        ratio (num): 0 if qets are not collinear, otherwise equal to\n",
    "        qet0/qet1.\n",
    "\n",
    "\n",
    "        '''\n",
    "        if len(qet0.dict) != len(qet1.dict):\n",
    "            return 0\n",
    "        set0 = frozenset(map(frozenset,qet0.dict.keys()))\n",
    "        set1 = frozenset(map(frozenset,qet1.dict.keys()))\n",
    "        num_parts = len(qet0.dict)\n",
    "        # a necessary condition for them to be possibly collinear\n",
    "        # is that they should have have the same sets of quantum\n",
    "        # numbers.\n",
    "        if set0 != set1:\n",
    "            return 0\n",
    "        else:\n",
    "            ratios = []\n",
    "            # iterate over the quantum nums of the first qet\n",
    "            for qet_key_0, qet_val_0 in qet0.dict.items():\n",
    "                set0 = set(qet_key_0)\n",
    "                # and determine the ratio that it has\n",
    "                # to all of the parts of the other qet\n",
    "                # allowing for reaarangmenets valid\n",
    "                # under determinantal state rules\n",
    "                for qet_key_1, qet_val_1 in qet1.dict.items():\n",
    "                    set1 = set(qet_key_1)\n",
    "                    if set0 == set1:\n",
    "                        ordering = [qet_key_0.index(qk) for qk in qet_key_1]\n",
    "                        sign = εijk(*ordering)\n",
    "                        ratios.append(sign * qet_val_0/qet_val_1)\n",
    "                        continue\n",
    "        if ratios == []:\n",
    "            return 0\n",
    "        else:\n",
    "            # if all of the ratios are equal\n",
    "            # then the ratio of the two qets\n",
    "            # is well defined\n",
    "            if len(set(ratios)) == 1 and len(ratios) == num_parts:\n",
    "                return ratios[0]\n",
    "            else:\n",
    "                return 0\n",
    "\n",
    "    def det_qet_simplify(self, qet):\n",
    "        equivalent_parts = {}\n",
    "        standard_order = {} # this holds the standard order to which all the other list members will be referred to\n",
    "        for ket_part_key, ket_part_coeff in qet.dict.items():\n",
    "            set_ket = frozenset(ket_part_key)\n",
    "            if set_ket not in equivalent_parts:\n",
    "                equivalent_parts[set_ket] = []\n",
    "                standard_order[set_ket] = ket_part_key\n",
    "            equivalent_parts[set_ket].append((ket_part_key, ket_part_coeff))\n",
    "        # once I've grouped them together into pices of equivalent parts\n",
    "        # i then need to rearrange and properly sign the rearrangements\n",
    "        det_simple = []\n",
    "        for equivalent_key in equivalent_parts:\n",
    "            base_order = standard_order[equivalent_key]\n",
    "            total_coeff = 0\n",
    "            equiv_parts = equivalent_parts[equivalent_key]\n",
    "            for equiv_part in equiv_parts:\n",
    "                ordering = [base_order.index(part) for part in equiv_part[0]]\n",
    "                sign = εijk(*ordering)\n",
    "                total_coeff += sign*equiv_part[1]\n",
    "            final = (base_order, total_coeff)\n",
    "            if total_coeff != 0:\n",
    "                det_simple.append(final)\n",
    "        return det_simple\n",
    "\n",
    "    def to_equiv_electrons(self, waves):\n",
    "        # To account for electrons being equivalent it suffices to interpret each\n",
    "        # tuple of symbols under the keys of each qet to be a slater determinant\n",
    "        # in turn this allows simplifying the qets to account for the symmetries\n",
    "        # under exchange of symbols/electrons inside the keys\n",
    "\n",
    "        ψ_totals = waves\n",
    "        # print(\"Calculating equivalent electron determinantal states ...\")\n",
    "        # print(\"Starting from %d qets ...\" % len(ψ_totals))\n",
    "        simplified_kets = {}\n",
    "        for ψ_123, qet_123 in ψ_totals.items():\n",
    "            qet_simplified = self.det_qet_simplify(qet_123)\n",
    "            if len(qet_simplified) != 0:\n",
    "                    simplified_kets[ψ_123] = Qet(dict(qet_simplified))\n",
    "                    the_normalizer = 1/simplified_kets[ψ_123].norm()\n",
    "                    simplified_kets[ψ_123] = the_normalizer*simplified_kets[ψ_123]\n",
    "\n",
    "        # The same qet might have been arrived at by different paths, the only\n",
    "        # difference begin an overall phase.\n",
    "        # This last step only keeps the qets that are non-equivalent.\n",
    "\n",
    "        full_det_qets = []\n",
    "        qsymbs = []\n",
    "        for total_ket_key_0, simple_ket_0 in simplified_kets.items():\n",
    "            ratios = []\n",
    "            for simple_ket_1 in full_det_qets:\n",
    "                divvy = self.qet_divide(simple_ket_0, simple_ket_1)\n",
    "                ratios.append(divvy==0)\n",
    "            ratios = sum(ratios)\n",
    "            if ratios == len(full_det_qets):\n",
    "                full_det_qets.append(simple_ket_0)\n",
    "                qsymbs.append(total_ket_key_0)\n",
    "        full_det_qets = dict(zip(qsymbs, full_det_qets))\n",
    "        return full_det_qets"
   ]
  },
  {
   "cell_type": "code",
   "execution_count": 448,
   "metadata": {},
   "outputs": [
    {
     "data": {
      "text/html": [
       "<pre>✔️ 139 ms (2021-12-15T19:03:42/2021-12-15T19:03:42)</pre>"
      ],
      "text/plain": [
       "<IPython.core.display.HTML object>"
      ]
     },
     "metadata": {},
     "output_type": "display_data"
    }
   ],
   "source": [
    "multi_wave_functions = CrystalElectronsLLcoupling('O',[sp.Symbol('E'),3], [sp.Symbol('T_1'),2])"
   ]
  },
  {
   "cell_type": "markdown",
   "metadata": {},
   "source": [
    "# Coupling more than a single electron to a set of wavefunctions"
   ]
  },
  {
   "cell_type": "code",
   "execution_count": 327,
   "metadata": {},
   "outputs": [
    {
     "data": {
      "text/html": [
       "<pre>✔️ 30.9 ms (2021-12-15T17:21:28/2021-12-15T17:21:28)</pre>"
      ],
      "text/plain": [
       "<IPython.core.display.HTML object>"
      ]
     },
     "metadata": {},
     "output_type": "display_data"
    }
   ],
   "source": [
    "from collections import namedtuple\n",
    "from functools import reduce\n",
    "Ψ = namedtuple('Ψ',['electrons','terms','γ','S','M']) "
   ]
  },
  {
   "cell_type": "code",
   "execution_count": 328,
   "metadata": {},
   "outputs": [
    {
     "data": {
      "text/html": [
       "<pre>✔️ 29.6 ms (2021-12-15T17:21:28/2021-12-15T17:21:28)</pre>"
      ],
      "text/plain": [
       "<IPython.core.display.HTML object>"
      ]
     },
     "metadata": {},
     "output_type": "display_data"
    }
   ],
   "source": [
    "class CrystalElectrons():\n",
    "    '''\n",
    "    A calculator as you've never seen before.\n",
    "    '''\n",
    "    remember_remember = {}\n",
    "    def __init__(self, group_label, Γs):\n",
    "        self.Γs = Γs\n",
    "        self.group_label = group_label\n",
    "        self.group = CPGs.get_group_by_label(self.group_label)\n",
    "        self.group_CGs = self.group.CG_coefficients\n",
    "        self.flat_labels = dict(sum([list(l.items()) for l in list(new_labels[self.group_label].values())],[]))\n",
    "        self.group_CGs = {(self.flat_labels[k[0]], self.flat_labels[k[1]], self.flat_labels[k[2]]):v for k,v in self.group_CGs.items()}\n",
    "        self.irreps = self.group.irrep_labels\n",
    "        self.ms = [-sp.S(1)/2,sp.S(1)/2]\n",
    "        self.s_half = sp.S(1)/2\n",
    "        self.component_labels = {k:list(v.values()) for k,v in new_labels[self.group_label].items()}\n",
    "        print(\"Calculating inequivalent electon wave functions ...\")\n",
    "        self.inequiv_waves = self.elec_aggregate(self.Γs)\n",
    "        self.equiv_waves = self.to_equiv_electrons()\n",
    "\n",
    "    def qet_divide(self, qet0, qet1):\n",
    "        '''\n",
    "        Given   two   qets,   assumed   to   be   superpositions  of\n",
    "        determinantal states. Determine if they are collinear and if\n",
    "        they are, provide their ratio.\n",
    "\n",
    "        Parameters\n",
    "        ----------\n",
    "        qet0    (qdef.Qet) : a qet with determinantal keys.\n",
    "        qet1    (qdef.Qet) : a qet with determinantal keys.\n",
    "\n",
    "        Returns\n",
    "        -------\n",
    "        ratio (num): 0 if qets are not collinear, otherwise equal to\n",
    "        qet0/qet1.\n",
    "\n",
    "\n",
    "        '''\n",
    "        if len(qet0.dict) != len(qet1.dict):\n",
    "            return 0\n",
    "        set0 = frozenset(map(frozenset,qet0.dict.keys()))\n",
    "        set1 = frozenset(map(frozenset,qet1.dict.keys()))\n",
    "        num_parts = len(qet0.dict)\n",
    "        # a necessary condition for them to be possibly collinear\n",
    "        # is that they should have have the same sets of quantum\n",
    "        # numbers.\n",
    "        if set0 != set1:\n",
    "            return 0\n",
    "        else:\n",
    "            ratios = []\n",
    "            # iterate over the quantum nums of the first qet\n",
    "            for qet_key_0, qet_val_0 in qet0.dict.items():\n",
    "                set0 = set(qet_key_0)\n",
    "                # and determine the ratio that it has\n",
    "                # to all of the parts of the other qet\n",
    "                # allowing for reaarangmenets valid\n",
    "                # under determinantal state rules\n",
    "                for qet_key_1, qet_val_1 in qet1.dict.items():\n",
    "                    set1 = set(qet_key_1)\n",
    "                    if set0 == set1:\n",
    "                        ordering = [qet_key_0.index(qk) for qk in qet_key_1]\n",
    "                        sign = εijk(*ordering)\n",
    "                        ratios.append(sign * qet_val_0/qet_val_1)\n",
    "                        continue\n",
    "        if ratios == []:\n",
    "            return 0\n",
    "        else:\n",
    "            # if all of the ratios are equal\n",
    "            # then the ratio of the two qets\n",
    "            # is well defined\n",
    "            if len(set(ratios)) == 1 and len(ratios) == num_parts:\n",
    "                return ratios[0]\n",
    "            else:\n",
    "                return 0\n",
    "\n",
    "    def det_qet_simplify(self, qet):\n",
    "        equivalent_parts = {}\n",
    "        standard_order = {} # this holds the standard order to which all the other list members will be referred to\n",
    "        for ket_part_key, ket_part_coeff in qet.dict.items():\n",
    "            set_ket = frozenset(ket_part_key)\n",
    "            if set_ket not in equivalent_parts:\n",
    "                equivalent_parts[set_ket] = []\n",
    "                standard_order[set_ket] = ket_part_key\n",
    "            equivalent_parts[set_ket].append((ket_part_key, ket_part_coeff))\n",
    "        # once I've grouped them together into pices of equivalent parts\n",
    "        # i then need to rearrange and properly sign the rearrangements\n",
    "        det_simple = []\n",
    "        for equivalent_key in equivalent_parts:\n",
    "            base_order = standard_order[equivalent_key]\n",
    "            total_coeff = 0\n",
    "            equiv_parts = equivalent_parts[equivalent_key]\n",
    "            for equiv_part in equiv_parts:\n",
    "                ordering = [base_order.index(part) for part in equiv_part[0]]\n",
    "                sign = εijk(*ordering)\n",
    "                total_coeff += sign*equiv_part[1]\n",
    "            final = (base_order, total_coeff)\n",
    "            if total_coeff != 0:\n",
    "                det_simple.append(final)\n",
    "        return det_simple\n",
    "\n",
    "    def adder(self, ψ_12s, Γ3):\n",
    "        '''\n",
    "        This function gets a dictionary of wave functions\n",
    "        and an additional electron that needs to be added\n",
    "        to them.\n",
    "        '''\n",
    "        #>2 this is called with Γ3\n",
    "        ψ_123s = {}\n",
    "        comps_3 = self.component_labels[Γ3]\n",
    "        s3 = sp.S(1)/2\n",
    "\n",
    "        for ψ_12, qet_12 in ψ_12s.items():\n",
    "            electrons = ψ_12.electrons\n",
    "            terms = ψ_12.terms\n",
    "            Γ12 = terms[-1][1]\n",
    "            γ12 = ψ_12.γ\n",
    "            S12, M12 = ψ_12.S, ψ_12.M\n",
    "            S123s = lrange(S12, s3)\n",
    "            Γ123s = self.group.product_table.odict[(Γ12, Γ3)] # these are the possible Γs from Γ12XΓ3\n",
    "            for Γ123, S123 in product(Γ123s, S123s):\n",
    "                M123s = mrange(S123)\n",
    "                γ123s = self.component_labels[Γ123]\n",
    "                for γ123, m3, γ3, M123 in product(γ123s, self.ms, comps_3, M123s):\n",
    "                    sCG2 = clebschG.eva(S12, s3, S123, M12, m3, M123)\n",
    "                    # coupling a γ12, γ3 to get a final γ\n",
    "                    gCG2 = self.group_CGs.setdefault((γ12, γ3, γ123), 0)\n",
    "                    coeff = sCG2 * gCG2\n",
    "                    if coeff == 0:\n",
    "                        continue\n",
    "                    ψ_123 = Ψ(electrons = electrons + (Γ3,),\n",
    "                                terms = terms + ((S123,Γ123),),\n",
    "                                    γ = γ123,\n",
    "                                    S = S123,\n",
    "                                    M = M123\n",
    "                            )\n",
    "                    if ψ_123 not in ψ_123s:\n",
    "                        ψ_123s[ψ_123] = Qet({})\n",
    "                    γ3f = (γ3 if (m3 > 0) else bar_symbol(γ3))\n",
    "                    ψ_123s[ψ_123] = ψ_123s[ψ_123] + (qet_12 * Qet({(γ3f,): coeff}))\n",
    "        return ψ_123s\n",
    "\n",
    "    def elec_aggregate(self, Γs):\n",
    "        print(\"Adding\", Γs)\n",
    "        if len(Γs) == 2:\n",
    "            # print(\"Two singles are easy ...\")\n",
    "            s1, s2 = self.s_half, self.s_half\n",
    "            Γ1, Γ2 = Γs\n",
    "            comps_1, comps_2 = [self.component_labels[ir] for ir in [Γ1, Γ2]]\n",
    "            Γ12s = self.group.product_table.odict[(Γ1, Γ2)] # the intermediate irreps belong to the reduction of Γ1 X Γ2\n",
    "            S12s = lrange(s1,s2) # this is just [0,1] as for the total angular momentum of the intermediate states\n",
    "            ψ_12s = {}\n",
    "\n",
    "            for γ1, γ2, m1, m2, Γ12, S12 in product(comps_1, comps_2, self.ms, self.ms, Γ12s, S12s):\n",
    "                comps_12 = self.component_labels[Γ12]\n",
    "                M12s = mrange(S12)\n",
    "                for γ12, M12 in product(comps_12, M12s):\n",
    "                    ψ = Ψ(electrons = (Γ1, Γ2),\n",
    "                        terms = ((s1,Γ1),(s2,Γ2),(S12,Γ12)),\n",
    "                        γ = γ12,\n",
    "                        S = S12,\n",
    "                        M = M12\n",
    "                        )\n",
    "                    # summing s1 and s2 to yield S12\n",
    "                    sCG1 = clebschG.eva(s1, s2, S12, m1, m2, M12)\n",
    "                    # coupling a γ1, γ2 to get a γ12\n",
    "                    gCG1 = self.group_CGs.setdefault((γ1, γ2, γ12), 0)\n",
    "                    coeff = sCG1 * gCG1\n",
    "                    if coeff == 0:\n",
    "                        continue\n",
    "                    # collect in the dictionary all the parts that correspond to the sums\n",
    "                    if ψ not in ψ_12s:\n",
    "                        ψ_12s[ψ] = {}\n",
    "                    γ1f = (γ1 if (m1 > 0) else bar_symbol(γ1))\n",
    "                    γ2f = (γ2 if (m2 > 0) else bar_symbol(γ2))\n",
    "                    total_ket_part_key = (γ1f, γ2f)\n",
    "                    if total_ket_part_key not in ψ_12s[ψ]:\n",
    "                        ψ_12s[ψ][total_ket_part_key] = 0\n",
    "                    ψ_12s[ψ][total_ket_part_key] += coeff\n",
    "            ψ_12s = {k : Qet(v) for k,v in ψ_12s.items()} \n",
    "            # print(\"returning %d qets\" % len(ψ_12s))\n",
    "            return ψ_12s\n",
    "        else:\n",
    "            Γ_train, Γ_last = Γs[:-1], Γs[-1]\n",
    "            # decimate until only two electrons are added\n",
    "            ψ_totals = self.adder(\n",
    "                            self.elec_aggregate(Γ_train),\n",
    "                            Γ_last\n",
    "                                 )\n",
    "            # print(\"returning %d qets\" % len(ψ_totals))\n",
    "            return ψ_totals\n",
    "        \n",
    "    def to_equiv_electrons(self):\n",
    "        # To account for electrons being equivalent it suffices to interpret each\n",
    "        # tuple of symbols under the keys of each qet to be a slater determinant\n",
    "        # in turn this allows simplifying the qets to account for the symmetries\n",
    "        # under exchange of symbols/electrons inside the keys\n",
    "\n",
    "        ψ_totals = self.inequiv_waves\n",
    "        print(\"Calculating equivalent electron determinantal states ...\")\n",
    "        # print(\"Starting from %d qets ...\" % len(ψ_totals))\n",
    "        simplified_kets = {}\n",
    "        for ψ_123, qet_123 in ψ_totals.items():\n",
    "            qet_simplified = self.det_qet_simplify(qet_123)\n",
    "            if len(qet_simplified) != 0:\n",
    "                    simplified_kets[ψ_123] = Qet(dict(qet_simplified))\n",
    "                    the_normalizer = 1/simplified_kets[ψ_123].norm()\n",
    "                    simplified_kets[ψ_123] = the_normalizer*simplified_kets[ψ_123]\n",
    "\n",
    "        # The same qet might have been arrived at by different paths, the only\n",
    "        # difference begin an overall phase.\n",
    "        # This last step only keeps the qets that are non-equivalent.\n",
    "\n",
    "        full_det_qets = []\n",
    "        qsymbs = []\n",
    "        for total_ket_key_0, simple_ket_0 in simplified_kets.items():\n",
    "            ratios = []\n",
    "            for simple_ket_1 in full_det_qets:\n",
    "                divvy = self.qet_divide(simple_ket_0, simple_ket_1)\n",
    "                ratios.append(divvy==0)\n",
    "            ratios = sum(ratios)\n",
    "            if ratios == len(full_det_qets):\n",
    "                full_det_qets.append(simple_ket_0)\n",
    "                qsymbs.append(total_ket_key_0)\n",
    "        full_det_qets = dict(zip(qsymbs, full_det_qets))\n",
    "        # print(\"Ending with %d qets ...\" % len(full_det_qets))\n",
    "        return full_det_qets"
   ]
  },
  {
   "cell_type": "code",
   "execution_count": 329,
   "metadata": {},
   "outputs": [
    {
     "data": {
      "text/html": [
       "<pre>✔️ 64.3 ms (2021-12-15T17:21:29/2021-12-15T17:21:29)</pre>"
      ],
      "text/plain": [
       "<IPython.core.display.HTML object>"
      ]
     },
     "metadata": {},
     "output_type": "display_data"
    },
    {
     "name": "stdout",
     "output_type": "stream",
     "text": [
      "Calculating inequivalent electon wave functions ...\n",
      "Adding [T_2, T_2]\n",
      "Calculating equivalent electron determinantal states ...\n",
      "Calculating inequivalent electon wave functions ...\n",
      "Adding [E, E]\n",
      "Calculating equivalent electron determinantal states ...\n"
     ]
    }
   ],
   "source": [
    "t2t2 = CrystalElectrons('O',[sp.Symbol('T_2')]*2)\n",
    "ee = CrystalElectrons('O',[sp.Symbol('E')]*2)\n",
    "group_label = 'O'\n",
    "group = CPGs.get_group_by_label(group_label)\n",
    "# get the CGs\n",
    "group_CGs = group.CG_coefficients\n",
    "# enforce the better notation for components\n",
    "flat_labels = dict(sum([list(l.items()) for l in list(new_labels[group_label].values())],[]))\n",
    "group_CGs = {(flat_labels[k[0]], flat_labels[k[1]], flat_labels[k[2]]):v for k,v in group_CGs.items()}\n",
    "irreps = group.irrep_labels\n",
    "component_labels = {k:list(v.values()) for k,v in new_labels[group_label].items()}"
   ]
  },
  {
   "cell_type": "code",
   "execution_count": 330,
   "metadata": {},
   "outputs": [
    {
     "data": {
      "text/html": [
       "<pre>✔️ 133 ms (2021-12-15T17:21:31/2021-12-15T17:21:31)</pre>"
      ],
      "text/plain": [
       "<IPython.core.display.HTML object>"
      ]
     },
     "metadata": {},
     "output_type": "display_data"
    }
   ],
   "source": [
    "def wave_muxer(ψ_12s, ψ_34s):\n",
    "    '''\n",
    "    Takes two dictionaries of wavefunctions and couples them.\n",
    "    '''\n",
    "    ψ_1234s = {}\n",
    "    for ψ_12, qet_12 in ψ_12s.items():\n",
    "        electrons12 = ψ_12.electrons\n",
    "        terms12 = ψ_12.terms\n",
    "        Γ12 = terms12[-1][1]\n",
    "        γ12 = ψ_12.γ\n",
    "        S12, M12 = ψ_12.S, ψ_12.M\n",
    "        for ψ_34, qet_34 in ψ_34s.items():\n",
    "            electrons34 = ψ_34.electrons\n",
    "            terms34 = ψ_34.terms\n",
    "            Γ34 = terms34[-1][1]\n",
    "            γ34 = ψ_34.γ\n",
    "            S34, M34 = ψ_34.S, ψ_34.M\n",
    "            S1234s = lrange(S12, S34)\n",
    "            Γ1234s = group.product_table.odict[(Γ12, Γ34)]\n",
    "            for Γ1234, S1234 in product(Γ1234s, S1234s):\n",
    "                M1234s = mrange(S1234)\n",
    "                γ1234s = component_labels[Γ1234]\n",
    "                for γ1234, M1234 in product(γ1234s, M1234s):\n",
    "                    sCG2 = clebschG.eva(S12, S34, S1234, M12, M34, M1234)\n",
    "                    # coupling a γ12, γ3 to get a final γ\n",
    "                    gCG2 = group_CGs.setdefault((γ12, γ34, γ1234), 0)\n",
    "                    coeff = sCG2 * gCG2\n",
    "                    if coeff == 0:\n",
    "                        continue\n",
    "                    ψ_1234 = Ψ(electrons = electrons12 + electrons34,\n",
    "                                terms = (terms12[-1], terms34[-1],(S1234, Γ1234)),\n",
    "                                    γ = γ1234,\n",
    "                                    S = S1234,\n",
    "                                    M = M1234\n",
    "                            )\n",
    "                    if ψ_1234 not in ψ_1234s:\n",
    "                        ψ_1234s[ψ_1234] = Qet({})\n",
    "                    # γ3f = (γ3 if (m3 > 0) else bar_symbol(γ3))\n",
    "                    ψ_1234s[ψ_1234] = ψ_1234s[ψ_1234] + coeff* (qet_12 * qet_34)\n",
    "    return ψ_1234s\n",
    "ψ_12s = ee.equiv_waves\n",
    "ψ_34s = t2t2.equiv_waves\n",
    "eet2t2 = wave_muxer(ψ_12s, ψ_34s)"
   ]
  },
  {
   "cell_type": "markdown",
   "metadata": {},
   "source": [
    "# Doing sequential coupling by recursion"
   ]
  },
  {
   "cell_type": "code",
   "execution_count": 3,
   "metadata": {},
   "outputs": [
    {
     "data": {
      "text/html": [
       "<pre>✔️ 612 µs (2021-12-15T12:25:44/2021-12-15T12:25:44)</pre>"
      ],
      "text/plain": [
       "<IPython.core.display.HTML object>"
      ]
     },
     "metadata": {},
     "output_type": "display_data"
    }
   ],
   "source": [
    "from collections import namedtuple\n",
    "from functools import reduce"
   ]
  },
  {
   "cell_type": "code",
   "execution_count": 296,
   "metadata": {},
   "outputs": [
    {
     "data": {
      "text/html": [
       "<pre>✔️ 5.04 ms (2021-12-15T16:53:15/2021-12-15T16:53:15)</pre>"
      ],
      "text/plain": [
       "<IPython.core.display.HTML object>"
      ]
     },
     "metadata": {},
     "output_type": "display_data"
    }
   ],
   "source": [
    "Ψ = namedtuple('Ψ',['electrons','terms','γ','S','M']) \n",
    "\n",
    "class CrystalElectrons():\n",
    "    '''\n",
    "    A calculator as you've never seen before.\n",
    "    '''\n",
    "    remember_remember = {}\n",
    "    def __init__(self, group_label, Γs):\n",
    "        self.Γs = Γs\n",
    "        self.group_label = group_label\n",
    "        self.group = CPGs.get_group_by_label(self.group_label)\n",
    "        self.group_CGs = self.group.CG_coefficients\n",
    "        self.flat_labels = dict(sum([list(l.items()) for l in list(new_labels[self.group_label].values())],[]))\n",
    "        self.group_CGs = {(self.flat_labels[k[0]], self.flat_labels[k[1]], self.flat_labels[k[2]]):v for k,v in self.group_CGs.items()}\n",
    "        self.irreps = self.group.irrep_labels\n",
    "        self.ms = [-sp.S(1)/2,sp.S(1)/2]\n",
    "        self.s_half = sp.S(1)/2\n",
    "        self.component_labels = {k:list(v.values()) for k,v in new_labels[self.group_label].items()}\n",
    "        print(\"Calculating inequivalent electon wave functions ...\")\n",
    "        self.inequiv_waves = self.elec_aggregate(self.Γs)\n",
    "        self.equiv_waves = self.to_equiv_electrons()\n",
    "\n",
    "    def qet_divide(self, qet0, qet1):\n",
    "        '''\n",
    "        Given   two   qets,   assumed   to   be   superpositions  of\n",
    "        determinantal states. Determine if they are collinear and if\n",
    "        they are, provide their ratio.\n",
    "\n",
    "        Parameters\n",
    "        ----------\n",
    "        qet0    (qdef.Qet) : a qet with determinantal keys.\n",
    "        qet1    (qdef.Qet) : a qet with determinantal keys.\n",
    "\n",
    "        Returns\n",
    "        -------\n",
    "        ratio (num): 0 if qets are not collinear, otherwise equal to\n",
    "        qet0/qet1.\n",
    "\n",
    "\n",
    "        '''\n",
    "        if len(qet0.dict) != len(qet1.dict):\n",
    "            return 0\n",
    "        set0 = frozenset(map(frozenset,qet0.dict.keys()))\n",
    "        set1 = frozenset(map(frozenset,qet1.dict.keys()))\n",
    "        num_parts = len(qet0.dict)\n",
    "        # a necessary condition for them to be possibly collinear\n",
    "        # is that they should have have the same sets of quantum\n",
    "        # numbers.\n",
    "        if set0 != set1:\n",
    "            return 0\n",
    "        else:\n",
    "            ratios = []\n",
    "            # iterate over the quantum nums of the first qet\n",
    "            for qet_key_0, qet_val_0 in qet0.dict.items():\n",
    "                set0 = set(qet_key_0)\n",
    "                # and determine the ratio that it has\n",
    "                # to all of the parts of the other qet\n",
    "                # allowing for reaarangmenets valid\n",
    "                # under determinantal state rules\n",
    "                for qet_key_1, qet_val_1 in qet1.dict.items():\n",
    "                    set1 = set(qet_key_1)\n",
    "                    if set0 == set1:\n",
    "                        ordering = [qet_key_0.index(qk) for qk in qet_key_1]\n",
    "                        sign = εijk(*ordering)\n",
    "                        ratios.append(sign * qet_val_0/qet_val_1)\n",
    "                        continue\n",
    "        if ratios == []:\n",
    "            return 0\n",
    "        else:\n",
    "            # if all of the ratios are equal\n",
    "            # then the ratio of the two qets\n",
    "            # is well defined\n",
    "            if len(set(ratios)) == 1 and len(ratios) == num_parts:\n",
    "                return ratios[0]\n",
    "            else:\n",
    "                return 0\n",
    "\n",
    "    def det_qet_simplify(self, qet):\n",
    "        equivalent_parts = {}\n",
    "        standard_order = {} # this holds the standard order to which all the other list members will be referred to\n",
    "        for ket_part_key, ket_part_coeff in qet.dict.items():\n",
    "            set_ket = frozenset(ket_part_key)\n",
    "            if set_ket not in equivalent_parts:\n",
    "                equivalent_parts[set_ket] = []\n",
    "                standard_order[set_ket] = ket_part_key\n",
    "            equivalent_parts[set_ket].append((ket_part_key, ket_part_coeff))\n",
    "        # once I've grouped them together into pices of equivalent parts\n",
    "        # i then need to rearrange and properly sign the rearrangements\n",
    "        det_simple = []\n",
    "        for equivalent_key in equivalent_parts:\n",
    "            base_order = standard_order[equivalent_key]\n",
    "            total_coeff = 0\n",
    "            equiv_parts = equivalent_parts[equivalent_key]\n",
    "            for equiv_part in equiv_parts:\n",
    "                ordering = [base_order.index(part) for part in equiv_part[0]]\n",
    "                sign = εijk(*ordering)\n",
    "                total_coeff += sign*equiv_part[1]\n",
    "            final = (base_order, total_coeff)\n",
    "            if total_coeff != 0:\n",
    "                det_simple.append(final)\n",
    "        return det_simple\n",
    "\n",
    "    def adder(self, ψ_12s, Γ3):\n",
    "        '''\n",
    "        This function gets a dictionary of wave functions\n",
    "        and an additional electron that needs to be added\n",
    "        to them.\n",
    "        '''\n",
    "        #>2 this is called with Γ3\n",
    "        ψ_123s = {}\n",
    "        comps_3 = self.component_labels[Γ3]\n",
    "        s3 = sp.S(1)/2\n",
    "\n",
    "        for ψ_12, qet_12 in ψ_12s.items():\n",
    "            electrons = ψ_12.electrons\n",
    "            terms = ψ_12.terms\n",
    "            Γ12 = terms[-1][1]\n",
    "            γ12 = ψ_12.γ\n",
    "            S12, M12 = ψ_12.S, ψ_12.M\n",
    "            S123s = lrange(S12, s3)\n",
    "            Γ123s = self.group.product_table.odict[(Γ12, Γ3)] # these are the possible Γs from Γ12XΓ3\n",
    "            for Γ123, S123 in product(Γ123s, S123s):\n",
    "                M123s = mrange(S123)\n",
    "                γ123s = self.component_labels[Γ123]\n",
    "                for γ123, m3, γ3, M123 in product(γ123s, self.ms, comps_3, M123s):\n",
    "                    sCG2 = clebschG.eva(S12, s3, S123, M12, m3, M123)\n",
    "                    # coupling a γ12, γ3 to get a final γ\n",
    "                    gCG2 = self.group_CGs.setdefault((γ12, γ3, γ123), 0)\n",
    "                    coeff = sCG2 * gCG2\n",
    "                    if coeff == 0:\n",
    "                        continue\n",
    "                    ψ_123 = Ψ(electrons = electrons + (Γ3,),\n",
    "                                terms = terms + ((S123,Γ123),),\n",
    "                                    γ = γ123,\n",
    "                                    S = S123,\n",
    "                                    M = M123\n",
    "                            )\n",
    "                    if ψ_123 not in ψ_123s:\n",
    "                        ψ_123s[ψ_123] = Qet({})\n",
    "                    γ3f = (γ3 if (m3 > 0) else bar_symbol(γ3))\n",
    "                    ψ_123s[ψ_123] = ψ_123s[ψ_123] + (qet_12 * Qet({(γ3f,): coeff}))\n",
    "        return ψ_123s\n",
    "\n",
    "    def elec_aggregate(self, Γs):\n",
    "        print(\"Adding\", Γs)\n",
    "        if len(Γs) == 2:\n",
    "            #>3 this time I'm in the land of adding two gammas\n",
    "            #>3 i got this\n",
    "            print(\"Two singles are easy ...\")\n",
    "            s1, s2 = self.s_half, self.s_half\n",
    "            Γ1, Γ2 = Γs\n",
    "            comps_1, comps_2 = [self.component_labels[ir] for ir in [Γ1, Γ2]]\n",
    "            Γ12s = self.group.product_table.odict[(Γ1, Γ2)] # the intermediate irreps belong to the reduction of Γ1 X Γ2\n",
    "            S12s = lrange(s1,s2) # this is just [0,1] as for the total angular momentum of the intermediate states\n",
    "            ψ_12s = {}\n",
    "\n",
    "            for γ1, γ2, m1, m2, Γ12, S12 in product(comps_1, comps_2, self.ms, self.ms, Γ12s, S12s):\n",
    "                comps_12 = self.component_labels[Γ12]\n",
    "                M12s = mrange(S12)\n",
    "                for γ12, M12 in product(comps_12, M12s):\n",
    "                    ψ = Ψ(electrons = (Γ1, Γ2),\n",
    "                        terms = ((s1,Γ1),(s2,Γ2),(S12,Γ12)),\n",
    "                        γ = γ12,\n",
    "                        S = S12,\n",
    "                        M = M12\n",
    "                        )\n",
    "                    # summing s1 and s2 to yield S12\n",
    "                    sCG1 = clebschG.eva(s1, s2, S12, m1, m2, M12)\n",
    "                    # coupling a γ1, γ2 to get a γ12\n",
    "                    gCG1 = self.group_CGs.setdefault((γ1, γ2, γ12), 0)\n",
    "                    coeff = sCG1 * gCG1\n",
    "                    if coeff == 0:\n",
    "                        continue\n",
    "                    # collect in the dictionary all the parts that correspond to the sums\n",
    "                    if ψ not in ψ_12s:\n",
    "                        ψ_12s[ψ] = {}\n",
    "                    γ1f = (γ1 if (m1 > 0) else bar_symbol(γ1))\n",
    "                    γ2f = (γ2 if (m2 > 0) else bar_symbol(γ2))\n",
    "                    total_ket_part_key = (γ1f, γ2f)\n",
    "                    if total_ket_part_key not in ψ_12s[ψ]:\n",
    "                        ψ_12s[ψ][total_ket_part_key] = 0\n",
    "                    ψ_12s[ψ][total_ket_part_key] += coeff\n",
    "            #>3 I'm now returning the qets for adding Gamma_1 and Gamma_2\n",
    "            ψ_12s = {k : Qet(v) for k,v in ψ_12s.items()} \n",
    "            print(\"returning %d qets\" % len(ψ_12s))\n",
    "            return ψ_12s\n",
    "        else:\n",
    "            #>1 i go here because there's four of Γs\n",
    "            #>1 this splits into a group of three and the last one\n",
    "            #>2 i go here again because there's three Γs\n",
    "            #>2 i split it into a two and a one\n",
    "            Γ_train, Γ_last = Γs[:-1], Γs[-1]\n",
    "            # decimate until only two electrons are added\n",
    "            #>1 now I call adder but this only evaluates until the inner elec_aggretate\n",
    "            #>1 returns\n",
    "            #>2 here I say that I'm adding two gammas and the third\n",
    "            #>2 when #>3 returns then I'm ready to evaluate the adder of those\n",
    "            #>2 qets and the third electron Gamma3\n",
    "            ψ_totals = self.adder(\n",
    "                            self.elec_aggregate(Γ_train),\n",
    "                            Γ_last\n",
    "                                 )\n",
    "            #>2 finally the adder returns a set of qets\n",
    "            #>2 these are fed into the previous call to adder \n",
    "            #>2 then these are evaluated under the adder function\n",
    "            #>2 to add the final electron.\n",
    "            #>2 this returns control to the first call thread\n",
    "            #>2 and it finally returns ψ_totals to the main thread\n",
    "            print(\"returning %d qets\" % len(ψ_totals))\n",
    "            return ψ_totals\n",
    "        \n",
    "    def to_equiv_electrons(self):\n",
    "        # To account for electrons being equivalent it suffices to interpret each\n",
    "        # tuple of symbols under the keys of each qet to be a slater determinant\n",
    "        # in turn this allows simplifying the qets to account for the symmetries\n",
    "        # under exchange of symbols/electrons inside the keys\n",
    "\n",
    "        ψ_totals = self.inequiv_waves\n",
    "        print(\"Calculating equivalent electron determinantal states ...\")\n",
    "        print(\"Starting from %d qets ...\" % len(ψ_totals))\n",
    "        simplified_kets = {}\n",
    "        for ψ_123, qet_123 in ψ_totals.items():\n",
    "            qet_simplified = self.det_qet_simplify(qet_123)\n",
    "            if len(qet_simplified) != 0:\n",
    "                    simplified_kets[ψ_123] = Qet(dict(qet_simplified))\n",
    "                    the_normalizer = 1/simplified_kets[ψ_123].norm()\n",
    "                    simplified_kets[ψ_123] = the_normalizer*simplified_kets[ψ_123]\n",
    "\n",
    "        # The same qet might have been arrived at by different paths, the only\n",
    "        # difference begin an overall phase.\n",
    "        # This last step only keeps the qets that are non-equivalent.\n",
    "\n",
    "        full_det_qets = []\n",
    "        qsymbs = []\n",
    "        for total_ket_key_0, simple_ket_0 in simplified_kets.items():\n",
    "            ratios = []\n",
    "            for simple_ket_1 in full_det_qets:\n",
    "                divvy = self.qet_divide(simple_ket_0, simple_ket_1)\n",
    "                ratios.append(divvy==0)\n",
    "            ratios = sum(ratios)\n",
    "            if ratios == len(full_det_qets):\n",
    "                full_det_qets.append(simple_ket_0)\n",
    "                qsymbs.append(total_ket_key_0)\n",
    "        full_det_qets = dict(zip(qsymbs, full_det_qets))\n",
    "        print(\"Ending with %d qets ...\" % len(full_det_qets))\n",
    "        return full_det_qets"
   ]
  },
  {
   "cell_type": "code",
   "execution_count": 46,
   "metadata": {},
   "outputs": [
    {
     "data": {
      "text/html": [
       "<pre>✔️ 884 µs (2021-12-15T13:47:26/2021-12-15T13:47:26)</pre>"
      ],
      "text/plain": [
       "<IPython.core.display.HTML object>"
      ]
     },
     "metadata": {},
     "output_type": "display_data"
    }
   ],
   "source": [
    "# def det_qet_simplify(qet):\n",
    "#     equivalent_parts = {}\n",
    "#     standard_order = {} # this holds the standard order to which all the other list members will be referred to\n",
    "#     for ket_part_key, ket_part_coeff in qet.dict.items():\n",
    "#         set_ket = frozenset(ket_part_key)\n",
    "#         if set_ket not in equivalent_parts:\n",
    "#             equivalent_parts[set_ket] = []\n",
    "#             standard_order[set_ket] = ket_part_key\n",
    "#         equivalent_parts[set_ket].append((ket_part_key, ket_part_coeff))\n",
    "#     # once I've grouped them together into pices of equivalent parts\n",
    "#     # i then need to rearrange and properly sign the rearrangements\n",
    "#     det_simple = []\n",
    "#     for equivalent_key in equivalent_parts:\n",
    "#         base_order = standard_order[equivalent_key]\n",
    "#         total_coeff = 0\n",
    "#         equiv_parts = equivalent_parts[equivalent_key]\n",
    "#         for equiv_part in equiv_parts:\n",
    "#             ordering = [base_order.index(part) for part in equiv_part[0]]\n",
    "#             sign = εijk(*ordering)\n",
    "#             total_coeff += sign*equiv_part[1]\n",
    "#         final = (base_order, total_coeff)\n",
    "#         if total_coeff != 0:\n",
    "#             det_simple.append(final)\n",
    "#     return det_simple"
   ]
  },
  {
   "cell_type": "code",
   "execution_count": 37,
   "metadata": {},
   "outputs": [
    {
     "data": {
      "text/html": [
       "<pre>✔️ 2.43 ms (2021-12-15T13:43:02/2021-12-15T13:43:02)</pre>"
      ],
      "text/plain": [
       "<IPython.core.display.HTML object>"
      ]
     },
     "metadata": {},
     "output_type": "display_data"
    }
   ],
   "source": [
    "# Old version\n",
    "# Ψ = namedtuple('Ψ',['electrons','terms','γ','S','M']) \n",
    "# class CrystalElectrons():\n",
    "#     '''\n",
    "#     A calculator as you've never seen before.\n",
    "#     '''\n",
    "#     remember_remember = {}\n",
    "#     def __init__(self, group_label, Γs):\n",
    "#         self.Γs = Γs\n",
    "#         self.group_label = group_label\n",
    "#         self.group = CPGs.get_group_by_label(self.group_label)\n",
    "#         self.group_CGs = self.group.CG_coefficients\n",
    "#         self.flat_labels = dict(sum([list(l.items()) for l in list(new_labels[self.group_label].values())],[]))\n",
    "#         self.group_CGs = {(self.flat_labels[k[0]], self.flat_labels[k[1]], self.flat_labels[k[2]]):v for k,v in self.group_CGs.items()}\n",
    "#         self.irreps = self.group.irrep_labels\n",
    "#         self.ms = [-sp.S(1)/2,sp.S(1)/2]\n",
    "#         self.s_half = sp.S(1)/2\n",
    "#         self.component_labels = {k:list(v.values()) for k,v in new_labels[self.group_label].items()}\n",
    "#         self.waves = self.elec_aggregate(self.Γs)\n",
    "\n",
    "#     def adder(self, ψ_12s, Γ3):\n",
    "#         '''\n",
    "#         This function gets a dictionary of wave functions\n",
    "#         and an additional electron that needs to be added\n",
    "#         to them.\n",
    "#         '''\n",
    "#         ψ_123s = {}\n",
    "#         comps_3 = self.component_labels[Γ3]\n",
    "#         s3 = sp.S(1)/2\n",
    "\n",
    "#         for ψ_12, qet_12 in ψ_12s.items():\n",
    "#             electrons = ψ_12.electrons\n",
    "#             terms = ψ_12.terms\n",
    "#             Γ12 = terms[-1][1]\n",
    "#             γ12 = ψ_12.γ\n",
    "#             S12, M12 = ψ_12.S, ψ_12.M\n",
    "#             S123s = lrange(S12, s3)\n",
    "#             Γ123s = self.group.product_table.odict[(Γ12, Γ3)] # these are the possible Γs from Γ12XΓ3\n",
    "#             for Γ123, S123 in product(Γ123s, S123s):\n",
    "#                 M123s = mrange(S123)\n",
    "#                 γ123s = self.component_labels[Γ123]\n",
    "#                 for γ123, m3, γ3, M123 in product(γ123s, self.ms, comps_3, M123s):\n",
    "#                     sCG2 = clebschG.eva(S12, s3, S123, M12, m3, M123)\n",
    "#                     # coupling a γ12, γ3 to get a final γ\n",
    "#                     gCG2 = self.group_CGs.setdefault((γ12, γ3, γ123), 0)\n",
    "#                     coeff = sCG2*gCG2\n",
    "#                     if coeff == 0:\n",
    "#                         continue\n",
    "#                     ψ_123 = Ψ(electrons = electrons + (Γ3,),\n",
    "#                                 terms = terms+ ((S123,Γ123),),\n",
    "#                                     γ = γ123,\n",
    "#                                     S = S123,\n",
    "#                                     M = M123\n",
    "#                             )\n",
    "#                     if ψ_123 not in ψ_123s:\n",
    "#                         ψ_123s[ψ_123] = Qet({})\n",
    "#                     if m3 < 0:\n",
    "#                         γ3f = bar_symbol(γ3)\n",
    "#                     else:\n",
    "#                         γ3f = γ3\n",
    "#                     ψ_123s[ψ_123] = ψ_123s[ψ_123] + (qet_12 * Qet({(γ3f,): coeff}))\n",
    "#         return ψ_123s\n",
    "\n",
    "#     def elec_aggregate(self, Γs):\n",
    "#         print(len(Γs))\n",
    "#         if len(Γs) == 2:\n",
    "#             s1, s2 = self.s_half, self.s_half\n",
    "#             Γ1, Γ2 = Γs\n",
    "#             comps_1, comps_2 = [self.component_labels[ir] for ir in [Γ1, Γ2]]\n",
    "#             Γ12s = self.group.product_table.odict[(Γ1, Γ2)] # the intermediate irreps belong to the reduction of Γ1 X Γ2\n",
    "#             S12s = lrange(s1,s2) # this is just [0,1] as for the total angular momentum of the intermediate states\n",
    "#             ψ_12s = {}\n",
    "\n",
    "#             for γ1, γ2, m1, m2, Γ12, S12 in product(comps_1, comps_2, self.ms, self.ms, Γ12s, S12s):\n",
    "#                 comps_12 = self.component_labels[Γ12]\n",
    "#                 M12s = mrange(S12)\n",
    "#                 for γ12, M12 in product(comps_12, M12s):\n",
    "#                     ψ = Ψ(electrons = (Γ1, Γ2),\n",
    "#                         terms = ((s1,Γ1),(s2,Γ2),(S12,Γ12)),\n",
    "#                         γ = γ12,\n",
    "#                         S = S12,\n",
    "#                         M = M12\n",
    "#                         )\n",
    "#                     # total_ket_key = (Γ12, γ12, S12, Γ12)\n",
    "#                     # summing s1 and s2 to yield S12\n",
    "#                     sCG1 = clebschG.eva(s1, s2, S12, m1, m2, M12)\n",
    "#                     # coupling a γ1, γ2 to get a γ12\n",
    "#                     gCG1 = self.group_CGs.setdefault((γ1, γ2, γ12), 0)\n",
    "#                     coeff = sCG1 * gCG1\n",
    "#                     if coeff == 0:\n",
    "#                         continue\n",
    "#                     # collect in the dictionary all the parts that correspond to the sums\n",
    "#                     if ψ not in ψ_12s:\n",
    "#                         ψ_12s[ψ] = {}\n",
    "#                     γ1f = (γ1 if (m1 > 0) else bar_symbol(γ1))\n",
    "#                     γ2f = (γ2 if (m2 > 0) else bar_symbol(γ1))\n",
    "#                     total_ket_part_key = (γ1f, γ2f)\n",
    "#                     if total_ket_part_key not in ψ_12s[ψ]:\n",
    "#                         ψ_12s[ψ][total_ket_part_key] = 0\n",
    "#                     ψ_12s[ψ][total_ket_part_key] += coeff\n",
    "\n",
    "#             ψ_12s = {k:Qet(v) for k,v in ψ_12s.items()} \n",
    "#             return ψ_12s\n",
    "#         else:\n",
    "#             Γ_train, Γ_last = Γs[:-1], Γs[-1]\n",
    "#             ψ_totals = self.adder(self.elec_aggregate(Γ_train), Γ_last)\n",
    "\n",
    "#         simplified_kets = {}\n",
    "#         for ψ_123, qet_123 in ψ_totals.items():\n",
    "#             qet_simplified = det_qet_simplify(qet_123)\n",
    "#             if len(qet_simplified) != 0:\n",
    "#                     simplified_kets[ψ_123] = Qet(dict(qet_simplified))\n",
    "#                     the_normalizer = 1/simplified_kets[ψ_123].norm()\n",
    "#                     simplified_kets[ψ_123] = the_normalizer*simplified_kets[ψ_123]\n",
    "\n",
    "#         full_det_qets = []\n",
    "#         qsymbs = []\n",
    "#         for total_ket_key_0, simple_ket_0 in simplified_kets.items():\n",
    "#             ratios = []\n",
    "#             for simple_ket_1 in full_det_qets:\n",
    "#                 divvy = qet_divide(simple_ket_0, simple_ket_1)\n",
    "#                 ratios.append(divvy==0)\n",
    "#             ratios = sum(ratios)\n",
    "#             if ratios == len(full_det_qets):\n",
    "#                 full_det_qets.append(simple_ket_0)\n",
    "#                 qsymbs.append(total_ket_key_0)\n",
    "#         full_det_qets = dict(zip(qsymbs, full_det_qets))\n",
    "#         return full_det_qets"
   ]
  },
  {
   "cell_type": "code",
   "execution_count": 138,
   "metadata": {},
   "outputs": [
    {
     "data": {
      "text/html": [
       "<pre>✔️ 3.9 ms (2021-12-15T14:22:25/2021-12-15T14:22:25)</pre>"
      ],
      "text/plain": [
       "<IPython.core.display.HTML object>"
      ]
     },
     "metadata": {},
     "output_type": "display_data"
    }
   ],
   "source": [
    "# # In this version I det simplify at every stage\n",
    "# # in the oversion above I only simplify at the end\n",
    "\n",
    "# Ψ = namedtuple('Ψ',['electrons','terms','γ','S','M']) \n",
    "\n",
    "# class CrystalElectronsShortcut():\n",
    "#     '''\n",
    "#     A calculator as you've never seen before.\n",
    "#     '''\n",
    "#     remember_remember = {}\n",
    "#     def __init__(self, group_label, Γs):\n",
    "#         self.Γs = Γs\n",
    "#         self.group_label = group_label\n",
    "#         self.group = CPGs.get_group_by_label(self.group_label)\n",
    "#         self.group_CGs = self.group.CG_coefficients\n",
    "#         self.flat_labels = dict(sum([list(l.items()) for l in list(new_labels[self.group_label].values())],[]))\n",
    "#         self.group_CGs = {(self.flat_labels[k[0]], self.flat_labels[k[1]], self.flat_labels[k[2]]):v for k,v in self.group_CGs.items()}\n",
    "#         self.irreps = self.group.irrep_labels\n",
    "#         self.ms = [-sp.S(1)/2,sp.S(1)/2]\n",
    "#         self.s_half = sp.S(1)/2\n",
    "#         self.component_labels = {k:list(v.values()) for k,v in new_labels[self.group_label].items()}\n",
    "#         self.equiv_waves = self.elec_aggregate(self.Γs)\n",
    "\n",
    "#     def qet_divide(self, qet0, qet1):\n",
    "#         '''\n",
    "#         Given   two   qets,   assumed   to   be   superpositions  of\n",
    "#         determinantal states. Determine if they are collinear and if\n",
    "#         they are, provide their ratio.\n",
    "\n",
    "#         Parameters\n",
    "#         ----------\n",
    "#         qet0    (qdef.Qet) : a qet with determinantal keys.\n",
    "#         qet1    (qdef.Qet) : a qet with determinantal keys.\n",
    "\n",
    "#         Returns\n",
    "#         -------\n",
    "#         ratio (num): 0 if qets are not collinear, otherwise equal to\n",
    "#         qet0/qet1.\n",
    "\n",
    "\n",
    "#         '''\n",
    "#         if len(qet0.dict) != len(qet1.dict):\n",
    "#             return 0\n",
    "#         set0 = frozenset(map(frozenset,qet0.dict.keys()))\n",
    "#         set1 = frozenset(map(frozenset,qet1.dict.keys()))\n",
    "#         num_parts = len(qet0.dict)\n",
    "#         # a necessary condition for them to be possibly collinear\n",
    "#         # is that they should have have the same sets of quantum\n",
    "#         # numbers.\n",
    "#         if set0 != set1:\n",
    "#             return 0\n",
    "#         else:\n",
    "#             ratios = []\n",
    "#             # iterate over the quantum nums of the first qet\n",
    "#             for qet_key_0, qet_val_0 in qet0.dict.items():\n",
    "#                 set0 = set(qet_key_0)\n",
    "#                 # and determine the ratio that it has\n",
    "#                 # to all of the parts of the other qet\n",
    "#                 # allowing for reaarangmenets valid\n",
    "#                 # under determinantal state rules\n",
    "#                 for qet_key_1, qet_val_1 in qet1.dict.items():\n",
    "#                     set1 = set(qet_key_1)\n",
    "#                     if set0 == set1:\n",
    "#                         ordering = [qet_key_0.index(qk) for qk in qet_key_1]\n",
    "#                         sign = εijk(*ordering)\n",
    "#                         ratios.append(sign * qet_val_0/qet_val_1)\n",
    "#                         continue\n",
    "#         if ratios == []:\n",
    "#             return 0\n",
    "#         else:\n",
    "#             # if all of the ratios are equal\n",
    "#             # then the ratio of the two qets\n",
    "#             # is well defined\n",
    "#             if len(set(ratios)) == 1 and len(ratios) == num_parts:\n",
    "#                 return ratios[0]\n",
    "#             else:\n",
    "#                 return 0\n",
    "\n",
    "#     def det_qet_simplify(self, qet):\n",
    "#         equivalent_parts = {}\n",
    "#         standard_order = {} # this holds the standard order to which all the other list members will be referred to\n",
    "#         for ket_part_key, ket_part_coeff in qet.dict.items():\n",
    "#             set_ket = frozenset(ket_part_key)\n",
    "#             if set_ket not in equivalent_parts:\n",
    "#                 equivalent_parts[set_ket] = []\n",
    "#                 standard_order[set_ket] = ket_part_key\n",
    "#             equivalent_parts[set_ket].append((ket_part_key, ket_part_coeff))\n",
    "#         # once I've grouped them together into pices of equivalent parts\n",
    "#         # i then need to rearrange and properly sign the rearrangements\n",
    "#         det_simple = []\n",
    "#         for equivalent_key in equivalent_parts:\n",
    "#             base_order = standard_order[equivalent_key]\n",
    "#             total_coeff = 0\n",
    "#             equiv_parts = equivalent_parts[equivalent_key]\n",
    "#             for equiv_part in equiv_parts:\n",
    "#                 ordering = [base_order.index(part) for part in equiv_part[0]]\n",
    "#                 sign = εijk(*ordering)\n",
    "#                 total_coeff += sign*equiv_part[1]\n",
    "#             final = (base_order, total_coeff)\n",
    "#             if total_coeff != 0:\n",
    "#                 det_simple.append(final)\n",
    "#         return det_simple\n",
    "\n",
    "#     def adder(self, ψ_12s, Γ3):\n",
    "#         '''\n",
    "#         This function gets a dictionary of wave functions\n",
    "#         and an additional electron that needs to be added\n",
    "#         to them.\n",
    "#         '''\n",
    "#         ψ_123s = {}\n",
    "#         comps_3 = self.component_labels[Γ3]\n",
    "#         s3 = sp.S(1)/2\n",
    "\n",
    "#         for ψ_12, qet_12 in ψ_12s.items():\n",
    "#             electrons = ψ_12.electrons\n",
    "#             terms = ψ_12.terms\n",
    "#             Γ12 = terms[-1][1]\n",
    "#             γ12 = ψ_12.γ\n",
    "#             S12, M12 = ψ_12.S, ψ_12.M\n",
    "#             S123s = lrange(S12, s3)\n",
    "#             Γ123s = self.group.product_table.odict[(Γ12, Γ3)] # these are the possible Γs from Γ12XΓ3\n",
    "#             for Γ123, S123 in product(Γ123s, S123s):\n",
    "#                 M123s = mrange(S123)\n",
    "#                 γ123s = self.component_labels[Γ123]\n",
    "#                 for γ123, m3, γ3, M123 in product(γ123s, self.ms, comps_3, M123s):\n",
    "#                     # coupling S12,M12 to s3,m3 and getting S123, M123\n",
    "#                     sCG2 = clebschG.eva(S12, s3, S123, M12, m3, M123)\n",
    "#                     # coupling a γ12, γ3 to get a final γ\n",
    "#                     gCG2 = self.group_CGs.setdefault((γ12, γ3, γ123), 0)\n",
    "#                     coeff = sCG2 * gCG2\n",
    "#                     if coeff == 0:\n",
    "#                         continue\n",
    "#                     ψ_123 = Ψ(electrons = electrons + (Γ3,),\n",
    "#                                 terms = terms+ ((S123,Γ123),),\n",
    "#                                     γ = γ123,\n",
    "#                                     S = S123,\n",
    "#                                     M = M123\n",
    "#                             )\n",
    "#                     if ψ_123 not in ψ_123s:\n",
    "#                         ψ_123s[ψ_123] = Qet({})\n",
    "#                     if m3 < 0:\n",
    "#                         γ3f = bar_symbol(γ3)\n",
    "#                     else:\n",
    "#                         γ3f = γ3\n",
    "#                     ψ_123s[ψ_123] = ψ_123s[ψ_123] + (qet_12 * Qet({(γ3f,): coeff}))\n",
    "#         return ψ_123s\n",
    "\n",
    "#     def elec_aggregate(self, Γs):\n",
    "#         print(\"Adding\", Γs)\n",
    "#         if len(Γs) == 2:\n",
    "#             s1, s2 = self.s_half, self.s_half\n",
    "#             Γ1, Γ2 = Γs\n",
    "#             comps_1, comps_2 = [self.component_labels[ir] for ir in [Γ1, Γ2]]\n",
    "#             Γ12s = self.group.product_table.odict[(Γ1, Γ2)] # the intermediate irreps belong to the reduction of Γ1 X Γ2\n",
    "#             S12s = lrange(s1,s2) # this is just [0,1] as for the total angular momentum of the intermediate states\n",
    "#             ψ_12s = {}\n",
    "\n",
    "#             for γ1, γ2, m1, m2, Γ12, S12 in product(comps_1, comps_2, self.ms, self.ms, Γ12s, S12s):\n",
    "#                 comps_12 = self.component_labels[Γ12]\n",
    "#                 M12s = mrange(S12)\n",
    "#                 for γ12, M12 in product(comps_12, M12s):\n",
    "#                     ψ = Ψ(electrons = (Γ1, Γ2),\n",
    "#                         terms = ((s1,Γ1),(s2,Γ2),(S12,Γ12)),\n",
    "#                         γ = γ12,\n",
    "#                         S = S12,\n",
    "#                         M = M12\n",
    "#                         )\n",
    "#                     # summing s1 and s2 to yield S12\n",
    "#                     sCG1 = clebschG.eva(s1, s2, S12, m1, m2, M12)\n",
    "#                     # coupling a γ1, γ2 to get a γ12\n",
    "#                     gCG1 = self.group_CGs.setdefault((γ1, γ2, γ12), 0)\n",
    "#                     coeff = sCG1 * gCG1\n",
    "#                     if coeff == 0:\n",
    "#                         continue\n",
    "#                     # collect in the dictionary all the parts that correspond to the sums\n",
    "#                     if ψ not in ψ_12s:\n",
    "#                         ψ_12s[ψ] = {}\n",
    "#                     γ1f = (γ1 if (m1 > 0) else bar_symbol(γ1))\n",
    "#                     γ2f = (γ2 if (m2 > 0) else bar_symbol(γ2))\n",
    "#                     total_ket_part_key = (γ1f, γ2f)\n",
    "#                     if total_ket_part_key not in ψ_12s[ψ]:\n",
    "#                         ψ_12s[ψ][total_ket_part_key] = 0\n",
    "#                     ψ_12s[ψ][total_ket_part_key] += coeff\n",
    "\n",
    "#             ψ_12s = {k:Qet(v) for k,v in ψ_12s.items()} \n",
    "#             return ψ_12s\n",
    "#         else:\n",
    "#             Γ_train, Γ_last = Γs[:-1], Γs[-1]\n",
    "#             ψ_totals = self.adder(self.elec_aggregate(Γ_train), Γ_last)\n",
    "#             return self.to_equiv_electrons(ψ_totals)\n",
    "        \n",
    "#     def to_equiv_electrons(self, ψ_totals):\n",
    "#         # To account for electrons being equivalent it suffices to interpret each\n",
    "#         # tuple of symbols under the keys of each qet to be a slater determinant\n",
    "#         # in turn this allows simplifying the qets to account for the symmetries\n",
    "#         # under exchange of symbols/electrons inside the keys.\n",
    "        \n",
    "#         print(\"Calculating equivalent electron determinantal states ...\")\n",
    "#         simplified_kets = {}\n",
    "#         for ψ_123, qet_123 in ψ_totals.items():\n",
    "#             qet_simplified = self.det_qet_simplify(qet_123)\n",
    "#             if len(qet_simplified) != 0:\n",
    "#                     simplified_kets[ψ_123] = Qet(dict(qet_simplified))\n",
    "#                     the_normalizer = 1/simplified_kets[ψ_123].norm()\n",
    "#                     simplified_kets[ψ_123] = the_normalizer*simplified_kets[ψ_123]\n",
    "\n",
    "#         # The same qet might have been arrived at by different paths, the only\n",
    "#         # difference begin an overall phase.\n",
    "#         # This last step only keeps the qets that are non-equivalent.\n",
    "\n",
    "#         full_det_qets = []\n",
    "#         qsymbs = []\n",
    "#         for total_ket_key_0, simple_ket_0 in simplified_kets.items():\n",
    "#             ratios = []\n",
    "#             for simple_ket_1 in full_det_qets:\n",
    "#                 divvy = self.qet_divide(simple_ket_0, simple_ket_1)\n",
    "#                 ratios.append(divvy==0)\n",
    "#             ratios = sum(ratios)\n",
    "#             if ratios == len(full_det_qets):\n",
    "#                 full_det_qets.append(simple_ket_0)\n",
    "#                 qsymbs.append(total_ket_key_0)\n",
    "#         full_det_qets = dict(zip(qsymbs, full_det_qets))\n",
    "#         return full_det_qets"
   ]
  },
  {
   "cell_type": "code",
   "execution_count": 292,
   "metadata": {},
   "outputs": [
    {
     "data": {
      "text/html": [
       "<pre>✔️ 4.51 ms (2021-12-15T16:03:41/2021-12-15T16:03:41)</pre>"
      ],
      "text/plain": [
       "<IPython.core.display.HTML object>"
      ]
     },
     "metadata": {},
     "output_type": "display_data"
    }
   ],
   "source": [
    "# Ψ = namedtuple('Ψ',['electrons','terms','γ','S','M']) \n",
    "\n",
    "# class CrystalElectrons():\n",
    "#     '''\n",
    "#     A calculator as you've never seen before.\n",
    "#     '''\n",
    "#     remember_remember = {}\n",
    "#     def __init__(self, group_label, Γs):\n",
    "#         self.Γs = Γs\n",
    "#         self.group_label = group_label\n",
    "#         self.group = CPGs.get_group_by_label(self.group_label)\n",
    "#         self.group_CGs = self.group.CG_coefficients\n",
    "#         self.flat_labels = dict(sum([list(l.items()) for l in list(new_labels[self.group_label].values())],[]))\n",
    "#         self.group_CGs = {(self.flat_labels[k[0]], self.flat_labels[k[1]], self.flat_labels[k[2]]):v for k,v in self.group_CGs.items()}\n",
    "#         self.irreps = self.group.irrep_labels\n",
    "#         self.ms = [-sp.S(1)/2,sp.S(1)/2]\n",
    "#         self.s_half = sp.S(1)/2\n",
    "#         self.component_labels = {k:list(v.values()) for k,v in new_labels[self.group_label].items()}\n",
    "#         print(\"Calculating inequivalent electon wave functions ...\")\n",
    "#         self.inequiv_waves = self.elec_aggregate(self.Γs)\n",
    "#         self.equiv_waves = self.to_equiv_electrons()\n",
    "\n",
    "#     def qet_divide(self, qet0, qet1):\n",
    "#         '''\n",
    "#         Given   two   qets,   assumed   to   be   superpositions  of\n",
    "#         determinantal states. Determine if they are collinear and if\n",
    "#         they are, provide their ratio.\n",
    "\n",
    "#         Parameters\n",
    "#         ----------\n",
    "#         qet0    (qdef.Qet) : a qet with determinantal keys.\n",
    "#         qet1    (qdef.Qet) : a qet with determinantal keys.\n",
    "\n",
    "#         Returns\n",
    "#         -------\n",
    "#         ratio (num): 0 if qets are not collinear, otherwise equal to\n",
    "#         qet0/qet1.\n",
    "\n",
    "\n",
    "#         '''\n",
    "#         if len(qet0.dict) != len(qet1.dict):\n",
    "#             return 0\n",
    "#         set0 = frozenset(map(frozenset,qet0.dict.keys()))\n",
    "#         set1 = frozenset(map(frozenset,qet1.dict.keys()))\n",
    "#         num_parts = len(qet0.dict)\n",
    "#         # a necessary condition for them to be possibly collinear\n",
    "#         # is that they should have have the same sets of quantum\n",
    "#         # numbers.\n",
    "#         if set0 != set1:\n",
    "#             return 0\n",
    "#         else:\n",
    "#             ratios = []\n",
    "#             # iterate over the quantum nums of the first qet\n",
    "#             for qet_key_0, qet_val_0 in qet0.dict.items():\n",
    "#                 set0 = set(qet_key_0)\n",
    "#                 # and determine the ratio that it has\n",
    "#                 # to all of the parts of the other qet\n",
    "#                 # allowing for reaarangmenets valid\n",
    "#                 # under determinantal state rules\n",
    "#                 for qet_key_1, qet_val_1 in qet1.dict.items():\n",
    "#                     set1 = set(qet_key_1)\n",
    "#                     if set0 == set1:\n",
    "#                         ordering = [qet_key_0.index(qk) for qk in qet_key_1]\n",
    "#                         sign = εijk(*ordering)\n",
    "#                         ratios.append(sign * qet_val_0/qet_val_1)\n",
    "#                         continue\n",
    "#         if ratios == []:\n",
    "#             return 0\n",
    "#         else:\n",
    "#             # if all of the ratios are equal\n",
    "#             # then the ratio of the two qets\n",
    "#             # is well defined\n",
    "#             if len(set(ratios)) == 1 and len(ratios) == num_parts:\n",
    "#                 return ratios[0]\n",
    "#             else:\n",
    "#                 return 0\n",
    "\n",
    "#     def det_qet_simplify(self, qet):\n",
    "#         equivalent_parts = {}\n",
    "#         standard_order = {} # this holds the standard order to which all the other list members will be referred to\n",
    "#         for ket_part_key, ket_part_coeff in qet.dict.items():\n",
    "#             set_ket = frozenset(ket_part_key)\n",
    "#             if set_ket not in equivalent_parts:\n",
    "#                 equivalent_parts[set_ket] = []\n",
    "#                 standard_order[set_ket] = ket_part_key\n",
    "#             equivalent_parts[set_ket].append((ket_part_key, ket_part_coeff))\n",
    "#         # once I've grouped them together into pices of equivalent parts\n",
    "#         # i then need to rearrange and properly sign the rearrangements\n",
    "#         det_simple = []\n",
    "#         for equivalent_key in equivalent_parts:\n",
    "#             base_order = standard_order[equivalent_key]\n",
    "#             total_coeff = 0\n",
    "#             equiv_parts = equivalent_parts[equivalent_key]\n",
    "#             for equiv_part in equiv_parts:\n",
    "#                 ordering = [base_order.index(part) for part in equiv_part[0]]\n",
    "#                 sign = εijk(*ordering)\n",
    "#                 total_coeff += sign*equiv_part[1]\n",
    "#             final = (base_order, total_coeff)\n",
    "#             if total_coeff != 0:\n",
    "#                 det_simple.append(final)\n",
    "#         return det_simple\n",
    "\n",
    "#     def adder(self, ψ_12s, Γ3):\n",
    "#         '''\n",
    "#         This function gets a dictionary of wave functions\n",
    "#         and an additional electron that needs to be added\n",
    "#         to them.\n",
    "#         '''\n",
    "#         #>2 this is called with Γ3\n",
    "#         ψ_123s = {}\n",
    "#         comps_3 = self.component_labels[Γ3]\n",
    "#         s3 = sp.S(1)/2\n",
    "\n",
    "#         for ψ_12, qet_12 in ψ_12s.items():\n",
    "#             electrons = ψ_12.electrons\n",
    "#             terms = ψ_12.terms\n",
    "#             Γ12 = terms[-1][1]\n",
    "#             γ12 = ψ_12.γ\n",
    "#             S12, M12 = ψ_12.S, ψ_12.M\n",
    "#             S123s = lrange(S12, s3)\n",
    "#             Γ123s = self.group.product_table.odict[(Γ12, Γ3)] # these are the possible Γs from Γ12XΓ3\n",
    "#             for Γ123, S123 in product(Γ123s, S123s):\n",
    "#                 M123s = mrange(S123)\n",
    "#                 γ123s = self.component_labels[Γ123]\n",
    "#                 for γ123, m3, γ3, M123 in product(γ123s, self.ms, comps_3, M123s):\n",
    "#                     sCG2 = clebschG.eva(S12, s3, S123, M12, m3, M123)\n",
    "#                     # coupling a γ12, γ3 to get a final γ\n",
    "#                     gCG2 = self.group_CGs.setdefault((γ12, γ3, γ123), 0)\n",
    "#                     coeff = sCG2 * gCG2\n",
    "#                     if coeff == 0:\n",
    "#                         continue\n",
    "#                     ψ_123 = Ψ(electrons = electrons + (Γ3,),\n",
    "#                                 terms = terms + ((S123,Γ123),),\n",
    "#                                     γ = γ123,\n",
    "#                                     S = S123,\n",
    "#                                     M = M123\n",
    "#                             )\n",
    "#                     if ψ_123 not in ψ_123s:\n",
    "#                         ψ_123s[ψ_123] = Qet({})\n",
    "#                     γ3f = (γ3 if (m3 > 0) else bar_symbol(γ3))\n",
    "#                     ψ_123s[ψ_123] = ψ_123s[ψ_123] + (qet_12 * Qet({(γ3f,): coeff}))\n",
    "#         return ψ_123s\n",
    "\n",
    "#     def elec_aggregate(self, Γs):\n",
    "#         print(\"Adding\", Γs)\n",
    "#         if len(Γs) == 2:\n",
    "#             #>3 this time I'm in the land of adding two gammas\n",
    "#             #>3 i got this\n",
    "#             print(\"Two singles are easy ...\")\n",
    "#             s1, s2 = self.s_half, self.s_half\n",
    "#             Γ1, Γ2 = Γs\n",
    "#             comps_1, comps_2 = [self.component_labels[ir] for ir in [Γ1, Γ2]]\n",
    "#             Γ12s = self.group.product_table.odict[(Γ1, Γ2)] # the intermediate irreps belong to the reduction of Γ1 X Γ2\n",
    "#             S12s = lrange(s1,s2) # this is just [0,1] as for the total angular momentum of the intermediate states\n",
    "#             ψ_12s = {}\n",
    "\n",
    "#             for γ1, γ2, m1, m2, Γ12, S12 in product(comps_1, comps_2, self.ms, self.ms, Γ12s, S12s):\n",
    "#                 comps_12 = self.component_labels[Γ12]\n",
    "#                 M12s = mrange(S12)\n",
    "#                 for γ12, M12 in product(comps_12, M12s):\n",
    "#                     ψ = Ψ(electrons = (Γ1, Γ2),\n",
    "#                         terms = ((s1,Γ1),(s2,Γ2),(S12,Γ12)),\n",
    "#                         γ = γ12,\n",
    "#                         S = S12,\n",
    "#                         M = M12\n",
    "#                         )\n",
    "#                     # summing s1 and s2 to yield S12\n",
    "#                     sCG1 = clebschG.eva(s1, s2, S12, m1, m2, M12)\n",
    "#                     # coupling a γ1, γ2 to get a γ12\n",
    "#                     gCG1 = self.group_CGs.setdefault((γ1, γ2, γ12), 0)\n",
    "#                     coeff = sCG1 * gCG1\n",
    "#                     if coeff == 0:\n",
    "#                         continue\n",
    "#                     # collect in the dictionary all the parts that correspond to the sums\n",
    "#                     if ψ not in ψ_12s:\n",
    "#                         ψ_12s[ψ] = {}\n",
    "#                     γ1f = (γ1 if (m1 > 0) else bar_symbol(γ1))\n",
    "#                     γ2f = (γ2 if (m2 > 0) else bar_symbol(γ2))\n",
    "#                     total_ket_part_key = (γ1f, γ2f)\n",
    "#                     if total_ket_part_key not in ψ_12s[ψ]:\n",
    "#                         ψ_12s[ψ][total_ket_part_key] = 0\n",
    "#                     ψ_12s[ψ][total_ket_part_key] += coeff\n",
    "#             #>3 I'm now returning the qets for adding Gamma_1 and Gamma_2\n",
    "#             ψ_12s = {k : Qet(v) for k,v in ψ_12s.items()} \n",
    "#             print(\"returning %d qets\" % len(ψ_12s))\n",
    "#             return ψ_12s\n",
    "#         else:\n",
    "#             #>1 i go here because there's four of Γs\n",
    "#             #>1 this splits into a group of three and the last one\n",
    "#             #>2 i go here again because there's three Γs\n",
    "#             #>2 i split it into a two and a one\n",
    "#             Γ_train, Γ_last = Γs[:-1], Γs[-1]\n",
    "#             # decimate until only two electrons are added\n",
    "#             #>1 now I call adder but this only evaluates until the inner elec_aggretate\n",
    "#             #>1 returns\n",
    "#             #>2 here I say that I'm adding two gammas and the third\n",
    "#             #>2 when #>3 returns then I'm ready to evaluate the adder of those\n",
    "#             #>2 qets and the third electron Gamma3\n",
    "#             ψ_totals = self.adder(\n",
    "#                             self.elec_aggregate(Γ_train),\n",
    "#                             Γ_last\n",
    "#                                  )\n",
    "#             #>2 finally the adder returns a set of qets\n",
    "#             #>2 these are fed into the previous call to adder \n",
    "#             #>2 then these are evaluated under the adder function\n",
    "#             #>2 to add the final electron.\n",
    "#             #>2 this returns control to the first call thread\n",
    "#             #>2 and it finally returns ψ_totals to the main thread\n",
    "#             print(\"returning %d qets\" % len(ψ_totals))\n",
    "#             return ψ_totals\n",
    "        \n",
    "#     def to_equiv_electrons(self):\n",
    "#         # To account for electrons being equivalent it suffices to interpret each\n",
    "#         # tuple of symbols under the keys of each qet to be a slater determinant\n",
    "#         # in turn this allows simplifying the qets to account for the symmetries\n",
    "#         # under exchange of symbols/electrons inside the keys\n",
    "\n",
    "#         ψ_totals = self.inequiv_waves\n",
    "#         print(\"Calculating equivalent electron determinantal states ...\")\n",
    "#         print(\"Starting from %d qets ...\" % len(ψ_totals))\n",
    "#         simplified_kets = {}\n",
    "#         for ψ_123, qet_123 in ψ_totals.items():\n",
    "#             qet_simplified = self.det_qet_simplify(qet_123)\n",
    "#             if len(qet_simplified) != 0:\n",
    "#                     simplified_kets[ψ_123] = Qet(dict(qet_simplified))\n",
    "#                     the_normalizer = 1/simplified_kets[ψ_123].norm()\n",
    "#                     simplified_kets[ψ_123] = the_normalizer*simplified_kets[ψ_123]\n",
    "\n",
    "#         # The same qet might have been arrived at by different paths, the only\n",
    "#         # difference begin an overall phase.\n",
    "#         # This last step only keeps the qets that are non-equivalent.\n",
    "\n",
    "#         full_det_qets = []\n",
    "#         qsymbs = []\n",
    "#         for total_ket_key_0, simple_ket_0 in simplified_kets.items():\n",
    "#             ratios = []\n",
    "#             for simple_ket_1 in full_det_qets:\n",
    "#                 divvy = self.qet_divide(simple_ket_0, simple_ket_1)\n",
    "#                 ratios.append(divvy==0)\n",
    "#             ratios = sum(ratios)\n",
    "#             if ratios == len(full_det_qets):\n",
    "#                 full_det_qets.append(simple_ket_0)\n",
    "#                 qsymbs.append(total_ket_key_0)\n",
    "#         full_det_qets = dict(zip(qsymbs, full_det_qets))\n",
    "#         print(\"Ending with %d qets ...\" % len(full_det_qets))\n",
    "#         return full_det_qets"
   ]
  },
  {
   "cell_type": "code",
   "execution_count": 294,
   "metadata": {},
   "outputs": [
    {
     "data": {
      "text/html": [
       "<pre>✔️ 904 ms (2021-12-15T16:38:09/2021-12-15T16:38:10)</pre>"
      ],
      "text/plain": [
       "<IPython.core.display.HTML object>"
      ]
     },
     "metadata": {},
     "output_type": "display_data"
    },
    {
     "name": "stdout",
     "output_type": "stream",
     "text": [
      "Calculating inequivalent electon wave functions ...\n",
      "Adding [T_2, T_2, E, E]\n",
      "Adding [T_2, T_2, E]\n",
      "Adding [T_2, T_2]\n",
      "Two singles are easy ...\n",
      "returning 36 qets\n",
      "returning 144 qets\n",
      "returning 576 qets\n",
      "Calculating equivalent electron determinantal states ...\n",
      "Starting from 576 qets ...\n",
      "Ending with 110 qets ...\n"
     ]
    }
   ],
   "source": [
    "econfig = [sp.Symbol('T_2'), sp.Symbol('T_2'), sp.Symbol('E'), sp.Symbol('E')]\n",
    "wavesL = CrystalElectronsLong('O', econfig)"
   ]
  },
  {
   "cell_type": "markdown",
   "metadata": {},
   "source": [
    "I think I'm making a non - equivalent comparison, this has to do with the coupling scheme that is being used.\n",
    "It is not the same to couple T2 to T2 and then T2 to those two and then a final T2 to those three, than first\n",
    "coupling 2 T2s and seperataly coupling other two T2s, and then coupling those two together?"
   ]
  },
  {
   "cell_type": "code",
   "execution_count": 274,
   "metadata": {},
   "outputs": [
    {
     "data": {
      "text/html": [
       "<pre>✔️ 1.47 s (2021-12-15T15:19:52/2021-12-15T15:19:53)</pre>"
      ],
      "text/plain": [
       "<IPython.core.display.HTML object>"
      ]
     },
     "metadata": {},
     "output_type": "display_data"
    },
    {
     "name": "stdout",
     "output_type": "stream",
     "text": [
      "Adding [T_2, T_2, E, E]\n",
      "Adding [T_2, T_2, E]\n",
      "Adding [T_2, T_2]\n",
      "Calculating equivalent electron determinantal states ...\n",
      "Calculating equivalent electron determinantal states ...\n",
      "Adding [T_2, T_2, E, E]\n",
      "Adding [T_2, T_2, E]\n",
      "Adding [T_2, T_2]\n",
      "Calculating equivalent electron determinantal states ...\n"
     ]
    }
   ],
   "source": [
    "econfig = [sp.Symbol('E'), sp.Symbol('E'), sp.Symbol('T_2'), sp.Symbol('T_2')]\n",
    "econfig = [sp.Symbol('T_2'), sp.Symbol('T_2'), sp.Symbol('E'), sp.Symbol('E')]\n",
    "wavesS = CrystalElectronsShortcut('O', econfig)\n",
    "wavesL = CrystalElectronsLong('O', econfig)"
   ]
  },
  {
   "cell_type": "code",
   "execution_count": 275,
   "metadata": {},
   "outputs": [
    {
     "data": {
      "text/html": [
       "<pre>✔️ 2.47 ms (2021-12-15T15:19:55/2021-12-15T15:19:55)</pre>"
      ],
      "text/plain": [
       "<IPython.core.display.HTML object>"
      ]
     },
     "metadata": {},
     "output_type": "display_data"
    },
    {
     "data": {
      "text/plain": [
       "'LONG way: 110 wave functions, Shortcut: 110 wave functions'"
      ]
     },
     "execution_count": 275,
     "metadata": {},
     "output_type": "execute_result"
    }
   ],
   "source": [
    "'LONG way: %d wave functions, Shortcut: %d wave functions' % (len(wavesL.equiv_waves), len(wavesS.equiv_waves))"
   ]
  },
  {
   "cell_type": "code",
   "execution_count": 277,
   "metadata": {},
   "outputs": [
    {
     "data": {
      "text/html": [
       "<pre>✔️ 3.32 ms (2021-12-15T15:21:05/2021-12-15T15:21:05)</pre>"
      ],
      "text/plain": [
       "<IPython.core.display.HTML object>"
      ]
     },
     "metadata": {},
     "output_type": "display_data"
    },
    {
     "data": {
      "text/plain": [
       "{(0, A_1): 2,\n",
       " (1, A_2): 3,\n",
       " (0, E): 8,\n",
       " (1, E): 6,\n",
       " (0, A_2): 1,\n",
       " (1, T_1): 27,\n",
       " (0, T_2): 9,\n",
       " (1, T_2): 36,\n",
       " (2, T_2): 15,\n",
       " (0, T_1): 3}"
      ]
     },
     "execution_count": 277,
     "metadata": {},
     "output_type": "execute_result"
    }
   ],
   "source": [
    "terms = {}\n",
    "collected = {}\n",
    "for k,v in wavesL.equiv_waves.items():\n",
    "    if k.terms[-1] not in terms:\n",
    "        terms[k.terms[-1]] = 0\n",
    "        collected[k.terms[-1]] = []\n",
    "    terms[k.terms[-1]] += 1\n",
    "    collected[k.terms[-1]].append((k,v))\n",
    "terms"
   ]
  },
  {
   "cell_type": "code",
   "execution_count": 278,
   "metadata": {},
   "outputs": [
    {
     "data": {
      "text/html": [
       "<pre>✔️ 8.99 ms (2021-12-15T15:21:06/2021-12-15T15:21:06)</pre>"
      ],
      "text/plain": [
       "<IPython.core.display.HTML object>"
      ]
     },
     "metadata": {},
     "output_type": "display_data"
    },
    {
     "data": {
      "text/plain": [
       "[[1, 0, 0, 0, 0, 0, 0, 0],\n",
       " [0, 1, 0, 0, 0, 0, 0, 0],\n",
       " [0, 0, 1, 0, 0, 0, 0, 0],\n",
       " [0, 0, 0, 1, 0, 0, 0, 0],\n",
       " [0, 0, 0, 0, 1, 0, 0, 0],\n",
       " [0, 0, 0, 0, 0, 1, 0, 0],\n",
       " [0, 0, 0, 0, 0, 0, 1, 0],\n",
       " [0, 0, 0, 0, 0, 0, 0, 1]]"
      ]
     },
     "execution_count": 278,
     "metadata": {},
     "output_type": "execute_result"
    }
   ],
   "source": [
    "[[qet_divide(q0[1], q1[1]) for q0 in collected[(0,sp.Symbol('E'))]] for q1 in collected[(0,sp.Symbol('E'))]]"
   ]
  },
  {
   "cell_type": "code",
   "execution_count": 279,
   "metadata": {},
   "outputs": [
    {
     "data": {
      "text/html": [
       "<pre>✔️ 39.1 ms (2021-12-15T15:21:09/2021-12-15T15:21:09)</pre>"
      ],
      "text/plain": [
       "<IPython.core.display.HTML object>"
      ]
     },
     "metadata": {},
     "output_type": "display_data"
    },
    {
     "name": "stdout",
     "output_type": "stream",
     "text": [
      "1\n"
     ]
    },
    {
     "data": {
      "text/plain": [
       "Ψ(electrons=(T_2, T_2, E, E), terms=((1/2, T_2), (1/2, T_2), (0, A_1), (1/2, E), (0, E)), γ={\\gamma}, S=0, M=0)"
      ]
     },
     "metadata": {},
     "output_type": "display_data"
    },
    {
     "data": {
      "text/latex": [
       "$\\displaystyle - \\frac{\\sqrt{6} |\\bar{{\\chi}} {\\chi} \\bar{{\\gamma}} {\\gamma}|}{6} + \\frac{\\sqrt{6} |\\bar{{\\chi}} {\\chi} \\bar{{\\zeta}} {\\zeta}|}{6} - \\frac{\\sqrt{6} |\\bar{{\\phi}} {\\phi} \\bar{{\\gamma}} {\\gamma}|}{6} + \\frac{\\sqrt{6} |\\bar{{\\phi}} {\\phi} \\bar{{\\zeta}} {\\zeta}|}{6} - \\frac{\\sqrt{6} |\\bar{{\\xi}} {\\xi} \\bar{{\\gamma}} {\\gamma}|}{6} + \\frac{\\sqrt{6} |\\bar{{\\xi}} {\\xi} \\bar{{\\zeta}} {\\zeta}|}{6}$"
      ],
      "text/plain": [
       "-sqrt(6)*|\\bar{{\\chi}} {\\chi} \\bar{{\\gamma}} {\\gamma}|/6 + sqrt(6)*|\\bar{{\\chi}} {\\chi} \\bar{{\\zeta}} {\\zeta}|/6 - sqrt(6)*|\\bar{{\\phi}} {\\phi} \\bar{{\\gamma}} {\\gamma}|/6 + sqrt(6)*|\\bar{{\\phi}} {\\phi} \\bar{{\\zeta}} {\\zeta}|/6 - sqrt(6)*|\\bar{{\\xi}} {\\xi} \\bar{{\\gamma}} {\\gamma}|/6 + sqrt(6)*|\\bar{{\\xi}} {\\xi} \\bar{{\\zeta}} {\\zeta}|/6"
      ]
     },
     "metadata": {},
     "output_type": "display_data"
    },
    {
     "name": "stdout",
     "output_type": "stream",
     "text": [
      "2\n"
     ]
    },
    {
     "data": {
      "text/plain": [
       "Ψ(electrons=(T_2, T_2, E, E), terms=((1/2, T_2), (1/2, T_2), (0, A_1), (1/2, E), (0, E)), γ={\\zeta}, S=0, M=0)"
      ]
     },
     "metadata": {},
     "output_type": "display_data"
    },
    {
     "data": {
      "text/latex": [
       "$\\displaystyle \\frac{\\sqrt{6} |\\bar{{\\chi}} {\\chi} \\bar{{\\gamma}} {\\zeta}|}{6} - \\frac{\\sqrt{6} |\\bar{{\\chi}} {\\chi} {\\gamma} \\bar{{\\zeta}}|}{6} + \\frac{\\sqrt{6} |\\bar{{\\phi}} {\\phi} \\bar{{\\gamma}} {\\zeta}|}{6} - \\frac{\\sqrt{6} |\\bar{{\\phi}} {\\phi} {\\gamma} \\bar{{\\zeta}}|}{6} + \\frac{\\sqrt{6} |\\bar{{\\xi}} {\\xi} \\bar{{\\gamma}} {\\zeta}|}{6} - \\frac{\\sqrt{6} |\\bar{{\\xi}} {\\xi} {\\gamma} \\bar{{\\zeta}}|}{6}$"
      ],
      "text/plain": [
       "sqrt(6)*|\\bar{{\\chi}} {\\chi} \\bar{{\\gamma}} {\\zeta}|/6 - sqrt(6)*|\\bar{{\\chi}} {\\chi} {\\gamma} \\bar{{\\zeta}}|/6 + sqrt(6)*|\\bar{{\\phi}} {\\phi} \\bar{{\\gamma}} {\\zeta}|/6 - sqrt(6)*|\\bar{{\\phi}} {\\phi} {\\gamma} \\bar{{\\zeta}}|/6 + sqrt(6)*|\\bar{{\\xi}} {\\xi} \\bar{{\\gamma}} {\\zeta}|/6 - sqrt(6)*|\\bar{{\\xi}} {\\xi} {\\gamma} \\bar{{\\zeta}}|/6"
      ]
     },
     "metadata": {},
     "output_type": "display_data"
    },
    {
     "name": "stdout",
     "output_type": "stream",
     "text": [
      "3\n"
     ]
    },
    {
     "data": {
      "text/plain": [
       "Ψ(electrons=(T_2, T_2, E, E), terms=((1/2, T_2), (1/2, T_2), (0, E), (1/2, A_1), (0, E)), γ={\\gamma}, S=0, M=0)"
      ]
     },
     "metadata": {},
     "output_type": "display_data"
    },
    {
     "data": {
      "text/latex": [
       "$\\displaystyle \\frac{|\\bar{{\\chi}} {\\chi} \\bar{{\\gamma}} {\\gamma}|}{3} + \\frac{\\sqrt{3} |\\bar{{\\chi}} {\\chi} \\bar{{\\zeta}} {\\gamma}|}{6} - \\frac{\\sqrt{3} |\\bar{{\\chi}} {\\chi} {\\zeta} \\bar{{\\gamma}}|}{6} + \\frac{|\\bar{{\\phi}} {\\phi} \\bar{{\\gamma}} {\\gamma}|}{3} - \\frac{\\sqrt{3} |\\bar{{\\phi}} {\\phi} \\bar{{\\zeta}} {\\gamma}|}{6} + \\frac{\\sqrt{3} |\\bar{{\\phi}} {\\phi} {\\zeta} \\bar{{\\gamma}}|}{6} - \\frac{2 |\\bar{{\\xi}} {\\xi} \\bar{{\\gamma}} {\\gamma}|}{3}$"
      ],
      "text/plain": [
       "|\\bar{{\\chi}} {\\chi} \\bar{{\\gamma}} {\\gamma}|/3 + sqrt(3)*|\\bar{{\\chi}} {\\chi} \\bar{{\\zeta}} {\\gamma}|/6 - sqrt(3)*|\\bar{{\\chi}} {\\chi} {\\zeta} \\bar{{\\gamma}}|/6 + |\\bar{{\\phi}} {\\phi} \\bar{{\\gamma}} {\\gamma}|/3 - sqrt(3)*|\\bar{{\\phi}} {\\phi} \\bar{{\\zeta}} {\\gamma}|/6 + sqrt(3)*|\\bar{{\\phi}} {\\phi} {\\zeta} \\bar{{\\gamma}}|/6 - 2*|\\bar{{\\xi}} {\\xi} \\bar{{\\gamma}} {\\gamma}|/3"
      ]
     },
     "metadata": {},
     "output_type": "display_data"
    },
    {
     "name": "stdout",
     "output_type": "stream",
     "text": [
      "4\n"
     ]
    },
    {
     "data": {
      "text/plain": [
       "Ψ(electrons=(T_2, T_2, E, E), terms=((1/2, T_2), (1/2, T_2), (0, E), (1/2, A_1), (0, E)), γ={\\zeta}, S=0, M=0)"
      ]
     },
     "metadata": {},
     "output_type": "display_data"
    },
    {
     "data": {
      "text/latex": [
       "$\\displaystyle \\frac{|\\bar{{\\chi}} {\\chi} \\bar{{\\gamma}} {\\zeta}|}{6} + \\frac{\\sqrt{3} |\\bar{{\\chi}} {\\chi} \\bar{{\\zeta}} {\\zeta}|}{3} - \\frac{|\\bar{{\\chi}} {\\chi} {\\gamma} \\bar{{\\zeta}}|}{6} + \\frac{|\\bar{{\\phi}} {\\phi} \\bar{{\\gamma}} {\\zeta}|}{6} - \\frac{\\sqrt{3} |\\bar{{\\phi}} {\\phi} \\bar{{\\zeta}} {\\zeta}|}{3} - \\frac{|\\bar{{\\phi}} {\\phi} {\\gamma} \\bar{{\\zeta}}|}{6} - \\frac{|\\bar{{\\xi}} {\\xi} \\bar{{\\gamma}} {\\zeta}|}{3} + \\frac{|\\bar{{\\xi}} {\\xi} {\\gamma} \\bar{{\\zeta}}|}{3}$"
      ],
      "text/plain": [
       "|\\bar{{\\chi}} {\\chi} \\bar{{\\gamma}} {\\zeta}|/6 + sqrt(3)*|\\bar{{\\chi}} {\\chi} \\bar{{\\zeta}} {\\zeta}|/3 - |\\bar{{\\chi}} {\\chi} {\\gamma} \\bar{{\\zeta}}|/6 + |\\bar{{\\phi}} {\\phi} \\bar{{\\gamma}} {\\zeta}|/6 - sqrt(3)*|\\bar{{\\phi}} {\\phi} \\bar{{\\zeta}} {\\zeta}|/3 - |\\bar{{\\phi}} {\\phi} {\\gamma} \\bar{{\\zeta}}|/6 - |\\bar{{\\xi}} {\\xi} \\bar{{\\gamma}} {\\zeta}|/3 + |\\bar{{\\xi}} {\\xi} {\\gamma} \\bar{{\\zeta}}|/3"
      ]
     },
     "metadata": {},
     "output_type": "display_data"
    },
    {
     "name": "stdout",
     "output_type": "stream",
     "text": [
      "5\n"
     ]
    },
    {
     "data": {
      "text/plain": [
       "Ψ(electrons=(T_2, T_2, E, E), terms=((1/2, T_2), (1/2, T_2), (0, E), (1/2, A_2), (0, E)), γ={\\gamma}, S=0, M=0)"
      ]
     },
     "metadata": {},
     "output_type": "display_data"
    },
    {
     "data": {
      "text/latex": [
       "$\\displaystyle \\frac{\\sqrt{3} |\\bar{{\\chi}} {\\chi} \\bar{{\\gamma}} {\\zeta}|}{6} - \\frac{|\\bar{{\\chi}} {\\chi} \\bar{{\\zeta}} {\\zeta}|}{3} - \\frac{\\sqrt{3} |\\bar{{\\chi}} {\\chi} {\\gamma} \\bar{{\\zeta}}|}{6} - \\frac{\\sqrt{3} |\\bar{{\\phi}} {\\phi} \\bar{{\\gamma}} {\\zeta}|}{6} - \\frac{|\\bar{{\\phi}} {\\phi} \\bar{{\\zeta}} {\\zeta}|}{3} + \\frac{\\sqrt{3} |\\bar{{\\phi}} {\\phi} {\\gamma} \\bar{{\\zeta}}|}{6} + \\frac{2 |\\bar{{\\xi}} {\\xi} \\bar{{\\zeta}} {\\zeta}|}{3}$"
      ],
      "text/plain": [
       "sqrt(3)*|\\bar{{\\chi}} {\\chi} \\bar{{\\gamma}} {\\zeta}|/6 - |\\bar{{\\chi}} {\\chi} \\bar{{\\zeta}} {\\zeta}|/3 - sqrt(3)*|\\bar{{\\chi}} {\\chi} {\\gamma} \\bar{{\\zeta}}|/6 - sqrt(3)*|\\bar{{\\phi}} {\\phi} \\bar{{\\gamma}} {\\zeta}|/6 - |\\bar{{\\phi}} {\\phi} \\bar{{\\zeta}} {\\zeta}|/3 + sqrt(3)*|\\bar{{\\phi}} {\\phi} {\\gamma} \\bar{{\\zeta}}|/6 + 2*|\\bar{{\\xi}} {\\xi} \\bar{{\\zeta}} {\\zeta}|/3"
      ]
     },
     "metadata": {},
     "output_type": "display_data"
    },
    {
     "name": "stdout",
     "output_type": "stream",
     "text": [
      "6\n"
     ]
    },
    {
     "data": {
      "text/plain": [
       "Ψ(electrons=(T_2, T_2, E, E), terms=((1/2, T_2), (1/2, T_2), (0, E), (1/2, A_2), (0, E)), γ={\\zeta}, S=0, M=0)"
      ]
     },
     "metadata": {},
     "output_type": "display_data"
    },
    {
     "data": {
      "text/latex": [
       "$\\displaystyle - \\frac{\\sqrt{3} |\\bar{{\\chi}} {\\chi} \\bar{{\\gamma}} {\\gamma}|}{3} + \\frac{|\\bar{{\\chi}} {\\chi} \\bar{{\\zeta}} {\\gamma}|}{6} - \\frac{|\\bar{{\\chi}} {\\chi} {\\zeta} \\bar{{\\gamma}}|}{6} + \\frac{\\sqrt{3} |\\bar{{\\phi}} {\\phi} \\bar{{\\gamma}} {\\gamma}|}{3} + \\frac{|\\bar{{\\phi}} {\\phi} \\bar{{\\zeta}} {\\gamma}|}{6} - \\frac{|\\bar{{\\phi}} {\\phi} {\\zeta} \\bar{{\\gamma}}|}{6} - \\frac{|\\bar{{\\xi}} {\\xi} \\bar{{\\zeta}} {\\gamma}|}{3} + \\frac{|\\bar{{\\xi}} {\\xi} {\\zeta} \\bar{{\\gamma}}|}{3}$"
      ],
      "text/plain": [
       "-sqrt(3)*|\\bar{{\\chi}} {\\chi} \\bar{{\\gamma}} {\\gamma}|/3 + |\\bar{{\\chi}} {\\chi} \\bar{{\\zeta}} {\\gamma}|/6 - |\\bar{{\\chi}} {\\chi} {\\zeta} \\bar{{\\gamma}}|/6 + sqrt(3)*|\\bar{{\\phi}} {\\phi} \\bar{{\\gamma}} {\\gamma}|/3 + |\\bar{{\\phi}} {\\phi} \\bar{{\\zeta}} {\\gamma}|/6 - |\\bar{{\\phi}} {\\phi} {\\zeta} \\bar{{\\gamma}}|/6 - |\\bar{{\\xi}} {\\xi} \\bar{{\\zeta}} {\\gamma}|/3 + |\\bar{{\\xi}} {\\xi} {\\zeta} \\bar{{\\gamma}}|/3"
      ]
     },
     "metadata": {},
     "output_type": "display_data"
    },
    {
     "name": "stdout",
     "output_type": "stream",
     "text": [
      "7\n"
     ]
    },
    {
     "data": {
      "text/plain": [
       "Ψ(electrons=(T_2, T_2, E, E), terms=((1/2, T_2), (1/2, T_2), (0, E), (1/2, E), (0, E)), γ={\\gamma}, S=0, M=0)"
      ]
     },
     "metadata": {},
     "output_type": "display_data"
    },
    {
     "data": {
      "text/latex": [
       "$\\displaystyle \\frac{\\sqrt{3} |\\bar{{\\chi}} {\\chi} \\bar{{\\gamma}} {\\gamma}|}{6} + \\frac{\\sqrt{3} |\\bar{{\\chi}} {\\chi} \\bar{{\\zeta}} {\\zeta}|}{6} + \\frac{\\sqrt{3} |\\bar{{\\phi}} {\\phi} \\bar{{\\gamma}} {\\gamma}|}{6} + \\frac{\\sqrt{3} |\\bar{{\\phi}} {\\phi} \\bar{{\\zeta}} {\\zeta}|}{6} - \\frac{\\sqrt{3} |\\bar{{\\xi}} {\\xi} \\bar{{\\gamma}} {\\gamma}|}{3} - \\frac{\\sqrt{3} |\\bar{{\\xi}} {\\xi} \\bar{{\\zeta}} {\\zeta}|}{3}$"
      ],
      "text/plain": [
       "sqrt(3)*|\\bar{{\\chi}} {\\chi} \\bar{{\\gamma}} {\\gamma}|/6 + sqrt(3)*|\\bar{{\\chi}} {\\chi} \\bar{{\\zeta}} {\\zeta}|/6 + sqrt(3)*|\\bar{{\\phi}} {\\phi} \\bar{{\\gamma}} {\\gamma}|/6 + sqrt(3)*|\\bar{{\\phi}} {\\phi} \\bar{{\\zeta}} {\\zeta}|/6 - sqrt(3)*|\\bar{{\\xi}} {\\xi} \\bar{{\\gamma}} {\\gamma}|/3 - sqrt(3)*|\\bar{{\\xi}} {\\xi} \\bar{{\\zeta}} {\\zeta}|/3"
      ]
     },
     "metadata": {},
     "output_type": "display_data"
    },
    {
     "name": "stdout",
     "output_type": "stream",
     "text": [
      "8\n"
     ]
    },
    {
     "data": {
      "text/plain": [
       "Ψ(electrons=(T_2, T_2, E, E), terms=((1/2, T_2), (1/2, T_2), (0, E), (1/2, E), (0, E)), γ={\\zeta}, S=0, M=0)"
      ]
     },
     "metadata": {},
     "output_type": "display_data"
    },
    {
     "data": {
      "text/latex": [
       "$\\displaystyle \\frac{|\\bar{{\\chi}} {\\chi} \\bar{{\\gamma}} {\\gamma}|}{2} + \\frac{|\\bar{{\\chi}} {\\chi} \\bar{{\\zeta}} {\\zeta}|}{2} - \\frac{|\\bar{{\\phi}} {\\phi} \\bar{{\\gamma}} {\\gamma}|}{2} - \\frac{|\\bar{{\\phi}} {\\phi} \\bar{{\\zeta}} {\\zeta}|}{2}$"
      ],
      "text/plain": [
       "|\\bar{{\\chi}} {\\chi} \\bar{{\\gamma}} {\\gamma}|/2 + |\\bar{{\\chi}} {\\chi} \\bar{{\\zeta}} {\\zeta}|/2 - |\\bar{{\\phi}} {\\phi} \\bar{{\\gamma}} {\\gamma}|/2 - |\\bar{{\\phi}} {\\phi} \\bar{{\\zeta}} {\\zeta}|/2"
      ]
     },
     "metadata": {},
     "output_type": "display_data"
    }
   ],
   "source": [
    "counter = 1\n",
    "for k,v in collected[(0,sp.Symbol('E'))]:\n",
    "    print(counter)\n",
    "    display(k)\n",
    "    display(as_det_ket(v))\n",
    "    counter += 1"
   ]
  },
  {
   "cell_type": "code",
   "execution_count": 248,
   "metadata": {},
   "outputs": [
    {
     "data": {
      "text/html": [
       "<pre>✔️ 4.07 ms (2021-12-15T14:56:43/2021-12-15T14:56:43)</pre>"
      ],
      "text/plain": [
       "<IPython.core.display.HTML object>"
      ]
     },
     "metadata": {},
     "output_type": "display_data"
    },
    {
     "data": {
      "text/plain": [
       "{(0, E): 6,\n",
       " (0, T_1): 3,\n",
       " (2, T_2): 15,\n",
       " (1, E): 6,\n",
       " (0, T_2): 9,\n",
       " (1, A_2): 3,\n",
       " (0, A_1): 2,\n",
       " (0, A_2): 1,\n",
       " (1, T_1): 27,\n",
       " (1, T_2): 18}"
      ]
     },
     "execution_count": 248,
     "metadata": {},
     "output_type": "execute_result"
    }
   ],
   "source": [
    "gt = '1 a_1 1 e 1 t_2 3 t_1 1 e 1 a_1 1 a_2 1 e 1 t_1 1 t_2 3 t_1 3 t_2 3 a_2 3 e 3 t_1 1 t_2 3 t_2 5 t_2'.split()\n",
    "gt = [gt[i:i+2] for i in range(0,len(gt),2)]\n",
    "gt = [(int(x[0]), x[1].upper()) for x in gt]\n",
    "num_waves = [(x[0]) * {'A_1':1,'A_2':1,'E':2,'T_1':3,'T_2':3}[x[1]] for x in gt]\n",
    "gt_waves = {((gtu[0]-1)//2,sp.Symbol(gtu[1])): gtu[0]*{'A_1':1,'A_2':1,'E':2,'T_1':3,'T_2':3}[gtu[1]] * gt.count(gtu) for gtu in list(set(gt))}\n",
    "gt_waves"
   ]
  },
  {
   "cell_type": "code",
   "execution_count": 151,
   "metadata": {},
   "outputs": [
    {
     "data": {
      "text/html": [
       "<pre>✔️ 9.22 ms (2021-12-15T14:23:34/2021-12-15T14:23:34)</pre>"
      ],
      "text/plain": [
       "<IPython.core.display.HTML object>"
      ]
     },
     "metadata": {},
     "output_type": "display_data"
    },
    {
     "name": "stdout",
     "output_type": "stream",
     "text": [
      "0\n"
     ]
    },
    {
     "data": {
      "text/latex": [
       "$\\displaystyle - \\frac{\\sqrt{3} |\\bar{{\\chi}} \\bar{{\\gamma}} {\\chi} {\\gamma}|}{6} - \\frac{|\\bar{{\\chi}} \\bar{{\\zeta}} {\\chi} {\\gamma}|}{2} - \\frac{\\sqrt{3} |\\bar{{\\phi}} \\bar{{\\gamma}} {\\phi} {\\gamma}|}{6} + \\frac{|\\bar{{\\phi}} \\bar{{\\zeta}} {\\phi} {\\gamma}|}{2} + \\frac{\\sqrt{3} |\\bar{{\\xi}} \\bar{{\\gamma}} {\\xi} {\\gamma}|}{3}$"
      ],
      "text/plain": [
       "-sqrt(3)*|\\bar{{\\chi}} \\bar{{\\gamma}} {\\chi} {\\gamma}|/6 - |\\bar{{\\chi}} \\bar{{\\zeta}} {\\chi} {\\gamma}|/2 - sqrt(3)*|\\bar{{\\phi}} \\bar{{\\gamma}} {\\phi} {\\gamma}|/6 + |\\bar{{\\phi}} \\bar{{\\zeta}} {\\phi} {\\gamma}|/2 + sqrt(3)*|\\bar{{\\xi}} \\bar{{\\gamma}} {\\xi} {\\gamma}|/3"
      ]
     },
     "metadata": {},
     "output_type": "display_data"
    },
    {
     "data": {
      "text/latex": [
       "$\\displaystyle - \\frac{|\\bar{{\\chi}} \\bar{{\\gamma}} {\\chi} {\\gamma}|}{3} - \\frac{\\sqrt{3} |\\bar{{\\chi}} \\bar{{\\zeta}} {\\chi} {\\gamma}|}{6} + \\frac{\\sqrt{3} |\\bar{{\\chi}} {\\zeta} {\\chi} \\bar{{\\gamma}}|}{6} - \\frac{|\\bar{{\\phi}} \\bar{{\\gamma}} {\\phi} {\\gamma}|}{3} + \\frac{\\sqrt{3} |\\bar{{\\phi}} \\bar{{\\zeta}} {\\phi} {\\gamma}|}{6} - \\frac{\\sqrt{3} |\\bar{{\\phi}} {\\zeta} {\\phi} \\bar{{\\gamma}}|}{6} + \\frac{2 |\\bar{{\\xi}} \\bar{{\\gamma}} {\\xi} {\\gamma}|}{3}$"
      ],
      "text/plain": [
       "-|\\bar{{\\chi}} \\bar{{\\gamma}} {\\chi} {\\gamma}|/3 - sqrt(3)*|\\bar{{\\chi}} \\bar{{\\zeta}} {\\chi} {\\gamma}|/6 + sqrt(3)*|\\bar{{\\chi}} {\\zeta} {\\chi} \\bar{{\\gamma}}|/6 - |\\bar{{\\phi}} \\bar{{\\gamma}} {\\phi} {\\gamma}|/3 + sqrt(3)*|\\bar{{\\phi}} \\bar{{\\zeta}} {\\phi} {\\gamma}|/6 - sqrt(3)*|\\bar{{\\phi}} {\\zeta} {\\phi} \\bar{{\\gamma}}|/6 + 2*|\\bar{{\\xi}} \\bar{{\\gamma}} {\\xi} {\\gamma}|/3"
      ]
     },
     "metadata": {},
     "output_type": "display_data"
    }
   ],
   "source": [
    "# an example of a qet that is in both dictionaries but which are different\n",
    "comparisons = []\n",
    "for k in wavesS.equiv_waves:\n",
    "    if k in wavesL.equiv_waves:\n",
    "        compa = wavesL.equiv_waves[k].dict == wavesS.equiv_waves[k].dict\n",
    "        comparisons.append(compa)\n",
    "        if not compa:\n",
    "            break\n",
    "print(k.M)\n",
    "display(as_det_ket(wavesS.equiv_waves[k]))\n",
    "display(as_det_ket(wavesL.equiv_waves[k]))"
   ]
  },
  {
   "cell_type": "code",
   "execution_count": null,
   "metadata": {},
   "outputs": [],
   "source": [
    "wavesL.equiv_waves.keys()"
   ]
  },
  {
   "cell_type": "code",
   "execution_count": 154,
   "metadata": {},
   "outputs": [
    {
     "data": {
      "text/html": [
       "<pre>✔️ 5.92 ms (2021-12-15T14:25:36/2021-12-15T14:25:36)</pre>"
      ],
      "text/plain": [
       "<IPython.core.display.HTML object>"
      ]
     },
     "metadata": {},
     "output_type": "display_data"
    },
    {
     "name": "stdout",
     "output_type": "stream",
     "text": [
      "Ψ(electrons=(T_2, E, T_2, E), terms=((1/2, T_2), (1/2, E), (0, T_1), (1/2, A_2), (0, E)), γ={\\zeta}, S=0, M=0)\n"
     ]
    },
    {
     "data": {
      "text/latex": [
       "$\\displaystyle - \\frac{|\\bar{{\\chi}} {\\gamma} {\\chi} \\bar{{\\gamma}}|}{2} + \\frac{\\sqrt{3} |\\bar{{\\chi}} {\\zeta} {\\chi} \\bar{{\\gamma}}|}{6} + \\frac{|\\bar{{\\phi}} {\\gamma} {\\phi} \\bar{{\\gamma}}|}{2} + \\frac{\\sqrt{3} |\\bar{{\\phi}} {\\zeta} {\\phi} \\bar{{\\gamma}}|}{6} - \\frac{\\sqrt{3} |\\bar{{\\xi}} {\\zeta} {\\xi} \\bar{{\\gamma}}|}{3}$"
      ],
      "text/plain": [
       "-|\\bar{{\\chi}} {\\gamma} {\\chi} \\bar{{\\gamma}}|/2 + sqrt(3)*|\\bar{{\\chi}} {\\zeta} {\\chi} \\bar{{\\gamma}}|/6 + |\\bar{{\\phi}} {\\gamma} {\\phi} \\bar{{\\gamma}}|/2 + sqrt(3)*|\\bar{{\\phi}} {\\zeta} {\\phi} \\bar{{\\gamma}}|/6 - sqrt(3)*|\\bar{{\\xi}} {\\zeta} {\\xi} \\bar{{\\gamma}}|/3"
      ]
     },
     "metadata": {},
     "output_type": "display_data"
    }
   ],
   "source": [
    "# waves that are in the shortcut but not in the long way\n",
    "for k in set(wavesS.equiv_waves.keys()).difference(set(wavesL.equiv_waves.keys())):\n",
    "    print(k)\n",
    "    display(as_det_ket(wavesS.equiv_waves[k]))\n",
    "    break"
   ]
  },
  {
   "cell_type": "code",
   "execution_count": 165,
   "metadata": {},
   "outputs": [
    {
     "data": {
      "text/html": [
       "<pre>✔️ 7.47 ms (2021-12-15T14:27:57/2021-12-15T14:27:57)</pre>"
      ],
      "text/plain": [
       "<IPython.core.display.HTML object>"
      ]
     },
     "metadata": {},
     "output_type": "display_data"
    },
    {
     "name": "stdout",
     "output_type": "stream",
     "text": [
      ",\n",
      "Ψ(electrons=(T_2, E, T_2, E), terms=((1/2, T_2), (1/2, E), (1, T_2), (1/2, A_1), (0, E)), γ={\\zeta}, S=0, M=0)\n",
      "Ψ(electrons=(T_2, E, T_2, E), terms=((1/2, T_2), (1/2, E), (0, T_1), (1/2, A_2), (0, E)), γ={\\zeta}, S=0, M=0)\n"
     ]
    },
    {
     "data": {
      "text/latex": [
       "$\\displaystyle - \\frac{|\\bar{{\\chi}} \\bar{{\\gamma}} {\\chi} {\\zeta}|}{6} - \\frac{\\sqrt{3} |\\bar{{\\chi}} \\bar{{\\zeta}} {\\chi} {\\zeta}|}{3} + \\frac{|\\bar{{\\chi}} {\\gamma} {\\chi} \\bar{{\\zeta}}|}{6} - \\frac{|\\bar{{\\phi}} \\bar{{\\gamma}} {\\phi} {\\zeta}|}{6} + \\frac{\\sqrt{3} |\\bar{{\\phi}} \\bar{{\\zeta}} {\\phi} {\\zeta}|}{3} + \\frac{|\\bar{{\\phi}} {\\gamma} {\\phi} \\bar{{\\zeta}}|}{6} + \\frac{|\\bar{{\\xi}} \\bar{{\\gamma}} {\\xi} {\\zeta}|}{3} - \\frac{|\\bar{{\\xi}} {\\gamma} {\\xi} \\bar{{\\zeta}}|}{3}$"
      ],
      "text/plain": [
       "-|\\bar{{\\chi}} \\bar{{\\gamma}} {\\chi} {\\zeta}|/6 - sqrt(3)*|\\bar{{\\chi}} \\bar{{\\zeta}} {\\chi} {\\zeta}|/3 + |\\bar{{\\chi}} {\\gamma} {\\chi} \\bar{{\\zeta}}|/6 - |\\bar{{\\phi}} \\bar{{\\gamma}} {\\phi} {\\zeta}|/6 + sqrt(3)*|\\bar{{\\phi}} \\bar{{\\zeta}} {\\phi} {\\zeta}|/3 + |\\bar{{\\phi}} {\\gamma} {\\phi} \\bar{{\\zeta}}|/6 + |\\bar{{\\xi}} \\bar{{\\gamma}} {\\xi} {\\zeta}|/3 - |\\bar{{\\xi}} {\\gamma} {\\xi} \\bar{{\\zeta}}|/3"
      ]
     },
     "metadata": {},
     "output_type": "display_data"
    },
    {
     "data": {
      "text/latex": [
       "$\\displaystyle - \\frac{|\\bar{{\\chi}} {\\gamma} {\\chi} \\bar{{\\gamma}}|}{2} + \\frac{\\sqrt{3} |\\bar{{\\chi}} {\\zeta} {\\chi} \\bar{{\\gamma}}|}{6} + \\frac{|\\bar{{\\phi}} {\\gamma} {\\phi} \\bar{{\\gamma}}|}{2} + \\frac{\\sqrt{3} |\\bar{{\\phi}} {\\zeta} {\\phi} \\bar{{\\gamma}}|}{6} - \\frac{\\sqrt{3} |\\bar{{\\xi}} {\\zeta} {\\xi} \\bar{{\\gamma}}|}{3}$"
      ],
      "text/plain": [
       "-|\\bar{{\\chi}} {\\gamma} {\\chi} \\bar{{\\gamma}}|/2 + sqrt(3)*|\\bar{{\\chi}} {\\zeta} {\\chi} \\bar{{\\gamma}}|/6 + |\\bar{{\\phi}} {\\gamma} {\\phi} \\bar{{\\gamma}}|/2 + sqrt(3)*|\\bar{{\\phi}} {\\zeta} {\\phi} \\bar{{\\gamma}}|/6 - sqrt(3)*|\\bar{{\\xi}} {\\zeta} {\\xi} \\bar{{\\gamma}}|/3"
      ]
     },
     "metadata": {},
     "output_type": "display_data"
    }
   ],
   "source": [
    "for key in wavesL.equiv_waves.keys():\n",
    "    if key.terms[-1] == k.terms[-1]:\n",
    "        if key.γ == k.γ:\n",
    "            print(',')\n",
    "            break\n",
    "print(key)\n",
    "print(k)\n",
    "display(as_det_ket(wavesL.equiv_waves[key]))\n",
    "display(as_det_ket(wavesS.equiv_waves[k]))"
   ]
  },
  {
   "cell_type": "code",
   "execution_count": null,
   "metadata": {},
   "outputs": [],
   "source": []
  },
  {
   "cell_type": "code",
   "execution_count": 147,
   "metadata": {},
   "outputs": [
    {
     "data": {
      "text/html": [
       "<pre>✔️ 18.5 ms (2021-12-15T11:39:57/2021-12-15T11:39:57)</pre>"
      ],
      "text/plain": [
       "<IPython.core.display.HTML object>"
      ]
     },
     "metadata": {},
     "output_type": "display_data"
    }
   ],
   "source": [
    "def det_qet_simplify(qet):\n",
    "    equivalent_parts = {}\n",
    "    standard_order = {} # this holds the standard order to which all the other list members will be referred to\n",
    "    for ket_part_key, ket_part_coeff in qet.dict.items():\n",
    "        set_ket = frozenset(ket_part_key)\n",
    "        if set_ket not in equivalent_parts:\n",
    "            equivalent_parts[set_ket] = []\n",
    "            standard_order[set_ket] = ket_part_key\n",
    "        equivalent_parts[set_ket].append((ket_part_key, ket_part_coeff))\n",
    "    # once I've grouped them together into pices of equivalent parts\n",
    "    # i then need to rearrange and properly sign the rearrangements\n",
    "    det_simple = []\n",
    "    for equivalent_key in equivalent_parts:\n",
    "        base_order = standard_order[equivalent_key]\n",
    "        total_coeff = 0\n",
    "        equiv_parts = equivalent_parts[equivalent_key]\n",
    "        for equiv_part in equiv_parts:\n",
    "            ordering = [base_order.index(part) for part in equiv_part[0]]\n",
    "            sign = εijk(*ordering)\n",
    "            total_coeff += sign*equiv_part[1]\n",
    "        final = (base_order, total_coeff)\n",
    "        if total_coeff != 0:\n",
    "            det_simple.append(final)\n",
    "    return det_simple\n",
    "\n",
    "def adder(ψ_12s, Γ3):\n",
    "    '''\n",
    "    This function gets a dictionary of wave functions\n",
    "    and an additional electron that needs to be added\n",
    "    to them.\n",
    "    '''\n",
    "    ψ_123s = {}\n",
    "    comps_3 = component_labels[Γ3]\n",
    "    s3 = sp.S(1)/2\n",
    "\n",
    "    for ψ_12, qet_12 in ψ_12s.items():\n",
    "        electrons = ψ_12.electrons\n",
    "        terms = ψ_12.terms\n",
    "        Γ12 = terms[-1][1]\n",
    "        γ12 = ψ_12.γ\n",
    "        S12, M12 = ψ_12.S, ψ_12.M\n",
    "        S123s = lrange(S12, s3)\n",
    "        Γ123s = group.product_table.odict[(Γ12, Γ3)] # these are the possible Γs from Γ12XΓ3\n",
    "        for Γ123, S123 in product(Γ123s, S123s):\n",
    "            M123s = mrange(S123)\n",
    "            γ123s = component_labels[Γ123]\n",
    "            for γ123, m3, γ3, M123 in product(γ123s, ms, comps_3, M123s):\n",
    "                sCG2 = clebschG.eva(S12, s3, S123, M12, m3, M123)\n",
    "                # coupling a γ12, γ3 to get a final γ\n",
    "                gCG2 = group_CGs.setdefault((γ12, γ3, γ123), 0)\n",
    "                coeff = sCG2*gCG2\n",
    "                if coeff == 0:\n",
    "                    continue\n",
    "                ψ_123 = Ψ(electrons = electrons + (Γ3,),\n",
    "                            terms = terms+ ((S123,Γ123),),\n",
    "                                γ = γ123,\n",
    "                                S = S123,\n",
    "                                M = M123\n",
    "                        )\n",
    "                if ψ_123 not in ψ_123s:\n",
    "                    ψ_123s[ψ_123] = Qet({})\n",
    "                if m3 < 0:\n",
    "                    γ3f = bar_symbol(γ3)\n",
    "                else:\n",
    "                    γ3f = γ3\n",
    "                ψ_123s[ψ_123] = ψ_123s[ψ_123] + (qet_12 * Qet({(γ3f,): coeff}))\n",
    "    return ψ_123s\n",
    "\n",
    "group_label = 'O'\n",
    "group = CPGs.get_group_by_label(group_label)\n",
    "# get the CGs\n",
    "group_CGs = group.CG_coefficients\n",
    "# enforce the better notation for components\n",
    "flat_labels = dict(sum([list(l.items()) for l in list(new_labels[group_label].values())],[]))\n",
    "group_CGs = {(flat_labels[k[0]], flat_labels[k[1]], flat_labels[k[2]]):v for k,v in group_CGs.items()}\n",
    "irreps = group.irrep_labels\n",
    "ms = [-sp.S(1)/2,sp.S(1)/2] # for a spin 1/2\n",
    "s_half = sp.S(1)/2\n",
    "component_labels = {k:list(v.values()) for k,v in new_labels[group_label].items()}\n",
    "\n",
    "def elec_aggregate(Γs, waves={}):\n",
    "    print(len(Γs))\n",
    "    if len(Γs) == 2:\n",
    "        s1, s2 = s_half, s_half\n",
    "        Γ1, Γ2 = Γs\n",
    "        comps_1, comps_2 = [component_labels[ir] for ir in [Γ1, Γ2]]\n",
    "        Γ12s = group.product_table.odict[(Γ1, Γ2)] # the intermediate irreps belong to the reduction of Γ1 X Γ2\n",
    "        S12s = lrange(s1,s2) # this is just [0,1] as for the total angular momentum of the intermediate states\n",
    "        ψ_12s = {}\n",
    "\n",
    "        for γ1, γ2, m1, m2, Γ12, S12 in product(comps_1, comps_2, ms, ms, Γ12s, S12s):\n",
    "            comps_12 = component_labels[Γ12]\n",
    "            M12s = mrange(S12)\n",
    "            for γ12, M12 in product(comps_12, M12s):\n",
    "                ψ = Ψ(electrons = (Γ1, Γ2),\n",
    "                    terms = ((s1,Γ1),(s2,Γ2),(S12,Γ12)),\n",
    "                    γ = γ12,\n",
    "                    S = S12,\n",
    "                    M = M12\n",
    "                    )\n",
    "                # total_ket_key = (Γ12, γ12, S12, Γ12)\n",
    "                # summing s1 and s2 to yield S12\n",
    "                sCG1 = clebschG.eva(s1, s2, S12, m1, m2, M12)\n",
    "                # coupling a γ1, γ2 to get a γ12\n",
    "                gCG1 = group_CGs.setdefault((γ1, γ2, γ12), 0)\n",
    "                coeff = sCG1 * gCG1\n",
    "                if coeff == 0:\n",
    "                    continue\n",
    "                # collect in the dictionary all the parts that correspond to the sums\n",
    "                if ψ not in ψ_12s:\n",
    "                    ψ_12s[ψ] = {}\n",
    "                if m1 < 0:\n",
    "                    γ1f = bar_symbol(γ1)\n",
    "                else:\n",
    "                    γ1f = γ1\n",
    "                if m2 < 0:\n",
    "                    γ2f = bar_symbol(γ2)\n",
    "                else:\n",
    "                    γ2f = γ2\n",
    "                total_ket_part_key = (γ1f, γ2f)\n",
    "                if total_ket_part_key not in ψ_12s[ψ]:\n",
    "                    ψ_12s[ψ][total_ket_part_key] = 0\n",
    "                ψ_12s[ψ][total_ket_part_key] += coeff\n",
    "\n",
    "        ψ_12s = {k:Qet(v) for k,v in ψ_12s.items()} \n",
    "        return ψ_12s\n",
    "    else:\n",
    "        Γ_train, Γ_last = Γs[:-1], Γs[-1]\n",
    "        ψ_totals = adder(elec_aggregate(Γ_train), Γ_last)\n",
    "\n",
    "    simplified_kets = {}\n",
    "    for ψ_123, qet_123 in ψ_totals.items():\n",
    "        qet_simplified = det_qet_simplify(qet_123)\n",
    "        if len(qet_simplified) != 0:\n",
    "                simplified_kets[ψ_123] = Qet(dict(qet_simplified))\n",
    "                the_normalizer = 1/simplified_kets[ψ_123].norm()\n",
    "                simplified_kets[ψ_123] = the_normalizer*simplified_kets[ψ_123]\n",
    "\n",
    "    full_det_qets = []\n",
    "    qsymbs = []\n",
    "    for total_ket_key_0, simple_ket_0 in simplified_kets.items():\n",
    "        ratios = []\n",
    "        for simple_ket_1 in full_det_qets:\n",
    "            divvy = qet_divide(simple_ket_0, simple_ket_1)\n",
    "            ratios.append(divvy==0)\n",
    "        ratios = sum(ratios)\n",
    "        if ratios == len(full_det_qets):\n",
    "            full_det_qets.append(simple_ket_0)\n",
    "            qsymbs.append(total_ket_key_0)\n",
    "    full_det_qets = dict(zip(qsymbs, full_det_qets))\n",
    "    return full_det_qets"
   ]
  },
  {
   "cell_type": "code",
   "execution_count": null,
   "metadata": {},
   "outputs": [],
   "source": [
    "def det_simplify(ket_parts):\n",
    "    equivalent_parts = {}\n",
    "    standard_order = {} # this holds the standard order to which all the other list members will be referred to\n",
    "    for ket_part_key, ket_part_coeff in ket_parts.items():\n",
    "        set_ket = frozenset(ket_part_key)\n",
    "        if set_ket not in equivalent_parts:\n",
    "            equivalent_parts[set_ket] = []\n",
    "            standard_order[set_ket] = ket_part_key\n",
    "        equivalent_parts[set_ket].append((ket_part_key, ket_part_coeff))\n",
    "    # once I've grouped them together into pices of equivalent parts\n",
    "    # i then need to rearrange and properly sign the rearrangements\n",
    "    det_simple = []\n",
    "    for equivalent_key in equivalent_parts:\n",
    "        base_order = standard_order[equivalent_key]\n",
    "        total_coeff = 0\n",
    "        equiv_parts = equivalent_parts[equivalent_key]\n",
    "        for equiv_part in equiv_parts:\n",
    "            ordering = [base_order.index(part) for part in equiv_part[0]]\n",
    "            sign = εijk(*ordering)\n",
    "            total_coeff += sign*equiv_part[1]\n",
    "        final = (base_order, total_coeff)\n",
    "        if total_coeff != 0:\n",
    "            det_simple.append(final)\n",
    "    return det_simple"
   ]
  },
  {
   "cell_type": "code",
   "execution_count": null,
   "metadata": {},
   "outputs": [],
   "source": [
    "treeqets = add_em([sp.Symbol('T_2'),sp.Symbol('T_2'),sp.Symbol('T_2'),\n",
    "                   sp.Symbol('T_2'),sp.Symbol('T_2'),sp.Symbol('T_2'),sp.Symbol('E')])\n",
    "treeqets"
   ]
  },
  {
   "cell_type": "code",
   "execution_count": null,
   "metadata": {},
   "outputs": [],
   "source": [
    "group_label = 'O'\n",
    "group = CPGs.get_group_by_label(group_label)\n",
    "# get the CGs\n",
    "group_CGs = group.CG_coefficients\n",
    "# enforce the better notation for components\n",
    "flat_labels = dict(sum([list(l.items()) for l in list(new_labels[group_label].values())],[]))\n",
    "group_CGs = {(flat_labels[k[0]], flat_labels[k[1]], flat_labels[k[2]]):v for k,v in group_CGs.items()}\n",
    "irreps = group.irrep_labels\n",
    "ms = [-sp.S(1)/2,sp.S(1)/2] # for a spin 1/2\n",
    "s_half = sp.S(1)/2\n",
    "component_labels = {k:list(v.values()) for k,v in new_labels[group_label].items()}\n",
    "\n",
    "def add_em(Γs, waves={}):\n",
    "    print(len(Γs))\n",
    "    if len(Γs) == 2:\n",
    "        s1, s2 = s_half, s_half\n",
    "        Γ1, Γ2 = Γs\n",
    "        comps_1, comps_2 = [component_labels[ir] for ir in [Γ1, Γ2]]\n",
    "        Γ12s = group.product_table.odict[(Γ1, Γ2)] # the intermediate irreps belong to the reduction of Γ1 X Γ2\n",
    "        S12s = lrange(s1,s2) # this is just [0,1] as for the total angular momentum of the intermediate states\n",
    "        ψ_12s = {}\n",
    "\n",
    "        for γ1, γ2, m1, m2, Γ12, S12 in product(comps_1, comps_2, ms, ms, Γ12s, S12s):\n",
    "            comps_12 = component_labels[Γ12]\n",
    "            M12s = mrange(S12)\n",
    "            for γ12, M12 in product(comps_12, M12s):\n",
    "                ψ = Ψ(electrons = (Γ1, Γ2),\n",
    "                    terms = ((s1,Γ1),(s2,Γ2),(S12,Γ12)),\n",
    "                    γ = γ12,\n",
    "                    S = S12,\n",
    "                    M = M12\n",
    "                    )\n",
    "                # total_ket_key = (Γ12, γ12, S12, Γ12)\n",
    "                # summing s1 and s2 to yield S12\n",
    "                sCG1 = clebschG.eva(s1, s2, S12, m1, m2, M12)\n",
    "                # coupling a γ1, γ2 to get a γ12\n",
    "                gCG1 = group_CGs.setdefault((γ1, γ2, γ12), 0)\n",
    "                coeff = sCG1 * gCG1\n",
    "                if coeff == 0:\n",
    "                    continue\n",
    "                # collect in the dictionary all the parts that correspond to the sums\n",
    "                if ψ not in ψ_12s:\n",
    "                    ψ_12s[ψ] = {}\n",
    "                if m1 < 0:\n",
    "                    γ1f = bar_symbol(γ1)\n",
    "                else:\n",
    "                    γ1f = γ1\n",
    "                if m2 < 0:\n",
    "                    γ2f = bar_symbol(γ2)\n",
    "                else:\n",
    "                    γ2f = γ2\n",
    "                total_ket_part_key = (γ1f, γ2f)\n",
    "                if total_ket_part_key not in ψ_12s[ψ]:\n",
    "                    ψ_12s[ψ][total_ket_part_key] = 0\n",
    "                ψ_12s[ψ][total_ket_part_key] += coeff\n",
    "\n",
    "        ψ_12s = {k:Qet(v) for k,v in ψ_12s.items()} \n",
    "        return ψ_12s\n",
    "    else:\n",
    "        Γ_train, Γ_last = Γs[:-1], Γs[-1]\n",
    "        train_waves = adder(add_em(Γ_train), Γ_last)\n",
    "        return train_waves\n",
    "\n",
    "ψ_123s = add_em([sp.Symbol('T_2'),sp.Symbol('T_2'),sp.Symbol('T_2'),sp.Symbol('T_2'),sp.Symbol('T_2')])\n",
    "\n",
    "simplified_kets = {}\n",
    "for ψ_123, qet_123 in ψ_123s.items():\n",
    "    qet_simplified = det_qet_simplify(qet_123)\n",
    "    if len(qet_simplified) != 0:\n",
    "            simplified_kets[ψ_123] = Qet(dict(qet_simplified))\n",
    "            the_normalizer = 1/simplified_kets[ψ_123].norm()\n",
    "            simplified_kets[ψ_123] = the_normalizer*simplified_kets[ψ_123]\n",
    "\n",
    "three_qets = []\n",
    "qsymbs = []\n",
    "for total_ket_key_0, simple_ket_0 in simplified_kets.items():\n",
    "    ratios = []\n",
    "    for simple_ket_1 in three_qets:\n",
    "        divvy = qet_divide(simple_ket_0, simple_ket_1)\n",
    "        ratios.append(divvy==0)\n",
    "    ratios = sum(ratios)\n",
    "    if ratios == len(three_qets):\n",
    "        three_qets.append(simple_ket_0)\n",
    "        qsymbs.append(total_ket_key_0)\n",
    "three_qets = dict(zip(qsymbs, three_qets))"
   ]
  },
  {
   "cell_type": "code",
   "execution_count": 119,
   "metadata": {},
   "outputs": [
    {
     "data": {
      "text/html": [
       "<pre>✔️ 3.61 ms (2021-12-15T11:17:56/2021-12-15T11:17:56)</pre>"
      ],
      "text/plain": [
       "<IPython.core.display.HTML object>"
      ]
     },
     "metadata": {},
     "output_type": "display_data"
    },
    {
     "name": "stdout",
     "output_type": "stream",
     "text": [
      "4\n",
      "3\n",
      "2\n"
     ]
    },
    {
     "data": {
      "text/plain": [
       "{('Γ1', 'Γ3', 'Γ4'): 0, ('Γ2', 'Γ3', 'Γ4'): 1}"
      ]
     },
     "execution_count": 119,
     "metadata": {},
     "output_type": "execute_result"
    }
   ],
   "source": [
    "def jumper(waves, Γ_extra):\n",
    "    return {k+(Γ_extra,):v for k,v in waves.items()}\n",
    "def add_em(Γs, waves={}):\n",
    "    print(len(Γs))\n",
    "    if len(Γs) == 2:\n",
    "        out_waves = {(Γs[0],):0, (Γs[1],): 1}\n",
    "        return out_waves\n",
    "    else:\n",
    "        Γ_train, Γ_last = Γs[:-1], Γs[-1]\n",
    "        train_waves = jumper(add_em(Γ_train), Γ_last)\n",
    "        return train_waves\n",
    "add_em(['Γ1','Γ2','Γ3','Γ4'])"
   ]
  },
  {
   "cell_type": "code",
   "execution_count": 100,
   "metadata": {},
   "outputs": [
    {
     "data": {
      "text/html": [
       "<pre>✔️ 8.52 ms (2021-12-15T10:54:13/2021-12-15T10:54:13)</pre>"
      ],
      "text/plain": [
       "<IPython.core.display.HTML object>"
      ]
     },
     "metadata": {},
     "output_type": "display_data"
    }
   ],
   "source": [
    "\n",
    "\n",
    "def add_three(Γs, waves={}):\n",
    "    if len(Γs) == 2:\n",
    "        s1, s2 = s_half, s_half\n",
    "        Γ1, Γ2 = Γs\n",
    "        comps_1, comps_2 = [component_labels[ir] for ir in [Γ1, Γ2]]\n",
    "        Γ12s = group.product_table.odict[(Γ1, Γ2)] # the intermediate irreps belong to the reduction of Γ1 X Γ2\n",
    "        S12s = lrange(s1,s2) # this is just [0,1] as for the total angular momentum of the intermediate states\n",
    "        ψ_12s = {}\n",
    "\n",
    "        for γ1, γ2, m1, m2, Γ12, S12 in product(comps_1, comps_2, ms, ms, Γ12s, S12s):\n",
    "            comps_12 = component_labels[Γ12]\n",
    "            M12s = mrange(S12)\n",
    "            for γ12, M12 in product(comps_12, M12s):\n",
    "                ψ = Ψ(electrons = (Γ1, Γ2),\n",
    "                    terms = ((s1,Γ1),(s2,Γ2),(S12,Γ12)),\n",
    "                    γ = γ12,\n",
    "                    S = S12,\n",
    "                    M = M12\n",
    "                    )\n",
    "                # total_ket_key = (Γ12, γ12, S12, Γ12)\n",
    "                # summing s1 and s2 to yield S12\n",
    "                sCG1 = clebschG.eva(s1, s2, S12, m1, m2, M12)\n",
    "                # coupling a γ1, γ2 to get a γ12\n",
    "                gCG1 = group_CGs.setdefault((γ1, γ2, γ12), 0)\n",
    "                coeff = sCG1 * gCG1\n",
    "                if coeff == 0:\n",
    "                    continue\n",
    "                # collect in the dictionary all the parts that correspond to the sums\n",
    "                if ψ not in ψ_12s:\n",
    "                    ψ_12s[ψ] = {}\n",
    "                if m1 < 0:\n",
    "                    γ1f = bar_symbol(γ1)\n",
    "                else:\n",
    "                    γ1f = γ1\n",
    "                if m2 < 0:\n",
    "                    γ2f = bar_symbol(γ2)\n",
    "                else:\n",
    "                    γ2f = γ2\n",
    "                total_ket_part_key = (γ1f, γ2f)\n",
    "                if total_ket_part_key not in ψ_12s[ψ]:\n",
    "                    ψ_12s[ψ][total_ket_part_key] = 0\n",
    "                ψ_12s[ψ][total_ket_part_key] += coeff\n",
    "\n",
    "        ψ_12s = {k:Qet(v) for k,v in ψ_12s.items()} \n",
    "        return ψ_12s\n",
    "    else:\n",
    "        return add_three([Γs[-1]],adder(Γs[:2],Γs[-1]))"
   ]
  },
  {
   "cell_type": "code",
   "execution_count": 101,
   "metadata": {},
   "outputs": [
    {
     "data": {
      "text/html": [
       "<pre>✔️ 28.4 ms (2021-12-15T10:54:36/2021-12-15T10:54:36)</pre>"
      ],
      "text/plain": [
       "<IPython.core.display.HTML object>"
      ]
     },
     "metadata": {},
     "output_type": "display_data"
    },
    {
     "ename": "TypeError",
     "evalue": "add_three() takes 1 positional argument but 2 were given",
     "output_type": "error",
     "traceback": [
      "\u001b[0;31m---------------------------------------------------------------------------\u001b[0m",
      "\u001b[0;31mTypeError\u001b[0m                                 Traceback (most recent call last)",
      "\u001b[0;32m<ipython-input-101-e900a1afcf1d>\u001b[0m in \u001b[0;36m<module>\u001b[0;34m\u001b[0m\n\u001b[0;32m----> 1\u001b[0;31m \u001b[0madd_three\u001b[0m\u001b[0;34m(\u001b[0m\u001b[0;34m[\u001b[0m\u001b[0msp\u001b[0m\u001b[0;34m.\u001b[0m\u001b[0mSymbol\u001b[0m\u001b[0;34m(\u001b[0m\u001b[0;34m'T_2'\u001b[0m\u001b[0;34m)\u001b[0m\u001b[0;34m,\u001b[0m\u001b[0msp\u001b[0m\u001b[0;34m.\u001b[0m\u001b[0mSymbol\u001b[0m\u001b[0;34m(\u001b[0m\u001b[0;34m'T_2'\u001b[0m\u001b[0;34m)\u001b[0m\u001b[0;34m,\u001b[0m\u001b[0msp\u001b[0m\u001b[0;34m.\u001b[0m\u001b[0mSymbol\u001b[0m\u001b[0;34m(\u001b[0m\u001b[0;34m'T_2'\u001b[0m\u001b[0;34m)\u001b[0m\u001b[0;34m]\u001b[0m\u001b[0;34m)\u001b[0m\u001b[0;34m\u001b[0m\u001b[0;34m\u001b[0m\u001b[0m\n\u001b[0m",
      "\u001b[0;32m<ipython-input-100-13b98bc9ec44>\u001b[0m in \u001b[0;36madd_three\u001b[0;34m(Γs)\u001b[0m\n\u001b[1;32m     57\u001b[0m         \u001b[0;32mreturn\u001b[0m \u001b[0mψ_12s\u001b[0m\u001b[0;34m\u001b[0m\u001b[0;34m\u001b[0m\u001b[0m\n\u001b[1;32m     58\u001b[0m     \u001b[0;32melse\u001b[0m\u001b[0;34m:\u001b[0m\u001b[0;34m\u001b[0m\u001b[0;34m\u001b[0m\u001b[0m\n\u001b[0;32m---> 59\u001b[0;31m         \u001b[0;32mreturn\u001b[0m \u001b[0madder\u001b[0m\u001b[0;34m(\u001b[0m\u001b[0madd_three\u001b[0m\u001b[0;34m(\u001b[0m\u001b[0mΓs\u001b[0m\u001b[0;34m[\u001b[0m\u001b[0;34m:\u001b[0m\u001b[0;36m2\u001b[0m\u001b[0;34m]\u001b[0m\u001b[0;34m,\u001b[0m\u001b[0mΓs\u001b[0m\u001b[0;34m[\u001b[0m\u001b[0;34m-\u001b[0m\u001b[0;36m1\u001b[0m\u001b[0;34m]\u001b[0m\u001b[0;34m)\u001b[0m\u001b[0;34m)\u001b[0m\u001b[0;34m\u001b[0m\u001b[0;34m\u001b[0m\u001b[0m\n\u001b[0m",
      "\u001b[0;31mTypeError\u001b[0m: add_three() takes 1 positional argument but 2 were given"
     ]
    }
   ],
   "source": [
    "add_three([sp.Symbol('T_2'),sp.Symbol('T_2'),sp.Symbol('T_2')])"
   ]
  },
  {
   "cell_type": "code",
   "execution_count": 94,
   "metadata": {},
   "outputs": [
    {
     "data": {
      "text/html": [
       "<pre>✔️ 147 ms (2021-12-15T10:46:19/2021-12-15T10:46:19)</pre>"
      ],
      "text/plain": [
       "<IPython.core.display.HTML object>"
      ]
     },
     "metadata": {},
     "output_type": "display_data"
    }
   ],
   "source": [
    "# this is the template that I'll use to adress\n",
    "# the quantum symbols of wave functions\n",
    "Ψ = namedtuple('Ψ',['electrons','terms','γ','S','M']) \n",
    "\n",
    "group_label = 'O'\n",
    "Γ1, Γ2, Γ3 = sp.Symbol('T_2'), sp.Symbol('T_2'), sp.Symbol('T_2')\n",
    "# couple Γ1 and Γ2\n",
    "# get the group\n",
    "group = CPGs.get_group_by_label(group_label)\n",
    "# get the CGs\n",
    "group_CGs = group.CG_coefficients\n",
    "# enforce the better notation for components\n",
    "flat_labels = dict(sum([list(l.items()) for l in list(new_labels[group_label].values())],[]))\n",
    "group_CGs = {(flat_labels[k[0]], flat_labels[k[1]], flat_labels[k[2]]):v for k,v in group_CGs.items()}\n",
    "\n",
    "irreps = group.irrep_labels\n",
    "ms = [-sp.S(1)/2,sp.S(1)/2] # for a spin 1/2\n",
    "s_half = sp.S(1)/2\n",
    "\n",
    "component_labels = {k:list(v.values()) for k,v in new_labels[group_label].items()}\n",
    "comps_1, comps_2 = [component_labels[ir] for ir in [Γ1, Γ2]]\n",
    "s1, s2 = s_half, s_half\n",
    "\n",
    "Γ12s = group.product_table.odict[(Γ1, Γ2)] # the intermediate irreps belong to the reduction of Γ1 X Γ2\n",
    "S12s = lrange(s1,s2) # this is just [0,1] as for the total angular momentum of the intermediate states\n",
    "ψ_12s = {}\n",
    "\n",
    "for γ1, γ2, m1, m2, Γ12, S12 in product(comps_1, comps_2, ms, ms, Γ12s, S12s):\n",
    "    comps_12 = component_labels[Γ12]\n",
    "    M12s = mrange(S12)\n",
    "    for γ12, M12 in product(comps_12, M12s):\n",
    "        ψ = Ψ(electrons = (Γ1, Γ2),\n",
    "            terms = ((s1,Γ1),(s2,Γ2),(S12,Γ12)),\n",
    "            γ = γ12,\n",
    "            S = S12,\n",
    "            M = M12\n",
    "            )\n",
    "        # total_ket_key = (Γ12, γ12, S12, Γ12)\n",
    "        # summing s1 and s2 to yield S12\n",
    "        sCG1 = clebschG.eva(s1, s2, S12, m1, m2, M12)\n",
    "        # coupling a γ1, γ2 to get a γ12\n",
    "        gCG1 = group_CGs.setdefault((γ1, γ2, γ12), 0)\n",
    "        coeff = sCG1 * gCG1\n",
    "        if coeff == 0:\n",
    "            continue\n",
    "        # collect in the dictionary all the parts that correspond to the sums\n",
    "        if ψ not in ψ_12s:\n",
    "            ψ_12s[ψ] = {}\n",
    "        if m1 < 0:\n",
    "            γ1f = bar_symbol(γ1)\n",
    "        else:\n",
    "            γ1f = γ1\n",
    "        if m2 < 0:\n",
    "            γ2f = bar_symbol(γ2)\n",
    "        else:\n",
    "            γ2f = γ2\n",
    "        total_ket_part_key = (γ1f, γ2f)\n",
    "        if total_ket_part_key not in ψ_12s[ψ]:\n",
    "            ψ_12s[ψ][total_ket_part_key] = 0\n",
    "        ψ_12s[ψ][total_ket_part_key] += coeff\n",
    "\n",
    "ψ_12s = {k:Qet(v) for k,v in ψ_12s.items()}\n",
    "\n",
    "# now having ψ_12s couple the additional electron\n",
    "\n",
    "ψ_123s = adder(ψ_12s, Γ3)\n",
    "\n",
    "simplified_kets = {}\n",
    "for ψ_123, qet_123 in ψ_123s.items():\n",
    "    qet_simplified = det_qet_simplify(qet_123)\n",
    "    if len(qet_simplified) != 0:\n",
    "            simplified_kets[ψ_123] = Qet(dict(qet_simplified))\n",
    "            the_normalizer = 1/simplified_kets[ψ_123].norm()\n",
    "            simplified_kets[ψ_123] = the_normalizer*simplified_kets[ψ_123]\n",
    "\n",
    "three_qets = []\n",
    "qsymbs = []\n",
    "for total_ket_key_0, simple_ket_0 in simplified_kets.items():\n",
    "    ratios = []\n",
    "    for simple_ket_1 in three_qets:\n",
    "        divvy = qet_divide(simple_ket_0, simple_ket_1)\n",
    "        ratios.append(divvy==0)\n",
    "    ratios = sum(ratios)\n",
    "    if ratios == len(three_qets):\n",
    "        three_qets.append(simple_ket_0)\n",
    "        qsymbs.append(total_ket_key_0)\n",
    "three_qets = dict(zip(qsymbs, three_qets))\n"
   ]
  },
  {
   "cell_type": "code",
   "execution_count": 95,
   "metadata": {},
   "outputs": [
    {
     "data": {
      "text/html": [
       "<pre>✔️ 2.36 ms (2021-12-15T10:46:20/2021-12-15T10:46:20)</pre>"
      ],
      "text/plain": [
       "<IPython.core.display.HTML object>"
      ]
     },
     "metadata": {},
     "output_type": "display_data"
    },
    {
     "data": {
      "text/plain": [
       "20"
      ]
     },
     "execution_count": 95,
     "metadata": {},
     "output_type": "execute_result"
    }
   ],
   "source": [
    "len(three_qets)"
   ]
  },
  {
   "cell_type": "markdown",
   "metadata": {},
   "source": [
    "# Doing three by using two"
   ]
  },
  {
   "cell_type": "code",
   "execution_count": 82,
   "metadata": {},
   "outputs": [
    {
     "data": {
      "text/html": [
       "<pre>✔️ 1.28 ms (2021-12-15T10:39:14/2021-12-15T10:39:14)</pre>"
      ],
      "text/plain": [
       "<IPython.core.display.HTML object>"
      ]
     },
     "metadata": {},
     "output_type": "display_data"
    }
   ],
   "source": [
    "from collections import namedtuple\n",
    "from functools import reduce\n",
    "\n",
    "def det_qet_simplify(qet):\n",
    "    equivalent_parts = {}\n",
    "    standard_order = {} # this holds the standard order to which all the other list members will be referred to\n",
    "    for ket_part_key, ket_part_coeff in qet.dict.items():\n",
    "        set_ket = frozenset(ket_part_key)\n",
    "        if set_ket not in equivalent_parts:\n",
    "            equivalent_parts[set_ket] = []\n",
    "            standard_order[set_ket] = ket_part_key\n",
    "        equivalent_parts[set_ket].append((ket_part_key, ket_part_coeff))\n",
    "    # once I've grouped them together into pices of equivalent parts\n",
    "    # i then need to rearrange and properly sign the rearrangements\n",
    "    det_simple = []\n",
    "    for equivalent_key in equivalent_parts:\n",
    "        base_order = standard_order[equivalent_key]\n",
    "        total_coeff = 0\n",
    "        equiv_parts = equivalent_parts[equivalent_key]\n",
    "        for equiv_part in equiv_parts:\n",
    "            ordering = [base_order.index(part) for part in equiv_part[0]]\n",
    "            sign = εijk(*ordering)\n",
    "            total_coeff += sign*equiv_part[1]\n",
    "        final = (base_order, total_coeff)\n",
    "        if total_coeff != 0:\n",
    "            det_simple.append(final)\n",
    "    return det_simple"
   ]
  },
  {
   "cell_type": "code",
   "execution_count": 83,
   "metadata": {},
   "outputs": [
    {
     "data": {
      "text/html": [
       "<pre>✔️ 2.41 ms (2021-12-15T10:39:14/2021-12-15T10:39:14)</pre>"
      ],
      "text/plain": [
       "<IPython.core.display.HTML object>"
      ]
     },
     "metadata": {},
     "output_type": "display_data"
    }
   ],
   "source": [
    "# this is the template that I'll use to adress\n",
    "# the quantum symbols of wave functions\n",
    "Ψ = namedtuple('Ψ',['electrons','terms','γ','S','M']) \n",
    "def three_waves_from_two(group_label, Γs):\n",
    "    '''\n",
    "    Given   three   symbols   for  irreducible  representations,\n",
    "    determine  what  are  the  corresponding  wavefunctions that\n",
    "    transform  accordingly  to irreps of the group and which are\n",
    "    eigenstates of the total spin S with determinate proyections\n",
    "    of Sz.\n",
    "\n",
    "    Parameters\n",
    "    ----------\n",
    "    group_label  (str): label for a crystallographic point group\n",
    "    Γs           (iterable): three sp.Symbol for irreps in group.\n",
    "\n",
    "    Returns\n",
    "    -------\n",
    "    three_qets (dict): keys are Ψ namedtuples and values are qdef.Qet\n",
    "    \n",
    "    '''\n",
    "    Γ1, Γ2, Γ3 = Γs\n",
    "    # couple Γ1 and Γ2\n",
    "    # get the group\n",
    "    group = CPGs.get_group_by_label(group_label)\n",
    "    # get the CGs\n",
    "    group_CGs = group.CG_coefficients\n",
    "    # enforce the better notation for components\n",
    "    flat_labels = dict(sum([list(l.items()) for l in list(new_labels[group_label].values())],[]))\n",
    "    group_CGs = {(flat_labels[k[0]], flat_labels[k[1]], flat_labels[k[2]]):v for k,v in group_CGs.items()}\n",
    "\n",
    "    irreps = group.irrep_labels\n",
    "    ms = [-sp.S(1)/2,sp.S(1)/2] # for a spin 1/2\n",
    "    s_half = sp.S(1)/2\n",
    "\n",
    "    component_labels = {k:list(v.values()) for k,v in new_labels[group_label].items()}\n",
    "    comps_1, comps_2, comps_3 = [component_labels[ir] for ir in [Γ1, Γ2, Γ3]]\n",
    "    s1, s2, s3 = s_half, s_half, s_half\n",
    "\n",
    "    Γ12s = group.product_table.odict[(Γ1, Γ2)] # the intermediate irreps belong to the reduction of Γ1 X Γ2\n",
    "    S12s = lrange(s1,s2) # this is just [0,1] as for the total angular momentum of the intermediate states\n",
    "    ψ_12s = {}\n",
    "\n",
    "    for γ1, γ2, m1, m2, Γ12, S12 in product(comps_1, comps_2, ms, ms, Γ12s, S12s):\n",
    "        comps_12 = component_labels[Γ12]\n",
    "        M12s = mrange(S12)\n",
    "        for γ12, M12 in product(comps_12, M12s):\n",
    "            ψ = Ψ(electrons = (Γ1, Γ2),\n",
    "                terms = ((s1,Γ1),(s2,Γ2),(S12,Γ12)),\n",
    "                γ = γ12,\n",
    "                S = S12,\n",
    "                M = M12\n",
    "                )\n",
    "            # total_ket_key = (Γ12, γ12, S12, Γ12)\n",
    "            # summing s1 and s2 to yield S12\n",
    "            sCG1 = clebschG.eva(s1, s2, S12, m1, m2, M12)\n",
    "            # coupling a γ1, γ2 to get a γ12\n",
    "            gCG1 = group_CGs.setdefault((γ1, γ2, γ12), 0)\n",
    "            coeff = sCG1 * gCG1\n",
    "            if coeff == 0:\n",
    "                continue\n",
    "            # collect in the dictionary all the parts that correspond to the sums\n",
    "            if ψ not in ψ_12s:\n",
    "                ψ_12s[ψ] = {}\n",
    "            if m1 < 0:\n",
    "                γ1f = bar_symbol(γ1)\n",
    "            else:\n",
    "                γ1f = γ1\n",
    "            if m2 < 0:\n",
    "                γ2f = bar_symbol(γ2)\n",
    "            else:\n",
    "                γ2f = γ2\n",
    "            total_ket_part_key = (γ1f, γ2f)\n",
    "            if total_ket_part_key not in ψ_12s[ψ]:\n",
    "                ψ_12s[ψ][total_ket_part_key] = 0\n",
    "            ψ_12s[ψ][total_ket_part_key] += coeff\n",
    "\n",
    "    ψ_12s = {k:Qet(v) for k,v in ψ_12s.items()}\n",
    "\n",
    "    # now having ψ_12s couple the additional electron\n",
    "\n",
    "    ψ_123s = {}\n",
    "\n",
    "    for ψ_12, qet_12 in ψ_12s.items():\n",
    "        electrons = ψ_12.electrons\n",
    "        terms = ψ_12.terms\n",
    "        Γ12 = terms[-1][1]\n",
    "        γ12 = ψ_12.γ\n",
    "        S12, M12 = ψ_12.S, ψ_12.M\n",
    "        S123s = lrange(S12, s3)\n",
    "        Γ123s = group.product_table.odict[(Γ12, Γ3)] # these are the possible Γs from Γ12XΓ3\n",
    "        for Γ123, S123 in product(Γ123s, S123s):\n",
    "            M123s = mrange(S123)\n",
    "            γ123s = component_labels[Γ123]\n",
    "            for γ123, m3, γ3, M123 in product(γ123s, ms, comps_3, M123s):\n",
    "                sCG2 = clebschG.eva(S12, s3, S123, M12, m3, M123)\n",
    "                # coupling a γ12, γ3 to get a final γ\n",
    "                gCG2 = group_CGs.setdefault((γ12, γ3, γ123), 0)\n",
    "                coeff = sCG2*gCG2\n",
    "                if coeff == 0:\n",
    "                    continue\n",
    "                ψ_123 = Ψ(electrons = electrons + (Γ3,),\n",
    "                            terms = terms+ ((S123,Γ123),),\n",
    "                                γ = γ123,\n",
    "                                S = S123,\n",
    "                                M = M123\n",
    "                        )\n",
    "                if ψ_123 not in ψ_123s:\n",
    "                    ψ_123s[ψ_123] = Qet({})\n",
    "                if m3 < 0:\n",
    "                    γ3f = bar_symbol(γ3)\n",
    "                else:\n",
    "                    γ3f = γ3\n",
    "                ψ_123s[ψ_123] = ψ_123s[ψ_123] + (qet_12 * Qet({(γ3f,): coeff}))\n",
    "\n",
    "    simplified_kets = {}\n",
    "    for ψ_123, qet_123 in ψ_123s.items():\n",
    "        qet_simplified = det_qet_simplify(qet_123)\n",
    "        if len(qet_simplified) != 0:\n",
    "                simplified_kets[ψ_123] = Qet(dict(qet_simplified))\n",
    "                the_normalizer = 1/simplified_kets[ψ_123].norm()\n",
    "                simplified_kets[ψ_123] = the_normalizer*simplified_kets[ψ_123]\n",
    "\n",
    "    three_qets = []\n",
    "    qsymbs = []\n",
    "    for total_ket_key_0, simple_ket_0 in simplified_kets.items():\n",
    "        ratios = []\n",
    "        for simple_ket_1 in three_qets:\n",
    "            divvy = qet_divide(simple_ket_0, simple_ket_1)\n",
    "            ratios.append(divvy==0)\n",
    "        ratios = sum(ratios)\n",
    "        if ratios == len(three_qets):\n",
    "            three_qets.append(simple_ket_0)\n",
    "            qsymbs.append(total_ket_key_0)\n",
    "    three_qets = dict(zip(qsymbs, three_qets))\n",
    "\n",
    "    return three_qets\n",
    "                    "
   ]
  },
  {
   "cell_type": "code",
   "execution_count": 84,
   "metadata": {},
   "outputs": [
    {
     "data": {
      "text/html": [
       "<pre>✔️ 169 ms (2021-12-15T10:39:16/2021-12-15T10:39:16)</pre>"
      ],
      "text/plain": [
       "<IPython.core.display.HTML object>"
      ]
     },
     "metadata": {},
     "output_type": "display_data"
    },
    {
     "name": "stdout",
     "output_type": "stream",
     "text": [
      "20\n"
     ]
    },
    {
     "data": {
      "text/latex": [
       "$\\displaystyle {}^{2}T_{2}$"
      ],
      "text/plain": [
       "{}^{2}T_{2}"
      ]
     },
     "metadata": {},
     "output_type": "display_data"
    },
    {
     "data": {
      "text/latex": [
       "$\\displaystyle \\psi(t_{2}^{3},{}^{2}T_{2},M=- \\frac{1}{2},{\\chi}) = - \\frac{\\sqrt{2} |\\bar{{\\phi}} {\\phi} \\bar{{\\chi}}|}{2} - \\frac{\\sqrt{2} |\\bar{{\\xi}} {\\xi} \\bar{{\\chi}}|}{2}$"
      ],
      "text/plain": [
       "<IPython.core.display.Math object>"
      ]
     },
     "metadata": {},
     "output_type": "display_data"
    },
    {
     "data": {
      "text/latex": [
       "$\\displaystyle \\psi(t_{2}^{3},{}^{2}T_{2},M=\\frac{1}{2},{\\chi}) = - \\frac{\\sqrt{2} |\\bar{{\\phi}} {\\phi} {\\chi}|}{2} - \\frac{\\sqrt{2} |\\bar{{\\xi}} {\\xi} {\\chi}|}{2}$"
      ],
      "text/plain": [
       "<IPython.core.display.Math object>"
      ]
     },
     "metadata": {},
     "output_type": "display_data"
    },
    {
     "data": {
      "text/latex": [
       "$\\displaystyle \\psi(t_{2}^{3},{}^{2}T_{2},M=- \\frac{1}{2},{\\phi}) = - \\frac{\\sqrt{2} |\\bar{{\\chi}} {\\chi} \\bar{{\\phi}}|}{2} - \\frac{\\sqrt{2} |\\bar{{\\xi}} {\\xi} \\bar{{\\phi}}|}{2}$"
      ],
      "text/plain": [
       "<IPython.core.display.Math object>"
      ]
     },
     "metadata": {},
     "output_type": "display_data"
    },
    {
     "data": {
      "text/latex": [
       "$\\displaystyle \\psi(t_{2}^{3},{}^{2}T_{2},M=\\frac{1}{2},{\\phi}) = - \\frac{\\sqrt{2} |\\bar{{\\chi}} {\\chi} {\\phi}|}{2} - \\frac{\\sqrt{2} |\\bar{{\\xi}} {\\xi} {\\phi}|}{2}$"
      ],
      "text/plain": [
       "<IPython.core.display.Math object>"
      ]
     },
     "metadata": {},
     "output_type": "display_data"
    },
    {
     "data": {
      "text/latex": [
       "$\\displaystyle \\psi(t_{2}^{3},{}^{2}T_{2},M=- \\frac{1}{2},{\\xi}) = - \\frac{\\sqrt{2} |\\bar{{\\chi}} {\\chi} \\bar{{\\xi}}|}{2} - \\frac{\\sqrt{2} |\\bar{{\\phi}} {\\phi} \\bar{{\\xi}}|}{2}$"
      ],
      "text/plain": [
       "<IPython.core.display.Math object>"
      ]
     },
     "metadata": {},
     "output_type": "display_data"
    },
    {
     "data": {
      "text/latex": [
       "$\\displaystyle \\psi(t_{2}^{3},{}^{2}T_{2},M=\\frac{1}{2},{\\xi}) = - \\frac{\\sqrt{2} |\\bar{{\\chi}} {\\chi} {\\xi}|}{2} - \\frac{\\sqrt{2} |\\bar{{\\phi}} {\\phi} {\\xi}|}{2}$"
      ],
      "text/plain": [
       "<IPython.core.display.Math object>"
      ]
     },
     "metadata": {},
     "output_type": "display_data"
    },
    {
     "data": {
      "text/latex": [
       "$\\displaystyle {}^{2}T_{1}$"
      ],
      "text/plain": [
       "{}^{2}T_{1}"
      ]
     },
     "metadata": {},
     "output_type": "display_data"
    },
    {
     "data": {
      "text/latex": [
       "$\\displaystyle \\psi(t_{2}^{3},{}^{2}T_{1},M=- \\frac{1}{2},{\\eta}) = \\frac{\\sqrt{2} |\\bar{{\\phi}} {\\phi} \\bar{{\\chi}}|}{2} - \\frac{\\sqrt{2} |\\bar{{\\xi}} {\\xi} \\bar{{\\chi}}|}{2}$"
      ],
      "text/plain": [
       "<IPython.core.display.Math object>"
      ]
     },
     "metadata": {},
     "output_type": "display_data"
    },
    {
     "data": {
      "text/latex": [
       "$\\displaystyle \\psi(t_{2}^{3},{}^{2}T_{1},M=\\frac{1}{2},{\\eta}) = \\frac{\\sqrt{2} |\\bar{{\\phi}} {\\phi} {\\chi}|}{2} - \\frac{\\sqrt{2} |\\bar{{\\xi}} {\\xi} {\\chi}|}{2}$"
      ],
      "text/plain": [
       "<IPython.core.display.Math object>"
      ]
     },
     "metadata": {},
     "output_type": "display_data"
    },
    {
     "data": {
      "text/latex": [
       "$\\displaystyle \\psi(t_{2}^{3},{}^{2}T_{1},M=- \\frac{1}{2},{\\mu}) = - \\frac{\\sqrt{2} |\\bar{{\\xi}} \\bar{{\\chi}} {\\chi}|}{2} + \\frac{\\sqrt{2} |\\bar{{\\xi}} \\bar{{\\phi}} {\\phi}|}{2}$"
      ],
      "text/plain": [
       "<IPython.core.display.Math object>"
      ]
     },
     "metadata": {},
     "output_type": "display_data"
    },
    {
     "data": {
      "text/latex": [
       "$\\displaystyle \\psi(t_{2}^{3},{}^{2}T_{1},M=\\frac{1}{2},{\\mu}) = - \\frac{\\sqrt{2} |{\\xi} \\bar{{\\chi}} {\\chi}|}{2} + \\frac{\\sqrt{2} |{\\xi} \\bar{{\\phi}} {\\phi}|}{2}$"
      ],
      "text/plain": [
       "<IPython.core.display.Math object>"
      ]
     },
     "metadata": {},
     "output_type": "display_data"
    },
    {
     "data": {
      "text/latex": [
       "$\\displaystyle \\psi(t_{2}^{3},{}^{2}T_{1},M=- \\frac{1}{2},{\\nu}) = - \\frac{\\sqrt{2} |\\bar{{\\chi}} {\\chi} \\bar{{\\phi}}|}{2} + \\frac{\\sqrt{2} |\\bar{{\\xi}} {\\xi} \\bar{{\\phi}}|}{2}$"
      ],
      "text/plain": [
       "<IPython.core.display.Math object>"
      ]
     },
     "metadata": {},
     "output_type": "display_data"
    },
    {
     "data": {
      "text/latex": [
       "$\\displaystyle \\psi(t_{2}^{3},{}^{2}T_{1},M=\\frac{1}{2},{\\nu}) = - \\frac{\\sqrt{2} |\\bar{{\\chi}} {\\chi} {\\phi}|}{2} + \\frac{\\sqrt{2} |\\bar{{\\xi}} {\\xi} {\\phi}|}{2}$"
      ],
      "text/plain": [
       "<IPython.core.display.Math object>"
      ]
     },
     "metadata": {},
     "output_type": "display_data"
    },
    {
     "data": {
      "text/latex": [
       "$\\displaystyle {}^{2}E$"
      ],
      "text/plain": [
       "{}^{2}E"
      ]
     },
     "metadata": {},
     "output_type": "display_data"
    },
    {
     "data": {
      "text/latex": [
       "$\\displaystyle \\psi(t_{2}^{3},{}^{2}E,M=- \\frac{1}{2},{\\gamma}) = - \\frac{\\sqrt{2} |\\bar{{\\xi}} \\bar{{\\phi}} {\\chi}|}{2} + \\frac{\\sqrt{2} |\\bar{{\\xi}} {\\phi} \\bar{{\\chi}}|}{2}$"
      ],
      "text/plain": [
       "<IPython.core.display.Math object>"
      ]
     },
     "metadata": {},
     "output_type": "display_data"
    },
    {
     "data": {
      "text/latex": [
       "$\\displaystyle \\psi(t_{2}^{3},{}^{2}E,M=\\frac{1}{2},{\\gamma}) = - \\frac{\\sqrt{2} |{\\xi} \\bar{{\\phi}} {\\chi}|}{2} + \\frac{\\sqrt{2} |{\\xi} {\\phi} \\bar{{\\chi}}|}{2}$"
      ],
      "text/plain": [
       "<IPython.core.display.Math object>"
      ]
     },
     "metadata": {},
     "output_type": "display_data"
    },
    {
     "data": {
      "text/latex": [
       "$\\displaystyle \\psi(t_{2}^{3},{}^{2}E,M=- \\frac{1}{2},{\\zeta}) = \\frac{\\sqrt{6} |\\bar{{\\xi}} \\bar{{\\phi}} {\\chi}|}{6} + \\frac{\\sqrt{6} |\\bar{{\\xi}} {\\phi} \\bar{{\\chi}}|}{6} - \\frac{\\sqrt{6} |{\\xi} \\bar{{\\phi}} \\bar{{\\chi}}|}{3}$"
      ],
      "text/plain": [
       "<IPython.core.display.Math object>"
      ]
     },
     "metadata": {},
     "output_type": "display_data"
    },
    {
     "data": {
      "text/latex": [
       "$\\displaystyle \\psi(t_{2}^{3},{}^{2}E,M=\\frac{1}{2},{\\zeta}) = \\frac{\\sqrt{6} |\\bar{{\\xi}} {\\phi} {\\chi}|}{3} - \\frac{\\sqrt{6} |{\\xi} \\bar{{\\phi}} {\\chi}|}{6} - \\frac{\\sqrt{6} |{\\xi} {\\phi} \\bar{{\\chi}}|}{6}$"
      ],
      "text/plain": [
       "<IPython.core.display.Math object>"
      ]
     },
     "metadata": {},
     "output_type": "display_data"
    },
    {
     "data": {
      "text/latex": [
       "$\\displaystyle {}^{4}A_{2}$"
      ],
      "text/plain": [
       "{}^{4}A_{2}"
      ]
     },
     "metadata": {},
     "output_type": "display_data"
    },
    {
     "data": {
      "text/latex": [
       "$\\displaystyle \\psi(t_{2}^{3},{}^{4}A_{2},M=- \\frac{3}{2},{\\beta}) = - |\\bar{{\\xi}} \\bar{{\\phi}} \\bar{{\\chi}}|$"
      ],
      "text/plain": [
       "<IPython.core.display.Math object>"
      ]
     },
     "metadata": {},
     "output_type": "display_data"
    },
    {
     "data": {
      "text/latex": [
       "$\\displaystyle \\psi(t_{2}^{3},{}^{4}A_{2},M=- \\frac{1}{2},{\\beta}) = - \\frac{\\sqrt{3} |\\bar{{\\xi}} \\bar{{\\phi}} {\\chi}|}{3} - \\frac{\\sqrt{3} |\\bar{{\\xi}} {\\phi} \\bar{{\\chi}}|}{3} - \\frac{\\sqrt{3} |{\\xi} \\bar{{\\phi}} \\bar{{\\chi}}|}{3}$"
      ],
      "text/plain": [
       "<IPython.core.display.Math object>"
      ]
     },
     "metadata": {},
     "output_type": "display_data"
    },
    {
     "data": {
      "text/latex": [
       "$\\displaystyle \\psi(t_{2}^{3},{}^{4}A_{2},M=\\frac{1}{2},{\\beta}) = - \\frac{\\sqrt{3} |\\bar{{\\xi}} {\\phi} {\\chi}|}{3} - \\frac{\\sqrt{3} |{\\xi} \\bar{{\\phi}} {\\chi}|}{3} - \\frac{\\sqrt{3} |{\\xi} {\\phi} \\bar{{\\chi}}|}{3}$"
      ],
      "text/plain": [
       "<IPython.core.display.Math object>"
      ]
     },
     "metadata": {},
     "output_type": "display_data"
    },
    {
     "data": {
      "text/latex": [
       "$\\displaystyle \\psi(t_{2}^{3},{}^{4}A_{2},M=\\frac{3}{2},{\\beta}) = - |{\\xi} {\\phi} {\\chi}|$"
      ],
      "text/plain": [
       "<IPython.core.display.Math object>"
      ]
     },
     "metadata": {},
     "output_type": "display_data"
    }
   ],
   "source": [
    "Γs = [sp.Symbol('T_2'), sp.Symbol('T_2'), sp.Symbol('T_2')]\n",
    "three_waves = three_waves_from_two('O', Γs)\n",
    "terms = OrderedDict()\n",
    "econfig_maker = lambda x,y: sp.Symbol(sp.latex(x).lower()) * sp.Symbol(sp.latex(y).lower())\n",
    "for wave_key, wave in three_waves.items():\n",
    "    this_term = wave_key.terms[-1]\n",
    "    if this_term not in terms:\n",
    "        terms[this_term] = []\n",
    "    terms[this_term].append((wave_key,wave))\n",
    "    # display(wave.as_ket())\n",
    "sorted_terms = sorted(terms.keys(), key= lambda x: x[0])\n",
    "print(len(three_waves))\n",
    "for term in sorted_terms:\n",
    "    terms[term] = list(sorted(terms[term], key=lambda x: str(x[0].γ)))\n",
    "for term in sorted_terms:\n",
    "    term_symb = sp.Symbol('{}^{%d}%s' % (term[0]*2+1, sp.latex(term[1])))\n",
    "    display(term_symb)\n",
    "    for wave_key, wave in terms[term]:\n",
    "        e_config = sp.latex(reduce(sp.Mul,wave_key.electrons)).lower()\n",
    "        multiplicity = int(wave_key.S*2+1)\n",
    "        M = sp.latex(wave_key.M)\n",
    "        γ = sp.latex(wave_key.γ)\n",
    "        the_wave = sp.latex(as_det_ket(wave))\n",
    "        wave_line = '\\psi(%s,%s,M=%s,%s) = %s' % (e_config, term_symb, M, γ, the_wave)\n",
    "        display(Math(wave_line))"
   ]
  },
  {
   "cell_type": "markdown",
   "metadata": {},
   "source": [
    "## Workbench"
   ]
  },
  {
   "cell_type": "code",
   "execution_count": 60,
   "metadata": {},
   "outputs": [
    {
     "data": {
      "text/html": [
       "<pre>✔️ 10.4 ms (2021-12-14T20:45:36/2021-12-14T20:45:36)</pre>"
      ],
      "text/plain": [
       "<IPython.core.display.HTML object>"
      ]
     },
     "metadata": {},
     "output_type": "display_data"
    }
   ],
   "source": [
    "def det_qet_simplify(qet):\n",
    "    equivalent_parts = {}\n",
    "    standard_order = {} # this holds the standard order to which all the other list members will be referred to\n",
    "    for ket_part_key, ket_part_coeff in qet.dict.items():\n",
    "        set_ket = frozenset(ket_part_key)\n",
    "        if set_ket not in equivalent_parts:\n",
    "            equivalent_parts[set_ket] = []\n",
    "            standard_order[set_ket] = ket_part_key\n",
    "        equivalent_parts[set_ket].append((ket_part_key, ket_part_coeff))\n",
    "    # once I've grouped them together into pices of equivalent parts\n",
    "    # i then need to rearrange and properly sign the rearrangements\n",
    "    det_simple = []\n",
    "    for equivalent_key in equivalent_parts:\n",
    "        base_order = standard_order[equivalent_key]\n",
    "        total_coeff = 0\n",
    "        equiv_parts = equivalent_parts[equivalent_key]\n",
    "        for equiv_part in equiv_parts:\n",
    "            ordering = [base_order.index(part) for part in equiv_part[0]]\n",
    "            sign = εijk(*ordering)\n",
    "            total_coeff += sign*equiv_part[1]\n",
    "        final = (base_order, total_coeff)\n",
    "        if total_coeff != 0:\n",
    "            det_simple.append(final)\n",
    "    return det_simple"
   ]
  },
  {
   "cell_type": "code",
   "execution_count": 61,
   "metadata": {},
   "outputs": [
    {
     "data": {
      "text/html": [
       "<pre>✔️ 156 ms (2021-12-14T20:45:49/2021-12-14T20:45:50)</pre>"
      ],
      "text/plain": [
       "<IPython.core.display.HTML object>"
      ]
     },
     "metadata": {},
     "output_type": "display_data"
    }
   ],
   "source": [
    "# this is the template that I'll use to adress\n",
    "# the quantum symbols of wave functions\n",
    "Ψ = namedtuple('Ψ',['electrons','terms','γ','S','M']) \n",
    "\n",
    "Γs = [sp.Symbol('T_2'), sp.Symbol('T_2'), sp.Symbol('T_2')]\n",
    "Γ1, Γ2, Γ3 = Γs\n",
    "\n",
    "# couple Γ1 and Γ2\n",
    "\n",
    "group_label = 'O'\n",
    "# get the group\n",
    "group = CPGs.get_group_by_label(group_label)\n",
    "# get the CGs\n",
    "group_CGs = group.CG_coefficients\n",
    "# enforce the better notation for components\n",
    "flat_labels = dict(sum([list(l.items()) for l in list(new_labels[group_label].values())],[]))\n",
    "group_CGs = {(flat_labels[k[0]], flat_labels[k[1]], flat_labels[k[2]]):v for k,v in group_CGs.items()}\n",
    "\n",
    "irreps = group.irrep_labels\n",
    "ms = [-sp.S(1)/2,sp.S(1)/2] # for a spin 1/2\n",
    "s_half = sp.S(1)/2\n",
    "\n",
    "component_labels = {k:list(v.values()) for k,v in new_labels[group_label].items()}\n",
    "comps_1, comps_2, comps_3 = [component_labels[ir] for ir in [Γ1, Γ2, Γ3]]\n",
    "s1, s2, s3 = s_half, s_half, s_half\n",
    "\n",
    "Γ12s = group.product_table.odict[(Γ1, Γ2)] # the intermediate irreps belong to the reduction of Γ1 X Γ2\n",
    "S12s = lrange(s1,s2) # this is just [0,1] as for the total angular momentum of the intermediate states\n",
    "ψ_12s = {}\n",
    "\n",
    "for γ1, γ2, m1, m2, Γ12, S12 in product(comps_1, comps_2, ms, ms, Γ12s, S12s):\n",
    "    comps_12 = component_labels[Γ12]\n",
    "    M12s = mrange(S12)\n",
    "    for γ12, M12 in product(comps_12, M12s):\n",
    "        ψ = Ψ(electrons = (Γ1, Γ2),\n",
    "            terms = ((s1,Γ1),(s2,Γ2),(S12,Γ12)),\n",
    "            γ = γ12,\n",
    "            S = S12,\n",
    "            M = M12\n",
    "            )\n",
    "        # total_ket_key = (Γ12, γ12, S12, Γ12)\n",
    "        # summing s1 and s2 to yield S12\n",
    "        sCG1 = clebschG.eva(s1, s2, S12, m1, m2, M12)\n",
    "        # coupling a γ1, γ2 to get a γ12\n",
    "        gCG1 = group_CGs.setdefault((γ1, γ2, γ12), 0)\n",
    "        coeff = sCG1 * gCG1\n",
    "        if coeff == 0:\n",
    "            continue\n",
    "        # collect in the dictionary all the parts that correspond to the sums\n",
    "        if ψ not in ψ_12s:\n",
    "            ψ_12s[ψ] = {}\n",
    "        if m1 < 0:\n",
    "            γ1f = bar_symbol(γ1)\n",
    "        else:\n",
    "            γ1f = γ1\n",
    "        if m2 < 0:\n",
    "            γ2f = bar_symbol(γ2)\n",
    "        else:\n",
    "            γ2f = γ2\n",
    "        total_ket_part_key = (γ1f, γ2f)\n",
    "        if total_ket_part_key not in ψ_12s[ψ]:\n",
    "            ψ_12s[ψ][total_ket_part_key] = 0\n",
    "        ψ_12s[ψ][total_ket_part_key] += coeff\n",
    "\n",
    "ψ_12s = {k:Qet(v) for k,v in ψ_12s.items()}\n",
    "\n",
    "# now having ψ_12s couple the additional electron\n",
    "\n",
    "ψ_123s = {}\n",
    "\n",
    "for ψ_12, qet_12 in ψ_12s.items():\n",
    "    electrons = ψ_12.electrons\n",
    "    terms = ψ_12.terms\n",
    "    Γ12 = terms[-1][1]\n",
    "    γ12 = ψ_12.γ\n",
    "    S12, M12 = ψ_12.S, ψ_12.M\n",
    "    S123s = lrange(S12, s3)\n",
    "    Γ123s = group.product_table.odict[(Γ12, Γ3)] # these are the possible Γs from Γ12XΓ3\n",
    "    for Γ123, S123 in product(Γ123s, S123s):\n",
    "        M123s = mrange(S123)\n",
    "        γ123s = component_labels[Γ123]\n",
    "        for γ123, m3, γ3, M123 in product(γ123s, ms, comps_3, M123s):\n",
    "            sCG2 = clebschG.eva(S12, s3, S123, M12, m3, M123)\n",
    "            # coupling a γ12, γ3 to get a final γ\n",
    "            gCG2 = group_CGs.setdefault((γ12, γ3, γ123), 0)\n",
    "            coeff = sCG2*gCG2\n",
    "            if coeff == 0:\n",
    "                continue\n",
    "            ψ_123 = Ψ(electrons = electrons + (Γ3,),\n",
    "                          terms = terms+ ((S123,Γ123),),\n",
    "                              γ = γ123,\n",
    "                              S = S123,\n",
    "                              M = M123\n",
    "                    )\n",
    "            if ψ_123 not in ψ_123s:\n",
    "                ψ_123s[ψ_123] = Qet({})\n",
    "            if m3 < 0:\n",
    "                γ3f = bar_symbol(γ3)\n",
    "            else:\n",
    "                γ3f = γ3\n",
    "            ψ_123s[ψ_123] = ψ_123s[ψ_123] + (qet_12 * Qet({(γ3f,): coeff}))\n",
    "\n",
    "simplified_kets = {}\n",
    "for ψ_123, qet_123 in ψ_123s.items():\n",
    "    qet_simplified = det_qet_simplify(qet_123)\n",
    "    if len(qet_simplified) != 0:\n",
    "            simplified_kets[ψ_123] = Qet(dict(qet_simplified))\n",
    "            the_normalizer = 1/simplified_kets[ψ_123].norm()\n",
    "            simplified_kets[ψ_123] = the_normalizer*simplified_kets[ψ_123]\n",
    "\n",
    "final_qets = []\n",
    "corresponding_waves = []\n",
    "for total_ket_key_0, simple_ket_0 in simplified_kets.items():\n",
    "    ratios = []\n",
    "    for simple_ket_1 in final_qets:\n",
    "        divvy = qet_divide(simple_ket_0, simple_ket_1)\n",
    "        ratios.append(divvy==0)\n",
    "    ratios = sum(ratios)\n",
    "    if ratios == len(final_qets):\n",
    "        final_qets.append(simple_ket_0)\n",
    "        corresponding_waves.append(total_ket_key_0)\n",
    "final_qets = dict(zip(corresponding_waves, final_qets))\n",
    "                "
   ]
  },
  {
   "cell_type": "code",
   "execution_count": 62,
   "metadata": {},
   "outputs": [
    {
     "data": {
      "text/html": [
       "<pre>✔️ 7.22 ms (2021-12-14T20:45:53/2021-12-14T20:45:53)</pre>"
      ],
      "text/plain": [
       "<IPython.core.display.HTML object>"
      ]
     },
     "metadata": {},
     "output_type": "display_data"
    },
    {
     "data": {
      "text/plain": [
       "{Ψ(electrons=(T_2, T_2, T_2), terms=((1/2, T_2), (1/2, T_2), (0, A_1), (1/2, T_2)), γ={\\xi}, S=1/2, M=-1/2): Qet({(\\bar{{\\phi}}, {\\phi}, \\bar{{\\xi}}): -sqrt(2)/2, (\\bar{{\\chi}}, {\\chi}, \\bar{{\\xi}}): -sqrt(2)/2}),\n",
       " Ψ(electrons=(T_2, T_2, T_2), terms=((1/2, T_2), (1/2, T_2), (0, A_1), (1/2, T_2)), γ={\\xi}, S=1/2, M=1/2): Qet({(\\bar{{\\phi}}, {\\phi}, {\\xi}): -sqrt(2)/2, (\\bar{{\\chi}}, {\\chi}, {\\xi}): -sqrt(2)/2}),\n",
       " Ψ(electrons=(T_2, T_2, T_2), terms=((1/2, T_2), (1/2, T_2), (0, A_1), (1/2, T_2)), γ={\\phi}, S=1/2, M=-1/2): Qet({(\\bar{{\\xi}}, {\\xi}, \\bar{{\\phi}}): -sqrt(2)/2, (\\bar{{\\chi}}, {\\chi}, \\bar{{\\phi}}): -sqrt(2)/2}),\n",
       " Ψ(electrons=(T_2, T_2, T_2), terms=((1/2, T_2), (1/2, T_2), (0, A_1), (1/2, T_2)), γ={\\phi}, S=1/2, M=1/2): Qet({(\\bar{{\\xi}}, {\\xi}, {\\phi}): -sqrt(2)/2, (\\bar{{\\chi}}, {\\chi}, {\\phi}): -sqrt(2)/2}),\n",
       " Ψ(electrons=(T_2, T_2, T_2), terms=((1/2, T_2), (1/2, T_2), (0, A_1), (1/2, T_2)), γ={\\chi}, S=1/2, M=-1/2): Qet({(\\bar{{\\xi}}, {\\xi}, \\bar{{\\chi}}): -sqrt(2)/2, (\\bar{{\\phi}}, {\\phi}, \\bar{{\\chi}}): -sqrt(2)/2}),\n",
       " Ψ(electrons=(T_2, T_2, T_2), terms=((1/2, T_2), (1/2, T_2), (0, A_1), (1/2, T_2)), γ={\\chi}, S=1/2, M=1/2): Qet({(\\bar{{\\xi}}, {\\xi}, {\\chi}): -sqrt(2)/2, (\\bar{{\\phi}}, {\\phi}, {\\chi}): -sqrt(2)/2}),\n",
       " Ψ(electrons=(T_2, T_2, T_2), terms=((1/2, T_2), (1/2, T_2), (0, E), (1/2, T_1)), γ={\\eta}, S=1/2, M=-1/2): Qet({(\\bar{{\\xi}}, {\\xi}, \\bar{{\\chi}}): -sqrt(2)/2, (\\bar{{\\phi}}, {\\phi}, \\bar{{\\chi}}): sqrt(2)/2}),\n",
       " Ψ(electrons=(T_2, T_2, T_2), terms=((1/2, T_2), (1/2, T_2), (0, E), (1/2, T_1)), γ={\\eta}, S=1/2, M=1/2): Qet({(\\bar{{\\xi}}, {\\xi}, {\\chi}): -sqrt(2)/2, (\\bar{{\\phi}}, {\\phi}, {\\chi}): sqrt(2)/2}),\n",
       " Ψ(electrons=(T_2, T_2, T_2), terms=((1/2, T_2), (1/2, T_2), (0, E), (1/2, T_1)), γ={\\nu}, S=1/2, M=-1/2): Qet({(\\bar{{\\xi}}, {\\xi}, \\bar{{\\phi}}): sqrt(2)/2, (\\bar{{\\chi}}, {\\chi}, \\bar{{\\phi}}): -sqrt(2)/2}),\n",
       " Ψ(electrons=(T_2, T_2, T_2), terms=((1/2, T_2), (1/2, T_2), (0, E), (1/2, T_1)), γ={\\nu}, S=1/2, M=1/2): Qet({(\\bar{{\\xi}}, {\\xi}, {\\phi}): sqrt(2)/2, (\\bar{{\\chi}}, {\\chi}, {\\phi}): -sqrt(2)/2}),\n",
       " Ψ(electrons=(T_2, T_2, T_2), terms=((1/2, T_2), (1/2, T_2), (1, T_1), (3/2, A_2)), γ={\\beta}, S=3/2, M=-3/2): Qet({(\\bar{{\\xi}}, \\bar{{\\phi}}, \\bar{{\\chi}}): -1}),\n",
       " Ψ(electrons=(T_2, T_2, T_2), terms=((1/2, T_2), (1/2, T_2), (1, T_1), (3/2, A_2)), γ={\\beta}, S=3/2, M=-1/2): Qet({(\\bar{{\\xi}}, \\bar{{\\phi}}, {\\chi}): -sqrt(3)/3, (\\bar{{\\xi}}, {\\phi}, \\bar{{\\chi}}): -sqrt(3)/3, ({\\xi}, \\bar{{\\phi}}, \\bar{{\\chi}}): -sqrt(3)/3}),\n",
       " Ψ(electrons=(T_2, T_2, T_2), terms=((1/2, T_2), (1/2, T_2), (1, T_1), (1/2, E)), γ={\\gamma}, S=1/2, M=-1/2): Qet({(\\bar{{\\xi}}, \\bar{{\\phi}}, {\\chi}): -sqrt(2)/2, (\\bar{{\\xi}}, {\\phi}, \\bar{{\\chi}}): sqrt(2)/2}),\n",
       " Ψ(electrons=(T_2, T_2, T_2), terms=((1/2, T_2), (1/2, T_2), (1, T_1), (1/2, E)), γ={\\zeta}, S=1/2, M=-1/2): Qet({(\\bar{{\\xi}}, \\bar{{\\phi}}, {\\chi}): sqrt(6)/6, (\\bar{{\\xi}}, {\\phi}, \\bar{{\\chi}}): sqrt(6)/6, ({\\xi}, \\bar{{\\phi}}, \\bar{{\\chi}}): -sqrt(6)/3}),\n",
       " Ψ(electrons=(T_2, T_2, T_2), terms=((1/2, T_2), (1/2, T_2), (1, T_1), (1/2, T_1)), γ={\\mu}, S=1/2, M=-1/2): Qet({(\\bar{{\\xi}}, \\bar{{\\phi}}, {\\phi}): sqrt(2)/2, (\\bar{{\\xi}}, \\bar{{\\chi}}, {\\chi}): -sqrt(2)/2}),\n",
       " Ψ(electrons=(T_2, T_2, T_2), terms=((1/2, T_2), (1/2, T_2), (1, T_1), (3/2, A_2)), γ={\\beta}, S=3/2, M=1/2): Qet({(\\bar{{\\xi}}, {\\phi}, {\\chi}): -sqrt(3)/3, ({\\xi}, \\bar{{\\phi}}, {\\chi}): -sqrt(3)/3, ({\\xi}, {\\phi}, \\bar{{\\chi}}): -sqrt(3)/3}),\n",
       " Ψ(electrons=(T_2, T_2, T_2), terms=((1/2, T_2), (1/2, T_2), (1, T_1), (1/2, E)), γ={\\gamma}, S=1/2, M=1/2): Qet({({\\xi}, \\bar{{\\phi}}, {\\chi}): -sqrt(2)/2, ({\\xi}, {\\phi}, \\bar{{\\chi}}): sqrt(2)/2}),\n",
       " Ψ(electrons=(T_2, T_2, T_2), terms=((1/2, T_2), (1/2, T_2), (1, T_1), (1/2, E)), γ={\\zeta}, S=1/2, M=1/2): Qet({(\\bar{{\\xi}}, {\\phi}, {\\chi}): sqrt(6)/3, ({\\xi}, \\bar{{\\phi}}, {\\chi}): -sqrt(6)/6, ({\\xi}, {\\phi}, \\bar{{\\chi}}): -sqrt(6)/6}),\n",
       " Ψ(electrons=(T_2, T_2, T_2), terms=((1/2, T_2), (1/2, T_2), (1, T_1), (1/2, T_1)), γ={\\mu}, S=1/2, M=1/2): Qet({({\\xi}, \\bar{{\\phi}}, {\\phi}): sqrt(2)/2, ({\\xi}, \\bar{{\\chi}}, {\\chi}): -sqrt(2)/2}),\n",
       " Ψ(electrons=(T_2, T_2, T_2), terms=((1/2, T_2), (1/2, T_2), (1, T_1), (3/2, A_2)), γ={\\beta}, S=3/2, M=3/2): Qet({({\\xi}, {\\phi}, {\\chi}): -1})}"
      ]
     },
     "execution_count": 62,
     "metadata": {},
     "output_type": "execute_result"
    }
   ],
   "source": [
    "final_qets"
   ]
  },
  {
   "cell_type": "code",
   "execution_count": 59,
   "metadata": {},
   "outputs": [
    {
     "data": {
      "text/html": [
       "<pre>✔️ 57.6 ms (2021-12-14T20:34:52/2021-12-14T20:34:53)</pre>"
      ],
      "text/plain": [
       "<IPython.core.display.HTML object>"
      ]
     },
     "metadata": {},
     "output_type": "display_data"
    },
    {
     "data": {
      "text/latex": [
       "$\\displaystyle - \\frac{\\sqrt{2} {\\left|\\left( \\bar{{\\chi}}, \\  {\\chi}, \\  \\bar{{\\xi}}\\right)\\right\\rangle }}{2} - \\frac{\\sqrt{2} {\\left|\\left( \\bar{{\\phi}}, \\  {\\phi}, \\  \\bar{{\\xi}}\\right)\\right\\rangle }}{2}$"
      ],
      "text/plain": [
       "-sqrt(2)*|(\\bar{{\\chi}}, {\\chi}, \\bar{{\\xi}})>/2 - sqrt(2)*|(\\bar{{\\phi}}, {\\phi}, \\bar{{\\xi}})>/2"
      ]
     },
     "metadata": {},
     "output_type": "display_data"
    },
    {
     "data": {
      "text/latex": [
       "$\\displaystyle - \\frac{\\sqrt{2} {\\left|\\left( \\bar{{\\chi}}, \\  {\\chi}, \\  {\\xi}\\right)\\right\\rangle }}{2} - \\frac{\\sqrt{2} {\\left|\\left( \\bar{{\\phi}}, \\  {\\phi}, \\  {\\xi}\\right)\\right\\rangle }}{2}$"
      ],
      "text/plain": [
       "-sqrt(2)*|(\\bar{{\\chi}}, {\\chi}, {\\xi})>/2 - sqrt(2)*|(\\bar{{\\phi}}, {\\phi}, {\\xi})>/2"
      ]
     },
     "metadata": {},
     "output_type": "display_data"
    },
    {
     "data": {
      "text/latex": [
       "$\\displaystyle - \\frac{\\sqrt{2} {\\left|\\left( \\bar{{\\chi}}, \\  {\\chi}, \\  \\bar{{\\phi}}\\right)\\right\\rangle }}{2} - \\frac{\\sqrt{2} {\\left|\\left( \\bar{{\\xi}}, \\  {\\xi}, \\  \\bar{{\\phi}}\\right)\\right\\rangle }}{2}$"
      ],
      "text/plain": [
       "-sqrt(2)*|(\\bar{{\\chi}}, {\\chi}, \\bar{{\\phi}})>/2 - sqrt(2)*|(\\bar{{\\xi}}, {\\xi}, \\bar{{\\phi}})>/2"
      ]
     },
     "metadata": {},
     "output_type": "display_data"
    },
    {
     "data": {
      "text/latex": [
       "$\\displaystyle - \\frac{\\sqrt{2} {\\left|\\left( \\bar{{\\chi}}, \\  {\\chi}, \\  {\\phi}\\right)\\right\\rangle }}{2} - \\frac{\\sqrt{2} {\\left|\\left( \\bar{{\\xi}}, \\  {\\xi}, \\  {\\phi}\\right)\\right\\rangle }}{2}$"
      ],
      "text/plain": [
       "-sqrt(2)*|(\\bar{{\\chi}}, {\\chi}, {\\phi})>/2 - sqrt(2)*|(\\bar{{\\xi}}, {\\xi}, {\\phi})>/2"
      ]
     },
     "metadata": {},
     "output_type": "display_data"
    },
    {
     "data": {
      "text/latex": [
       "$\\displaystyle - \\frac{\\sqrt{2} {\\left|\\left( \\bar{{\\phi}}, \\  {\\phi}, \\  \\bar{{\\chi}}\\right)\\right\\rangle }}{2} - \\frac{\\sqrt{2} {\\left|\\left( \\bar{{\\xi}}, \\  {\\xi}, \\  \\bar{{\\chi}}\\right)\\right\\rangle }}{2}$"
      ],
      "text/plain": [
       "-sqrt(2)*|(\\bar{{\\phi}}, {\\phi}, \\bar{{\\chi}})>/2 - sqrt(2)*|(\\bar{{\\xi}}, {\\xi}, \\bar{{\\chi}})>/2"
      ]
     },
     "metadata": {},
     "output_type": "display_data"
    },
    {
     "data": {
      "text/latex": [
       "$\\displaystyle - \\frac{\\sqrt{2} {\\left|\\left( \\bar{{\\phi}}, \\  {\\phi}, \\  {\\chi}\\right)\\right\\rangle }}{2} - \\frac{\\sqrt{2} {\\left|\\left( \\bar{{\\xi}}, \\  {\\xi}, \\  {\\chi}\\right)\\right\\rangle }}{2}$"
      ],
      "text/plain": [
       "-sqrt(2)*|(\\bar{{\\phi}}, {\\phi}, {\\chi})>/2 - sqrt(2)*|(\\bar{{\\xi}}, {\\xi}, {\\chi})>/2"
      ]
     },
     "metadata": {},
     "output_type": "display_data"
    },
    {
     "data": {
      "text/latex": [
       "$\\displaystyle \\frac{\\sqrt{2} {\\left|\\left( \\bar{{\\phi}}, \\  {\\phi}, \\  \\bar{{\\chi}}\\right)\\right\\rangle }}{2} - \\frac{\\sqrt{2} {\\left|\\left( \\bar{{\\xi}}, \\  {\\xi}, \\  \\bar{{\\chi}}\\right)\\right\\rangle }}{2}$"
      ],
      "text/plain": [
       "sqrt(2)*|(\\bar{{\\phi}}, {\\phi}, \\bar{{\\chi}})>/2 - sqrt(2)*|(\\bar{{\\xi}}, {\\xi}, \\bar{{\\chi}})>/2"
      ]
     },
     "metadata": {},
     "output_type": "display_data"
    },
    {
     "data": {
      "text/latex": [
       "$\\displaystyle \\frac{\\sqrt{2} {\\left|\\left( \\bar{{\\phi}}, \\  {\\phi}, \\  {\\chi}\\right)\\right\\rangle }}{2} - \\frac{\\sqrt{2} {\\left|\\left( \\bar{{\\xi}}, \\  {\\xi}, \\  {\\chi}\\right)\\right\\rangle }}{2}$"
      ],
      "text/plain": [
       "sqrt(2)*|(\\bar{{\\phi}}, {\\phi}, {\\chi})>/2 - sqrt(2)*|(\\bar{{\\xi}}, {\\xi}, {\\chi})>/2"
      ]
     },
     "metadata": {},
     "output_type": "display_data"
    },
    {
     "data": {
      "text/latex": [
       "$\\displaystyle - \\frac{\\sqrt{2} {\\left|\\left( \\bar{{\\chi}}, \\  {\\chi}, \\  \\bar{{\\phi}}\\right)\\right\\rangle }}{2} + \\frac{\\sqrt{2} {\\left|\\left( \\bar{{\\xi}}, \\  {\\xi}, \\  \\bar{{\\phi}}\\right)\\right\\rangle }}{2}$"
      ],
      "text/plain": [
       "-sqrt(2)*|(\\bar{{\\chi}}, {\\chi}, \\bar{{\\phi}})>/2 + sqrt(2)*|(\\bar{{\\xi}}, {\\xi}, \\bar{{\\phi}})>/2"
      ]
     },
     "metadata": {},
     "output_type": "display_data"
    },
    {
     "data": {
      "text/latex": [
       "$\\displaystyle - \\frac{\\sqrt{2} {\\left|\\left( \\bar{{\\chi}}, \\  {\\chi}, \\  {\\phi}\\right)\\right\\rangle }}{2} + \\frac{\\sqrt{2} {\\left|\\left( \\bar{{\\xi}}, \\  {\\xi}, \\  {\\phi}\\right)\\right\\rangle }}{2}$"
      ],
      "text/plain": [
       "-sqrt(2)*|(\\bar{{\\chi}}, {\\chi}, {\\phi})>/2 + sqrt(2)*|(\\bar{{\\xi}}, {\\xi}, {\\phi})>/2"
      ]
     },
     "metadata": {},
     "output_type": "display_data"
    },
    {
     "data": {
      "text/latex": [
       "$\\displaystyle - {\\left|\\left( \\bar{{\\xi}}, \\  \\bar{{\\phi}}, \\  \\bar{{\\chi}}\\right)\\right\\rangle }$"
      ],
      "text/plain": [
       "-|(\\bar{{\\xi}}, \\bar{{\\phi}}, \\bar{{\\chi}})>"
      ]
     },
     "metadata": {},
     "output_type": "display_data"
    },
    {
     "data": {
      "text/latex": [
       "$\\displaystyle - \\frac{\\sqrt{3} {\\left|\\left( \\bar{{\\xi}}, \\  \\bar{{\\phi}}, \\  {\\chi}\\right)\\right\\rangle }}{3} - \\frac{\\sqrt{3} {\\left|\\left( \\bar{{\\xi}}, \\  {\\phi}, \\  \\bar{{\\chi}}\\right)\\right\\rangle }}{3} - \\frac{\\sqrt{3} {\\left|\\left( {\\xi}, \\  \\bar{{\\phi}}, \\  \\bar{{\\chi}}\\right)\\right\\rangle }}{3}$"
      ],
      "text/plain": [
       "-sqrt(3)*|(\\bar{{\\xi}}, \\bar{{\\phi}}, {\\chi})>/3 - sqrt(3)*|(\\bar{{\\xi}}, {\\phi}, \\bar{{\\chi}})>/3 - sqrt(3)*|({\\xi}, \\bar{{\\phi}}, \\bar{{\\chi}})>/3"
      ]
     },
     "metadata": {},
     "output_type": "display_data"
    },
    {
     "data": {
      "text/latex": [
       "$\\displaystyle - \\frac{\\sqrt{2} {\\left|\\left( \\bar{{\\xi}}, \\  \\bar{{\\phi}}, \\  {\\chi}\\right)\\right\\rangle }}{2} + \\frac{\\sqrt{2} {\\left|\\left( \\bar{{\\xi}}, \\  {\\phi}, \\  \\bar{{\\chi}}\\right)\\right\\rangle }}{2}$"
      ],
      "text/plain": [
       "-sqrt(2)*|(\\bar{{\\xi}}, \\bar{{\\phi}}, {\\chi})>/2 + sqrt(2)*|(\\bar{{\\xi}}, {\\phi}, \\bar{{\\chi}})>/2"
      ]
     },
     "metadata": {},
     "output_type": "display_data"
    },
    {
     "data": {
      "text/latex": [
       "$\\displaystyle \\frac{\\sqrt{6} {\\left|\\left( \\bar{{\\xi}}, \\  \\bar{{\\phi}}, \\  {\\chi}\\right)\\right\\rangle }}{6} + \\frac{\\sqrt{6} {\\left|\\left( \\bar{{\\xi}}, \\  {\\phi}, \\  \\bar{{\\chi}}\\right)\\right\\rangle }}{6} - \\frac{\\sqrt{6} {\\left|\\left( {\\xi}, \\  \\bar{{\\phi}}, \\  \\bar{{\\chi}}\\right)\\right\\rangle }}{3}$"
      ],
      "text/plain": [
       "sqrt(6)*|(\\bar{{\\xi}}, \\bar{{\\phi}}, {\\chi})>/6 + sqrt(6)*|(\\bar{{\\xi}}, {\\phi}, \\bar{{\\chi}})>/6 - sqrt(6)*|({\\xi}, \\bar{{\\phi}}, \\bar{{\\chi}})>/3"
      ]
     },
     "metadata": {},
     "output_type": "display_data"
    },
    {
     "data": {
      "text/latex": [
       "$\\displaystyle - \\frac{\\sqrt{2} {\\left|\\left( \\bar{{\\xi}}, \\  \\bar{{\\chi}}, \\  {\\chi}\\right)\\right\\rangle }}{2} + \\frac{\\sqrt{2} {\\left|\\left( \\bar{{\\xi}}, \\  \\bar{{\\phi}}, \\  {\\phi}\\right)\\right\\rangle }}{2}$"
      ],
      "text/plain": [
       "-sqrt(2)*|(\\bar{{\\xi}}, \\bar{{\\chi}}, {\\chi})>/2 + sqrt(2)*|(\\bar{{\\xi}}, \\bar{{\\phi}}, {\\phi})>/2"
      ]
     },
     "metadata": {},
     "output_type": "display_data"
    },
    {
     "data": {
      "text/latex": [
       "$\\displaystyle - \\frac{\\sqrt{3} {\\left|\\left( \\bar{{\\xi}}, \\  {\\phi}, \\  {\\chi}\\right)\\right\\rangle }}{3} - \\frac{\\sqrt{3} {\\left|\\left( {\\xi}, \\  \\bar{{\\phi}}, \\  {\\chi}\\right)\\right\\rangle }}{3} - \\frac{\\sqrt{3} {\\left|\\left( {\\xi}, \\  {\\phi}, \\  \\bar{{\\chi}}\\right)\\right\\rangle }}{3}$"
      ],
      "text/plain": [
       "-sqrt(3)*|(\\bar{{\\xi}}, {\\phi}, {\\chi})>/3 - sqrt(3)*|({\\xi}, \\bar{{\\phi}}, {\\chi})>/3 - sqrt(3)*|({\\xi}, {\\phi}, \\bar{{\\chi}})>/3"
      ]
     },
     "metadata": {},
     "output_type": "display_data"
    },
    {
     "data": {
      "text/latex": [
       "$\\displaystyle - \\frac{\\sqrt{2} {\\left|\\left( {\\xi}, \\  \\bar{{\\phi}}, \\  {\\chi}\\right)\\right\\rangle }}{2} + \\frac{\\sqrt{2} {\\left|\\left( {\\xi}, \\  {\\phi}, \\  \\bar{{\\chi}}\\right)\\right\\rangle }}{2}$"
      ],
      "text/plain": [
       "-sqrt(2)*|({\\xi}, \\bar{{\\phi}}, {\\chi})>/2 + sqrt(2)*|({\\xi}, {\\phi}, \\bar{{\\chi}})>/2"
      ]
     },
     "metadata": {},
     "output_type": "display_data"
    },
    {
     "data": {
      "text/latex": [
       "$\\displaystyle \\frac{\\sqrt{6} {\\left|\\left( \\bar{{\\xi}}, \\  {\\phi}, \\  {\\chi}\\right)\\right\\rangle }}{3} - \\frac{\\sqrt{6} {\\left|\\left( {\\xi}, \\  \\bar{{\\phi}}, \\  {\\chi}\\right)\\right\\rangle }}{6} - \\frac{\\sqrt{6} {\\left|\\left( {\\xi}, \\  {\\phi}, \\  \\bar{{\\chi}}\\right)\\right\\rangle }}{6}$"
      ],
      "text/plain": [
       "sqrt(6)*|(\\bar{{\\xi}}, {\\phi}, {\\chi})>/3 - sqrt(6)*|({\\xi}, \\bar{{\\phi}}, {\\chi})>/6 - sqrt(6)*|({\\xi}, {\\phi}, \\bar{{\\chi}})>/6"
      ]
     },
     "metadata": {},
     "output_type": "display_data"
    },
    {
     "data": {
      "text/latex": [
       "$\\displaystyle - \\frac{\\sqrt{2} {\\left|\\left( {\\xi}, \\  \\bar{{\\chi}}, \\  {\\chi}\\right)\\right\\rangle }}{2} + \\frac{\\sqrt{2} {\\left|\\left( {\\xi}, \\  \\bar{{\\phi}}, \\  {\\phi}\\right)\\right\\rangle }}{2}$"
      ],
      "text/plain": [
       "-sqrt(2)*|({\\xi}, \\bar{{\\chi}}, {\\chi})>/2 + sqrt(2)*|({\\xi}, \\bar{{\\phi}}, {\\phi})>/2"
      ]
     },
     "metadata": {},
     "output_type": "display_data"
    },
    {
     "data": {
      "text/latex": [
       "$\\displaystyle - {\\left|\\left( {\\xi}, \\  {\\phi}, \\  {\\chi}\\right)\\right\\rangle }$"
      ],
      "text/plain": [
       "-|({\\xi}, {\\phi}, {\\chi})>"
      ]
     },
     "metadata": {},
     "output_type": "display_data"
    }
   ],
   "source": [
    "for k, v in final_qets:\n",
    "    display(v.as_ket())"
   ]
  },
  {
   "cell_type": "code",
   "execution_count": 38,
   "metadata": {},
   "outputs": [
    {
     "data": {
      "text/html": [
       "<pre>✔️ 6.9 ms (2021-12-14T17:46:40/2021-12-14T17:46:40)</pre>"
      ],
      "text/plain": [
       "<IPython.core.display.HTML object>"
      ]
     },
     "metadata": {},
     "output_type": "display_data"
    }
   ],
   "source": [
    "_ = 'doing it in just one go was too hard I first need to learn how to do three using the result for two'\n",
    "# # ideally what I would like is a function that takes wavefunctions for an aggregate of electrons\n",
    "# # and then adds to that another single electron]\n",
    "# # the wavefunctions are \n",
    "# # Ψ()\n",
    "# # in principle \"all\" that needs to be done is to \n",
    "# # sum over M_int and intermediate γ_int\n",
    "# # Ψ is a dictionary that keeps qets as values\n",
    "# # the key is an n-tuple\n",
    "# # whose first value is a tuple with all the electrons that have been coupled in it\n",
    "# # the second value is another tuple with all the intermediate S and gamma that correspond to it\n",
    "# # in this tuple the last element is the current irrep and S\n",
    "# # the third is the value for M_z and\n",
    "# # and the fourth value is a symbol for a label for one of the components\n",
    "# # for example\n",
    "# Ψ = namedtuple('Ψ',['electrons','chars','S','M','γ']) # this is the template that I'll use to deal with them\n",
    "# Ψs = {Ψ(electrons = (sp.Symbol('E'), sp.Symbol('T_2') ),\n",
    "#             chars = (\n",
    "#                     (sp.Symbol('T_1'),1),\n",
    "#                     (sp.Symbol('T_2'),0)\n",
    "#                     ),\n",
    "#                 S = 1,\n",
    "#                 M = 1,\n",
    "#                 γ = sp.Symbol(r'\\beta')\n",
    "#         ): Qet({'x':1,'y':2})}\n",
    "# # inputs are an electron configuration, which is a tuple with irrep symbols\n",
    "# e_config = (sp.Symbol('E'), sp.Symbol('T_2'), sp.Symbol('T_2'))\n",
    "# # then the following is stated\n",
    "# # the psis for this may be obtained from the previous psis by the following relationshipo\n",
    "# # Ψs[e_config] = Ψs[e_config[:-1]] \"+\" e_config[-1]\n",
    "# # then when I go on to evaluate the addition of that final electron I will find that\n",
    "# # that in turn requires\n",
    "# # Ψs[e_config[:-1]] = Ψs[e_config[:-2]] \"+\" e_config[-1] ...\n",
    "# # the most essential function is one that takes a dictionary of Ψs and adds the given electron to it\n",
    "# group_label = 'O'\n",
    "# group = CPGs.get_group_by_label(group_label)\n",
    "# group_CGs = group.CG_coefficients\n",
    "# flat_labels = dict(sum([list(l.items()) for l in list(new_labels[group_label].values())],[]))\n",
    "# group_CGs = {(flat_labels[k[0]], flat_labels[k[1]], flat_labels[k[2]]):v for k,v in group_CGs.items()}\n",
    "# irreps = group.irrep_labels\n",
    "# component_labels = {k:list(v.values()) for k,v in new_labels[group_label].items()}\n",
    "\n",
    "# def electron_coupler(Ψs, Γ_e):\n",
    "#     '''\n",
    "#     This function takes a dictionary of Ψs and an additional electron\n",
    "#     (given as an irrep) that must be added to it.\n",
    "#     The basic operation is that of adding an electron to a dictionary\n",
    "#     of wave functions.\n",
    "#     '''\n",
    "#     s_half = sp.S(1)/2\n",
    "#     m_halves = mrange(s_half)\n",
    "#     γ_extras = component_labels[Γ_e]\n",
    "#     # Γ1, Γ2, Γ3 = sp.Symbol('T_2'), sp.Symbol('T_2'), sp.Symbol('T_2')\n",
    "#     # the basis operation is that of iterating over the wavefunctions\n",
    "#     # contained in Ψs, which is a dict\n",
    "#     cΨs = {} # for \"coupled\" Ψs\n",
    "#     for electron_key, electron_qet in Ψs.items():\n",
    "#         electrons = electron_key.electrons\n",
    "#         Γ = electron_key.chars[-1] # this are the irreps from the wavefun\n",
    "#         M = electron_key.M # this is M_0 in TSK\n",
    "#         γ = electron_key.γ # this is γ_0 in TSK\n",
    "#         S = electron_key.S\n",
    "#         for m_extra in m_halves:\n",
    "#             for γ_extra in γ_extras:\n",
    "#                 sCG = clebschG.eva(s1, s2, S12, m1, m2, M12)\n",
    "#                 gCG = group_CGs.setdefault((γ1, γ2, γ12), 0)\n",
    "\n",
    "#     comps_1, comps_2, comps_3 = [component_labels[ir] for ir in [Γ1, Γ2, Γ3]]\n",
    "#     s1, s2, s3 = s_half, s_half, s_half\n",
    "\n",
    "#     Γ12s = group.product_table.odict[(Γ1, Γ2)] # the intermediate irreps belong to the reduction of Γ1 X Γ2\n",
    "#     S12s = lrange(s1,s2) # this is just [0,1] as for the total angular momentum of the intermediate states\n",
    "#     total_kets = {}\n",
    "\n",
    "#     counter = 0\n",
    "#     for γ1, γ2, γ3, m1, m2, m3, Γ12, S12 in product(comps_1, comps_2, comps_3, ms, ms, ms, Γ12s, S12s):\n",
    "#         Γs = group.product_table.odict[(Γ12, Γ3)]\n",
    "#         Ss = lrange(S12, s3)\n",
    "#         comps_12 = component_labels[Γ12]\n",
    "#         M12s = mrange(S12)\n",
    "#         for Γ in Γs:\n",
    "#             comps = component_labels[Γ]\n",
    "#             for S in Ss:\n",
    "#                 Ms = mrange(S)\n",
    "#                 for γ, M12, M, γ12 in product(comps, M12s, Ms, comps_12):\n",
    "#                     total_ket_key = (Γ, γ, 2*S+1, M, S12, Γ12)\n",
    "#                     # summing s1 and s2 to yield S12\n",
    "#                     sCG1 = clebschG.eva(s1, s2, S12, m1, m2, M12)\n",
    "#                     # summing S12 and s3 to give the final S, M\n",
    "#                     sCG2 = clebschG.eva(S12, s3, S, M12, m3, M)\n",
    "#                     # coupling a γ1, γ2 to get a γ12\n",
    "#                     gCG1 = group_CGs.setdefault((γ1, γ2, γ12), 0)\n",
    "#                     # coupling a γ12, γ3 to get a final γ\n",
    "#                     gCG2 = group_CGs.setdefault((γ12, γ3, γ), 0)\n",
    "#                     coeff = sCG1 * sCG2 * gCG1 * gCG2\n",
    "#                     if coeff == 0:\n",
    "#                         continue\n",
    "#                     # collect in the dictionary all the parts that correspond to the sums\n",
    "#                     if total_ket_key not in total_kets:\n",
    "#                         total_kets[total_ket_key] = {}\n",
    "#                     if m1 < 0:\n",
    "#                         γ1f = bar_symbol(γ1)\n",
    "#                     else:\n",
    "#                         γ1f = γ1\n",
    "#                     if m2 < 0:\n",
    "#                         γ2f = bar_symbol(γ2)\n",
    "#                     else:\n",
    "#                         γ2f = γ2\n",
    "#                     if m3 < 0:\n",
    "#                         γ3f = bar_symbol(γ3)\n",
    "#                     else:\n",
    "#                         γ3f= γ3\n",
    "#                     total_ket_part_key = (γ1f, γ2f, γ3f)\n",
    "#                     if total_ket_part_key not in total_kets[total_ket_key]:\n",
    "#                         total_kets[total_ket_key][total_ket_part_key] = 0\n",
    "#                     total_kets[total_ket_key][total_ket_part_key] += coeff\n",
    "#                     counter += 1"
   ]
  },
  {
   "cell_type": "code",
   "execution_count": 36,
   "metadata": {},
   "outputs": [
    {
     "data": {
      "text/html": [
       "<pre>✔️ 1.5 ms (2021-12-14T17:01:33/2021-12-14T17:01:33)</pre>"
      ],
      "text/plain": [
       "<IPython.core.display.HTML object>"
      ]
     },
     "metadata": {},
     "output_type": "display_data"
    },
    {
     "data": {
      "text/plain": [
       "[1, 2]"
      ]
     },
     "execution_count": 36,
     "metadata": {},
     "output_type": "execute_result"
    }
   ],
   "source": [
    "[1,2,3][:-1]"
   ]
  },
  {
   "cell_type": "code",
   "execution_count": 35,
   "metadata": {},
   "outputs": [
    {
     "data": {
      "text/html": [
       "<pre>✔️ 2.26 ms (2021-12-14T16:56:22/2021-12-14T16:56:22)</pre>"
      ],
      "text/plain": [
       "<IPython.core.display.HTML object>"
      ]
     },
     "metadata": {},
     "output_type": "display_data"
    },
    {
     "data": {
      "text/latex": [
       "$\\displaystyle \\beta$"
      ],
      "text/plain": [
       "\\beta"
      ]
     },
     "execution_count": 35,
     "metadata": {},
     "output_type": "execute_result"
    }
   ],
   "source": [
    "list(Ψs.keys())[0].γ"
   ]
  },
  {
   "cell_type": "code",
   "execution_count": 32,
   "metadata": {},
   "outputs": [
    {
     "data": {
      "text/html": [
       "<pre>✔️ 4.48 ms (2021-12-14T16:56:08/2021-12-14T16:56:08)</pre>"
      ],
      "text/plain": [
       "<IPython.core.display.HTML object>"
      ]
     },
     "metadata": {},
     "output_type": "display_data"
    },
    {
     "data": {
      "text/latex": [
       "$\\displaystyle {\\left|x\\right\\rangle } + 2 {\\left|y\\right\\rangle }$"
      ],
      "text/plain": [
       "|x> + 2*|y>"
      ]
     },
     "execution_count": 32,
     "metadata": {},
     "output_type": "execute_result"
    }
   ],
   "source": [
    "list(Ψs.values())[0].as_ket()"
   ]
  },
  {
   "cell_type": "code",
   "execution_count": 10,
   "metadata": {},
   "outputs": [
    {
     "data": {
      "text/html": [
       "<pre>✔️ 625 µs (2021-12-14T16:47:49/2021-12-14T16:47:49)</pre>"
      ],
      "text/plain": [
       "<IPython.core.display.HTML object>"
      ]
     },
     "metadata": {},
     "output_type": "display_data"
    }
   ],
   "source": [
    "from collections import namedtuple"
   ]
  },
  {
   "cell_type": "code",
   "execution_count": 9,
   "metadata": {},
   "outputs": [
    {
     "data": {
      "text/html": [
       "<pre>✔️ 4.61 s (2021-12-14T16:47:36/2021-12-14T16:47:40)</pre>"
      ],
      "text/plain": [
       "<IPython.core.display.HTML object>"
      ]
     },
     "metadata": {},
     "output_type": "display_data"
    }
   ],
   "source": [
    "# def three_electron_waves(group_label, Γ1, Γ2, Γ3, disambiguate = False):\n",
    "# '''\n",
    "# Given  a  label for a crystallographic point group and three\n",
    "# labels   for   corresponding   irreducible  representations.\n",
    "# Produce  all the three electron wavefunctions  assuming that\n",
    "# all the electrons are equivalent.\n",
    "\n",
    "# Parameters\n",
    "# ----------\n",
    "# group_label     (str):\n",
    "# Γ1        (sp.Symbol): label for an irrep of G\n",
    "# Γ2        (sp.Symbol): label for an irrep of G\n",
    "# Γ3        (sp.Symbol): label for an irrep of G\n",
    "# disambiguate   (bool): if verbose output is returned\n",
    "\n",
    "# Returns\n",
    "# -------\n",
    "# if disambiguate == False:\n",
    "#     final_qets      (dict): \n",
    "#         keys -> (Γ_total, γ_total, 2*S_total+1, M_total, S_12, Γ_12)\n",
    "#         values -> qdef.Qet with determinantal states\n",
    "# if disambiguate == True then also final_qets_groups is returned\n",
    "#     final_qets_groups (dict):\n",
    "#         keys -> (Γ_total, γ_total, 2*S_total+1, M_total, S_12, Γ_12)\n",
    "#         values -> dict() with keys 'paths' and 'qet'\n",
    "#             with 'paths' a list with all alternate intermediate two-\n",
    "#             electron states that lead to the same final qet.\n",
    "\n",
    "# Where  S_12  is  the  spin  of the intermediate two-electron\n",
    "# wavefunction and Γ_12 its corresponding irrep.\n",
    "# '''\n",
    "Γ1, Γ2, Γ3 = sp.Symbol('T_2'), sp.Symbol('T_2'), sp.Symbol('T_2')\n",
    "group_label = 'O'\n",
    "# get the group\n",
    "group = CPGs.get_group_by_label(group_label)\n",
    "# get the CGs\n",
    "group_CGs = group.CG_coefficients\n",
    "# enforce the better notation for components\n",
    "flat_labels = dict(sum([list(l.items()) for l in list(new_labels[group_label].values())],[]))\n",
    "group_CGs = {(flat_labels[k[0]], flat_labels[k[1]], flat_labels[k[2]]):v for k,v in group_CGs.items()}\n",
    "\n",
    "irreps = group.irrep_labels\n",
    "s_half = sp.S(1)/2\n",
    "ms = mrange(s_half)\n",
    "\n",
    "component_labels = {k:list(v.values()) for k,v in new_labels[group_label].items()}\n",
    "comps_1, comps_2, comps_3 = [component_labels[ir] for ir in [Γ1, Γ2, Γ3]]\n",
    "s1, s2, s3 = s_half, s_half, s_half\n",
    "\n",
    "Γ12s = group.product_table.odict[(Γ1, Γ2)] # the intermediate irreps belong to the reduction of Γ1 X Γ2\n",
    "S12s = lrange(s1,s2) # this is just [0,1] as for the total angular momentum of the intermediate states\n",
    "total_kets = {}\n",
    "\n",
    "counter = 0\n",
    "for γ1, γ2, γ3, m1, m2, m3, Γ12, S12 in product(comps_1, comps_2, comps_3, ms, ms, ms, Γ12s, S12s):\n",
    "    Γs = group.product_table.odict[(Γ12, Γ3)]\n",
    "    Ss = lrange(S12, s3)\n",
    "    comps_12 = component_labels[Γ12]\n",
    "    M12s = mrange(S12)\n",
    "    for Γ in Γs:\n",
    "        comps = component_labels[Γ]\n",
    "        for S in Ss:\n",
    "            Ms = mrange(S)\n",
    "            for γ, M12, M, γ12 in product(comps, M12s, Ms, comps_12):\n",
    "                total_ket_key = (Γ, γ, 2*S+1, M, S12, Γ12)\n",
    "                # summing s1 and s2 to yield S12\n",
    "                sCG1 = clebschG.eva(s1, s2, S12, m1, m2, M12)\n",
    "                # summing S12 and s3 to give the final S, M\n",
    "                sCG2 = clebschG.eva(S12, s3, S, M12, m3, M)\n",
    "                # coupling a γ1, γ2 to get a γ12\n",
    "                gCG1 = group_CGs.setdefault((γ1, γ2, γ12), 0)\n",
    "                # coupling a γ12, γ3 to get a final γ\n",
    "                gCG2 = group_CGs.setdefault((γ12, γ3, γ), 0)\n",
    "                coeff = sCG1 * sCG2 * gCG1 * gCG2\n",
    "                if coeff == 0:\n",
    "                    continue\n",
    "                # collect in the dictionary all the parts that correspond to the sums\n",
    "                if total_ket_key not in total_kets:\n",
    "                    total_kets[total_ket_key] = {}\n",
    "                if m1 < 0:\n",
    "                    γ1f = bar_symbol(γ1)\n",
    "                else:\n",
    "                    γ1f = γ1\n",
    "                if m2 < 0:\n",
    "                    γ2f = bar_symbol(γ2)\n",
    "                else:\n",
    "                    γ2f = γ2\n",
    "                if m3 < 0:\n",
    "                    γ3f = bar_symbol(γ3)\n",
    "                else:\n",
    "                    γ3f= γ3\n",
    "                total_ket_part_key = (γ1f, γ2f, γ3f)\n",
    "                if total_ket_part_key not in total_kets[total_ket_key]:\n",
    "                    total_kets[total_ket_key][total_ket_part_key] = 0\n",
    "                total_kets[total_ket_key][total_ket_part_key] += coeff\n",
    "                counter += 1\n",
    "\n",
    "# The resulting qets may have redundant parts in that \n",
    "# a rearrangment of the quantum symbols may be equal\n",
    "# to another part.\n",
    "# This makes it necessary to do some rearrangment\n",
    "# juggling, and permutations signing.\n",
    "\n",
    "simplified_kets = {}\n",
    "for total_ket_key, ket_parts in total_kets.items():\n",
    "    det_simplified = det_simplify(ket_parts)\n",
    "    if len(det_simplified) != 0:\n",
    "        simplified_kets[total_ket_key] = Qet(dict(det_simplified))\n",
    "        the_normalizer = 1/simplified_kets[total_ket_key].norm()\n",
    "        simplified_kets[total_ket_key] = the_normalizer*simplified_kets[total_ket_key]\n",
    "\n",
    "final_qets = []\n",
    "corresponding_waves = []\n",
    "for total_ket_key_0, simple_ket_0 in simplified_kets.items():\n",
    "    ratios = []\n",
    "    for simple_ket_1 in final_qets:\n",
    "        divvy = qet_divide(simple_ket_0, simple_ket_1)\n",
    "        ratios.append(divvy==0)\n",
    "    ratios = sum(ratios)\n",
    "    if ratios == len(final_qets):\n",
    "        final_qets.append(simple_ket_0)\n",
    "        corresponding_waves.append(total_ket_key_0)\n",
    "final_qets = list(zip(corresponding_waves, final_qets))\n",
    "\n",
    "# in addition to removing the redundant ones\n",
    "# I would also like to keep al the total_ket_keys that correspond to each\n",
    "# group of redundant qets\n",
    "\n",
    "final_qets_groups = {}\n",
    "for main_key, sqet in final_qets:\n",
    "    final_qets_groups[main_key] = {'paths':[],'qet':sqet}\n",
    "    for total_ket_key_0, simple_ket_0 in simplified_kets.items():\n",
    "        if qet_divide(sqet, simple_ket_0) != 0:\n",
    "            final_qets_groups[main_key]['paths'].append(total_ket_key_0)\n"
   ]
  },
  {
   "cell_type": "code",
   "execution_count": null,
   "metadata": {},
   "outputs": [],
   "source": []
  },
  {
   "cell_type": "markdown",
   "metadata": {},
   "source": [
    "# Three electrons with no intermediate jump"
   ]
  },
  {
   "cell_type": "markdown",
   "metadata": {},
   "source": [
    "## Cubic Group Γ1 Γ2 Γ3"
   ]
  },
  {
   "cell_type": "code",
   "execution_count": null,
   "metadata": {},
   "outputs": [],
   "source": []
  },
  {
   "cell_type": "code",
   "execution_count": 100,
   "metadata": {},
   "outputs": [
    {
     "data": {
      "text/html": [
       "<pre>✔️ 16.9 ms (2021-12-13T14:44:27/2021-12-13T14:44:27)</pre>"
      ],
      "text/plain": [
       "<IPython.core.display.HTML object>"
      ]
     },
     "metadata": {},
     "output_type": "display_data"
    }
   ],
   "source": [
    "def det_simplify(ket_parts):\n",
    "    equivalent_parts = {}\n",
    "    standard_order = {} # this holds the standard order to which all the other list members will be referred to\n",
    "    for ket_part_key, ket_part_coeff in ket_parts.items():\n",
    "        set_ket = frozenset(ket_part_key)\n",
    "        if set_ket not in equivalent_parts:\n",
    "            equivalent_parts[set_ket] = []\n",
    "            standard_order[set_ket] = ket_part_key\n",
    "        equivalent_parts[set_ket].append((ket_part_key, ket_part_coeff))\n",
    "    # once I've grouped them together into pices of equivalent parts\n",
    "    # i then need to rearrange and properly sign the rearrangements\n",
    "    det_simple = []\n",
    "    for equivalent_key in equivalent_parts:\n",
    "        base_order = standard_order[equivalent_key]\n",
    "        total_coeff = 0\n",
    "        equiv_parts = equivalent_parts[equivalent_key]\n",
    "        for equiv_part in equiv_parts:\n",
    "            ordering = [base_order.index(part) for part in equiv_part[0]]\n",
    "            sign = εijk(*ordering)\n",
    "            total_coeff += sign*equiv_part[1]\n",
    "        final = (base_order, total_coeff)\n",
    "        if total_coeff != 0:\n",
    "            det_simple.append(final)\n",
    "    return det_simple\n",
    "\n",
    "def qet_divide(qet0, qet1):\n",
    "    '''\n",
    "    Given   two   qets,   assumed   to   be   superpositions  of\n",
    "    determinantal states. Determine if they are collinear and if\n",
    "    they are, provide their ratio.\n",
    "\n",
    "    Parameters\n",
    "    ----------\n",
    "    qet0    (qdef.Qet) : a qet with determinantal keys.\n",
    "    qet1    (qdef.Qet) : a qet with determinantal keys.\n",
    "\n",
    "    Returns\n",
    "    -------\n",
    "    ratio (num): 0 if qets are not collinear, otherwise equal to\n",
    "    qet0/qet1.\n",
    "\n",
    "\n",
    "    '''\n",
    "    if len(qet0.dict) != len(qet1.dict):\n",
    "        return 0\n",
    "    set0 = frozenset(map(frozenset,qet0.dict.keys()))\n",
    "    set1 = frozenset(map(frozenset,qet1.dict.keys()))\n",
    "    num_parts = len(qet0.dict)\n",
    "    # a necessary condition for them to be possibly collinear\n",
    "    # is that they should have have the same sets of quantum\n",
    "    # numbers.\n",
    "    if set0 != set1:\n",
    "        return 0\n",
    "    else:\n",
    "        ratios = []\n",
    "        # iterate over the quantum nums of the first qet\n",
    "        for qet_key_0, qet_val_0 in qet0.dict.items():\n",
    "            set0 = set(qet_key_0)\n",
    "            # and determine the ratio that it has\n",
    "            # to all of the parts of the other qet\n",
    "            # allowing for reaarangmenets valid\n",
    "            # under determinantal state rules\n",
    "            for qet_key_1, qet_val_1 in qet1.dict.items():\n",
    "                set1 = set(qet_key_1)\n",
    "                if set0 == set1:\n",
    "                    ordering = [qet_key_0.index(qk) for qk in qet_key_1]\n",
    "                    sign = εijk(*ordering)\n",
    "                    ratios.append(sign * qet_val_0/qet_val_1)\n",
    "                    continue\n",
    "    if ratios == []:\n",
    "        return 0\n",
    "    else:\n",
    "        # if all of the ratios are equal\n",
    "        # then the ratio of the two qets\n",
    "        # is well defined\n",
    "        if len(set(ratios)) == 1 and len(ratios) == num_parts:\n",
    "            return ratios[0]\n",
    "        else:\n",
    "            return 0\n",
    "\n",
    "# final_qets = []\n",
    "# corresponding_waves = []\n",
    "# for total_ket_key_0, simple_ket_0 in simplified_kets.items():\n",
    "#     ratios = []\n",
    "#     for simple_ket_1 in final_qets:\n",
    "#         divvy = qet_divide(simple_ket_0, simple_ket_1)\n",
    "#         ratios.append(divvy==0)\n",
    "#     ratios = sum(ratios)\n",
    "#     if ratios == len(final_qets):\n",
    "#         final_qets.append(simple_ket_0)\n",
    "#         corresponding_waves.append(total_ket_key_0)\n",
    "# final_qets = list(zip(corresponding_waves, final_qets))"
   ]
  },
  {
   "cell_type": "code",
   "execution_count": 121,
   "metadata": {},
   "outputs": [
    {
     "data": {
      "text/html": [
       "<pre>✔️ 12 ms (2021-12-13T15:19:57/2021-12-13T15:19:57)</pre>"
      ],
      "text/plain": [
       "<IPython.core.display.HTML object>"
      ]
     },
     "metadata": {},
     "output_type": "display_data"
    }
   ],
   "source": [
    "def three_electron_waves(group_label, Γ1, Γ2, Γ3, disambiguate = False):\n",
    "    '''\n",
    "    Given  a  label for a crystallographic point group and three\n",
    "    labels   for   corresponding   irreducible  representations.\n",
    "    Produce  all the three electron wavefunctions  assuming that\n",
    "    all the electrons are equivalent.\n",
    "\n",
    "    Parameters\n",
    "    ----------\n",
    "    group_label     (str):\n",
    "    Γ1        (sp.Symbol): label for an irrep of G\n",
    "    Γ2        (sp.Symbol): label for an irrep of G\n",
    "    Γ3        (sp.Symbol): label for an irrep of G\n",
    "    disambiguate   (bool): if verbose output is returned\n",
    "\n",
    "    Returns\n",
    "    -------\n",
    "    if disambiguate == False:\n",
    "        final_qets      (dict): \n",
    "            keys -> (Γ_total, γ_total, 2*S_total+1, M_total, S_12, Γ_12)\n",
    "            values -> qdef.Qet with determinantal states\n",
    "    if disambiguate == True then also final_qets_groups is returned\n",
    "        final_qets_groups (dict):\n",
    "            keys -> (Γ_total, γ_total, 2*S_total+1, M_total, S_12, Γ_12)\n",
    "            values -> dict() with keys 'paths' and 'qet'\n",
    "                with 'paths' a list with all alternate intermediate two-\n",
    "                electron states that lead to the same final qet.\n",
    "    \n",
    "    Where  S_12  is  the  spin  of the intermediate two-electron\n",
    "    wavefunction and Γ_12 its corresponding irrep.\n",
    "    '''\n",
    "    # get the group\n",
    "    group = CPGs.get_group_by_label(group_label)\n",
    "    # get the CGs\n",
    "    group_CGs = group.CG_coefficients\n",
    "    # enforce the better notation for components\n",
    "    flat_labels = dict(sum([list(l.items()) for l in list(new_labels[group_label].values())],[]))\n",
    "    group_CGs = {(flat_labels[k[0]], flat_labels[k[1]], flat_labels[k[2]]):v for k,v in group_CGs.items()}\n",
    "\n",
    "    irreps = group.irrep_labels\n",
    "    s_half = sp.S(1)/2\n",
    "    ms = mrange(s_half)\n",
    "\n",
    "    component_labels = {k:list(v.values()) for k,v in new_labels[group_label].items()}\n",
    "    comps_1, comps_2, comps_3 = [component_labels[ir] for ir in [Γ1, Γ2, Γ3]]\n",
    "    s1, s2, s3 = s_half, s_half, s_half\n",
    "\n",
    "    Γ12s = group.product_table.odict[(Γ1, Γ2)] # the intermediate irreps belong to the reduction of Γ1 X Γ2\n",
    "    S12s = lrange(s1,s2) # this is just [0,1] as for the total angular momentum of the intermediate states\n",
    "    total_kets = {}\n",
    "\n",
    "    counter = 0\n",
    "    for γ1, γ2, γ3, m1, m2, m3, Γ12, S12 in product(comps_1, comps_2, comps_3, ms, ms, ms, Γ12s, S12s):\n",
    "        Γs = group.product_table.odict[(Γ12, Γ3)]\n",
    "        Ss = lrange(S12, s3)\n",
    "        comps_12 = component_labels[Γ12]\n",
    "        M12s = mrange(S12)\n",
    "        for Γ in Γs:\n",
    "            comps = component_labels[Γ]\n",
    "            for S in Ss:\n",
    "                Ms = mrange(S)\n",
    "                for γ, M12, M, γ12 in product(comps, M12s, Ms, comps_12):\n",
    "                    total_ket_key = (Γ, γ, 2*S+1, M, S12, Γ12)\n",
    "                    # summing s1 and s2 to yield S12\n",
    "                    sCG1 = clebschG.eva(s1, s2, S12, m1, m2, M12)\n",
    "                    # summing S12 and s3 to give the final S, M\n",
    "                    sCG2 = clebschG.eva(S12, s3, S, M12, m3, M)\n",
    "                    # coupling a γ1, γ2 to get a γ12\n",
    "                    gCG1 = group_CGs.setdefault((γ1, γ2, γ12), 0)\n",
    "                    # coupling a γ12, γ3 to get a final γ\n",
    "                    gCG2 = group_CGs.setdefault((γ12, γ3, γ), 0)\n",
    "                    coeff = sCG1 * sCG2 * gCG1 * gCG2\n",
    "                    if coeff == 0:\n",
    "                        continue\n",
    "                    # collect in the dictionary all the parts that correspond to the sums\n",
    "                    if total_ket_key not in total_kets:\n",
    "                        total_kets[total_ket_key] = {}\n",
    "                    if m1 < 0:\n",
    "                        γ1f = bar_symbol(γ1)\n",
    "                    else:\n",
    "                        γ1f = γ1\n",
    "                    if m2 < 0:\n",
    "                        γ2f = bar_symbol(γ2)\n",
    "                    else:\n",
    "                        γ2f = γ2\n",
    "                    if m3 < 0:\n",
    "                        γ3f = bar_symbol(γ3)\n",
    "                    else:\n",
    "                        γ3f= γ3\n",
    "                    total_ket_part_key = (γ1f, γ2f, γ3f)\n",
    "                    if total_ket_part_key not in total_kets[total_ket_key]:\n",
    "                        total_kets[total_ket_key][total_ket_part_key] = 0\n",
    "                    total_kets[total_ket_key][total_ket_part_key] += coeff\n",
    "                    counter += 1\n",
    "\n",
    "    # The resulting qets may have redundant parts in that \n",
    "    # a rearrangment of the quantum symbols may be equal\n",
    "    # to another part.\n",
    "    # This makes it necessary to do some rearrangment\n",
    "    # juggling, and permutations signing.\n",
    "\n",
    "    simplified_kets = {}\n",
    "    for total_ket_key, ket_parts in total_kets.items():\n",
    "        det_simplified = det_simplify(ket_parts)\n",
    "        if len(det_simplified) != 0:\n",
    "            simplified_kets[total_ket_key] = Qet(dict(det_simplified))\n",
    "            the_normalizer = 1/simplified_kets[total_ket_key].norm()\n",
    "            simplified_kets[total_ket_key] = the_normalizer*simplified_kets[total_ket_key]\n",
    "\n",
    "    final_qets = []\n",
    "    corresponding_waves = []\n",
    "    for total_ket_key_0, simple_ket_0 in simplified_kets.items():\n",
    "        ratios = []\n",
    "        for simple_ket_1 in final_qets:\n",
    "            divvy = qet_divide(simple_ket_0, simple_ket_1)\n",
    "            ratios.append(divvy==0)\n",
    "        ratios = sum(ratios)\n",
    "        if ratios == len(final_qets):\n",
    "            final_qets.append(simple_ket_0)\n",
    "            corresponding_waves.append(total_ket_key_0)\n",
    "    final_qets = list(zip(corresponding_waves, final_qets))\n",
    "\n",
    "    # in addition to removing the redundant ones\n",
    "    # I would also like to keep al the total_ket_keys that correspond to each\n",
    "    # group of redundant qets\n",
    "    if disambiguate:\n",
    "        final_qets_groups = {}\n",
    "        for main_key, sqet in final_qets:\n",
    "            final_qets_groups[main_key] = {'paths':[],'qet':sqet}\n",
    "            for total_ket_key_0, simple_ket_0 in simplified_kets.items():\n",
    "                if qet_divide(sqet, simple_ket_0) != 0:\n",
    "                    final_qets_groups[main_key]['paths'].append(total_ket_key_0)\n",
    "        return final_qets, final_qets_groups\n",
    "    else:\n",
    "        return final_qets\n",
    "    "
   ]
  },
  {
   "cell_type": "code",
   "execution_count": 130,
   "metadata": {},
   "outputs": [
    {
     "data": {
      "text/html": [
       "<pre>✔️ 653 µs (2021-12-13T15:25:17/2021-12-13T15:25:17)</pre>"
      ],
      "text/plain": [
       "<IPython.core.display.HTML object>"
      ]
     },
     "metadata": {},
     "output_type": "display_data"
    }
   ],
   "source": [
    "three_irreps_combos = list(combinations_with_replacement(irreps,3))"
   ]
  },
  {
   "cell_type": "code",
   "execution_count": 140,
   "metadata": {},
   "outputs": [
    {
     "data": {
      "text/html": [
       "<pre>✔️ 32.4 s (2021-12-13T15:29:33/2021-12-13T15:30:05)</pre>"
      ],
      "text/plain": [
       "<IPython.core.display.HTML object>"
      ]
     },
     "metadata": {},
     "output_type": "display_data"
    },
    {
     "name": "stdout",
     "output_type": "stream",
     "text": [
      "35\n",
      "0|1|2|3|4|5|6|7|8|9|10|11|12|13|14|15|16|17|18|19|20|21|22|23|24|25|26|27|28|29|30|31|32|33|34|"
     ]
    }
   ],
   "source": [
    "group_label = 'O'\n",
    "all_three_electron_funs = {}\n",
    "print(len(three_irreps_combos))\n",
    "for idx, irrep_combo in enumerate(three_irreps_combos):\n",
    "    print(idx,end='|')\n",
    "    all_three_electron_funs[irrep_combo] = three_electron_waves(group_label,*irrep_combo)"
   ]
  },
  {
   "cell_type": "code",
   "execution_count": 145,
   "metadata": {},
   "outputs": [
    {
     "data": {
      "text/html": [
       "<pre>✔️ 23.6 ms (2021-12-13T15:32:06/2021-12-13T15:32:06)</pre>"
      ],
      "text/plain": [
       "<IPython.core.display.HTML object>"
      ]
     },
     "metadata": {},
     "output_type": "display_data"
    },
    {
     "name": "stdout",
     "output_type": "stream",
     "text": [
      "(A_1, A_1, A_1) 0\n",
      "(A_1, A_1, A_2) 2\n",
      "(A_1, A_1, E) 4\n",
      "(A_1, A_1, T_1) 6\n",
      "(A_1, A_1, T_2) 6\n",
      "(A_1, A_2, A_2) 2\n",
      "(A_1, A_2, E) 16\n",
      "(A_1, A_2, T_1) 24\n",
      "(A_1, A_2, T_2) 24\n",
      "(A_1, E, E) 12\n",
      "(A_1, E, T_1) 48\n",
      "(A_1, E, T_2) 48\n",
      "(A_1, T_1, T_1) 30\n",
      "(A_1, T_1, T_2) 72\n",
      "(A_1, T_2, T_2) 30\n",
      "(A_2, A_2, A_2) 0\n",
      "(A_2, A_2, E) 4\n",
      "(A_2, A_2, T_1) 6\n",
      "(A_2, A_2, T_2) 6\n",
      "(A_2, E, E) 12\n",
      "(A_2, E, T_1) 48\n",
      "(A_2, E, T_2) 48\n",
      "(A_2, T_1, T_1) 30\n",
      "(A_2, T_1, T_2) 72\n",
      "(A_2, T_2, T_2) 30\n",
      "(E, E, E) 4\n",
      "(E, E, T_1) 36\n",
      "(E, E, T_2) 36\n",
      "(E, T_1, T_1) 72\n",
      "(E, T_1, T_2) 144\n",
      "(E, T_2, T_2) 72\n",
      "(T_1, T_1, T_1) 20\n",
      "(T_1, T_1, T_2) 90\n",
      "(T_1, T_2, T_2) 136\n",
      "(T_2, T_2, T_2) 20\n",
      "Total of 1210 three electron wavefunctions.\n"
     ]
    }
   ],
   "source": [
    "tally = 0\n",
    "for irrep_combo in all_three_electron_funs:\n",
    "    print(irrep_combo, len(all_three_electron_funs[irrep_combo]))\n",
    "    tally += len(all_three_electron_funs[irrep_combo])\n",
    "print(\"Total of %s three electron wavefunctions.\" % tally)"
   ]
  },
  {
   "cell_type": "code",
   "execution_count": 109,
   "metadata": {},
   "outputs": [
    {
     "data": {
      "text/html": [
       "<pre>✔️ 479 µs (2021-12-13T15:07:08/2021-12-13T15:07:08)</pre>"
      ],
      "text/plain": [
       "<IPython.core.display.HTML object>"
      ]
     },
     "metadata": {},
     "output_type": "display_data"
    }
   ],
   "source": [
    "# for k,v in final_qets_groups.items():\n",
    "#     print(k,'||', len(v['paths']), '||', (v['paths']))\n",
    "#     display(as_det_ket(v['qet']))"
   ]
  },
  {
   "cell_type": "code",
   "execution_count": 124,
   "metadata": {},
   "outputs": [
    {
     "data": {
      "text/html": [
       "<pre>✔️ 4.86 s (2021-12-13T15:20:23/2021-12-13T15:20:28)</pre>"
      ],
      "text/plain": [
       "<IPython.core.display.HTML object>"
      ]
     },
     "metadata": {},
     "output_type": "display_data"
    },
    {
     "data": {
      "text/plain": [
       "20"
      ]
     },
     "execution_count": 124,
     "metadata": {},
     "output_type": "execute_result"
    }
   ],
   "source": [
    "final_qets = three_electron_waves('O',sp.Symbol('T_2'), sp.Symbol('T_2'), sp.Symbol('T_2'), disambiguate=True)"
   ]
  },
  {
   "cell_type": "code",
   "execution_count": 126,
   "metadata": {},
   "outputs": [
    {
     "data": {
      "text/html": [
       "<pre>✔️ 5.56 ms (2021-12-13T15:20:31/2021-12-13T15:20:31)</pre>"
      ],
      "text/plain": [
       "<IPython.core.display.HTML object>"
      ]
     },
     "metadata": {},
     "output_type": "display_data"
    },
    {
     "data": {
      "text/plain": [
       "20"
      ]
     },
     "execution_count": 126,
     "metadata": {},
     "output_type": "execute_result"
    }
   ],
   "source": [
    "len(final_qets[1])"
   ]
  },
  {
   "cell_type": "markdown",
   "metadata": {},
   "source": [
    "## Cubic Group T2 T2 E"
   ]
  },
  {
   "cell_type": "code",
   "execution_count": 31,
   "metadata": {},
   "outputs": [
    {
     "data": {
      "text/html": [
       "<pre>✔️ 32 ms (2021-12-13T13:58:02/2021-12-13T13:58:02)</pre>"
      ],
      "text/plain": [
       "<IPython.core.display.HTML object>"
      ]
     },
     "metadata": {},
     "output_type": "display_data"
    }
   ],
   "source": [
    "def det_simplify(ket_parts):\n",
    "    equivalent_parts = {}\n",
    "    standard_order = {} # this holds the standard order to which all the other list members will be referred to\n",
    "    for ket_part_key, ket_part_coeff in ket_parts.items():\n",
    "        set_ket = frozenset(ket_part_key)\n",
    "        if set_ket not in equivalent_parts:\n",
    "            equivalent_parts[set_ket] = []\n",
    "            standard_order[set_ket] = ket_part_key\n",
    "        equivalent_parts[set_ket].append((ket_part_key, ket_part_coeff))\n",
    "    # once I've grouped them together into pices of equivalent parts\n",
    "    # i then need to rearrange and properly sign the rearrangements\n",
    "    det_simple = []\n",
    "    for equivalent_key in equivalent_parts:\n",
    "        base_order = standard_order[equivalent_key]\n",
    "        total_coeff = 0\n",
    "        equiv_parts = equivalent_parts[equivalent_key]\n",
    "        for equiv_part in equiv_parts:\n",
    "            ordering = [base_order.index(part) for part in equiv_part[0]]\n",
    "            sign = εijk(*ordering)\n",
    "            total_coeff += sign*equiv_part[1]\n",
    "        final = (base_order, total_coeff)\n",
    "        if total_coeff != 0:\n",
    "            det_simple.append(final)\n",
    "    return det_simple\n",
    "\n",
    "def qet_divide(qet0, qet1):\n",
    "    '''\n",
    "    Given   two   qets,   assumed   to   be   superpositions  of\n",
    "    determinantal states. Determine if they are collinear and if\n",
    "    they are, provide their ratio.\n",
    "\n",
    "    Parameters\n",
    "    ----------\n",
    "    qet0    (qdef.Qet) : a qet with determinantal keys.\n",
    "    qet1    (qdef.Qet) : a qet with determinantal keys.\n",
    "\n",
    "    Returns\n",
    "    -------\n",
    "    ratio (num): 0 if qets are not collinear, otherwise equal to\n",
    "    qet0/qet1.\n",
    "\n",
    "\n",
    "    '''\n",
    "    if len(qet0.dict) != len(qet1.dict):\n",
    "        return 0\n",
    "    set0 = frozenset(map(frozenset,qet0.dict.keys()))\n",
    "    set1 = frozenset(map(frozenset,qet1.dict.keys()))\n",
    "    num_parts = len(qet0.dict)\n",
    "    # a necessary condition for them to be possibly collinear\n",
    "    # is that they should have have the same sets of quantum\n",
    "    # numbers.\n",
    "    if set0 != set1:\n",
    "        return 0\n",
    "    else:\n",
    "        ratios = []\n",
    "        # iterate over the quantum nums of the first qet\n",
    "        for qet_key_0, qet_val_0 in qet0.dict.items():\n",
    "            set0 = set(qet_key_0)\n",
    "            # and determine the ratio that it has\n",
    "            # to all of the parts of the other qet\n",
    "            # allowing for reaarangmenets valid\n",
    "            # under determinantal state rules\n",
    "            for qet_key_1, qet_val_1 in qet1.dict.items():\n",
    "                set1 = set(qet_key_1)\n",
    "                if set0 == set1:\n",
    "                    ordering = [qet_key_0.index(qk) for qk in qet_key_1]\n",
    "                    sign = εijk(*ordering)\n",
    "                    ratios.append(sign * qet_val_0/qet_val_1)\n",
    "                    continue\n",
    "    if ratios == []:\n",
    "        return 0\n",
    "    else:\n",
    "        # if all of the ratios are equal\n",
    "        # then the ratio of the two qets\n",
    "        # is well defined\n",
    "        if len(set(ratios)) == 1 and len(ratios) == num_parts:\n",
    "            return ratios[0]\n",
    "        else:\n",
    "            return 0\n",
    "\n",
    "final_qets = []\n",
    "corresponding_waves = []\n",
    "for total_ket_key_0, simple_ket_0 in simplified_kets.items():\n",
    "    ratios = []\n",
    "    for simple_ket_1 in final_qets:\n",
    "        divvy = qet_divide(simple_ket_0, simple_ket_1)\n",
    "        ratios.append(divvy==0)\n",
    "    ratios = sum(ratios)\n",
    "    if ratios == len(final_qets):\n",
    "        final_qets.append(simple_ket_0)\n",
    "        corresponding_waves.append(total_ket_key_0)\n",
    "final_qets = list(zip(corresponding_waves, final_qets))"
   ]
  },
  {
   "cell_type": "code",
   "execution_count": 80,
   "metadata": {},
   "outputs": [
    {
     "data": {
      "text/html": [
       "<pre>✔️ 6.4 ms (2021-12-13T14:25:26/2021-12-13T14:25:26)</pre>"
      ],
      "text/plain": [
       "<IPython.core.display.HTML object>"
      ]
     },
     "metadata": {},
     "output_type": "display_data"
    },
    {
     "name": "stdout",
     "output_type": "stream",
     "text": [
      "A_1 [E]\n",
      "A_2 [E]\n",
      "E [A_1, A_2, E]\n",
      "T_1 [T_1, T_2]\n",
      "T_2 [T_1, T_2]\n"
     ]
    }
   ],
   "source": [
    "for irrep in irreps:\n",
    "    print(irrep,group.product_table.odict[(irrep, sp.Symbol('E'))])"
   ]
  },
  {
   "cell_type": "code",
   "execution_count": null,
   "metadata": {},
   "outputs": [],
   "source": [
    "# group_label = 'O'\n",
    "# # get the group\n",
    "# group = CPGs.get_group_by_label(group_label)\n",
    "# # get the CGs\n",
    "# group_CGs = group.CG_coefficients\n",
    "# # enforce the better notation for components\n",
    "# flat_labels = dict(sum([list(l.items()) for l in list(new_labels[group_label].values())],[]))\n",
    "# group_CGs = {(flat_labels[k[0]], flat_labels[k[1]], flat_labels[k[2]]):v for k,v in group_CGs.items()}\n",
    "\n",
    "# coupler = {}\n",
    "# irreps = group.irrep_labels\n",
    "# ms = [-sp.S(1)/2,sp.S(1)/2] # for a spin 1/2\n",
    "# s_half = sp.S(1)/2\n",
    "\n",
    "# component_labels = {k:list(v.values()) for k,v in new_labels[group_label].items()}\n",
    "# Γ1, Γ2, Γ3 = sp.Symbol('T_2'), sp.Symbol('T_2'), sp.Symbol('E')\n",
    "# comps_1, comps_2, comps_3 = [component_labels[ir] for ir in [Γ1, Γ2, Γ3]]\n",
    "# s1, s2, s3 = s_half, s_half, s_half\n",
    "\n",
    "# Γ12s = group.product_table.odict[(Γ1, Γ2)] # the intermediate irreps belong to the reduction of Γ1 X Γ2\n",
    "# S12s = lrange(s1,s2) # this is just [0,1] as for the total angular momentum of the intermediate states\n",
    "# total_kets = {}\n",
    "\n",
    "# counter = 0\n",
    "# for Γ, γ1, γ2, γ3, m1, m2, m3, Γ12, S12 in product(irreps, comps_1, comps_2, comps_3, ms, ms, ms, Γ12s, S12s):\n",
    "#     # comps = component_labels[Γ]\n",
    "#     comps = component_labels[group.product_table.odict[(Γ12, Γ3)]]\n",
    "#     Ss = lrange(S12, s3)\n",
    "#     comps_12 = component_labels[Γ12]\n",
    "#     M12s = mrange(S12)\n",
    "#     for S in Ss:\n",
    "#         Ms = mrange(S)\n",
    "#         for γ, M12, M, γ12 in product(comps, M12s, Ms, comps_12):\n",
    "#             total_ket_key = (Γ, γ, 2*S+1, M, S12, Γ12)\n",
    "#             # summing s1 and s2 to yield S12\n",
    "#             sCG1 = clebschG.eva(s1, s2, S12, m1, m2, M12)\n",
    "#             # summing S12 and s3 to give the final S, M\n",
    "#             sCG2 = clebschG.eva(S12, s3, S, M12, m3, M)\n",
    "#             # coupling a γ1, γ2 to get a γ12\n",
    "#             gCG1 = group_CGs.setdefault((γ1, γ2, γ12), 0)\n",
    "#             # coupling a γ12, γ3 to get a final γ\n",
    "#             gCG2 = group_CGs.setdefault((γ12, γ3, γ), 0)\n",
    "#             coeff = sCG1 * sCG2 * gCG1 * gCG2\n",
    "#             if coeff == 0:\n",
    "#                 continue\n",
    "#             # collect in the dictionary all the parts that correspond to the sums\n",
    "#             if total_ket_key not in total_kets:\n",
    "#                 total_kets[total_ket_key] = {}\n",
    "#             if m1 < 0:\n",
    "#                 γ1f = bar_symbol(γ1)\n",
    "#             else:\n",
    "#                 γ1f = γ1\n",
    "#             if m2 < 0:\n",
    "#                 γ2f = bar_symbol(γ2)\n",
    "#             else:\n",
    "#                 γ2f = γ2\n",
    "#             if m3 < 0:\n",
    "#                 γ3f = bar_symbol(γ3)\n",
    "#             else:\n",
    "#                 γ3f= γ3\n",
    "#             total_ket_part_key = (γ1f, γ2f, γ3f)\n",
    "#             if total_ket_part_key not in total_kets[total_ket_key]:\n",
    "#                 total_kets[total_ket_key][total_ket_part_key] = 0\n",
    "#             total_kets[total_ket_key][total_ket_part_key] += coeff\n",
    "#             counter += 1\n",
    "\n",
    "# # The resulting qets may have redundant parts in that \n",
    "# # a rearrangment of the quantum symbols may be equal\n",
    "# # to another part.\n",
    "# # This makes it necessary to do some rearrangment\n",
    "# # juggling\n",
    "\n",
    "# simplified_kets = {}\n",
    "# for total_ket_key, ket_parts in total_kets.items():\n",
    "#     det_simplified = det_simplify(ket_parts)\n",
    "#     if len(det_simplified) != 0:\n",
    "#         simplified_kets[total_ket_key] = Qet(dict(det_simplified))\n",
    "#         the_normalizer = 1/simplified_kets[total_ket_key].norm()\n",
    "#         simplified_kets[total_ket_key] = the_normalizer*simplified_kets[total_ket_key]\n",
    "\n",
    "# final_qets = []\n",
    "# corresponding_waves = []\n",
    "# for total_ket_key_0, simple_ket_0 in simplified_kets.items():\n",
    "#     ratios = []\n",
    "#     for simple_ket_1 in final_qets:\n",
    "#         divvy = qet_divide(simple_ket_0, simple_ket_1)\n",
    "#         ratios.append(divvy==0)\n",
    "#     ratios = sum(ratios)\n",
    "#     if ratios == len(final_qets):\n",
    "#         final_qets.append(simple_ket_0)\n",
    "#         corresponding_waves.append(total_ket_key_0)\n",
    "# final_qets = list(zip(corresponding_waves, final_qets))\n",
    "\n",
    "# # in addition to removing the redundant ones\n",
    "# # I would also like to keep al the total_ket_keys that correspond to each\n",
    "# # group of redundant qets\n",
    "# final_qets_groups = {}\n",
    "# for main_key, sqet in final_qets:\n",
    "#     final_qets_groups[main_key] = {'paths':[],'qet':sqet}\n",
    "#     for total_ket_key_0, simple_ket_0 in simplified_kets.items():\n",
    "#         if qet_divide(sqet, simple_ket_0) != 0:\n",
    "#             final_qets_groups[main_key]['paths'].append(total_ket_key_0)\n",
    "# for k,v in final_qets_groups.items():\n",
    "#     print(k,'||', len(v['paths']), '||', (v['paths']))\n",
    "#     display(as_det_ket(v['qet']))"
   ]
  },
  {
   "cell_type": "code",
   "execution_count": null,
   "metadata": {},
   "outputs": [],
   "source": [
    "group_label = 'O'\n",
    "# get the group\n",
    "group = CPGs.get_group_by_label(group_label)\n",
    "# get the CGs\n",
    "group_CGs = group.CG_coefficients\n",
    "# enforce the better notation for components\n",
    "flat_labels = dict(sum([list(l.items()) for l in list(new_labels[group_label].values())],[]))\n",
    "group_CGs = {(flat_labels[k[0]], flat_labels[k[1]], flat_labels[k[2]]):v for k,v in group_CGs.items()}\n",
    "\n",
    "coupler = {}\n",
    "irreps = group.irrep_labels\n",
    "ms = [-sp.S(1)/2,sp.S(1)/2] # for a spin 1/2\n",
    "s_half = sp.S(1)/2\n",
    "\n",
    "component_labels = {k:list(v.values()) for k,v in new_labels[group_label].items()}\n",
    "Γ1, Γ2, Γ3 = sp.Symbol('T_2'), sp.Symbol('T_2'), sp.Symbol('E')\n",
    "comps_1, comps_2, comps_3 = [component_labels[ir] for ir in [Γ1, Γ2, Γ3]]\n",
    "s1, s2, s3 = s_half, s_half, s_half\n",
    "\n",
    "Γ12s = group.product_table.odict[(Γ1, Γ2)] # the intermediate irreps belong to the reduction of Γ1 X Γ2\n",
    "S12s = lrange(s1,s2) # this is just [0,1] as for the total angular momentum of the intermediate states\n",
    "total_kets = {}\n",
    "\n",
    "counter = 0\n",
    "for γ1, γ2, γ3, m1, m2, m3, Γ12, S12 in product(comps_1, comps_2, comps_3, ms, ms, ms, Γ12s, S12s):\n",
    "    Γs = group.product_table.odict[(Γ12, Γ3)]\n",
    "    for Γ in Γs:\n",
    "        comps = component_labels[Γ]\n",
    "        Ss = lrange(S12, s3)\n",
    "        comps_12 = component_labels[Γ12]\n",
    "        M12s = mrange(S12)\n",
    "        for S in Ss:\n",
    "            Ms = mrange(S)\n",
    "            for γ, M12, M, γ12 in product(comps, M12s, Ms, comps_12):\n",
    "                total_ket_key = (Γ, γ, 2*S+1, M, S12, Γ12)\n",
    "                # summing s1 and s2 to yield S12\n",
    "                sCG1 = clebschG.eva(s1, s2, S12, m1, m2, M12)\n",
    "                # summing S12 and s3 to give the final S, M\n",
    "                sCG2 = clebschG.eva(S12, s3, S, M12, m3, M)\n",
    "                # coupling a γ1, γ2 to get a γ12\n",
    "                gCG1 = group_CGs.setdefault((γ1, γ2, γ12), 0)\n",
    "                # coupling a γ12, γ3 to get a final γ\n",
    "                gCG2 = group_CGs.setdefault((γ12, γ3, γ), 0)\n",
    "                coeff = sCG1 * sCG2 * gCG1 * gCG2\n",
    "                if coeff == 0:\n",
    "                    continue\n",
    "                # collect in the dictionary all the parts that correspond to the sums\n",
    "                if total_ket_key not in total_kets:\n",
    "                    total_kets[total_ket_key] = {}\n",
    "                if m1 < 0:\n",
    "                    γ1f = bar_symbol(γ1)\n",
    "                else:\n",
    "                    γ1f = γ1\n",
    "                if m2 < 0:\n",
    "                    γ2f = bar_symbol(γ2)\n",
    "                else:\n",
    "                    γ2f = γ2\n",
    "                if m3 < 0:\n",
    "                    γ3f = bar_symbol(γ3)\n",
    "                else:\n",
    "                    γ3f= γ3\n",
    "                total_ket_part_key = (γ1f, γ2f, γ3f)\n",
    "                if total_ket_part_key not in total_kets[total_ket_key]:\n",
    "                    total_kets[total_ket_key][total_ket_part_key] = 0\n",
    "                total_kets[total_ket_key][total_ket_part_key] += coeff\n",
    "                counter += 1\n",
    "\n",
    "# The resulting qets may have redundant parts in that \n",
    "# a rearrangment of the quantum symbols may be equal\n",
    "# to another part.\n",
    "# This makes it necessary to do some rearrangment\n",
    "# juggling\n",
    "\n",
    "simplified_kets = {}\n",
    "for total_ket_key, ket_parts in total_kets.items():\n",
    "    det_simplified = det_simplify(ket_parts)\n",
    "    if len(det_simplified) != 0:\n",
    "        simplified_kets[total_ket_key] = Qet(dict(det_simplified))\n",
    "        the_normalizer = 1/simplified_kets[total_ket_key].norm()\n",
    "        simplified_kets[total_ket_key] = the_normalizer*simplified_kets[total_ket_key]\n",
    "\n",
    "final_qets = []\n",
    "corresponding_waves = []\n",
    "for total_ket_key_0, simple_ket_0 in simplified_kets.items():\n",
    "    ratios = []\n",
    "    for simple_ket_1 in final_qets:\n",
    "        divvy = qet_divide(simple_ket_0, simple_ket_1)\n",
    "        ratios.append(divvy==0)\n",
    "    ratios = sum(ratios)\n",
    "    if ratios == len(final_qets):\n",
    "        final_qets.append(simple_ket_0)\n",
    "        corresponding_waves.append(total_ket_key_0)\n",
    "final_qets = list(zip(corresponding_waves, final_qets))\n",
    "\n",
    "# in addition to removing the redundant ones\n",
    "# I would also like to keep al the total_ket_keys that correspond to each\n",
    "# group of redundant qets\n",
    "final_qets_groups = {}\n",
    "for main_key, sqet in final_qets:\n",
    "    final_qets_groups[main_key] = {'paths':[],'qet':sqet}\n",
    "    for total_ket_key_0, simple_ket_0 in simplified_kets.items():\n",
    "        if qet_divide(sqet, simple_ket_0) != 0:\n",
    "            final_qets_groups[main_key]['paths'].append(total_ket_key_0)\n",
    "for k,v in final_qets_groups.items():\n",
    "    print(k,'||', len(v['paths']), '||', (v['paths']))\n",
    "    display(as_det_ket(v['qet']))"
   ]
  },
  {
   "cell_type": "code",
   "execution_count": 99,
   "metadata": {},
   "outputs": [
    {
     "data": {
      "text/html": [
       "<pre>✔️ 3.46 ms (2021-12-13T14:43:05/2021-12-13T14:43:05)</pre>"
      ],
      "text/plain": [
       "<IPython.core.display.HTML object>"
      ]
     },
     "metadata": {},
     "output_type": "display_data"
    },
    {
     "data": {
      "text/plain": [
       "60"
      ]
     },
     "execution_count": 99,
     "metadata": {},
     "output_type": "execute_result"
    }
   ],
   "source": [
    "len(final_qets)"
   ]
  },
  {
   "cell_type": "code",
   "execution_count": 91,
   "metadata": {},
   "outputs": [
    {
     "data": {
      "text/html": [
       "<pre>✔️ 1.43 ms (2021-12-13T14:34:12/2021-12-13T14:34:12)</pre>"
      ],
      "text/plain": [
       "<IPython.core.display.HTML object>"
      ]
     },
     "metadata": {},
     "output_type": "display_data"
    }
   ],
   "source": [
    "terms = {}\n",
    "termed_qets = {}\n",
    "for qnums, qet in final_qets:\n",
    "    term = (qnums[0], qnums[2])\n",
    "    if term not in terms:\n",
    "        terms[term] = 0\n",
    "    terms[term] += 1\n",
    "    if term not in termed_qets:\n",
    "        termed_qets[term] = []\n",
    "    termed_qets[term].append([qnums,qet])"
   ]
  },
  {
   "cell_type": "code",
   "execution_count": 97,
   "metadata": {},
   "outputs": [
    {
     "data": {
      "text/html": [
       "<pre>✔️ 8.83 ms (2021-12-13T14:42:50/2021-12-13T14:42:50)</pre>"
      ],
      "text/plain": [
       "<IPython.core.display.HTML object>"
      ]
     },
     "metadata": {},
     "output_type": "display_data"
    }
   ],
   "source": [
    "# for qet in termed_qets[(sp.Symbol('E'),2)]:\n",
    "#     inter_term = '{}^{%d}%s' % (qet[0][-2]*2+1, sp.latex(qet[0][-1]))\n",
    "#     out = '%s \\\\rightarrow %s' % (inter_term, sp.latex(as_det_ket(qet[1])))\n",
    "#     display(Math(out))\n",
    "#     # display()"
   ]
  },
  {
   "cell_type": "code",
   "execution_count": 41,
   "metadata": {},
   "outputs": [
    {
     "data": {
      "text/html": [
       "<pre>✔️ 4.58 ms (2021-12-13T14:05:39/2021-12-13T14:05:39)</pre>"
      ],
      "text/plain": [
       "<IPython.core.display.HTML object>"
      ]
     },
     "metadata": {},
     "output_type": "display_data"
    }
   ],
   "source": [
    "# ratios = sp.Matrix([[qet_divide(q1, s0) for s0 in simplified_kets.values()] for q1 in simplified_kets.values()])\n",
    "# plt.style.use('dark_background')\n",
    "# plt.figure()\n",
    "# plt.imshow(np.array(ratios).astype(np.float64), cmap=cmr.get_sub_cmap('cmr.iceburn',0.,1,N=11))\n",
    "# plt.colorbar()\n",
    "# plt.show()"
   ]
  },
  {
   "cell_type": "markdown",
   "metadata": {},
   "source": [
    "## Cubic Group T2 T2 T2"
   ]
  },
  {
   "cell_type": "code",
   "execution_count": 16,
   "metadata": {},
   "outputs": [
    {
     "data": {
      "text/html": [
       "<pre>✔️ 27 ms (2021-12-13T13:51:05/2021-12-13T13:51:05)</pre>"
      ],
      "text/plain": [
       "<IPython.core.display.HTML object>"
      ]
     },
     "metadata": {},
     "output_type": "display_data"
    }
   ],
   "source": [
    "# final output should be a list whose elements are 2-tuples\n",
    "# with the first element equal to a tuple with the symbols\n",
    "# corresponding to term, M, irrep component and with the \n",
    "# second equal to a Qet whose quantum symbols correspond to\n",
    "# determinantal states"
   ]
  },
  {
   "cell_type": "code",
   "execution_count": 3,
   "metadata": {},
   "outputs": [
    {
     "data": {
      "text/html": [
       "<pre>✔️ 6.58 s (2021-12-13T12:33:47/2021-12-13T12:33:54)</pre>"
      ],
      "text/plain": [
       "<IPython.core.display.HTML object>"
      ]
     },
     "metadata": {},
     "output_type": "display_data"
    }
   ],
   "source": [
    "group_label = 'O'\n",
    "# get the group\n",
    "group = CPGs.get_group_by_label(group_label)\n",
    "# get the CGs\n",
    "group_CGs = group.CG_coefficients\n",
    "# enforce the better notation for components\n",
    "flat_labels = dict(sum([list(l.items()) for l in list(new_labels[group_label].values())],[]))\n",
    "group_CGs = {(flat_labels[k[0]], flat_labels[k[1]], flat_labels[k[2]]):v for k,v in group_CGs.items()}\n",
    "\n",
    "coupler = {}\n",
    "irreps = group.irrep_labels\n",
    "ms = [-sp.S(1)/2,sp.S(1)/2] # for a spin 1/2\n",
    "s_half = sp.S(1)/2\n",
    "\n",
    "component_labels = {k:list(v.values()) for k,v in new_labels[group_label].items()}\n",
    "Γ1, Γ2, Γ3 = sp.Symbol('T_2'), sp.Symbol('T_2'), sp.Symbol('T_2')\n",
    "comps_1, comps_2, comps_3 = [component_labels[ir] for ir in [Γ1, Γ2, Γ3]]\n",
    "s1, s2, s3 = s_half, s_half, s_half\n",
    "\n",
    "Γ12s = group.product_table.odict[(Γ1, Γ2)] # the intermediate irreps belong to the reduction of Γ1 X Γ2\n",
    "S12s = lrange(s1,s2) # this is just [0,1] as for the total angular momentum of the intermediate states\n",
    "total_kets = {}\n",
    "\n",
    "counter = 0\n",
    "for Γ, γ1, γ2, γ3, m1, m2, m3, Γ12, S12 in product(irreps, comps_1, comps_2, comps_3, ms, ms, ms, Γ12s, S12s):\n",
    "    comps = component_labels[Γ]\n",
    "    Ss = lrange(S12, s3)\n",
    "    comps_12 = component_labels[Γ12]\n",
    "    M12s = mrange(S12)\n",
    "    for S in Ss:\n",
    "        Ms = mrange(S)\n",
    "        for γ, M12, M, γ12 in product(comps, M12s, Ms, comps_12):\n",
    "            total_ket_key = (Γ, γ, 2*S+1, M, S12, Γ12)\n",
    "            # summing s1 and s2 to yield S12\n",
    "            sCG1 = clebschG.eva(s1, s2, S12, m1, m2, M12)\n",
    "            # summing S12 and s3 to give the final S, M\n",
    "            sCG2 = clebschG.eva(S12, s3, S, M12, m3, M)\n",
    "            # coupling a γ1, γ2 to get a γ12\n",
    "            gCG1 = group_CGs.setdefault((γ1, γ2, γ12), 0)\n",
    "            # coupling a γ12, γ3 to get a final γ\n",
    "            gCG2 = group_CGs.setdefault((γ12, γ3, γ), 0)\n",
    "            coeff = sCG1 * sCG2 * gCG1 * gCG2\n",
    "            if coeff == 0:\n",
    "                continue\n",
    "            # collect in the dictionary all the parts that correspond to the sums\n",
    "            if total_ket_key not in total_kets:\n",
    "                total_kets[total_ket_key] = {}\n",
    "            if m1 < 0:\n",
    "                γ1f = bar_symbol(γ1)\n",
    "            else:\n",
    "                γ1f = γ1\n",
    "            if m2 < 0:\n",
    "                γ2f = bar_symbol(γ2)\n",
    "            else:\n",
    "                γ2f = γ2\n",
    "            if m3 < 0:\n",
    "                γ3f = bar_symbol(γ3)\n",
    "            else:\n",
    "                γ3f= γ3\n",
    "            total_ket_part_key = (γ1f, γ2f, γ3f)\n",
    "            if total_ket_part_key not in total_kets[total_ket_key]:\n",
    "                total_kets[total_ket_key][total_ket_part_key] = 0\n",
    "            total_kets[total_ket_key][total_ket_part_key] += coeff\n",
    "            counter += 1"
   ]
  },
  {
   "cell_type": "code",
   "execution_count": 6,
   "metadata": {},
   "outputs": [
    {
     "data": {
      "text/html": [
       "<pre>✔️ 68.5 ms (2021-12-13T12:34:22/2021-12-13T12:34:22)</pre>"
      ],
      "text/plain": [
       "<IPython.core.display.HTML object>"
      ]
     },
     "metadata": {},
     "output_type": "display_data"
    }
   ],
   "source": [
    "# The resulting qets may have redundant parts in that \n",
    "# a rearrangment of the quantum symbols may be equal\n",
    "# to another part.\n",
    "# This makes it necessary to do some rearrangment\n",
    "# juggling\n",
    "def det_simplify(ket_parts):\n",
    "    equivalent_parts = {}\n",
    "    standard_order = {} # this holds the standard order to which all the other list members will be referred to\n",
    "    for ket_part_key, ket_part_coeff in ket_parts.items():\n",
    "        set_ket = frozenset(ket_part_key)\n",
    "        if set_ket not in equivalent_parts:\n",
    "            equivalent_parts[set_ket] = []\n",
    "            standard_order[set_ket] = ket_part_key\n",
    "        equivalent_parts[set_ket].append((ket_part_key, ket_part_coeff))\n",
    "    # once I've grouped them together into pices of equivalent parts\n",
    "    # i then need to rearrange and properly sign the rearrangements\n",
    "    det_simple = []\n",
    "    for equivalent_key in equivalent_parts:\n",
    "        base_order = standard_order[equivalent_key]\n",
    "        total_coeff = 0\n",
    "        equiv_parts = equivalent_parts[equivalent_key]\n",
    "        for equiv_part in equiv_parts:\n",
    "            ordering = [base_order.index(part) for part in equiv_part[0]]\n",
    "            sign = εijk(*ordering)\n",
    "            total_coeff += sign*equiv_part[1]\n",
    "        final = (base_order, total_coeff)\n",
    "        if total_coeff != 0:\n",
    "            det_simple.append(final)\n",
    "    return det_simple\n",
    "\n",
    "simplified_kets = {}\n",
    "for total_ket_key, ket_parts in total_kets.items():\n",
    "    det_simplified = det_simplify(ket_parts)\n",
    "    if len(det_simplified) != 0:\n",
    "        simplified_kets[total_ket_key] = Qet(dict(det_simplified))\n",
    "        the_normalizer = 1/simplified_kets[total_ket_key].norm()\n",
    "        simplified_kets[total_ket_key] = the_normalizer*simplified_kets[total_ket_key]"
   ]
  },
  {
   "cell_type": "code",
   "execution_count": 7,
   "metadata": {},
   "outputs": [
    {
     "data": {
      "text/html": [
       "<pre>✔️ 526 µs (2021-12-13T12:34:23/2021-12-13T12:34:23)</pre>"
      ],
      "text/plain": [
       "<IPython.core.display.HTML object>"
      ]
     },
     "metadata": {},
     "output_type": "display_data"
    }
   ],
   "source": [
    "# rows = []\n",
    "# for γ1 in component_labels[sp.Symbol('T_1')]:\n",
    "#     for γ2 in component_labels[sp.Symbol('T_2')]:\n",
    "#         row = [group_CGs[(γ1,γ2,γ3)] for γ3 in component_labels[sp.Symbol('E')]]\n",
    "#         rows.append(row)\n",
    "# rows = sp.Matrix(rows)\n",
    "# rows"
   ]
  },
  {
   "cell_type": "code",
   "execution_count": 8,
   "metadata": {},
   "outputs": [
    {
     "data": {
      "text/html": [
       "<pre>✔️ 454 µs (2021-12-13T12:34:24/2021-12-13T12:34:24)</pre>"
      ],
      "text/plain": [
       "<IPython.core.display.HTML object>"
      ]
     },
     "metadata": {},
     "output_type": "display_data"
    }
   ],
   "source": [
    "# for M0, m3 in product([-1,0,1],[-s_half, s_half]):\n",
    "#     print(M0, m3, clebschG(1, s_half, sp.S(3)/2,\n",
    "#          M0,m3, sp.S(3)/2))"
   ]
  },
  {
   "cell_type": "code",
   "execution_count": 9,
   "metadata": {},
   "outputs": [
    {
     "data": {
      "text/html": [
       "<pre>✔️ 604 µs (2021-12-13T12:34:24/2021-12-13T12:34:24)</pre>"
      ],
      "text/plain": [
       "<IPython.core.display.HTML object>"
      ]
     },
     "metadata": {},
     "output_type": "display_data"
    }
   ],
   "source": [
    "# display all the simplified quets\n",
    "# displayed = []\n",
    "# counter = 0\n",
    "# rhs = []\n",
    "# for total_ket_key, simple_ket in simplified_kets.items():\n",
    "#     print(counter)\n",
    "#     e_config = sp.Symbol(sp.latex(Γ1).lower())*sp.Symbol(sp.latex(Γ2).lower())*sp.Symbol(sp.latex(Γ3).lower())\n",
    "#     final_term_symbol = sp.Symbol('{}^{%d}%s' % (total_ket_key[2],sp.latex(total_ket_key[0])))\n",
    "#     intermediate_term_symbol = sp.Symbol('{}^{%d}%s' % (int(total_ket_key[-2]*2+1),sp.latex(total_ket_key[-1])))\n",
    "#     three_qet_symb = sp.Matrix([e_config, sp.Symbol('(%s)' % sp.latex(intermediate_term_symbol)),final_term_symbol, total_ket_key[3], total_ket_key[1]]).T\n",
    "#     # three_qet_symb = sp.Symbol(three_qet_symb)\n",
    "#     # display(sp.Matrix(total_ket_key).T)\n",
    "#     lhs = sp.latex(three_qet_symb)\n",
    "#     if lhs in displayed:\n",
    "#         print(\"*\")\n",
    "#     rhs.append(sp.latex(as_det_ket(simple_ket)))\n",
    "#     total = '%s = %s' % (lhs, sp.latex(as_det_ket(simple_ket)))\n",
    "#     # display(simple_ket.as_ket())\n",
    "#     displayed.append(lhs)\n",
    "#     display(Math(total))\n",
    "#     counter += 1"
   ]
  },
  {
   "cell_type": "code",
   "execution_count": 10,
   "metadata": {},
   "outputs": [
    {
     "data": {
      "text/html": [
       "<pre>✔️ 803 ms (2021-12-13T12:34:25/2021-12-13T12:34:26)</pre>"
      ],
      "text/plain": [
       "<IPython.core.display.HTML object>"
      ]
     },
     "metadata": {},
     "output_type": "display_data"
    },
    {
     "data": {
      "image/png": "[encoded data removed]",
      "text/plain": [
       "<Figure size 640x480 with 2 Axes>"
      ]
     },
     "metadata": {
      "image/png": {
       "height": 418,
       "width": 492
      }
     },
     "output_type": "display_data"
    }
   ],
   "source": [
    "# There are redundant qets in that they only differ by a common phase.\n",
    "rows = []\n",
    "for total_ket_key_0, simple_ket_0 in simplified_kets.items():\n",
    "    row = []\n",
    "    for total_ket_key_1, simple_ket_1 in simplified_kets.items():\n",
    "        the_sum = det_simplify((simple_ket_0 + simple_ket_1).dict)\n",
    "        the_diff = det_simplify((simple_ket_0 - simple_ket_1).dict)\n",
    "        if len(the_sum) == 0 or len(the_diff) == 0:\n",
    "            row.append(1)\n",
    "        else:\n",
    "            row.append(0)\n",
    "    rows.append(row)\n",
    "plt.figure()\n",
    "plt.imshow(np.array(rows))\n",
    "plt.colorbar()\n",
    "plt.show()"
   ]
  },
  {
   "cell_type": "code",
   "execution_count": 11,
   "metadata": {},
   "outputs": [
    {
     "data": {
      "text/html": [
       "<pre>✔️ 699 µs (2021-12-13T12:34:28/2021-12-13T12:34:28)</pre>"
      ],
      "text/plain": [
       "<IPython.core.display.HTML object>"
      ]
     },
     "metadata": {},
     "output_type": "display_data"
    }
   ],
   "source": [
    "# This is alternative to qet division for figuring out\n",
    "# which are proportional to each other\n",
    "# supreme_qets = []\n",
    "# corresponding_waves = []\n",
    "# for total_ket_key_0, simple_ket_0 in simplified_kets.items():\n",
    "#     plus_diffs = sum([len(det_simplify((simple_ket_0 + simple_ket_1).dict)) == 0 for simple_ket_1 in supreme_qets])\n",
    "#     minus_diffs = sum([len(det_simplify((simple_ket_0 - simple_ket_1).dict)) == 0 for simple_ket_1 in supreme_qets])\n",
    "#     if plus_diffs == 0 and minus_diffs == 0:\n",
    "#         supreme_qets.append(simple_ket_0)\n",
    "#         corresponding_waves.append(total_ket_key_0)"
   ]
  },
  {
   "cell_type": "code",
   "execution_count": 26,
   "metadata": {},
   "outputs": [
    {
     "data": {
      "text/html": [
       "<pre>✔️ 22.3 ms (2021-12-13T13:55:12/2021-12-13T13:55:12)</pre>"
      ],
      "text/plain": [
       "<IPython.core.display.HTML object>"
      ]
     },
     "metadata": {},
     "output_type": "display_data"
    }
   ],
   "source": [
    "def qet_divide(qet0, qet1):\n",
    "    '''\n",
    "    Given   two   qets,   assumed   to   be   superpositions  of\n",
    "    determinantal states. Determine if they are collinear and if\n",
    "    they are, provide their ratio.\n",
    "\n",
    "    Parameters\n",
    "    ----------\n",
    "    qet0    (qdef.Qet) : a qet with determinantal keys.\n",
    "    qet1    (qdef.Qet) : a qet with determinantal keys.\n",
    "\n",
    "    Returns\n",
    "    -------\n",
    "    ratio (num): 0 if qets are not collinear, otherwise equal to\n",
    "    qet0/qet1.\n",
    "\n",
    "\n",
    "    '''\n",
    "    if len(qet0.dict) != len(qet1.dict):\n",
    "        return 0\n",
    "    set0 = frozenset(map(frozenset,qet0.dict.keys()))\n",
    "    set1 = frozenset(map(frozenset,qet1.dict.keys()))\n",
    "    num_parts = len(qet0.dict)\n",
    "    # a necessary condition for them to be possibly collinear\n",
    "    # is that they should have have the same sets of quantum\n",
    "    # numbers.\n",
    "    if set0 != set1:\n",
    "        return 0\n",
    "    else:\n",
    "        ratios = []\n",
    "        # iterate over the quantum nums of the first qet\n",
    "        for qet_key_0, qet_val_0 in qet0.dict.items():\n",
    "            set0 = set(qet_key_0)\n",
    "            # and determine the ratio that it has\n",
    "            # to all of the parts of the other qet\n",
    "            # allowing for reaarangmenets valid\n",
    "            # under determinantal state rules\n",
    "            for qet_key_1, qet_val_1 in qet1.dict.items():\n",
    "                set1 = set(qet_key_1)\n",
    "                if set0 == set1:\n",
    "                    ordering = [qet_key_0.index(qk) for qk in qet_key_1]\n",
    "                    sign = εijk(*ordering)\n",
    "                    ratios.append(sign * qet_val_0/qet_val_1)\n",
    "                    continue\n",
    "    if ratios == []:\n",
    "        return 0\n",
    "    else:\n",
    "        # if all of the ratios are equal\n",
    "        # then the ratio of the two qets\n",
    "        # is well defined\n",
    "        if len(set(ratios)) == 1 and len(ratios) == num_parts:\n",
    "            return ratios[0]\n",
    "        else:\n",
    "            return 0\n",
    "\n",
    "final_qets = []\n",
    "corresponding_waves = []\n",
    "for total_ket_key_0, simple_ket_0 in simplified_kets.items():\n",
    "    ratios = []\n",
    "    for simple_ket_1 in final_qets:\n",
    "        divvy = qet_divide(simple_ket_0, simple_ket_1)\n",
    "        ratios.append(divvy==0)\n",
    "    ratios = sum(ratios)\n",
    "    if ratios == len(final_qets):\n",
    "        final_qets.append(simple_ket_0)\n",
    "        corresponding_waves.append(total_ket_key_0)\n",
    "final_qets = list(zip(corresponding_waves, final_qets))"
   ]
  },
  {
   "cell_type": "code",
   "execution_count": 27,
   "metadata": {},
   "outputs": [
    {
     "data": {
      "text/html": [
       "<pre>✔️ 860 µs (2021-12-13T13:55:15/2021-12-13T13:55:15)</pre>"
      ],
      "text/plain": [
       "<IPython.core.display.HTML object>"
      ]
     },
     "metadata": {},
     "output_type": "display_data"
    }
   ],
   "source": [
    "import cmasher as cmr"
   ]
  },
  {
   "cell_type": "code",
   "execution_count": 28,
   "metadata": {},
   "outputs": [
    {
     "data": {
      "text/html": [
       "<pre>✔️ 291 ms (2021-12-13T13:55:15/2021-12-13T13:55:15)</pre>"
      ],
      "text/plain": [
       "<IPython.core.display.HTML object>"
      ]
     },
     "metadata": {},
     "output_type": "display_data"
    },
    {
     "data": {
      "image/png": "[encoded data removed]",
      "text/plain": [
       "<Figure size 640x480 with 2 Axes>"
      ]
     },
     "metadata": {
      "image/png": {
       "height": 418,
       "width": 512
      }
     },
     "output_type": "display_data"
    }
   ],
   "source": [
    "ratios = sp.Matrix([[qet_divide(q1, s0) for s0 in simplified_kets.values()] for q1 in simplified_kets.values()])\n",
    "plt.style.use('dark_background')\n",
    "plt.figure()\n",
    "plt.imshow(np.array(ratios).astype(np.float64), cmap=cmr.get_sub_cmap('cmr.iceburn',0.,1,N=11))\n",
    "plt.colorbar()\n",
    "plt.show()"
   ]
  },
  {
   "cell_type": "code",
   "execution_count": 29,
   "metadata": {},
   "outputs": [
    {
     "data": {
      "text/html": [
       "<pre>✔️ 88.8 ms (2021-12-13T13:55:31/2021-12-13T13:55:31)</pre>"
      ],
      "text/plain": [
       "<IPython.core.display.HTML object>"
      ]
     },
     "metadata": {},
     "output_type": "display_data"
    },
    {
     "name": "stdout",
     "output_type": "stream",
     "text": [
      "(A_2, {\\beta}, 4, -3/2, 1, T_1) || 1 || [(A_2, {\\beta}, 4, -3/2, 1, T_1)]\n"
     ]
    },
    {
     "data": {
      "text/latex": [
       "$\\displaystyle - |\\bar{{\\xi}} \\bar{{\\phi}} \\bar{{\\chi}}|$"
      ],
      "text/plain": [
       "-|\\bar{{\\xi}} \\bar{{\\phi}} \\bar{{\\chi}}|"
      ]
     },
     "metadata": {},
     "output_type": "display_data"
    },
    {
     "name": "stdout",
     "output_type": "stream",
     "text": [
      "(A_2, {\\beta}, 4, -1/2, 1, T_1) || 1 || [(A_2, {\\beta}, 4, -1/2, 1, T_1)]\n"
     ]
    },
    {
     "data": {
      "text/latex": [
       "$\\displaystyle - \\frac{\\sqrt{3} |\\bar{{\\xi}} \\bar{{\\phi}} {\\chi}|}{3} - \\frac{\\sqrt{3} |\\bar{{\\xi}} {\\phi} \\bar{{\\chi}}|}{3} - \\frac{\\sqrt{3} |{\\xi} \\bar{{\\phi}} \\bar{{\\chi}}|}{3}$"
      ],
      "text/plain": [
       "-sqrt(3)*|\\bar{{\\xi}} \\bar{{\\phi}} {\\chi}|/3 - sqrt(3)*|\\bar{{\\xi}} {\\phi} \\bar{{\\chi}}|/3 - sqrt(3)*|{\\xi} \\bar{{\\phi}} \\bar{{\\chi}}|/3"
      ]
     },
     "metadata": {},
     "output_type": "display_data"
    },
    {
     "name": "stdout",
     "output_type": "stream",
     "text": [
      "(A_2, {\\beta}, 4, 1/2, 1, T_1) || 1 || [(A_2, {\\beta}, 4, 1/2, 1, T_1)]\n"
     ]
    },
    {
     "data": {
      "text/latex": [
       "$\\displaystyle - \\frac{\\sqrt{3} |\\bar{{\\xi}} {\\phi} {\\chi}|}{3} - \\frac{\\sqrt{3} |{\\xi} \\bar{{\\phi}} {\\chi}|}{3} - \\frac{\\sqrt{3} |{\\xi} {\\phi} \\bar{{\\chi}}|}{3}$"
      ],
      "text/plain": [
       "-sqrt(3)*|\\bar{{\\xi}} {\\phi} {\\chi}|/3 - sqrt(3)*|{\\xi} \\bar{{\\phi}} {\\chi}|/3 - sqrt(3)*|{\\xi} {\\phi} \\bar{{\\chi}}|/3"
      ]
     },
     "metadata": {},
     "output_type": "display_data"
    },
    {
     "name": "stdout",
     "output_type": "stream",
     "text": [
      "(A_2, {\\beta}, 4, 3/2, 1, T_1) || 1 || [(A_2, {\\beta}, 4, 3/2, 1, T_1)]\n"
     ]
    },
    {
     "data": {
      "text/latex": [
       "$\\displaystyle - |{\\xi} {\\phi} {\\chi}|$"
      ],
      "text/plain": [
       "-|{\\xi} {\\phi} {\\chi}|"
      ]
     },
     "metadata": {},
     "output_type": "display_data"
    },
    {
     "name": "stdout",
     "output_type": "stream",
     "text": [
      "(E, {\\gamma}, 2, -1/2, 1, T_1) || 2 || [(E, {\\gamma}, 2, -1/2, 1, T_1), (E, {\\gamma}, 2, -1/2, 0, T_2)]\n"
     ]
    },
    {
     "data": {
      "text/latex": [
       "$\\displaystyle - \\frac{\\sqrt{2} |\\bar{{\\xi}} \\bar{{\\phi}} {\\chi}|}{2} + \\frac{\\sqrt{2} |\\bar{{\\xi}} {\\phi} \\bar{{\\chi}}|}{2}$"
      ],
      "text/plain": [
       "-sqrt(2)*|\\bar{{\\xi}} \\bar{{\\phi}} {\\chi}|/2 + sqrt(2)*|\\bar{{\\xi}} {\\phi} \\bar{{\\chi}}|/2"
      ]
     },
     "metadata": {},
     "output_type": "display_data"
    },
    {
     "name": "stdout",
     "output_type": "stream",
     "text": [
      "(E, {\\zeta}, 2, -1/2, 1, T_1) || 2 || [(E, {\\zeta}, 2, -1/2, 1, T_1), (E, {\\zeta}, 2, -1/2, 0, T_2)]\n"
     ]
    },
    {
     "data": {
      "text/latex": [
       "$\\displaystyle \\frac{\\sqrt{6} |\\bar{{\\xi}} \\bar{{\\phi}} {\\chi}|}{6} + \\frac{\\sqrt{6} |\\bar{{\\xi}} {\\phi} \\bar{{\\chi}}|}{6} - \\frac{\\sqrt{6} |{\\xi} \\bar{{\\phi}} \\bar{{\\chi}}|}{3}$"
      ],
      "text/plain": [
       "sqrt(6)*|\\bar{{\\xi}} \\bar{{\\phi}} {\\chi}|/6 + sqrt(6)*|\\bar{{\\xi}} {\\phi} \\bar{{\\chi}}|/6 - sqrt(6)*|{\\xi} \\bar{{\\phi}} \\bar{{\\chi}}|/3"
      ]
     },
     "metadata": {},
     "output_type": "display_data"
    },
    {
     "name": "stdout",
     "output_type": "stream",
     "text": [
      "(E, {\\gamma}, 2, 1/2, 1, T_1) || 2 || [(E, {\\gamma}, 2, 1/2, 1, T_1), (E, {\\gamma}, 2, 1/2, 0, T_2)]\n"
     ]
    },
    {
     "data": {
      "text/latex": [
       "$\\displaystyle - \\frac{\\sqrt{2} |{\\xi} \\bar{{\\phi}} {\\chi}|}{2} + \\frac{\\sqrt{2} |{\\xi} {\\phi} \\bar{{\\chi}}|}{2}$"
      ],
      "text/plain": [
       "-sqrt(2)*|{\\xi} \\bar{{\\phi}} {\\chi}|/2 + sqrt(2)*|{\\xi} {\\phi} \\bar{{\\chi}}|/2"
      ]
     },
     "metadata": {},
     "output_type": "display_data"
    },
    {
     "name": "stdout",
     "output_type": "stream",
     "text": [
      "(E, {\\zeta}, 2, 1/2, 1, T_1) || 2 || [(E, {\\zeta}, 2, 1/2, 1, T_1), (E, {\\zeta}, 2, 1/2, 0, T_2)]\n"
     ]
    },
    {
     "data": {
      "text/latex": [
       "$\\displaystyle \\frac{\\sqrt{6} |\\bar{{\\xi}} {\\phi} {\\chi}|}{3} - \\frac{\\sqrt{6} |{\\xi} \\bar{{\\phi}} {\\chi}|}{6} - \\frac{\\sqrt{6} |{\\xi} {\\phi} \\bar{{\\chi}}|}{6}$"
      ],
      "text/plain": [
       "sqrt(6)*|\\bar{{\\xi}} {\\phi} {\\chi}|/3 - sqrt(6)*|{\\xi} \\bar{{\\phi}} {\\chi}|/6 - sqrt(6)*|{\\xi} {\\phi} \\bar{{\\chi}}|/6"
      ]
     },
     "metadata": {},
     "output_type": "display_data"
    },
    {
     "name": "stdout",
     "output_type": "stream",
     "text": [
      "(T_1, {\\nu}, 2, -1/2, 0, E) || 3 || [(T_1, {\\nu}, 2, -1/2, 0, E), (T_1, {\\nu}, 2, -1/2, 1, T_1), (T_1, {\\nu}, 2, -1/2, 0, T_2)]\n"
     ]
    },
    {
     "data": {
      "text/latex": [
       "$\\displaystyle - \\frac{\\sqrt{2} |\\bar{{\\chi}} {\\chi} \\bar{{\\phi}}|}{2} + \\frac{\\sqrt{2} |\\bar{{\\xi}} {\\xi} \\bar{{\\phi}}|}{2}$"
      ],
      "text/plain": [
       "-sqrt(2)*|\\bar{{\\chi}} {\\chi} \\bar{{\\phi}}|/2 + sqrt(2)*|\\bar{{\\xi}} {\\xi} \\bar{{\\phi}}|/2"
      ]
     },
     "metadata": {},
     "output_type": "display_data"
    },
    {
     "name": "stdout",
     "output_type": "stream",
     "text": [
      "(T_1, {\\nu}, 2, 1/2, 0, E) || 3 || [(T_1, {\\nu}, 2, 1/2, 0, E), (T_1, {\\nu}, 2, 1/2, 1, T_1), (T_1, {\\nu}, 2, 1/2, 0, T_2)]\n"
     ]
    },
    {
     "data": {
      "text/latex": [
       "$\\displaystyle - \\frac{\\sqrt{2} |\\bar{{\\chi}} {\\chi} {\\phi}|}{2} + \\frac{\\sqrt{2} |\\bar{{\\xi}} {\\xi} {\\phi}|}{2}$"
      ],
      "text/plain": [
       "-sqrt(2)*|\\bar{{\\chi}} {\\chi} {\\phi}|/2 + sqrt(2)*|\\bar{{\\xi}} {\\xi} {\\phi}|/2"
      ]
     },
     "metadata": {},
     "output_type": "display_data"
    },
    {
     "name": "stdout",
     "output_type": "stream",
     "text": [
      "(T_1, {\\eta}, 2, -1/2, 0, E) || 3 || [(T_1, {\\eta}, 2, -1/2, 0, E), (T_1, {\\eta}, 2, -1/2, 1, T_1), (T_1, {\\eta}, 2, -1/2, 0, T_2)]\n"
     ]
    },
    {
     "data": {
      "text/latex": [
       "$\\displaystyle \\frac{\\sqrt{2} |\\bar{{\\phi}} {\\phi} \\bar{{\\chi}}|}{2} - \\frac{\\sqrt{2} |\\bar{{\\xi}} {\\xi} \\bar{{\\chi}}|}{2}$"
      ],
      "text/plain": [
       "sqrt(2)*|\\bar{{\\phi}} {\\phi} \\bar{{\\chi}}|/2 - sqrt(2)*|\\bar{{\\xi}} {\\xi} \\bar{{\\chi}}|/2"
      ]
     },
     "metadata": {},
     "output_type": "display_data"
    },
    {
     "name": "stdout",
     "output_type": "stream",
     "text": [
      "(T_1, {\\eta}, 2, 1/2, 0, E) || 3 || [(T_1, {\\eta}, 2, 1/2, 0, E), (T_1, {\\eta}, 2, 1/2, 1, T_1), (T_1, {\\eta}, 2, 1/2, 0, T_2)]\n"
     ]
    },
    {
     "data": {
      "text/latex": [
       "$\\displaystyle \\frac{\\sqrt{2} |\\bar{{\\phi}} {\\phi} {\\chi}|}{2} - \\frac{\\sqrt{2} |\\bar{{\\xi}} {\\xi} {\\chi}|}{2}$"
      ],
      "text/plain": [
       "sqrt(2)*|\\bar{{\\phi}} {\\phi} {\\chi}|/2 - sqrt(2)*|\\bar{{\\xi}} {\\xi} {\\chi}|/2"
      ]
     },
     "metadata": {},
     "output_type": "display_data"
    },
    {
     "name": "stdout",
     "output_type": "stream",
     "text": [
      "(T_1, {\\mu}, 2, -1/2, 1, T_1) || 3 || [(T_1, {\\mu}, 2, -1/2, 1, T_1), (T_1, {\\mu}, 2, -1/2, 0, T_2), (T_1, {\\mu}, 2, -1/2, 0, E)]\n"
     ]
    },
    {
     "data": {
      "text/latex": [
       "$\\displaystyle - \\frac{\\sqrt{2} |\\bar{{\\xi}} \\bar{{\\chi}} {\\chi}|}{2} + \\frac{\\sqrt{2} |\\bar{{\\xi}} \\bar{{\\phi}} {\\phi}|}{2}$"
      ],
      "text/plain": [
       "-sqrt(2)*|\\bar{{\\xi}} \\bar{{\\chi}} {\\chi}|/2 + sqrt(2)*|\\bar{{\\xi}} \\bar{{\\phi}} {\\phi}|/2"
      ]
     },
     "metadata": {},
     "output_type": "display_data"
    },
    {
     "name": "stdout",
     "output_type": "stream",
     "text": [
      "(T_1, {\\mu}, 2, 1/2, 1, T_1) || 3 || [(T_1, {\\mu}, 2, 1/2, 1, T_1), (T_1, {\\mu}, 2, 1/2, 0, T_2), (T_1, {\\mu}, 2, 1/2, 0, E)]\n"
     ]
    },
    {
     "data": {
      "text/latex": [
       "$\\displaystyle - \\frac{\\sqrt{2} |{\\xi} \\bar{{\\chi}} {\\chi}|}{2} + \\frac{\\sqrt{2} |{\\xi} \\bar{{\\phi}} {\\phi}|}{2}$"
      ],
      "text/plain": [
       "-sqrt(2)*|{\\xi} \\bar{{\\chi}} {\\chi}|/2 + sqrt(2)*|{\\xi} \\bar{{\\phi}} {\\phi}|/2"
      ]
     },
     "metadata": {},
     "output_type": "display_data"
    },
    {
     "name": "stdout",
     "output_type": "stream",
     "text": [
      "(T_2, {\\xi}, 2, -1/2, 0, A_1) || 4 || [(T_2, {\\xi}, 2, -1/2, 0, A_1), (T_2, {\\xi}, 2, -1/2, 0, E), (T_2, {\\xi}, 2, -1/2, 1, T_1), (T_2, {\\xi}, 2, -1/2, 0, T_2)]\n"
     ]
    },
    {
     "data": {
      "text/latex": [
       "$\\displaystyle - \\frac{\\sqrt{2} |\\bar{{\\chi}} {\\chi} \\bar{{\\xi}}|}{2} - \\frac{\\sqrt{2} |\\bar{{\\phi}} {\\phi} \\bar{{\\xi}}|}{2}$"
      ],
      "text/plain": [
       "-sqrt(2)*|\\bar{{\\chi}} {\\chi} \\bar{{\\xi}}|/2 - sqrt(2)*|\\bar{{\\phi}} {\\phi} \\bar{{\\xi}}|/2"
      ]
     },
     "metadata": {},
     "output_type": "display_data"
    },
    {
     "name": "stdout",
     "output_type": "stream",
     "text": [
      "(T_2, {\\xi}, 2, 1/2, 0, A_1) || 4 || [(T_2, {\\xi}, 2, 1/2, 0, A_1), (T_2, {\\xi}, 2, 1/2, 0, E), (T_2, {\\xi}, 2, 1/2, 1, T_1), (T_2, {\\xi}, 2, 1/2, 0, T_2)]\n"
     ]
    },
    {
     "data": {
      "text/latex": [
       "$\\displaystyle - \\frac{\\sqrt{2} |\\bar{{\\chi}} {\\chi} {\\xi}|}{2} - \\frac{\\sqrt{2} |\\bar{{\\phi}} {\\phi} {\\xi}|}{2}$"
      ],
      "text/plain": [
       "-sqrt(2)*|\\bar{{\\chi}} {\\chi} {\\xi}|/2 - sqrt(2)*|\\bar{{\\phi}} {\\phi} {\\xi}|/2"
      ]
     },
     "metadata": {},
     "output_type": "display_data"
    },
    {
     "name": "stdout",
     "output_type": "stream",
     "text": [
      "(T_2, {\\phi}, 2, -1/2, 0, A_1) || 4 || [(T_2, {\\phi}, 2, -1/2, 0, A_1), (T_2, {\\phi}, 2, -1/2, 0, E), (T_2, {\\phi}, 2, -1/2, 1, T_1), (T_2, {\\phi}, 2, -1/2, 0, T_2)]\n"
     ]
    },
    {
     "data": {
      "text/latex": [
       "$\\displaystyle - \\frac{\\sqrt{2} |\\bar{{\\chi}} {\\chi} \\bar{{\\phi}}|}{2} - \\frac{\\sqrt{2} |\\bar{{\\xi}} {\\xi} \\bar{{\\phi}}|}{2}$"
      ],
      "text/plain": [
       "-sqrt(2)*|\\bar{{\\chi}} {\\chi} \\bar{{\\phi}}|/2 - sqrt(2)*|\\bar{{\\xi}} {\\xi} \\bar{{\\phi}}|/2"
      ]
     },
     "metadata": {},
     "output_type": "display_data"
    },
    {
     "name": "stdout",
     "output_type": "stream",
     "text": [
      "(T_2, {\\phi}, 2, 1/2, 0, A_1) || 4 || [(T_2, {\\phi}, 2, 1/2, 0, A_1), (T_2, {\\phi}, 2, 1/2, 0, E), (T_2, {\\phi}, 2, 1/2, 1, T_1), (T_2, {\\phi}, 2, 1/2, 0, T_2)]\n"
     ]
    },
    {
     "data": {
      "text/latex": [
       "$\\displaystyle - \\frac{\\sqrt{2} |\\bar{{\\chi}} {\\chi} {\\phi}|}{2} - \\frac{\\sqrt{2} |\\bar{{\\xi}} {\\xi} {\\phi}|}{2}$"
      ],
      "text/plain": [
       "-sqrt(2)*|\\bar{{\\chi}} {\\chi} {\\phi}|/2 - sqrt(2)*|\\bar{{\\xi}} {\\xi} {\\phi}|/2"
      ]
     },
     "metadata": {},
     "output_type": "display_data"
    },
    {
     "name": "stdout",
     "output_type": "stream",
     "text": [
      "(T_2, {\\chi}, 2, -1/2, 0, A_1) || 4 || [(T_2, {\\chi}, 2, -1/2, 0, A_1), (T_2, {\\chi}, 2, -1/2, 0, E), (T_2, {\\chi}, 2, -1/2, 1, T_1), (T_2, {\\chi}, 2, -1/2, 0, T_2)]\n"
     ]
    },
    {
     "data": {
      "text/latex": [
       "$\\displaystyle - \\frac{\\sqrt{2} |\\bar{{\\phi}} {\\phi} \\bar{{\\chi}}|}{2} - \\frac{\\sqrt{2} |\\bar{{\\xi}} {\\xi} \\bar{{\\chi}}|}{2}$"
      ],
      "text/plain": [
       "-sqrt(2)*|\\bar{{\\phi}} {\\phi} \\bar{{\\chi}}|/2 - sqrt(2)*|\\bar{{\\xi}} {\\xi} \\bar{{\\chi}}|/2"
      ]
     },
     "metadata": {},
     "output_type": "display_data"
    },
    {
     "name": "stdout",
     "output_type": "stream",
     "text": [
      "(T_2, {\\chi}, 2, 1/2, 0, A_1) || 4 || [(T_2, {\\chi}, 2, 1/2, 0, A_1), (T_2, {\\chi}, 2, 1/2, 0, E), (T_2, {\\chi}, 2, 1/2, 1, T_1), (T_2, {\\chi}, 2, 1/2, 0, T_2)]\n"
     ]
    },
    {
     "data": {
      "text/latex": [
       "$\\displaystyle - \\frac{\\sqrt{2} |\\bar{{\\phi}} {\\phi} {\\chi}|}{2} - \\frac{\\sqrt{2} |\\bar{{\\xi}} {\\xi} {\\chi}|}{2}$"
      ],
      "text/plain": [
       "-sqrt(2)*|\\bar{{\\phi}} {\\phi} {\\chi}|/2 - sqrt(2)*|\\bar{{\\xi}} {\\xi} {\\chi}|/2"
      ]
     },
     "metadata": {},
     "output_type": "display_data"
    }
   ],
   "source": [
    "# in addition to removing the redundant ones\n",
    "# I would also like to keep al the total_ket_keys that correspond to each\n",
    "# group of redundant qets\n",
    "final_qets_groups = {}\n",
    "for main_key, sqet in final_qets:\n",
    "    final_qets_groups[main_key] = {'paths':[],'qet':sqet}\n",
    "    for total_ket_key_0, simple_ket_0 in simplified_kets.items():\n",
    "        if qet_divide(sqet, simple_ket_0) != 0:\n",
    "            final_qets_groups[main_key]['paths'].append(total_ket_key_0)\n",
    "for k,v in final_qets_groups.items():\n",
    "    print(k,'||', len(v['paths']), '||', (v['paths']))\n",
    "    display(as_det_ket(v['qet']))"
   ]
  },
  {
   "cell_type": "code",
   "execution_count": 55,
   "metadata": {},
   "outputs": [
    {
     "data": {
      "text/html": [
       "<pre>✔️ 4.59 ms (2021-12-13T09:43:08/2021-12-13T09:43:09)</pre>"
      ],
      "text/plain": [
       "<IPython.core.display.HTML object>"
      ]
     },
     "metadata": {},
     "output_type": "display_data"
    },
    {
     "data": {
      "text/latex": [
       "$\\displaystyle - \\frac{\\sqrt{2} |\\bar{{\\phi}} {\\phi} {\\chi}|}{2} - \\frac{\\sqrt{2} |\\bar{{\\xi}} {\\xi} {\\chi}|}{2}$"
      ],
      "text/plain": [
       "<IPython.core.display.Math object>"
      ]
     },
     "metadata": {},
     "output_type": "display_data"
    }
   ],
   "source": [
    "display(Math('$%s$' % sp.latex(as_det_ket(sq))))"
   ]
  },
  {
   "cell_type": "code",
   "execution_count": 47,
   "metadata": {},
   "outputs": [
    {
     "data": {
      "text/html": [
       "<pre>✔️ 67 ms (2021-12-13T09:39:59/2021-12-13T09:39:59)</pre>"
      ],
      "text/plain": [
       "<IPython.core.display.HTML object>"
      ]
     },
     "metadata": {},
     "output_type": "display_data"
    },
    {
     "data": {
      "text/latex": [
       "$\\displaystyle \\left[\\begin{matrix}t_{2}^{3} & ({}^{3}T_{1}) & {}^{4}A_{2} & - \\frac{3}{2} & {\\beta}\\end{matrix}\\right]$"
      ],
      "text/plain": [
       "Matrix([[t_{2}**3, ({}^{3}T_{1}), {}^{4}A_{2}, -3/2, {\\beta}]])"
      ]
     },
     "metadata": {},
     "output_type": "display_data"
    },
    {
     "data": {
      "text/latex": [
       "$\\displaystyle - |\\bar{{\\xi}} \\bar{{\\phi}} \\bar{{\\chi}}|$"
      ],
      "text/plain": [
       "-|\\bar{{\\xi}} \\bar{{\\phi}} \\bar{{\\chi}}|"
      ]
     },
     "metadata": {},
     "output_type": "display_data"
    },
    {
     "data": {
      "text/latex": [
       "$\\displaystyle \\left[\\begin{matrix}t_{2}^{3} & ({}^{3}T_{1}) & {}^{4}A_{2} & - \\frac{1}{2} & {\\beta}\\end{matrix}\\right]$"
      ],
      "text/plain": [
       "Matrix([[t_{2}**3, ({}^{3}T_{1}), {}^{4}A_{2}, -1/2, {\\beta}]])"
      ]
     },
     "metadata": {},
     "output_type": "display_data"
    },
    {
     "data": {
      "text/latex": [
       "$\\displaystyle - \\frac{\\sqrt{3} |\\bar{{\\xi}} \\bar{{\\phi}} {\\chi}|}{3} - \\frac{\\sqrt{3} |\\bar{{\\xi}} {\\phi} \\bar{{\\chi}}|}{3} - \\frac{\\sqrt{3} |{\\xi} \\bar{{\\phi}} \\bar{{\\chi}}|}{3}$"
      ],
      "text/plain": [
       "-sqrt(3)*|\\bar{{\\xi}} \\bar{{\\phi}} {\\chi}|/3 - sqrt(3)*|\\bar{{\\xi}} {\\phi} \\bar{{\\chi}}|/3 - sqrt(3)*|{\\xi} \\bar{{\\phi}} \\bar{{\\chi}}|/3"
      ]
     },
     "metadata": {},
     "output_type": "display_data"
    },
    {
     "data": {
      "text/latex": [
       "$\\displaystyle \\left[\\begin{matrix}t_{2}^{3} & ({}^{3}T_{1}) & {}^{4}A_{2} & \\frac{1}{2} & {\\beta}\\end{matrix}\\right]$"
      ],
      "text/plain": [
       "Matrix([[t_{2}**3, ({}^{3}T_{1}), {}^{4}A_{2}, 1/2, {\\beta}]])"
      ]
     },
     "metadata": {},
     "output_type": "display_data"
    },
    {
     "data": {
      "text/latex": [
       "$\\displaystyle - \\frac{\\sqrt{3} |\\bar{{\\xi}} {\\phi} {\\chi}|}{3} - \\frac{\\sqrt{3} |{\\xi} \\bar{{\\phi}} {\\chi}|}{3} - \\frac{\\sqrt{3} |{\\xi} {\\phi} \\bar{{\\chi}}|}{3}$"
      ],
      "text/plain": [
       "-sqrt(3)*|\\bar{{\\xi}} {\\phi} {\\chi}|/3 - sqrt(3)*|{\\xi} \\bar{{\\phi}} {\\chi}|/3 - sqrt(3)*|{\\xi} {\\phi} \\bar{{\\chi}}|/3"
      ]
     },
     "metadata": {},
     "output_type": "display_data"
    },
    {
     "data": {
      "text/latex": [
       "$\\displaystyle \\left[\\begin{matrix}t_{2}^{3} & ({}^{3}T_{1}) & {}^{4}A_{2} & \\frac{3}{2} & {\\beta}\\end{matrix}\\right]$"
      ],
      "text/plain": [
       "Matrix([[t_{2}**3, ({}^{3}T_{1}), {}^{4}A_{2}, 3/2, {\\beta}]])"
      ]
     },
     "metadata": {},
     "output_type": "display_data"
    },
    {
     "data": {
      "text/latex": [
       "$\\displaystyle - |{\\xi} {\\phi} {\\chi}|$"
      ],
      "text/plain": [
       "-|{\\xi} {\\phi} {\\chi}|"
      ]
     },
     "metadata": {},
     "output_type": "display_data"
    },
    {
     "data": {
      "text/latex": [
       "$\\displaystyle \\left[\\begin{matrix}t_{2}^{3} & ({}^{3}T_{1}) & {}^{2}E & - \\frac{1}{2} & {\\gamma}\\end{matrix}\\right]$"
      ],
      "text/plain": [
       "Matrix([[t_{2}**3, ({}^{3}T_{1}), {}^{2}E, -1/2, {\\gamma}]])"
      ]
     },
     "metadata": {},
     "output_type": "display_data"
    },
    {
     "data": {
      "text/latex": [
       "$\\displaystyle - \\frac{\\sqrt{2} |\\bar{{\\xi}} \\bar{{\\phi}} {\\chi}|}{2} + \\frac{\\sqrt{2} |\\bar{{\\xi}} {\\phi} \\bar{{\\chi}}|}{2}$"
      ],
      "text/plain": [
       "-sqrt(2)*|\\bar{{\\xi}} \\bar{{\\phi}} {\\chi}|/2 + sqrt(2)*|\\bar{{\\xi}} {\\phi} \\bar{{\\chi}}|/2"
      ]
     },
     "metadata": {},
     "output_type": "display_data"
    },
    {
     "data": {
      "text/latex": [
       "$\\displaystyle \\left[\\begin{matrix}t_{2}^{3} & ({}^{3}T_{1}) & {}^{2}E & - \\frac{1}{2} & {\\zeta}\\end{matrix}\\right]$"
      ],
      "text/plain": [
       "Matrix([[t_{2}**3, ({}^{3}T_{1}), {}^{2}E, -1/2, {\\zeta}]])"
      ]
     },
     "metadata": {},
     "output_type": "display_data"
    },
    {
     "data": {
      "text/latex": [
       "$\\displaystyle \\frac{\\sqrt{6} |\\bar{{\\xi}} \\bar{{\\phi}} {\\chi}|}{6} + \\frac{\\sqrt{6} |\\bar{{\\xi}} {\\phi} \\bar{{\\chi}}|}{6} - \\frac{\\sqrt{6} |{\\xi} \\bar{{\\phi}} \\bar{{\\chi}}|}{3}$"
      ],
      "text/plain": [
       "sqrt(6)*|\\bar{{\\xi}} \\bar{{\\phi}} {\\chi}|/6 + sqrt(6)*|\\bar{{\\xi}} {\\phi} \\bar{{\\chi}}|/6 - sqrt(6)*|{\\xi} \\bar{{\\phi}} \\bar{{\\chi}}|/3"
      ]
     },
     "metadata": {},
     "output_type": "display_data"
    },
    {
     "data": {
      "text/latex": [
       "$\\displaystyle \\left[\\begin{matrix}t_{2}^{3} & ({}^{3}T_{1}) & {}^{2}E & \\frac{1}{2} & {\\gamma}\\end{matrix}\\right]$"
      ],
      "text/plain": [
       "Matrix([[t_{2}**3, ({}^{3}T_{1}), {}^{2}E, 1/2, {\\gamma}]])"
      ]
     },
     "metadata": {},
     "output_type": "display_data"
    },
    {
     "data": {
      "text/latex": [
       "$\\displaystyle - \\frac{\\sqrt{2} |{\\xi} \\bar{{\\phi}} {\\chi}|}{2} + \\frac{\\sqrt{2} |{\\xi} {\\phi} \\bar{{\\chi}}|}{2}$"
      ],
      "text/plain": [
       "-sqrt(2)*|{\\xi} \\bar{{\\phi}} {\\chi}|/2 + sqrt(2)*|{\\xi} {\\phi} \\bar{{\\chi}}|/2"
      ]
     },
     "metadata": {},
     "output_type": "display_data"
    },
    {
     "data": {
      "text/latex": [
       "$\\displaystyle \\left[\\begin{matrix}t_{2}^{3} & ({}^{3}T_{1}) & {}^{2}E & \\frac{1}{2} & {\\zeta}\\end{matrix}\\right]$"
      ],
      "text/plain": [
       "Matrix([[t_{2}**3, ({}^{3}T_{1}), {}^{2}E, 1/2, {\\zeta}]])"
      ]
     },
     "metadata": {},
     "output_type": "display_data"
    },
    {
     "data": {
      "text/latex": [
       "$\\displaystyle \\frac{\\sqrt{6} |\\bar{{\\xi}} {\\phi} {\\chi}|}{3} - \\frac{\\sqrt{6} |{\\xi} \\bar{{\\phi}} {\\chi}|}{6} - \\frac{\\sqrt{6} |{\\xi} {\\phi} \\bar{{\\chi}}|}{6}$"
      ],
      "text/plain": [
       "sqrt(6)*|\\bar{{\\xi}} {\\phi} {\\chi}|/3 - sqrt(6)*|{\\xi} \\bar{{\\phi}} {\\chi}|/6 - sqrt(6)*|{\\xi} {\\phi} \\bar{{\\chi}}|/6"
      ]
     },
     "metadata": {},
     "output_type": "display_data"
    },
    {
     "data": {
      "text/latex": [
       "$\\displaystyle \\left[\\begin{matrix}t_{2}^{3} & ({}^{1}E) & {}^{2}T_{1} & - \\frac{1}{2} & {\\nu}\\end{matrix}\\right]$"
      ],
      "text/plain": [
       "Matrix([[t_{2}**3, ({}^{1}E), {}^{2}T_{1}, -1/2, {\\nu}]])"
      ]
     },
     "metadata": {},
     "output_type": "display_data"
    },
    {
     "data": {
      "text/latex": [
       "$\\displaystyle - \\frac{\\sqrt{2} |\\bar{{\\chi}} {\\chi} \\bar{{\\phi}}|}{2} + \\frac{\\sqrt{2} |\\bar{{\\xi}} {\\xi} \\bar{{\\phi}}|}{2}$"
      ],
      "text/plain": [
       "-sqrt(2)*|\\bar{{\\chi}} {\\chi} \\bar{{\\phi}}|/2 + sqrt(2)*|\\bar{{\\xi}} {\\xi} \\bar{{\\phi}}|/2"
      ]
     },
     "metadata": {},
     "output_type": "display_data"
    },
    {
     "data": {
      "text/latex": [
       "$\\displaystyle \\left[\\begin{matrix}t_{2}^{3} & ({}^{1}E) & {}^{2}T_{1} & \\frac{1}{2} & {\\nu}\\end{matrix}\\right]$"
      ],
      "text/plain": [
       "Matrix([[t_{2}**3, ({}^{1}E), {}^{2}T_{1}, 1/2, {\\nu}]])"
      ]
     },
     "metadata": {},
     "output_type": "display_data"
    },
    {
     "data": {
      "text/latex": [
       "$\\displaystyle - \\frac{\\sqrt{2} |\\bar{{\\chi}} {\\chi} {\\phi}|}{2} + \\frac{\\sqrt{2} |\\bar{{\\xi}} {\\xi} {\\phi}|}{2}$"
      ],
      "text/plain": [
       "-sqrt(2)*|\\bar{{\\chi}} {\\chi} {\\phi}|/2 + sqrt(2)*|\\bar{{\\xi}} {\\xi} {\\phi}|/2"
      ]
     },
     "metadata": {},
     "output_type": "display_data"
    },
    {
     "data": {
      "text/latex": [
       "$\\displaystyle \\left[\\begin{matrix}t_{2}^{3} & ({}^{1}E) & {}^{2}T_{1} & - \\frac{1}{2} & {\\eta}\\end{matrix}\\right]$"
      ],
      "text/plain": [
       "Matrix([[t_{2}**3, ({}^{1}E), {}^{2}T_{1}, -1/2, {\\eta}]])"
      ]
     },
     "metadata": {},
     "output_type": "display_data"
    },
    {
     "data": {
      "text/latex": [
       "$\\displaystyle \\frac{\\sqrt{2} |\\bar{{\\phi}} {\\phi} \\bar{{\\chi}}|}{2} - \\frac{\\sqrt{2} |\\bar{{\\xi}} {\\xi} \\bar{{\\chi}}|}{2}$"
      ],
      "text/plain": [
       "sqrt(2)*|\\bar{{\\phi}} {\\phi} \\bar{{\\chi}}|/2 - sqrt(2)*|\\bar{{\\xi}} {\\xi} \\bar{{\\chi}}|/2"
      ]
     },
     "metadata": {},
     "output_type": "display_data"
    },
    {
     "data": {
      "text/latex": [
       "$\\displaystyle \\left[\\begin{matrix}t_{2}^{3} & ({}^{1}E) & {}^{2}T_{1} & \\frac{1}{2} & {\\eta}\\end{matrix}\\right]$"
      ],
      "text/plain": [
       "Matrix([[t_{2}**3, ({}^{1}E), {}^{2}T_{1}, 1/2, {\\eta}]])"
      ]
     },
     "metadata": {},
     "output_type": "display_data"
    },
    {
     "data": {
      "text/latex": [
       "$\\displaystyle \\frac{\\sqrt{2} |\\bar{{\\phi}} {\\phi} {\\chi}|}{2} - \\frac{\\sqrt{2} |\\bar{{\\xi}} {\\xi} {\\chi}|}{2}$"
      ],
      "text/plain": [
       "sqrt(2)*|\\bar{{\\phi}} {\\phi} {\\chi}|/2 - sqrt(2)*|\\bar{{\\xi}} {\\xi} {\\chi}|/2"
      ]
     },
     "metadata": {},
     "output_type": "display_data"
    },
    {
     "data": {
      "text/latex": [
       "$\\displaystyle \\left[\\begin{matrix}t_{2}^{3} & ({}^{3}T_{1}) & {}^{2}T_{1} & - \\frac{1}{2} & {\\mu}\\end{matrix}\\right]$"
      ],
      "text/plain": [
       "Matrix([[t_{2}**3, ({}^{3}T_{1}), {}^{2}T_{1}, -1/2, {\\mu}]])"
      ]
     },
     "metadata": {},
     "output_type": "display_data"
    },
    {
     "data": {
      "text/latex": [
       "$\\displaystyle - \\frac{\\sqrt{2} |\\bar{{\\xi}} \\bar{{\\chi}} {\\chi}|}{2} + \\frac{\\sqrt{2} |\\bar{{\\xi}} \\bar{{\\phi}} {\\phi}|}{2}$"
      ],
      "text/plain": [
       "-sqrt(2)*|\\bar{{\\xi}} \\bar{{\\chi}} {\\chi}|/2 + sqrt(2)*|\\bar{{\\xi}} \\bar{{\\phi}} {\\phi}|/2"
      ]
     },
     "metadata": {},
     "output_type": "display_data"
    },
    {
     "data": {
      "text/latex": [
       "$\\displaystyle \\left[\\begin{matrix}t_{2}^{3} & ({}^{3}T_{1}) & {}^{2}T_{1} & \\frac{1}{2} & {\\mu}\\end{matrix}\\right]$"
      ],
      "text/plain": [
       "Matrix([[t_{2}**3, ({}^{3}T_{1}), {}^{2}T_{1}, 1/2, {\\mu}]])"
      ]
     },
     "metadata": {},
     "output_type": "display_data"
    },
    {
     "data": {
      "text/latex": [
       "$\\displaystyle - \\frac{\\sqrt{2} |{\\xi} \\bar{{\\chi}} {\\chi}|}{2} + \\frac{\\sqrt{2} |{\\xi} \\bar{{\\phi}} {\\phi}|}{2}$"
      ],
      "text/plain": [
       "-sqrt(2)*|{\\xi} \\bar{{\\chi}} {\\chi}|/2 + sqrt(2)*|{\\xi} \\bar{{\\phi}} {\\phi}|/2"
      ]
     },
     "metadata": {},
     "output_type": "display_data"
    },
    {
     "data": {
      "text/latex": [
       "$\\displaystyle \\left[\\begin{matrix}t_{2}^{3} & ({}^{1}A_{1}) & {}^{2}T_{2} & - \\frac{1}{2} & {\\xi}\\end{matrix}\\right]$"
      ],
      "text/plain": [
       "Matrix([[t_{2}**3, ({}^{1}A_{1}), {}^{2}T_{2}, -1/2, {\\xi}]])"
      ]
     },
     "metadata": {},
     "output_type": "display_data"
    },
    {
     "data": {
      "text/latex": [
       "$\\displaystyle - \\frac{\\sqrt{2} |\\bar{{\\chi}} {\\chi} \\bar{{\\xi}}|}{2} - \\frac{\\sqrt{2} |\\bar{{\\phi}} {\\phi} \\bar{{\\xi}}|}{2}$"
      ],
      "text/plain": [
       "-sqrt(2)*|\\bar{{\\chi}} {\\chi} \\bar{{\\xi}}|/2 - sqrt(2)*|\\bar{{\\phi}} {\\phi} \\bar{{\\xi}}|/2"
      ]
     },
     "metadata": {},
     "output_type": "display_data"
    },
    {
     "data": {
      "text/latex": [
       "$\\displaystyle \\left[\\begin{matrix}t_{2}^{3} & ({}^{1}A_{1}) & {}^{2}T_{2} & \\frac{1}{2} & {\\xi}\\end{matrix}\\right]$"
      ],
      "text/plain": [
       "Matrix([[t_{2}**3, ({}^{1}A_{1}), {}^{2}T_{2}, 1/2, {\\xi}]])"
      ]
     },
     "metadata": {},
     "output_type": "display_data"
    },
    {
     "data": {
      "text/latex": [
       "$\\displaystyle - \\frac{\\sqrt{2} |\\bar{{\\chi}} {\\chi} {\\xi}|}{2} - \\frac{\\sqrt{2} |\\bar{{\\phi}} {\\phi} {\\xi}|}{2}$"
      ],
      "text/plain": [
       "-sqrt(2)*|\\bar{{\\chi}} {\\chi} {\\xi}|/2 - sqrt(2)*|\\bar{{\\phi}} {\\phi} {\\xi}|/2"
      ]
     },
     "metadata": {},
     "output_type": "display_data"
    },
    {
     "data": {
      "text/latex": [
       "$\\displaystyle \\left[\\begin{matrix}t_{2}^{3} & ({}^{1}A_{1}) & {}^{2}T_{2} & - \\frac{1}{2} & {\\phi}\\end{matrix}\\right]$"
      ],
      "text/plain": [
       "Matrix([[t_{2}**3, ({}^{1}A_{1}), {}^{2}T_{2}, -1/2, {\\phi}]])"
      ]
     },
     "metadata": {},
     "output_type": "display_data"
    },
    {
     "data": {
      "text/latex": [
       "$\\displaystyle - \\frac{\\sqrt{2} |\\bar{{\\chi}} {\\chi} \\bar{{\\phi}}|}{2} - \\frac{\\sqrt{2} |\\bar{{\\xi}} {\\xi} \\bar{{\\phi}}|}{2}$"
      ],
      "text/plain": [
       "-sqrt(2)*|\\bar{{\\chi}} {\\chi} \\bar{{\\phi}}|/2 - sqrt(2)*|\\bar{{\\xi}} {\\xi} \\bar{{\\phi}}|/2"
      ]
     },
     "metadata": {},
     "output_type": "display_data"
    },
    {
     "data": {
      "text/latex": [
       "$\\displaystyle \\left[\\begin{matrix}t_{2}^{3} & ({}^{1}A_{1}) & {}^{2}T_{2} & \\frac{1}{2} & {\\phi}\\end{matrix}\\right]$"
      ],
      "text/plain": [
       "Matrix([[t_{2}**3, ({}^{1}A_{1}), {}^{2}T_{2}, 1/2, {\\phi}]])"
      ]
     },
     "metadata": {},
     "output_type": "display_data"
    },
    {
     "data": {
      "text/latex": [
       "$\\displaystyle - \\frac{\\sqrt{2} |\\bar{{\\chi}} {\\chi} {\\phi}|}{2} - \\frac{\\sqrt{2} |\\bar{{\\xi}} {\\xi} {\\phi}|}{2}$"
      ],
      "text/plain": [
       "-sqrt(2)*|\\bar{{\\chi}} {\\chi} {\\phi}|/2 - sqrt(2)*|\\bar{{\\xi}} {\\xi} {\\phi}|/2"
      ]
     },
     "metadata": {},
     "output_type": "display_data"
    },
    {
     "data": {
      "text/latex": [
       "$\\displaystyle \\left[\\begin{matrix}t_{2}^{3} & ({}^{1}A_{1}) & {}^{2}T_{2} & - \\frac{1}{2} & {\\chi}\\end{matrix}\\right]$"
      ],
      "text/plain": [
       "Matrix([[t_{2}**3, ({}^{1}A_{1}), {}^{2}T_{2}, -1/2, {\\chi}]])"
      ]
     },
     "metadata": {},
     "output_type": "display_data"
    },
    {
     "data": {
      "text/latex": [
       "$\\displaystyle - \\frac{\\sqrt{2} |\\bar{{\\phi}} {\\phi} \\bar{{\\chi}}|}{2} - \\frac{\\sqrt{2} |\\bar{{\\xi}} {\\xi} \\bar{{\\chi}}|}{2}$"
      ],
      "text/plain": [
       "-sqrt(2)*|\\bar{{\\phi}} {\\phi} \\bar{{\\chi}}|/2 - sqrt(2)*|\\bar{{\\xi}} {\\xi} \\bar{{\\chi}}|/2"
      ]
     },
     "metadata": {},
     "output_type": "display_data"
    },
    {
     "data": {
      "text/latex": [
       "$\\displaystyle \\left[\\begin{matrix}t_{2}^{3} & ({}^{1}A_{1}) & {}^{2}T_{2} & \\frac{1}{2} & {\\chi}\\end{matrix}\\right]$"
      ],
      "text/plain": [
       "Matrix([[t_{2}**3, ({}^{1}A_{1}), {}^{2}T_{2}, 1/2, {\\chi}]])"
      ]
     },
     "metadata": {},
     "output_type": "display_data"
    },
    {
     "data": {
      "text/latex": [
       "$\\displaystyle - \\frac{\\sqrt{2} |\\bar{{\\phi}} {\\phi} {\\chi}|}{2} - \\frac{\\sqrt{2} |\\bar{{\\xi}} {\\xi} {\\chi}|}{2}$"
      ],
      "text/plain": [
       "-sqrt(2)*|\\bar{{\\phi}} {\\phi} {\\chi}|/2 - sqrt(2)*|\\bar{{\\xi}} {\\xi} {\\chi}|/2"
      ]
     },
     "metadata": {},
     "output_type": "display_data"
    }
   ],
   "source": [
    "for idx, sq in enumerate(supreme_qets):\n",
    "    total_ket_key = (corresponding_waves[idx])\n",
    "    e_config = sp.Symbol(sp.latex(Γ1).lower())*sp.Symbol(sp.latex(Γ2).lower())*sp.Symbol(sp.latex(Γ3).lower())\n",
    "    final_term_symbol = sp.Symbol('{}^{%d}%s' % (total_ket_key[2],sp.latex(total_ket_key[0])))\n",
    "    intermediate_term_symbol = sp.Symbol('{}^{%d}%s' % (int(total_ket_key[-2]*2+1),sp.latex(total_ket_key[-1])))\n",
    "    three_qet_symb = sp.Matrix([e_config, sp.Symbol('(%s)' % sp.latex(intermediate_term_symbol)),final_term_symbol, total_ket_key[3], total_ket_key[1]]).T\n",
    "    display(three_qet_symb)\n",
    "    display(as_det_ket(sq))"
   ]
  },
  {
   "cell_type": "code",
   "execution_count": 130,
   "metadata": {},
   "outputs": [
    {
     "data": {
      "text/html": [
       "<pre>✔️ 3.45 ms (2021-12-12T20:36:28/2021-12-12T20:36:28)</pre>"
      ],
      "text/plain": [
       "<IPython.core.display.HTML object>"
      ]
     },
     "metadata": {},
     "output_type": "display_data"
    },
    {
     "data": {
      "text/plain": [
       "Qet({(\\bar{{\\xi}}, {\\chi}, {\\xi}): -sqrt(2)/2, (\\bar{{\\phi}}, {\\chi}, {\\phi}): -sqrt(2)/2})"
      ]
     },
     "execution_count": 130,
     "metadata": {},
     "output_type": "execute_result"
    }
   ],
   "source": [
    "# bar symbols according to their spin\n",
    "def slater_det(single_electron_state):\n",
    "    spinors = []\n",
    "    for ses in single_electron_state:\n",
    "        if ses[0] < 0:\n",
    "            spinor = sp.Symbol(r'\\bar{%s}' % sp.latex(ses[1]))\n",
    "        else:\n",
    "            spinor = ses[1]\n",
    "        spinors.append(spinor)\n",
    "    # qet_dict = [((spinor[0],spinor[1],spinor[2]),1),\n",
    "    #             (spinor[])]\n",
    "    apply_permutation = lambda σ, iter : (iter[σ[0]], iter[σ[1]], iter[σ[2]])\n",
    "    # find the permutations\n",
    "    σs = list(permutations(range(len(spinors)), len(spinors)))\n",
    "    # apply with their corresponding sign\n",
    "    slater  = ([(apply_permutation(σ, spinors), εijk(*σ)) for σ in σs])\n",
    "    qet = Qet()\n",
    "    for slate in slater:\n",
    "        qet += Qet({slate[0]:slate[1]})\n",
    "    return qet"
   ]
  },
  {
   "cell_type": "code",
   "execution_count": null,
   "metadata": {},
   "outputs": [],
   "source": [
    "total_kets_symmetrized = {}\n",
    "for total_ket_key, ket_parts in simplified_kets.items():\n",
    "    slater_parts = [slater_det(k)*v for k,v in ket_parts.dict.items()]\n",
    "    total_sym = sum(slater_parts, Qet({}))\n",
    "    if len(total_sym.dict) > 0:\n",
    "        total_kets_symmetrized[total_ket_key] = total_sym"
   ]
  }
 ],
 "metadata": {
  "interpreter": {
   "hash": "5ed69564610cdd861a99d06236eab56151da4db3d5eb55442ace689096fe7345"
  },
  "kernelspec": {
   "display_name": "Python 3.8.8 64-bit ('qdef3p8': conda)",
   "language": "python",
   "name": "python3"
  },
  "language_info": {
   "codemirror_mode": {
    "name": "ipython",
    "version": 3
   },
   "file_extension": ".py",
   "mimetype": "text/x-python",
   "name": "python",
   "nbconvert_exporter": "python",
   "pygments_lexer": "ipython3",
   "version": "3.8.8"
  },
  "orig_nbformat": 4
 },
 "nbformat": 4,
 "nbformat_minor": 2
}
