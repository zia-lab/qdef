{
 "cells": [
  {
   "cell_type": "markdown",
   "metadata": {},
   "source": [
    "# Adding Double Group Data"
   ]
  },
  {
   "cell_type": "code",
   "execution_count": 1,
   "metadata": {},
   "outputs": [
    {
     "name": "stdout",
     "output_type": "stream",
     "text": [
      "rm: ./data/CPGs.pkl: No such file or directory\n"
     ]
    }
   ],
   "source": [
    "!rm ./data/CPGs.pkl"
   ]
  },
  {
   "cell_type": "code",
   "execution_count": 2,
   "id": "58cb7e91-c643-452c-a2ef-389225a3a3b7",
   "metadata": {
    "tags": []
   },
   "outputs": [
    {
     "data": {
      "text/html": [
       "<pre>✔️ 2 min 43 s (2021-12-08T18:25:50/2021-12-08T18:28:34)</pre>"
      ],
      "text/plain": [
       "<IPython.core.display.HTML object>"
      ]
     },
     "metadata": {},
     "output_type": "display_data"
    },
    {
     "name": "stdout",
     "output_type": "stream",
     "text": [
      "/Volumes/GoogleDrive/My Drive/Zia Lab/Codebase/qdef/data/CPGs.pkl not found, regenerating ...\n",
      "Parsing C_{1} ...\n",
      "Parsing C_{i} ...\n",
      "Parsing C_{2} ...\n",
      "Parsing C_{s} ...\n",
      "Parsing C_{2h} ...\n",
      "Parsing D_{2} ...\n",
      "Parsing C_{2v} ...\n",
      "Parsing D_{2h} ...\n",
      "Parsing C_{4} ...\n",
      "Parsing S_{4} ...\n",
      "Parsing C_{4h} ...\n",
      "Parsing D_{4} ...\n",
      "Parsing C_{4v} ...\n",
      "Parsing D_{2d} ...\n",
      "Parsing D_{4h} ...\n",
      "Parsing C_{3} ...\n",
      "Parsing S_{6} ...\n",
      "Parsing D_{3} ...\n",
      "Parsing C_{3v} ...\n",
      "Parsing D_{3d} ...\n",
      "Parsing C_{6} ...\n",
      "Parsing C_{3h} ...\n",
      "Parsing C_{6h} ...\n",
      "Parsing D_{6} ...\n",
      "Parsing C_{6v} ...\n",
      "Parsing D_{3h} ...\n",
      "Parsing D_{6h} ...\n",
      "Parsing T ...\n",
      "Parsing T_{h} ...\n",
      "Parsing O ...\n",
      "Parsing T_{d} ...\n",
      "Parsing O_{h} ...\n"
     ]
    }
   ],
   "source": [
    "%load_ext line_profiler\n",
    "%load_ext autoreload\n",
    "# provide cell timings\n",
    "%load_ext autotime\n",
    "# %autoreload 2\n",
    "import sympy as sp\n",
    "import numpy as np\n",
    "%config InlineBackend.figure_format='retina'\n",
    "%config Completer.use_jedi = False\n",
    "from qdef import *\n",
    "from misc import *\n",
    "from IPython.display import display, Math, Latex\n",
    "from joblib import Parallel, delayed\n",
    "import multiprocessing\n",
    "num_cores = multiprocessing.cpu_count()\n",
    "import time"
   ]
  },
  {
   "cell_type": "code",
   "execution_count": 3,
   "metadata": {},
   "outputs": [
    {
     "data": {
      "text/html": [
       "<pre>✔️ 23.5 ms (2021-12-08T18:29:16/2021-12-08T18:29:16)</pre>"
      ],
      "text/plain": [
       "<IPython.core.display.HTML object>"
      ]
     },
     "metadata": {},
     "output_type": "display_data"
    },
    {
     "data": {
      "text/plain": [
       "[A_1, A_2, E]"
      ]
     },
     "execution_count": 3,
     "metadata": {},
     "output_type": "execute_result"
    }
   ],
   "source": [
    "CPGs.get_group_by_label('C_{3v}').irrep_labels"
   ]
  },
  {
   "cell_type": "code",
   "execution_count": 4,
   "metadata": {},
   "outputs": [
    {
     "data": {
      "text/html": [
       "<pre>✔️ 9.41 ms (2021-12-08T18:29:18/2021-12-08T18:29:18)</pre>"
      ],
      "text/plain": [
       "<IPython.core.display.HTML object>"
      ]
     },
     "metadata": {},
     "output_type": "display_data"
    },
    {
     "data": {
      "text/latex": [
       "$\\displaystyle \n",
       "\\newcommand\\T{\\Rule{0pt}{1em}{.3em}}\n",
       "\\begin{array}{|c|c|c|c|c|c|c|}\n",
       "\\hline C_{3v} & \\Gamma^{1} & \\Gamma^{2} & \\Gamma^{3} & \\Gamma^{4} & \\Gamma^{5} & \\Gamma^{6}\\\\\\hline \n",
       "\\Gamma^{1} & \\left[ \\Gamma^{1}\\right] & \\left[ \\Gamma^{2}\\right] & \\left[ \\Gamma^{3}\\right] & \\left[ \\Gamma^{4}\\right] & \\left[ \\Gamma^{5}\\right] & \\left[ \\Gamma^{6}\\right]\\\\\\hline \n",
       "\\Gamma^{2} & \\left[ \\Gamma^{2}\\right] & \\left[ \\Gamma^{4}\\right] & \\left[ \\Gamma^{1}\\right] & \\left[ \\Gamma^{3}\\right] & \\left[ \\Gamma^{6}\\right] & \\left[ \\Gamma^{5}\\right]\\\\\\hline \n",
       "\\Gamma^{3} & \\left[ \\Gamma^{3}\\right] & \\left[ \\Gamma^{1}\\right] & \\left[ \\Gamma^{4}\\right] & \\left[ \\Gamma^{2}\\right] & \\left[ \\Gamma^{6}\\right] & \\left[ \\Gamma^{5}\\right]\\\\\\hline \n",
       "\\Gamma^{4} & \\left[ \\Gamma^{4}\\right] & \\left[ \\Gamma^{3}\\right] & \\left[ \\Gamma^{2}\\right] & \\left[ \\Gamma^{1}\\right] & \\left[ \\Gamma^{5}\\right] & \\left[ \\Gamma^{6}\\right]\\\\\\hline \n",
       "\\Gamma^{5} & \\left[ \\Gamma^{5}\\right] & \\left[ \\Gamma^{6}\\right] & \\left[ \\Gamma^{6}\\right] & \\left[ \\Gamma^{5}\\right] & \\left[ \\Gamma^{1}, \\  \\Gamma^{4}, \\  \\Gamma^{5}\\right] & \\left[ \\Gamma^{2}, \\  \\Gamma^{3}, \\  \\Gamma^{6}\\right]\\\\\\hline \n",
       "\\Gamma^{6} & \\left[ \\Gamma^{6}\\right] & \\left[ \\Gamma^{5}\\right] & \\left[ \\Gamma^{5}\\right] & \\left[ \\Gamma^{6}\\right] & \\left[ \\Gamma^{2}, \\  \\Gamma^{3}, \\  \\Gamma^{6}\\right] & \\left[ \\Gamma^{1}, \\  \\Gamma^{4}, \\  \\Gamma^{5}\\right]\\\\\\hline \n",
       "\\end{array}$"
      ],
      "text/plain": [
       "<IPython.core.display.Math object>"
      ]
     },
     "metadata": {},
     "output_type": "display_data"
    }
   ],
   "source": [
    "display(Math(CPGs.get_group_by_label('C_{3v}').double_product_table.pretty_parse()))"
   ]
  },
  {
   "cell_type": "code",
   "execution_count": 5,
   "metadata": {},
   "outputs": [
    {
     "data": {
      "text/html": [
       "<pre>✔️ 4.22 ms (2021-12-08T18:29:19/2021-12-08T18:29:19)</pre>"
      ],
      "text/plain": [
       "<IPython.core.display.HTML object>"
      ]
     },
     "metadata": {},
     "output_type": "display_data"
    },
    {
     "data": {
      "text/latex": [
       "$\\displaystyle \n",
       "\\newcommand\\T{\\Rule{0pt}{1em}{.3em}}\n",
       "\\begin{array}{|c|c|c|c|}\n",
       "\\hline C_{3v} & A_{1} & A_{2} & E\\\\\\hline \n",
       "A_{1} & \\left[ A_{1}\\right] & \\left[ A_{2}\\right] & \\left[ E\\right]\\\\\\hline \n",
       "A_{2} & \\left[ A_{2}\\right] & \\left[ A_{1}\\right] & \\left[ E\\right]\\\\\\hline \n",
       "E & \\left[ E\\right] & \\left[ E\\right] & \\left[ A_{1}, \\  A_{2}, \\  E\\right]\\\\\\hline \n",
       "\\end{array}$"
      ],
      "text/plain": [
       "<IPython.core.display.Math object>"
      ]
     },
     "metadata": {},
     "output_type": "display_data"
    }
   ],
   "source": [
    "display(Math(CPGs.get_group_by_label('C_{3v}').product_table.pretty_parse()))"
   ]
  },
  {
   "cell_type": "code",
   "execution_count": 4,
   "metadata": {},
   "outputs": [
    {
     "data": {
      "text/html": [
       "<pre>✔️ 146 ms (2021-12-08T18:11:12/2021-12-08T18:11:12)</pre>"
      ],
      "text/plain": [
       "<IPython.core.display.HTML object>"
      ]
     },
     "metadata": {},
     "output_type": "display_data"
    },
    {
     "name": "stdout",
     "output_type": "stream",
     "text": [
      "zsh:1: command not found: beep\n"
     ]
    }
   ],
   "source": [
    "!beep"
   ]
  },
  {
   "cell_type": "markdown",
   "metadata": {},
   "source": [
    "## Fixing the problem with the matrix inversion"
   ]
  },
  {
   "cell_type": "code",
   "execution_count": null,
   "metadata": {},
   "outputs": [
    {
     "data": {
      "text/html": [
       "<pre>✔️ 2.07 ms (2021-12-08T16:16:57/2021-12-08T16:16:57)</pre>"
      ],
      "text/plain": [
       "<IPython.core.display.HTML object>"
      ]
     },
     "metadata": {},
     "output_type": "display_data"
    }
   ],
   "source": [
    "def rational_approx(x, N, min=0):\n",
    "    '''\n",
    "    Given  a number x this function returns a fraction\n",
    "    that approximates it with a denominator that could\n",
    "    be as large as N.\n",
    "    '''\n",
    "    if abs(x) <= min:\n",
    "        return sp.S(0)\n",
    "    if (int(x) == x):\n",
    "        return sp.S(int(x))\n",
    "    sign = 1\n",
    "    if x < 0:\n",
    "        sign = -1\n",
    "        x = -x\n",
    "    if x > 1:\n",
    "        ix, dx = int(x), x - int(x)\n",
    "    else:\n",
    "        ix = 0\n",
    "        dx = x\n",
    "    exponent = -floor(log10(float(dx)))\n",
    "    tens_multiplier = int(exponent-1)\n",
    "    dx = dx*(10**tens_multiplier)\n",
    "    divider = 1/(sp.S(10)**(sp.S(tens_multiplier)))\n",
    "    sign = sign\n",
    "    a, b = 0, 1\n",
    "    c, d = 1, 1\n",
    "    while (b <= N and d <= N):\n",
    "        mediant = float(a+c)/(b+d)\n",
    "        if dx == mediant:\n",
    "            if b + d <= N:\n",
    "                return sign*(sp.S(ix)+divider*sp.S(a+c)/sp.S(b+d))\n",
    "            elif d > b:\n",
    "                return sign*(sp.S(ix)+divider*sp.S(c)/sp.S(d))\n",
    "            else:\n",
    "                return sign*(sp.S(ix)+divider*sp.S(a)/sp.S(b))\n",
    "        elif dx > mediant:\n",
    "            a, b = a+c, b+d\n",
    "        else:\n",
    "            c, d = a+c,b+d\n",
    "    if (b > N):\n",
    "        return sign*(divider*sp.S(c)/sp.S(d) + sp.S(ix))\n",
    "    else:\n",
    "        return sign*(divider*sp.S(a)/sp.S(b) + sp.S(ix))\n",
    "\n",
    "def rational_simplify(sympy_expr, N=10000):\n",
    "    '''\n",
    "    Given a sympy expression this function takes it and\n",
    "    finds rational  approximations (perhaps including a\n",
    "    square root).\n",
    "\n",
    "    Example\n",
    "    -------\n",
    "\n",
    "    >> rational_simplify(2.31099*sp.Symbol('x') - 1.14)\n",
    "    >>> 9 * sqrt(546) * x / 91 - sqrt(130)/10\n",
    "    '''\n",
    "    sympy_dict = sympy_expr.as_coefficients_dict()\n",
    "    for k,v in sympy_dict.items():\n",
    "        if isinstance(v, sp.core.numbers.Float):\n",
    "            n = N\n",
    "            simpler = rational_approx(v, n)\n",
    "            # If the thing was approximated to zero\n",
    "            # escalate the precision.\n",
    "            while simpler == 0:\n",
    "                n = 10*n\n",
    "                simpler = rational_approx(v, n)\n",
    "            sympy_dict[k] = simpler\n",
    "    total = sum([k*v for k,v in sympy_dict.items()])\n",
    "    return total\n",
    "\n",
    "def square_rational_approx(x, N,min=0):\n",
    "    '''\n",
    "    Given a number x this algorithm finds the best  rational\n",
    "    approximation to its square, and then returns the signed\n",
    "    square root of that.\n",
    "    '''\n",
    "    if x < 0:\n",
    "        sign = -1\n",
    "        x = -x\n",
    "    else:\n",
    "        sign = 1\n",
    "    y = x*x\n",
    "    squared_approx = sign*sp.sqrt(rational_approx(y,N,min))\n",
    "    normal_approx = sign*rational_approx(x,N*2,min)\n",
    "    d1 = abs(x-squared_approx)\n",
    "    d2 = abs(x-normal_approx)\n",
    "    return squared_approx\n",
    "    if d1 < d2:\n",
    "        return squared_approx\n",
    "    else:\n",
    "        return normal_approx\n",
    "\n",
    "def double_group_matrix_inverse(double_group_chartable, group_label):\n",
    "    if group_label == 'O_{h}':\n",
    "        N = 10000\n",
    "    else:\n",
    "        N = 1000\n",
    "    chartable = double_group_chartable.T\n",
    "    num_rows = chartable.rows\n",
    "    num_cols = chartable.cols\n",
    "    chararray = np.array(chartable).astype(np.complex128)\n",
    "    chararrayinverse = np.linalg.inv(chararray)\n",
    "    charinverse = sp.N(sp.Matrix(chararrayinverse),chop=True)\n",
    "    simple_inverse = []\n",
    "    num_rows = charinverse.rows\n",
    "    num_cols = charinverse.cols\n",
    "    for row_idx in range(num_rows):\n",
    "        row = [sp.I*square_rational_approx(sp.im(charinverse[row_idx,col_idx]),N,1e-6) + square_rational_approx(sp.re(charinverse[row_idx,col_idx]),N,1e-6) for col_idx in range(num_cols)]\n",
    "        simple_inverse.append(row)\n",
    "    simple_inverse = sp.Matrix(simple_inverse)\n",
    "    check = simple_inverse*chartable\n",
    "    check = sp.re(check) + sp.I * sp.im(check)\n",
    "    check = sp.N(check, chop=True)\n",
    "    elements = (set(list(check)))\n",
    "    unit_check = (len(elements) == min(2, num_rows) and (list(sorted(list(elements))) == [0,1]))\n",
    "    if not unit_check:\n",
    "        print(\"ERROR in matrix inversion\")\n",
    "        break\n",
    "    return simple_inverse"
   ]
  },
  {
   "cell_type": "code",
   "execution_count": null,
   "metadata": {},
   "outputs": [],
   "source": [
    "inverse_matrices = {}\n",
    "for group_label in CPGs.all_group_labels:\n",
    "    if group_label == 'O_{h}':\n",
    "        N = 10000\n",
    "    else:\n",
    "        N = 1000\n",
    "    print(group_label)\n",
    "    chartable = CPGs.get_group_by_label(group_label).double_character_table.T\n",
    "    num_rows = chartable.rows\n",
    "    num_cols = chartable.cols\n",
    "    chararray = np.array(chartable).astype(np.complex128)\n",
    "    chararrayinverse = np.linalg.inv(chararray)\n",
    "    charinverse = sp.N(sp.Matrix(chararrayinverse),chop=True)\n",
    "    simple_inverse = []\n",
    "    num_rows = charinverse.rows\n",
    "    num_cols = charinverse.cols\n",
    "    for row_idx in range(num_rows):\n",
    "        row = [sp.I*square_rational_approx(sp.im(charinverse[row_idx,col_idx]),N,1e-6) + square_rational_approx(sp.re(charinverse[row_idx,col_idx]),N,1e-6) for col_idx in range(num_cols)]\n",
    "        simple_inverse.append(row)\n",
    "    simple_inverse = sp.Matrix(simple_inverse)\n",
    "    check = simple_inverse*chartable\n",
    "    check = sp.re(check) + sp.I * sp.im(check)\n",
    "    check = sp.N(check, chop=True)\n",
    "    elements = (set(list(check)))\n",
    "    unit_check = (len(elements) == min(2, num_rows) and (list(sorted(list(elements))) == [0,1]))\n",
    "    if not unit_check:\n",
    "        print(\"ERROR in matrix inversion\")\n",
    "        break\n",
    "    inverse_matrices[group_label] = simple_inverse\n",
    "    "
   ]
  },
  {
   "cell_type": "markdown",
   "metadata": {},
   "source": []
  }
 ],
 "metadata": {
  "interpreter": {
   "hash": "5ed69564610cdd861a99d06236eab56151da4db3d5eb55442ace689096fe7345"
  },
  "kernelspec": {
   "display_name": "Python 3.8.8 64-bit ('qdef3p8': conda)",
   "language": "python",
   "name": "python3"
  },
  "language_info": {
   "codemirror_mode": {
    "name": "ipython",
    "version": 3
   },
   "file_extension": ".py",
   "mimetype": "text/x-python",
   "name": "python",
   "nbconvert_exporter": "python",
   "pygments_lexer": "ipython3",
   "version": "3.8.8"
  },
  "orig_nbformat": 4
 },
 "nbformat": 4,
 "nbformat_minor": 2
}
