{
 "cells": [
  {
   "cell_type": "markdown",
   "id": "ef2dae4a-63f7-4a9a-b58a-5e6b6543f104",
   "metadata": {},
   "source": [
    "## Parsing radial averages from the \"Handbook of Atomic Data\""
   ]
  },
  {
   "cell_type": "code",
   "execution_count": 2,
   "id": "2cc53753-cc36-4bae-89bd-2eb266ff0524",
   "metadata": {
    "execution": {
     "iopub.execute_input": "2021-10-21T18:36:19.890017Z",
     "iopub.status.busy": "2021-10-21T18:36:19.889565Z",
     "iopub.status.idle": "2021-10-21T18:36:19.908940Z",
     "shell.execute_reply": "2021-10-21T18:36:19.908281Z",
     "shell.execute_reply.started": "2021-10-21T18:36:19.889973Z"
    },
    "tags": []
   },
   "outputs": [],
   "source": [
    "# %load_ext autoreload\n",
    "# # provide cell timings\n",
    "# %load_ext autotime\n",
    "# %autoreload 2\n",
    "import sympy as sp\n",
    "import numpy as np\n",
    "import pandas as pd\n",
    "# from sympy import poly, lambdify\n",
    "from IPython.display import display, Math\n",
    "# %config InlineBackend.figure_format='retina'\n",
    "%config Completer.use_jedi = False\n",
    "from itertools import product\n",
    "from matplotlib import pyplot as plt\n",
    "%matplotlib widget\n",
    "from pyperclip import copy as pypercopy\n",
    "import os, pickle"
   ]
  },
  {
   "cell_type": "code",
   "execution_count": 8,
   "id": "7745520b-78a9-42b9-a789-15f96f6dafbd",
   "metadata": {
    "execution": {
     "iopub.execute_input": "2021-10-21T18:37:04.723471Z",
     "iopub.status.busy": "2021-10-21T18:37:04.723130Z",
     "iopub.status.idle": "2021-10-21T18:37:04.746059Z",
     "shell.execute_reply": "2021-10-21T18:37:04.744805Z",
     "shell.execute_reply.started": "2021-10-21T18:37:04.723435Z"
    },
    "tags": []
   },
   "outputs": [],
   "source": [
    "conversion_factors = pickle.load(open(os.path.join(module_dir,'data','conversion_facts.pkl'),'rb'))"
   ]
  },
  {
   "cell_type": "code",
   "execution_count": 743,
   "id": "219a687a-1729-4403-8539-1eb4dae6159f",
   "metadata": {
    "execution": {
     "iopub.execute_input": "2021-10-06T19:56:44.491472Z",
     "iopub.status.busy": "2021-10-06T19:56:44.490205Z",
     "iopub.status.idle": "2021-10-06T19:56:44.575087Z",
     "shell.execute_reply": "2021-10-06T19:56:44.574556Z",
     "shell.execute_reply.started": "2021-10-06T19:56:44.491390Z"
    },
    "tags": []
   },
   "outputs": [],
   "source": [
    "radialavgs = pd.read_excel(\"/Users/juan/Google Drive/Zia Lab/Codebase/qdef/data/HF radial averages.xlsx\",None)\n",
    "metadata = radialavgs['Preamble']\n",
    "radialavgs = {k:radialavgs[k][['Atom','II','III','IV']] for k in ['r^2','r^4','r^6']}\n",
    "# conversion from atomic units to A^2, A^4, and A^6\n",
    "for k in ['r^2','r^4','r^6']:\n",
    "    power = int(k.split('^')[-1])\n",
    "    scaler = conversion_factors[('a_{0}','Å')]**power\n",
    "    for ionstate in 'II III IV'.split(' '):\n",
    "        radialavgs[k][ionstate] = radialavgs[k][ionstate]*scaler\n",
    "        radialavgs[k][ionstate] = radialavgs[k][ionstate].apply(lambda x: sigrounder(x,5))\n",
    "    radialavgs[k].set_index('Atom',inplace=True)\n",
    "HFradavg = {}\n",
    "HFradavg['<r^2>'] = radialavgs['r^2']\n",
    "HFradavg['<r^2>'].metadata = str(metadata.iloc[0]['preamble']) + '\\n Units were changed from atomic units to A^2.'\n",
    "HFradavg['<r^4>'] = radialavgs['r^4']\n",
    "HFradavg['<r^4>'].metadata = str(metadata.iloc[1]['preamble']) + '\\n Units were changed from atomic units to A^4.'\n",
    "HFradavg['<r^6>'] = radialavgs['r^6']\n",
    "HFradavg['<r^6>'].metadata = str(metadata.iloc[2]['preamble']) + '\\n Units were changed from atomic units to A^6.'"
   ]
  },
  {
   "cell_type": "code",
   "execution_count": 377,
   "id": "8b5dd572-f49e-4e62-bbc1-cd72177e42cc",
   "metadata": {
    "execution": {
     "iopub.execute_input": "2021-10-05T18:39:37.094835Z",
     "iopub.status.busy": "2021-10-05T18:39:37.093720Z",
     "iopub.status.idle": "2021-10-05T18:39:37.115904Z",
     "shell.execute_reply": "2021-10-05T18:39:37.113798Z",
     "shell.execute_reply.started": "2021-10-05T18:39:37.094776Z"
    }
   },
   "outputs": [],
   "source": [
    "# pickle.dump(HFradavg, open('/Users/juan/Google Drive/Zia Lab/Codebase/qdef/data/HFravgs.pkl','wb'))"
   ]
  },
  {
   "cell_type": "code",
   "execution_count": 363,
   "id": "27c74bbc-5f14-45e9-9cd8-80d37a19fa33",
   "metadata": {
    "execution": {
     "iopub.execute_input": "2021-10-05T18:25:53.309762Z",
     "iopub.status.busy": "2021-10-05T18:25:53.309384Z",
     "iopub.status.idle": "2021-10-05T18:25:53.320597Z",
     "shell.execute_reply": "2021-10-05T18:25:53.319548Z",
     "shell.execute_reply.started": "2021-10-05T18:25:53.309725Z"
    },
    "tags": []
   },
   "outputs": [],
   "source": [
    "class HartreeFock():\n",
    "    def __init__(self):\n",
    "        self.HFradavg = HFradavg\n",
    "        self.ArabicToRoman = dict(zip(range(1,11),'I II III IV V VI VII VIII IX X'.split(' ')))\n",
    "        self.num_to_symb  = pickle.load(open(os.path.join('/Users/juan/Google Drive/Zia Lab/Codebase/qdef','data','num_to_symb.pkl'),'rb'))\n",
    "    def radial_average(self, element, charge_state, n):\n",
    "        '''\n",
    "        Returns the radial average <r^n> for the given element \n",
    "        and charge state (n=0 neutral, n=1 singly ionized, ...).\n",
    "        The element can be given either as its atomic number\n",
    "        or by its symbol.\n",
    "        Data is taken from Fraga's et al Handbook of Atomic Data.\n",
    "        If the information is not known, function returns None.\n",
    "        The unit for the provided radial average is Angstrom^n.\n",
    "        '''\n",
    "        charge_state = self.ArabicToRoman[charge_state+1]\n",
    "        if isinstance(element, int):\n",
    "            element = self.num_to_symb[element]\n",
    "        try:\n",
    "            return float(HFradavg['<r^%d>' % n].loc[[element]][charge_state])\n",
    "        except:\n",
    "            return None"
   ]
  },
  {
   "cell_type": "code",
   "execution_count": 364,
   "id": "69cb80b1-ba2c-41d3-a769-b4711723df73",
   "metadata": {
    "execution": {
     "iopub.execute_input": "2021-10-05T18:25:53.584182Z",
     "iopub.status.busy": "2021-10-05T18:25:53.583799Z",
     "iopub.status.idle": "2021-10-05T18:25:53.590243Z",
     "shell.execute_reply": "2021-10-05T18:25:53.588861Z",
     "shell.execute_reply.started": "2021-10-05T18:25:53.584144Z"
    },
    "tags": []
   },
   "outputs": [],
   "source": [
    "hf = HartreeFock()"
   ]
  },
  {
   "cell_type": "code",
   "execution_count": 347,
   "id": "111ac259-2eb8-4499-85e9-9b07f464f35d",
   "metadata": {
    "execution": {
     "iopub.execute_input": "2021-10-05T18:17:13.050841Z",
     "iopub.status.busy": "2021-10-05T18:17:13.050456Z",
     "iopub.status.idle": "2021-10-05T18:17:24.280848Z",
     "shell.execute_reply": "2021-10-05T18:17:24.280539Z",
     "shell.execute_reply.started": "2021-10-05T18:17:13.050803Z"
    },
    "tags": []
   },
   "outputs": [
    {
     "name": "stdout",
     "output_type": "stream",
     "text": [
      "138 µs ± 318 ns per loop (mean ± std. dev. of 7 runs, 10000 loops each)\n"
     ]
    }
   ],
   "source": [
    "%%timeit\n",
    "hf.radial_averages('UU',1,2)"
   ]
  },
  {
   "cell_type": "code",
   "execution_count": 359,
   "id": "583daae9-a3cd-43ff-8e21-723f7b3e0b8b",
   "metadata": {
    "execution": {
     "iopub.execute_input": "2021-10-05T18:25:21.552166Z",
     "iopub.status.busy": "2021-10-05T18:25:21.551757Z",
     "iopub.status.idle": "2021-10-05T18:25:21.560619Z",
     "shell.execute_reply": "2021-10-05T18:25:21.559288Z",
     "shell.execute_reply.started": "2021-10-05T18:25:21.552122Z"
    },
    "tags": []
   },
   "outputs": [
    {
     "data": {
      "text/plain": [
       "0.32497"
      ]
     },
     "execution_count": 359,
     "metadata": {},
     "output_type": "execute_result"
    }
   ],
   "source": [
    "hf.radial_average('Eu',1,2)"
   ]
  },
  {
   "cell_type": "code",
   "execution_count": 365,
   "id": "237c293d-bea4-44d4-ba53-fb25caccf041",
   "metadata": {
    "execution": {
     "iopub.execute_input": "2021-10-05T18:25:55.346396Z",
     "iopub.status.busy": "2021-10-05T18:25:55.345937Z",
     "iopub.status.idle": "2021-10-05T18:25:55.358905Z",
     "shell.execute_reply": "2021-10-05T18:25:55.357678Z",
     "shell.execute_reply.started": "2021-10-05T18:25:55.346331Z"
    },
    "tags": []
   },
   "outputs": [
    {
     "data": {
      "text/plain": [
       "0.32497"
      ]
     },
     "execution_count": 365,
     "metadata": {},
     "output_type": "execute_result"
    }
   ],
   "source": [
    "hf.radial_average(63,1,2)"
   ]
  },
  {
   "cell_type": "code",
   "execution_count": 469,
   "id": "a1ac98c6-61db-4876-8d7d-98d06dd2125d",
   "metadata": {
    "execution": {
     "iopub.execute_input": "2021-10-05T21:32:25.610357Z",
     "iopub.status.busy": "2021-10-05T21:32:25.609532Z",
     "iopub.status.idle": "2021-10-05T21:32:25.667121Z",
     "shell.execute_reply": "2021-10-05T21:32:25.665784Z",
     "shell.execute_reply.started": "2021-10-05T21:32:25.610233Z"
    },
    "tags": []
   },
   "outputs": [],
   "source": [
    "atomsizes = pd.read_excel(\"/Users/juan/Google Drive/Zia Lab/Codebase/qdef/data/HFradii.xlsx\",None)['Sheet1']\n",
    "atomsizes.set_index(['Element'],inplace=True)\n",
    "atomsizes.fillna(np.nan, inplace=True)\n",
    "pickle.dump(atomsizes, \n",
    "            open('/Users/juan/Google Drive/Zia Lab/Codebase/qdef/data/HFsizes.pkl','wb'))"
   ]
  },
  {
   "cell_type": "code",
   "execution_count": null,
   "id": "5da1ba82-bd19-4710-99c4-8f1e03135d5c",
   "metadata": {},
   "outputs": [],
   "source": [
    "metadata = radialavgs['Preamble']\n",
    "radialavgs = {k:radialavgs[k][['Atom','II','III','IV']] for k in ['r^2','r^4','r^6']}\n",
    "# conversion from atomic units to A^2, A^4, and A^6\n",
    "for k in ['r^2','r^4','r^6']:\n",
    "    power = int(k.split('^')[-1])\n",
    "    scaler = conversion_factors[('a0','A')]**power\n",
    "    for ionstate in 'II III IV'.split(' '):\n",
    "        radialavgs[k][ionstate] = radialavgs[k][ionstate]*scaler\n",
    "        radialavgs[k][ionstate] = radialavgs[k][ionstate].apply(lambda x: sigrounder(x,5))\n",
    "    radialavgs[k].set_index('Atom',inplace=True)\n",
    "HFradavg = {}\n",
    "HFradavg['<r^2>'] = radialavgs['r^2']\n",
    "HFradavg['<r^2>'].metadata = str(metadata.iloc[0]['preamble']) + '\\n Units were changed from atomic units to A^2.'\n",
    "HFradavg['<r^4>'] = radialavgs['r^4']\n",
    "HFradavg['<r^4>'].metadata = str(metadata.iloc[1]['preamble']) + '\\n Units were changed from atomic units to A^4.'\n",
    "HFradavg['<r^6>'] = radialavgs['r^6']\n",
    "HFradavg['<r^6>'].metadata = str(metadata.iloc[2]['preamble']) + '\\n Units were changed from atomic units to A^6.'"
   ]
  },
  {
   "cell_type": "code",
   "execution_count": 472,
   "id": "4ab6c943-9234-4ff4-b239-1961b076e2ec",
   "metadata": {
    "execution": {
     "iopub.execute_input": "2021-10-05T21:32:31.263143Z",
     "iopub.status.busy": "2021-10-05T21:32:31.262770Z",
     "iopub.status.idle": "2021-10-05T21:32:31.267123Z",
     "shell.execute_reply": "2021-10-05T21:32:31.266048Z",
     "shell.execute_reply.started": "2021-10-05T21:32:31.263106Z"
    },
    "tags": []
   },
   "outputs": [],
   "source": [
    "from matplotlib import pyplot as plt"
   ]
  },
  {
   "cell_type": "code",
   "execution_count": 434,
   "id": "90e9c966-caeb-4c95-ba59-1f63a2b6356b",
   "metadata": {
    "execution": {
     "iopub.execute_input": "2021-10-05T21:17:57.068160Z",
     "iopub.status.busy": "2021-10-05T21:17:57.067004Z",
     "iopub.status.idle": "2021-10-05T21:17:57.080676Z",
     "shell.execute_reply": "2021-10-05T21:17:57.078917Z",
     "shell.execute_reply.started": "2021-10-05T21:17:57.068091Z"
    }
   },
   "outputs": [],
   "source": [
    "module_dir = '/Users/juan/Google Drive/Zia Lab/Codebase/qdef'"
   ]
  },
  {
   "cell_type": "code",
   "execution_count": 436,
   "id": "b565fb64-be4c-4734-8d86-8a4877f780e0",
   "metadata": {
    "execution": {
     "iopub.execute_input": "2021-10-05T21:18:22.565175Z",
     "iopub.status.busy": "2021-10-05T21:18:22.564779Z",
     "iopub.status.idle": "2021-10-05T21:18:22.570356Z",
     "shell.execute_reply": "2021-10-05T21:18:22.569398Z",
     "shell.execute_reply.started": "2021-10-05T21:18:22.565134Z"
    }
   },
   "outputs": [],
   "source": [
    "num_to_symb  = pickle.load(open(os.path.join(module_dir,'data','num_to_symb.pkl'),'rb'))"
   ]
  },
  {
   "cell_type": "code",
   "execution_count": 488,
   "id": "cb2daec5-e14e-4f1c-b5eb-3f356e287da2",
   "metadata": {
    "execution": {
     "iopub.execute_input": "2021-10-05T21:38:54.254104Z",
     "iopub.status.busy": "2021-10-05T21:38:54.253557Z",
     "iopub.status.idle": "2021-10-05T21:38:54.279647Z",
     "shell.execute_reply": "2021-10-05T21:38:54.278729Z",
     "shell.execute_reply.started": "2021-10-05T21:38:54.254057Z"
    },
    "tags": []
   },
   "outputs": [],
   "source": [
    "class HartreeFockData():\n",
    "    '''\n",
    "    Repo of data from the land of Hartree-Fock.\n",
    "    '''\n",
    "    HFradavg = pickle.load(open(os.path.join(module_dir,'data','HFravgs.pkl'),'rb'))\n",
    "    ArabicToRoman = dict(zip(range(1,36),['I','II','III','IV','V','VI','VII','VIII','IX','X','XI','XII','XIII','XIV','XV','XVI','XVII','XVIII','XIX','XX','XXI','XXII','XXIII','XXIV','XXV','XXVI','XXVII','XXVIII','XXIX','XXX','XXXI','XXXII','XXXIII','XXXIV','XXXV']))\n",
    "    num_to_symb  = num_to_symb\n",
    "    HFsizes = pickle.load(open(os.path.join(module_dir,'data','HFsizes.pkl'),'rb'))\n",
    "    @classmethod\n",
    "    def radial_average(cls, element, charge_state, n):\n",
    "        '''\n",
    "        Returns the radial average <r^n> for a valence electron\n",
    "        for the given element\n",
    "        and charge state (n=0 neutral, n=1 singly ionized, ...)\n",
    "        within the limitations of Hartree-Fock.\n",
    "        The element can be given either as its atomic number\n",
    "        or by its symbol.\n",
    "        Data is taken from Fraga's et al Handbook of Atomic Data.\n",
    "        The unit for the provided radial average is Angstrom^n.\n",
    "        Provided data has 5 significant figures.\n",
    "        '''\n",
    "        charge_state = int(charge_state)\n",
    "        assert charge_state >= 0, \"What odd ion state you speak of?\"\n",
    "        charge_state = cls.ArabicToRoman[charge_state+1]\n",
    "        if isinstance(element, int):\n",
    "            element = cls.num_to_symb[element]\n",
    "        try:\n",
    "            return float(cls.HFradavg['<r^%d>' % n].loc[[element]][charge_state])\n",
    "        except:\n",
    "            raise ValueError('This radial average is not here.')\n",
    "    @classmethod\n",
    "    def atom_size(cls, element, charge_state):\n",
    "        '''\n",
    "        Size of given element with given charge.\n",
    "        Given in Angstrom.\n",
    "        '''\n",
    "        if isinstance(element, int):\n",
    "            element = cls.num_to_symb[element]\n",
    "        charge_state = cls.ArabicToRoman[charge_state+1]\n",
    "        return float(cls.HFsizes.loc[[element]][charge_state])"
   ]
  },
  {
   "cell_type": "code",
   "execution_count": 492,
   "id": "a6887eb4-6a09-4090-8fb4-7705301ba7fd",
   "metadata": {
    "execution": {
     "iopub.execute_input": "2021-10-05T21:39:15.819870Z",
     "iopub.status.busy": "2021-10-05T21:39:15.819526Z",
     "iopub.status.idle": "2021-10-05T21:39:16.504921Z",
     "shell.execute_reply": "2021-10-05T21:39:16.504466Z",
     "shell.execute_reply.started": "2021-10-05T21:39:15.819834Z"
    },
    "tags": []
   },
   "outputs": [
    {
     "data": {
      "application/vnd.jupyter.widget-view+json": {
       "model_id": "835d7ef5cb5d4bcebcdfb8a0f32e3670",
       "version_major": 2,
       "version_minor": 0
      },
      "text/plain": [
       "Canvas(toolbar=Toolbar(toolitems=[('Home', 'Reset original view', 'home', 'home'), ('Back', 'Back to previous …"
      ]
     },
     "metadata": {},
     "output_type": "display_data"
    }
   ],
   "source": [
    "plt.figure()\n",
    "Zs = list(range(1,102))\n",
    "for j in range(35):\n",
    "    sizes = [HartreeFockData.atom_size(i,j) for i in Zs]\n",
    "    plt.plot(Zs,sizes,label=j)\n",
    "plt.legend()\n",
    "plt.show()"
   ]
  },
  {
   "cell_type": "markdown",
   "id": "2cb0ed4b-aebe-40df-9176-2705657f58fd",
   "metadata": {},
   "source": [
    "# Unit network (DEPRECATED - edit unitexpander.py instead)"
   ]
  },
  {
   "cell_type": "code",
   "execution_count": 635,
   "id": "08211fec-58f3-4b83-89dc-b1c38107dfed",
   "metadata": {
    "execution": {
     "iopub.execute_input": "2021-10-06T18:48:00.300816Z",
     "iopub.status.busy": "2021-10-06T18:48:00.299453Z",
     "iopub.status.idle": "2021-10-06T18:48:00.316443Z",
     "shell.execute_reply": "2021-10-06T18:48:00.314945Z",
     "shell.execute_reply.started": "2021-10-06T18:48:00.300735Z"
    }
   },
   "outputs": [],
   "source": [
    "import networkx as nx\n",
    "import sympy as sp\n",
    "from matplotlib import pyplot as plt"
   ]
  },
  {
   "cell_type": "code",
   "execution_count": 519,
   "id": "e099f94e-14bd-4e53-a723-630a6c5f97a0",
   "metadata": {
    "execution": {
     "iopub.execute_input": "2021-10-06T13:51:03.506997Z",
     "iopub.status.busy": "2021-10-06T13:51:03.505193Z",
     "iopub.status.idle": "2021-10-06T13:51:03.972157Z",
     "shell.execute_reply": "2021-10-06T13:51:03.971837Z",
     "shell.execute_reply.started": "2021-10-06T13:51:03.506881Z"
    },
    "tags": []
   },
   "outputs": [
    {
     "name": "stdout",
     "output_type": "stream",
     "text": [
      "8.83 ms ± 1.99 ms per loop (mean ± std. dev. of 7 runs, 4 loops each)\n"
     ]
    }
   ],
   "source": [
    "%%timeit -n 4\n",
    "conversions = pd.read_excel(\"/Users/juan/Google Drive/Zia Lab/Codebase/qdef/data/ConversionFactors.xlsx\",None)\n",
    "conversion_facts = {}\n",
    "for conversion_type in conversions:\n",
    "    these_factors = conversions[conversion_type]\n",
    "    these_dict = dict(zip(list(map(tuple,these_factors[['Source','Destination']].values.tolist())),\n",
    "          list(map(lambda x: x[0],these_factors[['Factor']].values.tolist()))))\n",
    "    conversion_facts.update(these_dict)"
   ]
  },
  {
   "cell_type": "code",
   "execution_count": 715,
   "id": "7fb0218b-64a7-44b8-b62b-ee3749b7174f",
   "metadata": {
    "execution": {
     "iopub.execute_input": "2021-10-06T19:16:28.839339Z",
     "iopub.status.busy": "2021-10-06T19:16:28.838990Z",
     "iopub.status.idle": "2021-10-06T19:16:28.844416Z",
     "shell.execute_reply": "2021-10-06T19:16:28.843526Z",
     "shell.execute_reply.started": "2021-10-06T19:16:28.839303Z"
    },
    "tags": []
   },
   "outputs": [],
   "source": [
    "conversions = pd.read_excel(os.path.join(module_dir,'data','ConversionFactors.xlsx'),None)\n",
    "conversion_facts = {}\n",
    "for conversion_type in conversions:\n",
    "    these_factors = conversions[conversion_type]\n",
    "    these_dict = dict(zip(list(map(tuple,these_factors[['Source','Destination']].values.tolist())),\n",
    "          list(map(lambda x: x[0],these_factors[['Factor']].values.tolist()))))\n",
    "    conversion_facts.update(these_dict)\n",
    "cfacts = conversion_facts\n",
    "unitgraph = nx.DiGraph()\n",
    "allunits = set()\n",
    "for k,v in cfacts.items():\n",
    "    unitgraph.add_node(k[0])\n",
    "    unitgraph.add_node(k[1])\n",
    "    v = sp.S(v)\n",
    "    unitgraph.add_weighted_edges_from([(k[0],k[1],v)])\n",
    "    unitgraph.add_weighted_edges_from([(k[1],k[0],1/v)])\n",
    "    allunits.add(k[0])\n",
    "    allunits.add(k[1])\n",
    "allunits = list(allunits)\n",
    "allpairs = list(combinations(allunits,2))\n",
    "for pair in allpairs:\n",
    "    try:\n",
    "        path = nx.shortest_path(unitgraph,*pair)\n",
    "    except:\n",
    "        path = []\n",
    "    if len(path) == 0:\n",
    "        continue\n",
    "    fromto = (path[0],path[-1])\n",
    "    backto = (path[-1], path[0])\n",
    "    total_factor = sp.S(1)\n",
    "    for node_idx in range(len(path)-1):\n",
    "        nodeA = path[node_idx]\n",
    "        nodeB = path[node_idx+1]\n",
    "        total_factor *= unitgraph[nodeA][nodeB]['weight']\n",
    "    if fromto not in cfacts.keys():\n",
    "        cfacts[fromto] = float(total_factor)\n",
    "    if backto not in cfacts.keys():\n",
    "        cfacts[backto] = float(1/total_factor)\n",
    "for k,v in cfacts.items():\n",
    "    unitgraph.add_node(k[0])\n",
    "    unitgraph.add_node(k[1])\n",
    "    v = sp.S(v)\n",
    "    unitgraph.add_weighted_edges_from([(k[0],k[1],v)])\n",
    "    unitgraph.add_weighted_edges_from([(k[1],k[0],1/v)])"
   ]
  },
  {
   "cell_type": "code",
   "execution_count": 725,
   "id": "de745db7-982c-4ee6-b672-12d410fde833",
   "metadata": {
    "execution": {
     "iopub.execute_input": "2021-10-06T19:21:56.296530Z",
     "iopub.status.busy": "2021-10-06T19:21:56.296127Z",
     "iopub.status.idle": "2021-10-06T19:21:56.310581Z",
     "shell.execute_reply": "2021-10-06T19:21:56.309538Z",
     "shell.execute_reply.started": "2021-10-06T19:21:56.296492Z"
    }
   },
   "outputs": [],
   "source": [
    "pickle.dump(cfacts,open(os.path.join(module_dir,'data','conversion_facts.pkl'),'wb'))"
   ]
  },
  {
   "cell_type": "code",
   "execution_count": 721,
   "id": "0a0796fd-a908-48cd-8d0d-8cd2f2dfe7f2",
   "metadata": {
    "execution": {
     "iopub.execute_input": "2021-10-06T19:18:23.440311Z",
     "iopub.status.busy": "2021-10-06T19:18:23.439907Z",
     "iopub.status.idle": "2021-10-06T19:18:23.514931Z",
     "shell.execute_reply": "2021-10-06T19:18:23.514329Z",
     "shell.execute_reply.started": "2021-10-06T19:18:23.440270Z"
    },
    "tags": []
   },
   "outputs": [],
   "source": [
    "# Script version\n",
    "# from itertools import combinations\n",
    "# import pandas as pd\n",
    "# import networkx as nx\n",
    "# import os\n",
    "# import pickle\n",
    "\n",
    "# def main():\n",
    "#     if os.path.exists('./conversion_facts.pkl'):\n",
    "#         print(\"conversion_facts.pkl already exists, delete if you want to generate it again.\")\n",
    "#         return None\n",
    "#     conversions = pd.read_excel(os.path.join(module_dir,'data','ConversionFactors.xlsx'),None)\n",
    "#     conversion_facts = {}\n",
    "#     for conversion_type in conversions:\n",
    "#         these_factors = conversions[conversion_type]\n",
    "#         these_dict = dict(zip(list(map(tuple,these_factors[['Source','Destination']].values.tolist())),\n",
    "#               list(map(lambda x: x[0],these_factors[['Factor']].values.tolist()))))\n",
    "#         conversion_facts.update(these_dict)\n",
    "#     cfacts = conversion_facts\n",
    "#     unitgraph = nx.DiGraph()\n",
    "#     allunits = set()\n",
    "#     for k,v in cfacts.items():\n",
    "#         unitgraph.add_node(k[0])\n",
    "#         unitgraph.add_node(k[1])\n",
    "#         v = sp.S(v)\n",
    "#         unitgraph.add_weighted_edges_from([(k[0],k[1],v)])\n",
    "#         unitgraph.add_weighted_edges_from([(k[1],k[0],1/v)])\n",
    "#         allunits.add(k[0])\n",
    "#         allunits.add(k[1])\n",
    "#     allunits = list(allunits)\n",
    "#     allpairs = list(combinations(allunits,2))\n",
    "#     for pair in allpairs:\n",
    "#         try:\n",
    "#             path = nx.shortest_path(unitgraph,*pair)\n",
    "#         except:\n",
    "#             path = []\n",
    "#         if len(path) == 0:\n",
    "#             continue\n",
    "#         fromto = (path[0],path[-1])\n",
    "#         backto = (path[-1], path[0])\n",
    "#         total_factor = sp.S(1)\n",
    "#         for node_idx in range(len(path)-1):\n",
    "#             nodeA = path[node_idx]\n",
    "#             nodeB = path[node_idx+1]\n",
    "#             total_factor *= unitgraph[nodeA][nodeB]['weight']\n",
    "#         if fromto not in cfacts.keys():\n",
    "#             cfacts[fromto] = float(total_factor)\n",
    "#         if backto not in cfacts.keys():\n",
    "#             cfacts[backto] = float(1/total_factor)\n",
    "#     for k,v in cfacts.items():\n",
    "#         unitgraph.add_node(k[0])\n",
    "#         unitgraph.add_node(k[1])\n",
    "#         v = sp.S(v)\n",
    "#         unitgraph.add_weighted_edges_from([(k[0],k[1],v)])\n",
    "#         unitgraph.add_weighted_edges_from([(k[1],k[0],1/v)])\n",
    "#     pickle.dump(cfacts,open('./conversion_facts.pkl','wb'))\n",
    "#     return None\n",
    "# if __name__ == '__main__':\n",
    "#     main()"
   ]
  },
  {
   "cell_type": "code",
   "execution_count": 739,
   "id": "92133083-53c7-4928-b226-aecf8fc648ef",
   "metadata": {
    "execution": {
     "iopub.execute_input": "2021-10-06T19:52:55.464921Z",
     "iopub.status.busy": "2021-10-06T19:52:55.464533Z",
     "iopub.status.idle": "2021-10-06T19:52:55.953603Z",
     "shell.execute_reply": "2021-10-06T19:52:55.952701Z",
     "shell.execute_reply.started": "2021-10-06T19:52:55.464862Z"
    },
    "tags": []
   },
   "outputs": [
    {
     "data": {
      "application/vnd.jupyter.widget-view+json": {
       "model_id": "a743173f43fc4eac87e82c20cf7eece4",
       "version_major": 2,
       "version_minor": 0
      },
      "text/plain": [
       "Canvas(toolbar=Toolbar(toolitems=[('Home', 'Reset original view', 'home', 'home'), ('Back', 'Back to previous …"
      ]
     },
     "metadata": {},
     "output_type": "display_data"
    }
   ],
   "source": [
    "plt.figure()\n",
    "nx.draw(unitgraph)\n",
    "plt.show()"
   ]
  },
  {
   "cell_type": "markdown",
   "id": "ae6645ef-14a3-4261-9f48-70debffdf946",
   "metadata": {},
   "source": [
    "## Others"
   ]
  },
  {
   "cell_type": "code",
   "execution_count": 18,
   "id": "f630e084-f4d3-4f59-89e7-74c81609ad7d",
   "metadata": {
    "execution": {
     "iopub.execute_input": "2021-10-04T14:49:35.405519Z",
     "iopub.status.busy": "2021-10-04T14:49:35.405411Z",
     "iopub.status.idle": "2021-10-04T14:49:35.407277Z",
     "shell.execute_reply": "2021-10-04T14:49:35.406879Z",
     "shell.execute_reply.started": "2021-10-04T14:49:35.405505Z"
    },
    "tags": []
   },
   "outputs": [],
   "source": [
    "# latestMorrison = sorted([s for s in os.listdir('/Users/juan/Downloads/') if 'Morrison' in s])[0]"
   ]
  },
  {
   "cell_type": "code",
   "execution_count": 116,
   "id": "e83a343a-61f8-49e4-8add-fe16d94732e9",
   "metadata": {
    "execution": {
     "iopub.execute_input": "2021-10-04T16:03:02.015333Z",
     "iopub.status.busy": "2021-10-04T16:03:02.014872Z",
     "iopub.status.idle": "2021-10-04T16:03:10.556316Z",
     "shell.execute_reply": "2021-10-04T16:03:10.555985Z",
     "shell.execute_reply.started": "2021-10-04T16:03:02.015289Z"
    },
    "tags": []
   },
   "outputs": [],
   "source": [
    "morrison_sheets = pd.read_excel('/Users/juan/Google Drive/Zia Lab/Codebase/qdef/data/Morrison.xlsx',None)"
   ]
  },
  {
   "cell_type": "code",
   "execution_count": 117,
   "id": "280d0297-7d23-4228-9842-7595e95a7c51",
   "metadata": {
    "execution": {
     "iopub.execute_input": "2021-10-04T16:03:10.557168Z",
     "iopub.status.busy": "2021-10-04T16:03:10.557076Z",
     "iopub.status.idle": "2021-10-04T16:03:10.559630Z",
     "shell.execute_reply": "2021-10-04T16:03:10.559279Z",
     "shell.execute_reply.started": "2021-10-04T16:03:10.557155Z"
    },
    "tags": []
   },
   "outputs": [],
   "source": [
    "def table_types(dframe):\n",
    "    '''\n",
    "    Receive a table and return a list with the types of thing it is.\n",
    "    '''\n",
    "    if 'Types' in list(dframe):\n",
    "        try:\n",
    "            return dframe['Types'][0].split(',')\n",
    "        except:\n",
    "            return []\n",
    "    else:\n",
    "        print(\"No types, returning empty.\")\n",
    "        return []"
   ]
  },
  {
   "cell_type": "code",
   "execution_count": 118,
   "id": "f40779e3-c763-43df-b1dd-8fc995955fdb",
   "metadata": {
    "execution": {
     "iopub.execute_input": "2021-10-04T16:03:10.560738Z",
     "iopub.status.busy": "2021-10-04T16:03:10.560646Z",
     "iopub.status.idle": "2021-10-04T16:03:10.566739Z",
     "shell.execute_reply": "2021-10-04T16:03:10.566441Z",
     "shell.execute_reply.started": "2021-10-04T16:03:10.560725Z"
    },
    "tags": []
   },
   "outputs": [],
   "source": [
    "t_types = {}\n",
    "present_types = set()\n",
    "for df_key in (morrison_sheets).keys():\n",
    "    t_types[df_key] = (table_types(morrison_sheets[df_key]))\n",
    "    present_types.update(table_types(morrison_sheets[df_key]))"
   ]
  },
  {
   "cell_type": "code",
   "execution_count": 119,
   "id": "a6b15824-1555-43cd-845c-1c46231139ef",
   "metadata": {
    "execution": {
     "iopub.execute_input": "2021-10-04T16:03:10.567603Z",
     "iopub.status.busy": "2021-10-04T16:03:10.567504Z",
     "iopub.status.idle": "2021-10-04T16:03:10.571041Z",
     "shell.execute_reply": "2021-10-04T16:03:10.570278Z",
     "shell.execute_reply.started": "2021-10-04T16:03:10.567589Z"
    },
    "tags": []
   },
   "outputs": [],
   "source": [
    "rundown = {key: [k for k,v in t_types.items() if key in v] for key in present_types}"
   ]
  },
  {
   "cell_type": "code",
   "execution_count": 120,
   "id": "d60afebe-bb25-432a-879e-0e8531f2fb14",
   "metadata": {
    "execution": {
     "iopub.execute_input": "2021-10-04T16:03:10.571792Z",
     "iopub.status.busy": "2021-10-04T16:03:10.571699Z",
     "iopub.status.idle": "2021-10-04T16:03:10.574835Z",
     "shell.execute_reply": "2021-10-04T16:03:10.574474Z",
     "shell.execute_reply.started": "2021-10-04T16:03:10.571780Z"
    },
    "tags": []
   },
   "outputs": [],
   "source": [
    "egs = []\n",
    "for combo in [s.split('+') for s in list(morrison_sheets['Schema']['Type'])]:\n",
    "    egs.append(', '.join([k for k,v in t_types.items() if set(v)==set(combo)]))"
   ]
  },
  {
   "cell_type": "code",
   "execution_count": 121,
   "id": "3fc5267f-2cf1-4dfa-9714-0324724464da",
   "metadata": {
    "execution": {
     "iopub.execute_input": "2021-10-04T16:03:10.575670Z",
     "iopub.status.busy": "2021-10-04T16:03:10.575551Z",
     "iopub.status.idle": "2021-10-04T16:03:10.577594Z",
     "shell.execute_reply": "2021-10-04T16:03:10.577193Z",
     "shell.execute_reply.started": "2021-10-04T16:03:10.575639Z"
    },
    "tags": []
   },
   "outputs": [],
   "source": [
    "import pyperclip"
   ]
  },
  {
   "cell_type": "code",
   "execution_count": 122,
   "id": "ab85bc12-9794-4b21-b357-3f87801aab66",
   "metadata": {
    "execution": {
     "iopub.execute_input": "2021-10-04T16:03:10.598060Z",
     "iopub.status.busy": "2021-10-04T16:03:10.597903Z",
     "iopub.status.idle": "2021-10-04T16:03:10.634706Z",
     "shell.execute_reply": "2021-10-04T16:03:10.634108Z",
     "shell.execute_reply.started": "2021-10-04T16:03:10.598045Z"
    },
    "tags": []
   },
   "outputs": [],
   "source": [
    "pyperclip.copy('\\n'.join(egs))"
   ]
  },
  {
   "cell_type": "code",
   "execution_count": 87,
   "id": "17a45cdf-0697-4490-8e59-123942ef684a",
   "metadata": {
    "execution": {
     "iopub.execute_input": "2021-10-04T15:48:33.928338Z",
     "iopub.status.busy": "2021-10-04T15:48:33.928233Z",
     "iopub.status.idle": "2021-10-04T15:48:33.933706Z",
     "shell.execute_reply": "2021-10-04T15:48:33.933372Z",
     "shell.execute_reply.started": "2021-10-04T15:48:33.928324Z"
    },
    "tags": []
   },
   "outputs": [
    {
     "name": "stdout",
     "output_type": "stream",
     "text": [
      "3.2.1\n",
      "A_{n,m}, Point charge, Self-induced, Dipole, Total, Comments, Types\n",
      "A_{2,0} || A_{3,2}^r || A_{3,2}^i || A_{4,0} || A_{4,4}^r || A_{4,4}^i || A_{5,2}^r || A_{5,2}^i || A_{4,4}^n\n",
      "3.2.2\n",
      "X, Charge, 3d^N, F^{(2)}, F^{(4)}, B_{2,0}, B_{4,0}, B_{4,3}, Comments, Types\n",
      "3.3.1\n",
      "A_{n,m}, Monopole, Self-induced, Dipole, Total, Comments, Types\n",
      "A_{2,0} || Α_{4,0} || A_{4,3}^r || A_{4,3}^i || A_{4,3}^n\n",
      "4.2.1\n",
      "A_{n,m}, Monopole, Self-induced, Dipole, Total, Comments, Types\n",
      "A_{2,0} || A_{4,0} || A_{4,3}^r || A_{4,3}^i || A_{4,3}^n\n",
      "4.3.1\n",
      "X, A_{n,m}, Monopole, Self-induced, Dipole, Total, Ref, Comments, Types\n",
      "A_{4,0} || A_{4,0} || A_{4,0} || A_{4,4} || A_{4,4} || A_{4,4}\n",
      "5.2.1\n",
      "A_{n,m}, Monopole, Self-induced, Dipole, Total, Comments, Types\n",
      "A_{4,0} || A_{4,4}\n",
      "5.3.1\n",
      "A_{n,m}, Monopole, Dipole, Self-induced, Total, Comments, Types\n",
      "A_{2,0} || A_{4,0} || A_{4,3}\n",
      "6.2\n",
      "A_{n,m}, Monopole, Self-induced, Dipole, Total, Comments, Types\n",
      "A_{2,0} || A_{3,3}^i || A_{4,0} || A_{4,3} || A_{5,3}^i\n",
      "7.2.3\n",
      "A_{n,m}, Monopole, Self-induced, Dipole, Total, Comments, Types\n",
      "A_{2,0} || A_{2,2} || A_{4,0} || A_{4,2} || A_{4,4}\n",
      "8.2.1\n",
      "A_{n,m}, Monopole, Self-induced, Dipole, Total, Comments, Types\n",
      "A_{2,0} || A_{2,2} || A_{4,0} || A_{4,2} || A_{4,4}\n",
      "8.2.2\n",
      "A_{n,m}, Monopole, Self-induced, Dipole, Total, Comments, Types\n",
      "A_{2,0} || A_{2,2} || A_{4,0} || A_{4,2} || A_{4,4}\n",
      "9.2.1\n",
      "A_{n,m}, Monopole, Self-induced, Dipole, Total, Comments, Types\n",
      "A_{2,0} || A_{2,2} || A_{4,0} || A_{4,2} || A_{4,4}\n",
      "9.2.2\n",
      "A_{n,m}, Monopole, Self-induced, Dipole, Total, Comments, Types\n",
      "A_{2,0} || A_{2,2} || A_{4,0} || A_{4,2} || A_{4,4}\n",
      "10.2.1\n",
      "A_{n,m}, Monopole, Self-induced, Dipole, Total, Comments, Types\n",
      "A_{4,0} || A_{4,4}\n",
      "11.2.1\n",
      "A_{n,m}, Monopole, Self-induced, Dipole, Total, Comments, Types\n",
      "A_{2,0} || A_{3,3}^i || A_{4,0} || A_{4,3} || A_{5,3}^i\n",
      "12.3.1\n",
      "M, A_{2,0} (Monopole), A_{4,0} (Monopole), A_{4,3} (Monopole), A_{2,0} (Total), A_{4,0} (Total), A_{4,3} (Total), Comments, Types\n",
      "13.2\n",
      "A_{n,m}, Monopole, Self-induced, Dipole, Total, Comments, Types\n",
      "A_{4,0} || A_{4,4}\n",
      "20.2.1\n",
      "A_{n,m}, Monopole, Self-induced, Total, Comments, Types\n",
      "A_{3,2} || A_{4,0} || A_{4,4}\n",
      "20.2.2\n",
      "A_{n,m}, Monopole, Self-induced, Dipole, Total, Comments, Types\n",
      "A_{1,0} || A_{2,0} || A_{3,0} || A_{3,3} || A_{4,0} || A_{4,3} || A_{5,0} || A_{5,3}\n",
      "20.2.3\n",
      "A_{n,m}, Monopole, Self-induced, Dipole, Total, Comments, Types\n",
      "A_{1,0} || A_{2,0} || A_{3,0} || A_{3,3} || A_{4,0} || A_{4,3} || A_{5,0} || A_{5,3}\n"
     ]
    }
   ],
   "source": [
    "special = 'CFCOMPA'\n",
    "for sheet_key in rundown[special]:\n",
    "    print(sheet_key)\n",
    "    print(', '.join(list(morrison_sheets[sheet_key])[1:]))\n",
    "    try:\n",
    "        print(' || '.join((morrison_sheets[sheet_key]['A_{n,m}'])))\n",
    "    except:\n",
    "        pass"
   ]
  },
  {
   "cell_type": "code",
   "execution_count": 55,
   "id": "10b50f5d-14fa-4c29-9339-286f77fc27d7",
   "metadata": {
    "execution": {
     "iopub.execute_input": "2021-10-04T15:34:11.617870Z",
     "iopub.status.busy": "2021-10-04T15:34:11.616737Z",
     "iopub.status.idle": "2021-10-04T15:34:11.630832Z",
     "shell.execute_reply": "2021-10-04T15:34:11.629716Z",
     "shell.execute_reply.started": "2021-10-04T15:34:11.617811Z"
    }
   },
   "outputs": [
    {
     "name": "stdout",
     "output_type": "stream",
     "text": [
      "CFDATA\n",
      "111ZAXIS\n",
      "SPECIAL\n",
      "XVAR\n",
      "ALTERNATIVE(2/2)\n",
      "REFS\n",
      "FREEION\n",
      "CFCOMPA\n",
      "THEOCFCOMP\n",
      "HFOCK\n",
      "ALTERNATIVE(1/2)\n",
      "EXPARAMS\n",
      "CDATA\n",
      "CFCOMP\n",
      "NUMPARAMS\n"
     ]
    }
   ],
   "source": [
    "for key in present_types:\n",
    "    print(key)"
   ]
  },
  {
   "cell_type": "code",
   "execution_count": 54,
   "id": "e8e8f66d-4187-40e4-89b0-3c20f8821454",
   "metadata": {
    "execution": {
     "iopub.execute_input": "2021-10-04T15:32:12.220543Z",
     "iopub.status.busy": "2021-10-04T15:32:12.219382Z",
     "iopub.status.idle": "2021-10-04T15:32:12.238546Z",
     "shell.execute_reply": "2021-10-04T15:32:12.235270Z",
     "shell.execute_reply.started": "2021-10-04T15:32:12.220482Z"
    },
    "tags": []
   },
   "outputs": [
    {
     "name": "stdout",
     "output_type": "stream",
     "text": [
      "2\n"
     ]
    }
   ],
   "source": [
    "for df_key in (morrison_sheets).keys():\n",
    "    if 'HFOCK' in t_types[df_key]:\n",
    "        print(df_key)"
   ]
  },
  {
   "cell_type": "code",
   "execution_count": null,
   "id": "309b4dcc-514b-4c23-9bfd-c100d9878e2c",
   "metadata": {},
   "outputs": [],
   "source": []
  },
  {
   "cell_type": "code",
   "execution_count": 66,
   "id": "b07fe4d2-6067-46e2-986d-e205ab87af92",
   "metadata": {
    "execution": {
     "iopub.execute_input": "2021-10-01T14:03:22.207260Z",
     "iopub.status.busy": "2021-10-01T14:03:22.207166Z",
     "iopub.status.idle": "2021-10-01T14:03:22.363743Z",
     "shell.execute_reply": "2021-10-01T14:03:22.363405Z",
     "shell.execute_reply.started": "2021-10-01T14:03:22.207248Z"
    },
    "tags": []
   },
   "outputs": [
    {
     "data": {
      "text/html": [
       "<pre>✔️ 665 µs (2021-10-01T10:03:22/2021-10-01T10:03:22)</pre>"
      ],
      "text/plain": [
       "<IPython.core.display.HTML object>"
      ]
     },
     "metadata": {},
     "output_type": "display_data"
    }
   ],
   "source": [
    "def parse_comments(dframe):\n",
    "    '''\n",
    "    Receive a table an result a list of strings with the comments in the\n",
    "    comments column.\n",
    "    '''\n",
    "    if 'Comments' in dframe:\n",
    "        return list(filter(lambda x: x != '',list(dframe['Comments'].fillna(''))))\n",
    "    else:\n",
    "        print(\"No comments column, returning empty.\")\n",
    "        return []"
   ]
  },
  {
   "cell_type": "code",
   "execution_count": 34,
   "id": "f7168142-b09a-499b-ba93-7b3a6bf3503b",
   "metadata": {
    "execution": {
     "iopub.execute_input": "2021-10-01T13:45:47.330152Z",
     "iopub.status.busy": "2021-10-01T13:45:47.329777Z",
     "iopub.status.idle": "2021-10-01T13:45:47.491786Z",
     "shell.execute_reply": "2021-10-01T13:45:47.491371Z",
     "shell.execute_reply.started": "2021-10-01T13:45:47.330112Z"
    },
    "tags": []
   },
   "outputs": [
    {
     "data": {
      "text/html": [
       "<pre>✔️ 2.3 ms (2021-10-01T09:45:47/2021-10-01T09:45:47)</pre>"
      ],
      "text/plain": [
       "<IPython.core.display.HTML object>"
      ]
     },
     "metadata": {},
     "output_type": "display_data"
    }
   ],
   "source": [
    "def parse_table(dframe):\n",
    "    # get the type of table it is\n",
    "    dframe_types = table_types(dframe)\n",
    "    if ('CDATA' in dframe_types) or True:\n",
    "        print(\"This is a table with crystallographic data.\")\n",
    "        # lattice params are in the first column\n",
    "        crystallographic_data = list(dframe)[0]\n",
    "        first_col = [s for s in dframe[list(dframe)[0]].fillna('') if s]\n",
    "        lattice_params = {s.split('=')[0]:float(s.split('=')[1]) for s in first_col}\n",
    "        if ('GARNET') in dframe_types:\n",
    "            print(\"This is a table with an array of garnets.\")\n",
    "        else:\n",
    "            "
   ]
  },
  {
   "cell_type": "code",
   "execution_count": 61,
   "id": "66a47a52-de68-4cde-be81-97de6fcdae63",
   "metadata": {
    "execution": {
     "iopub.execute_input": "2021-10-01T13:56:06.584843Z",
     "iopub.status.busy": "2021-10-01T13:56:06.584511Z",
     "iopub.status.idle": "2021-10-01T13:56:06.759549Z",
     "shell.execute_reply": "2021-10-01T13:56:06.759093Z",
     "shell.execute_reply.started": "2021-10-01T13:56:06.584806Z"
    },
    "tags": []
   },
   "outputs": [
    {
     "data": {
      "text/html": [
       "<pre>✔️ 3.76 ms (2021-10-01T09:56:06/2021-10-01T09:56:06)</pre>"
      ],
      "text/plain": [
       "<IPython.core.display.HTML object>"
      ]
     },
     "metadata": {},
     "output_type": "display_data"
    }
   ],
   "source": [
    "dframe = morrison_sheets['11.1']\n",
    "crystallographic_data = list(dframe)[0]\n",
    "first_col = [s for s in dframe[list(dframe)[0]].fillna('') if s]\n",
    "lattice_params = {s.split('=')[0]:float(s.split('=')[1]) for s in first_col}\n",
    "crystal_system = crystallographic_data.split(' ')[0].lower()"
   ]
  },
  {
   "cell_type": "code",
   "execution_count": 62,
   "id": "818bcf7d-6d32-441f-9555-c293b701f9c3",
   "metadata": {
    "execution": {
     "iopub.execute_input": "2021-10-01T13:56:06.819308Z",
     "iopub.status.busy": "2021-10-01T13:56:06.819148Z",
     "iopub.status.idle": "2021-10-01T13:56:06.955447Z",
     "shell.execute_reply": "2021-10-01T13:56:06.955104Z",
     "shell.execute_reply.started": "2021-10-01T13:56:06.819293Z"
    },
    "tags": []
   },
   "outputs": [
    {
     "data": {
      "text/html": [
       "<pre>✔️ 1.44 ms (2021-10-01T09:56:06/2021-10-01T09:56:06)</pre>"
      ],
      "text/plain": [
       "<IPython.core.display.HTML object>"
      ]
     },
     "metadata": {},
     "output_type": "display_data"
    },
    {
     "data": {
      "text/plain": [
       "'hexagonal'"
      ]
     },
     "execution_count": 62,
     "metadata": {},
     "output_type": "execute_result"
    }
   ],
   "source": [
    "crystal_system"
   ]
  },
  {
   "cell_type": "code",
   "execution_count": 56,
   "id": "6bfe62d0-e403-42bf-ba16-0d4f521a4508",
   "metadata": {
    "execution": {
     "iopub.execute_input": "2021-10-01T13:51:49.635583Z",
     "iopub.status.busy": "2021-10-01T13:51:49.635243Z",
     "iopub.status.idle": "2021-10-01T13:51:49.770410Z",
     "shell.execute_reply": "2021-10-01T13:51:49.769989Z",
     "shell.execute_reply.started": "2021-10-01T13:51:49.635546Z"
    },
    "tags": []
   },
   "outputs": [
    {
     "data": {
      "text/html": [
       "<pre>✔️ 3.3 ms (2021-10-01T09:51:49/2021-10-01T09:51:49)</pre>"
      ],
      "text/plain": [
       "<IPython.core.display.HTML object>"
      ]
     },
     "metadata": {},
     "output_type": "display_data"
    },
    {
     "data": {
      "text/plain": [
       "{'a': 9.206, 'c': 9.205}"
      ]
     },
     "execution_count": 56,
     "metadata": {},
     "output_type": "execute_result"
    }
   ],
   "source": [
    "lattice_params"
   ]
  },
  {
   "cell_type": "code",
   "execution_count": 50,
   "id": "74239203-c578-4f84-bc28-bbe4af21e1b0",
   "metadata": {
    "execution": {
     "iopub.execute_input": "2021-10-01T13:51:03.740823Z",
     "iopub.status.busy": "2021-10-01T13:51:03.740461Z",
     "iopub.status.idle": "2021-10-01T13:51:03.873497Z",
     "shell.execute_reply": "2021-10-01T13:51:03.873086Z",
     "shell.execute_reply.started": "2021-10-01T13:51:03.740783Z"
    },
    "tags": []
   },
   "outputs": [
    {
     "data": {
      "text/html": [
       "<pre>✔️ 3.27 ms (2021-10-01T09:51:03/2021-10-01T09:51:03)</pre>"
      ],
      "text/plain": [
       "<IPython.core.display.HTML object>"
      ]
     },
     "metadata": {},
     "output_type": "display_data"
    },
    {
     "data": {
      "text/plain": [
       "['a=9.206', 'c=9.205']"
      ]
     },
     "execution_count": 50,
     "metadata": {},
     "output_type": "execute_result"
    }
   ],
   "source": [
    "first_col"
   ]
  },
  {
   "cell_type": "code",
   "execution_count": 35,
   "id": "23f3dd4f-6bdb-40ea-b385-74266259e241",
   "metadata": {
    "execution": {
     "iopub.execute_input": "2021-10-01T13:45:47.685112Z",
     "iopub.status.busy": "2021-10-01T13:45:47.684767Z",
     "iopub.status.idle": "2021-10-01T13:45:47.870098Z",
     "shell.execute_reply": "2021-10-01T13:45:47.869681Z",
     "shell.execute_reply.started": "2021-10-01T13:45:47.685074Z"
    },
    "tags": []
   },
   "outputs": [
    {
     "data": {
      "text/html": [
       "<pre>✔️ 2.53 ms (2021-10-01T09:45:47/2021-10-01T09:45:47)</pre>"
      ],
      "text/plain": [
       "<IPython.core.display.HTML object>"
      ]
     },
     "metadata": {},
     "output_type": "display_data"
    },
    {
     "name": "stdout",
     "output_type": "stream",
     "text": [
      "This is a table with crystallographic data.\n"
     ]
    }
   ],
   "source": [
    "parse_table(morrison_sheets['12.1'])"
   ]
  },
  {
   "cell_type": "markdown",
   "id": "7a2e6137-5afd-44d2-819c-88fd5be95b68",
   "metadata": {
    "tags": []
   },
   "source": [
    "#### Parsing tables with crystal field blurbs"
   ]
  },
  {
   "cell_type": "code",
   "execution_count": 501,
   "id": "dbe2afd5-5633-40b3-8642-3d2a434151f9",
   "metadata": {
    "execution": {
     "iopub.execute_input": "2021-09-30T13:18:55.551099Z",
     "iopub.status.busy": "2021-09-30T13:18:55.549990Z",
     "iopub.status.idle": "2021-09-30T13:18:59.677837Z",
     "shell.execute_reply": "2021-09-30T13:18:59.677494Z",
     "shell.execute_reply.started": "2021-09-30T13:18:55.551015Z"
    },
    "tags": []
   },
   "outputs": [
    {
     "data": {
      "text/html": [
       "<pre>✔️ 4.08 s (2021-09-30T09:18:55/2021-09-30T09:18:59)</pre>"
      ],
      "text/plain": [
       "<IPython.core.display.HTML object>"
      ]
     },
     "metadata": {},
     "output_type": "display_data"
    }
   ],
   "source": [
    "# loader for the data in Morrison's book\n",
    "# this sheet is an export of the data on \n",
    "# a Google Spreadsheet \"Morrison Data\"\n",
    "morrison_sheets = pd.read_excel('/Users/juan/Downloads/Morrison.xlsx',None)"
   ]
  },
  {
   "cell_type": "code",
   "execution_count": 519,
   "id": "12bc4c70-d700-4947-afba-20b2669cf42a",
   "metadata": {
    "execution": {
     "iopub.execute_input": "2021-09-30T13:27:40.979099Z",
     "iopub.status.busy": "2021-09-30T13:27:40.977265Z",
     "iopub.status.idle": "2021-09-30T13:27:41.168244Z",
     "shell.execute_reply": "2021-09-30T13:27:41.167862Z",
     "shell.execute_reply.started": "2021-09-30T13:27:40.978967Z"
    },
    "tags": []
   },
   "outputs": [
    {
     "data": {
      "text/html": [
       "<pre>✔️ 15.2 ms (2021-09-30T09:27:40/2021-09-30T09:27:41)</pre>"
      ],
      "text/plain": [
       "<IPython.core.display.HTML object>"
      ]
     },
     "metadata": {},
     "output_type": "display_data"
    }
   ],
   "source": [
    "# these sheets parse the data of tables in Morrison\n",
    "# that list values for crystal-field components\n",
    "morrison_cf_components = {}\n",
    "sheets_with_cf_components = [l for l in morrison_sheets if 'Crystal-field component' in list(morrison_sheets[l])[0]]\n",
    "for sheetkey_with_cf_components in sheets_with_cf_components:\n",
    "    sheet_with_cf_components = morrison_sheets[sheetkey_with_cf_components]\n",
    "    metadata = list(sheet_with_cf_components)[0]\n",
    "    host = morrison['section_to_host'][int(sheetkey_with_cf_components.split('.')[0])]\n",
    "    site = metadata.split('for ')[-1]\n",
    "    cf_params = dict(zip(map(sp.Symbol,sheet_with_cf_components['A_{n,m}']),\n",
    "                         sheet_with_cf_components['Total']))\n",
    "    cpg = re.findall(r'\\((.*?)\\)',site)[0]\n",
    "    site_with_comments = str(site)\n",
    "    site = site.split(' (')[0]\n",
    "    total = {'metadata': metadata,\n",
    "            'site': site,\n",
    "            'site_with_comments': site_with_comments,\n",
    "            'cf_params': cf_params,\n",
    "            'cpg': cpg}\n",
    "    morrison_cf_components[host[0]] = total"
   ]
  },
  {
   "cell_type": "code",
   "execution_count": 521,
   "id": "90465015-1943-4c3d-bbcd-ca69839057cd",
   "metadata": {
    "execution": {
     "iopub.execute_input": "2021-09-30T13:30:14.054032Z",
     "iopub.status.busy": "2021-09-30T13:30:14.052448Z",
     "iopub.status.idle": "2021-09-30T13:30:14.301626Z",
     "shell.execute_reply": "2021-09-30T13:30:14.298936Z",
     "shell.execute_reply.started": "2021-09-30T13:30:14.053923Z"
    },
    "tags": []
   },
   "outputs": [
    {
     "data": {
      "text/html": [
       "<pre>✔️ 24.6 ms (2021-09-30T09:30:14/2021-09-30T09:30:14)</pre>"
      ],
      "text/plain": [
       "<IPython.core.display.HTML object>"
      ]
     },
     "metadata": {},
     "output_type": "display_data"
    },
    {
     "name": "stdout",
     "output_type": "stream",
     "text": [
      "3.4\n",
      "20.3\n"
     ]
    }
   ],
   "source": [
    "# these sheets provide information on experimentally\n",
    "# measured values for F^2, F^4, zeta, and B_40\n",
    "# the result should be something that is keyed\n",
    "# by the formulas of the hosts\n",
    "# and whose values are dataframes\n",
    "sheets_with_exp_B40 = [l for l in morrison_sheets if 'Experimental Values' in list(morrison_sheets[l])[0]]\n",
    "for sheetkey in sheets_with_exp_B40:\n",
    "    print(sheetkey)\n",
    "    asheet = morrison_sheets[sheetkey]\n",
    "    metadata = list(asheet)[0]\n",
    "    asheet = asheet[list(asheet)[1:]]\n",
    "    host = morrison['section_to_host'][int(sheetkey.split('.')[0])]\n",
    "    ion = asheet['Ion']"
   ]
  }
 ],
 "metadata": {
  "kernelspec": {
   "display_name": "qdef",
   "language": "python",
   "name": "qdef"
  },
  "language_info": {
   "codemirror_mode": {
    "name": "ipython",
    "version": 3
   },
   "file_extension": ".py",
   "mimetype": "text/x-python",
   "name": "python",
   "nbconvert_exporter": "python",
   "pygments_lexer": "ipython3",
   "version": "3.7.10"
  }
 },
 "nbformat": 4,
 "nbformat_minor": 5
}
