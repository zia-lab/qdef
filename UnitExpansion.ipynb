{
 "cells": [
  {
   "cell_type": "markdown",
   "id": "c52a96f4-b704-48b7-b358-77775d1141a6",
   "metadata": {},
   "source": [
    "# Unit network (DEPRECATED - edit unitexpander.py instead)"
   ]
  },
  {
   "cell_type": "markdown",
   "id": "188998f8-0013-4c40-b199-56a2c30a078a",
   "metadata": {},
   "source": [
    "Give a list of conversion factors between a limited set of commensurable units, find all the possible conversion factors that the list implies."
   ]
  },
  {
   "cell_type": "code",
   "execution_count": 2,
   "id": "927f40b1-0e29-4933-b6b3-a8077325108e",
   "metadata": {
    "execution": {
     "iopub.execute_input": "2021-10-21T18:36:19.890017Z",
     "iopub.status.busy": "2021-10-21T18:36:19.889565Z",
     "iopub.status.idle": "2021-10-21T18:36:19.908940Z",
     "shell.execute_reply": "2021-10-21T18:36:19.908281Z",
     "shell.execute_reply.started": "2021-10-21T18:36:19.889973Z"
    },
    "tags": []
   },
   "outputs": [],
   "source": [
    "# %load_ext autoreload\n",
    "# # provide cell timings\n",
    "# %load_ext autotime\n",
    "# %autoreload 2\n",
    "import sympy as sp\n",
    "import numpy as np\n",
    "import pandas as pd\n",
    "# from sympy import poly, lambdify\n",
    "from IPython.display import display, Math\n",
    "# %config InlineBackend.figure_format='retina'\n",
    "%config Completer.use_jedi = False\n",
    "from itertools import product\n",
    "from matplotlib import pyplot as plt\n",
    "%matplotlib widget\n",
    "from pyperclip import copy as pypercopy\n",
    "import os, pickle"
   ]
  },
  {
   "cell_type": "code",
   "execution_count": 635,
   "id": "08211fec-58f3-4b83-89dc-b1c38107dfed",
   "metadata": {
    "execution": {
     "iopub.execute_input": "2021-10-06T18:48:00.300816Z",
     "iopub.status.busy": "2021-10-06T18:48:00.299453Z",
     "iopub.status.idle": "2021-10-06T18:48:00.316443Z",
     "shell.execute_reply": "2021-10-06T18:48:00.314945Z",
     "shell.execute_reply.started": "2021-10-06T18:48:00.300735Z"
    }
   },
   "outputs": [],
   "source": [
    "import networkx as nx\n",
    "import sympy as sp\n",
    "from matplotlib import pyplot as plt"
   ]
  },
  {
   "cell_type": "code",
   "execution_count": 519,
   "id": "e099f94e-14bd-4e53-a723-630a6c5f97a0",
   "metadata": {
    "execution": {
     "iopub.execute_input": "2021-10-06T13:51:03.506997Z",
     "iopub.status.busy": "2021-10-06T13:51:03.505193Z",
     "iopub.status.idle": "2021-10-06T13:51:03.972157Z",
     "shell.execute_reply": "2021-10-06T13:51:03.971837Z",
     "shell.execute_reply.started": "2021-10-06T13:51:03.506881Z"
    },
    "tags": []
   },
   "outputs": [
    {
     "name": "stdout",
     "output_type": "stream",
     "text": [
      "8.83 ms ± 1.99 ms per loop (mean ± std. dev. of 7 runs, 4 loops each)\n"
     ]
    }
   ],
   "source": [
    "%%timeit -n 4\n",
    "conversions = pd.read_excel(\"/Users/juan/Google Drive/Zia Lab/Codebase/qdef/data/ConversionFactors.xlsx\",None)\n",
    "conversion_facts = {}\n",
    "for conversion_type in conversions:\n",
    "    these_factors = conversions[conversion_type]\n",
    "    these_dict = dict(zip(list(map(tuple,these_factors[['Source','Destination']].values.tolist())),\n",
    "          list(map(lambda x: x[0],these_factors[['Factor']].values.tolist()))))\n",
    "    conversion_facts.update(these_dict)"
   ]
  },
  {
   "cell_type": "code",
   "execution_count": 715,
   "id": "7fb0218b-64a7-44b8-b62b-ee3749b7174f",
   "metadata": {
    "execution": {
     "iopub.execute_input": "2021-10-06T19:16:28.839339Z",
     "iopub.status.busy": "2021-10-06T19:16:28.838990Z",
     "iopub.status.idle": "2021-10-06T19:16:28.844416Z",
     "shell.execute_reply": "2021-10-06T19:16:28.843526Z",
     "shell.execute_reply.started": "2021-10-06T19:16:28.839303Z"
    },
    "tags": []
   },
   "outputs": [],
   "source": [
    "conversions = pd.read_excel(os.path.join(module_dir,'data','ConversionFactors.xlsx'),None)\n",
    "conversion_facts = {}\n",
    "for conversion_type in conversions:\n",
    "    these_factors = conversions[conversion_type]\n",
    "    these_dict = dict(zip(list(map(tuple,these_factors[['Source','Destination']].values.tolist())),\n",
    "          list(map(lambda x: x[0],these_factors[['Factor']].values.tolist()))))\n",
    "    conversion_facts.update(these_dict)\n",
    "cfacts = conversion_facts\n",
    "unitgraph = nx.DiGraph()\n",
    "allunits = set()\n",
    "for k,v in cfacts.items():\n",
    "    unitgraph.add_node(k[0])\n",
    "    unitgraph.add_node(k[1])\n",
    "    v = sp.S(v)\n",
    "    unitgraph.add_weighted_edges_from([(k[0],k[1],v)])\n",
    "    unitgraph.add_weighted_edges_from([(k[1],k[0],1/v)])\n",
    "    allunits.add(k[0])\n",
    "    allunits.add(k[1])\n",
    "allunits = list(allunits)\n",
    "allpairs = list(combinations(allunits,2))\n",
    "for pair in allpairs:\n",
    "    try:\n",
    "        path = nx.shortest_path(unitgraph,*pair)\n",
    "    except:\n",
    "        path = []\n",
    "    if len(path) == 0:\n",
    "        continue\n",
    "    fromto = (path[0],path[-1])\n",
    "    backto = (path[-1], path[0])\n",
    "    total_factor = sp.S(1)\n",
    "    for node_idx in range(len(path)-1):\n",
    "        nodeA = path[node_idx]\n",
    "        nodeB = path[node_idx+1]\n",
    "        total_factor *= unitgraph[nodeA][nodeB]['weight']\n",
    "    if fromto not in cfacts.keys():\n",
    "        cfacts[fromto] = float(total_factor)\n",
    "    if backto not in cfacts.keys():\n",
    "        cfacts[backto] = float(1/total_factor)\n",
    "for k,v in cfacts.items():\n",
    "    unitgraph.add_node(k[0])\n",
    "    unitgraph.add_node(k[1])\n",
    "    v = sp.S(v)\n",
    "    unitgraph.add_weighted_edges_from([(k[0],k[1],v)])\n",
    "    unitgraph.add_weighted_edges_from([(k[1],k[0],1/v)])"
   ]
  },
  {
   "cell_type": "code",
   "execution_count": 725,
   "id": "de745db7-982c-4ee6-b672-12d410fde833",
   "metadata": {
    "execution": {
     "iopub.execute_input": "2021-10-06T19:21:56.296530Z",
     "iopub.status.busy": "2021-10-06T19:21:56.296127Z",
     "iopub.status.idle": "2021-10-06T19:21:56.310581Z",
     "shell.execute_reply": "2021-10-06T19:21:56.309538Z",
     "shell.execute_reply.started": "2021-10-06T19:21:56.296492Z"
    }
   },
   "outputs": [],
   "source": [
    "pickle.dump(cfacts,open(os.path.join(module_dir,'data','conversion_facts.pkl'),'wb'))"
   ]
  },
  {
   "cell_type": "code",
   "execution_count": 721,
   "id": "0a0796fd-a908-48cd-8d0d-8cd2f2dfe7f2",
   "metadata": {
    "execution": {
     "iopub.execute_input": "2021-10-06T19:18:23.440311Z",
     "iopub.status.busy": "2021-10-06T19:18:23.439907Z",
     "iopub.status.idle": "2021-10-06T19:18:23.514931Z",
     "shell.execute_reply": "2021-10-06T19:18:23.514329Z",
     "shell.execute_reply.started": "2021-10-06T19:18:23.440270Z"
    },
    "tags": []
   },
   "outputs": [],
   "source": [
    "# Script version\n",
    "# from itertools import combinations\n",
    "# import pandas as pd\n",
    "# import networkx as nx\n",
    "# import os\n",
    "# import pickle\n",
    "\n",
    "# def main():\n",
    "#     if os.path.exists('./conversion_facts.pkl'):\n",
    "#         print(\"conversion_facts.pkl already exists, delete if you want to generate it again.\")\n",
    "#         return None\n",
    "#     conversions = pd.read_excel(os.path.join(module_dir,'data','ConversionFactors.xlsx'),None)\n",
    "#     conversion_facts = {}\n",
    "#     for conversion_type in conversions:\n",
    "#         these_factors = conversions[conversion_type]\n",
    "#         these_dict = dict(zip(list(map(tuple,these_factors[['Source','Destination']].values.tolist())),\n",
    "#               list(map(lambda x: x[0],these_factors[['Factor']].values.tolist()))))\n",
    "#         conversion_facts.update(these_dict)\n",
    "#     cfacts = conversion_facts\n",
    "#     unitgraph = nx.DiGraph()\n",
    "#     allunits = set()\n",
    "#     for k,v in cfacts.items():\n",
    "#         unitgraph.add_node(k[0])\n",
    "#         unitgraph.add_node(k[1])\n",
    "#         v = sp.S(v)\n",
    "#         unitgraph.add_weighted_edges_from([(k[0],k[1],v)])\n",
    "#         unitgraph.add_weighted_edges_from([(k[1],k[0],1/v)])\n",
    "#         allunits.add(k[0])\n",
    "#         allunits.add(k[1])\n",
    "#     allunits = list(allunits)\n",
    "#     allpairs = list(combinations(allunits,2))\n",
    "#     for pair in allpairs:\n",
    "#         try:\n",
    "#             path = nx.shortest_path(unitgraph,*pair)\n",
    "#         except:\n",
    "#             path = []\n",
    "#         if len(path) == 0:\n",
    "#             continue\n",
    "#         fromto = (path[0],path[-1])\n",
    "#         backto = (path[-1], path[0])\n",
    "#         total_factor = sp.S(1)\n",
    "#         for node_idx in range(len(path)-1):\n",
    "#             nodeA = path[node_idx]\n",
    "#             nodeB = path[node_idx+1]\n",
    "#             total_factor *= unitgraph[nodeA][nodeB]['weight']\n",
    "#         if fromto not in cfacts.keys():\n",
    "#             cfacts[fromto] = float(total_factor)\n",
    "#         if backto not in cfacts.keys():\n",
    "#             cfacts[backto] = float(1/total_factor)\n",
    "#     for k,v in cfacts.items():\n",
    "#         unitgraph.add_node(k[0])\n",
    "#         unitgraph.add_node(k[1])\n",
    "#         v = sp.S(v)\n",
    "#         unitgraph.add_weighted_edges_from([(k[0],k[1],v)])\n",
    "#         unitgraph.add_weighted_edges_from([(k[1],k[0],1/v)])\n",
    "#     pickle.dump(cfacts,open('./conversion_facts.pkl','wb'))\n",
    "#     return None\n",
    "# if __name__ == '__main__':\n",
    "#     main()"
   ]
  },
  {
   "cell_type": "code",
   "execution_count": 739,
   "id": "92133083-53c7-4928-b226-aecf8fc648ef",
   "metadata": {
    "execution": {
     "iopub.execute_input": "2021-10-06T19:52:55.464921Z",
     "iopub.status.busy": "2021-10-06T19:52:55.464533Z",
     "iopub.status.idle": "2021-10-06T19:52:55.953603Z",
     "shell.execute_reply": "2021-10-06T19:52:55.952701Z",
     "shell.execute_reply.started": "2021-10-06T19:52:55.464862Z"
    },
    "tags": []
   },
   "outputs": [
    {
     "data": {
      "application/vnd.jupyter.widget-view+json": {
       "model_id": "a743173f43fc4eac87e82c20cf7eece4",
       "version_major": 2,
       "version_minor": 0
      },
      "text/plain": [
       "Canvas(toolbar=Toolbar(toolitems=[('Home', 'Reset original view', 'home', 'home'), ('Back', 'Back to previous …"
      ]
     },
     "metadata": {},
     "output_type": "display_data"
    }
   ],
   "source": [
    "plt.figure()\n",
    "nx.draw(unitgraph)\n",
    "plt.show()"
   ]
  }
 ],
 "metadata": {
  "kernelspec": {
   "display_name": "qdef",
   "language": "python",
   "name": "qdef"
  },
  "language_info": {
   "codemirror_mode": {
    "name": "ipython",
    "version": 3
   },
   "file_extension": ".py",
   "mimetype": "text/x-python",
   "name": "python",
   "nbconvert_exporter": "python",
   "pygments_lexer": "ipython3",
   "version": "3.7.10"
  }
 },
 "nbformat": 4,
 "nbformat_minor": 5
}
