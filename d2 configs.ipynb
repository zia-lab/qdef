{
 "cells": [
  {
   "cell_type": "markdown",
   "id": "3258c9e7-6520-4eb1-b8c2-27c7413f949d",
   "metadata": {},
   "source": [
    "# 2-electron wave functions and term energies"
   ]
  },
  {
   "cell_type": "code",
   "execution_count": 21,
   "id": "58cb7e91-c643-452c-a2ef-389225a3a3b7",
   "metadata": {
    "tags": []
   },
   "outputs": [
    {
     "data": {
      "text/html": [
       "<pre>✔️ 10.9 ms (2021-11-23T14:50:40/2021-11-23T14:50:40)</pre>"
      ],
      "text/plain": [
       "<IPython.core.display.HTML object>"
      ]
     },
     "metadata": {},
     "output_type": "display_data"
    },
    {
     "name": "stdout",
     "output_type": "stream",
     "text": [
      "The autoreload extension is already loaded. To reload it, use:\n",
      "  %reload_ext autoreload\n",
      "The autotime extension is already loaded. To reload it, use:\n",
      "  %reload_ext autotime\n"
     ]
    }
   ],
   "source": [
    "%load_ext autoreload\n",
    "%autoreload 1\n",
    "import twoelectrons as te\n",
    "%aimport twoelectrons\n",
    "# provide cell timings\n",
    "%load_ext autotime\n",
    "# %autoreload 2\n",
    "from IPython.display import display, Math\n",
    "# %config InlineBackend.figure_format='retina'\n",
    "%config Completer.use_jedi = False\n",
    "%matplotlib widget"
   ]
  },
  {
   "cell_type": "markdown",
   "id": "6e98202a-56d2-40de-b581-0a6fac937880",
   "metadata": {
    "tags": []
   },
   "source": [
    "## $d^2$ (Nov 11)\n",
    "\n",
    "The general goal of this section is to be able to programatically reproduce Ch. 2 of TSK for other groups other than cubic.\n",
    "\n",
    "Then to apply this analysis to as many specific systems for which CF params are known.\n",
    "\n",
    "Ideally I should also know at this stage how is that two valence holes can be made equivalent to two valence electrons so that the d^2 electron configurations are made equivalent to d^8 configurations (such as that of Ni^2+).\n",
    "\n",
    "The general goal can be split into the following tasks:\n",
    "\n",
    "- Calculation of slater determinant symbols together with visualization.\n",
    "\n",
    "- Calculation of term symbols.\n",
    "\n",
    "- Printout of reduction tables (i.e. Table 2.1 for other groups).\n",
    "\n",
    "- Printout of CG coefficients for the refined Vee coefficients.\n",
    "\n",
    "- Generation of total spin wavefunctions for two electrons.\n",
    "\n",
    "- Number of predicted states according to Pauli exclusion principle.\n",
    "\n",
    "- Calculation of allowed terms.\n",
    "\n",
    "- Calculation of terms and associated wavefunctions (i.e. analogues of Table 2.2, 2.3, 2.4, ...).\n",
    "\n",
    "- Calculation of term energies, in terms of slater integrals or racah parameters.\n",
    "\n",
    "- Visualization of energy levels for different two-electron configurations (diagrams such as that in Fig 2.3).\n",
    "\n",
    "- Visualization of some sort of the spatial dependence of these eigenfunctions.\n",
    "\n",
    "- Two electron integrals in terms of Racah parameters.\n",
    "\n",
    "- Two-Electron wavefunctions."
   ]
  },
  {
   "cell_type": "markdown",
   "id": "357d0b7d-25d5-489d-9ae8-a8ee7396cd21",
   "metadata": {
    "tags": []
   },
   "source": [
    "### Calculation of Term Energies"
   ]
  },
  {
   "cell_type": "markdown",
   "id": "39b61ab1-2aa4-42a1-b88f-fb3d3f9405b4",
   "metadata": {},
   "source": [
    "A number of electrons orbit around a charged nucleus. Many of those\n",
    "\n",
    "Two valence electrons in an ion have kinetic contributions $\\hat{K}_1$ and $\\hat{K}_2$ to the Hamiltonian. They are also under the influence of each other's Coulomb potential $\\frac{\\alpha}{r_{1,2}}$. They move under the influence of the shielded potential of the nucleus $\\hat{H}_{R}$ (which is  assumed to have radial symmetry), and of also accordingly to the effect of the crystal lattice in which they move, which is approximated by a crystal field potential $\\hat{V}_{CF}$ which would act equally on both electrons, and which only depends on the coordinates of the corresponding single electron. In total the Hamiltonian for this system with two-electrons would then be \n",
    "\n",
    "$\\hat{H} = \\hat{K}_1 + \\hat{K}_2 + \\hat{H}_{R,1} + \\hat{H}_{R,2} + \\hat{V}_{CF,1} + \\hat{V}_{CF,2} + \\frac{\\alpha}{r_{1,2}}$.\n",
    "\n",
    "From this Hamiltonian one may separate the Coulomb repulsion between the two charges so that an unperturbed Hamiltoninan may be taken to be\n",
    "\n",
    "$\\hat{H}_0 = \\hat{K}_1 + \\hat{K}_2 + \\hat{H}_{R,1} + \\hat{H}_{R,2} + \\hat{V}_{CF,1} + \\hat{V}_{CF,2}$\n",
    "\n",
    "For the unperturbed Hamiltonian, one further notices that it splits up in two equal single-electron Hamiltonian each acting on its corresponding single electron. \n",
    "\n",
    "$\\hat{H}_s = \\left(\\hat{K} + \\hat{H}_{R}\\right) + \\hat{V}_{CF}$\n",
    "\n",
    "For this single electron Hamiltonian  one further notices that there's a spherically symmetric part, and that the crystal field potential lowers this symmetry to that of the point-group symmetry that corresponds to it.\n",
    "\n",
    "The part with spherical symmetry immediately has solutions to the angular part of the wavefunction, and the radial parts would come from the solutions to ordinary differential equations.\n",
    "\n",
    "For solving the single electron Hamiltonian one uses the single-electron basis that would come from the solution to the spherically symmetric part. With this basis one may attempt to find an exact solution, in which case one would solve the eigenvalue equation from diagonalizing in blocks this Hamiltonian (which splits in blocks according to the orbital quantum number l). In general, the spherically symmetric part would only raise or lower (by an amount that only depends on l, but which may be imponderable for finding them would require solution to the radial equations) the energies that are obtained from the eigenvalues of the crystal field potential $V_{CF}$. \n",
    "\n",
    "If one were to consider transitions between different manifolds (labeled by $l$) one would need to know the energies of the sphericaly symmetric hamiltonian, however if one only cares about transitions within the same manifold (intra-f, intra-d, ...), then the transition energies don't require this and correspond immediately to the eigenvalues of the crystal field potential. As such, from here onwards, we only focus on the ground term.\n",
    "\n",
    "Furthermore, the eigenfunctions that would come from this neatly group according to the irreducible representations of the group, as such one pictures the degenerate states that belong to a given orbital angular momentum $l$ splitting in terms that are labeled with the labels of the irreducible representations.\n",
    "\n",
    "For building up the solution to the two-electron ground term, one would then take products of the wave-functions that result from diagonalizing the single-electron hamiltonian over the l-manifold of the ground state. Interestingly, these products may also be catalogued according to single irreducible representations of the group. At this point one also needs to include the spin of the electrons, which become relevant in satisfying Pauli's exclusion principle\n",
    "\n",
    "Once the terms for the ground terms of the two-electrons have been found as superpositions of products of wave-functions from the terms of the single-electron case, one then goes on to consider the effect of the Coulomb repulsion, which may lift some of the degeneracy in the ground state terms."
   ]
  },
  {
   "cell_type": "markdown",
   "id": "65c8e093-1595-4b2a-b372-8efca3a42794",
   "metadata": {},
   "source": [
    "<span style=\"color:lime\">\n",
    "1. Determine the symbolic expressions for the matrix elements of the Coulomb repulsion over the states of a given two-electron irrep-configuration (which includes states from several single-electron terms)\n",
    "</span>"
   ]
  },
  {
   "cell_type": "code",
   "execution_count": 19,
   "id": "c5304bf7-f49c-4554-a5c0-755bb83afd14",
   "metadata": {},
   "outputs": [
    {
     "data": {
      "text/html": [
       "<pre>✔️ 20.6 s (2021-11-23T10:27:10/2021-11-23T10:27:31)</pre>"
      ],
      "text/plain": [
       "<IPython.core.display.HTML object>"
      ]
     },
     "metadata": {},
     "output_type": "display_data"
    },
    {
     "name": "stdout",
     "output_type": "stream",
     "text": [
      "Took 20 s\n"
     ]
    }
   ],
   "source": [
    "ids = te.four_symbol_identities(te.CPGs.get_group_by_label('T_{h}'))"
   ]
  },
  {
   "cell_type": "code",
   "execution_count": 20,
   "id": "a1609da3-187b-4e5e-8e31-a06ab5f27491",
   "metadata": {},
   "outputs": [
    {
     "data": {
      "text/html": [
       "<pre>✔️ 18.9 s (2021-11-23T10:27:51/2021-11-23T10:28:10)</pre>"
      ],
      "text/plain": [
       "<IPython.core.display.HTML object>"
      ]
     },
     "metadata": {},
     "output_type": "display_data"
    },
    {
     "name": "stdout",
     "output_type": "stream",
     "text": [
      "Took 18 s\n"
     ]
    }
   ],
   "source": [
    "ids = te.four_symbol_identities(te.CPGs.get_group_by_label('T_{h}'))"
   ]
  },
  {
   "cell_type": "code",
   "execution_count": 507,
   "id": "abb2c266-b658-45e9-8c73-fdc5d87d9d0a",
   "metadata": {
    "tags": []
   },
   "outputs": [
    {
     "data": {
      "text/html": [
       "<pre>✔️ 22.5 ms (2021-11-22T17:14:35/2021-11-22T17:14:35)</pre>"
      ],
      "text/plain": [
       "<IPython.core.display.HTML object>"
      ]
     },
     "metadata": {},
     "output_type": "display_data"
    }
   ],
   "source": [
    "def simplify_qet(qet):\n",
    "    new_dict = {k:sp.simplify(v) for k,v in qet.dict.items()}\n",
    "    return Qet(new_dict)\n",
    "def term_energies(group_label, verbose=True):\n",
    "    # version: 1637619241\n",
    "    stages = 19 # this is how many distinct parts this algorithm has\n",
    "    if verbose:\n",
    "        pbar = tqdm(range(stages), bar_format='({n:d}/{total:d}) [{elapsed}] {desc}')\n",
    "    terms = twoe_terms[group_label]\n",
    "    group = CPGs.get_group_by_label(group_label)\n",
    "    component_labels = {k:list(v.values()) for k,v in new_labels[group_label].items()}\n",
    "    # for a given set of terms\n",
    "    # split all the enclosed states\n",
    "    # in groups of electron configurations\n",
    "    configs = {}\n",
    "    config_supplement = {}\n",
    "    for term_key, term in terms.items():\n",
    "        for state_key, state in zip(term.state_keys, term.states):\n",
    "            (Γ1, Γ2, Γ3, γ3, S, mSz) = state_key\n",
    "            α = sp.Symbol(sp.latex(Γ1).lower())*sp.Symbol(sp.latex(Γ2).lower())\n",
    "            if α not in configs.keys():\n",
    "                configs[α] = {}\n",
    "                config_supplement[α] = {}\n",
    "            if (S,Γ3) not in configs[α].keys():\n",
    "                configs[α][(S,Γ3)] = []\n",
    "                config_supplement[α][(S,Γ3)] = []\n",
    "            configs[α][(S,Γ3)].append(state)\n",
    "            config_supplement[α][(S,Γ3)].append(state_key)\n",
    "\n",
    "    def overlinesqueegee(s):\n",
    "        '''\n",
    "        Going back from the overline shorthand for spin down,\n",
    "        acting on a single set of quantum numbers.\n",
    "        '''\n",
    "        if 'overline' in str(s):\n",
    "            spin = -sp.S(1)/2\n",
    "            comp = sp.Symbol(str(s).replace('\\\\overline{','')[:-1])\n",
    "        else:\n",
    "            spin = sp.S(1)/2\n",
    "            comp = s\n",
    "        return (comp, spin)\n",
    "    def spin_restoration(qet):\n",
    "        '''\n",
    "        Going back from the overline shorthand for spin down,\n",
    "        acting on a qet.\n",
    "        '''\n",
    "        new_dict = {}\n",
    "        for k,v in qet.dict.items():\n",
    "            k = (*overlinesqueegee(k[0]),*overlinesqueegee(k[1]))\n",
    "            new_dict[k] = v\n",
    "        return Qet(new_dict)\n",
    "\n",
    "    # within each configuration\n",
    "    config_matrices = {}\n",
    "    for config in configs.keys():\n",
    "        # display(config)\n",
    "        # within each term\n",
    "        term_matrices = {}\n",
    "        for term_key, states in configs[config].items():\n",
    "            # find the brackets between all possible pairs of states\n",
    "            ham_matrix = []\n",
    "            for state0 in states:\n",
    "                ham_row = []\n",
    "                state0 = spin_restoration(state0)\n",
    "                for state1 in states:\n",
    "                    # recover the spin for the determinantal states\n",
    "                    pstate = state1\n",
    "                    state1 = spin_restoration(state1)\n",
    "                    # determine the det braket between these two states (an operator in between is assumed and omitted)\n",
    "                    detbraket = state0.dual()*state1 # changehere\n",
    "                    # simplify this braket of detstates into brakets between regular states\n",
    "                    regbraket = Qet({})\n",
    "                    for k,v in detbraket.dict.items():\n",
    "                        γ1, m1, γ2, m2, γ1p, m1p, γ2p, m2p = k\n",
    "                        # k0 = (γ1, m1, γ2, m2, γ1p, m1p, γ2p, m2p)\n",
    "                        # k1 = (γ1, m1, γ2, m2, γ2p, m2p, γ1p, m1p)\n",
    "                        k0 = (γ1, γ2, γ1p, γ2p)\n",
    "                        k1 = (γ1, γ2, γ2p, γ1p)\n",
    "                        # enforce orthogonality wrt. spin\n",
    "                        if (m1 == m1p) and (m2 == m2p):\n",
    "                            qplus = Qet({k0:v}) \n",
    "                        else:\n",
    "                            qplus = Qet({})\n",
    "                        if (m1 == m2p) and (m2 == m1p):\n",
    "                            qminus = Qet({k1:-v}) \n",
    "                        else:\n",
    "                            qminus = Qet({})\n",
    "                        regbraket += (qplus+qminus)\n",
    "                    ham_row.append(regbraket)\n",
    "                ham_matrix.append(ham_row)\n",
    "            term_matrices[term_key] = ham_matrix\n",
    "        config_matrices[config] = term_matrices\n",
    "\n",
    "    def composite_symbol(x):\n",
    "        return sp.Symbol('(%s)'%(','.join(list(map(sp.latex,x)))))\n",
    "    def fourtuplerecovery(ft):\n",
    "        '''the inverse of composite_symbol'''\n",
    "        return tuple(map(sp.Symbol,sp.latex(ft)[1:-1].split(',')))\n",
    "    \n",
    "    if verbose:\n",
    "        msg = group_label + \" Creating all 4-symbol identities ...\"\n",
    "        pbar.set_description(msg)\n",
    "        pbar.refresh()\n",
    "        pbar.n += 1\n",
    "\n",
    "    # this   integral_identities  dictionary  will  have  as  keys\n",
    "    # 4-tuples  of  irreps  and  its  values  will  be lists whose\n",
    "    # elements  are  2-tuples whose first elements are 4-tuples of\n",
    "    # irrep  components  and  whose values are qets whose keys are\n",
    "    # 4-tuples  of  irrep components and whose values are numeric.\n",
    "    # These 4-tuples represent a braket with the Coulomb repulsion\n",
    "    # operator in between.\n",
    "\n",
    "    integral_identities = {}\n",
    "    ir_mats = group.irrep_matrices\n",
    "    for ir1, ir2, ir3, ir4 in product(*([group.irrep_labels]*4)):\n",
    "        # To simplify calculations this part\n",
    "        # may only be done over quadruples in a standard\n",
    "        # order.\n",
    "        # Whatever is missed here is then brough back in\n",
    "        # by the reality relations.\n",
    "        altorder1 = (ir3, ir2, ir1, ir4)\n",
    "        altorder2 = (ir1, ir4, ir3, ir2)\n",
    "        altorder3 = (ir3, ir4, ir1, ir2)\n",
    "        if (altorder1 in integral_identities) or\\\n",
    "           (altorder2 in integral_identities) or\\\n",
    "           (altorder3 in integral_identities):\n",
    "            continue\n",
    "        integral_identity_sector = []\n",
    "        components = [component_labels[ir] for ir in [ir1, ir2, ir3, ir4]]\n",
    "        comp_to_idx = [{c: idx for idx, c in enumerate(component_labels[ir])} for ir in [ir1, ir2, ir3, ir4]]\n",
    "        for R in group.generators:\n",
    "            R_id = {}\n",
    "            for γ1, γ2, γ3, γ4 in product(*components):\n",
    "                for γ1p, γ2p, γ3p, γ4p in product(*components):\n",
    "                        val = sp.conjugate(ir_mats[ir1][R][comp_to_idx[0][γ1],comp_to_idx[0][γ1p]]) *\\\n",
    "                              sp.conjugate(ir_mats[ir2][R][comp_to_idx[1][γ2],comp_to_idx[1][γ2p]]) *\\\n",
    "                              ir_mats[ir3][R][comp_to_idx[2][γ3],comp_to_idx[2][γ3p]] *\\\n",
    "                              ir_mats[ir4][R][comp_to_idx[3][γ4],comp_to_idx[3][γ4p]]\n",
    "                        if val== 0:\n",
    "                            continue\n",
    "                        key = (γ1, γ2, γ3, γ4)\n",
    "                        if key not in R_id.keys():\n",
    "                            R_id[key] = []\n",
    "                        R_id[key].append( Qet({(γ1p,γ2p,γ3p,γ4p): val}) )\n",
    "            R_id_total = [(key, sum(R_id[key], Qet({}))) for key in R_id.keys()]\n",
    "            R_id_total = [q for q in R_id_total if len(q[1].dict)>0]\n",
    "            integral_identity_sector.extend(R_id_total)\n",
    "        integral_identities[(ir1,ir2,ir3,ir4)] = integral_identity_sector\n",
    "\n",
    "    # For solving the linear system it is convenient\n",
    "    # to have everything on one side of the equation.\n",
    "    if verbose:\n",
    "        msg = group_label + \" Creating set of identities ...\"\n",
    "        pbar.set_description(msg)\n",
    "        pbar.refresh()\n",
    "        pbar.n += 1\n",
    "    \n",
    "    identities = {}\n",
    "    for ircombo in integral_identities:\n",
    "        these_ids = []\n",
    "        for v in integral_identities[ircombo]:\n",
    "            lhs, rhs = v\n",
    "            diff = Qet({lhs:1}) - rhs\n",
    "            if len(diff.dict) > 0:\n",
    "                these_ids.append(diff)\n",
    "        identities[ircombo] = these_ids\n",
    "\n",
    "    # If an equation has only one key, then\n",
    "    # that immediately means that that braket is zero.\n",
    "    if verbose:\n",
    "        msg = group_label + \" Finding trivial zeros ...\"\n",
    "        pbar.set_description(msg)\n",
    "        pbar.refresh()\n",
    "        pbar.n += 1\n",
    "    \n",
    "    # first determine which ones have to be zero\n",
    "    better_identities = {irc:[] for irc in identities}\n",
    "    all_zeros = {}\n",
    "    for ircombo in identities:\n",
    "        zeros = []\n",
    "        for identity in identities[ircombo]:\n",
    "            if len(identity.dict) == 1:\n",
    "                zeros.append((list(identity.dict.keys())[0]))\n",
    "            else:\n",
    "                better_identities[ircombo].append(identity)\n",
    "        all_zeros[ircombo] = zeros\n",
    "\n",
    "    # use them to simplify things.\n",
    "    if verbose:\n",
    "        msg = group_label + \" Using them to simplify things ...\"\n",
    "        pbar.set_description(msg)\n",
    "        pbar.refresh()\n",
    "        pbar.n += 1\n",
    "    \n",
    "    great_identities = {irc:[] for irc in identities}\n",
    "    for ircombo in better_identities:\n",
    "        for identity in better_identities[ircombo]:\n",
    "            new_qet = Qet({})\n",
    "            for k,v in identity.dict.items():\n",
    "                if k in all_zeros[ircombo]:\n",
    "                    continue\n",
    "                else:\n",
    "                    new_qet+= Qet({k: v})\n",
    "            if len(new_qet.dict) == 0:\n",
    "                continue\n",
    "            great_identities[ircombo].append(new_qet)\n",
    "\n",
    "    # Inside of a four-symbol braket one may do three exchanges\n",
    "    # that must result in the same value. That if the wave\n",
    "    # functions are assumed to be real-valued.\n",
    "    \n",
    "    if verbose:\n",
    "        msg = group_label + \" Creating reality identities ...\"\n",
    "        pbar.set_description(msg)\n",
    "        pbar.refresh()\n",
    "        pbar.n += 1\n",
    "    \n",
    "    real_var_simplifiers = {irc:[] for irc in great_identities}\n",
    "    kprimes = set()\n",
    "    # this has to run over all the quadruples of irs\n",
    "    for ir1, ir2, ir3, ir4 in product(*([group.irrep_labels]*4)):\n",
    "        real_var_simplifier = {}\n",
    "        ircombo = (ir1, ir2, ir3, ir4)\n",
    "        components = [component_labels[ir] for ir in ircombo]\n",
    "        for γ1, γ2, γ3, γ4 in product(*components):\n",
    "            k = (γ1, γ2, γ3, γ4)\n",
    "            kalt1 = (γ3, γ2, γ1, γ4)\n",
    "            kalt2 = (γ1, γ4, γ3, γ2)\n",
    "            kalt3 = (γ3, γ4, γ1, γ2)\n",
    "            if kalt1 in kprimes:\n",
    "                real_var_simplifier[k] = kalt1\n",
    "            elif kalt2 in kprimes:\n",
    "                real_var_simplifier[k] = kalt2\n",
    "            elif kalt3 in kprimes:\n",
    "                real_var_simplifier[k] = kalt3\n",
    "            else:\n",
    "                real_var_simplifier[k] = k\n",
    "                kprimes.add(k)\n",
    "        real_var_simplifiers[ircombo] = real_var_simplifier\n",
    "\n",
    "    real_var_full_simplifier = {}\n",
    "    for ircombo in real_var_simplifiers:\n",
    "        real_var_full_simplifier.update(real_var_simplifiers[ircombo])\n",
    "\n",
    "    # For each 4-tuple of irreps\n",
    "    # create a system of symbolic solutions\n",
    "    # and let sympy solve that.\n",
    "    # For each 4-tuple of irreps\n",
    "    # the end result is a dictionary\n",
    "    # whose keys represent the dependent\n",
    "    # brakets and whose values are the\n",
    "    # relation that those dependent values\n",
    "    # have with the independent brakets.\n",
    "    # As such, when these dictionaries are\n",
    "    # used on an expression, everything should\n",
    "    # then be given in terms of indepedent brakets.\n",
    "\n",
    "    if verbose:\n",
    "        msg = group_label + \" Solving for independent 4-symbol brakets ...\"\n",
    "        pbar.set_description(msg)\n",
    "        pbar.refresh()\n",
    "        pbar.n += 1\n",
    "    \n",
    "    all_sols = {irc:[] for irc in great_identities}\n",
    "    for ircombo in great_identities:\n",
    "        zeros = all_zeros[ircombo]\n",
    "        problem_vars = list(set(sum([list(identity.dict.keys()) for identity in great_identities[ircombo]],[])))\n",
    "        big_ma = [awe.vec_in_basis(problem_vars) for awe in great_identities[ircombo]] \n",
    "        big_mat = sp.Matrix(big_ma)\n",
    "        big_mat = sp.re(big_mat) + sp.I*sp.im(big_mat)\n",
    "        rref_mat, pivots = big_mat.rref()\n",
    "        num_rows = rref_mat.rows\n",
    "        num_cols = rref_mat.cols\n",
    "        rref_ma_non_zero = [rref_mat[row,:] for row in range(num_rows) if (sum(np.array(rref_mat[row,:])[0] == 0) != num_cols)]\n",
    "        rref_mat_non_zero = sp.Matrix(rref_ma_non_zero)\n",
    "        varvec = sp.Matrix(list(map(composite_symbol,problem_vars)))\n",
    "        eqns = rref_mat_non_zero*varvec\n",
    "        ssol = sp.solve(list(eqns), dict=True)\n",
    "        all_sols[ircombo] = ssol\n",
    "        assert len(ssol) in [0,1]\n",
    "        if len(ssol) == 0:\n",
    "            sol_dict = {}\n",
    "        else:\n",
    "            sol_dict = ssol[0]\n",
    "        zero_addendum = {k:{} for k in all_zeros[ircombo]}\n",
    "        sol_dict = {fourtuplerecovery(k):{fourtuplerecovery(s):v.coeff(s) for s in v.free_symbols} for k,v in sol_dict.items()}\n",
    "        sol_dict.update(zero_addendum)\n",
    "        all_sols[ircombo] = sol_dict\n",
    "\n",
    "    # This final dictionary is unnecessary but\n",
    "    # simplifies calling the replacements onto\n",
    "    # a symbolic expression.\n",
    "    if verbose:\n",
    "        msg = group_label + \" Creating a dictionary with all the 4-symbol replacements ...\"\n",
    "        pbar.set_description(msg)\n",
    "        pbar.refresh()\n",
    "        pbar.n += 1\n",
    "    \n",
    "    super_solution = {}\n",
    "    for ircombo in all_sols:\n",
    "        super_solution.update(all_sols[ircombo])\n",
    "\n",
    "    def simplifier(qet):\n",
    "        simp_ket = Qet({})\n",
    "        for k,v in qet.dict.items():\n",
    "            simp_ket += Qet({real_var_full_simplifier[k]:v})\n",
    "        true_qet = Qet({})\n",
    "        for k,v in simp_ket.dict.items():\n",
    "            if k in super_solution:\n",
    "                true_qet += v*Qet(super_solution[k])\n",
    "            else:\n",
    "                true_qet += Qet({k:v})\n",
    "        return true_qet\n",
    "\n",
    "    def simplify_config_matrix(ir1ir2, S, ir3):\n",
    "        config_matrix = config_matrices[ir1ir2][(S,ir3)]\n",
    "        num_rows = len(config_matrix)\n",
    "        simple_matrix = [[simplifier(config_matrix[row][col]) for col in range(num_rows)] for row in range(num_rows)]\n",
    "        return simple_matrix\n",
    "    \n",
    "    if verbose:\n",
    "        msg = group_label + \" Simplifying configuration matrices ...\"\n",
    "        pbar.set_description(msg)\n",
    "        pbar.refresh()\n",
    "        pbar.n += 1\n",
    "    \n",
    "    simple_config_matrices = {k:{} for k in config_matrices}\n",
    "    for ir1ir2 in config_matrices.keys():\n",
    "        for term_key in config_matrices[ir1ir2]:\n",
    "            S, Γ3 = term_key\n",
    "            simple_config_matrices[ir1ir2][term_key] = simplify_config_matrix(ir1ir2, S, Γ3)\n",
    "\n",
    "    twotuplerecovery = fourtuplerecovery\n",
    "    if verbose:\n",
    "        msg = group_label + \" Creating all 2-symbol identities ...\"\n",
    "        pbar.set_description(msg)\n",
    "        pbar.refresh()\n",
    "        pbar.n += 1\n",
    "\n",
    "    # this   integral_identities  dictionary  will  have  as  keys\n",
    "    # 2-tuples  of  irreps  and  its  values  will  be lists whose\n",
    "    # elements  are  2-tuples whose first elements are 2-tuples of\n",
    "    # irrep  components  and  whose values are qets whose keys are\n",
    "    # 2-tuples  of  irrep components and whose values are numeric.\n",
    "    # These 2-tuples represent a braket with the an invariant operator\n",
    "    # operator in between.\n",
    "\n",
    "    integral_identities_2 = {}\n",
    "    ir_mats = group.irrep_matrices\n",
    "    for ir1, ir2 in product(*([group.irrep_labels]*2)):\n",
    "        # To simplify calculations this part\n",
    "        # can only be done over quadruples in a standard\n",
    "        # order.\n",
    "        # Whatever is missed here is then brough back in\n",
    "        # by the reality relations.\n",
    "        altorder1 = (ir2, ir1, ir1, ir4)\n",
    "        if (altorder1 in integral_identities_2):\n",
    "            continue\n",
    "        integral_identity_sector = []\n",
    "        components = [component_labels[ir] for ir in [ir1, ir2]]\n",
    "        comp_to_idx = [{c: idx for idx, c in enumerate(component_labels[ir])} for ir in [ir1, ir2]]\n",
    "        for R in group.generators:\n",
    "            R_id = {}\n",
    "            for γ1, γ2 in product(*components):\n",
    "                for γ1p, γ2p in product(*components):\n",
    "                        val = sp.conjugate(ir_mats[ir1][R][comp_to_idx[0][γ1],comp_to_idx[0][γ1p]]) *\\\n",
    "                              ir_mats[ir2][R][comp_to_idx[1][γ2],comp_to_idx[1][γ2p]]\n",
    "                        if val== 0:\n",
    "                            continue\n",
    "                        key = (γ1, γ2)\n",
    "                        if key not in R_id.keys():\n",
    "                            R_id[key] = []\n",
    "                        R_id[key].append( Qet({(γ1p,γ2p): val}) )\n",
    "            R_id_total = [(key, sum(R_id[key], Qet({}))) for key in R_id.keys()]\n",
    "            R_id_total = [q for q in R_id_total if len(q[1].dict)>0]\n",
    "            integral_identity_sector.extend(R_id_total)\n",
    "        integral_identities_2[(ir1,ir2)] = integral_identity_sector\n",
    "\n",
    "    # For solving the linear system it is convenient\n",
    "    # to have everything on one side of the equation.\n",
    "    if verbose:\n",
    "        msg = group_label + \" Creating set of 2 symbol identities ...\"\n",
    "        pbar.set_description(msg)\n",
    "        pbar.refresh()\n",
    "        pbar.n += 1\n",
    "    identities_2 = {}\n",
    "    \n",
    "    for ircombo in integral_identities_2:\n",
    "        these_ids = []\n",
    "        for v in integral_identities_2[ircombo]:\n",
    "            lhs, rhs = v\n",
    "            diff = Qet({lhs:1}) - rhs\n",
    "            if len(diff.dict) > 0:\n",
    "                these_ids.append(diff)\n",
    "        identities_2[ircombo] = these_ids\n",
    "\n",
    "    # If an equation has only one term, then\n",
    "    # that immediately means that that term is zero.\n",
    "    if verbose:\n",
    "        msg = group_label + \" Finding trivial zeros ...\"\n",
    "        pbar.set_description(msg)\n",
    "        pbar.refresh()\n",
    "        pbar.n += 1\n",
    "    \n",
    "    # first determine which ones have to be zero\n",
    "    better_identities_2 = {irc:[] for irc in identities_2}\n",
    "    all_zeros_2 = {}\n",
    "    for ircombo in identities_2:\n",
    "        zeros = []\n",
    "        for identity in identities_2[ircombo]:\n",
    "            if len(identity.dict) == 1:\n",
    "                zeros.append((list(identity.dict.keys())[0]))\n",
    "            else:\n",
    "                better_identities_2[ircombo].append(identity)\n",
    "        all_zeros_2[ircombo] = zeros\n",
    "\n",
    "    # use them to simplify things.\n",
    "    if verbose:\n",
    "        msg = group_label + \" Using them to simplify things ...\"\n",
    "        pbar.set_description(msg)\n",
    "        pbar.refresh()\n",
    "        pbar.n += 1\n",
    "    \n",
    "    great_identities_2 = {irc:[] for irc in identities_2}\n",
    "    for ircombo in better_identities_2:\n",
    "        for identity in better_identities_2[ircombo]:\n",
    "            new_qet = Qet({})\n",
    "            for k,v in identity.dict.items():\n",
    "                if k in all_zeros_2[ircombo]:\n",
    "                    continue\n",
    "                else:\n",
    "                    new_qet+= Qet({k: v})\n",
    "            if len(new_qet.dict) == 0:\n",
    "                continue\n",
    "            great_identities_2[ircombo].append(new_qet)\n",
    "\n",
    "    # Inside of a two-symbol braket one may do three exchanges\n",
    "    # that must result in the same value. That if the wave\n",
    "    # functions are assumed to be real-valued.\n",
    "    if verbose:\n",
    "        msg = group_label + \" Creating reality identities ...\"\n",
    "        pbar.set_description(msg)\n",
    "        pbar.refresh()\n",
    "        pbar.n += 1\n",
    "    real_var_simplifiers_2 = {irc:[] for irc in great_identities_2}\n",
    "    # this has to run over all the quadruples of irs\n",
    "    kprimes = set()\n",
    "    for ir1, ir2 in product(*([group.irrep_labels]*2)):\n",
    "        real_var_simplifier = {}\n",
    "        ircombo = (ir1, ir2)\n",
    "        components = [component_labels[ir] for ir in ircombo]\n",
    "        for γ1, γ2 in product(*components):\n",
    "            k = (γ1, γ2)\n",
    "            kalt = (γ2, γ1)\n",
    "            # If for a given key I find that its\n",
    "            # switched version has already been seen\n",
    "            # Then that key has to be mapped to be\n",
    "            # mapped to the key already present.\n",
    "            if kalt in kprimes:\n",
    "                real_var_simplifier[k] = kalt\n",
    "            else:\n",
    "                real_var_simplifier[k] = k\n",
    "                kprimes.add(k)\n",
    "        real_var_simplifiers_2[ircombo] = real_var_simplifier\n",
    "\n",
    "    # For each 2-tuple of irreps\n",
    "    # create a system of symbolic solutions\n",
    "    # and let sympy solve that.\n",
    "    # For each 2-tuple of irreps\n",
    "    # the end result is a dictionary\n",
    "    # whose keys represent the dependent\n",
    "    # brakets and whose values are the\n",
    "    # relation that those dependent values\n",
    "    # have with the independent brakets.\n",
    "    # As such, when these dictionaries are\n",
    "    # used on an expression, everything should\n",
    "    # then be given in terms of indepedent brakets.\n",
    "    if verbose:\n",
    "        msg = group_label + \" Solving for independent 2-symbol brakets ...\"\n",
    "        pbar.set_description(msg)\n",
    "        pbar.refresh()\n",
    "        pbar.n += 1\n",
    "    all_sols_2 = {irc:[] for irc in great_identities_2}\n",
    "    \n",
    "    for ircombo in great_identities_2:\n",
    "        zeros = all_zeros_2[ircombo]\n",
    "        problem_vars = list(set(sum([list(identity.dict.keys()) for identity in great_identities_2[ircombo]],[])))\n",
    "        big_ma = [awe.vec_in_basis(problem_vars) for awe in great_identities_2[ircombo]] \n",
    "        big_mat = sp.Matrix(big_ma)\n",
    "        big_mat = sp.re(big_mat)+sp.I*sp.im(big_mat)\n",
    "        rref_mat, pivots = big_mat.rref()\n",
    "        num_rows = rref_mat.rows\n",
    "        num_cols = rref_mat.cols\n",
    "        rref_ma_non_zero = [rref_mat[row,:] for row in range(num_rows) if (sum(np.array(rref_mat[row,:])[0] == 0) != num_cols)]\n",
    "        rref_mat_non_zero = sp.Matrix(rref_ma_non_zero)\n",
    "        varvec = sp.Matrix(list(map(composite_symbol,problem_vars)))\n",
    "        eqns = rref_mat_non_zero*varvec\n",
    "        ssol = sp.solve(list(eqns), dict=True)\n",
    "        all_sols[ircombo] = ssol\n",
    "        assert len(ssol) in [0,1]\n",
    "        if len(ssol) == 0:\n",
    "            sol_dict = {}\n",
    "        else:\n",
    "            sol_dict = ssol[0]\n",
    "        zero_addendum = {k:{} for k in all_zeros_2[ircombo]}\n",
    "        sol_dict = {twotuplerecovery(k):{twotuplerecovery(s):v.coeff(s) for s in v.free_symbols} for k,v in sol_dict.items()}\n",
    "        sol_dict.update(zero_addendum)\n",
    "        all_sols_2[ircombo] = sol_dict\n",
    "\n",
    "    # This final dictionary is unnecessary but\n",
    "    # simplifies calling the replacements onto\n",
    "    # a symbolic expression.\n",
    "    if verbose:\n",
    "        msg = group_label + \" Creating a dictionary with all the 2-symbol replacements ...\"\n",
    "        pbar.set_description(msg)\n",
    "        pbar.refresh()\n",
    "        pbar.n += 1\n",
    "    \n",
    "    super_solution_2 = {}\n",
    "    for ircombo in all_sols_2:\n",
    "        super_solution_2.update(all_sols_2[ircombo])\n",
    "\n",
    "    # for a given electron config\n",
    "    more_ids = {e_config:[] for e_config in simple_config_matrices}\n",
    "    for e_config in simple_config_matrices:\n",
    "        for term in simple_config_matrices[e_config]:\n",
    "            the_matrix = simple_config_matrices[e_config][term]\n",
    "            num_rows = len(the_matrix)\n",
    "            num_cols = len(the_matrix)\n",
    "            the_state_keys = config_supplement[e_config][term]\n",
    "            the_key_matrix = {}\n",
    "            for row_idx in range(num_rows):\n",
    "                Γ3_row = the_state_keys[row_idx][2]\n",
    "                γ3_row = the_state_keys[row_idx][3]\n",
    "                for col_idx in range(num_cols):\n",
    "                    Γ3_col = the_state_keys[col_idx][2]\n",
    "                    γ3_col = the_state_keys[col_idx][3]\n",
    "                    matrix_val = the_matrix[row_idx][col_idx]\n",
    "                    the_key_matrix[(γ3_row,γ3_col)] = matrix_val\n",
    "            # now go over the keys of super_solution_2\n",
    "            # and if one of those keys matches with a key in the_key_matrix\n",
    "            # do something about it\n",
    "            for k in super_solution_2:\n",
    "                if k in the_key_matrix:\n",
    "                    v = super_solution_2[k]\n",
    "                    # this matrix element\n",
    "                    matrix_element = the_key_matrix[k]\n",
    "                    # must be identified with the sum\n",
    "                    # as given in v\n",
    "                    matrix_equiv = sum([kv*the_key_matrix[km] for km, kv in v.items()],Qet({}))\n",
    "                    identity = (matrix_element - matrix_equiv) #=0\n",
    "                    if len(identity.dict) != 0:\n",
    "                        more_ids[e_config].append(identity)\n",
    "                        problem_vars = list(set(sum([list(identity.dict.keys()) for identity in more_ids[e_config]],[])))\n",
    "    if verbose:\n",
    "        msg = group_label + \" Simplifying numeric values of qets ...\"\n",
    "        pbar.set_description(msg)\n",
    "        pbar.refresh()\n",
    "        pbar.n += 1\n",
    "    \n",
    "    more_ids = {e_config:list(filter(lambda x: len(x.dict) > 0,list(map(simplify_qet,more_ids[e_config])))) for e_config in more_ids}\n",
    "    \n",
    "    if verbose:\n",
    "        msg = group_label + \" Solving for dependent vars in terms of independent ones ...\"\n",
    "        pbar.set_description(msg)\n",
    "        pbar.refresh()\n",
    "        pbar.n += 1\n",
    "    \n",
    "    all_sols_2_4 = {irc:[] for irc in more_ids}\n",
    "    \n",
    "    for e_config in more_ids:\n",
    "        problem_vars = list(set(sum([list(identity.dict.keys()) for identity in more_ids[e_config]],[])))\n",
    "        big_ma = [awe.vec_in_basis(problem_vars) for awe in more_ids[e_config]] \n",
    "        big_mat = sp.Matrix(big_ma)\n",
    "        big_mat = sp.re(big_mat)+sp.I*sp.im(big_mat)\n",
    "        rref_mat, pivots = big_mat.rref()\n",
    "        num_rows = rref_mat.rows\n",
    "        num_cols = rref_mat.cols\n",
    "        rref_ma_non_zero = [rref_mat[row,:] for row in range(num_rows) if (sum(np.array(rref_mat[row,:])[0] == 0) != num_cols)]\n",
    "        rref_mat_non_zero = sp.Matrix(rref_ma_non_zero)\n",
    "        varvec = sp.Matrix(list(map(composite_symbol, problem_vars)))\n",
    "        eqns = rref_mat_non_zero*varvec\n",
    "        ssol = sp.solve(list(eqns), dict=True)\n",
    "        all_sols_2_4[e_config] = ssol\n",
    "        assert len(ssol) in [0,1]\n",
    "        if len(ssol) == 0:\n",
    "            sol_dict = {}\n",
    "        else:\n",
    "            sol_dict = ssol[0]\n",
    "        sol_dict = {twotuplerecovery(k):{twotuplerecovery(s):v.coeff(s) for s in v.free_symbols} for k,v in sol_dict.items()}\n",
    "        all_sols_2_4[e_config] = sol_dict\n",
    "\n",
    "    # flatten into a single dictionary of replacements\n",
    "    fab_solution_2_4 = {}\n",
    "    for e_config in all_sols_2_4:\n",
    "        fab_solution_2_4.update(all_sols_2_4[e_config])\n",
    "    if verbose:\n",
    "        msg = group_label + \" There are %d less independent variables ...\"\n",
    "        pbar.set_description(\"There are %d less independent variables ...\" % len(fab_solution_2_4))\n",
    "        pbar.refresh()\n",
    "        pbar.n += 1\n",
    "    \n",
    "    def simplifier_f(qet):\n",
    "        true_qet = Qet({})\n",
    "        for k,v in qet.dict.items():\n",
    "            if k in fab_solution_2_4:\n",
    "                true_qet += v*Qet(fab_solution_2_4[k])\n",
    "            else:\n",
    "                true_qet += Qet({k:v})\n",
    "        return true_qet\n",
    "    \n",
    "    def simplify_config_matrix_f(ir1ir2, S, ir3):\n",
    "        config_matrix = simple_config_matrices[ir1ir2][(S,ir3)]\n",
    "        num_rows = len(config_matrix)\n",
    "        simple_matrix = [[simplifier_f(config_matrix[row][col]) for col in range(num_rows)] for row in range(num_rows)]\n",
    "        #simple_matrix = sp.Matrix(simple_matrix)\n",
    "        return simple_matrix\n",
    "    \n",
    "    if verbose:\n",
    "        msg = group_label + \" Making final simplifications ...\"\n",
    "        pbar.set_description(msg)\n",
    "        pbar.refresh()\n",
    "        pbar.n += 1\n",
    "    \n",
    "    final_config_matrices = {k:{} for k in config_matrices}\n",
    "    for ir1ir2 in config_matrices.keys():\n",
    "        for term_key in config_matrices[ir1ir2]:\n",
    "            S, Γ3 = term_key\n",
    "            final_config_matrices[ir1ir2][term_key] = simplify_config_matrix_f(ir1ir2, S, Γ3)\n",
    "    \n",
    "    if verbose:\n",
    "        msg = group_label + \" Finished\"\n",
    "        pbar.set_description(msg)\n",
    "        pbar.refresh()\n",
    "    \n",
    "    return final_config_matrices"
   ]
  },
  {
   "cell_type": "code",
   "execution_count": 508,
   "id": "e102d005-2583-41eb-ad8c-a1cc3338177f",
   "metadata": {
    "tags": []
   },
   "outputs": [
    {
     "data": {
      "text/html": [
       "<pre>✔️ 7 min 37 s (2021-11-22T17:14:37/2021-11-22T17:22:15)</pre>"
      ],
      "text/plain": [
       "<IPython.core.display.HTML object>"
      ]
     },
     "metadata": {},
     "output_type": "display_data"
    },
    {
     "data": {
      "application/vnd.jupyter.widget-view+json": {
       "model_id": "78aa412cf0cd4c74ac8074c976a73322",
       "version_major": 2,
       "version_minor": 0
      },
      "text/plain": [
       "(0/19) [00:00] "
      ]
     },
     "metadata": {},
     "output_type": "display_data"
    },
    {
     "data": {
      "application/vnd.jupyter.widget-view+json": {
       "model_id": "44f947ed3de94630946e5df059c8ef70",
       "version_major": 2,
       "version_minor": 0
      },
      "text/plain": [
       "(0/19) [00:00] "
      ]
     },
     "metadata": {},
     "output_type": "display_data"
    },
    {
     "data": {
      "application/vnd.jupyter.widget-view+json": {
       "model_id": "f2f7d91f267e47cf8e0d9f5ad2ddb2e5",
       "version_major": 2,
       "version_minor": 0
      },
      "text/plain": [
       "(0/19) [00:00] "
      ]
     },
     "metadata": {},
     "output_type": "display_data"
    },
    {
     "data": {
      "application/vnd.jupyter.widget-view+json": {
       "model_id": "88e5f2a826b245c9815b7ce4f60a67bc",
       "version_major": 2,
       "version_minor": 0
      },
      "text/plain": [
       "(0/19) [00:00] "
      ]
     },
     "metadata": {},
     "output_type": "display_data"
    },
    {
     "data": {
      "application/vnd.jupyter.widget-view+json": {
       "model_id": "7d14f0e5fb5f4a4a9d8c79aa3e401158",
       "version_major": 2,
       "version_minor": 0
      },
      "text/plain": [
       "(0/19) [00:00] "
      ]
     },
     "metadata": {},
     "output_type": "display_data"
    },
    {
     "data": {
      "application/vnd.jupyter.widget-view+json": {
       "model_id": "1588148931814fc0a0c4c4d4d3e83dfe",
       "version_major": 2,
       "version_minor": 0
      },
      "text/plain": [
       "(0/19) [00:00] "
      ]
     },
     "metadata": {},
     "output_type": "display_data"
    },
    {
     "data": {
      "application/vnd.jupyter.widget-view+json": {
       "model_id": "f48a839a64394c2695d5d84385b9ec1c",
       "version_major": 2,
       "version_minor": 0
      },
      "text/plain": [
       "(0/19) [00:00] "
      ]
     },
     "metadata": {},
     "output_type": "display_data"
    },
    {
     "data": {
      "application/vnd.jupyter.widget-view+json": {
       "model_id": "63e40634400c4d7ba4fe415f587d796c",
       "version_major": 2,
       "version_minor": 0
      },
      "text/plain": [
       "(0/19) [00:00] "
      ]
     },
     "metadata": {},
     "output_type": "display_data"
    },
    {
     "data": {
      "application/vnd.jupyter.widget-view+json": {
       "model_id": "411640551086492fbef3f94022ef87b7",
       "version_major": 2,
       "version_minor": 0
      },
      "text/plain": [
       "(0/19) [00:00] "
      ]
     },
     "metadata": {},
     "output_type": "display_data"
    },
    {
     "data": {
      "application/vnd.jupyter.widget-view+json": {
       "model_id": "fdc9998ebd274a35a9943d0f2bf211c6",
       "version_major": 2,
       "version_minor": 0
      },
      "text/plain": [
       "(0/19) [00:00] "
      ]
     },
     "metadata": {},
     "output_type": "display_data"
    },
    {
     "data": {
      "application/vnd.jupyter.widget-view+json": {
       "model_id": "d6a80adc9c8742eb90f9e7818477e6d5",
       "version_major": 2,
       "version_minor": 0
      },
      "text/plain": [
       "(0/19) [00:00] "
      ]
     },
     "metadata": {},
     "output_type": "display_data"
    },
    {
     "data": {
      "application/vnd.jupyter.widget-view+json": {
       "model_id": "a30ee83dd8e74c078c152c362512d5f9",
       "version_major": 2,
       "version_minor": 0
      },
      "text/plain": [
       "(0/19) [00:00] "
      ]
     },
     "metadata": {},
     "output_type": "display_data"
    },
    {
     "data": {
      "application/vnd.jupyter.widget-view+json": {
       "model_id": "308788ca73a54414b00225b80a054f6f",
       "version_major": 2,
       "version_minor": 0
      },
      "text/plain": [
       "(0/19) [00:00] "
      ]
     },
     "metadata": {},
     "output_type": "display_data"
    },
    {
     "data": {
      "application/vnd.jupyter.widget-view+json": {
       "model_id": "770cc86bc8904211827565cfa9506518",
       "version_major": 2,
       "version_minor": 0
      },
      "text/plain": [
       "(0/19) [00:00] "
      ]
     },
     "metadata": {},
     "output_type": "display_data"
    },
    {
     "data": {
      "application/vnd.jupyter.widget-view+json": {
       "model_id": "72835931e0a3495db6576834187a7e52",
       "version_major": 2,
       "version_minor": 0
      },
      "text/plain": [
       "(0/19) [00:00] "
      ]
     },
     "metadata": {},
     "output_type": "display_data"
    },
    {
     "data": {
      "application/vnd.jupyter.widget-view+json": {
       "model_id": "a6565f2bb0fe499f8fd58dce16708470",
       "version_major": 2,
       "version_minor": 0
      },
      "text/plain": [
       "(0/19) [00:00] "
      ]
     },
     "metadata": {},
     "output_type": "display_data"
    },
    {
     "data": {
      "application/vnd.jupyter.widget-view+json": {
       "model_id": "1283ae01691c403991f00a5ed9919f57",
       "version_major": 2,
       "version_minor": 0
      },
      "text/plain": [
       "(0/19) [00:00] "
      ]
     },
     "metadata": {},
     "output_type": "display_data"
    },
    {
     "data": {
      "application/vnd.jupyter.widget-view+json": {
       "model_id": "58f3c5ce3e6148c4acfa6752cb29ee5f",
       "version_major": 2,
       "version_minor": 0
      },
      "text/plain": [
       "(0/19) [00:00] "
      ]
     },
     "metadata": {},
     "output_type": "display_data"
    },
    {
     "data": {
      "application/vnd.jupyter.widget-view+json": {
       "model_id": "8a9a2cdd0a0c46f7897271be2e54ca7d",
       "version_major": 2,
       "version_minor": 0
      },
      "text/plain": [
       "(0/19) [00:00] "
      ]
     },
     "metadata": {},
     "output_type": "display_data"
    },
    {
     "data": {
      "application/vnd.jupyter.widget-view+json": {
       "model_id": "0cf5f59ceed543aaa3edce26c1e68068",
       "version_major": 2,
       "version_minor": 0
      },
      "text/plain": [
       "(0/19) [00:00] "
      ]
     },
     "metadata": {},
     "output_type": "display_data"
    },
    {
     "data": {
      "application/vnd.jupyter.widget-view+json": {
       "model_id": "18ff378062184aad91cad49ea640c07a",
       "version_major": 2,
       "version_minor": 0
      },
      "text/plain": [
       "(0/19) [00:00] "
      ]
     },
     "metadata": {},
     "output_type": "display_data"
    },
    {
     "data": {
      "application/vnd.jupyter.widget-view+json": {
       "model_id": "a1a95cf02a1a49019df4645d754bebb2",
       "version_major": 2,
       "version_minor": 0
      },
      "text/plain": [
       "(0/19) [00:00] "
      ]
     },
     "metadata": {},
     "output_type": "display_data"
    },
    {
     "data": {
      "application/vnd.jupyter.widget-view+json": {
       "model_id": "9d37c0af03e14eeea684b43c08268ade",
       "version_major": 2,
       "version_minor": 0
      },
      "text/plain": [
       "(0/19) [00:00] "
      ]
     },
     "metadata": {},
     "output_type": "display_data"
    },
    {
     "data": {
      "application/vnd.jupyter.widget-view+json": {
       "model_id": "8f7faf66941f410bb8af9921568fe020",
       "version_major": 2,
       "version_minor": 0
      },
      "text/plain": [
       "(0/19) [00:00] "
      ]
     },
     "metadata": {},
     "output_type": "display_data"
    },
    {
     "data": {
      "application/vnd.jupyter.widget-view+json": {
       "model_id": "c0d775986dbd49e2a09db11371593a23",
       "version_major": 2,
       "version_minor": 0
      },
      "text/plain": [
       "(0/19) [00:00] "
      ]
     },
     "metadata": {},
     "output_type": "display_data"
    },
    {
     "data": {
      "application/vnd.jupyter.widget-view+json": {
       "model_id": "61435ddbd253418cb120ec6f6b74d6d4",
       "version_major": 2,
       "version_minor": 0
      },
      "text/plain": [
       "(0/19) [00:00] "
      ]
     },
     "metadata": {},
     "output_type": "display_data"
    },
    {
     "data": {
      "application/vnd.jupyter.widget-view+json": {
       "model_id": "8ce2890f1fbb46a5b413c03b3feb66e3",
       "version_major": 2,
       "version_minor": 0
      },
      "text/plain": [
       "(0/19) [00:00] "
      ]
     },
     "metadata": {},
     "output_type": "display_data"
    },
    {
     "data": {
      "application/vnd.jupyter.widget-view+json": {
       "model_id": "84438d24acbf4df2baa1e3965915e4ba",
       "version_major": 2,
       "version_minor": 0
      },
      "text/plain": [
       "(0/19) [00:00] "
      ]
     },
     "metadata": {},
     "output_type": "display_data"
    },
    {
     "data": {
      "application/vnd.jupyter.widget-view+json": {
       "model_id": "85785a4e0e0348e284ea9636a275d69d",
       "version_major": 2,
       "version_minor": 0
      },
      "text/plain": [
       "(0/19) [00:00] "
      ]
     },
     "metadata": {},
     "output_type": "display_data"
    },
    {
     "data": {
      "application/vnd.jupyter.widget-view+json": {
       "model_id": "2adcd26d70014a33b1a4870b7d154f97",
       "version_major": 2,
       "version_minor": 0
      },
      "text/plain": [
       "(0/19) [00:00] "
      ]
     },
     "metadata": {},
     "output_type": "display_data"
    },
    {
     "data": {
      "application/vnd.jupyter.widget-view+json": {
       "model_id": "8342fafc2ae14e5dada3a30f828e1b62",
       "version_major": 2,
       "version_minor": 0
      },
      "text/plain": [
       "(0/19) [00:00] "
      ]
     },
     "metadata": {},
     "output_type": "display_data"
    },
    {
     "data": {
      "application/vnd.jupyter.widget-view+json": {
       "model_id": "a5bd847d85dc43bebd4df5eddbbfda29",
       "version_major": 2,
       "version_minor": 0
      },
      "text/plain": [
       "(0/19) [00:00] "
      ]
     },
     "metadata": {},
     "output_type": "display_data"
    }
   ],
   "source": [
    "all_term_energies = {}\n",
    "for group_label in CPGs.all_group_labels:\n",
    "    if group_label in all_term_energies:\n",
    "        continue\n",
    "    final_config_matrices = term_energies(group_label)\n",
    "#     print(\"Printing ...\")\n",
    "#     for counter, ir1ir2 in enumerate(final_config_matrices):\n",
    "#         print('-'*10)\n",
    "#         display(ir1ir2)\n",
    "#         for term_key in final_config_matrices[ir1ir2]:\n",
    "#             display(term_key)\n",
    "#             display(sp.Matrix([[el.as_braket() for el in row] for row in final_config_matrices[ir1ir2][term_key]]))\n",
    "#     print(\"Saving ...\")\n",
    "    all_term_energies[group_label] = final_config_matrices"
   ]
  },
  {
   "cell_type": "code",
   "execution_count": 509,
   "id": "ab1e34bf-2018-4cda-8a2f-7ee91b065bf5",
   "metadata": {},
   "outputs": [
    {
     "data": {
      "text/html": [
       "<pre>✔️ 615 µs (2021-11-22T17:22:15/2021-11-22T17:22:15)</pre>"
      ],
      "text/plain": [
       "<IPython.core.display.HTML object>"
      ]
     },
     "metadata": {},
     "output_type": "display_data"
    }
   ],
   "source": [
    "def simplify_qet_values(qet):\n",
    "    sqetdict = {k:sp.simplify(v) for k,v in qet.dict.items()}\n",
    "    return Qet(sqetdict)"
   ]
  },
  {
   "cell_type": "code",
   "execution_count": 510,
   "id": "3573a2f3-1636-469d-962b-b325e9b9d5fd",
   "metadata": {},
   "outputs": [
    {
     "data": {
      "text/html": [
       "<pre>✔️ 1.1 s (2021-11-22T17:22:15/2021-11-22T17:22:16)</pre>"
      ],
      "text/plain": [
       "<IPython.core.display.HTML object>"
      ]
     },
     "metadata": {},
     "output_type": "display_data"
    }
   ],
   "source": [
    "term_energies_for_printout = {}\n",
    "for group_label, term_energies in all_term_energies.items():\n",
    "    for e_config, terms  in term_energies.items():\n",
    "        for term_key, term_matrix in terms.items():\n",
    "            term_energy = term_matrix[0][0]\n",
    "            term_energy = simplify_qet_values(term_energy)\n",
    "            term_energies_for_printout[(group_label, e_config, term_key)] = term_energy"
   ]
  },
  {
   "cell_type": "code",
   "execution_count": 511,
   "id": "48423868-2833-4e5c-aa90-679685d952f0",
   "metadata": {},
   "outputs": [
    {
     "data": {
      "text/html": [
       "<pre>✔️ 61.9 ms (2021-11-22T17:22:16/2021-11-22T17:22:16)</pre>"
      ],
      "text/plain": [
       "<IPython.core.display.HTML object>"
      ]
     },
     "metadata": {},
     "output_type": "display_data"
    }
   ],
   "source": [
    "pickle.dump(term_energies_for_printout, open('./data/term_energies_for_print_1637619241.pkl','wb'))"
   ]
  },
  {
   "cell_type": "code",
   "execution_count": 409,
   "id": "87e704c3-0d04-4b98-8e51-ff7c7e7d4057",
   "metadata": {},
   "outputs": [
    {
     "data": {
      "text/html": [
       "<pre>✔️ 5.94 s (2021-11-22T11:03:48/2021-11-22T11:03:54)</pre>"
      ],
      "text/plain": [
       "<IPython.core.display.HTML object>"
      ]
     },
     "metadata": {},
     "output_type": "display_data"
    }
   ],
   "source": [
    "!beep"
   ]
  },
  {
   "cell_type": "markdown",
   "id": "6627bb4b-2457-4076-8fbd-8503e51f6fd2",
   "metadata": {},
   "source": [
    "After this jump to \"2e terms and their wavefunctions\""
   ]
  },
  {
   "cell_type": "markdown",
   "id": "e4ccfd69-3190-4cb2-8b88-897e3d9b9c35",
   "metadata": {
    "tags": []
   },
   "source": [
    "#### Fixed version comparison to O"
   ]
  },
  {
   "cell_type": "code",
   "execution_count": 375,
   "id": "34796572-ebfd-44de-8e98-f6ab56356da3",
   "metadata": {},
   "outputs": [
    {
     "data": {
      "text/html": [
       "<pre>✔️ 14.8 ms (2021-11-22T10:37:45/2021-11-22T10:37:45)</pre>"
      ],
      "text/plain": [
       "<IPython.core.display.HTML object>"
      ]
     },
     "metadata": {},
     "output_type": "display_data"
    }
   ],
   "source": [
    "def simplify_qet(qet):\n",
    "    new_dict = {k:sp.simplify(v) for k,v in qet.dict.items()}\n",
    "    return Qet(new_dict)\n",
    "def term_energies(group_label, verbose=True):\n",
    "    # version: 1637596104\n",
    "    stages = 19 # this is how many distinct parts this algorithm has\n",
    "    if verbose:\n",
    "        pbar = tqdm(range(stages), bar_format='({n:d}/{total:d}) [{elapsed}] {desc}')\n",
    "    terms = twoe_terms[group_label]\n",
    "    group = CPGs.get_group_by_label(group_label)\n",
    "    component_labels = {k:list(v.values()) for k,v in new_labels[group_label].items()}\n",
    "    # for a given set of terms\n",
    "    # split all the enclosed states\n",
    "    # in groups of electron configurations\n",
    "    configs = {}\n",
    "    config_supplement = {}\n",
    "    for term_key, term in terms.items():\n",
    "        for state_key, state in zip(term.state_keys, term.states):\n",
    "            (Γ1, Γ2, Γ3, γ3, S, mSz) = state_key\n",
    "            α = sp.Symbol(sp.latex(Γ1).lower())*sp.Symbol(sp.latex(Γ2).lower())\n",
    "            if α not in configs.keys():\n",
    "                configs[α] = {}\n",
    "                config_supplement[α] = {}\n",
    "            if (S,Γ3) not in configs[α].keys():\n",
    "                configs[α][(S,Γ3)] = []\n",
    "                config_supplement[α][(S,Γ3)] = []\n",
    "            configs[α][(S,Γ3)].append(state)\n",
    "            config_supplement[α][(S,Γ3)].append(state_key)\n",
    "\n",
    "    def overlinesqueegee(s):\n",
    "        '''\n",
    "        Going back from the overline shorthand for spin down,\n",
    "        acting on a single set of quantum numbers.\n",
    "        '''\n",
    "        if 'overline' in str(s):\n",
    "            spin = -sp.S(1)/2\n",
    "            comp = sp.Symbol(str(s).replace('\\\\overline{','')[:-1])\n",
    "        else:\n",
    "            spin = sp.S(1)/2\n",
    "            comp = s\n",
    "        return (comp, spin)\n",
    "    def spin_restoration(qet):\n",
    "        '''\n",
    "        Going back from the overline shorthand for spin down,\n",
    "        acting on a qet.\n",
    "        '''\n",
    "        new_dict = {}\n",
    "        for k,v in qet.dict.items():\n",
    "            k = (*overlinesqueegee(k[0]),*overlinesqueegee(k[1]))\n",
    "            new_dict[k] = v\n",
    "        return Qet(new_dict)\n",
    "\n",
    "    # within each configuration\n",
    "    config_matrices = {}\n",
    "    for config in configs.keys():\n",
    "        # display(config)\n",
    "        # within each term\n",
    "        term_matrices = {}\n",
    "        for term_key, states in configs[config].items():\n",
    "            # find the brackets between all possible pairs of states\n",
    "            ham_matrix = []\n",
    "            for state0 in states:\n",
    "                ham_row = []\n",
    "                state0 = spin_restoration(state0)\n",
    "                for state1 in states:\n",
    "                    # recover the spin for the determinantal states\n",
    "                    pstate = state1\n",
    "                    state1 = spin_restoration(state1)\n",
    "                    # determine the det braket between these two states (an operator in between is assumed and omitted)\n",
    "                    detbraket = state0.dual()*state1 # changehere\n",
    "                    # simplify this braket of detstates into brakets between regular states\n",
    "                    regbraket = Qet({})\n",
    "                    for k,v in detbraket.dict.items():\n",
    "                        γ1, m1, γ2, m2, γ1p, m1p, γ2p, m2p = k\n",
    "                        # k0 = (γ1, m1, γ2, m2, γ1p, m1p, γ2p, m2p)\n",
    "                        # k1 = (γ1, m1, γ2, m2, γ2p, m2p, γ1p, m1p)\n",
    "                        k0 = (γ1, γ2, γ1p, γ2p)\n",
    "                        k1 = (γ1, γ2, γ2p, γ1p)\n",
    "                        # enforce orthogonality wrt. spin\n",
    "                        if (m1 == m1p) and (m2 == m2p):\n",
    "                            qplus = Qet({k0:v}) \n",
    "                        else:\n",
    "                            qplus = Qet({})\n",
    "                        if (m1 == m2p) and (m2 == m1p):\n",
    "                            qminus = Qet({k1:-v}) \n",
    "                        else:\n",
    "                            qminus = Qet({})\n",
    "                        regbraket += (qplus+qminus)\n",
    "                    ham_row.append(regbraket)\n",
    "                ham_matrix.append(ham_row)\n",
    "            term_matrices[term_key] = ham_matrix\n",
    "        config_matrices[config] = term_matrices\n",
    "\n",
    "    def composite_symbol(x):\n",
    "        return sp.Symbol('(%s)'%(','.join(list(map(sp.latex,x)))))\n",
    "    def fourtuplerecovery(ft):\n",
    "        '''the inverse of composite_symbol'''\n",
    "        return tuple(map(sp.Symbol,sp.latex(ft)[1:-1].split(',')))\n",
    "    \n",
    "    if verbose:\n",
    "        msg = \"Creating all 4-symbol identities ...\"\n",
    "        pbar.set_description(msg)\n",
    "        pbar.refresh()\n",
    "        pbar.n += 1\n",
    "\n",
    "    # this   integral_identities  dictionary  will  have  as  keys\n",
    "    # 4-tuples  of  irreps  and  its  values  will  be lists whose\n",
    "    # elements  are  2-tuples whose first elements are 4-tuples of\n",
    "    # irrep  components  and  whose values are qets whose keys are\n",
    "    # 4-tuples  of  irrep components and whose values are numeric.\n",
    "    # These 4-tuples represent a braket with the Coulomb repulsion\n",
    "    # operator in between.\n",
    "\n",
    "    integral_identities = {}\n",
    "    ir_mats = group.irrep_matrices\n",
    "    for ir1, ir2, ir3, ir4 in product(*([group.irrep_labels]*4)):\n",
    "        # To simplify calculations this part\n",
    "        # may only be done over quadruples in a standard\n",
    "        # order.\n",
    "        # Whatever is missed here is then brough back in\n",
    "        # by the reality relations.\n",
    "        altorder1 = (ir3, ir2, ir1, ir4)\n",
    "        altorder2 = (ir1, ir4, ir3, ir2)\n",
    "        altorder3 = (ir3, ir4, ir1, ir2)\n",
    "        if (altorder1 in integral_identities) or\\\n",
    "           (altorder2 in integral_identities) or\\\n",
    "           (altorder3 in integral_identities):\n",
    "            continue\n",
    "        integral_identity_sector = []\n",
    "        components = [component_labels[ir] for ir in [ir1, ir2, ir3, ir4]]\n",
    "        comp_to_idx = [{c: idx for idx, c in enumerate(component_labels[ir])} for ir in [ir1, ir2, ir3, ir4]]\n",
    "        for R in group.generators + [sp.Symbol('{Ee}')]:\n",
    "            R_id = {}\n",
    "            for γ1, γ2, γ3, γ4 in product(*components):\n",
    "                for γ1p, γ2p, γ3p, γ4p in product(*components):\n",
    "                        val = sp.conjugate(ir_mats[ir1][R][comp_to_idx[0][γ1],comp_to_idx[0][γ1p]]) *\\\n",
    "                              sp.conjugate(ir_mats[ir2][R][comp_to_idx[1][γ2],comp_to_idx[1][γ2p]]) *\\\n",
    "                              ir_mats[ir3][R][comp_to_idx[2][γ3],comp_to_idx[2][γ3p]] *\\\n",
    "                              ir_mats[ir4][R][comp_to_idx[3][γ4],comp_to_idx[3][γ4p]]\n",
    "                        if val== 0:\n",
    "                            continue\n",
    "                        key = (γ1, γ2, γ3, γ4)\n",
    "                        if key not in R_id.keys():\n",
    "                            R_id[key] = []\n",
    "                        R_id[key].append( Qet({(γ1p,γ2p,γ3p,γ4p): val}) )\n",
    "            R_id_total = [(key, sum(R_id[key], Qet({}))) for key in R_id.keys()]\n",
    "            R_id_total = [q for q in R_id_total if len(q[1].dict)>0]\n",
    "            integral_identity_sector.extend(R_id_total)\n",
    "        integral_identities[(ir1,ir2,ir3,ir4)] = integral_identity_sector\n",
    "\n",
    "    # For solving the linear system it is convenient\n",
    "    # to have everything on one side of the equation.\n",
    "    if verbose:\n",
    "        msg = \"Creating set of identities ...\"\n",
    "        pbar.set_description(msg)\n",
    "        pbar.refresh()\n",
    "        pbar.n += 1\n",
    "    \n",
    "    identities = {}\n",
    "    for ircombo in integral_identities:\n",
    "        these_ids = []\n",
    "        for v in integral_identities[ircombo]:\n",
    "            lhs, rhs = v\n",
    "            diff = Qet({lhs:1}) - rhs\n",
    "            if len(diff.dict) > 0:\n",
    "                these_ids.append(diff)\n",
    "        identities[ircombo] = these_ids\n",
    "\n",
    "    # If an equation has only one key, then\n",
    "    # that immediately means that that braket is zero.\n",
    "    if verbose:\n",
    "        msg = \"Finding trivial zeros ...\"\n",
    "        pbar.set_description(msg)\n",
    "        pbar.refresh()\n",
    "        pbar.n += 1\n",
    "    \n",
    "    # first determine which ones have to be zero\n",
    "    better_identities = {irc:[] for irc in identities}\n",
    "    all_zeros = {}\n",
    "    for ircombo in identities:\n",
    "        zeros = []\n",
    "        for identity in identities[ircombo]:\n",
    "            if len(identity.dict) == 1:\n",
    "                zeros.append((list(identity.dict.keys())[0]))\n",
    "            else:\n",
    "                better_identities[ircombo].append(identity)\n",
    "        all_zeros[ircombo] = zeros\n",
    "\n",
    "    # use them to simplify things.\n",
    "    if verbose:\n",
    "        msg = \"Using them to simplify things ...\"\n",
    "        pbar.set_description(msg)\n",
    "        pbar.refresh()\n",
    "        pbar.n += 1\n",
    "    \n",
    "    great_identities = {irc:[] for irc in identities}\n",
    "    for ircombo in better_identities:\n",
    "        for identity in better_identities[ircombo]:\n",
    "            new_qet = Qet({})\n",
    "            for k,v in identity.dict.items():\n",
    "                if k in all_zeros[ircombo]:\n",
    "                    continue\n",
    "                else:\n",
    "                    new_qet+= Qet({k: v})\n",
    "            if len(new_qet.dict) == 0:\n",
    "                continue\n",
    "            great_identities[ircombo].append(new_qet)\n",
    "\n",
    "    # Inside of a four-symbol braket one may do three exchanges\n",
    "    # that must result in the same value. That if the wave\n",
    "    # functions are assumed to be real-valued.\n",
    "    \n",
    "    if verbose:\n",
    "        msg = \"Creating reality identities ...\"\n",
    "        pbar.set_description(msg)\n",
    "        pbar.refresh()\n",
    "        pbar.n += 1\n",
    "    \n",
    "    real_var_simplifiers = {irc:[] for irc in great_identities}\n",
    "    kprimes = set()\n",
    "    # this has to run over all the quadruples of irs\n",
    "    for ir1, ir2, ir3, ir4 in product(*([group.irrep_labels]*4)):\n",
    "        real_var_simplifier = {}\n",
    "        ircombo = (ir1, ir2, ir3, ir4)\n",
    "        components = [component_labels[ir] for ir in ircombo]\n",
    "        for γ1, γ2, γ3, γ4 in product(*components):\n",
    "            k = (γ1, γ2, γ3, γ4)\n",
    "            kalt1 = (γ3, γ2, γ1, γ4)\n",
    "            kalt2 = (γ1, γ4, γ3, γ2)\n",
    "            kalt3 = (γ3, γ4, γ1, γ2)\n",
    "            if kalt1 in kprimes:\n",
    "                real_var_simplifier[k] = kalt1\n",
    "            elif kalt2 in kprimes:\n",
    "                real_var_simplifier[k] = kalt2\n",
    "            elif kalt3 in kprimes:\n",
    "                real_var_simplifier[k] = kalt3\n",
    "            else:\n",
    "                real_var_simplifier[k] = k\n",
    "                kprimes.add(k)\n",
    "        real_var_simplifiers[ircombo] = real_var_simplifier\n",
    "\n",
    "    real_var_full_simplifier = {}\n",
    "    for ircombo in real_var_simplifiers:\n",
    "        real_var_full_simplifier.update(real_var_simplifiers[ircombo])\n",
    "\n",
    "    # For each 4-tuple of irreps\n",
    "    # create a system of symbolic solutions\n",
    "    # and let sympy solve that.\n",
    "    # For each 4-tuple of irreps\n",
    "    # the end result is a dictionary\n",
    "    # whose keys represent the dependent\n",
    "    # brakets and whose values are the\n",
    "    # relation that those dependent values\n",
    "    # have with the independent brakets.\n",
    "    # As such, when these dictionaries are\n",
    "    # used on an expression, everything should\n",
    "    # then be given in terms of indepedent brakets.\n",
    "\n",
    "    if verbose:\n",
    "        msg = \"Solving for independent 4-symbol brakets ...\"\n",
    "        pbar.set_description(msg)\n",
    "        pbar.refresh()\n",
    "        pbar.n += 1\n",
    "    \n",
    "    all_sols = {irc:[] for irc in great_identities}\n",
    "    for ircombo in great_identities:\n",
    "        zeros = all_zeros[ircombo]\n",
    "        problem_vars = list(set(sum([list(identity.dict.keys()) for identity in great_identities[ircombo]],[])))\n",
    "        big_ma = [awe.vec_in_basis(problem_vars) for awe in great_identities[ircombo]] \n",
    "        big_mat = sp.Matrix(big_ma)\n",
    "        big_mat = sp.re(big_mat)+sp.I*sp.im(big_mat)\n",
    "        rref_mat, pivots = big_mat.rref()\n",
    "        num_rows = rref_mat.rows\n",
    "        num_cols = rref_mat.cols\n",
    "        rref_ma_non_zero = [rref_mat[row,:] for row in range(num_rows) if (sum(np.array(rref_mat[row,:])[0] == 0) != num_cols)]\n",
    "        rref_mat_non_zero = sp.Matrix(rref_ma_non_zero)\n",
    "        varvec = sp.Matrix(list(map(composite_symbol,problem_vars)))\n",
    "        eqns = rref_mat_non_zero*varvec\n",
    "        ssol = sp.solve(list(eqns), dict=True)\n",
    "        all_sols[ircombo] = ssol\n",
    "        assert len(ssol) in [0,1]\n",
    "        if len(ssol) == 0:\n",
    "            sol_dict = {}\n",
    "        else:\n",
    "            sol_dict = ssol[0]\n",
    "        zero_addendum = {k:{} for k in all_zeros[ircombo]}\n",
    "        sol_dict = {fourtuplerecovery(k):{fourtuplerecovery(s):v.coeff(s) for s in v.free_symbols} for k,v in sol_dict.items()}\n",
    "        sol_dict.update(zero_addendum)\n",
    "        all_sols[ircombo] = sol_dict\n",
    "\n",
    "    # This final dictionary is unnecessary but\n",
    "    # simplifies calling the replacements onto\n",
    "    # a symbolic expression.\n",
    "    if verbose:\n",
    "        msg = \"Creating a dictionary with all the 4-symbol replacements ...\"\n",
    "        pbar.set_description(msg)\n",
    "        pbar.refresh()\n",
    "        pbar.n += 1\n",
    "    \n",
    "    super_solution = {}\n",
    "    for ircombo in all_sols:\n",
    "        super_solution.update(all_sols[ircombo])\n",
    "\n",
    "    def simplifier(qet):\n",
    "        simp_ket = Qet({})\n",
    "        for k,v in qet.dict.items():\n",
    "            simp_ket += Qet({real_var_full_simplifier[k]:v})\n",
    "        true_qet = Qet({})\n",
    "        for k,v in simp_ket.dict.items():\n",
    "            if k in super_solution:\n",
    "                true_qet += v*Qet(super_solution[k])\n",
    "            else:\n",
    "                true_qet += Qet({k:v})\n",
    "        return true_qet\n",
    "\n",
    "    def simplify_config_matrix(ir1ir2, S, ir3):\n",
    "        config_matrix = config_matrices[ir1ir2][(S,ir3)]\n",
    "        num_rows = len(config_matrix)\n",
    "        simple_matrix = [[simplifier(config_matrix[row][col]) for col in range(num_rows)] for row in range(num_rows)]\n",
    "        return simple_matrix\n",
    "    \n",
    "    if verbose:\n",
    "        msg = \"Simplifying configuration matrices ...\"\n",
    "        pbar.set_description(msg)\n",
    "        pbar.refresh()\n",
    "        pbar.n += 1\n",
    "    \n",
    "    simple_config_matrices = {k:{} for k in config_matrices}\n",
    "    for ir1ir2 in config_matrices.keys():\n",
    "        for term_key in config_matrices[ir1ir2]:\n",
    "            S, Γ3 = term_key\n",
    "            simple_config_matrices[ir1ir2][term_key] = simplify_config_matrix(ir1ir2, S, Γ3)\n",
    "\n",
    "    twotuplerecovery = fourtuplerecovery\n",
    "    if verbose:\n",
    "        msg = \"Creating all 2-symbol identities ...\"\n",
    "        pbar.set_description(msg)\n",
    "        pbar.refresh()\n",
    "        pbar.n += 1\n",
    "\n",
    "    # this   integral_identities  dictionary  will  have  as  keys\n",
    "    # 2-tuples  of  irreps  and  its  values  will  be lists whose\n",
    "    # elements  are  2-tuples whose first elements are 2-tuples of\n",
    "    # irrep  components  and  whose values are qets whose keys are\n",
    "    # 2-tuples  of  irrep components and whose values are numeric.\n",
    "    # These 2-tuples represent a braket with the an invariant operator\n",
    "    # operator in between.\n",
    "\n",
    "    integral_identities_2 = {}\n",
    "    ir_mats = group.irrep_matrices\n",
    "    for ir1, ir2 in product(*([group.irrep_labels]*2)):\n",
    "        # To simplify calculations this part\n",
    "        # can only be done over quadruples in a standard\n",
    "        # order.\n",
    "        # Whatever is missed here is then brough back in\n",
    "        # by the reality relations.\n",
    "        altorder1 = (ir2, ir1, ir1, ir4)\n",
    "        if (altorder1 in integral_identities_2):\n",
    "            continue\n",
    "        integral_identity_sector = []\n",
    "        components = [component_labels[ir] for ir in [ir1, ir2]]\n",
    "        comp_to_idx = [{c: idx for idx, c in enumerate(component_labels[ir])} for ir in [ir1, ir2]]\n",
    "        for R in group.generators + [sp.Symbol('{Ee}')]:\n",
    "            R_id = {}\n",
    "            for γ1, γ2 in product(*components):\n",
    "                for γ1p, γ2p in product(*components):\n",
    "                        val = sp.conjugate(ir_mats[ir1][R][comp_to_idx[0][γ1],comp_to_idx[0][γ1p]]) *\\\n",
    "                              ir_mats[ir2][R][comp_to_idx[1][γ2],comp_to_idx[1][γ2p]]\n",
    "                        if val== 0:\n",
    "                            continue\n",
    "                        key = (γ1, γ2)\n",
    "                        if key not in R_id.keys():\n",
    "                            R_id[key] = []\n",
    "                        R_id[key].append( Qet({(γ1p,γ2p): val}) )\n",
    "            R_id_total = [(key, sum(R_id[key], Qet({}))) for key in R_id.keys()]\n",
    "            R_id_total = [q for q in R_id_total if len(q[1].dict)>0]\n",
    "            integral_identity_sector.extend(R_id_total)\n",
    "        integral_identities_2[(ir1,ir2)] = integral_identity_sector\n",
    "\n",
    "    # For solving the linear system it is convenient\n",
    "    # to have everything on one side of the equation.\n",
    "    if verbose:\n",
    "        msg = \"Creating set of 2 symbol identities ...\"\n",
    "        pbar.set_description(msg)\n",
    "        pbar.refresh()\n",
    "        pbar.n += 1\n",
    "    identities_2 = {}\n",
    "    \n",
    "    for ircombo in integral_identities_2:\n",
    "        these_ids = []\n",
    "        for v in integral_identities_2[ircombo]:\n",
    "            lhs, rhs = v\n",
    "            diff = Qet({lhs:1}) - rhs\n",
    "            if len(diff.dict) > 0:\n",
    "                these_ids.append(diff)\n",
    "        identities_2[ircombo] = these_ids\n",
    "\n",
    "    # If an equation has only one term, then\n",
    "    # that immediately means that that term is zero.\n",
    "    if verbose:\n",
    "        msg = \"Finding trivial zeros ...\"\n",
    "        pbar.set_description(msg)\n",
    "        pbar.refresh()\n",
    "        pbar.n += 1\n",
    "    \n",
    "    # first determine which ones have to be zero\n",
    "    better_identities_2 = {irc:[] for irc in identities_2}\n",
    "    all_zeros_2 = {}\n",
    "    for ircombo in identities_2:\n",
    "        zeros = []\n",
    "        for identity in identities_2[ircombo]:\n",
    "            if len(identity.dict) == 1:\n",
    "                zeros.append((list(identity.dict.keys())[0]))\n",
    "            else:\n",
    "                better_identities_2[ircombo].append(identity)\n",
    "        all_zeros_2[ircombo] = zeros\n",
    "\n",
    "    # use them to simplify things.\n",
    "    if verbose:\n",
    "        msg = \"Using them to simplify things ...\"\n",
    "        pbar.set_description(msg)\n",
    "        pbar.refresh()\n",
    "        pbar.n += 1\n",
    "    \n",
    "    great_identities_2 = {irc:[] for irc in identities_2}\n",
    "    for ircombo in better_identities_2:\n",
    "        for identity in better_identities_2[ircombo]:\n",
    "            new_qet = Qet({})\n",
    "            for k,v in identity.dict.items():\n",
    "                if k in all_zeros_2[ircombo]:\n",
    "                    continue\n",
    "                else:\n",
    "                    new_qet+= Qet({k: v})\n",
    "            if len(new_qet.dict) == 0:\n",
    "                continue\n",
    "            great_identities_2[ircombo].append(new_qet)\n",
    "\n",
    "    # Inside of a two-symbol braket one may do three exchanges\n",
    "    # that must result in the same value. That if the wave\n",
    "    # functions are assumed to be real-valued.\n",
    "    if verbose:\n",
    "        msg = \"Creating reality identities ...\"\n",
    "        pbar.set_description(msg)\n",
    "        pbar.refresh()\n",
    "        pbar.n += 1\n",
    "    real_var_simplifiers_2 = {irc:[] for irc in great_identities_2}\n",
    "    # this has to run over all the quadruples of irs\n",
    "    kprimes = set()\n",
    "    for ir1, ir2 in product(*([group.irrep_labels]*2)):\n",
    "        real_var_simplifier = {}\n",
    "        ircombo = (ir1, ir2)\n",
    "        components = [component_labels[ir] for ir in ircombo]\n",
    "        for γ1, γ2 in product(*components):\n",
    "            k = (γ1, γ2)\n",
    "            kalt = (γ2, γ1)\n",
    "            # If for a given key I find that its\n",
    "            # switched version has already been seen\n",
    "            # Then that key has to be mapped to be\n",
    "            # mapped to the key already present.\n",
    "            if kalt in kprimes:\n",
    "                real_var_simplifier[k] = kalt\n",
    "            else:\n",
    "                real_var_simplifier[k] = k\n",
    "                kprimes.add(k)\n",
    "        real_var_simplifiers_2[ircombo] = real_var_simplifier\n",
    "\n",
    "    # For each 2-tuple of irreps\n",
    "    # create a system of symbolic solutions\n",
    "    # and let sympy solve that.\n",
    "    # For each 2-tuple of irreps\n",
    "    # the end result is a dictionary\n",
    "    # whose keys represent the dependent\n",
    "    # brakets and whose values are the\n",
    "    # relation that those dependent values\n",
    "    # have with the independent brakets.\n",
    "    # As such, when these dictionaries are\n",
    "    # used on an expression, everything should\n",
    "    # then be given in terms of indepedent brakets.\n",
    "    if verbose:\n",
    "        msg = \"Solving for independent 2-symbol brakets ...\"\n",
    "        pbar.set_description(msg)\n",
    "        pbar.refresh()\n",
    "        pbar.n += 1\n",
    "    all_sols_2 = {irc:[] for irc in great_identities_2}\n",
    "    \n",
    "    for ircombo in great_identities_2:\n",
    "        zeros = all_zeros_2[ircombo]\n",
    "        problem_vars = list(set(sum([list(identity.dict.keys()) for identity in great_identities_2[ircombo]],[])))\n",
    "        big_ma = [awe.vec_in_basis(problem_vars) for awe in great_identities_2[ircombo]] \n",
    "        big_mat = sp.Matrix(big_ma)\n",
    "        big_mat = sp.re(big_mat)+sp.I*sp.im(big_mat)\n",
    "        rref_mat, pivots = big_mat.rref()\n",
    "        num_rows = rref_mat.rows\n",
    "        num_cols = rref_mat.cols\n",
    "        rref_ma_non_zero = [rref_mat[row,:] for row in range(num_rows) if (sum(np.array(rref_mat[row,:])[0] == 0) != num_cols)]\n",
    "        rref_mat_non_zero = sp.Matrix(rref_ma_non_zero)\n",
    "        varvec = sp.Matrix(list(map(composite_symbol,problem_vars)))\n",
    "        eqns = rref_mat_non_zero*varvec\n",
    "        ssol = sp.solve(list(eqns), dict=True)\n",
    "        all_sols[ircombo] = ssol\n",
    "        assert len(ssol) in [0,1]\n",
    "        if len(ssol) == 0:\n",
    "            sol_dict = {}\n",
    "        else:\n",
    "            sol_dict = ssol[0]\n",
    "        zero_addendum = {k:{} for k in all_zeros_2[ircombo]}\n",
    "        sol_dict = {twotuplerecovery(k):{twotuplerecovery(s):v.coeff(s) for s in v.free_symbols} for k,v in sol_dict.items()}\n",
    "        sol_dict.update(zero_addendum)\n",
    "        all_sols_2[ircombo] = sol_dict\n",
    "\n",
    "    # This final dictionary is unnecessary but\n",
    "    # simplifies calling the replacements onto\n",
    "    # a symbolic expression.\n",
    "    if verbose:\n",
    "        msg = \"Creating a dictionary with all the 2-symbol replacements ...\"\n",
    "        pbar.set_description(msg)\n",
    "        pbar.refresh()\n",
    "        pbar.n += 1\n",
    "    \n",
    "    super_solution_2 = {}\n",
    "    for ircombo in all_sols_2:\n",
    "        super_solution_2.update(all_sols_2[ircombo])\n",
    "\n",
    "    # for a given electron config\n",
    "    more_ids = {e_config:[] for e_config in simple_config_matrices}\n",
    "    for e_config in simple_config_matrices:\n",
    "        for term in simple_config_matrices[e_config]:\n",
    "            the_matrix = simple_config_matrices[e_config][term]\n",
    "            num_rows = len(the_matrix)\n",
    "            num_cols = len(the_matrix)\n",
    "            the_state_keys = config_supplement[e_config][term]\n",
    "            the_key_matrix = {}\n",
    "            for row_idx in range(num_rows):\n",
    "                Γ3_row = the_state_keys[row_idx][2]\n",
    "                γ3_row = the_state_keys[row_idx][3]\n",
    "                for col_idx in range(num_cols):\n",
    "                    Γ3_col = the_state_keys[col_idx][2]\n",
    "                    γ3_col = the_state_keys[col_idx][3]\n",
    "                    matrix_val = the_matrix[row_idx][col_idx]\n",
    "                    the_key_matrix[(γ3_row,γ3_col)] = matrix_val\n",
    "            # now go over the keys of super_solution_2\n",
    "            # and if one of those keys matches with a key in the_key_matrix\n",
    "            # do something about it\n",
    "            for k in super_solution_2:\n",
    "                if k in the_key_matrix:\n",
    "                    v = super_solution_2[k]\n",
    "                    # this matrix element\n",
    "                    matrix_element = the_key_matrix[k]\n",
    "                    # must be identified with the sum\n",
    "                    # as given in v\n",
    "                    matrix_equiv = sum([kv*the_key_matrix[km] for km, kv in v.items()],Qet({}))\n",
    "                    identity = (matrix_element - matrix_equiv) #=0\n",
    "                    if len(identity.dict) != 0:\n",
    "                        more_ids[e_config].append(identity)\n",
    "                        problem_vars = list(set(sum([list(identity.dict.keys()) for identity in more_ids[e_config]],[])))\n",
    "    if verbose:\n",
    "        msg = \"Simplifying numeric values of qets ...\"\n",
    "        pbar.set_description(msg)\n",
    "        pbar.refresh()\n",
    "        pbar.n += 1\n",
    "    \n",
    "    more_ids = {e_config:list(filter(lambda x: len(x.dict) > 0,list(map(simplify_qet,more_ids[e_config])))) for e_config in more_ids}\n",
    "    \n",
    "    if verbose:\n",
    "        msg = \"Solving for dependent vars in terms of independent ones ...\"\n",
    "        pbar.set_description(msg)\n",
    "        pbar.refresh()\n",
    "        pbar.n += 1\n",
    "    \n",
    "    all_sols_2_4 = {irc:[] for irc in more_ids}\n",
    "    \n",
    "    for e_config in more_ids:\n",
    "        problem_vars = list(set(sum([list(identity.dict.keys()) for identity in more_ids[e_config]],[])))\n",
    "        big_ma = [awe.vec_in_basis(problem_vars) for awe in more_ids[e_config]] \n",
    "        big_mat = sp.Matrix(big_ma)\n",
    "        big_mat = sp.re(big_mat)+sp.I*sp.im(big_mat)\n",
    "        rref_mat, pivots = big_mat.rref()\n",
    "        num_rows = rref_mat.rows\n",
    "        num_cols = rref_mat.cols\n",
    "        rref_ma_non_zero = [rref_mat[row,:] for row in range(num_rows) if (sum(np.array(rref_mat[row,:])[0] == 0) != num_cols)]\n",
    "        rref_mat_non_zero = sp.Matrix(rref_ma_non_zero)\n",
    "        varvec = sp.Matrix(list(map(composite_symbol, problem_vars)))\n",
    "        eqns = rref_mat_non_zero*varvec\n",
    "        ssol = sp.solve(list(eqns), dict=True)\n",
    "        all_sols_2_4[e_config] = ssol\n",
    "        assert len(ssol) in [0,1]\n",
    "        if len(ssol) == 0:\n",
    "            sol_dict = {}\n",
    "        else:\n",
    "            sol_dict = ssol[0]\n",
    "        sol_dict = {twotuplerecovery(k):{twotuplerecovery(s):v.coeff(s) for s in v.free_symbols} for k,v in sol_dict.items()}\n",
    "        all_sols_2_4[e_config] = sol_dict\n",
    "\n",
    "    # flatten into a single dictionary of replacements\n",
    "    fab_solution_2_4 = {}\n",
    "    for e_config in all_sols_2_4:\n",
    "        fab_solution_2_4.update(all_sols_2_4[e_config])\n",
    "    if verbose:\n",
    "        msg = \"There are %d less independent variables ...\"\n",
    "        pbar.set_description(\"There are %d less independent variables ...\" % len(fab_solution_2_4))\n",
    "        pbar.refresh()\n",
    "        pbar.n += 1\n",
    "    \n",
    "    def simplifier_f(qet):\n",
    "        true_qet = Qet({})\n",
    "        for k,v in qet.dict.items():\n",
    "            if k in fab_solution_2_4:\n",
    "                true_qet += v*Qet(fab_solution_2_4[k])\n",
    "            else:\n",
    "                true_qet += Qet({k:v})\n",
    "        return true_qet\n",
    "    \n",
    "    def simplify_config_matrix_f(ir1ir2, S, ir3):\n",
    "        config_matrix = simple_config_matrices[ir1ir2][(S,ir3)]\n",
    "        num_rows = len(config_matrix)\n",
    "        simple_matrix = [[simplifier_f(config_matrix[row][col]) for col in range(num_rows)] for row in range(num_rows)]\n",
    "        #simple_matrix = sp.Matrix(simple_matrix)\n",
    "        return simple_matrix\n",
    "    \n",
    "    if verbose:\n",
    "        msg = \"Making final simplifications ...\"\n",
    "        pbar.set_description(msg)\n",
    "        pbar.refresh()\n",
    "        pbar.n += 1\n",
    "    \n",
    "    final_config_matrices = {k:{} for k in config_matrices}\n",
    "    for ir1ir2 in config_matrices.keys():\n",
    "        for term_key in config_matrices[ir1ir2]:\n",
    "            S, Γ3 = term_key\n",
    "            final_config_matrices[ir1ir2][term_key] = simplify_config_matrix_f(ir1ir2, S, Γ3)\n",
    "    \n",
    "    if verbose:\n",
    "        msg = \"Finished\"\n",
    "        pbar.set_description(msg)\n",
    "        pbar.refresh()\n",
    "    \n",
    "    return final_config_matrices"
   ]
  },
  {
   "cell_type": "code",
   "execution_count": 376,
   "id": "337c6b3e-7794-4c4a-b690-234cef6635fb",
   "metadata": {},
   "outputs": [
    {
     "data": {
      "text/html": [
       "<pre>✔️ 34.1 s (2021-11-22T10:37:53/2021-11-22T10:38:27)</pre>"
      ],
      "text/plain": [
       "<IPython.core.display.HTML object>"
      ]
     },
     "metadata": {},
     "output_type": "display_data"
    },
    {
     "data": {
      "application/vnd.jupyter.widget-view+json": {
       "model_id": "0b7587ff11814b53bc5c06231a7b8f1b",
       "version_major": 2,
       "version_minor": 0
      },
      "text/plain": [
       "(0/19) [00:00] "
      ]
     },
     "metadata": {},
     "output_type": "display_data"
    }
   ],
   "source": [
    "O = term_energies('O')"
   ]
  },
  {
   "cell_type": "code",
   "execution_count": 377,
   "id": "ae5e88fb-5fe3-4c74-9090-40324a9a5e4d",
   "metadata": {},
   "outputs": [
    {
     "data": {
      "text/html": [
       "<pre>✔️ 8.35 ms (2021-11-22T10:39:37/2021-11-22T10:39:37)</pre>"
      ],
      "text/plain": [
       "<IPython.core.display.HTML object>"
      ]
     },
     "metadata": {},
     "output_type": "display_data"
    }
   ],
   "source": []
  },
  {
   "cell_type": "code",
   "execution_count": 386,
   "id": "b171a1af-1099-437f-90bb-04fb710ff50e",
   "metadata": {},
   "outputs": [
    {
     "data": {
      "text/html": [
       "<pre>✔️ 3.1 ms (2021-11-22T10:43:54/2021-11-22T10:43:54)</pre>"
      ],
      "text/plain": [
       "<IPython.core.display.HTML object>"
      ]
     },
     "metadata": {},
     "output_type": "display_data"
    }
   ],
   "source": [
    "term_key = (0,sp.Symbol('T_2'))"
   ]
  },
  {
   "cell_type": "code",
   "execution_count": 416,
   "id": "c692969d-deee-4227-981e-b69b3374c66f",
   "metadata": {},
   "outputs": [
    {
     "data": {
      "text/html": [
       "<pre>✔️ 21.7 ms (2021-11-22T11:13:03/2021-11-22T11:13:03)</pre>"
      ],
      "text/plain": [
       "<IPython.core.display.HTML object>"
      ]
     },
     "metadata": {},
     "output_type": "display_data"
    },
    {
     "data": {
      "text/latex": [
       "$\\displaystyle 2 \\left\\langle {\\xi}{\\xi} \\right. {\\left|{\\phi}{\\phi}\\right\\rangle } + \\left\\langle {\\xi}{\\xi} \\right. {\\left|{\\xi}{\\xi}\\right\\rangle }$"
      ],
      "text/plain": [
       "2*<{\\xi}{\\xi}|{\\phi}{\\phi}> + <{\\xi}{\\xi}|{\\xi}{\\xi}>"
      ]
     },
     "metadata": {},
     "output_type": "display_data"
    },
    {
     "data": {
      "text/latex": [
       "$\\displaystyle \\left\\langle {\\xi}{\\phi} \\right. {\\left|{\\xi}{\\phi}\\right\\rangle } - \\left\\langle {\\xi}{\\xi} \\right. {\\left|{\\phi}{\\phi}\\right\\rangle }$"
      ],
      "text/plain": [
       "<{\\xi}{\\phi}|{\\xi}{\\phi}> - <{\\xi}{\\xi}|{\\phi}{\\phi}>"
      ]
     },
     "metadata": {},
     "output_type": "display_data"
    },
    {
     "data": {
      "text/latex": [
       "$\\displaystyle - \\left\\langle {\\xi}{\\xi} \\right. {\\left|{\\phi}{\\phi}\\right\\rangle } + \\left\\langle {\\xi}{\\xi} \\right. {\\left|{\\xi}{\\xi}\\right\\rangle }$"
      ],
      "text/plain": [
       "-<{\\xi}{\\xi}|{\\phi}{\\phi}> + <{\\xi}{\\xi}|{\\xi}{\\xi}>"
      ]
     },
     "metadata": {},
     "output_type": "display_data"
    },
    {
     "data": {
      "text/latex": [
       "$\\displaystyle \\left\\langle {\\xi}{\\phi} \\right. {\\left|{\\xi}{\\phi}\\right\\rangle } + \\left\\langle {\\xi}{\\xi} \\right. {\\left|{\\phi}{\\phi}\\right\\rangle }$"
      ],
      "text/plain": [
       "<{\\xi}{\\phi}|{\\xi}{\\phi}> + <{\\xi}{\\xi}|{\\phi}{\\phi}>"
      ]
     },
     "metadata": {},
     "output_type": "display_data"
    }
   ],
   "source": [
    "k = sp.Symbol('t_{2}')**2\n",
    "for term_key in [(0,sp.Symbol('A_1')),\n",
    "                (1,sp.Symbol('T_1')),\n",
    "                (0,sp.Symbol('E')),\n",
    "                (0,sp.Symbol('T_2'))]:\n",
    "    display(sp.Matrix([[el.as_braket() for el in row] for row in O[k][term_key]])[0,0])"
   ]
  },
  {
   "cell_type": "code",
   "execution_count": 418,
   "id": "e85f0a8f-edbe-41c3-8864-bb72b020ad36",
   "metadata": {
    "tags": []
   },
   "outputs": [
    {
     "data": {
      "text/html": [
       "<pre>✔️ 25.1 ms (2021-11-22T11:13:32/2021-11-22T11:13:32)</pre>"
      ],
      "text/plain": [
       "<IPython.core.display.HTML object>"
      ]
     },
     "metadata": {},
     "output_type": "display_data"
    },
    {
     "data": {
      "text/latex": [
       "$\\displaystyle {}^{1}A_{1}$"
      ],
      "text/plain": [
       "{}^{1}A_{1}"
      ]
     },
     "metadata": {},
     "output_type": "display_data"
    },
    {
     "data": {
      "text/latex": [
       "$\\displaystyle 2 \\left\\langle {\\xi}{\\xi} \\right. {\\left|{\\phi}{\\phi}\\right\\rangle } + \\left\\langle {\\xi}{\\xi} \\right. {\\left|{\\xi}{\\xi}\\right\\rangle }$"
      ],
      "text/plain": [
       "2*<{\\xi}{\\xi}|{\\phi}{\\phi}> + <{\\xi}{\\xi}|{\\xi}{\\xi}>"
      ]
     },
     "metadata": {},
     "output_type": "display_data"
    },
    {
     "data": {
      "text/latex": [
       "$\\displaystyle 2 \\left\\langle {\\xi}{\\xi} \\right. {\\left|{\\phi}{\\phi}\\right\\rangle } + \\left\\langle {\\xi}{\\xi} \\right. {\\left|{\\xi}{\\xi}\\right\\rangle }$"
      ],
      "text/plain": [
       "2*<{\\xi}{\\xi}|{\\phi}{\\phi}> + <{\\xi}{\\xi}|{\\xi}{\\xi}>"
      ]
     },
     "metadata": {},
     "output_type": "display_data"
    },
    {
     "data": {
      "text/latex": [
       "$\\displaystyle {}^{1}E$"
      ],
      "text/plain": [
       "{}^{1}E"
      ]
     },
     "metadata": {},
     "output_type": "display_data"
    },
    {
     "data": {
      "text/latex": [
       "$\\displaystyle - \\left\\langle {\\xi}{\\xi} \\right. {\\left|{\\phi}{\\phi}\\right\\rangle } + \\left\\langle {\\xi}{\\xi} \\right. {\\left|{\\xi}{\\xi}\\right\\rangle }$"
      ],
      "text/plain": [
       "-<{\\xi}{\\xi}|{\\phi}{\\phi}> + <{\\xi}{\\xi}|{\\xi}{\\xi}>"
      ]
     },
     "metadata": {},
     "output_type": "display_data"
    },
    {
     "data": {
      "text/latex": [
       "$\\displaystyle - \\left\\langle {\\xi}{\\xi} \\right. {\\left|{\\phi}{\\phi}\\right\\rangle } + \\left\\langle {\\xi}{\\xi} \\right. {\\left|{\\xi}{\\xi}\\right\\rangle }$"
      ],
      "text/plain": [
       "-<{\\xi}{\\xi}|{\\phi}{\\phi}> + <{\\xi}{\\xi}|{\\xi}{\\xi}>"
      ]
     },
     "metadata": {},
     "output_type": "display_data"
    },
    {
     "data": {
      "text/latex": [
       "$\\displaystyle {}^{3}T_{1}$"
      ],
      "text/plain": [
       "{}^{3}T_{1}"
      ]
     },
     "metadata": {},
     "output_type": "display_data"
    },
    {
     "data": {
      "text/latex": [
       "$\\displaystyle \\left\\langle {\\xi}{\\phi} \\right. {\\left|{\\xi}{\\phi}\\right\\rangle } - \\left\\langle {\\xi}{\\xi} \\right. {\\left|{\\phi}{\\phi}\\right\\rangle }$"
      ],
      "text/plain": [
       "<{\\xi}{\\phi}|{\\xi}{\\phi}> - <{\\xi}{\\xi}|{\\phi}{\\phi}>"
      ]
     },
     "metadata": {},
     "output_type": "display_data"
    },
    {
     "data": {
      "text/latex": [
       "$\\displaystyle \\left\\langle {\\xi}{\\phi} \\right. {\\left|{\\xi}{\\phi}\\right\\rangle } - \\left\\langle {\\xi}{\\xi} \\right. {\\left|{\\phi}{\\phi}\\right\\rangle }$"
      ],
      "text/plain": [
       "<{\\xi}{\\phi}|{\\xi}{\\phi}> - <{\\xi}{\\xi}|{\\phi}{\\phi}>"
      ]
     },
     "metadata": {},
     "output_type": "display_data"
    },
    {
     "data": {
      "text/latex": [
       "$\\displaystyle {}^{1}T_{2}$"
      ],
      "text/plain": [
       "{}^{1}T_{2}"
      ]
     },
     "metadata": {},
     "output_type": "display_data"
    },
    {
     "data": {
      "text/latex": [
       "$\\displaystyle \\left\\langle {\\xi}{\\phi} \\right. {\\left|{\\xi}{\\phi}\\right\\rangle } + \\left\\langle {\\xi}{\\xi} \\right. {\\left|{\\phi}{\\phi}\\right\\rangle }$"
      ],
      "text/plain": [
       "<{\\xi}{\\phi}|{\\xi}{\\phi}> + <{\\xi}{\\xi}|{\\phi}{\\phi}>"
      ]
     },
     "metadata": {},
     "output_type": "display_data"
    },
    {
     "data": {
      "text/latex": [
       "$\\displaystyle \\left\\langle {\\xi}{\\phi} \\right. {\\left|{\\xi}{\\phi}\\right\\rangle } + \\left\\langle {\\xi}{\\xi} \\right. {\\left|{\\phi}{\\phi}\\right\\rangle }$"
      ],
      "text/plain": [
       "<{\\xi}{\\phi}|{\\xi}{\\phi}> + <{\\xi}{\\xi}|{\\phi}{\\phi}>"
      ]
     },
     "metadata": {},
     "output_type": "display_data"
    }
   ],
   "source": [
    "k = sp.Symbol('t_{2}')**2\n",
    "for term_key in O[k]:#[(1,sp.Symbol('T_{u}'))]#[0][0].as_braket()\n",
    "    term_symb = sp.Symbol('{}^{%d}%s' % (term_key[0]*2+1,sp.latex(term_key[1])))\n",
    "    display(term_symb)\n",
    "    display(simple_config_matrices[k][term_key][0][0].as_braket())\n",
    "    display(O[k][term_key][0][0].as_braket())"
   ]
  },
  {
   "cell_type": "code",
   "execution_count": 431,
   "id": "2d950bbe-1532-408f-a304-ab94cd43a495",
   "metadata": {},
   "outputs": [
    {
     "data": {
      "text/html": [
       "<pre>✔️ 30.5 ms (2021-11-22T11:41:35/2021-11-22T11:41:35)</pre>"
      ],
      "text/plain": [
       "<IPython.core.display.HTML object>"
      ]
     },
     "metadata": {},
     "output_type": "display_data"
    },
    {
     "data": {
      "text/latex": [
       "$\\displaystyle {}^{1}A_{1}$"
      ],
      "text/plain": [
       "{}^{1}A_{1}"
      ]
     },
     "metadata": {},
     "output_type": "display_data"
    },
    {
     "name": "stdout",
     "output_type": "stream",
     "text": [
      "simple\n"
     ]
    },
    {
     "data": {
      "text/latex": [
       "$\\displaystyle \\left[\\begin{matrix}\\left\\langle {\\zeta}{\\zeta} \\right. {\\left|{\\gamma}{\\gamma}\\right\\rangle } + \\left\\langle {\\zeta}{\\zeta} \\right. {\\left|{\\zeta}{\\zeta}\\right\\rangle }\\end{matrix}\\right]$"
      ],
      "text/plain": [
       "Matrix([[<{\\zeta}{\\zeta}|{\\gamma}{\\gamma}> + <{\\zeta}{\\zeta}|{\\zeta}{\\zeta}>]])"
      ]
     },
     "metadata": {},
     "output_type": "display_data"
    },
    {
     "name": "stdout",
     "output_type": "stream",
     "text": [
      "final\n"
     ]
    },
    {
     "data": {
      "text/latex": [
       "$\\displaystyle \\left[\\begin{matrix}\\left\\langle {\\zeta}{\\zeta} \\right. {\\left|{\\gamma}{\\gamma}\\right\\rangle } + \\left\\langle {\\zeta}{\\zeta} \\right. {\\left|{\\zeta}{\\zeta}\\right\\rangle }\\end{matrix}\\right]$"
      ],
      "text/plain": [
       "Matrix([[<{\\zeta}{\\zeta}|{\\gamma}{\\gamma}> + <{\\zeta}{\\zeta}|{\\zeta}{\\zeta}>]])"
      ]
     },
     "metadata": {},
     "output_type": "display_data"
    },
    {
     "data": {
      "text/latex": [
       "$\\displaystyle {}^{3}A_{2}$"
      ],
      "text/plain": [
       "{}^{3}A_{2}"
      ]
     },
     "metadata": {},
     "output_type": "display_data"
    },
    {
     "name": "stdout",
     "output_type": "stream",
     "text": [
      "simple\n"
     ]
    },
    {
     "data": {
      "text/latex": [
       "$\\displaystyle \\left[\\begin{matrix}\\left\\langle {\\zeta}{\\gamma} \\right. {\\left|{\\zeta}{\\gamma}\\right\\rangle } - \\left\\langle {\\zeta}{\\zeta} \\right. {\\left|{\\gamma}{\\gamma}\\right\\rangle } & 0 & 0\\\\0 & \\left\\langle {\\zeta}{\\gamma} \\right. {\\left|{\\zeta}{\\gamma}\\right\\rangle } - \\left\\langle {\\zeta}{\\zeta} \\right. {\\left|{\\gamma}{\\gamma}\\right\\rangle } & 0\\\\0 & 0 & \\left\\langle {\\zeta}{\\gamma} \\right. {\\left|{\\zeta}{\\gamma}\\right\\rangle } - \\left\\langle {\\zeta}{\\zeta} \\right. {\\left|{\\gamma}{\\gamma}\\right\\rangle }\\end{matrix}\\right]$"
      ],
      "text/plain": [
       "Matrix([\n",
       "[<{\\zeta}{\\gamma}|{\\zeta}{\\gamma}> - <{\\zeta}{\\zeta}|{\\gamma}{\\gamma}>,                                                                     0,                                                                     0],\n",
       "[                                                                    0, <{\\zeta}{\\gamma}|{\\zeta}{\\gamma}> - <{\\zeta}{\\zeta}|{\\gamma}{\\gamma}>,                                                                     0],\n",
       "[                                                                    0,                                                                     0, <{\\zeta}{\\gamma}|{\\zeta}{\\gamma}> - <{\\zeta}{\\zeta}|{\\gamma}{\\gamma}>]])"
      ]
     },
     "metadata": {},
     "output_type": "display_data"
    },
    {
     "name": "stdout",
     "output_type": "stream",
     "text": [
      "final\n"
     ]
    },
    {
     "data": {
      "text/latex": [
       "$\\displaystyle \\left[\\begin{matrix}- 3 \\left\\langle {\\zeta}{\\zeta} \\right. {\\left|{\\gamma}{\\gamma}\\right\\rangle } + \\left\\langle {\\zeta}{\\zeta} \\right. {\\left|{\\zeta}{\\zeta}\\right\\rangle } & 0 & 0\\\\0 & - 3 \\left\\langle {\\zeta}{\\zeta} \\right. {\\left|{\\gamma}{\\gamma}\\right\\rangle } + \\left\\langle {\\zeta}{\\zeta} \\right. {\\left|{\\zeta}{\\zeta}\\right\\rangle } & 0\\\\0 & 0 & - 3 \\left\\langle {\\zeta}{\\zeta} \\right. {\\left|{\\gamma}{\\gamma}\\right\\rangle } + \\left\\langle {\\zeta}{\\zeta} \\right. {\\left|{\\zeta}{\\zeta}\\right\\rangle }\\end{matrix}\\right]$"
      ],
      "text/plain": [
       "Matrix([\n",
       "[-3*<{\\zeta}{\\zeta}|{\\gamma}{\\gamma}> + <{\\zeta}{\\zeta}|{\\zeta}{\\zeta}>,                                                                      0,                                                                      0],\n",
       "[                                                                     0, -3*<{\\zeta}{\\zeta}|{\\gamma}{\\gamma}> + <{\\zeta}{\\zeta}|{\\zeta}{\\zeta}>,                                                                      0],\n",
       "[                                                                     0,                                                                      0, -3*<{\\zeta}{\\zeta}|{\\gamma}{\\gamma}> + <{\\zeta}{\\zeta}|{\\zeta}{\\zeta}>]])"
      ]
     },
     "metadata": {},
     "output_type": "display_data"
    },
    {
     "data": {
      "text/latex": [
       "$\\displaystyle {}^{1}E$"
      ],
      "text/plain": [
       "{}^{1}E"
      ]
     },
     "metadata": {},
     "output_type": "display_data"
    },
    {
     "name": "stdout",
     "output_type": "stream",
     "text": [
      "simple\n"
     ]
    },
    {
     "data": {
      "text/latex": [
       "$\\displaystyle \\left[\\begin{matrix}- \\left\\langle {\\zeta}{\\zeta} \\right. {\\left|{\\gamma}{\\gamma}\\right\\rangle } + \\left\\langle {\\zeta}{\\zeta} \\right. {\\left|{\\zeta}{\\zeta}\\right\\rangle } & 0\\\\0 & \\left\\langle {\\zeta}{\\gamma} \\right. {\\left|{\\zeta}{\\gamma}\\right\\rangle } + \\left\\langle {\\zeta}{\\zeta} \\right. {\\left|{\\gamma}{\\gamma}\\right\\rangle }\\end{matrix}\\right]$"
      ],
      "text/plain": [
       "Matrix([\n",
       "[-<{\\zeta}{\\zeta}|{\\gamma}{\\gamma}> + <{\\zeta}{\\zeta}|{\\zeta}{\\zeta}>,                                                                     0],\n",
       "[                                                                   0, <{\\zeta}{\\gamma}|{\\zeta}{\\gamma}> + <{\\zeta}{\\zeta}|{\\gamma}{\\gamma}>]])"
      ]
     },
     "metadata": {},
     "output_type": "display_data"
    },
    {
     "name": "stdout",
     "output_type": "stream",
     "text": [
      "final\n"
     ]
    },
    {
     "data": {
      "text/latex": [
       "$\\displaystyle \\left[\\begin{matrix}- \\left\\langle {\\zeta}{\\zeta} \\right. {\\left|{\\gamma}{\\gamma}\\right\\rangle } + \\left\\langle {\\zeta}{\\zeta} \\right. {\\left|{\\zeta}{\\zeta}\\right\\rangle } & 0\\\\0 & - \\left\\langle {\\zeta}{\\zeta} \\right. {\\left|{\\gamma}{\\gamma}\\right\\rangle } + \\left\\langle {\\zeta}{\\zeta} \\right. {\\left|{\\zeta}{\\zeta}\\right\\rangle }\\end{matrix}\\right]$"
      ],
      "text/plain": [
       "Matrix([\n",
       "[-<{\\zeta}{\\zeta}|{\\gamma}{\\gamma}> + <{\\zeta}{\\zeta}|{\\zeta}{\\zeta}>,                                                                    0],\n",
       "[                                                                   0, -<{\\zeta}{\\zeta}|{\\gamma}{\\gamma}> + <{\\zeta}{\\zeta}|{\\zeta}{\\zeta}>]])"
      ]
     },
     "metadata": {},
     "output_type": "display_data"
    },
    {
     "name": "stdout",
     "output_type": "stream",
     "text": [
      "----\n"
     ]
    },
    {
     "data": {
      "text/latex": [
       "$\\displaystyle \\left\\langle {\\zeta}{\\zeta} \\right. {\\left|{\\gamma}{\\gamma}\\right\\rangle }$"
      ],
      "text/plain": [
       "<{\\zeta}{\\zeta}|{\\gamma}{\\gamma}>"
      ]
     },
     "metadata": {},
     "output_type": "display_data"
    },
    {
     "data": {
      "text/latex": [
       "$\\displaystyle \\left\\langle {\\zeta}{\\zeta} \\right. {\\left|{\\zeta}{\\zeta}\\right\\rangle }$"
      ],
      "text/plain": [
       "<{\\zeta}{\\zeta}|{\\zeta}{\\zeta}>"
      ]
     },
     "metadata": {},
     "output_type": "display_data"
    }
   ],
   "source": [
    "k = sp.Symbol('e')**2\n",
    "free_ints = set()\n",
    "energies = {}\n",
    "for term_key in O[k]:#[(1,sp.Symbol('T_{u}'))]#[0][0].as_braket()\n",
    "    term_symb = sp.Symbol('{}^{%d}%s' % (term_key[0]*2+1,sp.latex(term_key[1])))\n",
    "    display(term_symb)\n",
    "    # display(simple_config_matrices[k][term_key][0][0].as_braket())\n",
    "    print(\"simple\")\n",
    "    display(sp.Matrix([[l.as_braket() for l in row] for row in simple_config_matrices[k][term_key]]))\n",
    "    print(\"final\")\n",
    "    display(sp.Matrix([[l.as_braket() for l in row] for row in O[k][term_key]]))\n",
    "#     display(O[k][term_key][0][0].as_braket())\n",
    "    energies[term_key] = O[k][term_key][0][0]\n",
    "    free_ints.update(list(O[k][term_key][0][0].dict.keys()))\n",
    "print(\"----\")\n",
    "for free_int in free_ints:\n",
    "    display(Qet({free_int:1}).as_braket())"
   ]
  },
  {
   "cell_type": "code",
   "execution_count": 445,
   "id": "fcfc312a-e982-4693-8487-51d68bfbc827",
   "metadata": {},
   "outputs": [
    {
     "data": {
      "text/html": [
       "<pre>✔️ 130 ms (2021-11-22T11:50:33/2021-11-22T11:50:33)</pre>"
      ],
      "text/plain": [
       "<IPython.core.display.HTML object>"
      ]
     },
     "metadata": {},
     "output_type": "display_data"
    },
    {
     "data": {
      "text/latex": [
       "$\\displaystyle {}^{3}T_{1}$"
      ],
      "text/plain": [
       "{}^{3}T_{1}"
      ]
     },
     "metadata": {},
     "output_type": "display_data"
    },
    {
     "name": "stdout",
     "output_type": "stream",
     "text": [
      "simple\n"
     ]
    },
    {
     "data": {
      "text/latex": [
       "$\\displaystyle \\left[\\begin{matrix}\\left\\langle {\\zeta}{\\xi} \\right. {\\left|{\\zeta}{\\xi}\\right\\rangle } - \\left\\langle {\\zeta}{\\zeta} \\right. {\\left|{\\xi}{\\xi}\\right\\rangle } & 0 & 0 & 0 & 0 & 0 & 0 & 0 & 0\\\\0 & \\left\\langle {\\zeta}{\\xi} \\right. {\\left|{\\zeta}{\\xi}\\right\\rangle } - \\left\\langle {\\zeta}{\\zeta} \\right. {\\left|{\\xi}{\\xi}\\right\\rangle } & 0 & 0 & 0 & 0 & 0 & 0 & 0\\\\0 & 0 & \\left\\langle {\\zeta}{\\xi} \\right. {\\left|{\\zeta}{\\xi}\\right\\rangle } - \\left\\langle {\\zeta}{\\zeta} \\right. {\\left|{\\xi}{\\xi}\\right\\rangle } & 0 & 0 & 0 & 0 & 0 & 0\\\\0 & 0 & 0 & \\left\\langle {\\zeta}{\\xi} \\right. {\\left|{\\zeta}{\\xi}\\right\\rangle } - \\left\\langle {\\zeta}{\\zeta} \\right. {\\left|{\\xi}{\\xi}\\right\\rangle } & 0 & 0 & 0 & 0 & 0\\\\0 & 0 & 0 & 0 & \\left\\langle {\\zeta}{\\xi} \\right. {\\left|{\\zeta}{\\xi}\\right\\rangle } - \\left\\langle {\\zeta}{\\zeta} \\right. {\\left|{\\xi}{\\xi}\\right\\rangle } & 0 & 0 & 0 & 0\\\\0 & 0 & 0 & 0 & 0 & \\left\\langle {\\zeta}{\\xi} \\right. {\\left|{\\zeta}{\\xi}\\right\\rangle } - \\left\\langle {\\zeta}{\\zeta} \\right. {\\left|{\\xi}{\\xi}\\right\\rangle } & 0 & 0 & 0\\\\0 & 0 & 0 & 0 & 0 & 0 & \\left\\langle {\\zeta}{\\xi} \\right. {\\left|{\\zeta}{\\xi}\\right\\rangle } - \\left\\langle {\\zeta}{\\zeta} \\right. {\\left|{\\xi}{\\xi}\\right\\rangle } & 0 & 0\\\\0 & 0 & 0 & 0 & 0 & 0 & 0 & \\left\\langle {\\zeta}{\\xi} \\right. {\\left|{\\zeta}{\\xi}\\right\\rangle } - \\left\\langle {\\zeta}{\\zeta} \\right. {\\left|{\\xi}{\\xi}\\right\\rangle } & 0\\\\0 & 0 & 0 & 0 & 0 & 0 & 0 & 0 & \\left\\langle {\\zeta}{\\xi} \\right. {\\left|{\\zeta}{\\xi}\\right\\rangle } - \\left\\langle {\\zeta}{\\zeta} \\right. {\\left|{\\xi}{\\xi}\\right\\rangle }\\end{matrix}\\right]$"
      ],
      "text/plain": [
       "Matrix([\n",
       "[<{\\zeta}{\\xi}|{\\zeta}{\\xi}> - <{\\zeta}{\\zeta}|{\\xi}{\\xi}>,                                                         0,                                                         0,                                                         0,                                                         0,                                                         0,                                                         0,                                                         0,                                                         0],\n",
       "[                                                        0, <{\\zeta}{\\xi}|{\\zeta}{\\xi}> - <{\\zeta}{\\zeta}|{\\xi}{\\xi}>,                                                         0,                                                         0,                                                         0,                                                         0,                                                         0,                                                         0,                                                         0],\n",
       "[                                                        0,                                                         0, <{\\zeta}{\\xi}|{\\zeta}{\\xi}> - <{\\zeta}{\\zeta}|{\\xi}{\\xi}>,                                                         0,                                                         0,                                                         0,                                                         0,                                                         0,                                                         0],\n",
       "[                                                        0,                                                         0,                                                         0, <{\\zeta}{\\xi}|{\\zeta}{\\xi}> - <{\\zeta}{\\zeta}|{\\xi}{\\xi}>,                                                         0,                                                         0,                                                         0,                                                         0,                                                         0],\n",
       "[                                                        0,                                                         0,                                                         0,                                                         0, <{\\zeta}{\\xi}|{\\zeta}{\\xi}> - <{\\zeta}{\\zeta}|{\\xi}{\\xi}>,                                                         0,                                                         0,                                                         0,                                                         0],\n",
       "[                                                        0,                                                         0,                                                         0,                                                         0,                                                         0, <{\\zeta}{\\xi}|{\\zeta}{\\xi}> - <{\\zeta}{\\zeta}|{\\xi}{\\xi}>,                                                         0,                                                         0,                                                         0],\n",
       "[                                                        0,                                                         0,                                                         0,                                                         0,                                                         0,                                                         0, <{\\zeta}{\\xi}|{\\zeta}{\\xi}> - <{\\zeta}{\\zeta}|{\\xi}{\\xi}>,                                                         0,                                                         0],\n",
       "[                                                        0,                                                         0,                                                         0,                                                         0,                                                         0,                                                         0,                                                         0, <{\\zeta}{\\xi}|{\\zeta}{\\xi}> - <{\\zeta}{\\zeta}|{\\xi}{\\xi}>,                                                         0],\n",
       "[                                                        0,                                                         0,                                                         0,                                                         0,                                                         0,                                                         0,                                                         0,                                                         0, <{\\zeta}{\\xi}|{\\zeta}{\\xi}> - <{\\zeta}{\\zeta}|{\\xi}{\\xi}>]])"
      ]
     },
     "metadata": {},
     "output_type": "display_data"
    },
    {
     "name": "stdout",
     "output_type": "stream",
     "text": [
      "final\n"
     ]
    },
    {
     "data": {
      "text/latex": [
       "$\\displaystyle \\left[\\begin{matrix}\\left\\langle {\\zeta}{\\xi} \\right. {\\left|{\\zeta}{\\xi}\\right\\rangle } - \\left\\langle {\\zeta}{\\zeta} \\right. {\\left|{\\xi}{\\xi}\\right\\rangle } & 0 & 0 & 0 & 0 & 0 & 0 & 0 & 0\\\\0 & \\left\\langle {\\zeta}{\\xi} \\right. {\\left|{\\zeta}{\\xi}\\right\\rangle } - \\left\\langle {\\zeta}{\\zeta} \\right. {\\left|{\\xi}{\\xi}\\right\\rangle } & 0 & 0 & 0 & 0 & 0 & 0 & 0\\\\0 & 0 & \\left\\langle {\\zeta}{\\xi} \\right. {\\left|{\\zeta}{\\xi}\\right\\rangle } - \\left\\langle {\\zeta}{\\zeta} \\right. {\\left|{\\xi}{\\xi}\\right\\rangle } & 0 & 0 & 0 & 0 & 0 & 0\\\\0 & 0 & 0 & \\left\\langle {\\zeta}{\\xi} \\right. {\\left|{\\zeta}{\\xi}\\right\\rangle } - \\left\\langle {\\zeta}{\\zeta} \\right. {\\left|{\\xi}{\\xi}\\right\\rangle } & 0 & 0 & 0 & 0 & 0\\\\0 & 0 & 0 & 0 & \\left\\langle {\\zeta}{\\xi} \\right. {\\left|{\\zeta}{\\xi}\\right\\rangle } - \\left\\langle {\\zeta}{\\zeta} \\right. {\\left|{\\xi}{\\xi}\\right\\rangle } & 0 & 0 & 0 & 0\\\\0 & 0 & 0 & 0 & 0 & \\left\\langle {\\zeta}{\\xi} \\right. {\\left|{\\zeta}{\\xi}\\right\\rangle } - \\left\\langle {\\zeta}{\\zeta} \\right. {\\left|{\\xi}{\\xi}\\right\\rangle } & 0 & 0 & 0\\\\0 & 0 & 0 & 0 & 0 & 0 & \\left\\langle {\\zeta}{\\xi} \\right. {\\left|{\\zeta}{\\xi}\\right\\rangle } - \\left\\langle {\\zeta}{\\zeta} \\right. {\\left|{\\xi}{\\xi}\\right\\rangle } & 0 & 0\\\\0 & 0 & 0 & 0 & 0 & 0 & 0 & \\left\\langle {\\zeta}{\\xi} \\right. {\\left|{\\zeta}{\\xi}\\right\\rangle } - \\left\\langle {\\zeta}{\\zeta} \\right. {\\left|{\\xi}{\\xi}\\right\\rangle } & 0\\\\0 & 0 & 0 & 0 & 0 & 0 & 0 & 0 & \\left\\langle {\\zeta}{\\xi} \\right. {\\left|{\\zeta}{\\xi}\\right\\rangle } - \\left\\langle {\\zeta}{\\zeta} \\right. {\\left|{\\xi}{\\xi}\\right\\rangle }\\end{matrix}\\right]$"
      ],
      "text/plain": [
       "Matrix([\n",
       "[<{\\zeta}{\\xi}|{\\zeta}{\\xi}> - <{\\zeta}{\\zeta}|{\\xi}{\\xi}>,                                                         0,                                                         0,                                                         0,                                                         0,                                                         0,                                                         0,                                                         0,                                                         0],\n",
       "[                                                        0, <{\\zeta}{\\xi}|{\\zeta}{\\xi}> - <{\\zeta}{\\zeta}|{\\xi}{\\xi}>,                                                         0,                                                         0,                                                         0,                                                         0,                                                         0,                                                         0,                                                         0],\n",
       "[                                                        0,                                                         0, <{\\zeta}{\\xi}|{\\zeta}{\\xi}> - <{\\zeta}{\\zeta}|{\\xi}{\\xi}>,                                                         0,                                                         0,                                                         0,                                                         0,                                                         0,                                                         0],\n",
       "[                                                        0,                                                         0,                                                         0, <{\\zeta}{\\xi}|{\\zeta}{\\xi}> - <{\\zeta}{\\zeta}|{\\xi}{\\xi}>,                                                         0,                                                         0,                                                         0,                                                         0,                                                         0],\n",
       "[                                                        0,                                                         0,                                                         0,                                                         0, <{\\zeta}{\\xi}|{\\zeta}{\\xi}> - <{\\zeta}{\\zeta}|{\\xi}{\\xi}>,                                                         0,                                                         0,                                                         0,                                                         0],\n",
       "[                                                        0,                                                         0,                                                         0,                                                         0,                                                         0, <{\\zeta}{\\xi}|{\\zeta}{\\xi}> - <{\\zeta}{\\zeta}|{\\xi}{\\xi}>,                                                         0,                                                         0,                                                         0],\n",
       "[                                                        0,                                                         0,                                                         0,                                                         0,                                                         0,                                                         0, <{\\zeta}{\\xi}|{\\zeta}{\\xi}> - <{\\zeta}{\\zeta}|{\\xi}{\\xi}>,                                                         0,                                                         0],\n",
       "[                                                        0,                                                         0,                                                         0,                                                         0,                                                         0,                                                         0,                                                         0, <{\\zeta}{\\xi}|{\\zeta}{\\xi}> - <{\\zeta}{\\zeta}|{\\xi}{\\xi}>,                                                         0],\n",
       "[                                                        0,                                                         0,                                                         0,                                                         0,                                                         0,                                                         0,                                                         0,                                                         0, <{\\zeta}{\\xi}|{\\zeta}{\\xi}> - <{\\zeta}{\\zeta}|{\\xi}{\\xi}>]])"
      ]
     },
     "metadata": {},
     "output_type": "display_data"
    },
    {
     "data": {
      "text/latex": [
       "$\\displaystyle {}^{1}T_{1}$"
      ],
      "text/plain": [
       "{}^{1}T_{1}"
      ]
     },
     "metadata": {},
     "output_type": "display_data"
    },
    {
     "name": "stdout",
     "output_type": "stream",
     "text": [
      "simple\n"
     ]
    },
    {
     "data": {
      "text/latex": [
       "$\\displaystyle \\left[\\begin{matrix}\\left\\langle {\\zeta}{\\xi} \\right. {\\left|{\\zeta}{\\xi}\\right\\rangle } + \\left\\langle {\\zeta}{\\zeta} \\right. {\\left|{\\xi}{\\xi}\\right\\rangle } & 0 & 0\\\\0 & \\left\\langle {\\zeta}{\\xi} \\right. {\\left|{\\zeta}{\\xi}\\right\\rangle } + \\left\\langle {\\zeta}{\\zeta} \\right. {\\left|{\\xi}{\\xi}\\right\\rangle } & 0\\\\0 & 0 & \\left\\langle {\\zeta}{\\xi} \\right. {\\left|{\\zeta}{\\xi}\\right\\rangle } + \\left\\langle {\\zeta}{\\zeta} \\right. {\\left|{\\xi}{\\xi}\\right\\rangle }\\end{matrix}\\right]$"
      ],
      "text/plain": [
       "Matrix([\n",
       "[<{\\zeta}{\\xi}|{\\zeta}{\\xi}> + <{\\zeta}{\\zeta}|{\\xi}{\\xi}>,                                                         0,                                                         0],\n",
       "[                                                        0, <{\\zeta}{\\xi}|{\\zeta}{\\xi}> + <{\\zeta}{\\zeta}|{\\xi}{\\xi}>,                                                         0],\n",
       "[                                                        0,                                                         0, <{\\zeta}{\\xi}|{\\zeta}{\\xi}> + <{\\zeta}{\\zeta}|{\\xi}{\\xi}>]])"
      ]
     },
     "metadata": {},
     "output_type": "display_data"
    },
    {
     "name": "stdout",
     "output_type": "stream",
     "text": [
      "final\n"
     ]
    },
    {
     "data": {
      "text/latex": [
       "$\\displaystyle \\left[\\begin{matrix}\\left\\langle {\\zeta}{\\xi} \\right. {\\left|{\\zeta}{\\xi}\\right\\rangle } + \\left\\langle {\\zeta}{\\zeta} \\right. {\\left|{\\xi}{\\xi}\\right\\rangle } & 0 & 0\\\\0 & \\left\\langle {\\zeta}{\\xi} \\right. {\\left|{\\zeta}{\\xi}\\right\\rangle } + \\left\\langle {\\zeta}{\\zeta} \\right. {\\left|{\\xi}{\\xi}\\right\\rangle } & 0\\\\0 & 0 & \\left\\langle {\\zeta}{\\xi} \\right. {\\left|{\\zeta}{\\xi}\\right\\rangle } + \\left\\langle {\\zeta}{\\zeta} \\right. {\\left|{\\xi}{\\xi}\\right\\rangle }\\end{matrix}\\right]$"
      ],
      "text/plain": [
       "Matrix([\n",
       "[<{\\zeta}{\\xi}|{\\zeta}{\\xi}> + <{\\zeta}{\\zeta}|{\\xi}{\\xi}>,                                                         0,                                                         0],\n",
       "[                                                        0, <{\\zeta}{\\xi}|{\\zeta}{\\xi}> + <{\\zeta}{\\zeta}|{\\xi}{\\xi}>,                                                         0],\n",
       "[                                                        0,                                                         0, <{\\zeta}{\\xi}|{\\zeta}{\\xi}> + <{\\zeta}{\\zeta}|{\\xi}{\\xi}>]])"
      ]
     },
     "metadata": {},
     "output_type": "display_data"
    },
    {
     "data": {
      "text/latex": [
       "$\\displaystyle {}^{3}T_{2}$"
      ],
      "text/plain": [
       "{}^{3}T_{2}"
      ]
     },
     "metadata": {},
     "output_type": "display_data"
    },
    {
     "name": "stdout",
     "output_type": "stream",
     "text": [
      "simple\n"
     ]
    },
    {
     "data": {
      "text/latex": [
       "$\\displaystyle \\left[\\begin{matrix}\\frac{4 \\left\\langle {\\zeta}{\\phi} \\right. {\\left|{\\zeta}{\\phi}\\right\\rangle }}{3} - \\frac{\\left\\langle {\\zeta}{\\xi} \\right. {\\left|{\\zeta}{\\xi}\\right\\rangle }}{3} - \\frac{4 \\left\\langle {\\zeta}{\\zeta} \\right. {\\left|{\\phi}{\\phi}\\right\\rangle }}{3} + \\frac{\\left\\langle {\\zeta}{\\zeta} \\right. {\\left|{\\xi}{\\xi}\\right\\rangle }}{3} & 0 & 0 & 0 & 0 & 0 & 0 & 0 & 0\\\\0 & \\frac{4 \\left\\langle {\\zeta}{\\phi} \\right. {\\left|{\\zeta}{\\phi}\\right\\rangle }}{3} - \\frac{\\left\\langle {\\zeta}{\\xi} \\right. {\\left|{\\zeta}{\\xi}\\right\\rangle }}{3} - \\frac{4 \\left\\langle {\\zeta}{\\zeta} \\right. {\\left|{\\phi}{\\phi}\\right\\rangle }}{3} + \\frac{\\left\\langle {\\zeta}{\\zeta} \\right. {\\left|{\\xi}{\\xi}\\right\\rangle }}{3} & 0 & 0 & 0 & 0 & 0 & 0 & 0\\\\0 & 0 & \\frac{4 \\left\\langle {\\zeta}{\\phi} \\right. {\\left|{\\zeta}{\\phi}\\right\\rangle }}{3} - \\frac{\\left\\langle {\\zeta}{\\xi} \\right. {\\left|{\\zeta}{\\xi}\\right\\rangle }}{3} - \\frac{4 \\left\\langle {\\zeta}{\\zeta} \\right. {\\left|{\\phi}{\\phi}\\right\\rangle }}{3} + \\frac{\\left\\langle {\\zeta}{\\zeta} \\right. {\\left|{\\xi}{\\xi}\\right\\rangle }}{3} & 0 & 0 & 0 & 0 & 0 & 0\\\\0 & 0 & 0 & \\frac{4 \\left\\langle {\\zeta}{\\phi} \\right. {\\left|{\\zeta}{\\phi}\\right\\rangle }}{3} - \\frac{\\left\\langle {\\zeta}{\\xi} \\right. {\\left|{\\zeta}{\\xi}\\right\\rangle }}{3} - \\frac{4 \\left\\langle {\\zeta}{\\zeta} \\right. {\\left|{\\phi}{\\phi}\\right\\rangle }}{3} + \\frac{\\left\\langle {\\zeta}{\\zeta} \\right. {\\left|{\\xi}{\\xi}\\right\\rangle }}{3} & 0 & 0 & 0 & 0 & 0\\\\0 & 0 & 0 & 0 & \\frac{4 \\left\\langle {\\zeta}{\\phi} \\right. {\\left|{\\zeta}{\\phi}\\right\\rangle }}{3} - \\frac{\\left\\langle {\\zeta}{\\xi} \\right. {\\left|{\\zeta}{\\xi}\\right\\rangle }}{3} - \\frac{4 \\left\\langle {\\zeta}{\\zeta} \\right. {\\left|{\\phi}{\\phi}\\right\\rangle }}{3} + \\frac{\\left\\langle {\\zeta}{\\zeta} \\right. {\\left|{\\xi}{\\xi}\\right\\rangle }}{3} & 0 & 0 & 0 & 0\\\\0 & 0 & 0 & 0 & 0 & \\frac{4 \\left\\langle {\\zeta}{\\phi} \\right. {\\left|{\\zeta}{\\phi}\\right\\rangle }}{3} - \\frac{\\left\\langle {\\zeta}{\\xi} \\right. {\\left|{\\zeta}{\\xi}\\right\\rangle }}{3} - \\frac{4 \\left\\langle {\\zeta}{\\zeta} \\right. {\\left|{\\phi}{\\phi}\\right\\rangle }}{3} + \\frac{\\left\\langle {\\zeta}{\\zeta} \\right. {\\left|{\\xi}{\\xi}\\right\\rangle }}{3} & 0 & 0 & 0\\\\0 & 0 & 0 & 0 & 0 & 0 & \\frac{4 \\left\\langle {\\zeta}{\\phi} \\right. {\\left|{\\zeta}{\\phi}\\right\\rangle }}{3} - \\frac{\\left\\langle {\\zeta}{\\xi} \\right. {\\left|{\\zeta}{\\xi}\\right\\rangle }}{3} - \\frac{4 \\left\\langle {\\zeta}{\\zeta} \\right. {\\left|{\\phi}{\\phi}\\right\\rangle }}{3} + \\frac{\\left\\langle {\\zeta}{\\zeta} \\right. {\\left|{\\xi}{\\xi}\\right\\rangle }}{3} & 0 & 0\\\\0 & 0 & 0 & 0 & 0 & 0 & 0 & \\frac{4 \\left\\langle {\\zeta}{\\phi} \\right. {\\left|{\\zeta}{\\phi}\\right\\rangle }}{3} - \\frac{\\left\\langle {\\zeta}{\\xi} \\right. {\\left|{\\zeta}{\\xi}\\right\\rangle }}{3} - \\frac{4 \\left\\langle {\\zeta}{\\zeta} \\right. {\\left|{\\phi}{\\phi}\\right\\rangle }}{3} + \\frac{\\left\\langle {\\zeta}{\\zeta} \\right. {\\left|{\\xi}{\\xi}\\right\\rangle }}{3} & 0\\\\0 & 0 & 0 & 0 & 0 & 0 & 0 & 0 & \\frac{4 \\left\\langle {\\zeta}{\\phi} \\right. {\\left|{\\zeta}{\\phi}\\right\\rangle }}{3} - \\frac{\\left\\langle {\\zeta}{\\xi} \\right. {\\left|{\\zeta}{\\xi}\\right\\rangle }}{3} - \\frac{4 \\left\\langle {\\zeta}{\\zeta} \\right. {\\left|{\\phi}{\\phi}\\right\\rangle }}{3} + \\frac{\\left\\langle {\\zeta}{\\zeta} \\right. {\\left|{\\xi}{\\xi}\\right\\rangle }}{3}\\end{matrix}\\right]$"
      ],
      "text/plain": [
       "Matrix([\n",
       "[4*<{\\zeta}{\\phi}|{\\zeta}{\\phi}>/3 - <{\\zeta}{\\xi}|{\\zeta}{\\xi}>/3 - 4*<{\\zeta}{\\zeta}|{\\phi}{\\phi}>/3 + <{\\zeta}{\\zeta}|{\\xi}{\\xi}>/3,                                                                                                                                     0,                                                                                                                                     0,                                                                                                                                     0,                                                                                                                                     0,                                                                                                                                     0,                                                                                                                                     0,                                                                                                                                     0,                                                                                                                                     0],\n",
       "[                                                                                                                                    0, 4*<{\\zeta}{\\phi}|{\\zeta}{\\phi}>/3 - <{\\zeta}{\\xi}|{\\zeta}{\\xi}>/3 - 4*<{\\zeta}{\\zeta}|{\\phi}{\\phi}>/3 + <{\\zeta}{\\zeta}|{\\xi}{\\xi}>/3,                                                                                                                                     0,                                                                                                                                     0,                                                                                                                                     0,                                                                                                                                     0,                                                                                                                                     0,                                                                                                                                     0,                                                                                                                                     0],\n",
       "[                                                                                                                                    0,                                                                                                                                     0, 4*<{\\zeta}{\\phi}|{\\zeta}{\\phi}>/3 - <{\\zeta}{\\xi}|{\\zeta}{\\xi}>/3 - 4*<{\\zeta}{\\zeta}|{\\phi}{\\phi}>/3 + <{\\zeta}{\\zeta}|{\\xi}{\\xi}>/3,                                                                                                                                     0,                                                                                                                                     0,                                                                                                                                     0,                                                                                                                                     0,                                                                                                                                     0,                                                                                                                                     0],\n",
       "[                                                                                                                                    0,                                                                                                                                     0,                                                                                                                                     0, 4*<{\\zeta}{\\phi}|{\\zeta}{\\phi}>/3 - <{\\zeta}{\\xi}|{\\zeta}{\\xi}>/3 - 4*<{\\zeta}{\\zeta}|{\\phi}{\\phi}>/3 + <{\\zeta}{\\zeta}|{\\xi}{\\xi}>/3,                                                                                                                                     0,                                                                                                                                     0,                                                                                                                                     0,                                                                                                                                     0,                                                                                                                                     0],\n",
       "[                                                                                                                                    0,                                                                                                                                     0,                                                                                                                                     0,                                                                                                                                     0, 4*<{\\zeta}{\\phi}|{\\zeta}{\\phi}>/3 - <{\\zeta}{\\xi}|{\\zeta}{\\xi}>/3 - 4*<{\\zeta}{\\zeta}|{\\phi}{\\phi}>/3 + <{\\zeta}{\\zeta}|{\\xi}{\\xi}>/3,                                                                                                                                     0,                                                                                                                                     0,                                                                                                                                     0,                                                                                                                                     0],\n",
       "[                                                                                                                                    0,                                                                                                                                     0,                                                                                                                                     0,                                                                                                                                     0,                                                                                                                                     0, 4*<{\\zeta}{\\phi}|{\\zeta}{\\phi}>/3 - <{\\zeta}{\\xi}|{\\zeta}{\\xi}>/3 - 4*<{\\zeta}{\\zeta}|{\\phi}{\\phi}>/3 + <{\\zeta}{\\zeta}|{\\xi}{\\xi}>/3,                                                                                                                                     0,                                                                                                                                     0,                                                                                                                                     0],\n",
       "[                                                                                                                                    0,                                                                                                                                     0,                                                                                                                                     0,                                                                                                                                     0,                                                                                                                                     0,                                                                                                                                     0, 4*<{\\zeta}{\\phi}|{\\zeta}{\\phi}>/3 - <{\\zeta}{\\xi}|{\\zeta}{\\xi}>/3 - 4*<{\\zeta}{\\zeta}|{\\phi}{\\phi}>/3 + <{\\zeta}{\\zeta}|{\\xi}{\\xi}>/3,                                                                                                                                     0,                                                                                                                                     0],\n",
       "[                                                                                                                                    0,                                                                                                                                     0,                                                                                                                                     0,                                                                                                                                     0,                                                                                                                                     0,                                                                                                                                     0,                                                                                                                                     0, 4*<{\\zeta}{\\phi}|{\\zeta}{\\phi}>/3 - <{\\zeta}{\\xi}|{\\zeta}{\\xi}>/3 - 4*<{\\zeta}{\\zeta}|{\\phi}{\\phi}>/3 + <{\\zeta}{\\zeta}|{\\xi}{\\xi}>/3,                                                                                                                                     0],\n",
       "[                                                                                                                                    0,                                                                                                                                     0,                                                                                                                                     0,                                                                                                                                     0,                                                                                                                                     0,                                                                                                                                     0,                                                                                                                                     0,                                                                                                                                     0, 4*<{\\zeta}{\\phi}|{\\zeta}{\\phi}>/3 - <{\\zeta}{\\xi}|{\\zeta}{\\xi}>/3 - 4*<{\\zeta}{\\zeta}|{\\phi}{\\phi}>/3 + <{\\zeta}{\\zeta}|{\\xi}{\\xi}>/3]])"
      ]
     },
     "metadata": {},
     "output_type": "display_data"
    },
    {
     "name": "stdout",
     "output_type": "stream",
     "text": [
      "final\n"
     ]
    },
    {
     "data": {
      "text/latex": [
       "$\\displaystyle \\left[\\begin{matrix}\\frac{4 \\left\\langle {\\zeta}{\\phi} \\right. {\\left|{\\zeta}{\\phi}\\right\\rangle }}{3} - \\frac{\\left\\langle {\\zeta}{\\xi} \\right. {\\left|{\\zeta}{\\xi}\\right\\rangle }}{3} - \\frac{4 \\left\\langle {\\zeta}{\\zeta} \\right. {\\left|{\\phi}{\\phi}\\right\\rangle }}{3} + \\frac{\\left\\langle {\\zeta}{\\zeta} \\right. {\\left|{\\xi}{\\xi}\\right\\rangle }}{3} & 0 & 0 & 0 & 0 & 0 & 0 & 0 & 0\\\\0 & \\frac{4 \\left\\langle {\\zeta}{\\phi} \\right. {\\left|{\\zeta}{\\phi}\\right\\rangle }}{3} - \\frac{\\left\\langle {\\zeta}{\\xi} \\right. {\\left|{\\zeta}{\\xi}\\right\\rangle }}{3} - \\frac{4 \\left\\langle {\\zeta}{\\zeta} \\right. {\\left|{\\phi}{\\phi}\\right\\rangle }}{3} + \\frac{\\left\\langle {\\zeta}{\\zeta} \\right. {\\left|{\\xi}{\\xi}\\right\\rangle }}{3} & 0 & 0 & 0 & 0 & 0 & 0 & 0\\\\0 & 0 & \\frac{4 \\left\\langle {\\zeta}{\\phi} \\right. {\\left|{\\zeta}{\\phi}\\right\\rangle }}{3} - \\frac{\\left\\langle {\\zeta}{\\xi} \\right. {\\left|{\\zeta}{\\xi}\\right\\rangle }}{3} - \\frac{4 \\left\\langle {\\zeta}{\\zeta} \\right. {\\left|{\\phi}{\\phi}\\right\\rangle }}{3} + \\frac{\\left\\langle {\\zeta}{\\zeta} \\right. {\\left|{\\xi}{\\xi}\\right\\rangle }}{3} & 0 & 0 & 0 & 0 & 0 & 0\\\\0 & 0 & 0 & \\frac{4 \\left\\langle {\\zeta}{\\phi} \\right. {\\left|{\\zeta}{\\phi}\\right\\rangle }}{3} - \\frac{\\left\\langle {\\zeta}{\\xi} \\right. {\\left|{\\zeta}{\\xi}\\right\\rangle }}{3} - \\frac{4 \\left\\langle {\\zeta}{\\zeta} \\right. {\\left|{\\phi}{\\phi}\\right\\rangle }}{3} + \\frac{\\left\\langle {\\zeta}{\\zeta} \\right. {\\left|{\\xi}{\\xi}\\right\\rangle }}{3} & 0 & 0 & 0 & 0 & 0\\\\0 & 0 & 0 & 0 & \\frac{4 \\left\\langle {\\zeta}{\\phi} \\right. {\\left|{\\zeta}{\\phi}\\right\\rangle }}{3} - \\frac{\\left\\langle {\\zeta}{\\xi} \\right. {\\left|{\\zeta}{\\xi}\\right\\rangle }}{3} - \\frac{4 \\left\\langle {\\zeta}{\\zeta} \\right. {\\left|{\\phi}{\\phi}\\right\\rangle }}{3} + \\frac{\\left\\langle {\\zeta}{\\zeta} \\right. {\\left|{\\xi}{\\xi}\\right\\rangle }}{3} & 0 & 0 & 0 & 0\\\\0 & 0 & 0 & 0 & 0 & \\frac{4 \\left\\langle {\\zeta}{\\phi} \\right. {\\left|{\\zeta}{\\phi}\\right\\rangle }}{3} - \\frac{\\left\\langle {\\zeta}{\\xi} \\right. {\\left|{\\zeta}{\\xi}\\right\\rangle }}{3} - \\frac{4 \\left\\langle {\\zeta}{\\zeta} \\right. {\\left|{\\phi}{\\phi}\\right\\rangle }}{3} + \\frac{\\left\\langle {\\zeta}{\\zeta} \\right. {\\left|{\\xi}{\\xi}\\right\\rangle }}{3} & 0 & 0 & 0\\\\0 & 0 & 0 & 0 & 0 & 0 & \\frac{4 \\left\\langle {\\zeta}{\\phi} \\right. {\\left|{\\zeta}{\\phi}\\right\\rangle }}{3} - \\frac{\\left\\langle {\\zeta}{\\xi} \\right. {\\left|{\\zeta}{\\xi}\\right\\rangle }}{3} - \\frac{4 \\left\\langle {\\zeta}{\\zeta} \\right. {\\left|{\\phi}{\\phi}\\right\\rangle }}{3} + \\frac{\\left\\langle {\\zeta}{\\zeta} \\right. {\\left|{\\xi}{\\xi}\\right\\rangle }}{3} & 0 & 0\\\\0 & 0 & 0 & 0 & 0 & 0 & 0 & \\frac{4 \\left\\langle {\\zeta}{\\phi} \\right. {\\left|{\\zeta}{\\phi}\\right\\rangle }}{3} - \\frac{\\left\\langle {\\zeta}{\\xi} \\right. {\\left|{\\zeta}{\\xi}\\right\\rangle }}{3} - \\frac{4 \\left\\langle {\\zeta}{\\zeta} \\right. {\\left|{\\phi}{\\phi}\\right\\rangle }}{3} + \\frac{\\left\\langle {\\zeta}{\\zeta} \\right. {\\left|{\\xi}{\\xi}\\right\\rangle }}{3} & 0\\\\0 & 0 & 0 & 0 & 0 & 0 & 0 & 0 & \\frac{4 \\left\\langle {\\zeta}{\\phi} \\right. {\\left|{\\zeta}{\\phi}\\right\\rangle }}{3} - \\frac{\\left\\langle {\\zeta}{\\xi} \\right. {\\left|{\\zeta}{\\xi}\\right\\rangle }}{3} - \\frac{4 \\left\\langle {\\zeta}{\\zeta} \\right. {\\left|{\\phi}{\\phi}\\right\\rangle }}{3} + \\frac{\\left\\langle {\\zeta}{\\zeta} \\right. {\\left|{\\xi}{\\xi}\\right\\rangle }}{3}\\end{matrix}\\right]$"
      ],
      "text/plain": [
       "Matrix([\n",
       "[4*<{\\zeta}{\\phi}|{\\zeta}{\\phi}>/3 - <{\\zeta}{\\xi}|{\\zeta}{\\xi}>/3 - 4*<{\\zeta}{\\zeta}|{\\phi}{\\phi}>/3 + <{\\zeta}{\\zeta}|{\\xi}{\\xi}>/3,                                                                                                                                     0,                                                                                                                                     0,                                                                                                                                     0,                                                                                                                                     0,                                                                                                                                     0,                                                                                                                                     0,                                                                                                                                     0,                                                                                                                                     0],\n",
       "[                                                                                                                                    0, 4*<{\\zeta}{\\phi}|{\\zeta}{\\phi}>/3 - <{\\zeta}{\\xi}|{\\zeta}{\\xi}>/3 - 4*<{\\zeta}{\\zeta}|{\\phi}{\\phi}>/3 + <{\\zeta}{\\zeta}|{\\xi}{\\xi}>/3,                                                                                                                                     0,                                                                                                                                     0,                                                                                                                                     0,                                                                                                                                     0,                                                                                                                                     0,                                                                                                                                     0,                                                                                                                                     0],\n",
       "[                                                                                                                                    0,                                                                                                                                     0, 4*<{\\zeta}{\\phi}|{\\zeta}{\\phi}>/3 - <{\\zeta}{\\xi}|{\\zeta}{\\xi}>/3 - 4*<{\\zeta}{\\zeta}|{\\phi}{\\phi}>/3 + <{\\zeta}{\\zeta}|{\\xi}{\\xi}>/3,                                                                                                                                     0,                                                                                                                                     0,                                                                                                                                     0,                                                                                                                                     0,                                                                                                                                     0,                                                                                                                                     0],\n",
       "[                                                                                                                                    0,                                                                                                                                     0,                                                                                                                                     0, 4*<{\\zeta}{\\phi}|{\\zeta}{\\phi}>/3 - <{\\zeta}{\\xi}|{\\zeta}{\\xi}>/3 - 4*<{\\zeta}{\\zeta}|{\\phi}{\\phi}>/3 + <{\\zeta}{\\zeta}|{\\xi}{\\xi}>/3,                                                                                                                                     0,                                                                                                                                     0,                                                                                                                                     0,                                                                                                                                     0,                                                                                                                                     0],\n",
       "[                                                                                                                                    0,                                                                                                                                     0,                                                                                                                                     0,                                                                                                                                     0, 4*<{\\zeta}{\\phi}|{\\zeta}{\\phi}>/3 - <{\\zeta}{\\xi}|{\\zeta}{\\xi}>/3 - 4*<{\\zeta}{\\zeta}|{\\phi}{\\phi}>/3 + <{\\zeta}{\\zeta}|{\\xi}{\\xi}>/3,                                                                                                                                     0,                                                                                                                                     0,                                                                                                                                     0,                                                                                                                                     0],\n",
       "[                                                                                                                                    0,                                                                                                                                     0,                                                                                                                                     0,                                                                                                                                     0,                                                                                                                                     0, 4*<{\\zeta}{\\phi}|{\\zeta}{\\phi}>/3 - <{\\zeta}{\\xi}|{\\zeta}{\\xi}>/3 - 4*<{\\zeta}{\\zeta}|{\\phi}{\\phi}>/3 + <{\\zeta}{\\zeta}|{\\xi}{\\xi}>/3,                                                                                                                                     0,                                                                                                                                     0,                                                                                                                                     0],\n",
       "[                                                                                                                                    0,                                                                                                                                     0,                                                                                                                                     0,                                                                                                                                     0,                                                                                                                                     0,                                                                                                                                     0, 4*<{\\zeta}{\\phi}|{\\zeta}{\\phi}>/3 - <{\\zeta}{\\xi}|{\\zeta}{\\xi}>/3 - 4*<{\\zeta}{\\zeta}|{\\phi}{\\phi}>/3 + <{\\zeta}{\\zeta}|{\\xi}{\\xi}>/3,                                                                                                                                     0,                                                                                                                                     0],\n",
       "[                                                                                                                                    0,                                                                                                                                     0,                                                                                                                                     0,                                                                                                                                     0,                                                                                                                                     0,                                                                                                                                     0,                                                                                                                                     0, 4*<{\\zeta}{\\phi}|{\\zeta}{\\phi}>/3 - <{\\zeta}{\\xi}|{\\zeta}{\\xi}>/3 - 4*<{\\zeta}{\\zeta}|{\\phi}{\\phi}>/3 + <{\\zeta}{\\zeta}|{\\xi}{\\xi}>/3,                                                                                                                                     0],\n",
       "[                                                                                                                                    0,                                                                                                                                     0,                                                                                                                                     0,                                                                                                                                     0,                                                                                                                                     0,                                                                                                                                     0,                                                                                                                                     0,                                                                                                                                     0, 4*<{\\zeta}{\\phi}|{\\zeta}{\\phi}>/3 - <{\\zeta}{\\xi}|{\\zeta}{\\xi}>/3 - 4*<{\\zeta}{\\zeta}|{\\phi}{\\phi}>/3 + <{\\zeta}{\\zeta}|{\\xi}{\\xi}>/3]])"
      ]
     },
     "metadata": {},
     "output_type": "display_data"
    },
    {
     "data": {
      "text/latex": [
       "$\\displaystyle {}^{1}T_{2}$"
      ],
      "text/plain": [
       "{}^{1}T_{2}"
      ]
     },
     "metadata": {},
     "output_type": "display_data"
    },
    {
     "name": "stdout",
     "output_type": "stream",
     "text": [
      "simple\n"
     ]
    },
    {
     "data": {
      "text/latex": [
       "$\\displaystyle \\left[\\begin{matrix}\\frac{4 \\left\\langle {\\zeta}{\\phi} \\right. {\\left|{\\zeta}{\\phi}\\right\\rangle }}{3} - \\frac{\\left\\langle {\\zeta}{\\xi} \\right. {\\left|{\\zeta}{\\xi}\\right\\rangle }}{3} + \\frac{4 \\left\\langle {\\zeta}{\\zeta} \\right. {\\left|{\\phi}{\\phi}\\right\\rangle }}{3} - \\frac{\\left\\langle {\\zeta}{\\zeta} \\right. {\\left|{\\xi}{\\xi}\\right\\rangle }}{3} & 0 & 0\\\\0 & \\frac{4 \\left\\langle {\\zeta}{\\phi} \\right. {\\left|{\\zeta}{\\phi}\\right\\rangle }}{3} - \\frac{\\left\\langle {\\zeta}{\\xi} \\right. {\\left|{\\zeta}{\\xi}\\right\\rangle }}{3} + \\frac{4 \\left\\langle {\\zeta}{\\zeta} \\right. {\\left|{\\phi}{\\phi}\\right\\rangle }}{3} - \\frac{\\left\\langle {\\zeta}{\\zeta} \\right. {\\left|{\\xi}{\\xi}\\right\\rangle }}{3} & 0\\\\0 & 0 & \\frac{4 \\left\\langle {\\zeta}{\\phi} \\right. {\\left|{\\zeta}{\\phi}\\right\\rangle }}{3} - \\frac{\\left\\langle {\\zeta}{\\xi} \\right. {\\left|{\\zeta}{\\xi}\\right\\rangle }}{3} + \\frac{4 \\left\\langle {\\zeta}{\\zeta} \\right. {\\left|{\\phi}{\\phi}\\right\\rangle }}{3} - \\frac{\\left\\langle {\\zeta}{\\zeta} \\right. {\\left|{\\xi}{\\xi}\\right\\rangle }}{3}\\end{matrix}\\right]$"
      ],
      "text/plain": [
       "Matrix([\n",
       "[4*<{\\zeta}{\\phi}|{\\zeta}{\\phi}>/3 - <{\\zeta}{\\xi}|{\\zeta}{\\xi}>/3 + 4*<{\\zeta}{\\zeta}|{\\phi}{\\phi}>/3 - <{\\zeta}{\\zeta}|{\\xi}{\\xi}>/3,                                                                                                                                     0,                                                                                                                                     0],\n",
       "[                                                                                                                                    0, 4*<{\\zeta}{\\phi}|{\\zeta}{\\phi}>/3 - <{\\zeta}{\\xi}|{\\zeta}{\\xi}>/3 + 4*<{\\zeta}{\\zeta}|{\\phi}{\\phi}>/3 - <{\\zeta}{\\zeta}|{\\xi}{\\xi}>/3,                                                                                                                                     0],\n",
       "[                                                                                                                                    0,                                                                                                                                     0, 4*<{\\zeta}{\\phi}|{\\zeta}{\\phi}>/3 - <{\\zeta}{\\xi}|{\\zeta}{\\xi}>/3 + 4*<{\\zeta}{\\zeta}|{\\phi}{\\phi}>/3 - <{\\zeta}{\\zeta}|{\\xi}{\\xi}>/3]])"
      ]
     },
     "metadata": {},
     "output_type": "display_data"
    },
    {
     "name": "stdout",
     "output_type": "stream",
     "text": [
      "final\n"
     ]
    },
    {
     "data": {
      "text/latex": [
       "$\\displaystyle \\left[\\begin{matrix}\\frac{4 \\left\\langle {\\zeta}{\\phi} \\right. {\\left|{\\zeta}{\\phi}\\right\\rangle }}{3} - \\frac{\\left\\langle {\\zeta}{\\xi} \\right. {\\left|{\\zeta}{\\xi}\\right\\rangle }}{3} + \\frac{4 \\left\\langle {\\zeta}{\\zeta} \\right. {\\left|{\\phi}{\\phi}\\right\\rangle }}{3} - \\frac{\\left\\langle {\\zeta}{\\zeta} \\right. {\\left|{\\xi}{\\xi}\\right\\rangle }}{3} & 0 & 0\\\\0 & \\frac{4 \\left\\langle {\\zeta}{\\phi} \\right. {\\left|{\\zeta}{\\phi}\\right\\rangle }}{3} - \\frac{\\left\\langle {\\zeta}{\\xi} \\right. {\\left|{\\zeta}{\\xi}\\right\\rangle }}{3} + \\frac{4 \\left\\langle {\\zeta}{\\zeta} \\right. {\\left|{\\phi}{\\phi}\\right\\rangle }}{3} - \\frac{\\left\\langle {\\zeta}{\\zeta} \\right. {\\left|{\\xi}{\\xi}\\right\\rangle }}{3} & 0\\\\0 & 0 & \\frac{4 \\left\\langle {\\zeta}{\\phi} \\right. {\\left|{\\zeta}{\\phi}\\right\\rangle }}{3} - \\frac{\\left\\langle {\\zeta}{\\xi} \\right. {\\left|{\\zeta}{\\xi}\\right\\rangle }}{3} + \\frac{4 \\left\\langle {\\zeta}{\\zeta} \\right. {\\left|{\\phi}{\\phi}\\right\\rangle }}{3} - \\frac{\\left\\langle {\\zeta}{\\zeta} \\right. {\\left|{\\xi}{\\xi}\\right\\rangle }}{3}\\end{matrix}\\right]$"
      ],
      "text/plain": [
       "Matrix([\n",
       "[4*<{\\zeta}{\\phi}|{\\zeta}{\\phi}>/3 - <{\\zeta}{\\xi}|{\\zeta}{\\xi}>/3 + 4*<{\\zeta}{\\zeta}|{\\phi}{\\phi}>/3 - <{\\zeta}{\\zeta}|{\\xi}{\\xi}>/3,                                                                                                                                     0,                                                                                                                                     0],\n",
       "[                                                                                                                                    0, 4*<{\\zeta}{\\phi}|{\\zeta}{\\phi}>/3 - <{\\zeta}{\\xi}|{\\zeta}{\\xi}>/3 + 4*<{\\zeta}{\\zeta}|{\\phi}{\\phi}>/3 - <{\\zeta}{\\zeta}|{\\xi}{\\xi}>/3,                                                                                                                                     0],\n",
       "[                                                                                                                                    0,                                                                                                                                     0, 4*<{\\zeta}{\\phi}|{\\zeta}{\\phi}>/3 - <{\\zeta}{\\xi}|{\\zeta}{\\xi}>/3 + 4*<{\\zeta}{\\zeta}|{\\phi}{\\phi}>/3 - <{\\zeta}{\\zeta}|{\\xi}{\\xi}>/3]])"
      ]
     },
     "metadata": {},
     "output_type": "display_data"
    },
    {
     "name": "stdout",
     "output_type": "stream",
     "text": [
      "----\n"
     ]
    },
    {
     "data": {
      "text/latex": [
       "$\\displaystyle \\left\\langle {\\zeta}{\\zeta} \\right. {\\left|{\\phi}{\\phi}\\right\\rangle }$"
      ],
      "text/plain": [
       "<{\\zeta}{\\zeta}|{\\phi}{\\phi}>"
      ]
     },
     "metadata": {},
     "output_type": "display_data"
    },
    {
     "data": {
      "text/latex": [
       "$\\displaystyle \\left\\langle {\\zeta}{\\xi} \\right. {\\left|{\\zeta}{\\xi}\\right\\rangle }$"
      ],
      "text/plain": [
       "<{\\zeta}{\\xi}|{\\zeta}{\\xi}>"
      ]
     },
     "metadata": {},
     "output_type": "display_data"
    },
    {
     "data": {
      "text/latex": [
       "$\\displaystyle \\left\\langle {\\zeta}{\\phi} \\right. {\\left|{\\zeta}{\\phi}\\right\\rangle }$"
      ],
      "text/plain": [
       "<{\\zeta}{\\phi}|{\\zeta}{\\phi}>"
      ]
     },
     "metadata": {},
     "output_type": "display_data"
    },
    {
     "data": {
      "text/latex": [
       "$\\displaystyle \\left\\langle {\\zeta}{\\zeta} \\right. {\\left|{\\xi}{\\xi}\\right\\rangle }$"
      ],
      "text/plain": [
       "<{\\zeta}{\\zeta}|{\\xi}{\\xi}>"
      ]
     },
     "metadata": {},
     "output_type": "display_data"
    }
   ],
   "source": [
    "k = sp.Symbol('t_{2}')*sp.Symbol('e')\n",
    "free_ints = set()\n",
    "energies = {}\n",
    "for term_key in O[k]:#[(1,sp.Symbol('T_{u}'))]#[0][0].as_braket()\n",
    "    term_symb = sp.Symbol('{}^{%d}%s' % (term_key[0]*2+1,sp.latex(term_key[1])))\n",
    "    display(term_symb)\n",
    "    # display(simple_config_matrices[k][term_key][0][0].as_braket())\n",
    "    print(\"simple\")\n",
    "    display(sp.Matrix([[l.as_braket() for l in row] for row in simple_config_matrices[k][term_key]]))\n",
    "    print(\"final\")\n",
    "    display(sp.Matrix([[l.as_braket() for l in row] for row in O[k][term_key]]))\n",
    "#     display(O[k][term_key][0][0].as_braket())\n",
    "    energies[term_key] = O[k][term_key][0][0]\n",
    "    free_ints.update(list(O[k][term_key][0][0].dict.keys()))\n",
    "print(\"----\")\n",
    "for free_int in free_ints:\n",
    "    display(Qet({free_int:1}).as_braket())"
   ]
  },
  {
   "cell_type": "code",
   "execution_count": 440,
   "id": "4f3ca59e-4c42-4f58-9f38-860c9df909d6",
   "metadata": {},
   "outputs": [
    {
     "data": {
      "text/html": [
       "<pre>✔️ 1.44 ms (2021-11-22T11:43:42/2021-11-22T11:43:42)</pre>"
      ],
      "text/plain": [
       "<IPython.core.display.HTML object>"
      ]
     },
     "metadata": {},
     "output_type": "display_data"
    }
   ],
   "source": [
    "free_integrals = list(set(sum([list(q.dict.keys()) for q in list(energies.values())],[])))"
   ]
  },
  {
   "cell_type": "code",
   "execution_count": 444,
   "id": "e9df93a2-ccb5-4e14-ae10-1428f7e04b7f",
   "metadata": {},
   "outputs": [
    {
     "data": {
      "text/html": [
       "<pre>✔️ 7.99 ms (2021-11-22T11:44:20/2021-11-22T11:44:20)</pre>"
      ],
      "text/plain": [
       "<IPython.core.display.HTML object>"
      ]
     },
     "metadata": {},
     "output_type": "display_data"
    },
    {
     "data": {
      "text/plain": [
       "Qet({({\\zeta}, {\\zeta}, {\\zeta}, {\\zeta}): 1, ({\\zeta}, {\\zeta}, {\\gamma}, {\\gamma}): 1})"
      ]
     },
     "execution_count": 444,
     "metadata": {},
     "output_type": "execute_result"
    }
   ],
   "source": [
    "energies[(0,sp.Symbol('A_1'))]"
   ]
  },
  {
   "cell_type": "markdown",
   "id": "b552259c-717c-47e7-b3fa-4992948e58c7",
   "metadata": {
    "heading_collapsed": "true",
    "tags": []
   },
   "source": [
    "#### More debugging"
   ]
  },
  {
   "cell_type": "code",
   "execution_count": null,
   "id": "c12b8f54-0992-4867-8406-3a80a26649f6",
   "metadata": {},
   "outputs": [],
   "source": [
    "def simplify_qet(qet):\n",
    "    new_dict = {k:sp.simplify(v) for k,v in qet.dict.items()}\n",
    "    return Qet(new_dict)"
   ]
  },
  {
   "cell_type": "code",
   "execution_count": 367,
   "id": "7bc1fcf2-1568-4cdd-b0d2-291e56adfbb3",
   "metadata": {},
   "outputs": [],
   "source": [
    "group_label = 'O'\n",
    "verbose = True\n",
    "stages = 19 # this is how many distinct parts this algorithm has\n",
    "if verbose:\n",
    "    pbar = tqdm(range(stages), bar_format='({n:d}/{total:d}) [{elapsed}] {desc}')\n",
    "terms = twoe_terms[group_label]\n",
    "group = CPGs.get_group_by_label(group_label)\n",
    "component_labels = {k:list(v.values()) for k,v in new_labels[group_label].items()}\n",
    "# for a given set of terms\n",
    "# split all the enclosed states\n",
    "# in groups of electron configurations\n",
    "configs = {}\n",
    "config_supplement = {}\n",
    "for term_key, term in terms.items():\n",
    "    for state_key, state in zip(term.state_keys, term.states):\n",
    "        (Γ1, Γ2, Γ3, γ3, S, mSz) = state_key\n",
    "        α = sp.Symbol(sp.latex(Γ1).lower())*sp.Symbol(sp.latex(Γ2).lower())\n",
    "        if α not in configs.keys():\n",
    "            configs[α] = {}\n",
    "            config_supplement[α] = {}\n",
    "        if (S,Γ3) not in configs[α].keys():\n",
    "            configs[α][(S,Γ3)] = []\n",
    "            config_supplement[α][(S,Γ3)] = []\n",
    "        configs[α][(S,Γ3)].append(state)\n",
    "        config_supplement[α][(S,Γ3)].append(state_key)\n",
    "\n",
    "def overlinesqueegee(s):\n",
    "    '''\n",
    "    Going back from the overline shorthand for spin down,\n",
    "    acting on a single set of quantum numbers.\n",
    "    '''\n",
    "    if 'overline' in str(s):\n",
    "        spin = -sp.S(1)/2\n",
    "        comp = sp.Symbol(str(s).replace('\\\\overline{','')[:-1])\n",
    "    else:\n",
    "        spin = sp.S(1)/2\n",
    "        comp = s\n",
    "    return (comp, spin)\n",
    "def spin_restoration(qet):\n",
    "    '''\n",
    "    Going back from the overline shorthand for spin down,\n",
    "    acting on a qet.\n",
    "    '''\n",
    "    new_dict = {}\n",
    "    for k,v in qet.dict.items():\n",
    "        k = (*overlinesqueegee(k[0]),*overlinesqueegee(k[1]))\n",
    "        new_dict[k] = v\n",
    "    return Qet(new_dict)\n",
    "\n",
    "# within each configuration\n",
    "config_matrices = {}\n",
    "for config in configs.keys():\n",
    "    # display(config)\n",
    "    # within each term\n",
    "    term_matrices = {}\n",
    "    for term_key, states in configs[config].items():\n",
    "        # find the brackets between all possible pairs of states\n",
    "        ham_matrix = []\n",
    "        for state0 in states:\n",
    "            ham_row = []\n",
    "            state0 = spin_restoration(state0)\n",
    "            for state1 in states:\n",
    "                # recover the spin for the determinantal states\n",
    "                pstate = state1\n",
    "                state1 = spin_restoration(state1)\n",
    "                # determine the det braket between these two states (an operator in between is assumed and omitted)\n",
    "                detbraket = state0.dual()*state1 # changehere\n",
    "                # simplify this braket of detstates into brakets between regular states\n",
    "                regbraket = Qet({})\n",
    "                for k,v in detbraket.dict.items():\n",
    "                    γ1, m1, γ2, m2, γ1p, m1p, γ2p, m2p = k\n",
    "                    # k0 = (γ1, m1, γ2, m2, γ1p, m1p, γ2p, m2p)\n",
    "                    # k1 = (γ1, m1, γ2, m2, γ2p, m2p, γ1p, m1p)\n",
    "                    k0 = (γ1, γ2, γ1p, γ2p)\n",
    "                    k1 = (γ1, γ2, γ2p, γ1p)\n",
    "                    # enforce orthogonality wrt. spin\n",
    "                    if (m1 == m1p) and (m2 == m2p):\n",
    "                        qplus = Qet({k0:v}) \n",
    "                    else:\n",
    "                        qplus = Qet({})\n",
    "                    if (m1 == m2p) and (m2 == m1p):\n",
    "                        qminus = Qet({k1:-v}) \n",
    "                    else:\n",
    "                        qminus = Qet({})\n",
    "                    regbraket += (qplus+qminus)\n",
    "                ham_row.append(regbraket)\n",
    "            ham_matrix.append(ham_row)\n",
    "        term_matrices[term_key] = ham_matrix\n",
    "    config_matrices[config] = term_matrices\n",
    "\n",
    "def composite_symbol(x):\n",
    "    return sp.Symbol('(%s)'%(','.join(list(map(sp.latex,x)))))\n",
    "def fourtuplerecovery(ft):\n",
    "    '''the inverse of composite_symbol'''\n",
    "    return tuple(map(sp.Symbol,sp.latex(ft)[1:-1].split(',')))\n",
    "\n",
    "if verbose:\n",
    "    msg = \"Creating all 4-symbol identities ...\"\n",
    "    pbar.set_description(msg)\n",
    "    pbar.refresh()\n",
    "    pbar.n += 1\n",
    "\n",
    "# this   integral_identities  dictionary  will  have  as  keys\n",
    "# 4-tuples  of  irreps  and  its  values  will  be lists whose\n",
    "# elements  are  2-tuples whose first elements are 4-tuples of\n",
    "# irrep  components  and  whose values are qets whose keys are\n",
    "# 4-tuples  of  irrep components and whose values are numeric.\n",
    "# These 4-tuples represent a braket with the Coulomb repulsion\n",
    "# operator in between.\n",
    "\n",
    "integral_identities = {}\n",
    "ir_mats = group.irrep_matrices\n",
    "for ir1, ir2, ir3, ir4 in product(*([group.irrep_labels]*4)):\n",
    "    # To simplify calculations this part\n",
    "    # may only be done over quadruples in a standard\n",
    "    # order.\n",
    "    # Whatever is missed here is then brough back in\n",
    "    # by the reality relations.\n",
    "    altorder1 = (ir3, ir2, ir1, ir4)\n",
    "    altorder2 = (ir1, ir4, ir3, ir2)\n",
    "    altorder3 = (ir3, ir4, ir1, ir2)\n",
    "    if (altorder1 in integral_identities) or\\\n",
    "       (altorder2 in integral_identities) or\\\n",
    "       (altorder3 in integral_identities):\n",
    "        continue\n",
    "    integral_identity_sector = []\n",
    "    components = [component_labels[ir] for ir in [ir1, ir2, ir3, ir4]]\n",
    "    comp_to_idx = [{c: idx for idx, c in enumerate(component_labels[ir])} for ir in [ir1, ir2, ir3, ir4]]\n",
    "    for R in group.generators + [sp.Symbol('{Ee}')]:\n",
    "        R_id = {}\n",
    "        for γ1, γ2, γ3, γ4 in product(*components):\n",
    "            for γ1p, γ2p, γ3p, γ4p in product(*components):\n",
    "#                         val = sp.conjugate(ir_mats[ir1][R][comp_to_idx[0][γ1],comp_to_idx[0][γ1p]]) *\\\n",
    "#                               sp.conjugate(ir_mats[ir2][R][comp_to_idx[1][γ2],comp_to_idx[1][γ2p]]) *\\\n",
    "#                               ir_mats[ir3][R][comp_to_idx[2][γ3],comp_to_idx[2][γ3p]] *\\\n",
    "#                               ir_mats[ir4][R][comp_to_idx[3][γ4],comp_to_idx[3][γ4p]]\n",
    "                    val = sp.conjugate(ir_mats[ir1][R][comp_to_idx[0][γ1],comp_to_idx[0][γ1p]]) *\\\n",
    "                      sp.conjugate(ir_mats[ir2][R][comp_to_idx[1][γ2],comp_to_idx[1][γ2p]]) *\\\n",
    "                      ir_mats[ir3][R][comp_to_idx[2][γ3],comp_to_idx[2][γ3p]] *\\\n",
    "                      ir_mats[ir4][R][comp_to_idx[3][γ4],comp_to_idx[3][γ4p]]\n",
    "                    if val== 0:\n",
    "                        continue\n",
    "                    key = (γ1, γ2, γ3, γ4)\n",
    "                    if key not in R_id.keys():\n",
    "                        R_id[key] = []\n",
    "                    R_id[key].append( Qet({(γ1p,γ2p,γ3p,γ4p): val}) )\n",
    "        R_id_total = [(key, sum(R_id[key], Qet({}))) for key in R_id.keys()]\n",
    "        R_id_total = [q for q in R_id_total if len(q[1].dict)>0]\n",
    "        integral_identity_sector.extend(R_id_total)\n",
    "    integral_identities[(ir1,ir2,ir3,ir4)] = integral_identity_sector\n",
    "\n",
    "# For solving the linear system it is convenient\n",
    "# to have everything on one side of the equation.\n",
    "if verbose:\n",
    "    msg = \"Creating set of identities ...\"\n",
    "    pbar.set_description(msg)\n",
    "    pbar.refresh()\n",
    "    pbar.n += 1\n",
    "\n",
    "identities = {}\n",
    "for ircombo in integral_identities:\n",
    "    these_ids = []\n",
    "    for v in integral_identities[ircombo]:\n",
    "        lhs, rhs = v\n",
    "        diff = Qet({lhs:1}) - rhs\n",
    "        if len(diff.dict) > 0:\n",
    "            these_ids.append(diff)\n",
    "    identities[ircombo] = these_ids\n",
    "\n",
    "# If an equation has only one key, then\n",
    "# that immediately means that that braket is zero.\n",
    "if verbose:\n",
    "    msg = \"Finding trivial zeros ...\"\n",
    "    pbar.set_description(msg)\n",
    "    pbar.refresh()\n",
    "    pbar.n += 1\n",
    "\n",
    "# first determine which ones have to be zero\n",
    "better_identities = {irc:[] for irc in identities}\n",
    "all_zeros = {}\n",
    "for ircombo in identities:\n",
    "    zeros = []\n",
    "    for identity in identities[ircombo]:\n",
    "        if len(identity.dict) == 1:\n",
    "            zeros.append((list(identity.dict.keys())[0]))\n",
    "        else:\n",
    "            better_identities[ircombo].append(identity)\n",
    "    all_zeros[ircombo] = zeros\n",
    "\n",
    "# use them to simplify things.\n",
    "if verbose:\n",
    "    msg = \"Using them to simplify things ...\"\n",
    "    pbar.set_description(msg)\n",
    "    pbar.refresh()\n",
    "    pbar.n += 1\n",
    "\n",
    "great_identities = {irc:[] for irc in identities}\n",
    "for ircombo in better_identities:\n",
    "    for identity in better_identities[ircombo]:\n",
    "        new_qet = Qet({})\n",
    "        for k,v in identity.dict.items():\n",
    "            if k in all_zeros[ircombo]:\n",
    "                continue\n",
    "            else:\n",
    "                new_qet+= Qet({k: v})\n",
    "        if len(new_qet.dict) == 0:\n",
    "            continue\n",
    "        great_identities[ircombo].append(new_qet)\n",
    "\n",
    "# Inside of a four-symbol braket one may do three exchanges\n",
    "# that must result in the same value. That if the wave\n",
    "# functions are assumed to be real-valued.\n",
    "\n",
    "if verbose:\n",
    "    msg = \"Creating reality identities ...\"\n",
    "    pbar.set_description(msg)\n",
    "    pbar.refresh()\n",
    "    pbar.n += 1\n",
    "\n",
    "real_var_simplifiers = {irc:[] for irc in great_identities}\n",
    "kprimes = set()\n",
    "# this has to run over all the quadruples of irs\n",
    "for ir1, ir2, ir3, ir4 in product(*([group.irrep_labels]*4)):\n",
    "    real_var_simplifier = {}\n",
    "    ircombo = (ir1, ir2, ir3, ir4)\n",
    "    components = [component_labels[ir] for ir in ircombo]\n",
    "    for γ1, γ2, γ3, γ4 in product(*components):\n",
    "        k = (γ1, γ2, γ3, γ4)\n",
    "        kalt1 = (γ3, γ2, γ1, γ4)\n",
    "        kalt2 = (γ1, γ4, γ3, γ2)\n",
    "        kalt3 = (γ3, γ4, γ1, γ2)\n",
    "        if kalt1 in kprimes:\n",
    "            real_var_simplifier[k] = kalt1\n",
    "        elif kalt2 in kprimes:\n",
    "            real_var_simplifier[k] = kalt2\n",
    "        elif kalt3 in kprimes:\n",
    "            real_var_simplifier[k] = kalt3\n",
    "        else:\n",
    "            real_var_simplifier[k] = k\n",
    "            kprimes.add(k)\n",
    "    real_var_simplifiers[ircombo] = real_var_simplifier\n",
    "\n",
    "real_var_full_simplifier = {}\n",
    "for ircombo in real_var_simplifiers:\n",
    "    real_var_full_simplifier.update(real_var_simplifiers[ircombo])\n",
    "\n",
    "# For each 4-tuple of irreps\n",
    "# create a system of symbolic solutions\n",
    "# and let sympy solve that.\n",
    "# For each 4-tuple of irreps\n",
    "# the end result is a dictionary\n",
    "# whose keys represent the dependent\n",
    "# brakets and whose values are the\n",
    "# relation that those dependent values\n",
    "# have with the independent brakets.\n",
    "# As such, when these dictionaries are\n",
    "# used on an expression, everything should\n",
    "# then be given in terms of indepedent brakets.\n",
    "\n",
    "if verbose:\n",
    "    msg = \"Solving for independent 4-symbol brakets ...\"\n",
    "    pbar.set_description(msg)\n",
    "    pbar.refresh()\n",
    "    pbar.n += 1\n",
    "\n",
    "all_sols = {irc:[] for irc in great_identities}\n",
    "for ircombo in great_identities:\n",
    "    zeros = all_zeros[ircombo]\n",
    "    problem_vars = list(set(sum([list(identity.dict.keys()) for identity in great_identities[ircombo]],[])))\n",
    "    big_ma = [awe.vec_in_basis(problem_vars) for awe in great_identities[ircombo]] \n",
    "    big_mat = sp.Matrix(big_ma)\n",
    "    big_mat = sp.re(big_mat)+sp.I*sp.im(big_mat)\n",
    "    rref_mat, pivots = big_mat.rref()\n",
    "    num_rows = rref_mat.rows\n",
    "    num_cols = rref_mat.cols\n",
    "    rref_ma_non_zero = [rref_mat[row,:] for row in range(num_rows) if (sum(np.array(rref_mat[row,:])[0] == 0) != num_cols)]\n",
    "    rref_mat_non_zero = sp.Matrix(rref_ma_non_zero)\n",
    "    varvec = sp.Matrix(list(map(composite_symbol,problem_vars)))\n",
    "    eqns = rref_mat_non_zero*varvec\n",
    "    ssol = sp.solve(list(eqns), dict=True)\n",
    "    all_sols[ircombo] = ssol\n",
    "    assert len(ssol) in [0,1]\n",
    "    if len(ssol) == 0:\n",
    "        sol_dict = {}\n",
    "    else:\n",
    "        sol_dict = ssol[0]\n",
    "    zero_addendum = {k:{} for k in all_zeros[ircombo]}\n",
    "    sol_dict = {fourtuplerecovery(k):{fourtuplerecovery(s):v.coeff(s) for s in v.free_symbols} for k,v in sol_dict.items()}\n",
    "    sol_dict.update(zero_addendum)\n",
    "    all_sols[ircombo] = sol_dict\n",
    "\n",
    "# This final dictionary is unnecessary but\n",
    "# simplifies calling the replacements onto\n",
    "# a symbolic expression.\n",
    "if verbose:\n",
    "    msg = \"Creating a dictionary with all the 4-symbol replacements ...\"\n",
    "    pbar.set_description(msg)\n",
    "    pbar.refresh()\n",
    "    pbar.n += 1\n",
    "\n",
    "super_solution = {}\n",
    "for ircombo in all_sols:\n",
    "    super_solution.update(all_sols[ircombo])\n",
    "\n",
    "def simplifier(qet):\n",
    "    simp_ket = Qet({})\n",
    "    for k,v in qet.dict.items():\n",
    "        simp_ket += Qet({real_var_full_simplifier[k]:v})\n",
    "    true_qet = Qet({})\n",
    "    for k,v in simp_ket.dict.items():\n",
    "        if k in super_solution:\n",
    "            true_qet += v*Qet(super_solution[k])\n",
    "        else:\n",
    "            true_qet += Qet({k:v})\n",
    "    return true_qet\n",
    "\n",
    "def simplify_config_matrix(ir1ir2, S, ir3):\n",
    "    config_matrix = config_matrices[ir1ir2][(S,ir3)]\n",
    "    num_rows = len(config_matrix)\n",
    "    simple_matrix = [[simplifier(config_matrix[row][col]) for col in range(num_rows)] for row in range(num_rows)]\n",
    "    return simple_matrix\n",
    "\n",
    "if verbose:\n",
    "    msg = \"Simplifying configuration matrices ...\"\n",
    "    pbar.set_description(msg)\n",
    "    pbar.refresh()\n",
    "    pbar.n += 1\n",
    "\n",
    "simple_config_matrices = {k:{} for k in config_matrices}\n",
    "for ir1ir2 in config_matrices.keys():\n",
    "    for term_key in config_matrices[ir1ir2]:\n",
    "        S, Γ3 = term_key\n",
    "        simple_config_matrices[ir1ir2][term_key] = simplify_config_matrix(ir1ir2, S, Γ3)\n",
    "\n",
    "twotuplerecovery = fourtuplerecovery\n",
    "if verbose:\n",
    "    msg = \"Creating all 2-symbol identities ...\"\n",
    "    pbar.set_description(msg)\n",
    "    pbar.refresh()\n",
    "    pbar.n += 1\n",
    "\n",
    "# this   integral_identities  dictionary  will  have  as  keys\n",
    "# 2-tuples  of  irreps  and  its  values  will  be lists whose\n",
    "# elements  are  2-tuples whose first elements are 2-tuples of\n",
    "# irrep  components  and  whose values are qets whose keys are\n",
    "# 2-tuples  of  irrep components and whose values are numeric.\n",
    "# These 2-tuples represent a braket with the an invariant operator\n",
    "# operator in between."
   ]
  },
  {
   "cell_type": "code",
   "execution_count": 372,
   "id": "a97f2bc8-7d63-4c45-8e1b-dafbd77f86d0",
   "metadata": {},
   "outputs": [
    {
     "data": {
      "text/html": [
       "<pre>✔️ 189 ms (2021-11-22T10:34:06/2021-11-22T10:34:07)</pre>"
      ],
      "text/plain": [
       "<IPython.core.display.HTML object>"
      ]
     },
     "metadata": {},
     "output_type": "display_data"
    }
   ],
   "source": [
    "verbose = False\n",
    "integral_identities_2 = {}\n",
    "ir_mats = group.irrep_matrices\n",
    "for ir1, ir2 in product(*([group.irrep_labels]*2)):\n",
    "    # To simplify calculations this part\n",
    "    # can only be done over quadruples in a standard\n",
    "    # order.\n",
    "    # Whatever is missed here is then brough back in\n",
    "    # by the reality relations.\n",
    "    altorder1 = (ir2, ir1, ir1, ir4)\n",
    "    if (altorder1 in integral_identities_2):\n",
    "        continue\n",
    "    integral_identity_sector = []\n",
    "    components = [component_labels[ir] for ir in [ir1, ir2]]\n",
    "    comp_to_idx = [{c: idx for idx, c in enumerate(component_labels[ir])} for ir in [ir1, ir2]]\n",
    "    for R in group.generators + [sp.Symbol('{Ee}')]:\n",
    "        R_id = {}\n",
    "        for γ1, γ2 in product(*components):\n",
    "            for γ1p, γ2p in product(*components):\n",
    "                    val = sp.conjugate(ir_mats[ir1][R][comp_to_idx[0][γ1],comp_to_idx[0][γ1p]]) *\\\n",
    "                          ir_mats[ir2][R][comp_to_idx[1][γ2],comp_to_idx[1][γ2p]]\n",
    "#                     val = sp.conjugate(ir_mats[ir1][R][comp_to_idx[0][γ1p],comp_to_idx[0][γ1]]) *\\\n",
    "#                           ir_mats[ir2][R][comp_to_idx[1][γ2],comp_to_idx[1][γ2p]]\n",
    "                    if val== 0:\n",
    "                        continue\n",
    "                    key = (γ1, γ2)\n",
    "                    if key not in R_id.keys():\n",
    "                        R_id[key] = []\n",
    "                    R_id[key].append( Qet({(γ1p,γ2p): val}) )\n",
    "        R_id_total = [(key, sum(R_id[key], Qet({}))) for key in R_id.keys()]\n",
    "        R_id_total = [q for q in R_id_total if len(q[1].dict)>0]\n",
    "        integral_identity_sector.extend(R_id_total)\n",
    "    integral_identities_2[(ir1,ir2)] = integral_identity_sector\n",
    "\n",
    "# For solving the linear system it is convenient\n",
    "# to have everything on one side of the equation.\n",
    "if verbose:\n",
    "    msg = \"Creating set of 2 symbol identities ...\"\n",
    "    pbar.set_description(msg)\n",
    "    pbar.refresh()\n",
    "    pbar.n += 1\n",
    "identities_2 = {}\n",
    "\n",
    "for ircombo in integral_identities_2:\n",
    "    these_ids = []\n",
    "    for v in integral_identities_2[ircombo]:\n",
    "        lhs, rhs = v\n",
    "        diff = Qet({lhs:1}) - rhs\n",
    "        if len(diff.dict) > 0:\n",
    "            these_ids.append(diff)\n",
    "    identities_2[ircombo] = these_ids\n",
    "\n",
    "# If an equation has only one term, then\n",
    "# that immediately means that that term is zero.\n",
    "if verbose:\n",
    "    msg = \"Finding trivial zeros ...\"\n",
    "    pbar.set_description(msg)\n",
    "    pbar.refresh()\n",
    "    pbar.n += 1\n",
    "\n",
    "# first determine which ones have to be zero\n",
    "better_identities_2 = {irc:[] for irc in identities_2}\n",
    "all_zeros_2 = {}\n",
    "for ircombo in identities_2:\n",
    "    zeros = []\n",
    "    for identity in identities_2[ircombo]:\n",
    "        if len(identity.dict) == 1:\n",
    "            zeros.append((list(identity.dict.keys())[0]))\n",
    "        else:\n",
    "            better_identities_2[ircombo].append(identity)\n",
    "    all_zeros_2[ircombo] = zeros\n",
    "\n",
    "# use them to simplify things.\n",
    "if verbose:\n",
    "    msg = \"Using them to simplify things ...\"\n",
    "    pbar.set_description(msg)\n",
    "    pbar.refresh()\n",
    "    pbar.n += 1\n",
    "\n",
    "great_identities_2 = {irc:[] for irc in identities_2}\n",
    "for ircombo in better_identities_2:\n",
    "    for identity in better_identities_2[ircombo]:\n",
    "        new_qet = Qet({})\n",
    "        for k,v in identity.dict.items():\n",
    "            if k in all_zeros_2[ircombo]:\n",
    "                continue\n",
    "            else:\n",
    "                new_qet+= Qet({k: v})\n",
    "        if len(new_qet.dict) == 0:\n",
    "            continue\n",
    "        great_identities_2[ircombo].append(new_qet)\n",
    "\n",
    "# Inside of a two-symbol braket one may do three exchanges\n",
    "# that must result in the same value. That if the wave\n",
    "# functions are assumed to be real-valued.\n",
    "if verbose:\n",
    "    msg = \"Creating reality identities ...\"\n",
    "    pbar.set_description(msg)\n",
    "    pbar.refresh()\n",
    "    pbar.n += 1\n",
    "real_var_simplifiers_2 = {irc:[] for irc in great_identities_2}\n",
    "# this has to run over all the quadruples of irs\n",
    "kprimes = set()\n",
    "for ir1, ir2 in product(*([group.irrep_labels]*2)):\n",
    "    real_var_simplifier = {}\n",
    "    ircombo = (ir1, ir2)\n",
    "    components = [component_labels[ir] for ir in ircombo]\n",
    "    for γ1, γ2 in product(*components):\n",
    "        k = (γ1, γ2)\n",
    "        kalt = (γ2, γ1)\n",
    "        # If for a given key I find that its\n",
    "        # switched version has already been seen\n",
    "        # Then that key has to be mapped to be\n",
    "        # mapped to the key already present.\n",
    "        if kalt in kprimes:\n",
    "            real_var_simplifier[k] = kalt\n",
    "        else:\n",
    "            real_var_simplifier[k] = k\n",
    "            kprimes.add(k)\n",
    "    real_var_simplifiers_2[ircombo] = real_var_simplifier\n",
    "\n",
    "# For each 2-tuple of irreps\n",
    "# create a system of symbolic solutions\n",
    "# and let sympy solve that.\n",
    "# For each 2-tuple of irreps\n",
    "# the end result is a dictionary\n",
    "# whose keys represent the dependent\n",
    "# brakets and whose values are the\n",
    "# relation that those dependent values\n",
    "# have with the independent brakets.\n",
    "# As such, when these dictionaries are\n",
    "# used on an expression, everything should\n",
    "# then be given in terms of indepedent brakets.\n",
    "if verbose:\n",
    "    msg = \"Solving for independent 2-symbol brakets ...\"\n",
    "    pbar.set_description(msg)\n",
    "    pbar.refresh()\n",
    "    pbar.n += 1\n",
    "all_sols_2 = {irc:[] for irc in great_identities_2}\n",
    "\n",
    "for ircombo in great_identities_2:\n",
    "    zeros = all_zeros_2[ircombo]\n",
    "    problem_vars = list(set(sum([list(identity.dict.keys()) for identity in great_identities_2[ircombo]],[])))\n",
    "    big_ma = [awe.vec_in_basis(problem_vars) for awe in great_identities_2[ircombo]] \n",
    "    big_mat = sp.Matrix(big_ma)\n",
    "    big_mat = sp.re(big_mat)+sp.I*sp.im(big_mat)\n",
    "    rref_mat, pivots = big_mat.rref()\n",
    "    num_rows = rref_mat.rows\n",
    "    num_cols = rref_mat.cols\n",
    "    rref_ma_non_zero = [rref_mat[row,:] for row in range(num_rows) if (sum(np.array(rref_mat[row,:])[0] == 0) != num_cols)]\n",
    "    rref_mat_non_zero = sp.Matrix(rref_ma_non_zero)\n",
    "    varvec = sp.Matrix(list(map(composite_symbol,problem_vars)))\n",
    "    eqns = rref_mat_non_zero*varvec\n",
    "    ssol = sp.solve(list(eqns), dict=True)\n",
    "    all_sols[ircombo] = ssol\n",
    "    assert len(ssol) in [0,1]\n",
    "    if len(ssol) == 0:\n",
    "        sol_dict = {}\n",
    "    else:\n",
    "        sol_dict = ssol[0]\n",
    "    zero_addendum = {k:{} for k in all_zeros_2[ircombo]}\n",
    "    sol_dict = {twotuplerecovery(k):{twotuplerecovery(s):v.coeff(s) for s in v.free_symbols} for k,v in sol_dict.items()}\n",
    "    sol_dict.update(zero_addendum)\n",
    "    all_sols_2[ircombo] = sol_dict\n",
    "\n",
    "# This final dictionary is unnecessary but\n",
    "# simplifies calling the replacements onto\n",
    "# a symbolic expression.\n",
    "if verbose:\n",
    "    msg = \"Creating a dictionary with all the 2-symbol replacements ...\"\n",
    "    pbar.set_description(msg)\n",
    "    pbar.refresh()\n",
    "    pbar.n += 1\n",
    "\n",
    "super_solution_2 = {}\n",
    "for ircombo in all_sols_2:\n",
    "    super_solution_2.update(all_sols_2[ircombo])\n",
    "\n",
    "# for a given electron config\n",
    "more_ids = {e_config:[] for e_config in simple_config_matrices}\n",
    "for e_config in simple_config_matrices:\n",
    "    for term in simple_config_matrices[e_config]:\n",
    "        the_matrix = simple_config_matrices[e_config][term]\n",
    "        num_rows = len(the_matrix)\n",
    "        num_cols = len(the_matrix)\n",
    "        the_state_keys = config_supplement[e_config][term]\n",
    "        the_key_matrix = {}\n",
    "        for row_idx in range(num_rows):\n",
    "            Γ3_row = the_state_keys[row_idx][2]\n",
    "            γ3_row = the_state_keys[row_idx][3]\n",
    "            for col_idx in range(num_cols):\n",
    "                Γ3_col = the_state_keys[col_idx][2]\n",
    "                γ3_col = the_state_keys[col_idx][3]\n",
    "                matrix_val = the_matrix[row_idx][col_idx]\n",
    "                the_key_matrix[(γ3_row,γ3_col)] = matrix_val\n",
    "        # now go over the keys of super_solution_2\n",
    "        # and if one of those keys matches with a key in the_key_matrix\n",
    "        # do something about it\n",
    "        for k in super_solution_2:\n",
    "            if k in the_key_matrix:\n",
    "                v = super_solution_2[k]\n",
    "                # this matrix element\n",
    "                matrix_element = the_key_matrix[k]\n",
    "                # must be identified with the sum\n",
    "                # as given in v\n",
    "                matrix_equiv = sum([kv*the_key_matrix[km] for km, kv in v.items()],Qet({}))\n",
    "                identity = (matrix_element - matrix_equiv) #=0\n",
    "                if len(identity.dict) != 0:\n",
    "                    more_ids[e_config].append(identity)\n",
    "                    problem_vars = list(set(sum([list(identity.dict.keys()) for identity in more_ids[e_config]],[])))\n",
    "if verbose:\n",
    "    msg = \"Simplifying numeric values of qets ...\"\n",
    "    pbar.set_description(msg)\n",
    "    pbar.refresh()\n",
    "    pbar.n += 1\n",
    "\n",
    "more_ids = {e_config:list(filter(lambda x: len(x.dict) > 0,list(map(simplify_qet,more_ids[e_config])))) for e_config in more_ids}\n",
    "\n",
    "if verbose:\n",
    "    msg = \"Solving for dependent vars in terms of independent ones ...\"\n",
    "    pbar.set_description(msg)\n",
    "    pbar.refresh()\n",
    "    pbar.n += 1\n",
    "\n",
    "all_sols_2_4 = {irc:[] for irc in more_ids}\n",
    "\n",
    "for e_config in more_ids:\n",
    "    problem_vars = list(set(sum([list(identity.dict.keys()) for identity in more_ids[e_config]],[])))\n",
    "    big_ma = [awe.vec_in_basis(problem_vars) for awe in more_ids[e_config]] \n",
    "    big_mat = sp.Matrix(big_ma)\n",
    "    big_mat = sp.re(big_mat)+sp.I*sp.im(big_mat)\n",
    "    rref_mat, pivots = big_mat.rref()\n",
    "    num_rows = rref_mat.rows\n",
    "    num_cols = rref_mat.cols\n",
    "    rref_ma_non_zero = [rref_mat[row,:] for row in range(num_rows) if (sum(np.array(rref_mat[row,:])[0] == 0) != num_cols)]\n",
    "    rref_mat_non_zero = sp.Matrix(rref_ma_non_zero)\n",
    "    varvec = sp.Matrix(list(map(composite_symbol, problem_vars)))\n",
    "    eqns = rref_mat_non_zero*varvec\n",
    "    ssol = sp.solve(list(eqns), dict=True)\n",
    "    all_sols_2_4[e_config] = ssol\n",
    "    assert len(ssol) in [0,1]\n",
    "    if len(ssol) == 0:\n",
    "        sol_dict = {}\n",
    "    else:\n",
    "        sol_dict = ssol[0]\n",
    "    sol_dict = {twotuplerecovery(k):{twotuplerecovery(s):v.coeff(s) for s in v.free_symbols} for k,v in sol_dict.items()}\n",
    "    all_sols_2_4[e_config] = sol_dict\n",
    "\n",
    "# flatten into a single dictionary of replacements\n",
    "fab_solution_2_4 = {}\n",
    "for e_config in all_sols_2_4:\n",
    "    fab_solution_2_4.update(all_sols_2_4[e_config])\n",
    "if verbose:\n",
    "    msg = \"There are %d less independent variables ...\"\n",
    "    pbar.set_description(\"There are %d less independent variables ...\" % len(fab_solution_2_4))\n",
    "    pbar.refresh()\n",
    "    pbar.n += 1\n",
    "\n",
    "def simplifier_f(qet):\n",
    "    true_qet = Qet({})\n",
    "    for k,v in qet.dict.items():\n",
    "        if k in fab_solution_2_4:\n",
    "            true_qet += v*Qet(fab_solution_2_4[k])\n",
    "        else:\n",
    "            true_qet += Qet({k:v})\n",
    "    return true_qet\n",
    "\n",
    "def simplify_config_matrix_f(ir1ir2, S, ir3):\n",
    "    config_matrix = simple_config_matrices[ir1ir2][(S,ir3)]\n",
    "    num_rows = len(config_matrix)\n",
    "    simple_matrix = [[simplifier_f(config_matrix[row][col]) for col in range(num_rows)] for row in range(num_rows)]\n",
    "    #simple_matrix = sp.Matrix(simple_matrix)\n",
    "    return simple_matrix\n",
    "\n",
    "if verbose:\n",
    "    msg = \"Making final simplifications ...\"\n",
    "    pbar.set_description(msg)\n",
    "    pbar.refresh()\n",
    "    pbar.n += 1\n",
    "\n",
    "final_config_matrices = {k:{} for k in config_matrices}\n",
    "for ir1ir2 in config_matrices.keys():\n",
    "    for term_key in config_matrices[ir1ir2]:\n",
    "        S, Γ3 = term_key\n",
    "        final_config_matrices[ir1ir2][term_key] = simplify_config_matrix_f(ir1ir2, S, Γ3)\n",
    "\n",
    "if verbose:\n",
    "    msg = \"Finished\"\n",
    "    pbar.set_description(msg)\n",
    "    pbar.refresh()"
   ]
  },
  {
   "cell_type": "code",
   "execution_count": 373,
   "id": "810d5ca4-2e6c-420c-8bf3-0874bb0ffa51",
   "metadata": {
    "tags": []
   },
   "outputs": [
    {
     "data": {
      "text/html": [
       "<pre>✔️ 11.3 ms (2021-11-22T10:34:08/2021-11-22T10:34:08)</pre>"
      ],
      "text/plain": [
       "<IPython.core.display.HTML object>"
      ]
     },
     "metadata": {},
     "output_type": "display_data"
    }
   ],
   "source": [
    "O = final_config_matrices"
   ]
  },
  {
   "cell_type": "code",
   "execution_count": 374,
   "id": "d899e765-56f4-4a79-ae82-0aaf8c565f80",
   "metadata": {},
   "outputs": [
    {
     "data": {
      "text/html": [
       "<pre>✔️ 12.6 ms (2021-11-22T10:34:09/2021-11-22T10:34:09)</pre>"
      ],
      "text/plain": [
       "<IPython.core.display.HTML object>"
      ]
     },
     "metadata": {},
     "output_type": "display_data"
    },
    {
     "data": {
      "text/plain": [
       "[[Qet({({\\xi}, {\\phi}, {\\xi}, {\\phi}): 1, ({\\xi}, {\\xi}, {\\phi}, {\\phi}): -1}),\n",
       "  Qet({}),\n",
       "  Qet({}),\n",
       "  Qet({}),\n",
       "  Qet({}),\n",
       "  Qet({}),\n",
       "  Qet({}),\n",
       "  Qet({}),\n",
       "  Qet({})],\n",
       " [Qet({}),\n",
       "  Qet({({\\xi}, {\\phi}, {\\xi}, {\\phi}): 1, ({\\xi}, {\\xi}, {\\phi}, {\\phi}): -1}),\n",
       "  Qet({}),\n",
       "  Qet({}),\n",
       "  Qet({}),\n",
       "  Qet({}),\n",
       "  Qet({}),\n",
       "  Qet({}),\n",
       "  Qet({})],\n",
       " [Qet({}),\n",
       "  Qet({}),\n",
       "  Qet({({\\xi}, {\\phi}, {\\xi}, {\\phi}): 1, ({\\xi}, {\\xi}, {\\phi}, {\\phi}): -1}),\n",
       "  Qet({}),\n",
       "  Qet({}),\n",
       "  Qet({}),\n",
       "  Qet({}),\n",
       "  Qet({}),\n",
       "  Qet({})],\n",
       " [Qet({}),\n",
       "  Qet({}),\n",
       "  Qet({}),\n",
       "  Qet({({\\xi}, {\\phi}, {\\xi}, {\\phi}): 1, ({\\xi}, {\\xi}, {\\phi}, {\\phi}): -1}),\n",
       "  Qet({}),\n",
       "  Qet({}),\n",
       "  Qet({}),\n",
       "  Qet({}),\n",
       "  Qet({})],\n",
       " [Qet({}),\n",
       "  Qet({}),\n",
       "  Qet({}),\n",
       "  Qet({}),\n",
       "  Qet({({\\xi}, {\\phi}, {\\xi}, {\\phi}): 1, ({\\xi}, {\\xi}, {\\phi}, {\\phi}): -1}),\n",
       "  Qet({}),\n",
       "  Qet({}),\n",
       "  Qet({}),\n",
       "  Qet({})],\n",
       " [Qet({}),\n",
       "  Qet({}),\n",
       "  Qet({}),\n",
       "  Qet({}),\n",
       "  Qet({}),\n",
       "  Qet({({\\xi}, {\\phi}, {\\xi}, {\\phi}): 1, ({\\xi}, {\\xi}, {\\phi}, {\\phi}): -1}),\n",
       "  Qet({}),\n",
       "  Qet({}),\n",
       "  Qet({})],\n",
       " [Qet({}),\n",
       "  Qet({}),\n",
       "  Qet({}),\n",
       "  Qet({}),\n",
       "  Qet({}),\n",
       "  Qet({}),\n",
       "  Qet({({\\xi}, {\\phi}, {\\xi}, {\\phi}): 1, ({\\xi}, {\\xi}, {\\phi}, {\\phi}): -1}),\n",
       "  Qet({}),\n",
       "  Qet({})],\n",
       " [Qet({}),\n",
       "  Qet({}),\n",
       "  Qet({}),\n",
       "  Qet({}),\n",
       "  Qet({}),\n",
       "  Qet({}),\n",
       "  Qet({}),\n",
       "  Qet({({\\xi}, {\\phi}, {\\xi}, {\\phi}): 1, ({\\xi}, {\\xi}, {\\phi}, {\\phi}): -1}),\n",
       "  Qet({})],\n",
       " [Qet({}),\n",
       "  Qet({}),\n",
       "  Qet({}),\n",
       "  Qet({}),\n",
       "  Qet({}),\n",
       "  Qet({}),\n",
       "  Qet({}),\n",
       "  Qet({}),\n",
       "  Qet({({\\xi}, {\\phi}, {\\xi}, {\\phi}): 1, ({\\xi}, {\\xi}, {\\phi}, {\\phi}): -1})]]"
      ]
     },
     "execution_count": 374,
     "metadata": {},
     "output_type": "execute_result"
    }
   ],
   "source": [
    "O[sp.Symbol('t_{2}')**2][(1,sp.Symbol('T_1'))]"
   ]
  },
  {
   "cell_type": "markdown",
   "id": "dc9c80a2-fc9d-400f-96f1-1b8d0af9c64b",
   "metadata": {
    "heading_collapsed": "true",
    "tags": []
   },
   "source": [
    "#### DEBUG"
   ]
  },
  {
   "cell_type": "code",
   "execution_count": 217,
   "id": "d0729164-b8b8-44c4-9bbf-021585b7bb0a",
   "metadata": {},
   "outputs": [
    {
     "data": {
      "text/html": [
       "<pre>✔️ 13.1 ms (2021-11-22T08:26:33/2021-11-22T08:26:33)</pre>"
      ],
      "text/plain": [
       "<IPython.core.display.HTML object>"
      ]
     },
     "metadata": {},
     "output_type": "display_data"
    },
    {
     "name": "stdout",
     "output_type": "stream",
     "text": [
      "C_{4x}\n"
     ]
    },
    {
     "data": {
      "text/latex": [
       "$\\displaystyle \\left[\\begin{matrix}1 & 0 & 0\\\\0 & 0 & 1\\\\0 & -1 & 0\\end{matrix}\\right]$"
      ],
      "text/plain": [
       "Matrix([\n",
       "[1,  0, 0],\n",
       "[0,  0, 1],\n",
       "[0, -1, 0]])"
      ]
     },
     "metadata": {},
     "output_type": "display_data"
    },
    {
     "name": "stdout",
     "output_type": "stream",
     "text": [
      "1\n",
      "C_{2a}\n"
     ]
    },
    {
     "data": {
      "text/latex": [
       "$\\displaystyle \\left[\\begin{matrix}0 & 1 & 0\\\\1 & 0 & 0\\\\0 & 0 & -1\\end{matrix}\\right]$"
      ],
      "text/plain": [
       "Matrix([\n",
       "[0, 1,  0],\n",
       "[1, 0,  0],\n",
       "[0, 0, -1]])"
      ]
     },
     "metadata": {},
     "output_type": "display_data"
    },
    {
     "name": "stdout",
     "output_type": "stream",
     "text": [
      "1\n"
     ]
    }
   ],
   "source": [
    "for R in group.generators:\n",
    "    print(R)\n",
    "    display(group.operations_matrices[R])\n",
    "    print(group.operations_matrices[R].det())"
   ]
  },
  {
   "cell_type": "code",
   "execution_count": 212,
   "id": "3d01e2f8-ffee-4f74-b82c-98cfcb510282",
   "metadata": {
    "collapsed": true,
    "jupyter": {
     "outputs_hidden": true
    },
    "tags": []
   },
   "outputs": [
    {
     "data": {
      "text/html": [
       "<pre>✔️ 23.8 ms (2021-11-22T08:18:12/2021-11-22T08:18:12)</pre>"
      ],
      "text/plain": [
       "<IPython.core.display.HTML object>"
      ]
     },
     "metadata": {},
     "output_type": "display_data"
    },
    {
     "name": "stdout",
     "output_type": "stream",
     "text": [
      "C_{4x}\n",
      "A_1\n"
     ]
    },
    {
     "data": {
      "text/latex": [
       "$\\displaystyle \\left[\\begin{matrix}1\\end{matrix}\\right]$"
      ],
      "text/plain": [
       "Matrix([[1]])"
      ]
     },
     "metadata": {},
     "output_type": "display_data"
    },
    {
     "name": "stdout",
     "output_type": "stream",
     "text": [
      "A_2\n"
     ]
    },
    {
     "data": {
      "text/latex": [
       "$\\displaystyle \\left[\\begin{matrix}-1\\end{matrix}\\right]$"
      ],
      "text/plain": [
       "Matrix([[-1]])"
      ]
     },
     "metadata": {},
     "output_type": "display_data"
    },
    {
     "name": "stdout",
     "output_type": "stream",
     "text": [
      "E\n"
     ]
    },
    {
     "data": {
      "text/latex": [
       "$\\displaystyle \\left[\\begin{matrix}- \\frac{1}{2} & - \\frac{\\sqrt{3}}{2}\\\\- \\frac{\\sqrt{3}}{2} & \\frac{1}{2}\\end{matrix}\\right]$"
      ],
      "text/plain": [
       "Matrix([\n",
       "[      -1/2, -sqrt(3)/2],\n",
       "[-sqrt(3)/2,        1/2]])"
      ]
     },
     "metadata": {},
     "output_type": "display_data"
    },
    {
     "name": "stdout",
     "output_type": "stream",
     "text": [
      "T_1\n"
     ]
    },
    {
     "data": {
      "text/latex": [
       "$\\displaystyle \\left[\\begin{matrix}0 & 1 & 0\\\\-1 & 0 & 0\\\\0 & 0 & 1\\end{matrix}\\right]$"
      ],
      "text/plain": [
       "Matrix([\n",
       "[ 0, 1, 0],\n",
       "[-1, 0, 0],\n",
       "[ 0, 0, 1]])"
      ]
     },
     "metadata": {},
     "output_type": "display_data"
    },
    {
     "name": "stdout",
     "output_type": "stream",
     "text": [
      "T_2\n"
     ]
    },
    {
     "data": {
      "text/latex": [
       "$\\displaystyle \\left[\\begin{matrix}0 & 0 & 1\\\\0 & -1 & 0\\\\-1 & 0 & 0\\end{matrix}\\right]$"
      ],
      "text/plain": [
       "Matrix([\n",
       "[ 0,  0, 1],\n",
       "[ 0, -1, 0],\n",
       "[-1,  0, 0]])"
      ]
     },
     "metadata": {},
     "output_type": "display_data"
    },
    {
     "name": "stdout",
     "output_type": "stream",
     "text": [
      "C_{2a}\n",
      "A_1\n"
     ]
    },
    {
     "data": {
      "text/latex": [
       "$\\displaystyle \\left[\\begin{matrix}1\\end{matrix}\\right]$"
      ],
      "text/plain": [
       "Matrix([[1]])"
      ]
     },
     "metadata": {},
     "output_type": "display_data"
    },
    {
     "name": "stdout",
     "output_type": "stream",
     "text": [
      "A_2\n"
     ]
    },
    {
     "data": {
      "text/latex": [
       "$\\displaystyle \\left[\\begin{matrix}-1\\end{matrix}\\right]$"
      ],
      "text/plain": [
       "Matrix([[-1]])"
      ]
     },
     "metadata": {},
     "output_type": "display_data"
    },
    {
     "name": "stdout",
     "output_type": "stream",
     "text": [
      "E\n"
     ]
    },
    {
     "data": {
      "text/latex": [
       "$\\displaystyle \\left[\\begin{matrix}1 & 0\\\\0 & -1\\end{matrix}\\right]$"
      ],
      "text/plain": [
       "Matrix([\n",
       "[1,  0],\n",
       "[0, -1]])"
      ]
     },
     "metadata": {},
     "output_type": "display_data"
    },
    {
     "name": "stdout",
     "output_type": "stream",
     "text": [
      "T_1\n"
     ]
    },
    {
     "data": {
      "text/latex": [
       "$\\displaystyle \\left[\\begin{matrix}0 & 0 & -1\\\\0 & -1 & 0\\\\-1 & 0 & 0\\end{matrix}\\right]$"
      ],
      "text/plain": [
       "Matrix([\n",
       "[ 0,  0, -1],\n",
       "[ 0, -1,  0],\n",
       "[-1,  0,  0]])"
      ]
     },
     "metadata": {},
     "output_type": "display_data"
    },
    {
     "name": "stdout",
     "output_type": "stream",
     "text": [
      "T_2\n"
     ]
    },
    {
     "data": {
      "text/latex": [
       "$\\displaystyle \\left[\\begin{matrix}1 & 0 & 0\\\\0 & 0 & 1\\\\0 & 1 & 0\\end{matrix}\\right]$"
      ],
      "text/plain": [
       "Matrix([\n",
       "[1, 0, 0],\n",
       "[0, 0, 1],\n",
       "[0, 1, 0]])"
      ]
     },
     "metadata": {},
     "output_type": "display_data"
    }
   ],
   "source": [
    "for R in group.generators:\n",
    "    print(R)\n",
    "    for irrep in group.irrep_labels:\n",
    "        print(irrep)\n",
    "        display(group.irrep_matrices[irrep][R])"
   ]
  },
  {
   "cell_type": "code",
   "execution_count": 344,
   "id": "a3310016-4d14-49f8-af14-852a8a854a89",
   "metadata": {},
   "outputs": [
    {
     "data": {
      "text/html": [
       "<pre>✔️ 6.07 s (2021-11-22T10:25:05/2021-11-22T10:25:11)</pre>"
      ],
      "text/plain": [
       "<IPython.core.display.HTML object>"
      ]
     },
     "metadata": {},
     "output_type": "display_data"
    },
    {
     "data": {
      "application/vnd.jupyter.widget-view+json": {
       "model_id": "e50e44cd842346f8b8784575731915c6",
       "version_major": 2,
       "version_minor": 0
      },
      "text/plain": [
       "(0/19) [00:00] "
      ]
     },
     "metadata": {},
     "output_type": "display_data"
    },
    {
     "data": {
      "text/latex": [
       "$\\displaystyle \\left[\\begin{matrix}{\\phi} & {\\xi} & {\\xi} & {\\phi}\\end{matrix}\\right]$"
      ],
      "text/plain": [
       "Matrix([[{\\phi}, {\\xi}, {\\xi}, {\\phi}]])"
      ]
     },
     "metadata": {},
     "output_type": "display_data"
    },
    {
     "data": {
      "text/latex": [
       "$\\displaystyle \\left[\\begin{matrix}{\\phi} & {\\chi} & {\\chi} & {\\phi}\\end{matrix}\\right]$"
      ],
      "text/plain": [
       "Matrix([[{\\phi}, {\\chi}, {\\chi}, {\\phi}]])"
      ]
     },
     "metadata": {},
     "output_type": "display_data"
    },
    {
     "data": {
      "text/latex": [
       "$\\displaystyle \\left[\\begin{matrix}{\\chi} & {\\phi} & {\\phi} & {\\chi}\\end{matrix}\\right]$"
      ],
      "text/plain": [
       "Matrix([[{\\chi}, {\\phi}, {\\phi}, {\\chi}]])"
      ]
     },
     "metadata": {},
     "output_type": "display_data"
    },
    {
     "data": {
      "text/latex": [
       "$\\displaystyle \\left[\\begin{matrix}{\\phi} & {\\chi} & {\\chi} & {\\phi}\\end{matrix}\\right]$"
      ],
      "text/plain": [
       "Matrix([[{\\phi}, {\\chi}, {\\chi}, {\\phi}]])"
      ]
     },
     "metadata": {},
     "output_type": "display_data"
    }
   ],
   "source": [
    "def simplify_qet(qet):\n",
    "    new_dict = {k:sp.simplify(v) for k,v in qet.dict.items()}\n",
    "    return Qet(new_dict)\n",
    "\n",
    "verbose = True\n",
    "group_label = 'O'\n",
    "stages = 19 # this is how many distinct parts this algorithm has\n",
    "if verbose:\n",
    "    pbar = tqdm(range(stages), bar_format='({n:d}/{total:d}) [{elapsed}] {desc}')\n",
    "terms = twoe_terms[group_label]\n",
    "group = CPGs.get_group_by_label(group_label)\n",
    "component_labels = {k:list(v.values()) for k,v in new_labels[group_label].items()}\n",
    "\n",
    "# for a given set of terms\n",
    "# split all the enclosed states\n",
    "# in groups of electron configurations\n",
    "\n",
    "configs = {}\n",
    "config_supplement = {}\n",
    "for term_key, term in terms.items():\n",
    "    for state_key, state in zip(term.state_keys, term.states):\n",
    "        (Γ1, Γ2, Γ3, γ3, S, mSz) = state_key\n",
    "        α = sp.Symbol(sp.latex(Γ1).lower())*sp.Symbol(sp.latex(Γ2).lower())\n",
    "        if α not in configs.keys():\n",
    "            configs[α] = {}\n",
    "            config_supplement[α] = {}\n",
    "        if (S,Γ3) not in configs[α].keys():\n",
    "            configs[α][(S,Γ3)] = []\n",
    "            config_supplement[α][(S,Γ3)] = []\n",
    "        configs[α][(S,Γ3)].append(state)\n",
    "        config_supplement[α][(S,Γ3)].append(state_key)\n",
    "\n",
    "def overlinesqueegee(s):\n",
    "    '''\n",
    "    Going back from the overline shorthand for spin down,\n",
    "    acting on a single set of quantum numbers.\n",
    "    '''\n",
    "    if 'overline' in str(s):\n",
    "        spin = -sp.S(1)/2\n",
    "        comp = sp.Symbol(str(s).replace('\\\\overline{','')[:-1])\n",
    "    else:\n",
    "        spin = sp.S(1)/2\n",
    "        comp = s\n",
    "    return (comp, spin)\n",
    "def spin_restoration(qet):\n",
    "    '''\n",
    "    Going back from the overline shorthand for spin down,\n",
    "    acting on a qet.\n",
    "    '''\n",
    "    new_dict = {}\n",
    "    for k,v in qet.dict.items():\n",
    "        k = (*overlinesqueegee(k[0]),*overlinesqueegee(k[1]))\n",
    "        new_dict[k] = v\n",
    "    return Qet(new_dict)\n",
    "\n",
    "# within each configuration\n",
    "config_matrices = {}\n",
    "for config in configs.keys():\n",
    "    # display(config)\n",
    "    # within each term\n",
    "    term_matrices = {}\n",
    "    for term_key, states in configs[config].items():\n",
    "        # find the brackets between all possible pairs of states\n",
    "        ham_matrix = []\n",
    "        for state0 in states:\n",
    "            ham_row = []\n",
    "            state0 = spin_restoration(state0)\n",
    "            for state1 in states:\n",
    "                # recover the spin for the determinantal states\n",
    "                pstate = state1\n",
    "                state1 = spin_restoration(state1)\n",
    "                # determine the det braket between these two states (an operator in between is assumed and omitted)\n",
    "                detbraket = state0.dual()*state1 # changehere\n",
    "                # simplify this braket of detstates into brakets between regular states\n",
    "                regbraket = Qet({})\n",
    "                for k,v in detbraket.dict.items():\n",
    "                    γ1, m1, γ2, m2, γ1p, m1p, γ2p, m2p = k\n",
    "                    # k0 = (γ1, m1, γ2, m2, γ1p, m1p, γ2p, m2p)\n",
    "                    # k1 = (γ1, m1, γ2, m2, γ2p, m2p, γ1p, m1p)\n",
    "                    k0 = (γ1, γ2, γ1p, γ2p)\n",
    "                    k1 = (γ1, γ2, γ2p, γ1p)\n",
    "                    # enforce orthogonality wrt. spin\n",
    "                    if (m1 == m1p) and (m2 == m2p):\n",
    "                        qplus = Qet({k0:v}) \n",
    "                    else:\n",
    "                        qplus = Qet({})\n",
    "                    if (m1 == m2p) and (m2 == m1p):\n",
    "                        qminus = Qet({k1:-v}) \n",
    "                    else:\n",
    "                        qminus = Qet({})\n",
    "                    regbraket += (qplus+qminus)\n",
    "                ham_row.append(regbraket)\n",
    "            ham_matrix.append(ham_row)\n",
    "        term_matrices[term_key] = ham_matrix\n",
    "    config_matrices[config] = term_matrices\n",
    "\n",
    "def composite_symbol(x):\n",
    "    return sp.Symbol('(%s)'%(','.join(list(map(sp.latex,x)))))\n",
    "def fourtuplerecovery(ft):\n",
    "    '''the inverse of composite_symbol'''\n",
    "    return tuple(map(sp.Symbol,sp.latex(ft)[1:-1].split(',')))\n",
    "\n",
    "if verbose:\n",
    "    msg = \"Creating all 4-symbol identities ...\"\n",
    "    pbar.set_description(msg)\n",
    "    pbar.refresh()\n",
    "    pbar.n += 1\n",
    "\n",
    "# this   integral_identities  dictionary  will  have  as  keys\n",
    "# 4-tuples  of  irreps  and  its  values  will  be lists whose\n",
    "# elements  are  2-tuples whose first elements are 4-tuples of\n",
    "# irrep  components  and  whose values are qets whose keys are\n",
    "# 4-tuples  of  irrep components and whose values are numeric.\n",
    "# These 4-tuples represent a braket with the Coulomb repulsion\n",
    "# operator in between.\n",
    "\n",
    "integral_identities = {}\n",
    "ir_mats = group.irrep_matrices\n",
    "for ir1, ir2, ir3, ir4 in product(*([group.irrep_labels]*4)):\n",
    "# for ir1, ir2, ir3, ir4 in [(sp.Symbol('T_2'),sp.Symbol('T_2'),sp.Symbol('T_2'),sp.Symbol('T_2'))]:\n",
    "    # To simplify calculations this part\n",
    "    # may only be done over quadruples in a standard\n",
    "    # order.\n",
    "    # Whatever is missed here is then brough back in\n",
    "    # by the reality relations.\n",
    "    altorder1 = (ir3, ir2, ir1, ir4)\n",
    "    altorder2 = (ir1, ir4, ir3, ir2)\n",
    "    altorder3 = (ir3, ir4, ir1, ir2)\n",
    "    if (altorder1 in integral_identities) or\\\n",
    "       (altorder2 in integral_identities) or\\\n",
    "       (altorder3 in integral_identities):\n",
    "        continue\n",
    "    integral_identity_sector = []\n",
    "    components = [component_labels[ir] for ir in [ir1, ir2, ir3, ir4]]\n",
    "    comp_to_idx = [{c: idx for idx, c in enumerate(component_labels[ir])} for ir in [ir1, ir2, ir3, ir4]]\n",
    "    for R in group.generators:\n",
    "        R_id = {}\n",
    "        for γ1, γ2, γ3, γ4 in product(*components):\n",
    "            for γ1p, γ2p, γ3p, γ4p in product(*components):\n",
    "                    val = sp.conjugate(ir_mats[ir1][R][comp_to_idx[0][γ1],comp_to_idx[0][γ1p]]) *\\\n",
    "                          sp.conjugate(ir_mats[ir2][R][comp_to_idx[1][γ2],comp_to_idx[1][γ2p]]) *\\\n",
    "                          ir_mats[ir3][R][comp_to_idx[2][γ3],comp_to_idx[2][γ3p]] *\\\n",
    "                          ir_mats[ir4][R][comp_to_idx[3][γ4],comp_to_idx[3][γ4p]]\n",
    "                    if val== 0:\n",
    "                        continue\n",
    "                    key = (γ1, γ2, γ3, γ4)\n",
    "                    if key == (sp.Symbol(r'{\\phi}'),sp.Symbol(r'{\\chi}'),sp.Symbol(r'{\\chi}'),sp.Symbol(r'{\\phi}')):\n",
    "                        display(sp.Matrix([γ1p, γ2p, γ3p, γ4p]).T)\n",
    "                        display(sp.Matrix([γ1, γ2, γ3, γ4]).T)\n",
    "#                         print(sp.conjugate(ir_mats[ir1][R][comp_to_idx[0][γ1],comp_to_idx[0][γ1p]]),\n",
    "#                           sp.conjugate(ir_mats[ir2][R][comp_to_idx[1][γ2],comp_to_idx[1][γ2p]]),\n",
    "#                           ir_mats[ir3][R][comp_to_idx[2][γ3],comp_to_idx[2][γ3p]],\n",
    "#                           ir_mats[ir4][R][comp_to_idx[3][γ4],comp_to_idx[3][γ4p]])\n",
    "# #                         1/0\n",
    "                    if key not in R_id.keys():\n",
    "                        R_id[key] = []\n",
    "                    R_id[key].append( Qet({(γ1p,γ2p,γ3p,γ4p): val}) )\n",
    "#         R_id_total = []\n",
    "#         for key in R_id.keys():\n",
    "#             vee = (key, sum(R_id[key], Qet({}))) \n",
    "#             if key == (sp.Symbol(r'{\\phi}'),sp.Symbol(r'{\\chi}'),sp.Symbol(r'{\\chi}'),sp.Symbol(r'{\\phi}')):\n",
    "#                         1/0\n",
    "        R_id_total = [(key, sum(R_id[key], Qet({}))) for key in R_id.keys()]\n",
    "        R_id_total = [q for q in R_id_total if len(q[1].dict)>0]\n",
    "        integral_identity_sector.extend(R_id_total)\n",
    "    integral_identities[(ir1,ir2,ir3,ir4)] = integral_identity_sector"
   ]
  },
  {
   "cell_type": "code",
   "execution_count": 345,
   "id": "5b323a72-e845-448c-88bf-1288ceea5912",
   "metadata": {},
   "outputs": [
    {
     "data": {
      "text/html": [
       "<pre>✔️ 2.99 ms (2021-11-22T10:25:19/2021-11-22T10:25:19)</pre>"
      ],
      "text/plain": [
       "<IPython.core.display.HTML object>"
      ]
     },
     "metadata": {},
     "output_type": "display_data"
    }
   ],
   "source": [
    "# print(sp.conjugate(ir_mats[ir1][R][comp_to_idx[0][γ1p],comp_to_idx[0][γ1]]),\n",
    "#       sp.conjugate(ir_mats[ir2][R][comp_to_idx[1][γ2p],comp_to_idx[1][γ2]]),\n",
    "#                    ir_mats[ir3][R][comp_to_idx[2][γ3],comp_to_idx[2][γ3p]],\n",
    "#                           ir_mats[ir4][R][comp_to_idx[3][γ4],comp_to_idx[3][γ4p]])"
   ]
  },
  {
   "cell_type": "code",
   "execution_count": 346,
   "id": "e6ad82cf-56a9-49aa-82cb-3ff6a5e38b55",
   "metadata": {},
   "outputs": [
    {
     "data": {
      "text/html": [
       "<pre>✔️ 3.51 ms (2021-11-22T10:25:24/2021-11-22T10:25:24)</pre>"
      ],
      "text/plain": [
       "<IPython.core.display.HTML object>"
      ]
     },
     "metadata": {},
     "output_type": "display_data"
    }
   ],
   "source": [
    "# val = (sp.conjugate(ir_mats[ir1][R][comp_to_idx[0][γ1p],comp_to_idx[0][γ1]]),\n",
    "#       sp.conjugate(ir_mats[ir2][R][comp_to_idx[1][γ2p],comp_to_idx[1][γ2]]),\n",
    "#       ir_mats[ir3][R][comp_to_idx[2][γ3],comp_to_idx[2][γ3p]],\n",
    "#       ir_mats[ir4][R][comp_to_idx[3][γ4],comp_to_idx[3][γ4p]])\n",
    "# val"
   ]
  },
  {
   "cell_type": "code",
   "execution_count": null,
   "id": "21e458ea-c741-4159-9603-9237312cd882",
   "metadata": {},
   "outputs": [],
   "source": [
    "for q in great_identities[(sp.Symbol('T_2'),sp.Symbol('T_2'),sp.Symbol('T_2'),sp.Symbol('T_2'))]:\n",
    "    display(q.as_braket())"
   ]
  },
  {
   "cell_type": "code",
   "execution_count": 347,
   "id": "d40c137f-0173-4b85-9e90-d1282bc0bbc3",
   "metadata": {
    "tags": []
   },
   "outputs": [
    {
     "data": {
      "text/html": [
       "<pre>✔️ 57.1 ms (2021-11-22T10:25:31/2021-11-22T10:25:31)</pre>"
      ],
      "text/plain": [
       "<IPython.core.display.HTML object>"
      ]
     },
     "metadata": {},
     "output_type": "display_data"
    },
    {
     "data": {
      "text/latex": [
       "$\\displaystyle \\left\\langle {\\phi}{\\chi} \\right. {\\left|{\\xi}{\\xi}\\right\\rangle } = \\left\\langle {\\phi}{\\xi} \\right. {\\left|{\\chi}{\\chi}\\right\\rangle }$"
      ],
      "text/plain": [
       "<IPython.core.display.Math object>"
      ]
     },
     "metadata": {},
     "output_type": "display_data"
    },
    {
     "data": {
      "text/latex": [
       "$\\displaystyle \\left\\langle {\\phi}{\\chi} \\right. {\\left|{\\xi}{\\phi}\\right\\rangle } = - \\left\\langle {\\phi}{\\xi} \\right. {\\left|{\\chi}{\\phi}\\right\\rangle }$"
      ],
      "text/plain": [
       "<IPython.core.display.Math object>"
      ]
     },
     "metadata": {},
     "output_type": "display_data"
    },
    {
     "data": {
      "text/latex": [
       "$\\displaystyle \\left\\langle {\\phi}{\\chi} \\right. {\\left|{\\xi}{\\chi}\\right\\rangle } = - \\left\\langle {\\phi}{\\xi} \\right. {\\left|{\\chi}{\\xi}\\right\\rangle }$"
      ],
      "text/plain": [
       "<IPython.core.display.Math object>"
      ]
     },
     "metadata": {},
     "output_type": "display_data"
    },
    {
     "data": {
      "text/latex": [
       "$\\displaystyle \\left\\langle {\\phi}{\\chi} \\right. {\\left|{\\phi}{\\xi}\\right\\rangle } = - \\left\\langle {\\phi}{\\xi} \\right. {\\left|{\\phi}{\\chi}\\right\\rangle }$"
      ],
      "text/plain": [
       "<IPython.core.display.Math object>"
      ]
     },
     "metadata": {},
     "output_type": "display_data"
    },
    {
     "data": {
      "text/latex": [
       "$\\displaystyle \\left\\langle {\\phi}{\\chi} \\right. {\\left|{\\phi}{\\phi}\\right\\rangle } = \\left\\langle {\\phi}{\\xi} \\right. {\\left|{\\phi}{\\phi}\\right\\rangle }$"
      ],
      "text/plain": [
       "<IPython.core.display.Math object>"
      ]
     },
     "metadata": {},
     "output_type": "display_data"
    },
    {
     "data": {
      "text/latex": [
       "$\\displaystyle \\left\\langle {\\phi}{\\chi} \\right. {\\left|{\\phi}{\\chi}\\right\\rangle } = \\left\\langle {\\phi}{\\xi} \\right. {\\left|{\\phi}{\\xi}\\right\\rangle }$"
      ],
      "text/plain": [
       "<IPython.core.display.Math object>"
      ]
     },
     "metadata": {},
     "output_type": "display_data"
    },
    {
     "data": {
      "text/latex": [
       "$\\displaystyle \\left\\langle {\\phi}{\\chi} \\right. {\\left|{\\chi}{\\xi}\\right\\rangle } = - \\left\\langle {\\phi}{\\xi} \\right. {\\left|{\\xi}{\\chi}\\right\\rangle }$"
      ],
      "text/plain": [
       "<IPython.core.display.Math object>"
      ]
     },
     "metadata": {},
     "output_type": "display_data"
    },
    {
     "data": {
      "text/latex": [
       "$\\displaystyle \\left\\langle {\\phi}{\\chi} \\right. {\\left|{\\chi}{\\phi}\\right\\rangle } = \\left\\langle {\\phi}{\\xi} \\right. {\\left|{\\xi}{\\phi}\\right\\rangle }$"
      ],
      "text/plain": [
       "<IPython.core.display.Math object>"
      ]
     },
     "metadata": {},
     "output_type": "display_data"
    },
    {
     "data": {
      "text/latex": [
       "$\\displaystyle \\left\\langle {\\phi}{\\chi} \\right. {\\left|{\\chi}{\\chi}\\right\\rangle } = \\left\\langle {\\phi}{\\xi} \\right. {\\left|{\\xi}{\\xi}\\right\\rangle }$"
      ],
      "text/plain": [
       "<IPython.core.display.Math object>"
      ]
     },
     "metadata": {},
     "output_type": "display_data"
    },
    {
     "data": {
      "text/latex": [
       "$\\displaystyle \\left\\langle {\\phi}{\\chi} \\right. {\\left|{\\xi}{\\xi}\\right\\rangle } = \\left\\langle {\\chi}{\\phi} \\right. {\\left|{\\xi}{\\xi}\\right\\rangle }$"
      ],
      "text/plain": [
       "<IPython.core.display.Math object>"
      ]
     },
     "metadata": {},
     "output_type": "display_data"
    },
    {
     "data": {
      "text/latex": [
       "$\\displaystyle \\left\\langle {\\phi}{\\chi} \\right. {\\left|{\\xi}{\\phi}\\right\\rangle } = \\left\\langle {\\chi}{\\phi} \\right. {\\left|{\\xi}{\\chi}\\right\\rangle }$"
      ],
      "text/plain": [
       "<IPython.core.display.Math object>"
      ]
     },
     "metadata": {},
     "output_type": "display_data"
    },
    {
     "data": {
      "text/latex": [
       "$\\displaystyle \\left\\langle {\\phi}{\\chi} \\right. {\\left|{\\xi}{\\chi}\\right\\rangle } = \\left\\langle {\\chi}{\\phi} \\right. {\\left|{\\xi}{\\phi}\\right\\rangle }$"
      ],
      "text/plain": [
       "<IPython.core.display.Math object>"
      ]
     },
     "metadata": {},
     "output_type": "display_data"
    },
    {
     "data": {
      "text/latex": [
       "$\\displaystyle \\left\\langle {\\phi}{\\chi} \\right. {\\left|{\\phi}{\\xi}\\right\\rangle } = \\left\\langle {\\chi}{\\phi} \\right. {\\left|{\\chi}{\\xi}\\right\\rangle }$"
      ],
      "text/plain": [
       "<IPython.core.display.Math object>"
      ]
     },
     "metadata": {},
     "output_type": "display_data"
    },
    {
     "data": {
      "text/latex": [
       "$\\displaystyle \\left\\langle {\\phi}{\\chi} \\right. {\\left|{\\phi}{\\phi}\\right\\rangle } = \\left\\langle {\\chi}{\\phi} \\right. {\\left|{\\chi}{\\chi}\\right\\rangle }$"
      ],
      "text/plain": [
       "<IPython.core.display.Math object>"
      ]
     },
     "metadata": {},
     "output_type": "display_data"
    },
    {
     "data": {
      "text/latex": [
       "$\\displaystyle \\left\\langle {\\phi}{\\chi} \\right. {\\left|{\\phi}{\\chi}\\right\\rangle } = \\left\\langle {\\chi}{\\phi} \\right. {\\left|{\\chi}{\\phi}\\right\\rangle }$"
      ],
      "text/plain": [
       "<IPython.core.display.Math object>"
      ]
     },
     "metadata": {},
     "output_type": "display_data"
    },
    {
     "data": {
      "text/latex": [
       "$\\displaystyle \\left\\langle {\\phi}{\\chi} \\right. {\\left|{\\chi}{\\xi}\\right\\rangle } = \\left\\langle {\\chi}{\\phi} \\right. {\\left|{\\phi}{\\xi}\\right\\rangle }$"
      ],
      "text/plain": [
       "<IPython.core.display.Math object>"
      ]
     },
     "metadata": {},
     "output_type": "display_data"
    },
    {
     "data": {
      "text/latex": [
       "$\\displaystyle \\left\\langle {\\phi}{\\chi} \\right. {\\left|{\\chi}{\\phi}\\right\\rangle } = \\left\\langle {\\chi}{\\phi} \\right. {\\left|{\\phi}{\\chi}\\right\\rangle }$"
      ],
      "text/plain": [
       "<IPython.core.display.Math object>"
      ]
     },
     "metadata": {},
     "output_type": "display_data"
    },
    {
     "data": {
      "text/latex": [
       "$\\displaystyle \\left\\langle {\\phi}{\\chi} \\right. {\\left|{\\chi}{\\chi}\\right\\rangle } = \\left\\langle {\\chi}{\\phi} \\right. {\\left|{\\phi}{\\phi}\\right\\rangle }$"
      ],
      "text/plain": [
       "<IPython.core.display.Math object>"
      ]
     },
     "metadata": {},
     "output_type": "display_data"
    }
   ],
   "source": [
    "for q in integral_identities[(sp.Symbol('T_2'),sp.Symbol('T_2'),sp.Symbol('T_2'),sp.Symbol('T_2'))]:\n",
    "    lhs = sp.latex(Qet({q[0]:1}).as_braket())\n",
    "    rhs = sp.latex(q[1].as_braket())\n",
    "    if ' {\\\\phi}{\\\\chi}' in lhs and 'chi' in lhs:\n",
    "        display(Math('%s = %s' % (lhs, rhs)))"
   ]
  },
  {
   "cell_type": "code",
   "execution_count": 348,
   "id": "a2002df8-6563-4005-a2a7-8aa2fa14b783",
   "metadata": {},
   "outputs": [
    {
     "data": {
      "text/html": [
       "<pre>✔️ 21.8 s (2021-11-22T10:26:09/2021-11-22T10:26:31)</pre>"
      ],
      "text/plain": [
       "<IPython.core.display.HTML object>"
      ]
     },
     "metadata": {},
     "output_type": "display_data"
    }
   ],
   "source": [
    "# For solving the linear system it is convenient\n",
    "# to have everything on one side of the equation.\n",
    "\n",
    "if verbose:\n",
    "    msg = \"Creating set of identities ...\"\n",
    "    pbar.set_description(msg)\n",
    "    pbar.refresh()\n",
    "    pbar.n += 1\n",
    "\n",
    "identities = {}\n",
    "for ircombo in integral_identities:\n",
    "    these_ids = []\n",
    "    for v in integral_identities[ircombo]:\n",
    "        lhs, rhs = v\n",
    "        diff = Qet({lhs:1}) - rhs\n",
    "        if len(diff.dict) > 0:\n",
    "            these_ids.append(diff)\n",
    "    identities[ircombo] = these_ids\n",
    "\n",
    "# If an equation has only one key, then\n",
    "# that immediately means that that braket is zero.\n",
    "\n",
    "if verbose:\n",
    "    msg = \"Finding trivial zeros ...\"\n",
    "    pbar.set_description(msg)\n",
    "    pbar.refresh()\n",
    "    pbar.n += 1\n",
    "\n",
    "# first determine which ones have to be zero\n",
    "\n",
    "better_identities = {irc:[] for irc in identities}\n",
    "all_zeros = {}\n",
    "for ircombo in identities:\n",
    "    zeros = []\n",
    "    for identity in identities[ircombo]:\n",
    "        if len(identity.dict) == 1:\n",
    "            zeros.append((list(identity.dict.keys())[0]))\n",
    "        else:\n",
    "            better_identities[ircombo].append(identity)\n",
    "    all_zeros[ircombo] = zeros\n",
    "\n",
    "# use them to simplify things.\n",
    "if verbose:\n",
    "    msg = \"Using them to simplify things ...\"\n",
    "    pbar.set_description(msg)\n",
    "    pbar.refresh()\n",
    "    pbar.n += 1\n",
    "\n",
    "great_identities = {irc:[] for irc in identities}\n",
    "for ircombo in better_identities:\n",
    "    for identity in better_identities[ircombo]:\n",
    "        new_qet = Qet({})\n",
    "        for k,v in identity.dict.items():\n",
    "            if k in all_zeros[ircombo]:\n",
    "                continue\n",
    "            else:\n",
    "                new_qet += Qet({k: v})\n",
    "        if len(new_qet.dict) == 0:\n",
    "            continue\n",
    "        great_identities[ircombo].append(new_qet)\n",
    "\n",
    "# Inside of a four-symbol braket one may do three exchanges\n",
    "# that must result in the same value. That if the wave\n",
    "# functions are assumed to be real-valued.\n",
    "\n",
    "if verbose:\n",
    "    msg = \"Creating reality identities ...\"\n",
    "    pbar.set_description(msg)\n",
    "    pbar.refresh()\n",
    "    pbar.n += 1\n",
    "\n",
    "real_var_simplifiers = {irc:[] for irc in great_identities}\n",
    "\n",
    "# this has to run over all the quadruples of irs\n",
    "kprimes = set()\n",
    "for ir1, ir2, ir3, ir4 in product(*([group.irrep_labels]*4)):\n",
    "    real_var_simplifier = {}\n",
    "    ircombo = (ir1, ir2, ir3, ir4)\n",
    "    components = [component_labels[ir] for ir in ircombo]\n",
    "    for γ1, γ2, γ3, γ4 in product(*components):\n",
    "        k = (γ1, γ2, γ3, γ4)\n",
    "        kalt1 = (γ3, γ2, γ1, γ4)\n",
    "        kalt2 = (γ1, γ4, γ3, γ2)\n",
    "        kalt3 = (γ3, γ4, γ1, γ2)\n",
    "        if kalt1 in kprimes:\n",
    "            real_var_simplifier[k] = kalt1\n",
    "        elif kalt2 in kprimes:\n",
    "            real_var_simplifier[k] = kalt2\n",
    "        elif kalt3 in kprimes:\n",
    "            real_var_simplifier[k] = kalt3\n",
    "        else:\n",
    "            real_var_simplifier[k] = k\n",
    "            kprimes.add(k)\n",
    "    real_var_simplifiers[ircombo] = real_var_simplifier\n",
    "\n",
    "real_var_full_simplifier = {}\n",
    "for ircombo in real_var_simplifiers:\n",
    "    real_var_full_simplifier.update(real_var_simplifiers[ircombo])\n",
    "\n",
    "# For each 4-tuple of irreps\n",
    "# create a system of symbolic solutions\n",
    "# and let sympy solve that.\n",
    "# For each 4-tuple of irreps\n",
    "# the end result is a dictionary\n",
    "# whose keys represent the dependent\n",
    "# brakets and whose values are the\n",
    "# relation that those dependent values\n",
    "# have with the independent brakets.\n",
    "# As such, when these dictionaries are\n",
    "# used on an expression, everything should\n",
    "# then be given in terms of indepedent brakets.\n",
    "\n",
    "if verbose:\n",
    "    msg = \"Solving for independent 4-symbol brakets ...\"\n",
    "    pbar.set_description(msg)\n",
    "    pbar.refresh()\n",
    "    pbar.n += 1\n",
    "\n",
    "all_sols = {irc:[] for irc in great_identities}\n",
    "for ircombo in great_identities:\n",
    "    zeros = all_zeros[ircombo]\n",
    "    problem_vars = list(set(sum([list(identity.dict.keys()) for identity in great_identities[ircombo]],[])))\n",
    "    big_ma = [awe.vec_in_basis(problem_vars) for awe in great_identities[ircombo]] \n",
    "    big_mat = sp.Matrix(big_ma)\n",
    "    big_mat = sp.re(big_mat)+sp.I*sp.im(big_mat)\n",
    "    rref_mat, pivots = big_mat.rref()\n",
    "    num_rows = rref_mat.rows\n",
    "    num_cols = rref_mat.cols\n",
    "    rref_ma_non_zero = [rref_mat[row,:] for row in range(num_rows) if (sum(np.array(rref_mat[row,:])[0] == 0) != num_cols)]\n",
    "    rref_mat_non_zero = sp.Matrix(rref_ma_non_zero)\n",
    "    varvec = sp.Matrix(list(map(composite_symbol,problem_vars)))\n",
    "    eqns = rref_mat_non_zero*varvec\n",
    "    ssol = sp.solve(list(eqns), dict=True)\n",
    "    all_sols[ircombo] = ssol\n",
    "    assert len(ssol) in [0,1]\n",
    "    if len(ssol) == 0:\n",
    "        sol_dict = {}\n",
    "    else:\n",
    "        sol_dict = ssol[0]\n",
    "    zero_addendum = {k:{} for k in all_zeros[ircombo]}\n",
    "    sol_dict = {fourtuplerecovery(k):{fourtuplerecovery(s):v.coeff(s) for s in v.free_symbols} for k,v in sol_dict.items()}\n",
    "    sol_dict.update(zero_addendum)\n",
    "    all_sols[ircombo] = sol_dict\n",
    "\n",
    "# This final dictionary is unnecessary but\n",
    "# simplifies calling the replacements onto\n",
    "# a symbolic expression.\n",
    "\n",
    "if verbose:\n",
    "    msg = \"Creating a dictionary with all the 4-symbol replacements ...\"\n",
    "    pbar.set_description(msg)\n",
    "    pbar.refresh()\n",
    "    pbar.n += 1\n",
    "\n",
    "super_solution = {}\n",
    "for ircombo in all_sols:\n",
    "    super_solution.update(all_sols[ircombo])\n",
    "\n",
    "def simplifier(qet): #yyy\n",
    "    simp_ket = Qet({})\n",
    "    for k,v in qet.dict.items():\n",
    "        simp_ket += Qet({real_var_full_simplifier[k]:v})\n",
    "    true_qet = Qet({})\n",
    "    for k,v in simp_ket.dict.items():\n",
    "        if k in super_solution:\n",
    "            true_qet += v*Qet(super_solution[k])\n",
    "        else:\n",
    "            true_qet += Qet({k:v})\n",
    "    return true_qet\n",
    "\n",
    "def simplify_config_matrix(ir1ir2, S, ir3):\n",
    "    config_matrix = config_matrices[ir1ir2][(S,ir3)]\n",
    "    num_rows = len(config_matrix)\n",
    "    simple_matrix = [[simplifier(config_matrix[row][col]) for col in range(num_rows)] for row in range(num_rows)]\n",
    "    return simple_matrix\n",
    "\n",
    "if verbose:\n",
    "    msg = \"Simplifying configuration matrices ...\"\n",
    "    pbar.set_description(msg)\n",
    "    pbar.refresh()\n",
    "    pbar.n += 1\n",
    "\n",
    "simple_config_matrices = {k:{} for k in config_matrices}\n",
    "for ir1ir2 in config_matrices.keys():\n",
    "    for term_key in config_matrices[ir1ir2]:\n",
    "        S, Γ3 = term_key\n",
    "        simple_config_matrices[ir1ir2][term_key] = simplify_config_matrix(ir1ir2, S, Γ3)"
   ]
  },
  {
   "cell_type": "code",
   "execution_count": 350,
   "id": "54dc73bc-4a5a-486c-85ac-7fb01235a430",
   "metadata": {},
   "outputs": [
    {
     "data": {
      "text/html": [
       "<pre>✔️ 146 ms (2021-11-22T10:26:48/2021-11-22T10:26:49)</pre>"
      ],
      "text/plain": [
       "<IPython.core.display.HTML object>"
      ]
     },
     "metadata": {},
     "output_type": "display_data"
    }
   ],
   "source": [
    "twotuplerecovery = fourtuplerecovery\n",
    "if verbose:\n",
    "    msg = \"Creating all 2-symbol identities ...\"\n",
    "    pbar.set_description(msg)\n",
    "    pbar.refresh()\n",
    "    pbar.n += 1\n",
    "\n",
    "# this   integral_identities  dictionary  will  have  as  keys\n",
    "# 2-tuples  of  irreps  and  its  values  will  be lists whose\n",
    "# elements  are  2-tuples whose first elements are 2-tuples of\n",
    "# irrep  components  and  whose values are qets whose keys are\n",
    "# 2-tuples  of  irrep components and whose values are numeric.\n",
    "# These 2-tuples represent a braket with the an invariant operator\n",
    "# operator in between.\n",
    "\n",
    "integral_identities_2 = {}\n",
    "ir_mats = group.irrep_matrices\n",
    "for ir1, ir2 in product(*([group.irrep_labels]*2)):\n",
    "    # To simplify calculations this part\n",
    "    # can only be done over quadruples in a standard\n",
    "    # order.\n",
    "    # Whatever is missed here is then brough back in\n",
    "    # by the reality relations.\n",
    "    altorder1 = (ir2, ir1, ir1, ir4)\n",
    "    if (altorder1 in integral_identities_2):\n",
    "        continue\n",
    "    integral_identity_sector = []\n",
    "    components = [component_labels[ir] for ir in [ir1, ir2]]\n",
    "    comp_to_idx = [{c: idx for idx, c in enumerate(component_labels[ir])} for ir in [ir1, ir2]]\n",
    "    for R in group.generators:\n",
    "        R_id = {}\n",
    "        for γ1, γ2 in product(*components):\n",
    "            for γ1p, γ2p in product(*components):\n",
    "                    val = sp.conjugate(ir_mats[ir1][R][comp_to_idx[0][γ1p],comp_to_idx[0][γ1]]) *\\\n",
    "                          ir_mats[ir2][R][comp_to_idx[1][γ2],comp_to_idx[1][γ2p]]\n",
    "                    if val== 0:\n",
    "                        continue\n",
    "                    key = (γ1, γ2)\n",
    "                    if key not in R_id.keys():\n",
    "                        R_id[key] = []\n",
    "                    R_id[key].append( Qet({(γ1p,γ2p): val}) )\n",
    "        R_id_total = [(key, sum(R_id[key], Qet({}))) for key in R_id.keys()]\n",
    "        R_id_total = [q for q in R_id_total if len(q[1].dict)>0]\n",
    "        integral_identity_sector.extend(R_id_total)\n",
    "    integral_identities_2[(ir1,ir2)] = integral_identity_sector\n",
    "\n",
    "# For solving the linear system it is convenient\n",
    "# to have everything on one side of the equation.\n",
    "\n",
    "if verbose:\n",
    "    msg = \"Creating set of 2 symbol identities ...\"\n",
    "    pbar.set_description(msg)\n",
    "    pbar.refresh()\n",
    "    pbar.n += 1\n",
    "identities_2 = {}\n",
    "\n",
    "for ircombo in integral_identities_2:\n",
    "    these_ids = []\n",
    "    for v in integral_identities_2[ircombo]:\n",
    "        lhs, rhs = v\n",
    "        diff = Qet({lhs:1}) - rhs\n",
    "        if len(diff.dict) > 0:\n",
    "            these_ids.append(diff)\n",
    "    identities_2[ircombo] = these_ids\n",
    "\n",
    "# If an equation has only one term, then\n",
    "# that immediately means that that term is zero.\n",
    "\n",
    "if verbose:\n",
    "    msg = \"Finding trivial zeros ...\"\n",
    "    pbar.set_description(msg)\n",
    "    pbar.refresh()\n",
    "    pbar.n += 1\n",
    "\n",
    "# first determine which ones have to be zero\n",
    "better_identities_2 = {irc:[] for irc in identities_2}\n",
    "all_zeros_2 = {}\n",
    "for ircombo in identities_2:\n",
    "    zeros = []\n",
    "    for identity in identities_2[ircombo]:\n",
    "        if len(identity.dict) == 1:\n",
    "            zeros.append((list(identity.dict.keys())[0]))\n",
    "        else:\n",
    "            better_identities_2[ircombo].append(identity)\n",
    "    all_zeros_2[ircombo] = zeros\n",
    "\n",
    "# use them to simplify things.\n",
    "\n",
    "if verbose:\n",
    "    msg = \"Using them to simplify things ...\"\n",
    "    pbar.set_description(msg)\n",
    "    pbar.refresh()\n",
    "    pbar.n += 1\n",
    "\n",
    "great_identities_2 = {irc:[] for irc in identities_2}\n",
    "for ircombo in better_identities_2:\n",
    "    for identity in better_identities_2[ircombo]:\n",
    "        new_qet = Qet({})\n",
    "        for k,v in identity.dict.items():\n",
    "            if k in all_zeros_2[ircombo]:\n",
    "                continue\n",
    "            else:\n",
    "                new_qet+= Qet({k: v})\n",
    "        if len(new_qet.dict) == 0:\n",
    "            continue\n",
    "        great_identities_2[ircombo].append(new_qet)\n",
    "\n",
    "# Inside of a two-symbol braket one may do three exchanges\n",
    "# that must result in the same value. That if the wave\n",
    "# functions are assumed to be real-valued.\n",
    "\n",
    "if verbose:\n",
    "    msg = \"Creating reality identities ...\"\n",
    "    pbar.set_description(msg)\n",
    "    pbar.refresh()\n",
    "    pbar.n += 1\n",
    "real_var_simplifiers_2 = {irc:[] for irc in great_identities_2}\n",
    "# this has to run over all the quadruples of irs\n",
    "kprimes = set()\n",
    "for ir1, ir2 in product(*([group.irrep_labels]*2)):\n",
    "    real_var_simplifier = {}\n",
    "    ircombo = (ir1, ir2)\n",
    "    components = [component_labels[ir] for ir in ircombo]\n",
    "    for γ1, γ2 in product(*components):\n",
    "        k = (γ1, γ2)\n",
    "        kalt = (γ2, γ1)\n",
    "        # If for a given key I find that its\n",
    "        # switched version has already been seen\n",
    "        # Then that key has to be mapped to be\n",
    "        # mapped to the key already present.\n",
    "        if kalt in kprimes:\n",
    "            real_var_simplifier[k] = kalt\n",
    "        else:\n",
    "            real_var_simplifier[k] = k\n",
    "            kprimes.add(k)\n",
    "    real_var_simplifiers_2[ircombo] = real_var_simplifier\n",
    "\n",
    "# For each 2-tuple of irreps\n",
    "# create a system of symbolic solutions\n",
    "# and let sympy solve that.\n",
    "# For each 2-tuple of irreps\n",
    "# the end result is a dictionary\n",
    "# whose keys represent the dependent\n",
    "# brakets and whose values are the\n",
    "# relation that those dependent values\n",
    "# have with the independent brakets.\n",
    "# As such, when these dictionaries are\n",
    "# used on an expression, everything should\n",
    "# then be given in terms of indepedent brakets.\n",
    "\n",
    "if verbose:\n",
    "    msg = \"Solving for independent 2-symbol brakets ...\"\n",
    "    pbar.set_description(msg)\n",
    "    pbar.refresh()\n",
    "    pbar.n += 1\n",
    "all_sols_2 = {irc:[] for irc in great_identities_2}\n",
    "\n",
    "for ircombo in great_identities_2:\n",
    "    zeros = all_zeros_2[ircombo]\n",
    "    problem_vars = list(set(sum([list(identity.dict.keys()) for identity in great_identities_2[ircombo]],[])))\n",
    "    big_ma = [awe.vec_in_basis(problem_vars) for awe in great_identities_2[ircombo]] \n",
    "    big_mat = sp.Matrix(big_ma)\n",
    "    big_mat = sp.re(big_mat)+sp.I*sp.im(big_mat)\n",
    "    rref_mat, pivots = big_mat.rref()\n",
    "    num_rows = rref_mat.rows\n",
    "    num_cols = rref_mat.cols\n",
    "    rref_ma_non_zero = [rref_mat[row,:] for row in range(num_rows) if (sum(np.array(rref_mat[row,:])[0] == 0) != num_cols)]\n",
    "    rref_mat_non_zero = sp.Matrix(rref_ma_non_zero)\n",
    "    varvec = sp.Matrix(list(map(composite_symbol,problem_vars)))\n",
    "    eqns = rref_mat_non_zero*varvec\n",
    "    ssol = sp.solve(list(eqns), dict=True)\n",
    "    all_sols[ircombo] = ssol\n",
    "    assert len(ssol) in [0,1]\n",
    "    if len(ssol) == 0:\n",
    "        sol_dict = {}\n",
    "    else:\n",
    "        sol_dict = ssol[0]\n",
    "    zero_addendum = {k:{} for k in all_zeros_2[ircombo]}\n",
    "    sol_dict = {twotuplerecovery(k):{twotuplerecovery(s):v.coeff(s) for s in v.free_symbols} for k,v in sol_dict.items()}\n",
    "    sol_dict.update(zero_addendum)\n",
    "    all_sols_2[ircombo] = sol_dict\n",
    "\n",
    "# This final dictionary is unnecessary but\n",
    "# simplifies calling the replacements onto\n",
    "# a symbolic expression.\n",
    "if verbose:\n",
    "    msg = \"Creating a dictionary with all the 2-symbol replacements ...\"\n",
    "    pbar.set_description(msg)\n",
    "    pbar.refresh()\n",
    "    pbar.n += 1\n",
    "\n",
    "super_solution_2 = {}\n",
    "for ircombo in all_sols_2:\n",
    "    super_solution_2.update(all_sols_2[ircombo])"
   ]
  },
  {
   "cell_type": "code",
   "execution_count": 352,
   "id": "afe2d4f5-7b6a-4efc-b36a-fa532e6452c4",
   "metadata": {},
   "outputs": [
    {
     "data": {
      "text/html": [
       "<pre>✔️ 20.8 ms (2021-11-22T10:27:08/2021-11-22T10:27:08)</pre>"
      ],
      "text/plain": [
       "<IPython.core.display.HTML object>"
      ]
     },
     "metadata": {},
     "output_type": "display_data"
    }
   ],
   "source": [
    "# for a given electron config\n",
    "more_ids = {e_config:[] for e_config in simple_config_matrices}\n",
    "counter = 0\n",
    "for e_config in simple_config_matrices:\n",
    "    for term in simple_config_matrices[e_config]:\n",
    "        the_matrix = simple_config_matrices[e_config][term]\n",
    "        num_rows = len(the_matrix)\n",
    "        num_cols = len(the_matrix)\n",
    "        the_state_keys = config_supplement[e_config][term]\n",
    "        the_key_matrix = {}\n",
    "        for row_idx in range(num_rows):\n",
    "            Γ3_row = the_state_keys[row_idx][2]\n",
    "            γ3_row = the_state_keys[row_idx][3]\n",
    "            for col_idx in range(num_cols):\n",
    "                Γ3_col = the_state_keys[col_idx][2]\n",
    "                γ3_col = the_state_keys[col_idx][3]\n",
    "                matrix_val = the_matrix[row_idx][col_idx]\n",
    "                the_key_matrix[(γ3_row,γ3_col)] = matrix_val\n",
    "        # now go over the keys of super_solution_2\n",
    "        # and if one of those keys matches with a key in the_key_matrix\n",
    "        # do something about it\n",
    "        for k in super_solution_2:\n",
    "            if k in the_key_matrix:\n",
    "                v = super_solution_2[k]\n",
    "                # this matrix element\n",
    "                matrix_element = the_key_matrix[k]\n",
    "                # must be identified with the sum\n",
    "                # as given in v\n",
    "                matrix_equiv = sum([kv*the_key_matrix[km] for km, kv in v.items()],Qet({}))\n",
    "                identity = (matrix_element - matrix_equiv) #=0\n",
    "                counter += 1\n",
    "#                 if counter == 28:\n",
    "#                     print('-----')\n",
    "#                     display(matrix_element.as_braket())\n",
    "#                     display(matrix_equiv.as_braket())\n",
    "#                     display(identity.as_braket())\n",
    "#                     1/0\n",
    "                if len(identity.dict) != 0:\n",
    "                    more_ids[e_config].append(identity)\n"
   ]
  },
  {
   "cell_type": "code",
   "execution_count": 353,
   "id": "a62d1c3a-bc17-473e-959d-1925e6b3f0c9",
   "metadata": {},
   "outputs": [
    {
     "data": {
      "text/html": [
       "<pre>✔️ 3.15 ms (2021-11-22T10:27:10/2021-11-22T10:27:10)</pre>"
      ],
      "text/plain": [
       "<IPython.core.display.HTML object>"
      ]
     },
     "metadata": {},
     "output_type": "display_data"
    }
   ],
   "source": [
    "# for q in great_identities[(sp.Symbol('T_2'),sp.Symbol('T_2'),sp.Symbol('T_2'),sp.Symbol('T_2'))]:\n",
    "#     display(q.as_braket())"
   ]
  },
  {
   "cell_type": "code",
   "execution_count": 354,
   "id": "156885ef-086a-4c7e-9b36-c4318f1edb59",
   "metadata": {},
   "outputs": [
    {
     "data": {
      "text/html": [
       "<pre>✔️ 2.31 ms (2021-11-22T10:27:10/2021-11-22T10:27:10)</pre>"
      ],
      "text/plain": [
       "<IPython.core.display.HTML object>"
      ]
     },
     "metadata": {},
     "output_type": "display_data"
    },
    {
     "data": {
      "text/plain": [
       "[(A_2, T_1, T_2, {\\chi}, 0, 0),\n",
       " (A_2, T_1, T_2, {\\xi}, 0, 0),\n",
       " (A_2, T_1, T_2, {\\phi}, 0, 0)]"
      ]
     },
     "execution_count": 354,
     "metadata": {},
     "output_type": "execute_result"
    }
   ],
   "source": [
    "the_state_keys"
   ]
  },
  {
   "cell_type": "code",
   "execution_count": 355,
   "id": "683ad0b1-0418-4302-ac71-61873ba05927",
   "metadata": {},
   "outputs": [
    {
     "data": {
      "text/html": [
       "<pre>✔️ 28.8 ms (2021-11-22T10:27:15/2021-11-22T10:27:15)</pre>"
      ],
      "text/plain": [
       "<IPython.core.display.HTML object>"
      ]
     },
     "metadata": {},
     "output_type": "display_data"
    },
    {
     "data": {
      "text/latex": [
       "$\\displaystyle \\left\\langle {\\chi}{\\phi} \\right. {\\left|{\\phi}{\\chi}\\right\\rangle } = \\left\\langle {\\xi}{\\phi} \\right. {\\left|{\\phi}{\\xi}\\right\\rangle }$"
      ],
      "text/plain": [
       "<IPython.core.display.Math object>"
      ]
     },
     "metadata": {},
     "output_type": "display_data"
    },
    {
     "data": {
      "text/latex": [
       "$\\displaystyle \\left\\langle {\\phi}{\\chi} \\right. {\\left|{\\chi}{\\phi}\\right\\rangle } = \\left\\langle {\\xi}{\\phi} \\right. {\\left|{\\phi}{\\xi}\\right\\rangle }$"
      ],
      "text/plain": [
       "<IPython.core.display.Math object>"
      ]
     },
     "metadata": {},
     "output_type": "display_data"
    },
    {
     "data": {
      "text/latex": [
       "$\\displaystyle \\left\\langle {\\chi}{\\chi} \\right. {\\left|{\\phi}{\\phi}\\right\\rangle } = \\left\\langle {\\xi}{\\xi} \\right. {\\left|{\\phi}{\\phi}\\right\\rangle }$"
      ],
      "text/plain": [
       "<IPython.core.display.Math object>"
      ]
     },
     "metadata": {},
     "output_type": "display_data"
    },
    {
     "data": {
      "text/latex": [
       "$\\displaystyle \\left\\langle {\\phi}{\\phi} \\right. {\\left|{\\chi}{\\chi}\\right\\rangle } = \\left\\langle {\\xi}{\\xi} \\right. {\\left|{\\phi}{\\phi}\\right\\rangle }$"
      ],
      "text/plain": [
       "<IPython.core.display.Math object>"
      ]
     },
     "metadata": {},
     "output_type": "display_data"
    },
    {
     "data": {
      "text/latex": [
       "$\\displaystyle \\left\\langle {\\chi}{\\phi} \\right. {\\left|{\\chi}{\\phi}\\right\\rangle } = \\left\\langle {\\xi}{\\phi} \\right. {\\left|{\\xi}{\\phi}\\right\\rangle }$"
      ],
      "text/plain": [
       "<IPython.core.display.Math object>"
      ]
     },
     "metadata": {},
     "output_type": "display_data"
    },
    {
     "data": {
      "text/latex": [
       "$\\displaystyle \\left\\langle {\\phi}{\\chi} \\right. {\\left|{\\phi}{\\chi}\\right\\rangle } = \\left\\langle {\\xi}{\\phi} \\right. {\\left|{\\xi}{\\phi}\\right\\rangle }$"
      ],
      "text/plain": [
       "<IPython.core.display.Math object>"
      ]
     },
     "metadata": {},
     "output_type": "display_data"
    }
   ],
   "source": [
    "for k, v in super_solution.items(): #yyy\n",
    "    if len(v) != 0:\n",
    "        if sp.Symbol(r'{\\phi}') in k and\\\n",
    "            sp.Symbol(r'{\\chi}') in k and\\\n",
    "            sp.Symbol(r'{\\alpha}') not in k and\\\n",
    "            sp.Symbol(r'{\\eta}') not in k and\\\n",
    "            sp.Symbol(r'{\\beta}') not in k and\\\n",
    "            sp.Symbol(r'{\\gamma}') not in k and\\\n",
    "            sp.Symbol(r'{\\zeta}') not in k and\\\n",
    "            sp.Symbol(r'{\\mu}') not in k and\\\n",
    "            sp.Symbol(r'{\\nu}') not in k:\n",
    "            lhs = sp.latex(Qet({k:1}).as_braket())\n",
    "            rhs = sp.latex(Qet(v).as_braket())\n",
    "            out = '$%s = %s$' % (lhs, rhs)\n",
    "            display(Math(out))"
   ]
  },
  {
   "cell_type": "code",
   "execution_count": 356,
   "id": "b25efd7e-b2db-4635-ba02-c29a4d4d0874",
   "metadata": {
    "tags": []
   },
   "outputs": [
    {
     "data": {
      "text/html": [
       "<pre>✔️ 23.3 ms (2021-11-22T10:27:19/2021-11-22T10:27:19)</pre>"
      ],
      "text/plain": [
       "<IPython.core.display.HTML object>"
      ]
     },
     "metadata": {},
     "output_type": "display_data"
    },
    {
     "data": {
      "text/latex": [
       "$\\displaystyle \\left[\\begin{matrix}\\left\\langle {\\beta}{\\beta} \\right. {\\left|{\\nu}{\\nu}\\right\\rangle } + \\left\\langle {\\beta}{\\nu} \\right. {\\left|{\\beta}{\\nu}\\right\\rangle } & 0 & 0\\\\0 & \\left\\langle {\\beta}{\\beta} \\right. {\\left|{\\nu}{\\nu}\\right\\rangle } + \\left\\langle {\\beta}{\\nu} \\right. {\\left|{\\beta}{\\nu}\\right\\rangle } & 0\\\\0 & 0 & \\left\\langle {\\beta}{\\beta} \\right. {\\left|{\\nu}{\\nu}\\right\\rangle } + \\left\\langle {\\beta}{\\nu} \\right. {\\left|{\\beta}{\\nu}\\right\\rangle }\\end{matrix}\\right]$"
      ],
      "text/plain": [
       "Matrix([\n",
       "[<{\\beta}{\\beta}|{\\nu}{\\nu}> + <{\\beta}{\\nu}|{\\beta}{\\nu}>,                                                         0,                                                         0],\n",
       "[                                                        0, <{\\beta}{\\beta}|{\\nu}{\\nu}> + <{\\beta}{\\nu}|{\\beta}{\\nu}>,                                                         0],\n",
       "[                                                        0,                                                         0, <{\\beta}{\\beta}|{\\nu}{\\nu}> + <{\\beta}{\\nu}|{\\beta}{\\nu}>]])"
      ]
     },
     "execution_count": 356,
     "metadata": {},
     "output_type": "execute_result"
    }
   ],
   "source": [
    "sp.Matrix([[l.as_braket() for l in row] for row in the_matrix])"
   ]
  },
  {
   "cell_type": "code",
   "execution_count": 357,
   "id": "735b8698-b1c4-4d83-83e1-fc3a40e3d937",
   "metadata": {},
   "outputs": [
    {
     "data": {
      "text/html": [
       "<pre>✔️ 14.2 ms (2021-11-22T10:27:24/2021-11-22T10:27:24)</pre>"
      ],
      "text/plain": [
       "<IPython.core.display.HTML object>"
      ]
     },
     "metadata": {},
     "output_type": "display_data"
    },
    {
     "data": {
      "text/latex": [
       "$\\displaystyle \\left\\langle {\\zeta} \\right. {\\left|{\\zeta}\\right\\rangle }=\\left\\langle {\\gamma} \\right. {\\left|{\\gamma}\\right\\rangle }$"
      ],
      "text/plain": [
       "<IPython.core.display.Math object>"
      ]
     },
     "metadata": {},
     "output_type": "display_data"
    },
    {
     "data": {
      "text/latex": [
       "$\\displaystyle \\left\\langle {\\nu} \\right. {\\left|{\\nu}\\right\\rangle }=\\left\\langle {\\eta} \\right. {\\left|{\\eta}\\right\\rangle }$"
      ],
      "text/plain": [
       "<IPython.core.display.Math object>"
      ]
     },
     "metadata": {},
     "output_type": "display_data"
    },
    {
     "data": {
      "text/latex": [
       "$\\displaystyle - \\left\\langle {\\nu} \\right. {\\left|{\\nu}\\right\\rangle }=\\left\\langle {\\mu} \\right. {\\left|{\\mu}\\right\\rangle }$"
      ],
      "text/plain": [
       "<IPython.core.display.Math object>"
      ]
     },
     "metadata": {},
     "output_type": "display_data"
    },
    {
     "data": {
      "text/latex": [
       "$\\displaystyle - \\left\\langle {\\xi} \\right. {\\left|{\\xi}\\right\\rangle }=\\left\\langle {\\chi} \\right. {\\left|{\\chi}\\right\\rangle }$"
      ],
      "text/plain": [
       "<IPython.core.display.Math object>"
      ]
     },
     "metadata": {},
     "output_type": "display_data"
    },
    {
     "data": {
      "text/latex": [
       "$\\displaystyle - \\left\\langle {\\xi} \\right. {\\left|{\\xi}\\right\\rangle }=\\left\\langle {\\phi} \\right. {\\left|{\\phi}\\right\\rangle }$"
      ],
      "text/plain": [
       "<IPython.core.display.Math object>"
      ]
     },
     "metadata": {},
     "output_type": "display_data"
    }
   ],
   "source": [
    "for k,v in super_solution_2.items():\n",
    "    if (len(v) > 0):\n",
    "        lhs = sp.latex(Qet(v).as_braket())\n",
    "        rhs = sp.latex(Qet({k:1}).as_braket())\n",
    "        display(Math('%s=%s' % (lhs, rhs)))"
   ]
  },
  {
   "cell_type": "code",
   "execution_count": 358,
   "id": "13927ea7-a412-40f1-87e8-a2011af54cd5",
   "metadata": {},
   "outputs": [
    {
     "data": {
      "text/html": [
       "<pre>✔️ 6.24 ms (2021-11-22T10:27:27/2021-11-22T10:27:27)</pre>"
      ],
      "text/plain": [
       "<IPython.core.display.HTML object>"
      ]
     },
     "metadata": {},
     "output_type": "display_data"
    }
   ],
   "source": [
    "def simplifier(qet): #yyy\n",
    "    simp_ket = Qet({})\n",
    "    for k,v in qet.dict.items():\n",
    "        simp_ket += Qet({real_var_full_simplifier[k]:v})\n",
    "    display(simp_ket.as_braket())\n",
    "    true_qet = Qet({})\n",
    "    for k,v in simp_ket.dict.items():\n",
    "        if k in super_solution:\n",
    "            print('-')\n",
    "            display(Qet({k:1}).as_braket())\n",
    "            display(Qet(super_solution[k]).as_braket())\n",
    "            true_qet += v*Qet(super_solution[k])\n",
    "        else:\n",
    "            print('+')\n",
    "            true_qet += Qet({k:v})\n",
    "    return true_qet"
   ]
  },
  {
   "cell_type": "code",
   "execution_count": 359,
   "id": "f91a958b-7fea-4297-8f35-25edfd3f84ce",
   "metadata": {},
   "outputs": [
    {
     "data": {
      "text/html": [
       "<pre>✔️ 18.4 ms (2021-11-22T10:27:28/2021-11-22T10:27:28)</pre>"
      ],
      "text/plain": [
       "<IPython.core.display.HTML object>"
      ]
     },
     "metadata": {},
     "output_type": "display_data"
    },
    {
     "data": {
      "text/latex": [
       "$\\displaystyle \\left\\langle {\\phi}{\\chi} \\right. {\\left|{\\phi}{\\chi}\\right\\rangle } - \\left\\langle {\\phi}{\\phi} \\right. {\\left|{\\chi}{\\chi}\\right\\rangle }$"
      ],
      "text/plain": [
       "<{\\phi}{\\chi}|{\\phi}{\\chi}> - <{\\phi}{\\phi}|{\\chi}{\\chi}>"
      ]
     },
     "metadata": {},
     "output_type": "display_data"
    },
    {
     "name": "stdout",
     "output_type": "stream",
     "text": [
      "-\n"
     ]
    },
    {
     "data": {
      "text/latex": [
       "$\\displaystyle \\left\\langle {\\phi}{\\chi} \\right. {\\left|{\\phi}{\\chi}\\right\\rangle }$"
      ],
      "text/plain": [
       "<{\\phi}{\\chi}|{\\phi}{\\chi}>"
      ]
     },
     "metadata": {},
     "output_type": "display_data"
    },
    {
     "data": {
      "text/latex": [
       "$\\displaystyle \\left\\langle {\\xi}{\\phi} \\right. {\\left|{\\xi}{\\phi}\\right\\rangle }$"
      ],
      "text/plain": [
       "<{\\xi}{\\phi}|{\\xi}{\\phi}>"
      ]
     },
     "metadata": {},
     "output_type": "display_data"
    },
    {
     "name": "stdout",
     "output_type": "stream",
     "text": [
      "-\n"
     ]
    },
    {
     "data": {
      "text/latex": [
       "$\\displaystyle \\left\\langle {\\phi}{\\phi} \\right. {\\left|{\\chi}{\\chi}\\right\\rangle }$"
      ],
      "text/plain": [
       "<{\\phi}{\\phi}|{\\chi}{\\chi}>"
      ]
     },
     "metadata": {},
     "output_type": "display_data"
    },
    {
     "data": {
      "text/latex": [
       "$\\displaystyle \\left\\langle {\\xi}{\\xi} \\right. {\\left|{\\phi}{\\phi}\\right\\rangle }$"
      ],
      "text/plain": [
       "<{\\xi}{\\xi}|{\\phi}{\\phi}>"
      ]
     },
     "metadata": {},
     "output_type": "display_data"
    },
    {
     "data": {
      "text/latex": [
       "$\\displaystyle \\left\\langle {\\xi}{\\phi} \\right. {\\left|{\\xi}{\\phi}\\right\\rangle } - \\left\\langle {\\xi}{\\xi} \\right. {\\left|{\\phi}{\\phi}\\right\\rangle }$"
      ],
      "text/plain": [
       "<{\\xi}{\\phi}|{\\xi}{\\phi}> - <{\\xi}{\\xi}|{\\phi}{\\phi}>"
      ]
     },
     "execution_count": 359,
     "metadata": {},
     "output_type": "execute_result"
    }
   ],
   "source": [
    "simplifier(config_matrices[sp.Symbol('t_{2}')**2][(1,sp.Symbol('T_1'))][2][2]).as_braket()"
   ]
  },
  {
   "cell_type": "code",
   "execution_count": 360,
   "id": "29481bc7-b3af-40ec-8381-328b7c10e0c4",
   "metadata": {},
   "outputs": [
    {
     "data": {
      "text/html": [
       "<pre>✔️ 39.3 ms (2021-11-22T10:27:32/2021-11-22T10:27:32)</pre>"
      ],
      "text/plain": [
       "<IPython.core.display.HTML object>"
      ]
     },
     "metadata": {},
     "output_type": "display_data"
    },
    {
     "data": {
      "text/latex": [
       "$\\displaystyle - \\left\\langle {\\phi}{\\chi} \\right. {\\left|{\\chi}{\\phi}\\right\\rangle } + \\left\\langle {\\phi}{\\chi} \\right. {\\left|{\\phi}{\\chi}\\right\\rangle }$"
      ],
      "text/plain": [
       "-<{\\phi}{\\chi}|{\\chi}{\\phi}> + <{\\phi}{\\chi}|{\\phi}{\\chi}>"
      ]
     },
     "metadata": {},
     "output_type": "display_data"
    },
    {
     "data": {
      "text/latex": [
       "$\\displaystyle \\left[\\begin{matrix}- \\left\\langle {\\xi}{\\phi} \\right. {\\left|{\\phi}{\\xi}\\right\\rangle } + \\left\\langle {\\xi}{\\phi} \\right. {\\left|{\\xi}{\\phi}\\right\\rangle } & \\left\\langle {\\xi}{\\phi} \\right. {\\left|{\\chi}{\\xi}\\right\\rangle } - \\left\\langle {\\xi}{\\phi} \\right. {\\left|{\\xi}{\\chi}\\right\\rangle } & - \\left\\langle {\\xi}{\\phi} \\right. {\\left|{\\chi}{\\phi}\\right\\rangle } + \\left\\langle {\\xi}{\\phi} \\right. {\\left|{\\phi}{\\chi}\\right\\rangle } & 0 & 0 & 0 & 0 & 0 & 0\\\\\\left\\langle {\\xi}{\\chi} \\right. {\\left|{\\phi}{\\xi}\\right\\rangle } - \\left\\langle {\\xi}{\\chi} \\right. {\\left|{\\xi}{\\phi}\\right\\rangle } & - \\left\\langle {\\xi}{\\chi} \\right. {\\left|{\\chi}{\\xi}\\right\\rangle } + \\left\\langle {\\xi}{\\chi} \\right. {\\left|{\\xi}{\\chi}\\right\\rangle } & \\left\\langle {\\xi}{\\chi} \\right. {\\left|{\\chi}{\\phi}\\right\\rangle } - \\left\\langle {\\xi}{\\chi} \\right. {\\left|{\\phi}{\\chi}\\right\\rangle } & 0 & 0 & 0 & 0 & 0 & 0\\\\- \\left\\langle {\\phi}{\\chi} \\right. {\\left|{\\phi}{\\xi}\\right\\rangle } + \\left\\langle {\\phi}{\\chi} \\right. {\\left|{\\xi}{\\phi}\\right\\rangle } & \\left\\langle {\\phi}{\\chi} \\right. {\\left|{\\chi}{\\xi}\\right\\rangle } - \\left\\langle {\\phi}{\\chi} \\right. {\\left|{\\xi}{\\chi}\\right\\rangle } & - \\left\\langle {\\phi}{\\chi} \\right. {\\left|{\\chi}{\\phi}\\right\\rangle } + \\left\\langle {\\phi}{\\chi} \\right. {\\left|{\\phi}{\\chi}\\right\\rangle } & 0 & 0 & 0 & 0 & 0 & 0\\\\0 & 0 & 0 & \\frac{\\left\\langle {\\phi}{\\xi} \\right. {\\left|{\\phi}{\\xi}\\right\\rangle }}{2} - \\frac{\\left\\langle {\\phi}{\\xi} \\right. {\\left|{\\xi}{\\phi}\\right\\rangle }}{2} - \\frac{\\left\\langle {\\xi}{\\phi} \\right. {\\left|{\\phi}{\\xi}\\right\\rangle }}{2} + \\frac{\\left\\langle {\\xi}{\\phi} \\right. {\\left|{\\xi}{\\phi}\\right\\rangle }}{2} & - \\frac{\\left\\langle {\\phi}{\\xi} \\right. {\\left|{\\chi}{\\xi}\\right\\rangle }}{2} + \\frac{\\left\\langle {\\phi}{\\xi} \\right. {\\left|{\\xi}{\\chi}\\right\\rangle }}{2} + \\frac{\\left\\langle {\\xi}{\\phi} \\right. {\\left|{\\chi}{\\xi}\\right\\rangle }}{2} - \\frac{\\left\\langle {\\xi}{\\phi} \\right. {\\left|{\\xi}{\\chi}\\right\\rangle }}{2} & \\frac{\\left\\langle {\\phi}{\\xi} \\right. {\\left|{\\chi}{\\phi}\\right\\rangle }}{2} - \\frac{\\left\\langle {\\phi}{\\xi} \\right. {\\left|{\\phi}{\\chi}\\right\\rangle }}{2} - \\frac{\\left\\langle {\\xi}{\\phi} \\right. {\\left|{\\chi}{\\phi}\\right\\rangle }}{2} + \\frac{\\left\\langle {\\xi}{\\phi} \\right. {\\left|{\\phi}{\\chi}\\right\\rangle }}{2} & 0 & 0 & 0\\\\0 & 0 & 0 & - \\frac{\\left\\langle {\\chi}{\\xi} \\right. {\\left|{\\phi}{\\xi}\\right\\rangle }}{2} + \\frac{\\left\\langle {\\chi}{\\xi} \\right. {\\left|{\\xi}{\\phi}\\right\\rangle }}{2} + \\frac{\\left\\langle {\\xi}{\\chi} \\right. {\\left|{\\phi}{\\xi}\\right\\rangle }}{2} - \\frac{\\left\\langle {\\xi}{\\chi} \\right. {\\left|{\\xi}{\\phi}\\right\\rangle }}{2} & \\frac{\\left\\langle {\\chi}{\\xi} \\right. {\\left|{\\chi}{\\xi}\\right\\rangle }}{2} - \\frac{\\left\\langle {\\chi}{\\xi} \\right. {\\left|{\\xi}{\\chi}\\right\\rangle }}{2} - \\frac{\\left\\langle {\\xi}{\\chi} \\right. {\\left|{\\chi}{\\xi}\\right\\rangle }}{2} + \\frac{\\left\\langle {\\xi}{\\chi} \\right. {\\left|{\\xi}{\\chi}\\right\\rangle }}{2} & - \\frac{\\left\\langle {\\chi}{\\xi} \\right. {\\left|{\\chi}{\\phi}\\right\\rangle }}{2} + \\frac{\\left\\langle {\\chi}{\\xi} \\right. {\\left|{\\phi}{\\chi}\\right\\rangle }}{2} + \\frac{\\left\\langle {\\xi}{\\chi} \\right. {\\left|{\\chi}{\\phi}\\right\\rangle }}{2} - \\frac{\\left\\langle {\\xi}{\\chi} \\right. {\\left|{\\phi}{\\chi}\\right\\rangle }}{2} & 0 & 0 & 0\\\\0 & 0 & 0 & \\frac{\\left\\langle {\\chi}{\\phi} \\right. {\\left|{\\phi}{\\xi}\\right\\rangle }}{2} - \\frac{\\left\\langle {\\chi}{\\phi} \\right. {\\left|{\\xi}{\\phi}\\right\\rangle }}{2} - \\frac{\\left\\langle {\\phi}{\\chi} \\right. {\\left|{\\phi}{\\xi}\\right\\rangle }}{2} + \\frac{\\left\\langle {\\phi}{\\chi} \\right. {\\left|{\\xi}{\\phi}\\right\\rangle }}{2} & - \\frac{\\left\\langle {\\chi}{\\phi} \\right. {\\left|{\\chi}{\\xi}\\right\\rangle }}{2} + \\frac{\\left\\langle {\\chi}{\\phi} \\right. {\\left|{\\xi}{\\chi}\\right\\rangle }}{2} + \\frac{\\left\\langle {\\phi}{\\chi} \\right. {\\left|{\\chi}{\\xi}\\right\\rangle }}{2} - \\frac{\\left\\langle {\\phi}{\\chi} \\right. {\\left|{\\xi}{\\chi}\\right\\rangle }}{2} & \\frac{\\left\\langle {\\chi}{\\phi} \\right. {\\left|{\\chi}{\\phi}\\right\\rangle }}{2} - \\frac{\\left\\langle {\\chi}{\\phi} \\right. {\\left|{\\phi}{\\chi}\\right\\rangle }}{2} - \\frac{\\left\\langle {\\phi}{\\chi} \\right. {\\left|{\\chi}{\\phi}\\right\\rangle }}{2} + \\frac{\\left\\langle {\\phi}{\\chi} \\right. {\\left|{\\phi}{\\chi}\\right\\rangle }}{2} & 0 & 0 & 0\\\\0 & 0 & 0 & 0 & 0 & 0 & - \\left\\langle {\\xi}{\\phi} \\right. {\\left|{\\phi}{\\xi}\\right\\rangle } + \\left\\langle {\\xi}{\\phi} \\right. {\\left|{\\xi}{\\phi}\\right\\rangle } & \\left\\langle {\\xi}{\\phi} \\right. {\\left|{\\chi}{\\xi}\\right\\rangle } - \\left\\langle {\\xi}{\\phi} \\right. {\\left|{\\xi}{\\chi}\\right\\rangle } & - \\left\\langle {\\xi}{\\phi} \\right. {\\left|{\\chi}{\\phi}\\right\\rangle } + \\left\\langle {\\xi}{\\phi} \\right. {\\left|{\\phi}{\\chi}\\right\\rangle }\\\\0 & 0 & 0 & 0 & 0 & 0 & \\left\\langle {\\xi}{\\chi} \\right. {\\left|{\\phi}{\\xi}\\right\\rangle } - \\left\\langle {\\xi}{\\chi} \\right. {\\left|{\\xi}{\\phi}\\right\\rangle } & - \\left\\langle {\\xi}{\\chi} \\right. {\\left|{\\chi}{\\xi}\\right\\rangle } + \\left\\langle {\\xi}{\\chi} \\right. {\\left|{\\xi}{\\chi}\\right\\rangle } & \\left\\langle {\\xi}{\\chi} \\right. {\\left|{\\chi}{\\phi}\\right\\rangle } - \\left\\langle {\\xi}{\\chi} \\right. {\\left|{\\phi}{\\chi}\\right\\rangle }\\\\0 & 0 & 0 & 0 & 0 & 0 & - \\left\\langle {\\phi}{\\chi} \\right. {\\left|{\\phi}{\\xi}\\right\\rangle } + \\left\\langle {\\phi}{\\chi} \\right. {\\left|{\\xi}{\\phi}\\right\\rangle } & \\left\\langle {\\phi}{\\chi} \\right. {\\left|{\\chi}{\\xi}\\right\\rangle } - \\left\\langle {\\phi}{\\chi} \\right. {\\left|{\\xi}{\\chi}\\right\\rangle } & - \\left\\langle {\\phi}{\\chi} \\right. {\\left|{\\chi}{\\phi}\\right\\rangle } + \\left\\langle {\\phi}{\\chi} \\right. {\\left|{\\phi}{\\chi}\\right\\rangle }\\end{matrix}\\right]$"
      ],
      "text/plain": [
       "Matrix([\n",
       "[  -<{\\xi}{\\phi}|{\\phi}{\\xi}> + <{\\xi}{\\phi}|{\\xi}{\\phi}>,   <{\\xi}{\\phi}|{\\chi}{\\xi}> - <{\\xi}{\\phi}|{\\xi}{\\chi}>,   -<{\\xi}{\\phi}|{\\chi}{\\phi}> + <{\\xi}{\\phi}|{\\phi}{\\chi}>,                                                                                                                         0,                                                                                                                          0,                                                                                                                             0,                                                        0,                                                       0,                                                          0],\n",
       "[   <{\\xi}{\\chi}|{\\phi}{\\xi}> - <{\\xi}{\\chi}|{\\xi}{\\phi}>,  -<{\\xi}{\\chi}|{\\chi}{\\xi}> + <{\\xi}{\\chi}|{\\xi}{\\chi}>,    <{\\xi}{\\chi}|{\\chi}{\\phi}> - <{\\xi}{\\chi}|{\\phi}{\\chi}>,                                                                                                                         0,                                                                                                                          0,                                                                                                                             0,                                                        0,                                                       0,                                                          0],\n",
       "[-<{\\phi}{\\chi}|{\\phi}{\\xi}> + <{\\phi}{\\chi}|{\\xi}{\\phi}>, <{\\phi}{\\chi}|{\\chi}{\\xi}> - <{\\phi}{\\chi}|{\\xi}{\\chi}>, -<{\\phi}{\\chi}|{\\chi}{\\phi}> + <{\\phi}{\\chi}|{\\phi}{\\chi}>,                                                                                                                         0,                                                                                                                          0,                                                                                                                             0,                                                        0,                                                       0,                                                          0],\n",
       "[                                                       0,                                                       0,                                                          0,     <{\\phi}{\\xi}|{\\phi}{\\xi}>/2 - <{\\phi}{\\xi}|{\\xi}{\\phi}>/2 - <{\\xi}{\\phi}|{\\phi}{\\xi}>/2 + <{\\xi}{\\phi}|{\\xi}{\\phi}>/2,     -<{\\phi}{\\xi}|{\\chi}{\\xi}>/2 + <{\\phi}{\\xi}|{\\xi}{\\chi}>/2 + <{\\xi}{\\phi}|{\\chi}{\\xi}>/2 - <{\\xi}{\\phi}|{\\xi}{\\chi}>/2,     <{\\phi}{\\xi}|{\\chi}{\\phi}>/2 - <{\\phi}{\\xi}|{\\phi}{\\chi}>/2 - <{\\xi}{\\phi}|{\\chi}{\\phi}>/2 + <{\\xi}{\\phi}|{\\phi}{\\chi}>/2,                                                        0,                                                       0,                                                          0],\n",
       "[                                                       0,                                                       0,                                                          0,    -<{\\chi}{\\xi}|{\\phi}{\\xi}>/2 + <{\\chi}{\\xi}|{\\xi}{\\phi}>/2 + <{\\xi}{\\chi}|{\\phi}{\\xi}>/2 - <{\\xi}{\\chi}|{\\xi}{\\phi}>/2,      <{\\chi}{\\xi}|{\\chi}{\\xi}>/2 - <{\\chi}{\\xi}|{\\xi}{\\chi}>/2 - <{\\xi}{\\chi}|{\\chi}{\\xi}>/2 + <{\\xi}{\\chi}|{\\xi}{\\chi}>/2,    -<{\\chi}{\\xi}|{\\chi}{\\phi}>/2 + <{\\chi}{\\xi}|{\\phi}{\\chi}>/2 + <{\\xi}{\\chi}|{\\chi}{\\phi}>/2 - <{\\xi}{\\chi}|{\\phi}{\\chi}>/2,                                                        0,                                                       0,                                                          0],\n",
       "[                                                       0,                                                       0,                                                          0, <{\\chi}{\\phi}|{\\phi}{\\xi}>/2 - <{\\chi}{\\phi}|{\\xi}{\\phi}>/2 - <{\\phi}{\\chi}|{\\phi}{\\xi}>/2 + <{\\phi}{\\chi}|{\\xi}{\\phi}>/2, -<{\\chi}{\\phi}|{\\chi}{\\xi}>/2 + <{\\chi}{\\phi}|{\\xi}{\\chi}>/2 + <{\\phi}{\\chi}|{\\chi}{\\xi}>/2 - <{\\phi}{\\chi}|{\\xi}{\\chi}>/2, <{\\chi}{\\phi}|{\\chi}{\\phi}>/2 - <{\\chi}{\\phi}|{\\phi}{\\chi}>/2 - <{\\phi}{\\chi}|{\\chi}{\\phi}>/2 + <{\\phi}{\\chi}|{\\phi}{\\chi}>/2,                                                        0,                                                       0,                                                          0],\n",
       "[                                                       0,                                                       0,                                                          0,                                                                                                                         0,                                                                                                                          0,                                                                                                                             0,   -<{\\xi}{\\phi}|{\\phi}{\\xi}> + <{\\xi}{\\phi}|{\\xi}{\\phi}>,   <{\\xi}{\\phi}|{\\chi}{\\xi}> - <{\\xi}{\\phi}|{\\xi}{\\chi}>,   -<{\\xi}{\\phi}|{\\chi}{\\phi}> + <{\\xi}{\\phi}|{\\phi}{\\chi}>],\n",
       "[                                                       0,                                                       0,                                                          0,                                                                                                                         0,                                                                                                                          0,                                                                                                                             0,    <{\\xi}{\\chi}|{\\phi}{\\xi}> - <{\\xi}{\\chi}|{\\xi}{\\phi}>,  -<{\\xi}{\\chi}|{\\chi}{\\xi}> + <{\\xi}{\\chi}|{\\xi}{\\chi}>,    <{\\xi}{\\chi}|{\\chi}{\\phi}> - <{\\xi}{\\chi}|{\\phi}{\\chi}>],\n",
       "[                                                       0,                                                       0,                                                          0,                                                                                                                         0,                                                                                                                          0,                                                                                                                             0, -<{\\phi}{\\chi}|{\\phi}{\\xi}> + <{\\phi}{\\chi}|{\\xi}{\\phi}>, <{\\phi}{\\chi}|{\\chi}{\\xi}> - <{\\phi}{\\chi}|{\\xi}{\\chi}>, -<{\\phi}{\\chi}|{\\chi}{\\phi}> + <{\\phi}{\\chi}|{\\phi}{\\chi}>]])"
      ]
     },
     "metadata": {},
     "output_type": "display_data"
    }
   ],
   "source": [
    "display(sp.Matrix([[k.as_braket() for k in row] for row in config_matrices[sp.Symbol('t_{2}')**2][(1,sp.Symbol('T_1'))]])[2,2])\n",
    "display(sp.Matrix([[k.as_braket() for k in row] for row in config_matrices[sp.Symbol('t_{2}')**2][(1,sp.Symbol('T_1'))]]))"
   ]
  },
  {
   "cell_type": "code",
   "execution_count": null,
   "id": "ec49d123-2825-4d76-896d-0ee8a067a7e9",
   "metadata": {},
   "outputs": [],
   "source": [
    "!beep"
   ]
  },
  {
   "cell_type": "code",
   "execution_count": 155,
   "id": "a09b7023-f36b-44f9-95f0-de118f1a359a",
   "metadata": {
    "collapsed": true,
    "jupyter": {
     "outputs_hidden": true
    },
    "tags": []
   },
   "outputs": [
    {
     "data": {
      "text/html": [
       "<pre>✔️ 87 ms (2021-11-21T16:30:48/2021-11-21T16:30:49)</pre>"
      ],
      "text/plain": [
       "<IPython.core.display.HTML object>"
      ]
     },
     "metadata": {},
     "output_type": "display_data"
    },
    {
     "data": {
      "text/latex": [
       "$\\displaystyle - \\left\\langle {\\zeta}{\\gamma} \\right. {\\left|{\\zeta}{\\gamma}\\right\\rangle } - 2 \\left\\langle {\\zeta}{\\zeta} \\right. {\\left|{\\gamma}{\\gamma}\\right\\rangle } + \\left\\langle {\\zeta}{\\zeta} \\right. {\\left|{\\zeta}{\\zeta}\\right\\rangle }$"
      ],
      "text/plain": [
       "-<{\\zeta}{\\gamma}|{\\zeta}{\\gamma}> - 2*<{\\zeta}{\\zeta}|{\\gamma}{\\gamma}> + <{\\zeta}{\\zeta}|{\\zeta}{\\zeta}>"
      ]
     },
     "metadata": {},
     "output_type": "display_data"
    },
    {
     "data": {
      "text/latex": [
       "$\\displaystyle - 2 \\left\\langle {\\nu}{\\nu} \\right. {\\left|{\\mu}{\\mu}\\right\\rangle }$"
      ],
      "text/plain": [
       "-2*<{\\nu}{\\nu}|{\\mu}{\\mu}>"
      ]
     },
     "metadata": {},
     "output_type": "display_data"
    },
    {
     "data": {
      "text/latex": [
       "$\\displaystyle 2 \\left\\langle {\\nu}{\\nu} \\right. {\\left|{\\mu}{\\mu}\\right\\rangle }$"
      ],
      "text/plain": [
       "2*<{\\nu}{\\nu}|{\\mu}{\\mu}>"
      ]
     },
     "metadata": {},
     "output_type": "display_data"
    },
    {
     "data": {
      "text/latex": [
       "$\\displaystyle 2 \\left\\langle {\\nu}{\\nu} \\right. {\\left|{\\mu}{\\mu}\\right\\rangle }$"
      ],
      "text/plain": [
       "2*<{\\nu}{\\nu}|{\\mu}{\\mu}>"
      ]
     },
     "metadata": {},
     "output_type": "display_data"
    },
    {
     "data": {
      "text/latex": [
       "$\\displaystyle - 2 \\left\\langle {\\xi}{\\xi} \\right. {\\left|{\\phi}{\\phi}\\right\\rangle }$"
      ],
      "text/plain": [
       "-2*<{\\xi}{\\xi}|{\\phi}{\\phi}>"
      ]
     },
     "metadata": {},
     "output_type": "display_data"
    },
    {
     "data": {
      "text/latex": [
       "$\\displaystyle 2 \\left\\langle {\\xi}{\\xi} \\right. {\\left|{\\phi}{\\phi}\\right\\rangle }$"
      ],
      "text/plain": [
       "2*<{\\xi}{\\xi}|{\\phi}{\\phi}>"
      ]
     },
     "metadata": {},
     "output_type": "display_data"
    },
    {
     "data": {
      "text/latex": [
       "$\\displaystyle 2 \\left\\langle {\\xi}{\\xi} \\right. {\\left|{\\phi}{\\phi}\\right\\rangle }$"
      ],
      "text/plain": [
       "2*<{\\xi}{\\xi}|{\\phi}{\\phi}>"
      ]
     },
     "metadata": {},
     "output_type": "display_data"
    },
    {
     "data": {
      "text/latex": [
       "$\\displaystyle - \\frac{8 \\left\\langle {\\nu}{\\mu} \\right. {\\left|{\\xi}{\\phi}\\right\\rangle }}{3} + \\frac{2 \\left\\langle {\\nu}{\\phi} \\right. {\\left|{\\mu}{\\xi}\\right\\rangle }}{3} + 2 \\left\\langle {\\nu}{\\xi} \\right. {\\left|{\\mu}{\\phi}\\right\\rangle }$"
      ],
      "text/plain": [
       "-8*<{\\nu}{\\mu}|{\\xi}{\\phi}>/3 + 2*<{\\nu}{\\phi}|{\\mu}{\\xi}>/3 + 2*<{\\nu}{\\xi}|{\\mu}{\\phi}>"
      ]
     },
     "metadata": {},
     "output_type": "display_data"
    },
    {
     "data": {
      "text/latex": [
       "$\\displaystyle - \\frac{\\sqrt{3} \\left\\langle {\\nu}{\\phi} \\right. {\\left|{\\mu}{\\xi}\\right\\rangle }}{3} + \\frac{\\sqrt{3} \\left\\langle {\\nu}{\\xi} \\right. {\\left|{\\mu}{\\phi}\\right\\rangle }}{3}$"
      ],
      "text/plain": [
       "-sqrt(3)*<{\\nu}{\\phi}|{\\mu}{\\xi}>/3 + sqrt(3)*<{\\nu}{\\xi}|{\\mu}{\\phi}>/3"
      ]
     },
     "metadata": {},
     "output_type": "display_data"
    },
    {
     "data": {
      "text/latex": [
       "$\\displaystyle - \\frac{\\sqrt{3} \\left\\langle {\\nu}{\\phi} \\right. {\\left|{\\mu}{\\xi}\\right\\rangle }}{3} + \\frac{\\sqrt{3} \\left\\langle {\\nu}{\\xi} \\right. {\\left|{\\mu}{\\phi}\\right\\rangle }}{3}$"
      ],
      "text/plain": [
       "-sqrt(3)*<{\\nu}{\\phi}|{\\mu}{\\xi}>/3 + sqrt(3)*<{\\nu}{\\xi}|{\\mu}{\\phi}>/3"
      ]
     },
     "metadata": {},
     "output_type": "display_data"
    },
    {
     "data": {
      "text/latex": [
       "$\\displaystyle \\frac{8 \\left\\langle {\\nu}{\\mu} \\right. {\\left|{\\xi}{\\phi}\\right\\rangle }}{3} + \\frac{2 \\left\\langle {\\nu}{\\phi} \\right. {\\left|{\\mu}{\\xi}\\right\\rangle }}{3} + 2 \\left\\langle {\\nu}{\\xi} \\right. {\\left|{\\mu}{\\phi}\\right\\rangle }$"
      ],
      "text/plain": [
       "8*<{\\nu}{\\mu}|{\\xi}{\\phi}>/3 + 2*<{\\nu}{\\phi}|{\\mu}{\\xi}>/3 + 2*<{\\nu}{\\xi}|{\\mu}{\\phi}>"
      ]
     },
     "metadata": {},
     "output_type": "display_data"
    },
    {
     "data": {
      "text/latex": [
       "$\\displaystyle - \\frac{\\sqrt{3} \\left\\langle {\\nu}{\\phi} \\right. {\\left|{\\mu}{\\xi}\\right\\rangle }}{3} + \\frac{\\sqrt{3} \\left\\langle {\\nu}{\\xi} \\right. {\\left|{\\mu}{\\phi}\\right\\rangle }}{3}$"
      ],
      "text/plain": [
       "-sqrt(3)*<{\\nu}{\\phi}|{\\mu}{\\xi}>/3 + sqrt(3)*<{\\nu}{\\xi}|{\\mu}{\\phi}>/3"
      ]
     },
     "metadata": {},
     "output_type": "display_data"
    },
    {
     "data": {
      "text/latex": [
       "$\\displaystyle - \\frac{\\sqrt{3} \\left\\langle {\\nu}{\\phi} \\right. {\\left|{\\mu}{\\xi}\\right\\rangle }}{3} + \\frac{\\sqrt{3} \\left\\langle {\\nu}{\\xi} \\right. {\\left|{\\mu}{\\phi}\\right\\rangle }}{3}$"
      ],
      "text/plain": [
       "-sqrt(3)*<{\\nu}{\\phi}|{\\mu}{\\xi}>/3 + sqrt(3)*<{\\nu}{\\xi}|{\\mu}{\\phi}>/3"
      ]
     },
     "metadata": {},
     "output_type": "display_data"
    },
    {
     "data": {
      "text/latex": [
       "$\\displaystyle \\left\\langle {\\nu}{\\phi} \\right. {\\left|{\\mu}{\\xi}\\right\\rangle } - \\left\\langle {\\nu}{\\xi} \\right. {\\left|{\\mu}{\\phi}\\right\\rangle }$"
      ],
      "text/plain": [
       "<{\\nu}{\\phi}|{\\mu}{\\xi}> - <{\\nu}{\\xi}|{\\mu}{\\phi}>"
      ]
     },
     "metadata": {},
     "output_type": "display_data"
    },
    {
     "data": {
      "text/latex": [
       "$\\displaystyle - 2 \\left\\langle {\\nu}{\\nu} \\right. {\\left|{\\xi}{\\xi}\\right\\rangle }$"
      ],
      "text/plain": [
       "-2*<{\\nu}{\\nu}|{\\xi}{\\xi}>"
      ]
     },
     "metadata": {},
     "output_type": "display_data"
    },
    {
     "data": {
      "text/latex": [
       "$\\displaystyle \\left\\langle {\\nu}{\\phi} \\right. {\\left|{\\mu}{\\xi}\\right\\rangle } - \\left\\langle {\\nu}{\\xi} \\right. {\\left|{\\mu}{\\phi}\\right\\rangle }$"
      ],
      "text/plain": [
       "<{\\nu}{\\phi}|{\\mu}{\\xi}> - <{\\nu}{\\xi}|{\\mu}{\\phi}>"
      ]
     },
     "metadata": {},
     "output_type": "display_data"
    },
    {
     "data": {
      "text/latex": [
       "$\\displaystyle 2 \\left\\langle {\\nu}{\\nu} \\right. {\\left|{\\xi}{\\xi}\\right\\rangle }$"
      ],
      "text/plain": [
       "2*<{\\nu}{\\nu}|{\\xi}{\\xi}>"
      ]
     },
     "metadata": {},
     "output_type": "display_data"
    },
    {
     "data": {
      "text/latex": [
       "$\\displaystyle - 2 \\left\\langle {\\nu}{\\nu} \\right. {\\left|{\\xi}{\\xi}\\right\\rangle } - \\left\\langle {\\nu}{\\phi} \\right. {\\left|{\\mu}{\\xi}\\right\\rangle } + \\left\\langle {\\nu}{\\xi} \\right. {\\left|{\\mu}{\\phi}\\right\\rangle }$"
      ],
      "text/plain": [
       "-2*<{\\nu}{\\nu}|{\\xi}{\\xi}> - <{\\nu}{\\phi}|{\\mu}{\\xi}> + <{\\nu}{\\xi}|{\\mu}{\\phi}>"
      ]
     },
     "metadata": {},
     "output_type": "display_data"
    },
    {
     "data": {
      "text/latex": [
       "$\\displaystyle - 2 \\left\\langle {\\nu}{\\nu} \\right. {\\left|{\\xi}{\\xi}\\right\\rangle }$"
      ],
      "text/plain": [
       "-2*<{\\nu}{\\nu}|{\\xi}{\\xi}>"
      ]
     },
     "metadata": {},
     "output_type": "display_data"
    },
    {
     "data": {
      "text/latex": [
       "$\\displaystyle 2 \\left\\langle {\\nu}{\\nu} \\right. {\\left|{\\xi}{\\xi}\\right\\rangle } - \\left\\langle {\\nu}{\\phi} \\right. {\\left|{\\mu}{\\xi}\\right\\rangle } + \\left\\langle {\\nu}{\\xi} \\right. {\\left|{\\mu}{\\phi}\\right\\rangle }$"
      ],
      "text/plain": [
       "2*<{\\nu}{\\nu}|{\\xi}{\\xi}> - <{\\nu}{\\phi}|{\\mu}{\\xi}> + <{\\nu}{\\xi}|{\\mu}{\\phi}>"
      ]
     },
     "metadata": {},
     "output_type": "display_data"
    },
    {
     "data": {
      "text/latex": [
       "$\\displaystyle 2 \\left\\langle {\\nu}{\\nu} \\right. {\\left|{\\xi}{\\xi}\\right\\rangle }$"
      ],
      "text/plain": [
       "2*<{\\nu}{\\nu}|{\\xi}{\\xi}>"
      ]
     },
     "metadata": {},
     "output_type": "display_data"
    },
    {
     "data": {
      "text/latex": [
       "$\\displaystyle - 2 \\left\\langle {\\alpha}{\\alpha} \\right. {\\left|{\\nu}{\\nu}\\right\\rangle }$"
      ],
      "text/plain": [
       "-2*<{\\alpha}{\\alpha}|{\\nu}{\\nu}>"
      ]
     },
     "metadata": {},
     "output_type": "display_data"
    },
    {
     "data": {
      "text/latex": [
       "$\\displaystyle 2 \\left\\langle {\\alpha}{\\alpha} \\right. {\\left|{\\nu}{\\nu}\\right\\rangle }$"
      ],
      "text/plain": [
       "2*<{\\alpha}{\\alpha}|{\\nu}{\\nu}>"
      ]
     },
     "metadata": {},
     "output_type": "display_data"
    },
    {
     "data": {
      "text/latex": [
       "$\\displaystyle - 2 \\left\\langle {\\beta}{\\beta} \\right. {\\left|{\\xi}{\\xi}\\right\\rangle }$"
      ],
      "text/plain": [
       "-2*<{\\beta}{\\beta}|{\\xi}{\\xi}>"
      ]
     },
     "metadata": {},
     "output_type": "display_data"
    },
    {
     "data": {
      "text/latex": [
       "$\\displaystyle 2 \\left\\langle {\\beta}{\\beta} \\right. {\\left|{\\xi}{\\xi}\\right\\rangle }$"
      ],
      "text/plain": [
       "2*<{\\beta}{\\beta}|{\\xi}{\\xi}>"
      ]
     },
     "metadata": {},
     "output_type": "display_data"
    },
    {
     "data": {
      "text/latex": [
       "$\\displaystyle \\frac{2 \\left\\langle {\\zeta}{\\zeta} \\right. {\\left|{\\mu}{\\mu}\\right\\rangle }}{3} - \\frac{8 \\left\\langle {\\zeta}{\\zeta} \\right. {\\left|{\\nu}{\\nu}\\right\\rangle }}{3}$"
      ],
      "text/plain": [
       "2*<{\\zeta}{\\zeta}|{\\mu}{\\mu}>/3 - 8*<{\\zeta}{\\zeta}|{\\nu}{\\nu}>/3"
      ]
     },
     "metadata": {},
     "output_type": "display_data"
    },
    {
     "data": {
      "text/latex": [
       "$\\displaystyle - \\frac{2 \\left\\langle {\\zeta}{\\zeta} \\right. {\\left|{\\mu}{\\mu}\\right\\rangle }}{3} + \\frac{8 \\left\\langle {\\zeta}{\\zeta} \\right. {\\left|{\\nu}{\\nu}\\right\\rangle }}{3}$"
      ],
      "text/plain": [
       "-2*<{\\zeta}{\\zeta}|{\\mu}{\\mu}>/3 + 8*<{\\zeta}{\\zeta}|{\\nu}{\\nu}>/3"
      ]
     },
     "metadata": {},
     "output_type": "display_data"
    },
    {
     "data": {
      "text/latex": [
       "$\\displaystyle - 2 \\left\\langle {\\zeta}{\\zeta} \\right. {\\left|{\\mu}{\\mu}\\right\\rangle }$"
      ],
      "text/plain": [
       "-2*<{\\zeta}{\\zeta}|{\\mu}{\\mu}>"
      ]
     },
     "metadata": {},
     "output_type": "display_data"
    },
    {
     "data": {
      "text/latex": [
       "$\\displaystyle - 2 \\left\\langle {\\zeta}{\\zeta} \\right. {\\left|{\\mu}{\\mu}\\right\\rangle }$"
      ],
      "text/plain": [
       "-2*<{\\zeta}{\\zeta}|{\\mu}{\\mu}>"
      ]
     },
     "metadata": {},
     "output_type": "display_data"
    },
    {
     "data": {
      "text/latex": [
       "$\\displaystyle 2 \\left\\langle {\\zeta}{\\zeta} \\right. {\\left|{\\mu}{\\mu}\\right\\rangle }$"
      ],
      "text/plain": [
       "2*<{\\zeta}{\\zeta}|{\\mu}{\\mu}>"
      ]
     },
     "metadata": {},
     "output_type": "display_data"
    },
    {
     "data": {
      "text/latex": [
       "$\\displaystyle 2 \\left\\langle {\\zeta}{\\zeta} \\right. {\\left|{\\mu}{\\mu}\\right\\rangle }$"
      ],
      "text/plain": [
       "2*<{\\zeta}{\\zeta}|{\\mu}{\\mu}>"
      ]
     },
     "metadata": {},
     "output_type": "display_data"
    },
    {
     "data": {
      "text/latex": [
       "$\\displaystyle - 2 \\left\\langle {\\zeta}{\\zeta} \\right. {\\left|{\\xi}{\\xi}\\right\\rangle }$"
      ],
      "text/plain": [
       "-2*<{\\zeta}{\\zeta}|{\\xi}{\\xi}>"
      ]
     },
     "metadata": {},
     "output_type": "display_data"
    },
    {
     "data": {
      "text/latex": [
       "$\\displaystyle 2 \\left\\langle {\\zeta}{\\zeta} \\right. {\\left|{\\xi}{\\xi}\\right\\rangle }$"
      ],
      "text/plain": [
       "2*<{\\zeta}{\\zeta}|{\\xi}{\\xi}>"
      ]
     },
     "metadata": {},
     "output_type": "display_data"
    },
    {
     "data": {
      "text/latex": [
       "$\\displaystyle - \\frac{8 \\left\\langle {\\zeta}{\\zeta} \\right. {\\left|{\\phi}{\\phi}\\right\\rangle }}{3} + \\frac{2 \\left\\langle {\\zeta}{\\zeta} \\right. {\\left|{\\xi}{\\xi}\\right\\rangle }}{3}$"
      ],
      "text/plain": [
       "-8*<{\\zeta}{\\zeta}|{\\phi}{\\phi}>/3 + 2*<{\\zeta}{\\zeta}|{\\xi}{\\xi}>/3"
      ]
     },
     "metadata": {},
     "output_type": "display_data"
    },
    {
     "data": {
      "text/latex": [
       "$\\displaystyle - \\frac{8 \\left\\langle {\\zeta}{\\zeta} \\right. {\\left|{\\phi}{\\phi}\\right\\rangle }}{3} + \\frac{2 \\left\\langle {\\zeta}{\\zeta} \\right. {\\left|{\\xi}{\\xi}\\right\\rangle }}{3}$"
      ],
      "text/plain": [
       "-8*<{\\zeta}{\\zeta}|{\\phi}{\\phi}>/3 + 2*<{\\zeta}{\\zeta}|{\\xi}{\\xi}>/3"
      ]
     },
     "metadata": {},
     "output_type": "display_data"
    },
    {
     "data": {
      "text/latex": [
       "$\\displaystyle \\frac{8 \\left\\langle {\\zeta}{\\zeta} \\right. {\\left|{\\phi}{\\phi}\\right\\rangle }}{3} - \\frac{2 \\left\\langle {\\zeta}{\\zeta} \\right. {\\left|{\\xi}{\\xi}\\right\\rangle }}{3}$"
      ],
      "text/plain": [
       "8*<{\\zeta}{\\zeta}|{\\phi}{\\phi}>/3 - 2*<{\\zeta}{\\zeta}|{\\xi}{\\xi}>/3"
      ]
     },
     "metadata": {},
     "output_type": "display_data"
    },
    {
     "data": {
      "text/latex": [
       "$\\displaystyle \\frac{8 \\left\\langle {\\zeta}{\\zeta} \\right. {\\left|{\\phi}{\\phi}\\right\\rangle }}{3} - \\frac{2 \\left\\langle {\\zeta}{\\zeta} \\right. {\\left|{\\xi}{\\xi}\\right\\rangle }}{3}$"
      ],
      "text/plain": [
       "8*<{\\zeta}{\\zeta}|{\\phi}{\\phi}>/3 - 2*<{\\zeta}{\\zeta}|{\\xi}{\\xi}>/3"
      ]
     },
     "metadata": {},
     "output_type": "display_data"
    },
    {
     "data": {
      "text/latex": [
       "$\\displaystyle - 2 \\left\\langle {\\alpha}{\\alpha} \\right. {\\left|{\\xi}{\\xi}\\right\\rangle }$"
      ],
      "text/plain": [
       "-2*<{\\alpha}{\\alpha}|{\\xi}{\\xi}>"
      ]
     },
     "metadata": {},
     "output_type": "display_data"
    },
    {
     "data": {
      "text/latex": [
       "$\\displaystyle - 2 \\left\\langle {\\alpha}{\\alpha} \\right. {\\left|{\\xi}{\\xi}\\right\\rangle }$"
      ],
      "text/plain": [
       "-2*<{\\alpha}{\\alpha}|{\\xi}{\\xi}>"
      ]
     },
     "metadata": {},
     "output_type": "display_data"
    },
    {
     "data": {
      "text/latex": [
       "$\\displaystyle 2 \\left\\langle {\\alpha}{\\alpha} \\right. {\\left|{\\xi}{\\xi}\\right\\rangle }$"
      ],
      "text/plain": [
       "2*<{\\alpha}{\\alpha}|{\\xi}{\\xi}>"
      ]
     },
     "metadata": {},
     "output_type": "display_data"
    },
    {
     "data": {
      "text/latex": [
       "$\\displaystyle 2 \\left\\langle {\\alpha}{\\alpha} \\right. {\\left|{\\xi}{\\xi}\\right\\rangle }$"
      ],
      "text/plain": [
       "2*<{\\alpha}{\\alpha}|{\\xi}{\\xi}>"
      ]
     },
     "metadata": {},
     "output_type": "display_data"
    },
    {
     "data": {
      "text/latex": [
       "$\\displaystyle - 2 \\left\\langle {\\beta}{\\beta} \\right. {\\left|{\\nu}{\\nu}\\right\\rangle }$"
      ],
      "text/plain": [
       "-2*<{\\beta}{\\beta}|{\\nu}{\\nu}>"
      ]
     },
     "metadata": {},
     "output_type": "display_data"
    },
    {
     "data": {
      "text/latex": [
       "$\\displaystyle - 2 \\left\\langle {\\beta}{\\beta} \\right. {\\left|{\\nu}{\\nu}\\right\\rangle }$"
      ],
      "text/plain": [
       "-2*<{\\beta}{\\beta}|{\\nu}{\\nu}>"
      ]
     },
     "metadata": {},
     "output_type": "display_data"
    },
    {
     "data": {
      "text/latex": [
       "$\\displaystyle 2 \\left\\langle {\\beta}{\\beta} \\right. {\\left|{\\nu}{\\nu}\\right\\rangle }$"
      ],
      "text/plain": [
       "2*<{\\beta}{\\beta}|{\\nu}{\\nu}>"
      ]
     },
     "metadata": {},
     "output_type": "display_data"
    },
    {
     "data": {
      "text/latex": [
       "$\\displaystyle 2 \\left\\langle {\\beta}{\\beta} \\right. {\\left|{\\nu}{\\nu}\\right\\rangle }$"
      ],
      "text/plain": [
       "2*<{\\beta}{\\beta}|{\\nu}{\\nu}>"
      ]
     },
     "metadata": {},
     "output_type": "display_data"
    }
   ],
   "source": [
    "for q in sum(more_ids.values(),[]):\n",
    "    display(q.as_braket())"
   ]
  },
  {
   "cell_type": "code",
   "execution_count": 361,
   "id": "cba1c880-0881-445b-9fda-43548c5ff716",
   "metadata": {},
   "outputs": [
    {
     "data": {
      "text/html": [
       "<pre>✔️ 112 ms (2021-11-22T10:27:46/2021-11-22T10:27:46)</pre>"
      ],
      "text/plain": [
       "<IPython.core.display.HTML object>"
      ]
     },
     "metadata": {},
     "output_type": "display_data"
    }
   ],
   "source": [
    "if verbose:\n",
    "    msg = \"Simplifying numeric values of qets ...\"\n",
    "    pbar.set_description(msg)\n",
    "    pbar.refresh()\n",
    "    pbar.n += 1\n",
    "\n",
    "more_ids = {e_config:list(filter(lambda x: len(x.dict) > 0,list(map(simplify_qet,more_ids[e_config])))) for e_config in more_ids}\n",
    "\n",
    "if verbose:\n",
    "    msg = \"Solving for dependent vars in terms of independent ones ...\"\n",
    "    pbar.set_description(msg)\n",
    "    pbar.refresh()\n",
    "    pbar.n += 1\n",
    "\n",
    "all_sols_2_4 = {irc:[] for irc in more_ids}\n",
    "\n",
    "for e_config in more_ids:\n",
    "    problem_vars = list(set(sum([list(identity.dict.keys()) for identity in more_ids[e_config]],[])))\n",
    "    big_ma = [awe.vec_in_basis(problem_vars) for awe in more_ids[e_config]] \n",
    "    big_mat = sp.Matrix(big_ma)\n",
    "    big_mat = sp.re(big_mat)+sp.I*sp.im(big_mat)\n",
    "    rref_mat, pivots = big_mat.rref()\n",
    "    num_rows = rref_mat.rows\n",
    "    num_cols = rref_mat.cols\n",
    "    rref_ma_non_zero = [rref_mat[row,:] for row in range(num_rows) if (sum(np.array(rref_mat[row,:])[0] == 0) != num_cols)]\n",
    "    rref_mat_non_zero = sp.Matrix(rref_ma_non_zero)\n",
    "    varvec = sp.Matrix(list(map(composite_symbol, problem_vars)))\n",
    "    eqns = rref_mat_non_zero*varvec\n",
    "    ssol = sp.solve(list(eqns), dict=True)\n",
    "    all_sols_2_4[e_config] = ssol\n",
    "    assert len(ssol) in [0,1]\n",
    "    if len(ssol) == 0:\n",
    "        sol_dict = {}\n",
    "    else:\n",
    "        sol_dict = ssol[0]\n",
    "    sol_dict = {twotuplerecovery(k):{twotuplerecovery(s):v.coeff(s) for s in v.free_symbols} for k,v in sol_dict.items()}\n",
    "    all_sols_2_4[e_config] = sol_dict\n",
    "\n",
    "# flatten into a single dictionary of replacements\n",
    "fab_solution_2_4 = {}\n",
    "for e_config in all_sols_2_4:\n",
    "    fab_solution_2_4.update(all_sols_2_4[e_config])\n",
    "if verbose:\n",
    "    msg = \"There are %d less independent variables ...\"\n",
    "    pbar.set_description(\"There are %d less independent variables ...\" % len(fab_solution_2_4))\n",
    "    pbar.refresh()\n",
    "    pbar.n += 1\n",
    "\n",
    "def simplifier_f(qet):\n",
    "    true_qet = Qet({})\n",
    "    for k,v in qet.dict.items():\n",
    "        if k in fab_solution_2_4:\n",
    "            true_qet += v*Qet(fab_solution_2_4[k])\n",
    "        else:\n",
    "            true_qet += Qet({k:v})\n",
    "    return true_qet\n",
    "\n",
    "def simplify_config_matrix_f(ir1ir2, S, ir3):\n",
    "    config_matrix = simple_config_matrices[ir1ir2][(S,ir3)]\n",
    "    num_rows = len(config_matrix)\n",
    "    simple_matrix = [[simplifier_f(config_matrix[row][col]) for col in range(num_rows)] for row in range(num_rows)]\n",
    "    #simple_matrix = sp.Matrix(simple_matrix)\n",
    "    return simple_matrix\n",
    "\n",
    "if verbose:\n",
    "    msg = \"Making final simplifications ...\"\n",
    "    pbar.set_description(msg)\n",
    "    pbar.refresh()\n",
    "    pbar.n += 1\n",
    "\n",
    "final_config_matrices = {k:{} for k in config_matrices}\n",
    "for ir1ir2 in config_matrices.keys():\n",
    "    for term_key in config_matrices[ir1ir2]:\n",
    "        S, Γ3 = term_key\n",
    "        final_config_matrices[ir1ir2][term_key] = simplify_config_matrix_f(ir1ir2, S, Γ3)\n",
    "\n",
    "if verbose:\n",
    "    msg = \"Finished\"\n",
    "    pbar.set_description(msg)\n",
    "    pbar.refresh()\n",
    "    \n",
    "O = final_config_matrices"
   ]
  },
  {
   "cell_type": "code",
   "execution_count": 366,
   "id": "dc591cbd-e2c1-4e8d-82f3-e89fe420a851",
   "metadata": {
    "tags": []
   },
   "outputs": [
    {
     "data": {
      "text/html": [
       "<pre>✔️ 11.5 ms (2021-11-22T10:28:19/2021-11-22T10:28:19)</pre>"
      ],
      "text/plain": [
       "<IPython.core.display.HTML object>"
      ]
     },
     "metadata": {},
     "output_type": "display_data"
    },
    {
     "data": {
      "text/plain": [
       "[[Qet({}),\n",
       "  Qet({}),\n",
       "  Qet({}),\n",
       "  Qet({}),\n",
       "  Qet({}),\n",
       "  Qet({}),\n",
       "  Qet({}),\n",
       "  Qet({}),\n",
       "  Qet({})],\n",
       " [Qet({}),\n",
       "  Qet({}),\n",
       "  Qet({}),\n",
       "  Qet({}),\n",
       "  Qet({}),\n",
       "  Qet({}),\n",
       "  Qet({}),\n",
       "  Qet({}),\n",
       "  Qet({})],\n",
       " [Qet({}),\n",
       "  Qet({}),\n",
       "  Qet({}),\n",
       "  Qet({}),\n",
       "  Qet({}),\n",
       "  Qet({}),\n",
       "  Qet({}),\n",
       "  Qet({}),\n",
       "  Qet({})],\n",
       " [Qet({}),\n",
       "  Qet({}),\n",
       "  Qet({}),\n",
       "  Qet({}),\n",
       "  Qet({}),\n",
       "  Qet({}),\n",
       "  Qet({}),\n",
       "  Qet({}),\n",
       "  Qet({})],\n",
       " [Qet({}),\n",
       "  Qet({}),\n",
       "  Qet({}),\n",
       "  Qet({}),\n",
       "  Qet({}),\n",
       "  Qet({}),\n",
       "  Qet({}),\n",
       "  Qet({}),\n",
       "  Qet({})],\n",
       " [Qet({}),\n",
       "  Qet({}),\n",
       "  Qet({}),\n",
       "  Qet({}),\n",
       "  Qet({}),\n",
       "  Qet({}),\n",
       "  Qet({}),\n",
       "  Qet({}),\n",
       "  Qet({})],\n",
       " [Qet({}),\n",
       "  Qet({}),\n",
       "  Qet({}),\n",
       "  Qet({}),\n",
       "  Qet({}),\n",
       "  Qet({}),\n",
       "  Qet({}),\n",
       "  Qet({}),\n",
       "  Qet({})],\n",
       " [Qet({}),\n",
       "  Qet({}),\n",
       "  Qet({}),\n",
       "  Qet({}),\n",
       "  Qet({}),\n",
       "  Qet({}),\n",
       "  Qet({}),\n",
       "  Qet({}),\n",
       "  Qet({})],\n",
       " [Qet({}),\n",
       "  Qet({}),\n",
       "  Qet({}),\n",
       "  Qet({}),\n",
       "  Qet({}),\n",
       "  Qet({}),\n",
       "  Qet({}),\n",
       "  Qet({}),\n",
       "  Qet({})]]"
      ]
     },
     "execution_count": 366,
     "metadata": {},
     "output_type": "execute_result"
    }
   ],
   "source": [
    "O[sp.Symbol('t_{2}')**2][(1,sp.Symbol('T_1'))]"
   ]
  },
  {
   "cell_type": "markdown",
   "id": "4349c381-08a1-40f9-b943-3b6d70fe67a4",
   "metadata": {
    "heading_collapsed": "true",
    "tags": []
   },
   "source": [
    "#### Detailed Comparison to O (invalid (was using old version))"
   ]
  },
  {
   "cell_type": "code",
   "execution_count": 141,
   "id": "d3b32dc7-f174-409a-83fe-457dcdf45e70",
   "metadata": {
    "tags": []
   },
   "outputs": [
    {
     "data": {
      "text/html": [
       "<pre>✔️ 33.1 s (2021-11-21T16:27:34/2021-11-21T16:28:07)</pre>"
      ],
      "text/plain": [
       "<IPython.core.display.HTML object>"
      ]
     },
     "metadata": {},
     "output_type": "display_data"
    },
    {
     "data": {
      "application/vnd.jupyter.widget-view+json": {
       "model_id": "10d49b3ced7e48b880f153cccccf7a19",
       "version_major": 2,
       "version_minor": 0
      },
      "text/plain": [
       "(0/19) [00:00] "
      ]
     },
     "metadata": {},
     "output_type": "display_data"
    }
   ],
   "source": [
    "def simplify_qet(qet):\n",
    "    new_dict = {k:sp.simplify(v) for k,v in qet.dict.items()}\n",
    "    return Qet(new_dict)\n",
    "\n",
    "# def term_energies(group_label, verbose=True):\n",
    "\n",
    "group_label = 'O'\n",
    "verbose = True\n",
    "stages = 19 # this is how many distinct parts this algorithm has\n",
    "if verbose:\n",
    "    pbar = tqdm(range(stages), bar_format='({n:d}/{total:d}) [{elapsed}] {desc}')\n",
    "terms = twoe_terms[group_label]\n",
    "group = CPGs.get_group_by_label(group_label)\n",
    "component_labels = {k:list(v.values()) for k,v in new_labels[group_label].items()}\n",
    "# for a given set of terms\n",
    "# split all the enclosed states\n",
    "# in groups of electron configurations\n",
    "configs = {}\n",
    "config_supplement = {}\n",
    "for term_key, term in terms.items():\n",
    "    for state_key, state in zip(term.state_keys, term.states):\n",
    "        (Γ1, Γ2, Γ3, γ3, S, mSz) = state_key\n",
    "        α = sp.Symbol(sp.latex(Γ1).lower())*sp.Symbol(sp.latex(Γ2).lower())\n",
    "        if α not in configs.keys():\n",
    "            configs[α] = {}\n",
    "            config_supplement[α] = {}\n",
    "        if (S,Γ3) not in configs[α].keys():\n",
    "            configs[α][(S,Γ3)] = []\n",
    "            config_supplement[α][(S,Γ3)] = []\n",
    "        configs[α][(S,Γ3)].append(state)\n",
    "        config_supplement[α][(S,Γ3)].append(state_key)\n",
    "\n",
    "def overlinesqueegee(s):\n",
    "    '''\n",
    "    Going back from the overline shorthand for spin down,\n",
    "    acting on a single set of quantum numbers.\n",
    "    '''\n",
    "    if 'overline' in str(s):\n",
    "        spin = -sp.S(1)/2\n",
    "        comp = sp.Symbol(str(s).replace('\\\\overline{','')[:-1])\n",
    "    else:\n",
    "        spin = sp.S(1)/2\n",
    "        comp = s\n",
    "    return (comp, spin)\n",
    "\n",
    "def spin_restoration(qet):\n",
    "    '''\n",
    "    Going back from the overline shorthand for spin down,\n",
    "    acting on a qet.\n",
    "    '''\n",
    "    new_dict = {}\n",
    "    for k,v in qet.dict.items():\n",
    "        k = (*overlinesqueegee(k[0]),*overlinesqueegee(k[1]))\n",
    "        new_dict[k] = v\n",
    "    return Qet(new_dict)\n",
    "\n",
    "# within each configuration\n",
    "config_matrices = {}\n",
    "for config in configs.keys():\n",
    "    # within each term\n",
    "    term_matrices = {}\n",
    "    for term_key, states in configs[config].items():\n",
    "        # find the brackets between all possible pairs of states\n",
    "        ham_matrix = []\n",
    "        for state0 in states:\n",
    "            ham_row = []\n",
    "            state0 = spin_restoration(state0)\n",
    "            for state1 in states:\n",
    "                # recover the spin for the determinantal states\n",
    "                pstate = state1\n",
    "                state1 = spin_restoration(state1)\n",
    "                # determine the det braket between these two states (an operator in between is assumed and omitted)\n",
    "                detbraket = state0*state1\n",
    "                # simplify this braket of detstates into brakets between regular states\n",
    "                regbraket = Qet({})\n",
    "                for k,v in detbraket.dict.items():\n",
    "                    γ1, m1, γ2, m2, γ1p, m1p, γ2p, m2p = k\n",
    "                    # k0 = (γ1, m1, γ2, m2, γ1p, m1p, γ2p, m2p)\n",
    "                    # k1 = (γ1, m1, γ2, m2, γ2p, m2p, γ1p, m1p)\n",
    "                    k0 = (γ1, γ2, γ1p, γ2p)\n",
    "                    k1 = (γ1, γ2, γ2p, γ1p)\n",
    "                    # enforce orthogonality wrt. spin\n",
    "                    if (m1 == m1p) and (m2 == m2p):\n",
    "                        qplus = Qet({k0:v}) \n",
    "                    else:\n",
    "                        qplus = Qet({})\n",
    "                    if (m1 == m2p) and (m2 == m1p):\n",
    "                        qminus = Qet({k1:-v}) \n",
    "                    else:\n",
    "                        qminus = Qet({})\n",
    "                    regbraket += (qplus+qminus)\n",
    "                ham_row.append(regbraket)\n",
    "            ham_matrix.append(ham_row)\n",
    "        term_matrices[term_key] = ham_matrix\n",
    "    config_matrices[config] = term_matrices\n",
    "\n",
    "def composite_symbol(x):\n",
    "    return sp.Symbol('(%s)'%(','.join(list(map(sp.latex,x)))))\n",
    "def fourtuplerecovery(ft):\n",
    "    '''the inverse of composite_symbol'''\n",
    "    return tuple(map(sp.Symbol,sp.latex(ft)[1:-1].split(',')))\n",
    "\n",
    "if verbose:\n",
    "    msg = \"Creating all 4-symbol identities ...\"\n",
    "    pbar.set_description(msg)\n",
    "    pbar.refresh()\n",
    "    pbar.n += 1\n",
    "\n",
    "# this   integral_identities  dictionary  will  have  as  keys\n",
    "# 4-tuples  of  irreps  and  its  values  will  be lists whose\n",
    "# elements  are  2-tuples whose first elements are 4-tuples of\n",
    "# irrep  components  and  whose values are qets whose keys are\n",
    "# 4-tuples  of  irrep components and whose values are numeric.\n",
    "# These 4-tuples represent a braket with the Coulomb repulsion\n",
    "# operator in between.\n",
    "\n",
    "integral_identities = {}\n",
    "ir_mats = group.irrep_matrices\n",
    "for ir1, ir2, ir3, ir4 in product(*([group.irrep_labels]*4)):\n",
    "    # To simplify calculations this part\n",
    "    # may only be done over quadruples in a standard\n",
    "    # order.\n",
    "    # Whatever is missed here is then brough back in\n",
    "    # by the reality relations.\n",
    "    altorder1 = (ir3, ir2, ir1, ir4)\n",
    "    altorder2 = (ir1, ir4, ir3, ir2)\n",
    "    altorder3 = (ir3, ir4, ir1, ir2)\n",
    "    if (altorder1 in integral_identities) or\\\n",
    "       (altorder2 in integral_identities) or\\\n",
    "       (altorder3 in integral_identities):\n",
    "        continue\n",
    "    integral_identity_sector = []\n",
    "    components = [component_labels[ir] for ir in [ir1, ir2, ir3, ir4]]\n",
    "    comp_to_idx = [{c: idx for idx, c in enumerate(component_labels[ir])} for ir in [ir1, ir2, ir3, ir4]]\n",
    "    for R in group.generators + [sp.Symbol('{Ee}')]:\n",
    "        R_id = {}\n",
    "        for γ1, γ2, γ3, γ4 in product(*components):\n",
    "            for γ1p, γ2p, γ3p, γ4p in product(*components):\n",
    "                    val = sp.conjugate(ir_mats[ir1][R][comp_to_idx[0][γ1p],comp_to_idx[0][γ1]]) *\\\n",
    "                          sp.conjugate(ir_mats[ir2][R][comp_to_idx[1][γ2p],comp_to_idx[1][γ2]]) *\\\n",
    "                          ir_mats[ir3][R][comp_to_idx[2][γ3],comp_to_idx[2][γ3p]] *\\\n",
    "                          ir_mats[ir4][R][comp_to_idx[3][γ4],comp_to_idx[3][γ4p]]\n",
    "                    if val== 0:\n",
    "                        continue\n",
    "                    key = (γ1, γ2, γ3, γ4)\n",
    "                    if key not in R_id.keys():\n",
    "                        R_id[key] = []\n",
    "                    R_id[key].append( Qet({(γ1p,γ2p,γ3p,γ4p): val}) )\n",
    "        R_id_total = [(key, sum(R_id[key], Qet({}))) for key in R_id.keys()]\n",
    "        R_id_total = [q for q in R_id_total if len(q[1].dict)>0]\n",
    "        integral_identity_sector.extend(R_id_total)\n",
    "    integral_identities[(ir1,ir2,ir3,ir4)] = integral_identity_sector\n",
    "\n",
    "# For solving the linear system it is convenient\n",
    "# to have everything on one side of the equation.\n",
    "if verbose:\n",
    "    msg = \"Creating set of identities ...\"\n",
    "    pbar.set_description(msg)\n",
    "    pbar.refresh()\n",
    "    pbar.n += 1\n",
    "\n",
    "identities = {}\n",
    "for ircombo in integral_identities:\n",
    "    these_ids = []\n",
    "    for v in integral_identities[ircombo]:\n",
    "        lhs, rhs = v\n",
    "        diff = Qet({lhs:1}) - rhs\n",
    "        if len(diff.dict) > 0:\n",
    "            these_ids.append(diff)\n",
    "    identities[ircombo] = these_ids\n",
    "\n",
    "# If an equation has only one key, then\n",
    "# that immediately means that that braket is zero.\n",
    "if verbose:\n",
    "    msg = \"Finding trivial zeros ...\"\n",
    "    pbar.set_description(msg)\n",
    "    pbar.refresh()\n",
    "    pbar.n += 1\n",
    "\n",
    "# first determine which ones have to be zero\n",
    "better_identities = {irc:[] for irc in identities}\n",
    "all_zeros = {}\n",
    "for ircombo in identities:\n",
    "    zeros = []\n",
    "    for identity in identities[ircombo]:\n",
    "        if len(identity.dict) == 1:\n",
    "            zeros.append((list(identity.dict.keys())[0]))\n",
    "        else:\n",
    "            better_identities[ircombo].append(identity)\n",
    "    all_zeros[ircombo] = zeros\n",
    "\n",
    "# use them to simplify things.\n",
    "if verbose:\n",
    "    msg = \"Using them to simplify things ...\"\n",
    "    pbar.set_description(msg)\n",
    "    pbar.refresh()\n",
    "    pbar.n += 1\n",
    "\n",
    "great_identities = {irc:[] for irc in identities}\n",
    "for ircombo in better_identities:\n",
    "    for identity in better_identities[ircombo]:\n",
    "        new_qet = Qet({})\n",
    "        for k,v in identity.dict.items():\n",
    "            if k in all_zeros[ircombo]:\n",
    "                continue\n",
    "            else:\n",
    "                new_qet+= Qet({k: v})\n",
    "        if len(new_qet.dict) == 0:\n",
    "            continue\n",
    "        great_identities[ircombo].append(new_qet)\n",
    "\n",
    "# Inside of a four-symbol braket one may do three exchanges\n",
    "# that must result in the same value. That if the wave\n",
    "# functions are assumed to be real-valued.\n",
    "\n",
    "if verbose:\n",
    "    msg = \"Creating reality identities ...\"\n",
    "    pbar.set_description(msg)\n",
    "    pbar.refresh()\n",
    "    pbar.n += 1\n",
    "\n",
    "real_var_simplifiers = {irc:[] for irc in great_identities}\n",
    "kprimes = set()\n",
    "# this has to run over all the quadruples of irs\n",
    "for ir1, ir2, ir3, ir4 in product(*([group.irrep_labels]*4)):\n",
    "    real_var_simplifier = {}\n",
    "    ircombo = (ir1, ir2, ir3, ir4)\n",
    "    components = [component_labels[ir] for ir in ircombo]\n",
    "    for γ1, γ2, γ3, γ4 in product(*components):\n",
    "        k = (γ1, γ2, γ3, γ4)\n",
    "        kalt1 = (γ3, γ2, γ1, γ4)\n",
    "        kalt2 = (γ1, γ4, γ3, γ2)\n",
    "        kalt3 = (γ3, γ4, γ1, γ2)\n",
    "        if kalt1 in kprimes:\n",
    "            real_var_simplifier[k] = kalt1\n",
    "        elif kalt2 in kprimes:\n",
    "            real_var_simplifier[k] = kalt2\n",
    "        elif kalt3 in kprimes:\n",
    "            real_var_simplifier[k] = kalt3\n",
    "        else:\n",
    "            real_var_simplifier[k] = k\n",
    "            kprimes.add(k)\n",
    "    real_var_simplifiers[ircombo] = real_var_simplifier\n",
    "\n",
    "real_var_full_simplifier = {}\n",
    "for ircombo in real_var_simplifiers:\n",
    "    real_var_full_simplifier.update(real_var_simplifiers[ircombo])\n",
    "\n",
    "# For each 4-tuple of irreps\n",
    "# create a system of symbolic solutions\n",
    "# and let sympy solve that.\n",
    "# For each 4-tuple of irreps\n",
    "# the end result is a dictionary\n",
    "# whose keys represent the dependent\n",
    "# brakets and whose values are the\n",
    "# relation that those dependent values\n",
    "# have with the independent brakets.\n",
    "# As such, when these dictionaries are\n",
    "# used on an expression, everything should\n",
    "# then be given in terms of indepedent brakets.\n",
    "\n",
    "if verbose:\n",
    "    msg = \"Solving for independent 4-symbol brakets ...\"\n",
    "    pbar.set_description(msg)\n",
    "    pbar.refresh()\n",
    "    pbar.n += 1\n",
    "\n",
    "all_sols = {irc:[] for irc in great_identities}\n",
    "for ircombo in great_identities:\n",
    "    zeros = all_zeros[ircombo]\n",
    "    problem_vars = list(set(sum([list(identity.dict.keys()) for identity in great_identities[ircombo]],[])))\n",
    "    big_ma = [awe.vec_in_basis(problem_vars) for awe in great_identities[ircombo]] \n",
    "    big_mat = sp.Matrix(big_ma)\n",
    "    big_mat = sp.re(big_mat)+sp.I*sp.im(big_mat)\n",
    "    rref_mat, pivots = big_mat.rref()\n",
    "    num_rows = rref_mat.rows\n",
    "    num_cols = rref_mat.cols\n",
    "    rref_ma_non_zero = [rref_mat[row,:] for row in range(num_rows) if (sum(np.array(rref_mat[row,:])[0] == 0) != num_cols)]\n",
    "    rref_mat_non_zero = sp.Matrix(rref_ma_non_zero)\n",
    "    varvec = sp.Matrix(list(map(composite_symbol,problem_vars)))\n",
    "    eqns = rref_mat_non_zero*varvec\n",
    "    ssol = sp.solve(list(eqns), dict=True)\n",
    "    all_sols[ircombo] = ssol\n",
    "    assert len(ssol) in [0,1]\n",
    "    if len(ssol) == 0:\n",
    "        sol_dict = {}\n",
    "    else:\n",
    "        sol_dict = ssol[0]\n",
    "    zero_addendum = {k:{} for k in all_zeros[ircombo]}\n",
    "    sol_dict = {fourtuplerecovery(k):{fourtuplerecovery(s):v.coeff(s) for s in v.free_symbols} for k,v in sol_dict.items()}\n",
    "    sol_dict.update(zero_addendum)\n",
    "    all_sols[ircombo] = sol_dict\n",
    "\n",
    "# This final dictionary is unnecessary but\n",
    "# simplifies calling the replacements onto\n",
    "# a symbolic expression.\n",
    "if verbose:\n",
    "    msg = \"Creating a dictionary with all the 4-symbol replacements ...\"\n",
    "    pbar.set_description(msg)\n",
    "    pbar.refresh()\n",
    "    pbar.n += 1\n",
    "\n",
    "super_solution = {}\n",
    "for ircombo in all_sols:\n",
    "    super_solution.update(all_sols[ircombo])\n",
    "\n",
    "def simplifier(qet):\n",
    "    simp_ket = Qet({})\n",
    "    for k,v in qet.dict.items():\n",
    "        simp_ket += Qet({real_var_full_simplifier[k]:v})\n",
    "    true_qet = Qet({})\n",
    "    for k,v in simp_ket.dict.items():\n",
    "        if k in super_solution:\n",
    "            true_qet += v*Qet(super_solution[k])\n",
    "        else:\n",
    "            true_qet += Qet({k:v})\n",
    "    return true_qet\n",
    "\n",
    "def simplify_config_matrix(ir1ir2, S, ir3):\n",
    "    config_matrix = config_matrices[ir1ir2][(S,ir3)]\n",
    "    num_rows = len(config_matrix)\n",
    "    simple_matrix = [[simplifier(config_matrix[row][col]) for col in range(num_rows)] for row in range(num_rows)]\n",
    "    return simple_matrix\n",
    "\n",
    "if verbose:\n",
    "    msg = \"Simplifying configuration matrices ...\"\n",
    "    pbar.set_description(msg)\n",
    "    pbar.refresh()\n",
    "    pbar.n += 1\n",
    "\n",
    "simple_config_matrices = {k:{} for k in config_matrices}\n",
    "for ir1ir2 in config_matrices.keys():\n",
    "    for term_key in config_matrices[ir1ir2]:\n",
    "        S, Γ3 = term_key\n",
    "        simple_config_matrices[ir1ir2][term_key] = simplify_config_matrix(ir1ir2, S, Γ3)\n",
    "\n",
    "twotuplerecovery = fourtuplerecovery\n",
    "if verbose:\n",
    "    msg = \"Creating all 2-symbol identities ...\"\n",
    "    pbar.set_description(msg)\n",
    "    pbar.refresh()\n",
    "    pbar.n += 1\n",
    "\n",
    "# this   integral_identities  dictionary  will  have  as  keys\n",
    "# 2-tuples  of  irreps  and  its  values  will  be lists whose\n",
    "# elements  are  2-tuples whose first elements are 2-tuples of\n",
    "# irrep  components  and  whose values are qets whose keys are\n",
    "# 2-tuples  of  irrep components and whose values are numeric.\n",
    "# These 2-tuples represent a braket with the an invariant operator\n",
    "# operator in between.\n",
    "\n",
    "integral_identities_2 = {}\n",
    "ir_mats = group.irrep_matrices\n",
    "for ir1, ir2 in product(*([group.irrep_labels]*2)):\n",
    "    # To simplify calculations this part\n",
    "    # can only be done over quadruples in a standard\n",
    "    # order.\n",
    "    # Whatever is missed here is then brough back in\n",
    "    # by the reality relations.\n",
    "    altorder1 = (ir2, ir1, ir1, ir4)\n",
    "    if (altorder1 in integral_identities_2):\n",
    "        continue\n",
    "    integral_identity_sector = []\n",
    "    components = [component_labels[ir] for ir in [ir1, ir2]]\n",
    "    comp_to_idx = [{c: idx for idx, c in enumerate(component_labels[ir])} for ir in [ir1, ir2]]\n",
    "    for R in group.generators + [sp.Symbol('{Ee}')]:\n",
    "        R_id = {}\n",
    "        for γ1, γ2 in product(*components):\n",
    "            for γ1p, γ2p in product(*components):\n",
    "                    val = sp.conjugate(ir_mats[ir1][R][comp_to_idx[0][γ1p],comp_to_idx[0][γ1]]) *\\\n",
    "                          ir_mats[ir2][R][comp_to_idx[1][γ2],comp_to_idx[1][γ2p]]\n",
    "                    if val== 0:\n",
    "                        continue\n",
    "                    key = (γ1, γ2)\n",
    "                    if key not in R_id.keys():\n",
    "                        R_id[key] = []\n",
    "                    R_id[key].append( Qet({(γ1p,γ2p): val}) )\n",
    "        R_id_total = [(key, sum(R_id[key], Qet({}))) for key in R_id.keys()]\n",
    "        R_id_total = [q for q in R_id_total if len(q[1].dict)>0]\n",
    "        integral_identity_sector.extend(R_id_total)\n",
    "    integral_identities_2[(ir1,ir2)] = integral_identity_sector\n",
    "\n",
    "# For solving the linear system it is convenient\n",
    "# to have everything on one side of the equation.\n",
    "if verbose:\n",
    "    msg = \"Creating set of 2 symbol identities ...\"\n",
    "    pbar.set_description(msg)\n",
    "    pbar.refresh()\n",
    "    pbar.n += 1\n",
    "identities_2 = {}\n",
    "\n",
    "for ircombo in integral_identities_2:\n",
    "    these_ids = []\n",
    "    for v in integral_identities_2[ircombo]:\n",
    "        lhs, rhs = v\n",
    "        diff = Qet({lhs:1}) - rhs\n",
    "        if len(diff.dict) > 0:\n",
    "            these_ids.append(diff)\n",
    "    identities_2[ircombo] = these_ids\n",
    "\n",
    "# If an equation has only one term, then\n",
    "# that immediately means that that term is zero.\n",
    "if verbose:\n",
    "    msg = \"Finding trivial zeros ...\"\n",
    "    pbar.set_description(msg)\n",
    "    pbar.refresh()\n",
    "    pbar.n += 1\n",
    "\n",
    "# first determine which ones have to be zero\n",
    "better_identities_2 = {irc:[] for irc in identities_2}\n",
    "all_zeros_2 = {}\n",
    "for ircombo in identities_2:\n",
    "    zeros = []\n",
    "    for identity in identities_2[ircombo]:\n",
    "        if len(identity.dict) == 1:\n",
    "            zeros.append((list(identity.dict.keys())[0]))\n",
    "        else:\n",
    "            better_identities_2[ircombo].append(identity)\n",
    "    all_zeros_2[ircombo] = zeros\n",
    "\n",
    "# use them to simplify things.\n",
    "if verbose:\n",
    "    msg = \"Using them to simplify things ...\"\n",
    "    pbar.set_description(msg)\n",
    "    pbar.refresh()\n",
    "    pbar.n += 1\n",
    "\n",
    "great_identities_2 = {irc:[] for irc in identities_2}\n",
    "for ircombo in better_identities_2:\n",
    "    for identity in better_identities_2[ircombo]:\n",
    "        new_qet = Qet({})\n",
    "        for k,v in identity.dict.items():\n",
    "            if k in all_zeros_2[ircombo]:\n",
    "                continue\n",
    "            else:\n",
    "                new_qet+= Qet({k: v})\n",
    "        if len(new_qet.dict) == 0:\n",
    "            continue\n",
    "        great_identities_2[ircombo].append(new_qet)\n",
    "\n",
    "# Inside of a two-symbol braket one may do three exchanges\n",
    "# that must result in the same value. That if the wave\n",
    "# functions are assumed to be real-valued.\n",
    "if verbose:\n",
    "    msg = \"Creating reality identities ...\"\n",
    "    pbar.set_description(msg)\n",
    "    pbar.refresh()\n",
    "    pbar.n += 1\n",
    "real_var_simplifiers_2 = {irc:[] for irc in great_identities_2}\n",
    "# this has to run over all the quadruples of irs\n",
    "kprimes = set()\n",
    "for ir1, ir2 in product(*([group.irrep_labels]*2)):\n",
    "    real_var_simplifier = {}\n",
    "    ircombo = (ir1, ir2)\n",
    "    components = [component_labels[ir] for ir in ircombo]\n",
    "    for γ1, γ2 in product(*components):\n",
    "        k = (γ1, γ2)\n",
    "        kalt = (γ2, γ1)\n",
    "        # If for a given key I find that its\n",
    "        # switched version has already been seen\n",
    "        # Then that key has to be mapped to be\n",
    "        # mapped to the key already present.\n",
    "        if kalt in kprimes:\n",
    "            real_var_simplifier[k] = kalt\n",
    "        else:\n",
    "            real_var_simplifier[k] = k\n",
    "            kprimes.add(k)\n",
    "    real_var_simplifiers_2[ircombo] = real_var_simplifier\n",
    "\n",
    "# For each 2-tuple of irreps\n",
    "# create a system of symbolic solutions\n",
    "# and let sympy solve that.\n",
    "# For each 2-tuple of irreps\n",
    "# the end result is a dictionary\n",
    "# whose keys represent the dependent\n",
    "# brakets and whose values are the\n",
    "# relation that those dependent values\n",
    "# have with the independent brakets.\n",
    "# As such, when these dictionaries are\n",
    "# used on an expression, everything should\n",
    "# then be given in terms of indepedent brakets.\n",
    "if verbose:\n",
    "    msg = \"Solving for independent 2-symbol brakets ...\"\n",
    "    pbar.set_description(msg)\n",
    "    pbar.refresh()\n",
    "    pbar.n += 1\n",
    "all_sols_2 = {irc:[] for irc in great_identities_2}\n",
    "\n",
    "for ircombo in great_identities_2:\n",
    "    zeros = all_zeros_2[ircombo]\n",
    "    problem_vars = list(set(sum([list(identity.dict.keys()) for identity in great_identities_2[ircombo]],[])))\n",
    "    big_ma = [awe.vec_in_basis(problem_vars) for awe in great_identities_2[ircombo]] \n",
    "    big_mat = sp.Matrix(big_ma)\n",
    "    big_mat = sp.re(big_mat)+sp.I*sp.im(big_mat)\n",
    "    rref_mat, pivots = big_mat.rref()\n",
    "    num_rows = rref_mat.rows\n",
    "    num_cols = rref_mat.cols\n",
    "    rref_ma_non_zero = [rref_mat[row,:] for row in range(num_rows) if (sum(np.array(rref_mat[row,:])[0] == 0) != num_cols)]\n",
    "    rref_mat_non_zero = sp.Matrix(rref_ma_non_zero)\n",
    "    varvec = sp.Matrix(list(map(composite_symbol,problem_vars)))\n",
    "    eqns = rref_mat_non_zero*varvec\n",
    "    ssol = sp.solve(list(eqns), dict=True)\n",
    "    all_sols[ircombo] = ssol\n",
    "    assert len(ssol) in [0,1]\n",
    "    if len(ssol) == 0:\n",
    "        sol_dict = {}\n",
    "    else:\n",
    "        sol_dict = ssol[0]\n",
    "    zero_addendum = {k:{} for k in all_zeros_2[ircombo]}\n",
    "    sol_dict = {twotuplerecovery(k):{twotuplerecovery(s):v.coeff(s) for s in v.free_symbols} for k,v in sol_dict.items()}\n",
    "    sol_dict.update(zero_addendum)\n",
    "    all_sols_2[ircombo] = sol_dict\n",
    "\n",
    "# This final dictionary is unnecessary but\n",
    "# simplifies calling the replacements onto\n",
    "# a symbolic expression.\n",
    "if verbose:\n",
    "    msg = \"Creating a dictionary with all the 2-symbol replacements ...\"\n",
    "    pbar.set_description(msg)\n",
    "    pbar.refresh()\n",
    "    pbar.n += 1\n",
    "\n",
    "super_solution_2 = {}\n",
    "for ircombo in all_sols_2:\n",
    "    super_solution_2.update(all_sols_2[ircombo])"
   ]
  },
  {
   "cell_type": "code",
   "execution_count": 177,
   "id": "41ae2a6a-54fc-4302-89d2-60324653b310",
   "metadata": {},
   "outputs": [
    {
     "data": {
      "text/html": [
       "<pre>✔️ 5.44 ms (2021-11-21T16:44:00/2021-11-21T16:44:00)</pre>"
      ],
      "text/plain": [
       "<IPython.core.display.HTML object>"
      ]
     },
     "metadata": {},
     "output_type": "display_data"
    }
   ],
   "source": [
    "lee = [[1,2],[3,4]]"
   ]
  },
  {
   "cell_type": "code",
   "execution_count": 176,
   "id": "87bd48f1-b53f-4d39-b3fb-24937e471c84",
   "metadata": {},
   "outputs": [
    {
     "data": {
      "text/html": [
       "<pre>✔️ 25.2 ms (2021-11-21T16:41:28/2021-11-21T16:41:28)</pre>"
      ],
      "text/plain": [
       "<IPython.core.display.HTML object>"
      ]
     },
     "metadata": {},
     "output_type": "display_data"
    },
    {
     "data": {
      "text/latex": [
       "$\\displaystyle \\left\\langle {\\zeta} \\right. {\\left|{\\zeta}\\right\\rangle }=\\left\\langle {\\gamma} \\right. {\\left|{\\gamma}\\right\\rangle }$"
      ],
      "text/plain": [
       "<IPython.core.display.Math object>"
      ]
     },
     "metadata": {},
     "output_type": "display_data"
    },
    {
     "data": {
      "text/latex": [
       "$\\displaystyle \\left\\langle {\\nu} \\right. {\\left|{\\nu}\\right\\rangle }=\\left\\langle {\\eta} \\right. {\\left|{\\eta}\\right\\rangle }$"
      ],
      "text/plain": [
       "<IPython.core.display.Math object>"
      ]
     },
     "metadata": {},
     "output_type": "display_data"
    },
    {
     "data": {
      "text/latex": [
       "$\\displaystyle - \\left\\langle {\\nu} \\right. {\\left|{\\nu}\\right\\rangle }=\\left\\langle {\\mu} \\right. {\\left|{\\mu}\\right\\rangle }$"
      ],
      "text/plain": [
       "<IPython.core.display.Math object>"
      ]
     },
     "metadata": {},
     "output_type": "display_data"
    },
    {
     "data": {
      "text/latex": [
       "$\\displaystyle - \\left\\langle {\\xi} \\right. {\\left|{\\xi}\\right\\rangle }=\\left\\langle {\\chi} \\right. {\\left|{\\chi}\\right\\rangle }$"
      ],
      "text/plain": [
       "<IPython.core.display.Math object>"
      ]
     },
     "metadata": {},
     "output_type": "display_data"
    },
    {
     "data": {
      "text/latex": [
       "$\\displaystyle - \\left\\langle {\\xi} \\right. {\\left|{\\xi}\\right\\rangle }=\\left\\langle {\\phi} \\right. {\\left|{\\phi}\\right\\rangle }$"
      ],
      "text/plain": [
       "<IPython.core.display.Math object>"
      ]
     },
     "metadata": {},
     "output_type": "display_data"
    }
   ],
   "source": [
    "for k,v in super_solution_2.items():\n",
    "    if (len(v) > 0):\n",
    "        lhs = sp.latex(Qet(v).as_braket())\n",
    "        rhs = sp.latex(Qet({k:1}).as_braket())\n",
    "        display(Math('%s=%s' % (lhs, rhs)))"
   ]
  },
  {
   "cell_type": "code",
   "execution_count": 156,
   "id": "2b51fc3a-be09-4e2c-a4d7-f9e6ae09de77",
   "metadata": {
    "tags": []
   },
   "outputs": [
    {
     "data": {
      "text/html": [
       "<pre>✔️ 32.8 ms (2021-11-21T16:31:18/2021-11-21T16:31:18)</pre>"
      ],
      "text/plain": [
       "<IPython.core.display.HTML object>"
      ]
     },
     "metadata": {},
     "output_type": "display_data"
    },
    {
     "name": "stdout",
     "output_type": "stream",
     "text": [
      "-----\n"
     ]
    },
    {
     "data": {
      "text/latex": [
       "$\\displaystyle - \\left\\langle {\\xi}{\\phi} \\right. {\\left|{\\xi}{\\phi}\\right\\rangle } - \\left\\langle {\\xi}{\\xi} \\right. {\\left|{\\phi}{\\phi}\\right\\rangle }$"
      ],
      "text/plain": [
       "-<{\\xi}{\\phi}|{\\xi}{\\phi}> - <{\\xi}{\\xi}|{\\phi}{\\phi}>"
      ]
     },
     "metadata": {},
     "output_type": "display_data"
    },
    {
     "data": {
      "text/latex": [
       "$\\displaystyle - \\left\\langle {\\xi}{\\phi} \\right. {\\left|{\\xi}{\\phi}\\right\\rangle } + \\left\\langle {\\xi}{\\xi} \\right. {\\left|{\\phi}{\\phi}\\right\\rangle }$"
      ],
      "text/plain": [
       "-<{\\xi}{\\phi}|{\\xi}{\\phi}> + <{\\xi}{\\xi}|{\\phi}{\\phi}>"
      ]
     },
     "metadata": {},
     "output_type": "display_data"
    },
    {
     "data": {
      "text/latex": [
       "$\\displaystyle - 2 \\left\\langle {\\xi}{\\xi} \\right. {\\left|{\\phi}{\\phi}\\right\\rangle }$"
      ],
      "text/plain": [
       "-2*<{\\xi}{\\xi}|{\\phi}{\\phi}>"
      ]
     },
     "metadata": {},
     "output_type": "display_data"
    },
    {
     "ename": "ZeroDivisionError",
     "evalue": "division by zero",
     "output_type": "error",
     "traceback": [
      "\u001b[0;31m---------------------------------------------------------------------------\u001b[0m",
      "\u001b[0;31mZeroDivisionError\u001b[0m                         Traceback (most recent call last)",
      "\u001b[0;32m<ipython-input-156-b62dcd177172>\u001b[0m in \u001b[0;36m<module>\u001b[0;34m\u001b[0m\n\u001b[1;32m     34\u001b[0m                     \u001b[0mdisplay\u001b[0m\u001b[0;34m(\u001b[0m\u001b[0mmatrix_equiv\u001b[0m\u001b[0;34m.\u001b[0m\u001b[0mas_braket\u001b[0m\u001b[0;34m(\u001b[0m\u001b[0;34m)\u001b[0m\u001b[0;34m)\u001b[0m\u001b[0;34m\u001b[0m\u001b[0;34m\u001b[0m\u001b[0m\n\u001b[1;32m     35\u001b[0m                     \u001b[0mdisplay\u001b[0m\u001b[0;34m(\u001b[0m\u001b[0midentity\u001b[0m\u001b[0;34m.\u001b[0m\u001b[0mas_braket\u001b[0m\u001b[0;34m(\u001b[0m\u001b[0;34m)\u001b[0m\u001b[0;34m)\u001b[0m\u001b[0;34m\u001b[0m\u001b[0;34m\u001b[0m\u001b[0m\n\u001b[0;32m---> 36\u001b[0;31m                     \u001b[0;36m1\u001b[0m\u001b[0;34m/\u001b[0m\u001b[0;36m0\u001b[0m\u001b[0;34m\u001b[0m\u001b[0;34m\u001b[0m\u001b[0m\n\u001b[0m\u001b[1;32m     37\u001b[0m                 \u001b[0mcounter\u001b[0m \u001b[0;34m+=\u001b[0m \u001b[0;36m1\u001b[0m\u001b[0;34m\u001b[0m\u001b[0;34m\u001b[0m\u001b[0m\n\u001b[1;32m     38\u001b[0m \u001b[0;31m#                 for v in identity.dict.keys():\u001b[0m\u001b[0;34m\u001b[0m\u001b[0;34m\u001b[0m\u001b[0;34m\u001b[0m\u001b[0m\n",
      "\u001b[0;31mZeroDivisionError\u001b[0m: division by zero"
     ]
    }
   ],
   "source": [
    "# for a given electron config\n",
    "more_ids = {e_config:[] for e_config in simple_config_matrices}\n",
    "counter = 0\n",
    "for e_config in simple_config_matrices:\n",
    "    for term in simple_config_matrices[e_config]:\n",
    "        the_matrix = simple_config_matrices[e_config][term]\n",
    "        num_rows = len(the_matrix)\n",
    "        num_cols = num_rows\n",
    "        the_state_keys = config_supplement[e_config][term]\n",
    "        the_key_matrix = {}\n",
    "        for row_idx in range(num_rows):\n",
    "            Γ3_row = the_state_keys[row_idx][2]\n",
    "            γ3_row = the_state_keys[row_idx][3]\n",
    "            for col_idx in range(num_cols):\n",
    "                Γ3_col = the_state_keys[col_idx][2]\n",
    "                γ3_col = the_state_keys[col_idx][3]\n",
    "                matrix_val = the_matrix[row_idx][col_idx]\n",
    "                the_key_matrix[(γ3_row,γ3_col)] = matrix_val\n",
    "        # now go over the keys of super_solution_2\n",
    "        # and if one of those keys matches with a key in the_key_matrix\n",
    "        # do something about it\n",
    "        for k in super_solution_2:\n",
    "            if k in the_key_matrix:\n",
    "                v = super_solution_2[k]\n",
    "                # this matrix element\n",
    "                matrix_element = the_key_matrix[k]\n",
    "                # must be identified with the sum\n",
    "                # as given in v\n",
    "                matrix_equiv = sum([kv*the_key_matrix[km] for km, kv in v.items()], Qet({}))\n",
    "                identity = (matrix_element - matrix_equiv) #=0\n",
    "                if counter == 27:\n",
    "                    print('-----')\n",
    "                    display(matrix_element.as_braket())\n",
    "                    display(matrix_equiv.as_braket())\n",
    "                    display(identity.as_braket())\n",
    "                    1/0\n",
    "                counter += 1\n",
    "#                 for v in identity.dict.keys():\n",
    "#                     if v == (sp.Symbol(r'\\phi'),sp.Symbol(r'\\phi'),sp.Symbol(r'\\phi'),sp.Symbol(r'\\phi'))\n",
    "                if len(identity.dict) != 0:\n",
    "                    more_ids[e_config].append(identity)"
   ]
  },
  {
   "cell_type": "code",
   "execution_count": 159,
   "id": "c593d246-1f17-453f-8f68-d0d95d49bf82",
   "metadata": {},
   "outputs": [
    {
     "data": {
      "text/html": [
       "<pre>✔️ 7.07 ms (2021-11-21T16:32:27/2021-11-21T16:32:27)</pre>"
      ],
      "text/plain": [
       "<IPython.core.display.HTML object>"
      ]
     },
     "metadata": {},
     "output_type": "display_data"
    },
    {
     "data": {
      "text/latex": [
       "$\\displaystyle T_{1}$"
      ],
      "text/plain": [
       "T_1"
      ]
     },
     "execution_count": 159,
     "metadata": {},
     "output_type": "execute_result"
    }
   ],
   "source": [
    "Γ3_col"
   ]
  },
  {
   "cell_type": "code",
   "execution_count": 160,
   "id": "c74111bf-a258-4827-a0f9-ca7607001b70",
   "metadata": {},
   "outputs": [
    {
     "data": {
      "text/html": [
       "<pre>✔️ 12 ms (2021-11-21T16:32:30/2021-11-21T16:32:30)</pre>"
      ],
      "text/plain": [
       "<IPython.core.display.HTML object>"
      ]
     },
     "metadata": {},
     "output_type": "display_data"
    },
    {
     "data": {
      "text/latex": [
       "$\\displaystyle T_{1}$"
      ],
      "text/plain": [
       "T_1"
      ]
     },
     "execution_count": 160,
     "metadata": {},
     "output_type": "execute_result"
    }
   ],
   "source": [
    "Γ3_row"
   ]
  },
  {
   "cell_type": "code",
   "execution_count": 161,
   "id": "ca4193b8-1119-4421-9a86-4806ce03b28c",
   "metadata": {},
   "outputs": [
    {
     "data": {
      "text/html": [
       "<pre>✔️ 8.21 ms (2021-11-21T16:32:48/2021-11-21T16:32:48)</pre>"
      ],
      "text/plain": [
       "<IPython.core.display.HTML object>"
      ]
     },
     "metadata": {},
     "output_type": "display_data"
    },
    {
     "data": {
      "text/plain": [
       "({\\mu}, {\\mu})"
      ]
     },
     "execution_count": 161,
     "metadata": {},
     "output_type": "execute_result"
    }
   ],
   "source": [
    "k"
   ]
  },
  {
   "cell_type": "code",
   "execution_count": 158,
   "id": "5f01e2f7-c777-40f6-b6d9-f1c079dde04e",
   "metadata": {},
   "outputs": [
    {
     "data": {
      "text/html": [
       "<pre>✔️ 8.19 ms (2021-11-21T16:31:35/2021-11-21T16:31:35)</pre>"
      ],
      "text/plain": [
       "<IPython.core.display.HTML object>"
      ]
     },
     "metadata": {},
     "output_type": "display_data"
    },
    {
     "data": {
      "text/plain": [
       "{({\\nu}, {\\nu}): -1}"
      ]
     },
     "execution_count": 158,
     "metadata": {},
     "output_type": "execute_result"
    }
   ],
   "source": [
    "v"
   ]
  },
  {
   "cell_type": "code",
   "execution_count": 154,
   "id": "a16c764b-79b6-4af6-95da-895ad1f35237",
   "metadata": {},
   "outputs": [
    {
     "data": {
      "text/html": [
       "<pre>✔️ 9.79 ms (2021-11-21T16:30:47/2021-11-21T16:30:47)</pre>"
      ],
      "text/plain": [
       "<IPython.core.display.HTML object>"
      ]
     },
     "metadata": {},
     "output_type": "display_data"
    },
    {
     "data": {
      "text/latex": [
       "$\\displaystyle \\left[\\begin{matrix}\\left\\langle {\\beta}{\\beta} \\right. {\\left|{\\nu}{\\nu}\\right\\rangle } + \\left\\langle {\\beta}{\\nu} \\right. {\\left|{\\beta}{\\nu}\\right\\rangle } & 0 & 0\\\\0 & \\left\\langle {\\beta}{\\beta} \\right. {\\left|{\\nu}{\\nu}\\right\\rangle } - \\left\\langle {\\beta}{\\nu} \\right. {\\left|{\\beta}{\\nu}\\right\\rangle } & 0\\\\0 & 0 & \\left\\langle {\\beta}{\\beta} \\right. {\\left|{\\nu}{\\nu}\\right\\rangle } + \\left\\langle {\\beta}{\\nu} \\right. {\\left|{\\beta}{\\nu}\\right\\rangle }\\end{matrix}\\right]$"
      ],
      "text/plain": [
       "Matrix([\n",
       "[<{\\beta}{\\beta}|{\\nu}{\\nu}> + <{\\beta}{\\nu}|{\\beta}{\\nu}>,                                                         0,                                                         0],\n",
       "[                                                        0, <{\\beta}{\\beta}|{\\nu}{\\nu}> - <{\\beta}{\\nu}|{\\beta}{\\nu}>,                                                         0],\n",
       "[                                                        0,                                                         0, <{\\beta}{\\beta}|{\\nu}{\\nu}> + <{\\beta}{\\nu}|{\\beta}{\\nu}>]])"
      ]
     },
     "execution_count": 154,
     "metadata": {},
     "output_type": "execute_result"
    }
   ],
   "source": [
    "sp.Matrix([[l.as_braket() for l in row] for row in the_matrix])"
   ]
  },
  {
   "cell_type": "code",
   "execution_count": 155,
   "id": "511cec9e-48f3-43b6-b299-58b27e0f84b9",
   "metadata": {
    "collapsed": true,
    "jupyter": {
     "outputs_hidden": true
    },
    "tags": []
   },
   "outputs": [
    {
     "data": {
      "text/html": [
       "<pre>✔️ 87 ms (2021-11-21T16:30:48/2021-11-21T16:30:49)</pre>"
      ],
      "text/plain": [
       "<IPython.core.display.HTML object>"
      ]
     },
     "metadata": {},
     "output_type": "display_data"
    },
    {
     "data": {
      "text/latex": [
       "$\\displaystyle - \\left\\langle {\\zeta}{\\gamma} \\right. {\\left|{\\zeta}{\\gamma}\\right\\rangle } - 2 \\left\\langle {\\zeta}{\\zeta} \\right. {\\left|{\\gamma}{\\gamma}\\right\\rangle } + \\left\\langle {\\zeta}{\\zeta} \\right. {\\left|{\\zeta}{\\zeta}\\right\\rangle }$"
      ],
      "text/plain": [
       "-<{\\zeta}{\\gamma}|{\\zeta}{\\gamma}> - 2*<{\\zeta}{\\zeta}|{\\gamma}{\\gamma}> + <{\\zeta}{\\zeta}|{\\zeta}{\\zeta}>"
      ]
     },
     "metadata": {},
     "output_type": "display_data"
    },
    {
     "data": {
      "text/latex": [
       "$\\displaystyle - 2 \\left\\langle {\\nu}{\\nu} \\right. {\\left|{\\mu}{\\mu}\\right\\rangle }$"
      ],
      "text/plain": [
       "-2*<{\\nu}{\\nu}|{\\mu}{\\mu}>"
      ]
     },
     "metadata": {},
     "output_type": "display_data"
    },
    {
     "data": {
      "text/latex": [
       "$\\displaystyle 2 \\left\\langle {\\nu}{\\nu} \\right. {\\left|{\\mu}{\\mu}\\right\\rangle }$"
      ],
      "text/plain": [
       "2*<{\\nu}{\\nu}|{\\mu}{\\mu}>"
      ]
     },
     "metadata": {},
     "output_type": "display_data"
    },
    {
     "data": {
      "text/latex": [
       "$\\displaystyle 2 \\left\\langle {\\nu}{\\nu} \\right. {\\left|{\\mu}{\\mu}\\right\\rangle }$"
      ],
      "text/plain": [
       "2*<{\\nu}{\\nu}|{\\mu}{\\mu}>"
      ]
     },
     "metadata": {},
     "output_type": "display_data"
    },
    {
     "data": {
      "text/latex": [
       "$\\displaystyle - 2 \\left\\langle {\\xi}{\\xi} \\right. {\\left|{\\phi}{\\phi}\\right\\rangle }$"
      ],
      "text/plain": [
       "-2*<{\\xi}{\\xi}|{\\phi}{\\phi}>"
      ]
     },
     "metadata": {},
     "output_type": "display_data"
    },
    {
     "data": {
      "text/latex": [
       "$\\displaystyle 2 \\left\\langle {\\xi}{\\xi} \\right. {\\left|{\\phi}{\\phi}\\right\\rangle }$"
      ],
      "text/plain": [
       "2*<{\\xi}{\\xi}|{\\phi}{\\phi}>"
      ]
     },
     "metadata": {},
     "output_type": "display_data"
    },
    {
     "data": {
      "text/latex": [
       "$\\displaystyle 2 \\left\\langle {\\xi}{\\xi} \\right. {\\left|{\\phi}{\\phi}\\right\\rangle }$"
      ],
      "text/plain": [
       "2*<{\\xi}{\\xi}|{\\phi}{\\phi}>"
      ]
     },
     "metadata": {},
     "output_type": "display_data"
    },
    {
     "data": {
      "text/latex": [
       "$\\displaystyle - \\frac{8 \\left\\langle {\\nu}{\\mu} \\right. {\\left|{\\xi}{\\phi}\\right\\rangle }}{3} + \\frac{2 \\left\\langle {\\nu}{\\phi} \\right. {\\left|{\\mu}{\\xi}\\right\\rangle }}{3} + 2 \\left\\langle {\\nu}{\\xi} \\right. {\\left|{\\mu}{\\phi}\\right\\rangle }$"
      ],
      "text/plain": [
       "-8*<{\\nu}{\\mu}|{\\xi}{\\phi}>/3 + 2*<{\\nu}{\\phi}|{\\mu}{\\xi}>/3 + 2*<{\\nu}{\\xi}|{\\mu}{\\phi}>"
      ]
     },
     "metadata": {},
     "output_type": "display_data"
    },
    {
     "data": {
      "text/latex": [
       "$\\displaystyle - \\frac{\\sqrt{3} \\left\\langle {\\nu}{\\phi} \\right. {\\left|{\\mu}{\\xi}\\right\\rangle }}{3} + \\frac{\\sqrt{3} \\left\\langle {\\nu}{\\xi} \\right. {\\left|{\\mu}{\\phi}\\right\\rangle }}{3}$"
      ],
      "text/plain": [
       "-sqrt(3)*<{\\nu}{\\phi}|{\\mu}{\\xi}>/3 + sqrt(3)*<{\\nu}{\\xi}|{\\mu}{\\phi}>/3"
      ]
     },
     "metadata": {},
     "output_type": "display_data"
    },
    {
     "data": {
      "text/latex": [
       "$\\displaystyle - \\frac{\\sqrt{3} \\left\\langle {\\nu}{\\phi} \\right. {\\left|{\\mu}{\\xi}\\right\\rangle }}{3} + \\frac{\\sqrt{3} \\left\\langle {\\nu}{\\xi} \\right. {\\left|{\\mu}{\\phi}\\right\\rangle }}{3}$"
      ],
      "text/plain": [
       "-sqrt(3)*<{\\nu}{\\phi}|{\\mu}{\\xi}>/3 + sqrt(3)*<{\\nu}{\\xi}|{\\mu}{\\phi}>/3"
      ]
     },
     "metadata": {},
     "output_type": "display_data"
    },
    {
     "data": {
      "text/latex": [
       "$\\displaystyle \\frac{8 \\left\\langle {\\nu}{\\mu} \\right. {\\left|{\\xi}{\\phi}\\right\\rangle }}{3} + \\frac{2 \\left\\langle {\\nu}{\\phi} \\right. {\\left|{\\mu}{\\xi}\\right\\rangle }}{3} + 2 \\left\\langle {\\nu}{\\xi} \\right. {\\left|{\\mu}{\\phi}\\right\\rangle }$"
      ],
      "text/plain": [
       "8*<{\\nu}{\\mu}|{\\xi}{\\phi}>/3 + 2*<{\\nu}{\\phi}|{\\mu}{\\xi}>/3 + 2*<{\\nu}{\\xi}|{\\mu}{\\phi}>"
      ]
     },
     "metadata": {},
     "output_type": "display_data"
    },
    {
     "data": {
      "text/latex": [
       "$\\displaystyle - \\frac{\\sqrt{3} \\left\\langle {\\nu}{\\phi} \\right. {\\left|{\\mu}{\\xi}\\right\\rangle }}{3} + \\frac{\\sqrt{3} \\left\\langle {\\nu}{\\xi} \\right. {\\left|{\\mu}{\\phi}\\right\\rangle }}{3}$"
      ],
      "text/plain": [
       "-sqrt(3)*<{\\nu}{\\phi}|{\\mu}{\\xi}>/3 + sqrt(3)*<{\\nu}{\\xi}|{\\mu}{\\phi}>/3"
      ]
     },
     "metadata": {},
     "output_type": "display_data"
    },
    {
     "data": {
      "text/latex": [
       "$\\displaystyle - \\frac{\\sqrt{3} \\left\\langle {\\nu}{\\phi} \\right. {\\left|{\\mu}{\\xi}\\right\\rangle }}{3} + \\frac{\\sqrt{3} \\left\\langle {\\nu}{\\xi} \\right. {\\left|{\\mu}{\\phi}\\right\\rangle }}{3}$"
      ],
      "text/plain": [
       "-sqrt(3)*<{\\nu}{\\phi}|{\\mu}{\\xi}>/3 + sqrt(3)*<{\\nu}{\\xi}|{\\mu}{\\phi}>/3"
      ]
     },
     "metadata": {},
     "output_type": "display_data"
    },
    {
     "data": {
      "text/latex": [
       "$\\displaystyle \\left\\langle {\\nu}{\\phi} \\right. {\\left|{\\mu}{\\xi}\\right\\rangle } - \\left\\langle {\\nu}{\\xi} \\right. {\\left|{\\mu}{\\phi}\\right\\rangle }$"
      ],
      "text/plain": [
       "<{\\nu}{\\phi}|{\\mu}{\\xi}> - <{\\nu}{\\xi}|{\\mu}{\\phi}>"
      ]
     },
     "metadata": {},
     "output_type": "display_data"
    },
    {
     "data": {
      "text/latex": [
       "$\\displaystyle - 2 \\left\\langle {\\nu}{\\nu} \\right. {\\left|{\\xi}{\\xi}\\right\\rangle }$"
      ],
      "text/plain": [
       "-2*<{\\nu}{\\nu}|{\\xi}{\\xi}>"
      ]
     },
     "metadata": {},
     "output_type": "display_data"
    },
    {
     "data": {
      "text/latex": [
       "$\\displaystyle \\left\\langle {\\nu}{\\phi} \\right. {\\left|{\\mu}{\\xi}\\right\\rangle } - \\left\\langle {\\nu}{\\xi} \\right. {\\left|{\\mu}{\\phi}\\right\\rangle }$"
      ],
      "text/plain": [
       "<{\\nu}{\\phi}|{\\mu}{\\xi}> - <{\\nu}{\\xi}|{\\mu}{\\phi}>"
      ]
     },
     "metadata": {},
     "output_type": "display_data"
    },
    {
     "data": {
      "text/latex": [
       "$\\displaystyle 2 \\left\\langle {\\nu}{\\nu} \\right. {\\left|{\\xi}{\\xi}\\right\\rangle }$"
      ],
      "text/plain": [
       "2*<{\\nu}{\\nu}|{\\xi}{\\xi}>"
      ]
     },
     "metadata": {},
     "output_type": "display_data"
    },
    {
     "data": {
      "text/latex": [
       "$\\displaystyle - 2 \\left\\langle {\\nu}{\\nu} \\right. {\\left|{\\xi}{\\xi}\\right\\rangle } - \\left\\langle {\\nu}{\\phi} \\right. {\\left|{\\mu}{\\xi}\\right\\rangle } + \\left\\langle {\\nu}{\\xi} \\right. {\\left|{\\mu}{\\phi}\\right\\rangle }$"
      ],
      "text/plain": [
       "-2*<{\\nu}{\\nu}|{\\xi}{\\xi}> - <{\\nu}{\\phi}|{\\mu}{\\xi}> + <{\\nu}{\\xi}|{\\mu}{\\phi}>"
      ]
     },
     "metadata": {},
     "output_type": "display_data"
    },
    {
     "data": {
      "text/latex": [
       "$\\displaystyle - 2 \\left\\langle {\\nu}{\\nu} \\right. {\\left|{\\xi}{\\xi}\\right\\rangle }$"
      ],
      "text/plain": [
       "-2*<{\\nu}{\\nu}|{\\xi}{\\xi}>"
      ]
     },
     "metadata": {},
     "output_type": "display_data"
    },
    {
     "data": {
      "text/latex": [
       "$\\displaystyle 2 \\left\\langle {\\nu}{\\nu} \\right. {\\left|{\\xi}{\\xi}\\right\\rangle } - \\left\\langle {\\nu}{\\phi} \\right. {\\left|{\\mu}{\\xi}\\right\\rangle } + \\left\\langle {\\nu}{\\xi} \\right. {\\left|{\\mu}{\\phi}\\right\\rangle }$"
      ],
      "text/plain": [
       "2*<{\\nu}{\\nu}|{\\xi}{\\xi}> - <{\\nu}{\\phi}|{\\mu}{\\xi}> + <{\\nu}{\\xi}|{\\mu}{\\phi}>"
      ]
     },
     "metadata": {},
     "output_type": "display_data"
    },
    {
     "data": {
      "text/latex": [
       "$\\displaystyle 2 \\left\\langle {\\nu}{\\nu} \\right. {\\left|{\\xi}{\\xi}\\right\\rangle }$"
      ],
      "text/plain": [
       "2*<{\\nu}{\\nu}|{\\xi}{\\xi}>"
      ]
     },
     "metadata": {},
     "output_type": "display_data"
    },
    {
     "data": {
      "text/latex": [
       "$\\displaystyle - 2 \\left\\langle {\\alpha}{\\alpha} \\right. {\\left|{\\nu}{\\nu}\\right\\rangle }$"
      ],
      "text/plain": [
       "-2*<{\\alpha}{\\alpha}|{\\nu}{\\nu}>"
      ]
     },
     "metadata": {},
     "output_type": "display_data"
    },
    {
     "data": {
      "text/latex": [
       "$\\displaystyle 2 \\left\\langle {\\alpha}{\\alpha} \\right. {\\left|{\\nu}{\\nu}\\right\\rangle }$"
      ],
      "text/plain": [
       "2*<{\\alpha}{\\alpha}|{\\nu}{\\nu}>"
      ]
     },
     "metadata": {},
     "output_type": "display_data"
    },
    {
     "data": {
      "text/latex": [
       "$\\displaystyle - 2 \\left\\langle {\\beta}{\\beta} \\right. {\\left|{\\xi}{\\xi}\\right\\rangle }$"
      ],
      "text/plain": [
       "-2*<{\\beta}{\\beta}|{\\xi}{\\xi}>"
      ]
     },
     "metadata": {},
     "output_type": "display_data"
    },
    {
     "data": {
      "text/latex": [
       "$\\displaystyle 2 \\left\\langle {\\beta}{\\beta} \\right. {\\left|{\\xi}{\\xi}\\right\\rangle }$"
      ],
      "text/plain": [
       "2*<{\\beta}{\\beta}|{\\xi}{\\xi}>"
      ]
     },
     "metadata": {},
     "output_type": "display_data"
    },
    {
     "data": {
      "text/latex": [
       "$\\displaystyle \\frac{2 \\left\\langle {\\zeta}{\\zeta} \\right. {\\left|{\\mu}{\\mu}\\right\\rangle }}{3} - \\frac{8 \\left\\langle {\\zeta}{\\zeta} \\right. {\\left|{\\nu}{\\nu}\\right\\rangle }}{3}$"
      ],
      "text/plain": [
       "2*<{\\zeta}{\\zeta}|{\\mu}{\\mu}>/3 - 8*<{\\zeta}{\\zeta}|{\\nu}{\\nu}>/3"
      ]
     },
     "metadata": {},
     "output_type": "display_data"
    },
    {
     "data": {
      "text/latex": [
       "$\\displaystyle - \\frac{2 \\left\\langle {\\zeta}{\\zeta} \\right. {\\left|{\\mu}{\\mu}\\right\\rangle }}{3} + \\frac{8 \\left\\langle {\\zeta}{\\zeta} \\right. {\\left|{\\nu}{\\nu}\\right\\rangle }}{3}$"
      ],
      "text/plain": [
       "-2*<{\\zeta}{\\zeta}|{\\mu}{\\mu}>/3 + 8*<{\\zeta}{\\zeta}|{\\nu}{\\nu}>/3"
      ]
     },
     "metadata": {},
     "output_type": "display_data"
    },
    {
     "data": {
      "text/latex": [
       "$\\displaystyle - 2 \\left\\langle {\\zeta}{\\zeta} \\right. {\\left|{\\mu}{\\mu}\\right\\rangle }$"
      ],
      "text/plain": [
       "-2*<{\\zeta}{\\zeta}|{\\mu}{\\mu}>"
      ]
     },
     "metadata": {},
     "output_type": "display_data"
    },
    {
     "data": {
      "text/latex": [
       "$\\displaystyle - 2 \\left\\langle {\\zeta}{\\zeta} \\right. {\\left|{\\mu}{\\mu}\\right\\rangle }$"
      ],
      "text/plain": [
       "-2*<{\\zeta}{\\zeta}|{\\mu}{\\mu}>"
      ]
     },
     "metadata": {},
     "output_type": "display_data"
    },
    {
     "data": {
      "text/latex": [
       "$\\displaystyle 2 \\left\\langle {\\zeta}{\\zeta} \\right. {\\left|{\\mu}{\\mu}\\right\\rangle }$"
      ],
      "text/plain": [
       "2*<{\\zeta}{\\zeta}|{\\mu}{\\mu}>"
      ]
     },
     "metadata": {},
     "output_type": "display_data"
    },
    {
     "data": {
      "text/latex": [
       "$\\displaystyle 2 \\left\\langle {\\zeta}{\\zeta} \\right. {\\left|{\\mu}{\\mu}\\right\\rangle }$"
      ],
      "text/plain": [
       "2*<{\\zeta}{\\zeta}|{\\mu}{\\mu}>"
      ]
     },
     "metadata": {},
     "output_type": "display_data"
    },
    {
     "data": {
      "text/latex": [
       "$\\displaystyle - 2 \\left\\langle {\\zeta}{\\zeta} \\right. {\\left|{\\xi}{\\xi}\\right\\rangle }$"
      ],
      "text/plain": [
       "-2*<{\\zeta}{\\zeta}|{\\xi}{\\xi}>"
      ]
     },
     "metadata": {},
     "output_type": "display_data"
    },
    {
     "data": {
      "text/latex": [
       "$\\displaystyle 2 \\left\\langle {\\zeta}{\\zeta} \\right. {\\left|{\\xi}{\\xi}\\right\\rangle }$"
      ],
      "text/plain": [
       "2*<{\\zeta}{\\zeta}|{\\xi}{\\xi}>"
      ]
     },
     "metadata": {},
     "output_type": "display_data"
    },
    {
     "data": {
      "text/latex": [
       "$\\displaystyle - \\frac{8 \\left\\langle {\\zeta}{\\zeta} \\right. {\\left|{\\phi}{\\phi}\\right\\rangle }}{3} + \\frac{2 \\left\\langle {\\zeta}{\\zeta} \\right. {\\left|{\\xi}{\\xi}\\right\\rangle }}{3}$"
      ],
      "text/plain": [
       "-8*<{\\zeta}{\\zeta}|{\\phi}{\\phi}>/3 + 2*<{\\zeta}{\\zeta}|{\\xi}{\\xi}>/3"
      ]
     },
     "metadata": {},
     "output_type": "display_data"
    },
    {
     "data": {
      "text/latex": [
       "$\\displaystyle - \\frac{8 \\left\\langle {\\zeta}{\\zeta} \\right. {\\left|{\\phi}{\\phi}\\right\\rangle }}{3} + \\frac{2 \\left\\langle {\\zeta}{\\zeta} \\right. {\\left|{\\xi}{\\xi}\\right\\rangle }}{3}$"
      ],
      "text/plain": [
       "-8*<{\\zeta}{\\zeta}|{\\phi}{\\phi}>/3 + 2*<{\\zeta}{\\zeta}|{\\xi}{\\xi}>/3"
      ]
     },
     "metadata": {},
     "output_type": "display_data"
    },
    {
     "data": {
      "text/latex": [
       "$\\displaystyle \\frac{8 \\left\\langle {\\zeta}{\\zeta} \\right. {\\left|{\\phi}{\\phi}\\right\\rangle }}{3} - \\frac{2 \\left\\langle {\\zeta}{\\zeta} \\right. {\\left|{\\xi}{\\xi}\\right\\rangle }}{3}$"
      ],
      "text/plain": [
       "8*<{\\zeta}{\\zeta}|{\\phi}{\\phi}>/3 - 2*<{\\zeta}{\\zeta}|{\\xi}{\\xi}>/3"
      ]
     },
     "metadata": {},
     "output_type": "display_data"
    },
    {
     "data": {
      "text/latex": [
       "$\\displaystyle \\frac{8 \\left\\langle {\\zeta}{\\zeta} \\right. {\\left|{\\phi}{\\phi}\\right\\rangle }}{3} - \\frac{2 \\left\\langle {\\zeta}{\\zeta} \\right. {\\left|{\\xi}{\\xi}\\right\\rangle }}{3}$"
      ],
      "text/plain": [
       "8*<{\\zeta}{\\zeta}|{\\phi}{\\phi}>/3 - 2*<{\\zeta}{\\zeta}|{\\xi}{\\xi}>/3"
      ]
     },
     "metadata": {},
     "output_type": "display_data"
    },
    {
     "data": {
      "text/latex": [
       "$\\displaystyle - 2 \\left\\langle {\\alpha}{\\alpha} \\right. {\\left|{\\xi}{\\xi}\\right\\rangle }$"
      ],
      "text/plain": [
       "-2*<{\\alpha}{\\alpha}|{\\xi}{\\xi}>"
      ]
     },
     "metadata": {},
     "output_type": "display_data"
    },
    {
     "data": {
      "text/latex": [
       "$\\displaystyle - 2 \\left\\langle {\\alpha}{\\alpha} \\right. {\\left|{\\xi}{\\xi}\\right\\rangle }$"
      ],
      "text/plain": [
       "-2*<{\\alpha}{\\alpha}|{\\xi}{\\xi}>"
      ]
     },
     "metadata": {},
     "output_type": "display_data"
    },
    {
     "data": {
      "text/latex": [
       "$\\displaystyle 2 \\left\\langle {\\alpha}{\\alpha} \\right. {\\left|{\\xi}{\\xi}\\right\\rangle }$"
      ],
      "text/plain": [
       "2*<{\\alpha}{\\alpha}|{\\xi}{\\xi}>"
      ]
     },
     "metadata": {},
     "output_type": "display_data"
    },
    {
     "data": {
      "text/latex": [
       "$\\displaystyle 2 \\left\\langle {\\alpha}{\\alpha} \\right. {\\left|{\\xi}{\\xi}\\right\\rangle }$"
      ],
      "text/plain": [
       "2*<{\\alpha}{\\alpha}|{\\xi}{\\xi}>"
      ]
     },
     "metadata": {},
     "output_type": "display_data"
    },
    {
     "data": {
      "text/latex": [
       "$\\displaystyle - 2 \\left\\langle {\\beta}{\\beta} \\right. {\\left|{\\nu}{\\nu}\\right\\rangle }$"
      ],
      "text/plain": [
       "-2*<{\\beta}{\\beta}|{\\nu}{\\nu}>"
      ]
     },
     "metadata": {},
     "output_type": "display_data"
    },
    {
     "data": {
      "text/latex": [
       "$\\displaystyle - 2 \\left\\langle {\\beta}{\\beta} \\right. {\\left|{\\nu}{\\nu}\\right\\rangle }$"
      ],
      "text/plain": [
       "-2*<{\\beta}{\\beta}|{\\nu}{\\nu}>"
      ]
     },
     "metadata": {},
     "output_type": "display_data"
    },
    {
     "data": {
      "text/latex": [
       "$\\displaystyle 2 \\left\\langle {\\beta}{\\beta} \\right. {\\left|{\\nu}{\\nu}\\right\\rangle }$"
      ],
      "text/plain": [
       "2*<{\\beta}{\\beta}|{\\nu}{\\nu}>"
      ]
     },
     "metadata": {},
     "output_type": "display_data"
    },
    {
     "data": {
      "text/latex": [
       "$\\displaystyle 2 \\left\\langle {\\beta}{\\beta} \\right. {\\left|{\\nu}{\\nu}\\right\\rangle }$"
      ],
      "text/plain": [
       "2*<{\\beta}{\\beta}|{\\nu}{\\nu}>"
      ]
     },
     "metadata": {},
     "output_type": "display_data"
    }
   ],
   "source": [
    "for q in sum(more_ids.values(),[]):\n",
    "    display(q.as_braket())"
   ]
  },
  {
   "cell_type": "code",
   "execution_count": 145,
   "id": "3f645cc3-c17d-4062-9d6c-9e00c8d20bad",
   "metadata": {
    "tags": []
   },
   "outputs": [
    {
     "data": {
      "text/html": [
       "<pre>✔️ 73 ms (2021-11-21T16:28:08/2021-11-21T16:28:08)</pre>"
      ],
      "text/plain": [
       "<IPython.core.display.HTML object>"
      ]
     },
     "metadata": {},
     "output_type": "display_data"
    }
   ],
   "source": [
    "if verbose:\n",
    "    msg = \"Simplifying numeric values of qets ...\"\n",
    "    pbar.set_description(msg)\n",
    "    pbar.refresh()\n",
    "    pbar.n += 1\n",
    "\n",
    "more_ids = {e_config:list(filter(lambda x: len(x.dict) > 0,list(map(simplify_qet,more_ids[e_config])))) for e_config in more_ids}\n",
    "\n",
    "if verbose:\n",
    "    msg = \"Solving for dependent vars in terms of independent ones ...\"\n",
    "    pbar.set_description(msg)\n",
    "    pbar.refresh()\n",
    "    pbar.n += 1\n",
    "\n",
    "all_sols_2_4 = {irc:[] for irc in more_ids}\n",
    "\n",
    "for e_config in more_ids:\n",
    "    problem_vars = list(set(sum([list(identity.dict.keys()) for identity in more_ids[e_config]],[])))\n",
    "    big_ma = [awe.vec_in_basis(problem_vars) for awe in more_ids[e_config]] \n",
    "    big_mat = sp.Matrix(big_ma)\n",
    "    big_mat = sp.re(big_mat)+sp.I*sp.im(big_mat)\n",
    "    rref_mat, pivots = big_mat.rref()\n",
    "    num_rows = rref_mat.rows\n",
    "    num_cols = rref_mat.cols\n",
    "    rref_ma_non_zero = [rref_mat[row,:] for row in range(num_rows) if (sum(np.array(rref_mat[row,:])[0] == 0) != num_cols)]\n",
    "    rref_mat_non_zero = sp.Matrix(rref_ma_non_zero)\n",
    "    varvec = sp.Matrix(list(map(composite_symbol, problem_vars)))\n",
    "    eqns = rref_mat_non_zero*varvec\n",
    "    ssol = sp.solve(list(eqns), dict=True)\n",
    "    all_sols_2_4[e_config] = ssol\n",
    "    assert len(ssol) in [0,1]\n",
    "    if len(ssol) == 0:\n",
    "        sol_dict = {}\n",
    "    else:\n",
    "        sol_dict = ssol[0]\n",
    "    sol_dict = {twotuplerecovery(k):{twotuplerecovery(s):v.coeff(s) for s in v.free_symbols} for k,v in sol_dict.items()}\n",
    "    all_sols_2_4[e_config] = sol_dict\n",
    "\n",
    "# flatten into a single dictionary of replacements\n",
    "fab_solution_2_4 = {}\n",
    "for e_config in all_sols_2_4:\n",
    "    fab_solution_2_4.update(all_sols_2_4[e_config])\n",
    "if verbose:\n",
    "    msg = \"There are %d less independent variables ...\"\n",
    "    pbar.set_description(\"There are %d less independent variables ...\" % len(fab_solution_2_4))\n",
    "    pbar.refresh()\n",
    "    pbar.n += 1\n",
    "\n",
    "def simplifier_f(qet):\n",
    "    true_qet = Qet({})\n",
    "    for k,v in qet.dict.items():\n",
    "        if k in fab_solution_2_4:\n",
    "            true_qet += v*Qet(fab_solution_2_4[k])\n",
    "        else:\n",
    "            true_qet += Qet({k:v})\n",
    "    return true_qet\n",
    "\n",
    "def simplify_config_matrix_f(ir1ir2, S, ir3):\n",
    "    config_matrix = simple_config_matrices[ir1ir2][(S,ir3)]\n",
    "    num_rows = len(config_matrix)\n",
    "    simple_matrix = [[simplifier_f(config_matrix[row][col]) for col in range(num_rows)] for row in range(num_rows)]\n",
    "    #simple_matrix = sp.Matrix(simple_matrix)\n",
    "    return simple_matrix\n",
    "\n",
    "if verbose:\n",
    "    msg = \"Making final simplifications ...\"\n",
    "    pbar.set_description(msg)\n",
    "    pbar.refresh()\n",
    "    pbar.n += 1\n",
    "\n",
    "final_config_matrices = {k:{} for k in config_matrices}\n",
    "for ir1ir2 in config_matrices.keys():\n",
    "    for term_key in config_matrices[ir1ir2]:\n",
    "        S, Γ3 = term_key\n",
    "        final_config_matrices[ir1ir2][term_key] = simplify_config_matrix_f(ir1ir2, S, Γ3)\n",
    "\n",
    "if verbose:\n",
    "    msg = \"Finished\"\n",
    "    pbar.set_description(msg)\n",
    "    pbar.refresh()"
   ]
  },
  {
   "cell_type": "code",
   "execution_count": 72,
   "id": "88c72658-2f50-43db-a55d-7b3401d568a5",
   "metadata": {
    "collapsed": true,
    "jupyter": {
     "outputs_hidden": true
    },
    "tags": []
   },
   "outputs": [
    {
     "data": {
      "text/html": [
       "<pre>✔️ 17.7 ms (2021-11-21T15:21:56/2021-11-21T15:21:56)</pre>"
      ],
      "text/plain": [
       "<IPython.core.display.HTML object>"
      ]
     },
     "metadata": {},
     "output_type": "display_data"
    },
    {
     "data": {
      "text/plain": [
       "{({\\alpha}, {\\beta}),\n",
       " ({\\alpha}, {\\mu}),\n",
       " ({\\alpha}, {\\phi}),\n",
       " ({\\alpha}, {\\zeta}),\n",
       " ({\\beta}, {\\alpha}),\n",
       " ({\\beta}, {\\gamma}),\n",
       " ({\\beta}, {\\nu}),\n",
       " ({\\beta}, {\\xi}),\n",
       " ({\\gamma}, {\\beta}),\n",
       " ({\\gamma}, {\\mu}),\n",
       " ({\\gamma}, {\\zeta}),\n",
       " ({\\mu}, {\\alpha}),\n",
       " ({\\mu}, {\\gamma}),\n",
       " ({\\mu}, {\\xi}),\n",
       " ({\\nu}, {\\beta}),\n",
       " ({\\nu}, {\\phi}),\n",
       " ({\\phi}, {\\alpha}),\n",
       " ({\\phi}, {\\nu}),\n",
       " ({\\xi}, {\\beta}),\n",
       " ({\\xi}, {\\mu}),\n",
       " ({\\xi}, {\\zeta}),\n",
       " ({\\zeta}, {\\alpha}),\n",
       " ({\\zeta}, {\\gamma}),\n",
       " ({\\zeta}, {\\xi})}"
      ]
     },
     "execution_count": 72,
     "metadata": {},
     "output_type": "execute_result"
    }
   ],
   "source": [
    "set(sum(all_zeros_2.values(),[])).intersection(set(super_solution_2.keys()))"
   ]
  },
  {
   "cell_type": "code",
   "execution_count": 146,
   "id": "a38fc3f5-a212-4e0c-a32e-a2c5ad8c035d",
   "metadata": {
    "tags": []
   },
   "outputs": [
    {
     "data": {
      "text/html": [
       "<pre>✔️ 7.26 ms (2021-11-21T16:28:11/2021-11-21T16:28:11)</pre>"
      ],
      "text/plain": [
       "<IPython.core.display.HTML object>"
      ]
     },
     "metadata": {},
     "output_type": "display_data"
    }
   ],
   "source": [
    "O = final_config_matrices"
   ]
  },
  {
   "cell_type": "code",
   "execution_count": 147,
   "id": "50aca8f7-dba1-4c95-8af0-606a8b3daba3",
   "metadata": {},
   "outputs": [
    {
     "data": {
      "text/html": [
       "<pre>✔️ 4.39 ms (2021-11-21T16:28:12/2021-11-21T16:28:12)</pre>"
      ],
      "text/plain": [
       "<IPython.core.display.HTML object>"
      ]
     },
     "metadata": {},
     "output_type": "display_data"
    }
   ],
   "source": [
    "k = sp.Symbol('t_{2}')**2"
   ]
  },
  {
   "cell_type": "code",
   "execution_count": 148,
   "id": "bde466fa-1f92-4136-a553-04ff1f5dae92",
   "metadata": {},
   "outputs": [
    {
     "data": {
      "text/html": [
       "<pre>✔️ 13.4 ms (2021-11-21T16:28:12/2021-11-21T16:28:12)</pre>"
      ],
      "text/plain": [
       "<IPython.core.display.HTML object>"
      ]
     },
     "metadata": {},
     "output_type": "display_data"
    },
    {
     "data": {
      "text/latex": [
       "$\\displaystyle \\left[\\begin{matrix}\\left\\langle {\\xi}{\\phi} \\right. {\\left|{\\xi}{\\phi}\\right\\rangle } + \\left\\langle {\\xi}{\\xi} \\right. {\\left|{\\phi}{\\phi}\\right\\rangle } & 0 & 0\\\\0 & \\left\\langle {\\xi}{\\phi} \\right. {\\left|{\\xi}{\\phi}\\right\\rangle } + \\left\\langle {\\xi}{\\xi} \\right. {\\left|{\\phi}{\\phi}\\right\\rangle } & 0\\\\0 & 0 & - \\left\\langle {\\xi}{\\phi} \\right. {\\left|{\\xi}{\\phi}\\right\\rangle } + \\left\\langle {\\xi}{\\xi} \\right. {\\left|{\\phi}{\\phi}\\right\\rangle }\\end{matrix}\\right]$"
      ],
      "text/plain": [
       "Matrix([\n",
       "[<{\\xi}{\\phi}|{\\xi}{\\phi}> + <{\\xi}{\\xi}|{\\phi}{\\phi}>,                                                     0,                                                      0],\n",
       "[                                                    0, <{\\xi}{\\phi}|{\\xi}{\\phi}> + <{\\xi}{\\xi}|{\\phi}{\\phi}>,                                                      0],\n",
       "[                                                    0,                                                     0, -<{\\xi}{\\phi}|{\\xi}{\\phi}> + <{\\xi}{\\xi}|{\\phi}{\\phi}>]])"
      ]
     },
     "execution_count": 148,
     "metadata": {},
     "output_type": "execute_result"
    }
   ],
   "source": [
    "sp.Matrix([[el.as_braket() for el in row] for row in simple_config_matrices[k][term_key]])"
   ]
  },
  {
   "cell_type": "code",
   "execution_count": 149,
   "id": "274a5d37-0b5f-421e-b839-2e96139b0094",
   "metadata": {},
   "outputs": [
    {
     "data": {
      "text/html": [
       "<pre>✔️ 6.95 ms (2021-11-21T16:28:27/2021-11-21T16:28:27)</pre>"
      ],
      "text/plain": [
       "<IPython.core.display.HTML object>"
      ]
     },
     "metadata": {},
     "output_type": "display_data"
    },
    {
     "data": {
      "text/latex": [
       "$\\displaystyle \\left[\\begin{matrix}\\left\\langle {\\xi}{\\phi} \\right. {\\left|{\\xi}{\\phi}\\right\\rangle } & 0 & 0\\\\0 & \\left\\langle {\\xi}{\\phi} \\right. {\\left|{\\xi}{\\phi}\\right\\rangle } & 0\\\\0 & 0 & - \\left\\langle {\\xi}{\\phi} \\right. {\\left|{\\xi}{\\phi}\\right\\rangle }\\end{matrix}\\right]$"
      ],
      "text/plain": [
       "Matrix([\n",
       "[<{\\xi}{\\phi}|{\\xi}{\\phi}>,                         0,                          0],\n",
       "[                        0, <{\\xi}{\\phi}|{\\xi}{\\phi}>,                          0],\n",
       "[                        0,                         0, -<{\\xi}{\\phi}|{\\xi}{\\phi}>]])"
      ]
     },
     "execution_count": 149,
     "metadata": {},
     "output_type": "execute_result"
    }
   ],
   "source": [
    "sp.Matrix([[el.as_braket() for el in row] for row in O[k][term_key]])"
   ]
  },
  {
   "cell_type": "code",
   "execution_count": 64,
   "id": "90b58acb-5c6c-4756-a588-08fb92c584c9",
   "metadata": {
    "tags": []
   },
   "outputs": [
    {
     "data": {
      "text/html": [
       "<pre>✔️ 34.1 ms (2021-11-21T15:04:59/2021-11-21T15:04:59)</pre>"
      ],
      "text/plain": [
       "<IPython.core.display.HTML object>"
      ]
     },
     "metadata": {},
     "output_type": "display_data"
    },
    {
     "data": {
      "text/latex": [
       "$\\displaystyle {}^{1}A_{1}$"
      ],
      "text/plain": [
       "{}^{1}A_{1}"
      ]
     },
     "metadata": {},
     "output_type": "display_data"
    },
    {
     "data": {
      "text/latex": [
       "$\\displaystyle \\left\\langle {\\xi}{\\xi} \\right. {\\left|{\\xi}{\\xi}\\right\\rangle }$"
      ],
      "text/plain": [
       "<{\\xi}{\\xi}|{\\xi}{\\xi}>"
      ]
     },
     "metadata": {},
     "output_type": "display_data"
    },
    {
     "data": {
      "text/latex": [
       "$\\displaystyle 2 \\left\\langle {\\xi}{\\xi} \\right. {\\left|{\\phi}{\\phi}\\right\\rangle } + \\left\\langle {\\xi}{\\xi} \\right. {\\left|{\\xi}{\\xi}\\right\\rangle }$"
      ],
      "text/plain": [
       "2*<{\\xi}{\\xi}|{\\phi}{\\phi}> + <{\\xi}{\\xi}|{\\xi}{\\xi}>"
      ]
     },
     "metadata": {},
     "output_type": "display_data"
    },
    {
     "data": {
      "text/latex": [
       "$\\displaystyle {}^{1}E$"
      ],
      "text/plain": [
       "{}^{1}E"
      ]
     },
     "metadata": {},
     "output_type": "display_data"
    },
    {
     "data": {
      "text/latex": [
       "$\\displaystyle \\left\\langle {\\xi}{\\xi} \\right. {\\left|{\\xi}{\\xi}\\right\\rangle }$"
      ],
      "text/plain": [
       "<{\\xi}{\\xi}|{\\xi}{\\xi}>"
      ]
     },
     "metadata": {},
     "output_type": "display_data"
    },
    {
     "data": {
      "text/latex": [
       "$\\displaystyle - \\left\\langle {\\xi}{\\xi} \\right. {\\left|{\\phi}{\\phi}\\right\\rangle } + \\left\\langle {\\xi}{\\xi} \\right. {\\left|{\\xi}{\\xi}\\right\\rangle }$"
      ],
      "text/plain": [
       "-<{\\xi}{\\xi}|{\\phi}{\\phi}> + <{\\xi}{\\xi}|{\\xi}{\\xi}>"
      ]
     },
     "metadata": {},
     "output_type": "display_data"
    },
    {
     "data": {
      "text/latex": [
       "$\\displaystyle {}^{3}T_{1}$"
      ],
      "text/plain": [
       "{}^{3}T_{1}"
      ]
     },
     "metadata": {},
     "output_type": "display_data"
    },
    {
     "data": {
      "text/latex": [
       "$\\displaystyle \\left\\langle {\\xi}{\\phi} \\right. {\\left|{\\xi}{\\phi}\\right\\rangle }$"
      ],
      "text/plain": [
       "<{\\xi}{\\phi}|{\\xi}{\\phi}>"
      ]
     },
     "metadata": {},
     "output_type": "display_data"
    },
    {
     "data": {
      "text/latex": [
       "$\\displaystyle \\left\\langle {\\xi}{\\phi} \\right. {\\left|{\\xi}{\\phi}\\right\\rangle } - \\left\\langle {\\xi}{\\xi} \\right. {\\left|{\\phi}{\\phi}\\right\\rangle }$"
      ],
      "text/plain": [
       "<{\\xi}{\\phi}|{\\xi}{\\phi}> - <{\\xi}{\\xi}|{\\phi}{\\phi}>"
      ]
     },
     "metadata": {},
     "output_type": "display_data"
    },
    {
     "data": {
      "text/latex": [
       "$\\displaystyle {}^{1}T_{2}$"
      ],
      "text/plain": [
       "{}^{1}T_{2}"
      ]
     },
     "metadata": {},
     "output_type": "display_data"
    },
    {
     "data": {
      "text/latex": [
       "$\\displaystyle \\left\\langle {\\xi}{\\phi} \\right. {\\left|{\\xi}{\\phi}\\right\\rangle }$"
      ],
      "text/plain": [
       "<{\\xi}{\\phi}|{\\xi}{\\phi}>"
      ]
     },
     "metadata": {},
     "output_type": "display_data"
    },
    {
     "data": {
      "text/latex": [
       "$\\displaystyle \\left\\langle {\\xi}{\\phi} \\right. {\\left|{\\xi}{\\phi}\\right\\rangle } + \\left\\langle {\\xi}{\\xi} \\right. {\\left|{\\phi}{\\phi}\\right\\rangle }$"
      ],
      "text/plain": [
       "<{\\xi}{\\phi}|{\\xi}{\\phi}> + <{\\xi}{\\xi}|{\\phi}{\\phi}>"
      ]
     },
     "metadata": {},
     "output_type": "display_data"
    }
   ],
   "source": [
    "for term_key in O[k]:#[(1,sp.Symbol('T_{u}'))]#[0][0].as_braket()\n",
    "    term_symb = sp.Symbol('{}^{%d}%s' % (term_key[0]*2+1,sp.latex(term_key[1])))\n",
    "    display(term_symb)\n",
    "    display(O[k][term_key][0][0].as_braket())\n",
    "    display(simple_config_matrices[k][term_key][0][0].as_braket())\n"
   ]
  },
  {
   "cell_type": "code",
   "execution_count": 61,
   "id": "81084da7-3913-42a7-ab78-9707928639a5",
   "metadata": {},
   "outputs": [
    {
     "data": {
      "text/html": [
       "<pre>✔️ 10.2 ms (2021-11-21T15:03:03/2021-11-21T15:03:03)</pre>"
      ],
      "text/plain": [
       "<IPython.core.display.HTML object>"
      ]
     },
     "metadata": {},
     "output_type": "display_data"
    },
    {
     "data": {
      "text/plain": [
       "[[Qet({({\\xi}, {\\phi}, {\\xi}, {\\phi}): 1, ({\\xi}, {\\xi}, {\\phi}, {\\phi}): 1}),\n",
       "  Qet({}),\n",
       "  Qet({})],\n",
       " [Qet({}),\n",
       "  Qet({({\\xi}, {\\phi}, {\\xi}, {\\phi}): 1, ({\\xi}, {\\xi}, {\\phi}, {\\phi}): 1}),\n",
       "  Qet({})],\n",
       " [Qet({}),\n",
       "  Qet({}),\n",
       "  Qet({({\\xi}, {\\phi}, {\\xi}, {\\phi}): -1, ({\\xi}, {\\xi}, {\\phi}, {\\phi}): 1})]]"
      ]
     },
     "execution_count": 61,
     "metadata": {},
     "output_type": "execute_result"
    }
   ],
   "source": [
    "simple_config_matrices[k][term_key]"
   ]
  },
  {
   "cell_type": "markdown",
   "id": "9a45d3ac-c0c3-45d8-a93d-fd235a7e8518",
   "metadata": {
    "heading_collapsed": "true",
    "tags": []
   },
   "source": [
    "#### Debugging T_h"
   ]
  },
  {
   "cell_type": "code",
   "execution_count": 252,
   "id": "a820c957-0e49-432e-9369-ccfaddf3fefa",
   "metadata": {},
   "outputs": [
    {
     "data": {
      "text/html": [
       "<pre>✔️ 19.3 ms (2021-11-19T19:00:26/2021-11-19T19:00:26)</pre>"
      ],
      "text/plain": [
       "<IPython.core.display.HTML object>"
      ]
     },
     "metadata": {},
     "output_type": "display_data"
    }
   ],
   "source": [
    "def simplify_qet(qet):\n",
    "    new_dict = {k:sp.simplify(v) for k,v in qet.dict.items()}\n",
    "    return Qet(new_dict)\n",
    "def term_energies(group_label, verbose=True):\n",
    "    stages = 19 # this is how many distinct parts this algorithm has\n",
    "    if verbose:\n",
    "        pbar = tqdm(range(stages), bar_format='({n:d}/{total:d}) [{elapsed}] {desc}')\n",
    "    terms = twoe_terms[group_label]\n",
    "    group = CPGs.get_group_by_label(group_label)\n",
    "    component_labels = {k:list(v.values()) for k,v in new_labels[group_label].items()}\n",
    "    # for a given set of terms\n",
    "    # split all the enclosed states\n",
    "    # in groups of electron configurations\n",
    "    configs = {}\n",
    "    config_supplement = {}\n",
    "    for term_key, term in terms.items():\n",
    "        for state_key, state in zip(term.state_keys, term.states):\n",
    "            (Γ1, Γ2, Γ3, γ3, S, mSz) = state_key\n",
    "            α = sp.Symbol(sp.latex(Γ1).lower())*sp.Symbol(sp.latex(Γ2).lower())\n",
    "            if α not in configs.keys():\n",
    "                configs[α] = {}\n",
    "                config_supplement[α] = {}\n",
    "            if (S,Γ3) not in configs[α].keys():\n",
    "                configs[α][(S,Γ3)] = []\n",
    "                config_supplement[α][(S,Γ3)] = []\n",
    "            configs[α][(S,Γ3)].append(state)\n",
    "            config_supplement[α][(S,Γ3)].append(state_key)\n",
    "\n",
    "    def overlinesqueegee(s):\n",
    "        '''\n",
    "        Going back from the overline shorthand for spin down,\n",
    "        acting on a single set of quantum numbers.\n",
    "        '''\n",
    "        if 'overline' in str(s):\n",
    "            spin = -sp.S(1)/2\n",
    "            comp = sp.Symbol(str(s).replace('\\\\overline{','')[:-1])\n",
    "        else:\n",
    "            spin = sp.S(1)/2\n",
    "            comp = s\n",
    "        return (comp, spin)\n",
    "    def spin_restoration(qet):\n",
    "        '''\n",
    "        Going back from the overline shorthand for spin down,\n",
    "        acting on a qet.\n",
    "        '''\n",
    "        new_dict = {}\n",
    "        for k,v in qet.dict.items():\n",
    "            k = (*overlinesqueegee(k[0]),*overlinesqueegee(k[1]))\n",
    "            new_dict[k] = v\n",
    "        return Qet(new_dict)\n",
    "\n",
    "    # within each configuration\n",
    "    config_matrices = {}\n",
    "    for config in configs.keys():\n",
    "        # display(config)\n",
    "        # within each term\n",
    "        term_matrices = {}\n",
    "        for term_key, states in configs[config].items():\n",
    "            # find the brackets between all possible pairs of states\n",
    "            ham_matrix = []\n",
    "            for state0 in states:\n",
    "                ham_row = []\n",
    "                state0 = spin_restoration(state0)\n",
    "                for state1 in states:\n",
    "                    # recover the spin for the determinantal states\n",
    "                    pstate = state1\n",
    "                    state1 = spin_restoration(state1)\n",
    "                    # determine the det braket between these two states (an operator in between is assumed and omitted)\n",
    "                    detbraket = state0.dual()*state1 # changehere\n",
    "                    # simplify this braket of detstates into brakets between regular states\n",
    "                    regbraket = Qet({})\n",
    "                    for k,v in detbraket.dict.items():\n",
    "                        γ1, m1, γ2, m2, γ1p, m1p, γ2p, m2p = k\n",
    "                        # k0 = (γ1, m1, γ2, m2, γ1p, m1p, γ2p, m2p)\n",
    "                        # k1 = (γ1, m1, γ2, m2, γ2p, m2p, γ1p, m1p)\n",
    "                        k0 = (γ1, γ2, γ1p, γ2p)\n",
    "                        k1 = (γ1, γ2, γ2p, γ1p)\n",
    "                        # enforce orthogonality wrt. spin\n",
    "                        if (m1 == m1p) and (m2 == m2p):\n",
    "                            qplus = Qet({k0:v}) \n",
    "                        else:\n",
    "                            qplus = Qet({})\n",
    "                        if (m1 == m2p) and (m2 == m1p):\n",
    "                            qminus = Qet({k1:-v}) \n",
    "                        else:\n",
    "                            qminus = Qet({})\n",
    "                        regbraket += (qplus+qminus)\n",
    "                    ham_row.append(regbraket)\n",
    "                ham_matrix.append(ham_row)\n",
    "            term_matrices[term_key] = ham_matrix\n",
    "        config_matrices[config] = term_matrices\n",
    "\n",
    "    def composite_symbol(x):\n",
    "        return sp.Symbol('(%s)'%(','.join(list(map(sp.latex,x)))))\n",
    "    def fourtuplerecovery(ft):\n",
    "        '''the inverse of composite_symbol'''\n",
    "        return tuple(map(sp.Symbol,sp.latex(ft)[1:-1].split(',')))\n",
    "    \n",
    "    if verbose:\n",
    "        msg = \"Creating all 4-symbol identities ...\"\n",
    "        pbar.set_description(msg)\n",
    "        pbar.refresh()\n",
    "        pbar.n += 1\n",
    "\n",
    "    # this   integral_identities  dictionary  will  have  as  keys\n",
    "    # 4-tuples  of  irreps  and  its  values  will  be lists whose\n",
    "    # elements  are  2-tuples whose first elements are 4-tuples of\n",
    "    # irrep  components  and  whose values are qets whose keys are\n",
    "    # 4-tuples  of  irrep components and whose values are numeric.\n",
    "    # These 4-tuples represent a braket with the Coulomb repulsion\n",
    "    # operator in between.\n",
    "\n",
    "    integral_identities = {}\n",
    "    ir_mats = group.irrep_matrices\n",
    "    for ir1, ir2, ir3, ir4 in product(*([group.irrep_labels]*4)):\n",
    "        # To simplify calculations this part\n",
    "        # may only be done over quadruples in a standard\n",
    "        # order.\n",
    "        # Whatever is missed here is then brough back in\n",
    "        # by the reality relations.\n",
    "        altorder1 = (ir3, ir2, ir1, ir4)\n",
    "        altorder2 = (ir1, ir4, ir3, ir2)\n",
    "        altorder3 = (ir3, ir4, ir1, ir2)\n",
    "        if (altorder1 in integral_identities) or\\\n",
    "           (altorder2 in integral_identities) or\\\n",
    "           (altorder3 in integral_identities):\n",
    "            continue\n",
    "        integral_identity_sector = []\n",
    "        components = [component_labels[ir] for ir in [ir1, ir2, ir3, ir4]]\n",
    "        comp_to_idx = [{c: idx for idx, c in enumerate(component_labels[ir])} for ir in [ir1, ir2, ir3, ir4]]\n",
    "        for R in group.generators + [sp.Symbol('{Ee}')]:\n",
    "            R_id = {}\n",
    "            for γ1, γ2, γ3, γ4 in product(*components):\n",
    "                for γ1p, γ2p, γ3p, γ4p in product(*components):\n",
    "#                         val = sp.conjugate(ir_mats[ir1][R][comp_to_idx[0][γ1],comp_to_idx[0][γ1p]]) *\\\n",
    "#                               sp.conjugate(ir_mats[ir2][R][comp_to_idx[1][γ2],comp_to_idx[1][γ2p]]) *\\\n",
    "#                               ir_mats[ir3][R][comp_to_idx[2][γ3],comp_to_idx[2][γ3p]] *\\\n",
    "#                               ir_mats[ir4][R][comp_to_idx[3][γ4],comp_to_idx[3][γ4p]]\n",
    "                        val = sp.conjugate(ir_mats[ir1][R][comp_to_idx[0][γ1p],comp_to_idx[0][γ1]]) *\\\n",
    "                              sp.conjugate(ir_mats[ir2][R][comp_to_idx[1][γ2p],comp_to_idx[1][γ2]]) *\\\n",
    "                              ir_mats[ir3][R][comp_to_idx[2][γ3],comp_to_idx[2][γ3p]] *\\\n",
    "                              ir_mats[ir4][R][comp_to_idx[3][γ4],comp_to_idx[3][γ4p]]\n",
    "                        if val== 0:\n",
    "                            continue\n",
    "                        key = (γ1, γ2, γ3, γ4)\n",
    "                        if key not in R_id.keys():\n",
    "                            R_id[key] = []\n",
    "                        R_id[key].append( Qet({(γ1p,γ2p,γ3p,γ4p): val}) )\n",
    "            R_id_total = [(key, sum(R_id[key], Qet({}))) for key in R_id.keys()]\n",
    "            R_id_total = [q for q in R_id_total if len(q[1].dict)>0]\n",
    "            integral_identity_sector.extend(R_id_total)\n",
    "        integral_identities[(ir1,ir2,ir3,ir4)] = integral_identity_sector\n",
    "\n",
    "    # For solving the linear system it is convenient\n",
    "    # to have everything on one side of the equation.\n",
    "    if verbose:\n",
    "        msg = \"Creating set of identities ...\"\n",
    "        pbar.set_description(msg)\n",
    "        pbar.refresh()\n",
    "        pbar.n += 1\n",
    "    \n",
    "    identities = {}\n",
    "    for ircombo in integral_identities:\n",
    "        these_ids = []\n",
    "        for v in integral_identities[ircombo]:\n",
    "            lhs, rhs = v\n",
    "            diff = Qet({lhs:1}) - rhs\n",
    "            if len(diff.dict) > 0:\n",
    "                these_ids.append(diff)\n",
    "        identities[ircombo] = these_ids\n",
    "\n",
    "    # If an equation has only one key, then\n",
    "    # that immediately means that that braket is zero.\n",
    "    if verbose:\n",
    "        msg = \"Finding trivial zeros ...\"\n",
    "        pbar.set_description(msg)\n",
    "        pbar.refresh()\n",
    "        pbar.n += 1\n",
    "    \n",
    "    # first determine which ones have to be zero\n",
    "    better_identities = {irc:[] for irc in identities}\n",
    "    all_zeros = {}\n",
    "    for ircombo in identities:\n",
    "        zeros = []\n",
    "        for identity in identities[ircombo]:\n",
    "            if len(identity.dict) == 1:\n",
    "                zeros.append((list(identity.dict.keys())[0]))\n",
    "            else:\n",
    "                better_identities[ircombo].append(identity)\n",
    "        all_zeros[ircombo] = zeros\n",
    "\n",
    "    # use them to simplify things.\n",
    "    if verbose:\n",
    "        msg = \"Using them to simplify things ...\"\n",
    "        pbar.set_description(msg)\n",
    "        pbar.refresh()\n",
    "        pbar.n += 1\n",
    "    \n",
    "    great_identities = {irc:[] for irc in identities}\n",
    "    for ircombo in better_identities:\n",
    "        for identity in better_identities[ircombo]:\n",
    "            new_qet = Qet({})\n",
    "            for k,v in identity.dict.items():\n",
    "                if k in all_zeros[ircombo]:\n",
    "                    continue\n",
    "                else:\n",
    "                    new_qet+= Qet({k: v})\n",
    "            if len(new_qet.dict) == 0:\n",
    "                continue\n",
    "            great_identities[ircombo].append(new_qet)\n",
    "\n",
    "    # Inside of a four-symbol braket one may do three exchanges\n",
    "    # that must result in the same value. That if the wave\n",
    "    # functions are assumed to be real-valued.\n",
    "    \n",
    "    if verbose:\n",
    "        msg = \"Creating reality identities ...\"\n",
    "        pbar.set_description(msg)\n",
    "        pbar.refresh()\n",
    "        pbar.n += 1\n",
    "    \n",
    "    real_var_simplifiers = {irc:[] for irc in great_identities}\n",
    "    kprimes = set()\n",
    "    # this has to run over all the quadruples of irs\n",
    "    for ir1, ir2, ir3, ir4 in product(*([group.irrep_labels]*4)):\n",
    "        real_var_simplifier = {}\n",
    "        ircombo = (ir1, ir2, ir3, ir4)\n",
    "        components = [component_labels[ir] for ir in ircombo]\n",
    "        for γ1, γ2, γ3, γ4 in product(*components):\n",
    "            k = (γ1, γ2, γ3, γ4)\n",
    "            kalt1 = (γ3, γ2, γ1, γ4)\n",
    "            kalt2 = (γ1, γ4, γ3, γ2)\n",
    "            kalt3 = (γ3, γ4, γ1, γ2)\n",
    "            if kalt1 in kprimes:\n",
    "                real_var_simplifier[k] = kalt1\n",
    "            elif kalt2 in kprimes:\n",
    "                real_var_simplifier[k] = kalt2\n",
    "            elif kalt3 in kprimes:\n",
    "                real_var_simplifier[k] = kalt3\n",
    "            else:\n",
    "                real_var_simplifier[k] = k\n",
    "                kprimes.add(k)\n",
    "        real_var_simplifiers[ircombo] = real_var_simplifier\n",
    "\n",
    "    real_var_full_simplifier = {}\n",
    "    for ircombo in real_var_simplifiers:\n",
    "        real_var_full_simplifier.update(real_var_simplifiers[ircombo])\n",
    "\n",
    "    # For each 4-tuple of irreps\n",
    "    # create a system of symbolic solutions\n",
    "    # and let sympy solve that.\n",
    "    # For each 4-tuple of irreps\n",
    "    # the end result is a dictionary\n",
    "    # whose keys represent the dependent\n",
    "    # brakets and whose values are the\n",
    "    # relation that those dependent values\n",
    "    # have with the independent brakets.\n",
    "    # As such, when these dictionaries are\n",
    "    # used on an expression, everything should\n",
    "    # then be given in terms of indepedent brakets.\n",
    "\n",
    "    if verbose:\n",
    "        msg = \"Solving for independent 4-symbol brakets ...\"\n",
    "        pbar.set_description(msg)\n",
    "        pbar.refresh()\n",
    "        pbar.n += 1\n",
    "    \n",
    "    all_sols = {irc:[] for irc in great_identities}\n",
    "    for ircombo in great_identities:\n",
    "        zeros = all_zeros[ircombo]\n",
    "        problem_vars = list(set(sum([list(identity.dict.keys()) for identity in great_identities[ircombo]],[])))\n",
    "        big_ma = [awe.vec_in_basis(problem_vars) for awe in great_identities[ircombo]] \n",
    "        big_mat = sp.Matrix(big_ma)\n",
    "        big_mat = sp.re(big_mat)+sp.I*sp.im(big_mat)\n",
    "        rref_mat, pivots = big_mat.rref()\n",
    "        num_rows = rref_mat.rows\n",
    "        num_cols = rref_mat.cols\n",
    "        rref_ma_non_zero = [rref_mat[row,:] for row in range(num_rows) if (sum(np.array(rref_mat[row,:])[0] == 0) != num_cols)]\n",
    "        rref_mat_non_zero = sp.Matrix(rref_ma_non_zero)\n",
    "        varvec = sp.Matrix(list(map(composite_symbol,problem_vars)))\n",
    "        eqns = rref_mat_non_zero*varvec\n",
    "        ssol = sp.solve(list(eqns), dict=True)\n",
    "        all_sols[ircombo] = ssol\n",
    "        assert len(ssol) in [0,1]\n",
    "        if len(ssol) == 0:\n",
    "            sol_dict = {}\n",
    "        else:\n",
    "            sol_dict = ssol[0]\n",
    "        zero_addendum = {k:{} for k in all_zeros[ircombo]}\n",
    "        sol_dict = {fourtuplerecovery(k):{fourtuplerecovery(s):v.coeff(s) for s in v.free_symbols} for k,v in sol_dict.items()}\n",
    "        sol_dict.update(zero_addendum)\n",
    "        all_sols[ircombo] = sol_dict\n",
    "\n",
    "    # This final dictionary is unnecessary but\n",
    "    # simplifies calling the replacements onto\n",
    "    # a symbolic expression.\n",
    "    if verbose:\n",
    "        msg = \"Creating a dictionary with all the 4-symbol replacements ...\"\n",
    "        pbar.set_description(msg)\n",
    "        pbar.refresh()\n",
    "        pbar.n += 1\n",
    "    \n",
    "    super_solution = {}\n",
    "    for ircombo in all_sols:\n",
    "        super_solution.update(all_sols[ircombo])\n",
    "\n",
    "    def simplifier(qet):\n",
    "        simp_ket = Qet({})\n",
    "        for k,v in qet.dict.items():\n",
    "            simp_ket += Qet({real_var_full_simplifier[k]:v})\n",
    "        true_qet = Qet({})\n",
    "        for k,v in simp_ket.dict.items():\n",
    "            if k in super_solution:\n",
    "                true_qet += v*Qet(super_solution[k])\n",
    "            else:\n",
    "                true_qet += Qet({k:v})\n",
    "        return true_qet\n",
    "\n",
    "    def simplify_config_matrix(ir1ir2, S, ir3):\n",
    "        config_matrix = config_matrices[ir1ir2][(S,ir3)]\n",
    "        num_rows = len(config_matrix)\n",
    "        simple_matrix = [[simplifier(config_matrix[row][col]) for col in range(num_rows)] for row in range(num_rows)]\n",
    "        return simple_matrix\n",
    "    \n",
    "    if verbose:\n",
    "        msg = \"Simplifying configuration matrices ...\"\n",
    "        pbar.set_description(msg)\n",
    "        pbar.refresh()\n",
    "        pbar.n += 1\n",
    "    \n",
    "    simple_config_matrices = {k:{} for k in config_matrices}\n",
    "    for ir1ir2 in config_matrices.keys():\n",
    "        for term_key in config_matrices[ir1ir2]:\n",
    "            S, Γ3 = term_key\n",
    "            simple_config_matrices[ir1ir2][term_key] = simplify_config_matrix(ir1ir2, S, Γ3)\n",
    "\n",
    "    twotuplerecovery = fourtuplerecovery\n",
    "    if verbose:\n",
    "        msg = \"Creating all 2-symbol identities ...\"\n",
    "        pbar.set_description(msg)\n",
    "        pbar.refresh()\n",
    "        pbar.n += 1\n",
    "\n",
    "    # this   integral_identities  dictionary  will  have  as  keys\n",
    "    # 2-tuples  of  irreps  and  its  values  will  be lists whose\n",
    "    # elements  are  2-tuples whose first elements are 2-tuples of\n",
    "    # irrep  components  and  whose values are qets whose keys are\n",
    "    # 2-tuples  of  irrep components and whose values are numeric.\n",
    "    # These 2-tuples represent a braket with the an invariant operator\n",
    "    # operator in between.\n",
    "\n",
    "    integral_identities_2 = {}\n",
    "    ir_mats = group.irrep_matrices\n",
    "    for ir1, ir2 in product(*([group.irrep_labels]*2)):\n",
    "        # To simplify calculations this part\n",
    "        # can only be done over quadruples in a standard\n",
    "        # order.\n",
    "        # Whatever is missed here is then brough back in\n",
    "        # by the reality relations.\n",
    "        altorder1 = (ir2, ir1, ir1, ir4)\n",
    "        if (altorder1 in integral_identities_2):\n",
    "            continue\n",
    "        integral_identity_sector = []\n",
    "        components = [component_labels[ir] for ir in [ir1, ir2]]\n",
    "        comp_to_idx = [{c: idx for idx, c in enumerate(component_labels[ir])} for ir in [ir1, ir2]]\n",
    "        for R in group.generators + [sp.Symbol('{Ee}')]:\n",
    "            R_id = {}\n",
    "            for γ1, γ2 in product(*components):\n",
    "                for γ1p, γ2p in product(*components):\n",
    "#                         val = sp.conjugate(ir_mats[ir1][R][comp_to_idx[0][γ1],comp_to_idx[0][γ1p]]) *\\\n",
    "#                               ir_mats[ir2][R][comp_to_idx[1][γ2],comp_to_idx[1][γ2p]]\n",
    "                        val = sp.conjugate(ir_mats[ir1][R][comp_to_idx[0][γ1p],comp_to_idx[0][γ1]]) *\\\n",
    "                              ir_mats[ir2][R][comp_to_idx[1][γ2],comp_to_idx[1][γ2p]]\n",
    "                        if val== 0:\n",
    "                            continue\n",
    "                        key = (γ1, γ2)\n",
    "                        if key not in R_id.keys():\n",
    "                            R_id[key] = []\n",
    "                        R_id[key].append( Qet({(γ1p,γ2p): val}) )\n",
    "            R_id_total = [(key, sum(R_id[key], Qet({}))) for key in R_id.keys()]\n",
    "            R_id_total = [q for q in R_id_total if len(q[1].dict)>0]\n",
    "            integral_identity_sector.extend(R_id_total)\n",
    "        integral_identities_2[(ir1,ir2)] = integral_identity_sector\n",
    "\n",
    "    # For solving the linear system it is convenient\n",
    "    # to have everything on one side of the equation.\n",
    "    if verbose:\n",
    "        msg = \"Creating set of 2 symbol identities ...\"\n",
    "        pbar.set_description(msg)\n",
    "        pbar.refresh()\n",
    "        pbar.n += 1\n",
    "    identities_2 = {}\n",
    "    \n",
    "    for ircombo in integral_identities_2:\n",
    "        these_ids = []\n",
    "        for v in integral_identities_2[ircombo]:\n",
    "            lhs, rhs = v\n",
    "            diff = Qet({lhs:1}) - rhs\n",
    "            if len(diff.dict) > 0:\n",
    "                these_ids.append(diff)\n",
    "        identities_2[ircombo] = these_ids\n",
    "\n",
    "    # If an equation has only one term, then\n",
    "    # that immediately means that that term is zero.\n",
    "    if verbose:\n",
    "        msg = \"Finding trivial zeros ...\"\n",
    "        pbar.set_description(msg)\n",
    "        pbar.refresh()\n",
    "        pbar.n += 1\n",
    "    \n",
    "    # first determine which ones have to be zero\n",
    "    better_identities_2 = {irc:[] for irc in identities_2}\n",
    "    all_zeros_2 = {}\n",
    "    for ircombo in identities_2:\n",
    "        zeros = []\n",
    "        for identity in identities_2[ircombo]:\n",
    "            if len(identity.dict) == 1:\n",
    "                zeros.append((list(identity.dict.keys())[0]))\n",
    "            else:\n",
    "                better_identities_2[ircombo].append(identity)\n",
    "        all_zeros_2[ircombo] = zeros\n",
    "\n",
    "    # use them to simplify things.\n",
    "    if verbose:\n",
    "        msg = \"Using them to simplify things ...\"\n",
    "        pbar.set_description(msg)\n",
    "        pbar.refresh()\n",
    "        pbar.n += 1\n",
    "    \n",
    "    great_identities_2 = {irc:[] for irc in identities_2}\n",
    "    for ircombo in better_identities_2:\n",
    "        for identity in better_identities_2[ircombo]:\n",
    "            new_qet = Qet({})\n",
    "            for k,v in identity.dict.items():\n",
    "                if k in all_zeros_2[ircombo]:\n",
    "                    continue\n",
    "                else:\n",
    "                    new_qet+= Qet({k: v})\n",
    "            if len(new_qet.dict) == 0:\n",
    "                continue\n",
    "            great_identities_2[ircombo].append(new_qet)\n",
    "\n",
    "    # Inside of a two-symbol braket one may do three exchanges\n",
    "    # that must result in the same value. That if the wave\n",
    "    # functions are assumed to be real-valued.\n",
    "    if verbose:\n",
    "        msg = \"Creating reality identities ...\"\n",
    "        pbar.set_description(msg)\n",
    "        pbar.refresh()\n",
    "        pbar.n += 1\n",
    "    real_var_simplifiers_2 = {irc:[] for irc in great_identities_2}\n",
    "    # this has to run over all the quadruples of irs\n",
    "    kprimes = set()\n",
    "    for ir1, ir2 in product(*([group.irrep_labels]*2)):\n",
    "        real_var_simplifier = {}\n",
    "        ircombo = (ir1, ir2)\n",
    "        components = [component_labels[ir] for ir in ircombo]\n",
    "        for γ1, γ2 in product(*components):\n",
    "            k = (γ1, γ2)\n",
    "            kalt = (γ2, γ1)\n",
    "            # If for a given key I find that its\n",
    "            # switched version has already been seen\n",
    "            # Then that key has to be mapped to be\n",
    "            # mapped to the key already present.\n",
    "            if kalt in kprimes:\n",
    "                real_var_simplifier[k] = kalt\n",
    "            else:\n",
    "                real_var_simplifier[k] = k\n",
    "                kprimes.add(k)\n",
    "        real_var_simplifiers_2[ircombo] = real_var_simplifier\n",
    "\n",
    "    # For each 2-tuple of irreps\n",
    "    # create a system of symbolic solutions\n",
    "    # and let sympy solve that.\n",
    "    # For each 2-tuple of irreps\n",
    "    # the end result is a dictionary\n",
    "    # whose keys represent the dependent\n",
    "    # brakets and whose values are the\n",
    "    # relation that those dependent values\n",
    "    # have with the independent brakets.\n",
    "    # As such, when these dictionaries are\n",
    "    # used on an expression, everything should\n",
    "    # then be given in terms of indepedent brakets.\n",
    "    if verbose:\n",
    "        msg = \"Solving for independent 2-symbol brakets ...\"\n",
    "        pbar.set_description(msg)\n",
    "        pbar.refresh()\n",
    "        pbar.n += 1\n",
    "    all_sols_2 = {irc:[] for irc in great_identities_2}\n",
    "    \n",
    "    for ircombo in great_identities_2:\n",
    "        zeros = all_zeros_2[ircombo]\n",
    "        problem_vars = list(set(sum([list(identity.dict.keys()) for identity in great_identities_2[ircombo]],[])))\n",
    "        big_ma = [awe.vec_in_basis(problem_vars) for awe in great_identities_2[ircombo]] \n",
    "        big_mat = sp.Matrix(big_ma)\n",
    "        big_mat = sp.re(big_mat)+sp.I*sp.im(big_mat)\n",
    "        rref_mat, pivots = big_mat.rref()\n",
    "        num_rows = rref_mat.rows\n",
    "        num_cols = rref_mat.cols\n",
    "        rref_ma_non_zero = [rref_mat[row,:] for row in range(num_rows) if (sum(np.array(rref_mat[row,:])[0] == 0) != num_cols)]\n",
    "        rref_mat_non_zero = sp.Matrix(rref_ma_non_zero)\n",
    "        varvec = sp.Matrix(list(map(composite_symbol,problem_vars)))\n",
    "        eqns = rref_mat_non_zero*varvec\n",
    "        ssol = sp.solve(list(eqns), dict=True)\n",
    "        all_sols[ircombo] = ssol\n",
    "        assert len(ssol) in [0,1]\n",
    "        if len(ssol) == 0:\n",
    "            sol_dict = {}\n",
    "        else:\n",
    "            sol_dict = ssol[0]\n",
    "        zero_addendum = {k:{} for k in all_zeros_2[ircombo]}\n",
    "        sol_dict = {twotuplerecovery(k):{twotuplerecovery(s):v.coeff(s) for s in v.free_symbols} for k,v in sol_dict.items()}\n",
    "        sol_dict.update(zero_addendum)\n",
    "        all_sols_2[ircombo] = sol_dict\n",
    "\n",
    "    # This final dictionary is unnecessary but\n",
    "    # simplifies calling the replacements onto\n",
    "    # a symbolic expression.\n",
    "    if verbose:\n",
    "        msg = \"Creating a dictionary with all the 2-symbol replacements ...\"\n",
    "        pbar.set_description(msg)\n",
    "        pbar.refresh()\n",
    "        pbar.n += 1\n",
    "    \n",
    "    super_solution_2 = {}\n",
    "    for ircombo in all_sols_2:\n",
    "        super_solution_2.update(all_sols_2[ircombo])\n",
    "\n",
    "    # for a given electron config\n",
    "    more_ids = {e_config:[] for e_config in simple_config_matrices}\n",
    "    for e_config in simple_config_matrices:\n",
    "        for term in simple_config_matrices[e_config]:\n",
    "            the_matrix = simple_config_matrices[e_config][term]\n",
    "            num_rows = len(the_matrix)\n",
    "            num_cols = len(the_matrix)\n",
    "            the_state_keys = config_supplement[e_config][term]\n",
    "            the_key_matrix = {}\n",
    "            for row_idx in range(num_rows):\n",
    "                Γ3_row = the_state_keys[row_idx][2]\n",
    "                γ3_row = the_state_keys[row_idx][3]\n",
    "                for col_idx in range(num_cols):\n",
    "                    Γ3_col = the_state_keys[col_idx][2]\n",
    "                    γ3_col = the_state_keys[col_idx][3]\n",
    "                    matrix_val = the_matrix[row_idx][col_idx]\n",
    "                    the_key_matrix[(γ3_row,γ3_col)] = matrix_val\n",
    "            # now go over the keys of super_solution_2\n",
    "            # and if one of those keys matches with a key in the_key_matrix\n",
    "            # do something about it\n",
    "            for k in super_solution_2:\n",
    "                if k in the_key_matrix:\n",
    "                    v = super_solution_2[k]\n",
    "                    # this matrix element\n",
    "                    matrix_element = the_key_matrix[k]\n",
    "                    # must be identified with the sum\n",
    "                    # as given in v\n",
    "                    matrix_equiv = sum([kv*the_key_matrix[km] for km, kv in v.items()],Qet({}))\n",
    "                    identity = (matrix_element - matrix_equiv) #=0\n",
    "                    if len(identity.dict) != 0:\n",
    "                        more_ids[e_config].append(identity)\n",
    "                        problem_vars = list(set(sum([list(identity.dict.keys()) for identity in more_ids[e_config]],[])))\n",
    "    if verbose:\n",
    "        msg = \"Simplifying numeric values of qets ...\"\n",
    "        pbar.set_description(msg)\n",
    "        pbar.refresh()\n",
    "        pbar.n += 1\n",
    "    \n",
    "    more_ids = {e_config:list(filter(lambda x: len(x.dict) > 0,list(map(simplify_qet,more_ids[e_config])))) for e_config in more_ids}\n",
    "    \n",
    "    if verbose:\n",
    "        msg = \"Solving for dependent vars in terms of independent ones ...\"\n",
    "        pbar.set_description(msg)\n",
    "        pbar.refresh()\n",
    "        pbar.n += 1\n",
    "    \n",
    "    all_sols_2_4 = {irc:[] for irc in more_ids}\n",
    "    \n",
    "    for e_config in more_ids:\n",
    "        problem_vars = list(set(sum([list(identity.dict.keys()) for identity in more_ids[e_config]],[])))\n",
    "        big_ma = [awe.vec_in_basis(problem_vars) for awe in more_ids[e_config]] \n",
    "        big_mat = sp.Matrix(big_ma)\n",
    "        big_mat = sp.re(big_mat)+sp.I*sp.im(big_mat)\n",
    "        rref_mat, pivots = big_mat.rref()\n",
    "        num_rows = rref_mat.rows\n",
    "        num_cols = rref_mat.cols\n",
    "        rref_ma_non_zero = [rref_mat[row,:] for row in range(num_rows) if (sum(np.array(rref_mat[row,:])[0] == 0) != num_cols)]\n",
    "        rref_mat_non_zero = sp.Matrix(rref_ma_non_zero)\n",
    "        varvec = sp.Matrix(list(map(composite_symbol, problem_vars)))\n",
    "        eqns = rref_mat_non_zero*varvec\n",
    "        ssol = sp.solve(list(eqns), dict=True)\n",
    "        all_sols_2_4[e_config] = ssol\n",
    "        assert len(ssol) in [0,1]\n",
    "        if len(ssol) == 0:\n",
    "            sol_dict = {}\n",
    "        else:\n",
    "            sol_dict = ssol[0]\n",
    "        sol_dict = {twotuplerecovery(k):{twotuplerecovery(s):v.coeff(s) for s in v.free_symbols} for k,v in sol_dict.items()}\n",
    "        all_sols_2_4[e_config] = sol_dict\n",
    "\n",
    "    # flatten into a single dictionary of replacements\n",
    "    fab_solution_2_4 = {}\n",
    "    for e_config in all_sols_2_4:\n",
    "        fab_solution_2_4.update(all_sols_2_4[e_config])\n",
    "    if verbose:\n",
    "        msg = \"There are %d less independent variables ...\"\n",
    "        pbar.set_description(\"There are %d less independent variables ...\" % len(fab_solution_2_4))\n",
    "        pbar.refresh()\n",
    "        pbar.n += 1\n",
    "    \n",
    "    def simplifier_f(qet):\n",
    "        true_qet = Qet({})\n",
    "        for k,v in qet.dict.items():\n",
    "            if k in fab_solution_2_4:\n",
    "                true_qet += v*Qet(fab_solution_2_4[k])\n",
    "            else:\n",
    "                true_qet += Qet({k:v})\n",
    "        return true_qet\n",
    "    \n",
    "    def simplify_config_matrix_f(ir1ir2, S, ir3):\n",
    "        config_matrix = simple_config_matrices[ir1ir2][(S,ir3)]\n",
    "        num_rows = len(config_matrix)\n",
    "        simple_matrix = [[simplifier_f(config_matrix[row][col]) for col in range(num_rows)] for row in range(num_rows)]\n",
    "        #simple_matrix = sp.Matrix(simple_matrix)\n",
    "        return simple_matrix\n",
    "    \n",
    "    if verbose:\n",
    "        msg = \"Making final simplifications ...\"\n",
    "        pbar.set_description(msg)\n",
    "        pbar.refresh()\n",
    "        pbar.n += 1\n",
    "    \n",
    "    final_config_matrices = {k:{} for k in config_matrices}\n",
    "    for ir1ir2 in config_matrices.keys():\n",
    "        for term_key in config_matrices[ir1ir2]:\n",
    "            S, Γ3 = term_key\n",
    "            final_config_matrices[ir1ir2][term_key] = simplify_config_matrix_f(ir1ir2, S, Γ3)\n",
    "    \n",
    "    if verbose:\n",
    "        msg = \"Finished\"\n",
    "        pbar.set_description(msg)\n",
    "        pbar.refresh()\n",
    "    \n",
    "    return final_config_matrices"
   ]
  },
  {
   "cell_type": "code",
   "execution_count": 253,
   "id": "6cc674c0-54e4-44e5-b1e1-c813038902a1",
   "metadata": {
    "tags": []
   },
   "outputs": [
    {
     "data": {
      "text/html": [
       "<pre>✔️ 22.4 s (2021-11-19T19:00:29/2021-11-19T19:00:51)</pre>"
      ],
      "text/plain": [
       "<IPython.core.display.HTML object>"
      ]
     },
     "metadata": {},
     "output_type": "display_data"
    },
    {
     "data": {
      "application/vnd.jupyter.widget-view+json": {
       "model_id": "0c12e83b32b24f1e863023562fcac229",
       "version_major": 2,
       "version_minor": 0
      },
      "text/plain": [
       "(0/19) [00:00] "
      ]
     },
     "metadata": {},
     "output_type": "display_data"
    }
   ],
   "source": [
    "Th = term_energies('T_{h}')"
   ]
  },
  {
   "cell_type": "code",
   "execution_count": 254,
   "id": "ea1c422c-1fe1-43ad-b942-c44f5bba8f36",
   "metadata": {},
   "outputs": [
    {
     "data": {
      "text/html": [
       "<pre>✔️ 4.63 ms (2021-11-19T19:00:53/2021-11-19T19:00:53)</pre>"
      ],
      "text/plain": [
       "<IPython.core.display.HTML object>"
      ]
     },
     "metadata": {},
     "output_type": "display_data"
    },
    {
     "name": "stdout",
     "output_type": "stream",
     "text": [
      "x\n",
      "e_{u}^1*t_{g}\n"
     ]
    }
   ],
   "source": [
    "for k in Th.keys():\n",
    "    if 'e_{u}^1' in sp.latex(k):\n",
    "        if 't_{g}' in sp.latex(k):\n",
    "            print(\"x\")\n",
    "            print(k)\n",
    "            break"
   ]
  },
  {
   "cell_type": "code",
   "execution_count": 255,
   "id": "83261bea-5d26-4a4b-87f5-460c93532834",
   "metadata": {
    "collapsed": true,
    "jupyter": {
     "outputs_hidden": true
    },
    "tags": []
   },
   "outputs": [
    {
     "data": {
      "text/html": [
       "<pre>✔️ 10.8 ms (2021-11-19T19:00:56/2021-11-19T19:00:56)</pre>"
      ],
      "text/plain": [
       "<IPython.core.display.HTML object>"
      ]
     },
     "metadata": {},
     "output_type": "display_data"
    },
    {
     "data": {
      "text/plain": [
       "[[Qet({}),\n",
       "  Qet({}),\n",
       "  Qet({}),\n",
       "  Qet({}),\n",
       "  Qet({}),\n",
       "  Qet({}),\n",
       "  Qet({}),\n",
       "  Qet({}),\n",
       "  Qet({})],\n",
       " [Qet({}),\n",
       "  Qet({}),\n",
       "  Qet({}),\n",
       "  Qet({}),\n",
       "  Qet({}),\n",
       "  Qet({}),\n",
       "  Qet({}),\n",
       "  Qet({}),\n",
       "  Qet({})],\n",
       " [Qet({}),\n",
       "  Qet({}),\n",
       "  Qet({}),\n",
       "  Qet({}),\n",
       "  Qet({}),\n",
       "  Qet({}),\n",
       "  Qet({}),\n",
       "  Qet({}),\n",
       "  Qet({})],\n",
       " [Qet({}),\n",
       "  Qet({}),\n",
       "  Qet({}),\n",
       "  Qet({}),\n",
       "  Qet({}),\n",
       "  Qet({}),\n",
       "  Qet({}),\n",
       "  Qet({}),\n",
       "  Qet({})],\n",
       " [Qet({}),\n",
       "  Qet({}),\n",
       "  Qet({}),\n",
       "  Qet({}),\n",
       "  Qet({}),\n",
       "  Qet({}),\n",
       "  Qet({}),\n",
       "  Qet({}),\n",
       "  Qet({})],\n",
       " [Qet({}),\n",
       "  Qet({}),\n",
       "  Qet({}),\n",
       "  Qet({}),\n",
       "  Qet({}),\n",
       "  Qet({}),\n",
       "  Qet({}),\n",
       "  Qet({}),\n",
       "  Qet({})],\n",
       " [Qet({}),\n",
       "  Qet({}),\n",
       "  Qet({}),\n",
       "  Qet({}),\n",
       "  Qet({}),\n",
       "  Qet({}),\n",
       "  Qet({}),\n",
       "  Qet({}),\n",
       "  Qet({})],\n",
       " [Qet({}),\n",
       "  Qet({}),\n",
       "  Qet({}),\n",
       "  Qet({}),\n",
       "  Qet({}),\n",
       "  Qet({}),\n",
       "  Qet({}),\n",
       "  Qet({}),\n",
       "  Qet({})],\n",
       " [Qet({}),\n",
       "  Qet({}),\n",
       "  Qet({}),\n",
       "  Qet({}),\n",
       "  Qet({}),\n",
       "  Qet({}),\n",
       "  Qet({}),\n",
       "  Qet({}),\n",
       "  Qet({})]]"
      ]
     },
     "execution_count": 255,
     "metadata": {},
     "output_type": "execute_result"
    }
   ],
   "source": [
    "Th[k][(1,sp.Symbol('T_{u}'))]#[0][0].as_braket()"
   ]
  },
  {
   "cell_type": "code",
   "execution_count": 256,
   "id": "9b68b858-cb41-4596-8c6c-d1c9f474cca8",
   "metadata": {
    "tags": []
   },
   "outputs": [
    {
     "data": {
      "text/html": [
       "<pre>✔️ 8 min 55 s (2021-11-19T19:01:07/2021-11-19T19:10:03)</pre>"
      ],
      "text/plain": [
       "<IPython.core.display.HTML object>"
      ]
     },
     "metadata": {},
     "output_type": "display_data"
    },
    {
     "data": {
      "application/vnd.jupyter.widget-view+json": {
       "model_id": "ad1f8a0c8d9c4de89ecb94e3acb90b63",
       "version_major": 2,
       "version_minor": 0
      },
      "text/plain": [
       "(0/19) [00:00] "
      ]
     },
     "metadata": {},
     "output_type": "display_data"
    },
    {
     "data": {
      "application/vnd.jupyter.widget-view+json": {
       "model_id": "d7d6d8111c6547429f5239de6015db64",
       "version_major": 2,
       "version_minor": 0
      },
      "text/plain": [
       "(0/19) [00:00] "
      ]
     },
     "metadata": {},
     "output_type": "display_data"
    },
    {
     "data": {
      "application/vnd.jupyter.widget-view+json": {
       "model_id": "37353d37adf14a628598288c6860b791",
       "version_major": 2,
       "version_minor": 0
      },
      "text/plain": [
       "(0/19) [00:00] "
      ]
     },
     "metadata": {},
     "output_type": "display_data"
    },
    {
     "data": {
      "application/vnd.jupyter.widget-view+json": {
       "model_id": "52963eae4682482ea9d0b8d045ef420f",
       "version_major": 2,
       "version_minor": 0
      },
      "text/plain": [
       "(0/19) [00:00] "
      ]
     },
     "metadata": {},
     "output_type": "display_data"
    },
    {
     "data": {
      "application/vnd.jupyter.widget-view+json": {
       "model_id": "bf17fdae163443a2a21b4ab476125737",
       "version_major": 2,
       "version_minor": 0
      },
      "text/plain": [
       "(0/19) [00:00] "
      ]
     },
     "metadata": {},
     "output_type": "display_data"
    },
    {
     "data": {
      "application/vnd.jupyter.widget-view+json": {
       "model_id": "f439d4c51d8f499a933613ad9882d982",
       "version_major": 2,
       "version_minor": 0
      },
      "text/plain": [
       "(0/19) [00:00] "
      ]
     },
     "metadata": {},
     "output_type": "display_data"
    },
    {
     "data": {
      "application/vnd.jupyter.widget-view+json": {
       "model_id": "97df20d5e25a43b7af83b777151378e8",
       "version_major": 2,
       "version_minor": 0
      },
      "text/plain": [
       "(0/19) [00:00] "
      ]
     },
     "metadata": {},
     "output_type": "display_data"
    },
    {
     "data": {
      "application/vnd.jupyter.widget-view+json": {
       "model_id": "30777743e119478da9851f2c63728fde",
       "version_major": 2,
       "version_minor": 0
      },
      "text/plain": [
       "(0/19) [00:00] "
      ]
     },
     "metadata": {},
     "output_type": "display_data"
    },
    {
     "data": {
      "application/vnd.jupyter.widget-view+json": {
       "model_id": "809c0380be5a4a5b866a4d2c80fb6828",
       "version_major": 2,
       "version_minor": 0
      },
      "text/plain": [
       "(0/19) [00:00] "
      ]
     },
     "metadata": {},
     "output_type": "display_data"
    },
    {
     "data": {
      "application/vnd.jupyter.widget-view+json": {
       "model_id": "ed1084cbc9e3499cb819955d57c78d9b",
       "version_major": 2,
       "version_minor": 0
      },
      "text/plain": [
       "(0/19) [00:00] "
      ]
     },
     "metadata": {},
     "output_type": "display_data"
    },
    {
     "data": {
      "application/vnd.jupyter.widget-view+json": {
       "model_id": "cd149c6c70d84a9cb211dc1d264e71db",
       "version_major": 2,
       "version_minor": 0
      },
      "text/plain": [
       "(0/19) [00:00] "
      ]
     },
     "metadata": {},
     "output_type": "display_data"
    },
    {
     "data": {
      "application/vnd.jupyter.widget-view+json": {
       "model_id": "ea4c68f8091c460cb40b795ae4ae4803",
       "version_major": 2,
       "version_minor": 0
      },
      "text/plain": [
       "(0/19) [00:00] "
      ]
     },
     "metadata": {},
     "output_type": "display_data"
    },
    {
     "data": {
      "application/vnd.jupyter.widget-view+json": {
       "model_id": "5ceff9efeb59429da656a18643af688e",
       "version_major": 2,
       "version_minor": 0
      },
      "text/plain": [
       "(0/19) [00:00] "
      ]
     },
     "metadata": {},
     "output_type": "display_data"
    },
    {
     "data": {
      "application/vnd.jupyter.widget-view+json": {
       "model_id": "b2640cc8a28b4262be154a7f4165a84c",
       "version_major": 2,
       "version_minor": 0
      },
      "text/plain": [
       "(0/19) [00:00] "
      ]
     },
     "metadata": {},
     "output_type": "display_data"
    },
    {
     "data": {
      "application/vnd.jupyter.widget-view+json": {
       "model_id": "dd1981fb3d034decaeeaabc7df8513ed",
       "version_major": 2,
       "version_minor": 0
      },
      "text/plain": [
       "(0/19) [00:00] "
      ]
     },
     "metadata": {},
     "output_type": "display_data"
    },
    {
     "data": {
      "application/vnd.jupyter.widget-view+json": {
       "model_id": "1c4f2031b417465da4d05432193b64d2",
       "version_major": 2,
       "version_minor": 0
      },
      "text/plain": [
       "(0/19) [00:00] "
      ]
     },
     "metadata": {},
     "output_type": "display_data"
    },
    {
     "data": {
      "application/vnd.jupyter.widget-view+json": {
       "model_id": "ec1b126f178f40d684c305aabd23b1f0",
       "version_major": 2,
       "version_minor": 0
      },
      "text/plain": [
       "(0/19) [00:00] "
      ]
     },
     "metadata": {},
     "output_type": "display_data"
    },
    {
     "data": {
      "application/vnd.jupyter.widget-view+json": {
       "model_id": "376bd57a15464fa7adcd9a00837f8ec0",
       "version_major": 2,
       "version_minor": 0
      },
      "text/plain": [
       "(0/19) [00:00] "
      ]
     },
     "metadata": {},
     "output_type": "display_data"
    },
    {
     "data": {
      "application/vnd.jupyter.widget-view+json": {
       "model_id": "33f45c8eabd3436ba6b399abb4187e7a",
       "version_major": 2,
       "version_minor": 0
      },
      "text/plain": [
       "(0/19) [00:00] "
      ]
     },
     "metadata": {},
     "output_type": "display_data"
    },
    {
     "data": {
      "application/vnd.jupyter.widget-view+json": {
       "model_id": "4ead4a08b3d244de85e46ea2cad411eb",
       "version_major": 2,
       "version_minor": 0
      },
      "text/plain": [
       "(0/19) [00:00] "
      ]
     },
     "metadata": {},
     "output_type": "display_data"
    },
    {
     "data": {
      "application/vnd.jupyter.widget-view+json": {
       "model_id": "c878a20c71e74782b09b9bee568c63f8",
       "version_major": 2,
       "version_minor": 0
      },
      "text/plain": [
       "(0/19) [00:00] "
      ]
     },
     "metadata": {},
     "output_type": "display_data"
    },
    {
     "data": {
      "application/vnd.jupyter.widget-view+json": {
       "model_id": "522a7b6ed4ff46e1bf4f5b3ecffa0c83",
       "version_major": 2,
       "version_minor": 0
      },
      "text/plain": [
       "(0/19) [00:00] "
      ]
     },
     "metadata": {},
     "output_type": "display_data"
    },
    {
     "data": {
      "application/vnd.jupyter.widget-view+json": {
       "model_id": "5627da97ffd64fa3a4dd89a7194094e3",
       "version_major": 2,
       "version_minor": 0
      },
      "text/plain": [
       "(0/19) [00:00] "
      ]
     },
     "metadata": {},
     "output_type": "display_data"
    },
    {
     "data": {
      "application/vnd.jupyter.widget-view+json": {
       "model_id": "9cfa1e19a3ae45c08a25a706f3984c59",
       "version_major": 2,
       "version_minor": 0
      },
      "text/plain": [
       "(0/19) [00:00] "
      ]
     },
     "metadata": {},
     "output_type": "display_data"
    },
    {
     "data": {
      "application/vnd.jupyter.widget-view+json": {
       "model_id": "2d0caec0fda44f62a0f84bf14f2f74fd",
       "version_major": 2,
       "version_minor": 0
      },
      "text/plain": [
       "(0/19) [00:00] "
      ]
     },
     "metadata": {},
     "output_type": "display_data"
    },
    {
     "data": {
      "application/vnd.jupyter.widget-view+json": {
       "model_id": "98c2192384544585a3bc0a19dcf07dbb",
       "version_major": 2,
       "version_minor": 0
      },
      "text/plain": [
       "(0/19) [00:00] "
      ]
     },
     "metadata": {},
     "output_type": "display_data"
    },
    {
     "data": {
      "application/vnd.jupyter.widget-view+json": {
       "model_id": "8b8b0bbf72044cbc9a02b936800a8157",
       "version_major": 2,
       "version_minor": 0
      },
      "text/plain": [
       "(0/19) [00:00] "
      ]
     },
     "metadata": {},
     "output_type": "display_data"
    },
    {
     "data": {
      "application/vnd.jupyter.widget-view+json": {
       "model_id": "4d33a39973204ca9aa7d69c6b9599f1e",
       "version_major": 2,
       "version_minor": 0
      },
      "text/plain": [
       "(0/19) [00:00] "
      ]
     },
     "metadata": {},
     "output_type": "display_data"
    },
    {
     "data": {
      "application/vnd.jupyter.widget-view+json": {
       "model_id": "91adb1474ce2470a8127b22f268d7bae",
       "version_major": 2,
       "version_minor": 0
      },
      "text/plain": [
       "(0/19) [00:00] "
      ]
     },
     "metadata": {},
     "output_type": "display_data"
    },
    {
     "data": {
      "application/vnd.jupyter.widget-view+json": {
       "model_id": "d7a1d49f2524440386cd2ff157b78a98",
       "version_major": 2,
       "version_minor": 0
      },
      "text/plain": [
       "(0/19) [00:00] "
      ]
     },
     "metadata": {},
     "output_type": "display_data"
    },
    {
     "data": {
      "application/vnd.jupyter.widget-view+json": {
       "model_id": "bff4a4fefe9a41b58d3adb90bb6e6867",
       "version_major": 2,
       "version_minor": 0
      },
      "text/plain": [
       "(0/19) [00:00] "
      ]
     },
     "metadata": {},
     "output_type": "display_data"
    },
    {
     "data": {
      "application/vnd.jupyter.widget-view+json": {
       "model_id": "540dafeb53044310bcf9a58bbf36ee5c",
       "version_major": 2,
       "version_minor": 0
      },
      "text/plain": [
       "(0/19) [00:00] "
      ]
     },
     "metadata": {},
     "output_type": "display_data"
    }
   ],
   "source": [
    "all_term_energies = {}\n",
    "for group_label in CPGs.all_group_labels:\n",
    "    if group_label in all_term_energies:\n",
    "        continue\n",
    "    final_config_matrices = term_energies(group_label)\n",
    "#     print(\"Printing ...\")\n",
    "#     for counter, ir1ir2 in enumerate(final_config_matrices):\n",
    "#         print('-'*10)\n",
    "#         display(ir1ir2)\n",
    "#         for term_key in final_config_matrices[ir1ir2]:\n",
    "#             display(term_key)\n",
    "#             display(sp.Matrix([[el.as_braket() for el in row] for row in final_config_matrices[ir1ir2][term_key]]))\n",
    "#     print(\"Saving ...\")\n",
    "    all_term_energies[group_label] = final_config_matrices"
   ]
  },
  {
   "cell_type": "code",
   "execution_count": 257,
   "id": "d565ce80-cf01-4d7e-a950-f86eb234e38b",
   "metadata": {},
   "outputs": [
    {
     "data": {
      "text/html": [
       "<pre>✔️ 1.02 ms (2021-11-19T19:10:03/2021-11-19T19:10:03)</pre>"
      ],
      "text/plain": [
       "<IPython.core.display.HTML object>"
      ]
     },
     "metadata": {},
     "output_type": "display_data"
    }
   ],
   "source": [
    "def simplify_qet_values(qet):\n",
    "    sqetdict = {k:sp.simplify(v) for k,v in qet.dict.items()}\n",
    "    return Qet(sqetdict)"
   ]
  },
  {
   "cell_type": "code",
   "execution_count": 258,
   "id": "4f3d725f-48c2-451a-b7d4-cf5b5202ea05",
   "metadata": {},
   "outputs": [
    {
     "data": {
      "text/html": [
       "<pre>✔️ 357 ms (2021-11-19T19:10:03/2021-11-19T19:10:04)</pre>"
      ],
      "text/plain": [
       "<IPython.core.display.HTML object>"
      ]
     },
     "metadata": {},
     "output_type": "display_data"
    }
   ],
   "source": [
    "term_energies_for_printout = {}\n",
    "for group_label, term_energies in all_term_energies.items():\n",
    "    for e_config, terms  in term_energies.items():\n",
    "        for term_key, term_matrix in terms.items():\n",
    "            term_energy = term_matrix[0][0]\n",
    "            term_energy = simplify_qet_values(term_energy)\n",
    "            term_energies_for_printout[(group_label, e_config, term_key)] = term_energy\n",
    "#             out = sp.simplify(term_energy.as_braket())\n",
    "#             if len(sp.latex(out))> 200:\n",
    "#                 if 'sqrt' in sp.latex(out) and 'i' in sp.latex(out):\n",
    "#                     display(term_key)\n",
    "#                     display(sp.simplify(term_energy.as_braket()))"
   ]
  },
  {
   "cell_type": "code",
   "execution_count": 259,
   "id": "a2b5aa60-26a7-4993-b44c-063429e2535f",
   "metadata": {},
   "outputs": [
    {
     "data": {
      "text/html": [
       "<pre>✔️ 75.1 ms (2021-11-19T19:10:04/2021-11-19T19:10:04)</pre>"
      ],
      "text/plain": [
       "<IPython.core.display.HTML object>"
      ]
     },
     "metadata": {},
     "output_type": "display_data"
    }
   ],
   "source": [
    "pickle.dump(term_energies_for_printout, open('./data/term_energies_for_print_alt.pkl','wb'))"
   ]
  },
  {
   "cell_type": "code",
   "execution_count": 260,
   "id": "1cde115f-2d24-4e80-b6b4-aeb46229ecfd",
   "metadata": {},
   "outputs": [
    {
     "data": {
      "text/html": [
       "<pre>✔️ 6.19 s (2021-11-19T19:10:04/2021-11-19T19:10:10)</pre>"
      ],
      "text/plain": [
       "<IPython.core.display.HTML object>"
      ]
     },
     "metadata": {},
     "output_type": "display_data"
    }
   ],
   "source": [
    "!beep"
   ]
  },
  {
   "cell_type": "markdown",
   "id": "a489d398-c09e-467f-9cb0-9c00c9d2760b",
   "metadata": {
    "heading_collapsed": "true",
    "tags": []
   },
   "source": [
    "#### All-groups"
   ]
  },
  {
   "cell_type": "code",
   "execution_count": 3,
   "id": "c3632811-3b8e-44be-bdd3-df3bc6957eae",
   "metadata": {},
   "outputs": [
    {
     "data": {
      "text/html": [
       "<pre>✔️ 3.18 ms (2021-11-21T14:03:59/2021-11-21T14:03:59)</pre>"
      ],
      "text/plain": [
       "<IPython.core.display.HTML object>"
      ]
     },
     "metadata": {},
     "output_type": "display_data"
    }
   ],
   "source": [
    "from tqdm.notebook import tqdm"
   ]
  },
  {
   "cell_type": "code",
   "execution_count": 17,
   "id": "17629c79-dd0e-4edd-a4aa-c468a89bc67e",
   "metadata": {
    "tags": []
   },
   "outputs": [
    {
     "data": {
      "text/html": [
       "<pre>✔️ 21.8 ms (2021-11-21T14:23:51/2021-11-21T14:23:51)</pre>"
      ],
      "text/plain": [
       "<IPython.core.display.HTML object>"
      ]
     },
     "metadata": {},
     "output_type": "display_data"
    }
   ],
   "source": [
    "def simplify_qet(qet):\n",
    "    new_dict = {k:sp.simplify(v) for k,v in qet.dict.items()}\n",
    "    return Qet(new_dict)\n",
    "def term_energies(group_label, verbose=True):\n",
    "    stages = 19 # this is how many distinct parts this algorithm has\n",
    "    if verbose:\n",
    "        pbar = tqdm(range(stages), bar_format='({n:d}/{total:d}) [{elapsed}] {desc}')\n",
    "    terms = twoe_terms[group_label]\n",
    "    group = CPGs.get_group_by_label(group_label)\n",
    "    component_labels = {k:list(v.values()) for k,v in new_labels[group_label].items()}\n",
    "    # for a given set of terms\n",
    "    # split all the enclosed states\n",
    "    # in groups of electron configurations\n",
    "    configs = {}\n",
    "    config_supplement = {}\n",
    "    for term_key, term in terms.items():\n",
    "        for state_key, state in zip(term.state_keys, term.states):\n",
    "            (Γ1, Γ2, Γ3, γ3, S, mSz) = state_key\n",
    "            α = sp.Symbol(sp.latex(Γ1).lower())*sp.Symbol(sp.latex(Γ2).lower())\n",
    "            if α not in configs.keys():\n",
    "                configs[α] = {}\n",
    "                config_supplement[α] = {}\n",
    "            if (S,Γ3) not in configs[α].keys():\n",
    "                configs[α][(S,Γ3)] = []\n",
    "                config_supplement[α][(S,Γ3)] = []\n",
    "            configs[α][(S,Γ3)].append(state)\n",
    "            config_supplement[α][(S,Γ3)].append(state_key)\n",
    "\n",
    "    def overlinesqueegee(s):\n",
    "        '''\n",
    "        Going back from the overline shorthand for spin down,\n",
    "        acting on a single set of quantum numbers.\n",
    "        '''\n",
    "        if 'overline' in str(s):\n",
    "            spin = -sp.S(1)/2\n",
    "            comp = sp.Symbol(str(s).replace('\\\\overline{','')[:-1])\n",
    "        else:\n",
    "            spin = sp.S(1)/2\n",
    "            comp = s\n",
    "        return (comp, spin)\n",
    "    def spin_restoration(qet):\n",
    "        '''\n",
    "        Going back from the overline shorthand for spin down,\n",
    "        acting on a qet.\n",
    "        '''\n",
    "        new_dict = {}\n",
    "        for k,v in qet.dict.items():\n",
    "            k = (*overlinesqueegee(k[0]),*overlinesqueegee(k[1]))\n",
    "            new_dict[k] = v\n",
    "        return Qet(new_dict)\n",
    "\n",
    "    # within each configuration\n",
    "    config_matrices = {}\n",
    "    for config in configs.keys():\n",
    "        # display(config)\n",
    "        # within each term\n",
    "        term_matrices = {}\n",
    "        for term_key, states in configs[config].items():\n",
    "            # find the brackets between all possible pairs of states\n",
    "            ham_matrix = []\n",
    "            for state0 in states:\n",
    "                ham_row = []\n",
    "                state0 = spin_restoration(state0)\n",
    "                for state1 in states:\n",
    "                    # recover the spin for the determinantal states\n",
    "                    pstate = state1\n",
    "                    state1 = spin_restoration(state1)\n",
    "                    # determine the det braket between these two states (an operator in between is assumed and omitted)\n",
    "                    detbraket = state0*state1\n",
    "                    # simplify this braket of detstates into brakets between regular states\n",
    "                    regbraket = Qet({})\n",
    "                    for k,v in detbraket.dict.items():\n",
    "                        γ1, m1, γ2, m2, γ1p, m1p, γ2p, m2p = k\n",
    "                        # k0 = (γ1, m1, γ2, m2, γ1p, m1p, γ2p, m2p)\n",
    "                        # k1 = (γ1, m1, γ2, m2, γ2p, m2p, γ1p, m1p)\n",
    "                        k0 = (γ1, γ2, γ1p, γ2p)\n",
    "                        k1 = (γ1, γ2, γ2p, γ1p)\n",
    "                        # enforce orthogonality wrt. spin\n",
    "                        if (m1 == m1p) and (m2 == m2p):\n",
    "                            qplus = Qet({k0:v}) \n",
    "                        else:\n",
    "                            qplus = Qet({})\n",
    "                        if (m1 == m2p) and (m2 == m1p):\n",
    "                            qminus = Qet({k1:-v}) \n",
    "                        else:\n",
    "                            qminus = Qet({})\n",
    "                        regbraket += (qplus+qminus)\n",
    "                    ham_row.append(regbraket)\n",
    "                ham_matrix.append(ham_row)\n",
    "            term_matrices[term_key] = ham_matrix\n",
    "        config_matrices[config] = term_matrices\n",
    "\n",
    "    def composite_symbol(x):\n",
    "        return sp.Symbol('(%s)'%(','.join(list(map(sp.latex,x)))))\n",
    "    def fourtuplerecovery(ft):\n",
    "        '''the inverse of composite_symbol'''\n",
    "        return tuple(map(sp.Symbol,sp.latex(ft)[1:-1].split(',')))\n",
    "    \n",
    "    if verbose:\n",
    "        msg = \"Creating all 4-symbol identities ...\"\n",
    "        pbar.set_description(msg)\n",
    "        pbar.refresh()\n",
    "        pbar.n += 1\n",
    "\n",
    "    # this   integral_identities  dictionary  will  have  as  keys\n",
    "    # 4-tuples  of  irreps  and  its  values  will  be lists whose\n",
    "    # elements  are  2-tuples whose first elements are 4-tuples of\n",
    "    # irrep  components  and  whose values are qets whose keys are\n",
    "    # 4-tuples  of  irrep components and whose values are numeric.\n",
    "    # These 4-tuples represent a braket with the Coulomb repulsion\n",
    "    # operator in between.\n",
    "\n",
    "    integral_identities = {}\n",
    "    ir_mats = group.irrep_matrices\n",
    "    for ir1, ir2, ir3, ir4 in product(*([group.irrep_labels]*4)):\n",
    "        # To simplify calculations this part\n",
    "        # may only be done over quadruples in a standard\n",
    "        # order.\n",
    "        # Whatever is missed here is then brough back in\n",
    "        # by the reality relations.\n",
    "        altorder1 = (ir3, ir2, ir1, ir4)\n",
    "        altorder2 = (ir1, ir4, ir3, ir2)\n",
    "        altorder3 = (ir3, ir4, ir1, ir2)\n",
    "        if (altorder1 in integral_identities) or\\\n",
    "           (altorder2 in integral_identities) or\\\n",
    "           (altorder3 in integral_identities):\n",
    "            continue\n",
    "        integral_identity_sector = []\n",
    "        components = [component_labels[ir] for ir in [ir1, ir2, ir3, ir4]]\n",
    "        comp_to_idx = [{c: idx for idx, c in enumerate(component_labels[ir])} for ir in [ir1, ir2, ir3, ir4]]\n",
    "        for R in group.generators + [sp.Symbol('{Ee}')]:\n",
    "            R_id = {}\n",
    "            for γ1, γ2, γ3, γ4 in product(*components):\n",
    "                for γ1p, γ2p, γ3p, γ4p in product(*components):\n",
    "#                         val = sp.conjugate(ir_mats[ir1][R][comp_to_idx[0][γ1],comp_to_idx[0][γ1p]]) *\\\n",
    "#                               sp.conjugate(ir_mats[ir2][R][comp_to_idx[1][γ2],comp_to_idx[1][γ2p]]) *\\\n",
    "#                               ir_mats[ir3][R][comp_to_idx[2][γ3],comp_to_idx[2][γ3p]] *\\\n",
    "#                               ir_mats[ir4][R][comp_to_idx[3][γ4],comp_to_idx[3][γ4p]]\n",
    "                        val = sp.conjugate(ir_mats[ir1][R][comp_to_idx[0][γ1p],comp_to_idx[0][γ1]]) *\\\n",
    "                              sp.conjugate(ir_mats[ir2][R][comp_to_idx[1][γ2p],comp_to_idx[1][γ2]]) *\\\n",
    "                              ir_mats[ir3][R][comp_to_idx[2][γ3],comp_to_idx[2][γ3p]] *\\\n",
    "                              ir_mats[ir4][R][comp_to_idx[3][γ4],comp_to_idx[3][γ4p]]\n",
    "                        if val== 0:\n",
    "                            continue\n",
    "                        key = (γ1, γ2, γ3, γ4)\n",
    "                        if key not in R_id.keys():\n",
    "                            R_id[key] = []\n",
    "                        R_id[key].append( Qet({(γ1p,γ2p,γ3p,γ4p): val}) )\n",
    "            R_id_total = [(key, sum(R_id[key], Qet({}))) for key in R_id.keys()]\n",
    "            R_id_total = [q for q in R_id_total if len(q[1].dict)>0]\n",
    "            integral_identity_sector.extend(R_id_total)\n",
    "        integral_identities[(ir1,ir2,ir3,ir4)] = integral_identity_sector\n",
    "\n",
    "    # For solving the linear system it is convenient\n",
    "    # to have everything on one side of the equation.\n",
    "    if verbose:\n",
    "        msg = \"Creating set of identities ...\"\n",
    "        pbar.set_description(msg)\n",
    "        pbar.refresh()\n",
    "        pbar.n += 1\n",
    "    \n",
    "    identities = {}\n",
    "    for ircombo in integral_identities:\n",
    "        these_ids = []\n",
    "        for v in integral_identities[ircombo]:\n",
    "            lhs, rhs = v\n",
    "            diff = Qet({lhs:1}) - rhs\n",
    "            if len(diff.dict) > 0:\n",
    "                these_ids.append(diff)\n",
    "        identities[ircombo] = these_ids\n",
    "\n",
    "    # If an equation has only one key, then\n",
    "    # that immediately means that that braket is zero.\n",
    "    if verbose:\n",
    "        msg = \"Finding trivial zeros ...\"\n",
    "        pbar.set_description(msg)\n",
    "        pbar.refresh()\n",
    "        pbar.n += 1\n",
    "    \n",
    "    # first determine which ones have to be zero\n",
    "    better_identities = {irc:[] for irc in identities}\n",
    "    all_zeros = {}\n",
    "    for ircombo in identities:\n",
    "        zeros = []\n",
    "        for identity in identities[ircombo]:\n",
    "            if len(identity.dict) == 1:\n",
    "                zeros.append((list(identity.dict.keys())[0]))\n",
    "            else:\n",
    "                better_identities[ircombo].append(identity)\n",
    "        all_zeros[ircombo] = zeros\n",
    "\n",
    "    # use them to simplify things.\n",
    "    if verbose:\n",
    "        msg = \"Using them to simplify things ...\"\n",
    "        pbar.set_description(msg)\n",
    "        pbar.refresh()\n",
    "        pbar.n += 1\n",
    "    \n",
    "    great_identities = {irc:[] for irc in identities}\n",
    "    for ircombo in better_identities:\n",
    "        for identity in better_identities[ircombo]:\n",
    "            new_qet = Qet({})\n",
    "            for k,v in identity.dict.items():\n",
    "                if k in all_zeros[ircombo]:\n",
    "                    continue\n",
    "                else:\n",
    "                    new_qet+= Qet({k: v})\n",
    "            if len(new_qet.dict) == 0:\n",
    "                continue\n",
    "            great_identities[ircombo].append(new_qet)\n",
    "\n",
    "    # Inside of a four-symbol braket one may do three exchanges\n",
    "    # that must result in the same value. That if the wave\n",
    "    # functions are assumed to be real-valued.\n",
    "    \n",
    "    if verbose:\n",
    "        msg = \"Creating reality identities ...\"\n",
    "        pbar.set_description(msg)\n",
    "        pbar.refresh()\n",
    "        pbar.n += 1\n",
    "    \n",
    "    real_var_simplifiers = {irc:[] for irc in great_identities}\n",
    "    kprimes = set()\n",
    "    # this has to run over all the quadruples of irs\n",
    "    for ir1, ir2, ir3, ir4 in product(*([group.irrep_labels]*4)):\n",
    "        real_var_simplifier = {}\n",
    "        ircombo = (ir1, ir2, ir3, ir4)\n",
    "        components = [component_labels[ir] for ir in ircombo]\n",
    "        for γ1, γ2, γ3, γ4 in product(*components):\n",
    "            k = (γ1, γ2, γ3, γ4)\n",
    "            kalt1 = (γ3, γ2, γ1, γ4)\n",
    "            kalt2 = (γ1, γ4, γ3, γ2)\n",
    "            kalt3 = (γ3, γ4, γ1, γ2)\n",
    "            if kalt1 in kprimes:\n",
    "                real_var_simplifier[k] = kalt1\n",
    "            elif kalt2 in kprimes:\n",
    "                real_var_simplifier[k] = kalt2\n",
    "            elif kalt3 in kprimes:\n",
    "                real_var_simplifier[k] = kalt3\n",
    "            else:\n",
    "                real_var_simplifier[k] = k\n",
    "                kprimes.add(k)\n",
    "        real_var_simplifiers[ircombo] = real_var_simplifier\n",
    "\n",
    "    real_var_full_simplifier = {}\n",
    "    for ircombo in real_var_simplifiers:\n",
    "        real_var_full_simplifier.update(real_var_simplifiers[ircombo])\n",
    "\n",
    "    # For each 4-tuple of irreps\n",
    "    # create a system of symbolic solutions\n",
    "    # and let sympy solve that.\n",
    "    # For each 4-tuple of irreps\n",
    "    # the end result is a dictionary\n",
    "    # whose keys represent the dependent\n",
    "    # brakets and whose values are the\n",
    "    # relation that those dependent values\n",
    "    # have with the independent brakets.\n",
    "    # As such, when these dictionaries are\n",
    "    # used on an expression, everything should\n",
    "    # then be given in terms of indepedent brakets.\n",
    "\n",
    "    if verbose:\n",
    "        msg = \"Solving for independent 4-symbol brakets ...\"\n",
    "        pbar.set_description(msg)\n",
    "        pbar.refresh()\n",
    "        pbar.n += 1\n",
    "    \n",
    "    all_sols = {irc:[] for irc in great_identities}\n",
    "    for ircombo in great_identities:\n",
    "        zeros = all_zeros[ircombo]\n",
    "        problem_vars = list(set(sum([list(identity.dict.keys()) for identity in great_identities[ircombo]],[])))\n",
    "        big_ma = [awe.vec_in_basis(problem_vars) for awe in great_identities[ircombo]] \n",
    "        big_mat = sp.Matrix(big_ma)\n",
    "        big_mat = sp.re(big_mat)+sp.I*sp.im(big_mat)\n",
    "        rref_mat, pivots = big_mat.rref()\n",
    "        num_rows = rref_mat.rows\n",
    "        num_cols = rref_mat.cols\n",
    "        rref_ma_non_zero = [rref_mat[row,:] for row in range(num_rows) if (sum(np.array(rref_mat[row,:])[0] == 0) != num_cols)]\n",
    "        rref_mat_non_zero = sp.Matrix(rref_ma_non_zero)\n",
    "        varvec = sp.Matrix(list(map(composite_symbol,problem_vars)))\n",
    "        eqns = rref_mat_non_zero*varvec\n",
    "        ssol = sp.solve(list(eqns), dict=True)\n",
    "        all_sols[ircombo] = ssol\n",
    "        assert len(ssol) in [0,1]\n",
    "        if len(ssol) == 0:\n",
    "            sol_dict = {}\n",
    "        else:\n",
    "            sol_dict = ssol[0]\n",
    "        zero_addendum = {k:{} for k in all_zeros[ircombo]}\n",
    "        sol_dict = {fourtuplerecovery(k):{fourtuplerecovery(s):v.coeff(s) for s in v.free_symbols} for k,v in sol_dict.items()}\n",
    "        sol_dict.update(zero_addendum)\n",
    "        all_sols[ircombo] = sol_dict\n",
    "\n",
    "    # This final dictionary is unnecessary but\n",
    "    # simplifies calling the replacements onto\n",
    "    # a symbolic expression.\n",
    "    if verbose:\n",
    "        msg = \"Creating a dictionary with all the 4-symbol replacements ...\"\n",
    "        pbar.set_description(msg)\n",
    "        pbar.refresh()\n",
    "        pbar.n += 1\n",
    "    \n",
    "    super_solution = {}\n",
    "    for ircombo in all_sols:\n",
    "        super_solution.update(all_sols[ircombo])\n",
    "\n",
    "    def simplifier(qet):\n",
    "        simp_ket = Qet({})\n",
    "        for k,v in qet.dict.items():\n",
    "            simp_ket += Qet({real_var_full_simplifier[k]:v})\n",
    "        true_qet = Qet({})\n",
    "        for k,v in simp_ket.dict.items():\n",
    "            if k in super_solution:\n",
    "                true_qet += v*Qet(super_solution[k])\n",
    "            else:\n",
    "                true_qet += Qet({k:v})\n",
    "        return true_qet\n",
    "\n",
    "    def simplify_config_matrix(ir1ir2, S, ir3):\n",
    "        config_matrix = config_matrices[ir1ir2][(S,ir3)]\n",
    "        num_rows = len(config_matrix)\n",
    "        simple_matrix = [[simplifier(config_matrix[row][col]) for col in range(num_rows)] for row in range(num_rows)]\n",
    "        return simple_matrix\n",
    "    \n",
    "    if verbose:\n",
    "        msg = \"Simplifying configuration matrices ...\"\n",
    "        pbar.set_description(msg)\n",
    "        pbar.refresh()\n",
    "        pbar.n += 1\n",
    "    \n",
    "    simple_config_matrices = {k:{} for k in config_matrices}\n",
    "    for ir1ir2 in config_matrices.keys():\n",
    "        for term_key in config_matrices[ir1ir2]:\n",
    "            S, Γ3 = term_key\n",
    "            simple_config_matrices[ir1ir2][term_key] = simplify_config_matrix(ir1ir2, S, Γ3)\n",
    "\n",
    "    twotuplerecovery = fourtuplerecovery\n",
    "    if verbose:\n",
    "        msg = \"Creating all 2-symbol identities ...\"\n",
    "        pbar.set_description(msg)\n",
    "        pbar.refresh()\n",
    "        pbar.n += 1\n",
    "\n",
    "    # this   integral_identities  dictionary  will  have  as  keys\n",
    "    # 2-tuples  of  irreps  and  its  values  will  be lists whose\n",
    "    # elements  are  2-tuples whose first elements are 2-tuples of\n",
    "    # irrep  components  and  whose values are qets whose keys are\n",
    "    # 2-tuples  of  irrep components and whose values are numeric.\n",
    "    # These 2-tuples represent a braket with the an invariant operator\n",
    "    # operator in between.\n",
    "\n",
    "    integral_identities_2 = {}\n",
    "    ir_mats = group.irrep_matrices\n",
    "    for ir1, ir2 in product(*([group.irrep_labels]*2)):\n",
    "        # To simplify calculations this part\n",
    "        # can only be done over quadruples in a standard\n",
    "        # order.\n",
    "        # Whatever is missed here is then brough back in\n",
    "        # by the reality relations.\n",
    "        altorder1 = (ir2, ir1, ir1, ir4)\n",
    "        if (altorder1 in integral_identities_2):\n",
    "            continue\n",
    "        integral_identity_sector = []\n",
    "        components = [component_labels[ir] for ir in [ir1, ir2]]\n",
    "        comp_to_idx = [{c: idx for idx, c in enumerate(component_labels[ir])} for ir in [ir1, ir2]]\n",
    "        for R in group.generators + [sp.Symbol('{Ee}')]:\n",
    "            R_id = {}\n",
    "            for γ1, γ2 in product(*components):\n",
    "                for γ1p, γ2p in product(*components):\n",
    "#                         val = sp.conjugate(ir_mats[ir1][R][comp_to_idx[0][γ1],comp_to_idx[0][γ1p]]) *\\\n",
    "#                               ir_mats[ir2][R][comp_to_idx[1][γ2],comp_to_idx[1][γ2p]]\n",
    "                        val = sp.conjugate(ir_mats[ir1][R][comp_to_idx[0][γ1p],comp_to_idx[0][γ1]]) *\\\n",
    "                              ir_mats[ir2][R][comp_to_idx[1][γ2],comp_to_idx[1][γ2p]]\n",
    "                        if val== 0:\n",
    "                            continue\n",
    "                        key = (γ1, γ2)\n",
    "                        if key not in R_id.keys():\n",
    "                            R_id[key] = []\n",
    "                        R_id[key].append( Qet({(γ1p,γ2p): val}) )\n",
    "            R_id_total = [(key, sum(R_id[key], Qet({}))) for key in R_id.keys()]\n",
    "            R_id_total = [q for q in R_id_total if len(q[1].dict)>0]\n",
    "            integral_identity_sector.extend(R_id_total)\n",
    "        integral_identities_2[(ir1,ir2)] = integral_identity_sector\n",
    "\n",
    "    # For solving the linear system it is convenient\n",
    "    # to have everything on one side of the equation.\n",
    "    if verbose:\n",
    "        msg = \"Creating set of 2 symbol identities ...\"\n",
    "        pbar.set_description(msg)\n",
    "        pbar.refresh()\n",
    "        pbar.n += 1\n",
    "    identities_2 = {}\n",
    "    \n",
    "    for ircombo in integral_identities_2:\n",
    "        these_ids = []\n",
    "        for v in integral_identities_2[ircombo]:\n",
    "            lhs, rhs = v\n",
    "            diff = Qet({lhs:1}) - rhs\n",
    "            if len(diff.dict) > 0:\n",
    "                these_ids.append(diff)\n",
    "        identities_2[ircombo] = these_ids\n",
    "\n",
    "    # If an equation has only one term, then\n",
    "    # that immediately means that that term is zero.\n",
    "    if verbose:\n",
    "        msg = \"Finding trivial zeros ...\"\n",
    "        pbar.set_description(msg)\n",
    "        pbar.refresh()\n",
    "        pbar.n += 1\n",
    "    \n",
    "    # first determine which ones have to be zero\n",
    "    better_identities_2 = {irc:[] for irc in identities_2}\n",
    "    all_zeros_2 = {}\n",
    "    for ircombo in identities_2:\n",
    "        zeros = []\n",
    "        for identity in identities_2[ircombo]:\n",
    "            if len(identity.dict) == 1:\n",
    "                zeros.append((list(identity.dict.keys())[0]))\n",
    "            else:\n",
    "                better_identities_2[ircombo].append(identity)\n",
    "        all_zeros_2[ircombo] = zeros\n",
    "\n",
    "    # use them to simplify things.\n",
    "    if verbose:\n",
    "        msg = \"Using them to simplify things ...\"\n",
    "        pbar.set_description(msg)\n",
    "        pbar.refresh()\n",
    "        pbar.n += 1\n",
    "    \n",
    "    great_identities_2 = {irc:[] for irc in identities_2}\n",
    "    for ircombo in better_identities_2:\n",
    "        for identity in better_identities_2[ircombo]:\n",
    "            new_qet = Qet({})\n",
    "            for k,v in identity.dict.items():\n",
    "                if k in all_zeros_2[ircombo]:\n",
    "                    continue\n",
    "                else:\n",
    "                    new_qet+= Qet({k: v})\n",
    "            if len(new_qet.dict) == 0:\n",
    "                continue\n",
    "            great_identities_2[ircombo].append(new_qet)\n",
    "\n",
    "    # Inside of a two-symbol braket one may do three exchanges\n",
    "    # that must result in the same value. That if the wave\n",
    "    # functions are assumed to be real-valued.\n",
    "    if verbose:\n",
    "        msg = \"Creating reality identities ...\"\n",
    "        pbar.set_description(msg)\n",
    "        pbar.refresh()\n",
    "        pbar.n += 1\n",
    "    real_var_simplifiers_2 = {irc:[] for irc in great_identities_2}\n",
    "    # this has to run over all the quadruples of irs\n",
    "    kprimes = set()\n",
    "    for ir1, ir2 in product(*([group.irrep_labels]*2)):\n",
    "        real_var_simplifier = {}\n",
    "        ircombo = (ir1, ir2)\n",
    "        components = [component_labels[ir] for ir in ircombo]\n",
    "        for γ1, γ2 in product(*components):\n",
    "            k = (γ1, γ2)\n",
    "            kalt = (γ2, γ1)\n",
    "            # If for a given key I find that its\n",
    "            # switched version has already been seen\n",
    "            # Then that key has to be mapped to be\n",
    "            # mapped to the key already present.\n",
    "            if kalt in kprimes:\n",
    "                real_var_simplifier[k] = kalt\n",
    "            else:\n",
    "                real_var_simplifier[k] = k\n",
    "                kprimes.add(k)\n",
    "        real_var_simplifiers_2[ircombo] = real_var_simplifier\n",
    "\n",
    "    # For each 2-tuple of irreps\n",
    "    # create a system of symbolic solutions\n",
    "    # and let sympy solve that.\n",
    "    # For each 2-tuple of irreps\n",
    "    # the end result is a dictionary\n",
    "    # whose keys represent the dependent\n",
    "    # brakets and whose values are the\n",
    "    # relation that those dependent values\n",
    "    # have with the independent brakets.\n",
    "    # As such, when these dictionaries are\n",
    "    # used on an expression, everything should\n",
    "    # then be given in terms of indepedent brakets.\n",
    "    if verbose:\n",
    "        msg = \"Solving for independent 2-symbol brakets ...\"\n",
    "        pbar.set_description(msg)\n",
    "        pbar.refresh()\n",
    "        pbar.n += 1\n",
    "    all_sols_2 = {irc:[] for irc in great_identities_2}\n",
    "    \n",
    "    for ircombo in great_identities_2:\n",
    "        zeros = all_zeros_2[ircombo]\n",
    "        problem_vars = list(set(sum([list(identity.dict.keys()) for identity in great_identities_2[ircombo]],[])))\n",
    "        big_ma = [awe.vec_in_basis(problem_vars) for awe in great_identities_2[ircombo]] \n",
    "        big_mat = sp.Matrix(big_ma)\n",
    "        big_mat = sp.re(big_mat)+sp.I*sp.im(big_mat)\n",
    "        rref_mat, pivots = big_mat.rref()\n",
    "        num_rows = rref_mat.rows\n",
    "        num_cols = rref_mat.cols\n",
    "        rref_ma_non_zero = [rref_mat[row,:] for row in range(num_rows) if (sum(np.array(rref_mat[row,:])[0] == 0) != num_cols)]\n",
    "        rref_mat_non_zero = sp.Matrix(rref_ma_non_zero)\n",
    "        varvec = sp.Matrix(list(map(composite_symbol,problem_vars)))\n",
    "        eqns = rref_mat_non_zero*varvec\n",
    "        ssol = sp.solve(list(eqns), dict=True)\n",
    "        all_sols[ircombo] = ssol\n",
    "        assert len(ssol) in [0,1]\n",
    "        if len(ssol) == 0:\n",
    "            sol_dict = {}\n",
    "        else:\n",
    "            sol_dict = ssol[0]\n",
    "        zero_addendum = {k:{} for k in all_zeros_2[ircombo]}\n",
    "        sol_dict = {twotuplerecovery(k):{twotuplerecovery(s):v.coeff(s) for s in v.free_symbols} for k,v in sol_dict.items()}\n",
    "        sol_dict.update(zero_addendum)\n",
    "        all_sols_2[ircombo] = sol_dict\n",
    "\n",
    "    # This final dictionary is unnecessary but\n",
    "    # simplifies calling the replacements onto\n",
    "    # a symbolic expression.\n",
    "    if verbose:\n",
    "        msg = \"Creating a dictionary with all the 2-symbol replacements ...\"\n",
    "        pbar.set_description(msg)\n",
    "        pbar.refresh()\n",
    "        pbar.n += 1\n",
    "    \n",
    "    super_solution_2 = {}\n",
    "    for ircombo in all_sols_2:\n",
    "        super_solution_2.update(all_sols_2[ircombo])\n",
    "\n",
    "    # for a given electron config\n",
    "    more_ids = {e_config:[] for e_config in simple_config_matrices}\n",
    "    for e_config in simple_config_matrices:\n",
    "        for term in simple_config_matrices[e_config]:\n",
    "            the_matrix = simple_config_matrices[e_config][term]\n",
    "            num_rows = len(the_matrix)\n",
    "            num_cols = len(the_matrix)\n",
    "            the_state_keys = config_supplement[e_config][term]\n",
    "            the_key_matrix = {}\n",
    "            for row_idx in range(num_rows):\n",
    "                Γ3_row = the_state_keys[row_idx][2]\n",
    "                γ3_row = the_state_keys[row_idx][3]\n",
    "                for col_idx in range(num_cols):\n",
    "                    Γ3_col = the_state_keys[col_idx][2]\n",
    "                    γ3_col = the_state_keys[col_idx][3]\n",
    "                    matrix_val = the_matrix[row_idx][col_idx]\n",
    "                    the_key_matrix[(γ3_row,γ3_col)] = matrix_val\n",
    "            # now go over the keys of super_solution_2\n",
    "            # and if one of those keys matches with a key in the_key_matrix\n",
    "            # do something about it\n",
    "            for k in super_solution_2:\n",
    "                if k in the_key_matrix:\n",
    "                    v = super_solution_2[k]\n",
    "                    # this matrix element\n",
    "                    matrix_element = the_key_matrix[k]\n",
    "                    # must be identified with the sum\n",
    "                    # as given in v\n",
    "                    matrix_equiv = sum([kv*the_key_matrix[km] for km, kv in v.items()],Qet({}))\n",
    "                    identity = (matrix_element - matrix_equiv) #=0\n",
    "                    if len(identity.dict) != 0:\n",
    "                        more_ids[e_config].append(identity)\n",
    "                        problem_vars = list(set(sum([list(identity.dict.keys()) for identity in more_ids[e_config]],[])))\n",
    "    if verbose:\n",
    "        msg = \"Simplifying numeric values of qets ...\"\n",
    "        pbar.set_description(msg)\n",
    "        pbar.refresh()\n",
    "        pbar.n += 1\n",
    "    \n",
    "    more_ids = {e_config:list(filter(lambda x: len(x.dict) > 0,list(map(simplify_qet,more_ids[e_config])))) for e_config in more_ids}\n",
    "    \n",
    "    if verbose:\n",
    "        msg = \"Solving for dependent vars in terms of independent ones ...\"\n",
    "        pbar.set_description(msg)\n",
    "        pbar.refresh()\n",
    "        pbar.n += 1\n",
    "    \n",
    "    all_sols_2_4 = {irc:[] for irc in more_ids}\n",
    "    \n",
    "    for e_config in more_ids:\n",
    "        problem_vars = list(set(sum([list(identity.dict.keys()) for identity in more_ids[e_config]],[])))\n",
    "        big_ma = [awe.vec_in_basis(problem_vars) for awe in more_ids[e_config]] \n",
    "        big_mat = sp.Matrix(big_ma)\n",
    "        big_mat = sp.re(big_mat)+sp.I*sp.im(big_mat)\n",
    "        rref_mat, pivots = big_mat.rref()\n",
    "        num_rows = rref_mat.rows\n",
    "        num_cols = rref_mat.cols\n",
    "        rref_ma_non_zero = [rref_mat[row,:] for row in range(num_rows) if (sum(np.array(rref_mat[row,:])[0] == 0) != num_cols)]\n",
    "        rref_mat_non_zero = sp.Matrix(rref_ma_non_zero)\n",
    "        varvec = sp.Matrix(list(map(composite_symbol, problem_vars)))\n",
    "        eqns = rref_mat_non_zero*varvec\n",
    "        ssol = sp.solve(list(eqns), dict=True)\n",
    "        all_sols_2_4[e_config] = ssol\n",
    "        assert len(ssol) in [0,1]\n",
    "        if len(ssol) == 0:\n",
    "            sol_dict = {}\n",
    "        else:\n",
    "            sol_dict = ssol[0]\n",
    "        sol_dict = {twotuplerecovery(k):{twotuplerecovery(s):v.coeff(s) for s in v.free_symbols} for k,v in sol_dict.items()}\n",
    "        all_sols_2_4[e_config] = sol_dict\n",
    "\n",
    "    # flatten into a single dictionary of replacements\n",
    "    fab_solution_2_4 = {}\n",
    "    for e_config in all_sols_2_4:\n",
    "        fab_solution_2_4.update(all_sols_2_4[e_config])\n",
    "    if verbose:\n",
    "        msg = \"There are %d less independent variables ...\"\n",
    "        pbar.set_description(\"There are %d less independent variables ...\" % len(fab_solution_2_4))\n",
    "        pbar.refresh()\n",
    "        pbar.n += 1\n",
    "    \n",
    "    def simplifier_f(qet):\n",
    "        true_qet = Qet({})\n",
    "        for k,v in qet.dict.items():\n",
    "            if k in fab_solution_2_4:\n",
    "                true_qet += v*Qet(fab_solution_2_4[k])\n",
    "            else:\n",
    "                true_qet += Qet({k:v})\n",
    "        return true_qet\n",
    "    \n",
    "    def simplify_config_matrix_f(ir1ir2, S, ir3):\n",
    "        config_matrix = simple_config_matrices[ir1ir2][(S,ir3)]\n",
    "        num_rows = len(config_matrix)\n",
    "        simple_matrix = [[simplifier_f(config_matrix[row][col]) for col in range(num_rows)] for row in range(num_rows)]\n",
    "        #simple_matrix = sp.Matrix(simple_matrix)\n",
    "        return simple_matrix\n",
    "    \n",
    "    if verbose:\n",
    "        msg = \"Making final simplifications ...\"\n",
    "        pbar.set_description(msg)\n",
    "        pbar.refresh()\n",
    "        pbar.n += 1\n",
    "    \n",
    "    final_config_matrices = {k:{} for k in config_matrices}\n",
    "    for ir1ir2 in config_matrices.keys():\n",
    "        for term_key in config_matrices[ir1ir2]:\n",
    "            S, Γ3 = term_key\n",
    "            final_config_matrices[ir1ir2][term_key] = simplify_config_matrix_f(ir1ir2, S, Γ3)\n",
    "    \n",
    "    if verbose:\n",
    "        msg = \"Finished\"\n",
    "        pbar.set_description(msg)\n",
    "        pbar.refresh()\n",
    "    \n",
    "    return final_config_matrices"
   ]
  },
  {
   "cell_type": "code",
   "execution_count": 18,
   "id": "bc422082-dd59-42f1-9c41-e869a666930a",
   "metadata": {
    "tags": []
   },
   "outputs": [
    {
     "data": {
      "text/html": [
       "<pre>✔️ 8 min 52 s (2021-11-21T14:24:04/2021-11-21T14:32:56)</pre>"
      ],
      "text/plain": [
       "<IPython.core.display.HTML object>"
      ]
     },
     "metadata": {},
     "output_type": "display_data"
    },
    {
     "data": {
      "application/vnd.jupyter.widget-view+json": {
       "model_id": "a9980e768210475cba44f9dd5b6fb2b3",
       "version_major": 2,
       "version_minor": 0
      },
      "text/plain": [
       "(0/19) [00:00] "
      ]
     },
     "metadata": {},
     "output_type": "display_data"
    },
    {
     "data": {
      "application/vnd.jupyter.widget-view+json": {
       "model_id": "4209b5450711465ca2ad438ef86ff6a9",
       "version_major": 2,
       "version_minor": 0
      },
      "text/plain": [
       "(0/19) [00:00] "
      ]
     },
     "metadata": {},
     "output_type": "display_data"
    },
    {
     "data": {
      "application/vnd.jupyter.widget-view+json": {
       "model_id": "47ef5c92eefc4bba8fb07f3ce00079cc",
       "version_major": 2,
       "version_minor": 0
      },
      "text/plain": [
       "(0/19) [00:00] "
      ]
     },
     "metadata": {},
     "output_type": "display_data"
    },
    {
     "data": {
      "application/vnd.jupyter.widget-view+json": {
       "model_id": "2912927a2e8e4e09879ca5a596944e84",
       "version_major": 2,
       "version_minor": 0
      },
      "text/plain": [
       "(0/19) [00:00] "
      ]
     },
     "metadata": {},
     "output_type": "display_data"
    },
    {
     "data": {
      "application/vnd.jupyter.widget-view+json": {
       "model_id": "b04b5e3bf7bc4d2a98a5b7aa16266019",
       "version_major": 2,
       "version_minor": 0
      },
      "text/plain": [
       "(0/19) [00:00] "
      ]
     },
     "metadata": {},
     "output_type": "display_data"
    },
    {
     "data": {
      "application/vnd.jupyter.widget-view+json": {
       "model_id": "cbb5b921fc954444b27d5a816d4b3e31",
       "version_major": 2,
       "version_minor": 0
      },
      "text/plain": [
       "(0/19) [00:00] "
      ]
     },
     "metadata": {},
     "output_type": "display_data"
    },
    {
     "data": {
      "application/vnd.jupyter.widget-view+json": {
       "model_id": "ff32fb3932e846169fc5e3c852dc492f",
       "version_major": 2,
       "version_minor": 0
      },
      "text/plain": [
       "(0/19) [00:00] "
      ]
     },
     "metadata": {},
     "output_type": "display_data"
    },
    {
     "data": {
      "application/vnd.jupyter.widget-view+json": {
       "model_id": "695b10d975a64ec7a733961a43537ba2",
       "version_major": 2,
       "version_minor": 0
      },
      "text/plain": [
       "(0/19) [00:00] "
      ]
     },
     "metadata": {},
     "output_type": "display_data"
    },
    {
     "data": {
      "application/vnd.jupyter.widget-view+json": {
       "model_id": "6ba9c96f07324d348feb502677b3ac4f",
       "version_major": 2,
       "version_minor": 0
      },
      "text/plain": [
       "(0/19) [00:00] "
      ]
     },
     "metadata": {},
     "output_type": "display_data"
    },
    {
     "data": {
      "application/vnd.jupyter.widget-view+json": {
       "model_id": "1ac7903ea4564fc69b6917e692dad971",
       "version_major": 2,
       "version_minor": 0
      },
      "text/plain": [
       "(0/19) [00:00] "
      ]
     },
     "metadata": {},
     "output_type": "display_data"
    },
    {
     "data": {
      "application/vnd.jupyter.widget-view+json": {
       "model_id": "3b00462fddbb4dbebf2ed10b5920dc6d",
       "version_major": 2,
       "version_minor": 0
      },
      "text/plain": [
       "(0/19) [00:00] "
      ]
     },
     "metadata": {},
     "output_type": "display_data"
    },
    {
     "data": {
      "application/vnd.jupyter.widget-view+json": {
       "model_id": "578ffb1a98d84a7e8b3c8ff2fbdd638a",
       "version_major": 2,
       "version_minor": 0
      },
      "text/plain": [
       "(0/19) [00:00] "
      ]
     },
     "metadata": {},
     "output_type": "display_data"
    },
    {
     "data": {
      "application/vnd.jupyter.widget-view+json": {
       "model_id": "c2ae0763d0da4e338f7c57258ceba6de",
       "version_major": 2,
       "version_minor": 0
      },
      "text/plain": [
       "(0/19) [00:00] "
      ]
     },
     "metadata": {},
     "output_type": "display_data"
    },
    {
     "data": {
      "application/vnd.jupyter.widget-view+json": {
       "model_id": "e047cc80cee2429ebf34426e4fdec905",
       "version_major": 2,
       "version_minor": 0
      },
      "text/plain": [
       "(0/19) [00:00] "
      ]
     },
     "metadata": {},
     "output_type": "display_data"
    },
    {
     "data": {
      "application/vnd.jupyter.widget-view+json": {
       "model_id": "346be6e7bd82403e831ede573189a354",
       "version_major": 2,
       "version_minor": 0
      },
      "text/plain": [
       "(0/19) [00:00] "
      ]
     },
     "metadata": {},
     "output_type": "display_data"
    },
    {
     "data": {
      "application/vnd.jupyter.widget-view+json": {
       "model_id": "13c2a173ad4b407b99a88bc8ce35273a",
       "version_major": 2,
       "version_minor": 0
      },
      "text/plain": [
       "(0/19) [00:00] "
      ]
     },
     "metadata": {},
     "output_type": "display_data"
    },
    {
     "data": {
      "application/vnd.jupyter.widget-view+json": {
       "model_id": "04ab1bfafbc74eae925cab6fd8d055dd",
       "version_major": 2,
       "version_minor": 0
      },
      "text/plain": [
       "(0/19) [00:00] "
      ]
     },
     "metadata": {},
     "output_type": "display_data"
    },
    {
     "data": {
      "application/vnd.jupyter.widget-view+json": {
       "model_id": "359e7d5ed2934df1aae7ece7196ad568",
       "version_major": 2,
       "version_minor": 0
      },
      "text/plain": [
       "(0/19) [00:00] "
      ]
     },
     "metadata": {},
     "output_type": "display_data"
    },
    {
     "data": {
      "application/vnd.jupyter.widget-view+json": {
       "model_id": "bd73e247dd5f46e4bd6e0d8ba1258a1a",
       "version_major": 2,
       "version_minor": 0
      },
      "text/plain": [
       "(0/19) [00:00] "
      ]
     },
     "metadata": {},
     "output_type": "display_data"
    },
    {
     "data": {
      "application/vnd.jupyter.widget-view+json": {
       "model_id": "29712f2af9334184b7871aa67672628c",
       "version_major": 2,
       "version_minor": 0
      },
      "text/plain": [
       "(0/19) [00:00] "
      ]
     },
     "metadata": {},
     "output_type": "display_data"
    },
    {
     "data": {
      "application/vnd.jupyter.widget-view+json": {
       "model_id": "d0db8ee3e2e146e882e0176c49b54636",
       "version_major": 2,
       "version_minor": 0
      },
      "text/plain": [
       "(0/19) [00:00] "
      ]
     },
     "metadata": {},
     "output_type": "display_data"
    },
    {
     "data": {
      "application/vnd.jupyter.widget-view+json": {
       "model_id": "f24e1bb6827e448496663c86a2455ee5",
       "version_major": 2,
       "version_minor": 0
      },
      "text/plain": [
       "(0/19) [00:00] "
      ]
     },
     "metadata": {},
     "output_type": "display_data"
    },
    {
     "data": {
      "application/vnd.jupyter.widget-view+json": {
       "model_id": "c5840c80b4d94d3b905ab740a070b806",
       "version_major": 2,
       "version_minor": 0
      },
      "text/plain": [
       "(0/19) [00:00] "
      ]
     },
     "metadata": {},
     "output_type": "display_data"
    },
    {
     "data": {
      "application/vnd.jupyter.widget-view+json": {
       "model_id": "c3deb23906af433a901a7bb6461590e1",
       "version_major": 2,
       "version_minor": 0
      },
      "text/plain": [
       "(0/19) [00:00] "
      ]
     },
     "metadata": {},
     "output_type": "display_data"
    },
    {
     "data": {
      "application/vnd.jupyter.widget-view+json": {
       "model_id": "8161c9092b3f43589fc1dc2cbf73be4f",
       "version_major": 2,
       "version_minor": 0
      },
      "text/plain": [
       "(0/19) [00:00] "
      ]
     },
     "metadata": {},
     "output_type": "display_data"
    },
    {
     "data": {
      "application/vnd.jupyter.widget-view+json": {
       "model_id": "c93397243f0c4daa8cf1fae8e8f18251",
       "version_major": 2,
       "version_minor": 0
      },
      "text/plain": [
       "(0/19) [00:00] "
      ]
     },
     "metadata": {},
     "output_type": "display_data"
    },
    {
     "data": {
      "application/vnd.jupyter.widget-view+json": {
       "model_id": "b299f9037a9644f8977e9e009534a569",
       "version_major": 2,
       "version_minor": 0
      },
      "text/plain": [
       "(0/19) [00:00] "
      ]
     },
     "metadata": {},
     "output_type": "display_data"
    },
    {
     "data": {
      "application/vnd.jupyter.widget-view+json": {
       "model_id": "3ce5ebb1e15f48e4b46d1e4c6a33fb5c",
       "version_major": 2,
       "version_minor": 0
      },
      "text/plain": [
       "(0/19) [00:00] "
      ]
     },
     "metadata": {},
     "output_type": "display_data"
    },
    {
     "data": {
      "application/vnd.jupyter.widget-view+json": {
       "model_id": "244f24c9e0fb4f0d88204e1902b021f0",
       "version_major": 2,
       "version_minor": 0
      },
      "text/plain": [
       "(0/19) [00:00] "
      ]
     },
     "metadata": {},
     "output_type": "display_data"
    },
    {
     "data": {
      "application/vnd.jupyter.widget-view+json": {
       "model_id": "71f4e958381848878945bacbef0c6ac8",
       "version_major": 2,
       "version_minor": 0
      },
      "text/plain": [
       "(0/19) [00:00] "
      ]
     },
     "metadata": {},
     "output_type": "display_data"
    },
    {
     "data": {
      "application/vnd.jupyter.widget-view+json": {
       "model_id": "7bbce8452a1d4b0fba283994fb8af344",
       "version_major": 2,
       "version_minor": 0
      },
      "text/plain": [
       "(0/19) [00:00] "
      ]
     },
     "metadata": {},
     "output_type": "display_data"
    },
    {
     "data": {
      "application/vnd.jupyter.widget-view+json": {
       "model_id": "72d62f907d084ca388b0f104c3983ce1",
       "version_major": 2,
       "version_minor": 0
      },
      "text/plain": [
       "(0/19) [00:00] "
      ]
     },
     "metadata": {},
     "output_type": "display_data"
    }
   ],
   "source": [
    "all_term_energies = {}\n",
    "for group_label in CPGs.all_group_labels:\n",
    "    if group_label in all_term_energies:\n",
    "        continue\n",
    "    final_config_matrices = term_energies(group_label)\n",
    "#     print(\"Printing ...\")\n",
    "#     for counter, ir1ir2 in enumerate(final_config_matrices):\n",
    "#         print('-'*10)\n",
    "#         display(ir1ir2)\n",
    "#         for term_key in final_config_matrices[ir1ir2]:\n",
    "#             display(term_key)\n",
    "#             display(sp.Matrix([[el.as_braket() for el in row] for row in final_config_matrices[ir1ir2][term_key]]))\n",
    "#     print(\"Saving ...\")\n",
    "    all_term_energies[group_label] = final_config_matrices"
   ]
  },
  {
   "cell_type": "code",
   "execution_count": 19,
   "id": "7d31475f-7178-4a6f-9dbd-ed1143e0d13e",
   "metadata": {},
   "outputs": [
    {
     "data": {
      "text/html": [
       "<pre>✔️ 617 µs (2021-11-21T14:32:56/2021-11-21T14:32:56)</pre>"
      ],
      "text/plain": [
       "<IPython.core.display.HTML object>"
      ]
     },
     "metadata": {},
     "output_type": "display_data"
    }
   ],
   "source": [
    "def simplify_qet_values(qet):\n",
    "    sqetdict = {k:sp.simplify(v) for k,v in qet.dict.items()}\n",
    "    return Qet(sqetdict)"
   ]
  },
  {
   "cell_type": "code",
   "execution_count": 20,
   "id": "2f768ea2-332e-459f-a127-1ee49c529421",
   "metadata": {},
   "outputs": [
    {
     "data": {
      "text/html": [
       "<pre>✔️ 260 ms (2021-11-21T14:32:56/2021-11-21T14:32:57)</pre>"
      ],
      "text/plain": [
       "<IPython.core.display.HTML object>"
      ]
     },
     "metadata": {},
     "output_type": "display_data"
    }
   ],
   "source": [
    "term_energies_for_printout = {}\n",
    "for group_label, term_energies in all_term_energies.items():\n",
    "    for e_config, terms  in term_energies.items():\n",
    "        for term_key, term_matrix in terms.items():\n",
    "            term_energy = term_matrix[0][0]\n",
    "            term_energy = simplify_qet_values(term_energy)\n",
    "            term_energies_for_printout[(group_label, e_config, term_key)] = term_energy\n",
    "#             out = sp.simplify(term_energy.as_braket())\n",
    "#             if len(sp.latex(out))> 200:\n",
    "#                 if 'sqrt' in sp.latex(out) and 'i' in sp.latex(out):\n",
    "#                     display(term_key)\n",
    "#                     display(sp.simplify(term_energy.as_braket()))"
   ]
  },
  {
   "cell_type": "code",
   "execution_count": 21,
   "id": "9caad63e-8fcb-41a6-8aa7-d07d40c25464",
   "metadata": {},
   "outputs": [
    {
     "data": {
      "text/html": [
       "<pre>✔️ 82 ms (2021-11-21T14:32:57/2021-11-21T14:32:57)</pre>"
      ],
      "text/plain": [
       "<IPython.core.display.HTML object>"
      ]
     },
     "metadata": {},
     "output_type": "display_data"
    }
   ],
   "source": [
    "pickle.dump(term_energies_for_printout, open('./data/term_energies_for_print.pkl','wb'))"
   ]
  },
  {
   "cell_type": "code",
   "execution_count": 9,
   "id": "e222a941-f0cb-49b4-ba9b-c6fb4ddbf80f",
   "metadata": {},
   "outputs": [
    {
     "data": {
      "text/html": [
       "<pre>✔️ 5.93 s (2021-11-21T14:12:52/2021-11-21T14:12:58)</pre>"
      ],
      "text/plain": [
       "<IPython.core.display.HTML object>"
      ]
     },
     "metadata": {},
     "output_type": "display_data"
    }
   ],
   "source": [
    "!beep"
   ]
  },
  {
   "cell_type": "markdown",
   "id": "b70602b6-94ff-4745-9f3a-e0ba5024c940",
   "metadata": {
    "heading_collapsed": "true",
    "tags": []
   },
   "source": [
    "#### Single group"
   ]
  },
  {
   "cell_type": "code",
   "execution_count": 36,
   "id": "3b7621b7-1015-48f5-8e2e-06f21dec3551",
   "metadata": {},
   "outputs": [
    {
     "data": {
      "text/html": [
       "<pre>✔️ 17.1 ms (2021-11-18T17:29:09/2021-11-18T17:29:09)</pre>"
      ],
      "text/plain": [
       "<IPython.core.display.HTML object>"
      ]
     },
     "metadata": {},
     "output_type": "display_data"
    }
   ],
   "source": [
    "group_label = 'O_{h}'\n",
    "terms = twoe_terms[group_label]\n",
    "group = CPGs.get_group_by_label(group_label)\n",
    "component_labels = {k:list(v.values()) for k,v in new_labels[group_label].items()}"
   ]
  },
  {
   "cell_type": "code",
   "execution_count": 37,
   "id": "153707c4-362b-4550-ad33-f1834cec4884",
   "metadata": {},
   "outputs": [
    {
     "data": {
      "text/html": [
       "<pre>✔️ 50.3 ms (2021-11-18T17:29:12/2021-11-18T17:29:12)</pre>"
      ],
      "text/plain": [
       "<IPython.core.display.HTML object>"
      ]
     },
     "metadata": {},
     "output_type": "display_data"
    }
   ],
   "source": [
    "# for a given set of terms\n",
    "# split all the enclosed states\n",
    "# in groups of electron configurations\n",
    "configs = {}\n",
    "config_supplement = {}\n",
    "for term_key, term in terms.items():\n",
    "    for state_key, state in zip(term.state_keys, term.states):\n",
    "        (Γ1, Γ2, Γ3, γ3, S, mSz) = state_key\n",
    "        α = sp.Symbol(sp.latex(Γ1).lower())*sp.Symbol(sp.latex(Γ2).lower())\n",
    "        if α not in configs.keys():\n",
    "            configs[α] = {}\n",
    "            config_supplement[α] = {}\n",
    "        if (S,Γ3) not in configs[α].keys():\n",
    "            configs[α][(S,Γ3)] = []\n",
    "            config_supplement[α][(S,Γ3)] = []\n",
    "        configs[α][(S,Γ3)].append(state)\n",
    "        config_supplement[α][(S,Γ3)].append(state_key)"
   ]
  },
  {
   "cell_type": "code",
   "execution_count": 38,
   "id": "f1631e9c-c5e2-4264-b1d8-18602e826fe5",
   "metadata": {
    "tags": []
   },
   "outputs": [
    {
     "data": {
      "text/html": [
       "<pre>✔️ 1.93 s (2021-11-18T17:29:15/2021-11-18T17:29:17)</pre>"
      ],
      "text/plain": [
       "<IPython.core.display.HTML object>"
      ]
     },
     "metadata": {},
     "output_type": "display_data"
    }
   ],
   "source": [
    "def overlinesqueegee(s):\n",
    "    '''\n",
    "    Going back from the overline shorthand for spin down,\n",
    "    acting on a single set of quantum numbers.\n",
    "    '''\n",
    "    if 'overline' in str(s):\n",
    "        spin = -sp.S(1)/2\n",
    "        comp = sp.Symbol(str(s).replace('\\\\overline{','')[:-1])\n",
    "    else:\n",
    "        spin = sp.S(1)/2\n",
    "        comp = s\n",
    "    return (comp, spin)\n",
    "def spin_restoration(qet):\n",
    "    '''\n",
    "    Going back from the overline shorthand for spin down,\n",
    "    acting on a qet.\n",
    "    '''\n",
    "    new_dict = {}\n",
    "    for k,v in qet.dict.items():\n",
    "        k = (*overlinesqueegee(k[0]),*overlinesqueegee(k[1]))\n",
    "        new_dict[k] = v\n",
    "    return Qet(new_dict)\n",
    "\n",
    "# within each configuration\n",
    "config_matrices = {}\n",
    "for config in configs.keys():\n",
    "    # display(config)\n",
    "    # within each term\n",
    "    term_matrices = {}\n",
    "    for term_key, states in configs[config].items():\n",
    "        # find the brackets between all possible pairs of states\n",
    "        ham_matrix = []\n",
    "        for state0 in states:\n",
    "            ham_row = []\n",
    "            state0 = spin_restoration(state0)\n",
    "            for state1 in states:\n",
    "                # recover the spin for the determinantal states\n",
    "                pstate = state1\n",
    "                state1 = spin_restoration(state1)\n",
    "                # determine the det braket between these two states (an operator in between is assumed and omitted)\n",
    "                detbraket = state0*state1\n",
    "                # simplify this braket of detstates into brakets between regular states\n",
    "                regbraket = Qet({})\n",
    "                for k,v in detbraket.dict.items():\n",
    "                    γ1, m1, γ2, m2, γ1p, m1p, γ2p, m2p = k\n",
    "    #                 k0 = (γ1, m1, γ2, m2, γ1p, m1p, γ2p, m2p)\n",
    "    #                 k1 = (γ1, m1, γ2, m2, γ2p, m2p, γ1p, m1p)\n",
    "                    k0 = (γ1, γ2, γ1p, γ2p)\n",
    "                    k1 = (γ1, γ2, γ2p, γ1p)\n",
    "                    # enforce orthogonality wrt. spin\n",
    "                    if (m1 == m1p) and (m2 == m2p):\n",
    "                        qplus = Qet({k0:v}) \n",
    "                    else:\n",
    "                        qplus = Qet({})\n",
    "                    if (m1 == m2p) and (m2 == m1p):\n",
    "                        qminus = Qet({k1:-v}) \n",
    "                    else:\n",
    "                        qminus = Qet({})\n",
    "                    regbraket += (qplus+qminus)\n",
    "                ham_row.append(regbraket)\n",
    "            ham_matrix.append(ham_row)\n",
    "#         ham_matrix = sp.Matrix(ham_matrix)\n",
    "        term_matrices[term_key] = ham_matrix\n",
    "    config_matrices[config] = term_matrices"
   ]
  },
  {
   "cell_type": "code",
   "execution_count": 39,
   "id": "0bbd9417-7b10-45f3-aa0d-f79f7b849a15",
   "metadata": {},
   "outputs": [
    {
     "data": {
      "text/html": [
       "<pre>✔️ 54 ms (2021-11-18T17:29:23/2021-11-18T17:29:23)</pre>"
      ],
      "text/plain": [
       "<IPython.core.display.HTML object>"
      ]
     },
     "metadata": {},
     "output_type": "display_data"
    }
   ],
   "source": [
    "# def simplify_to_J_and_K(qet):\n",
    "#     '''\n",
    "#     This function takes a regular braket and simplifies the\n",
    "#     expression in terms of J's and K's and coefficients it\n",
    "#     also applies the JK simplification\n",
    "#     '''\n",
    "#     tot = sp.S(0)\n",
    "#     for k,v in qet.dict.items():\n",
    "#         γ1, γ2, γ3, γ4 = k\n",
    "#         if (γ1 == γ4 and γ2 == γ3):\n",
    "#             tot += v*sp.Symbol('K(%s,%s)' % (sp.latex(γ1),sp.latex(γ2)))\n",
    "#         elif (γ1 == γ2 == γ3 == γ4):\n",
    "#             tot += v*sp.Symbol('J(%s,%s)' % (sp.latex(γ1),sp.latex(γ2)))\n",
    "#         elif (γ1 == γ2 and γ3 == γ4):\n",
    "#             tot += v*sp.Symbol('J(%s,%s)' % (sp.latex(γ1),sp.latex(γ3)))\n",
    "#     return tot"
   ]
  },
  {
   "cell_type": "markdown",
   "id": "e87a5674-9201-4c2a-bae1-e5c7afc13aac",
   "metadata": {},
   "source": [
    "<span style=\"color:lime\">\n",
    "2. Many of the brakets in these matrices are related to one another. Use the generators of the group to find the smallest set of independent integrals needed in order to evaluate them. This requires considering equivalences coming from the symmetries of four symbol brakets, and also two symbol brakets. The four symbol brakets would apply to the elements of the configuration matrices, while the two symbol brakets would relate elements within these matrices.\n",
    "</span>"
   ]
  },
  {
   "cell_type": "code",
   "execution_count": 40,
   "id": "cc0b1242-2a17-492f-8972-7a451bf52e80",
   "metadata": {},
   "outputs": [
    {
     "data": {
      "text/html": [
       "<pre>✔️ 13.1 ms (2021-11-18T17:29:29/2021-11-18T17:29:29)</pre>"
      ],
      "text/plain": [
       "<IPython.core.display.HTML object>"
      ]
     },
     "metadata": {},
     "output_type": "display_data"
    }
   ],
   "source": [
    "def composite_symbol(x):\n",
    "    return sp.Symbol('(%s)'%(','.join(list(map(sp.latex,x)))))\n",
    "def fourtuplerecovery(ft):\n",
    "    '''the inverse of composite_symbol'''\n",
    "    return tuple(map(sp.Symbol,sp.latex(ft)[1:-1].split(',')))"
   ]
  },
  {
   "cell_type": "code",
   "execution_count": 41,
   "id": "a74b4727-117b-4d06-8ca5-dd9ca6639150",
   "metadata": {
    "tags": []
   },
   "outputs": [
    {
     "data": {
      "text/html": [
       "<pre>✔️ 2 min 18 s (2021-11-18T17:29:44/2021-11-18T17:32:02)</pre>"
      ],
      "text/plain": [
       "<IPython.core.display.HTML object>"
      ]
     },
     "metadata": {},
     "output_type": "display_data"
    },
    {
     "name": "stdout",
     "output_type": "stream",
     "text": [
      "Creating all 4-symbol identities using the generators of the group ...\n",
      "Creating set of identities ...\n",
      "Finding trivial zeros ...\n",
      "Using them to simplify things ...\n",
      "Creating reality identities ...\n"
     ]
    }
   ],
   "source": [
    "print(\"Creating all 4-symbol identities using the generators of the group ...\")\n",
    "\n",
    "# this   integral_identities  dictionary  will  have  as  keys\n",
    "# 4-tuples  of  irreps  and  its  values  will  be lists whose\n",
    "# elements  are  2-tuples whose first elements are 4-tuples of\n",
    "# irrep  components  and  whose values are qets whose keys are\n",
    "# 4-tuples  of  irrep components and whose values are numeric.\n",
    "# These 4-tuples represent a braket with the Coulomb repulsion\n",
    "# operator in between.\n",
    "\n",
    "integral_identities = {}\n",
    "ir_mats = group.irrep_matrices\n",
    "for ir1, ir2, ir3, ir4 in product(*([group.irrep_labels]*4)):\n",
    "    # To simplify calculations this part\n",
    "    # may only be done over quadruples in a standard\n",
    "    # order.\n",
    "    # Whatever is missed here is then brough back in\n",
    "    # by the reality relations.\n",
    "    altorder1 = (ir3, ir2, ir1, ir4)\n",
    "    altorder2 = (ir1, ir4, ir3, ir2)\n",
    "    altorder3 = (ir3, ir4, ir1, ir2)\n",
    "    if (altorder1 in integral_identities) or\\\n",
    "       (altorder2 in integral_identities) or\\\n",
    "       (altorder3 in integral_identities):\n",
    "        continue\n",
    "    integral_identity_sector = []\n",
    "    components = [component_labels[ir] for ir in [ir1, ir2, ir3, ir4]]\n",
    "    comp_to_idx = [{c: idx for idx, c in enumerate(component_labels[ir])} for ir in [ir1, ir2, ir3, ir4]]\n",
    "    for R in group.generators + [sp.Symbol('{Ee}')]:\n",
    "        R_id = {}\n",
    "        for γ1, γ2, γ3, γ4 in product(*components):\n",
    "            for γ1p, γ2p, γ3p, γ4p in product(*components):\n",
    "                    val = sp.conjugate(ir_mats[ir1][R][comp_to_idx[0][γ1],comp_to_idx[0][γ1p]]) *\\\n",
    "                          sp.conjugate(ir_mats[ir2][R][comp_to_idx[1][γ2],comp_to_idx[1][γ2p]]) *\\\n",
    "                          ir_mats[ir3][R][comp_to_idx[2][γ3],comp_to_idx[2][γ3p]] *\\\n",
    "                          ir_mats[ir4][R][comp_to_idx[3][γ4],comp_to_idx[3][γ4p]]\n",
    "                    if val== 0:\n",
    "                        continue\n",
    "                    key = (γ1, γ2, γ3, γ4)\n",
    "                    if key not in R_id.keys():\n",
    "                        R_id[key] = []\n",
    "                    R_id[key].append( Qet({(γ1p,γ2p,γ3p,γ4p): val}) )\n",
    "        R_id_total = [(key, sum(R_id[key], Qet({}))) for key in R_id.keys()]\n",
    "        R_id_total = [q for q in R_id_total if len(q[1].dict)>0]\n",
    "        integral_identity_sector.extend(R_id_total)\n",
    "    integral_identities[(ir1,ir2,ir3,ir4)] = integral_identity_sector\n",
    "\n",
    "# For solving the linear system it is convenient\n",
    "# to have everything on one side of the equation.\n",
    "\n",
    "print(\"Creating set of identities ...\")\n",
    "identities = {}\n",
    "for ircombo in integral_identities:\n",
    "    these_ids = []\n",
    "    for v in integral_identities[ircombo]:\n",
    "        lhs, rhs = v\n",
    "        diff = Qet({lhs:1}) - rhs\n",
    "        if len(diff.dict) > 0:\n",
    "            these_ids.append(diff)\n",
    "    identities[ircombo] = these_ids\n",
    "\n",
    "# If an equation has only one key, then\n",
    "# that immediately means that that braket is zero.\n",
    "\n",
    "print(\"Finding trivial zeros ...\")\n",
    "# first determine which ones have to be zero\n",
    "better_identities = {irc:[] for irc in identities}\n",
    "all_zeros = {}\n",
    "for ircombo in identities:\n",
    "    zeros = []\n",
    "    for identity in identities[ircombo]:\n",
    "        if len(identity.dict) == 1:\n",
    "            zeros.append((list(identity.dict.keys())[0]))\n",
    "        else:\n",
    "            better_identities[ircombo].append(identity)\n",
    "    all_zeros[ircombo] = zeros\n",
    "\n",
    "# use them to simplify things.    \n",
    "print(\"Using them to simplify things ...\")\n",
    "great_identities = {irc:[] for irc in identities}\n",
    "for ircombo in better_identities:\n",
    "    for identity in better_identities[ircombo]:\n",
    "        new_qet = Qet({})\n",
    "        for k,v in identity.dict.items():\n",
    "            if k in all_zeros[ircombo]:\n",
    "                continue\n",
    "            else:\n",
    "                new_qet+= Qet({k: v})\n",
    "        if len(new_qet.dict) == 0:\n",
    "            continue\n",
    "        great_identities[ircombo].append(new_qet)\n",
    "\n",
    "# Inside of a four-symbol braket one may do three exchanges\n",
    "# that must result in the same value. That if the wave\n",
    "# functions are assumed to be real-valued.\n",
    "print(\"Creating reality identities ...\")\n",
    "real_var_simplifiers = {irc:[] for irc in great_identities}\n",
    "kprimes = set()\n",
    "# this has to run over all the quadruples of irs\n",
    "for ir1, ir2, ir3, ir4 in product(*([group.irrep_labels]*4)):\n",
    "    real_var_simplifier = {}\n",
    "    ircombo = (ir1, ir2, ir3, ir4)\n",
    "    components = [component_labels[ir] for ir in ircombo]\n",
    "    for γ1, γ2, γ3, γ4 in product(*components):\n",
    "        k = (γ1, γ2, γ3, γ4)\n",
    "        kalt1 = (γ3, γ2, γ1, γ4)\n",
    "        kalt2 = (γ1, γ4, γ3, γ2)\n",
    "        kalt3 = (γ3, γ4, γ1, γ2)\n",
    "        if kalt1 in kprimes:\n",
    "            real_var_simplifier[k] = kalt1\n",
    "        elif kalt2 in kprimes:\n",
    "            real_var_simplifier[k] = kalt2\n",
    "        elif kalt3 in kprimes:\n",
    "            real_var_simplifier[k] = kalt3\n",
    "        else:\n",
    "            real_var_simplifier[k] = k\n",
    "            kprimes.add(k)\n",
    "    real_var_simplifiers[ircombo] = real_var_simplifier\n",
    "\n",
    "real_var_full_simplifier = {}\n",
    "for ircombo in real_var_simplifiers:\n",
    "    real_var_full_simplifier.update(real_var_simplifiers[ircombo])"
   ]
  },
  {
   "cell_type": "code",
   "execution_count": 42,
   "id": "df34b510-d095-47fc-ba68-334cc26bd5f6",
   "metadata": {},
   "outputs": [
    {
     "data": {
      "text/html": [
       "<pre>✔️ 6.75 s (2021-11-18T17:32:02/2021-11-18T17:32:09)</pre>"
      ],
      "text/plain": [
       "<IPython.core.display.HTML object>"
      ]
     },
     "metadata": {},
     "output_type": "display_data"
    }
   ],
   "source": [
    "!beep"
   ]
  },
  {
   "cell_type": "code",
   "execution_count": 44,
   "id": "f4064de1-3998-42e1-ad1c-890dc346f09b",
   "metadata": {
    "tags": []
   },
   "outputs": [
    {
     "data": {
      "text/html": [
       "<pre>✔️ 5 min 28 s (2021-11-18T17:33:10/2021-11-18T17:38:38)</pre>"
      ],
      "text/plain": [
       "<IPython.core.display.HTML object>"
      ]
     },
     "metadata": {},
     "output_type": "display_data"
    },
    {
     "name": "stdout",
     "output_type": "stream",
     "text": [
      "Solving all ...\n",
      "Creating a dictionary with all the 4-symbol replacements ...\n",
      "Simplifying configuration matrices ...\n"
     ]
    }
   ],
   "source": [
    "# For each 4-tuple of irreps\n",
    "# create a system of symbolic solutions\n",
    "# and let sympy solve that.\n",
    "# For each 4-tuple of irreps\n",
    "# the end result is a dictionary\n",
    "# whose keys represent the dependent\n",
    "# brakets and whose values are the\n",
    "# relation that those dependent values\n",
    "# have with the independent brakets.\n",
    "# As such, when these dictionaries are\n",
    "# used on an expression, everything should\n",
    "# then be given in terms of indepedent brakets.\n",
    "\n",
    "print(\"Solving all ...\")\n",
    "all_sols = {irc:[] for irc in great_identities}\n",
    "for ircombo in great_identities:\n",
    "    zeros = all_zeros[ircombo]\n",
    "    problem_vars = list(set(sum([list(identity.dict.keys()) for identity in great_identities[ircombo]],[])))\n",
    "    big_ma = [awe.vec_in_basis(problem_vars) for awe in great_identities[ircombo]] \n",
    "    big_mat = sp.Matrix(big_ma)\n",
    "    rref_mat, pivots = big_mat.rref()\n",
    "    num_rows = rref_mat.rows\n",
    "    num_cols = rref_mat.cols\n",
    "    rref_ma_non_zero = [rref_mat[row,:] for row in range(num_rows) if (sum(np.array(rref_mat[row,:])[0] == 0) != num_cols)]\n",
    "    rref_mat_non_zero = sp.Matrix(rref_ma_non_zero)\n",
    "    varvec = sp.Matrix(list(map(composite_symbol,problem_vars)))\n",
    "    eqns = rref_mat_non_zero*varvec\n",
    "    ssol = sp.solve(list(eqns), dict=True)\n",
    "    all_sols[ircombo] = ssol\n",
    "    assert len(ssol) in [0,1]\n",
    "    if len(ssol) == 0:\n",
    "        sol_dict = {}\n",
    "    else:\n",
    "        sol_dict = ssol[0]\n",
    "    zero_addendum = {k:{} for k in all_zeros[ircombo]}\n",
    "    sol_dict = {fourtuplerecovery(k):{fourtuplerecovery(s):v.coeff(s) for s in v.free_symbols} for k,v in sol_dict.items()}\n",
    "    sol_dict.update(zero_addendum)\n",
    "    all_sols[ircombo] = sol_dict\n",
    "\n",
    "# This final dictionary is unnecessary but\n",
    "# simplifies calling the replacements onto\n",
    "# a symbolic expression.\n",
    "\n",
    "print(\"Creating a dictionary with all the 4-symbol replacements ...\")\n",
    "super_solution = {}\n",
    "for ircombo in all_sols:\n",
    "    super_solution.update(all_sols[ircombo])\n",
    "\n",
    "def simplifier(qet):\n",
    "    simp_ket = Qet({})\n",
    "    for k,v in qet.dict.items():\n",
    "        simp_ket += Qet({real_var_full_simplifier[k]:v})\n",
    "    true_qet = Qet({})\n",
    "    for k,v in simp_ket.dict.items():\n",
    "        if k in super_solution:\n",
    "            true_qet += v*Qet(super_solution[k])\n",
    "        else:\n",
    "            true_qet += Qet({k:v})\n",
    "    return true_qet#.as_braket()\n",
    "def simplify_config_matrix(ir1ir2, S, ir3):\n",
    "    config_matrix = config_matrices[ir1ir2][(S,ir3)]\n",
    "    num_rows = len(config_matrix)\n",
    "    simple_matrix = [[simplifier(config_matrix[row][col]) for col in range(num_rows)] for row in range(num_rows)]\n",
    "    #simple_matrix = sp.Matrix(simple_matrix)\n",
    "    return simple_matrix\n",
    "\n",
    "print(\"Simplifying configuration matrices ...\")\n",
    "simple_config_matrices = {k:{} for k in config_matrices}\n",
    "for ir1ir2 in config_matrices.keys():\n",
    "    for term_key in config_matrices[ir1ir2]:\n",
    "        S, Γ3 = term_key\n",
    "        simple_config_matrices[ir1ir2][term_key] = simplify_config_matrix(ir1ir2, S, Γ3)"
   ]
  },
  {
   "cell_type": "code",
   "execution_count": 45,
   "id": "061a9920-0fc1-4a7c-b6b4-1d9cdf592ca8",
   "metadata": {},
   "outputs": [
    {
     "data": {
      "text/html": [
       "<pre>✔️ 5.75 s (2021-11-18T17:38:38/2021-11-18T17:38:44)</pre>"
      ],
      "text/plain": [
       "<IPython.core.display.HTML object>"
      ]
     },
     "metadata": {},
     "output_type": "display_data"
    }
   ],
   "source": [
    "!beep"
   ]
  },
  {
   "cell_type": "code",
   "execution_count": 47,
   "id": "a62fbfd9-1967-4d54-a60b-8964c4398613",
   "metadata": {
    "tags": []
   },
   "outputs": [
    {
     "data": {
      "text/html": [
       "<pre>✔️ 216 ms (2021-11-18T17:39:19/2021-11-18T17:39:19)</pre>"
      ],
      "text/plain": [
       "<IPython.core.display.HTML object>"
      ]
     },
     "metadata": {},
     "output_type": "display_data"
    },
    {
     "name": "stdout",
     "output_type": "stream",
     "text": [
      "Creating all 2-symbol identities using the generators of the group ...\n",
      "Creating set of identities ...\n",
      "Finding trivial zeros ...\n",
      "Using them to simplify things ...\n",
      "Creating reality identities ...\n"
     ]
    }
   ],
   "source": [
    "twotuplerecovery = fourtuplerecovery\n",
    "\n",
    "print(\"Creating all 2-symbol identities using the generators of the group ...\")\n",
    "\n",
    "# this   integral_identities  dictionary  will  have  as  keys\n",
    "# 2-tuples  of  irreps  and  its  values  will  be lists whose\n",
    "# elements  are  2-tuples whose first elements are 2-tuples of\n",
    "# irrep  components  and  whose values are qets whose keys are\n",
    "# 2-tuples  of  irrep components and whose values are numeric.\n",
    "# These 2-tuples represent a braket with the an invariant operator\n",
    "# operator in between.\n",
    "\n",
    "integral_identities_2 = {}\n",
    "ir_mats = group.irrep_matrices\n",
    "for ir1, ir2 in product(*([group.irrep_labels]*2)):\n",
    "    # To simplify calculations this part\n",
    "    # can only be done over quadruples in a standard\n",
    "    # order.\n",
    "    # Whatever is missed here is then brough back in\n",
    "    # by the reality relations.\n",
    "    altorder1 = (ir2, ir1, ir1, ir4)\n",
    "    if (altorder1 in integral_identities_2):\n",
    "        continue\n",
    "    integral_identity_sector = []\n",
    "    components = [component_labels[ir] for ir in [ir1, ir2]]\n",
    "    comp_to_idx = [{c: idx for idx, c in enumerate(component_labels[ir])} for ir in [ir1, ir2]]\n",
    "    for R in group.generators + [sp.Symbol('{Ee}')]:\n",
    "        R_id = {}\n",
    "        for γ1, γ2 in product(*components):\n",
    "            for γ1p, γ2p in product(*components):\n",
    "                    val = sp.conjugate(ir_mats[ir1][R][comp_to_idx[0][γ1],comp_to_idx[0][γ1p]]) *\\\n",
    "                          ir_mats[ir2][R][comp_to_idx[1][γ2],comp_to_idx[1][γ2p]]\n",
    "                    if val== 0:\n",
    "                        continue\n",
    "                    key = (γ1, γ2)\n",
    "                    if key not in R_id.keys():\n",
    "                        R_id[key] = []\n",
    "                    R_id[key].append( Qet({(γ1p,γ2p): val}) )\n",
    "        R_id_total = [(key, sum(R_id[key], Qet({}))) for key in R_id.keys()]\n",
    "        R_id_total = [q for q in R_id_total if len(q[1].dict)>0]\n",
    "        integral_identity_sector.extend(R_id_total)\n",
    "    integral_identities_2[(ir1,ir2)] = integral_identity_sector\n",
    "\n",
    "# For solving the linear system it is convenient\n",
    "# to have everything on one side of the equation.\n",
    "\n",
    "print(\"Creating set of identities ...\")\n",
    "identities_2 = {}\n",
    "for ircombo in integral_identities_2:\n",
    "    these_ids = []\n",
    "    for v in integral_identities_2[ircombo]:\n",
    "        lhs, rhs = v\n",
    "        diff = Qet({lhs:1}) - rhs\n",
    "        if len(diff.dict) > 0:\n",
    "            these_ids.append(diff)\n",
    "    identities_2[ircombo] = these_ids\n",
    "    \n",
    "# If an equation has only one term, then\n",
    "# that immediately means that that term is zero.\n",
    "\n",
    "print(\"Finding trivial zeros ...\")\n",
    "# first determine which ones have to be zero\n",
    "better_identities_2 = {irc:[] for irc in identities_2}\n",
    "all_zeros_2 = {}\n",
    "for ircombo in identities_2:\n",
    "    zeros = []\n",
    "    for identity in identities_2[ircombo]:\n",
    "        if len(identity.dict) == 1:\n",
    "            zeros.append((list(identity.dict.keys())[0]))\n",
    "        else:\n",
    "            better_identities_2[ircombo].append(identity)\n",
    "    all_zeros_2[ircombo] = zeros\n",
    "\n",
    "# use them to simplify things.    \n",
    "print(\"Using them to simplify things ...\")\n",
    "great_identities_2 = {irc:[] for irc in identities_2}\n",
    "for ircombo in better_identities_2:\n",
    "    for identity in better_identities_2[ircombo]:\n",
    "        new_qet = Qet({})\n",
    "        for k,v in identity.dict.items():\n",
    "            if k in all_zeros_2[ircombo]:\n",
    "                continue\n",
    "            else:\n",
    "                new_qet+= Qet({k: v})\n",
    "        if len(new_qet.dict) == 0:\n",
    "            continue\n",
    "        great_identities_2[ircombo].append(new_qet)\n",
    "\n",
    "# Inside of a two-symbol braket one may do three exchanges\n",
    "# that must result in the same value. That if the wave\n",
    "# functions are assumed to be real-valued.\n",
    "\n",
    "print(\"Creating reality identities ...\")\n",
    "real_var_simplifiers_2 = {irc:[] for irc in great_identities_2}\n",
    "# this has to run over all the quadruples of irs\n",
    "kprimes = set()\n",
    "for ir1, ir2 in product(*([group.irrep_labels]*2)):\n",
    "    real_var_simplifier = {}\n",
    "    ircombo = (ir1, ir2)\n",
    "    components = [component_labels[ir] for ir in ircombo]\n",
    "    for γ1, γ2 in product(*components):\n",
    "        k = (γ1, γ2)\n",
    "        kalt = (γ2, γ1)\n",
    "        # If for a given key I find that its\n",
    "        # switched version has already been seen\n",
    "        # Then that key has to be mapped to be\n",
    "        # mapped to the key already present.\n",
    "        if kalt in kprimes:\n",
    "            real_var_simplifier[k] = kalt\n",
    "        else:\n",
    "            real_var_simplifier[k] = k\n",
    "            kprimes.add(k)\n",
    "    real_var_simplifiers_2[ircombo] = real_var_simplifier"
   ]
  },
  {
   "cell_type": "code",
   "execution_count": 49,
   "id": "512768c3-a007-4dd0-b91d-8b36a03c51c5",
   "metadata": {
    "tags": []
   },
   "outputs": [
    {
     "data": {
      "text/html": [
       "<pre>✔️ 735 ms (2021-11-18T17:39:32/2021-11-18T17:39:33)</pre>"
      ],
      "text/plain": [
       "<IPython.core.display.HTML object>"
      ]
     },
     "metadata": {},
     "output_type": "display_data"
    },
    {
     "name": "stdout",
     "output_type": "stream",
     "text": [
      "Solving all ...\n"
     ]
    }
   ],
   "source": [
    "# For each 2-tuple of irreps\n",
    "# create a system of symbolic solutions\n",
    "# and let sympy solve that.\n",
    "# For each 2-tuple of irreps\n",
    "# the end result is a dictionary\n",
    "# whose keys represent the dependent\n",
    "# brakets and whose values are the\n",
    "# relation that those dependent values\n",
    "# have with the independent brakets.\n",
    "# As such, when these dictionaries are\n",
    "# used on an expression, everything should\n",
    "# then be given in terms of indepedent brakets.\n",
    "\n",
    "print(\"Solving all ...\")\n",
    "all_sols_2 = {irc:[] for irc in great_identities_2}\n",
    "for ircombo in great_identities_2:\n",
    "    zeros = all_zeros_2[ircombo]\n",
    "    problem_vars = list(set(sum([list(identity.dict.keys()) for identity in great_identities_2[ircombo]],[])))\n",
    "    big_ma = [awe.vec_in_basis(problem_vars) for awe in great_identities_2[ircombo]] \n",
    "    big_mat = sp.Matrix(big_ma)\n",
    "    rref_mat, pivots = big_mat.rref()\n",
    "    num_rows = rref_mat.rows\n",
    "    num_cols = rref_mat.cols\n",
    "    rref_ma_non_zero = [rref_mat[row,:] for row in range(num_rows) if (sum(np.array(rref_mat[row,:])[0] == 0) != num_cols)]\n",
    "    rref_mat_non_zero = sp.Matrix(rref_ma_non_zero)\n",
    "    varvec = sp.Matrix(list(map(composite_symbol,problem_vars)))\n",
    "    eqns = rref_mat_non_zero*varvec\n",
    "    ssol = sp.solve(list(eqns), dict=True)\n",
    "    all_sols[ircombo] = ssol\n",
    "    assert len(ssol) in [0,1]\n",
    "    if len(ssol) == 0:\n",
    "        sol_dict = {}\n",
    "    else:\n",
    "        sol_dict = ssol[0]\n",
    "    zero_addendum = {k:{} for k in all_zeros_2[ircombo]}\n",
    "    sol_dict = {twotuplerecovery(k):{twotuplerecovery(s):v.coeff(s) for s in v.free_symbols} for k,v in sol_dict.items()}\n",
    "    sol_dict.update(zero_addendum)\n",
    "    all_sols_2[ircombo] = sol_dict"
   ]
  },
  {
   "cell_type": "code",
   "execution_count": 51,
   "id": "48b42840-c492-49a7-897f-2385ef08ee08",
   "metadata": {
    "tags": []
   },
   "outputs": [
    {
     "data": {
      "text/html": [
       "<pre>✔️ 234 ms (2021-11-18T17:41:31/2021-11-18T17:41:31)</pre>"
      ],
      "text/plain": [
       "<IPython.core.display.HTML object>"
      ]
     },
     "metadata": {},
     "output_type": "display_data"
    },
    {
     "name": "stdout",
     "output_type": "stream",
     "text": [
      "Creating a dictionary with all the 2-symbol replacements ...\n"
     ]
    }
   ],
   "source": [
    "# This final dictionary is unnecessary but\n",
    "# simplifies calling the replacements onto\n",
    "# a symbolic expression.\n",
    "\n",
    "print(\"Creating a dictionary with all the 2-symbol replacements ...\")\n",
    "super_solution_2 = {}\n",
    "for ircombo in all_sols_2:\n",
    "    super_solution_2.update(all_sols_2[ircombo])\n",
    "    \n",
    "# for a given electron config\n",
    "more_ids = {e_config:[] for e_config in simple_config_matrices}\n",
    "for e_config in simple_config_matrices:\n",
    "    for term in simple_config_matrices[e_config]:\n",
    "        the_matrix = simple_config_matrices[e_config][term]\n",
    "        num_rows = len(the_matrix)\n",
    "        num_cols = len(the_matrix)\n",
    "        the_state_keys = config_supplement[e_config][term]\n",
    "        the_key_matrix = {}\n",
    "        for row_idx in range(num_rows):\n",
    "            Γ3_row = the_state_keys[row_idx][2]\n",
    "            γ3_row = the_state_keys[row_idx][3]\n",
    "            for col_idx in range(num_cols):\n",
    "                Γ3_col = the_state_keys[col_idx][2]\n",
    "                γ3_col = the_state_keys[col_idx][3]\n",
    "                matrix_val = the_matrix[row_idx][col_idx]\n",
    "                the_key_matrix[(γ3_row,γ3_col)] = matrix_val\n",
    "        # now go over the keys of super_solution_2\n",
    "        # and if one of those keys matches with a key in the_key_matrix\n",
    "        # do something about it\n",
    "        for k in super_solution_2:\n",
    "            if k in the_key_matrix:\n",
    "                v = super_solution_2[k]\n",
    "                # this matrix element\n",
    "                matrix_element = the_key_matrix[k]\n",
    "                # must be identified with the sum\n",
    "                # as given in v\n",
    "                matrix_equiv = sum([kv*the_key_matrix[km] for km, kv in v.items()],Qet({}))\n",
    "                identity = (matrix_element - matrix_equiv) #=0\n",
    "                if len(identity.dict) != 0:\n",
    "                    more_ids[e_config].append(identity)\n",
    "                    problem_vars = list(set(sum([list(identity.dict.keys()) for identity in more_ids[e_config]],[])))"
   ]
  },
  {
   "cell_type": "code",
   "execution_count": 55,
   "id": "8c6dd3c1-9cac-4dc1-97ca-37774eb307e3",
   "metadata": {},
   "outputs": [
    {
     "data": {
      "text/html": [
       "<pre>✔️ 85.4 ms (2021-11-18T17:43:36/2021-11-18T17:43:36)</pre>"
      ],
      "text/plain": [
       "<IPython.core.display.HTML object>"
      ]
     },
     "metadata": {},
     "output_type": "display_data"
    }
   ],
   "source": [
    "for e_config in more_ids:\n",
    "    if len(more_ids[e_config]) > 1:\n",
    "        break"
   ]
  },
  {
   "cell_type": "code",
   "execution_count": 71,
   "id": "540ef9ad-6145-43e1-a2e4-38646ae987a9",
   "metadata": {},
   "outputs": [
    {
     "data": {
      "text/html": [
       "<pre>✔️ 16.4 ms (2021-11-18T17:48:55/2021-11-18T17:48:55)</pre>"
      ],
      "text/plain": [
       "<IPython.core.display.HTML object>"
      ]
     },
     "metadata": {},
     "output_type": "display_data"
    }
   ],
   "source": [
    "def simplify_qet(qet):\n",
    "    new_dict = {k:sp.simplify(v) for k,v in qet.dict.items()}\n",
    "    return Qet(new_dict)"
   ]
  },
  {
   "cell_type": "code",
   "execution_count": 72,
   "id": "d6734f36-b1d1-43d5-b299-a00347b11116",
   "metadata": {},
   "outputs": [
    {
     "data": {
      "text/html": [
       "<pre>✔️ 214 ms (2021-11-18T17:49:01/2021-11-18T17:49:02)</pre>"
      ],
      "text/plain": [
       "<IPython.core.display.HTML object>"
      ]
     },
     "metadata": {},
     "output_type": "display_data"
    },
    {
     "data": {
      "text/plain": [
       "[Qet({}),\n",
       " Qet({({\\nu}_{g}, {\\nu}_{g}, {\\nu}_{g}, {\\nu}_{g}): -1/2 + sqrt(3)*I/2, ({\\nu}_{g}, {\\nu}_{g}, {\\mu}_{g}, {\\mu}_{g}): 1/2 - sqrt(3)*I/2}),\n",
       " Qet({({\\nu}_{g}, {\\nu}_{g}, {\\nu}_{g}, {\\nu}_{g}): -1/2 + sqrt(3)*I/2, ({\\nu}_{g}, {\\nu}_{g}, {\\mu}_{g}, {\\mu}_{g}): 1/2 - sqrt(3)*I/2}),\n",
       " Qet({})]"
      ]
     },
     "execution_count": 72,
     "metadata": {},
     "output_type": "execute_result"
    }
   ],
   "source": [
    "list(map(simplify_qet,more_ids[e_config]))"
   ]
  },
  {
   "cell_type": "code",
   "execution_count": 73,
   "id": "c492cf11-857d-41bb-bf9e-bf1be6318a12",
   "metadata": {},
   "outputs": [
    {
     "data": {
      "text/html": [
       "<pre>✔️ 4.79 s (2021-11-18T17:51:27/2021-11-18T17:51:32)</pre>"
      ],
      "text/plain": [
       "<IPython.core.display.HTML object>"
      ]
     },
     "metadata": {},
     "output_type": "display_data"
    }
   ],
   "source": [
    "uber_ids = {e_config:list(filter(lambda x: len(x.dict) > 0,list(map(simplify_qet,more_ids[e_config])))) for e_config in more_ids}"
   ]
  },
  {
   "cell_type": "markdown",
   "id": "17d45202-a838-4ecc-a8da-e7a71dd3c37d",
   "metadata": {},
   "source": [
    "TODO:\n",
    "\n",
    "- add simplifcation of numeric values of qets in more_ids\n",
    "- add complex simplification of big_mat"
   ]
  },
  {
   "cell_type": "code",
   "execution_count": null,
   "id": "98399d00-e145-4907-988c-7028d2893901",
   "metadata": {},
   "outputs": [],
   "source": [
    "print(\"Simplifying numeric values of qets ...\")\n",
    "more_ids = {e_config:list(filter(lambda x: len(x.dict) > 0,list(map(simplify_qet,more_ids[e_config])))) for e_config in more_ids}"
   ]
  },
  {
   "cell_type": "code",
   "execution_count": 96,
   "id": "d4e280d8-f461-4681-9dd2-3c221ab85f7d",
   "metadata": {
    "tags": []
   },
   "outputs": [
    {
     "data": {
      "text/html": [
       "<pre>✔️ 218 ms (2021-11-18T18:09:16/2021-11-18T18:09:16)</pre>"
      ],
      "text/plain": [
       "<IPython.core.display.HTML object>"
      ]
     },
     "metadata": {},
     "output_type": "display_data"
    }
   ],
   "source": [
    "big_mat = sp.Matrix(big_ma)\n",
    "big_mat = sp.re(big_mat) + sp.I*sp.im(big_mat)\n",
    "rref_mat, pivots = big_mat.rref()\n",
    "num_rows = rref_mat.rows\n",
    "num_cols = rref_mat.cols"
   ]
  },
  {
   "cell_type": "code",
   "execution_count": 97,
   "id": "20134318-3217-4180-9680-b3d8fe34835a",
   "metadata": {
    "tags": []
   },
   "outputs": [
    {
     "data": {
      "text/html": [
       "<pre>✔️ 250 ms (2021-11-18T18:09:34/2021-11-18T18:09:34)</pre>"
      ],
      "text/plain": [
       "<IPython.core.display.HTML object>"
      ]
     },
     "metadata": {},
     "output_type": "display_data"
    },
    {
     "name": "stdout",
     "output_type": "stream",
     "text": [
      "Solving for dependent vars in terms of independent ones ...\n",
      "a_{{1g}}**2\n",
      "a_{{2u}}**2\n",
      "a_{{1u}}**2\n",
      "a_{{2g}}**2\n",
      "e_{u}**2\n",
      "e_{g}**2\n",
      "t_{{1g}}**2\n",
      "t_{{2g}}**2\n",
      "t_{{1u}}**2\n",
      "t_{{2u}}**2\n",
      "a_{{1g}}*a_{{2u}}\n",
      "a_{{1u}}*a_{{2g}}\n",
      "e_{g}*e_{u}\n",
      "t_{{1g}}*t_{{2u}}\n",
      "t_{{1u}}*t_{{2g}}\n",
      "a_{{1g}}*a_{{1u}}\n",
      "a_{{2g}}*a_{{2u}}\n",
      "t_{{1g}}*t_{{1u}}\n",
      "t_{{2g}}*t_{{2u}}\n",
      "a_{{1g}}*a_{{2g}}\n",
      "a_{{1u}}*a_{{2u}}\n",
      "t_{{1g}}*t_{{2g}}\n",
      "t_{{1u}}*t_{{2u}}\n",
      "a_{{1g}}*e_{u}\n",
      "a_{{2u}}*e_{g}\n",
      "a_{{1u}}*e_{g}\n",
      "a_{{2g}}*e_{u}\n",
      "a_{{1g}}*e_{g}\n",
      "a_{{2u}}*e_{u}\n",
      "a_{{1u}}*e_{u}\n",
      "a_{{2g}}*e_{g}\n",
      "a_{{1g}}*t_{{1g}}\n",
      "a_{{2u}}*t_{{2u}}\n",
      "a_{{1u}}*t_{{1u}}\n",
      "a_{{2g}}*t_{{2g}}\n",
      "e_{u}*t_{{1u}}\n",
      "e_{u}*t_{{2u}}\n",
      "e_{g}*t_{{1g}}\n",
      "e_{g}*t_{{2g}}\n",
      "a_{{1g}}*t_{{2g}}\n",
      "a_{{2u}}*t_{{1u}}\n",
      "a_{{1u}}*t_{{2u}}\n",
      "a_{{2g}}*t_{{1g}}\n",
      "a_{{1g}}*t_{{1u}}\n",
      "a_{{2u}}*t_{{2g}}\n",
      "a_{{1u}}*t_{{1g}}\n",
      "a_{{2g}}*t_{{2u}}\n",
      "e_{u}*t_{{1g}}\n",
      "e_{u}*t_{{2g}}\n",
      "e_{g}*t_{{1u}}\n",
      "e_{g}*t_{{2u}}\n",
      "a_{{1g}}*t_{{2u}}\n",
      "a_{{2u}}*t_{{1g}}\n",
      "a_{{1u}}*t_{{2g}}\n",
      "a_{{2g}}*t_{{1u}}\n"
     ]
    }
   ],
   "source": [
    "print(\"Solving for dependent vars in terms of independent ones ...\")\n",
    "all_sols_2_4 = {irc:[] for irc in more_ids}\n",
    "for e_config in more_ids:\n",
    "    print(e_config)\n",
    "    problem_vars = list(set(sum([list(identity.dict.keys()) for identity in more_ids[e_config]],[])))\n",
    "    big_ma = [awe.vec_in_basis(problem_vars) for awe in more_ids[e_config]] \n",
    "    big_mat = sp.Matrix(big_ma)\n",
    "    big_mat = sp.re(big_mat) + sp.I*sp.im(big_mat)\n",
    "    rref_mat, pivots = big_mat.rref()\n",
    "    num_rows = rref_mat.rows\n",
    "    num_cols = rref_mat.cols\n",
    "    rref_ma_non_zero = [rref_mat[row,:] for row in range(num_rows) if (sum(np.array(rref_mat[row,:])[0] == 0) != num_cols)]\n",
    "    rref_mat_non_zero = sp.Matrix(rref_ma_non_zero)\n",
    "    varvec = sp.Matrix(list(map(composite_symbol, problem_vars)))\n",
    "    eqns = rref_mat_non_zero*varvec\n",
    "    ssol = sp.solve(list(eqns), dict=True)\n",
    "    all_sols_2_4[e_config] = ssol\n",
    "    assert len(ssol) in [0,1]\n",
    "    if len(ssol) == 0:\n",
    "        sol_dict = {}\n",
    "    else:\n",
    "        sol_dict = ssol[0]\n",
    "    sol_dict = {twotuplerecovery(k):{twotuplerecovery(s):v.coeff(s) for s in v.free_symbols} for k,v in sol_dict.items()}\n",
    "    all_sols_2_4[e_config] = sol_dict"
   ]
  },
  {
   "cell_type": "code",
   "execution_count": null,
   "id": "e6d472fd-895f-40aa-ac23-f52e3d54e8df",
   "metadata": {
    "tags": []
   },
   "outputs": [],
   "source": [
    "# flatten into a single dictionary of replacements\n",
    "fab_solution_2_4 = {}\n",
    "for e_config in all_sols_2_4:\n",
    "    fab_solution_2_4.update(all_sols_2_4[e_config])\n",
    "\n",
    "print(\"There are %d less independent variables ...\" % len(fab_solution_2_4))    \n",
    "\n",
    "def simplifier_f(qet):\n",
    "    true_qet = Qet({})\n",
    "    for k,v in qet.dict.items():\n",
    "        if k in fab_solution_2_4:\n",
    "            true_qet += v*Qet(fab_solution_2_4[k])\n",
    "        else:\n",
    "            true_qet += Qet({k:v})\n",
    "    return true_qet#.as_braket()\n",
    "def simplify_config_matrix_f(ir1ir2, S, ir3):\n",
    "    config_matrix = simple_config_matrices[ir1ir2][(S,ir3)]\n",
    "    num_rows = len(config_matrix)\n",
    "    simple_matrix = [[simplifier_f(config_matrix[row][col]) for col in range(num_rows)] for row in range(num_rows)]\n",
    "    #simple_matrix = sp.Matrix(simple_matrix)\n",
    "    return simple_matrix\n",
    "\n",
    "print(\"Making final simplifications ...\")\n",
    "final_config_matrices = {k:{} for k in config_matrices}\n",
    "for ir1ir2 in config_matrices.keys():\n",
    "    for term_key in config_matrices[ir1ir2]:\n",
    "        S, Γ3 = term_key\n",
    "        final_config_matrices[ir1ir2][term_key] = simplify_config_matrix_f(ir1ir2, S, Γ3)\n",
    "\n",
    "print(\"Printing ...\")\n",
    "for counter, ir1ir2 in enumerate(final_config_matrices):\n",
    "    print('-'*10)\n",
    "    display(ir1ir2)\n",
    "    for term_key in final_config_matrices[ir1ir2]:\n",
    "        display(term_key)\n",
    "        display(sp.Matrix([[el.as_braket() for el in row] for row in final_config_matrices[ir1ir2][term_key]]))"
   ]
  },
  {
   "cell_type": "code",
   "execution_count": null,
   "id": "7f16f3ed-fff7-478a-b200-c93a1f61d01c",
   "metadata": {},
   "outputs": [],
   "source": [
    "!beep"
   ]
  },
  {
   "cell_type": "code",
   "execution_count": 26,
   "id": "b5b12a84-9010-4675-b841-4e58fa2197d5",
   "metadata": {},
   "outputs": [
    {
     "data": {
      "text/html": [
       "<pre>✔️ 38.8 ms (2021-11-18T16:34:52/2021-11-18T16:34:52)</pre>"
      ],
      "text/plain": [
       "<IPython.core.display.HTML object>"
      ]
     },
     "metadata": {},
     "output_type": "display_data"
    },
    {
     "data": {
      "text/plain": [
       "{-3*<{\\zeta}{\\zeta}|{\\gamma}{\\gamma}> + <{\\zeta}{\\zeta}|{\\zeta}{\\zeta}>}"
      ]
     },
     "execution_count": 26,
     "metadata": {},
     "output_type": "execute_result"
    }
   ],
   "source": [
    "set(sum([[el.as_braket() for el in row if el.as_braket()!=0] for row in final_config_matrices[ir1ir2][term_key]],[]))"
   ]
  },
  {
   "cell_type": "code",
   "execution_count": 27,
   "id": "71efead7-aa2a-426f-93fa-fdd1a3343285",
   "metadata": {},
   "outputs": [
    {
     "data": {
      "text/html": [
       "<pre>✔️ 433 ms (2021-11-18T16:35:02/2021-11-18T16:35:02)</pre>"
      ],
      "text/plain": [
       "<IPython.core.display.HTML object>"
      ]
     },
     "metadata": {},
     "output_type": "display_data"
    },
    {
     "name": "stdout",
     "output_type": "stream",
     "text": [
      "Counting ...\n",
      "----------\n"
     ]
    },
    {
     "data": {
      "text/latex": [
       "$\\displaystyle a_{1}^{2}$"
      ],
      "text/plain": [
       "a_{1}**2"
      ]
     },
     "metadata": {},
     "output_type": "display_data"
    },
    {
     "data": {
      "text/plain": [
       "(0, A_1)"
      ]
     },
     "metadata": {},
     "output_type": "display_data"
    },
    {
     "data": {
      "text/plain": [
       "1"
      ]
     },
     "metadata": {},
     "output_type": "display_data"
    },
    {
     "data": {
      "text/latex": [
       "$\\displaystyle \\left[\\begin{matrix}\\left\\langle {\\alpha}{\\alpha} \\right. {\\left|{\\alpha}{\\alpha}\\right\\rangle }\\end{matrix}\\right]$"
      ],
      "text/plain": [
       "Matrix([[<{\\alpha}{\\alpha}|{\\alpha}{\\alpha}>]])"
      ]
     },
     "metadata": {},
     "output_type": "display_data"
    },
    {
     "name": "stdout",
     "output_type": "stream",
     "text": [
      "----------\n"
     ]
    },
    {
     "data": {
      "text/latex": [
       "$\\displaystyle a_{2}^{2}$"
      ],
      "text/plain": [
       "a_{2}**2"
      ]
     },
     "metadata": {},
     "output_type": "display_data"
    },
    {
     "data": {
      "text/plain": [
       "(0, A_1)"
      ]
     },
     "metadata": {},
     "output_type": "display_data"
    },
    {
     "data": {
      "text/plain": [
       "1"
      ]
     },
     "metadata": {},
     "output_type": "display_data"
    },
    {
     "data": {
      "text/latex": [
       "$\\displaystyle \\left[\\begin{matrix}\\left\\langle {\\beta}{\\beta} \\right. {\\left|{\\beta}{\\beta}\\right\\rangle }\\end{matrix}\\right]$"
      ],
      "text/plain": [
       "Matrix([[<{\\beta}{\\beta}|{\\beta}{\\beta}>]])"
      ]
     },
     "metadata": {},
     "output_type": "display_data"
    },
    {
     "name": "stdout",
     "output_type": "stream",
     "text": [
      "----------\n"
     ]
    },
    {
     "data": {
      "text/latex": [
       "$\\displaystyle e^{2}$"
      ],
      "text/plain": [
       "e**2"
      ]
     },
     "metadata": {},
     "output_type": "display_data"
    },
    {
     "data": {
      "text/plain": [
       "(0, A_1)"
      ]
     },
     "metadata": {},
     "output_type": "display_data"
    },
    {
     "data": {
      "text/plain": [
       "1"
      ]
     },
     "metadata": {},
     "output_type": "display_data"
    },
    {
     "data": {
      "text/latex": [
       "$\\displaystyle \\left[\\begin{matrix}\\left\\langle {\\zeta}{\\zeta} \\right. {\\left|{\\gamma}{\\gamma}\\right\\rangle } + \\left\\langle {\\zeta}{\\zeta} \\right. {\\left|{\\zeta}{\\zeta}\\right\\rangle }\\end{matrix}\\right]$"
      ],
      "text/plain": [
       "Matrix([[<{\\zeta}{\\zeta}|{\\gamma}{\\gamma}> + <{\\zeta}{\\zeta}|{\\zeta}{\\zeta}>]])"
      ]
     },
     "metadata": {},
     "output_type": "display_data"
    },
    {
     "data": {
      "text/plain": [
       "(1, A_2)"
      ]
     },
     "metadata": {},
     "output_type": "display_data"
    },
    {
     "data": {
      "text/plain": [
       "1"
      ]
     },
     "metadata": {},
     "output_type": "display_data"
    },
    {
     "data": {
      "text/latex": [
       "$\\displaystyle \\left[\\begin{matrix}- 3 \\left\\langle {\\zeta}{\\zeta} \\right. {\\left|{\\gamma}{\\gamma}\\right\\rangle } + \\left\\langle {\\zeta}{\\zeta} \\right. {\\left|{\\zeta}{\\zeta}\\right\\rangle } & 0 & 0\\\\0 & - 3 \\left\\langle {\\zeta}{\\zeta} \\right. {\\left|{\\gamma}{\\gamma}\\right\\rangle } + \\left\\langle {\\zeta}{\\zeta} \\right. {\\left|{\\zeta}{\\zeta}\\right\\rangle } & 0\\\\0 & 0 & - 3 \\left\\langle {\\zeta}{\\zeta} \\right. {\\left|{\\gamma}{\\gamma}\\right\\rangle } + \\left\\langle {\\zeta}{\\zeta} \\right. {\\left|{\\zeta}{\\zeta}\\right\\rangle }\\end{matrix}\\right]$"
      ],
      "text/plain": [
       "Matrix([\n",
       "[-3*<{\\zeta}{\\zeta}|{\\gamma}{\\gamma}> + <{\\zeta}{\\zeta}|{\\zeta}{\\zeta}>,                                                                      0,                                                                      0],\n",
       "[                                                                     0, -3*<{\\zeta}{\\zeta}|{\\gamma}{\\gamma}> + <{\\zeta}{\\zeta}|{\\zeta}{\\zeta}>,                                                                      0],\n",
       "[                                                                     0,                                                                      0, -3*<{\\zeta}{\\zeta}|{\\gamma}{\\gamma}> + <{\\zeta}{\\zeta}|{\\zeta}{\\zeta}>]])"
      ]
     },
     "metadata": {},
     "output_type": "display_data"
    },
    {
     "data": {
      "text/plain": [
       "(0, E)"
      ]
     },
     "metadata": {},
     "output_type": "display_data"
    },
    {
     "data": {
      "text/plain": [
       "1"
      ]
     },
     "metadata": {},
     "output_type": "display_data"
    },
    {
     "data": {
      "text/latex": [
       "$\\displaystyle \\left[\\begin{matrix}- \\left\\langle {\\zeta}{\\zeta} \\right. {\\left|{\\gamma}{\\gamma}\\right\\rangle } + \\left\\langle {\\zeta}{\\zeta} \\right. {\\left|{\\zeta}{\\zeta}\\right\\rangle } & 0\\\\0 & - \\left\\langle {\\zeta}{\\zeta} \\right. {\\left|{\\gamma}{\\gamma}\\right\\rangle } + \\left\\langle {\\zeta}{\\zeta} \\right. {\\left|{\\zeta}{\\zeta}\\right\\rangle }\\end{matrix}\\right]$"
      ],
      "text/plain": [
       "Matrix([\n",
       "[-<{\\zeta}{\\zeta}|{\\gamma}{\\gamma}> + <{\\zeta}{\\zeta}|{\\zeta}{\\zeta}>,                                                                    0],\n",
       "[                                                                   0, -<{\\zeta}{\\zeta}|{\\gamma}{\\gamma}> + <{\\zeta}{\\zeta}|{\\zeta}{\\zeta}>]])"
      ]
     },
     "metadata": {},
     "output_type": "display_data"
    },
    {
     "name": "stdout",
     "output_type": "stream",
     "text": [
      "----------\n"
     ]
    },
    {
     "data": {
      "text/latex": [
       "$\\displaystyle t_{1}^{2}$"
      ],
      "text/plain": [
       "t_{1}**2"
      ]
     },
     "metadata": {},
     "output_type": "display_data"
    },
    {
     "data": {
      "text/plain": [
       "(0, A_1)"
      ]
     },
     "metadata": {},
     "output_type": "display_data"
    },
    {
     "data": {
      "text/plain": [
       "1"
      ]
     },
     "metadata": {},
     "output_type": "display_data"
    },
    {
     "data": {
      "text/latex": [
       "$\\displaystyle \\left[\\begin{matrix}2 \\left\\langle {\\nu}{\\nu} \\right. {\\left|{\\mu}{\\mu}\\right\\rangle } + \\left\\langle {\\nu}{\\nu} \\right. {\\left|{\\nu}{\\nu}\\right\\rangle }\\end{matrix}\\right]$"
      ],
      "text/plain": [
       "Matrix([[2*<{\\nu}{\\nu}|{\\mu}{\\mu}> + <{\\nu}{\\nu}|{\\nu}{\\nu}>]])"
      ]
     },
     "metadata": {},
     "output_type": "display_data"
    },
    {
     "data": {
      "text/plain": [
       "(0, E)"
      ]
     },
     "metadata": {},
     "output_type": "display_data"
    },
    {
     "data": {
      "text/plain": [
       "1"
      ]
     },
     "metadata": {},
     "output_type": "display_data"
    },
    {
     "data": {
      "text/latex": [
       "$\\displaystyle \\left[\\begin{matrix}- \\left\\langle {\\nu}{\\nu} \\right. {\\left|{\\mu}{\\mu}\\right\\rangle } + \\left\\langle {\\nu}{\\nu} \\right. {\\left|{\\nu}{\\nu}\\right\\rangle } & 0\\\\0 & - \\left\\langle {\\nu}{\\nu} \\right. {\\left|{\\mu}{\\mu}\\right\\rangle } + \\left\\langle {\\nu}{\\nu} \\right. {\\left|{\\nu}{\\nu}\\right\\rangle }\\end{matrix}\\right]$"
      ],
      "text/plain": [
       "Matrix([\n",
       "[-<{\\nu}{\\nu}|{\\mu}{\\mu}> + <{\\nu}{\\nu}|{\\nu}{\\nu}>,                                                  0],\n",
       "[                                                 0, -<{\\nu}{\\nu}|{\\mu}{\\mu}> + <{\\nu}{\\nu}|{\\nu}{\\nu}>]])"
      ]
     },
     "metadata": {},
     "output_type": "display_data"
    },
    {
     "data": {
      "text/plain": [
       "(1, T_1)"
      ]
     },
     "metadata": {},
     "output_type": "display_data"
    },
    {
     "data": {
      "text/plain": [
       "1"
      ]
     },
     "metadata": {},
     "output_type": "display_data"
    },
    {
     "data": {
      "text/latex": [
       "$\\displaystyle \\left[\\begin{matrix}\\left\\langle {\\nu}{\\mu} \\right. {\\left|{\\nu}{\\mu}\\right\\rangle } - \\left\\langle {\\nu}{\\nu} \\right. {\\left|{\\mu}{\\mu}\\right\\rangle } & 0 & 0 & 0 & 0 & 0 & 0 & 0 & 0\\\\0 & \\left\\langle {\\nu}{\\mu} \\right. {\\left|{\\nu}{\\mu}\\right\\rangle } - \\left\\langle {\\nu}{\\nu} \\right. {\\left|{\\mu}{\\mu}\\right\\rangle } & 0 & 0 & 0 & 0 & 0 & 0 & 0\\\\0 & 0 & \\left\\langle {\\nu}{\\mu} \\right. {\\left|{\\nu}{\\mu}\\right\\rangle } - \\left\\langle {\\nu}{\\nu} \\right. {\\left|{\\mu}{\\mu}\\right\\rangle } & 0 & 0 & 0 & 0 & 0 & 0\\\\0 & 0 & 0 & \\left\\langle {\\nu}{\\mu} \\right. {\\left|{\\nu}{\\mu}\\right\\rangle } - \\left\\langle {\\nu}{\\nu} \\right. {\\left|{\\mu}{\\mu}\\right\\rangle } & 0 & 0 & 0 & 0 & 0\\\\0 & 0 & 0 & 0 & \\left\\langle {\\nu}{\\mu} \\right. {\\left|{\\nu}{\\mu}\\right\\rangle } - \\left\\langle {\\nu}{\\nu} \\right. {\\left|{\\mu}{\\mu}\\right\\rangle } & 0 & 0 & 0 & 0\\\\0 & 0 & 0 & 0 & 0 & \\left\\langle {\\nu}{\\mu} \\right. {\\left|{\\nu}{\\mu}\\right\\rangle } - \\left\\langle {\\nu}{\\nu} \\right. {\\left|{\\mu}{\\mu}\\right\\rangle } & 0 & 0 & 0\\\\0 & 0 & 0 & 0 & 0 & 0 & \\left\\langle {\\nu}{\\mu} \\right. {\\left|{\\nu}{\\mu}\\right\\rangle } - \\left\\langle {\\nu}{\\nu} \\right. {\\left|{\\mu}{\\mu}\\right\\rangle } & 0 & 0\\\\0 & 0 & 0 & 0 & 0 & 0 & 0 & \\left\\langle {\\nu}{\\mu} \\right. {\\left|{\\nu}{\\mu}\\right\\rangle } - \\left\\langle {\\nu}{\\nu} \\right. {\\left|{\\mu}{\\mu}\\right\\rangle } & 0\\\\0 & 0 & 0 & 0 & 0 & 0 & 0 & 0 & \\left\\langle {\\nu}{\\mu} \\right. {\\left|{\\nu}{\\mu}\\right\\rangle } - \\left\\langle {\\nu}{\\nu} \\right. {\\left|{\\mu}{\\mu}\\right\\rangle }\\end{matrix}\\right]$"
      ],
      "text/plain": [
       "Matrix([\n",
       "[<{\\nu}{\\mu}|{\\nu}{\\mu}> - <{\\nu}{\\nu}|{\\mu}{\\mu}>,                                                 0,                                                 0,                                                 0,                                                 0,                                                 0,                                                 0,                                                 0,                                                 0],\n",
       "[                                                0, <{\\nu}{\\mu}|{\\nu}{\\mu}> - <{\\nu}{\\nu}|{\\mu}{\\mu}>,                                                 0,                                                 0,                                                 0,                                                 0,                                                 0,                                                 0,                                                 0],\n",
       "[                                                0,                                                 0, <{\\nu}{\\mu}|{\\nu}{\\mu}> - <{\\nu}{\\nu}|{\\mu}{\\mu}>,                                                 0,                                                 0,                                                 0,                                                 0,                                                 0,                                                 0],\n",
       "[                                                0,                                                 0,                                                 0, <{\\nu}{\\mu}|{\\nu}{\\mu}> - <{\\nu}{\\nu}|{\\mu}{\\mu}>,                                                 0,                                                 0,                                                 0,                                                 0,                                                 0],\n",
       "[                                                0,                                                 0,                                                 0,                                                 0, <{\\nu}{\\mu}|{\\nu}{\\mu}> - <{\\nu}{\\nu}|{\\mu}{\\mu}>,                                                 0,                                                 0,                                                 0,                                                 0],\n",
       "[                                                0,                                                 0,                                                 0,                                                 0,                                                 0, <{\\nu}{\\mu}|{\\nu}{\\mu}> - <{\\nu}{\\nu}|{\\mu}{\\mu}>,                                                 0,                                                 0,                                                 0],\n",
       "[                                                0,                                                 0,                                                 0,                                                 0,                                                 0,                                                 0, <{\\nu}{\\mu}|{\\nu}{\\mu}> - <{\\nu}{\\nu}|{\\mu}{\\mu}>,                                                 0,                                                 0],\n",
       "[                                                0,                                                 0,                                                 0,                                                 0,                                                 0,                                                 0,                                                 0, <{\\nu}{\\mu}|{\\nu}{\\mu}> - <{\\nu}{\\nu}|{\\mu}{\\mu}>,                                                 0],\n",
       "[                                                0,                                                 0,                                                 0,                                                 0,                                                 0,                                                 0,                                                 0,                                                 0, <{\\nu}{\\mu}|{\\nu}{\\mu}> - <{\\nu}{\\nu}|{\\mu}{\\mu}>]])"
      ]
     },
     "metadata": {},
     "output_type": "display_data"
    },
    {
     "data": {
      "text/plain": [
       "(0, T_2)"
      ]
     },
     "metadata": {},
     "output_type": "display_data"
    },
    {
     "data": {
      "text/plain": [
       "1"
      ]
     },
     "metadata": {},
     "output_type": "display_data"
    },
    {
     "data": {
      "text/latex": [
       "$\\displaystyle \\left[\\begin{matrix}\\left\\langle {\\nu}{\\mu} \\right. {\\left|{\\nu}{\\mu}\\right\\rangle } + \\left\\langle {\\nu}{\\nu} \\right. {\\left|{\\mu}{\\mu}\\right\\rangle } & 0 & 0\\\\0 & \\left\\langle {\\nu}{\\mu} \\right. {\\left|{\\nu}{\\mu}\\right\\rangle } + \\left\\langle {\\nu}{\\nu} \\right. {\\left|{\\mu}{\\mu}\\right\\rangle } & 0\\\\0 & 0 & \\left\\langle {\\nu}{\\mu} \\right. {\\left|{\\nu}{\\mu}\\right\\rangle } + \\left\\langle {\\nu}{\\nu} \\right. {\\left|{\\mu}{\\mu}\\right\\rangle }\\end{matrix}\\right]$"
      ],
      "text/plain": [
       "Matrix([\n",
       "[<{\\nu}{\\mu}|{\\nu}{\\mu}> + <{\\nu}{\\nu}|{\\mu}{\\mu}>,                                                 0,                                                 0],\n",
       "[                                                0, <{\\nu}{\\mu}|{\\nu}{\\mu}> + <{\\nu}{\\nu}|{\\mu}{\\mu}>,                                                 0],\n",
       "[                                                0,                                                 0, <{\\nu}{\\mu}|{\\nu}{\\mu}> + <{\\nu}{\\nu}|{\\mu}{\\mu}>]])"
      ]
     },
     "metadata": {},
     "output_type": "display_data"
    },
    {
     "name": "stdout",
     "output_type": "stream",
     "text": [
      "----------\n"
     ]
    },
    {
     "data": {
      "text/latex": [
       "$\\displaystyle t_{2}^{2}$"
      ],
      "text/plain": [
       "t_{2}**2"
      ]
     },
     "metadata": {},
     "output_type": "display_data"
    },
    {
     "data": {
      "text/plain": [
       "(0, A_1)"
      ]
     },
     "metadata": {},
     "output_type": "display_data"
    },
    {
     "data": {
      "text/plain": [
       "1"
      ]
     },
     "metadata": {},
     "output_type": "display_data"
    },
    {
     "data": {
      "text/latex": [
       "$\\displaystyle \\left[\\begin{matrix}2 \\left\\langle {\\xi}{\\xi} \\right. {\\left|{\\phi}{\\phi}\\right\\rangle } + \\left\\langle {\\xi}{\\xi} \\right. {\\left|{\\xi}{\\xi}\\right\\rangle }\\end{matrix}\\right]$"
      ],
      "text/plain": [
       "Matrix([[2*<{\\xi}{\\xi}|{\\phi}{\\phi}> + <{\\xi}{\\xi}|{\\xi}{\\xi}>]])"
      ]
     },
     "metadata": {},
     "output_type": "display_data"
    },
    {
     "data": {
      "text/plain": [
       "(0, E)"
      ]
     },
     "metadata": {},
     "output_type": "display_data"
    },
    {
     "data": {
      "text/plain": [
       "1"
      ]
     },
     "metadata": {},
     "output_type": "display_data"
    },
    {
     "data": {
      "text/latex": [
       "$\\displaystyle \\left[\\begin{matrix}- \\left\\langle {\\xi}{\\xi} \\right. {\\left|{\\phi}{\\phi}\\right\\rangle } + \\left\\langle {\\xi}{\\xi} \\right. {\\left|{\\xi}{\\xi}\\right\\rangle } & 0\\\\0 & - \\left\\langle {\\xi}{\\xi} \\right. {\\left|{\\phi}{\\phi}\\right\\rangle } + \\left\\langle {\\xi}{\\xi} \\right. {\\left|{\\xi}{\\xi}\\right\\rangle }\\end{matrix}\\right]$"
      ],
      "text/plain": [
       "Matrix([\n",
       "[-<{\\xi}{\\xi}|{\\phi}{\\phi}> + <{\\xi}{\\xi}|{\\xi}{\\xi}>,                                                    0],\n",
       "[                                                   0, -<{\\xi}{\\xi}|{\\phi}{\\phi}> + <{\\xi}{\\xi}|{\\xi}{\\xi}>]])"
      ]
     },
     "metadata": {},
     "output_type": "display_data"
    },
    {
     "data": {
      "text/plain": [
       "(1, T_1)"
      ]
     },
     "metadata": {},
     "output_type": "display_data"
    },
    {
     "data": {
      "text/plain": [
       "1"
      ]
     },
     "metadata": {},
     "output_type": "display_data"
    },
    {
     "data": {
      "text/latex": [
       "$\\displaystyle \\left[\\begin{matrix}\\left\\langle {\\xi}{\\phi} \\right. {\\left|{\\xi}{\\phi}\\right\\rangle } - \\left\\langle {\\xi}{\\xi} \\right. {\\left|{\\phi}{\\phi}\\right\\rangle } & 0 & 0 & 0 & 0 & 0 & 0 & 0 & 0\\\\0 & \\left\\langle {\\xi}{\\phi} \\right. {\\left|{\\xi}{\\phi}\\right\\rangle } - \\left\\langle {\\xi}{\\xi} \\right. {\\left|{\\phi}{\\phi}\\right\\rangle } & 0 & 0 & 0 & 0 & 0 & 0 & 0\\\\0 & 0 & \\left\\langle {\\xi}{\\phi} \\right. {\\left|{\\xi}{\\phi}\\right\\rangle } - \\left\\langle {\\xi}{\\xi} \\right. {\\left|{\\phi}{\\phi}\\right\\rangle } & 0 & 0 & 0 & 0 & 0 & 0\\\\0 & 0 & 0 & \\left\\langle {\\xi}{\\phi} \\right. {\\left|{\\xi}{\\phi}\\right\\rangle } - \\left\\langle {\\xi}{\\xi} \\right. {\\left|{\\phi}{\\phi}\\right\\rangle } & 0 & 0 & 0 & 0 & 0\\\\0 & 0 & 0 & 0 & \\left\\langle {\\xi}{\\phi} \\right. {\\left|{\\xi}{\\phi}\\right\\rangle } - \\left\\langle {\\xi}{\\xi} \\right. {\\left|{\\phi}{\\phi}\\right\\rangle } & 0 & 0 & 0 & 0\\\\0 & 0 & 0 & 0 & 0 & \\left\\langle {\\xi}{\\phi} \\right. {\\left|{\\xi}{\\phi}\\right\\rangle } - \\left\\langle {\\xi}{\\xi} \\right. {\\left|{\\phi}{\\phi}\\right\\rangle } & 0 & 0 & 0\\\\0 & 0 & 0 & 0 & 0 & 0 & \\left\\langle {\\xi}{\\phi} \\right. {\\left|{\\xi}{\\phi}\\right\\rangle } - \\left\\langle {\\xi}{\\xi} \\right. {\\left|{\\phi}{\\phi}\\right\\rangle } & 0 & 0\\\\0 & 0 & 0 & 0 & 0 & 0 & 0 & \\left\\langle {\\xi}{\\phi} \\right. {\\left|{\\xi}{\\phi}\\right\\rangle } - \\left\\langle {\\xi}{\\xi} \\right. {\\left|{\\phi}{\\phi}\\right\\rangle } & 0\\\\0 & 0 & 0 & 0 & 0 & 0 & 0 & 0 & \\left\\langle {\\xi}{\\phi} \\right. {\\left|{\\xi}{\\phi}\\right\\rangle } - \\left\\langle {\\xi}{\\xi} \\right. {\\left|{\\phi}{\\phi}\\right\\rangle }\\end{matrix}\\right]$"
      ],
      "text/plain": [
       "Matrix([\n",
       "[<{\\xi}{\\phi}|{\\xi}{\\phi}> - <{\\xi}{\\xi}|{\\phi}{\\phi}>,                                                     0,                                                     0,                                                     0,                                                     0,                                                     0,                                                     0,                                                     0,                                                     0],\n",
       "[                                                    0, <{\\xi}{\\phi}|{\\xi}{\\phi}> - <{\\xi}{\\xi}|{\\phi}{\\phi}>,                                                     0,                                                     0,                                                     0,                                                     0,                                                     0,                                                     0,                                                     0],\n",
       "[                                                    0,                                                     0, <{\\xi}{\\phi}|{\\xi}{\\phi}> - <{\\xi}{\\xi}|{\\phi}{\\phi}>,                                                     0,                                                     0,                                                     0,                                                     0,                                                     0,                                                     0],\n",
       "[                                                    0,                                                     0,                                                     0, <{\\xi}{\\phi}|{\\xi}{\\phi}> - <{\\xi}{\\xi}|{\\phi}{\\phi}>,                                                     0,                                                     0,                                                     0,                                                     0,                                                     0],\n",
       "[                                                    0,                                                     0,                                                     0,                                                     0, <{\\xi}{\\phi}|{\\xi}{\\phi}> - <{\\xi}{\\xi}|{\\phi}{\\phi}>,                                                     0,                                                     0,                                                     0,                                                     0],\n",
       "[                                                    0,                                                     0,                                                     0,                                                     0,                                                     0, <{\\xi}{\\phi}|{\\xi}{\\phi}> - <{\\xi}{\\xi}|{\\phi}{\\phi}>,                                                     0,                                                     0,                                                     0],\n",
       "[                                                    0,                                                     0,                                                     0,                                                     0,                                                     0,                                                     0, <{\\xi}{\\phi}|{\\xi}{\\phi}> - <{\\xi}{\\xi}|{\\phi}{\\phi}>,                                                     0,                                                     0],\n",
       "[                                                    0,                                                     0,                                                     0,                                                     0,                                                     0,                                                     0,                                                     0, <{\\xi}{\\phi}|{\\xi}{\\phi}> - <{\\xi}{\\xi}|{\\phi}{\\phi}>,                                                     0],\n",
       "[                                                    0,                                                     0,                                                     0,                                                     0,                                                     0,                                                     0,                                                     0,                                                     0, <{\\xi}{\\phi}|{\\xi}{\\phi}> - <{\\xi}{\\xi}|{\\phi}{\\phi}>]])"
      ]
     },
     "metadata": {},
     "output_type": "display_data"
    },
    {
     "data": {
      "text/plain": [
       "(0, T_2)"
      ]
     },
     "metadata": {},
     "output_type": "display_data"
    },
    {
     "data": {
      "text/plain": [
       "1"
      ]
     },
     "metadata": {},
     "output_type": "display_data"
    },
    {
     "data": {
      "text/latex": [
       "$\\displaystyle \\left[\\begin{matrix}\\left\\langle {\\xi}{\\phi} \\right. {\\left|{\\xi}{\\phi}\\right\\rangle } + \\left\\langle {\\xi}{\\xi} \\right. {\\left|{\\phi}{\\phi}\\right\\rangle } & 0 & 0\\\\0 & \\left\\langle {\\xi}{\\phi} \\right. {\\left|{\\xi}{\\phi}\\right\\rangle } + \\left\\langle {\\xi}{\\xi} \\right. {\\left|{\\phi}{\\phi}\\right\\rangle } & 0\\\\0 & 0 & \\left\\langle {\\xi}{\\phi} \\right. {\\left|{\\xi}{\\phi}\\right\\rangle } + \\left\\langle {\\xi}{\\xi} \\right. {\\left|{\\phi}{\\phi}\\right\\rangle }\\end{matrix}\\right]$"
      ],
      "text/plain": [
       "Matrix([\n",
       "[<{\\xi}{\\phi}|{\\xi}{\\phi}> + <{\\xi}{\\xi}|{\\phi}{\\phi}>,                                                     0,                                                     0],\n",
       "[                                                    0, <{\\xi}{\\phi}|{\\xi}{\\phi}> + <{\\xi}{\\xi}|{\\phi}{\\phi}>,                                                     0],\n",
       "[                                                    0,                                                     0, <{\\xi}{\\phi}|{\\xi}{\\phi}> + <{\\xi}{\\xi}|{\\phi}{\\phi}>]])"
      ]
     },
     "metadata": {},
     "output_type": "display_data"
    },
    {
     "name": "stdout",
     "output_type": "stream",
     "text": [
      "----------\n"
     ]
    },
    {
     "data": {
      "text/latex": [
       "$\\displaystyle a_{1} a_{2}$"
      ],
      "text/plain": [
       "a_{1}*a_{2}"
      ]
     },
     "metadata": {},
     "output_type": "display_data"
    },
    {
     "data": {
      "text/plain": [
       "(1, A_2)"
      ]
     },
     "metadata": {},
     "output_type": "display_data"
    },
    {
     "data": {
      "text/plain": [
       "1"
      ]
     },
     "metadata": {},
     "output_type": "display_data"
    },
    {
     "data": {
      "text/latex": [
       "$\\displaystyle \\left[\\begin{matrix}- \\left\\langle {\\alpha}{\\alpha} \\right. {\\left|{\\beta}{\\beta}\\right\\rangle } + \\left\\langle {\\alpha}{\\beta} \\right. {\\left|{\\alpha}{\\beta}\\right\\rangle } & 0 & 0\\\\0 & - \\left\\langle {\\alpha}{\\alpha} \\right. {\\left|{\\beta}{\\beta}\\right\\rangle } + \\left\\langle {\\alpha}{\\beta} \\right. {\\left|{\\alpha}{\\beta}\\right\\rangle } & 0\\\\0 & 0 & - \\left\\langle {\\alpha}{\\alpha} \\right. {\\left|{\\beta}{\\beta}\\right\\rangle } + \\left\\langle {\\alpha}{\\beta} \\right. {\\left|{\\alpha}{\\beta}\\right\\rangle }\\end{matrix}\\right]$"
      ],
      "text/plain": [
       "Matrix([\n",
       "[-<{\\alpha}{\\alpha}|{\\beta}{\\beta}> + <{\\alpha}{\\beta}|{\\alpha}{\\beta}>,                                                                      0,                                                                      0],\n",
       "[                                                                     0, -<{\\alpha}{\\alpha}|{\\beta}{\\beta}> + <{\\alpha}{\\beta}|{\\alpha}{\\beta}>,                                                                      0],\n",
       "[                                                                     0,                                                                      0, -<{\\alpha}{\\alpha}|{\\beta}{\\beta}> + <{\\alpha}{\\beta}|{\\alpha}{\\beta}>]])"
      ]
     },
     "metadata": {},
     "output_type": "display_data"
    },
    {
     "data": {
      "text/plain": [
       "(0, A_2)"
      ]
     },
     "metadata": {},
     "output_type": "display_data"
    },
    {
     "data": {
      "text/plain": [
       "1"
      ]
     },
     "metadata": {},
     "output_type": "display_data"
    },
    {
     "data": {
      "text/latex": [
       "$\\displaystyle \\left[\\begin{matrix}\\left\\langle {\\alpha}{\\alpha} \\right. {\\left|{\\beta}{\\beta}\\right\\rangle } + \\left\\langle {\\alpha}{\\beta} \\right. {\\left|{\\alpha}{\\beta}\\right\\rangle }\\end{matrix}\\right]$"
      ],
      "text/plain": [
       "Matrix([[<{\\alpha}{\\alpha}|{\\beta}{\\beta}> + <{\\alpha}{\\beta}|{\\alpha}{\\beta}>]])"
      ]
     },
     "metadata": {},
     "output_type": "display_data"
    },
    {
     "name": "stdout",
     "output_type": "stream",
     "text": [
      "----------\n"
     ]
    },
    {
     "data": {
      "text/latex": [
       "$\\displaystyle t_{1} t_{2}$"
      ],
      "text/plain": [
       "t_{1}*t_{2}"
      ]
     },
     "metadata": {},
     "output_type": "display_data"
    },
    {
     "data": {
      "text/plain": [
       "(1, A_2)"
      ]
     },
     "metadata": {},
     "output_type": "display_data"
    },
    {
     "data": {
      "text/plain": [
       "1"
      ]
     },
     "metadata": {},
     "output_type": "display_data"
    },
    {
     "data": {
      "text/latex": [
       "$\\displaystyle \\left[\\begin{matrix}- 2 \\left\\langle {\\nu}{\\mu} \\right. {\\left|{\\xi}{\\phi}\\right\\rangle } - \\left\\langle {\\nu}{\\nu} \\right. {\\left|{\\phi}{\\phi}\\right\\rangle } + \\left\\langle {\\nu}{\\phi} \\right. {\\left|{\\nu}{\\phi}\\right\\rangle } + 2 \\left\\langle {\\nu}{\\xi} \\right. {\\left|{\\mu}{\\phi}\\right\\rangle } & 0 & 0\\\\0 & - 2 \\left\\langle {\\nu}{\\mu} \\right. {\\left|{\\xi}{\\phi}\\right\\rangle } - \\left\\langle {\\nu}{\\nu} \\right. {\\left|{\\phi}{\\phi}\\right\\rangle } + \\left\\langle {\\nu}{\\phi} \\right. {\\left|{\\nu}{\\phi}\\right\\rangle } + 2 \\left\\langle {\\nu}{\\xi} \\right. {\\left|{\\mu}{\\phi}\\right\\rangle } & 0\\\\0 & 0 & - 2 \\left\\langle {\\nu}{\\mu} \\right. {\\left|{\\xi}{\\phi}\\right\\rangle } - \\left\\langle {\\nu}{\\nu} \\right. {\\left|{\\phi}{\\phi}\\right\\rangle } + \\left\\langle {\\nu}{\\phi} \\right. {\\left|{\\nu}{\\phi}\\right\\rangle } + 2 \\left\\langle {\\nu}{\\xi} \\right. {\\left|{\\mu}{\\phi}\\right\\rangle }\\end{matrix}\\right]$"
      ],
      "text/plain": [
       "Matrix([\n",
       "[-2*<{\\nu}{\\mu}|{\\xi}{\\phi}> - <{\\nu}{\\nu}|{\\phi}{\\phi}> + <{\\nu}{\\phi}|{\\nu}{\\phi}> + 2*<{\\nu}{\\xi}|{\\mu}{\\phi}>,                                                                                                                0,                                                                                                                0],\n",
       "[                                                                                                               0, -2*<{\\nu}{\\mu}|{\\xi}{\\phi}> - <{\\nu}{\\nu}|{\\phi}{\\phi}> + <{\\nu}{\\phi}|{\\nu}{\\phi}> + 2*<{\\nu}{\\xi}|{\\mu}{\\phi}>,                                                                                                                0],\n",
       "[                                                                                                               0,                                                                                                                0, -2*<{\\nu}{\\mu}|{\\xi}{\\phi}> - <{\\nu}{\\nu}|{\\phi}{\\phi}> + <{\\nu}{\\phi}|{\\nu}{\\phi}> + 2*<{\\nu}{\\xi}|{\\mu}{\\phi}>]])"
      ]
     },
     "metadata": {},
     "output_type": "display_data"
    },
    {
     "data": {
      "text/plain": [
       "(0, A_2)"
      ]
     },
     "metadata": {},
     "output_type": "display_data"
    },
    {
     "data": {
      "text/plain": [
       "1"
      ]
     },
     "metadata": {},
     "output_type": "display_data"
    },
    {
     "data": {
      "text/latex": [
       "$\\displaystyle \\left[\\begin{matrix}2 \\left\\langle {\\nu}{\\mu} \\right. {\\left|{\\xi}{\\phi}\\right\\rangle } + \\left\\langle {\\nu}{\\nu} \\right. {\\left|{\\phi}{\\phi}\\right\\rangle } + \\left\\langle {\\nu}{\\phi} \\right. {\\left|{\\nu}{\\phi}\\right\\rangle } + 2 \\left\\langle {\\nu}{\\xi} \\right. {\\left|{\\mu}{\\phi}\\right\\rangle }\\end{matrix}\\right]$"
      ],
      "text/plain": [
       "Matrix([[2*<{\\nu}{\\mu}|{\\xi}{\\phi}> + <{\\nu}{\\nu}|{\\phi}{\\phi}> + <{\\nu}{\\phi}|{\\nu}{\\phi}> + 2*<{\\nu}{\\xi}|{\\mu}{\\phi}>]])"
      ]
     },
     "metadata": {},
     "output_type": "display_data"
    },
    {
     "data": {
      "text/plain": [
       "(1, E)"
      ]
     },
     "metadata": {},
     "output_type": "display_data"
    },
    {
     "data": {
      "text/plain": [
       "1"
      ]
     },
     "metadata": {},
     "output_type": "display_data"
    },
    {
     "data": {
      "text/latex": [
       "$\\displaystyle \\left[\\begin{matrix}\\left\\langle {\\nu}{\\mu} \\right. {\\left|{\\xi}{\\phi}\\right\\rangle } - \\left\\langle {\\nu}{\\nu} \\right. {\\left|{\\phi}{\\phi}\\right\\rangle } + \\left\\langle {\\nu}{\\phi} \\right. {\\left|{\\nu}{\\phi}\\right\\rangle } - \\left\\langle {\\nu}{\\xi} \\right. {\\left|{\\mu}{\\phi}\\right\\rangle } & 0 & 0 & 0 & 0 & 0\\\\0 & \\left\\langle {\\nu}{\\mu} \\right. {\\left|{\\xi}{\\phi}\\right\\rangle } - \\left\\langle {\\nu}{\\nu} \\right. {\\left|{\\phi}{\\phi}\\right\\rangle } + \\left\\langle {\\nu}{\\phi} \\right. {\\left|{\\nu}{\\phi}\\right\\rangle } - \\left\\langle {\\nu}{\\xi} \\right. {\\left|{\\mu}{\\phi}\\right\\rangle } & 0 & 0 & 0 & 0\\\\0 & 0 & \\left\\langle {\\nu}{\\mu} \\right. {\\left|{\\xi}{\\phi}\\right\\rangle } - \\left\\langle {\\nu}{\\nu} \\right. {\\left|{\\phi}{\\phi}\\right\\rangle } + \\left\\langle {\\nu}{\\phi} \\right. {\\left|{\\nu}{\\phi}\\right\\rangle } - \\left\\langle {\\nu}{\\xi} \\right. {\\left|{\\mu}{\\phi}\\right\\rangle } & 0 & 0 & 0\\\\0 & 0 & 0 & \\left\\langle {\\nu}{\\mu} \\right. {\\left|{\\xi}{\\phi}\\right\\rangle } - \\left\\langle {\\nu}{\\nu} \\right. {\\left|{\\phi}{\\phi}\\right\\rangle } + \\left\\langle {\\nu}{\\phi} \\right. {\\left|{\\nu}{\\phi}\\right\\rangle } - \\left\\langle {\\nu}{\\xi} \\right. {\\left|{\\mu}{\\phi}\\right\\rangle } & 0 & 0\\\\0 & 0 & 0 & 0 & \\left\\langle {\\nu}{\\mu} \\right. {\\left|{\\xi}{\\phi}\\right\\rangle } - \\left\\langle {\\nu}{\\nu} \\right. {\\left|{\\phi}{\\phi}\\right\\rangle } + \\left\\langle {\\nu}{\\phi} \\right. {\\left|{\\nu}{\\phi}\\right\\rangle } - \\left\\langle {\\nu}{\\xi} \\right. {\\left|{\\mu}{\\phi}\\right\\rangle } & 0\\\\0 & 0 & 0 & 0 & 0 & \\left\\langle {\\nu}{\\mu} \\right. {\\left|{\\xi}{\\phi}\\right\\rangle } - \\left\\langle {\\nu}{\\nu} \\right. {\\left|{\\phi}{\\phi}\\right\\rangle } + \\left\\langle {\\nu}{\\phi} \\right. {\\left|{\\nu}{\\phi}\\right\\rangle } - \\left\\langle {\\nu}{\\xi} \\right. {\\left|{\\mu}{\\phi}\\right\\rangle }\\end{matrix}\\right]$"
      ],
      "text/plain": [
       "Matrix([\n",
       "[<{\\nu}{\\mu}|{\\xi}{\\phi}> - <{\\nu}{\\nu}|{\\phi}{\\phi}> + <{\\nu}{\\phi}|{\\nu}{\\phi}> - <{\\nu}{\\xi}|{\\mu}{\\phi}>,                                                                                                           0,                                                                                                           0,                                                                                                           0,                                                                                                           0,                                                                                                           0],\n",
       "[                                                                                                          0, <{\\nu}{\\mu}|{\\xi}{\\phi}> - <{\\nu}{\\nu}|{\\phi}{\\phi}> + <{\\nu}{\\phi}|{\\nu}{\\phi}> - <{\\nu}{\\xi}|{\\mu}{\\phi}>,                                                                                                           0,                                                                                                           0,                                                                                                           0,                                                                                                           0],\n",
       "[                                                                                                          0,                                                                                                           0, <{\\nu}{\\mu}|{\\xi}{\\phi}> - <{\\nu}{\\nu}|{\\phi}{\\phi}> + <{\\nu}{\\phi}|{\\nu}{\\phi}> - <{\\nu}{\\xi}|{\\mu}{\\phi}>,                                                                                                           0,                                                                                                           0,                                                                                                           0],\n",
       "[                                                                                                          0,                                                                                                           0,                                                                                                           0, <{\\nu}{\\mu}|{\\xi}{\\phi}> - <{\\nu}{\\nu}|{\\phi}{\\phi}> + <{\\nu}{\\phi}|{\\nu}{\\phi}> - <{\\nu}{\\xi}|{\\mu}{\\phi}>,                                                                                                           0,                                                                                                           0],\n",
       "[                                                                                                          0,                                                                                                           0,                                                                                                           0,                                                                                                           0, <{\\nu}{\\mu}|{\\xi}{\\phi}> - <{\\nu}{\\nu}|{\\phi}{\\phi}> + <{\\nu}{\\phi}|{\\nu}{\\phi}> - <{\\nu}{\\xi}|{\\mu}{\\phi}>,                                                                                                           0],\n",
       "[                                                                                                          0,                                                                                                           0,                                                                                                           0,                                                                                                           0,                                                                                                           0, <{\\nu}{\\mu}|{\\xi}{\\phi}> - <{\\nu}{\\nu}|{\\phi}{\\phi}> + <{\\nu}{\\phi}|{\\nu}{\\phi}> - <{\\nu}{\\xi}|{\\mu}{\\phi}>]])"
      ]
     },
     "metadata": {},
     "output_type": "display_data"
    },
    {
     "data": {
      "text/plain": [
       "(0, E)"
      ]
     },
     "metadata": {},
     "output_type": "display_data"
    },
    {
     "data": {
      "text/plain": [
       "1"
      ]
     },
     "metadata": {},
     "output_type": "display_data"
    },
    {
     "data": {
      "text/latex": [
       "$\\displaystyle \\left[\\begin{matrix}- \\left\\langle {\\nu}{\\mu} \\right. {\\left|{\\xi}{\\phi}\\right\\rangle } + \\left\\langle {\\nu}{\\nu} \\right. {\\left|{\\phi}{\\phi}\\right\\rangle } + \\left\\langle {\\nu}{\\phi} \\right. {\\left|{\\nu}{\\phi}\\right\\rangle } - \\left\\langle {\\nu}{\\xi} \\right. {\\left|{\\mu}{\\phi}\\right\\rangle } & 0\\\\0 & - \\left\\langle {\\nu}{\\mu} \\right. {\\left|{\\xi}{\\phi}\\right\\rangle } + \\left\\langle {\\nu}{\\nu} \\right. {\\left|{\\phi}{\\phi}\\right\\rangle } + \\left\\langle {\\nu}{\\phi} \\right. {\\left|{\\nu}{\\phi}\\right\\rangle } - \\left\\langle {\\nu}{\\xi} \\right. {\\left|{\\mu}{\\phi}\\right\\rangle }\\end{matrix}\\right]$"
      ],
      "text/plain": [
       "Matrix([\n",
       "[-<{\\nu}{\\mu}|{\\xi}{\\phi}> + <{\\nu}{\\nu}|{\\phi}{\\phi}> + <{\\nu}{\\phi}|{\\nu}{\\phi}> - <{\\nu}{\\xi}|{\\mu}{\\phi}>,                                                                                                            0],\n",
       "[                                                                                                           0, -<{\\nu}{\\mu}|{\\xi}{\\phi}> + <{\\nu}{\\nu}|{\\phi}{\\phi}> + <{\\nu}{\\phi}|{\\nu}{\\phi}> - <{\\nu}{\\xi}|{\\mu}{\\phi}>]])"
      ]
     },
     "metadata": {},
     "output_type": "display_data"
    },
    {
     "data": {
      "text/plain": [
       "(1, T_1)"
      ]
     },
     "metadata": {},
     "output_type": "display_data"
    },
    {
     "data": {
      "text/plain": [
       "1"
      ]
     },
     "metadata": {},
     "output_type": "display_data"
    },
    {
     "data": {
      "text/latex": [
       "$\\displaystyle \\left[\\begin{matrix}- \\left\\langle {\\nu}{\\mu} \\right. {\\left|{\\phi}{\\xi}\\right\\rangle } - \\left\\langle {\\nu}{\\nu} \\right. {\\left|{\\xi}{\\xi}\\right\\rangle } + \\left\\langle {\\nu}{\\xi} \\right. {\\left|{\\mu}{\\phi}\\right\\rangle } + \\left\\langle {\\nu}{\\xi} \\right. {\\left|{\\nu}{\\xi}\\right\\rangle } & 0 & 0 & 0 & 0 & 0 & 0 & 0 & 0\\\\0 & - \\left\\langle {\\nu}{\\mu} \\right. {\\left|{\\phi}{\\xi}\\right\\rangle } - \\left\\langle {\\nu}{\\nu} \\right. {\\left|{\\xi}{\\xi}\\right\\rangle } + \\left\\langle {\\nu}{\\xi} \\right. {\\left|{\\mu}{\\phi}\\right\\rangle } + \\left\\langle {\\nu}{\\xi} \\right. {\\left|{\\nu}{\\xi}\\right\\rangle } & 0 & 0 & 0 & 0 & 0 & 0 & 0\\\\0 & 0 & - \\left\\langle {\\nu}{\\mu} \\right. {\\left|{\\phi}{\\xi}\\right\\rangle } - \\left\\langle {\\nu}{\\nu} \\right. {\\left|{\\xi}{\\xi}\\right\\rangle } + \\left\\langle {\\nu}{\\xi} \\right. {\\left|{\\mu}{\\phi}\\right\\rangle } + \\left\\langle {\\nu}{\\xi} \\right. {\\left|{\\nu}{\\xi}\\right\\rangle } & 0 & 0 & 0 & 0 & 0 & 0\\\\0 & 0 & 0 & - \\left\\langle {\\nu}{\\mu} \\right. {\\left|{\\phi}{\\xi}\\right\\rangle } - \\left\\langle {\\nu}{\\nu} \\right. {\\left|{\\xi}{\\xi}\\right\\rangle } + \\left\\langle {\\nu}{\\xi} \\right. {\\left|{\\mu}{\\phi}\\right\\rangle } + \\left\\langle {\\nu}{\\xi} \\right. {\\left|{\\nu}{\\xi}\\right\\rangle } & 0 & 0 & 0 & 0 & 0\\\\0 & 0 & 0 & 0 & - \\left\\langle {\\nu}{\\mu} \\right. {\\left|{\\phi}{\\xi}\\right\\rangle } - \\left\\langle {\\nu}{\\nu} \\right. {\\left|{\\xi}{\\xi}\\right\\rangle } + \\left\\langle {\\nu}{\\xi} \\right. {\\left|{\\mu}{\\phi}\\right\\rangle } + \\left\\langle {\\nu}{\\xi} \\right. {\\left|{\\nu}{\\xi}\\right\\rangle } & 0 & 0 & 0 & 0\\\\0 & 0 & 0 & 0 & 0 & - \\left\\langle {\\nu}{\\mu} \\right. {\\left|{\\phi}{\\xi}\\right\\rangle } - \\left\\langle {\\nu}{\\nu} \\right. {\\left|{\\xi}{\\xi}\\right\\rangle } + \\left\\langle {\\nu}{\\xi} \\right. {\\left|{\\mu}{\\phi}\\right\\rangle } + \\left\\langle {\\nu}{\\xi} \\right. {\\left|{\\nu}{\\xi}\\right\\rangle } & 0 & 0 & 0\\\\0 & 0 & 0 & 0 & 0 & 0 & - \\left\\langle {\\nu}{\\mu} \\right. {\\left|{\\phi}{\\xi}\\right\\rangle } - \\left\\langle {\\nu}{\\nu} \\right. {\\left|{\\xi}{\\xi}\\right\\rangle } + \\left\\langle {\\nu}{\\xi} \\right. {\\left|{\\mu}{\\phi}\\right\\rangle } + \\left\\langle {\\nu}{\\xi} \\right. {\\left|{\\nu}{\\xi}\\right\\rangle } & 0 & 0\\\\0 & 0 & 0 & 0 & 0 & 0 & 0 & - \\left\\langle {\\nu}{\\mu} \\right. {\\left|{\\phi}{\\xi}\\right\\rangle } - \\left\\langle {\\nu}{\\nu} \\right. {\\left|{\\xi}{\\xi}\\right\\rangle } + \\left\\langle {\\nu}{\\xi} \\right. {\\left|{\\mu}{\\phi}\\right\\rangle } + \\left\\langle {\\nu}{\\xi} \\right. {\\left|{\\nu}{\\xi}\\right\\rangle } & 0\\\\0 & 0 & 0 & 0 & 0 & 0 & 0 & 0 & - \\left\\langle {\\nu}{\\mu} \\right. {\\left|{\\phi}{\\xi}\\right\\rangle } - \\left\\langle {\\nu}{\\nu} \\right. {\\left|{\\xi}{\\xi}\\right\\rangle } + \\left\\langle {\\nu}{\\xi} \\right. {\\left|{\\mu}{\\phi}\\right\\rangle } + \\left\\langle {\\nu}{\\xi} \\right. {\\left|{\\nu}{\\xi}\\right\\rangle }\\end{matrix}\\right]$"
      ],
      "text/plain": [
       "Matrix([\n",
       "[-<{\\nu}{\\mu}|{\\phi}{\\xi}> - <{\\nu}{\\nu}|{\\xi}{\\xi}> + <{\\nu}{\\xi}|{\\mu}{\\phi}> + <{\\nu}{\\xi}|{\\nu}{\\xi}>,                                                                                                        0,                                                                                                        0,                                                                                                        0,                                                                                                        0,                                                                                                        0,                                                                                                        0,                                                                                                        0,                                                                                                        0],\n",
       "[                                                                                                       0, -<{\\nu}{\\mu}|{\\phi}{\\xi}> - <{\\nu}{\\nu}|{\\xi}{\\xi}> + <{\\nu}{\\xi}|{\\mu}{\\phi}> + <{\\nu}{\\xi}|{\\nu}{\\xi}>,                                                                                                        0,                                                                                                        0,                                                                                                        0,                                                                                                        0,                                                                                                        0,                                                                                                        0,                                                                                                        0],\n",
       "[                                                                                                       0,                                                                                                        0, -<{\\nu}{\\mu}|{\\phi}{\\xi}> - <{\\nu}{\\nu}|{\\xi}{\\xi}> + <{\\nu}{\\xi}|{\\mu}{\\phi}> + <{\\nu}{\\xi}|{\\nu}{\\xi}>,                                                                                                        0,                                                                                                        0,                                                                                                        0,                                                                                                        0,                                                                                                        0,                                                                                                        0],\n",
       "[                                                                                                       0,                                                                                                        0,                                                                                                        0, -<{\\nu}{\\mu}|{\\phi}{\\xi}> - <{\\nu}{\\nu}|{\\xi}{\\xi}> + <{\\nu}{\\xi}|{\\mu}{\\phi}> + <{\\nu}{\\xi}|{\\nu}{\\xi}>,                                                                                                        0,                                                                                                        0,                                                                                                        0,                                                                                                        0,                                                                                                        0],\n",
       "[                                                                                                       0,                                                                                                        0,                                                                                                        0,                                                                                                        0, -<{\\nu}{\\mu}|{\\phi}{\\xi}> - <{\\nu}{\\nu}|{\\xi}{\\xi}> + <{\\nu}{\\xi}|{\\mu}{\\phi}> + <{\\nu}{\\xi}|{\\nu}{\\xi}>,                                                                                                        0,                                                                                                        0,                                                                                                        0,                                                                                                        0],\n",
       "[                                                                                                       0,                                                                                                        0,                                                                                                        0,                                                                                                        0,                                                                                                        0, -<{\\nu}{\\mu}|{\\phi}{\\xi}> - <{\\nu}{\\nu}|{\\xi}{\\xi}> + <{\\nu}{\\xi}|{\\mu}{\\phi}> + <{\\nu}{\\xi}|{\\nu}{\\xi}>,                                                                                                        0,                                                                                                        0,                                                                                                        0],\n",
       "[                                                                                                       0,                                                                                                        0,                                                                                                        0,                                                                                                        0,                                                                                                        0,                                                                                                        0, -<{\\nu}{\\mu}|{\\phi}{\\xi}> - <{\\nu}{\\nu}|{\\xi}{\\xi}> + <{\\nu}{\\xi}|{\\mu}{\\phi}> + <{\\nu}{\\xi}|{\\nu}{\\xi}>,                                                                                                        0,                                                                                                        0],\n",
       "[                                                                                                       0,                                                                                                        0,                                                                                                        0,                                                                                                        0,                                                                                                        0,                                                                                                        0,                                                                                                        0, -<{\\nu}{\\mu}|{\\phi}{\\xi}> - <{\\nu}{\\nu}|{\\xi}{\\xi}> + <{\\nu}{\\xi}|{\\mu}{\\phi}> + <{\\nu}{\\xi}|{\\nu}{\\xi}>,                                                                                                        0],\n",
       "[                                                                                                       0,                                                                                                        0,                                                                                                        0,                                                                                                        0,                                                                                                        0,                                                                                                        0,                                                                                                        0,                                                                                                        0, -<{\\nu}{\\mu}|{\\phi}{\\xi}> - <{\\nu}{\\nu}|{\\xi}{\\xi}> + <{\\nu}{\\xi}|{\\mu}{\\phi}> + <{\\nu}{\\xi}|{\\nu}{\\xi}>]])"
      ]
     },
     "metadata": {},
     "output_type": "display_data"
    },
    {
     "data": {
      "text/plain": [
       "(0, T_1)"
      ]
     },
     "metadata": {},
     "output_type": "display_data"
    },
    {
     "data": {
      "text/plain": [
       "1"
      ]
     },
     "metadata": {},
     "output_type": "display_data"
    },
    {
     "data": {
      "text/latex": [
       "$\\displaystyle \\left[\\begin{matrix}\\left\\langle {\\nu}{\\mu} \\right. {\\left|{\\phi}{\\xi}\\right\\rangle } + \\left\\langle {\\nu}{\\nu} \\right. {\\left|{\\xi}{\\xi}\\right\\rangle } + \\left\\langle {\\nu}{\\xi} \\right. {\\left|{\\mu}{\\phi}\\right\\rangle } + \\left\\langle {\\nu}{\\xi} \\right. {\\left|{\\nu}{\\xi}\\right\\rangle } & 0 & 0\\\\0 & \\left\\langle {\\nu}{\\mu} \\right. {\\left|{\\phi}{\\xi}\\right\\rangle } + \\left\\langle {\\nu}{\\nu} \\right. {\\left|{\\xi}{\\xi}\\right\\rangle } + \\left\\langle {\\nu}{\\xi} \\right. {\\left|{\\mu}{\\phi}\\right\\rangle } + \\left\\langle {\\nu}{\\xi} \\right. {\\left|{\\nu}{\\xi}\\right\\rangle } & 0\\\\0 & 0 & \\left\\langle {\\nu}{\\mu} \\right. {\\left|{\\phi}{\\xi}\\right\\rangle } + \\left\\langle {\\nu}{\\nu} \\right. {\\left|{\\xi}{\\xi}\\right\\rangle } + \\left\\langle {\\nu}{\\xi} \\right. {\\left|{\\mu}{\\phi}\\right\\rangle } + \\left\\langle {\\nu}{\\xi} \\right. {\\left|{\\nu}{\\xi}\\right\\rangle }\\end{matrix}\\right]$"
      ],
      "text/plain": [
       "Matrix([\n",
       "[<{\\nu}{\\mu}|{\\phi}{\\xi}> + <{\\nu}{\\nu}|{\\xi}{\\xi}> + <{\\nu}{\\xi}|{\\mu}{\\phi}> + <{\\nu}{\\xi}|{\\nu}{\\xi}>,                                                                                                       0,                                                                                                       0],\n",
       "[                                                                                                      0, <{\\nu}{\\mu}|{\\phi}{\\xi}> + <{\\nu}{\\nu}|{\\xi}{\\xi}> + <{\\nu}{\\xi}|{\\mu}{\\phi}> + <{\\nu}{\\xi}|{\\nu}{\\xi}>,                                                                                                       0],\n",
       "[                                                                                                      0,                                                                                                       0, <{\\nu}{\\mu}|{\\phi}{\\xi}> + <{\\nu}{\\nu}|{\\xi}{\\xi}> + <{\\nu}{\\xi}|{\\mu}{\\phi}> + <{\\nu}{\\xi}|{\\nu}{\\xi}>]])"
      ]
     },
     "metadata": {},
     "output_type": "display_data"
    },
    {
     "data": {
      "text/plain": [
       "(1, T_2)"
      ]
     },
     "metadata": {},
     "output_type": "display_data"
    },
    {
     "data": {
      "text/plain": [
       "1"
      ]
     },
     "metadata": {},
     "output_type": "display_data"
    },
    {
     "data": {
      "text/latex": [
       "$\\displaystyle \\left[\\begin{matrix}\\left\\langle {\\nu}{\\mu} \\right. {\\left|{\\phi}{\\xi}\\right\\rangle } - \\left\\langle {\\nu}{\\nu} \\right. {\\left|{\\xi}{\\xi}\\right\\rangle } - \\left\\langle {\\nu}{\\xi} \\right. {\\left|{\\mu}{\\phi}\\right\\rangle } + \\left\\langle {\\nu}{\\xi} \\right. {\\left|{\\nu}{\\xi}\\right\\rangle } & 0 & 0 & 0 & 0 & 0 & 0 & 0 & 0\\\\0 & \\left\\langle {\\nu}{\\mu} \\right. {\\left|{\\phi}{\\xi}\\right\\rangle } - \\left\\langle {\\nu}{\\nu} \\right. {\\left|{\\xi}{\\xi}\\right\\rangle } - \\left\\langle {\\nu}{\\xi} \\right. {\\left|{\\mu}{\\phi}\\right\\rangle } + \\left\\langle {\\nu}{\\xi} \\right. {\\left|{\\nu}{\\xi}\\right\\rangle } & 0 & 0 & 0 & 0 & 0 & 0 & 0\\\\0 & 0 & \\left\\langle {\\nu}{\\mu} \\right. {\\left|{\\phi}{\\xi}\\right\\rangle } - \\left\\langle {\\nu}{\\nu} \\right. {\\left|{\\xi}{\\xi}\\right\\rangle } - \\left\\langle {\\nu}{\\xi} \\right. {\\left|{\\mu}{\\phi}\\right\\rangle } + \\left\\langle {\\nu}{\\xi} \\right. {\\left|{\\nu}{\\xi}\\right\\rangle } & 0 & 0 & 0 & 0 & 0 & 0\\\\0 & 0 & 0 & \\left\\langle {\\nu}{\\mu} \\right. {\\left|{\\phi}{\\xi}\\right\\rangle } - \\left\\langle {\\nu}{\\nu} \\right. {\\left|{\\xi}{\\xi}\\right\\rangle } - \\left\\langle {\\nu}{\\xi} \\right. {\\left|{\\mu}{\\phi}\\right\\rangle } + \\left\\langle {\\nu}{\\xi} \\right. {\\left|{\\nu}{\\xi}\\right\\rangle } & 0 & 0 & 0 & 0 & 0\\\\0 & 0 & 0 & 0 & \\left\\langle {\\nu}{\\mu} \\right. {\\left|{\\phi}{\\xi}\\right\\rangle } - \\left\\langle {\\nu}{\\nu} \\right. {\\left|{\\xi}{\\xi}\\right\\rangle } - \\left\\langle {\\nu}{\\xi} \\right. {\\left|{\\mu}{\\phi}\\right\\rangle } + \\left\\langle {\\nu}{\\xi} \\right. {\\left|{\\nu}{\\xi}\\right\\rangle } & 0 & 0 & 0 & 0\\\\0 & 0 & 0 & 0 & 0 & \\left\\langle {\\nu}{\\mu} \\right. {\\left|{\\phi}{\\xi}\\right\\rangle } - \\left\\langle {\\nu}{\\nu} \\right. {\\left|{\\xi}{\\xi}\\right\\rangle } - \\left\\langle {\\nu}{\\xi} \\right. {\\left|{\\mu}{\\phi}\\right\\rangle } + \\left\\langle {\\nu}{\\xi} \\right. {\\left|{\\nu}{\\xi}\\right\\rangle } & 0 & 0 & 0\\\\0 & 0 & 0 & 0 & 0 & 0 & \\left\\langle {\\nu}{\\mu} \\right. {\\left|{\\phi}{\\xi}\\right\\rangle } - \\left\\langle {\\nu}{\\nu} \\right. {\\left|{\\xi}{\\xi}\\right\\rangle } - \\left\\langle {\\nu}{\\xi} \\right. {\\left|{\\mu}{\\phi}\\right\\rangle } + \\left\\langle {\\nu}{\\xi} \\right. {\\left|{\\nu}{\\xi}\\right\\rangle } & 0 & 0\\\\0 & 0 & 0 & 0 & 0 & 0 & 0 & \\left\\langle {\\nu}{\\mu} \\right. {\\left|{\\phi}{\\xi}\\right\\rangle } - \\left\\langle {\\nu}{\\nu} \\right. {\\left|{\\xi}{\\xi}\\right\\rangle } - \\left\\langle {\\nu}{\\xi} \\right. {\\left|{\\mu}{\\phi}\\right\\rangle } + \\left\\langle {\\nu}{\\xi} \\right. {\\left|{\\nu}{\\xi}\\right\\rangle } & 0\\\\0 & 0 & 0 & 0 & 0 & 0 & 0 & 0 & \\left\\langle {\\nu}{\\mu} \\right. {\\left|{\\phi}{\\xi}\\right\\rangle } - \\left\\langle {\\nu}{\\nu} \\right. {\\left|{\\xi}{\\xi}\\right\\rangle } - \\left\\langle {\\nu}{\\xi} \\right. {\\left|{\\mu}{\\phi}\\right\\rangle } + \\left\\langle {\\nu}{\\xi} \\right. {\\left|{\\nu}{\\xi}\\right\\rangle }\\end{matrix}\\right]$"
      ],
      "text/plain": [
       "Matrix([\n",
       "[<{\\nu}{\\mu}|{\\phi}{\\xi}> - <{\\nu}{\\nu}|{\\xi}{\\xi}> - <{\\nu}{\\xi}|{\\mu}{\\phi}> + <{\\nu}{\\xi}|{\\nu}{\\xi}>,                                                                                                       0,                                                                                                       0,                                                                                                       0,                                                                                                       0,                                                                                                       0,                                                                                                       0,                                                                                                       0,                                                                                                       0],\n",
       "[                                                                                                      0, <{\\nu}{\\mu}|{\\phi}{\\xi}> - <{\\nu}{\\nu}|{\\xi}{\\xi}> - <{\\nu}{\\xi}|{\\mu}{\\phi}> + <{\\nu}{\\xi}|{\\nu}{\\xi}>,                                                                                                       0,                                                                                                       0,                                                                                                       0,                                                                                                       0,                                                                                                       0,                                                                                                       0,                                                                                                       0],\n",
       "[                                                                                                      0,                                                                                                       0, <{\\nu}{\\mu}|{\\phi}{\\xi}> - <{\\nu}{\\nu}|{\\xi}{\\xi}> - <{\\nu}{\\xi}|{\\mu}{\\phi}> + <{\\nu}{\\xi}|{\\nu}{\\xi}>,                                                                                                       0,                                                                                                       0,                                                                                                       0,                                                                                                       0,                                                                                                       0,                                                                                                       0],\n",
       "[                                                                                                      0,                                                                                                       0,                                                                                                       0, <{\\nu}{\\mu}|{\\phi}{\\xi}> - <{\\nu}{\\nu}|{\\xi}{\\xi}> - <{\\nu}{\\xi}|{\\mu}{\\phi}> + <{\\nu}{\\xi}|{\\nu}{\\xi}>,                                                                                                       0,                                                                                                       0,                                                                                                       0,                                                                                                       0,                                                                                                       0],\n",
       "[                                                                                                      0,                                                                                                       0,                                                                                                       0,                                                                                                       0, <{\\nu}{\\mu}|{\\phi}{\\xi}> - <{\\nu}{\\nu}|{\\xi}{\\xi}> - <{\\nu}{\\xi}|{\\mu}{\\phi}> + <{\\nu}{\\xi}|{\\nu}{\\xi}>,                                                                                                       0,                                                                                                       0,                                                                                                       0,                                                                                                       0],\n",
       "[                                                                                                      0,                                                                                                       0,                                                                                                       0,                                                                                                       0,                                                                                                       0, <{\\nu}{\\mu}|{\\phi}{\\xi}> - <{\\nu}{\\nu}|{\\xi}{\\xi}> - <{\\nu}{\\xi}|{\\mu}{\\phi}> + <{\\nu}{\\xi}|{\\nu}{\\xi}>,                                                                                                       0,                                                                                                       0,                                                                                                       0],\n",
       "[                                                                                                      0,                                                                                                       0,                                                                                                       0,                                                                                                       0,                                                                                                       0,                                                                                                       0, <{\\nu}{\\mu}|{\\phi}{\\xi}> - <{\\nu}{\\nu}|{\\xi}{\\xi}> - <{\\nu}{\\xi}|{\\mu}{\\phi}> + <{\\nu}{\\xi}|{\\nu}{\\xi}>,                                                                                                       0,                                                                                                       0],\n",
       "[                                                                                                      0,                                                                                                       0,                                                                                                       0,                                                                                                       0,                                                                                                       0,                                                                                                       0,                                                                                                       0, <{\\nu}{\\mu}|{\\phi}{\\xi}> - <{\\nu}{\\nu}|{\\xi}{\\xi}> - <{\\nu}{\\xi}|{\\mu}{\\phi}> + <{\\nu}{\\xi}|{\\nu}{\\xi}>,                                                                                                       0],\n",
       "[                                                                                                      0,                                                                                                       0,                                                                                                       0,                                                                                                       0,                                                                                                       0,                                                                                                       0,                                                                                                       0,                                                                                                       0, <{\\nu}{\\mu}|{\\phi}{\\xi}> - <{\\nu}{\\nu}|{\\xi}{\\xi}> - <{\\nu}{\\xi}|{\\mu}{\\phi}> + <{\\nu}{\\xi}|{\\nu}{\\xi}>]])"
      ]
     },
     "metadata": {},
     "output_type": "display_data"
    },
    {
     "data": {
      "text/plain": [
       "(0, T_2)"
      ]
     },
     "metadata": {},
     "output_type": "display_data"
    },
    {
     "data": {
      "text/plain": [
       "1"
      ]
     },
     "metadata": {},
     "output_type": "display_data"
    },
    {
     "data": {
      "text/latex": [
       "$\\displaystyle \\left[\\begin{matrix}- \\left\\langle {\\nu}{\\mu} \\right. {\\left|{\\phi}{\\xi}\\right\\rangle } + \\left\\langle {\\nu}{\\nu} \\right. {\\left|{\\xi}{\\xi}\\right\\rangle } - \\left\\langle {\\nu}{\\xi} \\right. {\\left|{\\mu}{\\phi}\\right\\rangle } + \\left\\langle {\\nu}{\\xi} \\right. {\\left|{\\nu}{\\xi}\\right\\rangle } & 0 & 0\\\\0 & - \\left\\langle {\\nu}{\\mu} \\right. {\\left|{\\phi}{\\xi}\\right\\rangle } + \\left\\langle {\\nu}{\\nu} \\right. {\\left|{\\xi}{\\xi}\\right\\rangle } - \\left\\langle {\\nu}{\\xi} \\right. {\\left|{\\mu}{\\phi}\\right\\rangle } + \\left\\langle {\\nu}{\\xi} \\right. {\\left|{\\nu}{\\xi}\\right\\rangle } & 0\\\\0 & 0 & - \\left\\langle {\\nu}{\\mu} \\right. {\\left|{\\phi}{\\xi}\\right\\rangle } + \\left\\langle {\\nu}{\\nu} \\right. {\\left|{\\xi}{\\xi}\\right\\rangle } - \\left\\langle {\\nu}{\\xi} \\right. {\\left|{\\mu}{\\phi}\\right\\rangle } + \\left\\langle {\\nu}{\\xi} \\right. {\\left|{\\nu}{\\xi}\\right\\rangle }\\end{matrix}\\right]$"
      ],
      "text/plain": [
       "Matrix([\n",
       "[-<{\\nu}{\\mu}|{\\phi}{\\xi}> + <{\\nu}{\\nu}|{\\xi}{\\xi}> - <{\\nu}{\\xi}|{\\mu}{\\phi}> + <{\\nu}{\\xi}|{\\nu}{\\xi}>,                                                                                                        0,                                                                                                        0],\n",
       "[                                                                                                       0, -<{\\nu}{\\mu}|{\\phi}{\\xi}> + <{\\nu}{\\nu}|{\\xi}{\\xi}> - <{\\nu}{\\xi}|{\\mu}{\\phi}> + <{\\nu}{\\xi}|{\\nu}{\\xi}>,                                                                                                        0],\n",
       "[                                                                                                       0,                                                                                                        0, -<{\\nu}{\\mu}|{\\phi}{\\xi}> + <{\\nu}{\\nu}|{\\xi}{\\xi}> - <{\\nu}{\\xi}|{\\mu}{\\phi}> + <{\\nu}{\\xi}|{\\nu}{\\xi}>]])"
      ]
     },
     "metadata": {},
     "output_type": "display_data"
    },
    {
     "name": "stdout",
     "output_type": "stream",
     "text": [
      "----------\n"
     ]
    },
    {
     "data": {
      "text/latex": [
       "$\\displaystyle a_{1} e$"
      ],
      "text/plain": [
       "a_{1}*e"
      ]
     },
     "metadata": {},
     "output_type": "display_data"
    },
    {
     "data": {
      "text/plain": [
       "(1, E)"
      ]
     },
     "metadata": {},
     "output_type": "display_data"
    },
    {
     "data": {
      "text/plain": [
       "1"
      ]
     },
     "metadata": {},
     "output_type": "display_data"
    },
    {
     "data": {
      "text/latex": [
       "$\\displaystyle \\left[\\begin{matrix}- \\left\\langle {\\alpha}{\\alpha} \\right. {\\left|{\\zeta}{\\zeta}\\right\\rangle } + \\left\\langle {\\alpha}{\\zeta} \\right. {\\left|{\\alpha}{\\zeta}\\right\\rangle } & 0 & 0 & 0 & 0 & 0\\\\0 & - \\left\\langle {\\alpha}{\\alpha} \\right. {\\left|{\\zeta}{\\zeta}\\right\\rangle } + \\left\\langle {\\alpha}{\\zeta} \\right. {\\left|{\\alpha}{\\zeta}\\right\\rangle } & 0 & 0 & 0 & 0\\\\0 & 0 & - \\left\\langle {\\alpha}{\\alpha} \\right. {\\left|{\\zeta}{\\zeta}\\right\\rangle } + \\left\\langle {\\alpha}{\\zeta} \\right. {\\left|{\\alpha}{\\zeta}\\right\\rangle } & 0 & 0 & 0\\\\0 & 0 & 0 & - \\left\\langle {\\alpha}{\\alpha} \\right. {\\left|{\\zeta}{\\zeta}\\right\\rangle } + \\left\\langle {\\alpha}{\\zeta} \\right. {\\left|{\\alpha}{\\zeta}\\right\\rangle } & 0 & 0\\\\0 & 0 & 0 & 0 & - \\left\\langle {\\alpha}{\\alpha} \\right. {\\left|{\\zeta}{\\zeta}\\right\\rangle } + \\left\\langle {\\alpha}{\\zeta} \\right. {\\left|{\\alpha}{\\zeta}\\right\\rangle } & 0\\\\0 & 0 & 0 & 0 & 0 & - \\left\\langle {\\alpha}{\\alpha} \\right. {\\left|{\\zeta}{\\zeta}\\right\\rangle } + \\left\\langle {\\alpha}{\\zeta} \\right. {\\left|{\\alpha}{\\zeta}\\right\\rangle }\\end{matrix}\\right]$"
      ],
      "text/plain": [
       "Matrix([\n",
       "[-<{\\alpha}{\\alpha}|{\\zeta}{\\zeta}> + <{\\alpha}{\\zeta}|{\\alpha}{\\zeta}>,                                                                      0,                                                                      0,                                                                      0,                                                                      0,                                                                      0],\n",
       "[                                                                     0, -<{\\alpha}{\\alpha}|{\\zeta}{\\zeta}> + <{\\alpha}{\\zeta}|{\\alpha}{\\zeta}>,                                                                      0,                                                                      0,                                                                      0,                                                                      0],\n",
       "[                                                                     0,                                                                      0, -<{\\alpha}{\\alpha}|{\\zeta}{\\zeta}> + <{\\alpha}{\\zeta}|{\\alpha}{\\zeta}>,                                                                      0,                                                                      0,                                                                      0],\n",
       "[                                                                     0,                                                                      0,                                                                      0, -<{\\alpha}{\\alpha}|{\\zeta}{\\zeta}> + <{\\alpha}{\\zeta}|{\\alpha}{\\zeta}>,                                                                      0,                                                                      0],\n",
       "[                                                                     0,                                                                      0,                                                                      0,                                                                      0, -<{\\alpha}{\\alpha}|{\\zeta}{\\zeta}> + <{\\alpha}{\\zeta}|{\\alpha}{\\zeta}>,                                                                      0],\n",
       "[                                                                     0,                                                                      0,                                                                      0,                                                                      0,                                                                      0, -<{\\alpha}{\\alpha}|{\\zeta}{\\zeta}> + <{\\alpha}{\\zeta}|{\\alpha}{\\zeta}>]])"
      ]
     },
     "metadata": {},
     "output_type": "display_data"
    },
    {
     "data": {
      "text/plain": [
       "(0, E)"
      ]
     },
     "metadata": {},
     "output_type": "display_data"
    },
    {
     "data": {
      "text/plain": [
       "1"
      ]
     },
     "metadata": {},
     "output_type": "display_data"
    },
    {
     "data": {
      "text/latex": [
       "$\\displaystyle \\left[\\begin{matrix}\\left\\langle {\\alpha}{\\alpha} \\right. {\\left|{\\zeta}{\\zeta}\\right\\rangle } + \\left\\langle {\\alpha}{\\zeta} \\right. {\\left|{\\alpha}{\\zeta}\\right\\rangle } & 0\\\\0 & \\left\\langle {\\alpha}{\\alpha} \\right. {\\left|{\\zeta}{\\zeta}\\right\\rangle } + \\left\\langle {\\alpha}{\\zeta} \\right. {\\left|{\\alpha}{\\zeta}\\right\\rangle }\\end{matrix}\\right]$"
      ],
      "text/plain": [
       "Matrix([\n",
       "[<{\\alpha}{\\alpha}|{\\zeta}{\\zeta}> + <{\\alpha}{\\zeta}|{\\alpha}{\\zeta}>,                                                                     0],\n",
       "[                                                                    0, <{\\alpha}{\\alpha}|{\\zeta}{\\zeta}> + <{\\alpha}{\\zeta}|{\\alpha}{\\zeta}>]])"
      ]
     },
     "metadata": {},
     "output_type": "display_data"
    },
    {
     "name": "stdout",
     "output_type": "stream",
     "text": [
      "----------\n"
     ]
    },
    {
     "data": {
      "text/latex": [
       "$\\displaystyle a_{2} e$"
      ],
      "text/plain": [
       "a_{2}*e"
      ]
     },
     "metadata": {},
     "output_type": "display_data"
    },
    {
     "data": {
      "text/plain": [
       "(1, E)"
      ]
     },
     "metadata": {},
     "output_type": "display_data"
    },
    {
     "data": {
      "text/plain": [
       "1"
      ]
     },
     "metadata": {},
     "output_type": "display_data"
    },
    {
     "data": {
      "text/latex": [
       "$\\displaystyle \\left[\\begin{matrix}- \\left\\langle {\\beta}{\\beta} \\right. {\\left|{\\zeta}{\\zeta}\\right\\rangle } + \\left\\langle {\\beta}{\\zeta} \\right. {\\left|{\\beta}{\\zeta}\\right\\rangle } & 0 & 0 & 0 & 0 & 0\\\\0 & - \\left\\langle {\\beta}{\\beta} \\right. {\\left|{\\zeta}{\\zeta}\\right\\rangle } + \\left\\langle {\\beta}{\\zeta} \\right. {\\left|{\\beta}{\\zeta}\\right\\rangle } & 0 & 0 & 0 & 0\\\\0 & 0 & - \\left\\langle {\\beta}{\\beta} \\right. {\\left|{\\zeta}{\\zeta}\\right\\rangle } + \\left\\langle {\\beta}{\\zeta} \\right. {\\left|{\\beta}{\\zeta}\\right\\rangle } & 0 & 0 & 0\\\\0 & 0 & 0 & - \\left\\langle {\\beta}{\\beta} \\right. {\\left|{\\zeta}{\\zeta}\\right\\rangle } + \\left\\langle {\\beta}{\\zeta} \\right. {\\left|{\\beta}{\\zeta}\\right\\rangle } & 0 & 0\\\\0 & 0 & 0 & 0 & - \\left\\langle {\\beta}{\\beta} \\right. {\\left|{\\zeta}{\\zeta}\\right\\rangle } + \\left\\langle {\\beta}{\\zeta} \\right. {\\left|{\\beta}{\\zeta}\\right\\rangle } & 0\\\\0 & 0 & 0 & 0 & 0 & - \\left\\langle {\\beta}{\\beta} \\right. {\\left|{\\zeta}{\\zeta}\\right\\rangle } + \\left\\langle {\\beta}{\\zeta} \\right. {\\left|{\\beta}{\\zeta}\\right\\rangle }\\end{matrix}\\right]$"
      ],
      "text/plain": [
       "Matrix([\n",
       "[-<{\\beta}{\\beta}|{\\zeta}{\\zeta}> + <{\\beta}{\\zeta}|{\\beta}{\\zeta}>,                                                                  0,                                                                  0,                                                                  0,                                                                  0,                                                                  0],\n",
       "[                                                                 0, -<{\\beta}{\\beta}|{\\zeta}{\\zeta}> + <{\\beta}{\\zeta}|{\\beta}{\\zeta}>,                                                                  0,                                                                  0,                                                                  0,                                                                  0],\n",
       "[                                                                 0,                                                                  0, -<{\\beta}{\\beta}|{\\zeta}{\\zeta}> + <{\\beta}{\\zeta}|{\\beta}{\\zeta}>,                                                                  0,                                                                  0,                                                                  0],\n",
       "[                                                                 0,                                                                  0,                                                                  0, -<{\\beta}{\\beta}|{\\zeta}{\\zeta}> + <{\\beta}{\\zeta}|{\\beta}{\\zeta}>,                                                                  0,                                                                  0],\n",
       "[                                                                 0,                                                                  0,                                                                  0,                                                                  0, -<{\\beta}{\\beta}|{\\zeta}{\\zeta}> + <{\\beta}{\\zeta}|{\\beta}{\\zeta}>,                                                                  0],\n",
       "[                                                                 0,                                                                  0,                                                                  0,                                                                  0,                                                                  0, -<{\\beta}{\\beta}|{\\zeta}{\\zeta}> + <{\\beta}{\\zeta}|{\\beta}{\\zeta}>]])"
      ]
     },
     "metadata": {},
     "output_type": "display_data"
    },
    {
     "data": {
      "text/plain": [
       "(0, E)"
      ]
     },
     "metadata": {},
     "output_type": "display_data"
    },
    {
     "data": {
      "text/plain": [
       "1"
      ]
     },
     "metadata": {},
     "output_type": "display_data"
    },
    {
     "data": {
      "text/latex": [
       "$\\displaystyle \\left[\\begin{matrix}\\left\\langle {\\beta}{\\beta} \\right. {\\left|{\\zeta}{\\zeta}\\right\\rangle } + \\left\\langle {\\beta}{\\zeta} \\right. {\\left|{\\beta}{\\zeta}\\right\\rangle } & 0\\\\0 & \\left\\langle {\\beta}{\\beta} \\right. {\\left|{\\zeta}{\\zeta}\\right\\rangle } + \\left\\langle {\\beta}{\\zeta} \\right. {\\left|{\\beta}{\\zeta}\\right\\rangle }\\end{matrix}\\right]$"
      ],
      "text/plain": [
       "Matrix([\n",
       "[<{\\beta}{\\beta}|{\\zeta}{\\zeta}> + <{\\beta}{\\zeta}|{\\beta}{\\zeta}>,                                                                 0],\n",
       "[                                                                0, <{\\beta}{\\beta}|{\\zeta}{\\zeta}> + <{\\beta}{\\zeta}|{\\beta}{\\zeta}>]])"
      ]
     },
     "metadata": {},
     "output_type": "display_data"
    },
    {
     "name": "stdout",
     "output_type": "stream",
     "text": [
      "----------\n"
     ]
    },
    {
     "data": {
      "text/latex": [
       "$\\displaystyle a_{1} t_{1}$"
      ],
      "text/plain": [
       "a_{1}*t_{1}"
      ]
     },
     "metadata": {},
     "output_type": "display_data"
    },
    {
     "data": {
      "text/plain": [
       "(1, T_1)"
      ]
     },
     "metadata": {},
     "output_type": "display_data"
    },
    {
     "data": {
      "text/plain": [
       "1"
      ]
     },
     "metadata": {},
     "output_type": "display_data"
    },
    {
     "data": {
      "text/latex": [
       "$\\displaystyle \\left[\\begin{matrix}- \\left\\langle {\\alpha}{\\alpha} \\right. {\\left|{\\nu}{\\nu}\\right\\rangle } + \\left\\langle {\\alpha}{\\nu} \\right. {\\left|{\\alpha}{\\nu}\\right\\rangle } & 0 & 0 & 0 & 0 & 0 & 0 & 0 & 0\\\\0 & - \\left\\langle {\\alpha}{\\alpha} \\right. {\\left|{\\nu}{\\nu}\\right\\rangle } + \\left\\langle {\\alpha}{\\nu} \\right. {\\left|{\\alpha}{\\nu}\\right\\rangle } & 0 & 0 & 0 & 0 & 0 & 0 & 0\\\\0 & 0 & - \\left\\langle {\\alpha}{\\alpha} \\right. {\\left|{\\nu}{\\nu}\\right\\rangle } + \\left\\langle {\\alpha}{\\nu} \\right. {\\left|{\\alpha}{\\nu}\\right\\rangle } & 0 & 0 & 0 & 0 & 0 & 0\\\\0 & 0 & 0 & - \\left\\langle {\\alpha}{\\alpha} \\right. {\\left|{\\nu}{\\nu}\\right\\rangle } + \\left\\langle {\\alpha}{\\nu} \\right. {\\left|{\\alpha}{\\nu}\\right\\rangle } & 0 & 0 & 0 & 0 & 0\\\\0 & 0 & 0 & 0 & - \\left\\langle {\\alpha}{\\alpha} \\right. {\\left|{\\nu}{\\nu}\\right\\rangle } + \\left\\langle {\\alpha}{\\nu} \\right. {\\left|{\\alpha}{\\nu}\\right\\rangle } & 0 & 0 & 0 & 0\\\\0 & 0 & 0 & 0 & 0 & - \\left\\langle {\\alpha}{\\alpha} \\right. {\\left|{\\nu}{\\nu}\\right\\rangle } + \\left\\langle {\\alpha}{\\nu} \\right. {\\left|{\\alpha}{\\nu}\\right\\rangle } & 0 & 0 & 0\\\\0 & 0 & 0 & 0 & 0 & 0 & - \\left\\langle {\\alpha}{\\alpha} \\right. {\\left|{\\nu}{\\nu}\\right\\rangle } + \\left\\langle {\\alpha}{\\nu} \\right. {\\left|{\\alpha}{\\nu}\\right\\rangle } & 0 & 0\\\\0 & 0 & 0 & 0 & 0 & 0 & 0 & - \\left\\langle {\\alpha}{\\alpha} \\right. {\\left|{\\nu}{\\nu}\\right\\rangle } + \\left\\langle {\\alpha}{\\nu} \\right. {\\left|{\\alpha}{\\nu}\\right\\rangle } & 0\\\\0 & 0 & 0 & 0 & 0 & 0 & 0 & 0 & - \\left\\langle {\\alpha}{\\alpha} \\right. {\\left|{\\nu}{\\nu}\\right\\rangle } + \\left\\langle {\\alpha}{\\nu} \\right. {\\left|{\\alpha}{\\nu}\\right\\rangle }\\end{matrix}\\right]$"
      ],
      "text/plain": [
       "Matrix([\n",
       "[-<{\\alpha}{\\alpha}|{\\nu}{\\nu}> + <{\\alpha}{\\nu}|{\\alpha}{\\nu}>,                                                              0,                                                              0,                                                              0,                                                              0,                                                              0,                                                              0,                                                              0,                                                              0],\n",
       "[                                                             0, -<{\\alpha}{\\alpha}|{\\nu}{\\nu}> + <{\\alpha}{\\nu}|{\\alpha}{\\nu}>,                                                              0,                                                              0,                                                              0,                                                              0,                                                              0,                                                              0,                                                              0],\n",
       "[                                                             0,                                                              0, -<{\\alpha}{\\alpha}|{\\nu}{\\nu}> + <{\\alpha}{\\nu}|{\\alpha}{\\nu}>,                                                              0,                                                              0,                                                              0,                                                              0,                                                              0,                                                              0],\n",
       "[                                                             0,                                                              0,                                                              0, -<{\\alpha}{\\alpha}|{\\nu}{\\nu}> + <{\\alpha}{\\nu}|{\\alpha}{\\nu}>,                                                              0,                                                              0,                                                              0,                                                              0,                                                              0],\n",
       "[                                                             0,                                                              0,                                                              0,                                                              0, -<{\\alpha}{\\alpha}|{\\nu}{\\nu}> + <{\\alpha}{\\nu}|{\\alpha}{\\nu}>,                                                              0,                                                              0,                                                              0,                                                              0],\n",
       "[                                                             0,                                                              0,                                                              0,                                                              0,                                                              0, -<{\\alpha}{\\alpha}|{\\nu}{\\nu}> + <{\\alpha}{\\nu}|{\\alpha}{\\nu}>,                                                              0,                                                              0,                                                              0],\n",
       "[                                                             0,                                                              0,                                                              0,                                                              0,                                                              0,                                                              0, -<{\\alpha}{\\alpha}|{\\nu}{\\nu}> + <{\\alpha}{\\nu}|{\\alpha}{\\nu}>,                                                              0,                                                              0],\n",
       "[                                                             0,                                                              0,                                                              0,                                                              0,                                                              0,                                                              0,                                                              0, -<{\\alpha}{\\alpha}|{\\nu}{\\nu}> + <{\\alpha}{\\nu}|{\\alpha}{\\nu}>,                                                              0],\n",
       "[                                                             0,                                                              0,                                                              0,                                                              0,                                                              0,                                                              0,                                                              0,                                                              0, -<{\\alpha}{\\alpha}|{\\nu}{\\nu}> + <{\\alpha}{\\nu}|{\\alpha}{\\nu}>]])"
      ]
     },
     "metadata": {},
     "output_type": "display_data"
    },
    {
     "data": {
      "text/plain": [
       "(0, T_1)"
      ]
     },
     "metadata": {},
     "output_type": "display_data"
    },
    {
     "data": {
      "text/plain": [
       "1"
      ]
     },
     "metadata": {},
     "output_type": "display_data"
    },
    {
     "data": {
      "text/latex": [
       "$\\displaystyle \\left[\\begin{matrix}\\left\\langle {\\alpha}{\\alpha} \\right. {\\left|{\\nu}{\\nu}\\right\\rangle } + \\left\\langle {\\alpha}{\\nu} \\right. {\\left|{\\alpha}{\\nu}\\right\\rangle } & 0 & 0\\\\0 & \\left\\langle {\\alpha}{\\alpha} \\right. {\\left|{\\nu}{\\nu}\\right\\rangle } + \\left\\langle {\\alpha}{\\nu} \\right. {\\left|{\\alpha}{\\nu}\\right\\rangle } & 0\\\\0 & 0 & \\left\\langle {\\alpha}{\\alpha} \\right. {\\left|{\\nu}{\\nu}\\right\\rangle } + \\left\\langle {\\alpha}{\\nu} \\right. {\\left|{\\alpha}{\\nu}\\right\\rangle }\\end{matrix}\\right]$"
      ],
      "text/plain": [
       "Matrix([\n",
       "[<{\\alpha}{\\alpha}|{\\nu}{\\nu}> + <{\\alpha}{\\nu}|{\\alpha}{\\nu}>,                                                             0,                                                             0],\n",
       "[                                                            0, <{\\alpha}{\\alpha}|{\\nu}{\\nu}> + <{\\alpha}{\\nu}|{\\alpha}{\\nu}>,                                                             0],\n",
       "[                                                            0,                                                             0, <{\\alpha}{\\alpha}|{\\nu}{\\nu}> + <{\\alpha}{\\nu}|{\\alpha}{\\nu}>]])"
      ]
     },
     "metadata": {},
     "output_type": "display_data"
    },
    {
     "name": "stdout",
     "output_type": "stream",
     "text": [
      "----------\n"
     ]
    },
    {
     "data": {
      "text/latex": [
       "$\\displaystyle a_{2} t_{2}$"
      ],
      "text/plain": [
       "a_{2}*t_{2}"
      ]
     },
     "metadata": {},
     "output_type": "display_data"
    },
    {
     "data": {
      "text/plain": [
       "(1, T_1)"
      ]
     },
     "metadata": {},
     "output_type": "display_data"
    },
    {
     "data": {
      "text/plain": [
       "1"
      ]
     },
     "metadata": {},
     "output_type": "display_data"
    },
    {
     "data": {
      "text/latex": [
       "$\\displaystyle \\left[\\begin{matrix}- \\left\\langle {\\beta}{\\beta} \\right. {\\left|{\\xi}{\\xi}\\right\\rangle } + \\left\\langle {\\beta}{\\xi} \\right. {\\left|{\\beta}{\\xi}\\right\\rangle } & 0 & 0 & 0 & 0 & 0 & 0 & 0 & 0\\\\0 & - \\left\\langle {\\beta}{\\beta} \\right. {\\left|{\\xi}{\\xi}\\right\\rangle } + \\left\\langle {\\beta}{\\xi} \\right. {\\left|{\\beta}{\\xi}\\right\\rangle } & 0 & 0 & 0 & 0 & 0 & 0 & 0\\\\0 & 0 & - \\left\\langle {\\beta}{\\beta} \\right. {\\left|{\\xi}{\\xi}\\right\\rangle } + \\left\\langle {\\beta}{\\xi} \\right. {\\left|{\\beta}{\\xi}\\right\\rangle } & 0 & 0 & 0 & 0 & 0 & 0\\\\0 & 0 & 0 & - \\left\\langle {\\beta}{\\beta} \\right. {\\left|{\\xi}{\\xi}\\right\\rangle } + \\left\\langle {\\beta}{\\xi} \\right. {\\left|{\\beta}{\\xi}\\right\\rangle } & 0 & 0 & 0 & 0 & 0\\\\0 & 0 & 0 & 0 & - \\left\\langle {\\beta}{\\beta} \\right. {\\left|{\\xi}{\\xi}\\right\\rangle } + \\left\\langle {\\beta}{\\xi} \\right. {\\left|{\\beta}{\\xi}\\right\\rangle } & 0 & 0 & 0 & 0\\\\0 & 0 & 0 & 0 & 0 & - \\left\\langle {\\beta}{\\beta} \\right. {\\left|{\\xi}{\\xi}\\right\\rangle } + \\left\\langle {\\beta}{\\xi} \\right. {\\left|{\\beta}{\\xi}\\right\\rangle } & 0 & 0 & 0\\\\0 & 0 & 0 & 0 & 0 & 0 & - \\left\\langle {\\beta}{\\beta} \\right. {\\left|{\\xi}{\\xi}\\right\\rangle } + \\left\\langle {\\beta}{\\xi} \\right. {\\left|{\\beta}{\\xi}\\right\\rangle } & 0 & 0\\\\0 & 0 & 0 & 0 & 0 & 0 & 0 & - \\left\\langle {\\beta}{\\beta} \\right. {\\left|{\\xi}{\\xi}\\right\\rangle } + \\left\\langle {\\beta}{\\xi} \\right. {\\left|{\\beta}{\\xi}\\right\\rangle } & 0\\\\0 & 0 & 0 & 0 & 0 & 0 & 0 & 0 & - \\left\\langle {\\beta}{\\beta} \\right. {\\left|{\\xi}{\\xi}\\right\\rangle } + \\left\\langle {\\beta}{\\xi} \\right. {\\left|{\\beta}{\\xi}\\right\\rangle }\\end{matrix}\\right]$"
      ],
      "text/plain": [
       "Matrix([\n",
       "[-<{\\beta}{\\beta}|{\\xi}{\\xi}> + <{\\beta}{\\xi}|{\\beta}{\\xi}>,                                                          0,                                                          0,                                                          0,                                                          0,                                                          0,                                                          0,                                                          0,                                                          0],\n",
       "[                                                         0, -<{\\beta}{\\beta}|{\\xi}{\\xi}> + <{\\beta}{\\xi}|{\\beta}{\\xi}>,                                                          0,                                                          0,                                                          0,                                                          0,                                                          0,                                                          0,                                                          0],\n",
       "[                                                         0,                                                          0, -<{\\beta}{\\beta}|{\\xi}{\\xi}> + <{\\beta}{\\xi}|{\\beta}{\\xi}>,                                                          0,                                                          0,                                                          0,                                                          0,                                                          0,                                                          0],\n",
       "[                                                         0,                                                          0,                                                          0, -<{\\beta}{\\beta}|{\\xi}{\\xi}> + <{\\beta}{\\xi}|{\\beta}{\\xi}>,                                                          0,                                                          0,                                                          0,                                                          0,                                                          0],\n",
       "[                                                         0,                                                          0,                                                          0,                                                          0, -<{\\beta}{\\beta}|{\\xi}{\\xi}> + <{\\beta}{\\xi}|{\\beta}{\\xi}>,                                                          0,                                                          0,                                                          0,                                                          0],\n",
       "[                                                         0,                                                          0,                                                          0,                                                          0,                                                          0, -<{\\beta}{\\beta}|{\\xi}{\\xi}> + <{\\beta}{\\xi}|{\\beta}{\\xi}>,                                                          0,                                                          0,                                                          0],\n",
       "[                                                         0,                                                          0,                                                          0,                                                          0,                                                          0,                                                          0, -<{\\beta}{\\beta}|{\\xi}{\\xi}> + <{\\beta}{\\xi}|{\\beta}{\\xi}>,                                                          0,                                                          0],\n",
       "[                                                         0,                                                          0,                                                          0,                                                          0,                                                          0,                                                          0,                                                          0, -<{\\beta}{\\beta}|{\\xi}{\\xi}> + <{\\beta}{\\xi}|{\\beta}{\\xi}>,                                                          0],\n",
       "[                                                         0,                                                          0,                                                          0,                                                          0,                                                          0,                                                          0,                                                          0,                                                          0, -<{\\beta}{\\beta}|{\\xi}{\\xi}> + <{\\beta}{\\xi}|{\\beta}{\\xi}>]])"
      ]
     },
     "metadata": {},
     "output_type": "display_data"
    },
    {
     "data": {
      "text/plain": [
       "(0, T_1)"
      ]
     },
     "metadata": {},
     "output_type": "display_data"
    },
    {
     "data": {
      "text/plain": [
       "1"
      ]
     },
     "metadata": {},
     "output_type": "display_data"
    },
    {
     "data": {
      "text/latex": [
       "$\\displaystyle \\left[\\begin{matrix}\\left\\langle {\\beta}{\\beta} \\right. {\\left|{\\xi}{\\xi}\\right\\rangle } + \\left\\langle {\\beta}{\\xi} \\right. {\\left|{\\beta}{\\xi}\\right\\rangle } & 0 & 0\\\\0 & \\left\\langle {\\beta}{\\beta} \\right. {\\left|{\\xi}{\\xi}\\right\\rangle } + \\left\\langle {\\beta}{\\xi} \\right. {\\left|{\\beta}{\\xi}\\right\\rangle } & 0\\\\0 & 0 & \\left\\langle {\\beta}{\\beta} \\right. {\\left|{\\xi}{\\xi}\\right\\rangle } + \\left\\langle {\\beta}{\\xi} \\right. {\\left|{\\beta}{\\xi}\\right\\rangle }\\end{matrix}\\right]$"
      ],
      "text/plain": [
       "Matrix([\n",
       "[<{\\beta}{\\beta}|{\\xi}{\\xi}> + <{\\beta}{\\xi}|{\\beta}{\\xi}>,                                                         0,                                                         0],\n",
       "[                                                        0, <{\\beta}{\\beta}|{\\xi}{\\xi}> + <{\\beta}{\\xi}|{\\beta}{\\xi}>,                                                         0],\n",
       "[                                                        0,                                                         0, <{\\beta}{\\beta}|{\\xi}{\\xi}> + <{\\beta}{\\xi}|{\\beta}{\\xi}>]])"
      ]
     },
     "metadata": {},
     "output_type": "display_data"
    },
    {
     "name": "stdout",
     "output_type": "stream",
     "text": [
      "----------\n"
     ]
    },
    {
     "data": {
      "text/latex": [
       "$\\displaystyle e t_{1}$"
      ],
      "text/plain": [
       "e*t_{1}"
      ]
     },
     "metadata": {},
     "output_type": "display_data"
    },
    {
     "data": {
      "text/plain": [
       "(1, T_1)"
      ]
     },
     "metadata": {},
     "output_type": "display_data"
    },
    {
     "data": {
      "text/plain": [
       "1"
      ]
     },
     "metadata": {},
     "output_type": "display_data"
    },
    {
     "data": {
      "text/latex": [
       "$\\displaystyle \\left[\\begin{matrix}- \\frac{\\sqrt{3} \\left\\langle {\\zeta}{\\nu} \\right. {\\left|{\\gamma}{\\nu}\\right\\rangle }}{3} + \\left\\langle {\\zeta}{\\nu} \\right. {\\left|{\\zeta}{\\nu}\\right\\rangle } + \\frac{\\left\\langle {\\zeta}{\\zeta} \\right. {\\left|{\\mu}{\\mu}\\right\\rangle }}{3} - \\frac{4 \\left\\langle {\\zeta}{\\zeta} \\right. {\\left|{\\nu}{\\nu}\\right\\rangle }}{3} & 0 & 0 & 0 & 0 & 0 & 0 & 0 & 0\\\\0 & - \\frac{\\sqrt{3} \\left\\langle {\\zeta}{\\nu} \\right. {\\left|{\\gamma}{\\nu}\\right\\rangle }}{3} + \\left\\langle {\\zeta}{\\nu} \\right. {\\left|{\\zeta}{\\nu}\\right\\rangle } + \\frac{\\left\\langle {\\zeta}{\\zeta} \\right. {\\left|{\\mu}{\\mu}\\right\\rangle }}{3} - \\frac{4 \\left\\langle {\\zeta}{\\zeta} \\right. {\\left|{\\nu}{\\nu}\\right\\rangle }}{3} & 0 & 0 & 0 & 0 & 0 & 0 & 0\\\\0 & 0 & - \\frac{\\sqrt{3} \\left\\langle {\\zeta}{\\nu} \\right. {\\left|{\\gamma}{\\nu}\\right\\rangle }}{3} + \\left\\langle {\\zeta}{\\nu} \\right. {\\left|{\\zeta}{\\nu}\\right\\rangle } + \\frac{\\left\\langle {\\zeta}{\\zeta} \\right. {\\left|{\\mu}{\\mu}\\right\\rangle }}{3} - \\frac{4 \\left\\langle {\\zeta}{\\zeta} \\right. {\\left|{\\nu}{\\nu}\\right\\rangle }}{3} & 0 & 0 & 0 & 0 & 0 & 0\\\\0 & 0 & 0 & - \\frac{\\sqrt{3} \\left\\langle {\\zeta}{\\nu} \\right. {\\left|{\\gamma}{\\nu}\\right\\rangle }}{3} + \\left\\langle {\\zeta}{\\nu} \\right. {\\left|{\\zeta}{\\nu}\\right\\rangle } + \\frac{\\left\\langle {\\zeta}{\\zeta} \\right. {\\left|{\\mu}{\\mu}\\right\\rangle }}{3} - \\frac{4 \\left\\langle {\\zeta}{\\zeta} \\right. {\\left|{\\nu}{\\nu}\\right\\rangle }}{3} & 0 & 0 & 0 & 0 & 0\\\\0 & 0 & 0 & 0 & - \\frac{\\sqrt{3} \\left\\langle {\\zeta}{\\nu} \\right. {\\left|{\\gamma}{\\nu}\\right\\rangle }}{3} + \\left\\langle {\\zeta}{\\nu} \\right. {\\left|{\\zeta}{\\nu}\\right\\rangle } + \\frac{\\left\\langle {\\zeta}{\\zeta} \\right. {\\left|{\\mu}{\\mu}\\right\\rangle }}{3} - \\frac{4 \\left\\langle {\\zeta}{\\zeta} \\right. {\\left|{\\nu}{\\nu}\\right\\rangle }}{3} & 0 & 0 & 0 & 0\\\\0 & 0 & 0 & 0 & 0 & - \\frac{\\sqrt{3} \\left\\langle {\\zeta}{\\nu} \\right. {\\left|{\\gamma}{\\nu}\\right\\rangle }}{3} + \\left\\langle {\\zeta}{\\nu} \\right. {\\left|{\\zeta}{\\nu}\\right\\rangle } + \\frac{\\left\\langle {\\zeta}{\\zeta} \\right. {\\left|{\\mu}{\\mu}\\right\\rangle }}{3} - \\frac{4 \\left\\langle {\\zeta}{\\zeta} \\right. {\\left|{\\nu}{\\nu}\\right\\rangle }}{3} & 0 & 0 & 0\\\\0 & 0 & 0 & 0 & 0 & 0 & - \\frac{\\sqrt{3} \\left\\langle {\\zeta}{\\nu} \\right. {\\left|{\\gamma}{\\nu}\\right\\rangle }}{3} + \\left\\langle {\\zeta}{\\nu} \\right. {\\left|{\\zeta}{\\nu}\\right\\rangle } + \\frac{\\left\\langle {\\zeta}{\\zeta} \\right. {\\left|{\\mu}{\\mu}\\right\\rangle }}{3} - \\frac{4 \\left\\langle {\\zeta}{\\zeta} \\right. {\\left|{\\nu}{\\nu}\\right\\rangle }}{3} & 0 & 0\\\\0 & 0 & 0 & 0 & 0 & 0 & 0 & - \\frac{\\sqrt{3} \\left\\langle {\\zeta}{\\nu} \\right. {\\left|{\\gamma}{\\nu}\\right\\rangle }}{3} + \\left\\langle {\\zeta}{\\nu} \\right. {\\left|{\\zeta}{\\nu}\\right\\rangle } + \\frac{\\left\\langle {\\zeta}{\\zeta} \\right. {\\left|{\\mu}{\\mu}\\right\\rangle }}{3} - \\frac{4 \\left\\langle {\\zeta}{\\zeta} \\right. {\\left|{\\nu}{\\nu}\\right\\rangle }}{3} & 0\\\\0 & 0 & 0 & 0 & 0 & 0 & 0 & 0 & - \\frac{\\sqrt{3} \\left\\langle {\\zeta}{\\nu} \\right. {\\left|{\\gamma}{\\nu}\\right\\rangle }}{3} + \\left\\langle {\\zeta}{\\nu} \\right. {\\left|{\\zeta}{\\nu}\\right\\rangle } + \\frac{\\left\\langle {\\zeta}{\\zeta} \\right. {\\left|{\\mu}{\\mu}\\right\\rangle }}{3} - \\frac{4 \\left\\langle {\\zeta}{\\zeta} \\right. {\\left|{\\nu}{\\nu}\\right\\rangle }}{3}\\end{matrix}\\right]$"
      ],
      "text/plain": [
       "Matrix([\n",
       "[-sqrt(3)*<{\\zeta}{\\nu}|{\\gamma}{\\nu}>/3 + <{\\zeta}{\\nu}|{\\zeta}{\\nu}> + <{\\zeta}{\\zeta}|{\\mu}{\\mu}>/3 - 4*<{\\zeta}{\\zeta}|{\\nu}{\\nu}>/3,                                                                                                                                       0,                                                                                                                                       0,                                                                                                                                       0,                                                                                                                                       0,                                                                                                                                       0,                                                                                                                                       0,                                                                                                                                       0,                                                                                                                                       0],\n",
       "[                                                                                                                                      0, -sqrt(3)*<{\\zeta}{\\nu}|{\\gamma}{\\nu}>/3 + <{\\zeta}{\\nu}|{\\zeta}{\\nu}> + <{\\zeta}{\\zeta}|{\\mu}{\\mu}>/3 - 4*<{\\zeta}{\\zeta}|{\\nu}{\\nu}>/3,                                                                                                                                       0,                                                                                                                                       0,                                                                                                                                       0,                                                                                                                                       0,                                                                                                                                       0,                                                                                                                                       0,                                                                                                                                       0],\n",
       "[                                                                                                                                      0,                                                                                                                                       0, -sqrt(3)*<{\\zeta}{\\nu}|{\\gamma}{\\nu}>/3 + <{\\zeta}{\\nu}|{\\zeta}{\\nu}> + <{\\zeta}{\\zeta}|{\\mu}{\\mu}>/3 - 4*<{\\zeta}{\\zeta}|{\\nu}{\\nu}>/3,                                                                                                                                       0,                                                                                                                                       0,                                                                                                                                       0,                                                                                                                                       0,                                                                                                                                       0,                                                                                                                                       0],\n",
       "[                                                                                                                                      0,                                                                                                                                       0,                                                                                                                                       0, -sqrt(3)*<{\\zeta}{\\nu}|{\\gamma}{\\nu}>/3 + <{\\zeta}{\\nu}|{\\zeta}{\\nu}> + <{\\zeta}{\\zeta}|{\\mu}{\\mu}>/3 - 4*<{\\zeta}{\\zeta}|{\\nu}{\\nu}>/3,                                                                                                                                       0,                                                                                                                                       0,                                                                                                                                       0,                                                                                                                                       0,                                                                                                                                       0],\n",
       "[                                                                                                                                      0,                                                                                                                                       0,                                                                                                                                       0,                                                                                                                                       0, -sqrt(3)*<{\\zeta}{\\nu}|{\\gamma}{\\nu}>/3 + <{\\zeta}{\\nu}|{\\zeta}{\\nu}> + <{\\zeta}{\\zeta}|{\\mu}{\\mu}>/3 - 4*<{\\zeta}{\\zeta}|{\\nu}{\\nu}>/3,                                                                                                                                       0,                                                                                                                                       0,                                                                                                                                       0,                                                                                                                                       0],\n",
       "[                                                                                                                                      0,                                                                                                                                       0,                                                                                                                                       0,                                                                                                                                       0,                                                                                                                                       0, -sqrt(3)*<{\\zeta}{\\nu}|{\\gamma}{\\nu}>/3 + <{\\zeta}{\\nu}|{\\zeta}{\\nu}> + <{\\zeta}{\\zeta}|{\\mu}{\\mu}>/3 - 4*<{\\zeta}{\\zeta}|{\\nu}{\\nu}>/3,                                                                                                                                       0,                                                                                                                                       0,                                                                                                                                       0],\n",
       "[                                                                                                                                      0,                                                                                                                                       0,                                                                                                                                       0,                                                                                                                                       0,                                                                                                                                       0,                                                                                                                                       0, -sqrt(3)*<{\\zeta}{\\nu}|{\\gamma}{\\nu}>/3 + <{\\zeta}{\\nu}|{\\zeta}{\\nu}> + <{\\zeta}{\\zeta}|{\\mu}{\\mu}>/3 - 4*<{\\zeta}{\\zeta}|{\\nu}{\\nu}>/3,                                                                                                                                       0,                                                                                                                                       0],\n",
       "[                                                                                                                                      0,                                                                                                                                       0,                                                                                                                                       0,                                                                                                                                       0,                                                                                                                                       0,                                                                                                                                       0,                                                                                                                                       0, -sqrt(3)*<{\\zeta}{\\nu}|{\\gamma}{\\nu}>/3 + <{\\zeta}{\\nu}|{\\zeta}{\\nu}> + <{\\zeta}{\\zeta}|{\\mu}{\\mu}>/3 - 4*<{\\zeta}{\\zeta}|{\\nu}{\\nu}>/3,                                                                                                                                       0],\n",
       "[                                                                                                                                      0,                                                                                                                                       0,                                                                                                                                       0,                                                                                                                                       0,                                                                                                                                       0,                                                                                                                                       0,                                                                                                                                       0,                                                                                                                                       0, -sqrt(3)*<{\\zeta}{\\nu}|{\\gamma}{\\nu}>/3 + <{\\zeta}{\\nu}|{\\zeta}{\\nu}> + <{\\zeta}{\\zeta}|{\\mu}{\\mu}>/3 - 4*<{\\zeta}{\\zeta}|{\\nu}{\\nu}>/3]])"
      ]
     },
     "metadata": {},
     "output_type": "display_data"
    },
    {
     "data": {
      "text/plain": [
       "(0, T_1)"
      ]
     },
     "metadata": {},
     "output_type": "display_data"
    },
    {
     "data": {
      "text/plain": [
       "1"
      ]
     },
     "metadata": {},
     "output_type": "display_data"
    },
    {
     "data": {
      "text/latex": [
       "$\\displaystyle \\left[\\begin{matrix}- \\frac{\\sqrt{3} \\left\\langle {\\zeta}{\\nu} \\right. {\\left|{\\gamma}{\\nu}\\right\\rangle }}{3} + \\left\\langle {\\zeta}{\\nu} \\right. {\\left|{\\zeta}{\\nu}\\right\\rangle } - \\frac{\\left\\langle {\\zeta}{\\zeta} \\right. {\\left|{\\mu}{\\mu}\\right\\rangle }}{3} + \\frac{4 \\left\\langle {\\zeta}{\\zeta} \\right. {\\left|{\\nu}{\\nu}\\right\\rangle }}{3} & 0 & 0\\\\0 & - \\frac{\\sqrt{3} \\left\\langle {\\zeta}{\\nu} \\right. {\\left|{\\gamma}{\\nu}\\right\\rangle }}{3} + \\left\\langle {\\zeta}{\\nu} \\right. {\\left|{\\zeta}{\\nu}\\right\\rangle } - \\frac{\\left\\langle {\\zeta}{\\zeta} \\right. {\\left|{\\mu}{\\mu}\\right\\rangle }}{3} + \\frac{4 \\left\\langle {\\zeta}{\\zeta} \\right. {\\left|{\\nu}{\\nu}\\right\\rangle }}{3} & 0\\\\0 & 0 & - \\frac{\\sqrt{3} \\left\\langle {\\zeta}{\\nu} \\right. {\\left|{\\gamma}{\\nu}\\right\\rangle }}{3} + \\left\\langle {\\zeta}{\\nu} \\right. {\\left|{\\zeta}{\\nu}\\right\\rangle } - \\frac{\\left\\langle {\\zeta}{\\zeta} \\right. {\\left|{\\mu}{\\mu}\\right\\rangle }}{3} + \\frac{4 \\left\\langle {\\zeta}{\\zeta} \\right. {\\left|{\\nu}{\\nu}\\right\\rangle }}{3}\\end{matrix}\\right]$"
      ],
      "text/plain": [
       "Matrix([\n",
       "[-sqrt(3)*<{\\zeta}{\\nu}|{\\gamma}{\\nu}>/3 + <{\\zeta}{\\nu}|{\\zeta}{\\nu}> - <{\\zeta}{\\zeta}|{\\mu}{\\mu}>/3 + 4*<{\\zeta}{\\zeta}|{\\nu}{\\nu}>/3,                                                                                                                                       0,                                                                                                                                       0],\n",
       "[                                                                                                                                      0, -sqrt(3)*<{\\zeta}{\\nu}|{\\gamma}{\\nu}>/3 + <{\\zeta}{\\nu}|{\\zeta}{\\nu}> - <{\\zeta}{\\zeta}|{\\mu}{\\mu}>/3 + 4*<{\\zeta}{\\zeta}|{\\nu}{\\nu}>/3,                                                                                                                                       0],\n",
       "[                                                                                                                                      0,                                                                                                                                       0, -sqrt(3)*<{\\zeta}{\\nu}|{\\gamma}{\\nu}>/3 + <{\\zeta}{\\nu}|{\\zeta}{\\nu}> - <{\\zeta}{\\zeta}|{\\mu}{\\mu}>/3 + 4*<{\\zeta}{\\zeta}|{\\nu}{\\nu}>/3]])"
      ]
     },
     "metadata": {},
     "output_type": "display_data"
    },
    {
     "data": {
      "text/plain": [
       "(1, T_2)"
      ]
     },
     "metadata": {},
     "output_type": "display_data"
    },
    {
     "data": {
      "text/plain": [
       "1"
      ]
     },
     "metadata": {},
     "output_type": "display_data"
    },
    {
     "data": {
      "text/latex": [
       "$\\displaystyle \\left[\\begin{matrix}\\sqrt{3} \\left\\langle {\\zeta}{\\nu} \\right. {\\left|{\\gamma}{\\nu}\\right\\rangle } + \\left\\langle {\\zeta}{\\nu} \\right. {\\left|{\\zeta}{\\nu}\\right\\rangle } - \\left\\langle {\\zeta}{\\zeta} \\right. {\\left|{\\mu}{\\mu}\\right\\rangle } & 0 & 0 & 0 & 0 & 0 & 0 & 0 & 0\\\\0 & \\sqrt{3} \\left\\langle {\\zeta}{\\nu} \\right. {\\left|{\\gamma}{\\nu}\\right\\rangle } + \\left\\langle {\\zeta}{\\nu} \\right. {\\left|{\\zeta}{\\nu}\\right\\rangle } - \\left\\langle {\\zeta}{\\zeta} \\right. {\\left|{\\mu}{\\mu}\\right\\rangle } & 0 & 0 & 0 & 0 & 0 & 0 & 0\\\\0 & 0 & \\sqrt{3} \\left\\langle {\\zeta}{\\nu} \\right. {\\left|{\\gamma}{\\nu}\\right\\rangle } + \\left\\langle {\\zeta}{\\nu} \\right. {\\left|{\\zeta}{\\nu}\\right\\rangle } - \\left\\langle {\\zeta}{\\zeta} \\right. {\\left|{\\mu}{\\mu}\\right\\rangle } & 0 & 0 & 0 & 0 & 0 & 0\\\\0 & 0 & 0 & \\sqrt{3} \\left\\langle {\\zeta}{\\nu} \\right. {\\left|{\\gamma}{\\nu}\\right\\rangle } + \\left\\langle {\\zeta}{\\nu} \\right. {\\left|{\\zeta}{\\nu}\\right\\rangle } - \\left\\langle {\\zeta}{\\zeta} \\right. {\\left|{\\mu}{\\mu}\\right\\rangle } & 0 & 0 & 0 & 0 & 0\\\\0 & 0 & 0 & 0 & \\sqrt{3} \\left\\langle {\\zeta}{\\nu} \\right. {\\left|{\\gamma}{\\nu}\\right\\rangle } + \\left\\langle {\\zeta}{\\nu} \\right. {\\left|{\\zeta}{\\nu}\\right\\rangle } - \\left\\langle {\\zeta}{\\zeta} \\right. {\\left|{\\mu}{\\mu}\\right\\rangle } & 0 & 0 & 0 & 0\\\\0 & 0 & 0 & 0 & 0 & \\sqrt{3} \\left\\langle {\\zeta}{\\nu} \\right. {\\left|{\\gamma}{\\nu}\\right\\rangle } + \\left\\langle {\\zeta}{\\nu} \\right. {\\left|{\\zeta}{\\nu}\\right\\rangle } - \\left\\langle {\\zeta}{\\zeta} \\right. {\\left|{\\mu}{\\mu}\\right\\rangle } & 0 & 0 & 0\\\\0 & 0 & 0 & 0 & 0 & 0 & \\sqrt{3} \\left\\langle {\\zeta}{\\nu} \\right. {\\left|{\\gamma}{\\nu}\\right\\rangle } + \\left\\langle {\\zeta}{\\nu} \\right. {\\left|{\\zeta}{\\nu}\\right\\rangle } - \\left\\langle {\\zeta}{\\zeta} \\right. {\\left|{\\mu}{\\mu}\\right\\rangle } & 0 & 0\\\\0 & 0 & 0 & 0 & 0 & 0 & 0 & \\sqrt{3} \\left\\langle {\\zeta}{\\nu} \\right. {\\left|{\\gamma}{\\nu}\\right\\rangle } + \\left\\langle {\\zeta}{\\nu} \\right. {\\left|{\\zeta}{\\nu}\\right\\rangle } - \\left\\langle {\\zeta}{\\zeta} \\right. {\\left|{\\mu}{\\mu}\\right\\rangle } & 0\\\\0 & 0 & 0 & 0 & 0 & 0 & 0 & 0 & \\sqrt{3} \\left\\langle {\\zeta}{\\nu} \\right. {\\left|{\\gamma}{\\nu}\\right\\rangle } + \\left\\langle {\\zeta}{\\nu} \\right. {\\left|{\\zeta}{\\nu}\\right\\rangle } - \\left\\langle {\\zeta}{\\zeta} \\right. {\\left|{\\mu}{\\mu}\\right\\rangle }\\end{matrix}\\right]$"
      ],
      "text/plain": [
       "Matrix([\n",
       "[sqrt(3)*<{\\zeta}{\\nu}|{\\gamma}{\\nu}> + <{\\zeta}{\\nu}|{\\zeta}{\\nu}> - <{\\zeta}{\\zeta}|{\\mu}{\\mu}>,                                                                                                0,                                                                                                0,                                                                                                0,                                                                                                0,                                                                                                0,                                                                                                0,                                                                                                0,                                                                                                0],\n",
       "[                                                                                               0, sqrt(3)*<{\\zeta}{\\nu}|{\\gamma}{\\nu}> + <{\\zeta}{\\nu}|{\\zeta}{\\nu}> - <{\\zeta}{\\zeta}|{\\mu}{\\mu}>,                                                                                                0,                                                                                                0,                                                                                                0,                                                                                                0,                                                                                                0,                                                                                                0,                                                                                                0],\n",
       "[                                                                                               0,                                                                                                0, sqrt(3)*<{\\zeta}{\\nu}|{\\gamma}{\\nu}> + <{\\zeta}{\\nu}|{\\zeta}{\\nu}> - <{\\zeta}{\\zeta}|{\\mu}{\\mu}>,                                                                                                0,                                                                                                0,                                                                                                0,                                                                                                0,                                                                                                0,                                                                                                0],\n",
       "[                                                                                               0,                                                                                                0,                                                                                                0, sqrt(3)*<{\\zeta}{\\nu}|{\\gamma}{\\nu}> + <{\\zeta}{\\nu}|{\\zeta}{\\nu}> - <{\\zeta}{\\zeta}|{\\mu}{\\mu}>,                                                                                                0,                                                                                                0,                                                                                                0,                                                                                                0,                                                                                                0],\n",
       "[                                                                                               0,                                                                                                0,                                                                                                0,                                                                                                0, sqrt(3)*<{\\zeta}{\\nu}|{\\gamma}{\\nu}> + <{\\zeta}{\\nu}|{\\zeta}{\\nu}> - <{\\zeta}{\\zeta}|{\\mu}{\\mu}>,                                                                                                0,                                                                                                0,                                                                                                0,                                                                                                0],\n",
       "[                                                                                               0,                                                                                                0,                                                                                                0,                                                                                                0,                                                                                                0, sqrt(3)*<{\\zeta}{\\nu}|{\\gamma}{\\nu}> + <{\\zeta}{\\nu}|{\\zeta}{\\nu}> - <{\\zeta}{\\zeta}|{\\mu}{\\mu}>,                                                                                                0,                                                                                                0,                                                                                                0],\n",
       "[                                                                                               0,                                                                                                0,                                                                                                0,                                                                                                0,                                                                                                0,                                                                                                0, sqrt(3)*<{\\zeta}{\\nu}|{\\gamma}{\\nu}> + <{\\zeta}{\\nu}|{\\zeta}{\\nu}> - <{\\zeta}{\\zeta}|{\\mu}{\\mu}>,                                                                                                0,                                                                                                0],\n",
       "[                                                                                               0,                                                                                                0,                                                                                                0,                                                                                                0,                                                                                                0,                                                                                                0,                                                                                                0, sqrt(3)*<{\\zeta}{\\nu}|{\\gamma}{\\nu}> + <{\\zeta}{\\nu}|{\\zeta}{\\nu}> - <{\\zeta}{\\zeta}|{\\mu}{\\mu}>,                                                                                                0],\n",
       "[                                                                                               0,                                                                                                0,                                                                                                0,                                                                                                0,                                                                                                0,                                                                                                0,                                                                                                0,                                                                                                0, sqrt(3)*<{\\zeta}{\\nu}|{\\gamma}{\\nu}> + <{\\zeta}{\\nu}|{\\zeta}{\\nu}> - <{\\zeta}{\\zeta}|{\\mu}{\\mu}>]])"
      ]
     },
     "metadata": {},
     "output_type": "display_data"
    },
    {
     "data": {
      "text/plain": [
       "(0, T_2)"
      ]
     },
     "metadata": {},
     "output_type": "display_data"
    },
    {
     "data": {
      "text/plain": [
       "1"
      ]
     },
     "metadata": {},
     "output_type": "display_data"
    },
    {
     "data": {
      "text/latex": [
       "$\\displaystyle \\left[\\begin{matrix}\\sqrt{3} \\left\\langle {\\zeta}{\\nu} \\right. {\\left|{\\gamma}{\\nu}\\right\\rangle } + \\left\\langle {\\zeta}{\\nu} \\right. {\\left|{\\zeta}{\\nu}\\right\\rangle } + \\left\\langle {\\zeta}{\\zeta} \\right. {\\left|{\\mu}{\\mu}\\right\\rangle } & 0 & 0\\\\0 & \\sqrt{3} \\left\\langle {\\zeta}{\\nu} \\right. {\\left|{\\gamma}{\\nu}\\right\\rangle } + \\left\\langle {\\zeta}{\\nu} \\right. {\\left|{\\zeta}{\\nu}\\right\\rangle } + \\left\\langle {\\zeta}{\\zeta} \\right. {\\left|{\\mu}{\\mu}\\right\\rangle } & 0\\\\0 & 0 & \\sqrt{3} \\left\\langle {\\zeta}{\\nu} \\right. {\\left|{\\gamma}{\\nu}\\right\\rangle } + \\left\\langle {\\zeta}{\\nu} \\right. {\\left|{\\zeta}{\\nu}\\right\\rangle } + \\left\\langle {\\zeta}{\\zeta} \\right. {\\left|{\\mu}{\\mu}\\right\\rangle }\\end{matrix}\\right]$"
      ],
      "text/plain": [
       "Matrix([\n",
       "[sqrt(3)*<{\\zeta}{\\nu}|{\\gamma}{\\nu}> + <{\\zeta}{\\nu}|{\\zeta}{\\nu}> + <{\\zeta}{\\zeta}|{\\mu}{\\mu}>,                                                                                                0,                                                                                                0],\n",
       "[                                                                                               0, sqrt(3)*<{\\zeta}{\\nu}|{\\gamma}{\\nu}> + <{\\zeta}{\\nu}|{\\zeta}{\\nu}> + <{\\zeta}{\\zeta}|{\\mu}{\\mu}>,                                                                                                0],\n",
       "[                                                                                               0,                                                                                                0, sqrt(3)*<{\\zeta}{\\nu}|{\\gamma}{\\nu}> + <{\\zeta}{\\nu}|{\\zeta}{\\nu}> + <{\\zeta}{\\zeta}|{\\mu}{\\mu}>]])"
      ]
     },
     "metadata": {},
     "output_type": "display_data"
    },
    {
     "name": "stdout",
     "output_type": "stream",
     "text": [
      "----------\n"
     ]
    },
    {
     "data": {
      "text/latex": [
       "$\\displaystyle e t_{2}$"
      ],
      "text/plain": [
       "e*t_{2}"
      ]
     },
     "metadata": {},
     "output_type": "display_data"
    },
    {
     "data": {
      "text/plain": [
       "(1, T_1)"
      ]
     },
     "metadata": {},
     "output_type": "display_data"
    },
    {
     "data": {
      "text/plain": [
       "1"
      ]
     },
     "metadata": {},
     "output_type": "display_data"
    },
    {
     "data": {
      "text/latex": [
       "$\\displaystyle \\left[\\begin{matrix}\\left\\langle {\\zeta}{\\xi} \\right. {\\left|{\\zeta}{\\xi}\\right\\rangle } - \\left\\langle {\\zeta}{\\zeta} \\right. {\\left|{\\xi}{\\xi}\\right\\rangle } & 0 & 0 & 0 & 0 & 0 & 0 & 0 & 0\\\\0 & \\left\\langle {\\zeta}{\\xi} \\right. {\\left|{\\zeta}{\\xi}\\right\\rangle } - \\left\\langle {\\zeta}{\\zeta} \\right. {\\left|{\\xi}{\\xi}\\right\\rangle } & 0 & 0 & 0 & 0 & 0 & 0 & 0\\\\0 & 0 & \\left\\langle {\\zeta}{\\xi} \\right. {\\left|{\\zeta}{\\xi}\\right\\rangle } - \\left\\langle {\\zeta}{\\zeta} \\right. {\\left|{\\xi}{\\xi}\\right\\rangle } & 0 & 0 & 0 & 0 & 0 & 0\\\\0 & 0 & 0 & \\left\\langle {\\zeta}{\\xi} \\right. {\\left|{\\zeta}{\\xi}\\right\\rangle } - \\left\\langle {\\zeta}{\\zeta} \\right. {\\left|{\\xi}{\\xi}\\right\\rangle } & 0 & 0 & 0 & 0 & 0\\\\0 & 0 & 0 & 0 & \\left\\langle {\\zeta}{\\xi} \\right. {\\left|{\\zeta}{\\xi}\\right\\rangle } - \\left\\langle {\\zeta}{\\zeta} \\right. {\\left|{\\xi}{\\xi}\\right\\rangle } & 0 & 0 & 0 & 0\\\\0 & 0 & 0 & 0 & 0 & \\left\\langle {\\zeta}{\\xi} \\right. {\\left|{\\zeta}{\\xi}\\right\\rangle } - \\left\\langle {\\zeta}{\\zeta} \\right. {\\left|{\\xi}{\\xi}\\right\\rangle } & 0 & 0 & 0\\\\0 & 0 & 0 & 0 & 0 & 0 & \\left\\langle {\\zeta}{\\xi} \\right. {\\left|{\\zeta}{\\xi}\\right\\rangle } - \\left\\langle {\\zeta}{\\zeta} \\right. {\\left|{\\xi}{\\xi}\\right\\rangle } & 0 & 0\\\\0 & 0 & 0 & 0 & 0 & 0 & 0 & \\left\\langle {\\zeta}{\\xi} \\right. {\\left|{\\zeta}{\\xi}\\right\\rangle } - \\left\\langle {\\zeta}{\\zeta} \\right. {\\left|{\\xi}{\\xi}\\right\\rangle } & 0\\\\0 & 0 & 0 & 0 & 0 & 0 & 0 & 0 & \\left\\langle {\\zeta}{\\xi} \\right. {\\left|{\\zeta}{\\xi}\\right\\rangle } - \\left\\langle {\\zeta}{\\zeta} \\right. {\\left|{\\xi}{\\xi}\\right\\rangle }\\end{matrix}\\right]$"
      ],
      "text/plain": [
       "Matrix([\n",
       "[<{\\zeta}{\\xi}|{\\zeta}{\\xi}> - <{\\zeta}{\\zeta}|{\\xi}{\\xi}>,                                                         0,                                                         0,                                                         0,                                                         0,                                                         0,                                                         0,                                                         0,                                                         0],\n",
       "[                                                        0, <{\\zeta}{\\xi}|{\\zeta}{\\xi}> - <{\\zeta}{\\zeta}|{\\xi}{\\xi}>,                                                         0,                                                         0,                                                         0,                                                         0,                                                         0,                                                         0,                                                         0],\n",
       "[                                                        0,                                                         0, <{\\zeta}{\\xi}|{\\zeta}{\\xi}> - <{\\zeta}{\\zeta}|{\\xi}{\\xi}>,                                                         0,                                                         0,                                                         0,                                                         0,                                                         0,                                                         0],\n",
       "[                                                        0,                                                         0,                                                         0, <{\\zeta}{\\xi}|{\\zeta}{\\xi}> - <{\\zeta}{\\zeta}|{\\xi}{\\xi}>,                                                         0,                                                         0,                                                         0,                                                         0,                                                         0],\n",
       "[                                                        0,                                                         0,                                                         0,                                                         0, <{\\zeta}{\\xi}|{\\zeta}{\\xi}> - <{\\zeta}{\\zeta}|{\\xi}{\\xi}>,                                                         0,                                                         0,                                                         0,                                                         0],\n",
       "[                                                        0,                                                         0,                                                         0,                                                         0,                                                         0, <{\\zeta}{\\xi}|{\\zeta}{\\xi}> - <{\\zeta}{\\zeta}|{\\xi}{\\xi}>,                                                         0,                                                         0,                                                         0],\n",
       "[                                                        0,                                                         0,                                                         0,                                                         0,                                                         0,                                                         0, <{\\zeta}{\\xi}|{\\zeta}{\\xi}> - <{\\zeta}{\\zeta}|{\\xi}{\\xi}>,                                                         0,                                                         0],\n",
       "[                                                        0,                                                         0,                                                         0,                                                         0,                                                         0,                                                         0,                                                         0, <{\\zeta}{\\xi}|{\\zeta}{\\xi}> - <{\\zeta}{\\zeta}|{\\xi}{\\xi}>,                                                         0],\n",
       "[                                                        0,                                                         0,                                                         0,                                                         0,                                                         0,                                                         0,                                                         0,                                                         0, <{\\zeta}{\\xi}|{\\zeta}{\\xi}> - <{\\zeta}{\\zeta}|{\\xi}{\\xi}>]])"
      ]
     },
     "metadata": {},
     "output_type": "display_data"
    },
    {
     "data": {
      "text/plain": [
       "(0, T_1)"
      ]
     },
     "metadata": {},
     "output_type": "display_data"
    },
    {
     "data": {
      "text/plain": [
       "1"
      ]
     },
     "metadata": {},
     "output_type": "display_data"
    },
    {
     "data": {
      "text/latex": [
       "$\\displaystyle \\left[\\begin{matrix}\\left\\langle {\\zeta}{\\xi} \\right. {\\left|{\\zeta}{\\xi}\\right\\rangle } + \\left\\langle {\\zeta}{\\zeta} \\right. {\\left|{\\xi}{\\xi}\\right\\rangle } & 0 & 0\\\\0 & \\left\\langle {\\zeta}{\\xi} \\right. {\\left|{\\zeta}{\\xi}\\right\\rangle } + \\left\\langle {\\zeta}{\\zeta} \\right. {\\left|{\\xi}{\\xi}\\right\\rangle } & 0\\\\0 & 0 & \\left\\langle {\\zeta}{\\xi} \\right. {\\left|{\\zeta}{\\xi}\\right\\rangle } + \\left\\langle {\\zeta}{\\zeta} \\right. {\\left|{\\xi}{\\xi}\\right\\rangle }\\end{matrix}\\right]$"
      ],
      "text/plain": [
       "Matrix([\n",
       "[<{\\zeta}{\\xi}|{\\zeta}{\\xi}> + <{\\zeta}{\\zeta}|{\\xi}{\\xi}>,                                                         0,                                                         0],\n",
       "[                                                        0, <{\\zeta}{\\xi}|{\\zeta}{\\xi}> + <{\\zeta}{\\zeta}|{\\xi}{\\xi}>,                                                         0],\n",
       "[                                                        0,                                                         0, <{\\zeta}{\\xi}|{\\zeta}{\\xi}> + <{\\zeta}{\\zeta}|{\\xi}{\\xi}>]])"
      ]
     },
     "metadata": {},
     "output_type": "display_data"
    },
    {
     "data": {
      "text/plain": [
       "(1, T_2)"
      ]
     },
     "metadata": {},
     "output_type": "display_data"
    },
    {
     "data": {
      "text/plain": [
       "1"
      ]
     },
     "metadata": {},
     "output_type": "display_data"
    },
    {
     "data": {
      "text/latex": [
       "$\\displaystyle \\left[\\begin{matrix}\\frac{4 \\left\\langle {\\zeta}{\\phi} \\right. {\\left|{\\zeta}{\\phi}\\right\\rangle }}{3} - \\frac{\\left\\langle {\\zeta}{\\xi} \\right. {\\left|{\\zeta}{\\xi}\\right\\rangle }}{3} - \\frac{4 \\left\\langle {\\zeta}{\\zeta} \\right. {\\left|{\\phi}{\\phi}\\right\\rangle }}{3} + \\frac{\\left\\langle {\\zeta}{\\zeta} \\right. {\\left|{\\xi}{\\xi}\\right\\rangle }}{3} & 0 & 0 & 0 & 0 & 0 & 0 & 0 & 0\\\\0 & \\frac{4 \\left\\langle {\\zeta}{\\phi} \\right. {\\left|{\\zeta}{\\phi}\\right\\rangle }}{3} - \\frac{\\left\\langle {\\zeta}{\\xi} \\right. {\\left|{\\zeta}{\\xi}\\right\\rangle }}{3} - \\frac{4 \\left\\langle {\\zeta}{\\zeta} \\right. {\\left|{\\phi}{\\phi}\\right\\rangle }}{3} + \\frac{\\left\\langle {\\zeta}{\\zeta} \\right. {\\left|{\\xi}{\\xi}\\right\\rangle }}{3} & 0 & 0 & 0 & 0 & 0 & 0 & 0\\\\0 & 0 & \\frac{4 \\left\\langle {\\zeta}{\\phi} \\right. {\\left|{\\zeta}{\\phi}\\right\\rangle }}{3} - \\frac{\\left\\langle {\\zeta}{\\xi} \\right. {\\left|{\\zeta}{\\xi}\\right\\rangle }}{3} - \\frac{4 \\left\\langle {\\zeta}{\\zeta} \\right. {\\left|{\\phi}{\\phi}\\right\\rangle }}{3} + \\frac{\\left\\langle {\\zeta}{\\zeta} \\right. {\\left|{\\xi}{\\xi}\\right\\rangle }}{3} & 0 & 0 & 0 & 0 & 0 & 0\\\\0 & 0 & 0 & \\frac{4 \\left\\langle {\\zeta}{\\phi} \\right. {\\left|{\\zeta}{\\phi}\\right\\rangle }}{3} - \\frac{\\left\\langle {\\zeta}{\\xi} \\right. {\\left|{\\zeta}{\\xi}\\right\\rangle }}{3} - \\frac{4 \\left\\langle {\\zeta}{\\zeta} \\right. {\\left|{\\phi}{\\phi}\\right\\rangle }}{3} + \\frac{\\left\\langle {\\zeta}{\\zeta} \\right. {\\left|{\\xi}{\\xi}\\right\\rangle }}{3} & 0 & 0 & 0 & 0 & 0\\\\0 & 0 & 0 & 0 & \\frac{4 \\left\\langle {\\zeta}{\\phi} \\right. {\\left|{\\zeta}{\\phi}\\right\\rangle }}{3} - \\frac{\\left\\langle {\\zeta}{\\xi} \\right. {\\left|{\\zeta}{\\xi}\\right\\rangle }}{3} - \\frac{4 \\left\\langle {\\zeta}{\\zeta} \\right. {\\left|{\\phi}{\\phi}\\right\\rangle }}{3} + \\frac{\\left\\langle {\\zeta}{\\zeta} \\right. {\\left|{\\xi}{\\xi}\\right\\rangle }}{3} & 0 & 0 & 0 & 0\\\\0 & 0 & 0 & 0 & 0 & \\frac{4 \\left\\langle {\\zeta}{\\phi} \\right. {\\left|{\\zeta}{\\phi}\\right\\rangle }}{3} - \\frac{\\left\\langle {\\zeta}{\\xi} \\right. {\\left|{\\zeta}{\\xi}\\right\\rangle }}{3} - \\frac{4 \\left\\langle {\\zeta}{\\zeta} \\right. {\\left|{\\phi}{\\phi}\\right\\rangle }}{3} + \\frac{\\left\\langle {\\zeta}{\\zeta} \\right. {\\left|{\\xi}{\\xi}\\right\\rangle }}{3} & 0 & 0 & 0\\\\0 & 0 & 0 & 0 & 0 & 0 & \\frac{4 \\left\\langle {\\zeta}{\\phi} \\right. {\\left|{\\zeta}{\\phi}\\right\\rangle }}{3} - \\frac{\\left\\langle {\\zeta}{\\xi} \\right. {\\left|{\\zeta}{\\xi}\\right\\rangle }}{3} - \\frac{4 \\left\\langle {\\zeta}{\\zeta} \\right. {\\left|{\\phi}{\\phi}\\right\\rangle }}{3} + \\frac{\\left\\langle {\\zeta}{\\zeta} \\right. {\\left|{\\xi}{\\xi}\\right\\rangle }}{3} & 0 & 0\\\\0 & 0 & 0 & 0 & 0 & 0 & 0 & \\frac{4 \\left\\langle {\\zeta}{\\phi} \\right. {\\left|{\\zeta}{\\phi}\\right\\rangle }}{3} - \\frac{\\left\\langle {\\zeta}{\\xi} \\right. {\\left|{\\zeta}{\\xi}\\right\\rangle }}{3} - \\frac{4 \\left\\langle {\\zeta}{\\zeta} \\right. {\\left|{\\phi}{\\phi}\\right\\rangle }}{3} + \\frac{\\left\\langle {\\zeta}{\\zeta} \\right. {\\left|{\\xi}{\\xi}\\right\\rangle }}{3} & 0\\\\0 & 0 & 0 & 0 & 0 & 0 & 0 & 0 & \\frac{4 \\left\\langle {\\zeta}{\\phi} \\right. {\\left|{\\zeta}{\\phi}\\right\\rangle }}{3} - \\frac{\\left\\langle {\\zeta}{\\xi} \\right. {\\left|{\\zeta}{\\xi}\\right\\rangle }}{3} - \\frac{4 \\left\\langle {\\zeta}{\\zeta} \\right. {\\left|{\\phi}{\\phi}\\right\\rangle }}{3} + \\frac{\\left\\langle {\\zeta}{\\zeta} \\right. {\\left|{\\xi}{\\xi}\\right\\rangle }}{3}\\end{matrix}\\right]$"
      ],
      "text/plain": [
       "Matrix([\n",
       "[4*<{\\zeta}{\\phi}|{\\zeta}{\\phi}>/3 - <{\\zeta}{\\xi}|{\\zeta}{\\xi}>/3 - 4*<{\\zeta}{\\zeta}|{\\phi}{\\phi}>/3 + <{\\zeta}{\\zeta}|{\\xi}{\\xi}>/3,                                                                                                                                     0,                                                                                                                                     0,                                                                                                                                     0,                                                                                                                                     0,                                                                                                                                     0,                                                                                                                                     0,                                                                                                                                     0,                                                                                                                                     0],\n",
       "[                                                                                                                                    0, 4*<{\\zeta}{\\phi}|{\\zeta}{\\phi}>/3 - <{\\zeta}{\\xi}|{\\zeta}{\\xi}>/3 - 4*<{\\zeta}{\\zeta}|{\\phi}{\\phi}>/3 + <{\\zeta}{\\zeta}|{\\xi}{\\xi}>/3,                                                                                                                                     0,                                                                                                                                     0,                                                                                                                                     0,                                                                                                                                     0,                                                                                                                                     0,                                                                                                                                     0,                                                                                                                                     0],\n",
       "[                                                                                                                                    0,                                                                                                                                     0, 4*<{\\zeta}{\\phi}|{\\zeta}{\\phi}>/3 - <{\\zeta}{\\xi}|{\\zeta}{\\xi}>/3 - 4*<{\\zeta}{\\zeta}|{\\phi}{\\phi}>/3 + <{\\zeta}{\\zeta}|{\\xi}{\\xi}>/3,                                                                                                                                     0,                                                                                                                                     0,                                                                                                                                     0,                                                                                                                                     0,                                                                                                                                     0,                                                                                                                                     0],\n",
       "[                                                                                                                                    0,                                                                                                                                     0,                                                                                                                                     0, 4*<{\\zeta}{\\phi}|{\\zeta}{\\phi}>/3 - <{\\zeta}{\\xi}|{\\zeta}{\\xi}>/3 - 4*<{\\zeta}{\\zeta}|{\\phi}{\\phi}>/3 + <{\\zeta}{\\zeta}|{\\xi}{\\xi}>/3,                                                                                                                                     0,                                                                                                                                     0,                                                                                                                                     0,                                                                                                                                     0,                                                                                                                                     0],\n",
       "[                                                                                                                                    0,                                                                                                                                     0,                                                                                                                                     0,                                                                                                                                     0, 4*<{\\zeta}{\\phi}|{\\zeta}{\\phi}>/3 - <{\\zeta}{\\xi}|{\\zeta}{\\xi}>/3 - 4*<{\\zeta}{\\zeta}|{\\phi}{\\phi}>/3 + <{\\zeta}{\\zeta}|{\\xi}{\\xi}>/3,                                                                                                                                     0,                                                                                                                                     0,                                                                                                                                     0,                                                                                                                                     0],\n",
       "[                                                                                                                                    0,                                                                                                                                     0,                                                                                                                                     0,                                                                                                                                     0,                                                                                                                                     0, 4*<{\\zeta}{\\phi}|{\\zeta}{\\phi}>/3 - <{\\zeta}{\\xi}|{\\zeta}{\\xi}>/3 - 4*<{\\zeta}{\\zeta}|{\\phi}{\\phi}>/3 + <{\\zeta}{\\zeta}|{\\xi}{\\xi}>/3,                                                                                                                                     0,                                                                                                                                     0,                                                                                                                                     0],\n",
       "[                                                                                                                                    0,                                                                                                                                     0,                                                                                                                                     0,                                                                                                                                     0,                                                                                                                                     0,                                                                                                                                     0, 4*<{\\zeta}{\\phi}|{\\zeta}{\\phi}>/3 - <{\\zeta}{\\xi}|{\\zeta}{\\xi}>/3 - 4*<{\\zeta}{\\zeta}|{\\phi}{\\phi}>/3 + <{\\zeta}{\\zeta}|{\\xi}{\\xi}>/3,                                                                                                                                     0,                                                                                                                                     0],\n",
       "[                                                                                                                                    0,                                                                                                                                     0,                                                                                                                                     0,                                                                                                                                     0,                                                                                                                                     0,                                                                                                                                     0,                                                                                                                                     0, 4*<{\\zeta}{\\phi}|{\\zeta}{\\phi}>/3 - <{\\zeta}{\\xi}|{\\zeta}{\\xi}>/3 - 4*<{\\zeta}{\\zeta}|{\\phi}{\\phi}>/3 + <{\\zeta}{\\zeta}|{\\xi}{\\xi}>/3,                                                                                                                                     0],\n",
       "[                                                                                                                                    0,                                                                                                                                     0,                                                                                                                                     0,                                                                                                                                     0,                                                                                                                                     0,                                                                                                                                     0,                                                                                                                                     0,                                                                                                                                     0, 4*<{\\zeta}{\\phi}|{\\zeta}{\\phi}>/3 - <{\\zeta}{\\xi}|{\\zeta}{\\xi}>/3 - 4*<{\\zeta}{\\zeta}|{\\phi}{\\phi}>/3 + <{\\zeta}{\\zeta}|{\\xi}{\\xi}>/3]])"
      ]
     },
     "metadata": {},
     "output_type": "display_data"
    },
    {
     "data": {
      "text/plain": [
       "(0, T_2)"
      ]
     },
     "metadata": {},
     "output_type": "display_data"
    },
    {
     "data": {
      "text/plain": [
       "1"
      ]
     },
     "metadata": {},
     "output_type": "display_data"
    },
    {
     "data": {
      "text/latex": [
       "$\\displaystyle \\left[\\begin{matrix}\\frac{4 \\left\\langle {\\zeta}{\\phi} \\right. {\\left|{\\zeta}{\\phi}\\right\\rangle }}{3} - \\frac{\\left\\langle {\\zeta}{\\xi} \\right. {\\left|{\\zeta}{\\xi}\\right\\rangle }}{3} + \\frac{4 \\left\\langle {\\zeta}{\\zeta} \\right. {\\left|{\\phi}{\\phi}\\right\\rangle }}{3} - \\frac{\\left\\langle {\\zeta}{\\zeta} \\right. {\\left|{\\xi}{\\xi}\\right\\rangle }}{3} & 0 & 0\\\\0 & \\frac{4 \\left\\langle {\\zeta}{\\phi} \\right. {\\left|{\\zeta}{\\phi}\\right\\rangle }}{3} - \\frac{\\left\\langle {\\zeta}{\\xi} \\right. {\\left|{\\zeta}{\\xi}\\right\\rangle }}{3} + \\frac{4 \\left\\langle {\\zeta}{\\zeta} \\right. {\\left|{\\phi}{\\phi}\\right\\rangle }}{3} - \\frac{\\left\\langle {\\zeta}{\\zeta} \\right. {\\left|{\\xi}{\\xi}\\right\\rangle }}{3} & 0\\\\0 & 0 & \\frac{4 \\left\\langle {\\zeta}{\\phi} \\right. {\\left|{\\zeta}{\\phi}\\right\\rangle }}{3} - \\frac{\\left\\langle {\\zeta}{\\xi} \\right. {\\left|{\\zeta}{\\xi}\\right\\rangle }}{3} + \\frac{4 \\left\\langle {\\zeta}{\\zeta} \\right. {\\left|{\\phi}{\\phi}\\right\\rangle }}{3} - \\frac{\\left\\langle {\\zeta}{\\zeta} \\right. {\\left|{\\xi}{\\xi}\\right\\rangle }}{3}\\end{matrix}\\right]$"
      ],
      "text/plain": [
       "Matrix([\n",
       "[4*<{\\zeta}{\\phi}|{\\zeta}{\\phi}>/3 - <{\\zeta}{\\xi}|{\\zeta}{\\xi}>/3 + 4*<{\\zeta}{\\zeta}|{\\phi}{\\phi}>/3 - <{\\zeta}{\\zeta}|{\\xi}{\\xi}>/3,                                                                                                                                     0,                                                                                                                                     0],\n",
       "[                                                                                                                                    0, 4*<{\\zeta}{\\phi}|{\\zeta}{\\phi}>/3 - <{\\zeta}{\\xi}|{\\zeta}{\\xi}>/3 + 4*<{\\zeta}{\\zeta}|{\\phi}{\\phi}>/3 - <{\\zeta}{\\zeta}|{\\xi}{\\xi}>/3,                                                                                                                                     0],\n",
       "[                                                                                                                                    0,                                                                                                                                     0, 4*<{\\zeta}{\\phi}|{\\zeta}{\\phi}>/3 - <{\\zeta}{\\xi}|{\\zeta}{\\xi}>/3 + 4*<{\\zeta}{\\zeta}|{\\phi}{\\phi}>/3 - <{\\zeta}{\\zeta}|{\\xi}{\\xi}>/3]])"
      ]
     },
     "metadata": {},
     "output_type": "display_data"
    },
    {
     "name": "stdout",
     "output_type": "stream",
     "text": [
      "----------\n"
     ]
    },
    {
     "data": {
      "text/latex": [
       "$\\displaystyle a_{1} t_{2}$"
      ],
      "text/plain": [
       "a_{1}*t_{2}"
      ]
     },
     "metadata": {},
     "output_type": "display_data"
    },
    {
     "data": {
      "text/plain": [
       "(1, T_2)"
      ]
     },
     "metadata": {},
     "output_type": "display_data"
    },
    {
     "data": {
      "text/plain": [
       "1"
      ]
     },
     "metadata": {},
     "output_type": "display_data"
    },
    {
     "data": {
      "text/latex": [
       "$\\displaystyle \\left[\\begin{matrix}- \\left\\langle {\\alpha}{\\alpha} \\right. {\\left|{\\xi}{\\xi}\\right\\rangle } + \\left\\langle {\\alpha}{\\xi} \\right. {\\left|{\\alpha}{\\xi}\\right\\rangle } & 0 & 0 & 0 & 0 & 0 & 0 & 0 & 0\\\\0 & - \\left\\langle {\\alpha}{\\alpha} \\right. {\\left|{\\xi}{\\xi}\\right\\rangle } + \\left\\langle {\\alpha}{\\xi} \\right. {\\left|{\\alpha}{\\xi}\\right\\rangle } & 0 & 0 & 0 & 0 & 0 & 0 & 0\\\\0 & 0 & - \\left\\langle {\\alpha}{\\alpha} \\right. {\\left|{\\xi}{\\xi}\\right\\rangle } + \\left\\langle {\\alpha}{\\xi} \\right. {\\left|{\\alpha}{\\xi}\\right\\rangle } & 0 & 0 & 0 & 0 & 0 & 0\\\\0 & 0 & 0 & - \\left\\langle {\\alpha}{\\alpha} \\right. {\\left|{\\xi}{\\xi}\\right\\rangle } + \\left\\langle {\\alpha}{\\xi} \\right. {\\left|{\\alpha}{\\xi}\\right\\rangle } & 0 & 0 & 0 & 0 & 0\\\\0 & 0 & 0 & 0 & - \\left\\langle {\\alpha}{\\alpha} \\right. {\\left|{\\xi}{\\xi}\\right\\rangle } + \\left\\langle {\\alpha}{\\xi} \\right. {\\left|{\\alpha}{\\xi}\\right\\rangle } & 0 & 0 & 0 & 0\\\\0 & 0 & 0 & 0 & 0 & - \\left\\langle {\\alpha}{\\alpha} \\right. {\\left|{\\xi}{\\xi}\\right\\rangle } + \\left\\langle {\\alpha}{\\xi} \\right. {\\left|{\\alpha}{\\xi}\\right\\rangle } & 0 & 0 & 0\\\\0 & 0 & 0 & 0 & 0 & 0 & - \\left\\langle {\\alpha}{\\alpha} \\right. {\\left|{\\xi}{\\xi}\\right\\rangle } + \\left\\langle {\\alpha}{\\xi} \\right. {\\left|{\\alpha}{\\xi}\\right\\rangle } & 0 & 0\\\\0 & 0 & 0 & 0 & 0 & 0 & 0 & - \\left\\langle {\\alpha}{\\alpha} \\right. {\\left|{\\xi}{\\xi}\\right\\rangle } + \\left\\langle {\\alpha}{\\xi} \\right. {\\left|{\\alpha}{\\xi}\\right\\rangle } & 0\\\\0 & 0 & 0 & 0 & 0 & 0 & 0 & 0 & - \\left\\langle {\\alpha}{\\alpha} \\right. {\\left|{\\xi}{\\xi}\\right\\rangle } + \\left\\langle {\\alpha}{\\xi} \\right. {\\left|{\\alpha}{\\xi}\\right\\rangle }\\end{matrix}\\right]$"
      ],
      "text/plain": [
       "Matrix([\n",
       "[-<{\\alpha}{\\alpha}|{\\xi}{\\xi}> + <{\\alpha}{\\xi}|{\\alpha}{\\xi}>,                                                              0,                                                              0,                                                              0,                                                              0,                                                              0,                                                              0,                                                              0,                                                              0],\n",
       "[                                                             0, -<{\\alpha}{\\alpha}|{\\xi}{\\xi}> + <{\\alpha}{\\xi}|{\\alpha}{\\xi}>,                                                              0,                                                              0,                                                              0,                                                              0,                                                              0,                                                              0,                                                              0],\n",
       "[                                                             0,                                                              0, -<{\\alpha}{\\alpha}|{\\xi}{\\xi}> + <{\\alpha}{\\xi}|{\\alpha}{\\xi}>,                                                              0,                                                              0,                                                              0,                                                              0,                                                              0,                                                              0],\n",
       "[                                                             0,                                                              0,                                                              0, -<{\\alpha}{\\alpha}|{\\xi}{\\xi}> + <{\\alpha}{\\xi}|{\\alpha}{\\xi}>,                                                              0,                                                              0,                                                              0,                                                              0,                                                              0],\n",
       "[                                                             0,                                                              0,                                                              0,                                                              0, -<{\\alpha}{\\alpha}|{\\xi}{\\xi}> + <{\\alpha}{\\xi}|{\\alpha}{\\xi}>,                                                              0,                                                              0,                                                              0,                                                              0],\n",
       "[                                                             0,                                                              0,                                                              0,                                                              0,                                                              0, -<{\\alpha}{\\alpha}|{\\xi}{\\xi}> + <{\\alpha}{\\xi}|{\\alpha}{\\xi}>,                                                              0,                                                              0,                                                              0],\n",
       "[                                                             0,                                                              0,                                                              0,                                                              0,                                                              0,                                                              0, -<{\\alpha}{\\alpha}|{\\xi}{\\xi}> + <{\\alpha}{\\xi}|{\\alpha}{\\xi}>,                                                              0,                                                              0],\n",
       "[                                                             0,                                                              0,                                                              0,                                                              0,                                                              0,                                                              0,                                                              0, -<{\\alpha}{\\alpha}|{\\xi}{\\xi}> + <{\\alpha}{\\xi}|{\\alpha}{\\xi}>,                                                              0],\n",
       "[                                                             0,                                                              0,                                                              0,                                                              0,                                                              0,                                                              0,                                                              0,                                                              0, -<{\\alpha}{\\alpha}|{\\xi}{\\xi}> + <{\\alpha}{\\xi}|{\\alpha}{\\xi}>]])"
      ]
     },
     "metadata": {},
     "output_type": "display_data"
    },
    {
     "data": {
      "text/plain": [
       "(0, T_2)"
      ]
     },
     "metadata": {},
     "output_type": "display_data"
    },
    {
     "data": {
      "text/plain": [
       "1"
      ]
     },
     "metadata": {},
     "output_type": "display_data"
    },
    {
     "data": {
      "text/latex": [
       "$\\displaystyle \\left[\\begin{matrix}\\left\\langle {\\alpha}{\\alpha} \\right. {\\left|{\\xi}{\\xi}\\right\\rangle } + \\left\\langle {\\alpha}{\\xi} \\right. {\\left|{\\alpha}{\\xi}\\right\\rangle } & 0 & 0\\\\0 & \\left\\langle {\\alpha}{\\alpha} \\right. {\\left|{\\xi}{\\xi}\\right\\rangle } + \\left\\langle {\\alpha}{\\xi} \\right. {\\left|{\\alpha}{\\xi}\\right\\rangle } & 0\\\\0 & 0 & \\left\\langle {\\alpha}{\\alpha} \\right. {\\left|{\\xi}{\\xi}\\right\\rangle } + \\left\\langle {\\alpha}{\\xi} \\right. {\\left|{\\alpha}{\\xi}\\right\\rangle }\\end{matrix}\\right]$"
      ],
      "text/plain": [
       "Matrix([\n",
       "[<{\\alpha}{\\alpha}|{\\xi}{\\xi}> + <{\\alpha}{\\xi}|{\\alpha}{\\xi}>,                                                             0,                                                             0],\n",
       "[                                                            0, <{\\alpha}{\\alpha}|{\\xi}{\\xi}> + <{\\alpha}{\\xi}|{\\alpha}{\\xi}>,                                                             0],\n",
       "[                                                            0,                                                             0, <{\\alpha}{\\alpha}|{\\xi}{\\xi}> + <{\\alpha}{\\xi}|{\\alpha}{\\xi}>]])"
      ]
     },
     "metadata": {},
     "output_type": "display_data"
    },
    {
     "name": "stdout",
     "output_type": "stream",
     "text": [
      "----------\n"
     ]
    },
    {
     "data": {
      "text/latex": [
       "$\\displaystyle a_{2} t_{1}$"
      ],
      "text/plain": [
       "a_{2}*t_{1}"
      ]
     },
     "metadata": {},
     "output_type": "display_data"
    },
    {
     "data": {
      "text/plain": [
       "(1, T_2)"
      ]
     },
     "metadata": {},
     "output_type": "display_data"
    },
    {
     "data": {
      "text/plain": [
       "1"
      ]
     },
     "metadata": {},
     "output_type": "display_data"
    },
    {
     "data": {
      "text/latex": [
       "$\\displaystyle \\left[\\begin{matrix}- \\left\\langle {\\beta}{\\beta} \\right. {\\left|{\\nu}{\\nu}\\right\\rangle } + \\left\\langle {\\beta}{\\nu} \\right. {\\left|{\\beta}{\\nu}\\right\\rangle } & 0 & 0 & 0 & 0 & 0 & 0 & 0 & 0\\\\0 & - \\left\\langle {\\beta}{\\beta} \\right. {\\left|{\\nu}{\\nu}\\right\\rangle } + \\left\\langle {\\beta}{\\nu} \\right. {\\left|{\\beta}{\\nu}\\right\\rangle } & 0 & 0 & 0 & 0 & 0 & 0 & 0\\\\0 & 0 & - \\left\\langle {\\beta}{\\beta} \\right. {\\left|{\\nu}{\\nu}\\right\\rangle } + \\left\\langle {\\beta}{\\nu} \\right. {\\left|{\\beta}{\\nu}\\right\\rangle } & 0 & 0 & 0 & 0 & 0 & 0\\\\0 & 0 & 0 & - \\left\\langle {\\beta}{\\beta} \\right. {\\left|{\\nu}{\\nu}\\right\\rangle } + \\left\\langle {\\beta}{\\nu} \\right. {\\left|{\\beta}{\\nu}\\right\\rangle } & 0 & 0 & 0 & 0 & 0\\\\0 & 0 & 0 & 0 & - \\left\\langle {\\beta}{\\beta} \\right. {\\left|{\\nu}{\\nu}\\right\\rangle } + \\left\\langle {\\beta}{\\nu} \\right. {\\left|{\\beta}{\\nu}\\right\\rangle } & 0 & 0 & 0 & 0\\\\0 & 0 & 0 & 0 & 0 & - \\left\\langle {\\beta}{\\beta} \\right. {\\left|{\\nu}{\\nu}\\right\\rangle } + \\left\\langle {\\beta}{\\nu} \\right. {\\left|{\\beta}{\\nu}\\right\\rangle } & 0 & 0 & 0\\\\0 & 0 & 0 & 0 & 0 & 0 & - \\left\\langle {\\beta}{\\beta} \\right. {\\left|{\\nu}{\\nu}\\right\\rangle } + \\left\\langle {\\beta}{\\nu} \\right. {\\left|{\\beta}{\\nu}\\right\\rangle } & 0 & 0\\\\0 & 0 & 0 & 0 & 0 & 0 & 0 & - \\left\\langle {\\beta}{\\beta} \\right. {\\left|{\\nu}{\\nu}\\right\\rangle } + \\left\\langle {\\beta}{\\nu} \\right. {\\left|{\\beta}{\\nu}\\right\\rangle } & 0\\\\0 & 0 & 0 & 0 & 0 & 0 & 0 & 0 & - \\left\\langle {\\beta}{\\beta} \\right. {\\left|{\\nu}{\\nu}\\right\\rangle } + \\left\\langle {\\beta}{\\nu} \\right. {\\left|{\\beta}{\\nu}\\right\\rangle }\\end{matrix}\\right]$"
      ],
      "text/plain": [
       "Matrix([\n",
       "[-<{\\beta}{\\beta}|{\\nu}{\\nu}> + <{\\beta}{\\nu}|{\\beta}{\\nu}>,                                                          0,                                                          0,                                                          0,                                                          0,                                                          0,                                                          0,                                                          0,                                                          0],\n",
       "[                                                         0, -<{\\beta}{\\beta}|{\\nu}{\\nu}> + <{\\beta}{\\nu}|{\\beta}{\\nu}>,                                                          0,                                                          0,                                                          0,                                                          0,                                                          0,                                                          0,                                                          0],\n",
       "[                                                         0,                                                          0, -<{\\beta}{\\beta}|{\\nu}{\\nu}> + <{\\beta}{\\nu}|{\\beta}{\\nu}>,                                                          0,                                                          0,                                                          0,                                                          0,                                                          0,                                                          0],\n",
       "[                                                         0,                                                          0,                                                          0, -<{\\beta}{\\beta}|{\\nu}{\\nu}> + <{\\beta}{\\nu}|{\\beta}{\\nu}>,                                                          0,                                                          0,                                                          0,                                                          0,                                                          0],\n",
       "[                                                         0,                                                          0,                                                          0,                                                          0, -<{\\beta}{\\beta}|{\\nu}{\\nu}> + <{\\beta}{\\nu}|{\\beta}{\\nu}>,                                                          0,                                                          0,                                                          0,                                                          0],\n",
       "[                                                         0,                                                          0,                                                          0,                                                          0,                                                          0, -<{\\beta}{\\beta}|{\\nu}{\\nu}> + <{\\beta}{\\nu}|{\\beta}{\\nu}>,                                                          0,                                                          0,                                                          0],\n",
       "[                                                         0,                                                          0,                                                          0,                                                          0,                                                          0,                                                          0, -<{\\beta}{\\beta}|{\\nu}{\\nu}> + <{\\beta}{\\nu}|{\\beta}{\\nu}>,                                                          0,                                                          0],\n",
       "[                                                         0,                                                          0,                                                          0,                                                          0,                                                          0,                                                          0,                                                          0, -<{\\beta}{\\beta}|{\\nu}{\\nu}> + <{\\beta}{\\nu}|{\\beta}{\\nu}>,                                                          0],\n",
       "[                                                         0,                                                          0,                                                          0,                                                          0,                                                          0,                                                          0,                                                          0,                                                          0, -<{\\beta}{\\beta}|{\\nu}{\\nu}> + <{\\beta}{\\nu}|{\\beta}{\\nu}>]])"
      ]
     },
     "metadata": {},
     "output_type": "display_data"
    },
    {
     "data": {
      "text/plain": [
       "(0, T_2)"
      ]
     },
     "metadata": {},
     "output_type": "display_data"
    },
    {
     "data": {
      "text/plain": [
       "1"
      ]
     },
     "metadata": {},
     "output_type": "display_data"
    },
    {
     "data": {
      "text/latex": [
       "$\\displaystyle \\left[\\begin{matrix}\\left\\langle {\\beta}{\\beta} \\right. {\\left|{\\nu}{\\nu}\\right\\rangle } + \\left\\langle {\\beta}{\\nu} \\right. {\\left|{\\beta}{\\nu}\\right\\rangle } & 0 & 0\\\\0 & \\left\\langle {\\beta}{\\beta} \\right. {\\left|{\\nu}{\\nu}\\right\\rangle } + \\left\\langle {\\beta}{\\nu} \\right. {\\left|{\\beta}{\\nu}\\right\\rangle } & 0\\\\0 & 0 & \\left\\langle {\\beta}{\\beta} \\right. {\\left|{\\nu}{\\nu}\\right\\rangle } + \\left\\langle {\\beta}{\\nu} \\right. {\\left|{\\beta}{\\nu}\\right\\rangle }\\end{matrix}\\right]$"
      ],
      "text/plain": [
       "Matrix([\n",
       "[<{\\beta}{\\beta}|{\\nu}{\\nu}> + <{\\beta}{\\nu}|{\\beta}{\\nu}>,                                                         0,                                                         0],\n",
       "[                                                        0, <{\\beta}{\\beta}|{\\nu}{\\nu}> + <{\\beta}{\\nu}|{\\beta}{\\nu}>,                                                         0],\n",
       "[                                                        0,                                                         0, <{\\beta}{\\beta}|{\\nu}{\\nu}> + <{\\beta}{\\nu}|{\\beta}{\\nu}>]])"
      ]
     },
     "metadata": {},
     "output_type": "display_data"
    }
   ],
   "source": [
    "print(\"Counting ...\")\n",
    "for counter, ir1ir2 in enumerate(final_config_matrices):\n",
    "    print('-'*10)\n",
    "    display(ir1ir2)\n",
    "    for term_key in final_config_matrices[ir1ir2]:\n",
    "        display(term_key)\n",
    "        num_different = len(set(sum([[el.as_braket() for el in row if el.as_braket()!=0] for row in final_config_matrices[ir1ir2][term_key]],[])))\n",
    "        display(num_different)\n",
    "        display(sp.Matrix([[el.as_braket() for el in row] for row in final_config_matrices[ir1ir2][term_key]]))"
   ]
  },
  {
   "cell_type": "code",
   "execution_count": null,
   "id": "30ee6f4c-f731-427e-abc6-409d7ea26522",
   "metadata": {},
   "outputs": [],
   "source": [
    "!beep"
   ]
  },
  {
   "cell_type": "code",
   "execution_count": 1607,
   "id": "b1437763-0be8-4713-8801-b51022d1db4f",
   "metadata": {},
   "outputs": [
    {
     "data": {
      "text/html": [
       "<pre>✔️ 6.22 ms (2021-11-18T15:36:20/2021-11-18T15:36:20)</pre>"
      ],
      "text/plain": [
       "<IPython.core.display.HTML object>"
      ]
     },
     "metadata": {},
     "output_type": "display_data"
    }
   ],
   "source": [
    "# # test it out on a single element of one of the matrices\n",
    "# brak = config_matrices[sp.Symbol('t_{2}')*sp.Symbol('t_{2}')][(0,sp.Symbol('A_1'))][0][0]\n",
    "# simp_ket = Qet({})\n",
    "# for k,v in brak.dict.items():\n",
    "#     simp_ket += Qet({real_var_full_simplifier[k]:v})\n",
    "# true_qet = Qet({})\n",
    "# for k,v in simp_ket.dict.items():\n",
    "#     if k in super_solution:\n",
    "#         true_qet += v*Qet(super_solution[k])\n",
    "#     else:\n",
    "#         true_qet += Qet({k:v})\n",
    "# true_qet.as_braket()"
   ]
  },
  {
   "cell_type": "code",
   "execution_count": 1611,
   "id": "372749de-4bac-42e4-8d5e-347f1785af35",
   "metadata": {},
   "outputs": [
    {
     "data": {
      "text/html": [
       "<pre>✔️ 1.83 ms (2021-11-18T15:37:23/2021-11-18T15:37:23)</pre>"
      ],
      "text/plain": [
       "<IPython.core.display.HTML object>"
      ]
     },
     "metadata": {},
     "output_type": "display_data"
    }
   ],
   "source": [
    "# list(simple_config_matrices[sp.Symbol('e')*sp.Symbol('t_{2}')][(0,sp.Symbol('T_2'))])[0][0].as_braket()\n",
    "# config_matrices[sp.Symbol('e')*sp.Symbol('t_{2}')][(0,sp.Symbol('T_2'))][0][0].as_braket()"
   ]
  },
  {
   "cell_type": "code",
   "execution_count": null,
   "id": "1748d57a-cfa8-48eb-8790-c2fdb7cb74be",
   "metadata": {
    "tags": []
   },
   "outputs": [],
   "source": [
    "# # print them out\n",
    "# for ir1ir2 in simple_config_matrices.keys():\n",
    "#     print('-'*10)\n",
    "#     display(ir1ir2)\n",
    "#     for term_key in simple_config_matrices[ir1ir2]:\n",
    "#         display(term_key)\n",
    "#         display(simple_config_matrices[ir1ir2][term_key])"
   ]
  },
  {
   "cell_type": "code",
   "execution_count": 1234,
   "id": "10a9399a-f399-4564-a378-e8342fe1061f",
   "metadata": {},
   "outputs": [
    {
     "data": {
      "text/html": [
       "<pre>✔️ 54 ms (2021-11-18T10:56:48/2021-11-18T10:56:48)</pre>"
      ],
      "text/plain": [
       "<IPython.core.display.HTML object>"
      ]
     },
     "metadata": {},
     "output_type": "display_data"
    }
   ],
   "source": [
    "# nullspace approach doesn't solve for\n",
    "# all redundancies\n",
    "# # eqns = list(rref_mat_non_zero*varvec)\n",
    "# print(\"Finding the nullspace ...\")\n",
    "# nullspace = rref_mat_non_zero.nullspace()\n",
    "# print(\"Converting into solution dictionary ...\")\n",
    "# normal_nullspace = []\n",
    "# sols = {}\n",
    "# for row in nullspace:\n",
    "#     row = list(row)\n",
    "#     for element_idx, element in enumerate(row):\n",
    "#         if element !=0:\n",
    "#             break\n",
    "#     normalizer = sp.S(element)\n",
    "#     if normalizer == 1:\n",
    "#         sols[problem_vars[element_idx]] = {problem_vars[idx]:row[idx] for idx in range(len(row)) if (idx != element_idx and row[idx]!=0)}\n",
    "#     else:\n",
    "#         normal_row = [el/normalizer for el in row]\n",
    "#         if problem_vars[element_idx] in sols:\n",
    "#             print(\"huh?\",end='|')\n",
    "# #             print(problem_vars[element_idx])\n",
    "# #             print({problem_vars[idx]:normal_row[idx] for idx in range(len(row)) if (idx != element_idx and row[idx]!=0)})\n",
    "#         sols[problem_vars[element_idx]] = {problem_vars[idx]:normal_row[idx] for idx in range(len(row)) if (idx != element_idx and row[idx]!=0)}"
   ]
  },
  {
   "cell_type": "markdown",
   "id": "5411fef3-7503-41f6-99d7-29345471281d",
   "metadata": {},
   "source": [
    "<span style=\"color:lime\">\n",
    "2.2 --- Two symbol identities.\n",
    "</span>"
   ]
  },
  {
   "cell_type": "markdown",
   "id": "3950cc5d-86a7-431f-aa78-76fedac35746",
   "metadata": {},
   "source": [
    "<span style=\"color:red\"> JOINT APPROACH\n",
    "<span>\n",
    "<span style=\"color:lime\">\n",
    "2. Many of the brakets in these matrices are related to one another. Use the generators of the group to find the smallest set of independent integrals needed in order to evaluate them. This requires considering equivalences coming from the symmetries of four symbol brakets, and also two symbol brakets. The four symbol brakets would apply to the elements of the configuration matrices, while the two symbol brakets would relate elements within these matrices.\n",
    "</span>"
   ]
  },
  {
   "cell_type": "code",
   "execution_count": 1342,
   "id": "a8474919-0b23-4939-b570-6d50075c8bb5",
   "metadata": {},
   "outputs": [
    {
     "data": {
      "text/html": [
       "<pre>✔️ 12 ms (2021-11-18T11:52:40/2021-11-18T11:52:40)</pre>"
      ],
      "text/plain": [
       "<IPython.core.display.HTML object>"
      ]
     },
     "metadata": {},
     "output_type": "display_data"
    }
   ],
   "source": [
    "def composite_symbol(x):\n",
    "    return sp.Symbol('(%s)'%(','.join(list(map(sp.latex,x)))))\n",
    "def fourtuplerecovery(ft):\n",
    "    '''the inverse of composite_symbol'''\n",
    "    return tuple(map(sp.Symbol,sp.latex(ft)[1:-1].split(',')))"
   ]
  },
  {
   "cell_type": "markdown",
   "id": "0890a9ac-d960-4f49-ad90-aa885df9b855",
   "metadata": {},
   "source": [
    "<span style=\"color:lime\">\n",
    "2.1 --- Four symbol identities.\n",
    "</span>"
   ]
  },
  {
   "cell_type": "code",
   "execution_count": 1343,
   "id": "c77f7d3e-5148-4ac4-9c99-62c9eb167290",
   "metadata": {},
   "outputs": [],
   "source": [
    "print(\"Creating all 4-symbol identities using the generators of the group ...\")\n",
    "\n",
    "# this   integral_identities  dictionary  will  have  as  keys\n",
    "# 4-tuples  of  irreps  and  its  values  will  be lists whose\n",
    "# elements  are  2-tuples whose first elements are 4-tuples of\n",
    "# irrep  components  and  whose values are qets whose keys are\n",
    "# 4-tuples  of  irrep components and whose values are numeric.\n",
    "# These 4-tuples represent a braket with the Coulomb repulsion\n",
    "# operator in between.\n",
    "\n",
    "integral_identities = {}\n",
    "ir_mats = group.irrep_matrices\n",
    "for ir1, ir2, ir3, ir4 in product(*([group.irrep_labels]*4)):\n",
    "    # To simplify calculations this part\n",
    "    # can only be done over quadruples in a standard\n",
    "    # order.\n",
    "    # Whatever is missed here is then brough back in\n",
    "    # by the reality relations.\n",
    "    altorder1 = (ir3, ir2, ir1, ir4)\n",
    "    altorder2 = (ir1, ir4, ir3, ir2)\n",
    "    altorder3 = (ir3, ir4, ir1, ir2)\n",
    "    if (altorder1 in integral_identities) or\\\n",
    "       (altorder2 in integral_identities) or\\\n",
    "       (altorder3 in integral_identities):\n",
    "        continue\n",
    "    integral_identity_sector = []\n",
    "    components = [component_labels[ir] for ir in [ir1, ir2, ir3, ir4]]\n",
    "    comp_to_idx = [{c: idx for idx, c in enumerate(component_labels[ir])} for ir in [ir1, ir2, ir3, ir4]]\n",
    "    for R in group.generators + [sp.Symbol('{Ee}')]:\n",
    "        R_id = {}\n",
    "        for γ1, γ2, γ3, γ4 in product(*components):\n",
    "            for γ1p, γ2p, γ3p, γ4p in product(*components):\n",
    "                    val = sp.conjugate(ir_mats[ir1][R][comp_to_idx[0][γ1],comp_to_idx[0][γ1p]]) *\\\n",
    "                          sp.conjugate(ir_mats[ir2][R][comp_to_idx[1][γ2],comp_to_idx[1][γ2p]]) *\\\n",
    "                          ir_mats[ir3][R][comp_to_idx[2][γ3],comp_to_idx[2][γ3p]] *\\\n",
    "                          ir_mats[ir4][R][comp_to_idx[3][γ4],comp_to_idx[3][γ4p]]\n",
    "                    if val== 0:\n",
    "                        continue\n",
    "                    key = (γ1, γ2, γ3, γ4)\n",
    "                    if key not in R_id.keys():\n",
    "                        R_id[key] = []\n",
    "                    R_id[key].append( Qet({(γ1p,γ2p,γ3p,γ4p): val}) )\n",
    "        R_id_total = [(key, sum(R_id[key], Qet({}))) for key in R_id.keys()]\n",
    "        R_id_total = [q for q in R_id_total if len(q[1].dict)>0]\n",
    "        integral_identity_sector.extend(R_id_total)\n",
    "    integral_identities[(ir1,ir2,ir3,ir4)] = integral_identity_sector\n",
    "\n",
    "# For solving the linear system it is convenient\n",
    "# to have everything on one side of the equation.\n",
    "\n",
    "print(\"Creating set of identities ...\")\n",
    "identities = {}\n",
    "for ircombo in integral_identities:\n",
    "    these_ids = []\n",
    "    for v in integral_identities[ircombo]:\n",
    "        lhs, rhs = v\n",
    "        diff = Qet({lhs:1}) - rhs\n",
    "        if len(diff.dict) > 0:\n",
    "            these_ids.append(diff)\n",
    "    identities[ircombo] = these_ids\n",
    "\n",
    "# If an equation has only one term, then\n",
    "# that immediately means that that term is zero.\n",
    "\n",
    "print(\"Finding trivial zeros ...\")\n",
    "# first determine which ones have to be zero\n",
    "better_identities = {irc:[] for irc in identities}\n",
    "all_zeros = {}\n",
    "for ircombo in identities:\n",
    "    zeros = []\n",
    "    for identity in identities[ircombo]:\n",
    "        if len(identity.dict) == 1:\n",
    "            zeros.append((list(identity.dict.keys())[0]))\n",
    "        else:\n",
    "            better_identities[ircombo].append(identity)\n",
    "    all_zeros[ircombo] = zeros\n",
    "\n",
    "# use them to simplify things.    \n",
    "print(\"Using them to simplify things...\")\n",
    "great_identities = {irc:[] for irc in identities}\n",
    "for ircombo in better_identities:\n",
    "    for identity in better_identities[ircombo]:\n",
    "        new_qet = Qet({})\n",
    "        for k,v in identity.dict.items():\n",
    "            if k in all_zeros[ircombo]:\n",
    "                continue\n",
    "            else:\n",
    "                new_qet+= Qet({k: v})\n",
    "        if len(new_qet.dict) == 0:\n",
    "            continue\n",
    "        great_identities[ircombo].append(new_qet)\n",
    "\n",
    "# Inside of a four-symbol braket one may three exchanges\n",
    "# that must result in the same value. That if the wave\n",
    "# functions are assumed to be real-valued.\n",
    "\n",
    "print(\"Creating reality identities ...\")\n",
    "real_var_simplifiers = {irc:[] for irc in great_identities}\n",
    "kprimes = set()\n",
    "# this has to run over all the quadruples of irs\n",
    "for ir1, ir2, ir3, ir4 in product(*([group.irrep_labels]*4)):\n",
    "    real_var_simplifier = {}\n",
    "    ircombo = (ir1, ir2, ir3, ir4)\n",
    "    components = [component_labels[ir] for ir in ircombo]\n",
    "    for γ1, γ2, γ3, γ4 in product(*components):\n",
    "        k = (γ1, γ2, γ3, γ4)\n",
    "        kalt1 = (γ3, γ2, γ1, γ4)\n",
    "        kalt2 = (γ1, γ4, γ3, γ2)\n",
    "        kalt3 = (γ3, γ4, γ1, γ2)\n",
    "        if kalt1 in kprimes:\n",
    "            real_var_simplifier[kalt2] = kalt1\n",
    "            real_var_simplifier[kalt3] = kalt1\n",
    "        elif kalt2 in kprimes:\n",
    "            real_var_simplifier[kalt1] = kalt2\n",
    "            real_var_simplifier[kalt3] = kalt2\n",
    "        elif kalt3 in kprimes:\n",
    "            real_var_simplifier[kalt1] = kalt3\n",
    "            real_var_simplifier[kalt2] = kalt3\n",
    "        else:\n",
    "            real_var_simplifier[k] = k\n",
    "            real_var_simplifier[kalt1] = k\n",
    "            real_var_simplifier[kalt2] = k\n",
    "            real_var_simplifier[kalt3] = k\n",
    "            kprimes.add(k)\n",
    "    real_var_simplifiers[ircombo] = real_var_simplifier\n",
    "\n",
    "# For each 4-tuple of irreps\n",
    "# create a system of symbolic solutions\n",
    "# and let sympy solve that.\n",
    "# For each 4-tuple of irreps\n",
    "# the end result is a dictionary\n",
    "# whose keys represent the dependent\n",
    "# brakets and whose values are the\n",
    "# relation that those dependent values\n",
    "# have with the independent brakets.\n",
    "# As such, when these dictionaries are\n",
    "# used on an expression, everything should\n",
    "# then be given in terms of indepedent brakets."
   ]
  },
  {
   "cell_type": "code",
   "execution_count": 1471,
   "id": "c1034d91-de41-4774-930c-725807ffab49",
   "metadata": {},
   "outputs": [
    {
     "data": {
      "text/html": [
       "<pre>✔️ 147 ms (2021-11-18T14:16:11/2021-11-18T14:16:11)</pre>"
      ],
      "text/plain": [
       "<IPython.core.display.HTML object>"
      ]
     },
     "metadata": {},
     "output_type": "display_data"
    },
    {
     "name": "stdout",
     "output_type": "stream",
     "text": [
      "Creating all 2-symbol identities using the generators of the group ...\n",
      "Creating set of identities ...\n",
      "Finding trivial zeros ...\n",
      "Using them to simplify things...\n",
      "Creating reality identities ...\n",
      "Solving all...\n",
      "Creating a dictionary with all the 2-symbol replacements ...\n"
     ]
    }
   ],
   "source": [
    "twotuplerecovery = fourtuplerecovery\n",
    "\n",
    "print(\"Creating all 2-symbol identities using the generators of the group ...\")\n",
    "\n",
    "# this   integral_identities  dictionary  will  have  as  keys\n",
    "# 2-tuples  of  irreps  and  its  values  will  be lists whose\n",
    "# elements  are  2-tuples whose first elements are 2-tuples of\n",
    "# irrep  components  and  whose values are qets whose keys are\n",
    "# 2-tuples  of  irrep components and whose values are numeric.\n",
    "# These 2-tuples represent a braket with the an invariant operator\n",
    "# operator in between.\n",
    "\n",
    "integral_identities_2 = {}\n",
    "ir_mats = group.irrep_matrices\n",
    "for ir1, ir2 in product(*([group.irrep_labels]*2)):\n",
    "    # To simplify calculations this part\n",
    "    # can only be done over quadruples in a standard\n",
    "    # order.\n",
    "    # Whatever is missed here is then brough back in\n",
    "    # by the reality relations.\n",
    "    altorder1 = (ir2, ir1, ir1, ir4)\n",
    "    if (altorder1 in integral_identities_2):\n",
    "        continue\n",
    "    integral_identity_sector = []\n",
    "    components = [component_labels[ir] for ir in [ir1, ir2]]\n",
    "    comp_to_idx = [{c: idx for idx, c in enumerate(component_labels[ir])} for ir in [ir1, ir2]]\n",
    "    for R in group.generators + [sp.Symbol('{Ee}')]:\n",
    "        R_id = {}\n",
    "        for γ1, γ2 in product(*components):\n",
    "            for γ1p, γ2p in product(*components):\n",
    "                    val = sp.conjugate(ir_mats[ir1][R][comp_to_idx[0][γ1],comp_to_idx[0][γ1p]]) *\\\n",
    "                          ir_mats[ir2][R][comp_to_idx[1][γ2],comp_to_idx[1][γ2p]]\n",
    "                    if val== 0:\n",
    "                        continue\n",
    "                    key = (γ1, γ2)\n",
    "                    if key not in R_id.keys():\n",
    "                        R_id[key] = []\n",
    "                    R_id[key].append( Qet({(γ1p,γ2p): val}) )\n",
    "        R_id_total = [(key, sum(R_id[key], Qet({}))) for key in R_id.keys()]\n",
    "        R_id_total = [q for q in R_id_total if len(q[1].dict)>0]\n",
    "        integral_identity_sector.extend(R_id_total)\n",
    "    integral_identities_2[(ir1,ir2)] = integral_identity_sector\n",
    "\n",
    "# For solving the linear system it is convenient\n",
    "# to have everything on one side of the equation.\n",
    "\n",
    "print(\"Creating set of identities ...\")\n",
    "identities_2 = {}\n",
    "for ircombo in integral_identities_2:\n",
    "    these_ids = []\n",
    "    for v in integral_identities_2[ircombo]:\n",
    "        lhs, rhs = v\n",
    "        diff = Qet({lhs:1}) - rhs\n",
    "        if len(diff.dict) > 0:\n",
    "            these_ids.append(diff)\n",
    "    identities_2[ircombo] = these_ids\n",
    "    \n",
    "# If an equation has only one term, then\n",
    "# that immediately means that that term is zero.\n",
    "\n",
    "print(\"Finding trivial zeros ...\")\n",
    "# first determine which ones have to be zero\n",
    "better_identities_2 = {irc:[] for irc in identities_2}\n",
    "all_zeros_2 = {}\n",
    "for ircombo in identities_2:\n",
    "    zeros = []\n",
    "    for identity in identities_2[ircombo]:\n",
    "        if len(identity.dict) == 1:\n",
    "            zeros.append((list(identity.dict.keys())[0]))\n",
    "        else:\n",
    "            better_identities_2[ircombo].append(identity)\n",
    "    all_zeros_2[ircombo] = zeros\n",
    "\n",
    "# use them to simplify things.    \n",
    "print(\"Using them to simplify things...\")\n",
    "great_identities_2 = {irc:[] for irc in identities_2}\n",
    "for ircombo in better_identities_2:\n",
    "    for identity in better_identities_2[ircombo]:\n",
    "        new_qet = Qet({})\n",
    "        for k,v in identity.dict.items():\n",
    "            if k in all_zeros_2[ircombo]:\n",
    "                continue\n",
    "            else:\n",
    "                new_qet+= Qet({k: v})\n",
    "        if len(new_qet.dict) == 0:\n",
    "            continue\n",
    "        great_identities_2[ircombo].append(new_qet)\n",
    "\n",
    "# Inside of a four-symbol braket one may three exchanges\n",
    "# that must result in the same value. That if the wave\n",
    "# functions are assumed to be real-valued.\n",
    "\n",
    "print(\"Creating reality identities ...\")\n",
    "real_var_simplifiers_2 = {irc:[] for irc in great_identities_2}\n",
    "# this has to run over all the quadruples of irs\n",
    "kprimes = set()\n",
    "for ir1, ir2 in product(*([group.irrep_labels]*2)):\n",
    "    real_var_simplifier = {}\n",
    "    ircombo = (ir1, ir2)\n",
    "    components = [component_labels[ir] for ir in ircombo]\n",
    "    for γ1, γ2 in product(*components):\n",
    "        k = (γ1, γ2)\n",
    "        kalt = (γ2, γ1)\n",
    "        # If for a given key I find that its\n",
    "        # switched version has already been seen\n",
    "        # Then that key has to be mapped to be\n",
    "        # mapped to the key already present.\n",
    "        if kalt in kprimes:\n",
    "            real_var_simplifier[k] = kalt\n",
    "        else:\n",
    "            real_var_simplifier[k] = k\n",
    "            kprimes.add(k)\n",
    "    real_var_simplifiers_2[ircombo] = real_var_simplifier\n",
    "\n",
    "##############\n",
    "\n",
    "# For each 4-tuple of irreps\n",
    "# create a system of symbolic solutions\n",
    "# and let sympy solve that.\n",
    "# For each 4-tuple of irreps\n",
    "# the end result is a dictionary\n",
    "# whose keys represent the dependent\n",
    "# brakets and whose values are the\n",
    "# relation that those dependent values\n",
    "# have with the independent brakets.\n",
    "# As such, when these dictionaries are\n",
    "# used on an expression, everything should\n",
    "# then be given in terms of indepedent brakets.\n",
    "\n",
    "print(\"Solving all...\")\n",
    "all_sols_2 = {irc:[] for irc in great_identities_2}\n",
    "for ircombo in great_identities_2:\n",
    "    zeros = all_zeros_2[ircombo]\n",
    "    problem_vars = list(set(sum([list(identity.dict.keys()) for identity in great_identities_2[ircombo]],[])))\n",
    "    big_ma = [awe.vec_in_basis(problem_vars) for awe in great_identities_2[ircombo]] \n",
    "    big_mat = sp.Matrix(big_ma)\n",
    "    rref_mat, pivots = big_mat.rref()\n",
    "    num_rows = rref_mat.rows\n",
    "    num_cols = rref_mat.cols\n",
    "    rref_ma_non_zero = [rref_mat[row,:] for row in range(num_rows) if (sum(np.array(rref_mat[row,:])[0] == 0) != num_cols)]\n",
    "    rref_mat_non_zero = sp.Matrix(rref_ma_non_zero)\n",
    "    varvec = sp.Matrix(list(map(composite_symbol,problem_vars)))\n",
    "    eqns = rref_mat_non_zero*varvec\n",
    "    ssol = sp.solve(list(eqns), dict=True)\n",
    "    all_sols[ircombo] = ssol\n",
    "    assert len(ssol) in [0,1]\n",
    "    if len(ssol) == 0:\n",
    "        sol_dict = {}\n",
    "    else:\n",
    "        sol_dict = ssol[0]\n",
    "    zero_addendum = {k:{} for k in all_zeros_2[ircombo]}\n",
    "    sol_dict = {twotuplerecovery(k):{twotuplerecovery(s):v.coeff(s) for s in v.free_symbols} for k,v in sol_dict.items()}\n",
    "    sol_dict.update(zero_addendum)\n",
    "    all_sols_2[ircombo] = sol_dict\n",
    "\n",
    "# This final dictionary is unnecessary but\n",
    "# simplifies calling the replacements onto\n",
    "# a symbolic expression.\n",
    "\n",
    "print(\"Creating a dictionary with all the 2-symbol replacements ...\")\n",
    "super_solution_2 = {}\n",
    "for ircombo in all_sols_2:\n",
    "    super_solution_2.update(all_sols_2[ircombo])\n",
    "\n",
    "# for a given electron config xxx\n",
    "more_ids = {ec:[] for ec in config_matrices}\n",
    "for e_config in simple_config_matrices:\n",
    "    # for a given term\n",
    "    for term in config_matrices[e_config]:\n",
    "#         more_ids[e_config][term] = []\n",
    "        the_matrix = config_matrices[e_config][term]\n",
    "        num_rows = len(the_matrix)\n",
    "        num_cols = len(the_matrix)\n",
    "        the_state_keys = config_supplement[e_config][term]\n",
    "        the_key_matrix = {}\n",
    "        for row_idx in range(num_rows):\n",
    "            Γ3_row = the_state_keys[row_idx][2]\n",
    "            γ3_row = the_state_keys[row_idx][3]\n",
    "            for col_idx in range(num_cols):\n",
    "                Γ3_col = the_state_keys[col_idx][2]\n",
    "                γ3_col = the_state_keys[col_idx][3]\n",
    "                matrix_val = the_matrix[row_idx][col_idx]\n",
    "                the_key_matrix[(γ3_row,γ3_col)] = matrix_val\n",
    "        # now go over the keys of super_solution_2\n",
    "        # and if one of those keys matches with a key in the_key_matrix\n",
    "        # do something about it\n",
    "        for k in super_solution_2:\n",
    "            if k in the_key_matrix:\n",
    "                v = super_solution_2[k]\n",
    "                # this matrix element\n",
    "                matrix_element = the_key_matrix[k]\n",
    "                # must be identified with the sum\n",
    "                # as given in v\n",
    "                matrix_equiv = sum([kv*the_key_matrix[km] for km, kv in v.items()],Qet({}))\n",
    "                identity = (matrix_element - matrix_equiv) #=0\n",
    "                if len(identity.dict) != 0:\n",
    "                    more_ids[e_config].append(identity)"
   ]
  },
  {
   "cell_type": "code",
   "execution_count": null,
   "id": "8076fabd-905c-4f2a-a4a1-793b2f9e8cd7",
   "metadata": {},
   "outputs": [],
   "source": [
    "for e_config in more_ids:"
   ]
  },
  {
   "cell_type": "code",
   "execution_count": 1343,
   "id": "82170943-fc7a-49ca-b4d0-8d14483b1f56",
   "metadata": {},
   "outputs": [
    {
     "data": {
      "text/html": [
       "<pre>✔️ 25.1 s (2021-11-18T11:52:41/2021-11-18T11:53:06)</pre>"
      ],
      "text/plain": [
       "<IPython.core.display.HTML object>"
      ]
     },
     "metadata": {},
     "output_type": "display_data"
    },
    {
     "name": "stdout",
     "output_type": "stream",
     "text": [
      "Creating all 4-symbol identities using the generators of the group ...\n",
      "Creating set of identities ...\n",
      "Finding trivial zeros ...\n",
      "Using them to simplify things...\n",
      "Creating reality identities ...\n",
      "Solving all...\n",
      "Creating a dictionary with all the 4-symbol replacements ...\n"
     ]
    }
   ],
   "source": [
    "print(\"Solving all...\")\n",
    "all_sols = {irc:[] for irc in great_identities}\n",
    "for ircombo in great_identities:\n",
    "    zeros = all_zeros[ircombo]\n",
    "    problem_vars = list(set(sum([list(identity.dict.keys()) for identity in great_identities[ircombo]],[])))\n",
    "    big_ma = [awe.vec_in_basis(problem_vars) for awe in great_identities[ircombo]] \n",
    "    big_mat = sp.Matrix(big_ma)\n",
    "    rref_mat, pivots = big_mat.rref()\n",
    "    num_rows = rref_mat.rows\n",
    "    num_cols = rref_mat.cols\n",
    "    rref_ma_non_zero = [rref_mat[row,:] for row in range(num_rows) if (sum(np.array(rref_mat[row,:])[0] == 0) != num_cols)]\n",
    "    rref_mat_non_zero = sp.Matrix(rref_ma_non_zero)\n",
    "    varvec = sp.Matrix(list(map(composite_symbol,problem_vars)))\n",
    "    eqns = rref_mat_non_zero*varvec\n",
    "    ssol = sp.solve(list(eqns), dict=True)\n",
    "    all_sols[ircombo] = ssol\n",
    "    assert len(ssol) in [0,1]\n",
    "    if len(ssol) == 0:\n",
    "        sol_dict = {}\n",
    "    else:\n",
    "        sol_dict = ssol[0]\n",
    "    zero_addendum = {k:{} for k in all_zeros[ircombo]}\n",
    "    sol_dict = {fourtuplerecovery(k):{fourtuplerecovery(s):v.coeff(s) for s in v.free_symbols} for k,v in sol_dict.items()}\n",
    "    sol_dict.update(zero_addendum)\n",
    "    all_sols[ircombo] = sol_dict\n",
    "\n",
    "# This final dictionary is unnecessary but\n",
    "# simplifies calling the replacements onto\n",
    "# a symbolic expression.\n",
    "\n",
    "print(\"Creating a dictionary with all the 4-symbol replacements ...\")\n",
    "super_solution = {}\n",
    "for ircombo in all_sols:\n",
    "    super_solution.update(all_sols[ircombo])"
   ]
  },
  {
   "cell_type": "code",
   "execution_count": 1445,
   "id": "e5689765-2c1f-4223-ac52-26982ff7ec18",
   "metadata": {},
   "outputs": [
    {
     "data": {
      "text/html": [
       "<pre>✔️ 58.4 ms (2021-11-18T13:30:10/2021-11-18T13:30:10)</pre>"
      ],
      "text/plain": [
       "<IPython.core.display.HTML object>"
      ]
     },
     "metadata": {},
     "output_type": "display_data"
    },
    {
     "data": {
      "text/latex": [
       "$\\displaystyle 2 \\left\\langle {\\xi}{\\xi} \\right. {\\left|{\\phi}{\\phi}\\right\\rangle } + \\left\\langle {\\xi}{\\xi} \\right. {\\left|{\\xi}{\\xi}\\right\\rangle }$"
      ],
      "text/plain": [
       "2*<{\\xi}{\\xi}|{\\phi}{\\phi}> + <{\\xi}{\\xi}|{\\xi}{\\xi}>"
      ]
     },
     "execution_count": 1445,
     "metadata": {},
     "output_type": "execute_result"
    }
   ],
   "source": [
    "# test it out on a single element of one of the matrices\n",
    "brak = config_matrices[sp.Symbol('t_{2}')*sp.Symbol('t_{2}')][(0,sp.Symbol('A_1'))][0][0]\n",
    "simp_ket = Qet({})\n",
    "for k,v in brak.dict.items():\n",
    "    simp_ket += Qet({real_var_full_simplifier[k]:v})\n",
    "true_qet = Qet({})\n",
    "for k,v in simp_ket.dict.items():\n",
    "    if k in super_solution:\n",
    "        true_qet += v*Qet(super_solution[k])\n",
    "    else:\n",
    "        true_qet += Qet({k:v})\n",
    "true_qet.as_braket()"
   ]
  },
  {
   "cell_type": "code",
   "execution_count": 1351,
   "id": "af69dc18-9091-4aba-bdc8-1fa07cf182ac",
   "metadata": {},
   "outputs": [
    {
     "data": {
      "text/html": [
       "<pre>✔️ 21.4 ms (2021-11-18T11:53:50/2021-11-18T11:53:50)</pre>"
      ],
      "text/plain": [
       "<IPython.core.display.HTML object>"
      ]
     },
     "metadata": {},
     "output_type": "display_data"
    }
   ],
   "source": [
    "def simplifier(qet):\n",
    "    simp_ket = Qet({})\n",
    "    for k,v in qet.dict.items():\n",
    "        simp_ket += Qet({real_var_full_simplifier[k]:v})\n",
    "    true_qet = Qet({})\n",
    "    for k,v in simp_ket.dict.items():\n",
    "        if k in super_solution:\n",
    "            true_qet += v*Qet(super_solution[k])\n",
    "        else:\n",
    "            true_qet += Qet({k:v})\n",
    "    return true_qet#.as_braket()\n",
    "def simplify_config_matrix(ir1ir2, S, ir3):\n",
    "    config_matrix = config_matrices[ir1ir2][(S,ir3)]\n",
    "    num_rows = len(config_matrix)\n",
    "    simple_matrix = [[simplifier(config_matrix[row][col]) for col in range(num_rows)] for row in range(num_rows)]\n",
    "    #simple_matrix = sp.Matrix(simple_matrix)\n",
    "    return simple_matrix"
   ]
  },
  {
   "cell_type": "code",
   "execution_count": 1352,
   "id": "6bba3d54-f14b-4921-a18d-527f4c95ca3d",
   "metadata": {},
   "outputs": [
    {
     "data": {
      "text/html": [
       "<pre>✔️ 229 ms (2021-11-18T11:53:51/2021-11-18T11:53:51)</pre>"
      ],
      "text/plain": [
       "<IPython.core.display.HTML object>"
      ]
     },
     "metadata": {},
     "output_type": "display_data"
    }
   ],
   "source": [
    "simple_config_matrices = {k:{} for k in config_matrices}\n",
    "for ir1ir2 in config_matrices.keys():\n",
    "    for term_key in config_matrices[ir1ir2]:\n",
    "        S, Γ3 = term_key\n",
    "        simple_config_matrices[ir1ir2][term_key] = simplify_config_matrix(ir1ir2, S, Γ3)"
   ]
  },
  {
   "cell_type": "code",
   "execution_count": 1347,
   "id": "35113461-4425-423b-8d5e-4e4fed3b46ec",
   "metadata": {},
   "outputs": [
    {
     "data": {
      "text/html": [
       "<pre>✔️ 16.8 ms (2021-11-18T11:53:28/2021-11-18T11:53:28)</pre>"
      ],
      "text/plain": [
       "<IPython.core.display.HTML object>"
      ]
     },
     "metadata": {},
     "output_type": "display_data"
    },
    {
     "data": {
      "text/latex": [
       "$\\displaystyle \\frac{4 \\left\\langle {\\zeta}{\\phi} \\right. {\\left|{\\zeta}{\\phi}\\right\\rangle }}{3} - \\frac{\\left\\langle {\\zeta}{\\xi} \\right. {\\left|{\\zeta}{\\xi}\\right\\rangle }}{3} + \\frac{4 \\left\\langle {\\zeta}{\\zeta} \\right. {\\left|{\\phi}{\\phi}\\right\\rangle }}{3} - \\frac{\\left\\langle {\\zeta}{\\zeta} \\right. {\\left|{\\xi}{\\xi}\\right\\rangle }}{3}$"
      ],
      "text/plain": [
       "4*<{\\zeta}{\\phi}|{\\zeta}{\\phi}>/3 - <{\\zeta}{\\xi}|{\\zeta}{\\xi}>/3 + 4*<{\\zeta}{\\zeta}|{\\phi}{\\phi}>/3 - <{\\zeta}{\\zeta}|{\\xi}{\\xi}>/3"
      ]
     },
     "execution_count": 1347,
     "metadata": {},
     "output_type": "execute_result"
    }
   ],
   "source": [
    "list(simple_config_matrices[sp.Symbol('e')*sp.Symbol('t_{2}')][(0,sp.Symbol('T_2'))])[0][0].as_braket()"
   ]
  },
  {
   "cell_type": "code",
   "execution_count": 1335,
   "id": "df6bc644-4a9a-4062-a16c-46a3909ef2e4",
   "metadata": {},
   "outputs": [
    {
     "data": {
      "text/html": [
       "<pre>✔️ 23.1 ms (2021-11-18T11:51:15/2021-11-18T11:51:15)</pre>"
      ],
      "text/plain": [
       "<IPython.core.display.HTML object>"
      ]
     },
     "metadata": {},
     "output_type": "display_data"
    },
    {
     "data": {
      "text/latex": [
       "$\\displaystyle \\left\\langle {\\gamma}{\\xi} \\right. {\\left|{\\gamma}{\\xi}\\right\\rangle } + \\left\\langle {\\gamma}{\\xi} \\right. {\\left|{\\xi}{\\gamma}\\right\\rangle }$"
      ],
      "text/plain": [
       "<{\\gamma}{\\xi}|{\\gamma}{\\xi}> + <{\\gamma}{\\xi}|{\\xi}{\\gamma}>"
      ]
     },
     "execution_count": 1335,
     "metadata": {},
     "output_type": "execute_result"
    }
   ],
   "source": [
    "config_matrices[sp.Symbol('e')*sp.Symbol('t_{2}')][(0,sp.Symbol('T_2'))][0][0].as_braket()"
   ]
  },
  {
   "cell_type": "code",
   "execution_count": null,
   "id": "6cbdfbf8-8696-4a09-838a-9d21eba86c0b",
   "metadata": {
    "tags": []
   },
   "outputs": [],
   "source": [
    "# print them out\n",
    "for ir1ir2 in simple_config_matrices.keys():\n",
    "    print('-'*10)\n",
    "    display(ir1ir2)\n",
    "    for term_key in simple_config_matrices[ir1ir2]:\n",
    "        display(term_key)\n",
    "        display(simple_config_matrices[ir1ir2][term_key])"
   ]
  },
  {
   "cell_type": "code",
   "execution_count": 1234,
   "id": "01284681-f58c-44f4-afd3-8076e6d9b5bd",
   "metadata": {},
   "outputs": [
    {
     "data": {
      "text/html": [
       "<pre>✔️ 54 ms (2021-11-18T10:56:48/2021-11-18T10:56:48)</pre>"
      ],
      "text/plain": [
       "<IPython.core.display.HTML object>"
      ]
     },
     "metadata": {},
     "output_type": "display_data"
    }
   ],
   "source": [
    "# nullspace approach doesn't solve for\n",
    "# all redundancies\n",
    "# # eqns = list(rref_mat_non_zero*varvec)\n",
    "# print(\"Finding the nullspace ...\")\n",
    "# nullspace = rref_mat_non_zero.nullspace()\n",
    "# print(\"Converting into solution dictionary ...\")\n",
    "# normal_nullspace = []\n",
    "# sols = {}\n",
    "# for row in nullspace:\n",
    "#     row = list(row)\n",
    "#     for element_idx, element in enumerate(row):\n",
    "#         if element !=0:\n",
    "#             break\n",
    "#     normalizer = sp.S(element)\n",
    "#     if normalizer == 1:\n",
    "#         sols[problem_vars[element_idx]] = {problem_vars[idx]:row[idx] for idx in range(len(row)) if (idx != element_idx and row[idx]!=0)}\n",
    "#     else:\n",
    "#         normal_row = [el/normalizer for el in row]\n",
    "#         if problem_vars[element_idx] in sols:\n",
    "#             print(\"huh?\",end='|')\n",
    "# #             print(problem_vars[element_idx])\n",
    "# #             print({problem_vars[idx]:normal_row[idx] for idx in range(len(row)) if (idx != element_idx and row[idx]!=0)})\n",
    "#         sols[problem_vars[element_idx]] = {problem_vars[idx]:normal_row[idx] for idx in range(len(row)) if (idx != element_idx and row[idx]!=0)}"
   ]
  },
  {
   "cell_type": "markdown",
   "id": "c97f3907-18df-41f4-97a1-729a92c67d85",
   "metadata": {},
   "source": [
    "<span style=\"color:lime\">\n",
    "2.2 --- Two symbol identities.\n",
    "</span>"
   ]
  },
  {
   "cell_type": "code",
   "execution_count": 1353,
   "id": "38cbd248-f385-443d-9336-67ee9fbbfc61",
   "metadata": {},
   "outputs": [
    {
     "data": {
      "text/html": [
       "<pre>✔️ 15.1 ms (2021-11-18T11:54:12/2021-11-18T11:54:12)</pre>"
      ],
      "text/plain": [
       "<IPython.core.display.HTML object>"
      ]
     },
     "metadata": {},
     "output_type": "display_data"
    }
   ],
   "source": [
    "twotuplerecovery = fourtuplerecovery"
   ]
  },
  {
   "cell_type": "code",
   "execution_count": 1354,
   "id": "e25f5800-563c-4cf8-91b2-8e1ff7e0e214",
   "metadata": {},
   "outputs": [
    {
     "data": {
      "text/html": [
       "<pre>✔️ 54.9 ms (2021-11-18T11:54:13/2021-11-18T11:54:13)</pre>"
      ],
      "text/plain": [
       "<IPython.core.display.HTML object>"
      ]
     },
     "metadata": {},
     "output_type": "display_data"
    },
    {
     "name": "stdout",
     "output_type": "stream",
     "text": [
      "Creating all 2-symbol identities using the generators of the group ...\n"
     ]
    }
   ],
   "source": [
    "print(\"Creating all 2-symbol identities using the generators of the group ...\")\n",
    "\n",
    "# this   integral_identities  dictionary  will  have  as  keys\n",
    "# 2-tuples  of  irreps  and  its  values  will  be lists whose\n",
    "# elements  are  2-tuples whose first elements are 2-tuples of\n",
    "# irrep  components  and  whose values are qets whose keys are\n",
    "# 2-tuples  of  irrep components and whose values are numeric.\n",
    "# These 2-tuples represent a braket with the an invariant operator\n",
    "# operator in between.\n",
    "\n",
    "integral_identities_2 = {}\n",
    "ir_mats = group.irrep_matrices\n",
    "for ir1, ir2 in product(*([group.irrep_labels]*2)):\n",
    "    # To simplify calculations this part\n",
    "    # can only be done over quadruples in a standard\n",
    "    # order.\n",
    "    # Whatever is missed here is then brough back in\n",
    "    # by the reality relations.\n",
    "    altorder1 = (ir2, ir1, ir1, ir4)\n",
    "    if (altorder1 in integral_identities_2):\n",
    "        continue\n",
    "    integral_identity_sector = []\n",
    "    components = [component_labels[ir] for ir in [ir1, ir2]]\n",
    "    comp_to_idx = [{c: idx for idx, c in enumerate(component_labels[ir])} for ir in [ir1, ir2]]\n",
    "    for R in group.generators + [sp.Symbol('{Ee}')]:\n",
    "        R_id = {}\n",
    "        for γ1, γ2 in product(*components):\n",
    "            for γ1p, γ2p in product(*components):\n",
    "                    val = sp.conjugate(ir_mats[ir1][R][comp_to_idx[0][γ1],comp_to_idx[0][γ1p]]) *\\\n",
    "                          ir_mats[ir2][R][comp_to_idx[1][γ2],comp_to_idx[1][γ2p]]\n",
    "                    if val== 0:\n",
    "                        continue\n",
    "                    key = (γ1, γ2)\n",
    "                    if key not in R_id.keys():\n",
    "                        R_id[key] = []\n",
    "                    R_id[key].append( Qet({(γ1p,γ2p): val}) )\n",
    "        R_id_total = [(key, sum(R_id[key], Qet({}))) for key in R_id.keys()]\n",
    "        R_id_total = [q for q in R_id_total if len(q[1].dict)>0]\n",
    "        integral_identity_sector.extend(R_id_total)\n",
    "    integral_identities_2[(ir1,ir2)] = integral_identity_sector"
   ]
  },
  {
   "cell_type": "code",
   "execution_count": 1355,
   "id": "45487eea-b6ea-4413-9ac8-888f9c75e18f",
   "metadata": {},
   "outputs": [
    {
     "data": {
      "text/html": [
       "<pre>✔️ 22.5 ms (2021-11-18T11:54:13/2021-11-18T11:54:13)</pre>"
      ],
      "text/plain": [
       "<IPython.core.display.HTML object>"
      ]
     },
     "metadata": {},
     "output_type": "display_data"
    },
    {
     "name": "stdout",
     "output_type": "stream",
     "text": [
      "Creating set of identities ...\n"
     ]
    }
   ],
   "source": [
    "# For solving the linear system it is convenient\n",
    "# to have everything on one side of the equation.\n",
    "\n",
    "print(\"Creating set of identities ...\")\n",
    "identities_2 = {}\n",
    "for ircombo in integral_identities_2:\n",
    "    these_ids = []\n",
    "    for v in integral_identities_2[ircombo]:\n",
    "        lhs, rhs = v\n",
    "        diff = Qet({lhs:1}) - rhs\n",
    "        if len(diff.dict) > 0:\n",
    "            these_ids.append(diff)\n",
    "    identities_2[ircombo] = these_ids"
   ]
  },
  {
   "cell_type": "code",
   "execution_count": 1356,
   "id": "1819bdb3-ae0e-4341-a6c2-9914b84b78b7",
   "metadata": {},
   "outputs": [
    {
     "data": {
      "text/html": [
       "<pre>✔️ 12.1 ms (2021-11-18T11:54:16/2021-11-18T11:54:16)</pre>"
      ],
      "text/plain": [
       "<IPython.core.display.HTML object>"
      ]
     },
     "metadata": {},
     "output_type": "display_data"
    },
    {
     "name": "stdout",
     "output_type": "stream",
     "text": [
      "Finding trivial zeros ...\n"
     ]
    }
   ],
   "source": [
    "# If an equation has only one term, then\n",
    "# that immediately means that that term is zero.\n",
    "\n",
    "print(\"Finding trivial zeros ...\")\n",
    "# first determine which ones have to be zero\n",
    "better_identities_2 = {irc:[] for irc in identities_2}\n",
    "all_zeros_2 = {}\n",
    "for ircombo in identities_2:\n",
    "    zeros = []\n",
    "    for identity in identities_2[ircombo]:\n",
    "        if len(identity.dict) == 1:\n",
    "            zeros.append((list(identity.dict.keys())[0]))\n",
    "        else:\n",
    "            better_identities_2[ircombo].append(identity)\n",
    "    all_zeros_2[ircombo] = zeros"
   ]
  },
  {
   "cell_type": "code",
   "execution_count": 1357,
   "id": "adb0f455-01d5-4ea6-99ce-4242d587c40c",
   "metadata": {},
   "outputs": [
    {
     "data": {
      "text/html": [
       "<pre>✔️ 23.4 ms (2021-11-18T11:54:19/2021-11-18T11:54:19)</pre>"
      ],
      "text/plain": [
       "<IPython.core.display.HTML object>"
      ]
     },
     "metadata": {},
     "output_type": "display_data"
    },
    {
     "name": "stdout",
     "output_type": "stream",
     "text": [
      "Using them to simplify things...\n"
     ]
    }
   ],
   "source": [
    "# use them to simplify things.    \n",
    "print(\"Using them to simplify things...\")\n",
    "great_identities_2 = {irc:[] for irc in identities_2}\n",
    "for ircombo in better_identities_2:\n",
    "    for identity in better_identities_2[ircombo]:\n",
    "        new_qet = Qet({})\n",
    "        for k,v in identity.dict.items():\n",
    "            if k in all_zeros_2[ircombo]:\n",
    "                continue\n",
    "            else:\n",
    "                new_qet+= Qet({k: v})\n",
    "        if len(new_qet.dict) == 0:\n",
    "            continue\n",
    "        great_identities_2[ircombo].append(new_qet)"
   ]
  },
  {
   "cell_type": "code",
   "execution_count": 1358,
   "id": "ebb13268-0ce9-4047-80d2-d0aac3a69704",
   "metadata": {},
   "outputs": [
    {
     "data": {
      "text/html": [
       "<pre>✔️ 12.9 ms (2021-11-18T11:54:24/2021-11-18T11:54:24)</pre>"
      ],
      "text/plain": [
       "<IPython.core.display.HTML object>"
      ]
     },
     "metadata": {},
     "output_type": "display_data"
    },
    {
     "name": "stdout",
     "output_type": "stream",
     "text": [
      "Creating reality identities ...\n"
     ]
    }
   ],
   "source": [
    "# Inside of a four-symbol braket one may three exchanges\n",
    "# that must result in the same value. That if the wave\n",
    "# functions are assumed to be real-valued.\n",
    "\n",
    "print(\"Creating reality identities ...\")\n",
    "real_var_simplifiers_2 = {irc:[] for irc in great_identities_2}\n",
    "# this has to run over all the quadruples of irs\n",
    "kprimes = set()\n",
    "for ir1, ir2 in product(*([group.irrep_labels]*2)):\n",
    "    real_var_simplifier = {}\n",
    "    ircombo = (ir1, ir2)\n",
    "    components = [component_labels[ir] for ir in ircombo]\n",
    "    for γ1, γ2 in product(*components):\n",
    "        k = (γ1, γ2)\n",
    "        kalt = (γ2, γ1)\n",
    "        # If for a given key I find that its\n",
    "        # switched version has already been seen\n",
    "        # Then that key has to be mapped to be\n",
    "        # mapped to the key already present.\n",
    "        if kalt in kprimes:\n",
    "            real_var_simplifier[k] = kalt\n",
    "        else:\n",
    "            real_var_simplifier[k] = k\n",
    "            kprimes.add(k)\n",
    "    real_var_simplifiers_2[ircombo] = real_var_simplifier"
   ]
  },
  {
   "cell_type": "code",
   "execution_count": 1359,
   "id": "5ab6b95d-07fc-44bf-8cd0-1cfc60ebb3fc",
   "metadata": {},
   "outputs": [
    {
     "data": {
      "text/html": [
       "<pre>✔️ 193 ms (2021-11-18T11:54:29/2021-11-18T11:54:29)</pre>"
      ],
      "text/plain": [
       "<IPython.core.display.HTML object>"
      ]
     },
     "metadata": {},
     "output_type": "display_data"
    },
    {
     "name": "stdout",
     "output_type": "stream",
     "text": [
      "Solving all...\n",
      "Creating a dictionary with all the 2-symbol replacements ...\n"
     ]
    }
   ],
   "source": [
    "# For each 4-tuple of irreps\n",
    "# create a system of symbolic solutions\n",
    "# and let sympy solve that.\n",
    "# For each 4-tuple of irreps\n",
    "# the end result is a dictionary\n",
    "# whose keys represent the dependent\n",
    "# brakets and whose values are the\n",
    "# relation that those dependent values\n",
    "# have with the independent brakets.\n",
    "# As such, when these dictionaries are\n",
    "# used on an expression, everything should\n",
    "# then be given in terms of indepedent brakets.\n",
    "\n",
    "print(\"Solving all...\")\n",
    "all_sols_2 = {irc:[] for irc in great_identities_2}\n",
    "for ircombo in great_identities_2:\n",
    "    zeros = all_zeros_2[ircombo]\n",
    "    problem_vars = list(set(sum([list(identity.dict.keys()) for identity in great_identities_2[ircombo]],[])))\n",
    "    big_ma = [awe.vec_in_basis(problem_vars) for awe in great_identities_2[ircombo]] \n",
    "    big_mat = sp.Matrix(big_ma)\n",
    "    rref_mat, pivots = big_mat.rref()\n",
    "    num_rows = rref_mat.rows\n",
    "    num_cols = rref_mat.cols\n",
    "    rref_ma_non_zero = [rref_mat[row,:] for row in range(num_rows) if (sum(np.array(rref_mat[row,:])[0] == 0) != num_cols)]\n",
    "    rref_mat_non_zero = sp.Matrix(rref_ma_non_zero)\n",
    "    varvec = sp.Matrix(list(map(composite_symbol,problem_vars)))\n",
    "    eqns = rref_mat_non_zero*varvec\n",
    "    ssol = sp.solve(list(eqns), dict=True)\n",
    "    all_sols[ircombo] = ssol\n",
    "    assert len(ssol) in [0,1]\n",
    "    if len(ssol) == 0:\n",
    "        sol_dict = {}\n",
    "    else:\n",
    "        sol_dict = ssol[0]\n",
    "    zero_addendum = {k:{} for k in all_zeros_2[ircombo]}\n",
    "    sol_dict = {twotuplerecovery(k):{twotuplerecovery(s):v.coeff(s) for s in v.free_symbols} for k,v in sol_dict.items()}\n",
    "    sol_dict.update(zero_addendum)\n",
    "    all_sols_2[ircombo] = sol_dict\n",
    "\n",
    "# This final dictionary is unnecessary but\n",
    "# simplifies calling the replacements onto\n",
    "# a symbolic expression.\n",
    "\n",
    "print(\"Creating a dictionary with all the 2-symbol replacements ...\")\n",
    "super_solution_2 = {}\n",
    "for ircombo in all_sols_2:\n",
    "    super_solution_2.update(all_sols_2[ircombo])"
   ]
  },
  {
   "cell_type": "code",
   "execution_count": 1360,
   "id": "8a4de75d-4123-4491-be48-bd997e3d433b",
   "metadata": {},
   "outputs": [
    {
     "data": {
      "text/html": [
       "<pre>✔️ 35 ms (2021-11-18T11:54:31/2021-11-18T11:54:31)</pre>"
      ],
      "text/plain": [
       "<IPython.core.display.HTML object>"
      ]
     },
     "metadata": {},
     "output_type": "display_data"
    },
    {
     "data": {
      "text/plain": [
       "[(E, E, E, {\\gamma}, 0, 0), (E, E, E, {\\zeta}, 0, 0)]"
      ]
     },
     "execution_count": 1360,
     "metadata": {},
     "output_type": "execute_result"
    }
   ],
   "source": [
    "config_supplement[e_config][term]"
   ]
  },
  {
   "cell_type": "code",
   "execution_count": 1398,
   "id": "6046b602-e890-42c5-853a-75397fd8d8d9",
   "metadata": {},
   "outputs": [
    {
     "data": {
      "text/html": [
       "<pre>✔️ 25.8 ms (2021-11-18T12:12:55/2021-11-18T12:12:55)</pre>"
      ],
      "text/plain": [
       "<IPython.core.display.HTML object>"
      ]
     },
     "metadata": {},
     "output_type": "display_data"
    }
   ],
   "source": [
    "# for a given electron config\n",
    "more_ids = {ec:[] for ec in simple_config_matrices}\n",
    "for e_config in simple_config_matrices:\n",
    "    # for a given term\n",
    "    for term in simple_config_matrices[e_config]:\n",
    "#         more_ids[e_config][term] = []\n",
    "        the_matrix = simple_config_matrices[e_config][term]\n",
    "        num_rows = len(the_matrix)\n",
    "        num_cols = len(the_matrix)\n",
    "        the_state_keys = config_supplement[e_config][term]\n",
    "        the_key_matrix = {}\n",
    "        for row_idx in range(num_rows):\n",
    "            Γ3_row = the_state_keys[row_idx][2]\n",
    "            γ3_row = the_state_keys[row_idx][3]\n",
    "            for col_idx in range(num_cols):\n",
    "                Γ3_col = the_state_keys[col_idx][2]\n",
    "                γ3_col = the_state_keys[col_idx][3]\n",
    "                matrix_val = the_matrix[row_idx][col_idx]\n",
    "                the_key_matrix[(γ3_row,γ3_col)] = matrix_val\n",
    "        # now go over the keys of super_solution_2\n",
    "        # and if one of those keys matches with a key in the_key_matrix\n",
    "        # do something about it\n",
    "        for k in super_solution_2:\n",
    "            if k in the_key_matrix:\n",
    "                v = super_solution_2[k]\n",
    "                # this matrix element\n",
    "                matrix_element = the_key_matrix[k]\n",
    "                # must be identified with the sum\n",
    "                # as given in v\n",
    "                matrix_equiv = sum([kv*the_key_matrix[km] for km, kv in v.items()],Qet({}))\n",
    "                identity = (matrix_element - matrix_equiv) #=0\n",
    "                if len(identity.dict) != 0:\n",
    "                    more_ids[e_config].append(identity)"
   ]
  },
  {
   "cell_type": "code",
   "execution_count": 1427,
   "id": "75b67c0a-555c-4516-b4e0-f9e60d32f700",
   "metadata": {},
   "outputs": [
    {
     "data": {
      "text/html": [
       "<pre>✔️ 66.9 ms (2021-11-18T12:20:38/2021-11-18T12:20:38)</pre>"
      ],
      "text/plain": [
       "<IPython.core.display.HTML object>"
      ]
     },
     "metadata": {},
     "output_type": "display_data"
    },
    {
     "name": "stdout",
     "output_type": "stream",
     "text": [
      "Solving all...\n"
     ]
    }
   ],
   "source": [
    "# For each 4-tuple of irreps\n",
    "# create a system of symbolic solutions\n",
    "# and let sympy solve that.\n",
    "# For each 4-tuple of irreps\n",
    "# the end result is a dictionary\n",
    "# whose keys represent the dependent\n",
    "# brakets and whose values are the\n",
    "# relation that those dependent values\n",
    "# have with the independent brakets.\n",
    "# As such, when these dictionaries are\n",
    "# used on an expression, everything should\n",
    "# then be given in terms of indepedent brakets.\n",
    "\n",
    "print(\"Solving all...\")\n",
    "all_sols_2_4 = {irc:[] for irc in more_ids}\n",
    "for ircombo in more_ids:\n",
    "#     print(ircombo)\n",
    "    problem_vars = list(set(sum([list(identity.dict.keys()) for identity in more_ids[ircombo]],[])))\n",
    "    big_ma = [awe.vec_in_basis(problem_vars) for awe in more_ids[ircombo]] \n",
    "    big_mat = sp.Matrix(big_ma)\n",
    "    rref_mat, pivots = big_mat.rref()\n",
    "    num_rows = rref_mat.rows\n",
    "    num_cols = rref_mat.cols\n",
    "    rref_ma_non_zero = [rref_mat[row,:] for row in range(num_rows) if (sum(np.array(rref_mat[row,:])[0] == 0) != num_cols)]\n",
    "    rref_mat_non_zero = sp.Matrix(rref_ma_non_zero)\n",
    "    varvec = sp.Matrix(list(map(composite_symbol,problem_vars)))\n",
    "    eqns = rref_mat_non_zero*varvec\n",
    "#     display(eqns)\n",
    "    ssol = sp.solve(list(eqns), dict=True)\n",
    "    all_sols_2_4[ircombo] = ssol\n",
    "    assert len(ssol) in [0,1]\n",
    "    if len(ssol) == 0:\n",
    "        sol_dict = {}\n",
    "    else:\n",
    "        sol_dict = ssol[0]\n",
    "    sol_dict = {twotuplerecovery(k):{twotuplerecovery(s):v.coeff(s) for s in v.free_symbols} for k,v in sol_dict.items()}\n",
    "    all_sols_2_4[ircombo] = sol_dict\n",
    "\n",
    "fab_solution_2_4 = {}\n",
    "for ircombo in all_sols_2_4:\n",
    "    fab_solution_2_4.update(all_sols_2_4[ircombo])"
   ]
  },
  {
   "cell_type": "code",
   "execution_count": 1438,
   "id": "811f9876-dc69-4933-8b6d-0bb228fa746c",
   "metadata": {},
   "outputs": [
    {
     "data": {
      "text/html": [
       "<pre>✔️ 84.3 ms (2021-11-18T12:24:54/2021-11-18T12:24:54)</pre>"
      ],
      "text/plain": [
       "<IPython.core.display.HTML object>"
      ]
     },
     "metadata": {},
     "output_type": "display_data"
    },
    {
     "name": "stdout",
     "output_type": "stream",
     "text": [
      "-|-|-|-|-|-|-|-|"
     ]
    }
   ],
   "source": [
    "mega_solution = {}\n",
    "new_info_keys = set(fab_solution_2_4.keys())\n",
    "for k, v in super_solution.items():\n",
    "    # if any of the rhs keys in v\n",
    "    # is in all_sols_2_4\n",
    "    # use it to simplify it\n",
    "    v_keys = set(v.keys())\n",
    "    if len(v_keys.intersection(new_info_keys)) != 0:\n",
    "        new_qet = Qet({})\n",
    "        print('+',end='|')\n",
    "        for k,v in v.items():\n",
    "            if v in fab_solution_2_4:\n",
    "                for k0,v0 in fab_solution_2_4[v]:\n",
    "                    new_qet += v*Qet({k0:v0})\n",
    "            else:\n",
    "                new_qet += Qet({k:v})\n",
    "        new_dict = new_qet.dict\n",
    "        mega_solution[k] = new_dict\n",
    "    else:\n",
    "        mega_solution[k] = v"
   ]
  },
  {
   "cell_type": "code",
   "execution_count": 1441,
   "id": "2eba407c-8632-4df1-b304-9709446bd5be",
   "metadata": {},
   "outputs": [
    {
     "data": {
      "text/html": [
       "<pre>✔️ 25.4 ms (2021-11-18T12:28:09/2021-11-18T12:28:09)</pre>"
      ],
      "text/plain": [
       "<IPython.core.display.HTML object>"
      ]
     },
     "metadata": {},
     "output_type": "display_data"
    }
   ],
   "source": [
    "def simplifier_f(qet):\n",
    "    simp_ket = Qet({})\n",
    "    for k,v in qet.dict.items():\n",
    "        simp_ket += Qet({real_var_full_simplifier[k]:v})\n",
    "    true_qet = Qet({})\n",
    "    for k,v in simp_ket.dict.items():\n",
    "        if k in mega_solution:\n",
    "            true_qet += v*Qet(mega_solution[k])\n",
    "        else:\n",
    "            true_qet += Qet({k:v})\n",
    "    return true_qet.as_braket()\n",
    "def simplify_config_matrix_f(ir1ir2, S, ir3):\n",
    "    config_matrix = config_matrices[ir1ir2][(S,ir3)]\n",
    "    num_rows = len(config_matrix)\n",
    "    simple_matrix = [[simplifier_f(config_matrix[row][col]) for col in range(num_rows)] for row in range(num_rows)]\n",
    "    simple_matrix = sp.Matrix(simple_matrix)\n",
    "    return simple_matrix"
   ]
  },
  {
   "cell_type": "code",
   "execution_count": 1442,
   "id": "369cd0dc-4715-41c1-a6c0-c91c96c80fbd",
   "metadata": {},
   "outputs": [
    {
     "data": {
      "text/html": [
       "<pre>✔️ 218 ms (2021-11-18T12:28:09/2021-11-18T12:28:10)</pre>"
      ],
      "text/plain": [
       "<IPython.core.display.HTML object>"
      ]
     },
     "metadata": {},
     "output_type": "display_data"
    }
   ],
   "source": [
    "final_config_matrices = {k:{} for k in config_matrices}\n",
    "for ir1ir2 in config_matrices.keys():\n",
    "    for term_key in config_matrices[ir1ir2]:\n",
    "        S, Γ3 = term_key\n",
    "        final_config_matrices[ir1ir2][term_key] = simplify_config_matrix_f(ir1ir2, S, Γ3)"
   ]
  },
  {
   "cell_type": "code",
   "execution_count": 1455,
   "id": "c4e7bf50-e835-4361-8133-a5ec5322df89",
   "metadata": {},
   "outputs": [
    {
     "data": {
      "text/html": [
       "<pre>✔️ 12 ms (2021-11-18T14:06:13/2021-11-18T14:06:13)</pre>"
      ],
      "text/plain": [
       "<IPython.core.display.HTML object>"
      ]
     },
     "metadata": {},
     "output_type": "display_data"
    },
    {
     "data": {
      "text/plain": [
       "'e^{2}'"
      ]
     },
     "execution_count": 1455,
     "metadata": {},
     "output_type": "execute_result"
    }
   ],
   "source": [
    "sp.latex(ir1ir2)"
   ]
  },
  {
   "cell_type": "code",
   "execution_count": 1464,
   "id": "e112df53-436e-4b98-82f9-ed3878a793d3",
   "metadata": {},
   "outputs": [
    {
     "data": {
      "text/html": [
       "<pre>✔️ 14.1 ms (2021-11-18T14:07:23/2021-11-18T14:07:23)</pre>"
      ],
      "text/plain": [
       "<IPython.core.display.HTML object>"
      ]
     },
     "metadata": {},
     "output_type": "display_data"
    },
    {
     "data": {
      "text/latex": [
       "$\\displaystyle \\left\\langle {\\zeta}{\\zeta} \\right. {\\left|{\\gamma}{\\gamma}\\right\\rangle } + \\left\\langle {\\zeta}{\\zeta} \\right. {\\left|{\\zeta}{\\zeta}\\right\\rangle }$"
      ],
      "text/plain": [
       "<{\\zeta}{\\zeta}|{\\gamma}{\\gamma}> + <{\\zeta}{\\zeta}|{\\zeta}{\\zeta}>"
      ]
     },
     "execution_count": 1464,
     "metadata": {},
     "output_type": "execute_result"
    }
   ],
   "source": [
    "simple_config_matrices[sp.Symbol('e')*sp.Symbol('e')][(0,sp.Symbol('A_1'))][0][0].as_braket()"
   ]
  },
  {
   "cell_type": "code",
   "execution_count": 1460,
   "id": "31e4931e-ceb5-43c5-aa32-f7a7fedc3e9d",
   "metadata": {},
   "outputs": [
    {
     "data": {
      "text/html": [
       "<pre>✔️ 9.42 ms (2021-11-18T14:06:57/2021-11-18T14:06:57)</pre>"
      ],
      "text/plain": [
       "<IPython.core.display.HTML object>"
      ]
     },
     "metadata": {},
     "output_type": "display_data"
    },
    {
     "data": {
      "text/latex": [
       "$\\displaystyle \\left[\\begin{matrix}- \\frac{\\left\\langle {\\zeta}{\\gamma} \\right. {\\left|{\\zeta}{\\gamma}\\right\\rangle }}{2} + \\frac{\\left\\langle {\\zeta}{\\zeta} \\right. {\\left|{\\gamma}{\\gamma}\\right\\rangle }}{2} + \\left\\langle {\\zeta}{\\zeta} \\right. {\\left|{\\zeta}{\\zeta}\\right\\rangle }\\end{matrix}\\right]$"
      ],
      "text/plain": [
       "Matrix([[-<{\\zeta}{\\gamma}|{\\zeta}{\\gamma}>/2 + <{\\zeta}{\\zeta}|{\\gamma}{\\gamma}>/2 + <{\\zeta}{\\zeta}|{\\zeta}{\\zeta}>]])"
      ]
     },
     "execution_count": 1460,
     "metadata": {},
     "output_type": "execute_result"
    }
   ],
   "source": [
    "final_config_matrices[sp.Symbol('e')*sp.Symbol('e')][(0,sp.Symbol('A_1'))]"
   ]
  },
  {
   "cell_type": "code",
   "execution_count": 1453,
   "id": "6bac7da7-9172-4dfd-b625-4df4e50a7370",
   "metadata": {},
   "outputs": [
    {
     "data": {
      "text/html": [
       "<pre>✔️ 38.8 ms (2021-11-18T14:04:22/2021-11-18T14:04:22)</pre>"
      ],
      "text/plain": [
       "<IPython.core.display.HTML object>"
      ]
     },
     "metadata": {},
     "output_type": "display_data"
    },
    {
     "name": "stdout",
     "output_type": "stream",
     "text": [
      "----------\n"
     ]
    },
    {
     "data": {
      "text/latex": [
       "$\\displaystyle a_{1}^{2}$"
      ],
      "text/plain": [
       "a_{1}**2"
      ]
     },
     "metadata": {},
     "output_type": "display_data"
    },
    {
     "data": {
      "text/plain": [
       "(0, A_1)"
      ]
     },
     "metadata": {},
     "output_type": "display_data"
    },
    {
     "data": {
      "text/latex": [
       "$\\displaystyle \\left[\\begin{matrix}\\left\\langle {\\alpha}{\\alpha} \\right. {\\left|{\\alpha}{\\alpha}\\right\\rangle }\\end{matrix}\\right]$"
      ],
      "text/plain": [
       "Matrix([[<{\\alpha}{\\alpha}|{\\alpha}{\\alpha}>]])"
      ]
     },
     "metadata": {},
     "output_type": "display_data"
    },
    {
     "data": {
      "text/latex": [
       "$\\displaystyle \\left[\\begin{matrix}\\left\\langle {\\alpha}{\\alpha} \\right. {\\left|{\\alpha}{\\alpha}\\right\\rangle }\\end{matrix}\\right]$"
      ],
      "text/plain": [
       "Matrix([[<{\\alpha}{\\alpha}|{\\alpha}{\\alpha}>]])"
      ]
     },
     "metadata": {},
     "output_type": "display_data"
    },
    {
     "name": "stdout",
     "output_type": "stream",
     "text": [
      "----------\n"
     ]
    },
    {
     "data": {
      "text/latex": [
       "$\\displaystyle a_{2}^{2}$"
      ],
      "text/plain": [
       "a_{2}**2"
      ]
     },
     "metadata": {},
     "output_type": "display_data"
    },
    {
     "data": {
      "text/plain": [
       "(0, A_1)"
      ]
     },
     "metadata": {},
     "output_type": "display_data"
    },
    {
     "data": {
      "text/latex": [
       "$\\displaystyle \\left[\\begin{matrix}\\left\\langle {\\beta}{\\beta} \\right. {\\left|{\\beta}{\\beta}\\right\\rangle }\\end{matrix}\\right]$"
      ],
      "text/plain": [
       "Matrix([[<{\\beta}{\\beta}|{\\beta}{\\beta}>]])"
      ]
     },
     "metadata": {},
     "output_type": "display_data"
    },
    {
     "data": {
      "text/latex": [
       "$\\displaystyle \\left[\\begin{matrix}\\left\\langle {\\beta}{\\beta} \\right. {\\left|{\\beta}{\\beta}\\right\\rangle }\\end{matrix}\\right]$"
      ],
      "text/plain": [
       "Matrix([[<{\\beta}{\\beta}|{\\beta}{\\beta}>]])"
      ]
     },
     "metadata": {},
     "output_type": "display_data"
    },
    {
     "name": "stdout",
     "output_type": "stream",
     "text": [
      "----------\n"
     ]
    },
    {
     "data": {
      "text/latex": [
       "$\\displaystyle e^{2}$"
      ],
      "text/plain": [
       "e**2"
      ]
     },
     "metadata": {},
     "output_type": "display_data"
    },
    {
     "data": {
      "text/plain": [
       "(0, A_1)"
      ]
     },
     "metadata": {},
     "output_type": "display_data"
    },
    {
     "data": {
      "text/latex": [
       "$\\displaystyle \\left[\\begin{matrix}- \\frac{\\left\\langle {\\zeta}{\\gamma} \\right. {\\left|{\\zeta}{\\gamma}\\right\\rangle }}{2} + \\frac{\\left\\langle {\\zeta}{\\zeta} \\right. {\\left|{\\gamma}{\\gamma}\\right\\rangle }}{2} + \\left\\langle {\\zeta}{\\zeta} \\right. {\\left|{\\zeta}{\\zeta}\\right\\rangle }\\end{matrix}\\right]$"
      ],
      "text/plain": [
       "Matrix([[-<{\\zeta}{\\gamma}|{\\zeta}{\\gamma}>/2 + <{\\zeta}{\\zeta}|{\\gamma}{\\gamma}>/2 + <{\\zeta}{\\zeta}|{\\zeta}{\\zeta}>]])"
      ]
     },
     "metadata": {},
     "output_type": "display_data"
    },
    {
     "data": {
      "text/latex": [
       "$\\displaystyle \\left[\\begin{matrix}\\left\\langle {\\zeta}{\\zeta} \\right. {\\left|{\\gamma}{\\gamma}\\right\\rangle } + \\left\\langle {\\zeta}{\\zeta} \\right. {\\left|{\\zeta}{\\zeta}\\right\\rangle }\\end{matrix}\\right]$"
      ],
      "text/plain": [
       "Matrix([[<{\\zeta}{\\zeta}|{\\gamma}{\\gamma}> + <{\\zeta}{\\zeta}|{\\zeta}{\\zeta}>]])"
      ]
     },
     "metadata": {},
     "output_type": "display_data"
    },
    {
     "data": {
      "text/plain": [
       "(1, A_2)"
      ]
     },
     "metadata": {},
     "output_type": "display_data"
    },
    {
     "data": {
      "text/latex": [
       "$\\displaystyle \\left[\\begin{matrix}\\left\\langle {\\gamma}{\\zeta} \\right. {\\left|{\\gamma}{\\zeta}\\right\\rangle } - \\left\\langle {\\zeta}{\\zeta} \\right. {\\left|{\\gamma}{\\gamma}\\right\\rangle } & 0 & 0\\\\0 & \\frac{\\left\\langle {\\gamma}{\\zeta} \\right. {\\left|{\\gamma}{\\zeta}\\right\\rangle }}{2} + \\frac{\\left\\langle {\\zeta}{\\gamma} \\right. {\\left|{\\zeta}{\\gamma}\\right\\rangle }}{2} - \\left\\langle {\\zeta}{\\zeta} \\right. {\\left|{\\gamma}{\\gamma}\\right\\rangle } & 0\\\\0 & 0 & \\left\\langle {\\gamma}{\\zeta} \\right. {\\left|{\\gamma}{\\zeta}\\right\\rangle } - \\left\\langle {\\zeta}{\\zeta} \\right. {\\left|{\\gamma}{\\gamma}\\right\\rangle }\\end{matrix}\\right]$"
      ],
      "text/plain": [
       "Matrix([\n",
       "[<{\\gamma}{\\zeta}|{\\gamma}{\\zeta}> - <{\\zeta}{\\zeta}|{\\gamma}{\\gamma}>,                                                                                                             0,                                                                     0],\n",
       "[                                                                    0, <{\\gamma}{\\zeta}|{\\gamma}{\\zeta}>/2 + <{\\zeta}{\\gamma}|{\\zeta}{\\gamma}>/2 - <{\\zeta}{\\zeta}|{\\gamma}{\\gamma}>,                                                                     0],\n",
       "[                                                                    0,                                                                                                             0, <{\\gamma}{\\zeta}|{\\gamma}{\\zeta}> - <{\\zeta}{\\zeta}|{\\gamma}{\\gamma}>]])"
      ]
     },
     "metadata": {},
     "output_type": "display_data"
    },
    {
     "data": {
      "text/latex": [
       "$\\displaystyle \\left[\\begin{matrix}\\left\\langle {\\zeta}{\\gamma} \\right. {\\left|{\\zeta}{\\gamma}\\right\\rangle } - \\left\\langle {\\zeta}{\\zeta} \\right. {\\left|{\\gamma}{\\gamma}\\right\\rangle } & 0 & 0\\\\0 & \\left\\langle {\\zeta}{\\gamma} \\right. {\\left|{\\zeta}{\\gamma}\\right\\rangle } - \\left\\langle {\\zeta}{\\zeta} \\right. {\\left|{\\gamma}{\\gamma}\\right\\rangle } & 0\\\\0 & 0 & \\left\\langle {\\zeta}{\\gamma} \\right. {\\left|{\\zeta}{\\gamma}\\right\\rangle } - \\left\\langle {\\zeta}{\\zeta} \\right. {\\left|{\\gamma}{\\gamma}\\right\\rangle }\\end{matrix}\\right]$"
      ],
      "text/plain": [
       "Matrix([\n",
       "[<{\\zeta}{\\gamma}|{\\zeta}{\\gamma}> - <{\\zeta}{\\zeta}|{\\gamma}{\\gamma}>,                                                                     0,                                                                     0],\n",
       "[                                                                    0, <{\\zeta}{\\gamma}|{\\zeta}{\\gamma}> - <{\\zeta}{\\zeta}|{\\gamma}{\\gamma}>,                                                                     0],\n",
       "[                                                                    0,                                                                     0, <{\\zeta}{\\gamma}|{\\zeta}{\\gamma}> - <{\\zeta}{\\zeta}|{\\gamma}{\\gamma}>]])"
      ]
     },
     "metadata": {},
     "output_type": "display_data"
    },
    {
     "data": {
      "text/plain": [
       "(0, E)"
      ]
     },
     "metadata": {},
     "output_type": "display_data"
    },
    {
     "data": {
      "text/latex": [
       "$\\displaystyle \\left[\\begin{matrix}- \\frac{\\left\\langle {\\zeta}{\\gamma} \\right. {\\left|{\\zeta}{\\gamma}\\right\\rangle }}{2} - \\frac{3 \\left\\langle {\\zeta}{\\zeta} \\right. {\\left|{\\gamma}{\\gamma}\\right\\rangle }}{2} + \\left\\langle {\\zeta}{\\zeta} \\right. {\\left|{\\zeta}{\\zeta}\\right\\rangle } & 0\\\\0 & \\frac{\\left\\langle {\\gamma}{\\zeta} \\right. {\\left|{\\gamma}{\\zeta}\\right\\rangle }}{2} + \\frac{\\left\\langle {\\zeta}{\\gamma} \\right. {\\left|{\\zeta}{\\gamma}\\right\\rangle }}{2} + \\left\\langle {\\zeta}{\\zeta} \\right. {\\left|{\\gamma}{\\gamma}\\right\\rangle }\\end{matrix}\\right]$"
      ],
      "text/plain": [
       "Matrix([\n",
       "[-<{\\zeta}{\\gamma}|{\\zeta}{\\gamma}>/2 - 3*<{\\zeta}{\\zeta}|{\\gamma}{\\gamma}>/2 + <{\\zeta}{\\zeta}|{\\zeta}{\\zeta}>,                                                                                                             0],\n",
       "[                                                                                                             0, <{\\gamma}{\\zeta}|{\\gamma}{\\zeta}>/2 + <{\\zeta}{\\gamma}|{\\zeta}{\\gamma}>/2 + <{\\zeta}{\\zeta}|{\\gamma}{\\gamma}>]])"
      ]
     },
     "metadata": {},
     "output_type": "display_data"
    },
    {
     "data": {
      "text/latex": [
       "$\\displaystyle \\left[\\begin{matrix}- \\left\\langle {\\zeta}{\\zeta} \\right. {\\left|{\\gamma}{\\gamma}\\right\\rangle } + \\left\\langle {\\zeta}{\\zeta} \\right. {\\left|{\\zeta}{\\zeta}\\right\\rangle } & 0\\\\0 & \\left\\langle {\\zeta}{\\gamma} \\right. {\\left|{\\zeta}{\\gamma}\\right\\rangle } + \\left\\langle {\\zeta}{\\zeta} \\right. {\\left|{\\gamma}{\\gamma}\\right\\rangle }\\end{matrix}\\right]$"
      ],
      "text/plain": [
       "Matrix([\n",
       "[-<{\\zeta}{\\zeta}|{\\gamma}{\\gamma}> + <{\\zeta}{\\zeta}|{\\zeta}{\\zeta}>,                                                                     0],\n",
       "[                                                                   0, <{\\zeta}{\\gamma}|{\\zeta}{\\gamma}> + <{\\zeta}{\\zeta}|{\\gamma}{\\gamma}>]])"
      ]
     },
     "metadata": {},
     "output_type": "display_data"
    }
   ],
   "source": [
    "# print them out\n",
    "for counter, ir1ir2 in enumerate(final_config_matrices):\n",
    "    print('-'*10)\n",
    "    display(ir1ir2)\n",
    "    for term_key in final_config_matrices[ir1ir2]:\n",
    "        display(term_key)\n",
    "        display(final_config_matrices[ir1ir2][term_key])\n",
    "        display(sp.Matrix([[k.as_braket() for k in row] for row in simple_config_matrices[ir1ir2][term_key]]))\n",
    "    if counter == 2:\n",
    "        break"
   ]
  },
  {
   "cell_type": "markdown",
   "id": "dda23a26-91c9-4428-bb9c-23a81536ea1a",
   "metadata": {
    "heading_collapsed": "true",
    "tags": []
   },
   "source": [
    "### Improving notation for components"
   ]
  },
  {
   "cell_type": "code",
   "execution_count": 640,
   "id": "8b42a22e-1306-4f04-8cb9-4f346392ac96",
   "metadata": {},
   "outputs": [
    {
     "data": {
      "text/html": [
       "<pre>✔️ 18.8 ms (2021-11-16T15:24:41/2021-11-16T15:24:42)</pre>"
      ],
      "text/plain": [
       "<IPython.core.display.HTML object>"
      ]
     },
     "metadata": {},
     "output_type": "display_data"
    }
   ],
   "source": [
    "# def notation_maker(group)\n",
    "greek = 'alpha beta gamma zeta eta mu nu xi phi chi omega'\n",
    "greek_alphabet = [sp.Symbol(r'\\%s' % g) for g in greek.split(' ')]\n",
    "new_labels = []\n",
    "for group_label in CPGs.all_group_labels:\n",
    "    group = CPGs.get_group_by_label(group_label)\n",
    "    # get the irrep symbols\n",
    "    irrep_symbols = group.irrep_labels\n",
    "    # get the irrep dims\n",
    "    irrep_dims = group.irrep_dims\n",
    "    # separate them according to their dimension\n",
    "    dims = list(set(irrep_dims.values()))\n",
    "    irrep_symbols = OrderedDict([(dim, ([isymb for isymb in irrep_symbols if irrep_dims[isymb]==dim])) for dim in dims])\n",
    "    irrep_symbols = OrderedDict([(k,sorted(v, key = lambda x: sp.latex(x))) for k,v in irrep_symbols.items()])\n",
    "    irrep_symbols = sum(list(irrep_symbols.values()),[])\n",
    "    asymb = str(irrep_symbols[0])\n",
    "    if 'g' in asymb or 'u' in asymb:\n",
    "        irrep_symbols_u = [i for i in irrep_symbols if 'u' in str(i)]\n",
    "        irrep_symbols_v = [i for i in irrep_symbols if 'g' in str(i)]\n",
    "        component_labels = {ir:OrderedDict() for ir in group.irrep_labels}\n",
    "        counter = 0\n",
    "        for irrep_symbol in irrep_symbols_u:\n",
    "            old_components = group.component_labels[irrep_symbol]\n",
    "            for old_component in old_components:\n",
    "                component_labels[irrep_symbol][old_component] = sp.Symbol('{%s}_{u}' % (sp.latex(greek_alphabet[counter])))\n",
    "                counter += 1\n",
    "        counter = 0\n",
    "        for irrep_symbol in irrep_symbols_v:\n",
    "            old_components = group.component_labels[irrep_symbol]\n",
    "            for old_component in old_components:\n",
    "                component_labels[irrep_symbol][old_component] = sp.Symbol('{%s}_{g}' % (sp.latex(greek_alphabet[counter])))\n",
    "                counter += 1\n",
    "    elif group_label in ['C_{6h}','C_{4h}']:\n",
    "        component_labels = {ir:OrderedDict() for ir in group.irrep_labels}\n",
    "        counter = 0\n",
    "        for irrep_symbol in irrep_symbols:\n",
    "            old_components = group.component_labels[irrep_symbol]\n",
    "            for old_component in old_components:\n",
    "                component_labels[irrep_symbol][old_component] = sp.Symbol('{\\gamma}_{%d}' % (counter+1))\n",
    "                counter += 1\n",
    "    else:\n",
    "        component_labels = {ir:OrderedDict() for ir in group.irrep_labels}\n",
    "        counter = 0\n",
    "        for irrep_symbol in irrep_symbols:\n",
    "            old_components = group.component_labels[irrep_symbol]\n",
    "            for old_component in old_components:\n",
    "                component_labels[irrep_symbol][old_component] = sp.Symbol('{%s}' % sp.latex(greek_alphabet[counter]))\n",
    "                counter += 1\n",
    "    new_labels.append((group_label, component_labels))\n",
    "new_labels = OrderedDict(new_labels)"
   ]
  },
  {
   "cell_type": "code",
   "execution_count": 169,
   "id": "fe2bfec6-a162-429b-a8e3-1db524c636d0",
   "metadata": {},
   "outputs": [
    {
     "data": {
      "text/html": [
       "<pre>✔️ 26.2 ms (2021-11-15T12:37:56/2021-11-15T12:37:56)</pre>"
      ],
      "text/plain": [
       "<IPython.core.display.HTML object>"
      ]
     },
     "metadata": {},
     "output_type": "display_data"
    },
    {
     "data": {
      "text/plain": [
       "18473"
      ]
     },
     "execution_count": 169,
     "metadata": {},
     "output_type": "execute_result"
    }
   ],
   "source": [
    "outlines = []\n",
    "for group_label in CPGs.all_group_labels:\n",
    "    outlines.append(\"\\\\subsection{Group : ${%s}$}\" % group_label)\n",
    "#     if group_label != 'O':\n",
    "#         continue\n",
    "    group = CPGs.get_group_by_label(group_label)\n",
    "    irrep_symbols = group.irrep_labels\n",
    "    components = group.component_labels\n",
    "    for irrep in irrep_symbols:\n",
    "        these_components = ','.join(list(map(sp.latex,components[irrep])))\n",
    "        these_new_components = ','.join(list(map(lambda x: sp.latex(new_labels[group_label][irrep][x]),components[irrep])))\n",
    "        outlines.append('\\n\\\\noindent$%s: %s $\\n\\\\vspace{0.1cm}\\n' % (sp.latex(irrep),these_components))\n",
    "        outlines.append('\\n\\\\noindent$%s: %s $\\n\\\\vspace{0.5cm}\\n' % (sp.latex(irrep),these_new_components))\n",
    "final_output = '\\n'.join(outlines).replace(\"^'\",\"^{'}\").replace(\"^''\",\"^{''}\")\n",
    "open('/Users/juan/Library/Mobile Documents/com~apple~CloudDocs/iCloudFiles/Theoretical Division/ComponentLabeling-rosetta.tex','w').write(final_output)"
   ]
  },
  {
   "cell_type": "markdown",
   "id": "a6a6ac33-4297-49e8-a067-bbfbc146c157",
   "metadata": {
    "heading_collapsed": "true",
    "tags": []
   },
   "source": [
    "### Spin-orbitals (see qdef-tables.tex)"
   ]
  },
  {
   "cell_type": "code",
   "execution_count": 3,
   "id": "fcd6e6ff-9701-45c4-aa34-ed7ec7d35ee1",
   "metadata": {},
   "outputs": [
    {
     "data": {
      "text/html": [
       "<pre>✔️ 96.7 ms (2021-11-16T15:27:52/2021-11-16T15:27:53)</pre>"
      ],
      "text/plain": [
       "<IPython.core.display.HTML object>"
      ]
     },
     "metadata": {},
     "output_type": "display_data"
    }
   ],
   "source": [
    "new_labels = pickle.load(open('./Data/components_rosetta.pkl','rb'))"
   ]
  },
  {
   "cell_type": "code",
   "execution_count": 4,
   "id": "e691089f-a01a-4cd0-a701-f946e62880d4",
   "metadata": {},
   "outputs": [
    {
     "data": {
      "text/html": [
       "<pre>✔️ 52 ms (2021-11-16T15:27:57/2021-11-16T15:27:57)</pre>"
      ],
      "text/plain": [
       "<IPython.core.display.HTML object>"
      ]
     },
     "metadata": {},
     "output_type": "display_data"
    },
    {
     "data": {
      "text/plain": [
       "31183"
      ]
     },
     "execution_count": 4,
     "metadata": {},
     "output_type": "execute_result"
    }
   ],
   "source": [
    "# with new labels\n",
    "group_chunks = []\n",
    "for group_label in CPGs.all_group_labels:\n",
    "    group = CPGs.get_group_by_label(group_label)\n",
    "    all_spin_combos = OrderedDict()\n",
    "    spin_states = [sp.Symbol(r'\\alpha'), sp.Symbol(r'\\beta')]\n",
    "    group.new_component_labels = {ir:list(new_labels[group_label][ir].values()) for ir in group.irrep_labels}\n",
    "    for irrep in group.irrep_labels:\n",
    "        spin_orbitals = []\n",
    "        for component0, component1 in product(group.new_component_labels[irrep],group.new_component_labels[irrep]):\n",
    "            for s0, s1 in product(spin_states,spin_states):\n",
    "                spin_orbital = (component0, component1, s0, s1)\n",
    "                if (component1, component0, s1, s0) not in spin_orbitals:\n",
    "                    if (component1, s1) != (component0, s0):\n",
    "                        spin_orbitals.append(spin_orbital)\n",
    "        spin_orbital_symbols = {}\n",
    "        for spin_orbital in spin_orbitals:\n",
    "            component0, component1, s0, s1 = spin_orbital\n",
    "            if s0 == spin_states[0]:\n",
    "                cstar0 = sp.latex(component0)\n",
    "            else:\n",
    "                cstar0 = r'\\overline{%s}' % sp.latex(component0)\n",
    "            if s1 == spin_states[0]:\n",
    "                cstar1 = sp.latex(component1)\n",
    "            else:\n",
    "                cstar1 = r'\\overline{%s}' % sp.latex(component1)\n",
    "            spin_orbital_symbols[spin_orbital] = sp.Symbol(r'$|%s%s|$' % (cstar0, cstar1))\n",
    "        all_slater_symbols = []\n",
    "        for s in list(spin_orbital_symbols.values()):\n",
    "            all_slater_symbols.append(sp.latex(s))\n",
    "        all_slater_symbols = ', '.join(all_slater_symbols)\n",
    "        all_slater_symbols = '\\\\begin{center}\\n%s\\n\\\\end{center}' % all_slater_symbols\n",
    "        all_slater_symbols = ('\\\\begin{center}\\n $%s{\\\\cdot}%s:$ \\n\\\\end{center}\\n\\n' % (sp.latex(irrep),sp.latex(irrep))) + all_slater_symbols\n",
    "        all_spin_combos[irrep] = all_slater_symbols\n",
    "    final_output = '\\n\\n'.join(all_spin_combos.values())\n",
    "    final_output = ('\\\\hrulefill \\n \\\\begin{center} Group $%s$ \\\\end{center} \\n' % group_label) + final_output\n",
    "    group_chunks.append(final_output)\n",
    "super_output = '\\n'.join(group_chunks)\n",
    "super_output = super_output.replace(\"^'\",\"^{'}\").replace(\"^''\",\"^{''}\")\n",
    "open('//Users/juan/Library/Mobile Documents/com~apple~CloudDocs/iCloudFiles/Theoretical Division/spin-orbitals.tex','w').write(super_output)"
   ]
  },
  {
   "cell_type": "code",
   "execution_count": 638,
   "id": "b762900b-7a04-47fc-a673-64c2f4873ff8",
   "metadata": {},
   "outputs": [
    {
     "data": {
      "text/html": [
       "<pre>✔️ 112 ms (2021-11-16T15:22:05/2021-11-16T15:22:05)</pre>"
      ],
      "text/plain": [
       "<IPython.core.display.HTML object>"
      ]
     },
     "metadata": {},
     "output_type": "display_data"
    }
   ],
   "source": [
    "pickle.dump(new_labels, open('./Data/components_rosetta.pkl','wb'))"
   ]
  },
  {
   "cell_type": "code",
   "execution_count": 639,
   "id": "36d2ed4a-30d7-4a72-9af1-6ab53dbd9038",
   "metadata": {},
   "outputs": [
    {
     "data": {
      "text/html": [
       "<pre>✔️ 9.32 ms (2021-11-16T15:24:04/2021-11-16T15:24:04)</pre>"
      ],
      "text/plain": [
       "<IPython.core.display.HTML object>"
      ]
     },
     "metadata": {},
     "output_type": "display_data"
    }
   ],
   "source": [
    "# group_chunks = []\n",
    "# for group_label in CPGs.all_group_labels:\n",
    "#     group = CPGs.get_group_by_label(group_label)\n",
    "#     all_spin_combos = OrderedDict()\n",
    "#     spin_states = [sp.Symbol(r'\\alpha'), sp.Symbol(r'\\beta')]\n",
    "#     for irrep in group.irrep_labels:\n",
    "#         spin_orbitals = []\n",
    "#         for component0, component1 in product(group.component_labels[irrep],group.component_labels[irrep]):\n",
    "#             for s0, s1 in product(spin_states,spin_states):\n",
    "#                 spin_orbital = (component0, component1, s0, s1)\n",
    "#                 if (component1, component0, s1, s0) not in spin_orbitals:\n",
    "#                     if (component1, s1) != (component0, s0):\n",
    "#                         spin_orbitals.append(spin_orbital)\n",
    "#         spin_orbital_symbols = {}\n",
    "#         for spin_orbital in spin_orbitals:\n",
    "#             component0, component1, s0, s1 = spin_orbital\n",
    "#             if s0 == spin_states[0]:\n",
    "#                 cstar0 = sp.latex(component0)\n",
    "#             else:\n",
    "#                 cstar0 = r'\\overline{%s}' % sp.latex(component0)\n",
    "#             if s1 == spin_states[0]:\n",
    "#                 cstar1 = sp.latex(component1)\n",
    "#             else:\n",
    "#                 cstar1 = r'\\overline{%s}' % sp.latex(component1)\n",
    "#             spin_orbital_symbols[spin_orbital] = sp.Symbol(r'$|%s%s|$' % (cstar0, cstar1))\n",
    "#         all_slater_symbols = []\n",
    "#         for s in list(spin_orbital_symbols.values()):\n",
    "#             all_slater_symbols.append(sp.latex(s))\n",
    "#         all_slater_symbols = ', '.join(all_slater_symbols)\n",
    "#         all_slater_symbols = '\\\\begin{center}\\n%s\\n\\\\end{center}' % all_slater_symbols\n",
    "#         all_slater_symbols = ('\\\\begin{center}\\n $%s{\\\\cdot}%s:$ \\n\\\\end{center}\\n\\n' % (sp.latex(irrep),sp.latex(irrep))) + all_slater_symbols\n",
    "#         all_spin_combos[irrep] = all_slater_symbols\n",
    "#     final_output = '\\n\\n'.join(all_spin_combos.values())\n",
    "#     final_output = ('\\\\hrulefill \\n \\\\begin{center} Group $%s$ \\\\end{center} \\n' % group_label) + final_output\n",
    "#     group_chunks.append(final_output)\n",
    "# super_output = '\\n'.join(group_chunks)\n",
    "# super_output = super_output.replace(\"^'\",\"^{'}\").replace(\"^''\",\"^{''}\")\n",
    "# open('//Users/juan/Library/Mobile Documents/com~apple~CloudDocs/iCloudFiles/Theoretical Division/spin-orbitals.tex','w').write(super_output)"
   ]
  },
  {
   "cell_type": "markdown",
   "id": "12fb8f73-2670-464b-bc70-f340b7d3781c",
   "metadata": {
    "tags": []
   },
   "source": [
    "### 2e Terms and their wavefunctions"
   ]
  },
  {
   "cell_type": "code",
   "execution_count": 512,
   "id": "fa3dd533-237e-4032-9725-701b851a7da0",
   "metadata": {},
   "outputs": [
    {
     "data": {
      "text/html": [
       "<pre>✔️ 346 µs (2021-11-22T17:22:16/2021-11-22T17:22:16)</pre>"
      ],
      "text/plain": [
       "<IPython.core.display.HTML object>"
      ]
     },
     "metadata": {},
     "output_type": "display_data"
    }
   ],
   "source": [
    "from sympy.physics.wigner import clebsch_gordan as ClebschG"
   ]
  },
  {
   "cell_type": "code",
   "execution_count": 513,
   "id": "472db5c5-ef22-4458-87ef-d5f0c105fd32",
   "metadata": {},
   "outputs": [
    {
     "data": {
      "text/html": [
       "<pre>✔️ 51.2 ms (2021-11-22T17:22:17/2021-11-22T17:22:17)</pre>"
      ],
      "text/plain": [
       "<IPython.core.display.HTML object>"
      ]
     },
     "metadata": {},
     "output_type": "display_data"
    }
   ],
   "source": [
    "term_energies_for_printout = pickle.load(open('./data/term_energies_for_print_1637619241.pkl','rb'))\n",
    "# term_energies_for_printout = pickle.load(open('./data/term_energies_for_print_alt.pkl','rb'))"
   ]
  },
  {
   "cell_type": "code",
   "execution_count": 514,
   "id": "b79dd5e9-3bed-4615-93e5-640b96a7aeed",
   "metadata": {},
   "outputs": [
    {
     "data": {
      "text/html": [
       "<pre>✔️ 358 µs (2021-11-22T17:22:17/2021-11-22T17:22:17)</pre>"
      ],
      "text/plain": [
       "<IPython.core.display.HTML object>"
      ]
     },
     "metadata": {},
     "output_type": "display_data"
    }
   ],
   "source": [
    "# for key, qet in term_energies_for_printout.items():\n",
    "#     truth = list(map(lambda x: sp.im(x) == 0,qet.dict.values()))\n",
    "#     if len(truth) > 1:\n",
    "#         break\n",
    "#     if not all(truth):\n",
    "#         print(\"wups\")\n",
    "#         break"
   ]
  },
  {
   "cell_type": "code",
   "execution_count": 515,
   "id": "f9394510-19fd-4fde-8940-2a7408eb3431",
   "metadata": {},
   "outputs": [
    {
     "data": {
      "text/html": [
       "<pre>✔️ 680 µs (2021-11-22T17:22:17/2021-11-22T17:22:17)</pre>"
      ],
      "text/plain": [
       "<IPython.core.display.HTML object>"
      ]
     },
     "metadata": {},
     "output_type": "display_data"
    }
   ],
   "source": [
    "def det_simplify(qet):\n",
    "    '''\n",
    "    Simplification from antisymmetry of composing elements.\n",
    "    '''\n",
    "    qet_dict = qet.dict\n",
    "    best_qet = {}\n",
    "    for key, coeff in qet_dict.items():\n",
    "        ikey = (*key[3:],*key[:3])\n",
    "        current_keys = list(best_qet.keys())\n",
    "        if ikey in current_keys:\n",
    "            best_qet[ikey] += -coeff\n",
    "            continue\n",
    "        if key not in current_keys:\n",
    "            best_qet[key] = coeff\n",
    "        else:\n",
    "            best_qet[key] += coeff\n",
    "    return Qet(best_qet)"
   ]
  },
  {
   "cell_type": "code",
   "execution_count": 516,
   "id": "ee2fce57-c617-416d-8343-6d09222d58cc",
   "metadata": {},
   "outputs": [
    {
     "data": {
      "text/html": [
       "<pre>✔️ 434 µs (2021-11-22T17:22:17/2021-11-22T17:22:17)</pre>"
      ],
      "text/plain": [
       "<IPython.core.display.HTML object>"
      ]
     },
     "metadata": {},
     "output_type": "display_data"
    }
   ],
   "source": [
    "# this is now included in qdefcore\n",
    "# class Term():\n",
    "#     '''\n",
    "#     To  represent  a  term,  this  object  holds the states that\n",
    "#     correspond  to  it,  and offers a few methods in to view the\n",
    "#     enclosed wave functions.\n",
    "#     '''\n",
    "#     def __init__(self, init_dict):\n",
    "#         for k,v in init_dict.items():\n",
    "#             setattr(self, k, v)\n",
    "#         self.term_prototype = sp.Symbol(r'{{}}^{{{M}}}{ir}')\n",
    "#         self.state_label_prototype = sp.Symbol(r'\\Psi({α}, {S}, {{{Γ}}}, {M_s}, {γ})')\n",
    "#     def term_symbol(self):\n",
    "#         return sp.Symbol(str(self.term_prototype).format(M=str(2*self.S+1),ir=str(sp.latex(self.irrep))))\n",
    "#     def make_state_symbols(self):\n",
    "#         state_symbols = []\n",
    "#         for qet, state_key in zip(self.states, self.state_keys):\n",
    "#             (Γ1, Γ2, Γ3, γ3, S, mSz) = state_key\n",
    "#             ket = qet.as_ket(fold_keys=True)\n",
    "#             ket_symbol = sp.latex(ket).replace('\\\\right\\\\rangle','\\\\right|')\n",
    "#             α = Γ1*Γ2\n",
    "#             term_symb = self.term_symbol()\n",
    "#             state_symbol = '\\\\Psi(%s,%s,M\\!=\\!%d,%s)' % (sp.latex(α).lower(), term_symb, mSz, sp.latex(γ3))\n",
    "#             state_symbols.append((state_symbol, ket_symbol))\n",
    "#         return state_symbols\n",
    "#     def __str__(self):\n",
    "#         return (self.term_symbol())\n",
    "#     def __repr__(self):\n",
    "#         return '%s: %d states' % (str(self.term_symbol()), len(self.states))"
   ]
  },
  {
   "cell_type": "code",
   "execution_count": 517,
   "id": "e5546e50-95b8-4f98-a4b1-980d2ca27b2b",
   "metadata": {},
   "outputs": [
    {
     "data": {
      "text/html": [
       "<pre>✔️ 905 µs (2021-11-22T17:22:17/2021-11-22T17:22:17)</pre>"
      ],
      "text/plain": [
       "<IPython.core.display.HTML object>"
      ]
     },
     "metadata": {},
     "output_type": "display_data"
    }
   ],
   "source": [
    "def as_determinantal_ket(qet):\n",
    "    qdict = {}\n",
    "    for k,v in qet.dict.items():\n",
    "        if k[1] >= 0:\n",
    "            k0 = sp.Symbol(str(k[0]))\n",
    "        else:\n",
    "            k0 = sp.Symbol('\\\\overline{%s}'%str(k[0]))\n",
    "        if k[3] >= 0:\n",
    "            k1 = sp.Symbol(str(k[2]))\n",
    "        else:\n",
    "            k1 = sp.Symbol('\\\\overline{%s}'%str(k[2]))\n",
    "        qdict[(k0,k1)] = v\n",
    "    qet = Qet(qdict)\n",
    "    qet = qet*(1/qet.norm())\n",
    "    ket = qet.as_ket(fold_keys=True)\n",
    "    ket = sp.latex(ket).replace('\\\\right\\\\rangle','\\\\right|')\n",
    "    return sp.Symbol(ket), qet"
   ]
  },
  {
   "cell_type": "code",
   "execution_count": 518,
   "id": "bc90eaea-73e8-40ab-9de1-81f54dabf2aa",
   "metadata": {},
   "outputs": [
    {
     "data": {
      "text/html": [
       "<pre>✔️ 661 µs (2021-11-22T17:22:17/2021-11-22T17:22:17)</pre>"
      ],
      "text/plain": [
       "<IPython.core.display.HTML object>"
      ]
     },
     "metadata": {},
     "output_type": "display_data"
    }
   ],
   "source": [
    "# qet = Qet({(str(i),str(i)*2):i for i in range(10)})\n",
    "# chunk_size = 3\n",
    "# qet_parts = list(qet.dict.items())\n",
    "# qets = [Qet(dict(qet_parts[i:(i+chunk_size)])) for i in range(0,len(qet_parts),chunk_size)]\n",
    "# lqets = ([sp.latex(qet.as_braket()).replace('|','||').replace(r'\\right.',r'\\right.\\!\\!') for qet in qets])"
   ]
  },
  {
   "cell_type": "code",
   "execution_count": 519,
   "id": "c3965dab-abb8-449c-8b1a-d71e759f7269",
   "metadata": {
    "tags": []
   },
   "outputs": [
    {
     "data": {
      "text/html": [
       "<pre>✔️ 36 s (2021-11-22T17:22:18/2021-11-22T17:22:54)</pre>"
      ],
      "text/plain": [
       "<IPython.core.display.HTML object>"
      ]
     },
     "metadata": {},
     "output_type": "display_data"
    },
    {
     "name": "stdout",
     "output_type": "stream",
     "text": [
      "Working on group C_{1} ...\n",
      "computing partial sums...\n",
      "summing out inner parts ...\n",
      "term collection truck ...\n",
      "Manufacturing latex output ....\n",
      "Working on group C_{i} ...\n",
      "computing partial sums...\n",
      "summing out inner parts ...\n",
      "term collection truck ...\n",
      "Manufacturing latex output ....\n",
      "Working on group C_{2} ...\n",
      "computing partial sums...\n",
      "summing out inner parts ...\n",
      "term collection truck ...\n",
      "Manufacturing latex output ....\n",
      "Working on group C_{s} ...\n",
      "computing partial sums...\n",
      "summing out inner parts ...\n",
      "term collection truck ...\n",
      "Manufacturing latex output ....\n",
      "Working on group C_{2h} ...\n",
      "computing partial sums...\n",
      "summing out inner parts ...\n",
      "term collection truck ...\n",
      "Manufacturing latex output ....\n",
      "Working on group D_{2} ...\n",
      "computing partial sums...\n",
      "summing out inner parts ...\n",
      "term collection truck ...\n",
      "Manufacturing latex output ....\n",
      "Working on group C_{2v} ...\n",
      "computing partial sums...\n",
      "summing out inner parts ...\n",
      "term collection truck ...\n",
      "Manufacturing latex output ....\n",
      "Working on group D_{2h} ...\n",
      "computing partial sums...\n",
      "summing out inner parts ...\n",
      "term collection truck ...\n",
      "Manufacturing latex output ....\n",
      "Working on group C_{4} ...\n",
      "computing partial sums...\n",
      "summing out inner parts ...\n",
      "term collection truck ...\n",
      "Manufacturing latex output ....\n",
      "Working on group S_{4} ...\n",
      "computing partial sums...\n",
      "summing out inner parts ...\n",
      "term collection truck ...\n",
      "Manufacturing latex output ....\n",
      "Working on group C_{4h} ...\n",
      "computing partial sums...\n",
      "summing out inner parts ...\n",
      "term collection truck ...\n",
      "Manufacturing latex output ....\n",
      "Working on group D_{4} ...\n",
      "computing partial sums...\n",
      "summing out inner parts ...\n",
      "term collection truck ...\n",
      "Manufacturing latex output ....\n",
      "Working on group C_{4v} ...\n",
      "computing partial sums...\n",
      "summing out inner parts ...\n",
      "term collection truck ...\n",
      "Manufacturing latex output ....\n",
      "Working on group D_{2d} ...\n",
      "computing partial sums...\n",
      "summing out inner parts ...\n",
      "term collection truck ...\n",
      "Manufacturing latex output ....\n",
      "Working on group D_{4h} ...\n",
      "computing partial sums...\n",
      "summing out inner parts ...\n",
      "term collection truck ...\n",
      "Manufacturing latex output ....\n",
      "Working on group C_{3} ...\n",
      "computing partial sums...\n",
      "summing out inner parts ...\n",
      "term collection truck ...\n",
      "Manufacturing latex output ....\n",
      "Working on group S_{6} ...\n",
      "computing partial sums...\n",
      "summing out inner parts ...\n",
      "term collection truck ...\n",
      "Manufacturing latex output ....\n",
      "Working on group D_{3} ...\n",
      "computing partial sums...\n",
      "summing out inner parts ...\n",
      "term collection truck ...\n",
      "Manufacturing latex output ....\n",
      "Working on group C_{3v} ...\n",
      "computing partial sums...\n",
      "summing out inner parts ...\n",
      "term collection truck ...\n",
      "Manufacturing latex output ....\n",
      "Working on group D_{3d} ...\n",
      "computing partial sums...\n",
      "summing out inner parts ...\n",
      "term collection truck ...\n",
      "Manufacturing latex output ....\n",
      "Working on group C_{6} ...\n",
      "computing partial sums...\n",
      "summing out inner parts ...\n",
      "term collection truck ...\n",
      "Manufacturing latex output ....\n",
      "Working on group C_{3h} ...\n",
      "computing partial sums...\n",
      "summing out inner parts ...\n",
      "term collection truck ...\n",
      "Manufacturing latex output ....\n",
      "Working on group C_{6h} ...\n",
      "computing partial sums...\n",
      "summing out inner parts ...\n",
      "term collection truck ...\n",
      "Manufacturing latex output ....\n",
      "Working on group D_{6} ...\n",
      "computing partial sums...\n",
      "summing out inner parts ...\n",
      "term collection truck ...\n",
      "Manufacturing latex output ....\n",
      "Working on group C_{6v} ...\n",
      "computing partial sums...\n",
      "summing out inner parts ...\n",
      "term collection truck ...\n",
      "Manufacturing latex output ....\n",
      "Working on group D_{3h} ...\n",
      "computing partial sums...\n",
      "summing out inner parts ...\n",
      "term collection truck ...\n",
      "Manufacturing latex output ....\n",
      "Working on group D_{6h} ...\n",
      "computing partial sums...\n",
      "summing out inner parts ...\n",
      "term collection truck ...\n",
      "Manufacturing latex output ....\n",
      "Working on group T ...\n",
      "computing partial sums...\n",
      "summing out inner parts ...\n",
      "term collection truck ...\n",
      "Manufacturing latex output ....\n",
      "Working on group T_{h} ...\n",
      "computing partial sums...\n",
      "summing out inner parts ...\n",
      "term collection truck ...\n",
      "Manufacturing latex output ....\n",
      "Working on group O ...\n",
      "computing partial sums...\n",
      "summing out inner parts ...\n",
      "term collection truck ...\n",
      "Manufacturing latex output ....\n",
      "Working on group T_{d} ...\n",
      "computing partial sums...\n",
      "summing out inner parts ...\n",
      "term collection truck ...\n",
      "Manufacturing latex output ....\n",
      "Working on group O_{h} ...\n",
      "computing partial sums...\n",
      "summing out inner parts ...\n",
      "term collection truck ...\n",
      "Manufacturing latex output ....\n",
      "saving to file ...\n",
      "Saving to pickle ...\n"
     ]
    }
   ],
   "source": [
    "# with new labels and checking for num of waves\n",
    "def format_empheq(qet):\n",
    "    chunk_size = 3\n",
    "    qet_parts = list(qet.items())\n",
    "    qets = [Qet(dict(qp[i:(i+chunk_size)])) for i in range(0,len(qet_parts),chunk_size)]\n",
    "\n",
    "def num_waves(ir0,ir1):\n",
    "    if ir0 == ir1:\n",
    "        return sp.binomial(group.irrep_dims[ir0]*2, 2)\n",
    "    else:\n",
    "        return group.irrep_dims[ir0]*group.irrep_dims[ir1]*4\n",
    "\n",
    "def full_waves():\n",
    "    done = []\n",
    "    size = 0\n",
    "    for k,v in group.product_table.odict.items():\n",
    "        if (k[1],k[0]) in done:\n",
    "            continue\n",
    "        if k[1] == k[0]:\n",
    "            size += sp.binomial(group.irrep_dims[k[1]]*2,2)\n",
    "        else:\n",
    "            size += sum(list(map(lambda x: group.irrep_dims[x]*4, v)))\n",
    "        done.append(k)\n",
    "    return size\n",
    "\n",
    "def format_empheq(qet):\n",
    "    if len(qet.dict) == 0:\n",
    "        return r'''\n",
    "\\vspace{0.2cm}\n",
    "\\boxed{\\Delta{E}=0}\n",
    "\\vspace{0.2cm}'''\n",
    "    else:\n",
    "        chunk_size = 3\n",
    "        qet_parts = list(qet.dict.items())\n",
    "        qets = [Qet(dict(qet_parts[i:(i+chunk_size)])) for i in range(0,len(qet_parts),chunk_size)]\n",
    "        chunks = [sp.latex(qet.as_braket()).replace('|','||').replace(r'\\right.',r'\\right.\\!\\!') for qet in qets]\n",
    "        chunks[0] = r'\\Delta{E}='+chunks[0]\n",
    "        for chunk_idx in range(1,len(chunks)):\n",
    "            if chunks[chunk_idx][0] != '-':\n",
    "                chunks[chunk_idx] = '+' + chunks[chunk_idx]\n",
    "        lqets = '\\\\\\\\\\n'.join(chunks)\n",
    "        nice_output = r'''\\vspace{-0.5cm}\n",
    "\\begin{empheq}[box=\\fbox]{gather*}\n",
    "%s\n",
    "\\end{empheq}''' % lqets\n",
    "        return nice_output\n",
    "\n",
    "all_final_outputs = []\n",
    "tally_waves = {}\n",
    "single_col_groups = ['C_{1}','C_{2}']\n",
    "num_multicols = {group_label:2 for group_label in CPGs.all_group_labels}\n",
    "for scg in single_col_groups:\n",
    "    num_multicols[scg] = 1\n",
    "archival_terms = {}\n",
    "for group_counter, group_label in enumerate(CPGs.all_group_labels):\n",
    "#     if group_label != 'C_{i}':\n",
    "#         continue\n",
    "    print(\"Working on group %s ...\" % group_label)\n",
    "    group = CPGs.get_group_by_label(group_label)\n",
    "    print(\"computing partial sums...\")\n",
    "    s1, s2 = sp.S(1)/2, sp.S(1)/2\n",
    "    Ss  = [0,1]\n",
    "    m1s = [-sp.S(1)/2, sp.S(1)/2]\n",
    "    m2s = [-sp.S(1)/2, sp.S(1)/2]\n",
    "    group_CGs = group.CG_coefficients\n",
    "    flat_labels = dict(sum([list(l.items()) for l in list(new_labels[group_label].values())],[]))\n",
    "    group_CGs = {(flat_labels[k[0]], flat_labels[k[1]], flat_labels[k[2]]):v for k,v in group_CGs.items()}\n",
    "    summands = OrderedDict()\n",
    "    group.new_component_labels = OrderedDict([(ir, list(new_labels[group_label][ir].values())) for ir in group.irrep_labels])\n",
    "    for Γ1, Γ2, Γ3, m1, m2, S in product(group.irrep_labels,\n",
    "                                     group.irrep_labels,\n",
    "                                     group.irrep_labels,\n",
    "                                     m1s,\n",
    "                                     m2s,\n",
    "                                     Ss):\n",
    "        for γ1, γ2, γ3 in product(group.new_component_labels[Γ1],\n",
    "                                  group.new_component_labels[Γ2],\n",
    "                                  group.new_component_labels[Γ3]):\n",
    "            for mSz in range(S,-S-1,-1):\n",
    "                sCG = ClebschG(s1, s2, S, m1, m2, mSz)\n",
    "                if (γ1, γ2, γ3) not in group_CGs.keys():\n",
    "                    continue\n",
    "                else:\n",
    "                    gCG = group_CGs[(γ1, γ2, γ3)]\n",
    "                coeff = sCG*gCG\n",
    "                key = (Γ1, Γ2, Γ3, γ3, S, mSz)\n",
    "                if (Γ2,m2,γ2) == (Γ1,m1,γ1):\n",
    "                    continue\n",
    "                if coeff!=0:\n",
    "                    if key not in summands.keys():\n",
    "                        summands[key] = []\n",
    "                    summands[key].append(Qet({(Γ1,γ1,m1,Γ2,γ2,m2):coeff}))\n",
    "    print(\"summing out inner parts ...\")\n",
    "    total_qets = OrderedDict([(k, sum(v,Qet({}))) for k,v in summands.items()])\n",
    "    best_qets = OrderedDict([(k, det_simplify(v)) for k,v in total_qets.items()])\n",
    "    best_qets = OrderedDict([(k, v) for k,v in best_qets.items() if len(v.dict)!=0])\n",
    "    print(\"term collection truck ...\")\n",
    "    terms = OrderedDict()\n",
    "    done_keys = []\n",
    "    for k, v in best_qets.items():\n",
    "        (Γ1, Γ2, Γ3, γ3, S, mSz) = k\n",
    "        equiv_key = (Γ2, Γ1, Γ3, γ3, S, mSz)\n",
    "        term_pair = (Γ3, S)\n",
    "        if term_pair not in terms.keys():\n",
    "            terms[term_pair] = OrderedDict()\n",
    "        if equiv_key in done_keys:\n",
    "            continue\n",
    "        terms[term_pair][k] = v\n",
    "        done_keys.append(k)\n",
    "    final_terms = OrderedDict()\n",
    "    for term in terms:\n",
    "        ir, S = term\n",
    "        states = terms[term]\n",
    "        one_term = Term({'irrep': ir, 'S': S, 'states': states})\n",
    "        final_terms[term] = one_term\n",
    "    print(\"Manufacturing latex output ....\")\n",
    "    max_counter = 3\n",
    "    if group_counter == 0:\n",
    "        print_outs = ['\\n\\\\newpage\\n\\n\\\\section{Terms and wave functions}\\n\\\\subsection{Group $%s$}\\n\\n\\\\begin{center} \\\\underline{Component labels} \\n\\\\vspace{0.2cm}\\n' % group_label]\n",
    "    else:\n",
    "        print_outs = ['\\n\\\\doublerulefill\\n\\\\subsection{Group $%s$} \\n\\n\\\\begin{center}\\n\\n\\\\underline{Component labels} \\n\\\\vspace{0.2cm}\\n' % group_label]\n",
    "    for running_idx, irrep_symbol in enumerate(group.irrep_labels):\n",
    "        components_for_printing = ','.join(list(map(sp.latex, group.new_component_labels[irrep_symbol])))\n",
    "        if running_idx < (len(group.irrep_labels)-1):\n",
    "            print_outs.append('$%s:\\\\{%s\\\\}$ || ' % (sp.latex(irrep_symbol), components_for_printing))\n",
    "        else:\n",
    "            print_outs.append('$%s:\\\\{%s\\\\}$' % (sp.latex(irrep_symbol), components_for_printing))\n",
    "    if num_multicols[group_label] == 1:\n",
    "        print_outs.append('\\\\end{center}\\n\\n')\n",
    "    else:\n",
    "        print_outs.append('\\\\end{center}\\n\\n\\\\begin{multicols}{%d}\\n\\n' % num_multicols[group_label])\n",
    "    supreme_states = {}\n",
    "    total_waves = 0\n",
    "    end_terms = {}\n",
    "    for one_term_k, one_term in final_terms.items():\n",
    "        term_symb = r'{{}}^{{{M}}}\\!{ir}'.format(M=(2*one_term_k[1]+1), ir = sp.latex(one_term_k[0]))\n",
    "        term_symb = sp.Symbol(term_symb)\n",
    "        print_outs.append('\\n\\\\hrulefill\\n\\\\subsubsection{$%s$}\\n\\\\vspace{0.25cm}\\n \\\\begin{center} \\n' % sp.latex(term_symb))\n",
    "        counter = 0\n",
    "        prev_α = ''\n",
    "        end_terms[one_term_k] = []\n",
    "        origins = []\n",
    "        for state_key, state in one_term.states.items():\n",
    "            (Γ1, Γ2, Γ3, γ3, S, mSz) = state_key\n",
    "            αl = sp.Symbol(sp.latex(Γ1).lower())*sp.Symbol(sp.latex(Γ2).lower())\n",
    "            α = Γ1 * Γ2\n",
    "            multiplicity = 2*S+1\n",
    "            term_symb = r'{{}}^{{{M}}}\\!{ir}'.format(M=(2*S+1), ir = sp.latex(Γ3))\n",
    "            state_symbol = '\\\\Psi_{%d}(%s,%s,M\\!=\\!%d,%s)' % (counter+1, sp.latex(α).lower(), term_symb, mSz, sp.latex(γ3))\n",
    "            state_symbol = sp.Symbol(state_symbol)\n",
    "            v_simple = Qet({(k[1],k[2],k[4],k[5]):v for k,v in state.dict.items()})\n",
    "            v_det, q_qet = as_determinantal_ket(v_simple)\n",
    "            end_terms[one_term_k].append(q_qet)\n",
    "            origins.append(state_key)\n",
    "            sup_key = α\n",
    "            if sup_key not in supreme_states.keys():\n",
    "                supreme_states[sup_key] = []\n",
    "            supreme_states[sup_key].append(v_det)\n",
    "            pout = \"$\\\\textcolor{blue}{%s} = %s$\\\\vspace{0.1cm}\\n\" % (sp.latex(state_symbol), sp.latex(v_det))\n",
    "            pout = sp.Symbol(pout)\n",
    "            if prev_α != α:\n",
    "                if prev_α == '':\n",
    "                    print_outs.append('\\n\\n $\\\\textcolor{red}{%s}$ \\n\\n' % (sp.latex(α).lower()))\n",
    "                else:\n",
    "                    print_outs.append('\\n\\\\vspace{0.25cm}\\n\\n $\\\\textcolor{red}{%s}$ \\n\\n' % (sp.latex(α).lower()))\n",
    "                term_energy = term_energies_for_printout[(group_label, αl, one_term_k[-1::-1])]\n",
    "                print_outs.append('\\n\\n %s \\n\\n' % (format_empheq(term_energy)))\n",
    "#                 term_energy = term_energies_for_printout[(group_label, αl, one_term_k[-1::-1])].as_braket()\n",
    "#                 term_energy = sp.latex(term_energy).replace('|','||').replace(r'\\right.',r'\\right.\\!\\!')\n",
    "#                 print_outs.append('\\n\\n\\\\boxed{%s}\\n\\n' % (term_energy))\n",
    "            prev_α = α\n",
    "            print_outs.append(sp.latex(pout))\n",
    "            counter += 1\n",
    "            total_waves += 1\n",
    "            done_keys.append(state_key)\n",
    "        end_terms[one_term_k] = Term({'irrep': one_term_k[0], 'S': one_term_k[1], 'states': end_terms[one_term_k], 'state_keys': origins})\n",
    "        print_outs.append('\\n\\\\end{center}\\n')\n",
    "    archival_terms[group_label] = end_terms\n",
    "    if num_multicols[group_label] != 1:\n",
    "        print_outs.append('\\n\\\\end{multicols}\\n')\n",
    "    irrep_combos = list(combinations_with_replacement(group.irrep_labels,2))\n",
    "    total_waves_groundtruth = sum([num_waves(ir0,ir1) for ir0, ir1 in irrep_combos])\n",
    "    tally_waves[group_label] = (total_waves,total_waves_groundtruth,full_waves())\n",
    "    all_wavefunctions = '\\n'.join(print_outs)\n",
    "    all_wavefunctions = all_wavefunctions.replace(\"^'\",\"^{'}\").replace(\"^''\",\"^{''}\")\n",
    "    all_final_outputs.append(all_wavefunctions)\n",
    "print(\"saving to file ...\")\n",
    "super_final_output = '\\n'.join(all_final_outputs)\n",
    "open('/Users/juan/Library/Mobile Documents/com~apple~CloudDocs/iCloudFiles/Theoretical Division/termwaves.tex','w').write(super_final_output)\n",
    "# !beep\n",
    "print(\"Saving to pickle ...\")\n",
    "pickle.dump(archival_terms, open('./Data/2e-terms.pkl','wb'))"
   ]
  },
  {
   "cell_type": "code",
   "execution_count": 520,
   "id": "22824d89-2828-42f8-8393-3a1af81b8b30",
   "metadata": {},
   "outputs": [
    {
     "data": {
      "text/html": [
       "<pre>✔️ 1.04 s (2021-11-22T17:22:54/2021-11-22T17:22:55)</pre>"
      ],
      "text/plain": [
       "<IPython.core.display.HTML object>"
      ]
     },
     "metadata": {},
     "output_type": "display_data"
    },
    {
     "name": "stdout",
     "output_type": "stream",
     "text": [
      "silence\n"
     ]
    }
   ],
   "source": [
    "!beep silent"
   ]
  },
  {
   "cell_type": "code",
   "execution_count": 465,
   "id": "bb2931c0-9845-4f18-8c91-1a350c138a74",
   "metadata": {},
   "outputs": [
    {
     "data": {
      "text/html": [
       "<pre>✔️ 519 µs (2021-11-22T15:47:23/2021-11-22T15:47:23)</pre>"
      ],
      "text/plain": [
       "<IPython.core.display.HTML object>"
      ]
     },
     "metadata": {},
     "output_type": "display_data"
    }
   ],
   "source": [
    "# group_label = 'T_{h}'\n",
    "# group = CPGs.get_group_by_label(group_label)\n",
    "# irreps = group.irrep_labels\n",
    "# irrep_combos = list(combinations_with_replacement(group.irrep_labels,2))\n",
    "# total_waves_groundtruth = sum([num_waves(ir0,ir1) for ir0, ir1 in irrep_combos])"
   ]
  },
  {
   "cell_type": "code",
   "execution_count": 466,
   "id": "b1ae217e-716f-47ca-8018-d7bbe31ddf6c",
   "metadata": {},
   "outputs": [
    {
     "data": {
      "text/html": [
       "<pre>✔️ 389 µs (2021-11-22T15:47:23/2021-11-22T15:47:23)</pre>"
      ],
      "text/plain": [
       "<IPython.core.display.HTML object>"
      ]
     },
     "metadata": {},
     "output_type": "display_data"
    }
   ],
   "source": [
    "# total_waves_asfound = sum([len(v) for k,v in supreme_states.items()])\n",
    "# total_waves_asfound"
   ]
  },
  {
   "cell_type": "code",
   "execution_count": 467,
   "id": "076235d8-dc4f-4f59-bcb0-3d84ce84a67d",
   "metadata": {},
   "outputs": [
    {
     "data": {
      "text/html": [
       "<pre>✔️ 605 µs (2021-11-22T15:47:23/2021-11-22T15:47:23)</pre>"
      ],
      "text/plain": [
       "<IPython.core.display.HTML object>"
      ]
     },
     "metadata": {},
     "output_type": "display_data"
    }
   ],
   "source": [
    "# class Term():\n",
    "#     '''\n",
    "#     Represents a term, holds the states that correspond to it,\n",
    "#     and offers a display of the term symbol and enclosed wavefunctions.\n",
    "#     '''\n",
    "#     def __init__(self, init_dict):\n",
    "#         for k,v in init_dict.items():\n",
    "#             setattr(self, k, v)\n",
    "#         self.term_prototype = sp.Symbol(r'{{}}^{{{M}}}{ir}')\n",
    "#         self.state_prototype = sp.Symbol(r'\\Psi({α}, {S}, {{{Γ}}}, {M_s}, {γ})')\n",
    "#     def term_symbol(self):\n",
    "#         return sp.Symbol(str(self.term_prototype).format(M=str(2*self.S+1),ir=str(sp.latex(self.irrep))))\n",
    "#     def make_state_symbols(self):\n",
    "#         state_symbols = []\n",
    "#         for state in self.states:\n",
    "#             ndict = {\n",
    "#             'α' : state['qnums'][sp.Symbol(r'\\alpha')],\n",
    "#             'S' : self.S,\n",
    "#             'Γ' : self.irrep,\n",
    "#             'M_s' : state['qnums'][sp.Symbol(r'M_s')],\n",
    "#             'γ' : state['qnums'][sp.Symbol(r'\\gamma')]\n",
    "#             }\n",
    "#             state_symbols.append(sp.Symbol(str(self.state_prototype).format(**ndict)))\n",
    "#         return state_symbols\n",
    "#     def __str__(self):\n",
    "#         return (self.term_symbol())\n",
    "#     def __repr__(self):\n",
    "#         return str(self.term_symbol())"
   ]
  },
  {
   "cell_type": "code",
   "execution_count": 468,
   "id": "d5d84eef-8f6e-462c-a38d-a34594fbaa6a",
   "metadata": {},
   "outputs": [
    {
     "data": {
      "text/html": [
       "<pre>✔️ 550 µs (2021-11-22T15:47:23/2021-11-22T15:47:23)</pre>"
      ],
      "text/plain": [
       "<IPython.core.display.HTML object>"
      ]
     },
     "metadata": {},
     "output_type": "display_data"
    }
   ],
   "source": [
    "# all_terms = []\n",
    "# group_label = 'O'\n",
    "# group = CPGs.get_group_by_label(group_label)\n",
    "# for irrep in group.irrep_labels:\n",
    "#     for S in [0,1]:\n",
    "#         for mS in range(-S, S+1):\n",
    "#             states = [{'qnums':{sp.Symbol(r'\\alpha'):sp.Symbol(r'\\alpha'), # qnum that distinguishes between states\n",
    "#                                 sp.Symbol(r'\\gamma'): component, # symbol for a component of a basis for the irrep\n",
    "#                                 sp.Symbol(r'M_s'):mS # the Ms equal to m_1 + m_2\n",
    "#                                 }} for component in group.component_labels[irrep]]\n",
    "#             aterm = Term({'states':states,\n",
    "#                   'group_label': group_label,\n",
    "#                   'S': S,\n",
    "#                   'irrep': irrep\n",
    "#                  })\n",
    "#             all_terms.append(aterm)"
   ]
  },
  {
   "cell_type": "code",
   "execution_count": 469,
   "id": "c9df1abc-9952-499b-8678-ba515a56db2a",
   "metadata": {
    "tags": []
   },
   "outputs": [
    {
     "data": {
      "text/html": [
       "<pre>✔️ 585 µs (2021-11-22T15:47:23/2021-11-22T15:47:23)</pre>"
      ],
      "text/plain": [
       "<IPython.core.display.HTML object>"
      ]
     },
     "metadata": {},
     "output_type": "display_data"
    }
   ],
   "source": [
    "# for term in all_terms:\n",
    "#     display(term.term_symbol())\n",
    "#     for state_symb in term.make_state_symbols():\n",
    "#         display(state_symb)\n",
    "#     break"
   ]
  },
  {
   "cell_type": "code",
   "execution_count": 7,
   "id": "482e9a3d-6f32-4c49-9761-8fbf9266449c",
   "metadata": {},
   "outputs": [
    {
     "data": {
      "text/html": [
       "<pre>✔️ 548 µs (2021-11-14T11:37:49/2021-11-14T11:37:49)</pre>"
      ],
      "text/plain": [
       "<IPython.core.display.HTML object>"
      ]
     },
     "metadata": {},
     "output_type": "display_data"
    }
   ],
   "source": [
    "# s1, s2 = sp.S(1)/2, sp.S(1)/2\n",
    "# Ss = [0,1]\n",
    "# m1s = [-sp.S(1)/2,sp.S(1)/2]\n",
    "# m2s = [-sp.S(1)/2,sp.S(1)/2]\n",
    "# group_CGs = group.CG_coefficients\n",
    "# Γ = sp.Symbol('T_1')\n",
    "# summands = {}\n",
    "# for Γ1, Γ2, Γ3, m1, m2, S in product(group.irrep_labels,\n",
    "#                                  group.irrep_labels,\n",
    "#                                  group.irrep_labels,\n",
    "#                                  m1s, m2s, Ss):\n",
    "#     for γ1, γ2, γ3 in product(group.component_labels[Γ1],\n",
    "#                               group.component_labels[Γ2],\n",
    "#                               group.component_labels[Γ3]):\n",
    "#         for mSz in range(-S, S+1):\n",
    "#             sCG = ClebschG(s1, s2, S, m1, m2, mSz)\n",
    "#             if (γ1, γ2, γ3) not in group_CGs.keys():\n",
    "#                 gCG = 0\n",
    "#                 continue\n",
    "#             else:\n",
    "#                 gCG = group_CGs[(γ1, γ2, γ3)]\n",
    "#             coeff = sCG*gCG\n",
    "#             key = (Γ1, Γ2, Γ3, γ3, mSz)\n",
    "#             if (Γ2,m2,γ2) == (Γ1,m1,γ1):\n",
    "#                 coeff = 0\n",
    "#             if coeff!=0:\n",
    "#                 if key not in summands.keys():\n",
    "#                     summands[key] = {}\n",
    "#                 qkey = (Γ1,m1,γ1,Γ2,m2,γ2)\n",
    "#                 ikey = (Γ2,m2,γ2Γ1,m1,γ1)\n",
    "#                 if ikey in summands.keys():\n",
    "#                     summands[ikey].append(Qet({:-coeff}))\n",
    "#                 else:\n",
    "#                     summands[key].append(Qet({(Γ1,m1,γ1,Γ2,m2,γ2):coeff}))"
   ]
  },
  {
   "cell_type": "code",
   "execution_count": 603,
   "id": "55d0f2b5-8aef-4649-a2d3-00466cbe3796",
   "metadata": {},
   "outputs": [
    {
     "data": {
      "text/html": [
       "<pre>✔️ 593 µs (2021-11-16T15:06:27/2021-11-16T15:06:27)</pre>"
      ],
      "text/plain": [
       "<IPython.core.display.HTML object>"
      ]
     },
     "metadata": {},
     "output_type": "display_data"
    }
   ],
   "source": [
    "# this just does the work for a single group\n",
    "# print(\"computing partial sums...\")\n",
    "# s1, s2 = sp.S(1)/2, sp.S(1)/2\n",
    "# Ss = [0,1]\n",
    "# m1s = [-sp.S(1)/2,sp.S(1)/2]\n",
    "# m2s = [-sp.S(1)/2,sp.S(1)/2]\n",
    "# group_CGs = group.CG_coefficients\n",
    "# Γ = sp.Symbol('T_1')\n",
    "# summands = {}\n",
    "# for Γ1, Γ2, Γ3, m1, m2, S in product(group.irrep_labels,\n",
    "#                                  group.irrep_labels,\n",
    "#                                  group.irrep_labels,\n",
    "#                                  m1s, m2s, Ss):\n",
    "#     for γ1, γ2, γ3 in product(group.component_labels[Γ1],\n",
    "#                               group.component_labels[Γ2],\n",
    "#                               group.component_labels[Γ3]):\n",
    "#         for mSz in range(-S, S+1):\n",
    "#             sCG = ClebschG(s1, s2, S, m1, m2, mSz)\n",
    "#             if (γ1, γ2, γ3) not in group_CGs.keys():\n",
    "#                 gCG = 0\n",
    "#                 continue\n",
    "#             else:\n",
    "#                 gCG = group_CGs[(γ1, γ2, γ3)]\n",
    "#             coeff = sCG*gCG\n",
    "#             key = (Γ1, Γ2, Γ3, γ3, S, mSz)\n",
    "#             if (Γ2,m2,γ2) == (Γ1,m1,γ1):\n",
    "#                 coeff = 0\n",
    "#             if coeff!=0:\n",
    "#                 if key not in summands.keys():\n",
    "#                     summands[key] = []\n",
    "#                 summands[key].append(Qet({(Γ1,γ1,m1,Γ2,γ2,m2):coeff}))\n",
    "# print(\"summing out inner parts ...\")\n",
    "# total_qets = {k:sum(v,Qet({})) for k,v in summands.items()}\n",
    "# best_qets = {k:det_simplify(v) for k,v in total_qets.items()}\n",
    "# best_qets = {k:v for k,v in best_qets.items() if len(v.dict)!=0}\n",
    "# print(\"term collection truck ...\")\n",
    "# terms = {}\n",
    "# for k, v in best_qets.items():\n",
    "#     (Γ1, Γ2, Γ3, γ3, S, mSz) = k\n",
    "#     term_pair = (Γ3, S)\n",
    "#     if term_pair not in terms.keys():\n",
    "#         terms[term_pair] = {}\n",
    "#     terms[term_pair][k] = v\n",
    "# final_terms = {}\n",
    "# for term in terms:\n",
    "#     ir, S = term\n",
    "#     states = terms[term]\n",
    "#     one_term = Term({'irrep': ir, 'S': S, 'states': states})\n",
    "#     final_terms[term] = one_term\n",
    "# print(\"Manufacturing latex output ....\")\n",
    "# max_counter = 3\n",
    "# print_outs = []\n",
    "# for one_term_k, one_term in final_terms.items():\n",
    "#     term_symb = r'{{}}^{{{M}}}\\!{ir}'.format(M=(2*one_term_k[1]+1), ir = sp.latex(one_term_k[0]))\n",
    "#     term_symb = sp.Symbol(term_symb)\n",
    "#     print_outs.append('\\n\\\\hrulefill\\n \\\\begin{center} {\\\\Large $%s$} \\n\\\\vspace{0.5cm}\\n' % sp.latex(term_symb))\n",
    "#     counter = 0\n",
    "#     for state_key, state in one_term.states.items():\n",
    "#         (Γ1, Γ2, Γ3, γ3, S, mSz) = state_key\n",
    "#         α = Γ1 * Γ2\n",
    "#         term_symb = r'{{}}^{{{M}}}\\!{ir}'.format(M=(2*S+1), ir = sp.latex(Γ3))\n",
    "#         state_symbol = '\\\\Psi(%s,%s,M\\!=\\!%d,%s)' % (sp.latex(α).lower(), term_symb, mSz, sp.latex(γ3))\n",
    "#         state_symbol = sp.Symbol(state_symbol)\n",
    "#         v_simple = Qet({(k[1],k[2],k[4],k[5]):v for k,v in state.dict.items()})\n",
    "#         v_det = as_determinantal_ket(v_simple)\n",
    "#         pout = \"$%s = %s$\\n\" % (sp.latex(state_symbol), sp.latex(v_det))\n",
    "#         pout = sp.Symbol(pout)\n",
    "#         print_outs.append(sp.latex(pout))\n",
    "#         if counter % 5 == 4:\n",
    "#             print_outs.append('\\n\\\\vspace{0.5cm}\\n')\n",
    "#         counter += 1\n",
    "#     print_outs.append('\\n\\\\end{center}')\n",
    "# all_wavefunctions = '\\n'.join(print_outs)\n",
    "# print(\"saving to file ...\")\n",
    "# open('/Volumes/GoogleDrive/My Drive/Zia Lab/Theoretical Division/termwaves.tex','w').write(all_wavefunctions)"
   ]
  },
  {
   "cell_type": "code",
   "execution_count": 445,
   "id": "2cb19570-6e4b-4a05-97f2-6acf66daa76d",
   "metadata": {
    "tags": []
   },
   "outputs": [
    {
     "data": {
      "text/html": [
       "<pre>✔️ 7.71 s (2021-11-15T20:32:00/2021-11-15T20:32:08)</pre>"
      ],
      "text/plain": [
       "<IPython.core.display.HTML object>"
      ]
     },
     "metadata": {},
     "output_type": "display_data"
    },
    {
     "name": "stdout",
     "output_type": "stream",
     "text": [
      "Working on group T_{h} ...\n",
      "computing partial sums...\n",
      "summing out inner parts ...\n",
      "term collection truck ...\n",
      "Manufacturing latex output ....\n",
      "saving to file ...\n"
     ]
    }
   ],
   "source": [
    "# # with new labels\n",
    "# def num_waves(ir0,ir1):\n",
    "#     if ir0 == ir1:\n",
    "#         return sp.binomial(group.irrep_dims[ir0]+group.irrep_dims[ir1], 2)\n",
    "#     else:\n",
    "#         return group.irrep_dims[ir0]*group.irrep_dims[ir1]*4\n",
    "# def full_waves():\n",
    "#     done = []\n",
    "#     size = 0\n",
    "#     for k,v in group.product_table.odict.items():\n",
    "#         if (k[1],k[0]) in done:\n",
    "#             continue\n",
    "#         size += sum(list(map(lambda x: group.irrep_dims[x], v)))\n",
    "#         done.append(k)\n",
    "#     return 2*size\n",
    "# all_final_outputs = []\n",
    "# tally_waves = {}\n",
    "# for group_counter, group_label in enumerate(CPGs.all_group_labels):\n",
    "#     if group_label != 'T_{h}':\n",
    "#         continue\n",
    "#     print(\"Working on group %s ...\" % group_label)\n",
    "#     group = CPGs.get_group_by_label(group_label)\n",
    "#     print(\"computing partial sums...\")\n",
    "#     s1, s2 = sp.S(1)/2, sp.S(1)/2\n",
    "#     Ss  = [0,1]\n",
    "#     m1s = [-sp.S(1)/2, sp.S(1)/2]\n",
    "#     m2s = [-sp.S(1)/2, sp.S(1)/2]\n",
    "#     group_CGs = group.CG_coefficients\n",
    "#     flat_labels = dict(sum([list(l.items()) for l in list(new_labels[group_label].values())],[]))\n",
    "#     group_CGs = {(flat_labels[k[0]], flat_labels[k[1]], flat_labels[k[2]]):v for k,v in group_CGs.items()}\n",
    "#     summands = OrderedDict()\n",
    "#     group.new_component_labels = OrderedDict([(ir, list(new_labels[group_label][ir].values())) for ir in group.irrep_labels])\n",
    "#     for Γ1, Γ2, Γ3, m1, m2, S in product(group.irrep_labels,\n",
    "#                                      group.irrep_labels,\n",
    "#                                      group.irrep_labels,\n",
    "#                                      m1s,\n",
    "#                                      m2s,\n",
    "#                                      Ss):\n",
    "#         for γ1, γ2, γ3 in product(group.new_component_labels[Γ1],\n",
    "#                                   group.new_component_labels[Γ2],\n",
    "#                                   group.new_component_labels[Γ3]):\n",
    "#             for mSz in range(-S, S+1):\n",
    "#                 sCG = ClebschG(s1, s2, S, m1, m2, mSz)\n",
    "#                 if (γ1, γ2, γ3) not in group_CGs.keys():\n",
    "#                     continue\n",
    "#                 else:\n",
    "#                     gCG = group_CGs[(γ1, γ2, γ3)]\n",
    "#                 coeff = sCG*gCG\n",
    "#                 key = (Γ1, Γ2, Γ3, γ3, S, mSz)\n",
    "#                 if (Γ2,m2,γ2) == (Γ1,m1,γ1):\n",
    "#                     continue\n",
    "#                 if coeff!=0:\n",
    "#                     if key not in summands.keys():\n",
    "#                         summands[key] = []\n",
    "#                     summands[key].append(Qet({(Γ1,γ1,m1,Γ2,γ2,m2):coeff}))\n",
    "#     print(\"summing out inner parts ...\")\n",
    "#     total_qets = OrderedDict([(k, sum(v,Qet({}))) for k,v in summands.items()])\n",
    "#     best_qets = OrderedDict([(k, det_simplify(v)) for k,v in total_qets.items()])\n",
    "#     best_qets = OrderedDict([(k, v) for k,v in best_qets.items() if len(v.dict)!=0])\n",
    "#     print(\"term collection truck ...\")\n",
    "#     terms = OrderedDict()\n",
    "#     for k, v in best_qets.items():\n",
    "#         (Γ1, Γ2, Γ3, γ3, S, mSz) = k\n",
    "#         term_pair = (Γ3, S)\n",
    "#         if term_pair not in terms.keys():\n",
    "#             terms[term_pair] = OrderedDict()\n",
    "#         terms[term_pair][k] = v\n",
    "#     final_terms = OrderedDict()\n",
    "#     for term in terms:\n",
    "#         ir, S = term\n",
    "#         states = terms[term]\n",
    "#         one_term = Term({'irrep': ir, 'S': S, 'states': states})\n",
    "#         final_terms[term] = one_term\n",
    "#     print(\"Manufacturing latex output ....\")\n",
    "#     max_counter = 3\n",
    "#     print_outs = ['\\\\subsection{Group $%s$} \\n \\\\begin{center} \\\\underline{Component labels} \\n\\\\vspace{0.2cm}\\n' % group_label]\n",
    "#     for irrep_symbol in group.irrep_labels:\n",
    "#         components_for_printing = ','.join(list(map(sp.latex, group.new_component_labels[irrep_symbol])))\n",
    "#         print_outs.append('\\\\noindent$%s:\\\\{%s\\\\}$\\n\\n' % (sp.latex(irrep_symbol), components_for_printing))\n",
    "#     print_outs.append('\\\\end{center}')\n",
    "#     supreme_states = {}\n",
    "#     total_waves = 0\n",
    "#     for one_term_k, one_term in final_terms.items():\n",
    "#         term_symb = r'{{}}^{{{M}}}\\!{ir}'.format(M=(2*one_term_k[1]+1), ir = sp.latex(one_term_k[0]))\n",
    "#         term_symb = sp.Symbol(term_symb)\n",
    "#         print_outs.append('\\n\\\\hrulefill\\n  \\\\subsubsection{$%s$} \\n\\\\vspace{0.25cm}\\n \\\\begin{center} \\n' % sp.latex(term_symb))\n",
    "#         counter = 0\n",
    "#         done_keys = []\n",
    "#         prev_α = ''\n",
    "#         for state_key, state in one_term.states.items():\n",
    "#             (Γ1, Γ2, Γ3, γ3, S, mSz) = state_key\n",
    "#             equiv_key = (Γ2, Γ1, Γ3, γ3, S, mSz)\n",
    "#             if equiv_key in done_keys:\n",
    "#                 continue\n",
    "#                 warn_mark = '**'\n",
    "#             else:\n",
    "#                 warn_mark = ''\n",
    "#             α = Γ1 * Γ2\n",
    "#             multiplicity = 2*S+1\n",
    "#             term_symb = r'{{}}^{{{M}}}\\!{ir}'.format(M=(2*S+1), ir = sp.latex(Γ3))\n",
    "#             state_symbol = '%s \\\\Psi_{%d}(%s,%s,M\\!=\\!%d,%s)' % (warn_mark, counter+1, sp.latex(α).lower(), term_symb, mSz, sp.latex(γ3))\n",
    "#             state_symbol = sp.Symbol(state_symbol)\n",
    "#             v_simple = Qet({(k[1],k[2],k[4],k[5]):v for k,v in state.dict.items()})\n",
    "#             v_det = as_determinantal_ket(v_simple)\n",
    "#             sup_key = (α)\n",
    "#             if sup_key not in supreme_states.keys():\n",
    "#                 supreme_states[sup_key] = []\n",
    "#             supreme_states[sup_key].append(v_det)\n",
    "#             pout = \"$\\\\textcolor{blue}{%s} = %s$\\\\vspace{0.1cm}\\n\" % (sp.latex(state_symbol), sp.latex(v_det))\n",
    "#             pout = sp.Symbol(pout)\n",
    "#             if prev_α != α:\n",
    "#                 if prev_α == '':\n",
    "#                     print_outs.append('\\n\\n $\\\\textcolor{red}{%s}$ \\n\\\\vspace{0.25cm}\\n' % (sp.latex(α).lower()))\n",
    "#                 else:\n",
    "#                     print_outs.append('\\n\\\\vspace{0.25cm}\\n\\n $\\\\textcolor{red}{%s}$ \\n\\\\vspace{0.25cm}\\n' % (sp.latex(α).lower()))\n",
    "#             prev_α = α\n",
    "#             print_outs.append(sp.latex(pout))\n",
    "#             counter += 1\n",
    "#             total_waves += 1\n",
    "#             done_keys.append(state_key)\n",
    "#         print_outs.append('\\n\\\\end{center}\\n\\n')\n",
    "#     irrep_combos = list(combinations_with_replacement(group.irrep_labels,2))\n",
    "#     total_waves_groundtruth = sum([num_waves(ir0,ir1) for ir0, ir1 in irrep_combos])\n",
    "#     tally_waves[group_label] = (total_waves,total_waves_groundtruth,full_waves())\n",
    "# #     print_outs.append(\"Total--- waves = %d\\n\\n\" % total_waves)\n",
    "# #     print_outs.append(\"Expected waves = %d\\n\\n\" % total_waves_groundtruth)\n",
    "#     all_wavefunctions = '\\n'.join(print_outs)\n",
    "#     all_wavefunctions = all_wavefunctions.replace(\"^'\",\"^{'}\").replace(\"^''\",\"^{''}\")\n",
    "#     all_final_outputs.append(all_wavefunctions)\n",
    "# print(\"saving to file ...\")\n",
    "# super_final_output = '\\n'.join(all_final_outputs)\n",
    "# open('/Users/juan/Library/Mobile Documents/com~apple~CloudDocs/iCloudFiles/Theoretical Division/termwaves.tex','w').write(super_final_output)\n",
    "# !beep"
   ]
  },
  {
   "cell_type": "code",
   "execution_count": null,
   "id": "39a876fd-4e54-4b8f-8c82-70a7a7375cfc",
   "metadata": {},
   "outputs": [],
   "source": [
    "# def full_waves():\n",
    "#     done = []\n",
    "#     size = 0\n",
    "#     for k,v in group.product_table.odict.items():\n",
    "#         if (k[1],k[0]) in done:\n",
    "#             continue\n",
    "#         size += sum(list(map(lambda x: group.irrep_dims[x]*4, v)))\n",
    "#         done.append(k)\n",
    "#     return size"
   ]
  },
  {
   "cell_type": "code",
   "execution_count": 608,
   "id": "f7a389c3-aae4-4360-a061-ff6dcc2aec80",
   "metadata": {
    "tags": []
   },
   "outputs": [
    {
     "data": {
      "text/html": [
       "<pre>✔️ 2.55 ms (2021-11-16T15:09:44/2021-11-16T15:09:44)</pre>"
      ],
      "text/plain": [
       "<IPython.core.display.HTML object>"
      ]
     },
     "metadata": {},
     "output_type": "display_data"
    }
   ],
   "source": [
    "# irrep_combos = list(combinations_with_replacement(irreps,2))\n",
    "# counter = 0\n",
    "# for k,v in supreme_states.items():\n",
    "#     α = k\n",
    "#     combo = [(ir0,ir1) for ir0, ir1 in irrep_combos if ir0*ir1 == α][0]\n",
    "#     display(α)\n",
    "#     print(\"irrep dims\",group.irrep_dims[combo[0]],group.irrep_dims[combo[1]])\n",
    "#     if combo[0] == combo[1]:\n",
    "#         print(\"nchoosek\",sp.binomial(group.irrep_dims[combo[0]]*2,2))\n",
    "#     else:\n",
    "#         print(\"(d1*d2)*4\",group.irrep_dims[combo[0]]*group.irrep_dims[combo[1]]*4)\n",
    "#     print(\"waves---\",len(v))\n",
    "#     print(\"altsum--\",sum(list(map(lambda x: group.irrep_dims[x],group.product_table.odict[combo])))*4)\n",
    "#     counter += 1"
   ]
  },
  {
   "cell_type": "code",
   "execution_count": 609,
   "id": "ccb19ad9-ad17-434c-9c67-2bd1f7a32628",
   "metadata": {
    "tags": []
   },
   "outputs": [
    {
     "data": {
      "text/html": [
       "<pre>✔️ 2.54 ms (2021-11-16T15:09:53/2021-11-16T15:09:53)</pre>"
      ],
      "text/plain": [
       "<IPython.core.display.HTML object>"
      ]
     },
     "metadata": {},
     "output_type": "display_data"
    }
   ],
   "source": [
    "# all_final_outputs = []\n",
    "# for group_counter, group_label in enumerate(CPGs.all_group_labels):\n",
    "#     if group_label != 'T_{h}':\n",
    "#         continue\n",
    "#     print(\"Working on group %s ...\" % group_label)\n",
    "#     group = CPGs.get_group_by_label(group_label)\n",
    "#     print(\"computing partial sums...\")\n",
    "#     s1, s2 = sp.S(1)/2, sp.S(1)/2\n",
    "#     Ss = [0,1]\n",
    "#     m1s = [-sp.S(1)/2,sp.S(1)/2]\n",
    "#     m2s = [-sp.S(1)/2,sp.S(1)/2]\n",
    "#     group_CGs = group.CG_coefficients\n",
    "#     summands = OrderedDict()\n",
    "#     for Γ1, Γ2, Γ3, m1, m2, S in product(group.irrep_labels,\n",
    "#                                      group.irrep_labels,\n",
    "#                                      group.irrep_labels,\n",
    "#                                      m1s, m2s, Ss):\n",
    "#         for γ1, γ2, γ3 in product(group.component_labels[Γ1],\n",
    "#                                   group.component_labels[Γ2],\n",
    "#                                   group.component_labels[Γ3]):\n",
    "#             for mSz in range(-S, S+1):\n",
    "#                 sCG = ClebschG(s1, s2, S, m1, m2, mSz)\n",
    "#                 if (γ1, γ2, γ3) not in group_CGs.keys():\n",
    "#                     gCG = 0\n",
    "#                     continue\n",
    "#                 else:\n",
    "#                     gCG = group_CGs[(γ1, γ2, γ3)]\n",
    "#                 coeff = sCG*gCG\n",
    "#                 key = (Γ1, Γ2, Γ3, γ3, S, mSz)\n",
    "#                 if (Γ2,m2,γ2) == (Γ1,m1,γ1):\n",
    "#                     coeff = 0\n",
    "#                 if coeff!=0:\n",
    "#                     if key not in summands.keys():\n",
    "#                         summands[key] = []\n",
    "#                     summands[key].append(Qet({(Γ1,γ1,m1,Γ2,γ2,m2):coeff}))\n",
    "#     print(\"summing out inner parts ...\")\n",
    "#     total_qets = OrderedDict([(k,sum(v,Qet({}))) for k,v in summands.items()])\n",
    "#     best_qets = OrderedDict([(k,det_simplify(v)) for k,v in total_qets.items()])\n",
    "#     best_qets = OrderedDict([(k,v) for k,v in best_qets.items() if len(v.dict)!=0])\n",
    "#     print(\"term collection truck ...\")\n",
    "#     terms = OrderedDict()\n",
    "#     for k, v in best_qets.items():\n",
    "#         (Γ1, Γ2, Γ3, γ3, S, mSz) = k\n",
    "#         term_pair = (Γ3, S)\n",
    "#         if term_pair not in terms.keys():\n",
    "#             terms[term_pair] = OrderedDict()\n",
    "#         terms[term_pair][k] = v\n",
    "#     final_terms = OrderedDict()\n",
    "#     for term in terms:\n",
    "#         ir, S = term\n",
    "#         states = terms[term]\n",
    "#         one_term = Term({'irrep': ir, 'S': S, 'states': states})\n",
    "#         final_terms[term] = one_term\n",
    "#     print(\"Manufacturing latex output ....\")\n",
    "#     max_counter = 3\n",
    "# #     print_outs = ['\\\\begin{center} Group $%s$ \\\\end{center} \\n' % group_label]\n",
    "#     print_outs = ['\\\\subsection{Group $%s$} \\n' % group_label]\n",
    "#     for one_term_k, one_term in final_terms.items():\n",
    "#         term_symb = r'{{}}^{{{M}}}\\!{ir}'.format(M=(2*one_term_k[1]+1), ir = sp.latex(one_term_k[0]))\n",
    "#         term_symb = sp.Symbol(term_symb)\n",
    "#         print_outs.append('\\n\\\\hrulefill\\n  \\\\subsubsection{$%s$} \\n\\\\vspace{0.25cm}\\n \\\\begin{center} \\n' % sp.latex(term_symb))\n",
    "#         counter = 0\n",
    "#         done_keys = []\n",
    "#         prev_α = ''\n",
    "#         for state_key, state in one_term.states.items():\n",
    "#             (Γ1, Γ2, Γ3, γ3, S, mSz) = state_key\n",
    "#             equiv_key = (Γ2, Γ1, Γ3, γ3, S, mSz)\n",
    "#             if equiv_key in done_keys:\n",
    "#                 continue\n",
    "#                 warn_mark = '**'\n",
    "#             else:\n",
    "#                 warn_mark = ''\n",
    "#             α = Γ1 * Γ2\n",
    "#             multiplicity = 2*S+1\n",
    "#             term_symb = r'{{}}^{{{M}}}\\!{ir}'.format(M=(2*S+1), ir = sp.latex(Γ3))\n",
    "#             state_symbol = '%s \\\\Psi_{%d}(%s,%s,M\\!=\\!%d,%s)' % (warn_mark, counter+1, sp.latex(α).lower(), term_symb, mSz, sp.latex(γ3))\n",
    "#             state_symbol = sp.Symbol(state_symbol)\n",
    "#             v_simple = Qet({(k[1],k[2],k[4],k[5]):v for k,v in state.dict.items()})\n",
    "#             v_det = as_determinantal_ket(v_simple)\n",
    "#             pout = \"$\\\\textcolor{blue}{%s} = %s$\\\\vspace{0.1cm}\\n\" % (sp.latex(state_symbol), sp.latex(v_det))\n",
    "#             pout = sp.Symbol(pout)\n",
    "#             if prev_α != α:\n",
    "#                 if prev_α == '':\n",
    "#                     print_outs.append('\\n\\n $\\\\textcolor{red}{%s}$ \\n\\\\vspace{0.25cm}\\n' % (sp.latex(α).lower()))\n",
    "#                 else:\n",
    "#                     print_outs.append('\\n\\\\vspace{0.25cm}\\n\\n $\\\\textcolor{red}{%s}$ \\n\\\\vspace{0.25cm}\\n' % (sp.latex(α).lower()))\n",
    "#             prev_α = α\n",
    "#             print_outs.append(sp.latex(pout))\n",
    "#             counter += 1\n",
    "#             done_keys.append(state_key)\n",
    "#         print_outs.append('\\n\\\\end{center}')\n",
    "#     all_wavefunctions = '\\n'.join(print_outs)\n",
    "#     all_wavefunctions = all_wavefunctions.replace(\"^'\",\"^{'}\").replace(\"^''\",\"^{''}\")\n",
    "#     all_final_outputs.append(all_wavefunctions)\n",
    "# #     if group_counter == 10:\n",
    "# #         break\n",
    "# print(\"saving to file ...\")\n",
    "# super_final_output = '\\n'.join(all_final_outputs)\n",
    "# open('/Users/juan/Library/Mobile Documents/com~apple~CloudDocs/iCloudFiles/Theoretical Division/termwaves.tex','w').write(super_final_output)\n",
    "# !beep"
   ]
  },
  {
   "cell_type": "markdown",
   "id": "7ff67a8a-c9ee-4dae-a5f9-aff90ad14287",
   "metadata": {
    "tags": []
   },
   "source": [
    "## $d^2$ (Oct 28)"
   ]
  },
  {
   "cell_type": "code",
   "execution_count": 32,
   "id": "835ce41a-0924-432f-b9e9-b2abfdb7d656",
   "metadata": {
    "execution": {
     "iopub.execute_input": "2021-10-28T14:55:57.655385Z",
     "iopub.status.busy": "2021-10-28T14:55:57.653473Z",
     "iopub.status.idle": "2021-10-28T14:55:57.857924Z",
     "shell.execute_reply": "2021-10-28T14:55:57.857568Z",
     "shell.execute_reply.started": "2021-10-28T14:55:57.655055Z"
    }
   },
   "outputs": [
    {
     "data": {
      "text/html": [
       "<pre>✔️ 7.72 ms (2021-10-28T10:55:57/2021-10-28T10:55:57)</pre>"
      ],
      "text/plain": [
       "<IPython.core.display.HTML object>"
      ]
     },
     "metadata": {},
     "output_type": "display_data"
    }
   ],
   "source": [
    "class CrystalDefect():\n",
    "    '''\n",
    "    A CrystalDefect has the following attributes:\n",
    "    \n",
    "    - site          (str):\n",
    "    - host          (str):\n",
    "    - atom_symb     (str):\n",
    "    - charge_state  (int):\n",
    "    - ion           (Ion):\n",
    "    - Bnm           (Bnm):\n",
    "    - freeIparams  (dict):\n",
    "    '''\n",
    "    def __init__(self, defectDict):\n",
    "        if 'Bnm' in defectDict.keys():\n",
    "            self.Bnm = defectDict['Bnm']\n",
    "            Bnmattrs = [a for a in dir(self.Bnm) if not a.startswith('__')]\n",
    "            for Bnmattr in Bnmattrs:\n",
    "                setattr(self, Bnmattr, getattr(self.Bnm, Bnmattr))\n",
    "        for k, v in defectDict.items():\n",
    "            if k == 'Bnm':\n",
    "                continue\n",
    "            setattr(self, k, v)\n",
    "        self.GroupSymb = self.point_sym_group\n",
    "        self.GroupNum = CPGs.all_group_labels.index(self.GroupSymb)\n",
    "        self.Cfield = crystal_fields[self.GroupNum]\n",
    "        self.splitter = crystal_splits[self.GroupNum]\n",
    "    def __repr__(self):\n",
    "        return self.Bnm.__repr__()"
   ]
  },
  {
   "cell_type": "code",
   "execution_count": 35,
   "id": "8b5a113f-e88b-4691-b6a4-335dd776cfe3",
   "metadata": {
    "execution": {
     "iopub.execute_input": "2021-10-28T14:56:21.556603Z",
     "iopub.status.busy": "2021-10-28T14:56:21.556180Z",
     "iopub.status.idle": "2021-10-28T14:56:21.757797Z",
     "shell.execute_reply": "2021-10-28T14:56:21.757464Z",
     "shell.execute_reply.started": "2021-10-28T14:56:21.556567Z"
    },
    "tags": []
   },
   "outputs": [
    {
     "data": {
      "text/html": [
       "<pre>✔️ 3.99 ms (2021-10-28T10:56:21/2021-10-28T10:56:21)</pre>"
      ],
      "text/plain": [
       "<IPython.core.display.HTML object>"
      ]
     },
     "metadata": {},
     "output_type": "display_data"
    }
   ],
   "source": [
    "d2_df = CFparams[CFparams['nd^N'].apply(lambda x: 'd2' in x)]\n",
    "Bnms = []\n",
    "Cdefects = []\n",
    "for row in d2_df.iterrows():\n",
    "    row_data = row[1]\n",
    "    Bparams = {k:v for k,v in row_data.items() if 'B_' in k}\n",
    "    symmetry = row_data['Symmetry']\n",
    "    if symmetry == 'C_{3i}':\n",
    "        symmetry = 'S_{6}'\n",
    "    Bnm_dict = {\n",
    "        'host': row_data['Host'],\n",
    "        'site': row_data['Site'],\n",
    "        'point_sym_group': symmetry,\n",
    "        'ion': row_data['Ion'],\n",
    "        'params': Bparams,\n",
    "        'unit' : 'cm^{-1}',\n",
    "        'sources': row_data['Source'],\n",
    "        'comments': '',\n",
    "        'is_experimental': (row_data['Type'] == 'Experimental')\n",
    "        }\n",
    "    Bnms.append(Bnm(Bnm_dict))"
   ]
  },
  {
   "cell_type": "markdown",
   "id": "fb7a2de5-b339-42ef-ab99-03ecef3da4a7",
   "metadata": {},
   "source": [
    "### Term Factory"
   ]
  },
  {
   "cell_type": "markdown",
   "id": "ababddea-160e-4165-96ae-d9716848cb90",
   "metadata": {
    "execution": {
     "iopub.execute_input": "2021-10-28T14:56:26.507401Z",
     "iopub.status.busy": "2021-10-28T14:56:26.506706Z",
     "iopub.status.idle": "2021-10-28T14:56:26.645845Z",
     "shell.execute_reply": "2021-10-28T14:56:26.645515Z",
     "shell.execute_reply.started": "2021-10-28T14:56:26.507316Z"
    }
   },
   "source": [
    "- Goal given an electron configuration, and a group, determine all of the terms that there could possibly exist.\n",
    "- `term` contains\n",
    "- "
   ]
  },
  {
   "cell_type": "code",
   "execution_count": 115,
   "id": "d2542b61-dc01-40a9-a9f7-2ff6afbe037e",
   "metadata": {
    "execution": {
     "iopub.execute_input": "2021-10-28T20:54:42.735056Z",
     "iopub.status.busy": "2021-10-28T20:54:42.732797Z",
     "iopub.status.idle": "2021-10-28T20:54:42.916120Z",
     "shell.execute_reply": "2021-10-28T20:54:42.915714Z",
     "shell.execute_reply.started": "2021-10-28T20:54:42.734971Z"
    },
    "tags": []
   },
   "outputs": [
    {
     "data": {
      "text/html": [
       "<pre>✔️ 10.6 ms (2021-10-28T16:54:42/2021-10-28T16:54:42)</pre>"
      ],
      "text/plain": [
       "<IPython.core.display.HTML object>"
      ]
     },
     "metadata": {},
     "output_type": "display_data"
    }
   ],
   "source": [
    "class Term():\n",
    "    '''\n",
    "    Represents a term, holds the states that correspond to it,\n",
    "    and offers a nice display of the term symbol.\n",
    "    '''\n",
    "    def __init__(self, init_dict):\n",
    "        self.group_label = 'O_{h}'\n",
    "        for k,v in init_dict.items():\n",
    "            setattr(self, k, v)\n",
    "        self.states = [] # a list of Qets\n",
    "        self.term_prototype = sp.Symbol(r'\\Psi({α},{S},{Γ},{M_s},{γ})')\n",
    "    def term_symbol(self):\n",
    "        ndict = {'α' : self.qnums[sp.Symbol(r'\\alpha')],\n",
    "        'S' : self.qnums[sp.Symbol('S')],\n",
    "        'Γ' : self.qnums[sp.Symbol(r'\\Gamma')],\n",
    "        'M_s' : self.qnums[sp.Symbol(r'Ms')],\n",
    "        'γ' : self.qnums[sp.Symbol(r'\\gamma')]}\n",
    "        return sp.Symbol(str(self.term_prototype).format(**ndict))\n",
    "    def __str__(self):\n",
    "        return str(self.qnums)\n",
    "    def __repr__(self):\n",
    "        return str(self.qnums)"
   ]
  },
  {
   "cell_type": "code",
   "execution_count": 116,
   "id": "cb40f1af-d134-493e-9408-fc73c3de31db",
   "metadata": {
    "execution": {
     "iopub.execute_input": "2021-10-28T20:54:43.104159Z",
     "iopub.status.busy": "2021-10-28T20:54:43.103654Z",
     "iopub.status.idle": "2021-10-28T20:54:43.292186Z",
     "shell.execute_reply": "2021-10-28T20:54:43.291860Z",
     "shell.execute_reply.started": "2021-10-28T20:54:43.104104Z"
    },
    "tags": []
   },
   "outputs": [
    {
     "data": {
      "text/html": [
       "<pre>✔️ 1.92 ms (2021-10-28T16:54:43/2021-10-28T16:54:43)</pre>"
      ],
      "text/plain": [
       "<IPython.core.display.HTML object>"
      ]
     },
     "metadata": {},
     "output_type": "display_data"
    }
   ],
   "source": [
    "aterm = Term({'qnums':{sp.Symbol(r'\\alpha'):sp.Symbol(r'\\alpha'), # qnum that distinguishes between states\n",
    "                      sp.Symbol(r'S'):2, # The S in S(S+1), from eigenvalues of S^2\n",
    "                      sp.Symbol(r'\\Gamma'):sp.Symbol(r'T_{1}'), # symbol for irrep in group\n",
    "                      sp.Symbol(r'\\gamma'):sp.Symbol(r'\\gamma'), # symbol for a component of a basis for the irrep\n",
    "                      sp.Symbol(r'Ms'):1 # the Ms equal to m_1 + m_2\n",
    "                      }\n",
    "             })"
   ]
  },
  {
   "cell_type": "code",
   "execution_count": 117,
   "id": "35b88fa9-07c3-43cc-90e7-b005807eb74c",
   "metadata": {
    "execution": {
     "iopub.execute_input": "2021-10-28T20:54:43.468803Z",
     "iopub.status.busy": "2021-10-28T20:54:43.468412Z",
     "iopub.status.idle": "2021-10-28T20:54:43.659033Z",
     "shell.execute_reply": "2021-10-28T20:54:43.658646Z",
     "shell.execute_reply.started": "2021-10-28T20:54:43.468749Z"
    },
    "tags": []
   },
   "outputs": [
    {
     "data": {
      "text/html": [
       "<pre>✔️ 819 µs (2021-10-28T16:54:43/2021-10-28T16:54:43)</pre>"
      ],
      "text/plain": [
       "<IPython.core.display.HTML object>"
      ]
     },
     "metadata": {},
     "output_type": "display_data"
    }
   ],
   "source": [
    "group = CPGs.get_group_by_label('O')"
   ]
  },
  {
   "cell_type": "code",
   "execution_count": 126,
   "id": "575c8365-586e-4d28-8269-87af080fa7b5",
   "metadata": {
    "execution": {
     "iopub.execute_input": "2021-10-28T21:03:29.712392Z",
     "iopub.status.busy": "2021-10-28T21:03:29.711687Z",
     "iopub.status.idle": "2021-10-28T21:03:29.858686Z",
     "shell.execute_reply": "2021-10-28T21:03:29.858182Z",
     "shell.execute_reply.started": "2021-10-28T21:03:29.712317Z"
    },
    "tags": []
   },
   "outputs": [
    {
     "data": {
      "text/html": [
       "<pre>✔️ 5.86 ms (2021-10-28T17:03:29/2021-10-28T17:03:29)</pre>"
      ],
      "text/plain": [
       "<IPython.core.display.HTML object>"
      ]
     },
     "metadata": {},
     "output_type": "display_data"
    },
    {
     "data": {
      "text/plain": [
       "[A_1, E, T_1, T_2]"
      ]
     },
     "execution_count": 126,
     "metadata": {},
     "output_type": "execute_result"
    }
   ],
   "source": [
    "group.product_table.odict[(sp.Symbol('T_1'),sp.Symbol('T_1'))]"
   ]
  },
  {
   "cell_type": "code",
   "execution_count": 118,
   "id": "56b00f4b-87fc-44ae-9266-be1701a0aa22",
   "metadata": {
    "execution": {
     "iopub.execute_input": "2021-10-28T20:54:43.762334Z",
     "iopub.status.busy": "2021-10-28T20:54:43.762089Z",
     "iopub.status.idle": "2021-10-28T20:54:43.967318Z",
     "shell.execute_reply": "2021-10-28T20:54:43.966993Z",
     "shell.execute_reply.started": "2021-10-28T20:54:43.762307Z"
    },
    "tags": []
   },
   "outputs": [
    {
     "data": {
      "text/html": [
       "<pre>✔️ 3.87 ms (2021-10-28T16:54:43/2021-10-28T16:54:43)</pre>"
      ],
      "text/plain": [
       "<IPython.core.display.HTML object>"
      ]
     },
     "metadata": {},
     "output_type": "display_data"
    },
    {
     "data": {
      "text/plain": [
       "{A_1: [a_{A_1}],\n",
       " A_2: [a_{A_2}],\n",
       " E: [u_{E}, v_{E}],\n",
       " T_1: [x_{T_1}, y_{T_1}, z_{T_1}],\n",
       " T_2: [x_{T_2}, y_{T_2}, z_{T_2}]}"
      ]
     },
     "execution_count": 118,
     "metadata": {},
     "output_type": "execute_result"
    }
   ],
   "source": [
    "group.component_labels"
   ]
  },
  {
   "cell_type": "code",
   "execution_count": 119,
   "id": "ec7fd696-e4e5-4045-b003-a9e9e80f2da8",
   "metadata": {
    "execution": {
     "iopub.execute_input": "2021-10-28T20:54:44.055215Z",
     "iopub.status.busy": "2021-10-28T20:54:44.055003Z",
     "iopub.status.idle": "2021-10-28T20:54:44.253436Z",
     "shell.execute_reply": "2021-10-28T20:54:44.253105Z",
     "shell.execute_reply.started": "2021-10-28T20:54:44.055193Z"
    },
    "tags": []
   },
   "outputs": [
    {
     "data": {
      "text/html": [
       "<pre>✔️ 2.7 ms (2021-10-28T16:54:44/2021-10-28T16:54:44)</pre>"
      ],
      "text/plain": [
       "<IPython.core.display.HTML object>"
      ]
     },
     "metadata": {},
     "output_type": "display_data"
    },
    {
     "data": {
      "text/latex": [
       "$\\displaystyle \\Psi(\\alpha2T_{1}1\\gamma)$"
      ],
      "text/plain": [
       "\\Psi(\\alpha2T_{1}1\\gamma)"
      ]
     },
     "execution_count": 119,
     "metadata": {},
     "output_type": "execute_result"
    }
   ],
   "source": [
    "aterm.term_symbol()"
   ]
  },
  {
   "cell_type": "code",
   "execution_count": 120,
   "id": "135a020a-4437-42ca-a94e-83164bdca28b",
   "metadata": {
    "execution": {
     "iopub.execute_input": "2021-10-28T20:54:44.815693Z",
     "iopub.status.busy": "2021-10-28T20:54:44.815014Z",
     "iopub.status.idle": "2021-10-28T20:54:44.959693Z",
     "shell.execute_reply": "2021-10-28T20:54:44.959084Z",
     "shell.execute_reply.started": "2021-10-28T20:54:44.815615Z"
    },
    "tags": []
   },
   "outputs": [
    {
     "data": {
      "text/html": [
       "<pre>✔️ 5.01 ms (2021-10-28T16:54:44/2021-10-28T16:54:44)</pre>"
      ],
      "text/plain": [
       "<IPython.core.display.HTML object>"
      ]
     },
     "metadata": {},
     "output_type": "display_data"
    },
    {
     "data": {
      "text/latex": [
       "$\\displaystyle \\Psi({α},{S},{Γ},{M_s},{γ})$"
      ],
      "text/plain": [
       "\\Psi({α},{S},{Γ},{M_s},{γ})"
      ]
     },
     "execution_count": 120,
     "metadata": {},
     "output_type": "execute_result"
    }
   ],
   "source": [
    "aterm.term_prototype"
   ]
  },
  {
   "cell_type": "markdown",
   "id": "21c3a0a0-0f1a-47c7-8733-4322aaf33c4f",
   "metadata": {
    "tags": []
   },
   "source": [
    "## $d^1$"
   ]
  },
  {
   "cell_type": "code",
   "execution_count": 3,
   "id": "d5606d42-0ec4-489c-b740-818e16019533",
   "metadata": {
    "collapsed": true,
    "execution": {
     "iopub.execute_input": "2021-10-28T14:48:54.627614Z",
     "iopub.status.busy": "2021-10-28T14:48:54.627200Z",
     "iopub.status.idle": "2021-10-28T14:48:54.763499Z",
     "shell.execute_reply": "2021-10-28T14:48:54.763146Z",
     "shell.execute_reply.started": "2021-10-28T14:48:54.627570Z"
    },
    "jupyter": {
     "outputs_hidden": true
    },
    "tags": []
   },
   "outputs": [
    {
     "data": {
      "text/html": [
       "<pre>✔️ 17.4 ms (2021-10-28T10:48:54/2021-10-28T10:48:54)</pre>"
      ],
      "text/plain": [
       "<IPython.core.display.HTML object>"
      ]
     },
     "metadata": {},
     "output_type": "display_data"
    },
    {
     "data": {
      "text/plain": [
       "{'matrices': [Matrix([\n",
       "  [  B_{4,0}/21,             0,           0,             0, 5*B_{4,0}/21],\n",
       "  [           0, -4*B_{4,0}/21,           0,             0,            0],\n",
       "  [           0,             0, 2*B_{4,0}/7,             0,            0],\n",
       "  [           0,             0,           0, -4*B_{4,0}/21,            0],\n",
       "  [5*B_{4,0}/21,             0,           0,             0,   B_{4,0}/21]]),\n",
       "  Matrix([\n",
       "  [   B_{4,0}/21,             0,           0,             0, -5*B_{4,0}/21],\n",
       "  [            0, -4*B_{4,0}/21,           0,             0,             0],\n",
       "  [            0,             0, 2*B_{4,0}/7,             0,             0],\n",
       "  [            0,             0,           0, -4*B_{4,0}/21,             0],\n",
       "  [-5*B_{4,0}/21,             0,           0,             0,    B_{4,0}/21]])],\n",
       " 'simple_free_parameters': [{B_{4,0}}, {B_{4,0}}],\n",
       " 'free_parameters': [{B_{4,0}^r}, {B_{4,0}^r}],\n",
       " 'eigen_system': [[(-4*B_{4,0}^r/21,\n",
       "    3,\n",
       "    [Matrix([\n",
       "     [0],\n",
       "     [1],\n",
       "     [0],\n",
       "     [0],\n",
       "     [0]]),\n",
       "     Matrix([\n",
       "     [0],\n",
       "     [0],\n",
       "     [0],\n",
       "     [1],\n",
       "     [0]]),\n",
       "     Matrix([\n",
       "     [-1],\n",
       "     [ 0],\n",
       "     [ 0],\n",
       "     [ 0],\n",
       "     [ 1]])]),\n",
       "   (2*B_{4,0}^r/7,\n",
       "    2,\n",
       "    [Matrix([\n",
       "     [0],\n",
       "     [0],\n",
       "     [1],\n",
       "     [0],\n",
       "     [0]]),\n",
       "     Matrix([\n",
       "     [1],\n",
       "     [0],\n",
       "     [0],\n",
       "     [0],\n",
       "     [1]])])],\n",
       "  [(-4*B_{4,0}^r/21,\n",
       "    3,\n",
       "    [Matrix([\n",
       "     [0],\n",
       "     [1],\n",
       "     [0],\n",
       "     [0],\n",
       "     [0]]),\n",
       "     Matrix([\n",
       "     [0],\n",
       "     [0],\n",
       "     [0],\n",
       "     [1],\n",
       "     [0]]),\n",
       "     Matrix([\n",
       "     [1],\n",
       "     [0],\n",
       "     [0],\n",
       "     [0],\n",
       "     [1]])]),\n",
       "   (2*B_{4,0}^r/7,\n",
       "    2,\n",
       "    [Matrix([\n",
       "     [0],\n",
       "     [0],\n",
       "     [1],\n",
       "     [0],\n",
       "     [0]]),\n",
       "     Matrix([\n",
       "     [-1],\n",
       "     [ 0],\n",
       "     [ 0],\n",
       "     [ 0],\n",
       "     [ 1]])])]]}"
      ]
     },
     "execution_count": 3,
     "metadata": {},
     "output_type": "execute_result"
    }
   ],
   "source": [
    "crystal_splits[32]"
   ]
  },
  {
   "cell_type": "code",
   "execution_count": 347,
   "id": "4edbeca2-572a-4c7b-9a15-1cd97a70d8ef",
   "metadata": {
    "execution": {
     "iopub.execute_input": "2021-10-15T17:32:31.629258Z",
     "iopub.status.busy": "2021-10-15T17:32:31.628887Z",
     "iopub.status.idle": "2021-10-15T17:32:31.974281Z",
     "shell.execute_reply": "2021-10-15T17:32:31.973939Z",
     "shell.execute_reply.started": "2021-10-15T17:32:31.629217Z"
    },
    "tags": []
   },
   "outputs": [
    {
     "data": {
      "text/html": [
       "<pre>✔️ 4.42 ms (2021-10-15T13:32:31/2021-10-15T13:32:31)</pre>"
      ],
      "text/plain": [
       "<IPython.core.display.HTML object>"
      ]
     },
     "metadata": {},
     "output_type": "display_data"
    }
   ],
   "source": [
    "grup_indices = range(3,33)\n",
    "matrices = {i: crystal_splits[i]['matrices'][0] for i in grup_indices}"
   ]
  },
  {
   "cell_type": "code",
   "execution_count": 349,
   "id": "ccb10dbd-8ebe-4751-bb23-ae5e887c6d8b",
   "metadata": {
    "execution": {
     "iopub.execute_input": "2021-10-15T17:32:51.681403Z",
     "iopub.status.busy": "2021-10-15T17:32:51.680925Z",
     "iopub.status.idle": "2021-10-15T17:32:52.078742Z",
     "shell.execute_reply": "2021-10-15T17:32:52.078293Z",
     "shell.execute_reply.started": "2021-10-15T17:32:51.681363Z"
    },
    "tags": []
   },
   "outputs": [
    {
     "data": {
      "text/html": [
       "<pre>✔️ 4.64 ms (2021-10-15T13:32:51/2021-10-15T13:32:51)</pre>"
      ],
      "text/plain": [
       "<IPython.core.display.HTML object>"
      ]
     },
     "metadata": {},
     "output_type": "display_data"
    }
   ],
   "source": [
    "grup_symbols = list(map(sp.Symbol,[CPGs.all_group_labels[i-1] for i in grup_indices]))"
   ]
  },
  {
   "cell_type": "code",
   "execution_count": 357,
   "id": "f548ff1c-08c4-4d0c-bab7-0bd132acfd98",
   "metadata": {
    "collapsed": true,
    "execution": {
     "iopub.execute_input": "2021-10-15T17:49:40.764049Z",
     "iopub.status.busy": "2021-10-15T17:49:40.763324Z",
     "iopub.status.idle": "2021-10-15T17:49:41.337355Z",
     "shell.execute_reply": "2021-10-15T17:49:41.336950Z",
     "shell.execute_reply.started": "2021-10-15T17:49:40.763998Z"
    },
    "jupyter": {
     "outputs_hidden": true
    },
    "tags": []
   },
   "outputs": [
    {
     "data": {
      "text/html": [
       "<pre>✔️ 179 ms (2021-10-15T13:49:40/2021-10-15T13:49:40)</pre>"
      ],
      "text/plain": [
       "<IPython.core.display.HTML object>"
      ]
     },
     "metadata": {},
     "output_type": "display_data"
    },
    {
     "data": {
      "text/latex": [
       "$\\displaystyle \\left[\\begin{array}{cccccccccccccccccccccccccccccc}C_{2} & C_{s} & C_{2h} & D_{2} & C_{2v} & D_{2h} & C_{4} & S_{4} & C_{4h} & D_{4} & C_{4v} & D_{2d} & D_{4h} & C_{3} & S_{6} & D_{3} & C_{3v} & D_{3d} & C_{6} & C_{3h} & C_{6h} & D_{6} & C_{6v} & D_{3h} & D_{6h} & T & T_{h} & O & T_{d} & O_{h}\\\\1 & 1 & 1 & 0 & 0 & 0 & 0 & 0 & 0 & 0 & 0 & 0 & 0 & 0 & 0 & 0 & 0 & 0 & 0 & 0 & 0 & 0 & 0 & 0 & 0 & 0 & 0 & 0 & 0 & 0\\\\1 & 1 & 1 & 0 & 0 & 0 & 0 & 0 & 0 & 0 & 0 & 0 & 0 & 0 & 0 & 0 & 0 & 0 & 0 & 0 & 0 & 0 & 0 & 0 & 0 & 0 & 0 & 0 & 0 & 0\\\\1 & 1 & 1 & 0 & 0 & 0 & 0 & 0 & 0 & 0 & 0 & 0 & 0 & 0 & 0 & 0 & 0 & 0 & 0 & 0 & 0 & 0 & 0 & 0 & 0 & 0 & 0 & 0 & 0 & 0\\\\0 & 0 & 0 & 1 & 1 & 1 & 0 & 0 & 0 & 0 & 0 & 0 & 0 & 0 & 0 & 0 & 0 & 0 & 0 & 0 & 0 & 0 & 0 & 0 & 0 & 0 & 0 & 0 & 0 & 0\\\\0 & 0 & 0 & 1 & 1 & 1 & 0 & 0 & 0 & 0 & 0 & 0 & 0 & 0 & 0 & 0 & 0 & 0 & 0 & 0 & 0 & 0 & 0 & 0 & 0 & 0 & 0 & 0 & 0 & 0\\\\0 & 0 & 0 & 1 & 1 & 1 & 0 & 0 & 0 & 0 & 0 & 0 & 0 & 0 & 0 & 0 & 0 & 0 & 0 & 0 & 0 & 0 & 0 & 0 & 0 & 0 & 0 & 0 & 0 & 0\\\\0 & 0 & 0 & 0 & 0 & 0 & 1 & 1 & 1 & 0 & 0 & 0 & 0 & 0 & 0 & 0 & 0 & 0 & 0 & 0 & 0 & 0 & 0 & 0 & 0 & 0 & 0 & 0 & 0 & 0\\\\0 & 0 & 0 & 0 & 0 & 0 & 1 & 1 & 1 & 0 & 0 & 0 & 0 & 0 & 0 & 0 & 0 & 0 & 0 & 0 & 0 & 0 & 0 & 0 & 0 & 0 & 0 & 0 & 0 & 0\\\\0 & 0 & 0 & 0 & 0 & 0 & 1 & 1 & 1 & 0 & 0 & 0 & 0 & 0 & 0 & 0 & 0 & 0 & 0 & 0 & 0 & 0 & 0 & 0 & 0 & 0 & 0 & 0 & 0 & 0\\\\0 & 0 & 0 & 0 & 0 & 0 & 0 & 0 & 0 & 1 & 1 & 1 & 1 & 0 & 0 & 0 & 0 & 0 & 0 & 0 & 0 & 0 & 0 & 0 & 0 & 0 & 0 & 0 & 0 & 0\\\\0 & 0 & 0 & 0 & 0 & 0 & 0 & 0 & 0 & 1 & 1 & 1 & 1 & 0 & 0 & 0 & 0 & 0 & 0 & 0 & 0 & 0 & 0 & 0 & 0 & 0 & 0 & 0 & 0 & 0\\\\0 & 0 & 0 & 0 & 0 & 0 & 0 & 0 & 0 & 1 & 1 & 1 & 1 & 0 & 0 & 0 & 0 & 0 & 0 & 0 & 0 & 0 & 0 & 0 & 0 & 0 & 0 & 0 & 0 & 0\\\\0 & 0 & 0 & 0 & 0 & 0 & 0 & 0 & 0 & 1 & 1 & 1 & 1 & 0 & 0 & 0 & 0 & 0 & 0 & 0 & 0 & 0 & 0 & 0 & 0 & 0 & 0 & 0 & 0 & 0\\\\0 & 0 & 0 & 0 & 0 & 0 & 0 & 0 & 0 & 0 & 0 & 0 & 0 & 1 & 1 & 0 & 0 & 0 & 0 & 0 & 0 & 0 & 0 & 0 & 0 & 0 & 0 & 0 & 0 & 0\\\\0 & 0 & 0 & 0 & 0 & 0 & 0 & 0 & 0 & 0 & 0 & 0 & 0 & 1 & 1 & 0 & 0 & 0 & 0 & 0 & 0 & 0 & 0 & 0 & 0 & 0 & 0 & 0 & 0 & 0\\\\0 & 0 & 0 & 0 & 0 & 0 & 0 & 0 & 0 & 0 & 0 & 0 & 0 & 0 & 0 & 1 & 1 & 1 & 0 & 0 & 0 & 0 & 0 & 0 & 0 & 0 & 0 & 0 & 0 & 0\\\\0 & 0 & 0 & 0 & 0 & 0 & 0 & 0 & 0 & 0 & 0 & 0 & 0 & 0 & 0 & 1 & 1 & 1 & 0 & 0 & 0 & 0 & 0 & 0 & 0 & 0 & 0 & 0 & 0 & 0\\\\0 & 0 & 0 & 0 & 0 & 0 & 0 & 0 & 0 & 0 & 0 & 0 & 0 & 0 & 0 & 1 & 1 & 1 & 0 & 0 & 0 & 0 & 0 & 0 & 0 & 0 & 0 & 0 & 0 & 0\\\\0 & 0 & 0 & 0 & 0 & 0 & 0 & 0 & 0 & 0 & 0 & 0 & 0 & 0 & 0 & 0 & 0 & 0 & 1 & 1 & 1 & 1 & 1 & 1 & 1 & 0 & 0 & 0 & 0 & 0\\\\0 & 0 & 0 & 0 & 0 & 0 & 0 & 0 & 0 & 0 & 0 & 0 & 0 & 0 & 0 & 0 & 0 & 0 & 1 & 1 & 1 & 1 & 1 & 1 & 1 & 0 & 0 & 0 & 0 & 0\\\\0 & 0 & 0 & 0 & 0 & 0 & 0 & 0 & 0 & 0 & 0 & 0 & 0 & 0 & 0 & 0 & 0 & 0 & 1 & 1 & 1 & 1 & 1 & 1 & 1 & 0 & 0 & 0 & 0 & 0\\\\0 & 0 & 0 & 0 & 0 & 0 & 0 & 0 & 0 & 0 & 0 & 0 & 0 & 0 & 0 & 0 & 0 & 0 & 1 & 1 & 1 & 1 & 1 & 1 & 1 & 0 & 0 & 0 & 0 & 0\\\\0 & 0 & 0 & 0 & 0 & 0 & 0 & 0 & 0 & 0 & 0 & 0 & 0 & 0 & 0 & 0 & 0 & 0 & 1 & 1 & 1 & 1 & 1 & 1 & 1 & 0 & 0 & 0 & 0 & 0\\\\0 & 0 & 0 & 0 & 0 & 0 & 0 & 0 & 0 & 0 & 0 & 0 & 0 & 0 & 0 & 0 & 0 & 0 & 1 & 1 & 1 & 1 & 1 & 1 & 1 & 0 & 0 & 0 & 0 & 0\\\\0 & 0 & 0 & 0 & 0 & 0 & 0 & 0 & 0 & 0 & 0 & 0 & 0 & 0 & 0 & 0 & 0 & 0 & 1 & 1 & 1 & 1 & 1 & 1 & 1 & 0 & 0 & 0 & 0 & 0\\\\0 & 0 & 0 & 0 & 0 & 0 & 0 & 0 & 0 & 0 & 0 & 0 & 0 & 0 & 0 & 0 & 0 & 0 & 0 & 0 & 0 & 0 & 0 & 0 & 0 & 1 & 1 & 1 & 1 & 1\\\\0 & 0 & 0 & 0 & 0 & 0 & 0 & 0 & 0 & 0 & 0 & 0 & 0 & 0 & 0 & 0 & 0 & 0 & 0 & 0 & 0 & 0 & 0 & 0 & 0 & 1 & 1 & 1 & 1 & 1\\\\0 & 0 & 0 & 0 & 0 & 0 & 0 & 0 & 0 & 0 & 0 & 0 & 0 & 0 & 0 & 0 & 0 & 0 & 0 & 0 & 0 & 0 & 0 & 0 & 0 & 1 & 1 & 1 & 1 & 1\\\\0 & 0 & 0 & 0 & 0 & 0 & 0 & 0 & 0 & 0 & 0 & 0 & 0 & 0 & 0 & 0 & 0 & 0 & 0 & 0 & 0 & 0 & 0 & 0 & 0 & 1 & 1 & 1 & 1 & 1\\\\0 & 0 & 0 & 0 & 0 & 0 & 0 & 0 & 0 & 0 & 0 & 0 & 0 & 0 & 0 & 0 & 0 & 0 & 0 & 0 & 0 & 0 & 0 & 0 & 0 & 1 & 1 & 1 & 1 & 1\\end{array}\\right]$"
      ],
      "text/plain": [
       "Matrix([\n",
       "[C_{2}, C_{s}, C_{2h}, D_{2}, C_{2v}, D_{2h}, C_{4}, S_{4}, C_{4h}, D_{4}, C_{4v}, D_{2d}, D_{4h}, C_{3}, S_{6}, D_{3}, C_{3v}, D_{3d}, C_{6}, C_{3h}, C_{6h}, D_{6}, C_{6v}, D_{3h}, D_{6h}, T, T_{h}, O, T_{d}, O_{h}],\n",
       "[    1,     1,      1,     0,      0,      0,     0,     0,      0,     0,      0,      0,      0,     0,     0,     0,      0,      0,     0,      0,      0,     0,      0,      0,      0, 0,     0, 0,     0,     0],\n",
       "[    1,     1,      1,     0,      0,      0,     0,     0,      0,     0,      0,      0,      0,     0,     0,     0,      0,      0,     0,      0,      0,     0,      0,      0,      0, 0,     0, 0,     0,     0],\n",
       "[    1,     1,      1,     0,      0,      0,     0,     0,      0,     0,      0,      0,      0,     0,     0,     0,      0,      0,     0,      0,      0,     0,      0,      0,      0, 0,     0, 0,     0,     0],\n",
       "[    0,     0,      0,     1,      1,      1,     0,     0,      0,     0,      0,      0,      0,     0,     0,     0,      0,      0,     0,      0,      0,     0,      0,      0,      0, 0,     0, 0,     0,     0],\n",
       "[    0,     0,      0,     1,      1,      1,     0,     0,      0,     0,      0,      0,      0,     0,     0,     0,      0,      0,     0,      0,      0,     0,      0,      0,      0, 0,     0, 0,     0,     0],\n",
       "[    0,     0,      0,     1,      1,      1,     0,     0,      0,     0,      0,      0,      0,     0,     0,     0,      0,      0,     0,      0,      0,     0,      0,      0,      0, 0,     0, 0,     0,     0],\n",
       "[    0,     0,      0,     0,      0,      0,     1,     1,      1,     0,      0,      0,      0,     0,     0,     0,      0,      0,     0,      0,      0,     0,      0,      0,      0, 0,     0, 0,     0,     0],\n",
       "[    0,     0,      0,     0,      0,      0,     1,     1,      1,     0,      0,      0,      0,     0,     0,     0,      0,      0,     0,      0,      0,     0,      0,      0,      0, 0,     0, 0,     0,     0],\n",
       "[    0,     0,      0,     0,      0,      0,     1,     1,      1,     0,      0,      0,      0,     0,     0,     0,      0,      0,     0,      0,      0,     0,      0,      0,      0, 0,     0, 0,     0,     0],\n",
       "[    0,     0,      0,     0,      0,      0,     0,     0,      0,     1,      1,      1,      1,     0,     0,     0,      0,      0,     0,      0,      0,     0,      0,      0,      0, 0,     0, 0,     0,     0],\n",
       "[    0,     0,      0,     0,      0,      0,     0,     0,      0,     1,      1,      1,      1,     0,     0,     0,      0,      0,     0,      0,      0,     0,      0,      0,      0, 0,     0, 0,     0,     0],\n",
       "[    0,     0,      0,     0,      0,      0,     0,     0,      0,     1,      1,      1,      1,     0,     0,     0,      0,      0,     0,      0,      0,     0,      0,      0,      0, 0,     0, 0,     0,     0],\n",
       "[    0,     0,      0,     0,      0,      0,     0,     0,      0,     1,      1,      1,      1,     0,     0,     0,      0,      0,     0,      0,      0,     0,      0,      0,      0, 0,     0, 0,     0,     0],\n",
       "[    0,     0,      0,     0,      0,      0,     0,     0,      0,     0,      0,      0,      0,     1,     1,     0,      0,      0,     0,      0,      0,     0,      0,      0,      0, 0,     0, 0,     0,     0],\n",
       "[    0,     0,      0,     0,      0,      0,     0,     0,      0,     0,      0,      0,      0,     1,     1,     0,      0,      0,     0,      0,      0,     0,      0,      0,      0, 0,     0, 0,     0,     0],\n",
       "[    0,     0,      0,     0,      0,      0,     0,     0,      0,     0,      0,      0,      0,     0,     0,     1,      1,      1,     0,      0,      0,     0,      0,      0,      0, 0,     0, 0,     0,     0],\n",
       "[    0,     0,      0,     0,      0,      0,     0,     0,      0,     0,      0,      0,      0,     0,     0,     1,      1,      1,     0,      0,      0,     0,      0,      0,      0, 0,     0, 0,     0,     0],\n",
       "[    0,     0,      0,     0,      0,      0,     0,     0,      0,     0,      0,      0,      0,     0,     0,     1,      1,      1,     0,      0,      0,     0,      0,      0,      0, 0,     0, 0,     0,     0],\n",
       "[    0,     0,      0,     0,      0,      0,     0,     0,      0,     0,      0,      0,      0,     0,     0,     0,      0,      0,     1,      1,      1,     1,      1,      1,      1, 0,     0, 0,     0,     0],\n",
       "[    0,     0,      0,     0,      0,      0,     0,     0,      0,     0,      0,      0,      0,     0,     0,     0,      0,      0,     1,      1,      1,     1,      1,      1,      1, 0,     0, 0,     0,     0],\n",
       "[    0,     0,      0,     0,      0,      0,     0,     0,      0,     0,      0,      0,      0,     0,     0,     0,      0,      0,     1,      1,      1,     1,      1,      1,      1, 0,     0, 0,     0,     0],\n",
       "[    0,     0,      0,     0,      0,      0,     0,     0,      0,     0,      0,      0,      0,     0,     0,     0,      0,      0,     1,      1,      1,     1,      1,      1,      1, 0,     0, 0,     0,     0],\n",
       "[    0,     0,      0,     0,      0,      0,     0,     0,      0,     0,      0,      0,      0,     0,     0,     0,      0,      0,     1,      1,      1,     1,      1,      1,      1, 0,     0, 0,     0,     0],\n",
       "[    0,     0,      0,     0,      0,      0,     0,     0,      0,     0,      0,      0,      0,     0,     0,     0,      0,      0,     1,      1,      1,     1,      1,      1,      1, 0,     0, 0,     0,     0],\n",
       "[    0,     0,      0,     0,      0,      0,     0,     0,      0,     0,      0,      0,      0,     0,     0,     0,      0,      0,     1,      1,      1,     1,      1,      1,      1, 0,     0, 0,     0,     0],\n",
       "[    0,     0,      0,     0,      0,      0,     0,     0,      0,     0,      0,      0,      0,     0,     0,     0,      0,      0,     0,      0,      0,     0,      0,      0,      0, 1,     1, 1,     1,     1],\n",
       "[    0,     0,      0,     0,      0,      0,     0,     0,      0,     0,      0,      0,      0,     0,     0,     0,      0,      0,     0,      0,      0,     0,      0,      0,      0, 1,     1, 1,     1,     1],\n",
       "[    0,     0,      0,     0,      0,      0,     0,     0,      0,     0,      0,      0,      0,     0,     0,     0,      0,      0,     0,      0,      0,     0,      0,      0,      0, 1,     1, 1,     1,     1],\n",
       "[    0,     0,      0,     0,      0,      0,     0,     0,      0,     0,      0,      0,      0,     0,     0,     0,      0,      0,     0,      0,      0,     0,      0,      0,      0, 1,     1, 1,     1,     1],\n",
       "[    0,     0,      0,     0,      0,      0,     0,     0,      0,     0,      0,      0,      0,     0,     0,     0,      0,      0,     0,      0,      0,     0,      0,      0,      0, 1,     1, 1,     1,     1]])"
      ]
     },
     "execution_count": 357,
     "metadata": {},
     "output_type": "execute_result"
    }
   ],
   "source": [
    "mahtrix = [grup_symbols]\n",
    "umatrices = {}\n",
    "for grup_index_0 in grup_indices:\n",
    "    row = []\n",
    "    m0 = matrices[grup_index_0]\n",
    "    m0l = sp.latex(m0)\n",
    "    if m0l not in umatrices.keys():\n",
    "        umatrices[m0l] = []\n",
    "    umatrices[m0l].append(CPGs.all_group_labels[grup_index_0-1])\n",
    "    for grup_index_1 in grup_indices:\n",
    "        m1 = matrices[grup_index_1]\n",
    "        row.append(1 if m0==m1 else 0)\n",
    "    mahtrix.append(row)\n",
    "sp.Matrix(mahtrix)"
   ]
  },
  {
   "cell_type": "code",
   "execution_count": 12,
   "id": "39179397-63dd-4fdc-9492-299a9479547b",
   "metadata": {
    "execution": {
     "iopub.execute_input": "2021-10-28T14:50:22.966622Z",
     "iopub.status.busy": "2021-10-28T14:50:22.965977Z",
     "iopub.status.idle": "2021-10-28T14:50:23.137612Z",
     "shell.execute_reply": "2021-10-28T14:50:23.137278Z",
     "shell.execute_reply.started": "2021-10-28T14:50:22.966546Z"
    },
    "tags": []
   },
   "outputs": [
    {
     "data": {
      "text/html": [
       "<pre>✔️ 2.4 ms (2021-10-28T10:50:22/2021-10-28T10:50:22)</pre>"
      ],
      "text/plain": [
       "<IPython.core.display.HTML object>"
      ]
     },
     "metadata": {},
     "output_type": "display_data"
    }
   ],
   "source": [
    "class CrystalDefect():\n",
    "    '''\n",
    "    A CrystalDefect has the following attributes:\n",
    "    \n",
    "    - site          (str):\n",
    "    - host          (str):\n",
    "    - atom_symb     (str):\n",
    "    - charge_state  (int):\n",
    "    - ion           (Ion):\n",
    "    - Bnm           (Bnm):\n",
    "    - freeIparams  (dict):\n",
    "    '''\n",
    "    def __init__(self, defectDict):\n",
    "        if 'Bnm' in defectDict.keys():\n",
    "            self.Bnm = defectDict['Bnm']\n",
    "            Bnmattrs = [a for a in dir(self.Bnm) if not a.startswith('__')]\n",
    "            for Bnmattr in Bnmattrs:\n",
    "                setattr(self, Bnmattr, getattr(self.Bnm, Bnmattr))\n",
    "        for k, v in defectDict.items():\n",
    "            if k == 'Bnm':\n",
    "                continue\n",
    "            setattr(self, k, v)\n",
    "        self.GroupSymb = self.point_sym_group\n",
    "        self.GroupNum = CPGs.all_group_labels.index(self.GroupSymb)\n",
    "        self.Cfield = crystal_fields[self.GroupNum]\n",
    "        self.splitter = crystal_splits[self.GroupNum]\n",
    "    def __repr__(self):\n",
    "        return self.Bnm.__repr__()"
   ]
  },
  {
   "cell_type": "code",
   "execution_count": 5,
   "id": "ad419511-a71c-4864-8bad-8fdd06502849",
   "metadata": {
    "execution": {
     "iopub.execute_input": "2021-10-28T14:49:50.652108Z",
     "iopub.status.busy": "2021-10-28T14:49:50.651472Z",
     "iopub.status.idle": "2021-10-28T14:49:50.826037Z",
     "shell.execute_reply": "2021-10-28T14:49:50.825685Z",
     "shell.execute_reply.started": "2021-10-28T14:49:50.652034Z"
    },
    "tags": []
   },
   "outputs": [
    {
     "data": {
      "text/html": [
       "<pre>✔️ 9.34 ms (2021-10-28T10:49:50/2021-10-28T10:49:50)</pre>"
      ],
      "text/plain": [
       "<IPython.core.display.HTML object>"
      ]
     },
     "metadata": {},
     "output_type": "display_data"
    }
   ],
   "source": [
    "d1_df = CFparams[CFparams['nd^N'].apply(lambda x: 'd1' in x)]\n",
    "Bnms = []\n",
    "Cdefects = []\n",
    "for row in d1_df.iterrows():\n",
    "    row_data = row[1]\n",
    "    Bparams = {k:v for k,v in row_data.items() if 'B_' in k}\n",
    "    symmetry = row_data['Symmetry']\n",
    "    if symmetry == 'C_{3i}':\n",
    "        symmetry = 'S_{6}'\n",
    "    Bnm_dict = {\n",
    "        'host': row_data['Host'],\n",
    "        'site': row_data['Site'],\n",
    "        'point_sym_group': symmetry,\n",
    "        'ion': row_data['Ion'],\n",
    "        'params': Bparams,\n",
    "        'unit' : 'cm^{-1}',\n",
    "        'sources': row_data['Source'],\n",
    "        'comments': '',\n",
    "        'is_experimental': (row_data['Type'] == 'Experimental')\n",
    "        }\n",
    "    Bnms.append(Bnm(Bnm_dict))"
   ]
  },
  {
   "cell_type": "code",
   "execution_count": 9,
   "id": "d40a2735-b982-4d75-b625-cae4e9e85c2f",
   "metadata": {
    "execution": {
     "iopub.execute_input": "2021-10-28T14:50:18.308258Z",
     "iopub.status.busy": "2021-10-28T14:50:18.307697Z",
     "iopub.status.idle": "2021-10-28T14:50:18.435638Z",
     "shell.execute_reply": "2021-10-28T14:50:18.435319Z",
     "shell.execute_reply.started": "2021-10-28T14:50:18.308195Z"
    },
    "tags": []
   },
   "outputs": [
    {
     "data": {
      "text/html": [
       "<pre>✔️ 4.27 ms (2021-10-28T10:50:18/2021-10-28T10:50:18)</pre>"
      ],
      "text/plain": [
       "<IPython.core.display.HTML object>"
      ]
     },
     "metadata": {},
     "output_type": "display_data"
    },
    {
     "data": {
      "text/plain": [
       "16"
      ]
     },
     "execution_count": 9,
     "metadata": {},
     "output_type": "execute_result"
    }
   ],
   "source": [
    "CPGs.all_group_labels.index('S_{6}')"
   ]
  },
  {
   "cell_type": "code",
   "execution_count": 10,
   "id": "7fdb6b6e-2137-4d65-9f7d-5ac0882293ec",
   "metadata": {
    "execution": {
     "iopub.execute_input": "2021-10-28T14:50:18.532721Z",
     "iopub.status.busy": "2021-10-28T14:50:18.532536Z",
     "iopub.status.idle": "2021-10-28T14:50:18.756678Z",
     "shell.execute_reply": "2021-10-28T14:50:18.756267Z",
     "shell.execute_reply.started": "2021-10-28T14:50:18.532704Z"
    },
    "tags": []
   },
   "outputs": [
    {
     "data": {
      "text/html": [
       "<pre>✔️ 3.87 ms (2021-10-28T10:50:18/2021-10-28T10:50:18)</pre>"
      ],
      "text/plain": [
       "<IPython.core.display.HTML object>"
      ]
     },
     "metadata": {},
     "output_type": "display_data"
    },
    {
     "data": {
      "text/latex": [
       "$\\displaystyle - \\frac{B_{2,0}^r}{14} - \\frac{B_{4,0}^r}{14} - \\frac{\\sqrt{81 \\left(B_{2,0}^r\\right)^{2} - 90 B_{2,0}^r B_{4,0}^r + 25 \\left(B_{4,0}^r\\right)^{2} + 140 \\left(B_{4,3}^i\\right)^{2} + 140 \\left(B_{4,3}^r\\right)^{2}}}{42}$"
      ],
      "text/plain": [
       "-B_{2,0}^r/14 - B_{4,0}^r/14 - sqrt(81*B_{2,0}^r**2 - 90*B_{2,0}^r*B_{4,0}^r + 25*B_{4,0}^r**2 + 140*B_{4,3}^i**2 + 140*B_{4,3}^r**2)/42"
      ]
     },
     "execution_count": 10,
     "metadata": {},
     "output_type": "execute_result"
    }
   ],
   "source": [
    "crystal_splits[16]['eigen_system'][0][1][0]"
   ]
  },
  {
   "cell_type": "code",
   "execution_count": 13,
   "id": "0193e41a-1f94-4ee3-ac9a-235895da9b2a",
   "metadata": {
    "execution": {
     "iopub.execute_input": "2021-10-28T14:50:26.824037Z",
     "iopub.status.busy": "2021-10-28T14:50:26.823395Z",
     "iopub.status.idle": "2021-10-28T14:50:27.040443Z",
     "shell.execute_reply": "2021-10-28T14:50:27.040085Z",
     "shell.execute_reply.started": "2021-10-28T14:50:26.823964Z"
    },
    "tags": []
   },
   "outputs": [
    {
     "data": {
      "text/html": [
       "<pre>✔️ 1.53 ms (2021-10-28T10:50:26/2021-10-28T10:50:26)</pre>"
      ],
      "text/plain": [
       "<IPython.core.display.HTML object>"
      ]
     },
     "metadata": {},
     "output_type": "display_data"
    }
   ],
   "source": [
    "cdef = CrystalDefect({'Bnm':Bnms[0],'charge_state':4})"
   ]
  },
  {
   "cell_type": "code",
   "execution_count": 14,
   "id": "a86544aa-5877-4581-b5c7-11719bedccdc",
   "metadata": {
    "execution": {
     "iopub.execute_input": "2021-10-28T14:50:29.427986Z",
     "iopub.status.busy": "2021-10-28T14:50:29.427191Z",
     "iopub.status.idle": "2021-10-28T14:50:29.594535Z",
     "shell.execute_reply": "2021-10-28T14:50:29.594164Z",
     "shell.execute_reply.started": "2021-10-28T14:50:29.427908Z"
    },
    "tags": []
   },
   "outputs": [
    {
     "data": {
      "text/html": [
       "<pre>✔️ 2.25 ms (2021-10-28T10:50:29/2021-10-28T10:50:29)</pre>"
      ],
      "text/plain": [
       "<IPython.core.display.HTML object>"
      ]
     },
     "metadata": {},
     "output_type": "display_data"
    }
   ],
   "source": [
    "def square_field_in_a_round_hole(matrix, Bnm_params):\n",
    "    # assume all params are real\n",
    "    # and that they aint currently typed as either\n",
    "    # assume that all that's missing is zero\n",
    "    available_params = {sp.Symbol(k):v for k,v in Bnm_params.items() if not math.isnan(v)}\n",
    "    matrix = matrix.subs(available_params)\n",
    "    available_params = {sp.Symbol(k+'^r'):v for k,v in Bnm_params.items() if not math.isnan(v)}\n",
    "    matrix_params = set(matrix.free_symbols)\n",
    "    have_params = matrix_params.intersection(available_params)\n",
    "    dont_have = {k: 0 for k in matrix_params.difference(available_params)}\n",
    "    fudged_params = available_params\n",
    "    fudged_params.update(dont_have)\n",
    "    return matrix.subs(fudged_params)"
   ]
  },
  {
   "cell_type": "code",
   "execution_count": 15,
   "id": "d01e92a0-aa92-4715-8e5d-66bc4d07baa6",
   "metadata": {
    "execution": {
     "iopub.execute_input": "2021-10-28T14:50:30.293787Z",
     "iopub.status.busy": "2021-10-28T14:50:30.293274Z",
     "iopub.status.idle": "2021-10-28T14:50:30.463893Z",
     "shell.execute_reply": "2021-10-28T14:50:30.463530Z",
     "shell.execute_reply.started": "2021-10-28T14:50:30.293700Z"
    },
    "tags": []
   },
   "outputs": [
    {
     "data": {
      "text/html": [
       "<pre>✔️ 61 ms (2021-10-28T10:50:30/2021-10-28T10:50:30)</pre>"
      ],
      "text/plain": [
       "<IPython.core.display.HTML object>"
      ]
     },
     "metadata": {},
     "output_type": "display_data"
    },
    {
     "data": {
      "text/plain": [
       "{2*B_{4,0}/7: 3, -3*B_{4,0}/7: 2}"
      ]
     },
     "execution_count": 15,
     "metadata": {},
     "output_type": "execute_result"
    }
   ],
   "source": [
    "cdef.splitter['matrices'][0].subs({sp.Symbol('B_{2,0}'):0,sp.Symbol('B_{4,3}^i'):0,sp.Symbol('B_{4,3}^r'):sp.sqrt(sp.S(10)/7) * sp.Symbol('B_{4,0}')}).eigenvals()"
   ]
  },
  {
   "cell_type": "code",
   "execution_count": 16,
   "id": "187385a6-5a7a-43d9-b376-ea9bca9bf2d6",
   "metadata": {
    "execution": {
     "iopub.execute_input": "2021-10-28T14:50:33.732606Z",
     "iopub.status.busy": "2021-10-28T14:50:33.732164Z",
     "iopub.status.idle": "2021-10-28T14:50:33.969934Z",
     "shell.execute_reply": "2021-10-28T14:50:33.969564Z",
     "shell.execute_reply.started": "2021-10-28T14:50:33.732558Z"
    },
    "tags": []
   },
   "outputs": [
    {
     "data": {
      "text/html": [
       "<pre>✔️ 102 ms (2021-10-28T10:50:33/2021-10-28T10:50:33)</pre>"
      ],
      "text/plain": [
       "<IPython.core.display.HTML object>"
      ]
     },
     "metadata": {},
     "output_type": "display_data"
    }
   ],
   "source": [
    "splits = cdef.splitter['matrices'][0].subs({sp.Symbol('B_{2,0}'):0,sp.Symbol('B_{4,3}^i'):0,sp.Symbol('B_{4,3}^r'):sp.sqrt(sp.S(10)/7) * sp.Symbol('B_{4,0}')}).eigenvals()"
   ]
  },
  {
   "cell_type": "code",
   "execution_count": 18,
   "id": "c7b4708d-1b72-4c07-8581-65cbf66c4501",
   "metadata": {
    "execution": {
     "iopub.execute_input": "2021-10-28T14:50:42.563642Z",
     "iopub.status.busy": "2021-10-28T14:50:42.562785Z",
     "iopub.status.idle": "2021-10-28T14:50:42.705108Z",
     "shell.execute_reply": "2021-10-28T14:50:42.704769Z",
     "shell.execute_reply.started": "2021-10-28T14:50:42.563551Z"
    },
    "tags": []
   },
   "outputs": [
    {
     "data": {
      "text/html": [
       "<pre>✔️ 6.71 ms (2021-10-28T10:50:42/2021-10-28T10:50:42)</pre>"
      ],
      "text/plain": [
       "<IPython.core.display.HTML object>"
      ]
     },
     "metadata": {},
     "output_type": "display_data"
    },
    {
     "data": {
      "text/plain": [
       "'Y3Al5O12'"
      ]
     },
     "execution_count": 18,
     "metadata": {},
     "output_type": "execute_result"
    }
   ],
   "source": [
    "cdef.host"
   ]
  },
  {
   "cell_type": "code",
   "execution_count": 19,
   "id": "53c67d5b-1475-433e-beff-dcabd53e7d78",
   "metadata": {
    "execution": {
     "iopub.execute_input": "2021-10-28T14:50:45.860528Z",
     "iopub.status.busy": "2021-10-28T14:50:45.860159Z",
     "iopub.status.idle": "2021-10-28T14:50:45.990120Z",
     "shell.execute_reply": "2021-10-28T14:50:45.989253Z",
     "shell.execute_reply.started": "2021-10-28T14:50:45.860489Z"
    },
    "tags": []
   },
   "outputs": [
    {
     "data": {
      "text/html": [
       "<pre>✔️ 4.92 ms (2021-10-28T10:50:45/2021-10-28T10:50:45)</pre>"
      ],
      "text/plain": [
       "<IPython.core.display.HTML object>"
      ]
     },
     "metadata": {},
     "output_type": "display_data"
    },
    {
     "data": {
      "text/plain": [
       "454.60338568141566"
      ]
     },
     "execution_count": 19,
     "metadata": {},
     "output_type": "execute_result"
    }
   ],
   "source": [
    "dE = (13200+8800.0) * UnitCon.con_factor('cm^{-1}','eV')\n",
    "1240/dE"
   ]
  },
  {
   "cell_type": "code",
   "execution_count": 20,
   "id": "705f3444-4563-4fe9-894d-d9ce22d4be5b",
   "metadata": {
    "execution": {
     "iopub.execute_input": "2021-10-28T14:51:18.029808Z",
     "iopub.status.busy": "2021-10-28T14:51:18.029194Z",
     "iopub.status.idle": "2021-10-28T14:51:18.320547Z",
     "shell.execute_reply": "2021-10-28T14:51:18.320099Z",
     "shell.execute_reply.started": "2021-10-28T14:51:18.029736Z"
    },
    "tags": []
   },
   "outputs": [
    {
     "data": {
      "text/html": [
       "<pre>✔️ 214 ms (2021-10-28T10:51:18/2021-10-28T10:51:18)</pre>"
      ],
      "text/plain": [
       "<IPython.core.display.HTML object>"
      ]
     },
     "metadata": {},
     "output_type": "display_data"
    },
    {
     "data": {
      "application/vnd.jupyter.widget-view+json": {
       "model_id": "5adb8f824c8b4772aed7d274621f2199",
       "version_major": 2,
       "version_minor": 0
      },
      "text/plain": [
       "Canvas(toolbar=Toolbar(toolitems=[('Home', 'Reset original view', 'home', 'home'), ('Back', 'Back to previous …"
      ]
     },
     "metadata": {},
     "output_type": "display_data"
    }
   ],
   "source": [
    "# splits = square_field_in_a_round_hole(cdef.splitter['matrices'][0], cdef.params).eigenvals()\n",
    "splits = {-8800.0:3, 13200.0:2}\n",
    "fig, ax = plt.subplots(nrows=1, ncols=1, figsize=(4,6))\n",
    "ax.plot([-1,0],[0,0])\n",
    "for e, mult in splits.items():\n",
    "    e = e*UnitCon.con_factor('cm^{-1}','eV') \n",
    "    for i in range(mult):\n",
    "        ax.plot([0,1,2],[0,e+i/50,e+i/50],'k-')\n",
    "ax.set_ylabel('$\\Delta$E / $cm^{-1}$')\n",
    "ax.set_title('$%s^{%d\\!\\!+}\\!\\!:\\!%s$' % (cdef.ion, cdef.charge_state,''.join([r'{%s}_{%d}' % (k,v) for k,v in complex_formula_parser(cdef.host)[0].items()])))\n",
    "ax.xaxis.set_visible(False)\n",
    "plt.tight_layout()\n",
    "plt.show()"
   ]
  },
  {
   "cell_type": "code",
   "execution_count": 27,
   "id": "99418e32-f58f-4b4a-bb31-98cb2683ee5c",
   "metadata": {
    "execution": {
     "iopub.execute_input": "2021-10-28T14:52:09.218327Z",
     "iopub.status.busy": "2021-10-28T14:52:09.217722Z",
     "iopub.status.idle": "2021-10-28T14:52:09.405030Z",
     "shell.execute_reply": "2021-10-28T14:52:09.404659Z",
     "shell.execute_reply.started": "2021-10-28T14:52:09.218255Z"
    },
    "tags": []
   },
   "outputs": [
    {
     "data": {
      "text/html": [
       "<pre>✔️ 18.3 ms (2021-10-28T10:52:09/2021-10-28T10:52:09)</pre>"
      ],
      "text/plain": [
       "<IPython.core.display.HTML object>"
      ]
     },
     "metadata": {},
     "output_type": "display_data"
    }
   ],
   "source": [
    "V4ion = Ion('V',4)\n",
    "V4ion.nist_data.loc[:,'Level (cm^{-1})'] = V4ion.nist_data['Level (eV)'] * UnitCon.con_factor('eV','cm^{-1}')"
   ]
  },
  {
   "cell_type": "code",
   "execution_count": 29,
   "id": "beaa6fc8-5413-46b1-a0dc-736ee5e01cef",
   "metadata": {
    "execution": {
     "iopub.execute_input": "2021-10-28T14:52:25.578030Z",
     "iopub.status.busy": "2021-10-28T14:52:25.577395Z",
     "iopub.status.idle": "2021-10-28T14:52:25.733859Z",
     "shell.execute_reply": "2021-10-28T14:52:25.733462Z",
     "shell.execute_reply.started": "2021-10-28T14:52:25.577955Z"
    },
    "tags": []
   },
   "outputs": [
    {
     "data": {
      "text/html": [
       "<pre>✔️ 8.87 ms (2021-10-28T10:52:25/2021-10-28T10:52:25)</pre>"
      ],
      "text/plain": [
       "<IPython.core.display.HTML object>"
      ]
     },
     "metadata": {},
     "output_type": "display_data"
    },
    {
     "data": {
      "text/plain": [
       "0          0.000000\n",
       "1        624.869951\n",
       "2     148143.354049\n",
       "3     206393.720573\n",
       "4     207660.002906\n",
       "          ...      \n",
       "66    496296.308675\n",
       "67    497556.146639\n",
       "68    500116.956840\n",
       "69    500501.683285\n",
       "70    526532.016519\n",
       "Name: Level (cm^{-1}), Length: 71, dtype: float64"
      ]
     },
     "execution_count": 29,
     "metadata": {},
     "output_type": "execute_result"
    }
   ],
   "source": [
    "V4ion.nist_data.loc[:,'Level (cm^{-1})']"
   ]
  },
  {
   "cell_type": "code",
   "execution_count": 30,
   "id": "9131689f-c155-4c1d-a8a5-148958538639",
   "metadata": {
    "execution": {
     "iopub.execute_input": "2021-10-28T14:52:40.936523Z",
     "iopub.status.busy": "2021-10-28T14:52:40.936147Z",
     "iopub.status.idle": "2021-10-28T14:52:41.091487Z",
     "shell.execute_reply": "2021-10-28T14:52:41.090937Z",
     "shell.execute_reply.started": "2021-10-28T14:52:40.936486Z"
    },
    "tags": []
   },
   "outputs": [
    {
     "data": {
      "text/html": [
       "<pre>✔️ 9.14 ms (2021-10-28T10:52:40/2021-10-28T10:52:40)</pre>"
      ],
      "text/plain": [
       "<IPython.core.display.HTML object>"
      ]
     },
     "metadata": {},
     "output_type": "display_data"
    },
    {
     "data": {
      "text/plain": [
       "[{B_{2,0}^r, B_{4,0}^r, B_{4,3}^i, B_{4,3}^r}]"
      ]
     },
     "execution_count": 30,
     "metadata": {},
     "output_type": "execute_result"
    }
   ],
   "source": [
    "cdef.splitter['free_parameters']"
   ]
  },
  {
   "cell_type": "code",
   "execution_count": 31,
   "id": "b8c00355-a0b4-41cc-9e58-55bb2b71bdb0",
   "metadata": {
    "execution": {
     "iopub.execute_input": "2021-10-28T14:52:42.373854Z",
     "iopub.status.busy": "2021-10-28T14:52:42.373150Z",
     "iopub.status.idle": "2021-10-28T14:52:42.522334Z",
     "shell.execute_reply": "2021-10-28T14:52:42.521909Z",
     "shell.execute_reply.started": "2021-10-28T14:52:42.373777Z"
    },
    "tags": []
   },
   "outputs": [
    {
     "data": {
      "text/html": [
       "<pre>✔️ 8.37 ms (2021-10-28T10:52:42/2021-10-28T10:52:42)</pre>"
      ],
      "text/plain": [
       "<IPython.core.display.HTML object>"
      ]
     },
     "metadata": {},
     "output_type": "display_data"
    },
    {
     "data": {
      "text/plain": [
       "{B_{2,0}, B_{4,0}, B_{4,3}^i, B_{4,3}^r}"
      ]
     },
     "execution_count": 31,
     "metadata": {},
     "output_type": "execute_result"
    }
   ],
   "source": [
    "cdef.splitter['matrices'][0].free_symbols"
   ]
  },
  {
   "cell_type": "code",
   "execution_count": null,
   "id": "551424c8-0a36-44ff-9efa-1c27bce23ce9",
   "metadata": {},
   "outputs": [],
   "source": []
  }
 ],
 "metadata": {
  "kernelspec": {
   "display_name": "qdef3p8",
   "language": "python",
   "name": "qdef3p8"
  },
  "language_info": {
   "codemirror_mode": {
    "name": "ipython",
    "version": 3
   },
   "file_extension": ".py",
   "mimetype": "text/x-python",
   "name": "python",
   "nbconvert_exporter": "python",
   "pygments_lexer": "ipython3",
   "version": "3.8.8"
  },
  "toc-autonumbering": true
 },
 "nbformat": 4,
 "nbformat_minor": 5
}
