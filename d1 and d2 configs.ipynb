{
 "cells": [
  {
   "cell_type": "markdown",
   "id": "3258c9e7-6520-4eb1-b8c2-27c7413f949d",
   "metadata": {},
   "source": [
    "# Transition Metal Ions with $d^1$ & $d^2$ Electron Configurations\n",
    "\n"
   ]
  },
  {
   "cell_type": "code",
   "execution_count": 1,
   "id": "58cb7e91-c643-452c-a2ef-389225a3a3b7",
   "metadata": {
    "tags": []
   },
   "outputs": [
    {
     "data": {
      "text/html": [
       "<pre>✔️ 2.13 s (2021-11-16T15:26:59/2021-11-16T15:27:01)</pre>"
      ],
      "text/plain": [
       "<IPython.core.display.HTML object>"
      ]
     },
     "metadata": {},
     "output_type": "display_data"
    },
    {
     "name": "stdout",
     "output_type": "stream",
     "text": [
      "Reloading /Volumes/GoogleDrive/My Drive/Zia Lab/Codebase/qdef/data/CPGs.pkl ...\n"
     ]
    }
   ],
   "source": [
    "%load_ext autoreload\n",
    "# provide cell timings\n",
    "%load_ext autotime\n",
    "# %autoreload 2\n",
    "import sympy as sp\n",
    "import numpy as np\n",
    "import math\n",
    "from scipy.special import sph_harm as Ynm_num\n",
    "# from sympy import poly, lambdify\n",
    "from IPython.display import display, Math\n",
    "# %config InlineBackend.figure_format='retina'\n",
    "%config Completer.use_jedi = False\n",
    "from qdef import *\n",
    "from misc import *\n",
    "from itertools import product\n",
    "from sympy import I\n",
    "import ipywidgets as widgets\n",
    "from ipywidgets import interact, interactive, fixed, interact_manual\n",
    "from IPython.display import HTML, display, Math, Latex\n",
    "from matplotlib import pyplot as plt\n",
    "%matplotlib widget\n",
    "from pyperclip import copy as pypercopy\n",
    "from collections import OrderedDict"
   ]
  },
  {
   "cell_type": "code",
   "execution_count": 2,
   "id": "49f0121f-b28f-4a2c-8796-f822e2dfb40d",
   "metadata": {
    "tags": []
   },
   "outputs": [
    {
     "data": {
      "text/html": [
       "<pre>✔️ 32.4 ms (2021-11-11T15:51:31/2021-11-11T15:51:32)</pre>"
      ],
      "text/plain": [
       "<IPython.core.display.HTML object>"
      ]
     },
     "metadata": {},
     "output_type": "display_data"
    }
   ],
   "source": [
    "CFparams = pd.read_pickle(os.path.join(module_dir,'data','CFparams.pkl'))\n",
    "crystal_splits = pickle.load(open(os.path.join(module_dir,'data','crystal_splits.pkl'),'rb'))"
   ]
  },
  {
   "cell_type": "markdown",
   "id": "6e98202a-56d2-40de-b581-0a6fac937880",
   "metadata": {
    "tags": []
   },
   "source": [
    "## $d^2$ (Nov 11)\n",
    "\n",
    "The general goal of this section is to be able to programatically reproduce Ch. 2 of TSK for other groups other than cubic.\n",
    "\n",
    "Then to apply this analysis to as many specific systems for which CF params are known.\n",
    "\n",
    "Ideally I should also know at this stage how is that two valence holes can be made equivalent to two valence electrons so that the d^2 electron configurations are made equivalent to d^8 configurations (such as that of Ni^2+).\n",
    "\n",
    "The general goal can be split into the following tasks:\n",
    "\n",
    "- Calculation of slater determinant symbols together with visualization.\n",
    "\n",
    "- Calculation of term symbols.\n",
    "\n",
    "- Printout of reduction tables (i.e. Table 2.1 for other groups).\n",
    "\n",
    "- Printout of CG coefficients for the refined Vee coefficients.\n",
    "\n",
    "- Generation of total spin wavefunctions for two electrons.\n",
    "\n",
    "- Number of predicted states according to Pauli exclusion principle.\n",
    "\n",
    "- Calculation of allowed terms.\n",
    "\n",
    "- Calculation of terms and associated wavefunctions (i.e. analogues of Table 2.2, 2.3, 2.4, ...).\n",
    "\n",
    "- Calculation of term energies, in terms of slater integrals or racah parameters.\n",
    "\n",
    "- Visualization of energy levels for different two-electron configurations (diagrams such as that in Fig 2.3).\n",
    "\n",
    "- Visualization of some sort of the spatial dependence of these eigenfunctions.\n",
    "\n",
    "- Two electron integrals in terms of Racah parameters.\n",
    "\n",
    "- Two-Electron wavefunctions."
   ]
  },
  {
   "cell_type": "markdown",
   "id": "dda23a26-91c9-4428-bb9c-23a81536ea1a",
   "metadata": {},
   "source": [
    "### Improving notation for components"
   ]
  },
  {
   "cell_type": "code",
   "execution_count": 640,
   "id": "8b42a22e-1306-4f04-8cb9-4f346392ac96",
   "metadata": {},
   "outputs": [
    {
     "data": {
      "text/html": [
       "<pre>✔️ 18.8 ms (2021-11-16T15:24:41/2021-11-16T15:24:42)</pre>"
      ],
      "text/plain": [
       "<IPython.core.display.HTML object>"
      ]
     },
     "metadata": {},
     "output_type": "display_data"
    }
   ],
   "source": [
    "# def notation_maker(group)\n",
    "greek = 'alpha beta gamma zeta eta mu nu xi phi chi omega'\n",
    "greek_alphabet = [sp.Symbol(r'\\%s' % g) for g in greek.split(' ')]\n",
    "new_labels = []\n",
    "for group_label in CPGs.all_group_labels:\n",
    "    group = CPGs.get_group_by_label(group_label)\n",
    "    # get the irrep symbols\n",
    "    irrep_symbols = group.irrep_labels\n",
    "    # get the irrep dims\n",
    "    irrep_dims = group.irrep_dims\n",
    "    # separate them according to their dimension\n",
    "    dims = list(set(irrep_dims.values()))\n",
    "    irrep_symbols = OrderedDict([(dim, ([isymb for isymb in irrep_symbols if irrep_dims[isymb]==dim])) for dim in dims])\n",
    "    irrep_symbols = OrderedDict([(k,sorted(v, key = lambda x: sp.latex(x))) for k,v in irrep_symbols.items()])\n",
    "    irrep_symbols = sum(list(irrep_symbols.values()),[])\n",
    "    asymb = str(irrep_symbols[0])\n",
    "    if 'g' in asymb or 'u' in asymb:\n",
    "        irrep_symbols_u = [i for i in irrep_symbols if 'u' in str(i)]\n",
    "        irrep_symbols_v = [i for i in irrep_symbols if 'g' in str(i)]\n",
    "        component_labels = {ir:OrderedDict() for ir in group.irrep_labels}\n",
    "        counter = 0\n",
    "        for irrep_symbol in irrep_symbols_u:\n",
    "            old_components = group.component_labels[irrep_symbol]\n",
    "            for old_component in old_components:\n",
    "                component_labels[irrep_symbol][old_component] = sp.Symbol('{%s}_{u}' % (sp.latex(greek_alphabet[counter])))\n",
    "                counter += 1\n",
    "        counter = 0\n",
    "        for irrep_symbol in irrep_symbols_v:\n",
    "            old_components = group.component_labels[irrep_symbol]\n",
    "            for old_component in old_components:\n",
    "                component_labels[irrep_symbol][old_component] = sp.Symbol('{%s}_{g}' % (sp.latex(greek_alphabet[counter])))\n",
    "                counter += 1\n",
    "    elif group_label in ['C_{6h}','C_{4h}']:\n",
    "        component_labels = {ir:OrderedDict() for ir in group.irrep_labels}\n",
    "        counter = 0\n",
    "        for irrep_symbol in irrep_symbols:\n",
    "            old_components = group.component_labels[irrep_symbol]\n",
    "            for old_component in old_components:\n",
    "                component_labels[irrep_symbol][old_component] = sp.Symbol('{\\gamma}_{%d}' % (counter+1))\n",
    "                counter += 1\n",
    "    else:\n",
    "        component_labels = {ir:OrderedDict() for ir in group.irrep_labels}\n",
    "        counter = 0\n",
    "        for irrep_symbol in irrep_symbols:\n",
    "            old_components = group.component_labels[irrep_symbol]\n",
    "            for old_component in old_components:\n",
    "                component_labels[irrep_symbol][old_component] = sp.Symbol('{%s}' % sp.latex(greek_alphabet[counter]))\n",
    "                counter += 1\n",
    "    new_labels.append((group_label, component_labels))\n",
    "new_labels = OrderedDict(new_labels)"
   ]
  },
  {
   "cell_type": "code",
   "execution_count": 169,
   "id": "fe2bfec6-a162-429b-a8e3-1db524c636d0",
   "metadata": {},
   "outputs": [
    {
     "data": {
      "text/html": [
       "<pre>✔️ 26.2 ms (2021-11-15T12:37:56/2021-11-15T12:37:56)</pre>"
      ],
      "text/plain": [
       "<IPython.core.display.HTML object>"
      ]
     },
     "metadata": {},
     "output_type": "display_data"
    },
    {
     "data": {
      "text/plain": [
       "18473"
      ]
     },
     "execution_count": 169,
     "metadata": {},
     "output_type": "execute_result"
    }
   ],
   "source": [
    "outlines = []\n",
    "for group_label in CPGs.all_group_labels:\n",
    "    outlines.append(\"\\\\subsection{Group : ${%s}$}\" % group_label)\n",
    "#     if group_label != 'O':\n",
    "#         continue\n",
    "    group = CPGs.get_group_by_label(group_label)\n",
    "    irrep_symbols = group.irrep_labels\n",
    "    components = group.component_labels\n",
    "    for irrep in irrep_symbols:\n",
    "        these_components = ','.join(list(map(sp.latex,components[irrep])))\n",
    "        these_new_components = ','.join(list(map(lambda x: sp.latex(new_labels[group_label][irrep][x]),components[irrep])))\n",
    "        outlines.append('\\n\\\\noindent$%s: %s $\\n\\\\vspace{0.1cm}\\n' % (sp.latex(irrep),these_components))\n",
    "        outlines.append('\\n\\\\noindent$%s: %s $\\n\\\\vspace{0.5cm}\\n' % (sp.latex(irrep),these_new_components))\n",
    "final_output = '\\n'.join(outlines).replace(\"^'\",\"^{'}\").replace(\"^''\",\"^{''}\")\n",
    "open('/Users/juan/Library/Mobile Documents/com~apple~CloudDocs/iCloudFiles/Theoretical Division/ComponentLabeling-rosetta.tex','w').write(final_output)"
   ]
  },
  {
   "cell_type": "markdown",
   "id": "a6a6ac33-4297-49e8-a067-bbfbc146c157",
   "metadata": {
    "tags": []
   },
   "source": [
    "### Spin-orbitals (see qdef-tables.tex)"
   ]
  },
  {
   "cell_type": "code",
   "execution_count": 3,
   "id": "fcd6e6ff-9701-45c4-aa34-ed7ec7d35ee1",
   "metadata": {},
   "outputs": [
    {
     "data": {
      "text/html": [
       "<pre>✔️ 96.7 ms (2021-11-16T15:27:52/2021-11-16T15:27:53)</pre>"
      ],
      "text/plain": [
       "<IPython.core.display.HTML object>"
      ]
     },
     "metadata": {},
     "output_type": "display_data"
    }
   ],
   "source": [
    "new_labels = pickle.load(open('./Data/components_rosetta.pkl','rb'))"
   ]
  },
  {
   "cell_type": "code",
   "execution_count": 4,
   "id": "e691089f-a01a-4cd0-a701-f946e62880d4",
   "metadata": {},
   "outputs": [
    {
     "data": {
      "text/html": [
       "<pre>✔️ 52 ms (2021-11-16T15:27:57/2021-11-16T15:27:57)</pre>"
      ],
      "text/plain": [
       "<IPython.core.display.HTML object>"
      ]
     },
     "metadata": {},
     "output_type": "display_data"
    },
    {
     "data": {
      "text/plain": [
       "31183"
      ]
     },
     "execution_count": 4,
     "metadata": {},
     "output_type": "execute_result"
    }
   ],
   "source": [
    "# with new labels\n",
    "group_chunks = []\n",
    "for group_label in CPGs.all_group_labels:\n",
    "    group = CPGs.get_group_by_label(group_label)\n",
    "    all_spin_combos = OrderedDict()\n",
    "    spin_states = [sp.Symbol(r'\\alpha'), sp.Symbol(r'\\beta')]\n",
    "    group.new_component_labels = {ir:list(new_labels[group_label][ir].values()) for ir in group.irrep_labels}\n",
    "    for irrep in group.irrep_labels:\n",
    "        spin_orbitals = []\n",
    "        for component0, component1 in product(group.new_component_labels[irrep],group.new_component_labels[irrep]):\n",
    "            for s0, s1 in product(spin_states,spin_states):\n",
    "                spin_orbital = (component0, component1, s0, s1)\n",
    "                if (component1, component0, s1, s0) not in spin_orbitals:\n",
    "                    if (component1, s1) != (component0, s0):\n",
    "                        spin_orbitals.append(spin_orbital)\n",
    "        spin_orbital_symbols = {}\n",
    "        for spin_orbital in spin_orbitals:\n",
    "            component0, component1, s0, s1 = spin_orbital\n",
    "            if s0 == spin_states[0]:\n",
    "                cstar0 = sp.latex(component0)\n",
    "            else:\n",
    "                cstar0 = r'\\overline{%s}' % sp.latex(component0)\n",
    "            if s1 == spin_states[0]:\n",
    "                cstar1 = sp.latex(component1)\n",
    "            else:\n",
    "                cstar1 = r'\\overline{%s}' % sp.latex(component1)\n",
    "            spin_orbital_symbols[spin_orbital] = sp.Symbol(r'$|%s%s|$' % (cstar0, cstar1))\n",
    "        all_slater_symbols = []\n",
    "        for s in list(spin_orbital_symbols.values()):\n",
    "            all_slater_symbols.append(sp.latex(s))\n",
    "        all_slater_symbols = ', '.join(all_slater_symbols)\n",
    "        all_slater_symbols = '\\\\begin{center}\\n%s\\n\\\\end{center}' % all_slater_symbols\n",
    "        all_slater_symbols = ('\\\\begin{center}\\n $%s{\\\\cdot}%s:$ \\n\\\\end{center}\\n\\n' % (sp.latex(irrep),sp.latex(irrep))) + all_slater_symbols\n",
    "        all_spin_combos[irrep] = all_slater_symbols\n",
    "    final_output = '\\n\\n'.join(all_spin_combos.values())\n",
    "    final_output = ('\\\\hrulefill \\n \\\\begin{center} Group $%s$ \\\\end{center} \\n' % group_label) + final_output\n",
    "    group_chunks.append(final_output)\n",
    "super_output = '\\n'.join(group_chunks)\n",
    "super_output = super_output.replace(\"^'\",\"^{'}\").replace(\"^''\",\"^{''}\")\n",
    "open('//Users/juan/Library/Mobile Documents/com~apple~CloudDocs/iCloudFiles/Theoretical Division/spin-orbitals.tex','w').write(super_output)"
   ]
  },
  {
   "cell_type": "code",
   "execution_count": 638,
   "id": "b762900b-7a04-47fc-a673-64c2f4873ff8",
   "metadata": {},
   "outputs": [
    {
     "data": {
      "text/html": [
       "<pre>✔️ 112 ms (2021-11-16T15:22:05/2021-11-16T15:22:05)</pre>"
      ],
      "text/plain": [
       "<IPython.core.display.HTML object>"
      ]
     },
     "metadata": {},
     "output_type": "display_data"
    }
   ],
   "source": [
    "pickle.dump(new_labels, open('./Data/components_rosetta.pkl','wb'))"
   ]
  },
  {
   "cell_type": "code",
   "execution_count": 639,
   "id": "36d2ed4a-30d7-4a72-9af1-6ab53dbd9038",
   "metadata": {},
   "outputs": [
    {
     "data": {
      "text/html": [
       "<pre>✔️ 9.32 ms (2021-11-16T15:24:04/2021-11-16T15:24:04)</pre>"
      ],
      "text/plain": [
       "<IPython.core.display.HTML object>"
      ]
     },
     "metadata": {},
     "output_type": "display_data"
    }
   ],
   "source": [
    "# group_chunks = []\n",
    "# for group_label in CPGs.all_group_labels:\n",
    "#     group = CPGs.get_group_by_label(group_label)\n",
    "#     all_spin_combos = OrderedDict()\n",
    "#     spin_states = [sp.Symbol(r'\\alpha'), sp.Symbol(r'\\beta')]\n",
    "#     for irrep in group.irrep_labels:\n",
    "#         spin_orbitals = []\n",
    "#         for component0, component1 in product(group.component_labels[irrep],group.component_labels[irrep]):\n",
    "#             for s0, s1 in product(spin_states,spin_states):\n",
    "#                 spin_orbital = (component0, component1, s0, s1)\n",
    "#                 if (component1, component0, s1, s0) not in spin_orbitals:\n",
    "#                     if (component1, s1) != (component0, s0):\n",
    "#                         spin_orbitals.append(spin_orbital)\n",
    "#         spin_orbital_symbols = {}\n",
    "#         for spin_orbital in spin_orbitals:\n",
    "#             component0, component1, s0, s1 = spin_orbital\n",
    "#             if s0 == spin_states[0]:\n",
    "#                 cstar0 = sp.latex(component0)\n",
    "#             else:\n",
    "#                 cstar0 = r'\\overline{%s}' % sp.latex(component0)\n",
    "#             if s1 == spin_states[0]:\n",
    "#                 cstar1 = sp.latex(component1)\n",
    "#             else:\n",
    "#                 cstar1 = r'\\overline{%s}' % sp.latex(component1)\n",
    "#             spin_orbital_symbols[spin_orbital] = sp.Symbol(r'$|%s%s|$' % (cstar0, cstar1))\n",
    "#         all_slater_symbols = []\n",
    "#         for s in list(spin_orbital_symbols.values()):\n",
    "#             all_slater_symbols.append(sp.latex(s))\n",
    "#         all_slater_symbols = ', '.join(all_slater_symbols)\n",
    "#         all_slater_symbols = '\\\\begin{center}\\n%s\\n\\\\end{center}' % all_slater_symbols\n",
    "#         all_slater_symbols = ('\\\\begin{center}\\n $%s{\\\\cdot}%s:$ \\n\\\\end{center}\\n\\n' % (sp.latex(irrep),sp.latex(irrep))) + all_slater_symbols\n",
    "#         all_spin_combos[irrep] = all_slater_symbols\n",
    "#     final_output = '\\n\\n'.join(all_spin_combos.values())\n",
    "#     final_output = ('\\\\hrulefill \\n \\\\begin{center} Group $%s$ \\\\end{center} \\n' % group_label) + final_output\n",
    "#     group_chunks.append(final_output)\n",
    "# super_output = '\\n'.join(group_chunks)\n",
    "# super_output = super_output.replace(\"^'\",\"^{'}\").replace(\"^''\",\"^{''}\")\n",
    "# open('//Users/juan/Library/Mobile Documents/com~apple~CloudDocs/iCloudFiles/Theoretical Division/spin-orbitals.tex','w').write(super_output)"
   ]
  },
  {
   "cell_type": "markdown",
   "id": "12fb8f73-2670-464b-bc70-f340b7d3781c",
   "metadata": {
    "tags": []
   },
   "source": [
    "### Terms and their wavefunctions"
   ]
  },
  {
   "cell_type": "code",
   "execution_count": 5,
   "id": "fd17d8f9-620d-48b7-8922-22af48e15e2d",
   "metadata": {},
   "outputs": [
    {
     "data": {
      "text/html": [
       "<pre>✔️ 5.04 ms (2021-11-16T15:28:18/2021-11-16T15:28:18)</pre>"
      ],
      "text/plain": [
       "<IPython.core.display.HTML object>"
      ]
     },
     "metadata": {},
     "output_type": "display_data"
    }
   ],
   "source": [
    "from sympy.physics.wigner import clebsch_gordan as ClebschG"
   ]
  },
  {
   "cell_type": "code",
   "execution_count": 6,
   "id": "f9394510-19fd-4fde-8940-2a7408eb3431",
   "metadata": {},
   "outputs": [
    {
     "data": {
      "text/html": [
       "<pre>✔️ 1.15 ms (2021-11-16T15:28:19/2021-11-16T15:28:19)</pre>"
      ],
      "text/plain": [
       "<IPython.core.display.HTML object>"
      ]
     },
     "metadata": {},
     "output_type": "display_data"
    }
   ],
   "source": [
    "def det_simplify(qet):\n",
    "    '''\n",
    "    Simplification from antisymmetry of composing elements.\n",
    "    '''\n",
    "    qet_dict = qet.dict\n",
    "    best_qet = {}\n",
    "    for key, coeff in qet_dict.items():\n",
    "        ikey = (*key[3:],*key[:3])\n",
    "        current_keys = list(best_qet.keys())\n",
    "        if ikey in current_keys:\n",
    "            best_qet[ikey] += -coeff\n",
    "            continue\n",
    "        if key not in current_keys:\n",
    "            best_qet[key] = coeff\n",
    "        else:\n",
    "            best_qet[key] += coeff\n",
    "    return Qet(best_qet)"
   ]
  },
  {
   "cell_type": "code",
   "execution_count": 8,
   "id": "ee2fce57-c617-416d-8343-6d09222d58cc",
   "metadata": {},
   "outputs": [
    {
     "data": {
      "text/html": [
       "<pre>✔️ 1.78 ms (2021-11-16T15:28:23/2021-11-16T15:28:23)</pre>"
      ],
      "text/plain": [
       "<IPython.core.display.HTML object>"
      ]
     },
     "metadata": {},
     "output_type": "display_data"
    }
   ],
   "source": [
    "# this is now included in qdefcore\n",
    "# class Term():\n",
    "#     '''\n",
    "#     To  represent  a  term,  this  object  holds the states that\n",
    "#     correspond  to  it,  and offers a few methods in to view the\n",
    "#     enclosed wave functions.\n",
    "#     '''\n",
    "#     def __init__(self, init_dict):\n",
    "#         for k,v in init_dict.items():\n",
    "#             setattr(self, k, v)\n",
    "#         self.term_prototype = sp.Symbol(r'{{}}^{{{M}}}{ir}')\n",
    "#         self.state_label_prototype = sp.Symbol(r'\\Psi({α}, {S}, {{{Γ}}}, {M_s}, {γ})')\n",
    "#     def term_symbol(self):\n",
    "#         return sp.Symbol(str(self.term_prototype).format(M=str(2*self.S+1),ir=str(sp.latex(self.irrep))))\n",
    "#     def make_state_symbols(self):\n",
    "#         state_symbols = []\n",
    "#         for qet, state_key in zip(self.states, self.state_keys):\n",
    "#             (Γ1, Γ2, Γ3, γ3, S, mSz) = state_key\n",
    "#             ket = qet.as_ket(fold_keys=True)\n",
    "#             ket_symbol = sp.latex(ket).replace('\\\\right\\\\rangle','\\\\right|')\n",
    "#             α = Γ1*Γ2\n",
    "#             term_symb = self.term_symbol()\n",
    "#             state_symbol = '\\\\Psi(%s,%s,M\\!=\\!%d,%s)' % (sp.latex(α).lower(), term_symb, mSz, sp.latex(γ3))\n",
    "#             state_symbols.append((state_symbol, ket_symbol))\n",
    "#         return state_symbols\n",
    "#     def __str__(self):\n",
    "#         return (self.term_symbol())\n",
    "#     def __repr__(self):\n",
    "#         return '%s: %d states' % (str(self.term_symbol()), len(self.states))"
   ]
  },
  {
   "cell_type": "code",
   "execution_count": 9,
   "id": "e5546e50-95b8-4f98-a4b1-980d2ca27b2b",
   "metadata": {},
   "outputs": [
    {
     "data": {
      "text/html": [
       "<pre>✔️ 4.01 ms (2021-11-16T15:28:34/2021-11-16T15:28:34)</pre>"
      ],
      "text/plain": [
       "<IPython.core.display.HTML object>"
      ]
     },
     "metadata": {},
     "output_type": "display_data"
    }
   ],
   "source": [
    "def as_determinantal_ket(qet):\n",
    "    qdict = {}\n",
    "    for k,v in qet.dict.items():\n",
    "        if k[1] >= 0:\n",
    "            k0 = sp.Symbol(str(k[0]))\n",
    "        else:\n",
    "            k0 = sp.Symbol('\\\\overline{%s}'%str(k[0]))\n",
    "        if k[3] >= 0:\n",
    "            k1 = sp.Symbol(str(k[2]))\n",
    "        else:\n",
    "            k1 = sp.Symbol('\\\\overline{%s}'%str(k[2]))\n",
    "        qdict[(k0,k1)] = v\n",
    "    qet = Qet(qdict)\n",
    "    qet = qet*(1/qet.norm())\n",
    "    ket = qet.as_ket(fold_keys=True)\n",
    "    ket = sp.latex(ket).replace('\\\\right\\\\rangle','\\\\right|')\n",
    "    return sp.Symbol(ket), qet"
   ]
  },
  {
   "cell_type": "code",
   "execution_count": 11,
   "id": "c3965dab-abb8-449c-8b1a-d71e759f7269",
   "metadata": {
    "collapsed": true,
    "jupyter": {
     "outputs_hidden": true
    },
    "tags": []
   },
   "outputs": [
    {
     "data": {
      "text/html": [
       "<pre>✔️ 39.8 s (2021-11-16T15:29:11/2021-11-16T15:29:51)</pre>"
      ],
      "text/plain": [
       "<IPython.core.display.HTML object>"
      ]
     },
     "metadata": {},
     "output_type": "display_data"
    },
    {
     "name": "stdout",
     "output_type": "stream",
     "text": [
      "Working on group C_{1} ...\n",
      "computing partial sums...\n",
      "summing out inner parts ...\n",
      "term collection truck ...\n",
      "Manufacturing latex output ....\n",
      "Working on group C_{i} ...\n",
      "computing partial sums...\n",
      "summing out inner parts ...\n",
      "term collection truck ...\n",
      "Manufacturing latex output ....\n",
      "Working on group C_{2} ...\n",
      "computing partial sums...\n",
      "summing out inner parts ...\n",
      "term collection truck ...\n",
      "Manufacturing latex output ....\n",
      "Working on group C_{s} ...\n",
      "computing partial sums...\n",
      "summing out inner parts ...\n",
      "term collection truck ...\n",
      "Manufacturing latex output ....\n",
      "Working on group C_{2h} ...\n",
      "computing partial sums...\n",
      "summing out inner parts ...\n",
      "term collection truck ...\n",
      "Manufacturing latex output ....\n",
      "Working on group D_{2} ...\n",
      "computing partial sums...\n",
      "summing out inner parts ...\n",
      "term collection truck ...\n",
      "Manufacturing latex output ....\n",
      "Working on group C_{2v} ...\n",
      "computing partial sums...\n",
      "summing out inner parts ...\n",
      "term collection truck ...\n",
      "Manufacturing latex output ....\n",
      "Working on group D_{2h} ...\n",
      "computing partial sums...\n",
      "summing out inner parts ...\n",
      "term collection truck ...\n",
      "Manufacturing latex output ....\n",
      "Working on group C_{4} ...\n",
      "computing partial sums...\n",
      "summing out inner parts ...\n",
      "term collection truck ...\n",
      "Manufacturing latex output ....\n",
      "Working on group S_{4} ...\n",
      "computing partial sums...\n",
      "summing out inner parts ...\n",
      "term collection truck ...\n",
      "Manufacturing latex output ....\n",
      "Working on group C_{4h} ...\n",
      "computing partial sums...\n",
      "summing out inner parts ...\n",
      "term collection truck ...\n",
      "Manufacturing latex output ....\n",
      "Working on group D_{4} ...\n",
      "computing partial sums...\n",
      "summing out inner parts ...\n",
      "term collection truck ...\n",
      "Manufacturing latex output ....\n",
      "Working on group C_{4v} ...\n",
      "computing partial sums...\n",
      "summing out inner parts ...\n",
      "term collection truck ...\n",
      "Manufacturing latex output ....\n",
      "Working on group D_{2d} ...\n",
      "computing partial sums...\n",
      "summing out inner parts ...\n",
      "term collection truck ...\n",
      "Manufacturing latex output ....\n",
      "Working on group D_{4h} ...\n",
      "computing partial sums...\n",
      "summing out inner parts ...\n",
      "term collection truck ...\n",
      "Manufacturing latex output ....\n",
      "Working on group C_{3} ...\n",
      "computing partial sums...\n",
      "summing out inner parts ...\n",
      "term collection truck ...\n",
      "Manufacturing latex output ....\n",
      "Working on group S_{6} ...\n",
      "computing partial sums...\n",
      "summing out inner parts ...\n",
      "term collection truck ...\n",
      "Manufacturing latex output ....\n",
      "Working on group D_{3} ...\n",
      "computing partial sums...\n",
      "summing out inner parts ...\n",
      "term collection truck ...\n",
      "Manufacturing latex output ....\n",
      "Working on group C_{3v} ...\n",
      "computing partial sums...\n",
      "summing out inner parts ...\n",
      "term collection truck ...\n",
      "Manufacturing latex output ....\n",
      "Working on group D_{3d} ...\n",
      "computing partial sums...\n",
      "summing out inner parts ...\n",
      "term collection truck ...\n",
      "Manufacturing latex output ....\n",
      "Working on group C_{6} ...\n",
      "computing partial sums...\n",
      "summing out inner parts ...\n",
      "term collection truck ...\n",
      "Manufacturing latex output ....\n",
      "Working on group C_{3h} ...\n",
      "computing partial sums...\n",
      "summing out inner parts ...\n",
      "term collection truck ...\n",
      "Manufacturing latex output ....\n",
      "Working on group C_{6h} ...\n",
      "computing partial sums...\n",
      "summing out inner parts ...\n",
      "term collection truck ...\n",
      "Manufacturing latex output ....\n",
      "Working on group D_{6} ...\n",
      "computing partial sums...\n",
      "summing out inner parts ...\n",
      "term collection truck ...\n",
      "Manufacturing latex output ....\n",
      "Working on group C_{6v} ...\n",
      "computing partial sums...\n",
      "summing out inner parts ...\n",
      "term collection truck ...\n",
      "Manufacturing latex output ....\n",
      "Working on group D_{3h} ...\n",
      "computing partial sums...\n",
      "summing out inner parts ...\n",
      "term collection truck ...\n",
      "Manufacturing latex output ....\n",
      "Working on group D_{6h} ...\n",
      "computing partial sums...\n",
      "summing out inner parts ...\n",
      "term collection truck ...\n",
      "Manufacturing latex output ....\n",
      "Working on group T ...\n",
      "computing partial sums...\n",
      "summing out inner parts ...\n",
      "term collection truck ...\n",
      "Manufacturing latex output ....\n",
      "Working on group T_{h} ...\n",
      "computing partial sums...\n",
      "summing out inner parts ...\n",
      "term collection truck ...\n",
      "Manufacturing latex output ....\n",
      "Working on group O ...\n",
      "computing partial sums...\n",
      "summing out inner parts ...\n",
      "term collection truck ...\n",
      "Manufacturing latex output ....\n",
      "Working on group T_{d} ...\n",
      "computing partial sums...\n",
      "summing out inner parts ...\n",
      "term collection truck ...\n",
      "Manufacturing latex output ....\n",
      "Working on group O_{h} ...\n",
      "computing partial sums...\n",
      "summing out inner parts ...\n",
      "term collection truck ...\n",
      "Manufacturing latex output ....\n",
      "saving to file ...\n",
      "Saving to pickle ...\n"
     ]
    }
   ],
   "source": [
    "# with new labels and checking for num of waves\n",
    "def num_waves(ir0,ir1):\n",
    "    if ir0 == ir1:\n",
    "        return sp.binomial(group.irrep_dims[ir0]*2, 2)\n",
    "    else:\n",
    "        return group.irrep_dims[ir0]*group.irrep_dims[ir1]*4\n",
    "def full_waves():\n",
    "    done = []\n",
    "    size = 0\n",
    "    for k,v in group.product_table.odict.items():\n",
    "        if (k[1],k[0]) in done:\n",
    "            continue\n",
    "        if k[1] == k[0]:\n",
    "            size += sp.binomial(group.irrep_dims[k[1]]*2,2)\n",
    "        else:\n",
    "            size += sum(list(map(lambda x: group.irrep_dims[x]*4, v)))\n",
    "        done.append(k)\n",
    "    return size\n",
    "all_final_outputs = []\n",
    "tally_waves = {}\n",
    "single_col_groups = ['C_{1}','C_{2}']\n",
    "num_multicols = {group_label:2 for group_label in CPGs.all_group_labels}\n",
    "for scg in single_col_groups:\n",
    "    num_multicols[scg] = 1\n",
    "archival_terms = {}\n",
    "for group_counter, group_label in enumerate(CPGs.all_group_labels):\n",
    "#     if group_label != 'O':\n",
    "#         continue\n",
    "    print(\"Working on group %s ...\" % group_label)\n",
    "    group = CPGs.get_group_by_label(group_label)\n",
    "    print(\"computing partial sums...\")\n",
    "    s1, s2 = sp.S(1)/2, sp.S(1)/2\n",
    "    Ss  = [0,1]\n",
    "    m1s = [-sp.S(1)/2, sp.S(1)/2]\n",
    "    m2s = [-sp.S(1)/2, sp.S(1)/2]\n",
    "    group_CGs = group.CG_coefficients\n",
    "    flat_labels = dict(sum([list(l.items()) for l in list(new_labels[group_label].values())],[]))\n",
    "    group_CGs = {(flat_labels[k[0]], flat_labels[k[1]], flat_labels[k[2]]):v for k,v in group_CGs.items()}\n",
    "    summands = OrderedDict()\n",
    "    group.new_component_labels = OrderedDict([(ir, list(new_labels[group_label][ir].values())) for ir in group.irrep_labels])\n",
    "    for Γ1, Γ2, Γ3, m1, m2, S in product(group.irrep_labels,\n",
    "                                     group.irrep_labels,\n",
    "                                     group.irrep_labels,\n",
    "                                     m1s,\n",
    "                                     m2s,\n",
    "                                     Ss):\n",
    "        for γ1, γ2, γ3 in product(group.new_component_labels[Γ1],\n",
    "                                  group.new_component_labels[Γ2],\n",
    "                                  group.new_component_labels[Γ3]):\n",
    "            for mSz in range(S,-S-1,-1):\n",
    "                sCG = ClebschG(s1, s2, S, m1, m2, mSz)\n",
    "                if (γ1, γ2, γ3) not in group_CGs.keys():\n",
    "                    continue\n",
    "                else:\n",
    "                    gCG = group_CGs[(γ1, γ2, γ3)]\n",
    "                coeff = sCG*gCG\n",
    "                key = (Γ1, Γ2, Γ3, γ3, S, mSz)\n",
    "                if (Γ2,m2,γ2) == (Γ1,m1,γ1):\n",
    "                    continue\n",
    "                if coeff!=0:\n",
    "                    if key not in summands.keys():\n",
    "                        summands[key] = []\n",
    "                    summands[key].append(Qet({(Γ1,γ1,m1,Γ2,γ2,m2):coeff}))\n",
    "    print(\"summing out inner parts ...\")\n",
    "    total_qets = OrderedDict([(k, sum(v,Qet({}))) for k,v in summands.items()])\n",
    "    best_qets = OrderedDict([(k, det_simplify(v)) for k,v in total_qets.items()])\n",
    "    best_qets = OrderedDict([(k, v) for k,v in best_qets.items() if len(v.dict)!=0])\n",
    "    print(\"term collection truck ...\")\n",
    "    terms = OrderedDict()\n",
    "    done_keys = []\n",
    "    for k, v in best_qets.items():\n",
    "        (Γ1, Γ2, Γ3, γ3, S, mSz) = k\n",
    "        equiv_key = (Γ2, Γ1, Γ3, γ3, S, mSz)\n",
    "        term_pair = (Γ3, S)\n",
    "        if term_pair not in terms.keys():\n",
    "            terms[term_pair] = OrderedDict()\n",
    "        if equiv_key in done_keys:\n",
    "            continue\n",
    "        terms[term_pair][k] = v\n",
    "        done_keys.append(k)\n",
    "    final_terms = OrderedDict()\n",
    "    for term in terms:\n",
    "        ir, S = term\n",
    "        states = terms[term]\n",
    "        one_term = Term({'irrep': ir, 'S': S, 'states': states})\n",
    "        final_terms[term] = one_term\n",
    "    print(\"Manufacturing latex output ....\")\n",
    "    max_counter = 3\n",
    "    if group_counter == 0:\n",
    "        print_outs = ['\\n\\\\newpage\\n\\n\\\\section{Terms and wave functions}\\n\\\\subsection{Group $%s$}\\n\\n\\\\begin{center} \\\\underline{Component labels} \\n\\\\vspace{0.2cm}\\n' % group_label]\n",
    "    else:\n",
    "        print_outs = ['\\n\\\\doublerulefill\\n\\\\subsection{Group $%s$} \\n\\n\\\\begin{center}\\n\\n\\\\underline{Component labels} \\n\\\\vspace{0.2cm}\\n' % group_label]\n",
    "    for running_idx, irrep_symbol in enumerate(group.irrep_labels):\n",
    "        components_for_printing = ','.join(list(map(sp.latex, group.new_component_labels[irrep_symbol])))\n",
    "        if running_idx < (len(group.irrep_labels)-1):\n",
    "            print_outs.append('$%s:\\\\{%s\\\\}$ || ' % (sp.latex(irrep_symbol), components_for_printing))\n",
    "        else:\n",
    "            print_outs.append('$%s:\\\\{%s\\\\}$' % (sp.latex(irrep_symbol), components_for_printing))\n",
    "    if num_multicols[group_label] == 1:\n",
    "        print_outs.append('\\\\end{center}\\n\\n')\n",
    "    else:\n",
    "        print_outs.append('\\\\end{center}\\n\\n\\\\begin{multicols}{%d}\\n\\n' % num_multicols[group_label])\n",
    "    supreme_states = {}\n",
    "    total_waves = 0\n",
    "    end_terms = {}\n",
    "    for one_term_k, one_term in final_terms.items():\n",
    "        term_symb = r'{{}}^{{{M}}}\\!{ir}'.format(M=(2*one_term_k[1]+1), ir = sp.latex(one_term_k[0]))\n",
    "        term_symb = sp.Symbol(term_symb)\n",
    "        print_outs.append('\\n\\\\hrulefill\\n\\\\subsubsection{$%s$}\\n\\\\vspace{0.25cm}\\n \\\\begin{center} \\n' % sp.latex(term_symb))\n",
    "        counter = 0\n",
    "        prev_α = ''\n",
    "        end_terms[one_term_k] = []\n",
    "        origins = []\n",
    "        for state_key, state in one_term.states.items():\n",
    "            (Γ1, Γ2, Γ3, γ3, S, mSz) = state_key\n",
    "            α = Γ1 * Γ2\n",
    "            multiplicity = 2*S+1\n",
    "            term_symb = r'{{}}^{{{M}}}\\!{ir}'.format(M=(2*S+1), ir = sp.latex(Γ3))\n",
    "            state_symbol = '\\\\Psi_{%d}(%s,%s,M\\!=\\!%d,%s)' % (counter+1, sp.latex(α).lower(), term_symb, mSz, sp.latex(γ3))\n",
    "            state_symbol = sp.Symbol(state_symbol)\n",
    "            v_simple = Qet({(k[1],k[2],k[4],k[5]):v for k,v in state.dict.items()})\n",
    "            v_det, q_qet = as_determinantal_ket(v_simple)\n",
    "            end_terms[one_term_k].append(q_qet)\n",
    "            origins.append(state_key)\n",
    "            sup_key = α\n",
    "            if sup_key not in supreme_states.keys():\n",
    "                supreme_states[sup_key] = []\n",
    "            supreme_states[sup_key].append(v_det)\n",
    "            pout = \"$\\\\textcolor{blue}{%s} = %s$\\\\vspace{0.1cm}\\n\" % (sp.latex(state_symbol), sp.latex(v_det))\n",
    "            pout = sp.Symbol(pout)\n",
    "            if prev_α != α:\n",
    "                if prev_α == '':\n",
    "                    print_outs.append('\\n\\n $\\\\textcolor{red}{%s}$ \\n\\\\vspace{0.25cm}\\n' % (sp.latex(α).lower()))\n",
    "                else:\n",
    "                    print_outs.append('\\n\\\\vspace{0.25cm}\\n\\n $\\\\textcolor{red}{%s}$ \\n\\\\vspace{0.25cm}\\n' % (sp.latex(α).lower()))\n",
    "            prev_α = α\n",
    "            print_outs.append(sp.latex(pout))\n",
    "            counter += 1\n",
    "            total_waves += 1\n",
    "            done_keys.append(state_key)\n",
    "        end_terms[one_term_k] = Term({'irrep': one_term_k[0], 'S': one_term_k[1], 'states': end_terms[one_term_k], 'state_keys': origins})\n",
    "        print_outs.append('\\n\\\\end{center}\\n')\n",
    "    archival_terms[group_label] = end_terms\n",
    "    if num_multicols[group_label] != 1:\n",
    "        print_outs.append('\\n\\\\end{multicols}\\n')\n",
    "    irrep_combos = list(combinations_with_replacement(group.irrep_labels,2))\n",
    "    total_waves_groundtruth = sum([num_waves(ir0,ir1) for ir0, ir1 in irrep_combos])\n",
    "    tally_waves[group_label] = (total_waves,total_waves_groundtruth,full_waves())\n",
    "    all_wavefunctions = '\\n'.join(print_outs)\n",
    "    all_wavefunctions = all_wavefunctions.replace(\"^'\",\"^{'}\").replace(\"^''\",\"^{''}\")\n",
    "    all_final_outputs.append(all_wavefunctions)\n",
    "print(\"saving to file ...\")\n",
    "super_final_output = '\\n'.join(all_final_outputs)\n",
    "open('/Users/juan/Library/Mobile Documents/com~apple~CloudDocs/iCloudFiles/Theoretical Division/termwaves.tex','w').write(super_final_output)\n",
    "!beep\n",
    "print(\"Saving to pickle ...\")\n",
    "pickle.dump(archival_terms, open('./Data/2e-terms.pkl','wb'))"
   ]
  },
  {
   "cell_type": "code",
   "execution_count": 537,
   "id": "c5338a62-86c8-4b97-9bfa-1a0c46b4e165",
   "metadata": {
    "collapsed": true,
    "jupyter": {
     "outputs_hidden": true
    },
    "tags": []
   },
   "outputs": [
    {
     "data": {
      "text/html": [
       "<pre>✔️ 29.4 ms (2021-11-16T11:22:21/2021-11-16T11:22:21)</pre>"
      ],
      "text/plain": [
       "<IPython.core.display.HTML object>"
      ]
     },
     "metadata": {},
     "output_type": "display_data"
    },
    {
     "name": "stdout",
     "output_type": "stream",
     "text": [
      "C_{1} (1, 1, 1)\n",
      "C_{i} (6, 6, 6)\n",
      "C_{2} (6, 6, 6)\n",
      "C_{s} (6, 6, 6)\n",
      "C_{2h} (28, 28, 28)\n",
      "D_{2} (28, 28, 28)\n",
      "C_{2v} (28, 28, 28)\n",
      "D_{2h} (120, 120, 120)\n",
      "C_{4} (28, 28, 28)\n",
      "S_{4} (28, 28, 28)\n",
      "C_{4h} (120, 120, 120)\n",
      "D_{4} (66, 66, 66)\n",
      "C_{4v} (66, 66, 66)\n",
      "D_{2d} (66, 66, 66)\n",
      "D_{4h} (276, 276, 276)\n",
      "C_{3} (15, 15, 15)\n",
      "S_{6} (66, 66, 66)\n",
      "D_{3} (28, 28, 28)\n",
      "C_{3v} (28, 28, 28)\n",
      "D_{3d} (120, 120, 120)\n",
      "C_{6} (66, 66, 66)\n",
      "C_{3h} (66, 66, 66)\n",
      "C_{6h} (276, 276, 276)\n",
      "D_{6} (120, 120, 120)\n",
      "C_{6v} (120, 120, 120)\n",
      "D_{3h} (120, 120, 120)\n",
      "D_{6h} (496, 496, 496)\n",
      "T (66, 66, 66)\n",
      "T_{h} (264, 276, 264)\n",
      "O (190, 190, 190)\n",
      "T_{d} (190, 190, 190)\n",
      "O_{h} (780, 780, 780)\n"
     ]
    }
   ],
   "source": [
    "for k,v in tally_waves.items():\n",
    "    print(k,v)"
   ]
  },
  {
   "cell_type": "code",
   "execution_count": 489,
   "id": "bb2931c0-9845-4f18-8c91-1a350c138a74",
   "metadata": {},
   "outputs": [
    {
     "data": {
      "text/html": [
       "<pre>✔️ 4.55 ms (2021-11-16T10:01:28/2021-11-16T10:01:28)</pre>"
      ],
      "text/plain": [
       "<IPython.core.display.HTML object>"
      ]
     },
     "metadata": {},
     "output_type": "display_data"
    }
   ],
   "source": [
    "group_label = 'T_{h}'\n",
    "group = CPGs.get_group_by_label(group_label)\n",
    "irreps = group.irrep_labels\n",
    "irrep_combos = list(combinations_with_replacement(group.irrep_labels,2))\n",
    "total_waves_groundtruth = sum([num_waves(ir0,ir1) for ir0, ir1 in irrep_combos])"
   ]
  },
  {
   "cell_type": "code",
   "execution_count": 490,
   "id": "b1ae217e-716f-47ca-8018-d7bbe31ddf6c",
   "metadata": {},
   "outputs": [
    {
     "data": {
      "text/html": [
       "<pre>✔️ 13.6 ms (2021-11-16T10:01:28/2021-11-16T10:01:28)</pre>"
      ],
      "text/plain": [
       "<IPython.core.display.HTML object>"
      ]
     },
     "metadata": {},
     "output_type": "display_data"
    },
    {
     "data": {
      "text/plain": [
       "264"
      ]
     },
     "execution_count": 490,
     "metadata": {},
     "output_type": "execute_result"
    }
   ],
   "source": [
    "total_waves_asfound = sum([len(v) for k,v in supreme_states.items()])\n",
    "total_waves_asfound"
   ]
  },
  {
   "cell_type": "code",
   "execution_count": 4,
   "id": "076235d8-dc4f-4f59-bcb0-3d84ce84a67d",
   "metadata": {},
   "outputs": [
    {
     "data": {
      "text/html": [
       "<pre>✔️ 1.37 ms (2021-11-14T11:37:47/2021-11-14T11:37:47)</pre>"
      ],
      "text/plain": [
       "<IPython.core.display.HTML object>"
      ]
     },
     "metadata": {},
     "output_type": "display_data"
    }
   ],
   "source": [
    "# class Term():\n",
    "#     '''\n",
    "#     Represents a term, holds the states that correspond to it,\n",
    "#     and offers a display of the term symbol and enclosed wavefunctions.\n",
    "#     '''\n",
    "#     def __init__(self, init_dict):\n",
    "#         for k,v in init_dict.items():\n",
    "#             setattr(self, k, v)\n",
    "#         self.term_prototype = sp.Symbol(r'{{}}^{{{M}}}{ir}')\n",
    "#         self.state_prototype = sp.Symbol(r'\\Psi({α}, {S}, {{{Γ}}}, {M_s}, {γ})')\n",
    "#     def term_symbol(self):\n",
    "#         return sp.Symbol(str(self.term_prototype).format(M=str(2*self.S+1),ir=str(sp.latex(self.irrep))))\n",
    "#     def make_state_symbols(self):\n",
    "#         state_symbols = []\n",
    "#         for state in self.states:\n",
    "#             ndict = {\n",
    "#             'α' : state['qnums'][sp.Symbol(r'\\alpha')],\n",
    "#             'S' : self.S,\n",
    "#             'Γ' : self.irrep,\n",
    "#             'M_s' : state['qnums'][sp.Symbol(r'M_s')],\n",
    "#             'γ' : state['qnums'][sp.Symbol(r'\\gamma')]\n",
    "#             }\n",
    "#             state_symbols.append(sp.Symbol(str(self.state_prototype).format(**ndict)))\n",
    "#         return state_symbols\n",
    "#     def __str__(self):\n",
    "#         return (self.term_symbol())\n",
    "#     def __repr__(self):\n",
    "#         return str(self.term_symbol())"
   ]
  },
  {
   "cell_type": "code",
   "execution_count": 5,
   "id": "d5d84eef-8f6e-462c-a38d-a34594fbaa6a",
   "metadata": {},
   "outputs": [
    {
     "data": {
      "text/html": [
       "<pre>✔️ 2.83 ms (2021-11-14T11:37:48/2021-11-14T11:37:48)</pre>"
      ],
      "text/plain": [
       "<IPython.core.display.HTML object>"
      ]
     },
     "metadata": {},
     "output_type": "display_data"
    }
   ],
   "source": [
    "# all_terms = []\n",
    "# group_label = 'O'\n",
    "# group = CPGs.get_group_by_label(group_label)\n",
    "# for irrep in group.irrep_labels:\n",
    "#     for S in [0,1]:\n",
    "#         for mS in range(-S, S+1):\n",
    "#             states = [{'qnums':{sp.Symbol(r'\\alpha'):sp.Symbol(r'\\alpha'), # qnum that distinguishes between states\n",
    "#                                 sp.Symbol(r'\\gamma'): component, # symbol for a component of a basis for the irrep\n",
    "#                                 sp.Symbol(r'M_s'):mS # the Ms equal to m_1 + m_2\n",
    "#                                 }} for component in group.component_labels[irrep]]\n",
    "#             aterm = Term({'states':states,\n",
    "#                   'group_label': group_label,\n",
    "#                   'S': S,\n",
    "#                   'irrep': irrep\n",
    "#                  })\n",
    "#             all_terms.append(aterm)"
   ]
  },
  {
   "cell_type": "code",
   "execution_count": 6,
   "id": "c9df1abc-9952-499b-8678-ba515a56db2a",
   "metadata": {
    "tags": []
   },
   "outputs": [
    {
     "data": {
      "text/html": [
       "<pre>✔️ 443 µs (2021-11-14T11:37:48/2021-11-14T11:37:48)</pre>"
      ],
      "text/plain": [
       "<IPython.core.display.HTML object>"
      ]
     },
     "metadata": {},
     "output_type": "display_data"
    }
   ],
   "source": [
    "# for term in all_terms:\n",
    "#     display(term.term_symbol())\n",
    "#     for state_symb in term.make_state_symbols():\n",
    "#         display(state_symb)\n",
    "#     break"
   ]
  },
  {
   "cell_type": "code",
   "execution_count": 7,
   "id": "482e9a3d-6f32-4c49-9761-8fbf9266449c",
   "metadata": {},
   "outputs": [
    {
     "data": {
      "text/html": [
       "<pre>✔️ 548 µs (2021-11-14T11:37:49/2021-11-14T11:37:49)</pre>"
      ],
      "text/plain": [
       "<IPython.core.display.HTML object>"
      ]
     },
     "metadata": {},
     "output_type": "display_data"
    }
   ],
   "source": [
    "# s1, s2 = sp.S(1)/2, sp.S(1)/2\n",
    "# Ss = [0,1]\n",
    "# m1s = [-sp.S(1)/2,sp.S(1)/2]\n",
    "# m2s = [-sp.S(1)/2,sp.S(1)/2]\n",
    "# group_CGs = group.CG_coefficients\n",
    "# Γ = sp.Symbol('T_1')\n",
    "# summands = {}\n",
    "# for Γ1, Γ2, Γ3, m1, m2, S in product(group.irrep_labels,\n",
    "#                                  group.irrep_labels,\n",
    "#                                  group.irrep_labels,\n",
    "#                                  m1s, m2s, Ss):\n",
    "#     for γ1, γ2, γ3 in product(group.component_labels[Γ1],\n",
    "#                               group.component_labels[Γ2],\n",
    "#                               group.component_labels[Γ3]):\n",
    "#         for mSz in range(-S, S+1):\n",
    "#             sCG = ClebschG(s1, s2, S, m1, m2, mSz)\n",
    "#             if (γ1, γ2, γ3) not in group_CGs.keys():\n",
    "#                 gCG = 0\n",
    "#                 continue\n",
    "#             else:\n",
    "#                 gCG = group_CGs[(γ1, γ2, γ3)]\n",
    "#             coeff = sCG*gCG\n",
    "#             key = (Γ1, Γ2, Γ3, γ3, mSz)\n",
    "#             if (Γ2,m2,γ2) == (Γ1,m1,γ1):\n",
    "#                 coeff = 0\n",
    "#             if coeff!=0:\n",
    "#                 if key not in summands.keys():\n",
    "#                     summands[key] = {}\n",
    "#                 qkey = (Γ1,m1,γ1,Γ2,m2,γ2)\n",
    "#                 ikey = (Γ2,m2,γ2Γ1,m1,γ1)\n",
    "#                 if ikey in summands.keys():\n",
    "#                     summands[ikey].append(Qet({:-coeff}))\n",
    "#                 else:\n",
    "#                     summands[key].append(Qet({(Γ1,m1,γ1,Γ2,m2,γ2):coeff}))"
   ]
  },
  {
   "cell_type": "code",
   "execution_count": 603,
   "id": "55d0f2b5-8aef-4649-a2d3-00466cbe3796",
   "metadata": {},
   "outputs": [
    {
     "data": {
      "text/html": [
       "<pre>✔️ 593 µs (2021-11-16T15:06:27/2021-11-16T15:06:27)</pre>"
      ],
      "text/plain": [
       "<IPython.core.display.HTML object>"
      ]
     },
     "metadata": {},
     "output_type": "display_data"
    }
   ],
   "source": [
    "# this just does the work for a single group\n",
    "# print(\"computing partial sums...\")\n",
    "# s1, s2 = sp.S(1)/2, sp.S(1)/2\n",
    "# Ss = [0,1]\n",
    "# m1s = [-sp.S(1)/2,sp.S(1)/2]\n",
    "# m2s = [-sp.S(1)/2,sp.S(1)/2]\n",
    "# group_CGs = group.CG_coefficients\n",
    "# Γ = sp.Symbol('T_1')\n",
    "# summands = {}\n",
    "# for Γ1, Γ2, Γ3, m1, m2, S in product(group.irrep_labels,\n",
    "#                                  group.irrep_labels,\n",
    "#                                  group.irrep_labels,\n",
    "#                                  m1s, m2s, Ss):\n",
    "#     for γ1, γ2, γ3 in product(group.component_labels[Γ1],\n",
    "#                               group.component_labels[Γ2],\n",
    "#                               group.component_labels[Γ3]):\n",
    "#         for mSz in range(-S, S+1):\n",
    "#             sCG = ClebschG(s1, s2, S, m1, m2, mSz)\n",
    "#             if (γ1, γ2, γ3) not in group_CGs.keys():\n",
    "#                 gCG = 0\n",
    "#                 continue\n",
    "#             else:\n",
    "#                 gCG = group_CGs[(γ1, γ2, γ3)]\n",
    "#             coeff = sCG*gCG\n",
    "#             key = (Γ1, Γ2, Γ3, γ3, S, mSz)\n",
    "#             if (Γ2,m2,γ2) == (Γ1,m1,γ1):\n",
    "#                 coeff = 0\n",
    "#             if coeff!=0:\n",
    "#                 if key not in summands.keys():\n",
    "#                     summands[key] = []\n",
    "#                 summands[key].append(Qet({(Γ1,γ1,m1,Γ2,γ2,m2):coeff}))\n",
    "# print(\"summing out inner parts ...\")\n",
    "# total_qets = {k:sum(v,Qet({})) for k,v in summands.items()}\n",
    "# best_qets = {k:det_simplify(v) for k,v in total_qets.items()}\n",
    "# best_qets = {k:v for k,v in best_qets.items() if len(v.dict)!=0}\n",
    "# print(\"term collection truck ...\")\n",
    "# terms = {}\n",
    "# for k, v in best_qets.items():\n",
    "#     (Γ1, Γ2, Γ3, γ3, S, mSz) = k\n",
    "#     term_pair = (Γ3, S)\n",
    "#     if term_pair not in terms.keys():\n",
    "#         terms[term_pair] = {}\n",
    "#     terms[term_pair][k] = v\n",
    "# final_terms = {}\n",
    "# for term in terms:\n",
    "#     ir, S = term\n",
    "#     states = terms[term]\n",
    "#     one_term = Term({'irrep': ir, 'S': S, 'states': states})\n",
    "#     final_terms[term] = one_term\n",
    "# print(\"Manufacturing latex output ....\")\n",
    "# max_counter = 3\n",
    "# print_outs = []\n",
    "# for one_term_k, one_term in final_terms.items():\n",
    "#     term_symb = r'{{}}^{{{M}}}\\!{ir}'.format(M=(2*one_term_k[1]+1), ir = sp.latex(one_term_k[0]))\n",
    "#     term_symb = sp.Symbol(term_symb)\n",
    "#     print_outs.append('\\n\\\\hrulefill\\n \\\\begin{center} {\\\\Large $%s$} \\n\\\\vspace{0.5cm}\\n' % sp.latex(term_symb))\n",
    "#     counter = 0\n",
    "#     for state_key, state in one_term.states.items():\n",
    "#         (Γ1, Γ2, Γ3, γ3, S, mSz) = state_key\n",
    "#         α = Γ1 * Γ2\n",
    "#         term_symb = r'{{}}^{{{M}}}\\!{ir}'.format(M=(2*S+1), ir = sp.latex(Γ3))\n",
    "#         state_symbol = '\\\\Psi(%s,%s,M\\!=\\!%d,%s)' % (sp.latex(α).lower(), term_symb, mSz, sp.latex(γ3))\n",
    "#         state_symbol = sp.Symbol(state_symbol)\n",
    "#         v_simple = Qet({(k[1],k[2],k[4],k[5]):v for k,v in state.dict.items()})\n",
    "#         v_det = as_determinantal_ket(v_simple)\n",
    "#         pout = \"$%s = %s$\\n\" % (sp.latex(state_symbol), sp.latex(v_det))\n",
    "#         pout = sp.Symbol(pout)\n",
    "#         print_outs.append(sp.latex(pout))\n",
    "#         if counter % 5 == 4:\n",
    "#             print_outs.append('\\n\\\\vspace{0.5cm}\\n')\n",
    "#         counter += 1\n",
    "#     print_outs.append('\\n\\\\end{center}')\n",
    "# all_wavefunctions = '\\n'.join(print_outs)\n",
    "# print(\"saving to file ...\")\n",
    "# open('/Volumes/GoogleDrive/My Drive/Zia Lab/Theoretical Division/termwaves.tex','w').write(all_wavefunctions)"
   ]
  },
  {
   "cell_type": "code",
   "execution_count": 445,
   "id": "2cb19570-6e4b-4a05-97f2-6acf66daa76d",
   "metadata": {
    "tags": []
   },
   "outputs": [
    {
     "data": {
      "text/html": [
       "<pre>✔️ 7.71 s (2021-11-15T20:32:00/2021-11-15T20:32:08)</pre>"
      ],
      "text/plain": [
       "<IPython.core.display.HTML object>"
      ]
     },
     "metadata": {},
     "output_type": "display_data"
    },
    {
     "name": "stdout",
     "output_type": "stream",
     "text": [
      "Working on group T_{h} ...\n",
      "computing partial sums...\n",
      "summing out inner parts ...\n",
      "term collection truck ...\n",
      "Manufacturing latex output ....\n",
      "saving to file ...\n"
     ]
    }
   ],
   "source": [
    "# # with new labels\n",
    "# def num_waves(ir0,ir1):\n",
    "#     if ir0 == ir1:\n",
    "#         return sp.binomial(group.irrep_dims[ir0]+group.irrep_dims[ir1], 2)\n",
    "#     else:\n",
    "#         return group.irrep_dims[ir0]*group.irrep_dims[ir1]*4\n",
    "# def full_waves():\n",
    "#     done = []\n",
    "#     size = 0\n",
    "#     for k,v in group.product_table.odict.items():\n",
    "#         if (k[1],k[0]) in done:\n",
    "#             continue\n",
    "#         size += sum(list(map(lambda x: group.irrep_dims[x], v)))\n",
    "#         done.append(k)\n",
    "#     return 2*size\n",
    "# all_final_outputs = []\n",
    "# tally_waves = {}\n",
    "# for group_counter, group_label in enumerate(CPGs.all_group_labels):\n",
    "#     if group_label != 'T_{h}':\n",
    "#         continue\n",
    "#     print(\"Working on group %s ...\" % group_label)\n",
    "#     group = CPGs.get_group_by_label(group_label)\n",
    "#     print(\"computing partial sums...\")\n",
    "#     s1, s2 = sp.S(1)/2, sp.S(1)/2\n",
    "#     Ss  = [0,1]\n",
    "#     m1s = [-sp.S(1)/2, sp.S(1)/2]\n",
    "#     m2s = [-sp.S(1)/2, sp.S(1)/2]\n",
    "#     group_CGs = group.CG_coefficients\n",
    "#     flat_labels = dict(sum([list(l.items()) for l in list(new_labels[group_label].values())],[]))\n",
    "#     group_CGs = {(flat_labels[k[0]], flat_labels[k[1]], flat_labels[k[2]]):v for k,v in group_CGs.items()}\n",
    "#     summands = OrderedDict()\n",
    "#     group.new_component_labels = OrderedDict([(ir, list(new_labels[group_label][ir].values())) for ir in group.irrep_labels])\n",
    "#     for Γ1, Γ2, Γ3, m1, m2, S in product(group.irrep_labels,\n",
    "#                                      group.irrep_labels,\n",
    "#                                      group.irrep_labels,\n",
    "#                                      m1s,\n",
    "#                                      m2s,\n",
    "#                                      Ss):\n",
    "#         for γ1, γ2, γ3 in product(group.new_component_labels[Γ1],\n",
    "#                                   group.new_component_labels[Γ2],\n",
    "#                                   group.new_component_labels[Γ3]):\n",
    "#             for mSz in range(-S, S+1):\n",
    "#                 sCG = ClebschG(s1, s2, S, m1, m2, mSz)\n",
    "#                 if (γ1, γ2, γ3) not in group_CGs.keys():\n",
    "#                     continue\n",
    "#                 else:\n",
    "#                     gCG = group_CGs[(γ1, γ2, γ3)]\n",
    "#                 coeff = sCG*gCG\n",
    "#                 key = (Γ1, Γ2, Γ3, γ3, S, mSz)\n",
    "#                 if (Γ2,m2,γ2) == (Γ1,m1,γ1):\n",
    "#                     continue\n",
    "#                 if coeff!=0:\n",
    "#                     if key not in summands.keys():\n",
    "#                         summands[key] = []\n",
    "#                     summands[key].append(Qet({(Γ1,γ1,m1,Γ2,γ2,m2):coeff}))\n",
    "#     print(\"summing out inner parts ...\")\n",
    "#     total_qets = OrderedDict([(k, sum(v,Qet({}))) for k,v in summands.items()])\n",
    "#     best_qets = OrderedDict([(k, det_simplify(v)) for k,v in total_qets.items()])\n",
    "#     best_qets = OrderedDict([(k, v) for k,v in best_qets.items() if len(v.dict)!=0])\n",
    "#     print(\"term collection truck ...\")\n",
    "#     terms = OrderedDict()\n",
    "#     for k, v in best_qets.items():\n",
    "#         (Γ1, Γ2, Γ3, γ3, S, mSz) = k\n",
    "#         term_pair = (Γ3, S)\n",
    "#         if term_pair not in terms.keys():\n",
    "#             terms[term_pair] = OrderedDict()\n",
    "#         terms[term_pair][k] = v\n",
    "#     final_terms = OrderedDict()\n",
    "#     for term in terms:\n",
    "#         ir, S = term\n",
    "#         states = terms[term]\n",
    "#         one_term = Term({'irrep': ir, 'S': S, 'states': states})\n",
    "#         final_terms[term] = one_term\n",
    "#     print(\"Manufacturing latex output ....\")\n",
    "#     max_counter = 3\n",
    "#     print_outs = ['\\\\subsection{Group $%s$} \\n \\\\begin{center} \\\\underline{Component labels} \\n\\\\vspace{0.2cm}\\n' % group_label]\n",
    "#     for irrep_symbol in group.irrep_labels:\n",
    "#         components_for_printing = ','.join(list(map(sp.latex, group.new_component_labels[irrep_symbol])))\n",
    "#         print_outs.append('\\\\noindent$%s:\\\\{%s\\\\}$\\n\\n' % (sp.latex(irrep_symbol), components_for_printing))\n",
    "#     print_outs.append('\\\\end{center}')\n",
    "#     supreme_states = {}\n",
    "#     total_waves = 0\n",
    "#     for one_term_k, one_term in final_terms.items():\n",
    "#         term_symb = r'{{}}^{{{M}}}\\!{ir}'.format(M=(2*one_term_k[1]+1), ir = sp.latex(one_term_k[0]))\n",
    "#         term_symb = sp.Symbol(term_symb)\n",
    "#         print_outs.append('\\n\\\\hrulefill\\n  \\\\subsubsection{$%s$} \\n\\\\vspace{0.25cm}\\n \\\\begin{center} \\n' % sp.latex(term_symb))\n",
    "#         counter = 0\n",
    "#         done_keys = []\n",
    "#         prev_α = ''\n",
    "#         for state_key, state in one_term.states.items():\n",
    "#             (Γ1, Γ2, Γ3, γ3, S, mSz) = state_key\n",
    "#             equiv_key = (Γ2, Γ1, Γ3, γ3, S, mSz)\n",
    "#             if equiv_key in done_keys:\n",
    "#                 continue\n",
    "#                 warn_mark = '**'\n",
    "#             else:\n",
    "#                 warn_mark = ''\n",
    "#             α = Γ1 * Γ2\n",
    "#             multiplicity = 2*S+1\n",
    "#             term_symb = r'{{}}^{{{M}}}\\!{ir}'.format(M=(2*S+1), ir = sp.latex(Γ3))\n",
    "#             state_symbol = '%s \\\\Psi_{%d}(%s,%s,M\\!=\\!%d,%s)' % (warn_mark, counter+1, sp.latex(α).lower(), term_symb, mSz, sp.latex(γ3))\n",
    "#             state_symbol = sp.Symbol(state_symbol)\n",
    "#             v_simple = Qet({(k[1],k[2],k[4],k[5]):v for k,v in state.dict.items()})\n",
    "#             v_det = as_determinantal_ket(v_simple)\n",
    "#             sup_key = (α)\n",
    "#             if sup_key not in supreme_states.keys():\n",
    "#                 supreme_states[sup_key] = []\n",
    "#             supreme_states[sup_key].append(v_det)\n",
    "#             pout = \"$\\\\textcolor{blue}{%s} = %s$\\\\vspace{0.1cm}\\n\" % (sp.latex(state_symbol), sp.latex(v_det))\n",
    "#             pout = sp.Symbol(pout)\n",
    "#             if prev_α != α:\n",
    "#                 if prev_α == '':\n",
    "#                     print_outs.append('\\n\\n $\\\\textcolor{red}{%s}$ \\n\\\\vspace{0.25cm}\\n' % (sp.latex(α).lower()))\n",
    "#                 else:\n",
    "#                     print_outs.append('\\n\\\\vspace{0.25cm}\\n\\n $\\\\textcolor{red}{%s}$ \\n\\\\vspace{0.25cm}\\n' % (sp.latex(α).lower()))\n",
    "#             prev_α = α\n",
    "#             print_outs.append(sp.latex(pout))\n",
    "#             counter += 1\n",
    "#             total_waves += 1\n",
    "#             done_keys.append(state_key)\n",
    "#         print_outs.append('\\n\\\\end{center}\\n\\n')\n",
    "#     irrep_combos = list(combinations_with_replacement(group.irrep_labels,2))\n",
    "#     total_waves_groundtruth = sum([num_waves(ir0,ir1) for ir0, ir1 in irrep_combos])\n",
    "#     tally_waves[group_label] = (total_waves,total_waves_groundtruth,full_waves())\n",
    "# #     print_outs.append(\"Total--- waves = %d\\n\\n\" % total_waves)\n",
    "# #     print_outs.append(\"Expected waves = %d\\n\\n\" % total_waves_groundtruth)\n",
    "#     all_wavefunctions = '\\n'.join(print_outs)\n",
    "#     all_wavefunctions = all_wavefunctions.replace(\"^'\",\"^{'}\").replace(\"^''\",\"^{''}\")\n",
    "#     all_final_outputs.append(all_wavefunctions)\n",
    "# print(\"saving to file ...\")\n",
    "# super_final_output = '\\n'.join(all_final_outputs)\n",
    "# open('/Users/juan/Library/Mobile Documents/com~apple~CloudDocs/iCloudFiles/Theoretical Division/termwaves.tex','w').write(super_final_output)\n",
    "# !beep"
   ]
  },
  {
   "cell_type": "code",
   "execution_count": null,
   "id": "39a876fd-4e54-4b8f-8c82-70a7a7375cfc",
   "metadata": {},
   "outputs": [],
   "source": [
    "# def full_waves():\n",
    "#     done = []\n",
    "#     size = 0\n",
    "#     for k,v in group.product_table.odict.items():\n",
    "#         if (k[1],k[0]) in done:\n",
    "#             continue\n",
    "#         size += sum(list(map(lambda x: group.irrep_dims[x]*4, v)))\n",
    "#         done.append(k)\n",
    "#     return size"
   ]
  },
  {
   "cell_type": "code",
   "execution_count": 608,
   "id": "f7a389c3-aae4-4360-a061-ff6dcc2aec80",
   "metadata": {
    "tags": []
   },
   "outputs": [
    {
     "data": {
      "text/html": [
       "<pre>✔️ 2.55 ms (2021-11-16T15:09:44/2021-11-16T15:09:44)</pre>"
      ],
      "text/plain": [
       "<IPython.core.display.HTML object>"
      ]
     },
     "metadata": {},
     "output_type": "display_data"
    }
   ],
   "source": [
    "# irrep_combos = list(combinations_with_replacement(irreps,2))\n",
    "# counter = 0\n",
    "# for k,v in supreme_states.items():\n",
    "#     α = k\n",
    "#     combo = [(ir0,ir1) for ir0, ir1 in irrep_combos if ir0*ir1 == α][0]\n",
    "#     display(α)\n",
    "#     print(\"irrep dims\",group.irrep_dims[combo[0]],group.irrep_dims[combo[1]])\n",
    "#     if combo[0] == combo[1]:\n",
    "#         print(\"nchoosek\",sp.binomial(group.irrep_dims[combo[0]]*2,2))\n",
    "#     else:\n",
    "#         print(\"(d1*d2)*4\",group.irrep_dims[combo[0]]*group.irrep_dims[combo[1]]*4)\n",
    "#     print(\"waves---\",len(v))\n",
    "#     print(\"altsum--\",sum(list(map(lambda x: group.irrep_dims[x],group.product_table.odict[combo])))*4)\n",
    "#     counter += 1"
   ]
  },
  {
   "cell_type": "code",
   "execution_count": 609,
   "id": "ccb19ad9-ad17-434c-9c67-2bd1f7a32628",
   "metadata": {
    "tags": []
   },
   "outputs": [
    {
     "data": {
      "text/html": [
       "<pre>✔️ 2.54 ms (2021-11-16T15:09:53/2021-11-16T15:09:53)</pre>"
      ],
      "text/plain": [
       "<IPython.core.display.HTML object>"
      ]
     },
     "metadata": {},
     "output_type": "display_data"
    }
   ],
   "source": [
    "# all_final_outputs = []\n",
    "# for group_counter, group_label in enumerate(CPGs.all_group_labels):\n",
    "#     if group_label != 'T_{h}':\n",
    "#         continue\n",
    "#     print(\"Working on group %s ...\" % group_label)\n",
    "#     group = CPGs.get_group_by_label(group_label)\n",
    "#     print(\"computing partial sums...\")\n",
    "#     s1, s2 = sp.S(1)/2, sp.S(1)/2\n",
    "#     Ss = [0,1]\n",
    "#     m1s = [-sp.S(1)/2,sp.S(1)/2]\n",
    "#     m2s = [-sp.S(1)/2,sp.S(1)/2]\n",
    "#     group_CGs = group.CG_coefficients\n",
    "#     summands = OrderedDict()\n",
    "#     for Γ1, Γ2, Γ3, m1, m2, S in product(group.irrep_labels,\n",
    "#                                      group.irrep_labels,\n",
    "#                                      group.irrep_labels,\n",
    "#                                      m1s, m2s, Ss):\n",
    "#         for γ1, γ2, γ3 in product(group.component_labels[Γ1],\n",
    "#                                   group.component_labels[Γ2],\n",
    "#                                   group.component_labels[Γ3]):\n",
    "#             for mSz in range(-S, S+1):\n",
    "#                 sCG = ClebschG(s1, s2, S, m1, m2, mSz)\n",
    "#                 if (γ1, γ2, γ3) not in group_CGs.keys():\n",
    "#                     gCG = 0\n",
    "#                     continue\n",
    "#                 else:\n",
    "#                     gCG = group_CGs[(γ1, γ2, γ3)]\n",
    "#                 coeff = sCG*gCG\n",
    "#                 key = (Γ1, Γ2, Γ3, γ3, S, mSz)\n",
    "#                 if (Γ2,m2,γ2) == (Γ1,m1,γ1):\n",
    "#                     coeff = 0\n",
    "#                 if coeff!=0:\n",
    "#                     if key not in summands.keys():\n",
    "#                         summands[key] = []\n",
    "#                     summands[key].append(Qet({(Γ1,γ1,m1,Γ2,γ2,m2):coeff}))\n",
    "#     print(\"summing out inner parts ...\")\n",
    "#     total_qets = OrderedDict([(k,sum(v,Qet({}))) for k,v in summands.items()])\n",
    "#     best_qets = OrderedDict([(k,det_simplify(v)) for k,v in total_qets.items()])\n",
    "#     best_qets = OrderedDict([(k,v) for k,v in best_qets.items() if len(v.dict)!=0])\n",
    "#     print(\"term collection truck ...\")\n",
    "#     terms = OrderedDict()\n",
    "#     for k, v in best_qets.items():\n",
    "#         (Γ1, Γ2, Γ3, γ3, S, mSz) = k\n",
    "#         term_pair = (Γ3, S)\n",
    "#         if term_pair not in terms.keys():\n",
    "#             terms[term_pair] = OrderedDict()\n",
    "#         terms[term_pair][k] = v\n",
    "#     final_terms = OrderedDict()\n",
    "#     for term in terms:\n",
    "#         ir, S = term\n",
    "#         states = terms[term]\n",
    "#         one_term = Term({'irrep': ir, 'S': S, 'states': states})\n",
    "#         final_terms[term] = one_term\n",
    "#     print(\"Manufacturing latex output ....\")\n",
    "#     max_counter = 3\n",
    "# #     print_outs = ['\\\\begin{center} Group $%s$ \\\\end{center} \\n' % group_label]\n",
    "#     print_outs = ['\\\\subsection{Group $%s$} \\n' % group_label]\n",
    "#     for one_term_k, one_term in final_terms.items():\n",
    "#         term_symb = r'{{}}^{{{M}}}\\!{ir}'.format(M=(2*one_term_k[1]+1), ir = sp.latex(one_term_k[0]))\n",
    "#         term_symb = sp.Symbol(term_symb)\n",
    "#         print_outs.append('\\n\\\\hrulefill\\n  \\\\subsubsection{$%s$} \\n\\\\vspace{0.25cm}\\n \\\\begin{center} \\n' % sp.latex(term_symb))\n",
    "#         counter = 0\n",
    "#         done_keys = []\n",
    "#         prev_α = ''\n",
    "#         for state_key, state in one_term.states.items():\n",
    "#             (Γ1, Γ2, Γ3, γ3, S, mSz) = state_key\n",
    "#             equiv_key = (Γ2, Γ1, Γ3, γ3, S, mSz)\n",
    "#             if equiv_key in done_keys:\n",
    "#                 continue\n",
    "#                 warn_mark = '**'\n",
    "#             else:\n",
    "#                 warn_mark = ''\n",
    "#             α = Γ1 * Γ2\n",
    "#             multiplicity = 2*S+1\n",
    "#             term_symb = r'{{}}^{{{M}}}\\!{ir}'.format(M=(2*S+1), ir = sp.latex(Γ3))\n",
    "#             state_symbol = '%s \\\\Psi_{%d}(%s,%s,M\\!=\\!%d,%s)' % (warn_mark, counter+1, sp.latex(α).lower(), term_symb, mSz, sp.latex(γ3))\n",
    "#             state_symbol = sp.Symbol(state_symbol)\n",
    "#             v_simple = Qet({(k[1],k[2],k[4],k[5]):v for k,v in state.dict.items()})\n",
    "#             v_det = as_determinantal_ket(v_simple)\n",
    "#             pout = \"$\\\\textcolor{blue}{%s} = %s$\\\\vspace{0.1cm}\\n\" % (sp.latex(state_symbol), sp.latex(v_det))\n",
    "#             pout = sp.Symbol(pout)\n",
    "#             if prev_α != α:\n",
    "#                 if prev_α == '':\n",
    "#                     print_outs.append('\\n\\n $\\\\textcolor{red}{%s}$ \\n\\\\vspace{0.25cm}\\n' % (sp.latex(α).lower()))\n",
    "#                 else:\n",
    "#                     print_outs.append('\\n\\\\vspace{0.25cm}\\n\\n $\\\\textcolor{red}{%s}$ \\n\\\\vspace{0.25cm}\\n' % (sp.latex(α).lower()))\n",
    "#             prev_α = α\n",
    "#             print_outs.append(sp.latex(pout))\n",
    "#             counter += 1\n",
    "#             done_keys.append(state_key)\n",
    "#         print_outs.append('\\n\\\\end{center}')\n",
    "#     all_wavefunctions = '\\n'.join(print_outs)\n",
    "#     all_wavefunctions = all_wavefunctions.replace(\"^'\",\"^{'}\").replace(\"^''\",\"^{''}\")\n",
    "#     all_final_outputs.append(all_wavefunctions)\n",
    "# #     if group_counter == 10:\n",
    "# #         break\n",
    "# print(\"saving to file ...\")\n",
    "# super_final_output = '\\n'.join(all_final_outputs)\n",
    "# open('/Users/juan/Library/Mobile Documents/com~apple~CloudDocs/iCloudFiles/Theoretical Division/termwaves.tex','w').write(super_final_output)\n",
    "# !beep"
   ]
  },
  {
   "cell_type": "markdown",
   "id": "7ff67a8a-c9ee-4dae-a5f9-aff90ad14287",
   "metadata": {
    "tags": []
   },
   "source": [
    "## $d^2$ (Oct 28)"
   ]
  },
  {
   "cell_type": "code",
   "execution_count": 32,
   "id": "835ce41a-0924-432f-b9e9-b2abfdb7d656",
   "metadata": {
    "execution": {
     "iopub.execute_input": "2021-10-28T14:55:57.655385Z",
     "iopub.status.busy": "2021-10-28T14:55:57.653473Z",
     "iopub.status.idle": "2021-10-28T14:55:57.857924Z",
     "shell.execute_reply": "2021-10-28T14:55:57.857568Z",
     "shell.execute_reply.started": "2021-10-28T14:55:57.655055Z"
    }
   },
   "outputs": [
    {
     "data": {
      "text/html": [
       "<pre>✔️ 7.72 ms (2021-10-28T10:55:57/2021-10-28T10:55:57)</pre>"
      ],
      "text/plain": [
       "<IPython.core.display.HTML object>"
      ]
     },
     "metadata": {},
     "output_type": "display_data"
    }
   ],
   "source": [
    "class CrystalDefect():\n",
    "    '''\n",
    "    A CrystalDefect has the following attributes:\n",
    "    \n",
    "    - site          (str):\n",
    "    - host          (str):\n",
    "    - atom_symb     (str):\n",
    "    - charge_state  (int):\n",
    "    - ion           (Ion):\n",
    "    - Bnm           (Bnm):\n",
    "    - freeIparams  (dict):\n",
    "    '''\n",
    "    def __init__(self, defectDict):\n",
    "        if 'Bnm' in defectDict.keys():\n",
    "            self.Bnm = defectDict['Bnm']\n",
    "            Bnmattrs = [a for a in dir(self.Bnm) if not a.startswith('__')]\n",
    "            for Bnmattr in Bnmattrs:\n",
    "                setattr(self, Bnmattr, getattr(self.Bnm, Bnmattr))\n",
    "        for k, v in defectDict.items():\n",
    "            if k == 'Bnm':\n",
    "                continue\n",
    "            setattr(self, k, v)\n",
    "        self.GroupSymb = self.point_sym_group\n",
    "        self.GroupNum = CPGs.all_group_labels.index(self.GroupSymb)\n",
    "        self.Cfield = crystal_fields[self.GroupNum]\n",
    "        self.splitter = crystal_splits[self.GroupNum]\n",
    "    def __repr__(self):\n",
    "        return self.Bnm.__repr__()"
   ]
  },
  {
   "cell_type": "code",
   "execution_count": 35,
   "id": "8b5a113f-e88b-4691-b6a4-335dd776cfe3",
   "metadata": {
    "execution": {
     "iopub.execute_input": "2021-10-28T14:56:21.556603Z",
     "iopub.status.busy": "2021-10-28T14:56:21.556180Z",
     "iopub.status.idle": "2021-10-28T14:56:21.757797Z",
     "shell.execute_reply": "2021-10-28T14:56:21.757464Z",
     "shell.execute_reply.started": "2021-10-28T14:56:21.556567Z"
    },
    "tags": []
   },
   "outputs": [
    {
     "data": {
      "text/html": [
       "<pre>✔️ 3.99 ms (2021-10-28T10:56:21/2021-10-28T10:56:21)</pre>"
      ],
      "text/plain": [
       "<IPython.core.display.HTML object>"
      ]
     },
     "metadata": {},
     "output_type": "display_data"
    }
   ],
   "source": [
    "d2_df = CFparams[CFparams['nd^N'].apply(lambda x: 'd2' in x)]\n",
    "Bnms = []\n",
    "Cdefects = []\n",
    "for row in d2_df.iterrows():\n",
    "    row_data = row[1]\n",
    "    Bparams = {k:v for k,v in row_data.items() if 'B_' in k}\n",
    "    symmetry = row_data['Symmetry']\n",
    "    if symmetry == 'C_{3i}':\n",
    "        symmetry = 'S_{6}'\n",
    "    Bnm_dict = {\n",
    "        'host': row_data['Host'],\n",
    "        'site': row_data['Site'],\n",
    "        'point_sym_group': symmetry,\n",
    "        'ion': row_data['Ion'],\n",
    "        'params': Bparams,\n",
    "        'unit' : 'cm^{-1}',\n",
    "        'sources': row_data['Source'],\n",
    "        'comments': '',\n",
    "        'is_experimental': (row_data['Type'] == 'Experimental')\n",
    "        }\n",
    "    Bnms.append(Bnm(Bnm_dict))"
   ]
  },
  {
   "cell_type": "markdown",
   "id": "fb7a2de5-b339-42ef-ab99-03ecef3da4a7",
   "metadata": {},
   "source": [
    "### Term Factory"
   ]
  },
  {
   "cell_type": "markdown",
   "id": "ababddea-160e-4165-96ae-d9716848cb90",
   "metadata": {
    "execution": {
     "iopub.execute_input": "2021-10-28T14:56:26.507401Z",
     "iopub.status.busy": "2021-10-28T14:56:26.506706Z",
     "iopub.status.idle": "2021-10-28T14:56:26.645845Z",
     "shell.execute_reply": "2021-10-28T14:56:26.645515Z",
     "shell.execute_reply.started": "2021-10-28T14:56:26.507316Z"
    }
   },
   "source": [
    "- Goal given an electron configuration, and a group, determine all of the terms that there could possibly exist.\n",
    "- `term` contains\n",
    "- "
   ]
  },
  {
   "cell_type": "code",
   "execution_count": 115,
   "id": "d2542b61-dc01-40a9-a9f7-2ff6afbe037e",
   "metadata": {
    "execution": {
     "iopub.execute_input": "2021-10-28T20:54:42.735056Z",
     "iopub.status.busy": "2021-10-28T20:54:42.732797Z",
     "iopub.status.idle": "2021-10-28T20:54:42.916120Z",
     "shell.execute_reply": "2021-10-28T20:54:42.915714Z",
     "shell.execute_reply.started": "2021-10-28T20:54:42.734971Z"
    },
    "tags": []
   },
   "outputs": [
    {
     "data": {
      "text/html": [
       "<pre>✔️ 10.6 ms (2021-10-28T16:54:42/2021-10-28T16:54:42)</pre>"
      ],
      "text/plain": [
       "<IPython.core.display.HTML object>"
      ]
     },
     "metadata": {},
     "output_type": "display_data"
    }
   ],
   "source": [
    "class Term():\n",
    "    '''\n",
    "    Represents a term, holds the states that correspond to it,\n",
    "    and offers a nice display of the term symbol.\n",
    "    '''\n",
    "    def __init__(self, init_dict):\n",
    "        self.group_label = 'O_{h}'\n",
    "        for k,v in init_dict.items():\n",
    "            setattr(self, k, v)\n",
    "        self.states = [] # a list of Qets\n",
    "        self.term_prototype = sp.Symbol(r'\\Psi({α},{S},{Γ},{M_s},{γ})')\n",
    "    def term_symbol(self):\n",
    "        ndict = {'α' : self.qnums[sp.Symbol(r'\\alpha')],\n",
    "        'S' : self.qnums[sp.Symbol('S')],\n",
    "        'Γ' : self.qnums[sp.Symbol(r'\\Gamma')],\n",
    "        'M_s' : self.qnums[sp.Symbol(r'Ms')],\n",
    "        'γ' : self.qnums[sp.Symbol(r'\\gamma')]}\n",
    "        return sp.Symbol(str(self.term_prototype).format(**ndict))\n",
    "    def __str__(self):\n",
    "        return str(self.qnums)\n",
    "    def __repr__(self):\n",
    "        return str(self.qnums)"
   ]
  },
  {
   "cell_type": "code",
   "execution_count": 116,
   "id": "cb40f1af-d134-493e-9408-fc73c3de31db",
   "metadata": {
    "execution": {
     "iopub.execute_input": "2021-10-28T20:54:43.104159Z",
     "iopub.status.busy": "2021-10-28T20:54:43.103654Z",
     "iopub.status.idle": "2021-10-28T20:54:43.292186Z",
     "shell.execute_reply": "2021-10-28T20:54:43.291860Z",
     "shell.execute_reply.started": "2021-10-28T20:54:43.104104Z"
    },
    "tags": []
   },
   "outputs": [
    {
     "data": {
      "text/html": [
       "<pre>✔️ 1.92 ms (2021-10-28T16:54:43/2021-10-28T16:54:43)</pre>"
      ],
      "text/plain": [
       "<IPython.core.display.HTML object>"
      ]
     },
     "metadata": {},
     "output_type": "display_data"
    }
   ],
   "source": [
    "aterm = Term({'qnums':{sp.Symbol(r'\\alpha'):sp.Symbol(r'\\alpha'), # qnum that distinguishes between states\n",
    "                      sp.Symbol(r'S'):2, # The S in S(S+1), from eigenvalues of S^2\n",
    "                      sp.Symbol(r'\\Gamma'):sp.Symbol(r'T_{1}'), # symbol for irrep in group\n",
    "                      sp.Symbol(r'\\gamma'):sp.Symbol(r'\\gamma'), # symbol for a component of a basis for the irrep\n",
    "                      sp.Symbol(r'Ms'):1 # the Ms equal to m_1 + m_2\n",
    "                      }\n",
    "             })"
   ]
  },
  {
   "cell_type": "code",
   "execution_count": 117,
   "id": "35b88fa9-07c3-43cc-90e7-b005807eb74c",
   "metadata": {
    "execution": {
     "iopub.execute_input": "2021-10-28T20:54:43.468803Z",
     "iopub.status.busy": "2021-10-28T20:54:43.468412Z",
     "iopub.status.idle": "2021-10-28T20:54:43.659033Z",
     "shell.execute_reply": "2021-10-28T20:54:43.658646Z",
     "shell.execute_reply.started": "2021-10-28T20:54:43.468749Z"
    },
    "tags": []
   },
   "outputs": [
    {
     "data": {
      "text/html": [
       "<pre>✔️ 819 µs (2021-10-28T16:54:43/2021-10-28T16:54:43)</pre>"
      ],
      "text/plain": [
       "<IPython.core.display.HTML object>"
      ]
     },
     "metadata": {},
     "output_type": "display_data"
    }
   ],
   "source": [
    "group = CPGs.get_group_by_label('O')"
   ]
  },
  {
   "cell_type": "code",
   "execution_count": 126,
   "id": "575c8365-586e-4d28-8269-87af080fa7b5",
   "metadata": {
    "execution": {
     "iopub.execute_input": "2021-10-28T21:03:29.712392Z",
     "iopub.status.busy": "2021-10-28T21:03:29.711687Z",
     "iopub.status.idle": "2021-10-28T21:03:29.858686Z",
     "shell.execute_reply": "2021-10-28T21:03:29.858182Z",
     "shell.execute_reply.started": "2021-10-28T21:03:29.712317Z"
    },
    "tags": []
   },
   "outputs": [
    {
     "data": {
      "text/html": [
       "<pre>✔️ 5.86 ms (2021-10-28T17:03:29/2021-10-28T17:03:29)</pre>"
      ],
      "text/plain": [
       "<IPython.core.display.HTML object>"
      ]
     },
     "metadata": {},
     "output_type": "display_data"
    },
    {
     "data": {
      "text/plain": [
       "[A_1, E, T_1, T_2]"
      ]
     },
     "execution_count": 126,
     "metadata": {},
     "output_type": "execute_result"
    }
   ],
   "source": [
    "group.product_table.odict[(sp.Symbol('T_1'),sp.Symbol('T_1'))]"
   ]
  },
  {
   "cell_type": "code",
   "execution_count": 118,
   "id": "56b00f4b-87fc-44ae-9266-be1701a0aa22",
   "metadata": {
    "execution": {
     "iopub.execute_input": "2021-10-28T20:54:43.762334Z",
     "iopub.status.busy": "2021-10-28T20:54:43.762089Z",
     "iopub.status.idle": "2021-10-28T20:54:43.967318Z",
     "shell.execute_reply": "2021-10-28T20:54:43.966993Z",
     "shell.execute_reply.started": "2021-10-28T20:54:43.762307Z"
    },
    "tags": []
   },
   "outputs": [
    {
     "data": {
      "text/html": [
       "<pre>✔️ 3.87 ms (2021-10-28T16:54:43/2021-10-28T16:54:43)</pre>"
      ],
      "text/plain": [
       "<IPython.core.display.HTML object>"
      ]
     },
     "metadata": {},
     "output_type": "display_data"
    },
    {
     "data": {
      "text/plain": [
       "{A_1: [a_{A_1}],\n",
       " A_2: [a_{A_2}],\n",
       " E: [u_{E}, v_{E}],\n",
       " T_1: [x_{T_1}, y_{T_1}, z_{T_1}],\n",
       " T_2: [x_{T_2}, y_{T_2}, z_{T_2}]}"
      ]
     },
     "execution_count": 118,
     "metadata": {},
     "output_type": "execute_result"
    }
   ],
   "source": [
    "group.component_labels"
   ]
  },
  {
   "cell_type": "code",
   "execution_count": 119,
   "id": "ec7fd696-e4e5-4045-b003-a9e9e80f2da8",
   "metadata": {
    "execution": {
     "iopub.execute_input": "2021-10-28T20:54:44.055215Z",
     "iopub.status.busy": "2021-10-28T20:54:44.055003Z",
     "iopub.status.idle": "2021-10-28T20:54:44.253436Z",
     "shell.execute_reply": "2021-10-28T20:54:44.253105Z",
     "shell.execute_reply.started": "2021-10-28T20:54:44.055193Z"
    },
    "tags": []
   },
   "outputs": [
    {
     "data": {
      "text/html": [
       "<pre>✔️ 2.7 ms (2021-10-28T16:54:44/2021-10-28T16:54:44)</pre>"
      ],
      "text/plain": [
       "<IPython.core.display.HTML object>"
      ]
     },
     "metadata": {},
     "output_type": "display_data"
    },
    {
     "data": {
      "text/latex": [
       "$\\displaystyle \\Psi(\\alpha2T_{1}1\\gamma)$"
      ],
      "text/plain": [
       "\\Psi(\\alpha2T_{1}1\\gamma)"
      ]
     },
     "execution_count": 119,
     "metadata": {},
     "output_type": "execute_result"
    }
   ],
   "source": [
    "aterm.term_symbol()"
   ]
  },
  {
   "cell_type": "code",
   "execution_count": 120,
   "id": "135a020a-4437-42ca-a94e-83164bdca28b",
   "metadata": {
    "execution": {
     "iopub.execute_input": "2021-10-28T20:54:44.815693Z",
     "iopub.status.busy": "2021-10-28T20:54:44.815014Z",
     "iopub.status.idle": "2021-10-28T20:54:44.959693Z",
     "shell.execute_reply": "2021-10-28T20:54:44.959084Z",
     "shell.execute_reply.started": "2021-10-28T20:54:44.815615Z"
    },
    "tags": []
   },
   "outputs": [
    {
     "data": {
      "text/html": [
       "<pre>✔️ 5.01 ms (2021-10-28T16:54:44/2021-10-28T16:54:44)</pre>"
      ],
      "text/plain": [
       "<IPython.core.display.HTML object>"
      ]
     },
     "metadata": {},
     "output_type": "display_data"
    },
    {
     "data": {
      "text/latex": [
       "$\\displaystyle \\Psi({α},{S},{Γ},{M_s},{γ})$"
      ],
      "text/plain": [
       "\\Psi({α},{S},{Γ},{M_s},{γ})"
      ]
     },
     "execution_count": 120,
     "metadata": {},
     "output_type": "execute_result"
    }
   ],
   "source": [
    "aterm.term_prototype"
   ]
  },
  {
   "cell_type": "markdown",
   "id": "21c3a0a0-0f1a-47c7-8733-4322aaf33c4f",
   "metadata": {
    "tags": []
   },
   "source": [
    "## $d^1$"
   ]
  },
  {
   "cell_type": "code",
   "execution_count": 3,
   "id": "d5606d42-0ec4-489c-b740-818e16019533",
   "metadata": {
    "collapsed": true,
    "execution": {
     "iopub.execute_input": "2021-10-28T14:48:54.627614Z",
     "iopub.status.busy": "2021-10-28T14:48:54.627200Z",
     "iopub.status.idle": "2021-10-28T14:48:54.763499Z",
     "shell.execute_reply": "2021-10-28T14:48:54.763146Z",
     "shell.execute_reply.started": "2021-10-28T14:48:54.627570Z"
    },
    "jupyter": {
     "outputs_hidden": true
    },
    "tags": []
   },
   "outputs": [
    {
     "data": {
      "text/html": [
       "<pre>✔️ 17.4 ms (2021-10-28T10:48:54/2021-10-28T10:48:54)</pre>"
      ],
      "text/plain": [
       "<IPython.core.display.HTML object>"
      ]
     },
     "metadata": {},
     "output_type": "display_data"
    },
    {
     "data": {
      "text/plain": [
       "{'matrices': [Matrix([\n",
       "  [  B_{4,0}/21,             0,           0,             0, 5*B_{4,0}/21],\n",
       "  [           0, -4*B_{4,0}/21,           0,             0,            0],\n",
       "  [           0,             0, 2*B_{4,0}/7,             0,            0],\n",
       "  [           0,             0,           0, -4*B_{4,0}/21,            0],\n",
       "  [5*B_{4,0}/21,             0,           0,             0,   B_{4,0}/21]]),\n",
       "  Matrix([\n",
       "  [   B_{4,0}/21,             0,           0,             0, -5*B_{4,0}/21],\n",
       "  [            0, -4*B_{4,0}/21,           0,             0,             0],\n",
       "  [            0,             0, 2*B_{4,0}/7,             0,             0],\n",
       "  [            0,             0,           0, -4*B_{4,0}/21,             0],\n",
       "  [-5*B_{4,0}/21,             0,           0,             0,    B_{4,0}/21]])],\n",
       " 'simple_free_parameters': [{B_{4,0}}, {B_{4,0}}],\n",
       " 'free_parameters': [{B_{4,0}^r}, {B_{4,0}^r}],\n",
       " 'eigen_system': [[(-4*B_{4,0}^r/21,\n",
       "    3,\n",
       "    [Matrix([\n",
       "     [0],\n",
       "     [1],\n",
       "     [0],\n",
       "     [0],\n",
       "     [0]]),\n",
       "     Matrix([\n",
       "     [0],\n",
       "     [0],\n",
       "     [0],\n",
       "     [1],\n",
       "     [0]]),\n",
       "     Matrix([\n",
       "     [-1],\n",
       "     [ 0],\n",
       "     [ 0],\n",
       "     [ 0],\n",
       "     [ 1]])]),\n",
       "   (2*B_{4,0}^r/7,\n",
       "    2,\n",
       "    [Matrix([\n",
       "     [0],\n",
       "     [0],\n",
       "     [1],\n",
       "     [0],\n",
       "     [0]]),\n",
       "     Matrix([\n",
       "     [1],\n",
       "     [0],\n",
       "     [0],\n",
       "     [0],\n",
       "     [1]])])],\n",
       "  [(-4*B_{4,0}^r/21,\n",
       "    3,\n",
       "    [Matrix([\n",
       "     [0],\n",
       "     [1],\n",
       "     [0],\n",
       "     [0],\n",
       "     [0]]),\n",
       "     Matrix([\n",
       "     [0],\n",
       "     [0],\n",
       "     [0],\n",
       "     [1],\n",
       "     [0]]),\n",
       "     Matrix([\n",
       "     [1],\n",
       "     [0],\n",
       "     [0],\n",
       "     [0],\n",
       "     [1]])]),\n",
       "   (2*B_{4,0}^r/7,\n",
       "    2,\n",
       "    [Matrix([\n",
       "     [0],\n",
       "     [0],\n",
       "     [1],\n",
       "     [0],\n",
       "     [0]]),\n",
       "     Matrix([\n",
       "     [-1],\n",
       "     [ 0],\n",
       "     [ 0],\n",
       "     [ 0],\n",
       "     [ 1]])])]]}"
      ]
     },
     "execution_count": 3,
     "metadata": {},
     "output_type": "execute_result"
    }
   ],
   "source": [
    "crystal_splits[32]"
   ]
  },
  {
   "cell_type": "code",
   "execution_count": 347,
   "id": "4edbeca2-572a-4c7b-9a15-1cd97a70d8ef",
   "metadata": {
    "execution": {
     "iopub.execute_input": "2021-10-15T17:32:31.629258Z",
     "iopub.status.busy": "2021-10-15T17:32:31.628887Z",
     "iopub.status.idle": "2021-10-15T17:32:31.974281Z",
     "shell.execute_reply": "2021-10-15T17:32:31.973939Z",
     "shell.execute_reply.started": "2021-10-15T17:32:31.629217Z"
    },
    "tags": []
   },
   "outputs": [
    {
     "data": {
      "text/html": [
       "<pre>✔️ 4.42 ms (2021-10-15T13:32:31/2021-10-15T13:32:31)</pre>"
      ],
      "text/plain": [
       "<IPython.core.display.HTML object>"
      ]
     },
     "metadata": {},
     "output_type": "display_data"
    }
   ],
   "source": [
    "grup_indices = range(3,33)\n",
    "matrices = {i: crystal_splits[i]['matrices'][0] for i in grup_indices}"
   ]
  },
  {
   "cell_type": "code",
   "execution_count": 349,
   "id": "ccb10dbd-8ebe-4751-bb23-ae5e887c6d8b",
   "metadata": {
    "execution": {
     "iopub.execute_input": "2021-10-15T17:32:51.681403Z",
     "iopub.status.busy": "2021-10-15T17:32:51.680925Z",
     "iopub.status.idle": "2021-10-15T17:32:52.078742Z",
     "shell.execute_reply": "2021-10-15T17:32:52.078293Z",
     "shell.execute_reply.started": "2021-10-15T17:32:51.681363Z"
    },
    "tags": []
   },
   "outputs": [
    {
     "data": {
      "text/html": [
       "<pre>✔️ 4.64 ms (2021-10-15T13:32:51/2021-10-15T13:32:51)</pre>"
      ],
      "text/plain": [
       "<IPython.core.display.HTML object>"
      ]
     },
     "metadata": {},
     "output_type": "display_data"
    }
   ],
   "source": [
    "grup_symbols = list(map(sp.Symbol,[CPGs.all_group_labels[i-1] for i in grup_indices]))"
   ]
  },
  {
   "cell_type": "code",
   "execution_count": 357,
   "id": "f548ff1c-08c4-4d0c-bab7-0bd132acfd98",
   "metadata": {
    "collapsed": true,
    "execution": {
     "iopub.execute_input": "2021-10-15T17:49:40.764049Z",
     "iopub.status.busy": "2021-10-15T17:49:40.763324Z",
     "iopub.status.idle": "2021-10-15T17:49:41.337355Z",
     "shell.execute_reply": "2021-10-15T17:49:41.336950Z",
     "shell.execute_reply.started": "2021-10-15T17:49:40.763998Z"
    },
    "jupyter": {
     "outputs_hidden": true
    },
    "tags": []
   },
   "outputs": [
    {
     "data": {
      "text/html": [
       "<pre>✔️ 179 ms (2021-10-15T13:49:40/2021-10-15T13:49:40)</pre>"
      ],
      "text/plain": [
       "<IPython.core.display.HTML object>"
      ]
     },
     "metadata": {},
     "output_type": "display_data"
    },
    {
     "data": {
      "text/latex": [
       "$\\displaystyle \\left[\\begin{array}{cccccccccccccccccccccccccccccc}C_{2} & C_{s} & C_{2h} & D_{2} & C_{2v} & D_{2h} & C_{4} & S_{4} & C_{4h} & D_{4} & C_{4v} & D_{2d} & D_{4h} & C_{3} & S_{6} & D_{3} & C_{3v} & D_{3d} & C_{6} & C_{3h} & C_{6h} & D_{6} & C_{6v} & D_{3h} & D_{6h} & T & T_{h} & O & T_{d} & O_{h}\\\\1 & 1 & 1 & 0 & 0 & 0 & 0 & 0 & 0 & 0 & 0 & 0 & 0 & 0 & 0 & 0 & 0 & 0 & 0 & 0 & 0 & 0 & 0 & 0 & 0 & 0 & 0 & 0 & 0 & 0\\\\1 & 1 & 1 & 0 & 0 & 0 & 0 & 0 & 0 & 0 & 0 & 0 & 0 & 0 & 0 & 0 & 0 & 0 & 0 & 0 & 0 & 0 & 0 & 0 & 0 & 0 & 0 & 0 & 0 & 0\\\\1 & 1 & 1 & 0 & 0 & 0 & 0 & 0 & 0 & 0 & 0 & 0 & 0 & 0 & 0 & 0 & 0 & 0 & 0 & 0 & 0 & 0 & 0 & 0 & 0 & 0 & 0 & 0 & 0 & 0\\\\0 & 0 & 0 & 1 & 1 & 1 & 0 & 0 & 0 & 0 & 0 & 0 & 0 & 0 & 0 & 0 & 0 & 0 & 0 & 0 & 0 & 0 & 0 & 0 & 0 & 0 & 0 & 0 & 0 & 0\\\\0 & 0 & 0 & 1 & 1 & 1 & 0 & 0 & 0 & 0 & 0 & 0 & 0 & 0 & 0 & 0 & 0 & 0 & 0 & 0 & 0 & 0 & 0 & 0 & 0 & 0 & 0 & 0 & 0 & 0\\\\0 & 0 & 0 & 1 & 1 & 1 & 0 & 0 & 0 & 0 & 0 & 0 & 0 & 0 & 0 & 0 & 0 & 0 & 0 & 0 & 0 & 0 & 0 & 0 & 0 & 0 & 0 & 0 & 0 & 0\\\\0 & 0 & 0 & 0 & 0 & 0 & 1 & 1 & 1 & 0 & 0 & 0 & 0 & 0 & 0 & 0 & 0 & 0 & 0 & 0 & 0 & 0 & 0 & 0 & 0 & 0 & 0 & 0 & 0 & 0\\\\0 & 0 & 0 & 0 & 0 & 0 & 1 & 1 & 1 & 0 & 0 & 0 & 0 & 0 & 0 & 0 & 0 & 0 & 0 & 0 & 0 & 0 & 0 & 0 & 0 & 0 & 0 & 0 & 0 & 0\\\\0 & 0 & 0 & 0 & 0 & 0 & 1 & 1 & 1 & 0 & 0 & 0 & 0 & 0 & 0 & 0 & 0 & 0 & 0 & 0 & 0 & 0 & 0 & 0 & 0 & 0 & 0 & 0 & 0 & 0\\\\0 & 0 & 0 & 0 & 0 & 0 & 0 & 0 & 0 & 1 & 1 & 1 & 1 & 0 & 0 & 0 & 0 & 0 & 0 & 0 & 0 & 0 & 0 & 0 & 0 & 0 & 0 & 0 & 0 & 0\\\\0 & 0 & 0 & 0 & 0 & 0 & 0 & 0 & 0 & 1 & 1 & 1 & 1 & 0 & 0 & 0 & 0 & 0 & 0 & 0 & 0 & 0 & 0 & 0 & 0 & 0 & 0 & 0 & 0 & 0\\\\0 & 0 & 0 & 0 & 0 & 0 & 0 & 0 & 0 & 1 & 1 & 1 & 1 & 0 & 0 & 0 & 0 & 0 & 0 & 0 & 0 & 0 & 0 & 0 & 0 & 0 & 0 & 0 & 0 & 0\\\\0 & 0 & 0 & 0 & 0 & 0 & 0 & 0 & 0 & 1 & 1 & 1 & 1 & 0 & 0 & 0 & 0 & 0 & 0 & 0 & 0 & 0 & 0 & 0 & 0 & 0 & 0 & 0 & 0 & 0\\\\0 & 0 & 0 & 0 & 0 & 0 & 0 & 0 & 0 & 0 & 0 & 0 & 0 & 1 & 1 & 0 & 0 & 0 & 0 & 0 & 0 & 0 & 0 & 0 & 0 & 0 & 0 & 0 & 0 & 0\\\\0 & 0 & 0 & 0 & 0 & 0 & 0 & 0 & 0 & 0 & 0 & 0 & 0 & 1 & 1 & 0 & 0 & 0 & 0 & 0 & 0 & 0 & 0 & 0 & 0 & 0 & 0 & 0 & 0 & 0\\\\0 & 0 & 0 & 0 & 0 & 0 & 0 & 0 & 0 & 0 & 0 & 0 & 0 & 0 & 0 & 1 & 1 & 1 & 0 & 0 & 0 & 0 & 0 & 0 & 0 & 0 & 0 & 0 & 0 & 0\\\\0 & 0 & 0 & 0 & 0 & 0 & 0 & 0 & 0 & 0 & 0 & 0 & 0 & 0 & 0 & 1 & 1 & 1 & 0 & 0 & 0 & 0 & 0 & 0 & 0 & 0 & 0 & 0 & 0 & 0\\\\0 & 0 & 0 & 0 & 0 & 0 & 0 & 0 & 0 & 0 & 0 & 0 & 0 & 0 & 0 & 1 & 1 & 1 & 0 & 0 & 0 & 0 & 0 & 0 & 0 & 0 & 0 & 0 & 0 & 0\\\\0 & 0 & 0 & 0 & 0 & 0 & 0 & 0 & 0 & 0 & 0 & 0 & 0 & 0 & 0 & 0 & 0 & 0 & 1 & 1 & 1 & 1 & 1 & 1 & 1 & 0 & 0 & 0 & 0 & 0\\\\0 & 0 & 0 & 0 & 0 & 0 & 0 & 0 & 0 & 0 & 0 & 0 & 0 & 0 & 0 & 0 & 0 & 0 & 1 & 1 & 1 & 1 & 1 & 1 & 1 & 0 & 0 & 0 & 0 & 0\\\\0 & 0 & 0 & 0 & 0 & 0 & 0 & 0 & 0 & 0 & 0 & 0 & 0 & 0 & 0 & 0 & 0 & 0 & 1 & 1 & 1 & 1 & 1 & 1 & 1 & 0 & 0 & 0 & 0 & 0\\\\0 & 0 & 0 & 0 & 0 & 0 & 0 & 0 & 0 & 0 & 0 & 0 & 0 & 0 & 0 & 0 & 0 & 0 & 1 & 1 & 1 & 1 & 1 & 1 & 1 & 0 & 0 & 0 & 0 & 0\\\\0 & 0 & 0 & 0 & 0 & 0 & 0 & 0 & 0 & 0 & 0 & 0 & 0 & 0 & 0 & 0 & 0 & 0 & 1 & 1 & 1 & 1 & 1 & 1 & 1 & 0 & 0 & 0 & 0 & 0\\\\0 & 0 & 0 & 0 & 0 & 0 & 0 & 0 & 0 & 0 & 0 & 0 & 0 & 0 & 0 & 0 & 0 & 0 & 1 & 1 & 1 & 1 & 1 & 1 & 1 & 0 & 0 & 0 & 0 & 0\\\\0 & 0 & 0 & 0 & 0 & 0 & 0 & 0 & 0 & 0 & 0 & 0 & 0 & 0 & 0 & 0 & 0 & 0 & 1 & 1 & 1 & 1 & 1 & 1 & 1 & 0 & 0 & 0 & 0 & 0\\\\0 & 0 & 0 & 0 & 0 & 0 & 0 & 0 & 0 & 0 & 0 & 0 & 0 & 0 & 0 & 0 & 0 & 0 & 0 & 0 & 0 & 0 & 0 & 0 & 0 & 1 & 1 & 1 & 1 & 1\\\\0 & 0 & 0 & 0 & 0 & 0 & 0 & 0 & 0 & 0 & 0 & 0 & 0 & 0 & 0 & 0 & 0 & 0 & 0 & 0 & 0 & 0 & 0 & 0 & 0 & 1 & 1 & 1 & 1 & 1\\\\0 & 0 & 0 & 0 & 0 & 0 & 0 & 0 & 0 & 0 & 0 & 0 & 0 & 0 & 0 & 0 & 0 & 0 & 0 & 0 & 0 & 0 & 0 & 0 & 0 & 1 & 1 & 1 & 1 & 1\\\\0 & 0 & 0 & 0 & 0 & 0 & 0 & 0 & 0 & 0 & 0 & 0 & 0 & 0 & 0 & 0 & 0 & 0 & 0 & 0 & 0 & 0 & 0 & 0 & 0 & 1 & 1 & 1 & 1 & 1\\\\0 & 0 & 0 & 0 & 0 & 0 & 0 & 0 & 0 & 0 & 0 & 0 & 0 & 0 & 0 & 0 & 0 & 0 & 0 & 0 & 0 & 0 & 0 & 0 & 0 & 1 & 1 & 1 & 1 & 1\\end{array}\\right]$"
      ],
      "text/plain": [
       "Matrix([\n",
       "[C_{2}, C_{s}, C_{2h}, D_{2}, C_{2v}, D_{2h}, C_{4}, S_{4}, C_{4h}, D_{4}, C_{4v}, D_{2d}, D_{4h}, C_{3}, S_{6}, D_{3}, C_{3v}, D_{3d}, C_{6}, C_{3h}, C_{6h}, D_{6}, C_{6v}, D_{3h}, D_{6h}, T, T_{h}, O, T_{d}, O_{h}],\n",
       "[    1,     1,      1,     0,      0,      0,     0,     0,      0,     0,      0,      0,      0,     0,     0,     0,      0,      0,     0,      0,      0,     0,      0,      0,      0, 0,     0, 0,     0,     0],\n",
       "[    1,     1,      1,     0,      0,      0,     0,     0,      0,     0,      0,      0,      0,     0,     0,     0,      0,      0,     0,      0,      0,     0,      0,      0,      0, 0,     0, 0,     0,     0],\n",
       "[    1,     1,      1,     0,      0,      0,     0,     0,      0,     0,      0,      0,      0,     0,     0,     0,      0,      0,     0,      0,      0,     0,      0,      0,      0, 0,     0, 0,     0,     0],\n",
       "[    0,     0,      0,     1,      1,      1,     0,     0,      0,     0,      0,      0,      0,     0,     0,     0,      0,      0,     0,      0,      0,     0,      0,      0,      0, 0,     0, 0,     0,     0],\n",
       "[    0,     0,      0,     1,      1,      1,     0,     0,      0,     0,      0,      0,      0,     0,     0,     0,      0,      0,     0,      0,      0,     0,      0,      0,      0, 0,     0, 0,     0,     0],\n",
       "[    0,     0,      0,     1,      1,      1,     0,     0,      0,     0,      0,      0,      0,     0,     0,     0,      0,      0,     0,      0,      0,     0,      0,      0,      0, 0,     0, 0,     0,     0],\n",
       "[    0,     0,      0,     0,      0,      0,     1,     1,      1,     0,      0,      0,      0,     0,     0,     0,      0,      0,     0,      0,      0,     0,      0,      0,      0, 0,     0, 0,     0,     0],\n",
       "[    0,     0,      0,     0,      0,      0,     1,     1,      1,     0,      0,      0,      0,     0,     0,     0,      0,      0,     0,      0,      0,     0,      0,      0,      0, 0,     0, 0,     0,     0],\n",
       "[    0,     0,      0,     0,      0,      0,     1,     1,      1,     0,      0,      0,      0,     0,     0,     0,      0,      0,     0,      0,      0,     0,      0,      0,      0, 0,     0, 0,     0,     0],\n",
       "[    0,     0,      0,     0,      0,      0,     0,     0,      0,     1,      1,      1,      1,     0,     0,     0,      0,      0,     0,      0,      0,     0,      0,      0,      0, 0,     0, 0,     0,     0],\n",
       "[    0,     0,      0,     0,      0,      0,     0,     0,      0,     1,      1,      1,      1,     0,     0,     0,      0,      0,     0,      0,      0,     0,      0,      0,      0, 0,     0, 0,     0,     0],\n",
       "[    0,     0,      0,     0,      0,      0,     0,     0,      0,     1,      1,      1,      1,     0,     0,     0,      0,      0,     0,      0,      0,     0,      0,      0,      0, 0,     0, 0,     0,     0],\n",
       "[    0,     0,      0,     0,      0,      0,     0,     0,      0,     1,      1,      1,      1,     0,     0,     0,      0,      0,     0,      0,      0,     0,      0,      0,      0, 0,     0, 0,     0,     0],\n",
       "[    0,     0,      0,     0,      0,      0,     0,     0,      0,     0,      0,      0,      0,     1,     1,     0,      0,      0,     0,      0,      0,     0,      0,      0,      0, 0,     0, 0,     0,     0],\n",
       "[    0,     0,      0,     0,      0,      0,     0,     0,      0,     0,      0,      0,      0,     1,     1,     0,      0,      0,     0,      0,      0,     0,      0,      0,      0, 0,     0, 0,     0,     0],\n",
       "[    0,     0,      0,     0,      0,      0,     0,     0,      0,     0,      0,      0,      0,     0,     0,     1,      1,      1,     0,      0,      0,     0,      0,      0,      0, 0,     0, 0,     0,     0],\n",
       "[    0,     0,      0,     0,      0,      0,     0,     0,      0,     0,      0,      0,      0,     0,     0,     1,      1,      1,     0,      0,      0,     0,      0,      0,      0, 0,     0, 0,     0,     0],\n",
       "[    0,     0,      0,     0,      0,      0,     0,     0,      0,     0,      0,      0,      0,     0,     0,     1,      1,      1,     0,      0,      0,     0,      0,      0,      0, 0,     0, 0,     0,     0],\n",
       "[    0,     0,      0,     0,      0,      0,     0,     0,      0,     0,      0,      0,      0,     0,     0,     0,      0,      0,     1,      1,      1,     1,      1,      1,      1, 0,     0, 0,     0,     0],\n",
       "[    0,     0,      0,     0,      0,      0,     0,     0,      0,     0,      0,      0,      0,     0,     0,     0,      0,      0,     1,      1,      1,     1,      1,      1,      1, 0,     0, 0,     0,     0],\n",
       "[    0,     0,      0,     0,      0,      0,     0,     0,      0,     0,      0,      0,      0,     0,     0,     0,      0,      0,     1,      1,      1,     1,      1,      1,      1, 0,     0, 0,     0,     0],\n",
       "[    0,     0,      0,     0,      0,      0,     0,     0,      0,     0,      0,      0,      0,     0,     0,     0,      0,      0,     1,      1,      1,     1,      1,      1,      1, 0,     0, 0,     0,     0],\n",
       "[    0,     0,      0,     0,      0,      0,     0,     0,      0,     0,      0,      0,      0,     0,     0,     0,      0,      0,     1,      1,      1,     1,      1,      1,      1, 0,     0, 0,     0,     0],\n",
       "[    0,     0,      0,     0,      0,      0,     0,     0,      0,     0,      0,      0,      0,     0,     0,     0,      0,      0,     1,      1,      1,     1,      1,      1,      1, 0,     0, 0,     0,     0],\n",
       "[    0,     0,      0,     0,      0,      0,     0,     0,      0,     0,      0,      0,      0,     0,     0,     0,      0,      0,     1,      1,      1,     1,      1,      1,      1, 0,     0, 0,     0,     0],\n",
       "[    0,     0,      0,     0,      0,      0,     0,     0,      0,     0,      0,      0,      0,     0,     0,     0,      0,      0,     0,      0,      0,     0,      0,      0,      0, 1,     1, 1,     1,     1],\n",
       "[    0,     0,      0,     0,      0,      0,     0,     0,      0,     0,      0,      0,      0,     0,     0,     0,      0,      0,     0,      0,      0,     0,      0,      0,      0, 1,     1, 1,     1,     1],\n",
       "[    0,     0,      0,     0,      0,      0,     0,     0,      0,     0,      0,      0,      0,     0,     0,     0,      0,      0,     0,      0,      0,     0,      0,      0,      0, 1,     1, 1,     1,     1],\n",
       "[    0,     0,      0,     0,      0,      0,     0,     0,      0,     0,      0,      0,      0,     0,     0,     0,      0,      0,     0,      0,      0,     0,      0,      0,      0, 1,     1, 1,     1,     1],\n",
       "[    0,     0,      0,     0,      0,      0,     0,     0,      0,     0,      0,      0,      0,     0,     0,     0,      0,      0,     0,      0,      0,     0,      0,      0,      0, 1,     1, 1,     1,     1]])"
      ]
     },
     "execution_count": 357,
     "metadata": {},
     "output_type": "execute_result"
    }
   ],
   "source": [
    "mahtrix = [grup_symbols]\n",
    "umatrices = {}\n",
    "for grup_index_0 in grup_indices:\n",
    "    row = []\n",
    "    m0 = matrices[grup_index_0]\n",
    "    m0l = sp.latex(m0)\n",
    "    if m0l not in umatrices.keys():\n",
    "        umatrices[m0l] = []\n",
    "    umatrices[m0l].append(CPGs.all_group_labels[grup_index_0-1])\n",
    "    for grup_index_1 in grup_indices:\n",
    "        m1 = matrices[grup_index_1]\n",
    "        row.append(1 if m0==m1 else 0)\n",
    "    mahtrix.append(row)\n",
    "sp.Matrix(mahtrix)"
   ]
  },
  {
   "cell_type": "code",
   "execution_count": 12,
   "id": "39179397-63dd-4fdc-9492-299a9479547b",
   "metadata": {
    "execution": {
     "iopub.execute_input": "2021-10-28T14:50:22.966622Z",
     "iopub.status.busy": "2021-10-28T14:50:22.965977Z",
     "iopub.status.idle": "2021-10-28T14:50:23.137612Z",
     "shell.execute_reply": "2021-10-28T14:50:23.137278Z",
     "shell.execute_reply.started": "2021-10-28T14:50:22.966546Z"
    },
    "tags": []
   },
   "outputs": [
    {
     "data": {
      "text/html": [
       "<pre>✔️ 2.4 ms (2021-10-28T10:50:22/2021-10-28T10:50:22)</pre>"
      ],
      "text/plain": [
       "<IPython.core.display.HTML object>"
      ]
     },
     "metadata": {},
     "output_type": "display_data"
    }
   ],
   "source": [
    "class CrystalDefect():\n",
    "    '''\n",
    "    A CrystalDefect has the following attributes:\n",
    "    \n",
    "    - site          (str):\n",
    "    - host          (str):\n",
    "    - atom_symb     (str):\n",
    "    - charge_state  (int):\n",
    "    - ion           (Ion):\n",
    "    - Bnm           (Bnm):\n",
    "    - freeIparams  (dict):\n",
    "    '''\n",
    "    def __init__(self, defectDict):\n",
    "        if 'Bnm' in defectDict.keys():\n",
    "            self.Bnm = defectDict['Bnm']\n",
    "            Bnmattrs = [a for a in dir(self.Bnm) if not a.startswith('__')]\n",
    "            for Bnmattr in Bnmattrs:\n",
    "                setattr(self, Bnmattr, getattr(self.Bnm, Bnmattr))\n",
    "        for k, v in defectDict.items():\n",
    "            if k == 'Bnm':\n",
    "                continue\n",
    "            setattr(self, k, v)\n",
    "        self.GroupSymb = self.point_sym_group\n",
    "        self.GroupNum = CPGs.all_group_labels.index(self.GroupSymb)\n",
    "        self.Cfield = crystal_fields[self.GroupNum]\n",
    "        self.splitter = crystal_splits[self.GroupNum]\n",
    "    def __repr__(self):\n",
    "        return self.Bnm.__repr__()"
   ]
  },
  {
   "cell_type": "code",
   "execution_count": 5,
   "id": "ad419511-a71c-4864-8bad-8fdd06502849",
   "metadata": {
    "execution": {
     "iopub.execute_input": "2021-10-28T14:49:50.652108Z",
     "iopub.status.busy": "2021-10-28T14:49:50.651472Z",
     "iopub.status.idle": "2021-10-28T14:49:50.826037Z",
     "shell.execute_reply": "2021-10-28T14:49:50.825685Z",
     "shell.execute_reply.started": "2021-10-28T14:49:50.652034Z"
    },
    "tags": []
   },
   "outputs": [
    {
     "data": {
      "text/html": [
       "<pre>✔️ 9.34 ms (2021-10-28T10:49:50/2021-10-28T10:49:50)</pre>"
      ],
      "text/plain": [
       "<IPython.core.display.HTML object>"
      ]
     },
     "metadata": {},
     "output_type": "display_data"
    }
   ],
   "source": [
    "d1_df = CFparams[CFparams['nd^N'].apply(lambda x: 'd1' in x)]\n",
    "Bnms = []\n",
    "Cdefects = []\n",
    "for row in d1_df.iterrows():\n",
    "    row_data = row[1]\n",
    "    Bparams = {k:v for k,v in row_data.items() if 'B_' in k}\n",
    "    symmetry = row_data['Symmetry']\n",
    "    if symmetry == 'C_{3i}':\n",
    "        symmetry = 'S_{6}'\n",
    "    Bnm_dict = {\n",
    "        'host': row_data['Host'],\n",
    "        'site': row_data['Site'],\n",
    "        'point_sym_group': symmetry,\n",
    "        'ion': row_data['Ion'],\n",
    "        'params': Bparams,\n",
    "        'unit' : 'cm^{-1}',\n",
    "        'sources': row_data['Source'],\n",
    "        'comments': '',\n",
    "        'is_experimental': (row_data['Type'] == 'Experimental')\n",
    "        }\n",
    "    Bnms.append(Bnm(Bnm_dict))"
   ]
  },
  {
   "cell_type": "code",
   "execution_count": 9,
   "id": "d40a2735-b982-4d75-b625-cae4e9e85c2f",
   "metadata": {
    "execution": {
     "iopub.execute_input": "2021-10-28T14:50:18.308258Z",
     "iopub.status.busy": "2021-10-28T14:50:18.307697Z",
     "iopub.status.idle": "2021-10-28T14:50:18.435638Z",
     "shell.execute_reply": "2021-10-28T14:50:18.435319Z",
     "shell.execute_reply.started": "2021-10-28T14:50:18.308195Z"
    },
    "tags": []
   },
   "outputs": [
    {
     "data": {
      "text/html": [
       "<pre>✔️ 4.27 ms (2021-10-28T10:50:18/2021-10-28T10:50:18)</pre>"
      ],
      "text/plain": [
       "<IPython.core.display.HTML object>"
      ]
     },
     "metadata": {},
     "output_type": "display_data"
    },
    {
     "data": {
      "text/plain": [
       "16"
      ]
     },
     "execution_count": 9,
     "metadata": {},
     "output_type": "execute_result"
    }
   ],
   "source": [
    "CPGs.all_group_labels.index('S_{6}')"
   ]
  },
  {
   "cell_type": "code",
   "execution_count": 10,
   "id": "7fdb6b6e-2137-4d65-9f7d-5ac0882293ec",
   "metadata": {
    "execution": {
     "iopub.execute_input": "2021-10-28T14:50:18.532721Z",
     "iopub.status.busy": "2021-10-28T14:50:18.532536Z",
     "iopub.status.idle": "2021-10-28T14:50:18.756678Z",
     "shell.execute_reply": "2021-10-28T14:50:18.756267Z",
     "shell.execute_reply.started": "2021-10-28T14:50:18.532704Z"
    },
    "tags": []
   },
   "outputs": [
    {
     "data": {
      "text/html": [
       "<pre>✔️ 3.87 ms (2021-10-28T10:50:18/2021-10-28T10:50:18)</pre>"
      ],
      "text/plain": [
       "<IPython.core.display.HTML object>"
      ]
     },
     "metadata": {},
     "output_type": "display_data"
    },
    {
     "data": {
      "text/latex": [
       "$\\displaystyle - \\frac{B_{2,0}^r}{14} - \\frac{B_{4,0}^r}{14} - \\frac{\\sqrt{81 \\left(B_{2,0}^r\\right)^{2} - 90 B_{2,0}^r B_{4,0}^r + 25 \\left(B_{4,0}^r\\right)^{2} + 140 \\left(B_{4,3}^i\\right)^{2} + 140 \\left(B_{4,3}^r\\right)^{2}}}{42}$"
      ],
      "text/plain": [
       "-B_{2,0}^r/14 - B_{4,0}^r/14 - sqrt(81*B_{2,0}^r**2 - 90*B_{2,0}^r*B_{4,0}^r + 25*B_{4,0}^r**2 + 140*B_{4,3}^i**2 + 140*B_{4,3}^r**2)/42"
      ]
     },
     "execution_count": 10,
     "metadata": {},
     "output_type": "execute_result"
    }
   ],
   "source": [
    "crystal_splits[16]['eigen_system'][0][1][0]"
   ]
  },
  {
   "cell_type": "code",
   "execution_count": 13,
   "id": "0193e41a-1f94-4ee3-ac9a-235895da9b2a",
   "metadata": {
    "execution": {
     "iopub.execute_input": "2021-10-28T14:50:26.824037Z",
     "iopub.status.busy": "2021-10-28T14:50:26.823395Z",
     "iopub.status.idle": "2021-10-28T14:50:27.040443Z",
     "shell.execute_reply": "2021-10-28T14:50:27.040085Z",
     "shell.execute_reply.started": "2021-10-28T14:50:26.823964Z"
    },
    "tags": []
   },
   "outputs": [
    {
     "data": {
      "text/html": [
       "<pre>✔️ 1.53 ms (2021-10-28T10:50:26/2021-10-28T10:50:26)</pre>"
      ],
      "text/plain": [
       "<IPython.core.display.HTML object>"
      ]
     },
     "metadata": {},
     "output_type": "display_data"
    }
   ],
   "source": [
    "cdef = CrystalDefect({'Bnm':Bnms[0],'charge_state':4})"
   ]
  },
  {
   "cell_type": "code",
   "execution_count": 14,
   "id": "a86544aa-5877-4581-b5c7-11719bedccdc",
   "metadata": {
    "execution": {
     "iopub.execute_input": "2021-10-28T14:50:29.427986Z",
     "iopub.status.busy": "2021-10-28T14:50:29.427191Z",
     "iopub.status.idle": "2021-10-28T14:50:29.594535Z",
     "shell.execute_reply": "2021-10-28T14:50:29.594164Z",
     "shell.execute_reply.started": "2021-10-28T14:50:29.427908Z"
    },
    "tags": []
   },
   "outputs": [
    {
     "data": {
      "text/html": [
       "<pre>✔️ 2.25 ms (2021-10-28T10:50:29/2021-10-28T10:50:29)</pre>"
      ],
      "text/plain": [
       "<IPython.core.display.HTML object>"
      ]
     },
     "metadata": {},
     "output_type": "display_data"
    }
   ],
   "source": [
    "def square_field_in_a_round_hole(matrix, Bnm_params):\n",
    "    # assume all params are real\n",
    "    # and that they aint currently typed as either\n",
    "    # assume that all that's missing is zero\n",
    "    available_params = {sp.Symbol(k):v for k,v in Bnm_params.items() if not math.isnan(v)}\n",
    "    matrix = matrix.subs(available_params)\n",
    "    available_params = {sp.Symbol(k+'^r'):v for k,v in Bnm_params.items() if not math.isnan(v)}\n",
    "    matrix_params = set(matrix.free_symbols)\n",
    "    have_params = matrix_params.intersection(available_params)\n",
    "    dont_have = {k: 0 for k in matrix_params.difference(available_params)}\n",
    "    fudged_params = available_params\n",
    "    fudged_params.update(dont_have)\n",
    "    return matrix.subs(fudged_params)"
   ]
  },
  {
   "cell_type": "code",
   "execution_count": 15,
   "id": "d01e92a0-aa92-4715-8e5d-66bc4d07baa6",
   "metadata": {
    "execution": {
     "iopub.execute_input": "2021-10-28T14:50:30.293787Z",
     "iopub.status.busy": "2021-10-28T14:50:30.293274Z",
     "iopub.status.idle": "2021-10-28T14:50:30.463893Z",
     "shell.execute_reply": "2021-10-28T14:50:30.463530Z",
     "shell.execute_reply.started": "2021-10-28T14:50:30.293700Z"
    },
    "tags": []
   },
   "outputs": [
    {
     "data": {
      "text/html": [
       "<pre>✔️ 61 ms (2021-10-28T10:50:30/2021-10-28T10:50:30)</pre>"
      ],
      "text/plain": [
       "<IPython.core.display.HTML object>"
      ]
     },
     "metadata": {},
     "output_type": "display_data"
    },
    {
     "data": {
      "text/plain": [
       "{2*B_{4,0}/7: 3, -3*B_{4,0}/7: 2}"
      ]
     },
     "execution_count": 15,
     "metadata": {},
     "output_type": "execute_result"
    }
   ],
   "source": [
    "cdef.splitter['matrices'][0].subs({sp.Symbol('B_{2,0}'):0,sp.Symbol('B_{4,3}^i'):0,sp.Symbol('B_{4,3}^r'):sp.sqrt(sp.S(10)/7) * sp.Symbol('B_{4,0}')}).eigenvals()"
   ]
  },
  {
   "cell_type": "code",
   "execution_count": 16,
   "id": "187385a6-5a7a-43d9-b376-ea9bca9bf2d6",
   "metadata": {
    "execution": {
     "iopub.execute_input": "2021-10-28T14:50:33.732606Z",
     "iopub.status.busy": "2021-10-28T14:50:33.732164Z",
     "iopub.status.idle": "2021-10-28T14:50:33.969934Z",
     "shell.execute_reply": "2021-10-28T14:50:33.969564Z",
     "shell.execute_reply.started": "2021-10-28T14:50:33.732558Z"
    },
    "tags": []
   },
   "outputs": [
    {
     "data": {
      "text/html": [
       "<pre>✔️ 102 ms (2021-10-28T10:50:33/2021-10-28T10:50:33)</pre>"
      ],
      "text/plain": [
       "<IPython.core.display.HTML object>"
      ]
     },
     "metadata": {},
     "output_type": "display_data"
    }
   ],
   "source": [
    "splits = cdef.splitter['matrices'][0].subs({sp.Symbol('B_{2,0}'):0,sp.Symbol('B_{4,3}^i'):0,sp.Symbol('B_{4,3}^r'):sp.sqrt(sp.S(10)/7) * sp.Symbol('B_{4,0}')}).eigenvals()"
   ]
  },
  {
   "cell_type": "code",
   "execution_count": 18,
   "id": "c7b4708d-1b72-4c07-8581-65cbf66c4501",
   "metadata": {
    "execution": {
     "iopub.execute_input": "2021-10-28T14:50:42.563642Z",
     "iopub.status.busy": "2021-10-28T14:50:42.562785Z",
     "iopub.status.idle": "2021-10-28T14:50:42.705108Z",
     "shell.execute_reply": "2021-10-28T14:50:42.704769Z",
     "shell.execute_reply.started": "2021-10-28T14:50:42.563551Z"
    },
    "tags": []
   },
   "outputs": [
    {
     "data": {
      "text/html": [
       "<pre>✔️ 6.71 ms (2021-10-28T10:50:42/2021-10-28T10:50:42)</pre>"
      ],
      "text/plain": [
       "<IPython.core.display.HTML object>"
      ]
     },
     "metadata": {},
     "output_type": "display_data"
    },
    {
     "data": {
      "text/plain": [
       "'Y3Al5O12'"
      ]
     },
     "execution_count": 18,
     "metadata": {},
     "output_type": "execute_result"
    }
   ],
   "source": [
    "cdef.host"
   ]
  },
  {
   "cell_type": "code",
   "execution_count": 19,
   "id": "53c67d5b-1475-433e-beff-dcabd53e7d78",
   "metadata": {
    "execution": {
     "iopub.execute_input": "2021-10-28T14:50:45.860528Z",
     "iopub.status.busy": "2021-10-28T14:50:45.860159Z",
     "iopub.status.idle": "2021-10-28T14:50:45.990120Z",
     "shell.execute_reply": "2021-10-28T14:50:45.989253Z",
     "shell.execute_reply.started": "2021-10-28T14:50:45.860489Z"
    },
    "tags": []
   },
   "outputs": [
    {
     "data": {
      "text/html": [
       "<pre>✔️ 4.92 ms (2021-10-28T10:50:45/2021-10-28T10:50:45)</pre>"
      ],
      "text/plain": [
       "<IPython.core.display.HTML object>"
      ]
     },
     "metadata": {},
     "output_type": "display_data"
    },
    {
     "data": {
      "text/plain": [
       "454.60338568141566"
      ]
     },
     "execution_count": 19,
     "metadata": {},
     "output_type": "execute_result"
    }
   ],
   "source": [
    "dE = (13200+8800.0) * UnitCon.con_factor('cm^{-1}','eV')\n",
    "1240/dE"
   ]
  },
  {
   "cell_type": "code",
   "execution_count": 20,
   "id": "705f3444-4563-4fe9-894d-d9ce22d4be5b",
   "metadata": {
    "execution": {
     "iopub.execute_input": "2021-10-28T14:51:18.029808Z",
     "iopub.status.busy": "2021-10-28T14:51:18.029194Z",
     "iopub.status.idle": "2021-10-28T14:51:18.320547Z",
     "shell.execute_reply": "2021-10-28T14:51:18.320099Z",
     "shell.execute_reply.started": "2021-10-28T14:51:18.029736Z"
    },
    "tags": []
   },
   "outputs": [
    {
     "data": {
      "text/html": [
       "<pre>✔️ 214 ms (2021-10-28T10:51:18/2021-10-28T10:51:18)</pre>"
      ],
      "text/plain": [
       "<IPython.core.display.HTML object>"
      ]
     },
     "metadata": {},
     "output_type": "display_data"
    },
    {
     "data": {
      "application/vnd.jupyter.widget-view+json": {
       "model_id": "5adb8f824c8b4772aed7d274621f2199",
       "version_major": 2,
       "version_minor": 0
      },
      "text/plain": [
       "Canvas(toolbar=Toolbar(toolitems=[('Home', 'Reset original view', 'home', 'home'), ('Back', 'Back to previous …"
      ]
     },
     "metadata": {},
     "output_type": "display_data"
    }
   ],
   "source": [
    "# splits = square_field_in_a_round_hole(cdef.splitter['matrices'][0], cdef.params).eigenvals()\n",
    "splits = {-8800.0:3, 13200.0:2}\n",
    "fig, ax = plt.subplots(nrows=1, ncols=1, figsize=(4,6))\n",
    "ax.plot([-1,0],[0,0])\n",
    "for e, mult in splits.items():\n",
    "    e = e*UnitCon.con_factor('cm^{-1}','eV') \n",
    "    for i in range(mult):\n",
    "        ax.plot([0,1,2],[0,e+i/50,e+i/50],'k-')\n",
    "ax.set_ylabel('$\\Delta$E / $cm^{-1}$')\n",
    "ax.set_title('$%s^{%d\\!\\!+}\\!\\!:\\!%s$' % (cdef.ion, cdef.charge_state,''.join([r'{%s}_{%d}' % (k,v) for k,v in complex_formula_parser(cdef.host)[0].items()])))\n",
    "ax.xaxis.set_visible(False)\n",
    "plt.tight_layout()\n",
    "plt.show()"
   ]
  },
  {
   "cell_type": "code",
   "execution_count": 27,
   "id": "99418e32-f58f-4b4a-bb31-98cb2683ee5c",
   "metadata": {
    "execution": {
     "iopub.execute_input": "2021-10-28T14:52:09.218327Z",
     "iopub.status.busy": "2021-10-28T14:52:09.217722Z",
     "iopub.status.idle": "2021-10-28T14:52:09.405030Z",
     "shell.execute_reply": "2021-10-28T14:52:09.404659Z",
     "shell.execute_reply.started": "2021-10-28T14:52:09.218255Z"
    },
    "tags": []
   },
   "outputs": [
    {
     "data": {
      "text/html": [
       "<pre>✔️ 18.3 ms (2021-10-28T10:52:09/2021-10-28T10:52:09)</pre>"
      ],
      "text/plain": [
       "<IPython.core.display.HTML object>"
      ]
     },
     "metadata": {},
     "output_type": "display_data"
    }
   ],
   "source": [
    "V4ion = Ion('V',4)\n",
    "V4ion.nist_data.loc[:,'Level (cm^{-1})'] = V4ion.nist_data['Level (eV)'] * UnitCon.con_factor('eV','cm^{-1}')"
   ]
  },
  {
   "cell_type": "code",
   "execution_count": 29,
   "id": "beaa6fc8-5413-46b1-a0dc-736ee5e01cef",
   "metadata": {
    "execution": {
     "iopub.execute_input": "2021-10-28T14:52:25.578030Z",
     "iopub.status.busy": "2021-10-28T14:52:25.577395Z",
     "iopub.status.idle": "2021-10-28T14:52:25.733859Z",
     "shell.execute_reply": "2021-10-28T14:52:25.733462Z",
     "shell.execute_reply.started": "2021-10-28T14:52:25.577955Z"
    },
    "tags": []
   },
   "outputs": [
    {
     "data": {
      "text/html": [
       "<pre>✔️ 8.87 ms (2021-10-28T10:52:25/2021-10-28T10:52:25)</pre>"
      ],
      "text/plain": [
       "<IPython.core.display.HTML object>"
      ]
     },
     "metadata": {},
     "output_type": "display_data"
    },
    {
     "data": {
      "text/plain": [
       "0          0.000000\n",
       "1        624.869951\n",
       "2     148143.354049\n",
       "3     206393.720573\n",
       "4     207660.002906\n",
       "          ...      \n",
       "66    496296.308675\n",
       "67    497556.146639\n",
       "68    500116.956840\n",
       "69    500501.683285\n",
       "70    526532.016519\n",
       "Name: Level (cm^{-1}), Length: 71, dtype: float64"
      ]
     },
     "execution_count": 29,
     "metadata": {},
     "output_type": "execute_result"
    }
   ],
   "source": [
    "V4ion.nist_data.loc[:,'Level (cm^{-1})']"
   ]
  },
  {
   "cell_type": "code",
   "execution_count": 30,
   "id": "9131689f-c155-4c1d-a8a5-148958538639",
   "metadata": {
    "execution": {
     "iopub.execute_input": "2021-10-28T14:52:40.936523Z",
     "iopub.status.busy": "2021-10-28T14:52:40.936147Z",
     "iopub.status.idle": "2021-10-28T14:52:41.091487Z",
     "shell.execute_reply": "2021-10-28T14:52:41.090937Z",
     "shell.execute_reply.started": "2021-10-28T14:52:40.936486Z"
    },
    "tags": []
   },
   "outputs": [
    {
     "data": {
      "text/html": [
       "<pre>✔️ 9.14 ms (2021-10-28T10:52:40/2021-10-28T10:52:40)</pre>"
      ],
      "text/plain": [
       "<IPython.core.display.HTML object>"
      ]
     },
     "metadata": {},
     "output_type": "display_data"
    },
    {
     "data": {
      "text/plain": [
       "[{B_{2,0}^r, B_{4,0}^r, B_{4,3}^i, B_{4,3}^r}]"
      ]
     },
     "execution_count": 30,
     "metadata": {},
     "output_type": "execute_result"
    }
   ],
   "source": [
    "cdef.splitter['free_parameters']"
   ]
  },
  {
   "cell_type": "code",
   "execution_count": 31,
   "id": "b8c00355-a0b4-41cc-9e58-55bb2b71bdb0",
   "metadata": {
    "execution": {
     "iopub.execute_input": "2021-10-28T14:52:42.373854Z",
     "iopub.status.busy": "2021-10-28T14:52:42.373150Z",
     "iopub.status.idle": "2021-10-28T14:52:42.522334Z",
     "shell.execute_reply": "2021-10-28T14:52:42.521909Z",
     "shell.execute_reply.started": "2021-10-28T14:52:42.373777Z"
    },
    "tags": []
   },
   "outputs": [
    {
     "data": {
      "text/html": [
       "<pre>✔️ 8.37 ms (2021-10-28T10:52:42/2021-10-28T10:52:42)</pre>"
      ],
      "text/plain": [
       "<IPython.core.display.HTML object>"
      ]
     },
     "metadata": {},
     "output_type": "display_data"
    },
    {
     "data": {
      "text/plain": [
       "{B_{2,0}, B_{4,0}, B_{4,3}^i, B_{4,3}^r}"
      ]
     },
     "execution_count": 31,
     "metadata": {},
     "output_type": "execute_result"
    }
   ],
   "source": [
    "cdef.splitter['matrices'][0].free_symbols"
   ]
  },
  {
   "cell_type": "code",
   "execution_count": null,
   "id": "551424c8-0a36-44ff-9efa-1c27bce23ce9",
   "metadata": {},
   "outputs": [],
   "source": []
  }
 ],
 "metadata": {
  "kernelspec": {
   "display_name": "qdef",
   "language": "python",
   "name": "qdef"
  },
  "language_info": {
   "codemirror_mode": {
    "name": "ipython",
    "version": 3
   },
   "file_extension": ".py",
   "mimetype": "text/x-python",
   "name": "python",
   "nbconvert_exporter": "python",
   "pygments_lexer": "ipython3",
   "version": "3.7.10"
  },
  "toc-autonumbering": true
 },
 "nbformat": 4,
 "nbformat_minor": 5
}
