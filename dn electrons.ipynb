{
 "cells": [
  {
   "cell_type": "markdown",
   "id": "2d4a266f-2863-49e2-b21c-c2e06b9e7e45",
   "metadata": {},
   "source": [
    "# All about $3d^1$, $4d^1$, $5d^1$, $3d^9$, $4d^9$, $5d^9$ transition-metal ions in crystals"
   ]
  },
  {
   "cell_type": "code",
   "execution_count": 1,
   "id": "9d68c35d-20c3-4957-936b-4a9579b2b7fe",
   "metadata": {
    "execution": {
     "iopub.execute_input": "2021-10-06T22:04:02.653909Z",
     "iopub.status.busy": "2021-10-06T22:04:02.653381Z",
     "iopub.status.idle": "2021-10-06T22:04:04.391710Z",
     "shell.execute_reply": "2021-10-06T22:04:04.391339Z",
     "shell.execute_reply.started": "2021-10-06T22:04:02.653789Z"
    },
    "tags": []
   },
   "outputs": [
    {
     "data": {
      "text/html": [
       "<pre>✔️ 1.67 s (2021-10-06T18:04:02/2021-10-06T18:04:04)</pre>"
      ],
      "text/plain": [
       "<IPython.core.display.HTML object>"
      ]
     },
     "metadata": {},
     "output_type": "display_data"
    },
    {
     "name": "stdout",
     "output_type": "stream",
     "text": [
      "Reloading /Users/juan/Google Drive/Zia Lab/Codebase/qdef/data/CPGs.pkl ...\n"
     ]
    }
   ],
   "source": [
    "%load_ext autoreload\n",
    "# provide cell timings\n",
    "%load_ext autotime\n",
    "# %autoreload 2\n",
    "import sympy as sp\n",
    "import numpy as np\n",
    "from scipy.special import sph_harm as Ynm_num\n",
    "# from sympy import poly, lambdify\n",
    "from IPython.display import display, Math\n",
    "# %config InlineBackend.figure_format='retina'\n",
    "%config Completer.use_jedi = False\n",
    "from qdef import *\n",
    "from itertools import product\n",
    "from sympy import I\n",
    "import ipywidgets as widgets\n",
    "from ipywidgets import interact, interactive, fixed, interact_manual\n",
    "from IPython.display import HTML, display, Math, Latex\n",
    "from matplotlib import pyplot as plt\n",
    "%matplotlib widget\n",
    "from pyperclip import copy as pypercopy"
   ]
  },
  {
   "cell_type": "code",
   "execution_count": 2,
   "id": "fc673cd4-3d39-4b07-a82d-e077d2763a84",
   "metadata": {
    "execution": {
     "iopub.execute_input": "2021-10-06T22:04:04.392786Z",
     "iopub.status.busy": "2021-10-06T22:04:04.392643Z",
     "iopub.status.idle": "2021-10-06T22:04:04.519305Z",
     "shell.execute_reply": "2021-10-06T22:04:04.518984Z",
     "shell.execute_reply.started": "2021-10-06T22:04:04.392773Z"
    },
    "tags": []
   },
   "outputs": [
    {
     "data": {
      "text/html": [
       "<pre>✔️ 2.47 ms (2021-10-06T18:04:04/2021-10-06T18:04:04)</pre>"
      ],
      "text/plain": [
       "<IPython.core.display.HTML object>"
      ]
     },
     "metadata": {},
     "output_type": "display_data"
    },
    {
     "data": {
      "text/plain": [
       "0.50061"
      ]
     },
     "execution_count": 2,
     "metadata": {},
     "output_type": "execute_result"
    }
   ],
   "source": [
    "HartreeFockData.radial_average('Fe',1,2)"
   ]
  },
  {
   "cell_type": "code",
   "execution_count": 3,
   "id": "a2f30ea2-738c-4214-a149-e1c6b85d47ae",
   "metadata": {
    "execution": {
     "iopub.execute_input": "2021-10-06T22:04:04.520597Z",
     "iopub.status.busy": "2021-10-06T22:04:04.520480Z",
     "iopub.status.idle": "2021-10-06T22:04:04.663471Z",
     "shell.execute_reply": "2021-10-06T22:04:04.663034Z",
     "shell.execute_reply.started": "2021-10-06T22:04:04.520577Z"
    },
    "tags": []
   },
   "outputs": [
    {
     "data": {
      "text/html": [
       "<pre>✔️ 2.79 ms (2021-10-06T18:04:04/2021-10-06T18:04:04)</pre>"
      ],
      "text/plain": [
       "<IPython.core.display.HTML object>"
      ]
     },
     "metadata": {},
     "output_type": "display_data"
    },
    {
     "data": {
      "text/plain": [
       "25.0"
      ]
     },
     "execution_count": 3,
     "metadata": {},
     "output_type": "execute_result"
    }
   ],
   "source": [
    "HartreeFockData.atom_size('Al',6)*UnitCon.con_factor('Å','pm')"
   ]
  },
  {
   "cell_type": "code",
   "execution_count": 8,
   "id": "9cb94567-a835-4a3c-a3e9-b64d2a26c4eb",
   "metadata": {
    "execution": {
     "iopub.execute_input": "2021-10-06T22:04:26.243291Z",
     "iopub.status.busy": "2021-10-06T22:04:26.242881Z",
     "iopub.status.idle": "2021-10-06T22:04:26.370332Z",
     "shell.execute_reply": "2021-10-06T22:04:26.369986Z",
     "shell.execute_reply.started": "2021-10-06T22:04:26.243250Z"
    },
    "tags": []
   },
   "outputs": [
    {
     "data": {
      "text/html": [
       "<pre>✔️ 5.19 ms (2021-10-06T18:04:26/2021-10-06T18:04:26)</pre>"
      ],
      "text/plain": [
       "<IPython.core.display.HTML object>"
      ]
     },
     "metadata": {},
     "output_type": "display_data"
    },
    {
     "data": {
      "text/plain": [
       "1000000000000.0"
      ]
     },
     "execution_count": 8,
     "metadata": {},
     "output_type": "execute_result"
    }
   ],
   "source": [
    "UnitCon.con_factor('THz','Hz')"
   ]
  },
  {
   "cell_type": "code",
   "execution_count": 22,
   "id": "51c5b6a9-6284-4b9a-97e0-7de2cc3d9336",
   "metadata": {
    "execution": {
     "iopub.execute_input": "2021-10-06T22:50:25.223394Z",
     "iopub.status.busy": "2021-10-06T22:50:25.222012Z",
     "iopub.status.idle": "2021-10-06T22:50:25.379265Z",
     "shell.execute_reply": "2021-10-06T22:50:25.378648Z",
     "shell.execute_reply.started": "2021-10-06T22:50:25.223315Z"
    }
   },
   "outputs": [
    {
     "data": {
      "text/html": [
       "<pre>✔️ 15.1 ms (2021-10-06T18:50:25/2021-10-06T18:50:25)</pre>"
      ],
      "text/plain": [
       "<IPython.core.display.HTML object>"
      ]
     },
     "metadata": {},
     "output_type": "display_data"
    }
   ],
   "source": [
    "x = 1"
   ]
  },
  {
   "cell_type": "code",
   "execution_count": 29,
   "id": "7a78cec8-2090-41c4-89b1-b7ad17221a57",
   "metadata": {
    "execution": {
     "iopub.execute_input": "2021-10-06T22:53:23.491580Z",
     "iopub.status.busy": "2021-10-06T22:53:23.489706Z",
     "iopub.status.idle": "2021-10-06T22:53:23.660392Z",
     "shell.execute_reply": "2021-10-06T22:53:23.659580Z",
     "shell.execute_reply.started": "2021-10-06T22:53:23.491519Z"
    },
    "tags": []
   },
   "outputs": [
    {
     "data": {
      "text/html": [
       "<pre>✔️ 10.3 ms (2021-10-06T18:53:23/2021-10-06T18:53:23)</pre>"
      ],
      "text/plain": [
       "<IPython.core.display.HTML object>"
      ]
     },
     "metadata": {},
     "output_type": "display_data"
    }
   ],
   "source": [
    "class number():\n",
    "    def __init__(self,value):\n",
    "        self.value = value\n",
    "    def convert(self,unit=2):\n",
    "        return self.value*unit\n",
    "class Con():\n",
    "    '''\n",
    "    Basis constants, all given in standard SI units.\n",
    "    c, π, ℏ, h, ε0, μ0\n",
    "    '''\n",
    "    c = number(299792458)\n",
    "    π = 3.14159265358\n",
    "    ℏ = 6.62607015e-34\n",
    "    h = ℏ*2*π\n",
    "    ε0 = 8.8541878128e-12\n",
    "    μ0 = 1.25663706212e-6"
   ]
  },
  {
   "cell_type": "code",
   "execution_count": 33,
   "id": "f34eb5b2-9f42-4ed2-ac6b-2259f329330d",
   "metadata": {
    "execution": {
     "iopub.execute_input": "2021-10-06T22:53:46.945714Z",
     "iopub.status.busy": "2021-10-06T22:53:46.945330Z",
     "iopub.status.idle": "2021-10-06T22:53:47.163845Z",
     "shell.execute_reply": "2021-10-06T22:53:47.163449Z",
     "shell.execute_reply.started": "2021-10-06T22:53:46.945676Z"
    },
    "tags": []
   },
   "outputs": [
    {
     "data": {
      "text/html": [
       "<pre>✔️ 3.8 ms (2021-10-06T18:53:46/2021-10-06T18:53:46)</pre>"
      ],
      "text/plain": [
       "<IPython.core.display.HTML object>"
      ]
     },
     "metadata": {},
     "output_type": "display_data"
    },
    {
     "data": {
      "text/plain": [
       "<__main__.number at 0x7faad91698d0>"
      ]
     },
     "execution_count": 33,
     "metadata": {},
     "output_type": "execute_result"
    }
   ],
   "source": [
    "Con.c"
   ]
  },
  {
   "cell_type": "markdown",
   "id": "4fd82d0c-dd9f-4f20-8ac0-5b073fb013fc",
   "metadata": {
    "tags": []
   },
   "source": [
    "## A single d-electron in a CF of arbitrary symmetry"
   ]
  },
  {
   "cell_type": "markdown",
   "id": "90dc18ac-6755-400d-9368-a8c5cf9b9ce5",
   "metadata": {},
   "source": [
    "```\n",
    "||| d^1 analysis pseudo-code |||\n",
    "\n",
    "given a specific point group, construct a model\n",
    "for the effect that a crystal field with this symmetry\n",
    "would have on the l=2 levels of a hydrogenic atom\n",
    "give the results in terms of the smallest set of\n",
    "parameters that the CF potential should have.\n",
    "\n",
    "Step 1: construct the symbolic expression for the CF\n",
    "limiting the expansion to the terms that would have non-zero\n",
    "matrix elements in the l=2 subspace.\n",
    "\n",
    "Step 2: find the matrix representation of this potential\n",
    "in the l=2 subspace\n",
    "\n",
    "Step 3: Find eigenvalues and eigenvectors.\n",
    "\n",
    "Step 4: Play around with the eigenvectors to form more convenient linear combos.\n",
    "\n",
    "HALT\n",
    "\n",
    "```"
   ]
  },
  {
   "cell_type": "markdown",
   "id": "a93bb903-7128-40c0-a9fd-c32b0191f808",
   "metadata": {
    "tags": []
   },
   "source": [
    "### Parsing data from Morrison's book & engineering the CrystalField class"
   ]
  },
  {
   "cell_type": "markdown",
   "id": "a601f7a8-4ebe-4e89-8b60-4be51b16c6b8",
   "metadata": {
    "tags": []
   },
   "source": [
    "#### Parsing some and making crystal fields"
   ]
  },
  {
   "cell_type": "code",
   "execution_count": 304,
   "id": "e333bfb6-81a3-4913-9cc0-e638c46ea432",
   "metadata": {
    "execution": {
     "iopub.execute_input": "2021-09-29T22:22:20.343973Z",
     "iopub.status.busy": "2021-09-29T22:22:20.342187Z",
     "iopub.status.idle": "2021-09-29T22:22:24.654272Z",
     "shell.execute_reply": "2021-09-29T22:22:24.653946Z",
     "shell.execute_reply.started": "2021-09-29T22:22:20.343703Z"
    },
    "tags": []
   },
   "outputs": [
    {
     "data": {
      "text/html": [
       "<pre>✔️ 4.26 s (2021-09-29T18:22:20/2021-09-29T18:22:24)</pre>"
      ],
      "text/plain": [
       "<IPython.core.display.HTML object>"
      ]
     },
     "metadata": {},
     "output_type": "display_data"
    }
   ],
   "source": [
    "# loader for the data in Morrison's book\n",
    "# this sheet is an export of the data on \n",
    "# a Google Spreadsheet \"Morrison Data\"\n",
    "morrison_sheets = pd.read_excel('/Users/juan/Downloads/Morrison.xlsx',None)"
   ]
  },
  {
   "cell_type": "code",
   "execution_count": 305,
   "id": "b28d738b-f1f1-4f65-a511-9659016969b2",
   "metadata": {
    "execution": {
     "iopub.execute_input": "2021-09-29T22:22:37.050355Z",
     "iopub.status.busy": "2021-09-29T22:22:37.049949Z",
     "iopub.status.idle": "2021-09-29T22:22:37.231764Z",
     "shell.execute_reply": "2021-09-29T22:22:37.231436Z",
     "shell.execute_reply.started": "2021-09-29T22:22:37.050316Z"
    },
    "tags": []
   },
   "outputs": [
    {
     "data": {
      "text/html": [
       "<pre>✔️ 2.85 ms (2021-09-29T18:22:37/2021-09-29T18:22:37)</pre>"
      ],
      "text/plain": [
       "<IPython.core.display.HTML object>"
      ]
     },
     "metadata": {},
     "output_type": "display_data"
    }
   ],
   "source": [
    "group_label_to_index = {gl:(1+CPGs.all_group_labels.index(gl)) for gl in CPGs.all_group_labels}\n",
    "index_to_group_label = {(1+CPGs.all_group_labels.index(gl)):gl for gl in CPGs.all_group_labels}"
   ]
  },
  {
   "cell_type": "code",
   "execution_count": 306,
   "id": "46c154d6-4e2f-4438-b8b5-fe366aaa9ddf",
   "metadata": {
    "execution": {
     "iopub.execute_input": "2021-09-29T22:22:39.278447Z",
     "iopub.status.busy": "2021-09-29T22:22:39.278100Z",
     "iopub.status.idle": "2021-09-29T22:22:39.437634Z",
     "shell.execute_reply": "2021-09-29T22:22:39.437319Z",
     "shell.execute_reply.started": "2021-09-29T22:22:39.278409Z"
    },
    "tags": []
   },
   "outputs": [
    {
     "data": {
      "text/html": [
       "<pre>✔️ 32.5 ms (2021-09-29T18:22:39/2021-09-29T18:22:39)</pre>"
      ],
      "text/plain": [
       "<IPython.core.display.HTML object>"
      ]
     },
     "metadata": {},
     "output_type": "display_data"
    },
    {
     "name": "stderr",
     "output_type": "stream",
     "text": [
      "/Users/juan/opt/anaconda3/envs/qdef/lib/python3.7/site-packages/ipykernel_launcher.py:10: SettingWithCopyWarning: \n",
      "A value is trying to be set on a copy of a slice from a DataFrame.\n",
      "Try using .loc[row_indexer,col_indexer] = value instead\n",
      "\n",
      "See the caveats in the documentation: https://pandas.pydata.org/pandas-docs/stable/user_guide/indexing.html#returning-a-view-versus-a-copy\n",
      "  # Remove the CWD from sys.path while we load stuff.\n",
      "/Users/juan/opt/anaconda3/envs/qdef/lib/python3.7/site-packages/ipykernel_launcher.py:12: SettingWithCopyWarning: \n",
      "A value is trying to be set on a copy of a slice from a DataFrame.\n",
      "Try using .loc[row_indexer,col_indexer] = value instead\n",
      "\n",
      "See the caveats in the documentation: https://pandas.pydata.org/pandas-docs/stable/user_guide/indexing.html#returning-a-view-versus-a-copy\n",
      "  if sys.path[0] == '':\n",
      "/Users/juan/opt/anaconda3/envs/qdef/lib/python3.7/site-packages/ipykernel_launcher.py:13: SettingWithCopyWarning: \n",
      "A value is trying to be set on a copy of a slice from a DataFrame.\n",
      "Try using .loc[row_indexer,col_indexer] = value instead\n",
      "\n",
      "See the caveats in the documentation: https://pandas.pydata.org/pandas-docs/stable/user_guide/indexing.html#returning-a-view-versus-a-copy\n",
      "  del sys.path[0]\n"
     ]
    }
   ],
   "source": [
    "morrison = {}\n",
    "# parse data for the free-ion model\n",
    "frows = ['nd^N','Ion','charge','F^2','F^4','ζ','α','Reference']\n",
    "morrison['Free-ion params'] = pd.concat([morrison_sheets['1.'+x][frows] for x in 'A B C'.split(' ')])\n",
    "morrison['Free-ion params']['charge'] = morrison['Free-ion params']['charge'].astype(int)\n",
    "# parse data for number of Bnm and Anm as a function of group number\n",
    "# How many Bnms or Anms for the d^N configuration\n",
    "# this will just be a dictionary\n",
    "BnmAnms = morrison_sheets['1.D'][['Group No.','n=1','n=2','n=3','n=4','n=5']]\n",
    "BnmAnms['Group Label'] = (BnmAnms['Group No.'].apply(lambda x: index_to_group_label[int(x)]))\n",
    "for i in [1,2,3,4,5]:\n",
    "    BnmAnms['n=%d' % i] = BnmAnms['n=%d' % i].astype(int)\n",
    "BnmAnms['Group No.'] = BnmAnms['Group No.'].astype(int)\n",
    "morrison['BnmAnms'] = BnmAnms\n",
    "# parse data for Hartree-Fock\n",
    "hartree = morrison_sheets['2']\n",
    "metadat = list(morrison_sheets['2'])[0]\n",
    "hartree = hartree[list(hartree)[1::]]\n",
    "hartree.attrs['metadata'] = metadat\n",
    "hartree['N'] = hartree['nd^N'].apply(lambda x: int(x.split('d')[-1]))\n",
    "hartree['n'] = hartree['nd^N'].apply(lambda x: int(x.split('d')[0]))\n",
    "hartree['charge'] = hartree['charge'].astype(int)\n",
    "hartree['Z'] = hartree['Z'].astype(int)\n",
    "hartree.drop(columns=['nd^N'], inplace=True)\n",
    "morrison['Hartree-Fock'] = hartree"
   ]
  },
  {
   "cell_type": "code",
   "execution_count": 5,
   "id": "ee613128-9c44-43d5-8848-1dfae617af2f",
   "metadata": {
    "execution": {
     "iopub.execute_input": "2021-09-29T15:03:20.936497Z",
     "iopub.status.busy": "2021-09-29T15:03:20.936087Z",
     "iopub.status.idle": "2021-09-29T15:03:21.075619Z",
     "shell.execute_reply": "2021-09-29T15:03:21.075224Z",
     "shell.execute_reply.started": "2021-09-29T15:03:20.936458Z"
    },
    "tags": []
   },
   "outputs": [
    {
     "data": {
      "text/html": [
       "<pre>✔️ 1.52 ms (2021-09-29T11:03:20/2021-09-29T11:03:20)</pre>"
      ],
      "text/plain": [
       "<IPython.core.display.HTML object>"
      ]
     },
     "metadata": {},
     "output_type": "display_data"
    }
   ],
   "source": [
    "# allBees = ['B%d%d.re' % (n,m) for (n,m) in product([1,2,3,4],[0,1,2,3,4])] + ['B%d%d.im' % (n,m) for (n,m) in product([1,2,3,4],[0,1,2,3,4])]"
   ]
  },
  {
   "cell_type": "code",
   "execution_count": 307,
   "id": "978121f3-a4f0-433f-9345-4c060894d6ed",
   "metadata": {
    "execution": {
     "iopub.execute_input": "2021-09-29T22:22:43.729507Z",
     "iopub.status.busy": "2021-09-29T22:22:43.729135Z",
     "iopub.status.idle": "2021-09-29T22:22:43.967805Z",
     "shell.execute_reply": "2021-09-29T22:22:43.967257Z",
     "shell.execute_reply.started": "2021-09-29T22:22:43.729466Z"
    },
    "tags": []
   },
   "outputs": [
    {
     "data": {
      "text/html": [
       "<pre>✔️ 5.09 ms (2021-09-29T18:22:43/2021-09-29T18:22:43)</pre>"
      ],
      "text/plain": [
       "<IPython.core.display.HTML object>"
      ]
     },
     "metadata": {},
     "output_type": "display_data"
    },
    {
     "name": "stdout",
     "output_type": "stream",
     "text": [
      "['Free-ion data: F^2, F^4, ζ, and α for nd^N ions (cm^-1) (Α) 3δ^ν', 'nd^N', 'Ion', 'charge', 'F^2', 'F^4', 'ζ', 'α', 'Reference']\n",
      "['Free-ion data: F^2, F^4, ζ, and α for nd^N ions (cm^-1) (B) 4d^N', 'nd^N', 'Ion', 'charge', 'F^2', 'F^4', 'ζ', 'α', 'Reference']\n",
      "['Free-ion data: F^2, F^4, ζ, and α for nd^N ions (cm^-1) (C) 5d^N', 'nd^N', 'Ion', 'charge', 'F^2', 'F^4', 'ζ', 'α', 'Reference']\n",
      "['Table 1D. Number of Bnm or Anm for the d^N configuration for 30 of 32 point groups', 'Group No.', 'n=1', 'n=2', 'n=3', 'n=4', 'n=5', 'Host', 'Site']\n"
     ]
    }
   ],
   "source": [
    "for x in 'A B C D'.split(' '):\n",
    "    print(list(morrison_sheets['1.'+x]))"
   ]
  },
  {
   "cell_type": "code",
   "execution_count": 7,
   "id": "e39ab776-6590-44e6-b07b-e5e0e41a1429",
   "metadata": {
    "execution": {
     "iopub.execute_input": "2021-09-29T15:03:25.147232Z",
     "iopub.status.busy": "2021-09-29T15:03:25.146795Z",
     "iopub.status.idle": "2021-09-29T15:03:25.354381Z",
     "shell.execute_reply": "2021-09-29T15:03:25.354042Z",
     "shell.execute_reply.started": "2021-09-29T15:03:25.147196Z"
    },
    "tags": []
   },
   "outputs": [
    {
     "data": {
      "text/html": [
       "<pre>✔️ 11.5 ms (2021-09-29T11:03:25/2021-09-29T11:03:25)</pre>"
      ],
      "text/plain": [
       "<IPython.core.display.HTML object>"
      ]
     },
     "metadata": {},
     "output_type": "display_data"
    }
   ],
   "source": [
    "allBees = []\n",
    "for n in [1,2,3,4,5,6]:\n",
    "    for m in range(0,n+1):\n",
    "        allBees.append('B%d%d.re' % (n,m))\n",
    "        allBees.append('B%d%d.im' % (n,m))\n",
    "t8p1v1 = ('\\n'.join(morrison_sheets['AngMom8.1and8.2']['8p1'][1:]))\n",
    "header = morrison_sheets['AngMom8.1and8.2']['8p1'][0]\n",
    "rows = []\n",
    "for idx, line in zip(range(3,16),t8p1v1.split('\\n')):\n",
    "    rows.append({what:(x=='x') for what,x in zip(header.split(),line)})\n",
    "full_params = {}\n",
    "for group_num, row in zip(range(3,16),rows):\n",
    "    extension = {bee:False for bee in allBees if bee not in row.keys()}\n",
    "    row.update(extension)\n",
    "    full_params[group_num] = dict(row)\n",
    "t8p2v1 = ('\\n'.join(morrison_sheets['AngMom8.1and8.2']['8p2'][1:-1]))\n",
    "header = morrison_sheets['AngMom8.1and8.2']['8p2'][0]\n",
    "rows = []\n",
    "for line in t8p2v1.split('\\n'):\n",
    "    rows.append({what:(x=='x') for what,x in zip(header.split(),line)})\n",
    "for group_num, row in zip(range(16,28),rows):\n",
    "    extension = {bee:False for bee in allBees if bee not in row.keys()}\n",
    "    row.update(extension)\n",
    "    full_params[group_num] = dict(row)\n",
    "rows = [\n",
    "    {'B32.re': True, 'B40.re': True, 'B44.re': True,'B60.re': True, 'B64.re': True},\n",
    "    {'B40.re': True, 'B44.re': True,'B60.re': True, 'B64.re': True},\n",
    "    {'B32.re': True, 'B40.re': True, 'B44.re': True,'B60.re': True, 'B64.re': True},\n",
    "    {'B40.re': True, 'B44.re': True,'B60.re': True, 'B64.re': True},\n",
    "    {'B32.re': True, 'B40.re': True, 'B44.re': True,'B60.re': True, 'B64.re': True}\n",
    "]\n",
    "for group_num, row in zip(range(28,33),rows):\n",
    "    extension = {bee:False for bee in allBees if bee not in row.keys()}\n",
    "    row.update(extension)\n",
    "    full_params[group_num] = dict(row)\n",
    "def fixer(s):\n",
    "    see, kind = s.split('.')\n",
    "    sign = ''\n",
    "    if '-' in see:\n",
    "        sign = '-'\n",
    "        see = see.replace('-','')\n",
    "    better = '%s_{%s,%s}^%s' % (see[0],see[1:][0],sign+see[1:][1],kind)\n",
    "    better = better.replace('im','i').replace('re','r')\n",
    "    return better\n",
    "full_params = {group_num : {sp.Symbol(fixer(k)): v for k,v in full_params[group_num].items()} for group_num in full_params}\n",
    "morrison['Bkq grid from tables 8.1-8.3 in_Morrison 1988'] = full_params"
   ]
  },
  {
   "cell_type": "code",
   "execution_count": 8,
   "id": "9429812a-aa1a-43a0-bdd6-1a3bcdfcb59e",
   "metadata": {
    "execution": {
     "iopub.execute_input": "2021-09-29T15:03:28.560608Z",
     "iopub.status.busy": "2021-09-29T15:03:28.559976Z",
     "iopub.status.idle": "2021-09-29T15:03:28.743791Z",
     "shell.execute_reply": "2021-09-29T15:03:28.743162Z",
     "shell.execute_reply.started": "2021-09-29T15:03:28.560533Z"
    },
    "tags": []
   },
   "outputs": [
    {
     "data": {
      "text/html": [
       "<pre>✔️ 1.51 ms (2021-09-29T11:03:28/2021-09-29T11:03:28)</pre>"
      ],
      "text/plain": [
       "<IPython.core.display.HTML object>"
      ]
     },
     "metadata": {},
     "output_type": "display_data"
    }
   ],
   "source": [
    "cf_components_keys = [k for k in morrison_sheets if 'crystal-field components' in list(morrison_sheets[k])[0].lower()]"
   ]
  },
  {
   "cell_type": "code",
   "execution_count": 9,
   "id": "97cb532c-77a7-4f3b-9882-854a0396059d",
   "metadata": {
    "execution": {
     "iopub.execute_input": "2021-09-29T15:03:29.448915Z",
     "iopub.status.busy": "2021-09-29T15:03:29.448580Z",
     "iopub.status.idle": "2021-09-29T15:03:29.591300Z",
     "shell.execute_reply": "2021-09-29T15:03:29.590935Z",
     "shell.execute_reply.started": "2021-09-29T15:03:29.448880Z"
    },
    "tags": []
   },
   "outputs": [
    {
     "data": {
      "text/html": [
       "<pre>✔️ 2.2 ms (2021-09-29T11:03:29/2021-09-29T11:03:29)</pre>"
      ],
      "text/plain": [
       "<IPython.core.display.HTML object>"
      ]
     },
     "metadata": {},
     "output_type": "display_data"
    }
   ],
   "source": [
    "crystallographic_sheets = {k.split('.')[0]: list(morrison_sheets[k])[0].split(' on')[-1] for k in morrison_sheets if 'Crystallographic Data' in list(morrison_sheets[k])[0]}"
   ]
  },
  {
   "cell_type": "code",
   "execution_count": 10,
   "id": "0c9f95df-3a27-4aa3-b307-dfd7e746c86c",
   "metadata": {
    "execution": {
     "iopub.execute_input": "2021-09-29T15:03:29.824240Z",
     "iopub.status.busy": "2021-09-29T15:03:29.823912Z",
     "iopub.status.idle": "2021-09-29T15:03:30.017405Z",
     "shell.execute_reply": "2021-09-29T15:03:30.016899Z",
     "shell.execute_reply.started": "2021-09-29T15:03:29.824206Z"
    },
    "tags": []
   },
   "outputs": [
    {
     "data": {
      "text/html": [
       "<pre>✔️ 3.54 ms (2021-09-29T11:03:29/2021-09-29T11:03:29)</pre>"
      ],
      "text/plain": [
       "<IPython.core.display.HTML object>"
      ]
     },
     "metadata": {},
     "output_type": "display_data"
    },
    {
     "data": {
      "text/plain": [
       "{'3': ' Y3Al5O12', '4': ' Two Forms of K2NaAlF6'}"
      ]
     },
     "execution_count": 10,
     "metadata": {},
     "output_type": "execute_result"
    }
   ],
   "source": [
    "crystallographic_sheets"
   ]
  },
  {
   "cell_type": "code",
   "execution_count": 11,
   "id": "a9211d2a-abb7-4042-a773-713a3cce4eb8",
   "metadata": {
    "execution": {
     "iopub.execute_input": "2021-09-29T15:03:36.977669Z",
     "iopub.status.busy": "2021-09-29T15:03:36.977287Z",
     "iopub.status.idle": "2021-09-29T15:03:37.171953Z",
     "shell.execute_reply": "2021-09-29T15:03:37.171435Z",
     "shell.execute_reply.started": "2021-09-29T15:03:36.977627Z"
    },
    "tags": []
   },
   "outputs": [
    {
     "data": {
      "text/html": [
       "<pre>✔️ 2.68 ms (2021-09-29T11:03:36/2021-09-29T11:03:36)</pre>"
      ],
      "text/plain": [
       "<IPython.core.display.HTML object>"
      ]
     },
     "metadata": {},
     "output_type": "display_data"
    },
    {
     "name": "stdout",
     "output_type": "stream",
     "text": [
      "3.2.1\n",
      "Al2 (S4) site\n",
      "Al2\n",
      "3.3.1\n",
      "Al1 (C3i) site (rotated so that z-axis is parallel to (111) crystallographic axis)\n",
      "Al1\n",
      "20.2.1\n",
      "Zn (T_d) site of cubic ZnS\n",
      "Zn\n",
      "20.2.2\n",
      "Zn (C3v) site of hexagonal ZnS\n",
      "Zn\n",
      "20.2.3\n",
      "Zn (C3v) site of hexagonal ZnS (Kisi and Elcombe, 1989)\n",
      "Zn\n"
     ]
    }
   ],
   "source": [
    "for cf_key in cf_components_keys:\n",
    "    print(cf_key)\n",
    "    component_data = morrison_sheets[cf_key]\n",
    "    pivot = list(component_data)[0]\n",
    "    for_what = (pivot.split('for ')[-1])\n",
    "    print(for_what)\n",
    "    subs = for_what.split(' ')[0]\n",
    "    print(subs)"
   ]
  },
  {
   "cell_type": "code",
   "execution_count": 12,
   "id": "ac0869f0-2977-4db4-9573-8faed3c95f6f",
   "metadata": {
    "execution": {
     "iopub.execute_input": "2021-09-29T15:03:39.110609Z",
     "iopub.status.busy": "2021-09-29T15:03:39.110198Z",
     "iopub.status.idle": "2021-09-29T15:03:39.312345Z",
     "shell.execute_reply": "2021-09-29T15:03:39.312020Z",
     "shell.execute_reply.started": "2021-09-29T15:03:39.110573Z"
    },
    "tags": []
   },
   "outputs": [
    {
     "data": {
      "text/html": [
       "<pre>✔️ 17.5 ms (2021-09-29T11:03:39/2021-09-29T11:03:39)</pre>"
      ],
      "text/plain": [
       "<IPython.core.display.HTML object>"
      ]
     },
     "metadata": {},
     "output_type": "display_data"
    }
   ],
   "source": [
    "special_reps = {}\n",
    "# in all cases \n",
    "generic_reps = {sp.Symbol(fixer('B%d%d.re'%(k,q))): (-sp.S(1))**q*sp.Symbol(fixer('B%d%d.re'%(k,-q))) for k in [1,2,3,4,5,6] for q in range(-k,0) }\n",
    "generic_reps.update({sp.Symbol(fixer('B%d%d.im'%(k,q))): -(-sp.S(1))**q*sp.Symbol(fixer('B%d%d.im'%(k,-q))) for k in [1,2,3,4,5,6] for q in range(-k,0) })\n",
    "# in some groups some params are related between one another\n",
    "special_reps = {i:generic_reps for i in range(1,28)}\n",
    "treps = {sp.Symbol(fixer('B44.re')): sp.sqrt(sp.S(5)/sp.S(14))*sp.Symbol(fixer('B40.re')),\n",
    "        sp.Symbol(fixer('B64.re')): -sp.sqrt(sp.S(7)/sp.S(2))*sp.Symbol(fixer('B60.re'))}\n",
    "treps.update(special_reps)\n",
    "special_reps[28] = treps\n",
    "special_reps[29] = treps\n",
    "special_reps[30] = treps\n",
    "special_reps[31] = treps\n",
    "special_reps[32] = treps\n",
    "cnm_reps = {sp.Symbol('C_{%d,%d}'%(k,q)): (sp.S(-1))**q*sp.conjugate(sp.Symbol('C_{%d,%d}'%(k,-q))) for k in [1,2,3,4,5,6] for q in range(-k,0) }\n",
    "morrison['special_reps'] = special_reps"
   ]
  },
  {
   "cell_type": "code",
   "execution_count": 13,
   "id": "b3f72b25-f37c-46bb-9232-1384bee0c81b",
   "metadata": {
    "execution": {
     "iopub.execute_input": "2021-09-29T15:03:42.905094Z",
     "iopub.status.busy": "2021-09-29T15:03:42.904560Z",
     "iopub.status.idle": "2021-09-29T15:03:52.266924Z",
     "shell.execute_reply": "2021-09-29T15:03:52.266582Z",
     "shell.execute_reply.started": "2021-09-29T15:03:42.905047Z"
    },
    "tags": []
   },
   "outputs": [
    {
     "data": {
      "text/html": [
       "<pre>✔️ 9.21 s (2021-09-29T11:03:42/2021-09-29T11:03:52)</pre>"
      ],
      "text/plain": [
       "<IPython.core.display.HTML object>"
      ]
     },
     "metadata": {},
     "output_type": "display_data"
    },
    {
     "name": "stdout",
     "output_type": "stream",
     "text": [
      "Too little symmetry, returning empty list.\n",
      "Too little symmetry, returning empty list.\n"
     ]
    }
   ],
   "source": [
    "crystal_fields = {}\n",
    "for i in range(1,33):\n",
    "    crystal_fields[i] = compute_crystal_field(i)"
   ]
  },
  {
   "cell_type": "code",
   "execution_count": 14,
   "id": "d70906cc-1f0d-44fe-a54e-41c67aec6f95",
   "metadata": {
    "execution": {
     "iopub.execute_input": "2021-09-29T15:03:55.536328Z",
     "iopub.status.busy": "2021-09-29T15:03:55.535944Z",
     "iopub.status.idle": "2021-09-29T15:03:55.694031Z",
     "shell.execute_reply": "2021-09-29T15:03:55.693628Z",
     "shell.execute_reply.started": "2021-09-29T15:03:55.536292Z"
    },
    "tags": []
   },
   "outputs": [
    {
     "data": {
      "text/html": [
       "<pre>✔️ 1.81 ms (2021-09-29T11:03:55/2021-09-29T11:03:55)</pre>"
      ],
      "text/plain": [
       "<IPython.core.display.HTML object>"
      ]
     },
     "metadata": {},
     "output_type": "display_data"
    }
   ],
   "source": [
    "# def compute_crystal_field_debug(group_num):\n",
    "#     '''\n",
    "#     This function returns a list with the possible forms that the\n",
    "#     crystal field has for the given group. This list has only one\n",
    "#     element up till group 27, after that the list has two  possi-\n",
    "#     bilities that express the possible sign relationships between\n",
    "#     the B4q and the B6q coefficients.\n",
    "#     For groups 1-3 an empty list is returned.\n",
    "#     The crystal field is a qet which has as keys tuples (k,q) and\n",
    "#     as values sympy symbols for the corresponding coefficients.\n",
    "#     '''\n",
    "#     full_params = morrison['Bkq grid from tables 8.1-8.3 in_Morrison 1988']\n",
    "#     if group_num < 3:\n",
    "#         print(\"Too little symmetry, returning empty list.\")\n",
    "#         return []\n",
    "#     if group_num <=27:\n",
    "#         cf = []\n",
    "#         for k,v in full_params[group_num].items():\n",
    "#             the_subs = {k:0 for k,v in full_params[group_num].items() if not v}\n",
    "#             print(the_subs)\n",
    "#             special_reps = morrison['special_reps'][group_num]\n",
    "#             acf = generic_cf.subs(special_reps).subs(the_subs)\n",
    "#             cf.append(acf)\n",
    "# #         cf = [generic_cf.subs(morrison['special_reps'][group_num]).subs({k:0 for k,v in full_params[group_num].items() if not v})]\n",
    "#     elif group_num == 28:\n",
    "#         cf_p = Qet({\n",
    "#                  (3,2): sp.Symbol('B_{3,2}^r'),\n",
    "#                  (3,-2): sp.Symbol('B_{3,2}^r'),\n",
    "#                  (4,0): sp.Symbol('B_{4,0}^r'),\n",
    "#                  (4,4): sp.sqrt(sp.S(5)/sp.S(14))*sp.Symbol('B_{4,0}^r'),\n",
    "#                  (4,-4): sp.sqrt(sp.S(5)/sp.S(14))*sp.Symbol('B_{4,0}^r'),\n",
    "#                  (6,0): sp.Symbol('B_{6,0}^r'),\n",
    "#                  (6,4): -sp.sqrt(sp.S(7)/sp.S(2))*sp.Symbol('B_{6,0}^r'),\n",
    "#                  (6,-4): -sp.sqrt(sp.S(7)/sp.S(2))*sp.Symbol('B_{6,0}^r'),\n",
    "#                  })\n",
    "#         cf_m = Qet({\n",
    "#                  (3,2): sp.Symbol('B_{3,2}^r'),\n",
    "#                  (3,-2): sp.Symbol('B_{3,2}^r'),\n",
    "#                  (4,0): sp.Symbol('B_{4,0}^r'),\n",
    "#                  (4,4): -sp.sqrt(sp.S(5)/sp.S(14))*sp.Symbol('B_{4,0}^r'),\n",
    "#                  (4,-4): -sp.sqrt(sp.S(5)/sp.S(14))*sp.Symbol('B_{4,0}^r'),\n",
    "#                  (6,0): sp.Symbol('B_{6,0}^r'),\n",
    "#                  (6,4): sp.sqrt(sp.S(7)/sp.S(2))*sp.Symbol('B_{6,0}^r'),\n",
    "#                  (6,-4): sp.sqrt(sp.S(7)/sp.S(2))*sp.Symbol('B_{6,0}^r'),\n",
    "#                  })\n",
    "#         cf = [cf_p, cf_m]\n",
    "#     elif group_num == 29:\n",
    "#         cf_p = Qet({\n",
    "#                  (4,0): sp.Symbol('B_{4,0}^r'),\n",
    "#                  (4,4): sp.sqrt(sp.S(5)/sp.S(14))*sp.Symbol('B_{4,0}^r'),\n",
    "#                  (4,-4): sp.sqrt(sp.S(5)/sp.S(14))*sp.Symbol('B_{4,0}^r'),\n",
    "#                  (6,0): sp.Symbol('B_{6,0}^r'),\n",
    "#                  (6,4): -sp.sqrt(sp.S(7)/sp.S(2))*sp.Symbol('B_{6,0}^r'),\n",
    "#                  (6,-4): -sp.sqrt(sp.S(7)/sp.S(2))*sp.Symbol('B_{6,0}^r'),\n",
    "#                  })\n",
    "#         cf_m = Qet({\n",
    "#                  (4,0): sp.Symbol('B_{4,0}^r'),\n",
    "#                  (4,4): -sp.sqrt(sp.S(5)/sp.S(14))*sp.Symbol('B_{4,0}^r'),\n",
    "#                  (4,-4): -sp.sqrt(sp.S(5)/sp.S(14))*sp.Symbol('B_{4,0}^r'),\n",
    "#                  (6,0): sp.Symbol('B_{6,0}^r'),\n",
    "#                  (6,4): sp.sqrt(sp.S(7)/sp.S(2))*sp.Symbol('B_{6,0}^r'),\n",
    "#                  (6,-4): sp.sqrt(sp.S(7)/sp.S(2))*sp.Symbol('B_{6,0}^r'),\n",
    "#                  })\n",
    "#         cf = [cf_p, cf_m]\n",
    "#     elif group_num == 30:\n",
    "#         cf = compute_crystal_field(29)\n",
    "#     elif group_num == 31:\n",
    "#         cf = compute_crystal_field(28)\n",
    "#     elif group_num == 32:\n",
    "#         cf = compute_crystal_field(30)\n",
    "#     return cf"
   ]
  },
  {
   "cell_type": "code",
   "execution_count": 44,
   "id": "5b61b71e-359b-400d-8582-37caf857314e",
   "metadata": {
    "execution": {
     "iopub.execute_input": "2021-09-29T14:59:29.937540Z",
     "iopub.status.busy": "2021-09-29T14:59:29.937198Z",
     "iopub.status.idle": "2021-09-29T14:59:30.097925Z",
     "shell.execute_reply": "2021-09-29T14:59:30.097596Z",
     "shell.execute_reply.started": "2021-09-29T14:59:29.937504Z"
    }
   },
   "outputs": [
    {
     "data": {
      "text/html": [
       "<pre>✔️ 2.27 ms (2021-09-29T10:59:29/2021-09-29T10:59:29)</pre>"
      ],
      "text/plain": [
       "<IPython.core.display.HTML object>"
      ]
     },
     "metadata": {},
     "output_type": "display_data"
    }
   ],
   "source": [
    "full_params = morrison['Bkq grid from tables 8.1-8.3 in_Morrison 1988']"
   ]
  },
  {
   "cell_type": "code",
   "execution_count": 15,
   "id": "ff8d42a5-9d85-47df-b355-2c4f8d24b728",
   "metadata": {
    "execution": {
     "iopub.execute_input": "2021-09-29T15:04:06.966213Z",
     "iopub.status.busy": "2021-09-29T15:04:06.965845Z",
     "iopub.status.idle": "2021-09-29T15:04:07.152272Z",
     "shell.execute_reply": "2021-09-29T15:04:07.151897Z",
     "shell.execute_reply.started": "2021-09-29T15:04:06.966177Z"
    },
    "tags": []
   },
   "outputs": [
    {
     "data": {
      "text/html": [
       "<pre>✔️ 1.95 ms (2021-09-29T11:04:06/2021-09-29T11:04:06)</pre>"
      ],
      "text/plain": [
       "<IPython.core.display.HTML object>"
      ]
     },
     "metadata": {},
     "output_type": "display_data"
    }
   ],
   "source": [
    "# this bit of code is necessary to make a raw (just dictionaries) of the\n",
    "# crystal fields\n",
    "# its a bit awkward\n",
    "crystal_fields_raw = {}\n",
    "for k in crystal_fields:\n",
    "    if k in [1,2]:\n",
    "        crystal_fields_raw[k] = []\n",
    "    else:\n",
    "        crystal_fields_raw[k] = [q.dict for q in crystal_fields[k]]\n",
    "morrison['crystal_fields_raw'] = crystal_fields_raw       "
   ]
  },
  {
   "cell_type": "code",
   "execution_count": 17,
   "id": "e87a6879-f485-41c8-bacd-a737a34fd898",
   "metadata": {
    "execution": {
     "iopub.execute_input": "2021-09-29T15:04:12.811227Z",
     "iopub.status.busy": "2021-09-29T15:04:12.810772Z",
     "iopub.status.idle": "2021-09-29T15:04:12.942882Z",
     "shell.execute_reply": "2021-09-29T15:04:12.942468Z",
     "shell.execute_reply.started": "2021-09-29T15:04:12.811185Z"
    },
    "tags": []
   },
   "outputs": [
    {
     "data": {
      "text/html": [
       "<pre>✔️ 11.4 ms (2021-09-29T11:04:12/2021-09-29T11:04:12)</pre>"
      ],
      "text/plain": [
       "<IPython.core.display.HTML object>"
      ]
     },
     "metadata": {},
     "output_type": "display_data"
    }
   ],
   "source": [
    "pickle.dump(morrison,open('/Users/juan/Google Drive/Zia Lab/Codebase/qdef/data/morrison.pkl','wb'))"
   ]
  },
  {
   "cell_type": "code",
   "execution_count": 87,
   "id": "7f79a018-71e2-406d-b095-50432cdf2f11",
   "metadata": {
    "execution": {
     "iopub.execute_input": "2021-10-01T15:10:17.740540Z",
     "iopub.status.busy": "2021-10-01T15:10:17.740141Z",
     "iopub.status.idle": "2021-10-01T15:10:17.913273Z",
     "shell.execute_reply": "2021-10-01T15:10:17.912827Z",
     "shell.execute_reply.started": "2021-10-01T15:10:17.740501Z"
    },
    "tags": []
   },
   "outputs": [
    {
     "data": {
      "text/html": [
       "<pre>✔️ 1.78 ms (2021-10-01T11:10:17/2021-10-01T11:10:17)</pre>"
      ],
      "text/plain": [
       "<IPython.core.display.HTML object>"
      ]
     },
     "metadata": {},
     "output_type": "display_data"
    }
   ],
   "source": [
    "def irtransform(eigenbasis, l, group_num):\n",
    "    # given a basis eigenbasis for a subspace for a fixed value of l\n",
    "    # and the index group_num for a point group\n",
    "    # return a dictionary whose keys are the \n",
    "    # irreducible representation of the group\n",
    "    # and whose values are dictionaries whose\n",
    "    # keys are labels for group basis vectors\n",
    "    # and whose values are linear combinations\n",
    "    # of the elements in lbasis\n",
    "    # the lbasis is as the set of coefficients\n",
    "    # for the ordered basis provided by mbasis(l)\n",
    "    group = CPGs.groups[group_num]"
   ]
  },
  {
   "cell_type": "code",
   "execution_count": 101,
   "id": "5995a113-c067-4e03-afa0-e37234ff04a7",
   "metadata": {
    "execution": {
     "iopub.execute_input": "2021-10-01T15:15:46.301103Z",
     "iopub.status.busy": "2021-10-01T15:15:46.299793Z",
     "iopub.status.idle": "2021-10-01T15:15:46.494854Z",
     "shell.execute_reply": "2021-10-01T15:15:46.494360Z",
     "shell.execute_reply.started": "2021-10-01T15:15:46.301013Z"
    },
    "tags": []
   },
   "outputs": [
    {
     "data": {
      "text/html": [
       "<pre>✔️ 15.6 ms (2021-10-01T11:15:46/2021-10-01T11:15:46)</pre>"
      ],
      "text/plain": [
       "<IPython.core.display.HTML object>"
      ]
     },
     "metadata": {},
     "output_type": "display_data"
    }
   ],
   "source": [
    "def fromvectoqet(orderedbasis,coeffvec):\n",
    "    '''\n",
    "    Given a vector of coefficients and \n",
    "    its corresponding ordered basis,\n",
    "    return what would be the corresponding\n",
    "    Qet.\n",
    "    '''\n",
    "    return Qet({ovec: coeff for ovec, coeff in zip(orderedbasis, coeffvec)})"
   ]
  },
  {
   "cell_type": "code",
   "execution_count": 91,
   "id": "a0f3521a-6841-4f3a-9fd6-3b3dfca155f0",
   "metadata": {
    "execution": {
     "iopub.execute_input": "2021-10-01T15:10:42.674518Z",
     "iopub.status.busy": "2021-10-01T15:10:42.674148Z",
     "iopub.status.idle": "2021-10-01T15:10:42.853074Z",
     "shell.execute_reply": "2021-10-01T15:10:42.852647Z",
     "shell.execute_reply.started": "2021-10-01T15:10:42.674480Z"
    },
    "tags": []
   },
   "outputs": [
    {
     "data": {
      "text/html": [
       "<pre>✔️ 1.1 ms (2021-10-01T11:10:42/2021-10-01T11:10:42)</pre>"
      ],
      "text/plain": [
       "<IPython.core.display.HTML object>"
      ]
     },
     "metadata": {},
     "output_type": "display_data"
    }
   ],
   "source": [
    "eigenbasis = eigensys[1][1][2]"
   ]
  },
  {
   "cell_type": "code",
   "execution_count": 100,
   "id": "82a8d34d-da53-4fe5-822c-c2c907de0078",
   "metadata": {
    "execution": {
     "iopub.execute_input": "2021-10-01T15:14:52.903479Z",
     "iopub.status.busy": "2021-10-01T15:14:52.903063Z",
     "iopub.status.idle": "2021-10-01T15:14:53.049549Z",
     "shell.execute_reply": "2021-10-01T15:14:53.049133Z",
     "shell.execute_reply.started": "2021-10-01T15:14:52.903436Z"
    },
    "tags": []
   },
   "outputs": [
    {
     "data": {
      "text/html": [
       "<pre>✔️ 3.94 ms (2021-10-01T11:14:52/2021-10-01T11:14:52)</pre>"
      ],
      "text/plain": [
       "<IPython.core.display.HTML object>"
      ]
     },
     "metadata": {},
     "output_type": "display_data"
    },
    {
     "data": {
      "text/plain": [
       "Qet({(2, -2): -1, (2, 2): 1})"
      ]
     },
     "execution_count": 100,
     "metadata": {},
     "output_type": "execute_result"
    }
   ],
   "source": [
    "fromvectoqet(mbasis(2,True),eigenbasis[1])"
   ]
  },
  {
   "cell_type": "code",
   "execution_count": 75,
   "id": "94a818f2-94c2-43c8-b095-2d4a612dfc7c",
   "metadata": {
    "execution": {
     "iopub.execute_input": "2021-10-01T15:04:52.307837Z",
     "iopub.status.busy": "2021-10-01T15:04:52.307456Z",
     "iopub.status.idle": "2021-10-01T15:04:52.469648Z",
     "shell.execute_reply": "2021-10-01T15:04:52.469323Z",
     "shell.execute_reply.started": "2021-10-01T15:04:52.307798Z"
    },
    "tags": []
   },
   "outputs": [
    {
     "data": {
      "text/html": [
       "<pre>✔️ 4.06 ms (2021-10-01T11:04:52/2021-10-01T11:04:52)</pre>"
      ],
      "text/plain": [
       "<IPython.core.display.HTML object>"
      ]
     },
     "metadata": {},
     "output_type": "display_data"
    }
   ],
   "source": [
    "def eigen_latex(eigensys, l, normalized=False):\n",
    "    eigen_chunks = []\n",
    "    mbase = mbasis(l)\n",
    "    for eigen_chunk in eigensys:\n",
    "        eigenval_latex = sp.latex(Bsimple(eigen_chunk[0]))\n",
    "        if normalized:\n",
    "            eigenvecs_latex = ', '.join(([sp.latex((mbase * eigenvec.normalized())[0]) for eigenvec in eigen_chunk[2]]))\n",
    "        else:\n",
    "            eigenvecs_latex = ', '.join(([sp.latex((mbase * eigenvec)[0]) for eigenvec in eigen_chunk[2]]))\n",
    "        eigen_chunks.append('%s: \\{{%s}\\}' % (eigenval_latex, eigenvecs_latex))\n",
    "    eigen_final = '\\]\\\\\\\\ \\n\\['.join(eigen_chunks)\n",
    "    eigen_final = '\\[' + eigen_final + '\\]'\n",
    "    return eigen_final"
   ]
  },
  {
   "cell_type": "code",
   "execution_count": 99,
   "id": "5f43b690-67e4-4010-ab6d-26dae31f61e3",
   "metadata": {
    "execution": {
     "iopub.execute_input": "2021-10-01T15:14:42.535710Z",
     "iopub.status.busy": "2021-10-01T15:14:42.535289Z",
     "iopub.status.idle": "2021-10-01T15:14:42.699528Z",
     "shell.execute_reply": "2021-10-01T15:14:42.699092Z",
     "shell.execute_reply.started": "2021-10-01T15:14:42.535664Z"
    },
    "tags": []
   },
   "outputs": [
    {
     "data": {
      "text/html": [
       "<pre>✔️ 1.62 ms (2021-10-01T11:14:42/2021-10-01T11:14:42)</pre>"
      ],
      "text/plain": [
       "<IPython.core.display.HTML object>"
      ]
     },
     "metadata": {},
     "output_type": "display_data"
    }
   ],
   "source": [
    "def mbasis(l, astuples=False):\n",
    "    '''\n",
    "    Return a row matrix with symbols corresponding to the kets\n",
    "    that span the angular momentum space for a given value of l.\n",
    "    '''\n",
    "    if astuples:\n",
    "        return sp.Matrix([[(l,ml) for ml in range(-l,l+1)]])\n",
    "    else:\n",
    "        return sp.Matrix([[sp.Symbol('|%d,%d\\\\rangle' % (l,ml)) for ml in range(-l,l+1)]])"
   ]
  },
  {
   "cell_type": "code",
   "execution_count": 77,
   "id": "4e836e0b-7f11-4812-9946-48d0669c4458",
   "metadata": {
    "execution": {
     "iopub.execute_input": "2021-10-01T15:04:56.717708Z",
     "iopub.status.busy": "2021-10-01T15:04:56.717309Z",
     "iopub.status.idle": "2021-10-01T15:05:07.835622Z",
     "shell.execute_reply": "2021-10-01T15:05:07.835304Z",
     "shell.execute_reply.started": "2021-10-01T15:04:56.717665Z"
    },
    "tags": []
   },
   "outputs": [
    {
     "data": {
      "text/html": [
       "<pre>✔️ 10.9 s (2021-10-01T11:04:56/2021-10-01T11:05:07)</pre>"
      ],
      "text/plain": [
       "<IPython.core.display.HTML object>"
      ]
     },
     "metadata": {},
     "output_type": "display_data"
    },
    {
     "name": "stdout",
     "output_type": "stream",
     "text": [
      "1,2,3,Symbolic diagonalization known to fail.\n",
      "4,Symbolic diagonalization known to fail.\n",
      "5,Symbolic diagonalization known to fail.\n",
      "6,Symbolic diagonalization known to fail.\n",
      "7,Symbolic diagonalization known to fail.\n",
      "8,Symbolic diagonalization known to fail.\n",
      "9,10,11,12,13,14,15,16,17,18,19,20,21,22,23,24,25,26,27,28,29,30,31,32,"
     ]
    }
   ],
   "source": [
    "diagonalley = {}\n",
    "l = 2\n",
    "for group_num in range(1,33):\n",
    "    print(group_num, end=',')\n",
    "    cf = CrystalField(group_num)\n",
    "    cf.matrix_rep_symb(l)\n",
    "    if group_num in range(3,9):\n",
    "        print(\"Symbolic diagonalization known to fail.\")\n",
    "        eigensys = []\n",
    "    else:\n",
    "        try:\n",
    "            eigensys = cf.splitter(l)\n",
    "        except:\n",
    "            print(\"Failed in symbolic diagonalization.\")\n",
    "            eigensys = []\n",
    "    summa = {}\n",
    "    summa['simple_hams'] = cf.simplified_ham\n",
    "    summa['simple_hams_latex'] = list(map(sp.latex,cf.simplified_ham))\n",
    "    summa['matrices'] = cf.matrix_rep_symb(l)\n",
    "    summa['splitting.latex'] = sp.latex(l_splitter(group_num, l).as_symbol_sum())\n",
    "    summa['simple_matrices'] = [Bsimple(mat) for mat in cf.matrix_rep_symb(l)]\n",
    "    summa['simple_matrices.latex'] = [sp.latex(smat) for smat in summa['simple_matrices']]\n",
    "    summa['free_parameters'] = [mat.free_symbols for mat in summa['matrices']]\n",
    "    summa['simple_free_parameters'] = [mat.free_symbols for mat in summa['simple_matrices']]\n",
    "    summa['simple_free_parameters.latex'] = list(map(sp.latex,summa['simple_free_parameters']))\n",
    "    summa['eigen_system'] = eigensys\n",
    "    summa['eigen_latex'] = [eigen_latex(esys, l) for esys in eigensys]\n",
    "    summa['group_num'] = group_num\n",
    "    summa['group_symb'] = CPGs.groups[group_num].label\n",
    "    diagonalley[group_num] = summa\n",
    "    "
   ]
  },
  {
   "cell_type": "code",
   "execution_count": 113,
   "id": "1607b675-2b78-4e36-be2d-a45bb80fbdd0",
   "metadata": {
    "execution": {
     "iopub.execute_input": "2021-09-29T18:33:51.622902Z",
     "iopub.status.busy": "2021-09-29T18:33:51.621684Z",
     "iopub.status.idle": "2021-09-29T18:33:51.762440Z",
     "shell.execute_reply": "2021-09-29T18:33:51.761903Z",
     "shell.execute_reply.started": "2021-09-29T18:33:51.622836Z"
    },
    "tags": []
   },
   "outputs": [
    {
     "data": {
      "text/html": [
       "<pre>✔️ 17.5 ms (2021-09-29T14:33:51/2021-09-29T14:33:51)</pre>"
      ],
      "text/plain": [
       "<IPython.core.display.HTML object>"
      ]
     },
     "metadata": {},
     "output_type": "display_data"
    }
   ],
   "source": [
    "selector = {'simple_matrices':'matrices', 'simple_free_parameters':'simple_free_parameters','free_parameters':'free_parameters','eigen_system':'eigen_system'}\n",
    "crystal_pickle = {i : {selector[s]: diagonalley[i][s]  for s in selector} for i in diagonalley}\n",
    "pickle.dump(crystal_pickle, open('/Users/juan/Google Drive/Zia Lab/Log/Data/crystal_splits.pkl','wb'))"
   ]
  },
  {
   "cell_type": "code",
   "execution_count": 108,
   "id": "c392f6fe-04dd-487f-b4d6-ce76f25e282f",
   "metadata": {
    "execution": {
     "iopub.execute_input": "2021-09-29T18:25:20.057185Z",
     "iopub.status.busy": "2021-09-29T18:25:20.056808Z",
     "iopub.status.idle": "2021-09-29T18:25:20.208820Z",
     "shell.execute_reply": "2021-09-29T18:25:20.208464Z",
     "shell.execute_reply.started": "2021-09-29T18:25:20.057148Z"
    },
    "tags": []
   },
   "outputs": [
    {
     "data": {
      "text/html": [
       "<pre>✔️ 8.77 ms (2021-09-29T14:25:20/2021-09-29T14:25:20)</pre>"
      ],
      "text/plain": [
       "<IPython.core.display.HTML object>"
      ]
     },
     "metadata": {},
     "output_type": "display_data"
    },
    {
     "data": {
      "text/plain": [
       "48049"
      ]
     },
     "execution_count": 108,
     "metadata": {},
     "output_type": "execute_result"
    }
   ],
   "source": [
    "templates = (\n",
    "{'header': r'''{{\\vspace{{0.5cm}}\n",
    "\\Large{{------------ ${group_symb}$ ({group_num}) ------------}}}}'''+'\\\\\\\\ \\n',\n",
    "'body0':''' \\\\vspace{{0.5cm}}\n",
    "\n",
    "$V_{{CF}} = {simple_ham}$ \\\\\\\\\n",
    "\n",
    "\\[V_{{CF}}^{{l=2}}={matrix_latex}\\]\n",
    "\n",
    "\\\\vspace{{0.25cm}}\n",
    "${splitting_latex}$ \\\\\\\\\n",
    "\\\\vspace{{0.5cm}}\n",
    "Free-parameters for d-electrons: ${simple_free_parameters}$ \\\\\\\\\n",
    "\\\\vspace{{0.5cm}}\n",
    "Eigenvalues and eigenvectors:\n",
    "\n",
    "{eigen_latex} \\n\n",
    "\\\\vspace{{0.25cm}}\n",
    "''',\n",
    "'body1':''' \\\\vspace{{0.5cm}}\n",
    "$V_{{CF}} = {simple_ham}$ \\\\\\\\\n",
    "\\[V_{{CF}}^{{l=2}}={matrix_latex}\\]\n",
    "\n",
    "${splitting_latex}$ \\\\\\\\\n",
    "\\\\vspace{{0.5cm}}\n",
    "Free-parameters for d-electrons: ${simple_free_parameters}$ \\\\\\\\\n",
    "\\\\vspace{{0.25cm}}\n",
    "'''})\n",
    "full_latex = []\n",
    "double_col_entries = [6,21]\n",
    "double_col_exits = [15,32]\n",
    "for group_num in diagonalley:\n",
    "    summary = diagonalley[group_num]\n",
    "    latex_output = [templates['header'].format(**summary)]\n",
    "    if len(summary['eigen_latex']) > 0:\n",
    "        for simple_ham, mat_lat, free_params, eigen_tex in zip(summary['simple_hams_latex'],\n",
    "                                                   summary['simple_matrices.latex'],\n",
    "                                                   summary['simple_free_parameters.latex'],\n",
    "                                                   summary['eigen_latex']):\n",
    "            out = templates['body0'].format(**{'simple_ham': simple_ham,\n",
    "                         'simple_free_parameters': free_params, \n",
    "                         'matrix_latex': mat_lat,\n",
    "                         'eigen_latex': eigen_tex,\n",
    "                         'splitting_latex': summary['splitting.latex'].replace('+','\\\\oplus')})\n",
    "            latex_output.append(out)\n",
    "    else:\n",
    "        for simple_ham, mat_lat, free_params, splittex in zip(summary['simple_hams_latex'],\n",
    "                                                    summary['simple_matrices.latex'],\n",
    "                                                    summary['simple_free_parameters.latex'],\n",
    "                                                    summary['splitting.latex']):\n",
    "            out = templates['body1'].format(**{'simple_ham': simple_ham,\n",
    "                         'simple_free_parameters': free_params, \n",
    "                         'matrix_latex': mat_lat,\n",
    "                         'splitting_latex': summary['splitting.latex'].replace('+','\\\\oplus')})\n",
    "\n",
    "            latex_output.append(out)\n",
    "    final_output = '\\\\begin{center}\\n\\n%s\\n\\\\end{center}\\n \\\\hrule \\n' % (' '.join(latex_output))\n",
    "    if group_num in double_col_entries:\n",
    "        final_output = '\\n\\\\begin{multicols}{2}\\n' + final_output\n",
    "    if group_num in double_col_exits:\n",
    "        final_output = final_output + '\\n\\\\end{multicols}\\n'\n",
    "    full_latex.append(final_output)\n",
    "final_latex = '\\n'.join(full_latex)\n",
    "# pyperclip.copy(final_latex)\n",
    "fname = '/Users/juan/Google Drive/Zia Lab/Theoretical Division/1delectron.tex'\n",
    "open(fname,'w').write(final_latex)"
   ]
  },
  {
   "cell_type": "code",
   "execution_count": 432,
   "id": "22b065f1-c149-4f2e-b028-d37dc97d8789",
   "metadata": {
    "execution": {
     "iopub.execute_input": "2021-09-26T16:10:09.754101Z",
     "iopub.status.busy": "2021-09-26T16:10:09.753691Z",
     "iopub.status.idle": "2021-09-26T16:10:09.969694Z",
     "shell.execute_reply": "2021-09-26T16:10:09.969312Z",
     "shell.execute_reply.started": "2021-09-26T16:10:09.754051Z"
    },
    "tags": []
   },
   "outputs": [
    {
     "data": {
      "text/html": [
       "<pre>✔️ 1.07 ms (2021-09-26T12:10:09/2021-09-26T12:10:09)</pre>"
      ],
      "text/plain": [
       "<IPython.core.display.HTML object>"
      ]
     },
     "metadata": {},
     "output_type": "display_data"
    }
   ],
   "source": [
    "# latex_printout = {}\n",
    "# for group_num in diagonalley:\n",
    "#     this_chunk = diagonalley[group_num]\n",
    "#     group_label = CPGs.groups[group_num].label\n",
    "#     matrix_latex = []\n",
    "#     for matrix in this_chunk['matrices']:\n",
    "#         matrix_latex.append(sp.latex(matrix))\n",
    "#     matrix_latex = '\\n'.join(matrix_latex)"
   ]
  },
  {
   "cell_type": "markdown",
   "id": "9444bee8-c928-4ef8-b2a1-23d63e06f8ef",
   "metadata": {
    "tags": []
   },
   "source": [
    "#### Parsing index"
   ]
  },
  {
   "cell_type": "code",
   "execution_count": 310,
   "id": "d7d172d7-1304-4e4b-8333-b8ee6f87327b",
   "metadata": {
    "execution": {
     "iopub.execute_input": "2021-09-29T22:24:38.424480Z",
     "iopub.status.busy": "2021-09-29T22:24:38.423394Z",
     "iopub.status.idle": "2021-09-29T22:24:38.649143Z",
     "shell.execute_reply": "2021-09-29T22:24:38.648685Z",
     "shell.execute_reply.started": "2021-09-29T22:24:38.424413Z"
    },
    "tags": []
   },
   "outputs": [
    {
     "data": {
      "text/html": [
       "<pre>✔️ 15.6 ms (2021-09-29T18:24:38/2021-09-29T18:24:38)</pre>"
      ],
      "text/plain": [
       "<IPython.core.display.HTML object>"
      ]
     },
     "metadata": {},
     "output_type": "display_data"
    }
   ],
   "source": [
    "import re"
   ]
  },
  {
   "cell_type": "code",
   "execution_count": 355,
   "id": "ca263487-ce20-4e34-b77d-712424613aae",
   "metadata": {
    "execution": {
     "iopub.execute_input": "2021-09-29T22:48:19.746849Z",
     "iopub.status.busy": "2021-09-29T22:48:19.746462Z",
     "iopub.status.idle": "2021-09-29T22:48:19.923788Z",
     "shell.execute_reply": "2021-09-29T22:48:19.923278Z",
     "shell.execute_reply.started": "2021-09-29T22:48:19.746809Z"
    },
    "tags": []
   },
   "outputs": [
    {
     "data": {
      "text/html": [
       "<pre>✔️ 2.24 ms (2021-09-29T18:48:19/2021-09-29T18:48:19)</pre>"
      ],
      "text/plain": [
       "<IPython.core.display.HTML object>"
      ]
     },
     "metadata": {},
     "output_type": "display_data"
    }
   ],
   "source": [
    "def simple_formula_parser(job):\n",
    "    '''\n",
    "    Parse a chemical forumla into a dictionary of\n",
    "    species strings and quantities.\n",
    "    Formula cannot contain parenthesis.\n",
    "    '''\n",
    "    sform = job[0]\n",
    "    mult = job[1]\n",
    "    formula = {}\n",
    "    formula['original'] = sform\n",
    "    sform = re.sub(r'([1-9]+)',r' \\1 ',sform)\n",
    "    sform = re.sub(r'([a-z])([A-Z])','\\\\1 1 \\\\2',sform)\n",
    "    sform = re.sub(r'([A-Z])([A-Z])','\\\\1 1 \\\\2',sform)\n",
    "    if sform[-1] not in '1 2 3 4 5 6 7 8 9'.split(' '):\n",
    "        sform = sform+' 1'\n",
    "    sform = sform.strip()\n",
    "    parsed = sform.split(' ')\n",
    "    parsed = dict(list(zip(parsed[::2],list(map(lambda x: int(x)*mult,parsed[1::2])))))\n",
    "    formula['parsed'] = parsed\n",
    "    return {k:v for k,v in parsed.items() if k !=''}"
   ]
  },
  {
   "cell_type": "code",
   "execution_count": 356,
   "id": "a08e84fb-904b-4c88-9418-749de86027c1",
   "metadata": {
    "execution": {
     "iopub.execute_input": "2021-09-29T22:48:20.213234Z",
     "iopub.status.busy": "2021-09-29T22:48:20.212858Z",
     "iopub.status.idle": "2021-09-29T22:48:20.341600Z",
     "shell.execute_reply": "2021-09-29T22:48:20.341027Z",
     "shell.execute_reply.started": "2021-09-29T22:48:20.213195Z"
    },
    "tags": []
   },
   "outputs": [
    {
     "data": {
      "text/html": [
       "<pre>✔️ 7.01 ms (2021-09-29T18:48:20/2021-09-29T18:48:20)</pre>"
      ],
      "text/plain": [
       "<IPython.core.display.HTML object>"
      ]
     },
     "metadata": {},
     "output_type": "display_data"
    },
    {
     "data": {
      "text/plain": [
       "[{'Li': 2, 'X': 1, 'Te': 1, 'O': 1}]"
      ]
     },
     "execution_count": 356,
     "metadata": {},
     "output_type": "execute_result"
    }
   ],
   "source": [
    "def complex_formula_parser(sform):\n",
    "    '''\n",
    "    Parse a chemical forumla into a dictionary of\n",
    "    species strings and quantities.\n",
    "    Formula cannot contain parenthesis.\n",
    "    '''\n",
    "    if sform[-1] == ')':\n",
    "        sform = sform + '1'\n",
    "    if ')' in sform:\n",
    "        multipliers = list(map(int,re.findall('\\)(.)',sform)))\n",
    "        groups = list(zip(re.findall(r'\\((.*?)\\)',sform), multipliers))\n",
    "        # delete every single digit after a right parenthesis\n",
    "        sform = re.sub(r'\\)[0-9]',r')',sform)\n",
    "        # delete every thing inside parentheses\n",
    "        sform = re.sub(r'\\(.+\\)','',sform)\n",
    "        groups = groups + [(sform,1)]\n",
    "    else:\n",
    "        groups = [(sform,1)]\n",
    "    return list(map(simple_formula_parser,groups))\n",
    "complex_formula_parser('Li2XTeO')"
   ]
  },
  {
   "cell_type": "code",
   "execution_count": 428,
   "id": "14870fca-88dd-4053-8afd-fdf2fa1eea47",
   "metadata": {
    "execution": {
     "iopub.execute_input": "2021-09-29T23:29:50.930523Z",
     "iopub.status.busy": "2021-09-29T23:29:50.928884Z",
     "iopub.status.idle": "2021-09-29T23:29:54.908570Z",
     "shell.execute_reply": "2021-09-29T23:29:54.908237Z",
     "shell.execute_reply.started": "2021-09-29T23:29:50.930425Z"
    },
    "tags": []
   },
   "outputs": [
    {
     "data": {
      "text/html": [
       "<pre>✔️ 3.95 s (2021-09-29T19:29:50/2021-09-29T19:29:54)</pre>"
      ],
      "text/plain": [
       "<IPython.core.display.HTML object>"
      ]
     },
     "metadata": {},
     "output_type": "display_data"
    }
   ],
   "source": [
    "# loader for the data in Morrison's book\n",
    "# this sheet is an export of the data on \n",
    "# a Google Spreadsheet \"Morrison Data\"\n",
    "morrison_sheets = pd.read_excel('/Users/juan/Downloads/Morrison.xlsx',None)"
   ]
  },
  {
   "cell_type": "code",
   "execution_count": 429,
   "id": "b06b2571-b767-4c8b-81af-db61e3cf79ee",
   "metadata": {
    "execution": {
     "iopub.execute_input": "2021-09-29T23:29:54.909590Z",
     "iopub.status.busy": "2021-09-29T23:29:54.909486Z",
     "iopub.status.idle": "2021-09-29T23:29:55.114254Z",
     "shell.execute_reply": "2021-09-29T23:29:55.113895Z",
     "shell.execute_reply.started": "2021-09-29T23:29:54.909577Z"
    },
    "tags": []
   },
   "outputs": [
    {
     "data": {
      "text/html": [
       "<pre>✔️ 4.96 ms (2021-09-29T19:29:54/2021-09-29T19:29:54)</pre>"
      ],
      "text/plain": [
       "<IPython.core.display.HTML object>"
      ]
     },
     "metadata": {},
     "output_type": "display_data"
    },
    {
     "name": "stderr",
     "output_type": "stream",
     "text": [
      "/Users/juan/opt/anaconda3/envs/qdef/lib/python3.7/site-packages/ipykernel_launcher.py:6: SettingWithCopyWarning: \n",
      "A value is trying to be set on a copy of a slice from a DataFrame.\n",
      "Try using .loc[row_indexer,col_indexer] = value instead\n",
      "\n",
      "See the caveats in the documentation: https://pandas.pydata.org/pandas-docs/stable/user_guide/indexing.html#returning-a-view-versus-a-copy\n",
      "  \n",
      "/Users/juan/opt/anaconda3/envs/qdef/lib/python3.7/site-packages/ipykernel_launcher.py:7: SettingWithCopyWarning: \n",
      "A value is trying to be set on a copy of a slice from a DataFrame.\n",
      "Try using .loc[row_indexer,col_indexer] = value instead\n",
      "\n",
      "See the caveats in the documentation: https://pandas.pydata.org/pandas-docs/stable/user_guide/indexing.html#returning-a-view-versus-a-copy\n",
      "  import sys\n"
     ]
    }
   ],
   "source": [
    "index_df = morrison_sheets['Index']\n",
    "index_df['Section'] = index_df['Section'].astype(int)\n",
    "# some are combinations of this and that, I shall omit these\n",
    "# i am keeping the ones in which there are single substitutions of \"X\"\n",
    "index_df = index_df[index_df['Comment1'].apply(lambda x: '*' not in str(x))]\n",
    "index_df['Parsed Formula'] = index_df['Formula'].apply(complex_formula_parser)\n",
    "index_df['Pretty Name'] = index_df['Pretty Name'].fillna('')"
   ]
  },
  {
   "cell_type": "code",
   "execution_count": 430,
   "id": "1b102d70-eada-485c-96e5-795044ba6490",
   "metadata": {
    "execution": {
     "iopub.execute_input": "2021-09-29T23:29:57.587808Z",
     "iopub.status.busy": "2021-09-29T23:29:57.587421Z",
     "iopub.status.idle": "2021-09-29T23:29:57.794745Z",
     "shell.execute_reply": "2021-09-29T23:29:57.794426Z",
     "shell.execute_reply.started": "2021-09-29T23:29:57.587770Z"
    },
    "tags": []
   },
   "outputs": [
    {
     "data": {
      "text/html": [
       "<pre>✔️ 2.71 ms (2021-09-29T19:29:57/2021-09-29T19:29:57)</pre>"
      ],
      "text/plain": [
       "<IPython.core.display.HTML object>"
      ]
     },
     "metadata": {},
     "output_type": "display_data"
    }
   ],
   "source": [
    "index = dict(zip(index_df['Section'],zip(index_df['Formula'],index_df['Parsed Formula'],index_df['Pretty Name'])))\n",
    "morrison['section_to_host'] = index"
   ]
  },
  {
   "cell_type": "code",
   "execution_count": 390,
   "id": "668e36fa-84cc-424f-8fa9-62ede51787f3",
   "metadata": {
    "execution": {
     "iopub.execute_input": "2021-09-29T23:13:00.483782Z",
     "iopub.status.busy": "2021-09-29T23:13:00.482757Z",
     "iopub.status.idle": "2021-09-29T23:13:00.662681Z",
     "shell.execute_reply": "2021-09-29T23:13:00.662262Z",
     "shell.execute_reply.started": "2021-09-29T23:13:00.483709Z"
    }
   },
   "outputs": [
    {
     "data": {
      "text/html": [
       "<pre>✔️ 34.4 ms (2021-09-29T19:13:00/2021-09-29T19:13:00)</pre>"
      ],
      "text/plain": [
       "<IPython.core.display.HTML object>"
      ]
     },
     "metadata": {},
     "output_type": "display_data"
    }
   ],
   "source": [
    "pickle.dump(morrison,open('/Users/juan/Google Drive/Zia Lab/Codebase/qdef/data/morrison.pkl','wb'))"
   ]
  },
  {
   "cell_type": "markdown",
   "id": "00c4ab23-6873-4fac-940b-4a1bd2210610",
   "metadata": {
    "tags": []
   },
   "source": [
    "#### Parsing tables from Morrisons book"
   ]
  },
  {
   "cell_type": "code",
   "execution_count": 64,
   "id": "b1e9dec1-ad4f-47fb-b917-7c7240a99cdb",
   "metadata": {
    "execution": {
     "iopub.execute_input": "2021-10-01T14:03:12.012554Z",
     "iopub.status.busy": "2021-10-01T14:03:12.012198Z",
     "iopub.status.idle": "2021-10-01T14:03:22.054873Z",
     "shell.execute_reply": "2021-10-01T14:03:22.054503Z",
     "shell.execute_reply.started": "2021-10-01T14:03:12.012514Z"
    },
    "tags": []
   },
   "outputs": [
    {
     "data": {
      "text/html": [
       "<pre>✔️ 9.97 s (2021-10-01T10:03:12/2021-10-01T10:03:21)</pre>"
      ],
      "text/plain": [
       "<IPython.core.display.HTML object>"
      ]
     },
     "metadata": {},
     "output_type": "display_data"
    }
   ],
   "source": [
    "morrison_sheets = pd.read_excel('/Users/juan/Downloads/Morrison.xlsx',None)"
   ]
  },
  {
   "cell_type": "code",
   "execution_count": 65,
   "id": "46ac3432-ae67-441a-ae81-4d6691204743",
   "metadata": {
    "execution": {
     "iopub.execute_input": "2021-10-01T14:03:22.055831Z",
     "iopub.status.busy": "2021-10-01T14:03:22.055729Z",
     "iopub.status.idle": "2021-10-01T14:03:22.206133Z",
     "shell.execute_reply": "2021-10-01T14:03:22.205842Z",
     "shell.execute_reply.started": "2021-10-01T14:03:22.055817Z"
    },
    "tags": []
   },
   "outputs": [
    {
     "data": {
      "text/html": [
       "<pre>✔️ 662 µs (2021-10-01T10:03:22/2021-10-01T10:03:22)</pre>"
      ],
      "text/plain": [
       "<IPython.core.display.HTML object>"
      ]
     },
     "metadata": {},
     "output_type": "display_data"
    }
   ],
   "source": [
    "morrison_keys = list(morrison_sheets)"
   ]
  },
  {
   "cell_type": "code",
   "execution_count": 66,
   "id": "03864585-a9f9-4406-bdac-814c0a3197a6",
   "metadata": {
    "execution": {
     "iopub.execute_input": "2021-10-01T14:03:22.207260Z",
     "iopub.status.busy": "2021-10-01T14:03:22.207166Z",
     "iopub.status.idle": "2021-10-01T14:03:22.363743Z",
     "shell.execute_reply": "2021-10-01T14:03:22.363405Z",
     "shell.execute_reply.started": "2021-10-01T14:03:22.207248Z"
    },
    "tags": []
   },
   "outputs": [
    {
     "data": {
      "text/html": [
       "<pre>✔️ 665 µs (2021-10-01T10:03:22/2021-10-01T10:03:22)</pre>"
      ],
      "text/plain": [
       "<IPython.core.display.HTML object>"
      ]
     },
     "metadata": {},
     "output_type": "display_data"
    }
   ],
   "source": [
    "def parse_comments(dframe):\n",
    "    '''\n",
    "    Receive a table an result a list of strings with the comments in the\n",
    "    comments column.\n",
    "    '''\n",
    "    if 'Comments' in dframe:\n",
    "        return list(filter(lambda x: x != '',list(dframe['Comments'].fillna(''))))\n",
    "    else:\n",
    "        print(\"No comments column, returning empty.\")\n",
    "        return []"
   ]
  },
  {
   "cell_type": "code",
   "execution_count": 73,
   "id": "bb074d72-7195-4d68-926c-eab695439f1c",
   "metadata": {
    "execution": {
     "iopub.execute_input": "2021-10-01T14:04:14.350012Z",
     "iopub.status.busy": "2021-10-01T14:04:14.349622Z",
     "iopub.status.idle": "2021-10-01T14:04:14.555625Z",
     "shell.execute_reply": "2021-10-01T14:04:14.555192Z",
     "shell.execute_reply.started": "2021-10-01T14:04:14.349973Z"
    },
    "tags": []
   },
   "outputs": [
    {
     "data": {
      "text/html": [
       "<pre>✔️ 1.52 ms (2021-10-01T10:04:14/2021-10-01T10:04:14)</pre>"
      ],
      "text/plain": [
       "<IPython.core.display.HTML object>"
      ]
     },
     "metadata": {},
     "output_type": "display_data"
    }
   ],
   "source": [
    "def table_types(dframe):\n",
    "    '''\n",
    "    Receive a table and return a list with the types of thing it is.\n",
    "    '''\n",
    "    if 'Types' in list(dframe):\n",
    "        return dframe['Types'][0].split(',')\n",
    "    else:\n",
    "        print(\"No types, returning empty.\")\n",
    "        return []"
   ]
  },
  {
   "cell_type": "code",
   "execution_count": 34,
   "id": "820c0f68-393b-4bd0-aaa7-78999ac91f8d",
   "metadata": {
    "execution": {
     "iopub.execute_input": "2021-10-01T13:45:47.330152Z",
     "iopub.status.busy": "2021-10-01T13:45:47.329777Z",
     "iopub.status.idle": "2021-10-01T13:45:47.491786Z",
     "shell.execute_reply": "2021-10-01T13:45:47.491371Z",
     "shell.execute_reply.started": "2021-10-01T13:45:47.330112Z"
    },
    "tags": []
   },
   "outputs": [
    {
     "data": {
      "text/html": [
       "<pre>✔️ 2.3 ms (2021-10-01T09:45:47/2021-10-01T09:45:47)</pre>"
      ],
      "text/plain": [
       "<IPython.core.display.HTML object>"
      ]
     },
     "metadata": {},
     "output_type": "display_data"
    }
   ],
   "source": [
    "def parse_table(dframe):\n",
    "    # get the type of table it is\n",
    "    dframe_types = table_types(dframe)\n",
    "    if ('CDATA' in dframe_types) or True:\n",
    "        print(\"This is a table with crystallographic data.\")\n",
    "        # lattice params are in the first column\n",
    "        crystallographic_data = list(dframe)[0]\n",
    "        first_col = [s for s in dframe[list(dframe)[0]].fillna('') if s]\n",
    "        lattice_params = {s.split('=')[0]:float(s.split('=')[1]) for s in first_col}\n",
    "        if ('GARNET') in dframe_types:\n",
    "            print(\"This is a table with an array of garnets.\")\n",
    "        else:\n",
    "            "
   ]
  },
  {
   "cell_type": "code",
   "execution_count": 61,
   "id": "4db35eff-e694-40b0-8c00-244e157c071f",
   "metadata": {
    "execution": {
     "iopub.execute_input": "2021-10-01T13:56:06.584843Z",
     "iopub.status.busy": "2021-10-01T13:56:06.584511Z",
     "iopub.status.idle": "2021-10-01T13:56:06.759549Z",
     "shell.execute_reply": "2021-10-01T13:56:06.759093Z",
     "shell.execute_reply.started": "2021-10-01T13:56:06.584806Z"
    },
    "tags": []
   },
   "outputs": [
    {
     "data": {
      "text/html": [
       "<pre>✔️ 3.76 ms (2021-10-01T09:56:06/2021-10-01T09:56:06)</pre>"
      ],
      "text/plain": [
       "<IPython.core.display.HTML object>"
      ]
     },
     "metadata": {},
     "output_type": "display_data"
    }
   ],
   "source": [
    "dframe = morrison_sheets['11.1']\n",
    "crystallographic_data = list(dframe)[0]\n",
    "first_col = [s for s in dframe[list(dframe)[0]].fillna('') if s]\n",
    "lattice_params = {s.split('=')[0]:float(s.split('=')[1]) for s in first_col}\n",
    "crystal_system = crystallographic_data.split(' ')[0].lower()"
   ]
  },
  {
   "cell_type": "code",
   "execution_count": 62,
   "id": "ff3f9498-c5fa-4b46-8b27-9c1f9e8c0a96",
   "metadata": {
    "execution": {
     "iopub.execute_input": "2021-10-01T13:56:06.819308Z",
     "iopub.status.busy": "2021-10-01T13:56:06.819148Z",
     "iopub.status.idle": "2021-10-01T13:56:06.955447Z",
     "shell.execute_reply": "2021-10-01T13:56:06.955104Z",
     "shell.execute_reply.started": "2021-10-01T13:56:06.819293Z"
    },
    "tags": []
   },
   "outputs": [
    {
     "data": {
      "text/html": [
       "<pre>✔️ 1.44 ms (2021-10-01T09:56:06/2021-10-01T09:56:06)</pre>"
      ],
      "text/plain": [
       "<IPython.core.display.HTML object>"
      ]
     },
     "metadata": {},
     "output_type": "display_data"
    },
    {
     "data": {
      "text/plain": [
       "'hexagonal'"
      ]
     },
     "execution_count": 62,
     "metadata": {},
     "output_type": "execute_result"
    }
   ],
   "source": [
    "crystal_system"
   ]
  },
  {
   "cell_type": "code",
   "execution_count": 56,
   "id": "1612685e-9334-4c48-a4f2-2507dc46cd22",
   "metadata": {
    "execution": {
     "iopub.execute_input": "2021-10-01T13:51:49.635583Z",
     "iopub.status.busy": "2021-10-01T13:51:49.635243Z",
     "iopub.status.idle": "2021-10-01T13:51:49.770410Z",
     "shell.execute_reply": "2021-10-01T13:51:49.769989Z",
     "shell.execute_reply.started": "2021-10-01T13:51:49.635546Z"
    },
    "tags": []
   },
   "outputs": [
    {
     "data": {
      "text/html": [
       "<pre>✔️ 3.3 ms (2021-10-01T09:51:49/2021-10-01T09:51:49)</pre>"
      ],
      "text/plain": [
       "<IPython.core.display.HTML object>"
      ]
     },
     "metadata": {},
     "output_type": "display_data"
    },
    {
     "data": {
      "text/plain": [
       "{'a': 9.206, 'c': 9.205}"
      ]
     },
     "execution_count": 56,
     "metadata": {},
     "output_type": "execute_result"
    }
   ],
   "source": [
    "lattice_params"
   ]
  },
  {
   "cell_type": "code",
   "execution_count": 50,
   "id": "bd071a28-613f-4a5b-8789-d5af4751749d",
   "metadata": {
    "execution": {
     "iopub.execute_input": "2021-10-01T13:51:03.740823Z",
     "iopub.status.busy": "2021-10-01T13:51:03.740461Z",
     "iopub.status.idle": "2021-10-01T13:51:03.873497Z",
     "shell.execute_reply": "2021-10-01T13:51:03.873086Z",
     "shell.execute_reply.started": "2021-10-01T13:51:03.740783Z"
    },
    "tags": []
   },
   "outputs": [
    {
     "data": {
      "text/html": [
       "<pre>✔️ 3.27 ms (2021-10-01T09:51:03/2021-10-01T09:51:03)</pre>"
      ],
      "text/plain": [
       "<IPython.core.display.HTML object>"
      ]
     },
     "metadata": {},
     "output_type": "display_data"
    },
    {
     "data": {
      "text/plain": [
       "['a=9.206', 'c=9.205']"
      ]
     },
     "execution_count": 50,
     "metadata": {},
     "output_type": "execute_result"
    }
   ],
   "source": [
    "first_col"
   ]
  },
  {
   "cell_type": "code",
   "execution_count": 35,
   "id": "0765530f-07ef-4447-af6b-e80ee8f215e0",
   "metadata": {
    "execution": {
     "iopub.execute_input": "2021-10-01T13:45:47.685112Z",
     "iopub.status.busy": "2021-10-01T13:45:47.684767Z",
     "iopub.status.idle": "2021-10-01T13:45:47.870098Z",
     "shell.execute_reply": "2021-10-01T13:45:47.869681Z",
     "shell.execute_reply.started": "2021-10-01T13:45:47.685074Z"
    },
    "tags": []
   },
   "outputs": [
    {
     "data": {
      "text/html": [
       "<pre>✔️ 2.53 ms (2021-10-01T09:45:47/2021-10-01T09:45:47)</pre>"
      ],
      "text/plain": [
       "<IPython.core.display.HTML object>"
      ]
     },
     "metadata": {},
     "output_type": "display_data"
    },
    {
     "name": "stdout",
     "output_type": "stream",
     "text": [
      "This is a table with crystallographic data.\n"
     ]
    }
   ],
   "source": [
    "parse_table(morrison_sheets['12.1'])"
   ]
  },
  {
   "cell_type": "markdown",
   "id": "5c80db8a-93ab-4d04-b8b4-6d8b8de4aac1",
   "metadata": {
    "tags": []
   },
   "source": [
    "#### Parsing tables with crystal field blurbs"
   ]
  },
  {
   "cell_type": "code",
   "execution_count": 501,
   "id": "80348c00-3f57-45a9-9a25-87e392172c55",
   "metadata": {
    "execution": {
     "iopub.execute_input": "2021-09-30T13:18:55.551099Z",
     "iopub.status.busy": "2021-09-30T13:18:55.549990Z",
     "iopub.status.idle": "2021-09-30T13:18:59.677837Z",
     "shell.execute_reply": "2021-09-30T13:18:59.677494Z",
     "shell.execute_reply.started": "2021-09-30T13:18:55.551015Z"
    },
    "tags": []
   },
   "outputs": [
    {
     "data": {
      "text/html": [
       "<pre>✔️ 4.08 s (2021-09-30T09:18:55/2021-09-30T09:18:59)</pre>"
      ],
      "text/plain": [
       "<IPython.core.display.HTML object>"
      ]
     },
     "metadata": {},
     "output_type": "display_data"
    }
   ],
   "source": [
    "# loader for the data in Morrison's book\n",
    "# this sheet is an export of the data on \n",
    "# a Google Spreadsheet \"Morrison Data\"\n",
    "morrison_sheets = pd.read_excel('/Users/juan/Downloads/Morrison.xlsx',None)"
   ]
  },
  {
   "cell_type": "code",
   "execution_count": 519,
   "id": "cb5edadc-428e-4d91-acd4-85469f030207",
   "metadata": {
    "execution": {
     "iopub.execute_input": "2021-09-30T13:27:40.979099Z",
     "iopub.status.busy": "2021-09-30T13:27:40.977265Z",
     "iopub.status.idle": "2021-09-30T13:27:41.168244Z",
     "shell.execute_reply": "2021-09-30T13:27:41.167862Z",
     "shell.execute_reply.started": "2021-09-30T13:27:40.978967Z"
    },
    "tags": []
   },
   "outputs": [
    {
     "data": {
      "text/html": [
       "<pre>✔️ 15.2 ms (2021-09-30T09:27:40/2021-09-30T09:27:41)</pre>"
      ],
      "text/plain": [
       "<IPython.core.display.HTML object>"
      ]
     },
     "metadata": {},
     "output_type": "display_data"
    }
   ],
   "source": [
    "# these sheets parse the data of tables in Morrison\n",
    "# that list values for crystal-field components\n",
    "morrison_cf_components = {}\n",
    "sheets_with_cf_components = [l for l in morrison_sheets if 'Crystal-field component' in list(morrison_sheets[l])[0]]\n",
    "for sheetkey_with_cf_components in sheets_with_cf_components:\n",
    "    sheet_with_cf_components = morrison_sheets[sheetkey_with_cf_components]\n",
    "    metadata = list(sheet_with_cf_components)[0]\n",
    "    host = morrison['section_to_host'][int(sheetkey_with_cf_components.split('.')[0])]\n",
    "    site = metadata.split('for ')[-1]\n",
    "    cf_params = dict(zip(map(sp.Symbol,sheet_with_cf_components['A_{n,m}']),\n",
    "                         sheet_with_cf_components['Total']))\n",
    "    cpg = re.findall(r'\\((.*?)\\)',site)[0]\n",
    "    site_with_comments = str(site)\n",
    "    site = site.split(' (')[0]\n",
    "    total = {'metadata': metadata,\n",
    "            'site': site,\n",
    "            'site_with_comments': site_with_comments,\n",
    "            'cf_params': cf_params,\n",
    "            'cpg': cpg}\n",
    "    morrison_cf_components[host[0]] = total"
   ]
  },
  {
   "cell_type": "code",
   "execution_count": 521,
   "id": "e09cdbf9-6d9a-497b-ae4b-b75bc55f1232",
   "metadata": {
    "execution": {
     "iopub.execute_input": "2021-09-30T13:30:14.054032Z",
     "iopub.status.busy": "2021-09-30T13:30:14.052448Z",
     "iopub.status.idle": "2021-09-30T13:30:14.301626Z",
     "shell.execute_reply": "2021-09-30T13:30:14.298936Z",
     "shell.execute_reply.started": "2021-09-30T13:30:14.053923Z"
    },
    "tags": []
   },
   "outputs": [
    {
     "data": {
      "text/html": [
       "<pre>✔️ 24.6 ms (2021-09-30T09:30:14/2021-09-30T09:30:14)</pre>"
      ],
      "text/plain": [
       "<IPython.core.display.HTML object>"
      ]
     },
     "metadata": {},
     "output_type": "display_data"
    },
    {
     "name": "stdout",
     "output_type": "stream",
     "text": [
      "3.4\n",
      "20.3\n"
     ]
    }
   ],
   "source": [
    "# these sheets provide information on experimentally\n",
    "# measured values for F^2, F^4, zeta, and B_40\n",
    "# the result should be something that is keyed\n",
    "# by the formulas of the hosts\n",
    "# and whose values are dataframes\n",
    "sheets_with_exp_B40 = [l for l in morrison_sheets if 'Experimental Values' in list(morrison_sheets[l])[0]]\n",
    "for sheetkey in sheets_with_exp_B40:\n",
    "    print(sheetkey)\n",
    "    asheet = morrison_sheets[sheetkey]\n",
    "    metadata = list(asheet)[0]\n",
    "    asheet = asheet[list(asheet)[1:]]\n",
    "    host = morrison['section_to_host'][int(sheetkey.split('.')[0])]\n",
    "    ion = asheet['Ion']"
   ]
  },
  {
   "cell_type": "code",
   "execution_count": 106,
   "id": "616ce8fd-bca4-4ccb-9ad4-9fe38b28503e",
   "metadata": {
    "execution": {
     "iopub.execute_input": "2021-10-05T17:28:57.523356Z",
     "iopub.status.busy": "2021-10-05T17:28:57.521745Z",
     "iopub.status.idle": "2021-10-05T17:28:57.703394Z",
     "shell.execute_reply": "2021-10-05T17:28:57.702913Z",
     "shell.execute_reply.started": "2021-10-05T17:28:57.523258Z"
    },
    "tags": []
   },
   "outputs": [
    {
     "data": {
      "text/html": [
       "<pre>✔️ 15.3 ms (2021-10-05T13:28:57/2021-10-05T13:28:57)</pre>"
      ],
      "text/plain": [
       "<IPython.core.display.HTML object>"
      ]
     },
     "metadata": {},
     "output_type": "display_data"
    }
   ],
   "source": []
  },
  {
   "cell_type": "markdown",
   "id": "eb84d9d1-5925-49b2-937e-079eaf18ab65",
   "metadata": {
    "tags": []
   },
   "source": [
    "## Calculate which charge states of transition metals would give you d^n configurations"
   ]
  },
  {
   "cell_type": "code",
   "execution_count": 228,
   "id": "8d76dc9f-d36c-48d6-9bf9-a42eb21ef4d2",
   "metadata": {
    "execution": {
     "iopub.execute_input": "2021-09-23T13:27:40.514601Z",
     "iopub.status.busy": "2021-09-23T13:27:40.513688Z",
     "iopub.status.idle": "2021-09-23T13:27:41.048443Z",
     "shell.execute_reply": "2021-09-23T13:27:41.048110Z",
     "shell.execute_reply.started": "2021-09-23T13:27:40.514537Z"
    },
    "tags": []
   },
   "outputs": [
    {
     "data": {
      "text/html": [
       "<pre>✔️ 328 ms (2021-09-23T09:27:40/2021-09-23T09:27:40)</pre>"
      ],
      "text/plain": [
       "<IPython.core.display.HTML object>"
      ]
     },
     "metadata": {},
     "output_type": "display_data"
    }
   ],
   "source": [
    "n=1\n",
    "# returns a list of all the transition metal ions [(atomic_number, charge_state, configuration, term)]\n",
    "# whose ground states includes exactly n equivalent d-electrons\n",
    "tms = {}\n",
    "for row  in [4,5,6]:\n",
    "    tms.update(dict(map(lambda x: (x,Atom(x)),element_groups['transition metals'][row])))"
   ]
  },
  {
   "cell_type": "code",
   "execution_count": 229,
   "id": "0e90917f-fe78-4bfc-8460-fc911f3864d3",
   "metadata": {
    "execution": {
     "iopub.execute_input": "2021-09-23T13:27:43.588799Z",
     "iopub.status.busy": "2021-09-23T13:27:43.588413Z",
     "iopub.status.idle": "2021-09-23T13:27:44.038696Z",
     "shell.execute_reply": "2021-09-23T13:27:44.038384Z",
     "shell.execute_reply.started": "2021-09-23T13:27:43.588760Z"
    },
    "tags": []
   },
   "outputs": [
    {
     "data": {
      "text/html": [
       "<pre>✔️ 323 ms (2021-09-23T09:27:43/2021-09-23T09:27:43)</pre>"
      ],
      "text/plain": [
       "<IPython.core.display.HTML object>"
      ]
     },
     "metadata": {},
     "output_type": "display_data"
    }
   ],
   "source": [
    "chunks = []\n",
    "for tm in tms:\n",
    "    nist_datum = tms[tm].nist_data\n",
    "    gstates = nist_datum[nist_datum['Level (eV)'] == 0]\n",
    "    for i in range(1,11):\n",
    "        if i == 1:\n",
    "            seed = 'd'\n",
    "        else:\n",
    "            seed = 'd%d' % i\n",
    "        chunk = gstates[gstates['Configuration'].apply(lambda x: (('3' + seed) in x.split('.')) or (('4' + seed) in x.split('.')) or (('5' + seed) in x.split('.')))][[\"Element\",\"Charge\",\"Configuration\",\"Term\",\"J\"]]\n",
    "        chunk[\"d^n\"] = i\n",
    "        chunk[\"Atomic Number\"] = tm\n",
    "        chunks.append(chunk)\n",
    "ddframe = pd.concat(chunks)"
   ]
  },
  {
   "cell_type": "code",
   "execution_count": 230,
   "id": "1af42ddc-cce9-44c8-9c22-1809919b723a",
   "metadata": {
    "execution": {
     "iopub.execute_input": "2021-09-23T13:27:51.662722Z",
     "iopub.status.busy": "2021-09-23T13:27:51.662385Z",
     "iopub.status.idle": "2021-09-23T13:27:51.896828Z",
     "shell.execute_reply": "2021-09-23T13:27:51.896497Z",
     "shell.execute_reply.started": "2021-09-23T13:27:51.662687Z"
    },
    "tags": []
   },
   "outputs": [
    {
     "data": {
      "text/html": [
       "<pre>✔️ 546 µs (2021-09-23T09:27:51/2021-09-23T09:27:51)</pre>"
      ],
      "text/plain": [
       "<IPython.core.display.HTML object>"
      ]
     },
     "metadata": {},
     "output_type": "display_data"
    }
   ],
   "source": [
    "# plt.close('ptable')\n",
    "# font_multiplier = 2\n",
    "# fig, ax = plt.subplots(num='ptable',figsize=font_multiplier*0.9*np.array([5.5,2.5]))\n",
    "# margin = 0.02\n",
    "# n = 1\n",
    "# annotations = {atom.atomic_number :  '%.0f pm ' % atom.atomic_radius for atom in tms.values() if not(math.isnan(atom.atomic_radius))}\n",
    "\n",
    "# for atom_num in tms:\n",
    "#     atom = tms[atom_num]\n",
    "#     sector = ddframe[((ddframe['d^n'] == n) | (ddframe['d^n'] == 10-n)) & (ddframe['Atomic Number'] == atom_num) & (ddframe['Charge'] < 5)]\n",
    "#     charges = ','.join(list(map(lambda x: str(x)+'+',sector['Charge'])))\n",
    "#     configs = ','.join(list(sector['Configuration']))\n",
    "#     terms = ','.join(list(sector['Term']))\n",
    "#     mdata = '\\n'.join([charges, configs,terms])\n",
    "#     group_loc = int(atom.group)\n",
    "#     row = -atom.period\n",
    "#     plt.text(group_loc+0.85, row-0.1, charges.replace(',','\\n'), ha='center', va='top', fontsize=3*font_multiplier)\n",
    "#     plt.text(group_loc+0.15, row-margin-0.1, terms.replace(',','\\n'),ha='center',va='top',fontsize=3*font_multiplier)\n",
    "#     plt.text(group_loc+0.5, row-margin-0.4, configs.replace(',','\\n'),ha='center',va='top',fontsize=3*font_multiplier)\n",
    "#     plt.text(group_loc+0.5, row-0.15, atom.symbol,ha='center',va='top',fontsize=7*font_multiplier, weight='bold')\n",
    "#     plt.text(group_loc+0.5, row-margin-0.07, atom.atomic_number,ha='center',va='top',fontsize=1.75*font_multiplier)\n",
    "#     plt.plot([group_loc+margin, group_loc+1-margin, group_loc+1-margin, group_loc+margin, group_loc+margin],\n",
    "#             [ row-margin, row-margin, row-1+margin, row-1+margin, row-margin],'k-',lw=0.5)\n",
    "# ax.axis('off')\n",
    "# ax.set_aspect('equal')\n",
    "# plt.tight_layout()\n",
    "# plt.show()"
   ]
  },
  {
   "cell_type": "code",
   "execution_count": 227,
   "id": "fe1ab569-f876-46f5-af7e-2b76e52c9d9d",
   "metadata": {
    "execution": {
     "iopub.execute_input": "2021-09-22T19:48:00.095199Z",
     "iopub.status.busy": "2021-09-22T19:48:00.094777Z",
     "iopub.status.idle": "2021-09-22T19:48:01.539260Z",
     "shell.execute_reply": "2021-09-22T19:48:01.538901Z",
     "shell.execute_reply.started": "2021-09-22T19:48:00.095141Z"
    },
    "tags": []
   },
   "outputs": [
    {
     "data": {
      "text/html": [
       "<pre>✔️ 1.26 s (2021-09-22T15:48:00/2021-09-22T15:48:01)</pre>"
      ],
      "text/plain": [
       "<IPython.core.display.HTML object>"
      ]
     },
     "metadata": {},
     "output_type": "display_data"
    },
    {
     "data": {
      "application/vnd.jupyter.widget-view+json": {
       "model_id": "224fb8a2fd5b4898a9fa774e416d07a7",
       "version_major": 2,
       "version_minor": 0
      },
      "text/plain": [
       "Canvas(toolbar=Toolbar(toolitems=[('Home', 'Reset original view', 'home', 'home'), ('Back', 'Back to previous …"
      ]
     },
     "metadata": {},
     "output_type": "display_data"
    }
   ],
   "source": [
    "plt.close('ptable')\n",
    "font_multiplier = 2\n",
    "fig, axes = plt.subplots(nrows=5, num='ptable',figsize=font_multiplier*0.9*np.array([5.5,5*1.75]))\n",
    "margin = 0.02\n",
    "n = 5\n",
    "annotations = {atom.atomic_number :  '%.0f pm ' % atom.atomic_radius for atom in tms.values() if not(math.isnan(atom.atomic_radius))}\n",
    "for n in [1,2,3,4,5]:\n",
    "    ax = axes[n-1]\n",
    "    for atom_num in tms:\n",
    "        atom = tms[atom_num]\n",
    "        sector = ddframe[((ddframe['d^n'] == n) | (ddframe['d^n'] == 10-n)) & (ddframe['Atomic Number'] == atom_num) & (ddframe['Charge'] < 5)]\n",
    "        charges = ','.join(list(map(lambda x: str(x)+'+',sector['Charge'])))\n",
    "        configs = ','.join(list(sector['Configuration']))\n",
    "        terms = ','.join(list(sector['Term'])).replace('a ','')\n",
    "        mdata = '\\n'.join([charges, configs,terms])\n",
    "        group_loc = int(atom.group)\n",
    "        row = -atom.period\n",
    "        ax.text(group_loc+0.85, row-0.1, charges.replace(',','\\n'), ha='center', va='top', fontsize=3*font_multiplier)\n",
    "        ax.text(group_loc+0.15, row-0.1, terms.replace(',','\\n'),ha='center',va='top',fontsize=3*font_multiplier)\n",
    "        ax.text(group_loc+0.5, row-margin-0.4, configs.replace(',','\\n'),ha='center',va='top',fontsize=3*font_multiplier)\n",
    "        ax.text(group_loc+0.5, row-0.15, atom.symbol,ha='center',va='top',fontsize=7*font_multiplier, weight='bold')\n",
    "        ax.text(group_loc+0.5, row-margin-0.07, atom.atomic_number,ha='center',va='top',fontsize=1.75*font_multiplier)\n",
    "        ax.plot([group_loc+margin, group_loc+1-margin, group_loc+1-margin, group_loc+margin, group_loc+margin],\n",
    "                [ row-margin, row-margin, row-1+margin, row-1+margin, row-margin],'k-',lw=0.5)\n",
    "        ax.axis('off')\n",
    "        ax.set_aspect('equal')\n",
    "        if n == 5:\n",
    "            title = 'd${}^%d$' % (n)\n",
    "        else:\n",
    "            title = 'd${}^%d$, d${}^%d$' % (n,10-n)\n",
    "        ax.set_title(title)\n",
    "plt.tight_layout()\n",
    "\n",
    "# plt.savefig('/Users/juan/Google Drive/Zia Lab/Log/Graphs/dn.pdf')\n",
    "plt.show()"
   ]
  }
 ],
 "metadata": {
  "kernelspec": {
   "display_name": "qdef",
   "language": "python",
   "name": "qdef"
  },
  "language_info": {
   "codemirror_mode": {
    "name": "ipython",
    "version": 3
   },
   "file_extension": ".py",
   "mimetype": "text/x-python",
   "name": "python",
   "nbconvert_exporter": "python",
   "pygments_lexer": "ipython3",
   "version": "3.7.10"
  }
 },
 "nbformat": 4,
 "nbformat_minor": 5
}
