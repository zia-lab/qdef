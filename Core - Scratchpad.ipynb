{
 "cells": [
  {
   "cell_type": "markdown",
   "id": "44323d61-96e2-49f6-9821-2d16033da65a",
   "metadata": {},
   "source": [
    "# Classes & Databases"
   ]
  },
  {
   "cell_type": "code",
   "execution_count": 736,
   "id": "81633756-a390-4dff-a5b9-f9dbe4f7e184",
   "metadata": {
    "execution": {
     "iopub.execute_input": "2021-09-09T14:19:04.938994Z",
     "iopub.status.busy": "2021-09-09T14:19:04.938598Z",
     "iopub.status.idle": "2021-09-09T14:19:06.398509Z",
     "shell.execute_reply": "2021-09-09T14:19:06.397818Z",
     "shell.execute_reply.started": "2021-09-09T14:19:04.938938Z"
    },
    "tags": []
   },
   "outputs": [
    {
     "data": {
      "text/html": [
       "<pre>✔️ 53.5 ms (2021-09-09T10:19:04/2021-09-09T10:19:05)</pre>"
      ],
      "text/plain": [
       "<IPython.core.display.HTML object>"
      ]
     },
     "metadata": {},
     "output_type": "display_data"
    },
    {
     "name": "stdout",
     "output_type": "stream",
     "text": [
      "The autotime extension is already loaded. To reload it, use:\n",
      "  %reload_ext autotime\n"
     ]
    }
   ],
   "source": [
    "# fixing autocomplete\n",
    "%config Completer.use_jedi = False\n",
    "# better quality plots in notebook\n",
    "%config InlineBackend.figure_format='retina'\n",
    "# cell timings\n",
    "%load_ext autotime\n",
    "import pandas as pd\n",
    "import sympy as sp\n",
    "import pickle\n",
    "import json\n",
    "from matplotlib import pyplot as plt\n",
    "import numpy as np\n",
    "%matplotlib widget"
   ]
  },
  {
   "cell_type": "markdown",
   "id": "c2f7f8c2-493a-4444-9868-75beb8caa434",
   "metadata": {},
   "source": [
    "For its approximation of the optical properties of transition metal ions in crystal hosts, **qdef** takes information from the following sources:\n",
    "\n",
    "* From NIST it uses the data it has collected for free ions, this includes information for the entire periodic table.\n",
    "* From the CRC Handbook of Chemistry and Physics it uses information on the ionization energies.\n",
    "* From the Materials Project it takes information on known stable crystal structures.\n",
    "* From Morrison's book, it uses information for the crystal field parameters for a limited range () of hosts.\n",
    "\n",
    "In this notebook data from this sources is parsed and collected in a standard useable format.\n",
    "For each of this a detailed scheme for each is presented and some simple view of the datasets are created.\n",
    "\n",
    "Furthermore, in this notebook we also define and refine the classes that qdef. These classes include: \n",
    "\n",
    "* atom: a class for a building block of the universe,\n",
    "* crystal: a class for a crystal as parsed from cif files,\n",
    "* sub: a class for a substitutional ion in a specific host."
   ]
  },
  {
   "cell_type": "markdown",
   "id": "5137b6e8-382f-4638-8da0-23915483d41c",
   "metadata": {},
   "source": [
    "## Databases"
   ]
  },
  {
   "cell_type": "markdown",
   "id": "b0c55c38-8f76-49fd-b7fd-ba0c132686fe",
   "metadata": {
    "execution": {
     "iopub.execute_input": "2021-09-07T15:11:24.323873Z",
     "iopub.status.busy": "2021-09-07T15:11:24.323473Z",
     "iopub.status.idle": "2021-09-07T15:11:24.508977Z",
     "shell.execute_reply": "2021-09-07T15:11:24.508651Z",
     "shell.execute_reply.started": "2021-09-07T15:11:24.323835Z"
    }
   },
   "source": [
    "### The basics"
   ]
  },
  {
   "cell_type": "markdown",
   "id": "41ab4a6b-dae1-4528-8e49-cfe78f149be1",
   "metadata": {
    "execution": {
     "iopub.execute_input": "2021-09-07T15:05:06.518355Z",
     "iopub.status.busy": "2021-09-07T15:05:06.517962Z",
     "iopub.status.idle": "2021-09-07T15:05:06.751381Z",
     "shell.execute_reply": "2021-09-07T15:05:06.751058Z",
     "shell.execute_reply.started": "2021-09-07T15:05:06.518318Z"
    },
    "tags": []
   },
   "source": [
    "#### parsing dictionaries for names, symbols, and atomic number\n",
    "saving them to pickles"
   ]
  },
  {
   "cell_type": "code",
   "execution_count": 2,
   "id": "2b9d1685-b65f-4b4a-92ae-031b815e3a25",
   "metadata": {
    "execution": {
     "iopub.execute_input": "2021-09-07T16:02:30.999454Z",
     "iopub.status.busy": "2021-09-07T16:02:30.999116Z",
     "iopub.status.idle": "2021-09-07T16:02:31.143893Z",
     "shell.execute_reply": "2021-09-07T16:02:31.143377Z",
     "shell.execute_reply.started": "2021-09-07T16:02:30.999417Z"
    },
    "tags": []
   },
   "outputs": [
    {
     "data": {
      "text/html": [
       "<pre>✔️ 15.6 ms (2021-09-07T12:02:31/2021-09-07T12:02:31)</pre>"
      ],
      "text/plain": [
       "<IPython.core.display.HTML object>"
      ]
     },
     "metadata": {},
     "output_type": "display_data"
    }
   ],
   "source": [
    "nsa = pd.read_csv('/Users/juan/Google Drive/Zia Lab/Codebase/qdef/data/elementsymbols.csv',\n",
    "                  names=['name','symbol','atomic number'])\n",
    "name_to_symb = [(n,s) for n,s in zip(nsa['name'],nsa['symbol'])]\n",
    "name_to_symb = dict(name_to_symb)\n",
    "name_to_num = [(n,nu) for n,nu in zip(nsa['name'],nsa['atomic number'])]\n",
    "name_to_num = dict(name_to_num)\n",
    "\n",
    "symb_to_name = [(s,n) for s,n in zip(nsa['symbol'],nsa['name'])]\n",
    "symb_to_name = dict(symb_to_name)\n",
    "symb_to_num = [(s,nu) for s,nu in zip(nsa['symbol'],nsa['atomic number'])]\n",
    "symb_to_num = dict(symb_to_num)\n",
    "\n",
    "num_to_name = [(n,s) for n,s in zip(nsa['atomic number'],nsa['name'])]\n",
    "num_to_name = dict(num_to_name)\n",
    "num_to_symb = [(s,nu) for s,nu in zip(nsa['atomic number'],nsa['symbol'])]\n",
    "num_to_symb = dict(num_to_symb)\n",
    "\n",
    "pickles = ['name_to_symb', 'name_to_num',\n",
    "         'symb_to_name', 'symb_to_num',\n",
    "         'num_to_name', 'num_to_symb']\n",
    "collection = [name_to_symb, name_to_num, symb_to_name, symb_to_num,\n",
    "             num_to_name, num_to_symb]\n",
    "for pkl_name, thing in zip(pickles, collection):\n",
    "    with open('./data/%s.pkl' % pkl_name, 'wb') as f:\n",
    "        pickle.dump(thing,f)"
   ]
  },
  {
   "cell_type": "code",
   "execution_count": 728,
   "id": "ae543c16-5636-4ea4-bd81-1d72897c73ad",
   "metadata": {
    "execution": {
     "iopub.execute_input": "2021-09-09T13:34:18.844194Z",
     "iopub.status.busy": "2021-09-09T13:34:18.843016Z",
     "iopub.status.idle": "2021-09-09T13:34:18.980963Z",
     "shell.execute_reply": "2021-09-09T13:34:18.980574Z",
     "shell.execute_reply.started": "2021-09-09T13:34:18.844029Z"
    },
    "tags": []
   },
   "outputs": [
    {
     "data": {
      "text/html": [
       "<pre>✔️ 15.8 ms (2021-09-09T09:34:18/2021-09-09T09:34:18)</pre>"
      ],
      "text/plain": [
       "<IPython.core.display.HTML object>"
      ]
     },
     "metadata": {},
     "output_type": "display_data"
    }
   ],
   "source": [
    "# this just to load it\n",
    "name_to_symb = pickle.load(open('./data/name_to_symb.pkl','rb'))\n",
    "name_to_num  = pickle.load(open('./data/name_to_num.pkl','rb'))\n",
    "symb_to_name = pickle.load(open('./data/symb_to_name.pkl','rb'))\n",
    "symb_to_num  = pickle.load(open('./data/symb_to_num.pkl','rb'))\n",
    "num_to_name  = pickle.load(open('./data/num_to_name.pkl','rb'))\n",
    "num_to_symb  = pickle.load(open('./data/num_to_symb.pkl','rb'))\n",
    "atom_symbs   = list(symb_to_name.keys())\n",
    "atom_names   = list(name_to_num.keys())"
   ]
  },
  {
   "cell_type": "code",
   "execution_count": 729,
   "id": "ff67bf10-83db-4189-a31b-43a92d5d3404",
   "metadata": {
    "execution": {
     "iopub.execute_input": "2021-09-09T13:34:20.052904Z",
     "iopub.status.busy": "2021-09-09T13:34:20.052197Z",
     "iopub.status.idle": "2021-09-09T13:34:20.474880Z",
     "shell.execute_reply": "2021-09-09T13:34:20.474548Z",
     "shell.execute_reply.started": "2021-09-09T13:34:20.052831Z"
    },
    "tags": []
   },
   "outputs": [
    {
     "data": {
      "text/html": [
       "<pre>✔️ 14.8 ms (2021-09-09T09:34:20/2021-09-09T09:34:20)</pre>"
      ],
      "text/plain": [
       "<IPython.core.display.HTML object>"
      ]
     },
     "metadata": {},
     "output_type": "display_data"
    }
   ],
   "source": [
    "ionization_data = pickle.load(open('/Users/juan/Google Drive/Zia Lab/Codebase/qdef/data/ionization_data.pkl','rb'))['data']"
   ]
  },
  {
   "cell_type": "markdown",
   "id": "8211b759-2044-41bc-b2a5-5d71e3bca062",
   "metadata": {},
   "source": [
    "## Parsing Atomic data from Mathematica"
   ]
  },
  {
   "cell_type": "code",
   "execution_count": 742,
   "id": "4d15328b-8f23-4bf7-b946-80dd42f617a8",
   "metadata": {
    "execution": {
     "iopub.execute_input": "2021-09-09T14:38:23.531210Z",
     "iopub.status.busy": "2021-09-09T14:38:23.530827Z",
     "iopub.status.idle": "2021-09-09T14:38:23.676440Z",
     "shell.execute_reply": "2021-09-09T14:38:23.676078Z",
     "shell.execute_reply.started": "2021-09-09T14:38:23.531172Z"
    },
    "tags": []
   },
   "outputs": [
    {
     "data": {
      "text/html": [
       "<pre>✔️ 17.4 ms (2021-09-09T10:38:23/2021-09-09T10:38:23)</pre>"
      ],
      "text/plain": [
       "<IPython.core.display.HTML object>"
      ]
     },
     "metadata": {},
     "output_type": "display_data"
    }
   ],
   "source": [
    "wolf = open('/Users/juan/Temp/misthios.csv','r').read().split('\\n')\n",
    "cub = {}\n",
    "bits = [(\"Block\",\"s\",None), # string\n",
    "        (\"CAS number\",\"s\",None),\n",
    "        (\"Crystal Structure\",\"s\",None),\n",
    "        (\"Electrical Type\",\"s\",None),\n",
    "        (\"Electron Config\",\"li\",None), # list of ints\n",
    "        (\"Electron Config String\",\"lat\",None),\n",
    "        (\"Electronegativity\",\"f\",1),\n",
    "        (\"Period\",\"i\",None),\n",
    "        (\"Mass Magnetic Susceptibility\",\"cf\",\"m^3/kg\"),\n",
    "        (\"Memberships\",\"ls\",None),\n",
    "        (\"Series\",\"s\",None),\n",
    "        (\"Van der Waals radius\",\"cf\",\"pm\"),\n",
    "        (\"Atomic Mass\",\"cf\",\"amu\"),\n",
    "        (\"Atomic Radius\",\"cf\",\"pm\"),\n",
    "        (\"Covalent Radius\",\"cf\",\"pm\"),\n",
    "        (\"Neutron Cross Section\",\"cf\",\"bn\"),\n",
    "        (\"Universe Abundance\",\"cf\",1),\n",
    "        (\"Group\",\"s\",None)\n",
    "       ]\n",
    "def tofloat(s):\n",
    "    if s == '':\n",
    "        return np.nan\n",
    "    else:\n",
    "        return float(s)\n",
    "for bit, aline in zip(bits, wolf):\n",
    "    line = aline.replace('{',\"\").replace('}',\"\").replace('\"','').split(',')\n",
    "    if bit[1] == 's': \n",
    "        clean_line = [l.strip() for l in line]\n",
    "    elif bit[1] == 'f': # a float\n",
    "        clean_line = [tofloat(l.strip()) for l in line]\n",
    "    elif bit[1] == 'li':\n",
    "        clean_line = list(map(lambda x: eval(('[['+x).strip().replace(']],',']]')),(','.join(line)).split('[[')[1:]))\n",
    "    elif bit[1] == 'cf': # CForm\n",
    "        clean_line = [tofloat(l.strip()) for l in aline.replace('List(','').replace('\"','').replace(')','').split(',')]\n",
    "    elif bit[1] == 'i': # integers\n",
    "        clean_line = [int(l.strip()) for l in line]\n",
    "    elif bit[1] == 'ls': # list of sting lists\n",
    "        chunks = aline.replace('\"\"','\"').replace('\",\"',',')[2:-2].replace(\"{\",\"[\").replace(\"}\",']').split('],[')\n",
    "        clean_line = list(map(lambda x: eval('[%s]' % x), chunks))\n",
    "    elif bit[1] == 'lat':\n",
    "        clean_line = aline.replace('\"','').split(',')\n",
    "    cub[bit[0]] = {i:c for i,c in zip(range(1,119),clean_line)}"
   ]
  },
  {
   "cell_type": "code",
   "execution_count": 743,
   "id": "24ca9575-63eb-4b00-a766-e1ec04126f12",
   "metadata": {
    "execution": {
     "iopub.execute_input": "2021-09-09T14:38:24.819774Z",
     "iopub.status.busy": "2021-09-09T14:38:24.819270Z",
     "iopub.status.idle": "2021-09-09T14:38:24.981321Z",
     "shell.execute_reply": "2021-09-09T14:38:24.980988Z",
     "shell.execute_reply.started": "2021-09-09T14:38:24.819732Z"
    },
    "tags": []
   },
   "outputs": [
    {
     "data": {
      "text/html": [
       "<pre>✔️ 3.98 ms (2021-09-09T10:38:24/2021-09-09T10:38:24)</pre>"
      ],
      "text/plain": [
       "<IPython.core.display.HTML object>"
      ]
     },
     "metadata": {},
     "output_type": "display_data"
    }
   ],
   "source": [
    "for at_num, econf in cub['Electron Config'].items():\n",
    "    ecg = {}\n",
    "    for principal, orbs in enumerate(econf):\n",
    "        principal = principal+1\n",
    "        for magnum, lorb in zip(['s','p','d','f'],orbs):\n",
    "#             print(str(principal)+magnum+\"^%d\"%lorb)\n",
    "            ecg[str(principal)+magnum] = lorb\n",
    "    cub['Electron Config'][at_num] = ecg"
   ]
  },
  {
   "cell_type": "code",
   "execution_count": 746,
   "id": "c8d8e7ee-68dc-4444-aa05-c2a6bde952f0",
   "metadata": {
    "execution": {
     "iopub.execute_input": "2021-09-09T14:39:35.459310Z",
     "iopub.status.busy": "2021-09-09T14:39:35.458887Z",
     "iopub.status.idle": "2021-09-09T14:39:35.588554Z",
     "shell.execute_reply": "2021-09-09T14:39:35.588014Z",
     "shell.execute_reply.started": "2021-09-09T14:39:35.459272Z"
    },
    "tags": []
   },
   "outputs": [
    {
     "data": {
      "text/html": [
       "<pre>✔️ 4.24 ms (2021-09-09T10:39:35/2021-09-09T10:39:35)</pre>"
      ],
      "text/plain": [
       "<IPython.core.display.HTML object>"
      ]
     },
     "metadata": {},
     "output_type": "display_data"
    }
   ],
   "source": [
    "pickle.dump(cub,\n",
    "    open('/Users/juan/Google Drive/Zia Lab/Codebase/qdef/data/atomicgoodies.pkl','wb'))"
   ]
  },
  {
   "cell_type": "markdown",
   "id": "594118de-783d-4ac9-9e1e-6a1b75cc1394",
   "metadata": {
    "tags": []
   },
   "source": [
    "### Free the ions!"
   ]
  },
  {
   "cell_type": "markdown",
   "id": "d7837538-40b5-4e7d-b592-c32a4719b4fa",
   "metadata": {},
   "source": [
    "## Classes"
   ]
  },
  {
   "cell_type": "code",
   "execution_count": 747,
   "id": "7e75afda-8953-4f0c-bfe0-e07c29102678",
   "metadata": {
    "execution": {
     "iopub.execute_input": "2021-09-09T14:39:39.695457Z",
     "iopub.status.busy": "2021-09-09T14:39:39.695067Z",
     "iopub.status.idle": "2021-09-09T14:39:40.149923Z",
     "shell.execute_reply": "2021-09-09T14:39:40.149576Z",
     "shell.execute_reply.started": "2021-09-09T14:39:39.695419Z"
    },
    "tags": []
   },
   "outputs": [
    {
     "data": {
      "text/html": [
       "<pre>✔️ 420 ms (2021-09-09T10:39:39/2021-09-09T10:39:40)</pre>"
      ],
      "text/plain": [
       "<IPython.core.display.HTML object>"
      ]
     },
     "metadata": {},
     "output_type": "display_data"
    }
   ],
   "source": [
    "# load data\n",
    "name_to_symb = pickle.load(open('./data/name_to_symb.pkl','rb'))\n",
    "name_to_num  = pickle.load(open('./data/name_to_num.pkl','rb'))\n",
    "symb_to_name = pickle.load(open('./data/symb_to_name.pkl','rb'))\n",
    "symb_to_num  = pickle.load(open('./data/symb_to_num.pkl','rb'))\n",
    "num_to_name  = pickle.load(open('./data/num_to_name.pkl','rb'))\n",
    "num_to_symb  = pickle.load(open('./data/num_to_symb.pkl','rb'))\n",
    "atom_symbs   = list(symb_to_name.keys())\n",
    "atom_names   = list(name_to_num.keys())\n",
    "\n",
    "nistdf = pd.read_pickle('./data/nist_atomic_spectra_database_levels.pkl')\n",
    "spinData = pd.read_pickle('./data/spindata.pkl')\n",
    "atomicGoodies = pickle.load(open('./data/atomicGoodies.pkl','rb'))"
   ]
  },
  {
   "cell_type": "markdown",
   "id": "037353e8-b4a5-497c-85c9-2491fc968320",
   "metadata": {
    "tags": []
   },
   "source": [
    "### Atom"
   ]
  },
  {
   "cell_type": "code",
   "execution_count": 748,
   "id": "67e718e1-6295-496e-afd5-cb4b8076740e",
   "metadata": {
    "execution": {
     "iopub.execute_input": "2021-09-09T14:39:41.405749Z",
     "iopub.status.busy": "2021-09-09T14:39:41.405387Z",
     "iopub.status.idle": "2021-09-09T14:39:41.594808Z",
     "shell.execute_reply": "2021-09-09T14:39:41.594415Z",
     "shell.execute_reply.started": "2021-09-09T14:39:41.405712Z"
    },
    "tags": []
   },
   "outputs": [
    {
     "data": {
      "text/html": [
       "<pre>✔️ 2.84 ms (2021-09-09T10:39:41/2021-09-09T10:39:41)</pre>"
      ],
      "text/plain": [
       "<IPython.core.display.HTML object>"
      ]
     },
     "metadata": {},
     "output_type": "display_data"
    }
   ],
   "source": [
    "class Atom():\n",
    "    '''\n",
    "    From these lots of things come.\n",
    "    '''\n",
    "    def __init__(self, kernel):\n",
    "        '''\n",
    "        Object can be initialized either by giving an atomic number,\n",
    "        element name, or element symbol.\n",
    "        '''\n",
    "        if kernel in range(1, 119):\n",
    "            self.atomic_number = kernel\n",
    "            self.symbol = num_to_symb[kernel]\n",
    "            self.name = num_to_name[kernel]\n",
    "        elif (kernel in atom_names) or (kernel.lower() in atom_names):\n",
    "            self.name = kernel.lower()\n",
    "            self.symbol = name_to_symb[self.name]\n",
    "            self.atomic_number = name_to_num[self.name]\n",
    "        elif kernel in atom_symbs:\n",
    "            self.symbol = kernel\n",
    "            self.atomic_number = symb_to_num[kernel]\n",
    "            self.name = symb_to_name[kernel]\n",
    "        else:\n",
    "            raise ValueError('to initialize input must be either an atomic' +\n",
    "                             ' number, element name, or element symbol')\n",
    "        # a dictionary with known ionization energies at different stages\n",
    "        if self.symbol in ['Db','Sg','Bh','Hs','Mt','Ds','Rg',\n",
    "                           'Cn','Nh','Fl','Mc','Lv','Ts','Og']:\n",
    "            self.ionization_energies = []\n",
    "        else:\n",
    "            self.ionization_energies = ionization_data[self.symbol]\n",
    "        # a dataframe with level data as compiled by NIST\n",
    "        self.nist_data = nistdf[nistdf['Element'] == self.symbol]\n",
    "        # a dataframe with isotopic data\n",
    "        self.isotope_data = spinData[spinData['atomic_number'] == self.atomic_number]\n",
    "        # additional data\n",
    "        # the electronegativity of the free neutral atom\n",
    "        self.electronegativity = atomicGoodies[\"Electronegativity\"][self.atomic_number]\n",
    "        # a latex string for the electron configuration of the ground state\n",
    "        self.ground_state_config = atomicGoodies[\"Electron Config String\"][self.atomic_number]\n",
    "        # crystal structure of its most common solid form\n",
    "        self.common_crystal_structure = atomicGoodies[\"Crystal Structure\"][self.atomic_number]\n",
    "        # electron configuration\n",
    "        self.electron_configuration = atomicGoodies[\"Electron Config String\"][self.atomic_number]\n",
    "        # Van der Waals radius\n",
    "        self.van_der_waals_radius =  atomicGoodies[\"Van der Waals radius\"][self.atomic_number]\n",
    "        # Atomic radius\n",
    "        self.atomic_radius = atomicGoodies[\"Atomic Radius\"][self.atomic_number]\n",
    "        # Covalent radius\n",
    "        self.covalent_radius = atomicGoodies[\"Covalent Radius\"][self.atomic_number]\n",
    "        # Block\n",
    "        self.block = atomicGoodies[\"Block\"][self.atomic_number]\n",
    "        # Period\n",
    "        self.period = atomicGoodies[\"Period\"][self.atomic_number]\n",
    "        # Series\n",
    "        self.series = atomicGoodies[\"Series\"][self.atomic_number]\n",
    "        # Group\n",
    "        self.group = atomicGoodies[\"Group\"][self.atomic_number]\n",
    "        \n",
    "    def level_diagram(self, charge, min_energy=-np.inf, max_energy=np.inf):\n",
    "        '''make a nice plot of the levels of the ion with the given charge'''\n",
    "        cmap = plt.cm.RdYlGn\n",
    "        datum = self.nist_data[an_atom.nist_data['Charge'] == charge]\n",
    "        energy_levels = datum['Level (eV)']\n",
    "        configs = datum['Configuration']\n",
    "        if charge == 0:\n",
    "            fig_name = '%s' % (self.symbol)\n",
    "            latex_name = fig_name\n",
    "        else:\n",
    "            fig_name = '%s +%d' % (self.symbol, charge)\n",
    "            latex_name = '{%s}^{+%d}' % (self.symbol, charge)\n",
    "        plt.close(fig_name)\n",
    "        fig, ax = plt.subplots(figsize=(2, 5), num=fig_name)\n",
    "        annot = ax.annotate(\"\", xy=(0, 0), xytext=(-20, 20),\n",
    "                            textcoords=\"offset points\",\n",
    "                            bbox=dict(boxstyle=\"round\", fc=\"w\"),\n",
    "                            arrowprops=dict(arrowstyle=\"->\"))\n",
    "        annot.set_visible(False)\n",
    "\n",
    "        for level_energy in energy_levels:\n",
    "            if ((level_energy < max_energy) & (level_energy > min_energy)):\n",
    "                ax.plot([0, 1], [level_energy]*2, 'k-', lw=0.5)\n",
    "        level_anchors = ax.scatter([0]*len(datum['Level (eV)']),\n",
    "                                   datum['Level (eV)'],\n",
    "                                   c='k', s=4)\n",
    "        ax.axes.xaxis.set_visible(False)\n",
    "        plt.ylabel('E / eV')\n",
    "        ax.set_title('$%s$' % latex_name)\n",
    "        plt.tight_layout()\n",
    "\n",
    "        def update_annot(ind):\n",
    "            pos = level_anchors.get_offsets()[ind[\"ind\"][0]]\n",
    "            annot.xy = pos\n",
    "            indices = ind[\"ind\"]\n",
    "            text = (configs[indices[0]] + '\\n' +\n",
    "                    ('%.3f eV' % (energy_levels[indices[0]])))\n",
    "            annot.set_text(text)\n",
    "            annot.get_bbox_patch().set_facecolor('white')\n",
    "\n",
    "        def hover(event):\n",
    "            vis = annot.get_visible()\n",
    "            if event.inaxes == ax:\n",
    "                cont, ind = level_anchors.contains(event)\n",
    "                if cont:\n",
    "                    update_annot(ind)\n",
    "                    annot.set_visible(True)\n",
    "                    fig.canvas.draw_idle()\n",
    "                else:\n",
    "                    if vis:\n",
    "                        annot.set_visible(False)\n",
    "                        fig.canvas.draw_idle()\n",
    "\n",
    "        fig.canvas.mpl_connect(\"motion_notify_event\", hover)\n",
    "        plt.show()\n",
    "\n",
    "    def __repr__(self):\n",
    "        return '%s : %s : %d' % (self.name, self.symbol, self.atomic_number)\n",
    "\n",
    "    def __str__(self):\n",
    "        return '%s : %s : %d' % (self.name, self.symbol, self.atomic_number)\n"
   ]
  },
  {
   "cell_type": "code",
   "execution_count": 718,
   "id": "64be60a4-2f60-4307-bb6f-5c1fc8b8e796",
   "metadata": {
    "execution": {
     "iopub.execute_input": "2021-09-08T21:36:36.065835Z",
     "iopub.status.busy": "2021-09-08T21:36:36.065391Z",
     "iopub.status.idle": "2021-09-08T21:36:37.151526Z",
     "shell.execute_reply": "2021-09-08T21:36:37.151127Z",
     "shell.execute_reply.started": "2021-09-08T21:36:36.065775Z"
    }
   },
   "outputs": [
    {
     "data": {
      "text/html": [
       "<pre>✔️ 892 ms (2021-09-08T17:36:36/2021-09-08T17:36:36)</pre>"
      ],
      "text/plain": [
       "<IPython.core.display.HTML object>"
      ]
     },
     "metadata": {},
     "output_type": "display_data"
    }
   ],
   "source": [
    "atoms = {i:Atom(i) for i in range(1,119)}"
   ]
  },
  {
   "cell_type": "code",
   "execution_count": 727,
   "id": "236cea47-17d3-45ea-8ab7-490cecb79808",
   "metadata": {
    "execution": {
     "iopub.execute_input": "2021-09-08T21:37:31.661398Z",
     "iopub.status.busy": "2021-09-08T21:37:31.660998Z",
     "iopub.status.idle": "2021-09-08T21:37:31.806479Z",
     "shell.execute_reply": "2021-09-08T21:37:31.806140Z",
     "shell.execute_reply.started": "2021-09-08T21:37:31.661360Z"
    },
    "tags": []
   },
   "outputs": [
    {
     "data": {
      "text/html": [
       "<pre>✔️ 25.6 ms (2021-09-08T17:37:31/2021-09-08T17:37:31)</pre>"
      ],
      "text/plain": [
       "<IPython.core.display.HTML object>"
      ]
     },
     "metadata": {},
     "output_type": "display_data"
    },
    {
     "data": {
      "text/html": [
       "<div>\n",
       "<style scoped>\n",
       "    .dataframe tbody tr th:only-of-type {\n",
       "        vertical-align: middle;\n",
       "    }\n",
       "\n",
       "    .dataframe tbody tr th {\n",
       "        vertical-align: top;\n",
       "    }\n",
       "\n",
       "    .dataframe thead th {\n",
       "        text-align: right;\n",
       "    }\n",
       "</style>\n",
       "<table border=\"1\" class=\"dataframe\">\n",
       "  <thead>\n",
       "    <tr style=\"text-align: right;\">\n",
       "      <th></th>\n",
       "      <th>Element</th>\n",
       "      <th>Charge</th>\n",
       "      <th>Configuration</th>\n",
       "      <th>Term</th>\n",
       "      <th>J</th>\n",
       "      <th>g</th>\n",
       "      <th>Level (eV)</th>\n",
       "      <th>Uncertainty (eV)</th>\n",
       "      <th>Splitting</th>\n",
       "      <th>Leading percentages</th>\n",
       "      <th>Reference</th>\n",
       "      <th>Lande</th>\n",
       "      <th>J_uncertain</th>\n",
       "      <th>J_has_issues</th>\n",
       "    </tr>\n",
       "  </thead>\n",
       "  <tbody>\n",
       "    <tr>\n",
       "      <th>0</th>\n",
       "      <td>C</td>\n",
       "      <td>0</td>\n",
       "      <td>2s2.2p2</td>\n",
       "      <td>3P</td>\n",
       "      <td>[0]</td>\n",
       "      <td>1</td>\n",
       "      <td>0.0</td>\n",
       "      <td>1.600000e-07</td>\n",
       "      <td></td>\n",
       "      <td>98                                          ...</td>\n",
       "      <td>L20057</td>\n",
       "      <td></td>\n",
       "      <td>False</td>\n",
       "      <td>False</td>\n",
       "    </tr>\n",
       "    <tr>\n",
       "      <th>0</th>\n",
       "      <td>C</td>\n",
       "      <td>1</td>\n",
       "      <td>2s2.2p</td>\n",
       "      <td>2P*</td>\n",
       "      <td>[1/2]</td>\n",
       "      <td>2</td>\n",
       "      <td>0.0</td>\n",
       "      <td>NaN</td>\n",
       "      <td></td>\n",
       "      <td>NaN</td>\n",
       "      <td>L7288</td>\n",
       "      <td>NaN</td>\n",
       "      <td>False</td>\n",
       "      <td>False</td>\n",
       "    </tr>\n",
       "    <tr>\n",
       "      <th>0</th>\n",
       "      <td>C</td>\n",
       "      <td>2</td>\n",
       "      <td>1s2.2s2</td>\n",
       "      <td>1S</td>\n",
       "      <td>[0]</td>\n",
       "      <td>1</td>\n",
       "      <td>0.0</td>\n",
       "      <td>NaN</td>\n",
       "      <td></td>\n",
       "      <td>NaN</td>\n",
       "      <td></td>\n",
       "      <td>NaN</td>\n",
       "      <td>False</td>\n",
       "      <td>False</td>\n",
       "    </tr>\n",
       "    <tr>\n",
       "      <th>0</th>\n",
       "      <td>C</td>\n",
       "      <td>3</td>\n",
       "      <td>1s2.2s</td>\n",
       "      <td>2S</td>\n",
       "      <td>[1/2]</td>\n",
       "      <td>2</td>\n",
       "      <td>0.0</td>\n",
       "      <td>NaN</td>\n",
       "      <td></td>\n",
       "      <td>NaN</td>\n",
       "      <td>L7288</td>\n",
       "      <td>NaN</td>\n",
       "      <td>False</td>\n",
       "      <td>False</td>\n",
       "    </tr>\n",
       "    <tr>\n",
       "      <th>0</th>\n",
       "      <td>C</td>\n",
       "      <td>4</td>\n",
       "      <td>1s2</td>\n",
       "      <td>1S</td>\n",
       "      <td>[0]</td>\n",
       "      <td>1</td>\n",
       "      <td>0.0</td>\n",
       "      <td>NaN</td>\n",
       "      <td></td>\n",
       "      <td>NaN</td>\n",
       "      <td>L11091</td>\n",
       "      <td>NaN</td>\n",
       "      <td>False</td>\n",
       "      <td>False</td>\n",
       "    </tr>\n",
       "    <tr>\n",
       "      <th>0</th>\n",
       "      <td>C</td>\n",
       "      <td>5</td>\n",
       "      <td>1s</td>\n",
       "      <td>2S</td>\n",
       "      <td>[1/2]</td>\n",
       "      <td>2</td>\n",
       "      <td>0.0</td>\n",
       "      <td>NaN</td>\n",
       "      <td></td>\n",
       "      <td>NaN</td>\n",
       "      <td>L3620</td>\n",
       "      <td>NaN</td>\n",
       "      <td>False</td>\n",
       "      <td>False</td>\n",
       "    </tr>\n",
       "  </tbody>\n",
       "</table>\n",
       "</div>"
      ],
      "text/plain": [
       "  Element  Charge Configuration Term      J  g  Level (eV)  Uncertainty (eV)  \\\n",
       "0       C       0       2s2.2p2   3P    [0]  1         0.0      1.600000e-07   \n",
       "0       C       1        2s2.2p  2P*  [1/2]  2         0.0               NaN   \n",
       "0       C       2       1s2.2s2   1S    [0]  1         0.0               NaN   \n",
       "0       C       3        1s2.2s   2S  [1/2]  2         0.0               NaN   \n",
       "0       C       4           1s2   1S    [0]  1         0.0               NaN   \n",
       "0       C       5            1s   2S  [1/2]  2         0.0               NaN   \n",
       "\n",
       "  Splitting                                Leading percentages Reference  \\\n",
       "0              98                                          ...    L20057   \n",
       "0                                                          NaN     L7288   \n",
       "0                                                          NaN             \n",
       "0                                                          NaN     L7288   \n",
       "0                                                          NaN    L11091   \n",
       "0                                                          NaN     L3620   \n",
       "\n",
       "  Lande  J_uncertain  J_has_issues  \n",
       "0              False         False  \n",
       "0   NaN        False         False  \n",
       "0   NaN        False         False  \n",
       "0   NaN        False         False  \n",
       "0   NaN        False         False  \n",
       "0   NaN        False         False  "
      ]
     },
     "execution_count": 727,
     "metadata": {},
     "output_type": "execute_result"
    }
   ],
   "source": [
    "atoms[6].nist_data[atoms[6].nist_data['Level (eV)'] == 0]"
   ]
  },
  {
   "cell_type": "code",
   "execution_count": 556,
   "id": "fadf74d4-d428-4fea-9e45-bd0545cd06a1",
   "metadata": {
    "execution": {
     "iopub.execute_input": "2021-09-08T20:31:24.506625Z",
     "iopub.status.busy": "2021-09-08T20:31:24.506248Z",
     "iopub.status.idle": "2021-09-08T20:31:24.667634Z",
     "shell.execute_reply": "2021-09-08T20:31:24.667280Z",
     "shell.execute_reply.started": "2021-09-08T20:31:24.506587Z"
    },
    "tags": []
   },
   "outputs": [
    {
     "data": {
      "text/html": [
       "<pre>✔️ 2.02 ms (2021-09-08T16:31:24/2021-09-08T16:31:24)</pre>"
      ],
      "text/plain": [
       "<IPython.core.display.HTML object>"
      ]
     },
     "metadata": {},
     "output_type": "display_data"
    }
   ],
   "source": [
    "class PeriodicTable():\n",
    "    def __init__(self):\n",
    "        self.atoms = {i:Atom(i) for i in range(1,119)}"
   ]
  },
  {
   "cell_type": "code",
   "execution_count": 557,
   "id": "0b45ed72-cf6d-4331-8e4c-4d23cec1257c",
   "metadata": {
    "execution": {
     "iopub.execute_input": "2021-09-08T20:31:25.281763Z",
     "iopub.status.busy": "2021-09-08T20:31:25.281369Z",
     "iopub.status.idle": "2021-09-08T20:31:26.367931Z",
     "shell.execute_reply": "2021-09-08T20:31:26.367609Z",
     "shell.execute_reply.started": "2021-09-08T20:31:25.281725Z"
    },
    "tags": []
   },
   "outputs": [
    {
     "data": {
      "text/html": [
       "<pre>✔️ 859 ms (2021-09-08T16:31:25/2021-09-08T16:31:26)</pre>"
      ],
      "text/plain": [
       "<IPython.core.display.HTML object>"
      ]
     },
     "metadata": {},
     "output_type": "display_data"
    }
   ],
   "source": [
    "periodicTable = PeriodicTable()"
   ]
  },
  {
   "cell_type": "code",
   "execution_count": 692,
   "id": "f2c5afbb-5c7d-4f7b-a204-d6cc19fd93a1",
   "metadata": {
    "execution": {
     "iopub.execute_input": "2021-09-08T21:14:53.728280Z",
     "iopub.status.busy": "2021-09-08T21:14:53.727836Z",
     "iopub.status.idle": "2021-09-08T21:14:54.035330Z",
     "shell.execute_reply": "2021-09-08T21:14:54.035000Z",
     "shell.execute_reply.started": "2021-09-08T21:14:53.728224Z"
    },
    "tags": []
   },
   "outputs": [
    {
     "data": {
      "text/html": [
       "<pre>✔️ 3.17 ms (2021-09-08T17:14:53/2021-09-08T17:14:53)</pre>"
      ],
      "text/plain": [
       "<IPython.core.display.HTML object>"
      ]
     },
     "metadata": {},
     "output_type": "display_data"
    }
   ],
   "source": [
    "import math"
   ]
  },
  {
   "cell_type": "code",
   "execution_count": 717,
   "id": "7a7211ba-6e7e-4312-801d-bcd8a5e71359",
   "metadata": {
    "execution": {
     "iopub.execute_input": "2021-09-08T21:30:21.616880Z",
     "iopub.status.busy": "2021-09-08T21:30:21.616456Z",
     "iopub.status.idle": "2021-09-08T21:30:22.014332Z",
     "shell.execute_reply": "2021-09-08T21:30:22.013925Z",
     "shell.execute_reply.started": "2021-09-08T21:30:21.616822Z"
    },
    "tags": []
   },
   "outputs": [
    {
     "data": {
      "text/html": [
       "<pre>✔️ 293 ms (2021-09-08T17:30:21/2021-09-08T17:30:21)</pre>"
      ],
      "text/plain": [
       "<IPython.core.display.HTML object>"
      ]
     },
     "metadata": {},
     "output_type": "display_data"
    },
    {
     "data": {
      "application/vnd.jupyter.widget-view+json": {
       "model_id": "7babb3e3c15741a5a2066970664cf710",
       "version_major": 2,
       "version_minor": 0
      },
      "text/plain": [
       "Canvas(toolbar=Toolbar(toolitems=[('Home', 'Reset original view', 'home', 'home'), ('Back', 'Back to previous …"
      ]
     },
     "metadata": {},
     "output_type": "display_data"
    }
   ],
   "source": [
    "plt.close('ptable')\n",
    "fig, ax = plt.subplots(num='ptable',figsize=(9.5,5.5))\n",
    "margin = 0.02\n",
    "annotations = {atom.atomic_number :  '%.0f pm ' % atom.atomic_radius for atom in periodicTable.atoms.values() if not(math.isnan(atom.atomic_radius))}\n",
    "font_multiplier = 1.5\n",
    "for atom in periodicTable.atoms.values():\n",
    "    if atom.group != 'f-block':\n",
    "        group_loc = int(atom.group)\n",
    "        row = -atom.period\n",
    "    else:\n",
    "        if (57 <= atom.atomic_number <= 70):\n",
    "            group_loc = atom.atomic_number - 57+3\n",
    "            row = -9+0.5\n",
    "        else:\n",
    "            group_loc = atom.atomic_number - 89+3\n",
    "            row = -10+0.5\n",
    "    if atom.atomic_number in annotations.keys():\n",
    "        plt.text(group_loc+0.5, row-0.8, annotations[atom.atomic_number], ha='center', va='center', fontsize=4*font_multiplier)\n",
    "    plt.text(group_loc+0.5, row-0.375, atom.symbol,ha='center',va='top',fontsize=7*font_multiplier, weight='bold')\n",
    "    plt.text(group_loc+0.5, row-margin-0.1, atom.atomic_number,ha='center',va='top',fontsize=4*font_multiplier)\n",
    "    plt.plot([group_loc+margin, group_loc+1-margin, group_loc+1-margin, group_loc+margin, group_loc+margin],\n",
    "            [ row-margin, row-margin, row-1+margin, row-1+margin, row-margin],'k-',lw=0.5)\n",
    "ax.set_xlim(1,19)\n",
    "ax.set_ylim(-11,-1)\n",
    "ax.axis('off')\n",
    "ax.set_aspect('equal')\n",
    "plt.tight_layout()\n",
    "plt.show()"
   ]
  },
  {
   "cell_type": "code",
   "execution_count": 716,
   "id": "03135357-2dab-420b-b34c-aa7474f3359e",
   "metadata": {
    "execution": {
     "iopub.execute_input": "2021-09-08T21:27:20.513542Z",
     "iopub.status.busy": "2021-09-08T21:27:20.513067Z",
     "iopub.status.idle": "2021-09-08T21:27:20.657160Z",
     "shell.execute_reply": "2021-09-08T21:27:20.656590Z",
     "shell.execute_reply.started": "2021-09-08T21:27:20.513490Z"
    },
    "tags": []
   },
   "outputs": [
    {
     "data": {
      "text/html": [
       "<pre>✔️ 59.2 ms (2021-09-08T17:27:20/2021-09-08T17:27:20)</pre>"
      ],
      "text/plain": [
       "<IPython.core.display.HTML object>"
      ]
     },
     "metadata": {},
     "output_type": "display_data"
    },
    {
     "data": {
      "application/vnd.jupyter.widget-view+json": {
       "model_id": "f9fd47bb7935477aab599cbd3b2e71bf",
       "version_major": 2,
       "version_minor": 0
      },
      "text/plain": [
       "Canvas(toolbar=Toolbar(toolitems=[('Home', 'Reset original view', 'home', 'home'), ('Back', 'Back to previous …"
      ]
     },
     "metadata": {},
     "output_type": "display_data"
    }
   ],
   "source": [
    "plt.figure()\n",
    "radii = np.array([[atom.atomic_number, atom.atomic_radius] for atom in periodicTable.atoms.values()])\n",
    "plt.plot(radii[:,0], radii[:,1])\n",
    "plt.show()"
   ]
  },
  {
   "cell_type": "code",
   "execution_count": 715,
   "id": "1d47e669-6f0f-47eb-be2e-cf0f2afe85f5",
   "metadata": {
    "execution": {
     "iopub.execute_input": "2021-09-08T21:27:11.029646Z",
     "iopub.status.busy": "2021-09-08T21:27:11.029056Z",
     "iopub.status.idle": "2021-09-08T21:27:11.165425Z",
     "shell.execute_reply": "2021-09-08T21:27:11.165067Z",
     "shell.execute_reply.started": "2021-09-08T21:27:11.029597Z"
    },
    "tags": []
   },
   "outputs": [
    {
     "data": {
      "text/html": [
       "<pre>✔️ 8.33 ms (2021-09-08T17:27:11/2021-09-08T17:27:11)</pre>"
      ],
      "text/plain": [
       "<IPython.core.display.HTML object>"
      ]
     },
     "metadata": {},
     "output_type": "display_data"
    },
    {
     "data": {
      "text/plain": [
       "array([False])"
      ]
     },
     "execution_count": 715,
     "metadata": {},
     "output_type": "execute_result"
    }
   ],
   "source": [
    "radii"
   ]
  },
  {
   "cell_type": "code",
   "execution_count": null,
   "id": "b20961dc-5f16-45b6-9089-a651f18dd70d",
   "metadata": {},
   "outputs": [],
   "source": []
  },
  {
   "cell_type": "code",
   "execution_count": 540,
   "id": "16b3872b-9657-46c4-ac83-423c4ac805bb",
   "metadata": {
    "execution": {
     "iopub.execute_input": "2021-09-08T20:23:39.646495Z",
     "iopub.status.busy": "2021-09-08T20:23:39.646116Z",
     "iopub.status.idle": "2021-09-08T20:23:40.534169Z",
     "shell.execute_reply": "2021-09-08T20:23:40.533794Z",
     "shell.execute_reply.started": "2021-09-08T20:23:39.646458Z"
    },
    "tags": []
   },
   "outputs": [
    {
     "data": {
      "text/html": [
       "<pre>✔️ 878 ms (2021-09-08T16:23:39/2021-09-08T16:23:40)</pre>"
      ],
      "text/plain": [
       "<IPython.core.display.HTML object>"
      ]
     },
     "metadata": {},
     "output_type": "display_data"
    }
   ],
   "source": [
    "periodicTable = {i: Atom(i) for i in range(1,119)}"
   ]
  },
  {
   "cell_type": "code",
   "execution_count": 542,
   "id": "fcb378d8-439b-4cad-b179-26d352dada25",
   "metadata": {
    "execution": {
     "iopub.execute_input": "2021-09-08T20:23:49.275496Z",
     "iopub.status.busy": "2021-09-08T20:23:49.275118Z",
     "iopub.status.idle": "2021-09-08T20:23:49.415526Z",
     "shell.execute_reply": "2021-09-08T20:23:49.415158Z",
     "shell.execute_reply.started": "2021-09-08T20:23:49.275459Z"
    },
    "tags": []
   },
   "outputs": [
    {
     "data": {
      "text/html": [
       "<pre>✔️ 4.51 ms (2021-09-08T16:23:49/2021-09-08T16:23:49)</pre>"
      ],
      "text/plain": [
       "<IPython.core.display.HTML object>"
      ]
     },
     "metadata": {},
     "output_type": "display_data"
    },
    {
     "data": {
      "text/latex": [
       "$\\displaystyle \\text{[Ne]}3\\text{s}^2$"
      ],
      "text/plain": [
       "<IPython.core.display.Math object>"
      ]
     },
     "metadata": {},
     "output_type": "display_data"
    }
   ],
   "source": [
    "display(Math(periodicTable[12].electron_configuration))"
   ]
  },
  {
   "cell_type": "code",
   "execution_count": 516,
   "id": "8090de3d-5e98-4ff5-b4b2-df5e0849cc45",
   "metadata": {
    "execution": {
     "iopub.execute_input": "2021-09-08T20:17:57.061794Z",
     "iopub.status.busy": "2021-09-08T20:17:57.061370Z",
     "iopub.status.idle": "2021-09-08T20:17:57.242093Z",
     "shell.execute_reply": "2021-09-08T20:17:57.241635Z",
     "shell.execute_reply.started": "2021-09-08T20:17:57.061751Z"
    },
    "tags": []
   },
   "outputs": [
    {
     "data": {
      "text/html": [
       "<pre>✔️ 2.24 ms (2021-09-08T16:17:57/2021-09-08T16:17:57)</pre>"
      ],
      "text/plain": [
       "<IPython.core.display.HTML object>"
      ]
     },
     "metadata": {},
     "output_type": "display_data"
    }
   ],
   "source": [
    "from IPython.display import display, Math"
   ]
  },
  {
   "cell_type": "code",
   "execution_count": 520,
   "id": "3b08db27-29d5-4348-b2d5-21e3e3f1e228",
   "metadata": {
    "execution": {
     "iopub.execute_input": "2021-09-08T20:18:36.754419Z",
     "iopub.status.busy": "2021-09-08T20:18:36.753722Z",
     "iopub.status.idle": "2021-09-08T20:18:36.889040Z",
     "shell.execute_reply": "2021-09-08T20:18:36.888636Z",
     "shell.execute_reply.started": "2021-09-08T20:18:36.754380Z"
    },
    "tags": []
   },
   "outputs": [
    {
     "data": {
      "text/html": [
       "<pre>✔️ 3.71 ms (2021-09-08T16:18:36/2021-09-08T16:18:36)</pre>"
      ],
      "text/plain": [
       "<IPython.core.display.HTML object>"
      ]
     },
     "metadata": {},
     "output_type": "display_data"
    },
    {
     "data": {
      "text/latex": [
       "$\\displaystyle \\text[Ne]3\\text{s}^2$"
      ],
      "text/plain": [
       "<IPython.core.display.Math object>"
      ]
     },
     "metadata": {},
     "output_type": "display_data"
    }
   ],
   "source": [
    "display(Math(r'\\text[Ne]3\\text{s}^2'))"
   ]
  },
  {
   "cell_type": "code",
   "execution_count": 515,
   "id": "55d8fbca-21ad-42f2-a186-ff3f09022b74",
   "metadata": {
    "execution": {
     "iopub.execute_input": "2021-09-08T20:17:25.529797Z",
     "iopub.status.busy": "2021-09-08T20:17:25.529414Z",
     "iopub.status.idle": "2021-09-08T20:17:25.677774Z",
     "shell.execute_reply": "2021-09-08T20:17:25.677474Z",
     "shell.execute_reply.started": "2021-09-08T20:17:25.529760Z"
    },
    "tags": []
   },
   "outputs": [
    {
     "data": {
      "text/html": [
       "<pre>✔️ 3.69 ms (2021-09-08T16:17:25/2021-09-08T16:17:25)</pre>"
      ],
      "text/plain": [
       "<IPython.core.display.HTML object>"
      ]
     },
     "metadata": {},
     "output_type": "display_data"
    },
    {
     "data": {
      "text/plain": [
       "'$\\\\frac{x}{y}$'"
      ]
     },
     "metadata": {},
     "output_type": "display_data"
    }
   ],
   "source": [
    "display(r'$\\frac{x}{y}$')"
   ]
  },
  {
   "cell_type": "code",
   "execution_count": null,
   "id": "649a10f9-49a3-48f8-8282-1a0686dce2f7",
   "metadata": {},
   "outputs": [],
   "source": []
  }
 ],
 "metadata": {
  "kernelspec": {
   "display_name": "qdef",
   "language": "python",
   "name": "qdef"
  },
  "language_info": {
   "codemirror_mode": {
    "name": "ipython",
    "version": 3
   },
   "file_extension": ".py",
   "mimetype": "text/x-python",
   "name": "python",
   "nbconvert_exporter": "python",
   "pygments_lexer": "ipython3",
   "version": "3.7.10"
  }
 },
 "nbformat": 4,
 "nbformat_minor": 5
}
