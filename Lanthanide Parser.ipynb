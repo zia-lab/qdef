{
 "cells": [
  {
   "cell_type": "markdown",
   "metadata": {},
   "source": [
    "# Parsing Lanthanide Tables"
   ]
  },
  {
   "cell_type": "markdown",
   "metadata": {},
   "source": [
    "## ScratchPad"
   ]
  },
  {
   "cell_type": "code",
   "execution_count": 2,
   "metadata": {},
   "outputs": [],
   "source": [
    "import re"
   ]
  },
  {
   "cell_type": "code",
   "execution_count": 3,
   "metadata": {},
   "outputs": [],
   "source": [
    "lanthanum = [l.strip().split(' =')[0] for l in open('/Volumes/GoogleDrive/My Drive/Zia Lab/Codebase/qdef/data/lanthanide_tables/HFEnergyMatrixTables copy 2','r').readlines() if l[0] != ' ']\n",
    "lanthanum = list(filter(lambda x: x != '', lanthanum))"
   ]
  },
  {
   "cell_type": "code",
   "execution_count": 4,
   "metadata": {},
   "outputs": [],
   "source": [
    "parEnergyMatrixTable = False\n",
    "parAllowedM = False\n",
    "parEnergyStatesTable = False\n",
    "rhs = {}\n",
    "counter = 0\n",
    "full_lanthanum = [l.strip() for l in open('/Volumes/GoogleDrive/My Drive/Zia Lab/Codebase/qdef/data/lanthanide_tables/HFEnergyMatrixTables copy 2','r').readlines()]\n",
    "for line_idx, line in enumerate(full_lanthanum):\n",
    "    # if counter == 27:\n",
    "    #     break\n",
    "    counter = counter+1\n",
    "    if line_idx < len(full_lanthanum)-1:\n",
    "        next_line = full_lanthanum[line_idx+1]\n",
    "    if 'Attributes[Null]' in line:\n",
    "        continue\n",
    "    if ('EnergyMatrixTable' in line) or ('AllowedM' in line) or ('EnergyStatesTable' in line):\n",
    "        key = line.split('=')[0].strip()\n",
    "        chunks = []\n",
    "        try:\n",
    "            first_chunk = line.split('=')[1]\n",
    "        except:\n",
    "            first_chunk = ''\n",
    "        chunks.append(first_chunk)\n",
    "        if key not in rhs:\n",
    "            rhs[key] = []\n",
    "        continue\n",
    "    if line == '' or ('EnergyMatrixTable' in next_line) or ('AllowedM' in next_line) or ('EnergyStatesTable' in next_line):\n",
    "        chunks.append(line.strip())\n",
    "        whole_chunk = ''.join(chunks).strip()\n",
    "        if whole_chunk != '':\n",
    "            rhs[key].append(whole_chunk)\n",
    "        chunks = []\n",
    "    else:\n",
    "        chunks.append(line.strip())"
   ]
  },
  {
   "cell_type": "code",
   "execution_count": 5,
   "metadata": {},
   "outputs": [],
   "source": [
    "clean_output = []\n",
    "for k,v in rhs.items():\n",
    "    unique = list(set(v))\n",
    "    assert len(unique) == 1\n",
    "    unique = unique[0]\n",
    "    out = '%s = %s' % (k, unique)\n",
    "    clean_output.append(out)"
   ]
  },
  {
   "cell_type": "code",
   "execution_count": 6,
   "metadata": {},
   "outputs": [],
   "source": [
    "differences = set()\n",
    "for k,v in rhs.items():\n",
    "    # print(k)\n",
    "    # print(len(v),len(list(set(v))))\n",
    "    differences.add(len(list(set(v))))"
   ]
  },
  {
   "cell_type": "markdown",
   "metadata": {},
   "source": [
    "# What we really need are functions that quickly create numpy arrays"
   ]
  },
  {
   "cell_type": "code",
   "execution_count": 12,
   "metadata": {},
   "outputs": [],
   "source": [
    "import numpy as np"
   ]
  },
  {
   "cell_type": "markdown",
   "metadata": {},
   "source": [
    "# Best Solution, like Ever"
   ]
  },
  {
   "cell_type": "code",
   "execution_count": 1,
   "metadata": {},
   "outputs": [],
   "source": [
    "import re\n",
    "from sympy.parsing.latex import parse_latex\n",
    "import sympy as sp\n",
    "from wolframclient.evaluation import WolframLanguageSession\n",
    "from wolframclient.language import wl\n",
    "import pickle\n",
    "from random import random\n",
    "from math import log10, floor\n",
    "\n",
    "base_rep=[\n",
    "('B02',sp.Symbol('B_{0,2}')),('B04',sp.Symbol('B_{0,4}')),\n",
    "('B06',sp.Symbol('B_{0,6}')),('B0x',sp.Symbol('B_{0,x}')),\n",
    "('B0y',sp.Symbol('B_{0,y}')),('B0z',sp.Symbol('B_{0,z}')),\n",
    "('B12',sp.Symbol('B_{1,2}')),('B14',sp.Symbol('B_{1,4}')),\n",
    "('B16',sp.Symbol('B_{1,6}')),('B22',sp.Symbol('B_{2,2}')),\n",
    "('B24',sp.Symbol('B_{2,4}')),('B26',sp.Symbol('B_{2,6}')),\n",
    "('B34',sp.Symbol('B_{3,4}')),('B36',sp.Symbol('B_{3,6}')),\n",
    "('B44',sp.Symbol('B_{4,4}')),('B46',sp.Symbol('B_{4,6}')),\n",
    "('B56',sp.Symbol('B_{5,6}')),('B66',sp.Symbol('B_{6,6}')),\n",
    "('E0',sp.Symbol('E_{0}')),('E1',sp.Symbol('E_{1}')),\n",
    "('E2',sp.Symbol('E_{2}')),('E3',sp.Symbol('E_{3}')),\n",
    "('eOrbitalRad',sp.Symbol(r'\\epsilon')),('gI',sp.Symbol('g_{I}')),\n",
    "('gs',sp.Symbol('g_{s}')),('M0',sp.Symbol('M_{0}')),\n",
    "('M2',sp.Symbol('M_{2}')),('M4',sp.Symbol('M_{4}')),\n",
    "('P2',sp.Symbol('P_{2}')),('P4',sp.Symbol('P_{4}')),\n",
    "('P6',sp.Symbol('P_{6}')),('S12',sp.Symbol('S_{1,2}')),\n",
    "('S14',sp.Symbol('S_{1,4}')),('S16',sp.Symbol('S_{1,6}')),\n",
    "('S22',sp.Symbol('S_{2,2}')),('S24',sp.Symbol('S_{2,4}')),\n",
    "('S26',sp.Symbol('S_{2,6}')),('S34',sp.Symbol('S_{3,4}')),\n",
    "('S36',sp.Symbol('S_{3,6}')),('S44',sp.Symbol('S_{4,4}')),\n",
    "('S46',sp.Symbol('S_{4,6}')),('S56',sp.Symbol('S_{5,6}')),\n",
    "('S66',sp.Symbol('S_{6,6}')),('\\[Alpha]',sp.Symbol(r'\\alpha')),\n",
    "('\\[Beta]',sp.Symbol(r'\\beta')),('\\[Beta]BohrMag',sp.Symbol(r'\\mu_{B,e}')),\n",
    "('\\[Beta]n',sp.Symbol(r'\\mu_{B,n}')),('\\[Gamma]',sp.Symbol(r'\\gamma')),\n",
    "('\\[Zeta]',sp.Symbol(r'\\zeta'))]\n",
    "\n",
    "master_rep = {}\n",
    "for idx, it in enumerate(base_rep):\n",
    "    key = sp.Symbol('x_{%d}' % (idx+1))\n",
    "    master_rep[key] = it[1]\n",
    "inverse_rep = {v:k for k,v in master_rep.items()}\n",
    "\n",
    "session=WolframLanguageSession()\n",
    "\n",
    "session.evaluate(r'''vars = {B02, B04, B06, B0x, B0y, B0z, B12, B14, B16, B22, B24, B26, \n",
    "   B34, B36, B44, B46, B56, B66, E0, E1, E2, E3, eOrbitalRad, gI, gs, \n",
    "   M0, M2, M4, P2, P4, P6, S12, S14, S16, S22, S24, S26, S34, S36, \n",
    "   S44, S46, S56, \n",
    "   S66, \\[Alpha], \\[Beta], \\[Beta]BohrMag, \\[Beta]n, \\[Gamma], \\\n",
    "\\[Zeta]};\n",
    "svars = Table[\n",
    "   ToExpression[SubscriptBox[\"x\", ToString[i]]], {i, 1, Length[vars]}];\n",
    "reps = (#[[1]] -> #[[2]]) & /@ Transpose[{vars, svars}];\n",
    "ToSympy[expr0_] := (\n",
    "  expr = Expand[Chop[expr0]];\n",
    "  expr = expr /. reps;\n",
    "  str = ToString[FullForm[expr, NumberMarks -> False]];\n",
    "  str = StringReplace[\n",
    "    str,\n",
    "    {\"Plus\" -> \"sp.core.add.Add\",\n",
    "     \"Times\" -> \"sp.core.mul.Mul\",\n",
    "     \"Power\" -> \"sp.core.power.Pow\",\n",
    "     \"[\" -> \"(\", \"]\" -> \")\",\n",
    "     \"List\" -> \"slist\",\n",
    "     \"\\\"\" -> \"\"}];\n",
    "  str = StringReplace[str,\n",
    "    {\"Subscript(x\" -> \"sp.SubscriptSymbol('x'\",\n",
    "     \"Rational\" -> \"sp.Rational\"}];\n",
    "  Return[str]\n",
    "  )\n",
    "''')\n",
    "\n"
   ]
  },
  {
   "cell_type": "code",
   "execution_count": 2,
   "metadata": {},
   "outputs": [],
   "source": [
    "# Abbreviations to simplify parsing\n",
    "pretty_vars = False\n",
    "if pretty_vars:\n",
    "    def SubscriptSymbol(a,b):\n",
    "        return master_rep[sp.Symbol(\"%s_{%d}\" % (a,int(b)))]\n",
    "else:\n",
    "    def SubscriptSymbol(a,b):\n",
    "        return sp.Symbol(\"%s_{%d}\" % (a,int(b)))\n",
    "sp.Rational = lambda x,y: sp.S(x)/sp.S(y)\n",
    "sp.SubscriptSymbol = SubscriptSymbol\n",
    "Pi = sp.pi\n",
    "Complex = lambda x,y: (sp.S(x) + sp.I * sp.S(y))\n",
    "def slist(*args):\n",
    "    return list([*args])\n",
    "\n",
    "def parse_mathematica(mathematica_expression):\n",
    "    seval = session.evaluate('ToSympy[%s]' % mathematica_expression)\n",
    "    return str(seval)\n",
    "\n",
    "def lanthanum_cleanup(fname):\n",
    "    '''\n",
    "    Data  file  might have large redundancies, this opens it and removes\n",
    "    all    redundant   definitions;   it   assumes   that  there are  no\n",
    "    inconsistencies between them, if there are then it fails.\n",
    "    \n",
    "    More  importantly  it puts together all the lines that relate to one\n",
    "    definition in just one string with no newlines. \n",
    "\n",
    "    This is assuming that the file only contains definitions for:\n",
    "       EnergyMatrixTable, AllowedM, and EnergyStatesTable\n",
    "\n",
    "    Parameters\n",
    "    ----------\n",
    "    fname   (str): file name of file to be parsed\n",
    "\n",
    "    Returns\n",
    "    -------\n",
    "    clean_output  (list): a list of strings each with a single definition.\n",
    "    '''\n",
    "    lanthanum = [l.strip().split(' =')[0] for l in open(fname,'r').readlines() if l[0] != ' ']\n",
    "    lanthanum = list(filter(lambda x: x != '', lanthanum))\n",
    "    # this dictionary will have as keys the lhs of definitions\n",
    "    # and as values will be lists of strings that all attempt\n",
    "    # to define this symbol\n",
    "    rhs = {}\n",
    "    full_lanthanum = [l.strip() for l in open(fname,'r').readlines()]\n",
    "    for line_idx, line in enumerate(full_lanthanum):\n",
    "        if line_idx < len(full_lanthanum)-1:\n",
    "            next_line = full_lanthanum[line_idx+1]\n",
    "        if 'Attributes[Null]' in line:\n",
    "            continue\n",
    "        if ('EnergyMatrixTable' in line) or ('AllowedM' in line) or ('EnergyStatesTable' in line):\n",
    "            key = line.split('=')[0].strip()\n",
    "            chunks = []\n",
    "            try:\n",
    "                first_chunk = line.split('=')[1]\n",
    "            except:\n",
    "                first_chunk = ''\n",
    "            chunks.append(first_chunk)\n",
    "            if key not in rhs:\n",
    "                rhs[key] = []\n",
    "            continue\n",
    "        if line == '' or ('EnergyMatrixTable' in next_line) or ('AllowedM' in next_line) or ('EnergyStatesTable' in next_line):\n",
    "            chunks.append(line.strip())\n",
    "            whole_chunk = ''.join(chunks).strip()\n",
    "            if whole_chunk != '':\n",
    "                rhs[key].append(whole_chunk)\n",
    "            chunks = []\n",
    "        else:\n",
    "            chunks.append(line.strip())\n",
    "    # now to see if there are any redundancies\n",
    "    clean_output = []\n",
    "    for k,v in rhs.items():\n",
    "        unique = list(set(v))\n",
    "        assert len(unique) == 1, \"There should be only one, this is a loopy file.\"\n",
    "        unique = unique[0]\n",
    "        out = '%s = %s' % (k, unique)\n",
    "        clean_output.append(out)\n",
    "    return clean_output\n",
    "def parse_table(fname, verbose=False):\n",
    "    clear_lanthanum = lanthanum_cleanup(fname)\n",
    "    EnergyMatrixTables = {}\n",
    "    counter = 0\n",
    "    for cl in clear_lanthanum:\n",
    "        if 'EnergyMatrixTable' in cl:\n",
    "            pre = cl.split(' =')[0]\n",
    "            if verbose:\n",
    "                print(\"Parsing:\",pre)\n",
    "            parse = parse_mathematica(cl)\n",
    "            args = tuple(eval(re.findall(r'\\[.*\\]',pre)[0]))\n",
    "            EnergyMatrixTables[args] = sp.Matrix(eval(parse))\n",
    "            counter += 1\n",
    "    EnergyStatesTable = {}\n",
    "    for cl in clear_lanthanum:\n",
    "        if 'EnergyStatesTable' in cl:\n",
    "            lhs = cl.split(' =')[0]\n",
    "            lhs = tuple(eval(re.findall(r'\\[.*\\]',lhs)[0]))\n",
    "            rhs = cl.split('= ')[1]\n",
    "            parse = parse_mathematica(cl)\n",
    "            parse = parse.replace('3P','\"3P\"').replace('1S','\"1S\"').replace('3F','\"3F\"')\\\n",
    "                    .replace('1D','\"1D\"').replace('1G','\"1G\"').replace('3H','\"3H\"')\\\n",
    "                    .replace('1I','\"1I\"')\n",
    "            EnergyStatesTable[lhs] = eval(parse)\n",
    "    AllowedM = {}\n",
    "    for cl in clear_lanthanum:\n",
    "        if 'AllowedM' in cl:\n",
    "            parse = parse_mathematica(cl)\n",
    "            AllowedM[parse[0]] = eval(parse)\n",
    "    return {'EnergyMatrixTables': EnergyMatrixTables,\n",
    "            'EnergyStatesTable': EnergyStatesTable,\n",
    "            'AllowedM': AllowedM}"
   ]
  },
  {
   "cell_type": "code",
   "execution_count": 3,
   "metadata": {},
   "outputs": [],
   "source": [
    "parsed = parse_table('./data/lanthanide_tables/HFEnergyMatrixTables copy 2')"
   ]
  },
  {
   "cell_type": "code",
   "execution_count": 78,
   "metadata": {},
   "outputs": [],
   "source": [
    "import numpy as np\n",
    "def matrix_to_fun(mat, mat_args):\n",
    "    replacements = [('sqrt','np.sqrt'),('I','1j')]\n",
    "    free_symbs = mat.free_symbols\n",
    "    funs = {}\n",
    "    rows = []\n",
    "    for row in range(mat.rows):\n",
    "        astr = str(list(mat[row,:]))\n",
    "        astr = re.sub(r'x_\\{(.*?)\\}',r'x_\\1',astr)\n",
    "        for replacement in replacements:\n",
    "            astr = astr.replace(*replacement)\n",
    "        rows.append(astr)\n",
    "    represented_vars = sorted(list(map(lambda x: int(re.findall(r'\\{(.*)\\}',str(x))[0]), mat.free_symbols)))\n",
    "    fun_args = ','.join(['x_%d' % i for i in represented_vars])\n",
    "    nice_fun_args = '\\n'.join([r'    %s -> %s' %(s, str(master_rep[s])) for s in free_symbs])\n",
    "    nice_fun_args = '%s\\n%s' % ('EnergyMatrix[%s]' % str(mat_args),nice_fun_args)\n",
    "    trick = '''\n",
    "import numpy as np\n",
    "def fun(%s):\n",
    "    \"\"\"\n",
    "%s\n",
    "    \"\"\"\n",
    "    list_def = [%s]\n",
    "    return(np.array(list_def))\n",
    "    ''' % (fun_args, nice_fun_args, ','.join(rows))\n",
    "    exec(trick, funs)\n",
    "    return funs['fun']\n",
    "def EnergyMatrix(n, J, Jp, Ii, If):\n",
    "    '''\n",
    "    This function returns a function for the provided arguments.\n",
    "\n",
    "    The returned functions take as argument a dictionary for values of parameters.\n",
    "    '''\n",
    "    return matrix_to_fun(parsed['EnergyMatrixTables'][(n, J, Jp, Ii, If)], (n, J, Jp, Ii, If))"
   ]
  },
  {
   "cell_type": "code",
   "execution_count": 84,
   "metadata": {},
   "outputs": [],
   "source": [
    "from inspect import signature\n",
    "randMats = []\n",
    "energyFunctions = {}\n",
    "for k in parsed['EnergyMatrixTables'].keys():\n",
    "    faun = EnergyMatrix(*k)\n",
    "    energyFunctions[k] = faun\n",
    "    randMats.append(faun(*[random() for i in range(len(signature(faun).parameters))]))"
   ]
  },
  {
   "cell_type": "markdown",
   "metadata": {},
   "source": [
    "# Custom Mathematica Parser"
   ]
  },
  {
   "cell_type": "code",
   "execution_count": null,
   "metadata": {},
   "outputs": [],
   "source": [
    "import re\n",
    "from sympy.parsing.latex import parse_latex\n",
    "import sympy as sp\n",
    "from wolframclient.evaluation import WolframLanguageSession\n",
    "from wolframclient.language import wl\n",
    "import pickle\n",
    "from random import random\n",
    "from math import log10, floor\n",
    "\n",
    "session=WolframLanguageSession()\n",
    "\n",
    "session.evaluate(r'''vars = {B02, B04, B06, B0x, B0y, B0z, B12, B14, B16, B22, B24, B26, \n",
    "   B34, B36, B44, B46, B56, B66, E0, E1, E2, E3, eOrbitalRad, gI, gs, \n",
    "   M0, M2, M4, P2, P4, P6, S12, S14, S16, S22, S24, S26, S34, S36, \n",
    "   S44, S46, S56, \n",
    "   S66, \\[Alpha], \\[Beta], \\[Beta]BohrMag, \\[Beta]n, \\[Gamma], \\\n",
    "\\[Zeta]};\n",
    "svars = Table[\n",
    "   ToExpression[SubscriptBox[\"x\", ToString[i]]], {i, 1, Length[vars]}];\n",
    "reps = (#[[1]] -> #[[2]]) & /@ Transpose[{vars, svars}];\n",
    "ParseSymbol[thing_] :=\n",
    " (str = ToString[Chop[thing] /. reps, CForm];\n",
    "  Return[str]\n",
    "  )''')\n",
    "\n",
    "# NB: The order here needs to match the order\n",
    "# of variable assignment in Mathematica\n",
    "\n",
    "base_rep=[\n",
    "('B02',sp.Symbol('B_{0,2}')),('B04',sp.Symbol('B_{0,4}')),\n",
    "('B06',sp.Symbol('B_{0,6}')),('B0x',sp.Symbol('B_{0,x}')),\n",
    "('B0y',sp.Symbol('B_{0,y}')),('B0z',sp.Symbol('B_{0,z}')),\n",
    "('B12',sp.Symbol('B_{1,2}')),('B14',sp.Symbol('B_{1,4}')),\n",
    "('B16',sp.Symbol('B_{1,6}')),('B22',sp.Symbol('B_{2,2}')),\n",
    "('B24',sp.Symbol('B_{2,4}')),('B26',sp.Symbol('B_{2,6}')),\n",
    "('B34',sp.Symbol('B_{3,4}')),('B36',sp.Symbol('B_{3,6}')),\n",
    "('B44',sp.Symbol('B_{4,4}')),('B46',sp.Symbol('B_{4,6}')),\n",
    "('B56',sp.Symbol('B_{5,6}')),('B66',sp.Symbol('B_{6,6}')),\n",
    "('E0',sp.Symbol('E_{0}')),('E1',sp.Symbol('E_{1}')),\n",
    "('E2',sp.Symbol('E_{2}')),('E3',sp.Symbol('E_{3}')),\n",
    "('eOrbitalRad',sp.Symbol(r'\\epsilon')),('gI',sp.Symbol('g_{I}')),\n",
    "('gs',sp.Symbol('g_{s}')),('M0',sp.Symbol('M_{0}')),\n",
    "('M2',sp.Symbol('M_{2}')),('M4',sp.Symbol('M_{4}')),\n",
    "('P2',sp.Symbol('P_{2}')),('P4',sp.Symbol('P_{4}')),\n",
    "('P6',sp.Symbol('P_{6}')),('S12',sp.Symbol('S_{1,2}')),\n",
    "('S14',sp.Symbol('S_{1,4}')),('S16',sp.Symbol('S_{1,6}')),\n",
    "('S22',sp.Symbol('S_{2,2}')),('S24',sp.Symbol('S_{2,4}')),\n",
    "('S26',sp.Symbol('S_{2,6}')),('S34',sp.Symbol('S_{3,4}')),\n",
    "('S36',sp.Symbol('S_{3,6}')),('S44',sp.Symbol('S_{4,4}')),\n",
    "('S46',sp.Symbol('S_{4,6}')),('S56',sp.Symbol('S_{5,6}')),\n",
    "('S66',sp.Symbol('S_{6,6}')),('\\[Alpha]',sp.Symbol(r'\\alpha')),\n",
    "('\\[Beta]',sp.Symbol(r'\\beta')),('\\[Beta]BohrMag',sp.Symbol(r'\\mu_{B,e}')),\n",
    "('\\[Beta]n',sp.Symbol(r'\\mu_{B,n}')),('\\[Gamma]',sp.Symbol(r'\\gamma')),\n",
    "('\\[Zeta]',sp.Symbol(r'\\zeta'))]\n",
    "\n",
    "master_rep = {}\n",
    "for idx, it in enumerate(base_rep):\n",
    "    key = sp.Symbol('x_{%d}' % (idx+1))\n",
    "    master_rep[key] = it[1]\n",
    "inverse_rep = {v:k for k,v in master_rep.items()}"
   ]
  },
  {
   "cell_type": "code",
   "execution_count": 670,
   "metadata": {},
   "outputs": [],
   "source": [
    "def lanthanum_cleanup(fname):\n",
    "    '''\n",
    "    Data  file  might have large redundancies, this opens it and removes\n",
    "    all    redundant   definitions;   it   assumes   that   there's   no\n",
    "    inconsistencies between them, if there is then it fails.\n",
    "    \n",
    "    More  importantly  it puts together all the lines that relate to one\n",
    "    definition in just one string with no newlines. \n",
    "\n",
    "    This is assuming that the file only contains definitions for:\n",
    "       EnergyMatrixTable, AllowedM, and EnergyStatesTable\n",
    "\n",
    "    Parameters\n",
    "    ----------\n",
    "    fname   (str): file name of file to be parsed\n",
    "\n",
    "    Returns\n",
    "    -------\n",
    "    clean_output  (list): a list of strings each with a single definition.\n",
    "    '''\n",
    "    lanthanum = [l.strip().split(' =')[0] for l in open(fname,'r').readlines() if l[0] != ' ']\n",
    "    lanthanum = list(filter(lambda x: x != '', lanthanum))\n",
    "    # this dictionary will have as keys the lhs of definitions\n",
    "    # and as values will be lists of strings that all attempt\n",
    "    # to define this symbol\n",
    "    rhs = {}\n",
    "    full_lanthanum = [l.strip() for l in open(fname,'r').readlines()]\n",
    "    for line_idx, line in enumerate(full_lanthanum):\n",
    "        if line_idx < len(full_lanthanum)-1:\n",
    "            next_line = full_lanthanum[line_idx+1]\n",
    "        if 'Attributes[Null]' in line:\n",
    "            continue\n",
    "        if ('EnergyMatrixTable' in line) or ('AllowedM' in line) or ('EnergyStatesTable' in line):\n",
    "            key = line.split('=')[0].strip()\n",
    "            chunks = []\n",
    "            try:\n",
    "                first_chunk = line.split('=')[1]\n",
    "            except:\n",
    "                first_chunk = ''\n",
    "            chunks.append(first_chunk)\n",
    "            if key not in rhs:\n",
    "                rhs[key] = []\n",
    "            continue\n",
    "        if line == '' or ('EnergyMatrixTable' in next_line) or ('AllowedM' in next_line) or ('EnergyStatesTable' in next_line):\n",
    "            chunks.append(line.strip())\n",
    "            whole_chunk = ''.join(chunks).strip()\n",
    "            if whole_chunk != '':\n",
    "                rhs[key].append(whole_chunk)\n",
    "            chunks = []\n",
    "        else:\n",
    "            chunks.append(line.strip())\n",
    "    # now to see if there are any redundancies\n",
    "    clean_output = []\n",
    "    for k,v in rhs.items():\n",
    "        unique = list(set(v))\n",
    "        assert len(unique) == 1, \"There should be only one, this is a loopy file.\"\n",
    "        unique = unique[0]\n",
    "        out = '%s = %s' % (k, unique)\n",
    "        clean_output.append(out)\n",
    "    return clean_output\n",
    "\n",
    "def parse_it(astr):\n",
    "    astr = cleanup(astr)\n",
    "    return sp.expand((parse_latex(astr)))\n",
    "\n",
    "def cleanup(parse):\n",
    "    '''\n",
    "    Some basic cleanup to avoid some errors\n",
    "    when using parse_latex.\n",
    "    '''\n",
    "    parse = re.sub(r'Subscript\\(x,(\\d{1,2})\\)', r'x_{\\1}', parse)\n",
    "    parse = re.sub(r'Complex\\((.*?),(.*?)\\)',r'(\\1+i*(\\2))',parse)\n",
    "    parse = re.sub(r'Sqrt\\((.*?)\\)', r'sqrt{\\1}', parse).replace('sqrt','\\sqrt').replace('.*','*').replace('.)',')')\n",
    "    parse = re.sub(r'(\\d\\.[\\d]+)e([-]{0,1}\\d)',r'(\\1*10^{\\2})', parse)\n",
    "    parse = parse + ' '\n",
    "    reps = [('. ','')]\n",
    "    for rep in reps:\n",
    "        parse = parse.replace(*rep)\n",
    "    return parse\n",
    "\n",
    "def parse_energy_matrix_table(astr):\n",
    "    '''\n",
    "    Parse a string that contains the definition for a symbolic matrix.\n",
    "\n",
    "    Parameters\n",
    "    ----------\n",
    "    astr    (str): A definition of the sort EnergyMatrixTable[_,_,_,_,_] = {{...},{...},...}\n",
    "\n",
    "    Returns\n",
    "    -------\n",
    "    lhs, parsed_matrix, rhs\n",
    "    lhs                 (str): The LHS of the matrix definition\n",
    "    parsed_matrix (sp.Matrix): The parsed symbolic matrix.\n",
    "    rhs                 (str): The RHS of the matrix definition\n",
    "    '''\n",
    "    lhs = astr.split('= ')[0].strip()\n",
    "    rhs = astr.split('= ')[-1]\n",
    "    # define it in the Mathematica session\n",
    "    session.evaluate(astr)\n",
    "    # get num rows and columns\n",
    "    num_rows, num_cols = tuple(session.evaluate(\"Dimensions[%s]\" % lhs))\n",
    "    parsed_matrix = []\n",
    "    # Iterate through each element and parse it\n",
    "    for num_row in range(1,num_rows+1):\n",
    "        row = []\n",
    "        for num_col in range(1, num_cols+1):\n",
    "            parse = session.evaluate(\"ParseSymbol[%s[[%d,%d]]]\" % (lhs, num_row, num_col))\n",
    "            # Clean up the string before parsing with Sympy\n",
    "            parse = cleanup(parse)\n",
    "            parsed = sp.expand(parse_latex(parse)).subs(sp.Symbol('i'),sp.I)\n",
    "            # The imaginary unit needs to be dealt with separately\n",
    "            parsed = parsed.subs(sp.Symbol('i'),sp.I)\n",
    "            row.append(parsed)\n",
    "        parsed_matrix.append(row)\n",
    "    parsed_matrix = sp.Matrix(parsed_matrix)\n",
    "    return lhs, parsed_matrix, rhs\n",
    "\n",
    "def parse_allowed_m(astr):\n",
    "    lhs = astr.split('= ')[0].strip()\n",
    "    rhs = astr.split('= ')[-1]\n",
    "    # define it in the Mathematica session\n",
    "    session.evaluate(astr)\n",
    "    # get num rows\n",
    "    num_lists = tuple(session.evaluate(\"Dimensions[%s]\" % lhs))[0]\n",
    "    M_value = int(lhs.split('[')[-1].split(']')[0])\n",
    "    rows = []\n",
    "    for list_index in range(1,num_lists+1):\n",
    "        the_list = session.evaluate(\"%s[[%d]]\" % (lhs, list_index))\n",
    "        try:\n",
    "            the_row = [sp.S(x[0])/sp.S(x[1]) for x in the_list]\n",
    "        except:\n",
    "            the_row = [sp.S(x) for x in the_list]\n",
    "        rows.append(the_row)\n",
    "    return M_value, rows  \n",
    "\n",
    "def pa(atom):\n",
    "    special_cases = [('Pi','sp.pi')]\n",
    "    atom = atom.strip()\n",
    "    if 'Global' in atom:\n",
    "        return 'sp.Symbol(\"%s\")' % (atom.replace('Global`',''))\n",
    "    if '`' in atom:\n",
    "        return 'sp.Symbol(\"%s\")' % (atom.replace('`',''))\n",
    "    for special_case in special_cases:\n",
    "        if atom == special_case[0]:\n",
    "            return special_case[1]\n",
    "    else:\n",
    "        return atom\n",
    "def parse_multi(match):\n",
    "    args = list(map(pa,match.split(',')))\n",
    "    return ';'.join(args)\n",
    "def parse_mathematica_expr(mathematica_expression):\n",
    "    session.evaluate('''\n",
    "    expr = Expand[(%s)/.reps];\n",
    "    Export[\"/Users/juan/Temp/mathexp.m\",ToString[FullForm[expr,NumberMarks->False]]]''' % mathematica_expression)\n",
    "    expr = ''.join([re.sub(r'\\\\$',r'',l.strip()) for l in open(\"/Users/juan/Temp/mathexp.m\",'r').readlines()[1:]])\n",
    "    expr = expr.replace('\"','')\n",
    "    expr0 = expr\n",
    "    # replace symbolic subscripts vars\n",
    "    expr1 = re.sub(r'Subscript\\[(.*?), (.*?)\\]',r'sp.Symbol(\"\\1_{\\2}\")', expr0)\n",
    "    # parse Rational and complex\n",
    "    expr2 = re.sub(r'Rational\\[(.*?),(.*?)\\]',\n",
    "        lambda x: 'sp.S(%s) / sp.S(%s)' % (pa(x.groups()[0]), pa(x.groups()[1])), expr1)\n",
    "    expr2 = re.sub(r'Complex\\[(.*?),(.*?)\\]',\n",
    "        lambda x: '(sp.S(%s) + sp.I*sp.S(%s))' % (pa(x.groups()[0]), pa(x.groups()[1])), expr2)\n",
    "    # parse Power\n",
    "    expr3 = re.sub(r'Power\\[(.*?),(.*?)\\]',\n",
    "        lambda x: 'sp.core.power.Pow(%s; %s)' % (pa(x.groups()[0]), pa(x.groups()[1])), expr2)\n",
    "    # Parse Times\n",
    "    expr4 = re.sub(r'Times\\[(.*?)\\]',\n",
    "        lambda x: 'sp.core.mul.Mul(%s)' % parse_multi(x.group(1)), expr3)\n",
    "    # Parse Plus\n",
    "    expr5 = re.sub(r'Plus\\[(.*?)\\]',\n",
    "        lambda x: 'sp.core.add.Add(%s)' % parse_multi(x.group(1)), expr4)\n",
    "    exprfinal = expr5.replace(';',',')\n",
    "    sympyexpr = eval(exprfinal)\n",
    "    return sympyexpr\n",
    "\n",
    "def parse_mathematica_matrix(mathematica_matrix_def):\n",
    "    lhs = mathematica_matrix_def.split('= ')[0].strip()\n",
    "    rhs = mathematica_matrix_def.split('= ')[-1]\n",
    "    session.evaluate(mathematica_matrix_def)\n",
    "    # get num rows and columns\n",
    "    num_rows, num_cols = tuple(session.evaluate(\"Dimensions[%s]\" % lhs))\n",
    "    parsed_matrix = []\n",
    "    # Iterate through each element and parse it\n",
    "    for num_row in range(1,num_rows+1):\n",
    "        row = []\n",
    "        for num_col in range(1, num_cols+1):\n",
    "            parsed = parse_mathematica_expr('Chop[%s[[%d,%d]]]' % (lhs, num_row, num_col))\n",
    "            row.append(parsed)\n",
    "        parsed_matrix.append(row)\n",
    "    parsed_matrix = sp.Matrix(parsed_matrix)\n",
    "    return lhs, parsed_matrix, rhs\n",
    "\n",
    "def parse_energy_states_table(astr):\n",
    "    lhs = astr.split('= ')[0].strip()\n",
    "    rhs = astr.split('= ')[-1]\n",
    "    # define it in the Mathematica session\n",
    "    session.evaluate(astr)\n",
    "    # get num rows\n",
    "    num_rows, num_cols = tuple(session.evaluate(\"Dimensions[%s]\" % lhs))\n",
    "    parsed_matrix = []\n",
    "    rows = []\n",
    "    for num_row in range(1,num_rows+1):\n",
    "        head = session.evaluate(\"%s[[%d]][[-1]]\" % (lhs, num_row))\n",
    "        try:\n",
    "            head = sp.S(head[0])/sp.S(head[1])\n",
    "        except:\n",
    "            head = sp.S(head)\n",
    "        thorax = session.evaluate(\"%s[[%d]][[1]][[-1]]\" % (lhs, num_row))\n",
    "        try:\n",
    "            thorax = sp.S(thorax[0])/sp.S(thorax[1])\n",
    "        except:\n",
    "            thorax = sp.S(thorax)\n",
    "        knees = session.evaluate(\"%s[[%d]][[1]][[1]]\" % (lhs, num_row))\n",
    "        knees = (str(knees[0]), sp.S(knees[1]))\n",
    "        row = (((knees),thorax),head)\n",
    "        rows.append(row)\n",
    "    args = '(%s)' % lhs.split('[')[-1].split(']')[0]\n",
    "    return sp.S(args), rows\n",
    "\n",
    "def parse_table(fname):\n",
    "    '''\n",
    "    Put everything together to parse\n",
    "    EnergyMatrixTable, EnergyStatesTable, and AllowedM.\n",
    "\n",
    "    Parameters\n",
    "    ----------\n",
    "    fname   (str): Filename of the file with the Mathematica defs.\n",
    "\n",
    "    Returns\n",
    "    -------\n",
    "    {'EnergyMatrixTables': EnergyMatrixTables,\n",
    "     'EnergyStatesTable': EnergyStatesTable,\n",
    "     'AllowedM': AllowedM,\n",
    "     'EnergyMatrixStrings': EnergyMatrixStrings}\n",
    "    with\n",
    "    EnergyMatrixTables    (dict): Keys are tuples () values are symbolic sp.Matrix\n",
    "    EnergyStatesTable     (dict): Keys are tuples () values are lists\n",
    "    AlloweM               (dict): Key is an integer corresponding to __, values are\n",
    "    EnergyMatrixStrings   (dict): Keys are tuples () values are the original strings.\n",
    "\n",
    "    '''\n",
    "    clear_lanthanum = lanthanum_cleanup(fname)\n",
    "    EnergyMatrixTables = {}\n",
    "    EnergyMatrixStrings = {}\n",
    "    counter = 0\n",
    "    for cl in clear_lanthanum:\n",
    "        if 'EnergyMatrixTable' in cl:\n",
    "            print('.',end='|')\n",
    "            pre = cl.split(' =')[0]\n",
    "            # print(pre)\n",
    "            # if pre != \"EnergyMatrixTable[2, 4, 2, 1/2, 1/2]\":\n",
    "            #     continue\n",
    "            parse = parse_mathematica_matrix(cl)\n",
    "            args = sp.S(parse[0].split('[')[-1].split(']')[0])\n",
    "            EnergyMatrixTables[args] = parse[1].subs(master_rep)\n",
    "            EnergyMatrixStrings[args] = parse[2]\n",
    "            counter += 1\n",
    "            # if counter == 5:\n",
    "            #     break\n",
    "    EnergyStatesTable = {}\n",
    "    for cl in clear_lanthanum:\n",
    "        if 'EnergyStatesTable' in cl:\n",
    "            print('.',end='|')\n",
    "            parse = parse_energy_states_table(cl)\n",
    "            args = parse[0]\n",
    "            EnergyStatesTable[args] = parse[1]\n",
    "    AllowedM = {}\n",
    "    for cl in clear_lanthanum:\n",
    "        if 'AllowedM' in cl:\n",
    "            print('.',end='|')\n",
    "            parse = parse_allowed_m(cl)\n",
    "            AllowedM[parse[0]] = parse[1]\n",
    "    return {'EnergyMatrixTables': EnergyMatrixTables,\n",
    "            'EnergyStatesTable': EnergyStatesTable,\n",
    "            'AllowedM': AllowedM,\n",
    "            'EnergyMatrixStrings': EnergyMatrixStrings}\n",
    "\n",
    "def rational_simplify(sympy_expr, N=10000):\n",
    "    '''\n",
    "    Given a sympy expression this function takes it and\n",
    "    finds rational  approximations (perhaps including a\n",
    "    square root).\n",
    "\n",
    "    Example\n",
    "    -------\n",
    "\n",
    "    >> rational_simplify(2.31099*sp.Symbol('x') - 1.14)\n",
    "    >>> 9 * sqrt(546) * x / 91 - sqrt(130)/10\n",
    "    '''\n",
    "    sympy_dict = sympy_expr.as_coefficients_dict()\n",
    "    for k,v in sympy_dict.items():\n",
    "        if isinstance(v, sp.core.numbers.Float):\n",
    "            n = N\n",
    "            simpler = square_rational_approx(v, n)\n",
    "            # If the thing was approximated to zero\n",
    "            # escalate the precision.\n",
    "            while simpler == 0:\n",
    "                n = 10*n\n",
    "                simpler = square_rational_approx(v, n)\n",
    "            sympy_dict[k] = simpler\n",
    "    total = sum([k*v for k,v in sympy_dict.items()])\n",
    "    return total\n",
    "\n",
    "def rational_approx(x, N):\n",
    "    '''\n",
    "    Given  a number x this function returns a fraction\n",
    "    that approximates it with a denominator that could\n",
    "    be as large as N.\n",
    "    '''\n",
    "    if (int(x) == x):\n",
    "        return sp.S(int(x))\n",
    "    sign = 1\n",
    "    if x < 0:\n",
    "        sign = -1\n",
    "        x = -x\n",
    "    if x > 1:\n",
    "        ix, dx = int(x), x - int(x)\n",
    "    else:\n",
    "        ix = 0\n",
    "        dx = x\n",
    "    exponent = -floor(log10(float(dx)))\n",
    "    tens_multiplier = int(exponent-1)\n",
    "    dx = dx*(10**tens_multiplier)\n",
    "    divider = 1/(sp.S(10)**(sp.S(tens_multiplier)))\n",
    "    sign = sign\n",
    "    a, b = 0, 1\n",
    "    c, d = 1, 1\n",
    "    while (b <= N and d <= N):\n",
    "        mediant = float(a+c)/(b+d)\n",
    "        if dx == mediant:\n",
    "            if b + d <= N:\n",
    "                return sign*(sp.S(ix)+divider*sp.S(a+c)/sp.S(b+d))\n",
    "            elif d > b:\n",
    "                return sign*(sp.S(ix)+divider*sp.S(c)/sp.S(d))\n",
    "            else:\n",
    "                return sign*(sp.S(ix)+divider*sp.S(a)/sp.S(b))\n",
    "        elif dx > mediant:\n",
    "            a, b = a+c, b+d\n",
    "        else:\n",
    "            c, d = a+c,b+d\n",
    "    if (b > N):\n",
    "        return sign*(divider*sp.S(c)/sp.S(d) + sp.S(ix))\n",
    "    else:\n",
    "        return sign*(divider*sp.S(a)/sp.S(b) + sp.S(ix))\n",
    "\n",
    "def square_rational_approx(x, N):\n",
    "    '''\n",
    "    Given a number x this algorithm finds the best  rational\n",
    "    approximation to its square, and then returns the signed\n",
    "    square root of that.\n",
    "    '''\n",
    "    if x < 0:\n",
    "        sign = -1\n",
    "        x = -x\n",
    "    else:\n",
    "        sign = 1\n",
    "    y = x*x\n",
    "    return sign*sp.sqrt(rational_approx(y,N))"
   ]
  },
  {
   "cell_type": "code",
   "execution_count": 671,
   "metadata": {},
   "outputs": [
    {
     "name": "stdout",
     "output_type": "stream",
     "text": [
      ".|.|.|.|.|.|.|.|.|.|.|.|.|.|.|.|.|.|.|.|.|.|.|.|.|.|.|.|.|.|.|.|.|.|.|.|.|.|.|.|.|.|.|.|.|.|.|.|.|.|.|.|.|.|.|.|.|.|.|"
     ]
    }
   ],
   "source": [
    "parsed = parse_table('./data/lanthanide_tables/HFEnergyMatrixTables copy 2')"
   ]
  },
  {
   "cell_type": "code",
   "execution_count": 674,
   "metadata": {},
   "outputs": [
    {
     "data": {
      "text/latex": [
       "$\\displaystyle x + y + 2 z$"
      ],
      "text/plain": [
       "x + y + 2*z"
      ]
     },
     "execution_count": 674,
     "metadata": {},
     "output_type": "execute_result"
    }
   ],
   "source": [
    "eval(\"sp.core.add.Add(sp.Symbol('x'), sp.Symbol('y'), sp.core.mul.Mul(2, sp.Symbol('z')))\")"
   ]
  },
  {
   "cell_type": "code",
   "execution_count": 698,
   "metadata": {},
   "outputs": [
    {
     "ename": "TypeError",
     "evalue": "list expected at most 1 argument, got 3",
     "output_type": "error",
     "traceback": [
      "\u001b[0;31m---------------------------------------------------------------------------\u001b[0m",
      "\u001b[0;31mTypeError\u001b[0m                                 Traceback (most recent call last)",
      "\u001b[0;32m<ipython-input-698-86b0f2b7ea1f>\u001b[0m in \u001b[0;36m<module>\u001b[0;34m\u001b[0m\n\u001b[0;32m----> 1\u001b[0;31m \u001b[0mlist\u001b[0m\u001b[0;34m(\u001b[0m\u001b[0;36m1\u001b[0m\u001b[0;34m,\u001b[0m\u001b[0;36m2\u001b[0m\u001b[0;34m,\u001b[0m\u001b[0;36m3\u001b[0m\u001b[0;34m)\u001b[0m\u001b[0;34m\u001b[0m\u001b[0;34m\u001b[0m\u001b[0m\n\u001b[0m",
      "\u001b[0;31mTypeError\u001b[0m: list expected at most 1 argument, got 3"
     ]
    }
   ],
   "source": [
    "list(1,2,3)"
   ]
  },
  {
   "cell_type": "code",
   "execution_count": null,
   "metadata": {},
   "outputs": [],
   "source": []
  },
  {
   "cell_type": "code",
   "execution_count": 702,
   "metadata": {},
   "outputs": [],
   "source": [
    "def SubscriptSymbol(a,b):\n",
    "    return sp.Symbol(\"%s_{%d}\" % (a,int(b)))\n",
    "sp.Rational = lambda x,y: sp.S(x)/sp.S(y)\n",
    "sp.SubscriptSymbol = SubscriptSymbol\n",
    "Pi = sp.pi\n",
    "Complex = lambda x,y: (sp.S(x) + sp.I * sp.S(y))\n",
    "def slist(*args):\n",
    "    return list([*args])"
   ]
  },
  {
   "cell_type": "code",
   "execution_count": 706,
   "metadata": {},
   "outputs": [],
   "source": [
    "mah = eval(\"slist(slist(sp.core.add.Add(sp.core.mul.Mul(sp.Rational(14, \\\n",
    "13), sp.SubscriptSymbol('x', 19)), \\\n",
    "sp.core.mul.Mul(0.6923076923076925, sp.SubscriptSymbol('x', 20)), \\\n",
    "sp.core.mul.Mul(33., sp.SubscriptSymbol('x', 22)), \\\n",
    "sp.core.mul.Mul(sp.Rational(37, 6), sp.SubscriptSymbol('x', 26)), \\\n",
    "sp.core.mul.Mul(sp.Rational(97, 6), sp.SubscriptSymbol('x', 27)), \\\n",
    "sp.core.mul.Mul(sp.Rational(1205, 66), sp.SubscriptSymbol('x', 28)), \\\n",
    "sp.core.mul.Mul(sp.Rational(43, 540), sp.SubscriptSymbol('x', 29)), \\\n",
    "sp.core.mul.Mul(sp.Rational(19, 1188), sp.SubscriptSymbol('x', 30)), \\\n",
    "sp.core.mul.Mul(sp.Rational(-875, 15444), sp.SubscriptSymbol('x', \\\n",
    "31)), sp.core.mul.Mul(2, sp.SubscriptSymbol('x', 44)), \\\n",
    "sp.SubscriptSymbol('x', 45), sp.core.mul.Mul(sp.Rational(1, 2), \\\n",
    "sp.SubscriptSymbol('x', 6), sp.SubscriptSymbol('x', 24), \\\n",
    "sp.SubscriptSymbol('x', 47)), sp.SubscriptSymbol('x', 48), \\\n",
    "sp.core.mul.Mul(-1, sp.SubscriptSymbol('x', 49))), \\\n",
    "sp.core.add.Add(sp.core.mul.Mul(sp.Rational(-1, 2), \\\n",
    "sp.SubscriptSymbol('x', 4), sp.SubscriptSymbol('x', 24), \\\n",
    "sp.SubscriptSymbol('x', 47)), sp.core.mul.Mul(Complex(0, \\\n",
    "sp.Rational(1, 2)), sp.SubscriptSymbol('x', 5), \\\n",
    "sp.SubscriptSymbol('x', 24), sp.SubscriptSymbol('x', 47))), \\\n",
    "sp.core.add.Add(sp.core.mul.Mul(-17, sp.core.power.Pow(3, \\\n",
    "sp.Rational(-1, 2)), sp.SubscriptSymbol('x', 26)), \\\n",
    "sp.core.mul.Mul(-1, sp.core.power.Pow(3, sp.Rational(-1, 2)), \\\n",
    "sp.SubscriptSymbol('x', 27)), sp.core.mul.Mul(sp.Rational(-5, 11), \\\n",
    "sp.core.power.Pow(3, sp.Rational(-1, 2)), sp.SubscriptSymbol('x', \\\n",
    "28)), sp.core.mul.Mul(sp.Rational(49, 90), sp.core.power.Pow(3, \\\n",
    "sp.Rational(-1, 2)), sp.SubscriptSymbol('x', 29)), \\\n",
    "sp.core.mul.Mul(sp.Rational(49, 198), sp.core.power.Pow(3, \\\n",
    "sp.Rational(-1, 2)), sp.SubscriptSymbol('x', 30)), \\\n",
    "sp.core.mul.Mul(sp.Rational(175, 2574), sp.core.power.Pow(3, \\\n",
    "sp.Rational(-1, 2)), sp.SubscriptSymbol('x', 31)), \\\n",
    "sp.core.mul.Mul(-2, sp.core.power.Pow(3, sp.Rational(1, 2)), \\\n",
    "sp.SubscriptSymbol('x', 49))), 0), \\\n",
    "slist(sp.core.add.Add(sp.core.mul.Mul(sp.Rational(-1, 2), \\\n",
    "sp.SubscriptSymbol('x', 4), sp.SubscriptSymbol('x', 24), \\\n",
    "sp.SubscriptSymbol('x', 47)), sp.core.mul.Mul(Complex(0, \\\n",
    "sp.Rational(-1, 2)), sp.SubscriptSymbol('x', 5), \\\n",
    "sp.SubscriptSymbol('x', 24), sp.SubscriptSymbol('x', 47))), \\\n",
    "sp.core.add.Add(sp.core.mul.Mul(sp.Rational(14, 13), \\\n",
    "sp.SubscriptSymbol('x', 19)), sp.core.mul.Mul(0.6923076923076925, \\\n",
    "sp.SubscriptSymbol('x', 20)), sp.core.mul.Mul(33., \\\n",
    "sp.SubscriptSymbol('x', 22)), sp.core.mul.Mul(sp.Rational(37, 6), \\\n",
    "sp.SubscriptSymbol('x', 26)), sp.core.mul.Mul(sp.Rational(97, 6), \\\n",
    "sp.SubscriptSymbol('x', 27)), sp.core.mul.Mul(sp.Rational(1205, 66), \\\n",
    "sp.SubscriptSymbol('x', 28)), sp.core.mul.Mul(sp.Rational(43, 540), \\\n",
    "sp.SubscriptSymbol('x', 29)), sp.core.mul.Mul(sp.Rational(19, 1188), \\\n",
    "sp.SubscriptSymbol('x', 30)), sp.core.mul.Mul(sp.Rational(-875, \\\n",
    "15444), sp.SubscriptSymbol('x', 31)), sp.core.mul.Mul(2, \\\n",
    "sp.SubscriptSymbol('x', 44)), sp.SubscriptSymbol('x', 45), \\\n",
    "sp.core.mul.Mul(sp.Rational(-1, 2), sp.SubscriptSymbol('x', 6), \\\n",
    "sp.SubscriptSymbol('x', 24), sp.SubscriptSymbol('x', 47)), \\\n",
    "sp.SubscriptSymbol('x', 48), sp.core.mul.Mul(-1, \\\n",
    "sp.SubscriptSymbol('x', 49))), 0, \\\n",
    "sp.core.add.Add(sp.core.mul.Mul(-17, sp.core.power.Pow(3, \\\n",
    "sp.Rational(-1, 2)), sp.SubscriptSymbol('x', 26)), \\\n",
    "sp.core.mul.Mul(-1, sp.core.power.Pow(3, sp.Rational(-1, 2)), \\\n",
    "sp.SubscriptSymbol('x', 27)), sp.core.mul.Mul(sp.Rational(-5, 11), \\\n",
    "sp.core.power.Pow(3, sp.Rational(-1, 2)), sp.SubscriptSymbol('x', \\\n",
    "28)), sp.core.mul.Mul(sp.Rational(49, 90), sp.core.power.Pow(3, \\\n",
    "sp.Rational(-1, 2)), sp.SubscriptSymbol('x', 29)), \\\n",
    "sp.core.mul.Mul(sp.Rational(49, 198), sp.core.power.Pow(3, \\\n",
    "sp.Rational(-1, 2)), sp.SubscriptSymbol('x', 30)), \\\n",
    "sp.core.mul.Mul(sp.Rational(175, 2574), sp.core.power.Pow(3, \\\n",
    "sp.Rational(-1, 2)), sp.SubscriptSymbol('x', 31)), \\\n",
    "sp.core.mul.Mul(-2, sp.core.power.Pow(3, sp.Rational(1, 2)), \\\n",
    "sp.SubscriptSymbol('x', 49)))), \\\n",
    "slist(sp.core.add.Add(sp.core.mul.Mul(-17, sp.core.power.Pow(3, \\\n",
    "sp.Rational(-1, 2)), sp.SubscriptSymbol('x', 26)), \\\n",
    "sp.core.mul.Mul(-1, sp.core.power.Pow(3, sp.Rational(-1, 2)), \\\n",
    "sp.SubscriptSymbol('x', 27)), sp.core.mul.Mul(sp.Rational(-5, 11), \\\n",
    "sp.core.power.Pow(3, sp.Rational(-1, 2)), sp.SubscriptSymbol('x', \\\n",
    "28)), sp.core.mul.Mul(sp.Rational(49, 90), sp.core.power.Pow(3, \\\n",
    "sp.Rational(-1, 2)), sp.SubscriptSymbol('x', 29)), \\\n",
    "sp.core.mul.Mul(sp.Rational(49, 198), sp.core.power.Pow(3, \\\n",
    "sp.Rational(-1, 2)), sp.SubscriptSymbol('x', 30)), \\\n",
    "sp.core.mul.Mul(sp.Rational(175, 2574), sp.core.power.Pow(3, \\\n",
    "sp.Rational(-1, 2)), sp.SubscriptSymbol('x', 31)), \\\n",
    "sp.core.mul.Mul(-2, sp.core.power.Pow(3, sp.Rational(1, 2)), \\\n",
    "sp.SubscriptSymbol('x', 49))), 0, \\\n",
    "sp.core.add.Add(sp.core.mul.Mul(sp.Rational(14, 13), \\\n",
    "sp.SubscriptSymbol('x', 19)), sp.core.mul.Mul(9.692307692307692, \\\n",
    "sp.SubscriptSymbol('x', 20)), sp.core.mul.Mul(sp.Rational(1, 2), \\\n",
    "sp.SubscriptSymbol('x', 6), sp.SubscriptSymbol('x', 24), \\\n",
    "sp.SubscriptSymbol('x', 47))), \\\n",
    "sp.core.add.Add(sp.core.mul.Mul(sp.Rational(-1, 2), \\\n",
    "sp.SubscriptSymbol('x', 4), sp.SubscriptSymbol('x', 24), \\\n",
    "sp.SubscriptSymbol('x', 47)), sp.core.mul.Mul(Complex(0, \\\n",
    "sp.Rational(1, 2)), sp.SubscriptSymbol('x', 5), \\\n",
    "sp.SubscriptSymbol('x', 24), sp.SubscriptSymbol('x', 47)))), slist(0, \\\n",
    "sp.core.add.Add(sp.core.mul.Mul(-17, sp.core.power.Pow(3, \\\n",
    "sp.Rational(-1, 2)), sp.SubscriptSymbol('x', 26)), \\\n",
    "sp.core.mul.Mul(-1, sp.core.power.Pow(3, sp.Rational(-1, 2)), \\\n",
    "sp.SubscriptSymbol('x', 27)), sp.core.mul.Mul(sp.Rational(-5, 11), \\\n",
    "sp.core.power.Pow(3, sp.Rational(-1, 2)), sp.SubscriptSymbol('x', \\\n",
    "28)), sp.core.mul.Mul(sp.Rational(49, 90), sp.core.power.Pow(3, \\\n",
    "sp.Rational(-1, 2)), sp.SubscriptSymbol('x', 29)), \\\n",
    "sp.core.mul.Mul(sp.Rational(49, 198), sp.core.power.Pow(3, \\\n",
    "sp.Rational(-1, 2)), sp.SubscriptSymbol('x', 30)), \\\n",
    "sp.core.mul.Mul(sp.Rational(175, 2574), sp.core.power.Pow(3, \\\n",
    "sp.Rational(-1, 2)), sp.SubscriptSymbol('x', 31)), \\\n",
    "sp.core.mul.Mul(-2, sp.core.power.Pow(3, sp.Rational(1, 2)), \\\n",
    "sp.SubscriptSymbol('x', 49))), \\\n",
    "sp.core.add.Add(sp.core.mul.Mul(sp.Rational(-1, 2), \\\n",
    "sp.SubscriptSymbol('x', 4), sp.SubscriptSymbol('x', 24), \\\n",
    "sp.SubscriptSymbol('x', 47)), sp.core.mul.Mul(Complex(0, \\\n",
    "sp.Rational(-1, 2)), sp.SubscriptSymbol('x', 5), \\\n",
    "sp.SubscriptSymbol('x', 24), sp.SubscriptSymbol('x', 47))), \\\n",
    "sp.core.add.Add(sp.core.mul.Mul(sp.Rational(14, 13), \\\n",
    "sp.SubscriptSymbol('x', 19)), sp.core.mul.Mul(9.692307692307692, \\\n",
    "sp.SubscriptSymbol('x', 20)), sp.core.mul.Mul(sp.Rational(-1, 2), \\\n",
    "sp.SubscriptSymbol('x', 6), sp.SubscriptSymbol('x', 24), \\\n",
    "sp.SubscriptSymbol('x', 47)))))\")"
   ]
  },
  {
   "cell_type": "code",
   "execution_count": 707,
   "metadata": {},
   "outputs": [
    {
     "data": {
      "text/latex": [
       "$\\displaystyle \\left[\\begin{matrix}\\frac{14 x_{19}}{13} + 0.692307692307693 x_{20} + 33.0 x_{22} + \\frac{x_{24} x_{47} x_{6}}{2} + \\frac{37 x_{26}}{6} + \\frac{97 x_{27}}{6} + \\frac{1205 x_{28}}{66} + \\frac{43 x_{29}}{540} + \\frac{19 x_{30}}{1188} - \\frac{875 x_{31}}{15444} + 2 x_{44} + x_{45} + x_{48} - x_{49} & - \\frac{x_{24} x_{47} x_{4}}{2} + \\frac{i x_{24} x_{47} x_{5}}{2} & - \\frac{17 \\sqrt{3} x_{26}}{3} - \\frac{\\sqrt{3} x_{27}}{3} - \\frac{5 \\sqrt{3} x_{28}}{33} + \\frac{49 \\sqrt{3} x_{29}}{270} + \\frac{49 \\sqrt{3} x_{30}}{594} + \\frac{175 \\sqrt{3} x_{31}}{7722} - 2 \\sqrt{3} x_{49} & 0\\\\- \\frac{x_{24} x_{47} x_{4}}{2} - \\frac{i x_{24} x_{47} x_{5}}{2} & \\frac{14 x_{19}}{13} + 0.692307692307693 x_{20} + 33.0 x_{22} - \\frac{x_{24} x_{47} x_{6}}{2} + \\frac{37 x_{26}}{6} + \\frac{97 x_{27}}{6} + \\frac{1205 x_{28}}{66} + \\frac{43 x_{29}}{540} + \\frac{19 x_{30}}{1188} - \\frac{875 x_{31}}{15444} + 2 x_{44} + x_{45} + x_{48} - x_{49} & 0 & - \\frac{17 \\sqrt{3} x_{26}}{3} - \\frac{\\sqrt{3} x_{27}}{3} - \\frac{5 \\sqrt{3} x_{28}}{33} + \\frac{49 \\sqrt{3} x_{29}}{270} + \\frac{49 \\sqrt{3} x_{30}}{594} + \\frac{175 \\sqrt{3} x_{31}}{7722} - 2 \\sqrt{3} x_{49}\\\\- \\frac{17 \\sqrt{3} x_{26}}{3} - \\frac{\\sqrt{3} x_{27}}{3} - \\frac{5 \\sqrt{3} x_{28}}{33} + \\frac{49 \\sqrt{3} x_{29}}{270} + \\frac{49 \\sqrt{3} x_{30}}{594} + \\frac{175 \\sqrt{3} x_{31}}{7722} - 2 \\sqrt{3} x_{49} & 0 & \\frac{14 x_{19}}{13} + 9.69230769230769 x_{20} + \\frac{x_{24} x_{47} x_{6}}{2} & - \\frac{x_{24} x_{47} x_{4}}{2} + \\frac{i x_{24} x_{47} x_{5}}{2}\\\\0 & - \\frac{17 \\sqrt{3} x_{26}}{3} - \\frac{\\sqrt{3} x_{27}}{3} - \\frac{5 \\sqrt{3} x_{28}}{33} + \\frac{49 \\sqrt{3} x_{29}}{270} + \\frac{49 \\sqrt{3} x_{30}}{594} + \\frac{175 \\sqrt{3} x_{31}}{7722} - 2 \\sqrt{3} x_{49} & - \\frac{x_{24} x_{47} x_{4}}{2} - \\frac{i x_{24} x_{47} x_{5}}{2} & \\frac{14 x_{19}}{13} + 9.69230769230769 x_{20} - \\frac{x_{24} x_{47} x_{6}}{2}\\end{matrix}\\right]$"
      ],
      "text/plain": [
       "Matrix([\n",
       "[14*x_{19}/13 + 0.692307692307693*x_{20} + 33.0*x_{22} + x_{24}*x_{47}*x_{6}/2 + 37*x_{26}/6 + 97*x_{27}/6 + 1205*x_{28}/66 + 43*x_{29}/540 + 19*x_{30}/1188 - 875*x_{31}/15444 + 2*x_{44} + x_{45} + x_{48} - x_{49},                                                                                                                                                                     -x_{24}*x_{47}*x_{4}/2 + I*x_{24}*x_{47}*x_{5}/2, -17*sqrt(3)*x_{26}/3 - sqrt(3)*x_{27}/3 - 5*sqrt(3)*x_{28}/33 + 49*sqrt(3)*x_{29}/270 + 49*sqrt(3)*x_{30}/594 + 175*sqrt(3)*x_{31}/7722 - 2*sqrt(3)*x_{49},                                                                                                                                                          0],\n",
       "[                                                                                                                                                                    -x_{24}*x_{47}*x_{4}/2 - I*x_{24}*x_{47}*x_{5}/2, 14*x_{19}/13 + 0.692307692307693*x_{20} + 33.0*x_{22} - x_{24}*x_{47}*x_{6}/2 + 37*x_{26}/6 + 97*x_{27}/6 + 1205*x_{28}/66 + 43*x_{29}/540 + 19*x_{30}/1188 - 875*x_{31}/15444 + 2*x_{44} + x_{45} + x_{48} - x_{49},                                                                                                                                                          0, -17*sqrt(3)*x_{26}/3 - sqrt(3)*x_{27}/3 - 5*sqrt(3)*x_{28}/33 + 49*sqrt(3)*x_{29}/270 + 49*sqrt(3)*x_{30}/594 + 175*sqrt(3)*x_{31}/7722 - 2*sqrt(3)*x_{49}],\n",
       "[                                                          -17*sqrt(3)*x_{26}/3 - sqrt(3)*x_{27}/3 - 5*sqrt(3)*x_{28}/33 + 49*sqrt(3)*x_{29}/270 + 49*sqrt(3)*x_{30}/594 + 175*sqrt(3)*x_{31}/7722 - 2*sqrt(3)*x_{49},                                                                                                                                                                                                                    0,                                                                                             14*x_{19}/13 + 9.69230769230769*x_{20} + x_{24}*x_{47}*x_{6}/2,                                                                                                           -x_{24}*x_{47}*x_{4}/2 + I*x_{24}*x_{47}*x_{5}/2],\n",
       "[                                                                                                                                                                                                                   0,                                                           -17*sqrt(3)*x_{26}/3 - sqrt(3)*x_{27}/3 - 5*sqrt(3)*x_{28}/33 + 49*sqrt(3)*x_{29}/270 + 49*sqrt(3)*x_{30}/594 + 175*sqrt(3)*x_{31}/7722 - 2*sqrt(3)*x_{49},                                                                                                           -x_{24}*x_{47}*x_{4}/2 - I*x_{24}*x_{47}*x_{5}/2,                                                                                             14*x_{19}/13 + 9.69230769230769*x_{20} - x_{24}*x_{47}*x_{6}/2]])"
      ]
     },
     "execution_count": 707,
     "metadata": {},
     "output_type": "execute_result"
    }
   ],
   "source": [
    "sp.Matrix(mah)"
   ]
  },
  {
   "cell_type": "code",
   "execution_count": 676,
   "metadata": {},
   "outputs": [
    {
     "ename": "SyntaxError",
     "evalue": "invalid syntax (<string>, line 1)",
     "output_type": "error",
     "traceback": [
      "Traceback \u001b[0;36m(most recent call last)\u001b[0m:\n",
      "  File \u001b[1;32m\"/Users/juan/opt/anaconda3/envs/qdef3p8/lib/python3.8/site-packages/IPython/core/interactiveshell.py\"\u001b[0m, line \u001b[1;32m3444\u001b[0m, in \u001b[1;35mrun_code\u001b[0m\n    exec(code_obj, self.user_global_ns, self.user_ns)\n",
      "\u001b[0;36m  File \u001b[0;32m\"<ipython-input-676-01c8a7ca3a9d>\"\u001b[0;36m, line \u001b[0;32m1\u001b[0;36m, in \u001b[0;35m<module>\u001b[0;36m\u001b[0m\n\u001b[0;31m    eval(\"sp.core.add.Add(sp.core.mul.Mul(Rational(14, 13), Subscript(x, 19)), \\\u001b[0m\n",
      "\u001b[0;36m  File \u001b[0;32m\"<string>\"\u001b[0;36m, line \u001b[0;32m1\u001b[0m\n\u001b[0;31m    sp.core.add.Add(sp.core.mul.Mul(Rational(14, 13), Subscript(x, 19)), sp.core.mul.Mul(0.6923076923076925`, Subscript(x, 20)), sp.core.mul.Mul(33.`, Subscript(x, 22)), sp.core.mul.Mul(Rational(37, 6), Subscript(x, 26)), sp.core.mul.Mul(Rational(97, 6), Subscript(x, 27)), sp.core.mul.Mul(Rational(1205, 66), Subscript(x, 28)), sp.core.mul.Mul(Rational(43, 540), Subscript(x, 29)), sp.core.mul.Mul(Rational(19, 1188), Subscript(x, 30)), sp.core.mul.Mul(Rational(-875, 15444), Subscript(x, 31)), sp.core.mul.Mul(2, Subscript(x, 44)), Subscript(x, 45), sp.core.mul.Mul(Rational(1, 2), Subscript(x, 6), Subscript(x, 24), Subscript(x, 47)), Subscript(x, 48), sp.core.mul.Mul(-1, Subscript(x, 49)))\u001b[0m\n\u001b[0m                                                                                                           ^\u001b[0m\n\u001b[0;31mSyntaxError\u001b[0m\u001b[0;31m:\u001b[0m invalid syntax\n"
     ]
    }
   ],
   "source": [
    "eval(\"sp.core.add.Add(sp.core.mul.Mul(Rational(14, 13), Subscript(x, 19)), \\\n",
    "sp.core.mul.Mul(0.6923076923076925`, Subscript(x, 20)), \\\n",
    "sp.core.mul.Mul(33.`, Subscript(x, 22)), sp.core.mul.Mul(Rational(37, \\\n",
    "6), Subscript(x, 26)), sp.core.mul.Mul(Rational(97, 6), Subscript(x, \\\n",
    "27)), sp.core.mul.Mul(Rational(1205, 66), Subscript(x, 28)), \\\n",
    "sp.core.mul.Mul(Rational(43, 540), Subscript(x, 29)), \\\n",
    "sp.core.mul.Mul(Rational(19, 1188), Subscript(x, 30)), \\\n",
    "sp.core.mul.Mul(Rational(-875, 15444), Subscript(x, 31)), \\\n",
    "sp.core.mul.Mul(2, Subscript(x, 44)), Subscript(x, 45), \\\n",
    "sp.core.mul.Mul(Rational(1, 2), Subscript(x, 6), Subscript(x, 24), \\\n",
    "Subscript(x, 47)), Subscript(x, 48), sp.core.mul.Mul(-1, Subscript(x, \\\n",
    "49)))\")"
   ]
  },
  {
   "cell_type": "code",
   "execution_count": 668,
   "metadata": {},
   "outputs": [
    {
     "name": "stdout",
     "output_type": "stream",
     "text": [
      "\u001b[31mHFEnergyMatrixTables\u001b[m\u001b[m        \u001b[31mHFEnergyMatrixTables copy 2\u001b[m\u001b[m\n",
      "\u001b[31mHFEnergyMatrixTables copy\u001b[m\u001b[m   \u001b[31mfirst_table.pkl\u001b[m\u001b[m\n"
     ]
    }
   ],
   "source": [
    "!ls ./data/lanthanide_tables/"
   ]
  },
  {
   "cell_type": "markdown",
   "metadata": {},
   "source": [
    "# Parsing the CForm"
   ]
  },
  {
   "cell_type": "code",
   "execution_count": 662,
   "metadata": {},
   "outputs": [],
   "source": [
    "import re\n",
    "from sympy.parsing.latex import parse_latex\n",
    "import sympy as sp\n",
    "from wolframclient.evaluation import WolframLanguageSession\n",
    "from wolframclient.language import wl\n",
    "import pickle\n",
    "from random import random\n",
    "from math import log10, floor\n",
    "\n",
    "session=WolframLanguageSession()\n",
    "\n",
    "session.evaluate(r'''vars = {B02, B04, B06, B0x, B0y, B0z, B12, B14, B16, B22, B24, B26, \n",
    "   B34, B36, B44, B46, B56, B66, E0, E1, E2, E3, eOrbitalRad, gI, gs, \n",
    "   M0, M2, M4, P2, P4, P6, S12, S14, S16, S22, S24, S26, S34, S36, \n",
    "   S44, S46, S56, \n",
    "   S66, \\[Alpha], \\[Beta], \\[Beta]BohrMag, \\[Beta]n, \\[Gamma], \\\n",
    "\\[Zeta]};\n",
    "svars = Table[\n",
    "   ToExpression[SubscriptBox[\"x\", ToString[i]]], {i, 1, Length[vars]}];\n",
    "reps = (#[[1]] -> #[[2]]) & /@ Transpose[{vars, svars}];\n",
    "ParseSymbol[thing_] :=\n",
    " (str = ToString[Chop[thing] /. reps, CForm];\n",
    "  Return[str]\n",
    "  )''')\n",
    "\n",
    "# NB: The order here needs to match the order\n",
    "# of variable assignment in Mathematica\n",
    "\n",
    "base_rep=[\n",
    "('B02',sp.Symbol('B_{0,2}')),('B04',sp.Symbol('B_{0,4}')),\n",
    "('B06',sp.Symbol('B_{0,6}')),('B0x',sp.Symbol('B_{0,x}')),\n",
    "('B0y',sp.Symbol('B_{0,y}')),('B0z',sp.Symbol('B_{0,z}')),\n",
    "('B12',sp.Symbol('B_{1,2}')),('B14',sp.Symbol('B_{1,4}')),\n",
    "('B16',sp.Symbol('B_{1,6}')),('B22',sp.Symbol('B_{2,2}')),\n",
    "('B24',sp.Symbol('B_{2,4}')),('B26',sp.Symbol('B_{2,6}')),\n",
    "('B34',sp.Symbol('B_{3,4}')),('B36',sp.Symbol('B_{3,6}')),\n",
    "('B44',sp.Symbol('B_{4,4}')),('B46',sp.Symbol('B_{4,6}')),\n",
    "('B56',sp.Symbol('B_{5,6}')),('B66',sp.Symbol('B_{6,6}')),\n",
    "('E0',sp.Symbol('E_{0}')),('E1',sp.Symbol('E_{1}')),\n",
    "('E2',sp.Symbol('E_{2}')),('E3',sp.Symbol('E_{3}')),\n",
    "('eOrbitalRad',sp.Symbol(r'\\epsilon')),('gI',sp.Symbol('g_{I}')),\n",
    "('gs',sp.Symbol('g_{s}')),('M0',sp.Symbol('M_{0}')),\n",
    "('M2',sp.Symbol('M_{2}')),('M4',sp.Symbol('M_{4}')),\n",
    "('P2',sp.Symbol('P_{2}')),('P4',sp.Symbol('P_{4}')),\n",
    "('P6',sp.Symbol('P_{6}')),('S12',sp.Symbol('S_{1,2}')),\n",
    "('S14',sp.Symbol('S_{1,4}')),('S16',sp.Symbol('S_{1,6}')),\n",
    "('S22',sp.Symbol('S_{2,2}')),('S24',sp.Symbol('S_{2,4}')),\n",
    "('S26',sp.Symbol('S_{2,6}')),('S34',sp.Symbol('S_{3,4}')),\n",
    "('S36',sp.Symbol('S_{3,6}')),('S44',sp.Symbol('S_{4,4}')),\n",
    "('S46',sp.Symbol('S_{4,6}')),('S56',sp.Symbol('S_{5,6}')),\n",
    "('S66',sp.Symbol('S_{6,6}')),('\\[Alpha]',sp.Symbol(r'\\alpha')),\n",
    "('\\[Beta]',sp.Symbol(r'\\beta')),('\\[Beta]BohrMag',sp.Symbol(r'\\mu_{B,e}')),\n",
    "('\\[Beta]n',sp.Symbol(r'\\mu_{B,n}')),('\\[Gamma]',sp.Symbol(r'\\gamma')),\n",
    "('\\[Zeta]',sp.Symbol(r'\\zeta'))]\n",
    "\n",
    "master_rep = {}\n",
    "for idx, it in enumerate(base_rep):\n",
    "    key = sp.Symbol('x_{%d}' % (idx+1))\n",
    "    master_rep[key] = it[1]\n",
    "inverse_rep = {v:k for k,v in master_rep.items()}"
   ]
  },
  {
   "cell_type": "code",
   "execution_count": 663,
   "metadata": {},
   "outputs": [],
   "source": [
    "def lanthanum_cleanup(fname):\n",
    "    '''\n",
    "    Data  file  might have large redundancies, this opens it and removes\n",
    "    all    redundant   definitions;   it   assumes   that   there's   no\n",
    "    inconsistencies between them, if there is then it fails.\n",
    "    \n",
    "    More  importantly  it puts together all the lines that relate to one\n",
    "    definition in just one string with no newlines. \n",
    "\n",
    "    This is assuming that the file only contains definitions for:\n",
    "       EnergyMatrixTable, AllowedM, and EnergyStatesTable\n",
    "\n",
    "    Parameters\n",
    "    ----------\n",
    "    fname   (str): file name of file to be parsed\n",
    "\n",
    "    Returns\n",
    "    -------\n",
    "    clean_output  (list): a list of strings each with a single definition.\n",
    "    '''\n",
    "    lanthanum = [l.strip().split(' =')[0] for l in open(fname,'r').readlines() if l[0] != ' ']\n",
    "    lanthanum = list(filter(lambda x: x != '', lanthanum))\n",
    "    # this dictionary will have as keys the lhs of definitions\n",
    "    # and as values will be lists of strings that all attempt\n",
    "    # to define this symbol\n",
    "    rhs = {}\n",
    "    full_lanthanum = [l.strip() for l in open(fname,'r').readlines()]\n",
    "    for line_idx, line in enumerate(full_lanthanum):\n",
    "        if line_idx < len(full_lanthanum)-1:\n",
    "            next_line = full_lanthanum[line_idx+1]\n",
    "        if 'Attributes[Null]' in line:\n",
    "            continue\n",
    "        if ('EnergyMatrixTable' in line) or ('AllowedM' in line) or ('EnergyStatesTable' in line):\n",
    "            key = line.split('=')[0].strip()\n",
    "            chunks = []\n",
    "            try:\n",
    "                first_chunk = line.split('=')[1]\n",
    "            except:\n",
    "                first_chunk = ''\n",
    "            chunks.append(first_chunk)\n",
    "            if key not in rhs:\n",
    "                rhs[key] = []\n",
    "            continue\n",
    "        if line == '' or ('EnergyMatrixTable' in next_line) or ('AllowedM' in next_line) or ('EnergyStatesTable' in next_line):\n",
    "            chunks.append(line.strip())\n",
    "            whole_chunk = ''.join(chunks).strip()\n",
    "            if whole_chunk != '':\n",
    "                rhs[key].append(whole_chunk)\n",
    "            chunks = []\n",
    "        else:\n",
    "            chunks.append(line.strip())\n",
    "    # now to see if there are any redundancies\n",
    "    clean_output = []\n",
    "    for k,v in rhs.items():\n",
    "        unique = list(set(v))\n",
    "        assert len(unique) == 1, \"There should be only one, this is a loopy file.\"\n",
    "        unique = unique[0]\n",
    "        out = '%s = %s' % (k, unique)\n",
    "        clean_output.append(out)\n",
    "    return clean_output\n",
    "\n",
    "def parse_it(astr):\n",
    "    astr = cleanup(astr)\n",
    "    return sp.expand((parse_latex(astr)))\n",
    "\n",
    "def cleanup(parse):\n",
    "    '''\n",
    "    Some basic cleanup to avoid some errors\n",
    "    when using parse_latex.\n",
    "    '''\n",
    "    parse = re.sub(r'Subscript\\(x,(\\d{1,2})\\)', r'x_{\\1}', parse)\n",
    "    parse = re.sub(r'Complex\\((.*?),(.*?)\\)',r'(\\1+i*(\\2))',parse)\n",
    "    parse = re.sub(r'Sqrt\\((.*?)\\)', r'sqrt{\\1}', parse).replace('sqrt','\\sqrt').replace('.*','*').replace('.)',')')\n",
    "    parse = re.sub(r'(\\d\\.[\\d]+)e([-]{0,1}\\d)',r'(\\1*10^{\\2})', parse)\n",
    "    parse = parse + ' '\n",
    "    reps = [('. ','')]\n",
    "    for rep in reps:\n",
    "        parse = parse.replace(*rep)\n",
    "    return parse\n",
    "\n",
    "def parse_energy_matrix_table(astr):\n",
    "    '''\n",
    "    Parse a string that contains the definition for a symbolic matrix.\n",
    "\n",
    "    Parameters\n",
    "    ----------\n",
    "    astr    (str): A definition of the sort EnergyMatrixTable[_,_,_,_,_] = {{...},{...},...}\n",
    "\n",
    "    Returns\n",
    "    -------\n",
    "    lhs, parsed_matrix, rhs\n",
    "    lhs                 (str): The LHS of the matrix definition\n",
    "    parsed_matrix (sp.Matrix): The parsed symbolic matrix.\n",
    "    rhs                 (str): The RHS of the matrix definition\n",
    "    '''\n",
    "    lhs = astr.split('= ')[0].strip()\n",
    "    rhs = astr.split('= ')[-1]\n",
    "    # define it in the Mathematica session\n",
    "    session.evaluate(astr)\n",
    "    # get num rows and columns\n",
    "    num_rows, num_cols = tuple(session.evaluate(\"Dimensions[%s]\" % lhs))\n",
    "    parsed_matrix = []\n",
    "    # Iterate through each element and parse it\n",
    "    for num_row in range(1,num_rows+1):\n",
    "        row = []\n",
    "        for num_col in range(1, num_cols+1):\n",
    "            parse = session.evaluate(\"ParseSymbol[%s[[%d,%d]]]\" % (lhs, num_row, num_col))\n",
    "            # Clean up the string before parsing with Sympy\n",
    "            parse = cleanup(parse)\n",
    "            parsed = sp.expand(parse_latex(parse)).subs(sp.Symbol('i'),sp.I)\n",
    "            # The imaginary unit needs to be dealt with separately\n",
    "            parsed = parsed.subs(sp.Symbol('i'),sp.I)\n",
    "            row.append(parsed)\n",
    "        parsed_matrix.append(row)\n",
    "    parsed_matrix = sp.Matrix(parsed_matrix)\n",
    "    return lhs, parsed_matrix, rhs\n",
    "\n",
    "def parse_allowed_m(astr):\n",
    "    lhs = astr.split('= ')[0].strip()\n",
    "    rhs = astr.split('= ')[-1]\n",
    "    # define it in the Mathematica session\n",
    "    session.evaluate(astr)\n",
    "    # get num rows\n",
    "    num_lists = tuple(session.evaluate(\"Dimensions[%s]\" % lhs))[0]\n",
    "    M_value = int(lhs.split('[')[-1].split(']')[0])\n",
    "    rows = []\n",
    "    for list_index in range(1,num_lists+1):\n",
    "        the_list = session.evaluate(\"%s[[%d]]\" % (lhs, list_index))\n",
    "        try:\n",
    "            the_row = [sp.S(x[0])/sp.S(x[1]) for x in the_list]\n",
    "        except:\n",
    "            the_row = [sp.S(x) for x in the_list]\n",
    "        rows.append(the_row)\n",
    "    return M_value, rows  \n",
    "\n",
    "def parse_energy_states_table(astr):\n",
    "    lhs = astr.split('= ')[0].strip()\n",
    "    rhs = astr.split('= ')[-1]\n",
    "    # define it in the Mathematica session\n",
    "    session.evaluate(astr)\n",
    "    # get num rows\n",
    "    num_rows, num_cols = tuple(session.evaluate(\"Dimensions[%s]\" % lhs))\n",
    "    parsed_matrix = []\n",
    "    rows = []\n",
    "    for num_row in range(1,num_rows+1):\n",
    "        head = session.evaluate(\"%s[[%d]][[-1]]\" % (lhs, num_row))\n",
    "        try:\n",
    "            head = sp.S(head[0])/sp.S(head[1])\n",
    "        except:\n",
    "            head = sp.S(head)\n",
    "        thorax = session.evaluate(\"%s[[%d]][[1]][[-1]]\" % (lhs, num_row))\n",
    "        try:\n",
    "            thorax = sp.S(thorax[0])/sp.S(thorax[1])\n",
    "        except:\n",
    "            thorax = sp.S(thorax)\n",
    "        knees = session.evaluate(\"%s[[%d]][[1]][[1]]\" % (lhs, num_row))\n",
    "        knees = (str(knees[0]), sp.S(knees[1]))\n",
    "        row = (((knees),thorax),head)\n",
    "        rows.append(row)\n",
    "    args = '(%s)' % lhs.split('[')[-1].split(']')[0]\n",
    "    return sp.S(args), rows\n",
    "\n",
    "def parse_table(fname):\n",
    "    '''\n",
    "    Put everything together to parse\n",
    "    EnergyMatrixTable, EnergyStatesTable, and AllowedM.\n",
    "\n",
    "    Parameters\n",
    "    ----------\n",
    "    fname   (str): Filename of the file with the Mathematica defs.\n",
    "\n",
    "    Returns\n",
    "    -------\n",
    "    {'EnergyMatrixTables': EnergyMatrixTables,\n",
    "     'EnergyStatesTable': EnergyStatesTable,\n",
    "     'AllowedM': AllowedM,\n",
    "     'EnergyMatrixStrings': EnergyMatrixStrings}\n",
    "    with\n",
    "    EnergyMatrixTables    (dict): Keys are tuples () values are symbolic sp.Matrix\n",
    "    EnergyStatesTable     (dict): Keys are tuples () values are lists\n",
    "    AlloweM               (dict): Key is an integer corresponding to __, values are\n",
    "    EnergyMatrixStrings   (dict): Keys are tuples () values are the original strings.\n",
    "\n",
    "    '''\n",
    "    clear_lanthanum = lanthanum_cleanup(fname)\n",
    "    EnergyMatrixTables = {}\n",
    "    EnergyMatrixStrings = {}\n",
    "    counter = 0\n",
    "    for cl in clear_lanthanum:\n",
    "        if 'EnergyMatrixTable' in cl:\n",
    "            print('.',end='|')\n",
    "            pre = cl.split(' =')[0]\n",
    "            # print(pre)\n",
    "            # if pre != \"EnergyMatrixTable[2, 4, 2, 1/2, 1/2]\":\n",
    "            #     continue\n",
    "            parse = parse_energy_matrix_table(cl)\n",
    "            args = sp.S(parse[0].split('[')[-1].split(']')[0])\n",
    "            EnergyMatrixTables[args] = parse[1].subs(master_rep)\n",
    "            EnergyMatrixStrings[args] = parse[2]\n",
    "            counter += 1\n",
    "            # if counter == 5:\n",
    "            #     break\n",
    "    EnergyStatesTable = {}\n",
    "    for cl in clear_lanthanum:\n",
    "        if 'EnergyStatesTable' in cl:\n",
    "            print('.',end='|')\n",
    "            parse = parse_energy_states_table(cl)\n",
    "            args = parse[0]\n",
    "            EnergyStatesTable[args] = parse[1]\n",
    "    AllowedM = {}\n",
    "    for cl in clear_lanthanum:\n",
    "        if 'AllowedM' in cl:\n",
    "            print('.',end='|')\n",
    "            parse = parse_allowed_m(cl)\n",
    "            AllowedM[parse[0]] = parse[1]\n",
    "    return {'EnergyMatrixTables': EnergyMatrixTables,\n",
    "            'EnergyStatesTable': EnergyStatesTable,\n",
    "            'AllowedM': AllowedM,\n",
    "            'EnergyMatrixStrings': EnergyMatrixStrings}\n",
    "\n",
    "def rational_simplify(sympy_expr, N=10000):\n",
    "    '''\n",
    "    Given a sympy expression this function takes it and\n",
    "    finds rational  approximations (perhaps including a\n",
    "    square root).\n",
    "\n",
    "    Example\n",
    "    -------\n",
    "\n",
    "    >> rational_simplify(2.31099*sp.Symbol('x') - 1.14)\n",
    "    >>> 9 * sqrt(546) * x / 91 - sqrt(130)/10\n",
    "    '''\n",
    "    sympy_dict = sympy_expr.as_coefficients_dict()\n",
    "    for k,v in sympy_dict.items():\n",
    "        if isinstance(v, sp.core.numbers.Float):\n",
    "            n = N\n",
    "            simpler = square_rational_approx(v, n)\n",
    "            # If the thing was approximated to zero\n",
    "            # escalate the precision.\n",
    "            while simpler == 0:\n",
    "                n = 10*n\n",
    "                simpler = square_rational_approx(v, n)\n",
    "            sympy_dict[k] = simpler\n",
    "    total = sum([k*v for k,v in sympy_dict.items()])\n",
    "    return total\n",
    "\n",
    "def rational_approx(x, N):\n",
    "    '''\n",
    "    Given  a number x this function returns a fraction\n",
    "    that approximates it with a denominator that could\n",
    "    be as large as N.\n",
    "    '''\n",
    "    if (int(x) == x):\n",
    "        return sp.S(int(x))\n",
    "    sign = 1\n",
    "    if x < 0:\n",
    "        sign = -1\n",
    "        x = -x\n",
    "    if x > 1:\n",
    "        ix, dx = int(x), x - int(x)\n",
    "    else:\n",
    "        ix = 0\n",
    "        dx = x\n",
    "    exponent = -floor(log10(float(dx)))\n",
    "    tens_multiplier = int(exponent-1)\n",
    "    dx = dx*(10**tens_multiplier)\n",
    "    divider = 1/(sp.S(10)**(sp.S(tens_multiplier)))\n",
    "    sign = sign\n",
    "    a, b = 0, 1\n",
    "    c, d = 1, 1\n",
    "    while (b <= N and d <= N):\n",
    "        mediant = float(a+c)/(b+d)\n",
    "        if dx == mediant:\n",
    "            if b + d <= N:\n",
    "                return sign*(sp.S(ix)+divider*sp.S(a+c)/sp.S(b+d))\n",
    "            elif d > b:\n",
    "                return sign*(sp.S(ix)+divider*sp.S(c)/sp.S(d))\n",
    "            else:\n",
    "                return sign*(sp.S(ix)+divider*sp.S(a)/sp.S(b))\n",
    "        elif dx > mediant:\n",
    "            a, b = a+c, b+d\n",
    "        else:\n",
    "            c, d = a+c,b+d\n",
    "    if (b > N):\n",
    "        return sign*(divider*sp.S(c)/sp.S(d) + sp.S(ix))\n",
    "    else:\n",
    "        return sign*(divider*sp.S(a)/sp.S(b) + sp.S(ix))\n",
    "\n",
    "def square_rational_approx(x, N):\n",
    "    '''\n",
    "    Given a number x this algorithm finds the best  rational\n",
    "    approximation to its square, and then returns the signed\n",
    "    square root of that.\n",
    "    '''\n",
    "    if x < 0:\n",
    "        sign = -1\n",
    "        x = -x\n",
    "    else:\n",
    "        sign = 1\n",
    "    y = x*x\n",
    "    return sign*sp.sqrt(rational_approx(y,N))"
   ]
  },
  {
   "cell_type": "code",
   "execution_count": 664,
   "metadata": {},
   "outputs": [],
   "source": []
  },
  {
   "cell_type": "code",
   "execution_count": 665,
   "metadata": {},
   "outputs": [],
   "source": []
  },
  {
   "cell_type": "code",
   "execution_count": 666,
   "metadata": {},
   "outputs": [
    {
     "data": {
      "text/plain": [
       "('EnergyMatrixTable[2, 0, 0, 1/2, 1/2]',\n",
       " Matrix([\n",
       " [14*x_{19}/13 + 0.692307692307693*x_{20} + 33.0*x_{22} + x_{24}*x_{47}*x_{6}/2 + 37*x_{26}/6 + 97*x_{27}/6 + 1205*x_{28}/66 + 43*x_{29}/540 + 19*x_{30}/1188 - 875*x_{31}/15444 + 2*x_{44} + x_{45} + x_{48} - x_{49},                                                                                                                                                                     -x_{24}*x_{47}*x_{4}/2 + I*x_{24}*x_{47}*x_{5}/2, -17*sqrt(3)*x_{26}/3 - sqrt(3)*x_{27}/3 - 5*sqrt(3)*x_{28}/33 + 49*sqrt(3)*x_{29}/270 + 49*sqrt(3)*x_{30}/594 + 175*sqrt(3)*x_{31}/7722 - 2*sqrt(3)*x_{49},                                                                                                                                                          0],\n",
       " [                                                                                                                                                                    -x_{24}*x_{47}*x_{4}/2 - I*x_{24}*x_{47}*x_{5}/2, 14*x_{19}/13 + 0.692307692307693*x_{20} + 33.0*x_{22} - x_{24}*x_{47}*x_{6}/2 + 37*x_{26}/6 + 97*x_{27}/6 + 1205*x_{28}/66 + 43*x_{29}/540 + 19*x_{30}/1188 - 875*x_{31}/15444 + 2*x_{44} + x_{45} + x_{48} - x_{49},                                                                                                                                                          0, -17*sqrt(3)*x_{26}/3 - sqrt(3)*x_{27}/3 - 5*sqrt(3)*x_{28}/33 + 49*sqrt(3)*x_{29}/270 + 49*sqrt(3)*x_{30}/594 + 175*sqrt(3)*x_{31}/7722 - 2*sqrt(3)*x_{49}],\n",
       " [                                                          -17*sqrt(3)*x_{26}/3 - sqrt(3)*x_{27}/3 - 5*sqrt(3)*x_{28}/33 + 49*sqrt(3)*x_{29}/270 + 49*sqrt(3)*x_{30}/594 + 175*sqrt(3)*x_{31}/7722 - 2*sqrt(3)*x_{49},                                                                                                                                                                                                                    0,                                                                                             14*x_{19}/13 + 9.69230769230769*x_{20} + x_{24}*x_{47}*x_{6}/2,                                                                                                           -x_{24}*x_{47}*x_{4}/2 + I*x_{24}*x_{47}*x_{5}/2],\n",
       " [                                                                                                                                                                                                                   0,                                                           -17*sqrt(3)*x_{26}/3 - sqrt(3)*x_{27}/3 - 5*sqrt(3)*x_{28}/33 + 49*sqrt(3)*x_{29}/270 + 49*sqrt(3)*x_{30}/594 + 175*sqrt(3)*x_{31}/7722 - 2*sqrt(3)*x_{49},                                                                                                           -x_{24}*x_{47}*x_{4}/2 - I*x_{24}*x_{47}*x_{5}/2,                                                                                             14*x_{19}/13 + 9.69230769230769*x_{20} - x_{24}*x_{47}*x_{6}/2]]),\n",
       " '{{0. + (14*E0)/13 + 0.6923076923076925*E1 + 33.*E3 + (37*M0)/6 +(97*M2)/6 + (1205*M4)/66 + (43*P2)/540 + (19*P4)/1188 -(875*P6)/15444 + 2*\\\\[Alpha] + \\\\[Beta] + (B0z*gI*\\\\[Beta]n)/2 +\\\\[Gamma] - \\\\[Zeta], -1/2*((B0x - I*B0y)*gI*\\\\[Beta]n),(-17*M0 - M2 - (5*M4)/11 + (49*P2)/90 + (49*P4)/198 + (175*P6)/2574 -6*\\\\[Zeta])/Sqrt[3], 0}, {-1/2*((B0x + I*B0y)*gI*\\\\[Beta]n),0. + (14*E0)/13 + 0.6923076923076925*E1 + 33.*E3 + (37*M0)/6 +(97*M2)/6 + (1205*M4)/66 + (43*P2)/540 + (19*P4)/1188 -(875*P6)/15444 + 2*\\\\[Alpha] + \\\\[Beta] - (B0z*gI*\\\\[Beta]n)/2 +\\\\[Gamma] - \\\\[Zeta], 0, (-17*M0 - M2 - (5*M4)/11 + (49*P2)/90 +(49*P4)/198 + (175*P6)/2574 - 6*\\\\[Zeta])/Sqrt[3]},{(-17*M0 - M2 - (5*M4)/11 + (49*P2)/90 + (49*P4)/198 + (175*P6)/2574 -6*\\\\[Zeta])/Sqrt[3], 0, 0. + (14*E0)/13 + 9.692307692307692*E1 +(B0z*gI*\\\\[Beta]n)/2, -1/2*((B0x - I*B0y)*gI*\\\\[Beta]n)},{0, (-17*M0 - M2 - (5*M4)/11 + (49*P2)/90 + (49*P4)/198 +(175*P6)/2574 - 6*\\\\[Zeta])/Sqrt[3], -1/2*((B0x + I*B0y)*gI*\\\\[Beta]n),0. + (14*E0)/13 + 9.692307692307692*E1 - (B0z*gI*\\\\[Beta]n)/2}}')"
      ]
     },
     "execution_count": 666,
     "metadata": {},
     "output_type": "execute_result"
    }
   ],
   "source": [
    "parse_mathematica_matrix(cl)"
   ]
  },
  {
   "cell_type": "code",
   "execution_count": 655,
   "metadata": {},
   "outputs": [
    {
     "data": {
      "text/plain": [
       "'{{0. + (14*E0)/13 + 0.6923076923076925*E1 + 33.*E3 + (37*M0)/6 +(97*M2)/6 + (1205*M4)/66 + (43*P2)/540 + (19*P4)/1188 -(875*P6)/15444 + 2*\\\\[Alpha] + \\\\[Beta] + (B0z*gI*\\\\[Beta]n)/2 +\\\\[Gamma] - \\\\[Zeta], -1/2*((B0x - I*B0y)*gI*\\\\[Beta]n),(-17*M0 - M2 - (5*M4)/11 + (49*P2)/90 + (49*P4)/198 + (175*P6)/2574 -6*\\\\[Zeta])/Sqrt[3], 0}, {-1/2*((B0x + I*B0y)*gI*\\\\[Beta]n),0. + (14*E0)/13 + 0.6923076923076925*E1 + 33.*E3 + (37*M0)/6 +(97*M2)/6 + (1205*M4)/66 + (43*P2)/540 + (19*P4)/1188 -(875*P6)/15444 + 2*\\\\[Alpha] + \\\\[Beta] - (B0z*gI*\\\\[Beta]n)/2 +\\\\[Gamma] - \\\\[Zeta], 0, (-17*M0 - M2 - (5*M4)/11 + (49*P2)/90 +(49*P4)/198 + (175*P6)/2574 - 6*\\\\[Zeta])/Sqrt[3]},{(-17*M0 - M2 - (5*M4)/11 + (49*P2)/90 + (49*P4)/198 + (175*P6)/2574 -6*\\\\[Zeta])/Sqrt[3], 0, 0. + (14*E0)/13 + 9.692307692307692*E1 +(B0z*gI*\\\\[Beta]n)/2, -1/2*((B0x - I*B0y)*gI*\\\\[Beta]n)},{0, (-17*M0 - M2 - (5*M4)/11 + (49*P2)/90 + (49*P4)/198 +(175*P6)/2574 - 6*\\\\[Zeta])/Sqrt[3], -1/2*((B0x + I*B0y)*gI*\\\\[Beta]n),0. + (14*E0)/13 + 9.692307692307692*E1 - (B0z*gI*\\\\[Beta]n)/2}}'"
      ]
     },
     "execution_count": 655,
     "metadata": {},
     "output_type": "execute_result"
    }
   ],
   "source": [
    "rhs"
   ]
  },
  {
   "cell_type": "code",
   "execution_count": 652,
   "metadata": {},
   "outputs": [
    {
     "name": "stdout",
     "output_type": "stream",
     "text": [
      ".|"
     ]
    },
    {
     "ename": "TypeError",
     "evalue": "not enough arguments for format string",
     "output_type": "error",
     "traceback": [
      "\u001b[0;31m---------------------------------------------------------------------------\u001b[0m",
      "\u001b[0;31mTypeError\u001b[0m                                 Traceback (most recent call last)",
      "\u001b[0;32m<ipython-input-652-e5737bd72a80>\u001b[0m in \u001b[0;36m<module>\u001b[0;34m\u001b[0m\n\u001b[1;32m      8\u001b[0m         \u001b[0;31m# if pre != \"EnergyMatrixTable[2, 4, 2, 1/2, 1/2]\":\u001b[0m\u001b[0;34m\u001b[0m\u001b[0;34m\u001b[0m\u001b[0;34m\u001b[0m\u001b[0m\n\u001b[1;32m      9\u001b[0m         \u001b[0;31m#     continue\u001b[0m\u001b[0;34m\u001b[0m\u001b[0;34m\u001b[0m\u001b[0;34m\u001b[0m\u001b[0m\n\u001b[0;32m---> 10\u001b[0;31m         \u001b[0mparse\u001b[0m \u001b[0;34m=\u001b[0m \u001b[0mparse_mathematica_matrix\u001b[0m\u001b[0;34m(\u001b[0m\u001b[0mcl\u001b[0m\u001b[0;34m)\u001b[0m\u001b[0;34m\u001b[0m\u001b[0;34m\u001b[0m\u001b[0m\n\u001b[0m\u001b[1;32m     11\u001b[0m         \u001b[0margs\u001b[0m \u001b[0;34m=\u001b[0m \u001b[0msp\u001b[0m\u001b[0;34m.\u001b[0m\u001b[0mS\u001b[0m\u001b[0;34m(\u001b[0m\u001b[0mparse\u001b[0m\u001b[0;34m[\u001b[0m\u001b[0;36m0\u001b[0m\u001b[0;34m]\u001b[0m\u001b[0;34m.\u001b[0m\u001b[0msplit\u001b[0m\u001b[0;34m(\u001b[0m\u001b[0;34m'['\u001b[0m\u001b[0;34m)\u001b[0m\u001b[0;34m[\u001b[0m\u001b[0;34m-\u001b[0m\u001b[0;36m1\u001b[0m\u001b[0;34m]\u001b[0m\u001b[0;34m.\u001b[0m\u001b[0msplit\u001b[0m\u001b[0;34m(\u001b[0m\u001b[0;34m']'\u001b[0m\u001b[0;34m)\u001b[0m\u001b[0;34m[\u001b[0m\u001b[0;36m0\u001b[0m\u001b[0;34m]\u001b[0m\u001b[0;34m)\u001b[0m\u001b[0;34m\u001b[0m\u001b[0;34m\u001b[0m\u001b[0m\n\u001b[1;32m     12\u001b[0m         \u001b[0mEnergyMatrixTables\u001b[0m\u001b[0;34m[\u001b[0m\u001b[0margs\u001b[0m\u001b[0;34m]\u001b[0m \u001b[0;34m=\u001b[0m \u001b[0mparse\u001b[0m\u001b[0;34m[\u001b[0m\u001b[0;36m1\u001b[0m\u001b[0;34m]\u001b[0m\u001b[0;34m.\u001b[0m\u001b[0msubs\u001b[0m\u001b[0;34m(\u001b[0m\u001b[0mmaster_rep\u001b[0m\u001b[0;34m)\u001b[0m\u001b[0;34m\u001b[0m\u001b[0;34m\u001b[0m\u001b[0m\n",
      "\u001b[0;32m<ipython-input-651-283e99be1e1e>\u001b[0m in \u001b[0;36mparse_mathematica_matrix\u001b[0;34m(mathematica_matrix_def)\u001b[0m\n\u001b[1;32m     12\u001b[0m         \u001b[0mrow\u001b[0m \u001b[0;34m=\u001b[0m \u001b[0;34m[\u001b[0m\u001b[0;34m]\u001b[0m\u001b[0;34m\u001b[0m\u001b[0;34m\u001b[0m\u001b[0m\n\u001b[1;32m     13\u001b[0m         \u001b[0;32mfor\u001b[0m \u001b[0mnum_col\u001b[0m \u001b[0;32min\u001b[0m \u001b[0mrange\u001b[0m\u001b[0;34m(\u001b[0m\u001b[0;36m1\u001b[0m\u001b[0;34m,\u001b[0m \u001b[0mnum_cols\u001b[0m\u001b[0;34m+\u001b[0m\u001b[0;36m1\u001b[0m\u001b[0;34m)\u001b[0m\u001b[0;34m:\u001b[0m\u001b[0;34m\u001b[0m\u001b[0;34m\u001b[0m\u001b[0m\n\u001b[0;32m---> 14\u001b[0;31m             \u001b[0mparsed\u001b[0m \u001b[0;34m=\u001b[0m \u001b[0mparse_mathematica_expr\u001b[0m\u001b[0;34m(\u001b[0m\u001b[0;34m'%s[[%d,%d]]'\u001b[0m \u001b[0;34m%\u001b[0m \u001b[0;34m(\u001b[0m\u001b[0mlhs\u001b[0m\u001b[0;34m,\u001b[0m \u001b[0mnum_row\u001b[0m\u001b[0;34m,\u001b[0m \u001b[0mnum_col\u001b[0m\u001b[0;34m)\u001b[0m\u001b[0;34m)\u001b[0m\u001b[0;34m\u001b[0m\u001b[0;34m\u001b[0m\u001b[0m\n\u001b[0m\u001b[1;32m     15\u001b[0m             \u001b[0mrow\u001b[0m\u001b[0;34m.\u001b[0m\u001b[0mappend\u001b[0m\u001b[0;34m(\u001b[0m\u001b[0mparsed\u001b[0m\u001b[0;34m)\u001b[0m\u001b[0;34m\u001b[0m\u001b[0;34m\u001b[0m\u001b[0m\n\u001b[1;32m     16\u001b[0m         \u001b[0mparsed_matrix\u001b[0m\u001b[0;34m.\u001b[0m\u001b[0mappend\u001b[0m\u001b[0;34m(\u001b[0m\u001b[0mrow\u001b[0m\u001b[0;34m)\u001b[0m\u001b[0;34m\u001b[0m\u001b[0;34m\u001b[0m\u001b[0m\n",
      "\u001b[0;32m<ipython-input-635-790bd795787b>\u001b[0m in \u001b[0;36mparse_mathematica_expr\u001b[0;34m(mathematica_expression)\u001b[0m\n\u001b[1;32m      1\u001b[0m \u001b[0;32mdef\u001b[0m \u001b[0mparse_mathematica_expr\u001b[0m\u001b[0;34m(\u001b[0m\u001b[0mmathematica_expression\u001b[0m\u001b[0;34m)\u001b[0m\u001b[0;34m:\u001b[0m\u001b[0;34m\u001b[0m\u001b[0;34m\u001b[0m\u001b[0m\n\u001b[0;32m----> 2\u001b[0;31m     session.evaluate('''\n\u001b[0m\u001b[1;32m      3\u001b[0m     \u001b[0mClear\u001b[0m\u001b[0;34m[\u001b[0m\u001b[0mx\u001b[0m\u001b[0;34m]\u001b[0m\u001b[0;34m;\u001b[0m\u001b[0;34m\u001b[0m\u001b[0;34m\u001b[0m\u001b[0m\n\u001b[1;32m      4\u001b[0m     \u001b[0;34m(\u001b[0m\u001b[0;34m*\u001b[0m\u001b[0mexpr\u001b[0m \u001b[0;34m=\u001b[0m \u001b[0mExpand\u001b[0m\u001b[0;34m[\u001b[0m\u001b[0;34m%\u001b[0m\u001b[0ms\u001b[0m\u001b[0;34m[\u001b[0m\u001b[0;34m[\u001b[0m\u001b[0;36m1\u001b[0m\u001b[0;34m,\u001b[0m\u001b[0;36m1\u001b[0m\u001b[0;34m]\u001b[0m\u001b[0;34m]\u001b[0m\u001b[0;34m]\u001b[0m\u001b[0;34m;\u001b[0m\u001b[0;34m*\u001b[0m\u001b[0;34m)\u001b[0m\u001b[0;34m\u001b[0m\u001b[0;34m\u001b[0m\u001b[0m\n\u001b[1;32m      5\u001b[0m     \u001b[0mexpr\u001b[0m \u001b[0;34m=\u001b[0m \u001b[0;34m(\u001b[0m\u001b[0;34m%\u001b[0m\u001b[0ms\u001b[0m\u001b[0;34m)\u001b[0m\u001b[0;34m\u001b[0m\u001b[0;34m\u001b[0m\u001b[0m\n",
      "\u001b[0;31mTypeError\u001b[0m: not enough arguments for format string"
     ]
    }
   ],
   "source": [
    "clear_lanthanum = lanthanum_cleanup('./data/lanthanide_tables/HFEnergyMatrixTables copy 2')\n",
    "EnergyMatrixTables = {}\n",
    "for cl in clear_lanthanum:\n",
    "    if 'EnergyMatrixTable' in cl:\n",
    "        print('.',end='|')\n",
    "        pre = cl.split(' =')[0]\n",
    "        # print(pre)\n",
    "        # if pre != \"EnergyMatrixTable[2, 4, 2, 1/2, 1/2]\":\n",
    "        #     continue\n",
    "        parse = parse_mathematica_matrix(cl)\n",
    "        args = sp.S(parse[0].split('[')[-1].split(']')[0])\n",
    "        EnergyMatrixTables[args] = parse[1].subs(master_rep)\n",
    "        EnergyMatrixStrings[args] = parse[2]\n",
    "        counter += 1\n",
    "        # if counter == 5:\n",
    "        #     break"
   ]
  },
  {
   "cell_type": "code",
   "execution_count": 650,
   "metadata": {},
   "outputs": [
    {
     "ename": "NameError",
     "evalue": "name 'lhs' is not defined",
     "output_type": "error",
     "traceback": [
      "\u001b[0;31m---------------------------------------------------------------------------\u001b[0m",
      "\u001b[0;31mNameError\u001b[0m                                 Traceback (most recent call last)",
      "\u001b[0;32m<ipython-input-650-844bdc038df7>\u001b[0m in \u001b[0;36m<module>\u001b[0;34m\u001b[0m\n\u001b[0;32m----> 1\u001b[0;31m \u001b[0;34m'%s[[%d,%d]]'\u001b[0m \u001b[0;34m%\u001b[0m \u001b[0;34m(\u001b[0m\u001b[0mlhs\u001b[0m\u001b[0;34m,\u001b[0m \u001b[0mnum_row\u001b[0m\u001b[0;34m,\u001b[0m \u001b[0mnum_col\u001b[0m\u001b[0;34m)\u001b[0m\u001b[0;34m\u001b[0m\u001b[0;34m\u001b[0m\u001b[0m\n\u001b[0m",
      "\u001b[0;31mNameError\u001b[0m: name 'lhs' is not defined"
     ]
    }
   ],
   "source": [
    "'%s[[%d,%d]]' % (lhs, num_row, num_col)"
   ]
  },
  {
   "cell_type": "code",
   "execution_count": 552,
   "metadata": {},
   "outputs": [
    {
     "name": "stdout",
     "output_type": "stream",
     "text": [
      "Subscript[x\n"
     ]
    },
    {
     "ename": "UnboundLocalError",
     "evalue": "local variable 'args' referenced before assignment",
     "output_type": "error",
     "traceback": [
      "\u001b[0;31m---------------------------------------------------------------------------\u001b[0m",
      "\u001b[0;31mUnboundLocalError\u001b[0m                         Traceback (most recent call last)",
      "\u001b[0;32m<ipython-input-552-b375eb1423fd>\u001b[0m in \u001b[0;36m<module>\u001b[0;34m\u001b[0m\n\u001b[1;32m      7\u001b[0m     lambda x: 'sp.core.power.Pow(%s; %s)' % (pa(x.groups()[0]), pa(x.groups()[1])), expr1)\n\u001b[1;32m      8\u001b[0m \u001b[0;31m# Parse mul second\u001b[0m\u001b[0;34m\u001b[0m\u001b[0;34m\u001b[0m\u001b[0;34m\u001b[0m\u001b[0m\n\u001b[0;32m----> 9\u001b[0;31m expr3 = re.sub(r'Times\\[(.*?)\\]',\n\u001b[0m\u001b[1;32m     10\u001b[0m     lambda x: 'sp.core.mul.Mul(%s)' % parse_multi(x.group(1)), expr2)\n\u001b[1;32m     11\u001b[0m \u001b[0;31m# Parse add final\u001b[0m\u001b[0;34m\u001b[0m\u001b[0;34m\u001b[0m\u001b[0;34m\u001b[0m\u001b[0m\n",
      "\u001b[0;32m~/opt/anaconda3/envs/qdef3p8/lib/python3.8/re.py\u001b[0m in \u001b[0;36msub\u001b[0;34m(pattern, repl, string, count, flags)\u001b[0m\n\u001b[1;32m    208\u001b[0m     \u001b[0ma\u001b[0m \u001b[0mcallable\u001b[0m\u001b[0;34m,\u001b[0m \u001b[0mit\u001b[0m\u001b[0;31m'\u001b[0m\u001b[0ms\u001b[0m \u001b[0mpassed\u001b[0m \u001b[0mthe\u001b[0m \u001b[0mMatch\u001b[0m \u001b[0mobject\u001b[0m \u001b[0;32mand\u001b[0m \u001b[0mmust\u001b[0m \u001b[0;32mreturn\u001b[0m\u001b[0;34m\u001b[0m\u001b[0;34m\u001b[0m\u001b[0m\n\u001b[1;32m    209\u001b[0m     a replacement string to be used.\"\"\"\n\u001b[0;32m--> 210\u001b[0;31m     \u001b[0;32mreturn\u001b[0m \u001b[0m_compile\u001b[0m\u001b[0;34m(\u001b[0m\u001b[0mpattern\u001b[0m\u001b[0;34m,\u001b[0m \u001b[0mflags\u001b[0m\u001b[0;34m)\u001b[0m\u001b[0;34m.\u001b[0m\u001b[0msub\u001b[0m\u001b[0;34m(\u001b[0m\u001b[0mrepl\u001b[0m\u001b[0;34m,\u001b[0m \u001b[0mstring\u001b[0m\u001b[0;34m,\u001b[0m \u001b[0mcount\u001b[0m\u001b[0;34m)\u001b[0m\u001b[0;34m\u001b[0m\u001b[0;34m\u001b[0m\u001b[0m\n\u001b[0m\u001b[1;32m    211\u001b[0m \u001b[0;34m\u001b[0m\u001b[0m\n\u001b[1;32m    212\u001b[0m \u001b[0;32mdef\u001b[0m \u001b[0msubn\u001b[0m\u001b[0;34m(\u001b[0m\u001b[0mpattern\u001b[0m\u001b[0;34m,\u001b[0m \u001b[0mrepl\u001b[0m\u001b[0;34m,\u001b[0m \u001b[0mstring\u001b[0m\u001b[0;34m,\u001b[0m \u001b[0mcount\u001b[0m\u001b[0;34m=\u001b[0m\u001b[0;36m0\u001b[0m\u001b[0;34m,\u001b[0m \u001b[0mflags\u001b[0m\u001b[0;34m=\u001b[0m\u001b[0;36m0\u001b[0m\u001b[0;34m)\u001b[0m\u001b[0;34m:\u001b[0m\u001b[0;34m\u001b[0m\u001b[0;34m\u001b[0m\u001b[0m\n",
      "\u001b[0;32m<ipython-input-552-b375eb1423fd>\u001b[0m in \u001b[0;36m<lambda>\u001b[0;34m(x)\u001b[0m\n\u001b[1;32m      8\u001b[0m \u001b[0;31m# Parse mul second\u001b[0m\u001b[0;34m\u001b[0m\u001b[0;34m\u001b[0m\u001b[0;34m\u001b[0m\u001b[0m\n\u001b[1;32m      9\u001b[0m expr3 = re.sub(r'Times\\[(.*?)\\]',\n\u001b[0;32m---> 10\u001b[0;31m     lambda x: 'sp.core.mul.Mul(%s)' % parse_multi(x.group(1)), expr2)\n\u001b[0m\u001b[1;32m     11\u001b[0m \u001b[0;31m# Parse add final\u001b[0m\u001b[0;34m\u001b[0m\u001b[0;34m\u001b[0m\u001b[0;34m\u001b[0m\u001b[0m\n\u001b[1;32m     12\u001b[0m expr4 = re.sub(r'Plus\\[(.*?)\\]',\n",
      "\u001b[0;32m<ipython-input-494-f68950a873b7>\u001b[0m in \u001b[0;36mparse_multi\u001b[0;34m(match)\u001b[0m\n\u001b[1;32m      1\u001b[0m \u001b[0;32mdef\u001b[0m \u001b[0mparse_multi\u001b[0m\u001b[0;34m(\u001b[0m\u001b[0mmatch\u001b[0m\u001b[0;34m)\u001b[0m\u001b[0;34m:\u001b[0m\u001b[0;34m\u001b[0m\u001b[0;34m\u001b[0m\u001b[0m\n\u001b[0;32m----> 2\u001b[0;31m     \u001b[0margs\u001b[0m \u001b[0;34m=\u001b[0m \u001b[0mlist\u001b[0m\u001b[0;34m(\u001b[0m\u001b[0mmap\u001b[0m\u001b[0;34m(\u001b[0m\u001b[0mpa\u001b[0m\u001b[0;34m,\u001b[0m\u001b[0mmatch\u001b[0m\u001b[0;34m.\u001b[0m\u001b[0msplit\u001b[0m\u001b[0;34m(\u001b[0m\u001b[0;34m','\u001b[0m\u001b[0;34m)\u001b[0m\u001b[0;34m)\u001b[0m\u001b[0;34m)\u001b[0m\u001b[0;34m\u001b[0m\u001b[0;34m\u001b[0m\u001b[0m\n\u001b[0m\u001b[1;32m      3\u001b[0m     \u001b[0;32mreturn\u001b[0m \u001b[0;34m';'\u001b[0m\u001b[0;34m.\u001b[0m\u001b[0mjoin\u001b[0m\u001b[0;34m(\u001b[0m\u001b[0margs\u001b[0m\u001b[0;34m)\u001b[0m\u001b[0;34m\u001b[0m\u001b[0;34m\u001b[0m\u001b[0m\n",
      "\u001b[0;32m<ipython-input-551-15c202273e94>\u001b[0m in \u001b[0;36mpa\u001b[0;34m(atom)\u001b[0m\n\u001b[1;32m      7\u001b[0m         \u001b[0;32mexcept\u001b[0m\u001b[0;34m:\u001b[0m\u001b[0;34m\u001b[0m\u001b[0;34m\u001b[0m\u001b[0m\n\u001b[1;32m      8\u001b[0m             \u001b[0mprint\u001b[0m\u001b[0;34m(\u001b[0m\u001b[0matom\u001b[0m\u001b[0;34m)\u001b[0m\u001b[0;34m\u001b[0m\u001b[0;34m\u001b[0m\u001b[0m\n\u001b[0;32m----> 9\u001b[0;31m         \u001b[0;32mreturn\u001b[0m \u001b[0;34m'sp.Symbol(\"x_{%s}\")'\u001b[0m \u001b[0;34m%\u001b[0m \u001b[0;34m(\u001b[0m\u001b[0margs\u001b[0m\u001b[0;34m[\u001b[0m\u001b[0;36m1\u001b[0m\u001b[0;34m]\u001b[0m\u001b[0;34m)\u001b[0m\u001b[0;34m\u001b[0m\u001b[0;34m\u001b[0m\u001b[0m\n\u001b[0m\u001b[1;32m     10\u001b[0m     \u001b[0;32mif\u001b[0m \u001b[0;34m'`'\u001b[0m \u001b[0;32min\u001b[0m \u001b[0matom\u001b[0m\u001b[0;34m:\u001b[0m\u001b[0;34m\u001b[0m\u001b[0;34m\u001b[0m\u001b[0m\n\u001b[1;32m     11\u001b[0m         \u001b[0;32mreturn\u001b[0m \u001b[0;34m'sp.Symbol(\"%s\")'\u001b[0m \u001b[0;34m%\u001b[0m \u001b[0;34m(\u001b[0m\u001b[0matom\u001b[0m\u001b[0;34m.\u001b[0m\u001b[0mreplace\u001b[0m\u001b[0;34m(\u001b[0m\u001b[0;34m'`'\u001b[0m\u001b[0;34m,\u001b[0m\u001b[0;34m''\u001b[0m\u001b[0;34m)\u001b[0m\u001b[0;34m)\u001b[0m\u001b[0;34m\u001b[0m\u001b[0;34m\u001b[0m\u001b[0m\n",
      "\u001b[0;31mUnboundLocalError\u001b[0m: local variable 'args' referenced before assignment"
     ]
    }
   ],
   "source": [
    "\n",
    "expr0 = str(expr)\n",
    "# Parse rational first\n",
    "expr1 = re.sub(r'Rational\\[(.*?),(.*?)\\]',\n",
    "    lambda x: 'sp.S(%s) / sp.S(%s)' % (pa(x.groups()[0]), pa(x.groups()[1])), expr0)\n",
    "# Then parse power\n",
    "expr2 = re.sub(r'Power\\[(.*?),(.*?)\\]',\n",
    "    lambda x: 'sp.core.power.Pow(%s; %s)' % (pa(x.groups()[0]), pa(x.groups()[1])), expr1)\n",
    "# Parse mul second\n",
    "expr3 = re.sub(r'Times\\[(.*?)\\]',\n",
    "    lambda x: 'sp.core.mul.Mul(%s)' % parse_multi(x.group(1)), expr2)\n",
    "# Parse add final\n",
    "expr4 = re.sub(r'Plus\\[(.*?)\\]',\n",
    "    lambda x: 'sp.core.add.Add(%s)' % parse_multi(x.group(1)), expr3)\n",
    "exprfinal = expr4.replace(';',',')"
   ]
  },
  {
   "cell_type": "code",
   "execution_count": 503,
   "metadata": {},
   "outputs": [],
   "source": [
    "expr0 = str(expr)\n",
    "# Parse power first\n",
    "expr1 = re.sub(r'Rational\\[(.*?),(.*?)\\]',\n",
    "    lambda x: 'sp.S(%s) / sp.S(%s)' % (pa(x.groups()[0]), pa(x.groups()[1])), expr0)\n",
    "# expr2 = \n",
    "expr2 = re.sub(r'Power\\[(.*?),(.*?)\\]',\n",
    "    lambda x: 'sp.core.power.Pow(%s; %s)' % (pa(x.groups()[0]), pa(x.groups()[1])), expr1)\n",
    "# Parse mul second\n",
    "expr3 = re.sub(r'Times\\[(.*?)\\]',\n",
    "    lambda x: 'sp.core.mul.Mul(%s)' % parse_multi(x.group(1)), expr2)\n",
    "# Parse add final\n",
    "expr4 = re.sub(r'Plus\\[(.*?)\\]',\n",
    "    lambda x: 'sp.core.add.Add(%s)' % parse_multi(x.group(1)), expr3)\n",
    "exprfinal = expr4.replace(';',',')"
   ]
  },
  {
   "cell_type": "code",
   "execution_count": 504,
   "metadata": {},
   "outputs": [
    {
     "data": {
      "text/plain": [
       "'Plus[0., Times[Rational[14, 13], E0], Times[0.6923076923076925, E1], Times[33., E3], Times[Rational[37, 6], M0], Times[Rational[97, 6], M2], Times[Rational[1205, 66], M4], Times[Rational[43, 540], P2], Times[Rational[19, 1188], P4], Times[Rational[-875, 15444], P6], Times[2, \\\\\\\\[Alpha]], \\\\\\\\[Beta], Times[Rational[1, 2], B0z, gI, \\\\\\\\[Beta]n], \\\\\\\\[Gamma], Times[-1, \\\\\\\\[Zeta]]]'"
      ]
     },
     "execution_count": 504,
     "metadata": {},
     "output_type": "execute_result"
    }
   ],
   "source": [
    "expr"
   ]
  },
  {
   "cell_type": "code",
   "execution_count": 505,
   "metadata": {},
   "outputs": [
    {
     "data": {
      "text/plain": [
       "'sp.core.add.Add(0.,sp.core.mul.Mul(sp.S(14) / sp.S(13),E0),sp.core.mul.Mul(0.6923076923076925,E1),sp.core.mul.Mul(33.,E3),sp.core.mul.Mul(sp.S(37) / sp.S(6),M0),sp.core.mul.Mul(sp.S(97) / sp.S(6),M2),sp.core.mul.Mul(sp.S(1205) / sp.S(66),M4),sp.core.mul.Mul(sp.S(43) / sp.S(540),P2),sp.core.mul.Mul(sp.S(19) / sp.S(1188),P4),sp.core.mul.Mul(sp.S(-875) / sp.S(15444),P6),sp.core.mul.Mul(2,\\\\\\\\[Alpha)), \\\\\\\\[Beta], sp.core.mul.Mul(sp.S(1) / sp.S(2),B0z,gI,\\\\\\\\[Beta)n], \\\\\\\\[Gamma], sp.core.mul.Mul(-1,\\\\\\\\[Zeta)]]'"
      ]
     },
     "execution_count": 505,
     "metadata": {},
     "output_type": "execute_result"
    }
   ],
   "source": [
    "exprfinal"
   ]
  },
  {
   "cell_type": "code",
   "execution_count": 506,
   "metadata": {},
   "outputs": [
    {
     "ename": "SyntaxError",
     "evalue": "unexpected character after line continuation character (<string>, line 1)",
     "output_type": "error",
     "traceback": [
      "Traceback \u001b[0;36m(most recent call last)\u001b[0m:\n",
      "  File \u001b[1;32m\"/Users/juan/opt/anaconda3/envs/qdef3p8/lib/python3.8/site-packages/IPython/core/interactiveshell.py\"\u001b[0m, line \u001b[1;32m3444\u001b[0m, in \u001b[1;35mrun_code\u001b[0m\n    exec(code_obj, self.user_global_ns, self.user_ns)\n",
      "\u001b[0;36m  File \u001b[0;32m\"<ipython-input-506-25e517a94052>\"\u001b[0;36m, line \u001b[0;32m1\u001b[0;36m, in \u001b[0;35m<module>\u001b[0;36m\u001b[0m\n\u001b[0;31m    eval(exprfinal)\u001b[0m\n",
      "\u001b[0;36m  File \u001b[0;32m\"<string>\"\u001b[0;36m, line \u001b[0;32m1\u001b[0m\n\u001b[0;31m    sp.core.add.Add(0.,sp.core.mul.Mul(sp.S(14) / sp.S(13),E0),sp.core.mul.Mul(0.6923076923076925,E1),sp.core.mul.Mul(33.,E3),sp.core.mul.Mul(sp.S(37) / sp.S(6),M0),sp.core.mul.Mul(sp.S(97) / sp.S(6),M2),sp.core.mul.Mul(sp.S(1205) / sp.S(66),M4),sp.core.mul.Mul(sp.S(43) / sp.S(540),P2),sp.core.mul.Mul(sp.S(19) / sp.S(1188),P4),sp.core.mul.Mul(sp.S(-875) / sp.S(15444),P6),sp.core.mul.Mul(2,\\\\[Alpha)), \\\\[Beta], sp.core.mul.Mul(sp.S(1) / sp.S(2),B0z,gI,\\\\[Beta)n], \\\\[Gamma], sp.core.mul.Mul(-1,\\\\[Zeta)]]\u001b[0m\n\u001b[0m                                                                                                                                                                                                                                                                                                                                                                                                                                                                                                                          ^\u001b[0m\n\u001b[0;31mSyntaxError\u001b[0m\u001b[0;31m:\u001b[0m unexpected character after line continuation character\n"
     ]
    }
   ],
   "source": [
    "eval(exprfinal)"
   ]
  },
  {
   "cell_type": "code",
   "execution_count": 388,
   "metadata": {},
   "outputs": [],
   "source": [
    "# expr0 = str(expr)\n",
    "# # Parse power first\n",
    "# expr1 = re.sub(r'Rational\\[(.*?),(.*?)\\]',\n",
    "#     lambda x: 'sp.S(%s) / sp.S(%s)' % (pa(x.groups()[0]), pa(x.groups()[1])), expr0)\n",
    "# # expr2 = \n",
    "# expr2 = re.sub(r'Power\\[(.*?),(.*?)\\]',\n",
    "#     lambda x: 'sp.core.power.Pow(%s; %s)' % (pa(x.groups()[0]), pa(x.groups()[1])), expr1)\n",
    "# # Parse mul second\n",
    "# expr3 = re.sub(r'Times\\[(.*?)\\]',\n",
    "#     lambda x: 'sp.core.mul.Mul(%s)' % parse_multi(x.group(1)), expr2)\n",
    "# # Parse add final\n",
    "# expr4 = re.sub(r'Plus\\[(.*?)\\]',\n",
    "#     lambda x: 'sp.core.add.Add(%s)' % parse_multi(x.group(1)), expr3)\n",
    "# exprfinal = expr4.replace(';',',')"
   ]
  },
  {
   "cell_type": "code",
   "execution_count": 389,
   "metadata": {},
   "outputs": [
    {
     "data": {
      "text/plain": [
       "'Plus[1;2;3]'"
      ]
     },
     "execution_count": 389,
     "metadata": {},
     "output_type": "execute_result"
    }
   ],
   "source": [
    "parse_Plus('Plus[1,2,3]')"
   ]
  },
  {
   "cell_type": "code",
   "execution_count": 393,
   "metadata": {},
   "outputs": [
    {
     "data": {
      "text/plain": [
       "'sp.core.add.Add(1;2;3;5;6;7)'"
      ]
     },
     "execution_count": 393,
     "metadata": {},
     "output_type": "execute_result"
    }
   ],
   "source": [
    "re.sub(r'Plus\\[(.*?)]',\n",
    "    lambda x: 'sp.core.add.Add(%s)' % parse_Plus(x.group(1)), 'Plus[1,2,3,5,6,7]')"
   ]
  },
  {
   "cell_type": "code",
   "execution_count": 379,
   "metadata": {},
   "outputs": [
    {
     "data": {
      "text/plain": [
       "'sp.core.mul.Mul(sp.S(1) / sp.S(22); Pi, sp.core.power.Pow(sp.Symbol(\"t\"); -1))'"
      ]
     },
     "execution_count": 379,
     "metadata": {},
     "output_type": "execute_result"
    }
   ],
   "source": [
    "expr3"
   ]
  },
  {
   "cell_type": "code",
   "execution_count": 380,
   "metadata": {},
   "outputs": [
    {
     "data": {
      "text/plain": [
       "'sp.core.mul.Mul(sp.S(1) / sp.S(22); Pi, sp.core.power.Pow(sp.Symbol(\"t\"); -1))'"
      ]
     },
     "execution_count": 380,
     "metadata": {},
     "output_type": "execute_result"
    }
   ],
   "source": [
    "expr4"
   ]
  },
  {
   "cell_type": "code",
   "execution_count": 257,
   "metadata": {},
   "outputs": [
    {
     "ename": "SyntaxError",
     "evalue": "unexpected EOF while parsing (<string>, line 1)",
     "output_type": "error",
     "traceback": [
      "Traceback \u001b[0;36m(most recent call last)\u001b[0m:\n",
      "  File \u001b[1;32m\"/Users/juan/opt/anaconda3/envs/qdef3p8/lib/python3.8/site-packages/IPython/core/interactiveshell.py\"\u001b[0m, line \u001b[1;32m3444\u001b[0m, in \u001b[1;35mrun_code\u001b[0m\n    exec(code_obj, self.user_global_ns, self.user_ns)\n",
      "\u001b[0;36m  File \u001b[0;32m\"<ipython-input-257-459ad2926758>\"\u001b[0;36m, line \u001b[0;32m1\u001b[0;36m, in \u001b[0;35m<module>\u001b[0;36m\u001b[0m\n\u001b[0;31m    eval(expr4)\u001b[0m\n",
      "\u001b[0;36m  File \u001b[0;32m\"<string>\"\u001b[0;36m, line \u001b[0;32m1\u001b[0m\n\u001b[0;31m    sp.core.add.Add(sp.core.mul.Mul(sp.S(1)/sp.S( 45),sp.Symbol(\" e\")), sp.core.mul.Mul(sp.core.power.Pow(2,sp.Symbol(\" sp.S(1)/sp.S( 2)), gamma\")), sp.core.mul.Mul(sp.S(1)/sp.S( 2), sp.core.power.Pow(sp.Symbol(\"u\"), 3), sp.core.power.Pow(sp.Symbol(\"w\"), 2), sp.core.power.Pow(sp.Symbol(\"z\"), 2)))\u001b[0m\n\u001b[0m                                                                                                                                                                                                                                                                                                        ^\u001b[0m\n\u001b[0;31mSyntaxError\u001b[0m\u001b[0;31m:\u001b[0m unexpected EOF while parsing\n"
     ]
    }
   ],
   "source": [
    "eval(expr4)"
   ]
  },
  {
   "cell_type": "code",
   "execution_count": 239,
   "metadata": {},
   "outputs": [
    {
     "data": {
      "text/latex": [
       "$\\displaystyle \\frac{u^{3} w^{2} z^{2}}{2}$"
      ],
      "text/plain": [
       "u**3*w**2*z**2/2"
      ]
     },
     "execution_count": 239,
     "metadata": {},
     "output_type": "execute_result"
    }
   ],
   "source": [
    "eval(expr3)"
   ]
  },
  {
   "cell_type": "code",
   "execution_count": 233,
   "metadata": {},
   "outputs": [
    {
     "data": {
      "text/plain": [
       "'Times[Rational[1, 2], sp.core.power.Pow(sp.Symbol(\"u\"), 3), sp.core.power.Pow(sp.Symbol(\"w\"), 2), sp.core.power.Pow(sp.Symbol(\"z\"), 2)]'"
      ]
     },
     "execution_count": 233,
     "metadata": {},
     "output_type": "execute_result"
    }
   ],
   "source": [
    "expr1"
   ]
  },
  {
   "cell_type": "code",
   "execution_count": 218,
   "metadata": {},
   "outputs": [
    {
     "data": {
      "text/plain": [
       "'Times[Rational[1, 2], sp.core.power.Pow(sp.Symbol(\"u\"), 3), sp.core.power.Pow(sp.Symbol(\"w\"), 2), sp.core.power.Pow(sp.Symbol(\"z\"), 2)]'"
      ]
     },
     "execution_count": 218,
     "metadata": {},
     "output_type": "execute_result"
    }
   ],
   "source": [
    "expr1"
   ]
  },
  {
   "cell_type": "code",
   "execution_count": 217,
   "metadata": {},
   "outputs": [
    {
     "ename": "SyntaxError",
     "evalue": "closing parenthesis ')' does not match opening parenthesis '[' (<string>, line 1)",
     "output_type": "error",
     "traceback": [
      "Traceback \u001b[0;36m(most recent call last)\u001b[0m:\n",
      "  File \u001b[1;32m\"/Users/juan/opt/anaconda3/envs/qdef3p8/lib/python3.8/site-packages/IPython/core/interactiveshell.py\"\u001b[0m, line \u001b[1;32m3444\u001b[0m, in \u001b[1;35mrun_code\u001b[0m\n    exec(code_obj, self.user_global_ns, self.user_ns)\n",
      "\u001b[0;36m  File \u001b[0;32m\"<ipython-input-217-e6d87df39843>\"\u001b[0;36m, line \u001b[0;32m1\u001b[0;36m, in \u001b[0;35m<module>\u001b[0;36m\u001b[0m\n\u001b[0;31m    eval(expr2)\u001b[0m\n",
      "\u001b[0;36m  File \u001b[0;32m\"<string>\"\u001b[0;36m, line \u001b[0;32m1\u001b[0m\n\u001b[0;31m    sp.core.mul.Mul(Rational[1, 2), sp.core.power.Pow(sp.Symbol(\"u\"), 3), sp.core.power.Pow(sp.Symbol(\"w\"), 2), sp.core.power.Pow(sp.Symbol(\"z\"), 2)]\u001b[0m\n\u001b[0m                                 ^\u001b[0m\n\u001b[0;31mSyntaxError\u001b[0m\u001b[0;31m:\u001b[0m closing parenthesis ')' does not match opening parenthesis '['\n"
     ]
    }
   ],
   "source": [
    "eval(expr2)"
   ]
  },
  {
   "cell_type": "code",
   "execution_count": 164,
   "metadata": {},
   "outputs": [],
   "source": [
    "\n",
    "expr1 = (re.sub(r'Power\\[(.*?),(.*?)\\]',\n",
    "    r'sp.core.power.Pow(sp.Symbol(\"\\1\"),\\2)',\n",
    "    expr0))\n",
    "expr2 = (re.sub(r'Times\\[(.*?),(.*?)\\]',\n",
    "    r'sp.core.mul.Mul(\\1,\\2)',\n",
    "    expr1))"
   ]
  },
  {
   "cell_type": "code",
   "execution_count": 165,
   "metadata": {},
   "outputs": [
    {
     "data": {
      "text/plain": [
       "'sp.core.mul.Mul(sp.core.power.Pow(sp.Symbol(\"w\"), 2), z)'"
      ]
     },
     "execution_count": 165,
     "metadata": {},
     "output_type": "execute_result"
    }
   ],
   "source": [
    "expr2"
   ]
  },
  {
   "cell_type": "code",
   "execution_count": 163,
   "metadata": {},
   "outputs": [
    {
     "data": {
      "text/plain": [
       "'Times[sp.core.power.Pow(sp.Symbol(\"w\"), 2), z]'"
      ]
     },
     "execution_count": 163,
     "metadata": {},
     "output_type": "execute_result"
    }
   ],
   "source": [
    "expr1"
   ]
  },
  {
   "cell_type": "code",
   "execution_count": 130,
   "metadata": {},
   "outputs": [
    {
     "data": {
      "text/plain": [
       "sympy.core.power.Pow"
      ]
     },
     "execution_count": 130,
     "metadata": {},
     "output_type": "execute_result"
    }
   ],
   "source": [
    "type(sp.Symbol('x')**2)"
   ]
  },
  {
   "cell_type": "code",
   "execution_count": 131,
   "metadata": {},
   "outputs": [
    {
     "data": {
      "text/plain": [
       "sympy.core.add.Add"
      ]
     },
     "execution_count": 131,
     "metadata": {},
     "output_type": "execute_result"
    }
   ],
   "source": [
    "type(2*sp.Symbol('x')+sp.Symbol('y'))"
   ]
  },
  {
   "cell_type": "code",
   "execution_count": 136,
   "metadata": {},
   "outputs": [
    {
     "data": {
      "text/latex": [
       "$\\displaystyle \\frac{t}{rz}$"
      ],
      "text/plain": [
       "t/rz"
      ]
     },
     "execution_count": 136,
     "metadata": {},
     "output_type": "execute_result"
    }
   ],
   "source": [
    "sp.core.mul.Mul(sp.core.power.Pow(sp.Symbol('rz'),-1),sp.Symbol('t'))"
   ]
  },
  {
   "cell_type": "code",
   "execution_count": 133,
   "metadata": {},
   "outputs": [
    {
     "data": {
      "text/latex": [
       "$\\displaystyle x + y$"
      ],
      "text/plain": [
       "x + y"
      ]
     },
     "execution_count": 133,
     "metadata": {},
     "output_type": "execute_result"
    }
   ],
   "source": [
    "sp.core.add.Add(sp.Symbol('x'),sp.Symbol('y'))"
   ]
  },
  {
   "cell_type": "code",
   "execution_count": 122,
   "metadata": {},
   "outputs": [],
   "source": [
    "lista = session.evaluate('x')"
   ]
  },
  {
   "cell_type": "code",
   "execution_count": 123,
   "metadata": {},
   "outputs": [],
   "source": [
    "expr = str(lista[0][0])"
   ]
  },
  {
   "cell_type": "code",
   "execution_count": 124,
   "metadata": {},
   "outputs": [
    {
     "data": {
      "text/plain": [
       "'Plus[Times[Power[Global`rz, -1], Global`t], Times[Pi, Global`y]]'"
      ]
     },
     "execution_count": 124,
     "metadata": {},
     "output_type": "execute_result"
    }
   ],
   "source": [
    "expr"
   ]
  },
  {
   "cell_type": "code",
   "execution_count": null,
   "metadata": {},
   "outputs": [],
   "source": [
    "\n",
    "expr = expr.replace('')"
   ]
  },
  {
   "cell_type": "code",
   "execution_count": 120,
   "metadata": {},
   "outputs": [
    {
     "data": {
      "text/plain": [
       "'Plus[Times[Power[Global`r, -1], Global`t], Times[Pi, Global`y]]'"
      ]
     },
     "execution_count": 120,
     "metadata": {},
     "output_type": "execute_result"
    }
   ],
   "source": []
  },
  {
   "cell_type": "code",
   "execution_count": 114,
   "metadata": {},
   "outputs": [
    {
     "data": {
      "text/plain": [
       "(Global`t, Global`y)"
      ]
     },
     "execution_count": 114,
     "metadata": {},
     "output_type": "execute_result"
    }
   ],
   "source": [
    "(lista[0][0]).args"
   ]
  },
  {
   "cell_type": "code",
   "execution_count": 92,
   "metadata": {},
   "outputs": [],
   "source": [
    "session.stop()"
   ]
  },
  {
   "cell_type": "code",
   "execution_count": null,
   "metadata": {},
   "outputs": [],
   "source": [
    "parsed_table = parse_table('/Volumes/GoogleDrive/My Drive/Zia Lab/Codebase/qdef/data/lanthanide_tables/HFEnergyMatrixTables copy 2')"
   ]
  },
  {
   "cell_type": "code",
   "execution_count": null,
   "metadata": {},
   "outputs": [],
   "source": [
    "print(\"Simplifying numeric coefficients ...\")\n",
    "for k,v in parsed_table['EnergyMatrixTables'].items():\n",
    "    num_rows = v.rows\n",
    "    num_cols = v.cols\n",
    "    for num_row in range(num_rows):\n",
    "        for num_col in range(num_cols):\n",
    "            v[num_row,num_col] = sp.expand(rational_simplify(v[num_row,num_col]))\n",
    "print(\"Validating parsing by stochastic evaluation ...\")\n",
    "diffs = {}\n",
    "for k,v in parsed_table['EnergyMatrixTables'].items():\n",
    "    free_symbs = v.free_symbols\n",
    "    free_symbs_values = {v: random() for v in free_symbs}\n",
    "    mathematica_values = {inverse_rep[k]:v for k,v in free_symbs_values.items()}\n",
    "    num_try = sp.N(v.subs(free_symbs_values))\n",
    "    energyMatrixString = parsed_table['EnergyMatrixStrings'][k]\n",
    "    mathematica_subs = ', '.join(['Subscript[x,%s] -> %s' % (str(str(k).split('{')[-1].split('}')[0]), str(v)) for k,v in mathematica_values.items()])\n",
    "    mathematica_subs = '{%s}' % mathematica_subs\n",
    "    mathematica_try = sp.Matrix(session.evaluate('Re[Chop[(%s /. reps)] /. %s]' % (energyMatrixString, mathematica_subs))) +\\\n",
    "                 sp.I*sp.Matrix(session.evaluate('Im[Chop[(%s /. reps)] /. %s]' % (energyMatrixString, mathematica_subs))) \n",
    "    diff_mat = (mathematica_try - num_try)\n",
    "    mathematica_norm = mathematica_try.norm()\n",
    "    if mathematica_norm == 0:\n",
    "        diffs[k] = diff_mat.norm()\n",
    "    else:\n",
    "        diffs[k] = diff_mat.norm()/mathematica_norm\n",
    "max_diff = max(diffs.values())\n",
    "print(\"Max difference = {:e}\".format(max_diff))\n",
    "assert(max_diff < 1e-6)"
   ]
  },
  {
   "cell_type": "code",
   "execution_count": 26,
   "metadata": {},
   "outputs": [
    {
     "name": "stdout",
     "output_type": "stream",
     "text": [
      "silence\n"
     ]
    }
   ],
   "source": [
    "!beep silent"
   ]
  },
  {
   "cell_type": "code",
   "execution_count": 37,
   "metadata": {},
   "outputs": [],
   "source": [
    "pickle.dump(parsed_table,open('./data/lanthanide_tables/first_table.pkl','wb'))"
   ]
  },
  {
   "cell_type": "code",
   "execution_count": null,
   "metadata": {},
   "outputs": [],
   "source": [
    "# print(\"Simplifying numeric coefficients ...\")\n",
    "# for k,v in parsed_table['EnergyMatrixTables'].items():\n",
    "#     num_rows = v.rows\n",
    "#     num_cols = v.cols\n",
    "#     for num_row in range(num_rows):\n",
    "#         for num_col in range(num_cols):\n",
    "#             v[num_row,num_col] = sp.simplify(rational_simplify(v[num_row,num_col]))\n",
    "# print(\"Validating parsing by stochastic evaluation ...\")\n",
    "# diffs = {}\n",
    "# for k,v in parsed_table['EnergyMatrixTables'].items():\n",
    "#     free_symbs = v.free_symbols\n",
    "#     free_symbs_values = {v: random() for v in free_symbs}\n",
    "#     mathematica_values = {inverse_rep[k]:v for k,v in free_symbs_values.items()}\n",
    "#     num_try = sp.N(v.subs(free_symbs_values))\n",
    "#     energyMatrixString = parsed_table['EnergyMatrixStrings'][k]\n",
    "#     mathematica_subs = ', '.join(['Subscript[x,%s] -> %s' % (str(str(k).split('{')[-1].split('}')[0]), str(v)) for k,v in mathematica_values.items()])\n",
    "#     mathematica_subs = '{%s}' % mathematica_subs\n",
    "#     mathematica_try = sp.Matrix(session.evaluate('Re[(%s /. reps) /. %s]' % (energyMatrixString, mathematica_subs))) +\\\n",
    "#                  sp.I*sp.Matrix(session.evaluate('Im[(%s /. reps) /. %s]' % (energyMatrixString, mathematica_subs))) \n",
    "#     diff_mat = (mathematica_try - num_try)\n",
    "#     mathematica_norm = mathematica_try.norm()\n",
    "#     if mathematica_norm == 0:\n",
    "#         diffs[k] = diff_mat.norm()\n",
    "#     else:\n",
    "#         diffs[k] = diff_mat.norm()/mathematica_norm\n",
    "# max_diff = max(diffs.values())\n",
    "# print(\"Max difference = {:e}\".format(max_diff))\n",
    "# assert(max_diff < 1e-6)\n"
   ]
  },
  {
   "cell_type": "code",
   "execution_count": 77,
   "metadata": {},
   "outputs": [],
   "source": [
    "# def pairwise(iterable):\n",
    "#     \"s -> (s0, s1), (s2, s3), (s4, s5), ...\"\n",
    "#     a = iter(iterable)\n",
    "#     return zip(a, a)\n",
    "# def FromSympForm(astring):\n",
    "#     lines = astring.split('\\n')\n",
    "#     numVars = int(lines[0])\n",
    "#     intermediate_vars = [sp.Symbol('x_{%d}' % i) for i in range(1,numVars+2)]\n",
    "#     varStrings = lines[1].split(';;')\n",
    "#     # original_vars = [parse_latex(x) for x in varStrings]\n",
    "#     original_vars = [sp.Symbol(x) for x in varStrings]\n",
    "#     translator = dict(zip(intermediate_vars, original_vars))\n",
    "#     expr = sp.S(0)\n",
    "#     for line in (lines[2:]):\n",
    "#         parts = line.split(';;')\n",
    "#         chunk = sp.S(1)\n",
    "#         for a, b in pairwise(parts):\n",
    "#             a = parse_latex(a)\n",
    "#             b = parse_latex(b)\n",
    "#             chunk *= a**b\n",
    "#         expr += chunk\n",
    "#     return expr, translator\n",
    "    \n",
    "\n",
    "\n",
    "# session.evaluate('''\n",
    "# SympyFormer[expr_] := (\n",
    "#    head = Head[expr];\n",
    "#    Which[\n",
    "#     head === Plus,\n",
    "#     Return[SympyFormer /@ List @@ expr],\n",
    "#     head === Real,\n",
    "#     Return[{expr, 1}],\n",
    "#     head === Power,\n",
    "#     Return[List @@ expr],\n",
    "#     head === Times,\n",
    "#     Return[List @@ expr],\n",
    "#     head === Subscript,\n",
    "#     Return[{1, expr}]\n",
    "#     ]\n",
    "#    );\n",
    "# Addendum[list_] := (\n",
    "#    If[NumericQ[list[[1]]],\n",
    "#     Return[list],\n",
    "#     Return[Prepend[list, 1]]]\n",
    "#    );\n",
    "# ToTeX[list_] := (\n",
    "#    numeric = {ToString[list[[1]][[1]], TeXForm], \n",
    "#      ToString[list[[1]][[2]]]};\n",
    "#    symbolic = list[[2 ;;]];\n",
    "#    symbolic = {ToString[#[[1]], TeXForm], \n",
    "#        ToString[#[[2]], TeXForm]} & /@ symbolic;\n",
    "#    Return[{numeric, symbolic}]\n",
    "#    );\n",
    "# Inverter[expr_] := (\n",
    "#   head = Head[expr];\n",
    "#   If[head === Power,\n",
    "#    Return[List @@ expr],\n",
    "#    Return[{expr, 1}]\n",
    "#    ]\n",
    "#   )\n",
    "\n",
    "# SympyForm[expr0_] := (\n",
    "#   If[expr0 === 0,\n",
    "#    Return[\"0\\n\\n0;;1\"]];\n",
    "#   expr = expr0;\n",
    "#   expr = Expand[expr];\n",
    "#   exprVars = Variables[expr];\n",
    "#   newVars = Table[Subscript[x, i], {i, 1, Length[exprVars]}];\n",
    "#   translator = (#[[1]] -> #[[2]]) & /@ \n",
    "#     Transpose[{exprVars, newVars}];\n",
    "#   expr = Chop[expr /. translator];\n",
    "#   sympy = SympyFormer[expr];\n",
    "#   sympy = Addendum /@ sympy;\n",
    "#   sympy = Table[Inverter /@ sp, {sp, sympy}];\n",
    "#   sympy = Flatten[ToTeX[#]] & /@ sympy;\n",
    "#   sympy = Prepend[sympy, ToString[#, TeXForm] & /@ exprVars];\n",
    "#   sympy = Prepend[sympy, {ToString[Length[exprVars]]}];\n",
    "#   sympy = Map[StringJoin[Riffle[#, \";;\"]] &, sympy];\n",
    "#   sympy = StringJoin[Riffle[sympy, \"\\n\"]];\n",
    "#   Return[sympy])\n",
    "# ''')"
   ]
  },
  {
   "cell_type": "code",
   "execution_count": null,
   "metadata": {},
   "outputs": [],
   "source": [
    "# def parse_energy_matrix_table(astr):\n",
    "#     global mercy\n",
    "#     lhs = astr.split('= ')[0].strip()\n",
    "#     rhs = astr.split('= ')[-1]\n",
    "#     # define it in the Mathematica session\n",
    "#     session.evaluate(astr)\n",
    "#     # get num rows\n",
    "#     num_rows, num_cols = tuple(session.evaluate(\"Dimensions[%s]\" % lhs))\n",
    "#     parsed_matrix = []\n",
    "#     for num_row in range(1,num_rows+1):\n",
    "#         row = []\n",
    "#         for num_col in range(1, num_cols+1):\n",
    "#             parse = session.evaluate(\"ParseSymbol[%s[[%d,%d]]]\" % (lhs, num_row, num_col))\n",
    "#             parse = re.sub(r'Subscript\\(x,(\\d{1,2})\\)', r'x_{\\1}', parse)\n",
    "#             parse = re.sub(r'Complex\\((.*?),(.*?)\\)',r'(\\1+i*(\\2))',parse)\n",
    "#             parse = re.sub(r'Sqrt\\((.*?)\\)', r'sqrt{\\1}', parse).replace('sqrt','\\sqrt').replace('.*','*').replace('.)',')')\n",
    "#             parse = re.sub(r'(\\d\\.[\\d]+)e([-]{0,1}\\d)',r'(\\1*10^{\\2})', parse)\n",
    "#             parse = cleanup(parse)\n",
    "#             parsed = sp.expand(parse_latex(parse)).subs(sp.Symbol('i'),sp.I)\n",
    "#             row.append(parsed)\n",
    "#         parsed_matrix.append(row)\n",
    "#     return lhs, sp.Matrix(parsed_matrix), rhs"
   ]
  },
  {
   "cell_type": "code",
   "execution_count": 97,
   "metadata": {},
   "outputs": [
    {
     "name": "stdout",
     "output_type": "stream",
     "text": [
      ".|"
     ]
    }
   ],
   "source": [
    "# for cl in clear_lanthanum:\n",
    "#     if 'EnergyMatrixTable' in cl:\n",
    "#         print('.',end='|')\n",
    "#         lhs = cl.split(' =')[0]\n",
    "#         rhs = cl.split(' =')[1].strip()\n",
    "#         # define the symbol in mathematica\n",
    "#         session.evaluate('%s' % cl)\n",
    "#         num_rows, num_cols = tuple(session.evaluate(\"Dimensions[%s]\" % lhs))\n",
    "#         parsed_matrix = []\n",
    "#         for num_row in range(1,num_rows+1):\n",
    "#             row = []\n",
    "#             for num_col in range(1, num_cols+1):\n",
    "#                 parse = str(session.evaluate(\"SympyForm[%s[[%d,%d]]]\" % (lhs, num_row, num_col)))\n",
    "#                 parse = parse.replace('.;',';')\n",
    "#                 parsed = sp.simplify(FromSympForm(parse)).subs(sp.Symbol('i'),sp.I)\n",
    "#                 row.append(parsed[0])\n",
    "#             parsed_matrix.append(row)\n",
    "#         parsed_matrix = sp.Matrix(parsed_matrix)\n",
    "#         break"
   ]
  },
  {
   "cell_type": "code",
   "execution_count": 99,
   "metadata": {},
   "outputs": [
    {
     "data": {
      "text/latex": [
       "$\\displaystyle \\left[\\begin{matrix}2 x_{10} + x_{11} + \\frac{x_{12} x_{13} x_{14}}{2} + x_{15} - x_{16} + \\frac{14 x_{1}}{13} + 0.692308 x_{2} + 33 x_{3} + \\frac{37 x_{4}}{6} + \\frac{97 x_{5}}{6} + \\frac{1205 x_{6}}{66} + \\frac{43 x_{7}}{540} + \\frac{19 x_{8}}{1188} - \\frac{875 x_{9}}{15444} & - \\frac{x_{1} x_{2} x_{3}}{2} + \\frac{i x_{2} x_{3} x_{4}}{2} & - \\frac{17 \\sqrt{3} x_{1}}{3} - \\frac{\\sqrt{3} x_{2}}{3} - \\frac{5 \\sqrt{3} x_{3}}{33} + \\frac{49 \\sqrt{3} x_{4}}{270} + \\frac{49 \\sqrt{3} x_{5}}{594} + \\frac{175 \\sqrt{3} x_{6}}{7722} - 2 \\sqrt{3} x_{7} & 0\\\\- \\frac{x_{1} x_{2} x_{3}}{2} - \\frac{i x_{2} x_{3} x_{4}}{2} & 2 x_{10} + x_{11} - \\frac{x_{12} x_{13} x_{14}}{2} + x_{15} - x_{16} + \\frac{14 x_{1}}{13} + 0.692308 x_{2} + 33 x_{3} + \\frac{37 x_{4}}{6} + \\frac{97 x_{5}}{6} + \\frac{1205 x_{6}}{66} + \\frac{43 x_{7}}{540} + \\frac{19 x_{8}}{1188} - \\frac{875 x_{9}}{15444} & 0 & - \\frac{17 \\sqrt{3} x_{1}}{3} - \\frac{\\sqrt{3} x_{2}}{3} - \\frac{5 \\sqrt{3} x_{3}}{33} + \\frac{49 \\sqrt{3} x_{4}}{270} + \\frac{49 \\sqrt{3} x_{5}}{594} + \\frac{175 \\sqrt{3} x_{6}}{7722} - 2 \\sqrt{3} x_{7}\\\\- \\frac{17 \\sqrt{3} x_{1}}{3} - \\frac{\\sqrt{3} x_{2}}{3} - \\frac{5 \\sqrt{3} x_{3}}{33} + \\frac{49 \\sqrt{3} x_{4}}{270} + \\frac{49 \\sqrt{3} x_{5}}{594} + \\frac{175 \\sqrt{3} x_{6}}{7722} - 2 \\sqrt{3} x_{7} & 0 & \\frac{14 x_{1}}{13} + 9.69231 x_{2} + \\frac{x_{3} x_{4} x_{5}}{2} & - \\frac{x_{1} x_{2} x_{3}}{2} + \\frac{i x_{2} x_{3} x_{4}}{2}\\\\0 & - \\frac{17 \\sqrt{3} x_{1}}{3} - \\frac{\\sqrt{3} x_{2}}{3} - \\frac{5 \\sqrt{3} x_{3}}{33} + \\frac{49 \\sqrt{3} x_{4}}{270} + \\frac{49 \\sqrt{3} x_{5}}{594} + \\frac{175 \\sqrt{3} x_{6}}{7722} - 2 \\sqrt{3} x_{7} & - \\frac{x_{1} x_{2} x_{3}}{2} - \\frac{i x_{2} x_{3} x_{4}}{2} & \\frac{14 x_{1}}{13} + 9.69231 x_{2} - \\frac{x_{3} x_{4} x_{5}}{2}\\end{matrix}\\right]$"
      ],
      "text/plain": [
       "Matrix([\n",
       "[2*x_{10} + x_{11} + x_{12}*x_{13}*x_{14}/2 + x_{15} - x_{16} + 14*x_{1}/13 + 0.692308*x_{2} + 33*x_{3} + 37*x_{4}/6 + 97*x_{5}/6 + 1205*x_{6}/66 + 43*x_{7}/540 + 19*x_{8}/1188 - 875*x_{9}/15444,                                                                                                                                                      -x_{1}*x_{2}*x_{3}/2 + I*x_{2}*x_{3}*x_{4}/2, -17*sqrt(3)*x_{1}/3 - sqrt(3)*x_{2}/3 - 5*sqrt(3)*x_{3}/33 + 49*sqrt(3)*x_{4}/270 + 49*sqrt(3)*x_{5}/594 + 175*sqrt(3)*x_{6}/7722 - 2*sqrt(3)*x_{7},                                                                                                                                                   0],\n",
       "[                                                                                                                                                     -x_{1}*x_{2}*x_{3}/2 - I*x_{2}*x_{3}*x_{4}/2, 2*x_{10} + x_{11} - x_{12}*x_{13}*x_{14}/2 + x_{15} - x_{16} + 14*x_{1}/13 + 0.692308*x_{2} + 33*x_{3} + 37*x_{4}/6 + 97*x_{5}/6 + 1205*x_{6}/66 + 43*x_{7}/540 + 19*x_{8}/1188 - 875*x_{9}/15444,                                                                                                                                                   0, -17*sqrt(3)*x_{1}/3 - sqrt(3)*x_{2}/3 - 5*sqrt(3)*x_{3}/33 + 49*sqrt(3)*x_{4}/270 + 49*sqrt(3)*x_{5}/594 + 175*sqrt(3)*x_{6}/7722 - 2*sqrt(3)*x_{7}],\n",
       "[                                              -17*sqrt(3)*x_{1}/3 - sqrt(3)*x_{2}/3 - 5*sqrt(3)*x_{3}/33 + 49*sqrt(3)*x_{4}/270 + 49*sqrt(3)*x_{5}/594 + 175*sqrt(3)*x_{6}/7722 - 2*sqrt(3)*x_{7},                                                                                                                                                                                                 0,                                                                                                   14*x_{1}/13 + 9.69231*x_{2} + x_{3}*x_{4}*x_{5}/2,                                                                                                        -x_{1}*x_{2}*x_{3}/2 + I*x_{2}*x_{3}*x_{4}/2],\n",
       "[                                                                                                                                                                                                0,                                               -17*sqrt(3)*x_{1}/3 - sqrt(3)*x_{2}/3 - 5*sqrt(3)*x_{3}/33 + 49*sqrt(3)*x_{4}/270 + 49*sqrt(3)*x_{5}/594 + 175*sqrt(3)*x_{6}/7722 - 2*sqrt(3)*x_{7},                                                                                                        -x_{1}*x_{2}*x_{3}/2 - I*x_{2}*x_{3}*x_{4}/2,                                                                                                   14*x_{1}/13 + 9.69231*x_{2} - x_{3}*x_{4}*x_{5}/2]])"
      ]
     },
     "execution_count": 99,
     "metadata": {},
     "output_type": "execute_result"
    }
   ],
   "source": [
    "parsed_matrix"
   ]
  },
  {
   "cell_type": "code",
   "execution_count": 56,
   "metadata": {},
   "outputs": [
    {
     "data": {
      "text/latex": [
       "$\\displaystyle 10100100000000000000.0 x_{1} + x_{2} + \\frac{0.1 x_{5}}{\\beta} + \\frac{\\cos{\\left(\\xi \\right)}}{\\beta}$"
      ],
      "text/plain": [
       "10100100000000000000.0*x_{1} + x_{2} + 0.1*x_{5}/beta + cos(xi)/beta"
      ]
     },
     "execution_count": 56,
     "metadata": {},
     "output_type": "execute_result"
    }
   ],
   "source": [
    "astring = r'''5\n",
    "\\beta;;\\cos (\\xi );;x_1;;x_2;;x_5\n",
    "1;;1;;x_1;;-1;;x_2;;1\n",
    "1.0100100000000000000\\times 10^{19};;1;;x_3;;1\n",
    "1;;1;;x_4;;1\n",
    "0.1;;1;;x_1;;-1;;x_5;;1'''\n",
    "FromSympForm(astring)"
   ]
  },
  {
   "cell_type": "code",
   "execution_count": 49,
   "metadata": {},
   "outputs": [],
   "source": []
  },
  {
   "cell_type": "code",
   "execution_count": 50,
   "metadata": {},
   "outputs": [
    {
     "data": {
      "text/latex": [
       "$\\displaystyle x_{2} + x_{3} + \\frac{0.1 x_{4}}{x_{1}} + \\frac{5}{x_{1}}$"
      ],
      "text/plain": [
       "x_{2} + x_{3} + 0.1*x_{4}/x_{1} + 5/x_{1}"
      ]
     },
     "execution_count": 50,
     "metadata": {},
     "output_type": "execute_result"
    }
   ],
   "source": []
  },
  {
   "cell_type": "code",
   "execution_count": 34,
   "metadata": {},
   "outputs": [
    {
     "data": {
      "text/plain": [
       "[x_{1}, x_{2}, x_{3}, x_{4}, x_{5}]"
      ]
     },
     "execution_count": 34,
     "metadata": {},
     "output_type": "execute_result"
    }
   ],
   "source": [
    "intermediate_vars"
   ]
  },
  {
   "cell_type": "code",
   "execution_count": 21,
   "metadata": {},
   "outputs": [
    {
     "data": {
      "text/plain": [
       "['1', '1', 'x_3', '-1', 'x_4', '1']"
      ]
     },
     "execution_count": 21,
     "metadata": {},
     "output_type": "execute_result"
    }
   ],
   "source": [
    "parts"
   ]
  },
  {
   "cell_type": "code",
   "execution_count": 18,
   "metadata": {},
   "outputs": [
    {
     "data": {
      "text/plain": [
       "['x_1', 'x_2', '\\\\beta', 'x_5']"
      ]
     },
     "execution_count": 18,
     "metadata": {},
     "output_type": "execute_result"
    }
   ],
   "source": [
    "varStrings"
   ]
  },
  {
   "cell_type": "code",
   "execution_count": 11,
   "metadata": {},
   "outputs": [
    {
     "data": {
      "text/plain": [
       "['4',\n",
       " 'x_1;;x_2;;\\x08eta;;x_5',\n",
       " '1;;1;;x_1;;1',\n",
       " '1;;1;;x_2;;1',\n",
       " '1;;1;;x_3;;-1;;x_4;;1']"
      ]
     },
     "execution_count": 11,
     "metadata": {},
     "output_type": "execute_result"
    }
   ],
   "source": [
    "lines"
   ]
  },
  {
   "cell_type": "code",
   "execution_count": 6,
   "metadata": {},
   "outputs": [
    {
     "data": {
      "text/latex": [
       "$\\displaystyle \\frac{1}{x_{2}}$"
      ],
      "text/plain": [
       "1/x_{2}"
      ]
     },
     "execution_count": 6,
     "metadata": {},
     "output_type": "execute_result"
    }
   ],
   "source": [
    "parse_latex(r'\\frac{1}{x_2}')"
   ]
  },
  {
   "cell_type": "code",
   "execution_count": 4,
   "metadata": {},
   "outputs": [],
   "source": [
    "import numpy as np"
   ]
  },
  {
   "cell_type": "code",
   "execution_count": 46,
   "metadata": {},
   "outputs": [
    {
     "name": "stdout",
     "output_type": "stream",
     "text": [
      "Simplifying numeric coefficients ...\n",
      "Validating parsing by stochastic evaluation ...\n"
     ]
    },
    {
     "name": "stderr",
     "output_type": "stream",
     "text": [
      "/Users/juan/opt/anaconda3/envs/qdef3p8/lib/python3.8/site-packages/sympy/core/sympify.py:456: SymPyDeprecationWarning: \n",
      "\n",
      "String fallback in sympify has been deprecated since SymPy 1.6. Use\n",
      "sympify(str(obj)) or sympy.core.sympify.converter or obj._sympy_\n",
      "instead. See https://github.com/sympy/sympy/issues/18066 for more\n",
      "info.\n",
      "\n",
      "  SymPyDeprecationWarning(\n"
     ]
    },
    {
     "ename": "SympifyError",
     "evalue": "Sympify of expression 'could not parse 'Global`x'' failed, because of exception being raised:\nSyntaxError: invalid syntax (<string>, line 1)",
     "output_type": "error",
     "traceback": [
      "\u001b[0;31m---------------------------------------------------------------------------\u001b[0m",
      "\u001b[0;31mValueError\u001b[0m                                Traceback (most recent call last)",
      "\u001b[0;31mValueError\u001b[0m: Error from parse_expr with transformed code: \"Symbol ('Global' )`Symbol ('x' )\"",
      "\nThe above exception was the direct cause of the following exception:\n",
      "\u001b[0;31mSyntaxError\u001b[0m                               Traceback (most recent call last)",
      "\u001b[0;32m~/opt/anaconda3/envs/qdef3p8/lib/python3.8/site-packages/sympy/core/sympify.py\u001b[0m in \u001b[0;36msympify\u001b[0;34m(a, locals, convert_xor, strict, rational, evaluate)\u001b[0m\n\u001b[1;32m    478\u001b[0m         \u001b[0ma\u001b[0m \u001b[0;34m=\u001b[0m \u001b[0ma\u001b[0m\u001b[0;34m.\u001b[0m\u001b[0mreplace\u001b[0m\u001b[0;34m(\u001b[0m\u001b[0;34m'\\n'\u001b[0m\u001b[0;34m,\u001b[0m \u001b[0;34m''\u001b[0m\u001b[0;34m)\u001b[0m\u001b[0;34m\u001b[0m\u001b[0;34m\u001b[0m\u001b[0m\n\u001b[0;32m--> 479\u001b[0;31m         \u001b[0mexpr\u001b[0m \u001b[0;34m=\u001b[0m \u001b[0mparse_expr\u001b[0m\u001b[0;34m(\u001b[0m\u001b[0ma\u001b[0m\u001b[0;34m,\u001b[0m \u001b[0mlocal_dict\u001b[0m\u001b[0;34m=\u001b[0m\u001b[0mlocals\u001b[0m\u001b[0;34m,\u001b[0m \u001b[0mtransformations\u001b[0m\u001b[0;34m=\u001b[0m\u001b[0mtransformations\u001b[0m\u001b[0;34m,\u001b[0m \u001b[0mevaluate\u001b[0m\u001b[0;34m=\u001b[0m\u001b[0mevaluate\u001b[0m\u001b[0;34m)\u001b[0m\u001b[0;34m\u001b[0m\u001b[0;34m\u001b[0m\u001b[0m\n\u001b[0m\u001b[1;32m    480\u001b[0m     \u001b[0;32mexcept\u001b[0m \u001b[0;34m(\u001b[0m\u001b[0mTokenError\u001b[0m\u001b[0;34m,\u001b[0m \u001b[0mSyntaxError\u001b[0m\u001b[0;34m)\u001b[0m \u001b[0;32mas\u001b[0m \u001b[0mexc\u001b[0m\u001b[0;34m:\u001b[0m\u001b[0;34m\u001b[0m\u001b[0;34m\u001b[0m\u001b[0m\n",
      "\u001b[0;32m~/opt/anaconda3/envs/qdef3p8/lib/python3.8/site-packages/sympy/parsing/sympy_parser.py\u001b[0m in \u001b[0;36mparse_expr\u001b[0;34m(s, local_dict, transformations, global_dict, evaluate)\u001b[0m\n\u001b[1;32m   1017\u001b[0m     \u001b[0;32mexcept\u001b[0m \u001b[0mException\u001b[0m \u001b[0;32mas\u001b[0m \u001b[0me\u001b[0m\u001b[0;34m:\u001b[0m\u001b[0;34m\u001b[0m\u001b[0;34m\u001b[0m\u001b[0m\n\u001b[0;32m-> 1018\u001b[0;31m         \u001b[0;32mraise\u001b[0m \u001b[0me\u001b[0m \u001b[0;32mfrom\u001b[0m \u001b[0mValueError\u001b[0m\u001b[0;34m(\u001b[0m\u001b[0;34mf\"Error from parse_expr with transformed code: {code!r}\"\u001b[0m\u001b[0;34m)\u001b[0m\u001b[0;34m\u001b[0m\u001b[0;34m\u001b[0m\u001b[0m\n\u001b[0m\u001b[1;32m   1019\u001b[0m \u001b[0;34m\u001b[0m\u001b[0m\n",
      "\u001b[0;32m~/opt/anaconda3/envs/qdef3p8/lib/python3.8/site-packages/sympy/parsing/sympy_parser.py\u001b[0m in \u001b[0;36mparse_expr\u001b[0;34m(s, local_dict, transformations, global_dict, evaluate)\u001b[0m\n\u001b[1;32m   1015\u001b[0m     \u001b[0;32mtry\u001b[0m\u001b[0;34m:\u001b[0m\u001b[0;34m\u001b[0m\u001b[0;34m\u001b[0m\u001b[0m\n\u001b[0;32m-> 1016\u001b[0;31m         \u001b[0;32mreturn\u001b[0m \u001b[0meval_expr\u001b[0m\u001b[0;34m(\u001b[0m\u001b[0mcode\u001b[0m\u001b[0;34m,\u001b[0m \u001b[0mlocal_dict\u001b[0m\u001b[0;34m,\u001b[0m \u001b[0mglobal_dict\u001b[0m\u001b[0;34m)\u001b[0m\u001b[0;34m\u001b[0m\u001b[0;34m\u001b[0m\u001b[0m\n\u001b[0m\u001b[1;32m   1017\u001b[0m     \u001b[0;32mexcept\u001b[0m \u001b[0mException\u001b[0m \u001b[0;32mas\u001b[0m \u001b[0me\u001b[0m\u001b[0;34m:\u001b[0m\u001b[0;34m\u001b[0m\u001b[0;34m\u001b[0m\u001b[0m\n",
      "\u001b[0;32m~/opt/anaconda3/envs/qdef3p8/lib/python3.8/site-packages/sympy/parsing/sympy_parser.py\u001b[0m in \u001b[0;36meval_expr\u001b[0;34m(code, local_dict, global_dict)\u001b[0m\n\u001b[1;32m    909\u001b[0m     \"\"\"\n\u001b[0;32m--> 910\u001b[0;31m     expr = eval(\n\u001b[0m\u001b[1;32m    911\u001b[0m         code, global_dict, local_dict)  # take local objects in preference\n",
      "\u001b[0;31mSyntaxError\u001b[0m: invalid syntax (<string>, line 1)",
      "\nDuring handling of the above exception, another exception occurred:\n",
      "\u001b[0;31mSympifyError\u001b[0m                              Traceback (most recent call last)",
      "\u001b[0;32m<ipython-input-46-1612a29d6d49>\u001b[0m in \u001b[0;36m<module>\u001b[0;34m\u001b[0m\n\u001b[1;32m     16\u001b[0m     \u001b[0mmathematica_subs\u001b[0m \u001b[0;34m=\u001b[0m \u001b[0;34m', '\u001b[0m\u001b[0;34m.\u001b[0m\u001b[0mjoin\u001b[0m\u001b[0;34m(\u001b[0m\u001b[0;34m[\u001b[0m\u001b[0;34m'Subscript[x,%s] -> %s'\u001b[0m \u001b[0;34m%\u001b[0m \u001b[0;34m(\u001b[0m\u001b[0mstr\u001b[0m\u001b[0;34m(\u001b[0m\u001b[0mstr\u001b[0m\u001b[0;34m(\u001b[0m\u001b[0mk\u001b[0m\u001b[0;34m)\u001b[0m\u001b[0;34m.\u001b[0m\u001b[0msplit\u001b[0m\u001b[0;34m(\u001b[0m\u001b[0;34m'{'\u001b[0m\u001b[0;34m)\u001b[0m\u001b[0;34m[\u001b[0m\u001b[0;34m-\u001b[0m\u001b[0;36m1\u001b[0m\u001b[0;34m]\u001b[0m\u001b[0;34m.\u001b[0m\u001b[0msplit\u001b[0m\u001b[0;34m(\u001b[0m\u001b[0;34m'}'\u001b[0m\u001b[0;34m)\u001b[0m\u001b[0;34m[\u001b[0m\u001b[0;36m0\u001b[0m\u001b[0;34m]\u001b[0m\u001b[0;34m)\u001b[0m\u001b[0;34m,\u001b[0m \u001b[0mstr\u001b[0m\u001b[0;34m(\u001b[0m\u001b[0mv\u001b[0m\u001b[0;34m)\u001b[0m\u001b[0;34m)\u001b[0m \u001b[0;32mfor\u001b[0m \u001b[0mk\u001b[0m\u001b[0;34m,\u001b[0m\u001b[0mv\u001b[0m \u001b[0;32min\u001b[0m \u001b[0mmathematica_values\u001b[0m\u001b[0;34m.\u001b[0m\u001b[0mitems\u001b[0m\u001b[0;34m(\u001b[0m\u001b[0;34m)\u001b[0m\u001b[0;34m]\u001b[0m\u001b[0;34m)\u001b[0m\u001b[0;34m\u001b[0m\u001b[0;34m\u001b[0m\u001b[0m\n\u001b[1;32m     17\u001b[0m     \u001b[0mmathematica_subs\u001b[0m \u001b[0;34m=\u001b[0m \u001b[0;34m'{%s}'\u001b[0m \u001b[0;34m%\u001b[0m \u001b[0mmathematica_subs\u001b[0m\u001b[0;34m\u001b[0m\u001b[0;34m\u001b[0m\u001b[0m\n\u001b[0;32m---> 18\u001b[0;31m     \u001b[0mmathematica_try\u001b[0m \u001b[0;34m=\u001b[0m \u001b[0msp\u001b[0m\u001b[0;34m.\u001b[0m\u001b[0mMatrix\u001b[0m\u001b[0;34m(\u001b[0m\u001b[0msession\u001b[0m\u001b[0;34m.\u001b[0m\u001b[0mevaluate\u001b[0m\u001b[0;34m(\u001b[0m\u001b[0;34m'Re[(%s /. reps) /. %s]'\u001b[0m \u001b[0;34m%\u001b[0m \u001b[0;34m(\u001b[0m\u001b[0menergyMatrixString\u001b[0m\u001b[0;34m,\u001b[0m \u001b[0mmathematica_subs\u001b[0m\u001b[0;34m)\u001b[0m\u001b[0;34m)\u001b[0m\u001b[0;34m)\u001b[0m \u001b[0;34m+\u001b[0m\u001b[0;31m\\\u001b[0m\u001b[0;34m\u001b[0m\u001b[0;34m\u001b[0m\u001b[0m\n\u001b[0m\u001b[1;32m     19\u001b[0m                  \u001b[0msp\u001b[0m\u001b[0;34m.\u001b[0m\u001b[0mI\u001b[0m\u001b[0;34m*\u001b[0m\u001b[0msp\u001b[0m\u001b[0;34m.\u001b[0m\u001b[0mMatrix\u001b[0m\u001b[0;34m(\u001b[0m\u001b[0msession\u001b[0m\u001b[0;34m.\u001b[0m\u001b[0mevaluate\u001b[0m\u001b[0;34m(\u001b[0m\u001b[0;34m'Im[(%s /. reps) /. %s]'\u001b[0m \u001b[0;34m%\u001b[0m \u001b[0;34m(\u001b[0m\u001b[0menergyMatrixString\u001b[0m\u001b[0;34m,\u001b[0m \u001b[0mmathematica_subs\u001b[0m\u001b[0;34m)\u001b[0m\u001b[0;34m)\u001b[0m\u001b[0;34m)\u001b[0m\u001b[0;34m\u001b[0m\u001b[0;34m\u001b[0m\u001b[0m\n\u001b[1;32m     20\u001b[0m     \u001b[0mdiff_mat\u001b[0m \u001b[0;34m=\u001b[0m \u001b[0;34m(\u001b[0m\u001b[0mmathematica_try\u001b[0m \u001b[0;34m-\u001b[0m \u001b[0mnum_try\u001b[0m\u001b[0;34m)\u001b[0m\u001b[0;34m\u001b[0m\u001b[0;34m\u001b[0m\u001b[0m\n",
      "\u001b[0;32m~/opt/anaconda3/envs/qdef3p8/lib/python3.8/site-packages/sympy/matrices/dense.py\u001b[0m in \u001b[0;36m__new__\u001b[0;34m(cls, *args, **kwargs)\u001b[0m\n\u001b[1;32m    297\u001b[0m \u001b[0;34m\u001b[0m\u001b[0m\n\u001b[1;32m    298\u001b[0m     \u001b[0;32mdef\u001b[0m \u001b[0m__new__\u001b[0m\u001b[0;34m(\u001b[0m\u001b[0mcls\u001b[0m\u001b[0;34m,\u001b[0m \u001b[0;34m*\u001b[0m\u001b[0margs\u001b[0m\u001b[0;34m,\u001b[0m \u001b[0;34m**\u001b[0m\u001b[0mkwargs\u001b[0m\u001b[0;34m)\u001b[0m\u001b[0;34m:\u001b[0m\u001b[0;34m\u001b[0m\u001b[0;34m\u001b[0m\u001b[0m\n\u001b[0;32m--> 299\u001b[0;31m         \u001b[0;32mreturn\u001b[0m \u001b[0mcls\u001b[0m\u001b[0;34m.\u001b[0m\u001b[0m_new\u001b[0m\u001b[0;34m(\u001b[0m\u001b[0;34m*\u001b[0m\u001b[0margs\u001b[0m\u001b[0;34m,\u001b[0m \u001b[0;34m**\u001b[0m\u001b[0mkwargs\u001b[0m\u001b[0;34m)\u001b[0m\u001b[0;34m\u001b[0m\u001b[0;34m\u001b[0m\u001b[0m\n\u001b[0m\u001b[1;32m    300\u001b[0m \u001b[0;34m\u001b[0m\u001b[0m\n\u001b[1;32m    301\u001b[0m     \u001b[0;34m@\u001b[0m\u001b[0mclassmethod\u001b[0m\u001b[0;34m\u001b[0m\u001b[0;34m\u001b[0m\u001b[0m\n",
      "\u001b[0;32m~/opt/anaconda3/envs/qdef3p8/lib/python3.8/site-packages/sympy/matrices/dense.py\u001b[0m in \u001b[0;36m_new\u001b[0;34m(cls, copy, *args, **kwargs)\u001b[0m\n\u001b[1;32m    308\u001b[0m             \u001b[0mrows\u001b[0m\u001b[0;34m,\u001b[0m \u001b[0mcols\u001b[0m\u001b[0;34m,\u001b[0m \u001b[0mflat_list\u001b[0m \u001b[0;34m=\u001b[0m \u001b[0margs\u001b[0m\u001b[0;34m\u001b[0m\u001b[0;34m\u001b[0m\u001b[0m\n\u001b[1;32m    309\u001b[0m         \u001b[0;32melse\u001b[0m\u001b[0;34m:\u001b[0m\u001b[0;34m\u001b[0m\u001b[0;34m\u001b[0m\u001b[0m\n\u001b[0;32m--> 310\u001b[0;31m             \u001b[0mrows\u001b[0m\u001b[0;34m,\u001b[0m \u001b[0mcols\u001b[0m\u001b[0;34m,\u001b[0m \u001b[0mflat_list\u001b[0m \u001b[0;34m=\u001b[0m \u001b[0mcls\u001b[0m\u001b[0;34m.\u001b[0m\u001b[0m_handle_creation_inputs\u001b[0m\u001b[0;34m(\u001b[0m\u001b[0;34m*\u001b[0m\u001b[0margs\u001b[0m\u001b[0;34m,\u001b[0m \u001b[0;34m**\u001b[0m\u001b[0mkwargs\u001b[0m\u001b[0;34m)\u001b[0m\u001b[0;34m\u001b[0m\u001b[0;34m\u001b[0m\u001b[0m\n\u001b[0m\u001b[1;32m    311\u001b[0m             \u001b[0mflat_list\u001b[0m \u001b[0;34m=\u001b[0m \u001b[0mlist\u001b[0m\u001b[0;34m(\u001b[0m\u001b[0mflat_list\u001b[0m\u001b[0;34m)\u001b[0m \u001b[0;31m# create a shallow copy\u001b[0m\u001b[0;34m\u001b[0m\u001b[0;34m\u001b[0m\u001b[0m\n\u001b[1;32m    312\u001b[0m         \u001b[0mself\u001b[0m \u001b[0;34m=\u001b[0m \u001b[0mobject\u001b[0m\u001b[0;34m.\u001b[0m\u001b[0m__new__\u001b[0m\u001b[0;34m(\u001b[0m\u001b[0mcls\u001b[0m\u001b[0;34m)\u001b[0m\u001b[0;34m\u001b[0m\u001b[0;34m\u001b[0m\u001b[0m\n",
      "\u001b[0;32m~/opt/anaconda3/envs/qdef3p8/lib/python3.8/site-packages/sympy/matrices/matrices.py\u001b[0m in \u001b[0;36m_handle_creation_inputs\u001b[0;34m(cls, *args, **kwargs)\u001b[0m\n\u001b[1;32m   1078\u001b[0m                             \u001b[0;32melse\u001b[0m\u001b[0;34m:\u001b[0m\u001b[0;34m\u001b[0m\u001b[0;34m\u001b[0m\u001b[0m\n\u001b[1;32m   1079\u001b[0m                                 \u001b[0mc\u001b[0m \u001b[0;34m=\u001b[0m \u001b[0mlen\u001b[0m\u001b[0;34m(\u001b[0m\u001b[0mrow\u001b[0m\u001b[0;34m)\u001b[0m\u001b[0;34m\u001b[0m\u001b[0;34m\u001b[0m\u001b[0m\n\u001b[0;32m-> 1080\u001b[0;31m                                 \u001b[0mflat\u001b[0m \u001b[0;34m=\u001b[0m \u001b[0;34m[\u001b[0m\u001b[0mcls\u001b[0m\u001b[0;34m.\u001b[0m\u001b[0m_sympify\u001b[0m\u001b[0;34m(\u001b[0m\u001b[0mi\u001b[0m\u001b[0;34m)\u001b[0m \u001b[0;32mfor\u001b[0m \u001b[0mi\u001b[0m \u001b[0;32min\u001b[0m \u001b[0mrow\u001b[0m\u001b[0;34m]\u001b[0m\u001b[0;34m\u001b[0m\u001b[0;34m\u001b[0m\u001b[0m\n\u001b[0m\u001b[1;32m   1081\u001b[0m                         \u001b[0mncol\u001b[0m\u001b[0;34m.\u001b[0m\u001b[0madd\u001b[0m\u001b[0;34m(\u001b[0m\u001b[0mc\u001b[0m\u001b[0;34m)\u001b[0m\u001b[0;34m\u001b[0m\u001b[0;34m\u001b[0m\u001b[0m\n\u001b[1;32m   1082\u001b[0m                         \u001b[0;32mif\u001b[0m \u001b[0mlen\u001b[0m\u001b[0;34m(\u001b[0m\u001b[0mncol\u001b[0m\u001b[0;34m)\u001b[0m \u001b[0;34m>\u001b[0m \u001b[0;36m1\u001b[0m\u001b[0;34m:\u001b[0m\u001b[0;34m\u001b[0m\u001b[0;34m\u001b[0m\u001b[0m\n",
      "\u001b[0;32m~/opt/anaconda3/envs/qdef3p8/lib/python3.8/site-packages/sympy/matrices/matrices.py\u001b[0m in \u001b[0;36m<listcomp>\u001b[0;34m(.0)\u001b[0m\n\u001b[1;32m   1078\u001b[0m                             \u001b[0;32melse\u001b[0m\u001b[0;34m:\u001b[0m\u001b[0;34m\u001b[0m\u001b[0;34m\u001b[0m\u001b[0m\n\u001b[1;32m   1079\u001b[0m                                 \u001b[0mc\u001b[0m \u001b[0;34m=\u001b[0m \u001b[0mlen\u001b[0m\u001b[0;34m(\u001b[0m\u001b[0mrow\u001b[0m\u001b[0;34m)\u001b[0m\u001b[0;34m\u001b[0m\u001b[0;34m\u001b[0m\u001b[0m\n\u001b[0;32m-> 1080\u001b[0;31m                                 \u001b[0mflat\u001b[0m \u001b[0;34m=\u001b[0m \u001b[0;34m[\u001b[0m\u001b[0mcls\u001b[0m\u001b[0;34m.\u001b[0m\u001b[0m_sympify\u001b[0m\u001b[0;34m(\u001b[0m\u001b[0mi\u001b[0m\u001b[0;34m)\u001b[0m \u001b[0;32mfor\u001b[0m \u001b[0mi\u001b[0m \u001b[0;32min\u001b[0m \u001b[0mrow\u001b[0m\u001b[0;34m]\u001b[0m\u001b[0;34m\u001b[0m\u001b[0;34m\u001b[0m\u001b[0m\n\u001b[0m\u001b[1;32m   1081\u001b[0m                         \u001b[0mncol\u001b[0m\u001b[0;34m.\u001b[0m\u001b[0madd\u001b[0m\u001b[0;34m(\u001b[0m\u001b[0mc\u001b[0m\u001b[0;34m)\u001b[0m\u001b[0;34m\u001b[0m\u001b[0;34m\u001b[0m\u001b[0m\n\u001b[1;32m   1082\u001b[0m                         \u001b[0;32mif\u001b[0m \u001b[0mlen\u001b[0m\u001b[0;34m(\u001b[0m\u001b[0mncol\u001b[0m\u001b[0;34m)\u001b[0m \u001b[0;34m>\u001b[0m \u001b[0;36m1\u001b[0m\u001b[0;34m:\u001b[0m\u001b[0;34m\u001b[0m\u001b[0;34m\u001b[0m\u001b[0m\n",
      "\u001b[0;32m~/opt/anaconda3/envs/qdef3p8/lib/python3.8/site-packages/sympy/core/sympify.py\u001b[0m in \u001b[0;36msympify\u001b[0;34m(a, locals, convert_xor, strict, rational, evaluate)\u001b[0m\n\u001b[1;32m    435\u001b[0m     \u001b[0;32mif\u001b[0m \u001b[0miterable\u001b[0m\u001b[0;34m(\u001b[0m\u001b[0ma\u001b[0m\u001b[0;34m)\u001b[0m\u001b[0;34m:\u001b[0m\u001b[0;34m\u001b[0m\u001b[0;34m\u001b[0m\u001b[0m\n\u001b[1;32m    436\u001b[0m         \u001b[0;32mtry\u001b[0m\u001b[0;34m:\u001b[0m\u001b[0;34m\u001b[0m\u001b[0;34m\u001b[0m\u001b[0m\n\u001b[0;32m--> 437\u001b[0;31m             return type(a)([sympify(x, locals=locals, convert_xor=convert_xor,\n\u001b[0m\u001b[1;32m    438\u001b[0m                 rational=rational) for x in a])\n\u001b[1;32m    439\u001b[0m         \u001b[0;32mexcept\u001b[0m \u001b[0mTypeError\u001b[0m\u001b[0;34m:\u001b[0m\u001b[0;34m\u001b[0m\u001b[0;34m\u001b[0m\u001b[0m\n",
      "\u001b[0;32m~/opt/anaconda3/envs/qdef3p8/lib/python3.8/site-packages/sympy/core/sympify.py\u001b[0m in \u001b[0;36m<listcomp>\u001b[0;34m(.0)\u001b[0m\n\u001b[1;32m    435\u001b[0m     \u001b[0;32mif\u001b[0m \u001b[0miterable\u001b[0m\u001b[0;34m(\u001b[0m\u001b[0ma\u001b[0m\u001b[0;34m)\u001b[0m\u001b[0;34m:\u001b[0m\u001b[0;34m\u001b[0m\u001b[0;34m\u001b[0m\u001b[0m\n\u001b[1;32m    436\u001b[0m         \u001b[0;32mtry\u001b[0m\u001b[0;34m:\u001b[0m\u001b[0;34m\u001b[0m\u001b[0;34m\u001b[0m\u001b[0m\n\u001b[0;32m--> 437\u001b[0;31m             return type(a)([sympify(x, locals=locals, convert_xor=convert_xor,\n\u001b[0m\u001b[1;32m    438\u001b[0m                 rational=rational) for x in a])\n\u001b[1;32m    439\u001b[0m         \u001b[0;32mexcept\u001b[0m \u001b[0mTypeError\u001b[0m\u001b[0;34m:\u001b[0m\u001b[0;34m\u001b[0m\u001b[0;34m\u001b[0m\u001b[0m\n",
      "\u001b[0;32m~/opt/anaconda3/envs/qdef3p8/lib/python3.8/site-packages/sympy/core/sympify.py\u001b[0m in \u001b[0;36msympify\u001b[0;34m(a, locals, convert_xor, strict, rational, evaluate)\u001b[0m\n\u001b[1;32m    435\u001b[0m     \u001b[0;32mif\u001b[0m \u001b[0miterable\u001b[0m\u001b[0;34m(\u001b[0m\u001b[0ma\u001b[0m\u001b[0;34m)\u001b[0m\u001b[0;34m:\u001b[0m\u001b[0;34m\u001b[0m\u001b[0;34m\u001b[0m\u001b[0m\n\u001b[1;32m    436\u001b[0m         \u001b[0;32mtry\u001b[0m\u001b[0;34m:\u001b[0m\u001b[0;34m\u001b[0m\u001b[0;34m\u001b[0m\u001b[0m\n\u001b[0;32m--> 437\u001b[0;31m             return type(a)([sympify(x, locals=locals, convert_xor=convert_xor,\n\u001b[0m\u001b[1;32m    438\u001b[0m                 rational=rational) for x in a])\n\u001b[1;32m    439\u001b[0m         \u001b[0;32mexcept\u001b[0m \u001b[0mTypeError\u001b[0m\u001b[0;34m:\u001b[0m\u001b[0;34m\u001b[0m\u001b[0;34m\u001b[0m\u001b[0m\n",
      "\u001b[0;32m~/opt/anaconda3/envs/qdef3p8/lib/python3.8/site-packages/sympy/core/sympify.py\u001b[0m in \u001b[0;36m<listcomp>\u001b[0;34m(.0)\u001b[0m\n\u001b[1;32m    435\u001b[0m     \u001b[0;32mif\u001b[0m \u001b[0miterable\u001b[0m\u001b[0;34m(\u001b[0m\u001b[0ma\u001b[0m\u001b[0;34m)\u001b[0m\u001b[0;34m:\u001b[0m\u001b[0;34m\u001b[0m\u001b[0;34m\u001b[0m\u001b[0m\n\u001b[1;32m    436\u001b[0m         \u001b[0;32mtry\u001b[0m\u001b[0;34m:\u001b[0m\u001b[0;34m\u001b[0m\u001b[0;34m\u001b[0m\u001b[0m\n\u001b[0;32m--> 437\u001b[0;31m             return type(a)([sympify(x, locals=locals, convert_xor=convert_xor,\n\u001b[0m\u001b[1;32m    438\u001b[0m                 rational=rational) for x in a])\n\u001b[1;32m    439\u001b[0m         \u001b[0;32mexcept\u001b[0m \u001b[0mTypeError\u001b[0m\u001b[0;34m:\u001b[0m\u001b[0;34m\u001b[0m\u001b[0;34m\u001b[0m\u001b[0m\n",
      "\u001b[0;32m~/opt/anaconda3/envs/qdef3p8/lib/python3.8/site-packages/sympy/core/sympify.py\u001b[0m in \u001b[0;36msympify\u001b[0;34m(a, locals, convert_xor, strict, rational, evaluate)\u001b[0m\n\u001b[1;32m    435\u001b[0m     \u001b[0;32mif\u001b[0m \u001b[0miterable\u001b[0m\u001b[0;34m(\u001b[0m\u001b[0ma\u001b[0m\u001b[0;34m)\u001b[0m\u001b[0;34m:\u001b[0m\u001b[0;34m\u001b[0m\u001b[0;34m\u001b[0m\u001b[0m\n\u001b[1;32m    436\u001b[0m         \u001b[0;32mtry\u001b[0m\u001b[0;34m:\u001b[0m\u001b[0;34m\u001b[0m\u001b[0;34m\u001b[0m\u001b[0m\n\u001b[0;32m--> 437\u001b[0;31m             return type(a)([sympify(x, locals=locals, convert_xor=convert_xor,\n\u001b[0m\u001b[1;32m    438\u001b[0m                 rational=rational) for x in a])\n\u001b[1;32m    439\u001b[0m         \u001b[0;32mexcept\u001b[0m \u001b[0mTypeError\u001b[0m\u001b[0;34m:\u001b[0m\u001b[0;34m\u001b[0m\u001b[0;34m\u001b[0m\u001b[0m\n",
      "\u001b[0;32m~/opt/anaconda3/envs/qdef3p8/lib/python3.8/site-packages/sympy/core/sympify.py\u001b[0m in \u001b[0;36m<listcomp>\u001b[0;34m(.0)\u001b[0m\n\u001b[1;32m    435\u001b[0m     \u001b[0;32mif\u001b[0m \u001b[0miterable\u001b[0m\u001b[0;34m(\u001b[0m\u001b[0ma\u001b[0m\u001b[0;34m)\u001b[0m\u001b[0;34m:\u001b[0m\u001b[0;34m\u001b[0m\u001b[0;34m\u001b[0m\u001b[0m\n\u001b[1;32m    436\u001b[0m         \u001b[0;32mtry\u001b[0m\u001b[0;34m:\u001b[0m\u001b[0;34m\u001b[0m\u001b[0;34m\u001b[0m\u001b[0m\n\u001b[0;32m--> 437\u001b[0;31m             return type(a)([sympify(x, locals=locals, convert_xor=convert_xor,\n\u001b[0m\u001b[1;32m    438\u001b[0m                 rational=rational) for x in a])\n\u001b[1;32m    439\u001b[0m         \u001b[0;32mexcept\u001b[0m \u001b[0mTypeError\u001b[0m\u001b[0;34m:\u001b[0m\u001b[0;34m\u001b[0m\u001b[0;34m\u001b[0m\u001b[0m\n",
      "\u001b[0;32m~/opt/anaconda3/envs/qdef3p8/lib/python3.8/site-packages/sympy/core/sympify.py\u001b[0m in \u001b[0;36msympify\u001b[0;34m(a, locals, convert_xor, strict, rational, evaluate)\u001b[0m\n\u001b[1;32m    435\u001b[0m     \u001b[0;32mif\u001b[0m \u001b[0miterable\u001b[0m\u001b[0;34m(\u001b[0m\u001b[0ma\u001b[0m\u001b[0;34m)\u001b[0m\u001b[0;34m:\u001b[0m\u001b[0;34m\u001b[0m\u001b[0;34m\u001b[0m\u001b[0m\n\u001b[1;32m    436\u001b[0m         \u001b[0;32mtry\u001b[0m\u001b[0;34m:\u001b[0m\u001b[0;34m\u001b[0m\u001b[0;34m\u001b[0m\u001b[0m\n\u001b[0;32m--> 437\u001b[0;31m             return type(a)([sympify(x, locals=locals, convert_xor=convert_xor,\n\u001b[0m\u001b[1;32m    438\u001b[0m                 rational=rational) for x in a])\n\u001b[1;32m    439\u001b[0m         \u001b[0;32mexcept\u001b[0m \u001b[0mTypeError\u001b[0m\u001b[0;34m:\u001b[0m\u001b[0;34m\u001b[0m\u001b[0;34m\u001b[0m\u001b[0m\n",
      "\u001b[0;32m~/opt/anaconda3/envs/qdef3p8/lib/python3.8/site-packages/sympy/core/sympify.py\u001b[0m in \u001b[0;36m<listcomp>\u001b[0;34m(.0)\u001b[0m\n\u001b[1;32m    435\u001b[0m     \u001b[0;32mif\u001b[0m \u001b[0miterable\u001b[0m\u001b[0;34m(\u001b[0m\u001b[0ma\u001b[0m\u001b[0;34m)\u001b[0m\u001b[0;34m:\u001b[0m\u001b[0;34m\u001b[0m\u001b[0;34m\u001b[0m\u001b[0m\n\u001b[1;32m    436\u001b[0m         \u001b[0;32mtry\u001b[0m\u001b[0;34m:\u001b[0m\u001b[0;34m\u001b[0m\u001b[0;34m\u001b[0m\u001b[0m\n\u001b[0;32m--> 437\u001b[0;31m             return type(a)([sympify(x, locals=locals, convert_xor=convert_xor,\n\u001b[0m\u001b[1;32m    438\u001b[0m                 rational=rational) for x in a])\n\u001b[1;32m    439\u001b[0m         \u001b[0;32mexcept\u001b[0m \u001b[0mTypeError\u001b[0m\u001b[0;34m:\u001b[0m\u001b[0;34m\u001b[0m\u001b[0;34m\u001b[0m\u001b[0m\n",
      "\u001b[0;32m~/opt/anaconda3/envs/qdef3p8/lib/python3.8/site-packages/sympy/core/sympify.py\u001b[0m in \u001b[0;36msympify\u001b[0;34m(a, locals, convert_xor, strict, rational, evaluate)\u001b[0m\n\u001b[1;32m    479\u001b[0m         \u001b[0mexpr\u001b[0m \u001b[0;34m=\u001b[0m \u001b[0mparse_expr\u001b[0m\u001b[0;34m(\u001b[0m\u001b[0ma\u001b[0m\u001b[0;34m,\u001b[0m \u001b[0mlocal_dict\u001b[0m\u001b[0;34m=\u001b[0m\u001b[0mlocals\u001b[0m\u001b[0;34m,\u001b[0m \u001b[0mtransformations\u001b[0m\u001b[0;34m=\u001b[0m\u001b[0mtransformations\u001b[0m\u001b[0;34m,\u001b[0m \u001b[0mevaluate\u001b[0m\u001b[0;34m=\u001b[0m\u001b[0mevaluate\u001b[0m\u001b[0;34m)\u001b[0m\u001b[0;34m\u001b[0m\u001b[0;34m\u001b[0m\u001b[0m\n\u001b[1;32m    480\u001b[0m     \u001b[0;32mexcept\u001b[0m \u001b[0;34m(\u001b[0m\u001b[0mTokenError\u001b[0m\u001b[0;34m,\u001b[0m \u001b[0mSyntaxError\u001b[0m\u001b[0;34m)\u001b[0m \u001b[0;32mas\u001b[0m \u001b[0mexc\u001b[0m\u001b[0;34m:\u001b[0m\u001b[0;34m\u001b[0m\u001b[0;34m\u001b[0m\u001b[0m\n\u001b[0;32m--> 481\u001b[0;31m         \u001b[0;32mraise\u001b[0m \u001b[0mSympifyError\u001b[0m\u001b[0;34m(\u001b[0m\u001b[0;34m'could not parse %r'\u001b[0m \u001b[0;34m%\u001b[0m \u001b[0ma\u001b[0m\u001b[0;34m,\u001b[0m \u001b[0mexc\u001b[0m\u001b[0;34m)\u001b[0m\u001b[0;34m\u001b[0m\u001b[0;34m\u001b[0m\u001b[0m\n\u001b[0m\u001b[1;32m    482\u001b[0m \u001b[0;34m\u001b[0m\u001b[0m\n\u001b[1;32m    483\u001b[0m     \u001b[0;32mreturn\u001b[0m \u001b[0mexpr\u001b[0m\u001b[0;34m\u001b[0m\u001b[0;34m\u001b[0m\u001b[0m\n",
      "\u001b[0;31mSympifyError\u001b[0m: Sympify of expression 'could not parse 'Global`x'' failed, because of exception being raised:\nSyntaxError: invalid syntax (<string>, line 1)"
     ]
    }
   ],
   "source": []
  },
  {
   "cell_type": "code",
   "execution_count": 5,
   "metadata": {},
   "outputs": [],
   "source": [
    "from sympy.parsing.sym_expr import SymPyExpression"
   ]
  },
  {
   "cell_type": "code",
   "execution_count": 6,
   "metadata": {},
   "outputs": [
    {
     "ename": "ImportError",
     "evalue": "LFortran is not installed, cannot parse Fortran code",
     "output_type": "error",
     "traceback": [
      "\u001b[0;31m---------------------------------------------------------------------------\u001b[0m",
      "\u001b[0;31mImportError\u001b[0m                               Traceback (most recent call last)",
      "\u001b[0;32m<ipython-input-6-6877969653d4>\u001b[0m in \u001b[0;36m<module>\u001b[0;34m\u001b[0m\n\u001b[0;32m----> 1\u001b[0;31m \u001b[0mSymPyExpression\u001b[0m\u001b[0;34m(\u001b[0m\u001b[0;34m'x+y'\u001b[0m\u001b[0;34m,\u001b[0m\u001b[0;34m'f'\u001b[0m\u001b[0;34m)\u001b[0m\u001b[0;34m\u001b[0m\u001b[0;34m\u001b[0m\u001b[0m\n\u001b[0m",
      "\u001b[0;32m~/opt/anaconda3/envs/qdef3p8/lib/python3.8/site-packages/sympy/parsing/sym_expr.py\u001b[0m in \u001b[0;36m__init__\u001b[0;34m(self, source_code, mode)\u001b[0m\n\u001b[1;32m    103\u001b[0m                         \u001b[0mself\u001b[0m\u001b[0;34m.\u001b[0m\u001b[0m_expr\u001b[0m \u001b[0;34m=\u001b[0m \u001b[0msrc_to_sympy\u001b[0m\u001b[0;34m(\u001b[0m\u001b[0msource_code\u001b[0m\u001b[0;34m)\u001b[0m\u001b[0;34m\u001b[0m\u001b[0;34m\u001b[0m\u001b[0m\n\u001b[1;32m    104\u001b[0m                     \u001b[0;32melse\u001b[0m\u001b[0;34m:\u001b[0m\u001b[0;34m\u001b[0m\u001b[0;34m\u001b[0m\u001b[0m\n\u001b[0;32m--> 105\u001b[0;31m                         \u001b[0;32mraise\u001b[0m \u001b[0mImportError\u001b[0m\u001b[0;34m(\u001b[0m\u001b[0;34m\"LFortran is not installed, cannot parse Fortran code\"\u001b[0m\u001b[0;34m)\u001b[0m\u001b[0;34m\u001b[0m\u001b[0;34m\u001b[0m\u001b[0m\n\u001b[0m\u001b[1;32m    106\u001b[0m                 \u001b[0;32melif\u001b[0m \u001b[0mmode\u001b[0m\u001b[0;34m.\u001b[0m\u001b[0mlower\u001b[0m\u001b[0;34m(\u001b[0m\u001b[0;34m)\u001b[0m \u001b[0;34m==\u001b[0m \u001b[0;34m'c'\u001b[0m\u001b[0;34m:\u001b[0m\u001b[0;34m\u001b[0m\u001b[0;34m\u001b[0m\u001b[0m\n\u001b[1;32m    107\u001b[0m                     \u001b[0;32mif\u001b[0m \u001b[0mcin\u001b[0m\u001b[0;34m:\u001b[0m\u001b[0;34m\u001b[0m\u001b[0;34m\u001b[0m\u001b[0m\n",
      "\u001b[0;31mImportError\u001b[0m: LFortran is not installed, cannot parse Fortran code"
     ]
    }
   ],
   "source": [
    "SymPyExpression('x+y','f')"
   ]
  },
  {
   "cell_type": "code",
   "execution_count": 39,
   "metadata": {},
   "outputs": [
    {
     "name": "stdout",
     "output_type": "stream",
     "text": [
      "12 22\n",
      "13 23\n"
     ]
    }
   ],
   "source": [
    "for num_row in range(diff_mat.rows):\n",
    "    for num_col in range(diff_mat.cols):\n",
    "        if abs(diff_mat[num_row,num_col]) == maxy:\n",
    "            print(num_row,num_col)"
   ]
  },
  {
   "cell_type": "code",
   "execution_count": 41,
   "metadata": {},
   "outputs": [
    {
     "data": {
      "text/latex": [
       "$\\displaystyle 0.243156328315757 B_{1,2} + 0.096584521708448 B_{1,4} + 0.0501004403892712 B_{1,6} - 0.243156328315757 i S_{1,2} - 0.096584521708448 i S_{1,4} - 0.0501004403892712 i S_{1,6}$"
      ],
      "text/plain": [
       "0.243156328315757*B_{1,2} + 0.096584521708448*B_{1,4} + 0.0501004403892712*B_{1,6} - 0.243156328315757*I*S_{1,2} - 0.096584521708448*I*S_{1,4} - 0.0501004403892712*I*S_{1,6}"
      ]
     },
     "execution_count": 41,
     "metadata": {},
     "output_type": "execute_result"
    }
   ],
   "source": [
    "sp.N(v[12,22])"
   ]
  },
  {
   "cell_type": "code",
   "execution_count": 36,
   "metadata": {},
   "outputs": [],
   "source": [
    "maxy = max(sp.Abs(diff_mat))"
   ]
  },
  {
   "cell_type": "code",
   "execution_count": null,
   "metadata": {},
   "outputs": [
    {
     "data": {
      "text/plain": [
       "(2, 4, 2, 1/2, 1/2)"
      ]
     },
     "execution_count": 164,
     "metadata": {},
     "output_type": "execute_result"
    }
   ],
   "source": [
    "!beep silent"
   ]
  },
  {
   "cell_type": "code",
   "execution_count": null,
   "metadata": {},
   "outputs": [
    {
     "name": "stdout",
     "output_type": "stream",
     "text": [
      "Validating parsing by stochastic evaluation ...\n",
      "Max difference = 2.27637297909212e-16\n"
     ]
    }
   ],
   "source": [
    "# print(\"Simplifying numeric coefficients ...\")\n",
    "# for k,v in parsed_table['EnergyMatrixTables'].items():\n",
    "#     num_rows = v.rows\n",
    "#     num_cols = v.cols\n",
    "#     for num_row in range(num_rows):\n",
    "#         for num_col in range(num_cols):\n",
    "#             v[num_row,num_col] = sp.simplify(rational_simplify(v[num_row,num_col]))\n",
    "# print(\"Validating parsing by stochastic evaluation ...\")\n",
    "# diffs = {}\n",
    "# for k,v in parsed_table['EnergyMatrixTables'].items():\n",
    "#     free_symbs = v.free_symbols\n",
    "#     free_symbs_values = {v: random() for v in free_symbs}\n",
    "#     mathematica_values = {inverse_rep[k]:v for k,v in free_symbs_values.items()}\n",
    "#     num_try = sp.N(v.subs(free_symbs_values))\n",
    "#     energyMatrixString = parsed_table['EnergyMatrixStrings'][k]\n",
    "#     mathematica_subs = ', '.join(['Subscript[x,%s] -> %s' % (str(str(k).split('{')[-1].split('}')[0]), str(v)) for k,v in mathematica_values.items()])\n",
    "#     mathematica_subs = '{%s}' % mathematica_subs\n",
    "#     mathematica_try = sp.Matrix(session.evaluate('Re[(%s /. reps) /. %s]' % (energyMatrixString, mathematica_subs))) +\\\n",
    "#     sp.I*sp.Matrix(session.evaluate('Im[(%s /. reps) /. %s]' % (energyMatrixString, mathematica_subs))) \n",
    "#     diff_mat = (mathematica_try - num_try)\n",
    "#     mathematica_norm = mathematica_try.norm()\n",
    "#     if mathematica_norm == 0:\n",
    "#         diffs[k] = diff_mat.norm()\n",
    "#     else:\n",
    "#         diffs[k] = diff_mat.norm()/mathematica_norm\n",
    "# max_diff = max(diffs.values())\n",
    "# print(\"Max difference = {:e}\".format(max_diff))\n",
    "# assert(max_diff < 1e-10)"
   ]
  },
  {
   "cell_type": "code",
   "execution_count": 130,
   "metadata": {},
   "outputs": [],
   "source": [
    "for k,v in parsed_table['EnergyMatrixTables'].items():\n",
    "    pickle.dump(v,open('./data/dummy.pkl','wb'))"
   ]
  },
  {
   "cell_type": "code",
   "execution_count": 133,
   "metadata": {},
   "outputs": [],
   "source": [
    "free_symbs = v.free_symbols\n",
    "free_symbs_values = {v: random() for v in free_symbs}\n",
    "mathematica_values = {inverse_rep[k]:v for k,v in free_symbs_values.items()}\n",
    "num_try = sp.N(v.subs(free_symbs_values))\n",
    "energyMatrixString = parsed_table['EnergyMatrixStrings'][k]\n",
    "mathematica_subs = ', '.join(['Subscript[x,%s] -> %s' % (str(str(k).split('{')[-1].split('}')[0]), str(v)) for k,v in mathematica_values.items()])\n",
    "mathematica_subs = '{%s}' % mathematica_subs\n",
    "mathematica_try = sp.Matrix(session.evaluate('Re[(%s /. reps) /. %s]' % (energyMatrixString, mathematica_subs))) +\\\n",
    "sp.I*sp.Matrix(session.evaluate('Im[(%s /. reps) /. %s]' % (energyMatrixString, mathematica_subs))) "
   ]
  },
  {
   "cell_type": "code",
   "execution_count": 134,
   "metadata": {},
   "outputs": [
    {
     "data": {
      "text/latex": [
       "$\\displaystyle \\left[\\begin{array}{cccccccccccccccccccccccccccccccccccccccccccccccccccccc}\\frac{\\sqrt{2} \\left(- B_{4,4} + i S_{4,4}\\right)}{9} & 0 & \\frac{\\sqrt{2} \\left(B_{3,4} - i S_{3,4}\\right)}{9} & 0 & \\frac{\\sqrt{2} \\left(- B_{2,4} + i S_{2,4}\\right)}{9} & 0 & \\frac{\\sqrt{2} \\left(B_{1,4} - i S_{1,4}\\right)}{9} & 0 & - \\frac{2 \\sqrt{2} B_{0,4}}{9} & 0 & - \\frac{\\sqrt{2} \\left(B_{1,4} + i S_{1,4}\\right)}{9} & 0 & - \\frac{\\sqrt{2} \\left(B_{2,4} + i S_{2,4}\\right)}{9} & 0 & - \\frac{\\sqrt{2} \\left(B_{3,4} + i S_{3,4}\\right)}{9} & 0 & - \\frac{\\sqrt{2} \\left(B_{4,4} + i S_{4,4}\\right)}{9} & 0 & \\frac{2 \\sqrt{55} \\left(B_{4,4} - i S_{4,4}\\right)}{99} & 0 & \\frac{2 \\sqrt{55} \\left(- B_{3,4} + i S_{3,4}\\right)}{99} & 0 & \\frac{2 \\sqrt{55} \\left(B_{2,4} - i S_{2,4}\\right)}{99} & 0 & \\frac{2 \\sqrt{55} \\left(- B_{1,4} + i S_{1,4}\\right)}{99} & 0 & \\frac{4 \\sqrt{55} B_{0,4}}{99} & 0 & \\frac{2 \\sqrt{55} \\left(B_{1,4} + i S_{1,4}\\right)}{99} & 0 & \\frac{2 \\sqrt{55} \\left(B_{2,4} + i S_{2,4}\\right)}{99} & 0 & \\frac{2 \\sqrt{55} \\left(B_{3,4} + i S_{3,4}\\right)}{99} & 0 & \\frac{2 \\sqrt{55} \\left(B_{4,4} + i S_{4,4}\\right)}{99} & 0 & 0 & 0 & 0 & 0 & 0 & 0 & 0 & 0 & 0 & 0 & 0 & 0 & 0 & 0 & 0 & 0 & 0 & 0\\\\0 & \\frac{\\sqrt{2} \\left(- B_{4,4} + i S_{4,4}\\right)}{9} & 0 & \\frac{\\sqrt{2} \\left(B_{3,4} - i S_{3,4}\\right)}{9} & 0 & \\frac{\\sqrt{2} \\left(- B_{2,4} + i S_{2,4}\\right)}{9} & 0 & \\frac{\\sqrt{2} \\left(B_{1,4} - i S_{1,4}\\right)}{9} & 0 & - \\frac{2 \\sqrt{2} B_{0,4}}{9} & 0 & - \\frac{\\sqrt{2} \\left(B_{1,4} + i S_{1,4}\\right)}{9} & 0 & - \\frac{\\sqrt{2} \\left(B_{2,4} + i S_{2,4}\\right)}{9} & 0 & - \\frac{\\sqrt{2} \\left(B_{3,4} + i S_{3,4}\\right)}{9} & 0 & - \\frac{\\sqrt{2} \\left(B_{4,4} + i S_{4,4}\\right)}{9} & 0 & \\frac{2 \\sqrt{55} \\left(B_{4,4} - i S_{4,4}\\right)}{99} & 0 & \\frac{2 \\sqrt{55} \\left(- B_{3,4} + i S_{3,4}\\right)}{99} & 0 & \\frac{2 \\sqrt{55} \\left(B_{2,4} - i S_{2,4}\\right)}{99} & 0 & \\frac{2 \\sqrt{55} \\left(- B_{1,4} + i S_{1,4}\\right)}{99} & 0 & \\frac{4 \\sqrt{55} B_{0,4}}{99} & 0 & \\frac{2 \\sqrt{55} \\left(B_{1,4} + i S_{1,4}\\right)}{99} & 0 & \\frac{2 \\sqrt{55} \\left(B_{2,4} + i S_{2,4}\\right)}{99} & 0 & \\frac{2 \\sqrt{55} \\left(B_{3,4} + i S_{3,4}\\right)}{99} & 0 & \\frac{2 \\sqrt{55} \\left(B_{4,4} + i S_{4,4}\\right)}{99} & 0 & 0 & 0 & 0 & 0 & 0 & 0 & 0 & 0 & 0 & 0 & 0 & 0 & 0 & 0 & 0 & 0 & 0\\\\0 & 0 & 0 & 0 & 0 & 0 & 0 & 0 & 0 & 0 & 0 & 0 & 0 & 0 & 0 & 0 & 0 & 0 & 0 & 0 & 0 & 0 & 0 & 0 & 0 & 0 & 0 & 0 & 0 & 0 & 0 & 0 & 0 & 0 & 0 & 0 & \\frac{2 \\sqrt{22} \\left(B_{4,4} - i S_{4,4}\\right)}{33} & 0 & \\frac{2 \\sqrt{22} \\left(- B_{3,4} + i S_{3,4}\\right)}{33} & 0 & \\frac{2 \\sqrt{22} \\left(B_{2,4} - i S_{2,4}\\right)}{33} & 0 & \\frac{2 \\sqrt{22} \\left(- B_{1,4} + i S_{1,4}\\right)}{33} & 0 & \\frac{4 \\sqrt{22} B_{0,4}}{33} & 0 & \\frac{2 \\sqrt{22} \\left(B_{1,4} + i S_{1,4}\\right)}{33} & 0 & \\frac{2 \\sqrt{22} \\left(B_{2,4} + i S_{2,4}\\right)}{33} & 0 & \\frac{2 \\sqrt{22} \\left(B_{3,4} + i S_{3,4}\\right)}{33} & 0 & \\frac{2 \\sqrt{22} \\left(B_{4,4} + i S_{4,4}\\right)}{33} & 0\\\\0 & 0 & 0 & 0 & 0 & 0 & 0 & 0 & 0 & 0 & 0 & 0 & 0 & 0 & 0 & 0 & 0 & 0 & 0 & 0 & 0 & 0 & 0 & 0 & 0 & 0 & 0 & 0 & 0 & 0 & 0 & 0 & 0 & 0 & 0 & 0 & 0 & \\frac{2 \\sqrt{22} \\left(B_{4,4} - i S_{4,4}\\right)}{33} & 0 & \\frac{2 \\sqrt{22} \\left(- B_{3,4} + i S_{3,4}\\right)}{33} & 0 & \\frac{2 \\sqrt{22} \\left(B_{2,4} - i S_{2,4}\\right)}{33} & 0 & \\frac{2 \\sqrt{22} \\left(- B_{1,4} + i S_{1,4}\\right)}{33} & 0 & \\frac{4 \\sqrt{22} B_{0,4}}{33} & 0 & \\frac{2 \\sqrt{22} \\left(B_{1,4} + i S_{1,4}\\right)}{33} & 0 & \\frac{2 \\sqrt{22} \\left(B_{2,4} + i S_{2,4}\\right)}{33} & 0 & \\frac{2 \\sqrt{22} \\left(B_{3,4} + i S_{3,4}\\right)}{33} & 0 & \\frac{2 \\sqrt{22} \\left(B_{4,4} + i S_{4,4}\\right)}{33}\\end{array}\\right]$"
      ],
      "text/plain": [
       "Matrix([\n",
       "[sqrt(2)*(-B_{4,4} + I*S_{4,4})/9,                                0, sqrt(2)*(B_{3,4} - I*S_{3,4})/9,                               0, sqrt(2)*(-B_{2,4} + I*S_{2,4})/9,                                0, sqrt(2)*(B_{1,4} - I*S_{1,4})/9,                               0, -2*sqrt(2)*B_{0,4}/9,                    0, -sqrt(2)*(B_{1,4} + I*S_{1,4})/9,                                0, -sqrt(2)*(B_{2,4} + I*S_{2,4})/9,                                0, -sqrt(2)*(B_{3,4} + I*S_{3,4})/9,                                0, -sqrt(2)*(B_{4,4} + I*S_{4,4})/9,                                0, 2*sqrt(55)*(B_{4,4} - I*S_{4,4})/99,                                   0, 2*sqrt(55)*(-B_{3,4} + I*S_{3,4})/99,                                    0, 2*sqrt(55)*(B_{2,4} - I*S_{2,4})/99,                                   0, 2*sqrt(55)*(-B_{1,4} + I*S_{1,4})/99,                                    0, 4*sqrt(55)*B_{0,4}/99,                     0, 2*sqrt(55)*(B_{1,4} + I*S_{1,4})/99,                                   0, 2*sqrt(55)*(B_{2,4} + I*S_{2,4})/99,                                   0, 2*sqrt(55)*(B_{3,4} + I*S_{3,4})/99,                                   0, 2*sqrt(55)*(B_{4,4} + I*S_{4,4})/99,                                   0,                                   0,                                   0,                                    0,                                    0,                                   0,                                   0,                                    0,                                    0,                     0,                     0,                                   0,                                   0,                                   0,                                   0,                                   0,                                   0,                                   0,                                   0],\n",
       "[                               0, sqrt(2)*(-B_{4,4} + I*S_{4,4})/9,                               0, sqrt(2)*(B_{3,4} - I*S_{3,4})/9,                                0, sqrt(2)*(-B_{2,4} + I*S_{2,4})/9,                               0, sqrt(2)*(B_{1,4} - I*S_{1,4})/9,                    0, -2*sqrt(2)*B_{0,4}/9,                                0, -sqrt(2)*(B_{1,4} + I*S_{1,4})/9,                                0, -sqrt(2)*(B_{2,4} + I*S_{2,4})/9,                                0, -sqrt(2)*(B_{3,4} + I*S_{3,4})/9,                                0, -sqrt(2)*(B_{4,4} + I*S_{4,4})/9,                                   0, 2*sqrt(55)*(B_{4,4} - I*S_{4,4})/99,                                    0, 2*sqrt(55)*(-B_{3,4} + I*S_{3,4})/99,                                   0, 2*sqrt(55)*(B_{2,4} - I*S_{2,4})/99,                                    0, 2*sqrt(55)*(-B_{1,4} + I*S_{1,4})/99,                     0, 4*sqrt(55)*B_{0,4}/99,                                   0, 2*sqrt(55)*(B_{1,4} + I*S_{1,4})/99,                                   0, 2*sqrt(55)*(B_{2,4} + I*S_{2,4})/99,                                   0, 2*sqrt(55)*(B_{3,4} + I*S_{3,4})/99,                                   0, 2*sqrt(55)*(B_{4,4} + I*S_{4,4})/99,                                   0,                                   0,                                    0,                                    0,                                   0,                                   0,                                    0,                                    0,                     0,                     0,                                   0,                                   0,                                   0,                                   0,                                   0,                                   0,                                   0,                                   0],\n",
       "[                               0,                                0,                               0,                               0,                                0,                                0,                               0,                               0,                    0,                    0,                                0,                                0,                                0,                                0,                                0,                                0,                                0,                                0,                                   0,                                   0,                                    0,                                    0,                                   0,                                   0,                                    0,                                    0,                     0,                     0,                                   0,                                   0,                                   0,                                   0,                                   0,                                   0,                                   0,                                   0, 2*sqrt(22)*(B_{4,4} - I*S_{4,4})/33,                                   0, 2*sqrt(22)*(-B_{3,4} + I*S_{3,4})/33,                                    0, 2*sqrt(22)*(B_{2,4} - I*S_{2,4})/33,                                   0, 2*sqrt(22)*(-B_{1,4} + I*S_{1,4})/33,                                    0, 4*sqrt(22)*B_{0,4}/33,                     0, 2*sqrt(22)*(B_{1,4} + I*S_{1,4})/33,                                   0, 2*sqrt(22)*(B_{2,4} + I*S_{2,4})/33,                                   0, 2*sqrt(22)*(B_{3,4} + I*S_{3,4})/33,                                   0, 2*sqrt(22)*(B_{4,4} + I*S_{4,4})/33,                                   0],\n",
       "[                               0,                                0,                               0,                               0,                                0,                                0,                               0,                               0,                    0,                    0,                                0,                                0,                                0,                                0,                                0,                                0,                                0,                                0,                                   0,                                   0,                                    0,                                    0,                                   0,                                   0,                                    0,                                    0,                     0,                     0,                                   0,                                   0,                                   0,                                   0,                                   0,                                   0,                                   0,                                   0,                                   0, 2*sqrt(22)*(B_{4,4} - I*S_{4,4})/33,                                    0, 2*sqrt(22)*(-B_{3,4} + I*S_{3,4})/33,                                   0, 2*sqrt(22)*(B_{2,4} - I*S_{2,4})/33,                                    0, 2*sqrt(22)*(-B_{1,4} + I*S_{1,4})/33,                     0, 4*sqrt(22)*B_{0,4}/33,                                   0, 2*sqrt(22)*(B_{1,4} + I*S_{1,4})/33,                                   0, 2*sqrt(22)*(B_{2,4} + I*S_{2,4})/33,                                   0, 2*sqrt(22)*(B_{3,4} + I*S_{3,4})/33,                                   0, 2*sqrt(22)*(B_{4,4} + I*S_{4,4})/33]])"
      ]
     },
     "execution_count": 134,
     "metadata": {},
     "output_type": "execute_result"
    }
   ],
   "source": [
    "v"
   ]
  },
  {
   "cell_type": "code",
   "execution_count": 140,
   "metadata": {},
   "outputs": [
    {
     "data": {
      "text/latex": [
       "$\\displaystyle 1.52266075161304$"
      ],
      "text/plain": [
       "1.52266075161304"
      ]
     },
     "execution_count": 140,
     "metadata": {},
     "output_type": "execute_result"
    }
   ],
   "source": [
    "mathematica_try.norm()"
   ]
  },
  {
   "cell_type": "code",
   "execution_count": 141,
   "metadata": {},
   "outputs": [
    {
     "data": {
      "text/latex": [
       "$\\displaystyle 1.11022302462516 \\cdot 10^{-16}$"
      ],
      "text/plain": [
       "1.11022302462516e-16"
      ]
     },
     "execution_count": 141,
     "metadata": {},
     "output_type": "execute_result"
    }
   ],
   "source": [
    "sp.N(num_try - mathematica_try, chop=True).norm()"
   ]
  },
  {
   "cell_type": "code",
   "execution_count": 73,
   "metadata": {},
   "outputs": [
    {
     "data": {
      "text/plain": [
       "0.4925906505357974"
      ]
     },
     "execution_count": 73,
     "metadata": {},
     "output_type": "execute_result"
    }
   ],
   "source": [
    "session.evaluate('Subscript[x,2] + Subscript[x,40]  /. %s' % mathematica_subs)"
   ]
  },
  {
   "cell_type": "markdown",
   "metadata": {},
   "source": [
    "free_symbs_values"
   ]
  },
  {
   "cell_type": "code",
   "execution_count": 33,
   "metadata": {},
   "outputs": [
    {
     "name": "stdout",
     "output_type": "stream",
     "text": [
      "(2, 0, 0, 1/2, 1/2)\n"
     ]
    },
    {
     "data": {
      "text/latex": [
       "$\\displaystyle \\left[\\begin{matrix}\\frac{B_{0,z} \\mu_{B,n} g_{I}}{2} + \\frac{14 E_{0}}{13} + \\frac{9 E_{1}}{13} + 33 E_{3} + \\frac{37 M_{0}}{6} + \\frac{97 M_{2}}{6} + \\frac{1205 M_{4}}{66} + \\frac{43 P_{2}}{540} + \\frac{19 P_{4}}{1188} - \\frac{875 P_{6}}{15444} + 2 \\alpha + \\beta + \\gamma - \\zeta & - \\frac{\\mu_{B,n} g_{I} \\left(B_{0,x} + i B_{0,y}\\right)}{2} & \\frac{\\sqrt{3} \\left(- 218790 M_{0} - 12870 M_{2} - 5850 M_{4} + 7007 P_{2} + 3185 P_{4} + 875 P_{6} - 77220 \\zeta\\right)}{38610} & 0\\\\- \\frac{\\mu_{B,n} g_{I} \\left(B_{0,x} + i B_{0,y}\\right)}{2} & - \\frac{B_{0,z} \\mu_{B,n} g_{I}}{2} + \\frac{14 E_{0}}{13} + \\frac{9 E_{1}}{13} + 33 E_{3} + \\frac{37 M_{0}}{6} + \\frac{97 M_{2}}{6} + \\frac{1205 M_{4}}{66} + \\frac{43 P_{2}}{540} + \\frac{19 P_{4}}{1188} - \\frac{875 P_{6}}{15444} + 2 \\alpha + \\beta + \\gamma - \\zeta & 0 & \\frac{\\sqrt{3} \\left(- 218790 M_{0} - 12870 M_{2} - 5850 M_{4} + 7007 P_{2} + 3185 P_{4} + 875 P_{6} - 77220 \\zeta\\right)}{38610}\\\\\\frac{\\sqrt{3} \\left(- 218790 M_{0} - 12870 M_{2} - 5850 M_{4} + 7007 P_{2} + 3185 P_{4} + 875 P_{6} - 77220 \\zeta\\right)}{38610} & 0 & \\frac{B_{0,z} \\mu_{B,n} g_{I}}{2} + \\frac{14 E_{0}}{13} + \\frac{126 E_{1}}{13} & - \\frac{\\mu_{B,n} g_{I} \\left(B_{0,x} + i B_{0,y}\\right)}{2}\\\\0 & \\frac{\\sqrt{3} \\left(- 218790 M_{0} - 12870 M_{2} - 5850 M_{4} + 7007 P_{2} + 3185 P_{4} + 875 P_{6} - 77220 \\zeta\\right)}{38610} & - \\frac{\\mu_{B,n} g_{I} \\left(B_{0,x} + i B_{0,y}\\right)}{2} & - \\frac{B_{0,z} \\mu_{B,n} g_{I}}{2} + \\frac{14 E_{0}}{13} + \\frac{126 E_{1}}{13}\\end{matrix}\\right]$"
      ],
      "text/plain": [
       "Matrix([\n",
       "[B_{0,z}*\\mu_{B,n}*g_{I}/2 + 14*E_{0}/13 + 9*E_{1}/13 + 33*E_{3} + 37*M_{0}/6 + 97*M_{2}/6 + 1205*M_{4}/66 + 43*P_{2}/540 + 19*P_{4}/1188 - 875*P_{6}/15444 + 2*\\alpha + \\beta + \\gamma - \\zeta,                                                                                                                                                        -\\mu_{B,n}*g_{I}*(B_{0,x} + I*B_{0,y})/2, sqrt(3)*(-218790*M_{0} - 12870*M_{2} - 5850*M_{4} + 7007*P_{2} + 3185*P_{4} + 875*P_{6} - 77220*\\zeta)/38610,                                                                                                            0],\n",
       "[                                                                                                                                                      -\\mu_{B,n}*g_{I}*(B_{0,x} + I*B_{0,y})/2, -B_{0,z}*\\mu_{B,n}*g_{I}/2 + 14*E_{0}/13 + 9*E_{1}/13 + 33*E_{3} + 37*M_{0}/6 + 97*M_{2}/6 + 1205*M_{4}/66 + 43*P_{2}/540 + 19*P_{4}/1188 - 875*P_{6}/15444 + 2*\\alpha + \\beta + \\gamma - \\zeta,                                                                                                            0, sqrt(3)*(-218790*M_{0} - 12870*M_{2} - 5850*M_{4} + 7007*P_{2} + 3185*P_{4} + 875*P_{6} - 77220*\\zeta)/38610],\n",
       "[                                                                                  sqrt(3)*(-218790*M_{0} - 12870*M_{2} - 5850*M_{4} + 7007*P_{2} + 3185*P_{4} + 875*P_{6} - 77220*\\zeta)/38610,                                                                                                                                                                                               0,                                                       B_{0,z}*\\mu_{B,n}*g_{I}/2 + 14*E_{0}/13 + 126*E_{1}/13,                                                                     -\\mu_{B,n}*g_{I}*(B_{0,x} + I*B_{0,y})/2],\n",
       "[                                                                                                                                                                                             0,                                                                                    sqrt(3)*(-218790*M_{0} - 12870*M_{2} - 5850*M_{4} + 7007*P_{2} + 3185*P_{4} + 875*P_{6} - 77220*\\zeta)/38610,                                                                     -\\mu_{B,n}*g_{I}*(B_{0,x} + I*B_{0,y})/2,                                                      -B_{0,z}*\\mu_{B,n}*g_{I}/2 + 14*E_{0}/13 + 126*E_{1}/13]])"
      ]
     },
     "metadata": {},
     "output_type": "display_data"
    },
    {
     "name": "stdout",
     "output_type": "stream",
     "text": [
      "(2, 1, 0, 1/2, 1/2)\n"
     ]
    },
    {
     "data": {
      "text/latex": [
       "$\\displaystyle \\left[\\begin{matrix}\\frac{\\sqrt{3} \\mu_{B,e} \\left(B_{0,x} g_{s} - B_{0,x} + i B_{0,y} g_{s} - i B_{0,y}\\right)}{3} & \\frac{\\mu_{B,e} \\mu_{B,n} g_{I} g_{s} \\left(\\sqrt{30} + 20 \\sqrt{3}\\right)}{60 \\epsilon} & \\frac{\\mu_{B,e} \\left(20 \\sqrt{6} B_{0,z} \\epsilon \\left(g_{s} - 1\\right) - 10 \\sqrt{6} \\mu_{B,n} g_{I} g_{s} - \\sqrt{15} \\mu_{B,n} g_{I} g_{s}\\right)}{60 \\epsilon} & 0 & \\frac{\\sqrt{3} \\mu_{B,e} \\left(- B_{0,x} g_{s} + B_{0,x} - i B_{0,y} g_{s} + i B_{0,y}\\right)}{3} & 0\\\\0 & \\frac{\\sqrt{3} \\mu_{B,e} \\left(B_{0,x} g_{s} - B_{0,x} + i B_{0,y} g_{s} - i B_{0,y}\\right)}{3} & 0 & \\frac{\\mu_{B,e} \\left(20 \\sqrt{6} B_{0,z} \\epsilon \\left(g_{s} - 1\\right) + \\sqrt{15} \\mu_{B,n} g_{I} g_{s} + 10 \\sqrt{6} \\mu_{B,n} g_{I} g_{s}\\right)}{60 \\epsilon} & - \\frac{\\mu_{B,e} \\mu_{B,n} g_{I} g_{s} \\left(\\sqrt{30} + 20 \\sqrt{3}\\right)}{60 \\epsilon} & \\frac{\\sqrt{3} \\mu_{B,e} \\left(- B_{0,x} g_{s} + B_{0,x} - i B_{0,y} g_{s} + i B_{0,y}\\right)}{3}\\\\0 & 0 & 0 & 0 & 0 & 0\\\\0 & 0 & 0 & 0 & 0 & 0\\end{matrix}\\right]$"
      ],
      "text/plain": [
       "Matrix([\n",
       "[sqrt(3)*\\mu_{B,e}*(B_{0,x}*g_{s} - B_{0,x} + I*B_{0,y}*g_{s} - I*B_{0,y})/3,       \\mu_{B,e}*\\mu_{B,n}*g_{I}*g_{s}*(sqrt(30) + 20*sqrt(3))/(60*\\epsilon), \\mu_{B,e}*(20*sqrt(6)*B_{0,z}*\\epsilon*(g_{s} - 1) - 10*sqrt(6)*\\mu_{B,n}*g_{I}*g_{s} - sqrt(15)*\\mu_{B,n}*g_{I}*g_{s})/(60*\\epsilon),                                                                                                                                     0, sqrt(3)*\\mu_{B,e}*(-B_{0,x}*g_{s} + B_{0,x} - I*B_{0,y}*g_{s} + I*B_{0,y})/3,                                                                            0],\n",
       "[                                                                          0, sqrt(3)*\\mu_{B,e}*(B_{0,x}*g_{s} - B_{0,x} + I*B_{0,y}*g_{s} - I*B_{0,y})/3,                                                                                                                                     0, \\mu_{B,e}*(20*sqrt(6)*B_{0,z}*\\epsilon*(g_{s} - 1) + sqrt(15)*\\mu_{B,n}*g_{I}*g_{s} + 10*sqrt(6)*\\mu_{B,n}*g_{I}*g_{s})/(60*\\epsilon),       -\\mu_{B,e}*\\mu_{B,n}*g_{I}*g_{s}*(sqrt(30) + 20*sqrt(3))/(60*\\epsilon), sqrt(3)*\\mu_{B,e}*(-B_{0,x}*g_{s} + B_{0,x} - I*B_{0,y}*g_{s} + I*B_{0,y})/3],\n",
       "[                                                                          0,                                                                           0,                                                                                                                                     0,                                                                                                                                     0,                                                                            0,                                                                            0],\n",
       "[                                                                          0,                                                                           0,                                                                                                                                     0,                                                                                                                                     0,                                                                            0,                                                                            0]])"
      ]
     },
     "metadata": {},
     "output_type": "display_data"
    },
    {
     "name": "stdout",
     "output_type": "stream",
     "text": [
      "(2, 2, 0, 1/2, 1/2)\n"
     ]
    },
    {
     "data": {
      "text/latex": [
       "$\\displaystyle \\left[\\begin{array}{cccccccccccccccccccccccccccccc}\\frac{\\sqrt{2} \\left(B_{2,2} + i S_{2,2}\\right)}{5} & 0 & - \\frac{\\sqrt{2} \\left(B_{1,2} + i S_{1,2}\\right)}{5} & 0 & \\frac{2 \\sqrt{2} B_{0,2}}{5} & 0 & \\frac{\\sqrt{2} \\left(B_{1,2} + i S_{1,2}\\right)}{5} & 0 & \\frac{\\sqrt{2} \\left(B_{2,2} + i S_{2,2}\\right)}{5} & 0 & - \\frac{2 \\sqrt{6} \\left(B_{2,2} + i S_{2,2}\\right)}{15} & 0 & \\frac{2 \\sqrt{6} \\left(B_{1,2} + i S_{1,2}\\right)}{15} & 0 & - \\frac{4 \\sqrt{6} B_{0,2}}{15} & 0 & - \\frac{2 \\sqrt{6} \\left(B_{1,2} + i S_{1,2}\\right)}{15} & 0 & - \\frac{2 \\sqrt{6} \\left(B_{2,2} + i S_{2,2}\\right)}{15} & 0 & 0 & 0 & 0 & 0 & 0 & 0 & 0 & 0 & 0 & 0\\\\0 & \\frac{\\sqrt{2} \\left(B_{2,2} + i S_{2,2}\\right)}{5} & 0 & - \\frac{\\sqrt{2} \\left(B_{1,2} + i S_{1,2}\\right)}{5} & 0 & \\frac{2 \\sqrt{2} B_{0,2}}{5} & 0 & \\frac{\\sqrt{2} \\left(B_{1,2} + i S_{1,2}\\right)}{5} & 0 & \\frac{\\sqrt{2} \\left(B_{2,2} + i S_{2,2}\\right)}{5} & 0 & - \\frac{2 \\sqrt{6} \\left(B_{2,2} + i S_{2,2}\\right)}{15} & 0 & \\frac{2 \\sqrt{6} \\left(B_{1,2} + i S_{1,2}\\right)}{15} & 0 & - \\frac{4 \\sqrt{6} B_{0,2}}{15} & 0 & - \\frac{2 \\sqrt{6} \\left(B_{1,2} + i S_{1,2}\\right)}{15} & 0 & - \\frac{2 \\sqrt{6} \\left(B_{2,2} + i S_{2,2}\\right)}{15} & 0 & 0 & 0 & 0 & 0 & 0 & 0 & 0 & 0 & 0\\\\0 & 0 & 0 & 0 & 0 & 0 & 0 & 0 & 0 & 0 & 0 & 0 & 0 & 0 & 0 & 0 & 0 & 0 & 0 & 0 & - \\frac{4 \\sqrt{3} \\left(B_{2,2} + i S_{2,2}\\right)}{15} & 0 & \\frac{4 \\sqrt{3} \\left(B_{1,2} + i S_{1,2}\\right)}{15} & 0 & - \\frac{8 \\sqrt{3} B_{0,2}}{15} & 0 & - \\frac{4 \\sqrt{3} \\left(B_{1,2} + i S_{1,2}\\right)}{15} & 0 & - \\frac{4 \\sqrt{3} \\left(B_{2,2} + i S_{2,2}\\right)}{15} & 0\\\\0 & 0 & 0 & 0 & 0 & 0 & 0 & 0 & 0 & 0 & 0 & 0 & 0 & 0 & 0 & 0 & 0 & 0 & 0 & 0 & 0 & - \\frac{4 \\sqrt{3} \\left(B_{2,2} + i S_{2,2}\\right)}{15} & 0 & \\frac{4 \\sqrt{3} \\left(B_{1,2} + i S_{1,2}\\right)}{15} & 0 & - \\frac{8 \\sqrt{3} B_{0,2}}{15} & 0 & - \\frac{4 \\sqrt{3} \\left(B_{1,2} + i S_{1,2}\\right)}{15} & 0 & - \\frac{4 \\sqrt{3} \\left(B_{2,2} + i S_{2,2}\\right)}{15}\\end{array}\\right]$"
      ],
      "text/plain": [
       "Matrix([\n",
       "[sqrt(2)*(B_{2,2} + I*S_{2,2})/5,                               0, -sqrt(2)*(B_{1,2} + I*S_{1,2})/5,                                0, 2*sqrt(2)*B_{0,2}/5,                   0, sqrt(2)*(B_{1,2} + I*S_{1,2})/5,                               0, sqrt(2)*(B_{2,2} + I*S_{2,2})/5,                               0, -2*sqrt(6)*(B_{2,2} + I*S_{2,2})/15,                                   0, 2*sqrt(6)*(B_{1,2} + I*S_{1,2})/15,                                  0, -4*sqrt(6)*B_{0,2}/15,                     0, -2*sqrt(6)*(B_{1,2} + I*S_{1,2})/15,                                   0, -2*sqrt(6)*(B_{2,2} + I*S_{2,2})/15,                                   0,                                   0,                                   0,                                  0,                                  0,                     0,                     0,                                   0,                                   0,                                   0,                                   0],\n",
       "[                              0, sqrt(2)*(B_{2,2} + I*S_{2,2})/5,                                0, -sqrt(2)*(B_{1,2} + I*S_{1,2})/5,                   0, 2*sqrt(2)*B_{0,2}/5,                               0, sqrt(2)*(B_{1,2} + I*S_{1,2})/5,                               0, sqrt(2)*(B_{2,2} + I*S_{2,2})/5,                                   0, -2*sqrt(6)*(B_{2,2} + I*S_{2,2})/15,                                  0, 2*sqrt(6)*(B_{1,2} + I*S_{1,2})/15,                     0, -4*sqrt(6)*B_{0,2}/15,                                   0, -2*sqrt(6)*(B_{1,2} + I*S_{1,2})/15,                                   0, -2*sqrt(6)*(B_{2,2} + I*S_{2,2})/15,                                   0,                                   0,                                  0,                                  0,                     0,                     0,                                   0,                                   0,                                   0,                                   0],\n",
       "[                              0,                               0,                                0,                                0,                   0,                   0,                               0,                               0,                               0,                               0,                                   0,                                   0,                                  0,                                  0,                     0,                     0,                                   0,                                   0,                                   0,                                   0, -4*sqrt(3)*(B_{2,2} + I*S_{2,2})/15,                                   0, 4*sqrt(3)*(B_{1,2} + I*S_{1,2})/15,                                  0, -8*sqrt(3)*B_{0,2}/15,                     0, -4*sqrt(3)*(B_{1,2} + I*S_{1,2})/15,                                   0, -4*sqrt(3)*(B_{2,2} + I*S_{2,2})/15,                                   0],\n",
       "[                              0,                               0,                                0,                                0,                   0,                   0,                               0,                               0,                               0,                               0,                                   0,                                   0,                                  0,                                  0,                     0,                     0,                                   0,                                   0,                                   0,                                   0,                                   0, -4*sqrt(3)*(B_{2,2} + I*S_{2,2})/15,                                  0, 4*sqrt(3)*(B_{1,2} + I*S_{1,2})/15,                     0, -8*sqrt(3)*B_{0,2}/15,                                   0, -4*sqrt(3)*(B_{1,2} + I*S_{1,2})/15,                                   0, -4*sqrt(3)*(B_{2,2} + I*S_{2,2})/15]])"
      ]
     },
     "metadata": {},
     "output_type": "display_data"
    },
    {
     "name": "stdout",
     "output_type": "stream",
     "text": [
      "(2, 3, 0, 1/2, 1/2)\n"
     ]
    },
    {
     "data": {
      "text/latex": [
       "$\\displaystyle \\left[\\begin{array}{cccccccccccccc}0 & 0 & 0 & 0 & 0 & 0 & 0 & 0 & 0 & 0 & 0 & 0 & 0 & 0\\\\0 & 0 & 0 & 0 & 0 & 0 & 0 & 0 & 0 & 0 & 0 & 0 & 0 & 0\\\\0 & 0 & 0 & 0 & 0 & 0 & 0 & 0 & 0 & 0 & 0 & 0 & 0 & 0\\\\0 & 0 & 0 & 0 & 0 & 0 & 0 & 0 & 0 & 0 & 0 & 0 & 0 & 0\\end{array}\\right]$"
      ],
      "text/plain": [
       "Matrix([\n",
       "[0, 0, 0, 0, 0, 0, 0, 0, 0, 0, 0, 0, 0, 0],\n",
       "[0, 0, 0, 0, 0, 0, 0, 0, 0, 0, 0, 0, 0, 0],\n",
       "[0, 0, 0, 0, 0, 0, 0, 0, 0, 0, 0, 0, 0, 0],\n",
       "[0, 0, 0, 0, 0, 0, 0, 0, 0, 0, 0, 0, 0, 0]])"
      ]
     },
     "metadata": {},
     "output_type": "display_data"
    },
    {
     "name": "stdout",
     "output_type": "stream",
     "text": [
      "(2, 4, 0, 1/2, 1/2)\n"
     ]
    },
    {
     "data": {
      "text/latex": [
       "$\\displaystyle \\left[\\begin{array}{cccccccccccccccccccccccccccccccccccccccccccccccccccccc}- \\frac{\\sqrt{2} \\left(B_{4,4} + i S_{4,4}\\right)}{9} & 0 & \\frac{\\sqrt{2} \\left(B_{3,4} + i S_{3,4}\\right)}{9} & 0 & - \\frac{\\sqrt{2} \\left(B_{2,4} + i S_{2,4}\\right)}{9} & 0 & \\frac{\\sqrt{2} \\left(B_{1,4} + i S_{1,4}\\right)}{9} & 0 & - \\frac{2 \\sqrt{2} B_{0,4}}{9} & 0 & - \\frac{\\sqrt{2} \\left(B_{1,4} + i S_{1,4}\\right)}{9} & 0 & - \\frac{\\sqrt{2} \\left(B_{2,4} + i S_{2,4}\\right)}{9} & 0 & - \\frac{\\sqrt{2} \\left(B_{3,4} + i S_{3,4}\\right)}{9} & 0 & - \\frac{\\sqrt{2} \\left(B_{4,4} + i S_{4,4}\\right)}{9} & 0 & \\frac{2 \\sqrt{55} \\left(B_{4,4} + i S_{4,4}\\right)}{99} & 0 & - \\frac{2 \\sqrt{55} \\left(B_{3,4} + i S_{3,4}\\right)}{99} & 0 & \\frac{2 \\sqrt{55} \\left(B_{2,4} + i S_{2,4}\\right)}{99} & 0 & - \\frac{2 \\sqrt{55} \\left(B_{1,4} + i S_{1,4}\\right)}{99} & 0 & \\frac{4 \\sqrt{55} B_{0,4}}{99} & 0 & \\frac{2 \\sqrt{55} \\left(B_{1,4} + i S_{1,4}\\right)}{99} & 0 & \\frac{2 \\sqrt{55} \\left(B_{2,4} + i S_{2,4}\\right)}{99} & 0 & \\frac{2 \\sqrt{55} \\left(B_{3,4} + i S_{3,4}\\right)}{99} & 0 & \\frac{2 \\sqrt{55} \\left(B_{4,4} + i S_{4,4}\\right)}{99} & 0 & 0 & 0 & 0 & 0 & 0 & 0 & 0 & 0 & 0 & 0 & 0 & 0 & 0 & 0 & 0 & 0 & 0 & 0\\\\0 & - \\frac{\\sqrt{2} \\left(B_{4,4} + i S_{4,4}\\right)}{9} & 0 & \\frac{\\sqrt{2} \\left(B_{3,4} + i S_{3,4}\\right)}{9} & 0 & - \\frac{\\sqrt{2} \\left(B_{2,4} + i S_{2,4}\\right)}{9} & 0 & \\frac{\\sqrt{2} \\left(B_{1,4} + i S_{1,4}\\right)}{9} & 0 & - \\frac{2 \\sqrt{2} B_{0,4}}{9} & 0 & - \\frac{\\sqrt{2} \\left(B_{1,4} + i S_{1,4}\\right)}{9} & 0 & - \\frac{\\sqrt{2} \\left(B_{2,4} + i S_{2,4}\\right)}{9} & 0 & - \\frac{\\sqrt{2} \\left(B_{3,4} + i S_{3,4}\\right)}{9} & 0 & - \\frac{\\sqrt{2} \\left(B_{4,4} + i S_{4,4}\\right)}{9} & 0 & \\frac{2 \\sqrt{55} \\left(B_{4,4} + i S_{4,4}\\right)}{99} & 0 & - \\frac{2 \\sqrt{55} \\left(B_{3,4} + i S_{3,4}\\right)}{99} & 0 & \\frac{2 \\sqrt{55} \\left(B_{2,4} + i S_{2,4}\\right)}{99} & 0 & - \\frac{2 \\sqrt{55} \\left(B_{1,4} + i S_{1,4}\\right)}{99} & 0 & \\frac{4 \\sqrt{55} B_{0,4}}{99} & 0 & \\frac{2 \\sqrt{55} \\left(B_{1,4} + i S_{1,4}\\right)}{99} & 0 & \\frac{2 \\sqrt{55} \\left(B_{2,4} + i S_{2,4}\\right)}{99} & 0 & \\frac{2 \\sqrt{55} \\left(B_{3,4} + i S_{3,4}\\right)}{99} & 0 & \\frac{2 \\sqrt{55} \\left(B_{4,4} + i S_{4,4}\\right)}{99} & 0 & 0 & 0 & 0 & 0 & 0 & 0 & 0 & 0 & 0 & 0 & 0 & 0 & 0 & 0 & 0 & 0 & 0\\\\0 & 0 & 0 & 0 & 0 & 0 & 0 & 0 & 0 & 0 & 0 & 0 & 0 & 0 & 0 & 0 & 0 & 0 & 0 & 0 & 0 & 0 & 0 & 0 & 0 & 0 & 0 & 0 & 0 & 0 & 0 & 0 & 0 & 0 & 0 & 0 & \\frac{2 \\sqrt{22} \\left(B_{4,4} + i S_{4,4}\\right)}{33} & 0 & - \\frac{2 \\sqrt{22} \\left(B_{3,4} + i S_{3,4}\\right)}{33} & 0 & \\frac{2 \\sqrt{22} \\left(B_{2,4} + i S_{2,4}\\right)}{33} & 0 & - \\frac{2 \\sqrt{22} \\left(B_{1,4} + i S_{1,4}\\right)}{33} & 0 & \\frac{4 \\sqrt{22} B_{0,4}}{33} & 0 & \\frac{2 \\sqrt{22} \\left(B_{1,4} + i S_{1,4}\\right)}{33} & 0 & \\frac{2 \\sqrt{22} \\left(B_{2,4} + i S_{2,4}\\right)}{33} & 0 & \\frac{2 \\sqrt{22} \\left(B_{3,4} + i S_{3,4}\\right)}{33} & 0 & \\frac{2 \\sqrt{22} \\left(B_{4,4} + i S_{4,4}\\right)}{33} & 0\\\\0 & 0 & 0 & 0 & 0 & 0 & 0 & 0 & 0 & 0 & 0 & 0 & 0 & 0 & 0 & 0 & 0 & 0 & 0 & 0 & 0 & 0 & 0 & 0 & 0 & 0 & 0 & 0 & 0 & 0 & 0 & 0 & 0 & 0 & 0 & 0 & 0 & \\frac{2 \\sqrt{22} \\left(B_{4,4} + i S_{4,4}\\right)}{33} & 0 & - \\frac{2 \\sqrt{22} \\left(B_{3,4} + i S_{3,4}\\right)}{33} & 0 & \\frac{2 \\sqrt{22} \\left(B_{2,4} + i S_{2,4}\\right)}{33} & 0 & - \\frac{2 \\sqrt{22} \\left(B_{1,4} + i S_{1,4}\\right)}{33} & 0 & \\frac{4 \\sqrt{22} B_{0,4}}{33} & 0 & \\frac{2 \\sqrt{22} \\left(B_{1,4} + i S_{1,4}\\right)}{33} & 0 & \\frac{2 \\sqrt{22} \\left(B_{2,4} + i S_{2,4}\\right)}{33} & 0 & \\frac{2 \\sqrt{22} \\left(B_{3,4} + i S_{3,4}\\right)}{33} & 0 & \\frac{2 \\sqrt{22} \\left(B_{4,4} + i S_{4,4}\\right)}{33}\\end{array}\\right]$"
      ],
      "text/plain": [
       "Matrix([\n",
       "[-sqrt(2)*(B_{4,4} + I*S_{4,4})/9,                                0, sqrt(2)*(B_{3,4} + I*S_{3,4})/9,                               0, -sqrt(2)*(B_{2,4} + I*S_{2,4})/9,                                0, sqrt(2)*(B_{1,4} + I*S_{1,4})/9,                               0, -2*sqrt(2)*B_{0,4}/9,                    0, -sqrt(2)*(B_{1,4} + I*S_{1,4})/9,                                0, -sqrt(2)*(B_{2,4} + I*S_{2,4})/9,                                0, -sqrt(2)*(B_{3,4} + I*S_{3,4})/9,                                0, -sqrt(2)*(B_{4,4} + I*S_{4,4})/9,                                0, 2*sqrt(55)*(B_{4,4} + I*S_{4,4})/99,                                   0, -2*sqrt(55)*(B_{3,4} + I*S_{3,4})/99,                                    0, 2*sqrt(55)*(B_{2,4} + I*S_{2,4})/99,                                   0, -2*sqrt(55)*(B_{1,4} + I*S_{1,4})/99,                                    0, 4*sqrt(55)*B_{0,4}/99,                     0, 2*sqrt(55)*(B_{1,4} + I*S_{1,4})/99,                                   0, 2*sqrt(55)*(B_{2,4} + I*S_{2,4})/99,                                   0, 2*sqrt(55)*(B_{3,4} + I*S_{3,4})/99,                                   0, 2*sqrt(55)*(B_{4,4} + I*S_{4,4})/99,                                   0,                                   0,                                   0,                                    0,                                    0,                                   0,                                   0,                                    0,                                    0,                     0,                     0,                                   0,                                   0,                                   0,                                   0,                                   0,                                   0,                                   0,                                   0],\n",
       "[                               0, -sqrt(2)*(B_{4,4} + I*S_{4,4})/9,                               0, sqrt(2)*(B_{3,4} + I*S_{3,4})/9,                                0, -sqrt(2)*(B_{2,4} + I*S_{2,4})/9,                               0, sqrt(2)*(B_{1,4} + I*S_{1,4})/9,                    0, -2*sqrt(2)*B_{0,4}/9,                                0, -sqrt(2)*(B_{1,4} + I*S_{1,4})/9,                                0, -sqrt(2)*(B_{2,4} + I*S_{2,4})/9,                                0, -sqrt(2)*(B_{3,4} + I*S_{3,4})/9,                                0, -sqrt(2)*(B_{4,4} + I*S_{4,4})/9,                                   0, 2*sqrt(55)*(B_{4,4} + I*S_{4,4})/99,                                    0, -2*sqrt(55)*(B_{3,4} + I*S_{3,4})/99,                                   0, 2*sqrt(55)*(B_{2,4} + I*S_{2,4})/99,                                    0, -2*sqrt(55)*(B_{1,4} + I*S_{1,4})/99,                     0, 4*sqrt(55)*B_{0,4}/99,                                   0, 2*sqrt(55)*(B_{1,4} + I*S_{1,4})/99,                                   0, 2*sqrt(55)*(B_{2,4} + I*S_{2,4})/99,                                   0, 2*sqrt(55)*(B_{3,4} + I*S_{3,4})/99,                                   0, 2*sqrt(55)*(B_{4,4} + I*S_{4,4})/99,                                   0,                                   0,                                    0,                                    0,                                   0,                                   0,                                    0,                                    0,                     0,                     0,                                   0,                                   0,                                   0,                                   0,                                   0,                                   0,                                   0,                                   0],\n",
       "[                               0,                                0,                               0,                               0,                                0,                                0,                               0,                               0,                    0,                    0,                                0,                                0,                                0,                                0,                                0,                                0,                                0,                                0,                                   0,                                   0,                                    0,                                    0,                                   0,                                   0,                                    0,                                    0,                     0,                     0,                                   0,                                   0,                                   0,                                   0,                                   0,                                   0,                                   0,                                   0, 2*sqrt(22)*(B_{4,4} + I*S_{4,4})/33,                                   0, -2*sqrt(22)*(B_{3,4} + I*S_{3,4})/33,                                    0, 2*sqrt(22)*(B_{2,4} + I*S_{2,4})/33,                                   0, -2*sqrt(22)*(B_{1,4} + I*S_{1,4})/33,                                    0, 4*sqrt(22)*B_{0,4}/33,                     0, 2*sqrt(22)*(B_{1,4} + I*S_{1,4})/33,                                   0, 2*sqrt(22)*(B_{2,4} + I*S_{2,4})/33,                                   0, 2*sqrt(22)*(B_{3,4} + I*S_{3,4})/33,                                   0, 2*sqrt(22)*(B_{4,4} + I*S_{4,4})/33,                                   0],\n",
       "[                               0,                                0,                               0,                               0,                                0,                                0,                               0,                               0,                    0,                    0,                                0,                                0,                                0,                                0,                                0,                                0,                                0,                                0,                                   0,                                   0,                                    0,                                    0,                                   0,                                   0,                                    0,                                    0,                     0,                     0,                                   0,                                   0,                                   0,                                   0,                                   0,                                   0,                                   0,                                   0,                                   0, 2*sqrt(22)*(B_{4,4} + I*S_{4,4})/33,                                    0, -2*sqrt(22)*(B_{3,4} + I*S_{3,4})/33,                                   0, 2*sqrt(22)*(B_{2,4} + I*S_{2,4})/33,                                    0, -2*sqrt(22)*(B_{1,4} + I*S_{1,4})/33,                     0, 4*sqrt(22)*B_{0,4}/33,                                   0, 2*sqrt(22)*(B_{1,4} + I*S_{1,4})/33,                                   0, 2*sqrt(22)*(B_{2,4} + I*S_{2,4})/33,                                   0, 2*sqrt(22)*(B_{3,4} + I*S_{3,4})/33,                                   0, 2*sqrt(22)*(B_{4,4} + I*S_{4,4})/33]])"
      ]
     },
     "metadata": {},
     "output_type": "display_data"
    }
   ],
   "source": [
    "counter = 0\n",
    "for k, v in parsed_table['EnergyMatrixTables'].items():\n",
    "    print(k)\n",
    "    display(v)\n",
    "    if counter == 5:\n",
    "        break\n",
    "    counter += 1"
   ]
  },
  {
   "cell_type": "code",
   "execution_count": 143,
   "metadata": {},
   "outputs": [
    {
     "data": {
      "text/plain": [
       "(2, 0, 0, 1/2, 1/2)"
      ]
     },
     "execution_count": 143,
     "metadata": {},
     "output_type": "execute_result"
    }
   ],
   "source": [
    "2/3*sp.s"
   ]
  },
  {
   "cell_type": "code",
   "execution_count": 142,
   "metadata": {},
   "outputs": [
    {
     "data": {
      "text/latex": [
       "$\\displaystyle \\left[\\begin{matrix}\\frac{B_{0,z} \\mu_{B,e} g_{I}}{2} + \\frac{14 E_{0}}{13} + 0.6923076923076925 E_{1} + 33 E_{3} + \\frac{37 M_{0}}{6} + \\frac{97 M_{2}}{6} + \\frac{1205 M_{4}}{66} + \\frac{43 P_{2}}{540} + \\frac{19 P_{4}}{1188} - \\frac{875 P_{6}}{15444} + 2 \\alpha + \\beta + \\gamma - \\zeta & - 0.5 B_{0,x} \\mu_{B,e} g_{I} + 0.5 B_{0,y} C \\mu_{B,e} e g_{I} l m o p x{\\left(0,1 \\right)} & - \\frac{17 \\sqrt{3} M_{0}}{3} - \\frac{\\sqrt{3} M_{2}}{3} - \\frac{5 \\sqrt{3} M_{4}}{33} + \\frac{49 \\sqrt{3} P_{2}}{270} + \\frac{49 \\sqrt{3} P_{4}}{594} + \\frac{175 \\sqrt{3} P_{6}}{7722} - 2 \\sqrt{3} \\zeta & 0\\\\- 0.5 B_{0,x} \\mu_{B,e} g_{I} - 0.5 B_{0,y} C \\mu_{B,e} e g_{I} l m o p x{\\left(0,1 \\right)} & - \\frac{B_{0,z} \\mu_{B,e} g_{I}}{2} + \\frac{14 E_{0}}{13} + 0.6923076923076925 E_{1} + 33 E_{3} + \\frac{37 M_{0}}{6} + \\frac{97 M_{2}}{6} + \\frac{1205 M_{4}}{66} + \\frac{43 P_{2}}{540} + \\frac{19 P_{4}}{1188} - \\frac{875 P_{6}}{15444} + 2 \\alpha + \\beta + \\gamma - \\zeta & 0 & - \\frac{17 \\sqrt{3} M_{0}}{3} - \\frac{\\sqrt{3} M_{2}}{3} - \\frac{5 \\sqrt{3} M_{4}}{33} + \\frac{49 \\sqrt{3} P_{2}}{270} + \\frac{49 \\sqrt{3} P_{4}}{594} + \\frac{175 \\sqrt{3} P_{6}}{7722} - 2 \\sqrt{3} \\zeta\\\\- \\frac{17 \\sqrt{3} M_{0}}{3} - \\frac{\\sqrt{3} M_{2}}{3} - \\frac{5 \\sqrt{3} M_{4}}{33} + \\frac{49 \\sqrt{3} P_{2}}{270} + \\frac{49 \\sqrt{3} P_{4}}{594} + \\frac{175 \\sqrt{3} P_{6}}{7722} - 2 \\sqrt{3} \\zeta & 0 & \\frac{B_{0,z} \\mu_{B,e} g_{I}}{2} + \\frac{14 E_{0}}{13} + 9.692307692307692 E_{1} & - 0.5 B_{0,x} \\mu_{B,e} g_{I} + 0.5 B_{0,y} C \\mu_{B,e} e g_{I} l m o p x{\\left(0,1 \\right)}\\\\0 & - \\frac{17 \\sqrt{3} M_{0}}{3} - \\frac{\\sqrt{3} M_{2}}{3} - \\frac{5 \\sqrt{3} M_{4}}{33} + \\frac{49 \\sqrt{3} P_{2}}{270} + \\frac{49 \\sqrt{3} P_{4}}{594} + \\frac{175 \\sqrt{3} P_{6}}{7722} - 2 \\sqrt{3} \\zeta & - 0.5 B_{0,x} \\mu_{B,e} g_{I} - 0.5 B_{0,y} C \\mu_{B,e} e g_{I} l m o p x{\\left(0,1 \\right)} & - \\frac{B_{0,z} \\mu_{B,e} g_{I}}{2} + \\frac{14 E_{0}}{13} + 9.692307692307692 E_{1}\\end{matrix}\\right]$"
      ],
      "text/plain": [
       "Matrix([\n",
       "[B_{0,z}*\\mu_{B,e}*g_{I}/2 + 14*E_{0}/13 + 0.6923076923076925*E_{1} + 33*E_{3} + 37*M_{0}/6 + 97*M_{2}/6 + 1205*M_{4}/66 + 43*P_{2}/540 + 19*P_{4}/1188 - 875*P_{6}/15444 + 2*\\alpha + \\beta + \\gamma - \\zeta,                                                                                                                                -0.5*B_{0,x}*\\mu_{B,e}*g_{I} + 0.5*B_{0,y}*C*\\mu_{B,e}*e*g_{I}*l*m*o*p*x(0, 1), -17*sqrt(3)*M_{0}/3 - sqrt(3)*M_{2}/3 - 5*sqrt(3)*M_{4}/33 + 49*sqrt(3)*P_{2}/270 + 49*sqrt(3)*P_{4}/594 + 175*sqrt(3)*P_{6}/7722 - 2*sqrt(3)*\\zeta,                                                                                                                                                   0],\n",
       "[                                                                                                                              -0.5*B_{0,x}*\\mu_{B,e}*g_{I} - 0.5*B_{0,y}*C*\\mu_{B,e}*e*g_{I}*l*m*o*p*x(0, 1), -B_{0,z}*\\mu_{B,e}*g_{I}/2 + 14*E_{0}/13 + 0.6923076923076925*E_{1} + 33*E_{3} + 37*M_{0}/6 + 97*M_{2}/6 + 1205*M_{4}/66 + 43*P_{2}/540 + 19*P_{4}/1188 - 875*P_{6}/15444 + 2*\\alpha + \\beta + \\gamma - \\zeta,                                                                                                                                                   0, -17*sqrt(3)*M_{0}/3 - sqrt(3)*M_{2}/3 - 5*sqrt(3)*M_{4}/33 + 49*sqrt(3)*P_{2}/270 + 49*sqrt(3)*P_{4}/594 + 175*sqrt(3)*P_{6}/7722 - 2*sqrt(3)*\\zeta],\n",
       "[                                                         -17*sqrt(3)*M_{0}/3 - sqrt(3)*M_{2}/3 - 5*sqrt(3)*M_{4}/33 + 49*sqrt(3)*P_{2}/270 + 49*sqrt(3)*P_{4}/594 + 175*sqrt(3)*P_{6}/7722 - 2*sqrt(3)*\\zeta,                                                                                                                                                                                                             0,                                                                                   B_{0,z}*\\mu_{B,e}*g_{I}/2 + 14*E_{0}/13 + 9.692307692307692*E_{1},                                                                      -0.5*B_{0,x}*\\mu_{B,e}*g_{I} + 0.5*B_{0,y}*C*\\mu_{B,e}*e*g_{I}*l*m*o*p*x(0, 1)],\n",
       "[                                                                                                                                                                                                           0,                                                           -17*sqrt(3)*M_{0}/3 - sqrt(3)*M_{2}/3 - 5*sqrt(3)*M_{4}/33 + 49*sqrt(3)*P_{2}/270 + 49*sqrt(3)*P_{4}/594 + 175*sqrt(3)*P_{6}/7722 - 2*sqrt(3)*\\zeta,                                                                      -0.5*B_{0,x}*\\mu_{B,e}*g_{I} - 0.5*B_{0,y}*C*\\mu_{B,e}*e*g_{I}*l*m*o*p*x(0, 1),                                                                                  -B_{0,z}*\\mu_{B,e}*g_{I}/2 + 14*E_{0}/13 + 9.692307692307692*E_{1}]])"
      ]
     },
     "execution_count": 142,
     "metadata": {},
     "output_type": "execute_result"
    }
   ],
   "source": [
    "v"
   ]
  },
  {
   "cell_type": "markdown",
   "metadata": {},
   "source": [
    "## Functional TeXForm"
   ]
  },
  {
   "cell_type": "code",
   "execution_count": 17,
   "metadata": {},
   "outputs": [],
   "source": [
    "import re\n",
    "from sympy.parsing.latex import parse_latex\n",
    "import sympy as sp\n",
    "from wolframclient.evaluation import WolframLanguageSession\n",
    "from wolframclient.language import wl\n",
    "session=WolframLanguageSession()\n",
    "\n",
    "session.evaluate(r'''vars = {B02, B04, B06, B0x, B0y, B0z, B12, B14, B16, B22, B24, B26, \n",
    "   B34, B36, B44, B46, B56, B66, E0, E1, E2, E3, eOrbitalRad, gI, gs, \n",
    "   M0, M2, M4, P2, P4, P6, S12, S14, S16, S22, S24, S26, S34, S36, \n",
    "   S44, S46, S56, \n",
    "   S66, \\[Alpha], \\[Beta], \\[Beta]BohrMag, \\[Beta]n, \\[Gamma], \\\n",
    "\\[Zeta]};\n",
    "svars = Table[\n",
    "   ToExpression[SubscriptBox[\"x\", ToString[i]]], {i, 1, Length[vars]}];\n",
    "reps = (#[[1]] -> #[[2]]) & /@ Transpose[{vars, svars}];\n",
    "ParseSymbol[thing_] :=\n",
    " (str = ToString[Chop[thing] /. reps, TeXForm];\n",
    "  Return[str]\n",
    "  )''')\n",
    "\n",
    "base_rep=[\n",
    "('B02',sp.Symbol('B_{0,2}')),\n",
    "('B04',sp.Symbol('B_{0,4}')),\n",
    "('B06',sp.Symbol('B_{0,6}')),\n",
    "('B0x',sp.Symbol('B_{0,x}')),\n",
    "('B0y',sp.Symbol('B_{0,y}')),\n",
    "('B0z',sp.Symbol('B_{0,z}')),\n",
    "('B12',sp.Symbol('B_{1,2}')),\n",
    "('B14',sp.Symbol('B_{1,4}')),\n",
    "('B16',sp.Symbol('B_{1,6}')),\n",
    "('B22',sp.Symbol('B_{2,2}')),\n",
    "('B24',sp.Symbol('B_{2,4}')),\n",
    "('B26',sp.Symbol('B_{2,6}')),\n",
    "('B34',sp.Symbol('B_{3,4}')),\n",
    "('B36',sp.Symbol('B_{3,6}')),\n",
    "('B44',sp.Symbol('B_{4,4}')),\n",
    "('B46',sp.Symbol('B_{4,6}')),\n",
    "('B56',sp.Symbol('B_{5,6}')),\n",
    "('B66',sp.Symbol('B_{6,6}')),\n",
    "('E0',sp.Symbol('E_{0}')),\n",
    "('E1',sp.Symbol('E_{1}')),\n",
    "('E2',sp.Symbol('E_{2}')),\n",
    "('E3',sp.Symbol('E_{3}')),\n",
    "('eOrbitalRad',sp.Symbol(r'\\epsilon')),\n",
    "('gI',sp.Symbol('g_{I}')),\n",
    "('gs',sp.Symbol('g_{s}')),\n",
    "('M0',sp.Symbol('M_{0}')),\n",
    "('M2',sp.Symbol('M_{2}')),\n",
    "('M4',sp.Symbol('M_{4}')),\n",
    "('P2',sp.Symbol('P_{2}')),\n",
    "('P4',sp.Symbol('P_{4}')),\n",
    "('P6',sp.Symbol('P_{6}')),\n",
    "('S12',sp.Symbol('S_{1,2}')),\n",
    "('S14',sp.Symbol('S_{1,4}')),\n",
    "('S16',sp.Symbol('S_{1,6}')),\n",
    "('S22',sp.Symbol('S_{2,2}')),\n",
    "('S24',sp.Symbol('S_{2,4}')),\n",
    "('S26',sp.Symbol('S_{2,6}')),\n",
    "('S34',sp.Symbol('S_{3,4}')),\n",
    "('S36',sp.Symbol('S_{3,6}')),\n",
    "('S44',sp.Symbol('S_{4,4}')),\n",
    "('S46',sp.Symbol('S_{4,6}')),\n",
    "('S56',sp.Symbol('S_{5,6}')),\n",
    "('S66',sp.Symbol('S_{6,6}')),\n",
    "('\\[Alpha]',sp.Symbol(r'\\alpha')),\n",
    "('\\[Beta]',sp.Symbol(r'\\beta')),\n",
    "('\\[Beta]BohrMag',sp.Symbol(r'\\mu_{B,e}')),\n",
    "('\\[Beta]n',sp.Symbol(r'\\mu_{B,e}')),\n",
    "('\\[Gamma]',sp.Symbol(r'\\gamma')),\n",
    "('\\[Zeta]',sp.Symbol(r'\\zeta'))];\n",
    "master_rep = {}\n",
    "for idx, it in enumerate(base_rep):\n",
    "    key = sp.Symbol('x_{%d}' % (idx+1))\n",
    "    master_rep[key] = it[1]"
   ]
  },
  {
   "cell_type": "code",
   "execution_count": null,
   "metadata": {},
   "outputs": [],
   "source": [
    "re.sub()"
   ]
  },
  {
   "cell_type": "code",
   "execution_count": 47,
   "metadata": {},
   "outputs": [
    {
     "data": {
      "text/plain": [
       "'(x_{9})'"
      ]
     },
     "execution_count": 47,
     "metadata": {},
     "output_type": "execute_result"
    }
   ],
   "source": [
    "re.sub(r'x_(\\d)',r'(x_{\\1})','x_9')"
   ]
  },
  {
   "cell_type": "code",
   "execution_count": 179,
   "metadata": {},
   "outputs": [],
   "source": [
    "def lanthanum_cleanup(fname):\n",
    "    lanthanum = [l.strip().split(' =')[0] for l in open(fname,'r').readlines() if l[0] != ' ']\n",
    "    lanthanum = list(filter(lambda x: x != '', lanthanum))\n",
    "    rhs = {}\n",
    "    full_lanthanum = [l.strip() for l in open('/Volumes/GoogleDrive/My Drive/Zia Lab/Codebase/qdef/data/lanthanide_tables/HFEnergyMatrixTables copy 2','r').readlines()]\n",
    "    for line_idx, line in enumerate(full_lanthanum):\n",
    "        if line_idx < len(full_lanthanum)-1:\n",
    "            next_line = full_lanthanum[line_idx+1]\n",
    "        if 'Attributes[Null]' in line:\n",
    "            continue\n",
    "        if ('EnergyMatrixTable' in line) or ('AllowedM' in line) or ('EnergyStatesTable' in line):\n",
    "            key = line.split('=')[0].strip()\n",
    "            chunks = []\n",
    "            try:\n",
    "                first_chunk = line.split('=')[1]\n",
    "            except:\n",
    "                first_chunk = ''\n",
    "            chunks.append(first_chunk)\n",
    "            if key not in rhs:\n",
    "                rhs[key] = []\n",
    "            continue\n",
    "        if line == '' or ('EnergyMatrixTable' in next_line) or ('AllowedM' in next_line) or ('EnergyStatesTable' in next_line):\n",
    "            chunks.append(line.strip())\n",
    "            whole_chunk = ''.join(chunks).strip()\n",
    "            if whole_chunk != '':\n",
    "                rhs[key].append(whole_chunk)\n",
    "            chunks = []\n",
    "        else:\n",
    "            chunks.append(line.strip())\n",
    "    clean_output = []\n",
    "    for k,v in rhs.items():\n",
    "        unique = list(set(v))\n",
    "        assert len(unique) == 1\n",
    "        unique = unique[0]\n",
    "        out = '%s = %s' % (k, unique)\n",
    "        clean_output.append(out)\n",
    "    return clean_output\n",
    "\n",
    "def parse_it(astr):\n",
    "    astr = cleanup(astr)\n",
    "    return sp.expand((parse_latex(astr)))\n",
    "\n",
    "def cleanup(astr):\n",
    "    reps = [('. ',''),\n",
    "            (r'\\right)',')'),\n",
    "            (r'\\left(','('),\n",
    "            ]\n",
    "    for rep in reps:\n",
    "        astr = astr.replace(*rep)\n",
    "    return astr\n",
    "\n",
    "def parse_energy_matrix_table(astr):\n",
    "    lhs = astr.split('= ')[0].strip()\n",
    "    rhs = astr.split('= ')[-1]\n",
    "    # define it in the Mathematica session\n",
    "    session.evaluate(astr)\n",
    "    # get num rows\n",
    "    num_rows, num_cols = tuple(session.evaluate(\"Dimensions[%s]\" % lhs))\n",
    "    parsed_matrix = []\n",
    "    for num_row in range(1,num_rows+1):\n",
    "        row = []\n",
    "        for num_col in range(1, num_cols+1):\n",
    "            parse = cleanup(session.evaluate(\"ParseSymbol[%s[[%d,%d]]]\" % (lhs, num_row, num_col)))\n",
    "            parse = re.sub(r'x_(\\d)',r'(x_{\\1})', parse)\n",
    "            parse = re.sub(r'i',r'(i)',parse)\n",
    "            parsed = sp.expand(parse_latex(parse)).subs(sp.Symbol('i'),sp.I)\n",
    "            row.append(parsed)\n",
    "        parsed_matrix.append(row)\n",
    "    return lhs, sp.Matrix(parsed_matrix)\n",
    "\n",
    "def parse_allowed_m(astr):\n",
    "    lhs = astr.split('= ')[0].strip()\n",
    "    rhs = astr.split('= ')[-1]\n",
    "    # define it in the Mathematica session\n",
    "    session.evaluate(astr)\n",
    "    # get num rows\n",
    "    num_lists = tuple(session.evaluate(\"Dimensions[%s]\" % lhs))[0]\n",
    "    M_value = int(lhs.split('[')[-1].split(']')[0])\n",
    "    rows = []\n",
    "    for list_index in range(1,num_lists+1):\n",
    "        the_list = session.evaluate(\"%s[[%d]]\" % (lhs, list_index))\n",
    "        try:\n",
    "            the_row = [sp.S(x[0])/sp.S(x[1]) for x in the_list]\n",
    "        except:\n",
    "            the_row = [sp.S(x) for x in the_list]\n",
    "        rows.append(the_row)\n",
    "    return M_value, rows  \n",
    "\n",
    "def parse_energy_states_table(astr):\n",
    "    lhs = astr.split('= ')[0].strip()\n",
    "    rhs = astr.split('= ')[-1]\n",
    "    # define it in the Mathematica session\n",
    "    session.evaluate(astr)\n",
    "    # get num rows\n",
    "    num_rows, num_cols = tuple(session.evaluate(\"Dimensions[%s]\" % lhs))\n",
    "    parsed_matrix = []\n",
    "    rows = []\n",
    "    for num_row in range(1,num_rows+1):\n",
    "        head = session.evaluate(\"%s[[%d]][[-1]]\" % (lhs, num_row))\n",
    "        try:\n",
    "            head = sp.S(head[0])/sp.S(head[1])\n",
    "        except:\n",
    "            head = sp.S(head)\n",
    "        thorax = session.evaluate(\"%s[[%d]][[1]][[-1]]\" % (lhs, num_row))\n",
    "        try:\n",
    "            thorax = sp.S(thorax[0])/sp.S(thorax[1])\n",
    "        except:\n",
    "            thorax = sp.S(thorax)\n",
    "        knees = session.evaluate(\"%s[[%d]][[1]][[1]]\" % (lhs, num_row))\n",
    "        knees = (str(knees[0]), sp.S(knees[1]))\n",
    "        row = (((knees),thorax),head)\n",
    "        rows.append(row)\n",
    "    args = '(%s)' % lhs.split('[')[-1].split(']')[0]\n",
    "    return sp.S(args), rows\n",
    "\n",
    "def parse_table(fname):\n",
    "    clear_lanthanum = lanthanum_cleanup(fname)\n",
    "    EnergyMatrixTables = {}\n",
    "    counter = 0\n",
    "    for cl in clear_lanthanum:\n",
    "        if 'EnergyMatrixTable' in cl:\n",
    "            print('.',end='|')\n",
    "            parse = parse_energy_matrix_table(cl)\n",
    "            args = sp.S(parse[0].split('[')[-1].split(']')[0])\n",
    "            EnergyMatrixTables[args] = parse[1].subs(master_rep)\n",
    "            counter += 1\n",
    "            # if counter == 5:\n",
    "            #     break\n",
    "    EnergyStatesTable = {}\n",
    "    for cl in clear_lanthanum:\n",
    "        if 'EnergyStatesTable' in cl:\n",
    "            print('.',end='|')\n",
    "            parse = parse_energy_states_table(cl)\n",
    "            args = parse[0]\n",
    "            EnergyStatesTable[args] = parse[1]\n",
    "    AllowedM = {}\n",
    "    for cl in clear_lanthanum:\n",
    "        if 'AllowedM' in cl:\n",
    "            print('.',end='|')\n",
    "            parse = parse_allowed_m(cl)\n",
    "            AllowedM[parse[0]] = parse[1]\n",
    "    return {'EnergyMatrixTables': EnergyMatrixTables,\n",
    "            'EnergyStatesTable': EnergyStatesTable,\n",
    "            'AllowedM': AllowedM}\n",
    "def rational_approx(x, N):\n",
    "    sign = 1\n",
    "    if x < 0:\n",
    "        sign = -1\n",
    "        x = -x\n",
    "    if x > 1:\n",
    "        ix, dx = int(x), x - int(x)\n",
    "    else:\n",
    "        ix = 0\n",
    "        dx = x\n",
    "    a, b = 0, 1\n",
    "    c, d = 1, 1\n",
    "    while (b <= N and d <= N):\n",
    "        mediant = float(a+c)/(b+d)\n",
    "        if dx == mediant:\n",
    "            if b + d <= N:\n",
    "                return sign*(sp.S(ix)+sp.S(a+c)/sp.S(b+d))\n",
    "            elif d > b:\n",
    "                return sign*(sp.S(ix)+sp.S(c)/sp.S(d))\n",
    "            else:\n",
    "                return sign*(sp.S(ix)+sp.S(a)/sp.S(b))\n",
    "        elif dx > mediant:\n",
    "            a, b = a+c, b+d\n",
    "        else:\n",
    "            c, d = a+c,b+d\n",
    "\n",
    "    if (b > N):\n",
    "        return sign*(sp.S(c)/sp.S(d) + sp.S(ix))\n",
    "    else:\n",
    "        return sign*(sp.S(a)/sp.S(b) + sp.S(ix))\n",
    "def rational_simplify(sympy_expr):\n",
    "    sympy_dict = sympy_expr.as_coefficients_dict()\n",
    "    for k,v in sympy_dict.items():\n",
    "        if isinstance(v, sp.core.numbers.Float):\n",
    "            sympy_dict[k] = rational_approx(v,1000)\n",
    "    total = sum([k*v for k,v in sympy_dict.items()])\n",
    "    return total"
   ]
  },
  {
   "cell_type": "code",
   "execution_count": 180,
   "metadata": {},
   "outputs": [],
   "source": [
    "# teststring = '(Subscript(x,46)*(2*Sqrt(2)*Subscript(x,6)*(-1 + Subscript(x,25)) + ((Sqrt(2) + 1/(2.*Sqrt(5)))*Subscript(x,24)*Subscript(x,25)*Subscript(x,47))/Subscript(x,23)))/(2.*Sqrt(3))'\n",
    "# teststring = re.sub(r'Subscript\\(x,(\\d{1,2})\\)', r'x_{\\1}', teststring)\n",
    "# teststring = re.sub(r'Sqrt\\((.*?)\\)', r'sqrt{\\1}', teststring).replace('sqrt','\\sqrt').replace('.*','*')\n",
    "# sp.expand(parse_latex(teststring))"
   ]
  },
  {
   "cell_type": "code",
   "execution_count": 181,
   "metadata": {},
   "outputs": [
    {
     "name": "stdout",
     "output_type": "stream",
     "text": [
      ".|"
     ]
    },
    {
     "ename": "LaTeXParsingError",
     "evalue": "I don't understand this\n(14*Subscr(i)pt(x,19))/13+ 0.6923076923076925*Subscr(i)pt(x,20) + 33.*Subscr(i)pt(x,22) + (37*Subscr(i)pt(x,26))/6+ (97*Subscr(i)pt(x,27))/6+ (1205*Subscr(i)pt(x,28))/66+ (43*Subscr(i)pt(x,29))/540+ (19*Subscr(i)pt(x,30))/1188- (875*Subscr(i)pt(x,31))/15444+ 2*Subscr(i)pt(x,44) + Subscr(i)pt(x,45) + (Subscr(i)pt(x,6)*Subscr(i)pt(x,24)*Subscr(i)pt(x,47))/2+ Subscr(i)pt(x,48) - Subscr(i)pt(x,49)\n~~~~~~~~~~~~~~~~~~~~~~~~~~~~~~~~~~~~~~~~~~~~~~~~~~~~~~~~~~~~~~~~~~~~^",
     "output_type": "error",
     "traceback": [
      "\u001b[0;31m---------------------------------------------------------------------------\u001b[0m",
      "\u001b[0;31mLexerNoViableAltException\u001b[0m                 Traceback (most recent call last)",
      "\u001b[0;32m~/opt/anaconda3/envs/qdef3p8/lib/python3.8/site-packages/antlr4/Lexer.py\u001b[0m in \u001b[0;36mnextToken\u001b[0;34m(self)\u001b[0m\n\u001b[1;32m    127\u001b[0m                     \u001b[0;32mtry\u001b[0m\u001b[0;34m:\u001b[0m\u001b[0;34m\u001b[0m\u001b[0;34m\u001b[0m\u001b[0m\n\u001b[0;32m--> 128\u001b[0;31m                         \u001b[0mttype\u001b[0m \u001b[0;34m=\u001b[0m \u001b[0mself\u001b[0m\u001b[0;34m.\u001b[0m\u001b[0m_interp\u001b[0m\u001b[0;34m.\u001b[0m\u001b[0mmatch\u001b[0m\u001b[0;34m(\u001b[0m\u001b[0mself\u001b[0m\u001b[0;34m.\u001b[0m\u001b[0m_input\u001b[0m\u001b[0;34m,\u001b[0m \u001b[0mself\u001b[0m\u001b[0;34m.\u001b[0m\u001b[0m_mode\u001b[0m\u001b[0;34m)\u001b[0m\u001b[0;34m\u001b[0m\u001b[0;34m\u001b[0m\u001b[0m\n\u001b[0m\u001b[1;32m    129\u001b[0m                     \u001b[0;32mexcept\u001b[0m \u001b[0mLexerNoViableAltException\u001b[0m \u001b[0;32mas\u001b[0m \u001b[0me\u001b[0m\u001b[0;34m:\u001b[0m\u001b[0;34m\u001b[0m\u001b[0;34m\u001b[0m\u001b[0m\n",
      "\u001b[0;32m~/opt/anaconda3/envs/qdef3p8/lib/python3.8/site-packages/antlr4/atn/LexerATNSimulator.py\u001b[0m in \u001b[0;36mmatch\u001b[0;34m(self, input, mode)\u001b[0m\n\u001b[1;32m     98\u001b[0m             \u001b[0;32melse\u001b[0m\u001b[0;34m:\u001b[0m\u001b[0;34m\u001b[0m\u001b[0;34m\u001b[0m\u001b[0m\n\u001b[0;32m---> 99\u001b[0;31m                 \u001b[0;32mreturn\u001b[0m \u001b[0mself\u001b[0m\u001b[0;34m.\u001b[0m\u001b[0mexecATN\u001b[0m\u001b[0;34m(\u001b[0m\u001b[0minput\u001b[0m\u001b[0;34m,\u001b[0m \u001b[0mdfa\u001b[0m\u001b[0;34m.\u001b[0m\u001b[0ms0\u001b[0m\u001b[0;34m)\u001b[0m\u001b[0;34m\u001b[0m\u001b[0;34m\u001b[0m\u001b[0m\n\u001b[0m\u001b[1;32m    100\u001b[0m         \u001b[0;32mfinally\u001b[0m\u001b[0;34m:\u001b[0m\u001b[0;34m\u001b[0m\u001b[0;34m\u001b[0m\u001b[0m\n",
      "\u001b[0;32m~/opt/anaconda3/envs/qdef3p8/lib/python3.8/site-packages/antlr4/atn/LexerATNSimulator.py\u001b[0m in \u001b[0;36mexecATN\u001b[0;34m(self, input, ds0)\u001b[0m\n\u001b[1;32m    190\u001b[0m \u001b[0;34m\u001b[0m\u001b[0m\n\u001b[0;32m--> 191\u001b[0;31m         \u001b[0;32mreturn\u001b[0m \u001b[0mself\u001b[0m\u001b[0;34m.\u001b[0m\u001b[0mfailOrAccept\u001b[0m\u001b[0;34m(\u001b[0m\u001b[0mself\u001b[0m\u001b[0;34m.\u001b[0m\u001b[0mprevAccept\u001b[0m\u001b[0;34m,\u001b[0m \u001b[0minput\u001b[0m\u001b[0;34m,\u001b[0m \u001b[0ms\u001b[0m\u001b[0;34m.\u001b[0m\u001b[0mconfigs\u001b[0m\u001b[0;34m,\u001b[0m \u001b[0mt\u001b[0m\u001b[0;34m)\u001b[0m\u001b[0;34m\u001b[0m\u001b[0;34m\u001b[0m\u001b[0m\n\u001b[0m\u001b[1;32m    192\u001b[0m \u001b[0;34m\u001b[0m\u001b[0m\n",
      "\u001b[0;32m~/opt/anaconda3/envs/qdef3p8/lib/python3.8/site-packages/antlr4/atn/LexerATNSimulator.py\u001b[0m in \u001b[0;36mfailOrAccept\u001b[0;34m(self, prevAccept, input, reach, t)\u001b[0m\n\u001b[1;32m    249\u001b[0m                 \u001b[0;32mreturn\u001b[0m \u001b[0mToken\u001b[0m\u001b[0;34m.\u001b[0m\u001b[0mEOF\u001b[0m\u001b[0;34m\u001b[0m\u001b[0;34m\u001b[0m\u001b[0m\n\u001b[0;32m--> 250\u001b[0;31m             \u001b[0;32mraise\u001b[0m \u001b[0mLexerNoViableAltException\u001b[0m\u001b[0;34m(\u001b[0m\u001b[0mself\u001b[0m\u001b[0;34m.\u001b[0m\u001b[0mrecog\u001b[0m\u001b[0;34m,\u001b[0m \u001b[0minput\u001b[0m\u001b[0;34m,\u001b[0m \u001b[0mself\u001b[0m\u001b[0;34m.\u001b[0m\u001b[0mstartIndex\u001b[0m\u001b[0;34m,\u001b[0m \u001b[0mreach\u001b[0m\u001b[0;34m)\u001b[0m\u001b[0;34m\u001b[0m\u001b[0;34m\u001b[0m\u001b[0m\n\u001b[0m\u001b[1;32m    251\u001b[0m \u001b[0;34m\u001b[0m\u001b[0m\n",
      "\u001b[0;31mLexerNoViableAltException\u001b[0m: LexerNoViableAltException('.')",
      "\nDuring handling of the above exception, another exception occurred:\n",
      "\u001b[0;31mLaTeXParsingError\u001b[0m                         Traceback (most recent call last)",
      "\u001b[0;32m<ipython-input-181-93e7758f62df>\u001b[0m in \u001b[0;36m<module>\u001b[0;34m\u001b[0m\n\u001b[0;32m----> 1\u001b[0;31m \u001b[0mparsed_table\u001b[0m \u001b[0;34m=\u001b[0m \u001b[0mparse_table\u001b[0m\u001b[0;34m(\u001b[0m\u001b[0;34m'/Volumes/GoogleDrive/My Drive/Zia Lab/Codebase/qdef/data/lanthanide_tables/HFEnergyMatrixTables copy 2'\u001b[0m\u001b[0;34m)\u001b[0m\u001b[0;34m\u001b[0m\u001b[0;34m\u001b[0m\u001b[0m\n\u001b[0m\u001b[1;32m      2\u001b[0m \u001b[0;32mfor\u001b[0m \u001b[0mk\u001b[0m\u001b[0;34m,\u001b[0m\u001b[0mv\u001b[0m \u001b[0;32min\u001b[0m \u001b[0mparsed_table\u001b[0m\u001b[0;34m[\u001b[0m\u001b[0;34m'EnergyMatrixTables'\u001b[0m\u001b[0;34m]\u001b[0m\u001b[0;34m.\u001b[0m\u001b[0mitems\u001b[0m\u001b[0;34m(\u001b[0m\u001b[0;34m)\u001b[0m\u001b[0;34m:\u001b[0m\u001b[0;34m\u001b[0m\u001b[0;34m\u001b[0m\u001b[0m\n\u001b[1;32m      3\u001b[0m     \u001b[0mnum_rows\u001b[0m \u001b[0;34m=\u001b[0m \u001b[0mv\u001b[0m\u001b[0;34m.\u001b[0m\u001b[0mrows\u001b[0m\u001b[0;34m\u001b[0m\u001b[0;34m\u001b[0m\u001b[0m\n\u001b[1;32m      4\u001b[0m     \u001b[0mnum_cols\u001b[0m \u001b[0;34m=\u001b[0m \u001b[0mv\u001b[0m\u001b[0;34m.\u001b[0m\u001b[0mcols\u001b[0m\u001b[0;34m\u001b[0m\u001b[0;34m\u001b[0m\u001b[0m\n\u001b[1;32m      5\u001b[0m     \u001b[0;32mfor\u001b[0m \u001b[0mnum_row\u001b[0m \u001b[0;32min\u001b[0m \u001b[0mrange\u001b[0m\u001b[0;34m(\u001b[0m\u001b[0mnum_rows\u001b[0m\u001b[0;34m)\u001b[0m\u001b[0;34m:\u001b[0m\u001b[0;34m\u001b[0m\u001b[0;34m\u001b[0m\u001b[0m\n",
      "\u001b[0;32m<ipython-input-179-3ca6b374daeb>\u001b[0m in \u001b[0;36mparse_table\u001b[0;34m(fname)\u001b[0m\n\u001b[1;32m    122\u001b[0m         \u001b[0;32mif\u001b[0m \u001b[0;34m'EnergyMatrixTable'\u001b[0m \u001b[0;32min\u001b[0m \u001b[0mcl\u001b[0m\u001b[0;34m:\u001b[0m\u001b[0;34m\u001b[0m\u001b[0;34m\u001b[0m\u001b[0m\n\u001b[1;32m    123\u001b[0m             \u001b[0mprint\u001b[0m\u001b[0;34m(\u001b[0m\u001b[0;34m'.'\u001b[0m\u001b[0;34m,\u001b[0m\u001b[0mend\u001b[0m\u001b[0;34m=\u001b[0m\u001b[0;34m'|'\u001b[0m\u001b[0;34m)\u001b[0m\u001b[0;34m\u001b[0m\u001b[0;34m\u001b[0m\u001b[0m\n\u001b[0;32m--> 124\u001b[0;31m             \u001b[0mparse\u001b[0m \u001b[0;34m=\u001b[0m \u001b[0mparse_energy_matrix_table\u001b[0m\u001b[0;34m(\u001b[0m\u001b[0mcl\u001b[0m\u001b[0;34m)\u001b[0m\u001b[0;34m\u001b[0m\u001b[0;34m\u001b[0m\u001b[0m\n\u001b[0m\u001b[1;32m    125\u001b[0m             \u001b[0margs\u001b[0m \u001b[0;34m=\u001b[0m \u001b[0msp\u001b[0m\u001b[0;34m.\u001b[0m\u001b[0mS\u001b[0m\u001b[0;34m(\u001b[0m\u001b[0mparse\u001b[0m\u001b[0;34m[\u001b[0m\u001b[0;36m0\u001b[0m\u001b[0;34m]\u001b[0m\u001b[0;34m.\u001b[0m\u001b[0msplit\u001b[0m\u001b[0;34m(\u001b[0m\u001b[0;34m'['\u001b[0m\u001b[0;34m)\u001b[0m\u001b[0;34m[\u001b[0m\u001b[0;34m-\u001b[0m\u001b[0;36m1\u001b[0m\u001b[0;34m]\u001b[0m\u001b[0;34m.\u001b[0m\u001b[0msplit\u001b[0m\u001b[0;34m(\u001b[0m\u001b[0;34m']'\u001b[0m\u001b[0;34m)\u001b[0m\u001b[0;34m[\u001b[0m\u001b[0;36m0\u001b[0m\u001b[0;34m]\u001b[0m\u001b[0;34m)\u001b[0m\u001b[0;34m\u001b[0m\u001b[0;34m\u001b[0m\u001b[0m\n\u001b[1;32m    126\u001b[0m             \u001b[0mEnergyMatrixTables\u001b[0m\u001b[0;34m[\u001b[0m\u001b[0margs\u001b[0m\u001b[0;34m]\u001b[0m \u001b[0;34m=\u001b[0m \u001b[0mparse\u001b[0m\u001b[0;34m[\u001b[0m\u001b[0;36m1\u001b[0m\u001b[0;34m]\u001b[0m\u001b[0;34m.\u001b[0m\u001b[0msubs\u001b[0m\u001b[0;34m(\u001b[0m\u001b[0mmaster_rep\u001b[0m\u001b[0;34m)\u001b[0m\u001b[0;34m\u001b[0m\u001b[0;34m\u001b[0m\u001b[0m\n",
      "\u001b[0;32m<ipython-input-179-3ca6b374daeb>\u001b[0m in \u001b[0;36mparse_energy_matrix_table\u001b[0;34m(astr)\u001b[0m\n\u001b[1;32m     65\u001b[0m             \u001b[0mparse\u001b[0m \u001b[0;34m=\u001b[0m \u001b[0mre\u001b[0m\u001b[0;34m.\u001b[0m\u001b[0msub\u001b[0m\u001b[0;34m(\u001b[0m\u001b[0;34mr'x_(\\d)'\u001b[0m\u001b[0;34m,\u001b[0m\u001b[0;34mr'(x_{\\1})'\u001b[0m\u001b[0;34m,\u001b[0m \u001b[0mparse\u001b[0m\u001b[0;34m)\u001b[0m\u001b[0;34m\u001b[0m\u001b[0;34m\u001b[0m\u001b[0m\n\u001b[1;32m     66\u001b[0m             \u001b[0mparse\u001b[0m \u001b[0;34m=\u001b[0m \u001b[0mre\u001b[0m\u001b[0;34m.\u001b[0m\u001b[0msub\u001b[0m\u001b[0;34m(\u001b[0m\u001b[0;34mr'i'\u001b[0m\u001b[0;34m,\u001b[0m\u001b[0;34mr'(i)'\u001b[0m\u001b[0;34m,\u001b[0m\u001b[0mparse\u001b[0m\u001b[0;34m)\u001b[0m\u001b[0;34m\u001b[0m\u001b[0;34m\u001b[0m\u001b[0m\n\u001b[0;32m---> 67\u001b[0;31m             \u001b[0mparsed\u001b[0m \u001b[0;34m=\u001b[0m \u001b[0msp\u001b[0m\u001b[0;34m.\u001b[0m\u001b[0mexpand\u001b[0m\u001b[0;34m(\u001b[0m\u001b[0mparse_latex\u001b[0m\u001b[0;34m(\u001b[0m\u001b[0mparse\u001b[0m\u001b[0;34m)\u001b[0m\u001b[0;34m)\u001b[0m\u001b[0;34m.\u001b[0m\u001b[0msubs\u001b[0m\u001b[0;34m(\u001b[0m\u001b[0msp\u001b[0m\u001b[0;34m.\u001b[0m\u001b[0mSymbol\u001b[0m\u001b[0;34m(\u001b[0m\u001b[0;34m'i'\u001b[0m\u001b[0;34m)\u001b[0m\u001b[0;34m,\u001b[0m\u001b[0msp\u001b[0m\u001b[0;34m.\u001b[0m\u001b[0mI\u001b[0m\u001b[0;34m)\u001b[0m\u001b[0;34m\u001b[0m\u001b[0;34m\u001b[0m\u001b[0m\n\u001b[0m\u001b[1;32m     68\u001b[0m             \u001b[0mrow\u001b[0m\u001b[0;34m.\u001b[0m\u001b[0mappend\u001b[0m\u001b[0;34m(\u001b[0m\u001b[0mparsed\u001b[0m\u001b[0;34m)\u001b[0m\u001b[0;34m\u001b[0m\u001b[0;34m\u001b[0m\u001b[0m\n\u001b[1;32m     69\u001b[0m         \u001b[0mparsed_matrix\u001b[0m\u001b[0;34m.\u001b[0m\u001b[0mappend\u001b[0m\u001b[0;34m(\u001b[0m\u001b[0mrow\u001b[0m\u001b[0;34m)\u001b[0m\u001b[0;34m\u001b[0m\u001b[0;34m\u001b[0m\u001b[0m\n",
      "\u001b[0;32m~/opt/anaconda3/envs/qdef3p8/lib/python3.8/site-packages/sympy/parsing/latex/__init__.py\u001b[0m in \u001b[0;36mparse_latex\u001b[0;34m(s)\u001b[0m\n\u001b[1;32m     33\u001b[0m \u001b[0;34m\u001b[0m\u001b[0m\n\u001b[1;32m     34\u001b[0m     \u001b[0;32mif\u001b[0m \u001b[0m_latex\u001b[0m \u001b[0;32mis\u001b[0m \u001b[0;32mnot\u001b[0m \u001b[0;32mNone\u001b[0m\u001b[0;34m:\u001b[0m\u001b[0;34m\u001b[0m\u001b[0;34m\u001b[0m\u001b[0m\n\u001b[0;32m---> 35\u001b[0;31m         \u001b[0;32mreturn\u001b[0m \u001b[0m_latex\u001b[0m\u001b[0;34m.\u001b[0m\u001b[0mparse_latex\u001b[0m\u001b[0;34m(\u001b[0m\u001b[0ms\u001b[0m\u001b[0;34m)\u001b[0m\u001b[0;34m\u001b[0m\u001b[0;34m\u001b[0m\u001b[0m\n\u001b[0m",
      "\u001b[0;32m~/opt/anaconda3/envs/qdef3p8/lib/python3.8/site-packages/sympy/parsing/latex/_parse_latex_antlr.py\u001b[0m in \u001b[0;36mparse_latex\u001b[0;34m(sympy)\u001b[0m\n\u001b[1;32m     82\u001b[0m     \u001b[0mparser\u001b[0m\u001b[0;34m.\u001b[0m\u001b[0maddErrorListener\u001b[0m\u001b[0;34m(\u001b[0m\u001b[0mmatherror\u001b[0m\u001b[0;34m)\u001b[0m\u001b[0;34m\u001b[0m\u001b[0;34m\u001b[0m\u001b[0m\n\u001b[1;32m     83\u001b[0m \u001b[0;34m\u001b[0m\u001b[0m\n\u001b[0;32m---> 84\u001b[0;31m     \u001b[0mrelation\u001b[0m \u001b[0;34m=\u001b[0m \u001b[0mparser\u001b[0m\u001b[0;34m.\u001b[0m\u001b[0mmath\u001b[0m\u001b[0;34m(\u001b[0m\u001b[0;34m)\u001b[0m\u001b[0;34m.\u001b[0m\u001b[0mrelation\u001b[0m\u001b[0;34m(\u001b[0m\u001b[0;34m)\u001b[0m\u001b[0;34m\u001b[0m\u001b[0;34m\u001b[0m\u001b[0m\n\u001b[0m\u001b[1;32m     85\u001b[0m     \u001b[0mexpr\u001b[0m \u001b[0;34m=\u001b[0m \u001b[0mconvert_relation\u001b[0m\u001b[0;34m(\u001b[0m\u001b[0mrelation\u001b[0m\u001b[0;34m)\u001b[0m\u001b[0;34m\u001b[0m\u001b[0;34m\u001b[0m\u001b[0m\n\u001b[1;32m     86\u001b[0m \u001b[0;34m\u001b[0m\u001b[0m\n",
      "\u001b[0;32m~/opt/anaconda3/envs/qdef3p8/lib/python3.8/site-packages/sympy/parsing/latex/_antlr/latexparser.py\u001b[0m in \u001b[0;36mmath\u001b[0;34m(self)\u001b[0m\n\u001b[1;32m    469\u001b[0m             \u001b[0mself\u001b[0m\u001b[0;34m.\u001b[0m\u001b[0menterOuterAlt\u001b[0m\u001b[0;34m(\u001b[0m\u001b[0mlocalctx\u001b[0m\u001b[0;34m,\u001b[0m \u001b[0;36m1\u001b[0m\u001b[0;34m)\u001b[0m\u001b[0;34m\u001b[0m\u001b[0;34m\u001b[0m\u001b[0m\n\u001b[1;32m    470\u001b[0m             \u001b[0mself\u001b[0m\u001b[0;34m.\u001b[0m\u001b[0mstate\u001b[0m \u001b[0;34m=\u001b[0m \u001b[0;36m80\u001b[0m\u001b[0;34m\u001b[0m\u001b[0;34m\u001b[0m\u001b[0m\n\u001b[0;32m--> 471\u001b[0;31m             \u001b[0mself\u001b[0m\u001b[0;34m.\u001b[0m\u001b[0mrelation\u001b[0m\u001b[0;34m(\u001b[0m\u001b[0;36m0\u001b[0m\u001b[0;34m)\u001b[0m\u001b[0;34m\u001b[0m\u001b[0;34m\u001b[0m\u001b[0m\n\u001b[0m\u001b[1;32m    472\u001b[0m         \u001b[0;32mexcept\u001b[0m \u001b[0mRecognitionException\u001b[0m \u001b[0;32mas\u001b[0m \u001b[0mre\u001b[0m\u001b[0;34m:\u001b[0m\u001b[0;34m\u001b[0m\u001b[0;34m\u001b[0m\u001b[0m\n\u001b[1;32m    473\u001b[0m             \u001b[0mlocalctx\u001b[0m\u001b[0;34m.\u001b[0m\u001b[0mexception\u001b[0m \u001b[0;34m=\u001b[0m \u001b[0mre\u001b[0m\u001b[0;34m\u001b[0m\u001b[0;34m\u001b[0m\u001b[0m\n",
      "\u001b[0;32m~/opt/anaconda3/envs/qdef3p8/lib/python3.8/site-packages/sympy/parsing/latex/_antlr/latexparser.py\u001b[0m in \u001b[0;36mrelation\u001b[0;34m(self, _p)\u001b[0m\n\u001b[1;32m    530\u001b[0m             \u001b[0mself\u001b[0m\u001b[0;34m.\u001b[0m\u001b[0menterOuterAlt\u001b[0m\u001b[0;34m(\u001b[0m\u001b[0mlocalctx\u001b[0m\u001b[0;34m,\u001b[0m \u001b[0;36m1\u001b[0m\u001b[0;34m)\u001b[0m\u001b[0;34m\u001b[0m\u001b[0;34m\u001b[0m\u001b[0m\n\u001b[1;32m    531\u001b[0m             \u001b[0mself\u001b[0m\u001b[0;34m.\u001b[0m\u001b[0mstate\u001b[0m \u001b[0;34m=\u001b[0m \u001b[0;36m83\u001b[0m\u001b[0;34m\u001b[0m\u001b[0;34m\u001b[0m\u001b[0m\n\u001b[0;32m--> 532\u001b[0;31m             \u001b[0mself\u001b[0m\u001b[0;34m.\u001b[0m\u001b[0mexpr\u001b[0m\u001b[0;34m(\u001b[0m\u001b[0;34m)\u001b[0m\u001b[0;34m\u001b[0m\u001b[0;34m\u001b[0m\u001b[0m\n\u001b[0m\u001b[1;32m    533\u001b[0m             \u001b[0mself\u001b[0m\u001b[0;34m.\u001b[0m\u001b[0m_ctx\u001b[0m\u001b[0;34m.\u001b[0m\u001b[0mstop\u001b[0m \u001b[0;34m=\u001b[0m \u001b[0mself\u001b[0m\u001b[0;34m.\u001b[0m\u001b[0m_input\u001b[0m\u001b[0;34m.\u001b[0m\u001b[0mLT\u001b[0m\u001b[0;34m(\u001b[0m\u001b[0;34m-\u001b[0m\u001b[0;36m1\u001b[0m\u001b[0;34m)\u001b[0m\u001b[0;34m\u001b[0m\u001b[0;34m\u001b[0m\u001b[0m\n\u001b[1;32m    534\u001b[0m             \u001b[0mself\u001b[0m\u001b[0;34m.\u001b[0m\u001b[0mstate\u001b[0m \u001b[0;34m=\u001b[0m \u001b[0;36m90\u001b[0m\u001b[0;34m\u001b[0m\u001b[0;34m\u001b[0m\u001b[0m\n",
      "\u001b[0;32m~/opt/anaconda3/envs/qdef3p8/lib/python3.8/site-packages/sympy/parsing/latex/_antlr/latexparser.py\u001b[0m in \u001b[0;36mexpr\u001b[0;34m(self)\u001b[0m\n\u001b[1;32m    634\u001b[0m             \u001b[0mself\u001b[0m\u001b[0;34m.\u001b[0m\u001b[0menterOuterAlt\u001b[0m\u001b[0;34m(\u001b[0m\u001b[0mlocalctx\u001b[0m\u001b[0;34m,\u001b[0m \u001b[0;36m1\u001b[0m\u001b[0;34m)\u001b[0m\u001b[0;34m\u001b[0m\u001b[0;34m\u001b[0m\u001b[0m\n\u001b[1;32m    635\u001b[0m             \u001b[0mself\u001b[0m\u001b[0;34m.\u001b[0m\u001b[0mstate\u001b[0m \u001b[0;34m=\u001b[0m \u001b[0;36m97\u001b[0m\u001b[0;34m\u001b[0m\u001b[0;34m\u001b[0m\u001b[0m\n\u001b[0;32m--> 636\u001b[0;31m             \u001b[0mself\u001b[0m\u001b[0;34m.\u001b[0m\u001b[0madditive\u001b[0m\u001b[0;34m(\u001b[0m\u001b[0;36m0\u001b[0m\u001b[0;34m)\u001b[0m\u001b[0;34m\u001b[0m\u001b[0;34m\u001b[0m\u001b[0m\n\u001b[0m\u001b[1;32m    637\u001b[0m         \u001b[0;32mexcept\u001b[0m \u001b[0mRecognitionException\u001b[0m \u001b[0;32mas\u001b[0m \u001b[0mre\u001b[0m\u001b[0;34m:\u001b[0m\u001b[0;34m\u001b[0m\u001b[0;34m\u001b[0m\u001b[0m\n\u001b[1;32m    638\u001b[0m             \u001b[0mlocalctx\u001b[0m\u001b[0;34m.\u001b[0m\u001b[0mexception\u001b[0m \u001b[0;34m=\u001b[0m \u001b[0mre\u001b[0m\u001b[0;34m\u001b[0m\u001b[0;34m\u001b[0m\u001b[0m\n",
      "\u001b[0;32m~/opt/anaconda3/envs/qdef3p8/lib/python3.8/site-packages/sympy/parsing/latex/_antlr/latexparser.py\u001b[0m in \u001b[0;36madditive\u001b[0;34m(self, _p)\u001b[0m\n\u001b[1;32m    707\u001b[0m                         \u001b[0mself\u001b[0m\u001b[0;34m.\u001b[0m\u001b[0mconsume\u001b[0m\u001b[0;34m(\u001b[0m\u001b[0;34m)\u001b[0m\u001b[0;34m\u001b[0m\u001b[0;34m\u001b[0m\u001b[0m\n\u001b[1;32m    708\u001b[0m                     \u001b[0mself\u001b[0m\u001b[0;34m.\u001b[0m\u001b[0mstate\u001b[0m \u001b[0;34m=\u001b[0m \u001b[0;36m104\u001b[0m\u001b[0;34m\u001b[0m\u001b[0;34m\u001b[0m\u001b[0m\n\u001b[0;32m--> 709\u001b[0;31m                     \u001b[0mself\u001b[0m\u001b[0;34m.\u001b[0m\u001b[0madditive\u001b[0m\u001b[0;34m(\u001b[0m\u001b[0;36m3\u001b[0m\u001b[0;34m)\u001b[0m\u001b[0;34m\u001b[0m\u001b[0;34m\u001b[0m\u001b[0m\n\u001b[0m\u001b[1;32m    710\u001b[0m                 \u001b[0mself\u001b[0m\u001b[0;34m.\u001b[0m\u001b[0mstate\u001b[0m \u001b[0;34m=\u001b[0m \u001b[0;36m109\u001b[0m\u001b[0;34m\u001b[0m\u001b[0;34m\u001b[0m\u001b[0m\n\u001b[1;32m    711\u001b[0m                 \u001b[0mself\u001b[0m\u001b[0;34m.\u001b[0m\u001b[0m_errHandler\u001b[0m\u001b[0;34m.\u001b[0m\u001b[0msync\u001b[0m\u001b[0;34m(\u001b[0m\u001b[0mself\u001b[0m\u001b[0;34m)\u001b[0m\u001b[0;34m\u001b[0m\u001b[0;34m\u001b[0m\u001b[0m\n",
      "\u001b[0;32m~/opt/anaconda3/envs/qdef3p8/lib/python3.8/site-packages/sympy/parsing/latex/_antlr/latexparser.py\u001b[0m in \u001b[0;36madditive\u001b[0;34m(self, _p)\u001b[0m\n\u001b[1;32m    683\u001b[0m             \u001b[0mself\u001b[0m\u001b[0;34m.\u001b[0m\u001b[0menterOuterAlt\u001b[0m\u001b[0;34m(\u001b[0m\u001b[0mlocalctx\u001b[0m\u001b[0;34m,\u001b[0m \u001b[0;36m1\u001b[0m\u001b[0;34m)\u001b[0m\u001b[0;34m\u001b[0m\u001b[0;34m\u001b[0m\u001b[0m\n\u001b[1;32m    684\u001b[0m             \u001b[0mself\u001b[0m\u001b[0;34m.\u001b[0m\u001b[0mstate\u001b[0m \u001b[0;34m=\u001b[0m \u001b[0;36m100\u001b[0m\u001b[0;34m\u001b[0m\u001b[0;34m\u001b[0m\u001b[0m\n\u001b[0;32m--> 685\u001b[0;31m             \u001b[0mself\u001b[0m\u001b[0;34m.\u001b[0m\u001b[0mmp\u001b[0m\u001b[0;34m(\u001b[0m\u001b[0;36m0\u001b[0m\u001b[0;34m)\u001b[0m\u001b[0;34m\u001b[0m\u001b[0;34m\u001b[0m\u001b[0m\n\u001b[0m\u001b[1;32m    686\u001b[0m             \u001b[0mself\u001b[0m\u001b[0;34m.\u001b[0m\u001b[0m_ctx\u001b[0m\u001b[0;34m.\u001b[0m\u001b[0mstop\u001b[0m \u001b[0;34m=\u001b[0m \u001b[0mself\u001b[0m\u001b[0;34m.\u001b[0m\u001b[0m_input\u001b[0m\u001b[0;34m.\u001b[0m\u001b[0mLT\u001b[0m\u001b[0;34m(\u001b[0m\u001b[0;34m-\u001b[0m\u001b[0;36m1\u001b[0m\u001b[0;34m)\u001b[0m\u001b[0;34m\u001b[0m\u001b[0;34m\u001b[0m\u001b[0m\n\u001b[1;32m    687\u001b[0m             \u001b[0mself\u001b[0m\u001b[0;34m.\u001b[0m\u001b[0mstate\u001b[0m \u001b[0;34m=\u001b[0m \u001b[0;36m107\u001b[0m\u001b[0;34m\u001b[0m\u001b[0;34m\u001b[0m\u001b[0m\n",
      "\u001b[0;32m~/opt/anaconda3/envs/qdef3p8/lib/python3.8/site-packages/sympy/parsing/latex/_antlr/latexparser.py\u001b[0m in \u001b[0;36mmp\u001b[0;34m(self, _p)\u001b[0m\n\u001b[1;32m    772\u001b[0m             \u001b[0mself\u001b[0m\u001b[0;34m.\u001b[0m\u001b[0menterOuterAlt\u001b[0m\u001b[0;34m(\u001b[0m\u001b[0mlocalctx\u001b[0m\u001b[0;34m,\u001b[0m \u001b[0;36m1\u001b[0m\u001b[0;34m)\u001b[0m\u001b[0;34m\u001b[0m\u001b[0;34m\u001b[0m\u001b[0m\n\u001b[1;32m    773\u001b[0m             \u001b[0mself\u001b[0m\u001b[0;34m.\u001b[0m\u001b[0mstate\u001b[0m \u001b[0;34m=\u001b[0m \u001b[0;36m111\u001b[0m\u001b[0;34m\u001b[0m\u001b[0;34m\u001b[0m\u001b[0m\n\u001b[0;32m--> 774\u001b[0;31m             \u001b[0mself\u001b[0m\u001b[0;34m.\u001b[0m\u001b[0munary\u001b[0m\u001b[0;34m(\u001b[0m\u001b[0;34m)\u001b[0m\u001b[0;34m\u001b[0m\u001b[0;34m\u001b[0m\u001b[0m\n\u001b[0m\u001b[1;32m    775\u001b[0m             \u001b[0mself\u001b[0m\u001b[0;34m.\u001b[0m\u001b[0m_ctx\u001b[0m\u001b[0;34m.\u001b[0m\u001b[0mstop\u001b[0m \u001b[0;34m=\u001b[0m \u001b[0mself\u001b[0m\u001b[0;34m.\u001b[0m\u001b[0m_input\u001b[0m\u001b[0;34m.\u001b[0m\u001b[0mLT\u001b[0m\u001b[0;34m(\u001b[0m\u001b[0;34m-\u001b[0m\u001b[0;36m1\u001b[0m\u001b[0;34m)\u001b[0m\u001b[0;34m\u001b[0m\u001b[0;34m\u001b[0m\u001b[0m\n\u001b[1;32m    776\u001b[0m             \u001b[0mself\u001b[0m\u001b[0;34m.\u001b[0m\u001b[0mstate\u001b[0m \u001b[0;34m=\u001b[0m \u001b[0;36m118\u001b[0m\u001b[0;34m\u001b[0m\u001b[0;34m\u001b[0m\u001b[0m\n",
      "\u001b[0;32m~/opt/anaconda3/envs/qdef3p8/lib/python3.8/site-packages/sympy/parsing/latex/_antlr/latexparser.py\u001b[0m in \u001b[0;36munary\u001b[0;34m(self)\u001b[0m\n\u001b[1;32m    957\u001b[0m                     \u001b[0;32mif\u001b[0m \u001b[0m_alt\u001b[0m \u001b[0;34m==\u001b[0m \u001b[0;36m1\u001b[0m\u001b[0;34m:\u001b[0m\u001b[0;34m\u001b[0m\u001b[0;34m\u001b[0m\u001b[0m\n\u001b[1;32m    958\u001b[0m                         \u001b[0mself\u001b[0m\u001b[0;34m.\u001b[0m\u001b[0mstate\u001b[0m \u001b[0;34m=\u001b[0m \u001b[0;36m134\u001b[0m\u001b[0;34m\u001b[0m\u001b[0;34m\u001b[0m\u001b[0m\n\u001b[0;32m--> 959\u001b[0;31m                         \u001b[0mself\u001b[0m\u001b[0;34m.\u001b[0m\u001b[0mpostfix\u001b[0m\u001b[0;34m(\u001b[0m\u001b[0;34m)\u001b[0m\u001b[0;34m\u001b[0m\u001b[0;34m\u001b[0m\u001b[0m\n\u001b[0m\u001b[1;32m    960\u001b[0m \u001b[0;34m\u001b[0m\u001b[0m\n\u001b[1;32m    961\u001b[0m                     \u001b[0;32melse\u001b[0m\u001b[0;34m:\u001b[0m\u001b[0;34m\u001b[0m\u001b[0;34m\u001b[0m\u001b[0m\n",
      "\u001b[0;32m~/opt/anaconda3/envs/qdef3p8/lib/python3.8/site-packages/sympy/parsing/latex/_antlr/latexparser.py\u001b[0m in \u001b[0;36mpostfix\u001b[0;34m(self)\u001b[0m\n\u001b[1;32m   1090\u001b[0m             \u001b[0mself\u001b[0m\u001b[0;34m.\u001b[0m\u001b[0menterOuterAlt\u001b[0m\u001b[0;34m(\u001b[0m\u001b[0mlocalctx\u001b[0m\u001b[0;34m,\u001b[0m \u001b[0;36m1\u001b[0m\u001b[0;34m)\u001b[0m\u001b[0;34m\u001b[0m\u001b[0;34m\u001b[0m\u001b[0m\n\u001b[1;32m   1091\u001b[0m             \u001b[0mself\u001b[0m\u001b[0;34m.\u001b[0m\u001b[0mstate\u001b[0m \u001b[0;34m=\u001b[0m \u001b[0;36m152\u001b[0m\u001b[0;34m\u001b[0m\u001b[0;34m\u001b[0m\u001b[0m\n\u001b[0;32m-> 1092\u001b[0;31m             \u001b[0mself\u001b[0m\u001b[0;34m.\u001b[0m\u001b[0mexp\u001b[0m\u001b[0;34m(\u001b[0m\u001b[0;36m0\u001b[0m\u001b[0;34m)\u001b[0m\u001b[0;34m\u001b[0m\u001b[0;34m\u001b[0m\u001b[0m\n\u001b[0m\u001b[1;32m   1093\u001b[0m             \u001b[0mself\u001b[0m\u001b[0;34m.\u001b[0m\u001b[0mstate\u001b[0m \u001b[0;34m=\u001b[0m \u001b[0;36m156\u001b[0m\u001b[0;34m\u001b[0m\u001b[0;34m\u001b[0m\u001b[0m\n\u001b[1;32m   1094\u001b[0m             \u001b[0mself\u001b[0m\u001b[0;34m.\u001b[0m\u001b[0m_errHandler\u001b[0m\u001b[0;34m.\u001b[0m\u001b[0msync\u001b[0m\u001b[0;34m(\u001b[0m\u001b[0mself\u001b[0m\u001b[0;34m)\u001b[0m\u001b[0;34m\u001b[0m\u001b[0;34m\u001b[0m\u001b[0m\n",
      "\u001b[0;32m~/opt/anaconda3/envs/qdef3p8/lib/python3.8/site-packages/sympy/parsing/latex/_antlr/latexparser.py\u001b[0m in \u001b[0;36mexp\u001b[0;34m(self, _p)\u001b[0m\n\u001b[1;32m   1450\u001b[0m             \u001b[0mself\u001b[0m\u001b[0;34m.\u001b[0m\u001b[0menterOuterAlt\u001b[0m\u001b[0;34m(\u001b[0m\u001b[0mlocalctx\u001b[0m\u001b[0;34m,\u001b[0m \u001b[0;36m1\u001b[0m\u001b[0;34m)\u001b[0m\u001b[0;34m\u001b[0m\u001b[0;34m\u001b[0m\u001b[0m\n\u001b[1;32m   1451\u001b[0m             \u001b[0mself\u001b[0m\u001b[0;34m.\u001b[0m\u001b[0mstate\u001b[0m \u001b[0;34m=\u001b[0m \u001b[0;36m195\u001b[0m\u001b[0;34m\u001b[0m\u001b[0;34m\u001b[0m\u001b[0m\n\u001b[0;32m-> 1452\u001b[0;31m             \u001b[0mself\u001b[0m\u001b[0;34m.\u001b[0m\u001b[0mcomp\u001b[0m\u001b[0;34m(\u001b[0m\u001b[0;34m)\u001b[0m\u001b[0;34m\u001b[0m\u001b[0;34m\u001b[0m\u001b[0m\n\u001b[0m\u001b[1;32m   1453\u001b[0m             \u001b[0mself\u001b[0m\u001b[0;34m.\u001b[0m\u001b[0m_ctx\u001b[0m\u001b[0;34m.\u001b[0m\u001b[0mstop\u001b[0m \u001b[0;34m=\u001b[0m \u001b[0mself\u001b[0m\u001b[0;34m.\u001b[0m\u001b[0m_input\u001b[0m\u001b[0;34m.\u001b[0m\u001b[0mLT\u001b[0m\u001b[0;34m(\u001b[0m\u001b[0;34m-\u001b[0m\u001b[0;36m1\u001b[0m\u001b[0;34m)\u001b[0m\u001b[0;34m\u001b[0m\u001b[0;34m\u001b[0m\u001b[0m\n\u001b[1;32m   1454\u001b[0m             \u001b[0mself\u001b[0m\u001b[0;34m.\u001b[0m\u001b[0mstate\u001b[0m \u001b[0;34m=\u001b[0m \u001b[0;36m211\u001b[0m\u001b[0;34m\u001b[0m\u001b[0;34m\u001b[0m\u001b[0m\n",
      "\u001b[0;32m~/opt/anaconda3/envs/qdef3p8/lib/python3.8/site-packages/sympy/parsing/latex/_antlr/latexparser.py\u001b[0m in \u001b[0;36mcomp\u001b[0;34m(self)\u001b[0m\n\u001b[1;32m   1687\u001b[0m                 \u001b[0mself\u001b[0m\u001b[0;34m.\u001b[0m\u001b[0menterOuterAlt\u001b[0m\u001b[0;34m(\u001b[0m\u001b[0mlocalctx\u001b[0m\u001b[0;34m,\u001b[0m \u001b[0;36m4\u001b[0m\u001b[0;34m)\u001b[0m\u001b[0;34m\u001b[0m\u001b[0;34m\u001b[0m\u001b[0m\n\u001b[1;32m   1688\u001b[0m                 \u001b[0mself\u001b[0m\u001b[0;34m.\u001b[0m\u001b[0mstate\u001b[0m \u001b[0;34m=\u001b[0m \u001b[0;36m237\u001b[0m\u001b[0;34m\u001b[0m\u001b[0;34m\u001b[0m\u001b[0m\n\u001b[0;32m-> 1689\u001b[0;31m                 \u001b[0mself\u001b[0m\u001b[0;34m.\u001b[0m\u001b[0matom\u001b[0m\u001b[0;34m(\u001b[0m\u001b[0;34m)\u001b[0m\u001b[0;34m\u001b[0m\u001b[0;34m\u001b[0m\u001b[0m\n\u001b[0m\u001b[1;32m   1690\u001b[0m                 \u001b[0;32mpass\u001b[0m\u001b[0;34m\u001b[0m\u001b[0;34m\u001b[0m\u001b[0m\n\u001b[1;32m   1691\u001b[0m \u001b[0;34m\u001b[0m\u001b[0m\n",
      "\u001b[0;32m~/opt/anaconda3/envs/qdef3p8/lib/python3.8/site-packages/sympy/parsing/latex/_antlr/latexparser.py\u001b[0m in \u001b[0;36matom\u001b[0;34m(self)\u001b[0m\n\u001b[1;32m   2033\u001b[0m                 \u001b[0mself\u001b[0m\u001b[0;34m.\u001b[0m\u001b[0menterOuterAlt\u001b[0m\u001b[0;34m(\u001b[0m\u001b[0mlocalctx\u001b[0m\u001b[0;34m,\u001b[0m \u001b[0;36m2\u001b[0m\u001b[0;34m)\u001b[0m\u001b[0;34m\u001b[0m\u001b[0;34m\u001b[0m\u001b[0m\n\u001b[1;32m   2034\u001b[0m                 \u001b[0mself\u001b[0m\u001b[0;34m.\u001b[0m\u001b[0mstate\u001b[0m \u001b[0;34m=\u001b[0m \u001b[0;36m279\u001b[0m\u001b[0;34m\u001b[0m\u001b[0;34m\u001b[0m\u001b[0m\n\u001b[0;32m-> 2035\u001b[0;31m                 \u001b[0mself\u001b[0m\u001b[0;34m.\u001b[0m\u001b[0mmatch\u001b[0m\u001b[0;34m(\u001b[0m\u001b[0mLaTeXParser\u001b[0m\u001b[0;34m.\u001b[0m\u001b[0mNUMBER\u001b[0m\u001b[0;34m)\u001b[0m\u001b[0;34m\u001b[0m\u001b[0;34m\u001b[0m\u001b[0m\n\u001b[0m\u001b[1;32m   2036\u001b[0m                 \u001b[0;32mpass\u001b[0m\u001b[0;34m\u001b[0m\u001b[0;34m\u001b[0m\u001b[0m\n\u001b[1;32m   2037\u001b[0m             \u001b[0;32melif\u001b[0m \u001b[0mtoken\u001b[0m \u001b[0;32min\u001b[0m \u001b[0;34m[\u001b[0m\u001b[0mLaTeXParser\u001b[0m\u001b[0;34m.\u001b[0m\u001b[0mDIFFERENTIAL\u001b[0m\u001b[0;34m]\u001b[0m\u001b[0;34m:\u001b[0m\u001b[0;34m\u001b[0m\u001b[0;34m\u001b[0m\u001b[0m\n",
      "\u001b[0;32m~/opt/anaconda3/envs/qdef3p8/lib/python3.8/site-packages/antlr4/Parser.py\u001b[0m in \u001b[0;36mmatch\u001b[0;34m(self, ttype)\u001b[0m\n\u001b[1;32m    114\u001b[0m         \u001b[0;32mif\u001b[0m \u001b[0mt\u001b[0m\u001b[0;34m.\u001b[0m\u001b[0mtype\u001b[0m\u001b[0;34m==\u001b[0m\u001b[0mttype\u001b[0m\u001b[0;34m:\u001b[0m\u001b[0;34m\u001b[0m\u001b[0;34m\u001b[0m\u001b[0m\n\u001b[1;32m    115\u001b[0m             \u001b[0mself\u001b[0m\u001b[0;34m.\u001b[0m\u001b[0m_errHandler\u001b[0m\u001b[0;34m.\u001b[0m\u001b[0mreportMatch\u001b[0m\u001b[0;34m(\u001b[0m\u001b[0mself\u001b[0m\u001b[0;34m)\u001b[0m\u001b[0;34m\u001b[0m\u001b[0;34m\u001b[0m\u001b[0m\n\u001b[0;32m--> 116\u001b[0;31m             \u001b[0mself\u001b[0m\u001b[0;34m.\u001b[0m\u001b[0mconsume\u001b[0m\u001b[0;34m(\u001b[0m\u001b[0;34m)\u001b[0m\u001b[0;34m\u001b[0m\u001b[0;34m\u001b[0m\u001b[0m\n\u001b[0m\u001b[1;32m    117\u001b[0m         \u001b[0;32melse\u001b[0m\u001b[0;34m:\u001b[0m\u001b[0;34m\u001b[0m\u001b[0;34m\u001b[0m\u001b[0m\n\u001b[1;32m    118\u001b[0m             \u001b[0mt\u001b[0m \u001b[0;34m=\u001b[0m \u001b[0mself\u001b[0m\u001b[0;34m.\u001b[0m\u001b[0m_errHandler\u001b[0m\u001b[0;34m.\u001b[0m\u001b[0mrecoverInline\u001b[0m\u001b[0;34m(\u001b[0m\u001b[0mself\u001b[0m\u001b[0;34m)\u001b[0m\u001b[0;34m\u001b[0m\u001b[0;34m\u001b[0m\u001b[0m\n",
      "\u001b[0;32m~/opt/anaconda3/envs/qdef3p8/lib/python3.8/site-packages/antlr4/Parser.py\u001b[0m in \u001b[0;36mconsume\u001b[0;34m(self)\u001b[0m\n\u001b[1;32m    338\u001b[0m         \u001b[0mo\u001b[0m \u001b[0;34m=\u001b[0m \u001b[0mself\u001b[0m\u001b[0;34m.\u001b[0m\u001b[0mgetCurrentToken\u001b[0m\u001b[0;34m(\u001b[0m\u001b[0;34m)\u001b[0m\u001b[0;34m\u001b[0m\u001b[0;34m\u001b[0m\u001b[0m\n\u001b[1;32m    339\u001b[0m         \u001b[0;32mif\u001b[0m \u001b[0mo\u001b[0m\u001b[0;34m.\u001b[0m\u001b[0mtype\u001b[0m \u001b[0;34m!=\u001b[0m \u001b[0mToken\u001b[0m\u001b[0;34m.\u001b[0m\u001b[0mEOF\u001b[0m\u001b[0;34m:\u001b[0m\u001b[0;34m\u001b[0m\u001b[0;34m\u001b[0m\u001b[0m\n\u001b[0;32m--> 340\u001b[0;31m             \u001b[0mself\u001b[0m\u001b[0;34m.\u001b[0m\u001b[0mgetInputStream\u001b[0m\u001b[0;34m(\u001b[0m\u001b[0;34m)\u001b[0m\u001b[0;34m.\u001b[0m\u001b[0mconsume\u001b[0m\u001b[0;34m(\u001b[0m\u001b[0;34m)\u001b[0m\u001b[0;34m\u001b[0m\u001b[0;34m\u001b[0m\u001b[0m\n\u001b[0m\u001b[1;32m    341\u001b[0m         \u001b[0mhasListener\u001b[0m \u001b[0;34m=\u001b[0m \u001b[0mself\u001b[0m\u001b[0;34m.\u001b[0m\u001b[0m_parseListeners\u001b[0m \u001b[0;32mis\u001b[0m \u001b[0;32mnot\u001b[0m \u001b[0;32mNone\u001b[0m \u001b[0;32mand\u001b[0m \u001b[0mlen\u001b[0m\u001b[0;34m(\u001b[0m\u001b[0mself\u001b[0m\u001b[0;34m.\u001b[0m\u001b[0m_parseListeners\u001b[0m\u001b[0;34m)\u001b[0m\u001b[0;34m>\u001b[0m\u001b[0;36m0\u001b[0m\u001b[0;34m\u001b[0m\u001b[0;34m\u001b[0m\u001b[0m\n\u001b[1;32m    342\u001b[0m         \u001b[0;32mif\u001b[0m \u001b[0mself\u001b[0m\u001b[0;34m.\u001b[0m\u001b[0mbuildParseTrees\u001b[0m \u001b[0;32mor\u001b[0m \u001b[0mhasListener\u001b[0m\u001b[0;34m:\u001b[0m\u001b[0;34m\u001b[0m\u001b[0;34m\u001b[0m\u001b[0m\n",
      "\u001b[0;32m~/opt/anaconda3/envs/qdef3p8/lib/python3.8/site-packages/antlr4/BufferedTokenStream.py\u001b[0m in \u001b[0;36mconsume\u001b[0;34m(self)\u001b[0m\n\u001b[1;32m     97\u001b[0m             \u001b[0;32mraise\u001b[0m \u001b[0mIllegalStateException\u001b[0m\u001b[0;34m(\u001b[0m\u001b[0;34m\"cannot consume EOF\"\u001b[0m\u001b[0;34m)\u001b[0m\u001b[0;34m\u001b[0m\u001b[0;34m\u001b[0m\u001b[0m\n\u001b[1;32m     98\u001b[0m \u001b[0;34m\u001b[0m\u001b[0m\n\u001b[0;32m---> 99\u001b[0;31m         \u001b[0;32mif\u001b[0m \u001b[0mself\u001b[0m\u001b[0;34m.\u001b[0m\u001b[0msync\u001b[0m\u001b[0;34m(\u001b[0m\u001b[0mself\u001b[0m\u001b[0;34m.\u001b[0m\u001b[0mindex\u001b[0m \u001b[0;34m+\u001b[0m \u001b[0;36m1\u001b[0m\u001b[0;34m)\u001b[0m\u001b[0;34m:\u001b[0m\u001b[0;34m\u001b[0m\u001b[0;34m\u001b[0m\u001b[0m\n\u001b[0m\u001b[1;32m    100\u001b[0m             \u001b[0mself\u001b[0m\u001b[0;34m.\u001b[0m\u001b[0mindex\u001b[0m \u001b[0;34m=\u001b[0m \u001b[0mself\u001b[0m\u001b[0;34m.\u001b[0m\u001b[0madjustSeekIndex\u001b[0m\u001b[0;34m(\u001b[0m\u001b[0mself\u001b[0m\u001b[0;34m.\u001b[0m\u001b[0mindex\u001b[0m \u001b[0;34m+\u001b[0m \u001b[0;36m1\u001b[0m\u001b[0;34m)\u001b[0m\u001b[0;34m\u001b[0m\u001b[0;34m\u001b[0m\u001b[0m\n\u001b[1;32m    101\u001b[0m \u001b[0;34m\u001b[0m\u001b[0m\n",
      "\u001b[0;32m~/opt/anaconda3/envs/qdef3p8/lib/python3.8/site-packages/antlr4/BufferedTokenStream.py\u001b[0m in \u001b[0;36msync\u001b[0;34m(self, i)\u001b[0m\n\u001b[1;32m    109\u001b[0m         \u001b[0mn\u001b[0m \u001b[0;34m=\u001b[0m \u001b[0mi\u001b[0m \u001b[0;34m-\u001b[0m \u001b[0mlen\u001b[0m\u001b[0;34m(\u001b[0m\u001b[0mself\u001b[0m\u001b[0;34m.\u001b[0m\u001b[0mtokens\u001b[0m\u001b[0;34m)\u001b[0m \u001b[0;34m+\u001b[0m \u001b[0;36m1\u001b[0m \u001b[0;31m# how many more elements we need?\u001b[0m\u001b[0;34m\u001b[0m\u001b[0;34m\u001b[0m\u001b[0m\n\u001b[1;32m    110\u001b[0m         \u001b[0;32mif\u001b[0m \u001b[0mn\u001b[0m \u001b[0;34m>\u001b[0m \u001b[0;36m0\u001b[0m \u001b[0;34m:\u001b[0m\u001b[0;34m\u001b[0m\u001b[0;34m\u001b[0m\u001b[0m\n\u001b[0;32m--> 111\u001b[0;31m             \u001b[0mfetched\u001b[0m \u001b[0;34m=\u001b[0m \u001b[0mself\u001b[0m\u001b[0;34m.\u001b[0m\u001b[0mfetch\u001b[0m\u001b[0;34m(\u001b[0m\u001b[0mn\u001b[0m\u001b[0;34m)\u001b[0m\u001b[0;34m\u001b[0m\u001b[0;34m\u001b[0m\u001b[0m\n\u001b[0m\u001b[1;32m    112\u001b[0m             \u001b[0;32mreturn\u001b[0m \u001b[0mfetched\u001b[0m \u001b[0;34m>=\u001b[0m \u001b[0mn\u001b[0m\u001b[0;34m\u001b[0m\u001b[0;34m\u001b[0m\u001b[0m\n\u001b[1;32m    113\u001b[0m         \u001b[0;32mreturn\u001b[0m \u001b[0;32mTrue\u001b[0m\u001b[0;34m\u001b[0m\u001b[0;34m\u001b[0m\u001b[0m\n",
      "\u001b[0;32m~/opt/anaconda3/envs/qdef3p8/lib/python3.8/site-packages/antlr4/BufferedTokenStream.py\u001b[0m in \u001b[0;36mfetch\u001b[0;34m(self, n)\u001b[0m\n\u001b[1;32m    121\u001b[0m             \u001b[0;32mreturn\u001b[0m \u001b[0;36m0\u001b[0m\u001b[0;34m\u001b[0m\u001b[0;34m\u001b[0m\u001b[0m\n\u001b[1;32m    122\u001b[0m         \u001b[0;32mfor\u001b[0m \u001b[0mi\u001b[0m \u001b[0;32min\u001b[0m \u001b[0mrange\u001b[0m\u001b[0;34m(\u001b[0m\u001b[0;36m0\u001b[0m\u001b[0;34m,\u001b[0m \u001b[0mn\u001b[0m\u001b[0;34m)\u001b[0m\u001b[0;34m:\u001b[0m\u001b[0;34m\u001b[0m\u001b[0;34m\u001b[0m\u001b[0m\n\u001b[0;32m--> 123\u001b[0;31m             \u001b[0mt\u001b[0m \u001b[0;34m=\u001b[0m \u001b[0mself\u001b[0m\u001b[0;34m.\u001b[0m\u001b[0mtokenSource\u001b[0m\u001b[0;34m.\u001b[0m\u001b[0mnextToken\u001b[0m\u001b[0;34m(\u001b[0m\u001b[0;34m)\u001b[0m\u001b[0;34m\u001b[0m\u001b[0;34m\u001b[0m\u001b[0m\n\u001b[0m\u001b[1;32m    124\u001b[0m             \u001b[0mt\u001b[0m\u001b[0;34m.\u001b[0m\u001b[0mtokenIndex\u001b[0m \u001b[0;34m=\u001b[0m \u001b[0mlen\u001b[0m\u001b[0;34m(\u001b[0m\u001b[0mself\u001b[0m\u001b[0;34m.\u001b[0m\u001b[0mtokens\u001b[0m\u001b[0;34m)\u001b[0m\u001b[0;34m\u001b[0m\u001b[0;34m\u001b[0m\u001b[0m\n\u001b[1;32m    125\u001b[0m             \u001b[0mself\u001b[0m\u001b[0;34m.\u001b[0m\u001b[0mtokens\u001b[0m\u001b[0;34m.\u001b[0m\u001b[0mappend\u001b[0m\u001b[0;34m(\u001b[0m\u001b[0mt\u001b[0m\u001b[0;34m)\u001b[0m\u001b[0;34m\u001b[0m\u001b[0;34m\u001b[0m\u001b[0m\n",
      "\u001b[0;32m~/opt/anaconda3/envs/qdef3p8/lib/python3.8/site-packages/antlr4/Lexer.py\u001b[0m in \u001b[0;36mnextToken\u001b[0;34m(self)\u001b[0m\n\u001b[1;32m    128\u001b[0m                         \u001b[0mttype\u001b[0m \u001b[0;34m=\u001b[0m \u001b[0mself\u001b[0m\u001b[0;34m.\u001b[0m\u001b[0m_interp\u001b[0m\u001b[0;34m.\u001b[0m\u001b[0mmatch\u001b[0m\u001b[0;34m(\u001b[0m\u001b[0mself\u001b[0m\u001b[0;34m.\u001b[0m\u001b[0m_input\u001b[0m\u001b[0;34m,\u001b[0m \u001b[0mself\u001b[0m\u001b[0;34m.\u001b[0m\u001b[0m_mode\u001b[0m\u001b[0;34m)\u001b[0m\u001b[0;34m\u001b[0m\u001b[0;34m\u001b[0m\u001b[0m\n\u001b[1;32m    129\u001b[0m                     \u001b[0;32mexcept\u001b[0m \u001b[0mLexerNoViableAltException\u001b[0m \u001b[0;32mas\u001b[0m \u001b[0me\u001b[0m\u001b[0;34m:\u001b[0m\u001b[0;34m\u001b[0m\u001b[0;34m\u001b[0m\u001b[0m\n\u001b[0;32m--> 130\u001b[0;31m                         \u001b[0mself\u001b[0m\u001b[0;34m.\u001b[0m\u001b[0mnotifyListeners\u001b[0m\u001b[0;34m(\u001b[0m\u001b[0me\u001b[0m\u001b[0;34m)\u001b[0m         \u001b[0;31m# report error\u001b[0m\u001b[0;34m\u001b[0m\u001b[0;34m\u001b[0m\u001b[0m\n\u001b[0m\u001b[1;32m    131\u001b[0m                         \u001b[0mself\u001b[0m\u001b[0;34m.\u001b[0m\u001b[0mrecover\u001b[0m\u001b[0;34m(\u001b[0m\u001b[0me\u001b[0m\u001b[0;34m)\u001b[0m\u001b[0;34m\u001b[0m\u001b[0;34m\u001b[0m\u001b[0m\n\u001b[1;32m    132\u001b[0m                     \u001b[0;32mif\u001b[0m \u001b[0mself\u001b[0m\u001b[0;34m.\u001b[0m\u001b[0m_input\u001b[0m\u001b[0;34m.\u001b[0m\u001b[0mLA\u001b[0m\u001b[0;34m(\u001b[0m\u001b[0;36m1\u001b[0m\u001b[0;34m)\u001b[0m\u001b[0;34m==\u001b[0m\u001b[0mToken\u001b[0m\u001b[0;34m.\u001b[0m\u001b[0mEOF\u001b[0m\u001b[0;34m:\u001b[0m\u001b[0;34m\u001b[0m\u001b[0;34m\u001b[0m\u001b[0m\n",
      "\u001b[0;32m~/opt/anaconda3/envs/qdef3p8/lib/python3.8/site-packages/antlr4/Lexer.py\u001b[0m in \u001b[0;36mnotifyListeners\u001b[0;34m(self, e)\u001b[0m\n\u001b[1;32m    283\u001b[0m         \u001b[0mmsg\u001b[0m \u001b[0;34m=\u001b[0m \u001b[0;34m\"token recognition error at: '\"\u001b[0m \u001b[0;34m+\u001b[0m \u001b[0mself\u001b[0m\u001b[0;34m.\u001b[0m\u001b[0mgetErrorDisplay\u001b[0m\u001b[0;34m(\u001b[0m\u001b[0mtext\u001b[0m\u001b[0;34m)\u001b[0m \u001b[0;34m+\u001b[0m \u001b[0;34m\"'\"\u001b[0m\u001b[0;34m\u001b[0m\u001b[0;34m\u001b[0m\u001b[0m\n\u001b[1;32m    284\u001b[0m         \u001b[0mlistener\u001b[0m \u001b[0;34m=\u001b[0m \u001b[0mself\u001b[0m\u001b[0;34m.\u001b[0m\u001b[0mgetErrorListenerDispatch\u001b[0m\u001b[0;34m(\u001b[0m\u001b[0;34m)\u001b[0m\u001b[0;34m\u001b[0m\u001b[0;34m\u001b[0m\u001b[0m\n\u001b[0;32m--> 285\u001b[0;31m         \u001b[0mlistener\u001b[0m\u001b[0;34m.\u001b[0m\u001b[0msyntaxError\u001b[0m\u001b[0;34m(\u001b[0m\u001b[0mself\u001b[0m\u001b[0;34m,\u001b[0m \u001b[0;32mNone\u001b[0m\u001b[0;34m,\u001b[0m \u001b[0mself\u001b[0m\u001b[0;34m.\u001b[0m\u001b[0m_tokenStartLine\u001b[0m\u001b[0;34m,\u001b[0m \u001b[0mself\u001b[0m\u001b[0;34m.\u001b[0m\u001b[0m_tokenStartColumn\u001b[0m\u001b[0;34m,\u001b[0m \u001b[0mmsg\u001b[0m\u001b[0;34m,\u001b[0m \u001b[0me\u001b[0m\u001b[0;34m)\u001b[0m\u001b[0;34m\u001b[0m\u001b[0;34m\u001b[0m\u001b[0m\n\u001b[0m\u001b[1;32m    286\u001b[0m \u001b[0;34m\u001b[0m\u001b[0m\n\u001b[1;32m    287\u001b[0m     \u001b[0;32mdef\u001b[0m \u001b[0mgetErrorDisplay\u001b[0m\u001b[0;34m(\u001b[0m\u001b[0mself\u001b[0m\u001b[0;34m,\u001b[0m \u001b[0ms\u001b[0m\u001b[0;34m:\u001b[0m\u001b[0mstr\u001b[0m\u001b[0;34m)\u001b[0m\u001b[0;34m:\u001b[0m\u001b[0;34m\u001b[0m\u001b[0;34m\u001b[0m\u001b[0m\n",
      "\u001b[0;32m~/opt/anaconda3/envs/qdef3p8/lib/python3.8/site-packages/antlr4/error/ErrorListener.py\u001b[0m in \u001b[0;36msyntaxError\u001b[0;34m(self, recognizer, offendingSymbol, line, column, msg, e)\u001b[0m\n\u001b[1;32m     58\u001b[0m     \u001b[0;32mdef\u001b[0m \u001b[0msyntaxError\u001b[0m\u001b[0;34m(\u001b[0m\u001b[0mself\u001b[0m\u001b[0;34m,\u001b[0m \u001b[0mrecognizer\u001b[0m\u001b[0;34m,\u001b[0m \u001b[0moffendingSymbol\u001b[0m\u001b[0;34m,\u001b[0m \u001b[0mline\u001b[0m\u001b[0;34m,\u001b[0m \u001b[0mcolumn\u001b[0m\u001b[0;34m,\u001b[0m \u001b[0mmsg\u001b[0m\u001b[0;34m,\u001b[0m \u001b[0me\u001b[0m\u001b[0;34m)\u001b[0m\u001b[0;34m:\u001b[0m\u001b[0;34m\u001b[0m\u001b[0;34m\u001b[0m\u001b[0m\n\u001b[1;32m     59\u001b[0m         \u001b[0;32mfor\u001b[0m \u001b[0mdelegate\u001b[0m \u001b[0;32min\u001b[0m \u001b[0mself\u001b[0m\u001b[0;34m.\u001b[0m\u001b[0mdelegates\u001b[0m\u001b[0;34m:\u001b[0m\u001b[0;34m\u001b[0m\u001b[0;34m\u001b[0m\u001b[0m\n\u001b[0;32m---> 60\u001b[0;31m             \u001b[0mdelegate\u001b[0m\u001b[0;34m.\u001b[0m\u001b[0msyntaxError\u001b[0m\u001b[0;34m(\u001b[0m\u001b[0mrecognizer\u001b[0m\u001b[0;34m,\u001b[0m \u001b[0moffendingSymbol\u001b[0m\u001b[0;34m,\u001b[0m \u001b[0mline\u001b[0m\u001b[0;34m,\u001b[0m \u001b[0mcolumn\u001b[0m\u001b[0;34m,\u001b[0m \u001b[0mmsg\u001b[0m\u001b[0;34m,\u001b[0m \u001b[0me\u001b[0m\u001b[0;34m)\u001b[0m\u001b[0;34m\u001b[0m\u001b[0;34m\u001b[0m\u001b[0m\n\u001b[0m\u001b[1;32m     61\u001b[0m \u001b[0;34m\u001b[0m\u001b[0m\n\u001b[1;32m     62\u001b[0m     \u001b[0;32mdef\u001b[0m \u001b[0mreportAmbiguity\u001b[0m\u001b[0;34m(\u001b[0m\u001b[0mself\u001b[0m\u001b[0;34m,\u001b[0m \u001b[0mrecognizer\u001b[0m\u001b[0;34m,\u001b[0m \u001b[0mdfa\u001b[0m\u001b[0;34m,\u001b[0m \u001b[0mstartIndex\u001b[0m\u001b[0;34m,\u001b[0m \u001b[0mstopIndex\u001b[0m\u001b[0;34m,\u001b[0m \u001b[0mexact\u001b[0m\u001b[0;34m,\u001b[0m \u001b[0mambigAlts\u001b[0m\u001b[0;34m,\u001b[0m \u001b[0mconfigs\u001b[0m\u001b[0;34m)\u001b[0m\u001b[0;34m:\u001b[0m\u001b[0;34m\u001b[0m\u001b[0;34m\u001b[0m\u001b[0m\n",
      "\u001b[0;32m~/opt/anaconda3/envs/qdef3p8/lib/python3.8/site-packages/sympy/parsing/latex/_parse_latex_antlr.py\u001b[0m in \u001b[0;36msyntaxError\u001b[0;34m(self, recog, symbol, line, col, msg, e)\u001b[0m\n\u001b[1;32m     56\u001b[0m             \u001b[0;32melse\u001b[0m\u001b[0;34m:\u001b[0m\u001b[0;34m\u001b[0m\u001b[0;34m\u001b[0m\u001b[0m\n\u001b[1;32m     57\u001b[0m                 \u001b[0merr\u001b[0m \u001b[0;34m=\u001b[0m \u001b[0mfmt\u001b[0m \u001b[0;34m%\u001b[0m \u001b[0;34m(\u001b[0m\u001b[0;34m\"I don't understand this\"\u001b[0m\u001b[0;34m,\u001b[0m \u001b[0mself\u001b[0m\u001b[0;34m.\u001b[0m\u001b[0msrc\u001b[0m\u001b[0;34m,\u001b[0m \u001b[0mmarker\u001b[0m\u001b[0;34m)\u001b[0m\u001b[0;34m\u001b[0m\u001b[0;34m\u001b[0m\u001b[0m\n\u001b[0;32m---> 58\u001b[0;31m             \u001b[0;32mraise\u001b[0m \u001b[0mLaTeXParsingError\u001b[0m\u001b[0;34m(\u001b[0m\u001b[0merr\u001b[0m\u001b[0;34m)\u001b[0m\u001b[0;34m\u001b[0m\u001b[0;34m\u001b[0m\u001b[0m\n\u001b[0m\u001b[1;32m     59\u001b[0m \u001b[0;34m\u001b[0m\u001b[0m\n\u001b[1;32m     60\u001b[0m \u001b[0;34m\u001b[0m\u001b[0m\n",
      "\u001b[0;31mLaTeXParsingError\u001b[0m: I don't understand this\n(14*Subscr(i)pt(x,19))/13+ 0.6923076923076925*Subscr(i)pt(x,20) + 33.*Subscr(i)pt(x,22) + (37*Subscr(i)pt(x,26))/6+ (97*Subscr(i)pt(x,27))/6+ (1205*Subscr(i)pt(x,28))/66+ (43*Subscr(i)pt(x,29))/540+ (19*Subscr(i)pt(x,30))/1188- (875*Subscr(i)pt(x,31))/15444+ 2*Subscr(i)pt(x,44) + Subscr(i)pt(x,45) + (Subscr(i)pt(x,6)*Subscr(i)pt(x,24)*Subscr(i)pt(x,47))/2+ Subscr(i)pt(x,48) - Subscr(i)pt(x,49)\n~~~~~~~~~~~~~~~~~~~~~~~~~~~~~~~~~~~~~~~~~~~~~~~~~~~~~~~~~~~~~~~~~~~~^"
     ]
    }
   ],
   "source": [
    "parsed_table = parse_table('/Volumes/GoogleDrive/My Drive/Zia Lab/Codebase/qdef/data/lanthanide_tables/HFEnergyMatrixTables copy 2')\n",
    "for k,v in parsed_table['EnergyMatrixTables'].items():\n",
    "    num_rows = v.rows\n",
    "    num_cols = v.cols\n",
    "    for num_row in range(num_rows):\n",
    "        for num_col in range(num_cols):\n",
    "            v[num_row,num_col] = rational_simplify(v[num_row,num_col])"
   ]
  },
  {
   "cell_type": "code",
   "execution_count": 66,
   "metadata": {},
   "outputs": [],
   "source": [
    "import pickle"
   ]
  },
  {
   "cell_type": "code",
   "execution_count": 170,
   "metadata": {},
   "outputs": [],
   "source": [
    "for k,v in parsed_table['EnergyMatrixTables'].items():\n",
    "    pickle.dump(v,open('./data/dummy.pkl','wb'))"
   ]
  },
  {
   "cell_type": "code",
   "execution_count": 178,
   "metadata": {},
   "outputs": [
    {
     "data": {
      "text/latex": [
       "$\\displaystyle - \\frac{\\sqrt{2} i B_{4,4}}{9} + \\frac{\\sqrt{2} S_{4,4}}{9}$"
      ],
      "text/plain": [
       "-sqrt(2)*I*B_{4,4}/9 + sqrt(2)*S_{4,4}/9"
      ]
     },
     "execution_count": 178,
     "metadata": {},
     "output_type": "execute_result"
    }
   ],
   "source": [
    "sp.expand(v[0,0]*sp.I)"
   ]
  },
  {
   "cell_type": "code",
   "execution_count": 177,
   "metadata": {},
   "outputs": [
    {
     "data": {
      "text/latex": [
       "$\\displaystyle - \\frac{\\sqrt{2} B_{4,4}}{9} - \\frac{\\sqrt{2} i S_{4,4}}{9}$"
      ],
      "text/plain": [
       "-sqrt(2)*B_{4,4}/9 - sqrt(2)*I*S_{4,4}/9"
      ]
     },
     "execution_count": 177,
     "metadata": {},
     "output_type": "execute_result"
    }
   ],
   "source": [
    "v[0,0]"
   ]
  },
  {
   "cell_type": "code",
   "execution_count": 7,
   "metadata": {},
   "outputs": [],
   "source": [
    "for k,v in parsed_table['EnergyMatrixTables'].items():\n",
    "    num_rows = v.rows\n",
    "    num_cols = v.cols\n",
    "    for num_row in range(num_rows):\n",
    "        for num_col in range(num_cols):\n",
    "            v[num_row,num_col] = rational_simplify(v[num_row,num_col])"
   ]
  },
  {
   "cell_type": "code",
   "execution_count": 225,
   "metadata": {},
   "outputs": [],
   "source": [
    "for k,v in parsed_table['EnergyMatrixTables'].items():\n",
    "    parsed_table['EnergyMatrixTables'][k] = v.subs(master_rep)"
   ]
  },
  {
   "cell_type": "code",
   "execution_count": 283,
   "metadata": {},
   "outputs": [
    {
     "data": {
      "text/latex": [
       "$\\displaystyle \\frac{B_{0,z} \\beta_{n} g_{I}}{2} + \\frac{14 E_{0}}{13} + \\frac{126 E_{1}}{13}$"
      ],
      "text/plain": [
       "B_{0,z}*\\beta_{n}*g_{I}/2 + 14*E_{0}/13 + 126*E_{1}/13"
      ]
     },
     "execution_count": 283,
     "metadata": {},
     "output_type": "execute_result"
    }
   ],
   "source": [
    "rational_simplify(v[2,2])"
   ]
  },
  {
   "cell_type": "code",
   "execution_count": 281,
   "metadata": {},
   "outputs": [
    {
     "name": "stdout",
     "output_type": "stream",
     "text": [
      "0.692308000000000\n"
     ]
    }
   ],
   "source": [
    "for k,v in expr.as_coefficients_dict().items():\n",
    "    if isinstance(v, sp.core.numbers.Float):\n",
    "                print(v)"
   ]
  },
  {
   "cell_type": "code",
   "execution_count": 289,
   "metadata": {},
   "outputs": [],
   "source": [
    "for k,v in parsed_table['EnergyMatrixTables'].items():\n",
    "    num_rows = v.rows\n",
    "    num_cols = v.cols\n",
    "    for num_row in range(num_rows):\n",
    "        for num_col in range(num_cols):\n",
    "            v[num_row,num_col] = rational_simplify(v[num_row,num_col])"
   ]
  }
 ],
 "metadata": {
  "interpreter": {
   "hash": "5ed69564610cdd861a99d06236eab56151da4db3d5eb55442ace689096fe7345"
  },
  "kernelspec": {
   "display_name": "Python 3.8.8 64-bit ('qdef3p8': conda)",
   "language": "python",
   "name": "python3"
  },
  "language_info": {
   "codemirror_mode": {
    "name": "ipython",
    "version": 3
   },
   "file_extension": ".py",
   "mimetype": "text/x-python",
   "name": "python",
   "nbconvert_exporter": "python",
   "pygments_lexer": "ipython3",
   "version": "3.8.8"
  },
  "orig_nbformat": 4
 },
 "nbformat": 4,
 "nbformat_minor": 2
}
