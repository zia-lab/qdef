{
 "cells": [
  {
   "cell_type": "markdown",
   "id": "b5ae4853-15b1-4f31-86b8-68aebe74419d",
   "metadata": {
    "tags": []
   },
   "source": [
    "<center>\n",
    "\n",
    "# ~~~ Symmetry Adapted Spherical Harmonics - Real ~~~\n",
    "\n",
    "<div style=\"max-width:600px; word-wrap:break-word;\">\n",
    "\n",
    "To obtain symmetry adapted linear combinations of spherical harmonics, it proves useful to start with real spherical harmonics. In which case if the irreducible representation that is used to generate symmetry-adapted combination is real, then the results are guaranteed to be real as well.\n",
    "\n",
    "Here's the development code used to generate `symmetry_bases_real.pkl`. Here also is the code used to generate the LaTeX output.\n",
    "\n",
    "The generation of this was summarized in the script `gen_bases_real.py`.\n",
    "\n",
    "An final addition, in which also the final irreducible representation matrices are provided, was only included in the script `gen_bases_real.py`.\n",
    "\n",
    "One problem with this approach is that playing around with the phases of the resulting bases to make them real is that the irreducible representation matrices change in consequence, and so might the coupling coefficients. On early Jan 2022 I decided to fork the symmetry adapted bases calculation, a modified gen_bases_real.py was created, which also saves the final irrep matrices, and a the code that was being used before (which didn't modify) was recovered.\n",
    "\n",
    "</center>"
   ]
  },
  {
   "cell_type": "markdown",
   "id": "b9c73f16",
   "metadata": {},
   "source": [
    "<center>\n",
    "\n",
    "$Y_{l,0}^{(c)} = Y_{l,0}$\n",
    "\n",
    "$Y_{l,m}^{(c)} = \\frac{1}{\\sqrt{2}} \\left( Y_{l,m} + Y_{l,-m} \\right)$ for $m > 0$\n",
    "\n",
    "$Y_{l,m}^{(s)} = -\\frac{i}{\\sqrt{2}} \\left( Y_{l,m} - Y_{l,-m} \\right)$ for $m < 0$\n",
    "\n",
    "$Y_{l,m} = \\frac{1}{\\sqrt{2}} \\left( Y_{l,m}^{(c)} + i Y_{l,m}^{(s)} \\right)$ for $m > 0$\n",
    "\n",
    "$Y_{l,-m} = \\frac{1}{\\sqrt{2}} \\left( Y_{l,m}^{(c)} - i Y_{l,m}^{(s)} \\right)$ for $m > 0$\n",
    "\n",
    "</center>"
   ]
  },
  {
   "cell_type": "code",
   "execution_count": 1,
   "id": "7f05c609-aac8-4ac5-8b5d-0de46e0af547",
   "metadata": {
    "execution": {
     "iopub.execute_input": "2021-10-26T13:32:58.995029Z",
     "iopub.status.busy": "2021-10-26T13:32:58.994166Z",
     "iopub.status.idle": "2021-10-26T13:33:01.963971Z",
     "shell.execute_reply": "2021-10-26T13:33:01.963573Z",
     "shell.execute_reply.started": "2021-10-26T13:32:58.994824Z"
    },
    "tags": []
   },
   "outputs": [
    {
     "data": {
      "text/html": [
       "<pre>✔️ 2.16 s (2021-12-27T13:47:41/2021-12-27T13:47:44)</pre>"
      ],
      "text/plain": [
       "<IPython.core.display.HTML object>"
      ]
     },
     "metadata": {},
     "output_type": "display_data"
    },
    {
     "name": "stdout",
     "output_type": "stream",
     "text": [
      "Reloading /Users/juan/Zia Lab/Codebase/qdef/data/CPGs.pkl ...\n"
     ]
    }
   ],
   "source": [
    "%load_ext autoreload\n",
    "# provide cell timings\n",
    "%load_ext autotime\n",
    "# %autoreload 2\n",
    "import sympy as sp\n",
    "import numpy as np\n",
    "# from sympy import poly, lambdify\n",
    "from IPython.display import display, Math, Latex\n",
    "%config InlineBackend.figure_format='retina'\n",
    "%config Completer.use_jedi = False\n",
    "from qdef import *\n",
    "from itertools import product\n",
    "from joblib import Parallel, delayed\n",
    "import multiprocessing\n",
    "num_cores = multiprocessing.cpu_count()\n",
    "import warnings"
   ]
  },
  {
   "cell_type": "markdown",
   "id": "fb4c151e",
   "metadata": {},
   "source": [
    "# Making a Pretty Print of Final Results"
   ]
  },
  {
   "cell_type": "code",
   "execution_count": 579,
   "id": "daff4009",
   "metadata": {},
   "outputs": [
    {
     "data": {
      "text/html": [
       "<pre>✔️ 1.96 s (2021-12-29T10:30:13/2021-12-29T10:30:15)</pre>"
      ],
      "text/plain": [
       "<IPython.core.display.HTML object>"
      ]
     },
     "metadata": {},
     "output_type": "display_data"
    }
   ],
   "source": [
    "sym_bases = pickle.load(open('./data/symmetry_bases.pkl','rb'))"
   ]
  },
  {
   "cell_type": "code",
   "execution_count": 724,
   "id": "791e12c9",
   "metadata": {},
   "outputs": [
    {
     "data": {
      "text/html": [
       "<pre>✔️ 5.97 s (2021-12-29T15:52:39/2021-12-29T15:52:45)</pre>"
      ],
      "text/plain": [
       "<IPython.core.display.HTML object>"
      ]
     },
     "metadata": {},
     "output_type": "display_data"
    }
   ],
   "source": [
    "# For each group\n",
    "# For each irrep\n",
    "# For each l\n",
    "numeric = False\n",
    "sig_figs = 4\n",
    "final_out_file = '/Users/juan/Library/Mobile Documents/com~apple~CloudDocs/iCloudFiles/Theoretical Division/surface harmonics/surface-harmonies.tex'\n",
    "final_out_file_data = '/Users/juan/Library/Mobile Documents/com~apple~CloudDocs/iCloudFiles/Theoretical Division/surface harmonics/surface-harmonies_data.pkl'\n",
    "\n",
    "out = []\n",
    "small_rule = '\\\\noindent\\\\hfil\\\\rule{0.1\\\\textwidth}{.4pt}\\\\hfil\\n'\n",
    "def centered(string):\n",
    "    return '\\n\\\\begin{center}\\n%s\\n\\\\end{center}\\n\\n' % string\n",
    "muticoldict = OrderedDict()\n",
    "target_groups = CPGs.all_group_labels\n",
    "raw_dict = {}\n",
    "# target_groups = ['O']\n",
    "\n",
    "for group_label in target_groups:\n",
    "    raw_dict[group_label] = {}\n",
    "    out.append(('\\n\\\\newpage\\n\\n\\\\section{Group $%s$}' % group_label))\n",
    "    cos_sin = sym_bases[group_label][0]\n",
    "    for irrep_label, l_dict in cos_sin.items():\n",
    "        raw_dict[group_label][irrep_label] = {}\n",
    "        max_len = 0\n",
    "        line = '\\\\subsection{$%s$}\\n' % str(irrep_label)\n",
    "        out.append(line)\n",
    "        # out.append(centered('$%s$' % str(irrep_label)))\n",
    "        for l, qet_groups in l_dict.items():\n",
    "            raw_dict[group_label][irrep_label][l] = []\n",
    "            if len(qet_groups) !=0:\n",
    "                # out.append(centered('$l=%d$' % l ))\n",
    "                out.append('\\\\subsubsection{$%s: l=%d$}' % (str(irrep_label),l))\n",
    "            for qet_group in qet_groups:\n",
    "                raw_out = [qet.dict for qet in qet_group]\n",
    "                if len(raw_out) != 0:\n",
    "                    raw_dict[group_label][irrep_label][l].append(raw_out)\n",
    "                qet_group_len = len(qet_group)\n",
    "                if qet_group_len == 0:\n",
    "                    out.pop()\n",
    "                    continue\n",
    "                out.append('\\\\begin{subequations}\\n\\\\begin{dmath}')\n",
    "                for qetidx, qet in enumerate(qet_group):\n",
    "                    pretty_dict = qet.dict\n",
    "                    if numeric:\n",
    "                        pretty_out = sp.latex(sum([(1 if v == 1 else sp.N(v,sig_figs))*sp.Symbol('Y_{%d,%d}^{(%s)}' % k) for k,v in pretty_dict.items()]))\n",
    "                    else:\n",
    "                        pretty_out = sp.latex(sum([v*sp.Symbol('Y_{%d,%d}^{(%s)}' % k) for k,v in pretty_dict.items()]))\n",
    "                    max_len = max(max_len, len(pretty_out))\n",
    "                    if qet_group_len > 1:\n",
    "                        if qetidx != qet_group_len - 1:\n",
    "                            out.append(pretty_out + r' \\\\ ')\n",
    "                        else:\n",
    "                            out.append(pretty_out)\n",
    "                    else:\n",
    "                        out.append(pretty_out)\n",
    "                out.append('\\\\end{dmath}\\n\\\\end{subequations}\\n')\n",
    "        muticoldict[(group_label, irrep_label)] = max_len\n",
    "out = []\n",
    "max_line_threshold = 80\n",
    "\n",
    "for group_label in target_groups:\n",
    "    out.append(('\\n\\\\newpage\\n\\n\\\\section{Group $%s$}' % group_label))\n",
    "    cos_sin = sym_bases[group_label][0]\n",
    "    in_three_mode =  False\n",
    "    exit_three_mode = False\n",
    "    for irrep_label, l_dict in cos_sin.items():\n",
    "        max_len = muticoldict[(group_label, irrep_label)]\n",
    "        if max_len < max_line_threshold and not(in_three_mode):\n",
    "            in_three_mode = True\n",
    "            out.append('\\\\begin{multicols}{3}\\n')\n",
    "        elif max_len < max_line_threshold and (in_three_mode):\n",
    "            pass\n",
    "        elif max_len > max_line_threshold and not(in_three_mode):\n",
    "            pass\n",
    "        elif max_len > max_line_threshold and (in_three_mode):\n",
    "            out.append('\\\\end{multicols}\\n')\n",
    "            in_three_mode = False\n",
    "        line = '\\\\subsection{$%s$}\\n' % str(irrep_label)\n",
    "        out.append(line)\n",
    "        # out.append(centered('$%s$' % str(irrep_label)))\n",
    "        for l, qet_groups in l_dict.items():\n",
    "            if len(qet_groups) !=0:\n",
    "                # out.append(centered('$l=%d$' % l ))\n",
    "                out.append('\\\\subsubsection{$%s: l=%d$}' % (str(irrep_label),l))\n",
    "            else:\n",
    "                continue\n",
    "            for qet_group in qet_groups:\n",
    "                qet_group_len = len(qet_group)\n",
    "                if qet_group_len == 0:\n",
    "                    out.pop()\n",
    "                    continue\n",
    "\n",
    "                # out.append('\\\\begin{subequations}\\n\\\\begin{dmath}')\n",
    "                out.append(small_rule)\n",
    "                out.append('\\\\begin{dgroup}')\n",
    "                for qetidx, qet in enumerate(qet_group):\n",
    "                    out.append('\\\\begin{dmath}')\n",
    "                    pretty_dict = [(k,v) for k,v in qet.dict.items()]\n",
    "                    pretty_dict = list(sorted(pretty_dict, key= lambda x: x[0][1]))\n",
    "                    pretty_dict = OrderedDict(pretty_dict)\n",
    "                    if numeric:\n",
    "                        pretty_out = sp.latex(sum([(v if v in [1,-1,-sp.I, sp.I] else sp.N(v,sig_figs))*sp.Symbol('Y_{%d,%d}^{(%s)}' % k) for k,v in pretty_dict.items()]))\n",
    "                    else:\n",
    "                        pretty_out = sp.latex(sum([v*sp.Symbol('Y_{%d,%d}^{(%s)}' % k) for k,v in pretty_dict.items()]))\n",
    "                    if qet_group_len > 1:\n",
    "                        if qetidx != qet_group_len - 1:\n",
    "                            out.append(pretty_out + r' \\\\ ')\n",
    "                        else:\n",
    "                            out.append(pretty_out)\n",
    "                    else:\n",
    "                        out.append(pretty_out)\n",
    "                    out.append('\\\\end{dmath}')\n",
    "                # out.append('\\\\end{dmath}\\n\\\\end{subequations}\\n')\n",
    "                out.append('\\\\end{dgroup}\\n\\n')\n",
    "                out.append(r'\\vspace*{-0.1cm}')\n",
    "            # out.append(r'\\vspace*{-0.3cm}')\n",
    "            out.append(small_rule)\n",
    "            \n",
    "        # if max_len > max_line_threshold and not exit_three_mode:\n",
    "        #     out.append('\\n\\\\end{multicols}{3}\\n')\n",
    "        #     exit_three_mode = True\n",
    "    else:\n",
    "        if in_three_mode:\n",
    "            out.append('\\\\end{multicols}\\n')\n",
    "open(final_out_file,'w').write('\\n'.join(out))\n",
    "pickle.dump(raw_dict, open(final_out_file_data,'wb'))"
   ]
  },
  {
   "cell_type": "markdown",
   "id": "23e39dde",
   "metadata": {},
   "source": [
    "# Analysis of End Results"
   ]
  },
  {
   "cell_type": "code",
   "execution_count": null,
   "id": "86761d38",
   "metadata": {},
   "outputs": [
    {
     "data": {
      "text/html": [
       "<pre>✔️ 1.95 s (2021-12-29T06:32:29/2021-12-29T06:32:31)</pre>"
      ],
      "text/plain": [
       "<IPython.core.display.HTML object>"
      ]
     },
     "metadata": {},
     "output_type": "display_data"
    }
   ],
   "source": [
    "sym_bases_new = pickle.load(open('./data/symmetry_bases_sc_and_standard_12.pkl','rb'))"
   ]
  },
  {
   "cell_type": "code",
   "execution_count": 576,
   "id": "a36715d2",
   "metadata": {},
   "outputs": [
    {
     "data": {
      "text/html": [
       "<pre>✔️ 354 ms (2021-12-29T06:32:42/2021-12-29T06:32:42)</pre>"
      ],
      "text/plain": [
       "<IPython.core.display.HTML object>"
      ]
     },
     "metadata": {},
     "output_type": "display_data"
    },
    {
     "name": "stdout",
     "output_type": "stream",
     "text": [
      "868 Failed out of 4386 (19.8%)\n",
      "C_{1}: 0 failed out of 169\n",
      "C_{i}: 0 failed out of 169\n",
      "C_{2}: 0 failed out of 169\n",
      "C_{s}: 0 failed out of 169\n",
      "C_{2h}: 0 failed out of 169\n",
      "D_{2}: 0 failed out of 169\n",
      "C_{2v}: 0 failed out of 169\n",
      "D_{2h}: 0 failed out of 169\n",
      "C_{4}: 84 failed out of 169\n",
      "S_{4}: 84 failed out of 169\n",
      "C_{4h}: 84 failed out of 169\n",
      "D_{4}: 0 failed out of 127\n",
      "C_{4v}: 0 failed out of 127\n",
      "D_{2d}: 0 failed out of 127\n",
      "D_{4h}: 0 failed out of 127\n",
      "C_{3}: 112 failed out of 169\n",
      "S_{6}: 112 failed out of 169\n",
      "D_{3}: 0 failed out of 113\n",
      "C_{3v}: 0 failed out of 113\n",
      "D_{3d}: 0 failed out of 113\n",
      "C_{6}: 112 failed out of 169\n",
      "C_{3h}: 112 failed out of 169\n",
      "C_{6h}: 112 failed out of 169\n",
      "D_{6}: 0 failed out of 113\n",
      "C_{6v}: 0 failed out of 113\n",
      "D_{3h}: 0 failed out of 113\n",
      "D_{6h}: 0 failed out of 113\n",
      "T: 28 failed out of 85\n",
      "T_{h}: 28 failed out of 85\n",
      "O: 0 failed out of 71\n",
      "T_{d}: 0 failed out of 71\n",
      "O_{h}: 0 failed out of 71\n"
     ]
    }
   ],
   "source": [
    "bummer = []\n",
    "okay = []\n",
    "for group_label, sym_basis in sym_bases_new.items():\n",
    "    for irrep_label, l_dict in sym_basis[0].items():\n",
    "        for l, qet_groups in l_dict.items():\n",
    "            for qet_group in qet_groups:\n",
    "                all_coeffs = sum([list(qet.dict.values()) for qet in qet_group],[])\n",
    "                reality_check = [sp.im(coeff) == 0 for coeff in all_coeffs]\n",
    "                if not all(reality_check):\n",
    "                    bummer.append((group_label,irrep_label,l,qet_group_idx,qet_group))\n",
    "                else:\n",
    "                    okay.append((group_label,irrep_label,l,qet_group_idx,qet_group))\n",
    "\n",
    "print(\"%d Failed out of %d (%.1f%%)\" % (len(bummer),len(okay)+len(bummer), 100*len(bummer)/(len(okay)+len(bummer))))\n",
    "failed_group_counts = {}\n",
    "for bumm in bummer:\n",
    "    group_label = bumm[0]\n",
    "    if group_label not in failed_group_counts:\n",
    "        failed_group_counts[group_label] = 0\n",
    "    failed_group_counts[group_label] += 1\n",
    "success_group_counts = {}\n",
    "for ok in okay:\n",
    "    group_label = ok[0]\n",
    "    if group_label not in success_group_counts:\n",
    "        success_group_counts[group_label] = 0\n",
    "    success_group_counts[group_label] += 1\n",
    "all_good = []\n",
    "some_bad = []\n",
    "for group_label in success_group_counts:\n",
    "    successful = success_group_counts[group_label]\n",
    "    total = success_group_counts[group_label]\n",
    "    if group_label in failed_group_counts:\n",
    "        total += failed_group_counts[group_label]\n",
    "        failed = failed_group_counts[group_label]\n",
    "        some_bad.append(group_label)\n",
    "    else:\n",
    "        all_good.append(group_label)\n",
    "        failed = 0\n",
    "    print(\"%s: %d failed out of %d\" % (group_label, failed, total))\n",
    "all_good = set(all_good)\n",
    "some_bad = set(some_bad)"
   ]
  },
  {
   "cell_type": "code",
   "execution_count": 560,
   "id": "d0f1bd3e",
   "metadata": {},
   "outputs": [
    {
     "data": {
      "text/html": [
       "<pre>✔️ 1.65 ms (2021-12-28T18:04:57/2021-12-28T18:04:57)</pre>"
      ],
      "text/plain": [
       "<IPython.core.display.HTML object>"
      ]
     },
     "metadata": {},
     "output_type": "display_data"
    },
    {
     "name": "stdout",
     "output_type": "stream",
     "text": [
      "these are bad and not cyclic\n",
      "['T', 'S_{6}', 'T_{h}', 'C_{4h}', 'C_{6h}']\n",
      "these are cyclic and not bad\n",
      "['C_{2}', 'C_{1h}', 'C_{i}']\n",
      "these both cyclic and bad\n",
      "['C_{6}', 'C_{4}', 'S_{4}', 'C_{3h}', 'C_{3}']\n",
      "these are bad and not dihedral\n",
      "['C_{6}', 'T', 'S_{6}', 'S_{4}', 'C_{4}', 'T_{h}', 'C_{3h}', 'C_{3}', 'C_{4h}', 'C_{6h}']\n",
      "these are dihedral and not bad\n",
      "['D_{2d}', 'C_{6v}', 'D_{3h}', 'D_{6}', 'D_{2}', 'C_{3v}', 'D_{4}', 'D_{3}', 'C_{4v}', 'C_{2v}']\n",
      "these both dihedral and bad\n",
      "[]\n"
     ]
    }
   ],
   "source": [
    "cyclic_groups = set('C_{i} C_{3h} C_{2} C_{1h} C_{4} S_{4} C_{3} C_{6}'.split(' '))\n",
    "dihedral_groups = set('D_{2} C_{2v} D_{3} D_{2d} C_{3v} D_{6} D_{4} C_{6v} C_{4v} D_{3h}'.split(' '))\n",
    "print(\"these are bad and not cyclic\")\n",
    "print([c for c in some_bad if c not in cyclic_groups])\n",
    "print(\"these are cyclic and not bad\")\n",
    "print([c for c in cyclic_groups if c not in some_bad])\n",
    "print(\"these both cyclic and bad\")\n",
    "print([c for c in cyclic_groups if c in some_bad])\n",
    "print(\"these are bad and not dihedral\")\n",
    "print([c for c in some_bad if c not in dihedral_groups])\n",
    "print(\"these are dihedral and not bad\")\n",
    "print([c for c in dihedral_groups if c not in some_bad])\n",
    "print(\"these both dihedral and bad\")\n",
    "print([c for c in dihedral_groups if c in some_bad])"
   ]
  },
  {
   "cell_type": "code",
   "execution_count": 561,
   "id": "b0a70ee0",
   "metadata": {},
   "outputs": [
    {
     "data": {
      "text/html": [
       "<pre>✔️ 2.28 ms (2021-12-28T18:05:10/2021-12-28T18:05:10)</pre>"
      ],
      "text/plain": [
       "<IPython.core.display.HTML object>"
      ]
     },
     "metadata": {},
     "output_type": "display_data"
    },
    {
     "name": "stdout",
     "output_type": "stream",
     "text": [
      "['T', 'S_{6}', 'T_{h}', 'C_{4h}', 'C_{6h}']\n"
     ]
    }
   ],
   "source": [
    "print([c for c in some_bad if c not in dihedral_groups and c not in cyclic_groups])"
   ]
  },
  {
   "cell_type": "code",
   "execution_count": 130,
   "id": "4d47705d",
   "metadata": {},
   "outputs": [
    {
     "data": {
      "text/html": [
       "<pre>✔️ 1.27 ms (2021-12-27T14:52:58/2021-12-27T14:52:58)</pre>"
      ],
      "text/plain": [
       "<IPython.core.display.HTML object>"
      ]
     },
     "metadata": {},
     "output_type": "display_data"
    },
    {
     "name": "stdout",
     "output_type": "stream",
     "text": [
      "C_{6}\n",
      "C_{4}\n",
      "S_{4}\n",
      "C_{3h}\n",
      "C_{3}\n"
     ]
    }
   ],
   "source": [
    "for c in cyclic_groups:\n",
    "    if c in some_bad:\n",
    "        print(c)"
   ]
  },
  {
   "cell_type": "code",
   "execution_count": 112,
   "id": "78f07cdf",
   "metadata": {},
   "outputs": [
    {
     "data": {
      "text/html": [
       "<pre>✔️ 2.68 ms (2021-12-27T14:46:48/2021-12-27T14:46:48)</pre>"
      ],
      "text/plain": [
       "<IPython.core.display.HTML object>"
      ]
     },
     "metadata": {},
     "output_type": "display_data"
    },
    {
     "data": {
      "text/plain": [
       "{A: [[[Qet({(1, 0, 'c'): 1})]]],\n",
       " E^1: [[[Qet({(1, 1, 'c'): sqrt(2)/2, (1, 1, 's'): sqrt(2)*I/2})]]],\n",
       " E^2: [[[Qet({(1, 1, 'c'): sqrt(2)/2, (1, 1, 's'): -sqrt(2)*I/2})]]],\n",
       " B: [[]]}"
      ]
     },
     "execution_count": 112,
     "metadata": {},
     "output_type": "execute_result"
    }
   ],
   "source": [
    "{ir: [v for k,v in irv.items() if k==1] for ir, irv in sym_bases_new['C_{4}'][0].items()}"
   ]
  },
  {
   "cell_type": "code",
   "execution_count": 480,
   "id": "e8fb53ea",
   "metadata": {},
   "outputs": [
    {
     "data": {
      "text/html": [
       "<pre>✔️ 11.6 ms (2021-12-28T14:50:58/2021-12-28T14:50:58)</pre>"
      ],
      "text/plain": [
       "<IPython.core.display.HTML object>"
      ]
     },
     "metadata": {},
     "output_type": "display_data"
    },
    {
     "data": {
      "text/plain": [
       "[('O_{h}',\n",
       "  E_{g},\n",
       "  4,\n",
       "  0,\n",
       "  [Qet({(4, 0, 'c'): sqrt(30)/12, (4, 2, 'c'): sqrt(2)*I/2, (4, 4, 'c'): -sqrt(42)/12}),\n",
       "   Qet({(4, 0, 'c'): -sqrt(30)/24 + sqrt(10)*I/8, (4, 2, 'c'): sqrt(6)*(3 + sqrt(3)*I)/12, (4, 4, 'c'): sqrt(42)/24 - sqrt(14)*I/8})])]"
      ]
     },
     "execution_count": 480,
     "metadata": {},
     "output_type": "execute_result"
    }
   ],
   "source": []
  },
  {
   "cell_type": "code",
   "execution_count": 312,
   "id": "779e2b5d",
   "metadata": {},
   "outputs": [
    {
     "data": {
      "text/html": [
       "<pre>✔️ 17 ms (2021-12-28T12:25:08/2021-12-28T12:25:08)</pre>"
      ],
      "text/plain": [
       "<IPython.core.display.HTML object>"
      ]
     },
     "metadata": {},
     "output_type": "display_data"
    }
   ],
   "source": [
    "vdim = len(v1)\n",
    "complement = [sp.Symbol('c_%d' % i) for i in range(vdim)]\n",
    "vmat = sp.Matrix([v1,v2,complement])\n",
    "detmat = sp.simplify(vmat.det())"
   ]
  },
  {
   "cell_type": "code",
   "execution_count": 390,
   "id": "7c15c60f",
   "metadata": {},
   "outputs": [
    {
     "data": {
      "text/html": [
       "<pre>✔️ 144 ms (2021-12-28T13:31:57/2021-12-28T13:31:57)</pre>"
      ],
      "text/plain": [
       "<IPython.core.display.HTML object>"
      ]
     },
     "metadata": {},
     "output_type": "display_data"
    }
   ],
   "source": [
    "A = sp.Matrix([v1,v2])\n",
    "Ap = A.pinv()\n",
    "ApA = sp.simplify(Ap*A)"
   ]
  },
  {
   "cell_type": "code",
   "execution_count": 448,
   "id": "6445abe9",
   "metadata": {},
   "outputs": [
    {
     "data": {
      "text/html": [
       "<pre>✔️ 9.72 ms (2021-12-28T13:43:57/2021-12-28T13:43:57)</pre>"
      ],
      "text/plain": [
       "<IPython.core.display.HTML object>"
      ]
     },
     "metadata": {},
     "output_type": "display_data"
    }
   ],
   "source": [
    "eigensys = ApA.eigenvects()\n",
    "nicevects = [[(ve.T) for ve in v[2]] for v in eigensys if v[0]==1][0]\n",
    "nicevects = [v/v.norm() for v in nicevects]\n",
    "realities = [all([sp.im(c) == 0 for c in nicevect]) for nicevect in nicevects]\n",
    "irealities = [all([sp.re(c) == 0 for c in nicevect]) for nicevect in nicevects]\n",
    "bettervects = []\n",
    "for nicevect, reality, ireality in zip(nicevects, realities, irealities):\n",
    "    if reality:\n",
    "        bettervects.append(list(nicevect))\n",
    "        continue\n",
    "    if ireality:\n",
    "        bettervects.append([list(sp.I*v) for v in nicevect])\n",
    "        continue\n"
   ]
  },
  {
   "cell_type": "code",
   "execution_count": 469,
   "id": "5921a652",
   "metadata": {},
   "outputs": [
    {
     "data": {
      "text/html": [
       "<pre>✔️ 27.5 ms (2021-12-28T14:45:34/2021-12-28T14:45:34)</pre>"
      ],
      "text/plain": [
       "<IPython.core.display.HTML object>"
      ]
     },
     "metadata": {},
     "output_type": "display_data"
    }
   ],
   "source": [
    "# def realize(vs):\n",
    "#     '''\n",
    "#     vs are lists of lists where each inner list has the numeric\n",
    "#     components of each of the provided vectors.\n",
    "#     '''\n",
    "#     A = sp.Matrix(vs)\n",
    "#     Ap = A.pinv()\n",
    "#     ApA = sp.simplify(Ap*A)\n",
    "#     eigensys = ApA.eigenvects()\n",
    "#     nicevects = [[(ve.T) for ve in v[2]] for v in eigensys if v[0]==1][0]\n",
    "#     nicevects = [list(v/v.norm()) for v in nicevects]\n",
    "#     realities = [all([sp.im(c) == 0 for c in nicevect]) for nicevect in nicevects]\n",
    "#     irealities = [all([sp.re(c) == 0 for c in nicevect]) for nicevect in nicevects]\n",
    "#     bettervects = []\n",
    "#     for nicevect, reality, ireality in zip(nicevects, realities, irealities):\n",
    "#         if reality:\n",
    "#             bettervects.append(list(nicevect))\n",
    "#             continue\n",
    "#         if ireality:\n",
    "#             bettervects.append([list(sp.I*v) for v in nicevect])\n",
    "#             continue\n",
    "#     if len(vs) == len(bettervects):\n",
    "#         return bettervects, \"real\"\n",
    "#     else:\n",
    "#         return vs, \"non real\""
   ]
  },
  {
   "cell_type": "code",
   "execution_count": 494,
   "id": "b085e6d2",
   "metadata": {},
   "outputs": [
    {
     "data": {
      "text/html": [
       "<pre>✔️ 2.49 ms (2021-12-28T15:16:18/2021-12-28T15:16:18)</pre>"
      ],
      "text/plain": [
       "<IPython.core.display.HTML object>"
      ]
     },
     "metadata": {},
     "output_type": "display_data"
    }
   ],
   "source": [
    "# def qetrealsimpler(qets):\n",
    "#     '''\n",
    "#     Given  a  list of qets, return a set that spans the same subspace, but\n",
    "#     with real components.\n",
    "\n",
    "#     Parameters\n",
    "#     ----------\n",
    "#     qets  (list) with qdefcore.Qet values\n",
    "\n",
    "#     Returns\n",
    "#     -------\n",
    "#     (2-tuple)  :  (list), (str) If the string is \"real\" then a solution to\n",
    "#     make  for  a  real combination was succesful and the returned list has\n",
    "#     the  resultant  qets,  if  the  string  is  \"non-real\" then a solution\n",
    "#     couldn't be found and the qets returned are the original ones.\n",
    "#     '''\n",
    "#     # determine the common basis\n",
    "#     common_basis = list(set(sum([list(q.dict.keys()) for q in qets],[])))\n",
    "#     # find the coefficients in that basis\n",
    "#     vs = [q.vec_in_basis(common_basis) for q in qets]\n",
    "#     A = sp.Matrix(vs)\n",
    "#     Ap = A.pinv()\n",
    "#     ApA = sp.simplify(Ap*A)\n",
    "#     eigensys = ApA.eigenvects()\n",
    "#     eigensys = (ApA - sp.eye(ApA.rows)).nullspace()\n",
    "#     nicevects = [[(ve.T) for ve in v[2]] for v in eigensys if v[0]==1][0]\n",
    "#     nicevects = [list(v/v.norm()) for v in nicevects]\n",
    "#     realities = [all([sp.im(c) == 0 for c in nicevect]) for nicevect in nicevects]\n",
    "#     irealities = [all([sp.re(c) == 0 for c in nicevect]) for nicevect in nicevects]\n",
    "#     bettervects = []\n",
    "#     for nicevect, reality, ireality in zip(nicevects, realities, irealities):\n",
    "#         if reality:\n",
    "#             bettervects.append(list(nicevect))\n",
    "#             continue\n",
    "#         if ireality:\n",
    "#             bettervects.append([list(sp.I*v) for v in nicevect])\n",
    "#             continue\n",
    "#     if len(vs) == len(bettervects):\n",
    "#         betterqets = [Qet({cb:v for cb, v in zip(common_basis, bettervect)}) for bettervect in bettervects]\n",
    "#         betterqets = sorted(betterqets, key= lambda x: len(x.dict))\n",
    "#         return betterqets, \"real\"\n",
    "#     else:\n",
    "#         return qets, \"non real\""
   ]
  },
  {
   "cell_type": "code",
   "execution_count": 501,
   "id": "8acd9b3f",
   "metadata": {},
   "outputs": [
    {
     "data": {
      "text/html": [
       "<pre>✔️ 11 ms (2021-12-28T16:43:11/2021-12-28T16:43:11)</pre>"
      ],
      "text/plain": [
       "<IPython.core.display.HTML object>"
      ]
     },
     "metadata": {},
     "output_type": "display_data"
    }
   ],
   "source": [
    "# qets = [Qet({(5, 1, 'c'): 7*sp.sqrt(2)/16, (5, 2, 'c'): sp.sqrt(14)*I/7, (5, 3, 'c'): 5*sp.sqrt(21)/112, (5, 4, 'c'): -sp.sqrt(42)*I/14, (5, 5, 'c'): -3*sp.sqrt(105)/112})]\n",
    "# # determine the common basis\n",
    "# common_basis = list(set(sum([list(q.dict.keys()) for q in qets],[])))\n",
    "# # find the coefficients in that basis\n",
    "# vs = [q.vec_in_basis(common_basis) for q in qets]\n",
    "# A = sp.Matrix(vs)"
   ]
  },
  {
   "cell_type": "code",
   "execution_count": null,
   "id": "463c0808",
   "metadata": {},
   "outputs": [
    {
     "data": {
      "text/html": [
       "<pre>✔️ 9.76 ms (2021-12-28T17:31:01/2021-12-28T17:31:01)</pre>"
      ],
      "text/plain": [
       "<IPython.core.display.HTML object>"
      ]
     },
     "metadata": {},
     "output_type": "display_data"
    }
   ],
   "source": [
    "def irrep_check(group, a_basis_list, irrep, l):\n",
    "    '''\n",
    "    This  function  checks  if  a  list  of qets (which are interpreted as\n",
    "    superpositions  of Ylms for fixed l), are a basis for the given irrep.\n",
    "    This  is done by calculating the matrices that represent the effect of\n",
    "    applying  all  of  the  group  operations, and then checking to see if\n",
    "    those matrices are unitary, satisfy the multiplication table, and have\n",
    "    the corresponding character for the given irrep.\n",
    "\n",
    "    This function could easily be modified to return the matrices that the\n",
    "    given basis induces.\n",
    "\n",
    "    Parameters\n",
    "    ----------\n",
    "\n",
    "    group    (qdef.CrystalGroup)\n",
    "\n",
    "    a_basis_list   (list[list[qdef.Qet]]): interpreted  as  superpositions \n",
    "        of standard spherical harmonics. Each list must have as many qets\n",
    "        as the dimension of the corresponding irrep. Several groups may be\n",
    "        given to account for possible degeneracy of the bases.\n",
    "\n",
    "    irrep   (sp.Symbol): symbol for one of the group irreps.\n",
    "\n",
    "    l      (int): the  value  of  l  from which the given qets are seen to\n",
    "        originate from.\n",
    "    \n",
    "    Returns\n",
    "    -------\n",
    "    all_checks (list): a list of nested lists, of which there are as many\n",
    "    as groups of qets were given. The enclosed lists have three Bool, the\n",
    "    first one of which is the check for the multiplication table, the 2nd\n",
    "    of which is the of characters of the induced matrices, and the  third\n",
    "    being the check against the matrices being unitary.\n",
    "    '''\n",
    "    all_checks = []\n",
    "    for a_basis in a_basis_list:\n",
    "        lbasis = [(l,m) for m in range(-l,l+1)]\n",
    "        basis_matrix = sp.Matrix([b.vec_in_basis(lbasis) for b in a_basis]).T\n",
    "        basis_matrix = Dagger(basis_matrix)\n",
    "        induced_matrices = {}\n",
    "        char_checks = {}\n",
    "        unitarity_checks = {}\n",
    "        for group_op, op_params in group.euler_angles.items():\n",
    "            D_matrix = (op_params[3]**l)*sp.Matrix([[Wigner_D(l,m,n,*op_params[:3]) for n in range(-l,l+1)] for m in range(-l,l+1)]).T\n",
    "            R_rows = []\n",
    "            for basis_element in a_basis:\n",
    "                vector = sp.Matrix(basis_element.vec_in_basis(lbasis))\n",
    "                t_vector = D_matrix*vector\n",
    "                row = (basis_matrix*t_vector).T\n",
    "                R_rows.append(row)\n",
    "            induced_matrices[group_op] = sp.Matrix(R_rows).T\n",
    "            induced_matrices[group_op] = sp.re(induced_matrices[group_op]) + sp.I * sp.im(induced_matrices[group_op])\n",
    "            diff = sp.N(sp.simplify(induced_matrices[group_op]).trace() - sp.simplify(group.irrep_matrices[irrep][group_op]).trace(), chop=True)\n",
    "            char_check = (diff == 0)\n",
    "            if not char_check:\n",
    "                warnings.warn(\"Character mismatch.\")\n",
    "            char_checks[group_op] = char_check\n",
    "            ru = sp.simplify(induced_matrices[group_op] * Dagger(induced_matrices[group_op]))\n",
    "            ru = sp.re(ru) + sp.I*sp.im(ru)\n",
    "            unitarity_checks[group_op] =  (ru == sp.eye(group.irrep_dims[irrep]) )\n",
    "        # check to see if the product table is satisfied\n",
    "        ptable = group.multiplication_table_dict\n",
    "        checks = {}\n",
    "        for group_op_0 in group.group_operations:\n",
    "            for group_op_1 in group.group_operations:\n",
    "                group_op_01 = ptable[(group_op_0,group_op_1)]\n",
    "                target = induced_matrices[group_op_01]\n",
    "                directp = sp.simplify(induced_matrices[group_op_0]*induced_matrices[group_op_1])\n",
    "                directp = sp.re(directp) + sp.I * sp.im(directp)\n",
    "                target = sp.re(target) + sp.I * sp.im(target)\n",
    "                pcheck = sp.N(directp - target, chop=True) == sp.zeros(target.rows)\n",
    "                if not pcheck:\n",
    "                    warnings.warn(\"Multiplication table mismatch.\")\n",
    "                checks[(group_op_0,group_op_1)] = pcheck\n",
    "        all_checks.append((all(checks.values()), all(char_checks.values()), all(unitarity_checks.values())))\n",
    "    return all_checks"
   ]
  },
  {
   "cell_type": "code",
   "execution_count": 547,
   "id": "7feff58c",
   "metadata": {},
   "outputs": [
    {
     "data": {
      "text/html": [
       "<pre>✔️ 12.8 ms (2021-12-28T17:31:29/2021-12-28T17:31:29)</pre>"
      ],
      "text/plain": [
       "<IPython.core.display.HTML object>"
      ]
     },
     "metadata": {},
     "output_type": "display_data"
    }
   ],
   "source": [
    "group = CPGs.get_group_by_label('T_{d}')"
   ]
  },
  {
   "cell_type": "code",
   "execution_count": 549,
   "id": "e0c67e74",
   "metadata": {},
   "outputs": [
    {
     "data": {
      "text/html": [
       "<pre>✔️ 2.79 s (2021-12-28T17:33:07/2021-12-28T17:33:10)</pre>"
      ],
      "text/plain": [
       "<IPython.core.display.HTML object>"
      ]
     },
     "metadata": {},
     "output_type": "display_data"
    },
    {
     "data": {
      "text/plain": [
       "[(False, False, False)]"
      ]
     },
     "execution_count": 549,
     "metadata": {},
     "output_type": "execute_result"
    }
   ],
   "source": []
  },
  {
   "cell_type": "code",
   "execution_count": 554,
   "id": "b462eba6",
   "metadata": {},
   "outputs": [
    {
     "data": {
      "text/html": [
       "<pre>✔️ 31.4 ms (2021-12-28T17:38:54/2021-12-28T17:38:54)</pre>"
      ],
      "text/plain": [
       "<IPython.core.display.HTML object>"
      ]
     },
     "metadata": {},
     "output_type": "display_data"
    }
   ],
   "source": [
    "odd_bases = pickle.load(open('./data/symmetry_bases_sc_and_standard_6.pkl','rb'))"
   ]
  },
  {
   "cell_type": "code",
   "execution_count": 555,
   "id": "fc3e1fa6",
   "metadata": {},
   "outputs": [
    {
     "data": {
      "text/html": [
       "<pre>✔️ 8.81 ms (2021-12-28T17:38:55/2021-12-28T17:38:55)</pre>"
      ],
      "text/plain": [
       "<IPython.core.display.HTML object>"
      ]
     },
     "metadata": {},
     "output_type": "display_data"
    },
    {
     "data": {
      "text/plain": [
       "{0: [],\n",
       " 1: [],\n",
       " 2: [[Qet({(2, 2, 'c'): 1}), Qet({(2, 0, 'c'): 1})]],\n",
       " 3: [],\n",
       " 4: [[Qet({(4, 2, 'c'): 1}),\n",
       "   Qet({(4, 0, 'c'): -sqrt(15)/6, (4, 4, 'c'): sqrt(21)/6})]]}"
      ]
     },
     "execution_count": 555,
     "metadata": {},
     "output_type": "execute_result"
    }
   ],
   "source": [
    "odd_bases['T_{d}'][0][sp.Symbol('E')]"
   ]
  },
  {
   "cell_type": "code",
   "execution_count": 556,
   "id": "9d54e123",
   "metadata": {},
   "outputs": [
    {
     "data": {
      "text/html": [
       "<pre>✔️ 1.98 s (2021-12-28T17:39:16/2021-12-28T17:39:18)</pre>"
      ],
      "text/plain": [
       "<IPython.core.display.HTML object>"
      ]
     },
     "metadata": {},
     "output_type": "display_data"
    },
    {
     "data": {
      "text/plain": [
       "[(True, True, True)]"
      ]
     },
     "execution_count": 556,
     "metadata": {},
     "output_type": "execute_result"
    }
   ],
   "source": [
    "irrep_check(group, odd_bases['T_{d}'][1][sp.Symbol('E')][4], sp.Symbol('E'),4)"
   ]
  },
  {
   "cell_type": "code",
   "execution_count": 502,
   "id": "bb2f54ed",
   "metadata": {},
   "outputs": [
    {
     "data": {
      "text/html": [
       "<pre>✔️ 2.87 ms (2021-12-28T16:43:16/2021-12-28T16:43:16)</pre>"
      ],
      "text/plain": [
       "<IPython.core.display.HTML object>"
      ]
     },
     "metadata": {},
     "output_type": "display_data"
    }
   ],
   "source": [
    "Ap = A.pinv()"
   ]
  },
  {
   "cell_type": "code",
   "execution_count": 503,
   "id": "32c99371",
   "metadata": {},
   "outputs": [
    {
     "data": {
      "text/html": [
       "<pre>✔️ 60.9 ms (2021-12-28T16:43:21/2021-12-28T16:43:21)</pre>"
      ],
      "text/plain": [
       "<IPython.core.display.HTML object>"
      ]
     },
     "metadata": {},
     "output_type": "display_data"
    }
   ],
   "source": [
    "ApA = sp.simplify(Ap*A)"
   ]
  },
  {
   "cell_type": "code",
   "execution_count": 522,
   "id": "37351bcd",
   "metadata": {},
   "outputs": [
    {
     "data": {
      "text/html": [
       "<pre>✔️ 5.42 ms (2021-12-28T16:52:42/2021-12-28T16:52:42)</pre>"
      ],
      "text/plain": [
       "<IPython.core.display.HTML object>"
      ]
     },
     "metadata": {},
     "output_type": "display_data"
    },
    {
     "name": "stdout",
     "output_type": "stream",
     "text": [
      "[3/14, -9*Sqrt[10]*I/224, Sqrt[21]*I/16, -Sqrt[3]/7, 15*Sqrt[2]*I/224]\n",
      "[9*Sqrt[10]*I/224, 135/1792, -3*Sqrt[210]/256, -3*Sqrt[30]*I/112, -45*Sqrt[5]/1792]\n",
      "[-Sqrt[21]*I/16, -3*Sqrt[210]/256, 49/128, Sqrt[7]*I/8, 5*Sqrt[42]/256]\n",
      "[-Sqrt[3]/7, 3*Sqrt[30]*I/112, -Sqrt[7]*I/8, 2/7, -5*Sqrt[6]*I/112]\n",
      "[-15*Sqrt[2]*I/224, -45*Sqrt[5]/1792, 5*Sqrt[42]/256, 5*Sqrt[6]*I/112, 75/1792]\n"
     ]
    }
   ],
   "source": [
    "for rowidx in range(ApA.rows):\n",
    "    print(str(list(ApA.row(rowidx))).replace('sqrt','Sqrt').replace('(','[').replace(')',']'))"
   ]
  },
  {
   "cell_type": "code",
   "execution_count": 530,
   "id": "891628f6",
   "metadata": {},
   "outputs": [
    {
     "data": {
      "text/html": [
       "<pre>✔️ 19.5 ms (2021-12-28T17:03:44/2021-12-28T17:03:44)</pre>"
      ],
      "text/plain": [
       "<IPython.core.display.HTML object>"
      ]
     },
     "metadata": {},
     "output_type": "display_data"
    }
   ],
   "source": []
  },
  {
   "cell_type": "code",
   "execution_count": 539,
   "id": "62ca77a7",
   "metadata": {},
   "outputs": [
    {
     "data": {
      "text/html": [
       "<pre>✔️ 26.8 ms (2021-12-28T17:05:22/2021-12-28T17:05:22)</pre>"
      ],
      "text/plain": [
       "<IPython.core.display.HTML object>"
      ]
     },
     "metadata": {},
     "output_type": "display_data"
    }
   ],
   "source": [
    "\n",
    "\n",
    "ApAm = ApA - sp.eye(ApA.rows)\n",
    "eigensys = ApAm.nullspace()\n",
    "# eigensys = ApA.eigenvects()\n",
    "nicevects = [(ve.T) for ve in eigensys]\n",
    "nicevects = [list(v/v.norm()) for v in nicevects]\n",
    "realities = [all([sp.im(c) == 0 for c in nicevect]) for nicevect in nicevects]\n",
    "irealities = [all([sp.re(c) == 0 for c in nicevect]) for nicevect in nicevects]\n",
    "bettervects = []\n",
    "for nicevect, reality, ireality in zip(nicevects, realities, irealities):\n",
    "    if reality:\n",
    "        bettervects.append(list(nicevect))\n",
    "        continue\n",
    "    if ireality:\n",
    "        bettervects.append([list(sp.I*v) for v in nicevect])\n",
    "        continue\n",
    "if len(vs) == len(bettervects):\n",
    "    betterqets = [Qet({cb:v for cb, v in zip(common_basis, bettervect)}) for bettervect in bettervects]\n",
    "    betterqets = sorted(betterqets, key= lambda x: len(x.dict))\n",
    "    retu = betterqets, \"real\"\n",
    "else:\n",
    "    retu = qets, \"non real\""
   ]
  },
  {
   "cell_type": "code",
   "execution_count": 540,
   "id": "4c2b651c",
   "metadata": {},
   "outputs": [
    {
     "data": {
      "text/html": [
       "<pre>✔️ 3.86 ms (2021-12-28T17:05:27/2021-12-28T17:05:27)</pre>"
      ],
      "text/plain": [
       "<IPython.core.display.HTML object>"
      ]
     },
     "metadata": {},
     "output_type": "display_data"
    },
    {
     "data": {
      "text/plain": [
       "([Qet({(5, 1, 'c'): 7*sqrt(2)/16, (5, 2, 'c'): sqrt(14)*I/7, (5, 3, 'c'): 5*sqrt(21)/112, (5, 4, 'c'): -sqrt(42)*I/14, (5, 5, 'c'): -3*sqrt(105)/112})],\n",
       " 'non real')"
      ]
     },
     "execution_count": 540,
     "metadata": {},
     "output_type": "execute_result"
    }
   ],
   "source": [
    "retu"
   ]
  },
  {
   "cell_type": "code",
   "execution_count": 500,
   "id": "e5ff8b20",
   "metadata": {},
   "outputs": [
    {
     "data": {
      "text/html": [
       "<pre>✔️ 49.3 s (2021-12-28T16:41:36/2021-12-28T16:42:25)</pre>"
      ],
      "text/plain": [
       "<IPython.core.display.HTML object>"
      ]
     },
     "metadata": {},
     "output_type": "display_data"
    },
    {
     "ename": "KeyboardInterrupt",
     "evalue": "",
     "output_type": "error",
     "traceback": [
      "\u001b[0;31m---------------------------------------------------------------------------\u001b[0m",
      "\u001b[0;31mKeyboardInterrupt\u001b[0m                         Traceback (most recent call last)",
      "\u001b[0;32m<ipython-input-500-0c079fda4c49>\u001b[0m in \u001b[0;36m<module>\u001b[0;34m\u001b[0m\n\u001b[0;32m----> 1\u001b[0;31m \u001b[0mqetrealsimpler\u001b[0m\u001b[0;34m(\u001b[0m\u001b[0mqets\u001b[0m\u001b[0;34m)\u001b[0m\u001b[0;34m\u001b[0m\u001b[0;34m\u001b[0m\u001b[0m\n\u001b[0m",
      "\u001b[0;32m<ipython-input-494-a625d389877e>\u001b[0m in \u001b[0;36mqetrealsimpler\u001b[0;34m(qets)\u001b[0m\n\u001b[1;32m     22\u001b[0m     \u001b[0mAp\u001b[0m \u001b[0;34m=\u001b[0m \u001b[0mA\u001b[0m\u001b[0;34m.\u001b[0m\u001b[0mpinv\u001b[0m\u001b[0;34m(\u001b[0m\u001b[0;34m)\u001b[0m\u001b[0;34m\u001b[0m\u001b[0;34m\u001b[0m\u001b[0m\n\u001b[1;32m     23\u001b[0m     \u001b[0mApA\u001b[0m \u001b[0;34m=\u001b[0m \u001b[0msp\u001b[0m\u001b[0;34m.\u001b[0m\u001b[0msimplify\u001b[0m\u001b[0;34m(\u001b[0m\u001b[0mAp\u001b[0m\u001b[0;34m*\u001b[0m\u001b[0mA\u001b[0m\u001b[0;34m)\u001b[0m\u001b[0;34m\u001b[0m\u001b[0;34m\u001b[0m\u001b[0m\n\u001b[0;32m---> 24\u001b[0;31m     \u001b[0meigensys\u001b[0m \u001b[0;34m=\u001b[0m \u001b[0mApA\u001b[0m\u001b[0;34m.\u001b[0m\u001b[0meigenvects\u001b[0m\u001b[0;34m(\u001b[0m\u001b[0;34m)\u001b[0m\u001b[0;34m\u001b[0m\u001b[0;34m\u001b[0m\u001b[0m\n\u001b[0m\u001b[1;32m     25\u001b[0m     \u001b[0mnicevects\u001b[0m \u001b[0;34m=\u001b[0m \u001b[0;34m[\u001b[0m\u001b[0;34m[\u001b[0m\u001b[0;34m(\u001b[0m\u001b[0mve\u001b[0m\u001b[0;34m.\u001b[0m\u001b[0mT\u001b[0m\u001b[0;34m)\u001b[0m \u001b[0;32mfor\u001b[0m \u001b[0mve\u001b[0m \u001b[0;32min\u001b[0m \u001b[0mv\u001b[0m\u001b[0;34m[\u001b[0m\u001b[0;36m2\u001b[0m\u001b[0;34m]\u001b[0m\u001b[0;34m]\u001b[0m \u001b[0;32mfor\u001b[0m \u001b[0mv\u001b[0m \u001b[0;32min\u001b[0m \u001b[0meigensys\u001b[0m \u001b[0;32mif\u001b[0m \u001b[0mv\u001b[0m\u001b[0;34m[\u001b[0m\u001b[0;36m0\u001b[0m\u001b[0;34m]\u001b[0m\u001b[0;34m==\u001b[0m\u001b[0;36m1\u001b[0m\u001b[0;34m]\u001b[0m\u001b[0;34m[\u001b[0m\u001b[0;36m0\u001b[0m\u001b[0;34m]\u001b[0m\u001b[0;34m\u001b[0m\u001b[0;34m\u001b[0m\u001b[0m\n\u001b[1;32m     26\u001b[0m     \u001b[0mnicevects\u001b[0m \u001b[0;34m=\u001b[0m \u001b[0;34m[\u001b[0m\u001b[0mlist\u001b[0m\u001b[0;34m(\u001b[0m\u001b[0mv\u001b[0m\u001b[0;34m/\u001b[0m\u001b[0mv\u001b[0m\u001b[0;34m.\u001b[0m\u001b[0mnorm\u001b[0m\u001b[0;34m(\u001b[0m\u001b[0;34m)\u001b[0m\u001b[0;34m)\u001b[0m \u001b[0;32mfor\u001b[0m \u001b[0mv\u001b[0m \u001b[0;32min\u001b[0m \u001b[0mnicevects\u001b[0m\u001b[0;34m]\u001b[0m\u001b[0;34m\u001b[0m\u001b[0;34m\u001b[0m\u001b[0m\n",
      "\u001b[0;32m~/opt/anaconda3/envs/qdef3p8/lib/python3.8/site-packages/sympy/matrices/matrices.py\u001b[0m in \u001b[0;36meigenvects\u001b[0;34m(self, error_when_incomplete, iszerofunc, **flags)\u001b[0m\n\u001b[1;32m    375\u001b[0m \u001b[0;34m\u001b[0m\u001b[0m\n\u001b[1;32m    376\u001b[0m     \u001b[0;32mdef\u001b[0m \u001b[0meigenvects\u001b[0m\u001b[0;34m(\u001b[0m\u001b[0mself\u001b[0m\u001b[0;34m,\u001b[0m \u001b[0merror_when_incomplete\u001b[0m\u001b[0;34m=\u001b[0m\u001b[0;32mTrue\u001b[0m\u001b[0;34m,\u001b[0m \u001b[0miszerofunc\u001b[0m\u001b[0;34m=\u001b[0m\u001b[0m_iszero\u001b[0m\u001b[0;34m,\u001b[0m \u001b[0;34m**\u001b[0m\u001b[0mflags\u001b[0m\u001b[0;34m)\u001b[0m\u001b[0;34m:\u001b[0m\u001b[0;34m\u001b[0m\u001b[0;34m\u001b[0m\u001b[0m\n\u001b[0;32m--> 377\u001b[0;31m         return _eigenvects(self, error_when_incomplete=error_when_incomplete,\n\u001b[0m\u001b[1;32m    378\u001b[0m                 iszerofunc=iszerofunc, **flags)\n\u001b[1;32m    379\u001b[0m \u001b[0;34m\u001b[0m\u001b[0m\n",
      "\u001b[0;32m~/opt/anaconda3/envs/qdef3p8/lib/python3.8/site-packages/sympy/matrices/eigen.py\u001b[0m in \u001b[0;36m_eigenvects\u001b[0;34m(M, error_when_incomplete, iszerofunc, chop, **flags)\u001b[0m\n\u001b[1;32m    408\u001b[0m         \u001b[0mM\u001b[0m \u001b[0;34m=\u001b[0m \u001b[0mM\u001b[0m\u001b[0;34m.\u001b[0m\u001b[0mapplyfunc\u001b[0m\u001b[0;34m(\u001b[0m\u001b[0;32mlambda\u001b[0m \u001b[0mx\u001b[0m\u001b[0;34m:\u001b[0m \u001b[0mnsimplify\u001b[0m\u001b[0;34m(\u001b[0m\u001b[0mx\u001b[0m\u001b[0;34m,\u001b[0m \u001b[0mrational\u001b[0m\u001b[0;34m=\u001b[0m\u001b[0;32mTrue\u001b[0m\u001b[0;34m)\u001b[0m\u001b[0;34m)\u001b[0m\u001b[0;34m\u001b[0m\u001b[0;34m\u001b[0m\u001b[0m\n\u001b[1;32m    409\u001b[0m \u001b[0;34m\u001b[0m\u001b[0m\n\u001b[0;32m--> 410\u001b[0;31m     \u001b[0mret\u001b[0m \u001b[0;34m=\u001b[0m \u001b[0m_eigenvects_DOM\u001b[0m\u001b[0;34m(\u001b[0m\u001b[0mM\u001b[0m\u001b[0;34m)\u001b[0m\u001b[0;34m\u001b[0m\u001b[0;34m\u001b[0m\u001b[0m\n\u001b[0m\u001b[1;32m    411\u001b[0m     \u001b[0;32mif\u001b[0m \u001b[0mret\u001b[0m \u001b[0;32mis\u001b[0m \u001b[0;32mNone\u001b[0m\u001b[0;34m:\u001b[0m\u001b[0;34m\u001b[0m\u001b[0;34m\u001b[0m\u001b[0m\n\u001b[1;32m    412\u001b[0m         \u001b[0mret\u001b[0m \u001b[0;34m=\u001b[0m \u001b[0m_eigenvects_sympy\u001b[0m\u001b[0;34m(\u001b[0m\u001b[0mM\u001b[0m\u001b[0;34m,\u001b[0m \u001b[0miszerofunc\u001b[0m\u001b[0;34m,\u001b[0m \u001b[0msimplify\u001b[0m\u001b[0;34m=\u001b[0m\u001b[0msimplify\u001b[0m\u001b[0;34m,\u001b[0m \u001b[0;34m**\u001b[0m\u001b[0mflags\u001b[0m\u001b[0;34m)\u001b[0m\u001b[0;34m\u001b[0m\u001b[0;34m\u001b[0m\u001b[0m\n",
      "\u001b[0;32m~/opt/anaconda3/envs/qdef3p8/lib/python3.8/site-packages/sympy/matrices/eigen.py\u001b[0m in \u001b[0;36m_eigenvects_DOM\u001b[0;34m(M, **kwargs)\u001b[0m\n\u001b[1;32m    288\u001b[0m \u001b[0;34m\u001b[0m\u001b[0m\n\u001b[1;32m    289\u001b[0m \u001b[0;32mdef\u001b[0m \u001b[0m_eigenvects_DOM\u001b[0m\u001b[0;34m(\u001b[0m\u001b[0mM\u001b[0m\u001b[0;34m,\u001b[0m \u001b[0;34m**\u001b[0m\u001b[0mkwargs\u001b[0m\u001b[0;34m)\u001b[0m\u001b[0;34m:\u001b[0m\u001b[0;34m\u001b[0m\u001b[0;34m\u001b[0m\u001b[0m\n\u001b[0;32m--> 290\u001b[0;31m     \u001b[0mDOM\u001b[0m \u001b[0;34m=\u001b[0m \u001b[0mDomainMatrix\u001b[0m\u001b[0;34m.\u001b[0m\u001b[0mfrom_Matrix\u001b[0m\u001b[0;34m(\u001b[0m\u001b[0mM\u001b[0m\u001b[0;34m,\u001b[0m \u001b[0mfield\u001b[0m\u001b[0;34m=\u001b[0m\u001b[0;32mTrue\u001b[0m\u001b[0;34m,\u001b[0m \u001b[0mextension\u001b[0m\u001b[0;34m=\u001b[0m\u001b[0;32mTrue\u001b[0m\u001b[0;34m)\u001b[0m\u001b[0;34m\u001b[0m\u001b[0;34m\u001b[0m\u001b[0m\n\u001b[0m\u001b[1;32m    291\u001b[0m     \u001b[0;32mif\u001b[0m \u001b[0mDOM\u001b[0m\u001b[0;34m.\u001b[0m\u001b[0mdomain\u001b[0m \u001b[0;34m!=\u001b[0m \u001b[0mEX\u001b[0m\u001b[0;34m:\u001b[0m\u001b[0;34m\u001b[0m\u001b[0;34m\u001b[0m\u001b[0m\n\u001b[1;32m    292\u001b[0m         \u001b[0mrational\u001b[0m\u001b[0;34m,\u001b[0m \u001b[0malgebraic\u001b[0m \u001b[0;34m=\u001b[0m \u001b[0mdom_eigenvects\u001b[0m\u001b[0;34m(\u001b[0m\u001b[0mDOM\u001b[0m\u001b[0;34m)\u001b[0m\u001b[0;34m\u001b[0m\u001b[0;34m\u001b[0m\u001b[0m\n",
      "\u001b[0;32m~/opt/anaconda3/envs/qdef3p8/lib/python3.8/site-packages/sympy/polys/matrices/domainmatrix.py\u001b[0m in \u001b[0;36mfrom_Matrix\u001b[0;34m(cls, M, **kwargs)\u001b[0m\n\u001b[1;32m    243\u001b[0m \u001b[0;34m\u001b[0m\u001b[0m\n\u001b[1;32m    244\u001b[0m         \"\"\"\n\u001b[0;32m--> 245\u001b[0;31m         \u001b[0;32mreturn\u001b[0m \u001b[0mcls\u001b[0m\u001b[0;34m.\u001b[0m\u001b[0mfrom_list_sympy\u001b[0m\u001b[0;34m(\u001b[0m\u001b[0;34m*\u001b[0m\u001b[0mM\u001b[0m\u001b[0;34m.\u001b[0m\u001b[0mshape\u001b[0m\u001b[0;34m,\u001b[0m \u001b[0mM\u001b[0m\u001b[0;34m.\u001b[0m\u001b[0mtolist\u001b[0m\u001b[0;34m(\u001b[0m\u001b[0;34m)\u001b[0m\u001b[0;34m,\u001b[0m \u001b[0;34m**\u001b[0m\u001b[0mkwargs\u001b[0m\u001b[0;34m)\u001b[0m\u001b[0;34m\u001b[0m\u001b[0;34m\u001b[0m\u001b[0m\n\u001b[0m\u001b[1;32m    246\u001b[0m \u001b[0;34m\u001b[0m\u001b[0m\n\u001b[1;32m    247\u001b[0m     \u001b[0;34m@\u001b[0m\u001b[0mclassmethod\u001b[0m\u001b[0;34m\u001b[0m\u001b[0;34m\u001b[0m\u001b[0m\n",
      "\u001b[0;32m~/opt/anaconda3/envs/qdef3p8/lib/python3.8/site-packages/sympy/polys/matrices/domainmatrix.py\u001b[0m in \u001b[0;36mfrom_list_sympy\u001b[0;34m(cls, nrows, ncols, rows, **kwargs)\u001b[0m\n\u001b[1;32m    204\u001b[0m         \u001b[0mitems_sympy\u001b[0m \u001b[0;34m=\u001b[0m \u001b[0;34m[\u001b[0m\u001b[0m_sympify\u001b[0m\u001b[0;34m(\u001b[0m\u001b[0mitem\u001b[0m\u001b[0;34m)\u001b[0m \u001b[0;32mfor\u001b[0m \u001b[0mrow\u001b[0m \u001b[0;32min\u001b[0m \u001b[0mrows\u001b[0m \u001b[0;32mfor\u001b[0m \u001b[0mitem\u001b[0m \u001b[0;32min\u001b[0m \u001b[0mrow\u001b[0m\u001b[0;34m]\u001b[0m\u001b[0;34m\u001b[0m\u001b[0;34m\u001b[0m\u001b[0m\n\u001b[1;32m    205\u001b[0m \u001b[0;34m\u001b[0m\u001b[0m\n\u001b[0;32m--> 206\u001b[0;31m         \u001b[0mdomain\u001b[0m\u001b[0;34m,\u001b[0m \u001b[0mitems_domain\u001b[0m \u001b[0;34m=\u001b[0m \u001b[0mcls\u001b[0m\u001b[0;34m.\u001b[0m\u001b[0mget_domain\u001b[0m\u001b[0;34m(\u001b[0m\u001b[0mitems_sympy\u001b[0m\u001b[0;34m,\u001b[0m \u001b[0;34m**\u001b[0m\u001b[0mkwargs\u001b[0m\u001b[0;34m)\u001b[0m\u001b[0;34m\u001b[0m\u001b[0;34m\u001b[0m\u001b[0m\n\u001b[0m\u001b[1;32m    207\u001b[0m \u001b[0;34m\u001b[0m\u001b[0m\n\u001b[1;32m    208\u001b[0m         \u001b[0mdomain_rows\u001b[0m \u001b[0;34m=\u001b[0m \u001b[0;34m[\u001b[0m\u001b[0;34m[\u001b[0m\u001b[0mitems_domain\u001b[0m\u001b[0;34m[\u001b[0m\u001b[0mncols\u001b[0m\u001b[0;34m*\u001b[0m\u001b[0mr\u001b[0m \u001b[0;34m+\u001b[0m \u001b[0mc\u001b[0m\u001b[0;34m]\u001b[0m \u001b[0;32mfor\u001b[0m \u001b[0mc\u001b[0m \u001b[0;32min\u001b[0m \u001b[0mrange\u001b[0m\u001b[0;34m(\u001b[0m\u001b[0mncols\u001b[0m\u001b[0;34m)\u001b[0m\u001b[0;34m]\u001b[0m \u001b[0;32mfor\u001b[0m \u001b[0mr\u001b[0m \u001b[0;32min\u001b[0m \u001b[0mrange\u001b[0m\u001b[0;34m(\u001b[0m\u001b[0mnrows\u001b[0m\u001b[0;34m)\u001b[0m\u001b[0;34m]\u001b[0m\u001b[0;34m\u001b[0m\u001b[0;34m\u001b[0m\u001b[0m\n",
      "\u001b[0;32m~/opt/anaconda3/envs/qdef3p8/lib/python3.8/site-packages/sympy/polys/matrices/domainmatrix.py\u001b[0m in \u001b[0;36mget_domain\u001b[0;34m(cls, items_sympy, **kwargs)\u001b[0m\n\u001b[1;32m    247\u001b[0m     \u001b[0;34m@\u001b[0m\u001b[0mclassmethod\u001b[0m\u001b[0;34m\u001b[0m\u001b[0;34m\u001b[0m\u001b[0m\n\u001b[1;32m    248\u001b[0m     \u001b[0;32mdef\u001b[0m \u001b[0mget_domain\u001b[0m\u001b[0;34m(\u001b[0m\u001b[0mcls\u001b[0m\u001b[0;34m,\u001b[0m \u001b[0mitems_sympy\u001b[0m\u001b[0;34m,\u001b[0m \u001b[0;34m**\u001b[0m\u001b[0mkwargs\u001b[0m\u001b[0;34m)\u001b[0m\u001b[0;34m:\u001b[0m\u001b[0;34m\u001b[0m\u001b[0;34m\u001b[0m\u001b[0m\n\u001b[0;32m--> 249\u001b[0;31m         \u001b[0mK\u001b[0m\u001b[0;34m,\u001b[0m \u001b[0mitems_K\u001b[0m \u001b[0;34m=\u001b[0m \u001b[0mconstruct_domain\u001b[0m\u001b[0;34m(\u001b[0m\u001b[0mitems_sympy\u001b[0m\u001b[0;34m,\u001b[0m \u001b[0;34m**\u001b[0m\u001b[0mkwargs\u001b[0m\u001b[0;34m)\u001b[0m\u001b[0;34m\u001b[0m\u001b[0;34m\u001b[0m\u001b[0m\n\u001b[0m\u001b[1;32m    250\u001b[0m         \u001b[0;32mreturn\u001b[0m \u001b[0mK\u001b[0m\u001b[0;34m,\u001b[0m \u001b[0mitems_K\u001b[0m\u001b[0;34m\u001b[0m\u001b[0;34m\u001b[0m\u001b[0m\n\u001b[1;32m    251\u001b[0m \u001b[0;34m\u001b[0m\u001b[0m\n",
      "\u001b[0;32m~/opt/anaconda3/envs/qdef3p8/lib/python3.8/site-packages/sympy/polys/constructor.py\u001b[0m in \u001b[0;36mconstruct_domain\u001b[0;34m(obj, **args)\u001b[0m\n\u001b[1;32m    365\u001b[0m \u001b[0;34m\u001b[0m\u001b[0m\n\u001b[1;32m    366\u001b[0m     \u001b[0mcoeffs\u001b[0m \u001b[0;34m=\u001b[0m \u001b[0mlist\u001b[0m\u001b[0;34m(\u001b[0m\u001b[0mmap\u001b[0m\u001b[0;34m(\u001b[0m\u001b[0msympify\u001b[0m\u001b[0;34m,\u001b[0m \u001b[0mcoeffs\u001b[0m\u001b[0;34m)\u001b[0m\u001b[0;34m)\u001b[0m\u001b[0;34m\u001b[0m\u001b[0;34m\u001b[0m\u001b[0m\n\u001b[0;32m--> 367\u001b[0;31m     \u001b[0mresult\u001b[0m \u001b[0;34m=\u001b[0m \u001b[0m_construct_simple\u001b[0m\u001b[0;34m(\u001b[0m\u001b[0mcoeffs\u001b[0m\u001b[0;34m,\u001b[0m \u001b[0mopt\u001b[0m\u001b[0;34m)\u001b[0m\u001b[0;34m\u001b[0m\u001b[0;34m\u001b[0m\u001b[0m\n\u001b[0m\u001b[1;32m    368\u001b[0m \u001b[0;34m\u001b[0m\u001b[0m\n\u001b[1;32m    369\u001b[0m     \u001b[0;32mif\u001b[0m \u001b[0mresult\u001b[0m \u001b[0;32mis\u001b[0m \u001b[0;32mnot\u001b[0m \u001b[0;32mNone\u001b[0m\u001b[0;34m:\u001b[0m\u001b[0;34m\u001b[0m\u001b[0;34m\u001b[0m\u001b[0m\n",
      "\u001b[0;32m~/opt/anaconda3/envs/qdef3p8/lib/python3.8/site-packages/sympy/polys/constructor.py\u001b[0m in \u001b[0;36m_construct_simple\u001b[0;34m(coeffs, opt)\u001b[0m\n\u001b[1;32m     63\u001b[0m \u001b[0;34m\u001b[0m\u001b[0m\n\u001b[1;32m     64\u001b[0m     \u001b[0;32mif\u001b[0m \u001b[0malgebraics\u001b[0m\u001b[0;34m:\u001b[0m\u001b[0;34m\u001b[0m\u001b[0;34m\u001b[0m\u001b[0m\n\u001b[0;32m---> 65\u001b[0;31m         \u001b[0mdomain\u001b[0m\u001b[0;34m,\u001b[0m \u001b[0mresult\u001b[0m \u001b[0;34m=\u001b[0m \u001b[0m_construct_algebraic\u001b[0m\u001b[0;34m(\u001b[0m\u001b[0mcoeffs\u001b[0m\u001b[0;34m,\u001b[0m \u001b[0mopt\u001b[0m\u001b[0;34m)\u001b[0m\u001b[0;34m\u001b[0m\u001b[0;34m\u001b[0m\u001b[0m\n\u001b[0m\u001b[1;32m     66\u001b[0m     \u001b[0;32melse\u001b[0m\u001b[0;34m:\u001b[0m\u001b[0;34m\u001b[0m\u001b[0;34m\u001b[0m\u001b[0m\n\u001b[1;32m     67\u001b[0m         \u001b[0;32mif\u001b[0m \u001b[0mfloats\u001b[0m \u001b[0;32mand\u001b[0m \u001b[0mcomplexes\u001b[0m\u001b[0;34m:\u001b[0m\u001b[0;34m\u001b[0m\u001b[0;34m\u001b[0m\u001b[0m\n",
      "\u001b[0;32m~/opt/anaconda3/envs/qdef3p8/lib/python3.8/site-packages/sympy/polys/constructor.py\u001b[0m in \u001b[0;36m_construct_algebraic\u001b[0;34m(coeffs, opt)\u001b[0m\n\u001b[1;32m    103\u001b[0m     \u001b[0mexts\u001b[0m \u001b[0;34m=\u001b[0m \u001b[0mlist\u001b[0m\u001b[0;34m(\u001b[0m\u001b[0mordered\u001b[0m\u001b[0;34m(\u001b[0m\u001b[0mexts\u001b[0m\u001b[0;34m)\u001b[0m\u001b[0;34m)\u001b[0m\u001b[0;34m\u001b[0m\u001b[0;34m\u001b[0m\u001b[0m\n\u001b[1;32m    104\u001b[0m \u001b[0;34m\u001b[0m\u001b[0m\n\u001b[0;32m--> 105\u001b[0;31m     \u001b[0mg\u001b[0m\u001b[0;34m,\u001b[0m \u001b[0mspan\u001b[0m\u001b[0;34m,\u001b[0m \u001b[0mH\u001b[0m \u001b[0;34m=\u001b[0m \u001b[0mprimitive_element\u001b[0m\u001b[0;34m(\u001b[0m\u001b[0mexts\u001b[0m\u001b[0;34m,\u001b[0m \u001b[0mex\u001b[0m\u001b[0;34m=\u001b[0m\u001b[0;32mTrue\u001b[0m\u001b[0;34m,\u001b[0m \u001b[0mpolys\u001b[0m\u001b[0;34m=\u001b[0m\u001b[0;32mTrue\u001b[0m\u001b[0;34m)\u001b[0m\u001b[0;34m\u001b[0m\u001b[0;34m\u001b[0m\u001b[0m\n\u001b[0m\u001b[1;32m    106\u001b[0m     \u001b[0mroot\u001b[0m \u001b[0;34m=\u001b[0m \u001b[0msum\u001b[0m\u001b[0;34m(\u001b[0m\u001b[0;34m[\u001b[0m \u001b[0ms\u001b[0m\u001b[0;34m*\u001b[0m\u001b[0mext\u001b[0m \u001b[0;32mfor\u001b[0m \u001b[0ms\u001b[0m\u001b[0;34m,\u001b[0m \u001b[0mext\u001b[0m \u001b[0;32min\u001b[0m \u001b[0mzip\u001b[0m\u001b[0;34m(\u001b[0m\u001b[0mspan\u001b[0m\u001b[0;34m,\u001b[0m \u001b[0mexts\u001b[0m\u001b[0;34m)\u001b[0m \u001b[0;34m]\u001b[0m\u001b[0;34m)\u001b[0m\u001b[0;34m\u001b[0m\u001b[0;34m\u001b[0m\u001b[0m\n\u001b[1;32m    107\u001b[0m \u001b[0;34m\u001b[0m\u001b[0m\n",
      "\u001b[0;32m~/opt/anaconda3/envs/qdef3p8/lib/python3.8/site-packages/sympy/polys/numberfields.py\u001b[0m in \u001b[0;36mprimitive_element\u001b[0;34m(extension, x, ex, polys)\u001b[0m\n\u001b[1;32m    870\u001b[0m         \u001b[0mp\u001b[0m \u001b[0;34m=\u001b[0m \u001b[0mminimal_polynomial\u001b[0m\u001b[0;34m(\u001b[0m\u001b[0mext\u001b[0m\u001b[0;34m,\u001b[0m \u001b[0mx\u001b[0m\u001b[0;34m,\u001b[0m \u001b[0mpolys\u001b[0m\u001b[0;34m=\u001b[0m\u001b[0;32mTrue\u001b[0m\u001b[0;34m)\u001b[0m\u001b[0;34m\u001b[0m\u001b[0;34m\u001b[0m\u001b[0m\n\u001b[1;32m    871\u001b[0m         \u001b[0mL\u001b[0m \u001b[0;34m=\u001b[0m \u001b[0mQQ\u001b[0m\u001b[0;34m.\u001b[0m\u001b[0malgebraic_field\u001b[0m\u001b[0;34m(\u001b[0m\u001b[0;34m(\u001b[0m\u001b[0mp\u001b[0m\u001b[0;34m,\u001b[0m \u001b[0mext\u001b[0m\u001b[0;34m)\u001b[0m\u001b[0;34m)\u001b[0m\u001b[0;34m\u001b[0m\u001b[0;34m\u001b[0m\u001b[0m\n\u001b[0;32m--> 872\u001b[0;31m         \u001b[0m_\u001b[0m\u001b[0;34m,\u001b[0m \u001b[0mfactors\u001b[0m \u001b[0;34m=\u001b[0m \u001b[0mfactor_list\u001b[0m\u001b[0;34m(\u001b[0m\u001b[0mf\u001b[0m\u001b[0;34m,\u001b[0m \u001b[0mdomain\u001b[0m\u001b[0;34m=\u001b[0m\u001b[0mL\u001b[0m\u001b[0;34m)\u001b[0m\u001b[0;34m\u001b[0m\u001b[0;34m\u001b[0m\u001b[0m\n\u001b[0m\u001b[1;32m    873\u001b[0m         \u001b[0mf\u001b[0m \u001b[0;34m=\u001b[0m \u001b[0m_choose_factor\u001b[0m\u001b[0;34m(\u001b[0m\u001b[0mfactors\u001b[0m\u001b[0;34m,\u001b[0m \u001b[0mx\u001b[0m\u001b[0;34m,\u001b[0m \u001b[0mgen\u001b[0m\u001b[0;34m)\u001b[0m\u001b[0;34m\u001b[0m\u001b[0;34m\u001b[0m\u001b[0m\n\u001b[1;32m    874\u001b[0m         \u001b[0ms\u001b[0m\u001b[0;34m,\u001b[0m \u001b[0mg\u001b[0m\u001b[0;34m,\u001b[0m \u001b[0mf\u001b[0m \u001b[0;34m=\u001b[0m \u001b[0mf\u001b[0m\u001b[0;34m.\u001b[0m\u001b[0msqf_norm\u001b[0m\u001b[0;34m(\u001b[0m\u001b[0;34m)\u001b[0m\u001b[0;34m\u001b[0m\u001b[0;34m\u001b[0m\u001b[0m\n",
      "\u001b[0;32m~/opt/anaconda3/envs/qdef3p8/lib/python3.8/site-packages/sympy/polys/polytools.py\u001b[0m in \u001b[0;36mfactor_list\u001b[0;34m(f, *gens, **args)\u001b[0m\n\u001b[1;32m   6293\u001b[0m \u001b[0;34m\u001b[0m\u001b[0m\n\u001b[1;32m   6294\u001b[0m     \"\"\"\n\u001b[0;32m-> 6295\u001b[0;31m     \u001b[0;32mreturn\u001b[0m \u001b[0m_generic_factor_list\u001b[0m\u001b[0;34m(\u001b[0m\u001b[0mf\u001b[0m\u001b[0;34m,\u001b[0m \u001b[0mgens\u001b[0m\u001b[0;34m,\u001b[0m \u001b[0margs\u001b[0m\u001b[0;34m,\u001b[0m \u001b[0mmethod\u001b[0m\u001b[0;34m=\u001b[0m\u001b[0;34m'factor'\u001b[0m\u001b[0;34m)\u001b[0m\u001b[0;34m\u001b[0m\u001b[0;34m\u001b[0m\u001b[0m\n\u001b[0m\u001b[1;32m   6296\u001b[0m \u001b[0;34m\u001b[0m\u001b[0m\n\u001b[1;32m   6297\u001b[0m \u001b[0;34m\u001b[0m\u001b[0m\n",
      "\u001b[0;32m~/opt/anaconda3/envs/qdef3p8/lib/python3.8/site-packages/sympy/polys/polytools.py\u001b[0m in \u001b[0;36m_generic_factor_list\u001b[0;34m(expr, gens, args, method)\u001b[0m\n\u001b[1;32m   6023\u001b[0m             \u001b[0mnumer\u001b[0m\u001b[0;34m,\u001b[0m \u001b[0mdenom\u001b[0m \u001b[0;34m=\u001b[0m \u001b[0mtogether\u001b[0m\u001b[0;34m(\u001b[0m\u001b[0mexpr\u001b[0m\u001b[0;34m)\u001b[0m\u001b[0;34m.\u001b[0m\u001b[0mas_numer_denom\u001b[0m\u001b[0;34m(\u001b[0m\u001b[0;34m)\u001b[0m\u001b[0;34m\u001b[0m\u001b[0;34m\u001b[0m\u001b[0m\n\u001b[1;32m   6024\u001b[0m \u001b[0;34m\u001b[0m\u001b[0m\n\u001b[0;32m-> 6025\u001b[0;31m         \u001b[0mcp\u001b[0m\u001b[0;34m,\u001b[0m \u001b[0mfp\u001b[0m \u001b[0;34m=\u001b[0m \u001b[0m_symbolic_factor_list\u001b[0m\u001b[0;34m(\u001b[0m\u001b[0mnumer\u001b[0m\u001b[0;34m,\u001b[0m \u001b[0mopt\u001b[0m\u001b[0;34m,\u001b[0m \u001b[0mmethod\u001b[0m\u001b[0;34m)\u001b[0m\u001b[0;34m\u001b[0m\u001b[0;34m\u001b[0m\u001b[0m\n\u001b[0m\u001b[1;32m   6026\u001b[0m         \u001b[0mcq\u001b[0m\u001b[0;34m,\u001b[0m \u001b[0mfq\u001b[0m \u001b[0;34m=\u001b[0m \u001b[0m_symbolic_factor_list\u001b[0m\u001b[0;34m(\u001b[0m\u001b[0mdenom\u001b[0m\u001b[0;34m,\u001b[0m \u001b[0mopt\u001b[0m\u001b[0;34m,\u001b[0m \u001b[0mmethod\u001b[0m\u001b[0;34m)\u001b[0m\u001b[0;34m\u001b[0m\u001b[0;34m\u001b[0m\u001b[0m\n\u001b[1;32m   6027\u001b[0m \u001b[0;34m\u001b[0m\u001b[0m\n",
      "\u001b[0;32m~/opt/anaconda3/envs/qdef3p8/lib/python3.8/site-packages/sympy/polys/polytools.py\u001b[0m in \u001b[0;36m_symbolic_factor_list\u001b[0;34m(expr, opt, method)\u001b[0m\n\u001b[1;32m   5965\u001b[0m             \u001b[0mfunc\u001b[0m \u001b[0;34m=\u001b[0m \u001b[0mgetattr\u001b[0m\u001b[0;34m(\u001b[0m\u001b[0mpoly\u001b[0m\u001b[0;34m,\u001b[0m \u001b[0mmethod\u001b[0m \u001b[0;34m+\u001b[0m \u001b[0;34m'_list'\u001b[0m\u001b[0;34m)\u001b[0m\u001b[0;34m\u001b[0m\u001b[0;34m\u001b[0m\u001b[0m\n\u001b[1;32m   5966\u001b[0m \u001b[0;34m\u001b[0m\u001b[0m\n\u001b[0;32m-> 5967\u001b[0;31m             \u001b[0m_coeff\u001b[0m\u001b[0;34m,\u001b[0m \u001b[0m_factors\u001b[0m \u001b[0;34m=\u001b[0m \u001b[0mfunc\u001b[0m\u001b[0;34m(\u001b[0m\u001b[0;34m)\u001b[0m\u001b[0;34m\u001b[0m\u001b[0;34m\u001b[0m\u001b[0m\n\u001b[0m\u001b[1;32m   5968\u001b[0m             \u001b[0;32mif\u001b[0m \u001b[0m_coeff\u001b[0m \u001b[0;32mis\u001b[0m \u001b[0;32mnot\u001b[0m \u001b[0mS\u001b[0m\u001b[0;34m.\u001b[0m\u001b[0mOne\u001b[0m\u001b[0;34m:\u001b[0m\u001b[0;34m\u001b[0m\u001b[0;34m\u001b[0m\u001b[0m\n\u001b[1;32m   5969\u001b[0m                 \u001b[0;32mif\u001b[0m \u001b[0mexp\u001b[0m\u001b[0;34m.\u001b[0m\u001b[0mis_Integer\u001b[0m\u001b[0;34m:\u001b[0m\u001b[0;34m\u001b[0m\u001b[0;34m\u001b[0m\u001b[0m\n",
      "\u001b[0;32m~/opt/anaconda3/envs/qdef3p8/lib/python3.8/site-packages/sympy/polys/polytools.py\u001b[0m in \u001b[0;36mfactor_list\u001b[0;34m(f)\u001b[0m\n\u001b[1;32m   3334\u001b[0m         \u001b[0;32mif\u001b[0m \u001b[0mhasattr\u001b[0m\u001b[0;34m(\u001b[0m\u001b[0mf\u001b[0m\u001b[0;34m.\u001b[0m\u001b[0mrep\u001b[0m\u001b[0;34m,\u001b[0m \u001b[0;34m'factor_list'\u001b[0m\u001b[0;34m)\u001b[0m\u001b[0;34m:\u001b[0m\u001b[0;34m\u001b[0m\u001b[0;34m\u001b[0m\u001b[0m\n\u001b[1;32m   3335\u001b[0m             \u001b[0;32mtry\u001b[0m\u001b[0;34m:\u001b[0m\u001b[0;34m\u001b[0m\u001b[0;34m\u001b[0m\u001b[0m\n\u001b[0;32m-> 3336\u001b[0;31m                 \u001b[0mcoeff\u001b[0m\u001b[0;34m,\u001b[0m \u001b[0mfactors\u001b[0m \u001b[0;34m=\u001b[0m \u001b[0mf\u001b[0m\u001b[0;34m.\u001b[0m\u001b[0mrep\u001b[0m\u001b[0;34m.\u001b[0m\u001b[0mfactor_list\u001b[0m\u001b[0;34m(\u001b[0m\u001b[0;34m)\u001b[0m\u001b[0;34m\u001b[0m\u001b[0;34m\u001b[0m\u001b[0m\n\u001b[0m\u001b[1;32m   3337\u001b[0m             \u001b[0;32mexcept\u001b[0m \u001b[0mDomainError\u001b[0m\u001b[0;34m:\u001b[0m\u001b[0;34m\u001b[0m\u001b[0;34m\u001b[0m\u001b[0m\n\u001b[1;32m   3338\u001b[0m                 \u001b[0;32mreturn\u001b[0m \u001b[0mS\u001b[0m\u001b[0;34m.\u001b[0m\u001b[0mOne\u001b[0m\u001b[0;34m,\u001b[0m \u001b[0;34m[\u001b[0m\u001b[0;34m(\u001b[0m\u001b[0mf\u001b[0m\u001b[0;34m,\u001b[0m \u001b[0;36m1\u001b[0m\u001b[0;34m)\u001b[0m\u001b[0;34m]\u001b[0m\u001b[0;34m\u001b[0m\u001b[0;34m\u001b[0m\u001b[0m\n",
      "\u001b[0;32m~/opt/anaconda3/envs/qdef3p8/lib/python3.8/site-packages/sympy/polys/polyclasses.py\u001b[0m in \u001b[0;36mfactor_list\u001b[0;34m(f)\u001b[0m\n\u001b[1;32m    793\u001b[0m     \u001b[0;32mdef\u001b[0m \u001b[0mfactor_list\u001b[0m\u001b[0;34m(\u001b[0m\u001b[0mf\u001b[0m\u001b[0;34m)\u001b[0m\u001b[0;34m:\u001b[0m\u001b[0;34m\u001b[0m\u001b[0;34m\u001b[0m\u001b[0m\n\u001b[1;32m    794\u001b[0m         \u001b[0;34m\"\"\"Returns a list of irreducible factors of ``f``. \"\"\"\u001b[0m\u001b[0;34m\u001b[0m\u001b[0;34m\u001b[0m\u001b[0m\n\u001b[0;32m--> 795\u001b[0;31m         \u001b[0mcoeff\u001b[0m\u001b[0;34m,\u001b[0m \u001b[0mfactors\u001b[0m \u001b[0;34m=\u001b[0m \u001b[0mdmp_factor_list\u001b[0m\u001b[0;34m(\u001b[0m\u001b[0mf\u001b[0m\u001b[0;34m.\u001b[0m\u001b[0mrep\u001b[0m\u001b[0;34m,\u001b[0m \u001b[0mf\u001b[0m\u001b[0;34m.\u001b[0m\u001b[0mlev\u001b[0m\u001b[0;34m,\u001b[0m \u001b[0mf\u001b[0m\u001b[0;34m.\u001b[0m\u001b[0mdom\u001b[0m\u001b[0;34m)\u001b[0m\u001b[0;34m\u001b[0m\u001b[0;34m\u001b[0m\u001b[0m\n\u001b[0m\u001b[1;32m    796\u001b[0m         \u001b[0;32mreturn\u001b[0m \u001b[0mcoeff\u001b[0m\u001b[0;34m,\u001b[0m \u001b[0;34m[\u001b[0m \u001b[0;34m(\u001b[0m\u001b[0mf\u001b[0m\u001b[0;34m.\u001b[0m\u001b[0mper\u001b[0m\u001b[0;34m(\u001b[0m\u001b[0mg\u001b[0m\u001b[0;34m)\u001b[0m\u001b[0;34m,\u001b[0m \u001b[0mk\u001b[0m\u001b[0;34m)\u001b[0m \u001b[0;32mfor\u001b[0m \u001b[0mg\u001b[0m\u001b[0;34m,\u001b[0m \u001b[0mk\u001b[0m \u001b[0;32min\u001b[0m \u001b[0mfactors\u001b[0m \u001b[0;34m]\u001b[0m\u001b[0;34m\u001b[0m\u001b[0;34m\u001b[0m\u001b[0m\n\u001b[1;32m    797\u001b[0m \u001b[0;34m\u001b[0m\u001b[0m\n",
      "\u001b[0;32m~/opt/anaconda3/envs/qdef3p8/lib/python3.8/site-packages/sympy/polys/factortools.py\u001b[0m in \u001b[0;36mdmp_factor_list\u001b[0;34m(f, u, K0)\u001b[0m\n\u001b[1;32m   1379\u001b[0m     \u001b[0;34m\"\"\"Factor multivariate polynomials into irreducibles in `K[X]`. \"\"\"\u001b[0m\u001b[0;34m\u001b[0m\u001b[0;34m\u001b[0m\u001b[0m\n\u001b[1;32m   1380\u001b[0m     \u001b[0;32mif\u001b[0m \u001b[0;32mnot\u001b[0m \u001b[0mu\u001b[0m\u001b[0;34m:\u001b[0m\u001b[0;34m\u001b[0m\u001b[0;34m\u001b[0m\u001b[0m\n\u001b[0;32m-> 1381\u001b[0;31m         \u001b[0;32mreturn\u001b[0m \u001b[0mdup_factor_list\u001b[0m\u001b[0;34m(\u001b[0m\u001b[0mf\u001b[0m\u001b[0;34m,\u001b[0m \u001b[0mK0\u001b[0m\u001b[0;34m)\u001b[0m\u001b[0;34m\u001b[0m\u001b[0;34m\u001b[0m\u001b[0m\n\u001b[0m\u001b[1;32m   1382\u001b[0m \u001b[0;34m\u001b[0m\u001b[0m\n\u001b[1;32m   1383\u001b[0m     \u001b[0mJ\u001b[0m\u001b[0;34m,\u001b[0m \u001b[0mf\u001b[0m \u001b[0;34m=\u001b[0m \u001b[0mdmp_terms_gcd\u001b[0m\u001b[0;34m(\u001b[0m\u001b[0mf\u001b[0m\u001b[0;34m,\u001b[0m \u001b[0mu\u001b[0m\u001b[0;34m,\u001b[0m \u001b[0mK0\u001b[0m\u001b[0;34m)\u001b[0m\u001b[0;34m\u001b[0m\u001b[0;34m\u001b[0m\u001b[0m\n",
      "\u001b[0;32m~/opt/anaconda3/envs/qdef3p8/lib/python3.8/site-packages/sympy/polys/factortools.py\u001b[0m in \u001b[0;36mdup_factor_list\u001b[0;34m(f, K0)\u001b[0m\n\u001b[1;32m   1307\u001b[0m         \u001b[0mcoeff\u001b[0m\u001b[0;34m,\u001b[0m \u001b[0mfactors\u001b[0m \u001b[0;34m=\u001b[0m \u001b[0mdup_gf_factor\u001b[0m\u001b[0;34m(\u001b[0m\u001b[0mf\u001b[0m\u001b[0;34m,\u001b[0m \u001b[0mK0\u001b[0m\u001b[0;34m)\u001b[0m\u001b[0;34m\u001b[0m\u001b[0;34m\u001b[0m\u001b[0m\n\u001b[1;32m   1308\u001b[0m     \u001b[0;32melif\u001b[0m \u001b[0mK0\u001b[0m\u001b[0;34m.\u001b[0m\u001b[0mis_Algebraic\u001b[0m\u001b[0;34m:\u001b[0m\u001b[0;34m\u001b[0m\u001b[0;34m\u001b[0m\u001b[0m\n\u001b[0;32m-> 1309\u001b[0;31m         \u001b[0mcoeff\u001b[0m\u001b[0;34m,\u001b[0m \u001b[0mfactors\u001b[0m \u001b[0;34m=\u001b[0m \u001b[0mdup_ext_factor\u001b[0m\u001b[0;34m(\u001b[0m\u001b[0mf\u001b[0m\u001b[0;34m,\u001b[0m \u001b[0mK0\u001b[0m\u001b[0;34m)\u001b[0m\u001b[0;34m\u001b[0m\u001b[0;34m\u001b[0m\u001b[0m\n\u001b[0m\u001b[1;32m   1310\u001b[0m     \u001b[0;32melif\u001b[0m \u001b[0mK0\u001b[0m\u001b[0;34m.\u001b[0m\u001b[0mis_GaussianRing\u001b[0m\u001b[0;34m:\u001b[0m\u001b[0;34m\u001b[0m\u001b[0;34m\u001b[0m\u001b[0m\n\u001b[1;32m   1311\u001b[0m         \u001b[0mcoeff\u001b[0m\u001b[0;34m,\u001b[0m \u001b[0mfactors\u001b[0m \u001b[0;34m=\u001b[0m \u001b[0mdup_zz_i_factor\u001b[0m\u001b[0;34m(\u001b[0m\u001b[0mf\u001b[0m\u001b[0;34m,\u001b[0m \u001b[0mK0\u001b[0m\u001b[0;34m)\u001b[0m\u001b[0;34m\u001b[0m\u001b[0;34m\u001b[0m\u001b[0m\n",
      "\u001b[0;32m~/opt/anaconda3/envs/qdef3p8/lib/python3.8/site-packages/sympy/polys/factortools.py\u001b[0m in \u001b[0;36mdup_ext_factor\u001b[0;34m(f, K)\u001b[0m\n\u001b[1;32m   1235\u001b[0m     \u001b[0ms\u001b[0m\u001b[0;34m,\u001b[0m \u001b[0mg\u001b[0m\u001b[0;34m,\u001b[0m \u001b[0mr\u001b[0m \u001b[0;34m=\u001b[0m \u001b[0mdup_sqf_norm\u001b[0m\u001b[0;34m(\u001b[0m\u001b[0mf\u001b[0m\u001b[0;34m,\u001b[0m \u001b[0mK\u001b[0m\u001b[0;34m)\u001b[0m\u001b[0;34m\u001b[0m\u001b[0;34m\u001b[0m\u001b[0m\n\u001b[1;32m   1236\u001b[0m \u001b[0;34m\u001b[0m\u001b[0m\n\u001b[0;32m-> 1237\u001b[0;31m     \u001b[0mfactors\u001b[0m \u001b[0;34m=\u001b[0m \u001b[0mdup_factor_list_include\u001b[0m\u001b[0;34m(\u001b[0m\u001b[0mr\u001b[0m\u001b[0;34m,\u001b[0m \u001b[0mK\u001b[0m\u001b[0;34m.\u001b[0m\u001b[0mdom\u001b[0m\u001b[0;34m)\u001b[0m\u001b[0;34m\u001b[0m\u001b[0;34m\u001b[0m\u001b[0m\n\u001b[0m\u001b[1;32m   1238\u001b[0m \u001b[0;34m\u001b[0m\u001b[0m\n\u001b[1;32m   1239\u001b[0m     \u001b[0;32mif\u001b[0m \u001b[0mlen\u001b[0m\u001b[0;34m(\u001b[0m\u001b[0mfactors\u001b[0m\u001b[0;34m)\u001b[0m \u001b[0;34m==\u001b[0m \u001b[0;36m1\u001b[0m\u001b[0;34m:\u001b[0m\u001b[0;34m\u001b[0m\u001b[0;34m\u001b[0m\u001b[0m\n",
      "\u001b[0;32m~/opt/anaconda3/envs/qdef3p8/lib/python3.8/site-packages/sympy/polys/factortools.py\u001b[0m in \u001b[0;36mdup_factor_list_include\u001b[0;34m(f, K)\u001b[0m\n\u001b[1;32m   1367\u001b[0m \u001b[0;32mdef\u001b[0m \u001b[0mdup_factor_list_include\u001b[0m\u001b[0;34m(\u001b[0m\u001b[0mf\u001b[0m\u001b[0;34m,\u001b[0m \u001b[0mK\u001b[0m\u001b[0;34m)\u001b[0m\u001b[0;34m:\u001b[0m\u001b[0;34m\u001b[0m\u001b[0;34m\u001b[0m\u001b[0m\n\u001b[1;32m   1368\u001b[0m     \u001b[0;34m\"\"\"Factor univariate polynomials into irreducibles in `K[x]`. \"\"\"\u001b[0m\u001b[0;34m\u001b[0m\u001b[0;34m\u001b[0m\u001b[0m\n\u001b[0;32m-> 1369\u001b[0;31m     \u001b[0mcoeff\u001b[0m\u001b[0;34m,\u001b[0m \u001b[0mfactors\u001b[0m \u001b[0;34m=\u001b[0m \u001b[0mdup_factor_list\u001b[0m\u001b[0;34m(\u001b[0m\u001b[0mf\u001b[0m\u001b[0;34m,\u001b[0m \u001b[0mK\u001b[0m\u001b[0;34m)\u001b[0m\u001b[0;34m\u001b[0m\u001b[0;34m\u001b[0m\u001b[0m\n\u001b[0m\u001b[1;32m   1370\u001b[0m \u001b[0;34m\u001b[0m\u001b[0m\n\u001b[1;32m   1371\u001b[0m     \u001b[0;32mif\u001b[0m \u001b[0;32mnot\u001b[0m \u001b[0mfactors\u001b[0m\u001b[0;34m:\u001b[0m\u001b[0;34m\u001b[0m\u001b[0;34m\u001b[0m\u001b[0m\n",
      "\u001b[0;32m~/opt/anaconda3/envs/qdef3p8/lib/python3.8/site-packages/sympy/polys/factortools.py\u001b[0m in \u001b[0;36mdup_factor_list\u001b[0;34m(f, K0)\u001b[0m\n\u001b[1;32m   1328\u001b[0m \u001b[0;34m\u001b[0m\u001b[0m\n\u001b[1;32m   1329\u001b[0m         \u001b[0;32mif\u001b[0m \u001b[0mK\u001b[0m\u001b[0;34m.\u001b[0m\u001b[0mis_ZZ\u001b[0m\u001b[0;34m:\u001b[0m\u001b[0;34m\u001b[0m\u001b[0;34m\u001b[0m\u001b[0m\n\u001b[0;32m-> 1330\u001b[0;31m             \u001b[0mcoeff\u001b[0m\u001b[0;34m,\u001b[0m \u001b[0mfactors\u001b[0m \u001b[0;34m=\u001b[0m \u001b[0mdup_zz_factor\u001b[0m\u001b[0;34m(\u001b[0m\u001b[0mf\u001b[0m\u001b[0;34m,\u001b[0m \u001b[0mK\u001b[0m\u001b[0;34m)\u001b[0m\u001b[0;34m\u001b[0m\u001b[0;34m\u001b[0m\u001b[0m\n\u001b[0m\u001b[1;32m   1331\u001b[0m         \u001b[0;32melif\u001b[0m \u001b[0mK\u001b[0m\u001b[0;34m.\u001b[0m\u001b[0mis_Poly\u001b[0m\u001b[0;34m:\u001b[0m\u001b[0;34m\u001b[0m\u001b[0;34m\u001b[0m\u001b[0m\n\u001b[1;32m   1332\u001b[0m             \u001b[0mf\u001b[0m\u001b[0;34m,\u001b[0m \u001b[0mu\u001b[0m \u001b[0;34m=\u001b[0m \u001b[0mdmp_inject\u001b[0m\u001b[0;34m(\u001b[0m\u001b[0mf\u001b[0m\u001b[0;34m,\u001b[0m \u001b[0;36m0\u001b[0m\u001b[0;34m,\u001b[0m \u001b[0mK\u001b[0m\u001b[0;34m)\u001b[0m\u001b[0;34m\u001b[0m\u001b[0;34m\u001b[0m\u001b[0m\n",
      "\u001b[0;32m~/opt/anaconda3/envs/qdef3p8/lib/python3.8/site-packages/sympy/polys/factortools.py\u001b[0m in \u001b[0;36mdup_zz_factor\u001b[0;34m(f, K)\u001b[0m\n\u001b[1;32m    674\u001b[0m \u001b[0;34m\u001b[0m\u001b[0m\n\u001b[1;32m    675\u001b[0m     \u001b[0;32mif\u001b[0m \u001b[0mH\u001b[0m \u001b[0;32mis\u001b[0m \u001b[0;32mNone\u001b[0m\u001b[0;34m:\u001b[0m\u001b[0;34m\u001b[0m\u001b[0;34m\u001b[0m\u001b[0m\n\u001b[0;32m--> 676\u001b[0;31m         \u001b[0mH\u001b[0m \u001b[0;34m=\u001b[0m \u001b[0mdup_zz_zassenhaus\u001b[0m\u001b[0;34m(\u001b[0m\u001b[0mg\u001b[0m\u001b[0;34m,\u001b[0m \u001b[0mK\u001b[0m\u001b[0;34m)\u001b[0m\u001b[0;34m\u001b[0m\u001b[0;34m\u001b[0m\u001b[0m\n\u001b[0m\u001b[1;32m    677\u001b[0m \u001b[0;34m\u001b[0m\u001b[0m\n\u001b[1;32m    678\u001b[0m     \u001b[0mfactors\u001b[0m \u001b[0;34m=\u001b[0m \u001b[0mdup_trial_division\u001b[0m\u001b[0;34m(\u001b[0m\u001b[0mf\u001b[0m\u001b[0;34m,\u001b[0m \u001b[0mH\u001b[0m\u001b[0;34m,\u001b[0m \u001b[0mK\u001b[0m\u001b[0;34m)\u001b[0m\u001b[0;34m\u001b[0m\u001b[0;34m\u001b[0m\u001b[0m\n",
      "\u001b[0;32m~/opt/anaconda3/envs/qdef3p8/lib/python3.8/site-packages/sympy/polys/factortools.py\u001b[0m in \u001b[0;36mdup_zz_zassenhaus\u001b[0;34m(f, K)\u001b[0m\n\u001b[1;32m    367\u001b[0m                 \u001b[0mq\u001b[0m \u001b[0;34m=\u001b[0m \u001b[0;36m1\u001b[0m\u001b[0;34m\u001b[0m\u001b[0;34m\u001b[0m\u001b[0m\n\u001b[1;32m    368\u001b[0m                 \u001b[0;32mfor\u001b[0m \u001b[0mi\u001b[0m \u001b[0;32min\u001b[0m \u001b[0mS\u001b[0m\u001b[0;34m:\u001b[0m\u001b[0;34m\u001b[0m\u001b[0;34m\u001b[0m\u001b[0m\n\u001b[0;32m--> 369\u001b[0;31m                     \u001b[0mq\u001b[0m \u001b[0;34m=\u001b[0m \u001b[0mq\u001b[0m\u001b[0;34m*\u001b[0m\u001b[0mg\u001b[0m\u001b[0;34m[\u001b[0m\u001b[0mi\u001b[0m\u001b[0;34m]\u001b[0m\u001b[0;34m[\u001b[0m\u001b[0;34m-\u001b[0m\u001b[0;36m1\u001b[0m\u001b[0;34m]\u001b[0m\u001b[0;34m\u001b[0m\u001b[0;34m\u001b[0m\u001b[0m\n\u001b[0m\u001b[1;32m    370\u001b[0m                 \u001b[0mq\u001b[0m \u001b[0;34m=\u001b[0m \u001b[0mq\u001b[0m \u001b[0;34m%\u001b[0m \u001b[0mpl\u001b[0m\u001b[0;34m\u001b[0m\u001b[0;34m\u001b[0m\u001b[0m\n\u001b[1;32m    371\u001b[0m                 \u001b[0;32mif\u001b[0m \u001b[0;32mnot\u001b[0m \u001b[0m_test_pl\u001b[0m\u001b[0;34m(\u001b[0m\u001b[0mfc\u001b[0m\u001b[0;34m,\u001b[0m \u001b[0mq\u001b[0m\u001b[0;34m,\u001b[0m \u001b[0mpl\u001b[0m\u001b[0;34m)\u001b[0m\u001b[0;34m:\u001b[0m\u001b[0;34m\u001b[0m\u001b[0;34m\u001b[0m\u001b[0m\n",
      "\u001b[0;31mKeyboardInterrupt\u001b[0m: "
     ]
    }
   ],
   "source": [
    "qetrealsimpler(qets)"
   ]
  },
  {
   "cell_type": "code",
   "execution_count": 495,
   "id": "183fdfb7",
   "metadata": {},
   "outputs": [
    {
     "data": {
      "text/html": [
       "<pre>✔️ 78.6 ms (2021-12-28T15:16:18/2021-12-28T15:16:18)</pre>"
      ],
      "text/plain": [
       "<IPython.core.display.HTML object>"
      ]
     },
     "metadata": {},
     "output_type": "display_data"
    },
    {
     "data": {
      "text/plain": [
       "([Qet({(4, 2, 'c'): 1}),\n",
       "  Qet({(4, 0, 'c'): -sqrt(15)/6, (4, 4, 'c'): sqrt(21)/6})],\n",
       " 'real')"
      ]
     },
     "execution_count": 495,
     "metadata": {},
     "output_type": "execute_result"
    }
   ],
   "source": [
    "qets = [b for b in bummer if b[0] == 'O_{h}' and b[2] == 4][0][-1]\n",
    "qetrealsimpler(qets)"
   ]
  },
  {
   "cell_type": "code",
   "execution_count": 496,
   "id": "6f58f16c",
   "metadata": {},
   "outputs": [
    {
     "data": {
      "text/html": [
       "<pre>✔️ 67.3 ms (2021-12-28T15:17:36/2021-12-28T15:17:36)</pre>"
      ],
      "text/plain": [
       "<IPython.core.display.HTML object>"
      ]
     },
     "metadata": {},
     "output_type": "display_data"
    },
    {
     "name": "stdout",
     "output_type": "stream",
     "text": [
      "Reality good.\n"
     ]
    }
   ],
   "source": [
    "truesol = sp.Matrix(sp.solve(detmat, complement))\n",
    "sol_symbs = truesol.free_symbols\n",
    "reality_checks = ([all([sp.im(truesol[0,i].coeff(c)) ==0 for c in sol_symbs]) for i in range(truesol.cols)])\n",
    "reality_check = all(reality_checks)\n",
    "if reality_check:\n",
    "    print(\"Reality good.\")\n",
    "    while True:\n",
    "        rep0 = {c:np.random.randint(2) for c in sol_symbs}\n",
    "        rep1 = {c:np.random.randint(2) for c in sol_symbs}\n",
    "        vnew0 = truesol.subs(rep0)\n",
    "        vnew1 = truesol.subs(rep1)\n",
    "        vnewmat = sp.Matrix([vnew0,vnew1])\n",
    "        if vnewmat.rank() == 2:\n",
    "            break\n",
    "vnewvects = [sp.Matrix(list(vnewmat.row(i))) for i in range(vnewmat.rows)]"
   ]
  },
  {
   "cell_type": "code",
   "execution_count": 384,
   "id": "78532564",
   "metadata": {},
   "outputs": [
    {
     "data": {
      "text/html": [
       "<pre>✔️ 2.47 ms (2021-12-28T12:37:28/2021-12-28T12:37:28)</pre>"
      ],
      "text/plain": [
       "<IPython.core.display.HTML object>"
      ]
     },
     "metadata": {},
     "output_type": "display_data"
    },
    {
     "data": {
      "text/latex": [
       "$\\displaystyle \\left[\\begin{matrix}- \\frac{\\sqrt{35} c_{2}}{7} & c_{1} & c_{2}\\end{matrix}\\right]$"
      ],
      "text/plain": [
       "Matrix([[-sqrt(35)*c_2/7, c_1, c_2]])"
      ]
     },
     "execution_count": 384,
     "metadata": {},
     "output_type": "execute_result"
    }
   ],
   "source": [
    "truesol"
   ]
  },
  {
   "cell_type": "code",
   "execution_count": 382,
   "id": "c125aab2",
   "metadata": {},
   "outputs": [
    {
     "data": {
      "text/html": [
       "<pre>✔️ 14.4 ms (2021-12-28T12:37:04/2021-12-28T12:37:04)</pre>"
      ],
      "text/plain": [
       "<IPython.core.display.HTML object>"
      ]
     },
     "metadata": {},
     "output_type": "display_data"
    },
    {
     "data": {
      "text/plain": [
       "[Matrix([\n",
       " [-sqrt(15)/6],\n",
       " [          0],\n",
       " [ sqrt(21)/6]]),\n",
       " Matrix([\n",
       " [0],\n",
       " [1],\n",
       " [0]])]"
      ]
     },
     "execution_count": 382,
     "metadata": {},
     "output_type": "execute_result"
    }
   ],
   "source": [
    "GramSchmidtAlt(vnewvects)"
   ]
  },
  {
   "cell_type": "code",
   "execution_count": null,
   "id": "bf5aa777",
   "metadata": {},
   "outputs": [],
   "source": []
  },
  {
   "cell_type": "code",
   "execution_count": 190,
   "id": "0fd0910a",
   "metadata": {},
   "outputs": [
    {
     "data": {
      "text/html": [
       "<pre>✔️ 891 µs (2021-12-27T15:36:50/2021-12-27T15:36:50)</pre>"
      ],
      "text/plain": [
       "<IPython.core.display.HTML object>"
      ]
     },
     "metadata": {},
     "output_type": "display_data"
    }
   ],
   "source": [
    "def orthosimplify(qet_group):\n",
    "    # this function takes a list of superposition of Ylm^{sc} and simplifies them\n",
    "    # qet_group = sym_bases_new['O_{h}'][0][sp.Symbol('E_{g}')][2][0]\n",
    "    present_basis = list(set(sum([list(qet.dict.keys()) for qet in qet_group],[])))\n",
    "    if len(present_basis) == len(qet_group):\n",
    "        new_qet_group = [Qet({(q,):1}) for q in present_basis]\n",
    "    return new_qet_group"
   ]
  },
  {
   "cell_type": "code",
   "execution_count": 283,
   "id": "f30dc9b3",
   "metadata": {},
   "outputs": [
    {
     "data": {
      "text/html": [
       "<pre>✔️ 1.07 ms (2021-12-27T16:49:40/2021-12-27T16:49:40)</pre>"
      ],
      "text/plain": [
       "<IPython.core.display.HTML object>"
      ]
     },
     "metadata": {},
     "output_type": "display_data"
    }
   ],
   "source": [
    "qet_group = sym_bases_new['O_{h}'][0][sp.Symbol('E_{g}')][4][0]\n",
    "present_basis = list(set(sum([list(qet.dict.keys()) for qet in qet_group],[])))\n",
    "present_basis = sorted(present_basis, key=lambda x: x[1])\n",
    "# bases = [set(qet.dict.keys()) for qet in qet_group]\n",
    "# touching_bases = list(bases[0].intersection(*bases))\n",
    "# touching_bases = sorted(touching_bases, key=lambda x: x[1])\n",
    "# pivot = touching_bases[len(touching_bases)//2]\n",
    "# pivotidx = present_basis.index(pivot)\n",
    "vs = [qet.vec_in_basis(present_basis) for qet in qet_group]\n",
    "v1, v2 = vs\n",
    "realqs = [[sp.im(v)==0 for v in vee] for vee in [v1,v2]]\n",
    "realq1, realq2 = realqs\n",
    "realcounts = [rq.count(False) for rq in realqs]\n",
    "if 1 in realcounts:\n",
    "    pivot_loc = realcounts.index(1)\n",
    "else:\n",
    "    1/0\n",
    "pivot_idx = realqs[pivot_loc].index(False)\n",
    "\n"
   ]
  },
  {
   "cell_type": "code",
   "execution_count": 284,
   "id": "88ce9171",
   "metadata": {},
   "outputs": [
    {
     "data": {
      "text/html": [
       "<pre>✔️ 4.5 ms (2021-12-27T16:49:43/2021-12-27T16:49:43)</pre>"
      ],
      "text/plain": [
       "<IPython.core.display.HTML object>"
      ]
     },
     "metadata": {},
     "output_type": "display_data"
    },
    {
     "data": {
      "text/plain": [
       "1"
      ]
     },
     "execution_count": 284,
     "metadata": {},
     "output_type": "execute_result"
    }
   ],
   "source": [
    "pivot_idx"
   ]
  },
  {
   "cell_type": "code",
   "execution_count": 277,
   "id": "56907ef0",
   "metadata": {},
   "outputs": [
    {
     "data": {
      "text/html": [
       "<pre>✔️ 1.98 ms (2021-12-27T16:48:03/2021-12-27T16:48:03)</pre>"
      ],
      "text/plain": [
       "<IPython.core.display.HTML object>"
      ]
     },
     "metadata": {},
     "output_type": "display_data"
    },
    {
     "data": {
      "text/plain": [
       "0"
      ]
     },
     "execution_count": 277,
     "metadata": {},
     "output_type": "execute_result"
    }
   ],
   "source": [
    "pivot_loc"
   ]
  },
  {
   "cell_type": "code",
   "execution_count": 269,
   "id": "964da1de",
   "metadata": {},
   "outputs": [
    {
     "data": {
      "text/html": [
       "<pre>✔️ 2.28 ms (2021-12-27T16:45:55/2021-12-27T16:45:55)</pre>"
      ],
      "text/plain": [
       "<IPython.core.display.HTML object>"
      ]
     },
     "metadata": {},
     "output_type": "display_data"
    },
    {
     "data": {
      "text/plain": [
       "[[True, False, True], [False, False, False]]"
      ]
     },
     "execution_count": 269,
     "metadata": {},
     "output_type": "execute_result"
    }
   ],
   "source": [
    "real_qs"
   ]
  },
  {
   "cell_type": "code",
   "execution_count": null,
   "id": "802e83c6",
   "metadata": {},
   "outputs": [],
   "source": [
    "\n",
    "\n",
    "finalq1 = Qet({pivot:1})\n",
    "finalv2 = v2\n",
    "finalv2[pivotidx] = 0\n",
    "finalq2 = Qet({b:v for b,v in zip(present_basis,finalv2)})\n",
    "normalizer = 1/finalq2.norm()\n",
    "finalq2 = normalizer * finalq2"
   ]
  },
  {
   "cell_type": "code",
   "execution_count": 261,
   "id": "3cb515a4",
   "metadata": {},
   "outputs": [
    {
     "data": {
      "text/html": [
       "<pre>✔️ 2.3 ms (2021-12-27T16:43:57/2021-12-27T16:43:57)</pre>"
      ],
      "text/plain": [
       "<IPython.core.display.HTML object>"
      ]
     },
     "metadata": {},
     "output_type": "display_data"
    },
    {
     "data": {
      "text/plain": [
       "[True, False, True]"
      ]
     },
     "execution_count": 261,
     "metadata": {},
     "output_type": "execute_result"
    }
   ],
   "source": [
    "[sp.im(v)==0 for v in v1]"
   ]
  },
  {
   "cell_type": "code",
   "execution_count": 254,
   "id": "ef71dbca",
   "metadata": {},
   "outputs": [
    {
     "data": {
      "text/html": [
       "<pre>✔️ 4.62 ms (2021-12-27T16:42:11/2021-12-27T16:42:11)</pre>"
      ],
      "text/plain": [
       "<IPython.core.display.HTML object>"
      ]
     },
     "metadata": {},
     "output_type": "display_data"
    },
    {
     "data": {
      "text/plain": [
       "[-0.322748612183951 + 0.559016994374947*I,\n",
       " 0.381881307912987 - 0.661437827766148*I]"
      ]
     },
     "execution_count": 254,
     "metadata": {},
     "output_type": "execute_result"
    }
   ],
   "source": [
    "list(map(sp.N,finalq2.dict.values()))"
   ]
  },
  {
   "cell_type": "code",
   "execution_count": 246,
   "id": "292caca1",
   "metadata": {},
   "outputs": [
    {
     "data": {
      "text/html": [
       "<pre>✔️ 5.28 ms (2021-12-27T16:40:55/2021-12-27T16:40:55)</pre>"
      ],
      "text/plain": [
       "<IPython.core.display.HTML object>"
      ]
     },
     "metadata": {},
     "output_type": "display_data"
    },
    {
     "data": {
      "text/plain": [
       "Qet({(4, 0, 'c'): 2*sqrt(102)*(-sqrt(30)/24 + sqrt(10)*I/8)/17, (4, 2, 'c'): sqrt(17)*(3 + sqrt(3)*I)/17})"
      ]
     },
     "execution_count": 246,
     "metadata": {},
     "output_type": "execute_result"
    }
   ],
   "source": [
    "finalq2"
   ]
  },
  {
   "cell_type": "code",
   "execution_count": 218,
   "id": "056ae7e6",
   "metadata": {},
   "outputs": [
    {
     "data": {
      "text/html": [
       "<pre>✔️ 2.99 ms (2021-12-27T16:33:12/2021-12-27T16:33:12)</pre>"
      ],
      "text/plain": [
       "<IPython.core.display.HTML object>"
      ]
     },
     "metadata": {},
     "output_type": "display_data"
    },
    {
     "data": {
      "text/plain": [
       "(4, 2, 'c')"
      ]
     },
     "execution_count": 218,
     "metadata": {},
     "output_type": "execute_result"
    }
   ],
   "source": [
    "pivot"
   ]
  },
  {
   "cell_type": "code",
   "execution_count": 298,
   "id": "a2451c2b",
   "metadata": {},
   "outputs": [
    {
     "data": {
      "text/html": [
       "<pre>✔️ 2.81 ms (2021-12-28T12:18:58/2021-12-28T12:18:58)</pre>"
      ],
      "text/plain": [
       "<IPython.core.display.HTML object>"
      ]
     },
     "metadata": {},
     "output_type": "display_data"
    },
    {
     "data": {
      "text/plain": [
       "[sqrt(30)/12, sqrt(2)*I/2, -sqrt(42)/12]"
      ]
     },
     "execution_count": 298,
     "metadata": {},
     "output_type": "execute_result"
    }
   ],
   "source": [
    "v1"
   ]
  },
  {
   "cell_type": "code",
   "execution_count": 193,
   "id": "9ec2ce72",
   "metadata": {},
   "outputs": [
    {
     "data": {
      "text/html": [
       "<pre>✔️ 1.8 ms (2021-12-27T15:38:18/2021-12-27T15:38:18)</pre>"
      ],
      "text/plain": [
       "<IPython.core.display.HTML object>"
      ]
     },
     "metadata": {},
     "output_type": "display_data"
    },
    {
     "data": {
      "text/plain": [
       "[Qet({((2, 0, 'c'),): 1}), Qet({((2, 2, 'c'),): 1})]"
      ]
     },
     "execution_count": 193,
     "metadata": {},
     "output_type": "execute_result"
    }
   ],
   "source": [
    "orthosimplify(sym_bases_new['O_{h}'][0][sp.Symbol('E_{g}')][2][0])"
   ]
  },
  {
   "cell_type": "code",
   "execution_count": 186,
   "id": "f9052b92",
   "metadata": {},
   "outputs": [
    {
     "data": {
      "text/html": [
       "<pre>✔️ 2.14 ms (2021-12-27T15:35:11/2021-12-27T15:35:11)</pre>"
      ],
      "text/plain": [
       "<IPython.core.display.HTML object>"
      ]
     },
     "metadata": {},
     "output_type": "display_data"
    },
    {
     "data": {
      "text/plain": [
       "[Qet({((2, 0, 'c'),): 1}), Qet({((2, 2, 'c'),): 1})]"
      ]
     },
     "execution_count": 186,
     "metadata": {},
     "output_type": "execute_result"
    }
   ],
   "source": [
    "new_qet_group"
   ]
  },
  {
   "cell_type": "code",
   "execution_count": 150,
   "id": "4f580506",
   "metadata": {},
   "outputs": [
    {
     "data": {
      "text/html": [
       "<pre>✔️ 2.46 ms (2021-12-27T15:08:05/2021-12-27T15:08:05)</pre>"
      ],
      "text/plain": [
       "<IPython.core.display.HTML object>"
      ]
     },
     "metadata": {},
     "output_type": "display_data"
    },
    {
     "data": {
      "text/plain": [
       "[('O_{h}',\n",
       "  T_{{1u}},\n",
       "  1,\n",
       "  0,\n",
       "  [Qet({(1, 1, 'c'): -1}), Qet({(1, 1, 's'): 1}), Qet({(1, 0, 'c'): 1})])]"
      ]
     },
     "execution_count": 150,
     "metadata": {},
     "output_type": "execute_result"
    }
   ],
   "source": [
    "[b for b in okay if b[0] == 'O_{h}' and b[2] == 1]"
   ]
  },
  {
   "cell_type": "code",
   "execution_count": 103,
   "id": "3ee2f923",
   "metadata": {},
   "outputs": [
    {
     "data": {
      "text/html": [
       "<pre>✔️ 2.83 ms (2021-12-27T14:33:07/2021-12-27T14:33:07)</pre>"
      ],
      "text/plain": [
       "<IPython.core.display.HTML object>"
      ]
     },
     "metadata": {},
     "output_type": "display_data"
    },
    {
     "data": {
      "text/plain": [
       "[('C_{4}',\n",
       "  E^1,\n",
       "  1,\n",
       "  0,\n",
       "  [Qet({(1, 1, 'c'): sqrt(2)/2, (1, 1, 's'): sqrt(2)*I/2})]),\n",
       " ('C_{4}',\n",
       "  E^2,\n",
       "  1,\n",
       "  0,\n",
       "  [Qet({(1, 1, 'c'): sqrt(2)/2, (1, 1, 's'): -sqrt(2)*I/2})])]"
      ]
     },
     "execution_count": 103,
     "metadata": {},
     "output_type": "execute_result"
    }
   ],
   "source": [
    "[b for b in bummer if b[0] == 'C_{4}' and b[2] == 1]"
   ]
  },
  {
   "cell_type": "code",
   "execution_count": 91,
   "id": "a759f9be",
   "metadata": {},
   "outputs": [
    {
     "data": {
      "text/html": [
       "<pre>✔️ 2.68 ms (2021-12-27T14:14:08/2021-12-27T14:14:08)</pre>"
      ],
      "text/plain": [
       "<IPython.core.display.HTML object>"
      ]
     },
     "metadata": {},
     "output_type": "display_data"
    },
    {
     "name": "stdout",
     "output_type": "stream",
     "text": [
      "C_{4} E^1 1\n"
     ]
    },
    {
     "data": {
      "text/plain": [
       "[Qet({(1, 1, 'c'): sqrt(2)/2, (1, 1, 's'): sqrt(2)*I/2})]"
      ]
     },
     "execution_count": 91,
     "metadata": {},
     "output_type": "execute_result"
    }
   ],
   "source": [
    "group_label,irrep_label,l,qet_group_idx,_ = bummer[0]\n",
    "print(group_label,irrep_label,l)\n",
    "sym_bases_new[group_label][0][irrep_label][l][qet_group_idx]"
   ]
  },
  {
   "cell_type": "code",
   "execution_count": 90,
   "id": "5c2bb5bf",
   "metadata": {},
   "outputs": [
    {
     "data": {
      "text/html": [
       "<pre>✔️ 2.34 ms (2021-12-27T14:13:46/2021-12-27T14:13:46)</pre>"
      ],
      "text/plain": [
       "<IPython.core.display.HTML object>"
      ]
     },
     "metadata": {},
     "output_type": "display_data"
    },
    {
     "data": {
      "text/plain": [
       "[Qet({(1, 1): 1})]"
      ]
     },
     "execution_count": 90,
     "metadata": {},
     "output_type": "execute_result"
    }
   ],
   "source": [
    "group_label,irrep_label,l,qet_group_idx,_ = bummer[0]\n",
    "sym_bases_new[group_label][1][irrep_label][l][qet_group_idx]"
   ]
  },
  {
   "cell_type": "code",
   "execution_count": 93,
   "id": "516b932a",
   "metadata": {},
   "outputs": [
    {
     "data": {
      "text/html": [
       "<pre>✔️ 7.16 ms (2021-12-27T14:15:06/2021-12-27T14:15:06)</pre>"
      ],
      "text/plain": [
       "<IPython.core.display.HTML object>"
      ]
     },
     "metadata": {},
     "output_type": "display_data"
    },
    {
     "data": {
      "text/plain": [
       "[[Qet({(1, 1, 'c'): sqrt(2)/2, (1, 1, 's'): sqrt(2)*I/2})]]"
      ]
     },
     "execution_count": 93,
     "metadata": {},
     "output_type": "execute_result"
    }
   ],
   "source": [
    "sym_bases_new[group_label][0][irrep_label][l]"
   ]
  },
  {
   "cell_type": "code",
   "execution_count": 80,
   "id": "ad1ce521",
   "metadata": {},
   "outputs": [
    {
     "data": {
      "text/html": [
       "<pre>✔️ 19.8 s (2021-12-27T14:10:40/2021-12-27T14:11:00)</pre>"
      ],
      "text/plain": [
       "<IPython.core.display.HTML object>"
      ]
     },
     "metadata": {},
     "output_type": "display_data"
    }
   ],
   "source": [
    "bummer = []\n",
    "okay = []\n",
    "for group_label, sym_basis in sym_bases_new.items():\n",
    "    for irrep_label, l_dict in sym_basis[1].items():\n",
    "        for l, qet_groups in l_dict.items():\n",
    "            for qet_group_idx, qet_group in enumerate(qet_groups):\n",
    "                # all_coeffs = sum([list(qet.dict.values()) for qet in qet_group],[])\n",
    "                reality_check = [real_or_imagined(qet)[0] == 'phased' for qet in qet_group]\n",
    "                if not all(reality_check):\n",
    "                    bummer.append((group_label,irrep_label,l,qet_group_idx,qet_group))\n",
    "                else:\n",
    "                    okay.append((group_label,irrep_label,l,qet_group_idx,qet_group))"
   ]
  },
  {
   "cell_type": "code",
   "execution_count": 85,
   "id": "0b9d1a89",
   "metadata": {},
   "outputs": [
    {
     "data": {
      "text/html": [
       "<pre>✔️ 3.37 ms (2021-12-27T14:12:03/2021-12-27T14:12:03)</pre>"
      ],
      "text/plain": [
       "<IPython.core.display.HTML object>"
      ]
     },
     "metadata": {},
     "output_type": "display_data"
    },
    {
     "data": {
      "text/plain": [
       "[Qet({(1, 0, 'c'): sqrt(2)/2, (1, 1, 's'): -sqrt(2)/2})]"
      ]
     },
     "execution_count": 85,
     "metadata": {},
     "output_type": "execute_result"
    }
   ],
   "source": [
    "group_label,irrep_label,l,qet_group_idx,_ = bummer[0]\n",
    "sym_bases_new[group_label][0][irrep_label][l][qet_group_idx]"
   ]
  },
  {
   "cell_type": "code",
   "execution_count": 74,
   "id": "fd38ab33",
   "metadata": {},
   "outputs": [
    {
     "data": {
      "text/html": [
       "<pre>✔️ 2.96 ms (2021-12-27T14:07:16/2021-12-27T14:07:16)</pre>"
      ],
      "text/plain": [
       "<IPython.core.display.HTML object>"
      ]
     },
     "metadata": {},
     "output_type": "display_data"
    },
    {
     "name": "stdout",
     "output_type": "stream",
     "text": [
      "432 Failed out of 2102 () (20.6%)\n",
      "C_{1}: 0 failed out of 81\n",
      "C_{i}: 0 failed out of 81\n",
      "C_{2}: 0 failed out of 81\n",
      "C_{s}: 0 failed out of 81\n",
      "C_{2h}: 0 failed out of 81\n",
      "D_{2}: 0 failed out of 81\n",
      "C_{2v}: 0 failed out of 81\n",
      "D_{2h}: 40 failed out of 81\n",
      "C_{4}: 40 failed out of 81\n",
      "S_{4}: 0 failed out of 81\n",
      "C_{4h}: 40 failed out of 81\n",
      "D_{4}: 0 failed out of 61\n",
      "C_{4v}: 0 failed out of 61\n",
      "D_{2d}: 0 failed out of 61\n",
      "D_{4h}: 0 failed out of 61\n",
      "C_{3}: 54 failed out of 81\n",
      "S_{6}: 54 failed out of 81\n",
      "D_{3}: 0 failed out of 54\n",
      "C_{3v}: 0 failed out of 54\n",
      "D_{3d}: 0 failed out of 54\n",
      "C_{6}: 54 failed out of 81\n",
      "C_{3h}: 54 failed out of 81\n",
      "C_{6h}: 54 failed out of 81\n",
      "D_{6}: 0 failed out of 54\n",
      "C_{6v}: 0 failed out of 54\n",
      "D_{3h}: 0 failed out of 54\n",
      "D_{6h}: 0 failed out of 54\n",
      "T: 14 failed out of 41\n",
      "T_{h}: 14 failed out of 41\n",
      "O: 0 failed out of 34\n",
      "T_{d}: 7 failed out of 34\n",
      "O_{h}: 7 failed out of 34\n"
     ]
    }
   ],
   "source": [
    "print(\"%d Failed out of %d () (%.1f%%)\" % (len(bummer),len(okay)+len(bummer), 100*len(bummer)/(len(okay)+len(bummer))))\n",
    "failed_group_counts = {}\n",
    "for bumm in bummer:\n",
    "    group_label = bumm[0]\n",
    "    if group_label not in failed_group_counts:\n",
    "        failed_group_counts[group_label] = 0\n",
    "    failed_group_counts[group_label] += 1\n",
    "success_group_counts = {}\n",
    "for ok in okay:\n",
    "    group_label = ok[0]\n",
    "    if group_label not in success_group_counts:\n",
    "        success_group_counts[group_label] = 0\n",
    "    success_group_counts[group_label] += 1\n",
    "for group_label in success_group_counts:\n",
    "    successful = success_group_counts[group_label]\n",
    "    total = success_group_counts[group_label]\n",
    "    if group_label in failed_group_counts:\n",
    "        total += failed_group_counts[group_label]\n",
    "        failed = failed_group_counts[group_label]\n",
    "    else:\n",
    "        failed = 0\n",
    "    print(\"%s: %d failed out of %d\" % (group_label, failed, total))"
   ]
  },
  {
   "cell_type": "code",
   "execution_count": 288,
   "id": "c3dd9436",
   "metadata": {},
   "outputs": [
    {
     "data": {
      "text/html": [
       "<pre>✔️ 1.53 ms (2021-12-28T12:15:37/2021-12-28T12:15:37)</pre>"
      ],
      "text/plain": [
       "<IPython.core.display.HTML object>"
      ]
     },
     "metadata": {},
     "output_type": "display_data"
    },
    {
     "name": "stdout",
     "output_type": "stream",
     "text": [
      "21\n"
     ]
    }
   ],
   "source": [
    "print(20+1)"
   ]
  },
  {
   "cell_type": "markdown",
   "id": "444768f9-651c-4f3d-ab87-060774569507",
   "metadata": {},
   "source": [
    "# `symmetry_adapted_basis_real`"
   ]
  },
  {
   "cell_type": "markdown",
   "id": "529eb683",
   "metadata": {},
   "source": [
    "<center>\n",
    "<div style=\"max-width:800px; word-wrap:break-word; text-align:justify; font-size:100%; margin:50px; border:2px dashed blue; padding: 20px\" <br>\n",
    "This calculation of symmetry adapted spherical harmonics is based on Bradley and Cracknell's \"The Mathematical Theory of Symmetry in Solids\".\n",
    "\n",
    "For a given value of $l$ the proyection operator shown below is applied to all the $Y_{l,m}^{s,c}$ $(m=0,\\dots,l)$. The rows (i.e. fixed t varying s) then consitute sets of linear combinations of spherical harmonics that transform according to the corresponding irreducible representation.\n",
    "\n",
    "(Bradley & Cracknell eqn 2.2.2)\n",
    "\n",
    "$W_{t,s}^{\\Gamma_i} = \\frac{d_i}{|G|} \\sum_{R \\in G} D_{t,s}^{\\Gamma_i *}(R) R$\n",
    "\n",
    "where\n",
    "\n",
    "- $d_i$ =  dimension of the irreducible representation $\\Gamma^i$,\n",
    "- $|G|$ = the order of the group,\n",
    "- $R$ = the operations from the group,\n",
    "- $D^i(R)$ the matrix for the operation R in the irreducible representation $\\Gamma^i$.\n",
    "\n",
    "These rows may not be linearly independent, so a bit of linear algebra is needed to determine the largest set of basis that may be generated.\n",
    "\n",
    "</div>\n",
    "</center>"
   ]
  },
  {
   "cell_type": "markdown",
   "id": "c7da79ef-6a0b-4eb8-bdd4-5208d9af129a",
   "metadata": {
    "tags": []
   },
   "source": [
    "## Function foundry"
   ]
  },
  {
   "cell_type": "markdown",
   "id": "f18cc158",
   "metadata": {},
   "source": [
    "### Assorted RYlm, Wigner_d, Wigner_D, GramSchmidtAlt"
   ]
  },
  {
   "cell_type": "code",
   "execution_count": null,
   "id": "09409a3f",
   "metadata": {},
   "outputs": [],
   "source": [
    "# def RYlm(l, m, op_params):\n",
    "#     '''\n",
    "#     Given  a group operation (as parametrized with the\n",
    "#     iterable  op_params which contains Euler angles α,\n",
    "#     β,  γ  and  the determinant of the operation) this\n",
    "#     function  returns  the  effect that this operation\n",
    "#     has on the sperical harmonic Y_lm.\n",
    "\n",
    "#     The  result  is  a  qet  whose  keys correspond to\n",
    "#     values   of   (l,m)   and  whose  values  are  the\n",
    "#     corresponding coefficients. Keys not present imply\n",
    "#     that the corresponding coefficient is zero.\n",
    "\n",
    "#     Examples\n",
    "#     --------\n",
    "\n",
    "#     >>> print(RYlm(2,2,(pi, pi/2, pi, 1)))\n",
    "#         Qet({(2, -2): 1/4,\n",
    "#              (2, -1): 1/2,\n",
    "#              (2, 0): sqrt(6)/4,\n",
    "#              (2, 1): -1/2,\n",
    "#              (2, 2): 1/4})\n",
    "\n",
    "#     Reference\n",
    "#     ---------\n",
    "#     - Bradley and Cracknell 2.1.3\n",
    "#     '''\n",
    "#     if (l,m,*op_params) in RYlm.dict:\n",
    "#         return RYlm.dict[(l,m,*op_params)]\n",
    "#     alpha, beta, gamma, detOp = op_params\n",
    "#     Rf = Qet()\n",
    "#     for nn in range(-l,l+1):\n",
    "#         wigD = Wigner_D(l, m, nn, alpha, beta, gamma)\n",
    "#         if wigD != 0:\n",
    "#             Rf = Rf + Qet({(l,nn): wigD})\n",
    "#     ret = (sp.S(detOp)**l) * Rf\n",
    "#     RYlm.dict[(l,m,*op_params)] = ret\n",
    "#     return ret\n",
    "# RYlm.dict = {}\n",
    "\n",
    "# def Wigner_d(l, n, m, β):\n",
    "#     '''\n",
    "\n",
    "#     Reference\n",
    "#     ---------\n",
    "#     - Bradley and Cracknell 2.1.6\n",
    "#     '''\n",
    "#     k_min = max(0, m-n)\n",
    "#     k_max = min(l-n, l+m)\n",
    "#     Wig_d_prefact = sp.sqrt((sp.factorial(l + n)\n",
    "#                           *sp.factorial(l + m)\n",
    "#                           *sp.factorial(l - n)\n",
    "#                           *sp.factorial(l - m)))\n",
    "#     Wig_d_summands = [((-sp.S(1))**(k - m + n)\n",
    "#                       * sp.cos(β/2)**(2*l + m - n - 2*k)\n",
    "#                       * sp.sin(β/2)**(2*k + n - m)\n",
    "#                       / sp.factorial(l - n - k)\n",
    "#                       / sp.factorial(l + m - k)\n",
    "#                       / sp.factorial(k)\n",
    "#                       / sp.factorial(k - m + n)\n",
    "#                       )\n",
    "#                       for k in range(k_min,k_max+1)]\n",
    "#     Wig_d = (Wig_d_prefact*sum(Wig_d_summands)).doit()\n",
    "#     return Wig_d\n",
    "\n",
    "# def Wigner_D(l, n, m, alpha, beta, gamma):\n",
    "#     '''\n",
    "#     This is for Euler angles referenced against fixed axes in the z-y-z\n",
    "#     convention.\n",
    "    \n",
    "#     Reference\n",
    "#     ---------\n",
    "#     Bradley and Cracknell 2.1.4\n",
    "#     '''\n",
    "#     args = (l, n, m, alpha, beta, gamma)\n",
    "#     if args in Wigner_D.values.keys():\n",
    "#       return Wigner_D.values[args]\n",
    "#     if beta == 0:\n",
    "#       if n == m:\n",
    "#         Wig_D = (sp.cos(m*alpha + m*gamma) - I * sp.sin(m*alpha + m*gamma))\n",
    "#       else:\n",
    "#         Wig_D = 0\n",
    "#     elif beta == pi:\n",
    "#       if n == -m:\n",
    "#         if l % 2 == 0:\n",
    "#           Wig_D =   (sp.cos(-m*alpha + m*gamma) + I * sp.sin(-m*alpha + m*gamma))\n",
    "#         else:\n",
    "#           Wig_D = - (sp.cos(-m*alpha + m*gamma) + I * sp.sin(-m*alpha + m*gamma))\n",
    "#       else:\n",
    "#         Wig_D = 0\n",
    "#     else:\n",
    "#       Wig_D_0 = I**(abs(n) + n - abs(m) - m) # this always evaluates to a real number\n",
    "#       Wig_D_1 = (sp.cos(-n*gamma - m*alpha) \\\n",
    "#                  + I * sp.sin(-n * gamma - m * alpha)) * Wigner_d(l,n,m,beta)\n",
    "#       Wig_D = Wig_D_0 * Wig_D_1\n",
    "#     Wigner_D.values[args] = Wig_D\n",
    "#     return Wig_D\n",
    "# Wigner_D.values = {}\n",
    "\n",
    "# def GramSchmidtAlt(vs, orthonormal=True):\n",
    "#     def projection(u,v):\n",
    "#         return (sp.S(u.dot(v,hermitian=True))/u.dot(u,hermitian=True))*u\n",
    "#     us = {}\n",
    "#     us[0] = vs[0]\n",
    "#     for k in range(1,len(vs)):\n",
    "#         vk = vs[k]\n",
    "#         projected_bit = sp.Matrix([0]*len(vs[0]))\n",
    "#         for j in range(k):\n",
    "#             projected_bit += sp.simplify(projection(us[j],vk))\n",
    "#         us[k] = vs[k] - projected_bit\n",
    "#     if orthonormal:\n",
    "#         es = [sp.simplify(us[k]/sp.sqrt(sp.S(us[k].dot(sp.conjugate(us[k]))))) for k in us]\n",
    "#         return es\n",
    "#     else:\n",
    "#         return [sp.simplify(us[k]) for k in range(len(us))]"
   ]
  },
  {
   "cell_type": "code",
   "execution_count": 8,
   "id": "bddc97da-008a-469f-b39c-12c1e49d7dd6",
   "metadata": {
    "execution": {
     "iopub.execute_input": "2021-10-23T00:07:21.110074Z",
     "iopub.status.busy": "2021-10-23T00:07:21.109359Z",
     "iopub.status.idle": "2021-10-23T00:07:21.294516Z",
     "shell.execute_reply": "2021-10-23T00:07:21.294050Z",
     "shell.execute_reply.started": "2021-10-23T00:07:21.109988Z"
    },
    "tags": []
   },
   "outputs": [
    {
     "data": {
      "text/html": [
       "<pre>✔️ 17.5 ms (2021-12-24T11:13:16/2021-12-24T11:13:16)</pre>"
      ],
      "text/plain": [
       "<IPython.core.display.HTML object>"
      ]
     },
     "metadata": {},
     "output_type": "display_data"
    }
   ],
   "source": [
    "# def basis_check(group_label, irrep_symbol, qets, full_output = False):\n",
    "#     '''\n",
    "#     This  function  checks  if  a  list  of qets (which are interpreted as\n",
    "#     superpositions  of  Ylms  for  fixed  l),  are  a  basis for the given\n",
    "#     representation.  This  is  done by going through all the operations of\n",
    "#     the  group,  applying  the  corresponding  rotations  to  all  of  the\n",
    "#     components  of  the  qets  and  seeing  if  the result matches what is\n",
    "#     obtained   by   directly   using   the   matrix  for  the  irreducible\n",
    "#     representation.\n",
    "\n",
    "#     This check is made against the current irreducible representation, so \n",
    "#     that the given qets might still transform as an equivalent irreducible\n",
    "#     rep.\n",
    "#     '''\n",
    "#     group = CPGs.get_group_by_label(group_label)\n",
    "#     if not isinstance(irrep_symbol, sp.Symbol):\n",
    "#         irrep_symbol = sp.Symbol(irrep_symbol)\n",
    "#     if len(qets) != group.irrep_dims[irrep_symbol]:\n",
    "#         print(\"A basis needs to have as many entries as the size of the irrep!\")\n",
    "#     irrep_way = []\n",
    "#     irrep_matrices = group.irrep_matrices[irrep_symbol]\n",
    "#     irrep_dim = group.irrep_dims[irrep_symbol]\n",
    "#     all_comparisons = {}\n",
    "#     all_checks = {}\n",
    "#     for R, DR in irrep_matrices.items():\n",
    "#         for idx, qet in enumerate(qets):\n",
    "#             direct_way = sum([v*RYlm(*k,group.euler_angles[R]) for k,v in qet.dict.items()],Qet())\n",
    "#             irrep_way = sum([DR[k,idx]*qets[k] for k in range(irrep_dim)],Qet())\n",
    "#         checks = []\n",
    "#         if set(irrep_way.dict.keys()) == set(direct_way.dict.keys()):\n",
    "#             for key in set(irrep_way.dict.keys()):\n",
    "#                 v1 = sp.N(irrep_way.dict[key],chop=True)\n",
    "#                 v2 = sp.N(direct_way.dict[key],chop=True)\n",
    "#                 checks.append(sp.N(v1-v2,chop=True) == 0)\n",
    "#         else:\n",
    "#             check = (False)\n",
    "#         if sum(checks) == len(checks):\n",
    "#             check = True\n",
    "#         else:\n",
    "#             check = False\n",
    "#         all_comparisons[R] = (check,direct_way, irrep_way)\n",
    "#         all_checks[R] = check\n",
    "#     if sum(all_checks.values()) == len(all_checks):\n",
    "#         all_good = True\n",
    "#     else:\n",
    "#         all_good = False\n",
    "#     if full_output:\n",
    "#         return all_comparisons\n",
    "#     else:\n",
    "#         return all_good"
   ]
  },
  {
   "cell_type": "code",
   "execution_count": 2,
   "id": "6a66939c",
   "metadata": {},
   "outputs": [
    {
     "data": {
      "text/html": [
       "<pre>✔️ 1.46 ms (2021-12-24T11:48:56/2021-12-24T11:48:56)</pre>"
      ],
      "text/plain": [
       "<IPython.core.display.HTML object>"
      ]
     },
     "metadata": {},
     "output_type": "display_data"
    }
   ],
   "source": [
    "def irrep_check(group, a_basis_list, irrep, l):\n",
    "    '''\n",
    "    This  function  checks  if  a  list  of qets (which are interpreted as\n",
    "    superpositions  of Ylms for fixed l), are a basis for the given irrep.\n",
    "    This  is done by calculating the matrices that represent the effect of\n",
    "    applying  all  of  the  group  operations, and then checking to see if\n",
    "    those matrices are unitary, satisfy the multiplication table, and have\n",
    "    the corresponding character for the given irrep.\n",
    "\n",
    "    This function could easily be modifiec to return the matrices that the\n",
    "    given basis induces.\n",
    "\n",
    "    Parameters\n",
    "    ----------\n",
    "\n",
    "    group    (qdef.CrystalGroup)\n",
    "\n",
    "    a_basis_list   (list[list[qdef.Qet]]): interpreted  as  superpositions \n",
    "        of standard spherical harmonics. Each list must have as many qets\n",
    "        as the dimension of the corresponding irrep. Several groups may be\n",
    "        given to account for possible degeneracy of the bases.\n",
    "\n",
    "    irrep   (sp.Symbol): symbol for one of the group irreps.\n",
    "\n",
    "    l      (int): the  value  of  l  from which the given qets are seen to\n",
    "        originate from.\n",
    "    \n",
    "    Returns\n",
    "    -------\n",
    "    all_checks (list): a list of nested lists, of which there are as many\n",
    "    as groups of qets were given. The enclosed lists have three Bool, the\n",
    "    first one of which is the check for the multiplication table, the 2nd\n",
    "    of which is the of characters of the induced matrices, and the  third\n",
    "    being the check against the matrices being unitary.\n",
    "    '''\n",
    "    all_checks = []\n",
    "    for a_basis in a_basis_list:\n",
    "        lbasis = [(l,m) for m in range(-l,l+1)]\n",
    "        basis_matrix = sp.Matrix([b.vec_in_basis(lbasis) for b in a_basis]).T\n",
    "        basis_matrix = Dagger(basis_matrix)\n",
    "        induced_matrices = {}\n",
    "        char_checks = {}\n",
    "        unitarity_checks = {}\n",
    "        for group_op, op_params in group.euler_angles.items():\n",
    "            D_matrix = (op_params[3]**l)*sp.Matrix([[Wigner_D(l,m,n,*op_params[:3]) for n in range(-l,l+1)] for m in range(-l,l+1)]).T\n",
    "            R_rows = []\n",
    "            for basis_element in a_basis:\n",
    "                vector = sp.Matrix(basis_element.vec_in_basis(lbasis))\n",
    "                t_vector = D_matrix*vector\n",
    "                row = (basis_matrix*t_vector).T\n",
    "                R_rows.append(row)\n",
    "            induced_matrices[group_op] = sp.Matrix(R_rows).T\n",
    "            induced_matrices[group_op] = sp.re(induced_matrices[group_op]) + sp.I * sp.im(induced_matrices[group_op])\n",
    "            diff = sp.N(sp.simplify(induced_matrices[group_op]).trace() - sp.simplify(group.irrep_matrices[irrep][group_op]).trace(), chop=True)\n",
    "            char_check = (diff == 0)\n",
    "            if not char_check:\n",
    "                warnings.warn(\"Character mismatch.\")\n",
    "            char_checks[group_op] = char_check\n",
    "            ru = sp.simplify(induced_matrices[group_op] * Dagger(induced_matrices[group_op]))\n",
    "            ru = sp.re(ru) + sp.I*sp.im(ru)\n",
    "            unitarity_checks[group_op] =  (ru == sp.eye(group.irrep_dims[irrep]) )\n",
    "        # check to see if the product table is satisfied\n",
    "        ptable = group.multiplication_table_dict\n",
    "        checks = {}\n",
    "        for group_op_0 in group.group_operations:\n",
    "            for group_op_1 in group.group_operations:\n",
    "                group_op_01 = ptable[(group_op_0,group_op_1)]\n",
    "                target = induced_matrices[group_op_01]\n",
    "                directp = sp.simplify(induced_matrices[group_op_0]*induced_matrices[group_op_1])\n",
    "                directp = sp.re(directp) + sp.I * sp.im(directp)\n",
    "                target = sp.re(target) + sp.I * sp.im(target)\n",
    "                pcheck = sp.N(directp - target, chop=True) == sp.zeros(target.rows)\n",
    "                if not pcheck:\n",
    "                    warnings.warn(\"Multiplication table mismatch.\")\n",
    "                checks[(group_op_0,group_op_1)] = pcheck\n",
    "        all_checks.append((all(checks.values()), all(char_checks.values()), all(unitarity_checks.values())))\n",
    "    return all_checks"
   ]
  },
  {
   "cell_type": "markdown",
   "id": "63079655",
   "metadata": {},
   "source": [
    "### symmetry_adapted_basis"
   ]
  },
  {
   "cell_type": "code",
   "execution_count": 3,
   "id": "9cb03856",
   "metadata": {},
   "outputs": [
    {
     "data": {
      "text/html": [
       "<pre>✔️ 396 µs (2021-12-24T11:48:57/2021-12-24T11:48:57)</pre>"
      ],
      "text/plain": [
       "<IPython.core.display.HTML object>"
      ]
     },
     "metadata": {},
     "output_type": "display_data"
    }
   ],
   "source": [
    "# def real_or_imagined(qet):\n",
    "#     '''\n",
    "#     For  a given superposition of spherical harmonics, determine\n",
    "#     if the total is just shy from being real except for a global\n",
    "#     complex phase.\n",
    "\n",
    "#     Parameters\n",
    "#     ----------\n",
    "#     qet (qdefcore.Qet)\n",
    "\n",
    "#     Returns\n",
    "#     -------\n",
    "#     (3-tuple) qet_type, final_qet, phase\n",
    "#      If qet_type == 'phased' then the returned qet is real, and the\n",
    "#      phase is the global phase that was divided out.\n",
    "#      If qet_type == 'mixed' the returned qet is the original one, and \n",
    "#      phase is equal to None.\n",
    "\n",
    "#     '''\n",
    "#     lvalues = list(set([x[0] for x in qet.dict.keys()]))\n",
    "#     assert len(lvalues) == 1, \"Only valid for a single value of l.\"\n",
    "#     qet_l = lvalues[0]\n",
    "#     mvalues = [x[1] for x in qet.dict.keys()]\n",
    "#     mabs = set(map(abs, mvalues))\n",
    "#     msymkeys = all([mab in mvalues and -mab in mvalues for mab in mabs])\n",
    "#     if not msymkeys:\n",
    "#         warnings.warn(\"Mixed qet.\")\n",
    "#         return 'mixed', qet, None\n",
    "#     else:\n",
    "#         # valences = []\n",
    "#         hashes = []\n",
    "#         for mab in mabs:\n",
    "#             minus_coeff = qet.dict[(qet_l, -mab)]\n",
    "#             plus_coeff = qet.dict[(qet_l, mab)]\n",
    "#             if abs(minus_coeff) != abs(plus_coeff):\n",
    "#                 return 'mixed', qet, None\n",
    "#             else:\n",
    "#                 if mab % 2 == 0:\n",
    "#                     phaser_sign = 1\n",
    "#                 else:\n",
    "#                     phaser_sign = -1\n",
    "#                 hashed = plus_coeff*(1+mab*sp.I) + phaser_sign*minus_coeff*(1-mab*sp.I)\n",
    "#                 hashes.append(hashed)\n",
    "#     # try dividing all the hashes by the first one\n",
    "#     pivot_hash = sp.simplify(hashes[0])\n",
    "#     pivot_hash = abs(sp.re(pivot_hash)) + sp.I*abs(sp.im(pivot_hash))\n",
    "#     # see if all of them are real\n",
    "#     pencil = [sp.im(hashed/pivot_hash) == 0 for hashed in hashes]\n",
    "#     if all(pencil):\n",
    "#         # the phase shouldn't modify the norm\n",
    "#         pivot_hash = pivot_hash/abs(pivot_hash)\n",
    "#         pivot_hash = sp.simplify(pivot_hash)\n",
    "#         if sp.im(pivot_hash) == 0:\n",
    "#             return 'phased', qet, 1\n",
    "#         final_qet = (sp.S(1)/pivot_hash) * qet\n",
    "#         return 'phased', final_qet, pivot_hash\n",
    "#     else:\n",
    "#         warnings.warn(\"Mixed qet.\")\n",
    "#         return 'mixed', qet, None\n",
    "\n",
    "# def real_or_imagined_global_unitary(qets):\n",
    "#     '''\n",
    "#     For a set of qets, this function checks to see if all of them\n",
    "#     can be brought to be real by a set of unimodular complex numbers.\n",
    "#     If this is the case, then the resulting set of qets transform\n",
    "#     as an equivalent irreducible representation.\n",
    "#     '''\n",
    "#     if len(qets) == 0:\n",
    "#         return qets, None, None\n",
    "#     phased_qets = list(map(real_or_imagined, qets))\n",
    "#     all_phases = list(map(lambda x: x[-1], phased_qets))\n",
    "#     phases = set(list(map(lambda x: x[-1], phased_qets)))\n",
    "#     if None in phases:\n",
    "#         warnings.warn(\"no global acceptable phase found.\")\n",
    "#         return qets, 0, None\n",
    "#     elif all(list(map(lambda x: abs(x) == 1,phases))) or len(phases) == 1:\n",
    "#         return list(map(lambda x: x[1], phased_qets)), 1, all_phases\n",
    "#     else:\n",
    "#         warnings.warn(\"no acceptable diagonal unitary transform found\")\n",
    "#         return qets, 2, all_phases"
   ]
  },
  {
   "cell_type": "code",
   "execution_count": 7,
   "id": "ad006b4f",
   "metadata": {},
   "outputs": [
    {
     "data": {
      "text/html": [
       "<pre>✔️ 125 ms (2021-12-24T11:50:11/2021-12-24T11:50:11)</pre>"
      ],
      "text/plain": [
       "<IPython.core.display.HTML object>"
      ]
     },
     "metadata": {},
     "output_type": "display_data"
    }
   ],
   "source": [
    "def symmetry_adapted_basis_v_real(group_label, lmax, verbose=False):\n",
    "    '''\n",
    "    Starting from a set of functions it may be possible to construct a new\n",
    "    set which transforms according to the irreducible representations of a\n",
    "    given  group.  This  is  done by using the proyection operators of the\n",
    "    group.  Given  that  these  operators  may  produce linearly dependent\n",
    "    combinations  some  amount of linear algebra is necessary to determine\n",
    "    the largest set of linearly independent sets of functions.\n",
    "\n",
    "    A  necessary  component  of  the  algorithm  is  knowledge  of how the\n",
    "    starting  functions  transform  under  the group's operations. This is\n",
    "    well  known  for  the  spherical  harmonics  in  terms of the Widger D\n",
    "    matrices.\n",
    "\n",
    "    It  may  also  be  desirable to have the resulting set of functions be\n",
    "    real,  in  which case it is more convenient to start with the sine and\n",
    "    cosine combinations of spherical harmonics. In this function this path\n",
    "    is taken.\n",
    "\n",
    "    After  a  set  has  been  found,  another  set,  which would transform\n",
    "    accordingly  to an equivalent irreducible representation, may be found\n",
    "    by applying a unitary transformation.  This  is the effect of applying\n",
    "    the function real_or_imagined_global_unitary somewhere near the end of\n",
    "    this function.\n",
    "\n",
    "    Parameters\n",
    "    ----------\n",
    "    group_label    (str): a label for a crystallographic point group\n",
    "    lmax           (int): up  to  which  value  of the l the bases will be \n",
    "                          constructed.\n",
    "\n",
    "    Returns\n",
    "    -------\n",
    "    (2-tuple)  symmetry_basis_sc,  symmetry_basis: where symmetry_basis_sc\n",
    "    is  the  resultant  basis  in  terms  of  sine  and  cosine  spherical\n",
    "    harmonics,  and  symmetry_basis  is  for  the  result  translated into\n",
    "    standard spherical harmonics.\n",
    "    Both  these are nested dictionaries where the first key corresponds to\n",
    "    labels  (sp.Symbol)  of  the irreducible representations of the group,\n",
    "    whose  second  key  corresponds  to a value of l, and whose value is a\n",
    "    list  of  lists where each list if of length equal to the dimension of\n",
    "    the  irreducible  representation  (there  may   be  more than one list\n",
    "    because  at  times  there's  more  than one possible basis that may be\n",
    "    formed).\n",
    "    '''\n",
    "    GramSchmidtFun = GramSchmidtAlt\n",
    "    group = CPGs.get_group_by_label(group_label)\n",
    "    group_irreps = group.irrep_labels\n",
    "    symmetry_basis_sc = {}\n",
    "    symmetry_basis = {}\n",
    "    \n",
    "    for group_irrep in group_irreps:\n",
    "        if verbose:\n",
    "            print(str(group_irrep))\n",
    "        irrep_dim = group.irrep_dims[group_irrep]\n",
    "        symmetry_basis_sc[group_irrep] = {}\n",
    "        symmetry_basis[group_irrep] = {}\n",
    "        irrep_matrices = group.irrep_matrices[group_irrep]\n",
    "    \n",
    "        for l in range(lmax+1):\n",
    "            full_basis = [(l,m) for m in range(-l,l+1)]\n",
    "            full_basis_real = [(l,m,'c') for m in range(0,l+1)] + [(l,m,'s') for m in range(1,l+1)]\n",
    "            realharm_qet_basis = [Qet({(l,m,'c'):1}) for m in range(0,l+1)] + [Qet({(l,m,'s'):1}) for m in range(1,l+1)]\n",
    "            standard_qet_basis = [Qet({(l,m):1}) for m in range(-l,l+1)]\n",
    "\n",
    "            # We need two change of coordinates matrices that allow going\n",
    "            # back and forth from the Y_lm^{cs} to the Y_lm.\n",
    "            \n",
    "            combos = [Qet({\n",
    "                (l,abs(m),'c'):sp.S(1)/sp.sqrt(2),\n",
    "                (l,abs(m),'s'):-sp.I/sp.sqrt(2)}).vec_in_basis(full_basis_real) for m in range(-l,0)]\n",
    "            combos.append(Qet({(l,0,'c'):1}).vec_in_basis(full_basis_real))\n",
    "            combos = combos + [Qet({\n",
    "                (l,m,'c'): sp.S(1)/sp.sqrt(2),\n",
    "                (l,m,'s'): sp.I*sp.S(1)/sp.sqrt(2)}).vec_in_basis(full_basis_real) for m in range(1,l+1)]\n",
    "\n",
    "            # When this matrix multiplies a vector of coefficients of regular spherical harmonics\n",
    "            # the results are the coefficients in the basis composed of Y_lm^{sc}\n",
    "\n",
    "            change_of_basis_matrix = sp.Matrix(combos).T # this matrix changes from the regular Ylm to Ylm^cs\n",
    "\n",
    "            combos2 = [Qet({(l,0):1}).vec_in_basis(full_basis)]\n",
    "            combos2 = combos2 + [Qet({\n",
    "                (l, m): sp.S(1)/sp.sqrt(2),\n",
    "                (l,-m): 1/sp.sqrt(2)}).vec_in_basis(full_basis) for m in range(1,l+1)]\n",
    "            combos2 = combos2 + [Qet({\n",
    "                (l,m) : -sp.I/sp.sqrt(2),\n",
    "                (l,-m): sp.I/sp.sqrt(2)}).vec_in_basis(full_basis) for m in range(1,l+1)]\n",
    "\n",
    "            # When this matrix multiplies a vector of coefficients of Y_lm^{sc}\n",
    "            # the results are the coefficients in the basis composed of standard spherical harmonics.\n",
    "\n",
    "            change_of_basis_matrix_from_real_to_standard = sp.Matrix(combos2).T\n",
    "            \n",
    "            # This loop applied the proyection operators and creates a dictionary\n",
    "            # all_phis whose key is the value of m that relates to it\n",
    "            # and whose valuees are dictionaries whose keys are 3-tuples (t,s,'s' or 'c')\n",
    "\n",
    "            all_phis = {}\n",
    "            for m in range(0,l+1):\n",
    "                phis = {}\n",
    "                # for a fixed row t,\n",
    "                for t in range(irrep_dim):\n",
    "                    # collect of of the sums by adding over columns\n",
    "                    cphi = Qet({})\n",
    "                    sphi = Qet({})\n",
    "                    for s in range(irrep_dim):\n",
    "                        for R, DR in irrep_matrices.items():\n",
    "                            dr = sp.conjugate(DR[t,s])\n",
    "                            op_params = group.euler_angles[R]\n",
    "                            if dr != 0:\n",
    "                                if m == 0:\n",
    "                                    cphi = cphi + dr*RYlm(l,m,op_params)\n",
    "                                else:\n",
    "                                    cphi = cphi + (1/sp.sqrt(2)) * dr    * RYlm(l,m,op_params)\n",
    "                                    cphi = cphi + (1/sp.sqrt(2)) * dr    * RYlm(l,-m,op_params)\n",
    "                                    sphi = sphi + (sp.I/sp.sqrt(2)) * dr * RYlm(l,m,op_params)\n",
    "                                    sphi = sphi - (sp.I/sp.sqrt(2)) * dr * RYlm(l,-m,op_params)\n",
    "\n",
    "                        coord_vec = sp.Matrix(cphi.vec_in_basis(full_basis))\n",
    "                        transformed_vec = list(change_of_basis_matrix*coord_vec)\n",
    "                        transformed_qet = sum([v*q for v,q in zip(transformed_vec, realharm_qet_basis) if v !=0], Qet({}))\n",
    "                        phis[(t,s,'c')] = (sp.S(irrep_dim)/group.order)*transformed_qet\n",
    "                        if m!=0:\n",
    "                            coord_vec_sin = sp.Matrix(sphi.vec_in_basis(full_basis))\n",
    "                            transformed_vec = list(change_of_basis_matrix*coord_vec_sin)\n",
    "                            transformed_qet = sum([v*q for v,q in zip(transformed_vec, realharm_qet_basis) if v !=0],Qet({}))\n",
    "                            phis[(t,s,'s')] = (sp.S(irrep_dim)/group.order)*transformed_qet\n",
    "                all_phis[m] = phis\n",
    "\n",
    "            # Take the qets and find the coefficients in the basis full_basis\n",
    "            # this is necessary to evaluate linear independence, and useful\n",
    "            # for applying the Gram-Schmidt orthonormalization process.\n",
    "            coord_vecs = []\n",
    "            for m,s,t in product(range(0,l+1),range(irrep_dim),range(irrep_dim)):\n",
    "                coord_vecs.append(all_phis[m][(t,s,'c')].vec_in_basis(full_basis_real))\n",
    "            # This second loop seems as it could be integrated in the one above\n",
    "            # but this is not so, the order in which rows are added matters.\n",
    "            for m,s,t in product(range(0,l+1),range(irrep_dim),range(irrep_dim)):\n",
    "                if m != 0:\n",
    "                    coord_vecs.append(all_phis[m][(t,s,'s')].vec_in_basis(full_basis_real))\n",
    "            if verbose:\n",
    "                print(\"Constructing a big matrix with coordinates in standard basis....\")\n",
    "            bigmatrix = sp.Matrix(coord_vecs)\n",
    "            num_lin_indep_rows = (bigmatrix.rank())\n",
    "            good_rows = []\n",
    "            if num_lin_indep_rows != 0:\n",
    "                if verbose:\n",
    "                    print(\"There are %d linearly independent entries...\" % (num_lin_indep_rows))\n",
    "                    print(\"Collecting that many, and in groups of %d, from the original set...\" % irrep_dim)\n",
    "                assert (bigmatrix.rows % irrep_dim) == 0, \"No. of indep entries should divide the dim of the irrep.\"\n",
    "                # determine what groupings have the full rank of the matrix\n",
    "                chunks = [(coord_vecs[i*irrep_dim : (i*irrep_dim + irrep_dim)]) for i in range(bigmatrix.rows // irrep_dim)]\n",
    "                cycles = num_lin_indep_rows // irrep_dim\n",
    "                chunks = [chunk for chunk in chunks if (sp.Matrix(chunk).rank() == irrep_dim)]\n",
    "                for bits in combinations(chunks,cycles):\n",
    "                    mbits = list(map(lambda x: [sp.Matrix(x)], bits))\n",
    "                    tot = sp.Matrix(sp.BlockMatrix(mbits))\n",
    "                    if tot.rank() == num_lin_indep_rows:\n",
    "                        # a satisfactory subset has been found, exit\n",
    "                        break\n",
    "                else:\n",
    "                    raise Exception(\"Couldn't find an adequate subset of rows.\")\n",
    "                for bit in bits:\n",
    "                    good_rows.append(bit)\n",
    "                if verbose:\n",
    "                    print(\"Orthonormalizing ...\")\n",
    "                flat_rows = []\n",
    "                degeneracy = len(good_rows)\n",
    "                for rows in good_rows:\n",
    "                    flat_rows.extend(rows)\n",
    "                flat_rows = list(map(sp.Matrix,flat_rows))\n",
    "                normalized = GramSchmidtFun(flat_rows, orthonormal=True)\n",
    "                parts = []\n",
    "                for deg in range(degeneracy):\n",
    "                    chunk = list(map(list,normalized[deg*irrep_dim : deg*irrep_dim + irrep_dim]))\n",
    "                    parts.append(chunk)\n",
    "                all_normal_qets = []\n",
    "                all_regular_qets = []\n",
    "                # convert the coefficient vectors back to qets\n",
    "                skip_check = False\n",
    "                all_phases = []\n",
    "                for part in parts:\n",
    "                    normal_qets = [Qet({k: v for k,v in zip(full_basis_real,part[i]) if v!=0}) for i in range(len(part))]\n",
    "                    spherical_qets = []\n",
    "                    for nq in normal_qets:\n",
    "                        coord_vec = sp.Matrix(nq.vec_in_basis(full_basis_real))\n",
    "                        transformed_vec = list(change_of_basis_matrix_from_real_to_standard*coord_vec)\n",
    "                        transformed_qet = sum([v*q for v,q in zip(transformed_vec, standard_qet_basis) if v !=0],Qet({}))\n",
    "                        spherical_qets.append(transformed_qet)\n",
    "                    all_normal_qets.append(normal_qets)\n",
    "                    phased, flag, phases = real_or_imagined_global_unitary(spherical_qets)\n",
    "                    all_phases.append(phases)\n",
    "                    if flag == 0:\n",
    "                        skip_check = True\n",
    "                    all_regular_qets.append(phased)\n",
    "                if not skip_check:\n",
    "                    num_different_phase_shift = len(set(tuple(map(tuple, all_phases))))\n",
    "                    if num_different_phase_shift != 1:\n",
    "                        warnings.warn(\"Phases between degenerate bases are incompatible.\")\n",
    "                if verbose:\n",
    "                    print(\"Finished!\")\n",
    "                symmetry_basis_sc[group_irrep][l] = all_normal_qets\n",
    "                symmetry_basis[group_irrep][l] = all_regular_qets\n",
    "            else:\n",
    "                symmetry_basis_sc[group_irrep][l] = []\n",
    "                symmetry_basis[group_irrep][l] = []\n",
    "    return symmetry_basis_sc, symmetry_basis"
   ]
  },
  {
   "cell_type": "code",
   "execution_count": 5,
   "id": "62a47d06",
   "metadata": {},
   "outputs": [
    {
     "data": {
      "text/html": [
       "<pre>✔️ 347 µs (2021-12-24T11:48:59/2021-12-24T11:48:59)</pre>"
      ],
      "text/plain": [
       "<IPython.core.display.HTML object>"
      ]
     },
     "metadata": {},
     "output_type": "display_data"
    }
   ],
   "source": [
    "# for group_label in CPGs.all_group_labels:\n",
    "#     print(group_label)\n",
    "#     symmetry_adapted_basis_v_real(group_label,2)"
   ]
  },
  {
   "cell_type": "code",
   "execution_count": null,
   "id": "2831a858",
   "metadata": {},
   "outputs": [],
   "source": [
    "# all_coeffs = []\n",
    "# for qets in abasis[0][sp.Symbol('A_1')][9]:\n",
    "#     print(\"*******\")\n",
    "#     qet_coeffs = []\n",
    "#     for qet in qets:\n",
    "#         coeffs = []\n",
    "#         print(\"------\")\n",
    "#         for k,v in qet.dict.items():\n",
    "#             print('(%s,%s): %f' % (k[1],k[2],float(v)))\n",
    "#             coeffs.append(v)\n",
    "#         qet_coeffs.append(coeffs)\n",
    "#     all_coeffs.append(qet_coeffs)\n",
    "# old_symmetry_bases = pickle.load(open('/Users/juan/Zia Lab/Codebase/qdef/data/old_symmetry_bases.pkl','rb'))\n",
    "# all_coeffs = []\n",
    "# for qets in old_symmetry_bases['O'][sp.Symbol('T_2')][8]:\n",
    "#     print(\"*******\")\n",
    "#     qet_coeffs = []\n",
    "#     for qet in qets:\n",
    "#         coeffs = []\n",
    "#         print(\"------\")\n",
    "#         for k,v in qet.dict.items():\n",
    "#             print('(%s): %f' % (k[1],sp.sqrt(1/2.)*abs(v)))\n",
    "#             coeffs.append(v)\n",
    "#         qet_coeffs.append(coeffs)\n",
    "#     all_coeffs.append(qet_coeffs)"
   ]
  },
  {
   "cell_type": "markdown",
   "id": "b5f526ee-3e84-4ab6-a83f-239e76f640c5",
   "metadata": {},
   "source": [
    "## Calculating all, exporting, and checking for orthonormality \n",
    "\n",
    "(Last run on Dec-22 2021-12-22 20:13:01)"
   ]
  },
  {
   "cell_type": "markdown",
   "id": "c51db583-78c1-4c0d-9434-4239031d9db7",
   "metadata": {},
   "source": [
    "NOTE: After exporting to pkl, remove CPGs.pkl, shutdown kernel, re-import qdef."
   ]
  },
  {
   "cell_type": "code",
   "execution_count": 8,
   "id": "089402d8-493e-4e5d-ac58-7e893e093a8a",
   "metadata": {
    "execution": {
     "iopub.execute_input": "2021-10-25T18:14:01.865424Z",
     "iopub.status.busy": "2021-10-25T18:14:01.861758Z",
     "iopub.status.idle": "2021-10-25T18:23:31.287921Z",
     "shell.execute_reply": "2021-10-25T18:23:31.286989Z",
     "shell.execute_reply.started": "2021-10-25T18:14:01.865312Z"
    },
    "tags": []
   },
   "outputs": [
    {
     "data": {
      "text/html": [
       "<pre>✔️ 30.3 s (2021-12-24T11:50:17/2021-12-24T11:50:48)</pre>"
      ],
      "text/plain": [
       "<IPython.core.display.HTML object>"
      ]
     },
     "metadata": {},
     "output_type": "display_data"
    }
   ],
   "source": [
    "# turn it up all the way to 8\n",
    "symmetry_adapted_basis = symmetry_adapted_basis_v_real\n",
    "lmax = 2\n",
    "sym_bases = Parallel(n_jobs = num_cores)(delayed(symmetry_adapted_basis)(group_label, lmax) for group_label in CPGs.all_group_labels)\n",
    "all_the_symmetry_bases = dict(zip(CPGs.all_group_labels,sym_bases))\n",
    "!beep"
   ]
  },
  {
   "cell_type": "code",
   "execution_count": 10,
   "id": "658a4f81",
   "metadata": {},
   "outputs": [
    {
     "data": {
      "text/html": [
       "<pre>✔️ 6.02 ms (2021-12-24T11:51:07/2021-12-24T11:51:07)</pre>"
      ],
      "text/plain": [
       "<IPython.core.display.HTML object>"
      ]
     },
     "metadata": {},
     "output_type": "display_data"
    }
   ],
   "source": [
    "from sympy.physics.quantum.dagger import Dagger"
   ]
  },
  {
   "cell_type": "code",
   "execution_count": 11,
   "id": "4c55b3b4",
   "metadata": {},
   "outputs": [
    {
     "data": {
      "text/html": [
       "<pre>✔️ 1 min 3 s (2021-12-24T11:51:08/2021-12-24T11:52:11)</pre>"
      ],
      "text/plain": [
       "<IPython.core.display.HTML object>"
      ]
     },
     "metadata": {},
     "output_type": "display_data"
    },
    {
     "name": "stdout",
     "output_type": "stream",
     "text": [
      "C_{1}\n",
      "C_{i}\n",
      "C_{2}\n",
      "C_{s}\n",
      "C_{2h}\n",
      "D_{2}\n",
      "C_{2v}\n",
      "D_{2h}\n",
      "C_{4}\n",
      "S_{4}\n",
      "C_{4h}\n",
      "D_{4}\n",
      "C_{4v}\n",
      "D_{2d}\n",
      "D_{4h}\n",
      "C_{3}\n",
      "S_{6}\n",
      "D_{3}\n",
      "C_{3v}\n",
      "D_{3d}\n",
      "C_{6}\n",
      "C_{3h}\n",
      "C_{6h}\n",
      "D_{6}\n",
      "C_{6v}\n",
      "D_{3h}\n",
      "D_{6h}\n",
      "T\n",
      "T_{h}\n",
      "O\n",
      "T_{d}\n",
      "O_{h}\n",
      "[True, True, True, True, True, True, True, True, True, True, True, True, True, True, True, True, True, True, True, True, True, True, True, True, True, True, True, True, True, True, True, True, True, True, True, True, True, True, True, True, True, True, True, True, True, True, True, True, True, True, True, True, True, True, True, True, True, True, True, True, True, True, True, True, True, True, True, True, True, True, True, True, True, True, True, True, True, True, True, True, True, True, True, True, True, True, True, True, True, True, True, True, True, True, True, True, True, True, True, True, True, True, True, True, True, True, True, True, True, True, True, True, True, True, True, True, True, True, True, True, True, True, True, True, True, True, True, True, True, True, True, True, True, True, True, True, True, True, True, True, True, True, True, True, True, True, True, True, True, True, True, True, True, True, True, True, True, True, True, True, True, True, True, True, True, True, True, True, True, True, True, True, True, True, True, True, True, True, True, True, True, True, True, True, True, True, True, True, True, True, True, True, True, True, True, True, True, True, True, True, True, True, True, True, True, True, True, True, True, True, True, True, True, True, True, True, True, True, True, True, True, True, True, True, True, True, True, True, True, True, True, True, True, True, True, True, True, True, True, True, True, True, True, True, True, True, True, True, True, True, True, True, True, True, True, True, True, True, True, True, True, True, True, True, True, True, True, True, True, True, True, True, True, True, True, True, True, True, True, True, True, True, True, True, True, True, True, True, True, True, True, True, True, True, True, True, True, True, True, True, True, True, True, True, True, True, True, True, True, True, True, True, True, True, True, True, True, True, True, True, True, True, True, True, True, True, True, True, True, True, True, True, True, True, True, True, True, True, True, True, True, True, True, True, True, True, True, True, True, True, True, True, True, True, True, True, True, True, True, True, True, True, True, True, True, True, True, True, True, True, True, True, True, True, True, True, True, True, True, True, True, True, True, True, True, True, True, True, True, True, True, True, True, True, True, True, True, True, True, True, True, True, True, True, True, True, True, True, True, True, True, True, True, True, True, True, True, True, True, True, True, True, True, True, True, True, True, True, True, True, True, True, True, True, True, True, True, True, True, True, True, True, True, True, True, True, True, True, True, True, True, True, True, True, True, True, True, True, True, True, True, True, True, True, True, True, True, True, True, True, True, True, True, True, True, True, True, True, True, True, True, True, True, True, True, True, True, True, True, True, True, True, True, True, True, True, True, True, True, True, True, True, True, True, True, True, True, True, True, True, True, True, True, True, True, True, True, True, True, True, True, True, True, True, True]\n"
     ]
    }
   ],
   "source": [
    "total_checks = {}\n",
    "all_checks = []\n",
    "for group_label, basis_dict in all_the_symmetry_bases.items():\n",
    "    print(group_label)\n",
    "    group = CPGs.get_group_by_label(group_label)\n",
    "    total_checks[group_label] = {}\n",
    "    for irrep_symbol, l_dict in basis_dict[1].items():\n",
    "        total_checks[group_label][irrep_symbol] = []\n",
    "        for l, qet_groups in l_dict.items():\n",
    "            checking = sum(irrep_check(group, qet_groups, irrep_symbol, l),())\n",
    "            total_checks[group_label][irrep_symbol].append(checking)\n",
    "            all_checks.append(all(checking))"
   ]
  },
  {
   "cell_type": "code",
   "execution_count": null,
   "id": "cb40c3a8-cd4b-4878-be0f-8c5503257f60",
   "metadata": {
    "execution": {
     "iopub.execute_input": "2021-10-25T18:23:31.463886Z",
     "iopub.status.busy": "2021-10-25T18:23:31.463713Z",
     "iopub.status.idle": "2021-10-25T18:23:33.732787Z",
     "shell.execute_reply": "2021-10-25T18:23:33.732302Z",
     "shell.execute_reply.started": "2021-10-25T18:23:31.463869Z"
    },
    "tags": []
   },
   "outputs": [],
   "source": [
    "def echo(*args):\n",
    "    return args\n",
    "checklist_args = Parallel(n_jobs = num_cores)(delayed(echo)(group_label, irrep_symb, basis) \\\n",
    "                                        for group_label in CPGs.all_group_labels\\\n",
    "                                        for irrep_symb in CPGs.get_group_by_label(group_label).irrep_labels \\\n",
    "                                        for l in range(lmax) \\\n",
    "                                        for (basis_idx, basis) in enumerate(all_the_symmetry_bases[group_label][1][irrep_symb][l])\n",
    "                                        )"
   ]
  },
  {
   "cell_type": "markdown",
   "id": "436b052d-9d12-492e-84e9-b2c9ab31264b",
   "metadata": {},
   "source": [
    "A complete basis needs to satisfy the following:\n",
    "\n",
    "- For a fixed irreducible representation, for all of the group operations the components of each basis needs to transform accordingly to the irreducible representation that corresponds to the group operation.\n",
    "\n",
    "- Within a basis, all of the components are orthonormal.\n",
    "\n",
    "- If there's more than one basis, then all of the components of the one are also orthogonal to the components of the other.\n",
    "\n",
    "- For a given value of l, if one collects all of the components for all of the irreducible representations, there are a total of (2l+1) of them."
   ]
  },
  {
   "cell_type": "code",
   "execution_count": null,
   "id": "7b4b06cf-0e57-4bb2-afa2-aab7365f3243",
   "metadata": {
    "execution": {
     "iopub.execute_input": "2021-10-25T18:23:33.734277Z",
     "iopub.status.busy": "2021-10-25T18:23:33.734124Z",
     "iopub.status.idle": "2021-10-25T18:23:43.542553Z",
     "shell.execute_reply": "2021-10-25T18:23:43.542130Z",
     "shell.execute_reply.started": "2021-10-25T18:23:33.734257Z"
    },
    "tags": []
   },
   "outputs": [],
   "source": [
    "checklist = Parallel(n_jobs = num_cores)(delayed(basis_check)(group_label, irrep_symb, basis) \\\n",
    "                                        for group_label in CPGs.all_group_labels\\\n",
    "                                        for irrep_symb in CPGs.get_group_by_label(group_label).irrep_labels \\\n",
    "                                        for l in range(lmax) \\\n",
    "                                        for (basis_idx, basis) in enumerate(all_the_symmetry_bases[group_label][1][irrep_symb][l])\n",
    "                                        )"
   ]
  },
  {
   "cell_type": "code",
   "execution_count": null,
   "id": "95781fb2-235b-47ee-8da5-8db71dc29e76",
   "metadata": {
    "execution": {
     "iopub.execute_input": "2021-10-25T18:23:43.543546Z",
     "iopub.status.busy": "2021-10-25T18:23:43.543422Z",
     "iopub.status.idle": "2021-10-25T18:23:43.756657Z",
     "shell.execute_reply": "2021-10-25T18:23:43.756262Z",
     "shell.execute_reply.started": "2021-10-25T18:23:43.543530Z"
    },
    "tags": []
   },
   "outputs": [],
   "source": [
    "if len(checklist) == sum(checklist):\n",
    "    print(\"Good tidings!\")\n",
    "    print(\"Out of %d instances %d passed the test.\" % (len(checklist), sum(checklist)))\n",
    "else:\n",
    "    print(\"Out of %d instances %d passed the test.\" % (len(checklist), sum(checklist)))"
   ]
  },
  {
   "cell_type": "code",
   "execution_count": null,
   "id": "9a29ae5b",
   "metadata": {},
   "outputs": [],
   "source": [
    "!beep"
   ]
  },
  {
   "cell_type": "code",
   "execution_count": null,
   "id": "3dd1b999",
   "metadata": {},
   "outputs": [],
   "source": [
    "l = 2\n",
    "irrep = sp.Symbol('T_2')\n",
    "a_basis = all_the_symmetry_bases['O'][1][sp.Symbol('T_2')][l][0]\n",
    "group = CPGs.get_group_by_label('O')\n",
    "irreps = group.irrep_labels\n",
    "lbasis = [(l,m) for m in range(-l,l+1)]\n",
    "basis_matrix = sp.Matrix([b.vec_in_basis(lbasis) for b in a_basis]).T\n",
    "basis_matrix = Dagger(basis_matrix)\n",
    "induced_matrices = {}\n",
    "char_checks = {}\n",
    "unitarity_checks = {}\n",
    "for group_op, op_params in group.euler_angles.items():\n",
    "    D_matrix = sp.Matrix([[Wigner_D(l,m,n,*op_params[:3]) for n in range(-l,l+1)] for m in range(-l,l+1)])\n",
    "    R_rows = []\n",
    "    for basis_element in a_basis:\n",
    "        vector = sp.Matrix(basis_element.vec_in_basis(lbasis))\n",
    "        t_vector = D_matrix*vector\n",
    "        row = (basis_matrix*t_vector).T\n",
    "        R_rows.append(row)\n",
    "    induced_matrices[group_op] = sp.Matrix(R_rows).T\n",
    "    char_checks[group_op] = induced_matrices[group_op].trace() == group.irrep_matrices[irrep][group_op].trace()\n",
    "    unitarity_checks[group_op] = sp.simplify(induced_matrices[group_op] * Dagger(induced_matrices[group_op])) == sp.eye(group.irrep_dims[irrep])\n",
    "# check to see if the product table is satisfied\n",
    "ptable = group.multiplication_table_dict\n",
    "checks = {}\n",
    "for group_op_0 in group.group_operations:\n",
    "    for group_op_1 in group.group_operations:\n",
    "        group_op_01 = ptable[(group_op_1,group_op_0)]\n",
    "        target = induced_matrices[group_op_01]\n",
    "        directp = sp.simplify(induced_matrices[group_op_0]*induced_matrices[group_op_1])\n",
    "        checks[(group_op_0,group_op_1)] = (directp == target)\n",
    "print(all(checks.values()), all(char_checks.values()))"
   ]
  },
  {
   "cell_type": "code",
   "execution_count": null,
   "id": "860c4fed",
   "metadata": {},
   "outputs": [],
   "source": [
    "# def irrep_check(group_label, a_basis_list, irrep, l):\n",
    "#     all_checks = []\n",
    "#     for a_basis in a_basis_list:\n",
    "#         group = CPGs.get_group_by_label(group_label)\n",
    "#         lbasis = [(l,m) for m in range(-l,l+1)]\n",
    "#         basis_matrix = sp.Matrix([b.vec_in_basis(lbasis) for b in a_basis]).T\n",
    "#         basis_matrix = Dagger(basis_matrix)\n",
    "#         induced_matrices = {}\n",
    "#         char_checks = {}\n",
    "#         unitarity_checks = {}\n",
    "#         for group_op, op_params in group.euler_angles.items():\n",
    "#             D_matrix = sp.Matrix([[Wigner_D(l,m,n,*op_params[:3]) for n in range(-l,l+1)] for m in range(-l,l+1)])\n",
    "#             R_rows = []\n",
    "#             for basis_element in a_basis:\n",
    "#                 vector = sp.Matrix(basis_element.vec_in_basis(lbasis))\n",
    "#                 t_vector = D_matrix*vector\n",
    "#                 row = (basis_matrix*t_vector).T\n",
    "#                 R_rows.append(row)\n",
    "#             induced_matrices[group_op] = sp.Matrix(R_rows).T\n",
    "#             char_checks[group_op] = induced_matrices[group_op].trace() == group.irrep_matrices[irrep][group_op].trace()\n",
    "#             unitarity_checks[group_op] = sp.simplify(induced_matrices[group_op] * Dagger(induced_matrices[group_op])) == sp.eye(group.irrep_dims[irrep])\n",
    "#         # check to see if the product table is satisfied\n",
    "#         ptable = group.multiplication_table_dict\n",
    "#         checks = {}\n",
    "#         for group_op_0 in group.group_operations:\n",
    "#             for group_op_1 in group.group_operations:\n",
    "#                 group_op_01 = ptable[(group_op_1,group_op_0)]\n",
    "#                 target = induced_matrices[group_op_01]\n",
    "#                 directp = sp.simplify(induced_matrices[group_op_0]*induced_matrices[group_op_1])\n",
    "#                 checks[(group_op_0,group_op_1)] = (directp == target)\n",
    "#         all_checks.append((all(checks.values()), all(char_checks.values()), all(unitarity_checks.values())))\n",
    "#     return all_checks"
   ]
  },
  {
   "cell_type": "code",
   "execution_count": null,
   "id": "6313b198",
   "metadata": {},
   "outputs": [],
   "source": [
    "# def irrep_check(group, a_basis_list, irrep, l):\n",
    "#     all_checks = []\n",
    "#     for a_basis in a_basis_list:\n",
    "#         lbasis = [(l,m) for m in range(-l,l+1)]\n",
    "#         basis_matrix = sp.Matrix([b.vec_in_basis(lbasis) for b in a_basis]).T\n",
    "#         basis_matrix = Dagger(basis_matrix)\n",
    "#         induced_matrices = {}\n",
    "#         char_checks = {}\n",
    "#         unitarity_checks = {}\n",
    "#         for group_op, op_params in group.euler_angles.items():\n",
    "#             D_matrix = (op_params[3]**l)*sp.Matrix([[Wigner_D(l,m,n,*op_params[:3]) for n in range(-l,l+1)] for m in range(-l,l+1)]).T\n",
    "#             R_rows = []\n",
    "#             for basis_element in a_basis:\n",
    "#                 vector = sp.Matrix(basis_element.vec_in_basis(lbasis))\n",
    "#                 t_vector = D_matrix*vector\n",
    "#                 row = (basis_matrix*t_vector).T\n",
    "#                 R_rows.append(row)\n",
    "#             induced_matrices[group_op] = sp.Matrix(R_rows).T\n",
    "#             induced_matrices[group_op] = sp.re(induced_matrices[group_op]) + sp.I * sp.im(induced_matrices[group_op])\n",
    "#             diff = sp.N(sp.simplify(induced_matrices[group_op]).trace() - sp.simplify(group.irrep_matrices[irrep][group_op]).trace(), chop=True)\n",
    "#             char_check = (diff == 0)\n",
    "#             if not char_check:\n",
    "#                 print(\"++++++++++\")\n",
    "#                 display(diff)\n",
    "#                 display(induced_matrices[group_op])\n",
    "#                 display(group.irrep_matrices[irrep][group_op])\n",
    "#                 display(a_basis)\n",
    "#                 display(D_matrix)\n",
    "#                 display(group_op)\n",
    "#                 display(op_params)\n",
    "#                 display(basis_matrix)\n",
    "#             char_checks[group_op] = char_check\n",
    "#             ru = sp.simplify(induced_matrices[group_op] * Dagger(induced_matrices[group_op]))\n",
    "#             ru = sp.re(ru) + sp.I*sp.im(ru)\n",
    "#             unitarity_checks[group_op] =  (ru == sp.eye(group.irrep_dims[irrep]) )\n",
    "#         # check to see if the product table is satisfied\n",
    "#         ptable = group.multiplication_table_dict\n",
    "#         checks = {}\n",
    "#         for group_op_0 in group.group_operations:\n",
    "#             for group_op_1 in group.group_operations:\n",
    "#                 group_op_01 = ptable[(group_op_0,group_op_1)]\n",
    "#                 target = induced_matrices[group_op_01]\n",
    "#                 directp = sp.simplify(induced_matrices[group_op_0]*induced_matrices[group_op_1])\n",
    "#                 directp = sp.re(directp) + sp.I * sp.im(directp)\n",
    "#                 target = sp.re(target) + sp.I * sp.im(target)\n",
    "#                 pcheck = sp.N(directp - target, chop=True) == sp.zeros(target.rows)\n",
    "#                 if not pcheck:\n",
    "#                     display(directp)\n",
    "#                     display(target)\n",
    "#                     display(sp.N(directp - target, chop=True))\n",
    "#                 checks[(group_op_0,group_op_1)] = pcheck\n",
    "#         all_checks.append((all(checks.values()), all(char_checks.values()), all(unitarity_checks.values())))\n",
    "#     return all_checks"
   ]
  },
  {
   "cell_type": "code",
   "execution_count": null,
   "id": "eeb6c959",
   "metadata": {},
   "outputs": [],
   "source": [
    "# for group_op, op_params in group.euler_angles.items():\n",
    "#     D_matrix = sp.Matrix([[Wigner_D(l,m,n,*op_params[:3]) for n in range(-l,l+1)] for m in range(-l,l+1)])\n",
    "#     break"
   ]
  },
  {
   "cell_type": "code",
   "execution_count": null,
   "id": "6a66939c",
   "metadata": {},
   "outputs": [],
   "source": [
    "# def irrep_check(group, a_basis_list, irrep, l):\n",
    "#     all_checks = []\n",
    "#     for a_basis in a_basis_list:\n",
    "#         lbasis = [(l,m) for m in range(-l,l+1)]\n",
    "#         basis_matrix = sp.Matrix([b.vec_in_basis(lbasis) for b in a_basis]).T\n",
    "#         basis_matrix = Dagger(basis_matrix)\n",
    "#         induced_matrices = {}\n",
    "#         char_checks = {}\n",
    "#         unitarity_checks = {}\n",
    "#         for group_op, op_params in group.euler_angles.items():\n",
    "#             D_matrix = (op_params[3]**l)*sp.Matrix([[Wigner_D(l,m,n,*op_params[:3]) for n in range(-l,l+1)] for m in range(-l,l+1)]).T\n",
    "#             R_rows = []\n",
    "#             for basis_element in a_basis:\n",
    "#                 vector = sp.Matrix(basis_element.vec_in_basis(lbasis))\n",
    "#                 t_vector = D_matrix*vector\n",
    "#                 row = (basis_matrix*t_vector).T\n",
    "#                 R_rows.append(row)\n",
    "#             induced_matrices[group_op] = sp.Matrix(R_rows).T\n",
    "#             induced_matrices[group_op] = sp.re(induced_matrices[group_op]) + sp.I * sp.im(induced_matrices[group_op])\n",
    "#             diff = sp.N(sp.simplify(induced_matrices[group_op]).trace() - sp.simplify(group.irrep_matrices[irrep][group_op]).trace(), chop=True)\n",
    "#             char_check = (diff == 0)\n",
    "#             if not char_check:\n",
    "#                 print(\"++++++++++\")\n",
    "#                 display(diff)\n",
    "#                 display(induced_matrices[group_op])\n",
    "#                 display(group.irrep_matrices[irrep][group_op])\n",
    "#                 display(a_basis)\n",
    "#                 display(D_matrix)\n",
    "#                 display(group_op)\n",
    "#                 display(op_params)\n",
    "#                 display(basis_matrix)\n",
    "#             char_checks[group_op] = char_check\n",
    "#             ru = sp.simplify(induced_matrices[group_op] * Dagger(induced_matrices[group_op]))\n",
    "#             ru = sp.re(ru) + sp.I*sp.im(ru)\n",
    "#             unitarity_checks[group_op] =  (ru == sp.eye(group.irrep_dims[irrep]) )\n",
    "#         # check to see if the product table is satisfied\n",
    "#         ptable = group.multiplication_table_dict\n",
    "#         checks = {}\n",
    "#         for group_op_0 in group.group_operations:\n",
    "#             for group_op_1 in group.group_operations:\n",
    "#                 group_op_01 = ptable[(group_op_0,group_op_1)]\n",
    "#                 target = induced_matrices[group_op_01]\n",
    "#                 directp = sp.simplify(induced_matrices[group_op_0]*induced_matrices[group_op_1])\n",
    "#                 directp = sp.re(directp) + sp.I * sp.im(directp)\n",
    "#                 target = sp.re(target) + sp.I * sp.im(target)\n",
    "#                 pcheck = sp.N(directp - target, chop=True) == sp.zeros(target.rows)\n",
    "#                 if not pcheck:\n",
    "#                     display(directp)\n",
    "#                     display(target)\n",
    "#                     display(sp.N(directp - target, chop=True))\n",
    "#                 checks[(group_op_0,group_op_1)] = pcheck\n",
    "#         all_checks.append((all(checks.values()), all(char_checks.values()), all(unitarity_checks.values())))\n",
    "#     return all_checks"
   ]
  },
  {
   "cell_type": "code",
   "execution_count": null,
   "id": "5a8f9056",
   "metadata": {},
   "outputs": [],
   "source": [
    "# total_checks = {}\n",
    "# all_checks = []\n",
    "# for group_label, basis_dict in all_the_symmetry_bases.items():\n",
    "#     print(group_label)\n",
    "#     group = CPGs.get_group_by_label(group_label)\n",
    "#     total_checks[group_label] = {}\n",
    "#     for irrep_symbol, l_dict in basis_dict[1].items():\n",
    "#         total_checks[group_label][irrep_symbol] = []\n",
    "#         for l, qet_groups in l_dict.items():\n",
    "#             checking = sum(irrep_check(group, qet_groups, irrep_symbol, l),())\n",
    "#             total_checks[group_label][irrep_symbol].append(checking)\n",
    "#             all_checks.append(all(checking))\n",
    "# print(all_checks)"
   ]
  },
  {
   "cell_type": "code",
   "execution_count": null,
   "id": "39f6e954",
   "metadata": {},
   "outputs": [],
   "source": [
    "irrep_check(group, qet_groups, irrep_symbol, l)"
   ]
  },
  {
   "cell_type": "code",
   "execution_count": null,
   "id": "9ea29d67",
   "metadata": {},
   "outputs": [],
   "source": [
    "!beep"
   ]
  },
  {
   "cell_type": "code",
   "execution_count": null,
   "id": "0d7b0995",
   "metadata": {},
   "outputs": [],
   "source": [
    "total_checks = {}\n",
    "for group_label, basis_dict in all_the_symmetry_bases.items():\n",
    "    print(group_label)\n",
    "    group = CPGs.get_group_by_label(group_label)\n",
    "    total_checks[group_label] = {}\n",
    "    for irrep_symbol, l_dict in basis_dict[1].items():\n",
    "        total_checks[group_label][irrep_symbol] = []\n",
    "        for l, qet_groups in l_dict.items():\n",
    "            checking = irrep_check(group, qet_groups, irrep_symbol, l)\n",
    "            total_checks[group_label][irrep_symbol].append(checking)"
   ]
  },
  {
   "cell_type": "code",
   "execution_count": null,
   "id": "51be2a9d",
   "metadata": {},
   "outputs": [],
   "source": [
    "flat_checks = {}\n",
    "for group_label, basis_dict in total_checks.items():\n",
    "    flat_checks[group_label] = []\n",
    "    for irrep_symbol, l_dict in basis_dict[1].items():\n",
    "        flat_checks[irrep_symbol].append(total_checks[group_label][irrep_symbol])"
   ]
  },
  {
   "cell_type": "code",
   "execution_count": null,
   "id": "8642865e",
   "metadata": {},
   "outputs": [],
   "source": [
    "flat_checks"
   ]
  },
  {
   "cell_type": "code",
   "execution_count": null,
   "id": "e2b1e65f",
   "metadata": {},
   "outputs": [],
   "source": [
    "for check in checks:\n",
    "    print(check)\n",
    "    "
   ]
  },
  {
   "cell_type": "code",
   "execution_count": null,
   "id": "27cad229",
   "metadata": {},
   "outputs": [],
   "source": [
    "dir(group)"
   ]
  },
  {
   "cell_type": "code",
   "execution_count": null,
   "id": "7e623d7b",
   "metadata": {},
   "outputs": [],
   "source": [
    "# def real_or_imagined_global_unitary(qets):\n",
    "#     '''\n",
    "#     '''\n",
    "#     if len(qets) == 0:\n",
    "#         return qets\n",
    "#     phased_qets = list(map(real_or_imagined, qets))\n",
    "#     phases = set(list(map(lambda x: x[-1], phased_qets)))\n",
    "#     if None in phases:\n",
    "#         warnings.warn(\"no global acceptable phase found for\")\n",
    "#         return qets, 0\n",
    "#     elif all(list(map(lambda x: abs(x) == 1,phases))) or len(phases) == 1:\n",
    "#         return list(map(lambda x: x[1], phased_qets)), 1\n",
    "#     else:\n",
    "#         warnings.warn(\"no acceptable diagonal unitary transform found\")\n",
    "#         return qets, 2"
   ]
  },
  {
   "cell_type": "code",
   "execution_count": null,
   "id": "0d8c5f67",
   "metadata": {},
   "outputs": [],
   "source": [
    "all_the_symmetry_bases_real = {}\n",
    "clunky_ones = []\n",
    "for group_label, bases in all_the_symmetry_bases.items():\n",
    "    print(group_label)\n",
    "    all_the_symmetry_bases_real[group_label] = {}\n",
    "    for irrep, l_dict in bases.items():\n",
    "        # print(irrep)\n",
    "        all_the_symmetry_bases_real[group_label][irrep] = {}\n",
    "        for l, qet_groups in l_dict.items():\n",
    "            # print(l)\n",
    "            all_the_symmetry_bases_real[group_label][irrep][l] = []\n",
    "            for qet_group in qet_groups:\n",
    "                realized, flag = real_or_imagined_global_unitary(qet_group)\n",
    "                if flag in [0,2]:\n",
    "                    clunky_ones.append((group_label, irrep,l,qet_group))\n",
    "                all_the_symmetry_bases_real[group_label][irrep][l].append(realized)"
   ]
  },
  {
   "cell_type": "code",
   "execution_count": null,
   "id": "5d0f230c",
   "metadata": {},
   "outputs": [],
   "source": [
    "clunky_ones[1]"
   ]
  },
  {
   "cell_type": "code",
   "execution_count": null,
   "id": "a970eae6",
   "metadata": {},
   "outputs": [],
   "source": [
    "all_the_symmetry_bases['O'][sp.Symbol('T_1')][1]"
   ]
  },
  {
   "cell_type": "code",
   "execution_count": null,
   "id": "b83c5973",
   "metadata": {},
   "outputs": [],
   "source": [
    "all_the_symmetry_bases_real['O'][sp.Symbol('T_1')][1]"
   ]
  },
  {
   "cell_type": "code",
   "execution_count": null,
   "id": "f51a64da",
   "metadata": {},
   "outputs": [],
   "source": [
    "[checklist_args[idx] for idx in range(len(checklist)) if checklist[idx] == False]"
   ]
  },
  {
   "cell_type": "code",
   "execution_count": null,
   "id": "bbe5da72-0497-4092-88ff-d4a3a340b59a",
   "metadata": {
    "execution": {
     "iopub.execute_input": "2021-10-25T18:24:51.411471Z",
     "iopub.status.busy": "2021-10-25T18:24:51.409745Z",
     "iopub.status.idle": "2021-10-25T18:24:51.548909Z",
     "shell.execute_reply": "2021-10-25T18:24:51.548488Z",
     "shell.execute_reply.started": "2021-10-25T18:24:51.411350Z"
    }
   },
   "outputs": [],
   "source": [
    "pickle.dump(all_the_symmetry_bases, open('./data/symmetry_bases.pkl','wb'))"
   ]
  },
  {
   "cell_type": "code",
   "execution_count": null,
   "id": "eab8a837",
   "metadata": {},
   "outputs": [],
   "source": [
    "# See differences between this version and the previous one"
   ]
  },
  {
   "cell_type": "code",
   "execution_count": null,
   "id": "544b7538",
   "metadata": {},
   "outputs": [],
   "source": [
    "import pickle"
   ]
  },
  {
   "cell_type": "code",
   "execution_count": null,
   "id": "b8a0d7c5",
   "metadata": {},
   "outputs": [],
   "source": [
    "all_the_symmetry_bases_old = pickle.load(open('./data/old_symmetry_bases.pkl','rb'))"
   ]
  },
  {
   "cell_type": "code",
   "execution_count": null,
   "id": "c993a96a",
   "metadata": {},
   "outputs": [],
   "source": [
    "for irrep in all_the_symmetry_bases_old['O']:\n",
    "    for l in range(2,3):\n",
    "        old_one = all_the_symmetry_bases_old['O'][irrep][l]\n",
    "        new_one = all_the_symmetry_bases['O'][irrep][l]\n",
    "        jackpot = (irrep == sp.Symbol('E'))\n",
    "        if not (len(str(old_one)) == len(str(new_one))) or True:\n",
    "            print(\"-------------------\")\n",
    "            print(l, irrep)\n",
    "            print(\"old\",old_one)\n",
    "            print(\"**********\")\n",
    "            print(\"new\",new_one)"
   ]
  },
  {
   "cell_type": "code",
   "execution_count": null,
   "id": "8177c482",
   "metadata": {},
   "outputs": [],
   "source": [
    "(all_the_symmetry_bases['O'][sp.Symbol('T_2')][2][0])"
   ]
  },
  {
   "cell_type": "markdown",
   "id": "fbc829da",
   "metadata": {},
   "source": [
    "## Orthonormality Check (Visual)"
   ]
  },
  {
   "cell_type": "code",
   "execution_count": null,
   "id": "bf8e668a-adc7-4706-8c24-79414057bd41",
   "metadata": {
    "execution": {
     "iopub.execute_input": "2021-10-25T19:13:54.279899Z",
     "iopub.status.busy": "2021-10-25T19:13:54.278720Z",
     "iopub.status.idle": "2021-10-25T19:13:54.482938Z",
     "shell.execute_reply": "2021-10-25T19:13:54.482455Z",
     "shell.execute_reply.started": "2021-10-25T19:13:54.279835Z"
    },
    "tags": []
   },
   "outputs": [],
   "source": [
    "# all_the_symmetry_bases = symmetry_bases"
   ]
  },
  {
   "cell_type": "code",
   "execution_count": null,
   "id": "69bb69e3-1d2e-4003-82a1-6c37beca7f54",
   "metadata": {
    "execution": {
     "iopub.execute_input": "2021-10-25T19:13:55.308880Z",
     "iopub.status.busy": "2021-10-25T19:13:55.308478Z",
     "iopub.status.idle": "2021-10-25T19:13:55.701052Z",
     "shell.execute_reply": "2021-10-25T19:13:55.700694Z",
     "shell.execute_reply.started": "2021-10-25T19:13:55.308843Z"
    },
    "tags": []
   },
   "outputs": [],
   "source": [
    "lmax = 8\n",
    "base_matrices = {}\n",
    "for group_label in CPGs.all_group_labels:\n",
    "#     group = CPGs.get_group_by_label(group_label)\n",
    "    sym_bases = all_the_symmetry_bases[group_label]\n",
    "    group_irreps = list(sym_bases.keys())\n",
    "    these_matrices = {}\n",
    "    for l in range(lmax+1):\n",
    "        this_matrix = []\n",
    "        lbase = [(l,m) for m in range(-l,l+1)]\n",
    "        for irrep in group_irreps:\n",
    "            for g in sym_bases[irrep][l]:\n",
    "                for chunk in g:\n",
    "                    this_matrix.append(chunk.vec_in_basis(lbase))\n",
    "        these_matrices[l] = sp.Matrix(this_matrix).T\n",
    "    base_matrices[group_label] = these_matrices"
   ]
  },
  {
   "cell_type": "code",
   "execution_count": null,
   "id": "bd2b97e8-537c-4464-aeaa-aa2226864ddc",
   "metadata": {
    "collapsed": true,
    "execution": {
     "iopub.execute_input": "2021-10-25T19:14:02.329100Z",
     "iopub.status.busy": "2021-10-25T19:14:02.328500Z",
     "iopub.status.idle": "2021-10-25T19:14:20.733791Z",
     "shell.execute_reply": "2021-10-25T19:14:20.733388Z",
     "shell.execute_reply.started": "2021-10-25T19:14:02.329029Z"
    },
    "jupyter": {
     "outputs_hidden": true
    },
    "tags": []
   },
   "outputs": [],
   "source": [
    "lmax = 8\n",
    "for group_label in CPGs.all_group_labels:\n",
    "    fig, axes = plt.subplots(nrows=2, ncols=4,figsize=(9,6))\n",
    "    for l in range(1,lmax+1):\n",
    "        ax = axes[(l-1)//4,(l-1)%4]\n",
    "        basis = base_matrices[group_label][l]\n",
    "        basis_test = np.abs(np.array(sp.physics.quantum.Dagger(basis) * basis).astype(np.cdouble))\n",
    "        ax.imshow(basis_test, vmin=0, cmap = 'hot', interpolation=None)\n",
    "        ax.set_title('l=%d' % l)\n",
    "    fig.suptitle(r'$%s$' % group_label)\n",
    "    plt.tight_layout()\n",
    "    plt.show()\n",
    "    break"
   ]
  },
  {
   "cell_type": "markdown",
   "id": "6adea8bf-78ff-4ea7-8896-556c84bf418f",
   "metadata": {
    "tags": []
   },
   "source": [
    "### Seeing if the flattened basis is orthogonal"
   ]
  },
  {
   "cell_type": "code",
   "execution_count": null,
   "id": "0805335d-721a-4144-9d97-a969990d7174",
   "metadata": {
    "execution": {
     "iopub.execute_input": "2021-10-25T18:59:56.427690Z",
     "iopub.status.busy": "2021-10-25T18:59:56.427204Z",
     "iopub.status.idle": "2021-10-25T18:59:56.801968Z",
     "shell.execute_reply": "2021-10-25T18:59:56.801579Z",
     "shell.execute_reply.started": "2021-10-25T18:59:56.427637Z"
    },
    "tags": []
   },
   "outputs": [],
   "source": [
    "lmax = 8\n",
    "base_matrices = {}\n",
    "for group_label in CPGs.all_group_labels:\n",
    "    group = CPGs.get_group_by_label(group_label)\n",
    "    sym_bases = group.symmetry_adapted_bases\n",
    "    group_irreps = group.irrep_labels\n",
    "    these_matrices = {}\n",
    "    for l in range(lmax+1):\n",
    "        this_matrix = []\n",
    "        lbase = [(l,m) for m in range(-l,l+1)]\n",
    "        for irrep in group_irreps:\n",
    "            for g in sym_bases[irrep][l]:\n",
    "                for chunk in g:\n",
    "                    this_matrix.append(chunk.vec_in_basis(lbase))\n",
    "        these_matrices[l] = sp.Matrix(this_matrix).T\n",
    "    base_matrices[group_label] = these_matrices"
   ]
  },
  {
   "cell_type": "code",
   "execution_count": null,
   "id": "66c07411-b8a0-43f6-a835-adc948a38d10",
   "metadata": {
    "execution": {
     "iopub.execute_input": "2021-10-25T18:59:57.369449Z",
     "iopub.status.busy": "2021-10-25T18:59:57.368811Z",
     "iopub.status.idle": "2021-10-25T19:00:16.112103Z",
     "shell.execute_reply": "2021-10-25T19:00:16.111698Z",
     "shell.execute_reply.started": "2021-10-25T18:59:57.369378Z"
    },
    "tags": []
   },
   "outputs": [],
   "source": [
    "lmax = 8\n",
    "for group_label in CPGs.all_group_labels:\n",
    "    fig, axes = plt.subplots(nrows=2, ncols=4,figsize=(9,6))\n",
    "    for l in range(1,lmax+1):\n",
    "        ax = axes[(l-1)//4,(l-1)%4]\n",
    "        basis = base_matrices[group_label][l]\n",
    "        basis_test = np.abs(np.array(sp.physics.quantum.Dagger(basis) * basis).astype(np.cdouble))\n",
    "        ax.imshow(basis_test, vmin=0, cmap = 'hot', interpolation=None)\n",
    "        ax.set_title('l=%d' % l)\n",
    "    fig.suptitle(r'$%s$' % group_label)\n",
    "    plt.tight_layout()\n",
    "    plt.show()\n",
    "    break"
   ]
  },
  {
   "cell_type": "markdown",
   "id": "7e4b6d56-07bc-4970-86bd-27c9f5979bd5",
   "metadata": {
    "execution": {
     "iopub.execute_input": "2021-10-21T13:44:15.054894Z",
     "iopub.status.busy": "2021-10-21T13:44:15.054445Z",
     "iopub.status.idle": "2021-10-21T13:44:15.243730Z",
     "shell.execute_reply": "2021-10-21T13:44:15.243206Z",
     "shell.execute_reply.started": "2021-10-21T13:44:15.054851Z"
    },
    "tags": []
   },
   "source": [
    "# `qet_to_irrep_basis` "
   ]
  },
  {
   "cell_type": "code",
   "execution_count": null,
   "id": "4285fc83-da80-4502-9b66-745efa1c67a9",
   "metadata": {
    "execution": {
     "iopub.execute_input": "2021-10-23T00:35:33.303558Z",
     "iopub.status.busy": "2021-10-23T00:35:33.303184Z",
     "iopub.status.idle": "2021-10-23T00:35:33.435792Z",
     "shell.execute_reply": "2021-10-23T00:35:33.434790Z",
     "shell.execute_reply.started": "2021-10-23T00:35:33.303520Z"
    },
    "tags": []
   },
   "outputs": [],
   "source": [
    "qet = Qet({(2,-1):-1/sp.S(2), (2,0):1/sp.S(2), (2,1):1/sp.S(2)})\n",
    "lmqet_to_irrepqet('O', qet)"
   ]
  },
  {
   "cell_type": "code",
   "execution_count": null,
   "id": "33fcedc4-4336-4390-89d9-7a9d42fbf1a6",
   "metadata": {
    "execution": {
     "iopub.execute_input": "2021-10-23T00:25:55.007654Z",
     "iopub.status.busy": "2021-10-23T00:25:55.007152Z",
     "iopub.status.idle": "2021-10-23T00:25:55.197118Z",
     "shell.execute_reply": "2021-10-23T00:25:55.196695Z",
     "shell.execute_reply.started": "2021-10-23T00:25:55.007613Z"
    },
    "tags": []
   },
   "outputs": [],
   "source": [
    "def lmqet_to_irrepqet_v0(group_label, qet, returnbasis=False):\n",
    "    '''\n",
    "    Given  a qet whose keys are (l,m) values, for a shared value\n",
    "    of l this function determines the representation in terms of\n",
    "    irreducible basis functions.\n",
    "    \n",
    "    Note    that    the    basis   obtained   from   irreducible\n",
    "    representations   may  not  necessarily  be  orthonormal  or\n",
    "    complete.\n",
    "    \n",
    "    Parameters\n",
    "    ----------\n",
    "    \n",
    "    group_label : str\n",
    "                A  label for crystallographic point group, must be\n",
    "                one of CGPs.all_group_labels\n",
    "    qet         : Qet\n",
    "                A  Qet  whose  keys are assumed to be tuples (l,m)\n",
    "                and whose values are complex numbers.\n",
    "    returnbasis : bool\n",
    "                If  True, the function also returns the list whose\n",
    "                elements are the coefficients of the basis vectors\n",
    "                used  in  the  decomposition.  This may be used to\n",
    "                check if the basis is orthonormal.\n",
    "    \n",
    "    Returns\n",
    "    -------\n",
    "\n",
    "    tuple : (l, p_qet)\n",
    "    \n",
    "        l       : int\n",
    "                The value of l for the input Qet.\n",
    "        p_qet   : Qet\n",
    "                A  Qet  whose  keys  are  labels  to components of\n",
    "                irreducible   reps   and   whose  values  are  the\n",
    "                corresponding coefficients. If the component label\n",
    "                is  accompanied  by  a  left-superindex  then that\n",
    "                number  in  parenthesis  is  indexing which of the\n",
    "                basis this component is referring to.\n",
    "\n",
    "    See Also\n",
    "    --------\n",
    "    irrepqet_to_lmqet\n",
    "\n",
    "    Example\n",
    "    -------\n",
    "    \n",
    "    >>> qet = Qet({(2,-1):-1/2, (2,0):1/2, (2,1):1/2})\n",
    "    >>> print(lmqet_to_irrepqet('O', qet))\n",
    "        (2,\n",
    "        Qet({u_{E}  : 1/2, \n",
    "             y_{T_2}: -sqrt(2)/2}\n",
    "           )\n",
    "        )\n",
    "    '''\n",
    "    group = CPGs.get_group_by_label(group_label)\n",
    "    irrep_basis = group.symmetry_adapted_bases\n",
    "    irrep_labels = group.irrep_labels\n",
    "    # for brevity I will only consider the case where there is a single l represented\n",
    "    # in the qet\n",
    "    ls = list(set((map(lambda x: x[0],qet.dict.keys()))))\n",
    "    assert len(ls) == 1, \"qet must be a supersposition of equal values of l\"\n",
    "    l = ls[0]\n",
    "    l_basis = [(l,m) for m in range(-l,l+1)]\n",
    "    # pick out all the parts for this value of l\n",
    "    this_irrep_basis = {ir: irrep_basis[ir][l] for ir in irrep_labels}\n",
    "    # kick out the ones that are empty\n",
    "    this_irrep_basis = {k:v for k,v in this_irrep_basis.items() if len(v) != 0}\n",
    "    size_of_basis = {k:len(v) for k, v in this_irrep_basis.items()}\n",
    "    # convert the qets in the bases to coordinate vectors in the standard basis\n",
    "    this_irrep_basis = {(irrep_label,basis_idx):list(map(lambda x: x.vec_in_basis(l_basis), basis)) \\\n",
    "                   for irrep_label, bases in this_irrep_basis.items() \\\n",
    "                   for basis_idx, basis in enumerate(bases)}\n",
    "    # flatten and grab component labels\n",
    "    nice_basis = {}\n",
    "    \n",
    "    for k, basis in this_irrep_basis.items():\n",
    "        irrep_label = k[0]\n",
    "        basis_idx = k[1]\n",
    "        irrep_dim = group.irrep_dims[irrep_label]\n",
    "        num_basis_vecs =  size_of_basis[irrep_label]\n",
    "        if num_basis_vecs == 1:\n",
    "            basis_labels = [(irrep_label,i,basis_idx,(group.component_labels[irrep_label][i])) for i in range((irrep_dim))]\n",
    "        else:\n",
    "            basis_labels = [(irrep_label,i,basis_idx,sp.Symbol((\"{}^{(%d)}%s\") % (basis_idx+1,str(group.component_labels[irrep_label][i])))) for i in range((irrep_dim))]\n",
    "        nice_basis.update(OrderedDict(zip(basis_labels, basis)))\n",
    "    # finally, proyect the qet onto the basis\n",
    "    proyected_qet = {}\n",
    "    c_qet = qet.vec_in_basis(l_basis)\n",
    "    p_qet = {k:sp.Matrix(c_qet).dot(sp.Matrix(v)) for k,v in nice_basis.items()}\n",
    "    # clean out bits that are zero, and convert to Qet\n",
    "    p_qet = Qet({k[-1]: v for k,v in p_qet.items() if v!=0})\n",
    "    if returnbasis:\n",
    "        return l, p_qet, list(nice_basis.values())\n",
    "    else:\n",
    "        return l, p_qet"
   ]
  },
  {
   "cell_type": "code",
   "execution_count": null,
   "id": "cf8b7e2b-c43d-4f39-bcf9-057849936a0c",
   "metadata": {
    "execution": {
     "iopub.execute_input": "2021-10-23T15:58:15.271295Z",
     "iopub.status.busy": "2021-10-23T15:58:15.270651Z",
     "iopub.status.idle": "2021-10-23T15:58:55.755760Z",
     "shell.execute_reply": "2021-10-23T15:58:55.755315Z",
     "shell.execute_reply.started": "2021-10-23T15:58:15.271222Z"
    },
    "tags": []
   },
   "outputs": [],
   "source": [
    "lmax = 8\n",
    "change_of_basis_matrices = {}\n",
    "for group_label in CPGs.all_group_labels:\n",
    "    print('\\n%s\\n%s\\n%s' % (\"#\"*len(group_label),group_label,\"#\"*len(group_label)))\n",
    "    group = CPGs.get_group_by_label(group_label)\n",
    "    irrep_basis = group.symmetry_adapted_bases\n",
    "    irrep_labels = group.irrep_labels\n",
    "    all_matrices = {}\n",
    "    bases_with_labels = {}\n",
    "    for l in range(lmax+1):\n",
    "        print('%s%d' % (\"l = \",l),end=' | ')\n",
    "        l_basis = [(l,m) for m in range(-l,l+1)]\n",
    "        # pick out all the parts for this value of l\n",
    "        this_irrep_basis = {ir: irrep_basis[ir][l] for ir in irrep_labels}\n",
    "        # kick out the ones that are empty\n",
    "        this_irrep_basis = {k:v for k,v in this_irrep_basis.items() if len(v) != 0}\n",
    "        size_of_basis = {k:len(v) for k, v in this_irrep_basis.items()}\n",
    "        # convert the qets in the bases to coordinate vectors in the standard basis\n",
    "        this_irrep_basis = {(irrep_label,basis_idx):list(map(lambda x: x.vec_in_basis(l_basis), basis)) \\\n",
    "                       for irrep_label, bases in this_irrep_basis.items() \\\n",
    "                       for basis_idx, basis in enumerate(bases)}\n",
    "        # flatten and grab component labels\n",
    "        all_basis_labels = []\n",
    "        full_basis_cols = []\n",
    "        for k, basis in this_irrep_basis.items():\n",
    "            irrep_label = k[0]\n",
    "            basis_idx = k[1]\n",
    "            irrep_dim = group.irrep_dims[irrep_label]\n",
    "            num_basis_vecs =  size_of_basis[irrep_label]\n",
    "            if num_basis_vecs == 1:\n",
    "                basis_labels = [{'irrep_idx': i,\n",
    "                                 'irrep_label': irrep_label,\n",
    "                                 'basis_idx': basis_idx,\n",
    "                                 'component_label':(group.component_labels[irrep_label][i])} for i in range((irrep_dim))]\n",
    "            else:\n",
    "                basis_labels = [{'irrep_idx': i,\n",
    "                                 'irrep_label':irrep_label,\n",
    "                                 'basis_idx': basis_idx,\n",
    "                                 'component_label':sp.Symbol((\"{}^{(%d)}%s\") % \\\n",
    "                                                             (basis_idx+1,str(group.component_labels[irrep_label][i])))\n",
    "                                } for i in range((irrep_dim))]\n",
    "            all_basis_labels.extend(basis_labels)\n",
    "            full_basis_cols.extend(basis)\n",
    "        thedirectmatrix = sp.Matrix(full_basis_cols).T\n",
    "        theinversematrix = sp.simplify(thedirectmatrix.inv())\n",
    "        bases_with_labels[l] = {'basis_vec_symbols': all_basis_labels, \n",
    "                                'coord_transform_matrix_from_ir_to_lm': thedirectmatrix,\n",
    "                                'coord_transform_matrix_from_lm_to_ir': theinversematrix}\n",
    "        assert thedirectmatrix.rows == 2*l+1, \"This ain't right.\"\n",
    "    change_of_basis_matrices[group_label] = bases_with_labels\n"
   ]
  },
  {
   "cell_type": "code",
   "execution_count": null,
   "id": "7f1e278f-3f4d-49f6-b2a2-d8688b4b082d",
   "metadata": {
    "execution": {
     "iopub.execute_input": "2021-10-23T16:11:27.672256Z",
     "iopub.status.busy": "2021-10-23T16:11:27.671909Z",
     "iopub.status.idle": "2021-10-23T16:11:27.902744Z",
     "shell.execute_reply": "2021-10-23T16:11:27.902181Z",
     "shell.execute_reply.started": "2021-10-23T16:11:27.672220Z"
    },
    "tags": []
   },
   "outputs": [],
   "source": [
    "qet = Qet({(2,-1):-sp.S(1)/2, (2,0):sp.S(1)/2, (2,1):sp.S(1)/2})\n",
    "group_label = 'O'\n",
    "group = CPGs.get_group_by_label(group_label)\n",
    "# for brevity I will only consider the case where there is a single l represented\n",
    "# in the qet\n",
    "ls = list(set((map(lambda x: x[0],qet.dict.keys()))))\n",
    "assert len(ls) == 1, \"qet must be a supersposition of equal values of l\"\n",
    "l = ls[0]\n",
    "l_basis = [(l,m) for m in range(-l,l+1)]\n",
    "c_qet = sp.Matrix(qet.vec_in_basis(l_basis))\n",
    "component_labels = [x['component_label'] for x in change_of_basis_matrices[group_label][l]['basis_vec_symbols']]\n",
    "CB_matrix = change_of_basis_matrices[group_label][l]['coord_transform_matrix_from_lm_to_ir']\n",
    "ir_coeffs = list(CB_matrix*c_qet)\n",
    "qet_dict = {k:v for k,v in zip(component_labels, ir_coeffs) if v !=0}\n",
    "ir_qet = Qet(qet_dict)\n",
    "CB_matrix = change_of_basis_matrices[group_label][l]['coord_transform_matrix_from_ir_to_lm']\n",
    "lm_coeffs = list(CB_matrix*sp.Matrix(ir_coeffs))\n",
    "lm_dict = {k:v for k,v in zip(l_basis, lm_coeffs) if v !=0}\n",
    "lm_qet = Qet(lm_dict)"
   ]
  },
  {
   "cell_type": "code",
   "execution_count": null,
   "id": "689e88e7-268d-4f48-9b10-3df6b519db7f",
   "metadata": {
    "execution": {
     "iopub.execute_input": "2021-10-23T16:08:58.173380Z",
     "iopub.status.busy": "2021-10-23T16:08:58.172947Z",
     "iopub.status.idle": "2021-10-23T16:08:58.329281Z",
     "shell.execute_reply": "2021-10-23T16:08:58.328733Z",
     "shell.execute_reply.started": "2021-10-23T16:08:58.173341Z"
    },
    "tags": []
   },
   "outputs": [],
   "source": [
    "ir_qet.as_ket()"
   ]
  },
  {
   "cell_type": "code",
   "execution_count": null,
   "id": "f2da2e3f-8f73-4d66-9db8-525d7bb5bbf2",
   "metadata": {
    "execution": {
     "iopub.execute_input": "2021-10-23T16:02:44.357790Z",
     "iopub.status.busy": "2021-10-23T16:02:44.357427Z",
     "iopub.status.idle": "2021-10-23T16:02:44.545543Z",
     "shell.execute_reply": "2021-10-23T16:02:44.545187Z",
     "shell.execute_reply.started": "2021-10-23T16:02:44.357749Z"
    },
    "tags": []
   },
   "outputs": [],
   "source": [
    "ir_qet"
   ]
  },
  {
   "cell_type": "code",
   "execution_count": null,
   "id": "2d28a488-a5d1-42f9-886d-86e8efe88c52",
   "metadata": {
    "execution": {
     "iopub.execute_input": "2021-10-23T16:01:07.944622Z",
     "iopub.status.busy": "2021-10-23T16:01:07.944280Z",
     "iopub.status.idle": "2021-10-23T16:01:08.086499Z",
     "shell.execute_reply": "2021-10-23T16:01:08.085983Z",
     "shell.execute_reply.started": "2021-10-23T16:01:07.944586Z"
    }
   },
   "outputs": [],
   "source": [
    "c_qet"
   ]
  },
  {
   "cell_type": "code",
   "execution_count": null,
   "id": "575e278a-2c8b-4afd-8ba8-857eef5f373e",
   "metadata": {},
   "outputs": [],
   "source": [
    "def lmqet_to_irrepqet_v1(group_label, qet):\n",
    "    '''\n",
    "    Given  a qet whose keys are (l,m) values, for a shared value\n",
    "    of l this function determines the representation in terms of\n",
    "    irreducible basis functions.\n",
    "    \n",
    "    Parameters\n",
    "    ----------\n",
    "    \n",
    "    group_label : str\n",
    "                A  label for crystallographic point group, must be\n",
    "                one of CGPs.all_group_labels\n",
    "    qet         : Qet\n",
    "                A  Qet  whose  keys are assumed to be tuples (l,m)\n",
    "                and whose values are complex numbers.\n",
    "    \n",
    "    Returns\n",
    "    -------\n",
    "\n",
    "    tuple : (l, p_qet)\n",
    "    \n",
    "        l       : int\n",
    "                The value of l for the input Qet.\n",
    "        p_qet   : Qet\n",
    "                A  Qet  whose  keys  are  labels  to components of\n",
    "                irreducible   reps   and   whose  values  are  the\n",
    "                corresponding coefficients. If the component label\n",
    "                is  accompanied  by  a  left-superindex  then that\n",
    "                number  in  parenthesis  is  indexing which of the\n",
    "                basis this component is referring to.\n",
    "\n",
    "    See Also\n",
    "    --------\n",
    "    irrepqet_to_lmqet\n",
    "\n",
    "    Example\n",
    "    -------\n",
    "    \n",
    "    >>> qet = Qet({(2,-1):-1/2, (2,0):1/2, (2,1):1/2})\n",
    "    >>> print(lmqet_to_irrepqet('O', qet))\n",
    "        (2,\n",
    "        Qet({u_{E}  : 1/2, \n",
    "             y_{T_2}: -sqrt(2)/2}\n",
    "           )\n",
    "        )\n",
    "    '''\n",
    "    group = CPGs.get_group_by_label(group_label)\n",
    "    # for brevity I will only consider the case where there is a single l represented\n",
    "    # in the qet\n",
    "    ls = list(set((map(lambda x: x[0],qet.dict.keys()))))\n",
    "    assert len(ls) == 1, \"qet must be a supersposition of equal values of l\"\n",
    "    l = ls[0]\n",
    "    l_basis = [(l,m) for m in range(-l,l+1)]\n",
    "    c_qet = sp.Matrix(qet.vec_in_basis(l_basis))\n",
    "    # pick out all the parts for this value of l\n",
    "    this_irrep_basis = {ir: irrep_basis[ir][l] for ir in irrep_labels}\n",
    "    # kick out the ones that are empty\n",
    "    this_irrep_basis = {k:v for k,v in this_irrep_basis.items() if len(v) != 0}\n",
    "    size_of_basis = {k:len(v) for k, v in this_irrep_basis.items()}\n",
    "    # convert the qets in the bases to coordinate vectors in the standard basis\n",
    "    this_irrep_basis = {(irrep_label,basis_idx):list(map(lambda x: x.vec_in_basis(l_basis), basis)) \\\n",
    "                   for irrep_label, bases in this_irrep_basis.items() \\\n",
    "                   for basis_idx, basis in enumerate(bases)}\n",
    "    # flatten and grab component labels\n",
    "    nice_basis = {}\n",
    "    \n",
    "    for k, basis in this_irrep_basis.items():\n",
    "        irrep_label = k[0]\n",
    "        basis_idx = k[1]\n",
    "        irrep_dim = group.irrep_dims[irrep_label]\n",
    "        num_basis_vecs =  size_of_basis[irrep_label]\n",
    "        if num_basis_vecs == 1:\n",
    "            basis_labels = [(irrep_label,i,basis_idx,(group.component_labels[irrep_label][i])) for i in range((irrep_dim))]\n",
    "        else:\n",
    "            basis_labels = [(irrep_label,i,basis_idx,sp.Symbol((\"{}^{(%d)}%s\") % (basis_idx+1,str(group.component_labels[irrep_label][i])))) for i in range((irrep_dim))]\n",
    "        nice_basis.update(OrderedDict(zip(basis_labels, basis)))\n",
    "    # finally, proyect the qet onto the basis\n",
    "    proyected_qet = {}\n",
    "    c_qet = qet.vec_in_basis(l_basis)\n",
    "    p_qet = {k:sp.Matrix(c_qet).dot(sp.Matrix(v)) for k,v in nice_basis.items()}\n",
    "    # clean out bits that are zero, and convert to Qet\n",
    "    p_qet = Qet({k[-1]: v for k,v in p_qet.items() if v!=0})\n",
    "    if returnbasis:\n",
    "        return l, p_qet, list(nice_basis.values())\n",
    "    else:\n",
    "        return l, p_qet"
   ]
  },
  {
   "cell_type": "code",
   "execution_count": null,
   "id": "5bf22b6c-d07b-4140-b0a8-96ad41179c14",
   "metadata": {
    "execution": {
     "iopub.execute_input": "2021-10-23T00:35:38.923163Z",
     "iopub.status.busy": "2021-10-23T00:35:38.922556Z",
     "iopub.status.idle": "2021-10-23T00:35:39.144102Z",
     "shell.execute_reply": "2021-10-23T00:35:39.143731Z",
     "shell.execute_reply.started": "2021-10-23T00:35:38.923091Z"
    },
    "tags": []
   },
   "outputs": [],
   "source": [
    "_,_,basis = (lmqet_to_irrepqet('O',lmqet,True))"
   ]
  },
  {
   "cell_type": "code",
   "execution_count": null,
   "id": "19918224-9d6a-493e-985a-0c9ddb1c963b",
   "metadata": {
    "execution": {
     "iopub.execute_input": "2021-10-25T14:18:22.333215Z",
     "iopub.status.busy": "2021-10-25T14:18:22.332526Z",
     "iopub.status.idle": "2021-10-25T14:18:29.962542Z",
     "shell.execute_reply": "2021-10-25T14:18:29.962167Z",
     "shell.execute_reply.started": "2021-10-25T14:18:22.333140Z"
    },
    "tags": []
   },
   "outputs": [],
   "source": [
    "# check to see if the rank of the matrices matches\n",
    "# the number of basis vectors this makes them be\n",
    "# linearly independent\n",
    "matrix_bases = {}\n",
    "lmax = 8\n",
    "for group_label in CPGs.all_group_labels:\n",
    "    print(group_label, end=' || ')\n",
    "    for l in range(lmax+1):\n",
    "        dummy_ket = Qet({(l,0):1})\n",
    "        _,_,basis = (lmqet_to_irrepqet(group_label,dummy_ket,True))\n",
    "        check = (sp.Matrix(basis).rank()==len(basis))\n",
    "        matrix_bases[(group_label, l)] = (l, basis, len(basis), check)"
   ]
  },
  {
   "cell_type": "code",
   "execution_count": null,
   "id": "40d092df-e754-4f45-9d0d-aeb627816100",
   "metadata": {
    "execution": {
     "iopub.execute_input": "2021-10-23T00:35:49.316210Z",
     "iopub.status.busy": "2021-10-23T00:35:49.315674Z",
     "iopub.status.idle": "2021-10-23T00:35:49.490664Z",
     "shell.execute_reply": "2021-10-23T00:35:49.490269Z",
     "shell.execute_reply.started": "2021-10-23T00:35:49.316152Z"
    },
    "tags": []
   },
   "outputs": [],
   "source": [
    "checks = [k[-1] for k in matrix_bases.values()]\n",
    "print('rank checks : %d/%d' %(sum(checks),len(checks)))\n",
    "dim_checks = [(k[2] == (2*k[0]+1)) for k in matrix_bases.values()]\n",
    "print('dim  checks : %d/%d' %(sum(dim_checks),len(dim_checks)))"
   ]
  },
  {
   "cell_type": "code",
   "execution_count": null,
   "id": "3e9fed03-50d4-45e2-b087-b16d3cff1438",
   "metadata": {
    "execution": {
     "iopub.execute_input": "2021-10-23T00:37:56.526052Z",
     "iopub.status.busy": "2021-10-23T00:37:56.525694Z",
     "iopub.status.idle": "2021-10-23T00:37:56.704949Z",
     "shell.execute_reply": "2021-10-23T00:37:56.704507Z",
     "shell.execute_reply.started": "2021-10-23T00:37:56.526016Z"
    },
    "tags": []
   },
   "outputs": [],
   "source": [
    "from itertools import combinations"
   ]
  },
  {
   "cell_type": "code",
   "execution_count": null,
   "id": "56aef742-4231-44ed-b2ad-c00f82e32adc",
   "metadata": {
    "execution": {
     "iopub.execute_input": "2021-10-23T00:35:54.141998Z",
     "iopub.status.busy": "2021-10-23T00:35:54.141582Z",
     "iopub.status.idle": "2021-10-23T00:36:11.524404Z",
     "shell.execute_reply": "2021-10-23T00:36:11.524061Z",
     "shell.execute_reply.started": "2021-10-23T00:35:54.141960Z"
    },
    "tags": []
   },
   "outputs": [],
   "source": [
    "lmax = 8\n",
    "for group_label in CPGs.all_group_labels:\n",
    "    fig, axes = plt.subplots(nrows=2, ncols=4,figsize=(9,6))\n",
    "    for l in range(1,lmax+1):\n",
    "        ax = axes[(l-1)//4,(l-1)%4]\n",
    "        basis = matrix_bases[(group_label, l)][1]\n",
    "        basis_test = np.abs(np.array(sp.Matrix(basis) * sp.physics.quantum.Dagger(sp.Matrix(basis))).astype(np.cdouble))\n",
    "        ax.imshow(basis_test, vmin=0, vmax=1, cmap = 'hot', interpolation=None)\n",
    "        ax.set_title('l=%d' % l)\n",
    "    fig.suptitle(r'$%s$' % group_label)\n",
    "    plt.tight_layout()\n",
    "    plt.show()"
   ]
  },
  {
   "cell_type": "code",
   "execution_count": null,
   "id": "d87ea2a6-6f9b-4353-8fdc-2a656f6afbdd",
   "metadata": {
    "execution": {
     "iopub.execute_input": "2021-10-25T13:51:36.934279Z",
     "iopub.status.busy": "2021-10-25T13:51:36.933651Z",
     "iopub.status.idle": "2021-10-25T13:51:37.132594Z",
     "shell.execute_reply": "2021-10-25T13:51:37.132214Z",
     "shell.execute_reply.started": "2021-10-25T13:51:36.934213Z"
    },
    "tags": []
   },
   "outputs": [],
   "source": [
    "def cosY(l,m,coeff):\n",
    "    if m == 0:\n",
    "        return sp.S(coeff)*Qet({(l,0):1})\n",
    "    return sp.S(coeff)/sp.sqrt(2)*Qet({(l,m):1,(l,-m):1})\n",
    "def sinY(l,m,coeff):\n",
    "    if m == 0:\n",
    "        return sp.S(coeff)*Qet({(l,0):1})\n",
    "    return sp.I*sp.S(coeff)/sp.sqrt(2)*Qet({(l,m):1,(l,-m):-1})"
   ]
  },
  {
   "cell_type": "code",
   "execution_count": null,
   "id": "bb0ff1dd-d3d2-4bf9-98c2-87bce5ae714f",
   "metadata": {
    "execution": {
     "iopub.execute_input": "2021-10-25T15:06:40.471979Z",
     "iopub.status.busy": "2021-10-25T15:06:40.471636Z",
     "iopub.status.idle": "2021-10-25T15:06:40.656000Z",
     "shell.execute_reply": "2021-10-25T15:06:40.655597Z",
     "shell.execute_reply.started": "2021-10-25T15:06:40.471943Z"
    },
    "tags": []
   },
   "outputs": [],
   "source": [
    "# bradley basis for l=5\n",
    "bs = {}\n",
    "l = 5\n",
    "bs[sp.Symbol('A_1')] = []\n",
    "bs[sp.Symbol('A_2')] = []\n",
    "bs[sp.Symbol('E')] = [[sinY(5,4,1),sinY(5,2,-1)]]\n",
    "bs[sp.Symbol('T_1')] = [[cosY(l,1,0.484)+cosY(l,3,-0.523)+cosY(l,5,0.702),\n",
    "                         sinY(l,1,0.484)+sinY(l,3,0.523)+sinY(l,5,0.702),\n",
    "                         cosY(l,0,1)],\n",
    "                        [cosY(l,1,0.573)+cosY(l,3,0.795)+cosY(l,5,0.197),\n",
    "                         sinY(l,1,0.573)+sinY(l,3,-0.795)+sinY(l,5,0.197),\n",
    "                         cosY(l,4,1)]] \n",
    "bs[sp.Symbol('T_2')] = [[cosY(l,1,0.661)+cosY(l,3,-0.306)+cosY(l,5,-0.684),\n",
    "                         sinY(l,1,-0.661)+sinY(l,3,-0.306)+sinY(l,5,0.684),\n",
    "                         cosY(l,2,1)]]\n",
    "basis_5 = [(l,m) for m in range(-l,l+1)]\n",
    "all_components = []\n",
    "for irrep_symbol in bs.keys():\n",
    "    for component in bs[irrep_symbol]:\n",
    "        all_components.extend([c.vec_in_basis(basis_5) for c in component])\n",
    "tee = sp.Matrix(all_components)"
   ]
  },
  {
   "cell_type": "code",
   "execution_count": null,
   "id": "66197a1f-59f3-46d7-b968-88acd3db2029",
   "metadata": {
    "execution": {
     "iopub.execute_input": "2021-10-25T14:35:55.522635Z",
     "iopub.status.busy": "2021-10-25T14:35:55.522065Z",
     "iopub.status.idle": "2021-10-25T14:35:55.687064Z",
     "shell.execute_reply": "2021-10-25T14:35:55.686675Z",
     "shell.execute_reply.started": "2021-10-25T14:35:55.522578Z"
    },
    "tags": []
   },
   "outputs": [],
   "source": [
    "basis_5_mine = {k: [v1 for k1,v1 in v.items() if k1 == 5] for k,v in symmetry_bases['O'].items()}"
   ]
  },
  {
   "cell_type": "code",
   "execution_count": null,
   "id": "36178541-3c12-457d-84fc-e3f3de15e9bc",
   "metadata": {
    "execution": {
     "iopub.execute_input": "2021-10-25T15:07:45.854676Z",
     "iopub.status.busy": "2021-10-25T15:07:45.853984Z",
     "iopub.status.idle": "2021-10-25T15:07:46.064399Z",
     "shell.execute_reply": "2021-10-25T15:07:46.064054Z",
     "shell.execute_reply.started": "2021-10-25T15:07:45.854602Z"
    },
    "tags": []
   },
   "outputs": [],
   "source": [
    "all_my_components = []\n",
    "for irrep_symbol in basis_5_mine.keys():\n",
    "    for component in basis_5_mine[irrep_symbol]:\n",
    "        for c in component:\n",
    "            all_my_components.extend([zee.vec_in_basis(basis_5) for zee in c])\n",
    "all_my_components = sp.Matrix(all_my_components)"
   ]
  },
  {
   "cell_type": "code",
   "execution_count": null,
   "id": "484df409-fc4e-4283-b259-dc01226f17e1",
   "metadata": {
    "execution": {
     "iopub.execute_input": "2021-10-25T15:06:10.614343Z",
     "iopub.status.busy": "2021-10-25T15:06:10.613847Z",
     "iopub.status.idle": "2021-10-25T15:06:10.807034Z",
     "shell.execute_reply": "2021-10-25T15:06:10.806579Z",
     "shell.execute_reply.started": "2021-10-25T15:06:10.614288Z"
    },
    "tags": []
   },
   "outputs": [],
   "source": [
    "\n",
    "# fig, ax = plt.subplots(figsize=(4,4))\n",
    "# basis = matrix_bases[(group_label, l)][1]\n",
    "# ax.imshow(np.abs(tee).astype(np.float64), vmin=0, vmax=1, cmap = 'hot', interpolation=None)\n",
    "# ax.set_title('l=%d' % l)\n",
    "# fig.suptitle(r'$%s$' % group_label)\n",
    "# plt.tight_layout()\n",
    "# plt.show()"
   ]
  },
  {
   "cell_type": "code",
   "execution_count": null,
   "id": "7882aef6-fb2c-4884-8164-a3ac3f70f8d0",
   "metadata": {
    "execution": {
     "iopub.execute_input": "2021-10-25T15:09:41.506937Z",
     "iopub.status.busy": "2021-10-25T15:09:41.506307Z",
     "iopub.status.idle": "2021-10-25T15:09:41.778603Z",
     "shell.execute_reply": "2021-10-25T15:09:41.778183Z",
     "shell.execute_reply.started": "2021-10-25T15:09:41.506863Z"
    },
    "tags": []
   },
   "outputs": [],
   "source": [
    "fig, axes = plt.subplots(ncols=2, nrows=1, figsize=(8,4))\n",
    "axes[0].imshow(np.abs(all_my_components*sp.physics.quantum.Dagger(all_my_components)).astype(np.float64), vmin=0, vmax=1, cmap = 'hot', interpolation=None)\n",
    "axes[0].set_title('my basis')\n",
    "axes[1].imshow(np.abs(np.array(tee*sp.physics.quantum.Dagger(tee))).astype(np.float64)\n",
    "           ,vmin=0, vmax=1, cmap = 'hot', interpolation=None)\n",
    "axes[1].set_title('B&C basis')\n",
    "# plt.tight_layout()\n",
    "plt.show()"
   ]
  },
  {
   "cell_type": "code",
   "execution_count": null,
   "id": "ded5aba9-cbce-4f04-abd9-9e6c04c3b9b8",
   "metadata": {
    "execution": {
     "iopub.execute_input": "2021-10-23T00:32:24.364021Z",
     "iopub.status.busy": "2021-10-23T00:32:24.363454Z",
     "iopub.status.idle": "2021-10-23T00:32:24.514186Z",
     "shell.execute_reply": "2021-10-23T00:32:24.513782Z",
     "shell.execute_reply.started": "2021-10-23T00:32:24.363948Z"
    },
    "tags": []
   },
   "outputs": [],
   "source": [
    "group_label = 'O'\n",
    "lmqet = Qet({(2,-2):sp.Symbol('a'), (2,0): sp.S(1)/sp.sqrt(3), (2,2): sp.S(1)/sp.sqrt(3)})\n",
    "display(lmqet.as_ket())\n",
    "l, irrep_qet = lmqet_to_irrepqet(group_label,lmqet)\n",
    "display(irrep_qet.as_ket())\n",
    "sp.simplify(irrepqet_to_lmqet(group_label, irrep_qet, 2)[1].as_ket())"
   ]
  },
  {
   "cell_type": "code",
   "execution_count": null,
   "id": "7ba6b0f6-3dd2-4953-8fae-a449b79b5803",
   "metadata": {
    "execution": {
     "iopub.execute_input": "2021-10-21T15:42:22.685128Z",
     "iopub.status.busy": "2021-10-21T15:42:22.684748Z",
     "iopub.status.idle": "2021-10-21T15:42:22.903806Z",
     "shell.execute_reply": "2021-10-21T15:42:22.903261Z",
     "shell.execute_reply.started": "2021-10-21T15:42:22.685088Z"
    },
    "tags": []
   },
   "outputs": [],
   "source": [
    "def irrepqet_to_lmqet(group_label, irrep_qet, l, returnbasis=False):\n",
    "    '''\n",
    "    This  function  take  a  label  for a crystallographic point\n",
    "    group  and  a  qet  written in an irreducible representation\n",
    "    basis,  understood  to  originate from the given value of l,\n",
    "    and  it  returns  the  representation  in the standard (l,m)\n",
    "    basis.\n",
    "    \n",
    "    Parameters\n",
    "    ----------\n",
    "    \n",
    "    group_label : str\n",
    "                A  label for crystallographic point group, must be\n",
    "                one of CGPs.all_group_labels\n",
    "    irrep_qet   : Qet\n",
    "                A  Qet  whose  keys  are  assumed labels for irrep\n",
    "                components    and   whose   values   are   complex\n",
    "                coefficients.\n",
    "    returnbasis : bool\n",
    "                For debugging purposes only. If True, the function\n",
    "                also  returns  the  list  whose  elements  are the\n",
    "                coefficients  of  the  basis  vectors  used in the\n",
    "                decomposition.\n",
    "    \n",
    "    Returns\n",
    "    -------\n",
    "    tuple : (l, p_qet)\n",
    "    \n",
    "        l       : int\n",
    "                The value of l for the input Qet.\n",
    "       lm_qet   : Qet\n",
    "                A  Qet  whose  keys  are  (l,m) tuples and whose\n",
    "                values are complex coefficients.\n",
    "                \n",
    "    See Also\n",
    "    --------\n",
    "    lmqet_to_irrepqet\n",
    "    \n",
    "    Example\n",
    "    -------\n",
    "    \n",
    "    >>> irrep_qet = Qet({sp.Symbol('u_{E}'):1/2, sp.Symbol('y_{T_2}'):-sp.sqrt(2)/2})\n",
    "    >>> print(irrepqet_to_lmqet('O', irrep_qet, 2))\n",
    "        (2,\n",
    "        Qet({(2,-1):-1/2,\n",
    "             (2,0) :1/2,\n",
    "             (2,1) :1/2})\n",
    "        )\n",
    "    '''\n",
    "    group = CPGs.get_group_by_label(group_label)\n",
    "    irrep_basis = group.symmetry_adapted_bases\n",
    "    irrep_labels = group.irrep_labels\n",
    "    l_basis = [(l,m) for m in range(-l,l+1)]\n",
    "    # pick out all the parts for this value of l\n",
    "    this_irrep_basis = {ir: irrep_basis[ir][l] for ir in irrep_labels}\n",
    "    # kick out the ones that are empty\n",
    "    this_irrep_basis = {k:v for k,v in this_irrep_basis.items() if len(v) != 0}\n",
    "    size_of_basis = {k:len(v) for k, v in this_irrep_basis.items()}\n",
    "    # convert the qets in the bases to coordinate vectors in the standard basis\n",
    "    this_irrep_basis = {(irrep_label,basis_idx):list(map(lambda x: x.vec_in_basis(l_basis), basis)) \\\n",
    "                   for irrep_label, bases in this_irrep_basis.items() \\\n",
    "                   for basis_idx, basis in enumerate(bases)}\n",
    "    # flatten and grab component labels\n",
    "    nice_basis = {}\n",
    "    \n",
    "    for k, basis in this_irrep_basis.items():\n",
    "        irrep_label = k[0]\n",
    "        basis_idx = k[1]\n",
    "        irrep_dim = group.irrep_dims[irrep_label]\n",
    "        num_basis_vecs =  size_of_basis[irrep_label]\n",
    "        if num_basis_vecs == 1:\n",
    "            basis_labels = [((group.component_labels[irrep_label][i])) for i in range((irrep_dim))]\n",
    "        else:\n",
    "            basis_labels = [(sp.Symbol((\"{}^{(%d)}%s\") % (basis_idx+1,str(group.component_labels[irrep_label][i])))) for i in range((irrep_dim))]\n",
    "        nice_basis.update(OrderedDict(zip(basis_labels, basis)))\n",
    "    lm_qet = [sp.Matrix(nice_basis[k])*v for k,v in irrep_qet.dict.items()]\n",
    "    lm_qet = sum(lm_qet, sp.Matrix([0]*(2*l+1)))\n",
    "    lm_qet = Qet(dict(zip(l_basis,lm_qet)))\n",
    "    if returnbasis:\n",
    "        return l, lm_qet, list(nice_basis.values())\n",
    "    else:\n",
    "        return l, lm_qet\n"
   ]
  },
  {
   "cell_type": "markdown",
   "id": "7abd1618",
   "metadata": {},
   "source": [
    "# Change pos-facto approach"
   ]
  },
  {
   "cell_type": "markdown",
   "id": "42588d34",
   "metadata": {},
   "source": [
    "It truly seems to me that the simplest way of implementing this is via a coordinate transformation at the end of the previous calculation, not to start everything from scratch."
   ]
  },
  {
   "cell_type": "code",
   "execution_count": null,
   "id": "89f1e0c7",
   "metadata": {},
   "outputs": [],
   "source": [
    "l = 2\n",
    "this_basis = symmetry_bases['C_{1}'][sp.Symbol('A')][l]\n",
    "full_basis = [(l,m) for m in range(-l,l+1)]\n",
    "# find coordinates in standard basis\n",
    "coord_vec = sp.Matrix(this_basis[2][0].vec_in_basis(full_basis))\n",
    "# compute the change of coordinate matrix\n",
    "combos = [Qet({\n",
    "    (l,m):sp.S(1)/sp.sqrt(2),\n",
    "    (l,-m):sp.S(1)/sp.sqrt(2)}).vec_in_basis(full_basis) for m in range(1,l+1)]\n",
    "combos.append(Qet({(l,0):1}).vec_in_basis(full_basis))\n",
    "combos = combos + [Qet({\n",
    "    (l,m):sp.I*sp.S(1)/sp.sqrt(2),\n",
    "    (l,-m):-sp.I*sp.S(1)/sp.sqrt(2)}).vec_in_basis(full_basis) for m in range(1,l+1)]\n",
    "change_of_basis_matrix = sp.Matrix(combos)\n",
    "full_qet_basis = [Qet({(l,m):1}) for m in range(-l,l+1)]\n",
    "transformed_vec = list(change_of_basis_matrix*coord_vec)\n",
    "transformed_qet = sum([v*q for v,q in zip(transformed_vec, full_qet_basis) if v !=0],Qet({}))\n"
   ]
  },
  {
   "cell_type": "code",
   "execution_count": null,
   "id": "acaf9d2c",
   "metadata": {},
   "outputs": [],
   "source": [
    "this_basis = symmetry_bases['C_{1}']\n",
    "new_basis = {}\n",
    "for irrep, ldict in this_basis.items():\n",
    "    new_basis[irrep] = {}\n",
    "    for l, qet_groups in ldict.items():\n",
    "        new_basis[irrep][l] = []\n",
    "        full_basis = [(l,m) for m in range(-l,l+1)]\n",
    "        combos = [Qet({\n",
    "            (l,m):sp.S(1)/sp.sqrt(2),\n",
    "            (l,-m):sp.S(1)/sp.sqrt(2)}).vec_in_basis(full_basis) for m in range(1,l+1)]\n",
    "        combos.append(Qet({(l,0):1}).vec_in_basis(full_basis))\n",
    "        combos = combos + [Qet({\n",
    "            (l,m):sp.I*sp.S(1)/sp.sqrt(2),\n",
    "            (l,-m):-sp.I*sp.S(1)/sp.sqrt(2)}).vec_in_basis(full_basis) for m in range(1,l+1)]\n",
    "        change_of_basis_matrix = sp.Matrix(combos)\n",
    "        full_qet_basis = [Qet({(l,m):1}) for m in range(-l,l+1)]\n",
    "        for qet_group in qet_groups:\n",
    "            new_qets = []\n",
    "            for qet in qet_group:\n",
    "                coord_vec = sp.Matrix(qet.vec_in_basis(full_basis))\n",
    "                transformed_vec = list(change_of_basis_matrix*coord_vec)\n",
    "                transformed_qet = sum([v*q for v,q in zip(transformed_vec, full_qet_basis) if v !=0],Qet({}))\n",
    "                new_qets.append(transformed_qet)\n",
    "            new_basis[irrep][l].append(new_qets)\n"
   ]
  },
  {
   "cell_type": "code",
   "execution_count": null,
   "id": "ce5293f6",
   "metadata": {},
   "outputs": [],
   "source": [
    "all_new_bases = {}\n",
    "for group_label, this_basis in symmetry_bases.items():\n",
    "    new_basis = {}\n",
    "    for irrep, ldict in this_basis.items():\n",
    "        new_basis[irrep] = {}\n",
    "        for l, qet_groups in ldict.items():\n",
    "            new_basis[irrep][l] = []\n",
    "            full_basis = [(l,m) for m in range(-l,l+1)]\n",
    "            combos = [Qet({\n",
    "                (l,m):sp.S(1)/sp.sqrt(2),\n",
    "                (l,-m):sp.S(1)/sp.sqrt(2)}).vec_in_basis(full_basis) for m in range(1,l+1)]\n",
    "            combos.append(Qet({(l,0):1}).vec_in_basis(full_basis))\n",
    "            combos = combos + [Qet({\n",
    "                (l,m):sp.I*sp.S(1)/sp.sqrt(2),\n",
    "                (l,-m):-sp.I*sp.S(1)/sp.sqrt(2)}).vec_in_basis(full_basis) for m in range(1,l+1)]\n",
    "            change_of_basis_matrix = sp.Matrix(combos)\n",
    "            full_qet_basis = [Qet({(l,m):1}) for m in range(-l,l+1)]\n",
    "            for qet_group in qet_groups:\n",
    "                new_qets = []\n",
    "                for qet in qet_group:\n",
    "                    coord_vec = sp.Matrix(qet.vec_in_basis(full_basis))\n",
    "                    transformed_vec = list(change_of_basis_matrix*coord_vec)\n",
    "                    transformed_qet = sum([v*q for v,q in zip(transformed_vec, full_qet_basis) if v !=0],Qet({}))\n",
    "                    new_qets.append(transformed_qet)\n",
    "                new_basis[irrep][l].append(new_qets)\n",
    "    all_new_bases[group_label] = new_basis\n"
   ]
  },
  {
   "cell_type": "code",
   "execution_count": null,
   "id": "812e0191",
   "metadata": {},
   "outputs": [],
   "source": [
    "# ugh this simplifies some things, but complexifies others ..."
   ]
  },
  {
   "cell_type": "code",
   "execution_count": null,
   "id": "5b876933",
   "metadata": {},
   "outputs": [],
   "source": [
    "all_new_bases['C_{1}'][sp.Symbol('A')]"
   ]
  },
  {
   "cell_type": "code",
   "execution_count": null,
   "id": "df1da3db",
   "metadata": {},
   "outputs": [],
   "source": [
    "symmetry_bases['O'][sp.Symbol('T_2')][2]"
   ]
  },
  {
   "cell_type": "code",
   "execution_count": null,
   "id": "a3557a26",
   "metadata": {},
   "outputs": [],
   "source": [
    "all_new_bases['O'][sp.Symbol('T_2')][2]"
   ]
  },
  {
   "cell_type": "code",
   "execution_count": null,
   "id": "30b19a2d",
   "metadata": {},
   "outputs": [],
   "source": [
    "l = 2\n",
    "this_basis = symmetry_bases['C_{1}'][sp.Symbol('A')][l]\n",
    "full_basis = [(l,m) for m in range(-l,l+1)]\n",
    "# find coordinates in standard basis\n",
    "coord_vec = sp.Matrix(this_basis[0][0].vec_in_basis(full_basis))\n",
    "# compute the change of coordinate matrix\n",
    "combos = [Qet({\n",
    "    (l,m):sp.S(1)/sp.sqrt(2),\n",
    "    (l,-m):sp.S(1)/sp.sqrt(2)}).vec_in_basis(full_basis) for m in range(1,l+1)]\n",
    "combos.append(Qet({(l,0):1}).vec_in_basis(full_basis))\n",
    "combos = combos + [Qet({\n",
    "    (l,m):sp.I*sp.S(1)/sp.sqrt(2),\n",
    "    (l,-m):-sp.I*sp.S(1)/sp.sqrt(2)}).vec_in_basis(full_basis) for m in range(1,l+1)]\n",
    "change_of_basis_matrix = sp.Matrix(combos)\n",
    "full_qet_basis = [Qet({(l,m):1}) for m in range(-l,l+1)]\n",
    "transformed_vec = list(change_of_basis_matrix*coord_vec)\n",
    "transformed_qet = sum([v*q for v,q in zip(transformed_vec, full_qet_basis) if v !=0],Qet({}))\n"
   ]
  },
  {
   "cell_type": "code",
   "execution_count": null,
   "id": "8e5cbd8f",
   "metadata": {},
   "outputs": [],
   "source": [
    "from sympy.physics.quantum.dagger import Dagger"
   ]
  },
  {
   "cell_type": "code",
   "execution_count": null,
   "id": "af3dc9b8",
   "metadata": {},
   "outputs": [],
   "source": [
    "change_of_basis_matrix*Dagger(change_of_basis_matrix)"
   ]
  },
  {
   "cell_type": "code",
   "execution_count": null,
   "id": "8c939d12",
   "metadata": {},
   "outputs": [],
   "source": [
    "cosine_combos"
   ]
  },
  {
   "cell_type": "markdown",
   "id": "4cc773e4-f80d-4322-8dff-aed6d5a6ae4f",
   "metadata": {
    "execution": {
     "iopub.execute_input": "2021-10-18T14:40:14.459596Z",
     "iopub.status.busy": "2021-10-18T14:40:14.458615Z",
     "iopub.status.idle": "2021-10-18T14:40:14.657520Z",
     "shell.execute_reply": "2021-10-18T14:40:14.657047Z",
     "shell.execute_reply.started": "2021-10-18T14:40:14.459523Z"
    },
    "tags": []
   },
   "source": [
    "# Visualizing Surface Harmonics"
   ]
  },
  {
   "cell_type": "markdown",
   "id": "852c1be2-613b-4b61-b9e0-421b8282b103",
   "metadata": {},
   "source": [
    "Much better to plot in Mathematica, must create something that is easily importable there."
   ]
  },
  {
   "cell_type": "code",
   "execution_count": null,
   "id": "0f6ff2fc-ab83-453a-ac34-61bd3ae9a9bb",
   "metadata": {
    "execution": {
     "iopub.execute_input": "2021-10-18T20:04:24.629501Z",
     "iopub.status.busy": "2021-10-18T20:04:24.629130Z",
     "iopub.status.idle": "2021-10-18T20:04:24.796397Z",
     "shell.execute_reply": "2021-10-18T20:04:24.795910Z",
     "shell.execute_reply.started": "2021-10-18T20:04:24.629464Z"
    },
    "tags": []
   },
   "outputs": [],
   "source": [
    "import multiprocessing\n",
    "import time\n",
    "from joblib import Parallel, delayed\n",
    "num_cores = multiprocessing.cpu_count()"
   ]
  },
  {
   "cell_type": "code",
   "execution_count": null,
   "id": "2b2c9b90-c3c3-4251-99c1-26c7f4729ee0",
   "metadata": {
    "execution": {
     "iopub.execute_input": "2021-10-18T20:04:25.570657Z",
     "iopub.status.busy": "2021-10-18T20:04:25.570290Z",
     "iopub.status.idle": "2021-10-18T20:04:46.977922Z",
     "shell.execute_reply": "2021-10-18T20:04:46.977578Z",
     "shell.execute_reply.started": "2021-10-18T20:04:25.570620Z"
    },
    "tags": []
   },
   "outputs": [],
   "source": [
    "lmax = 12\n",
    "irreps_ls = Parallel(n_jobs = num_cores)(delayed(irrep_basis_from_Ylm)('O', l) for l in range(lmax+1))"
   ]
  },
  {
   "cell_type": "code",
   "execution_count": null,
   "id": "aef3442e-e45a-4ad1-848c-7b784a26dd5a",
   "metadata": {
    "execution": {
     "iopub.execute_input": "2021-10-18T20:04:46.979468Z",
     "iopub.status.busy": "2021-10-18T20:04:46.979352Z",
     "iopub.status.idle": "2021-10-18T20:04:47.111426Z",
     "shell.execute_reply": "2021-10-18T20:04:47.110935Z",
     "shell.execute_reply.started": "2021-10-18T20:04:46.979454Z"
    },
    "tags": []
   },
   "outputs": [],
   "source": [
    "stringos = []\n",
    "group_label = 'O'\n",
    "group = CPGs.get_group_by_label(group_label)\n",
    "irrep_labels = group.irrep_labels\n",
    "ls = []\n",
    "lmax = 12\n",
    "for l in range(lmax+1):\n",
    "    qets = irreps_ls[l]\n",
    "    try:\n",
    "        math_export= '},{'.join([','.join([str(k[0]),str(k[1]),str(v).replace('sqrt','Sqrt').replace('(','[').replace(')',']')]) for k,v in qets[irrep_labels[0]][0].dict.items()])\n",
    "        math_export = 'l%d={{%s}};'%(l,math_export)\n",
    "        stringos.append(math_export)\n",
    "        ls.append(l)\n",
    "    except:\n",
    "        pass\n",
    "coda = 'ls={%s};' % (','.join(list(map(lambda x: 'l%d' % x,ls))))\n",
    "stringos.append(coda)\n",
    "pypercopy('\\n'.join(stringos))"
   ]
  },
  {
   "cell_type": "code",
   "execution_count": null,
   "id": "260d80a5-0fd0-44c7-8d0a-cfedaabe3f54",
   "metadata": {
    "execution": {
     "iopub.execute_input": "2021-10-18T20:05:26.990313Z",
     "iopub.status.busy": "2021-10-18T20:05:26.989765Z",
     "iopub.status.idle": "2021-10-18T20:05:27.243504Z",
     "shell.execute_reply": "2021-10-18T20:05:27.243139Z",
     "shell.execute_reply.started": "2021-10-18T20:05:26.990257Z"
    },
    "tags": []
   },
   "outputs": [],
   "source": [
    "from wolframclient.evaluation import WolframLanguageSession\n",
    "import io\n",
    "from wolframclient.language import wlexpr\n",
    "from PIL import Image\n",
    "class Mathematica():\n",
    "    def __init__(self):\n",
    "        self.session = WolframLanguageSession()\n",
    "    def plot(self, plot_code):\n",
    "        _ = self.evaluate(plot_code)\n",
    "        data = self.evaluate( wlexpr('ExportByteArray[ plot, \"PNG\" ]'))\n",
    "        return Image.open(io.BytesIO(data))\n",
    "    def evaluate(self, code):\n",
    "        return self.session.evaluate(code)"
   ]
  },
  {
   "cell_type": "code",
   "execution_count": null,
   "id": "9d3a4f1d-50fc-4def-b362-7dc6723f0500",
   "metadata": {
    "execution": {
     "iopub.execute_input": "2021-10-18T20:05:27.617647Z",
     "iopub.status.busy": "2021-10-18T20:05:27.617289Z",
     "iopub.status.idle": "2021-10-18T20:05:27.791944Z",
     "shell.execute_reply": "2021-10-18T20:05:27.791505Z",
     "shell.execute_reply.started": "2021-10-18T20:05:27.617610Z"
    },
    "tags": []
   },
   "outputs": [],
   "source": [
    "mathematica = Mathematica()"
   ]
  },
  {
   "cell_type": "code",
   "execution_count": null,
   "id": "2a855ba8-7ab6-4ca2-91ae-8fe19b04499c",
   "metadata": {
    "execution": {
     "iopub.execute_input": "2021-10-18T20:05:28.266620Z",
     "iopub.status.busy": "2021-10-18T20:05:28.266200Z",
     "iopub.status.idle": "2021-10-18T20:05:28.481791Z",
     "shell.execute_reply": "2021-10-18T20:05:28.481488Z",
     "shell.execute_reply.started": "2021-10-18T20:05:28.266580Z"
    },
    "tags": []
   },
   "outputs": [],
   "source": [
    "chunk_of_code = '\\n'.join(stringos+['''\n",
    "Os = Sum[\n",
    "    p[[3]]*SphericalHarmonicY[p[[1]], \n",
    "    p[[2]], \\[Theta], \\[Phi]], {p, #}] & /@ ls;\n",
    "sym = ParallelTable[\n",
    "   Rasterize[\n",
    "    SphericalPlot3D[\n",
    "     Re[Os[[2]]], {\\[Theta], 0, \\[Pi]}, {\\[Phi], 0, 2 \\[Pi]}, \n",
    "     PlotRange -> All, PlotPoints -> 30, SphericalRegion -> True, \n",
    "     Boxed -> False, Axes -> False, \n",
    "     PlotStyle -> MaterialShading[\"Gold\"], \n",
    "     ViewVector -> {5 Cos[t], 5 Sin[t], 10 Sin[t/2]}\n",
    "                   ]\n",
    "     ],\n",
    "    {t, 0, 4 \\[Pi], 2 \\[Pi]/18}\n",
    "   ];\n",
    "plot = GraphicsGrid[Partition[sym, 6], ImageSize -> 800];\n",
    "'''])"
   ]
  },
  {
   "cell_type": "code",
   "execution_count": null,
   "id": "82e1ca4e-8433-48cc-a207-9f8b20291326",
   "metadata": {
    "execution": {
     "iopub.execute_input": "2021-10-18T20:05:28.928145Z",
     "iopub.status.busy": "2021-10-18T20:05:28.927757Z",
     "iopub.status.idle": "2021-10-18T20:05:49.315651Z",
     "shell.execute_reply": "2021-10-18T20:05:49.315205Z",
     "shell.execute_reply.started": "2021-10-18T20:05:28.928106Z"
    },
    "tags": []
   },
   "outputs": [],
   "source": [
    "mathematica.plot(chunk_of_code)"
   ]
  }
 ],
 "metadata": {
  "interpreter": {
   "hash": "5ed69564610cdd861a99d06236eab56151da4db3d5eb55442ace689096fe7345"
  },
  "kernelspec": {
   "display_name": "qdef",
   "language": "python",
   "name": "python3"
  },
  "language_info": {
   "codemirror_mode": {
    "name": "ipython",
    "version": 3
   },
   "file_extension": ".py",
   "mimetype": "text/x-python",
   "name": "python",
   "nbconvert_exporter": "python",
   "pygments_lexer": "ipython3",
   "version": "3.8.8"
  }
 },
 "nbformat": 4,
 "nbformat_minor": 5
}
