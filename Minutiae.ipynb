{
 "cells": [
  {
   "cell_type": "markdown",
   "metadata": {},
   "source": [
    "# Compressing and downsampling tsk_hypercube.h5\n",
    "Aug-24 2022-08-24 11:57:47"
   ]
  },
  {
   "cell_type": "code",
   "execution_count": 1,
   "metadata": {},
   "outputs": [],
   "source": [
    "import h5py\n",
    "import numpy as np"
   ]
  },
  {
   "cell_type": "code",
   "execution_count": 2,
   "metadata": {},
   "outputs": [],
   "source": [
    "h5_file = h5py.File('./mathematica/tsk_hypercube.h5','r')"
   ]
  },
  {
   "cell_type": "code",
   "execution_count": 22,
   "metadata": {},
   "outputs": [
    {
     "name": "stdout",
     "output_type": "stream",
     "text": [
      "-214.8182740829402 139.784349229737\n"
     ]
    }
   ],
   "source": [
    "supermax = -np.inf\n",
    "supermin = np.inf\n",
    "for key0 in list(h5_file.keys()):\n",
    "    for key1 in list(h5_file[key0].keys()):\n",
    "        if hasattr(h5_file[key0][key1], 'keys'):\n",
    "            for key2 in list(h5_file[key0][key1].keys()):\n",
    "                datum = np.array(h5_file[key0][key1][key2])\n",
    "                supermax = max(supermax, np.max(datum))\n",
    "                supermin = min(supermin, np.min(datum))\n",
    "        else:\n",
    "            datum = np.array(h5_file[key0][key1])\n",
    "            supermax = max(supermax, np.max(datum))\n",
    "            supermin = min(supermin, np.min(datum))\n",
    "print(supermin, supermax)"
   ]
  },
  {
   "cell_type": "code",
   "execution_count": 21,
   "metadata": {},
   "outputs": [],
   "source": [
    "ch5_file = h5py.File('test.h5.gz','w')\n",
    "for key0 in list(h5_file.keys()):\n",
    "    for key1 in list(h5_file[key0].keys()):\n",
    "        if hasattr(h5_file[key0][key1], 'keys'):\n",
    "            for key2 in list(h5_file[key0][key1].keys()):\n",
    "                datum = np.array(h5_file[key0][key1][key2])\n",
    "                cdatum = (100*datum).astype(np.int16)\n",
    "                fullkey = '%s/%s/%s' % (key0, key1, key2)\n",
    "                ch5_file.create_dataset(fullkey, data = cdatum, compression=\"gzip\")\n",
    "        else:\n",
    "            datum = np.array(h5_file[key0][key1])\n",
    "            cdatum = (100*datum).astype(np.int16)\n",
    "            fullkey = '%s/%s' % (key0, key1)\n",
    "            ch5_file.create_dataset(fullkey, data = cdatum, compression=\"gzip\")\n",
    "ch5_file.close()"
   ]
  }
 ],
 "metadata": {
  "kernelspec": {
   "display_name": "Python 3.8.8 ('qdef3p8')",
   "language": "python",
   "name": "python3"
  },
  "language_info": {
   "codemirror_mode": {
    "name": "ipython",
    "version": 3
   },
   "file_extension": ".py",
   "mimetype": "text/x-python",
   "name": "python",
   "nbconvert_exporter": "python",
   "pygments_lexer": "ipython3",
   "version": "3.8.8"
  },
  "orig_nbformat": 4,
  "vscode": {
   "interpreter": {
    "hash": "5ed69564610cdd861a99d06236eab56151da4db3d5eb55442ace689096fe7345"
   }
  }
 },
 "nbformat": 4,
 "nbformat_minor": 2
}
