{
 "cells": [
  {
   "cell_type": "markdown",
   "metadata": {},
   "source": [
    "# Valence Navigator"
   ]
  },
  {
   "cell_type": "markdown",
   "metadata": {},
   "source": [
    "Goal: To estimate the valence of substitutional defects in crystals."
   ]
  },
  {
   "cell_type": "code",
   "execution_count": 2,
   "metadata": {
    "execution": {
     "iopub.execute_input": "2021-09-10T14:17:10.453722Z",
     "iopub.status.busy": "2021-09-10T14:17:10.447081Z",
     "iopub.status.idle": "2021-09-10T14:17:12.750335Z",
     "shell.execute_reply": "2021-09-10T14:17:12.749996Z",
     "shell.execute_reply.started": "2021-09-10T14:17:10.449849Z"
    },
    "tags": []
   },
   "outputs": [
    {
     "data": {
      "text/html": [
       "<pre>✔️ 7.77 s (2022-08-27T19:07:56/2022-08-27T19:08:04)</pre>"
      ],
      "text/plain": [
       "<IPython.core.display.HTML object>"
      ]
     },
     "metadata": {},
     "output_type": "display_data"
    },
    {
     "name": "stdout",
     "output_type": "stream",
     "text": [
      "The autotime extension is already loaded. To reload it, use:\n",
      "  %reload_ext autotime\n"
     ]
    }
   ],
   "source": [
    "# fixing autocomplete\n",
    "%config Completer.use_jedi = False\n",
    "# better quality plots in notebook\n",
    "%config InlineBackend.figure_format='retina'\n",
    "# cell timings\n",
    "%load_ext autotime\n",
    "import pandas as pd\n",
    "from decimal import Decimal\n",
    "import pickle, os, mplcursors\n",
    "from matminer.data_retrieval.retrieve_MP import MPDataRetrieval\n",
    "from crystal_secrets import *\n",
    "mpdr = MPDataRetrieval(api_key=secrets['materials_project_api_key'])\n",
    "import pymatgen\n",
    "import numpy as np"
   ]
  },
  {
   "cell_type": "markdown",
   "metadata": {},
   "source": [
    "## >> Consider the ionic radii"
   ]
  },
  {
   "cell_type": "markdown",
   "metadata": {},
   "source": [
    "### >>> Parse data into dataframe"
   ]
  },
  {
   "cell_type": "code",
   "execution_count": 360,
   "metadata": {},
   "outputs": [
    {
     "data": {
      "text/html": [
       "<pre>✔️ 138 ms (2022-08-28T16:48:15/2022-08-28T16:48:15)</pre>"
      ],
      "text/plain": [
       "<IPython.core.display.HTML object>"
      ]
     },
     "metadata": {},
     "output_type": "display_data"
    },
    {
     "name": "stdout",
     "output_type": "stream",
     "text": [
      "68 ls\n"
     ]
    }
   ],
   "source": [
    "crystal_radii = pd.read_excel('./data/ionic_radii.xls', sheet_name='Wikipedia - Crystal Radii')\n",
    "effective_radii = pd.read_excel('./data/ionic_radii.xls', sheet_name='Wikipedia - Effective Radii')\n",
    "symbols = list(crystal_radii.loc[:,'symbol'])\n",
    "element_names = list(crystal_radii.loc[:,'element'])\n",
    "spins = []\n",
    "coords = []\n",
    "coord_types = []\n",
    "radii = []\n",
    "charges = []\n",
    "all_symbols = []\n",
    "radial_types = []\n",
    "\n",
    "for charge in range(-3,9):\n",
    "    if charge == 0:\n",
    "        continue\n",
    "    col = list(crystal_radii.loc[:,charge])\n",
    "    for item, element_name in zip(col, element_names):\n",
    "        spin = ''\n",
    "        if item == '68\\xa0ls':\n",
    "            print(item)\n",
    "        if '\\xa0ls' in element_name:\n",
    "            spin = 'ls'\n",
    "        if '\\xa0hs' in element_name:\n",
    "            spin = 'hs'\n",
    "        coord = 6\n",
    "        coord_type = ''\n",
    "        radius = item\n",
    "        if isinstance(item, str):\n",
    "            if 'ls' in item:\n",
    "                spin = 'ls'\n",
    "            if 'hs' in item:\n",
    "                spin = 'hs'\n",
    "            item = item.replace('\\xa0ls','').replace('\\xa0hs','').replace('−','-')\n",
    "            radius = item\n",
    "            if '(' in item:\n",
    "                if element_name == 'Copper':\n",
    "                    print(\"yo\")\n",
    "                if 'sq' in item:\n",
    "                    coord_type = 'sq'\n",
    "                if 'py' in item:\n",
    "                    coord_type = 'py'\n",
    "                item = item.replace('sq','')\n",
    "                item = item.replace('py','')\n",
    "                coord = int(item.split('(')[1].split(')')[0])\n",
    "                radius = float(item.split('(')[0].strip())\n",
    "            radii.append(float(radius))\n",
    "        else:\n",
    "            radii.append(float(radius))\n",
    "        spins.append(spin)\n",
    "        coords.append(coord)\n",
    "        coord_types.append(coord_type)\n",
    "        charges.append(charge)\n",
    "        radial_types.append('crystal')\n",
    "    all_symbols.extend(symbols)\n",
    "\n",
    "element_names = list(effective_radii.loc[:,'element'])\n",
    "symbols = list(effective_radii.loc[:,'symbol'])\n",
    "for charge in range(-3,9):\n",
    "    if charge == 0:\n",
    "        continue\n",
    "    col = list(effective_radii.loc[:,charge])\n",
    "    for item, element_name in zip(col, element_names):\n",
    "        spin = ''\n",
    "        if '\\xa0ls' in element_name:\n",
    "            spin = 'ls'\n",
    "        if '\\xa0hs' in element_name:\n",
    "            spin = 'hs'\n",
    "        coord = 6\n",
    "        coord_type = ''\n",
    "        radius = item\n",
    "        if isinstance(item, str):\n",
    "            if 'ls' in item:\n",
    "                spin = 'ls'\n",
    "            if 'hs' in item:\n",
    "                spin = 'hs'\n",
    "            item = item.replace('\\xa0ls','').replace('\\xa0hs','').replace('−','-')\n",
    "            radius = item\n",
    "            if '(' in item:\n",
    "                if 'sq' in item:\n",
    "                    coord_type = 'sq'\n",
    "                if 'py' in item:\n",
    "                    coord_type = 'py'\n",
    "                item = item.replace('sq','')\n",
    "                item = item.replace('py','')\n",
    "                coord = int(item.split('(')[1].split(')')[0])\n",
    "                radius = float(item.split('(')[0].strip())\n",
    "            radii.append(float(radius))\n",
    "        else:\n",
    "            radii.append(float(radius))\n",
    "        spins.append(spin)\n",
    "        coords.append(coord)\n",
    "        coord_types.append(coord_type)\n",
    "        charges.append(charge)\n",
    "        radial_types.append('effective')\n",
    "    all_symbols.extend(symbols)\n",
    "\n",
    "ionic_radii_df = pd.DataFrame()\n",
    "ionic_radii_df['symbol'] = all_symbols\n",
    "ionic_radii_df['charge'] = charges\n",
    "ionic_radii_df['coordination'] = coords\n",
    "ionic_radii_df['coordination_type'] = coord_types\n",
    "ionic_radii_df['spin'] = spins\n",
    "ionic_radii_df['radius/pm'] = radii\n",
    "ionic_radii_df['radius type'] = radial_types\n",
    "ionic_radii_df = ionic_radii_df[~pd.isna(ionic_radii_df.loc[:,'radius/pm'])]\n",
    "ionic_radii_df.reset_index(inplace=True, drop=True)"
   ]
  },
  {
   "cell_type": "code",
   "execution_count": 361,
   "metadata": {},
   "outputs": [
    {
     "data": {
      "text/html": [
       "<pre>✔️ 549 µs (2022-08-28T16:48:22/2022-08-28T16:48:22)</pre>"
      ],
      "text/plain": [
       "<IPython.core.display.HTML object>"
      ]
     },
     "metadata": {},
     "output_type": "display_data"
    }
   ],
   "source": [
    "def ionic_radius(element_symbol, charge, radius_type='crystal'):\n",
    "    results = ionic_radii_df[(ionic_radii_df.loc[:,'symbol'] == element_symbol) & \n",
    "                    (ionic_radii_df.loc[:,'radius type'] == r_type) & \n",
    "                    (ionic_radii_df.loc[:,'charge'] == charge)]\n",
    "    if len(results) > 0:\n",
    "        return float(list(results['radius/pm'])[0])\n",
    "    else:\n",
    "        return None"
   ]
  },
  {
   "cell_type": "markdown",
   "metadata": {},
   "source": [
    "### >>> Run"
   ]
  },
  {
   "cell_type": "code",
   "execution_count": 362,
   "metadata": {
    "execution": {
     "iopub.execute_input": "2021-08-30T18:19:06.628518Z",
     "iopub.status.busy": "2021-08-30T18:19:06.627060Z",
     "iopub.status.idle": "2021-08-30T18:19:06.648319Z",
     "shell.execute_reply": "2021-08-30T18:19:06.646880Z",
     "shell.execute_reply.started": "2021-08-30T18:19:06.628420Z"
    },
    "tags": []
   },
   "outputs": [
    {
     "data": {
      "text/html": [
       "<pre>✔️ 2.18 ms (2022-08-28T16:48:25/2022-08-28T16:48:25)</pre>"
      ],
      "text/plain": [
       "<IPython.core.display.HTML object>"
      ]
     },
     "metadata": {},
     "output_type": "display_data"
    }
   ],
   "source": [
    "def parse_chemical_formula(struc):\n",
    "    sites = struc['sites']\n",
    "    species = [s['species'][0]['element'] for s in sites]\n",
    "    species_counts = {elem: species.count(elem) for elem in set(species)}\n",
    "    return species_counts\n",
    "\n",
    "def binary_electroneg(parse_struct):\n",
    "    elements = list(parse_struct.keys())\n",
    "    electronegs = list(map(lambda x: pymatgen.core.Element(x).X, elements))\n",
    "    return max(electronegs) - min(electronegs)"
   ]
  },
  {
   "cell_type": "code",
   "execution_count": null,
   "metadata": {
    "execution": {
     "iopub.execute_input": "2021-09-10T14:17:26.250684Z",
     "iopub.status.busy": "2021-09-10T14:17:26.250313Z",
     "iopub.status.idle": "2021-09-10T14:17:35.040677Z",
     "shell.execute_reply": "2021-09-10T14:17:35.040384Z",
     "shell.execute_reply.started": "2021-09-10T14:17:26.250647Z"
    },
    "tags": []
   },
   "outputs": [
    {
     "data": {
      "text/html": [
       "<pre>✔️ 9.19 s (2022-08-27T19:15:54/2022-08-27T19:16:04)</pre>"
      ],
      "text/plain": [
       "<IPython.core.display.HTML object>"
      ]
     },
     "metadata": {},
     "output_type": "display_data"
    }
   ],
   "source": [
    "mp_df = pd.read_csv('/Users/juan/Data/Materials Project/mp_all.csv')"
   ]
  },
  {
   "cell_type": "code",
   "execution_count": 229,
   "metadata": {
    "execution": {
     "iopub.execute_input": "2021-09-10T14:17:41.351991Z",
     "iopub.status.busy": "2021-09-10T14:17:41.351597Z",
     "iopub.status.idle": "2021-09-10T14:19:06.195735Z",
     "shell.execute_reply": "2021-09-10T14:19:06.193880Z",
     "shell.execute_reply.started": "2021-09-10T14:17:41.351954Z"
    },
    "tags": []
   },
   "outputs": [
    {
     "data": {
      "text/html": [
       "<pre>✔️ 1 min 51 s (2022-08-28T14:37:09/2022-08-28T14:39:00)</pre>"
      ],
      "text/plain": [
       "<IPython.core.display.HTML object>"
      ]
     },
     "metadata": {},
     "output_type": "display_data"
    }
   ],
   "source": [
    "structures = list(map(eval, mp_df['structure']))\n",
    "parsed_structures = list(map(parse_chemical_formula, structures))\n",
    "mp_df['parsed_structure'] = parsed_structures\n",
    "mp_df['num_elements'] = list(map(len,parsed_structures))"
   ]
  },
  {
   "cell_type": "code",
   "execution_count": 462,
   "metadata": {
    "execution": {
     "iopub.execute_input": "2021-08-30T18:37:20.984006Z",
     "iopub.status.busy": "2021-08-30T18:37:20.983631Z",
     "iopub.status.idle": "2021-08-30T18:37:21.081530Z",
     "shell.execute_reply": "2021-08-30T18:37:21.081052Z",
     "shell.execute_reply.started": "2021-08-30T18:37:20.983965Z"
    },
    "tags": []
   },
   "outputs": [
    {
     "data": {
      "text/html": [
       "<pre>✔️ 1.48 s (2022-08-28T17:50:55/2022-08-28T17:50:57)</pre>"
      ],
      "text/plain": [
       "<IPython.core.display.HTML object>"
      ]
     },
     "metadata": {},
     "output_type": "display_data"
    },
    {
     "name": "stdout",
     "output_type": "stream",
     "text": [
      "Estimating valence of cations ...\n",
      "Querying the anion radii ...\n",
      "Discarding anions with unkown radius ...\n",
      "Calculating replacement of anions ...\n",
      "Sorting by percent radial difference ...\n",
      "Copying results to clipboard ...\n"
     ]
    }
   ],
   "source": [
    "binary_compounds = mp_df[mp_df['num_elements'] == 2]\n",
    "min_electroneg = 1.25\n",
    "triplet_ions = {1: ['Sc','Co'],\n",
    "            2: ['Ti','Ni'],\n",
    "            3: ['V','Cu'],\n",
    "            4: ['Cr','Zn'],\n",
    "            5: ['Mn'],\n",
    "            6: ['Fe']}\n",
    "\n",
    "binary_compounds.insert(loc=0, column='avg_electronegativity',value=list(map(binary_electroneg, list(binary_compounds['parsed_structure']))))\n",
    "binary_ionic_compounds = binary_compounds[binary_compounds['avg_electronegativity'] > min_electroneg]\n",
    "struc = binary_ionic_compounds['parsed_structure'].iloc[0]\n",
    "oxides = binary_ionic_compounds[binary_ionic_compounds['parsed_structure'].apply(lambda x: ('O' in x.keys()) or ('S' in x.keys()) or ('Se' in x.keys()))]\n",
    "\n",
    "print(\"Estimating valence of cations ...\")\n",
    "partner_ionizations = []\n",
    "for oxide in oxides.iterrows():\n",
    "    elements = list(oxide[1]['parsed_structure'].keys())\n",
    "    if 'O' in oxide[1]['parsed_structure'].keys():\n",
    "        n_oxygen = oxide[1]['parsed_structure']['O']\n",
    "        elements.remove('O')\n",
    "    elif 'S' in oxide[1]['parsed_structure'].keys():\n",
    "        n_oxygen = oxide[1]['parsed_structure']['S']\n",
    "        elements.remove('S')\n",
    "    else:\n",
    "        n_oxygen = oxide[1]['parsed_structure']['Se']\n",
    "        elements.remove('Se')\n",
    "    partner_element = elements[0]\n",
    "    n_partner = oxide[1]['parsed_structure'][partner_element]\n",
    "    i1 = 2 * n_oxygen / n_partner\n",
    "    if int(i1) != i1:\n",
    "        i1 = None\n",
    "    else:\n",
    "        i1 = int(i1)\n",
    "    partner_ionizations.append(i1)\n",
    "\n",
    "# oxides['cation_charge'] = partner_ionizations\n",
    "oxides.insert(loc=0,column='cation_charge', value= partner_ionizations)\n",
    "\n",
    "print(\"Querying the anion radii ...\")\n",
    "# find the ionic radii of the cation in the oxide\n",
    "cat_radii = []\n",
    "for row in oxides.iterrows():\n",
    "    p_structure = dict(row[1]['parsed_structure'])\n",
    "    if 'O' in p_structure.keys():\n",
    "        del(p_structure['O'])\n",
    "    elif 'S' in p_structure.keys():\n",
    "        del(p_structure['S'])\n",
    "    else:\n",
    "        del(p_structure['Se'])\n",
    "    cation_symbol = list(p_structure.keys())[0]\n",
    "    cat_charge = row[1]['cation_charge']\n",
    "    cat_radius = ionic_radius(cation_symbol, cat_charge)\n",
    "    if cat_radius == None:\n",
    "        cat_radii.append(np.nan)\n",
    "    else:\n",
    "        cat_radii.append(cat_radius)\n",
    "\n",
    "# oxides['cation_radius'] = cat_radii\n",
    "oxides.insert(loc=0, column = 'cation_radius', value = cat_radii)\n",
    "\n",
    "print(\"Discarding anions with unkown radius ...\")\n",
    "good_oxides = oxides[~np.isnan(oxides['cation_radius'])]\n",
    "good_oxides.reset_index(inplace=True, drop=True)\n",
    "\n",
    "print(\"Calculating replacement of anions ...\")\n",
    "\n",
    "num_chosen = 100\n",
    "rep_df = pd.DataFrame()\n",
    "differences = []\n",
    "hosts = []\n",
    "guests = []\n",
    "charges = []\n",
    "diffs_noabs = []\n",
    "electronegs = []\n",
    "for i in range(1,7):\n",
    "    charged_oxides = good_oxides[good_oxides['cation_charge'] == i]\n",
    "    for elemens in triplet_ions[i]:\n",
    "        not_same = np.array([elemens not in x.keys() for x in list(charged_oxides.loc[:,'parsed_structure'])])\n",
    "        golly_oxides = charged_oxides[not_same]\n",
    "        defect_radius = ionic_radius(elemens, i)\n",
    "        if defect_radius:\n",
    "            rad_diffs = 100*np.abs((golly_oxides['cation_radius'] - defect_radius))/(golly_oxides['cation_radius'])\n",
    "            rad_diffs_noabs = 100*((golly_oxides['cation_radius'] - defect_radius))/(golly_oxides['cation_radius'])\n",
    "            sorter = np.argsort(rad_diffs)[:num_chosen]\n",
    "            differences.extend(rad_diffs.iloc[sorter])\n",
    "            hosts.extend(golly_oxides.iloc[sorter].loc[:,'pretty_formula'])\n",
    "            num_finds = len(golly_oxides.iloc[sorter])\n",
    "            guests.extend([elemens]*num_finds)\n",
    "            charges.extend([i]*num_finds)\n",
    "            diffs_noabs.extend(rad_diffs_noabs.iloc[sorter])\n",
    "            electronegs.extend(golly_oxides.iloc[sorter].loc[:,'avg_electronegativity'])\n",
    "\n",
    "rep_df.insert(loc=0, column='host', value = hosts)\n",
    "rep_df.insert(loc=0, column='avg_electronegativity_of_host', value = electronegs)\n",
    "rep_df.insert(loc=0, column='|rad_diff|/%', value =  differences)\n",
    "rep_df.insert(loc=0, column='(anion - subs_anion)/%', value =  diffs_noabs)\n",
    "rep_df.insert(loc=0, column='guest', value =  guests)\n",
    "rep_df.insert(loc=0, column='cation_charge', value =  charges)\n",
    "rep_df.drop_duplicates(inplace=True)\n",
    "\n",
    "print(\"Sorting by percent radial difference ...\")\n",
    "rep_df.sort_values('|rad_diff|/%', inplace=True)\n",
    "\n",
    "print(\"Copying results to clipboard ...\")\n",
    "rep_df.to_clipboard()"
   ]
  },
  {
   "cell_type": "code",
   "execution_count": 465,
   "metadata": {},
   "outputs": [
    {
     "data": {
      "text/html": [
       "<pre>✔️ 9.12 ms (2022-08-28T17:51:49/2022-08-28T17:51:49)</pre>"
      ],
      "text/plain": [
       "<IPython.core.display.HTML object>"
      ]
     },
     "metadata": {},
     "output_type": "display_data"
    },
    {
     "data": {
      "text/html": [
       "<div>\n",
       "<style scoped>\n",
       "    .dataframe tbody tr th:only-of-type {\n",
       "        vertical-align: middle;\n",
       "    }\n",
       "\n",
       "    .dataframe tbody tr th {\n",
       "        vertical-align: top;\n",
       "    }\n",
       "\n",
       "    .dataframe thead th {\n",
       "        text-align: right;\n",
       "    }\n",
       "</style>\n",
       "<table border=\"1\" class=\"dataframe\">\n",
       "  <thead>\n",
       "    <tr style=\"text-align: right;\">\n",
       "      <th></th>\n",
       "      <th>cation_charge</th>\n",
       "      <th>guest</th>\n",
       "      <th>(anion - subs_anion)/%</th>\n",
       "      <th>|rad_diff|/%</th>\n",
       "      <th>avg_electronegativity_of_host</th>\n",
       "      <th>host</th>\n",
       "    </tr>\n",
       "  </thead>\n",
       "  <tbody>\n",
       "    <tr>\n",
       "      <th>300</th>\n",
       "      <td>3</td>\n",
       "      <td>Cu</td>\n",
       "      <td>0.729927</td>\n",
       "      <td>0.729927</td>\n",
       "      <td>1.56</td>\n",
       "      <td>Co2O3</td>\n",
       "    </tr>\n",
       "    <tr>\n",
       "      <th>301</th>\n",
       "      <td>3</td>\n",
       "      <td>Cu</td>\n",
       "      <td>-0.740741</td>\n",
       "      <td>0.740741</td>\n",
       "      <td>1.83</td>\n",
       "      <td>Al2O3</td>\n",
       "    </tr>\n",
       "    <tr>\n",
       "      <th>555</th>\n",
       "      <td>6</td>\n",
       "      <td>Fe</td>\n",
       "      <td>1.265823</td>\n",
       "      <td>1.265823</td>\n",
       "      <td>1.89</td>\n",
       "      <td>MnO3</td>\n",
       "    </tr>\n",
       "    <tr>\n",
       "      <th>327</th>\n",
       "      <td>3</td>\n",
       "      <td>Cu</td>\n",
       "      <td>1.449275</td>\n",
       "      <td>1.449275</td>\n",
       "      <td>1.61</td>\n",
       "      <td>Fe2O3</td>\n",
       "    </tr>\n",
       "    <tr>\n",
       "      <th>100</th>\n",
       "      <td>2</td>\n",
       "      <td>Ni</td>\n",
       "      <td>-2.469136</td>\n",
       "      <td>2.469136</td>\n",
       "      <td>1.89</td>\n",
       "      <td>MnO</td>\n",
       "    </tr>\n",
       "    <tr>\n",
       "      <th>...</th>\n",
       "      <td>...</td>\n",
       "      <td>...</td>\n",
       "      <td>...</td>\n",
       "      <td>...</td>\n",
       "      <td>...</td>\n",
       "      <td>...</td>\n",
       "    </tr>\n",
       "    <tr>\n",
       "      <th>578</th>\n",
       "      <td>6</td>\n",
       "      <td>Fe</td>\n",
       "      <td>46.575342</td>\n",
       "      <td>46.575342</td>\n",
       "      <td>1.28</td>\n",
       "      <td>MoO3</td>\n",
       "    </tr>\n",
       "    <tr>\n",
       "      <th>547</th>\n",
       "      <td>5</td>\n",
       "      <td>Mn</td>\n",
       "      <td>47.191011</td>\n",
       "      <td>47.191011</td>\n",
       "      <td>2.08</td>\n",
       "      <td>Np2O5</td>\n",
       "    </tr>\n",
       "    <tr>\n",
       "      <th>548</th>\n",
       "      <td>5</td>\n",
       "      <td>Mn</td>\n",
       "      <td>47.777778</td>\n",
       "      <td>47.777778</td>\n",
       "      <td>1.42</td>\n",
       "      <td>Bi2O5</td>\n",
       "    </tr>\n",
       "    <tr>\n",
       "      <th>550</th>\n",
       "      <td>5</td>\n",
       "      <td>Mn</td>\n",
       "      <td>47.777778</td>\n",
       "      <td>47.777778</td>\n",
       "      <td>2.06</td>\n",
       "      <td>U2O5</td>\n",
       "    </tr>\n",
       "    <tr>\n",
       "      <th>589</th>\n",
       "      <td>6</td>\n",
       "      <td>Fe</td>\n",
       "      <td>55.172414</td>\n",
       "      <td>55.172414</td>\n",
       "      <td>2.06</td>\n",
       "      <td>UO3</td>\n",
       "    </tr>\n",
       "  </tbody>\n",
       "</table>\n",
       "<p>117 rows × 6 columns</p>\n",
       "</div>"
      ],
      "text/plain": [
       "     cation_charge guest  (anion - subs_anion)/%  |rad_diff|/%  \\\n",
       "300              3    Cu                0.729927      0.729927   \n",
       "301              3    Cu               -0.740741      0.740741   \n",
       "555              6    Fe                1.265823      1.265823   \n",
       "327              3    Cu                1.449275      1.449275   \n",
       "100              2    Ni               -2.469136      2.469136   \n",
       "..             ...   ...                     ...           ...   \n",
       "578              6    Fe               46.575342     46.575342   \n",
       "547              5    Mn               47.191011     47.191011   \n",
       "548              5    Mn               47.777778     47.777778   \n",
       "550              5    Mn               47.777778     47.777778   \n",
       "589              6    Fe               55.172414     55.172414   \n",
       "\n",
       "     avg_electronegativity_of_host   host  \n",
       "300                           1.56  Co2O3  \n",
       "301                           1.83  Al2O3  \n",
       "555                           1.89   MnO3  \n",
       "327                           1.61  Fe2O3  \n",
       "100                           1.89    MnO  \n",
       "..                             ...    ...  \n",
       "578                           1.28   MoO3  \n",
       "547                           2.08  Np2O5  \n",
       "548                           1.42  Bi2O5  \n",
       "550                           2.06   U2O5  \n",
       "589                           2.06    UO3  \n",
       "\n",
       "[117 rows x 6 columns]"
      ]
     },
     "execution_count": 465,
     "metadata": {},
     "output_type": "execute_result"
    }
   ],
   "source": [
    "rep_df"
   ]
  },
  {
   "cell_type": "code",
   "execution_count": 476,
   "metadata": {},
   "outputs": [
    {
     "data": {
      "text/html": [
       "<pre>✔️ 5.39 ms (2022-08-28T17:58:04/2022-08-28T17:58:04)</pre>"
      ],
      "text/plain": [
       "<IPython.core.display.HTML object>"
      ]
     },
     "metadata": {},
     "output_type": "display_data"
    }
   ],
   "source": [
    "import pyperclip"
   ]
  },
  {
   "cell_type": "code",
   "execution_count": 482,
   "metadata": {},
   "outputs": [
    {
     "data": {
      "text/html": [
       "<pre>✔️ 447 ms (2022-08-28T18:08:12/2022-08-28T18:08:13)</pre>"
      ],
      "text/plain": [
       "<IPython.core.display.HTML object>"
      ]
     },
     "metadata": {},
     "output_type": "display_data"
    }
   ],
   "source": [
    "!mkdir calcs"
   ]
  },
  {
   "cell_type": "code",
   "execution_count": 483,
   "metadata": {},
   "outputs": [
    {
     "data": {
      "text/html": [
       "<pre>✔️ 95.5 ms (2022-08-28T18:08:26/2022-08-28T18:08:26)</pre>"
      ],
      "text/plain": [
       "<IPython.core.display.HTML object>"
      ]
     },
     "metadata": {},
     "output_type": "display_data"
    },
    {
     "name": "stderr",
     "output_type": "stream",
     "text": [
      "<ipython-input-483-d99f4073d01f>:1: FutureWarning: As the xlwt package is no longer maintained, the xlwt engine will be removed in a future version of pandas. This is the only engine in pandas that supports writing in the xls format. Install openpyxl and write to an xlsx file instead. You can set the option io.excel.xls.writer to 'xlwt' to silence this warning. While this option is deprecated and will also raise a warning, it can be globally set and the warning suppressed.\n",
      "  rep_df.to_excel('./calcs/ion_matches.xls')\n"
     ]
    }
   ],
   "source": [
    "rep_df.to_excel('./calcs/ion_matches.xls')"
   ]
  },
  {
   "cell_type": "code",
   "execution_count": 479,
   "metadata": {},
   "outputs": [
    {
     "data": {
      "text/html": [
       "<pre>✔️ 58.9 ms (2022-08-28T18:02:48/2022-08-28T18:02:48)</pre>"
      ],
      "text/plain": [
       "<IPython.core.display.HTML object>"
      ]
     },
     "metadata": {},
     "output_type": "display_data"
    }
   ],
   "source": [
    "things = []\n",
    "for c_charge, host, guest in zip(rep_df.loc[:,'cation_charge'], rep_df.loc[:,'host'], rep_df.loc[:,'guest']):\n",
    "    kernel = '\\ce{%s}^{%d+}\\!\\!:\\!\\!' % (guest, c_charge)\n",
    "    things.append(kernel + '\\ce{'+host+'}')\n",
    "out = '$\\n\\n$'.join([(', '.join(things[4*i:4*i+4])) for i in range(len(things)//4)])\n",
    "pyperclip.copy(out)"
   ]
  },
  {
   "cell_type": "code",
   "execution_count": 460,
   "metadata": {
    "execution": {
     "iopub.execute_input": "2021-08-30T19:56:32.715856Z",
     "iopub.status.busy": "2021-08-30T19:56:32.714549Z",
     "iopub.status.idle": "2021-08-30T19:56:32.764856Z",
     "shell.execute_reply": "2021-08-30T19:56:32.764250Z",
     "shell.execute_reply.started": "2021-08-30T19:56:32.715730Z"
    },
    "tags": []
   },
   "outputs": [
    {
     "data": {
      "text/html": [
       "<pre>✔️ 917 µs (2022-08-28T17:30:25/2022-08-28T17:30:25)</pre>"
      ],
      "text/plain": [
       "<IPython.core.display.HTML object>"
      ]
     },
     "metadata": {},
     "output_type": "display_data"
    }
   ],
   "source": [
    "# matchers = {1: ['Sc','Co'],\n",
    "#             2: ['Ti','Ni'],\n",
    "#             3: ['V','Cu'],\n",
    "#             4: ['Cr','Zn'],\n",
    "#             5: ['Mn'],\n",
    "#             6: ['Fe']}\n",
    "# for i in range(1,7):\n",
    "#     for elemens in matchers[i]:\n",
    "#         print('')\n",
    "#         kernel = '\\ce{%s}^{%d+}\\!\\!:\\!\\!' % (elemens,i)\n",
    "#         things = list(set(oxides[oxides['cation_charge'] == i]['pretty_formula']))\n",
    "#         things = list(map(lambda x: kernel+'\\ce{'+x+'}', things))\n",
    "#         print(', '.join(things))"
   ]
  },
  {
   "cell_type": "markdown",
   "metadata": {
    "tags": []
   },
   "source": [
    "## Analysis of the Materials Project static database"
   ]
  },
  {
   "cell_type": "markdown",
   "metadata": {
    "execution": {
     "iopub.execute_input": "2021-08-30T15:17:46.292589Z",
     "iopub.status.busy": "2021-08-30T15:17:46.291228Z",
     "iopub.status.idle": "2021-08-30T15:17:46.308419Z",
     "shell.execute_reply": "2021-08-30T15:17:46.304506Z",
     "shell.execute_reply.started": "2021-08-30T15:17:46.292500Z"
    }
   },
   "source": [
    "There is a static version of the Materials Project data from 2018.\n",
    "\n",
    "https://figshare.com/articles/dataset/Materials_Project_Data/7227749"
   ]
  },
  {
   "cell_type": "code",
   "execution_count": 17,
   "metadata": {
    "execution": {
     "iopub.execute_input": "2021-08-30T16:08:54.504907Z",
     "iopub.status.busy": "2021-08-30T16:08:54.504546Z",
     "iopub.status.idle": "2021-08-30T16:08:54.512603Z",
     "shell.execute_reply": "2021-08-30T16:08:54.511428Z",
     "shell.execute_reply.started": "2021-08-30T16:08:54.504870Z"
    },
    "tags": []
   },
   "outputs": [
    {
     "name": "stdout",
     "output_type": "stream",
     "text": [
      "time: 1.54 ms (started: 2021-08-30 12:08:54 -04:00)\n"
     ]
    }
   ],
   "source": [
    "from matminer.datasets import load_dataset"
   ]
  },
  {
   "cell_type": "code",
   "execution_count": 4,
   "metadata": {
    "execution": {
     "iopub.execute_input": "2021-09-10T14:17:26.250684Z",
     "iopub.status.busy": "2021-09-10T14:17:26.250313Z",
     "iopub.status.idle": "2021-09-10T14:17:35.040677Z",
     "shell.execute_reply": "2021-09-10T14:17:35.040384Z",
     "shell.execute_reply.started": "2021-09-10T14:17:26.250647Z"
    },
    "tags": []
   },
   "outputs": [
    {
     "data": {
      "text/html": [
       "<pre>✔️ 9.19 s (2022-08-27T19:15:54/2022-08-27T19:16:04)</pre>"
      ],
      "text/plain": [
       "<IPython.core.display.HTML object>"
      ]
     },
     "metadata": {},
     "output_type": "display_data"
    }
   ],
   "source": [
    "mp_df = pd.read_csv('/Users/juan/Data/Materials Project/mp_all.csv')"
   ]
  },
  {
   "cell_type": "code",
   "execution_count": 5,
   "metadata": {
    "execution": {
     "iopub.execute_input": "2021-09-10T14:17:41.351991Z",
     "iopub.status.busy": "2021-09-10T14:17:41.351597Z",
     "iopub.status.idle": "2021-09-10T14:19:06.195735Z",
     "shell.execute_reply": "2021-09-10T14:19:06.193880Z",
     "shell.execute_reply.started": "2021-09-10T14:17:41.351954Z"
    },
    "tags": []
   },
   "outputs": [
    {
     "data": {
      "text/html": [
       "<pre>✔️ 1 min 10 s (2022-08-27T19:16:06/2022-08-27T19:17:17)</pre>"
      ],
      "text/plain": [
       "<IPython.core.display.HTML object>"
      ]
     },
     "metadata": {},
     "output_type": "display_data"
    }
   ],
   "source": [
    "structures = list(map(eval, mp_df['structure']))"
   ]
  },
  {
   "cell_type": "code",
   "execution_count": 6,
   "metadata": {
    "execution": {
     "iopub.execute_input": "2021-08-30T18:19:06.628518Z",
     "iopub.status.busy": "2021-08-30T18:19:06.627060Z",
     "iopub.status.idle": "2021-08-30T18:19:06.648319Z",
     "shell.execute_reply": "2021-08-30T18:19:06.646880Z",
     "shell.execute_reply.started": "2021-08-30T18:19:06.628420Z"
    },
    "tags": []
   },
   "outputs": [
    {
     "data": {
      "text/html": [
       "<pre>✔️ 1.5 ms (2022-08-27T19:17:17/2022-08-27T19:17:17)</pre>"
      ],
      "text/plain": [
       "<IPython.core.display.HTML object>"
      ]
     },
     "metadata": {},
     "output_type": "display_data"
    }
   ],
   "source": [
    "def parse_chemical_formula(struc):\n",
    "    sites = struc['sites']\n",
    "    species = [s['species'][0]['element'] for s in sites]\n",
    "    species_counts = {elem: species.count(elem) for elem in set(species)}\n",
    "    return species_counts"
   ]
  },
  {
   "cell_type": "code",
   "execution_count": 7,
   "metadata": {
    "execution": {
     "iopub.execute_input": "2021-08-30T18:26:48.932282Z",
     "iopub.status.busy": "2021-08-30T18:26:48.931020Z",
     "iopub.status.idle": "2021-08-30T18:26:53.515891Z",
     "shell.execute_reply": "2021-08-30T18:26:53.515239Z",
     "shell.execute_reply.started": "2021-08-30T18:26:48.932196Z"
    },
    "tags": []
   },
   "outputs": [
    {
     "data": {
      "text/html": [
       "<pre>✔️ 1.59 s (2022-08-27T19:17:17/2022-08-27T19:17:19)</pre>"
      ],
      "text/plain": [
       "<IPython.core.display.HTML object>"
      ]
     },
     "metadata": {},
     "output_type": "display_data"
    }
   ],
   "source": [
    "parsed_structures = list(map(parse_chemical_formula, structures))"
   ]
  },
  {
   "cell_type": "code",
   "execution_count": 8,
   "metadata": {
    "execution": {
     "iopub.execute_input": "2021-08-30T18:28:04.063090Z",
     "iopub.status.busy": "2021-08-30T18:28:04.062708Z",
     "iopub.status.idle": "2021-08-30T18:28:04.182724Z",
     "shell.execute_reply": "2021-08-30T18:28:04.182238Z",
     "shell.execute_reply.started": "2021-08-30T18:28:04.063052Z"
    },
    "tags": []
   },
   "outputs": [
    {
     "data": {
      "text/html": [
       "<pre>✔️ 39 ms (2022-08-27T19:17:19/2022-08-27T19:17:19)</pre>"
      ],
      "text/plain": [
       "<IPython.core.display.HTML object>"
      ]
     },
     "metadata": {},
     "output_type": "display_data"
    }
   ],
   "source": [
    "mp_df['parsed_structure'] = parsed_structures\n",
    "mp_df['num_elements'] = list(map(len,parsed_structures))"
   ]
  },
  {
   "cell_type": "code",
   "execution_count": 9,
   "metadata": {
    "execution": {
     "iopub.execute_input": "2021-08-30T18:30:11.156022Z",
     "iopub.status.busy": "2021-08-30T18:30:11.155501Z",
     "iopub.status.idle": "2021-08-30T18:30:13.077691Z",
     "shell.execute_reply": "2021-08-30T18:30:13.077259Z",
     "shell.execute_reply.started": "2021-08-30T18:30:11.155982Z"
    },
    "tags": []
   },
   "outputs": [
    {
     "data": {
      "text/html": [
       "<pre>✔️ 350 ms (2022-08-27T19:17:19/2022-08-27T19:17:19)</pre>"
      ],
      "text/plain": [
       "<IPython.core.display.HTML object>"
      ]
     },
     "metadata": {},
     "output_type": "display_data"
    }
   ],
   "source": [
    "binary_compounds = mp_df[mp_df['num_elements'] == 2]"
   ]
  },
  {
   "cell_type": "code",
   "execution_count": 14,
   "metadata": {
    "execution": {
     "iopub.execute_input": "2021-08-30T18:34:13.898131Z",
     "iopub.status.busy": "2021-08-30T18:34:13.897717Z",
     "iopub.status.idle": "2021-08-30T18:34:13.905646Z",
     "shell.execute_reply": "2021-08-30T18:34:13.904657Z",
     "shell.execute_reply.started": "2021-08-30T18:34:13.898093Z"
    },
    "tags": []
   },
   "outputs": [
    {
     "data": {
      "text/html": [
       "<pre>✔️ 505 µs (2022-08-27T19:17:38/2022-08-27T19:17:38)</pre>"
      ],
      "text/plain": [
       "<IPython.core.display.HTML object>"
      ]
     },
     "metadata": {},
     "output_type": "display_data"
    }
   ],
   "source": [
    "def binary_electroneg(parse_struct):\n",
    "    elements = list(parse_struct.keys())\n",
    "    electronegs = list(map(lambda x: pymatgen.core.Element(x).X, elements))\n",
    "    return max(electronegs) - min(electronegs)"
   ]
  },
  {
   "cell_type": "code",
   "execution_count": 23,
   "metadata": {
    "execution": {
     "iopub.execute_input": "2021-08-30T18:34:14.692546Z",
     "iopub.status.busy": "2021-08-30T18:34:14.692151Z",
     "iopub.status.idle": "2021-08-30T18:34:14.711597Z",
     "shell.execute_reply": "2021-08-30T18:34:14.710541Z",
     "shell.execute_reply.started": "2021-08-30T18:34:14.692507Z"
    },
    "tags": []
   },
   "outputs": [
    {
     "data": {
      "text/html": [
       "<pre>✔️ 18.3 ms (2022-08-27T19:19:29/2022-08-27T19:19:29)</pre>"
      ],
      "text/plain": [
       "<IPython.core.display.HTML object>"
      ]
     },
     "metadata": {},
     "output_type": "display_data"
    },
    {
     "data": {
      "text/plain": [
       "['Ce', 'Hg']"
      ]
     },
     "execution_count": 23,
     "metadata": {},
     "output_type": "execute_result"
    }
   ],
   "source": [
    "list(list(binary_compounds['parsed_structure'])[0].keys())"
   ]
  },
  {
   "cell_type": "code",
   "execution_count": 16,
   "metadata": {
    "execution": {
     "iopub.execute_input": "2021-08-30T18:37:20.984006Z",
     "iopub.status.busy": "2021-08-30T18:37:20.983631Z",
     "iopub.status.idle": "2021-08-30T18:37:21.081530Z",
     "shell.execute_reply": "2021-08-30T18:37:21.081052Z",
     "shell.execute_reply.started": "2021-08-30T18:37:20.983965Z"
    },
    "tags": []
   },
   "outputs": [
    {
     "data": {
      "text/html": [
       "<pre>✔️ 64.2 ms (2022-08-27T19:17:40/2022-08-27T19:17:40)</pre>"
      ],
      "text/plain": [
       "<IPython.core.display.HTML object>"
      ]
     },
     "metadata": {},
     "output_type": "display_data"
    },
    {
     "name": "stderr",
     "output_type": "stream",
     "text": [
      "<ipython-input-16-a2d88e0d90d3>:1: SettingWithCopyWarning: \n",
      "A value is trying to be set on a copy of a slice from a DataFrame.\n",
      "Try using .loc[row_indexer,col_indexer] = value instead\n",
      "\n",
      "See the caveats in the documentation: https://pandas.pydata.org/pandas-docs/stable/user_guide/indexing.html#returning-a-view-versus-a-copy\n",
      "  binary_compounds['avg_electronegativity'] = list(map(binary_electroneg, list(binary_compounds['parsed_structure'])))\n"
     ]
    }
   ],
   "source": [
    "binary_compounds['avg_electronegativity'] = list(map(binary_electroneg, list(binary_compounds['parsed_structure'])))"
   ]
  },
  {
   "cell_type": "code",
   "execution_count": 17,
   "metadata": {
    "execution": {
     "iopub.execute_input": "2021-08-30T18:37:53.095264Z",
     "iopub.status.busy": "2021-08-30T18:37:53.094853Z",
     "iopub.status.idle": "2021-08-30T18:37:53.139798Z",
     "shell.execute_reply": "2021-08-30T18:37:53.139271Z",
     "shell.execute_reply.started": "2021-08-30T18:37:53.095223Z"
    },
    "tags": []
   },
   "outputs": [
    {
     "data": {
      "text/html": [
       "<pre>✔️ 4.43 ms (2022-08-27T19:17:42/2022-08-27T19:17:42)</pre>"
      ],
      "text/plain": [
       "<IPython.core.display.HTML object>"
      ]
     },
     "metadata": {},
     "output_type": "display_data"
    }
   ],
   "source": [
    "binary_ionic_compounds = binary_compounds[binary_compounds['avg_electronegativity']>2]"
   ]
  },
  {
   "cell_type": "code",
   "execution_count": 18,
   "metadata": {
    "execution": {
     "iopub.execute_input": "2021-08-30T18:41:38.822317Z",
     "iopub.status.busy": "2021-08-30T18:41:38.821058Z",
     "iopub.status.idle": "2021-08-30T18:41:38.841324Z",
     "shell.execute_reply": "2021-08-30T18:41:38.839425Z",
     "shell.execute_reply.started": "2021-08-30T18:41:38.822214Z"
    },
    "tags": []
   },
   "outputs": [
    {
     "data": {
      "text/html": [
       "<pre>✔️ 773 µs (2022-08-27T19:17:43/2022-08-27T19:17:43)</pre>"
      ],
      "text/plain": [
       "<IPython.core.display.HTML object>"
      ]
     },
     "metadata": {},
     "output_type": "display_data"
    }
   ],
   "source": [
    "struc = binary_ionic_compounds['parsed_structure'].iloc[0]"
   ]
  },
  {
   "cell_type": "code",
   "execution_count": 19,
   "metadata": {
    "execution": {
     "iopub.execute_input": "2021-08-30T18:44:13.817612Z",
     "iopub.status.busy": "2021-08-30T18:44:13.817202Z",
     "iopub.status.idle": "2021-08-30T18:44:13.829112Z",
     "shell.execute_reply": "2021-08-30T18:44:13.827915Z",
     "shell.execute_reply.started": "2021-08-30T18:44:13.817574Z"
    },
    "tags": []
   },
   "outputs": [
    {
     "data": {
      "text/html": [
       "<pre>✔️ 3.08 ms (2022-08-27T19:17:44/2022-08-27T19:17:44)</pre>"
      ],
      "text/plain": [
       "<IPython.core.display.HTML object>"
      ]
     },
     "metadata": {},
     "output_type": "display_data"
    }
   ],
   "source": [
    "oxides = binary_ionic_compounds[binary_ionic_compounds['parsed_structure'].apply(lambda x: 'O' in x.keys())]"
   ]
  },
  {
   "cell_type": "code",
   "execution_count": 20,
   "metadata": {
    "execution": {
     "iopub.execute_input": "2021-08-30T18:56:06.291404Z",
     "iopub.status.busy": "2021-08-30T18:56:06.290943Z",
     "iopub.status.idle": "2021-08-30T18:56:06.328789Z",
     "shell.execute_reply": "2021-08-30T18:56:06.328255Z",
     "shell.execute_reply.started": "2021-08-30T18:56:06.291365Z"
    },
    "tags": []
   },
   "outputs": [
    {
     "data": {
      "text/html": [
       "<pre>✔️ 11 ms (2022-08-27T19:17:45/2022-08-27T19:17:45)</pre>"
      ],
      "text/plain": [
       "<IPython.core.display.HTML object>"
      ]
     },
     "metadata": {},
     "output_type": "display_data"
    }
   ],
   "source": [
    "partner_ionizations = []\n",
    "for oxide in oxides.iterrows():\n",
    "    n_oxygen = oxide[1]['parsed_structure']['O']\n",
    "    elements = list(oxide[1]['parsed_structure'].keys())\n",
    "    elements.remove('O')\n",
    "    partner_element = elements[0]\n",
    "    n_partner = oxide[1]['parsed_structure'][partner_element]\n",
    "    i1 = 2*n_oxygen/n_partner\n",
    "    if int(i1) != i1:\n",
    "        i1 = None\n",
    "    else:\n",
    "        i1 = int(i1)\n",
    "    partner_ionizations.append(i1)"
   ]
  },
  {
   "cell_type": "code",
   "execution_count": 21,
   "metadata": {
    "execution": {
     "iopub.execute_input": "2021-08-30T18:56:27.508843Z",
     "iopub.status.busy": "2021-08-30T18:56:27.508480Z",
     "iopub.status.idle": "2021-08-30T18:56:27.521315Z",
     "shell.execute_reply": "2021-08-30T18:56:27.520240Z",
     "shell.execute_reply.started": "2021-08-30T18:56:27.508806Z"
    },
    "tags": []
   },
   "outputs": [
    {
     "data": {
      "text/html": [
       "<pre>✔️ 8.59 ms (2022-08-27T19:17:46/2022-08-27T19:17:46)</pre>"
      ],
      "text/plain": [
       "<IPython.core.display.HTML object>"
      ]
     },
     "metadata": {},
     "output_type": "display_data"
    },
    {
     "name": "stderr",
     "output_type": "stream",
     "text": [
      "<ipython-input-21-624b8993212a>:1: SettingWithCopyWarning: \n",
      "A value is trying to be set on a copy of a slice from a DataFrame.\n",
      "Try using .loc[row_indexer,col_indexer] = value instead\n",
      "\n",
      "See the caveats in the documentation: https://pandas.pydata.org/pandas-docs/stable/user_guide/indexing.html#returning-a-view-versus-a-copy\n",
      "  oxides['cation_charge'] = partner_ionizations\n"
     ]
    }
   ],
   "source": [
    "oxides['cation_charge'] = partner_ionizations"
   ]
  },
  {
   "cell_type": "code",
   "execution_count": 22,
   "metadata": {
    "execution": {
     "iopub.execute_input": "2021-08-30T19:56:32.715856Z",
     "iopub.status.busy": "2021-08-30T19:56:32.714549Z",
     "iopub.status.idle": "2021-08-30T19:56:32.764856Z",
     "shell.execute_reply": "2021-08-30T19:56:32.764250Z",
     "shell.execute_reply.started": "2021-08-30T19:56:32.715730Z"
    },
    "tags": []
   },
   "outputs": [
    {
     "data": {
      "text/html": [
       "<pre>✔️ 7.38 ms (2022-08-27T19:17:48/2022-08-27T19:17:48)</pre>"
      ],
      "text/plain": [
       "<IPython.core.display.HTML object>"
      ]
     },
     "metadata": {},
     "output_type": "display_data"
    },
    {
     "name": "stdout",
     "output_type": "stream",
     "text": [
      "\n",
      "\\ce{Sc}^{1+}\\!\\!:\\!\\!\\ce{Zr2O}, \\ce{Sc}^{1+}\\!\\!:\\!\\!\\ce{K2O}, \\ce{Sc}^{1+}\\!\\!:\\!\\!\\ce{Li2O}, \\ce{Sc}^{1+}\\!\\!:\\!\\!\\ce{Cs2O}, \\ce{Sc}^{1+}\\!\\!:\\!\\!\\ce{Sm2O}, \\ce{Sc}^{1+}\\!\\!:\\!\\!\\ce{Na2O}, \\ce{Sc}^{1+}\\!\\!:\\!\\!\\ce{Rb2O}\n",
      "\n",
      "\\ce{Co}^{1+}\\!\\!:\\!\\!\\ce{Zr2O}, \\ce{Co}^{1+}\\!\\!:\\!\\!\\ce{K2O}, \\ce{Co}^{1+}\\!\\!:\\!\\!\\ce{Li2O}, \\ce{Co}^{1+}\\!\\!:\\!\\!\\ce{Cs2O}, \\ce{Co}^{1+}\\!\\!:\\!\\!\\ce{Sm2O}, \\ce{Co}^{1+}\\!\\!:\\!\\!\\ce{Na2O}, \\ce{Co}^{1+}\\!\\!:\\!\\!\\ce{Rb2O}\n",
      "\n",
      "\\ce{Ti}^{2+}\\!\\!:\\!\\!\\ce{Na2O2}, \\ce{Ti}^{2+}\\!\\!:\\!\\!\\ce{NdO}, \\ce{Ti}^{2+}\\!\\!:\\!\\!\\ce{YbO}, \\ce{Ti}^{2+}\\!\\!:\\!\\!\\ce{K2O2}, \\ce{Ti}^{2+}\\!\\!:\\!\\!\\ce{CeO}, \\ce{Ti}^{2+}\\!\\!:\\!\\!\\ce{UO}, \\ce{Ti}^{2+}\\!\\!:\\!\\!\\ce{SmO}, \\ce{Ti}^{2+}\\!\\!:\\!\\!\\ce{CaO}, \\ce{Ti}^{2+}\\!\\!:\\!\\!\\ce{Rb2O2}, \\ce{Ti}^{2+}\\!\\!:\\!\\!\\ce{PuO}, \\ce{Ti}^{2+}\\!\\!:\\!\\!\\ce{Li2O2}, \\ce{Ti}^{2+}\\!\\!:\\!\\!\\ce{HoO}, \\ce{Ti}^{2+}\\!\\!:\\!\\!\\ce{NpO}, \\ce{Ti}^{2+}\\!\\!:\\!\\!\\ce{EuO}, \\ce{Ti}^{2+}\\!\\!:\\!\\!\\ce{BaO}, \\ce{Ti}^{2+}\\!\\!:\\!\\!\\ce{Cs2O2}, \\ce{Ti}^{2+}\\!\\!:\\!\\!\\ce{ZrO}, \\ce{Ti}^{2+}\\!\\!:\\!\\!\\ce{GdO}, \\ce{Ti}^{2+}\\!\\!:\\!\\!\\ce{SrO}, \\ce{Ti}^{2+}\\!\\!:\\!\\!\\ce{ScO}, \\ce{Ti}^{2+}\\!\\!:\\!\\!\\ce{PrO}, \\ce{Ti}^{2+}\\!\\!:\\!\\!\\ce{MgO}\n",
      "\n",
      "\\ce{Ni}^{2+}\\!\\!:\\!\\!\\ce{Na2O2}, \\ce{Ni}^{2+}\\!\\!:\\!\\!\\ce{NdO}, \\ce{Ni}^{2+}\\!\\!:\\!\\!\\ce{YbO}, \\ce{Ni}^{2+}\\!\\!:\\!\\!\\ce{K2O2}, \\ce{Ni}^{2+}\\!\\!:\\!\\!\\ce{CeO}, \\ce{Ni}^{2+}\\!\\!:\\!\\!\\ce{UO}, \\ce{Ni}^{2+}\\!\\!:\\!\\!\\ce{SmO}, \\ce{Ni}^{2+}\\!\\!:\\!\\!\\ce{CaO}, \\ce{Ni}^{2+}\\!\\!:\\!\\!\\ce{Rb2O2}, \\ce{Ni}^{2+}\\!\\!:\\!\\!\\ce{PuO}, \\ce{Ni}^{2+}\\!\\!:\\!\\!\\ce{Li2O2}, \\ce{Ni}^{2+}\\!\\!:\\!\\!\\ce{HoO}, \\ce{Ni}^{2+}\\!\\!:\\!\\!\\ce{NpO}, \\ce{Ni}^{2+}\\!\\!:\\!\\!\\ce{EuO}, \\ce{Ni}^{2+}\\!\\!:\\!\\!\\ce{BaO}, \\ce{Ni}^{2+}\\!\\!:\\!\\!\\ce{Cs2O2}, \\ce{Ni}^{2+}\\!\\!:\\!\\!\\ce{ZrO}, \\ce{Ni}^{2+}\\!\\!:\\!\\!\\ce{GdO}, \\ce{Ni}^{2+}\\!\\!:\\!\\!\\ce{SrO}, \\ce{Ni}^{2+}\\!\\!:\\!\\!\\ce{ScO}, \\ce{Ni}^{2+}\\!\\!:\\!\\!\\ce{PrO}, \\ce{Ni}^{2+}\\!\\!:\\!\\!\\ce{MgO}\n",
      "\n",
      "\\ce{V}^{3+}\\!\\!:\\!\\!\\ce{Yb2O3}, \\ce{V}^{3+}\\!\\!:\\!\\!\\ce{Er2O3}, \\ce{V}^{3+}\\!\\!:\\!\\!\\ce{Tb2O3}, \\ce{V}^{3+}\\!\\!:\\!\\!\\ce{Y2O3}, \\ce{V}^{3+}\\!\\!:\\!\\!\\ce{Ce2O3}, \\ce{V}^{3+}\\!\\!:\\!\\!\\ce{Sm2O3}, \\ce{V}^{3+}\\!\\!:\\!\\!\\ce{Tm2O3}, \\ce{V}^{3+}\\!\\!:\\!\\!\\ce{La2O3}, \\ce{V}^{3+}\\!\\!:\\!\\!\\ce{Sc2O3}, \\ce{V}^{3+}\\!\\!:\\!\\!\\ce{Lu2O3}, \\ce{V}^{3+}\\!\\!:\\!\\!\\ce{Nd2O3}, \\ce{V}^{3+}\\!\\!:\\!\\!\\ce{Ac2O3}, \\ce{V}^{3+}\\!\\!:\\!\\!\\ce{Rb2O3}, \\ce{V}^{3+}\\!\\!:\\!\\!\\ce{Dy2O3}, \\ce{V}^{3+}\\!\\!:\\!\\!\\ce{Ho2O3}, \\ce{V}^{3+}\\!\\!:\\!\\!\\ce{Gd2O3}, \\ce{V}^{3+}\\!\\!:\\!\\!\\ce{Pm2O3}, \\ce{V}^{3+}\\!\\!:\\!\\!\\ce{Pu2O3}, \\ce{V}^{3+}\\!\\!:\\!\\!\\ce{Pr2O3}, \\ce{V}^{3+}\\!\\!:\\!\\!\\ce{Eu2O3}\n",
      "\n",
      "\\ce{Cu}^{3+}\\!\\!:\\!\\!\\ce{Yb2O3}, \\ce{Cu}^{3+}\\!\\!:\\!\\!\\ce{Er2O3}, \\ce{Cu}^{3+}\\!\\!:\\!\\!\\ce{Tb2O3}, \\ce{Cu}^{3+}\\!\\!:\\!\\!\\ce{Y2O3}, \\ce{Cu}^{3+}\\!\\!:\\!\\!\\ce{Ce2O3}, \\ce{Cu}^{3+}\\!\\!:\\!\\!\\ce{Sm2O3}, \\ce{Cu}^{3+}\\!\\!:\\!\\!\\ce{Tm2O3}, \\ce{Cu}^{3+}\\!\\!:\\!\\!\\ce{La2O3}, \\ce{Cu}^{3+}\\!\\!:\\!\\!\\ce{Sc2O3}, \\ce{Cu}^{3+}\\!\\!:\\!\\!\\ce{Lu2O3}, \\ce{Cu}^{3+}\\!\\!:\\!\\!\\ce{Nd2O3}, \\ce{Cu}^{3+}\\!\\!:\\!\\!\\ce{Ac2O3}, \\ce{Cu}^{3+}\\!\\!:\\!\\!\\ce{Rb2O3}, \\ce{Cu}^{3+}\\!\\!:\\!\\!\\ce{Dy2O3}, \\ce{Cu}^{3+}\\!\\!:\\!\\!\\ce{Ho2O3}, \\ce{Cu}^{3+}\\!\\!:\\!\\!\\ce{Gd2O3}, \\ce{Cu}^{3+}\\!\\!:\\!\\!\\ce{Pm2O3}, \\ce{Cu}^{3+}\\!\\!:\\!\\!\\ce{Pu2O3}, \\ce{Cu}^{3+}\\!\\!:\\!\\!\\ce{Pr2O3}, \\ce{Cu}^{3+}\\!\\!:\\!\\!\\ce{Eu2O3}\n",
      "\n",
      "\\ce{Cr}^{4+}\\!\\!:\\!\\!\\ce{LiO2}, \\ce{Cr}^{4+}\\!\\!:\\!\\!\\ce{SrO2}, \\ce{Cr}^{4+}\\!\\!:\\!\\!\\ce{EuO2}, \\ce{Cr}^{4+}\\!\\!:\\!\\!\\ce{GdO2}, \\ce{Cr}^{4+}\\!\\!:\\!\\!\\ce{BaO2}, \\ce{Cr}^{4+}\\!\\!:\\!\\!\\ce{YbO2}, \\ce{Cr}^{4+}\\!\\!:\\!\\!\\ce{TbO2}, \\ce{Cr}^{4+}\\!\\!:\\!\\!\\ce{HfO2}, \\ce{Cr}^{4+}\\!\\!:\\!\\!\\ce{ZrO2}, \\ce{Cr}^{4+}\\!\\!:\\!\\!\\ce{NaO2}, \\ce{Cr}^{4+}\\!\\!:\\!\\!\\ce{KO2}, \\ce{Cr}^{4+}\\!\\!:\\!\\!\\ce{ThO2}, \\ce{Cr}^{4+}\\!\\!:\\!\\!\\ce{PrO2}, \\ce{Cr}^{4+}\\!\\!:\\!\\!\\ce{CaO2}, \\ce{Cr}^{4+}\\!\\!:\\!\\!\\ce{MgO2}, \\ce{Cr}^{4+}\\!\\!:\\!\\!\\ce{NpO2}, \\ce{Cr}^{4+}\\!\\!:\\!\\!\\ce{CeO2}, \\ce{Cr}^{4+}\\!\\!:\\!\\!\\ce{CsO2}, \\ce{Cr}^{4+}\\!\\!:\\!\\!\\ce{SmO2}, \\ce{Cr}^{4+}\\!\\!:\\!\\!\\ce{RbO2}, \\ce{Cr}^{4+}\\!\\!:\\!\\!\\ce{PuO2}, \\ce{Cr}^{4+}\\!\\!:\\!\\!\\ce{UO2}, \\ce{Cr}^{4+}\\!\\!:\\!\\!\\ce{NdO2}\n",
      "\n",
      "\\ce{Zn}^{4+}\\!\\!:\\!\\!\\ce{LiO2}, \\ce{Zn}^{4+}\\!\\!:\\!\\!\\ce{SrO2}, \\ce{Zn}^{4+}\\!\\!:\\!\\!\\ce{EuO2}, \\ce{Zn}^{4+}\\!\\!:\\!\\!\\ce{GdO2}, \\ce{Zn}^{4+}\\!\\!:\\!\\!\\ce{BaO2}, \\ce{Zn}^{4+}\\!\\!:\\!\\!\\ce{YbO2}, \\ce{Zn}^{4+}\\!\\!:\\!\\!\\ce{TbO2}, \\ce{Zn}^{4+}\\!\\!:\\!\\!\\ce{HfO2}, \\ce{Zn}^{4+}\\!\\!:\\!\\!\\ce{ZrO2}, \\ce{Zn}^{4+}\\!\\!:\\!\\!\\ce{NaO2}, \\ce{Zn}^{4+}\\!\\!:\\!\\!\\ce{KO2}, \\ce{Zn}^{4+}\\!\\!:\\!\\!\\ce{ThO2}, \\ce{Zn}^{4+}\\!\\!:\\!\\!\\ce{PrO2}, \\ce{Zn}^{4+}\\!\\!:\\!\\!\\ce{CaO2}, \\ce{Zn}^{4+}\\!\\!:\\!\\!\\ce{MgO2}, \\ce{Zn}^{4+}\\!\\!:\\!\\!\\ce{NpO2}, \\ce{Zn}^{4+}\\!\\!:\\!\\!\\ce{CeO2}, \\ce{Zn}^{4+}\\!\\!:\\!\\!\\ce{CsO2}, \\ce{Zn}^{4+}\\!\\!:\\!\\!\\ce{SmO2}, \\ce{Zn}^{4+}\\!\\!:\\!\\!\\ce{RbO2}, \\ce{Zn}^{4+}\\!\\!:\\!\\!\\ce{PuO2}, \\ce{Zn}^{4+}\\!\\!:\\!\\!\\ce{UO2}, \\ce{Zn}^{4+}\\!\\!:\\!\\!\\ce{NdO2}\n",
      "\n",
      "\\ce{Mn}^{5+}\\!\\!:\\!\\!\\ce{Nd2O5}, \\ce{Mn}^{5+}\\!\\!:\\!\\!\\ce{U2O5}, \\ce{Mn}^{5+}\\!\\!:\\!\\!\\ce{Np2O5}\n",
      "\n",
      "\\ce{Fe}^{6+}\\!\\!:\\!\\!\\ce{HoO3}, \\ce{Fe}^{6+}\\!\\!:\\!\\!\\ce{KO3}, \\ce{Fe}^{6+}\\!\\!:\\!\\!\\ce{UO3}, \\ce{Fe}^{6+}\\!\\!:\\!\\!\\ce{LuO3}, \\ce{Fe}^{6+}\\!\\!:\\!\\!\\ce{LiO3}, \\ce{Fe}^{6+}\\!\\!:\\!\\!\\ce{NaO3}, \\ce{Fe}^{6+}\\!\\!:\\!\\!\\ce{NdO3}, \\ce{Fe}^{6+}\\!\\!:\\!\\!\\ce{ErO3}, \\ce{Fe}^{6+}\\!\\!:\\!\\!\\ce{TbO3}, \\ce{Fe}^{6+}\\!\\!:\\!\\!\\ce{RbO3}, \\ce{Fe}^{6+}\\!\\!:\\!\\!\\ce{LaO3}, \\ce{Fe}^{6+}\\!\\!:\\!\\!\\ce{TmO3}, \\ce{Fe}^{6+}\\!\\!:\\!\\!\\ce{DyO3}, \\ce{Fe}^{6+}\\!\\!:\\!\\!\\ce{SmO3}\n"
     ]
    }
   ],
   "source": [
    "matchers = {1: ['Sc','Co'],\n",
    "            2: ['Ti','Ni'],\n",
    "            3: ['V','Cu'],\n",
    "            4: ['Cr','Zn'],\n",
    "            5: ['Mn'],\n",
    "            6: ['Fe']}\n",
    "for i in range(1,7):\n",
    "    for elemens in matchers[i]:\n",
    "        print('')\n",
    "        kernel = '\\ce{%s}^{%d+}\\!\\!:\\!\\!' % (elemens,i)\n",
    "        things = list(set(oxides[oxides['cation_charge'] == i]['pretty_formula']))\n",
    "        things = list(map(lambda x: kernel+'\\ce{'+x+'}', things))\n",
    "        print(', '.join(things))"
   ]
  },
  {
   "cell_type": "code",
   "execution_count": 8,
   "metadata": {
    "execution": {
     "iopub.execute_input": "2021-08-30T15:38:36.676164Z",
     "iopub.status.busy": "2021-08-30T15:38:36.675725Z",
     "iopub.status.idle": "2021-08-30T15:45:47.623656Z",
     "shell.execute_reply": "2021-08-30T15:45:47.618016Z",
     "shell.execute_reply.started": "2021-08-30T15:38:36.676121Z"
    },
    "tags": []
   },
   "outputs": [],
   "source": [
    "mp_df = load_dataset('mp_all_20181018')"
   ]
  },
  {
   "cell_type": "code",
   "execution_count": 18,
   "metadata": {
    "execution": {
     "iopub.execute_input": "2021-08-30T16:11:17.637175Z",
     "iopub.status.busy": "2021-08-30T16:11:17.636178Z",
     "iopub.status.idle": "2021-08-30T16:24:10.058418Z",
     "shell.execute_reply": "2021-08-30T16:24:10.057701Z",
     "shell.execute_reply.started": "2021-08-30T16:11:17.637114Z"
    },
    "tags": []
   },
   "outputs": [
    {
     "name": "stdout",
     "output_type": "stream",
     "text": [
      "time: 12min 52s (started: 2021-08-30 12:11:17 -04:00)\n"
     ]
    }
   ],
   "source": [
    "another_df = load_dataset('mp_all_20181018')"
   ]
  },
  {
   "cell_type": "code",
   "execution_count": 20,
   "metadata": {
    "execution": {
     "iopub.execute_input": "2021-08-30T17:33:45.962041Z",
     "iopub.status.busy": "2021-08-30T17:33:45.961541Z",
     "iopub.status.idle": "2021-08-30T17:42:16.964644Z",
     "shell.execute_reply": "2021-08-30T17:42:16.961608Z",
     "shell.execute_reply.started": "2021-08-30T17:33:45.961994Z"
    },
    "tags": []
   },
   "outputs": [
    {
     "name": "stdout",
     "output_type": "stream",
     "text": [
      "time: 8min 30s (started: 2021-08-30 13:33:45 -04:00)\n"
     ]
    }
   ],
   "source": [
    "adf = pd.read_pickle('/Users/juan/Google Drive/Zia Lab/Codebase/qdef/data/mp_2018.pkl')"
   ]
  },
  {
   "cell_type": "code",
   "execution_count": 7,
   "metadata": {
    "execution": {
     "iopub.execute_input": "2021-08-30T15:35:12.250601Z",
     "iopub.status.busy": "2021-08-30T15:35:12.250240Z",
     "iopub.status.idle": "2021-08-30T15:35:12.256828Z",
     "shell.execute_reply": "2021-08-30T15:35:12.255257Z",
     "shell.execute_reply.started": "2021-08-30T15:35:12.250565Z"
    }
   },
   "outputs": [],
   "source": [
    "import json"
   ]
  },
  {
   "cell_type": "code",
   "execution_count": null,
   "metadata": {
    "execution": {
     "iopub.execute_input": "2021-08-30T15:35:12.465658Z",
     "iopub.status.busy": "2021-08-30T15:35:12.465274Z"
    },
    "tags": []
   },
   "outputs": [],
   "source": [
    "with open(\"/Users/juan/Downloads/mp_all.json\", encoding=\"utf-8\") as infile:\n",
    "    mp_df = json.load(infile)"
   ]
  },
  {
   "cell_type": "markdown",
   "metadata": {},
   "source": [
    "## Fun functions & Parsing"
   ]
  },
  {
   "cell_type": "code",
   "execution_count": 3,
   "metadata": {
    "ExecuteTime": {
     "end_time": "2021-03-02T15:20:50.847960Z",
     "start_time": "2021-03-02T15:20:50.844467Z"
    }
   },
   "outputs": [],
   "source": [
    "def some_in_list(l1,l2):\n",
    "    return sum([L1 in l2 for L1 in l1]) > 0"
   ]
  },
  {
   "cell_type": "code",
   "execution_count": 4,
   "metadata": {
    "ExecuteTime": {
     "end_time": "2021-03-02T15:20:50.854273Z",
     "start_time": "2021-03-02T15:20:50.850899Z"
    }
   },
   "outputs": [],
   "source": [
    "def spinless(abundance):\n",
    "    '''This function returns a list of atoms with \n",
    "    at least the provided spinless natural abundance'''\n",
    "    spin_less_and_plenty = all_spinless[all_spinless['nat_spinless_abundance']>=abundance]\n",
    "    return spin_less_and_plenty.index.tolist()\n",
    "def spinfull(abundance):\n",
    "    spineless = spinless(abundance)\n",
    "    return [s for s in all_at_symbols if s not in spineless]"
   ]
  },
  {
   "cell_type": "code",
   "execution_count": 5,
   "metadata": {
    "ExecuteTime": {
     "end_time": "2021-03-02T15:20:50.867100Z",
     "start_time": "2021-03-02T15:20:50.855985Z"
    }
   },
   "outputs": [],
   "source": [
    "all_at_symbols = ['Ac','Ag','Al','Am','Ar','As','At','Au','B','Ba','Be','Bh',\n",
    "                  'Bi','Bk','Br','C','Ca','Cd','Ce','Cf','Cl','Cm','Cn','Co',\n",
    "                  'Cr','Cs','Cu','Db','Ds','Dy','Er','Es','Eu','F','Fe','Fl',\n",
    "                  'Fm','Fr','Ga','Gd','Ge','H','He','Hf','Hg','Ho','Hs','I',\n",
    "                  'In','Ir','K','Kr','La','Li','Lr','Lu','Lv','Mc','Md','Mg',\n",
    "                  'Mn','Mo','Mt','N','Na','Nb','Nd','Ne','Nh','Ni','No','Np',\n",
    "                  'O','Og','Os','P','Pa','Pb','Pd','Pm','Po','Pr','Pt','Pu',\n",
    "                  'Ra','Rb','Re','Rf','Rg','Rh','Rn','Ru','S','Sb','Sc','Se',\n",
    "                  'Sg','Si','Sm','Sn','Sr','Ta','Tb','Tc','Te','Th','Ti','Tl',\n",
    "                  'Tm','Ts','U','V','W','Xe','Y','Yb','Zn','Zr']\n",
    "spindata = open('spinData.txt','r').read()\n",
    "spindata = [l.strip().split() for l in spindata.split('\\n') if '%' not in l]\n",
    "allSpin = []\n",
    "for spinDatum in spindata:\n",
    "    spindict = {'atomic_number':int(spinDatum[0]),\n",
    "               'nucleons':int(spinDatum[1]),\n",
    "               'radioactive':spinDatum[2],\n",
    "               'symbol':spinDatum[3],\n",
    "               'name':spinDatum[4],\n",
    "               'spin':Decimal(spinDatum[5]).as_integer_ratio(),\n",
    "               'g_nuclear':float(spinDatum[6]),\n",
    "               'nat_abundance':float(spinDatum[7])/100., \n",
    "               'e_quad_moment':float(spinDatum[8])}\n",
    "    spindict['radioactive'] = (spindict['radioactive'] == '*')\n",
    "    allSpin.append(spindict)\n",
    "spinData = pd.DataFrame(allSpin)"
   ]
  },
  {
   "cell_type": "code",
   "execution_count": 6,
   "metadata": {
    "ExecuteTime": {
     "end_time": "2021-03-02T15:20:50.989947Z",
     "start_time": "2021-03-02T15:20:50.868644Z"
    }
   },
   "outputs": [],
   "source": [
    "# for each atomic number compute the natural abundance of spinless atoms\n",
    "all_spinless = []\n",
    "for at_number in list(set(spinData['atomic_number'])):\n",
    "    this_group = spinData[spinData['atomic_number']==at_number]\n",
    "    symb = list(this_group['symbol'])[0]\n",
    "    name = list(this_group['name'])[0]\n",
    "    this_group = this_group[this_group['spin'] == Decimal('0').as_integer_ratio()]\n",
    "    this_ab = np.sum(this_group['nat_abundance'])\n",
    "\n",
    "    this_dict = {'atomic_number': at_number,\n",
    "                 'symbol': symb,\n",
    "                 'name': name,\n",
    "                 'nat_spinless_abundance': this_ab}\n",
    "    all_spinless.append(this_dict)\n",
    "all_spinless = pd.DataFrame(all_spinless)\n",
    "all_spinless.set_index('symbol', inplace=True)"
   ]
  },
  {
   "cell_type": "code",
   "execution_count": 15,
   "metadata": {
    "ExecuteTime": {
     "end_time": "2021-03-02T14:53:43.774976Z",
     "start_time": "2021-03-02T14:53:43.771698Z"
    }
   },
   "outputs": [],
   "source": [
    "all_spinless.to_json('/Users/david/Google Drive/Zia Lab/Codebase/qdef/all_spinless.json')"
   ]
  },
  {
   "cell_type": "code",
   "execution_count": null,
   "metadata": {
    "ExecuteTime": {
     "start_time": "2021-03-02T14:54:26.784Z"
    }
   },
   "outputs": [],
   "source": [
    "pd.read_json('/Users/david/Google Drive/Zia Lab/Codebase/qdef/all_spinless.json')"
   ]
  },
  {
   "cell_type": "code",
   "execution_count": 7,
   "metadata": {
    "ExecuteTime": {
     "end_time": "2021-03-02T15:20:52.456969Z",
     "start_time": "2021-03-02T15:20:51.969288Z"
    }
   },
   "outputs": [],
   "source": [
    "ferrenti = pickle.load(open('ferrenti.pkl','rb'))\n",
    "ferrenti_df = pd.read_excel('/Users/david/Google Drive/Zia Lab/Log/Data/Ferrenti 2020.xlsx', usecols=range(18))\n",
    "ferrenti_df = ferrenti_df[ferrenti_df['Ferrenti 2020'] > 0]\n",
    "ferrenti_ids = [l for l in ferrenti_df['Materials ID'].to_list() if 'mp-' in l]"
   ]
  },
  {
   "cell_type": "code",
   "execution_count": 8,
   "metadata": {
    "ExecuteTime": {
     "end_time": "2021-03-02T15:20:59.025754Z",
     "start_time": "2021-03-02T15:20:55.187882Z"
    },
    "scrolled": true
   },
   "outputs": [
    {
     "data": {
      "application/vnd.jupyter.widget-view+json": {
       "model_id": "089a6c5ce6f84921951a6fa4b4298cd0",
       "version_major": 2,
       "version_minor": 0
      },
      "text/plain": [
       "  0%|          | 0/537 [00:00<?, ?it/s]"
      ]
     },
     "metadata": {},
     "output_type": "display_data"
    }
   ],
   "source": [
    "criteria = {'material_id':{'$in': ferrenti_ids}}\n",
    "props = ['band_gap','cif','elements','pretty_formula',\n",
    "         'density','nelements', 'structure','spacegroup',\n",
    "        'e_above_hull','icsd_ids','formation_energy_per_atom']\n",
    "ferrenti_gt = mpdr.get_dataframe(criteria=criteria, properties=props)"
   ]
  },
  {
   "cell_type": "code",
   "execution_count": 10,
   "metadata": {
    "ExecuteTime": {
     "end_time": "2021-03-02T15:22:21.359470Z",
     "start_time": "2021-03-02T15:22:21.136453Z"
    }
   },
   "outputs": [],
   "source": [
    "ferrenti_gt.to_pickle('/Users/david/Google Drive/Zia Lab/Codebase/qdef/data/ferrenti_gt.pkl')"
   ]
  },
  {
   "cell_type": "code",
   "execution_count": 539,
   "metadata": {
    "ExecuteTime": {
     "end_time": "2021-02-12T15:07:47.334784Z",
     "start_time": "2021-02-12T15:07:46.754664Z"
    }
   },
   "outputs": [],
   "source": [
    "pkl_fname = os.path.join(data_dir,'ferrenti_gt.pkl')\n",
    "pickle.dump(ferrenti_gt,open(pkl_fname,'wb'))"
   ]
  },
  {
   "cell_type": "code",
   "execution_count": 11,
   "metadata": {
    "ExecuteTime": {
     "end_time": "2021-03-02T15:23:30.861546Z",
     "start_time": "2021-03-02T15:23:30.680361Z"
    }
   },
   "outputs": [],
   "source": [
    "ferrenti_gtt = pd.read_pickle('/Users/david/Google Drive/Zia Lab/Codebase/qdef/data/ferrenti_gt.pkl')"
   ]
  },
  {
   "cell_type": "markdown",
   "metadata": {},
   "source": [
    "## Queries"
   ]
  },
  {
   "cell_type": "code",
   "execution_count": 211,
   "metadata": {
    "ExecuteTime": {
     "end_time": "2021-02-11T23:54:03.711422Z",
     "start_time": "2021-02-11T23:54:03.704465Z"
    }
   },
   "outputs": [],
   "source": [
    "def crystal_sieve(sieve_parameters):\n",
    "    if sieve_parameters['element_selection'][0] == 'natural':\n",
    "        return crystal_sieve_natural(sieve_parameters)\n",
    "    elif sieve_parameters['element_selection'][0] == 'manual':\n",
    "        return crystal_sieve_manual(sieve_parameters)\n",
    "    else:\n",
    "        print(\"Invalid choice for element selection.\")\n",
    "        return None\n",
    "def crystal_sieve_natural(sieve_parameters):\n",
    "    spinless_abundance = sieve_parameters['element_selection'][1]\n",
    "    min_gap, max_gap = sieve_parameters['bandgap_interval']\n",
    "    num_ingredients = list(range(sieve_parameters['num_ingredients'][0],\n",
    "                                 sieve_parameters['num_ingredients'][1]+1))\n",
    "    ####################################################################\n",
    "    print(\"Filtering for elements with a natural spinless isotopic abundance equal or greater than %.1f%%.\" % (100*spinless_abundance))\n",
    "    sieve_parameters['allowed_elements'] = spinless(spinless_abundance)\n",
    "    sieve_parameters['not_allowed_elements'] = spinfull(spinless_abundance)\n",
    "    print(\"There are %d elements matching this criterion.\" % len(sieve_parameters['allowed_elements']))\n",
    "    ####################################################################\n",
    "    print(\"Searching the Materials Project...\")\n",
    "    criteria = {'band_gap':{'$gte':min_gap,'$lte':max_gap},\n",
    "                'nelements': {'$in': num_ingredients},\n",
    "                'elements':{'$in':sieve_parameters['allowed_elements'],\n",
    "                            '$nin':sieve_parameters['not_allowed_elements']}}\n",
    "    props = ['band_gap','cif','elements','pretty_formula',\n",
    "             'density','nelements', 'structure','spacegroup',\n",
    "            'e_above_hull','icsd_ids','formation_energy_per_atom']\n",
    "    sieve_parameters['search_results'] = mpdr.get_dataframe(criteria=criteria,\n",
    "                     properties=props)\n",
    "    sieve_parameters['search_results']['polar'] = [s['point_group'] in polar_point_groups for s in sieve_parameters['search_results']['spacegroup']]\n",
    "    sieve_parameters['search_results']['contains_unviable_elements'] = sieve_parameters['search_results']['elements'].apply(lambda x: some_in_list(x, sieve_parameters['unviable_elements']))\n",
    "    return sieve_parameters\n",
    "def crystal_sieve_manual(sieve_parameters):\n",
    "    return \"Hello manual.\""
   ]
  },
  {
   "cell_type": "code",
   "execution_count": 347,
   "metadata": {
    "ExecuteTime": {
     "end_time": "2021-02-12T01:23:54.946060Z",
     "start_time": "2021-02-12T01:23:21.456272Z"
    }
   },
   "outputs": [
    {
     "name": "stdout",
     "output_type": "stream",
     "text": [
      "Filtering for elements with a natural spinless isotopic abundance equal or greater than 50.0%.\n",
      "There are 42 elements matching this criterion.\n",
      "Searching the Materials Project...\n"
     ]
    },
    {
     "data": {
      "application/vnd.jupyter.widget-view+json": {
       "model_id": "96aec0cde8c942e589b19c581e7a9dbd",
       "version_major": 2,
       "version_minor": 0
      },
      "text/plain": [
       "  0%|          | 0/5380 [00:00<?, ?it/s]"
      ]
     },
     "metadata": {},
     "output_type": "display_data"
    }
   ],
   "source": [
    "sieve_parameters = {\n",
    "    'element_selection': ('natural',0.50),\n",
    "    'bandgap_interval': (0.5,6.25),\n",
    "    'space_group_syms': ('auto'),\n",
    "    'max_e_above_hull': 0.2,\n",
    "    'num_ingredients': (1,5),\n",
    "    'unviable_elements': ['Ce','Nd','Sm','Gd','Dy','Er','Yb','Th',\n",
    "                          'U','Cd','Hg','He','Ne','Ar','Kr','Xe']\n",
    "}\n",
    "sieve_parameters = crystal_sieve(sieve_parameters)"
   ]
  },
  {
   "cell_type": "code",
   "execution_count": 348,
   "metadata": {
    "ExecuteTime": {
     "end_time": "2021-02-12T01:23:59.891390Z",
     "start_time": "2021-02-12T01:23:58.325004Z"
    }
   },
   "outputs": [
    {
     "name": "stdout",
     "output_type": "stream",
     "text": [
      "/Users/david/Google Drive/Zia Lab/Log/Data/crystal_search-1613093038.pkl\n"
     ]
    }
   ],
   "source": [
    "data_dir = '/Users/david/Google Drive/Zia Lab/Log/Data'\n",
    "pkl_fname = os.path.join(data_dir,'crystal_search-%d.pkl' % int(time.time()))\n",
    "pickle.dump(sieve_parameters,open(pkl_fname,'wb'))\n",
    "print(pkl_fname)"
   ]
  },
  {
   "cell_type": "code",
   "execution_count": 356,
   "metadata": {
    "ExecuteTime": {
     "end_time": "2021-02-12T01:25:43.019255Z",
     "start_time": "2021-02-12T01:25:42.903835Z"
    }
   },
   "outputs": [
    {
     "name": "stdout",
     "output_type": "stream",
     "text": [
      "1073 crystals found!\n",
      "718 of them have different stoichiometry\n",
      "522 of them match with Ferrenti (which includes 541 hosts)\n"
     ]
    }
   ],
   "source": [
    "# apply additional filters\n",
    "good_ones = (~sieve_parameters['search_results']['contains_unviable_elements']\n",
    "            & ~sieve_parameters['search_results']['polar']\n",
    "            & (sieve_parameters['search_results']['e_above_hull'] < sieve_parameters['max_e_above_hull'])\n",
    "            & (sieve_parameters['search_results']['icsd_ids'].apply(lambda x: len(x) > 0))\n",
    "            & ((sieve_parameters['search_results']['pretty_formula'] != 'SiO2') | (sieve_parameters['search_results'].index == 'mp-7000'))\n",
    "            )\n",
    "crystals_found = sieve_parameters['search_results'][good_ones]\n",
    "crystals_found['in_ferrenti'] = crystals_found.index.map(lambda x: x in ferrenti_df['Materials ID'].to_list())\n",
    "pretty_dictionary = crystals_found['pretty_formula'].to_dict()\n",
    "pretty_formulas = crystals_found['pretty_formula'].to_list()\n",
    "crystals_found['with_same_stoichiometry'] = crystals_found['pretty_formula'].apply(lambda x: [i for i in pretty_dictionary if pretty_dictionary[i] == x])\n",
    "crystals_found['with_same_stoichiometry_len'] = crystals_found['with_same_stoichiometry'].apply(len)\n",
    "crystals_found['spacegroup_symbol'] = crystals_found['spacegroup'].apply(lambda x: x['symbol'])\n",
    "print('%d crystals found!'% len(crystals_found))\n",
    "print('%d of them have different stoichiometry' % len(set((crystals_found['pretty_formula']))))\n",
    "print('%d of them match with Ferrenti (which includes %d hosts)' % (sum(crystals_found['in_ferrenti']),len(ferrenti_df)))"
   ]
  },
  {
   "cell_type": "code",
   "execution_count": 433,
   "metadata": {
    "ExecuteTime": {
     "end_time": "2021-02-12T13:25:33.085670Z",
     "start_time": "2021-02-12T13:25:28.159088Z"
    }
   },
   "outputs": [],
   "source": [
    "# compute sets as a function of spinless abundance and bandgap estimate\n",
    "spinlessness = np.linspace(0.4,1,50)\n",
    "bgaps = np.linspace(2.0,5.5,50)\n",
    "howmany = []\n",
    "howmanyf = []\n",
    "for ab in spinlessness:\n",
    "    howmanyrow = []\n",
    "    howmanyrowformulae = []\n",
    "    for bgap in bgaps:\n",
    "        accept = spinless(ab)\n",
    "        found = (set(crystals_found[(crystals_found['elements'].apply(lambda x: len(x) == len(set(x).intersection(accept)))\n",
    "                       & (crystals_found['band_gap']>bgap))]['pretty_formula']))\n",
    "        howmanyrow.append(len(found))\n",
    "        howmanyrowformulae.append(list(found))\n",
    "    howmany.append(howmanyrow)\n",
    "    howmanyf.append(howmanyrowformulae)\n",
    "howmany = np.array(howmany)"
   ]
  },
  {
   "cell_type": "code",
   "execution_count": 495,
   "metadata": {
    "ExecuteTime": {
     "end_time": "2021-02-12T14:03:22.098870Z",
     "start_time": "2021-02-12T14:03:22.095767Z"
    }
   },
   "outputs": [],
   "source": [
    "def compounds(ab,bg):\n",
    "    i = np.argmin(np.abs(spinlessness-ab))\n",
    "    j = np.argmin(np.abs(bgaps-bg))\n",
    "    r = sorted(howmanyf[i][j])\n",
    "    if len(r) > 10:\n",
    "        return ',\\n'.join(r[:10]) + ('\\n(%d more)...' % (len(r)-10))\n",
    "    else:\n",
    "        return ',\\n'.join(r)"
   ]
  },
  {
   "cell_type": "code",
   "execution_count": 542,
   "metadata": {
    "ExecuteTime": {
     "end_time": "2021-02-12T15:09:47.849386Z",
     "start_time": "2021-02-12T15:09:47.846465Z"
    }
   },
   "outputs": [
    {
     "name": "stdout",
     "output_type": "stream",
     "text": [
      "0.341 nm\n"
     ]
    }
   ],
   "source": [
    "rhom = 4.09\n",
    "mmass = 97.5\n",
    "rhomol = rhom/mmass * 6.02e23 * 1e-21 # in particles per cubic nanometer\n",
    "print('%.3f nm' % (1/(rhomol**(1/3))))"
   ]
  },
  {
   "cell_type": "code",
   "execution_count": 537,
   "metadata": {
    "ExecuteTime": {
     "end_time": "2021-02-12T15:04:04.680186Z",
     "start_time": "2021-02-12T15:04:04.574957Z"
    }
   },
   "outputs": [
    {
     "data": {
      "application/javascript": "/* Put everything inside the global mpl namespace */\n/* global mpl */\nwindow.mpl = {};\n\nmpl.get_websocket_type = function () {\n    if (typeof WebSocket !== 'undefined') {\n        return WebSocket;\n    } else if (typeof MozWebSocket !== 'undefined') {\n        return MozWebSocket;\n    } else {\n        alert(\n            'Your browser does not have WebSocket support. ' +\n                'Please try Chrome, Safari or Firefox ≥ 6. ' +\n                'Firefox 4 and 5 are also supported but you ' +\n                'have to enable WebSockets in about:config.'\n        );\n    }\n};\n\nmpl.figure = function (figure_id, websocket, ondownload, parent_element) {\n    this.id = figure_id;\n\n    this.ws = websocket;\n\n    this.supports_binary = this.ws.binaryType !== undefined;\n\n    if (!this.supports_binary) {\n        var warnings = document.getElementById('mpl-warnings');\n        if (warnings) {\n            warnings.style.display = 'block';\n            warnings.textContent =\n                'This browser does not support binary websocket messages. ' +\n                'Performance may be slow.';\n        }\n    }\n\n    this.imageObj = new Image();\n\n    this.context = undefined;\n    this.message = undefined;\n    this.canvas = undefined;\n    this.rubberband_canvas = undefined;\n    this.rubberband_context = undefined;\n    this.format_dropdown = undefined;\n\n    this.image_mode = 'full';\n\n    this.root = document.createElement('div');\n    this.root.setAttribute('style', 'display: inline-block');\n    this._root_extra_style(this.root);\n\n    parent_element.appendChild(this.root);\n\n    this._init_header(this);\n    this._init_canvas(this);\n    this._init_toolbar(this);\n\n    var fig = this;\n\n    this.waiting = false;\n\n    this.ws.onopen = function () {\n        fig.send_message('supports_binary', { value: fig.supports_binary });\n        fig.send_message('send_image_mode', {});\n        if (fig.ratio !== 1) {\n            fig.send_message('set_dpi_ratio', { dpi_ratio: fig.ratio });\n        }\n        fig.send_message('refresh', {});\n    };\n\n    this.imageObj.onload = function () {\n        if (fig.image_mode === 'full') {\n            // Full images could contain transparency (where diff images\n            // almost always do), so we need to clear the canvas so that\n            // there is no ghosting.\n            fig.context.clearRect(0, 0, fig.canvas.width, fig.canvas.height);\n        }\n        fig.context.drawImage(fig.imageObj, 0, 0);\n    };\n\n    this.imageObj.onunload = function () {\n        fig.ws.close();\n    };\n\n    this.ws.onmessage = this._make_on_message_function(this);\n\n    this.ondownload = ondownload;\n};\n\nmpl.figure.prototype._init_header = function () {\n    var titlebar = document.createElement('div');\n    titlebar.classList =\n        'ui-dialog-titlebar ui-widget-header ui-corner-all ui-helper-clearfix';\n    var titletext = document.createElement('div');\n    titletext.classList = 'ui-dialog-title';\n    titletext.setAttribute(\n        'style',\n        'width: 100%; text-align: center; padding: 3px;'\n    );\n    titlebar.appendChild(titletext);\n    this.root.appendChild(titlebar);\n    this.header = titletext;\n};\n\nmpl.figure.prototype._canvas_extra_style = function (_canvas_div) {};\n\nmpl.figure.prototype._root_extra_style = function (_canvas_div) {};\n\nmpl.figure.prototype._init_canvas = function () {\n    var fig = this;\n\n    var canvas_div = (this.canvas_div = document.createElement('div'));\n    canvas_div.setAttribute(\n        'style',\n        'border: 1px solid #ddd;' +\n            'box-sizing: content-box;' +\n            'clear: both;' +\n            'min-height: 1px;' +\n            'min-width: 1px;' +\n            'outline: 0;' +\n            'overflow: hidden;' +\n            'position: relative;' +\n            'resize: both;'\n    );\n\n    function on_keyboard_event_closure(name) {\n        return function (event) {\n            return fig.key_event(event, name);\n        };\n    }\n\n    canvas_div.addEventListener(\n        'keydown',\n        on_keyboard_event_closure('key_press')\n    );\n    canvas_div.addEventListener(\n        'keyup',\n        on_keyboard_event_closure('key_release')\n    );\n\n    this._canvas_extra_style(canvas_div);\n    this.root.appendChild(canvas_div);\n\n    var canvas = (this.canvas = document.createElement('canvas'));\n    canvas.classList.add('mpl-canvas');\n    canvas.setAttribute('style', 'box-sizing: content-box;');\n\n    this.context = canvas.getContext('2d');\n\n    var backingStore =\n        this.context.backingStorePixelRatio ||\n        this.context.webkitBackingStorePixelRatio ||\n        this.context.mozBackingStorePixelRatio ||\n        this.context.msBackingStorePixelRatio ||\n        this.context.oBackingStorePixelRatio ||\n        this.context.backingStorePixelRatio ||\n        1;\n\n    this.ratio = (window.devicePixelRatio || 1) / backingStore;\n\n    var rubberband_canvas = (this.rubberband_canvas = document.createElement(\n        'canvas'\n    ));\n    rubberband_canvas.setAttribute(\n        'style',\n        'box-sizing: content-box; position: absolute; left: 0; top: 0; z-index: 1;'\n    );\n\n    // Apply a ponyfill if ResizeObserver is not implemented by browser.\n    if (this.ResizeObserver === undefined) {\n        if (window.ResizeObserver !== undefined) {\n            this.ResizeObserver = window.ResizeObserver;\n        } else {\n            var obs = _JSXTOOLS_RESIZE_OBSERVER({});\n            this.ResizeObserver = obs.ResizeObserver;\n        }\n    }\n\n    this.resizeObserverInstance = new this.ResizeObserver(function (entries) {\n        var nentries = entries.length;\n        for (var i = 0; i < nentries; i++) {\n            var entry = entries[i];\n            var width, height;\n            if (entry.contentBoxSize) {\n                if (entry.contentBoxSize instanceof Array) {\n                    // Chrome 84 implements new version of spec.\n                    width = entry.contentBoxSize[0].inlineSize;\n                    height = entry.contentBoxSize[0].blockSize;\n                } else {\n                    // Firefox implements old version of spec.\n                    width = entry.contentBoxSize.inlineSize;\n                    height = entry.contentBoxSize.blockSize;\n                }\n            } else {\n                // Chrome <84 implements even older version of spec.\n                width = entry.contentRect.width;\n                height = entry.contentRect.height;\n            }\n\n            // Keep the size of the canvas and rubber band canvas in sync with\n            // the canvas container.\n            if (entry.devicePixelContentBoxSize) {\n                // Chrome 84 implements new version of spec.\n                canvas.setAttribute(\n                    'width',\n                    entry.devicePixelContentBoxSize[0].inlineSize\n                );\n                canvas.setAttribute(\n                    'height',\n                    entry.devicePixelContentBoxSize[0].blockSize\n                );\n            } else {\n                canvas.setAttribute('width', width * fig.ratio);\n                canvas.setAttribute('height', height * fig.ratio);\n            }\n            canvas.setAttribute(\n                'style',\n                'width: ' + width + 'px; height: ' + height + 'px;'\n            );\n\n            rubberband_canvas.setAttribute('width', width);\n            rubberband_canvas.setAttribute('height', height);\n\n            // And update the size in Python. We ignore the initial 0/0 size\n            // that occurs as the element is placed into the DOM, which should\n            // otherwise not happen due to the minimum size styling.\n            if (fig.ws.readyState == 1 && width != 0 && height != 0) {\n                fig.request_resize(width, height);\n            }\n        }\n    });\n    this.resizeObserverInstance.observe(canvas_div);\n\n    function on_mouse_event_closure(name) {\n        return function (event) {\n            return fig.mouse_event(event, name);\n        };\n    }\n\n    rubberband_canvas.addEventListener(\n        'mousedown',\n        on_mouse_event_closure('button_press')\n    );\n    rubberband_canvas.addEventListener(\n        'mouseup',\n        on_mouse_event_closure('button_release')\n    );\n    // Throttle sequential mouse events to 1 every 20ms.\n    rubberband_canvas.addEventListener(\n        'mousemove',\n        on_mouse_event_closure('motion_notify')\n    );\n\n    rubberband_canvas.addEventListener(\n        'mouseenter',\n        on_mouse_event_closure('figure_enter')\n    );\n    rubberband_canvas.addEventListener(\n        'mouseleave',\n        on_mouse_event_closure('figure_leave')\n    );\n\n    canvas_div.addEventListener('wheel', function (event) {\n        if (event.deltaY < 0) {\n            event.step = 1;\n        } else {\n            event.step = -1;\n        }\n        on_mouse_event_closure('scroll')(event);\n    });\n\n    canvas_div.appendChild(canvas);\n    canvas_div.appendChild(rubberband_canvas);\n\n    this.rubberband_context = rubberband_canvas.getContext('2d');\n    this.rubberband_context.strokeStyle = '#000000';\n\n    this._resize_canvas = function (width, height, forward) {\n        if (forward) {\n            canvas_div.style.width = width + 'px';\n            canvas_div.style.height = height + 'px';\n        }\n    };\n\n    // Disable right mouse context menu.\n    this.rubberband_canvas.addEventListener('contextmenu', function (_e) {\n        event.preventDefault();\n        return false;\n    });\n\n    function set_focus() {\n        canvas.focus();\n        canvas_div.focus();\n    }\n\n    window.setTimeout(set_focus, 100);\n};\n\nmpl.figure.prototype._init_toolbar = function () {\n    var fig = this;\n\n    var toolbar = document.createElement('div');\n    toolbar.classList = 'mpl-toolbar';\n    this.root.appendChild(toolbar);\n\n    function on_click_closure(name) {\n        return function (_event) {\n            return fig.toolbar_button_onclick(name);\n        };\n    }\n\n    function on_mouseover_closure(tooltip) {\n        return function (event) {\n            if (!event.currentTarget.disabled) {\n                return fig.toolbar_button_onmouseover(tooltip);\n            }\n        };\n    }\n\n    fig.buttons = {};\n    var buttonGroup = document.createElement('div');\n    buttonGroup.classList = 'mpl-button-group';\n    for (var toolbar_ind in mpl.toolbar_items) {\n        var name = mpl.toolbar_items[toolbar_ind][0];\n        var tooltip = mpl.toolbar_items[toolbar_ind][1];\n        var image = mpl.toolbar_items[toolbar_ind][2];\n        var method_name = mpl.toolbar_items[toolbar_ind][3];\n\n        if (!name) {\n            /* Instead of a spacer, we start a new button group. */\n            if (buttonGroup.hasChildNodes()) {\n                toolbar.appendChild(buttonGroup);\n            }\n            buttonGroup = document.createElement('div');\n            buttonGroup.classList = 'mpl-button-group';\n            continue;\n        }\n\n        var button = (fig.buttons[name] = document.createElement('button'));\n        button.classList = 'mpl-widget';\n        button.setAttribute('role', 'button');\n        button.setAttribute('aria-disabled', 'false');\n        button.addEventListener('click', on_click_closure(method_name));\n        button.addEventListener('mouseover', on_mouseover_closure(tooltip));\n\n        var icon_img = document.createElement('img');\n        icon_img.src = '_images/' + image + '.png';\n        icon_img.srcset = '_images/' + image + '_large.png 2x';\n        icon_img.alt = tooltip;\n        button.appendChild(icon_img);\n\n        buttonGroup.appendChild(button);\n    }\n\n    if (buttonGroup.hasChildNodes()) {\n        toolbar.appendChild(buttonGroup);\n    }\n\n    var fmt_picker = document.createElement('select');\n    fmt_picker.classList = 'mpl-widget';\n    toolbar.appendChild(fmt_picker);\n    this.format_dropdown = fmt_picker;\n\n    for (var ind in mpl.extensions) {\n        var fmt = mpl.extensions[ind];\n        var option = document.createElement('option');\n        option.selected = fmt === mpl.default_extension;\n        option.innerHTML = fmt;\n        fmt_picker.appendChild(option);\n    }\n\n    var status_bar = document.createElement('span');\n    status_bar.classList = 'mpl-message';\n    toolbar.appendChild(status_bar);\n    this.message = status_bar;\n};\n\nmpl.figure.prototype.request_resize = function (x_pixels, y_pixels) {\n    // Request matplotlib to resize the figure. Matplotlib will then trigger a resize in the client,\n    // which will in turn request a refresh of the image.\n    this.send_message('resize', { width: x_pixels, height: y_pixels });\n};\n\nmpl.figure.prototype.send_message = function (type, properties) {\n    properties['type'] = type;\n    properties['figure_id'] = this.id;\n    this.ws.send(JSON.stringify(properties));\n};\n\nmpl.figure.prototype.send_draw_message = function () {\n    if (!this.waiting) {\n        this.waiting = true;\n        this.ws.send(JSON.stringify({ type: 'draw', figure_id: this.id }));\n    }\n};\n\nmpl.figure.prototype.handle_save = function (fig, _msg) {\n    var format_dropdown = fig.format_dropdown;\n    var format = format_dropdown.options[format_dropdown.selectedIndex].value;\n    fig.ondownload(fig, format);\n};\n\nmpl.figure.prototype.handle_resize = function (fig, msg) {\n    var size = msg['size'];\n    if (size[0] !== fig.canvas.width || size[1] !== fig.canvas.height) {\n        fig._resize_canvas(size[0], size[1], msg['forward']);\n        fig.send_message('refresh', {});\n    }\n};\n\nmpl.figure.prototype.handle_rubberband = function (fig, msg) {\n    var x0 = msg['x0'] / fig.ratio;\n    var y0 = (fig.canvas.height - msg['y0']) / fig.ratio;\n    var x1 = msg['x1'] / fig.ratio;\n    var y1 = (fig.canvas.height - msg['y1']) / fig.ratio;\n    x0 = Math.floor(x0) + 0.5;\n    y0 = Math.floor(y0) + 0.5;\n    x1 = Math.floor(x1) + 0.5;\n    y1 = Math.floor(y1) + 0.5;\n    var min_x = Math.min(x0, x1);\n    var min_y = Math.min(y0, y1);\n    var width = Math.abs(x1 - x0);\n    var height = Math.abs(y1 - y0);\n\n    fig.rubberband_context.clearRect(\n        0,\n        0,\n        fig.canvas.width / fig.ratio,\n        fig.canvas.height / fig.ratio\n    );\n\n    fig.rubberband_context.strokeRect(min_x, min_y, width, height);\n};\n\nmpl.figure.prototype.handle_figure_label = function (fig, msg) {\n    // Updates the figure title.\n    fig.header.textContent = msg['label'];\n};\n\nmpl.figure.prototype.handle_cursor = function (fig, msg) {\n    var cursor = msg['cursor'];\n    switch (cursor) {\n        case 0:\n            cursor = 'pointer';\n            break;\n        case 1:\n            cursor = 'default';\n            break;\n        case 2:\n            cursor = 'crosshair';\n            break;\n        case 3:\n            cursor = 'move';\n            break;\n    }\n    fig.rubberband_canvas.style.cursor = cursor;\n};\n\nmpl.figure.prototype.handle_message = function (fig, msg) {\n    fig.message.textContent = msg['message'];\n};\n\nmpl.figure.prototype.handle_draw = function (fig, _msg) {\n    // Request the server to send over a new figure.\n    fig.send_draw_message();\n};\n\nmpl.figure.prototype.handle_image_mode = function (fig, msg) {\n    fig.image_mode = msg['mode'];\n};\n\nmpl.figure.prototype.handle_history_buttons = function (fig, msg) {\n    for (var key in msg) {\n        if (!(key in fig.buttons)) {\n            continue;\n        }\n        fig.buttons[key].disabled = !msg[key];\n        fig.buttons[key].setAttribute('aria-disabled', !msg[key]);\n    }\n};\n\nmpl.figure.prototype.handle_navigate_mode = function (fig, msg) {\n    if (msg['mode'] === 'PAN') {\n        fig.buttons['Pan'].classList.add('active');\n        fig.buttons['Zoom'].classList.remove('active');\n    } else if (msg['mode'] === 'ZOOM') {\n        fig.buttons['Pan'].classList.remove('active');\n        fig.buttons['Zoom'].classList.add('active');\n    } else {\n        fig.buttons['Pan'].classList.remove('active');\n        fig.buttons['Zoom'].classList.remove('active');\n    }\n};\n\nmpl.figure.prototype.updated_canvas_event = function () {\n    // Called whenever the canvas gets updated.\n    this.send_message('ack', {});\n};\n\n// A function to construct a web socket function for onmessage handling.\n// Called in the figure constructor.\nmpl.figure.prototype._make_on_message_function = function (fig) {\n    return function socket_on_message(evt) {\n        if (evt.data instanceof Blob) {\n            /* FIXME: We get \"Resource interpreted as Image but\n             * transferred with MIME type text/plain:\" errors on\n             * Chrome.  But how to set the MIME type?  It doesn't seem\n             * to be part of the websocket stream */\n            evt.data.type = 'image/png';\n\n            /* Free the memory for the previous frames */\n            if (fig.imageObj.src) {\n                (window.URL || window.webkitURL).revokeObjectURL(\n                    fig.imageObj.src\n                );\n            }\n\n            fig.imageObj.src = (window.URL || window.webkitURL).createObjectURL(\n                evt.data\n            );\n            fig.updated_canvas_event();\n            fig.waiting = false;\n            return;\n        } else if (\n            typeof evt.data === 'string' &&\n            evt.data.slice(0, 21) === 'data:image/png;base64'\n        ) {\n            fig.imageObj.src = evt.data;\n            fig.updated_canvas_event();\n            fig.waiting = false;\n            return;\n        }\n\n        var msg = JSON.parse(evt.data);\n        var msg_type = msg['type'];\n\n        // Call the  \"handle_{type}\" callback, which takes\n        // the figure and JSON message as its only arguments.\n        try {\n            var callback = fig['handle_' + msg_type];\n        } catch (e) {\n            console.log(\n                \"No handler for the '\" + msg_type + \"' message type: \",\n                msg\n            );\n            return;\n        }\n\n        if (callback) {\n            try {\n                // console.log(\"Handling '\" + msg_type + \"' message: \", msg);\n                callback(fig, msg);\n            } catch (e) {\n                console.log(\n                    \"Exception inside the 'handler_\" + msg_type + \"' callback:\",\n                    e,\n                    e.stack,\n                    msg\n                );\n            }\n        }\n    };\n};\n\n// from http://stackoverflow.com/questions/1114465/getting-mouse-location-in-canvas\nmpl.findpos = function (e) {\n    //this section is from http://www.quirksmode.org/js/events_properties.html\n    var targ;\n    if (!e) {\n        e = window.event;\n    }\n    if (e.target) {\n        targ = e.target;\n    } else if (e.srcElement) {\n        targ = e.srcElement;\n    }\n    if (targ.nodeType === 3) {\n        // defeat Safari bug\n        targ = targ.parentNode;\n    }\n\n    // pageX,Y are the mouse positions relative to the document\n    var boundingRect = targ.getBoundingClientRect();\n    var x = e.pageX - (boundingRect.left + document.body.scrollLeft);\n    var y = e.pageY - (boundingRect.top + document.body.scrollTop);\n\n    return { x: x, y: y };\n};\n\n/*\n * return a copy of an object with only non-object keys\n * we need this to avoid circular references\n * http://stackoverflow.com/a/24161582/3208463\n */\nfunction simpleKeys(original) {\n    return Object.keys(original).reduce(function (obj, key) {\n        if (typeof original[key] !== 'object') {\n            obj[key] = original[key];\n        }\n        return obj;\n    }, {});\n}\n\nmpl.figure.prototype.mouse_event = function (event, name) {\n    var canvas_pos = mpl.findpos(event);\n\n    if (name === 'button_press') {\n        this.canvas.focus();\n        this.canvas_div.focus();\n    }\n\n    var x = canvas_pos.x * this.ratio;\n    var y = canvas_pos.y * this.ratio;\n\n    this.send_message(name, {\n        x: x,\n        y: y,\n        button: event.button,\n        step: event.step,\n        guiEvent: simpleKeys(event),\n    });\n\n    /* This prevents the web browser from automatically changing to\n     * the text insertion cursor when the button is pressed.  We want\n     * to control all of the cursor setting manually through the\n     * 'cursor' event from matplotlib */\n    event.preventDefault();\n    return false;\n};\n\nmpl.figure.prototype._key_event_extra = function (_event, _name) {\n    // Handle any extra behaviour associated with a key event\n};\n\nmpl.figure.prototype.key_event = function (event, name) {\n    // Prevent repeat events\n    if (name === 'key_press') {\n        if (event.which === this._key) {\n            return;\n        } else {\n            this._key = event.which;\n        }\n    }\n    if (name === 'key_release') {\n        this._key = null;\n    }\n\n    var value = '';\n    if (event.ctrlKey && event.which !== 17) {\n        value += 'ctrl+';\n    }\n    if (event.altKey && event.which !== 18) {\n        value += 'alt+';\n    }\n    if (event.shiftKey && event.which !== 16) {\n        value += 'shift+';\n    }\n\n    value += 'k';\n    value += event.which.toString();\n\n    this._key_event_extra(event, name);\n\n    this.send_message(name, { key: value, guiEvent: simpleKeys(event) });\n    return false;\n};\n\nmpl.figure.prototype.toolbar_button_onclick = function (name) {\n    if (name === 'download') {\n        this.handle_save(this, null);\n    } else {\n        this.send_message('toolbar_button', { name: name });\n    }\n};\n\nmpl.figure.prototype.toolbar_button_onmouseover = function (tooltip) {\n    this.message.textContent = tooltip;\n};\n\n///////////////// REMAINING CONTENT GENERATED BY embed_js.py /////////////////\n// prettier-ignore\nvar _JSXTOOLS_RESIZE_OBSERVER=function(A){var t,i=new WeakMap,n=new WeakMap,a=new WeakMap,r=new WeakMap,o=new Set;function s(e){if(!(this instanceof s))throw new TypeError(\"Constructor requires 'new' operator\");i.set(this,e)}function h(){throw new TypeError(\"Function is not a constructor\")}function c(e,t,i,n){e=0 in arguments?Number(arguments[0]):0,t=1 in arguments?Number(arguments[1]):0,i=2 in arguments?Number(arguments[2]):0,n=3 in arguments?Number(arguments[3]):0,this.right=(this.x=this.left=e)+(this.width=i),this.bottom=(this.y=this.top=t)+(this.height=n),Object.freeze(this)}function d(){t=requestAnimationFrame(d);var s=new WeakMap,p=new Set;o.forEach((function(t){r.get(t).forEach((function(i){var r=t instanceof window.SVGElement,o=a.get(t),d=r?0:parseFloat(o.paddingTop),f=r?0:parseFloat(o.paddingRight),l=r?0:parseFloat(o.paddingBottom),u=r?0:parseFloat(o.paddingLeft),g=r?0:parseFloat(o.borderTopWidth),m=r?0:parseFloat(o.borderRightWidth),w=r?0:parseFloat(o.borderBottomWidth),b=u+f,F=d+l,v=(r?0:parseFloat(o.borderLeftWidth))+m,W=g+w,y=r?0:t.offsetHeight-W-t.clientHeight,E=r?0:t.offsetWidth-v-t.clientWidth,R=b+v,z=F+W,M=r?t.width:parseFloat(o.width)-R-E,O=r?t.height:parseFloat(o.height)-z-y;if(n.has(t)){var k=n.get(t);if(k[0]===M&&k[1]===O)return}n.set(t,[M,O]);var S=Object.create(h.prototype);S.target=t,S.contentRect=new c(u,d,M,O),s.has(i)||(s.set(i,[]),p.add(i)),s.get(i).push(S)}))})),p.forEach((function(e){i.get(e).call(e,s.get(e),e)}))}return s.prototype.observe=function(i){if(i instanceof window.Element){r.has(i)||(r.set(i,new Set),o.add(i),a.set(i,window.getComputedStyle(i)));var n=r.get(i);n.has(this)||n.add(this),cancelAnimationFrame(t),t=requestAnimationFrame(d)}},s.prototype.unobserve=function(i){if(i instanceof window.Element&&r.has(i)){var n=r.get(i);n.has(this)&&(n.delete(this),n.size||(r.delete(i),o.delete(i))),n.size||r.delete(i),o.size||cancelAnimationFrame(t)}},A.DOMRectReadOnly=c,A.ResizeObserver=s,A.ResizeObserverEntry=h,A}; // eslint-disable-line\nmpl.toolbar_items = [[\"Home\", \"Reset original view\", \"fa fa-home icon-home\", \"home\"], [\"Back\", \"Back to previous view\", \"fa fa-arrow-left icon-arrow-left\", \"back\"], [\"Forward\", \"Forward to next view\", \"fa fa-arrow-right icon-arrow-right\", \"forward\"], [\"\", \"\", \"\", \"\"], [\"Pan\", \"Left button pans, Right button zooms\\nx/y fixes axis, CTRL fixes aspect\", \"fa fa-arrows icon-move\", \"pan\"], [\"Zoom\", \"Zoom to rectangle\\nx/y fixes axis, CTRL fixes aspect\", \"fa fa-square-o icon-check-empty\", \"zoom\"], [\"\", \"\", \"\", \"\"], [\"Download\", \"Download plot\", \"fa fa-floppy-o icon-save\", \"download\"]];\n\nmpl.extensions = [\"eps\", \"jpeg\", \"pdf\", \"png\", \"ps\", \"raw\", \"svg\", \"tif\"];\n\nmpl.default_extension = \"png\";/* global mpl */\n\nvar comm_websocket_adapter = function (comm) {\n    // Create a \"websocket\"-like object which calls the given IPython comm\n    // object with the appropriate methods. Currently this is a non binary\n    // socket, so there is still some room for performance tuning.\n    var ws = {};\n\n    ws.close = function () {\n        comm.close();\n    };\n    ws.send = function (m) {\n        //console.log('sending', m);\n        comm.send(m);\n    };\n    // Register the callback with on_msg.\n    comm.on_msg(function (msg) {\n        //console.log('receiving', msg['content']['data'], msg);\n        // Pass the mpl event to the overridden (by mpl) onmessage function.\n        ws.onmessage(msg['content']['data']);\n    });\n    return ws;\n};\n\nmpl.mpl_figure_comm = function (comm, msg) {\n    // This is the function which gets called when the mpl process\n    // starts-up an IPython Comm through the \"matplotlib\" channel.\n\n    var id = msg.content.data.id;\n    // Get hold of the div created by the display call when the Comm\n    // socket was opened in Python.\n    var element = document.getElementById(id);\n    var ws_proxy = comm_websocket_adapter(comm);\n\n    function ondownload(figure, _format) {\n        window.open(figure.canvas.toDataURL());\n    }\n\n    var fig = new mpl.figure(id, ws_proxy, ondownload, element);\n\n    // Call onopen now - mpl needs it, as it is assuming we've passed it a real\n    // web socket which is closed, not our websocket->open comm proxy.\n    ws_proxy.onopen();\n\n    fig.parent_element = element;\n    fig.cell_info = mpl.find_output_cell(\"<div id='\" + id + \"'></div>\");\n    if (!fig.cell_info) {\n        console.error('Failed to find cell for figure', id, fig);\n        return;\n    }\n    fig.cell_info[0].output_area.element.on(\n        'cleared',\n        { fig: fig },\n        fig._remove_fig_handler\n    );\n};\n\nmpl.figure.prototype.handle_close = function (fig, msg) {\n    var width = fig.canvas.width / fig.ratio;\n    fig.cell_info[0].output_area.element.off(\n        'cleared',\n        fig._remove_fig_handler\n    );\n    fig.resizeObserverInstance.unobserve(fig.canvas_div);\n\n    // Update the output cell to use the data from the current canvas.\n    fig.push_to_output();\n    var dataURL = fig.canvas.toDataURL();\n    // Re-enable the keyboard manager in IPython - without this line, in FF,\n    // the notebook keyboard shortcuts fail.\n    IPython.keyboard_manager.enable();\n    fig.parent_element.innerHTML =\n        '<img src=\"' + dataURL + '\" width=\"' + width + '\">';\n    fig.close_ws(fig, msg);\n};\n\nmpl.figure.prototype.close_ws = function (fig, msg) {\n    fig.send_message('closing', msg);\n    // fig.ws.close()\n};\n\nmpl.figure.prototype.push_to_output = function (_remove_interactive) {\n    // Turn the data on the canvas into data in the output cell.\n    var width = this.canvas.width / this.ratio;\n    var dataURL = this.canvas.toDataURL();\n    this.cell_info[1]['text/html'] =\n        '<img src=\"' + dataURL + '\" width=\"' + width + '\">';\n};\n\nmpl.figure.prototype.updated_canvas_event = function () {\n    // Tell IPython that the notebook contents must change.\n    IPython.notebook.set_dirty(true);\n    this.send_message('ack', {});\n    var fig = this;\n    // Wait a second, then push the new image to the DOM so\n    // that it is saved nicely (might be nice to debounce this).\n    setTimeout(function () {\n        fig.push_to_output();\n    }, 1000);\n};\n\nmpl.figure.prototype._init_toolbar = function () {\n    var fig = this;\n\n    var toolbar = document.createElement('div');\n    toolbar.classList = 'btn-toolbar';\n    this.root.appendChild(toolbar);\n\n    function on_click_closure(name) {\n        return function (_event) {\n            return fig.toolbar_button_onclick(name);\n        };\n    }\n\n    function on_mouseover_closure(tooltip) {\n        return function (event) {\n            if (!event.currentTarget.disabled) {\n                return fig.toolbar_button_onmouseover(tooltip);\n            }\n        };\n    }\n\n    fig.buttons = {};\n    var buttonGroup = document.createElement('div');\n    buttonGroup.classList = 'btn-group';\n    var button;\n    for (var toolbar_ind in mpl.toolbar_items) {\n        var name = mpl.toolbar_items[toolbar_ind][0];\n        var tooltip = mpl.toolbar_items[toolbar_ind][1];\n        var image = mpl.toolbar_items[toolbar_ind][2];\n        var method_name = mpl.toolbar_items[toolbar_ind][3];\n\n        if (!name) {\n            /* Instead of a spacer, we start a new button group. */\n            if (buttonGroup.hasChildNodes()) {\n                toolbar.appendChild(buttonGroup);\n            }\n            buttonGroup = document.createElement('div');\n            buttonGroup.classList = 'btn-group';\n            continue;\n        }\n\n        button = fig.buttons[name] = document.createElement('button');\n        button.classList = 'btn btn-default';\n        button.href = '#';\n        button.title = name;\n        button.innerHTML = '<i class=\"fa ' + image + ' fa-lg\"></i>';\n        button.addEventListener('click', on_click_closure(method_name));\n        button.addEventListener('mouseover', on_mouseover_closure(tooltip));\n        buttonGroup.appendChild(button);\n    }\n\n    if (buttonGroup.hasChildNodes()) {\n        toolbar.appendChild(buttonGroup);\n    }\n\n    // Add the status bar.\n    var status_bar = document.createElement('span');\n    status_bar.classList = 'mpl-message pull-right';\n    toolbar.appendChild(status_bar);\n    this.message = status_bar;\n\n    // Add the close button to the window.\n    var buttongrp = document.createElement('div');\n    buttongrp.classList = 'btn-group inline pull-right';\n    button = document.createElement('button');\n    button.classList = 'btn btn-mini btn-primary';\n    button.href = '#';\n    button.title = 'Stop Interaction';\n    button.innerHTML = '<i class=\"fa fa-power-off icon-remove icon-large\"></i>';\n    button.addEventListener('click', function (_evt) {\n        fig.handle_close(fig, {});\n    });\n    button.addEventListener(\n        'mouseover',\n        on_mouseover_closure('Stop Interaction')\n    );\n    buttongrp.appendChild(button);\n    var titlebar = this.root.querySelector('.ui-dialog-titlebar');\n    titlebar.insertBefore(buttongrp, titlebar.firstChild);\n};\n\nmpl.figure.prototype._remove_fig_handler = function (event) {\n    var fig = event.data.fig;\n    if (event.target !== this) {\n        // Ignore bubbled events from children.\n        return;\n    }\n    fig.close_ws(fig, {});\n};\n\nmpl.figure.prototype._root_extra_style = function (el) {\n    el.style.boxSizing = 'content-box'; // override notebook setting of border-box.\n};\n\nmpl.figure.prototype._canvas_extra_style = function (el) {\n    // this is important to make the div 'focusable\n    el.setAttribute('tabindex', 0);\n    // reach out to IPython and tell the keyboard manager to turn it's self\n    // off when our div gets focus\n\n    // location in version 3\n    if (IPython.notebook.keyboard_manager) {\n        IPython.notebook.keyboard_manager.register_events(el);\n    } else {\n        // location in version 2\n        IPython.keyboard_manager.register_events(el);\n    }\n};\n\nmpl.figure.prototype._key_event_extra = function (event, _name) {\n    var manager = IPython.notebook.keyboard_manager;\n    if (!manager) {\n        manager = IPython.keyboard_manager;\n    }\n\n    // Check for shift+enter\n    if (event.shiftKey && event.which === 13) {\n        this.canvas_div.blur();\n        // select the cell after this one\n        var index = IPython.notebook.find_cell_index(this.cell_info[0]);\n        IPython.notebook.select(index + 1);\n    }\n};\n\nmpl.figure.prototype.handle_save = function (fig, _msg) {\n    fig.ondownload(fig, null);\n};\n\nmpl.find_output_cell = function (html_output) {\n    // Return the cell and output element which can be found *uniquely* in the notebook.\n    // Note - this is a bit hacky, but it is done because the \"notebook_saving.Notebook\"\n    // IPython event is triggered only after the cells have been serialised, which for\n    // our purposes (turning an active figure into a static one), is too late.\n    var cells = IPython.notebook.get_cells();\n    var ncells = cells.length;\n    for (var i = 0; i < ncells; i++) {\n        var cell = cells[i];\n        if (cell.cell_type === 'code') {\n            for (var j = 0; j < cell.output_area.outputs.length; j++) {\n                var data = cell.output_area.outputs[j];\n                if (data.data) {\n                    // IPython >= 3 moved mimebundle to data attribute of output\n                    data = data.data;\n                }\n                if (data['text/html'] === html_output) {\n                    return [cell, data, j];\n                }\n            }\n        }\n    }\n};\n\n// Register the function which deals with the matplotlib target/channel.\n// The kernel may be null if the page has been refreshed.\nif (IPython.notebook.kernel !== null) {\n    IPython.notebook.kernel.comm_manager.register_target(\n        'matplotlib',\n        mpl.mpl_figure_comm\n    );\n}\n",
      "text/plain": [
       "<IPython.core.display.Javascript object>"
      ]
     },
     "metadata": {},
     "output_type": "display_data"
    },
    {
     "data": {
      "text/html": [
       "<img src=\"data:image/png;base64,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\" width=\"640\">"
      ],
      "text/plain": [
       "<IPython.core.display.HTML object>"
      ]
     },
     "metadata": {},
     "output_type": "display_data"
    }
   ],
   "source": [
    "plt.figure()\n",
    "hmap = plt.imshow(howmany,extent=[spinlessness[0],\n",
    "                          spinlessness[-1],\n",
    "                          bgaps[0],\n",
    "                          bgaps[-1]], origin='lower',\n",
    "          cmap='magma',\n",
    "          aspect=1/((bgaps[-1]-bgaps[0])/(spinlessness[-1]-spinlessness[0])))\n",
    "cbar = plt.colorbar()\n",
    "cbar.set_label('# of hosts')\n",
    "# mplcursors.cursor(hover=False,annotation_kwargs={'text':'y','xytext':(0.5,3)})\n",
    "cursor = mplcursors.cursor(hover=False)\n",
    "@cursor.connect(\"add\")\n",
    "def on_add(sel):\n",
    "    ann = sel.annotation\n",
    "    x, y = ann.xy\n",
    "    anntxt = ('(%.1f%%,%.1feV)\\n' % (x*100,y))+compounds(x,y)\n",
    "    ann.arrowprops['ec'] = 'w'\n",
    "    ann.set_backgroundcolor('white')\n",
    "    ann.set_text(anntxt)\n",
    "plt.xlabel('minimum natural spinless abundance')\n",
    "plt.ylabel('minimum bandgap / eV')\n",
    "plt.show()"
   ]
  },
  {
   "cell_type": "markdown",
   "metadata": {},
   "source": [
    "# Old Stuff"
   ]
  },
  {
   "cell_type": "code",
   "execution_count": 2,
   "metadata": {
    "ExecuteTime": {
     "end_time": "2021-02-08T22:44:01.180068Z",
     "start_time": "2021-02-08T22:44:00.851332Z"
    }
   },
   "outputs": [],
   "source": [
    "mpdr = MPDataRetrieval(api_key='023o1DArkeOFQz8T')"
   ]
  },
  {
   "cell_type": "code",
   "execution_count": null,
   "metadata": {},
   "outputs": [],
   "source": [
    "properties = ['density',]"
   ]
  },
  {
   "cell_type": "code",
   "execution_count": 15,
   "metadata": {
    "ExecuteTime": {
     "end_time": "2021-02-08T22:46:54.721976Z",
     "start_time": "2021-02-08T22:46:53.155951Z"
    }
   },
   "outputs": [
    {
     "data": {
      "application/vnd.jupyter.widget-view+json": {
       "model_id": "5952144226f641d4bfbbd9419fb4e0a7",
       "version_major": 2,
       "version_minor": 0
      },
      "text/plain": [
       "  0%|          | 0/716 [00:00<?, ?it/s]"
      ]
     },
     "metadata": {},
     "output_type": "display_data"
    },
    {
     "name": "stdout",
     "output_type": "stream",
     "text": [
      "There are 716 entries on MP with 1 element\n"
     ]
    }
   ],
   "source": [
    "df = mpdr.get_dataframe(criteria={\"nelements\": 1}, properties=['cif'])\n",
    "print(\"There are {} entries on MP with 1 element\".format(df['cif'].count()))"
   ]
  },
  {
   "cell_type": "code",
   "execution_count": 19,
   "metadata": {
    "ExecuteTime": {
     "end_time": "2021-02-08T22:47:17.174238Z",
     "start_time": "2021-02-08T22:47:17.171215Z"
    }
   },
   "outputs": [
    {
     "name": "stdout",
     "output_type": "stream",
     "text": [
      "# generated using pymatgen\n",
      "data_Cs\n",
      "_symmetry_space_group_name_H-M   'P 1'\n",
      "_cell_length_a   5.29144986\n",
      "_cell_length_b   5.29144986\n",
      "_cell_length_c   5.29144986\n",
      "_cell_angle_alpha   109.47122063\n",
      "_cell_angle_beta   109.47122063\n",
      "_cell_angle_gamma   109.47122063\n",
      "_symmetry_Int_Tables_number   1\n",
      "_chemical_formula_structural   Cs\n",
      "_chemical_formula_sum   Cs1\n",
      "_cell_volume   114.05180544\n",
      "_cell_formula_units_Z   1\n",
      "loop_\n",
      " _symmetry_equiv_pos_site_id\n",
      " _symmetry_equiv_pos_as_xyz\n",
      "  1  'x, y, z'\n",
      "loop_\n",
      " _atom_site_type_symbol\n",
      " _atom_site_label\n",
      " _atom_site_symmetry_multiplicity\n",
      " _atom_site_fract_x\n",
      " _atom_site_fract_y\n",
      " _atom_site_fract_z\n",
      " _atom_site_occupancy\n",
      "  Cs  Cs0  1  0.00000000  0.00000000  0.00000000  1\n",
      "\n"
     ]
    }
   ],
   "source": [
    "print(df.iloc[0]['cif'])"
   ]
  },
  {
   "cell_type": "code",
   "execution_count": 66,
   "metadata": {
    "ExecuteTime": {
     "end_time": "2021-02-09T00:35:28.644344Z",
     "start_time": "2021-02-09T00:35:27.740183Z"
    }
   },
   "outputs": [],
   "source": [
    "props = ['band_gap','cif','density','doi','e_above_hull','efermi','elements',\n",
    "         'full_formula','final_energy','piezo','pretty_formula','pseudo_potential',\n",
    "        'reduced_cell_formula','structure','spacegroup','tags','warnings']\n",
    "results = mpdr.get_dataframe(criteria={\"material_id\": 'mp-1102227'},\n",
    "         properties=props)"
   ]
  },
  {
   "cell_type": "code",
   "execution_count": 63,
   "metadata": {
    "ExecuteTime": {
     "end_time": "2021-02-09T00:00:09.640658Z",
     "start_time": "2021-02-09T00:00:09.637833Z"
    }
   },
   "outputs": [],
   "source": [
    "with open('tempcif.cif','w') as file:\n",
    "    file.write(results['cif'][0])"
   ]
  },
  {
   "cell_type": "code",
   "execution_count": 65,
   "metadata": {
    "ExecuteTime": {
     "end_time": "2021-02-09T00:17:25.515085Z",
     "start_time": "2021-02-09T00:17:25.265878Z"
    }
   },
   "outputs": [],
   "source": [
    "!open tempcif.cif"
   ]
  },
  {
   "cell_type": "code",
   "execution_count": 67,
   "metadata": {
    "ExecuteTime": {
     "end_time": "2021-02-09T00:39:26.630972Z",
     "start_time": "2021-02-09T00:39:25.943642Z"
    }
   },
   "outputs": [],
   "source": [
    "props = ['band_gap','cif','pretty_formula',\n",
    "        'structure','spacegroup']\n",
    "results = mpdr.get_dataframe(criteria={\"material_id\": 'mp-1102227'},\n",
    "         properties=props)"
   ]
  },
  {
   "cell_type": "code",
   "execution_count": 68,
   "metadata": {
    "ExecuteTime": {
     "end_time": "2021-02-09T00:39:28.019587Z",
     "start_time": "2021-02-09T00:39:28.003286Z"
    }
   },
   "outputs": [
    {
     "data": {
      "text/html": [
       "<div>\n",
       "<style scoped>\n",
       "    .dataframe tbody tr th:only-of-type {\n",
       "        vertical-align: middle;\n",
       "    }\n",
       "\n",
       "    .dataframe tbody tr th {\n",
       "        vertical-align: top;\n",
       "    }\n",
       "\n",
       "    .dataframe thead th {\n",
       "        text-align: right;\n",
       "    }\n",
       "</style>\n",
       "<table border=\"1\" class=\"dataframe\">\n",
       "  <thead>\n",
       "    <tr style=\"text-align: right;\">\n",
       "      <th></th>\n",
       "      <th>band_gap</th>\n",
       "      <th>cif</th>\n",
       "      <th>pretty_formula</th>\n",
       "      <th>structure</th>\n",
       "      <th>spacegroup</th>\n",
       "    </tr>\n",
       "    <tr>\n",
       "      <th>material_id</th>\n",
       "      <th></th>\n",
       "      <th></th>\n",
       "      <th></th>\n",
       "      <th></th>\n",
       "      <th></th>\n",
       "    </tr>\n",
       "  </thead>\n",
       "  <tbody>\n",
       "    <tr>\n",
       "      <th>mp-1102227</th>\n",
       "      <td>6.4314</td>\n",
       "      <td># generated using pymatgen\\ndata_CO2\\n_symmetr...</td>\n",
       "      <td>CO2</td>\n",
       "      <td>[[5.01249416 0.05681684 5.42401875] C, [0.0568...</td>\n",
       "      <td>{'symprec': 0.1, 'source': 'spglib', 'symbol':...</td>\n",
       "    </tr>\n",
       "  </tbody>\n",
       "</table>\n",
       "</div>"
      ],
      "text/plain": [
       "             band_gap                                                cif  \\\n",
       "material_id                                                                \n",
       "mp-1102227     6.4314  # generated using pymatgen\\ndata_CO2\\n_symmetr...   \n",
       "\n",
       "            pretty_formula                                          structure  \\\n",
       "material_id                                                                     \n",
       "mp-1102227             CO2  [[5.01249416 0.05681684 5.42401875] C, [0.0568...   \n",
       "\n",
       "                                                    spacegroup  \n",
       "material_id                                                     \n",
       "mp-1102227   {'symprec': 0.1, 'source': 'spglib', 'symbol':...  "
      ]
     },
     "execution_count": 68,
     "metadata": {},
     "output_type": "execute_result"
    }
   ],
   "source": [
    "results"
   ]
  },
  {
   "cell_type": "markdown",
   "metadata": {},
   "source": [
    "# More Elaborate Queries with mongoDB syntax"
   ]
  },
  {
   "cell_type": "markdown",
   "metadata": {},
   "source": [
    "https://docs.mongodb.com/v2.6/reference/operator/query/"
   ]
  },
  {
   "cell_type": "code",
   "execution_count": 106,
   "metadata": {
    "ExecuteTime": {
     "end_time": "2021-02-09T01:08:31.681995Z",
     "start_time": "2021-02-09T01:08:17.320353Z"
    }
   },
   "outputs": [
    {
     "data": {
      "application/vnd.jupyter.widget-view+json": {
       "model_id": "c6b4313b4fb24de18c0d60b083a4a0e2",
       "version_major": 2,
       "version_minor": 0
      },
      "text/plain": [
       "  0%|          | 0/1546 [00:00<?, ?it/s]"
      ]
     },
     "metadata": {},
     "output_type": "display_data"
    }
   ],
   "source": [
    "min_bandgap, max_bandgap = 5, 6\n",
    "good_atoms = [\"Ca\",\"C\",\"O\"]\n",
    "bad_atoms = [\"Rb\",\"Si\"]\n",
    "criteria = {'band_gap':{'$gte':min_bandgap,'$lte':max_bandgap},\n",
    "            'elements':{'$in':good_atoms,'$nin':bad_atoms}}\n",
    "props = ['band_gap','cif','pretty_formula','density','nelements',\n",
    "        'structure','spacegroup']\n",
    "results = mpdr.get_dataframe(criteria=criteria,\n",
    "         properties=props)"
   ]
  },
  {
   "cell_type": "code",
   "execution_count": 103,
   "metadata": {
    "ExecuteTime": {
     "end_time": "2021-02-09T01:01:10.601255Z",
     "start_time": "2021-02-09T01:01:10.576387Z"
    }
   },
   "outputs": [
    {
     "data": {
      "application/javascript": "/* Put everything inside the global mpl namespace */\n/* global mpl */\nwindow.mpl = {};\n\nmpl.get_websocket_type = function () {\n    if (typeof WebSocket !== 'undefined') {\n        return WebSocket;\n    } else if (typeof MozWebSocket !== 'undefined') {\n        return MozWebSocket;\n    } else {\n        alert(\n            'Your browser does not have WebSocket support. ' +\n                'Please try Chrome, Safari or Firefox ≥ 6. ' +\n                'Firefox 4 and 5 are also supported but you ' +\n                'have to enable WebSockets in about:config.'\n        );\n    }\n};\n\nmpl.figure = function (figure_id, websocket, ondownload, parent_element) {\n    this.id = figure_id;\n\n    this.ws = websocket;\n\n    this.supports_binary = this.ws.binaryType !== undefined;\n\n    if (!this.supports_binary) {\n        var warnings = document.getElementById('mpl-warnings');\n        if (warnings) {\n            warnings.style.display = 'block';\n            warnings.textContent =\n                'This browser does not support binary websocket messages. ' +\n                'Performance may be slow.';\n        }\n    }\n\n    this.imageObj = new Image();\n\n    this.context = undefined;\n    this.message = undefined;\n    this.canvas = undefined;\n    this.rubberband_canvas = undefined;\n    this.rubberband_context = undefined;\n    this.format_dropdown = undefined;\n\n    this.image_mode = 'full';\n\n    this.root = document.createElement('div');\n    this.root.setAttribute('style', 'display: inline-block');\n    this._root_extra_style(this.root);\n\n    parent_element.appendChild(this.root);\n\n    this._init_header(this);\n    this._init_canvas(this);\n    this._init_toolbar(this);\n\n    var fig = this;\n\n    this.waiting = false;\n\n    this.ws.onopen = function () {\n        fig.send_message('supports_binary', { value: fig.supports_binary });\n        fig.send_message('send_image_mode', {});\n        if (fig.ratio !== 1) {\n            fig.send_message('set_dpi_ratio', { dpi_ratio: fig.ratio });\n        }\n        fig.send_message('refresh', {});\n    };\n\n    this.imageObj.onload = function () {\n        if (fig.image_mode === 'full') {\n            // Full images could contain transparency (where diff images\n            // almost always do), so we need to clear the canvas so that\n            // there is no ghosting.\n            fig.context.clearRect(0, 0, fig.canvas.width, fig.canvas.height);\n        }\n        fig.context.drawImage(fig.imageObj, 0, 0);\n    };\n\n    this.imageObj.onunload = function () {\n        fig.ws.close();\n    };\n\n    this.ws.onmessage = this._make_on_message_function(this);\n\n    this.ondownload = ondownload;\n};\n\nmpl.figure.prototype._init_header = function () {\n    var titlebar = document.createElement('div');\n    titlebar.classList =\n        'ui-dialog-titlebar ui-widget-header ui-corner-all ui-helper-clearfix';\n    var titletext = document.createElement('div');\n    titletext.classList = 'ui-dialog-title';\n    titletext.setAttribute(\n        'style',\n        'width: 100%; text-align: center; padding: 3px;'\n    );\n    titlebar.appendChild(titletext);\n    this.root.appendChild(titlebar);\n    this.header = titletext;\n};\n\nmpl.figure.prototype._canvas_extra_style = function (_canvas_div) {};\n\nmpl.figure.prototype._root_extra_style = function (_canvas_div) {};\n\nmpl.figure.prototype._init_canvas = function () {\n    var fig = this;\n\n    var canvas_div = (this.canvas_div = document.createElement('div'));\n    canvas_div.setAttribute(\n        'style',\n        'border: 1px solid #ddd;' +\n            'box-sizing: content-box;' +\n            'clear: both;' +\n            'min-height: 1px;' +\n            'min-width: 1px;' +\n            'outline: 0;' +\n            'overflow: hidden;' +\n            'position: relative;' +\n            'resize: both;'\n    );\n\n    function on_keyboard_event_closure(name) {\n        return function (event) {\n            return fig.key_event(event, name);\n        };\n    }\n\n    canvas_div.addEventListener(\n        'keydown',\n        on_keyboard_event_closure('key_press')\n    );\n    canvas_div.addEventListener(\n        'keyup',\n        on_keyboard_event_closure('key_release')\n    );\n\n    this._canvas_extra_style(canvas_div);\n    this.root.appendChild(canvas_div);\n\n    var canvas = (this.canvas = document.createElement('canvas'));\n    canvas.classList.add('mpl-canvas');\n    canvas.setAttribute('style', 'box-sizing: content-box;');\n\n    this.context = canvas.getContext('2d');\n\n    var backingStore =\n        this.context.backingStorePixelRatio ||\n        this.context.webkitBackingStorePixelRatio ||\n        this.context.mozBackingStorePixelRatio ||\n        this.context.msBackingStorePixelRatio ||\n        this.context.oBackingStorePixelRatio ||\n        this.context.backingStorePixelRatio ||\n        1;\n\n    this.ratio = (window.devicePixelRatio || 1) / backingStore;\n\n    var rubberband_canvas = (this.rubberband_canvas = document.createElement(\n        'canvas'\n    ));\n    rubberband_canvas.setAttribute(\n        'style',\n        'box-sizing: content-box; position: absolute; left: 0; top: 0; z-index: 1;'\n    );\n\n    // Apply a ponyfill if ResizeObserver is not implemented by browser.\n    if (this.ResizeObserver === undefined) {\n        if (window.ResizeObserver !== undefined) {\n            this.ResizeObserver = window.ResizeObserver;\n        } else {\n            var obs = _JSXTOOLS_RESIZE_OBSERVER({});\n            this.ResizeObserver = obs.ResizeObserver;\n        }\n    }\n\n    this.resizeObserverInstance = new this.ResizeObserver(function (entries) {\n        var nentries = entries.length;\n        for (var i = 0; i < nentries; i++) {\n            var entry = entries[i];\n            var width, height;\n            if (entry.contentBoxSize) {\n                if (entry.contentBoxSize instanceof Array) {\n                    // Chrome 84 implements new version of spec.\n                    width = entry.contentBoxSize[0].inlineSize;\n                    height = entry.contentBoxSize[0].blockSize;\n                } else {\n                    // Firefox implements old version of spec.\n                    width = entry.contentBoxSize.inlineSize;\n                    height = entry.contentBoxSize.blockSize;\n                }\n            } else {\n                // Chrome <84 implements even older version of spec.\n                width = entry.contentRect.width;\n                height = entry.contentRect.height;\n            }\n\n            // Keep the size of the canvas and rubber band canvas in sync with\n            // the canvas container.\n            if (entry.devicePixelContentBoxSize) {\n                // Chrome 84 implements new version of spec.\n                canvas.setAttribute(\n                    'width',\n                    entry.devicePixelContentBoxSize[0].inlineSize\n                );\n                canvas.setAttribute(\n                    'height',\n                    entry.devicePixelContentBoxSize[0].blockSize\n                );\n            } else {\n                canvas.setAttribute('width', width * fig.ratio);\n                canvas.setAttribute('height', height * fig.ratio);\n            }\n            canvas.setAttribute(\n                'style',\n                'width: ' + width + 'px; height: ' + height + 'px;'\n            );\n\n            rubberband_canvas.setAttribute('width', width);\n            rubberband_canvas.setAttribute('height', height);\n\n            // And update the size in Python. We ignore the initial 0/0 size\n            // that occurs as the element is placed into the DOM, which should\n            // otherwise not happen due to the minimum size styling.\n            if (fig.ws.readyState == 1 && width != 0 && height != 0) {\n                fig.request_resize(width, height);\n            }\n        }\n    });\n    this.resizeObserverInstance.observe(canvas_div);\n\n    function on_mouse_event_closure(name) {\n        return function (event) {\n            return fig.mouse_event(event, name);\n        };\n    }\n\n    rubberband_canvas.addEventListener(\n        'mousedown',\n        on_mouse_event_closure('button_press')\n    );\n    rubberband_canvas.addEventListener(\n        'mouseup',\n        on_mouse_event_closure('button_release')\n    );\n    // Throttle sequential mouse events to 1 every 20ms.\n    rubberband_canvas.addEventListener(\n        'mousemove',\n        on_mouse_event_closure('motion_notify')\n    );\n\n    rubberband_canvas.addEventListener(\n        'mouseenter',\n        on_mouse_event_closure('figure_enter')\n    );\n    rubberband_canvas.addEventListener(\n        'mouseleave',\n        on_mouse_event_closure('figure_leave')\n    );\n\n    canvas_div.addEventListener('wheel', function (event) {\n        if (event.deltaY < 0) {\n            event.step = 1;\n        } else {\n            event.step = -1;\n        }\n        on_mouse_event_closure('scroll')(event);\n    });\n\n    canvas_div.appendChild(canvas);\n    canvas_div.appendChild(rubberband_canvas);\n\n    this.rubberband_context = rubberband_canvas.getContext('2d');\n    this.rubberband_context.strokeStyle = '#000000';\n\n    this._resize_canvas = function (width, height, forward) {\n        if (forward) {\n            canvas_div.style.width = width + 'px';\n            canvas_div.style.height = height + 'px';\n        }\n    };\n\n    // Disable right mouse context menu.\n    this.rubberband_canvas.addEventListener('contextmenu', function (_e) {\n        event.preventDefault();\n        return false;\n    });\n\n    function set_focus() {\n        canvas.focus();\n        canvas_div.focus();\n    }\n\n    window.setTimeout(set_focus, 100);\n};\n\nmpl.figure.prototype._init_toolbar = function () {\n    var fig = this;\n\n    var toolbar = document.createElement('div');\n    toolbar.classList = 'mpl-toolbar';\n    this.root.appendChild(toolbar);\n\n    function on_click_closure(name) {\n        return function (_event) {\n            return fig.toolbar_button_onclick(name);\n        };\n    }\n\n    function on_mouseover_closure(tooltip) {\n        return function (event) {\n            if (!event.currentTarget.disabled) {\n                return fig.toolbar_button_onmouseover(tooltip);\n            }\n        };\n    }\n\n    fig.buttons = {};\n    var buttonGroup = document.createElement('div');\n    buttonGroup.classList = 'mpl-button-group';\n    for (var toolbar_ind in mpl.toolbar_items) {\n        var name = mpl.toolbar_items[toolbar_ind][0];\n        var tooltip = mpl.toolbar_items[toolbar_ind][1];\n        var image = mpl.toolbar_items[toolbar_ind][2];\n        var method_name = mpl.toolbar_items[toolbar_ind][3];\n\n        if (!name) {\n            /* Instead of a spacer, we start a new button group. */\n            if (buttonGroup.hasChildNodes()) {\n                toolbar.appendChild(buttonGroup);\n            }\n            buttonGroup = document.createElement('div');\n            buttonGroup.classList = 'mpl-button-group';\n            continue;\n        }\n\n        var button = (fig.buttons[name] = document.createElement('button'));\n        button.classList = 'mpl-widget';\n        button.setAttribute('role', 'button');\n        button.setAttribute('aria-disabled', 'false');\n        button.addEventListener('click', on_click_closure(method_name));\n        button.addEventListener('mouseover', on_mouseover_closure(tooltip));\n\n        var icon_img = document.createElement('img');\n        icon_img.src = '_images/' + image + '.png';\n        icon_img.srcset = '_images/' + image + '_large.png 2x';\n        icon_img.alt = tooltip;\n        button.appendChild(icon_img);\n\n        buttonGroup.appendChild(button);\n    }\n\n    if (buttonGroup.hasChildNodes()) {\n        toolbar.appendChild(buttonGroup);\n    }\n\n    var fmt_picker = document.createElement('select');\n    fmt_picker.classList = 'mpl-widget';\n    toolbar.appendChild(fmt_picker);\n    this.format_dropdown = fmt_picker;\n\n    for (var ind in mpl.extensions) {\n        var fmt = mpl.extensions[ind];\n        var option = document.createElement('option');\n        option.selected = fmt === mpl.default_extension;\n        option.innerHTML = fmt;\n        fmt_picker.appendChild(option);\n    }\n\n    var status_bar = document.createElement('span');\n    status_bar.classList = 'mpl-message';\n    toolbar.appendChild(status_bar);\n    this.message = status_bar;\n};\n\nmpl.figure.prototype.request_resize = function (x_pixels, y_pixels) {\n    // Request matplotlib to resize the figure. Matplotlib will then trigger a resize in the client,\n    // which will in turn request a refresh of the image.\n    this.send_message('resize', { width: x_pixels, height: y_pixels });\n};\n\nmpl.figure.prototype.send_message = function (type, properties) {\n    properties['type'] = type;\n    properties['figure_id'] = this.id;\n    this.ws.send(JSON.stringify(properties));\n};\n\nmpl.figure.prototype.send_draw_message = function () {\n    if (!this.waiting) {\n        this.waiting = true;\n        this.ws.send(JSON.stringify({ type: 'draw', figure_id: this.id }));\n    }\n};\n\nmpl.figure.prototype.handle_save = function (fig, _msg) {\n    var format_dropdown = fig.format_dropdown;\n    var format = format_dropdown.options[format_dropdown.selectedIndex].value;\n    fig.ondownload(fig, format);\n};\n\nmpl.figure.prototype.handle_resize = function (fig, msg) {\n    var size = msg['size'];\n    if (size[0] !== fig.canvas.width || size[1] !== fig.canvas.height) {\n        fig._resize_canvas(size[0], size[1], msg['forward']);\n        fig.send_message('refresh', {});\n    }\n};\n\nmpl.figure.prototype.handle_rubberband = function (fig, msg) {\n    var x0 = msg['x0'] / fig.ratio;\n    var y0 = (fig.canvas.height - msg['y0']) / fig.ratio;\n    var x1 = msg['x1'] / fig.ratio;\n    var y1 = (fig.canvas.height - msg['y1']) / fig.ratio;\n    x0 = Math.floor(x0) + 0.5;\n    y0 = Math.floor(y0) + 0.5;\n    x1 = Math.floor(x1) + 0.5;\n    y1 = Math.floor(y1) + 0.5;\n    var min_x = Math.min(x0, x1);\n    var min_y = Math.min(y0, y1);\n    var width = Math.abs(x1 - x0);\n    var height = Math.abs(y1 - y0);\n\n    fig.rubberband_context.clearRect(\n        0,\n        0,\n        fig.canvas.width / fig.ratio,\n        fig.canvas.height / fig.ratio\n    );\n\n    fig.rubberband_context.strokeRect(min_x, min_y, width, height);\n};\n\nmpl.figure.prototype.handle_figure_label = function (fig, msg) {\n    // Updates the figure title.\n    fig.header.textContent = msg['label'];\n};\n\nmpl.figure.prototype.handle_cursor = function (fig, msg) {\n    var cursor = msg['cursor'];\n    switch (cursor) {\n        case 0:\n            cursor = 'pointer';\n            break;\n        case 1:\n            cursor = 'default';\n            break;\n        case 2:\n            cursor = 'crosshair';\n            break;\n        case 3:\n            cursor = 'move';\n            break;\n    }\n    fig.rubberband_canvas.style.cursor = cursor;\n};\n\nmpl.figure.prototype.handle_message = function (fig, msg) {\n    fig.message.textContent = msg['message'];\n};\n\nmpl.figure.prototype.handle_draw = function (fig, _msg) {\n    // Request the server to send over a new figure.\n    fig.send_draw_message();\n};\n\nmpl.figure.prototype.handle_image_mode = function (fig, msg) {\n    fig.image_mode = msg['mode'];\n};\n\nmpl.figure.prototype.handle_history_buttons = function (fig, msg) {\n    for (var key in msg) {\n        if (!(key in fig.buttons)) {\n            continue;\n        }\n        fig.buttons[key].disabled = !msg[key];\n        fig.buttons[key].setAttribute('aria-disabled', !msg[key]);\n    }\n};\n\nmpl.figure.prototype.handle_navigate_mode = function (fig, msg) {\n    if (msg['mode'] === 'PAN') {\n        fig.buttons['Pan'].classList.add('active');\n        fig.buttons['Zoom'].classList.remove('active');\n    } else if (msg['mode'] === 'ZOOM') {\n        fig.buttons['Pan'].classList.remove('active');\n        fig.buttons['Zoom'].classList.add('active');\n    } else {\n        fig.buttons['Pan'].classList.remove('active');\n        fig.buttons['Zoom'].classList.remove('active');\n    }\n};\n\nmpl.figure.prototype.updated_canvas_event = function () {\n    // Called whenever the canvas gets updated.\n    this.send_message('ack', {});\n};\n\n// A function to construct a web socket function for onmessage handling.\n// Called in the figure constructor.\nmpl.figure.prototype._make_on_message_function = function (fig) {\n    return function socket_on_message(evt) {\n        if (evt.data instanceof Blob) {\n            /* FIXME: We get \"Resource interpreted as Image but\n             * transferred with MIME type text/plain:\" errors on\n             * Chrome.  But how to set the MIME type?  It doesn't seem\n             * to be part of the websocket stream */\n            evt.data.type = 'image/png';\n\n            /* Free the memory for the previous frames */\n            if (fig.imageObj.src) {\n                (window.URL || window.webkitURL).revokeObjectURL(\n                    fig.imageObj.src\n                );\n            }\n\n            fig.imageObj.src = (window.URL || window.webkitURL).createObjectURL(\n                evt.data\n            );\n            fig.updated_canvas_event();\n            fig.waiting = false;\n            return;\n        } else if (\n            typeof evt.data === 'string' &&\n            evt.data.slice(0, 21) === 'data:image/png;base64'\n        ) {\n            fig.imageObj.src = evt.data;\n            fig.updated_canvas_event();\n            fig.waiting = false;\n            return;\n        }\n\n        var msg = JSON.parse(evt.data);\n        var msg_type = msg['type'];\n\n        // Call the  \"handle_{type}\" callback, which takes\n        // the figure and JSON message as its only arguments.\n        try {\n            var callback = fig['handle_' + msg_type];\n        } catch (e) {\n            console.log(\n                \"No handler for the '\" + msg_type + \"' message type: \",\n                msg\n            );\n            return;\n        }\n\n        if (callback) {\n            try {\n                // console.log(\"Handling '\" + msg_type + \"' message: \", msg);\n                callback(fig, msg);\n            } catch (e) {\n                console.log(\n                    \"Exception inside the 'handler_\" + msg_type + \"' callback:\",\n                    e,\n                    e.stack,\n                    msg\n                );\n            }\n        }\n    };\n};\n\n// from http://stackoverflow.com/questions/1114465/getting-mouse-location-in-canvas\nmpl.findpos = function (e) {\n    //this section is from http://www.quirksmode.org/js/events_properties.html\n    var targ;\n    if (!e) {\n        e = window.event;\n    }\n    if (e.target) {\n        targ = e.target;\n    } else if (e.srcElement) {\n        targ = e.srcElement;\n    }\n    if (targ.nodeType === 3) {\n        // defeat Safari bug\n        targ = targ.parentNode;\n    }\n\n    // pageX,Y are the mouse positions relative to the document\n    var boundingRect = targ.getBoundingClientRect();\n    var x = e.pageX - (boundingRect.left + document.body.scrollLeft);\n    var y = e.pageY - (boundingRect.top + document.body.scrollTop);\n\n    return { x: x, y: y };\n};\n\n/*\n * return a copy of an object with only non-object keys\n * we need this to avoid circular references\n * http://stackoverflow.com/a/24161582/3208463\n */\nfunction simpleKeys(original) {\n    return Object.keys(original).reduce(function (obj, key) {\n        if (typeof original[key] !== 'object') {\n            obj[key] = original[key];\n        }\n        return obj;\n    }, {});\n}\n\nmpl.figure.prototype.mouse_event = function (event, name) {\n    var canvas_pos = mpl.findpos(event);\n\n    if (name === 'button_press') {\n        this.canvas.focus();\n        this.canvas_div.focus();\n    }\n\n    var x = canvas_pos.x * this.ratio;\n    var y = canvas_pos.y * this.ratio;\n\n    this.send_message(name, {\n        x: x,\n        y: y,\n        button: event.button,\n        step: event.step,\n        guiEvent: simpleKeys(event),\n    });\n\n    /* This prevents the web browser from automatically changing to\n     * the text insertion cursor when the button is pressed.  We want\n     * to control all of the cursor setting manually through the\n     * 'cursor' event from matplotlib */\n    event.preventDefault();\n    return false;\n};\n\nmpl.figure.prototype._key_event_extra = function (_event, _name) {\n    // Handle any extra behaviour associated with a key event\n};\n\nmpl.figure.prototype.key_event = function (event, name) {\n    // Prevent repeat events\n    if (name === 'key_press') {\n        if (event.which === this._key) {\n            return;\n        } else {\n            this._key = event.which;\n        }\n    }\n    if (name === 'key_release') {\n        this._key = null;\n    }\n\n    var value = '';\n    if (event.ctrlKey && event.which !== 17) {\n        value += 'ctrl+';\n    }\n    if (event.altKey && event.which !== 18) {\n        value += 'alt+';\n    }\n    if (event.shiftKey && event.which !== 16) {\n        value += 'shift+';\n    }\n\n    value += 'k';\n    value += event.which.toString();\n\n    this._key_event_extra(event, name);\n\n    this.send_message(name, { key: value, guiEvent: simpleKeys(event) });\n    return false;\n};\n\nmpl.figure.prototype.toolbar_button_onclick = function (name) {\n    if (name === 'download') {\n        this.handle_save(this, null);\n    } else {\n        this.send_message('toolbar_button', { name: name });\n    }\n};\n\nmpl.figure.prototype.toolbar_button_onmouseover = function (tooltip) {\n    this.message.textContent = tooltip;\n};\n\n///////////////// REMAINING CONTENT GENERATED BY embed_js.py /////////////////\n// prettier-ignore\nvar _JSXTOOLS_RESIZE_OBSERVER=function(A){var t,i=new WeakMap,n=new WeakMap,a=new WeakMap,r=new WeakMap,o=new Set;function s(e){if(!(this instanceof s))throw new TypeError(\"Constructor requires 'new' operator\");i.set(this,e)}function h(){throw new TypeError(\"Function is not a constructor\")}function c(e,t,i,n){e=0 in arguments?Number(arguments[0]):0,t=1 in arguments?Number(arguments[1]):0,i=2 in arguments?Number(arguments[2]):0,n=3 in arguments?Number(arguments[3]):0,this.right=(this.x=this.left=e)+(this.width=i),this.bottom=(this.y=this.top=t)+(this.height=n),Object.freeze(this)}function d(){t=requestAnimationFrame(d);var s=new WeakMap,p=new Set;o.forEach((function(t){r.get(t).forEach((function(i){var r=t instanceof window.SVGElement,o=a.get(t),d=r?0:parseFloat(o.paddingTop),f=r?0:parseFloat(o.paddingRight),l=r?0:parseFloat(o.paddingBottom),u=r?0:parseFloat(o.paddingLeft),g=r?0:parseFloat(o.borderTopWidth),m=r?0:parseFloat(o.borderRightWidth),w=r?0:parseFloat(o.borderBottomWidth),b=u+f,F=d+l,v=(r?0:parseFloat(o.borderLeftWidth))+m,W=g+w,y=r?0:t.offsetHeight-W-t.clientHeight,E=r?0:t.offsetWidth-v-t.clientWidth,R=b+v,z=F+W,M=r?t.width:parseFloat(o.width)-R-E,O=r?t.height:parseFloat(o.height)-z-y;if(n.has(t)){var k=n.get(t);if(k[0]===M&&k[1]===O)return}n.set(t,[M,O]);var S=Object.create(h.prototype);S.target=t,S.contentRect=new c(u,d,M,O),s.has(i)||(s.set(i,[]),p.add(i)),s.get(i).push(S)}))})),p.forEach((function(e){i.get(e).call(e,s.get(e),e)}))}return s.prototype.observe=function(i){if(i instanceof window.Element){r.has(i)||(r.set(i,new Set),o.add(i),a.set(i,window.getComputedStyle(i)));var n=r.get(i);n.has(this)||n.add(this),cancelAnimationFrame(t),t=requestAnimationFrame(d)}},s.prototype.unobserve=function(i){if(i instanceof window.Element&&r.has(i)){var n=r.get(i);n.has(this)&&(n.delete(this),n.size||(r.delete(i),o.delete(i))),n.size||r.delete(i),o.size||cancelAnimationFrame(t)}},A.DOMRectReadOnly=c,A.ResizeObserver=s,A.ResizeObserverEntry=h,A}; // eslint-disable-line\nmpl.toolbar_items = [[\"Home\", \"Reset original view\", \"fa fa-home icon-home\", \"home\"], [\"Back\", \"Back to previous view\", \"fa fa-arrow-left icon-arrow-left\", \"back\"], [\"Forward\", \"Forward to next view\", \"fa fa-arrow-right icon-arrow-right\", \"forward\"], [\"\", \"\", \"\", \"\"], [\"Pan\", \"Left button pans, Right button zooms\\nx/y fixes axis, CTRL fixes aspect\", \"fa fa-arrows icon-move\", \"pan\"], [\"Zoom\", \"Zoom to rectangle\\nx/y fixes axis, CTRL fixes aspect\", \"fa fa-square-o icon-check-empty\", \"zoom\"], [\"\", \"\", \"\", \"\"], [\"Download\", \"Download plot\", \"fa fa-floppy-o icon-save\", \"download\"]];\n\nmpl.extensions = [\"eps\", \"jpeg\", \"pdf\", \"png\", \"ps\", \"raw\", \"svg\", \"tif\"];\n\nmpl.default_extension = \"png\";/* global mpl */\n\nvar comm_websocket_adapter = function (comm) {\n    // Create a \"websocket\"-like object which calls the given IPython comm\n    // object with the appropriate methods. Currently this is a non binary\n    // socket, so there is still some room for performance tuning.\n    var ws = {};\n\n    ws.close = function () {\n        comm.close();\n    };\n    ws.send = function (m) {\n        //console.log('sending', m);\n        comm.send(m);\n    };\n    // Register the callback with on_msg.\n    comm.on_msg(function (msg) {\n        //console.log('receiving', msg['content']['data'], msg);\n        // Pass the mpl event to the overridden (by mpl) onmessage function.\n        ws.onmessage(msg['content']['data']);\n    });\n    return ws;\n};\n\nmpl.mpl_figure_comm = function (comm, msg) {\n    // This is the function which gets called when the mpl process\n    // starts-up an IPython Comm through the \"matplotlib\" channel.\n\n    var id = msg.content.data.id;\n    // Get hold of the div created by the display call when the Comm\n    // socket was opened in Python.\n    var element = document.getElementById(id);\n    var ws_proxy = comm_websocket_adapter(comm);\n\n    function ondownload(figure, _format) {\n        window.open(figure.canvas.toDataURL());\n    }\n\n    var fig = new mpl.figure(id, ws_proxy, ondownload, element);\n\n    // Call onopen now - mpl needs it, as it is assuming we've passed it a real\n    // web socket which is closed, not our websocket->open comm proxy.\n    ws_proxy.onopen();\n\n    fig.parent_element = element;\n    fig.cell_info = mpl.find_output_cell(\"<div id='\" + id + \"'></div>\");\n    if (!fig.cell_info) {\n        console.error('Failed to find cell for figure', id, fig);\n        return;\n    }\n    fig.cell_info[0].output_area.element.on(\n        'cleared',\n        { fig: fig },\n        fig._remove_fig_handler\n    );\n};\n\nmpl.figure.prototype.handle_close = function (fig, msg) {\n    var width = fig.canvas.width / fig.ratio;\n    fig.cell_info[0].output_area.element.off(\n        'cleared',\n        fig._remove_fig_handler\n    );\n    fig.resizeObserverInstance.unobserve(fig.canvas_div);\n\n    // Update the output cell to use the data from the current canvas.\n    fig.push_to_output();\n    var dataURL = fig.canvas.toDataURL();\n    // Re-enable the keyboard manager in IPython - without this line, in FF,\n    // the notebook keyboard shortcuts fail.\n    IPython.keyboard_manager.enable();\n    fig.parent_element.innerHTML =\n        '<img src=\"' + dataURL + '\" width=\"' + width + '\">';\n    fig.close_ws(fig, msg);\n};\n\nmpl.figure.prototype.close_ws = function (fig, msg) {\n    fig.send_message('closing', msg);\n    // fig.ws.close()\n};\n\nmpl.figure.prototype.push_to_output = function (_remove_interactive) {\n    // Turn the data on the canvas into data in the output cell.\n    var width = this.canvas.width / this.ratio;\n    var dataURL = this.canvas.toDataURL();\n    this.cell_info[1]['text/html'] =\n        '<img src=\"' + dataURL + '\" width=\"' + width + '\">';\n};\n\nmpl.figure.prototype.updated_canvas_event = function () {\n    // Tell IPython that the notebook contents must change.\n    IPython.notebook.set_dirty(true);\n    this.send_message('ack', {});\n    var fig = this;\n    // Wait a second, then push the new image to the DOM so\n    // that it is saved nicely (might be nice to debounce this).\n    setTimeout(function () {\n        fig.push_to_output();\n    }, 1000);\n};\n\nmpl.figure.prototype._init_toolbar = function () {\n    var fig = this;\n\n    var toolbar = document.createElement('div');\n    toolbar.classList = 'btn-toolbar';\n    this.root.appendChild(toolbar);\n\n    function on_click_closure(name) {\n        return function (_event) {\n            return fig.toolbar_button_onclick(name);\n        };\n    }\n\n    function on_mouseover_closure(tooltip) {\n        return function (event) {\n            if (!event.currentTarget.disabled) {\n                return fig.toolbar_button_onmouseover(tooltip);\n            }\n        };\n    }\n\n    fig.buttons = {};\n    var buttonGroup = document.createElement('div');\n    buttonGroup.classList = 'btn-group';\n    var button;\n    for (var toolbar_ind in mpl.toolbar_items) {\n        var name = mpl.toolbar_items[toolbar_ind][0];\n        var tooltip = mpl.toolbar_items[toolbar_ind][1];\n        var image = mpl.toolbar_items[toolbar_ind][2];\n        var method_name = mpl.toolbar_items[toolbar_ind][3];\n\n        if (!name) {\n            /* Instead of a spacer, we start a new button group. */\n            if (buttonGroup.hasChildNodes()) {\n                toolbar.appendChild(buttonGroup);\n            }\n            buttonGroup = document.createElement('div');\n            buttonGroup.classList = 'btn-group';\n            continue;\n        }\n\n        button = fig.buttons[name] = document.createElement('button');\n        button.classList = 'btn btn-default';\n        button.href = '#';\n        button.title = name;\n        button.innerHTML = '<i class=\"fa ' + image + ' fa-lg\"></i>';\n        button.addEventListener('click', on_click_closure(method_name));\n        button.addEventListener('mouseover', on_mouseover_closure(tooltip));\n        buttonGroup.appendChild(button);\n    }\n\n    if (buttonGroup.hasChildNodes()) {\n        toolbar.appendChild(buttonGroup);\n    }\n\n    // Add the status bar.\n    var status_bar = document.createElement('span');\n    status_bar.classList = 'mpl-message pull-right';\n    toolbar.appendChild(status_bar);\n    this.message = status_bar;\n\n    // Add the close button to the window.\n    var buttongrp = document.createElement('div');\n    buttongrp.classList = 'btn-group inline pull-right';\n    button = document.createElement('button');\n    button.classList = 'btn btn-mini btn-primary';\n    button.href = '#';\n    button.title = 'Stop Interaction';\n    button.innerHTML = '<i class=\"fa fa-power-off icon-remove icon-large\"></i>';\n    button.addEventListener('click', function (_evt) {\n        fig.handle_close(fig, {});\n    });\n    button.addEventListener(\n        'mouseover',\n        on_mouseover_closure('Stop Interaction')\n    );\n    buttongrp.appendChild(button);\n    var titlebar = this.root.querySelector('.ui-dialog-titlebar');\n    titlebar.insertBefore(buttongrp, titlebar.firstChild);\n};\n\nmpl.figure.prototype._remove_fig_handler = function (event) {\n    var fig = event.data.fig;\n    if (event.target !== this) {\n        // Ignore bubbled events from children.\n        return;\n    }\n    fig.close_ws(fig, {});\n};\n\nmpl.figure.prototype._root_extra_style = function (el) {\n    el.style.boxSizing = 'content-box'; // override notebook setting of border-box.\n};\n\nmpl.figure.prototype._canvas_extra_style = function (el) {\n    // this is important to make the div 'focusable\n    el.setAttribute('tabindex', 0);\n    // reach out to IPython and tell the keyboard manager to turn it's self\n    // off when our div gets focus\n\n    // location in version 3\n    if (IPython.notebook.keyboard_manager) {\n        IPython.notebook.keyboard_manager.register_events(el);\n    } else {\n        // location in version 2\n        IPython.keyboard_manager.register_events(el);\n    }\n};\n\nmpl.figure.prototype._key_event_extra = function (event, _name) {\n    var manager = IPython.notebook.keyboard_manager;\n    if (!manager) {\n        manager = IPython.keyboard_manager;\n    }\n\n    // Check for shift+enter\n    if (event.shiftKey && event.which === 13) {\n        this.canvas_div.blur();\n        // select the cell after this one\n        var index = IPython.notebook.find_cell_index(this.cell_info[0]);\n        IPython.notebook.select(index + 1);\n    }\n};\n\nmpl.figure.prototype.handle_save = function (fig, _msg) {\n    fig.ondownload(fig, null);\n};\n\nmpl.find_output_cell = function (html_output) {\n    // Return the cell and output element which can be found *uniquely* in the notebook.\n    // Note - this is a bit hacky, but it is done because the \"notebook_saving.Notebook\"\n    // IPython event is triggered only after the cells have been serialised, which for\n    // our purposes (turning an active figure into a static one), is too late.\n    var cells = IPython.notebook.get_cells();\n    var ncells = cells.length;\n    for (var i = 0; i < ncells; i++) {\n        var cell = cells[i];\n        if (cell.cell_type === 'code') {\n            for (var j = 0; j < cell.output_area.outputs.length; j++) {\n                var data = cell.output_area.outputs[j];\n                if (data.data) {\n                    // IPython >= 3 moved mimebundle to data attribute of output\n                    data = data.data;\n                }\n                if (data['text/html'] === html_output) {\n                    return [cell, data, j];\n                }\n            }\n        }\n    }\n};\n\n// Register the function which deals with the matplotlib target/channel.\n// The kernel may be null if the page has been refreshed.\nif (IPython.notebook.kernel !== null) {\n    IPython.notebook.kernel.comm_manager.register_target(\n        'matplotlib',\n        mpl.mpl_figure_comm\n    );\n}\n",
      "text/plain": [
       "<IPython.core.display.Javascript object>"
      ]
     },
     "metadata": {},
     "output_type": "display_data"
    },
    {
     "data": {
      "text/html": [
       "<img src=\"data:image/png;base64,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\" width=\"640\">"
      ],
      "text/plain": [
       "<IPython.core.display.HTML object>"
      ]
     },
     "metadata": {},
     "output_type": "display_data"
    }
   ],
   "source": [
    "plt.figure()\n",
    "plt.hist2d(results['band_gap'],results['density'],bins=50)\n",
    "plt.show()"
   ]
  },
  {
   "cell_type": "code",
   "execution_count": 97,
   "metadata": {
    "ExecuteTime": {
     "end_time": "2021-02-09T00:53:58.724690Z",
     "start_time": "2021-02-09T00:53:58.671091Z"
    }
   },
   "outputs": [
    {
     "data": {
      "application/javascript": "/* Put everything inside the global mpl namespace */\n/* global mpl */\nwindow.mpl = {};\n\nmpl.get_websocket_type = function () {\n    if (typeof WebSocket !== 'undefined') {\n        return WebSocket;\n    } else if (typeof MozWebSocket !== 'undefined') {\n        return MozWebSocket;\n    } else {\n        alert(\n            'Your browser does not have WebSocket support. ' +\n                'Please try Chrome, Safari or Firefox ≥ 6. ' +\n                'Firefox 4 and 5 are also supported but you ' +\n                'have to enable WebSockets in about:config.'\n        );\n    }\n};\n\nmpl.figure = function (figure_id, websocket, ondownload, parent_element) {\n    this.id = figure_id;\n\n    this.ws = websocket;\n\n    this.supports_binary = this.ws.binaryType !== undefined;\n\n    if (!this.supports_binary) {\n        var warnings = document.getElementById('mpl-warnings');\n        if (warnings) {\n            warnings.style.display = 'block';\n            warnings.textContent =\n                'This browser does not support binary websocket messages. ' +\n                'Performance may be slow.';\n        }\n    }\n\n    this.imageObj = new Image();\n\n    this.context = undefined;\n    this.message = undefined;\n    this.canvas = undefined;\n    this.rubberband_canvas = undefined;\n    this.rubberband_context = undefined;\n    this.format_dropdown = undefined;\n\n    this.image_mode = 'full';\n\n    this.root = document.createElement('div');\n    this.root.setAttribute('style', 'display: inline-block');\n    this._root_extra_style(this.root);\n\n    parent_element.appendChild(this.root);\n\n    this._init_header(this);\n    this._init_canvas(this);\n    this._init_toolbar(this);\n\n    var fig = this;\n\n    this.waiting = false;\n\n    this.ws.onopen = function () {\n        fig.send_message('supports_binary', { value: fig.supports_binary });\n        fig.send_message('send_image_mode', {});\n        if (fig.ratio !== 1) {\n            fig.send_message('set_dpi_ratio', { dpi_ratio: fig.ratio });\n        }\n        fig.send_message('refresh', {});\n    };\n\n    this.imageObj.onload = function () {\n        if (fig.image_mode === 'full') {\n            // Full images could contain transparency (where diff images\n            // almost always do), so we need to clear the canvas so that\n            // there is no ghosting.\n            fig.context.clearRect(0, 0, fig.canvas.width, fig.canvas.height);\n        }\n        fig.context.drawImage(fig.imageObj, 0, 0);\n    };\n\n    this.imageObj.onunload = function () {\n        fig.ws.close();\n    };\n\n    this.ws.onmessage = this._make_on_message_function(this);\n\n    this.ondownload = ondownload;\n};\n\nmpl.figure.prototype._init_header = function () {\n    var titlebar = document.createElement('div');\n    titlebar.classList =\n        'ui-dialog-titlebar ui-widget-header ui-corner-all ui-helper-clearfix';\n    var titletext = document.createElement('div');\n    titletext.classList = 'ui-dialog-title';\n    titletext.setAttribute(\n        'style',\n        'width: 100%; text-align: center; padding: 3px;'\n    );\n    titlebar.appendChild(titletext);\n    this.root.appendChild(titlebar);\n    this.header = titletext;\n};\n\nmpl.figure.prototype._canvas_extra_style = function (_canvas_div) {};\n\nmpl.figure.prototype._root_extra_style = function (_canvas_div) {};\n\nmpl.figure.prototype._init_canvas = function () {\n    var fig = this;\n\n    var canvas_div = (this.canvas_div = document.createElement('div'));\n    canvas_div.setAttribute(\n        'style',\n        'border: 1px solid #ddd;' +\n            'box-sizing: content-box;' +\n            'clear: both;' +\n            'min-height: 1px;' +\n            'min-width: 1px;' +\n            'outline: 0;' +\n            'overflow: hidden;' +\n            'position: relative;' +\n            'resize: both;'\n    );\n\n    function on_keyboard_event_closure(name) {\n        return function (event) {\n            return fig.key_event(event, name);\n        };\n    }\n\n    canvas_div.addEventListener(\n        'keydown',\n        on_keyboard_event_closure('key_press')\n    );\n    canvas_div.addEventListener(\n        'keyup',\n        on_keyboard_event_closure('key_release')\n    );\n\n    this._canvas_extra_style(canvas_div);\n    this.root.appendChild(canvas_div);\n\n    var canvas = (this.canvas = document.createElement('canvas'));\n    canvas.classList.add('mpl-canvas');\n    canvas.setAttribute('style', 'box-sizing: content-box;');\n\n    this.context = canvas.getContext('2d');\n\n    var backingStore =\n        this.context.backingStorePixelRatio ||\n        this.context.webkitBackingStorePixelRatio ||\n        this.context.mozBackingStorePixelRatio ||\n        this.context.msBackingStorePixelRatio ||\n        this.context.oBackingStorePixelRatio ||\n        this.context.backingStorePixelRatio ||\n        1;\n\n    this.ratio = (window.devicePixelRatio || 1) / backingStore;\n\n    var rubberband_canvas = (this.rubberband_canvas = document.createElement(\n        'canvas'\n    ));\n    rubberband_canvas.setAttribute(\n        'style',\n        'box-sizing: content-box; position: absolute; left: 0; top: 0; z-index: 1;'\n    );\n\n    // Apply a ponyfill if ResizeObserver is not implemented by browser.\n    if (this.ResizeObserver === undefined) {\n        if (window.ResizeObserver !== undefined) {\n            this.ResizeObserver = window.ResizeObserver;\n        } else {\n            var obs = _JSXTOOLS_RESIZE_OBSERVER({});\n            this.ResizeObserver = obs.ResizeObserver;\n        }\n    }\n\n    this.resizeObserverInstance = new this.ResizeObserver(function (entries) {\n        var nentries = entries.length;\n        for (var i = 0; i < nentries; i++) {\n            var entry = entries[i];\n            var width, height;\n            if (entry.contentBoxSize) {\n                if (entry.contentBoxSize instanceof Array) {\n                    // Chrome 84 implements new version of spec.\n                    width = entry.contentBoxSize[0].inlineSize;\n                    height = entry.contentBoxSize[0].blockSize;\n                } else {\n                    // Firefox implements old version of spec.\n                    width = entry.contentBoxSize.inlineSize;\n                    height = entry.contentBoxSize.blockSize;\n                }\n            } else {\n                // Chrome <84 implements even older version of spec.\n                width = entry.contentRect.width;\n                height = entry.contentRect.height;\n            }\n\n            // Keep the size of the canvas and rubber band canvas in sync with\n            // the canvas container.\n            if (entry.devicePixelContentBoxSize) {\n                // Chrome 84 implements new version of spec.\n                canvas.setAttribute(\n                    'width',\n                    entry.devicePixelContentBoxSize[0].inlineSize\n                );\n                canvas.setAttribute(\n                    'height',\n                    entry.devicePixelContentBoxSize[0].blockSize\n                );\n            } else {\n                canvas.setAttribute('width', width * fig.ratio);\n                canvas.setAttribute('height', height * fig.ratio);\n            }\n            canvas.setAttribute(\n                'style',\n                'width: ' + width + 'px; height: ' + height + 'px;'\n            );\n\n            rubberband_canvas.setAttribute('width', width);\n            rubberband_canvas.setAttribute('height', height);\n\n            // And update the size in Python. We ignore the initial 0/0 size\n            // that occurs as the element is placed into the DOM, which should\n            // otherwise not happen due to the minimum size styling.\n            if (fig.ws.readyState == 1 && width != 0 && height != 0) {\n                fig.request_resize(width, height);\n            }\n        }\n    });\n    this.resizeObserverInstance.observe(canvas_div);\n\n    function on_mouse_event_closure(name) {\n        return function (event) {\n            return fig.mouse_event(event, name);\n        };\n    }\n\n    rubberband_canvas.addEventListener(\n        'mousedown',\n        on_mouse_event_closure('button_press')\n    );\n    rubberband_canvas.addEventListener(\n        'mouseup',\n        on_mouse_event_closure('button_release')\n    );\n    // Throttle sequential mouse events to 1 every 20ms.\n    rubberband_canvas.addEventListener(\n        'mousemove',\n        on_mouse_event_closure('motion_notify')\n    );\n\n    rubberband_canvas.addEventListener(\n        'mouseenter',\n        on_mouse_event_closure('figure_enter')\n    );\n    rubberband_canvas.addEventListener(\n        'mouseleave',\n        on_mouse_event_closure('figure_leave')\n    );\n\n    canvas_div.addEventListener('wheel', function (event) {\n        if (event.deltaY < 0) {\n            event.step = 1;\n        } else {\n            event.step = -1;\n        }\n        on_mouse_event_closure('scroll')(event);\n    });\n\n    canvas_div.appendChild(canvas);\n    canvas_div.appendChild(rubberband_canvas);\n\n    this.rubberband_context = rubberband_canvas.getContext('2d');\n    this.rubberband_context.strokeStyle = '#000000';\n\n    this._resize_canvas = function (width, height, forward) {\n        if (forward) {\n            canvas_div.style.width = width + 'px';\n            canvas_div.style.height = height + 'px';\n        }\n    };\n\n    // Disable right mouse context menu.\n    this.rubberband_canvas.addEventListener('contextmenu', function (_e) {\n        event.preventDefault();\n        return false;\n    });\n\n    function set_focus() {\n        canvas.focus();\n        canvas_div.focus();\n    }\n\n    window.setTimeout(set_focus, 100);\n};\n\nmpl.figure.prototype._init_toolbar = function () {\n    var fig = this;\n\n    var toolbar = document.createElement('div');\n    toolbar.classList = 'mpl-toolbar';\n    this.root.appendChild(toolbar);\n\n    function on_click_closure(name) {\n        return function (_event) {\n            return fig.toolbar_button_onclick(name);\n        };\n    }\n\n    function on_mouseover_closure(tooltip) {\n        return function (event) {\n            if (!event.currentTarget.disabled) {\n                return fig.toolbar_button_onmouseover(tooltip);\n            }\n        };\n    }\n\n    fig.buttons = {};\n    var buttonGroup = document.createElement('div');\n    buttonGroup.classList = 'mpl-button-group';\n    for (var toolbar_ind in mpl.toolbar_items) {\n        var name = mpl.toolbar_items[toolbar_ind][0];\n        var tooltip = mpl.toolbar_items[toolbar_ind][1];\n        var image = mpl.toolbar_items[toolbar_ind][2];\n        var method_name = mpl.toolbar_items[toolbar_ind][3];\n\n        if (!name) {\n            /* Instead of a spacer, we start a new button group. */\n            if (buttonGroup.hasChildNodes()) {\n                toolbar.appendChild(buttonGroup);\n            }\n            buttonGroup = document.createElement('div');\n            buttonGroup.classList = 'mpl-button-group';\n            continue;\n        }\n\n        var button = (fig.buttons[name] = document.createElement('button'));\n        button.classList = 'mpl-widget';\n        button.setAttribute('role', 'button');\n        button.setAttribute('aria-disabled', 'false');\n        button.addEventListener('click', on_click_closure(method_name));\n        button.addEventListener('mouseover', on_mouseover_closure(tooltip));\n\n        var icon_img = document.createElement('img');\n        icon_img.src = '_images/' + image + '.png';\n        icon_img.srcset = '_images/' + image + '_large.png 2x';\n        icon_img.alt = tooltip;\n        button.appendChild(icon_img);\n\n        buttonGroup.appendChild(button);\n    }\n\n    if (buttonGroup.hasChildNodes()) {\n        toolbar.appendChild(buttonGroup);\n    }\n\n    var fmt_picker = document.createElement('select');\n    fmt_picker.classList = 'mpl-widget';\n    toolbar.appendChild(fmt_picker);\n    this.format_dropdown = fmt_picker;\n\n    for (var ind in mpl.extensions) {\n        var fmt = mpl.extensions[ind];\n        var option = document.createElement('option');\n        option.selected = fmt === mpl.default_extension;\n        option.innerHTML = fmt;\n        fmt_picker.appendChild(option);\n    }\n\n    var status_bar = document.createElement('span');\n    status_bar.classList = 'mpl-message';\n    toolbar.appendChild(status_bar);\n    this.message = status_bar;\n};\n\nmpl.figure.prototype.request_resize = function (x_pixels, y_pixels) {\n    // Request matplotlib to resize the figure. Matplotlib will then trigger a resize in the client,\n    // which will in turn request a refresh of the image.\n    this.send_message('resize', { width: x_pixels, height: y_pixels });\n};\n\nmpl.figure.prototype.send_message = function (type, properties) {\n    properties['type'] = type;\n    properties['figure_id'] = this.id;\n    this.ws.send(JSON.stringify(properties));\n};\n\nmpl.figure.prototype.send_draw_message = function () {\n    if (!this.waiting) {\n        this.waiting = true;\n        this.ws.send(JSON.stringify({ type: 'draw', figure_id: this.id }));\n    }\n};\n\nmpl.figure.prototype.handle_save = function (fig, _msg) {\n    var format_dropdown = fig.format_dropdown;\n    var format = format_dropdown.options[format_dropdown.selectedIndex].value;\n    fig.ondownload(fig, format);\n};\n\nmpl.figure.prototype.handle_resize = function (fig, msg) {\n    var size = msg['size'];\n    if (size[0] !== fig.canvas.width || size[1] !== fig.canvas.height) {\n        fig._resize_canvas(size[0], size[1], msg['forward']);\n        fig.send_message('refresh', {});\n    }\n};\n\nmpl.figure.prototype.handle_rubberband = function (fig, msg) {\n    var x0 = msg['x0'] / fig.ratio;\n    var y0 = (fig.canvas.height - msg['y0']) / fig.ratio;\n    var x1 = msg['x1'] / fig.ratio;\n    var y1 = (fig.canvas.height - msg['y1']) / fig.ratio;\n    x0 = Math.floor(x0) + 0.5;\n    y0 = Math.floor(y0) + 0.5;\n    x1 = Math.floor(x1) + 0.5;\n    y1 = Math.floor(y1) + 0.5;\n    var min_x = Math.min(x0, x1);\n    var min_y = Math.min(y0, y1);\n    var width = Math.abs(x1 - x0);\n    var height = Math.abs(y1 - y0);\n\n    fig.rubberband_context.clearRect(\n        0,\n        0,\n        fig.canvas.width / fig.ratio,\n        fig.canvas.height / fig.ratio\n    );\n\n    fig.rubberband_context.strokeRect(min_x, min_y, width, height);\n};\n\nmpl.figure.prototype.handle_figure_label = function (fig, msg) {\n    // Updates the figure title.\n    fig.header.textContent = msg['label'];\n};\n\nmpl.figure.prototype.handle_cursor = function (fig, msg) {\n    var cursor = msg['cursor'];\n    switch (cursor) {\n        case 0:\n            cursor = 'pointer';\n            break;\n        case 1:\n            cursor = 'default';\n            break;\n        case 2:\n            cursor = 'crosshair';\n            break;\n        case 3:\n            cursor = 'move';\n            break;\n    }\n    fig.rubberband_canvas.style.cursor = cursor;\n};\n\nmpl.figure.prototype.handle_message = function (fig, msg) {\n    fig.message.textContent = msg['message'];\n};\n\nmpl.figure.prototype.handle_draw = function (fig, _msg) {\n    // Request the server to send over a new figure.\n    fig.send_draw_message();\n};\n\nmpl.figure.prototype.handle_image_mode = function (fig, msg) {\n    fig.image_mode = msg['mode'];\n};\n\nmpl.figure.prototype.handle_history_buttons = function (fig, msg) {\n    for (var key in msg) {\n        if (!(key in fig.buttons)) {\n            continue;\n        }\n        fig.buttons[key].disabled = !msg[key];\n        fig.buttons[key].setAttribute('aria-disabled', !msg[key]);\n    }\n};\n\nmpl.figure.prototype.handle_navigate_mode = function (fig, msg) {\n    if (msg['mode'] === 'PAN') {\n        fig.buttons['Pan'].classList.add('active');\n        fig.buttons['Zoom'].classList.remove('active');\n    } else if (msg['mode'] === 'ZOOM') {\n        fig.buttons['Pan'].classList.remove('active');\n        fig.buttons['Zoom'].classList.add('active');\n    } else {\n        fig.buttons['Pan'].classList.remove('active');\n        fig.buttons['Zoom'].classList.remove('active');\n    }\n};\n\nmpl.figure.prototype.updated_canvas_event = function () {\n    // Called whenever the canvas gets updated.\n    this.send_message('ack', {});\n};\n\n// A function to construct a web socket function for onmessage handling.\n// Called in the figure constructor.\nmpl.figure.prototype._make_on_message_function = function (fig) {\n    return function socket_on_message(evt) {\n        if (evt.data instanceof Blob) {\n            /* FIXME: We get \"Resource interpreted as Image but\n             * transferred with MIME type text/plain:\" errors on\n             * Chrome.  But how to set the MIME type?  It doesn't seem\n             * to be part of the websocket stream */\n            evt.data.type = 'image/png';\n\n            /* Free the memory for the previous frames */\n            if (fig.imageObj.src) {\n                (window.URL || window.webkitURL).revokeObjectURL(\n                    fig.imageObj.src\n                );\n            }\n\n            fig.imageObj.src = (window.URL || window.webkitURL).createObjectURL(\n                evt.data\n            );\n            fig.updated_canvas_event();\n            fig.waiting = false;\n            return;\n        } else if (\n            typeof evt.data === 'string' &&\n            evt.data.slice(0, 21) === 'data:image/png;base64'\n        ) {\n            fig.imageObj.src = evt.data;\n            fig.updated_canvas_event();\n            fig.waiting = false;\n            return;\n        }\n\n        var msg = JSON.parse(evt.data);\n        var msg_type = msg['type'];\n\n        // Call the  \"handle_{type}\" callback, which takes\n        // the figure and JSON message as its only arguments.\n        try {\n            var callback = fig['handle_' + msg_type];\n        } catch (e) {\n            console.log(\n                \"No handler for the '\" + msg_type + \"' message type: \",\n                msg\n            );\n            return;\n        }\n\n        if (callback) {\n            try {\n                // console.log(\"Handling '\" + msg_type + \"' message: \", msg);\n                callback(fig, msg);\n            } catch (e) {\n                console.log(\n                    \"Exception inside the 'handler_\" + msg_type + \"' callback:\",\n                    e,\n                    e.stack,\n                    msg\n                );\n            }\n        }\n    };\n};\n\n// from http://stackoverflow.com/questions/1114465/getting-mouse-location-in-canvas\nmpl.findpos = function (e) {\n    //this section is from http://www.quirksmode.org/js/events_properties.html\n    var targ;\n    if (!e) {\n        e = window.event;\n    }\n    if (e.target) {\n        targ = e.target;\n    } else if (e.srcElement) {\n        targ = e.srcElement;\n    }\n    if (targ.nodeType === 3) {\n        // defeat Safari bug\n        targ = targ.parentNode;\n    }\n\n    // pageX,Y are the mouse positions relative to the document\n    var boundingRect = targ.getBoundingClientRect();\n    var x = e.pageX - (boundingRect.left + document.body.scrollLeft);\n    var y = e.pageY - (boundingRect.top + document.body.scrollTop);\n\n    return { x: x, y: y };\n};\n\n/*\n * return a copy of an object with only non-object keys\n * we need this to avoid circular references\n * http://stackoverflow.com/a/24161582/3208463\n */\nfunction simpleKeys(original) {\n    return Object.keys(original).reduce(function (obj, key) {\n        if (typeof original[key] !== 'object') {\n            obj[key] = original[key];\n        }\n        return obj;\n    }, {});\n}\n\nmpl.figure.prototype.mouse_event = function (event, name) {\n    var canvas_pos = mpl.findpos(event);\n\n    if (name === 'button_press') {\n        this.canvas.focus();\n        this.canvas_div.focus();\n    }\n\n    var x = canvas_pos.x * this.ratio;\n    var y = canvas_pos.y * this.ratio;\n\n    this.send_message(name, {\n        x: x,\n        y: y,\n        button: event.button,\n        step: event.step,\n        guiEvent: simpleKeys(event),\n    });\n\n    /* This prevents the web browser from automatically changing to\n     * the text insertion cursor when the button is pressed.  We want\n     * to control all of the cursor setting manually through the\n     * 'cursor' event from matplotlib */\n    event.preventDefault();\n    return false;\n};\n\nmpl.figure.prototype._key_event_extra = function (_event, _name) {\n    // Handle any extra behaviour associated with a key event\n};\n\nmpl.figure.prototype.key_event = function (event, name) {\n    // Prevent repeat events\n    if (name === 'key_press') {\n        if (event.which === this._key) {\n            return;\n        } else {\n            this._key = event.which;\n        }\n    }\n    if (name === 'key_release') {\n        this._key = null;\n    }\n\n    var value = '';\n    if (event.ctrlKey && event.which !== 17) {\n        value += 'ctrl+';\n    }\n    if (event.altKey && event.which !== 18) {\n        value += 'alt+';\n    }\n    if (event.shiftKey && event.which !== 16) {\n        value += 'shift+';\n    }\n\n    value += 'k';\n    value += event.which.toString();\n\n    this._key_event_extra(event, name);\n\n    this.send_message(name, { key: value, guiEvent: simpleKeys(event) });\n    return false;\n};\n\nmpl.figure.prototype.toolbar_button_onclick = function (name) {\n    if (name === 'download') {\n        this.handle_save(this, null);\n    } else {\n        this.send_message('toolbar_button', { name: name });\n    }\n};\n\nmpl.figure.prototype.toolbar_button_onmouseover = function (tooltip) {\n    this.message.textContent = tooltip;\n};\n\n///////////////// REMAINING CONTENT GENERATED BY embed_js.py /////////////////\n// prettier-ignore\nvar _JSXTOOLS_RESIZE_OBSERVER=function(A){var t,i=new WeakMap,n=new WeakMap,a=new WeakMap,r=new WeakMap,o=new Set;function s(e){if(!(this instanceof s))throw new TypeError(\"Constructor requires 'new' operator\");i.set(this,e)}function h(){throw new TypeError(\"Function is not a constructor\")}function c(e,t,i,n){e=0 in arguments?Number(arguments[0]):0,t=1 in arguments?Number(arguments[1]):0,i=2 in arguments?Number(arguments[2]):0,n=3 in arguments?Number(arguments[3]):0,this.right=(this.x=this.left=e)+(this.width=i),this.bottom=(this.y=this.top=t)+(this.height=n),Object.freeze(this)}function d(){t=requestAnimationFrame(d);var s=new WeakMap,p=new Set;o.forEach((function(t){r.get(t).forEach((function(i){var r=t instanceof window.SVGElement,o=a.get(t),d=r?0:parseFloat(o.paddingTop),f=r?0:parseFloat(o.paddingRight),l=r?0:parseFloat(o.paddingBottom),u=r?0:parseFloat(o.paddingLeft),g=r?0:parseFloat(o.borderTopWidth),m=r?0:parseFloat(o.borderRightWidth),w=r?0:parseFloat(o.borderBottomWidth),b=u+f,F=d+l,v=(r?0:parseFloat(o.borderLeftWidth))+m,W=g+w,y=r?0:t.offsetHeight-W-t.clientHeight,E=r?0:t.offsetWidth-v-t.clientWidth,R=b+v,z=F+W,M=r?t.width:parseFloat(o.width)-R-E,O=r?t.height:parseFloat(o.height)-z-y;if(n.has(t)){var k=n.get(t);if(k[0]===M&&k[1]===O)return}n.set(t,[M,O]);var S=Object.create(h.prototype);S.target=t,S.contentRect=new c(u,d,M,O),s.has(i)||(s.set(i,[]),p.add(i)),s.get(i).push(S)}))})),p.forEach((function(e){i.get(e).call(e,s.get(e),e)}))}return s.prototype.observe=function(i){if(i instanceof window.Element){r.has(i)||(r.set(i,new Set),o.add(i),a.set(i,window.getComputedStyle(i)));var n=r.get(i);n.has(this)||n.add(this),cancelAnimationFrame(t),t=requestAnimationFrame(d)}},s.prototype.unobserve=function(i){if(i instanceof window.Element&&r.has(i)){var n=r.get(i);n.has(this)&&(n.delete(this),n.size||(r.delete(i),o.delete(i))),n.size||r.delete(i),o.size||cancelAnimationFrame(t)}},A.DOMRectReadOnly=c,A.ResizeObserver=s,A.ResizeObserverEntry=h,A}; // eslint-disable-line\nmpl.toolbar_items = [[\"Home\", \"Reset original view\", \"fa fa-home icon-home\", \"home\"], [\"Back\", \"Back to previous view\", \"fa fa-arrow-left icon-arrow-left\", \"back\"], [\"Forward\", \"Forward to next view\", \"fa fa-arrow-right icon-arrow-right\", \"forward\"], [\"\", \"\", \"\", \"\"], [\"Pan\", \"Left button pans, Right button zooms\\nx/y fixes axis, CTRL fixes aspect\", \"fa fa-arrows icon-move\", \"pan\"], [\"Zoom\", \"Zoom to rectangle\\nx/y fixes axis, CTRL fixes aspect\", \"fa fa-square-o icon-check-empty\", \"zoom\"], [\"\", \"\", \"\", \"\"], [\"Download\", \"Download plot\", \"fa fa-floppy-o icon-save\", \"download\"]];\n\nmpl.extensions = [\"eps\", \"jpeg\", \"pdf\", \"png\", \"ps\", \"raw\", \"svg\", \"tif\"];\n\nmpl.default_extension = \"png\";/* global mpl */\n\nvar comm_websocket_adapter = function (comm) {\n    // Create a \"websocket\"-like object which calls the given IPython comm\n    // object with the appropriate methods. Currently this is a non binary\n    // socket, so there is still some room for performance tuning.\n    var ws = {};\n\n    ws.close = function () {\n        comm.close();\n    };\n    ws.send = function (m) {\n        //console.log('sending', m);\n        comm.send(m);\n    };\n    // Register the callback with on_msg.\n    comm.on_msg(function (msg) {\n        //console.log('receiving', msg['content']['data'], msg);\n        // Pass the mpl event to the overridden (by mpl) onmessage function.\n        ws.onmessage(msg['content']['data']);\n    });\n    return ws;\n};\n\nmpl.mpl_figure_comm = function (comm, msg) {\n    // This is the function which gets called when the mpl process\n    // starts-up an IPython Comm through the \"matplotlib\" channel.\n\n    var id = msg.content.data.id;\n    // Get hold of the div created by the display call when the Comm\n    // socket was opened in Python.\n    var element = document.getElementById(id);\n    var ws_proxy = comm_websocket_adapter(comm);\n\n    function ondownload(figure, _format) {\n        window.open(figure.canvas.toDataURL());\n    }\n\n    var fig = new mpl.figure(id, ws_proxy, ondownload, element);\n\n    // Call onopen now - mpl needs it, as it is assuming we've passed it a real\n    // web socket which is closed, not our websocket->open comm proxy.\n    ws_proxy.onopen();\n\n    fig.parent_element = element;\n    fig.cell_info = mpl.find_output_cell(\"<div id='\" + id + \"'></div>\");\n    if (!fig.cell_info) {\n        console.error('Failed to find cell for figure', id, fig);\n        return;\n    }\n    fig.cell_info[0].output_area.element.on(\n        'cleared',\n        { fig: fig },\n        fig._remove_fig_handler\n    );\n};\n\nmpl.figure.prototype.handle_close = function (fig, msg) {\n    var width = fig.canvas.width / fig.ratio;\n    fig.cell_info[0].output_area.element.off(\n        'cleared',\n        fig._remove_fig_handler\n    );\n    fig.resizeObserverInstance.unobserve(fig.canvas_div);\n\n    // Update the output cell to use the data from the current canvas.\n    fig.push_to_output();\n    var dataURL = fig.canvas.toDataURL();\n    // Re-enable the keyboard manager in IPython - without this line, in FF,\n    // the notebook keyboard shortcuts fail.\n    IPython.keyboard_manager.enable();\n    fig.parent_element.innerHTML =\n        '<img src=\"' + dataURL + '\" width=\"' + width + '\">';\n    fig.close_ws(fig, msg);\n};\n\nmpl.figure.prototype.close_ws = function (fig, msg) {\n    fig.send_message('closing', msg);\n    // fig.ws.close()\n};\n\nmpl.figure.prototype.push_to_output = function (_remove_interactive) {\n    // Turn the data on the canvas into data in the output cell.\n    var width = this.canvas.width / this.ratio;\n    var dataURL = this.canvas.toDataURL();\n    this.cell_info[1]['text/html'] =\n        '<img src=\"' + dataURL + '\" width=\"' + width + '\">';\n};\n\nmpl.figure.prototype.updated_canvas_event = function () {\n    // Tell IPython that the notebook contents must change.\n    IPython.notebook.set_dirty(true);\n    this.send_message('ack', {});\n    var fig = this;\n    // Wait a second, then push the new image to the DOM so\n    // that it is saved nicely (might be nice to debounce this).\n    setTimeout(function () {\n        fig.push_to_output();\n    }, 1000);\n};\n\nmpl.figure.prototype._init_toolbar = function () {\n    var fig = this;\n\n    var toolbar = document.createElement('div');\n    toolbar.classList = 'btn-toolbar';\n    this.root.appendChild(toolbar);\n\n    function on_click_closure(name) {\n        return function (_event) {\n            return fig.toolbar_button_onclick(name);\n        };\n    }\n\n    function on_mouseover_closure(tooltip) {\n        return function (event) {\n            if (!event.currentTarget.disabled) {\n                return fig.toolbar_button_onmouseover(tooltip);\n            }\n        };\n    }\n\n    fig.buttons = {};\n    var buttonGroup = document.createElement('div');\n    buttonGroup.classList = 'btn-group';\n    var button;\n    for (var toolbar_ind in mpl.toolbar_items) {\n        var name = mpl.toolbar_items[toolbar_ind][0];\n        var tooltip = mpl.toolbar_items[toolbar_ind][1];\n        var image = mpl.toolbar_items[toolbar_ind][2];\n        var method_name = mpl.toolbar_items[toolbar_ind][3];\n\n        if (!name) {\n            /* Instead of a spacer, we start a new button group. */\n            if (buttonGroup.hasChildNodes()) {\n                toolbar.appendChild(buttonGroup);\n            }\n            buttonGroup = document.createElement('div');\n            buttonGroup.classList = 'btn-group';\n            continue;\n        }\n\n        button = fig.buttons[name] = document.createElement('button');\n        button.classList = 'btn btn-default';\n        button.href = '#';\n        button.title = name;\n        button.innerHTML = '<i class=\"fa ' + image + ' fa-lg\"></i>';\n        button.addEventListener('click', on_click_closure(method_name));\n        button.addEventListener('mouseover', on_mouseover_closure(tooltip));\n        buttonGroup.appendChild(button);\n    }\n\n    if (buttonGroup.hasChildNodes()) {\n        toolbar.appendChild(buttonGroup);\n    }\n\n    // Add the status bar.\n    var status_bar = document.createElement('span');\n    status_bar.classList = 'mpl-message pull-right';\n    toolbar.appendChild(status_bar);\n    this.message = status_bar;\n\n    // Add the close button to the window.\n    var buttongrp = document.createElement('div');\n    buttongrp.classList = 'btn-group inline pull-right';\n    button = document.createElement('button');\n    button.classList = 'btn btn-mini btn-primary';\n    button.href = '#';\n    button.title = 'Stop Interaction';\n    button.innerHTML = '<i class=\"fa fa-power-off icon-remove icon-large\"></i>';\n    button.addEventListener('click', function (_evt) {\n        fig.handle_close(fig, {});\n    });\n    button.addEventListener(\n        'mouseover',\n        on_mouseover_closure('Stop Interaction')\n    );\n    buttongrp.appendChild(button);\n    var titlebar = this.root.querySelector('.ui-dialog-titlebar');\n    titlebar.insertBefore(buttongrp, titlebar.firstChild);\n};\n\nmpl.figure.prototype._remove_fig_handler = function (event) {\n    var fig = event.data.fig;\n    if (event.target !== this) {\n        // Ignore bubbled events from children.\n        return;\n    }\n    fig.close_ws(fig, {});\n};\n\nmpl.figure.prototype._root_extra_style = function (el) {\n    el.style.boxSizing = 'content-box'; // override notebook setting of border-box.\n};\n\nmpl.figure.prototype._canvas_extra_style = function (el) {\n    // this is important to make the div 'focusable\n    el.setAttribute('tabindex', 0);\n    // reach out to IPython and tell the keyboard manager to turn it's self\n    // off when our div gets focus\n\n    // location in version 3\n    if (IPython.notebook.keyboard_manager) {\n        IPython.notebook.keyboard_manager.register_events(el);\n    } else {\n        // location in version 2\n        IPython.keyboard_manager.register_events(el);\n    }\n};\n\nmpl.figure.prototype._key_event_extra = function (event, _name) {\n    var manager = IPython.notebook.keyboard_manager;\n    if (!manager) {\n        manager = IPython.keyboard_manager;\n    }\n\n    // Check for shift+enter\n    if (event.shiftKey && event.which === 13) {\n        this.canvas_div.blur();\n        // select the cell after this one\n        var index = IPython.notebook.find_cell_index(this.cell_info[0]);\n        IPython.notebook.select(index + 1);\n    }\n};\n\nmpl.figure.prototype.handle_save = function (fig, _msg) {\n    fig.ondownload(fig, null);\n};\n\nmpl.find_output_cell = function (html_output) {\n    // Return the cell and output element which can be found *uniquely* in the notebook.\n    // Note - this is a bit hacky, but it is done because the \"notebook_saving.Notebook\"\n    // IPython event is triggered only after the cells have been serialised, which for\n    // our purposes (turning an active figure into a static one), is too late.\n    var cells = IPython.notebook.get_cells();\n    var ncells = cells.length;\n    for (var i = 0; i < ncells; i++) {\n        var cell = cells[i];\n        if (cell.cell_type === 'code') {\n            for (var j = 0; j < cell.output_area.outputs.length; j++) {\n                var data = cell.output_area.outputs[j];\n                if (data.data) {\n                    // IPython >= 3 moved mimebundle to data attribute of output\n                    data = data.data;\n                }\n                if (data['text/html'] === html_output) {\n                    return [cell, data, j];\n                }\n            }\n        }\n    }\n};\n\n// Register the function which deals with the matplotlib target/channel.\n// The kernel may be null if the page has been refreshed.\nif (IPython.notebook.kernel !== null) {\n    IPython.notebook.kernel.comm_manager.register_target(\n        'matplotlib',\n        mpl.mpl_figure_comm\n    );\n}\n",
      "text/plain": [
       "<IPython.core.display.Javascript object>"
      ]
     },
     "metadata": {},
     "output_type": "display_data"
    },
    {
     "data": {
      "text/html": [
       "<img src=\"data:image/png;base64,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\" width=\"640\">"
      ],
      "text/plain": [
       "<IPython.core.display.HTML object>"
      ]
     },
     "metadata": {},
     "output_type": "display_data"
    }
   ],
   "source": [
    "plt.figure()\n",
    "plt.hist(results['band_gap'][results['nelements']==3],bins=50)\n",
    "plt.xlabel('E/eV')\n",
    "plt.ylabel('frequency')\n",
    "plt.title('Binary compounds')\n",
    "plt.show()"
   ]
  },
  {
   "cell_type": "code",
   "execution_count": 86,
   "metadata": {
    "ExecuteTime": {
     "end_time": "2021-02-09T00:46:53.287511Z",
     "start_time": "2021-02-09T00:46:53.255667Z"
    }
   },
   "outputs": [
    {
     "data": {
      "application/javascript": "/* Put everything inside the global mpl namespace */\n/* global mpl */\nwindow.mpl = {};\n\nmpl.get_websocket_type = function () {\n    if (typeof WebSocket !== 'undefined') {\n        return WebSocket;\n    } else if (typeof MozWebSocket !== 'undefined') {\n        return MozWebSocket;\n    } else {\n        alert(\n            'Your browser does not have WebSocket support. ' +\n                'Please try Chrome, Safari or Firefox ≥ 6. ' +\n                'Firefox 4 and 5 are also supported but you ' +\n                'have to enable WebSockets in about:config.'\n        );\n    }\n};\n\nmpl.figure = function (figure_id, websocket, ondownload, parent_element) {\n    this.id = figure_id;\n\n    this.ws = websocket;\n\n    this.supports_binary = this.ws.binaryType !== undefined;\n\n    if (!this.supports_binary) {\n        var warnings = document.getElementById('mpl-warnings');\n        if (warnings) {\n            warnings.style.display = 'block';\n            warnings.textContent =\n                'This browser does not support binary websocket messages. ' +\n                'Performance may be slow.';\n        }\n    }\n\n    this.imageObj = new Image();\n\n    this.context = undefined;\n    this.message = undefined;\n    this.canvas = undefined;\n    this.rubberband_canvas = undefined;\n    this.rubberband_context = undefined;\n    this.format_dropdown = undefined;\n\n    this.image_mode = 'full';\n\n    this.root = document.createElement('div');\n    this.root.setAttribute('style', 'display: inline-block');\n    this._root_extra_style(this.root);\n\n    parent_element.appendChild(this.root);\n\n    this._init_header(this);\n    this._init_canvas(this);\n    this._init_toolbar(this);\n\n    var fig = this;\n\n    this.waiting = false;\n\n    this.ws.onopen = function () {\n        fig.send_message('supports_binary', { value: fig.supports_binary });\n        fig.send_message('send_image_mode', {});\n        if (fig.ratio !== 1) {\n            fig.send_message('set_dpi_ratio', { dpi_ratio: fig.ratio });\n        }\n        fig.send_message('refresh', {});\n    };\n\n    this.imageObj.onload = function () {\n        if (fig.image_mode === 'full') {\n            // Full images could contain transparency (where diff images\n            // almost always do), so we need to clear the canvas so that\n            // there is no ghosting.\n            fig.context.clearRect(0, 0, fig.canvas.width, fig.canvas.height);\n        }\n        fig.context.drawImage(fig.imageObj, 0, 0);\n    };\n\n    this.imageObj.onunload = function () {\n        fig.ws.close();\n    };\n\n    this.ws.onmessage = this._make_on_message_function(this);\n\n    this.ondownload = ondownload;\n};\n\nmpl.figure.prototype._init_header = function () {\n    var titlebar = document.createElement('div');\n    titlebar.classList =\n        'ui-dialog-titlebar ui-widget-header ui-corner-all ui-helper-clearfix';\n    var titletext = document.createElement('div');\n    titletext.classList = 'ui-dialog-title';\n    titletext.setAttribute(\n        'style',\n        'width: 100%; text-align: center; padding: 3px;'\n    );\n    titlebar.appendChild(titletext);\n    this.root.appendChild(titlebar);\n    this.header = titletext;\n};\n\nmpl.figure.prototype._canvas_extra_style = function (_canvas_div) {};\n\nmpl.figure.prototype._root_extra_style = function (_canvas_div) {};\n\nmpl.figure.prototype._init_canvas = function () {\n    var fig = this;\n\n    var canvas_div = (this.canvas_div = document.createElement('div'));\n    canvas_div.setAttribute(\n        'style',\n        'border: 1px solid #ddd;' +\n            'box-sizing: content-box;' +\n            'clear: both;' +\n            'min-height: 1px;' +\n            'min-width: 1px;' +\n            'outline: 0;' +\n            'overflow: hidden;' +\n            'position: relative;' +\n            'resize: both;'\n    );\n\n    function on_keyboard_event_closure(name) {\n        return function (event) {\n            return fig.key_event(event, name);\n        };\n    }\n\n    canvas_div.addEventListener(\n        'keydown',\n        on_keyboard_event_closure('key_press')\n    );\n    canvas_div.addEventListener(\n        'keyup',\n        on_keyboard_event_closure('key_release')\n    );\n\n    this._canvas_extra_style(canvas_div);\n    this.root.appendChild(canvas_div);\n\n    var canvas = (this.canvas = document.createElement('canvas'));\n    canvas.classList.add('mpl-canvas');\n    canvas.setAttribute('style', 'box-sizing: content-box;');\n\n    this.context = canvas.getContext('2d');\n\n    var backingStore =\n        this.context.backingStorePixelRatio ||\n        this.context.webkitBackingStorePixelRatio ||\n        this.context.mozBackingStorePixelRatio ||\n        this.context.msBackingStorePixelRatio ||\n        this.context.oBackingStorePixelRatio ||\n        this.context.backingStorePixelRatio ||\n        1;\n\n    this.ratio = (window.devicePixelRatio || 1) / backingStore;\n\n    var rubberband_canvas = (this.rubberband_canvas = document.createElement(\n        'canvas'\n    ));\n    rubberband_canvas.setAttribute(\n        'style',\n        'box-sizing: content-box; position: absolute; left: 0; top: 0; z-index: 1;'\n    );\n\n    // Apply a ponyfill if ResizeObserver is not implemented by browser.\n    if (this.ResizeObserver === undefined) {\n        if (window.ResizeObserver !== undefined) {\n            this.ResizeObserver = window.ResizeObserver;\n        } else {\n            var obs = _JSXTOOLS_RESIZE_OBSERVER({});\n            this.ResizeObserver = obs.ResizeObserver;\n        }\n    }\n\n    this.resizeObserverInstance = new this.ResizeObserver(function (entries) {\n        var nentries = entries.length;\n        for (var i = 0; i < nentries; i++) {\n            var entry = entries[i];\n            var width, height;\n            if (entry.contentBoxSize) {\n                if (entry.contentBoxSize instanceof Array) {\n                    // Chrome 84 implements new version of spec.\n                    width = entry.contentBoxSize[0].inlineSize;\n                    height = entry.contentBoxSize[0].blockSize;\n                } else {\n                    // Firefox implements old version of spec.\n                    width = entry.contentBoxSize.inlineSize;\n                    height = entry.contentBoxSize.blockSize;\n                }\n            } else {\n                // Chrome <84 implements even older version of spec.\n                width = entry.contentRect.width;\n                height = entry.contentRect.height;\n            }\n\n            // Keep the size of the canvas and rubber band canvas in sync with\n            // the canvas container.\n            if (entry.devicePixelContentBoxSize) {\n                // Chrome 84 implements new version of spec.\n                canvas.setAttribute(\n                    'width',\n                    entry.devicePixelContentBoxSize[0].inlineSize\n                );\n                canvas.setAttribute(\n                    'height',\n                    entry.devicePixelContentBoxSize[0].blockSize\n                );\n            } else {\n                canvas.setAttribute('width', width * fig.ratio);\n                canvas.setAttribute('height', height * fig.ratio);\n            }\n            canvas.setAttribute(\n                'style',\n                'width: ' + width + 'px; height: ' + height + 'px;'\n            );\n\n            rubberband_canvas.setAttribute('width', width);\n            rubberband_canvas.setAttribute('height', height);\n\n            // And update the size in Python. We ignore the initial 0/0 size\n            // that occurs as the element is placed into the DOM, which should\n            // otherwise not happen due to the minimum size styling.\n            if (fig.ws.readyState == 1 && width != 0 && height != 0) {\n                fig.request_resize(width, height);\n            }\n        }\n    });\n    this.resizeObserverInstance.observe(canvas_div);\n\n    function on_mouse_event_closure(name) {\n        return function (event) {\n            return fig.mouse_event(event, name);\n        };\n    }\n\n    rubberband_canvas.addEventListener(\n        'mousedown',\n        on_mouse_event_closure('button_press')\n    );\n    rubberband_canvas.addEventListener(\n        'mouseup',\n        on_mouse_event_closure('button_release')\n    );\n    // Throttle sequential mouse events to 1 every 20ms.\n    rubberband_canvas.addEventListener(\n        'mousemove',\n        on_mouse_event_closure('motion_notify')\n    );\n\n    rubberband_canvas.addEventListener(\n        'mouseenter',\n        on_mouse_event_closure('figure_enter')\n    );\n    rubberband_canvas.addEventListener(\n        'mouseleave',\n        on_mouse_event_closure('figure_leave')\n    );\n\n    canvas_div.addEventListener('wheel', function (event) {\n        if (event.deltaY < 0) {\n            event.step = 1;\n        } else {\n            event.step = -1;\n        }\n        on_mouse_event_closure('scroll')(event);\n    });\n\n    canvas_div.appendChild(canvas);\n    canvas_div.appendChild(rubberband_canvas);\n\n    this.rubberband_context = rubberband_canvas.getContext('2d');\n    this.rubberband_context.strokeStyle = '#000000';\n\n    this._resize_canvas = function (width, height, forward) {\n        if (forward) {\n            canvas_div.style.width = width + 'px';\n            canvas_div.style.height = height + 'px';\n        }\n    };\n\n    // Disable right mouse context menu.\n    this.rubberband_canvas.addEventListener('contextmenu', function (_e) {\n        event.preventDefault();\n        return false;\n    });\n\n    function set_focus() {\n        canvas.focus();\n        canvas_div.focus();\n    }\n\n    window.setTimeout(set_focus, 100);\n};\n\nmpl.figure.prototype._init_toolbar = function () {\n    var fig = this;\n\n    var toolbar = document.createElement('div');\n    toolbar.classList = 'mpl-toolbar';\n    this.root.appendChild(toolbar);\n\n    function on_click_closure(name) {\n        return function (_event) {\n            return fig.toolbar_button_onclick(name);\n        };\n    }\n\n    function on_mouseover_closure(tooltip) {\n        return function (event) {\n            if (!event.currentTarget.disabled) {\n                return fig.toolbar_button_onmouseover(tooltip);\n            }\n        };\n    }\n\n    fig.buttons = {};\n    var buttonGroup = document.createElement('div');\n    buttonGroup.classList = 'mpl-button-group';\n    for (var toolbar_ind in mpl.toolbar_items) {\n        var name = mpl.toolbar_items[toolbar_ind][0];\n        var tooltip = mpl.toolbar_items[toolbar_ind][1];\n        var image = mpl.toolbar_items[toolbar_ind][2];\n        var method_name = mpl.toolbar_items[toolbar_ind][3];\n\n        if (!name) {\n            /* Instead of a spacer, we start a new button group. */\n            if (buttonGroup.hasChildNodes()) {\n                toolbar.appendChild(buttonGroup);\n            }\n            buttonGroup = document.createElement('div');\n            buttonGroup.classList = 'mpl-button-group';\n            continue;\n        }\n\n        var button = (fig.buttons[name] = document.createElement('button'));\n        button.classList = 'mpl-widget';\n        button.setAttribute('role', 'button');\n        button.setAttribute('aria-disabled', 'false');\n        button.addEventListener('click', on_click_closure(method_name));\n        button.addEventListener('mouseover', on_mouseover_closure(tooltip));\n\n        var icon_img = document.createElement('img');\n        icon_img.src = '_images/' + image + '.png';\n        icon_img.srcset = '_images/' + image + '_large.png 2x';\n        icon_img.alt = tooltip;\n        button.appendChild(icon_img);\n\n        buttonGroup.appendChild(button);\n    }\n\n    if (buttonGroup.hasChildNodes()) {\n        toolbar.appendChild(buttonGroup);\n    }\n\n    var fmt_picker = document.createElement('select');\n    fmt_picker.classList = 'mpl-widget';\n    toolbar.appendChild(fmt_picker);\n    this.format_dropdown = fmt_picker;\n\n    for (var ind in mpl.extensions) {\n        var fmt = mpl.extensions[ind];\n        var option = document.createElement('option');\n        option.selected = fmt === mpl.default_extension;\n        option.innerHTML = fmt;\n        fmt_picker.appendChild(option);\n    }\n\n    var status_bar = document.createElement('span');\n    status_bar.classList = 'mpl-message';\n    toolbar.appendChild(status_bar);\n    this.message = status_bar;\n};\n\nmpl.figure.prototype.request_resize = function (x_pixels, y_pixels) {\n    // Request matplotlib to resize the figure. Matplotlib will then trigger a resize in the client,\n    // which will in turn request a refresh of the image.\n    this.send_message('resize', { width: x_pixels, height: y_pixels });\n};\n\nmpl.figure.prototype.send_message = function (type, properties) {\n    properties['type'] = type;\n    properties['figure_id'] = this.id;\n    this.ws.send(JSON.stringify(properties));\n};\n\nmpl.figure.prototype.send_draw_message = function () {\n    if (!this.waiting) {\n        this.waiting = true;\n        this.ws.send(JSON.stringify({ type: 'draw', figure_id: this.id }));\n    }\n};\n\nmpl.figure.prototype.handle_save = function (fig, _msg) {\n    var format_dropdown = fig.format_dropdown;\n    var format = format_dropdown.options[format_dropdown.selectedIndex].value;\n    fig.ondownload(fig, format);\n};\n\nmpl.figure.prototype.handle_resize = function (fig, msg) {\n    var size = msg['size'];\n    if (size[0] !== fig.canvas.width || size[1] !== fig.canvas.height) {\n        fig._resize_canvas(size[0], size[1], msg['forward']);\n        fig.send_message('refresh', {});\n    }\n};\n\nmpl.figure.prototype.handle_rubberband = function (fig, msg) {\n    var x0 = msg['x0'] / fig.ratio;\n    var y0 = (fig.canvas.height - msg['y0']) / fig.ratio;\n    var x1 = msg['x1'] / fig.ratio;\n    var y1 = (fig.canvas.height - msg['y1']) / fig.ratio;\n    x0 = Math.floor(x0) + 0.5;\n    y0 = Math.floor(y0) + 0.5;\n    x1 = Math.floor(x1) + 0.5;\n    y1 = Math.floor(y1) + 0.5;\n    var min_x = Math.min(x0, x1);\n    var min_y = Math.min(y0, y1);\n    var width = Math.abs(x1 - x0);\n    var height = Math.abs(y1 - y0);\n\n    fig.rubberband_context.clearRect(\n        0,\n        0,\n        fig.canvas.width / fig.ratio,\n        fig.canvas.height / fig.ratio\n    );\n\n    fig.rubberband_context.strokeRect(min_x, min_y, width, height);\n};\n\nmpl.figure.prototype.handle_figure_label = function (fig, msg) {\n    // Updates the figure title.\n    fig.header.textContent = msg['label'];\n};\n\nmpl.figure.prototype.handle_cursor = function (fig, msg) {\n    var cursor = msg['cursor'];\n    switch (cursor) {\n        case 0:\n            cursor = 'pointer';\n            break;\n        case 1:\n            cursor = 'default';\n            break;\n        case 2:\n            cursor = 'crosshair';\n            break;\n        case 3:\n            cursor = 'move';\n            break;\n    }\n    fig.rubberband_canvas.style.cursor = cursor;\n};\n\nmpl.figure.prototype.handle_message = function (fig, msg) {\n    fig.message.textContent = msg['message'];\n};\n\nmpl.figure.prototype.handle_draw = function (fig, _msg) {\n    // Request the server to send over a new figure.\n    fig.send_draw_message();\n};\n\nmpl.figure.prototype.handle_image_mode = function (fig, msg) {\n    fig.image_mode = msg['mode'];\n};\n\nmpl.figure.prototype.handle_history_buttons = function (fig, msg) {\n    for (var key in msg) {\n        if (!(key in fig.buttons)) {\n            continue;\n        }\n        fig.buttons[key].disabled = !msg[key];\n        fig.buttons[key].setAttribute('aria-disabled', !msg[key]);\n    }\n};\n\nmpl.figure.prototype.handle_navigate_mode = function (fig, msg) {\n    if (msg['mode'] === 'PAN') {\n        fig.buttons['Pan'].classList.add('active');\n        fig.buttons['Zoom'].classList.remove('active');\n    } else if (msg['mode'] === 'ZOOM') {\n        fig.buttons['Pan'].classList.remove('active');\n        fig.buttons['Zoom'].classList.add('active');\n    } else {\n        fig.buttons['Pan'].classList.remove('active');\n        fig.buttons['Zoom'].classList.remove('active');\n    }\n};\n\nmpl.figure.prototype.updated_canvas_event = function () {\n    // Called whenever the canvas gets updated.\n    this.send_message('ack', {});\n};\n\n// A function to construct a web socket function for onmessage handling.\n// Called in the figure constructor.\nmpl.figure.prototype._make_on_message_function = function (fig) {\n    return function socket_on_message(evt) {\n        if (evt.data instanceof Blob) {\n            /* FIXME: We get \"Resource interpreted as Image but\n             * transferred with MIME type text/plain:\" errors on\n             * Chrome.  But how to set the MIME type?  It doesn't seem\n             * to be part of the websocket stream */\n            evt.data.type = 'image/png';\n\n            /* Free the memory for the previous frames */\n            if (fig.imageObj.src) {\n                (window.URL || window.webkitURL).revokeObjectURL(\n                    fig.imageObj.src\n                );\n            }\n\n            fig.imageObj.src = (window.URL || window.webkitURL).createObjectURL(\n                evt.data\n            );\n            fig.updated_canvas_event();\n            fig.waiting = false;\n            return;\n        } else if (\n            typeof evt.data === 'string' &&\n            evt.data.slice(0, 21) === 'data:image/png;base64'\n        ) {\n            fig.imageObj.src = evt.data;\n            fig.updated_canvas_event();\n            fig.waiting = false;\n            return;\n        }\n\n        var msg = JSON.parse(evt.data);\n        var msg_type = msg['type'];\n\n        // Call the  \"handle_{type}\" callback, which takes\n        // the figure and JSON message as its only arguments.\n        try {\n            var callback = fig['handle_' + msg_type];\n        } catch (e) {\n            console.log(\n                \"No handler for the '\" + msg_type + \"' message type: \",\n                msg\n            );\n            return;\n        }\n\n        if (callback) {\n            try {\n                // console.log(\"Handling '\" + msg_type + \"' message: \", msg);\n                callback(fig, msg);\n            } catch (e) {\n                console.log(\n                    \"Exception inside the 'handler_\" + msg_type + \"' callback:\",\n                    e,\n                    e.stack,\n                    msg\n                );\n            }\n        }\n    };\n};\n\n// from http://stackoverflow.com/questions/1114465/getting-mouse-location-in-canvas\nmpl.findpos = function (e) {\n    //this section is from http://www.quirksmode.org/js/events_properties.html\n    var targ;\n    if (!e) {\n        e = window.event;\n    }\n    if (e.target) {\n        targ = e.target;\n    } else if (e.srcElement) {\n        targ = e.srcElement;\n    }\n    if (targ.nodeType === 3) {\n        // defeat Safari bug\n        targ = targ.parentNode;\n    }\n\n    // pageX,Y are the mouse positions relative to the document\n    var boundingRect = targ.getBoundingClientRect();\n    var x = e.pageX - (boundingRect.left + document.body.scrollLeft);\n    var y = e.pageY - (boundingRect.top + document.body.scrollTop);\n\n    return { x: x, y: y };\n};\n\n/*\n * return a copy of an object with only non-object keys\n * we need this to avoid circular references\n * http://stackoverflow.com/a/24161582/3208463\n */\nfunction simpleKeys(original) {\n    return Object.keys(original).reduce(function (obj, key) {\n        if (typeof original[key] !== 'object') {\n            obj[key] = original[key];\n        }\n        return obj;\n    }, {});\n}\n\nmpl.figure.prototype.mouse_event = function (event, name) {\n    var canvas_pos = mpl.findpos(event);\n\n    if (name === 'button_press') {\n        this.canvas.focus();\n        this.canvas_div.focus();\n    }\n\n    var x = canvas_pos.x * this.ratio;\n    var y = canvas_pos.y * this.ratio;\n\n    this.send_message(name, {\n        x: x,\n        y: y,\n        button: event.button,\n        step: event.step,\n        guiEvent: simpleKeys(event),\n    });\n\n    /* This prevents the web browser from automatically changing to\n     * the text insertion cursor when the button is pressed.  We want\n     * to control all of the cursor setting manually through the\n     * 'cursor' event from matplotlib */\n    event.preventDefault();\n    return false;\n};\n\nmpl.figure.prototype._key_event_extra = function (_event, _name) {\n    // Handle any extra behaviour associated with a key event\n};\n\nmpl.figure.prototype.key_event = function (event, name) {\n    // Prevent repeat events\n    if (name === 'key_press') {\n        if (event.which === this._key) {\n            return;\n        } else {\n            this._key = event.which;\n        }\n    }\n    if (name === 'key_release') {\n        this._key = null;\n    }\n\n    var value = '';\n    if (event.ctrlKey && event.which !== 17) {\n        value += 'ctrl+';\n    }\n    if (event.altKey && event.which !== 18) {\n        value += 'alt+';\n    }\n    if (event.shiftKey && event.which !== 16) {\n        value += 'shift+';\n    }\n\n    value += 'k';\n    value += event.which.toString();\n\n    this._key_event_extra(event, name);\n\n    this.send_message(name, { key: value, guiEvent: simpleKeys(event) });\n    return false;\n};\n\nmpl.figure.prototype.toolbar_button_onclick = function (name) {\n    if (name === 'download') {\n        this.handle_save(this, null);\n    } else {\n        this.send_message('toolbar_button', { name: name });\n    }\n};\n\nmpl.figure.prototype.toolbar_button_onmouseover = function (tooltip) {\n    this.message.textContent = tooltip;\n};\n\n///////////////// REMAINING CONTENT GENERATED BY embed_js.py /////////////////\n// prettier-ignore\nvar _JSXTOOLS_RESIZE_OBSERVER=function(A){var t,i=new WeakMap,n=new WeakMap,a=new WeakMap,r=new WeakMap,o=new Set;function s(e){if(!(this instanceof s))throw new TypeError(\"Constructor requires 'new' operator\");i.set(this,e)}function h(){throw new TypeError(\"Function is not a constructor\")}function c(e,t,i,n){e=0 in arguments?Number(arguments[0]):0,t=1 in arguments?Number(arguments[1]):0,i=2 in arguments?Number(arguments[2]):0,n=3 in arguments?Number(arguments[3]):0,this.right=(this.x=this.left=e)+(this.width=i),this.bottom=(this.y=this.top=t)+(this.height=n),Object.freeze(this)}function d(){t=requestAnimationFrame(d);var s=new WeakMap,p=new Set;o.forEach((function(t){r.get(t).forEach((function(i){var r=t instanceof window.SVGElement,o=a.get(t),d=r?0:parseFloat(o.paddingTop),f=r?0:parseFloat(o.paddingRight),l=r?0:parseFloat(o.paddingBottom),u=r?0:parseFloat(o.paddingLeft),g=r?0:parseFloat(o.borderTopWidth),m=r?0:parseFloat(o.borderRightWidth),w=r?0:parseFloat(o.borderBottomWidth),b=u+f,F=d+l,v=(r?0:parseFloat(o.borderLeftWidth))+m,W=g+w,y=r?0:t.offsetHeight-W-t.clientHeight,E=r?0:t.offsetWidth-v-t.clientWidth,R=b+v,z=F+W,M=r?t.width:parseFloat(o.width)-R-E,O=r?t.height:parseFloat(o.height)-z-y;if(n.has(t)){var k=n.get(t);if(k[0]===M&&k[1]===O)return}n.set(t,[M,O]);var S=Object.create(h.prototype);S.target=t,S.contentRect=new c(u,d,M,O),s.has(i)||(s.set(i,[]),p.add(i)),s.get(i).push(S)}))})),p.forEach((function(e){i.get(e).call(e,s.get(e),e)}))}return s.prototype.observe=function(i){if(i instanceof window.Element){r.has(i)||(r.set(i,new Set),o.add(i),a.set(i,window.getComputedStyle(i)));var n=r.get(i);n.has(this)||n.add(this),cancelAnimationFrame(t),t=requestAnimationFrame(d)}},s.prototype.unobserve=function(i){if(i instanceof window.Element&&r.has(i)){var n=r.get(i);n.has(this)&&(n.delete(this),n.size||(r.delete(i),o.delete(i))),n.size||r.delete(i),o.size||cancelAnimationFrame(t)}},A.DOMRectReadOnly=c,A.ResizeObserver=s,A.ResizeObserverEntry=h,A}; // eslint-disable-line\nmpl.toolbar_items = [[\"Home\", \"Reset original view\", \"fa fa-home icon-home\", \"home\"], [\"Back\", \"Back to previous view\", \"fa fa-arrow-left icon-arrow-left\", \"back\"], [\"Forward\", \"Forward to next view\", \"fa fa-arrow-right icon-arrow-right\", \"forward\"], [\"\", \"\", \"\", \"\"], [\"Pan\", \"Left button pans, Right button zooms\\nx/y fixes axis, CTRL fixes aspect\", \"fa fa-arrows icon-move\", \"pan\"], [\"Zoom\", \"Zoom to rectangle\\nx/y fixes axis, CTRL fixes aspect\", \"fa fa-square-o icon-check-empty\", \"zoom\"], [\"\", \"\", \"\", \"\"], [\"Download\", \"Download plot\", \"fa fa-floppy-o icon-save\", \"download\"]];\n\nmpl.extensions = [\"eps\", \"jpeg\", \"pdf\", \"png\", \"ps\", \"raw\", \"svg\", \"tif\"];\n\nmpl.default_extension = \"png\";/* global mpl */\n\nvar comm_websocket_adapter = function (comm) {\n    // Create a \"websocket\"-like object which calls the given IPython comm\n    // object with the appropriate methods. Currently this is a non binary\n    // socket, so there is still some room for performance tuning.\n    var ws = {};\n\n    ws.close = function () {\n        comm.close();\n    };\n    ws.send = function (m) {\n        //console.log('sending', m);\n        comm.send(m);\n    };\n    // Register the callback with on_msg.\n    comm.on_msg(function (msg) {\n        //console.log('receiving', msg['content']['data'], msg);\n        // Pass the mpl event to the overridden (by mpl) onmessage function.\n        ws.onmessage(msg['content']['data']);\n    });\n    return ws;\n};\n\nmpl.mpl_figure_comm = function (comm, msg) {\n    // This is the function which gets called when the mpl process\n    // starts-up an IPython Comm through the \"matplotlib\" channel.\n\n    var id = msg.content.data.id;\n    // Get hold of the div created by the display call when the Comm\n    // socket was opened in Python.\n    var element = document.getElementById(id);\n    var ws_proxy = comm_websocket_adapter(comm);\n\n    function ondownload(figure, _format) {\n        window.open(figure.canvas.toDataURL());\n    }\n\n    var fig = new mpl.figure(id, ws_proxy, ondownload, element);\n\n    // Call onopen now - mpl needs it, as it is assuming we've passed it a real\n    // web socket which is closed, not our websocket->open comm proxy.\n    ws_proxy.onopen();\n\n    fig.parent_element = element;\n    fig.cell_info = mpl.find_output_cell(\"<div id='\" + id + \"'></div>\");\n    if (!fig.cell_info) {\n        console.error('Failed to find cell for figure', id, fig);\n        return;\n    }\n    fig.cell_info[0].output_area.element.on(\n        'cleared',\n        { fig: fig },\n        fig._remove_fig_handler\n    );\n};\n\nmpl.figure.prototype.handle_close = function (fig, msg) {\n    var width = fig.canvas.width / fig.ratio;\n    fig.cell_info[0].output_area.element.off(\n        'cleared',\n        fig._remove_fig_handler\n    );\n    fig.resizeObserverInstance.unobserve(fig.canvas_div);\n\n    // Update the output cell to use the data from the current canvas.\n    fig.push_to_output();\n    var dataURL = fig.canvas.toDataURL();\n    // Re-enable the keyboard manager in IPython - without this line, in FF,\n    // the notebook keyboard shortcuts fail.\n    IPython.keyboard_manager.enable();\n    fig.parent_element.innerHTML =\n        '<img src=\"' + dataURL + '\" width=\"' + width + '\">';\n    fig.close_ws(fig, msg);\n};\n\nmpl.figure.prototype.close_ws = function (fig, msg) {\n    fig.send_message('closing', msg);\n    // fig.ws.close()\n};\n\nmpl.figure.prototype.push_to_output = function (_remove_interactive) {\n    // Turn the data on the canvas into data in the output cell.\n    var width = this.canvas.width / this.ratio;\n    var dataURL = this.canvas.toDataURL();\n    this.cell_info[1]['text/html'] =\n        '<img src=\"' + dataURL + '\" width=\"' + width + '\">';\n};\n\nmpl.figure.prototype.updated_canvas_event = function () {\n    // Tell IPython that the notebook contents must change.\n    IPython.notebook.set_dirty(true);\n    this.send_message('ack', {});\n    var fig = this;\n    // Wait a second, then push the new image to the DOM so\n    // that it is saved nicely (might be nice to debounce this).\n    setTimeout(function () {\n        fig.push_to_output();\n    }, 1000);\n};\n\nmpl.figure.prototype._init_toolbar = function () {\n    var fig = this;\n\n    var toolbar = document.createElement('div');\n    toolbar.classList = 'btn-toolbar';\n    this.root.appendChild(toolbar);\n\n    function on_click_closure(name) {\n        return function (_event) {\n            return fig.toolbar_button_onclick(name);\n        };\n    }\n\n    function on_mouseover_closure(tooltip) {\n        return function (event) {\n            if (!event.currentTarget.disabled) {\n                return fig.toolbar_button_onmouseover(tooltip);\n            }\n        };\n    }\n\n    fig.buttons = {};\n    var buttonGroup = document.createElement('div');\n    buttonGroup.classList = 'btn-group';\n    var button;\n    for (var toolbar_ind in mpl.toolbar_items) {\n        var name = mpl.toolbar_items[toolbar_ind][0];\n        var tooltip = mpl.toolbar_items[toolbar_ind][1];\n        var image = mpl.toolbar_items[toolbar_ind][2];\n        var method_name = mpl.toolbar_items[toolbar_ind][3];\n\n        if (!name) {\n            /* Instead of a spacer, we start a new button group. */\n            if (buttonGroup.hasChildNodes()) {\n                toolbar.appendChild(buttonGroup);\n            }\n            buttonGroup = document.createElement('div');\n            buttonGroup.classList = 'btn-group';\n            continue;\n        }\n\n        button = fig.buttons[name] = document.createElement('button');\n        button.classList = 'btn btn-default';\n        button.href = '#';\n        button.title = name;\n        button.innerHTML = '<i class=\"fa ' + image + ' fa-lg\"></i>';\n        button.addEventListener('click', on_click_closure(method_name));\n        button.addEventListener('mouseover', on_mouseover_closure(tooltip));\n        buttonGroup.appendChild(button);\n    }\n\n    if (buttonGroup.hasChildNodes()) {\n        toolbar.appendChild(buttonGroup);\n    }\n\n    // Add the status bar.\n    var status_bar = document.createElement('span');\n    status_bar.classList = 'mpl-message pull-right';\n    toolbar.appendChild(status_bar);\n    this.message = status_bar;\n\n    // Add the close button to the window.\n    var buttongrp = document.createElement('div');\n    buttongrp.classList = 'btn-group inline pull-right';\n    button = document.createElement('button');\n    button.classList = 'btn btn-mini btn-primary';\n    button.href = '#';\n    button.title = 'Stop Interaction';\n    button.innerHTML = '<i class=\"fa fa-power-off icon-remove icon-large\"></i>';\n    button.addEventListener('click', function (_evt) {\n        fig.handle_close(fig, {});\n    });\n    button.addEventListener(\n        'mouseover',\n        on_mouseover_closure('Stop Interaction')\n    );\n    buttongrp.appendChild(button);\n    var titlebar = this.root.querySelector('.ui-dialog-titlebar');\n    titlebar.insertBefore(buttongrp, titlebar.firstChild);\n};\n\nmpl.figure.prototype._remove_fig_handler = function (event) {\n    var fig = event.data.fig;\n    if (event.target !== this) {\n        // Ignore bubbled events from children.\n        return;\n    }\n    fig.close_ws(fig, {});\n};\n\nmpl.figure.prototype._root_extra_style = function (el) {\n    el.style.boxSizing = 'content-box'; // override notebook setting of border-box.\n};\n\nmpl.figure.prototype._canvas_extra_style = function (el) {\n    // this is important to make the div 'focusable\n    el.setAttribute('tabindex', 0);\n    // reach out to IPython and tell the keyboard manager to turn it's self\n    // off when our div gets focus\n\n    // location in version 3\n    if (IPython.notebook.keyboard_manager) {\n        IPython.notebook.keyboard_manager.register_events(el);\n    } else {\n        // location in version 2\n        IPython.keyboard_manager.register_events(el);\n    }\n};\n\nmpl.figure.prototype._key_event_extra = function (event, _name) {\n    var manager = IPython.notebook.keyboard_manager;\n    if (!manager) {\n        manager = IPython.keyboard_manager;\n    }\n\n    // Check for shift+enter\n    if (event.shiftKey && event.which === 13) {\n        this.canvas_div.blur();\n        // select the cell after this one\n        var index = IPython.notebook.find_cell_index(this.cell_info[0]);\n        IPython.notebook.select(index + 1);\n    }\n};\n\nmpl.figure.prototype.handle_save = function (fig, _msg) {\n    fig.ondownload(fig, null);\n};\n\nmpl.find_output_cell = function (html_output) {\n    // Return the cell and output element which can be found *uniquely* in the notebook.\n    // Note - this is a bit hacky, but it is done because the \"notebook_saving.Notebook\"\n    // IPython event is triggered only after the cells have been serialised, which for\n    // our purposes (turning an active figure into a static one), is too late.\n    var cells = IPython.notebook.get_cells();\n    var ncells = cells.length;\n    for (var i = 0; i < ncells; i++) {\n        var cell = cells[i];\n        if (cell.cell_type === 'code') {\n            for (var j = 0; j < cell.output_area.outputs.length; j++) {\n                var data = cell.output_area.outputs[j];\n                if (data.data) {\n                    // IPython >= 3 moved mimebundle to data attribute of output\n                    data = data.data;\n                }\n                if (data['text/html'] === html_output) {\n                    return [cell, data, j];\n                }\n            }\n        }\n    }\n};\n\n// Register the function which deals with the matplotlib target/channel.\n// The kernel may be null if the page has been refreshed.\nif (IPython.notebook.kernel !== null) {\n    IPython.notebook.kernel.comm_manager.register_target(\n        'matplotlib',\n        mpl.mpl_figure_comm\n    );\n}\n",
      "text/plain": [
       "<IPython.core.display.Javascript object>"
      ]
     },
     "metadata": {},
     "output_type": "display_data"
    },
    {
     "data": {
      "text/html": [
       "<img src=\"data:image/png;base64,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\" width=\"640\">"
      ],
      "text/plain": [
       "<IPython.core.display.HTML object>"
      ]
     },
     "metadata": {},
     "output_type": "display_data"
    }
   ],
   "source": [
    "plt.figure()\n",
    "plt.hist2d(results['band_gap'], results['density'], bins=100)\n",
    "plt.xlabel('E/eV')\n",
    "plt.ylabel('density')\n",
    "plt.title('Binary compounds')\n",
    "plt.show()"
   ]
  },
  {
   "cell_type": "code",
   "execution_count": null,
   "metadata": {},
   "outputs": [],
   "source": []
  }
 ],
 "metadata": {
  "kernelspec": {
   "display_name": "Python 3.8.8 ('qdef3p8')",
   "language": "python",
   "name": "python3"
  },
  "language_info": {
   "codemirror_mode": {
    "name": "ipython",
    "version": 3
   },
   "file_extension": ".py",
   "mimetype": "text/x-python",
   "name": "python",
   "nbconvert_exporter": "python",
   "pygments_lexer": "ipython3",
   "version": "3.8.8"
  },
  "vscode": {
   "interpreter": {
    "hash": "5ed69564610cdd861a99d06236eab56151da4db3d5eb55442ace689096fe7345"
   }
  }
 },
 "nbformat": 4,
 "nbformat_minor": 4
}
