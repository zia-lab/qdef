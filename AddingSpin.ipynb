{
 "cells": [
  {
   "cell_type": "markdown",
   "metadata": {},
   "source": [
    "# Including Spin-Dependent Operators"
   ]
  },
  {
   "cell_type": "markdown",
   "metadata": {},
   "source": [
    "Thus far spin has only been included in a rather ad-hoc way, but at this point it is necessary to modify a few things to include it more fundamentally.\n",
    "\n",
    "First, Qets will now have quantum symbols that are represented as the new class `SpinOrbital`.\n",
    "\n",
    "Second, hamiltonian_CF_CR now includes LS coupling between the states providing an additional parameter $\\zeta_{SO}$.\n",
    "\n",
    "In doing this it was also deemed useful to add some function to provide matrices for angular momenta, for this two functions were added to `qdef.py`: `Jmatrices`, and `LSmatrix`."
   ]
  },
  {
   "cell_type": "code",
   "execution_count": 1,
   "metadata": {},
   "outputs": [
    {
     "data": {
      "text/html": [
       "<pre>✔️ 2.73 s (2022-01-17T19:59:52/2022-01-17T19:59:54)</pre>"
      ],
      "text/plain": [
       "<IPython.core.display.HTML object>"
      ]
     },
     "metadata": {},
     "output_type": "display_data"
    },
    {
     "name": "stdout",
     "output_type": "stream",
     "text": [
      "Reloading /Users/juan/Zia Lab/Codebase/qdef/data/CPGs.pkl ...\n"
     ]
    }
   ],
   "source": [
    "%load_ext line_profiler\n",
    "%load_ext autoreload\n",
    "# provide cell timings\n",
    "%load_ext autotime\n",
    "%autoreload 2\n",
    "import sympy as sp\n",
    "import numpy as np\n",
    "%config InlineBackend.figure_format='retina'\n",
    "%config Completer.use_jedi = False\n",
    "from qdef import *\n",
    "from misc import *\n",
    "from matrixgoodies import *\n",
    "from IPython.display import display, Math, Latex, HTML\n",
    "from itertools import product, permutations\n",
    "plt.style.use('dark_background')"
   ]
  },
  {
   "cell_type": "markdown",
   "metadata": {},
   "source": [
    "A SpinOrbital needs to be initialized with a symbol for the orbital part and the proyection of spin onto the z-axis."
   ]
  },
  {
   "cell_type": "code",
   "execution_count": 2,
   "metadata": {},
   "outputs": [
    {
     "data": {
      "text/html": [
       "<pre>✔️ 3.01 ms (2022-01-17T19:59:54/2022-01-17T19:59:54)</pre>"
      ],
      "text/plain": [
       "<IPython.core.display.HTML object>"
      ]
     },
     "metadata": {},
     "output_type": "display_data"
    },
    {
     "data": {
      "text/plain": [
       "Qet({\\zeta↑: sqrt(2)/2, \\beta↓: sqrt(2)/2})"
      ]
     },
     "execution_count": 2,
     "metadata": {},
     "output_type": "execute_result"
    }
   ],
   "source": [
    "Qet({SpinOrbital(sp.Symbol('\\\\zeta'), S_UP): 1/sp.sqrt(2),\n",
    "    SpinOrbital(sp.Symbol('\\\\beta'), S_DOWN): 1/sp.sqrt(2)})"
   ]
  },
  {
   "cell_type": "markdown",
   "metadata": {},
   "source": [
    "Here are the matrices that represent the hamiltonian with crystal field, electrostatic repulsion, ans spin orbit for one electron. Both in the standard basis, and in the crystal basis."
   ]
  },
  {
   "cell_type": "code",
   "execution_count": 13,
   "metadata": {},
   "outputs": [
    {
     "data": {
      "text/html": [
       "<pre>✔️ 15.7 ms (2022-01-17T20:04:25/2022-01-17T20:04:25)</pre>"
      ],
      "text/plain": [
       "<IPython.core.display.HTML object>"
      ]
     },
     "metadata": {},
     "output_type": "display_data"
    }
   ],
   "source": [
    "# crystal basis\n",
    "crystal_ham = hamiltonian_CF_CR(1, 'O', 2, False, False)[0]"
   ]
  },
  {
   "cell_type": "code",
   "execution_count": 14,
   "metadata": {},
   "outputs": [
    {
     "data": {
      "text/html": [
       "<pre>✔️ 3.61 ms (2022-01-17T20:04:25/2022-01-17T20:04:25)</pre>"
      ],
      "text/plain": [
       "<IPython.core.display.HTML object>"
      ]
     },
     "metadata": {},
     "output_type": "display_data"
    }
   ],
   "source": [
    "# standard basis\n",
    "standard_ham = hamiltonian_CF_CR(1, 'O', 2, False, True)[0]"
   ]
  },
  {
   "cell_type": "code",
   "execution_count": 16,
   "metadata": {},
   "outputs": [
    {
     "data": {
      "text/html": [
       "<pre>✔️ 98.2 ms (2022-01-17T20:05:35/2022-01-17T20:05:35)</pre>"
      ],
      "text/plain": [
       "<IPython.core.display.HTML object>"
      ]
     },
     "metadata": {},
     "output_type": "display_data"
    },
    {
     "data": {
      "text/latex": [
       "$\\displaystyle \\left[\\begin{matrix}\\zeta_{SO} & 0 & 0 & 0 & 0 & 0 & 0 & 0 & 0 & 0\\\\0 & \\frac{\\zeta_{SO}}{2} & 0 & 0 & 0 & \\zeta_{SO} & 0 & 0 & 0 & 0\\\\0 & 0 & 0 & 0 & 0 & 0 & \\frac{\\sqrt{6} \\zeta_{SO}}{2} & 0 & 0 & 0\\\\0 & 0 & 0 & - \\frac{\\zeta_{SO}}{2} & 0 & 0 & 0 & \\frac{\\sqrt{6} \\zeta_{SO}}{2} & 0 & 0\\\\0 & 0 & 0 & 0 & - \\zeta_{SO} & 0 & 0 & 0 & \\zeta_{SO} & 0\\\\0 & \\zeta_{SO} & 0 & 0 & 0 & - \\zeta_{SO} & 0 & 0 & 0 & 0\\\\0 & 0 & \\frac{\\sqrt{6} \\zeta_{SO}}{2} & 0 & 0 & 0 & - \\frac{\\zeta_{SO}}{2} & 0 & 0 & 0\\\\0 & 0 & 0 & \\frac{\\sqrt{6} \\zeta_{SO}}{2} & 0 & 0 & 0 & 0 & 0 & 0\\\\0 & 0 & 0 & 0 & \\zeta_{SO} & 0 & 0 & 0 & \\frac{\\zeta_{SO}}{2} & 0\\\\0 & 0 & 0 & 0 & 0 & 0 & 0 & 0 & 0 & \\zeta_{SO}\\end{matrix}\\right]$"
      ],
      "text/plain": [
       "Matrix([\n",
       "[\\zeta_{SO},            0,                    0,                    0,           0,           0,                    0,                    0,            0,          0],\n",
       "[         0, \\zeta_{SO}/2,                    0,                    0,           0,  \\zeta_{SO},                    0,                    0,            0,          0],\n",
       "[         0,            0,                    0,                    0,           0,           0, sqrt(6)*\\zeta_{SO}/2,                    0,            0,          0],\n",
       "[         0,            0,                    0,        -\\zeta_{SO}/2,           0,           0,                    0, sqrt(6)*\\zeta_{SO}/2,            0,          0],\n",
       "[         0,            0,                    0,                    0, -\\zeta_{SO},           0,                    0,                    0,   \\zeta_{SO},          0],\n",
       "[         0,   \\zeta_{SO},                    0,                    0,           0, -\\zeta_{SO},                    0,                    0,            0,          0],\n",
       "[         0,            0, sqrt(6)*\\zeta_{SO}/2,                    0,           0,           0,        -\\zeta_{SO}/2,                    0,            0,          0],\n",
       "[         0,            0,                    0, sqrt(6)*\\zeta_{SO}/2,           0,           0,                    0,                    0,            0,          0],\n",
       "[         0,            0,                    0,                    0,  \\zeta_{SO},           0,                    0,                    0, \\zeta_{SO}/2,          0],\n",
       "[         0,            0,                    0,                    0,           0,           0,                    0,                    0,            0, \\zeta_{SO}]])"
      ]
     },
     "metadata": {},
     "output_type": "display_data"
    },
    {
     "name": "stdout",
     "output_type": "stream",
     "text": [
      "{\\zeta_{SO}: 6, -3*\\zeta_{SO}/2: 4}\n"
     ]
    },
    {
     "data": {
      "text/latex": [
       "$\\displaystyle \\left[\\begin{matrix}\\frac{\\zeta_{SO}}{2} & 0 & 0 & 0 & 0 & - \\frac{\\sqrt{2} \\zeta_{SO}}{2} & 0 & 0 & 0 & \\frac{\\sqrt{2} \\zeta_{SO}}{2}\\\\0 & - \\frac{\\zeta_{SO}}{2} & 0 & 0 & 0 & 0 & \\frac{\\sqrt{6} \\zeta_{SO}}{2} & 0 & 0 & 0\\\\0 & 0 & - \\frac{\\zeta_{SO}}{2} & 0 & 0 & 0 & 0 & \\frac{\\sqrt{6} \\zeta_{SO}}{2} & 0 & 0\\\\0 & 0 & 0 & \\frac{\\zeta_{SO}}{2} & \\frac{\\sqrt{2} \\zeta_{SO}}{2} & 0 & 0 & 0 & \\frac{\\sqrt{2} \\zeta_{SO}}{2} & 0\\\\0 & 0 & 0 & \\frac{\\sqrt{2} \\zeta_{SO}}{2} & 0 & 0 & 0 & 0 & - \\zeta_{SO} & 0\\\\- \\frac{\\sqrt{2} \\zeta_{SO}}{2} & 0 & 0 & 0 & 0 & 0 & 0 & 0 & 0 & \\zeta_{SO}\\\\0 & \\frac{\\sqrt{6} \\zeta_{SO}}{2} & 0 & 0 & 0 & 0 & 0 & 0 & 0 & 0\\\\0 & 0 & \\frac{\\sqrt{6} \\zeta_{SO}}{2} & 0 & 0 & 0 & 0 & 0 & 0 & 0\\\\0 & 0 & 0 & \\frac{\\sqrt{2} \\zeta_{SO}}{2} & - \\zeta_{SO} & 0 & 0 & 0 & 0 & 0\\\\\\frac{\\sqrt{2} \\zeta_{SO}}{2} & 0 & 0 & 0 & 0 & \\zeta_{SO} & 0 & 0 & 0 & 0\\end{matrix}\\right]$"
      ],
      "text/plain": [
       "Matrix([\n",
       "[         \\zeta_{SO}/2,                    0,                    0,                    0,                    0, -sqrt(2)*\\zeta_{SO}/2,                    0,                    0,                    0, sqrt(2)*\\zeta_{SO}/2],\n",
       "[                    0,        -\\zeta_{SO}/2,                    0,                    0,                    0,                     0, sqrt(6)*\\zeta_{SO}/2,                    0,                    0,                    0],\n",
       "[                    0,                    0,        -\\zeta_{SO}/2,                    0,                    0,                     0,                    0, sqrt(6)*\\zeta_{SO}/2,                    0,                    0],\n",
       "[                    0,                    0,                    0,         \\zeta_{SO}/2, sqrt(2)*\\zeta_{SO}/2,                     0,                    0,                    0, sqrt(2)*\\zeta_{SO}/2,                    0],\n",
       "[                    0,                    0,                    0, sqrt(2)*\\zeta_{SO}/2,                    0,                     0,                    0,                    0,          -\\zeta_{SO},                    0],\n",
       "[-sqrt(2)*\\zeta_{SO}/2,                    0,                    0,                    0,                    0,                     0,                    0,                    0,                    0,           \\zeta_{SO}],\n",
       "[                    0, sqrt(6)*\\zeta_{SO}/2,                    0,                    0,                    0,                     0,                    0,                    0,                    0,                    0],\n",
       "[                    0,                    0, sqrt(6)*\\zeta_{SO}/2,                    0,                    0,                     0,                    0,                    0,                    0,                    0],\n",
       "[                    0,                    0,                    0, sqrt(2)*\\zeta_{SO}/2,          -\\zeta_{SO},                     0,                    0,                    0,                    0,                    0],\n",
       "[ sqrt(2)*\\zeta_{SO}/2,                    0,                    0,                    0,                    0,            \\zeta_{SO},                    0,                    0,                    0,                    0]])"
      ]
     },
     "metadata": {},
     "output_type": "display_data"
    },
    {
     "name": "stdout",
     "output_type": "stream",
     "text": [
      "{-3*\\zeta_{SO}/2: 4, \\zeta_{SO}: 6}\n"
     ]
    }
   ],
   "source": [
    "# here's just the spin-orbit contribution\n",
    "# verifying that the eigenvalues are correct in both cases \n",
    "subs = {k:0 for k in list(standard_ham.free_symbols)}\n",
    "del subs[sp.Symbol('\\\\zeta_{SO}')]\n",
    "just_SO = standard_ham.subs(subs)\n",
    "display(just_SO)\n",
    "print(just_SO.eigenvals())\n",
    "subs = {k:0 for k in list(crystal_ham.free_symbols)}\n",
    "del subs[sp.Symbol('\\\\zeta_{SO}')]\n",
    "just_SO = crystal_ham.subs(subs)\n",
    "display(just_SO)\n",
    "print(just_SO.eigenvals())"
   ]
  },
  {
   "cell_type": "markdown",
   "metadata": {},
   "source": [
    "# ⇓⇓⇓⇓ DEVELOPMENT CODE ⇓⇓⇓⇓"
   ]
  },
  {
   "cell_type": "code",
   "execution_count": 3,
   "metadata": {},
   "outputs": [
    {
     "data": {
      "text/html": [
       "<pre>✔️ 12.7 ms (2022-01-16T17:05:40/2022-01-16T17:05:40)</pre>"
      ],
      "text/plain": [
       "<IPython.core.display.HTML object>"
      ]
     },
     "metadata": {},
     "output_type": "display_data"
    }
   ],
   "source": [
    "waves = CrystalElectronsSCoupling('O',(sp.Symbol('E'),sp.Symbol('E')))"
   ]
  },
  {
   "cell_type": "code",
   "execution_count": 2,
   "metadata": {},
   "outputs": [
    {
     "data": {
      "text/html": [
       "<pre>✔️ 5.19 ms (2022-01-15T18:18:36/2022-01-15T18:18:36)</pre>"
      ],
      "text/plain": [
       "<IPython.core.display.HTML object>"
      ]
     },
     "metadata": {},
     "output_type": "display_data"
    }
   ],
   "source": [
    "# class SpinOrbital():\n",
    "#     '''\n",
    "#     Class used to represent a spin orbital.\n",
    "#     '''\n",
    "#     def __init__(self, orbital_part, spin):\n",
    "#         '''\n",
    "#         Parameters\n",
    "#         ----------\n",
    "#         orbital_part (anything, usually sp.Symbol)\n",
    "#         spin   (S_DOWN or S_UP)\n",
    "\n",
    "#         '''\n",
    "#         self.orbital = orbital_part\n",
    "#         self.spin = spin\n",
    "\n",
    "#     def __repr__(self):\n",
    "#         if self.spin == S_DOWN:\n",
    "#             return str(self.orbital) + '↓'\n",
    "#         else:\n",
    "#             return str(self.orbital) + '↑'\n",
    "    \n",
    "#     def _repr_latex_(self):\n",
    "#         if self.spin == S_UP:\n",
    "#             return '$\\\\displaystyle %s$' % str(self.orbital)\n",
    "#         else:\n",
    "#             return '$\\\\displaystyle \\\\bar{%s}$' % str(self.orbital)\n",
    "    \n",
    "#     def __eq__(self, other):\n",
    "#         return (self.spin == other.spin and self.orbital == other.orbital)\n",
    "    \n",
    "#     def __hash__(self):\n",
    "#         return hash((self.orbital, self.spin))"
   ]
  },
  {
   "cell_type": "code",
   "execution_count": 3,
   "metadata": {},
   "outputs": [
    {
     "data": {
      "text/html": [
       "<pre>✔️ 3.82 ms (2022-01-15T18:18:38/2022-01-15T18:18:38)</pre>"
      ],
      "text/plain": [
       "<IPython.core.display.HTML object>"
      ]
     },
     "metadata": {},
     "output_type": "display_data"
    }
   ],
   "source": [
    "# class CrystalElectronsSCoupling_vS():\n",
    "#     '''\n",
    "#     Couple electrons in sequence, adding one at a time.\n",
    "#     '''\n",
    "#     def __init__(self, group_label, Γs):\n",
    "#         '''\n",
    "#         Parameters\n",
    "#         ----------\n",
    "#         group_label (str): a string representing a point group\n",
    "#         Γs     (iterable): with irrep symbols\n",
    "#         '''\n",
    "#         self.Γs = Γs\n",
    "#         self.group_label = group_label\n",
    "#         self.group = CPGs.get_group_by_label(self.group_label)\n",
    "#         self.group_CGs = self.group.CG_coefficients\n",
    "#         self.flat_labels = dict(sum([list(l.items()) for l in list(new_labels[self.group_label].values())],[]))\n",
    "#         self.group_CGs = {(self.flat_labels[k[0]], self.flat_labels[k[1]], self.flat_labels[k[2]]):v for k,v in self.group_CGs.items()}\n",
    "#         self.irreps = self.group.irrep_labels\n",
    "#         self.ms = [-sp.S(1)/2, sp.S(1)/2]\n",
    "#         self.s_half = sp.S(1)/2\n",
    "#         self.component_labels = {k:list(v.values()) for k,v in new_labels[self.group_label].items()}\n",
    "#         # if its an aggregate of the same irrep\n",
    "#         same_irrep = len(set(self.Γs)) == 1\n",
    "#         if len(self.Γs) != 0:\n",
    "#             full_orbital = self.group.irrep_dims[self.Γs[0]]*2 == len(self.Γs)\n",
    "#         else:\n",
    "#             full_orbital = False\n",
    "#         if same_irrep and full_orbital:\n",
    "#             Γ = self.Γs[0]\n",
    "#             self.inequiv_waves = self.filled_shell(Γ)\n",
    "#             self.equiv_waves = self.inequiv_waves\n",
    "#         else:\n",
    "#             self.inequiv_waves = self.elec_aggregate(self.Γs)\n",
    "#             if len(self.Γs) == 1:\n",
    "#                 self.equiv_waves = self.inequiv_waves\n",
    "#             else:\n",
    "#                 self.equiv_waves = self.to_equiv_electrons()\n",
    "\n",
    "#     def __repr__(self):\n",
    "#         return 'group %s: %s (%d qets)' % (self.group_label, str(self.Γs), len(self.equiv_waves))\n",
    "\n",
    "#     def filled_shell(self, Γ):\n",
    "#         num_shell_es = self.group.irrep_dims[Γ]*2\n",
    "#         terms = tuple((None, Γ) for i in range(num_shell_es-1)) + ((0, sp.Symbol('A_1')),)\n",
    "#         the_single_ψ = Ψ(electrons = tuple(Γ for _ in range(num_shell_es)),\n",
    "#                         terms = terms,\n",
    "#                         γ = self.component_labels[sp.Symbol('A_1')][0],\n",
    "#                         S = 0,\n",
    "#                         M = 0\n",
    "#                         )\n",
    "#         the_single_qet_key = []\n",
    "#         for γ in self.component_labels[Γ]:\n",
    "#             the_single_qet_key.append(SpinOrbital(γ, S_UP))\n",
    "#             the_single_qet_key.append(SpinOrbital(γ, S_DOWN))\n",
    "#         the_single_qet_key = tuple(the_single_qet_key)\n",
    "#         the_single_qet = Qet({the_single_qet_key: 1})\n",
    "#         return {the_single_ψ: the_single_qet}\n",
    "\n",
    "#     def qet_divide(self, qet0, qet1):\n",
    "#         '''\n",
    "#         Given   two   qets,   assumed   to   be   superpositions  of\n",
    "#         determinantal states. Determine if they are collinear and if\n",
    "#         they are, provide their ratio.\n",
    "\n",
    "#         Parameters\n",
    "#         ----------\n",
    "#         qet0    (qdef.Qet) : a qet with determinantal keys.\n",
    "#         qet1    (qdef.Qet) : a qet with determinantal keys.\n",
    "\n",
    "#         Returns\n",
    "#         -------\n",
    "#         ratio (num): 0 if qets are not collinear, otherwise equal to\n",
    "#         qet0/qet1.\n",
    "\n",
    "\n",
    "#         '''\n",
    "#         if len(qet0.dict) != len(qet1.dict):\n",
    "#             return 0\n",
    "#         set0 = frozenset(map(frozenset,qet0.dict.keys()))\n",
    "#         set1 = frozenset(map(frozenset,qet1.dict.keys()))\n",
    "#         num_parts = len(qet0.dict)\n",
    "#         # a necessary condition for them to be possibly collinear\n",
    "#         # is that they should have have the same sets of quantum\n",
    "#         # numbers.\n",
    "#         if set0 != set1:\n",
    "#             return 0\n",
    "#         else:\n",
    "#             ratios = []\n",
    "#             # iterate over the quantum nums of the first qet\n",
    "#             for qet_key_0, qet_val_0 in qet0.dict.items():\n",
    "#                 set0 = set(qet_key_0)\n",
    "#                 # and determine the ratio that it has\n",
    "#                 # to all of the parts of the other qet\n",
    "#                 # allowing for reaarangmenets valid\n",
    "#                 # under determinantal state rules\n",
    "#                 for qet_key_1, qet_val_1 in qet1.dict.items():\n",
    "#                     set1 = set(qet_key_1)\n",
    "#                     if set0 == set1:\n",
    "#                         ordering = [qet_key_0.index(qk) for qk in qet_key_1]\n",
    "#                         sign = εijk(*ordering)\n",
    "#                         ratios.append(sign * qet_val_0/qet_val_1)\n",
    "#                         continue\n",
    "#         if ratios == []:\n",
    "#             return 0\n",
    "#         else:\n",
    "#             # if all of the ratios are equal\n",
    "#             # then the ratio of the two qets\n",
    "#             # is well defined\n",
    "#             if len(set(ratios)) == 1 and len(ratios) == num_parts:\n",
    "#                 return ratios[0]\n",
    "#             else:\n",
    "#                 return 0\n",
    "\n",
    "#     def det_qet_simplify(self, qet):\n",
    "#         '''\n",
    "#         Juggle with symbols to simplify a qet composed of determinantal\n",
    "#         states.\n",
    "#         '''\n",
    "#         equivalent_parts = {}\n",
    "#         standard_order = {} # this holds the standard order to which all the other list members will be referred to\n",
    "#         for ket_part_key, ket_part_coeff in qet.dict.items():\n",
    "#             set_ket = frozenset(ket_part_key)\n",
    "#             if set_ket not in equivalent_parts:\n",
    "#                 equivalent_parts[set_ket] = []\n",
    "#                 standard_order[set_ket] = ket_part_key\n",
    "#             equivalent_parts[set_ket].append((ket_part_key, ket_part_coeff))\n",
    "#         # once I've grouped them together into pices of equivalent parts\n",
    "#         # i then need to rearrange and properly sign the rearrangements\n",
    "#         det_simple = []\n",
    "#         for equivalent_key in equivalent_parts:\n",
    "#             base_order = standard_order[equivalent_key]\n",
    "#             total_coeff = 0\n",
    "#             equiv_parts = equivalent_parts[equivalent_key]\n",
    "#             for equiv_part in equiv_parts:\n",
    "#                 ordering = [base_order.index(part) for part in equiv_part[0]]\n",
    "#                 sign = εijk(*ordering)\n",
    "#                 total_coeff += sign*equiv_part[1]\n",
    "#             final = (base_order, total_coeff)\n",
    "#             if total_coeff != 0:\n",
    "#                 det_simple.append(final)\n",
    "#         return det_simple\n",
    "\n",
    "#     def adder(self, ψ_12s, Γ3):\n",
    "#         '''\n",
    "#         This function gets a dictionary of wave functions\n",
    "#         and an additional electron that needs to be added\n",
    "#         to them.\n",
    "#         '''\n",
    "#         ψ_123s = {}\n",
    "#         comps_3 = self.component_labels[Γ3]\n",
    "#         s3 = sp.S(1)/2\n",
    "\n",
    "#         for ψ_12, qet_12 in ψ_12s.items():\n",
    "#             electrons = ψ_12.electrons\n",
    "#             terms = ψ_12.terms\n",
    "#             Γ12 = terms[-1][1]\n",
    "#             γ12 = ψ_12.γ\n",
    "#             S12, M12 = ψ_12.S, ψ_12.M\n",
    "#             S123s = lrange(S12, s3)\n",
    "#             Γ123s = self.group.product_table.odict[(Γ12, Γ3)] # these are the possible Γs from Γ12XΓ3\n",
    "#             for Γ123, S123 in product(Γ123s, S123s):\n",
    "#                 M123s = mrange(S123)\n",
    "#                 γ123s = self.component_labels[Γ123]\n",
    "#                 for γ123, m3, γ3, M123 in product(γ123s, self.ms, comps_3, M123s):\n",
    "#                     sCG2 = clebschG.eva(S12, s3, S123, M12, m3, M123)\n",
    "#                     # coupling a γ12, γ3 to get a final γ\n",
    "#                     gCG2 = self.group_CGs.setdefault((γ12, γ3, γ123), 0)\n",
    "#                     coeff = sCG2 * gCG2\n",
    "#                     if coeff == 0:\n",
    "#                         continue\n",
    "#                     ψ_123 = Ψ(electrons = electrons + (Γ3,),\n",
    "#                                 terms = terms + ((S123,Γ123),),\n",
    "#                                     γ = γ123,\n",
    "#                                     S = S123,\n",
    "#                                     M = M123\n",
    "#                             )\n",
    "#                     if ψ_123 not in ψ_123s:\n",
    "#                         ψ_123s[ψ_123] = Qet({})\n",
    "#                     # γ3f = (γ3 if (m3 > 0) else bar_symbol(γ3))\n",
    "#                     γ3f = (SpinOrbital(γ3, S_UP) if (m3 > 0) else SpinOrbital(γ3, S_DOWN))\n",
    "#                     ψ_123s[ψ_123] = ψ_123s[ψ_123] + (qet_12 * Qet({(γ3f,): coeff}))\n",
    "#         return ψ_123s\n",
    "\n",
    "#     def elec_aggregate(self, Γs):\n",
    "#         '''\n",
    "#         Add them electrons one at a time.\n",
    "#         '''\n",
    "#         if len(Γs) == 0:\n",
    "#             return {}\n",
    "#         elif len(Γs) == 1:\n",
    "#             Γ1 = Γs[0]\n",
    "#             S = self.s_half\n",
    "#             ms = mrange(S)\n",
    "#             comps_1 = self.component_labels[Γ1]\n",
    "#             ψs = {}\n",
    "#             for m, γ in product(ms, comps_1):\n",
    "#                 ψ = Ψ(electrons = (Γ1,),\n",
    "#                         terms = ((S,Γ1),),\n",
    "#                         γ = γ,\n",
    "#                         S = S,\n",
    "#                         M = m\n",
    "#                         )\n",
    "#                 # γf = (γ if (m > 0) else bar_symbol(γ))\n",
    "#                 γf = (SpinOrbital(γ, S_UP) if (m > 0) else SpinOrbital(γ, S_DOWN))\n",
    "\n",
    "#                 total_ket_part_key = (γf,)\n",
    "#                 if ψ not in ψs:\n",
    "#                     ψs[ψ] = {}\n",
    "#                 if total_ket_part_key not in ψs[ψ]:\n",
    "#                     ψs[ψ][total_ket_part_key] = 0\n",
    "#                 ψs[ψ][total_ket_part_key] = 1\n",
    "#             ψs = {k : Qet(v) for k,v in ψs.items()} \n",
    "#             return ψs\n",
    "#         elif len(Γs) == 2:\n",
    "#             s1, s2 = self.s_half, self.s_half\n",
    "#             Γ1, Γ2 = Γs\n",
    "#             comps_1, comps_2 = [self.component_labels[ir] for ir in [Γ1, Γ2]]\n",
    "#             # the intermediate irreps belong to the reduction of Γ1 X Γ2\n",
    "#             Γ12s = self.group.product_table.odict[(Γ1, Γ2)] \n",
    "#             # this is just [0,1] as for the total angular momentum of the intermediate states\n",
    "#             S12s = lrange(s1,s2) \n",
    "#             ψ_12s = {}\n",
    "\n",
    "#             for γ1, γ2, m1, m2, Γ12, S12 in product(comps_1, comps_2, self.ms, self.ms, Γ12s, S12s):\n",
    "#                 comps_12 = self.component_labels[Γ12]\n",
    "#                 M12s = mrange(S12)\n",
    "#                 for γ12, M12 in product(comps_12, M12s):\n",
    "#                     ψ = Ψ(electrons = (Γ1, Γ2),\n",
    "#                         terms = ((s1,Γ1),(s2,Γ2),(S12,Γ12)),\n",
    "#                         γ = γ12,\n",
    "#                         S = S12,\n",
    "#                         M = M12\n",
    "#                         )\n",
    "#                     # summing s1 and s2 to yield S12\n",
    "#                     sCG1 = clebschG.eva(s1, s2, S12, m1, m2, M12)\n",
    "#                     # coupling a γ1, γ2 to get a γ12\n",
    "#                     gCG1 = self.group_CGs.setdefault((γ1, γ2, γ12), 0)\n",
    "#                     coeff = sCG1 * gCG1\n",
    "#                     if coeff == 0:\n",
    "#                         continue\n",
    "#                     # collect in the dictionary all the parts that correspond to the sums\n",
    "#                     if ψ not in ψ_12s:\n",
    "#                         ψ_12s[ψ] = {}\n",
    "#                     # γ1f = (γ1 if (m1 > 0) else bar_symbol(γ1))\n",
    "#                     # γ2f = (γ2 if (m2 > 0) else bar_symbol(γ2))\n",
    "#                     γ1f = (SpinOrbital(γ1, S_UP) if (m1 > 0) else SpinOrbital(γ1, S_DOWN))\n",
    "#                     γ2f = (SpinOrbital(γ2, S_UP) if (m2 > 0) else SpinOrbital(γ2, S_DOWN))\n",
    "#                     total_ket_part_key = (γ1f, γ2f)\n",
    "#                     if total_ket_part_key not in ψ_12s[ψ]:\n",
    "#                         ψ_12s[ψ][total_ket_part_key] = 0\n",
    "#                     ψ_12s[ψ][total_ket_part_key] += coeff\n",
    "#             ψ_12s = {k : Qet(v) for k,v in ψ_12s.items()} \n",
    "#             return ψ_12s\n",
    "#         else:\n",
    "#             Γ_train, Γ_last = Γs[:-1], Γs[-1]\n",
    "#             # decimate until only two electrons are added\n",
    "#             ψ_totals = self.adder(\n",
    "#                             self.elec_aggregate(Γ_train),\n",
    "#                             Γ_last\n",
    "#                                  )\n",
    "#             return ψ_totals\n",
    "        \n",
    "#     def to_equiv_electrons(self):\n",
    "#         '''\n",
    "#         To  account  for  electrons  being equivalent it suffices to\n",
    "#         interpret  each  tuple of symbols under the keys of each qet\n",
    "#         to  be  a slater determinant in turn this allows simplifying\n",
    "#         the  qets  to  account  for the symmetries under exchange of\n",
    "#         symbols/electrons inside the keys\n",
    "#         '''\n",
    "\n",
    "#         ψ_totals = self.inequiv_waves\n",
    "#         simplified_kets = {}\n",
    "#         for ψ_123, qet_123 in ψ_totals.items():\n",
    "#             qet_simplified = self.det_qet_simplify(qet_123)\n",
    "#             if len(qet_simplified) != 0:\n",
    "#                     simplified_kets[ψ_123] = Qet(dict(qet_simplified))\n",
    "#                     the_normalizer = 1/simplified_kets[ψ_123].norm()\n",
    "#                     simplified_kets[ψ_123] = the_normalizer*simplified_kets[ψ_123]\n",
    "\n",
    "#         # The same qet might have been arrived at by different paths, the only\n",
    "#         # difference begin an overall phase.\n",
    "#         # This last step only keeps the qets that are non-equivalent.\n",
    "\n",
    "#         full_det_qets = []\n",
    "#         qsymbs = []\n",
    "#         for total_ket_key_0, simple_ket_0 in simplified_kets.items():\n",
    "#             ratios = []\n",
    "#             for simple_ket_1 in full_det_qets:\n",
    "#                 divvy = self.qet_divide(simple_ket_0, simple_ket_1)\n",
    "#                 ratios.append(divvy==0)\n",
    "#             ratios = sum(ratios)\n",
    "#             if ratios == len(full_det_qets):\n",
    "#                 full_det_qets.append(simple_ket_0)\n",
    "#                 qsymbs.append(total_ket_key_0)\n",
    "#         full_det_qets = dict(zip(qsymbs, full_det_qets))\n",
    "#         return full_det_qets"
   ]
  },
  {
   "cell_type": "code",
   "execution_count": 4,
   "metadata": {},
   "outputs": [
    {
     "data": {
      "text/html": [
       "<pre>✔️ 15 ms (2022-01-15T18:18:40/2022-01-15T18:18:40)</pre>"
      ],
      "text/plain": [
       "<IPython.core.display.HTML object>"
      ]
     },
     "metadata": {},
     "output_type": "display_data"
    }
   ],
   "source": [
    "waves = CrystalElectronsSCoupling_vS('O',(sp.Symbol('E'),sp.Symbol('E')))"
   ]
  },
  {
   "cell_type": "code",
   "execution_count": 5,
   "metadata": {},
   "outputs": [
    {
     "data": {
      "text/html": [
       "<pre>✔️ 599 µs (2022-01-15T18:18:40/2022-01-15T18:18:40)</pre>"
      ],
      "text/plain": [
       "<IPython.core.display.HTML object>"
      ]
     },
     "metadata": {},
     "output_type": "display_data"
    }
   ],
   "source": [
    "qets = list(waves.equiv_waves.values())\n",
    "qet0 = qets[0]\n",
    "qet1 = qets[1]"
   ]
  },
  {
   "cell_type": "code",
   "execution_count": 6,
   "metadata": {},
   "outputs": [
    {
     "data": {
      "text/html": [
       "<pre>✔️ 971 µs (2022-01-15T18:18:41/2022-01-15T18:18:41)</pre>"
      ],
      "text/plain": [
       "<IPython.core.display.HTML object>"
      ]
     },
     "metadata": {},
     "output_type": "display_data"
    }
   ],
   "source": [
    "# equivalent_parts = {}\n",
    "# standard_order = {} # this holds the standard order to which all the other list members will be referred to\n",
    "# for ket_part_key, ket_part_coeff in qet0.dict.items():\n",
    "#     set_ket = frozenset(ket_part_key)\n",
    "#     if set_ket not in equivalent_parts:\n",
    "#         equivalent_parts[set_ket] = []\n",
    "#         standard_order[set_ket] = ket_part_key\n",
    "#     equivalent_parts[set_ket].append((ket_part_key, ket_part_coeff))\n",
    "# det_simple = []\n",
    "# for equivalent_key in equivalent_parts:\n",
    "#     base_order = standard_order[equivalent_key]\n",
    "#     total_coeff = 0\n",
    "#     equiv_parts = equivalent_parts[equivalent_key]\n",
    "#     for equiv_part in equiv_parts:\n",
    "#         ordering = [base_order.index(part) for part in equiv_part[0]]\n",
    "#         sign = εijk(*ordering)\n",
    "#         total_coeff += sign*equiv_part[1]\n",
    "#     final = (base_order, total_coeff)\n",
    "#     if total_coeff != 0:\n",
    "#         det_simple.append(final)"
   ]
  },
  {
   "cell_type": "code",
   "execution_count": 77,
   "metadata": {},
   "outputs": [
    {
     "data": {
      "text/html": [
       "<pre>✔️ 32.4 ms (2022-01-17T17:41:49/2022-01-17T17:41:49)</pre>"
      ],
      "text/plain": [
       "<IPython.core.display.HTML object>"
      ]
     },
     "metadata": {},
     "output_type": "display_data"
    }
   ],
   "source": [
    "# from sympy.physics.quantum import KetBase\n",
    "# class DetKet(KetBase):\n",
    "#     lbracket_latex = r'\\left|'\n",
    "#     rbracket_latex = r'\\right|\\rangle'\n",
    "\n",
    "# class DetBra(KetBase):\n",
    "#     lbracket_latex = r'\\langle\\left|'\n",
    "#     rbracket_latex = r'\\right|'"
   ]
  },
  {
   "cell_type": "code",
   "execution_count": 82,
   "metadata": {},
   "outputs": [
    {
     "data": {
      "text/html": [
       "<pre>✔️ 1.43 ms (2022-01-17T17:42:12/2022-01-17T17:42:12)</pre>"
      ],
      "text/plain": [
       "<IPython.core.display.HTML object>"
      ]
     },
     "metadata": {},
     "output_type": "display_data"
    }
   ],
   "source": [
    "# qat0 = Qat({(0,1):1,(1,3):5})\n",
    "# qat1 = Qat({(0,2):1,(1,3):5})"
   ]
  },
  {
   "cell_type": "code",
   "execution_count": 7,
   "metadata": {},
   "outputs": [
    {
     "data": {
      "text/html": [
       "<pre>✔️ 4.37 ms (2022-01-15T18:18:44/2022-01-15T18:18:44)</pre>"
      ],
      "text/plain": [
       "<IPython.core.display.HTML object>"
      ]
     },
     "metadata": {},
     "output_type": "display_data"
    }
   ],
   "source": [
    "# class CrystalElectronsLLCoupling_vS():\n",
    "#     '''\n",
    "#     Couple two groups of electrons in one fell swoop.\n",
    "#     '''\n",
    "#     def __init__(self, group_label, Γ1s, Γ2s):\n",
    "#         '''\n",
    "#         group_label (str): label for a crystallographic point group\n",
    "#         Γ1s    (2-tuple): (irrep_symbol (sp.Symbol), num_electrons (int))\n",
    "#         Γ2s    (2-tuple): (irrep_symbol (sp.Symbol), num_electrons (int))\n",
    "#         '''\n",
    "#         if len(Γ1s) == 0:\n",
    "#             self.Γ1s = []\n",
    "#         else:\n",
    "#             self.Γ1s = [Γ1s[0] for _ in range(Γ1s[1])]\n",
    "#         if len(Γ2s) == 0:\n",
    "#             self.Γ2s = []\n",
    "#         else:\n",
    "#             self.Γ2s = [Γ2s[0] for _ in range(Γ2s[1])]\n",
    "#         self.crystalelectron0 = CrystalElectronsSCoupling_vS(group_label, self.Γ1s)\n",
    "#         self.crystalelectron1 = CrystalElectronsSCoupling_vS(group_label, self.Γ2s)\n",
    "#         self.group_label = group_label\n",
    "#         self.group = CPGs.get_group_by_label(self.group_label)\n",
    "#         self.group_CGs = self.group.CG_coefficients\n",
    "#         self.flat_labels = dict(sum([list(l.items()) for l in list(new_labels[self.group_label].values())],[]))\n",
    "#         self.group_CGs = {(self.flat_labels[k[0]], self.flat_labels[k[1]], self.flat_labels[k[2]]):v for k,v in self.group_CGs.items()}\n",
    "#         self.irreps = self.group.irrep_labels\n",
    "#         self.ms = [S_DOWN, S_UP]\n",
    "#         self.s_half = S_HALF\n",
    "#         self.component_labels = {k:list(v.values()) for k,v in new_labels[self.group_label].items()}\n",
    "#         self.equiv_waves = self.wave_muxer(self.crystalelectron0.equiv_waves,\n",
    "#                                      self.crystalelectron1.equiv_waves)\n",
    "#         self.equiv_waves = self.to_equiv_electrons(self.equiv_waves)\n",
    "\n",
    "#     def __repr__(self):\n",
    "#         if len(self.Γ1s) == 0:\n",
    "#             return 'group %s: %s^%d (%d qets)' % (self.group_label, self.Γ2s[0], len(self.Γ2s), len(self.equiv_waves))\n",
    "#         elif len(self.Γ2s) == 0:\n",
    "#             return 'group %s: %s^%d (%d qets)' % (self.group_label, self.Γ1s[0], len(self.Γ1s), len(self.equiv_waves))\n",
    "#         else:\n",
    "#             return 'group %s: %s^%d X %s^%d (%d qets)' % (self.group_label, self.Γ1s[0], len(self.Γ1s), self.Γ2s[0], len(self.Γ2s), len(self.equiv_waves))\n",
    "    \n",
    "#     def wave_muxer(self, ψ_12s, ψ_34s):\n",
    "#         '''\n",
    "#         Takes two dictionaries of wavefunctions and couples them.\n",
    "#         For reference, see STK equation (3.20).\n",
    "\n",
    "#         Parameters\n",
    "#         ----------\n",
    "#         ψ_12s (dict): whose keys are ψ namedtuples and whose values are qets.\n",
    "#         ψ_34s (dict): whose keys are ψ namedtuples and whose values are qets.\n",
    "\n",
    "#         Returns\n",
    "#         -------\n",
    "#         ψ_1234s (dict): whose keys are ψ namedtuples and whose values are qets.\n",
    "\n",
    "#         '''\n",
    "\n",
    "#         if len(ψ_34s)== 0:\n",
    "#             return ψ_12s\n",
    "#         if len(ψ_12s) == 0:\n",
    "#             return ψ_34s\n",
    "#         ψ_1234s = {}\n",
    "#         for ψ_12, qet_12 in ψ_12s.items():\n",
    "#             electrons12 = ψ_12.electrons\n",
    "#             terms12 = ψ_12.terms\n",
    "#             Γ12 = terms12[-1][1]\n",
    "#             γ12 = ψ_12.γ\n",
    "#             S12, M12 = ψ_12.S, ψ_12.M\n",
    "#             for ψ_34, qet_34 in ψ_34s.items():\n",
    "#                 electrons34 = ψ_34.electrons\n",
    "#                 terms34 = ψ_34.terms\n",
    "#                 Γ34 = terms34[-1][1]\n",
    "#                 γ34 = ψ_34.γ\n",
    "#                 S34, M34 = ψ_34.S, ψ_34.M\n",
    "#                 S1234s = lrange(S12, S34)\n",
    "#                 Γ1234s = self.group.product_table.odict[(Γ12, Γ34)]\n",
    "#                 for Γ1234, S1234 in product(Γ1234s, S1234s):\n",
    "#                     M1234s = mrange(S1234)\n",
    "#                     γ1234s = self.component_labels[Γ1234]\n",
    "#                     for γ1234, M1234 in product(γ1234s, M1234s):\n",
    "#                         sCG2 = clebschG.eva(S12, S34, S1234, M12, M34, M1234)\n",
    "#                         # coupling a γ12, γ34 to get a final γ1234\n",
    "#                         gCG2 = self.group_CGs.setdefault((γ12, γ34, γ1234), 0)\n",
    "#                         coeff = sCG2 * gCG2\n",
    "#                         if coeff == 0:\n",
    "#                             continue\n",
    "#                         ψ_1234 = Ψ(electrons = electrons12 + electrons34,\n",
    "#                                     terms = (terms12[-1], terms34[-1], (S1234, Γ1234)),\n",
    "#                                         γ = γ1234,\n",
    "#                                         S = S1234,\n",
    "#                                         M = M1234\n",
    "#                                 )\n",
    "#                         if ψ_1234 not in ψ_1234s:\n",
    "#                             ψ_1234s[ψ_1234] = Qet({})\n",
    "#                         # γ3f = (γ3 if (m3 > 0) else bar_symbol(γ3))\n",
    "#                         ψ_1234s[ψ_1234] = ψ_1234s[ψ_1234] + coeff* (qet_12 * qet_34)\n",
    "#         return ψ_1234s\n",
    "\n",
    "#     def qet_divide(self, qet0, qet1):\n",
    "#         '''\n",
    "#         Given   two   qets,   assumed   to   be   superpositions  of\n",
    "#         determinantal states. Determine if they are collinear and if\n",
    "#         they are, provide their ratio.\n",
    "\n",
    "#         Parameters\n",
    "#         ----------\n",
    "#         qet0    (qdef.Qet) : a qet with determinantal keys.\n",
    "#         qet1    (qdef.Qet) : a qet with determinantal keys.\n",
    "\n",
    "#         Returns\n",
    "#         -------\n",
    "#         ratio (num): 0 if qets are not collinear, otherwise equal to\n",
    "#         qet0/qet1.\n",
    "\n",
    "#         '''\n",
    "#         if len(qet0.dict) != len(qet1.dict):\n",
    "#             return 0\n",
    "#         set0 = frozenset(map(frozenset,qet0.dict.keys()))\n",
    "#         set1 = frozenset(map(frozenset,qet1.dict.keys()))\n",
    "#         num_parts = len(qet0.dict)\n",
    "#         # a necessary condition for them to be possibly collinear\n",
    "#         # is that they should have have the same sets of quantum\n",
    "#         # numbers.\n",
    "#         if set0 != set1:\n",
    "#             return 0\n",
    "#         else:\n",
    "#             ratios = []\n",
    "#             # iterate over the quantum nums of the first qet\n",
    "#             for qet_key_0, qet_val_0 in qet0.dict.items():\n",
    "#                 set0 = set(qet_key_0)\n",
    "#                 # and determine the ratio that it has\n",
    "#                 # to all of the parts of the other qet\n",
    "#                 # allowing for reaarangmenets valid\n",
    "#                 # under determinantal state rules\n",
    "#                 for qet_key_1, qet_val_1 in qet1.dict.items():\n",
    "#                     set1 = set(qet_key_1)\n",
    "#                     if set0 == set1:\n",
    "#                         ordering = [qet_key_0.index(qk) for qk in qet_key_1]\n",
    "#                         sign = εijk(*ordering)\n",
    "#                         ratios.append(sign * qet_val_0/qet_val_1)\n",
    "#                         continue\n",
    "#         if ratios == []:\n",
    "#             return 0\n",
    "#         else:\n",
    "#             # if all of the ratios are equal\n",
    "#             # then the ratio of the two qets\n",
    "#             # is well defined\n",
    "#             if len(set(ratios)) == 1 and len(ratios) == num_parts:\n",
    "#                 return ratios[0]\n",
    "#             else:\n",
    "#                 return 0\n",
    "\n",
    "#     def det_qet_simplify(self, qet):\n",
    "#         '''\n",
    "#         When a qet is composed of determinantal quantum symbols one may\n",
    "#         juggle the ordering to simplify their corresponding qets.\n",
    "#         '''\n",
    "#         equivalent_parts = {}\n",
    "#         standard_order = {} # this holds the standard order to which all the other list members will be referred to\n",
    "#         for ket_part_key, ket_part_coeff in qet.dict.items():\n",
    "#             set_ket = frozenset(ket_part_key)\n",
    "#             if set_ket not in equivalent_parts:\n",
    "#                 equivalent_parts[set_ket] = []\n",
    "#                 standard_order[set_ket] = ket_part_key\n",
    "#             equivalent_parts[set_ket].append((ket_part_key, ket_part_coeff))\n",
    "#         # once I've grouped them together into pices of equivalent parts\n",
    "#         # i then need to rearrange and properly sign the rearrangements\n",
    "#         det_simple = []\n",
    "#         for equivalent_key in equivalent_parts:\n",
    "#             base_order = standard_order[equivalent_key]\n",
    "#             total_coeff = 0\n",
    "#             equiv_parts = equivalent_parts[equivalent_key]\n",
    "#             for equiv_part in equiv_parts:\n",
    "#                 ordering = [base_order.index(part) for part in equiv_part[0]]\n",
    "#                 sign = εijk(*ordering)\n",
    "#                 total_coeff += sign*equiv_part[1]\n",
    "#             final = (base_order, total_coeff)\n",
    "#             if total_coeff != 0:\n",
    "#                 det_simple.append(final)\n",
    "#         return det_simple\n",
    "\n",
    "#     def to_equiv_electrons(self, waves):\n",
    "#         '''\n",
    "#         To  account  for  electrons  being equivalent it suffices to\n",
    "#         interpret  each  tuple of symbols under the keys of each qet\n",
    "#         to  be  a slater determinant in turn this allows simplifying\n",
    "#         the  qets  to  account  for the symmetries under exchange of\n",
    "#         symbols/electrons inside the keys\n",
    "#         '''\n",
    "\n",
    "#         ψ_totals = waves\n",
    "#         simplified_kets = {}\n",
    "#         for ψ_123, qet_123 in ψ_totals.items():\n",
    "#             qet_simplified = self.det_qet_simplify(qet_123)\n",
    "#             if len(qet_simplified) != 0:\n",
    "#                     simplified_kets[ψ_123] = Qet(dict(qet_simplified))\n",
    "#                     the_normalizer = 1/simplified_kets[ψ_123].norm()\n",
    "#                     simplified_kets[ψ_123] = the_normalizer*simplified_kets[ψ_123]\n",
    "\n",
    "#         # The same qet might have been arrived at by different paths, the only\n",
    "#         # difference begin an overall phase.\n",
    "#         # This last step only keeps the qets that are non-equivalent.\n",
    "\n",
    "#         full_det_qets = []\n",
    "#         qsymbs = []\n",
    "#         for total_ket_key_0, simple_ket_0 in simplified_kets.items():\n",
    "#             ratios = []\n",
    "#             for simple_ket_1 in full_det_qets:\n",
    "#                 divvy = self.qet_divide(simple_ket_0, simple_ket_1)\n",
    "#                 ratios.append(divvy==0)\n",
    "#             ratios = sum(ratios)\n",
    "#             if ratios == len(full_det_qets):\n",
    "#                 full_det_qets.append(simple_ket_0)\n",
    "#                 qsymbs.append(total_ket_key_0)\n",
    "#         full_det_qets = dict(zip(qsymbs, full_det_qets))\n",
    "#         return full_det_qets"
   ]
  },
  {
   "cell_type": "code",
   "execution_count": 8,
   "metadata": {},
   "outputs": [
    {
     "data": {
      "text/html": [
       "<pre>✔️ 46.2 ms (2022-01-15T18:18:45/2022-01-15T18:18:45)</pre>"
      ],
      "text/plain": [
       "<IPython.core.display.HTML object>"
      ]
     },
     "metadata": {},
     "output_type": "display_data"
    }
   ],
   "source": [
    "waves_old = CrystalElectronsLLCoupling('O',(sp.Symbol('E'),1),(sp.Symbol('T_2'),1))"
   ]
  },
  {
   "cell_type": "code",
   "execution_count": 9,
   "metadata": {},
   "outputs": [
    {
     "data": {
      "text/html": [
       "<pre>✔️ 15.7 ms (2022-01-15T18:18:46/2022-01-15T18:18:47)</pre>"
      ],
      "text/plain": [
       "<IPython.core.display.HTML object>"
      ]
     },
     "metadata": {},
     "output_type": "display_data"
    }
   ],
   "source": [
    "waves_new = CrystalElectronsLLCoupling_vS('O',(sp.Symbol('E'),1),(sp.Symbol('T_2'),1))"
   ]
  },
  {
   "cell_type": "code",
   "execution_count": 10,
   "metadata": {},
   "outputs": [
    {
     "data": {
      "text/html": [
       "<pre>✔️ 1.49 ms (2022-01-15T18:18:47/2022-01-15T18:18:47)</pre>"
      ],
      "text/plain": [
       "<IPython.core.display.HTML object>"
      ]
     },
     "metadata": {},
     "output_type": "display_data"
    }
   ],
   "source": [
    "newqets = list(waves_new.equiv_waves.values())\n",
    "nqet0 = newqets[0]\n",
    "nqet1 = newqets[1]\n",
    "\n",
    "oldqets = list(waves_old.equiv_waves.values())\n",
    "oqet0 = oldqets[0]\n",
    "oqet1 = oldqets[1]"
   ]
  },
  {
   "cell_type": "code",
   "execution_count": 11,
   "metadata": {},
   "outputs": [
    {
     "data": {
      "text/html": [
       "<pre>✔️ 3.39 ms (2022-01-15T18:18:48/2022-01-15T18:18:48)</pre>"
      ],
      "text/plain": [
       "<IPython.core.display.HTML object>"
      ]
     },
     "metadata": {},
     "output_type": "display_data"
    }
   ],
   "source": [
    "# full_braket = []\n",
    "# nqet0 = nqet0.dual()\n",
    "# for det0, coeff0 in nqet0.dict.items():\n",
    "#     set0 = set(det0)\n",
    "#     for det1, coeff1 in nqet1.dict.items():\n",
    "#         # before  given  value to the braket it is necessary\n",
    "#         # to  align  the symbols in the determinantal states\n",
    "#         # and keep track of the reordering sign\n",
    "#         set1 = set(det1)\n",
    "#         # there should be no repeat symbols in any determinantal state\n",
    "#         assert len(set0) == len(det0) and len(set1) == len(det1), \"There's something funny here ...\"\n",
    "#         common_symbs = list(set0.intersection(set1))\n",
    "#         different_symbs0 = [x for x in det0 if x not in common_symbs]\n",
    "#         different_symbs1 = [x for x in det1 if x not in common_symbs]\n",
    "#         newdet0 = different_symbs0 + common_symbs\n",
    "#         newdet1 = different_symbs1 + common_symbs\n",
    "#         ordering0 = [det0.index(x) for x in newdet0]\n",
    "#         ordering1 = [det1.index(x) for x in newdet1]\n",
    "#         extra_sign = εijk(*ordering0) * εijk(*ordering1)\n",
    "#         total_coeff = coeff0 * coeff1 * extra_sign\n",
    "#         odet0 = newdet0\n",
    "#         odet1 = newdet1\n",
    "#         comparisons = list(map(lambda x: x[0]==x[1], zip(odet0, odet1)))\n",
    "#         if all(comparisons):\n",
    "#             # CASE I\n",
    "#             single_brakets = [((φ, φ), total_coeff) for φ in odet0]\n",
    "#         elif (odet0[0] != odet1[0]) and all(comparisons[1:]):\n",
    "#             # CASE II\n",
    "#             single_brakets = [((odet0[0],\n",
    "#                                     odet1[0]), total_coeff)]\n",
    "#         elif (odet0[0] != odet1[0]) and (odet0[1] != odet1[1]):\n",
    "#             # CASE III\n",
    "#             single_brakets = []\n",
    "#         else:\n",
    "#             raise Exception(\"Ooops, This case shouldn't occur\")\n",
    "#         full_braket.extend(single_brakets)\n",
    "# full_braket = sum([Qet({k:v}) for k,v in full_braket],Qet({}))"
   ]
  },
  {
   "cell_type": "code",
   "execution_count": 12,
   "metadata": {},
   "outputs": [
    {
     "data": {
      "text/html": [
       "<pre>✔️ 1.07 ms (2022-01-15T18:18:49/2022-01-15T18:18:49)</pre>"
      ],
      "text/plain": [
       "<IPython.core.display.HTML object>"
      ]
     },
     "metadata": {},
     "output_type": "display_data"
    }
   ],
   "source": []
  },
  {
   "cell_type": "code",
   "execution_count": 13,
   "metadata": {},
   "outputs": [
    {
     "data": {
      "text/html": [
       "<pre>✔️ 3.08 ms (2022-01-15T18:18:50/2022-01-15T18:18:50)</pre>"
      ],
      "text/plain": [
       "<IPython.core.display.HTML object>"
      ]
     },
     "metadata": {},
     "output_type": "display_data"
    }
   ],
   "source": [
    "class DetKet(KetBase):\n",
    "    lbracket_latex = r'\\left|'\n",
    "    rbracket_latex = r'\\right|\\rangle'\n",
    "\n",
    "class DetBra(KetBase):\n",
    "    lbracket_latex = r'\\langle\\left|'\n",
    "    rbracket_latex = r'\\right|'"
   ]
  },
  {
   "cell_type": "code",
   "execution_count": 92,
   "metadata": {},
   "outputs": [
    {
     "data": {
      "text/html": [
       "<pre>✔️ 2.55 ms (2022-01-15T18:50:42/2022-01-15T18:50:42)</pre>"
      ],
      "text/plain": [
       "<IPython.core.display.HTML object>"
      ]
     },
     "metadata": {},
     "output_type": "display_data"
    }
   ],
   "source": [
    "# def to_slater_params_vS(qnums, coeff):\n",
    "#     '''\n",
    "#     This function will take a set of qnums that are assumed to be l1, m1, l2, m2, l1p, m1p, l2p, m2p\n",
    "#     and will return a set of qnums that correspond to slater integrals and corresponding coefficients.\n",
    "#     '''\n",
    "#     # print(\"afresh\")\n",
    "#     l1, m1, s1, l2, m2, s2, l1p, m1p, s1p, l2p, m2p, s2p = qnums\n",
    "#     if not(KroneckerDelta(s1,s1p) and KroneckerDelta(s2,s2p)):\n",
    "#         return {}\n",
    "#     elif KroneckerDelta(m1+m2, m1p+m2p):\n",
    "#         if (m1 - m1p) % 2 == 0:\n",
    "#             phase = 1\n",
    "#         else:\n",
    "#             phase = -1\n",
    "#         new_dict = {}\n",
    "#         for k in range(6):\n",
    "#             key = sp.Symbol('F^{(%d)}' % k)\n",
    "#             c1 = (sp.sqrt((4*sp.pi) / (2*k+1)) \n",
    "#                     * threeHarmonicIntegral(l1,   m1,\n",
    "#                                             k,   (m1 - m1p),\n",
    "#                                             l1p, m1p))\n",
    "#             c2 = (sp.sqrt((4*sp.pi) / (2*k+1)) \n",
    "#                     * threeHarmonicIntegral(l2,  m2,\n",
    "#                                             k,   (m2-m2p),\n",
    "#                                             l2p, m2p))\n",
    "#             val = phase * coeff * c1 * c2\n",
    "#             if val:\n",
    "#                 new_dict[key] = val\n",
    "#         return new_dict\n",
    "#     else:\n",
    "#         return {}"
   ]
  },
  {
   "cell_type": "code",
   "execution_count": 93,
   "metadata": {},
   "outputs": [
    {
     "data": {
      "text/html": [
       "<pre>✔️ 25.7 ms (2022-01-15T18:50:43/2022-01-15T18:50:43)</pre>"
      ],
      "text/plain": [
       "<IPython.core.display.HTML object>"
      ]
     },
     "metadata": {},
     "output_type": "display_data"
    }
   ],
   "source": [
    "# def single_electron_braket_vS(qet0, qet1):\n",
    "#     '''\n",
    "#     Given  two qets, assumed to be composed of determinantal states, and a\n",
    "#     single-electron operator return the value of the braket\n",
    "    \n",
    "#       <qet0| \\sum_1^N op_i |qet1>\n",
    "\n",
    "#     in terms of brakets of single electron orbitals.\n",
    "\n",
    "#     Spin is assumed to be integrated in the notation for the symbols where\n",
    "#     a  symbol  that  is  adorned with an upper bar is assumed to have spin\n",
    "#     down and one without to have spin up.\n",
    "\n",
    "#     This function assumes that the operator does not act on spin.\n",
    "\n",
    "#     Parameters\n",
    "#     ----------\n",
    "#     qet0       (qdefcore.Qet): another qet\n",
    "#     qet1       (qdefcore.Qet): a qet\n",
    "#     erase_spin (bool)        : if True then spin bars are removed in output\n",
    "\n",
    "#     Returns\n",
    "#     -------\n",
    "#     full_braket  (qdefcore.Qet): with each key having three symbols, first\n",
    "#     one  equal  to  a  single  electron  orbital,  second one equal to the\n",
    "#     provided  single electron operator, and the third one equal to another\n",
    "#     single electron orbital. Interpreted as <φi | (op)* | φj>.\n",
    "\n",
    "#     *  The  operator  is omitted and is assumed to be in the middle of the\n",
    "#     two symbols.\n",
    "\n",
    "#     References\n",
    "#     ----------\n",
    "#     -   \"Multiplets of Transition-Metal Ions in Crystals\", Chapter 3\n",
    "#         Sugano, Tanabe, and Kamimura\n",
    "#     '''\n",
    "#     full_braket = []\n",
    "#     qet0 = qet0.dual()\n",
    "#     for det0, coeff0 in qet0.dict.items():\n",
    "#         set0 = set(det0)\n",
    "#         for det1, coeff1 in qet1.dict.items():\n",
    "#             # before  given  value to the braket it is necessary\n",
    "#             # to  align  the symbols in the determinantal states\n",
    "#             # and keep track of the reordering sign\n",
    "#             set1 = set(det1)\n",
    "#             # there should be no repeat symbols in any determinantal state\n",
    "#             assert len(set0) == len(det0) and len(set1) == len(det1), \"There's something funny here ...\"\n",
    "#             common_symbs = list(set0.intersection(set1))\n",
    "#             different_symbs0 = [x for x in det0 if x not in common_symbs]\n",
    "#             different_symbs1 = [x for x in det1 if x not in common_symbs]\n",
    "#             newdet0 = different_symbs0 + common_symbs\n",
    "#             newdet1 = different_symbs1 + common_symbs\n",
    "#             ordering0 = [det0.index(x) for x in newdet0]\n",
    "#             ordering1 = [det1.index(x) for x in newdet1]\n",
    "#             extra_sign = εijk(*ordering0) * εijk(*ordering1)\n",
    "#             total_coeff = coeff0 * coeff1 * extra_sign\n",
    "#             odet0 = newdet0\n",
    "#             odet1 = newdet1\n",
    "#             comparisons = list(map(lambda x: x[0]==x[1], zip(odet0, odet1)))\n",
    "#             if all(comparisons):\n",
    "#                 # CASE I\n",
    "#                 single_brakets = [((φ, φ), total_coeff) for φ in odet0]\n",
    "#             elif (odet0[0] != odet1[0]) and all(comparisons[1:]):\n",
    "#                 # CASE II\n",
    "#                 single_brakets = [((odet0[0],\n",
    "#                                         odet1[0]), total_coeff)]\n",
    "#             elif (odet0[0] != odet1[0]) and (odet0[1] != odet1[1]):\n",
    "#                 # CASE III\n",
    "#                 single_brakets = []\n",
    "#             else:\n",
    "#                 raise Exception(\"Ooops, This case shouldn't occur\")\n",
    "#             full_braket.extend(single_brakets)\n",
    "#     full_braket = sum([Qet({k:v}) for k,v in full_braket],Qet({}))\n",
    "#     return full_braket"
   ]
  },
  {
   "cell_type": "code",
   "execution_count": 94,
   "metadata": {},
   "outputs": [
    {
     "data": {
      "text/html": [
       "<pre>✔️ 10.2 ms (2022-01-15T18:50:43/2022-01-15T18:50:43)</pre>"
      ],
      "text/plain": [
       "<IPython.core.display.HTML object>"
      ]
     },
     "metadata": {},
     "output_type": "display_data"
    }
   ],
   "source": [
    "# def double_electron_braket_vS(qet0, qet1):\n",
    "#     '''\n",
    "#     Given  two  qets,  which  are  assumed to be composed of determinantal\n",
    "#     states, and a two electron operator op, return value of the braket\n",
    "\n",
    "#       <qet0| \\sum_{i>j=1}^N f_i,j |qet1> \n",
    "    \n",
    "#     in terms of brakets of double electron orbitals.\n",
    "\n",
    "#     Spin is assumed to be integrated in the notation for the symbols where\n",
    "#     a  symbol  that  is  adorned with an upper bar is assumed to have spin\n",
    "#     down and one without to have spin up.\n",
    "\n",
    "#     This function assumes that the operator does not act on spin.\n",
    "\n",
    "#     Parameters\n",
    "#     ----------\n",
    "#     qet0    (qdefcore.Qet): a qet of determinantal states\n",
    "#     qet1    (qdefcore.Qet): a qet of determinantal states\n",
    "#     strip_spin      (bool): if True then spin bars are removed in output\n",
    "\n",
    "#     Returns\n",
    "#     -------\n",
    "#     full_braket  (qdefcore.Qet):  with each key having five symbols, first\n",
    "#     two equal to a two electron orbitals, middle one equal to the provided\n",
    "#     double  electron  operator,  and the last two equal to another pair of\n",
    "#     two  single  electron  orbitals;  interpreted as <φi, φj | (op)* | φk,\n",
    "#     φl>. \n",
    "    \n",
    "#     *  The  operator  is omitted and is assumed to be in the middle of the\n",
    "#     four symbols.\n",
    "\n",
    "#     References\n",
    "#     ----------\n",
    "#     -   \"Multiplets of Transition-Metal Ions in Crystals\", Chapter 3\n",
    "#         Sugano, Tanabe, and Kamimura\n",
    "#     '''\n",
    "\n",
    "#     full_braket = []\n",
    "#     qet0 = qet0.dual()\n",
    "#     for det0, coeff0 in qet0.dict.items():\n",
    "#         num_electrons = len(det0)\n",
    "#         set0 = set(det0)\n",
    "#         for det1, coeff1 in qet1.dict.items():\n",
    "#             # before giving a value to the braket it is necessary to align the symbols \n",
    "#             # in the determinantal states and keep track of the reordering sign\n",
    "#             set1 = set(det1)\n",
    "#             common_symbs = list(set0.intersection(set1))\n",
    "#             different_symbs0 = [x for x in det0 if x not in common_symbs]\n",
    "#             different_symbs1 = [x for x in det1 if x not in common_symbs]\n",
    "#             # there are no repeat symbols in any determinantal state\n",
    "#             newdet0 = different_symbs0 + common_symbs\n",
    "#             newdet1 = different_symbs1 + common_symbs\n",
    "#             ordering0 = [det0.index(x) for x in newdet0]\n",
    "#             ordering1 = [det1.index(x) for x in newdet1]\n",
    "#             extra_sign = εijk(*ordering0) * εijk(*ordering1)\n",
    "#             total_coeff = extra_sign * coeff0 * coeff1\n",
    "#             odet0, odet1 = newdet0, newdet1\n",
    "#             double_brakets = []\n",
    "#             comparisons = list(map(lambda x: x[0]==x[1], zip(odet0, odet1)))\n",
    "#             if all(comparisons):\n",
    "#                 # CASE I\n",
    "#                 for i in range(num_electrons):\n",
    "#                     for j in range(i+1,num_electrons):\n",
    "#                         double_brakets.append(((odet0[i], odet0[j],\n",
    "#                                                 odet0[i], odet0[j]),\n",
    "#                                                 total_coeff))\n",
    "#                         double_brakets.append(((odet0[i], odet0[j],\n",
    "#                                                     odet0[j], odet0[i]),\n",
    "#                                                     -total_coeff))\n",
    "#             elif (odet0[0] != odet1[0]) and all(comparisons[1:]):\n",
    "#                 # CASE II\n",
    "#                 for j in range(1,num_electrons):\n",
    "#                     double_brakets.append(((odet0[0], odet0[j],\n",
    "#                                             odet1[0], odet0[j]),\n",
    "#                                             total_coeff))\n",
    "#                     double_brakets.append(((odet0[0], odet0[j],\n",
    "#                                             odet0[j], odet1[0]),\n",
    "#                                             -total_coeff))\n",
    "#             elif (odet0[0] != odet1[0]) and (odet0[1] != odet1[1]) and all(comparisons[2:]): \n",
    "#                 # CASE III\n",
    "#                 double_brakets.append(((odet0[0], odet0[1],\n",
    "#                                             odet1[0], odet1[1]),\n",
    "#                                             total_coeff))\n",
    "#                 double_brakets.append(((odet0[0], odet0[1],\n",
    "#                                             odet1[1], odet1[0]),\n",
    "#                                             -total_coeff))\n",
    "#             elif not any(comparisons[:3]):\n",
    "#                 # CASE IV\n",
    "#                 # print(\"IV\")\n",
    "#                 double_brakets = []\n",
    "#             else:\n",
    "#                 raise Exception(\"Ooops, This case shouldn't occur\")\n",
    "#             full_braket.extend(double_brakets)\n",
    "#     full_braket = sum([Qet({k:v}) for k,v in full_braket],Qet({}))\n",
    "#     return full_braket"
   ]
  },
  {
   "cell_type": "code",
   "execution_count": 146,
   "metadata": {},
   "outputs": [
    {
     "data": {
      "text/html": [
       "<pre>✔️ 16.1 ms (2022-01-15T19:49:27/2022-01-15T19:49:27)</pre>"
      ],
      "text/plain": [
       "<IPython.core.display.HTML object>"
      ]
     },
     "metadata": {},
     "output_type": "display_data"
    }
   ],
   "source": [
    "# def hamiltonian_CF_CR_vS(num_electrons, group_label, l, sparse=False, force_standard_basis=False):\n",
    "#     '''\n",
    "#     Given  a  crystal field on an an ion with a given number of electrons,\n",
    "#     this  function  provides  the  matrix that represents the hamiltionian\n",
    "#     that includes the crystal field together with the Coulomb repulsion.\n",
    "\n",
    "#     This  Hamiltonian only describes how the ground state is split both by\n",
    "#     the  crystal  field  and by the Coulomb repulsion. The contribution to\n",
    "#     the  total  energy,  as  provided  by the interaction with the nuclear\n",
    "#     charge  does  not  figure  here, because it merely provides a constant\n",
    "#     shift to all the energy levels included in this description.\n",
    "\n",
    "#     In  all  cases  the  basis  used  in this matrix representation of the\n",
    "#     Hamiltonian  is  composed  of  slater  determinants of single-electron\n",
    "#     states.  If  force_standard_basis=True  then the angular part of these\n",
    "#     states    is    given    by    standard    spherical    harmonic    if\n",
    "#     force_standard_basis=False  then  the single-electron states are taken\n",
    "#     as  the  eigenvectors of the single-electron crystal field. In forming\n",
    "#     these slater determinants spin=1/2 is assumed.\n",
    "\n",
    "#     The  Coulomb  repulsion appears as Slater integrals of several orders,\n",
    "#     and  the  crystal  field  contribution as a function of the parameters\n",
    "#     that parametrize it according to the corresponding symmetry group.\n",
    "\n",
    "#     If  the crystal field for a single electron is possible to diagonalize\n",
    "#     symbolically, then the basis used for the hamiltonian is an eigenbasis\n",
    "#     for  it, if not, then the single-electron basis is simply the full set\n",
    "#     of spherical harmonics for the given value of l  (multiplied by radial\n",
    "#     parts that figure as the parameters of the model hamiltonian).\n",
    "\n",
    "#     Parameters\n",
    "#     ----------\n",
    "\n",
    "#     num_electrons (int): how many electrons are there included.\n",
    "\n",
    "#     group_label   (str): label for one of the 32\n",
    "\n",
    "#     l             (int): angular momentum of pressumed ground state\n",
    "\n",
    "#     sparse (Bool): if True then the returned matrix is sp.SparseMatrix\n",
    "\n",
    "#     force_standard_basis  (Bool):  whether  to  force  use of the standard\n",
    "#     spherical  harmonic basis, instead of allowing for the eigenvectors of\n",
    "#     the crystal field to be used.\n",
    "\n",
    "#     Returns\n",
    "#     ------\n",
    "\n",
    "#     hamiltonian  (sp.SparseMatrix): in terms of Slater integrals F^{k} (or\n",
    "#     Racah  parameters  if  to_Racah  is  provided)  and  the crystal field\n",
    "#     parameters adequate to the group.\n",
    "\n",
    "#     basis_change  (OrderedDict): the keys being the labels used internally\n",
    "#     for   calculations   and   the   values   being   Qets  understood  as\n",
    "#     superpositions of spherical harmonics. This for  the  single  electron\n",
    "#     states which are used to create multi-electron states.\n",
    "\n",
    "#     slater_dets  (list):  a  list  of  symbols  that represents the slater\n",
    "#     determinants  used for the basis in which the hamiltonian is computed,\n",
    "#     in  here  a  symbol with a bar on top is understood to have spin down,\n",
    "#     and  one  without  to have spin up (m=1/2). Together with basis_change\n",
    "#     this could be used to generate the multi-electron determinantal states\n",
    "#     in terms of slater determinants of spherical harmonics.\n",
    "\n",
    "#     '''\n",
    "\n",
    "#     uID = (num_electrons, group_label, l, sparse, force_standard_basis)\n",
    "\n",
    "#     if uID in hamiltonian_CF_CR_vS.remembered:\n",
    "#         return hamiltonian_CF_CR_vS.remembered[uID]\n",
    "\n",
    "#     group_index = CPGs.all_group_labels.index(group_label) + 1\n",
    "\n",
    "#     cf_field = crystal_splits[group_index]\n",
    "#     crystal_basis = (len(cf_field['eigen_system']) > 0)\n",
    "    \n",
    "#     if crystal_basis:\n",
    "#         eigen_sys = cf_field['eigen_system'][0]\n",
    "\n",
    "#     if crystal_basis and not force_standard_basis:\n",
    "#         print(\"Using crystal field basis.\")\n",
    "#         basis_change = OrderedDict()\n",
    "#         eigen_counter = 0\n",
    "#         basis_energies = {}\n",
    "#         for eigen_part in eigen_sys:\n",
    "#             eigen_energy = eigen_part[0]\n",
    "#             for eigen_vec in eigen_part[2]:\n",
    "#                 eigen_label = sp.Symbol('\\\\alpha_{%d}' % (eigen_counter))\n",
    "#                 spherical_combo = Qet({(l,m): n for m,n in zip(range(-l,l+1),list(eigen_vec.T)) if n!= 0})\n",
    "#                 normalizer = sp.S(1)/spherical_combo.norm()\n",
    "#                 basis_change[eigen_label] = normalizer*spherical_combo\n",
    "#                 basis_energies[eigen_label] = eigen_energy\n",
    "#                 eigen_counter += 1\n",
    "#         single_e_basis = list(basis_change.keys())\n",
    "#         def simple_energy(qnums, coeff):\n",
    "#             the_dict = {1:0}\n",
    "#             γ1, γ2 = qnums\n",
    "#             if γ1 == γ2:\n",
    "#                 the_dict[1] = coeff*basis_energies[γ1]\n",
    "#             if the_dict[1] == 0:\n",
    "#                 return {}\n",
    "#             return the_dict\n",
    "#     else:\n",
    "#         print(\"Using spherical harmonics basis.\")\n",
    "#         single_e_basis = [SpinOrbital(sp.Symbol('Y_{%d,%d}' % (l,m)), spin) \n",
    "#                             for spin in [S_DOWN, S_UP] for m in range(-l,l+1)]\n",
    "#         basis_change = OrderedDict([(SpinOrbital(sp.Symbol('Y_{%d,%d}' % (l,m)), spin), Qet({(l,m,spin):1})) \n",
    "#                             for spin in [S_DOWN, S_UP] for m in range(-l,l+1)])\n",
    "#         ham = cf_field['matrices'][0]\n",
    "#         def crystal_energy(qnums, coeff):\n",
    "#             the_dict = {1:0}\n",
    "#             γ1, γ2 = qnums\n",
    "#             γ1idx = single_e_basis.index(γ1) % ham.rows\n",
    "#             γ2idx = single_e_basis.index(γ2) % ham.rows\n",
    "#             if γ1.spin != γ2.spin:\n",
    "#                 return {}\n",
    "#             else:\n",
    "#                 the_dict[1] = coeff * ham[γ1idx, γ2idx]\n",
    "#                 if the_dict[1] == 0:\n",
    "#                     return {}\n",
    "#                 else:\n",
    "#                     return the_dict\n",
    "#         def spin_energy(qnums, coeff):\n",
    "#             the_dict = {1:0}\n",
    "#             γ1, γ2 = qnums\n",
    "#             γ1idx = single_e_basis.index(γ1) % ham.rows\n",
    "#             γ2idx = single_e_basis.index(γ2) % ham.rows\n",
    "#             m1 = list(basis_change[γ1].dict.keys())[0][1]\n",
    "#             m2 = list(basis_change[γ2].dict.keys())[0][1]\n",
    "#             if γ1idx != γ2idx:\n",
    "#                 return {}\n",
    "#             else:\n",
    "#                 s1, s2  = γ1.spin, γ2.spin\n",
    "#                 the_dict[1] = coeff * sp.Symbol('\\\\xi_{SO}') * LS_dict[((m1,s1),(m2,s2))]\n",
    "#                 if the_dict[1] == 0:\n",
    "#                     return {}\n",
    "#                 else:\n",
    "#                     return the_dict\n",
    "\n",
    "#     # add spin up and spin down\n",
    "#     single_e_spin_orbitals = single_e_basis\n",
    "#     # create determinantal states\n",
    "#     slater_dets = list(combinations(single_e_spin_orbitals,num_electrons))\n",
    "#     slater_qets = [Qet({k:1}) for k in slater_dets]\n",
    "#     if sparse:\n",
    "#         hamiltonian = {}\n",
    "#     else:\n",
    "#         hamiltonian = []\n",
    "\n",
    "#     for idx0, qet0 in enumerate(slater_qets):\n",
    "#         row = []\n",
    "#         for idx1, qet1 in enumerate(slater_qets):\n",
    "#             double_braket = double_electron_braket_vS(qet0, qet1)\n",
    "#             coulomb_matrix_element = braket_basis_change(double_braket, basis_change)\n",
    "#             coulomb_matrix_element = coulomb_matrix_element.apply(to_slater_params_vS)\n",
    "#             coulomb_matrix_element = sp.expand(coulomb_matrix_element.as_symbol_sum())\n",
    "#             single_braket = single_electron_braket_vS(qet0, qet1)\n",
    "#             crystal_field_energy = single_braket.apply(crystal_energy).as_symbol_sum()\n",
    "#             spin_energy_melement = single_braket.apply(spin_energy).as_symbol_sum()\n",
    "#             matrix_element = (coulomb_matrix_element \n",
    "#                             + crystal_field_energy \n",
    "#                             + spin_energy_melement)\n",
    "#             if matrix_element != 0:\n",
    "#                 if sparse:\n",
    "#                     hamiltonian[(idx0,idx1)] = (matrix_element)\n",
    "#                 else:\n",
    "#                     row.append(matrix_element)\n",
    "#             else:\n",
    "#                 if not sparse:\n",
    "#                     row.append(matrix_element)\n",
    "\n",
    "#         if not sparse:\n",
    "#             hamiltonian.append(row)\n",
    "    \n",
    "#     if sparse:\n",
    "#         hamiltonian = (sp.SparseMatrix(len(slater_qets), len(slater_qets), hamiltonian))\n",
    "#     else:\n",
    "#         hamiltonian = sp.Matrix(hamiltonian)\n",
    "\n",
    "#     hamiltonian_CF_CR_vS.remembered[uID] = (hamiltonian, basis_change, slater_dets)\n",
    "#     return hamiltonian, basis_change, slater_dets\n",
    "# hamiltonian_CF_CR_vS.remembered = {}"
   ]
  },
  {
   "cell_type": "code",
   "execution_count": 147,
   "metadata": {},
   "outputs": [
    {
     "data": {
      "text/html": [
       "<pre>✔️ 6.88 ms (2022-01-15T19:49:28/2022-01-15T19:49:28)</pre>"
      ],
      "text/plain": [
       "<IPython.core.display.HTML object>"
      ]
     },
     "metadata": {},
     "output_type": "display_data"
    }
   ],
   "source": [
    "LS_matrix = [[1,0,0,0,0,0,0,0,0,0],\n",
    "             [0,-1,1,0,0,0,0,0,0,0],\n",
    "             [0,1,sp.S(1)/2,0,0,0,0,0,0,0],\n",
    "             [0,0,0,-sp.S(1)/2,sp.sqrt(3)/sp.sqrt(2),0,0,0,0,0],\n",
    "             [0,0,0,sp.sqrt(3)/sp.sqrt(2),0,0,0,0,0,0],\n",
    "             [0,0,0,0,0,0,sp.sqrt(3)/sp.sqrt(2),0,0,0],\n",
    "             [0,0,0,0,0,sp.sqrt(3)/sp.sqrt(2),-sp.S(1)/2,0,0,0],\n",
    "             [0,0,0,0,0,0,0,sp.S(1)/2,1,0],\n",
    "             [0,0,0,0,0,0,0,1,-1,0],\n",
    "             [0,0,0,0,0,0,0,0,0,1]]\n",
    "\n",
    "LS_matrix = sp.Matrix(LS_matrix)\n",
    "LS_basis = list(product(range(-2,3),[S_UP, S_DOWN]))\n",
    "LS_dict = {}\n",
    "for idx0, ls0 in enumerate(LS_basis):\n",
    "    for idx1, ls1 in enumerate(LS_basis):\n",
    "        LS_dict[(ls0,ls1)] = LS_matrix[idx0, idx1]"
   ]
  },
  {
   "cell_type": "code",
   "execution_count": 148,
   "metadata": {},
   "outputs": [
    {
     "data": {
      "text/html": [
       "<pre>✔️ 1.14 ms (2022-01-15T19:49:29/2022-01-15T19:49:29)</pre>"
      ],
      "text/plain": [
       "<IPython.core.display.HTML object>"
      ]
     },
     "metadata": {},
     "output_type": "display_data"
    }
   ],
   "source": [
    "# def braket_basis_change(braket, basis_changer):\n",
    "#     '''\n",
    "#     Take  a  qet,  understood  as  a  four  symbol braket, and a\n",
    "#     dictionary  that  maps  the  current basis to a new one, and\n",
    "#     return  the resulting expression for the new braket in terms\n",
    "#     of  the new basis. All throughout it is assumed that between\n",
    "#     the given braket there is an implicit operator.\n",
    "\n",
    "#     Parameters\n",
    "#     ----------\n",
    "#     braket   (qdefcore.Qet)\n",
    "#     basis_changer (dict):  keys being  equal  to single electron\n",
    "#     quantum  symbols  and  values  to  qets  that  determine the\n",
    "#     superposition of the new basis to which this vector is being\n",
    "#     mapped to. The keys of the dictionary need not  include  all\n",
    "#     the quantum symbols included in the qet.\n",
    "\n",
    "#     Returns\n",
    "#     -------\n",
    "#     new_braket (qdefcore.Qet)\n",
    "\n",
    "#     Example\n",
    "#     -------\n",
    "\n",
    "#     braket = Qet({(1,2,3,4): 5,\n",
    "#                 (8,4,3,1): 1})\n",
    "#     basis_change = {1: Qet({(8,): sp.I})}\n",
    "#     print(braket_basis_change(braket, basis_change))\n",
    "#     >> {(8, 2, 3, 4): -5*I, (8, 4, 3, 8): I}\n",
    "\n",
    "#     '''\n",
    "\n",
    "#     new_braket = Qet({})\n",
    "#     for k, v in braket.dict.items():\n",
    "#         # print(k,v)\n",
    "#         βi, βj, βk, βl = [(Qet({(γ,):1}) if γ not in basis_changer else basis_changer[γ]) for γ in k]\n",
    "#         βi, βj = βi.dual(), βj.dual()\n",
    "#         # print(\"ahoy\", v,βi, βj, βk, βl)\n",
    "#         γiγjγkγl = ((βi * βj) * βk) * βl\n",
    "#         # print(γiγjγkγl)\n",
    "#         new_braket = new_braket + ( v * γiγjγkγl)\n",
    "#         # print(new_braket)\n",
    "#     return new_braket"
   ]
  },
  {
   "cell_type": "code",
   "execution_count": 149,
   "metadata": {},
   "outputs": [
    {
     "data": {
      "text/html": [
       "<pre>✔️ 671 ms (2022-01-15T19:49:30/2022-01-15T19:49:30)</pre>"
      ],
      "text/plain": [
       "<IPython.core.display.HTML object>"
      ]
     },
     "metadata": {},
     "output_type": "display_data"
    },
    {
     "name": "stdout",
     "output_type": "stream",
     "text": [
      "Using spherical harmonics basis.\n"
     ]
    }
   ],
   "source": [
    "ham_vS = hamiltonian_CF_CR_vS(2, 'O', 2, True, True)\n",
    "# qet0, qet1, simple_energy, single_e_basis"
   ]
  },
  {
   "cell_type": "code",
   "execution_count": 352,
   "metadata": {},
   "outputs": [
    {
     "data": {
      "text/html": [
       "<pre>✔️ 2.18 s (2022-01-16T15:04:40/2022-01-16T15:04:42)</pre>"
      ],
      "text/plain": [
       "<IPython.core.display.HTML object>"
      ]
     },
     "metadata": {},
     "output_type": "display_data"
    }
   ],
   "source": [
    "bform = block_form(ham_vS[0])"
   ]
  },
  {
   "cell_type": "code",
   "execution_count": 12,
   "metadata": {},
   "outputs": [
    {
     "data": {
      "text/html": [
       "<pre>✔️ 30.9 ms (2022-01-17T11:40:01/2022-01-17T11:40:01)</pre>"
      ],
      "text/plain": [
       "<IPython.core.display.HTML object>"
      ]
     },
     "metadata": {},
     "output_type": "display_data"
    }
   ],
   "source": [
    "# # ADDED to matrixgoodies.py\n",
    "\n",
    "# def vector_upgrade(vector, pivots, fullbasis):\n",
    "#     '''\n",
    "#     Give a vector whose components are initially only in a subspace\n",
    "#     of an original vector space, promote it by adding zeros in  the\n",
    "#     adequate places.\n",
    "\n",
    "#     Parameters\n",
    "#     ----------\n",
    "#     vector (np.array): the vector in a subspace of the larger vector\n",
    "#     space.\n",
    "\n",
    "#     pivots (list): contains the indices in the larger vector  space\n",
    "#     that are represented in the coefficients of the given vector.\n",
    "    \n",
    "#     fullbasis (list or np.array): a list of ordered unit vectors.\n",
    "#     '''\n",
    "#     return np.sum(np.array([coeff*fullbasis[pivot] for coeff, pivot in zip(vector, pivots)]), axis=0)\n",
    "\n",
    "# def block_diagonalize_h(blocks, notches, symbols_rep, final_sort = True):\n",
    "#     '''\n",
    "#     Parameters\n",
    "#     ----------\n",
    "\n",
    "#     blocks  (list): iterable  whose  elements are symbolic sp.Matrix\n",
    "#     notches (list): a list of integers which represent the subspaces\n",
    "#                 to which the given  blocks belong to in the original\n",
    "#                 ordering of the matrix\n",
    "#     symbols_rep (dict): a dictionary with substitutions that convert\n",
    "#                          all the given matrices into numerical ones.\n",
    "    \n",
    "#     Returns\n",
    "#     -------\n",
    "\n",
    "#     (all_eigenvals, all_eigenvects)   (tuple)\n",
    "#     all_eigenvals (np.array): an array with all the blocks eigenvalues\n",
    "#     all_eigenvects (np.array):  an  array  whose  j-th  column  is  an \n",
    "#                                    eigenvector of the j-th eigenvalue.\n",
    "#     '''\n",
    "#     dims = list(map(lambda x: x.rows, blocks))\n",
    "#     total_dim = sum(dims)\n",
    "#     fullbasis = np.eye(total_dim)\n",
    "#     all_eigenvals = np.zeros((total_dim))\n",
    "#     all_eigenvects =  np.zeros((total_dim, total_dim))\n",
    "#     cursor = 0\n",
    "#     counter = 0\n",
    "#     for block, offsets in zip(blocks, notches):\n",
    "#         block_dim = block.rows\n",
    "#         block = np.array(block.subs(symbols_rep)).astype(np.complex64)\n",
    "#         eigenvals, eigenvects = np.linalg.eigh(block)\n",
    "#         eigenvals = np.real(eigenvals)\n",
    "#         eigenvects = eigenvects.T\n",
    "#         all_eigenvals[cursor:cursor+block_dim] = eigenvals\n",
    "#         offsets = notches[cursor:cursor+block_dim]\n",
    "#         for eigenvect in eigenvects:\n",
    "#             all_eigenvects[counter] = vector_upgrade(eigenvect, offsets, fullbasis)\n",
    "#             counter += 1\n",
    "#         cursor += block_dim\n",
    "#     if final_sort:\n",
    "#         sorter = np.argsort(all_eigenvals)\n",
    "#         all_eigenvals, all_eigenvects = all_eigenvals[sorter], all_eigenvects[sorter]\n",
    "#     all_eigenvects = all_eigenvects.T\n",
    "#     return all_eigenvals, all_eigenvects"
   ]
  },
  {
   "cell_type": "code",
   "execution_count": 19,
   "metadata": {},
   "outputs": [
    {
     "data": {
      "text/html": [
       "<pre>✔️ 6.78 ms (2022-01-17T11:41:45/2022-01-17T11:41:45)</pre>"
      ],
      "text/plain": [
       "<IPython.core.display.HTML object>"
      ]
     },
     "metadata": {},
     "output_type": "display_data"
    },
    {
     "data": {
      "text/latex": [
       "$\\displaystyle 1$"
      ],
      "text/plain": [
       "1"
      ]
     },
     "execution_count": 19,
     "metadata": {},
     "output_type": "execute_result"
    }
   ],
   "source": [
    "vector = [1,2,3]\n",
    "pivots = [0,2,4]\n",
    "fullbasis = sp.eye(7)\n",
    "vector_upgrade(vector, pivots, fullbasis)"
   ]
  },
  {
   "cell_type": "code",
   "execution_count": 445,
   "metadata": {},
   "outputs": [
    {
     "data": {
      "text/html": [
       "<pre>✔️ 1.94 ms (2022-01-16T15:51:57/2022-01-16T15:51:57)</pre>"
      ],
      "text/plain": [
       "<IPython.core.display.HTML object>"
      ]
     },
     "metadata": {},
     "output_type": "display_data"
    }
   ],
   "source": [
    "blocks = bform[1]\n",
    "notches = bform[2]\n",
    "symbols_rep = {symb: random() for symb in bform[1][0].free_symbols}"
   ]
  },
  {
   "cell_type": "code",
   "execution_count": 446,
   "metadata": {},
   "outputs": [
    {
     "data": {
      "text/html": [
       "<pre>✔️ 110 ms (2022-01-16T15:51:58/2022-01-16T15:51:58)</pre>"
      ],
      "text/plain": [
       "<IPython.core.display.HTML object>"
      ]
     },
     "metadata": {},
     "output_type": "display_data"
    },
    {
     "name": "stderr",
     "output_type": "stream",
     "text": [
      "<ipython-input-444-aa495353666f>:40: ComplexWarning: Casting complex values to real discards the imaginary part\n",
      "  all_eigenvects[counter] = vector_upgrade(eigenvect, offsets, fullbasis)\n"
     ]
    }
   ],
   "source": [
    "all_eigenvals, all_eigenvects = block_diagonalize_h(blocks, notches, symbols_rep, False)"
   ]
  },
  {
   "cell_type": "code",
   "execution_count": 447,
   "metadata": {},
   "outputs": [
    {
     "data": {
      "text/html": [
       "<pre>✔️ 948 µs (2022-01-16T15:51:59/2022-01-16T15:51:59)</pre>"
      ],
      "text/plain": [
       "<IPython.core.display.HTML object>"
      ]
     },
     "metadata": {},
     "output_type": "display_data"
    }
   ],
   "source": [
    "import cmasher as cmr"
   ]
  },
  {
   "cell_type": "code",
   "execution_count": 453,
   "metadata": {},
   "outputs": [
    {
     "data": {
      "text/html": [
       "<pre>✔️ 593 ms (2022-01-16T15:58:55/2022-01-16T15:58:56)</pre>"
      ],
      "text/plain": [
       "<IPython.core.display.HTML object>"
      ]
     },
     "metadata": {},
     "output_type": "display_data"
    },
    {
     "data": {
      "image/png": "[encoded data removed]",
      "text/plain": [
       "<Figure size 640x480 with 4 Axes>"
      ]
     },
     "metadata": {
      "image/png": {
       "height": 468,
       "width": 516
      }
     },
     "output_type": "display_data"
    }
   ],
   "source": [
    "numham = np.array(ham_vS[0].subs(symbols_rep)).astype(np.complex64)\n",
    "mabs = np.abs(np.matmul(np.linalg.inv(all_eigenvects), np.matmul(numham, all_eigenvects)))\n",
    "realparts = np.real(all_eigenvects)\n",
    "imparts = np.imag(all_eigenvects)\n",
    "maxmax = max(np.max(realparts),np.max(realparts))\n",
    "minmin = min(np.min(realparts),np.min(realparts))\n",
    "fig, axes = plt.subplots(nrows= 2, ncols=2)\n",
    "axes[0,0].imshow(mabs, cmap=cmr.ember)\n",
    "axes[0,0].set_title('$\\\\lambda$')\n",
    "axes[0,1].imshow(np.abs(all_eigenvects), cmap=cmr.ember)\n",
    "axes[0,1].set_title('v.abs')\n",
    "axes[1,0].imshow(realparts, cmap=cmr.iceburn)\n",
    "axes[1,0].set_title('v.real')\n",
    "axes[1,1].imshow(imparts, vmin=-maxmax, vmax=maxmax, cmap=cmr.iceburn)\n",
    "axes[1,1].set_title('v.im')\n",
    "plt.tight_layout()\n",
    "plt.show()"
   ]
  },
  {
   "cell_type": "code",
   "execution_count": 325,
   "metadata": {},
   "outputs": [
    {
     "data": {
      "text/html": [
       "<pre>✔️ 9.24 ms (2022-01-16T14:56:31/2022-01-16T14:56:31)</pre>"
      ],
      "text/plain": [
       "<IPython.core.display.HTML object>"
      ]
     },
     "metadata": {},
     "output_type": "display_data"
    },
    {
     "data": {
      "text/plain": [
       "(7, 7)"
      ]
     },
     "execution_count": 325,
     "metadata": {},
     "output_type": "execute_result"
    }
   ],
   "source": [
    "eigenvects.shape"
   ]
  },
  {
   "cell_type": "code",
   "execution_count": 321,
   "metadata": {},
   "outputs": [
    {
     "data": {
      "text/html": [
       "<pre>✔️ 3.67 ms (2022-01-16T14:51:53/2022-01-16T14:51:53)</pre>"
      ],
      "text/plain": [
       "<IPython.core.display.HTML object>"
      ]
     },
     "metadata": {},
     "output_type": "display_data"
    },
    {
     "data": {
      "text/plain": [
       "array([ 0.        ,  0.        ,  0.        ,  0.        ,  0.15819952,\n",
       "        0.        ,  0.        ,  0.        ,  0.01995233,  0.        ,\n",
       "        0.        ,  0.        ,  0.        ,  0.        ,  0.        ,\n",
       "       -0.66204327,  0.        ,  0.        ,  0.        ,  0.        ,\n",
       "        0.        , -0.70710677,  0.        ,  0.        ,  0.        ,\n",
       "        0.        , -0.00911629,  0.        ,  0.        ,  0.        ,\n",
       "        0.05269868,  0.        ,  0.        ,  0.        , -0.18279299,\n",
       "        0.        ,  0.        ,  0.        ,  0.        ,  0.        ,\n",
       "        0.        ,  0.        ,  0.        ,  0.        ,  0.        ])"
      ]
     },
     "execution_count": 321,
     "metadata": {},
     "output_type": "execute_result"
    }
   ],
   "source": [
    "all_eigenvects[-1]"
   ]
  },
  {
   "cell_type": "code",
   "execution_count": 315,
   "metadata": {},
   "outputs": [
    {
     "data": {
      "text/html": [
       "<pre>✔️ 11.3 ms (2022-01-16T14:50:43/2022-01-16T14:50:43)</pre>"
      ],
      "text/plain": [
       "<IPython.core.display.HTML object>"
      ]
     },
     "metadata": {},
     "output_type": "display_data"
    },
    {
     "name": "stdout",
     "output_type": "stream",
     "text": [
      "1.0000000062809051\n",
      "1.0000000062809051\n",
      "1.0000000073374542\n",
      "1.0000000073374542\n",
      "1.0000000062809051\n",
      "1.0000000062809051\n",
      "1.0000000073374542\n",
      "1.0000000073374542\n",
      "1.0000000250608374\n",
      "0.9999999949585089\n",
      "0.9999999886832565\n",
      "0.9999999836574623\n",
      "1.0000000252810046\n",
      "1.0000000002798763\n",
      "1.0000000002798763\n",
      "0.9999999836574623\n",
      "1.0000000252810046\n",
      "0.9999999949585089\n",
      "0.9999999886832563\n",
      "1.0000000250608374\n",
      "0.9999999904812554\n",
      "0.9999999976622028\n",
      "1.0000000116918957\n",
      "0.9999999904812554\n",
      "0.9999999976622028\n",
      "1.0000000116918957\n",
      "1.0000000077424265\n",
      "0.9999999799406709\n",
      "1.0000000124205106\n",
      "0.9999999745764543\n",
      "1.0000000009551129\n",
      "1.0000000034868668\n",
      "1.0000000124205106\n",
      "0.9999999745764543\n",
      "1.0000000009551129\n",
      "1.0000000034868668\n",
      "1.0000000077424265\n",
      "0.9999999799406709\n",
      "0.999999998732726\n",
      "0.999999996801311\n",
      "0.9999999730923652\n",
      "0.9999999883524272\n",
      "0.9999999829741901\n",
      "0.9999999869148111\n",
      "0.999999998732726\n"
     ]
    }
   ],
   "source": [
    "for eigenvee in all_eigenvects:\n",
    "    print(np.linalg.norm(eigenvee))"
   ]
  },
  {
   "cell_type": "code",
   "execution_count": 302,
   "metadata": {},
   "outputs": [
    {
     "data": {
      "text/html": [
       "<pre>✔️ 4.36 ms (2022-01-16T14:48:41/2022-01-16T14:48:41)</pre>"
      ],
      "text/plain": [
       "<IPython.core.display.HTML object>"
      ]
     },
     "metadata": {},
     "output_type": "display_data"
    },
    {
     "data": {
      "text/plain": [
       "array([ 0.        +0.j,  0.        +0.j,  0.        +0.j,  0.        +0.j,\n",
       "        0.15819952+0.j,  0.        +0.j,  0.        +0.j,  0.        +0.j,\n",
       "        0.01995233+0.j,  0.        +0.j,  0.        +0.j,  0.        +0.j,\n",
       "        0.        +0.j,  0.        +0.j,  0.        +0.j, -0.66204327+0.j,\n",
       "        0.        +0.j,  0.        +0.j,  0.        +0.j,  0.        +0.j,\n",
       "        0.        +0.j, -0.70710677+0.j,  0.        +0.j,  0.        +0.j,\n",
       "        0.        +0.j,  0.        +0.j, -0.00911629+0.j,  0.        +0.j,\n",
       "        0.        +0.j,  0.        +0.j,  0.05269868+0.j,  0.        +0.j,\n",
       "        0.        +0.j,  0.        +0.j, -0.18279299+0.j,  0.        +0.j,\n",
       "        0.        +0.j,  0.        +0.j,  0.        +0.j,  0.        +0.j,\n",
       "        0.        +0.j,  0.        +0.j,  0.        +0.j,  0.        +0.j,\n",
       "        0.        +0.j])"
      ]
     },
     "execution_count": 302,
     "metadata": {},
     "output_type": "execute_result"
    }
   ],
   "source": [
    "coeffs, pivots = eigenvect, offsets\n",
    "np.sum([coeff*fullbasis[pivot] for coeff, pivot in zip(coeffs, pivots)],axis=0)"
   ]
  },
  {
   "cell_type": "code",
   "execution_count": 293,
   "metadata": {},
   "outputs": [
    {
     "data": {
      "text/html": [
       "<pre>✔️ 10.3 ms (2022-01-16T14:47:10/2022-01-16T14:47:10)</pre>"
      ],
      "text/plain": [
       "<IPython.core.display.HTML object>"
      ]
     },
     "metadata": {},
     "output_type": "display_data"
    },
    {
     "data": {
      "text/plain": [
       "array([[-0.        +0.j, -0.98310667+0.j, -0.        +0.j,\n",
       "        -0.        +0.j, -0.        +0.j, -0.        +0.j,\n",
       "        -0.        +0.j, -0.        +0.j, -0.        +0.j,\n",
       "        -0.        +0.j, -0.        +0.j, -0.        +0.j,\n",
       "        -0.        +0.j, -0.        +0.j, -0.        +0.j,\n",
       "        -0.        +0.j, -0.        +0.j, -0.        +0.j,\n",
       "        -0.        +0.j, -0.        +0.j, -0.        +0.j,\n",
       "        -0.        +0.j, -0.        +0.j, -0.        +0.j,\n",
       "        -0.        +0.j, -0.        +0.j, -0.        +0.j,\n",
       "        -0.        +0.j, -0.        +0.j, -0.        +0.j,\n",
       "        -0.        +0.j, -0.        +0.j, -0.        +0.j,\n",
       "        -0.        +0.j, -0.        +0.j, -0.        +0.j,\n",
       "        -0.        +0.j, -0.        +0.j, -0.        +0.j,\n",
       "        -0.        +0.j, -0.        +0.j, -0.        +0.j,\n",
       "        -0.        +0.j, -0.        +0.j, -0.        +0.j],\n",
       "       [-0.        +0.j, -0.        +0.j, -0.        +0.j,\n",
       "        -0.        +0.j, -0.        +0.j, -0.        +0.j,\n",
       "        -0.        +0.j, -0.        +0.j, -0.        +0.j,\n",
       "        -0.        +0.j, -0.        +0.j, -0.        +0.j,\n",
       "        -0.        +0.j, -0.        +0.j, -0.        +0.j,\n",
       "        -0.        +0.j, -0.        +0.j, -0.        +0.j,\n",
       "        -0.18303356+0.j, -0.        +0.j, -0.        +0.j,\n",
       "        -0.        +0.j, -0.        +0.j, -0.        +0.j,\n",
       "        -0.        +0.j, -0.        +0.j, -0.        +0.j,\n",
       "        -0.        +0.j, -0.        +0.j, -0.        +0.j,\n",
       "        -0.        +0.j, -0.        +0.j, -0.        +0.j,\n",
       "        -0.        +0.j, -0.        +0.j, -0.        +0.j,\n",
       "        -0.        +0.j, -0.        +0.j, -0.        +0.j,\n",
       "        -0.        +0.j, -0.        +0.j, -0.        +0.j,\n",
       "        -0.        +0.j, -0.        +0.j, -0.        +0.j]])"
      ]
     },
     "execution_count": 293,
     "metadata": {},
     "output_type": "execute_result"
    }
   ],
   "source": [
    "vector_upgrade(eigenvect, offsets, fullbasis)"
   ]
  },
  {
   "cell_type": "code",
   "execution_count": 288,
   "metadata": {},
   "outputs": [
    {
     "data": {
      "text/html": [
       "<pre>✔️ 11.2 ms (2022-01-16T14:45:50/2022-01-16T14:45:50)</pre>"
      ],
      "text/plain": [
       "<IPython.core.display.HTML object>"
      ]
     },
     "metadata": {},
     "output_type": "display_data"
    },
    {
     "data": {
      "text/plain": [
       "array([[-0.9831067 +0.j, -0.18303356+0.j],\n",
       "       [-0.18303356+0.j,  0.9831067 +0.j]], dtype=complex64)"
      ]
     },
     "execution_count": 288,
     "metadata": {},
     "output_type": "execute_result"
    }
   ],
   "source": [
    "coeffs"
   ]
  },
  {
   "cell_type": "code",
   "execution_count": 284,
   "metadata": {},
   "outputs": [
    {
     "data": {
      "text/html": [
       "<pre>✔️ 16.4 ms (2022-01-16T14:45:15/2022-01-16T14:45:15)</pre>"
      ],
      "text/plain": [
       "<IPython.core.display.HTML object>"
      ]
     },
     "metadata": {},
     "output_type": "display_data"
    },
    {
     "ename": "ValueError",
     "evalue": "operands could not be broadcast together with shapes (2,) (45,) ",
     "output_type": "error",
     "traceback": [
      "\u001b[0;31m---------------------------------------------------------------------------\u001b[0m",
      "\u001b[0;31mValueError\u001b[0m                                Traceback (most recent call last)",
      "\u001b[0;32m<ipython-input-284-be2491f84d27>\u001b[0m in \u001b[0;36m<module>\u001b[0;34m\u001b[0m\n\u001b[1;32m      1\u001b[0m \u001b[0mcoeffs\u001b[0m\u001b[0;34m,\u001b[0m \u001b[0mpivots\u001b[0m \u001b[0;34m=\u001b[0m \u001b[0meigenvects\u001b[0m\u001b[0;34m,\u001b[0m \u001b[0moffsets\u001b[0m\u001b[0;34m\u001b[0m\u001b[0;34m\u001b[0m\u001b[0m\n\u001b[0;32m----> 2\u001b[0;31m \u001b[0mnp\u001b[0m\u001b[0;34m.\u001b[0m\u001b[0marray\u001b[0m\u001b[0;34m(\u001b[0m\u001b[0;34m[\u001b[0m\u001b[0mcoeff\u001b[0m\u001b[0;34m*\u001b[0m\u001b[0mfullbasis\u001b[0m\u001b[0;34m[\u001b[0m\u001b[0mpivot\u001b[0m\u001b[0;34m]\u001b[0m \u001b[0;32mfor\u001b[0m \u001b[0mcoeff\u001b[0m\u001b[0;34m,\u001b[0m \u001b[0mpivot\u001b[0m \u001b[0;32min\u001b[0m \u001b[0mzip\u001b[0m\u001b[0;34m(\u001b[0m\u001b[0mcoeffs\u001b[0m\u001b[0;34m,\u001b[0m \u001b[0mpivots\u001b[0m\u001b[0;34m)\u001b[0m\u001b[0;34m]\u001b[0m\u001b[0;34m)\u001b[0m\u001b[0;34m\u001b[0m\u001b[0;34m\u001b[0m\u001b[0m\n\u001b[0m",
      "\u001b[0;32m<ipython-input-284-be2491f84d27>\u001b[0m in \u001b[0;36m<listcomp>\u001b[0;34m(.0)\u001b[0m\n\u001b[1;32m      1\u001b[0m \u001b[0mcoeffs\u001b[0m\u001b[0;34m,\u001b[0m \u001b[0mpivots\u001b[0m \u001b[0;34m=\u001b[0m \u001b[0meigenvects\u001b[0m\u001b[0;34m,\u001b[0m \u001b[0moffsets\u001b[0m\u001b[0;34m\u001b[0m\u001b[0;34m\u001b[0m\u001b[0m\n\u001b[0;32m----> 2\u001b[0;31m \u001b[0mnp\u001b[0m\u001b[0;34m.\u001b[0m\u001b[0marray\u001b[0m\u001b[0;34m(\u001b[0m\u001b[0;34m[\u001b[0m\u001b[0mcoeff\u001b[0m\u001b[0;34m*\u001b[0m\u001b[0mfullbasis\u001b[0m\u001b[0;34m[\u001b[0m\u001b[0mpivot\u001b[0m\u001b[0;34m]\u001b[0m \u001b[0;32mfor\u001b[0m \u001b[0mcoeff\u001b[0m\u001b[0;34m,\u001b[0m \u001b[0mpivot\u001b[0m \u001b[0;32min\u001b[0m \u001b[0mzip\u001b[0m\u001b[0;34m(\u001b[0m\u001b[0mcoeffs\u001b[0m\u001b[0;34m,\u001b[0m \u001b[0mpivots\u001b[0m\u001b[0;34m)\u001b[0m\u001b[0;34m]\u001b[0m\u001b[0;34m)\u001b[0m\u001b[0;34m\u001b[0m\u001b[0;34m\u001b[0m\u001b[0m\n\u001b[0m",
      "\u001b[0;31mValueError\u001b[0m: operands could not be broadcast together with shapes (2,) (45,) "
     ]
    }
   ],
   "source": [
    "coeffs, pivots = eigenvects, offsets\n",
    "np.array([coeff*fullbasis[pivot] for coeff, pivot in zip(coeffs, pivots)])"
   ]
  },
  {
   "cell_type": "code",
   "execution_count": 278,
   "metadata": {},
   "outputs": [
    {
     "data": {
      "text/html": [
       "<pre>✔️ 3.03 ms (2022-01-16T14:44:27/2022-01-16T14:44:27)</pre>"
      ],
      "text/plain": [
       "<IPython.core.display.HTML object>"
      ]
     },
     "metadata": {},
     "output_type": "display_data"
    },
    {
     "data": {
      "text/plain": [
       "array([0., 0., 1., 0., 0., 0., 0., 0., 0., 0., 0., 0., 0., 0., 0., 0., 0.,\n",
       "       0., 0., 0., 0., 0., 0., 0., 0., 0., 0., 0., 0., 0., 0., 0., 0., 0.,\n",
       "       0., 0., 0., 0., 0., 0., 0., 0., 0., 0., 0.])"
      ]
     },
     "execution_count": 278,
     "metadata": {},
     "output_type": "execute_result"
    }
   ],
   "source": [
    "fullbasis[2]"
   ]
  },
  {
   "cell_type": "code",
   "execution_count": 266,
   "metadata": {},
   "outputs": [
    {
     "data": {
      "text/html": [
       "<pre>✔️ 14.3 ms (2022-01-16T14:41:12/2022-01-16T14:41:12)</pre>"
      ],
      "text/plain": [
       "<IPython.core.display.HTML object>"
      ]
     },
     "metadata": {},
     "output_type": "display_data"
    },
    {
     "ename": "TypeError",
     "evalue": "'int' object is not iterable",
     "output_type": "error",
     "traceback": [
      "\u001b[0;31m---------------------------------------------------------------------------\u001b[0m",
      "\u001b[0;31mTypeError\u001b[0m                                 Traceback (most recent call last)",
      "\u001b[0;32m<ipython-input-266-faad9b33eb20>\u001b[0m in \u001b[0;36m<module>\u001b[0;34m\u001b[0m\n\u001b[0;32m----> 1\u001b[0;31m \u001b[0mvector_upgrade\u001b[0m\u001b[0;34m(\u001b[0m\u001b[0meigenvects\u001b[0m\u001b[0;34m,\u001b[0m \u001b[0moffsets\u001b[0m\u001b[0;34m,\u001b[0m \u001b[0mfullbasis\u001b[0m\u001b[0;34m)\u001b[0m\u001b[0;34m\u001b[0m\u001b[0;34m\u001b[0m\u001b[0m\n\u001b[0m",
      "\u001b[0;32m<ipython-input-260-0107ee73742b>\u001b[0m in \u001b[0;36mvector_upgrade\u001b[0;34m(coeffs, pivots, fullbase)\u001b[0m\n\u001b[1;32m      1\u001b[0m \u001b[0;32mdef\u001b[0m \u001b[0mvector_upgrade\u001b[0m\u001b[0;34m(\u001b[0m\u001b[0mcoeffs\u001b[0m\u001b[0;34m,\u001b[0m \u001b[0mpivots\u001b[0m\u001b[0;34m,\u001b[0m \u001b[0mfullbase\u001b[0m\u001b[0;34m)\u001b[0m\u001b[0;34m:\u001b[0m\u001b[0;34m\u001b[0m\u001b[0;34m\u001b[0m\u001b[0m\n\u001b[0;32m----> 2\u001b[0;31m     \u001b[0;32mreturn\u001b[0m \u001b[0mnp\u001b[0m\u001b[0;34m.\u001b[0m\u001b[0marray\u001b[0m\u001b[0;34m(\u001b[0m\u001b[0;34m[\u001b[0m\u001b[0mcoeff\u001b[0m\u001b[0;34m*\u001b[0m\u001b[0mfullbase\u001b[0m\u001b[0;34m[\u001b[0m\u001b[0mpivot\u001b[0m\u001b[0;34m]\u001b[0m \u001b[0;32mfor\u001b[0m \u001b[0mcoeff\u001b[0m\u001b[0;34m,\u001b[0m \u001b[0mpivot\u001b[0m \u001b[0;32min\u001b[0m \u001b[0mzip\u001b[0m\u001b[0;34m(\u001b[0m\u001b[0mcoeffs\u001b[0m\u001b[0;34m,\u001b[0m \u001b[0mpivots\u001b[0m\u001b[0;34m)\u001b[0m\u001b[0;34m]\u001b[0m\u001b[0;34m)\u001b[0m\u001b[0;34m\u001b[0m\u001b[0;34m\u001b[0m\u001b[0m\n\u001b[0m",
      "\u001b[0;31mTypeError\u001b[0m: 'int' object is not iterable"
     ]
    }
   ],
   "source": [
    "vector_upgrade(eigenvects, offsets, fullbasis)"
   ]
  },
  {
   "cell_type": "code",
   "execution_count": 229,
   "metadata": {},
   "outputs": [
    {
     "data": {
      "text/html": [
       "<pre>✔️ 2.42 ms (2022-01-16T14:25:22/2022-01-16T14:25:22)</pre>"
      ],
      "text/plain": [
       "<IPython.core.display.HTML object>"
      ]
     },
     "metadata": {},
     "output_type": "display_data"
    },
    {
     "data": {
      "text/plain": [
       "(array([-0.03330384,  0.5331408 ], dtype=float32),\n",
       " array([[-0.9831067 +0.j, -0.18303356+0.j],\n",
       "        [-0.18303356+0.j,  0.9831067 +0.j]], dtype=complex64))"
      ]
     },
     "execution_count": 229,
     "metadata": {},
     "output_type": "execute_result"
    }
   ],
   "source": [
    "block_eigenvals[0]"
   ]
  },
  {
   "cell_type": "code",
   "execution_count": 225,
   "metadata": {},
   "outputs": [
    {
     "data": {
      "text/html": [
       "<pre>✔️ 5.48 ms (2022-01-16T14:24:24/2022-01-16T14:24:24)</pre>"
      ],
      "text/plain": [
       "<IPython.core.display.HTML object>"
      ]
     },
     "metadata": {},
     "output_type": "display_data"
    },
    {
     "data": {
      "text/plain": [
       "(array([-0.03330384,  0.5331408 ], dtype=float32),\n",
       " array([[-0.9831067 +0.j, -0.18303356+0.j],\n",
       "        [-0.18303356+0.j,  0.9831067 +0.j]], dtype=complex64))"
      ]
     },
     "execution_count": 225,
     "metadata": {},
     "output_type": "execute_result"
    }
   ],
   "source": [
    "np.linalg.eigh(blocks[0])"
   ]
  },
  {
   "cell_type": "code",
   "execution_count": null,
   "metadata": {},
   "outputs": [],
   "source": [
    "np.linalg.eigh()"
   ]
  },
  {
   "cell_type": "code",
   "execution_count": 214,
   "metadata": {},
   "outputs": [
    {
     "data": {
      "text/html": [
       "<pre>✔️ 206 ms (2022-01-16T14:17:18/2022-01-16T14:17:19)</pre>"
      ],
      "text/plain": [
       "<IPython.core.display.HTML object>"
      ]
     },
     "metadata": {},
     "output_type": "display_data"
    }
   ],
   "source": [
    "\n",
    "full_basis = [[KroneckerDelta(i,j) for j in range(45)] for i in range(45)]"
   ]
  },
  {
   "cell_type": "code",
   "execution_count": 216,
   "metadata": {},
   "outputs": [
    {
     "data": {
      "text/html": [
       "<pre>✔️ 7.44 ms (2022-01-16T14:18:44/2022-01-16T14:18:44)</pre>"
      ],
      "text/plain": [
       "<IPython.core.display.HTML object>"
      ]
     },
     "metadata": {},
     "output_type": "display_data"
    },
    {
     "data": {
      "text/plain": [
       "[array([1., 0., 0., 0., 0., 0., 0., 0., 0., 0.]),\n",
       " array([0., 1., 0., 0., 0., 0., 0., 0., 0., 0.]),\n",
       " array([0., 0., 1., 0., 0., 0., 0., 0., 0., 0.]),\n",
       " array([0., 0., 0., 1., 0., 0., 0., 0., 0., 0.]),\n",
       " array([0., 0., 0., 0., 1., 0., 0., 0., 0., 0.]),\n",
       " array([0., 0., 0., 0., 0., 1., 0., 0., 0., 0.]),\n",
       " array([0., 0., 0., 0., 0., 0., 1., 0., 0., 0.]),\n",
       " array([0., 0., 0., 0., 0., 0., 0., 1., 0., 0.]),\n",
       " array([0., 0., 0., 0., 0., 0., 0., 0., 1., 0.]),\n",
       " array([0., 0., 0., 0., 0., 0., 0., 0., 0., 1.])]"
      ]
     },
     "execution_count": 216,
     "metadata": {},
     "output_type": "execute_result"
    }
   ],
   "source": [
    "list(np.eye(10))"
   ]
  },
  {
   "cell_type": "code",
   "execution_count": 212,
   "metadata": {},
   "outputs": [
    {
     "data": {
      "text/html": [
       "<pre>✔️ 2.62 ms (2022-01-16T14:16:15/2022-01-16T14:16:15)</pre>"
      ],
      "text/plain": [
       "<IPython.core.display.HTML object>"
      ]
     },
     "metadata": {},
     "output_type": "display_data"
    },
    {
     "data": {
      "text/plain": [
       "2"
      ]
     },
     "execution_count": 212,
     "metadata": {},
     "output_type": "execute_result"
    }
   ],
   "source": [
    "sp.eye(2).rows"
   ]
  },
  {
   "cell_type": "code",
   "execution_count": 202,
   "metadata": {},
   "outputs": [
    {
     "data": {
      "text/html": [
       "<pre>✔️ 3.9 s (2022-01-16T14:07:30/2022-01-16T14:07:34)</pre>"
      ],
      "text/plain": [
       "<IPython.core.display.HTML object>"
      ]
     },
     "metadata": {},
     "output_type": "display_data"
    },
    {
     "name": "stdout",
     "output_type": "stream",
     "text": [
      "47.5 ms ± 5.52 ms per loop (mean ± std. dev. of 7 runs, 10 loops each)\n"
     ]
    }
   ],
   "source": [
    "%%timeit\n",
    "list(np.sort(np.linalg.eigvalsh(np.array(ham_vS[0].subs(symbols_rep)).astype(np.complex64))))"
   ]
  },
  {
   "cell_type": "code",
   "execution_count": 100,
   "metadata": {},
   "outputs": [
    {
     "data": {
      "text/html": [
       "<pre>✔️ 1.46 ms (2022-01-15T18:51:00/2022-01-15T18:51:00)</pre>"
      ],
      "text/plain": [
       "<IPython.core.display.HTML object>"
      ]
     },
     "metadata": {},
     "output_type": "display_data"
    }
   ],
   "source": [
    "ham = hamiltonian_CF_CR(2, 'O', 2, True, True)"
   ]
  },
  {
   "cell_type": "code",
   "execution_count": 103,
   "metadata": {},
   "outputs": [
    {
     "data": {
      "text/html": [
       "<pre>✔️ 4.33 ms (2022-01-15T18:51:16/2022-01-15T18:51:16)</pre>"
      ],
      "text/plain": [
       "<IPython.core.display.HTML object>"
      ]
     },
     "metadata": {},
     "output_type": "display_data"
    },
    {
     "data": {
      "text/plain": [
       "True"
      ]
     },
     "execution_count": 103,
     "metadata": {},
     "output_type": "execute_result"
    }
   ],
   "source": [
    "ham_vS[0] == ham[0]"
   ]
  },
  {
   "cell_type": "code",
   "execution_count": 99,
   "metadata": {},
   "outputs": [
    {
     "data": {
      "text/html": [
       "<pre>✔️ 3.57 ms (2022-01-15T18:50:58/2022-01-15T18:50:58)</pre>"
      ],
      "text/plain": [
       "<IPython.core.display.HTML object>"
      ]
     },
     "metadata": {},
     "output_type": "display_data"
    }
   ],
   "source": [
    "from random import random\n",
    "randsubs = {sp.Symbol('F^{(0)}'): random(),\n",
    "            sp.Symbol('F^{(2)}'): random(),\n",
    "            sp.Symbol('F^{(4)}'): random(),\n",
    "            sp.Symbol('B_{4,0}'): random()}"
   ]
  },
  {
   "cell_type": "code",
   "execution_count": 81,
   "metadata": {},
   "outputs": [
    {
     "data": {
      "text/html": [
       "<pre>✔️ 119 ms (2022-01-15T18:39:36/2022-01-15T18:39:36)</pre>"
      ],
      "text/plain": [
       "<IPython.core.display.HTML object>"
      ]
     },
     "metadata": {},
     "output_type": "display_data"
    },
    {
     "data": {
      "text/plain": [
       "array([-0.09839837, -0.09839837, -0.09839837, -0.09839837, -0.09839837,\n",
       "       -0.09839837, -0.09839837, -0.09839837, -0.09839837, -0.09839837,\n",
       "       -0.09839837, -0.09839837, -0.09839837, -0.09839837, -0.09839837,\n",
       "        0.02459959,  0.02459959,  0.02459959,  0.02459959,  0.02459959,\n",
       "        0.02459959,  0.02459959,  0.02459959,  0.02459959,  0.02459959,\n",
       "        0.02459959,  0.02459959,  0.02459959,  0.02459959,  0.02459959,\n",
       "        0.02459959,  0.02459959,  0.02459959,  0.02459959,  0.02459959,\n",
       "        0.02459959,  0.02459959,  0.02459959,  0.02459959,  0.14759755,\n",
       "        0.14759755,  0.14759755,  0.14759755,  0.14759755,  0.14759755],\n",
       "      dtype=float32)"
      ]
     },
     "execution_count": 81,
     "metadata": {},
     "output_type": "execute_result"
    }
   ],
   "source": [
    "np.sort(np.linalg.eigvalsh(np.array(ham_vS[0].subs(randsubs)).astype(np.complex64)))"
   ]
  },
  {
   "cell_type": "code",
   "execution_count": 82,
   "metadata": {},
   "outputs": [
    {
     "data": {
      "text/html": [
       "<pre>✔️ 69.4 ms (2022-01-15T18:39:37/2022-01-15T18:39:37)</pre>"
      ],
      "text/plain": [
       "<IPython.core.display.HTML object>"
      ]
     },
     "metadata": {},
     "output_type": "display_data"
    },
    {
     "data": {
      "text/plain": [
       "array([-0.09839837, -0.09839837, -0.09839837, -0.09839837, -0.09839837,\n",
       "       -0.09839837, -0.09839837, -0.09839837, -0.09839837, -0.09839837,\n",
       "       -0.09839837, -0.09839837, -0.09839837, -0.09839837, -0.09839837,\n",
       "        0.02459959,  0.02459959,  0.02459959,  0.02459959,  0.02459959,\n",
       "        0.02459959,  0.02459959,  0.02459959,  0.02459959,  0.02459959,\n",
       "        0.02459959,  0.02459959,  0.02459959,  0.02459959,  0.02459959,\n",
       "        0.02459959,  0.02459959,  0.02459959,  0.02459959,  0.02459959,\n",
       "        0.02459959,  0.02459959,  0.02459959,  0.02459959,  0.14759755,\n",
       "        0.14759755,  0.14759755,  0.14759755,  0.14759755,  0.14759755],\n",
       "      dtype=float32)"
      ]
     },
     "execution_count": 82,
     "metadata": {},
     "output_type": "execute_result"
    }
   ],
   "source": [
    "np.sort(np.linalg.eigvalsh(np.array(ham[0].subs(randsubs)).astype(np.complex64)))"
   ]
  },
  {
   "cell_type": "code",
   "execution_count": 118,
   "metadata": {},
   "outputs": [
    {
     "data": {
      "text/html": [
       "<pre>✔️ 123 ms (2022-01-15T19:07:05/2022-01-15T19:07:05)</pre>"
      ],
      "text/plain": [
       "<IPython.core.display.HTML object>"
      ]
     },
     "metadata": {},
     "output_type": "display_data"
    },
    {
     "data": {
      "text/latex": [
       "$\\displaystyle \\left[\\begin{array}{ccccccccccccccccccccccccccccccccccccccccccccc}- \\frac{B_{4,0}}{7} + F^{(0)} - \\frac{8 F^{(2)}}{49} - \\frac{F^{(4)}}{49} - \\gamma_{S} & 0 & 0 & 0 & 0 & 0 & 0 & 0 & 0 & 0 & 0 & - \\frac{5 B_{4,0}}{21} & 0 & 0 & 0 & 0 & 0 & 0 & 0 & 0 & 0 & 0 & 0 & 0 & 0 & 0 & 0 & 0 & 0 & 0 & 0 & 0 & 0 & 0 & 0 & 0 & 0 & 0 & 0 & 0 & 0 & 0 & 0 & 0 & 0\\\\0 & \\frac{B_{4,0}}{3} + F^{(0)} - \\frac{8 F^{(2)}}{49} - \\frac{F^{(4)}}{49} - \\gamma_{S} & 0 & 0 & 0 & 0 & 0 & 0 & 0 & 0 & 0 & 0 & 0 & 0 & 0 & 0 & 0 & 0 & - \\frac{5 B_{4,0}}{21} & 0 & 0 & 0 & 0 & 0 & 0 & 0 & 0 & 0 & 0 & 0 & 0 & 0 & 0 & 0 & 0 & 0 & 0 & 0 & 0 & 0 & 0 & 0 & 0 & 0 & 0\\\\0 & 0 & - \\frac{B_{4,0}}{7} + F^{(0)} - \\frac{2 F^{(2)}}{49} - \\frac{13 F^{(4)}}{147} - \\gamma_{S} & 0 & 0 & 0 & 0 & 0 & 0 & - \\frac{3 \\sqrt{6} F^{(2)}}{49} + \\frac{5 \\sqrt{6} F^{(4)}}{147} & 0 & 0 & 0 & 0 & 0 & 0 & 0 & 0 & 0 & 0 & 0 & 0 & 0 & 0 & - \\frac{5 B_{4,0}}{21} & 0 & 0 & 0 & 0 & 0 & 0 & 0 & 0 & 0 & 0 & 0 & 0 & 0 & 0 & 0 & 0 & 0 & 0 & 0 & 0\\\\0 & 0 & 0 & \\frac{2 B_{4,0}}{21} + F^{(0)} + \\frac{4 F^{(2)}}{49} - \\frac{23 F^{(4)}}{147} - \\gamma_{S} & 0 & 0 & 0 & 0 & 0 & 0 & - \\frac{6 F^{(2)}}{49} + \\frac{10 F^{(4)}}{147} & 0 & 0 & 0 & 0 & 0 & 0 & 0 & 0 & 0 & 0 & 0 & 0 & 0 & 0 & 0 & 0 & 0 & 0 & 0 & 0 & 0 & 0 & 0 & 0 & 0 & 0 & 0 & 0 & 0 & 0 & 0 & 0 & 0 & 0\\\\0 & 0 & 0 & 0 & \\frac{2 B_{4,0}}{21} + F^{(0)} + \\frac{4 F^{(2)}}{49} + \\frac{F^{(4)}}{441} & 0 & 0 & 0 & \\frac{5 B_{4,0}}{21} & 0 & 0 & 0 & 0 & 0 & 0 & 0 & 0 & 0 & 0 & 0 & 0 & 0 & 0 & 0 & 0 & 0 & 0 & 0 & 0 & 0 & \\frac{5 B_{4,0}}{21} & 0 & 0 & 0 & 0 & 0 & 0 & 0 & 0 & 0 & 0 & 0 & 0 & 0 & 0\\\\0 & 0 & 0 & 0 & 0 & - \\frac{B_{4,0}}{7} + F^{(0)} - \\frac{2 F^{(2)}}{49} - \\frac{4 F^{(4)}}{441} & 0 & 0 & 0 & 0 & 0 & 0 & \\frac{6 F^{(2)}}{49} + \\frac{5 F^{(4)}}{441} & 0 & 0 & 0 & 0 & 0 & 0 & 0 & 0 & 0 & 0 & 0 & 0 & 0 & 0 & 0 & 0 & 0 & 0 & \\frac{5 B_{4,0}}{21} & 0 & 0 & 0 & 0 & 0 & 0 & 0 & 0 & 0 & 0 & 0 & 0 & 0\\\\0 & 0 & 0 & 0 & 0 & 0 & \\frac{B_{4,0}}{3} + F^{(0)} - \\frac{4 F^{(2)}}{49} + \\frac{2 F^{(4)}}{147} & 0 & 0 & 0 & 0 & 0 & 0 & \\frac{\\sqrt{6} F^{(2)}}{49} - \\frac{5 \\sqrt{6} F^{(4)}}{441} & 0 & 0 & 0 & 0 & 0 & \\frac{4 F^{(2)}}{49} + \\frac{5 F^{(4)}}{147} & 0 & 0 & 0 & 0 & 0 & 0 & 0 & 0 & 0 & 0 & 0 & 0 & \\frac{5 B_{4,0}}{21} & 0 & 0 & 0 & 0 & 0 & 0 & 0 & 0 & 0 & 0 & 0 & 0\\\\0 & 0 & 0 & 0 & 0 & 0 & 0 & - \\frac{B_{4,0}}{7} + F^{(0)} - \\frac{2 F^{(2)}}{49} - \\frac{4 F^{(4)}}{441} & 0 & 0 & 0 & 0 & 0 & 0 & - \\frac{\\sqrt{6} F^{(2)}}{49} + \\frac{5 \\sqrt{6} F^{(4)}}{441} & 0 & 0 & 0 & 0 & 0 & \\frac{2 \\sqrt{6} F^{(2)}}{49} - \\frac{10 \\sqrt{6} F^{(4)}}{441} & 0 & 0 & 0 & 0 & \\frac{5 F^{(4)}}{63} & 0 & 0 & 0 & 0 & 0 & 0 & 0 & \\frac{5 B_{4,0}}{21} & 0 & 0 & 0 & 0 & 0 & 0 & 0 & 0 & 0 & 0 & 0\\\\0 & 0 & 0 & 0 & \\frac{5 B_{4,0}}{21} & 0 & 0 & 0 & \\frac{2 B_{4,0}}{21} + F^{(0)} + \\frac{4 F^{(2)}}{49} + \\frac{F^{(4)}}{441} & 0 & 0 & 0 & 0 & 0 & 0 & - \\frac{6 F^{(2)}}{49} - \\frac{5 F^{(4)}}{441} & 0 & 0 & 0 & 0 & 0 & \\frac{4 F^{(2)}}{49} + \\frac{5 F^{(4)}}{147} & 0 & 0 & 0 & 0 & - \\frac{5 F^{(4)}}{63} & 0 & 0 & 0 & \\frac{10 F^{(4)}}{63} & 0 & 0 & 0 & \\frac{5 B_{4,0}}{21} & 0 & 0 & 0 & 0 & 0 & 0 & 0 & 0 & 0 & 0\\\\0 & 0 & - \\frac{3 \\sqrt{6} F^{(2)}}{49} + \\frac{5 \\sqrt{6} F^{(4)}}{147} & 0 & 0 & 0 & 0 & 0 & 0 & \\frac{2 B_{4,0}}{21} + F^{(0)} + \\frac{F^{(2)}}{49} - \\frac{6 F^{(4)}}{49} - \\gamma_{S} & 0 & 0 & 0 & 0 & 0 & 0 & 0 & 0 & 0 & 0 & 0 & 0 & 0 & 0 & 0 & 0 & 0 & 0 & 0 & 0 & 0 & 0 & 0 & 0 & 0 & 0 & 0 & 0 & 0 & 0 & 0 & 0 & 0 & 0 & 0\\\\0 & 0 & 0 & - \\frac{6 F^{(2)}}{49} + \\frac{10 F^{(4)}}{147} & 0 & 0 & 0 & 0 & 0 & 0 & - \\frac{8 B_{4,0}}{21} + F^{(0)} - \\frac{5 F^{(2)}}{49} - \\frac{8 F^{(4)}}{147} - \\gamma_{S} & 0 & 0 & 0 & 0 & 0 & 0 & 0 & 0 & 0 & 0 & 0 & 0 & 0 & 0 & 0 & 0 & 0 & 0 & 0 & 0 & 0 & 0 & 0 & 0 & 0 & 0 & 0 & 0 & 0 & 0 & 0 & 0 & 0 & 0\\\\- \\frac{5 B_{4,0}}{21} & 0 & 0 & 0 & 0 & 0 & 0 & 0 & 0 & 0 & 0 & - \\frac{B_{4,0}}{7} + F^{(0)} - \\frac{2 F^{(2)}}{49} - \\frac{13 F^{(4)}}{147} - \\gamma_{S} & 0 & 0 & 0 & 0 & 0 & - \\frac{3 \\sqrt{6} F^{(2)}}{49} + \\frac{5 \\sqrt{6} F^{(4)}}{147} & 0 & 0 & 0 & 0 & 0 & 0 & 0 & 0 & 0 & 0 & 0 & 0 & 0 & 0 & 0 & 0 & 0 & 0 & 0 & 0 & 0 & 0 & 0 & 0 & 0 & 0 & 0\\\\0 & 0 & 0 & 0 & 0 & \\frac{6 F^{(2)}}{49} + \\frac{5 F^{(4)}}{441} & 0 & 0 & 0 & 0 & 0 & 0 & - \\frac{B_{4,0}}{7} + F^{(0)} - \\frac{2 F^{(2)}}{49} - \\frac{4 F^{(4)}}{441} & 0 & 0 & 0 & \\frac{5 B_{4,0}}{21} & 0 & 0 & 0 & 0 & 0 & 0 & 0 & 0 & 0 & 0 & 0 & 0 & 0 & 0 & 0 & 0 & 0 & 0 & 0 & 0 & 0 & 0 & 0 & 0 & 0 & 0 & 0 & 0\\\\0 & 0 & 0 & 0 & 0 & 0 & \\frac{\\sqrt{6} F^{(2)}}{49} - \\frac{5 \\sqrt{6} F^{(4)}}{441} & 0 & 0 & 0 & 0 & 0 & 0 & - \\frac{8 B_{4,0}}{21} + F^{(0)} + \\frac{F^{(2)}}{49} + \\frac{16 F^{(4)}}{441} & 0 & 0 & 0 & 0 & 0 & \\frac{\\sqrt{6} F^{(2)}}{49} - \\frac{5 \\sqrt{6} F^{(4)}}{441} & 0 & 0 & 0 & 0 & 0 & 0 & 0 & 0 & 0 & 0 & 0 & 0 & 0 & 0 & 0 & 0 & 0 & 0 & 0 & 0 & 0 & 0 & 0 & 0 & 0\\\\0 & 0 & 0 & 0 & 0 & 0 & 0 & - \\frac{\\sqrt{6} F^{(2)}}{49} + \\frac{5 \\sqrt{6} F^{(4)}}{441} & 0 & 0 & 0 & 0 & 0 & 0 & \\frac{2 B_{4,0}}{21} + F^{(0)} + \\frac{2 F^{(2)}}{49} - \\frac{8 F^{(4)}}{147} & 0 & 0 & 0 & 0 & 0 & \\frac{F^{(2)}}{49} + \\frac{10 F^{(4)}}{147} & 0 & 0 & 0 & 0 & \\frac{2 \\sqrt{6} F^{(2)}}{49} - \\frac{10 \\sqrt{6} F^{(4)}}{441} & 0 & 0 & 0 & 0 & 0 & 0 & 0 & 0 & 0 & 0 & 0 & 0 & 0 & 0 & 0 & 0 & 0 & 0 & 0\\\\0 & 0 & 0 & 0 & 0 & 0 & 0 & 0 & - \\frac{6 F^{(2)}}{49} - \\frac{5 F^{(4)}}{441} & 0 & 0 & 0 & 0 & 0 & 0 & - \\frac{8 B_{4,0}}{21} + F^{(0)} + \\frac{F^{(2)}}{49} + \\frac{16 F^{(4)}}{441} & 0 & 0 & 0 & 0 & 0 & - \\frac{F^{(2)}}{49} - \\frac{10 F^{(4)}}{147} & 0 & 0 & 0 & 0 & \\frac{6 F^{(2)}}{49} + \\frac{40 F^{(4)}}{441} & 0 & 0 & 0 & - \\frac{5 F^{(4)}}{63} & 0 & 0 & 0 & 0 & 0 & 0 & 0 & 0 & 0 & 0 & 0 & 0 & 0 & 0\\\\0 & 0 & 0 & 0 & 0 & 0 & 0 & 0 & 0 & 0 & 0 & 0 & \\frac{5 B_{4,0}}{21} & 0 & 0 & 0 & - \\frac{B_{4,0}}{7} + F^{(0)} - \\frac{2 F^{(2)}}{49} - \\frac{4 F^{(4)}}{441} & 0 & 0 & 0 & 0 & 0 & - \\frac{\\sqrt{6} F^{(2)}}{49} + \\frac{5 \\sqrt{6} F^{(4)}}{441} & 0 & 0 & 0 & 0 & \\frac{2 \\sqrt{6} F^{(2)}}{49} - \\frac{10 \\sqrt{6} F^{(4)}}{441} & 0 & 0 & 0 & \\frac{5 F^{(4)}}{63} & 0 & 0 & 0 & 0 & 0 & 0 & 0 & 0 & 0 & 0 & 0 & 0 & 0\\\\0 & 0 & 0 & 0 & 0 & 0 & 0 & 0 & 0 & 0 & 0 & - \\frac{3 \\sqrt{6} F^{(2)}}{49} + \\frac{5 \\sqrt{6} F^{(4)}}{147} & 0 & 0 & 0 & 0 & 0 & \\frac{2 B_{4,0}}{21} + F^{(0)} + \\frac{F^{(2)}}{49} - \\frac{6 F^{(4)}}{49} - \\gamma_{S} & 0 & 0 & 0 & 0 & 0 & 0 & 0 & 0 & 0 & 0 & 0 & 0 & 0 & 0 & 0 & 0 & 0 & 0 & 0 & 0 & 0 & 0 & 0 & 0 & 0 & 0 & 0\\\\0 & - \\frac{5 B_{4,0}}{21} & 0 & 0 & 0 & 0 & 0 & 0 & 0 & 0 & 0 & 0 & 0 & 0 & 0 & 0 & 0 & 0 & \\frac{B_{4,0}}{3} + F^{(0)} - \\frac{8 F^{(2)}}{49} - \\frac{F^{(4)}}{49} - \\gamma_{S} & 0 & 0 & 0 & 0 & 0 & 0 & 0 & 0 & 0 & 0 & 0 & 0 & 0 & 0 & 0 & 0 & 0 & 0 & 0 & 0 & 0 & 0 & 0 & 0 & 0 & 0\\\\0 & 0 & 0 & 0 & 0 & 0 & \\frac{4 F^{(2)}}{49} + \\frac{5 F^{(4)}}{147} & 0 & 0 & 0 & 0 & 0 & 0 & \\frac{\\sqrt{6} F^{(2)}}{49} - \\frac{5 \\sqrt{6} F^{(4)}}{441} & 0 & 0 & 0 & 0 & 0 & \\frac{B_{4,0}}{3} + F^{(0)} - \\frac{4 F^{(2)}}{49} + \\frac{2 F^{(4)}}{147} & 0 & 0 & 0 & \\frac{5 B_{4,0}}{21} & 0 & 0 & 0 & 0 & 0 & 0 & 0 & 0 & 0 & 0 & 0 & 0 & 0 & 0 & 0 & 0 & 0 & 0 & 0 & 0 & 0\\\\0 & 0 & 0 & 0 & 0 & 0 & 0 & \\frac{2 \\sqrt{6} F^{(2)}}{49} - \\frac{10 \\sqrt{6} F^{(4)}}{441} & 0 & 0 & 0 & 0 & 0 & 0 & \\frac{F^{(2)}}{49} + \\frac{10 F^{(4)}}{147} & 0 & 0 & 0 & 0 & 0 & \\frac{2 B_{4,0}}{21} + F^{(0)} + \\frac{2 F^{(2)}}{49} - \\frac{8 F^{(4)}}{147} & 0 & 0 & 0 & 0 & - \\frac{\\sqrt{6} F^{(2)}}{49} + \\frac{5 \\sqrt{6} F^{(4)}}{441} & 0 & 0 & 0 & 0 & 0 & 0 & 0 & 0 & 0 & 0 & 0 & 0 & 0 & 0 & 0 & 0 & 0 & 0 & 0\\\\0 & 0 & 0 & 0 & 0 & 0 & 0 & 0 & \\frac{4 F^{(2)}}{49} + \\frac{5 F^{(4)}}{147} & 0 & 0 & 0 & 0 & 0 & 0 & - \\frac{F^{(2)}}{49} - \\frac{10 F^{(4)}}{147} & 0 & 0 & 0 & 0 & 0 & \\frac{4 B_{4,0}}{7} + F^{(0)} + \\frac{4 F^{(2)}}{49} + \\frac{4 F^{(4)}}{49} & 0 & 0 & 0 & 0 & - \\frac{F^{(2)}}{49} - \\frac{10 F^{(4)}}{147} & 0 & 0 & 0 & \\frac{4 F^{(2)}}{49} + \\frac{5 F^{(4)}}{147} & 0 & 0 & 0 & 0 & 0 & 0 & 0 & 0 & 0 & 0 & 0 & 0 & 0 & 0\\\\0 & 0 & 0 & 0 & 0 & 0 & 0 & 0 & 0 & 0 & 0 & 0 & 0 & 0 & 0 & 0 & - \\frac{\\sqrt{6} F^{(2)}}{49} + \\frac{5 \\sqrt{6} F^{(4)}}{441} & 0 & 0 & 0 & 0 & 0 & \\frac{2 B_{4,0}}{21} + F^{(0)} + \\frac{2 F^{(2)}}{49} - \\frac{8 F^{(4)}}{147} & 0 & 0 & 0 & 0 & \\frac{F^{(2)}}{49} + \\frac{10 F^{(4)}}{147} & 0 & 0 & 0 & \\frac{2 \\sqrt{6} F^{(2)}}{49} - \\frac{10 \\sqrt{6} F^{(4)}}{441} & 0 & 0 & 0 & 0 & 0 & 0 & 0 & 0 & 0 & 0 & 0 & 0 & 0\\\\0 & 0 & 0 & 0 & 0 & 0 & 0 & 0 & 0 & 0 & 0 & 0 & 0 & 0 & 0 & 0 & 0 & 0 & 0 & \\frac{5 B_{4,0}}{21} & 0 & 0 & 0 & \\frac{B_{4,0}}{3} + F^{(0)} - \\frac{4 F^{(2)}}{49} + \\frac{2 F^{(4)}}{147} & 0 & 0 & 0 & 0 & \\frac{\\sqrt{6} F^{(2)}}{49} - \\frac{5 \\sqrt{6} F^{(4)}}{441} & 0 & 0 & 0 & \\frac{4 F^{(2)}}{49} + \\frac{5 F^{(4)}}{147} & 0 & 0 & 0 & 0 & 0 & 0 & 0 & 0 & 0 & 0 & 0 & 0\\\\0 & 0 & - \\frac{5 B_{4,0}}{21} & 0 & 0 & 0 & 0 & 0 & 0 & 0 & 0 & 0 & 0 & 0 & 0 & 0 & 0 & 0 & 0 & 0 & 0 & 0 & 0 & 0 & - \\frac{B_{4,0}}{7} + F^{(0)} - \\frac{8 F^{(2)}}{49} - \\frac{F^{(4)}}{49} - \\gamma_{S} & 0 & 0 & 0 & 0 & 0 & 0 & 0 & 0 & 0 & 0 & 0 & 0 & 0 & 0 & 0 & 0 & 0 & 0 & 0 & 0\\\\0 & 0 & 0 & 0 & 0 & 0 & 0 & \\frac{5 F^{(4)}}{63} & 0 & 0 & 0 & 0 & 0 & 0 & \\frac{2 \\sqrt{6} F^{(2)}}{49} - \\frac{10 \\sqrt{6} F^{(4)}}{441} & 0 & 0 & 0 & 0 & 0 & - \\frac{\\sqrt{6} F^{(2)}}{49} + \\frac{5 \\sqrt{6} F^{(4)}}{441} & 0 & 0 & 0 & 0 & - \\frac{B_{4,0}}{7} + F^{(0)} - \\frac{2 F^{(2)}}{49} - \\frac{4 F^{(4)}}{441} & 0 & 0 & 0 & \\frac{5 B_{4,0}}{21} & 0 & 0 & 0 & 0 & 0 & 0 & 0 & 0 & 0 & 0 & 0 & 0 & 0 & 0 & 0\\\\0 & 0 & 0 & 0 & 0 & 0 & 0 & 0 & - \\frac{5 F^{(4)}}{63} & 0 & 0 & 0 & 0 & 0 & 0 & \\frac{6 F^{(2)}}{49} + \\frac{40 F^{(4)}}{441} & 0 & 0 & 0 & 0 & 0 & - \\frac{F^{(2)}}{49} - \\frac{10 F^{(4)}}{147} & 0 & 0 & 0 & 0 & - \\frac{8 B_{4,0}}{21} + F^{(0)} + \\frac{F^{(2)}}{49} + \\frac{16 F^{(4)}}{441} & 0 & 0 & 0 & - \\frac{6 F^{(2)}}{49} - \\frac{5 F^{(4)}}{441} & 0 & 0 & 0 & 0 & 0 & 0 & 0 & 0 & 0 & 0 & 0 & 0 & 0 & 0\\\\0 & 0 & 0 & 0 & 0 & 0 & 0 & 0 & 0 & 0 & 0 & 0 & 0 & 0 & 0 & 0 & \\frac{2 \\sqrt{6} F^{(2)}}{49} - \\frac{10 \\sqrt{6} F^{(4)}}{441} & 0 & 0 & 0 & 0 & 0 & \\frac{F^{(2)}}{49} + \\frac{10 F^{(4)}}{147} & 0 & 0 & 0 & 0 & \\frac{2 B_{4,0}}{21} + F^{(0)} + \\frac{2 F^{(2)}}{49} - \\frac{8 F^{(4)}}{147} & 0 & 0 & 0 & - \\frac{\\sqrt{6} F^{(2)}}{49} + \\frac{5 \\sqrt{6} F^{(4)}}{441} & 0 & 0 & 0 & 0 & 0 & 0 & 0 & 0 & 0 & 0 & 0 & 0 & 0\\\\0 & 0 & 0 & 0 & 0 & 0 & 0 & 0 & 0 & 0 & 0 & 0 & 0 & 0 & 0 & 0 & 0 & 0 & 0 & 0 & 0 & 0 & 0 & \\frac{\\sqrt{6} F^{(2)}}{49} - \\frac{5 \\sqrt{6} F^{(4)}}{441} & 0 & 0 & 0 & 0 & - \\frac{8 B_{4,0}}{21} + F^{(0)} + \\frac{F^{(2)}}{49} + \\frac{16 F^{(4)}}{441} & 0 & 0 & 0 & \\frac{\\sqrt{6} F^{(2)}}{49} - \\frac{5 \\sqrt{6} F^{(4)}}{441} & 0 & 0 & 0 & 0 & 0 & 0 & 0 & 0 & 0 & 0 & 0 & 0\\\\0 & 0 & 0 & 0 & 0 & 0 & 0 & 0 & 0 & 0 & 0 & 0 & 0 & 0 & 0 & 0 & 0 & 0 & 0 & 0 & 0 & 0 & 0 & 0 & 0 & \\frac{5 B_{4,0}}{21} & 0 & 0 & 0 & - \\frac{B_{4,0}}{7} + F^{(0)} - \\frac{2 F^{(2)}}{49} - \\frac{4 F^{(4)}}{441} & 0 & 0 & 0 & \\frac{6 F^{(2)}}{49} + \\frac{5 F^{(4)}}{441} & 0 & 0 & 0 & 0 & 0 & 0 & 0 & 0 & 0 & 0 & 0\\\\0 & 0 & 0 & 0 & \\frac{5 B_{4,0}}{21} & 0 & 0 & 0 & \\frac{10 F^{(4)}}{63} & 0 & 0 & 0 & 0 & 0 & 0 & - \\frac{5 F^{(4)}}{63} & 0 & 0 & 0 & 0 & 0 & \\frac{4 F^{(2)}}{49} + \\frac{5 F^{(4)}}{147} & 0 & 0 & 0 & 0 & - \\frac{6 F^{(2)}}{49} - \\frac{5 F^{(4)}}{441} & 0 & 0 & 0 & \\frac{2 B_{4,0}}{21} + F^{(0)} + \\frac{4 F^{(2)}}{49} + \\frac{F^{(4)}}{441} & 0 & 0 & 0 & \\frac{5 B_{4,0}}{21} & 0 & 0 & 0 & 0 & 0 & 0 & 0 & 0 & 0 & 0\\\\0 & 0 & 0 & 0 & 0 & \\frac{5 B_{4,0}}{21} & 0 & 0 & 0 & 0 & 0 & 0 & 0 & 0 & 0 & 0 & \\frac{5 F^{(4)}}{63} & 0 & 0 & 0 & 0 & 0 & \\frac{2 \\sqrt{6} F^{(2)}}{49} - \\frac{10 \\sqrt{6} F^{(4)}}{441} & 0 & 0 & 0 & 0 & - \\frac{\\sqrt{6} F^{(2)}}{49} + \\frac{5 \\sqrt{6} F^{(4)}}{441} & 0 & 0 & 0 & - \\frac{B_{4,0}}{7} + F^{(0)} - \\frac{2 F^{(2)}}{49} - \\frac{4 F^{(4)}}{441} & 0 & 0 & 0 & 0 & 0 & 0 & 0 & 0 & 0 & 0 & 0 & 0 & 0\\\\0 & 0 & 0 & 0 & 0 & 0 & \\frac{5 B_{4,0}}{21} & 0 & 0 & 0 & 0 & 0 & 0 & 0 & 0 & 0 & 0 & 0 & 0 & 0 & 0 & 0 & 0 & \\frac{4 F^{(2)}}{49} + \\frac{5 F^{(4)}}{147} & 0 & 0 & 0 & 0 & \\frac{\\sqrt{6} F^{(2)}}{49} - \\frac{5 \\sqrt{6} F^{(4)}}{441} & 0 & 0 & 0 & \\frac{B_{4,0}}{3} + F^{(0)} - \\frac{4 F^{(2)}}{49} + \\frac{2 F^{(4)}}{147} & 0 & 0 & 0 & 0 & 0 & 0 & 0 & 0 & 0 & 0 & 0 & 0\\\\0 & 0 & 0 & 0 & 0 & 0 & 0 & \\frac{5 B_{4,0}}{21} & 0 & 0 & 0 & 0 & 0 & 0 & 0 & 0 & 0 & 0 & 0 & 0 & 0 & 0 & 0 & 0 & 0 & 0 & 0 & 0 & 0 & \\frac{6 F^{(2)}}{49} + \\frac{5 F^{(4)}}{441} & 0 & 0 & 0 & - \\frac{B_{4,0}}{7} + F^{(0)} - \\frac{2 F^{(2)}}{49} - \\frac{4 F^{(4)}}{441} & 0 & 0 & 0 & 0 & 0 & 0 & 0 & 0 & 0 & 0 & 0\\\\0 & 0 & 0 & 0 & 0 & 0 & 0 & 0 & \\frac{5 B_{4,0}}{21} & 0 & 0 & 0 & 0 & 0 & 0 & 0 & 0 & 0 & 0 & 0 & 0 & 0 & 0 & 0 & 0 & 0 & 0 & 0 & 0 & 0 & \\frac{5 B_{4,0}}{21} & 0 & 0 & 0 & \\frac{2 B_{4,0}}{21} + F^{(0)} + \\frac{4 F^{(2)}}{49} + \\frac{F^{(4)}}{441} & 0 & 0 & 0 & 0 & 0 & 0 & 0 & 0 & 0 & 0\\\\0 & 0 & 0 & 0 & 0 & 0 & 0 & 0 & 0 & 0 & 0 & 0 & 0 & 0 & 0 & 0 & 0 & 0 & 0 & 0 & 0 & 0 & 0 & 0 & 0 & 0 & 0 & 0 & 0 & 0 & 0 & 0 & 0 & 0 & 0 & - \\frac{B_{4,0}}{7} + F^{(0)} - \\frac{8 F^{(2)}}{49} - \\frac{F^{(4)}}{49} + \\gamma_{S} & 0 & 0 & 0 & 0 & 0 & - \\frac{5 B_{4,0}}{21} & 0 & 0 & 0\\\\0 & 0 & 0 & 0 & 0 & 0 & 0 & 0 & 0 & 0 & 0 & 0 & 0 & 0 & 0 & 0 & 0 & 0 & 0 & 0 & 0 & 0 & 0 & 0 & 0 & 0 & 0 & 0 & 0 & 0 & 0 & 0 & 0 & 0 & 0 & 0 & \\frac{B_{4,0}}{3} + F^{(0)} - \\frac{8 F^{(2)}}{49} - \\frac{F^{(4)}}{49} + \\gamma_{S} & 0 & 0 & 0 & 0 & 0 & 0 & - \\frac{5 B_{4,0}}{21} & 0\\\\0 & 0 & 0 & 0 & 0 & 0 & 0 & 0 & 0 & 0 & 0 & 0 & 0 & 0 & 0 & 0 & 0 & 0 & 0 & 0 & 0 & 0 & 0 & 0 & 0 & 0 & 0 & 0 & 0 & 0 & 0 & 0 & 0 & 0 & 0 & 0 & 0 & - \\frac{B_{4,0}}{7} + F^{(0)} - \\frac{2 F^{(2)}}{49} - \\frac{13 F^{(4)}}{147} + \\gamma_{S} & 0 & - \\frac{3 \\sqrt{6} F^{(2)}}{49} + \\frac{5 \\sqrt{6} F^{(4)}}{147} & 0 & 0 & 0 & 0 & - \\frac{5 B_{4,0}}{21}\\\\0 & 0 & 0 & 0 & 0 & 0 & 0 & 0 & 0 & 0 & 0 & 0 & 0 & 0 & 0 & 0 & 0 & 0 & 0 & 0 & 0 & 0 & 0 & 0 & 0 & 0 & 0 & 0 & 0 & 0 & 0 & 0 & 0 & 0 & 0 & 0 & 0 & 0 & \\frac{2 B_{4,0}}{21} + F^{(0)} + \\frac{4 F^{(2)}}{49} - \\frac{23 F^{(4)}}{147} + \\gamma_{S} & 0 & - \\frac{6 F^{(2)}}{49} + \\frac{10 F^{(4)}}{147} & 0 & 0 & 0 & 0\\\\0 & 0 & 0 & 0 & 0 & 0 & 0 & 0 & 0 & 0 & 0 & 0 & 0 & 0 & 0 & 0 & 0 & 0 & 0 & 0 & 0 & 0 & 0 & 0 & 0 & 0 & 0 & 0 & 0 & 0 & 0 & 0 & 0 & 0 & 0 & 0 & 0 & - \\frac{3 \\sqrt{6} F^{(2)}}{49} + \\frac{5 \\sqrt{6} F^{(4)}}{147} & 0 & \\frac{2 B_{4,0}}{21} + F^{(0)} + \\frac{F^{(2)}}{49} - \\frac{6 F^{(4)}}{49} + \\gamma_{S} & 0 & 0 & 0 & 0 & 0\\\\0 & 0 & 0 & 0 & 0 & 0 & 0 & 0 & 0 & 0 & 0 & 0 & 0 & 0 & 0 & 0 & 0 & 0 & 0 & 0 & 0 & 0 & 0 & 0 & 0 & 0 & 0 & 0 & 0 & 0 & 0 & 0 & 0 & 0 & 0 & 0 & 0 & 0 & - \\frac{6 F^{(2)}}{49} + \\frac{10 F^{(4)}}{147} & 0 & - \\frac{8 B_{4,0}}{21} + F^{(0)} - \\frac{5 F^{(2)}}{49} - \\frac{8 F^{(4)}}{147} + \\gamma_{S} & 0 & 0 & 0 & 0\\\\0 & 0 & 0 & 0 & 0 & 0 & 0 & 0 & 0 & 0 & 0 & 0 & 0 & 0 & 0 & 0 & 0 & 0 & 0 & 0 & 0 & 0 & 0 & 0 & 0 & 0 & 0 & 0 & 0 & 0 & 0 & 0 & 0 & 0 & 0 & - \\frac{5 B_{4,0}}{21} & 0 & 0 & 0 & 0 & 0 & - \\frac{B_{4,0}}{7} + F^{(0)} - \\frac{2 F^{(2)}}{49} - \\frac{13 F^{(4)}}{147} + \\gamma_{S} & - \\frac{3 \\sqrt{6} F^{(2)}}{49} + \\frac{5 \\sqrt{6} F^{(4)}}{147} & 0 & 0\\\\0 & 0 & 0 & 0 & 0 & 0 & 0 & 0 & 0 & 0 & 0 & 0 & 0 & 0 & 0 & 0 & 0 & 0 & 0 & 0 & 0 & 0 & 0 & 0 & 0 & 0 & 0 & 0 & 0 & 0 & 0 & 0 & 0 & 0 & 0 & 0 & 0 & 0 & 0 & 0 & 0 & - \\frac{3 \\sqrt{6} F^{(2)}}{49} + \\frac{5 \\sqrt{6} F^{(4)}}{147} & \\frac{2 B_{4,0}}{21} + F^{(0)} + \\frac{F^{(2)}}{49} - \\frac{6 F^{(4)}}{49} + \\gamma_{S} & 0 & 0\\\\0 & 0 & 0 & 0 & 0 & 0 & 0 & 0 & 0 & 0 & 0 & 0 & 0 & 0 & 0 & 0 & 0 & 0 & 0 & 0 & 0 & 0 & 0 & 0 & 0 & 0 & 0 & 0 & 0 & 0 & 0 & 0 & 0 & 0 & 0 & 0 & - \\frac{5 B_{4,0}}{21} & 0 & 0 & 0 & 0 & 0 & 0 & \\frac{B_{4,0}}{3} + F^{(0)} - \\frac{8 F^{(2)}}{49} - \\frac{F^{(4)}}{49} + \\gamma_{S} & 0\\\\0 & 0 & 0 & 0 & 0 & 0 & 0 & 0 & 0 & 0 & 0 & 0 & 0 & 0 & 0 & 0 & 0 & 0 & 0 & 0 & 0 & 0 & 0 & 0 & 0 & 0 & 0 & 0 & 0 & 0 & 0 & 0 & 0 & 0 & 0 & 0 & 0 & - \\frac{5 B_{4,0}}{21} & 0 & 0 & 0 & 0 & 0 & 0 & - \\frac{B_{4,0}}{7} + F^{(0)} - \\frac{8 F^{(2)}}{49} - \\frac{F^{(4)}}{49} + \\gamma_{S}\\end{array}\\right]$"
      ],
      "text/plain": [
       "Matrix([\n",
       "[-B_{4,0}/7 + F^{(0)} - 8*F^{(2)}/49 - F^{(4)}/49 - \\gamma_S,                                                          0,                                                               0,                                                                 0,                                                   0,                                                   0,                                                  0,                                                   0,                                                   0,                                                             0,                                                                 0,                                                   -5*B_{4,0}/21,                                                   0,                                                     0,                                                     0,                                                     0,                                                   0,                                                             0,                                                          0,                                                  0,                                                     0,                                                   0,                                                     0,                                                  0,                                                           0,                                                   0,                                                     0,                                                     0,                                                     0,                                                   0,                                                   0,                                                   0,                                                  0,                                                   0,                                                   0,                                                           0,                                                          0,                                                               0,                                                                 0,                                                             0,                                                                 0,                                                               0,                                                             0,                                                          0,                                                           0],\n",
       "[                                                          0, B_{4,0}/3 + F^{(0)} - 8*F^{(2)}/49 - F^{(4)}/49 - \\gamma_S,                                                               0,                                                                 0,                                                   0,                                                   0,                                                  0,                                                   0,                                                   0,                                                             0,                                                                 0,                                                               0,                                                   0,                                                     0,                                                     0,                                                     0,                                                   0,                                                             0,                                              -5*B_{4,0}/21,                                                  0,                                                     0,                                                   0,                                                     0,                                                  0,                                                           0,                                                   0,                                                     0,                                                     0,                                                     0,                                                   0,                                                   0,                                                   0,                                                  0,                                                   0,                                                   0,                                                           0,                                                          0,                                                               0,                                                                 0,                                                             0,                                                                 0,                                                               0,                                                             0,                                                          0,                                                           0],\n",
       "[                                                          0,                                                          0, -B_{4,0}/7 + F^{(0)} - 2*F^{(2)}/49 - 13*F^{(4)}/147 - \\gamma_S,                                                                 0,                                                   0,                                                   0,                                                  0,                                                   0,                                                   0,                 -3*sqrt(6)*F^{(2)}/49 + 5*sqrt(6)*F^{(4)}/147,                                                                 0,                                                               0,                                                   0,                                                     0,                                                     0,                                                     0,                                                   0,                                                             0,                                                          0,                                                  0,                                                     0,                                                   0,                                                     0,                                                  0,                                               -5*B_{4,0}/21,                                                   0,                                                     0,                                                     0,                                                     0,                                                   0,                                                   0,                                                   0,                                                  0,                                                   0,                                                   0,                                                           0,                                                          0,                                                               0,                                                                 0,                                                             0,                                                                 0,                                                               0,                                                             0,                                                          0,                                                           0],\n",
       "[                                                          0,                                                          0,                                                               0, 2*B_{4,0}/21 + F^{(0)} + 4*F^{(2)}/49 - 23*F^{(4)}/147 - \\gamma_S,                                                   0,                                                   0,                                                  0,                                                   0,                                                   0,                                                             0,                                    -6*F^{(2)}/49 + 10*F^{(4)}/147,                                                               0,                                                   0,                                                     0,                                                     0,                                                     0,                                                   0,                                                             0,                                                          0,                                                  0,                                                     0,                                                   0,                                                     0,                                                  0,                                                           0,                                                   0,                                                     0,                                                     0,                                                     0,                                                   0,                                                   0,                                                   0,                                                  0,                                                   0,                                                   0,                                                           0,                                                          0,                                                               0,                                                                 0,                                                             0,                                                                 0,                                                               0,                                                             0,                                                          0,                                                           0],\n",
       "[                                                          0,                                                          0,                                                               0,                                                                 0, 2*B_{4,0}/21 + F^{(0)} + 4*F^{(2)}/49 + F^{(4)}/441,                                                   0,                                                  0,                                                   0,                                        5*B_{4,0}/21,                                                             0,                                                                 0,                                                               0,                                                   0,                                                     0,                                                     0,                                                     0,                                                   0,                                                             0,                                                          0,                                                  0,                                                     0,                                                   0,                                                     0,                                                  0,                                                           0,                                                   0,                                                     0,                                                     0,                                                     0,                                                   0,                                        5*B_{4,0}/21,                                                   0,                                                  0,                                                   0,                                                   0,                                                           0,                                                          0,                                                               0,                                                                 0,                                                             0,                                                                 0,                                                               0,                                                             0,                                                          0,                                                           0],\n",
       "[                                                          0,                                                          0,                                                               0,                                                                 0,                                                   0, -B_{4,0}/7 + F^{(0)} - 2*F^{(2)}/49 - 4*F^{(4)}/441,                                                  0,                                                   0,                                                   0,                                                             0,                                                                 0,                                                               0,                        6*F^{(2)}/49 + 5*F^{(4)}/441,                                                     0,                                                     0,                                                     0,                                                   0,                                                             0,                                                          0,                                                  0,                                                     0,                                                   0,                                                     0,                                                  0,                                                           0,                                                   0,                                                     0,                                                     0,                                                     0,                                                   0,                                                   0,                                        5*B_{4,0}/21,                                                  0,                                                   0,                                                   0,                                                           0,                                                          0,                                                               0,                                                                 0,                                                             0,                                                                 0,                                                               0,                                                             0,                                                          0,                                                           0],\n",
       "[                                                          0,                                                          0,                                                               0,                                                                 0,                                                   0,                                                   0, B_{4,0}/3 + F^{(0)} - 4*F^{(2)}/49 + 2*F^{(4)}/147,                                                   0,                                                   0,                                                             0,                                                                 0,                                                               0,                                                   0,            sqrt(6)*F^{(2)}/49 - 5*sqrt(6)*F^{(4)}/441,                                                     0,                                                     0,                                                   0,                                                             0,                                                          0,                       4*F^{(2)}/49 + 5*F^{(4)}/147,                                                     0,                                                   0,                                                     0,                                                  0,                                                           0,                                                   0,                                                     0,                                                     0,                                                     0,                                                   0,                                                   0,                                                   0,                                       5*B_{4,0}/21,                                                   0,                                                   0,                                                           0,                                                          0,                                                               0,                                                                 0,                                                             0,                                                                 0,                                                               0,                                                             0,                                                          0,                                                           0],\n",
       "[                                                          0,                                                          0,                                                               0,                                                                 0,                                                   0,                                                   0,                                                  0, -B_{4,0}/7 + F^{(0)} - 2*F^{(2)}/49 - 4*F^{(4)}/441,                                                   0,                                                             0,                                                                 0,                                                               0,                                                   0,                                                     0,           -sqrt(6)*F^{(2)}/49 + 5*sqrt(6)*F^{(4)}/441,                                                     0,                                                   0,                                                             0,                                                          0,                                                  0,         2*sqrt(6)*F^{(2)}/49 - 10*sqrt(6)*F^{(4)}/441,                                                   0,                                                     0,                                                  0,                                                           0,                                        5*F^{(4)}/63,                                                     0,                                                     0,                                                     0,                                                   0,                                                   0,                                                   0,                                                  0,                                        5*B_{4,0}/21,                                                   0,                                                           0,                                                          0,                                                               0,                                                                 0,                                                             0,                                                                 0,                                                               0,                                                             0,                                                          0,                                                           0],\n",
       "[                                                          0,                                                          0,                                                               0,                                                                 0,                                        5*B_{4,0}/21,                                                   0,                                                  0,                                                   0, 2*B_{4,0}/21 + F^{(0)} + 4*F^{(2)}/49 + F^{(4)}/441,                                                             0,                                                                 0,                                                               0,                                                   0,                                                     0,                                                     0,                         -6*F^{(2)}/49 - 5*F^{(4)}/441,                                                   0,                                                             0,                                                          0,                                                  0,                                                     0,                        4*F^{(2)}/49 + 5*F^{(4)}/147,                                                     0,                                                  0,                                                           0,                                                   0,                                         -5*F^{(4)}/63,                                                     0,                                                     0,                                                   0,                                       10*F^{(4)}/63,                                                   0,                                                  0,                                                   0,                                        5*B_{4,0}/21,                                                           0,                                                          0,                                                               0,                                                                 0,                                                             0,                                                                 0,                                                               0,                                                             0,                                                          0,                                                           0],\n",
       "[                                                          0,                                                          0,                   -3*sqrt(6)*F^{(2)}/49 + 5*sqrt(6)*F^{(4)}/147,                                                                 0,                                                   0,                                                   0,                                                  0,                                                   0,                                                   0, 2*B_{4,0}/21 + F^{(0)} + F^{(2)}/49 - 6*F^{(4)}/49 - \\gamma_S,                                                                 0,                                                               0,                                                   0,                                                     0,                                                     0,                                                     0,                                                   0,                                                             0,                                                          0,                                                  0,                                                     0,                                                   0,                                                     0,                                                  0,                                                           0,                                                   0,                                                     0,                                                     0,                                                     0,                                                   0,                                                   0,                                                   0,                                                  0,                                                   0,                                                   0,                                                           0,                                                          0,                                                               0,                                                                 0,                                                             0,                                                                 0,                                                               0,                                                             0,                                                          0,                                                           0],\n",
       "[                                                          0,                                                          0,                                                               0,                                    -6*F^{(2)}/49 + 10*F^{(4)}/147,                                                   0,                                                   0,                                                  0,                                                   0,                                                   0,                                                             0, -8*B_{4,0}/21 + F^{(0)} - 5*F^{(2)}/49 - 8*F^{(4)}/147 - \\gamma_S,                                                               0,                                                   0,                                                     0,                                                     0,                                                     0,                                                   0,                                                             0,                                                          0,                                                  0,                                                     0,                                                   0,                                                     0,                                                  0,                                                           0,                                                   0,                                                     0,                                                     0,                                                     0,                                                   0,                                                   0,                                                   0,                                                  0,                                                   0,                                                   0,                                                           0,                                                          0,                                                               0,                                                                 0,                                                             0,                                                                 0,                                                               0,                                                             0,                                                          0,                                                           0],\n",
       "[                                              -5*B_{4,0}/21,                                                          0,                                                               0,                                                                 0,                                                   0,                                                   0,                                                  0,                                                   0,                                                   0,                                                             0,                                                                 0, -B_{4,0}/7 + F^{(0)} - 2*F^{(2)}/49 - 13*F^{(4)}/147 - \\gamma_S,                                                   0,                                                     0,                                                     0,                                                     0,                                                   0,                 -3*sqrt(6)*F^{(2)}/49 + 5*sqrt(6)*F^{(4)}/147,                                                          0,                                                  0,                                                     0,                                                   0,                                                     0,                                                  0,                                                           0,                                                   0,                                                     0,                                                     0,                                                     0,                                                   0,                                                   0,                                                   0,                                                  0,                                                   0,                                                   0,                                                           0,                                                          0,                                                               0,                                                                 0,                                                             0,                                                                 0,                                                               0,                                                             0,                                                          0,                                                           0],\n",
       "[                                                          0,                                                          0,                                                               0,                                                                 0,                                                   0,                        6*F^{(2)}/49 + 5*F^{(4)}/441,                                                  0,                                                   0,                                                   0,                                                             0,                                                                 0,                                                               0, -B_{4,0}/7 + F^{(0)} - 2*F^{(2)}/49 - 4*F^{(4)}/441,                                                     0,                                                     0,                                                     0,                                        5*B_{4,0}/21,                                                             0,                                                          0,                                                  0,                                                     0,                                                   0,                                                     0,                                                  0,                                                           0,                                                   0,                                                     0,                                                     0,                                                     0,                                                   0,                                                   0,                                                   0,                                                  0,                                                   0,                                                   0,                                                           0,                                                          0,                                                               0,                                                                 0,                                                             0,                                                                 0,                                                               0,                                                             0,                                                          0,                                                           0],\n",
       "[                                                          0,                                                          0,                                                               0,                                                                 0,                                                   0,                                                   0,         sqrt(6)*F^{(2)}/49 - 5*sqrt(6)*F^{(4)}/441,                                                   0,                                                   0,                                                             0,                                                                 0,                                                               0,                                                   0, -8*B_{4,0}/21 + F^{(0)} + F^{(2)}/49 + 16*F^{(4)}/441,                                                     0,                                                     0,                                                   0,                                                             0,                                                          0,         sqrt(6)*F^{(2)}/49 - 5*sqrt(6)*F^{(4)}/441,                                                     0,                                                   0,                                                     0,                                                  0,                                                           0,                                                   0,                                                     0,                                                     0,                                                     0,                                                   0,                                                   0,                                                   0,                                                  0,                                                   0,                                                   0,                                                           0,                                                          0,                                                               0,                                                                 0,                                                             0,                                                                 0,                                                               0,                                                             0,                                                          0,                                                           0],\n",
       "[                                                          0,                                                          0,                                                               0,                                                                 0,                                                   0,                                                   0,                                                  0,         -sqrt(6)*F^{(2)}/49 + 5*sqrt(6)*F^{(4)}/441,                                                   0,                                                             0,                                                                 0,                                                               0,                                                   0,                                                     0, 2*B_{4,0}/21 + F^{(0)} + 2*F^{(2)}/49 - 8*F^{(4)}/147,                                                     0,                                                   0,                                                             0,                                                          0,                                                  0,                           F^{(2)}/49 + 10*F^{(4)}/147,                                                   0,                                                     0,                                                  0,                                                           0,       2*sqrt(6)*F^{(2)}/49 - 10*sqrt(6)*F^{(4)}/441,                                                     0,                                                     0,                                                     0,                                                   0,                                                   0,                                                   0,                                                  0,                                                   0,                                                   0,                                                           0,                                                          0,                                                               0,                                                                 0,                                                             0,                                                                 0,                                                               0,                                                             0,                                                          0,                                                           0],\n",
       "[                                                          0,                                                          0,                                                               0,                                                                 0,                                                   0,                                                   0,                                                  0,                                                   0,                       -6*F^{(2)}/49 - 5*F^{(4)}/441,                                                             0,                                                                 0,                                                               0,                                                   0,                                                     0,                                                     0, -8*B_{4,0}/21 + F^{(0)} + F^{(2)}/49 + 16*F^{(4)}/441,                                                   0,                                                             0,                                                          0,                                                  0,                                                     0,                        -F^{(2)}/49 - 10*F^{(4)}/147,                                                     0,                                                  0,                                                           0,                                                   0,                         6*F^{(2)}/49 + 40*F^{(4)}/441,                                                     0,                                                     0,                                                   0,                                       -5*F^{(4)}/63,                                                   0,                                                  0,                                                   0,                                                   0,                                                           0,                                                          0,                                                               0,                                                                 0,                                                             0,                                                                 0,                                                               0,                                                             0,                                                          0,                                                           0],\n",
       "[                                                          0,                                                          0,                                                               0,                                                                 0,                                                   0,                                                   0,                                                  0,                                                   0,                                                   0,                                                             0,                                                                 0,                                                               0,                                        5*B_{4,0}/21,                                                     0,                                                     0,                                                     0, -B_{4,0}/7 + F^{(0)} - 2*F^{(2)}/49 - 4*F^{(4)}/441,                                                             0,                                                          0,                                                  0,                                                     0,                                                   0,           -sqrt(6)*F^{(2)}/49 + 5*sqrt(6)*F^{(4)}/441,                                                  0,                                                           0,                                                   0,                                                     0,         2*sqrt(6)*F^{(2)}/49 - 10*sqrt(6)*F^{(4)}/441,                                                     0,                                                   0,                                                   0,                                        5*F^{(4)}/63,                                                  0,                                                   0,                                                   0,                                                           0,                                                          0,                                                               0,                                                                 0,                                                             0,                                                                 0,                                                               0,                                                             0,                                                          0,                                                           0],\n",
       "[                                                          0,                                                          0,                                                               0,                                                                 0,                                                   0,                                                   0,                                                  0,                                                   0,                                                   0,                                                             0,                                                                 0,                   -3*sqrt(6)*F^{(2)}/49 + 5*sqrt(6)*F^{(4)}/147,                                                   0,                                                     0,                                                     0,                                                     0,                                                   0, 2*B_{4,0}/21 + F^{(0)} + F^{(2)}/49 - 6*F^{(4)}/49 - \\gamma_S,                                                          0,                                                  0,                                                     0,                                                   0,                                                     0,                                                  0,                                                           0,                                                   0,                                                     0,                                                     0,                                                     0,                                                   0,                                                   0,                                                   0,                                                  0,                                                   0,                                                   0,                                                           0,                                                          0,                                                               0,                                                                 0,                                                             0,                                                                 0,                                                               0,                                                             0,                                                          0,                                                           0],\n",
       "[                                                          0,                                              -5*B_{4,0}/21,                                                               0,                                                                 0,                                                   0,                                                   0,                                                  0,                                                   0,                                                   0,                                                             0,                                                                 0,                                                               0,                                                   0,                                                     0,                                                     0,                                                     0,                                                   0,                                                             0, B_{4,0}/3 + F^{(0)} - 8*F^{(2)}/49 - F^{(4)}/49 - \\gamma_S,                                                  0,                                                     0,                                                   0,                                                     0,                                                  0,                                                           0,                                                   0,                                                     0,                                                     0,                                                     0,                                                   0,                                                   0,                                                   0,                                                  0,                                                   0,                                                   0,                                                           0,                                                          0,                                                               0,                                                                 0,                                                             0,                                                                 0,                                                               0,                                                             0,                                                          0,                                                           0],\n",
       "[                                                          0,                                                          0,                                                               0,                                                                 0,                                                   0,                                                   0,                       4*F^{(2)}/49 + 5*F^{(4)}/147,                                                   0,                                                   0,                                                             0,                                                                 0,                                                               0,                                                   0,            sqrt(6)*F^{(2)}/49 - 5*sqrt(6)*F^{(4)}/441,                                                     0,                                                     0,                                                   0,                                                             0,                                                          0, B_{4,0}/3 + F^{(0)} - 4*F^{(2)}/49 + 2*F^{(4)}/147,                                                     0,                                                   0,                                                     0,                                       5*B_{4,0}/21,                                                           0,                                                   0,                                                     0,                                                     0,                                                     0,                                                   0,                                                   0,                                                   0,                                                  0,                                                   0,                                                   0,                                                           0,                                                          0,                                                               0,                                                                 0,                                                             0,                                                                 0,                                                               0,                                                             0,                                                          0,                                                           0],\n",
       "[                                                          0,                                                          0,                                                               0,                                                                 0,                                                   0,                                                   0,                                                  0,       2*sqrt(6)*F^{(2)}/49 - 10*sqrt(6)*F^{(4)}/441,                                                   0,                                                             0,                                                                 0,                                                               0,                                                   0,                                                     0,                           F^{(2)}/49 + 10*F^{(4)}/147,                                                     0,                                                   0,                                                             0,                                                          0,                                                  0, 2*B_{4,0}/21 + F^{(0)} + 2*F^{(2)}/49 - 8*F^{(4)}/147,                                                   0,                                                     0,                                                  0,                                                           0,         -sqrt(6)*F^{(2)}/49 + 5*sqrt(6)*F^{(4)}/441,                                                     0,                                                     0,                                                     0,                                                   0,                                                   0,                                                   0,                                                  0,                                                   0,                                                   0,                                                           0,                                                          0,                                                               0,                                                                 0,                                                             0,                                                                 0,                                                               0,                                                             0,                                                          0,                                                           0],\n",
       "[                                                          0,                                                          0,                                                               0,                                                                 0,                                                   0,                                                   0,                                                  0,                                                   0,                        4*F^{(2)}/49 + 5*F^{(4)}/147,                                                             0,                                                                 0,                                                               0,                                                   0,                                                     0,                                                     0,                          -F^{(2)}/49 - 10*F^{(4)}/147,                                                   0,                                                             0,                                                          0,                                                  0,                                                     0, 4*B_{4,0}/7 + F^{(0)} + 4*F^{(2)}/49 + 4*F^{(4)}/49,                                                     0,                                                  0,                                                           0,                                                   0,                          -F^{(2)}/49 - 10*F^{(4)}/147,                                                     0,                                                     0,                                                   0,                        4*F^{(2)}/49 + 5*F^{(4)}/147,                                                   0,                                                  0,                                                   0,                                                   0,                                                           0,                                                          0,                                                               0,                                                                 0,                                                             0,                                                                 0,                                                               0,                                                             0,                                                          0,                                                           0],\n",
       "[                                                          0,                                                          0,                                                               0,                                                                 0,                                                   0,                                                   0,                                                  0,                                                   0,                                                   0,                                                             0,                                                                 0,                                                               0,                                                   0,                                                     0,                                                     0,                                                     0,         -sqrt(6)*F^{(2)}/49 + 5*sqrt(6)*F^{(4)}/441,                                                             0,                                                          0,                                                  0,                                                     0,                                                   0, 2*B_{4,0}/21 + F^{(0)} + 2*F^{(2)}/49 - 8*F^{(4)}/147,                                                  0,                                                           0,                                                   0,                                                     0,                           F^{(2)}/49 + 10*F^{(4)}/147,                                                     0,                                                   0,                                                   0,       2*sqrt(6)*F^{(2)}/49 - 10*sqrt(6)*F^{(4)}/441,                                                  0,                                                   0,                                                   0,                                                           0,                                                          0,                                                               0,                                                                 0,                                                             0,                                                                 0,                                                               0,                                                             0,                                                          0,                                                           0],\n",
       "[                                                          0,                                                          0,                                                               0,                                                                 0,                                                   0,                                                   0,                                                  0,                                                   0,                                                   0,                                                             0,                                                                 0,                                                               0,                                                   0,                                                     0,                                                     0,                                                     0,                                                   0,                                                             0,                                                          0,                                       5*B_{4,0}/21,                                                     0,                                                   0,                                                     0, B_{4,0}/3 + F^{(0)} - 4*F^{(2)}/49 + 2*F^{(4)}/147,                                                           0,                                                   0,                                                     0,                                                     0,            sqrt(6)*F^{(2)}/49 - 5*sqrt(6)*F^{(4)}/441,                                                   0,                                                   0,                                                   0,                       4*F^{(2)}/49 + 5*F^{(4)}/147,                                                   0,                                                   0,                                                           0,                                                          0,                                                               0,                                                                 0,                                                             0,                                                                 0,                                                               0,                                                             0,                                                          0,                                                           0],\n",
       "[                                                          0,                                                          0,                                                   -5*B_{4,0}/21,                                                                 0,                                                   0,                                                   0,                                                  0,                                                   0,                                                   0,                                                             0,                                                                 0,                                                               0,                                                   0,                                                     0,                                                     0,                                                     0,                                                   0,                                                             0,                                                          0,                                                  0,                                                     0,                                                   0,                                                     0,                                                  0, -B_{4,0}/7 + F^{(0)} - 8*F^{(2)}/49 - F^{(4)}/49 - \\gamma_S,                                                   0,                                                     0,                                                     0,                                                     0,                                                   0,                                                   0,                                                   0,                                                  0,                                                   0,                                                   0,                                                           0,                                                          0,                                                               0,                                                                 0,                                                             0,                                                                 0,                                                               0,                                                             0,                                                          0,                                                           0],\n",
       "[                                                          0,                                                          0,                                                               0,                                                                 0,                                                   0,                                                   0,                                                  0,                                        5*F^{(4)}/63,                                                   0,                                                             0,                                                                 0,                                                               0,                                                   0,                                                     0,         2*sqrt(6)*F^{(2)}/49 - 10*sqrt(6)*F^{(4)}/441,                                                     0,                                                   0,                                                             0,                                                          0,                                                  0,           -sqrt(6)*F^{(2)}/49 + 5*sqrt(6)*F^{(4)}/441,                                                   0,                                                     0,                                                  0,                                                           0, -B_{4,0}/7 + F^{(0)} - 2*F^{(2)}/49 - 4*F^{(4)}/441,                                                     0,                                                     0,                                                     0,                                        5*B_{4,0}/21,                                                   0,                                                   0,                                                  0,                                                   0,                                                   0,                                                           0,                                                          0,                                                               0,                                                                 0,                                                             0,                                                                 0,                                                               0,                                                             0,                                                          0,                                                           0],\n",
       "[                                                          0,                                                          0,                                                               0,                                                                 0,                                                   0,                                                   0,                                                  0,                                                   0,                                       -5*F^{(4)}/63,                                                             0,                                                                 0,                                                               0,                                                   0,                                                     0,                                                     0,                         6*F^{(2)}/49 + 40*F^{(4)}/441,                                                   0,                                                             0,                                                          0,                                                  0,                                                     0,                        -F^{(2)}/49 - 10*F^{(4)}/147,                                                     0,                                                  0,                                                           0,                                                   0, -8*B_{4,0}/21 + F^{(0)} + F^{(2)}/49 + 16*F^{(4)}/441,                                                     0,                                                     0,                                                   0,                       -6*F^{(2)}/49 - 5*F^{(4)}/441,                                                   0,                                                  0,                                                   0,                                                   0,                                                           0,                                                          0,                                                               0,                                                                 0,                                                             0,                                                                 0,                                                               0,                                                             0,                                                          0,                                                           0],\n",
       "[                                                          0,                                                          0,                                                               0,                                                                 0,                                                   0,                                                   0,                                                  0,                                                   0,                                                   0,                                                             0,                                                                 0,                                                               0,                                                   0,                                                     0,                                                     0,                                                     0,       2*sqrt(6)*F^{(2)}/49 - 10*sqrt(6)*F^{(4)}/441,                                                             0,                                                          0,                                                  0,                                                     0,                                                   0,                           F^{(2)}/49 + 10*F^{(4)}/147,                                                  0,                                                           0,                                                   0,                                                     0, 2*B_{4,0}/21 + F^{(0)} + 2*F^{(2)}/49 - 8*F^{(4)}/147,                                                     0,                                                   0,                                                   0,         -sqrt(6)*F^{(2)}/49 + 5*sqrt(6)*F^{(4)}/441,                                                  0,                                                   0,                                                   0,                                                           0,                                                          0,                                                               0,                                                                 0,                                                             0,                                                                 0,                                                               0,                                                             0,                                                          0,                                                           0],\n",
       "[                                                          0,                                                          0,                                                               0,                                                                 0,                                                   0,                                                   0,                                                  0,                                                   0,                                                   0,                                                             0,                                                                 0,                                                               0,                                                   0,                                                     0,                                                     0,                                                     0,                                                   0,                                                             0,                                                          0,                                                  0,                                                     0,                                                   0,                                                     0,         sqrt(6)*F^{(2)}/49 - 5*sqrt(6)*F^{(4)}/441,                                                           0,                                                   0,                                                     0,                                                     0, -8*B_{4,0}/21 + F^{(0)} + F^{(2)}/49 + 16*F^{(4)}/441,                                                   0,                                                   0,                                                   0,         sqrt(6)*F^{(2)}/49 - 5*sqrt(6)*F^{(4)}/441,                                                   0,                                                   0,                                                           0,                                                          0,                                                               0,                                                                 0,                                                             0,                                                                 0,                                                               0,                                                             0,                                                          0,                                                           0],\n",
       "[                                                          0,                                                          0,                                                               0,                                                                 0,                                                   0,                                                   0,                                                  0,                                                   0,                                                   0,                                                             0,                                                                 0,                                                               0,                                                   0,                                                     0,                                                     0,                                                     0,                                                   0,                                                             0,                                                          0,                                                  0,                                                     0,                                                   0,                                                     0,                                                  0,                                                           0,                                        5*B_{4,0}/21,                                                     0,                                                     0,                                                     0, -B_{4,0}/7 + F^{(0)} - 2*F^{(2)}/49 - 4*F^{(4)}/441,                                                   0,                                                   0,                                                  0,                        6*F^{(2)}/49 + 5*F^{(4)}/441,                                                   0,                                                           0,                                                          0,                                                               0,                                                                 0,                                                             0,                                                                 0,                                                               0,                                                             0,                                                          0,                                                           0],\n",
       "[                                                          0,                                                          0,                                                               0,                                                                 0,                                        5*B_{4,0}/21,                                                   0,                                                  0,                                                   0,                                       10*F^{(4)}/63,                                                             0,                                                                 0,                                                               0,                                                   0,                                                     0,                                                     0,                                         -5*F^{(4)}/63,                                                   0,                                                             0,                                                          0,                                                  0,                                                     0,                        4*F^{(2)}/49 + 5*F^{(4)}/147,                                                     0,                                                  0,                                                           0,                                                   0,                         -6*F^{(2)}/49 - 5*F^{(4)}/441,                                                     0,                                                     0,                                                   0, 2*B_{4,0}/21 + F^{(0)} + 4*F^{(2)}/49 + F^{(4)}/441,                                                   0,                                                  0,                                                   0,                                        5*B_{4,0}/21,                                                           0,                                                          0,                                                               0,                                                                 0,                                                             0,                                                                 0,                                                               0,                                                             0,                                                          0,                                                           0],\n",
       "[                                                          0,                                                          0,                                                               0,                                                                 0,                                                   0,                                        5*B_{4,0}/21,                                                  0,                                                   0,                                                   0,                                                             0,                                                                 0,                                                               0,                                                   0,                                                     0,                                                     0,                                                     0,                                        5*F^{(4)}/63,                                                             0,                                                          0,                                                  0,                                                     0,                                                   0,         2*sqrt(6)*F^{(2)}/49 - 10*sqrt(6)*F^{(4)}/441,                                                  0,                                                           0,                                                   0,                                                     0,           -sqrt(6)*F^{(2)}/49 + 5*sqrt(6)*F^{(4)}/441,                                                     0,                                                   0,                                                   0, -B_{4,0}/7 + F^{(0)} - 2*F^{(2)}/49 - 4*F^{(4)}/441,                                                  0,                                                   0,                                                   0,                                                           0,                                                          0,                                                               0,                                                                 0,                                                             0,                                                                 0,                                                               0,                                                             0,                                                          0,                                                           0],\n",
       "[                                                          0,                                                          0,                                                               0,                                                                 0,                                                   0,                                                   0,                                       5*B_{4,0}/21,                                                   0,                                                   0,                                                             0,                                                                 0,                                                               0,                                                   0,                                                     0,                                                     0,                                                     0,                                                   0,                                                             0,                                                          0,                                                  0,                                                     0,                                                   0,                                                     0,                       4*F^{(2)}/49 + 5*F^{(4)}/147,                                                           0,                                                   0,                                                     0,                                                     0,            sqrt(6)*F^{(2)}/49 - 5*sqrt(6)*F^{(4)}/441,                                                   0,                                                   0,                                                   0, B_{4,0}/3 + F^{(0)} - 4*F^{(2)}/49 + 2*F^{(4)}/147,                                                   0,                                                   0,                                                           0,                                                          0,                                                               0,                                                                 0,                                                             0,                                                                 0,                                                               0,                                                             0,                                                          0,                                                           0],\n",
       "[                                                          0,                                                          0,                                                               0,                                                                 0,                                                   0,                                                   0,                                                  0,                                        5*B_{4,0}/21,                                                   0,                                                             0,                                                                 0,                                                               0,                                                   0,                                                     0,                                                     0,                                                     0,                                                   0,                                                             0,                                                          0,                                                  0,                                                     0,                                                   0,                                                     0,                                                  0,                                                           0,                                                   0,                                                     0,                                                     0,                                                     0,                        6*F^{(2)}/49 + 5*F^{(4)}/441,                                                   0,                                                   0,                                                  0, -B_{4,0}/7 + F^{(0)} - 2*F^{(2)}/49 - 4*F^{(4)}/441,                                                   0,                                                           0,                                                          0,                                                               0,                                                                 0,                                                             0,                                                                 0,                                                               0,                                                             0,                                                          0,                                                           0],\n",
       "[                                                          0,                                                          0,                                                               0,                                                                 0,                                                   0,                                                   0,                                                  0,                                                   0,                                        5*B_{4,0}/21,                                                             0,                                                                 0,                                                               0,                                                   0,                                                     0,                                                     0,                                                     0,                                                   0,                                                             0,                                                          0,                                                  0,                                                     0,                                                   0,                                                     0,                                                  0,                                                           0,                                                   0,                                                     0,                                                     0,                                                     0,                                                   0,                                        5*B_{4,0}/21,                                                   0,                                                  0,                                                   0, 2*B_{4,0}/21 + F^{(0)} + 4*F^{(2)}/49 + F^{(4)}/441,                                                           0,                                                          0,                                                               0,                                                                 0,                                                             0,                                                                 0,                                                               0,                                                             0,                                                          0,                                                           0],\n",
       "[                                                          0,                                                          0,                                                               0,                                                                 0,                                                   0,                                                   0,                                                  0,                                                   0,                                                   0,                                                             0,                                                                 0,                                                               0,                                                   0,                                                     0,                                                     0,                                                     0,                                                   0,                                                             0,                                                          0,                                                  0,                                                     0,                                                   0,                                                     0,                                                  0,                                                           0,                                                   0,                                                     0,                                                     0,                                                     0,                                                   0,                                                   0,                                                   0,                                                  0,                                                   0,                                                   0, -B_{4,0}/7 + F^{(0)} - 8*F^{(2)}/49 - F^{(4)}/49 + \\gamma_S,                                                          0,                                                               0,                                                                 0,                                                             0,                                                                 0,                                                   -5*B_{4,0}/21,                                                             0,                                                          0,                                                           0],\n",
       "[                                                          0,                                                          0,                                                               0,                                                                 0,                                                   0,                                                   0,                                                  0,                                                   0,                                                   0,                                                             0,                                                                 0,                                                               0,                                                   0,                                                     0,                                                     0,                                                     0,                                                   0,                                                             0,                                                          0,                                                  0,                                                     0,                                                   0,                                                     0,                                                  0,                                                           0,                                                   0,                                                     0,                                                     0,                                                     0,                                                   0,                                                   0,                                                   0,                                                  0,                                                   0,                                                   0,                                                           0, B_{4,0}/3 + F^{(0)} - 8*F^{(2)}/49 - F^{(4)}/49 + \\gamma_S,                                                               0,                                                                 0,                                                             0,                                                                 0,                                                               0,                                                             0,                                              -5*B_{4,0}/21,                                                           0],\n",
       "[                                                          0,                                                          0,                                                               0,                                                                 0,                                                   0,                                                   0,                                                  0,                                                   0,                                                   0,                                                             0,                                                                 0,                                                               0,                                                   0,                                                     0,                                                     0,                                                     0,                                                   0,                                                             0,                                                          0,                                                  0,                                                     0,                                                   0,                                                     0,                                                  0,                                                           0,                                                   0,                                                     0,                                                     0,                                                     0,                                                   0,                                                   0,                                                   0,                                                  0,                                                   0,                                                   0,                                                           0,                                                          0, -B_{4,0}/7 + F^{(0)} - 2*F^{(2)}/49 - 13*F^{(4)}/147 + \\gamma_S,                                                                 0,                 -3*sqrt(6)*F^{(2)}/49 + 5*sqrt(6)*F^{(4)}/147,                                                                 0,                                                               0,                                                             0,                                                          0,                                               -5*B_{4,0}/21],\n",
       "[                                                          0,                                                          0,                                                               0,                                                                 0,                                                   0,                                                   0,                                                  0,                                                   0,                                                   0,                                                             0,                                                                 0,                                                               0,                                                   0,                                                     0,                                                     0,                                                     0,                                                   0,                                                             0,                                                          0,                                                  0,                                                     0,                                                   0,                                                     0,                                                  0,                                                           0,                                                   0,                                                     0,                                                     0,                                                     0,                                                   0,                                                   0,                                                   0,                                                  0,                                                   0,                                                   0,                                                           0,                                                          0,                                                               0, 2*B_{4,0}/21 + F^{(0)} + 4*F^{(2)}/49 - 23*F^{(4)}/147 + \\gamma_S,                                                             0,                                    -6*F^{(2)}/49 + 10*F^{(4)}/147,                                                               0,                                                             0,                                                          0,                                                           0],\n",
       "[                                                          0,                                                          0,                                                               0,                                                                 0,                                                   0,                                                   0,                                                  0,                                                   0,                                                   0,                                                             0,                                                                 0,                                                               0,                                                   0,                                                     0,                                                     0,                                                     0,                                                   0,                                                             0,                                                          0,                                                  0,                                                     0,                                                   0,                                                     0,                                                  0,                                                           0,                                                   0,                                                     0,                                                     0,                                                     0,                                                   0,                                                   0,                                                   0,                                                  0,                                                   0,                                                   0,                                                           0,                                                          0,                   -3*sqrt(6)*F^{(2)}/49 + 5*sqrt(6)*F^{(4)}/147,                                                                 0, 2*B_{4,0}/21 + F^{(0)} + F^{(2)}/49 - 6*F^{(4)}/49 + \\gamma_S,                                                                 0,                                                               0,                                                             0,                                                          0,                                                           0],\n",
       "[                                                          0,                                                          0,                                                               0,                                                                 0,                                                   0,                                                   0,                                                  0,                                                   0,                                                   0,                                                             0,                                                                 0,                                                               0,                                                   0,                                                     0,                                                     0,                                                     0,                                                   0,                                                             0,                                                          0,                                                  0,                                                     0,                                                   0,                                                     0,                                                  0,                                                           0,                                                   0,                                                     0,                                                     0,                                                     0,                                                   0,                                                   0,                                                   0,                                                  0,                                                   0,                                                   0,                                                           0,                                                          0,                                                               0,                                    -6*F^{(2)}/49 + 10*F^{(4)}/147,                                                             0, -8*B_{4,0}/21 + F^{(0)} - 5*F^{(2)}/49 - 8*F^{(4)}/147 + \\gamma_S,                                                               0,                                                             0,                                                          0,                                                           0],\n",
       "[                                                          0,                                                          0,                                                               0,                                                                 0,                                                   0,                                                   0,                                                  0,                                                   0,                                                   0,                                                             0,                                                                 0,                                                               0,                                                   0,                                                     0,                                                     0,                                                     0,                                                   0,                                                             0,                                                          0,                                                  0,                                                     0,                                                   0,                                                     0,                                                  0,                                                           0,                                                   0,                                                     0,                                                     0,                                                     0,                                                   0,                                                   0,                                                   0,                                                  0,                                                   0,                                                   0,                                               -5*B_{4,0}/21,                                                          0,                                                               0,                                                                 0,                                                             0,                                                                 0, -B_{4,0}/7 + F^{(0)} - 2*F^{(2)}/49 - 13*F^{(4)}/147 + \\gamma_S,                 -3*sqrt(6)*F^{(2)}/49 + 5*sqrt(6)*F^{(4)}/147,                                                          0,                                                           0],\n",
       "[                                                          0,                                                          0,                                                               0,                                                                 0,                                                   0,                                                   0,                                                  0,                                                   0,                                                   0,                                                             0,                                                                 0,                                                               0,                                                   0,                                                     0,                                                     0,                                                     0,                                                   0,                                                             0,                                                          0,                                                  0,                                                     0,                                                   0,                                                     0,                                                  0,                                                           0,                                                   0,                                                     0,                                                     0,                                                     0,                                                   0,                                                   0,                                                   0,                                                  0,                                                   0,                                                   0,                                                           0,                                                          0,                                                               0,                                                                 0,                                                             0,                                                                 0,                   -3*sqrt(6)*F^{(2)}/49 + 5*sqrt(6)*F^{(4)}/147, 2*B_{4,0}/21 + F^{(0)} + F^{(2)}/49 - 6*F^{(4)}/49 + \\gamma_S,                                                          0,                                                           0],\n",
       "[                                                          0,                                                          0,                                                               0,                                                                 0,                                                   0,                                                   0,                                                  0,                                                   0,                                                   0,                                                             0,                                                                 0,                                                               0,                                                   0,                                                     0,                                                     0,                                                     0,                                                   0,                                                             0,                                                          0,                                                  0,                                                     0,                                                   0,                                                     0,                                                  0,                                                           0,                                                   0,                                                     0,                                                     0,                                                     0,                                                   0,                                                   0,                                                   0,                                                  0,                                                   0,                                                   0,                                                           0,                                              -5*B_{4,0}/21,                                                               0,                                                                 0,                                                             0,                                                                 0,                                                               0,                                                             0, B_{4,0}/3 + F^{(0)} - 8*F^{(2)}/49 - F^{(4)}/49 + \\gamma_S,                                                           0],\n",
       "[                                                          0,                                                          0,                                                               0,                                                                 0,                                                   0,                                                   0,                                                  0,                                                   0,                                                   0,                                                             0,                                                                 0,                                                               0,                                                   0,                                                     0,                                                     0,                                                     0,                                                   0,                                                             0,                                                          0,                                                  0,                                                     0,                                                   0,                                                     0,                                                  0,                                                           0,                                                   0,                                                     0,                                                     0,                                                     0,                                                   0,                                                   0,                                                   0,                                                  0,                                                   0,                                                   0,                                                           0,                                                          0,                                                   -5*B_{4,0}/21,                                                                 0,                                                             0,                                                                 0,                                                               0,                                                             0,                                                          0, -B_{4,0}/7 + F^{(0)} - 8*F^{(2)}/49 - F^{(4)}/49 + \\gamma_S]])"
      ]
     },
     "execution_count": 118,
     "metadata": {},
     "output_type": "execute_result"
    }
   ],
   "source": [
    "ham_vS[0]"
   ]
  },
  {
   "cell_type": "code",
   "execution_count": 46,
   "metadata": {},
   "outputs": [
    {
     "data": {
      "text/html": [
       "<pre>✔️ 3.05 ms (2022-01-15T18:25:26/2022-01-15T18:25:26)</pre>"
      ],
      "text/plain": [
       "<IPython.core.display.HTML object>"
      ]
     },
     "metadata": {},
     "output_type": "display_data"
    },
    {
     "data": {
      "text/latex": [
       "$\\displaystyle - \\frac{B_{4,0}}{7} + F^{(0)} - \\frac{8 F^{(2)}}{49} - \\frac{F^{(4)}}{49}$"
      ],
      "text/plain": [
       "-B_{4,0}/7 + F^{(0)} - 8*F^{(2)}/49 - F^{(4)}/49"
      ]
     },
     "execution_count": 46,
     "metadata": {},
     "output_type": "execute_result"
    }
   ],
   "source": [
    "ham[0][0,0]"
   ]
  },
  {
   "cell_type": "code",
   "execution_count": 177,
   "metadata": {},
   "outputs": [
    {
     "data": {
      "text/html": [
       "<pre>✔️ 8.25 ms (2022-01-15T15:51:08/2022-01-15T15:51:08)</pre>"
      ],
      "text/plain": [
       "<IPython.core.display.HTML object>"
      ]
     },
     "metadata": {},
     "output_type": "display_data"
    },
    {
     "name": "stdout",
     "output_type": "stream",
     "text": [
      "ahoy 1 {(2, -2): 1} {(2, -2): 1} {(2, -2): 1} {(2, -2): 1}\n",
      "{(2, -2, 2, -2, 2, -2, 2, -2): 1}\n",
      "ahoy -1 {(2, -2): 1} {(2, -2): 1} {(2, -2): 1} {(2, -2): 1}\n",
      "{}\n"
     ]
    },
    {
     "data": {
      "text/plain": [
       "0"
      ]
     },
     "execution_count": 177,
     "metadata": {},
     "output_type": "execute_result"
    }
   ],
   "source": [
    "len(braket_basis_change(double_braket, basis_change).dict)"
   ]
  },
  {
   "cell_type": "code",
   "execution_count": null,
   "metadata": {},
   "outputs": [
    {
     "data": {
      "text/html": [
       "<pre>✔️ 5 ms (2022-01-15T15:19:13/2022-01-15T15:19:13)</pre>"
      ],
      "text/plain": [
       "<IPython.core.display.HTML object>"
      ]
     },
     "metadata": {},
     "output_type": "display_data"
    },
    {
     "data": {
      "text/plain": [
       "{1↑: 1}"
      ]
     },
     "metadata": {},
     "output_type": "display_data"
    }
   ],
   "source": [
    "{SpinOrbital(1,1): 1}"
   ]
  },
  {
   "cell_type": "code",
   "execution_count": null,
   "metadata": {},
   "outputs": [
    {
     "data": {
      "text/html": [
       "<pre>✔️ 5 ms (2022-01-15T15:19:13/2022-01-15T15:19:13)</pre>"
      ],
      "text/plain": [
       "<IPython.core.display.HTML object>"
      ]
     },
     "metadata": {},
     "output_type": "display_data"
    },
    {
     "data": {
      "text/plain": [
       "{1↑: 1}"
      ]
     },
     "metadata": {},
     "output_type": "display_data"
    }
   ],
   "source": [
    "{SpinOrbital(1,1): 1}"
   ]
  },
  {
   "cell_type": "code",
   "execution_count": 81,
   "metadata": {},
   "outputs": [
    {
     "data": {
      "text/html": [
       "<pre>✔️ 18.7 ms (2022-01-15T15:30:20/2022-01-15T15:30:20)</pre>"
      ],
      "text/plain": [
       "<IPython.core.display.HTML object>"
      ]
     },
     "metadata": {},
     "output_type": "display_data"
    },
    {
     "data": {
      "text/latex": [
       "$\\displaystyle - {\\left|\\bar{Y_{2,-2}}Y_{2,-2}Y_{2,-2}\\bar{Y_{2,-2}}\\right\\rangle } + {\\left|\\bar{Y_{2,-2}}Y_{2,-2}\\bar{Y_{2,-2}}Y_{2,-2}\\right\\rangle }$"
      ],
      "text/plain": [
       "-|\\bar{Y_{2,-2}}Y_{2,-2}Y_{2,-2}\\bar{Y_{2,-2}}> + |\\bar{Y_{2,-2}}Y_{2,-2}\\bar{Y_{2,-2}}Y_{2,-2}>"
      ]
     },
     "execution_count": 81,
     "metadata": {},
     "output_type": "execute_result"
    }
   ],
   "source": [
    "cme.as_spinorb_ket()"
   ]
  },
  {
   "cell_type": "code",
   "execution_count": null,
   "metadata": {},
   "outputs": [],
   "source": []
  }
 ],
 "metadata": {
  "interpreter": {
   "hash": "5ed69564610cdd861a99d06236eab56151da4db3d5eb55442ace689096fe7345"
  },
  "kernelspec": {
   "display_name": "Python 3.8.8 64-bit ('qdef3p8': conda)",
   "language": "python",
   "name": "python3"
  },
  "language_info": {
   "codemirror_mode": {
    "name": "ipython",
    "version": 3
   },
   "file_extension": ".py",
   "mimetype": "text/x-python",
   "name": "python",
   "nbconvert_exporter": "python",
   "pygments_lexer": "ipython3",
   "version": "3.8.8"
  },
  "orig_nbformat": 4
 },
 "nbformat": 4,
 "nbformat_minor": 2
}
