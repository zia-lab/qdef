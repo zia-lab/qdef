{
 "cells": [
  {
   "cell_type": "markdown",
   "metadata": {},
   "source": [
    "<center>\n",
    "\n",
    "# ~~~ Changing bases, non-real braket identities, and transformation to Slater integrals ~~~\n",
    "\n",
    "</center>"
   ]
  },
  {
   "cell_type": "markdown",
   "metadata": {},
   "source": [
    "\n",
    "<center><img src=\"./images/qdef-banner.png\" style=\"width: 500px\">\n",
    "\n",
    "\n",
    "\n",
    "<div style=\"max-width:600px; word-wrap:break-word;\"\n",
    "\n",
    "- Coded function <span style=\"color: #ff0000\"> braket_basis_change </span> that changes bases in four symbol brakets. This allows replacing the abstract bases for irreducible representations into symmetry adapted spherical harmonics.\n",
    "\n",
    "- Modify <span style=\"color: #ff0000\">braket_identities </span> to allow for relaxing the condition of real wavefunctions.\n",
    "\n",
    "- Code the function <span style=\"color: #ff0000\">to_slater_params</span> that interprets a sum of four symbol brakets, written in terms of d-orbitals, in terms of Slater integrals.\n",
    "\n",
    "- Compare results to those found in STK.\n",
    "\n",
    "</div>\n",
    "\n",
    "</center>\n",
    "\n",
    "\n"
   ]
  },
  {
   "cell_type": "code",
   "execution_count": 1,
   "metadata": {},
   "outputs": [
    {
     "data": {
      "text/html": [
       "<pre>✔️ 3.94 s (2022-01-04T14:03:11/2022-01-04T14:03:15)</pre>"
      ],
      "text/plain": [
       "<IPython.core.display.HTML object>"
      ]
     },
     "metadata": {},
     "output_type": "display_data"
    },
    {
     "name": "stdout",
     "output_type": "stream",
     "text": [
      "Reloading /Users/juan/Zia Lab/Codebase/qdef/data/CPGs.pkl ...\n"
     ]
    }
   ],
   "source": [
    "%load_ext line_profiler\n",
    "%load_ext autoreload\n",
    "# provide cell timings\n",
    "%load_ext autotime\n",
    "%autoreload 2\n",
    "import sympy as sp\n",
    "import numpy as np\n",
    "%config InlineBackend.figure_format='retina'\n",
    "%config Completer.use_jedi = False\n",
    "from qdef import *\n",
    "from misc import *\n",
    "from IPython.display import display, Math, Latex\n",
    "from joblib import Parallel, delayed\n",
    "import multiprocessing\n",
    "num_cores = multiprocessing.cpu_count()\n",
    "import time\n",
    "from itertools import product\n",
    "from itertools import permutations\n",
    "import re\n"
   ]
  },
  {
   "cell_type": "markdown",
   "metadata": {},
   "source": [
    "# Functions"
   ]
  },
  {
   "cell_type": "code",
   "execution_count": 2,
   "metadata": {},
   "outputs": [
    {
     "data": {
      "text/html": [
       "<pre>✔️ 862 µs (2022-01-04T14:03:15/2022-01-04T14:03:15)</pre>"
      ],
      "text/plain": [
       "<IPython.core.display.HTML object>"
      ]
     },
     "metadata": {},
     "output_type": "display_data"
    }
   ],
   "source": [
    "# def braket_basis_change(braket, basis_changer):\n",
    "#     '''\n",
    "#     Take  a  qet,  understood  as  a  four  symbol braket, and a\n",
    "#     dictionary  that  maps  the  current basis to a new one, and\n",
    "#     return  the resulting expression for the new braket in terms\n",
    "#     of  the new basis. All throughout it is assumed that between\n",
    "#     the given braket there is an implicit operator.\n",
    "\n",
    "#     Parameters\n",
    "#     ----------\n",
    "#     braket   (qdefcore.Qet)\n",
    "#     basis_changer (dict):  keys being  equal  to single electron\n",
    "#     quantum  symbols  and  values  to  qets  that  determine the\n",
    "#     superposition of the new basis to which this vector is being\n",
    "#     mapped to. The keys of the dictionary need not  include  all\n",
    "#     the quantum symbols included in the qet.\n",
    "\n",
    "#     Returns\n",
    "#     -------\n",
    "#     new_braket (qdefcore.Qet)\n",
    "\n",
    "#     Example\n",
    "#     -------\n",
    "\n",
    "#     braket = Qet({(1,2,3,4): 5,\n",
    "#                 (8,4,3,1): 1})\n",
    "#     basis_change = {1: Qet({(8,): sp.I})}\n",
    "#     print(braket_basis_change(braket, basis_change))\n",
    "#     >> {(8, 2, 3, 4): -5*I, (8, 4, 3, 8): I}\n",
    "\n",
    "#     '''\n",
    "\n",
    "#     new_braket = Qet({})\n",
    "#     for k, v in braket.dict.items():\n",
    "#         βi, βj, βk, βl = [(Qet({(γ,):1}) if γ not in basis_changer else basis_changer[γ]) for γ in k]\n",
    "#         βi, βj = βi.dual(), βj.dual()\n",
    "#         γiγjγkγl = ((βi * βj) * βk) * βl\n",
    "#         new_braket = new_braket + (v*γiγjγkγl)\n",
    "#     return new_braket\n",
    "\n",
    "# def to_slater_params(qnums, coeff):\n",
    "#     '''\n",
    "#     This function will take a set of qnums that are assumed to be l1, m1, l2, m2, l1p, m1p, l2p, m2p\n",
    "#     and will return a set of qnums that correspond to slater integrals and corresponding coefficients.\n",
    "#     '''\n",
    "#     if len(qnums) == 8:\n",
    "#         l1, m1, l2, m2, l1p, m1p, l2p, m2p = qnums\n",
    "#     else:\n",
    "#         m1, m2, m1p, m2p = qnums\n",
    "#         l1, l2, l1p, l2p = 2, 2, 2, 2\n",
    "#     if KroneckerDelta(m1+m2,m1p+m2p):\n",
    "#         if (m1-m1p) % 2 == 0:\n",
    "#             phase = 1\n",
    "#         else:\n",
    "#             phase = -1\n",
    "#         new_dict = {}\n",
    "#         for k in range(6):\n",
    "#             key = sp.Symbol('F^{(%d)}' % k)\n",
    "#             c1 = threeHarmonicIntegral(l1,   m1,\n",
    "#                                         k,   (m1-m1p),\n",
    "#                                         l1p, m1p) * sp.sqrt((4*sp.pi) / (2*k+1))\n",
    "#             c2 = threeHarmonicIntegral(l2,  m2,\n",
    "#                                        k,   (m2-m2p),\n",
    "#                                        l2p, m2p) * sp.sqrt((4*sp.pi) / (2*k+1))\n",
    "#             val = phase*coeff*c1*c2\n",
    "#             if val:\n",
    "#                 new_dict[key] = val\n",
    "#         return new_dict\n",
    "#     else:\n",
    "#         return {}\n",
    "\n"
   ]
  },
  {
   "cell_type": "code",
   "execution_count": 3,
   "metadata": {},
   "outputs": [
    {
     "data": {
      "text/html": [
       "<pre>✔️ 3.55 ms (2022-01-04T14:03:15/2022-01-04T14:03:15)</pre>"
      ],
      "text/plain": [
       "<IPython.core.display.HTML object>"
      ]
     },
     "metadata": {},
     "output_type": "display_data"
    }
   ],
   "source": [
    "A, B, C = sp.symbols('A B C')\n",
    "subs = {sp.Symbol('F_4') : sp.Symbol('F^(4)')/441,\n",
    "        sp.Symbol('F_0'): sp.Symbol('F^(0)'),\n",
    "        sp.Symbol('F_2'): sp.Symbol('F^(2)')/49}\n",
    "A = sp.Symbol('F_0') - 49 * sp.Symbol('F_4')\n",
    "A = A.subs(subs)\n",
    "B = sp.Symbol('F_2') - 5 * sp.Symbol('F_4')\n",
    "B = B.subs(subs)\n",
    "C = 35*sp.Symbol('F_4')\n",
    "C = C.subs(subs)"
   ]
  },
  {
   "cell_type": "code",
   "execution_count": 4,
   "metadata": {},
   "outputs": [
    {
     "data": {
      "text/html": [
       "<pre>✔️ 28 s (2022-01-04T14:03:16/2022-01-04T14:03:44)</pre>"
      ],
      "text/plain": [
       "<IPython.core.display.HTML object>"
      ]
     },
     "metadata": {},
     "output_type": "display_data"
    },
    {
     "name": "stdout",
     "output_type": "stream",
     "text": [
      "O Creating all 4-symbol identities ...\n",
      "O Refining set of identities ...\n",
      "O Finding trivial zeros ...\n",
      "O Using them to simplify things ...\n",
      "O Creating reality identities ...\n",
      "O Solving for independent 4-symbol brakets ...\n",
      "O Creating a dictionary with all the 4-symbol replacements ...\n",
      "O Creating all 2-symbol identities ...\n",
      "O Creating set of 2 symbol identities ...\n",
      "O Finding trivial zeros ...\n",
      "O Using them to simplify things ...\n",
      "O Creating reality identities ...\n",
      "O Solving for independent 2-symbol brakets ...\n",
      "O Creating a dictionary with all the 2-symbol replacements ...\n"
     ]
    }
   ],
   "source": [
    "four_real_var_ids, four_symbol_ids, two_real_var_ids, two_symbol_ids, simplifier = braket_identities('O', assume_real = False)"
   ]
  },
  {
   "cell_type": "code",
   "execution_count": 5,
   "metadata": {},
   "outputs": [
    {
     "data": {
      "text/html": [
       "<pre>✔️ 1.12 ms (2022-01-04T14:03:47/2022-01-04T14:03:47)</pre>"
      ],
      "text/plain": [
       "<IPython.core.display.HTML object>"
      ]
     },
     "metadata": {},
     "output_type": "display_data"
    }
   ],
   "source": [
    "group_label = 'O'\n",
    "l = 2\n",
    "group = CPGs.get_group_by_label(group_label)\n",
    "irreps = group.irrep_labels\n",
    "sym_bases = {k: v[l] for k,v in symmetry_bases[group_label][1].items() if v[l]}\n",
    "#####################################################\n",
    "#####################################################\n",
    "#####################################################\n",
    "# CAUTION: I'm assuming that the expression that I calculated\n",
    "# here for a symmetry adapted basis component matches in order\n",
    "# to the labels for the components of each irrep\n",
    "#####################################################\n",
    "#####################################################\n",
    "#####################################################\n",
    "component_labels = {k:list(v.values()) for k,v in new_labels[group_label].items()}\n",
    "basis_change = {}\n",
    "for irrep, qets in sym_bases.items():\n",
    "    components = component_labels[irrep]\n",
    "    if isinstance(qets, list):\n",
    "        qets = qets[0]\n",
    "    for component, qet in zip(components, qets):\n",
    "        basis_change[component] = qet\n"
   ]
  },
  {
   "cell_type": "code",
   "execution_count": 6,
   "metadata": {},
   "outputs": [
    {
     "data": {
      "text/html": [
       "<pre>✔️ 422 µs (2022-01-04T14:03:47/2022-01-04T14:03:47)</pre>"
      ],
      "text/plain": [
       "<IPython.core.display.HTML object>"
      ]
     },
     "metadata": {},
     "output_type": "display_data"
    }
   ],
   "source": [
    "# def simplifier(qet):\n",
    "#     simp_ket = Qet({})\n",
    "#     for k,v in qet.dict.items():\n",
    "#         if k in four_real_var_ids:\n",
    "#             simp_ket += Qet({four_real_var_ids[k]:v})\n",
    "#         else:\n",
    "#             simp_ket += Qet({k:v})\n",
    "#     true_qet = Qet({})\n",
    "#     for k,v in simp_ket.dict.items():\n",
    "#         if k in four_symbol_ids:\n",
    "#             true_qet += v*Qet(four_symbol_ids[k])\n",
    "#         else:\n",
    "#             true_qet += Qet({k:v})\n",
    "#     return true_qet"
   ]
  },
  {
   "cell_type": "code",
   "execution_count": 7,
   "metadata": {},
   "outputs": [
    {
     "data": {
      "text/html": [
       "<pre>✔️ 92.1 ms (2022-01-04T14:03:48/2022-01-04T14:03:48)</pre>"
      ],
      "text/plain": [
       "<IPython.core.display.HTML object>"
      ]
     },
     "metadata": {},
     "output_type": "display_data"
    },
    {
     "data": {
      "text/latex": [
       "$\\displaystyle ++++++++++$"
      ],
      "text/plain": [
       "++++++++++"
      ]
     },
     "metadata": {},
     "output_type": "display_data"
    },
    {
     "data": {
      "text/latex": [
       "$\\displaystyle {}^{1}A_{1} \\rightarrow 2 \\left\\langle {\\xi}{\\xi} \\right. {\\left|{\\phi}{\\phi}\\right\\rangle } + \\left\\langle {\\xi}{\\xi} \\right. {\\left|{\\xi}{\\xi}\\right\\rangle }$"
      ],
      "text/plain": [
       "<IPython.core.display.Math object>"
      ]
     },
     "metadata": {},
     "output_type": "display_data"
    },
    {
     "data": {
      "text/latex": [
       "$\\displaystyle {}^{1}A_{1} \\rightarrow F^{(0)} + \\frac{10 F^{(2)}}{49} + \\frac{76 F^{(4)}}{441}$"
      ],
      "text/plain": [
       "<IPython.core.display.Math object>"
      ]
     },
     "metadata": {},
     "output_type": "display_data"
    },
    {
     "data": {
      "text/latex": [
       "$\\displaystyle F^{(0)} + \\frac{10 F^{(2)}}{49} + \\frac{76 F^{(4)}}{441}$"
      ],
      "text/plain": [
       "F^(0) + 10*F^(2)/49 + 76*F^(4)/441"
      ]
     },
     "metadata": {},
     "output_type": "display_data"
    },
    {
     "data": {
      "text/latex": [
       "$\\displaystyle ++++++++++$"
      ],
      "text/plain": [
       "++++++++++"
      ]
     },
     "metadata": {},
     "output_type": "display_data"
    },
    {
     "data": {
      "text/latex": [
       "$\\displaystyle {}^{1}E \\rightarrow - \\left\\langle {\\xi}{\\xi} \\right. {\\left|{\\phi}{\\phi}\\right\\rangle } + \\left\\langle {\\xi}{\\xi} \\right. {\\left|{\\xi}{\\xi}\\right\\rangle }$"
      ],
      "text/plain": [
       "<IPython.core.display.Math object>"
      ]
     },
     "metadata": {},
     "output_type": "display_data"
    },
    {
     "data": {
      "text/latex": [
       "$\\displaystyle {}^{1}E \\rightarrow F^{(0)} + \\frac{F^{(2)}}{49} + \\frac{16 F^{(4)}}{441}$"
      ],
      "text/plain": [
       "<IPython.core.display.Math object>"
      ]
     },
     "metadata": {},
     "output_type": "display_data"
    },
    {
     "data": {
      "text/latex": [
       "$\\displaystyle F^{(0)} + \\frac{F^{(2)}}{49} + \\frac{16 F^{(4)}}{441}$"
      ],
      "text/plain": [
       "F^(0) + F^(2)/49 + 16*F^(4)/441"
      ]
     },
     "metadata": {},
     "output_type": "display_data"
    },
    {
     "data": {
      "text/latex": [
       "$\\displaystyle ++++++++++$"
      ],
      "text/plain": [
       "++++++++++"
      ]
     },
     "metadata": {},
     "output_type": "display_data"
    },
    {
     "data": {
      "text/latex": [
       "$\\displaystyle {}^{1}T_{2} \\rightarrow \\left\\langle {\\xi}{\\phi} \\right. {\\left|{\\phi}{\\xi}\\right\\rangle } + \\left\\langle {\\xi}{\\phi} \\right. {\\left|{\\xi}{\\phi}\\right\\rangle }$"
      ],
      "text/plain": [
       "<IPython.core.display.Math object>"
      ]
     },
     "metadata": {},
     "output_type": "display_data"
    },
    {
     "data": {
      "text/latex": [
       "$\\displaystyle {}^{1}T_{2} \\rightarrow F^{(0)} + \\frac{F^{(2)}}{49} + \\frac{16 F^{(4)}}{441}$"
      ],
      "text/plain": [
       "<IPython.core.display.Math object>"
      ]
     },
     "metadata": {},
     "output_type": "display_data"
    },
    {
     "data": {
      "text/latex": [
       "$\\displaystyle F^{(0)} + \\frac{F^{(2)}}{49} + \\frac{16 F^{(4)}}{441}$"
      ],
      "text/plain": [
       "F^(0) + F^(2)/49 + 16*F^(4)/441"
      ]
     },
     "metadata": {},
     "output_type": "display_data"
    },
    {
     "data": {
      "text/latex": [
       "$\\displaystyle ++++++++++$"
      ],
      "text/plain": [
       "++++++++++"
      ]
     },
     "metadata": {},
     "output_type": "display_data"
    },
    {
     "data": {
      "text/latex": [
       "$\\displaystyle {}^{3}T_{1} \\rightarrow - \\left\\langle {\\xi}{\\phi} \\right. {\\left|{\\phi}{\\xi}\\right\\rangle } + \\left\\langle {\\xi}{\\phi} \\right. {\\left|{\\xi}{\\phi}\\right\\rangle }$"
      ],
      "text/plain": [
       "<IPython.core.display.Math object>"
      ]
     },
     "metadata": {},
     "output_type": "display_data"
    },
    {
     "data": {
      "text/latex": [
       "$\\displaystyle {}^{3}T_{1} \\rightarrow F^{(0)} - \\frac{5 F^{(2)}}{49} - \\frac{8 F^{(4)}}{147}$"
      ],
      "text/plain": [
       "<IPython.core.display.Math object>"
      ]
     },
     "metadata": {},
     "output_type": "display_data"
    },
    {
     "data": {
      "text/latex": [
       "$\\displaystyle F^{(0)} - \\frac{5 F^{(2)}}{49} - \\frac{8 F^{(4)}}{147}$"
      ],
      "text/plain": [
       "F^(0) - 5*F^(2)/49 - 8*F^(4)/147"
      ]
     },
     "metadata": {},
     "output_type": "display_data"
    }
   ],
   "source": [
    "ground_truth = {\n",
    "    (0, sp.Symbol('A_1')): (A + 4*B + 3*C) + 2*(3*B +C),\n",
    "    (0, sp.Symbol('E')): (A + 4*B + 3*C) - 1*(3*B +C),\n",
    "    (0, sp.Symbol('T_2')): (A - 2*B + C) + 1*(3*B +C),\n",
    "    (1, sp.Symbol('T_1')): (A - 2*B + C) - 1*(3*B +C),\n",
    "}\n",
    "\n",
    "t23 = CrystalElectronsSCoupling('O',[sp.Symbol('T_2')]*2)\n",
    "\n",
    "terms = {}\n",
    "for wave_key, wave_qet in t23.equiv_waves.items():\n",
    "    aterm = wave_key.terms[-1]\n",
    "    if aterm not in terms:\n",
    "        terms[aterm] = {}\n",
    "    terms[aterm][wave_key] = wave_qet\n",
    "terms = OrderedDict(sorted(list(terms.items()), key=lambda x: x[0][0]))\n",
    "\n",
    "for term, term_qets in terms.items():\n",
    "    display(sp.Symbol('+'*10))\n",
    "    term_symbol = sp.Symbol('{}^{%d}%s' % (term[0]*2+1, sp.latex(term[1])))\n",
    "    a_key = list(term_qets.keys())[0]\n",
    "    a_qet = term_qets[a_key]\n",
    "    matrix_element = double_electron_braket(a_qet,a_qet)\n",
    "    matrix_element = simplifier(matrix_element)\n",
    "    display(Math(r'%s \\rightarrow %s' % (sp.latex(term_symbol),sp.latex(matrix_element.as_braket()))))\n",
    "    matrix_element = braket_basis_change(matrix_element, basis_change)\n",
    "    # display(Math(r'%s \\rightarrow %s' % (sp.latex(term_symbol),sp.latex(matrix_element.as_braket()))))\n",
    "    # display(matrix_element.as_braket())\n",
    "    matrix_element = matrix_element.apply(to_slater_params)\n",
    "    display(Math(r'%s \\rightarrow %s' % (sp.latex(term_symbol),sp.latex(matrix_element.as_symbol_sum()))))\n",
    "    display(ground_truth[term])\n"
   ]
  },
  {
   "cell_type": "code",
   "execution_count": 8,
   "metadata": {},
   "outputs": [
    {
     "data": {
      "text/html": [
       "<pre>✔️ 33.2 ms (2022-01-04T14:04:02/2022-01-04T14:04:02)</pre>"
      ],
      "text/plain": [
       "<IPython.core.display.HTML object>"
      ]
     },
     "metadata": {},
     "output_type": "display_data"
    },
    {
     "data": {
      "text/latex": [
       "$\\displaystyle ++++++++++$"
      ],
      "text/plain": [
       "++++++++++"
      ]
     },
     "metadata": {},
     "output_type": "display_data"
    },
    {
     "data": {
      "text/latex": [
       "$\\displaystyle {}^{1}A_{1} \\rightarrow 6 \\left\\langle {\\zeta}{\\gamma} \\right. {\\left|{\\zeta}{\\gamma}\\right\\rangle } + 2 \\left\\langle {\\zeta}{\\zeta} \\right. {\\left|{\\gamma}{\\gamma}\\right\\rangle }$"
      ],
      "text/plain": [
       "<IPython.core.display.Math object>"
      ]
     },
     "metadata": {},
     "output_type": "display_data"
    },
    {
     "data": {
      "text/latex": [
       "$\\displaystyle {}^{1}A_{1} \\rightarrow 6 F^{(0)} - \\frac{16 F^{(2)}}{49} + \\frac{22 F^{(4)}}{147}$"
      ],
      "text/plain": [
       "<IPython.core.display.Math object>"
      ]
     },
     "metadata": {},
     "output_type": "display_data"
    }
   ],
   "source": [
    "t23 = CrystalElectronsSCoupling('O',[sp.Symbol('E')]*4)\n",
    "\n",
    "terms = {}\n",
    "for wave_key, wave_qet in t23.equiv_waves.items():\n",
    "    aterm = wave_key.terms[-1]\n",
    "    if aterm not in terms:\n",
    "        terms[aterm] = {}\n",
    "    terms[aterm][wave_key] = wave_qet\n",
    "terms = OrderedDict(sorted(list(terms.items()), key=lambda x: x[0][0]))\n",
    "\n",
    "for term, term_qets in terms.items():\n",
    "    display(sp.Symbol('+'*10))\n",
    "    term_symbol = sp.Symbol('{}^{%d}%s' % (term[0]*2+1, sp.latex(term[1])))\n",
    "    a_key = list(term_qets.keys())[0]\n",
    "    a_qet = term_qets[a_key]\n",
    "    matrix_element = double_electron_braket(a_qet,a_qet)\n",
    "    matrix_element = simplifier(matrix_element)\n",
    "    display(Math(r'%s \\rightarrow %s' % (sp.latex(term_symbol),sp.latex(matrix_element.as_braket()))))\n",
    "    matrix_element = braket_basis_change(matrix_element, basis_change)\n",
    "    # display(Math(r'%s \\rightarrow %s' % (sp.latex(term_symbol),sp.latex(matrix_element.as_braket()))))\n",
    "    # display(matrix_element.as_braket())\n",
    "    matrix_element = matrix_element.apply(to_slater_params)\n",
    "    display(Math(r'%s \\rightarrow %s' % (sp.latex(term_symbol),sp.latex(matrix_element.as_symbol_sum()))))\n",
    "    # display(ground_truth[term])"
   ]
  },
  {
   "cell_type": "code",
   "execution_count": 9,
   "metadata": {},
   "outputs": [
    {
     "data": {
      "text/html": [
       "<pre>✔️ 2.81 s (2021-12-29T19:23:27/2021-12-29T19:23:30)</pre>"
      ],
      "text/plain": [
       "<IPython.core.display.HTML object>"
      ]
     },
     "metadata": {},
     "output_type": "display_data"
    },
    {
     "data": {
      "text/latex": [
       "$\\displaystyle ++++++++++$"
      ],
      "text/plain": [
       "++++++++++"
      ]
     },
     "metadata": {},
     "output_type": "display_data"
    },
    {
     "data": {
      "text/latex": [
       "$\\displaystyle {}^{1}A_{1} \\rightarrow 2 \\left\\langle {\\xi}{\\gamma} \\right. {\\left|{\\xi}{\\gamma}\\right\\rangle } - 2 \\left\\langle {\\xi}{\\phi} \\right. {\\left|{\\phi}{\\xi}\\right\\rangle } + 4 \\left\\langle {\\xi}{\\phi} \\right. {\\left|{\\xi}{\\phi}\\right\\rangle } + 2 \\left\\langle {\\xi}{\\xi} \\right. {\\left|{\\phi}{\\phi}\\right\\rangle } + 2 \\left\\langle {\\xi}{\\xi} \\right. {\\left|{\\xi}{\\xi}\\right\\rangle } + \\left\\langle {\\xi}{\\zeta} \\right. {\\left|{\\xi}{\\zeta}\\right\\rangle } - \\frac{8 \\left\\langle {\\zeta}{\\phi} \\right. {\\left|{\\phi}{\\zeta}\\right\\rangle }}{3} + \\frac{8 \\left\\langle {\\zeta}{\\phi} \\right. {\\left|{\\zeta}{\\phi}\\right\\rangle }}{3} - \\frac{4 \\left\\langle {\\zeta}{\\xi} \\right. {\\left|{\\xi}{\\zeta}\\right\\rangle }}{3} + \\frac{7 \\left\\langle {\\zeta}{\\xi} \\right. {\\left|{\\zeta}{\\xi}\\right\\rangle }}{3} + \\left\\langle {\\zeta}{\\zeta} \\right. {\\left|{\\gamma}{\\gamma}\\right\\rangle } + \\left\\langle {\\zeta}{\\zeta} \\right. {\\left|{\\zeta}{\\zeta}\\right\\rangle }$"
      ],
      "text/plain": [
       "<IPython.core.display.Math object>"
      ]
     },
     "metadata": {},
     "output_type": "display_data"
    },
    {
     "data": {
      "text/latex": [
       "$\\displaystyle {}^{1}A_{1} \\rightarrow 15 F^{(0)} - \\frac{5 F^{(4)}}{21}$"
      ],
      "text/plain": [
       "<IPython.core.display.Math object>"
      ]
     },
     "metadata": {},
     "output_type": "display_data"
    },
    {
     "data": {
      "text/latex": [
       "$\\displaystyle ++++++++++$"
      ],
      "text/plain": [
       "++++++++++"
      ]
     },
     "metadata": {},
     "output_type": "display_data"
    },
    {
     "data": {
      "text/latex": [
       "$\\displaystyle {}^{1}E \\rightarrow \\frac{7 \\left\\langle {\\xi}{\\gamma} \\right. {\\left|{\\xi}{\\gamma}\\right\\rangle }}{4} - 2 \\left\\langle {\\xi}{\\phi} \\right. {\\left|{\\phi}{\\xi}\\right\\rangle } + 4 \\left\\langle {\\xi}{\\phi} \\right. {\\left|{\\xi}{\\phi}\\right\\rangle } - \\left\\langle {\\xi}{\\xi} \\right. {\\left|{\\phi}{\\phi}\\right\\rangle } + 2 \\left\\langle {\\xi}{\\xi} \\right. {\\left|{\\xi}{\\xi}\\right\\rangle } + \\frac{3 \\left\\langle {\\xi}{\\zeta} \\right. {\\left|{\\xi}{\\zeta}\\right\\rangle }}{4} - \\frac{8 \\left\\langle {\\zeta}{\\phi} \\right. {\\left|{\\phi}{\\zeta}\\right\\rangle }}{3} + 3 \\left\\langle {\\zeta}{\\phi} \\right. {\\left|{\\zeta}{\\phi}\\right\\rangle } - \\frac{4 \\left\\langle {\\zeta}{\\xi} \\right. {\\left|{\\xi}{\\zeta}\\right\\rangle }}{3} + \\frac{5 \\left\\langle {\\zeta}{\\xi} \\right. {\\left|{\\zeta}{\\xi}\\right\\rangle }}{2} + \\left\\langle {\\zeta}{\\zeta} \\right. {\\left|{\\gamma}{\\gamma}\\right\\rangle } + \\left\\langle {\\zeta}{\\zeta} \\right. {\\left|{\\zeta}{\\zeta}\\right\\rangle }$"
      ],
      "text/plain": [
       "<IPython.core.display.Math object>"
      ]
     },
     "metadata": {},
     "output_type": "display_data"
    },
    {
     "data": {
      "text/latex": [
       "$\\displaystyle {}^{1}E \\rightarrow 15 F^{(0)} - \\frac{9 F^{(2)}}{49} - \\frac{55 F^{(4)}}{147}$"
      ],
      "text/plain": [
       "<IPython.core.display.Math object>"
      ]
     },
     "metadata": {},
     "output_type": "display_data"
    },
    {
     "data": {
      "text/latex": [
       "$\\displaystyle ++++++++++$"
      ],
      "text/plain": [
       "++++++++++"
      ]
     },
     "metadata": {},
     "output_type": "display_data"
    },
    {
     "data": {
      "text/latex": [
       "$\\displaystyle {}^{1}T_{2} \\rightarrow \\frac{15 \\left\\langle {\\xi}{\\gamma} \\right. {\\left|{\\xi}{\\gamma}\\right\\rangle }}{8} - \\left\\langle {\\xi}{\\phi} \\right. {\\left|{\\phi}{\\xi}\\right\\rangle } + 5 \\left\\langle {\\xi}{\\phi} \\right. {\\left|{\\xi}{\\phi}\\right\\rangle } + \\left\\langle {\\xi}{\\xi} \\right. {\\left|{\\xi}{\\xi}\\right\\rangle } + \\frac{7 \\left\\langle {\\xi}{\\zeta} \\right. {\\left|{\\xi}{\\zeta}\\right\\rangle }}{8} - \\frac{8 \\left\\langle {\\zeta}{\\phi} \\right. {\\left|{\\phi}{\\zeta}\\right\\rangle }}{3} + \\frac{17 \\left\\langle {\\zeta}{\\phi} \\right. {\\left|{\\zeta}{\\phi}\\right\\rangle }}{6} - \\frac{4 \\left\\langle {\\zeta}{\\xi} \\right. {\\left|{\\xi}{\\zeta}\\right\\rangle }}{3} + \\frac{29 \\left\\langle {\\zeta}{\\xi} \\right. {\\left|{\\zeta}{\\xi}\\right\\rangle }}{12} + \\left\\langle {\\zeta}{\\zeta} \\right. {\\left|{\\gamma}{\\gamma}\\right\\rangle } + \\left\\langle {\\zeta}{\\zeta} \\right. {\\left|{\\zeta}{\\zeta}\\right\\rangle }$"
      ],
      "text/plain": [
       "<IPython.core.display.Math object>"
      ]
     },
     "metadata": {},
     "output_type": "display_data"
    },
    {
     "data": {
      "text/latex": [
       "$\\displaystyle {}^{1}T_{2} \\rightarrow 15 F^{(0)} - \\frac{9 F^{(2)}}{49} - \\frac{55 F^{(4)}}{147}$"
      ],
      "text/plain": [
       "<IPython.core.display.Math object>"
      ]
     },
     "metadata": {},
     "output_type": "display_data"
    },
    {
     "data": {
      "text/latex": [
       "$\\displaystyle ++++++++++$"
      ],
      "text/plain": [
       "++++++++++"
      ]
     },
     "metadata": {},
     "output_type": "display_data"
    },
    {
     "data": {
      "text/latex": [
       "$\\displaystyle {}^{1}T_{1} \\rightarrow \\frac{15 \\left\\langle {\\xi}{\\gamma} \\right. {\\left|{\\xi}{\\gamma}\\right\\rangle }}{8} - \\left\\langle {\\xi}{\\phi} \\right. {\\left|{\\phi}{\\xi}\\right\\rangle } + 5 \\left\\langle {\\xi}{\\phi} \\right. {\\left|{\\xi}{\\phi}\\right\\rangle } + \\left\\langle {\\xi}{\\xi} \\right. {\\left|{\\xi}{\\xi}\\right\\rangle } + \\frac{7 \\left\\langle {\\xi}{\\zeta} \\right. {\\left|{\\xi}{\\zeta}\\right\\rangle }}{8} - \\frac{8 \\left\\langle {\\zeta}{\\phi} \\right. {\\left|{\\phi}{\\zeta}\\right\\rangle }}{3} + \\frac{17 \\left\\langle {\\zeta}{\\phi} \\right. {\\left|{\\zeta}{\\phi}\\right\\rangle }}{6} - \\frac{4 \\left\\langle {\\zeta}{\\xi} \\right. {\\left|{\\xi}{\\zeta}\\right\\rangle }}{3} + \\frac{29 \\left\\langle {\\zeta}{\\xi} \\right. {\\left|{\\zeta}{\\xi}\\right\\rangle }}{12} - \\left\\langle {\\zeta}{\\zeta} \\right. {\\left|{\\gamma}{\\gamma}\\right\\rangle } + \\left\\langle {\\zeta}{\\zeta} \\right. {\\left|{\\zeta}{\\zeta}\\right\\rangle }$"
      ],
      "text/plain": [
       "<IPython.core.display.Math object>"
      ]
     },
     "metadata": {},
     "output_type": "display_data"
    },
    {
     "data": {
      "text/latex": [
       "$\\displaystyle {}^{1}T_{1} \\rightarrow 15 F^{(0)} - \\frac{17 F^{(2)}}{49} - \\frac{65 F^{(4)}}{147}$"
      ],
      "text/plain": [
       "<IPython.core.display.Math object>"
      ]
     },
     "metadata": {},
     "output_type": "display_data"
    },
    {
     "data": {
      "text/latex": [
       "$\\displaystyle ++++++++++$"
      ],
      "text/plain": [
       "++++++++++"
      ]
     },
     "metadata": {},
     "output_type": "display_data"
    },
    {
     "data": {
      "text/latex": [
       "$\\displaystyle {}^{1}A_{2} \\rightarrow 2 \\left\\langle {\\xi}{\\gamma} \\right. {\\left|{\\xi}{\\gamma}\\right\\rangle } - 2 \\left\\langle {\\xi}{\\phi} \\right. {\\left|{\\phi}{\\xi}\\right\\rangle } + 4 \\left\\langle {\\xi}{\\phi} \\right. {\\left|{\\xi}{\\phi}\\right\\rangle } - \\left\\langle {\\xi}{\\xi} \\right. {\\left|{\\phi}{\\phi}\\right\\rangle } + 2 \\left\\langle {\\xi}{\\xi} \\right. {\\left|{\\xi}{\\xi}\\right\\rangle } + \\left\\langle {\\xi}{\\zeta} \\right. {\\left|{\\xi}{\\zeta}\\right\\rangle } - \\frac{8 \\left\\langle {\\zeta}{\\phi} \\right. {\\left|{\\phi}{\\zeta}\\right\\rangle }}{3} + \\frac{8 \\left\\langle {\\zeta}{\\phi} \\right. {\\left|{\\zeta}{\\phi}\\right\\rangle }}{3} - \\frac{4 \\left\\langle {\\zeta}{\\xi} \\right. {\\left|{\\xi}{\\zeta}\\right\\rangle }}{3} + \\frac{7 \\left\\langle {\\zeta}{\\xi} \\right. {\\left|{\\zeta}{\\xi}\\right\\rangle }}{3} - \\left\\langle {\\zeta}{\\zeta} \\right. {\\left|{\\gamma}{\\gamma}\\right\\rangle } + \\left\\langle {\\zeta}{\\zeta} \\right. {\\left|{\\zeta}{\\zeta}\\right\\rangle }$"
      ],
      "text/plain": [
       "<IPython.core.display.Math object>"
      ]
     },
     "metadata": {},
     "output_type": "display_data"
    },
    {
     "data": {
      "text/latex": [
       "$\\displaystyle {}^{1}A_{2} \\rightarrow 15 F^{(0)} - \\frac{17 F^{(2)}}{49} - \\frac{65 F^{(4)}}{147}$"
      ],
      "text/plain": [
       "<IPython.core.display.Math object>"
      ]
     },
     "metadata": {},
     "output_type": "display_data"
    },
    {
     "data": {
      "text/latex": [
       "$\\displaystyle ++++++++++$"
      ],
      "text/plain": [
       "++++++++++"
      ]
     },
     "metadata": {},
     "output_type": "display_data"
    },
    {
     "data": {
      "text/latex": [
       "$\\displaystyle {}^{3}T_{1} \\rightarrow \\frac{13 \\left\\langle {\\xi}{\\gamma} \\right. {\\left|{\\xi}{\\gamma}\\right\\rangle }}{8} - 3 \\left\\langle {\\xi}{\\phi} \\right. {\\left|{\\phi}{\\xi}\\right\\rangle } + 5 \\left\\langle {\\xi}{\\phi} \\right. {\\left|{\\xi}{\\phi}\\right\\rangle } + \\left\\langle {\\xi}{\\xi} \\right. {\\left|{\\xi}{\\xi}\\right\\rangle } + \\frac{7 \\left\\langle {\\xi}{\\zeta} \\right. {\\left|{\\xi}{\\zeta}\\right\\rangle }}{8} - \\frac{8 \\left\\langle {\\zeta}{\\phi} \\right. {\\left|{\\phi}{\\zeta}\\right\\rangle }}{3} + \\frac{19 \\left\\langle {\\zeta}{\\phi} \\right. {\\left|{\\zeta}{\\phi}\\right\\rangle }}{6} - \\frac{4 \\left\\langle {\\zeta}{\\xi} \\right. {\\left|{\\xi}{\\zeta}\\right\\rangle }}{3} + \\frac{7 \\left\\langle {\\zeta}{\\xi} \\right. {\\left|{\\zeta}{\\xi}\\right\\rangle }}{3} + \\left\\langle {\\zeta}{\\zeta} \\right. {\\left|{\\gamma}{\\gamma}\\right\\rangle } + \\left\\langle {\\zeta}{\\zeta} \\right. {\\left|{\\zeta}{\\zeta}\\right\\rangle }$"
      ],
      "text/plain": [
       "<IPython.core.display.Math object>"
      ]
     },
     "metadata": {},
     "output_type": "display_data"
    },
    {
     "data": {
      "text/latex": [
       "$\\displaystyle {}^{3}T_{1} \\rightarrow 15 F^{(0)} - \\frac{15 F^{(2)}}{49} - \\frac{205 F^{(4)}}{441}$"
      ],
      "text/plain": [
       "<IPython.core.display.Math object>"
      ]
     },
     "metadata": {},
     "output_type": "display_data"
    },
    {
     "data": {
      "text/latex": [
       "$\\displaystyle ++++++++++$"
      ],
      "text/plain": [
       "++++++++++"
      ]
     },
     "metadata": {},
     "output_type": "display_data"
    },
    {
     "data": {
      "text/latex": [
       "$\\displaystyle {}^{3}T_{2} \\rightarrow \\frac{13 \\left\\langle {\\xi}{\\gamma} \\right. {\\left|{\\xi}{\\gamma}\\right\\rangle }}{8} - 3 \\left\\langle {\\xi}{\\phi} \\right. {\\left|{\\phi}{\\xi}\\right\\rangle } + 5 \\left\\langle {\\xi}{\\phi} \\right. {\\left|{\\xi}{\\phi}\\right\\rangle } + \\left\\langle {\\xi}{\\xi} \\right. {\\left|{\\xi}{\\xi}\\right\\rangle } + \\frac{7 \\left\\langle {\\xi}{\\zeta} \\right. {\\left|{\\xi}{\\zeta}\\right\\rangle }}{8} - \\frac{8 \\left\\langle {\\zeta}{\\phi} \\right. {\\left|{\\phi}{\\zeta}\\right\\rangle }}{3} + \\frac{19 \\left\\langle {\\zeta}{\\phi} \\right. {\\left|{\\zeta}{\\phi}\\right\\rangle }}{6} - \\frac{4 \\left\\langle {\\zeta}{\\xi} \\right. {\\left|{\\xi}{\\zeta}\\right\\rangle }}{3} + \\frac{7 \\left\\langle {\\zeta}{\\xi} \\right. {\\left|{\\zeta}{\\xi}\\right\\rangle }}{3} - \\left\\langle {\\zeta}{\\zeta} \\right. {\\left|{\\gamma}{\\gamma}\\right\\rangle } + \\left\\langle {\\zeta}{\\zeta} \\right. {\\left|{\\zeta}{\\zeta}\\right\\rangle }$"
      ],
      "text/plain": [
       "<IPython.core.display.Math object>"
      ]
     },
     "metadata": {},
     "output_type": "display_data"
    },
    {
     "data": {
      "text/latex": [
       "$\\displaystyle {}^{3}T_{2} \\rightarrow 15 F^{(0)} - \\frac{23 F^{(2)}}{49} - \\frac{235 F^{(4)}}{441}$"
      ],
      "text/plain": [
       "<IPython.core.display.Math object>"
      ]
     },
     "metadata": {},
     "output_type": "display_data"
    },
    {
     "data": {
      "text/latex": [
       "$\\displaystyle ++++++++++$"
      ],
      "text/plain": [
       "++++++++++"
      ]
     },
     "metadata": {},
     "output_type": "display_data"
    },
    {
     "data": {
      "text/latex": [
       "$\\displaystyle {}^{3}A_{2} \\rightarrow \\frac{2 \\left\\langle {\\xi}{\\gamma} \\right. {\\left|{\\xi}{\\gamma}\\right\\rangle }}{3} - 2 \\left\\langle {\\xi}{\\phi} \\right. {\\left|{\\phi}{\\xi}\\right\\rangle } + 4 \\left\\langle {\\xi}{\\phi} \\right. {\\left|{\\xi}{\\phi}\\right\\rangle } + 2 \\left\\langle {\\xi}{\\xi} \\right. {\\left|{\\phi}{\\phi}\\right\\rangle } + 2 \\left\\langle {\\xi}{\\xi} \\right. {\\left|{\\xi}{\\xi}\\right\\rangle } + 2 \\left\\langle {\\zeta}{\\gamma} \\right. {\\left|{\\zeta}{\\gamma}\\right\\rangle } - \\frac{8 \\left\\langle {\\zeta}{\\phi} \\right. {\\left|{\\phi}{\\zeta}\\right\\rangle }}{3} + \\frac{40 \\left\\langle {\\zeta}{\\phi} \\right. {\\left|{\\zeta}{\\phi}\\right\\rangle }}{9} - \\frac{4 \\left\\langle {\\zeta}{\\xi} \\right. {\\left|{\\xi}{\\zeta}\\right\\rangle }}{3} + \\frac{26 \\left\\langle {\\zeta}{\\xi} \\right. {\\left|{\\zeta}{\\xi}\\right\\rangle }}{9} + \\left\\langle {\\zeta}{\\zeta} \\right. {\\left|{\\gamma}{\\gamma}\\right\\rangle } - \\left\\langle {\\zeta}{\\zeta} \\right. {\\left|{\\zeta}{\\zeta}\\right\\rangle }$"
      ],
      "text/plain": [
       "<IPython.core.display.Math object>"
      ]
     },
     "metadata": {},
     "output_type": "display_data"
    },
    {
     "data": {
      "text/latex": [
       "$\\displaystyle {}^{3}A_{2} \\rightarrow 15 F^{(0)} - \\frac{16 F^{(2)}}{49} - \\frac{55 F^{(4)}}{147}$"
      ],
      "text/plain": [
       "<IPython.core.display.Math object>"
      ]
     },
     "metadata": {},
     "output_type": "display_data"
    },
    {
     "data": {
      "text/latex": [
       "$\\displaystyle ++++++++++$"
      ],
      "text/plain": [
       "++++++++++"
      ]
     },
     "metadata": {},
     "output_type": "display_data"
    },
    {
     "data": {
      "text/latex": [
       "$\\displaystyle {}^{3}E \\rightarrow \\frac{\\left\\langle {\\xi}{\\gamma} \\right. {\\left|{\\xi}{\\gamma}\\right\\rangle }}{3} - 2 \\left\\langle {\\xi}{\\phi} \\right. {\\left|{\\phi}{\\xi}\\right\\rangle } + 4 \\left\\langle {\\xi}{\\phi} \\right. {\\left|{\\xi}{\\phi}\\right\\rangle } - \\left\\langle {\\xi}{\\xi} \\right. {\\left|{\\phi}{\\phi}\\right\\rangle } + 2 \\left\\langle {\\xi}{\\xi} \\right. {\\left|{\\xi}{\\xi}\\right\\rangle } + 2 \\left\\langle {\\zeta}{\\gamma} \\right. {\\left|{\\zeta}{\\gamma}\\right\\rangle } - \\frac{8 \\left\\langle {\\zeta}{\\phi} \\right. {\\left|{\\phi}{\\zeta}\\right\\rangle }}{3} + \\frac{44 \\left\\langle {\\zeta}{\\phi} \\right. {\\left|{\\zeta}{\\phi}\\right\\rangle }}{9} - \\frac{4 \\left\\langle {\\zeta}{\\xi} \\right. {\\left|{\\xi}{\\zeta}\\right\\rangle }}{3} + \\frac{25 \\left\\langle {\\zeta}{\\xi} \\right. {\\left|{\\zeta}{\\xi}\\right\\rangle }}{9} + \\left\\langle {\\zeta}{\\zeta} \\right. {\\left|{\\gamma}{\\gamma}\\right\\rangle } - \\left\\langle {\\zeta}{\\zeta} \\right. {\\left|{\\zeta}{\\zeta}\\right\\rangle }$"
      ],
      "text/plain": [
       "<IPython.core.display.Math object>"
      ]
     },
     "metadata": {},
     "output_type": "display_data"
    },
    {
     "data": {
      "text/latex": [
       "$\\displaystyle {}^{3}E \\rightarrow 15 F^{(0)} - \\frac{25 F^{(2)}}{49} - \\frac{25 F^{(4)}}{49}$"
      ],
      "text/plain": [
       "<IPython.core.display.Math object>"
      ]
     },
     "metadata": {},
     "output_type": "display_data"
    },
    {
     "data": {
      "text/latex": [
       "$\\displaystyle ++++++++++$"
      ],
      "text/plain": [
       "++++++++++"
      ]
     },
     "metadata": {},
     "output_type": "display_data"
    },
    {
     "data": {
      "text/latex": [
       "$\\displaystyle {}^{5}T_{2} \\rightarrow - 3 \\left\\langle {\\xi}{\\phi} \\right. {\\left|{\\phi}{\\xi}\\right\\rangle } + 5 \\left\\langle {\\xi}{\\phi} \\right. {\\left|{\\xi}{\\phi}\\right\\rangle } + \\left\\langle {\\xi}{\\xi} \\right. {\\left|{\\xi}{\\xi}\\right\\rangle } + 2 \\left\\langle {\\zeta}{\\gamma} \\right. {\\left|{\\zeta}{\\gamma}\\right\\rangle } - 4 \\left\\langle {\\zeta}{\\phi} \\right. {\\left|{\\phi}{\\zeta}\\right\\rangle } + \\frac{16 \\left\\langle {\\zeta}{\\phi} \\right. {\\left|{\\zeta}{\\phi}\\right\\rangle }}{3} - 2 \\left\\langle {\\zeta}{\\xi} \\right. {\\left|{\\xi}{\\zeta}\\right\\rangle } + \\frac{8 \\left\\langle {\\zeta}{\\xi} \\right. {\\left|{\\zeta}{\\xi}\\right\\rangle }}{3} + \\left\\langle {\\zeta}{\\zeta} \\right. {\\left|{\\gamma}{\\gamma}\\right\\rangle } - \\left\\langle {\\zeta}{\\zeta} \\right. {\\left|{\\zeta}{\\zeta}\\right\\rangle }$"
      ],
      "text/plain": [
       "<IPython.core.display.Math object>"
      ]
     },
     "metadata": {},
     "output_type": "display_data"
    },
    {
     "data": {
      "text/latex": [
       "$\\displaystyle {}^{5}T_{2} \\rightarrow 15 F^{(0)} - \\frac{5 F^{(2)}}{7} - \\frac{5 F^{(4)}}{7}$"
      ],
      "text/plain": [
       "<IPython.core.display.Math object>"
      ]
     },
     "metadata": {},
     "output_type": "display_data"
    }
   ],
   "source": [
    "t23 = CrystalElectronsLLcoupling('O',(sp.Symbol('E'),2), (sp.Symbol('T_2'),4))\n",
    "\n",
    "terms = {}\n",
    "for wave_key, wave_qet in t23.equiv_waves.items():\n",
    "    aterm = wave_key.terms[-1]\n",
    "    if aterm not in terms:\n",
    "        terms[aterm] = {}\n",
    "    terms[aterm][wave_key] = wave_qet\n",
    "terms = OrderedDict(sorted(list(terms.items()), key=lambda x: x[0][0]))\n",
    "\n",
    "for term, term_qets in terms.items():\n",
    "    display(sp.Symbol('+'*10))\n",
    "    term_symbol = sp.Symbol('{}^{%d}%s' % (term[0]*2+1, sp.latex(term[1])))\n",
    "    a_key = list(term_qets.keys())[0]\n",
    "    a_qet = term_qets[a_key]\n",
    "    matrix_element = double_electron_braket(a_qet,a_qet)\n",
    "    matrix_element = simplifier(matrix_element)\n",
    "    display(Math(r'%s \\rightarrow %s' % (sp.latex(term_symbol),sp.latex(matrix_element.as_braket()))))\n",
    "    matrix_element = braket_basis_change(matrix_element, basis_change)\n",
    "    # display(Math(r'%s \\rightarrow %s' % (sp.latex(term_symbol),sp.latex(matrix_element.as_braket()))))\n",
    "    # display(matrix_element.as_braket())\n",
    "    matrix_element = matrix_element.apply(to_slater_params)\n",
    "    display(Math(r'%s \\rightarrow %s' % (sp.latex(term_symbol),sp.latex(matrix_element.as_symbol_sum()))))\n",
    "    # display(ground_truth[term])"
   ]
  },
  {
   "cell_type": "code",
   "execution_count": null,
   "metadata": {},
   "outputs": [
    {
     "data": {
      "text/html": [
       "<pre>✔️ 365 µs (2021-12-29T18:46:03/2021-12-29T18:46:03)</pre>"
      ],
      "text/plain": [
       "<IPython.core.display.HTML object>"
      ]
     },
     "metadata": {},
     "output_type": "display_data"
    }
   ],
   "source": [
    "# Qet(to_slater_params((  2,2,\n",
    "#                         2,-2,\n",
    "#                         2,-2,\n",
    "#                         2,2),1)).as_symbol_sum()\n",
    "# l = 1\n",
    "# lp = 2\n",
    "# m = 1\n",
    "# mp = -2\n",
    "# k = 3\n",
    "# mk = m-mp\n",
    "# threeHarmonicIntegral(l,m,k,mk,lp,mp) * sp.sqrt(4*sp.pi) / sp.sqrt(2*k+1) * 7 * sp.sqrt(5)"
   ]
  },
  {
   "cell_type": "code",
   "execution_count": null,
   "metadata": {},
   "outputs": [
    {
     "data": {
      "text/html": [
       "<pre>✔️ 2.48 ms (2021-12-29T19:01:12/2021-12-29T19:01:12)</pre>"
      ],
      "text/plain": [
       "<IPython.core.display.HTML object>"
      ]
     },
     "metadata": {},
     "output_type": "display_data"
    }
   ],
   "source": [
    "# qets = list(t23.equiv_waves.values())\n",
    "# aqet = qets[0]\n",
    "# abraket = double_electron_braket(aqet,aqet)\n",
    "# current_basis = set()\n",
    "# for qet in qets:\n",
    "#     for k in qet.dict.keys():\n",
    "#         current_basis.update(k)\n",
    "# basis_change = {}\n",
    "# new_basis_symbols = [sp.Symbol(r'\\omega_{%d}' % d) for d in range(5)]\n",
    "# for basis_vec in current_basis:\n",
    "#     this_change = {(bv,): np.random.randint(0,10) for bv in new_basis_symbols}\n",
    "#     this_qet = Qet(this_change)\n",
    "#     normalizer = sp.S(1)/this_qet.norm()\n",
    "#     this_qet = normalizer * this_qet\n",
    "#     basis_change[basis_vec] = this_qet\n",
    "# new_braket = braket_basis_change(abraket, basis_change)\n",
    "# new_braket.as_ket()\n",
    "\n",
    "# group_label = 'O'\n",
    "# l = 2\n",
    "# group = CPGs.get_group_by_label(group_label)\n",
    "# irreps = group.irrep_labels\n",
    "# sym_bases = {k: v[l] for k,v in symmetry_bases[group_label][1].items() if v[l]}\n",
    "# #####################################################\n",
    "# #####################################################\n",
    "# #####################################################\n",
    "# # CAUTION: I'm assuming that the expression that I calculated\n",
    "# # here for a symmetry adapted basis component matches in order\n",
    "# # to the labels for the components of each irrep\n",
    "# #####################################################\n",
    "# #####################################################\n",
    "# #####################################################\n",
    "# component_labels = {k:list(v.values()) for k,v in new_labels[group_label].items()}\n",
    "# basis_change = {}\n",
    "# for irrep, qets in sym_bases.items():\n",
    "#     components = component_labels[irrep]\n",
    "#     print(irrep)\n",
    "#     print(len(qets))\n",
    "#     if isinstance(qets, list):\n",
    "#         qets = qets[0]\n",
    "#     for component, qet in zip(components, qets):\n",
    "#         basis_change[component] = qet\n",
    "# # basis_change[sp.Symbol(r'{\\xi}')] = sp.I * basis_change[sp.Symbol(r'{\\xi}')]\n",
    "# # basis_change\n",
    "\n",
    "# real_var_simplifiers = {irc:[] for irc in [1,2,3]}\n",
    "\n",
    "# real_var_full_simplifier = {}\n",
    "# for ircombo in real_var_simplifiers:\n",
    "#     real_var_full_simplifier.update(real_var_simplifiers[ircombo])"
   ]
  },
  {
   "cell_type": "code",
   "execution_count": null,
   "metadata": {},
   "outputs": [],
   "source": [
    "# # This should equal 2.105\n",
    "# huh = braket_basis_change(Qet({(sp.Symbol(r'{\\xi}'), sp.Symbol(r'{\\xi}'), sp.Symbol(r'{\\xi}'), sp.Symbol(r'{\\xi}')):1}),basis_change)\n",
    "# new_huh = Qet()\n",
    "# for k,v in huh.dict.items():\n",
    "#     m1, m2, m1p, m2p = k[1],k[3],k[5],k[7]\n",
    "#     if (m1+m2 == m1p+m2p):\n",
    "#         new_huh = new_huh + Qet({(m1,m2,m1p,m2p):v})\n",
    "# new_huh.as_braket()\n",
    "# new_huh.apply(to_slater_params).as_symbol_sum()\n",
    "# # and it does"
   ]
  },
  {
   "cell_type": "code",
   "execution_count": null,
   "metadata": {},
   "outputs": [],
   "source": [
    "# # def to_slater_params(qnums, coeff):\n",
    "# #     '''\n",
    "# #     This function will take a set of qnums that are assumed to be l1, m1, l2, m2, l1p, m1p, l2p, m2p\n",
    "# #     and will return a set of qnums that correspond to slater integrals and corresponding coefficients.\n",
    "# #     '''\n",
    "# #     if len(qnums) == 8:\n",
    "# #         l1, m1, l2, m2, l1p, m1p, l2p, m2p = qnums\n",
    "# #     else:\n",
    "# #         m1, m2, m1p, m2p = qnums\n",
    "# #         l1, l2, l1p, l2p = 2, 2, 2, 2\n",
    "# #     if KroneckerDelta(m1+m2,m1p+m2p):\n",
    "# #         if (m1-m1p) % 2 == 0:\n",
    "# #             phase = 1\n",
    "# #         else:\n",
    "# #             phase = -1\n",
    "# #         new_dict = {}\n",
    "# #         for k in range(6):\n",
    "# #             key = sp.Symbol('F^{(%d)}' % k)\n",
    "# #             c1 = threeHarmonicIntegral(l1,   m1,\n",
    "# #                                         k,   (m1-m1p),\n",
    "# #                                         l1p, m1p) * sp.sqrt((4*sp.pi) / (2*k+1))\n",
    "# #             c2 = threeHarmonicIntegral(l2,  m2,\n",
    "# #                                        k,   (m2-m2p),\n",
    "# #                                        l2p, m2p) * sp.sqrt((4*sp.pi) / (2*k+1))\n",
    "# #             val = phase*coeff*c1*c2\n",
    "# #             if val:\n",
    "# #                 if k == 4:\n",
    "# #                     print(k,'|',val,c1,c2,coeff, phase)\n",
    "# #                     print(qnums)\n",
    "# #                     print(coeff)\n",
    "# #                 new_dict[key] = val\n",
    "# #         return new_dict\n",
    "# #     else:\n",
    "# #         print(\"s\")\n",
    "# #         return {}\n",
    "# # this should equal F0 - 5/49 F^2 -74/441 F^4\n",
    "# matrix_element = double_electron_braket(a_qet,a_qet)\n",
    "# matrix_element = simplifier(matrix_element)\n",
    "# display(Math(r'%s \\rightarrow %s' % (sp.latex(term_symbol),sp.latex(matrix_element.as_braket()))))\n",
    "# matrix_element = braket_basis_change(matrix_element, basis_change)\n",
    "# # display(Math(r'%s \\rightarrow %s' % (sp.latex(term_symbol),sp.latex(matrix_element.as_braket()))))\n",
    "# # display(matrix_element.as_braket())\n",
    "# matrix_element = matrix_element.apply(to_slater_params)\n",
    "# display(Math(r'%s \\rightarrow %s' % (sp.latex(term_symbol),sp.latex(matrix_element.as_symbol_sum()))))"
   ]
  },
  {
   "cell_type": "code",
   "execution_count": null,
   "metadata": {},
   "outputs": [],
   "source": [
    "# # when i go through all of table 2.5\n",
    "# # all the results that I compute match\n",
    "# # with the table\n",
    "# # def to_slater_params(qnums, coeff):\n",
    "# #     '''\n",
    "# #     This function will take a set of qnums that are assumed to be l1, m1, l2, m2, l1p, m1p, l2p, m2p\n",
    "# #     and will return a set of qnums that correspond to slater integrals and corresponding coefficients.\n",
    "# #     '''\n",
    "# #     if len(qnums) == 8:\n",
    "# #         l1, m1, l2, m2, l1p, m1p, l2p, m2p = qnums\n",
    "# #     else:\n",
    "# #         m1, m2, m1p, m2p = qnums\n",
    "# #         l1, l2, l1p, l2p = 2, 2, 2, 2\n",
    "# #     if KroneckerDelta(m1+m2,m1p+m2p):\n",
    "# #         if (m1-m1p) % 2 == 0:\n",
    "# #             phase = 1\n",
    "# #         else:\n",
    "# #             phase = -1\n",
    "# #         new_dict = {}\n",
    "# #         for k in range(6):\n",
    "# #             key = sp.Symbol('F^{(%d)}' % k)\n",
    "# #             c1 = threeHarmonicIntegral(l1,   m1,\n",
    "# #                                         k,   (m1-m1p),\n",
    "# #                                         l1p, m1p) * sp.sqrt((4*sp.pi) / (2*k+1))\n",
    "# #             c2 = threeHarmonicIntegral(l2,  m2,\n",
    "# #                                        k,   (m2-m2p),\n",
    "# #                                        l2p, m2p) * sp.sqrt((4*sp.pi) / (2*k+1))\n",
    "# #             val = phase*coeff*c1*c2\n",
    "# #             if val:\n",
    "# #                 # if k == 4:\n",
    "# #                 #     print(k,'|',val,c1,c2,coeff, phase)\n",
    "# #                 #     print(qnums)\n",
    "# #                 #     print(coeff)\n",
    "# #                 new_dict[key] = val\n",
    "# #         return new_dict\n",
    "# #     else:\n",
    "# #         # print(\"s\")\n",
    "# #         return {}\n",
    "\n",
    "# A, B, C = sp.symbols('A B C')\n",
    "# subs = {sp.Symbol('F_4') : sp.Symbol('F^(4)')/441,\n",
    "#         sp.Symbol('F_0'): sp.Symbol('F^(0)'),\n",
    "#         sp.Symbol('F_2'): sp.Symbol('F^(2)')/49}\n",
    "# A = sp.Symbol('F_0') - 49 * sp.Symbol('F_4')\n",
    "# A = A.subs(subs)\n",
    "# B = sp.Symbol('F_2') - 5 * sp.Symbol('F_4')\n",
    "# B = B.subs(subs)\n",
    "# C = 35*sp.Symbol('F_4')\n",
    "# C = C.subs(subs)\n",
    "# comparison_brakets = {\n",
    "# sp.Symbol(r'J(\\zeta\\zeta)'): (A + 4*B + 3*C, Qet({(sp.Symbol(r'{\\xi}'),sp.Symbol(r'{\\xi}'),sp.Symbol(r'{\\xi}'),sp.Symbol(r'{\\xi}')):1})),\n",
    "# sp.Symbol(r'J(\\xi\\eta)'): (A - 2*B + C, Qet({(sp.Symbol(r'{\\chi}'),sp.Symbol(r'{\\phi}'),sp.Symbol(r'{\\chi}'),sp.Symbol(r'{\\phi}')):1})),\n",
    "# sp.Symbol(r'J(\\zeta{u})'): (A - 4*B + C, Qet({(sp.Symbol(r'{\\xi}'),sp.Symbol(r'{\\gamma}'),sp.Symbol(r'{\\xi}'),sp.Symbol(r'{\\gamma}')):1})),\n",
    "# sp.Symbol(r'J(uv)'): (A - 4*B + C, Qet({(sp.Symbol(r'{\\gamma}'),sp.Symbol(r'{\\zeta}'),sp.Symbol(r'{\\gamma}'),sp.Symbol(r'{\\zeta}')):1})),\n",
    "# sp.Symbol(r'J(\\zeta{v})'): (A + 4*B + C, Qet({(sp.Symbol(r'{\\xi}'),sp.Symbol(r'{\\zeta}'),sp.Symbol(r'{\\xi}'),sp.Symbol(r'{\\zeta}')):1})),\n",
    "# sp.Symbol(r'K(\\xi\\eta)'): (3*B + C, Qet({(sp.Symbol(r'{\\chi}'),sp.Symbol(r'{\\chi}'),sp.Symbol(r'{\\phi}'),sp.Symbol(r'{\\phi}')):1})),\n",
    "# sp.Symbol(r'K(\\zeta{u})'): (4*B + C, Qet({(sp.Symbol(r'{\\xi}'),sp.Symbol(r'{\\xi}'),sp.Symbol(r'{\\gamma}'),sp.Symbol(r'{\\gamma}')):1})),\n",
    "# sp.Symbol(r'K(uv)'): (4*B + C, Qet({(sp.Symbol(r'{\\gamma}'),sp.Symbol(r'{\\gamma}'),sp.Symbol(r'{\\zeta}'),sp.Symbol(r'{\\zeta}')):1})),\n",
    "# sp.Symbol(r'K(\\zeta{v})'): (C, Qet({(sp.Symbol(r'{\\xi}'),sp.Symbol(r'{\\xi}'),sp.Symbol(r'{\\zeta}'),sp.Symbol(r'{\\zeta}')):1})),\n",
    "\n",
    "# }\n",
    "# # for k, v in comparison_brakets.items():\n",
    "# #         display(k)\n",
    "# #         gt =  sp.latex(v[0])\n",
    "# #         display(v[0])\n",
    "# #         abraket = v[1]\n",
    "# #         matrix_element = simplifier(abraket)\n",
    "# #         # out1 = r'%s' % (sp.latex(matrix_element.as_braket()))\n",
    "# #         # display(Math(out1))\n",
    "# #         matrix_element = braket_basis_change(matrix_element, basis_change)\n",
    "# #         # display(Math(r'%s \\rightarrow %s' % (sp.latex(term_symbol),sp.latex(matrix_element.as_braket()))))\n",
    "# #         # display(matrix_element.as_braket())\n",
    "# #         matrix_element = matrix_element.apply(to_slater_params)\n",
    "# #         out = r'%s' % (sp.latex(matrix_element.as_symbol_sum()))\n",
    "# #         display(Math(out))\n",
    "# #         print(gt==out)\n",
    "\n",
    "# for k, v in comparison_brakets.items():\n",
    "#         for k1, v1 in comparison_brakets.items():\n",
    "#                 gt =  sp.latex(3*v[0]+2*v1[0])\n",
    "#                 abraket = 3*v[1] + 2*v1[1]\n",
    "#                 matrix_element = simplifier(abraket)\n",
    "#                 # out1 = r'%s' % (sp.latex(matrix_element.as_braket()))\n",
    "#                 # display(Math(out1))\n",
    "#                 matrix_element = braket_basis_change(matrix_element, basis_change)\n",
    "#                 # display(Math(r'%s \\rightarrow %s' % (sp.latex(term_symbol),sp.latex(matrix_element.as_braket()))))\n",
    "#                 # display(matrix_element.as_braket())\n",
    "#                 matrix_element = matrix_element.apply(to_slater_params)\n",
    "#                 out = r'%s' % (sp.latex(matrix_element.as_symbol_sum()))\n",
    "#                 if not(gt==out) or (np.random.randint(0,1) == 0):\n",
    "#                         if (gt == out):\n",
    "#                                 display(sp.Symbol('='))\n",
    "#                         display(3*k+2*k1)\n",
    "#                         # display(v[0]+2*v1[0])\n",
    "#                         # display(Math(out))\n",
    "#                         display(sp.Matrix([3*v[0]+2*v1[0], sp.Symbol('||'), sp.Symbol(out)]).T)"
   ]
  },
  {
   "cell_type": "code",
   "execution_count": null,
   "metadata": {},
   "outputs": [
    {
     "data": {
      "text/html": [
       "<pre>✔️ 407 µs (2021-12-20T18:40:57/2021-12-20T18:40:57)</pre>"
      ],
      "text/plain": [
       "<IPython.core.display.HTML object>"
      ]
     },
     "metadata": {},
     "output_type": "display_data"
    }
   ],
   "source": [
    "# l = 2\n",
    "# lp = 2\n",
    "# m = 2\n",
    "# mp = 1\n",
    "# k = 2\n",
    "# mk = m-mp\n",
    "# yu = threeHarmonicIntegral(l,m,k,mk,lp,mp) * sp.sqrt(4*sp.pi) / sp.sqrt(2*k+1)\n",
    "# yu"
   ]
  },
  {
   "cell_type": "code",
   "execution_count": 434,
   "metadata": {},
   "outputs": [
    {
     "data": {
      "text/html": [
       "<pre>✔️ 1.7 ms (2021-12-20T18:41:00/2021-12-20T18:41:00)</pre>"
      ],
      "text/plain": [
       "<IPython.core.display.HTML object>"
      ]
     },
     "metadata": {},
     "output_type": "display_data"
    }
   ],
   "source": [
    "# Qet(to_slater_params((2, 2,\n",
    "#                       2, -2,\n",
    "#                       2, -2,\n",
    "#                       2, 2),1)).as_symbol_sum()"
   ]
  },
  {
   "cell_type": "code",
   "execution_count": 397,
   "metadata": {},
   "outputs": [
    {
     "data": {
      "text/html": [
       "<pre>✔️ 105 ms (2021-12-20T18:28:57/2021-12-20T18:28:57)</pre>"
      ],
      "text/plain": [
       "<IPython.core.display.HTML object>"
      ]
     },
     "metadata": {},
     "output_type": "display_data"
    }
   ],
   "source": [
    "# class Qot():\n",
    "#     '''\n",
    "#     A Qet is a dictionary of keys and values. Keys correspond to\n",
    "#     tuples   of  quantum  numbers  or  symbols  and  the  values\n",
    "#     correspond to the accompanying coefficients.\n",
    "\n",
    "#     Scalars may be added by using an empty tuple as a key.\n",
    "\n",
    "#     A  qet  may be multiplied by a scalar, in which case all the\n",
    "#     coefficients are multiplied by it. It may also be multiplied\n",
    "#     by   another   qet,   in  which  case  quantum  numbers  are\n",
    "#     concatenated and coefficients multiplied accordingly.\n",
    "#     '''\n",
    "#     def __init__(self, bits=0):\n",
    "#         if bits == 0:\n",
    "#                 self.dict = {}\n",
    "#         elif isinstance(bits, dict):\n",
    "#                 self.dict = {k: v for k, v in bits.items() if v!=0}\n",
    "\n",
    "#     def __add__(self, other):\n",
    "#         new_dict = dict(self.dict)\n",
    "#         if other == 0:\n",
    "#                 return self\n",
    "#         for key, coeff in other.dict.items():\n",
    "#             if key in new_dict.keys():\n",
    "#                 new_dict[key] += coeff\n",
    "#             else:\n",
    "#                 new_dict[key] = coeff\n",
    "#         return Qet(new_dict)\n",
    "\n",
    "#     def __sub__(self, other):\n",
    "#         if other == 0:\n",
    "#             return self\n",
    "#         return Qet(dict(self.dict)) + (-1)*Qet(dict(other.dict))\n",
    "\n",
    "#     def __neg__(self):\n",
    "#         return (-1)*Qet(self.dict)\n",
    "\n",
    "#     def vec_in_basis(self, basis):\n",
    "#         '''\n",
    "#         Given an ordered basis  return  a  list  with  the\n",
    "#         coefficients of the qet in that basis.\n",
    "#         '''\n",
    "#         coeffs = [0]*len(basis)\n",
    "#         for key, val in self.dict.items():\n",
    "#             coeffs[basis.index(key)] = val\n",
    "#         return coeffs\n",
    "\n",
    "#     def subs(self, subs_dict):\n",
    "#         '''\n",
    "#         The substitutions in subs_dict are evaluated on the\n",
    "#         coeffients of the qet.\n",
    "#         Equal to valsubs but kept for backwards compatibility.\n",
    "#         '''\n",
    "#         new_dict = dict()\n",
    "#         for key, val in self.dict.items():\n",
    "#             new_dict[key] = sp.S(val).subs(subs_dict)\n",
    "#         return Qet(new_dict)\n",
    "\n",
    "#     def valsubs(self, subs_dict):\n",
    "#         '''\n",
    "#         The substitutions in subs_dict are evaluated on the\n",
    "#         coeffients of the qet.\n",
    "#         '''\n",
    "#         new_dict = dict()\n",
    "#         for key, val in self.dict.items():\n",
    "#             new_dict[key] = sp.S(val).subs(subs_dict)\n",
    "#         return Qet(new_dict)\n",
    "\n",
    "#     def keysubs(self, subs_dict):\n",
    "#         '''\n",
    "#         The substitutions in subs_dict are evaluated on the\n",
    "#         keys of the qet.\n",
    "#         It assumes that they keys are already symby symbols.\n",
    "#         If not, then they are converted to them.\n",
    "#         '''\n",
    "#         new_dict = dict()\n",
    "#         for key, val in self.dict.items():\n",
    "#             new_dict[sp.Symbol(key).subs(subs_dict)] = sp.S(val)\n",
    "#         return Qet(new_dict)\n",
    "\n",
    "#     def __mul__(self, multiplier):\n",
    "#         '''\n",
    "#         Give a representation of the qet  as  a  Ket  from\n",
    "#         sympy.physics.quantum, fold_keys  =  True  removes\n",
    "#         unnecessary parentheses and nice_negatives =  True\n",
    "#         assumes all numeric  keys  and  presents  negative\n",
    "#         values with a bar on top.\n",
    "#         '''\n",
    "#         if isinstance(multiplier, Qet):\n",
    "#             new_dict = dict()\n",
    "#             for k1, v1 in self.dict.items():\n",
    "#                 for k2, v2 in multiplier.dict.items():\n",
    "#                     k3 = k1 + k2\n",
    "#                     v3 = v1 * v2\n",
    "#                     if v3 !=0:\n",
    "#                         new_dict[k3] = v3\n",
    "#             return Qet(new_dict)\n",
    "#         else:\n",
    "#             new_dict = dict(self.dict)\n",
    "#             for key, coeff in new_dict.items():\n",
    "#                 new_dict[key] = multiplier*(coeff)\n",
    "#             return Qet(new_dict)\n",
    "\n",
    "#     def __rmul__(self, multiplier):\n",
    "#         '''this is required to enable multiplication\n",
    "#         from the left and from the right'''\n",
    "#         new_dict = dict()\n",
    "#         for key, coeff in self.dict.items():\n",
    "#             new_dict[key] = multiplier*(coeff)\n",
    "#         return Qet(new_dict)\n",
    "\n",
    "#     def basis(self):\n",
    "#         '''return a list with all the keys in the qet'''\n",
    "#         return list(self.dict.keys())\n",
    "\n",
    "#     def dual(self):\n",
    "#         '''conjugate all the coefficients'''\n",
    "#         new_dict = dict(self.dict)\n",
    "#         for key, coeff in new_dict.items():\n",
    "#             new_dict[key] = sp.conjugate(coeff)\n",
    "#         return Qet(new_dict)\n",
    "\n",
    "#     def as_operator(self, opfun):\n",
    "#         OP = sp.S(0)\n",
    "#         for key, val in self.dict.items():\n",
    "#                 OP += sp.S(val) * opfun(*key)\n",
    "#         return OP\n",
    "\n",
    "#     def as_ket(self, fold_keys=False, nice_negatives=False):\n",
    "#         '''\n",
    "#         Give a representation of the qet  as  a  Ket  from\n",
    "#         sympy.physics.quantum, fold_keys  =  True  removes\n",
    "#         unnecessary parentheses and nice_negatives =  True\n",
    "#         assumes all numeric  keys  and  presents  negative\n",
    "#         values with a bar on top.\n",
    "#         '''\n",
    "#         sympyRep = sp.S(0)\n",
    "#         for key, coeff in self.dict.items():\n",
    "#             if key == ():\n",
    "#                 sympyRep += coeff\n",
    "#             else:\n",
    "#                 if fold_keys:\n",
    "#                     if nice_negatives:\n",
    "#                         key = tuple(sp.latex(k) if k>=0 else (r'\\bar{%s}'\\\n",
    "#                                                 % sp.latex(-k)) for k in key)\n",
    "#                     sympyRep += coeff*Ket(*key)\n",
    "#                 else:\n",
    "#                     sympyRep += coeff*Ket(key)\n",
    "#         return sympyRep\n",
    "\n",
    "#     def as_bra(self):\n",
    "#         '''\n",
    "#         Give a representation of the qet  as  a  Bra  from\n",
    "#         sympy.physics.quantum.\n",
    "#         '''\n",
    "#         sympyRep = sp.S(0)\n",
    "#         for key, coeff in self.dict.items():\n",
    "#             if key == ():\n",
    "#                 sympyRep += coeff\n",
    "#             else:\n",
    "#                 sympyRep += coeff*Bra(*key)\n",
    "#         return sympyRep\n",
    "\n",
    "#     def as_braket(self):\n",
    "#         '''\n",
    "#         Give a representation of the qet as a Bra*Ket. The\n",
    "#         keys in the dict for the ket are assumed to  split\n",
    "#         first half for the bra, and other second half  for\n",
    "#         the ket.\n",
    "#         '''\n",
    "#         sympyRep = sp.S(0)\n",
    "#         for key, coeff in self.dict.items():\n",
    "#             l = int(len(key)/2)\n",
    "#             if key == ():\n",
    "#                 sympyRep += coeff\n",
    "#             else:\n",
    "#                 sympyRep += coeff*(Bra(*key[:l])*Ket(*key[l:]))\n",
    "#         return sympyRep\n",
    "\n",
    "#     def as_symbol_sum(self):\n",
    "#         '''\n",
    "#         Take the keys multiply them by their corresponding\n",
    "#         coefficients,  add  them  all  up,  and return the\n",
    "#         resulting sympy expression.\n",
    "#         '''\n",
    "#         tot = sp.S(0)\n",
    "#         for k, v in self.dict.items():\n",
    "#             tot += v*k\n",
    "#         return tot\n",
    "\n",
    "#     def as_c_number_with_fun(self):\n",
    "#         '''\n",
    "#         This method can be used to apply a function  to  a\n",
    "#         qet.  The  provided  function  f  must   take   as\n",
    "#         arguments a single pair  of  qnum  and  coeff  and\n",
    "#         return a dictionary or a (qnum, coeff) tuple.\n",
    "#         '''\n",
    "#         sympyRep = sp.S(0)\n",
    "#         for key, op_and_coeff in self.dict.items():\n",
    "#             ops_and_coeffs = list(zip(op_and_coeff[::2],op_and_coeff[1::2]))\n",
    "#             for op, coeff in ops_and_coeffs:\n",
    "#                 if key == ():\n",
    "#                     sympyRep += coeff\n",
    "#                 else:\n",
    "#                     sympyRep += coeff*op(*key)\n",
    "#         return sympyRep\n",
    "\n",
    "#     def apply(self,f):\n",
    "#         '''\n",
    "#         This method can be used to apply a function  to  a\n",
    "#         qet the provided function f must take as arguments\n",
    "#         a single pair of  qnum  and  coeff  and  return  a\n",
    "#         dictionary or a (qnum, coeff) tuple\n",
    "#         '''\n",
    "#         new_dict = dict()\n",
    "#         for key, coeff in self.dict.items():\n",
    "#             appfun = f(key,coeff)\n",
    "#             if isinstance(appfun, dict):\n",
    "#                 for key2, coeff2 in appfun.items():\n",
    "#                     if coeff2 != 0:\n",
    "#                         if key2 not in new_dict.keys():\n",
    "#                             new_dict[key2] = coeff2\n",
    "#                         else:\n",
    "#                             new_dict[key2] += coeff2\n",
    "#             else:\n",
    "#                 new_key, new_coeff = appfun\n",
    "#                 if new_coeff !=0:\n",
    "#                     if new_key not in new_dict.keys():\n",
    "#                         new_dict[new_key] = (new_coeff)\n",
    "#                     else:\n",
    "#                         new_dict[new_key] += (new_coeff)\n",
    "#         return Qet(new_dict)\n",
    "\n",
    "#     def norm(self):\n",
    "#         '''compute the norm of the qet'''\n",
    "#         norm2 = 0\n",
    "#         for key, coeff in self.dict.items():\n",
    "#             norm2 += abs(coeff)**2\n",
    "#         return sp.sqrt(norm2)\n",
    "\n",
    "#     def symmetrize(self):\n",
    "#         '''\n",
    "#         Use  if  the  keys  of the kets are tuples and one\n",
    "#         wants  to  make equal keys that are the reverse of\n",
    "#         one another, i.e.\n",
    "\n",
    "#         {(1,0):a, (0,1):b} -> {(1,0):a+b}\n",
    "#         '''\n",
    "#         new_dict = dict()\n",
    "#         for key, coeff in self.dict.items():\n",
    "#             rkey = key[::-1]\n",
    "#             if rkey in new_dict.keys():\n",
    "#                 new_dict[rkey] += coeff\n",
    "#             else:\n",
    "#                 if key in new_dict.keys():\n",
    "#                     new_dict[key] += coeff\n",
    "#                 else:\n",
    "#                     new_dict[key] = coeff\n",
    "#         return Qet(new_dict)\n",
    "\n",
    "#     def __str__(self):\n",
    "#         return str(self.dict)\n",
    "\n",
    "#     def __repr__(self):\n",
    "#         return 'Qet(%s)' % str(self.dict)\n",
    "\n",
    "# symmetry_bases = pickle.load(open(os.path.join(module_dir,'data',\n",
    "#                                             'symmetry_bases.pkl'),'rb'))\n",
    "\n",
    "# class ProductTable():\n",
    "#     '''\n",
    "#     This class used to hold the data of a direct product of two\n",
    "#     irreducible representations turned  into a  direct  sum  of\n",
    "#     irreducible representations.\n",
    "#     '''\n",
    "#     def __init__(self, odict, irrep_labels, grp_label):\n",
    "#         self.odict = odict\n",
    "#         self.irrep_labels = irrep_labels\n",
    "#         self.grp_label = grp_label\n",
    "#     def pretty_parse(self):\n",
    "#         '''creates a nice latex representation of the product table'''\n",
    "#         irep_symbols = self.irrep_labels\n",
    "#         list_o_lists = [[self.odict[(ir0,ir1)] for ir0 in self.irrep_labels]\\\n",
    "#                                                 for ir1 in self.irrep_labels]\n",
    "#         rows = [[sp.Symbol(self.grp_label)]+irep_symbols]\n",
    "#         for idx, arow in enumerate(list_o_lists):\n",
    "#             row = [irep_symbols[idx]]\n",
    "#             row.extend(arow)\n",
    "#             rows.append(row)\n",
    "#         return fmt_table(rows).replace('+',r'{\\oplus}')"
   ]
  }
 ],
 "metadata": {
  "interpreter": {
   "hash": "5ed69564610cdd861a99d06236eab56151da4db3d5eb55442ace689096fe7345"
  },
  "kernelspec": {
   "display_name": "Python 3.8.8 64-bit ('qdef3p8': conda)",
   "language": "python",
   "name": "python3"
  },
  "language_info": {
   "codemirror_mode": {
    "name": "ipython",
    "version": 3
   },
   "file_extension": ".py",
   "mimetype": "text/x-python",
   "name": "python",
   "nbconvert_exporter": "python",
   "pygments_lexer": "ipython3",
   "version": "3.8.8"
  },
  "orig_nbformat": 4
 },
 "nbformat": 4,
 "nbformat_minor": 2
}
