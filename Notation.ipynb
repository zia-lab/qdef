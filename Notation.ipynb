{
 "cells": [
  {
   "cell_type": "code",
   "execution_count": 1,
   "id": "0aaeef5c-c514-492e-86a4-b5803dd3ca3a",
   "metadata": {
    "execution": {
     "iopub.execute_input": "2021-10-21T18:31:24.277539Z",
     "iopub.status.busy": "2021-10-21T18:31:24.277083Z",
     "iopub.status.idle": "2021-10-21T18:31:24.584935Z",
     "shell.execute_reply": "2021-10-21T18:31:24.584606Z",
     "shell.execute_reply.started": "2021-10-21T18:31:24.277438Z"
    },
    "tags": []
   },
   "outputs": [],
   "source": [
    "import sympy as sp\n",
    "from IPython.display import display, Math\n",
    "%config Completer.use_jedi = False"
   ]
  },
  {
   "cell_type": "code",
   "execution_count": 2,
   "id": "eb53817e-8ebb-4952-88c9-d6045e406d48",
   "metadata": {
    "execution": {
     "iopub.execute_input": "2021-10-21T18:31:25.207440Z",
     "iopub.status.busy": "2021-10-21T18:31:25.206753Z",
     "iopub.status.idle": "2021-10-21T18:31:25.226770Z",
     "shell.execute_reply": "2021-10-21T18:31:25.225238Z",
     "shell.execute_reply.started": "2021-10-21T18:31:25.207366Z"
    },
    "tags": []
   },
   "outputs": [],
   "source": [
    "lines = r'''tri 1 1 1 C_{1} 11 []^+ 1\n",
    "tri \\bar{1} \\bar{1} \\tilde{2} C_{i}=S_2 \\times [2^{+},2^{+}] 2\n",
    "\n",
    "mono 2 2 2 C_2 22 [2]^+ 2\n",
    "mono m m m C_{s}=C_{1h} * [] 2\n",
    "mono \\frac{2}{m} 2/m 2:m C_{2h} 2^* [2,2^{+}] 4\n",
    "\n",
    "ortho 222 222 2:2 D_{2}=V 222 [2,2^{+}] 4\n",
    "ortho mm{2} mm{2} 2\\cdot{m} C_{2v} {}^{*}22 [2] 4\n",
    "ortho \\frac{2}{m}\\frac{2}{m}\\frac{2}{m} mmm m\\cdot{2}:{m} D_{2h}=V_h {}^{*}222 [2,2] 8\n",
    "\n",
    "tetra 4 4 4 C_{4} 44 [4]^{+} 4\n",
    "tetra \\bar{4} \\bar{4} \\tilde{4} S_{4} 2\\times [2^{+},4^{+}] 4\n",
    "tetra \\frac{4}{m} 4/m 4:m C_{4h} 4^* [2,4^{+}] 8\n",
    "tetra 422 422 4:2 D_{4} 422 [4,2]^{+} 8\n",
    "tetra 4mm 4mm 4\\cdot{m} C_{4v} {}^{*}44 [4] 8\n",
    "tetra \\bar{4}2m \\bar{4}2m \\tilde{4}\\cdot{m} D_{2d}=V_d 2^{*}{2} [2^{+},4] 8\n",
    "tetra \\frac{4}{m}\\frac{2}{m}\\frac{2}{m} 4/mmm m\\cdot{4}:m D_{4h} {}^{*}422 [4,2] 16\n",
    "\n",
    "trigo 3 3 3 C_{3} 33 [3]^{+} 3\n",
    "trigo \\bar{3} \\bar{3} \\tilde{6} C_{3i}=S_{6} 3\\times [2^{+},6^{+}] 6\n",
    "trigo 32 32 3:2 D_{3} 322 [3,2]^{+} 6\n",
    "trigo 3m 3m 3\\cdot{m} C_{3v} {}^*{33} [3] 6\n",
    "trigo \\bar{3}\\frac{2}{m} \\bar{3}m \\tilde{6}\\cdot{m} D_{3d} 2^{*}3 [2^{+},6] 12\n",
    "\n",
    "hexa 6 6 6 C_{6} 66 [6]^{+} 6\n",
    "hexa \\bar{6} \\bar{6} 3:m C_{3h} 3^{*} [2,3^{+}] 6\n",
    "hexa \\frac{6}{m} 6/m 6:m C_{6h} 6^{*} [2,6^{+}] 12\n",
    "hexa 622 622 6:2 D_{6} 622 [6,2]^{+} 12\n",
    "hexa 6mm 6mm 6\\cdot{m} C_{6v} {}^*66 [6] 12\n",
    "hexa \\bar{6}m2 \\bar{6}m2 m\\cdot{3}:m D_{3h} {}^{*}322 [3,2] 12\n",
    "hexa \\frac{6}{m}\\frac{2}{m}\\frac{2}{m} 6/mmm m\\cdot{6}:m D_{6h} {}^*{622} [6,2] 24\n",
    "\n",
    "cubic 23 23 3/2 T 332 [3,3]^{+} 12\n",
    "cubic \\frac{2}{m}\\bar{3} m\\bar{3} \\tilde{6}/2 T_{h} 3^{*}{2} [3^{+},4] 24\n",
    "cubic 432 432 3/4 O 432 [4,3]^{+} 24\n",
    "cubic \\bar{4}3m \\bar{4}3m 3/\\tilde{4} T_{d} {}^{*}{332} [3,3] 24\n",
    "cubic \\frac{4}{m}\\bar{3}\\frac{2}{m} m\\bar{3}{m} \\tilde{6}/4 O_{h} {}^{*}432 [4,3] 48\n",
    "'''\n",
    "\n",
    "toname = dict(zip('tri mono ortho tetra trigo hexa cubic'.split(' '),'triclinic monoclinic orthorhombic tetragonal trigonal hexagonal cubic'.split(' ')))\n",
    "\n",
    "lines = [line for line in lines.split('\\n') if line != '']\n",
    "symbs = ([[toname[line.split(' ')[0]]]+list(map(sp.Symbol, line.split(' ')[1:])) for line in lines])"
   ]
  },
  {
   "cell_type": "code",
   "execution_count": 3,
   "id": "64c84ade-b102-4229-9cc4-0300f4166c12",
   "metadata": {
    "execution": {
     "iopub.execute_input": "2021-10-21T18:31:39.806282Z",
     "iopub.status.busy": "2021-10-21T18:31:39.805886Z",
     "iopub.status.idle": "2021-10-21T18:31:39.810000Z",
     "shell.execute_reply": "2021-10-21T18:31:39.808944Z",
     "shell.execute_reply.started": "2021-10-21T18:31:39.806245Z"
    },
    "tags": []
   },
   "outputs": [],
   "source": [
    "# for i in range(len(symbs)):\n",
    "#     display(sp.Matrix([symbs[i]]))\n",
    "#     input()"
   ]
  },
  {
   "cell_type": "code",
   "execution_count": 5,
   "id": "887be9a1-8746-4601-834c-9c76c68738fe",
   "metadata": {
    "execution": {
     "iopub.execute_input": "2021-10-21T18:31:45.043552Z",
     "iopub.status.busy": "2021-10-21T18:31:45.042917Z",
     "iopub.status.idle": "2021-10-21T18:31:45.475710Z",
     "shell.execute_reply": "2021-10-21T18:31:45.475375Z",
     "shell.execute_reply.started": "2021-10-21T18:31:45.043479Z"
    },
    "tags": []
   },
   "outputs": [],
   "source": [
    "import pandas as pd"
   ]
  },
  {
   "cell_type": "code",
   "execution_count": 6,
   "id": "6529604f-328f-47e7-a241-0d53a19ac74c",
   "metadata": {
    "execution": {
     "iopub.execute_input": "2021-10-21T18:31:45.492606Z",
     "iopub.status.busy": "2021-10-21T18:31:45.492330Z",
     "iopub.status.idle": "2021-10-21T18:31:45.503970Z",
     "shell.execute_reply": "2021-10-21T18:31:45.503589Z",
     "shell.execute_reply.started": "2021-10-21T18:31:45.492589Z"
    },
    "tags": []
   },
   "outputs": [],
   "source": [
    "notation_df = pd.DataFrame(symbs,columns=[\"Crystal system\",'Hermann-Mauguin (full)', 'Hermann-Maugin (short)', 'Shubnikov', 'Schoenflies', 'Orbifold','Coxeter','Order'])\n",
    "notation_df.loc[:,\"Index\"] = list(range(1,33))\n",
    "notation_df.set_index('Index',drop=True,inplace=True)"
   ]
  },
  {
   "cell_type": "code",
   "execution_count": 10,
   "id": "082f2190-958d-4826-b9e0-0e4b71165f42",
   "metadata": {
    "execution": {
     "iopub.execute_input": "2021-10-21T18:32:42.924668Z",
     "iopub.status.busy": "2021-10-21T18:32:42.924257Z",
     "iopub.status.idle": "2021-10-21T18:32:43.016628Z",
     "shell.execute_reply": "2021-10-21T18:32:43.015597Z",
     "shell.execute_reply.started": "2021-10-21T18:32:42.924625Z"
    },
    "tags": []
   },
   "outputs": [],
   "source": [
    "notation_df.to_pickle('./data/notation_df.pkl')"
   ]
  }
 ],
 "metadata": {
  "kernelspec": {
   "display_name": "qdef",
   "language": "python",
   "name": "qdef"
  },
  "language_info": {
   "codemirror_mode": {
    "name": "ipython",
    "version": 3
   },
   "file_extension": ".py",
   "mimetype": "text/x-python",
   "name": "python",
   "nbconvert_exporter": "python",
   "pygments_lexer": "ipython3",
   "version": "3.7.10"
  }
 },
 "nbformat": 4,
 "nbformat_minor": 5
}
