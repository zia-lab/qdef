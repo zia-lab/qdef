{
 "cells": [
  {
   "cell_type": "markdown",
   "metadata": {},
   "source": [
    "# N electrons - APP"
   ]
  },
  {
   "cell_type": "markdown",
   "metadata": {},
   "source": [
    "<center><img src=\"./images/qdef-banner.png\" style=\"width: 500px\"><br>\n",
    "In this notebook there's a single interactive app that allows exploring the wavefunctions generated from different numbers of electrons in the t_2 and e orbitals for the O group.\n",
    "    \n",
    "</center>"
   ]
  },
  {
   "cell_type": "code",
   "execution_count": 1,
   "metadata": {},
   "outputs": [
    {
     "name": "stdout",
     "output_type": "stream",
     "text": [
      "Reloading /Users/juan/Zia Lab/Codebase/qdef/data/CPGs.pkl ...\n"
     ]
    }
   ],
   "source": [
    "from qdef import *\n",
    "from IPython.display import display, HTML\n",
    "import ipywidgets as widgets\n",
    "from ipywidgets import interact_manual, Layout"
   ]
  },
  {
   "cell_type": "code",
   "execution_count": 2,
   "metadata": {},
   "outputs": [
    {
     "data": {
      "application/vnd.jupyter.widget-view+json": {
       "model_id": "16b171af1ac84d3dad601871e5ab7d4f",
       "version_major": 2,
       "version_minor": 0
      },
      "text/plain": [
       "HTMLMath(value='$\\\\Huge et_2^2$')"
      ]
     },
     "metadata": {},
     "output_type": "display_data"
    },
    {
     "data": {
      "application/vnd.jupyter.widget-view+json": {
       "model_id": "2744d97204b84c938c67c296f779f443",
       "version_major": 2,
       "version_minor": 0
      },
      "text/plain": [
       "interactive(children=(IntSlider(value=1, description='e', max=4), IntSlider(value=2, description='t_2', max=6)…"
      ]
     },
     "metadata": {},
     "output_type": "display_data"
    }
   ],
   "source": [
    "def config_printer(n1, n2, print_all):\n",
    "    configargs = ((sp.Symbol('E'),n1), (sp.Symbol('T_2'),n2))\n",
    "    config_latex = sp.Symbol('e')**n1 * sp.Symbol('t_2')**n2\n",
    "    print(\"Calculating wave functions...\")\n",
    "    if configargs in config_printer.configs:\n",
    "        econfig = config_printer.configs[configargs]\n",
    "    else:\n",
    "        econfig = CrystalElectronsLLCoupling('O',*configargs)\n",
    "        config_printer.configs[configargs] = econfig\n",
    "    terms = {}\n",
    "    collected = {}\n",
    "    for k,v in econfig.equiv_waves.items():\n",
    "        if k.terms[-1] not in terms:\n",
    "            terms[k.terms[-1]] = 0\n",
    "            collected[k.terms[-1]] = []\n",
    "        terms[k.terms[-1]] += 1\n",
    "        collected[k.terms[-1]].append((k,v))\n",
    "\n",
    "    terms = OrderedDict()\n",
    "    econfig_maker = lambda x,y: sp.Symbol(sp.latex(x).lower()) * sp.Symbol(sp.latex(y).lower())\n",
    "    for wave_key, wave in econfig.equiv_waves.items():\n",
    "        this_term = wave_key.terms[-1]\n",
    "        if this_term not in terms:\n",
    "            terms[this_term] = []\n",
    "        terms[this_term].append((wave_key,wave))\n",
    "        # display(wave.as_ket())\n",
    "    sorted_terms = sorted(terms.keys(), key= lambda x: x[0])\n",
    "    for term in sorted_terms:\n",
    "        terms[term] = list(sorted(terms[term], key=lambda x: str(x[0].γ)))\n",
    "    counter = 0\n",
    "    for term in sorted_terms:\n",
    "        display(HTML('<hr>'))\n",
    "        term_symb = sp.Symbol('{}^{%d}%s' % (term[0]*2+1, sp.latex(term[1])))\n",
    "        display(term_symb)\n",
    "        num_waves = len(terms[term])\n",
    "        for wave_key, wave in terms[term]:\n",
    "            e_config = sp.latex(reduce(sp.Mul,wave_key.electrons)).lower()\n",
    "            multiplicity = int(wave_key.S*2+1)\n",
    "            M = sp.latex(wave_key.M)\n",
    "            γ = sp.latex(wave_key.γ)\n",
    "            the_wave = sp.latex(as_det_ket(wave))\n",
    "            wave_line = '\\psi_{%d}(%s,%s,M=%s,%s) = %s' % (counter+1, e_config, term_symb, M, γ, the_wave)\n",
    "            counter += 1\n",
    "            display(Math(wave_line))\n",
    "            if not print_all:\n",
    "                if num_waves != 1:\n",
    "                    plurality = 's' if (num_waves-1)>1 else ''\n",
    "                    msg = '(... and %d other wave function%s ...)' % (num_waves-1, plurality)\n",
    "                    display(Math('\\\\textrm{%s}' % msg))\n",
    "                break\n",
    "    else:\n",
    "        display(HTML('<hr>'))\n",
    "config_printer.configs = {}\n",
    "\n",
    "config_box = widgets.HTMLMath('$\\\\Huge et_2^2$',align='center')\n",
    "display(config_box)\n",
    "\n",
    "def handle_slider_change(_):\n",
    "    e_value = e_slider.value\n",
    "    t2_value = t2_slider.value\n",
    "    if e_value == 0 and t2_value == 0:\n",
    "        config_box.value = '--'\n",
    "    elif e_value == 0 and t2_value != 0:\n",
    "        config_box.value = '$\\\\Huge  t_2^%d$' % t2_value\n",
    "    elif e_value != 0 and t2_value == 0:\n",
    "        config_box.value = '$\\\\Huge  e^%d$' % e_value\n",
    "    elif e_value == 1 and t2_value == 1:\n",
    "        config_box.value = '$\\\\Huge  e t_2$'\n",
    "    elif e_value == 1 and t2_value != 1:\n",
    "        config_box.value = '$\\\\Huge  e t_2^%d$' % (t2_value)\n",
    "    elif e_value != 1 and t2_value == 1:\n",
    "        config_box.value = '$\\\\Huge  e^%d t_2$' % (e_value)\n",
    "    else:\n",
    "        config_box.value = '$\\\\Huge  e^%d t_2^%d$' % (e_value, t2_value)\n",
    "\n",
    "e_slider = widgets.IntSlider(value=1,\n",
    "                           min=0, max=4,\n",
    "                           step=1, description = 'e')\n",
    "t2_slider = widgets.IntSlider(value=2,\n",
    "                           min=0, max=6,\n",
    "                           step=1, description = 't_2')\n",
    "\n",
    "e_slider.observe(handle_slider_change)\n",
    "t2_slider.observe(handle_slider_change)\n",
    "\n",
    "im = interact_manual(config_printer,\n",
    "                n1 = e_slider,\n",
    "                n2 = t2_slider,\n",
    "                print_all = widgets.Checkbox(value=False));\n",
    "im.widget.children[-2].description = 'Calculate Wave Functions'\n",
    "im.widget.children[-2].layout = Layout(width='300px', height='40px')\n"
   ]
  },
  {
   "cell_type": "code",
   "execution_count": null,
   "metadata": {},
   "outputs": [],
   "source": []
  }
 ],
 "metadata": {
  "interpreter": {
   "hash": "5ed69564610cdd861a99d06236eab56151da4db3d5eb55442ace689096fe7345"
  },
  "kernelspec": {
   "display_name": "Python 3.8.8 64-bit ('qdef3p8': conda)",
   "language": "python",
   "name": "python388jvsc74a57bd05ed69564610cdd861a99d06236eab56151da4db3d5eb55442ace689096fe7345"
  },
  "language_info": {
   "codemirror_mode": {
    "name": "ipython",
    "version": 3
   },
   "file_extension": ".py",
   "mimetype": "text/x-python",
   "name": "python",
   "nbconvert_exporter": "python",
   "pygments_lexer": "ipython3",
   "version": "3.8.8"
  }
 },
 "nbformat": 4,
 "nbformat_minor": 4
}
