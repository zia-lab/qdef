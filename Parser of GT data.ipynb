{
 "cells": [
  {
   "cell_type": "markdown",
   "metadata": {},
   "source": [
    "# Parsing GT Data"
   ]
  },
  {
   "cell_type": "markdown",
   "metadata": {},
   "source": [
    "Parsing data into qdef.\n",
    "\n",
    "Mathematica notebook which generates the raw data is `qdef_gtpack.nb`\n",
    "\n",
    "Data for each group is parsed into a dictionary with the following keys:\n",
    "\n",
    "- `index`: int [1-32]\n",
    "- `notation`: str Mulliken or Bethe\n",
    "- `group label`: str eg. \"C_{3v}\"\n",
    "- `irrep labels`: list of sympy.Symbol\n",
    "- `class labels`: list of sympy.Symbol\n",
    "- `irrep matrices`: dict {k(sympy.Symbol) : v(sympy.Matrix) }\n",
    "- `classes`: dict  {k(class - sympy.Symbol) : v(group-ops list[sympy.Symbol])}\n",
    "- `generators`: list of sympy.Symbol with set of generators\n",
    "- `character table`: sympy.Matrix, each row corresponds to an irrep\n",
    "- `multiplication table`: sympy.Matrix, left factor in product determined by row\n",
    "- `euler angles`: dict { k(group_op - sympy.Symbol) : v([α, β, γ, det]) }\n",
    "- `group operations`: list of sympy.Symbol\n",
    "\n",
    "In addition, a set of metadata is also created here. It is saved as a dictionary with the following keys:\n",
    "\n",
    "- `Mulliken notation` : dictionary that specifies the letters used in Mulliken notation\n",
    "- `Euler angles` : explanation of convention used for Euler angles\n",
    "- `Rotation axes` : dict {k(axis label): [x,y,z]}"
   ]
  },
  {
   "cell_type": "code",
   "execution_count": 3,
   "metadata": {
    "execution": {
     "iopub.execute_input": "2021-09-28T21:44:09.411816Z",
     "iopub.status.busy": "2021-09-28T21:44:09.411198Z",
     "iopub.status.idle": "2021-09-28T21:44:09.812469Z",
     "shell.execute_reply": "2021-09-28T21:44:09.812110Z",
     "shell.execute_reply.started": "2021-09-28T21:44:09.411601Z"
    },
    "tags": []
   },
   "outputs": [],
   "source": [
    "import sympy as sp\n",
    "from sympy import I\n",
    "from sympy.parsing.latex import parse_latex\n",
    "import re\n",
    "import pickle"
   ]
  },
  {
   "cell_type": "code",
   "execution_count": 4,
   "metadata": {
    "execution": {
     "iopub.execute_input": "2021-09-28T21:44:11.058519Z",
     "iopub.status.busy": "2021-09-28T21:44:11.058102Z",
     "iopub.status.idle": "2021-09-28T21:44:11.115411Z",
     "shell.execute_reply": "2021-09-28T21:44:11.115043Z",
     "shell.execute_reply.started": "2021-09-28T21:44:11.058476Z"
    },
    "tags": []
   },
   "outputs": [],
   "source": [
    "mulliken_notation = {'A': 'singly degenerate rep; symmetrical for rotations about the principal axis',\n",
    "                    'B': 'singly degenerate rep; anti-symmetrical for rotations about the principal axis',\n",
    "                    'E': 'either doubly degenerate rep, or one of a pair of singly degenerate conjugate reps',\n",
    "                    'T': 'triply degenerate rep',\n",
    "                    'F': 'fourfold degenerate rep, or one of a pair of doubly degenerate conjugate reps',\n",
    "                    'H': 'fivevold degenerate rep'}\n",
    "mulliken_or_bethe_notation = 'In all groups Mulliken notation is used, except groups 11 and 23 where Bethe notation is used instead.'\n",
    "rotation_axes = {\n",
    "                'a': [1,1,0],\n",
    "                'b': [1,-1,0],\n",
    "                'c': [1,0,1],\n",
    "                'd': [-1,0,1],\n",
    "                'e': [0,1,1],\n",
    "                'f': [0,1,-1],\n",
    "                'γ': [1,-1,-1],\n",
    "                'β': [-1,1,-1],\n",
    "                'α': [-1,-1,1],\n",
    "                'δ': [1,1,1],\n",
    "                'x': [1,0,0],\n",
    "                'y': [0,1,0],\n",
    "                'z': [0,0,1],\n",
    "                'A': [-sp.sqrt(3)/3,-1,0],\n",
    "                'B': [-sp.sqrt(3)/3,1,0],\n",
    "                'C': [sp.sqrt(3),-1,0],\n",
    "                'D': [sp.sqrt(3),1,0]\n",
    "                }\n",
    "rotation_axes = {k: (sp.Matrix(v)/sp.Matrix(v).norm()).T.tolist()[0] for k, v in rotation_axes.items()}\n",
    "euler_angles_note = '''First three elements are the angles, last element is the determinant of the rotation.\n",
    "                    Active rotations are assumed.\n",
    "                    first angle -> α: final rotation about the fixed z-axis\n",
    "                    second angle -> β: intermediate rotation about the fixed y-axis\n",
    "                    third angle -> γ: initial rotation about the fixed z-axis,\n",
    "                    corresponding rotation matrix is:\n",
    "                    [[-sin(α)*sin(γ) + cos(α)*cos(β)*cos(γ), -cos(α)*sin(γ) - cos(γ)*sin(α)*cos(β) , sin(β)*cos(γ)],\n",
    "                    [cos(α)*cos(β)*sin(γ) + cos(γ)*sin(α)  , -sin(α)*sin(γ)*cos(β) + cos(α)*cos(γ) , sin(γ)*sin(β)],\n",
    "                    [-cos(α)*sin(β)                        , sin(α)*sin(β)                         , cos(β)]]'''\n",
    "metadata = {'Mulliken notation': mulliken_notation,\n",
    "            'Euler angles': euler_angles_note,\n",
    "            'Rotation axes': rotation_axes}"
   ]
  },
  {
   "cell_type": "code",
   "execution_count": 7,
   "metadata": {
    "execution": {
     "iopub.execute_input": "2021-09-28T21:48:16.418136Z",
     "iopub.status.busy": "2021-09-28T21:48:16.417756Z",
     "iopub.status.idle": "2021-09-28T21:48:16.447085Z",
     "shell.execute_reply": "2021-09-28T21:48:16.446657Z",
     "shell.execute_reply.started": "2021-09-28T21:48:16.418101Z"
    },
    "tags": []
   },
   "outputs": [],
   "source": [
    "def parse_group_data(group_index):\n",
    "    '''\n",
    "    Parse the output from GTPack v 1.32, as produced in qdef.nb.\n",
    "    For groups [1,30] irreducible representations were generated\n",
    "    with the Cornwell method, and for  groups [31,32]  with  the\n",
    "    Induction method. \n",
    "    '''\n",
    "    def symbolize(symb):\n",
    "        return sp.Symbol(re.sub('{(.)}',r'\\1', symb))\n",
    "    def simplify_pies(expr):\n",
    "        return expr.subs(sp.Symbol(\"pi\"),sp.pi)\n",
    "    notation = 'Mulliken'\n",
    "    if group_index in [11,23]:\n",
    "        notation = 'Bethe'\n",
    "    fname = '/Users/juan/Zia Lab/Codebase/qdef/Group Data/Group_%d.txt' % group_index\n",
    "    group_string = open(fname,'r').read()\n",
    "    \n",
    "    group_lines = group_string.split('\\n')\n",
    "    \n",
    "    # line 0 has the index and the name of the group\n",
    "    group_label = group_lines[0].split(',')[1]\n",
    "    if len(group_label) > 1:\n",
    "        group_label = '%s_{%s}' % (group_label[0],group_label[1:])\n",
    "    group_index = int(group_lines[0].split(',')[0])\n",
    "    \n",
    "    # line 1 has the labels for the irreducible representations\n",
    "    irrep_labels = group_lines[1].split(',')\n",
    "    irrep_labels = list(map(symbolize,irrep_labels))\n",
    "    \n",
    "    # line 2 has the dimensions of the irreducible representations\n",
    "    irrep_dims = list(map(int,group_lines[2].split(',')))\n",
    "    \n",
    "    # line 3 has the sizes of the conjugacy classes\n",
    "    class_dims = list(map(int,group_lines[3].split(',')))\n",
    "    \n",
    "    # line 4 has the elements of classes\n",
    "    class_elements_flat = list(map(symbolize, group_lines[4].split(',')))\n",
    "    num_elements = len(class_elements_flat)\n",
    "    \n",
    "    # line 5 has the labels for the classes\n",
    "    class_labels = list(map(symbolize, group_lines[5].split(',')))\n",
    "    num_classes = len(class_labels)\n",
    "    # parse the classes as a dictionary\n",
    "    post = 0\n",
    "    classes = {}\n",
    "    for class_label, class_dim in zip(class_labels,class_dims):\n",
    "        classes[class_label] = class_elements_flat[post:post+class_dim]\n",
    "        post += class_dim\n",
    "    \n",
    "    # line 6 has the labels for the group elements in an ordering matching the irreducible rep matrices ordering\n",
    "    group_op_labels = list(map(symbolize, group_lines[6].split(',')))\n",
    "    \n",
    "    # line 7 has the labels for a set of generators\n",
    "    generators = group_lines[7].split(',')\n",
    "    generators = list(map(symbolize,generators))\n",
    "    \n",
    "    # line 8 has the euler angles for all the group operations\n",
    "    eulerangles_raw = list(map(parse_latex, group_lines[8].split(',')))\n",
    "    eulerangles = {}\n",
    "    for idx, group_op_label in enumerate(group_op_labels):\n",
    "        eulerangles[group_op_label] = list(map(simplify_pies,eulerangles_raw[4*idx:4*(idx+1)]))\n",
    "    \n",
    "    # line 9 has the character table\n",
    "    char_table = list(map(lambda x: parse_latex(x).subs(sp.Symbol('i'),I), group_lines[9].split(',')))\n",
    "    char_table = sp.Matrix(char_table).reshape(num_classes,num_classes)\n",
    "    \n",
    "    # line 10 has the multiplication table\n",
    "    mult_table = group_lines[10].split(',')\n",
    "    mult_table = sp.Matrix(list(map(symbolize,mult_table))).reshape(num_elements,num_elements)\n",
    "    \n",
    "    # remaining lines have matrices for irreducible reps\n",
    "    irrep_matrices = {}\n",
    "    for group_line, irrep_dim, irrep_label in zip(group_lines[11:], irrep_dims, irrep_labels):\n",
    "        if 'i' in group_line:\n",
    "            elements = list(map(lambda x: parse_latex(x).subs(sp.Symbol('i'),I),group_line.split(',')))\n",
    "        else:\n",
    "            elements = list(map(parse_latex,group_line.split(',')))\n",
    "        # partition this list into chunks of size irrep_dim^2\n",
    "        chunk_size = irrep_dim**2\n",
    "        flat_irrep_matrices = [elements[chunk_size*i:chunk_size*(i+1)] for i in range(num_elements)]\n",
    "        # reshape them and save them as values to a dictionary\n",
    "        some_irrep_matrices = {}\n",
    "        for element_label, flat_matrix in zip(group_op_labels, flat_irrep_matrices):\n",
    "            matri = sp.Matrix(flat_matrix).T\n",
    "            some_irrep_matrices[element_label] = matri.reshape(irrep_dim,irrep_dim)\n",
    "        irrep_matrices[irrep_label] = some_irrep_matrices\n",
    "    \n",
    "    return {'index': group_index,\n",
    "           'notation': notation,\n",
    "           'group label': group_label,\n",
    "           'irrep labels': irrep_labels,\n",
    "           'class labels': class_labels,\n",
    "           'irrep matrices': irrep_matrices,\n",
    "           'classes': classes,\n",
    "           'generators': generators,\n",
    "           'class labels': class_labels,\n",
    "           'character table': char_table,\n",
    "           'multiplication table': mult_table,\n",
    "           'euler angles': eulerangles,\n",
    "           'group operations': group_op_labels}"
   ]
  },
  {
   "cell_type": "code",
   "execution_count": 8,
   "metadata": {
    "execution": {
     "iopub.execute_input": "2021-09-28T21:48:17.584098Z",
     "iopub.status.busy": "2021-09-28T21:48:17.583722Z",
     "iopub.status.idle": "2021-09-28T21:48:25.385652Z",
     "shell.execute_reply": "2021-09-28T21:48:25.385248Z",
     "shell.execute_reply.started": "2021-09-28T21:48:17.584062Z"
    },
    "tags": []
   },
   "outputs": [],
   "source": [
    "group_data = {i: parse_group_data(i) for i in range(1,33)}"
   ]
  },
  {
   "cell_type": "code",
   "execution_count": null,
   "metadata": {
    "collapsed": true,
    "execution": {
     "iopub.execute_input": "2021-09-28T21:48:25.386550Z",
     "iopub.status.busy": "2021-09-28T21:48:25.386454Z",
     "iopub.status.idle": "2021-09-28T21:48:25.388939Z",
     "shell.execute_reply": "2021-09-28T21:48:25.388610Z",
     "shell.execute_reply.started": "2021-09-28T21:48:25.386537Z"
    },
    "jupyter": {
     "outputs_hidden": true
    },
    "tags": []
   },
   "outputs": [],
   "source": [
    "for group in group_data:\n",
    "    print(\"'%s',\" % group_data[group]['group label'])"
   ]
  },
  {
   "cell_type": "code",
   "execution_count": 12,
   "metadata": {
    "execution": {
     "iopub.execute_input": "2021-09-28T21:48:35.916656Z",
     "iopub.status.busy": "2021-09-28T21:48:35.916262Z",
     "iopub.status.idle": "2021-09-28T21:48:35.939541Z",
     "shell.execute_reply": "2021-09-28T21:48:35.938600Z",
     "shell.execute_reply.started": "2021-09-28T21:48:35.916622Z"
    }
   },
   "outputs": [],
   "source": [
    "pickle.dump({'metadata': metadata,\n",
    "             'group_data': group_data},\n",
    "           open('/Users/juan/Zia Lab/Codebase/qdef/data/gtpackdata.pkl',\n",
    "               'wb'))"
   ]
  }
 ],
 "metadata": {
  "interpreter": {
   "hash": "5ed69564610cdd861a99d06236eab56151da4db3d5eb55442ace689096fe7345"
  },
  "kernelspec": {
   "display_name": "qdef",
   "language": "python",
   "name": "python3"
  },
  "language_info": {
   "codemirror_mode": {
    "name": "ipython",
    "version": 3
   },
   "file_extension": ".py",
   "mimetype": "text/x-python",
   "name": "python",
   "nbconvert_exporter": "python",
   "pygments_lexer": "ipython3",
   "version": "3.8.8"
  }
 },
 "nbformat": 4,
 "nbformat_minor": 4
}
