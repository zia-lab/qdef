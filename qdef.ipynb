{
 "cells": [
  {
   "cell_type": "markdown",
   "metadata": {},
   "source": [
    "# > qdef - Documentation"
   ]
  },
  {
   "cell_type": "code",
   "execution_count": 1,
   "metadata": {},
   "outputs": [
    {
     "data": {
      "text/html": [
       "<pre>✔️ 5.43 s (2022-09-07T17:38:49/2022-09-07T17:38:54)</pre>"
      ],
      "text/plain": [
       "<IPython.core.display.HTML object>"
      ]
     },
     "metadata": {},
     "output_type": "display_data"
    },
    {
     "name": "stdout",
     "output_type": "stream",
     "text": [
      "Reloading /Users/juan/ZiaLab/Codebase/qdef/qdef/data/CPGs.pkl ...\n"
     ]
    }
   ],
   "source": [
    "# provide cell timings\n",
    "%load_ext autotime\n",
    "from qdef import qdef as qd\n",
    "import sympy as sp\n",
    "import numpy as np\n",
    "from itertools import product\n",
    "%config InlineBackend.figure_format = 'retina'\n",
    "from IPython.display import display, Math\n",
    "import matplotlib.pyplot as plt"
   ]
  },
  {
   "cell_type": "markdown",
   "metadata": {},
   "source": [
    "# > Classes"
   ]
  },
  {
   "cell_type": "markdown",
   "metadata": {},
   "source": [
    "## >> Qet"
   ]
  },
  {
   "cell_type": "markdown",
   "metadata": {},
   "source": [
    "### >>> Creation"
   ]
  },
  {
   "cell_type": "markdown",
   "metadata": {},
   "source": [
    "qets can be defined by a dictionary whose keys are interpreted as quantum symbols (qsymbs) and whose values are the accompanying coefficients"
   ]
  },
  {
   "cell_type": "code",
   "execution_count": 2,
   "metadata": {},
   "outputs": [
    {
     "data": {
      "text/html": [
       "<pre>✔️ 4.69 ms (2022-09-07T17:38:54/2022-09-07T17:38:54)</pre>"
      ],
      "text/plain": [
       "<IPython.core.display.HTML object>"
      ]
     },
     "metadata": {},
     "output_type": "display_data"
    },
    {
     "data": {
      "text/latex": [
       "$\\displaystyle \\frac{\\sqrt{2} {\\left|α\\right\\rangle }}{2} - \\frac{\\sqrt{2} {\\left|β\\right\\rangle }}{2}$"
      ],
      "text/plain": [
       "sqrt(2)*|α>/2 - sqrt(2)*|β>/2"
      ]
     },
     "metadata": {},
     "output_type": "display_data"
    }
   ],
   "source": [
    "qet1 = qd.Qet({sp.Symbol('α'):sp.S(1)/sp.sqrt(2),\n",
    "              sp.Symbol('β'):-sp.S(1)/sp.sqrt(2)})\n",
    "display(qet1.as_ket())"
   ]
  },
  {
   "cell_type": "markdown",
   "metadata": {},
   "source": [
    "The quantum symbols can be any hashable object (tuples, frozensets, etc.)"
   ]
  },
  {
   "cell_type": "code",
   "execution_count": 3,
   "metadata": {},
   "outputs": [
    {
     "data": {
      "text/html": [
       "<pre>✔️ 3.06 ms (2022-09-07T17:38:54/2022-09-07T17:38:54)</pre>"
      ],
      "text/plain": [
       "<IPython.core.display.HTML object>"
      ]
     },
     "metadata": {},
     "output_type": "display_data"
    },
    {
     "data": {
      "text/latex": [
       "$\\displaystyle \\frac{\\sqrt{2} {\\left|\\left( α, \\  1\\right)\\right\\rangle }}{2} - \\frac{\\sqrt{2} {\\left|\\left( β, \\  2\\right)\\right\\rangle }}{2}$"
      ],
      "text/plain": [
       "sqrt(2)*|(α, 1)>/2 - sqrt(2)*|(β, 2)>/2"
      ]
     },
     "metadata": {},
     "output_type": "display_data"
    }
   ],
   "source": [
    "qet2 = qd.Qet({(sp.Symbol('α'),1):sp.S(1)/sp.sqrt(2),\n",
    "              (sp.Symbol('β'),2):-sp.S(1)/sp.sqrt(2)})\n",
    "display(qet2.as_ket())"
   ]
  },
  {
   "cell_type": "markdown",
   "metadata": {},
   "source": [
    "A blank qet can be created thus."
   ]
  },
  {
   "cell_type": "code",
   "execution_count": 4,
   "metadata": {},
   "outputs": [
    {
     "data": {
      "text/html": [
       "<pre>✔️ 2.87 ms (2022-09-07T17:38:55/2022-09-07T17:38:55)</pre>"
      ],
      "text/plain": [
       "<IPython.core.display.HTML object>"
      ]
     },
     "metadata": {},
     "output_type": "display_data"
    },
    {
     "data": {
      "text/plain": [
       "Qet({})"
      ]
     },
     "metadata": {},
     "output_type": "display_data"
    },
    {
     "data": {
      "text/latex": [
       "$\\displaystyle {\\left|1\\right\\rangle }$"
      ],
      "text/plain": [
       "|1>"
      ]
     },
     "metadata": {},
     "output_type": "display_data"
    }
   ],
   "source": [
    "qet = qd.Qet({})\n",
    "display(qet)\n",
    "qet = qet + qd.Qet({1:1})\n",
    "display(qet.as_ket())"
   ]
  },
  {
   "cell_type": "markdown",
   "metadata": {},
   "source": [
    "### >>> Addition, subtraction, and scalar multiplication"
   ]
  },
  {
   "cell_type": "markdown",
   "metadata": {},
   "source": [
    "qets can be added or subtracted"
   ]
  },
  {
   "cell_type": "code",
   "execution_count": 5,
   "metadata": {},
   "outputs": [
    {
     "data": {
      "text/html": [
       "<pre>✔️ 4.28 ms (2022-09-07T17:38:55/2022-09-07T17:38:55)</pre>"
      ],
      "text/plain": [
       "<IPython.core.display.HTML object>"
      ]
     },
     "metadata": {},
     "output_type": "display_data"
    },
    {
     "data": {
      "text/latex": [
       "$\\displaystyle \\sqrt{2} {\\left|\\left( α, \\  1\\right)\\right\\rangle }$"
      ],
      "text/plain": [
       "sqrt(2)*|(α, 1)>"
      ]
     },
     "metadata": {},
     "output_type": "display_data"
    },
    {
     "data": {
      "text/latex": [
       "$\\displaystyle - \\sqrt{2} {\\left|\\left( β, \\  2\\right)\\right\\rangle }$"
      ],
      "text/plain": [
       "-sqrt(2)*|(β, 2)>"
      ]
     },
     "metadata": {},
     "output_type": "display_data"
    }
   ],
   "source": [
    "qet3 = qd.Qet({(sp.Symbol('α'),1):sp.S(1)/sp.sqrt(2),\n",
    "              (sp.Symbol('β'),2):-sp.S(1)/sp.sqrt(2)})\n",
    "qet4 = qd.Qet({(sp.Symbol('α'),1):sp.S(1)/sp.sqrt(2),\n",
    "              (sp.Symbol('β'),2):sp.S(1)/sp.sqrt(2)})\n",
    "qet34 = qet3 + qet4\n",
    "display(qet34.as_ket())\n",
    "qet34 = qet3 - qet4\n",
    "display(qet34.as_ket())"
   ]
  },
  {
   "cell_type": "markdown",
   "metadata": {},
   "source": [
    "Scalar multiplication is simple, too."
   ]
  },
  {
   "cell_type": "code",
   "execution_count": 6,
   "metadata": {},
   "outputs": [
    {
     "data": {
      "text/html": [
       "<pre>✔️ 3.7 ms (2022-09-07T17:38:55/2022-09-07T17:38:55)</pre>"
      ],
      "text/plain": [
       "<IPython.core.display.HTML object>"
      ]
     },
     "metadata": {},
     "output_type": "display_data"
    },
    {
     "data": {
      "text/latex": [
       "$\\displaystyle \\frac{\\sqrt{2} \\pi {\\left|α\\right\\rangle }}{2} - \\frac{\\sqrt{2} \\pi {\\left|β\\right\\rangle }}{2}$"
      ],
      "text/plain": [
       "sqrt(2)*pi*|α>/2 - sqrt(2)*pi*|β>/2"
      ]
     },
     "metadata": {},
     "output_type": "display_data"
    }
   ],
   "source": [
    "qet1 = qd.Qet({sp.Symbol('α'):sp.S(1)/sp.sqrt(2),\n",
    "              sp.Symbol('β'):-sp.S(1)/sp.sqrt(2)})\n",
    "qet1 = sp.pi * qet1\n",
    "display(qet1.as_ket())"
   ]
  },
  {
   "cell_type": "markdown",
   "metadata": {},
   "source": [
    "Division by a scalar has to be expressed as a multiplication."
   ]
  },
  {
   "cell_type": "code",
   "execution_count": 7,
   "metadata": {},
   "outputs": [
    {
     "data": {
      "text/html": [
       "<pre>✔️ 575 µs (2022-09-07T17:38:55/2022-09-07T17:38:55)</pre>"
      ],
      "text/plain": [
       "<IPython.core.display.HTML object>"
      ]
     },
     "metadata": {},
     "output_type": "display_data"
    }
   ],
   "source": [
    "# this throws an error\n",
    "# qet1 = qd.Qet({sp.Symbol('α'):sp.S(1)/sp.sqrt(2),\n",
    "#               sp.Symbol('β'):-sp.S(1)/sp.sqrt(2)})\n",
    "# qet1 = qet1 / sp.pi\n",
    "# display(qet1.as_ket())"
   ]
  },
  {
   "cell_type": "code",
   "execution_count": 8,
   "metadata": {},
   "outputs": [
    {
     "data": {
      "text/html": [
       "<pre>✔️ 3.65 ms (2022-09-07T17:38:55/2022-09-07T17:38:55)</pre>"
      ],
      "text/plain": [
       "<IPython.core.display.HTML object>"
      ]
     },
     "metadata": {},
     "output_type": "display_data"
    },
    {
     "data": {
      "text/latex": [
       "$\\displaystyle \\frac{\\sqrt{2} {\\left|α\\right\\rangle }}{2 \\pi} - \\frac{\\sqrt{2} {\\left|β\\right\\rangle }}{2 \\pi}$"
      ],
      "text/plain": [
       "sqrt(2)*|α>/(2*pi) - sqrt(2)*|β>/(2*pi)"
      ]
     },
     "metadata": {},
     "output_type": "display_data"
    }
   ],
   "source": [
    "# this does work\n",
    "qet1 = qd.Qet({sp.Symbol('α'):sp.S(1)/sp.sqrt(2),\n",
    "              sp.Symbol('β'):-sp.S(1)/sp.sqrt(2)})\n",
    "qet1 = 1/sp.pi * qet1\n",
    "display(qet1.as_ket())"
   ]
  },
  {
   "cell_type": "markdown",
   "metadata": {},
   "source": [
    "### >>> Replacements and simplification"
   ]
  },
  {
   "cell_type": "markdown",
   "metadata": {},
   "source": [
    "It might be necessary to make a replacement on the quantum symbols or on the coefficients."
   ]
  },
  {
   "cell_type": "code",
   "execution_count": 9,
   "metadata": {},
   "outputs": [
    {
     "data": {
      "text/html": [
       "<pre>✔️ 4.14 ms (2022-09-07T17:38:55/2022-09-07T17:38:55)</pre>"
      ],
      "text/plain": [
       "<IPython.core.display.HTML object>"
      ]
     },
     "metadata": {},
     "output_type": "display_data"
    },
    {
     "data": {
      "text/latex": [
       "$\\displaystyle \\frac{\\sqrt{2} {\\left|\\alpha\\right\\rangle }}{2}$"
      ],
      "text/plain": [
       "sqrt(2)*|\\alpha>/2"
      ]
     },
     "metadata": {},
     "output_type": "display_data"
    },
    {
     "data": {
      "text/latex": [
       "$\\displaystyle \\frac{\\sqrt{2} {\\left|\\beta\\right\\rangle }}{2}$"
      ],
      "text/plain": [
       "sqrt(2)*|\\beta>/2"
      ]
     },
     "metadata": {},
     "output_type": "display_data"
    }
   ],
   "source": [
    "# substitutions can be made on quantum symbols (keys) that are sympy expressions\n",
    "qet1 = qd.Qet({sp.Symbol('\\\\alpha'):sp.S(1)/sp.sqrt(2)})\n",
    "display(qet1.as_ket())\n",
    "qet2 = qet1.keysubs({sp.Symbol('\\\\alpha'): sp.Symbol('\\\\beta')})\n",
    "display(qet2.as_ket())"
   ]
  },
  {
   "cell_type": "code",
   "execution_count": 10,
   "metadata": {},
   "outputs": [
    {
     "data": {
      "text/html": [
       "<pre>✔️ 4.7 ms (2022-09-07T17:38:56/2022-09-07T17:38:56)</pre>"
      ],
      "text/plain": [
       "<IPython.core.display.HTML object>"
      ]
     },
     "metadata": {},
     "output_type": "display_data"
    },
    {
     "data": {
      "text/latex": [
       "$\\displaystyle \\frac{\\sqrt{2} {\\left|\\left( \\alpha, \\  \\beta\\right)\\right\\rangle }}{2}$"
      ],
      "text/plain": [
       "sqrt(2)*|(\\alpha, \\beta)>/2"
      ]
     },
     "metadata": {},
     "output_type": "display_data"
    },
    {
     "data": {
      "text/latex": [
       "$\\displaystyle \\frac{\\sqrt{2} {\\left|\\left( \\iota, \\  \\zeta\\right)\\right\\rangle }}{2}$"
      ],
      "text/plain": [
       "sqrt(2)*|(\\iota, \\zeta)>/2"
      ]
     },
     "metadata": {},
     "output_type": "display_data"
    }
   ],
   "source": [
    "# they can also be made on tuples of sympy expressions\n",
    "qet1 = qd.Qet({(sp.Symbol('\\\\alpha'),sp.Symbol('\\\\beta')):sp.S(1)/sp.sqrt(2)})\n",
    "display(qet1.as_ket())\n",
    "qet2 = qet1.keysubs({sp.Symbol('\\\\alpha'): sp.Symbol('\\\\iota'),\n",
    "                     sp.Symbol('\\\\beta'): sp.Symbol('\\\\zeta')})\n",
    "display(qet2.as_ket())"
   ]
  },
  {
   "cell_type": "code",
   "execution_count": 11,
   "metadata": {},
   "outputs": [
    {
     "data": {
      "text/html": [
       "<pre>✔️ 4.72 ms (2022-09-07T17:38:56/2022-09-07T17:38:56)</pre>"
      ],
      "text/plain": [
       "<IPython.core.display.HTML object>"
      ]
     },
     "metadata": {},
     "output_type": "display_data"
    },
    {
     "data": {
      "text/latex": [
       "$\\displaystyle \\sin{\\left(\\theta \\right)} {\\left|\\beta\\right\\rangle } + \\cos{\\left(\\theta \\right)} {\\left|\\alpha\\right\\rangle }$"
      ],
      "text/plain": [
       "sin(\\theta)*|\\beta> + cos(\\theta)*|\\alpha>"
      ]
     },
     "metadata": {},
     "output_type": "display_data"
    },
    {
     "data": {
      "text/latex": [
       "$\\displaystyle {\\left|1\\right\\rangle }$"
      ],
      "text/plain": [
       "|1>"
      ]
     },
     "metadata": {},
     "output_type": "display_data"
    }
   ],
   "source": [
    "# substitutions can also be enforced on the coefficients of the qet\n",
    "qet1 = qd.Qet({sp.Symbol('\\\\alpha'):sp.cos(sp.Symbol('\\\\theta')),\n",
    "               sp.Symbol('\\\\beta'):sp.sin(sp.Symbol('\\\\theta'))})\n",
    "display(qet1.as_ket())\n",
    "qet1 = qet.valsubs({sp.Symbol('\\\\theta'): sp.pi/2})\n",
    "display(qet1.as_ket())"
   ]
  },
  {
   "cell_type": "markdown",
   "metadata": {},
   "source": [
    "It is also possible to apply sympy's simplifcation to the coefficients of a qet:"
   ]
  },
  {
   "cell_type": "code",
   "execution_count": 12,
   "metadata": {},
   "outputs": [
    {
     "data": {
      "text/html": [
       "<pre>✔️ 26.5 ms (2022-09-07T17:38:56/2022-09-07T17:38:56)</pre>"
      ],
      "text/plain": [
       "<IPython.core.display.HTML object>"
      ]
     },
     "metadata": {},
     "output_type": "display_data"
    },
    {
     "data": {
      "text/latex": [
       "$\\displaystyle \\left(\\sin^{2}{\\left(\\theta \\right)} + \\cos^{2}{\\left(\\theta \\right)}\\right) {\\left|\\beta\\right\\rangle }$"
      ],
      "text/plain": [
       "(sin(\\theta)**2 + cos(\\theta)**2)*|\\beta>"
      ]
     },
     "metadata": {},
     "output_type": "display_data"
    },
    {
     "data": {
      "text/latex": [
       "$\\displaystyle {\\left|\\beta\\right\\rangle }$"
      ],
      "text/plain": [
       "|\\beta>"
      ]
     },
     "metadata": {},
     "output_type": "display_data"
    }
   ],
   "source": [
    "θ = sp.Symbol('\\\\theta', real=True)\n",
    "qeta = qd.Qet({sp.Symbol('\\\\beta'): sp.cos(θ)**2})\n",
    "qetb = qd.Qet({sp.Symbol('\\\\beta'): sp.sin(θ)**2})\n",
    "qetab = qeta + qetb\n",
    "display(qetab.as_ket())\n",
    "qetab = qetab.simplify()\n",
    "display(qetab.as_ket())"
   ]
  },
  {
   "cell_type": "markdown",
   "metadata": {},
   "source": [
    "### >>> Bra from qet"
   ]
  },
  {
   "cell_type": "markdown",
   "metadata": {},
   "source": [
    "If the qet is interpreted as a ket, then the corresponding bra may be formed:"
   ]
  },
  {
   "cell_type": "code",
   "execution_count": 13,
   "metadata": {},
   "outputs": [
    {
     "data": {
      "text/html": [
       "<pre>✔️ 6.47 ms (2022-09-07T17:38:56/2022-09-07T17:38:56)</pre>"
      ],
      "text/plain": [
       "<IPython.core.display.HTML object>"
      ]
     },
     "metadata": {},
     "output_type": "display_data"
    },
    {
     "data": {
      "text/latex": [
       "$\\displaystyle i \\sin{\\left(\\theta \\right)} {\\left|\\gamma\\right\\rangle } + \\cos{\\left(\\theta \\right)} {\\left|\\beta\\right\\rangle }$"
      ],
      "text/plain": [
       "I*sin(\\theta)*|\\gamma> + cos(\\theta)*|\\beta>"
      ]
     },
     "metadata": {},
     "output_type": "display_data"
    },
    {
     "data": {
      "text/latex": [
       "$\\displaystyle - i \\sin{\\left(\\theta \\right)} {\\left\\langle \\gamma\\right|} + \\cos{\\left(\\theta \\right)} {\\left\\langle \\beta\\right|}$"
      ],
      "text/plain": [
       "-I*sin(\\theta)*<\\gamma| + cos(\\theta)*<\\beta|"
      ]
     },
     "metadata": {},
     "output_type": "display_data"
    }
   ],
   "source": [
    "qeta = qd.Qet({sp.Symbol('\\\\beta'): sp.cos(θ)})\n",
    "qetb = qd.Qet({sp.Symbol('\\\\gamma'): sp.I * sp.sin(θ)})\n",
    "qetab = qeta + qetb\n",
    "display(qetab.as_ket())\n",
    "bra = qetab.dual()\n",
    "display(bra.as_bra())"
   ]
  },
  {
   "cell_type": "markdown",
   "metadata": {},
   "source": [
    "This simply keeps the same quantum symbols and takes the complex conjugate of the coefficients. As seen above there's also a method for visualizing these objects in the standard quantum mechanical notation."
   ]
  },
  {
   "cell_type": "markdown",
   "metadata": {},
   "source": [
    "### >>> Operator"
   ]
  },
  {
   "cell_type": "markdown",
   "metadata": {},
   "source": [
    "A Qet may also be visualized as if it were an operator."
   ]
  },
  {
   "cell_type": "code",
   "execution_count": 14,
   "metadata": {},
   "outputs": [
    {
     "data": {
      "text/html": [
       "<pre>✔️ 3.08 ms (2022-09-07T17:38:56/2022-09-07T17:38:56)</pre>"
      ],
      "text/plain": [
       "<IPython.core.display.HTML object>"
      ]
     },
     "metadata": {},
     "output_type": "display_data"
    },
    {
     "data": {
      "text/latex": [
       "$\\displaystyle \\frac{\\sqrt{2} \\hat{a}}{2} + \\frac{\\sqrt{2} \\hat{b}}{2}$"
      ],
      "text/plain": [
       "sqrt(2)*\\hat{a}/2 + sqrt(2)*\\hat{b}/2"
      ]
     },
     "execution_count": 14,
     "metadata": {},
     "output_type": "execute_result"
    }
   ],
   "source": [
    "op = qd.Qet({(sp.Symbol('\\\\hat{a}'),):1/sp.sqrt(2)}) + qd.Qet({(sp.Symbol('\\\\hat{b}'),):1/sp.sqrt(2)})\n",
    "op.as_operator(lambda x: x)"
   ]
  },
  {
   "cell_type": "markdown",
   "metadata": {},
   "source": [
    "### >>> Represent as a determinantal ket or bra"
   ]
  },
  {
   "cell_type": "markdown",
   "metadata": {},
   "source": [
    "A Qet may be displayed in determinantal ket notation. It assumes that the quantum symbols are encapsulated in tuples."
   ]
  },
  {
   "cell_type": "code",
   "execution_count": 15,
   "metadata": {},
   "outputs": [
    {
     "data": {
      "text/html": [
       "<pre>✔️ 3.34 ms (2022-09-07T17:38:56/2022-09-07T17:38:56)</pre>"
      ],
      "text/plain": [
       "<IPython.core.display.HTML object>"
      ]
     },
     "metadata": {},
     "output_type": "display_data"
    },
    {
     "data": {
      "text/latex": [
       "$\\displaystyle \\sin{\\left(\\theta \\right)} {\\left|\\gamma\\right|\\rangle} + \\cos{\\left(\\theta \\right)} {\\left|\\beta\\right|\\rangle}$"
      ],
      "text/plain": [
       "sin(\\theta)*|\\gamma> + cos(\\theta)*|\\beta>"
      ]
     },
     "metadata": {},
     "output_type": "display_data"
    }
   ],
   "source": [
    "qeta = qd.Qet({(sp.Symbol('\\\\beta'),) : sp.cos(θ)})\n",
    "qetb = qd.Qet({(sp.Symbol('\\\\gamma'),): sp.sin(θ)})\n",
    "qetab = qeta + qetb\n",
    "display(qetab.as_detket())"
   ]
  },
  {
   "cell_type": "code",
   "execution_count": 16,
   "metadata": {},
   "outputs": [
    {
     "data": {
      "text/html": [
       "<pre>✔️ 3.61 ms (2022-09-07T17:38:57/2022-09-07T17:38:57)</pre>"
      ],
      "text/plain": [
       "<IPython.core.display.HTML object>"
      ]
     },
     "metadata": {},
     "output_type": "display_data"
    },
    {
     "data": {
      "text/latex": [
       "$\\displaystyle \\sin{\\left(\\theta \\right)} {\\langle\\left|\\gamma\\right|} + \\cos{\\left(\\theta \\right)} {\\langle\\left|\\beta\\right|}$"
      ],
      "text/plain": [
       "sin(\\theta)*|\\gamma> + cos(\\theta)*|\\beta>"
      ]
     },
     "metadata": {},
     "output_type": "display_data"
    }
   ],
   "source": [
    "qeta = qd.Qet({(sp.Symbol('\\\\beta'),) : sp.cos(θ)})\n",
    "qetb = qd.Qet({(sp.Symbol('\\\\gamma'),): sp.sin(θ)})\n",
    "qetab = qeta + qetb\n",
    "display(qetab.as_detbra())"
   ]
  },
  {
   "cell_type": "markdown",
   "metadata": {},
   "source": [
    "### >>> Often times it might be useful to find the coefficients of a qet in a given ordered basis"
   ]
  },
  {
   "cell_type": "markdown",
   "metadata": {},
   "source": [
    "By default a Qet is unordered, putting down the coefficients in an ordered basis gives it a specific ordering."
   ]
  },
  {
   "cell_type": "code",
   "execution_count": 17,
   "metadata": {},
   "outputs": [
    {
     "data": {
      "text/html": [
       "<pre>✔️ 4.3 ms (2022-09-07T17:38:57/2022-09-07T17:38:57)</pre>"
      ],
      "text/plain": [
       "<IPython.core.display.HTML object>"
      ]
     },
     "metadata": {},
     "output_type": "display_data"
    },
    {
     "data": {
      "text/latex": [
       "$\\displaystyle {\\left|\\left( 0, \\  0\\right)\\right\\rangle } + 2 {\\left|\\left( 0, \\  1\\right)\\right\\rangle } + 3 {\\left|\\left( 1, \\  0\\right)\\right\\rangle } + 4 {\\left|\\left( 1, \\  1\\right)\\right\\rangle }$"
      ],
      "text/plain": [
       "|(0, 0)> + 2*|(0, 1)> + 3*|(1, 0)> + 4*|(1, 1)>"
      ]
     },
     "metadata": {},
     "output_type": "display_data"
    },
    {
     "name": "stdout",
     "output_type": "stream",
     "text": [
      "[1, 2, 3, 4]\n"
     ]
    }
   ],
   "source": [
    "basis = list(product([0,1],[0,1]))\n",
    "qet_dict = {}\n",
    "for idx, basis_vect in enumerate(basis):\n",
    "    qet_dict[basis_vect] = idx + 1\n",
    "qet = qd.Qet(qet_dict)\n",
    "display(qet.as_ket())\n",
    "print(qet.vec_in_basis(basis))"
   ]
  },
  {
   "cell_type": "markdown",
   "metadata": {},
   "source": [
    "In dealing with bases composed of Slater determinants it might be necessary to make permutations in order to identify the coefficients of a given qet.\n",
    "For this the method `.vec_in_detbasis` can be used."
   ]
  },
  {
   "cell_type": "code",
   "execution_count": 18,
   "metadata": {},
   "outputs": [
    {
     "data": {
      "text/html": [
       "<pre>✔️ 3.47 ms (2022-09-07T17:38:57/2022-09-07T17:38:57)</pre>"
      ],
      "text/plain": [
       "<IPython.core.display.HTML object>"
      ]
     },
     "metadata": {},
     "output_type": "display_data"
    },
    {
     "data": {
      "text/latex": [
       "$\\displaystyle {\\left|10\\right|\\rangle} + {\\left|21\\right|\\rangle}$"
      ],
      "text/plain": [
       "|10> + |21>"
      ]
     },
     "metadata": {},
     "output_type": "display_data"
    },
    {
     "name": "stdout",
     "output_type": "stream",
     "text": [
      "[-1, 1]\n"
     ]
    }
   ],
   "source": [
    "# in this example swapping the slots 1 and 0 match the given qet to the basis, as such\n",
    "# its coefficient is multiplied by -1\n",
    "basis = [(0,1), (2,1)]\n",
    "qet_dict = {(1,0):1, (2,1):1}\n",
    "qet = qd.Qet(qet_dict)\n",
    "display(qet.as_detket())\n",
    "print(qet.vec_in_detbasis(basis))"
   ]
  },
  {
   "cell_type": "markdown",
   "metadata": {},
   "source": [
    "### >>> Represent as a braket"
   ]
  },
  {
   "cell_type": "markdown",
   "metadata": {},
   "source": [
    "A Qet may also be interpreted as a braket. The method below can be used to visualize it. It assumes that the first half of the quantum symbols belong to the bra, and the second half those of the ket."
   ]
  },
  {
   "cell_type": "code",
   "execution_count": 19,
   "metadata": {},
   "outputs": [
    {
     "data": {
      "text/html": [
       "<pre>✔️ 2.92 ms (2022-09-07T17:38:57/2022-09-07T17:38:57)</pre>"
      ],
      "text/plain": [
       "<IPython.core.display.HTML object>"
      ]
     },
     "metadata": {},
     "output_type": "display_data"
    },
    {
     "data": {
      "text/latex": [
       "$\\displaystyle \\cos{\\left(\\theta \\right)} \\left\\langle \\beta \\right. {\\left|\\gamma\\right\\rangle } + \\cos{\\left(\\theta \\right)} \\left\\langle \\iota \\right. {\\left|\\gamma\\right\\rangle }$"
      ],
      "text/plain": [
       "cos(\\theta)*<\\beta|\\gamma> + cos(\\theta)*<\\iota|\\gamma>"
      ]
     },
     "metadata": {},
     "output_type": "display_data"
    }
   ],
   "source": [
    "braket = (qd.Qet({(sp.Symbol('\\\\beta'),('\\\\gamma')) : sp.cos(θ)}) +\n",
    "    qd.Qet({(sp.Symbol('\\\\iota'),('\\\\gamma')) : sp.cos(θ)}) \n",
    "        )\n",
    "display(braket.as_braket())"
   ]
  },
  {
   "cell_type": "markdown",
   "metadata": {},
   "source": [
    "### >>> apply"
   ]
  },
  {
   "cell_type": "markdown",
   "metadata": {},
   "source": [
    "A function may be applied to a Qet. The function must take a single pair (qnums, coeff) and return a dictionary or a (qnum, coeff) tuple."
   ]
  },
  {
   "cell_type": "code",
   "execution_count": 20,
   "metadata": {},
   "outputs": [
    {
     "data": {
      "text/html": [
       "<pre>✔️ 5.44 ms (2022-09-07T17:38:57/2022-09-07T17:38:57)</pre>"
      ],
      "text/plain": [
       "<IPython.core.display.HTML object>"
      ]
     },
     "metadata": {},
     "output_type": "display_data"
    },
    {
     "data": {
      "text/latex": [
       "$\\displaystyle \\frac{\\sqrt{2} {\\left|α\\right\\rangle }}{2} - \\frac{\\sqrt{2} {\\left|β\\right\\rangle }}{2}$"
      ],
      "text/plain": [
       "sqrt(2)*|α>/2 - sqrt(2)*|β>/2"
      ]
     },
     "metadata": {},
     "output_type": "display_data"
    },
    {
     "data": {
      "text/latex": [
       "$\\displaystyle - \\frac{\\sqrt{2} {\\left|α\\right\\rangle }}{2} - \\frac{\\sqrt{2} {\\left|β\\right\\rangle }}{2}$"
      ],
      "text/plain": [
       "-sqrt(2)*|α>/2 - sqrt(2)*|β>/2"
      ]
     },
     "execution_count": 20,
     "metadata": {},
     "output_type": "execute_result"
    }
   ],
   "source": [
    "qet1 = qd.Qet({sp.Symbol('α'):sp.S(1)/sp.sqrt(2),\n",
    "              sp.Symbol('β'):-sp.S(1)/sp.sqrt(2)})\n",
    "display(qet1.as_ket())\n",
    "def qfun(qnums, coeff):\n",
    "    if qnums == sp.Symbol('α'):\n",
    "        multiplier = -1\n",
    "    else:\n",
    "        multiplier = 1\n",
    "    return (qnums, multiplier * coeff)\n",
    "qet1.apply(qfun).as_ket()"
   ]
  },
  {
   "cell_type": "code",
   "execution_count": 21,
   "metadata": {},
   "outputs": [
    {
     "data": {
      "text/html": [
       "<pre>✔️ 5.07 ms (2022-09-07T17:38:57/2022-09-07T17:38:57)</pre>"
      ],
      "text/plain": [
       "<IPython.core.display.HTML object>"
      ]
     },
     "metadata": {},
     "output_type": "display_data"
    },
    {
     "data": {
      "text/latex": [
       "$\\displaystyle \\frac{\\sqrt{2} {\\left|\\left( 1, \\  -1\\right)\\right\\rangle }}{2} - \\frac{\\sqrt{2} {\\left|\\left( 2, \\  3\\right)\\right\\rangle }}{2}$"
      ],
      "text/plain": [
       "sqrt(2)*|(1, -1)>/2 - sqrt(2)*|(2, 3)>/2"
      ]
     },
     "metadata": {},
     "output_type": "display_data"
    },
    {
     "data": {
      "text/latex": [
       "$\\displaystyle - \\frac{5 \\sqrt{2} {\\left|\\left( 2, \\  3\\right)\\right\\rangle }}{2}$"
      ],
      "text/plain": [
       "-5*sqrt(2)*|(2, 3)>/2"
      ]
     },
     "execution_count": 21,
     "metadata": {},
     "output_type": "execute_result"
    }
   ],
   "source": [
    "qet1 = qd.Qet({(1,-1):sp.S(1)/sp.sqrt(2),\n",
    "              (2,3):-sp.S(1)/sp.sqrt(2)})\n",
    "display(qet1.as_ket())\n",
    "def qfun(qnums, coeff):\n",
    "    multiplier = sum(qnums)\n",
    "    return (qnums, multiplier * coeff)\n",
    "qet1.apply(qfun).as_ket()"
   ]
  },
  {
   "cell_type": "markdown",
   "metadata": {},
   "source": [
    "### >>> as_symbol_sum"
   ]
  },
  {
   "cell_type": "markdown",
   "metadata": {},
   "source": [
    "If the quantum symbols are a single sp.Symbol, .as_symbol_sum can be used to create a symbolic expression for the qet."
   ]
  },
  {
   "cell_type": "code",
   "execution_count": 22,
   "metadata": {},
   "outputs": [
    {
     "data": {
      "text/html": [
       "<pre>✔️ 3.76 ms (2022-09-07T17:38:58/2022-09-07T17:38:58)</pre>"
      ],
      "text/plain": [
       "<IPython.core.display.HTML object>"
      ]
     },
     "metadata": {},
     "output_type": "display_data"
    },
    {
     "data": {
      "text/latex": [
       "$\\displaystyle - \\frac{\\sqrt{2} \\eta}{2} + \\frac{\\sqrt{2} \\gamma}{2}$"
      ],
      "text/plain": [
       "-sqrt(2)*\\eta/2 + sqrt(2)*\\gamma/2"
      ]
     },
     "metadata": {},
     "output_type": "display_data"
    }
   ],
   "source": [
    "qet1 = qd.Qet({sp.Symbol('\\\\gamma'):sp.S(1)/sp.sqrt(2),\n",
    "               sp.Symbol('\\\\eta'):-sp.S(1)/sp.sqrt(2)})\n",
    "display(qet1.as_symbol_sum())"
   ]
  },
  {
   "cell_type": "markdown",
   "metadata": {},
   "source": [
    "### >>> norm"
   ]
  },
  {
   "cell_type": "markdown",
   "metadata": {},
   "source": [
    "Compute the norm, or normalize a given qet."
   ]
  },
  {
   "cell_type": "code",
   "execution_count": 23,
   "metadata": {},
   "outputs": [
    {
     "data": {
      "text/html": [
       "<pre>✔️ 2.62 ms (2022-09-07T17:38:58/2022-09-07T17:38:58)</pre>"
      ],
      "text/plain": [
       "<IPython.core.display.HTML object>"
      ]
     },
     "metadata": {},
     "output_type": "display_data"
    },
    {
     "data": {
      "text/latex": [
       "$\\displaystyle 1$"
      ],
      "text/plain": [
       "1"
      ]
     },
     "metadata": {},
     "output_type": "display_data"
    }
   ],
   "source": [
    "qet1 = qd.Qet({-qd.HALF:sp.S(1)/sp.sqrt(2),\n",
    "               qd.HALF:-sp.S(1)/sp.sqrt(2)})\n",
    "display(qet1.norm())"
   ]
  },
  {
   "cell_type": "code",
   "execution_count": 24,
   "metadata": {},
   "outputs": [
    {
     "data": {
      "text/html": [
       "<pre>✔️ 6.78 ms (2022-09-07T17:38:58/2022-09-07T17:38:58)</pre>"
      ],
      "text/plain": [
       "<IPython.core.display.HTML object>"
      ]
     },
     "metadata": {},
     "output_type": "display_data"
    },
    {
     "data": {
      "text/latex": [
       "$\\displaystyle \\frac{\\sqrt{30}}{6}$"
      ],
      "text/plain": [
       "sqrt(30)/6"
      ]
     },
     "metadata": {},
     "output_type": "display_data"
    },
    {
     "data": {
      "text/latex": [
       "$\\displaystyle 1$"
      ],
      "text/plain": [
       "1"
      ]
     },
     "metadata": {},
     "output_type": "display_data"
    }
   ],
   "source": [
    "qet1 = qd.Qet({-qd.HALF:sp.S(1)/sp.sqrt(3),\n",
    "               qd.HALF:-sp.S(1)/sp.sqrt(2)})\n",
    "display(qet1.norm())\n",
    "display(qet1.normalized().norm())"
   ]
  },
  {
   "cell_type": "markdown",
   "metadata": {},
   "source": [
    "### >>> permute"
   ]
  },
  {
   "cell_type": "markdown",
   "metadata": {},
   "source": [
    "To shuffle the symbols inside of the keys to a Qet, one may apply a permutation. A permutation is given as a list of indices to which the original order is mapped to."
   ]
  },
  {
   "cell_type": "code",
   "execution_count": 25,
   "metadata": {},
   "outputs": [
    {
     "data": {
      "text/html": [
       "<pre>✔️ 4.83 ms (2022-09-07T17:38:58/2022-09-07T17:38:58)</pre>"
      ],
      "text/plain": [
       "<IPython.core.display.HTML object>"
      ]
     },
     "metadata": {},
     "output_type": "display_data"
    },
    {
     "data": {
      "text/latex": [
       "$\\displaystyle \\frac{\\sqrt{2} {\\left|\\left( α, \\  1\\right)\\right\\rangle }}{2} - \\frac{\\sqrt{2} {\\left|\\left( β, \\  2\\right)\\right\\rangle }}{2}$"
      ],
      "text/plain": [
       "sqrt(2)*|(α, 1)>/2 - sqrt(2)*|(β, 2)>/2"
      ]
     },
     "metadata": {},
     "output_type": "display_data"
    },
    {
     "data": {
      "text/latex": [
       "$\\displaystyle \\frac{\\sqrt{2} {\\left|\\left( 1, \\  α\\right)\\right\\rangle }}{2} - \\frac{\\sqrt{2} {\\left|\\left( 2, \\  β\\right)\\right\\rangle }}{2}$"
      ],
      "text/plain": [
       "sqrt(2)*|(1, α)>/2 - sqrt(2)*|(2, β)>/2"
      ]
     },
     "metadata": {},
     "output_type": "display_data"
    }
   ],
   "source": [
    "qet2 = qd.Qet({(sp.Symbol('α'),1):sp.S(1)/sp.sqrt(2),\n",
    "              (sp.Symbol('β'),2):-sp.S(1)/sp.sqrt(2)})\n",
    "display(qet2.as_ket())\n",
    "permutation = [1,0]\n",
    "display(qet2.permute(permutation).as_ket())"
   ]
  },
  {
   "cell_type": "code",
   "execution_count": 26,
   "metadata": {},
   "outputs": [
    {
     "data": {
      "text/html": [
       "<pre>✔️ 5.5 ms (2022-09-07T17:38:58/2022-09-07T17:38:58)</pre>"
      ],
      "text/plain": [
       "<IPython.core.display.HTML object>"
      ]
     },
     "metadata": {},
     "output_type": "display_data"
    },
    {
     "data": {
      "text/latex": [
       "$\\displaystyle \\frac{\\sqrt{2} {\\left|\\left( α, \\  1, \\  0\\right)\\right\\rangle }}{2} - \\frac{\\sqrt{2} {\\left|\\left( β, \\  2, \\  6\\right)\\right\\rangle }}{2}$"
      ],
      "text/plain": [
       "sqrt(2)*|(α, 1, 0)>/2 - sqrt(2)*|(β, 2, 6)>/2"
      ]
     },
     "metadata": {},
     "output_type": "display_data"
    },
    {
     "data": {
      "text/latex": [
       "$\\displaystyle \\frac{\\sqrt{2} {\\left|\\left( 1, \\  α, \\  0\\right)\\right\\rangle }}{2} - \\frac{\\sqrt{2} {\\left|\\left( 2, \\  β, \\  6\\right)\\right\\rangle }}{2}$"
      ],
      "text/plain": [
       "sqrt(2)*|(1, α, 0)>/2 - sqrt(2)*|(2, β, 6)>/2"
      ]
     },
     "metadata": {},
     "output_type": "display_data"
    }
   ],
   "source": [
    "qet2 = qd.Qet({(sp.Symbol('α'),1,0):sp.S(1)/sp.sqrt(2),\n",
    "              (sp.Symbol('β'),2,6):-sp.S(1)/sp.sqrt(2)})\n",
    "display(qet2.as_ket())\n",
    "permutation = [1,0,2]\n",
    "display(qet2.permute(permutation).as_ket())"
   ]
  },
  {
   "cell_type": "markdown",
   "metadata": {},
   "source": [
    "## >> Atom & Ion"
   ]
  },
  {
   "cell_type": "markdown",
   "metadata": {},
   "source": [
    "+ Given as a class `Atom`, it can be instantiated with atomic number of element symbol to provide a number of physical data that can be accessed with the following attributes:\n",
    "    + `symbol`,\n",
    "    + `ionization_energies`, (list)\n",
    "    + `nist_data_levels`: (pd.Dataframe)\n",
    "    + `nist_data_lines`: (pd.Dataframe)\n",
    "    + `isotope_data`: (pd.Dataframe)\n",
    "    + `electronegativity`: (float)\n",
    "    + `electron_configuration`: (dict)\n",
    "    + `common_crystal structure`: (str)\n",
    "    + `atomic_radius`: (float)\n",
    "    + `covalent_radius`: (float)\n",
    "    + `period`: (str) in which it is in the periodic table\n",
    "    + `series`: (str) that it belongs to in the periodict table,\n",
    "    + `group`: (str) such that it has in the periodic table\n",
    "* In addition to these, the method `level_diagram` can be used to quickly get an overview of the level for the given atom for a given charge state.\n",
    "***\n",
    "+ The class `Ion` inherits from `Atom` but to it one may also give the charge state of the atom."
   ]
  },
  {
   "cell_type": "markdown",
   "metadata": {},
   "source": [
    "An Atom can be instantiated with its atomic number or its symbol"
   ]
  },
  {
   "cell_type": "code",
   "execution_count": 27,
   "metadata": {},
   "outputs": [
    {
     "data": {
      "text/html": [
       "<pre>✔️ 68.2 ms (2022-09-07T17:38:58/2022-09-07T17:38:58)</pre>"
      ],
      "text/plain": [
       "<IPython.core.display.HTML object>"
      ]
     },
     "metadata": {},
     "output_type": "display_data"
    }
   ],
   "source": [
    "europium = qd.Atom('Eu')\n",
    "europium = qd.Atom(63)"
   ]
  },
  {
   "cell_type": "code",
   "execution_count": 28,
   "metadata": {},
   "outputs": [
    {
     "data": {
      "text/html": [
       "<pre>✔️ 337 ms (2022-09-07T17:38:59/2022-09-07T17:38:59)</pre>"
      ],
      "text/plain": [
       "<IPython.core.display.HTML object>"
      ]
     },
     "metadata": {},
     "output_type": "display_data"
    },
    {
     "data": {
      "image/png": "[encoded data removed]",
      "text/plain": [
       "<Figure size 200x500 with 1 Axes>"
      ]
     },
     "metadata": {
      "image/png": {
       "height": 487,
       "width": 190
      }
     },
     "output_type": "display_data"
    }
   ],
   "source": [
    "europium.level_diagram(1)"
   ]
  },
  {
   "cell_type": "markdown",
   "metadata": {},
   "source": [
    "An Ion can be instantiated with its atomic number or its symbol, and its corresponding charge state."
   ]
  },
  {
   "cell_type": "code",
   "execution_count": 29,
   "metadata": {},
   "outputs": [
    {
     "data": {
      "text/html": [
       "<pre>✔️ 28.6 ms (2022-09-07T17:38:59/2022-09-07T17:38:59)</pre>"
      ],
      "text/plain": [
       "<IPython.core.display.HTML object>"
      ]
     },
     "metadata": {},
     "output_type": "display_data"
    }
   ],
   "source": [
    "trichrome = qd.Ion('Cr',3)"
   ]
  },
  {
   "cell_type": "code",
   "execution_count": 30,
   "metadata": {},
   "outputs": [
    {
     "data": {
      "text/html": [
       "<pre>✔️ 3.46 ms (2022-09-07T17:38:59/2022-09-07T17:38:59)</pre>"
      ],
      "text/plain": [
       "<IPython.core.display.HTML object>"
      ]
     },
     "metadata": {},
     "output_type": "display_data"
    },
    {
     "data": {
      "text/plain": [
       "'Cr^{3+} has an ionic radius of 75.5 pm.'"
      ]
     },
     "execution_count": 30,
     "metadata": {},
     "output_type": "execute_result"
    }
   ],
   "source": [
    "'Cr^{3+} has an ionic radius of %.1f pm.' % trichrome.ionic_radius()"
   ]
  },
  {
   "cell_type": "code",
   "execution_count": 31,
   "metadata": {},
   "outputs": [
    {
     "data": {
      "text/html": [
       "<pre>✔️ 183 ms (2022-09-07T17:38:59/2022-09-07T17:39:00)</pre>"
      ],
      "text/plain": [
       "<IPython.core.display.HTML object>"
      ]
     },
     "metadata": {},
     "output_type": "display_data"
    },
    {
     "data": {
      "image/png": "[encoded data removed]",
      "text/plain": [
       "<Figure size 200x500 with 1 Axes>"
      ]
     },
     "metadata": {
      "image/png": {
       "height": 487,
       "width": 190
      }
     },
     "output_type": "display_data"
    }
   ],
   "source": [
    "trichrome.level_diagram()"
   ]
  },
  {
   "cell_type": "markdown",
   "metadata": {},
   "source": [
    "## >> PeriodicTable"
   ]
  },
  {
   "cell_type": "markdown",
   "metadata": {},
   "source": [
    "+ This class encapsulates all the elements (as qd.Atom objects), and provides a method `.annotated_ptable` to draw a periodic table with given annotations. The atoms are stored in the `.atoms` atribute, which provides a dictionary whose keys are the corresponding atomic numbers."
   ]
  },
  {
   "cell_type": "code",
   "execution_count": 32,
   "metadata": {},
   "outputs": [
    {
     "data": {
      "text/html": [
       "<pre>✔️ 2.69 s (2022-09-07T17:39:00/2022-09-07T17:39:02)</pre>"
      ],
      "text/plain": [
       "<IPython.core.display.HTML object>"
      ]
     },
     "metadata": {},
     "output_type": "display_data"
    },
    {
     "data": {
      "text/plain": [
       "31.0"
      ]
     },
     "execution_count": 32,
     "metadata": {},
     "output_type": "execute_result"
    }
   ],
   "source": [
    "ptable = qd.PeriodicTable()\n",
    "ptable.atoms[2].atomic_radius"
   ]
  },
  {
   "cell_type": "code",
   "execution_count": 33,
   "metadata": {},
   "outputs": [
    {
     "data": {
      "text/html": [
       "<pre>✔️ 654 ms (2022-09-07T17:39:03/2022-09-07T17:39:03)</pre>"
      ],
      "text/plain": [
       "<IPython.core.display.HTML object>"
      ]
     },
     "metadata": {},
     "output_type": "display_data"
    },
    {
     "data": {
      "image/png": "[encoded data removed]",
      "text/plain": [
       "<Figure size 1500x1000 with 2 Axes>"
      ]
     },
     "metadata": {
      "image/png": {
       "height": 819,
       "width": 1225
      }
     },
     "output_type": "display_data"
    }
   ],
   "source": [
    "fig, ax = plt.subplots(figsize=(15,10))\n",
    "fig, ax = ptable.annotated_ptable(fig,{'S':'Sulfur','He':'Helium'}, 'black')\n",
    "plt.show()"
   ]
  },
  {
   "cell_type": "markdown",
   "metadata": {},
   "source": [
    "## >> SpinOrbital"
   ]
  },
  {
   "cell_type": "markdown",
   "metadata": {},
   "source": [
    "The class `SpinOrbital` puts together the spin and orbital parts of the wavefunction."
   ]
  },
  {
   "cell_type": "code",
   "execution_count": 34,
   "metadata": {},
   "outputs": [
    {
     "data": {
      "text/html": [
       "<pre>✔️ 744 µs (2022-09-07T17:39:03/2022-09-07T17:39:03)</pre>"
      ],
      "text/plain": [
       "<IPython.core.display.HTML object>"
      ]
     },
     "metadata": {},
     "output_type": "display_data"
    }
   ],
   "source": [
    "sorb = qd.SpinOrbital(sp.Symbol('\\\\beta'), qd.S_DOWN)"
   ]
  },
  {
   "cell_type": "code",
   "execution_count": 35,
   "metadata": {},
   "outputs": [
    {
     "data": {
      "text/html": [
       "<pre>✔️ 2.5 ms (2022-09-07T17:39:03/2022-09-07T17:39:03)</pre>"
      ],
      "text/plain": [
       "<IPython.core.display.HTML object>"
      ]
     },
     "metadata": {},
     "output_type": "display_data"
    },
    {
     "data": {
      "text/plain": [
       "(-1/2, \\beta)"
      ]
     },
     "execution_count": 35,
     "metadata": {},
     "output_type": "execute_result"
    }
   ],
   "source": [
    "sorb.spin, sorb.orbital"
   ]
  },
  {
   "cell_type": "markdown",
   "metadata": {},
   "source": [
    "In the case of a multi-electron wave function the orbital part and the spin part may be represented  by tuples.\n",
    "For example, in the event one had a wavefunction for two d electrons, one of them with ml = -2, the other with ml = 2, and the spin of the first one pointing up, and the spin of the second one pointing up, one may represent this as:"
   ]
  },
  {
   "cell_type": "code",
   "execution_count": 36,
   "metadata": {},
   "outputs": [
    {
     "data": {
      "text/html": [
       "<pre>✔️ 1.86 ms (2022-09-07T17:39:04/2022-09-07T17:39:04)</pre>"
      ],
      "text/plain": [
       "<IPython.core.display.HTML object>"
      ]
     },
     "metadata": {},
     "output_type": "display_data"
    },
    {
     "data": {
      "text/latex": [
       "$\\displaystyle (-2,\\bar{2})$"
      ],
      "text/plain": [
       "(-2, 2)↑"
      ]
     },
     "execution_count": 36,
     "metadata": {},
     "output_type": "execute_result"
    }
   ],
   "source": [
    "multi_sorb = qd.SpinOrbital((-2,2), (qd.HALF, -qd.HALF))\n",
    "multi_sorb"
   ]
  },
  {
   "cell_type": "markdown",
   "metadata": {},
   "source": [
    "## >> Term"
   ]
  },
  {
   "cell_type": "markdown",
   "metadata": {},
   "source": [
    "This class can be used to store a series of states that form a spectroscopic term."
   ]
  },
  {
   "cell_type": "code",
   "execution_count": 37,
   "metadata": {},
   "outputs": [
    {
     "data": {
      "text/html": [
       "<pre>✔️ 449 µs (2022-09-07T17:39:04/2022-09-07T17:39:04)</pre>"
      ],
      "text/plain": [
       "<IPython.core.display.HTML object>"
      ]
     },
     "metadata": {},
     "output_type": "display_data"
    }
   ],
   "source": [
    "from collections import namedtuple\n",
    "Ψ = namedtuple('Ψ',['electrons','terms','γ','S','M']) "
   ]
  },
  {
   "cell_type": "code",
   "execution_count": 38,
   "metadata": {},
   "outputs": [
    {
     "data": {
      "text/html": [
       "<pre>✔️ 6.51 ms (2022-09-07T17:39:04/2022-09-07T17:39:04)</pre>"
      ],
      "text/plain": [
       "<IPython.core.display.HTML object>"
      ]
     },
     "metadata": {},
     "output_type": "display_data"
    },
    {
     "data": {
      "text/latex": [
       "$\\displaystyle {}^{3}T_{2}$"
      ],
      "text/plain": [
       "{}^{3}T_{2}"
      ]
     },
     "metadata": {},
     "output_type": "display_data"
    },
    {
     "data": {
      "text/latex": [
       "$\\displaystyle \\Psi(e t_{2},{}^{3}T_{2},M\\!=\\!-1,\\zeta)$"
      ],
      "text/plain": [
       "<IPython.core.display.Math object>"
      ]
     },
     "metadata": {},
     "output_type": "display_data"
    },
    {
     "data": {
      "text/latex": [
       "$\\displaystyle {\\left|1\\frac{1}{2}\\right| }$"
      ],
      "text/plain": [
       "<IPython.core.display.Math object>"
      ]
     },
     "metadata": {},
     "output_type": "display_data"
    },
    {
     "data": {
      "text/latex": [
       "$\\displaystyle \\Psi(e^{2},{}^{3}T_{2},M\\!=\\!-1,\\eta)$"
      ],
      "text/plain": [
       "<IPython.core.display.Math object>"
      ]
     },
     "metadata": {},
     "output_type": "display_data"
    },
    {
     "data": {
      "text/latex": [
       "$\\displaystyle {\\left|2\\frac{1}{2}\\right| }$"
      ],
      "text/plain": [
       "<IPython.core.display.Math object>"
      ]
     },
     "metadata": {},
     "output_type": "display_data"
    }
   ],
   "source": [
    "states = {(sp.Symbol('E'), sp.Symbol('T_2'), sp.Symbol('A_1'), sp.Symbol('\\\\zeta'), 1, -1): qd.Qet({(1, qd.HALF):1}),\n",
    "          (sp.Symbol('E'), sp.Symbol('E'), sp.Symbol('E'), sp.Symbol('\\\\eta'), 1, -1): qd.Qet({(2, qd.HALF):1})}\n",
    "states = {'states': list(states.values()),\n",
    "         'state_keys': list(states.keys()),\n",
    "         'S': 1,\n",
    "         'irrep': sp.Symbol('T_2')}\n",
    "term = qd.Term(states)\n",
    "display(term.term_symbol())\n",
    "for ts in term.make_state_symbols():\n",
    "    display(Math(ts[0]))\n",
    "    display(Math(ts[1]))"
   ]
  },
  {
   "cell_type": "markdown",
   "metadata": {},
   "source": [
    "# > Physical Data"
   ]
  },
  {
   "cell_type": "markdown",
   "metadata": {},
   "source": [
    "***\n",
    "\n",
    "+ `name_to_symb` : (dict) (element name (lower case) -> element symbol)\n",
    "+ `name_to_num`  : (dict) (element name (lower case) -> Z)\n",
    "+ `symb_to_name` : (dict) (element symbol -> element name)\n",
    "+ `symb_to_num`:   (dict) (element symbol -> Z)\n",
    "+ `num_to_name`:   (dict) (Z -> element name)\n",
    "+ `num_to_symb`:   (dict) (Z -> element symbol)\n",
    "\n",
    "***\n",
    "\n",
    "+ `atomicGoodies`: (dict)\n",
    "    + **Block**: (dict) block of the periodic table (Z -> s,p,d,f)\n",
    "\t+ **CAS number**: (dict) Chemical Abstracts Service number (Z -> CAS number) \n",
    "\t+ **Crystal Structure**: (dict) predominant crystal structure (Z -> crystal structure)\n",
    "\t+ **Electrical Type**: (dict) (Z -> {conductor, semicondutor, or insulator})\n",
    "\t+ **Electron Config**: (dict) (Z -> {'config': occupation}) \n",
    "\t+ **Electron Config String**: (dict) (Z -> electron config of ground state)\n",
    "\t+ **Electronegativity**: (dict) (Z -> electronegativity)\n",
    "\t+ **Period**: (dict) (Z -> row in periodic table)\n",
    "\t+ **Mass Magnetic Susceptibility**: (dict) (Z -> mass magnetic susceptibility)\n",
    "\t+ **Memberships**: (dict) (Z -> (list)[categories to which element belongs to.])\n",
    "\t+ **Series**: (dict) (Z -> series to which the element belongs to)\n",
    "\t+ **Van der Waals radius**: (dict) (Z -> vdw radius in pm)\n",
    "\t+ **Atomic Mass**: (dict) (Z -> atomic mass in amu)\n",
    "\t+ **Atomic Radius**: (dict) (Z -> atomic radius in pm) \n",
    "\t+ **Covalent Radius**: (dict) (Z -> covalent in pm)\n",
    "\t+ **Neutron Cross Section**:  (dict) (Z -> cross section / barns)\n",
    "\t+ **Universe Abundance**: (dict) (Z -> estimated mass fraction of element)\n",
    "\t+ **Group** (dict) (Z -> column of periodic table)\n",
    "\t\n",
    "***\n",
    "\n",
    "+ `ionization_data`: (dict) (element name -> (list)[ionization energies in eV given from ionization stage to ionization stage, i.e. the i-th element of the list is the energy needed to go from the previous ionization stage to the next one])\n",
    "+ `atom_symbs`: (list) (element symbols), ordered according to Z.\n",
    "+ `atom_names`: (list) (element names), ordered according to Z.\n",
    "+ `nistdf_levels`: (pd.Dataframe) level data from the NIST spectroscopy databases.\n",
    "\n",
    "***\n",
    "\n",
    "+ `nistdf_lines`: (pd.Dataframe) lines data from the NIST spectroscopy databases.\n",
    "+ `spinData`: (pd.Dataframe) spin of ground state of elements and their different isotopes, also includes nuclear Landé g factors, whether the element is considered radioactive, electric quadrupole moments, and natural abundances.\n",
    "+ `element_groups`: (dict) for a given key (\"transition metals\", \"lanthanides\", or \"actinides\") this dictionary provides lists with the atomic numbers that belong to the given group. In the case of \"transition metals\" a second key is needed which is equal to the period number.\n",
    "+ `ionic_radii`: (pd.Dataframe) ionic radii taken from Shannon, Robert D. “Revised Effective Ionic Radii and Systematic Studies of Interatomic Distances in Halides and Chalcogenides.” Acta Crystallographica Section A: Crystal Physics, Diffraction, Theoretical and General Crystallography 32, no. 5 (1976): 751–67."
   ]
  },
  {
   "cell_type": "markdown",
   "metadata": {},
   "source": [
    "NOTE: some of these constants are used in classes that aggregate some of these in useful bundles."
   ]
  },
  {
   "cell_type": "markdown",
   "metadata": {},
   "source": [
    "# > Group Theory Data"
   ]
  },
  {
   "cell_type": "markdown",
   "metadata": {},
   "source": [
    "***\n",
    "+ `group_dict` (dict) data for the single-valued crystallographic point groups (two keys)\n",
    "    + **metadata**: explanation of data contained in the second key.\n",
    "    + **group_data**: (dict) (index for crystalloraphic point groups -> dict with keys given below:\n",
    "        + index, notation, group label, irrep labels, class labels, irrep matrices, classes, generators, character table, multiplication table, euler angles, group operations\n",
    "***\n",
    "+ `double_group_dict` (dict) data for the double-valued crystallographic point groups (two keys)\n",
    "    + **metadata**: explanation of data contained in the second key.\n",
    "    + **group_data**: (dict) (index for crystalloraphic point groups -> dict with keys given below:\n",
    "        + index, notation, group label, irrep labels, class labels, classes, character table, multiplication table, euler angles, group operations\n",
    "***"
   ]
  },
  {
   "cell_type": "code",
   "execution_count": 39,
   "metadata": {},
   "outputs": [
    {
     "data": {
      "text/html": [
       "<pre>✔️ 2.24 ms (2022-09-07T17:39:04/2022-09-07T17:39:04)</pre>"
      ],
      "text/plain": [
       "<IPython.core.display.HTML object>"
      ]
     },
     "metadata": {},
     "output_type": "display_data"
    },
    {
     "data": {
      "text/plain": [
       "['metadata', 'group_data']"
      ]
     },
     "execution_count": 39,
     "metadata": {},
     "output_type": "execute_result"
    }
   ],
   "source": [
    "list(qd.group_dict.keys())"
   ]
  },
  {
   "cell_type": "code",
   "execution_count": 40,
   "metadata": {},
   "outputs": [
    {
     "data": {
      "text/html": [
       "<pre>✔️ 1.89 ms (2022-09-07T17:39:04/2022-09-07T17:39:04)</pre>"
      ],
      "text/plain": [
       "<IPython.core.display.HTML object>"
      ]
     },
     "metadata": {},
     "output_type": "display_data"
    },
    {
     "data": {
      "text/plain": [
       "['index',\n",
       " 'notation',\n",
       " 'group label',\n",
       " 'irrep labels',\n",
       " 'class labels',\n",
       " 'irrep matrices',\n",
       " 'classes',\n",
       " 'generators',\n",
       " 'character table',\n",
       " 'multiplication table',\n",
       " 'euler angles',\n",
       " 'group operations']"
      ]
     },
     "execution_count": 40,
     "metadata": {},
     "output_type": "execute_result"
    }
   ],
   "source": [
    "list(qd.group_dict['group_data'][1].keys())"
   ]
  },
  {
   "cell_type": "markdown",
   "metadata": {},
   "source": [
    "# > Hartree Fock Data"
   ]
  },
  {
   "cell_type": "markdown",
   "metadata": {},
   "source": [
    "+ Provided as a class, `HartreeFockData` can be instantiated to provide radial averages ($\\langle{r^2}\\rangle$, $\\langle{r^4}\\rangle$, $\\langle{r^6}\\rangle$) and atom sizes as calculated within the Hartree Fock approximations. This data was digitized from the Handbook of Atomic Data by Fraga et al."
   ]
  },
  {
   "cell_type": "code",
   "execution_count": 41,
   "metadata": {},
   "outputs": [
    {
     "data": {
      "text/html": [
       "<pre>✔️ 680 µs (2022-09-07T17:39:04/2022-09-07T17:39:04)</pre>"
      ],
      "text/plain": [
       "<IPython.core.display.HTML object>"
      ]
     },
     "metadata": {},
     "output_type": "display_data"
    }
   ],
   "source": [
    "hfData = qd.HartreeFockData()"
   ]
  },
  {
   "cell_type": "code",
   "execution_count": 42,
   "metadata": {},
   "outputs": [
    {
     "data": {
      "text/html": [
       "<pre>✔️ 403 µs (2022-09-07T17:39:05/2022-09-07T17:39:05)</pre>"
      ],
      "text/plain": [
       "<IPython.core.display.HTML object>"
      ]
     },
     "metadata": {},
     "output_type": "display_data"
    },
    {
     "name": "stdout",
     "output_type": "stream",
     "text": [
      "\n",
      "        Returns  the radial average <r^n> for a valence electron for\n",
      "        the  given element and charge state (n=0 neutral, n=1 singly\n",
      "        ionized, ...) within the limitations of Hartree-Fock.\n",
      "\n",
      "        The  element  can be given either as its atomic number or by\n",
      "        its symbol.\n",
      "\n",
      "        Data is taken from Fraga's et al Handbook of Atomic Data.\n",
      "\n",
      "        The unit for the provided radial average is Angstrom^n.\n",
      "\n",
      "        Provided data has 5 significant figures.\n",
      "        \n"
     ]
    }
   ],
   "source": [
    "print(hfData.radial_average.__doc__)"
   ]
  },
  {
   "cell_type": "code",
   "execution_count": 43,
   "metadata": {},
   "outputs": [
    {
     "data": {
      "text/html": [
       "<pre>✔️ 3.02 ms (2022-09-07T17:39:05/2022-09-07T17:39:05)</pre>"
      ],
      "text/plain": [
       "<IPython.core.display.HTML object>"
      ]
     },
     "metadata": {},
     "output_type": "display_data"
    },
    {
     "data": {
      "text/plain": [
       "0.29229"
      ]
     },
     "execution_count": 43,
     "metadata": {},
     "output_type": "execute_result"
    }
   ],
   "source": [
    "hfData.radial_average(element='Cu', charge_state=2, n=2)"
   ]
  },
  {
   "cell_type": "markdown",
   "metadata": {},
   "source": [
    "# > Bases"
   ]
  },
  {
   "cell_type": "markdown",
   "metadata": {},
   "source": [
    "## >> elementary_basis"
   ]
  },
  {
   "cell_type": "code",
   "execution_count": 44,
   "metadata": {},
   "outputs": [
    {
     "data": {
      "text/html": [
       "<pre>✔️ 731 µs (2022-09-07T17:39:05/2022-09-07T17:39:05)</pre>"
      ],
      "text/plain": [
       "<IPython.core.display.HTML object>"
      ]
     },
     "metadata": {},
     "output_type": "display_data"
    },
    {
     "name": "stdout",
     "output_type": "stream",
     "text": [
      "\n",
      "    Basis of different kinds for multi-electron systems.\n",
      "\n",
      "    These bases are elementary in the sense that they are not built within\n",
      "    any  coupling scheme. They only take into account if the electrons are\n",
      "    equivalent or not.\n",
      "\n",
      "    (single electron)\n",
      "    A single electron basis is simply all the combinations of the possible\n",
      "    ml,  and  ms  for the given orbital angular momentum l. This basis has\n",
      "    (2*l+1)*2 elements.\n",
      "\n",
      "    (multi inequiv electron)\n",
      "    A  multi  inequivalent  electron basis is composed of all the possible\n",
      "    combinations of num_electrons of the single electron basis. Here it is\n",
      "    assumed  that  the  inequivalent electrons still have the same orbital\n",
      "    angular momentum l. This basis has ((2l+1)*2)^num_electrons elements.\n",
      "\n",
      "    (multi equiv electron)\n",
      "    A   multi-equiv-electron   basis  is  composed  of  all  the  possible\n",
      "    combinations  of  num_electrons  of the single electron basis, with no\n",
      "    repeated  (ml,  ms)  single  electron  states,  and  with the ordering\n",
      "    considered  to  be  irrelevant.  This  basis has sp.binomial(2*(2l+1),\n",
      "    num_electrons) elements.\n",
      "\n",
      "    (multi equiv electron ordered)\n",
      "    A   multi-equiv-electron   basis  is  composed  of  all  the  possible\n",
      "    combinations  of  num_electrons  of the single electron basis, with no\n",
      "    repeated  (ml,  ms)  single electron states. Different from the multi-\n",
      "    euquiv-electron  basis the ordering here is considered to be relevant.\n",
      "    This  basis  has sp.binomial(2*(2l+1), num_electrons) * num_electrons!\n",
      "    elements.\n",
      "\n",
      "    Parameters\n",
      "    -----------\n",
      "    kind  (str):  ∈ [\"single electron\", \"multi inequiv electron\",\n",
      "      \"multi equiv electron\", or \"multi equiv electron ordered\"].\n",
      "\n",
      "    l_orbital  (int): orbital angular momentum number.\n",
      "\n",
      "    num_electrons (int): how many electrons are in the mix.\n",
      "\n",
      "    flatten   (bool):   if  True  the  returned  tuples  for  the  ml,  ms\n",
      "    combinations  are  flattened  into  single tuples. That is, instead of\n",
      "    returning\n",
      "      [((-1, -1/2), (0, 1/2)), ((-1, -1/2), (2, 1/2)), ...] \n",
      "    it instead returns\n",
      "      [(-1, -1/2, 0, 1/2)), (-1,-1/2,2,1/2), ...] \n",
      "    \n",
      "    reverse_order (bool): if True the the ms goes before the ml.\n",
      "\n",
      "    Returns\n",
      "    -------\n",
      "    A list with tuples representing allowed combinations of \n",
      "    ((ml_1, ms_1), (ml_2, ms_2), ... (ml_n, ms_n)) \n",
      "    \n"
     ]
    }
   ],
   "source": [
    "print(qd.elementary_basis.__doc__)"
   ]
  },
  {
   "cell_type": "code",
   "execution_count": 45,
   "metadata": {},
   "outputs": [
    {
     "data": {
      "text/html": [
       "<pre>✔️ 1.23 ms (2022-09-07T17:39:05/2022-09-07T17:39:05)</pre>"
      ],
      "text/plain": [
       "<IPython.core.display.HTML object>"
      ]
     },
     "metadata": {},
     "output_type": "display_data"
    },
    {
     "name": "stdout",
     "output_type": "stream",
     "text": [
      "[((-2, -1/2), (-2, -1/2)), ((-2, -1/2), (-2, 1/2))]\n"
     ]
    }
   ],
   "source": [
    "multi_i_basis = qd.elementary_basis('multi inequiv electron', 2, 2)\n",
    "print(multi_i_basis[:2])"
   ]
  },
  {
   "cell_type": "code",
   "execution_count": 46,
   "metadata": {},
   "outputs": [
    {
     "data": {
      "text/html": [
       "<pre>✔️ 554 µs (2022-09-07T17:39:05/2022-09-07T17:39:05)</pre>"
      ],
      "text/plain": [
       "<IPython.core.display.HTML object>"
      ]
     },
     "metadata": {},
     "output_type": "display_data"
    },
    {
     "name": "stdout",
     "output_type": "stream",
     "text": [
      "[((-2, -1/2), (-2, 1/2)), ((-2, -1/2), (-1, -1/2))]\n"
     ]
    }
   ],
   "source": [
    "multi_e_basis = qd.elementary_basis('multi equiv electron', 2, 2)\n",
    "print(multi_e_basis[:2])"
   ]
  },
  {
   "cell_type": "code",
   "execution_count": 47,
   "metadata": {},
   "outputs": [
    {
     "data": {
      "text/html": [
       "<pre>✔️ 479 µs (2022-09-07T17:39:06/2022-09-07T17:39:06)</pre>"
      ],
      "text/plain": [
       "<IPython.core.display.HTML object>"
      ]
     },
     "metadata": {},
     "output_type": "display_data"
    },
    {
     "name": "stdout",
     "output_type": "stream",
     "text": [
      "[((-2, -1/2), (-2, 1/2)), ((-2, -1/2), (-1, -1/2))]\n"
     ]
    }
   ],
   "source": [
    "multi_eo_basis = qd.elementary_basis('multi equiv electron ordered', 2, 2)\n",
    "print(multi_eo_basis[:2])"
   ]
  },
  {
   "cell_type": "markdown",
   "metadata": {},
   "source": [
    "# > Assorted Functions"
   ]
  },
  {
   "cell_type": "markdown",
   "metadata": {},
   "source": [
    "## >> mrange, lrange"
   ]
  },
  {
   "cell_type": "code",
   "execution_count": 48,
   "metadata": {},
   "outputs": [
    {
     "data": {
      "text/html": [
       "<pre>✔️ 1.2 ms (2022-09-07T17:39:06/2022-09-07T17:39:06)</pre>"
      ],
      "text/plain": [
       "<IPython.core.display.HTML object>"
      ]
     },
     "metadata": {},
     "output_type": "display_data"
    },
    {
     "name": "stdout",
     "output_type": "stream",
     "text": [
      "\n",
      "    Range of m values for given j.\n",
      "\n",
      "    Give a j get a list with corresponding mj.\n",
      "\n",
      "    Parameters\n",
      "    ----------\n",
      "    j  (int or half-int): angular momentum\n",
      "\n",
      "    Returns\n",
      "    -------\n",
      "    (tuple) [-j, -j+1, ..., j-1, j]\n",
      "    \n"
     ]
    }
   ],
   "source": [
    "print(qd.mrange.__doc__)"
   ]
  },
  {
   "cell_type": "code",
   "execution_count": 49,
   "metadata": {},
   "outputs": [
    {
     "data": {
      "text/html": [
       "<pre>✔️ 1.02 ms (2022-09-07T17:39:06/2022-09-07T17:39:06)</pre>"
      ],
      "text/plain": [
       "<IPython.core.display.HTML object>"
      ]
     },
     "metadata": {},
     "output_type": "display_data"
    },
    {
     "name": "stdout",
     "output_type": "stream",
     "text": [
      "\n",
      "    Total j values when adding j1 and j2 angular momenta.\n",
      "\n",
      "    When adding j1, and j2, return range of possible total\n",
      "    angular momenta.\n",
      "    \n",
      "    Parameters\n",
      "    ----------\n",
      "    j1:(int or half-int) ≥ 0\n",
      "    j2:(int or half-int) ≥ 0\n",
      "\n",
      "    Returns\n",
      "    -------\n",
      "    (tuple) (|j1-j2|,|j1-j2|+1, ..., j1+j2)\n",
      "    \n"
     ]
    }
   ],
   "source": [
    "print(qd.lrange.__doc__)"
   ]
  },
  {
   "cell_type": "code",
   "execution_count": 50,
   "metadata": {},
   "outputs": [
    {
     "data": {
      "text/html": [
       "<pre>✔️ 2.14 ms (2022-09-07T17:39:06/2022-09-07T17:39:06)</pre>"
      ],
      "text/plain": [
       "<IPython.core.display.HTML object>"
      ]
     },
     "metadata": {},
     "output_type": "display_data"
    },
    {
     "data": {
      "text/plain": [
       "(3/2, 5/2, 7/2)"
      ]
     },
     "execution_count": 50,
     "metadata": {},
     "output_type": "execute_result"
    }
   ],
   "source": [
    "qd.lrange(1,sp.S(5)/2)"
   ]
  },
  {
   "cell_type": "markdown",
   "metadata": {},
   "source": [
    "## >> phaser, tp1, kron"
   ]
  },
  {
   "cell_type": "markdown",
   "metadata": {},
   "source": [
    "Relative phases being all important, this function phaser is shorthand to -(1)^Σargs."
   ]
  },
  {
   "cell_type": "code",
   "execution_count": 51,
   "metadata": {},
   "outputs": [
    {
     "data": {
      "text/html": [
       "<pre>✔️ 3.01 ms (2022-09-07T17:39:07/2022-09-07T17:39:07)</pre>"
      ],
      "text/plain": [
       "<IPython.core.display.HTML object>"
      ]
     },
     "metadata": {},
     "output_type": "display_data"
    },
    {
     "data": {
      "text/plain": [
       "-1"
      ]
     },
     "execution_count": 51,
     "metadata": {},
     "output_type": "execute_result"
    }
   ],
   "source": [
    "qd.phaser(-1,1,2.1,3,4,5)"
   ]
  },
  {
   "cell_type": "markdown",
   "metadata": {},
   "source": [
    "Since 2*l+1 is a common occurence, the function `tp1` (two-plus-one) is an abbreviation for it."
   ]
  },
  {
   "cell_type": "code",
   "execution_count": 52,
   "metadata": {},
   "outputs": [
    {
     "data": {
      "text/html": [
       "<pre>✔️ 1.84 ms (2022-09-07T17:39:07/2022-09-07T17:39:07)</pre>"
      ],
      "text/plain": [
       "<IPython.core.display.HTML object>"
      ]
     },
     "metadata": {},
     "output_type": "display_data"
    },
    {
     "data": {
      "text/latex": [
       "$\\displaystyle 2$"
      ],
      "text/plain": [
       "2"
      ]
     },
     "execution_count": 52,
     "metadata": {},
     "output_type": "execute_result"
    }
   ],
   "source": [
    "qd.tp1(sp.S(1)/2)"
   ]
  },
  {
   "cell_type": "markdown",
   "metadata": {},
   "source": [
    "Kronecker delta here and there."
   ]
  },
  {
   "cell_type": "code",
   "execution_count": 53,
   "metadata": {},
   "outputs": [
    {
     "data": {
      "text/html": [
       "<pre>✔️ 3.59 ms (2022-09-07T17:39:07/2022-09-07T17:39:07)</pre>"
      ],
      "text/plain": [
       "<IPython.core.display.HTML object>"
      ]
     },
     "metadata": {},
     "output_type": "display_data"
    },
    {
     "data": {
      "text/latex": [
       "$\\displaystyle \\left[\\begin{matrix}0 & 0 & 0 & 0 & 1\\\\0 & 0 & 0 & 1 & 0\\\\0 & 0 & 1 & 0 & 0\\\\0 & 1 & 0 & 0 & 0\\\\1 & 0 & 0 & 0 & 0\\end{matrix}\\right]$"
      ],
      "text/plain": [
       "Matrix([\n",
       "[0, 0, 0, 0, 1],\n",
       "[0, 0, 0, 1, 0],\n",
       "[0, 0, 1, 0, 0],\n",
       "[0, 1, 0, 0, 0],\n",
       "[1, 0, 0, 0, 0]])"
      ]
     },
     "execution_count": 53,
     "metadata": {},
     "output_type": "execute_result"
    }
   ],
   "source": [
    "sp.Matrix([[qd.kron(i,4-j) for i in range(5)] for j in range(5)])"
   ]
  },
  {
   "cell_type": "markdown",
   "metadata": {},
   "source": [
    "It can take any number of argumets."
   ]
  },
  {
   "cell_type": "code",
   "execution_count": 54,
   "metadata": {},
   "outputs": [
    {
     "data": {
      "text/html": [
       "<pre>✔️ 2.21 ms (2022-09-07T17:39:07/2022-09-07T17:39:07)</pre>"
      ],
      "text/plain": [
       "<IPython.core.display.HTML object>"
      ]
     },
     "metadata": {},
     "output_type": "display_data"
    },
    {
     "data": {
      "text/plain": [
       "(1, 0)"
      ]
     },
     "execution_count": 54,
     "metadata": {},
     "output_type": "execute_result"
    }
   ],
   "source": [
    "qd.kron(1,1,1), qd.kron(1,1,2)"
   ]
  },
  {
   "cell_type": "markdown",
   "metadata": {},
   "source": [
    "Arguments don't need to be numbers."
   ]
  },
  {
   "cell_type": "code",
   "execution_count": 55,
   "metadata": {},
   "outputs": [
    {
     "data": {
      "text/html": [
       "<pre>✔️ 2.21 ms (2022-09-07T17:39:07/2022-09-07T17:39:07)</pre>"
      ],
      "text/plain": [
       "<IPython.core.display.HTML object>"
      ]
     },
     "metadata": {},
     "output_type": "display_data"
    },
    {
     "data": {
      "text/plain": [
       "(1, 0)"
      ]
     },
     "execution_count": 55,
     "metadata": {},
     "output_type": "execute_result"
    }
   ],
   "source": [
    "qd.kron(sp.eye(3),sp.eye(3),sp.eye(3)), qd.kron(sp.eye(3),sp.eye(3),sp.eye(4))"
   ]
  },
  {
   "cell_type": "code",
   "execution_count": 56,
   "metadata": {},
   "outputs": [
    {
     "data": {
      "text/html": [
       "<pre>✔️ 1.88 ms (2022-09-07T17:39:07/2022-09-07T17:39:07)</pre>"
      ],
      "text/plain": [
       "<IPython.core.display.HTML object>"
      ]
     },
     "metadata": {},
     "output_type": "display_data"
    },
    {
     "data": {
      "text/plain": [
       "(1, 0)"
      ]
     },
     "execution_count": 56,
     "metadata": {},
     "output_type": "execute_result"
    }
   ],
   "source": [
    "qd.kron({1:1}, {1:1}), qd.kron({1:1}, {1:2})"
   ]
  },
  {
   "cell_type": "markdown",
   "metadata": {},
   "source": [
    "# > Spherical Harmonics & Related"
   ]
  },
  {
   "cell_type": "markdown",
   "metadata": {},
   "source": [
    "## >> Wigner_d, Wigner_D"
   ]
  },
  {
   "cell_type": "markdown",
   "metadata": {},
   "source": [
    "The Wigner_D matrix elements can be used to determine the effect that a rotation has on a spherical harmonic to which it is applied. For it the capital D uses the lowercase Wigner_d."
   ]
  },
  {
   "cell_type": "code",
   "execution_count": 57,
   "metadata": {},
   "outputs": [
    {
     "data": {
      "text/html": [
       "<pre>✔️ 674 µs (2022-09-07T17:39:08/2022-09-07T17:39:08)</pre>"
      ],
      "text/plain": [
       "<IPython.core.display.HTML object>"
      ]
     },
     "metadata": {},
     "output_type": "display_data"
    },
    {
     "name": "stdout",
     "output_type": "stream",
     "text": [
      "\n",
      "    Wigner_D matrix element with Condon-Shortley phase.\n",
      "\n",
      "    This  is  for  Euler angles referenced against fixed axes in\n",
      "    the  z-y-z  convention.  In this convention there is first a\n",
      "    rotation  about  the  z-axis by alpha, then a rotation about\n",
      "    the  y-axis by beta, and finally a rotation about the z-axis\n",
      "    by gamma. All these axes being fixed all throughout.\n",
      "\n",
      "    This function assumes that the spherical harmonics carry the\n",
      "    (-1)ᵐ Condon-Shortley phase.\n",
      "\n",
      "    R(α, β, γ) Yₗᵐ = Σₙ Wigner_D(l, n, m, α, β, γ) Yₗⁿ\n",
      "    with n = (-l, -l+1, ..., l-1, l)\n",
      "    \n",
      "    Parameters\n",
      "    ----------\n",
      "    l (int): ≥ 0 \n",
      "    n (int): ∈ {-l, -l+1, ... , l-1, l}\n",
      "    m (int): ∈ {-l, -l+1, ... , l-1, l}\n",
      "    alpha (float): with 0 ≤ α ≤ 2π\n",
      "    beta  (float): with 0 ≤ β ≤ π\n",
      "    gamma (float): with 0 ≤ γ ≤ 2π\n",
      "\n",
      "    Returns\n",
      "    -------\n",
      "    Wid_D (sp.S or float)\n",
      "\n",
      "    Reference\n",
      "    ---------\n",
      "    Bradley  and  Cracknell  2.1.4  (with  added Condon-Shortley\n",
      "    phase)\n",
      "    \n"
     ]
    }
   ],
   "source": [
    "print(qd.Wigner_D.__doc__)"
   ]
  },
  {
   "cell_type": "markdown",
   "metadata": {},
   "source": [
    "The matrices that are built from these matrix elements are unitary."
   ]
  },
  {
   "cell_type": "code",
   "execution_count": 58,
   "metadata": {},
   "outputs": [
    {
     "data": {
      "text/html": [
       "<pre>✔️ 50.2 ms (2022-09-07T17:39:08/2022-09-07T17:39:08)</pre>"
      ],
      "text/plain": [
       "<IPython.core.display.HTML object>"
      ]
     },
     "metadata": {},
     "output_type": "display_data"
    },
    {
     "data": {
      "text/latex": [
       "$\\displaystyle \\left[\\begin{matrix}\\left(\\frac{\\sqrt{2}}{4} + \\frac{1}{2}\\right)^{2} & - 2 i \\sqrt{\\frac{1}{2} - \\frac{\\sqrt{2}}{4}} \\left(\\frac{\\sqrt{2}}{4} + \\frac{1}{2}\\right)^{\\frac{3}{2}} & - \\sqrt{6} \\cdot \\left(\\frac{1}{2} - \\frac{\\sqrt{2}}{4}\\right) \\left(\\frac{\\sqrt{2}}{4} + \\frac{1}{2}\\right) & - 2 i \\left(\\frac{1}{2} - \\frac{\\sqrt{2}}{4}\\right)^{\\frac{3}{2}} \\sqrt{\\frac{\\sqrt{2}}{4} + \\frac{1}{2}} & \\left(\\frac{1}{2} - \\frac{\\sqrt{2}}{4}\\right)^{2}\\\\2 i \\sqrt{\\frac{1}{2} - \\frac{\\sqrt{2}}{4}} \\left(\\frac{\\sqrt{2}}{4} + \\frac{1}{2}\\right)^{\\frac{3}{2}} & - \\left(\\frac{\\sqrt{2}}{4} + \\frac{1}{2}\\right)^{2} - 3 \\left(- \\frac{1}{2} - \\frac{\\sqrt{2}}{4}\\right) \\left(\\frac{1}{2} - \\frac{\\sqrt{2}}{4}\\right) & - 2 \\sqrt{6} i \\left(- \\frac{\\sqrt{\\frac{1}{2} - \\frac{\\sqrt{2}}{4}} \\left(\\frac{\\sqrt{2}}{4} + \\frac{1}{2}\\right)^{\\frac{3}{2}}}{2} + \\frac{\\left(\\frac{1}{2} - \\frac{\\sqrt{2}}{4}\\right)^{\\frac{3}{2}} \\sqrt{\\frac{\\sqrt{2}}{4} + \\frac{1}{2}}}{2}\\right) & - 3 \\cdot \\left(\\frac{1}{2} - \\frac{\\sqrt{2}}{4}\\right) \\left(\\frac{\\sqrt{2}}{4} + \\frac{1}{2}\\right) + \\left(\\frac{1}{2} - \\frac{\\sqrt{2}}{4}\\right)^{2} & - 2 i \\left(\\frac{1}{2} - \\frac{\\sqrt{2}}{4}\\right)^{\\frac{3}{2}} \\sqrt{\\frac{\\sqrt{2}}{4} + \\frac{1}{2}}\\\\- \\sqrt{6} \\cdot \\left(\\frac{1}{2} - \\frac{\\sqrt{2}}{4}\\right) \\left(\\frac{\\sqrt{2}}{4} + \\frac{1}{2}\\right) & - 2 \\sqrt{6} i \\left(- \\frac{\\left(\\frac{1}{2} - \\frac{\\sqrt{2}}{4}\\right)^{\\frac{3}{2}} \\sqrt{\\frac{\\sqrt{2}}{4} + \\frac{1}{2}}}{2} + \\frac{\\sqrt{\\frac{1}{2} - \\frac{\\sqrt{2}}{4}} \\left(\\frac{\\sqrt{2}}{4} + \\frac{1}{2}\\right)^{\\frac{3}{2}}}{2}\\right) & 4 \\left(- \\frac{1}{2} - \\frac{\\sqrt{2}}{4}\\right) \\left(\\frac{1}{2} - \\frac{\\sqrt{2}}{4}\\right) + \\left(\\frac{1}{2} - \\frac{\\sqrt{2}}{4}\\right)^{2} + \\left(\\frac{\\sqrt{2}}{4} + \\frac{1}{2}\\right)^{2} & - 2 \\sqrt{6} i \\left(- \\frac{\\sqrt{\\frac{1}{2} - \\frac{\\sqrt{2}}{4}} \\left(\\frac{\\sqrt{2}}{4} + \\frac{1}{2}\\right)^{\\frac{3}{2}}}{2} + \\frac{\\left(\\frac{1}{2} - \\frac{\\sqrt{2}}{4}\\right)^{\\frac{3}{2}} \\sqrt{\\frac{\\sqrt{2}}{4} + \\frac{1}{2}}}{2}\\right) & - \\sqrt{6} \\cdot \\left(\\frac{1}{2} - \\frac{\\sqrt{2}}{4}\\right) \\left(\\frac{\\sqrt{2}}{4} + \\frac{1}{2}\\right)\\\\2 i \\left(\\frac{1}{2} - \\frac{\\sqrt{2}}{4}\\right)^{\\frac{3}{2}} \\sqrt{\\frac{\\sqrt{2}}{4} + \\frac{1}{2}} & - 3 \\cdot \\left(\\frac{1}{2} - \\frac{\\sqrt{2}}{4}\\right) \\left(\\frac{\\sqrt{2}}{4} + \\frac{1}{2}\\right) + \\left(\\frac{1}{2} - \\frac{\\sqrt{2}}{4}\\right)^{2} & - 2 \\sqrt{6} i \\left(- \\frac{\\left(\\frac{1}{2} - \\frac{\\sqrt{2}}{4}\\right)^{\\frac{3}{2}} \\sqrt{\\frac{\\sqrt{2}}{4} + \\frac{1}{2}}}{2} + \\frac{\\sqrt{\\frac{1}{2} - \\frac{\\sqrt{2}}{4}} \\left(\\frac{\\sqrt{2}}{4} + \\frac{1}{2}\\right)^{\\frac{3}{2}}}{2}\\right) & - \\left(\\frac{\\sqrt{2}}{4} + \\frac{1}{2}\\right)^{2} - 3 \\left(- \\frac{1}{2} - \\frac{\\sqrt{2}}{4}\\right) \\left(\\frac{1}{2} - \\frac{\\sqrt{2}}{4}\\right) & - 2 i \\sqrt{\\frac{1}{2} - \\frac{\\sqrt{2}}{4}} \\left(\\frac{\\sqrt{2}}{4} + \\frac{1}{2}\\right)^{\\frac{3}{2}}\\\\\\left(\\frac{1}{2} - \\frac{\\sqrt{2}}{4}\\right)^{2} & 2 i \\left(\\frac{1}{2} - \\frac{\\sqrt{2}}{4}\\right)^{\\frac{3}{2}} \\sqrt{\\frac{\\sqrt{2}}{4} + \\frac{1}{2}} & - \\sqrt{6} \\cdot \\left(\\frac{1}{2} - \\frac{\\sqrt{2}}{4}\\right) \\left(\\frac{\\sqrt{2}}{4} + \\frac{1}{2}\\right) & 2 i \\sqrt{\\frac{1}{2} - \\frac{\\sqrt{2}}{4}} \\left(\\frac{\\sqrt{2}}{4} + \\frac{1}{2}\\right)^{\\frac{3}{2}} & \\left(\\frac{\\sqrt{2}}{4} + \\frac{1}{2}\\right)^{2}\\end{matrix}\\right]$"
      ],
      "text/plain": [
       "Matrix([\n",
       "[                              (sqrt(2)/4 + 1/2)**2,                                                                 -2*I*sqrt(1/2 - sqrt(2)/4)*(sqrt(2)/4 + 1/2)**(3/2),                                                                        -sqrt(6)*(1/2 - sqrt(2)/4)*(sqrt(2)/4 + 1/2),                                                                 -2*I*(1/2 - sqrt(2)/4)**(3/2)*sqrt(sqrt(2)/4 + 1/2),                                (1/2 - sqrt(2)/4)**2],\n",
       "[2*I*sqrt(1/2 - sqrt(2)/4)*(sqrt(2)/4 + 1/2)**(3/2),                                                      -(sqrt(2)/4 + 1/2)**2 - 3*(-1/2 - sqrt(2)/4)*(1/2 - sqrt(2)/4), -2*sqrt(6)*I*(-sqrt(1/2 - sqrt(2)/4)*(sqrt(2)/4 + 1/2)**(3/2)/2 + (1/2 - sqrt(2)/4)**(3/2)*sqrt(sqrt(2)/4 + 1/2)/2),                                                       -3*(1/2 - sqrt(2)/4)*(sqrt(2)/4 + 1/2) + (1/2 - sqrt(2)/4)**2, -2*I*(1/2 - sqrt(2)/4)**(3/2)*sqrt(sqrt(2)/4 + 1/2)],\n",
       "[      -sqrt(6)*(1/2 - sqrt(2)/4)*(sqrt(2)/4 + 1/2), -2*sqrt(6)*I*(-(1/2 - sqrt(2)/4)**(3/2)*sqrt(sqrt(2)/4 + 1/2)/2 + sqrt(1/2 - sqrt(2)/4)*(sqrt(2)/4 + 1/2)**(3/2)/2),                                4*(-1/2 - sqrt(2)/4)*(1/2 - sqrt(2)/4) + (1/2 - sqrt(2)/4)**2 + (sqrt(2)/4 + 1/2)**2, -2*sqrt(6)*I*(-sqrt(1/2 - sqrt(2)/4)*(sqrt(2)/4 + 1/2)**(3/2)/2 + (1/2 - sqrt(2)/4)**(3/2)*sqrt(sqrt(2)/4 + 1/2)/2),        -sqrt(6)*(1/2 - sqrt(2)/4)*(sqrt(2)/4 + 1/2)],\n",
       "[2*I*(1/2 - sqrt(2)/4)**(3/2)*sqrt(sqrt(2)/4 + 1/2),                                                       -3*(1/2 - sqrt(2)/4)*(sqrt(2)/4 + 1/2) + (1/2 - sqrt(2)/4)**2, -2*sqrt(6)*I*(-(1/2 - sqrt(2)/4)**(3/2)*sqrt(sqrt(2)/4 + 1/2)/2 + sqrt(1/2 - sqrt(2)/4)*(sqrt(2)/4 + 1/2)**(3/2)/2),                                                      -(sqrt(2)/4 + 1/2)**2 - 3*(-1/2 - sqrt(2)/4)*(1/2 - sqrt(2)/4), -2*I*sqrt(1/2 - sqrt(2)/4)*(sqrt(2)/4 + 1/2)**(3/2)],\n",
       "[                              (1/2 - sqrt(2)/4)**2,                                                                  2*I*(1/2 - sqrt(2)/4)**(3/2)*sqrt(sqrt(2)/4 + 1/2),                                                                        -sqrt(6)*(1/2 - sqrt(2)/4)*(sqrt(2)/4 + 1/2),                                                                  2*I*sqrt(1/2 - sqrt(2)/4)*(sqrt(2)/4 + 1/2)**(3/2),                                (sqrt(2)/4 + 1/2)**2]])"
      ]
     },
     "metadata": {},
     "output_type": "display_data"
    }
   ],
   "source": [
    "em = sp.Matrix([[qd.Wigner_D(2,i,j,sp.pi/2,sp.pi/4,sp.pi/2) for i in qd.mrange(2)] for j in qd.mrange(2)])\n",
    "display(em)"
   ]
  },
  {
   "cell_type": "code",
   "execution_count": 59,
   "metadata": {},
   "outputs": [
    {
     "data": {
      "text/html": [
       "<pre>✔️ 3.04 s (2022-09-07T17:39:08/2022-09-07T17:39:11)</pre>"
      ],
      "text/plain": [
       "<IPython.core.display.HTML object>"
      ]
     },
     "metadata": {},
     "output_type": "display_data"
    },
    {
     "data": {
      "text/latex": [
       "$\\displaystyle \\left[\\begin{matrix}1 & 0 & 0 & 0 & 0\\\\0 & 1 & 0 & 0 & 0\\\\0 & 0 & 1 & 0 & 0\\\\0 & 0 & 0 & 1 & 0\\\\0 & 0 & 0 & 0 & 1\\end{matrix}\\right]$"
      ],
      "text/plain": [
       "Matrix([\n",
       "[1, 0, 0, 0, 0],\n",
       "[0, 1, 0, 0, 0],\n",
       "[0, 0, 1, 0, 0],\n",
       "[0, 0, 0, 1, 0],\n",
       "[0, 0, 0, 0, 1]])"
      ]
     },
     "execution_count": 59,
     "metadata": {},
     "output_type": "execute_result"
    }
   ],
   "source": [
    "sp.simplify(sp.conjugate(em.T) * em)"
   ]
  },
  {
   "cell_type": "markdown",
   "metadata": {},
   "source": [
    "## >> threeHarmonicIntegral"
   ]
  },
  {
   "cell_type": "code",
   "execution_count": 60,
   "metadata": {},
   "outputs": [
    {
     "data": {
      "text/html": [
       "<pre>✔️ 465 µs (2022-09-07T17:39:11/2022-09-07T17:39:11)</pre>"
      ],
      "text/plain": [
       "<IPython.core.display.HTML object>"
      ]
     },
     "metadata": {},
     "output_type": "display_data"
    },
    {
     "name": "stdout",
     "output_type": "stream",
     "text": [
      "\n",
      "    ∫ Yl1m1* Yl2m2 Yl3m3 dΩ\n",
      "\n",
      "    Returns the value of the three spherical harmonics integral,\n",
      "    the variety with the first one having a complex conjugate.\n",
      "\n",
      "    This  function  assumes that the spherical harmonics include\n",
      "    the Condon-Shortley phase.\n",
      "\n",
      "    It is non-zero if:\n",
      "    - l1 + l2 + l2 is even,\n",
      "    - |l1-l2| <= l3 <= l1+l2.\n",
      "\n",
      "    .. math:: \\int d\\Omega Y_{l_1,m_1}^* Y_{l_2,m_2} Y_{l_3,m_3}\n",
      "\n",
      "    Parameters\n",
      "    ----------\n",
      "    l1 (int)\n",
      "    m1 (int) ∈ (-l1, -l1+1, ... , l1-1, l1)\n",
      "    l2 (int)\n",
      "    m2 (int) ∈ (-l2, -l2+1, ... , l2-1, l2)\n",
      "    l3 (int)\n",
      "    m3 (int) ∈ (-l3, -l3+1, ... , l3-1, l3)\n",
      "    \n",
      "    Returns\n",
      "    -------\n",
      "    (sp.S)\n",
      "\n",
      "    \n"
     ]
    }
   ],
   "source": [
    "print(qd.threeHarmonicIntegral.__doc__)"
   ]
  },
  {
   "cell_type": "markdown",
   "metadata": {},
   "source": [
    "To illustrate this function, let's use a series of identities given in Arfken's book on Mathematical Methods:\n",
    "\n",
    "<center> <img src=\"notebook_imgs/2022-05-24-11-59-05.png\" style=\"width: 50%;\"/> </center>"
   ]
  },
  {
   "cell_type": "code",
   "execution_count": 61,
   "metadata": {},
   "outputs": [
    {
     "data": {
      "text/html": [
       "<pre>✔️ 6.4 ms (2022-09-07T17:39:11/2022-09-07T17:39:11)</pre>"
      ],
      "text/plain": [
       "<IPython.core.display.HTML object>"
      ]
     },
     "metadata": {},
     "output_type": "display_data"
    },
    {
     "name": "stdout",
     "output_type": "stream",
     "text": [
      "3 2\n"
     ]
    },
    {
     "data": {
      "text/latex": [
       "$\\displaystyle \\frac{\\sqrt{7}}{7 \\sqrt{\\pi}}$"
      ],
      "text/plain": [
       "sqrt(7)/(7*sqrt(pi))"
      ]
     },
     "metadata": {},
     "output_type": "display_data"
    },
    {
     "data": {
      "text/latex": [
       "$\\displaystyle 0$"
      ],
      "text/plain": [
       "0"
      ]
     },
     "metadata": {},
     "output_type": "display_data"
    }
   ],
   "source": [
    "# (b)\n",
    "L = sp.S(np.random.randint(1,10))\n",
    "M = sp.S(np.random.randint(0,int(L)))\n",
    "print(L,M)\n",
    "qdt = qd.threeHarmonicIntegral(L+1,M,1,0,L,M)\n",
    "gt = sp.sqrt(sp.S(3)/4/sp.pi) *sp.sqrt((L+M+1)*(L-M+1)/(2*L+1)/(2*L+3))\n",
    "display(qdt)\n",
    "display(sp.simplify(qdt-gt))"
   ]
  },
  {
   "cell_type": "code",
   "execution_count": 62,
   "metadata": {},
   "outputs": [
    {
     "data": {
      "text/html": [
       "<pre>✔️ 8.18 ms (2022-09-07T17:39:12/2022-09-07T17:39:12)</pre>"
      ],
      "text/plain": [
       "<IPython.core.display.HTML object>"
      ]
     },
     "metadata": {},
     "output_type": "display_data"
    },
    {
     "name": "stdout",
     "output_type": "stream",
     "text": [
      "8 1\n"
     ]
    },
    {
     "data": {
      "text/latex": [
       "$\\displaystyle - \\frac{\\sqrt{1785}}{170 \\sqrt{\\pi}}$"
      ],
      "text/plain": [
       "-sqrt(1785)/(170*sqrt(pi))"
      ]
     },
     "metadata": {},
     "output_type": "display_data"
    },
    {
     "data": {
      "text/latex": [
       "$\\displaystyle - \\frac{\\sqrt{1785}}{170 \\sqrt{\\pi}}$"
      ],
      "text/plain": [
       "-sqrt(1785)/(170*sqrt(pi))"
      ]
     },
     "metadata": {},
     "output_type": "display_data"
    },
    {
     "data": {
      "text/latex": [
       "$\\displaystyle 0$"
      ],
      "text/plain": [
       "0"
      ]
     },
     "metadata": {},
     "output_type": "display_data"
    }
   ],
   "source": [
    "# (c)\n",
    "L = sp.S(np.random.randint(1,10))\n",
    "M = sp.S(np.random.randint(0,int(L)))\n",
    "print(L,M)\n",
    "qdt = qd.threeHarmonicIntegral(L-1,M+1,1,1,L,M)\n",
    "gt = - sp.sqrt(sp.S(3)/8/sp.pi) *sp.sqrt((L-M)*(L-M-1)/(2*L-1)/(2*L+1))\n",
    "display(qdt, gt)\n",
    "display(sp.simplify(qdt-gt))"
   ]
  },
  {
   "cell_type": "markdown",
   "metadata": {},
   "source": [
    "# > LS Coupling"
   ]
  },
  {
   "cell_type": "markdown",
   "metadata": {},
   "source": [
    "## >> LS_allowed_terms"
   ]
  },
  {
   "cell_type": "code",
   "execution_count": 63,
   "metadata": {},
   "outputs": [
    {
     "data": {
      "text/html": [
       "<pre>✔️ 1.09 ms (2022-09-07T17:39:12/2022-09-07T17:39:12)</pre>"
      ],
      "text/plain": [
       "<IPython.core.display.HTML object>"
      ]
     },
     "metadata": {},
     "output_type": "display_data"
    },
    {
     "name": "stdout",
     "output_type": "stream",
     "text": [
      "\n",
      "    LS allowed terms\n",
      "\n",
      "    Calculate   the   allowed   terms   in  LS  coupling  for  homogeneous\n",
      "    configurations of equivalent electrons.\n",
      "\n",
      "    Parameters\n",
      "    ----------\n",
      "    l (int): orbital angular momentum\n",
      "    n (int): how many electrons\n",
      "\n",
      "    Returns\n",
      "    -------\n",
      "    terms (dict) with keys equal to (2S+1) multiplicities and values equal\n",
      "    to  Counter  objects  of  allowed  total  angular  momenta  (in string\n",
      "    notation).\n",
      "    \n"
     ]
    }
   ],
   "source": [
    "print(qd.LS_allowed_terms.__doc__)"
   ]
  },
  {
   "cell_type": "code",
   "execution_count": 64,
   "metadata": {},
   "outputs": [
    {
     "data": {
      "text/html": [
       "<pre>✔️ 34.4 ms (2022-09-07T17:39:12/2022-09-07T17:39:12)</pre>"
      ],
      "text/plain": [
       "<IPython.core.display.HTML object>"
      ]
     },
     "metadata": {},
     "output_type": "display_data"
    },
    {
     "name": "stdout",
     "output_type": "stream",
     "text": [
      "Counter({'D': 1})\n",
      "Counter({'G': 1, 'D': 1, 'S': 1})\n",
      "Counter({'F': 1, 'P': 1})\n",
      "Counter({'D': 2, 'H': 1, 'G': 1, 'F': 1, 'P': 1})\n",
      "Counter({'F': 1, 'P': 1})\n",
      "Counter({'G': 2, 'D': 2, 'S': 2, 'I': 1, 'F': 1})\n",
      "Counter({'F': 2, 'P': 2, 'H': 1, 'G': 1, 'D': 1})\n",
      "Counter({'D': 1})\n",
      "Counter({'D': 3, 'G': 2, 'F': 2, 'I': 1, 'H': 1, 'P': 1, 'S': 1})\n",
      "Counter({'G': 1, 'F': 1, 'D': 1, 'P': 1})\n",
      "Counter({'S': 1})\n",
      "Counter({'G': 2, 'D': 2, 'S': 2, 'I': 1, 'F': 1})\n",
      "Counter({'F': 2, 'P': 2, 'H': 1, 'G': 1, 'D': 1})\n",
      "Counter({'D': 1})\n",
      "Counter({'D': 2, 'H': 1, 'G': 1, 'F': 1, 'P': 1})\n",
      "Counter({'F': 1, 'P': 1})\n",
      "Counter({'G': 1, 'D': 1, 'S': 1})\n",
      "Counter({'F': 1, 'P': 1})\n",
      "Counter({'D': 1})\n"
     ]
    }
   ],
   "source": [
    "l = 2\n",
    "for num_electrons in range(1,10):\n",
    "    terms = qd.LS_allowed_terms(l, num_electrons)\n",
    "    for multiplicity, Lvalues in terms.items():\n",
    "        print(Lvalues)"
   ]
  },
  {
   "cell_type": "markdown",
   "metadata": {},
   "source": [
    "## >> LS basis"
   ]
  },
  {
   "cell_type": "code",
   "execution_count": 65,
   "metadata": {},
   "outputs": [
    {
     "data": {
      "text/html": [
       "<pre>✔️ 345 ms (2022-09-07T17:39:12/2022-09-07T17:39:12)</pre>"
      ],
      "text/plain": [
       "<IPython.core.display.HTML object>"
      ]
     },
     "metadata": {},
     "output_type": "display_data"
    },
    {
     "name": "stdout",
     "output_type": "stream",
     "text": [
      "Loading data for 1-body coefficients of fractional parentage...\n"
     ]
    }
   ],
   "source": [
    "from qdef.LS_basis_gen import SMSLML_gen"
   ]
  },
  {
   "cell_type": "code",
   "execution_count": 66,
   "metadata": {},
   "outputs": [
    {
     "data": {
      "text/html": [
       "<pre>✔️ 1.74 ms (2022-09-07T17:39:13/2022-09-07T17:39:13)</pre>"
      ],
      "text/plain": [
       "<IPython.core.display.HTML object>"
      ]
     },
     "metadata": {},
     "output_type": "display_data"
    },
    {
     "name": "stdout",
     "output_type": "stream",
     "text": [
      "\n",
      "    This function creates the coupled kets {S, MS, L, ML}.\n",
      "\n",
      "    Parameters\n",
      "    ----------\n",
      "    l (int)    : angular momentum of electrons\n",
      "    n_max (int): maximum number of electrons for which the basis is generated\n",
      "    \n",
      "    Returns\n",
      "    -------\n",
      "    SMSLMS_Ψs  (OrderedDict) : keys are equal to number of electrons n (1,...,n_max)\n",
      "    and  values  are OrderedDict whose keys are triples (S, L, W) and the values are\n",
      "    dictionaries  whose  keys  are quadruples (W, S, MS, L, ML) and whose values are\n",
      "    Qet  whose  keys  are  2n-tuples  (ml1, ms1, ml2, ms2, ..., mln, msn) that index\n",
      "    determinantal states.\n",
      "    \n"
     ]
    }
   ],
   "source": [
    "print(SMSLML_gen.__doc__)"
   ]
  },
  {
   "cell_type": "markdown",
   "metadata": {},
   "source": [
    "As an example let's see how this basis diagonalized the matrix representation of the Columb repulsion interaction."
   ]
  },
  {
   "cell_type": "code",
   "execution_count": 67,
   "metadata": {},
   "outputs": [
    {
     "data": {
      "text/html": [
       "<pre>✔️ 275 ms (2022-09-07T17:39:13/2022-09-07T17:39:13)</pre>"
      ],
      "text/plain": [
       "<IPython.core.display.HTML object>"
      ]
     },
     "metadata": {},
     "output_type": "display_data"
    },
    {
     "name": "stdout",
     "output_type": "stream",
     "text": [
      "> (0, 0, 1)\n",
      "> (0, 2, 1)\n",
      "> (0, 4, 1)\n",
      "> (1, 1, 1)\n",
      "> (1, 3, 1)\n"
     ]
    }
   ],
   "source": [
    "l = 2\n",
    "num_electrons = 2\n",
    "SMLSLbasis = SMSLML_gen(l, num_electrons)[num_electrons]\n",
    "ham_basis = [sum(s,tuple()) for s in qd.elementary_basis('multi equiv electron', l, num_electrons)]\n",
    "\n",
    "# using the basis one can construct the change of basis matrix\n",
    "total_basis = []\n",
    "for term, term_qets in SMLSLbasis.items():\n",
    "    print('>',term)\n",
    "    for qet_key, qet in term_qets.items():\n",
    "        pass\n",
    "        total_basis.append(qet.vec_in_basis(ham_basis))\n",
    "# this is the matrix that has written out the basis vectors in LS in terms of uncoupled basis\n",
    "# as such U is the matrix that changes from LS to U I_LS\n",
    "# as such U^(-1) is the matrix that changes from U to LS\n",
    "# as such to to change a matrix that is given in the U basis to the LS basis\n",
    "# the following product is sufficient: U^-1 A U\n",
    "U = sp.Matrix(total_basis).T\n",
    "Uinv = U.inv()"
   ]
  },
  {
   "cell_type": "code",
   "execution_count": 68,
   "metadata": {},
   "outputs": [
    {
     "data": {
      "text/html": [
       "<pre>✔️ 3.4 s (2022-09-07T17:39:13/2022-09-07T17:39:16)</pre>"
      ],
      "text/plain": [
       "<IPython.core.display.HTML object>"
      ]
     },
     "metadata": {},
     "output_type": "display_data"
    },
    {
     "name": "stdout",
     "output_type": "stream",
     "text": [
      "OK: Ham is diagonalized in the LSMLMS basis.\n"
     ]
    }
   ],
   "source": [
    "hamiltonian = qd.ham_CR(num_electrons, l)\n",
    "sham = Uinv * (hamiltonian * U)\n",
    "sham = sp.simplify(sham)\n",
    "if sham.is_diagonal():\n",
    "    print(\"OK: Ham is diagonalized in the LSMLMS basis.\")\n",
    "else:\n",
    "    print(\"Nope.\")"
   ]
  },
  {
   "cell_type": "markdown",
   "metadata": {},
   "source": [
    "# > Notation"
   ]
  },
  {
   "cell_type": "markdown",
   "metadata": {},
   "source": [
    "`notation.py` contains a few constants that facilitate converting between the character and the number representation of angular momenta.\n",
    "\n",
    "+ `qd.spectroscopic_alphabet` is a string that has all the characters that are used to represent angular momenta.\n",
    "+ `l_notation_switch` is a function that allows converting between the character and the number representation.\n",
    "+ `shell_alphabet` is a string containing the letters used to note the different shells.\n",
    "+ `subshells_in_shell`: is a dictionary whose keys are letters for shells and whose values are the subshells contained within that shell."
   ]
  },
  {
   "cell_type": "code",
   "execution_count": 69,
   "metadata": {},
   "outputs": [
    {
     "data": {
      "text/html": [
       "<pre>✔️ 2.57 ms (2022-09-07T17:39:17/2022-09-07T17:39:17)</pre>"
      ],
      "text/plain": [
       "<IPython.core.display.HTML object>"
      ]
     },
     "metadata": {},
     "output_type": "display_data"
    },
    {
     "data": {
      "text/plain": [
       "('spdfghiklmnoqrtuvwxyz', 'KLMNO')"
      ]
     },
     "execution_count": 69,
     "metadata": {},
     "output_type": "execute_result"
    }
   ],
   "source": [
    "qd.spectroscopic_alphabet, qd.shell_alphabet"
   ]
  },
  {
   "cell_type": "code",
   "execution_count": 70,
   "metadata": {},
   "outputs": [
    {
     "data": {
      "text/html": [
       "<pre>✔️ 2.43 ms (2022-09-07T17:39:17/2022-09-07T17:39:17)</pre>"
      ],
      "text/plain": [
       "<IPython.core.display.HTML object>"
      ]
     },
     "metadata": {},
     "output_type": "display_data"
    },
    {
     "data": {
      "text/plain": [
       "('d', 4)"
      ]
     },
     "execution_count": 70,
     "metadata": {},
     "output_type": "execute_result"
    }
   ],
   "source": [
    "# from number to letter, from letter to number\n",
    "qd.l_notation_switch(2), qd.l_notation_switch('g')"
   ]
  },
  {
   "cell_type": "code",
   "execution_count": 71,
   "metadata": {},
   "outputs": [
    {
     "data": {
      "text/html": [
       "<pre>✔️ 1.51 ms (2022-09-07T17:39:17/2022-09-07T17:39:17)</pre>"
      ],
      "text/plain": [
       "<IPython.core.display.HTML object>"
      ]
     },
     "metadata": {},
     "output_type": "display_data"
    },
    {
     "name": "stdout",
     "output_type": "stream",
     "text": [
      "K ['1s']\n",
      "L ['2s', '2p']\n",
      "M ['3s', '3p', '3d']\n",
      "N ['4s', '4p', '4d', '4f']\n",
      "O ['5s', '5p', '5d', '5f', '5g']\n"
     ]
    }
   ],
   "source": [
    "for shell, subshells in qd.subshells_in_shell.items():\n",
    "    print(shell, subshells)"
   ]
  },
  {
   "cell_type": "markdown",
   "metadata": {},
   "source": [
    "# > Angular Momentum"
   ]
  },
  {
   "cell_type": "markdown",
   "metadata": {},
   "source": [
    "By default iterators and matrix elements start with the most negative projection of angular momentum along the z-axis."
   ]
  },
  {
   "cell_type": "markdown",
   "metadata": {},
   "source": [
    "## >> Jmatrices "
   ]
  },
  {
   "cell_type": "code",
   "execution_count": 72,
   "metadata": {},
   "outputs": [
    {
     "data": {
      "text/html": [
       "<pre>✔️ 423 µs (2022-09-07T17:39:17/2022-09-07T17:39:17)</pre>"
      ],
      "text/plain": [
       "<IPython.core.display.HTML object>"
      ]
     },
     "metadata": {},
     "output_type": "display_data"
    },
    {
     "name": "stdout",
     "output_type": "stream",
     "text": [
      "\n",
      "    Angular momentum matrices for the given value of j. Using ħ=1.\n",
      "\n",
      "    By  default  the  matrix  elements  (i.e.  the  top-left corner of the\n",
      "    matrix)  corresponds to the most negative value of the projection onto\n",
      "    the z-axis.\n",
      "\n",
      "    Parameters\n",
      "    ----------\n",
      "    j (int or half-int): angular momentum\n",
      "    high_to_low  (Bool): if True mj = j is on top left corner of matrices\n",
      "    as_dict (Bool): whether to return a dictionary instead\n",
      "    \n",
      "    Returns\n",
      "    -------\n",
      "    if as_dict == False:\n",
      "        (Jx, Jy, Jz) (tuple) whose elements are sp.Matrix\n",
      "    else:\n",
      "        (Jxdict, Jydict, Jzdict) (tuple) whose elements are dictionaries\n",
      "        whose keys are tuples (mjrow, mjcol) and whose values are the \n",
      "        corresponding matrix elements.\n",
      "\n",
      "    \n"
     ]
    }
   ],
   "source": [
    "print(qd.Jmatrices.__doc__)"
   ]
  },
  {
   "cell_type": "code",
   "execution_count": 73,
   "metadata": {},
   "outputs": [
    {
     "data": {
      "text/html": [
       "<pre>✔️ 13 ms (2022-09-07T17:39:17/2022-09-07T17:39:17)</pre>"
      ],
      "text/plain": [
       "<IPython.core.display.HTML object>"
      ]
     },
     "metadata": {},
     "output_type": "display_data"
    },
    {
     "data": {
      "text/latex": [
       "$\\displaystyle \\left[\\begin{matrix}0 & \\frac{1}{2}\\\\\\frac{1}{2} & 0\\end{matrix}\\right]$"
      ],
      "text/plain": [
       "Matrix([\n",
       "[  0, 1/2],\n",
       "[1/2,   0]])"
      ]
     },
     "metadata": {},
     "output_type": "display_data"
    },
    {
     "data": {
      "text/latex": [
       "$\\displaystyle \\left[\\begin{matrix}0 & \\frac{i}{2}\\\\- \\frac{i}{2} & 0\\end{matrix}\\right]$"
      ],
      "text/plain": [
       "Matrix([\n",
       "[   0, I/2],\n",
       "[-I/2,   0]])"
      ]
     },
     "metadata": {},
     "output_type": "display_data"
    },
    {
     "data": {
      "text/latex": [
       "$\\displaystyle \\left[\\begin{matrix}- \\frac{1}{2} & 0\\\\0 & \\frac{1}{2}\\end{matrix}\\right]$"
      ],
      "text/plain": [
       "Matrix([\n",
       "[-1/2,   0],\n",
       "[   0, 1/2]])"
      ]
     },
     "metadata": {},
     "output_type": "display_data"
    }
   ],
   "source": [
    "j = sp.S(1)/2\n",
    "for mat in qd.Jmatrices(j):\n",
    "    display(mat)"
   ]
  },
  {
   "cell_type": "code",
   "execution_count": 74,
   "metadata": {},
   "outputs": [
    {
     "data": {
      "text/html": [
       "<pre>✔️ 8.54 ms (2022-09-07T17:39:18/2022-09-07T17:39:18)</pre>"
      ],
      "text/plain": [
       "<IPython.core.display.HTML object>"
      ]
     },
     "metadata": {},
     "output_type": "display_data"
    },
    {
     "data": {
      "text/latex": [
       "$\\displaystyle \\left[\\begin{matrix}0 & \\frac{1}{2}\\\\\\frac{1}{2} & 0\\end{matrix}\\right]$"
      ],
      "text/plain": [
       "Matrix([\n",
       "[  0, 1/2],\n",
       "[1/2,   0]])"
      ]
     },
     "metadata": {},
     "output_type": "display_data"
    },
    {
     "data": {
      "text/latex": [
       "$\\displaystyle \\left[\\begin{matrix}0 & - \\frac{i}{2}\\\\\\frac{i}{2} & 0\\end{matrix}\\right]$"
      ],
      "text/plain": [
       "Matrix([\n",
       "[  0, -I/2],\n",
       "[I/2,    0]])"
      ]
     },
     "metadata": {},
     "output_type": "display_data"
    },
    {
     "data": {
      "text/latex": [
       "$\\displaystyle \\left[\\begin{matrix}\\frac{1}{2} & 0\\\\0 & - \\frac{1}{2}\\end{matrix}\\right]$"
      ],
      "text/plain": [
       "Matrix([\n",
       "[1/2,    0],\n",
       "[  0, -1/2]])"
      ]
     },
     "metadata": {},
     "output_type": "display_data"
    }
   ],
   "source": [
    "j = sp.S(1)/2\n",
    "for mat in qd.Jmatrices(j, high_to_low=True):\n",
    "    display(mat)"
   ]
  },
  {
   "cell_type": "markdown",
   "metadata": {},
   "source": [
    "The function can also return a dictionary whose keys are 2-tuples with two ms values."
   ]
  },
  {
   "cell_type": "code",
   "execution_count": 75,
   "metadata": {},
   "outputs": [
    {
     "data": {
      "text/html": [
       "<pre>✔️ 5.47 ms (2022-09-07T17:39:18/2022-09-07T17:39:18)</pre>"
      ],
      "text/plain": [
       "<IPython.core.display.HTML object>"
      ]
     },
     "metadata": {},
     "output_type": "display_data"
    },
    {
     "data": {
      "text/plain": [
       "({(-1/2, -1/2): 0, (-1/2, 1/2): 1/2, (1/2, -1/2): 1/2, (1/2, 1/2): 0},\n",
       " {(-1/2, -1/2): 0, (-1/2, 1/2): I/2, (1/2, -1/2): -I/2, (1/2, 1/2): 0},\n",
       " {(-1/2, -1/2): -1/2, (-1/2, 1/2): 0, (1/2, -1/2): 0, (1/2, 1/2): 1/2})"
      ]
     },
     "execution_count": 75,
     "metadata": {},
     "output_type": "execute_result"
    }
   ],
   "source": [
    "j = sp.S(1)/2\n",
    "qd.Jmatrices(j, as_dict=True)"
   ]
  },
  {
   "cell_type": "markdown",
   "metadata": {},
   "source": [
    "## >> L.Smatrix "
   ]
  },
  {
   "cell_type": "code",
   "execution_count": 76,
   "metadata": {},
   "outputs": [
    {
     "data": {
      "text/html": [
       "<pre>✔️ 1.41 ms (2022-09-07T17:39:18/2022-09-07T17:39:18)</pre>"
      ],
      "text/plain": [
       "<IPython.core.display.HTML object>"
      ]
     },
     "metadata": {},
     "output_type": "display_data"
    },
    {
     "name": "stdout",
     "output_type": "stream",
     "text": [
      "\n",
      "    L⋅S for a single electron\n",
      "\n",
      "    Provide the matrix representation for L⋅S = Lx*Sx + Ly*Sy + Lz*Sz\n",
      "    in the product basis \n",
      "    [(ml1, ms1), (ml1, ms2), ... , (ml1, msn),\n",
      "     (ml2, ms1), (ml2, ms2), ... , (ml2, msn),\n",
      "     ...\n",
      "     (mlm, ms1), (ml2, ms2), ... , (ml2, msn),\n",
      "     ]\n",
      "    \n",
      "    Uses ħ=1.\n",
      "\n",
      "    Parameters\n",
      "    ----------\n",
      "    l (int or half-int): orbital angular momentum\n",
      "    s (int or half-int): spin angular momentum\n",
      "    high_to_low (Bool): if True then ml = l is on top left corner of matrices\n",
      "    as_dict (Bool): if True then the function returns a dictionary of matrix elements\n",
      "    \n",
      "    Returns\n",
      "    -------\n",
      "    if as_dict == False\n",
      "        Lsmat (sp.Matrix) a matrix for the L⋅S operator\n",
      "    else:\n",
      "        Lsdict where the keys are two tuples ((ml_row, ms_row), (ml_col, ms_col)) and\n",
      "        whose values are the corresponding matrix elements.\n",
      "\n",
      "    \n"
     ]
    }
   ],
   "source": [
    "print(qd.LSmatrix.__doc__)"
   ]
  },
  {
   "cell_type": "code",
   "execution_count": 77,
   "metadata": {},
   "outputs": [
    {
     "data": {
      "text/html": [
       "<pre>✔️ 10.3 ms (2022-09-07T17:39:18/2022-09-07T17:39:18)</pre>"
      ],
      "text/plain": [
       "<IPython.core.display.HTML object>"
      ]
     },
     "metadata": {},
     "output_type": "display_data"
    },
    {
     "data": {
      "text/latex": [
       "$\\displaystyle \\left[\\begin{array}{cccccccccccc}\\frac{3}{2} & 0 & 0 & 0 & 0 & 0 & 0 & 0 & 0 & 0 & 0 & 0\\\\0 & \\frac{1}{2} & 0 & 0 & \\frac{\\sqrt{6}}{2} & 0 & 0 & 0 & 0 & 0 & 0 & 0\\\\0 & 0 & - \\frac{1}{2} & 0 & 0 & \\sqrt{2} & 0 & 0 & 0 & 0 & 0 & 0\\\\0 & 0 & 0 & - \\frac{3}{2} & 0 & 0 & \\frac{\\sqrt{6}}{2} & 0 & 0 & 0 & 0 & 0\\\\0 & \\frac{\\sqrt{6}}{2} & 0 & 0 & 0 & 0 & 0 & 0 & 0 & 0 & 0 & 0\\\\0 & 0 & \\sqrt{2} & 0 & 0 & 0 & 0 & 0 & \\frac{\\sqrt{6}}{2} & 0 & 0 & 0\\\\0 & 0 & 0 & \\frac{\\sqrt{6}}{2} & 0 & 0 & 0 & 0 & 0 & \\sqrt{2} & 0 & 0\\\\0 & 0 & 0 & 0 & 0 & 0 & 0 & 0 & 0 & 0 & \\frac{\\sqrt{6}}{2} & 0\\\\0 & 0 & 0 & 0 & 0 & \\frac{\\sqrt{6}}{2} & 0 & 0 & - \\frac{3}{2} & 0 & 0 & 0\\\\0 & 0 & 0 & 0 & 0 & 0 & \\sqrt{2} & 0 & 0 & - \\frac{1}{2} & 0 & 0\\\\0 & 0 & 0 & 0 & 0 & 0 & 0 & \\frac{\\sqrt{6}}{2} & 0 & 0 & \\frac{1}{2} & 0\\\\0 & 0 & 0 & 0 & 0 & 0 & 0 & 0 & 0 & 0 & 0 & \\frac{3}{2}\\end{array}\\right]$"
      ],
      "text/plain": [
       "Matrix([\n",
       "[3/2,         0,       0,         0,         0,         0,         0,         0,         0,       0,         0,   0],\n",
       "[  0,       1/2,       0,         0, sqrt(6)/2,         0,         0,         0,         0,       0,         0,   0],\n",
       "[  0,         0,    -1/2,         0,         0,   sqrt(2),         0,         0,         0,       0,         0,   0],\n",
       "[  0,         0,       0,      -3/2,         0,         0, sqrt(6)/2,         0,         0,       0,         0,   0],\n",
       "[  0, sqrt(6)/2,       0,         0,         0,         0,         0,         0,         0,       0,         0,   0],\n",
       "[  0,         0, sqrt(2),         0,         0,         0,         0,         0, sqrt(6)/2,       0,         0,   0],\n",
       "[  0,         0,       0, sqrt(6)/2,         0,         0,         0,         0,         0, sqrt(2),         0,   0],\n",
       "[  0,         0,       0,         0,         0,         0,         0,         0,         0,       0, sqrt(6)/2,   0],\n",
       "[  0,         0,       0,         0,         0, sqrt(6)/2,         0,         0,      -3/2,       0,         0,   0],\n",
       "[  0,         0,       0,         0,         0,         0,   sqrt(2),         0,         0,    -1/2,         0,   0],\n",
       "[  0,         0,       0,         0,         0,         0,         0, sqrt(6)/2,         0,       0,       1/2,   0],\n",
       "[  0,         0,       0,         0,         0,         0,         0,         0,         0,       0,         0, 3/2]])"
      ]
     },
     "execution_count": 77,
     "metadata": {},
     "output_type": "execute_result"
    }
   ],
   "source": [
    "qd.LSmatrix(1, 3*qd.HALF)"
   ]
  },
  {
   "cell_type": "markdown",
   "metadata": {},
   "source": [
    "## >> Ltotal & L^2"
   ]
  },
  {
   "cell_type": "code",
   "execution_count": 78,
   "metadata": {},
   "outputs": [
    {
     "data": {
      "text/html": [
       "<pre>✔️ 534 µs (2022-09-07T17:39:18/2022-09-07T17:39:18)</pre>"
      ],
      "text/plain": [
       "<IPython.core.display.HTML object>"
      ]
     },
     "metadata": {},
     "output_type": "display_data"
    },
    {
     "name": "stdout",
     "output_type": "stream",
     "text": [
      "\n",
      "    This function returns the matrix representation of the orbital angular\n",
      "    momentum  operator  for  the  given  number  of  electrons,  using the\n",
      "    uncoupled equivalent electron basis.\n",
      "\n",
      "    Parameters\n",
      "    ----------\n",
      "    l (int): orbital angular momentum\n",
      "    num_electrons (int): how many equivalent electrons\n",
      "\n",
      "    Returns\n",
      "    -------\n",
      "    (Lx, Ly, Lz) (tuple)\n",
      "        Lx (sp.Matrix): matrix representation of Lx in the uncoupled basis\n",
      "        Ly (sp.Matrix): matrix representation of Ly in the uncoupled basis\n",
      "        Lz (sp.Matrix): matrix representation of Lz in the uncoupled basis\n",
      "    \n"
     ]
    }
   ],
   "source": [
    "print(qd.Ltotal.__doc__)"
   ]
  },
  {
   "cell_type": "code",
   "execution_count": 79,
   "metadata": {},
   "outputs": [
    {
     "data": {
      "text/html": [
       "<pre>✔️ 617 ms (2022-09-07T17:39:19/2022-09-07T17:39:19)</pre>"
      ],
      "text/plain": [
       "<IPython.core.display.HTML object>"
      ]
     },
     "metadata": {},
     "output_type": "display_data"
    },
    {
     "data": {
      "image/png": "[encoded data removed]",
      "text/plain": [
       "<Figure size 1000x600 with 6 Axes>"
      ]
     },
     "metadata": {
      "image/png": {
       "height": 526,
       "width": 804
      }
     },
     "output_type": "display_data"
    }
   ],
   "source": [
    "Lx, Ly, Lz = qd.Ltotal(2, 2)\n",
    "fig, ax = plt.subplots(nrows= 2, ncols=3, figsize=(10,6))\n",
    "\n",
    "for rowidx in [0,1]:\n",
    "    nfun = [np.real, np.imag][rowidx]\n",
    "    nlabel = ['re','im'][rowidx]\n",
    "    for colidx, (eL, lType) in enumerate(zip([Lx, Ly, Lz],['Lx','Ly','Lz'])):\n",
    "        plabel = '%s_%s' % (lType, nlabel)\n",
    "        ax[rowidx, colidx].imshow(nfun(np.array(eL).astype(np.complex64)))\n",
    "        ax[rowidx, colidx].set_title(plabel)\n",
    "plt.show()"
   ]
  },
  {
   "cell_type": "code",
   "execution_count": 80,
   "metadata": {},
   "outputs": [
    {
     "data": {
      "text/html": [
       "<pre>✔️ 177 ms (2022-09-07T17:39:19/2022-09-07T17:39:19)</pre>"
      ],
      "text/plain": [
       "<IPython.core.display.HTML object>"
      ]
     },
     "metadata": {},
     "output_type": "display_data"
    },
    {
     "data": {
      "image/png": "[encoded data removed]",
      "text/plain": [
       "<Figure size 640x480 with 1 Axes>"
      ]
     },
     "metadata": {
      "image/png": {
       "height": 414,
       "width": 417
      }
     },
     "output_type": "display_data"
    }
   ],
   "source": [
    "L2 = qd.L_squared(2, 2)\n",
    "plt.figure()\n",
    "plt.imshow(np.array(L2).astype(np.float64))\n",
    "plt.show()"
   ]
  },
  {
   "cell_type": "code",
   "execution_count": 81,
   "metadata": {},
   "outputs": [
    {
     "data": {
      "text/html": [
       "<pre>✔️ 47.6 ms (2022-09-07T17:39:20/2022-09-07T17:39:20)</pre>"
      ],
      "text/plain": [
       "<IPython.core.display.HTML object>"
      ]
     },
     "metadata": {},
     "output_type": "display_data"
    },
    {
     "data": {
      "text/plain": [
       "{20: 9, 12: 21, 6: 5, 2: 9, 0: 1}"
      ]
     },
     "execution_count": 81,
     "metadata": {},
     "output_type": "execute_result"
    }
   ],
   "source": [
    "L2.eigenvals()"
   ]
  },
  {
   "cell_type": "markdown",
   "metadata": {},
   "source": [
    "## > Multi-Electron matrix elements"
   ]
  },
  {
   "cell_type": "markdown",
   "metadata": {},
   "source": [
    "## >> single_electron_braket"
   ]
  },
  {
   "cell_type": "code",
   "execution_count": 82,
   "metadata": {},
   "outputs": [
    {
     "data": {
      "text/html": [
       "<pre>✔️ 381 µs (2022-09-07T17:39:20/2022-09-07T17:39:20)</pre>"
      ],
      "text/plain": [
       "<IPython.core.display.HTML object>"
      ]
     },
     "metadata": {},
     "output_type": "display_data"
    },
    {
     "name": "stdout",
     "output_type": "stream",
     "text": [
      "\n",
      "    Given  two qets qet0 and qet1 composed of determinantal states, and an\n",
      "    assumed single particle operator op that is extended by addition to an\n",
      "    n-particle operator, this function returns the value of the braket\n",
      "    \n",
      "      <qet0| \\sum_1^N op_i |qet1>\n",
      "\n",
      "    in terms of brakets of single electron orbitals.\n",
      "\n",
      "    Spin is assumed to be integrated in the notation for the symbols where\n",
      "    a  symbol  that  is  adorned with an upper bar is assumed to have spin\n",
      "    down and one without to have spin up.\n",
      "\n",
      "    Parameters\n",
      "    ----------\n",
      "    qet0       (qdefcore.Qet): a qet\n",
      "    qet1       (qdefcore.Qet): another qet\n",
      "\n",
      "    Returns\n",
      "    -------\n",
      "    full_braket  (qdefcore.Qet): with each key having three symbols, first\n",
      "    one  equal  to  a  single  electron  orbital,  second one equal to the\n",
      "    provided  single electron operator, and the third one equal to another\n",
      "    single electron orbital. Interpreted as <φi | (op)* | φj>.\n",
      "\n",
      "    *  The  operator  is omitted and is assumed to be in the middle of the\n",
      "    two symbols.\n",
      "\n",
      "    References\n",
      "    ----------\n",
      "    -   \"Multiplets of Transition-Metal Ions in Crystals\", Chapter 3\n",
      "        Sugano, Tanabe, and Kamimura\n",
      "    \n"
     ]
    }
   ],
   "source": [
    "print(qd.single_electron_braket.__doc__)"
   ]
  },
  {
   "cell_type": "markdown",
   "metadata": {},
   "source": [
    "As an example lets take the multi equivalent electron basis for four d-electrons. Picke the first to and compute the expression that would sufficient to find the values of a single electron operator (that is understood to have been extended to a multi-electron operator through addition)."
   ]
  },
  {
   "cell_type": "code",
   "execution_count": 83,
   "metadata": {},
   "outputs": [
    {
     "data": {
      "text/html": [
       "<pre>✔️ 1.47 ms (2022-09-07T17:39:20/2022-09-07T17:39:20)</pre>"
      ],
      "text/plain": [
       "<IPython.core.display.HTML object>"
      ]
     },
     "metadata": {},
     "output_type": "display_data"
    }
   ],
   "source": [
    "qets = qd.elementary_basis('multi equiv electron', 2, 3, as_qets=True)\n",
    "qet0, qet1 = qets[:2]"
   ]
  },
  {
   "cell_type": "code",
   "execution_count": 84,
   "metadata": {},
   "outputs": [
    {
     "data": {
      "text/html": [
       "<pre>✔️ 3.85 ms (2022-09-07T17:39:20/2022-09-07T17:39:20)</pre>"
      ],
      "text/plain": [
       "<IPython.core.display.HTML object>"
      ]
     },
     "metadata": {},
     "output_type": "display_data"
    },
    {
     "data": {
      "text/latex": [
       "$\\displaystyle {\\left|\\left( \\left( -2, \\  - \\frac{1}{2}\\right), \\  \\left( -2, \\  \\frac{1}{2}\\right), \\  \\left( -1, \\  - \\frac{1}{2}\\right)\\right)\\right\\rangle }$"
      ],
      "text/plain": [
       "|((-2, -1/2), (-2, 1/2), (-1, -1/2))>"
      ]
     },
     "metadata": {},
     "output_type": "display_data"
    },
    {
     "data": {
      "text/latex": [
       "$\\displaystyle {\\left|\\left( \\left( -2, \\  - \\frac{1}{2}\\right), \\  \\left( -2, \\  \\frac{1}{2}\\right), \\  \\left( -1, \\  \\frac{1}{2}\\right)\\right)\\right\\rangle }$"
      ],
      "text/plain": [
       "|((-2, -1/2), (-2, 1/2), (-1, 1/2))>"
      ]
     },
     "metadata": {},
     "output_type": "display_data"
    }
   ],
   "source": [
    "display(qet0.as_ket())\n",
    "display(qet1.as_ket())"
   ]
  },
  {
   "cell_type": "code",
   "execution_count": 85,
   "metadata": {},
   "outputs": [
    {
     "data": {
      "text/html": [
       "<pre>✔️ 5.42 ms (2022-09-07T17:39:20/2022-09-07T17:39:20)</pre>"
      ],
      "text/plain": [
       "<IPython.core.display.HTML object>"
      ]
     },
     "metadata": {},
     "output_type": "display_data"
    },
    {
     "data": {
      "text/latex": [
       "$\\displaystyle \\left[\\begin{matrix}\\left\\langle \\left( -2, \\  - \\frac{1}{2}\\right) \\right. {\\left|\\left( -2, \\  - \\frac{1}{2}\\right)\\right\\rangle } + \\left\\langle \\left( -2, \\  \\frac{1}{2}\\right) \\right. {\\left|\\left( -2, \\  \\frac{1}{2}\\right)\\right\\rangle } + \\left\\langle \\left( -1, \\  - \\frac{1}{2}\\right) \\right. {\\left|\\left( -1, \\  - \\frac{1}{2}\\right)\\right\\rangle } & \\left\\langle \\left( -1, \\  - \\frac{1}{2}\\right) \\right. {\\left|\\left( -1, \\  \\frac{1}{2}\\right)\\right\\rangle }\\\\\\left\\langle \\left( -1, \\  \\frac{1}{2}\\right) \\right. {\\left|\\left( -1, \\  - \\frac{1}{2}\\right)\\right\\rangle } & \\left\\langle \\left( -2, \\  - \\frac{1}{2}\\right) \\right. {\\left|\\left( -2, \\  - \\frac{1}{2}\\right)\\right\\rangle } + \\left\\langle \\left( -2, \\  \\frac{1}{2}\\right) \\right. {\\left|\\left( -2, \\  \\frac{1}{2}\\right)\\right\\rangle } + \\left\\langle \\left( -1, \\  \\frac{1}{2}\\right) \\right. {\\left|\\left( -1, \\  \\frac{1}{2}\\right)\\right\\rangle }\\end{matrix}\\right]$"
      ],
      "text/plain": [
       "Matrix([\n",
       "[<(-2, -1/2)|(-2, -1/2)> + <(-2, 1/2)|(-2, 1/2)> + <(-1, -1/2)|(-1, -1/2)>,                                                  <(-1, -1/2)|(-1, 1/2)>],\n",
       "[                                                   <(-1, 1/2)|(-1, -1/2)>, <(-2, -1/2)|(-2, -1/2)> + <(-2, 1/2)|(-2, 1/2)> + <(-1, 1/2)|(-1, 1/2)>]])"
      ]
     },
     "execution_count": 85,
     "metadata": {},
     "output_type": "execute_result"
    }
   ],
   "source": [
    "sp.Matrix([[qd.single_electron_braket(q0, q1).as_braket() for q1 in [qet0,qet1]] for q0 in [qet0, qet1]])"
   ]
  },
  {
   "cell_type": "markdown",
   "metadata": {},
   "source": [
    "As such, matrix elements between objects that had three electrons are simplified to sums of matrix elements for the single electron matrix representation."
   ]
  },
  {
   "cell_type": "markdown",
   "metadata": {},
   "source": [
    "## >> double_electron_braket"
   ]
  },
  {
   "cell_type": "code",
   "execution_count": 86,
   "metadata": {},
   "outputs": [
    {
     "data": {
      "text/html": [
       "<pre>✔️ 1.63 ms (2022-09-07T17:39:21/2022-09-07T17:39:21)</pre>"
      ],
      "text/plain": [
       "<IPython.core.display.HTML object>"
      ]
     },
     "metadata": {},
     "output_type": "display_data"
    },
    {
     "name": "stdout",
     "output_type": "stream",
     "text": [
      "\n",
      "    Given  two  qets,  which  are  assumed to be composed of determinantal\n",
      "    states, and a two electron operator op, return value of the braket\n",
      "\n",
      "      <qet0| \\sum_{i>j=1}^N f_i,j |qet1> \n",
      "    \n",
      "    in terms of brakets of double electron orbitals.\n",
      "\n",
      "    Parameters\n",
      "    ----------\n",
      "    qet0    (qdefcore.Qet): a qet of determinantal states\n",
      "    qet1    (qdefcore.Qet): a qet of determinantal states\n",
      "\n",
      "    Returns\n",
      "    -------\n",
      "    full_braket  (qdefcore.Qet):  with each key having five symbols, first\n",
      "    two equal to a two electron orbitals, middle one equal to the provided\n",
      "    double  electron  operator,  and the last two equal to another pair of\n",
      "    two  single  electron  orbitals;  interpreted as <φi, φj | (op)* | φk,\n",
      "    φl>. \n",
      "    \n",
      "    *  The  operator  is omitted and is assumed to be in the middle of the\n",
      "    four symbols.\n",
      "\n",
      "    References\n",
      "    ----------\n",
      "    -   \"Multiplets of Transition-Metal Ions in Crystals\", Chapter 3\n",
      "        Sugano, Tanabe, and Kamimura\n",
      "    \n"
     ]
    }
   ],
   "source": [
    "print(qd.double_electron_braket.__doc__)"
   ]
  },
  {
   "cell_type": "markdown",
   "metadata": {},
   "source": [
    "As an example lets take the multi equivalent electron basis for four d-electrons. Picke the first to and compute the expression that would sufficient to find the values of a single electron operator (that is understood to have been extended to a multi-electron operator through addition)."
   ]
  },
  {
   "cell_type": "code",
   "execution_count": 87,
   "metadata": {},
   "outputs": [
    {
     "data": {
      "text/html": [
       "<pre>✔️ 1.61 ms (2022-09-07T17:39:21/2022-09-07T17:39:21)</pre>"
      ],
      "text/plain": [
       "<IPython.core.display.HTML object>"
      ]
     },
     "metadata": {},
     "output_type": "display_data"
    }
   ],
   "source": [
    "qets = qd.elementary_basis('multi equiv electron', 2, 3, as_qets=True)\n",
    "qet0, qet1 = qets[:2]"
   ]
  },
  {
   "cell_type": "code",
   "execution_count": 88,
   "metadata": {},
   "outputs": [
    {
     "data": {
      "text/html": [
       "<pre>✔️ 4.22 ms (2022-09-07T17:39:21/2022-09-07T17:39:21)</pre>"
      ],
      "text/plain": [
       "<IPython.core.display.HTML object>"
      ]
     },
     "metadata": {},
     "output_type": "display_data"
    },
    {
     "data": {
      "text/latex": [
       "$\\displaystyle {\\left|\\left( \\left( -2, \\  - \\frac{1}{2}\\right), \\  \\left( -2, \\  \\frac{1}{2}\\right), \\  \\left( -1, \\  - \\frac{1}{2}\\right)\\right)\\right\\rangle }$"
      ],
      "text/plain": [
       "|((-2, -1/2), (-2, 1/2), (-1, -1/2))>"
      ]
     },
     "metadata": {},
     "output_type": "display_data"
    },
    {
     "data": {
      "text/latex": [
       "$\\displaystyle {\\left|\\left( \\left( -2, \\  - \\frac{1}{2}\\right), \\  \\left( -2, \\  \\frac{1}{2}\\right), \\  \\left( -1, \\  \\frac{1}{2}\\right)\\right)\\right\\rangle }$"
      ],
      "text/plain": [
       "|((-2, -1/2), (-2, 1/2), (-1, 1/2))>"
      ]
     },
     "metadata": {},
     "output_type": "display_data"
    }
   ],
   "source": [
    "display(qet0.as_ket())\n",
    "display(qet1.as_ket())"
   ]
  },
  {
   "cell_type": "code",
   "execution_count": 89,
   "metadata": {},
   "outputs": [
    {
     "data": {
      "text/html": [
       "<pre>✔️ 4.77 ms (2022-09-07T17:39:21/2022-09-07T17:39:21)</pre>"
      ],
      "text/plain": [
       "<IPython.core.display.HTML object>"
      ]
     },
     "metadata": {},
     "output_type": "display_data"
    },
    {
     "data": {
      "text/latex": [
       "$\\displaystyle - \\left\\langle \\left( -1, \\  - \\frac{1}{2}\\right)\\left( -2, \\  - \\frac{1}{2}\\right) \\right. {\\left|\\left( -2, \\  - \\frac{1}{2}\\right)\\left( -1, \\  \\frac{1}{2}\\right)\\right\\rangle } + \\left\\langle \\left( -1, \\  - \\frac{1}{2}\\right)\\left( -2, \\  - \\frac{1}{2}\\right) \\right. {\\left|\\left( -1, \\  \\frac{1}{2}\\right)\\left( -2, \\  - \\frac{1}{2}\\right)\\right\\rangle } - \\left\\langle \\left( -1, \\  - \\frac{1}{2}\\right)\\left( -2, \\  \\frac{1}{2}\\right) \\right. {\\left|\\left( -2, \\  \\frac{1}{2}\\right)\\left( -1, \\  \\frac{1}{2}\\right)\\right\\rangle } + \\left\\langle \\left( -1, \\  - \\frac{1}{2}\\right)\\left( -2, \\  \\frac{1}{2}\\right) \\right. {\\left|\\left( -1, \\  \\frac{1}{2}\\right)\\left( -2, \\  \\frac{1}{2}\\right)\\right\\rangle }$"
      ],
      "text/plain": [
       "-<(-1, -1/2)(-2, -1/2)|(-2, -1/2)(-1, 1/2)> + <(-1, -1/2)(-2, -1/2)|(-1, 1/2)(-2, -1/2)> - <(-1, -1/2)(-2, 1/2)|(-2, 1/2)(-1, 1/2)> + <(-1, -1/2)(-2, 1/2)|(-1, 1/2)(-2, 1/2)>"
      ]
     },
     "execution_count": 89,
     "metadata": {},
     "output_type": "execute_result"
    }
   ],
   "source": [
    "qd.double_electron_braket(qet0, qet1).as_braket()"
   ]
  },
  {
   "cell_type": "markdown",
   "metadata": {},
   "source": [
    "As such, this matrix element that had three electrons is simplified to a sum of matrix elements of two-body matrix elements."
   ]
  },
  {
   "cell_type": "markdown",
   "metadata": {},
   "source": [
    "# > Hamiltonians"
   ]
  },
  {
   "cell_type": "markdown",
   "metadata": {},
   "source": [
    "## >> S^2"
   ]
  },
  {
   "cell_type": "code",
   "execution_count": 90,
   "metadata": {},
   "outputs": [
    {
     "data": {
      "text/html": [
       "<pre>✔️ 853 µs (2022-09-07T17:39:21/2022-09-07T17:39:21)</pre>"
      ],
      "text/plain": [
       "<IPython.core.display.HTML object>"
      ]
     },
     "metadata": {},
     "output_type": "display_data"
    },
    {
     "name": "stdout",
     "output_type": "stream",
     "text": [
      "\n",
      "    Provides  the  matrix  representation of the S^2 operator in\n",
      "    the determinantal uncoupled basis.\n",
      "\n",
      "    Parameters\n",
      "    ----------\n",
      "    num_electrons  : how many electrons.\n",
      "    l              : orbital angular momentum of electrons.\n",
      "    sparse         : whether to return a sparse sympy Matrix.\n",
      "\n",
      "    Returns\n",
      "    -------\n",
      "    s2operator (sp.Matrix)\n",
      "\n",
      "    \n"
     ]
    }
   ],
   "source": [
    "print(qd.S_squared.__doc__)"
   ]
  },
  {
   "cell_type": "code",
   "execution_count": 91,
   "metadata": {},
   "outputs": [
    {
     "data": {
      "text/html": [
       "<pre>✔️ 24.2 s (2022-09-07T17:39:21/2022-09-07T17:39:46)</pre>"
      ],
      "text/plain": [
       "<IPython.core.display.HTML object>"
      ]
     },
     "metadata": {},
     "output_type": "display_data"
    }
   ],
   "source": [
    "# For 3 d-electrons, the total possible spin is 1/2 or 3/2\n",
    "# 1/2 can be had in two different ways and 3/2 in single one\n",
    "# As such the spectrum of the operator S^2 should be: 3/4, 15/4\n",
    "sq = qd.S_squared(3, 3)"
   ]
  },
  {
   "cell_type": "code",
   "execution_count": 92,
   "metadata": {},
   "outputs": [
    {
     "data": {
      "text/html": [
       "<pre>✔️ 154 ms (2022-09-07T17:39:46/2022-09-07T17:39:46)</pre>"
      ],
      "text/plain": [
       "<IPython.core.display.HTML object>"
      ]
     },
     "metadata": {},
     "output_type": "display_data"
    },
    {
     "data": {
      "text/plain": [
       "{15/4: 140, 3/4: 224}"
      ]
     },
     "execution_count": 92,
     "metadata": {},
     "output_type": "execute_result"
    }
   ],
   "source": [
    "sq.eigenvals()"
   ]
  },
  {
   "cell_type": "markdown",
   "metadata": {},
   "source": [
    "## >> ham_CR_CF_SO_TO"
   ]
  },
  {
   "cell_type": "code",
   "execution_count": 93,
   "metadata": {},
   "outputs": [
    {
     "data": {
      "text/html": [
       "<pre>✔️ 376 µs (2022-09-07T17:39:46/2022-09-07T17:39:46)</pre>"
      ],
      "text/plain": [
       "<IPython.core.display.HTML object>"
      ]
     },
     "metadata": {},
     "output_type": "display_data"
    },
    {
     "name": "stdout",
     "output_type": "stream",
     "text": [
      "    \n",
      "    This  function  provides  the  matrix  representation of a Hamiltonian\n",
      "    which includes the following interactions:\n",
      "\n",
      "    - CR: the Coulomb repulsion between electrons (two-body),\n",
      "    - CF: the crystal field term of the given symmetry (one-body),\n",
      "    - SO: the spin-orbit interaction (one-body),\n",
      "    - TO: and   the   Trees effective operator α_T L(L+1) (two-body + one-\n",
      "    body).\n",
      "\n",
      "    The  basis  used  is  the  \"multi equiv electron\" basis as provided by\n",
      "    qd.elementary_basis, which is a basis composed  of  elementary  Slater\n",
      "    determinants of the form ((ml1,ms1),(ml2,ms2),...,(mln,msn)).\n",
      "\n",
      "    The symbols associated with each term are:\n",
      "\n",
      "    - crystal field: B_{i,j}\n",
      "    - Coulomb repulsion: F^{(k)}\n",
      "    - spin-orbit interacion: \\zeta_{SO}\n",
      "    - Trees operator: \\alpha_T\n",
      "\n",
      "    Since  all  these  interactions  aggregate  by  simple  addition,  the\n",
      "    resulting matrix can be separated according to the  above  symbols  to\n",
      "    separate the individual interactions.\n",
      "\n",
      "    The  contribution  to the total energy, as provided by the interaction\n",
      "    with  the  nuclear  charge  does  not  figure  here  because it merely\n",
      "    provides  a  constant  shift to all the energy levels included in this\n",
      "    single-configuration approximation.\n",
      "\n",
      "    The  Coulomb  repulsion appears as Slater integrals of several orders,\n",
      "    and  the  crystal  field  contribution as a function of the parameters\n",
      "    that parametrize it according to the corresponding symmetry group.\n",
      "\n",
      "    The  two-electron  and  one-electron operators are evaluated using the\n",
      "    Slater-Condon rules.\n",
      "\n",
      "    The  resulting  matrix is square with size d X d with d = sp.binomial(\n",
      "    2*2*l(+1),  num_electrons), which equals how many spin orbitals can be\n",
      "    assigned to the given number of electrons.\n",
      "\n",
      "    Parameters\n",
      "    ----------\n",
      "    num_electrons (int): how many electrons are there.\n",
      "    l             (int): angular momentum of pressumed ground state\n",
      "    group_label   (str): label for one of the 32 c. point groups.\n",
      "    sparse (Bool): if True then the returned matrix is sp.SparseMatrix\n",
      "\n",
      "    Returns\n",
      "    -------\n",
      "    if sparse:\n",
      "        hamiltonian (sp.MutableSparseMatrix)\n",
      "    else:\n",
      "        hamiltonian (sp.Matrix)\n",
      "\n",
      "    \n"
     ]
    }
   ],
   "source": [
    "print(qd.ham_CR_CF_SO_TO.__doc__)"
   ]
  },
  {
   "cell_type": "markdown",
   "metadata": {},
   "source": [
    "As an example let's compute the Tanabe-Sugano diagram for a d^2 configuration."
   ]
  },
  {
   "cell_type": "code",
   "execution_count": 94,
   "metadata": {},
   "outputs": [
    {
     "data": {
      "text/html": [
       "<pre>✔️ 1.04 s (2022-09-07T17:39:46/2022-09-07T17:39:47)</pre>"
      ],
      "text/plain": [
       "<IPython.core.display.HTML object>"
      ]
     },
     "metadata": {},
     "output_type": "display_data"
    },
    {
     "data": {
      "image/png": "[encoded data removed]",
      "text/plain": [
       "<Figure size 400x700 with 1 Axes>"
      ]
     },
     "metadata": {
      "image/png": {
       "height": 607,
       "width": 381
      }
     },
     "output_type": "display_data"
    }
   ],
   "source": [
    "Dq = sp.Symbol('Dq')\n",
    "Dqs = np.linspace(0,4,30)\n",
    "\n",
    "hamiltonian = qd.ham_CR_CF_SO_TO(2, 2, 'O')\n",
    "hamiltonian = hamiltonian.subs({sp.Symbol('\\zeta_{SO}'): 0, \n",
    "                                sp.Symbol('\\\\alpha_T') : 0\n",
    "                                })\n",
    "hamiltonian = hamiltonian.subs(qd.SLATER_TO_RACAH)\n",
    "hamiltonian = hamiltonian.subs({sp.Symbol('A'):0,\n",
    "                                sp.Symbol('B_{4,0}'):21*Dq,\n",
    "                                sp.Symbol('B'):1,\n",
    "                                sp.Symbol('C'):sp.Symbol('\\gamma_{CB}')})\n",
    "# for V3+\n",
    "hamiltonian = hamiltonian.subs({sp.Symbol('\\gamma_{CB}'): 4.42})\n",
    "energies = []\n",
    "for Dqval in Dqs:\n",
    "    num_ham = hamiltonian.subs({Dq: Dqval})\n",
    "    ham_energies = np.linalg.eigvals(np.array(num_ham).astype(np.float64))\n",
    "    ham_energies = np.real(ham_energies)\n",
    "    ham_energies = np.sort(ham_energies)\n",
    "    ham_energies = ham_energies - ham_energies[0]\n",
    "    energies.append(ham_energies)\n",
    "energies = np.array(energies)\n",
    "energies = energies.T\n",
    "\n",
    "# For comparison see TSK Fig 5.1\n",
    "plt.figure(figsize=(4,7))\n",
    "for row in energies:\n",
    "    plt.plot(Dqs, row,'k',ms=1)\n",
    "plt.ylim(0,70)\n",
    "plt.xlim(0,4)\n",
    "plt.xlabel('Dq/B')\n",
    "plt.ylabel('E/B')\n",
    "plt.show()"
   ]
  },
  {
   "cell_type": "markdown",
   "metadata": {},
   "source": [
    "<center> <img src=\"notebook_imgs/2022-09-04-15-22-59.png\" style=\"width: 75%;\"/> </center>"
   ]
  },
  {
   "cell_type": "markdown",
   "metadata": {},
   "source": [
    "And for a d^3 configuration."
   ]
  },
  {
   "cell_type": "code",
   "execution_count": 95,
   "metadata": {},
   "outputs": [
    {
     "data": {
      "text/html": [
       "<pre>✔️ 5.26 s (2022-09-07T17:39:47/2022-09-07T17:39:53)</pre>"
      ],
      "text/plain": [
       "<IPython.core.display.HTML object>"
      ]
     },
     "metadata": {},
     "output_type": "display_data"
    },
    {
     "data": {
      "image/png": "[encoded data removed]",
      "text/plain": [
       "<Figure size 400x700 with 1 Axes>"
      ]
     },
     "metadata": {
      "image/png": {
       "height": 607,
       "width": 381
      }
     },
     "output_type": "display_data"
    }
   ],
   "source": [
    "Dq = sp.Symbol('Dq')\n",
    "Dqs = np.linspace(0,4,30)\n",
    "\n",
    "hamiltonian = qd.ham_CR_CF_SO_TO(3, 2, 'O')\n",
    "hamiltonian = hamiltonian.subs({sp.Symbol('\\zeta_{SO}'): 0, \n",
    "                                sp.Symbol('\\\\alpha_T') : 0\n",
    "                                })\n",
    "hamiltonian = hamiltonian.subs(qd.SLATER_TO_RACAH)\n",
    "hamiltonian = hamiltonian.subs({sp.Symbol('A'):0,\n",
    "                                sp.Symbol('B_{4,0}'):21*Dq,\n",
    "                                sp.Symbol('B'):1,\n",
    "                                sp.Symbol('C'):sp.Symbol('\\gamma_{CB}')})\n",
    "# for Cr3+\n",
    "hamiltonian = hamiltonian.subs({sp.Symbol('\\gamma_{CB}'): 4.5})\n",
    "energies = []\n",
    "for Dqval in Dqs:\n",
    "    num_ham = hamiltonian.subs({Dq: Dqval})\n",
    "    ham_energies = np.linalg.eigvals(np.array(num_ham).astype(np.float64))\n",
    "    ham_energies = np.real(ham_energies)\n",
    "    ham_energies = np.sort(ham_energies)\n",
    "    ham_energies = ham_energies - ham_energies[0]\n",
    "    energies.append(ham_energies)\n",
    "energies = np.array(energies)\n",
    "energies = energies.T\n",
    "\n",
    "# For comparison see TSK Fig 5.3\n",
    "plt.figure(figsize=(4,7))\n",
    "for row in energies:\n",
    "    plt.plot(Dqs, row,'k',ms=1)\n",
    "plt.ylim(0,70)\n",
    "plt.xlim(0,4)\n",
    "plt.xlabel('Dq/B')\n",
    "plt.ylabel('E/B')\n",
    "plt.show()"
   ]
  },
  {
   "cell_type": "markdown",
   "metadata": {},
   "source": [
    "<center> <img src=\"notebook_imgs/2022-09-04-11-58-28.png\" style=\"width: 75%;\"/> </center>"
   ]
  },
  {
   "cell_type": "markdown",
   "metadata": {},
   "source": [
    "# > Optical Operators"
   ]
  },
  {
   "cell_type": "markdown",
   "metadata": {},
   "source": [
    "## >> Magnetic Dipole Operator"
   ]
  },
  {
   "cell_type": "code",
   "execution_count": 96,
   "metadata": {},
   "outputs": [
    {
     "data": {
      "text/html": [
       "<pre>✔️ 969 µs (2022-09-07T17:39:53/2022-09-07T17:39:53)</pre>"
      ],
      "text/plain": [
       "<IPython.core.display.HTML object>"
      ]
     },
     "metadata": {},
     "output_type": "display_data"
    },
    {
     "name": "stdout",
     "output_type": "stream",
     "text": [
      "\n",
      "    Magnetic dipole operator matrix elements.\n",
      "\n",
      "    Compute  the  matrix  elements  of the magnetic dipole operator in the\n",
      "    standard basis for a system with the given number of electrons.\n",
      "\n",
      "        μ = -\\mu_B * (L + g_s S)\n",
      "\n",
      "    Parameters\n",
      "    ----------\n",
      "    num_electrons (int) :\n",
      "    l             (l)   :\n",
      "\n",
      "    Returns\n",
      "    -------\n",
      "    mag_dip_matrices, mag_dip_operators (tuple) with\n",
      "        mag_dip_matrices  (OrderedDict): with keys 'x', 'y', 'z' and\n",
      "        values  sp.Matrix \n",
      "        mag_dip_operators (OrderedDict): with keys\n",
      "        'x',  'y',  'z' and values OrderedDict whose keys are tuples\n",
      "        with as many SpinOrbital as num_electrons there are.\n",
      "    \n",
      "    \n"
     ]
    }
   ],
   "source": [
    "print(qd.standard_mag_dip.__doc__)"
   ]
  },
  {
   "cell_type": "code",
   "execution_count": 97,
   "metadata": {},
   "outputs": [
    {
     "data": {
      "text/html": [
       "<pre>✔️ 9.28 ms (2022-09-07T17:39:53/2022-09-07T17:39:53)</pre>"
      ],
      "text/plain": [
       "<IPython.core.display.HTML object>"
      ]
     },
     "metadata": {},
     "output_type": "display_data"
    }
   ],
   "source": [
    "mdip = qd.standard_mag_dip(2, qd.HALF)"
   ]
  },
  {
   "cell_type": "code",
   "execution_count": 98,
   "metadata": {},
   "outputs": [
    {
     "data": {
      "text/html": [
       "<pre>✔️ 8.84 ms (2022-09-07T17:39:53/2022-09-07T17:39:53)</pre>"
      ],
      "text/plain": [
       "<IPython.core.display.HTML object>"
      ]
     },
     "metadata": {},
     "output_type": "display_data"
    },
    {
     "name": "stdout",
     "output_type": "stream",
     "text": [
      "x\n"
     ]
    },
    {
     "data": {
      "text/latex": [
       "$\\displaystyle \\left[\\begin{matrix}0 & 0 & - \\frac{g_{s}}{2} & \\frac{g_{s}}{2} & 0 & 0\\\\0 & 0 & - \\frac{1}{2} & - \\frac{1}{2} & 0 & 0\\\\- \\frac{g_{s}}{2} & - \\frac{1}{2} & 0 & 0 & - \\frac{1}{2} & - \\frac{g_{s}}{2}\\\\\\frac{g_{s}}{2} & - \\frac{1}{2} & 0 & 0 & - \\frac{1}{2} & \\frac{g_{s}}{2}\\\\0 & 0 & - \\frac{1}{2} & - \\frac{1}{2} & 0 & 0\\\\0 & 0 & - \\frac{g_{s}}{2} & \\frac{g_{s}}{2} & 0 & 0\\end{matrix}\\right]$"
      ],
      "text/plain": [
       "Matrix([\n",
       "[     0,    0, -g_s/2, g_s/2,    0,      0],\n",
       "[     0,    0,   -1/2,  -1/2,    0,      0],\n",
       "[-g_s/2, -1/2,      0,     0, -1/2, -g_s/2],\n",
       "[ g_s/2, -1/2,      0,     0, -1/2,  g_s/2],\n",
       "[     0,    0,   -1/2,  -1/2,    0,      0],\n",
       "[     0,    0, -g_s/2, g_s/2,    0,      0]])"
      ]
     },
     "metadata": {},
     "output_type": "display_data"
    },
    {
     "name": "stdout",
     "output_type": "stream",
     "text": [
      "y\n"
     ]
    },
    {
     "data": {
      "text/latex": [
       "$\\displaystyle \\left[\\begin{matrix}0 & 0 & - \\frac{i g_{s}}{2} & \\frac{i g_{s}}{2} & 0 & 0\\\\0 & 0 & - \\frac{i}{2} & - \\frac{i}{2} & 0 & 0\\\\\\frac{i g_{s}}{2} & \\frac{i}{2} & 0 & 0 & - \\frac{i}{2} & - \\frac{i g_{s}}{2}\\\\- \\frac{i g_{s}}{2} & \\frac{i}{2} & 0 & 0 & - \\frac{i}{2} & \\frac{i g_{s}}{2}\\\\0 & 0 & \\frac{i}{2} & \\frac{i}{2} & 0 & 0\\\\0 & 0 & \\frac{i g_{s}}{2} & - \\frac{i g_{s}}{2} & 0 & 0\\end{matrix}\\right]$"
      ],
      "text/plain": [
       "Matrix([\n",
       "[       0,   0, -I*g_s/2,  I*g_s/2,    0,        0],\n",
       "[       0,   0,     -I/2,     -I/2,    0,        0],\n",
       "[ I*g_s/2, I/2,        0,        0, -I/2, -I*g_s/2],\n",
       "[-I*g_s/2, I/2,        0,        0, -I/2,  I*g_s/2],\n",
       "[       0,   0,      I/2,      I/2,    0,        0],\n",
       "[       0,   0,  I*g_s/2, -I*g_s/2,    0,        0]])"
      ]
     },
     "metadata": {},
     "output_type": "display_data"
    },
    {
     "name": "stdout",
     "output_type": "stream",
     "text": [
      "z\n"
     ]
    },
    {
     "data": {
      "text/latex": [
       "$\\displaystyle \\left[\\begin{matrix}g_{s} & 0 & 0 & 0 & 0 & 0\\\\0 & 1 & 0 & 0 & 0 & 0\\\\0 & 0 & 0 & 0 & 0 & 0\\\\0 & 0 & 0 & 0 & 0 & 0\\\\0 & 0 & 0 & 0 & -1 & 0\\\\0 & 0 & 0 & 0 & 0 & - g_{s}\\end{matrix}\\right]$"
      ],
      "text/plain": [
       "Matrix([\n",
       "[g_s, 0, 0, 0,  0,    0],\n",
       "[  0, 1, 0, 0,  0,    0],\n",
       "[  0, 0, 0, 0,  0,    0],\n",
       "[  0, 0, 0, 0,  0,    0],\n",
       "[  0, 0, 0, 0, -1,    0],\n",
       "[  0, 0, 0, 0,  0, -g_s]])"
      ]
     },
     "metadata": {},
     "output_type": "display_data"
    }
   ],
   "source": [
    "for k, v in mdip[0].items():\n",
    "    print(k)\n",
    "    display(v)"
   ]
  },
  {
   "cell_type": "code",
   "execution_count": 99,
   "metadata": {},
   "outputs": [
    {
     "data": {
      "text/html": [
       "<pre>✔️ 2.52 ms (2022-09-07T17:39:53/2022-09-07T17:39:53)</pre>"
      ],
      "text/plain": [
       "<IPython.core.display.HTML object>"
      ]
     },
     "metadata": {},
     "output_type": "display_data"
    },
    {
     "data": {
      "text/plain": [
       "(1/2, -1/2)"
      ]
     },
     "execution_count": 99,
     "metadata": {},
     "output_type": "execute_result"
    }
   ],
   "source": [
    "list(mdip[1]['x'].keys())[0][0][0].orbital"
   ]
  }
 ],
 "metadata": {
  "interpreter": {
   "hash": "5ed69564610cdd861a99d06236eab56151da4db3d5eb55442ace689096fe7345"
  },
  "kernelspec": {
   "display_name": "Python 3.8.8 ('qdef3p8')",
   "language": "python",
   "name": "python3"
  },
  "language_info": {
   "codemirror_mode": {
    "name": "ipython",
    "version": 3
   },
   "file_extension": ".py",
   "mimetype": "text/x-python",
   "name": "python",
   "nbconvert_exporter": "python",
   "pygments_lexer": "ipython3",
   "version": "3.8.8"
  },
  "orig_nbformat": 4
 },
 "nbformat": 4,
 "nbformat_minor": 2
}
