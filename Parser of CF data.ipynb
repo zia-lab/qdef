{
 "cells": [
  {
   "cell_type": "markdown",
   "id": "2d4a266f-2863-49e2-b21c-c2e06b9e7e45",
   "metadata": {},
   "source": [
    "# Curating data form crystal fields"
   ]
  },
  {
   "cell_type": "code",
   "execution_count": 1,
   "id": "9d68c35d-20c3-4957-936b-4a9579b2b7fe",
   "metadata": {
    "execution": {
     "iopub.execute_input": "2021-10-15T21:57:14.727864Z",
     "iopub.status.busy": "2021-10-15T21:57:14.727462Z",
     "iopub.status.idle": "2021-10-15T21:57:16.777514Z",
     "shell.execute_reply": "2021-10-15T21:57:16.777138Z",
     "shell.execute_reply.started": "2021-10-15T21:57:14.727766Z"
    },
    "tags": []
   },
   "outputs": [
    {
     "data": {
      "text/html": [
       "<pre>✔️ 1.93 s (2021-10-15T17:57:14/2021-10-15T17:57:16)</pre>"
      ],
      "text/plain": [
       "<IPython.core.display.HTML object>"
      ]
     },
     "metadata": {},
     "output_type": "display_data"
    },
    {
     "name": "stdout",
     "output_type": "stream",
     "text": [
      "Reloading /Volumes/GoogleDrive/My Drive/Zia Lab/Codebase/qdef/data/CPGs.pkl ...\n"
     ]
    }
   ],
   "source": [
    "%load_ext autoreload\n",
    "# provide cell timings\n",
    "%load_ext autotime\n",
    "# %autoreload 2\n",
    "import sympy as sp\n",
    "import numpy as np\n",
    "from scipy.special import sph_harm as Ynm_num\n",
    "# from sympy import poly, lambdify\n",
    "from IPython.display import display, Math\n",
    "# %config InlineBackend.figure_format='retina'\n",
    "%config Completer.use_jedi = False\n",
    "from qdef import *\n",
    "from itertools import product\n",
    "from sympy import I\n",
    "import ipywidgets as widgets\n",
    "from ipywidgets import interact, interactive, fixed, interact_manual\n",
    "from IPython.display import HTML, display, Math, Latex\n",
    "from matplotlib import pyplot as plt\n",
    "%matplotlib widget\n",
    "from pyperclip import copy as pypercopy"
   ]
  },
  {
   "cell_type": "markdown",
   "id": "5704a266-4f5b-46ec-9972-7500d2b8ba46",
   "metadata": {
    "execution": {
     "iopub.execute_input": "2021-10-07T19:14:10.622701Z",
     "iopub.status.busy": "2021-10-07T19:14:10.622355Z",
     "iopub.status.idle": "2021-10-07T19:14:10.801957Z",
     "shell.execute_reply": "2021-10-07T19:14:10.801633Z",
     "shell.execute_reply.started": "2021-10-07T19:14:10.622665Z"
    },
    "tags": []
   },
   "source": [
    "## Class infrastructure for Ion, Bnm, Anm, CFparams"
   ]
  },
  {
   "cell_type": "code",
   "execution_count": 523,
   "id": "42d5841d-cbfc-404d-9a7b-71d3ab8bcea6",
   "metadata": {
    "execution": {
     "iopub.execute_input": "2021-10-13T20:26:38.374065Z",
     "iopub.status.busy": "2021-10-13T20:26:38.372622Z",
     "iopub.status.idle": "2021-10-13T20:26:38.555887Z",
     "shell.execute_reply": "2021-10-13T20:26:38.555506Z",
     "shell.execute_reply.started": "2021-10-13T20:26:38.373994Z"
    }
   },
   "outputs": [
    {
     "data": {
      "text/html": [
       "<pre>✔️ 8.82 ms (2021-10-13T16:26:38/2021-10-13T16:26:38)</pre>"
      ],
      "text/plain": [
       "<IPython.core.display.HTML object>"
      ]
     },
     "metadata": {},
     "output_type": "display_data"
    }
   ],
   "source": [
    "# class Ion(Atom):\n",
    "#     '''\n",
    "#     Same as an Atom, but with the added attribute of charge_state.\n",
    "#     Also, the spectroscopic data is limited to that ion.\n",
    "#     '''\n",
    "#     def __init__(self, element, charge_state):\n",
    "#         Atom.__init__(self,element)\n",
    "#         self.charge_state = charge_state\n",
    "#         self.nist_data = self.nist_data[self.nist_data['Charge'] == self.charge_state]\n",
    "#         self.nist_data.reset_index(drop=True, inplace=True)"
   ]
  },
  {
   "cell_type": "code",
   "execution_count": 640,
   "id": "08aec4c8-5edf-4c34-bc0c-931ece88fa6b",
   "metadata": {
    "execution": {
     "iopub.execute_input": "2021-10-13T21:05:39.912756Z",
     "iopub.status.busy": "2021-10-13T21:05:39.912163Z",
     "iopub.status.idle": "2021-10-13T21:05:40.095806Z",
     "shell.execute_reply": "2021-10-13T21:05:40.095417Z",
     "shell.execute_reply.started": "2021-10-13T21:05:39.912707Z"
    },
    "tags": []
   },
   "outputs": [
    {
     "data": {
      "text/html": [
       "<pre>✔️ 2.74 ms (2021-10-13T17:05:39/2021-10-13T17:05:39)</pre>"
      ],
      "text/plain": [
       "<IPython.core.display.HTML object>"
      ]
     },
     "metadata": {},
     "output_type": "display_data"
    }
   ],
   "source": [
    "# class Bnm():\n",
    "#     '''\n",
    "#     A class for Bnm crystal field parameters.\n",
    "    \n",
    "#     Instantiated  with  a  dictionary that must contain at least\n",
    "#     the following keys:\n",
    "    \n",
    "#     host            (str) e.g. 'MgO'\n",
    "#     site            (str) e.g. 'Mg'\n",
    "#     point_sym_group (str) e.g. 'C_{3v}'\n",
    "#     ion         (str,int) e.g. ('Cr',3)\n",
    "#     params         (dict) e.g. {(2,0): 1.34e3, (4,2): -2.34e3}\n",
    "#     unit            (str) e.g. 'cm^{-1}'\n",
    "#     sources        (list) e.g. ['Morrison 1982, Crystal F ...', ...]\n",
    "#     comments       (list) e.g. ['This is very approximate.', 'Yup.']\n",
    "#     experimental   (bool) e.g. False\n",
    "    \n",
    "#     Ideally  params should be accompanied by params_uncertainty,\n",
    "#     a  dictionary with the same keys than params but with values\n",
    "#     equal to corresponding uncertainties.\n",
    "#     '''\n",
    "#     def __init__(self, Bnm_params):\n",
    "#         self.min_keys = set(['host','site','point_sym_group','params',\n",
    "#                              'unit','sources', 'ion', 'is_experimental'])\n",
    "#         self.energy_units = ['cm^{-1}','eV','J']\n",
    "#         self.init_dict = Bnm_params\n",
    "#         assert self.min_keys <= set(params.keys()), \\\n",
    "#             'provide at least: %s' % str(self.min_keys)\n",
    "#         for attr_name in Bnm_params:\n",
    "#             setattr(self, attr_name, Bnm_params[attr_name])\n",
    "#         assert self.unit in self.energy_units, \\\n",
    "#                 \"unit must be one of %s\" % str(self.energy_units)\n",
    "#     def __str__(self):\n",
    "#         return '%s\\n%s^%d+:%s\\n%s' % (self.point_sym_group, self.ion[0], self.ion[1], self.host, str(self.params))\n",
    "#     def __repr__(self):\n",
    "#         return str(self.init_dict)"
   ]
  },
  {
   "cell_type": "code",
   "execution_count": 641,
   "id": "686b0fa7-07a7-42ca-ae64-9ed337507f25",
   "metadata": {
    "execution": {
     "iopub.execute_input": "2021-10-13T21:05:40.403316Z",
     "iopub.status.busy": "2021-10-13T21:05:40.402799Z",
     "iopub.status.idle": "2021-10-13T21:05:40.586872Z",
     "shell.execute_reply": "2021-10-13T21:05:40.586398Z",
     "shell.execute_reply.started": "2021-10-13T21:05:40.403272Z"
    },
    "tags": []
   },
   "outputs": [
    {
     "data": {
      "text/html": [
       "<pre>✔️ 1.85 ms (2021-10-13T17:05:40/2021-10-13T17:05:40)</pre>"
      ],
      "text/plain": [
       "<IPython.core.display.HTML object>"
      ]
     },
     "metadata": {},
     "output_type": "display_data"
    }
   ],
   "source": [
    "params = {\n",
    "    'host':'MgO',\n",
    "    'site':'Mg',\n",
    "    'ion': ('Cr',3),\n",
    "    'point_sym_group':'C_{4v}',\n",
    "    'unit':'cm^{-1}',\n",
    "    'sources':[],\n",
    "    'params':{(1,0):1.1E-5,(2,2):1.1},\n",
    "    'is_experimental': False\n",
    "         }"
   ]
  },
  {
   "cell_type": "code",
   "execution_count": 516,
   "id": "02af958d-d54f-4f59-bb14-a49b602cf5d7",
   "metadata": {
    "execution": {
     "iopub.execute_input": "2021-10-13T20:18:43.997291Z",
     "iopub.status.busy": "2021-10-13T20:18:43.996691Z",
     "iopub.status.idle": "2021-10-13T20:18:44.231021Z",
     "shell.execute_reply": "2021-10-13T20:18:44.230620Z",
     "shell.execute_reply.started": "2021-10-13T20:18:43.997207Z"
    },
    "tags": []
   },
   "outputs": [
    {
     "data": {
      "text/html": [
       "<pre>✔️ 6.5 ms (2021-10-13T16:18:44/2021-10-13T16:18:44)</pre>"
      ],
      "text/plain": [
       "<IPython.core.display.HTML object>"
      ]
     },
     "metadata": {},
     "output_type": "display_data"
    }
   ],
   "source": [
    "# class Anm():\n",
    "#     '''\n",
    "#     A  class  for  Anm  crystal  field parameters. Initialized by giving a\n",
    "#     dictionary  whose  keys  are  3-tuples  (n(int),m(int),t(str))  with t\n",
    "#     either  'r'  (real),  'i' (imaginary), 'n' (norm) and whose values are\n",
    "#     dictionaries with keys that must be a subset of Anm.AnmGoodKeys.\n",
    "\n",
    "#     For this given dictionary of dictionaries, if the inner dictionary has\n",
    "#     'total' as one key, then self.totalAnm is simply a dictionary keyed by\n",
    "#     2-tuples  (n,m)  and  valued by the 'total' value; if 'total' is not a\n",
    "#     key  then  all of the inner dictionaries are added up as a function of\n",
    "#     (n,m).  At  this  stage  whether  the  quantity refered to is real, or\n",
    "#     imaginary  has  been  included  as  the  third  element of the 3-tuple\n",
    "#     (n,m,t),  but when the total is computed then this goes along with the\n",
    "#     value.\n",
    "\n",
    "#     The 'unit' key in the params dictionaries is used to infer the unit of\n",
    "#     lenght being used, and the unit of energy being considered.\n",
    "\n",
    "#     --------\n",
    "#     Examples\n",
    "    \n",
    "#     params = {(2,0,r): {'mono': 1.34e-6, 'dipole': 1.25e-5, 'unit': 'cm^{-1}/Å^{2}'},\n",
    "#               (4,4,i): {'mono': 4.55e-6, 'dipole': -1.23e-6, 'unit': 'cm^{-1}/Å^{4}'}}}\n",
    "#     Anm({'params': params})\n",
    "    \n",
    "#     '''\n",
    "#     Anmkeys = [('params',dict), # a dictionary of dictionaries\n",
    "#                ('refs',list)]\n",
    "#     AnmGoodKeys = ['mono','self-i','dipole','total', 'unit'] # this are the allowed keys for a specific Anm\n",
    "#     def __init__(self, Anmdict):\n",
    "#         for k in self.Anmkeys:\n",
    "#             attr_name, attr_type = k\n",
    "#             if attr_name in Anmdict:\n",
    "#                 assert isinstance(Anmdict[attr_name],k[1]), '%s key must be of %s or not given' % (attr_name, attr_type)\n",
    "#                 setattr(self, attr_name, Anmdict[attr_name])\n",
    "#             else:\n",
    "#                 setattr(self, attr_name, None)\n",
    "#         if self.params:\n",
    "#             self.totalAnm = {}\n",
    "#             for key, value_dict in self.params.items():\n",
    "#                 assert set(list(value_dict)).issubset(self.AnmGoodKeys)\n",
    "#                 n, m, t = key\n",
    "#                 unit = value_dict.pop('unit')\n",
    "#                 if 'total' in value_dict.keys():\n",
    "#                     self.totalAnm[(n,m)] = value_dict['total']\n",
    "#                 else:\n",
    "#                     self.totalAnm[(n,m)] = sum(list(value_dict.values()))\n",
    "#                 if t == 'i':\n",
    "#                     self.totalAnm[(n,m)] = self.totalAnm[(n,m)]*1j\n",
    "#                 elif t in['r', 'n']:\n",
    "#                     pass\n",
    "#             self.totalAnm_length_unit = unit.split('/')[-1].split('^')[0]\n",
    "#             self.totalAnm_energy_unit = unit.split('/')[0]\n",
    "#     def Bnm_compute(self, ion):\n",
    "#         '''\n",
    "#         This  function  collects  the  relevant  Hartree-Fock radial\n",
    "#         averages  and  approximates  the corresponding Bnm using the\n",
    "#         totalAnm parameters.\n",
    "\n",
    "#         It returns a Bnm object.\n",
    "#         '''\n",
    "#         Bnmdict = {}\n",
    "#         Bnmparams = {}\n",
    "#         assert self.totalAnm_length_unit == 'Å', 'Hartree Fock data requires unit of lenght to be Å.'\n",
    "#         for k,v in self.totalAnm.items():\n",
    "#             Bnmparams[k] = v * HartreeFockData().radial_average(ion.atomic_number,ion.charge_state,k[0])\n",
    "#         Bnmdict['params'] = Bnmparams\n",
    "#         Bnmdict['unit'] = self.totalAnm_energy_unit\n",
    "#         return Bnm(Bnmdict)    \n",
    "\n",
    "# class CFparams():\n",
    "#     cfkeys = [('crystal_str', str),\n",
    "#               ('space_group_str',str),\n",
    "#               ('crystal_site', tuple),\n",
    "#               ('Bnm', Bnm),\n",
    "#               ('comments',list)]\n",
    "#     def __init__(self, cfpdict):\n",
    "#         for k in self.cfkeys:\n",
    "#             attr_name, attr_type = k\n",
    "#             if attr_name in cfpdict:\n",
    "#                 assert isinstance(cfpdict[attr_name],k[1]), '%s key must be of %s or not given' % (attr_name, attr_type)\n",
    "#                 setattr(self, attr_name, cfpdict[attr_name])\n",
    "#             else:\n",
    "#                 setattr(self, attr_name, None)"
   ]
  },
  {
   "cell_type": "markdown",
   "id": "a601f7a8-4ebe-4e89-8b60-4be51b16c6b8",
   "metadata": {
    "tags": []
   },
   "source": [
    "## Parsing some of the tables from Morrison"
   ]
  },
  {
   "cell_type": "code",
   "execution_count": 20,
   "id": "e333bfb6-81a3-4913-9cc0-e638c46ea432",
   "metadata": {
    "execution": {
     "iopub.execute_input": "2021-10-12T14:37:51.523912Z",
     "iopub.status.busy": "2021-10-12T14:37:51.523527Z",
     "iopub.status.idle": "2021-10-12T14:38:00.242985Z",
     "shell.execute_reply": "2021-10-12T14:38:00.242684Z",
     "shell.execute_reply.started": "2021-10-12T14:37:51.523872Z"
    },
    "tags": []
   },
   "outputs": [
    {
     "data": {
      "text/html": [
       "<pre>✔️ 8.6 s (2021-10-12T10:37:51/2021-10-12T10:38:00)</pre>"
      ],
      "text/plain": [
       "<IPython.core.display.HTML object>"
      ]
     },
     "metadata": {},
     "output_type": "display_data"
    }
   ],
   "source": [
    "# loader for the data in Morrison's book\n",
    "# this sheet is an export of the data on \n",
    "# a Google Spreadsheet \"Morrison Data\"\n",
    "morrison_sheets = pd.read_excel('/Volumes/GoogleDrive/My Drive/Zia Lab/Codebase/qdef/data/Morrison.xlsx',None)"
   ]
  },
  {
   "cell_type": "code",
   "execution_count": 83,
   "id": "600cd418-cb02-4287-829c-ee074cde4aca",
   "metadata": {
    "execution": {
     "iopub.execute_input": "2021-10-12T18:26:18.800442Z",
     "iopub.status.busy": "2021-10-12T18:26:18.798911Z",
     "iopub.status.idle": "2021-10-12T18:26:19.001524Z",
     "shell.execute_reply": "2021-10-12T18:26:19.001085Z",
     "shell.execute_reply.started": "2021-10-12T18:26:18.800342Z"
    },
    "tags": []
   },
   "outputs": [
    {
     "data": {
      "text/html": [
       "<pre>✔️ 37.2 ms (2021-10-12T14:26:18/2021-10-12T14:26:18)</pre>"
      ],
      "text/plain": [
       "<IPython.core.display.HTML object>"
      ]
     },
     "metadata": {},
     "output_type": "display_data"
    }
   ],
   "source": [
    "group_label_to_index = {gl:(1+CPGs.all_group_labels.index(gl)) for gl in CPGs.all_group_labels}\n",
    "index_to_group_label = {(1+CPGs.all_group_labels.index(gl)):gl for gl in CPGs.all_group_labels}\n",
    "morrison = {}\n",
    "# parse data for the free-ion model\n",
    "frows = ['nd^N','Ion','Charge','F^{(2)}','F^{(4)}','\\\\zeta','\\\\alpha','Reference']\n",
    "morrison['Free-ion params'] = pd.concat([morrison_sheets['1.'+x][frows] for x in 'A B C'.split(' ')])\n",
    "morrison['Free-ion params']['Charge'] = morrison['Free-ion params']['Charge'].astype(int)"
   ]
  },
  {
   "cell_type": "code",
   "execution_count": 93,
   "id": "479da7e4-9986-49c7-b564-a3e7d640f0d4",
   "metadata": {
    "execution": {
     "iopub.execute_input": "2021-10-12T18:28:27.209507Z",
     "iopub.status.busy": "2021-10-12T18:28:27.209139Z",
     "iopub.status.idle": "2021-10-12T18:28:27.373611Z",
     "shell.execute_reply": "2021-10-12T18:28:27.372914Z",
     "shell.execute_reply.started": "2021-10-12T18:28:27.209469Z"
    },
    "tags": []
   },
   "outputs": [
    {
     "data": {
      "text/html": [
       "<pre>✔️ 20.8 ms (2021-10-12T14:28:27/2021-10-12T14:28:27)</pre>"
      ],
      "text/plain": [
       "<IPython.core.display.HTML object>"
      ]
     },
     "metadata": {},
     "output_type": "display_data"
    }
   ],
   "source": [
    "# parse data for number of Bnm and Anm as a function of group number\n",
    "# How many Bnms or Anms for the d^N configuration\n",
    "# this will just be a dictionary\n",
    "BnmAnms = morrison_sheets['1.D'][['Group No.','n=1','n=2','n=3','n=4','n=5']]\n",
    "grup_labels = (BnmAnms['Group No.'].apply(lambda x: index_to_group_label[int(x)]))\n",
    "BnmAnms.loc[:,\"Group Label\"] = grup_labels\n",
    "for i in [1,2,3,4,5]:\n",
    "    BnmAnms.loc[:,'n=%d' % i] = BnmAnms['n=%d' % i].astype(int)\n",
    "BnmAnms.loc[:,'Group No.'] = BnmAnms['Group No.'].astype(int)\n",
    "morrison['BnmAnms'] = BnmAnms\n",
    "# parse data for Hartree-Fock\n",
    "hartree = morrison_sheets['2']\n",
    "metadat = list(morrison_sheets['2'])[0]\n",
    "hartree = hartree[list(hartree)[1::]]\n",
    "hartree.attrs['metadata'] = metadat\n",
    "hartree['N'] = hartree['nd^N'].apply(lambda x: int(x.split('d')[-1]))\n",
    "hartree['n'] = hartree['nd^N'].apply(lambda x: int(x.split('d')[0]))\n",
    "hartree['Charge'] = hartree['Charge'].astype(int)\n",
    "hartree['Z'] = hartree['Z'].astype(int)\n",
    "hartree.drop(columns=['nd^N'], inplace=True)\n",
    "morrison['Hartree-Fock'] = hartree"
   ]
  },
  {
   "cell_type": "code",
   "execution_count": 94,
   "id": "978121f3-a4f0-433f-9345-4c060894d6ed",
   "metadata": {
    "execution": {
     "iopub.execute_input": "2021-10-12T18:28:31.643563Z",
     "iopub.status.busy": "2021-10-12T18:28:31.643173Z",
     "iopub.status.idle": "2021-10-12T18:28:31.881572Z",
     "shell.execute_reply": "2021-10-12T18:28:31.881126Z",
     "shell.execute_reply.started": "2021-10-12T18:28:31.643525Z"
    },
    "tags": []
   },
   "outputs": [
    {
     "data": {
      "text/html": [
       "<pre>✔️ 6.19 ms (2021-10-12T14:28:31/2021-10-12T14:28:31)</pre>"
      ],
      "text/plain": [
       "<IPython.core.display.HTML object>"
      ]
     },
     "metadata": {},
     "output_type": "display_data"
    },
    {
     "name": "stdout",
     "output_type": "stream",
     "text": [
      "['Free-ion data: F^{(2)}, F^{(4)}, \\\\zeta, and \\\\alpha for nd^N ions (cm^-1) (Α) 3δ^ν', 'nd^N', 'Ion', 'Charge', 'F^{(2)}', 'F^{(4)}', '\\\\zeta', '\\\\alpha', 'Reference', 'Comments', 'Types']\n",
      "['Free-ion data: F^{(2)}, F^{(4)}, \\\\zeta, and \\\\alpha for nd^N ions (cm^-1) (B) 4d^N', 'nd^N', 'Ion', 'Charge', 'F^{(2)}', 'F^{(4)}', '\\\\zeta', '\\\\alpha', 'Reference', 'Comments', 'Types']\n",
      "['Free-ion data: F^2, F^4, ζ, and α for nd^N ions (cm^-1) (C) 5d^N', 'nd^N', 'Ion', 'Charge', 'F^{(2)}', 'F^{(4)}', '\\\\zeta', '\\\\alpha', 'Reference', 'Comments', 'Types']\n",
      "['Table 1D. Number of Bnm or Anm for the d^N configuration for 30 of 32 point groups', 'Group No.', 'n=1', 'n=2', 'n=3', 'n=4', 'n=5', 'Host', 'Site', 'Comments', 'Types']\n"
     ]
    }
   ],
   "source": [
    "for x in 'A B C D'.split(' '):\n",
    "    print(list(morrison_sheets['1.'+x]))"
   ]
  },
  {
   "cell_type": "code",
   "execution_count": 7,
   "id": "e39ab776-6590-44e6-b07b-e5e0e41a1429",
   "metadata": {
    "execution": {
     "iopub.execute_input": "2021-09-29T15:03:25.147232Z",
     "iopub.status.busy": "2021-09-29T15:03:25.146795Z",
     "iopub.status.idle": "2021-09-29T15:03:25.354381Z",
     "shell.execute_reply": "2021-09-29T15:03:25.354042Z",
     "shell.execute_reply.started": "2021-09-29T15:03:25.147196Z"
    },
    "tags": []
   },
   "outputs": [
    {
     "data": {
      "text/html": [
       "<pre>✔️ 11.5 ms (2021-09-29T11:03:25/2021-09-29T11:03:25)</pre>"
      ],
      "text/plain": [
       "<IPython.core.display.HTML object>"
      ]
     },
     "metadata": {},
     "output_type": "display_data"
    }
   ],
   "source": [
    "allBees = []\n",
    "for n in [1,2,3,4,5,6]:\n",
    "    for m in range(0,n+1):\n",
    "        allBees.append('B%d%d.re' % (n,m))\n",
    "        allBees.append('B%d%d.im' % (n,m))\n",
    "t8p1v1 = ('\\n'.join(morrison_sheets['AngMom8.1and8.2']['8p1'][1:]))\n",
    "header = morrison_sheets['AngMom8.1and8.2']['8p1'][0]\n",
    "rows = []\n",
    "for idx, line in zip(range(3,16),t8p1v1.split('\\n')):\n",
    "    rows.append({what:(x=='x') for what,x in zip(header.split(),line)})\n",
    "full_params = {}\n",
    "for group_num, row in zip(range(3,16),rows):\n",
    "    extension = {bee:False for bee in allBees if bee not in row.keys()}\n",
    "    row.update(extension)\n",
    "    full_params[group_num] = dict(row)\n",
    "t8p2v1 = ('\\n'.join(morrison_sheets['AngMom8.1and8.2']['8p2'][1:-1]))\n",
    "header = morrison_sheets['AngMom8.1and8.2']['8p2'][0]\n",
    "rows = []\n",
    "for line in t8p2v1.split('\\n'):\n",
    "    rows.append({what:(x=='x') for what,x in zip(header.split(),line)})\n",
    "for group_num, row in zip(range(16,28),rows):\n",
    "    extension = {bee:False for bee in allBees if bee not in row.keys()}\n",
    "    row.update(extension)\n",
    "    full_params[group_num] = dict(row)\n",
    "rows = [\n",
    "    {'B32.re': True, 'B40.re': True, 'B44.re': True,'B60.re': True, 'B64.re': True},\n",
    "    {'B40.re': True, 'B44.re': True,'B60.re': True, 'B64.re': True},\n",
    "    {'B32.re': True, 'B40.re': True, 'B44.re': True,'B60.re': True, 'B64.re': True},\n",
    "    {'B40.re': True, 'B44.re': True,'B60.re': True, 'B64.re': True},\n",
    "    {'B32.re': True, 'B40.re': True, 'B44.re': True,'B60.re': True, 'B64.re': True}\n",
    "]\n",
    "for group_num, row in zip(range(28,33),rows):\n",
    "    extension = {bee:False for bee in allBees if bee not in row.keys()}\n",
    "    row.update(extension)\n",
    "    full_params[group_num] = dict(row)\n",
    "def fixer(s):\n",
    "    see, kind = s.split('.')\n",
    "    sign = ''\n",
    "    if '-' in see:\n",
    "        sign = '-'\n",
    "        see = see.replace('-','')\n",
    "    better = '%s_{%s,%s}^%s' % (see[0],see[1:][0],sign+see[1:][1],kind)\n",
    "    better = better.replace('im','i').replace('re','r')\n",
    "    return better\n",
    "full_params = {group_num : {sp.Symbol(fixer(k)): v for k,v in full_params[group_num].items()} for group_num in full_params}\n",
    "morrison['Bkq grid from tables 8.1-8.3 in_Morrison 1988'] = full_params"
   ]
  },
  {
   "cell_type": "code",
   "execution_count": 8,
   "id": "9429812a-aa1a-43a0-bdd6-1a3bcdfcb59e",
   "metadata": {
    "execution": {
     "iopub.execute_input": "2021-09-29T15:03:28.560608Z",
     "iopub.status.busy": "2021-09-29T15:03:28.559976Z",
     "iopub.status.idle": "2021-09-29T15:03:28.743791Z",
     "shell.execute_reply": "2021-09-29T15:03:28.743162Z",
     "shell.execute_reply.started": "2021-09-29T15:03:28.560533Z"
    },
    "tags": []
   },
   "outputs": [
    {
     "data": {
      "text/html": [
       "<pre>✔️ 1.51 ms (2021-09-29T11:03:28/2021-09-29T11:03:28)</pre>"
      ],
      "text/plain": [
       "<IPython.core.display.HTML object>"
      ]
     },
     "metadata": {},
     "output_type": "display_data"
    }
   ],
   "source": [
    "cf_components_keys = [k for k in morrison_sheets if 'crystal-field components' in list(morrison_sheets[k])[0].lower()]"
   ]
  },
  {
   "cell_type": "code",
   "execution_count": 9,
   "id": "97cb532c-77a7-4f3b-9882-854a0396059d",
   "metadata": {
    "execution": {
     "iopub.execute_input": "2021-09-29T15:03:29.448915Z",
     "iopub.status.busy": "2021-09-29T15:03:29.448580Z",
     "iopub.status.idle": "2021-09-29T15:03:29.591300Z",
     "shell.execute_reply": "2021-09-29T15:03:29.590935Z",
     "shell.execute_reply.started": "2021-09-29T15:03:29.448880Z"
    },
    "tags": []
   },
   "outputs": [
    {
     "data": {
      "text/html": [
       "<pre>✔️ 2.2 ms (2021-09-29T11:03:29/2021-09-29T11:03:29)</pre>"
      ],
      "text/plain": [
       "<IPython.core.display.HTML object>"
      ]
     },
     "metadata": {},
     "output_type": "display_data"
    }
   ],
   "source": [
    "crystallographic_sheets = {k.split('.')[0]: list(morrison_sheets[k])[0].split(' on')[-1] for k in morrison_sheets if 'Crystallographic Data' in list(morrison_sheets[k])[0]}"
   ]
  },
  {
   "cell_type": "code",
   "execution_count": 11,
   "id": "a9211d2a-abb7-4042-a773-713a3cce4eb8",
   "metadata": {
    "execution": {
     "iopub.execute_input": "2021-09-29T15:03:36.977669Z",
     "iopub.status.busy": "2021-09-29T15:03:36.977287Z",
     "iopub.status.idle": "2021-09-29T15:03:37.171953Z",
     "shell.execute_reply": "2021-09-29T15:03:37.171435Z",
     "shell.execute_reply.started": "2021-09-29T15:03:36.977627Z"
    },
    "tags": []
   },
   "outputs": [
    {
     "data": {
      "text/html": [
       "<pre>✔️ 2.68 ms (2021-09-29T11:03:36/2021-09-29T11:03:36)</pre>"
      ],
      "text/plain": [
       "<IPython.core.display.HTML object>"
      ]
     },
     "metadata": {},
     "output_type": "display_data"
    },
    {
     "name": "stdout",
     "output_type": "stream",
     "text": [
      "3.2.1\n",
      "Al2 (S4) site\n",
      "Al2\n",
      "3.3.1\n",
      "Al1 (C3i) site (rotated so that z-axis is parallel to (111) crystallographic axis)\n",
      "Al1\n",
      "20.2.1\n",
      "Zn (T_d) site of cubic ZnS\n",
      "Zn\n",
      "20.2.2\n",
      "Zn (C3v) site of hexagonal ZnS\n",
      "Zn\n",
      "20.2.3\n",
      "Zn (C3v) site of hexagonal ZnS (Kisi and Elcombe, 1989)\n",
      "Zn\n"
     ]
    }
   ],
   "source": [
    "for cf_key in cf_components_keys:\n",
    "    print(cf_key)\n",
    "    component_data = morrison_sheets[cf_key]\n",
    "    pivot = list(component_data)[0]\n",
    "    for_what = (pivot.split('for ')[-1])\n",
    "    print(for_what)\n",
    "    subs = for_what.split(' ')[0]\n",
    "    print(subs)"
   ]
  },
  {
   "cell_type": "code",
   "execution_count": 12,
   "id": "ac0869f0-2977-4db4-9573-8faed3c95f6f",
   "metadata": {
    "execution": {
     "iopub.execute_input": "2021-09-29T15:03:39.110609Z",
     "iopub.status.busy": "2021-09-29T15:03:39.110198Z",
     "iopub.status.idle": "2021-09-29T15:03:39.312345Z",
     "shell.execute_reply": "2021-09-29T15:03:39.312020Z",
     "shell.execute_reply.started": "2021-09-29T15:03:39.110573Z"
    },
    "tags": []
   },
   "outputs": [
    {
     "data": {
      "text/html": [
       "<pre>✔️ 17.5 ms (2021-09-29T11:03:39/2021-09-29T11:03:39)</pre>"
      ],
      "text/plain": [
       "<IPython.core.display.HTML object>"
      ]
     },
     "metadata": {},
     "output_type": "display_data"
    }
   ],
   "source": [
    "special_reps = {}\n",
    "# in all cases \n",
    "generic_reps = {sp.Symbol(fixer('B%d%d.re'%(k,q))): (-sp.S(1))**q*sp.Symbol(fixer('B%d%d.re'%(k,-q))) for k in [1,2,3,4,5,6] for q in range(-k,0) }\n",
    "generic_reps.update({sp.Symbol(fixer('B%d%d.im'%(k,q))): -(-sp.S(1))**q*sp.Symbol(fixer('B%d%d.im'%(k,-q))) for k in [1,2,3,4,5,6] for q in range(-k,0) })\n",
    "# in some groups some params are related between one another\n",
    "special_reps = {i:generic_reps for i in range(1,28)}\n",
    "treps = {sp.Symbol(fixer('B44.re')): sp.sqrt(sp.S(5)/sp.S(14))*sp.Symbol(fixer('B40.re')),\n",
    "        sp.Symbol(fixer('B64.re')): -sp.sqrt(sp.S(7)/sp.S(2))*sp.Symbol(fixer('B60.re'))}\n",
    "treps.update(special_reps)\n",
    "special_reps[28] = treps\n",
    "special_reps[29] = treps\n",
    "special_reps[30] = treps\n",
    "special_reps[31] = treps\n",
    "special_reps[32] = treps\n",
    "cnm_reps = {sp.Symbol('C_{%d,%d}'%(k,q)): (sp.S(-1))**q*sp.conjugate(sp.Symbol('C_{%d,%d}'%(k,-q))) for k in [1,2,3,4,5,6] for q in range(-k,0) }\n",
    "morrison['special_reps'] = special_reps"
   ]
  },
  {
   "cell_type": "code",
   "execution_count": 13,
   "id": "b3f72b25-f37c-46bb-9232-1384bee0c81b",
   "metadata": {
    "execution": {
     "iopub.execute_input": "2021-09-29T15:03:42.905094Z",
     "iopub.status.busy": "2021-09-29T15:03:42.904560Z",
     "iopub.status.idle": "2021-09-29T15:03:52.266924Z",
     "shell.execute_reply": "2021-09-29T15:03:52.266582Z",
     "shell.execute_reply.started": "2021-09-29T15:03:42.905047Z"
    },
    "tags": []
   },
   "outputs": [
    {
     "data": {
      "text/html": [
       "<pre>✔️ 9.21 s (2021-09-29T11:03:42/2021-09-29T11:03:52)</pre>"
      ],
      "text/plain": [
       "<IPython.core.display.HTML object>"
      ]
     },
     "metadata": {},
     "output_type": "display_data"
    },
    {
     "name": "stdout",
     "output_type": "stream",
     "text": [
      "Too little symmetry, returning empty list.\n",
      "Too little symmetry, returning empty list.\n"
     ]
    }
   ],
   "source": [
    "crystal_fields = {}\n",
    "for i in range(1,33):\n",
    "    crystal_fields[i] = compute_crystal_field(i)"
   ]
  },
  {
   "cell_type": "code",
   "execution_count": 44,
   "id": "5b61b71e-359b-400d-8582-37caf857314e",
   "metadata": {
    "execution": {
     "iopub.execute_input": "2021-09-29T14:59:29.937540Z",
     "iopub.status.busy": "2021-09-29T14:59:29.937198Z",
     "iopub.status.idle": "2021-09-29T14:59:30.097925Z",
     "shell.execute_reply": "2021-09-29T14:59:30.097596Z",
     "shell.execute_reply.started": "2021-09-29T14:59:29.937504Z"
    }
   },
   "outputs": [
    {
     "data": {
      "text/html": [
       "<pre>✔️ 2.27 ms (2021-09-29T10:59:29/2021-09-29T10:59:29)</pre>"
      ],
      "text/plain": [
       "<IPython.core.display.HTML object>"
      ]
     },
     "metadata": {},
     "output_type": "display_data"
    }
   ],
   "source": [
    "full_params = morrison['Bkq grid from tables 8.1-8.3 in_Morrison 1988']"
   ]
  },
  {
   "cell_type": "code",
   "execution_count": 15,
   "id": "ff8d42a5-9d85-47df-b355-2c4f8d24b728",
   "metadata": {
    "execution": {
     "iopub.execute_input": "2021-09-29T15:04:06.966213Z",
     "iopub.status.busy": "2021-09-29T15:04:06.965845Z",
     "iopub.status.idle": "2021-09-29T15:04:07.152272Z",
     "shell.execute_reply": "2021-09-29T15:04:07.151897Z",
     "shell.execute_reply.started": "2021-09-29T15:04:06.966177Z"
    },
    "tags": []
   },
   "outputs": [
    {
     "data": {
      "text/html": [
       "<pre>✔️ 1.95 ms (2021-09-29T11:04:06/2021-09-29T11:04:06)</pre>"
      ],
      "text/plain": [
       "<IPython.core.display.HTML object>"
      ]
     },
     "metadata": {},
     "output_type": "display_data"
    }
   ],
   "source": [
    "# this  bit of code is necessary to make a\n",
    "# raw  (just  dictionaries) of the crystal\n",
    "# fields, I know, it's a bit awkward.\n",
    "crystal_fields_raw = {}\n",
    "for k in crystal_fields:\n",
    "    if k in [1,2]:\n",
    "        crystal_fields_raw[k] = []\n",
    "    else:\n",
    "        crystal_fields_raw[k] = [q.dict for q in crystal_fields[k]]\n",
    "morrison['crystal_fields_raw'] = crystal_fields_raw       "
   ]
  },
  {
   "cell_type": "code",
   "execution_count": 17,
   "id": "e87a6879-f485-41c8-bacd-a737a34fd898",
   "metadata": {
    "execution": {
     "iopub.execute_input": "2021-09-29T15:04:12.811227Z",
     "iopub.status.busy": "2021-09-29T15:04:12.810772Z",
     "iopub.status.idle": "2021-09-29T15:04:12.942882Z",
     "shell.execute_reply": "2021-09-29T15:04:12.942468Z",
     "shell.execute_reply.started": "2021-09-29T15:04:12.811185Z"
    },
    "tags": []
   },
   "outputs": [
    {
     "data": {
      "text/html": [
       "<pre>✔️ 11.4 ms (2021-09-29T11:04:12/2021-09-29T11:04:12)</pre>"
      ],
      "text/plain": [
       "<IPython.core.display.HTML object>"
      ]
     },
     "metadata": {},
     "output_type": "display_data"
    }
   ],
   "source": [
    "if input(\"continue?\") == 'yes':\n",
    "    pickle.dump(morrison,open('/Users/juan/Google Drive/Zia Lab/Codebase/qdef/data/morrison.pkl','wb'))"
   ]
  },
  {
   "cell_type": "code",
   "execution_count": 95,
   "id": "a0f3521a-6841-4f3a-9fd6-3b3dfca155f0",
   "metadata": {
    "execution": {
     "iopub.execute_input": "2021-10-12T18:35:09.325466Z",
     "iopub.status.busy": "2021-10-12T18:35:09.323700Z",
     "iopub.status.idle": "2021-10-12T18:35:09.517338Z",
     "shell.execute_reply": "2021-10-12T18:35:09.516916Z",
     "shell.execute_reply.started": "2021-10-12T18:35:09.325347Z"
    },
    "tags": []
   },
   "outputs": [
    {
     "data": {
      "text/html": [
       "<pre>✔️ 16 ms (2021-10-12T14:35:09/2021-10-12T14:35:09)</pre>"
      ],
      "text/plain": [
       "<IPython.core.display.HTML object>"
      ]
     },
     "metadata": {},
     "output_type": "display_data"
    }
   ],
   "source": [
    "# eigenbasis = eigensys[1][1][2]\n",
    "# fromvectoqet(mbasis(2,True),eigenbasis[1])"
   ]
  },
  {
   "cell_type": "markdown",
   "id": "d2bc8be2-1254-4bf6-b1ce-c1ab999f5b43",
   "metadata": {
    "tags": []
   },
   "source": [
    "## Making symbolic expression for crystal fields in different symmetries"
   ]
  },
  {
   "cell_type": "code",
   "execution_count": 102,
   "id": "ba3f0940-cf44-4289-8ac4-d928682a8f47",
   "metadata": {
    "execution": {
     "iopub.execute_input": "2021-10-12T18:38:07.949807Z",
     "iopub.status.busy": "2021-10-12T18:38:07.944416Z",
     "iopub.status.idle": "2021-10-12T18:38:08.141362Z",
     "shell.execute_reply": "2021-10-12T18:38:08.140964Z",
     "shell.execute_reply.started": "2021-10-12T18:38:07.949696Z"
    },
    "tags": []
   },
   "outputs": [
    {
     "data": {
      "text/html": [
       "<pre>✔️ 14 ms (2021-10-12T14:38:07/2021-10-12T14:38:07)</pre>"
      ],
      "text/plain": [
       "<IPython.core.display.HTML object>"
      ]
     },
     "metadata": {},
     "output_type": "display_data"
    }
   ],
   "source": [
    "def irtransform(eigenbasis, l, group_num):\n",
    "    # given a basis eigenbasis for a subspace for a fixed value of l\n",
    "    # and the index group_num for a point group\n",
    "    # return a dictionary whose keys are the \n",
    "    # irreducible representation of the group\n",
    "    # and whose values are dictionaries whose\n",
    "    # keys are labels for group basis vectors\n",
    "    # and whose values are linear combinations\n",
    "    # of the elements in lbasis\n",
    "    # the lbasis is as the set of coefficients\n",
    "    # for the ordered basis provided by mbasis(l)\n",
    "    group = CPGs.groups[group_num]"
   ]
  },
  {
   "cell_type": "code",
   "execution_count": 103,
   "id": "25842cdb-4543-4049-bf3b-bdb91e2d75c6",
   "metadata": {
    "execution": {
     "iopub.execute_input": "2021-10-12T18:38:08.259760Z",
     "iopub.status.busy": "2021-10-12T18:38:08.259599Z",
     "iopub.status.idle": "2021-10-12T18:38:08.421043Z",
     "shell.execute_reply": "2021-10-12T18:38:08.420124Z",
     "shell.execute_reply.started": "2021-10-12T18:38:08.259745Z"
    },
    "tags": []
   },
   "outputs": [
    {
     "data": {
      "text/html": [
       "<pre>✔️ 1.37 ms (2021-10-12T14:38:08/2021-10-12T14:38:08)</pre>"
      ],
      "text/plain": [
       "<IPython.core.display.HTML object>"
      ]
     },
     "metadata": {},
     "output_type": "display_data"
    }
   ],
   "source": [
    "def fromvectoqet(orderedbasis,coeffvec):\n",
    "    '''\n",
    "    Given a vector of coefficients and \n",
    "    its corresponding ordered basis,\n",
    "    return what would be the corresponding\n",
    "    Qet.\n",
    "    '''\n",
    "    return Qet({ovec: coeff for ovec, coeff in zip(orderedbasis, coeffvec)})"
   ]
  },
  {
   "cell_type": "code",
   "execution_count": 104,
   "id": "94a818f2-94c2-43c8-b095-2d4a612dfc7c",
   "metadata": {
    "execution": {
     "iopub.execute_input": "2021-10-12T18:38:09.980126Z",
     "iopub.status.busy": "2021-10-12T18:38:09.979668Z",
     "iopub.status.idle": "2021-10-12T18:38:10.178180Z",
     "shell.execute_reply": "2021-10-12T18:38:10.177762Z",
     "shell.execute_reply.started": "2021-10-12T18:38:09.980080Z"
    },
    "tags": []
   },
   "outputs": [
    {
     "data": {
      "text/html": [
       "<pre>✔️ 3.67 ms (2021-10-12T14:38:09/2021-10-12T14:38:09)</pre>"
      ],
      "text/plain": [
       "<IPython.core.display.HTML object>"
      ]
     },
     "metadata": {},
     "output_type": "display_data"
    }
   ],
   "source": [
    "def eigen_latex(eigensys, l, normalized=False):\n",
    "    eigen_chunks = []\n",
    "    mbase = mbasis(l)\n",
    "    for eigen_chunk in eigensys:\n",
    "        eigenval_latex = sp.latex(Bsimple(eigen_chunk[0]))\n",
    "        if normalized:\n",
    "            eigenvecs_latex = ', '.join(([sp.latex((mbase * eigenvec.normalized())[0]) for eigenvec in eigen_chunk[2]]))\n",
    "        else:\n",
    "            eigenvecs_latex = ', '.join(([sp.latex((mbase * eigenvec)[0]) for eigenvec in eigen_chunk[2]]))\n",
    "        eigen_chunks.append('%s: \\{{%s}\\}' % (eigenval_latex, eigenvecs_latex))\n",
    "    eigen_final = '\\]\\\\\\\\ \\n\\['.join(eigen_chunks)\n",
    "    eigen_final = '\\[' + eigen_final + '\\]'\n",
    "    return eigen_final"
   ]
  },
  {
   "cell_type": "code",
   "execution_count": 105,
   "id": "5f43b690-67e4-4010-ab6d-26dae31f61e3",
   "metadata": {
    "execution": {
     "iopub.execute_input": "2021-10-12T18:38:10.499471Z",
     "iopub.status.busy": "2021-10-12T18:38:10.499055Z",
     "iopub.status.idle": "2021-10-12T18:38:10.733489Z",
     "shell.execute_reply": "2021-10-12T18:38:10.733083Z",
     "shell.execute_reply.started": "2021-10-12T18:38:10.499432Z"
    },
    "tags": []
   },
   "outputs": [
    {
     "data": {
      "text/html": [
       "<pre>✔️ 2.28 ms (2021-10-12T14:38:10/2021-10-12T14:38:10)</pre>"
      ],
      "text/plain": [
       "<IPython.core.display.HTML object>"
      ]
     },
     "metadata": {},
     "output_type": "display_data"
    }
   ],
   "source": [
    "def mbasis(l, astuples=False):\n",
    "    '''\n",
    "    Return a row matrix with symbols corresponding to the kets\n",
    "    that span the angular momentum space for a given value of l.\n",
    "    '''\n",
    "    if astuples:\n",
    "        return sp.Matrix([[(l,ml) for ml in range(-l,l+1)]])\n",
    "    else:\n",
    "        return sp.Matrix([[sp.Symbol('|%d,%d\\\\rangle' % (l,ml)) for ml in range(-l,l+1)]])"
   ]
  },
  {
   "cell_type": "code",
   "execution_count": null,
   "id": "d932466c",
   "metadata": {},
   "outputs": [],
   "source": []
  },
  {
   "cell_type": "code",
   "execution_count": 106,
   "id": "4e836e0b-7f11-4812-9946-48d0669c4458",
   "metadata": {
    "execution": {
     "iopub.execute_input": "2021-10-12T18:38:19.161910Z",
     "iopub.status.busy": "2021-10-12T18:38:19.161516Z",
     "iopub.status.idle": "2021-10-12T18:38:30.391005Z",
     "shell.execute_reply": "2021-10-12T18:38:30.390674Z",
     "shell.execute_reply.started": "2021-10-12T18:38:19.161874Z"
    },
    "tags": []
   },
   "outputs": [
    {
     "data": {
      "text/html": [
       "<pre>✔️ 11 s (2021-10-12T14:38:19/2021-10-12T14:38:30)</pre>"
      ],
      "text/plain": [
       "<IPython.core.display.HTML object>"
      ]
     },
     "metadata": {},
     "output_type": "display_data"
    },
    {
     "name": "stdout",
     "output_type": "stream",
     "text": [
      "1,2,3,Symbolic diagonalization known to fail.\n",
      "4,Symbolic diagonalization known to fail.\n",
      "5,Symbolic diagonalization known to fail.\n",
      "6,Symbolic diagonalization known to fail.\n",
      "7,Symbolic diagonalization known to fail.\n",
      "8,Symbolic diagonalization known to fail.\n",
      "9,10,11,12,13,14,15,16,17,18,19,20,21,22,23,24,25,26,27,28,29,30,31,32,"
     ]
    }
   ],
   "source": [
    "diagonalley = {}\n",
    "l = 2\n",
    "for group_num in range(1,33):\n",
    "    print(group_num, end=',')\n",
    "    cf = CrystalField(group_num)\n",
    "    cf.matrix_rep_symb(l)\n",
    "    if group_num in range(3,9):\n",
    "        print(\"Symbolic diagonalization known to fail.\")\n",
    "        eigensys = []\n",
    "    else:\n",
    "        try:\n",
    "            eigensys = cf.splitter(l)\n",
    "        except:\n",
    "            print(\"Failed in symbolic diagonalization.\")\n",
    "            eigensys = []\n",
    "    summa = {}\n",
    "    summa['simple_hams'] = cf.simplified_ham\n",
    "    summa['simple_hams_latex'] = list(map(sp.latex,cf.simplified_ham))\n",
    "    summa['matrices'] = cf.matrix_rep_symb(l)\n",
    "    summa['splitting.latex'] = sp.latex(l_splitter(group_num, l).as_symbol_sum())\n",
    "    summa['simple_matrices'] = [Bsimple(mat) for mat in cf.matrix_rep_symb(l)]\n",
    "    summa['simple_matrices.latex'] = [sp.latex(smat) for smat in summa['simple_matrices']]\n",
    "    summa['free_parameters'] = [mat.free_symbols for mat in summa['matrices']]\n",
    "    summa['simple_free_parameters'] = [mat.free_symbols for mat in summa['simple_matrices']]\n",
    "    summa['simple_free_parameters.latex'] = list(map(sp.latex,summa['simple_free_parameters']))\n",
    "    summa['eigen_system'] = eigensys\n",
    "    summa['eigen_latex'] = [eigen_latex(esys, l) for esys in eigensys]\n",
    "    summa['group_num'] = group_num\n",
    "    summa['group_symb'] = CPGs.groups[group_num].label\n",
    "    diagonalley[group_num] = summa"
   ]
  },
  {
   "cell_type": "code",
   "execution_count": 113,
   "id": "1607b675-2b78-4e36-be2d-a45bb80fbdd0",
   "metadata": {
    "execution": {
     "iopub.execute_input": "2021-09-29T18:33:51.622902Z",
     "iopub.status.busy": "2021-09-29T18:33:51.621684Z",
     "iopub.status.idle": "2021-09-29T18:33:51.762440Z",
     "shell.execute_reply": "2021-09-29T18:33:51.761903Z",
     "shell.execute_reply.started": "2021-09-29T18:33:51.622836Z"
    },
    "tags": []
   },
   "outputs": [
    {
     "data": {
      "text/html": [
       "<pre>✔️ 17.5 ms (2021-09-29T14:33:51/2021-09-29T14:33:51)</pre>"
      ],
      "text/plain": [
       "<IPython.core.display.HTML object>"
      ]
     },
     "metadata": {},
     "output_type": "display_data"
    }
   ],
   "source": [
    "selector = {'simple_matrices':'matrices', 'simple_free_parameters':'simple_free_parameters','free_parameters':'free_parameters','eigen_system':'eigen_system'}\n",
    "crystal_pickle = {i : {selector[s]: diagonalley[i][s]  for s in selector} for i in diagonalley}\n",
    "pickle.dump(crystal_pickle, open('/Users/juan/Google Drive/Zia Lab/Log/Data/crystal_splits.pkl','wb'))"
   ]
  },
  {
   "cell_type": "code",
   "execution_count": 108,
   "id": "c392f6fe-04dd-487f-b4d6-ce76f25e282f",
   "metadata": {
    "execution": {
     "iopub.execute_input": "2021-09-29T18:25:20.057185Z",
     "iopub.status.busy": "2021-09-29T18:25:20.056808Z",
     "iopub.status.idle": "2021-09-29T18:25:20.208820Z",
     "shell.execute_reply": "2021-09-29T18:25:20.208464Z",
     "shell.execute_reply.started": "2021-09-29T18:25:20.057148Z"
    },
    "tags": []
   },
   "outputs": [
    {
     "data": {
      "text/html": [
       "<pre>✔️ 8.77 ms (2021-09-29T14:25:20/2021-09-29T14:25:20)</pre>"
      ],
      "text/plain": [
       "<IPython.core.display.HTML object>"
      ]
     },
     "metadata": {},
     "output_type": "display_data"
    },
    {
     "data": {
      "text/plain": [
       "48049"
      ]
     },
     "execution_count": 108,
     "metadata": {},
     "output_type": "execute_result"
    }
   ],
   "source": [
    "templates = (\n",
    "{'header': r'''{{\\vspace{{0.5cm}}\n",
    "\\Large{{------------ ${group_symb}$ ({group_num}) ------------}}}}'''+'\\\\\\\\ \\n',\n",
    "'body0':''' \\\\vspace{{0.5cm}}\n",
    "\n",
    "$V_{{CF}} = {simple_ham}$ \\\\\\\\\n",
    "\n",
    "\\[V_{{CF}}^{{l=2}}={matrix_latex}\\]\n",
    "\n",
    "\\\\vspace{{0.25cm}}\n",
    "${splitting_latex}$ \\\\\\\\\n",
    "\\\\vspace{{0.5cm}}\n",
    "Free-parameters for d-electrons: ${simple_free_parameters}$ \\\\\\\\\n",
    "\\\\vspace{{0.5cm}}\n",
    "Eigenvalues and eigenvectors:\n",
    "\n",
    "{eigen_latex} \\n\n",
    "\\\\vspace{{0.25cm}}\n",
    "''',\n",
    "'body1':''' \\\\vspace{{0.5cm}}\n",
    "$V_{{CF}} = {simple_ham}$ \\\\\\\\\n",
    "\\[V_{{CF}}^{{l=2}}={matrix_latex}\\]\n",
    "\n",
    "${splitting_latex}$ \\\\\\\\\n",
    "\\\\vspace{{0.5cm}}\n",
    "Free-parameters for d-electrons: ${simple_free_parameters}$ \\\\\\\\\n",
    "\\\\vspace{{0.25cm}}\n",
    "'''})\n",
    "full_latex = []\n",
    "double_col_entries = [6,21]\n",
    "double_col_exits = [15,32]\n",
    "for group_num in diagonalley:\n",
    "    summary = diagonalley[group_num]\n",
    "    latex_output = [templates['header'].format(**summary)]\n",
    "    if len(summary['eigen_latex']) > 0:\n",
    "        for simple_ham, mat_lat, free_params, eigen_tex in zip(summary['simple_hams_latex'],\n",
    "                                                   summary['simple_matrices.latex'],\n",
    "                                                   summary['simple_free_parameters.latex'],\n",
    "                                                   summary['eigen_latex']):\n",
    "            out = templates['body0'].format(**{'simple_ham': simple_ham,\n",
    "                         'simple_free_parameters': free_params, \n",
    "                         'matrix_latex': mat_lat,\n",
    "                         'eigen_latex': eigen_tex,\n",
    "                         'splitting_latex': summary['splitting.latex'].replace('+','\\\\oplus')})\n",
    "            latex_output.append(out)\n",
    "    else:\n",
    "        for simple_ham, mat_lat, free_params, splittex in zip(summary['simple_hams_latex'],\n",
    "                                                    summary['simple_matrices.latex'],\n",
    "                                                    summary['simple_free_parameters.latex'],\n",
    "                                                    summary['splitting.latex']):\n",
    "            out = templates['body1'].format(**{'simple_ham': simple_ham,\n",
    "                         'simple_free_parameters': free_params, \n",
    "                         'matrix_latex': mat_lat,\n",
    "                         'splitting_latex': summary['splitting.latex'].replace('+','\\\\oplus')})\n",
    "\n",
    "            latex_output.append(out)\n",
    "    final_output = '\\\\begin{center}\\n\\n%s\\n\\\\end{center}\\n \\\\hrule \\n' % (' '.join(latex_output))\n",
    "    if group_num in double_col_entries:\n",
    "        final_output = '\\n\\\\begin{multicols}{2}\\n' + final_output\n",
    "    if group_num in double_col_exits:\n",
    "        final_output = final_output + '\\n\\\\end{multicols}\\n'\n",
    "    full_latex.append(final_output)\n",
    "final_latex = '\\n'.join(full_latex)\n",
    "# pyperclip.copy(final_latex)\n",
    "fname = '/Users/juan/Google Drive/Zia Lab/Theoretical Division/1delectron.tex'\n",
    "open(fname,'w').write(final_latex)"
   ]
  },
  {
   "cell_type": "code",
   "execution_count": 432,
   "id": "22b065f1-c149-4f2e-b028-d37dc97d8789",
   "metadata": {
    "execution": {
     "iopub.execute_input": "2021-09-26T16:10:09.754101Z",
     "iopub.status.busy": "2021-09-26T16:10:09.753691Z",
     "iopub.status.idle": "2021-09-26T16:10:09.969694Z",
     "shell.execute_reply": "2021-09-26T16:10:09.969312Z",
     "shell.execute_reply.started": "2021-09-26T16:10:09.754051Z"
    },
    "tags": []
   },
   "outputs": [
    {
     "data": {
      "text/html": [
       "<pre>✔️ 1.07 ms (2021-09-26T12:10:09/2021-09-26T12:10:09)</pre>"
      ],
      "text/plain": [
       "<IPython.core.display.HTML object>"
      ]
     },
     "metadata": {},
     "output_type": "display_data"
    }
   ],
   "source": [
    "# latex_printout = {}\n",
    "# for group_num in diagonalley:\n",
    "#     this_chunk = diagonalley[group_num]\n",
    "#     group_label = CPGs.groups[group_num].label\n",
    "#     matrix_latex = []\n",
    "#     for matrix in this_chunk['matrices']:\n",
    "#         matrix_latex.append(sp.latex(matrix))\n",
    "#     matrix_latex = '\\n'.join(matrix_latex)"
   ]
  },
  {
   "cell_type": "markdown",
   "id": "9444bee8-c928-4ef8-b2a1-23d63e06f8ef",
   "metadata": {
    "tags": []
   },
   "source": [
    "## Parsing index of book to create connection between section number and chemical formula of hosts."
   ]
  },
  {
   "cell_type": "markdown",
   "id": "33594edb-f13b-46a5-9e5f-7cddcb7a71be",
   "metadata": {},
   "source": [
    "End result of this is that an additional key is added to the \"morrison\" dictionary\n",
    "whose keys are the section numbers of the book and whose values are the parsed formulas\n",
    "for the different crystal hosts."
   ]
  },
  {
   "cell_type": "code",
   "execution_count": 125,
   "id": "d7d172d7-1304-4e4b-8333-b8ee6f87327b",
   "metadata": {
    "execution": {
     "iopub.execute_input": "2021-10-12T18:50:28.031436Z",
     "iopub.status.busy": "2021-10-12T18:50:28.030033Z",
     "iopub.status.idle": "2021-10-12T18:50:28.239833Z",
     "shell.execute_reply": "2021-10-12T18:50:28.239477Z",
     "shell.execute_reply.started": "2021-10-12T18:50:28.031365Z"
    },
    "tags": []
   },
   "outputs": [
    {
     "data": {
      "text/html": [
       "<pre>✔️ 15.5 ms (2021-10-12T14:50:28/2021-10-12T14:50:28)</pre>"
      ],
      "text/plain": [
       "<IPython.core.display.HTML object>"
      ]
     },
     "metadata": {},
     "output_type": "display_data"
    }
   ],
   "source": [
    "import re"
   ]
  },
  {
   "cell_type": "code",
   "execution_count": 115,
   "id": "a08e84fb-904b-4c88-9418-749de86027c1",
   "metadata": {
    "execution": {
     "iopub.execute_input": "2021-10-12T18:44:32.186237Z",
     "iopub.status.busy": "2021-10-12T18:44:32.184785Z",
     "iopub.status.idle": "2021-10-12T18:44:32.380272Z",
     "shell.execute_reply": "2021-10-12T18:44:32.379743Z",
     "shell.execute_reply.started": "2021-10-12T18:44:32.186151Z"
    },
    "tags": []
   },
   "outputs": [
    {
     "data": {
      "text/html": [
       "<pre>✔️ 13.1 ms (2021-10-12T14:44:32/2021-10-12T14:44:32)</pre>"
      ],
      "text/plain": [
       "<IPython.core.display.HTML object>"
      ]
     },
     "metadata": {},
     "output_type": "display_data"
    }
   ],
   "source": [
    "def simple_formula_parser(job):\n",
    "    '''\n",
    "    Parse a chemical formula into a dictionary of\n",
    "    species strings and quantities.\n",
    "\n",
    "    Formula cannot contain parenthesis.\n",
    "    '''\n",
    "    sform = job[0]\n",
    "    mult = job[1]\n",
    "    formula = {}\n",
    "    formula['original'] = sform\n",
    "    sform = re.sub(r'([1-9]+)',r' \\1 ',sform)\n",
    "    sform = re.sub(r'([a-z])([A-Z])','\\\\1 1 \\\\2',sform)\n",
    "    sform = re.sub(r'([A-Z])([A-Z])','\\\\1 1 \\\\2',sform)\n",
    "    if sform[-1] not in '1 2 3 4 5 6 7 8 9'.split(' '):\n",
    "        sform = sform+' 1'\n",
    "    sform = sform.strip()\n",
    "    parsed = sform.split(' ')\n",
    "    parsed = dict(list(zip(parsed[::2],list(map(lambda x: int(x)*mult,parsed[1::2])))))\n",
    "    formula['parsed'] = parsed\n",
    "    return {k:v for k,v in parsed.items() if k !=''}\n",
    "\n",
    "def complex_formula_parser(sform):\n",
    "    '''\n",
    "    Parse  a  chemical  formula  into  a list of dictionary that\n",
    "    specify elements in keys and number of atoms as values.\n",
    "\n",
    "    The  different dictionaries relate to the different parts of\n",
    "    the formula as parsed from the parenthesis structure.\n",
    "    \n",
    "    -------\n",
    "    Example\n",
    "    \n",
    "    complex_formula_parser(Ca(CO2)2)   returns  a  list  of  two\n",
    "    dictionaries  one  for  the single calcium atom, and another\n",
    "    for the oxalate part of the formula like so:\n",
    "    \n",
    "       --> [{'C': 2, 'O': 4}, {'Ca': 1}]\n",
    "    '''\n",
    "\n",
    "    if sform[-1] == ')':\n",
    "        sform = sform + '1'\n",
    "    if ')' in sform:\n",
    "        multipliers = list(map(int,re.findall('\\)(.)',sform)))\n",
    "        groups = list(zip(re.findall(r'\\((.*?)\\)',sform), multipliers))\n",
    "        # delete every single digit after a right parenthesis\n",
    "        sform = re.sub(r'\\)[0-9]',r')',sform)\n",
    "        # delete every thing inside parentheses\n",
    "        sform = re.sub(r'\\(.+\\)','',sform)\n",
    "        groups = groups + [(sform,1)]\n",
    "    else:\n",
    "        groups = [(sform,1)]\n",
    "    return list(map(simple_formula_parser,groups))"
   ]
  },
  {
   "cell_type": "code",
   "execution_count": 428,
   "id": "14870fca-88dd-4053-8afd-fdf2fa1eea47",
   "metadata": {
    "execution": {
     "iopub.execute_input": "2021-09-29T23:29:50.930523Z",
     "iopub.status.busy": "2021-09-29T23:29:50.928884Z",
     "iopub.status.idle": "2021-09-29T23:29:54.908570Z",
     "shell.execute_reply": "2021-09-29T23:29:54.908237Z",
     "shell.execute_reply.started": "2021-09-29T23:29:50.930425Z"
    },
    "tags": []
   },
   "outputs": [
    {
     "data": {
      "text/html": [
       "<pre>✔️ 3.95 s (2021-09-29T19:29:50/2021-09-29T19:29:54)</pre>"
      ],
      "text/plain": [
       "<IPython.core.display.HTML object>"
      ]
     },
     "metadata": {},
     "output_type": "display_data"
    }
   ],
   "source": [
    "morrison_sheets = pd.read_excel('/Users/juan/Google Drive/Zia Lab/Codebase/qdef/data/Morrison.xlsx',None)"
   ]
  },
  {
   "cell_type": "code",
   "execution_count": 121,
   "id": "a36b02bb-9446-47a0-8b06-1fc6278f9004",
   "metadata": {
    "execution": {
     "iopub.execute_input": "2021-10-12T18:47:03.184482Z",
     "iopub.status.busy": "2021-10-12T18:47:03.183997Z",
     "iopub.status.idle": "2021-10-12T18:47:03.376727Z",
     "shell.execute_reply": "2021-10-12T18:47:03.376269Z",
     "shell.execute_reply.started": "2021-10-12T18:47:03.184412Z"
    },
    "tags": []
   },
   "outputs": [
    {
     "data": {
      "text/html": [
       "<pre>✔️ 10.2 ms (2021-10-12T14:47:03/2021-10-12T14:47:03)</pre>"
      ],
      "text/plain": [
       "<IPython.core.display.HTML object>"
      ]
     },
     "metadata": {},
     "output_type": "display_data"
    }
   ],
   "source": [
    "index_df = morrison_sheets['Index']\n",
    "index_df.loc[:,'Section'] = index_df['Section'].astype(int)\n",
    "# some are combinations of this and that, I shall omit these\n",
    "# i am keeping the ones in which there are single substitutions of \"X\"\n",
    "index_df = index_df[index_df['Comment1'].apply(lambda x: '*' not in str(x))]\n",
    "index_df.loc[:,'Parsed Formula'] = index_df['Formula'].apply(complex_formula_parser)\n",
    "index_df.loc[:,'Pretty Name'] = index_df['Pretty Name'].fillna('')"
   ]
  },
  {
   "cell_type": "code",
   "execution_count": 123,
   "id": "1b102d70-eada-485c-96e5-795044ba6490",
   "metadata": {
    "execution": {
     "iopub.execute_input": "2021-10-12T18:47:27.899583Z",
     "iopub.status.busy": "2021-10-12T18:47:27.899179Z",
     "iopub.status.idle": "2021-10-12T18:47:28.133376Z",
     "shell.execute_reply": "2021-10-12T18:47:28.133019Z",
     "shell.execute_reply.started": "2021-10-12T18:47:27.899546Z"
    },
    "tags": []
   },
   "outputs": [
    {
     "data": {
      "text/html": [
       "<pre>✔️ 5.14 ms (2021-10-12T14:47:27/2021-10-12T14:47:27)</pre>"
      ],
      "text/plain": [
       "<IPython.core.display.HTML object>"
      ]
     },
     "metadata": {},
     "output_type": "display_data"
    }
   ],
   "source": [
    "index = dict(zip(index_df['Section'],zip(index_df['Formula'],index_df['Parsed Formula'],index_df['Pretty Name'])))\n",
    "morrison['section_to_host'] = index"
   ]
  },
  {
   "cell_type": "code",
   "execution_count": 390,
   "id": "668e36fa-84cc-424f-8fa9-62ede51787f3",
   "metadata": {
    "execution": {
     "iopub.execute_input": "2021-09-29T23:13:00.483782Z",
     "iopub.status.busy": "2021-09-29T23:13:00.482757Z",
     "iopub.status.idle": "2021-09-29T23:13:00.662681Z",
     "shell.execute_reply": "2021-09-29T23:13:00.662262Z",
     "shell.execute_reply.started": "2021-09-29T23:13:00.483709Z"
    }
   },
   "outputs": [
    {
     "data": {
      "text/html": [
       "<pre>✔️ 34.4 ms (2021-09-29T19:13:00/2021-09-29T19:13:00)</pre>"
      ],
      "text/plain": [
       "<IPython.core.display.HTML object>"
      ]
     },
     "metadata": {},
     "output_type": "display_data"
    }
   ],
   "source": [
    "if input(\"continue?\") == 'yes':\n",
    "    pickle.dump(morrison,open('/Users/juan/Google Drive/Zia Lab/Codebase/qdef/data/morrison.pkl','wb'))"
   ]
  },
  {
   "cell_type": "markdown",
   "id": "00c4ab23-6873-4fac-940b-4a1bd2210610",
   "metadata": {
    "tags": []
   },
   "source": [
    "## Parsing tables from Morrisons book"
   ]
  },
  {
   "cell_type": "code",
   "execution_count": 169,
   "id": "b1e9dec1-ad4f-47fb-b917-7c7240a99cdb",
   "metadata": {
    "execution": {
     "iopub.execute_input": "2021-10-12T18:59:18.739814Z",
     "iopub.status.busy": "2021-10-12T18:59:18.734457Z",
     "iopub.status.idle": "2021-10-12T18:59:27.515426Z",
     "shell.execute_reply": "2021-10-12T18:59:27.515121Z",
     "shell.execute_reply.started": "2021-10-12T18:59:18.739668Z"
    },
    "tags": []
   },
   "outputs": [
    {
     "data": {
      "text/html": [
       "<pre>✔️ 8.63 s (2021-10-12T14:59:18/2021-10-12T14:59:27)</pre>"
      ],
      "text/plain": [
       "<IPython.core.display.HTML object>"
      ]
     },
     "metadata": {},
     "output_type": "display_data"
    }
   ],
   "source": [
    "morrison_sheets = pd.read_excel('/Users/juan/Google Drive/Zia Lab/Codebase/qdef/data/Morrison.xlsx',None)"
   ]
  },
  {
   "cell_type": "code",
   "execution_count": 170,
   "id": "46ac3432-ae67-441a-ae81-4d6691204743",
   "metadata": {
    "execution": {
     "iopub.execute_input": "2021-10-12T18:59:27.516390Z",
     "iopub.status.busy": "2021-10-12T18:59:27.516289Z",
     "iopub.status.idle": "2021-10-12T18:59:27.691729Z",
     "shell.execute_reply": "2021-10-12T18:59:27.691347Z",
     "shell.execute_reply.started": "2021-10-12T18:59:27.516377Z"
    },
    "tags": []
   },
   "outputs": [
    {
     "data": {
      "text/html": [
       "<pre>✔️ 489 µs (2021-10-12T14:59:27/2021-10-12T14:59:27)</pre>"
      ],
      "text/plain": [
       "<IPython.core.display.HTML object>"
      ]
     },
     "metadata": {},
     "output_type": "display_data"
    }
   ],
   "source": [
    "morrison_keys = list(morrison_sheets)"
   ]
  },
  {
   "cell_type": "code",
   "execution_count": 4,
   "id": "03864585-a9f9-4406-bdac-814c0a3197a6",
   "metadata": {
    "execution": {
     "iopub.execute_input": "2021-10-15T21:58:52.801599Z",
     "iopub.status.busy": "2021-10-15T21:58:52.800086Z",
     "iopub.status.idle": "2021-10-15T21:58:52.996017Z",
     "shell.execute_reply": "2021-10-15T21:58:52.995683Z",
     "shell.execute_reply.started": "2021-10-15T21:58:52.801528Z"
    },
    "tags": []
   },
   "outputs": [
    {
     "data": {
      "text/html": [
       "<pre>✔️ 11.1 ms (2021-10-15T17:58:52/2021-10-15T17:58:52)</pre>"
      ],
      "text/plain": [
       "<IPython.core.display.HTML object>"
      ]
     },
     "metadata": {},
     "output_type": "display_data"
    }
   ],
   "source": [
    "def parse_comments(dframe):\n",
    "    '''\n",
    "    Receive a table an result a list of strings with the comments in the\n",
    "    comments column.\n",
    "    '''\n",
    "    if 'Comments' in dframe:\n",
    "        return list(filter(lambda x: x != '',list(dframe['Comments'].fillna(''))))\n",
    "    else:\n",
    "        print(\"No comments column, returning empty.\")\n",
    "        return []"
   ]
  },
  {
   "cell_type": "code",
   "execution_count": 6,
   "id": "bb074d72-7195-4d68-926c-eab695439f1c",
   "metadata": {
    "execution": {
     "iopub.execute_input": "2021-10-15T21:58:56.926646Z",
     "iopub.status.busy": "2021-10-15T21:58:56.926280Z",
     "iopub.status.idle": "2021-10-15T21:58:57.114371Z",
     "shell.execute_reply": "2021-10-15T21:58:57.114004Z",
     "shell.execute_reply.started": "2021-10-15T21:58:56.926610Z"
    },
    "tags": []
   },
   "outputs": [
    {
     "data": {
      "text/html": [
       "<pre>✔️ 1.54 ms (2021-10-15T17:58:56/2021-10-15T17:58:56)</pre>"
      ],
      "text/plain": [
       "<IPython.core.display.HTML object>"
      ]
     },
     "metadata": {},
     "output_type": "display_data"
    }
   ],
   "source": [
    "def table_types(dframe):\n",
    "    '''\n",
    "    Receive a table and return a list with the types of thing it is.\n",
    "    '''\n",
    "    if 'Types' in list(dframe):\n",
    "        return dframe['Types'][0].split(',')\n",
    "    else:\n",
    "        print(\"No types, returning empty.\")\n",
    "        return []"
   ]
  },
  {
   "cell_type": "code",
   "execution_count": 7,
   "id": "820c0f68-393b-4bd0-aaa7-78999ac91f8d",
   "metadata": {
    "execution": {
     "iopub.execute_input": "2021-10-15T21:58:57.298307Z",
     "iopub.status.busy": "2021-10-15T21:58:57.297435Z",
     "iopub.status.idle": "2021-10-15T21:58:57.493048Z",
     "shell.execute_reply": "2021-10-15T21:58:57.490197Z",
     "shell.execute_reply.started": "2021-10-15T21:58:57.298250Z"
    },
    "tags": []
   },
   "outputs": [
    {
     "data": {
      "text/html": [
       "<pre>✔️ 4.04 ms (2021-10-15T17:58:57/2021-10-15T17:58:57)</pre>"
      ],
      "text/plain": [
       "<IPython.core.display.HTML object>"
      ]
     },
     "metadata": {},
     "output_type": "display_data"
    }
   ],
   "source": [
    "def parse_table(dframe, debug=False):\n",
    "    # get the type of table it is\n",
    "    dframe_types = table_types(dframe)\n",
    "    if ('CDATA' in dframe_types):\n",
    "        if debug:\n",
    "            print(\"This is a table with crystallographic data.\")\n",
    "        # lattice params are in the first column\n",
    "        crystallographic_data = list(dframe)[0]\n",
    "        first_col = [s for s in dframe[list(dframe)[0]].fillna('') if s]\n",
    "        lattice_params = {s.split('=')[0]:float(s.split('=')[1]) for s in first_col}\n",
    "        crystal_system = crystallographic_data.split(' ')[0].lower()\n",
    "        if ('GARNET') in dframe_types:\n",
    "            print(\"This is a table with an array of garnets.\")\n",
    "        else:\n",
    "            pass\n",
    "        crystal_data = {'lattice_params': lattice_params,\n",
    "                       'crystal_system': crystal_system}\n",
    "        return crystal_data\n",
    "    if ('EXPARAMS' in dframe_types):\n",
    "        pass"
   ]
  },
  {
   "cell_type": "code",
   "execution_count": 174,
   "id": "ae9037a6-98e1-432d-934d-ed0391104875",
   "metadata": {
    "execution": {
     "iopub.execute_input": "2021-10-12T18:59:28.198460Z",
     "iopub.status.busy": "2021-10-12T18:59:28.198272Z",
     "iopub.status.idle": "2021-10-12T18:59:28.352641Z",
     "shell.execute_reply": "2021-10-12T18:59:28.352112Z",
     "shell.execute_reply.started": "2021-10-12T18:59:28.198444Z"
    },
    "tags": []
   },
   "outputs": [
    {
     "data": {
      "text/html": [
       "<pre>✔️ 8.28 ms (2021-10-12T14:59:28/2021-10-12T14:59:28)</pre>"
      ],
      "text/plain": [
       "<IPython.core.display.HTML object>"
      ]
     },
     "metadata": {},
     "output_type": "display_data"
    },
    {
     "name": "stdout",
     "output_type": "stream",
     "text": [
      "3.1 {'lattice_params': {'a': 12.0}, 'crystal_system': 'cubic'}\n",
      "4.1.1 {'lattice_params': {'a': 8.11}, 'crystal_system': 'cubic'}\n",
      "5.1.1 {'lattice_params': {'a ': 9.96}, 'crystal_system': 'cubic'}\n",
      "5.1.2 {'lattice_params': {'a ': 6.15, 'c ': 4.96}, 'crystal_system': 'hexagonal'}\n",
      "6.1 {'lattice_params': {'a': 4.724, 'c': 8.225}, 'crystal_system': 'trigonal'}\n",
      "7.1 {'lattice_params': {'a': 4.623, 'b': 3.052}, 'crystal_system': 'tetragonal'}\n",
      "8.1 {'lattice_params': {'a': 4.8734, 'c': 3.3099}, 'crystal_system': 'tetragonal'}\n",
      "9.1 {'lattice_params': {'a': 4.7034, 'c': 3.1335}, 'crystal_system': 'tetragonal'}\n",
      "10.1 {'lattice_params': {'a': 4.2112}, 'crystal_system': 'cubic'}\n",
      "11.1 {'lattice_params': {'a': 9.206, 'c': 9.205}, 'crystal_system': 'hexagonal'}\n",
      "12.1 {'lattice_params': {'a': 12.415}, 'crystal_system': 'cubic'}\n",
      "13.1 {'lattice_params': {'a': 10.81}, 'crystal_system': 'cubic'}\n",
      "20.1.1 {'lattice_params': {'a': 5.4093}, 'crystal_system': 'cubic'}\n",
      "20.1.2 {'lattice_params': {'a': 3.8227, 'b': 6.2607}, 'crystal_system': 'hexagonal'}\n"
     ]
    }
   ],
   "source": [
    "# collect sheets that have crystallographic data\n",
    "cdata_sheets = {mk:table_types(morrison_sheets[mk]) for mk in morrison_keys}\n",
    "cdata_sheets = [k for k,v in cdata_sheets.items() if 'CDATA' in v]\n",
    "for cs in cdata_sheets:\n",
    "    print(cs,parse_table(morrison_sheets[cs]))"
   ]
  },
  {
   "cell_type": "markdown",
   "id": "09c49698-fd8a-48fd-8b92-2f4ebbc691c7",
   "metadata": {
    "heading_collapsed": "true",
    "tags": []
   },
   "source": [
    "## Parsing data from sheets with Experimental Values for CF params"
   ]
  },
  {
   "cell_type": "code",
   "execution_count": 777,
   "id": "50db41fe-8e7c-44ae-8228-9a35da3a1779",
   "metadata": {
    "execution": {
     "iopub.execute_input": "2021-10-14T22:41:32.772114Z",
     "iopub.status.busy": "2021-10-14T22:41:32.770627Z",
     "iopub.status.idle": "2021-10-14T22:42:59.121896Z",
     "shell.execute_reply": "2021-10-14T22:42:59.121504Z",
     "shell.execute_reply.started": "2021-10-14T22:41:32.772018Z"
    },
    "tags": []
   },
   "outputs": [
    {
     "data": {
      "text/html": [
       "<pre>✔️ 1 min 26 s (2021-10-14T18:41:32/2021-10-14T18:42:59)</pre>"
      ],
      "text/plain": [
       "<IPython.core.display.HTML object>"
      ]
     },
     "metadata": {},
     "output_type": "display_data"
    }
   ],
   "source": [
    "morrison_sheets = pd.read_excel('/Users/juan/Google Drive/Zia Lab/Codebase/qdef/data/Morrison.xlsx',None)"
   ]
  },
  {
   "cell_type": "code",
   "execution_count": 778,
   "id": "2422ac1e-6699-44f8-a09f-5f90e5d87394",
   "metadata": {
    "execution": {
     "iopub.execute_input": "2021-10-14T22:42:59.122962Z",
     "iopub.status.busy": "2021-10-14T22:42:59.122854Z",
     "iopub.status.idle": "2021-10-14T22:42:59.331871Z",
     "shell.execute_reply": "2021-10-14T22:42:59.331550Z",
     "shell.execute_reply.started": "2021-10-14T22:42:59.122948Z"
    },
    "tags": []
   },
   "outputs": [
    {
     "data": {
      "text/html": [
       "<pre>✔️ 455 µs (2021-10-14T18:42:59/2021-10-14T18:42:59)</pre>"
      ],
      "text/plain": [
       "<IPython.core.display.HTML object>"
      ]
     },
     "metadata": {},
     "output_type": "display_data"
    }
   ],
   "source": [
    "morrison_keys = list(morrison_sheets.keys())"
   ]
  },
  {
   "cell_type": "code",
   "execution_count": 779,
   "id": "9254f7c3-e175-4e33-9b50-55057c727060",
   "metadata": {
    "execution": {
     "iopub.execute_input": "2021-10-14T22:42:59.333111Z",
     "iopub.status.busy": "2021-10-14T22:42:59.333021Z",
     "iopub.status.idle": "2021-10-14T22:42:59.498026Z",
     "shell.execute_reply": "2021-10-14T22:42:59.497606Z",
     "shell.execute_reply.started": "2021-10-14T22:42:59.333098Z"
    },
    "tags": []
   },
   "outputs": [
    {
     "data": {
      "text/html": [
       "<pre>✔️ 8.58 ms (2021-10-14T18:42:59/2021-10-14T18:42:59)</pre>"
      ],
      "text/plain": [
       "<IPython.core.display.HTML object>"
      ]
     },
     "metadata": {},
     "output_type": "display_data"
    },
    {
     "data": {
      "text/plain": [
       "'3.4 || 5.3.3 || 6.3 || 7.3 || 8.3 || 9.3 || 10.3 || 11.3 || 13.3 || 20.3'"
      ]
     },
     "execution_count": 779,
     "metadata": {},
     "output_type": "execute_result"
    }
   ],
   "source": [
    "exparams_sheets = {mk:table_types(morrison_sheets[mk]) for mk in morrison_keys}\n",
    "exparams_sheets = [k for k,v in exparams_sheets.items() if ('EXPARAMS' in v and len(v) == 1)]\n",
    "' || '.join(exparams_sheets)"
   ]
  },
  {
   "cell_type": "code",
   "execution_count": 780,
   "id": "0c47aeb6-936a-4340-9d6c-d69759b2205f",
   "metadata": {
    "execution": {
     "iopub.execute_input": "2021-10-14T22:42:59.499223Z",
     "iopub.status.busy": "2021-10-14T22:42:59.499112Z",
     "iopub.status.idle": "2021-10-14T22:42:59.649604Z",
     "shell.execute_reply": "2021-10-14T22:42:59.649275Z",
     "shell.execute_reply.started": "2021-10-14T22:42:59.499210Z"
    },
    "tags": []
   },
   "outputs": [
    {
     "data": {
      "text/html": [
       "<pre>✔️ 1.01 ms (2021-10-14T18:42:59/2021-10-14T18:42:59)</pre>"
      ],
      "text/plain": [
       "<IPython.core.display.HTML object>"
      ]
     },
     "metadata": {},
     "output_type": "display_data"
    }
   ],
   "source": [
    "index = morrison['section_to_host'] "
   ]
  },
  {
   "cell_type": "code",
   "execution_count": 781,
   "id": "d1c41f44-de04-4544-9395-07a829aa4243",
   "metadata": {
    "execution": {
     "iopub.execute_input": "2021-10-14T22:42:59.650372Z",
     "iopub.status.busy": "2021-10-14T22:42:59.650276Z",
     "iopub.status.idle": "2021-10-14T22:42:59.782596Z",
     "shell.execute_reply": "2021-10-14T22:42:59.782271Z",
     "shell.execute_reply.started": "2021-10-14T22:42:59.650358Z"
    },
    "tags": []
   },
   "outputs": [
    {
     "data": {
      "text/html": [
       "<pre>✔️ 18.6 ms (2021-10-14T18:42:59/2021-10-14T18:42:59)</pre>"
      ],
      "text/plain": [
       "<IPython.core.display.HTML object>"
      ]
     },
     "metadata": {},
     "output_type": "display_data"
    },
    {
     "name": "stdout",
     "output_type": "stream",
     "text": [
      "Experimental values (cm^{-1}) of parameters for D_{3d} site of Cs2TiF6\n"
     ]
    }
   ],
   "source": [
    "# these sheets provide information on experimentally\n",
    "# measured values for F^2, F^4, zeta, and B_40\n",
    "# the result should be something that is keyed\n",
    "# by the formulas of the hosts\n",
    "# and whose values are dataframes\n",
    "dframes = []\n",
    "for sheetkey in exparams_sheets:\n",
    "    # parse the section for the sheet key\n",
    "    section = int(sheetkey.split('.')[0])\n",
    "    # query to which host this refers to\n",
    "    host = index[section][0]\n",
    "    # grab the sheet\n",
    "    asheet = pd.DataFrame(morrison_sheets[sheetkey])\n",
    "    asheet.loc[:,\"Host\"] = host\n",
    "    asheet.loc[:,\"Type\"] = 'Experimental'\n",
    "    asheet.loc[:,\"Source\"] = 'Morrison - 1992 - Crystal Fields for Transition-Metal Ions in Lasers: %s' % sheetkey\n",
    "    # grab the metadata which is in the top left corner\n",
    "    metadata = list(asheet)[0]\n",
    "    if 'site' in metadata:\n",
    "        print(metadata)\n",
    "#     asheet.loc[:,\"metadata\"] = metadata\n",
    "    asheet = asheet[list(asheet)[1:]]\n",
    "    ion = asheet['Ion']\n",
    "    \n",
    "    # drop the comments section\n",
    "    asheet.drop(['Comments'],axis=1,inplace=True)\n",
    "    # drop the first column\n",
    "#     asheet.drop(asheet.columns[0],axis=1,inplace=True)\n",
    "    asheet.reset_index(drop=True,inplace=True)\n",
    "    # drop the types column\n",
    "    asheet.drop(['Types'],axis=1,inplace=True)\n",
    "    dframes.append(asheet)"
   ]
  },
  {
   "cell_type": "code",
   "execution_count": 782,
   "id": "87f0bbb1-3be3-40de-9138-38492e8c0fa3",
   "metadata": {
    "execution": {
     "iopub.execute_input": "2021-10-14T22:42:59.783297Z",
     "iopub.status.busy": "2021-10-14T22:42:59.783206Z",
     "iopub.status.idle": "2021-10-14T22:42:59.947475Z",
     "shell.execute_reply": "2021-10-14T22:42:59.946896Z",
     "shell.execute_reply.started": "2021-10-14T22:42:59.783284Z"
    },
    "tags": []
   },
   "outputs": [
    {
     "data": {
      "text/html": [
       "<pre>✔️ 792 µs (2021-10-14T18:42:59/2021-10-14T18:42:59)</pre>"
      ],
      "text/plain": [
       "<IPython.core.display.HTML object>"
      ]
     },
     "metadata": {},
     "output_type": "display_data"
    }
   ],
   "source": [
    "for idx, df in enumerate(dframes):\n",
    "    if 'Reference' in list(df):\n",
    "        print(exparams_sheets[idx],list(df))"
   ]
  },
  {
   "cell_type": "code",
   "execution_count": 783,
   "id": "1d2fde41-bd52-40f1-984c-03b37fb2398e",
   "metadata": {
    "execution": {
     "iopub.execute_input": "2021-10-14T22:42:59.948524Z",
     "iopub.status.busy": "2021-10-14T22:42:59.948297Z",
     "iopub.status.idle": "2021-10-14T22:43:00.143585Z",
     "shell.execute_reply": "2021-10-14T22:43:00.143221Z",
     "shell.execute_reply.started": "2021-10-14T22:42:59.948507Z"
    },
    "tags": []
   },
   "outputs": [
    {
     "data": {
      "text/html": [
       "<pre>✔️ 2.2 ms (2021-10-14T18:42:59/2021-10-14T18:42:59)</pre>"
      ],
      "text/plain": [
       "<IPython.core.display.HTML object>"
      ]
     },
     "metadata": {},
     "output_type": "display_data"
    },
    {
     "name": "stdout",
     "output_type": "stream",
     "text": [
      "site 3.4\n",
      "site 5.3.3\n",
      "site 6.3\n",
      "site 7.3\n",
      "site 8.3\n",
      "site 9.3\n",
      "site 10.3\n",
      "site 11.3\n",
      "site 13.3\n",
      "site 20.3\n"
     ]
    }
   ],
   "source": [
    "for idx, dframe in enumerate(dframes):\n",
    "    if 'Site' not in dframe.columns:\n",
    "        print(\"no site\",exparams_sheets[idx])\n",
    "    else:\n",
    "        print(\"site\",exparams_sheets[idx])"
   ]
  },
  {
   "cell_type": "code",
   "execution_count": 784,
   "id": "0984caf9-ae1c-46df-9e0c-68beea18fc82",
   "metadata": {
    "execution": {
     "iopub.execute_input": "2021-10-14T22:43:00.145763Z",
     "iopub.status.busy": "2021-10-14T22:43:00.145639Z",
     "iopub.status.idle": "2021-10-14T22:43:00.298424Z",
     "shell.execute_reply": "2021-10-14T22:43:00.298104Z",
     "shell.execute_reply.started": "2021-10-14T22:43:00.145750Z"
    },
    "tags": []
   },
   "outputs": [
    {
     "data": {
      "text/html": [
       "<pre>✔️ 9.95 ms (2021-10-14T18:43:00/2021-10-14T18:43:00)</pre>"
      ],
      "text/plain": [
       "<IPython.core.display.HTML object>"
      ]
     },
     "metadata": {},
     "output_type": "display_data"
    }
   ],
   "source": [
    "Bnm_df = pd.concat(dframes)\n",
    "Bnm_df.reset_index(drop=True,inplace=True)"
   ]
  },
  {
   "cell_type": "code",
   "execution_count": 785,
   "id": "bc59ba39-f201-47b0-b816-947aad9d34fa",
   "metadata": {
    "execution": {
     "iopub.execute_input": "2021-10-14T22:43:00.299557Z",
     "iopub.status.busy": "2021-10-14T22:43:00.299453Z",
     "iopub.status.idle": "2021-10-14T22:43:00.427719Z",
     "shell.execute_reply": "2021-10-14T22:43:00.427326Z",
     "shell.execute_reply.started": "2021-10-14T22:43:00.299543Z"
    },
    "tags": []
   },
   "outputs": [
    {
     "data": {
      "text/html": [
       "<pre>✔️ 3.25 ms (2021-10-14T18:43:00/2021-10-14T18:43:00)</pre>"
      ],
      "text/plain": [
       "<IPython.core.display.HTML object>"
      ]
     },
     "metadata": {},
     "output_type": "display_data"
    },
    {
     "data": {
      "text/plain": [
       "['Morrison - 1992 - Crystal Fields for Transition-Metal Ions in Lasers: 3.4',\n",
       " 'Morrison - 1992 - Crystal Fields for Transition-Metal Ions in Lasers: 3.4',\n",
       " 'Morrison - 1992 - Crystal Fields for Transition-Metal Ions in Lasers: 11.3']"
      ]
     },
     "execution_count": 785,
     "metadata": {},
     "output_type": "execute_result"
    }
   ],
   "source": [
    "list(Bnm_df[Bnm_df['nd^N'].apply(lambda x: 'd2' in x)]['Source'])"
   ]
  },
  {
   "cell_type": "code",
   "execution_count": 786,
   "id": "2c497d05-be6f-42b8-9383-1638d5703a9a",
   "metadata": {
    "execution": {
     "iopub.execute_input": "2021-10-14T22:43:00.428533Z",
     "iopub.status.busy": "2021-10-14T22:43:00.428441Z",
     "iopub.status.idle": "2021-10-14T22:43:00.556148Z",
     "shell.execute_reply": "2021-10-14T22:43:00.555769Z",
     "shell.execute_reply.started": "2021-10-14T22:43:00.428520Z"
    },
    "tags": []
   },
   "outputs": [
    {
     "data": {
      "text/html": [
       "<pre>✔️ 43.1 ms (2021-10-14T18:43:00/2021-10-14T18:43:00)</pre>"
      ],
      "text/plain": [
       "<IPython.core.display.HTML object>"
      ]
     },
     "metadata": {},
     "output_type": "display_data"
    }
   ],
   "source": [
    "Bnm_df.to_pickle(os.path.join(module_dir,'data','CFparams.pkl'))"
   ]
  },
  {
   "cell_type": "code",
   "execution_count": 787,
   "id": "6ae5a1ac-4924-43d9-ba2f-2451da835f0b",
   "metadata": {
    "execution": {
     "iopub.execute_input": "2021-10-14T22:43:00.557007Z",
     "iopub.status.busy": "2021-10-14T22:43:00.556903Z",
     "iopub.status.idle": "2021-10-14T22:43:00.683978Z",
     "shell.execute_reply": "2021-10-14T22:43:00.683610Z",
     "shell.execute_reply.started": "2021-10-14T22:43:00.556993Z"
    },
    "tags": []
   },
   "outputs": [
    {
     "data": {
      "text/html": [
       "<pre>✔️ 82.3 ms (2021-10-14T18:43:00/2021-10-14T18:43:00)</pre>"
      ],
      "text/plain": [
       "<IPython.core.display.HTML object>"
      ]
     },
     "metadata": {},
     "output_type": "display_data"
    }
   ],
   "source": [
    "Bnm_df.to_excel(os.path.join(module_dir,'data','CFparams.xlsx'))\n"
   ]
  },
  {
   "cell_type": "code",
   "execution_count": 788,
   "id": "c7755c23-70f6-48b0-999c-a74f41ff8a61",
   "metadata": {
    "execution": {
     "iopub.execute_input": "2021-10-14T22:43:00.684702Z",
     "iopub.status.busy": "2021-10-14T22:43:00.684609Z",
     "iopub.status.idle": "2021-10-14T22:43:06.242680Z",
     "shell.execute_reply": "2021-10-14T22:43:06.242165Z",
     "shell.execute_reply.started": "2021-10-14T22:43:00.684688Z"
    }
   },
   "outputs": [
    {
     "data": {
      "text/html": [
       "<pre>✔️ 5.47 s (2021-10-14T18:43:00/2021-10-14T18:43:06)</pre>"
      ],
      "text/plain": [
       "<IPython.core.display.HTML object>"
      ]
     },
     "metadata": {},
     "output_type": "display_data"
    }
   ],
   "source": [
    "!ding"
   ]
  },
  {
   "cell_type": "code",
   "execution_count": 789,
   "id": "e5e645c3-27c0-41d1-b58e-7742203b3bff",
   "metadata": {
    "execution": {
     "iopub.execute_input": "2021-10-14T22:43:10.978838Z",
     "iopub.status.busy": "2021-10-14T22:43:10.978431Z",
     "iopub.status.idle": "2021-10-14T22:43:11.253097Z",
     "shell.execute_reply": "2021-10-14T22:43:11.252681Z",
     "shell.execute_reply.started": "2021-10-14T22:43:10.978795Z"
    },
    "tags": []
   },
   "outputs": [
    {
     "data": {
      "text/html": [
       "<pre>✔️ 146 ms (2021-10-14T18:43:10/2021-10-14T18:43:11)</pre>"
      ],
      "text/plain": [
       "<IPython.core.display.HTML object>"
      ]
     },
     "metadata": {},
     "output_type": "display_data"
    }
   ],
   "source": [
    "ions = set(tot_df['Ion'])\n",
    "counting_df = pd.DataFrame([[ion,list(tot_df['Ion']).count(ion),', '.join(list(tot_df[tot_df['Ion']==ion][\"Host\"]))] for ion in ions],columns=['Ion','Count','Hosts']).sort_values('Count')\n",
    "counting_df.to_clipboard(excel=False)"
   ]
  },
  {
   "cell_type": "code",
   "execution_count": 790,
   "id": "595d8b86-5ea4-4896-a4a8-a6f30d1fb464",
   "metadata": {
    "execution": {
     "iopub.execute_input": "2021-10-14T22:43:11.380759Z",
     "iopub.status.busy": "2021-10-14T22:43:11.380251Z",
     "iopub.status.idle": "2021-10-14T22:43:11.599228Z",
     "shell.execute_reply": "2021-10-14T22:43:11.598916Z",
     "shell.execute_reply.started": "2021-10-14T22:43:11.380671Z"
    },
    "tags": []
   },
   "outputs": [
    {
     "data": {
      "text/html": [
       "<pre>✔️ 3.65 ms (2021-10-14T18:43:11/2021-10-14T18:43:11)</pre>"
      ],
      "text/plain": [
       "<IPython.core.display.HTML object>"
      ]
     },
     "metadata": {},
     "output_type": "display_data"
    },
    {
     "name": "stdout",
     "output_type": "stream",
     "text": [
      "Hosts:\n",
      "--- MgF2 | ZnF2 | MnF2 | Cs2TiF6 | ZnS | Be3Al2(SiO3)6 | Cs2SnBr6 | Y3Al5O12 | NH4Al(SO4)2 | MgO\n",
      "Point Groups:\n",
      "--- C_{3i} | S_{4} | D_{3} | D_{2h} | D_{3d} | T_{d} | O_{h}\n",
      "Ions:\n",
      "--- Mn | Rh | V | Ni | Pd | Os | Pt | Cu | Fe | Co | Cr\n"
     ]
    }
   ],
   "source": [
    "print(\"Hosts:\")\n",
    "print(\"---\",' | '.join(list(set(tot_df['Host']))))\n",
    "print(\"Point Groups:\")\n",
    "print(\"---\",' | '.join(list(set(tot_df['Symmetry']))))\n",
    "print(\"Ions:\")\n",
    "print(\"---\",' | '.join(list(ions)))"
   ]
  },
  {
   "cell_type": "code",
   "execution_count": 378,
   "id": "216a1620-c628-4f04-a447-6bb175230ca1",
   "metadata": {
    "execution": {
     "iopub.execute_input": "2021-10-12T22:29:41.720269Z",
     "iopub.status.busy": "2021-10-12T22:29:41.717488Z",
     "iopub.status.idle": "2021-10-12T22:29:42.131115Z",
     "shell.execute_reply": "2021-10-12T22:29:42.130749Z",
     "shell.execute_reply.started": "2021-10-12T22:29:41.720140Z"
    }
   },
   "outputs": [
    {
     "data": {
      "text/html": [
       "<pre>✔️ 283 ms (2021-10-12T18:29:41/2021-10-12T18:29:42)</pre>"
      ],
      "text/plain": [
       "<IPython.core.display.HTML object>"
      ]
     },
     "metadata": {},
     "output_type": "display_data"
    }
   ],
   "source": [
    "import pickle5"
   ]
  },
  {
   "cell_type": "code",
   "execution_count": 382,
   "id": "d781ec90-19ca-4d6e-aecd-4153bfb8bca7",
   "metadata": {
    "execution": {
     "iopub.execute_input": "2021-10-12T22:30:27.629038Z",
     "iopub.status.busy": "2021-10-12T22:30:27.628678Z",
     "iopub.status.idle": "2021-10-12T22:30:28.061281Z",
     "shell.execute_reply": "2021-10-12T22:30:28.060679Z",
     "shell.execute_reply.started": "2021-10-12T22:30:27.629001Z"
    },
    "tags": []
   },
   "outputs": [
    {
     "data": {
      "text/html": [
       "<pre>✔️ 390 ms (2021-10-12T18:30:27/2021-10-12T18:30:28)</pre>"
      ],
      "text/plain": [
       "<IPython.core.display.HTML object>"
      ]
     },
     "metadata": {},
     "output_type": "display_data"
    }
   ],
   "source": [
    "ferrenti_df = pickle5.load(open('/Volumes/GoogleDrive/My Drive/Zia Lab/Codebase/qdef/data/ferrenti_gt.pkl','rb'))"
   ]
  },
  {
   "cell_type": "code",
   "execution_count": 387,
   "id": "0f823f0d-976e-4165-add2-2479e6cb00d5",
   "metadata": {
    "execution": {
     "iopub.execute_input": "2021-10-12T22:31:21.566866Z",
     "iopub.status.busy": "2021-10-12T22:31:21.566504Z",
     "iopub.status.idle": "2021-10-12T22:31:21.808735Z",
     "shell.execute_reply": "2021-10-12T22:31:21.808092Z",
     "shell.execute_reply.started": "2021-10-12T22:31:21.566829Z"
    },
    "tags": []
   },
   "outputs": [
    {
     "data": {
      "text/html": [
       "<pre>✔️ 4.52 ms (2021-10-12T18:31:21/2021-10-12T18:31:21)</pre>"
      ],
      "text/plain": [
       "<IPython.core.display.HTML object>"
      ]
     },
     "metadata": {},
     "output_type": "display_data"
    }
   ],
   "source": [
    "morrison_hosts = set(map(lambda x: x[0],index.values()))\n",
    "ferrenti_hosts = set(ferrenti_df['pretty_formula'])"
   ]
  },
  {
   "cell_type": "code",
   "execution_count": 460,
   "id": "1dca876a-2ba5-4c90-8efa-eb2fdfe5c6d5",
   "metadata": {
    "execution": {
     "iopub.execute_input": "2021-10-12T23:24:33.728398Z",
     "iopub.status.busy": "2021-10-12T23:24:33.728027Z",
     "iopub.status.idle": "2021-10-12T23:24:33.910756Z",
     "shell.execute_reply": "2021-10-12T23:24:33.910271Z",
     "shell.execute_reply.started": "2021-10-12T23:24:33.728362Z"
    },
    "tags": []
   },
   "outputs": [
    {
     "data": {
      "text/html": [
       "<pre>✔️ 1.45 ms (2021-10-12T19:24:33/2021-10-12T19:24:33)</pre>"
      ],
      "text/plain": [
       "<IPython.core.display.HTML object>"
      ]
     },
     "metadata": {},
     "output_type": "display_data"
    }
   ],
   "source": [
    "intersection = list(ferrenti_hosts.intersection(morrison_hosts))"
   ]
  },
  {
   "cell_type": "code",
   "execution_count": 481,
   "id": "fb6711ad-fcab-4838-848c-3594b1ad4724",
   "metadata": {
    "execution": {
     "iopub.execute_input": "2021-10-12T23:31:25.331177Z",
     "iopub.status.busy": "2021-10-12T23:31:25.330821Z",
     "iopub.status.idle": "2021-10-12T23:31:25.514368Z",
     "shell.execute_reply": "2021-10-12T23:31:25.513680Z",
     "shell.execute_reply.started": "2021-10-12T23:31:25.331139Z"
    },
    "tags": []
   },
   "outputs": [
    {
     "data": {
      "text/html": [
       "<pre>✔️ 54.7 ms (2021-10-12T19:31:25/2021-10-12T19:31:25)</pre>"
      ],
      "text/plain": [
       "<IPython.core.display.HTML object>"
      ]
     },
     "metadata": {},
     "output_type": "display_data"
    },
    {
     "data": {
      "text/html": [
       "<div>\n",
       "<style scoped>\n",
       "    .dataframe tbody tr th:only-of-type {\n",
       "        vertical-align: middle;\n",
       "    }\n",
       "\n",
       "    .dataframe tbody tr th {\n",
       "        vertical-align: top;\n",
       "    }\n",
       "\n",
       "    .dataframe thead th {\n",
       "        text-align: right;\n",
       "    }\n",
       "</style>\n",
       "<table border=\"1\" class=\"dataframe\">\n",
       "  <thead>\n",
       "    <tr style=\"text-align: right;\">\n",
       "      <th></th>\n",
       "      <th>Ion</th>\n",
       "      <th>Charge</th>\n",
       "      <th>nd^N</th>\n",
       "      <th>F^{(2)}</th>\n",
       "      <th>F^{(4)}</th>\n",
       "      <th>B_{4,0}</th>\n",
       "      <th>T (K)</th>\n",
       "      <th>Site</th>\n",
       "      <th>Symmetry</th>\n",
       "      <th>Ref</th>\n",
       "      <th>Host</th>\n",
       "      <th>\\zeta</th>\n",
       "      <th>B_{2,0}</th>\n",
       "      <th>B_{4,3}</th>\n",
       "      <th>\\alpha</th>\n",
       "      <th>B_{4,4}</th>\n",
       "      <th>B_{2,2}</th>\n",
       "      <th>B_{4,2}</th>\n",
       "    </tr>\n",
       "  </thead>\n",
       "  <tbody>\n",
       "    <tr>\n",
       "      <th>43</th>\n",
       "      <td>V</td>\n",
       "      <td>2</td>\n",
       "      <td>3d3</td>\n",
       "      <td>42429.00</td>\n",
       "      <td>30239.0</td>\n",
       "      <td>30429</td>\n",
       "      <td>NaN</td>\n",
       "      <td>Mg</td>\n",
       "      <td>O_{h}</td>\n",
       "      <td>59</td>\n",
       "      <td>MgO</td>\n",
       "      <td>NaN</td>\n",
       "      <td>NaN</td>\n",
       "      <td>NaN</td>\n",
       "      <td>60.0</td>\n",
       "      <td>NaN</td>\n",
       "      <td>NaN</td>\n",
       "      <td>NaN</td>\n",
       "    </tr>\n",
       "    <tr>\n",
       "      <th>44</th>\n",
       "      <td>V</td>\n",
       "      <td>2</td>\n",
       "      <td>3d3</td>\n",
       "      <td>47625.00</td>\n",
       "      <td>25455.0</td>\n",
       "      <td>29400</td>\n",
       "      <td>NaN</td>\n",
       "      <td>Mg</td>\n",
       "      <td>O_{h}</td>\n",
       "      <td>55</td>\n",
       "      <td>MgO</td>\n",
       "      <td>NaN</td>\n",
       "      <td>NaN</td>\n",
       "      <td>NaN</td>\n",
       "      <td>79.0</td>\n",
       "      <td>NaN</td>\n",
       "      <td>NaN</td>\n",
       "      <td>NaN</td>\n",
       "    </tr>\n",
       "    <tr>\n",
       "      <th>45</th>\n",
       "      <td>V</td>\n",
       "      <td>2</td>\n",
       "      <td>3d3</td>\n",
       "      <td>44275.00</td>\n",
       "      <td>31185.0</td>\n",
       "      <td>27720</td>\n",
       "      <td>NaN</td>\n",
       "      <td>Mg</td>\n",
       "      <td>O_{h}</td>\n",
       "      <td>56</td>\n",
       "      <td>MgO</td>\n",
       "      <td>NaN</td>\n",
       "      <td>NaN</td>\n",
       "      <td>NaN</td>\n",
       "      <td>NaN</td>\n",
       "      <td>NaN</td>\n",
       "      <td>NaN</td>\n",
       "      <td>NaN</td>\n",
       "    </tr>\n",
       "    <tr>\n",
       "      <th>46</th>\n",
       "      <td>Cr</td>\n",
       "      <td>3</td>\n",
       "      <td>3d3</td>\n",
       "      <td>50906.00</td>\n",
       "      <td>37825.0</td>\n",
       "      <td>33579</td>\n",
       "      <td>NaN</td>\n",
       "      <td>Mg</td>\n",
       "      <td>O_{h}</td>\n",
       "      <td>59</td>\n",
       "      <td>MgO</td>\n",
       "      <td>NaN</td>\n",
       "      <td>NaN</td>\n",
       "      <td>NaN</td>\n",
       "      <td>70.0</td>\n",
       "      <td>NaN</td>\n",
       "      <td>NaN</td>\n",
       "      <td>NaN</td>\n",
       "    </tr>\n",
       "    <tr>\n",
       "      <th>47</th>\n",
       "      <td>Cr</td>\n",
       "      <td>3</td>\n",
       "      <td>3d3</td>\n",
       "      <td>52780.00</td>\n",
       "      <td>36792.0</td>\n",
       "      <td>33390</td>\n",
       "      <td>NaN</td>\n",
       "      <td>Mg</td>\n",
       "      <td>O_{h}</td>\n",
       "      <td>7</td>\n",
       "      <td>MgO</td>\n",
       "      <td>270.0</td>\n",
       "      <td>NaN</td>\n",
       "      <td>NaN</td>\n",
       "      <td>70.0</td>\n",
       "      <td>NaN</td>\n",
       "      <td>NaN</td>\n",
       "      <td>NaN</td>\n",
       "    </tr>\n",
       "    <tr>\n",
       "      <th>48</th>\n",
       "      <td>Cr</td>\n",
       "      <td>3</td>\n",
       "      <td>3d3</td>\n",
       "      <td>54600.00</td>\n",
       "      <td>40950.0</td>\n",
       "      <td>34020</td>\n",
       "      <td>NaN</td>\n",
       "      <td>Mg</td>\n",
       "      <td>O_{h}</td>\n",
       "      <td>28</td>\n",
       "      <td>MgO</td>\n",
       "      <td>135.0</td>\n",
       "      <td>NaN</td>\n",
       "      <td>NaN</td>\n",
       "      <td>NaN</td>\n",
       "      <td>NaN</td>\n",
       "      <td>NaN</td>\n",
       "      <td>NaN</td>\n",
       "    </tr>\n",
       "    <tr>\n",
       "      <th>49</th>\n",
       "      <td>Cr</td>\n",
       "      <td>3</td>\n",
       "      <td>3d3</td>\n",
       "      <td>54250.00</td>\n",
       "      <td>40320.0</td>\n",
       "      <td>34860</td>\n",
       "      <td>NaN</td>\n",
       "      <td>Mg</td>\n",
       "      <td>O_{h}</td>\n",
       "      <td>36</td>\n",
       "      <td>MgO</td>\n",
       "      <td>210.0</td>\n",
       "      <td>NaN</td>\n",
       "      <td>NaN</td>\n",
       "      <td>NaN</td>\n",
       "      <td>NaN</td>\n",
       "      <td>NaN</td>\n",
       "      <td>NaN</td>\n",
       "    </tr>\n",
       "    <tr>\n",
       "      <th>50</th>\n",
       "      <td>Cr</td>\n",
       "      <td>2</td>\n",
       "      <td>3d4</td>\n",
       "      <td>NaN</td>\n",
       "      <td>NaN</td>\n",
       "      <td>14007</td>\n",
       "      <td>NaN</td>\n",
       "      <td>Mg</td>\n",
       "      <td>O_{h}</td>\n",
       "      <td>12</td>\n",
       "      <td>MgO</td>\n",
       "      <td>NaN</td>\n",
       "      <td>NaN</td>\n",
       "      <td>NaN</td>\n",
       "      <td>NaN</td>\n",
       "      <td>NaN</td>\n",
       "      <td>NaN</td>\n",
       "      <td>NaN</td>\n",
       "    </tr>\n",
       "    <tr>\n",
       "      <th>51</th>\n",
       "      <td>Mn</td>\n",
       "      <td>2</td>\n",
       "      <td>3d5</td>\n",
       "      <td>60984.00</td>\n",
       "      <td>40446.0</td>\n",
       "      <td>20559</td>\n",
       "      <td>NaN</td>\n",
       "      <td>Mg</td>\n",
       "      <td>O_{h}</td>\n",
       "      <td>11</td>\n",
       "      <td>MgO</td>\n",
       "      <td>NaN</td>\n",
       "      <td>NaN</td>\n",
       "      <td>NaN</td>\n",
       "      <td>NaN</td>\n",
       "      <td>NaN</td>\n",
       "      <td>NaN</td>\n",
       "      <td>NaN</td>\n",
       "    </tr>\n",
       "    <tr>\n",
       "      <th>52</th>\n",
       "      <td>Mn</td>\n",
       "      <td>2</td>\n",
       "      <td>3d5</td>\n",
       "      <td>67550.00</td>\n",
       "      <td>41240.0</td>\n",
       "      <td>20580</td>\n",
       "      <td>NaN</td>\n",
       "      <td>Mg</td>\n",
       "      <td>O_{h}</td>\n",
       "      <td>23</td>\n",
       "      <td>MgO</td>\n",
       "      <td>320.0</td>\n",
       "      <td>NaN</td>\n",
       "      <td>NaN</td>\n",
       "      <td>65.0</td>\n",
       "      <td>NaN</td>\n",
       "      <td>NaN</td>\n",
       "      <td>NaN</td>\n",
       "    </tr>\n",
       "    <tr>\n",
       "      <th>53</th>\n",
       "      <td>Mn</td>\n",
       "      <td>2</td>\n",
       "      <td>3d5</td>\n",
       "      <td>62230.00</td>\n",
       "      <td>39690.0</td>\n",
       "      <td>15750</td>\n",
       "      <td>NaN</td>\n",
       "      <td>Mg</td>\n",
       "      <td>O_{h}</td>\n",
       "      <td>22</td>\n",
       "      <td>MgO</td>\n",
       "      <td>320.0</td>\n",
       "      <td>NaN</td>\n",
       "      <td>NaN</td>\n",
       "      <td>76.0</td>\n",
       "      <td>NaN</td>\n",
       "      <td>NaN</td>\n",
       "      <td>NaN</td>\n",
       "    </tr>\n",
       "    <tr>\n",
       "      <th>54</th>\n",
       "      <td>Co</td>\n",
       "      <td>2</td>\n",
       "      <td>3d7</td>\n",
       "      <td>68572.00</td>\n",
       "      <td>49342.0</td>\n",
       "      <td>19509</td>\n",
       "      <td>NaN</td>\n",
       "      <td>Mg</td>\n",
       "      <td>O_{h}</td>\n",
       "      <td>61</td>\n",
       "      <td>MgO</td>\n",
       "      <td>419.0</td>\n",
       "      <td>NaN</td>\n",
       "      <td>NaN</td>\n",
       "      <td>NaN</td>\n",
       "      <td>NaN</td>\n",
       "      <td>NaN</td>\n",
       "      <td>NaN</td>\n",
       "    </tr>\n",
       "    <tr>\n",
       "      <th>55</th>\n",
       "      <td>Co</td>\n",
       "      <td>2</td>\n",
       "      <td>3d7</td>\n",
       "      <td>65450.00</td>\n",
       "      <td>47250.0</td>\n",
       "      <td>18795</td>\n",
       "      <td>NaN</td>\n",
       "      <td>Mg</td>\n",
       "      <td>O_{h}</td>\n",
       "      <td>38</td>\n",
       "      <td>MgO</td>\n",
       "      <td>500.0</td>\n",
       "      <td>NaN</td>\n",
       "      <td>NaN</td>\n",
       "      <td>NaN</td>\n",
       "      <td>NaN</td>\n",
       "      <td>NaN</td>\n",
       "      <td>NaN</td>\n",
       "    </tr>\n",
       "    <tr>\n",
       "      <th>56</th>\n",
       "      <td>Co</td>\n",
       "      <td>2</td>\n",
       "      <td>3d7</td>\n",
       "      <td>67.06</td>\n",
       "      <td>46620.0</td>\n",
       "      <td>19530</td>\n",
       "      <td>NaN</td>\n",
       "      <td>Mg</td>\n",
       "      <td>O_{h}</td>\n",
       "      <td>50</td>\n",
       "      <td>MgO</td>\n",
       "      <td>475.0</td>\n",
       "      <td>NaN</td>\n",
       "      <td>NaN</td>\n",
       "      <td>NaN</td>\n",
       "      <td>NaN</td>\n",
       "      <td>NaN</td>\n",
       "      <td>NaN</td>\n",
       "    </tr>\n",
       "    <tr>\n",
       "      <th>57</th>\n",
       "      <td>Ni</td>\n",
       "      <td>2</td>\n",
       "      <td>3d8</td>\n",
       "      <td>NaN</td>\n",
       "      <td>NaN</td>\n",
       "      <td>18060</td>\n",
       "      <td>NaN</td>\n",
       "      <td>Mg</td>\n",
       "      <td>O_{h}</td>\n",
       "      <td>30</td>\n",
       "      <td>MgO</td>\n",
       "      <td>NaN</td>\n",
       "      <td>NaN</td>\n",
       "      <td>NaN</td>\n",
       "      <td>NaN</td>\n",
       "      <td>NaN</td>\n",
       "      <td>NaN</td>\n",
       "      <td>NaN</td>\n",
       "    </tr>\n",
       "    <tr>\n",
       "      <th>58</th>\n",
       "      <td>Ni</td>\n",
       "      <td>2</td>\n",
       "      <td>3d8</td>\n",
       "      <td>71022.00</td>\n",
       "      <td>49342.0</td>\n",
       "      <td>17115</td>\n",
       "      <td>NaN</td>\n",
       "      <td>Mg</td>\n",
       "      <td>O_{h}</td>\n",
       "      <td>46</td>\n",
       "      <td>MgO</td>\n",
       "      <td>630.0</td>\n",
       "      <td>NaN</td>\n",
       "      <td>NaN</td>\n",
       "      <td>NaN</td>\n",
       "      <td>NaN</td>\n",
       "      <td>NaN</td>\n",
       "      <td>NaN</td>\n",
       "    </tr>\n",
       "    <tr>\n",
       "      <th>59</th>\n",
       "      <td>Ni</td>\n",
       "      <td>2</td>\n",
       "      <td>3d8</td>\n",
       "      <td>66343.00</td>\n",
       "      <td>44447.0</td>\n",
       "      <td>17451</td>\n",
       "      <td>NaN</td>\n",
       "      <td>Mg</td>\n",
       "      <td>O_{h}</td>\n",
       "      <td>42</td>\n",
       "      <td>MgO</td>\n",
       "      <td>645.0</td>\n",
       "      <td>NaN</td>\n",
       "      <td>NaN</td>\n",
       "      <td>NaN</td>\n",
       "      <td>NaN</td>\n",
       "      <td>NaN</td>\n",
       "      <td>NaN</td>\n",
       "    </tr>\n",
       "    <tr>\n",
       "      <th>66</th>\n",
       "      <td>V</td>\n",
       "      <td>2</td>\n",
       "      <td>3d3</td>\n",
       "      <td>40439.00</td>\n",
       "      <td>28867.0</td>\n",
       "      <td>-10500</td>\n",
       "      <td>NaN</td>\n",
       "      <td>Zn</td>\n",
       "      <td>T_{d}</td>\n",
       "      <td>14</td>\n",
       "      <td>ZnS</td>\n",
       "      <td>NaN</td>\n",
       "      <td>NaN</td>\n",
       "      <td>NaN</td>\n",
       "      <td>NaN</td>\n",
       "      <td>-6274.950199</td>\n",
       "      <td>NaN</td>\n",
       "      <td>NaN</td>\n",
       "    </tr>\n",
       "    <tr>\n",
       "      <th>67</th>\n",
       "      <td>Cr</td>\n",
       "      <td>2</td>\n",
       "      <td>3d4</td>\n",
       "      <td>44450.00</td>\n",
       "      <td>35910.0</td>\n",
       "      <td>-10710</td>\n",
       "      <td>NaN</td>\n",
       "      <td>Zn</td>\n",
       "      <td>T_{d}</td>\n",
       "      <td>12</td>\n",
       "      <td>ZnS</td>\n",
       "      <td>NaN</td>\n",
       "      <td>NaN</td>\n",
       "      <td>NaN</td>\n",
       "      <td>NaN</td>\n",
       "      <td>-6400.449203</td>\n",
       "      <td>NaN</td>\n",
       "      <td>NaN</td>\n",
       "    </tr>\n",
       "    <tr>\n",
       "      <th>68</th>\n",
       "      <td>Mn</td>\n",
       "      <td>2</td>\n",
       "      <td>3d5</td>\n",
       "      <td>51590.00</td>\n",
       "      <td>39060.0</td>\n",
       "      <td>-10500</td>\n",
       "      <td>NaN</td>\n",
       "      <td>Zn</td>\n",
       "      <td>T_{d}</td>\n",
       "      <td>13</td>\n",
       "      <td>ZnS</td>\n",
       "      <td>NaN</td>\n",
       "      <td>NaN</td>\n",
       "      <td>NaN</td>\n",
       "      <td>NaN</td>\n",
       "      <td>-6274.950199</td>\n",
       "      <td>NaN</td>\n",
       "      <td>NaN</td>\n",
       "    </tr>\n",
       "    <tr>\n",
       "      <th>69</th>\n",
       "      <td>Mn</td>\n",
       "      <td>2</td>\n",
       "      <td>3d5</td>\n",
       "      <td>56454.00</td>\n",
       "      <td>32925.0</td>\n",
       "      <td>-11603</td>\n",
       "      <td>NaN</td>\n",
       "      <td>Zn</td>\n",
       "      <td>T_{d}</td>\n",
       "      <td>45</td>\n",
       "      <td>ZnS</td>\n",
       "      <td>NaN</td>\n",
       "      <td>NaN</td>\n",
       "      <td>NaN</td>\n",
       "      <td>NaN</td>\n",
       "      <td>-6934.118777</td>\n",
       "      <td>NaN</td>\n",
       "      <td>NaN</td>\n",
       "    </tr>\n",
       "    <tr>\n",
       "      <th>70</th>\n",
       "      <td>Fe</td>\n",
       "      <td>2</td>\n",
       "      <td>3d6</td>\n",
       "      <td>51433.00</td>\n",
       "      <td>36195.0</td>\n",
       "      <td>-7486</td>\n",
       "      <td>NaN</td>\n",
       "      <td>Zn</td>\n",
       "      <td>T_{d}</td>\n",
       "      <td>20,47</td>\n",
       "      <td>ZnS</td>\n",
       "      <td>NaN</td>\n",
       "      <td>NaN</td>\n",
       "      <td>NaN</td>\n",
       "      <td>NaN</td>\n",
       "      <td>-4473.740685</td>\n",
       "      <td>NaN</td>\n",
       "      <td>NaN</td>\n",
       "    </tr>\n",
       "    <tr>\n",
       "      <th>71</th>\n",
       "      <td>Co</td>\n",
       "      <td>2</td>\n",
       "      <td>3d7</td>\n",
       "      <td>49516.00</td>\n",
       "      <td>35438.0</td>\n",
       "      <td>-7897</td>\n",
       "      <td>NaN</td>\n",
       "      <td>Zn</td>\n",
       "      <td>T_{d}</td>\n",
       "      <td>56</td>\n",
       "      <td>ZnS</td>\n",
       "      <td>583.0</td>\n",
       "      <td>NaN</td>\n",
       "      <td>NaN</td>\n",
       "      <td>NaN</td>\n",
       "      <td>-4719.360164</td>\n",
       "      <td>NaN</td>\n",
       "      <td>NaN</td>\n",
       "    </tr>\n",
       "    <tr>\n",
       "      <th>72</th>\n",
       "      <td>Co</td>\n",
       "      <td>2</td>\n",
       "      <td>3d7</td>\n",
       "      <td>53851.00</td>\n",
       "      <td>40619.0</td>\n",
       "      <td>-7509</td>\n",
       "      <td>NaN</td>\n",
       "      <td>Zn</td>\n",
       "      <td>T_{d}</td>\n",
       "      <td>34</td>\n",
       "      <td>ZnS</td>\n",
       "      <td>NaN</td>\n",
       "      <td>NaN</td>\n",
       "      <td>NaN</td>\n",
       "      <td>NaN</td>\n",
       "      <td>-4487.485814</td>\n",
       "      <td>NaN</td>\n",
       "      <td>NaN</td>\n",
       "    </tr>\n",
       "    <tr>\n",
       "      <th>73</th>\n",
       "      <td>Ni</td>\n",
       "      <td>2</td>\n",
       "      <td>3d8</td>\n",
       "      <td>46449.00</td>\n",
       "      <td>32211.0</td>\n",
       "      <td>-9321</td>\n",
       "      <td>NaN</td>\n",
       "      <td>Zn</td>\n",
       "      <td>T_{d}</td>\n",
       "      <td>56</td>\n",
       "      <td>ZnS</td>\n",
       "      <td>477.0</td>\n",
       "      <td>NaN</td>\n",
       "      <td>NaN</td>\n",
       "      <td>NaN</td>\n",
       "      <td>-5570.362934</td>\n",
       "      <td>NaN</td>\n",
       "      <td>NaN</td>\n",
       "    </tr>\n",
       "    <tr>\n",
       "      <th>74</th>\n",
       "      <td>Ni</td>\n",
       "      <td>2</td>\n",
       "      <td>3d8</td>\n",
       "      <td>50119.00</td>\n",
       "      <td>29445.0</td>\n",
       "      <td>-10701</td>\n",
       "      <td>NaN</td>\n",
       "      <td>Zn</td>\n",
       "      <td>T_{d}</td>\n",
       "      <td>41</td>\n",
       "      <td>ZnS</td>\n",
       "      <td>NaN</td>\n",
       "      <td>NaN</td>\n",
       "      <td>NaN</td>\n",
       "      <td>NaN</td>\n",
       "      <td>-6395.070674</td>\n",
       "      <td>NaN</td>\n",
       "      <td>NaN</td>\n",
       "    </tr>\n",
       "  </tbody>\n",
       "</table>\n",
       "</div>"
      ],
      "text/plain": [
       "   Ion  Charge nd^N   F^{(2)}  F^{(4)}  B_{4,0}  T (K) Site Symmetry    Ref  \\\n",
       "43   V       2  3d3  42429.00  30239.0    30429    NaN   Mg    O_{h}     59   \n",
       "44   V       2  3d3  47625.00  25455.0    29400    NaN   Mg    O_{h}     55   \n",
       "45   V       2  3d3  44275.00  31185.0    27720    NaN   Mg    O_{h}     56   \n",
       "46  Cr       3  3d3  50906.00  37825.0    33579    NaN   Mg    O_{h}     59   \n",
       "47  Cr       3  3d3  52780.00  36792.0    33390    NaN   Mg    O_{h}      7   \n",
       "48  Cr       3  3d3  54600.00  40950.0    34020    NaN   Mg    O_{h}     28   \n",
       "49  Cr       3  3d3  54250.00  40320.0    34860    NaN   Mg    O_{h}     36   \n",
       "50  Cr       2  3d4       NaN      NaN    14007    NaN   Mg    O_{h}     12   \n",
       "51  Mn       2  3d5  60984.00  40446.0    20559    NaN   Mg    O_{h}     11   \n",
       "52  Mn       2  3d5  67550.00  41240.0    20580    NaN   Mg    O_{h}     23   \n",
       "53  Mn       2  3d5  62230.00  39690.0    15750    NaN   Mg    O_{h}     22   \n",
       "54  Co       2  3d7  68572.00  49342.0    19509    NaN   Mg    O_{h}     61   \n",
       "55  Co       2  3d7  65450.00  47250.0    18795    NaN   Mg    O_{h}     38   \n",
       "56  Co       2  3d7     67.06  46620.0    19530    NaN   Mg    O_{h}     50   \n",
       "57  Ni       2  3d8       NaN      NaN    18060    NaN   Mg    O_{h}     30   \n",
       "58  Ni       2  3d8  71022.00  49342.0    17115    NaN   Mg    O_{h}     46   \n",
       "59  Ni       2  3d8  66343.00  44447.0    17451    NaN   Mg    O_{h}     42   \n",
       "66   V       2  3d3  40439.00  28867.0   -10500    NaN   Zn    T_{d}     14   \n",
       "67  Cr       2  3d4  44450.00  35910.0   -10710    NaN   Zn    T_{d}     12   \n",
       "68  Mn       2  3d5  51590.00  39060.0   -10500    NaN   Zn    T_{d}     13   \n",
       "69  Mn       2  3d5  56454.00  32925.0   -11603    NaN   Zn    T_{d}     45   \n",
       "70  Fe       2  3d6  51433.00  36195.0    -7486    NaN   Zn    T_{d}  20,47   \n",
       "71  Co       2  3d7  49516.00  35438.0    -7897    NaN   Zn    T_{d}     56   \n",
       "72  Co       2  3d7  53851.00  40619.0    -7509    NaN   Zn    T_{d}     34   \n",
       "73  Ni       2  3d8  46449.00  32211.0    -9321    NaN   Zn    T_{d}     56   \n",
       "74  Ni       2  3d8  50119.00  29445.0   -10701    NaN   Zn    T_{d}     41   \n",
       "\n",
       "   Host  \\zeta  B_{2,0}  B_{4,3}  \\alpha      B_{4,4}  B_{2,2}  B_{4,2}  \n",
       "43  MgO    NaN      NaN      NaN    60.0          NaN      NaN      NaN  \n",
       "44  MgO    NaN      NaN      NaN    79.0          NaN      NaN      NaN  \n",
       "45  MgO    NaN      NaN      NaN     NaN          NaN      NaN      NaN  \n",
       "46  MgO    NaN      NaN      NaN    70.0          NaN      NaN      NaN  \n",
       "47  MgO  270.0      NaN      NaN    70.0          NaN      NaN      NaN  \n",
       "48  MgO  135.0      NaN      NaN     NaN          NaN      NaN      NaN  \n",
       "49  MgO  210.0      NaN      NaN     NaN          NaN      NaN      NaN  \n",
       "50  MgO    NaN      NaN      NaN     NaN          NaN      NaN      NaN  \n",
       "51  MgO    NaN      NaN      NaN     NaN          NaN      NaN      NaN  \n",
       "52  MgO  320.0      NaN      NaN    65.0          NaN      NaN      NaN  \n",
       "53  MgO  320.0      NaN      NaN    76.0          NaN      NaN      NaN  \n",
       "54  MgO  419.0      NaN      NaN     NaN          NaN      NaN      NaN  \n",
       "55  MgO  500.0      NaN      NaN     NaN          NaN      NaN      NaN  \n",
       "56  MgO  475.0      NaN      NaN     NaN          NaN      NaN      NaN  \n",
       "57  MgO    NaN      NaN      NaN     NaN          NaN      NaN      NaN  \n",
       "58  MgO  630.0      NaN      NaN     NaN          NaN      NaN      NaN  \n",
       "59  MgO  645.0      NaN      NaN     NaN          NaN      NaN      NaN  \n",
       "66  ZnS    NaN      NaN      NaN     NaN -6274.950199      NaN      NaN  \n",
       "67  ZnS    NaN      NaN      NaN     NaN -6400.449203      NaN      NaN  \n",
       "68  ZnS    NaN      NaN      NaN     NaN -6274.950199      NaN      NaN  \n",
       "69  ZnS    NaN      NaN      NaN     NaN -6934.118777      NaN      NaN  \n",
       "70  ZnS    NaN      NaN      NaN     NaN -4473.740685      NaN      NaN  \n",
       "71  ZnS  583.0      NaN      NaN     NaN -4719.360164      NaN      NaN  \n",
       "72  ZnS    NaN      NaN      NaN     NaN -4487.485814      NaN      NaN  \n",
       "73  ZnS  477.0      NaN      NaN     NaN -5570.362934      NaN      NaN  \n",
       "74  ZnS    NaN      NaN      NaN     NaN -6395.070674      NaN      NaN  "
      ]
     },
     "execution_count": 481,
     "metadata": {},
     "output_type": "execute_result"
    }
   ],
   "source": [
    "tot_df[tot_df['Host'].apply(lambda x: x in intersection)]"
   ]
  },
  {
   "cell_type": "code",
   "execution_count": 654,
   "id": "ff1e5c0c-fad0-44dc-bdd7-194e996a11d6",
   "metadata": {
    "execution": {
     "iopub.execute_input": "2021-10-14T18:29:40.099488Z",
     "iopub.status.busy": "2021-10-14T18:29:40.098977Z",
     "iopub.status.idle": "2021-10-14T18:29:40.273859Z",
     "shell.execute_reply": "2021-10-14T18:29:40.273217Z",
     "shell.execute_reply.started": "2021-10-14T18:29:40.099449Z"
    },
    "tags": []
   },
   "outputs": [
    {
     "data": {
      "text/html": [
       "<pre>✔️ 8.29 ms (2021-10-14T14:29:40/2021-10-14T14:29:40)</pre>"
      ],
      "text/plain": [
       "<IPython.core.display.HTML object>"
      ]
     },
     "metadata": {},
     "output_type": "display_data"
    }
   ],
   "source": [
    "# nist_levels = pd.read_pickle('/Volumes/GoogleDrive/My Drive/Zia Lab/Codebase/qdef/data/nist_atomic_spectra_database_levels.pkl')"
   ]
  },
  {
   "cell_type": "code",
   "execution_count": 494,
   "id": "d42a6a7a-a392-44e2-8664-44b58eeab80d",
   "metadata": {
    "execution": {
     "iopub.execute_input": "2021-10-12T23:56:52.972474Z",
     "iopub.status.busy": "2021-10-12T23:56:52.970772Z",
     "iopub.status.idle": "2021-10-12T23:56:53.172784Z",
     "shell.execute_reply": "2021-10-12T23:56:53.171789Z",
     "shell.execute_reply.started": "2021-10-12T23:56:52.972371Z"
    }
   },
   "outputs": [
    {
     "data": {
      "text/html": [
       "<pre>✔️ 8.95 ms (2021-10-12T19:56:52/2021-10-12T19:56:52)</pre>"
      ],
      "text/plain": [
       "<IPython.core.display.HTML object>"
      ]
     },
     "metadata": {},
     "output_type": "display_data"
    }
   ],
   "source": [
    "lanthanides = 'La Ce Pr Nd Pm Sm Eu Gd Tb Dy Ho Er Tm Yb Lu'.split(' ')"
   ]
  },
  {
   "cell_type": "code",
   "execution_count": 499,
   "id": "710c1da5-47e0-4745-bc41-f15a0b190c00",
   "metadata": {
    "execution": {
     "iopub.execute_input": "2021-10-12T23:58:03.305687Z",
     "iopub.status.busy": "2021-10-12T23:58:03.305345Z",
     "iopub.status.idle": "2021-10-12T23:58:03.488178Z",
     "shell.execute_reply": "2021-10-12T23:58:03.487354Z",
     "shell.execute_reply.started": "2021-10-12T23:58:03.305651Z"
    },
    "tags": []
   },
   "outputs": [
    {
     "data": {
      "text/html": [
       "<pre>✔️ 163 ms (2021-10-12T19:58:03/2021-10-12T19:58:03)</pre>"
      ],
      "text/plain": [
       "<IPython.core.display.HTML object>"
      ]
     },
     "metadata": {},
     "output_type": "display_data"
    }
   ],
   "source": [
    "for lanthanide in lanthanides:\n",
    "    at = Atom(lanthanide)\n",
    "    ndata = at.nist_data"
   ]
  },
  {
   "cell_type": "markdown",
   "id": "2c815a9c-3940-4f7f-9ed3-7398cd83f07a",
   "metadata": {},
   "source": [
    "## Parsing data from sheets with Theoretical Values for CF params"
   ]
  },
  {
   "cell_type": "code",
   "execution_count": 673,
   "id": "0e53a326-ff79-4faf-b737-3abe66711aec",
   "metadata": {
    "execution": {
     "iopub.execute_input": "2021-10-14T18:38:42.626792Z",
     "iopub.status.busy": "2021-10-14T18:38:42.626375Z",
     "iopub.status.idle": "2021-10-14T18:38:43.147469Z",
     "shell.execute_reply": "2021-10-14T18:38:43.147067Z",
     "shell.execute_reply.started": "2021-10-14T18:38:42.626749Z"
    },
    "tags": []
   },
   "outputs": [
    {
     "data": {
      "text/html": [
       "<pre>✔️ 398 ms (2021-10-14T14:38:42/2021-10-14T14:38:43)</pre>"
      ],
      "text/plain": [
       "<IPython.core.display.HTML object>"
      ]
     },
     "metadata": {},
     "output_type": "display_data"
    }
   ],
   "source": [
    "# morrison_sheets = pd.read_excel('/Users/juan/Google Drive/Zia Lab/Codebase/qdef/data/Morrison.xlsx',['3.3.2'])\n",
    "# morrison_keys = list(morrison_sheets.keys())"
   ]
  },
  {
   "cell_type": "code",
   "execution_count": 2,
   "id": "822e72eb-cebb-428b-a7d4-6de777fabdae",
   "metadata": {
    "execution": {
     "iopub.execute_input": "2021-10-15T21:57:20.766618Z",
     "iopub.status.busy": "2021-10-15T21:57:20.766272Z",
     "iopub.status.idle": "2021-10-15T21:57:49.482155Z",
     "shell.execute_reply": "2021-10-15T21:57:49.481846Z",
     "shell.execute_reply.started": "2021-10-15T21:57:20.766582Z"
    },
    "tags": []
   },
   "outputs": [
    {
     "data": {
      "text/html": [
       "<pre>✔️ 28.6 s (2021-10-15T17:57:20/2021-10-15T17:57:49)</pre>"
      ],
      "text/plain": [
       "<IPython.core.display.HTML object>"
      ]
     },
     "metadata": {},
     "output_type": "display_data"
    }
   ],
   "source": [
    "d_sheets = ['3.3.2','4.2.2','5.2.2','5.3.2','10.2.2','11.2.2','12.3.2','12.3.3','12.3.4','38.2.3']\n",
    "morrison_sheets = pd.read_excel('/Users/juan/Google Drive/Zia Lab/Codebase/qdef/data/Morrison.xlsx',d_sheets)\n",
    "morrison_keys = list(morrison_sheets.keys())"
   ]
  },
  {
   "cell_type": "code",
   "execution_count": 793,
   "id": "dee307ae-8fdb-477b-a78c-5c1395907152",
   "metadata": {
    "collapsed": true,
    "execution": {
     "iopub.execute_input": "2021-10-15T21:40:46.317200Z",
     "iopub.status.busy": "2021-10-15T21:40:46.316726Z",
     "iopub.status.idle": "2021-10-15T21:40:46.507433Z",
     "shell.execute_reply": "2021-10-15T21:40:46.506988Z",
     "shell.execute_reply.started": "2021-10-15T21:40:46.317153Z"
    },
    "jupyter": {
     "outputs_hidden": true
    },
    "tags": []
   },
   "outputs": [
    {
     "data": {
      "text/html": [
       "<pre>✔️ 28.7 ms (2021-10-15T17:40:46/2021-10-15T17:40:46)</pre>"
      ],
      "text/plain": [
       "<IPython.core.display.HTML object>"
      ]
     },
     "metadata": {},
     "output_type": "display_data"
    },
    {
     "name": "stdout",
     "output_type": "stream",
     "text": [
      "3.3.2\n",
      "['THEOCFCOMP']\n",
      "4.2.2\n",
      "['THEOCFCOMP']\n",
      "5.2.2\n",
      "['THEOCFCOMP']\n",
      "5.3.2\n",
      "['THEOCFCOMP']\n",
      "10.2.2\n",
      "['THEOCFCOMP']\n",
      "11.2.2\n",
      "['THEOCFCOMP']\n",
      "12.3.2\n",
      "['THEOCFCOMP']\n",
      "12.3.3\n",
      "['THEOCFCOMP']\n",
      "12.3.4\n",
      "['THEOCFCOMP']\n",
      "38.2.3\n",
      "['THEOCFCOMP']\n"
     ]
    }
   ],
   "source": [
    "for mk in morrison_keys:\n",
    "    print(mk)\n",
    "    print(table_types(morrison_sheets[mk]))"
   ]
  },
  {
   "cell_type": "code",
   "execution_count": 8,
   "id": "7d02f756-cf7c-40e1-81fa-b5f451521a14",
   "metadata": {
    "execution": {
     "iopub.execute_input": "2021-10-15T21:59:01.871898Z",
     "iopub.status.busy": "2021-10-15T21:59:01.871465Z",
     "iopub.status.idle": "2021-10-15T21:59:02.075086Z",
     "shell.execute_reply": "2021-10-15T21:59:02.074690Z",
     "shell.execute_reply.started": "2021-10-15T21:59:01.871854Z"
    },
    "tags": []
   },
   "outputs": [
    {
     "data": {
      "text/html": [
       "<pre>✔️ 17.5 ms (2021-10-15T17:59:01/2021-10-15T17:59:01)</pre>"
      ],
      "text/plain": [
       "<IPython.core.display.HTML object>"
      ]
     },
     "metadata": {},
     "output_type": "display_data"
    },
    {
     "data": {
      "text/plain": [
       "'THEOCFCOMP: 3.3.2 || 4.2.2 || 5.2.2 || 5.3.2 || 10.2.2 || 11.2.2 || 12.3.2 || 12.3.3 || 12.3.4 || 38.2.3'"
      ]
     },
     "execution_count": 8,
     "metadata": {},
     "output_type": "execute_result"
    }
   ],
   "source": [
    "theoparams_sheets = {mk:table_types(morrison_sheets[mk]) for mk in morrison_keys}\n",
    "theoparams_sheets = [k for k,v in theoparams_sheets.items() if ('THEOCFCOMP' in v and len(v) == 1)]\n",
    "'THEOCFCOMP: ' + (' || '.join(theoparams_sheets))"
   ]
  },
  {
   "cell_type": "code",
   "execution_count": 9,
   "id": "8949ddf3-7b56-4426-91ad-818b3cc24b6a",
   "metadata": {
    "execution": {
     "iopub.execute_input": "2021-10-15T21:59:03.001684Z",
     "iopub.status.busy": "2021-10-15T21:59:03.001305Z",
     "iopub.status.idle": "2021-10-15T21:59:03.168539Z",
     "shell.execute_reply": "2021-10-15T21:59:03.168206Z",
     "shell.execute_reply.started": "2021-10-15T21:59:03.001647Z"
    },
    "tags": []
   },
   "outputs": [
    {
     "data": {
      "text/html": [
       "<pre>✔️ 1.44 ms (2021-10-15T17:59:03/2021-10-15T17:59:03)</pre>"
      ],
      "text/plain": [
       "<IPython.core.display.HTML object>"
      ]
     },
     "metadata": {},
     "output_type": "display_data"
    }
   ],
   "source": [
    "index = morrison['section_to_host'] "
   ]
  },
  {
   "cell_type": "code",
   "execution_count": 13,
   "id": "2bb34ee5-368c-467c-8fa1-e6473d517e3f",
   "metadata": {
    "execution": {
     "iopub.execute_input": "2021-10-15T21:59:23.572648Z",
     "iopub.status.busy": "2021-10-15T21:59:23.572320Z",
     "iopub.status.idle": "2021-10-15T21:59:23.740879Z",
     "shell.execute_reply": "2021-10-15T21:59:23.740371Z",
     "shell.execute_reply.started": "2021-10-15T21:59:23.572613Z"
    },
    "tags": []
   },
   "outputs": [
    {
     "data": {
      "text/html": [
       "<pre>✔️ 2.08 ms (2021-10-15T17:59:23/2021-10-15T17:59:23)</pre>"
      ],
      "text/plain": [
       "<IPython.core.display.HTML object>"
      ]
     },
     "metadata": {},
     "output_type": "display_data"
    }
   ],
   "source": [
    "def listin(lista, string):\n",
    "    '''\n",
    "    In a list of strings determine if the given string is in any\n",
    "    of them.\n",
    "    This is case insensitive.\n",
    "    '''\n",
    "    return sum(list(map(lambda x: string.lower() in x.lower(), lista))) > 0\n",
    "def listreplace(lista, find_and_replace):\n",
    "    '''\n",
    "    Takes a list of string and a tuple (find, replace)\n",
    "    that replaces every occurence of replace by find in every \n",
    "    string of the list\n",
    "    '''\n",
    "    return [s.replace(*find_and_replace) for s in lista]"
   ]
  },
  {
   "cell_type": "code",
   "execution_count": 15,
   "id": "54068638-d7ff-476f-878b-ec28a51be55d",
   "metadata": {
    "execution": {
     "iopub.execute_input": "2021-10-15T22:00:29.671379Z",
     "iopub.status.busy": "2021-10-15T22:00:29.670304Z",
     "iopub.status.idle": "2021-10-15T22:00:29.822516Z",
     "shell.execute_reply": "2021-10-15T22:00:29.821896Z",
     "shell.execute_reply.started": "2021-10-15T22:00:29.671319Z"
    },
    "tags": []
   },
   "outputs": [
    {
     "data": {
      "text/html": [
       "<pre>✔️ 30 ms (2021-10-15T18:00:29/2021-10-15T18:00:29)</pre>"
      ],
      "text/plain": [
       "<IPython.core.display.HTML object>"
      ]
     },
     "metadata": {},
     "output_type": "display_data"
    },
    {
     "name": "stdout",
     "output_type": "stream",
     "text": [
      "['Ion', 'Charge', 'Site', 'Symmetry', 'nd^N', 'B_{4,0} (Monopole)', 'B_{4,4} (Monopole)', 'B_{4,0} (Total)', 'B_{4,4} (Total)', 'Host']\n",
      "['Ion', 'Charge', 'Site', 'Symmetry', 'nd^N', 'B_{2,0} (Monopole)', 'B_{4,0} (Monopole)', 'B_{4,3} (Monopole)', 'B_{2,0} (Total)', 'B_{4,0} (Total)', 'B_{4,3} (Total)', 'Host']\n",
      "['Ion', 'Charge', 'Site', 'Symmetry', 'nd^N', 'B_{4,0} (Monopole)', 'B_{4,0} (Total)', 'B_{4,4} (Monopole)', 'B_{4,4} (Total)', 'Host']\n",
      "['Ion', 'Charge', 'Site', 'Symmetry', 'nd^N', 'B_{2,0} (Monopole)', 'B_{4,0} (Monopole)', 'B_{4,3} (Monopole)', 'B_{2,0} (Total)', 'B_{4,0} (Total)', 'B_{4,3} (Total)', 'Host']\n",
      "['Ion', 'Charge', 'Site', 'Symmetry', 'nd^N', 'B_{2,0} (Monopole)', 'B_{4,0} (Monopole)', 'B_{4,3} (Monopole)', 'B_{2,0} (Total)', 'B_{4,0} (Total)', 'B_{4,3} (Total)', 'Host']\n",
      "['Ion', 'Site', 'Symmetry', 'Charge', 'nd^N', 'B_{2,0} (Monopole)', 'B_{4,0} (Monopole)', 'B_{4,3} (Monopole)', 'B_{2,0} (Total)', 'B_{4,0} (Total)', 'B_{4,3} (Total)', 'Host']\n",
      "['Ion', 'Site', 'Symmetry', 'Charge', 'nd^N', 'B_{2,0} (Monopole)', 'B_{4,0} (Monopole)', 'B_{4,3} (Monopole)', 'B_{2,0} (Total)', 'B_{4,0} (Total)', 'B_{4,3} (Total)', 'Host']\n"
     ]
    }
   ],
   "source": [
    "dframes = []\n",
    "for sheetkey in theoparams_sheets:\n",
    "    # parse the section for the sheet key\n",
    "    section = int(sheetkey.split('.')[0])\n",
    "    # query to which host this refers to\n",
    "    host = index[section][0]\n",
    "    # grab the sheet\n",
    "    asheet = pd.DataFrame(morrison_sheets[sheetkey])\n",
    "    asheet.loc[:,\"Host\"] = host\n",
    "    # grab the metadata which is in the top left corner\n",
    "    metadata = list(asheet)[0]\n",
    "    if 'site' in metadata:\n",
    "        pass\n",
    "#         print(metadata)\n",
    "#     asheet.loc[:,\"metadata\"] = metadata\n",
    "    asheet = asheet[list(asheet)[1:]]\n",
    "    ion = asheet['Ion']\n",
    "    # drop the comments section\n",
    "    asheet.drop(['Comments'],axis=1,inplace=True)\n",
    "    # drop the first column\n",
    "#     asheet.drop(asheet.columns[0],axis=1,inplace=True)\n",
    "    asheet.reset_index(drop=True,inplace=True)\n",
    "    # drop the types column\n",
    "    asheet.drop(['Types'],axis=1,inplace=True)\n",
    "    # normalize the headers\n",
    "    new_headers = {head:head.replace('mono','Mono').replace('total','Total').replace('dipo','Dipo').replace('self','Self') for head in list(asheet)}\n",
    "    asheet.rename(columns=new_headers,inplace=True)\n",
    "    dframes.append(asheet)\n",
    "    if listin(list(asheet), 'mono') or listin(list(asheet), 'total'):\n",
    "        print(list(asheet))"
   ]
  },
  {
   "cell_type": "code",
   "execution_count": 16,
   "id": "49853aff-9048-4298-b3a1-adde1b2f888c",
   "metadata": {
    "execution": {
     "iopub.execute_input": "2021-10-15T22:00:36.325243Z",
     "iopub.status.busy": "2021-10-15T22:00:36.324869Z",
     "iopub.status.idle": "2021-10-15T22:00:36.537691Z",
     "shell.execute_reply": "2021-10-15T22:00:36.537143Z",
     "shell.execute_reply.started": "2021-10-15T22:00:36.325204Z"
    },
    "tags": []
   },
   "outputs": [
    {
     "data": {
      "text/html": [
       "<pre>✔️ 19 ms (2021-10-15T18:00:36/2021-10-15T18:00:36)</pre>"
      ],
      "text/plain": [
       "<IPython.core.display.HTML object>"
      ]
     },
     "metadata": {},
     "output_type": "display_data"
    }
   ],
   "source": [
    "tot_df = pd.concat(dframes)\n",
    "tot_df.reset_index(drop=True,inplace=True)"
   ]
  },
  {
   "cell_type": "code",
   "execution_count": 17,
   "id": "c79bd6d4-3019-4b84-bef7-e31c95e90cb2",
   "metadata": {
    "execution": {
     "iopub.execute_input": "2021-10-15T22:00:38.703818Z",
     "iopub.status.busy": "2021-10-15T22:00:38.703444Z",
     "iopub.status.idle": "2021-10-15T22:00:38.843955Z",
     "shell.execute_reply": "2021-10-15T22:00:38.843399Z",
     "shell.execute_reply.started": "2021-10-15T22:00:38.703782Z"
    }
   },
   "outputs": [
    {
     "data": {
      "text/html": [
       "<pre>✔️ 41.5 ms (2021-10-15T18:00:38/2021-10-15T18:00:38)</pre>"
      ],
      "text/plain": [
       "<IPython.core.display.HTML object>"
      ]
     },
     "metadata": {},
     "output_type": "display_data"
    },
    {
     "data": {
      "text/html": [
       "<div>\n",
       "<style scoped>\n",
       "    .dataframe tbody tr th:only-of-type {\n",
       "        vertical-align: middle;\n",
       "    }\n",
       "\n",
       "    .dataframe tbody tr th {\n",
       "        vertical-align: top;\n",
       "    }\n",
       "\n",
       "    .dataframe thead th {\n",
       "        text-align: right;\n",
       "    }\n",
       "</style>\n",
       "<table border=\"1\" class=\"dataframe\">\n",
       "  <thead>\n",
       "    <tr style=\"text-align: right;\">\n",
       "      <th></th>\n",
       "      <th>Ion</th>\n",
       "      <th>Site</th>\n",
       "      <th>Symmetry</th>\n",
       "      <th>Charge</th>\n",
       "      <th>nd^N</th>\n",
       "      <th>F^{(2)}</th>\n",
       "      <th>F^{(4)}</th>\n",
       "      <th>B_{2,0}</th>\n",
       "      <th>B_{4,0}</th>\n",
       "      <th>B_{4,3}</th>\n",
       "      <th>...</th>\n",
       "      <th>B_{4,0} (Monopole)</th>\n",
       "      <th>B_{4,4} (Monopole)</th>\n",
       "      <th>B_{4,0} (Total)</th>\n",
       "      <th>B_{4,4} (Total)</th>\n",
       "      <th>B_{2,0} (Monopole)</th>\n",
       "      <th>B_{4,3} (Monopole)</th>\n",
       "      <th>B_{2,0} (Total)</th>\n",
       "      <th>B_{4,3} (Total)</th>\n",
       "      <th>\\zeta</th>\n",
       "      <th>Ref</th>\n",
       "    </tr>\n",
       "  </thead>\n",
       "  <tbody>\n",
       "    <tr>\n",
       "      <th>0</th>\n",
       "      <td>Ti</td>\n",
       "      <td>Al_1</td>\n",
       "      <td>C_{3i}</td>\n",
       "      <td>3</td>\n",
       "      <td>3d1</td>\n",
       "      <td>NaN</td>\n",
       "      <td>NaN</td>\n",
       "      <td>2953.0</td>\n",
       "      <td>-26934.0</td>\n",
       "      <td>30280.0</td>\n",
       "      <td>...</td>\n",
       "      <td>NaN</td>\n",
       "      <td>NaN</td>\n",
       "      <td>NaN</td>\n",
       "      <td>NaN</td>\n",
       "      <td>NaN</td>\n",
       "      <td>NaN</td>\n",
       "      <td>NaN</td>\n",
       "      <td>NaN</td>\n",
       "      <td>NaN</td>\n",
       "      <td>NaN</td>\n",
       "    </tr>\n",
       "    <tr>\n",
       "      <th>1</th>\n",
       "      <td>V</td>\n",
       "      <td>Al_1</td>\n",
       "      <td>C_{3i}</td>\n",
       "      <td>3</td>\n",
       "      <td>3d2</td>\n",
       "      <td>56732.0</td>\n",
       "      <td>36132.0</td>\n",
       "      <td>2895.0</td>\n",
       "      <td>-26148.0</td>\n",
       "      <td>29397.0</td>\n",
       "      <td>...</td>\n",
       "      <td>NaN</td>\n",
       "      <td>NaN</td>\n",
       "      <td>NaN</td>\n",
       "      <td>NaN</td>\n",
       "      <td>NaN</td>\n",
       "      <td>NaN</td>\n",
       "      <td>NaN</td>\n",
       "      <td>NaN</td>\n",
       "      <td>NaN</td>\n",
       "      <td>NaN</td>\n",
       "    </tr>\n",
       "    <tr>\n",
       "      <th>2</th>\n",
       "      <td>Cr</td>\n",
       "      <td>Al_1</td>\n",
       "      <td>C_{3i}</td>\n",
       "      <td>3</td>\n",
       "      <td>3d3</td>\n",
       "      <td>59983.0</td>\n",
       "      <td>38912.0</td>\n",
       "      <td>2832.0</td>\n",
       "      <td>-25363.0</td>\n",
       "      <td>28514.0</td>\n",
       "      <td>...</td>\n",
       "      <td>NaN</td>\n",
       "      <td>NaN</td>\n",
       "      <td>NaN</td>\n",
       "      <td>NaN</td>\n",
       "      <td>NaN</td>\n",
       "      <td>NaN</td>\n",
       "      <td>NaN</td>\n",
       "      <td>NaN</td>\n",
       "      <td>NaN</td>\n",
       "      <td>NaN</td>\n",
       "    </tr>\n",
       "    <tr>\n",
       "      <th>3</th>\n",
       "      <td>Mn</td>\n",
       "      <td>Al_1</td>\n",
       "      <td>C_{3i}</td>\n",
       "      <td>3</td>\n",
       "      <td>3d4</td>\n",
       "      <td>63234.0</td>\n",
       "      <td>41688.0</td>\n",
       "      <td>2769.0</td>\n",
       "      <td>-24577.0</td>\n",
       "      <td>27631.0</td>\n",
       "      <td>...</td>\n",
       "      <td>NaN</td>\n",
       "      <td>NaN</td>\n",
       "      <td>NaN</td>\n",
       "      <td>NaN</td>\n",
       "      <td>NaN</td>\n",
       "      <td>NaN</td>\n",
       "      <td>NaN</td>\n",
       "      <td>NaN</td>\n",
       "      <td>NaN</td>\n",
       "      <td>NaN</td>\n",
       "    </tr>\n",
       "    <tr>\n",
       "      <th>4</th>\n",
       "      <td>Fe</td>\n",
       "      <td>Al_1</td>\n",
       "      <td>C_{3i}</td>\n",
       "      <td>3</td>\n",
       "      <td>3d5</td>\n",
       "      <td>66485.0</td>\n",
       "      <td>44463.0</td>\n",
       "      <td>2709.0</td>\n",
       "      <td>-23792.0</td>\n",
       "      <td>26748.0</td>\n",
       "      <td>...</td>\n",
       "      <td>NaN</td>\n",
       "      <td>NaN</td>\n",
       "      <td>NaN</td>\n",
       "      <td>NaN</td>\n",
       "      <td>NaN</td>\n",
       "      <td>NaN</td>\n",
       "      <td>NaN</td>\n",
       "      <td>NaN</td>\n",
       "      <td>NaN</td>\n",
       "      <td>NaN</td>\n",
       "    </tr>\n",
       "    <tr>\n",
       "      <th>...</th>\n",
       "      <td>...</td>\n",
       "      <td>...</td>\n",
       "      <td>...</td>\n",
       "      <td>...</td>\n",
       "      <td>...</td>\n",
       "      <td>...</td>\n",
       "      <td>...</td>\n",
       "      <td>...</td>\n",
       "      <td>...</td>\n",
       "      <td>...</td>\n",
       "      <td>...</td>\n",
       "      <td>...</td>\n",
       "      <td>...</td>\n",
       "      <td>...</td>\n",
       "      <td>...</td>\n",
       "      <td>...</td>\n",
       "      <td>...</td>\n",
       "      <td>...</td>\n",
       "      <td>...</td>\n",
       "      <td>...</td>\n",
       "      <td>...</td>\n",
       "    </tr>\n",
       "    <tr>\n",
       "      <th>94</th>\n",
       "      <td>Ir</td>\n",
       "      <td>Zr</td>\n",
       "      <td>D_{2d}</td>\n",
       "      <td>4</td>\n",
       "      <td>5d5</td>\n",
       "      <td>72980.0</td>\n",
       "      <td>49004.0</td>\n",
       "      <td>-8733.0</td>\n",
       "      <td>741.1</td>\n",
       "      <td>7026.0</td>\n",
       "      <td>...</td>\n",
       "      <td>NaN</td>\n",
       "      <td>NaN</td>\n",
       "      <td>NaN</td>\n",
       "      <td>NaN</td>\n",
       "      <td>NaN</td>\n",
       "      <td>NaN</td>\n",
       "      <td>NaN</td>\n",
       "      <td>NaN</td>\n",
       "      <td>4814.0</td>\n",
       "      <td>NaN</td>\n",
       "    </tr>\n",
       "    <tr>\n",
       "      <th>95</th>\n",
       "      <td>Pt</td>\n",
       "      <td>Zr</td>\n",
       "      <td>D_{2d}</td>\n",
       "      <td>4</td>\n",
       "      <td>5d6</td>\n",
       "      <td>75122.0</td>\n",
       "      <td>50424.0</td>\n",
       "      <td>-8161.0</td>\n",
       "      <td>639.4</td>\n",
       "      <td>6062.0</td>\n",
       "      <td>...</td>\n",
       "      <td>NaN</td>\n",
       "      <td>NaN</td>\n",
       "      <td>NaN</td>\n",
       "      <td>NaN</td>\n",
       "      <td>NaN</td>\n",
       "      <td>NaN</td>\n",
       "      <td>NaN</td>\n",
       "      <td>NaN</td>\n",
       "      <td>5404.0</td>\n",
       "      <td>NaN</td>\n",
       "    </tr>\n",
       "    <tr>\n",
       "      <th>96</th>\n",
       "      <td>Au</td>\n",
       "      <td>Zr</td>\n",
       "      <td>D_{2d}</td>\n",
       "      <td>4</td>\n",
       "      <td>5d7</td>\n",
       "      <td>77448.0</td>\n",
       "      <td>51994.0</td>\n",
       "      <td>-7619.0</td>\n",
       "      <td>548.9</td>\n",
       "      <td>5204.0</td>\n",
       "      <td>...</td>\n",
       "      <td>NaN</td>\n",
       "      <td>NaN</td>\n",
       "      <td>NaN</td>\n",
       "      <td>NaN</td>\n",
       "      <td>NaN</td>\n",
       "      <td>NaN</td>\n",
       "      <td>NaN</td>\n",
       "      <td>NaN</td>\n",
       "      <td>6045.0</td>\n",
       "      <td>NaN</td>\n",
       "    </tr>\n",
       "    <tr>\n",
       "      <th>97</th>\n",
       "      <td>Hg</td>\n",
       "      <td>Zr</td>\n",
       "      <td>D_{2d}</td>\n",
       "      <td>4</td>\n",
       "      <td>5d8</td>\n",
       "      <td>79808.0</td>\n",
       "      <td>53587.0</td>\n",
       "      <td>-7021.0</td>\n",
       "      <td>455.2</td>\n",
       "      <td>4315.0</td>\n",
       "      <td>...</td>\n",
       "      <td>NaN</td>\n",
       "      <td>NaN</td>\n",
       "      <td>NaN</td>\n",
       "      <td>NaN</td>\n",
       "      <td>NaN</td>\n",
       "      <td>NaN</td>\n",
       "      <td>NaN</td>\n",
       "      <td>NaN</td>\n",
       "      <td>6736.0</td>\n",
       "      <td>NaN</td>\n",
       "    </tr>\n",
       "    <tr>\n",
       "      <th>98</th>\n",
       "      <td>Tl</td>\n",
       "      <td>Zr</td>\n",
       "      <td>D_{2d}</td>\n",
       "      <td>4</td>\n",
       "      <td>5d9</td>\n",
       "      <td>0.0</td>\n",
       "      <td>0.0</td>\n",
       "      <td>-6510.0</td>\n",
       "      <td>364.1</td>\n",
       "      <td>3452.0</td>\n",
       "      <td>...</td>\n",
       "      <td>NaN</td>\n",
       "      <td>NaN</td>\n",
       "      <td>NaN</td>\n",
       "      <td>NaN</td>\n",
       "      <td>NaN</td>\n",
       "      <td>NaN</td>\n",
       "      <td>NaN</td>\n",
       "      <td>NaN</td>\n",
       "      <td>7486.0</td>\n",
       "      <td>NaN</td>\n",
       "    </tr>\n",
       "  </tbody>\n",
       "</table>\n",
       "<p>99 rows × 21 columns</p>\n",
       "</div>"
      ],
      "text/plain": [
       "   Ion  Site Symmetry  Charge nd^N  F^{(2)}  F^{(4)}  B_{2,0}  B_{4,0}  \\\n",
       "0   Ti  Al_1   C_{3i}       3  3d1      NaN      NaN   2953.0 -26934.0   \n",
       "1    V  Al_1   C_{3i}       3  3d2  56732.0  36132.0   2895.0 -26148.0   \n",
       "2   Cr  Al_1   C_{3i}       3  3d3  59983.0  38912.0   2832.0 -25363.0   \n",
       "3   Mn  Al_1   C_{3i}       3  3d4  63234.0  41688.0   2769.0 -24577.0   \n",
       "4   Fe  Al_1   C_{3i}       3  3d5  66485.0  44463.0   2709.0 -23792.0   \n",
       "..  ..   ...      ...     ...  ...      ...      ...      ...      ...   \n",
       "94  Ir    Zr   D_{2d}       4  5d5  72980.0  49004.0  -8733.0    741.1   \n",
       "95  Pt    Zr   D_{2d}       4  5d6  75122.0  50424.0  -8161.0    639.4   \n",
       "96  Au    Zr   D_{2d}       4  5d7  77448.0  51994.0  -7619.0    548.9   \n",
       "97  Hg    Zr   D_{2d}       4  5d8  79808.0  53587.0  -7021.0    455.2   \n",
       "98  Tl    Zr   D_{2d}       4  5d9      0.0      0.0  -6510.0    364.1   \n",
       "\n",
       "    B_{4,3}  ... B_{4,0} (Monopole)  B_{4,4} (Monopole)  B_{4,0} (Total)  \\\n",
       "0   30280.0  ...                NaN                 NaN              NaN   \n",
       "1   29397.0  ...                NaN                 NaN              NaN   \n",
       "2   28514.0  ...                NaN                 NaN              NaN   \n",
       "3   27631.0  ...                NaN                 NaN              NaN   \n",
       "4   26748.0  ...                NaN                 NaN              NaN   \n",
       "..      ...  ...                ...                 ...              ...   \n",
       "94   7026.0  ...                NaN                 NaN              NaN   \n",
       "95   6062.0  ...                NaN                 NaN              NaN   \n",
       "96   5204.0  ...                NaN                 NaN              NaN   \n",
       "97   4315.0  ...                NaN                 NaN              NaN   \n",
       "98   3452.0  ...                NaN                 NaN              NaN   \n",
       "\n",
       "    B_{4,4} (Total)  B_{2,0} (Monopole)  B_{4,3} (Monopole)  B_{2,0} (Total)  \\\n",
       "0               NaN                 NaN                 NaN              NaN   \n",
       "1               NaN                 NaN                 NaN              NaN   \n",
       "2               NaN                 NaN                 NaN              NaN   \n",
       "3               NaN                 NaN                 NaN              NaN   \n",
       "4               NaN                 NaN                 NaN              NaN   \n",
       "..              ...                 ...                 ...              ...   \n",
       "94              NaN                 NaN                 NaN              NaN   \n",
       "95              NaN                 NaN                 NaN              NaN   \n",
       "96              NaN                 NaN                 NaN              NaN   \n",
       "97              NaN                 NaN                 NaN              NaN   \n",
       "98              NaN                 NaN                 NaN              NaN   \n",
       "\n",
       "    B_{4,3} (Total)   \\zeta  Ref  \n",
       "0               NaN     NaN  NaN  \n",
       "1               NaN     NaN  NaN  \n",
       "2               NaN     NaN  NaN  \n",
       "3               NaN     NaN  NaN  \n",
       "4               NaN     NaN  NaN  \n",
       "..              ...     ...  ...  \n",
       "94              NaN  4814.0  NaN  \n",
       "95              NaN  5404.0  NaN  \n",
       "96              NaN  6045.0  NaN  \n",
       "97              NaN  6736.0  NaN  \n",
       "98              NaN  7486.0  NaN  \n",
       "\n",
       "[99 rows x 21 columns]"
      ]
     },
     "execution_count": 17,
     "metadata": {},
     "output_type": "execute_result"
    }
   ],
   "source": [
    "tot_df"
   ]
  },
  {
   "cell_type": "code",
   "execution_count": 718,
   "id": "69290d34-3034-4c7b-a15a-f49730815167",
   "metadata": {
    "execution": {
     "iopub.execute_input": "2021-10-14T19:09:32.097693Z",
     "iopub.status.busy": "2021-10-14T19:09:32.097295Z",
     "iopub.status.idle": "2021-10-14T19:09:32.247531Z",
     "shell.execute_reply": "2021-10-14T19:09:32.247116Z",
     "shell.execute_reply.started": "2021-10-14T19:09:32.097656Z"
    }
   },
   "outputs": [
    {
     "data": {
      "text/html": [
       "<pre>✔️ 5.14 ms (2021-10-14T15:09:32/2021-10-14T15:09:32)</pre>"
      ],
      "text/plain": [
       "<IPython.core.display.HTML object>"
      ]
     },
     "metadata": {},
     "output_type": "display_data"
    },
    {
     "data": {
      "text/plain": [
       "['B_{4,0} (Total)',\n",
       " 'B_{4,3}',\n",
       " 'B_{4,4} (total)',\n",
       " 'B_{4,3} (monopole)',\n",
       " 'B_{2,0} (total)',\n",
       " 'Ref',\n",
       " 'Symmetry',\n",
       " 'F^{(4)}',\n",
       " 'B_{4,0} (Monopole)',\n",
       " 'F^{(2)}',\n",
       " 'B_{4,0} (total)',\n",
       " 'Host',\n",
       " 'B_{4,0} (monopole)',\n",
       " '\\\\zeta',\n",
       " 'B_{4,0}',\n",
       " 'B_{2,0} (Total)',\n",
       " 'B_{4,3} (total)',\n",
       " 'B_{4,4} (monopole)',\n",
       " 'B_{2,0}',\n",
       " 'B_{4,3} (Monopole)',\n",
       " 'B_{4,3} (Total)',\n",
       " 'Ion',\n",
       " 'nd^N',\n",
       " 'Site',\n",
       " 'B_{2,0} (monopole)',\n",
       " 'Charge',\n",
       " 'B_{2,0} (Monopole)']"
      ]
     },
     "execution_count": 718,
     "metadata": {},
     "output_type": "execute_result"
    }
   ],
   "source": [
    "list(set(list(tot_df)))"
   ]
  },
  {
   "cell_type": "code",
   "execution_count": 715,
   "id": "f7446487-8a15-4dd7-a769-f98159bac4fd",
   "metadata": {
    "execution": {
     "iopub.execute_input": "2021-10-14T19:09:05.715862Z",
     "iopub.status.busy": "2021-10-14T19:09:05.715520Z",
     "iopub.status.idle": "2021-10-14T19:09:05.900088Z",
     "shell.execute_reply": "2021-10-14T19:09:05.899689Z",
     "shell.execute_reply.started": "2021-10-14T19:09:05.715826Z"
    },
    "tags": []
   },
   "outputs": [
    {
     "data": {
      "text/html": [
       "<pre>✔️ 1.78 ms (2021-10-14T15:09:05/2021-10-14T15:09:05)</pre>"
      ],
      "text/plain": [
       "<IPython.core.display.HTML object>"
      ]
     },
     "metadata": {},
     "output_type": "display_data"
    }
   ],
   "source": [
    "for idx, df in enumerate(dframes):\n",
    "    if '3d^N' in list(df):\n",
    "        print(theoparams_sheets[idx],list(df))"
   ]
  },
  {
   "cell_type": "code",
   "execution_count": null,
   "id": "17e219da-b27c-49d4-9e19-641dd857b278",
   "metadata": {},
   "outputs": [],
   "source": []
  },
  {
   "cell_type": "markdown",
   "id": "eb84d9d1-5925-49b2-937e-079eaf18ab65",
   "metadata": {
    "heading_collapsed": "true",
    "tags": []
   },
   "source": [
    "## (OLD) Calculate which charge states of transition metals would give you d^n configurations"
   ]
  },
  {
   "cell_type": "code",
   "execution_count": 228,
   "id": "8d76dc9f-d36c-48d6-9bf9-a42eb21ef4d2",
   "metadata": {
    "execution": {
     "iopub.execute_input": "2021-09-23T13:27:40.514601Z",
     "iopub.status.busy": "2021-09-23T13:27:40.513688Z",
     "iopub.status.idle": "2021-09-23T13:27:41.048443Z",
     "shell.execute_reply": "2021-09-23T13:27:41.048110Z",
     "shell.execute_reply.started": "2021-09-23T13:27:40.514537Z"
    },
    "tags": []
   },
   "outputs": [
    {
     "data": {
      "text/html": [
       "<pre>✔️ 328 ms (2021-09-23T09:27:40/2021-09-23T09:27:40)</pre>"
      ],
      "text/plain": [
       "<IPython.core.display.HTML object>"
      ]
     },
     "metadata": {},
     "output_type": "display_data"
    }
   ],
   "source": [
    "n=1\n",
    "# returns a list of all the transition metal ions [(atomic_number, charge_state, configuration, term)]\n",
    "# whose ground states includes exactly n equivalent d-electrons\n",
    "tms = {}\n",
    "for row  in [4,5,6]:\n",
    "    tms.update(dict(map(lambda x: (x,Atom(x)),element_groups['transition metals'][row])))"
   ]
  },
  {
   "cell_type": "code",
   "execution_count": 229,
   "id": "0e90917f-fe78-4bfc-8460-fc911f3864d3",
   "metadata": {
    "execution": {
     "iopub.execute_input": "2021-09-23T13:27:43.588799Z",
     "iopub.status.busy": "2021-09-23T13:27:43.588413Z",
     "iopub.status.idle": "2021-09-23T13:27:44.038696Z",
     "shell.execute_reply": "2021-09-23T13:27:44.038384Z",
     "shell.execute_reply.started": "2021-09-23T13:27:43.588760Z"
    },
    "tags": []
   },
   "outputs": [
    {
     "data": {
      "text/html": [
       "<pre>✔️ 323 ms (2021-09-23T09:27:43/2021-09-23T09:27:43)</pre>"
      ],
      "text/plain": [
       "<IPython.core.display.HTML object>"
      ]
     },
     "metadata": {},
     "output_type": "display_data"
    }
   ],
   "source": [
    "chunks = []\n",
    "for tm in tms:\n",
    "    nist_datum = tms[tm].nist_data\n",
    "    gstates = nist_datum[nist_datum['Level (eV)'] == 0]\n",
    "    for i in range(1,11):\n",
    "        if i == 1:\n",
    "            seed = 'd'\n",
    "        else:\n",
    "            seed = 'd%d' % i\n",
    "        chunk = gstates[gstates['Configuration'].apply(lambda x: (('3' + seed) in x.split('.')) or (('4' + seed) in x.split('.')) or (('5' + seed) in x.split('.')))][[\"Element\",\"Charge\",\"Configuration\",\"Term\",\"J\"]]\n",
    "        chunk[\"d^n\"] = i\n",
    "        chunk[\"Atomic Number\"] = tm\n",
    "        chunks.append(chunk)\n",
    "ddframe = pd.concat(chunks)"
   ]
  },
  {
   "cell_type": "code",
   "execution_count": 230,
   "id": "1af42ddc-cce9-44c8-9c22-1809919b723a",
   "metadata": {
    "execution": {
     "iopub.execute_input": "2021-09-23T13:27:51.662722Z",
     "iopub.status.busy": "2021-09-23T13:27:51.662385Z",
     "iopub.status.idle": "2021-09-23T13:27:51.896828Z",
     "shell.execute_reply": "2021-09-23T13:27:51.896497Z",
     "shell.execute_reply.started": "2021-09-23T13:27:51.662687Z"
    },
    "tags": []
   },
   "outputs": [
    {
     "data": {
      "text/html": [
       "<pre>✔️ 546 µs (2021-09-23T09:27:51/2021-09-23T09:27:51)</pre>"
      ],
      "text/plain": [
       "<IPython.core.display.HTML object>"
      ]
     },
     "metadata": {},
     "output_type": "display_data"
    }
   ],
   "source": [
    "# plt.close('ptable')\n",
    "# font_multiplier = 2\n",
    "# fig, ax = plt.subplots(num='ptable',figsize=font_multiplier*0.9*np.array([5.5,2.5]))\n",
    "# margin = 0.02\n",
    "# n = 1\n",
    "# annotations = {atom.atomic_number :  '%.0f pm ' % atom.atomic_radius for atom in tms.values() if not(math.isnan(atom.atomic_radius))}\n",
    "\n",
    "# for atom_num in tms:\n",
    "#     atom = tms[atom_num]\n",
    "#     sector = ddframe[((ddframe['d^n'] == n) | (ddframe['d^n'] == 10-n)) & (ddframe['Atomic Number'] == atom_num) & (ddframe['Charge'] < 5)]\n",
    "#     charges = ','.join(list(map(lambda x: str(x)+'+',sector['Charge'])))\n",
    "#     configs = ','.join(list(sector['Configuration']))\n",
    "#     terms = ','.join(list(sector['Term']))\n",
    "#     mdata = '\\n'.join([charges, configs,terms])\n",
    "#     group_loc = int(atom.group)\n",
    "#     row = -atom.period\n",
    "#     plt.text(group_loc+0.85, row-0.1, charges.replace(',','\\n'), ha='center', va='top', fontsize=3*font_multiplier)\n",
    "#     plt.text(group_loc+0.15, row-margin-0.1, terms.replace(',','\\n'),ha='center',va='top',fontsize=3*font_multiplier)\n",
    "#     plt.text(group_loc+0.5, row-margin-0.4, configs.replace(',','\\n'),ha='center',va='top',fontsize=3*font_multiplier)\n",
    "#     plt.text(group_loc+0.5, row-0.15, atom.symbol,ha='center',va='top',fontsize=7*font_multiplier, weight='bold')\n",
    "#     plt.text(group_loc+0.5, row-margin-0.07, atom.atomic_number,ha='center',va='top',fontsize=1.75*font_multiplier)\n",
    "#     plt.plot([group_loc+margin, group_loc+1-margin, group_loc+1-margin, group_loc+margin, group_loc+margin],\n",
    "#             [ row-margin, row-margin, row-1+margin, row-1+margin, row-margin],'k-',lw=0.5)\n",
    "# ax.axis('off')\n",
    "# ax.set_aspect('equal')\n",
    "# plt.tight_layout()\n",
    "# plt.show()"
   ]
  },
  {
   "cell_type": "code",
   "execution_count": 227,
   "id": "fe1ab569-f876-46f5-af7e-2b76e52c9d9d",
   "metadata": {
    "execution": {
     "iopub.execute_input": "2021-09-22T19:48:00.095199Z",
     "iopub.status.busy": "2021-09-22T19:48:00.094777Z",
     "iopub.status.idle": "2021-09-22T19:48:01.539260Z",
     "shell.execute_reply": "2021-09-22T19:48:01.538901Z",
     "shell.execute_reply.started": "2021-09-22T19:48:00.095141Z"
    },
    "tags": []
   },
   "outputs": [
    {
     "data": {
      "text/html": [
       "<pre>✔️ 1.26 s (2021-09-22T15:48:00/2021-09-22T15:48:01)</pre>"
      ],
      "text/plain": [
       "<IPython.core.display.HTML object>"
      ]
     },
     "metadata": {},
     "output_type": "display_data"
    },
    {
     "data": {
      "application/vnd.jupyter.widget-view+json": {
       "model_id": "224fb8a2fd5b4898a9fa774e416d07a7",
       "version_major": 2,
       "version_minor": 0
      },
      "text/plain": [
       "Canvas(toolbar=Toolbar(toolitems=[('Home', 'Reset original view', 'home', 'home'), ('Back', 'Back to previous …"
      ]
     },
     "metadata": {},
     "output_type": "display_data"
    }
   ],
   "source": [
    "plt.close('ptable')\n",
    "font_multiplier = 2\n",
    "fig, axes = plt.subplots(nrows=5, num='ptable',figsize=font_multiplier*0.9*np.array([5.5,5*1.75]))\n",
    "margin = 0.02\n",
    "n = 5\n",
    "annotations = {atom.atomic_number :  '%.0f pm ' % atom.atomic_radius for atom in tms.values() if not(math.isnan(atom.atomic_radius))}\n",
    "for n in [1,2,3,4,5]:\n",
    "    ax = axes[n-1]\n",
    "    for atom_num in tms:\n",
    "        atom = tms[atom_num]\n",
    "        sector = ddframe[((ddframe['d^n'] == n) | (ddframe['d^n'] == 10-n)) & (ddframe['Atomic Number'] == atom_num) & (ddframe['Charge'] < 5)]\n",
    "        charges = ','.join(list(map(lambda x: str(x)+'+',sector['Charge'])))\n",
    "        configs = ','.join(list(sector['Configuration']))\n",
    "        terms = ','.join(list(sector['Term'])).replace('a ','')\n",
    "        mdata = '\\n'.join([charges, configs,terms])\n",
    "        group_loc = int(atom.group)\n",
    "        row = -atom.period\n",
    "        ax.text(group_loc+0.85, row-0.1, charges.replace(',','\\n'), ha='center', va='top', fontsize=3*font_multiplier)\n",
    "        ax.text(group_loc+0.15, row-0.1, terms.replace(',','\\n'),ha='center',va='top',fontsize=3*font_multiplier)\n",
    "        ax.text(group_loc+0.5, row-margin-0.4, configs.replace(',','\\n'),ha='center',va='top',fontsize=3*font_multiplier)\n",
    "        ax.text(group_loc+0.5, row-0.15, atom.symbol,ha='center',va='top',fontsize=7*font_multiplier, weight='bold')\n",
    "        ax.text(group_loc+0.5, row-margin-0.07, atom.atomic_number,ha='center',va='top',fontsize=1.75*font_multiplier)\n",
    "        ax.plot([group_loc+margin, group_loc+1-margin, group_loc+1-margin, group_loc+margin, group_loc+margin],\n",
    "                [ row-margin, row-margin, row-1+margin, row-1+margin, row-margin],'k-',lw=0.5)\n",
    "        ax.axis('off')\n",
    "        ax.set_aspect('equal')\n",
    "        if n == 5:\n",
    "            title = 'd${}^%d$' % (n)\n",
    "        else:\n",
    "            title = 'd${}^%d$, d${}^%d$' % (n,10-n)\n",
    "        ax.set_title(title)\n",
    "plt.tight_layout()\n",
    "\n",
    "# plt.savefig('/Users/juan/Google Drive/Zia Lab/Log/Graphs/dn.pdf')\n",
    "plt.show()"
   ]
  }
 ],
 "metadata": {
  "kernelspec": {
   "display_name": "qdef",
   "language": "python",
   "name": "qdef"
  },
  "language_info": {
   "codemirror_mode": {
    "name": "ipython",
    "version": 3
   },
   "file_extension": ".py",
   "mimetype": "text/x-python",
   "name": "python",
   "nbconvert_exporter": "python",
   "pygments_lexer": "ipython3",
   "version": "3.7.10"
  }
 },
 "nbformat": 4,
 "nbformat_minor": 5
}
