{
 "cells": [
  {
   "cell_type": "markdown",
   "metadata": {},
   "source": [
    "# Diagrams of Crystal Field splittings"
   ]
  },
  {
   "cell_type": "code",
   "execution_count": 1,
   "metadata": {},
   "outputs": [
    {
     "data": {
      "text/html": [
       "<pre>✔️ 3.14 s (2021-12-14T13:30:41/2021-12-14T13:30:45)</pre>"
      ],
      "text/plain": [
       "<IPython.core.display.HTML object>"
      ]
     },
     "metadata": {},
     "output_type": "display_data"
    },
    {
     "name": "stdout",
     "output_type": "stream",
     "text": [
      "Reloading /Volumes/GoogleDrive/My Drive/Zia Lab/Codebase/qdef/data/CPGs.pkl ...\n"
     ]
    }
   ],
   "source": [
    "%load_ext line_profiler\n",
    "%load_ext autoreload\n",
    "# provide cell timings\n",
    "%load_ext autotime\n",
    "# %autoreload 2\n",
    "import sympy as sp\n",
    "import numpy as np\n",
    "%config InlineBackend.figure_format='retina'\n",
    "%config Completer.use_jedi = False\n",
    "from qdef import *\n",
    "from misc import *\n",
    "from IPython.display import display, Math, Latex\n",
    "from joblib import Parallel, delayed\n",
    "import multiprocessing\n",
    "num_cores = multiprocessing.cpu_count()\n",
    "import time\n",
    "from itertools import product\n",
    "new_labels = pickle.load(open('./Data/components_rosetta.pkl','rb'))\n",
    "from itertools import permutations\n",
    "from sympy import Eijk as εijk"
   ]
  },
  {
   "cell_type": "code",
   "execution_count": 85,
   "metadata": {},
   "outputs": [
    {
     "data": {
      "text/html": [
       "<pre>✔️ 471 µs (2021-12-14T14:46:08/2021-12-14T14:46:08)</pre>"
      ],
      "text/plain": [
       "<IPython.core.display.HTML object>"
      ]
     },
     "metadata": {},
     "output_type": "display_data"
    }
   ],
   "source": [
    "import matplotlib"
   ]
  },
  {
   "cell_type": "code",
   "execution_count": 86,
   "metadata": {},
   "outputs": [
    {
     "data": {
      "text/html": [
       "<pre>✔️ 572 µs (2021-12-14T14:46:10/2021-12-14T14:46:10)</pre>"
      ],
      "text/plain": [
       "<IPython.core.display.HTML object>"
      ]
     },
     "metadata": {},
     "output_type": "display_data"
    }
   ],
   "source": [
    "matplotlib.rcParams.update(\n",
    "    {\n",
    "        'text.usetex': False,\n",
    "        'font.family': 'stixgeneral',\n",
    "        'mathtext.fontset': 'stix',\n",
    "    }\n",
    ")"
   ]
  },
  {
   "cell_type": "code",
   "execution_count": 163,
   "metadata": {},
   "outputs": [
    {
     "data": {
      "text/html": [
       "<pre>✔️ 6.82 s (2021-12-14T16:00:27/2021-12-14T16:00:34)</pre>"
      ],
      "text/plain": [
       "<IPython.core.display.HTML object>"
      ]
     },
     "metadata": {},
     "output_type": "display_data"
    }
   ],
   "source": [
    "for l in [0,1,2,3]:\n",
    "    fig, ax = plt.subplots(nrows=8, ncols=4,figsize=(10,12.5))\n",
    "    group_labels = CPGs.all_group_labels\n",
    "    ang_letter = {0:'s',1:'p',2:'d',3:'f'}[l]\n",
    "    circled_label = {0:'ⓢ', 1:'ⓟ', 2:'ⓓ', 3: 'ⓕ'}[l]\n",
    "    circled_label = ang_letter\n",
    "    if l == 1:\n",
    "        correction_factor = 1\n",
    "    else:\n",
    "        correction_factor = 1\n",
    "    for num_row in range(8):\n",
    "        for num_col in range(4):\n",
    "            group_label = group_labels[num_row*4+num_col]\n",
    "            group = CPGs.get_group_by_label(group_label)\n",
    "            axis = ax[num_row][num_col]\n",
    "            split = l_splitter(group_label,l).dict\n",
    "            num_irreps = len(split)\n",
    "            the_irrep_labels = list(split.keys())\n",
    "            main_span = 0.15*l\n",
    "            num_mains = 2*l+1\n",
    "            main_ys = np.linspace(-main_span/2,main_span/2,num_mains)\n",
    "            for main_y in main_ys:\n",
    "                main_line = [[0,1],[main_y,main_y]]\n",
    "                axis.plot(main_line[0],main_line[1],'k-',lw=0.5)\n",
    "            if num_irreps == 1:\n",
    "                ys = [0]\n",
    "            else:\n",
    "                ys = np.linspace(-2,2,num_irreps)\n",
    "            for irrep_y, ir_label in zip(ys, the_irrep_labels):\n",
    "                axis.plot([1,2],[0,irrep_y],'k--')\n",
    "                axis.text(3.1,irrep_y,\"$%s$\" % sp.latex(ir_label),va='center')\n",
    "                circ = matplotlib.patches.Ellipse((1, 0), 0.2*2.5, 0.5*2.5*0.9*correction_factor, color='k')\n",
    "                axis.add_patch(circ)\n",
    "                axis.text(1,0,'$%s$' % group_label,va='center',ha='center', color='w')\n",
    "                circ2 = matplotlib.patches.Ellipse((0, 0), 0.2*2.5/4*2, 0.5*2.5/4*2*0.9*correction_factor, color='k',zorder=2)\n",
    "                axis.add_patch(circ2)\n",
    "                circ2 = matplotlib.patches.Ellipse((0, 0), 0.2*2.5/4*0.9*2, 0.5*2.5/4*0.9*2*0.9*correction_factor, color='w',zorder=2)\n",
    "                axis.add_patch(circ2)\n",
    "                axis.text(0,0,circled_label,va='center',ha='center')\n",
    "                num_sublevels = split[ir_label] * group.irrep_dims[ir_label]\n",
    "                if group_label in ['C_{1}','C_{i}']:\n",
    "                    span = 1\n",
    "                else:\n",
    "                    span = 0.5\n",
    "                if num_sublevels == 1:\n",
    "                    subys = [irrep_y]\n",
    "                else:\n",
    "                    subys = np.linspace(irrep_y-span/2,irrep_y+span/2,num_sublevels)\n",
    "                for suby in subys:\n",
    "                    axis.plot([2,2,3],[irrep_y,suby,suby],'k-')\n",
    "                \n",
    "                \n",
    "            axis.set_ylim(-2.5,2.5)\n",
    "            axis.axis('off')\n",
    "    plt.tight_layout()\n",
    "    plt.savefig('/Users/juan/Library/Mobile Documents/com~apple~CloudDocs/iCloudFiles/tex/thesis/figures/%s-electron-CF-splits.pdf' % ang_letter)\n",
    "    plt.close()"
   ]
  },
  {
   "cell_type": "code",
   "execution_count": 164,
   "metadata": {},
   "outputs": [
    {
     "data": {
      "text/html": [
       "<pre>✔️ 5.55 s (2021-12-14T16:00:34/2021-12-14T16:00:40)</pre>"
      ],
      "text/plain": [
       "<IPython.core.display.HTML object>"
      ]
     },
     "metadata": {},
     "output_type": "display_data"
    }
   ],
   "source": [
    "!beep"
   ]
  },
  {
   "cell_type": "code",
   "execution_count": null,
   "metadata": {},
   "outputs": [],
   "source": []
  }
 ],
 "metadata": {
  "interpreter": {
   "hash": "5ed69564610cdd861a99d06236eab56151da4db3d5eb55442ace689096fe7345"
  },
  "kernelspec": {
   "display_name": "Python 3.8.8 64-bit ('qdef3p8': conda)",
   "language": "python",
   "name": "python3"
  },
  "language_info": {
   "codemirror_mode": {
    "name": "ipython",
    "version": 3
   },
   "file_extension": ".py",
   "mimetype": "text/x-python",
   "name": "python",
   "nbconvert_exporter": "python",
   "pygments_lexer": "ipython3",
   "version": "3.8.8"
  },
  "orig_nbformat": 4
 },
 "nbformat": 4,
 "nbformat_minor": 2
}
