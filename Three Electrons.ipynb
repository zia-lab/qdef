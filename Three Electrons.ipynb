{
 "cells": [
  {
   "cell_type": "markdown",
   "metadata": {},
   "source": [
    "# Three Electrons Meet in a Bar"
   ]
  },
  {
   "cell_type": "markdown",
   "metadata": {},
   "source": [
    "<center><img src=\"./images/qdef-banner.png\" style=\"width: 500px\"></center>"
   ]
  },
  {
   "cell_type": "code",
   "execution_count": 1,
   "metadata": {},
   "outputs": [
    {
     "data": {
      "text/html": [
       "<pre>✔️ 3.04 s (2021-12-13T12:33:38/2021-12-13T12:33:41)</pre>"
      ],
      "text/plain": [
       "<IPython.core.display.HTML object>"
      ]
     },
     "metadata": {},
     "output_type": "display_data"
    },
    {
     "name": "stdout",
     "output_type": "stream",
     "text": [
      "Reloading /Volumes/GoogleDrive/My Drive/Zia Lab/Codebase/qdef/data/CPGs.pkl ...\n"
     ]
    }
   ],
   "source": [
    "%load_ext line_profiler\n",
    "%load_ext autoreload\n",
    "# provide cell timings\n",
    "%load_ext autotime\n",
    "# %autoreload 2\n",
    "import sympy as sp\n",
    "import numpy as np\n",
    "%config InlineBackend.figure_format='retina'\n",
    "%config Completer.use_jedi = False\n",
    "from qdef import *\n",
    "from misc import *\n",
    "from IPython.display import display, Math, Latex\n",
    "from joblib import Parallel, delayed\n",
    "import multiprocessing\n",
    "num_cores = multiprocessing.cpu_count()\n",
    "import time\n",
    "from itertools import product\n",
    "new_labels = pickle.load(open('./Data/components_rosetta.pkl','rb'))\n",
    "from itertools import permutations\n",
    "from sympy import Eijk as εijk"
   ]
  },
  {
   "cell_type": "code",
   "execution_count": 2,
   "metadata": {},
   "outputs": [
    {
     "data": {
      "text/html": [
       "<pre>✔️ 8.64 ms (2021-12-13T12:33:46/2021-12-13T12:33:46)</pre>"
      ],
      "text/plain": [
       "<IPython.core.display.HTML object>"
      ]
     },
     "metadata": {},
     "output_type": "display_data"
    }
   ],
   "source": [
    "def as_det_ket(qet):\n",
    "    detket = sp.S(0)\n",
    "    for k,v in qet.dict.items():\n",
    "        symb = sp.Symbol((r'|%s|' % str(k)).replace('(','').replace(')','').replace(',',''))\n",
    "        detket += symb * v\n",
    "    return detket"
   ]
  },
  {
   "cell_type": "markdown",
   "metadata": {},
   "source": [
    "## Cubic Group Γ1 Γ2 Γ3"
   ]
  },
  {
   "cell_type": "code",
   "execution_count": 100,
   "metadata": {},
   "outputs": [
    {
     "data": {
      "text/html": [
       "<pre>✔️ 16.9 ms (2021-12-13T14:44:27/2021-12-13T14:44:27)</pre>"
      ],
      "text/plain": [
       "<IPython.core.display.HTML object>"
      ]
     },
     "metadata": {},
     "output_type": "display_data"
    }
   ],
   "source": [
    "def det_simplify(ket_parts):\n",
    "    equivalent_parts = {}\n",
    "    standard_order = {} # this holds the standard order to which all the other list members will be referred to\n",
    "    for ket_part_key, ket_part_coeff in ket_parts.items():\n",
    "        set_ket = frozenset(ket_part_key)\n",
    "        if set_ket not in equivalent_parts:\n",
    "            equivalent_parts[set_ket] = []\n",
    "            standard_order[set_ket] = ket_part_key\n",
    "        equivalent_parts[set_ket].append((ket_part_key, ket_part_coeff))\n",
    "    # once I've grouped them together into pices of equivalent parts\n",
    "    # i then need to rearrange and properly sign the rearrangements\n",
    "    det_simple = []\n",
    "    for equivalent_key in equivalent_parts:\n",
    "        base_order = standard_order[equivalent_key]\n",
    "        total_coeff = 0\n",
    "        equiv_parts = equivalent_parts[equivalent_key]\n",
    "        for equiv_part in equiv_parts:\n",
    "            ordering = [base_order.index(part) for part in equiv_part[0]]\n",
    "            sign = εijk(*ordering)\n",
    "            total_coeff += sign*equiv_part[1]\n",
    "        final = (base_order, total_coeff)\n",
    "        if total_coeff != 0:\n",
    "            det_simple.append(final)\n",
    "    return det_simple\n",
    "\n",
    "def qet_divide(qet0, qet1):\n",
    "    '''\n",
    "    Given   two   qets,   assumed   to   be   superpositions  of\n",
    "    determinantal states. Determine if they are collinear and if\n",
    "    they are, provide their ratio.\n",
    "\n",
    "    Parameters\n",
    "    ----------\n",
    "    qet0    (qdef.Qet) : a qet with determinantal keys.\n",
    "    qet1    (qdef.Qet) : a qet with determinantal keys.\n",
    "\n",
    "    Returns\n",
    "    -------\n",
    "    ratio (num): 0 if qets are not collinear, otherwise equal to\n",
    "    qet0/qet1.\n",
    "\n",
    "\n",
    "    '''\n",
    "    if len(qet0.dict) != len(qet1.dict):\n",
    "        return 0\n",
    "    set0 = frozenset(map(frozenset,qet0.dict.keys()))\n",
    "    set1 = frozenset(map(frozenset,qet1.dict.keys()))\n",
    "    num_parts = len(qet0.dict)\n",
    "    # a necessary condition for them to be possibly collinear\n",
    "    # is that they should have have the same sets of quantum\n",
    "    # numbers.\n",
    "    if set0 != set1:\n",
    "        return 0\n",
    "    else:\n",
    "        ratios = []\n",
    "        # iterate over the quantum nums of the first qet\n",
    "        for qet_key_0, qet_val_0 in qet0.dict.items():\n",
    "            set0 = set(qet_key_0)\n",
    "            # and determine the ratio that it has\n",
    "            # to all of the parts of the other qet\n",
    "            # allowing for reaarangmenets valid\n",
    "            # under determinantal state rules\n",
    "            for qet_key_1, qet_val_1 in qet1.dict.items():\n",
    "                set1 = set(qet_key_1)\n",
    "                if set0 == set1:\n",
    "                    ordering = [qet_key_0.index(qk) for qk in qet_key_1]\n",
    "                    sign = εijk(*ordering)\n",
    "                    ratios.append(sign * qet_val_0/qet_val_1)\n",
    "                    continue\n",
    "    if ratios == []:\n",
    "        return 0\n",
    "    else:\n",
    "        # if all of the ratios are equal\n",
    "        # then the ratio of the two qets\n",
    "        # is well defined\n",
    "        if len(set(ratios)) == 1 and len(ratios) == num_parts:\n",
    "            return ratios[0]\n",
    "        else:\n",
    "            return 0\n",
    "\n",
    "# final_qets = []\n",
    "# corresponding_waves = []\n",
    "# for total_ket_key_0, simple_ket_0 in simplified_kets.items():\n",
    "#     ratios = []\n",
    "#     for simple_ket_1 in final_qets:\n",
    "#         divvy = qet_divide(simple_ket_0, simple_ket_1)\n",
    "#         ratios.append(divvy==0)\n",
    "#     ratios = sum(ratios)\n",
    "#     if ratios == len(final_qets):\n",
    "#         final_qets.append(simple_ket_0)\n",
    "#         corresponding_waves.append(total_ket_key_0)\n",
    "# final_qets = list(zip(corresponding_waves, final_qets))"
   ]
  },
  {
   "cell_type": "code",
   "execution_count": 121,
   "metadata": {},
   "outputs": [
    {
     "data": {
      "text/html": [
       "<pre>✔️ 12 ms (2021-12-13T15:19:57/2021-12-13T15:19:57)</pre>"
      ],
      "text/plain": [
       "<IPython.core.display.HTML object>"
      ]
     },
     "metadata": {},
     "output_type": "display_data"
    }
   ],
   "source": [
    "def three_electron_waves(group_label, Γ1, Γ2, Γ3, disambiguate = False):\n",
    "    '''\n",
    "    Given  a  label for a crystallographic point group and three\n",
    "    labels   for   corresponding   irreducible  representations.\n",
    "    Produce  all the three electron wavefunctions  assuming that\n",
    "    all the electrons are equivalent.\n",
    "\n",
    "    Parameters\n",
    "    ----------\n",
    "    group_label     (str):\n",
    "    Γ1        (sp.Symbol): label for an irrep of G\n",
    "    Γ2        (sp.Symbol): label for an irrep of G\n",
    "    Γ3        (sp.Symbol): label for an irrep of G\n",
    "    disambiguate   (bool): if verbose output is returned\n",
    "\n",
    "    Returns\n",
    "    -------\n",
    "    if disambiguate == False:\n",
    "        final_qets      (dict): \n",
    "            keys -> (Γ_total, γ_total, 2*S_total+1, M_total, S_12, Γ_12)\n",
    "            values -> qdef.Qet with determinantal states\n",
    "    if disambiguate == True then also final_qets_groups is returned\n",
    "        final_qets_groups (dict):\n",
    "            keys -> (Γ_total, γ_total, 2*S_total+1, M_total, S_12, Γ_12)\n",
    "            values -> dict() with keys 'paths' and 'qet'\n",
    "                with 'paths' a list with all alternate intermediate two-\n",
    "                electron states that lead to the same final qet.\n",
    "    \n",
    "    Where  S_12  is  the  spin  of the intermediate two-electron\n",
    "    wavefunction and Γ_12 its corresponding irrep.\n",
    "    '''\n",
    "    # get the group\n",
    "    group = CPGs.get_group_by_label(group_label)\n",
    "    # get the CGs\n",
    "    group_CGs = group.CG_coefficients\n",
    "    # enforce the better notation for components\n",
    "    flat_labels = dict(sum([list(l.items()) for l in list(new_labels[group_label].values())],[]))\n",
    "    group_CGs = {(flat_labels[k[0]], flat_labels[k[1]], flat_labels[k[2]]):v for k,v in group_CGs.items()}\n",
    "\n",
    "    irreps = group.irrep_labels\n",
    "    s_half = sp.S(1)/2\n",
    "    ms = mrange(s_half)\n",
    "\n",
    "    component_labels = {k:list(v.values()) for k,v in new_labels[group_label].items()}\n",
    "    comps_1, comps_2, comps_3 = [component_labels[ir] for ir in [Γ1, Γ2, Γ3]]\n",
    "    s1, s2, s3 = s_half, s_half, s_half\n",
    "\n",
    "    Γ12s = group.product_table.odict[(Γ1, Γ2)] # the intermediate irreps belong to the reduction of Γ1 X Γ2\n",
    "    S12s = lrange(s1,s2) # this is just [0,1] as for the total angular momentum of the intermediate states\n",
    "    total_kets = {}\n",
    "\n",
    "    counter = 0\n",
    "    for γ1, γ2, γ3, m1, m2, m3, Γ12, S12 in product(comps_1, comps_2, comps_3, ms, ms, ms, Γ12s, S12s):\n",
    "        Γs = group.product_table.odict[(Γ12, Γ3)]\n",
    "        Ss = lrange(S12, s3)\n",
    "        comps_12 = component_labels[Γ12]\n",
    "        M12s = mrange(S12)\n",
    "        for Γ in Γs:\n",
    "            comps = component_labels[Γ]\n",
    "            for S in Ss:\n",
    "                Ms = mrange(S)\n",
    "                for γ, M12, M, γ12 in product(comps, M12s, Ms, comps_12):\n",
    "                    total_ket_key = (Γ, γ, 2*S+1, M, S12, Γ12)\n",
    "                    # summing s1 and s2 to yield S12\n",
    "                    sCG1 = clebschG.eva(s1, s2, S12, m1, m2, M12)\n",
    "                    # summing S12 and s3 to give the final S, M\n",
    "                    sCG2 = clebschG.eva(S12, s3, S, M12, m3, M)\n",
    "                    # coupling a γ1, γ2 to get a γ12\n",
    "                    gCG1 = group_CGs.setdefault((γ1, γ2, γ12), 0)\n",
    "                    # coupling a γ12, γ3 to get a final γ\n",
    "                    gCG2 = group_CGs.setdefault((γ12, γ3, γ), 0)\n",
    "                    coeff = sCG1 * sCG2 * gCG1 * gCG2\n",
    "                    if coeff == 0:\n",
    "                        continue\n",
    "                    # collect in the dictionary all the parts that correspond to the sums\n",
    "                    if total_ket_key not in total_kets:\n",
    "                        total_kets[total_ket_key] = {}\n",
    "                    if m1 < 0:\n",
    "                        γ1f = bar_symbol(γ1)\n",
    "                    else:\n",
    "                        γ1f = γ1\n",
    "                    if m2 < 0:\n",
    "                        γ2f = bar_symbol(γ2)\n",
    "                    else:\n",
    "                        γ2f = γ2\n",
    "                    if m3 < 0:\n",
    "                        γ3f = bar_symbol(γ3)\n",
    "                    else:\n",
    "                        γ3f= γ3\n",
    "                    total_ket_part_key = (γ1f, γ2f, γ3f)\n",
    "                    if total_ket_part_key not in total_kets[total_ket_key]:\n",
    "                        total_kets[total_ket_key][total_ket_part_key] = 0\n",
    "                    total_kets[total_ket_key][total_ket_part_key] += coeff\n",
    "                    counter += 1\n",
    "\n",
    "    # The resulting qets may have redundant parts in that \n",
    "    # a rearrangment of the quantum symbols may be equal\n",
    "    # to another part.\n",
    "    # This makes it necessary to do some rearrangment\n",
    "    # juggling, and permutations signing.\n",
    "\n",
    "    simplified_kets = {}\n",
    "    for total_ket_key, ket_parts in total_kets.items():\n",
    "        det_simplified = det_simplify(ket_parts)\n",
    "        if len(det_simplified) != 0:\n",
    "            simplified_kets[total_ket_key] = Qet(dict(det_simplified))\n",
    "            the_normalizer = 1/simplified_kets[total_ket_key].norm()\n",
    "            simplified_kets[total_ket_key] = the_normalizer*simplified_kets[total_ket_key]\n",
    "\n",
    "    final_qets = []\n",
    "    corresponding_waves = []\n",
    "    for total_ket_key_0, simple_ket_0 in simplified_kets.items():\n",
    "        ratios = []\n",
    "        for simple_ket_1 in final_qets:\n",
    "            divvy = qet_divide(simple_ket_0, simple_ket_1)\n",
    "            ratios.append(divvy==0)\n",
    "        ratios = sum(ratios)\n",
    "        if ratios == len(final_qets):\n",
    "            final_qets.append(simple_ket_0)\n",
    "            corresponding_waves.append(total_ket_key_0)\n",
    "    final_qets = list(zip(corresponding_waves, final_qets))\n",
    "\n",
    "    # in addition to removing the redundant ones\n",
    "    # I would also like to keep al the total_ket_keys that correspond to each\n",
    "    # group of redundant qets\n",
    "    if disambiguate:\n",
    "        final_qets_groups = {}\n",
    "        for main_key, sqet in final_qets:\n",
    "            final_qets_groups[main_key] = {'paths':[],'qet':sqet}\n",
    "            for total_ket_key_0, simple_ket_0 in simplified_kets.items():\n",
    "                if qet_divide(sqet, simple_ket_0) != 0:\n",
    "                    final_qets_groups[main_key]['paths'].append(total_ket_key_0)\n",
    "        return final_qets, final_qets_groups\n",
    "    else:\n",
    "        return final_qets\n",
    "    "
   ]
  },
  {
   "cell_type": "code",
   "execution_count": 130,
   "metadata": {},
   "outputs": [
    {
     "data": {
      "text/html": [
       "<pre>✔️ 653 µs (2021-12-13T15:25:17/2021-12-13T15:25:17)</pre>"
      ],
      "text/plain": [
       "<IPython.core.display.HTML object>"
      ]
     },
     "metadata": {},
     "output_type": "display_data"
    }
   ],
   "source": [
    "three_irreps_combos = list(combinations_with_replacement(irreps,3))"
   ]
  },
  {
   "cell_type": "code",
   "execution_count": 140,
   "metadata": {},
   "outputs": [
    {
     "data": {
      "text/html": [
       "<pre>✔️ 32.4 s (2021-12-13T15:29:33/2021-12-13T15:30:05)</pre>"
      ],
      "text/plain": [
       "<IPython.core.display.HTML object>"
      ]
     },
     "metadata": {},
     "output_type": "display_data"
    },
    {
     "name": "stdout",
     "output_type": "stream",
     "text": [
      "35\n",
      "0|1|2|3|4|5|6|7|8|9|10|11|12|13|14|15|16|17|18|19|20|21|22|23|24|25|26|27|28|29|30|31|32|33|34|"
     ]
    }
   ],
   "source": [
    "group_label = 'O'\n",
    "all_three_electron_funs = {}\n",
    "print(len(three_irreps_combos))\n",
    "for idx, irrep_combo in enumerate(three_irreps_combos):\n",
    "    print(idx,end='|')\n",
    "    all_three_electron_funs[irrep_combo] = three_electron_waves(group_label,*irrep_combo)"
   ]
  },
  {
   "cell_type": "code",
   "execution_count": 145,
   "metadata": {},
   "outputs": [
    {
     "data": {
      "text/html": [
       "<pre>✔️ 23.6 ms (2021-12-13T15:32:06/2021-12-13T15:32:06)</pre>"
      ],
      "text/plain": [
       "<IPython.core.display.HTML object>"
      ]
     },
     "metadata": {},
     "output_type": "display_data"
    },
    {
     "name": "stdout",
     "output_type": "stream",
     "text": [
      "(A_1, A_1, A_1) 0\n",
      "(A_1, A_1, A_2) 2\n",
      "(A_1, A_1, E) 4\n",
      "(A_1, A_1, T_1) 6\n",
      "(A_1, A_1, T_2) 6\n",
      "(A_1, A_2, A_2) 2\n",
      "(A_1, A_2, E) 16\n",
      "(A_1, A_2, T_1) 24\n",
      "(A_1, A_2, T_2) 24\n",
      "(A_1, E, E) 12\n",
      "(A_1, E, T_1) 48\n",
      "(A_1, E, T_2) 48\n",
      "(A_1, T_1, T_1) 30\n",
      "(A_1, T_1, T_2) 72\n",
      "(A_1, T_2, T_2) 30\n",
      "(A_2, A_2, A_2) 0\n",
      "(A_2, A_2, E) 4\n",
      "(A_2, A_2, T_1) 6\n",
      "(A_2, A_2, T_2) 6\n",
      "(A_2, E, E) 12\n",
      "(A_2, E, T_1) 48\n",
      "(A_2, E, T_2) 48\n",
      "(A_2, T_1, T_1) 30\n",
      "(A_2, T_1, T_2) 72\n",
      "(A_2, T_2, T_2) 30\n",
      "(E, E, E) 4\n",
      "(E, E, T_1) 36\n",
      "(E, E, T_2) 36\n",
      "(E, T_1, T_1) 72\n",
      "(E, T_1, T_2) 144\n",
      "(E, T_2, T_2) 72\n",
      "(T_1, T_1, T_1) 20\n",
      "(T_1, T_1, T_2) 90\n",
      "(T_1, T_2, T_2) 136\n",
      "(T_2, T_2, T_2) 20\n",
      "Total of 1210 three electron wavefunctions.\n"
     ]
    }
   ],
   "source": [
    "tally = 0\n",
    "for irrep_combo in all_three_electron_funs:\n",
    "    print(irrep_combo, len(all_three_electron_funs[irrep_combo]))\n",
    "    tally += len(all_three_electron_funs[irrep_combo])\n",
    "print(\"Total of %s three electron wavefunctions.\" % tally)"
   ]
  },
  {
   "cell_type": "code",
   "execution_count": 109,
   "metadata": {},
   "outputs": [
    {
     "data": {
      "text/html": [
       "<pre>✔️ 479 µs (2021-12-13T15:07:08/2021-12-13T15:07:08)</pre>"
      ],
      "text/plain": [
       "<IPython.core.display.HTML object>"
      ]
     },
     "metadata": {},
     "output_type": "display_data"
    }
   ],
   "source": [
    "# for k,v in final_qets_groups.items():\n",
    "#     print(k,'||', len(v['paths']), '||', (v['paths']))\n",
    "#     display(as_det_ket(v['qet']))"
   ]
  },
  {
   "cell_type": "code",
   "execution_count": 124,
   "metadata": {},
   "outputs": [
    {
     "data": {
      "text/html": [
       "<pre>✔️ 4.86 s (2021-12-13T15:20:23/2021-12-13T15:20:28)</pre>"
      ],
      "text/plain": [
       "<IPython.core.display.HTML object>"
      ]
     },
     "metadata": {},
     "output_type": "display_data"
    },
    {
     "data": {
      "text/plain": [
       "20"
      ]
     },
     "execution_count": 124,
     "metadata": {},
     "output_type": "execute_result"
    }
   ],
   "source": [
    "final_qets = three_electron_waves('O',sp.Symbol('T_2'), sp.Symbol('T_2'), sp.Symbol('T_2'), disambiguate=True)"
   ]
  },
  {
   "cell_type": "code",
   "execution_count": 126,
   "metadata": {},
   "outputs": [
    {
     "data": {
      "text/html": [
       "<pre>✔️ 5.56 ms (2021-12-13T15:20:31/2021-12-13T15:20:31)</pre>"
      ],
      "text/plain": [
       "<IPython.core.display.HTML object>"
      ]
     },
     "metadata": {},
     "output_type": "display_data"
    },
    {
     "data": {
      "text/plain": [
       "20"
      ]
     },
     "execution_count": 126,
     "metadata": {},
     "output_type": "execute_result"
    }
   ],
   "source": [
    "len(final_qets[1])"
   ]
  },
  {
   "cell_type": "markdown",
   "metadata": {},
   "source": [
    "## Cubic Group T2 T2 E"
   ]
  },
  {
   "cell_type": "code",
   "execution_count": 31,
   "metadata": {},
   "outputs": [
    {
     "data": {
      "text/html": [
       "<pre>✔️ 32 ms (2021-12-13T13:58:02/2021-12-13T13:58:02)</pre>"
      ],
      "text/plain": [
       "<IPython.core.display.HTML object>"
      ]
     },
     "metadata": {},
     "output_type": "display_data"
    }
   ],
   "source": [
    "def det_simplify(ket_parts):\n",
    "    equivalent_parts = {}\n",
    "    standard_order = {} # this holds the standard order to which all the other list members will be referred to\n",
    "    for ket_part_key, ket_part_coeff in ket_parts.items():\n",
    "        set_ket = frozenset(ket_part_key)\n",
    "        if set_ket not in equivalent_parts:\n",
    "            equivalent_parts[set_ket] = []\n",
    "            standard_order[set_ket] = ket_part_key\n",
    "        equivalent_parts[set_ket].append((ket_part_key, ket_part_coeff))\n",
    "    # once I've grouped them together into pices of equivalent parts\n",
    "    # i then need to rearrange and properly sign the rearrangements\n",
    "    det_simple = []\n",
    "    for equivalent_key in equivalent_parts:\n",
    "        base_order = standard_order[equivalent_key]\n",
    "        total_coeff = 0\n",
    "        equiv_parts = equivalent_parts[equivalent_key]\n",
    "        for equiv_part in equiv_parts:\n",
    "            ordering = [base_order.index(part) for part in equiv_part[0]]\n",
    "            sign = εijk(*ordering)\n",
    "            total_coeff += sign*equiv_part[1]\n",
    "        final = (base_order, total_coeff)\n",
    "        if total_coeff != 0:\n",
    "            det_simple.append(final)\n",
    "    return det_simple\n",
    "\n",
    "def qet_divide(qet0, qet1):\n",
    "    '''\n",
    "    Given   two   qets,   assumed   to   be   superpositions  of\n",
    "    determinantal states. Determine if they are collinear and if\n",
    "    they are, provide their ratio.\n",
    "\n",
    "    Parameters\n",
    "    ----------\n",
    "    qet0    (qdef.Qet) : a qet with determinantal keys.\n",
    "    qet1    (qdef.Qet) : a qet with determinantal keys.\n",
    "\n",
    "    Returns\n",
    "    -------\n",
    "    ratio (num): 0 if qets are not collinear, otherwise equal to\n",
    "    qet0/qet1.\n",
    "\n",
    "\n",
    "    '''\n",
    "    if len(qet0.dict) != len(qet1.dict):\n",
    "        return 0\n",
    "    set0 = frozenset(map(frozenset,qet0.dict.keys()))\n",
    "    set1 = frozenset(map(frozenset,qet1.dict.keys()))\n",
    "    num_parts = len(qet0.dict)\n",
    "    # a necessary condition for them to be possibly collinear\n",
    "    # is that they should have have the same sets of quantum\n",
    "    # numbers.\n",
    "    if set0 != set1:\n",
    "        return 0\n",
    "    else:\n",
    "        ratios = []\n",
    "        # iterate over the quantum nums of the first qet\n",
    "        for qet_key_0, qet_val_0 in qet0.dict.items():\n",
    "            set0 = set(qet_key_0)\n",
    "            # and determine the ratio that it has\n",
    "            # to all of the parts of the other qet\n",
    "            # allowing for reaarangmenets valid\n",
    "            # under determinantal state rules\n",
    "            for qet_key_1, qet_val_1 in qet1.dict.items():\n",
    "                set1 = set(qet_key_1)\n",
    "                if set0 == set1:\n",
    "                    ordering = [qet_key_0.index(qk) for qk in qet_key_1]\n",
    "                    sign = εijk(*ordering)\n",
    "                    ratios.append(sign * qet_val_0/qet_val_1)\n",
    "                    continue\n",
    "    if ratios == []:\n",
    "        return 0\n",
    "    else:\n",
    "        # if all of the ratios are equal\n",
    "        # then the ratio of the two qets\n",
    "        # is well defined\n",
    "        if len(set(ratios)) == 1 and len(ratios) == num_parts:\n",
    "            return ratios[0]\n",
    "        else:\n",
    "            return 0\n",
    "\n",
    "final_qets = []\n",
    "corresponding_waves = []\n",
    "for total_ket_key_0, simple_ket_0 in simplified_kets.items():\n",
    "    ratios = []\n",
    "    for simple_ket_1 in final_qets:\n",
    "        divvy = qet_divide(simple_ket_0, simple_ket_1)\n",
    "        ratios.append(divvy==0)\n",
    "    ratios = sum(ratios)\n",
    "    if ratios == len(final_qets):\n",
    "        final_qets.append(simple_ket_0)\n",
    "        corresponding_waves.append(total_ket_key_0)\n",
    "final_qets = list(zip(corresponding_waves, final_qets))"
   ]
  },
  {
   "cell_type": "code",
   "execution_count": 80,
   "metadata": {},
   "outputs": [
    {
     "data": {
      "text/html": [
       "<pre>✔️ 6.4 ms (2021-12-13T14:25:26/2021-12-13T14:25:26)</pre>"
      ],
      "text/plain": [
       "<IPython.core.display.HTML object>"
      ]
     },
     "metadata": {},
     "output_type": "display_data"
    },
    {
     "name": "stdout",
     "output_type": "stream",
     "text": [
      "A_1 [E]\n",
      "A_2 [E]\n",
      "E [A_1, A_2, E]\n",
      "T_1 [T_1, T_2]\n",
      "T_2 [T_1, T_2]\n"
     ]
    }
   ],
   "source": [
    "for irrep in irreps:\n",
    "    print(irrep,group.product_table.odict[(irrep, sp.Symbol('E'))])"
   ]
  },
  {
   "cell_type": "code",
   "execution_count": null,
   "metadata": {},
   "outputs": [],
   "source": [
    "# group_label = 'O'\n",
    "# # get the group\n",
    "# group = CPGs.get_group_by_label(group_label)\n",
    "# # get the CGs\n",
    "# group_CGs = group.CG_coefficients\n",
    "# # enforce the better notation for components\n",
    "# flat_labels = dict(sum([list(l.items()) for l in list(new_labels[group_label].values())],[]))\n",
    "# group_CGs = {(flat_labels[k[0]], flat_labels[k[1]], flat_labels[k[2]]):v for k,v in group_CGs.items()}\n",
    "\n",
    "# coupler = {}\n",
    "# irreps = group.irrep_labels\n",
    "# ms = [-sp.S(1)/2,sp.S(1)/2] # for a spin 1/2\n",
    "# s_half = sp.S(1)/2\n",
    "\n",
    "# component_labels = {k:list(v.values()) for k,v in new_labels[group_label].items()}\n",
    "# Γ1, Γ2, Γ3 = sp.Symbol('T_2'), sp.Symbol('T_2'), sp.Symbol('E')\n",
    "# comps_1, comps_2, comps_3 = [component_labels[ir] for ir in [Γ1, Γ2, Γ3]]\n",
    "# s1, s2, s3 = s_half, s_half, s_half\n",
    "\n",
    "# Γ12s = group.product_table.odict[(Γ1, Γ2)] # the intermediate irreps belong to the reduction of Γ1 X Γ2\n",
    "# S12s = lrange(s1,s2) # this is just [0,1] as for the total angular momentum of the intermediate states\n",
    "# total_kets = {}\n",
    "\n",
    "# counter = 0\n",
    "# for Γ, γ1, γ2, γ3, m1, m2, m3, Γ12, S12 in product(irreps, comps_1, comps_2, comps_3, ms, ms, ms, Γ12s, S12s):\n",
    "#     # comps = component_labels[Γ]\n",
    "#     comps = component_labels[group.product_table.odict[(Γ12, Γ3)]]\n",
    "#     Ss = lrange(S12, s3)\n",
    "#     comps_12 = component_labels[Γ12]\n",
    "#     M12s = mrange(S12)\n",
    "#     for S in Ss:\n",
    "#         Ms = mrange(S)\n",
    "#         for γ, M12, M, γ12 in product(comps, M12s, Ms, comps_12):\n",
    "#             total_ket_key = (Γ, γ, 2*S+1, M, S12, Γ12)\n",
    "#             # summing s1 and s2 to yield S12\n",
    "#             sCG1 = clebschG.eva(s1, s2, S12, m1, m2, M12)\n",
    "#             # summing S12 and s3 to give the final S, M\n",
    "#             sCG2 = clebschG.eva(S12, s3, S, M12, m3, M)\n",
    "#             # coupling a γ1, γ2 to get a γ12\n",
    "#             gCG1 = group_CGs.setdefault((γ1, γ2, γ12), 0)\n",
    "#             # coupling a γ12, γ3 to get a final γ\n",
    "#             gCG2 = group_CGs.setdefault((γ12, γ3, γ), 0)\n",
    "#             coeff = sCG1 * sCG2 * gCG1 * gCG2\n",
    "#             if coeff == 0:\n",
    "#                 continue\n",
    "#             # collect in the dictionary all the parts that correspond to the sums\n",
    "#             if total_ket_key not in total_kets:\n",
    "#                 total_kets[total_ket_key] = {}\n",
    "#             if m1 < 0:\n",
    "#                 γ1f = bar_symbol(γ1)\n",
    "#             else:\n",
    "#                 γ1f = γ1\n",
    "#             if m2 < 0:\n",
    "#                 γ2f = bar_symbol(γ2)\n",
    "#             else:\n",
    "#                 γ2f = γ2\n",
    "#             if m3 < 0:\n",
    "#                 γ3f = bar_symbol(γ3)\n",
    "#             else:\n",
    "#                 γ3f= γ3\n",
    "#             total_ket_part_key = (γ1f, γ2f, γ3f)\n",
    "#             if total_ket_part_key not in total_kets[total_ket_key]:\n",
    "#                 total_kets[total_ket_key][total_ket_part_key] = 0\n",
    "#             total_kets[total_ket_key][total_ket_part_key] += coeff\n",
    "#             counter += 1\n",
    "\n",
    "# # The resulting qets may have redundant parts in that \n",
    "# # a rearrangment of the quantum symbols may be equal\n",
    "# # to another part.\n",
    "# # This makes it necessary to do some rearrangment\n",
    "# # juggling\n",
    "\n",
    "# simplified_kets = {}\n",
    "# for total_ket_key, ket_parts in total_kets.items():\n",
    "#     det_simplified = det_simplify(ket_parts)\n",
    "#     if len(det_simplified) != 0:\n",
    "#         simplified_kets[total_ket_key] = Qet(dict(det_simplified))\n",
    "#         the_normalizer = 1/simplified_kets[total_ket_key].norm()\n",
    "#         simplified_kets[total_ket_key] = the_normalizer*simplified_kets[total_ket_key]\n",
    "\n",
    "# final_qets = []\n",
    "# corresponding_waves = []\n",
    "# for total_ket_key_0, simple_ket_0 in simplified_kets.items():\n",
    "#     ratios = []\n",
    "#     for simple_ket_1 in final_qets:\n",
    "#         divvy = qet_divide(simple_ket_0, simple_ket_1)\n",
    "#         ratios.append(divvy==0)\n",
    "#     ratios = sum(ratios)\n",
    "#     if ratios == len(final_qets):\n",
    "#         final_qets.append(simple_ket_0)\n",
    "#         corresponding_waves.append(total_ket_key_0)\n",
    "# final_qets = list(zip(corresponding_waves, final_qets))\n",
    "\n",
    "# # in addition to removing the redundant ones\n",
    "# # I would also like to keep al the total_ket_keys that correspond to each\n",
    "# # group of redundant qets\n",
    "# final_qets_groups = {}\n",
    "# for main_key, sqet in final_qets:\n",
    "#     final_qets_groups[main_key] = {'paths':[],'qet':sqet}\n",
    "#     for total_ket_key_0, simple_ket_0 in simplified_kets.items():\n",
    "#         if qet_divide(sqet, simple_ket_0) != 0:\n",
    "#             final_qets_groups[main_key]['paths'].append(total_ket_key_0)\n",
    "# for k,v in final_qets_groups.items():\n",
    "#     print(k,'||', len(v['paths']), '||', (v['paths']))\n",
    "#     display(as_det_ket(v['qet']))"
   ]
  },
  {
   "cell_type": "code",
   "execution_count": null,
   "metadata": {},
   "outputs": [],
   "source": [
    "group_label = 'O'\n",
    "# get the group\n",
    "group = CPGs.get_group_by_label(group_label)\n",
    "# get the CGs\n",
    "group_CGs = group.CG_coefficients\n",
    "# enforce the better notation for components\n",
    "flat_labels = dict(sum([list(l.items()) for l in list(new_labels[group_label].values())],[]))\n",
    "group_CGs = {(flat_labels[k[0]], flat_labels[k[1]], flat_labels[k[2]]):v for k,v in group_CGs.items()}\n",
    "\n",
    "coupler = {}\n",
    "irreps = group.irrep_labels\n",
    "ms = [-sp.S(1)/2,sp.S(1)/2] # for a spin 1/2\n",
    "s_half = sp.S(1)/2\n",
    "\n",
    "component_labels = {k:list(v.values()) for k,v in new_labels[group_label].items()}\n",
    "Γ1, Γ2, Γ3 = sp.Symbol('T_2'), sp.Symbol('T_2'), sp.Symbol('E')\n",
    "comps_1, comps_2, comps_3 = [component_labels[ir] for ir in [Γ1, Γ2, Γ3]]\n",
    "s1, s2, s3 = s_half, s_half, s_half\n",
    "\n",
    "Γ12s = group.product_table.odict[(Γ1, Γ2)] # the intermediate irreps belong to the reduction of Γ1 X Γ2\n",
    "S12s = lrange(s1,s2) # this is just [0,1] as for the total angular momentum of the intermediate states\n",
    "total_kets = {}\n",
    "\n",
    "counter = 0\n",
    "for γ1, γ2, γ3, m1, m2, m3, Γ12, S12 in product(comps_1, comps_2, comps_3, ms, ms, ms, Γ12s, S12s):\n",
    "    Γs = group.product_table.odict[(Γ12, Γ3)]\n",
    "    for Γ in Γs:\n",
    "        comps = component_labels[Γ]\n",
    "        Ss = lrange(S12, s3)\n",
    "        comps_12 = component_labels[Γ12]\n",
    "        M12s = mrange(S12)\n",
    "        for S in Ss:\n",
    "            Ms = mrange(S)\n",
    "            for γ, M12, M, γ12 in product(comps, M12s, Ms, comps_12):\n",
    "                total_ket_key = (Γ, γ, 2*S+1, M, S12, Γ12)\n",
    "                # summing s1 and s2 to yield S12\n",
    "                sCG1 = clebschG.eva(s1, s2, S12, m1, m2, M12)\n",
    "                # summing S12 and s3 to give the final S, M\n",
    "                sCG2 = clebschG.eva(S12, s3, S, M12, m3, M)\n",
    "                # coupling a γ1, γ2 to get a γ12\n",
    "                gCG1 = group_CGs.setdefault((γ1, γ2, γ12), 0)\n",
    "                # coupling a γ12, γ3 to get a final γ\n",
    "                gCG2 = group_CGs.setdefault((γ12, γ3, γ), 0)\n",
    "                coeff = sCG1 * sCG2 * gCG1 * gCG2\n",
    "                if coeff == 0:\n",
    "                    continue\n",
    "                # collect in the dictionary all the parts that correspond to the sums\n",
    "                if total_ket_key not in total_kets:\n",
    "                    total_kets[total_ket_key] = {}\n",
    "                if m1 < 0:\n",
    "                    γ1f = bar_symbol(γ1)\n",
    "                else:\n",
    "                    γ1f = γ1\n",
    "                if m2 < 0:\n",
    "                    γ2f = bar_symbol(γ2)\n",
    "                else:\n",
    "                    γ2f = γ2\n",
    "                if m3 < 0:\n",
    "                    γ3f = bar_symbol(γ3)\n",
    "                else:\n",
    "                    γ3f= γ3\n",
    "                total_ket_part_key = (γ1f, γ2f, γ3f)\n",
    "                if total_ket_part_key not in total_kets[total_ket_key]:\n",
    "                    total_kets[total_ket_key][total_ket_part_key] = 0\n",
    "                total_kets[total_ket_key][total_ket_part_key] += coeff\n",
    "                counter += 1\n",
    "\n",
    "# The resulting qets may have redundant parts in that \n",
    "# a rearrangment of the quantum symbols may be equal\n",
    "# to another part.\n",
    "# This makes it necessary to do some rearrangment\n",
    "# juggling\n",
    "\n",
    "simplified_kets = {}\n",
    "for total_ket_key, ket_parts in total_kets.items():\n",
    "    det_simplified = det_simplify(ket_parts)\n",
    "    if len(det_simplified) != 0:\n",
    "        simplified_kets[total_ket_key] = Qet(dict(det_simplified))\n",
    "        the_normalizer = 1/simplified_kets[total_ket_key].norm()\n",
    "        simplified_kets[total_ket_key] = the_normalizer*simplified_kets[total_ket_key]\n",
    "\n",
    "final_qets = []\n",
    "corresponding_waves = []\n",
    "for total_ket_key_0, simple_ket_0 in simplified_kets.items():\n",
    "    ratios = []\n",
    "    for simple_ket_1 in final_qets:\n",
    "        divvy = qet_divide(simple_ket_0, simple_ket_1)\n",
    "        ratios.append(divvy==0)\n",
    "    ratios = sum(ratios)\n",
    "    if ratios == len(final_qets):\n",
    "        final_qets.append(simple_ket_0)\n",
    "        corresponding_waves.append(total_ket_key_0)\n",
    "final_qets = list(zip(corresponding_waves, final_qets))\n",
    "\n",
    "# in addition to removing the redundant ones\n",
    "# I would also like to keep al the total_ket_keys that correspond to each\n",
    "# group of redundant qets\n",
    "final_qets_groups = {}\n",
    "for main_key, sqet in final_qets:\n",
    "    final_qets_groups[main_key] = {'paths':[],'qet':sqet}\n",
    "    for total_ket_key_0, simple_ket_0 in simplified_kets.items():\n",
    "        if qet_divide(sqet, simple_ket_0) != 0:\n",
    "            final_qets_groups[main_key]['paths'].append(total_ket_key_0)\n",
    "for k,v in final_qets_groups.items():\n",
    "    print(k,'||', len(v['paths']), '||', (v['paths']))\n",
    "    display(as_det_ket(v['qet']))"
   ]
  },
  {
   "cell_type": "code",
   "execution_count": 99,
   "metadata": {},
   "outputs": [
    {
     "data": {
      "text/html": [
       "<pre>✔️ 3.46 ms (2021-12-13T14:43:05/2021-12-13T14:43:05)</pre>"
      ],
      "text/plain": [
       "<IPython.core.display.HTML object>"
      ]
     },
     "metadata": {},
     "output_type": "display_data"
    },
    {
     "data": {
      "text/plain": [
       "60"
      ]
     },
     "execution_count": 99,
     "metadata": {},
     "output_type": "execute_result"
    }
   ],
   "source": [
    "len(final_qets)"
   ]
  },
  {
   "cell_type": "code",
   "execution_count": 91,
   "metadata": {},
   "outputs": [
    {
     "data": {
      "text/html": [
       "<pre>✔️ 1.43 ms (2021-12-13T14:34:12/2021-12-13T14:34:12)</pre>"
      ],
      "text/plain": [
       "<IPython.core.display.HTML object>"
      ]
     },
     "metadata": {},
     "output_type": "display_data"
    }
   ],
   "source": [
    "terms = {}\n",
    "termed_qets = {}\n",
    "for qnums, qet in final_qets:\n",
    "    term = (qnums[0], qnums[2])\n",
    "    if term not in terms:\n",
    "        terms[term] = 0\n",
    "    terms[term] += 1\n",
    "    if term not in termed_qets:\n",
    "        termed_qets[term] = []\n",
    "    termed_qets[term].append([qnums,qet])"
   ]
  },
  {
   "cell_type": "code",
   "execution_count": 97,
   "metadata": {},
   "outputs": [
    {
     "data": {
      "text/html": [
       "<pre>✔️ 8.83 ms (2021-12-13T14:42:50/2021-12-13T14:42:50)</pre>"
      ],
      "text/plain": [
       "<IPython.core.display.HTML object>"
      ]
     },
     "metadata": {},
     "output_type": "display_data"
    }
   ],
   "source": [
    "# for qet in termed_qets[(sp.Symbol('E'),2)]:\n",
    "#     inter_term = '{}^{%d}%s' % (qet[0][-2]*2+1, sp.latex(qet[0][-1]))\n",
    "#     out = '%s \\\\rightarrow %s' % (inter_term, sp.latex(as_det_ket(qet[1])))\n",
    "#     display(Math(out))\n",
    "#     # display()"
   ]
  },
  {
   "cell_type": "code",
   "execution_count": 41,
   "metadata": {},
   "outputs": [
    {
     "data": {
      "text/html": [
       "<pre>✔️ 4.58 ms (2021-12-13T14:05:39/2021-12-13T14:05:39)</pre>"
      ],
      "text/plain": [
       "<IPython.core.display.HTML object>"
      ]
     },
     "metadata": {},
     "output_type": "display_data"
    }
   ],
   "source": [
    "# ratios = sp.Matrix([[qet_divide(q1, s0) for s0 in simplified_kets.values()] for q1 in simplified_kets.values()])\n",
    "# plt.style.use('dark_background')\n",
    "# plt.figure()\n",
    "# plt.imshow(np.array(ratios).astype(np.float64), cmap=cmr.get_sub_cmap('cmr.iceburn',0.,1,N=11))\n",
    "# plt.colorbar()\n",
    "# plt.show()"
   ]
  },
  {
   "cell_type": "markdown",
   "metadata": {},
   "source": [
    "## Cubic Group T2 T2 T2"
   ]
  },
  {
   "cell_type": "code",
   "execution_count": 16,
   "metadata": {},
   "outputs": [
    {
     "data": {
      "text/html": [
       "<pre>✔️ 27 ms (2021-12-13T13:51:05/2021-12-13T13:51:05)</pre>"
      ],
      "text/plain": [
       "<IPython.core.display.HTML object>"
      ]
     },
     "metadata": {},
     "output_type": "display_data"
    }
   ],
   "source": [
    "# final output should be a list whose elements are 2-tuples\n",
    "# with the first element equal to a tuple with the symbols\n",
    "# corresponding to term, M, irrep component and with the \n",
    "# second equal to a Qet whose quantum symbols correspond to\n",
    "# determinantal states"
   ]
  },
  {
   "cell_type": "code",
   "execution_count": 3,
   "metadata": {},
   "outputs": [
    {
     "data": {
      "text/html": [
       "<pre>✔️ 6.58 s (2021-12-13T12:33:47/2021-12-13T12:33:54)</pre>"
      ],
      "text/plain": [
       "<IPython.core.display.HTML object>"
      ]
     },
     "metadata": {},
     "output_type": "display_data"
    }
   ],
   "source": [
    "group_label = 'O'\n",
    "# get the group\n",
    "group = CPGs.get_group_by_label(group_label)\n",
    "# get the CGs\n",
    "group_CGs = group.CG_coefficients\n",
    "# enforce the better notation for components\n",
    "flat_labels = dict(sum([list(l.items()) for l in list(new_labels[group_label].values())],[]))\n",
    "group_CGs = {(flat_labels[k[0]], flat_labels[k[1]], flat_labels[k[2]]):v for k,v in group_CGs.items()}\n",
    "\n",
    "coupler = {}\n",
    "irreps = group.irrep_labels\n",
    "ms = [-sp.S(1)/2,sp.S(1)/2] # for a spin 1/2\n",
    "s_half = sp.S(1)/2\n",
    "\n",
    "component_labels = {k:list(v.values()) for k,v in new_labels[group_label].items()}\n",
    "Γ1, Γ2, Γ3 = sp.Symbol('T_2'), sp.Symbol('T_2'), sp.Symbol('T_2')\n",
    "comps_1, comps_2, comps_3 = [component_labels[ir] for ir in [Γ1, Γ2, Γ3]]\n",
    "s1, s2, s3 = s_half, s_half, s_half\n",
    "\n",
    "Γ12s = group.product_table.odict[(Γ1, Γ2)] # the intermediate irreps belong to the reduction of Γ1 X Γ2\n",
    "S12s = lrange(s1,s2) # this is just [0,1] as for the total angular momentum of the intermediate states\n",
    "total_kets = {}\n",
    "\n",
    "counter = 0\n",
    "for Γ, γ1, γ2, γ3, m1, m2, m3, Γ12, S12 in product(irreps, comps_1, comps_2, comps_3, ms, ms, ms, Γ12s, S12s):\n",
    "    comps = component_labels[Γ]\n",
    "    Ss = lrange(S12, s3)\n",
    "    comps_12 = component_labels[Γ12]\n",
    "    M12s = mrange(S12)\n",
    "    for S in Ss:\n",
    "        Ms = mrange(S)\n",
    "        for γ, M12, M, γ12 in product(comps, M12s, Ms, comps_12):\n",
    "            total_ket_key = (Γ, γ, 2*S+1, M, S12, Γ12)\n",
    "            # summing s1 and s2 to yield S12\n",
    "            sCG1 = clebschG.eva(s1, s2, S12, m1, m2, M12)\n",
    "            # summing S12 and s3 to give the final S, M\n",
    "            sCG2 = clebschG.eva(S12, s3, S, M12, m3, M)\n",
    "            # coupling a γ1, γ2 to get a γ12\n",
    "            gCG1 = group_CGs.setdefault((γ1, γ2, γ12), 0)\n",
    "            # coupling a γ12, γ3 to get a final γ\n",
    "            gCG2 = group_CGs.setdefault((γ12, γ3, γ), 0)\n",
    "            coeff = sCG1 * sCG2 * gCG1 * gCG2\n",
    "            if coeff == 0:\n",
    "                continue\n",
    "            # collect in the dictionary all the parts that correspond to the sums\n",
    "            if total_ket_key not in total_kets:\n",
    "                total_kets[total_ket_key] = {}\n",
    "            if m1 < 0:\n",
    "                γ1f = bar_symbol(γ1)\n",
    "            else:\n",
    "                γ1f = γ1\n",
    "            if m2 < 0:\n",
    "                γ2f = bar_symbol(γ2)\n",
    "            else:\n",
    "                γ2f = γ2\n",
    "            if m3 < 0:\n",
    "                γ3f = bar_symbol(γ3)\n",
    "            else:\n",
    "                γ3f= γ3\n",
    "            total_ket_part_key = (γ1f, γ2f, γ3f)\n",
    "            if total_ket_part_key not in total_kets[total_ket_key]:\n",
    "                total_kets[total_ket_key][total_ket_part_key] = 0\n",
    "            total_kets[total_ket_key][total_ket_part_key] += coeff\n",
    "            counter += 1"
   ]
  },
  {
   "cell_type": "code",
   "execution_count": 6,
   "metadata": {},
   "outputs": [
    {
     "data": {
      "text/html": [
       "<pre>✔️ 68.5 ms (2021-12-13T12:34:22/2021-12-13T12:34:22)</pre>"
      ],
      "text/plain": [
       "<IPython.core.display.HTML object>"
      ]
     },
     "metadata": {},
     "output_type": "display_data"
    }
   ],
   "source": [
    "# The resulting qets may have redundant parts in that \n",
    "# a rearrangment of the quantum symbols may be equal\n",
    "# to another part.\n",
    "# This makes it necessary to do some rearrangment\n",
    "# juggling\n",
    "def det_simplify(ket_parts):\n",
    "    equivalent_parts = {}\n",
    "    standard_order = {} # this holds the standard order to which all the other list members will be referred to\n",
    "    for ket_part_key, ket_part_coeff in ket_parts.items():\n",
    "        set_ket = frozenset(ket_part_key)\n",
    "        if set_ket not in equivalent_parts:\n",
    "            equivalent_parts[set_ket] = []\n",
    "            standard_order[set_ket] = ket_part_key\n",
    "        equivalent_parts[set_ket].append((ket_part_key, ket_part_coeff))\n",
    "    # once I've grouped them together into pices of equivalent parts\n",
    "    # i then need to rearrange and properly sign the rearrangements\n",
    "    det_simple = []\n",
    "    for equivalent_key in equivalent_parts:\n",
    "        base_order = standard_order[equivalent_key]\n",
    "        total_coeff = 0\n",
    "        equiv_parts = equivalent_parts[equivalent_key]\n",
    "        for equiv_part in equiv_parts:\n",
    "            ordering = [base_order.index(part) for part in equiv_part[0]]\n",
    "            sign = εijk(*ordering)\n",
    "            total_coeff += sign*equiv_part[1]\n",
    "        final = (base_order, total_coeff)\n",
    "        if total_coeff != 0:\n",
    "            det_simple.append(final)\n",
    "    return det_simple\n",
    "\n",
    "simplified_kets = {}\n",
    "for total_ket_key, ket_parts in total_kets.items():\n",
    "    det_simplified = det_simplify(ket_parts)\n",
    "    if len(det_simplified) != 0:\n",
    "        simplified_kets[total_ket_key] = Qet(dict(det_simplified))\n",
    "        the_normalizer = 1/simplified_kets[total_ket_key].norm()\n",
    "        simplified_kets[total_ket_key] = the_normalizer*simplified_kets[total_ket_key]"
   ]
  },
  {
   "cell_type": "code",
   "execution_count": 7,
   "metadata": {},
   "outputs": [
    {
     "data": {
      "text/html": [
       "<pre>✔️ 526 µs (2021-12-13T12:34:23/2021-12-13T12:34:23)</pre>"
      ],
      "text/plain": [
       "<IPython.core.display.HTML object>"
      ]
     },
     "metadata": {},
     "output_type": "display_data"
    }
   ],
   "source": [
    "# rows = []\n",
    "# for γ1 in component_labels[sp.Symbol('T_1')]:\n",
    "#     for γ2 in component_labels[sp.Symbol('T_2')]:\n",
    "#         row = [group_CGs[(γ1,γ2,γ3)] for γ3 in component_labels[sp.Symbol('E')]]\n",
    "#         rows.append(row)\n",
    "# rows = sp.Matrix(rows)\n",
    "# rows"
   ]
  },
  {
   "cell_type": "code",
   "execution_count": 8,
   "metadata": {},
   "outputs": [
    {
     "data": {
      "text/html": [
       "<pre>✔️ 454 µs (2021-12-13T12:34:24/2021-12-13T12:34:24)</pre>"
      ],
      "text/plain": [
       "<IPython.core.display.HTML object>"
      ]
     },
     "metadata": {},
     "output_type": "display_data"
    }
   ],
   "source": [
    "# for M0, m3 in product([-1,0,1],[-s_half, s_half]):\n",
    "#     print(M0, m3, clebschG(1, s_half, sp.S(3)/2,\n",
    "#          M0,m3, sp.S(3)/2))"
   ]
  },
  {
   "cell_type": "code",
   "execution_count": 9,
   "metadata": {},
   "outputs": [
    {
     "data": {
      "text/html": [
       "<pre>✔️ 604 µs (2021-12-13T12:34:24/2021-12-13T12:34:24)</pre>"
      ],
      "text/plain": [
       "<IPython.core.display.HTML object>"
      ]
     },
     "metadata": {},
     "output_type": "display_data"
    }
   ],
   "source": [
    "# display all the simplified quets\n",
    "# displayed = []\n",
    "# counter = 0\n",
    "# rhs = []\n",
    "# for total_ket_key, simple_ket in simplified_kets.items():\n",
    "#     print(counter)\n",
    "#     e_config = sp.Symbol(sp.latex(Γ1).lower())*sp.Symbol(sp.latex(Γ2).lower())*sp.Symbol(sp.latex(Γ3).lower())\n",
    "#     final_term_symbol = sp.Symbol('{}^{%d}%s' % (total_ket_key[2],sp.latex(total_ket_key[0])))\n",
    "#     intermediate_term_symbol = sp.Symbol('{}^{%d}%s' % (int(total_ket_key[-2]*2+1),sp.latex(total_ket_key[-1])))\n",
    "#     three_qet_symb = sp.Matrix([e_config, sp.Symbol('(%s)' % sp.latex(intermediate_term_symbol)),final_term_symbol, total_ket_key[3], total_ket_key[1]]).T\n",
    "#     # three_qet_symb = sp.Symbol(three_qet_symb)\n",
    "#     # display(sp.Matrix(total_ket_key).T)\n",
    "#     lhs = sp.latex(three_qet_symb)\n",
    "#     if lhs in displayed:\n",
    "#         print(\"*\")\n",
    "#     rhs.append(sp.latex(as_det_ket(simple_ket)))\n",
    "#     total = '%s = %s' % (lhs, sp.latex(as_det_ket(simple_ket)))\n",
    "#     # display(simple_ket.as_ket())\n",
    "#     displayed.append(lhs)\n",
    "#     display(Math(total))\n",
    "#     counter += 1"
   ]
  },
  {
   "cell_type": "code",
   "execution_count": 10,
   "metadata": {},
   "outputs": [
    {
     "data": {
      "text/html": [
       "<pre>✔️ 803 ms (2021-12-13T12:34:25/2021-12-13T12:34:26)</pre>"
      ],
      "text/plain": [
       "<IPython.core.display.HTML object>"
      ]
     },
     "metadata": {},
     "output_type": "display_data"
    },
    {
     "data": {
      "image/png": "[encoded data removed]",
      "text/plain": [
       "<Figure size 640x480 with 2 Axes>"
      ]
     },
     "metadata": {
      "image/png": {
       "height": 418,
       "width": 492
      }
     },
     "output_type": "display_data"
    }
   ],
   "source": [
    "# There are redundant qets in that they only differ by a common phase.\n",
    "rows = []\n",
    "for total_ket_key_0, simple_ket_0 in simplified_kets.items():\n",
    "    row = []\n",
    "    for total_ket_key_1, simple_ket_1 in simplified_kets.items():\n",
    "        the_sum = det_simplify((simple_ket_0 + simple_ket_1).dict)\n",
    "        the_diff = det_simplify((simple_ket_0 - simple_ket_1).dict)\n",
    "        if len(the_sum) == 0 or len(the_diff) == 0:\n",
    "            row.append(1)\n",
    "        else:\n",
    "            row.append(0)\n",
    "    rows.append(row)\n",
    "plt.figure()\n",
    "plt.imshow(np.array(rows))\n",
    "plt.colorbar()\n",
    "plt.show()"
   ]
  },
  {
   "cell_type": "code",
   "execution_count": 11,
   "metadata": {},
   "outputs": [
    {
     "data": {
      "text/html": [
       "<pre>✔️ 699 µs (2021-12-13T12:34:28/2021-12-13T12:34:28)</pre>"
      ],
      "text/plain": [
       "<IPython.core.display.HTML object>"
      ]
     },
     "metadata": {},
     "output_type": "display_data"
    }
   ],
   "source": [
    "# This is alternative to qet division for figuring out\n",
    "# which are proportional to each other\n",
    "# supreme_qets = []\n",
    "# corresponding_waves = []\n",
    "# for total_ket_key_0, simple_ket_0 in simplified_kets.items():\n",
    "#     plus_diffs = sum([len(det_simplify((simple_ket_0 + simple_ket_1).dict)) == 0 for simple_ket_1 in supreme_qets])\n",
    "#     minus_diffs = sum([len(det_simplify((simple_ket_0 - simple_ket_1).dict)) == 0 for simple_ket_1 in supreme_qets])\n",
    "#     if plus_diffs == 0 and minus_diffs == 0:\n",
    "#         supreme_qets.append(simple_ket_0)\n",
    "#         corresponding_waves.append(total_ket_key_0)"
   ]
  },
  {
   "cell_type": "code",
   "execution_count": 26,
   "metadata": {},
   "outputs": [
    {
     "data": {
      "text/html": [
       "<pre>✔️ 22.3 ms (2021-12-13T13:55:12/2021-12-13T13:55:12)</pre>"
      ],
      "text/plain": [
       "<IPython.core.display.HTML object>"
      ]
     },
     "metadata": {},
     "output_type": "display_data"
    }
   ],
   "source": [
    "def qet_divide(qet0, qet1):\n",
    "    '''\n",
    "    Given   two   qets,   assumed   to   be   superpositions  of\n",
    "    determinantal states. Determine if they are collinear and if\n",
    "    they are, provide their ratio.\n",
    "\n",
    "    Parameters\n",
    "    ----------\n",
    "    qet0    (qdef.Qet) : a qet with determinantal keys.\n",
    "    qet1    (qdef.Qet) : a qet with determinantal keys.\n",
    "\n",
    "    Returns\n",
    "    -------\n",
    "    ratio (num): 0 if qets are not collinear, otherwise equal to\n",
    "    qet0/qet1.\n",
    "\n",
    "\n",
    "    '''\n",
    "    if len(qet0.dict) != len(qet1.dict):\n",
    "        return 0\n",
    "    set0 = frozenset(map(frozenset,qet0.dict.keys()))\n",
    "    set1 = frozenset(map(frozenset,qet1.dict.keys()))\n",
    "    num_parts = len(qet0.dict)\n",
    "    # a necessary condition for them to be possibly collinear\n",
    "    # is that they should have have the same sets of quantum\n",
    "    # numbers.\n",
    "    if set0 != set1:\n",
    "        return 0\n",
    "    else:\n",
    "        ratios = []\n",
    "        # iterate over the quantum nums of the first qet\n",
    "        for qet_key_0, qet_val_0 in qet0.dict.items():\n",
    "            set0 = set(qet_key_0)\n",
    "            # and determine the ratio that it has\n",
    "            # to all of the parts of the other qet\n",
    "            # allowing for reaarangmenets valid\n",
    "            # under determinantal state rules\n",
    "            for qet_key_1, qet_val_1 in qet1.dict.items():\n",
    "                set1 = set(qet_key_1)\n",
    "                if set0 == set1:\n",
    "                    ordering = [qet_key_0.index(qk) for qk in qet_key_1]\n",
    "                    sign = εijk(*ordering)\n",
    "                    ratios.append(sign * qet_val_0/qet_val_1)\n",
    "                    continue\n",
    "    if ratios == []:\n",
    "        return 0\n",
    "    else:\n",
    "        # if all of the ratios are equal\n",
    "        # then the ratio of the two qets\n",
    "        # is well defined\n",
    "        if len(set(ratios)) == 1 and len(ratios) == num_parts:\n",
    "            return ratios[0]\n",
    "        else:\n",
    "            return 0\n",
    "\n",
    "final_qets = []\n",
    "corresponding_waves = []\n",
    "for total_ket_key_0, simple_ket_0 in simplified_kets.items():\n",
    "    ratios = []\n",
    "    for simple_ket_1 in final_qets:\n",
    "        divvy = qet_divide(simple_ket_0, simple_ket_1)\n",
    "        ratios.append(divvy==0)\n",
    "    ratios = sum(ratios)\n",
    "    if ratios == len(final_qets):\n",
    "        final_qets.append(simple_ket_0)\n",
    "        corresponding_waves.append(total_ket_key_0)\n",
    "final_qets = list(zip(corresponding_waves, final_qets))"
   ]
  },
  {
   "cell_type": "code",
   "execution_count": 27,
   "metadata": {},
   "outputs": [
    {
     "data": {
      "text/html": [
       "<pre>✔️ 860 µs (2021-12-13T13:55:15/2021-12-13T13:55:15)</pre>"
      ],
      "text/plain": [
       "<IPython.core.display.HTML object>"
      ]
     },
     "metadata": {},
     "output_type": "display_data"
    }
   ],
   "source": [
    "import cmasher as cmr"
   ]
  },
  {
   "cell_type": "code",
   "execution_count": 28,
   "metadata": {},
   "outputs": [
    {
     "data": {
      "text/html": [
       "<pre>✔️ 291 ms (2021-12-13T13:55:15/2021-12-13T13:55:15)</pre>"
      ],
      "text/plain": [
       "<IPython.core.display.HTML object>"
      ]
     },
     "metadata": {},
     "output_type": "display_data"
    },
    {
     "data": {
      "image/png": "[encoded data removed]",
      "text/plain": [
       "<Figure size 640x480 with 2 Axes>"
      ]
     },
     "metadata": {
      "image/png": {
       "height": 418,
       "width": 512
      }
     },
     "output_type": "display_data"
    }
   ],
   "source": [
    "ratios = sp.Matrix([[qet_divide(q1, s0) for s0 in simplified_kets.values()] for q1 in simplified_kets.values()])\n",
    "plt.style.use('dark_background')\n",
    "plt.figure()\n",
    "plt.imshow(np.array(ratios).astype(np.float64), cmap=cmr.get_sub_cmap('cmr.iceburn',0.,1,N=11))\n",
    "plt.colorbar()\n",
    "plt.show()"
   ]
  },
  {
   "cell_type": "code",
   "execution_count": 29,
   "metadata": {},
   "outputs": [
    {
     "data": {
      "text/html": [
       "<pre>✔️ 88.8 ms (2021-12-13T13:55:31/2021-12-13T13:55:31)</pre>"
      ],
      "text/plain": [
       "<IPython.core.display.HTML object>"
      ]
     },
     "metadata": {},
     "output_type": "display_data"
    },
    {
     "name": "stdout",
     "output_type": "stream",
     "text": [
      "(A_2, {\\beta}, 4, -3/2, 1, T_1) || 1 || [(A_2, {\\beta}, 4, -3/2, 1, T_1)]\n"
     ]
    },
    {
     "data": {
      "text/latex": [
       "$\\displaystyle - |\\bar{{\\xi}} \\bar{{\\phi}} \\bar{{\\chi}}|$"
      ],
      "text/plain": [
       "-|\\bar{{\\xi}} \\bar{{\\phi}} \\bar{{\\chi}}|"
      ]
     },
     "metadata": {},
     "output_type": "display_data"
    },
    {
     "name": "stdout",
     "output_type": "stream",
     "text": [
      "(A_2, {\\beta}, 4, -1/2, 1, T_1) || 1 || [(A_2, {\\beta}, 4, -1/2, 1, T_1)]\n"
     ]
    },
    {
     "data": {
      "text/latex": [
       "$\\displaystyle - \\frac{\\sqrt{3} |\\bar{{\\xi}} \\bar{{\\phi}} {\\chi}|}{3} - \\frac{\\sqrt{3} |\\bar{{\\xi}} {\\phi} \\bar{{\\chi}}|}{3} - \\frac{\\sqrt{3} |{\\xi} \\bar{{\\phi}} \\bar{{\\chi}}|}{3}$"
      ],
      "text/plain": [
       "-sqrt(3)*|\\bar{{\\xi}} \\bar{{\\phi}} {\\chi}|/3 - sqrt(3)*|\\bar{{\\xi}} {\\phi} \\bar{{\\chi}}|/3 - sqrt(3)*|{\\xi} \\bar{{\\phi}} \\bar{{\\chi}}|/3"
      ]
     },
     "metadata": {},
     "output_type": "display_data"
    },
    {
     "name": "stdout",
     "output_type": "stream",
     "text": [
      "(A_2, {\\beta}, 4, 1/2, 1, T_1) || 1 || [(A_2, {\\beta}, 4, 1/2, 1, T_1)]\n"
     ]
    },
    {
     "data": {
      "text/latex": [
       "$\\displaystyle - \\frac{\\sqrt{3} |\\bar{{\\xi}} {\\phi} {\\chi}|}{3} - \\frac{\\sqrt{3} |{\\xi} \\bar{{\\phi}} {\\chi}|}{3} - \\frac{\\sqrt{3} |{\\xi} {\\phi} \\bar{{\\chi}}|}{3}$"
      ],
      "text/plain": [
       "-sqrt(3)*|\\bar{{\\xi}} {\\phi} {\\chi}|/3 - sqrt(3)*|{\\xi} \\bar{{\\phi}} {\\chi}|/3 - sqrt(3)*|{\\xi} {\\phi} \\bar{{\\chi}}|/3"
      ]
     },
     "metadata": {},
     "output_type": "display_data"
    },
    {
     "name": "stdout",
     "output_type": "stream",
     "text": [
      "(A_2, {\\beta}, 4, 3/2, 1, T_1) || 1 || [(A_2, {\\beta}, 4, 3/2, 1, T_1)]\n"
     ]
    },
    {
     "data": {
      "text/latex": [
       "$\\displaystyle - |{\\xi} {\\phi} {\\chi}|$"
      ],
      "text/plain": [
       "-|{\\xi} {\\phi} {\\chi}|"
      ]
     },
     "metadata": {},
     "output_type": "display_data"
    },
    {
     "name": "stdout",
     "output_type": "stream",
     "text": [
      "(E, {\\gamma}, 2, -1/2, 1, T_1) || 2 || [(E, {\\gamma}, 2, -1/2, 1, T_1), (E, {\\gamma}, 2, -1/2, 0, T_2)]\n"
     ]
    },
    {
     "data": {
      "text/latex": [
       "$\\displaystyle - \\frac{\\sqrt{2} |\\bar{{\\xi}} \\bar{{\\phi}} {\\chi}|}{2} + \\frac{\\sqrt{2} |\\bar{{\\xi}} {\\phi} \\bar{{\\chi}}|}{2}$"
      ],
      "text/plain": [
       "-sqrt(2)*|\\bar{{\\xi}} \\bar{{\\phi}} {\\chi}|/2 + sqrt(2)*|\\bar{{\\xi}} {\\phi} \\bar{{\\chi}}|/2"
      ]
     },
     "metadata": {},
     "output_type": "display_data"
    },
    {
     "name": "stdout",
     "output_type": "stream",
     "text": [
      "(E, {\\zeta}, 2, -1/2, 1, T_1) || 2 || [(E, {\\zeta}, 2, -1/2, 1, T_1), (E, {\\zeta}, 2, -1/2, 0, T_2)]\n"
     ]
    },
    {
     "data": {
      "text/latex": [
       "$\\displaystyle \\frac{\\sqrt{6} |\\bar{{\\xi}} \\bar{{\\phi}} {\\chi}|}{6} + \\frac{\\sqrt{6} |\\bar{{\\xi}} {\\phi} \\bar{{\\chi}}|}{6} - \\frac{\\sqrt{6} |{\\xi} \\bar{{\\phi}} \\bar{{\\chi}}|}{3}$"
      ],
      "text/plain": [
       "sqrt(6)*|\\bar{{\\xi}} \\bar{{\\phi}} {\\chi}|/6 + sqrt(6)*|\\bar{{\\xi}} {\\phi} \\bar{{\\chi}}|/6 - sqrt(6)*|{\\xi} \\bar{{\\phi}} \\bar{{\\chi}}|/3"
      ]
     },
     "metadata": {},
     "output_type": "display_data"
    },
    {
     "name": "stdout",
     "output_type": "stream",
     "text": [
      "(E, {\\gamma}, 2, 1/2, 1, T_1) || 2 || [(E, {\\gamma}, 2, 1/2, 1, T_1), (E, {\\gamma}, 2, 1/2, 0, T_2)]\n"
     ]
    },
    {
     "data": {
      "text/latex": [
       "$\\displaystyle - \\frac{\\sqrt{2} |{\\xi} \\bar{{\\phi}} {\\chi}|}{2} + \\frac{\\sqrt{2} |{\\xi} {\\phi} \\bar{{\\chi}}|}{2}$"
      ],
      "text/plain": [
       "-sqrt(2)*|{\\xi} \\bar{{\\phi}} {\\chi}|/2 + sqrt(2)*|{\\xi} {\\phi} \\bar{{\\chi}}|/2"
      ]
     },
     "metadata": {},
     "output_type": "display_data"
    },
    {
     "name": "stdout",
     "output_type": "stream",
     "text": [
      "(E, {\\zeta}, 2, 1/2, 1, T_1) || 2 || [(E, {\\zeta}, 2, 1/2, 1, T_1), (E, {\\zeta}, 2, 1/2, 0, T_2)]\n"
     ]
    },
    {
     "data": {
      "text/latex": [
       "$\\displaystyle \\frac{\\sqrt{6} |\\bar{{\\xi}} {\\phi} {\\chi}|}{3} - \\frac{\\sqrt{6} |{\\xi} \\bar{{\\phi}} {\\chi}|}{6} - \\frac{\\sqrt{6} |{\\xi} {\\phi} \\bar{{\\chi}}|}{6}$"
      ],
      "text/plain": [
       "sqrt(6)*|\\bar{{\\xi}} {\\phi} {\\chi}|/3 - sqrt(6)*|{\\xi} \\bar{{\\phi}} {\\chi}|/6 - sqrt(6)*|{\\xi} {\\phi} \\bar{{\\chi}}|/6"
      ]
     },
     "metadata": {},
     "output_type": "display_data"
    },
    {
     "name": "stdout",
     "output_type": "stream",
     "text": [
      "(T_1, {\\nu}, 2, -1/2, 0, E) || 3 || [(T_1, {\\nu}, 2, -1/2, 0, E), (T_1, {\\nu}, 2, -1/2, 1, T_1), (T_1, {\\nu}, 2, -1/2, 0, T_2)]\n"
     ]
    },
    {
     "data": {
      "text/latex": [
       "$\\displaystyle - \\frac{\\sqrt{2} |\\bar{{\\chi}} {\\chi} \\bar{{\\phi}}|}{2} + \\frac{\\sqrt{2} |\\bar{{\\xi}} {\\xi} \\bar{{\\phi}}|}{2}$"
      ],
      "text/plain": [
       "-sqrt(2)*|\\bar{{\\chi}} {\\chi} \\bar{{\\phi}}|/2 + sqrt(2)*|\\bar{{\\xi}} {\\xi} \\bar{{\\phi}}|/2"
      ]
     },
     "metadata": {},
     "output_type": "display_data"
    },
    {
     "name": "stdout",
     "output_type": "stream",
     "text": [
      "(T_1, {\\nu}, 2, 1/2, 0, E) || 3 || [(T_1, {\\nu}, 2, 1/2, 0, E), (T_1, {\\nu}, 2, 1/2, 1, T_1), (T_1, {\\nu}, 2, 1/2, 0, T_2)]\n"
     ]
    },
    {
     "data": {
      "text/latex": [
       "$\\displaystyle - \\frac{\\sqrt{2} |\\bar{{\\chi}} {\\chi} {\\phi}|}{2} + \\frac{\\sqrt{2} |\\bar{{\\xi}} {\\xi} {\\phi}|}{2}$"
      ],
      "text/plain": [
       "-sqrt(2)*|\\bar{{\\chi}} {\\chi} {\\phi}|/2 + sqrt(2)*|\\bar{{\\xi}} {\\xi} {\\phi}|/2"
      ]
     },
     "metadata": {},
     "output_type": "display_data"
    },
    {
     "name": "stdout",
     "output_type": "stream",
     "text": [
      "(T_1, {\\eta}, 2, -1/2, 0, E) || 3 || [(T_1, {\\eta}, 2, -1/2, 0, E), (T_1, {\\eta}, 2, -1/2, 1, T_1), (T_1, {\\eta}, 2, -1/2, 0, T_2)]\n"
     ]
    },
    {
     "data": {
      "text/latex": [
       "$\\displaystyle \\frac{\\sqrt{2} |\\bar{{\\phi}} {\\phi} \\bar{{\\chi}}|}{2} - \\frac{\\sqrt{2} |\\bar{{\\xi}} {\\xi} \\bar{{\\chi}}|}{2}$"
      ],
      "text/plain": [
       "sqrt(2)*|\\bar{{\\phi}} {\\phi} \\bar{{\\chi}}|/2 - sqrt(2)*|\\bar{{\\xi}} {\\xi} \\bar{{\\chi}}|/2"
      ]
     },
     "metadata": {},
     "output_type": "display_data"
    },
    {
     "name": "stdout",
     "output_type": "stream",
     "text": [
      "(T_1, {\\eta}, 2, 1/2, 0, E) || 3 || [(T_1, {\\eta}, 2, 1/2, 0, E), (T_1, {\\eta}, 2, 1/2, 1, T_1), (T_1, {\\eta}, 2, 1/2, 0, T_2)]\n"
     ]
    },
    {
     "data": {
      "text/latex": [
       "$\\displaystyle \\frac{\\sqrt{2} |\\bar{{\\phi}} {\\phi} {\\chi}|}{2} - \\frac{\\sqrt{2} |\\bar{{\\xi}} {\\xi} {\\chi}|}{2}$"
      ],
      "text/plain": [
       "sqrt(2)*|\\bar{{\\phi}} {\\phi} {\\chi}|/2 - sqrt(2)*|\\bar{{\\xi}} {\\xi} {\\chi}|/2"
      ]
     },
     "metadata": {},
     "output_type": "display_data"
    },
    {
     "name": "stdout",
     "output_type": "stream",
     "text": [
      "(T_1, {\\mu}, 2, -1/2, 1, T_1) || 3 || [(T_1, {\\mu}, 2, -1/2, 1, T_1), (T_1, {\\mu}, 2, -1/2, 0, T_2), (T_1, {\\mu}, 2, -1/2, 0, E)]\n"
     ]
    },
    {
     "data": {
      "text/latex": [
       "$\\displaystyle - \\frac{\\sqrt{2} |\\bar{{\\xi}} \\bar{{\\chi}} {\\chi}|}{2} + \\frac{\\sqrt{2} |\\bar{{\\xi}} \\bar{{\\phi}} {\\phi}|}{2}$"
      ],
      "text/plain": [
       "-sqrt(2)*|\\bar{{\\xi}} \\bar{{\\chi}} {\\chi}|/2 + sqrt(2)*|\\bar{{\\xi}} \\bar{{\\phi}} {\\phi}|/2"
      ]
     },
     "metadata": {},
     "output_type": "display_data"
    },
    {
     "name": "stdout",
     "output_type": "stream",
     "text": [
      "(T_1, {\\mu}, 2, 1/2, 1, T_1) || 3 || [(T_1, {\\mu}, 2, 1/2, 1, T_1), (T_1, {\\mu}, 2, 1/2, 0, T_2), (T_1, {\\mu}, 2, 1/2, 0, E)]\n"
     ]
    },
    {
     "data": {
      "text/latex": [
       "$\\displaystyle - \\frac{\\sqrt{2} |{\\xi} \\bar{{\\chi}} {\\chi}|}{2} + \\frac{\\sqrt{2} |{\\xi} \\bar{{\\phi}} {\\phi}|}{2}$"
      ],
      "text/plain": [
       "-sqrt(2)*|{\\xi} \\bar{{\\chi}} {\\chi}|/2 + sqrt(2)*|{\\xi} \\bar{{\\phi}} {\\phi}|/2"
      ]
     },
     "metadata": {},
     "output_type": "display_data"
    },
    {
     "name": "stdout",
     "output_type": "stream",
     "text": [
      "(T_2, {\\xi}, 2, -1/2, 0, A_1) || 4 || [(T_2, {\\xi}, 2, -1/2, 0, A_1), (T_2, {\\xi}, 2, -1/2, 0, E), (T_2, {\\xi}, 2, -1/2, 1, T_1), (T_2, {\\xi}, 2, -1/2, 0, T_2)]\n"
     ]
    },
    {
     "data": {
      "text/latex": [
       "$\\displaystyle - \\frac{\\sqrt{2} |\\bar{{\\chi}} {\\chi} \\bar{{\\xi}}|}{2} - \\frac{\\sqrt{2} |\\bar{{\\phi}} {\\phi} \\bar{{\\xi}}|}{2}$"
      ],
      "text/plain": [
       "-sqrt(2)*|\\bar{{\\chi}} {\\chi} \\bar{{\\xi}}|/2 - sqrt(2)*|\\bar{{\\phi}} {\\phi} \\bar{{\\xi}}|/2"
      ]
     },
     "metadata": {},
     "output_type": "display_data"
    },
    {
     "name": "stdout",
     "output_type": "stream",
     "text": [
      "(T_2, {\\xi}, 2, 1/2, 0, A_1) || 4 || [(T_2, {\\xi}, 2, 1/2, 0, A_1), (T_2, {\\xi}, 2, 1/2, 0, E), (T_2, {\\xi}, 2, 1/2, 1, T_1), (T_2, {\\xi}, 2, 1/2, 0, T_2)]\n"
     ]
    },
    {
     "data": {
      "text/latex": [
       "$\\displaystyle - \\frac{\\sqrt{2} |\\bar{{\\chi}} {\\chi} {\\xi}|}{2} - \\frac{\\sqrt{2} |\\bar{{\\phi}} {\\phi} {\\xi}|}{2}$"
      ],
      "text/plain": [
       "-sqrt(2)*|\\bar{{\\chi}} {\\chi} {\\xi}|/2 - sqrt(2)*|\\bar{{\\phi}} {\\phi} {\\xi}|/2"
      ]
     },
     "metadata": {},
     "output_type": "display_data"
    },
    {
     "name": "stdout",
     "output_type": "stream",
     "text": [
      "(T_2, {\\phi}, 2, -1/2, 0, A_1) || 4 || [(T_2, {\\phi}, 2, -1/2, 0, A_1), (T_2, {\\phi}, 2, -1/2, 0, E), (T_2, {\\phi}, 2, -1/2, 1, T_1), (T_2, {\\phi}, 2, -1/2, 0, T_2)]\n"
     ]
    },
    {
     "data": {
      "text/latex": [
       "$\\displaystyle - \\frac{\\sqrt{2} |\\bar{{\\chi}} {\\chi} \\bar{{\\phi}}|}{2} - \\frac{\\sqrt{2} |\\bar{{\\xi}} {\\xi} \\bar{{\\phi}}|}{2}$"
      ],
      "text/plain": [
       "-sqrt(2)*|\\bar{{\\chi}} {\\chi} \\bar{{\\phi}}|/2 - sqrt(2)*|\\bar{{\\xi}} {\\xi} \\bar{{\\phi}}|/2"
      ]
     },
     "metadata": {},
     "output_type": "display_data"
    },
    {
     "name": "stdout",
     "output_type": "stream",
     "text": [
      "(T_2, {\\phi}, 2, 1/2, 0, A_1) || 4 || [(T_2, {\\phi}, 2, 1/2, 0, A_1), (T_2, {\\phi}, 2, 1/2, 0, E), (T_2, {\\phi}, 2, 1/2, 1, T_1), (T_2, {\\phi}, 2, 1/2, 0, T_2)]\n"
     ]
    },
    {
     "data": {
      "text/latex": [
       "$\\displaystyle - \\frac{\\sqrt{2} |\\bar{{\\chi}} {\\chi} {\\phi}|}{2} - \\frac{\\sqrt{2} |\\bar{{\\xi}} {\\xi} {\\phi}|}{2}$"
      ],
      "text/plain": [
       "-sqrt(2)*|\\bar{{\\chi}} {\\chi} {\\phi}|/2 - sqrt(2)*|\\bar{{\\xi}} {\\xi} {\\phi}|/2"
      ]
     },
     "metadata": {},
     "output_type": "display_data"
    },
    {
     "name": "stdout",
     "output_type": "stream",
     "text": [
      "(T_2, {\\chi}, 2, -1/2, 0, A_1) || 4 || [(T_2, {\\chi}, 2, -1/2, 0, A_1), (T_2, {\\chi}, 2, -1/2, 0, E), (T_2, {\\chi}, 2, -1/2, 1, T_1), (T_2, {\\chi}, 2, -1/2, 0, T_2)]\n"
     ]
    },
    {
     "data": {
      "text/latex": [
       "$\\displaystyle - \\frac{\\sqrt{2} |\\bar{{\\phi}} {\\phi} \\bar{{\\chi}}|}{2} - \\frac{\\sqrt{2} |\\bar{{\\xi}} {\\xi} \\bar{{\\chi}}|}{2}$"
      ],
      "text/plain": [
       "-sqrt(2)*|\\bar{{\\phi}} {\\phi} \\bar{{\\chi}}|/2 - sqrt(2)*|\\bar{{\\xi}} {\\xi} \\bar{{\\chi}}|/2"
      ]
     },
     "metadata": {},
     "output_type": "display_data"
    },
    {
     "name": "stdout",
     "output_type": "stream",
     "text": [
      "(T_2, {\\chi}, 2, 1/2, 0, A_1) || 4 || [(T_2, {\\chi}, 2, 1/2, 0, A_1), (T_2, {\\chi}, 2, 1/2, 0, E), (T_2, {\\chi}, 2, 1/2, 1, T_1), (T_2, {\\chi}, 2, 1/2, 0, T_2)]\n"
     ]
    },
    {
     "data": {
      "text/latex": [
       "$\\displaystyle - \\frac{\\sqrt{2} |\\bar{{\\phi}} {\\phi} {\\chi}|}{2} - \\frac{\\sqrt{2} |\\bar{{\\xi}} {\\xi} {\\chi}|}{2}$"
      ],
      "text/plain": [
       "-sqrt(2)*|\\bar{{\\phi}} {\\phi} {\\chi}|/2 - sqrt(2)*|\\bar{{\\xi}} {\\xi} {\\chi}|/2"
      ]
     },
     "metadata": {},
     "output_type": "display_data"
    }
   ],
   "source": [
    "# in addition to removing the redundant ones\n",
    "# I would also like to keep al the total_ket_keys that correspond to each\n",
    "# group of redundant qets\n",
    "final_qets_groups = {}\n",
    "for main_key, sqet in final_qets:\n",
    "    final_qets_groups[main_key] = {'paths':[],'qet':sqet}\n",
    "    for total_ket_key_0, simple_ket_0 in simplified_kets.items():\n",
    "        if qet_divide(sqet, simple_ket_0) != 0:\n",
    "            final_qets_groups[main_key]['paths'].append(total_ket_key_0)\n",
    "for k,v in final_qets_groups.items():\n",
    "    print(k,'||', len(v['paths']), '||', (v['paths']))\n",
    "    display(as_det_ket(v['qet']))"
   ]
  },
  {
   "cell_type": "code",
   "execution_count": 55,
   "metadata": {},
   "outputs": [
    {
     "data": {
      "text/html": [
       "<pre>✔️ 4.59 ms (2021-12-13T09:43:08/2021-12-13T09:43:09)</pre>"
      ],
      "text/plain": [
       "<IPython.core.display.HTML object>"
      ]
     },
     "metadata": {},
     "output_type": "display_data"
    },
    {
     "data": {
      "text/latex": [
       "$\\displaystyle - \\frac{\\sqrt{2} |\\bar{{\\phi}} {\\phi} {\\chi}|}{2} - \\frac{\\sqrt{2} |\\bar{{\\xi}} {\\xi} {\\chi}|}{2}$"
      ],
      "text/plain": [
       "<IPython.core.display.Math object>"
      ]
     },
     "metadata": {},
     "output_type": "display_data"
    }
   ],
   "source": [
    "display(Math('$%s$' % sp.latex(as_det_ket(sq))))"
   ]
  },
  {
   "cell_type": "code",
   "execution_count": 47,
   "metadata": {},
   "outputs": [
    {
     "data": {
      "text/html": [
       "<pre>✔️ 67 ms (2021-12-13T09:39:59/2021-12-13T09:39:59)</pre>"
      ],
      "text/plain": [
       "<IPython.core.display.HTML object>"
      ]
     },
     "metadata": {},
     "output_type": "display_data"
    },
    {
     "data": {
      "text/latex": [
       "$\\displaystyle \\left[\\begin{matrix}t_{2}^{3} & ({}^{3}T_{1}) & {}^{4}A_{2} & - \\frac{3}{2} & {\\beta}\\end{matrix}\\right]$"
      ],
      "text/plain": [
       "Matrix([[t_{2}**3, ({}^{3}T_{1}), {}^{4}A_{2}, -3/2, {\\beta}]])"
      ]
     },
     "metadata": {},
     "output_type": "display_data"
    },
    {
     "data": {
      "text/latex": [
       "$\\displaystyle - |\\bar{{\\xi}} \\bar{{\\phi}} \\bar{{\\chi}}|$"
      ],
      "text/plain": [
       "-|\\bar{{\\xi}} \\bar{{\\phi}} \\bar{{\\chi}}|"
      ]
     },
     "metadata": {},
     "output_type": "display_data"
    },
    {
     "data": {
      "text/latex": [
       "$\\displaystyle \\left[\\begin{matrix}t_{2}^{3} & ({}^{3}T_{1}) & {}^{4}A_{2} & - \\frac{1}{2} & {\\beta}\\end{matrix}\\right]$"
      ],
      "text/plain": [
       "Matrix([[t_{2}**3, ({}^{3}T_{1}), {}^{4}A_{2}, -1/2, {\\beta}]])"
      ]
     },
     "metadata": {},
     "output_type": "display_data"
    },
    {
     "data": {
      "text/latex": [
       "$\\displaystyle - \\frac{\\sqrt{3} |\\bar{{\\xi}} \\bar{{\\phi}} {\\chi}|}{3} - \\frac{\\sqrt{3} |\\bar{{\\xi}} {\\phi} \\bar{{\\chi}}|}{3} - \\frac{\\sqrt{3} |{\\xi} \\bar{{\\phi}} \\bar{{\\chi}}|}{3}$"
      ],
      "text/plain": [
       "-sqrt(3)*|\\bar{{\\xi}} \\bar{{\\phi}} {\\chi}|/3 - sqrt(3)*|\\bar{{\\xi}} {\\phi} \\bar{{\\chi}}|/3 - sqrt(3)*|{\\xi} \\bar{{\\phi}} \\bar{{\\chi}}|/3"
      ]
     },
     "metadata": {},
     "output_type": "display_data"
    },
    {
     "data": {
      "text/latex": [
       "$\\displaystyle \\left[\\begin{matrix}t_{2}^{3} & ({}^{3}T_{1}) & {}^{4}A_{2} & \\frac{1}{2} & {\\beta}\\end{matrix}\\right]$"
      ],
      "text/plain": [
       "Matrix([[t_{2}**3, ({}^{3}T_{1}), {}^{4}A_{2}, 1/2, {\\beta}]])"
      ]
     },
     "metadata": {},
     "output_type": "display_data"
    },
    {
     "data": {
      "text/latex": [
       "$\\displaystyle - \\frac{\\sqrt{3} |\\bar{{\\xi}} {\\phi} {\\chi}|}{3} - \\frac{\\sqrt{3} |{\\xi} \\bar{{\\phi}} {\\chi}|}{3} - \\frac{\\sqrt{3} |{\\xi} {\\phi} \\bar{{\\chi}}|}{3}$"
      ],
      "text/plain": [
       "-sqrt(3)*|\\bar{{\\xi}} {\\phi} {\\chi}|/3 - sqrt(3)*|{\\xi} \\bar{{\\phi}} {\\chi}|/3 - sqrt(3)*|{\\xi} {\\phi} \\bar{{\\chi}}|/3"
      ]
     },
     "metadata": {},
     "output_type": "display_data"
    },
    {
     "data": {
      "text/latex": [
       "$\\displaystyle \\left[\\begin{matrix}t_{2}^{3} & ({}^{3}T_{1}) & {}^{4}A_{2} & \\frac{3}{2} & {\\beta}\\end{matrix}\\right]$"
      ],
      "text/plain": [
       "Matrix([[t_{2}**3, ({}^{3}T_{1}), {}^{4}A_{2}, 3/2, {\\beta}]])"
      ]
     },
     "metadata": {},
     "output_type": "display_data"
    },
    {
     "data": {
      "text/latex": [
       "$\\displaystyle - |{\\xi} {\\phi} {\\chi}|$"
      ],
      "text/plain": [
       "-|{\\xi} {\\phi} {\\chi}|"
      ]
     },
     "metadata": {},
     "output_type": "display_data"
    },
    {
     "data": {
      "text/latex": [
       "$\\displaystyle \\left[\\begin{matrix}t_{2}^{3} & ({}^{3}T_{1}) & {}^{2}E & - \\frac{1}{2} & {\\gamma}\\end{matrix}\\right]$"
      ],
      "text/plain": [
       "Matrix([[t_{2}**3, ({}^{3}T_{1}), {}^{2}E, -1/2, {\\gamma}]])"
      ]
     },
     "metadata": {},
     "output_type": "display_data"
    },
    {
     "data": {
      "text/latex": [
       "$\\displaystyle - \\frac{\\sqrt{2} |\\bar{{\\xi}} \\bar{{\\phi}} {\\chi}|}{2} + \\frac{\\sqrt{2} |\\bar{{\\xi}} {\\phi} \\bar{{\\chi}}|}{2}$"
      ],
      "text/plain": [
       "-sqrt(2)*|\\bar{{\\xi}} \\bar{{\\phi}} {\\chi}|/2 + sqrt(2)*|\\bar{{\\xi}} {\\phi} \\bar{{\\chi}}|/2"
      ]
     },
     "metadata": {},
     "output_type": "display_data"
    },
    {
     "data": {
      "text/latex": [
       "$\\displaystyle \\left[\\begin{matrix}t_{2}^{3} & ({}^{3}T_{1}) & {}^{2}E & - \\frac{1}{2} & {\\zeta}\\end{matrix}\\right]$"
      ],
      "text/plain": [
       "Matrix([[t_{2}**3, ({}^{3}T_{1}), {}^{2}E, -1/2, {\\zeta}]])"
      ]
     },
     "metadata": {},
     "output_type": "display_data"
    },
    {
     "data": {
      "text/latex": [
       "$\\displaystyle \\frac{\\sqrt{6} |\\bar{{\\xi}} \\bar{{\\phi}} {\\chi}|}{6} + \\frac{\\sqrt{6} |\\bar{{\\xi}} {\\phi} \\bar{{\\chi}}|}{6} - \\frac{\\sqrt{6} |{\\xi} \\bar{{\\phi}} \\bar{{\\chi}}|}{3}$"
      ],
      "text/plain": [
       "sqrt(6)*|\\bar{{\\xi}} \\bar{{\\phi}} {\\chi}|/6 + sqrt(6)*|\\bar{{\\xi}} {\\phi} \\bar{{\\chi}}|/6 - sqrt(6)*|{\\xi} \\bar{{\\phi}} \\bar{{\\chi}}|/3"
      ]
     },
     "metadata": {},
     "output_type": "display_data"
    },
    {
     "data": {
      "text/latex": [
       "$\\displaystyle \\left[\\begin{matrix}t_{2}^{3} & ({}^{3}T_{1}) & {}^{2}E & \\frac{1}{2} & {\\gamma}\\end{matrix}\\right]$"
      ],
      "text/plain": [
       "Matrix([[t_{2}**3, ({}^{3}T_{1}), {}^{2}E, 1/2, {\\gamma}]])"
      ]
     },
     "metadata": {},
     "output_type": "display_data"
    },
    {
     "data": {
      "text/latex": [
       "$\\displaystyle - \\frac{\\sqrt{2} |{\\xi} \\bar{{\\phi}} {\\chi}|}{2} + \\frac{\\sqrt{2} |{\\xi} {\\phi} \\bar{{\\chi}}|}{2}$"
      ],
      "text/plain": [
       "-sqrt(2)*|{\\xi} \\bar{{\\phi}} {\\chi}|/2 + sqrt(2)*|{\\xi} {\\phi} \\bar{{\\chi}}|/2"
      ]
     },
     "metadata": {},
     "output_type": "display_data"
    },
    {
     "data": {
      "text/latex": [
       "$\\displaystyle \\left[\\begin{matrix}t_{2}^{3} & ({}^{3}T_{1}) & {}^{2}E & \\frac{1}{2} & {\\zeta}\\end{matrix}\\right]$"
      ],
      "text/plain": [
       "Matrix([[t_{2}**3, ({}^{3}T_{1}), {}^{2}E, 1/2, {\\zeta}]])"
      ]
     },
     "metadata": {},
     "output_type": "display_data"
    },
    {
     "data": {
      "text/latex": [
       "$\\displaystyle \\frac{\\sqrt{6} |\\bar{{\\xi}} {\\phi} {\\chi}|}{3} - \\frac{\\sqrt{6} |{\\xi} \\bar{{\\phi}} {\\chi}|}{6} - \\frac{\\sqrt{6} |{\\xi} {\\phi} \\bar{{\\chi}}|}{6}$"
      ],
      "text/plain": [
       "sqrt(6)*|\\bar{{\\xi}} {\\phi} {\\chi}|/3 - sqrt(6)*|{\\xi} \\bar{{\\phi}} {\\chi}|/6 - sqrt(6)*|{\\xi} {\\phi} \\bar{{\\chi}}|/6"
      ]
     },
     "metadata": {},
     "output_type": "display_data"
    },
    {
     "data": {
      "text/latex": [
       "$\\displaystyle \\left[\\begin{matrix}t_{2}^{3} & ({}^{1}E) & {}^{2}T_{1} & - \\frac{1}{2} & {\\nu}\\end{matrix}\\right]$"
      ],
      "text/plain": [
       "Matrix([[t_{2}**3, ({}^{1}E), {}^{2}T_{1}, -1/2, {\\nu}]])"
      ]
     },
     "metadata": {},
     "output_type": "display_data"
    },
    {
     "data": {
      "text/latex": [
       "$\\displaystyle - \\frac{\\sqrt{2} |\\bar{{\\chi}} {\\chi} \\bar{{\\phi}}|}{2} + \\frac{\\sqrt{2} |\\bar{{\\xi}} {\\xi} \\bar{{\\phi}}|}{2}$"
      ],
      "text/plain": [
       "-sqrt(2)*|\\bar{{\\chi}} {\\chi} \\bar{{\\phi}}|/2 + sqrt(2)*|\\bar{{\\xi}} {\\xi} \\bar{{\\phi}}|/2"
      ]
     },
     "metadata": {},
     "output_type": "display_data"
    },
    {
     "data": {
      "text/latex": [
       "$\\displaystyle \\left[\\begin{matrix}t_{2}^{3} & ({}^{1}E) & {}^{2}T_{1} & \\frac{1}{2} & {\\nu}\\end{matrix}\\right]$"
      ],
      "text/plain": [
       "Matrix([[t_{2}**3, ({}^{1}E), {}^{2}T_{1}, 1/2, {\\nu}]])"
      ]
     },
     "metadata": {},
     "output_type": "display_data"
    },
    {
     "data": {
      "text/latex": [
       "$\\displaystyle - \\frac{\\sqrt{2} |\\bar{{\\chi}} {\\chi} {\\phi}|}{2} + \\frac{\\sqrt{2} |\\bar{{\\xi}} {\\xi} {\\phi}|}{2}$"
      ],
      "text/plain": [
       "-sqrt(2)*|\\bar{{\\chi}} {\\chi} {\\phi}|/2 + sqrt(2)*|\\bar{{\\xi}} {\\xi} {\\phi}|/2"
      ]
     },
     "metadata": {},
     "output_type": "display_data"
    },
    {
     "data": {
      "text/latex": [
       "$\\displaystyle \\left[\\begin{matrix}t_{2}^{3} & ({}^{1}E) & {}^{2}T_{1} & - \\frac{1}{2} & {\\eta}\\end{matrix}\\right]$"
      ],
      "text/plain": [
       "Matrix([[t_{2}**3, ({}^{1}E), {}^{2}T_{1}, -1/2, {\\eta}]])"
      ]
     },
     "metadata": {},
     "output_type": "display_data"
    },
    {
     "data": {
      "text/latex": [
       "$\\displaystyle \\frac{\\sqrt{2} |\\bar{{\\phi}} {\\phi} \\bar{{\\chi}}|}{2} - \\frac{\\sqrt{2} |\\bar{{\\xi}} {\\xi} \\bar{{\\chi}}|}{2}$"
      ],
      "text/plain": [
       "sqrt(2)*|\\bar{{\\phi}} {\\phi} \\bar{{\\chi}}|/2 - sqrt(2)*|\\bar{{\\xi}} {\\xi} \\bar{{\\chi}}|/2"
      ]
     },
     "metadata": {},
     "output_type": "display_data"
    },
    {
     "data": {
      "text/latex": [
       "$\\displaystyle \\left[\\begin{matrix}t_{2}^{3} & ({}^{1}E) & {}^{2}T_{1} & \\frac{1}{2} & {\\eta}\\end{matrix}\\right]$"
      ],
      "text/plain": [
       "Matrix([[t_{2}**3, ({}^{1}E), {}^{2}T_{1}, 1/2, {\\eta}]])"
      ]
     },
     "metadata": {},
     "output_type": "display_data"
    },
    {
     "data": {
      "text/latex": [
       "$\\displaystyle \\frac{\\sqrt{2} |\\bar{{\\phi}} {\\phi} {\\chi}|}{2} - \\frac{\\sqrt{2} |\\bar{{\\xi}} {\\xi} {\\chi}|}{2}$"
      ],
      "text/plain": [
       "sqrt(2)*|\\bar{{\\phi}} {\\phi} {\\chi}|/2 - sqrt(2)*|\\bar{{\\xi}} {\\xi} {\\chi}|/2"
      ]
     },
     "metadata": {},
     "output_type": "display_data"
    },
    {
     "data": {
      "text/latex": [
       "$\\displaystyle \\left[\\begin{matrix}t_{2}^{3} & ({}^{3}T_{1}) & {}^{2}T_{1} & - \\frac{1}{2} & {\\mu}\\end{matrix}\\right]$"
      ],
      "text/plain": [
       "Matrix([[t_{2}**3, ({}^{3}T_{1}), {}^{2}T_{1}, -1/2, {\\mu}]])"
      ]
     },
     "metadata": {},
     "output_type": "display_data"
    },
    {
     "data": {
      "text/latex": [
       "$\\displaystyle - \\frac{\\sqrt{2} |\\bar{{\\xi}} \\bar{{\\chi}} {\\chi}|}{2} + \\frac{\\sqrt{2} |\\bar{{\\xi}} \\bar{{\\phi}} {\\phi}|}{2}$"
      ],
      "text/plain": [
       "-sqrt(2)*|\\bar{{\\xi}} \\bar{{\\chi}} {\\chi}|/2 + sqrt(2)*|\\bar{{\\xi}} \\bar{{\\phi}} {\\phi}|/2"
      ]
     },
     "metadata": {},
     "output_type": "display_data"
    },
    {
     "data": {
      "text/latex": [
       "$\\displaystyle \\left[\\begin{matrix}t_{2}^{3} & ({}^{3}T_{1}) & {}^{2}T_{1} & \\frac{1}{2} & {\\mu}\\end{matrix}\\right]$"
      ],
      "text/plain": [
       "Matrix([[t_{2}**3, ({}^{3}T_{1}), {}^{2}T_{1}, 1/2, {\\mu}]])"
      ]
     },
     "metadata": {},
     "output_type": "display_data"
    },
    {
     "data": {
      "text/latex": [
       "$\\displaystyle - \\frac{\\sqrt{2} |{\\xi} \\bar{{\\chi}} {\\chi}|}{2} + \\frac{\\sqrt{2} |{\\xi} \\bar{{\\phi}} {\\phi}|}{2}$"
      ],
      "text/plain": [
       "-sqrt(2)*|{\\xi} \\bar{{\\chi}} {\\chi}|/2 + sqrt(2)*|{\\xi} \\bar{{\\phi}} {\\phi}|/2"
      ]
     },
     "metadata": {},
     "output_type": "display_data"
    },
    {
     "data": {
      "text/latex": [
       "$\\displaystyle \\left[\\begin{matrix}t_{2}^{3} & ({}^{1}A_{1}) & {}^{2}T_{2} & - \\frac{1}{2} & {\\xi}\\end{matrix}\\right]$"
      ],
      "text/plain": [
       "Matrix([[t_{2}**3, ({}^{1}A_{1}), {}^{2}T_{2}, -1/2, {\\xi}]])"
      ]
     },
     "metadata": {},
     "output_type": "display_data"
    },
    {
     "data": {
      "text/latex": [
       "$\\displaystyle - \\frac{\\sqrt{2} |\\bar{{\\chi}} {\\chi} \\bar{{\\xi}}|}{2} - \\frac{\\sqrt{2} |\\bar{{\\phi}} {\\phi} \\bar{{\\xi}}|}{2}$"
      ],
      "text/plain": [
       "-sqrt(2)*|\\bar{{\\chi}} {\\chi} \\bar{{\\xi}}|/2 - sqrt(2)*|\\bar{{\\phi}} {\\phi} \\bar{{\\xi}}|/2"
      ]
     },
     "metadata": {},
     "output_type": "display_data"
    },
    {
     "data": {
      "text/latex": [
       "$\\displaystyle \\left[\\begin{matrix}t_{2}^{3} & ({}^{1}A_{1}) & {}^{2}T_{2} & \\frac{1}{2} & {\\xi}\\end{matrix}\\right]$"
      ],
      "text/plain": [
       "Matrix([[t_{2}**3, ({}^{1}A_{1}), {}^{2}T_{2}, 1/2, {\\xi}]])"
      ]
     },
     "metadata": {},
     "output_type": "display_data"
    },
    {
     "data": {
      "text/latex": [
       "$\\displaystyle - \\frac{\\sqrt{2} |\\bar{{\\chi}} {\\chi} {\\xi}|}{2} - \\frac{\\sqrt{2} |\\bar{{\\phi}} {\\phi} {\\xi}|}{2}$"
      ],
      "text/plain": [
       "-sqrt(2)*|\\bar{{\\chi}} {\\chi} {\\xi}|/2 - sqrt(2)*|\\bar{{\\phi}} {\\phi} {\\xi}|/2"
      ]
     },
     "metadata": {},
     "output_type": "display_data"
    },
    {
     "data": {
      "text/latex": [
       "$\\displaystyle \\left[\\begin{matrix}t_{2}^{3} & ({}^{1}A_{1}) & {}^{2}T_{2} & - \\frac{1}{2} & {\\phi}\\end{matrix}\\right]$"
      ],
      "text/plain": [
       "Matrix([[t_{2}**3, ({}^{1}A_{1}), {}^{2}T_{2}, -1/2, {\\phi}]])"
      ]
     },
     "metadata": {},
     "output_type": "display_data"
    },
    {
     "data": {
      "text/latex": [
       "$\\displaystyle - \\frac{\\sqrt{2} |\\bar{{\\chi}} {\\chi} \\bar{{\\phi}}|}{2} - \\frac{\\sqrt{2} |\\bar{{\\xi}} {\\xi} \\bar{{\\phi}}|}{2}$"
      ],
      "text/plain": [
       "-sqrt(2)*|\\bar{{\\chi}} {\\chi} \\bar{{\\phi}}|/2 - sqrt(2)*|\\bar{{\\xi}} {\\xi} \\bar{{\\phi}}|/2"
      ]
     },
     "metadata": {},
     "output_type": "display_data"
    },
    {
     "data": {
      "text/latex": [
       "$\\displaystyle \\left[\\begin{matrix}t_{2}^{3} & ({}^{1}A_{1}) & {}^{2}T_{2} & \\frac{1}{2} & {\\phi}\\end{matrix}\\right]$"
      ],
      "text/plain": [
       "Matrix([[t_{2}**3, ({}^{1}A_{1}), {}^{2}T_{2}, 1/2, {\\phi}]])"
      ]
     },
     "metadata": {},
     "output_type": "display_data"
    },
    {
     "data": {
      "text/latex": [
       "$\\displaystyle - \\frac{\\sqrt{2} |\\bar{{\\chi}} {\\chi} {\\phi}|}{2} - \\frac{\\sqrt{2} |\\bar{{\\xi}} {\\xi} {\\phi}|}{2}$"
      ],
      "text/plain": [
       "-sqrt(2)*|\\bar{{\\chi}} {\\chi} {\\phi}|/2 - sqrt(2)*|\\bar{{\\xi}} {\\xi} {\\phi}|/2"
      ]
     },
     "metadata": {},
     "output_type": "display_data"
    },
    {
     "data": {
      "text/latex": [
       "$\\displaystyle \\left[\\begin{matrix}t_{2}^{3} & ({}^{1}A_{1}) & {}^{2}T_{2} & - \\frac{1}{2} & {\\chi}\\end{matrix}\\right]$"
      ],
      "text/plain": [
       "Matrix([[t_{2}**3, ({}^{1}A_{1}), {}^{2}T_{2}, -1/2, {\\chi}]])"
      ]
     },
     "metadata": {},
     "output_type": "display_data"
    },
    {
     "data": {
      "text/latex": [
       "$\\displaystyle - \\frac{\\sqrt{2} |\\bar{{\\phi}} {\\phi} \\bar{{\\chi}}|}{2} - \\frac{\\sqrt{2} |\\bar{{\\xi}} {\\xi} \\bar{{\\chi}}|}{2}$"
      ],
      "text/plain": [
       "-sqrt(2)*|\\bar{{\\phi}} {\\phi} \\bar{{\\chi}}|/2 - sqrt(2)*|\\bar{{\\xi}} {\\xi} \\bar{{\\chi}}|/2"
      ]
     },
     "metadata": {},
     "output_type": "display_data"
    },
    {
     "data": {
      "text/latex": [
       "$\\displaystyle \\left[\\begin{matrix}t_{2}^{3} & ({}^{1}A_{1}) & {}^{2}T_{2} & \\frac{1}{2} & {\\chi}\\end{matrix}\\right]$"
      ],
      "text/plain": [
       "Matrix([[t_{2}**3, ({}^{1}A_{1}), {}^{2}T_{2}, 1/2, {\\chi}]])"
      ]
     },
     "metadata": {},
     "output_type": "display_data"
    },
    {
     "data": {
      "text/latex": [
       "$\\displaystyle - \\frac{\\sqrt{2} |\\bar{{\\phi}} {\\phi} {\\chi}|}{2} - \\frac{\\sqrt{2} |\\bar{{\\xi}} {\\xi} {\\chi}|}{2}$"
      ],
      "text/plain": [
       "-sqrt(2)*|\\bar{{\\phi}} {\\phi} {\\chi}|/2 - sqrt(2)*|\\bar{{\\xi}} {\\xi} {\\chi}|/2"
      ]
     },
     "metadata": {},
     "output_type": "display_data"
    }
   ],
   "source": [
    "for idx, sq in enumerate(supreme_qets):\n",
    "    total_ket_key = (corresponding_waves[idx])\n",
    "    e_config = sp.Symbol(sp.latex(Γ1).lower())*sp.Symbol(sp.latex(Γ2).lower())*sp.Symbol(sp.latex(Γ3).lower())\n",
    "    final_term_symbol = sp.Symbol('{}^{%d}%s' % (total_ket_key[2],sp.latex(total_ket_key[0])))\n",
    "    intermediate_term_symbol = sp.Symbol('{}^{%d}%s' % (int(total_ket_key[-2]*2+1),sp.latex(total_ket_key[-1])))\n",
    "    three_qet_symb = sp.Matrix([e_config, sp.Symbol('(%s)' % sp.latex(intermediate_term_symbol)),final_term_symbol, total_ket_key[3], total_ket_key[1]]).T\n",
    "    display(three_qet_symb)\n",
    "    display(as_det_ket(sq))"
   ]
  },
  {
   "cell_type": "code",
   "execution_count": 130,
   "metadata": {},
   "outputs": [
    {
     "data": {
      "text/html": [
       "<pre>✔️ 3.45 ms (2021-12-12T20:36:28/2021-12-12T20:36:28)</pre>"
      ],
      "text/plain": [
       "<IPython.core.display.HTML object>"
      ]
     },
     "metadata": {},
     "output_type": "display_data"
    },
    {
     "data": {
      "text/plain": [
       "Qet({(\\bar{{\\xi}}, {\\chi}, {\\xi}): -sqrt(2)/2, (\\bar{{\\phi}}, {\\chi}, {\\phi}): -sqrt(2)/2})"
      ]
     },
     "execution_count": 130,
     "metadata": {},
     "output_type": "execute_result"
    }
   ],
   "source": [
    "# bar symbols according to their spin\n",
    "def slater_det(single_electron_state):\n",
    "    spinors = []\n",
    "    for ses in single_electron_state:\n",
    "        if ses[0] < 0:\n",
    "            spinor = sp.Symbol(r'\\bar{%s}' % sp.latex(ses[1]))\n",
    "        else:\n",
    "            spinor = ses[1]\n",
    "        spinors.append(spinor)\n",
    "    # qet_dict = [((spinor[0],spinor[1],spinor[2]),1),\n",
    "    #             (spinor[])]\n",
    "    apply_permutation = lambda σ, iter : (iter[σ[0]], iter[σ[1]], iter[σ[2]])\n",
    "    # find the permutations\n",
    "    σs = list(permutations(range(len(spinors)), len(spinors)))\n",
    "    # apply with their corresponding sign\n",
    "    slater  = ([(apply_permutation(σ, spinors), εijk(*σ)) for σ in σs])\n",
    "    qet = Qet()\n",
    "    for slate in slater:\n",
    "        qet += Qet({slate[0]:slate[1]})\n",
    "    return qet"
   ]
  },
  {
   "cell_type": "code",
   "execution_count": null,
   "metadata": {},
   "outputs": [],
   "source": [
    "total_kets_symmetrized = {}\n",
    "for total_ket_key, ket_parts in simplified_kets.items():\n",
    "    slater_parts = [slater_det(k)*v for k,v in ket_parts.dict.items()]\n",
    "    total_sym = sum(slater_parts, Qet({}))\n",
    "    if len(total_sym.dict) > 0:\n",
    "        total_kets_symmetrized[total_ket_key] = total_sym"
   ]
  }
 ],
 "metadata": {
  "interpreter": {
   "hash": "5ed69564610cdd861a99d06236eab56151da4db3d5eb55442ace689096fe7345"
  },
  "kernelspec": {
   "display_name": "Python 3.8.8 64-bit ('qdef3p8': conda)",
   "language": "python",
   "name": "python3"
  },
  "language_info": {
   "codemirror_mode": {
    "name": "ipython",
    "version": 3
   },
   "file_extension": ".py",
   "mimetype": "text/x-python",
   "name": "python",
   "nbconvert_exporter": "python",
   "pygments_lexer": "ipython3",
   "version": "3.8.8"
  },
  "orig_nbformat": 4
 },
 "nbformat": 4,
 "nbformat_minor": 2
}
