{
 "cells": [
  {
   "cell_type": "markdown",
   "metadata": {},
   "source": [
    "# Coefficients of Fractional Parentage"
   ]
  },
  {
   "cell_type": "code",
   "execution_count": 1,
   "metadata": {},
   "outputs": [
    {
     "name": "stdout",
     "output_type": "stream",
     "text": [
      "Reloading /Users/juan/ZiaLab/Codebase/qdef/data/CPGs.pkl ...\n",
      "Loading data for 1-body coefficients of fractional parentage...\n"
     ]
    }
   ],
   "source": [
    "import re\n",
    "import numpy as np\n",
    "import sympy as sp\n",
    "from collections import OrderedDict as odict\n",
    "from collections import namedtuple as ntuple\n",
    "from functools import reduce\n",
    "from itertools import product\n",
    "%load_ext autoreload\n",
    "%autoreload 2\n",
    "import tensorops as to\n",
    "from notation import *\n",
    "from functools import lru_cache\n",
    "from qdef import *"
   ]
  },
  {
   "cell_type": "markdown",
   "metadata": {},
   "source": [
    "## States & Coefficients of Fractional Parentage : Parsing"
   ]
  },
  {
   "cell_type": "markdown",
   "metadata": {},
   "source": [
    "This block produces two datasets state_labels.pkl and cfps.pkl.\n",
    "\n",
    "In addition to these a csv version is also produced."
   ]
  },
  {
   "cell_type": "code",
   "execution_count": 141,
   "metadata": {},
   "outputs": [],
   "source": [
    "# named tuples\n",
    "State_label = ntuple('state',['Seniority','Sup_irrep'])\n",
    "Term_label = ntuple('Term',['S','L','W'])\n",
    "Cfp_template = ntuple('CFP',['offspring', 'parent'])\n",
    "\n",
    "primes = [2,3,5,7,11,13,17,19,23,29,31]\n",
    "primes = list(map(sp.S, primes))"
   ]
  },
  {
   "cell_type": "code",
   "execution_count": 142,
   "metadata": {},
   "outputs": [],
   "source": [
    "def parse_term(term_string):\n",
    "    term_multi, term_L = int(term_string[0]), l_notation_switch(term_string[1])\n",
    "    term_S = sp.S(term_multi-1)/2\n",
    "    if len(term_string) == 2:\n",
    "        term_idx = 1\n",
    "    else:\n",
    "        term_idx = int(term_string[2])\n",
    "    return Term_label(term_S, term_L, term_idx)\n",
    "\n",
    "def splitter(string):\n",
    "    split = ''\n",
    "    pchar = ''\n",
    "    string = string.replace('.','-')\n",
    "    for char in string:\n",
    "        if char == '-':\n",
    "            split += ' '\n",
    "        if char in '0123456789':\n",
    "            if pchar in '0123456789':\n",
    "                split += ' '\n",
    "        split += char\n",
    "        pchar = char\n",
    "    return list(map(int,split.strip().split(' ')))"
   ]
  },
  {
   "cell_type": "code",
   "execution_count": 144,
   "metadata": {},
   "outputs": [],
   "source": [
    "# parse states\n",
    "\n",
    "states = odict()\n",
    "state_lines = open('./data/k_states.txt','r').read().split('\\n')\n",
    "for line_num, line in enumerate(state_lines):\n",
    "    if line == '':\n",
    "        continue\n",
    "    if line[0] == '-':\n",
    "        # parsing a new configuration\n",
    "        num_electrons = int(line[2])\n",
    "        lstr = line[1]\n",
    "        l = l_notation_switch(line[1])\n",
    "        states[(l, num_electrons)] = []\n",
    "    else:\n",
    "        term_symbol = line.split(':')[0].upper()\n",
    "        if len(term_symbol) == 3:\n",
    "            term_idx = int(term_symbol[-1])\n",
    "        else:\n",
    "            term_idx = 1\n",
    "        term_symbol = Term_label(sp.S(int(term_symbol[0])-1)/2, \n",
    "                                l_notation_switch(term_symbol[1]), term_idx)\n",
    "        if lstr == 'p':\n",
    "            γ= State_label(None, None)\n",
    "        elif lstr == 'd':\n",
    "            γ = line.split(':')[-1]\n",
    "            γ = '%s(%s)' % (γ[0], γ[1:])\n",
    "            γ = State_label(int(γ[0]), γ[1:])\n",
    "        elif lstr == 'f':\n",
    "            γ = line.split(':')[-1]\n",
    "            γ = '%s(%s)(%s)' % (γ[0], γ[1:4],γ[4:])\n",
    "            γ = State_label(int(γ[0]), γ[1:])\n",
    "        states[(l, num_electrons)].append((term_symbol, γ))"
   ]
  },
  {
   "cell_type": "code",
   "execution_count": 145,
   "metadata": {},
   "outputs": [],
   "source": [
    "data = open('./data/allcfps.txt','r').read().split('\\n')\n",
    "all_cfps = odict()\n",
    "for line in data:\n",
    "    if line == '':\n",
    "        continue\n",
    "    if line[0] == \"#\":\n",
    "        continue\n",
    "    if line[0] == '-':\n",
    "        sector = line[1:]\n",
    "        term_labels = []\n",
    "        values = []\n",
    "    elif ':' in line:\n",
    "        offspring = line.split(':')[0]\n",
    "        parents = line.split(':')[1].split(' ')\n",
    "        family = [(offspring.upper(),parent.upper()) for parent in parents]\n",
    "        term_labels.extend(family)\n",
    "    else:\n",
    "        chunks = splitter(line)\n",
    "        a0 = chunks[0]\n",
    "        if len(chunks) > 1:\n",
    "            chunks = chunks[1:]\n",
    "            tail = sp.sqrt(reduce(sp.core.mul.Mul,[p**a for p,a in zip(primes,chunks) if a!=0]))\n",
    "            values.append(a0*tail)\n",
    "        else:\n",
    "            values.append(a0)\n",
    "    if len(values) == len(term_labels):\n",
    "        if len(values):\n",
    "            pairs = list(zip(term_labels, values))\n",
    "            sector_l, sector_n = l_notation_switch(sector[0]), int(sector[1])\n",
    "            sector = (sector_l, sector_n)\n",
    "            all_cfps[sector] = odict()\n",
    "            for key, val in pairs:\n",
    "                offspring, parent = key\n",
    "                offspring_term = parse_term(offspring)\n",
    "                parent_term = parse_term(parent)\n",
    "                all_cfps[sector][Cfp_template(offspring_term, parent_term)] = val"
   ]
  },
  {
   "cell_type": "code",
   "execution_count": 146,
   "metadata": {},
   "outputs": [],
   "source": [
    "cfp2latex = r'{{\\langle}}{l}^{n_par}\\,{{}}^{Multi_par}\\!{L_par}^{{({W_par})}}|\\Big\\}}\\,\\,|{l}^{n_off}\\,{{}}^{Multi_off}\\!{L_off}^{{({W_off})}}{{\\rangle}}'"
   ]
  },
  {
   "cell_type": "code",
   "execution_count": 147,
   "metadata": {},
   "outputs": [],
   "source": [
    "from IPython.display import Math, display"
   ]
  },
  {
   "cell_type": "code",
   "execution_count": 201,
   "metadata": {},
   "outputs": [],
   "source": [
    "latex_lines = []\n",
    "for key, cfps in all_cfps.items():\n",
    "    lstring = l_notation_switch(key[0])\n",
    "    n = key[1]\n",
    "    latex_lines.append('\\\\section{$%s^%d$}\\n' % (lstring,n))\n",
    "    done_offspring = []\n",
    "    for idx, (cfp_key, cpf_value) in enumerate(cfps.items()):\n",
    "        term_off = cfp_key.offspring\n",
    "        term_par = cfp_key.parent\n",
    "        S_off, L_off, W_off = term_off\n",
    "        if (S_off,L_off,W_off) not in done_offspring:\n",
    "            if idx != 0:\n",
    "                # latex_lines.append('\\n')\n",
    "                latex_lines.append('\\\\end{align*}')\n",
    "            latex_lines.append('\\\\subsection{${}^%d{%s}^{(%d)}$}\\n' % (2*S_off+1,l_notation_switch(L_off).upper(), W_off))\n",
    "            latex_lines.append('\\\\begin{align*}')\n",
    "        S_par, L_par, W_par = term_par\n",
    "        lhs = cfp2latex.format(l=lstring, n_par=n-1,W_par=W_par,Multi_par=2*S_par+1,L_par=l_notation_switch(L_par).upper(),\n",
    "                                n_off=n, W_off=W_off,Multi_off=2*S_off+1,L_off=l_notation_switch(L_off).upper())\n",
    "        rhs = sp.latex(cpf_value)\n",
    "        line = '%s &= %s \\\\\\\\' % (lhs, rhs)\n",
    "        latex_lines.append(line)\n",
    "        done_offspring.append((S_off,L_off,W_off))\n",
    "    latex_lines.append('\\\\end{align*}')\n",
    "    export_fname = '/Users/juan/Library/Mobile Documents/com~apple~CloudDocs/iCloudFiles/Theoretical Division/CFPs.tex'\n",
    "    open(export_fname,'w').write('\\n'.join(latex_lines))"
   ]
  },
  {
   "cell_type": "code",
   "execution_count": 149,
   "metadata": {},
   "outputs": [
    {
     "name": "stdout",
     "output_type": "stream",
     "text": [
      "${\\langle}p^1,1,{}^2\\!P|\\}\\,\\,|p^2,1,{}^3\\!P{\\rangle} = 1$\n"
     ]
    }
   ],
   "source": [
    "print(latex_lines[1])"
   ]
  },
  {
   "cell_type": "code",
   "execution_count": 104,
   "metadata": {},
   "outputs": [
    {
     "data": {
      "text/latex": [
       "$\\displaystyle {\\langle}f^3,1,{}^2\\!L|\\}\\,\\,|f^4,1,{}^1\\!N{\\rangle}$"
      ],
      "text/plain": [
       "<IPython.core.display.Math object>"
      ]
     },
     "execution_count": 104,
     "metadata": {},
     "output_type": "execute_result"
    }
   ],
   "source": [
    "Math(cfp2latex.format(l=lstring, n_par=n-1,W_par=W_par,Multi_par=2*S_par+1,L_par=l_notation_switch(L_par).upper(),\n",
    "                                n_off=n, W_off=W_off,Multi_off=2*S_off+1,L_off=l_notation_switch(L_off).upper()))"
   ]
  },
  {
   "cell_type": "code",
   "execution_count": null,
   "metadata": {},
   "outputs": [],
   "source": []
  },
  {
   "cell_type": "markdown",
   "metadata": {},
   "source": [
    "## One - Body Operators"
   ]
  },
  {
   "cell_type": "markdown",
   "metadata": {},
   "source": [
    "$\\hat{F}=\\sum_{i=1}^n \\hat{f}_i$\n",
    "\n",
    "For two determinantal states $|\\Omega'\\rangle$, $|\\Omega\\rangle$:\n",
    "\n",
    "$\\langle\\Omega|\\hat{F}|\\Omega'\\rangle = n \\sum_{\\Omega',\\omega,\\omega'} \\langle\\Omega|\\bar{\\Omega}\\omega\\rangle \\langle\\bar{\\Omega}{\\omega'}|{\\Omega'}\\rangle \\langle{\\omega_n}|{\\hat{f}_n}|\\omega_n'\\rangle$\n",
    "\n",
    "Where \n",
    "\n",
    "$\\langle\\Omega|\\bar{\\Omega}\\omega\\rangle$ are fractional parentage coefficients, \n",
    "\n",
    "sums over $\\omega$ is a sum over $m_l=-l,-l+1,...,l-1,l$ and $m_s=-1/2,1/2$,\n",
    "\n",
    "sum over $\\bar{\\Omega}$ is a sum over all the quantum numbers that define $l^{n-1}$ states, that is a sum over all $\\gamma,S,MS,L,ML$.\n",
    "\n",
    "As an example let's calculate the matrix elements of the one-body operator corresponding to the interaction of electrons with the charge of the nucleus. The result being trivial this allows for a simple sanity check."
   ]
  },
  {
   "cell_type": "markdown",
   "metadata": {},
   "source": [
    "Since the Coulomb repulsion involves no spin the sums over ω and ω' are only sums over ml and ml'."
   ]
  },
  {
   "cell_type": "markdown",
   "metadata": {},
   "source": [
    "A single particle operator will simply be a dictionary whose keys are (ml,ml')."
   ]
  },
  {
   "cell_type": "code",
   "execution_count": null,
   "metadata": {},
   "outputs": [],
   "source": [
    "# l = 2\n",
    "# n = 2\n",
    "# HALF = sp.S(1)/2\n",
    "# f = odict()\n",
    "# for ml in [-2,-1,0,1,2]:\n",
    "#     for mlp in [-2,-1,0,1,2]:\n",
    "#         f[(ml,mlp)] = sp.randprime(1,15)"
   ]
  },
  {
   "cell_type": "markdown",
   "metadata": {},
   "source": [
    "The cfps are another dictionary whose keys are a 3-tuple (Ω'ω,Ω).\n",
    "\n",
    "For this 2-electron example we need to grab the CFPs that link two and three electrons."
   ]
  },
  {
   "cell_type": "code",
   "execution_count": null,
   "metadata": {},
   "outputs": [],
   "source": [
    "# cfps = all_cfps[n]"
   ]
  },
  {
   "cell_type": "markdown",
   "metadata": {},
   "source": [
    "We also need to pin down the terms that correspond to this configuration. In this case the \"states\" can simply be labeled by their terms."
   ]
  },
  {
   "cell_type": "code",
   "execution_count": null,
   "metadata": {},
   "outputs": [],
   "source": [
    "# Ωs = [term for term, _ in states[n]]"
   ]
  },
  {
   "cell_type": "markdown",
   "metadata": {},
   "source": [
    "The cpfs themselves define the ranges for the sum."
   ]
  },
  {
   "cell_type": "code",
   "execution_count": null,
   "metadata": {},
   "outputs": [],
   "source": [
    "# Ωbs = [key.ket_term for key in cfps.keys()]\n",
    "# Ωbs = list(set(Ωbs))\n",
    "# Ωbs  "
   ]
  },
  {
   "cell_type": "code",
   "execution_count": null,
   "metadata": {},
   "outputs": [],
   "source": [
    "# F = dict()\n",
    "# mls = [-2,-1,0,1,2]\n",
    "# # iterate over all combinations of Ωs, Ωs\n",
    "# cfps = all_cfps[n]\n",
    "# for Ω, Ωp in product(Ωs, Ωs):\n",
    "#     summands = []\n",
    "#     for Ωb in Ωbs:\n",
    "#         # in this example the CFPs don't depend\n",
    "#         # on ml or ml' so we might as well\n",
    "#         # summon them here\n",
    "#         fp0 = cfps[Cfp_template(Ω, Ωb)]\n",
    "#         fp1 = cfps[Cfp_template(Ωp, Ωb)]\n",
    "#         for ml, mlp in product(mls, mls):\n",
    "#             # summand = fp0*fp1*sp.Symbol('\\\\langle{ml=%d}|f|{ml\\'=%d}\\\\rangle' % (ml,mlp))\n",
    "#             if ml != mlp:\n",
    "#                 continue\n",
    "#             summand = fp0*fp1*sp.Symbol('E') #*sp.Symbol('\\\\langle{%d}|f|{%d}\\\\rangle' % (ml,mlp))\n",
    "#             summands.append(summand)\n",
    "#     F[(Ω, Ωp)] = n*sum(summands)\n",
    "# F[(Ω, Ωp)]"
   ]
  },
  {
   "cell_type": "code",
   "execution_count": null,
   "metadata": {},
   "outputs": [],
   "source": [
    "# # parse CFPs\n",
    "\n",
    "# all_cfps = odict()\n",
    "# cfp_lines = open('./data/cfp.txt','r').read().split('\\n')\n",
    "\n",
    "# def parse_term(term_string):\n",
    "#     term_multi, term_L = int(term_string[0]), l_notation_switch(term_string[1])\n",
    "#     term_S = sp.S(term_multi-1)/2\n",
    "#     if len(term_string) == 2:\n",
    "#         term_idx = 1\n",
    "#     else:\n",
    "#         term_idx = int(term_string[2])\n",
    "#     return Term_label(term_S, term_L, term_idx)\n",
    "\n",
    "# for line_num, line in enumerate(cfp_lines):\n",
    "#     if line == '':\n",
    "#         continue\n",
    "#     if line[0] == \"#\":\n",
    "#         continue\n",
    "#     line = line.replace('\\t','')\n",
    "#     if line[0] == '-':\n",
    "#         # parsing a new stage\n",
    "#         stage = int(line[2])\n",
    "#         if stage not in all_cfps:\n",
    "#             all_cfps[stage] = odict()\n",
    "#     else:\n",
    "#         chunks = line.split(' ')\n",
    "#         offspring, parent = chunks[:2]\n",
    "#         acfp = primes_to_sympy(' '.join(chunks[2:]))\n",
    "#         offspring_term = parse_term(offspring)\n",
    "#         parent_term = parse_term(parent)\n",
    "#         all_cfps[stage][Cfp_template(offspring_term, parent_term)] = acfp"
   ]
  },
  {
   "cell_type": "code",
   "execution_count": 160,
   "metadata": {},
   "outputs": [],
   "source": [
    "HALF = sp.S(1)/2\n",
    "\n",
    "# @lru_cache(maxsize=None)\n",
    "def Ω_coeff(l, n, parent_qnums, ω, offspring_qnums):\n",
    "    '''\n",
    "    This function returns the coefficient\n",
    "    <lⁿ⁻¹ W* S* MS* L* ML*; l ms ml | lⁿW S MS L ML>\n",
    "    Parameters\n",
    "    ----------\n",
    "    n (int): number of electrons\n",
    "    Returns\n",
    "    -------\n",
    "\n",
    "    '''\n",
    "    s = HALF\n",
    "    Wb, Sb, MSb, Lb, MLb = parent_qnums\n",
    "    l, ms, ml = ω\n",
    "    W, S, MS, L, ML = offspring_qnums\n",
    "    # grab the cfp\n",
    "    parent_term = Term_label(Sb, Lb, Wb)\n",
    "    offspring_term = Term_label(S, L, W)\n",
    "    cfp_key = Cfp_template(offspring_term, parent_term)\n",
    "    if cfp_key not in all_cfps[(l,n)]:\n",
    "        return 0\n",
    "    cfp = all_cfps[(l,n)][cfp_key]\n",
    "    # Vector Coupling coeffs\n",
    "    vcS = to.VC_coeff((Sb,MSb,s,ms), (Sb, s, S, MS))\n",
    "    if vcS == 0:\n",
    "        return 0\n",
    "    vcL = to.VC_coeff((Lb,MLb,l,ml), (Lb, l, L, ML))\n",
    "    val = vcS * vcL * cfp\n",
    "    if val:\n",
    "        print(vcS, vcL, cfp)\n",
    "    return val\n",
    "\n",
    "# @lru_cache(maxsize=None)\n",
    "def mrange(j):\n",
    "    '''\n",
    "    Give a j get a list with corresponding mj.\n",
    "\n",
    "    Parameters\n",
    "    ----------\n",
    "    j  (int or half-int): angular momentum\n",
    "\n",
    "    Returns\n",
    "    -------\n",
    "    (list) [-j, -j+1, ..., j-1, j]\n",
    "    '''\n",
    "    # returns ranges that work for half integers\n",
    "    assert int(j*2) == 2*j, \"j should be integer or half-integer\"\n",
    "    assert j>=0, \"j should be non-negative\"\n",
    "    j = sp.S(int(2*j))/2\n",
    "    val = list((-j+i) for i in range(int(2*j+1)))\n",
    "    return val"
   ]
  },
  {
   "cell_type": "code",
   "execution_count": 163,
   "metadata": {},
   "outputs": [
    {
     "name": "stdout",
     "output_type": "stream",
     "text": [
      "-sqrt(2)/2 sqrt(5)/5 1\n",
      "-sqrt(2)/2 sqrt(5)/5 1\n",
      "-sqrt(2)/2 -sqrt(5)/5 1\n",
      "-sqrt(2)/2 -sqrt(5)/5 1\n",
      "-sqrt(2)/2 sqrt(5)/5 1\n",
      "-sqrt(2)/2 sqrt(5)/5 1\n",
      "-sqrt(2)/2 -sqrt(5)/5 1\n",
      "-sqrt(2)/2 -sqrt(5)/5 1\n",
      "-sqrt(2)/2 sqrt(5)/5 1\n",
      "-sqrt(2)/2 sqrt(5)/5 1\n",
      "sqrt(2)/2 sqrt(5)/5 1\n",
      "sqrt(2)/2 sqrt(5)/5 1\n",
      "sqrt(2)/2 -sqrt(5)/5 1\n",
      "sqrt(2)/2 -sqrt(5)/5 1\n",
      "sqrt(2)/2 sqrt(5)/5 1\n",
      "sqrt(2)/2 sqrt(5)/5 1\n",
      "sqrt(2)/2 -sqrt(5)/5 1\n",
      "sqrt(2)/2 -sqrt(5)/5 1\n",
      "sqrt(2)/2 sqrt(5)/5 1\n",
      "sqrt(2)/2 sqrt(5)/5 1\n",
      "{2*E}\n"
     ]
    }
   ],
   "source": [
    "l = 2\n",
    "n = 2\n",
    "mls = mrange(l)\n",
    "HALF = sp.S(1)/2\n",
    "\n",
    "cfps = all_cfps[(l,n)]\n",
    "terms = [term for term, _ in states[(l,n)]] # the terms present in the lⁿ configuration\n",
    "terms = list(set(terms))\n",
    "term_bar_s = [term for term, _ in states[(l,n-1)]] # the terms present in the lⁿ⁻¹ configuration\n",
    "term_bar_s = list(set(term_bar_s))\n",
    "\n",
    "F = dict()\n",
    "Ms_s = [-HALF, HALF]\n",
    "printed = []\n",
    "num_iters = 0\n",
    "\n",
    "for term_row, term_col in product(terms, terms): # loop over the terms for rows and columns\n",
    "    S, L, W = term_row # unpack term_row\n",
    "    Sp, Lp, Wp = term_col # unpack term_col\n",
    "    # make the ranges for ML, MLp, MS, MSp\n",
    "    # ML_s, MLp_s = mrange(L), mrange(Lp)\n",
    "    # MS_s, MSp_s = mrange(S), mrange(Sp)\n",
    "    # A shortcut\n",
    "    ML_s, MLp_s = [L], [Lp]\n",
    "    MS_s, MSp_s = [S], [Sp]\n",
    "    for MS, ML, MSp, MLp in product(MS_s, ML_s, MSp_s, MLp_s): # this loops over the enclosed states\n",
    "        Ω = (W, S, MS, L, ML) # full address of row state\n",
    "        Ωp = (Wp, Sp, MSp, Lp, MLp) # full address of col state\n",
    "        # Shortcircuit debug\n",
    "        if Ω != (1, 0, 0, 0 , 0) :\n",
    "            continue\n",
    "        if Ωp != (1, 0, 0, 0, 0) :\n",
    "            continue\n",
    "        summands = []\n",
    "        for term_bar in term_bar_s: # this iterates over the terms of lⁿ⁻¹\n",
    "            Sb, Lb, Wb = term_bar # unpack term_bar\n",
    "            MSb_s, MLb_s = mrange(Sb), mrange(Lb)\n",
    "            for MSb, MLb in product(MSb_s, MLb_s):\n",
    "                Ωb = (Wb, Sb, MSb, Lb, MLb) # full address of an lⁿ⁻¹ state\n",
    "                for ml, ms in product(mls, Ms_s): # Σ ω, ωp assumming δ(ml,mlp)δ(ms,msp)\n",
    "                    mlp, msp = ml, ms\n",
    "                    num_iters += 1\n",
    "                    fp0 = Ω_coeff(l, n, Ωb, (l, ms, ml), Ω)\n",
    "                    fp1 = Ω_coeff(l, n, Ωb, (l, msp, mlp), Ωp)\n",
    "                    printout = '(%d%s%d-%d%s%d)(%d%s%d-%d%s%d)' % (Ω[1]*2+1, l_notation_switch(Ω[3]).upper(), Ω[0], Ωb[1]*2+1, l_notation_switch(Ωb[3]).upper(),Ωb[0], Ωp[1]*2+1, l_notation_switch(Ωp[3]).upper(), Ωp[0], Ωb[1]*2+1, l_notation_switch(Ωb[3]).upper(),Ωb[0])\n",
    "                    # if printout not in printed:\n",
    "                    #     print(printout)\n",
    "                    #     printed.append(printout)\n",
    "                    summand = fp0 * fp1 * sp.Symbol('E') # * sp.Symbol(printout)\n",
    "                    summands.append(summand)\n",
    "        F[(Ω, Ωp)] = n*sum(summands)\n",
    "        if F[(Ω, Ωp)] != 0:\n",
    "            if F[(Ω, Ωp)] != n*sp.Symbol('E'):\n",
    "                print(Ω, Ωp)\n",
    "                display(F[(Ω, Ωp)])\n",
    "print(set(F.values()))\n"
   ]
  },
  {
   "cell_type": "code",
   "execution_count": null,
   "metadata": {},
   "outputs": [
    {
     "name": "stdout",
     "output_type": "stream",
     "text": [
      "[1, -3, 3, 0, -1, 0, -1]\n",
      "[1, 0, 1, 0, -1, -1]\n",
      "[1, -6, 2, 2, -1, -1, -1, 1]\n",
      "[-1, -6, -4, -1, -1, 0, -1, 1]\n",
      "[-1, -5, 0, -1, 1, -1]\n",
      "[1, -1, 1, -2, 3, -1, -1]\n",
      "[1, -5, 0, -2, 1, 0, -1]\n",
      "[-1, -1, 0, 2, -1, -1]\n",
      "[-1, -3, 1, -2, -1, 0, -1, 0, 0, 0, 2]\n"
     ]
    }
   ],
   "source": [
    "data = '''1.330.10.1\n",
    "1010.1.1\n",
    "1.622.1.1.11\n",
    ".1.6.4.1.10.11\n",
    ".1.50.11.1\n",
    "1.11.23.1.1\n",
    "1.50.210.1\n",
    ".1.102.1.1\n",
    ".1.31.2.10.10002'''\n",
    "dlines = data.split('\\n')\n",
    "for dline in dlines:\n",
    "    print(splitter(dline))"
   ]
  },
  {
   "cell_type": "code",
   "execution_count": null,
   "metadata": {},
   "outputs": [
    {
     "data": {
      "text/plain": [
       "{0, 5*E}"
      ]
     },
     "metadata": {},
     "output_type": "display_data"
    }
   ],
   "source": [
    "set(F.values())"
   ]
  },
  {
   "cell_type": "code",
   "execution_count": null,
   "metadata": {},
   "outputs": [],
   "source": [
    "for key, val in F.items():\n",
    "    if val not in [0,4*sp.Symbol('E')]:\n",
    "        print(key,val)"
   ]
  },
  {
   "cell_type": "code",
   "execution_count": null,
   "metadata": {},
   "outputs": [
    {
     "data": {
      "text/plain": [
       "{0, 4*E}"
      ]
     },
     "metadata": {},
     "output_type": "display_data"
    }
   ],
   "source": [
    "set(F.values())"
   ]
  },
  {
   "cell_type": "code",
   "execution_count": null,
   "metadata": {},
   "outputs": [
    {
     "data": {
      "text/latex": [
       "$\\displaystyle - \\sqrt{11}$"
      ],
      "text/plain": [
       "-sqrt(11)"
      ]
     },
     "metadata": {},
     "output_type": "display_data"
    }
   ],
   "source": [
    "primes_to_sympy('-1 0 0 0 0 1')"
   ]
  },
  {
   "cell_type": "code",
   "execution_count": null,
   "metadata": {},
   "outputs": [],
   "source": [
    "(2,1,1,3,3)"
   ]
  },
  {
   "cell_type": "code",
   "execution_count": null,
   "metadata": {},
   "outputs": [],
   "source": [
    " Ω = (W, S, MS, L, ML) # full address of row state"
   ]
  },
  {
   "cell_type": "code",
   "execution_count": null,
   "metadata": {},
   "outputs": [
    {
     "data": {
      "text/plain": [
       "0"
      ]
     },
     "metadata": {},
     "output_type": "display_data"
    }
   ],
   "source": [
    "to.paired_kron(1,1,2,3)"
   ]
  },
  {
   "cell_type": "code",
   "execution_count": null,
   "metadata": {},
   "outputs": [],
   "source": [
    "primes = [2,3,5,7,11,13,17,19,23,29,31]\n",
    "primes = list(map(sp.S, primes))"
   ]
  },
  {
   "cell_type": "code",
   "execution_count": null,
   "metadata": {},
   "outputs": [],
   "source": []
  },
  {
   "cell_type": "code",
   "execution_count": null,
   "metadata": {},
   "outputs": [],
   "source": [
    "all_c"
   ]
  },
  {
   "cell_type": "markdown",
   "metadata": {},
   "source": [
    "## One - Body Operators (using better CFPs) ugh i need to do this from scratch"
   ]
  },
  {
   "cell_type": "markdown",
   "metadata": {},
   "source": [
    "$\\hat{F}=\\sum_{i=1}^n \\hat{f}_i$\n",
    "\n",
    "For two determinantal states $|\\Omega'\\rangle$, $|\\Omega\\rangle$:\n",
    "\n",
    "$\\langle\\Omega|\\hat{F}|\\Omega'\\rangle = n \\sum_{\\Omega',\\omega,\\omega'} \\langle\\Omega|\\bar{\\Omega}\\omega\\rangle \\langle\\bar{\\Omega}{\\omega'}|{\\Omega'}\\rangle \\langle{\\omega_n}|{\\hat{f}_n}|\\omega_n'\\rangle$\n",
    "\n",
    "Where \n",
    "\n",
    "$\\langle\\Omega|\\bar{\\Omega}\\omega\\rangle$ are fractional parentage coefficients, \n",
    "\n",
    "sums over $\\omega$ is a sum over $m_l=-l,-l+1,...,l-1,l$ and $m_s=-1/2,1/2$,\n",
    "\n",
    "sum over $\\bar{\\Omega}$ is a sum over all the quantum numbers that define $l^{n-1}$ states, that is a sum over all $\\gamma,S,MS,L,ML$.\n",
    "\n",
    "As an example let's calculate the matrix elements of the one-body operator corresponding to the interaction of electrons with the charge of the nucleus. The result being trivial this allows for a simple sanity check."
   ]
  },
  {
   "cell_type": "markdown",
   "metadata": {},
   "source": [
    "Since the Coulomb repulsion involves no spin the sums over ω and ω' are only sums over ml and ml'."
   ]
  },
  {
   "cell_type": "markdown",
   "metadata": {},
   "source": [
    "A single particle operator will simply be a dictionary whose keys are (ml,ml')."
   ]
  },
  {
   "cell_type": "code",
   "execution_count": 11,
   "metadata": {},
   "outputs": [],
   "source": [
    "# l = 2\n",
    "# n = 2\n",
    "# HALF = sp.S(1)/2\n",
    "# f = odict()\n",
    "# for ml in [-2,-1,0,1,2]:\n",
    "#     for mlp in [-2,-1,0,1,2]:\n",
    "#         f[(ml,mlp)] = sp.randprime(1,15)"
   ]
  },
  {
   "cell_type": "markdown",
   "metadata": {},
   "source": [
    "The cfps are another dictionary whose keys are a 3-tuple (Ω'ω,Ω).\n",
    "\n",
    "For this 2-electron example we need to grab the CFPs that link two and three electrons."
   ]
  },
  {
   "cell_type": "code",
   "execution_count": 12,
   "metadata": {},
   "outputs": [],
   "source": [
    "# cfps = all_cfps[n]"
   ]
  },
  {
   "cell_type": "markdown",
   "metadata": {},
   "source": [
    "We also need to pin down the terms that correspond to this configuration. In this case the \"states\" can simply be labeled by their terms."
   ]
  },
  {
   "cell_type": "code",
   "execution_count": 13,
   "metadata": {},
   "outputs": [],
   "source": [
    "# Ωs = [term for term, _ in states[n]]"
   ]
  },
  {
   "cell_type": "markdown",
   "metadata": {},
   "source": [
    "The cpfs themselves define the ranges for the sum."
   ]
  },
  {
   "cell_type": "code",
   "execution_count": 14,
   "metadata": {},
   "outputs": [],
   "source": [
    "# Ωbs = [key.ket_term for key in cfps.keys()]\n",
    "# Ωbs = list(set(Ωbs))\n",
    "# Ωbs  "
   ]
  },
  {
   "cell_type": "code",
   "execution_count": 15,
   "metadata": {},
   "outputs": [],
   "source": [
    "# F = dict()\n",
    "# mls = [-2,-1,0,1,2]\n",
    "# # iterate over all combinations of Ωs, Ωs\n",
    "# cfps = all_cfps[n]\n",
    "# for Ω, Ωp in product(Ωs, Ωs):\n",
    "#     summands = []\n",
    "#     for Ωb in Ωbs:\n",
    "#         # in this example the CFPs don't depend\n",
    "#         # on ml or ml' so we might as well\n",
    "#         # summon them here\n",
    "#         fp0 = cfps[Cfp_template(Ω, Ωb)]\n",
    "#         fp1 = cfps[Cfp_template(Ωp, Ωb)]\n",
    "#         for ml, mlp in product(mls, mls):\n",
    "#             # summand = fp0*fp1*sp.Symbol('\\\\langle{ml=%d}|f|{ml\\'=%d}\\\\rangle' % (ml,mlp))\n",
    "#             if ml != mlp:\n",
    "#                 continue\n",
    "#             summand = fp0*fp1*sp.Symbol('E') #*sp.Symbol('\\\\langle{%d}|f|{%d}\\\\rangle' % (ml,mlp))\n",
    "#             summands.append(summand)\n",
    "#     F[(Ω, Ωp)] = n*sum(summands)\n",
    "# F[(Ω, Ωp)]"
   ]
  },
  {
   "cell_type": "code",
   "execution_count": 16,
   "metadata": {},
   "outputs": [],
   "source": [
    "# # parse CFPs\n",
    "\n",
    "# all_cfps = odict()\n",
    "# cfp_lines = open('./data/cfp.txt','r').read().split('\\n')\n",
    "\n",
    "# def parse_term(term_string):\n",
    "#     term_multi, term_L = int(term_string[0]), l_notation_switch(term_string[1])\n",
    "#     term_S = sp.S(term_multi-1)/2\n",
    "#     if len(term_string) == 2:\n",
    "#         term_idx = 1\n",
    "#     else:\n",
    "#         term_idx = int(term_string[2])\n",
    "#     return Term_label(term_S, term_L, term_idx)\n",
    "\n",
    "# for line_num, line in enumerate(cfp_lines):\n",
    "#     if line == '':\n",
    "#         continue\n",
    "#     if line[0] == \"#\":\n",
    "#         continue\n",
    "#     line = line.replace('\\t','')\n",
    "#     if line[0] == '-':\n",
    "#         # parsing a new stage\n",
    "#         stage = int(line[2])\n",
    "#         if stage not in all_cfps:\n",
    "#             all_cfps[stage] = odict()\n",
    "#     else:\n",
    "#         chunks = line.split(' ')\n",
    "#         offspring, parent = chunks[:2]\n",
    "#         acfp = primes_to_sympy(' '.join(chunks[2:]))\n",
    "#         offspring_term = parse_term(offspring)\n",
    "#         parent_term = parse_term(parent)\n",
    "#         all_cfps[stage][Cfp_template(offspring_term, parent_term)] = acfp"
   ]
  },
  {
   "cell_type": "code",
   "execution_count": 17,
   "metadata": {},
   "outputs": [],
   "source": [
    "from qdef import CFP_fun"
   ]
  },
  {
   "cell_type": "code",
   "execution_count": 37,
   "metadata": {},
   "outputs": [
    {
     "name": "stdout",
     "output_type": "stream",
     "text": [
      "Loading data for 1-body coefficients of fractional parentage...\n",
      "Loading data for 1-body coefficients of fractional parentage...\n"
     ]
    }
   ],
   "source": [
    "CFP_1 = CFP_fun(1)\n",
    "CFP_1_str = CFP_fun(1, string_notation=True)"
   ]
  },
  {
   "cell_type": "code",
   "execution_count": 38,
   "metadata": {},
   "outputs": [
    {
     "data": {
      "text/latex": [
       "$\\displaystyle \\frac{\\sqrt{30}}{10}$"
      ],
      "text/plain": [
       "sqrt(30)/10"
      ]
     },
     "metadata": {},
     "output_type": "display_data"
    }
   ],
   "source": [
    "display(CFP_1_str('d 4 5D1 4P1 2D1'))"
   ]
  },
  {
   "cell_type": "code",
   "execution_count": 74,
   "metadata": {},
   "outputs": [],
   "source": [
    "HALF = sp.S(1)/2\n",
    "\n",
    "@lru_cache(maxsize=None)\n",
    "def Ω_coeff(l, n, parent_qnums, ω, daughter_qnums):\n",
    "    '''\n",
    "    This function returns the coefficient\n",
    "    <lⁿ⁻¹ W* S* MS* L* ML*; l ms ml | lⁿW S MS L ML>\n",
    "    Parameters\n",
    "    ----------\n",
    "    n (int): number of electrons\n",
    "    Returns\n",
    "    -------\n",
    "\n",
    "    '''\n",
    "    s = HALF\n",
    "    Wb, Sb, MSb, Lb, MLb = parent_qnums\n",
    "    l, ms, ml = ω\n",
    "    W, S, MS, L, ML = daughter_qnums\n",
    "    # grab the cfp\n",
    "    parent1_term = (Sb, Lb, Wb)\n",
    "    parent2_term = (sp.S(1)/2, l, 1)\n",
    "    daughter_term = (n, S, L, W)\n",
    "    cfp_key = (l, n,\n",
    "               *daughter_term,\n",
    "               *parent1_term,\n",
    "               *parent2_term)\n",
    "\n",
    "    cfp = CFP_1(*cfp_key)\n",
    "    # Vector Coupling coeffs\n",
    "    vcS = to.VC_coeff((Sb,MSb,s,ms), (Sb, s, S, MS))\n",
    "    if vcS == 0:\n",
    "        return 0\n",
    "    vcL = to.VC_coeff((Lb,MLb,l,ml), (Lb, l, L, ML))\n",
    "    val = vcS * vcL * cfp\n",
    "    return val\n",
    "\n",
    "@lru_cache(maxsize=None)\n",
    "def mrange(j):\n",
    "    '''\n",
    "    Give a j get a list with corresponding mj.\n",
    "\n",
    "    Parameters\n",
    "    ----------\n",
    "    j  (int or half-int): angular momentum\n",
    "\n",
    "    Returns\n",
    "    -------\n",
    "    (list) [-j, -j+1, ..., j-1, j]\n",
    "    '''\n",
    "    # returns ranges that work for half integers\n",
    "    assert int(j*2) == 2*j, \"j should be integer or half-integer\"\n",
    "    assert j>=0, \"j should be non-negative\"\n",
    "    j = sp.S(int(2*j))/2\n",
    "    val = list((-j+i) for i in range(int(2*j+1)))\n",
    "    return val"
   ]
  },
  {
   "cell_type": "code",
   "execution_count": 75,
   "metadata": {},
   "outputs": [],
   "source": [
    "import pickle\n",
    "all_terms = pickle.load(open('./data/all_term_labels.pkl','rb'))"
   ]
  },
  {
   "cell_type": "code",
   "execution_count": 76,
   "metadata": {},
   "outputs": [
    {
     "ename": "KeyError",
     "evalue": "(3, 2, 2, 0, 0)",
     "output_type": "error",
     "traceback": [
      "\u001b[0;31m---------------------------------------------------------------------------\u001b[0m",
      "\u001b[0;31mKeyError\u001b[0m                                  Traceback (most recent call last)",
      "\u001b[0;32m<ipython-input-76-f005196a31ad>\u001b[0m in \u001b[0;36m<module>\u001b[0;34m\u001b[0m\n\u001b[1;32m     41\u001b[0m                     \u001b[0mmlp\u001b[0m\u001b[0;34m,\u001b[0m \u001b[0mmsp\u001b[0m \u001b[0;34m=\u001b[0m \u001b[0mml\u001b[0m\u001b[0;34m,\u001b[0m \u001b[0mms\u001b[0m\u001b[0;34m\u001b[0m\u001b[0;34m\u001b[0m\u001b[0m\n\u001b[1;32m     42\u001b[0m                     \u001b[0mnum_iters\u001b[0m \u001b[0;34m+=\u001b[0m \u001b[0;36m1\u001b[0m\u001b[0;34m\u001b[0m\u001b[0;34m\u001b[0m\u001b[0m\n\u001b[0;32m---> 43\u001b[0;31m                     \u001b[0mfp0\u001b[0m \u001b[0;34m=\u001b[0m \u001b[0mΩ_coeff\u001b[0m\u001b[0;34m(\u001b[0m\u001b[0ml\u001b[0m\u001b[0;34m,\u001b[0m \u001b[0mn\u001b[0m\u001b[0;34m,\u001b[0m \u001b[0mΩb\u001b[0m\u001b[0;34m,\u001b[0m \u001b[0;34m(\u001b[0m\u001b[0ml\u001b[0m\u001b[0;34m,\u001b[0m \u001b[0mms\u001b[0m\u001b[0;34m,\u001b[0m \u001b[0mml\u001b[0m\u001b[0;34m)\u001b[0m\u001b[0;34m,\u001b[0m \u001b[0mΩ\u001b[0m\u001b[0;34m)\u001b[0m\u001b[0;34m\u001b[0m\u001b[0;34m\u001b[0m\u001b[0m\n\u001b[0m\u001b[1;32m     44\u001b[0m                     \u001b[0;32mif\u001b[0m \u001b[0mfp0\u001b[0m \u001b[0;34m==\u001b[0m \u001b[0;36m0\u001b[0m\u001b[0;34m:\u001b[0m\u001b[0;34m\u001b[0m\u001b[0;34m\u001b[0m\u001b[0m\n\u001b[1;32m     45\u001b[0m                         \u001b[0;32mcontinue\u001b[0m\u001b[0;34m\u001b[0m\u001b[0;34m\u001b[0m\u001b[0m\n",
      "\u001b[0;32m<ipython-input-74-de716260bc3e>\u001b[0m in \u001b[0;36mΩ_coeff\u001b[0;34m(l, n, parent_qnums, ω, daughter_qnums)\u001b[0m\n\u001b[1;32m     26\u001b[0m                *parent2_term)\n\u001b[1;32m     27\u001b[0m \u001b[0;34m\u001b[0m\u001b[0m\n\u001b[0;32m---> 28\u001b[0;31m     \u001b[0mcfp\u001b[0m \u001b[0;34m=\u001b[0m \u001b[0mCFP_1\u001b[0m\u001b[0;34m(\u001b[0m\u001b[0;34m*\u001b[0m\u001b[0mcfp_key\u001b[0m\u001b[0;34m)\u001b[0m\u001b[0;34m\u001b[0m\u001b[0;34m\u001b[0m\u001b[0m\n\u001b[0m\u001b[1;32m     29\u001b[0m     \u001b[0;31m# Vector Coupling coeffs\u001b[0m\u001b[0;34m\u001b[0m\u001b[0;34m\u001b[0m\u001b[0;34m\u001b[0m\u001b[0m\n\u001b[1;32m     30\u001b[0m     \u001b[0mvcS\u001b[0m \u001b[0;34m=\u001b[0m \u001b[0mto\u001b[0m\u001b[0;34m.\u001b[0m\u001b[0mVC_coeff\u001b[0m\u001b[0;34m(\u001b[0m\u001b[0;34m(\u001b[0m\u001b[0mSb\u001b[0m\u001b[0;34m,\u001b[0m\u001b[0mMSb\u001b[0m\u001b[0;34m,\u001b[0m\u001b[0ms\u001b[0m\u001b[0;34m,\u001b[0m\u001b[0mms\u001b[0m\u001b[0;34m)\u001b[0m\u001b[0;34m,\u001b[0m \u001b[0;34m(\u001b[0m\u001b[0mSb\u001b[0m\u001b[0;34m,\u001b[0m \u001b[0ms\u001b[0m\u001b[0;34m,\u001b[0m \u001b[0mS\u001b[0m\u001b[0;34m,\u001b[0m \u001b[0mMS\u001b[0m\u001b[0;34m)\u001b[0m\u001b[0;34m)\u001b[0m\u001b[0;34m\u001b[0m\u001b[0;34m\u001b[0m\u001b[0m\n",
      "\u001b[0;32m~/ZiaLab/Codebase/qdef/qdef.py\u001b[0m in \u001b[0;36mfun\u001b[0;34m(l, n, S, L, W, S_p, L_p, W_p, S_pp, L_pp, W_pp, fill_missing)\u001b[0m\n\u001b[1;32m    123\u001b[0m                 \u001b[0;32mreturn\u001b[0m \u001b[0mfun\u001b[0m\u001b[0;34m.\u001b[0m\u001b[0mdata\u001b[0m\u001b[0;34m[\u001b[0m\u001b[0mkey\u001b[0m\u001b[0;34m]\u001b[0m\u001b[0;34m\u001b[0m\u001b[0;34m\u001b[0m\u001b[0m\n\u001b[1;32m    124\u001b[0m             \u001b[0;32melse\u001b[0m\u001b[0;34m:\u001b[0m  \u001b[0;31m# Case II\u001b[0m\u001b[0;34m\u001b[0m\u001b[0;34m\u001b[0m\u001b[0m\n\u001b[0;32m--> 125\u001b[0;31m                 \u001b[0mν\u001b[0m    \u001b[0;34m=\u001b[0m \u001b[0mseniority_dict\u001b[0m\u001b[0;34m[\u001b[0m\u001b[0;34m(\u001b[0m\u001b[0ml\u001b[0m\u001b[0;34m,\u001b[0m \u001b[0mn\u001b[0m\u001b[0;34m,\u001b[0m    \u001b[0mS\u001b[0m\u001b[0;34m,\u001b[0m    \u001b[0mL\u001b[0m\u001b[0;34m,\u001b[0m    \u001b[0mW\u001b[0m\u001b[0;34m)\u001b[0m\u001b[0;34m]\u001b[0m\u001b[0;34m\u001b[0m\u001b[0;34m\u001b[0m\u001b[0m\n\u001b[0m\u001b[1;32m    126\u001b[0m                 \u001b[0mν_p\u001b[0m  \u001b[0;34m=\u001b[0m \u001b[0mseniority_dict\u001b[0m\u001b[0;34m[\u001b[0m\u001b[0;34m(\u001b[0m\u001b[0ml\u001b[0m\u001b[0;34m,\u001b[0m \u001b[0mn_p\u001b[0m\u001b[0;34m,\u001b[0m  \u001b[0mS_p\u001b[0m\u001b[0;34m,\u001b[0m  \u001b[0mL_p\u001b[0m\u001b[0;34m,\u001b[0m  \u001b[0mW_p\u001b[0m\u001b[0;34m)\u001b[0m\u001b[0;34m]\u001b[0m\u001b[0;34m\u001b[0m\u001b[0;34m\u001b[0m\u001b[0m\n\u001b[1;32m    127\u001b[0m                 \u001b[0mν_pp\u001b[0m \u001b[0;34m=\u001b[0m \u001b[0mseniority_dict\u001b[0m\u001b[0;34m[\u001b[0m\u001b[0;34m(\u001b[0m\u001b[0ml\u001b[0m\u001b[0;34m,\u001b[0m \u001b[0mn_pp\u001b[0m\u001b[0;34m,\u001b[0m \u001b[0mS_pp\u001b[0m\u001b[0;34m,\u001b[0m \u001b[0mL_pp\u001b[0m\u001b[0;34m,\u001b[0m \u001b[0mW_pp\u001b[0m\u001b[0;34m)\u001b[0m\u001b[0;34m]\u001b[0m\u001b[0;34m\u001b[0m\u001b[0;34m\u001b[0m\u001b[0m\n",
      "\u001b[0;31mKeyError\u001b[0m: (3, 2, 2, 0, 0)"
     ]
    }
   ],
   "source": [
    "l = 3\n",
    "n = 2\n",
    "mls = mrange(l)\n",
    "HALF = sp.S(1)/2\n",
    "\n",
    "terms = all_terms[(all_terms['l'] == l) & (all_terms['n'] == n)][['S','L','idx']].to_records(index=False)\n",
    "terms = list(terms)\n",
    "\n",
    "term_bar_s = all_terms[(all_terms['l'] == l) & (all_terms['n'] == (n-1))][['S','L','idx']].to_records(index=False)\n",
    "term_bar_s = list(term_bar_s)\n",
    "\n",
    "F = dict()\n",
    "Ms_s = [-HALF, HALF]\n",
    "printed = []\n",
    "num_iters = 0\n",
    "\n",
    "for term_row, term_col in product(terms, terms): # loop over the terms for rows and columns\n",
    "    S, L, W = term_row # unpack term_row\n",
    "    Sp, Lp, Wp = term_col # unpack term_col\n",
    "    # make the ranges for ML, MLp, MS, MSp\n",
    "    # ML_s, MLp_s = mrange(L), mrange(Lp)\n",
    "    # MS_s, MSp_s = mrange(S), mrange(Sp)\n",
    "    # A shortcut\n",
    "    ML_s, MLp_s = [L], [Lp]\n",
    "    MS_s, MSp_s = [S], [Sp]\n",
    "    for MS, ML, MSp, MLp in product(MS_s, ML_s, MSp_s, MLp_s): # this loops over the enclosed states\n",
    "        Ω = (W, S, MS, L, ML) # full address of row state\n",
    "        Ωp = (Wp, Sp, MSp, Lp, MLp) # full address of col state\n",
    "        # Shortcircuit debug\n",
    "        # if Ω != (1, 0, 0, 6, 6) :\n",
    "        #     continue\n",
    "        # if Ωp != (2, 0, 0, 6, 6) :\n",
    "        #     continue\n",
    "        summands = []\n",
    "        for term_bar in term_bar_s: # this iterates over the terms of lⁿ⁻¹\n",
    "            Sb, Lb, Wb = term_bar # unpack term_bar\n",
    "            MSb_s, MLb_s = mrange(Sb), mrange(Lb)\n",
    "            for MSb, MLb in product(MSb_s, MLb_s):\n",
    "                Ωb = (Wb, Sb, MSb, Lb, MLb) # full address of an lⁿ⁻¹ state\n",
    "                for ml, ms in product(mls, Ms_s): # Σ ω, ωp assumming δ(ml,mlp)δ(ms,msp)\n",
    "                    mlp, msp = ml, ms\n",
    "                    num_iters += 1\n",
    "                    fp0 = Ω_coeff(l, n, Ωb, (l, ms, ml), Ω)\n",
    "                    if fp0 == 0:\n",
    "                        continue\n",
    "                    fp1 = Ω_coeff(l, n, Ωb, (l, msp, mlp), Ωp)\n",
    "                    if fp1 == 0:\n",
    "                        continue\n",
    "                    # printout = '(%d%s%d-%d%s%d)(%d%s%d-%d%s%d)' % (Ω[1]*2+1, l_notation_switch(Ω[3]).upper(), Ω[0], Ωb[1]*2+1, l_notation_switch(Ωb[3]).upper(),Ωb[0], Ωp[1]*2+1, l_notation_switch(Ωp[3]).upper(), Ωp[0], Ωb[1]*2+1, l_notation_switch(Ωb[3]).upper(),Ωb[0])\n",
    "                    # if printout not in printed:\n",
    "                    #     print(printout)\n",
    "                    #     printed.append(printout)\n",
    "                    summand = fp0 * fp1 * sp.Symbol('E') # * sp.Symbol(printout)\n",
    "                    summands.append(summand)\n",
    "        F[(Ω, Ωp)] = n*sum(summands)\n",
    "        if F[(Ω, Ωp)] != 0:\n",
    "            if F[(Ω, Ωp)] != n*sp.Symbol('E'):\n",
    "                print(Ω, Ωp)\n",
    "                display(F[(Ω, Ωp)])\n",
    "print(set(F.values()))\n"
   ]
  },
  {
   "cell_type": "code",
   "execution_count": 63,
   "metadata": {},
   "outputs": [
    {
     "name": "stdout",
     "output_type": "stream",
     "text": [
      "\u001b[0;31mSignature:\u001b[0m \u001b[0mCFP_1\u001b[0m\u001b[0;34m(\u001b[0m\u001b[0ml\u001b[0m\u001b[0;34m,\u001b[0m \u001b[0mn\u001b[0m\u001b[0;34m,\u001b[0m \u001b[0mS\u001b[0m\u001b[0;34m,\u001b[0m \u001b[0mL\u001b[0m\u001b[0;34m,\u001b[0m \u001b[0mW\u001b[0m\u001b[0;34m,\u001b[0m \u001b[0mS_p\u001b[0m\u001b[0;34m,\u001b[0m \u001b[0mL_p\u001b[0m\u001b[0;34m,\u001b[0m \u001b[0mW_p\u001b[0m\u001b[0;34m,\u001b[0m \u001b[0mS_pp\u001b[0m\u001b[0;34m,\u001b[0m \u001b[0mL_pp\u001b[0m\u001b[0;34m,\u001b[0m \u001b[0mW_pp\u001b[0m\u001b[0;34m,\u001b[0m \u001b[0mfill_missing\u001b[0m\u001b[0;34m=\u001b[0m\u001b[0;32mFalse\u001b[0m\u001b[0;34m)\u001b[0m\u001b[0;34m\u001b[0m\u001b[0;34m\u001b[0m\u001b[0m\n",
      "\u001b[0;31mDocstring:\u001b[0m\n",
      "Returns the 1-body coefficient of fractional parentage.  If\n",
      "coefficient  is  physical  but  not immediately available, a series of\n",
      "identities are tried out to see if it can be computed thus.\n",
      "\n",
      "Parameters\n",
      "----------\n",
      "l (int): orbital angular momentum of constituent electrons\n",
      "n (int): how many electrons in configuration\n",
      "S (half-int or int): S of daughter\n",
      "L (int): L of daughter\n",
      "W (int): index of daughter\n",
      "S_p (half-int or int): S of parent_1\n",
      "L_p (int): L of parent_1\n",
      "W_p (int): index of parent_1\n",
      "S_pp (half-int or int): S of parent_2\n",
      "L_pp (int): L of parent_2\n",
      "W_pp (int): index of parent_2\n",
      "fill_missing (bool): if True then 0 is returned for key not found, unsafe.\n",
      "\n",
      "Returns\n",
      "-------\n",
      "CFP (sp.S): symbolic expression for coefficent of fractional parentage\n",
      "\u001b[0;31mFile:\u001b[0m      ~/ZiaLab/Codebase/qdef/qdef.py\n",
      "\u001b[0;31mType:\u001b[0m      function\n"
     ]
    }
   ],
   "source": [
    "CFP_1?"
   ]
  },
  {
   "cell_type": "code",
   "execution_count": null,
   "metadata": {},
   "outputs": [
    {
     "name": "stdout",
     "output_type": "stream",
     "text": [
      "[1, -3, 3, 0, -1, 0, -1]\n",
      "[1, 0, 1, 0, -1, -1]\n",
      "[1, -6, 2, 2, -1, -1, -1, 1]\n",
      "[-1, -6, -4, -1, -1, 0, -1, 1]\n",
      "[-1, -5, 0, -1, 1, -1]\n",
      "[1, -1, 1, -2, 3, -1, -1]\n",
      "[1, -5, 0, -2, 1, 0, -1]\n",
      "[-1, -1, 0, 2, -1, -1]\n",
      "[-1, -3, 1, -2, -1, 0, -1, 0, 0, 0, 2]\n"
     ]
    }
   ],
   "source": [
    "data = '''1.330.10.1\n",
    "1010.1.1\n",
    "1.622.1.1.11\n",
    ".1.6.4.1.10.11\n",
    ".1.50.11.1\n",
    "1.11.23.1.1\n",
    "1.50.210.1\n",
    ".1.102.1.1\n",
    ".1.31.2.10.10002'''\n",
    "dlines = data.split('\\n')\n",
    "for dline in dlines:\n",
    "    print(splitter(dline))"
   ]
  },
  {
   "cell_type": "code",
   "execution_count": null,
   "metadata": {},
   "outputs": [
    {
     "data": {
      "text/plain": [
       "{0, 5*E}"
      ]
     },
     "metadata": {},
     "output_type": "display_data"
    }
   ],
   "source": [
    "set(F.values())"
   ]
  },
  {
   "cell_type": "code",
   "execution_count": null,
   "metadata": {},
   "outputs": [],
   "source": [
    "for key, val in F.items():\n",
    "    if val not in [0,4*sp.Symbol('E')]:\n",
    "        print(key,val)"
   ]
  },
  {
   "cell_type": "code",
   "execution_count": null,
   "metadata": {},
   "outputs": [
    {
     "data": {
      "text/plain": [
       "{0, 4*E}"
      ]
     },
     "metadata": {},
     "output_type": "display_data"
    }
   ],
   "source": [
    "set(F.values())"
   ]
  },
  {
   "cell_type": "code",
   "execution_count": null,
   "metadata": {},
   "outputs": [
    {
     "data": {
      "text/latex": [
       "$\\displaystyle - \\sqrt{11}$"
      ],
      "text/plain": [
       "-sqrt(11)"
      ]
     },
     "metadata": {},
     "output_type": "display_data"
    }
   ],
   "source": [
    "primes_to_sympy('-1 0 0 0 0 1')"
   ]
  },
  {
   "cell_type": "code",
   "execution_count": null,
   "metadata": {},
   "outputs": [],
   "source": [
    "(2,1,1,3,3)"
   ]
  },
  {
   "cell_type": "code",
   "execution_count": null,
   "metadata": {},
   "outputs": [],
   "source": [
    " Ω = (W, S, MS, L, ML) # full address of row state"
   ]
  },
  {
   "cell_type": "code",
   "execution_count": null,
   "metadata": {},
   "outputs": [
    {
     "data": {
      "text/plain": [
       "0"
      ]
     },
     "metadata": {},
     "output_type": "display_data"
    }
   ],
   "source": [
    "to.paired_kron(1,1,2,3)"
   ]
  },
  {
   "cell_type": "code",
   "execution_count": null,
   "metadata": {},
   "outputs": [],
   "source": [
    "primes = [2,3,5,7,11,13,17,19,23,29,31]\n",
    "primes = list(map(sp.S, primes))"
   ]
  },
  {
   "cell_type": "markdown",
   "metadata": {},
   "source": [
    "## One - Body Operators (using better CFPs)"
   ]
  },
  {
   "cell_type": "code",
   "execution_count": 1,
   "metadata": {},
   "outputs": [],
   "source": [
    "import pickle\n",
    "all_terms = pickle.load(open('./data/all_term_labels.pkl','rb'))"
   ]
  },
  {
   "cell_type": "code",
   "execution_count": 198,
   "metadata": {},
   "outputs": [
    {
     "name": "stdout",
     "output_type": "stream",
     "text": [
      "Reloading /Users/juan/ZiaLab/Codebase/qdef/data/CPGs.pkl ...\n"
     ]
    }
   ],
   "source": [
    "from qdef import CFP_fun"
   ]
  },
  {
   "cell_type": "code",
   "execution_count": 199,
   "metadata": {},
   "outputs": [
    {
     "name": "stdout",
     "output_type": "stream",
     "text": [
      "Loading data for 1-body coefficients of fractional parentage...\n",
      "Loading data for 1-body coefficients of fractional parentage...\n"
     ]
    }
   ],
   "source": [
    "CFP_1 = CFP_fun(1)\n",
    "CFP_1_str = CFP_fun(1, string_notation=True)"
   ]
  },
  {
   "cell_type": "code",
   "execution_count": 200,
   "metadata": {},
   "outputs": [],
   "source": [
    "# def Ω_coeff(l, n, parent_qnums, ω, offspring_qnums):\n",
    "#     '''\n",
    "#     This function returns the coefficient\n",
    "#     <lⁿ⁻¹ W* S* MS* L* ML*; l ms ml | lⁿW S MS L ML>\n",
    "#     Parameters\n",
    "#     ----------\n",
    "#     n (int): number of electrons\n",
    "#     Returns\n",
    "#     -------\n",
    "\n",
    "#     '''\n",
    "#     s = HALF\n",
    "#     Wb, Sb, MSb, Lb, MLb = parent_qnums\n",
    "#     l, ms, ml = ω\n",
    "#     W, S, MS, L, ML = offspring_qnums\n",
    "#     # grab the cfp\n",
    "#     parent_term = Term_label(Sb, Lb, Wb)\n",
    "#     offspring_term = Term_label(S, L, W)\n",
    "#     cfp_key = Cfp_template(offspring_term, parent_term)\n",
    "#     if cfp_key not in all_cfps[(l,n)]:\n",
    "#         return 0\n",
    "#     cfp = all_cfps[(l,n)][cfp_key]\n",
    "#     # Vector Coupling coeffs\n",
    "#     vcS = to.VC_coeff((Sb,MSb,s,ms), (Sb, s, S, MS))\n",
    "#     if vcS == 0:\n",
    "#         return 0\n",
    "#     vcL = to.VC_coeff((Lb,MLb,l,ml), (Lb, l, L, ML))\n",
    "#     val = vcS * vcL * cfp\n",
    "#     if val:\n",
    "#         print(vcS, vcL, cfp)\n",
    "#     return val"
   ]
  },
  {
   "cell_type": "code",
   "execution_count": 213,
   "metadata": {},
   "outputs": [],
   "source": [
    "HALF = sp.S(1)/2\n",
    "\n",
    "@lru_cache(maxsize=None)\n",
    "def Ω_coeff(l, n, Ω, Ωp_1, Ωp_2):\n",
    "    '''\n",
    "    This function returns the coefficient\n",
    "    <lⁿ⁻¹ W* S* MS* L* ML*; l ms ml | lⁿW S MS L ML>\n",
    "    Parameters\n",
    "    ----------\n",
    "    n (int): number of electrons\n",
    "    Returns\n",
    "    -------\n",
    "    '''\n",
    "    (W,    S,    MS,    L,    ML)    = Ω # daughter\n",
    "    (W_p,  S_p,  MS_p,  L_p,  ML_p)  = Ωp_1 # parent1\n",
    "    (W_pp, S_pp, MS_pp, L_pp, ML_pp) = Ωp_2 # parent2\n",
    "    cfp_args = (l, n,\n",
    "               S,    L,    W, # daughter term\n",
    "               S_p,  L_p,  W_p, # parent1 term\n",
    "               S_pp, L_pp, W_pp) # parent2 term\n",
    "    # Vector Coupling coeffs\n",
    "    vcS = to.VC_coeff((S_p, MS_p, S_pp, MS_pp), \n",
    "                      (S_p, S_pp, S,    MS))\n",
    "    if vcS == 0:\n",
    "        return 0\n",
    "    \n",
    "    vcL = to.VC_coeff((L_p, ML_p,  L_pp, ML_pp), \n",
    "                      (L_p, L_pp, L,    ML))\n",
    "    if vcL == 0:\n",
    "        return 0\n",
    "    \n",
    "    cfp = CFP_1(*cfp_args, True)\n",
    "    if cfp == 0:\n",
    "        return 0\n",
    "    val = vcS * vcL * cfp\n",
    "    return val\n",
    "\n",
    "@lru_cache(maxsize=None)\n",
    "def mrange(j):\n",
    "    '''\n",
    "    Give a j get a list with corresponding mj.\n",
    "\n",
    "    Parameters\n",
    "    ----------\n",
    "    j  (int or half-int): angular momentum\n",
    "\n",
    "    Returns\n",
    "    -------\n",
    "    (list) [-j, -j+1, ..., j-1, j]\n",
    "    '''\n",
    "    # returns ranges that work for half integers\n",
    "    assert int(j*2) == 2*j, \"j should be integer or half-integer\"\n",
    "    assert j>=0, \"j should be non-negative\"\n",
    "    j = sp.S(int(2*j))/2\n",
    "    val = list((-j+i) for i in range(int(2*j+1)))\n",
    "    return val"
   ]
  },
  {
   "cell_type": "code",
   "execution_count": 214,
   "metadata": {},
   "outputs": [],
   "source": [
    "from sympy.physics.wigner import wigner_3j\n",
    "def w3j(j1, j2, j3, m1, m2, m3):\n",
    "    return wigner_3j(j1, j2, j3, m1, m2, m3)"
   ]
  },
  {
   "cell_type": "code",
   "execution_count": 215,
   "metadata": {},
   "outputs": [],
   "source": [
    "def VC_coeff(bra,ket):\n",
    "    '''\n",
    "    REF: Judd 1-22\n",
    "    '''\n",
    "    j1, m1, j2, m2 = bra\n",
    "    j1, j2, j3, m3 = ket\n",
    "    phase = phaser(j1,-j2,m3)\n",
    "    return sp.sqrt(2*j3+1) * phase * w3j(j1,j2,j3,m1,m2,-m3)\n",
    "\n",
    "def phaser(*parts):\n",
    "    '''\n",
    "    returns (-1)**(sum(parts))\n",
    "    '''\n",
    "    total_exponent = sum(parts)\n",
    "    if total_exponent % 2 == 0:\n",
    "        return 1\n",
    "    else:\n",
    "        return -1"
   ]
  },
  {
   "cell_type": "code",
   "execution_count": 219,
   "metadata": {},
   "outputs": [
    {
     "name": "stdout",
     "output_type": "stream",
     "text": [
      "{0, 4*E}\n"
     ]
    }
   ],
   "source": [
    "l, n = 3, 4\n",
    "mls = mrange(l)\n",
    "HALF = sp.S(1)/2\n",
    "\n",
    "terms = all_terms[(all_terms['l'] == l) & (all_terms['n'] == n)][['S','L','idx']].to_records(index=False)\n",
    "terms = list(terms)\n",
    "\n",
    "term_bar_s = all_terms[(all_terms['l'] == l) & (all_terms['n'] == (n-1))][['S','L','idx']].to_records(index=False)\n",
    "term_bar_s = list(term_bar_s)\n",
    "\n",
    "F = dict()\n",
    "Ms_s = [-HALF, HALF]\n",
    "printed = []\n",
    "\n",
    "\n",
    "for term_row, term_col in product(terms, terms): # loop over the terms for rows and columns\n",
    "    S, L, W = term_row # unpack term_row\n",
    "    Sp, Lp, Wp = term_col # unpack term_col\n",
    "    # make the ranges for ML, MLp, MS, MSp\n",
    "    # ML_s, MLp_s = mrange(L), mrange(Lp)\n",
    "    # MS_s, MSp_s = mrange(S), mrange(Sp)\n",
    "    # A shortcut\n",
    "    ML_s, MLp_s = [L], [Lp]\n",
    "    MS_s, MSp_s = [S], [Sp]\n",
    "    for MS, ML, MSp, MLp in product(MS_s, ML_s, MSp_s, MLp_s): # this loops over the enclosed states\n",
    "        Ω = (W, S, MS, L, ML) # full address of row state\n",
    "        Ωp = (Wp, Sp, MSp, Lp, MLp) # full address of col state\n",
    "        # if Ω != (1, 0, 0, 0, 0):\n",
    "        #     continue\n",
    "        # if Ωp != (1, 0, 0, 0, 0):\n",
    "        #     continue\n",
    "        summands = []\n",
    "        num_iters = 0\n",
    "        for term_bar in term_bar_s: # this iterates over the terms of lⁿ⁻¹\n",
    "            Sb, Lb, Wb = term_bar # unpack term_bar\n",
    "            MSb_s, MLb_s = mrange(Sb), mrange(Lb)\n",
    "            for MSb, MLb in product(MSb_s, MLb_s):\n",
    "                Ωb = (Wb, Sb, MSb, Lb, MLb) # full address of an lⁿ⁻¹ state\n",
    "                for ml, ms in product(mls, Ms_s): # Σ ω, ωp assumming δ(ml,mlp)δ(ms,msp)\n",
    "                    mlp, msp = ml, ms\n",
    "                    num_iters += 1\n",
    "                    # print(ms,ml)\n",
    "                    ω =  (1, HALF, ms, l, ml)\n",
    "                    ωp = (1, HALF, msp, l, mlp)\n",
    "                    fp0 = Ω_coeff(l, n, Ω, Ωb, ω)\n",
    "                    # if fp0 == 0:\n",
    "                    #     continue\n",
    "                    fp1 = Ω_coeff(l, n, Ωp, Ωb, ωp)\n",
    "                    # if fp1 == 0:\n",
    "                    #     continue\n",
    "                    # printout = '(%d%s%d-%d%s%d)(%d%s%d-%d%s%d)' % (Ω[1]*2+1, l_notation_switch(int(Ω[3])).upper(), Ω[0], Ωb[1]*2+1, l_notation_switch(int(Ωb[3])).upper(),Ωb[0], Ωp[1]*2+1, l_notation_switch(int(Ωp[3])).upper(), Ωp[0], Ωb[1]*2+1, l_notation_switch(int(Ωb[3])).upper(),Ωb[0])\n",
    "                    # if printout not in printed:\n",
    "                    #     print(printout)\n",
    "                    #     printed.append(printout)\n",
    "                    summand = fp0 * fp1 * sp.Symbol('E') # * sp.Symbol(printout)\n",
    "                    summands.append(summand)\n",
    "        F[(Ω, Ωp)] = n*sum(summands)\n",
    "        if F[(Ω, Ωp)] != 0:\n",
    "            if F[(Ω, Ωp)] != n*sp.Symbol('E'):\n",
    "                print(Ω, Ωp)\n",
    "                display(F[(Ω, Ωp)])\n",
    "print(set(F.values()))\n"
   ]
  },
  {
   "cell_type": "code",
   "execution_count": 112,
   "metadata": {},
   "outputs": [
    {
     "data": {
      "text/plain": [
       "'s'"
      ]
     },
     "execution_count": 112,
     "metadata": {},
     "output_type": "execute_result"
    }
   ],
   "source": [
    "l_notation_switch(0)"
   ]
  },
  {
   "cell_type": "code",
   "execution_count": 111,
   "metadata": {},
   "outputs": [
    {
     "data": {
      "text/plain": [
       "0"
      ]
     },
     "execution_count": 111,
     "metadata": {},
     "output_type": "execute_result"
    }
   ],
   "source": [
    "Ω[3]"
   ]
  },
  {
   "cell_type": "code",
   "execution_count": 114,
   "metadata": {},
   "outputs": [
    {
     "data": {
      "text/plain": [
       "'s'"
      ]
     },
     "execution_count": 114,
     "metadata": {},
     "output_type": "execute_result"
    }
   ],
   "source": [
    "l_notation_switch(int(Ω[3]))"
   ]
  },
  {
   "cell_type": "code",
   "execution_count": null,
   "metadata": {},
   "outputs": [
    {
     "name": "stdout",
     "output_type": "stream",
     "text": [
      "[1, -3, 3, 0, -1, 0, -1]\n",
      "[1, 0, 1, 0, -1, -1]\n",
      "[1, -6, 2, 2, -1, -1, -1, 1]\n",
      "[-1, -6, -4, -1, -1, 0, -1, 1]\n",
      "[-1, -5, 0, -1, 1, -1]\n",
      "[1, -1, 1, -2, 3, -1, -1]\n",
      "[1, -5, 0, -2, 1, 0, -1]\n",
      "[-1, -1, 0, 2, -1, -1]\n",
      "[-1, -3, 1, -2, -1, 0, -1, 0, 0, 0, 2]\n"
     ]
    }
   ],
   "source": [
    "data = '''1.330.10.1\n",
    "1010.1.1\n",
    "1.622.1.1.11\n",
    ".1.6.4.1.10.11\n",
    ".1.50.11.1\n",
    "1.11.23.1.1\n",
    "1.50.210.1\n",
    ".1.102.1.1\n",
    ".1.31.2.10.10002'''\n",
    "dlines = data.split('\\n')\n",
    "for dline in dlines:\n",
    "    print(splitter(dline))"
   ]
  },
  {
   "cell_type": "code",
   "execution_count": null,
   "metadata": {},
   "outputs": [
    {
     "data": {
      "text/plain": [
       "{0, 5*E}"
      ]
     },
     "metadata": {},
     "output_type": "display_data"
    }
   ],
   "source": [
    "set(F.values())"
   ]
  },
  {
   "cell_type": "code",
   "execution_count": null,
   "metadata": {},
   "outputs": [],
   "source": [
    "for key, val in F.items():\n",
    "    if val not in [0,4*sp.Symbol('E')]:\n",
    "        print(key,val)"
   ]
  },
  {
   "cell_type": "code",
   "execution_count": null,
   "metadata": {},
   "outputs": [
    {
     "data": {
      "text/plain": [
       "{0, 4*E}"
      ]
     },
     "metadata": {},
     "output_type": "display_data"
    }
   ],
   "source": [
    "set(F.values())"
   ]
  },
  {
   "cell_type": "code",
   "execution_count": null,
   "metadata": {},
   "outputs": [
    {
     "data": {
      "text/latex": [
       "$\\displaystyle - \\sqrt{11}$"
      ],
      "text/plain": [
       "-sqrt(11)"
      ]
     },
     "metadata": {},
     "output_type": "display_data"
    }
   ],
   "source": [
    "primes_to_sympy('-1 0 0 0 0 1')"
   ]
  },
  {
   "cell_type": "code",
   "execution_count": null,
   "metadata": {},
   "outputs": [],
   "source": [
    "(2,1,1,3,3)"
   ]
  },
  {
   "cell_type": "code",
   "execution_count": null,
   "metadata": {},
   "outputs": [],
   "source": [
    " Ω = (W, S, MS, L, ML) # full address of row state"
   ]
  },
  {
   "cell_type": "code",
   "execution_count": null,
   "metadata": {},
   "outputs": [
    {
     "data": {
      "text/plain": [
       "0"
      ]
     },
     "metadata": {},
     "output_type": "display_data"
    }
   ],
   "source": [
    "to.paired_kron(1,1,2,3)"
   ]
  },
  {
   "cell_type": "code",
   "execution_count": null,
   "metadata": {},
   "outputs": [],
   "source": [
    "primes = [2,3,5,7,11,13,17,19,23,29,31]\n",
    "primes = list(map(sp.S, primes))"
   ]
  },
  {
   "cell_type": "code",
   "execution_count": null,
   "metadata": {},
   "outputs": [],
   "source": []
  },
  {
   "cell_type": "markdown",
   "metadata": {},
   "source": [
    "## Tensorops.py"
   ]
  },
  {
   "cell_type": "code",
   "execution_count": 1,
   "metadata": {},
   "outputs": [
    {
     "name": "stdout",
     "output_type": "stream",
     "text": [
      "Reloading /Users/juan/ZiaLab/Codebase/qdef/data/CPGs.pkl ...\n",
      "Loading data for 1-body coefficients of fractional parentage...\n"
     ]
    }
   ],
   "source": [
    "%load_ext autoreload\n",
    "%autoreload 2\n",
    "from tensorops import *"
   ]
  },
  {
   "cell_type": "code",
   "execution_count": 11,
   "metadata": {},
   "outputs": [
    {
     "name": "stdout",
     "output_type": "stream",
     "text": [
      "{0}\n"
     ]
    }
   ],
   "source": [
    "l, n = 2, 1\n",
    "mls = mrange(l)\n",
    "\n",
    "terms = all_terms[(all_terms['l'] == l) & (all_terms['n'] == n)][['S','L','idx']].to_records(index=False)\n",
    "terms = list(terms)\n",
    "\n",
    "term_bar_s = all_terms[(all_terms['l'] == l) & (all_terms['n'] == (n-1))][['S','L','idx']].to_records(index=False)\n",
    "term_bar_s = list(term_bar_s)\n",
    "\n",
    "F = dict()\n",
    "Ms_s = [-HALF, HALF]\n",
    "printed = []\n",
    "\n",
    "for term_row, term_col in product(terms, terms): # loop over the terms for rows and columns\n",
    "    S, L, W = term_row # unpack term_row\n",
    "    Sp, Lp, Wp = term_col # unpack term_col\n",
    "    # make the ranges for ML, MLp, MS, MSp\n",
    "    # ML_s, MLp_s = mrange(L), mrange(Lp)\n",
    "    # MS_s, MSp_s = mrange(S), mrange(Sp)\n",
    "    # A shortcut\n",
    "    ML_s, MLp_s = [L], [Lp]\n",
    "    MS_s, MSp_s = [S], [Sp]\n",
    "    for MS, ML, MSp, MLp in product(MS_s, ML_s, MSp_s, MLp_s): # this loops over the enclosed states\n",
    "        Ω  = (W,  S,  MS,  L,  ML) # full address of row state\n",
    "        Ωp = (Wp, Sp, MSp, Lp, MLp) # full address of col state\n",
    "        # Debug shortcircuit\n",
    "        # if Ω != (1, 0, 0, 0, 0):\n",
    "        #     continue\n",
    "        # if Ωp != (1, 0, 0, 0, 0):\n",
    "        #     continue\n",
    "        if Ω != Ωp:\n",
    "            continue\n",
    "        summands = []\n",
    "        num_iters = 0\n",
    "        for term_bar in term_bar_s: # this iterates over the terms of lⁿ⁻¹\n",
    "            Sb, Lb, Wb = term_bar # unpack term_bar\n",
    "            MSb_s, MLb_s = mrange(Sb), mrange(Lb)\n",
    "            for MSb, MLb in product(MSb_s, MLb_s):\n",
    "                Ωb = (Wb, Sb, MSb, Lb, MLb) # full address of an lⁿ⁻¹ state\n",
    "                for ml, ms in product(mls, Ms_s): # Σ ω, ωp assumming δ(ml,mlp)δ(ms,msp)\n",
    "                    mlp, msp = ml, ms\n",
    "                    num_iters += 1\n",
    "                    # print(ms,ml)\n",
    "                    ω =  (1, HALF, ms,  l, ml)\n",
    "                    ωp = (1, HALF, msp, l, mlp)\n",
    "                    fp0 = Ω_coeff(l, n, Ω, Ωb, ω)\n",
    "                    if fp0 == 0:\n",
    "                        continue\n",
    "                    fp1 = Ω_coeff(l, n, Ωp, Ωb, ωp)\n",
    "                    if fp1 == 0:\n",
    "                        continue\n",
    "                    # printout = '(%d%s%d-%d%s%d)(%d%s%d-%d%s%d)' % (Ω[1]*2+1, l_notation_switch(int(Ω[3])).upper(), Ω[0], Ωb[1]*2+1, l_notation_switch(int(Ωb[3])).upper(),Ωb[0], Ωp[1]*2+1, l_notation_switch(int(Ωp[3])).upper(), Ωp[0], Ωb[1]*2+1, l_notation_switch(int(Ωb[3])).upper(),Ωb[0])\n",
    "                    # if printout not in printed:\n",
    "                    #     print(printout)\n",
    "                    #     printed.append(printout)\n",
    "                    summand = fp0 * fp1 * sp.Symbol('E') # * sp.Symbol(printout)\n",
    "                    summands.append(summand)\n",
    "        F[(Ω, Ωp)] = n*sum(summands)\n",
    "        if F[(Ω, Ωp)] != 0:\n",
    "            if F[(Ω, Ωp)] != n*sp.Symbol('E'):\n",
    "                print(Ω, Ωp)\n",
    "                display(F[(Ω, Ωp)])\n",
    "print(set(F.values()))\n"
   ]
  },
  {
   "cell_type": "code",
   "execution_count": 97,
   "metadata": {},
   "outputs": [],
   "source": [
    "def one_body_hamiltonian(l, n, ham_single, just_the_diagonal=False):\n",
    "    '''\n",
    "    Given  the  orbital  angular momentum and the number of electrons in a\n",
    "    configuration  of equivalent electrons, and also the 1-electron matrix\n",
    "    elements corresponding to a 1-body Hamiltonian.\n",
    "\n",
    "    This  function  returns the matrix elements of the 1-body Hamiltonian.\n",
    "    No attempts are made to enforce any selection rules.\n",
    "\n",
    "    It  receives  a  function  f_single_e  which  takes (ms,ml,msp,mlp) as\n",
    "    arguments and may return numeric or symbolic expressions.\n",
    "\n",
    "    Parameters\n",
    "    ----------\n",
    "    l (int): orbital quantum number of equivalent configuration l^n\n",
    "    n (int): how many electrons in configuration l^n\n",
    "    ham_single (fun): a function of (ms, ml, msp, mlp)\n",
    "    just_the_diagonal (bool)\n",
    "    Returns\n",
    "    -------\n",
    "    one_body_ham (dict): keys are 2-tuples (Ω (tuple), Ωp (tuple))\n",
    "    (W,  S,  MS,  L,  ML) -> Ω\n",
    "    '''\n",
    "    assert n <= 2*(2*l+1)\n",
    "    mls, Ms_s = mrange(l), [-HALF, HALF]\n",
    "    one_body_ham = dict()\n",
    "\n",
    "    # Collect the terms of configuration l^n\n",
    "    terms = all_terms[(all_terms['l'] == l) & (all_terms['n'] == n)][['S','L','idx']].to_records(index=False)\n",
    "    terms = list(terms)\n",
    "    \n",
    "    # And the terms for the configuration l^(n-1)\n",
    "    term_bar_s = all_terms[(all_terms['l'] == l) & (all_terms['n'] == (n-1))][['S','L','idx']].to_records(index=False)\n",
    "    term_bar_s = list(term_bar_s)\n",
    "\n",
    "    for term_row, term_col in product(terms, terms): # loop over the terms for rows and columns\n",
    "        # unpack term_row\n",
    "        S, L, W = term_row \n",
    "        # unpack term_col\n",
    "        Sp, Lp, Wp = term_col\n",
    "        # make the ranges for ML, MLp, MS, MSp\n",
    "        ML_s, MLp_s = mrange(L), mrange(Lp)\n",
    "        MS_s, MSp_s = mrange(S), mrange(Sp)\n",
    "        for MS, ML, MSp, MLp in product(MS_s, ML_s, MSp_s, MLp_s): # this loops over the enclosed states\n",
    "            Ω  = (W,  S,  MS,  L,  ML) # full address of row state\n",
    "            Ωp = (Wp, Sp, MSp, Lp, MLp) # full address of col state\n",
    "            if just_the_diagonal:\n",
    "                if Ω != Ωp:\n",
    "                    continue\n",
    "            summands = []\n",
    "            num_iters = 0\n",
    "            for term_bar in term_bar_s: # iterate over the terms of lⁿ⁻¹\n",
    "                Sb, Lb, Wb = term_bar # unpack term_bar\n",
    "                MSb_s, MLb_s = mrange(Sb), mrange(Lb)\n",
    "                for MSb, MLb in product(MSb_s, MLb_s):\n",
    "                    Ωb = (Wb, Sb, MSb, Lb, MLb) # full address of an lⁿ⁻¹ state\n",
    "                    for ml, ms in product(mls, Ms_s): # Σ ω, ωp assumming δ(ml,mlp)δ(ms,msp)\n",
    "                        mlp, msp = ml, ms\n",
    "                        num_iters += 1\n",
    "                        ω =  (1, HALF, ms,  l, ml)\n",
    "                        ωp = (1, HALF, msp, l, mlp)\n",
    "                        fp0 = Ω_coeff(l, n, Ω, Ωb, ω)\n",
    "                        if fp0 == 0:\n",
    "                            continue\n",
    "                        fp1 = Ω_coeff(l, n, Ωp, Ωb, ωp)\n",
    "                        if fp1 == 0:\n",
    "                            continue\n",
    "                        summand = fp0 * fp1 * ham_single(ms,ml,msp,mlp)\n",
    "                        summands.append(summand)\n",
    "            one_body_ham[(Ω, Ωp)] = n*sum(summands)\n",
    "    return one_body_ham"
   ]
  },
  {
   "cell_type": "code",
   "execution_count": 98,
   "metadata": {},
   "outputs": [],
   "source": [
    "def h1_single_e(ms,ml,msp,mlp):\n",
    "    if paired_kron(ms,msp,ml,mlp):\n",
    "        return sp.Symbol('E')\n",
    "    else:\n",
    "        return 0\n",
    "one_body_ham = one_body_hamiltonian(3, 2, h1_single_e, True)"
   ]
  },
  {
   "cell_type": "code",
   "execution_count": null,
   "metadata": {},
   "outputs": [],
   "source": [
    "l = 1\n",
    "s = HALF\n",
    "ls = dict()\n",
    "for ms, msp in product([-HALF, HALF],[-HALF, HALF]):\n",
    "    for ml, mlp in product(mrange(l), mrange(l)):\n",
    "        summands = []\n",
    "        for q in [-1,0,1]:\n",
    "            phase = phaser(s,l,-ms,-ml)\n",
    "            summand = (phase\n",
    "                    * w3j(s,1,s,-ms,q,msp)\n",
    "                    * w3j(l,1,l,-ml,q,mlp))\n",
    "            summands.append(summand)\n",
    "        val = sp.sqrt(sp.S(3)/2) * sp.sqrt((2*l+1)*l*(l+1)) * sum(summands)\n",
    "        ls[(ms,ml,msp,mlp)]= val\n"
   ]
  },
  {
   "cell_type": "code",
   "execution_count": 169,
   "metadata": {},
   "outputs": [],
   "source": [
    "def ls_single_e(l):\n",
    "    '''\n",
    "    For a given value of the orbital angular momentum l\n",
    "    this function returns a function that returns single-electron\n",
    "    matrix elements of the spin-orbit operator.\n",
    "    '''\n",
    "    def fun(ms,ml,msp,mlp):\n",
    "        '''\n",
    "        Returns the matrix element ζ <ms,ml|sᵢ⋅lᵢ|msp,mlp>.\n",
    "        '''\n",
    "        if paired_kron(ml-mlp, ms-msp):\n",
    "            if (ml-mlp) in [-1,0,1]:\n",
    "                if (ms-msp) in [-1,0,1]:\n",
    "                    phase = sp.sqrt(sp.S(3)/2) * sp.sqrt((2*l+1)*l*(l+1)) * phaser(s,l,-ms,-ml)\n",
    "                    return sp.Symbol('\\zeta') * (phase\n",
    "                            * w3j(s,1,s,-ms,ms-msp,msp)\n",
    "                            * w3j(l,1,l,-ml,ml-mlp,mlp))\n",
    "                else:\n",
    "                    return 0\n",
    "            else:\n",
    "                return 0\n",
    "        else:\n",
    "            return 0\n",
    "    return fun\n",
    "\n",
    "def H_spin_orbit_LS(l,n,just_the_diagonal=False):\n",
    "    '''\n",
    "    This function returns the spin orbit operator for the configuration\n",
    "    l^n.\n",
    "    H_SO = ζ Σ sᵢ⋅lᵢ\n",
    "    Parameters\n",
    "    ----------\n",
    "    l (int): orbital quantum number\n",
    "    n (int): l^n\n",
    "    Returns\n",
    "    -------\n",
    "    ham (dict): keys are (Ω,Ωp)\n",
    "    '''\n",
    "    return one_body_hamiltonian(l, n, ls_single_e(l), just_the_diagonal)"
   ]
  },
  {
   "cell_type": "code",
   "execution_count": 187,
   "metadata": {},
   "outputs": [],
   "source": [
    "from matplotlib import pyplot as plt\n",
    "import numpy as np\n",
    "import cmasher as cm\n",
    "%config InlineBackend.figure_format='retina'"
   ]
  },
  {
   "cell_type": "code",
   "execution_count": 202,
   "metadata": {},
   "outputs": [
    {
     "data": {
      "image/png": "[encoded data removed]",
      "text/plain": [
       "<Figure size 720x720 with 1 Axes>"
      ]
     },
     "metadata": {
      "image/png": {
       "height": 603,
       "width": 597
      }
     },
     "output_type": "display_data"
    }
   ],
   "source": [
    "n = 4\n",
    "ham = H_spin_orbit_LS(2,n,just_the_diagonal=False)\n",
    "basis = [x for x, y in ham.keys()]\n",
    "basis = list(set(basis))\n",
    "basis = list(sorted(basis))\n",
    "matrix_rep = [[ham[k0,k1] for k1 in basis] for k0 in basis]\n",
    "matrix_rep = sp.Matrix(matrix_rep)\n",
    "\n",
    "plt.figure(figsize=(10,10))\n",
    "plt.imshow(np.array(matrix_rep.subs({sp.Symbol('\\zeta'):1})).astype(np.float32), cmap=cm.seaweed)\n",
    "# plt.colorbar()\n",
    "plt.title('LS (d^%s)' % n)\n",
    "plt.xlabel('(W,  S,  MS,  L,  ML)')\n",
    "plt.ylabel(\"(W',  S',  MS',  L',  ML')\")\n",
    "plt.show()"
   ]
  },
  {
   "cell_type": "code",
   "execution_count": 209,
   "metadata": {},
   "outputs": [],
   "source": [
    "def param_ham(ms,ml,msp,mlp):\n",
    "    if (msp,mlp,ms,ml) in param_ham.memory:\n",
    "        return sp.conjugate(param_ham.memory[(msp,mlp,ms,ml)] )\n",
    "    else:\n",
    "        symbol = sp.Symbol('f({ms},{ml},{msp},{mlp})'.format(ms=ms,ml=ml,msp=msp,mlp=mlp))\n",
    "        param_ham.memory[(ms,ml,msp,mlp)] = symbol\n",
    "        return symbol\n",
    "param_ham.memory = {}"
   ]
  },
  {
   "cell_type": "code",
   "execution_count": 210,
   "metadata": {},
   "outputs": [],
   "source": [
    "n = 2\n",
    "ham = one_body_hamiltonian(l,n,param_ham)"
   ]
  },
  {
   "cell_type": "code",
   "execution_count": 212,
   "metadata": {},
   "outputs": [],
   "source": [
    "basis = [x for x, y in ham.keys()]\n",
    "basis = list(set(basis))\n",
    "basis = list(sorted(basis))\n",
    "matrix_rep = [[ham[k0,k1] for k1 in basis] for k0 in basis]\n",
    "matrix_rep = sp.Matrix(matrix_rep)"
   ]
  },
  {
   "cell_type": "code",
   "execution_count": null,
   "metadata": {},
   "outputs": [],
   "source": [
    "    terms = \n",
    "    terms = list(terms)"
   ]
  },
  {
   "cell_type": "code",
   "execution_count": 481,
   "metadata": {},
   "outputs": [],
   "source": [
    "def term_range(l,n):\n",
    "    '''\n",
    "    Given an electron configuration l^n this\n",
    "    iterator provides the corresponding terms.\n",
    "    '''\n",
    "    terms = all_terms[(all_terms['l'] == l) & (all_terms['n'] == n)][['S','L','idx']].to_records(index=False)\n",
    "    for term in terms:\n",
    "        yield term\n",
    "def ψ_range(term):\n",
    "    '''\n",
    "    Given a term this yields the wavefunction\n",
    "    contained in it\n",
    "    '''\n",
    "    S, L, W = term\n",
    "    ML_s, MS_s = mrange(L), mrange(S)\n",
    "    for MS, ML in product(MS_s, ML_s):\n",
    "        Ω  = (W,  S,  MS,  L,  ML) # full address of row state\n",
    "        yield Ω\n",
    "def config_range(l,n):\n",
    "    '''\n",
    "    '''\n",
    "    for term in term_range(l,n):\n",
    "        for Ω in ψ_range(term):\n",
    "            yield Ω"
   ]
  },
  {
   "cell_type": "code",
   "execution_count": 383,
   "metadata": {},
   "outputs": [],
   "source": [
    "@lru_cache(maxsize=None)\n",
    "def Ω_coeff(l, n, Ω, Ωp_1, Ωp_2):\n",
    "    '''\n",
    "    This function returns the coefficient\n",
    "    <lⁿ⁻¹ W* S* MS* L* ML*; l ms ml | lⁿW S MS L ML>\n",
    "    Parameters\n",
    "    ----------\n",
    "    n (int): number of electrons\n",
    "    Returns\n",
    "    -------\n",
    "    '''\n",
    "    (W,    S,    MS,    L,    ML)    = Ω # daughter\n",
    "    (W_p,  S_p,  MS_p,  L_p,  ML_p)  = Ωp_1 # parent1\n",
    "    (W_pp, S_pp, MS_pp, L_pp, ML_pp) = Ωp_2 # parent2\n",
    "    cfp_args = (l, n,\n",
    "               S,    L,    W, # daughter term\n",
    "               S_p,  L_p,  W_p, # parent1 term\n",
    "               S_pp, L_pp, W_pp) # parent2 term\n",
    "    # Vector Coupling coeffs\n",
    "    vcS = VC_coeff((S_p, MS_p, S_pp, MS_pp), \n",
    "                      (S_p, S_pp, S,    MS))\n",
    "    if vcS == 0:\n",
    "        return 0\n",
    "    \n",
    "    vcL = VC_coeff((L_p, ML_p,  L_pp, ML_pp), \n",
    "                      (L_p, L_pp, L,    ML))\n",
    "    if vcL == 0:\n",
    "        return 0\n",
    "    \n",
    "    cfp = CFP_1(*cfp_args, True)\n",
    "    if cfp == 0:\n",
    "        return 0\n",
    "    val = vcS * vcL * cfp\n",
    "    return val"
   ]
  },
  {
   "cell_type": "code",
   "execution_count": 453,
   "metadata": {},
   "outputs": [
    {
     "name": "stdout",
     "output_type": "stream",
     "text": [
      "Loading data for 2-body coefficients of fractional parentage...\n"
     ]
    }
   ],
   "source": [
    "CFP_2 = CFP_fun(2)"
   ]
  },
  {
   "cell_type": "code",
   "execution_count": 457,
   "metadata": {},
   "outputs": [
    {
     "data": {
      "text/plain": [
       "[(1/2, 1, 1)]"
      ]
     },
     "execution_count": 457,
     "metadata": {},
     "output_type": "execute_result"
    }
   ],
   "source": [
    "terms_nm2"
   ]
  },
  {
   "cell_type": "code",
   "execution_count": 471,
   "metadata": {},
   "outputs": [
    {
     "data": {
      "text/plain": [
       "[]"
      ]
     },
     "execution_count": 471,
     "metadata": {},
     "output_type": "execute_result"
    }
   ],
   "source": [
    "term_range()"
   ]
  },
  {
   "cell_type": "code",
   "execution_count": 484,
   "metadata": {},
   "outputs": [
    {
     "data": {
      "text/plain": [
       "[(1/2, 1, 1),\n",
       " (1/2, 2, 1),\n",
       " (1/2, 2, 2),\n",
       " (1/2, 3, 1),\n",
       " (1/2, 4, 1),\n",
       " (1/2, 5, 1),\n",
       " (3/2, 1, 1),\n",
       " (3/2, 3, 1)]"
      ]
     },
     "execution_count": 484,
     "metadata": {},
     "output_type": "execute_result"
    }
   ],
   "source": [
    "list(term_range(l,n))"
   ]
  },
  {
   "cell_type": "code",
   "execution_count": 549,
   "metadata": {},
   "outputs": [
    {
     "data": {
      "text/plain": [
       "[(0, 0, 1),\n",
       " (0, 0, 2),\n",
       " (0, 2, 1),\n",
       " (0, 2, 2),\n",
       " (0, 3, 1),\n",
       " (0, 4, 1),\n",
       " (0, 4, 2),\n",
       " (0, 6, 1),\n",
       " (1, 1, 1),\n",
       " (1, 1, 2),\n",
       " (1, 2, 1),\n",
       " (1, 3, 1),\n",
       " (1, 3, 2),\n",
       " (1, 4, 1),\n",
       " (1, 5, 1),\n",
       " (2, 2, 1)]"
      ]
     },
     "execution_count": 549,
     "metadata": {},
     "output_type": "execute_result"
    }
   ],
   "source": [
    "list(term_range(l,n))"
   ]
  },
  {
   "cell_type": "code",
   "execution_count": 555,
   "metadata": {},
   "outputs": [
    {
     "name": "stdout",
     "output_type": "stream",
     "text": [
      "0\n"
     ]
    }
   ],
   "source": [
    "l, n = 2, 4\n",
    "two_e_ham = H1(l)\n",
    "\n",
    "terms = list(term_range(l,n))\n",
    "# terms = [(sp.S(3)/2,1,1)]\n",
    "terms = [(0, 0, 1)]\n",
    "\n",
    "terms_nm2 = list(term_range(l,n-2))\n",
    "terms_2 = list(term_range(l,2))\n",
    "\n",
    "ham = dict()\n",
    "num_iters = 0\n",
    "k = sp.S(1)/2 * n * (n-1)\n",
    "for row_term, col_term in product(terms, terms):\n",
    "    S,  L,  W  = row_term \n",
    "    Sp, Lp, Wp = col_term\n",
    "    # print('S2', end='|')\n",
    "    for Ω_row, Ω_col in product(ψ_range(row_term), ψ_range(col_term)):\n",
    "        (W_row, S_row, MS_row, L_row, ML_row) = Ω_row\n",
    "        (W_col, S_col, MS_col, L_col, ML_col) = Ω_col\n",
    "        if paired_kron(S_row, S_col, L_row, L_col, MS_row, MS_col, ML_row, ML_col) == 0:\n",
    "            # ham[(Ω_row, Ω_col)] = 0\n",
    "            continue\n",
    "        summands = []\n",
    "        # here I need to evaluate a sum that ranges over lⁿ⁻² and l²\n",
    "        for term_2, term_nm2 in product(terms_2, terms_nm2): # iterate over the terms of lⁿ⁻² and l²\n",
    "            # print(\"⨳\",end=',') \n",
    "            S_2,   L_2,   W_2   = term_2 # unpack term_2\n",
    "            S_nm2, L_nm2, W_nm2 = term_nm2 # unpack term_nm2\n",
    "            for Ω_2, Ω_nm2 in product(list(ψ_range(term_2)), list(ψ_range(term_nm2))):\n",
    "                (W_2,   S_2,   MS_2,   L_2,   ML_2)   = Ω_2 # full address of an l² state\n",
    "                (W_nm2, S_nm2, MS_nm2, L_nm2, ML_nm2) = Ω_nm2 # full address of an lⁿ⁻² state\n",
    "                # num_iters += 1\n",
    "                # cfp_args_0 = (l, n,\n",
    "                #     S_row, L_row, W_row, # daughter term\n",
    "                #     S_nm2, L_nm2, W_nm2, # parent1 term\n",
    "                #     S_2,   L_2,   W_2)   # parent2 term\n",
    "                # fp0 = CFP_2(*cfp_args_0, fill_missing=True)\n",
    "                # if fp0 == 0:\n",
    "                #     continue\n",
    "                # cfp_args_1 = (l, n,\n",
    "                #     S_row, L_row, W_col, # daughter term\n",
    "                #     S_nm2, L_nm2, W_nm2, # parent1 term\n",
    "                #     S_2,   L_2,   W_2)   # parent2 term\n",
    "                # fp1 = CFP_2(*cfp_args_1, fill_missing=True)\n",
    "                # if fp1 == 0:\n",
    "                #     continue\n",
    "                m2elemn = two_e_ham[(S_2, MS_2, L_2, ML_2,\n",
    "                                     S_2, MS_2, L_2, ML_2)]\n",
    "                # summand = fp0 * fp1 * m2elemn * sp.Symbol('\\\\langle %s,%s|%s,%s;%s,%s\\\\rangle' % (S,L,S_nm2,L_nm2,S_2,L_2))\n",
    "                sym = sp.Symbol('\\\\langle {}^{%s}{%s}|{}^{%s}{%s};{}^{%s}%s\\\\rangle' % (2*S+1,l_notation_switch(L).upper(),\n",
    "                                                                                  2*S_nm2+1,l_notation_switch(int(L_nm2)).upper(),\n",
    "                                                                                  2*S_2+1, l_notation_switch(int(L_2)).upper()))**2\n",
    "                summand = m2elemn * sym\n",
    "                summands.append(summand)\n",
    "        ham_val = sp.simplify(k * sum(summands))\n",
    "        # ham[(Ω_row, Ω_col)] = ham_val\n",
    "        ham[(tuple(row_term), tuple(col_term))] = ham_val\n",
    "print(num_iters)"
   ]
  },
  {
   "cell_type": "code",
   "execution_count": 546,
   "metadata": {},
   "outputs": [
    {
     "name": "stdout",
     "output_type": "stream",
     "text": [
      "((3/2, 1, 1), (3/2, 1, 1))\n"
     ]
    },
    {
     "data": {
      "text/latex": [
       "$\\displaystyle \\frac{150 \\left(\\langle {}^{4}{P}|{}^{2}{D};{}^{1}D\\rangle\\right)^{2} \\left(- 3 F^{(2)} + 4 F^{(4)}\\right)}{49} + \\frac{30 \\left(\\langle {}^{4}{P}|{}^{2}{D};{}^{1}G\\rangle\\right)^{2} \\cdot \\left(36 F^{(2)} + F^{(4)}\\right)}{49} + \\frac{60 \\left(\\langle {}^{4}{P}|{}^{2}{D};{}^{1}S\\rangle\\right)^{2} \\left(F^{(2)} + F^{(4)}\\right)}{7} - \\frac{90 \\left(\\langle {}^{4}{P}|{}^{2}{D};{}^{3}F\\rangle\\right)^{2} \\cdot \\left(8 F^{(2)} + F^{(4)}\\right)}{7} + \\frac{90 \\left(\\langle {}^{4}{P}|{}^{2}{D};{}^{3}P\\rangle\\right)^{2} \\cdot \\left(3 F^{(2)} - 4 F^{(4)}\\right)}{7}$"
      ],
      "text/plain": [
       "150*\\langle {}^{4}{P}|{}^{2}{D};{}^{1}D\\rangle**2*(-3*F^{(2)} + 4*F^{(4)})/49 + 30*\\langle {}^{4}{P}|{}^{2}{D};{}^{1}G\\rangle**2*(36*F^{(2)} + F^{(4)})/49 + 60*\\langle {}^{4}{P}|{}^{2}{D};{}^{1}S\\rangle**2*(F^{(2)} + F^{(4)})/7 - 90*\\langle {}^{4}{P}|{}^{2}{D};{}^{3}F\\rangle**2*(8*F^{(2)} + F^{(4)})/7 + 90*\\langle {}^{4}{P}|{}^{2}{D};{}^{3}P\\rangle**2*(3*F^{(2)} - 4*F^{(4)})/7"
      ]
     },
     "metadata": {},
     "output_type": "display_data"
    }
   ],
   "source": [
    "for k,v in ham.items():\n",
    "    print(k)\n",
    "    display(sp.simplify(v))"
   ]
  },
  {
   "cell_type": "code",
   "execution_count": 544,
   "metadata": {},
   "outputs": [
    {
     "data": {
      "text/latex": [
       "$\\displaystyle \\frac{600 \\langle {}^{4}{P}|{}^{2}{D};{}^{1}D\\rangle}{49} + \\frac{30 \\langle {}^{4}{P}|{}^{2}{D};{}^{1}G\\rangle}{49} + \\frac{60 \\langle {}^{4}{P}|{}^{2}{D};{}^{1}S\\rangle}{7} - \\frac{90 \\langle {}^{4}{P}|{}^{2}{D};{}^{3}F\\rangle}{7} - \\frac{360 \\langle {}^{4}{P}|{}^{2}{D};{}^{3}P\\rangle}{7}$"
      ],
      "text/plain": [
       "600*\\langle {}^{4}{P}|{}^{2}{D};{}^{1}D\\rangle/49 + 30*\\langle {}^{4}{P}|{}^{2}{D};{}^{1}G\\rangle/49 + 60*\\langle {}^{4}{P}|{}^{2}{D};{}^{1}S\\rangle/7 - 90*\\langle {}^{4}{P}|{}^{2}{D};{}^{3}F\\rangle/7 - 360*\\langle {}^{4}{P}|{}^{2}{D};{}^{3}P\\rangle/7"
      ]
     },
     "execution_count": 544,
     "metadata": {},
     "output_type": "execute_result"
    }
   ],
   "source": [
    "v.subs({sp.Symbol('F^{(2)}'):0,sp.Symbol('F^{(4)}'):1})"
   ]
  },
  {
   "cell_type": "code",
   "execution_count": 346,
   "metadata": {},
   "outputs": [
    {
     "ename": "ZeroDivisionError",
     "evalue": "float division by zero",
     "output_type": "error",
     "traceback": [
      "\u001b[0;31m---------------------------------------------------------------------------\u001b[0m",
      "\u001b[0;31mZeroDivisionError\u001b[0m                         Traceback (most recent call last)",
      "\u001b[0;32m<ipython-input-346-643ede28a111>\u001b[0m in \u001b[0;36m<module>\u001b[0;34m\u001b[0m\n\u001b[1;32m      8\u001b[0m \u001b[0;31m# And the terms for the configuration l^(2)\u001b[0m\u001b[0;34m\u001b[0m\u001b[0;34m\u001b[0m\u001b[0;34m\u001b[0m\u001b[0m\n\u001b[1;32m      9\u001b[0m \u001b[0mterms_2\u001b[0m \u001b[0;34m=\u001b[0m \u001b[0mterm_range\u001b[0m\u001b[0;34m(\u001b[0m\u001b[0ml\u001b[0m\u001b[0;34m,\u001b[0m\u001b[0;36m2\u001b[0m\u001b[0;34m)\u001b[0m\u001b[0;34m\u001b[0m\u001b[0;34m\u001b[0m\u001b[0m\n\u001b[0;32m---> 10\u001b[0;31m \u001b[0;36m1\u001b[0m\u001b[0;34m/\u001b[0m\u001b[0;36m.0\u001b[0m\u001b[0;34m\u001b[0m\u001b[0;34m\u001b[0m\u001b[0m\n\u001b[0m\u001b[1;32m     11\u001b[0m \u001b[0mham\u001b[0m \u001b[0;34m=\u001b[0m \u001b[0mdict\u001b[0m\u001b[0;34m(\u001b[0m\u001b[0;34m)\u001b[0m\u001b[0;34m\u001b[0m\u001b[0;34m\u001b[0m\u001b[0m\n\u001b[1;32m     12\u001b[0m \u001b[0;34m\u001b[0m\u001b[0m\n",
      "\u001b[0;31mZeroDivisionError\u001b[0m: float division by zero"
     ]
    }
   ],
   "source": [
    "l, n = 2, 3\n",
    "# Collect the terms of configuration l^n\n",
    "terms_n = term_range(l,n)\n",
    "\n",
    "# And the terms for the configuration l^(n-2)\n",
    "terms_nm2 = term_range(l,n-2)\n",
    "\n",
    "# And the terms for the configuration l^(2)\n",
    "terms_2 = term_range(l,2)\n",
    "\n",
    "ham = dict()\n",
    "\n",
    "for row_term, col_term in product(terms_n, terms_n):\n",
    "    # unpack term_row\n",
    "    S, L, W = row_term \n",
    "    # unpack term_col\n",
    "    Sp, Lp, Wp = col_term\n",
    "    # make the ranges for ML, MLp, MS, MSp\n",
    "    ML_s, MLp_s = mrange(L), mrange(Lp)\n",
    "    MS_s, MSp_s = mrange(S), mrange(Sp)\n",
    "    for MS, ML, MSp, MLp in product(MS_s, ML_s, MSp_s, MLp_s):\n",
    "        Ω  = (W,  S,  MS,  L,  ML) # full address of row state\n",
    "        Ωp = (Wp, Sp, MSp, Lp, MLp) # full address of col state\n",
    "        if paired_kron(S, Sp, L, Lp, MS, MSp, ML, MLp) == 0:\n",
    "            ham[(Ω, Ωp)] = 0\n",
    "            continue\n",
    "        summands = []\n",
    "        for term_2, term_nm2 in product(terms_2, terms_nm2): # iterate over the terms of lⁿ⁻² and l²\n",
    "            S_2, L_2, W_2 = term_2 # unpack term_2\n",
    "            MS_2s, ML_2s = mrange(S_2), mrange(L_2)\n",
    "            S_nm2, L_nm2, W_nm2 = term_nm2 # unpack term_2\n",
    "            MS_nm2s, ML_nm2s = mrange(S_nm2), mrange(L_nm2)\n",
    "            for MS_2, ML_2, MS_nm2, ML_nm2 in product(MS_2s, ML_2s, MS_nm2s, ML_nm2s):\n",
    "                Ωb = (W_2, S_2, MS_2, L_2, ML_2) # full address of an l² state\n",
    "                Ωbb = (W_nm2, S_nm2, MS_nm2, L_nm2, ML_nm2) # full address of an lⁿ⁻² state\n",
    "                Ωpp = (Wp, S,  MS,  L,  ML) # full address of col state\n",
    "                num_iters += 1\n",
    "                fp0 = Ω_coeff(l, n, Ω, Ωbb, Ωb)\n",
    "                if fp0 == 0:\n",
    "                    continue\n",
    "                fp1 = Ω_coeff(l, n, Ωpp, Ωbb, Ωbp)\n",
    "                if fp1 == 0:\n",
    "                    continue\n",
    "                summands.append(fp0 * fp1)\n",
    "        "
   ]
  },
  {
   "cell_type": "code",
   "execution_count": 332,
   "metadata": {},
   "outputs": [
    {
     "ename": "KeyError",
     "evalue": "(2, 2, 1/2, 2, 1)",
     "output_type": "error",
     "traceback": [
      "\u001b[0;31m---------------------------------------------------------------------------\u001b[0m",
      "\u001b[0;31mKeyError\u001b[0m                                  Traceback (most recent call last)",
      "\u001b[0;32m<ipython-input-332-c65874f4300e>\u001b[0m in \u001b[0;36m<module>\u001b[0;34m\u001b[0m\n\u001b[1;32m     42\u001b[0m                 \u001b[0mΩpp\u001b[0m \u001b[0;34m=\u001b[0m \u001b[0;34m(\u001b[0m\u001b[0mWp\u001b[0m\u001b[0;34m,\u001b[0m \u001b[0mS\u001b[0m\u001b[0;34m,\u001b[0m  \u001b[0mMS\u001b[0m\u001b[0;34m,\u001b[0m  \u001b[0mL\u001b[0m\u001b[0;34m,\u001b[0m  \u001b[0mML\u001b[0m\u001b[0;34m)\u001b[0m \u001b[0;31m# full address of col state\u001b[0m\u001b[0;34m\u001b[0m\u001b[0;34m\u001b[0m\u001b[0m\n\u001b[1;32m     43\u001b[0m                 \u001b[0mnum_iters\u001b[0m \u001b[0;34m+=\u001b[0m \u001b[0;36m1\u001b[0m\u001b[0;34m\u001b[0m\u001b[0;34m\u001b[0m\u001b[0m\n\u001b[0;32m---> 44\u001b[0;31m                 \u001b[0mfp0\u001b[0m \u001b[0;34m=\u001b[0m \u001b[0mΩ_coeff\u001b[0m\u001b[0;34m(\u001b[0m\u001b[0ml\u001b[0m\u001b[0;34m,\u001b[0m \u001b[0mn\u001b[0m\u001b[0;34m,\u001b[0m \u001b[0mΩ\u001b[0m\u001b[0;34m,\u001b[0m \u001b[0mΩbb\u001b[0m\u001b[0;34m,\u001b[0m \u001b[0mΩb\u001b[0m\u001b[0;34m)\u001b[0m\u001b[0;34m\u001b[0m\u001b[0;34m\u001b[0m\u001b[0m\n\u001b[0m\u001b[1;32m     45\u001b[0m                 \u001b[0;32mif\u001b[0m \u001b[0mfp0\u001b[0m \u001b[0;34m==\u001b[0m \u001b[0;36m0\u001b[0m\u001b[0;34m:\u001b[0m\u001b[0;34m\u001b[0m\u001b[0;34m\u001b[0m\u001b[0m\n\u001b[1;32m     46\u001b[0m                     \u001b[0;32mcontinue\u001b[0m\u001b[0;34m\u001b[0m\u001b[0;34m\u001b[0m\u001b[0m\n",
      "\u001b[0;32m~/ZiaLab/Codebase/qdef/tensorops.py\u001b[0m in \u001b[0;36mΩ_coeff\u001b[0;34m(l, n, Ω, Ωp_1, Ωp_2)\u001b[0m\n\u001b[1;32m    193\u001b[0m                       (L_p, L_pp, L,    ML))\n\u001b[1;32m    194\u001b[0m     \u001b[0;32mif\u001b[0m \u001b[0mvcL\u001b[0m \u001b[0;34m==\u001b[0m \u001b[0;36m0\u001b[0m\u001b[0;34m:\u001b[0m\u001b[0;34m\u001b[0m\u001b[0;34m\u001b[0m\u001b[0m\n\u001b[0;32m--> 195\u001b[0;31m         \u001b[0;32mreturn\u001b[0m \u001b[0;36m0\u001b[0m\u001b[0;34m\u001b[0m\u001b[0;34m\u001b[0m\u001b[0m\n\u001b[0m\u001b[1;32m    196\u001b[0m \u001b[0;34m\u001b[0m\u001b[0m\n\u001b[1;32m    197\u001b[0m     \u001b[0mcfp\u001b[0m \u001b[0;34m=\u001b[0m \u001b[0mCFP_1\u001b[0m\u001b[0;34m(\u001b[0m\u001b[0;34m*\u001b[0m\u001b[0mcfp_args\u001b[0m\u001b[0;34m,\u001b[0m \u001b[0;32mTrue\u001b[0m\u001b[0;34m)\u001b[0m\u001b[0;34m\u001b[0m\u001b[0;34m\u001b[0m\u001b[0m\n",
      "\u001b[0;32m~/ZiaLab/Codebase/qdef/tensorops.py\u001b[0m in \u001b[0;36mfun\u001b[0;34m(l, n, S, L, W, S_p, L_p, W_p, S_pp, L_pp, W_pp, fill_missing)\u001b[0m\n\u001b[1;32m    259\u001b[0m             \u001b[0;32melse\u001b[0m\u001b[0;34m:\u001b[0m  \u001b[0;31m# Case II\u001b[0m\u001b[0;34m\u001b[0m\u001b[0;34m\u001b[0m\u001b[0m\n\u001b[1;32m    260\u001b[0m                 \u001b[0mν\u001b[0m    \u001b[0;34m=\u001b[0m \u001b[0mseniority_dict\u001b[0m\u001b[0;34m[\u001b[0m\u001b[0;34m(\u001b[0m\u001b[0ml\u001b[0m\u001b[0;34m,\u001b[0m \u001b[0mn\u001b[0m\u001b[0;34m,\u001b[0m    \u001b[0mS\u001b[0m\u001b[0;34m,\u001b[0m    \u001b[0mL\u001b[0m\u001b[0;34m,\u001b[0m    \u001b[0mW\u001b[0m\u001b[0;34m)\u001b[0m\u001b[0;34m]\u001b[0m\u001b[0;34m\u001b[0m\u001b[0;34m\u001b[0m\u001b[0m\n\u001b[0;32m--> 261\u001b[0;31m                 \u001b[0mν_p\u001b[0m  \u001b[0;34m=\u001b[0m \u001b[0mseniority_dict\u001b[0m\u001b[0;34m[\u001b[0m\u001b[0;34m(\u001b[0m\u001b[0ml\u001b[0m\u001b[0;34m,\u001b[0m \u001b[0mn_p\u001b[0m\u001b[0;34m,\u001b[0m  \u001b[0mS_p\u001b[0m\u001b[0;34m,\u001b[0m  \u001b[0mL_p\u001b[0m\u001b[0;34m,\u001b[0m  \u001b[0mW_p\u001b[0m\u001b[0;34m)\u001b[0m\u001b[0;34m]\u001b[0m\u001b[0;34m\u001b[0m\u001b[0;34m\u001b[0m\u001b[0m\n\u001b[0m\u001b[1;32m    262\u001b[0m                 \u001b[0mν_pp\u001b[0m \u001b[0;34m=\u001b[0m \u001b[0mseniority_dict\u001b[0m\u001b[0;34m[\u001b[0m\u001b[0;34m(\u001b[0m\u001b[0ml\u001b[0m\u001b[0;34m,\u001b[0m \u001b[0mn_pp\u001b[0m\u001b[0;34m,\u001b[0m \u001b[0mS_pp\u001b[0m\u001b[0;34m,\u001b[0m \u001b[0mL_pp\u001b[0m\u001b[0;34m,\u001b[0m \u001b[0mW_pp\u001b[0m\u001b[0;34m)\u001b[0m\u001b[0;34m]\u001b[0m\u001b[0;34m\u001b[0m\u001b[0;34m\u001b[0m\u001b[0m\n\u001b[1;32m    263\u001b[0m                 alter_key = (num_bodies, l, \n",
      "\u001b[0;31mKeyError\u001b[0m: (2, 2, 1/2, 2, 1)"
     ]
    }
   ],
   "source": [
    "# '''\n",
    "# a\n",
    "# '''\n",
    "# l, n = 2, 3\n",
    "# # Collect the terms of configuration l^n\n",
    "# terms_n = all_terms[(all_terms['l'] == l) & (all_terms['n'] == n)][['S','L','idx']].to_records(index=False)\n",
    "# terms_n = list(terms_n)\n",
    "\n",
    "# # And the terms for the configuration l^(n-2)\n",
    "# terms_nm2 = all_terms[(all_terms['l'] == l) & (all_terms['n'] == (n-2))][['S','L','idx']].to_records(index=False)\n",
    "# terms_nm2 = list(terms_nm2)\n",
    "\n",
    "# # And the terms for the configuration l^(2)\n",
    "# terms_2 = all_terms[(all_terms['l'] == l) & (all_terms['n'] == 2)][['S','L','idx']].to_records(index=False)\n",
    "# terms_2 = list(terms_2)\n",
    "\n",
    "# ham = dict()\n",
    "\n",
    "# for row_term, col_term in product(terms_n, terms_n):\n",
    "#     # unpack term_row\n",
    "#     S, L, W = row_term \n",
    "#     # unpack term_col\n",
    "#     Sp, Lp, Wp = col_term\n",
    "#     # make the ranges for ML, MLp, MS, MSp\n",
    "#     ML_s, MLp_s = mrange(L), mrange(Lp)\n",
    "#     MS_s, MSp_s = mrange(S), mrange(Sp)\n",
    "#     for MS, ML, MSp, MLp in product(MS_s, ML_s, MSp_s, MLp_s):\n",
    "#         Ω  = (W,  S,  MS,  L,  ML) # full address of row state\n",
    "#         Ωp = (Wp, Sp, MSp, Lp, MLp) # full address of col state\n",
    "#         if paired_kron(S, Sp, L, Lp, MS, MSp, ML, MLp) == 0:\n",
    "#             ham[(Ω, Ωp)] = 0\n",
    "#             continue\n",
    "#         summands = []\n",
    "#         for term_2, term_nm2 in product(terms_2, terms_nm2): # iterate over the terms of lⁿ⁻² and l²\n",
    "#             S_2, L_2, W_2 = term_2 # unpack term_2\n",
    "#             MS_2s, ML_2s = mrange(S_2), mrange(L_2)\n",
    "#             S_nm2, L_nm2, W_nm2 = term_nm2 # unpack term_2\n",
    "#             MS_nm2s, ML_nm2s = mrange(S_nm2), mrange(L_nm2)\n",
    "#             for MS_2, ML_2, MS_nm2, ML_nm2 in product(MS_2s, ML_2s, MS_nm2s, ML_nm2s):\n",
    "#                 Ωb = (W_2, S_2, MS_2, L_2, ML_2) # full address of an l² state\n",
    "#                 Ωbb = (W_nm2, S_nm2, MS_nm2, L_nm2, ML_nm2) # full address of an lⁿ⁻² state\n",
    "#                 Ωpp = (Wp, S,  MS,  L,  ML) # full address of col state\n",
    "#                 num_iters += 1\n",
    "#                 fp0 = Ω_coeff(l, n, Ω, Ωbb, Ωb)\n",
    "#                 if fp0 == 0:\n",
    "#                     continue\n",
    "#                 fp1 = Ω_coeff(l, n, Ωpp, Ωbb, Ωbp)\n",
    "#                 if fp1 == 0:\n",
    "#                     continue\n",
    "#                 summands.append(fp0 * fp1)\n",
    "        "
   ]
  },
  {
   "cell_type": "markdown",
   "metadata": {},
   "source": [
    "<center> <img src=\"notebook_imgs/2022-04-23-07-08-49.png\" style=\"width: 50%;\"/> </center>"
   ]
  },
  {
   "cell_type": "code",
   "execution_count": 321,
   "metadata": {},
   "outputs": [],
   "source": [
    "from misc import labeled_matrix"
   ]
  },
  {
   "cell_type": "code",
   "execution_count": 327,
   "metadata": {},
   "outputs": [],
   "source": [
    "def labeled_matrix(a_matrix, basis_labels=[], elbow='', show=True):\n",
    "    '''\n",
    "    Parameters\n",
    "    ----------\n",
    "    a_matrix (sp.Matrix of list): square matrix of nested list.\n",
    "    basis_labels (list[(str)])  : list of string representing labels for the basis kets.\n",
    "    display (bool): if True then the resulting LaTeX expression is displayed.\n",
    "    elbow (str) : text display in the top left corner, preferable a math expression.\n",
    "\n",
    "    If basis_labels is empty then a sequence of integers are used for the labels.\n",
    "    Returns\n",
    "    -------\n",
    "    a_matrix (sp.Matrix) : matrix with added row and column to represent the basis labels.\n",
    "    '''\n",
    "    from IPython.display import display, Math\n",
    "    if isinstance(a_matrix, sp.Matrix):\n",
    "        a_matrix = a_matrix.tolist()\n",
    "    if len(basis_labels) == 0:\n",
    "        basis_labels = list(range(len(a_matrix)))\n",
    "    num_rows = len(a_matrix)\n",
    "    assert len(a_matrix) == len(a_matrix[0]), \"Matrix is not square.\"\n",
    "    assert len(basis_labels) == len(a_matrix), \"Basis and matrix dimensions mismatch.\"\n",
    "    basis_kets = [sp.Symbol( '|{%s}\\\\rangle' % bl) for bl in basis_labels]\n",
    "    basis_bras = [sp.Symbol('\\\\langle{%s}|' % bl) for bl in basis_labels]\n",
    "    a_matrix = [[bk]+row for bk, row in zip(basis_bras,a_matrix)]\n",
    "    extra_row = [sp.Symbol(elbow)]+basis_kets\n",
    "    a_matrix = sp.latex(sp.Matrix([extra_row]+a_matrix))\n",
    "    a_matrix = a_matrix.replace('c'*num_rows,('c'*num_rows).replace('c','c|',1)).replace('\\\\\\\\','\\\\\\\\[0.2cm] \\\\hline \\\\\\\\[-0.2cm] ', 1).replace('\\\\left[','',1).replace('\\\\right]','')\n",
    "    if show:\n",
    "        display(Math(a_matrix))\n",
    "    return a_matrix"
   ]
  },
  {
   "cell_type": "code",
   "execution_count": 329,
   "metadata": {},
   "outputs": [
    {
     "data": {
      "text/latex": [
       "$\\displaystyle \\begin{array}{c|cccccccccccccccccccc}J=3 & |{α}\\rangle & |{β}\\rangle & |{γ}\\rangle & |{δ}\\rangle & |{ε}\\rangle & |{ω}\\rangle & |{ζ}\\rangle & |{η}\\rangle & |{ξ}\\rangle & |{υ}\\rangle & |{α}\\rangle & |{β}\\rangle & |{χ}\\rangle & |{δ}\\rangle & |{ε}\\rangle & |{ω}\\rangle & |{ζ}\\rangle & |{η}\\rangle & |{ξ}\\rangle & |{υ}\\rangle\\\\[0.2cm] \\hline \\\\[-0.2cm] \\langle{α}| & 0 & 0 & 0 & 0 & 0 & 0 & 0 & 0 & 0 & 0 & 0 & 0 & 0 & 0 & 0 & 0 & 0 & 0 & 0 & 0\\\\\\langle{β}| & 0 & 1 & \\sqrt{2} & \\sqrt{3} & 2 & \\sqrt{5} & \\sqrt{6} & \\sqrt{7} & 2 \\sqrt{2} & 3 & \\sqrt{10} & \\sqrt{11} & 2 \\sqrt{3} & \\sqrt{13} & \\sqrt{14} & \\sqrt{15} & 4 & \\sqrt{17} & 3 \\sqrt{2} & \\sqrt{19}\\\\\\langle{γ}| & 0 & \\sqrt{2} & 2 & \\sqrt{6} & 2 \\sqrt{2} & \\sqrt{10} & 2 \\sqrt{3} & \\sqrt{14} & 4 & 3 \\sqrt{2} & 2 \\sqrt{5} & \\sqrt{22} & 2 \\sqrt{6} & \\sqrt{26} & 2 \\sqrt{7} & \\sqrt{30} & 4 \\sqrt{2} & \\sqrt{34} & 6 & \\sqrt{38}\\\\\\langle{δ}| & 0 & \\sqrt{3} & \\sqrt{6} & 3 & 2 \\sqrt{3} & \\sqrt{15} & 3 \\sqrt{2} & \\sqrt{21} & 2 \\sqrt{6} & 3 \\sqrt{3} & \\sqrt{30} & \\sqrt{33} & 6 & \\sqrt{39} & \\sqrt{42} & 3 \\sqrt{5} & 4 \\sqrt{3} & \\sqrt{51} & 3 \\sqrt{6} & \\sqrt{57}\\\\\\langle{ε}| & 0 & 2 & 2 \\sqrt{2} & 2 \\sqrt{3} & 4 & 2 \\sqrt{5} & 2 \\sqrt{6} & 2 \\sqrt{7} & 4 \\sqrt{2} & 6 & 2 \\sqrt{10} & 2 \\sqrt{11} & 4 \\sqrt{3} & 2 \\sqrt{13} & 2 \\sqrt{14} & 2 \\sqrt{15} & 8 & 2 \\sqrt{17} & 6 \\sqrt{2} & 2 \\sqrt{19}\\\\\\langle{ω}| & 0 & \\sqrt{5} & \\sqrt{10} & \\sqrt{15} & 2 \\sqrt{5} & 5 & \\sqrt{30} & \\sqrt{35} & 2 \\sqrt{10} & 3 \\sqrt{5} & 5 \\sqrt{2} & \\sqrt{55} & 2 \\sqrt{15} & \\sqrt{65} & \\sqrt{70} & 5 \\sqrt{3} & 4 \\sqrt{5} & \\sqrt{85} & 3 \\sqrt{10} & \\sqrt{95}\\\\\\langle{ζ}| & 0 & \\sqrt{6} & 2 \\sqrt{3} & 3 \\sqrt{2} & 2 \\sqrt{6} & \\sqrt{30} & 6 & \\sqrt{42} & 4 \\sqrt{3} & 3 \\sqrt{6} & 2 \\sqrt{15} & \\sqrt{66} & 6 \\sqrt{2} & \\sqrt{78} & 2 \\sqrt{21} & 3 \\sqrt{10} & 4 \\sqrt{6} & \\sqrt{102} & 6 \\sqrt{3} & \\sqrt{114}\\\\\\langle{η}| & 0 & \\sqrt{7} & \\sqrt{14} & \\sqrt{21} & 2 \\sqrt{7} & \\sqrt{35} & \\sqrt{42} & 7 & 2 \\sqrt{14} & 3 \\sqrt{7} & \\sqrt{70} & \\sqrt{77} & 2 \\sqrt{21} & \\sqrt{91} & 7 \\sqrt{2} & \\sqrt{105} & 4 \\sqrt{7} & \\sqrt{119} & 3 \\sqrt{14} & \\sqrt{133}\\\\\\langle{ξ}| & 0 & 2 \\sqrt{2} & 4 & 2 \\sqrt{6} & 4 \\sqrt{2} & 2 \\sqrt{10} & 4 \\sqrt{3} & 2 \\sqrt{14} & 8 & 6 \\sqrt{2} & 4 \\sqrt{5} & 2 \\sqrt{22} & 4 \\sqrt{6} & 2 \\sqrt{26} & 4 \\sqrt{7} & 2 \\sqrt{30} & 8 \\sqrt{2} & 2 \\sqrt{34} & 12 & 2 \\sqrt{38}\\\\\\langle{υ}| & 0 & 3 & 3 \\sqrt{2} & 3 \\sqrt{3} & 6 & 3 \\sqrt{5} & 3 \\sqrt{6} & 3 \\sqrt{7} & 6 \\sqrt{2} & 9 & 3 \\sqrt{10} & 3 \\sqrt{11} & 6 \\sqrt{3} & 3 \\sqrt{13} & 3 \\sqrt{14} & 3 \\sqrt{15} & 12 & 3 \\sqrt{17} & 9 \\sqrt{2} & 3 \\sqrt{19}\\\\\\langle{α}| & 0 & \\sqrt{10} & 2 \\sqrt{5} & \\sqrt{30} & 2 \\sqrt{10} & 5 \\sqrt{2} & 2 \\sqrt{15} & \\sqrt{70} & 4 \\sqrt{5} & 3 \\sqrt{10} & 10 & \\sqrt{110} & 2 \\sqrt{30} & \\sqrt{130} & 2 \\sqrt{35} & 5 \\sqrt{6} & 4 \\sqrt{10} & \\sqrt{170} & 6 \\sqrt{5} & \\sqrt{190}\\\\\\langle{β}| & 0 & \\sqrt{11} & \\sqrt{22} & \\sqrt{33} & 2 \\sqrt{11} & \\sqrt{55} & \\sqrt{66} & \\sqrt{77} & 2 \\sqrt{22} & 3 \\sqrt{11} & \\sqrt{110} & 11 & 2 \\sqrt{33} & \\sqrt{143} & \\sqrt{154} & \\sqrt{165} & 4 \\sqrt{11} & \\sqrt{187} & 3 \\sqrt{22} & \\sqrt{209}\\\\\\langle{χ}| & 0 & 2 \\sqrt{3} & 2 \\sqrt{6} & 6 & 4 \\sqrt{3} & 2 \\sqrt{15} & 6 \\sqrt{2} & 2 \\sqrt{21} & 4 \\sqrt{6} & 6 \\sqrt{3} & 2 \\sqrt{30} & 2 \\sqrt{33} & 12 & 2 \\sqrt{39} & 2 \\sqrt{42} & 6 \\sqrt{5} & 8 \\sqrt{3} & 2 \\sqrt{51} & 6 \\sqrt{6} & 2 \\sqrt{57}\\\\\\langle{δ}| & 0 & \\sqrt{13} & \\sqrt{26} & \\sqrt{39} & 2 \\sqrt{13} & \\sqrt{65} & \\sqrt{78} & \\sqrt{91} & 2 \\sqrt{26} & 3 \\sqrt{13} & \\sqrt{130} & \\sqrt{143} & 2 \\sqrt{39} & 13 & \\sqrt{182} & \\sqrt{195} & 4 \\sqrt{13} & \\sqrt{221} & 3 \\sqrt{26} & \\sqrt{247}\\\\\\langle{ε}| & 0 & \\sqrt{14} & 2 \\sqrt{7} & \\sqrt{42} & 2 \\sqrt{14} & \\sqrt{70} & 2 \\sqrt{21} & 7 \\sqrt{2} & 4 \\sqrt{7} & 3 \\sqrt{14} & 2 \\sqrt{35} & \\sqrt{154} & 2 \\sqrt{42} & \\sqrt{182} & 14 & \\sqrt{210} & 4 \\sqrt{14} & \\sqrt{238} & 6 \\sqrt{7} & \\sqrt{266}\\\\\\langle{ω}| & 0 & \\sqrt{15} & \\sqrt{30} & 3 \\sqrt{5} & 2 \\sqrt{15} & 5 \\sqrt{3} & 3 \\sqrt{10} & \\sqrt{105} & 2 \\sqrt{30} & 3 \\sqrt{15} & 5 \\sqrt{6} & \\sqrt{165} & 6 \\sqrt{5} & \\sqrt{195} & \\sqrt{210} & 15 & 4 \\sqrt{15} & \\sqrt{255} & 3 \\sqrt{30} & \\sqrt{285}\\\\\\langle{ζ}| & 0 & 4 & 4 \\sqrt{2} & 4 \\sqrt{3} & 8 & 4 \\sqrt{5} & 4 \\sqrt{6} & 4 \\sqrt{7} & 8 \\sqrt{2} & 12 & 4 \\sqrt{10} & 4 \\sqrt{11} & 8 \\sqrt{3} & 4 \\sqrt{13} & 4 \\sqrt{14} & 4 \\sqrt{15} & 16 & 4 \\sqrt{17} & 12 \\sqrt{2} & 4 \\sqrt{19}\\\\\\langle{η}| & 0 & \\sqrt{17} & \\sqrt{34} & \\sqrt{51} & 2 \\sqrt{17} & \\sqrt{85} & \\sqrt{102} & \\sqrt{119} & 2 \\sqrt{34} & 3 \\sqrt{17} & \\sqrt{170} & \\sqrt{187} & 2 \\sqrt{51} & \\sqrt{221} & \\sqrt{238} & \\sqrt{255} & 4 \\sqrt{17} & 17 & 3 \\sqrt{34} & \\sqrt{323}\\\\\\langle{ξ}| & 0 & 3 \\sqrt{2} & 6 & 3 \\sqrt{6} & 6 \\sqrt{2} & 3 \\sqrt{10} & 6 \\sqrt{3} & 3 \\sqrt{14} & 12 & 9 \\sqrt{2} & 6 \\sqrt{5} & 3 \\sqrt{22} & 6 \\sqrt{6} & 3 \\sqrt{26} & 6 \\sqrt{7} & 3 \\sqrt{30} & 12 \\sqrt{2} & 3 \\sqrt{34} & 18 & 3 \\sqrt{38}\\\\\\langle{υ}| & 0 & \\sqrt{19} & \\sqrt{38} & \\sqrt{57} & 2 \\sqrt{19} & \\sqrt{95} & \\sqrt{114} & \\sqrt{133} & 2 \\sqrt{38} & 3 \\sqrt{19} & \\sqrt{190} & \\sqrt{209} & 2 \\sqrt{57} & \\sqrt{247} & \\sqrt{266} & \\sqrt{285} & 4 \\sqrt{19} & \\sqrt{323} & 3 \\sqrt{38} & 19\\end{array}$"
      ],
      "text/plain": [
       "<IPython.core.display.Math object>"
      ]
     },
     "metadata": {},
     "output_type": "display_data"
    }
   ],
   "source": [
    "a_matrix = sp.Matrix([[sp.sqrt(i*j) for i in range(20)] for j in range(20)])\n",
    "basis_labels = 'α β γ δ ε ω ζ η ξ υ α β χ δ ε ω ζ η ξ υ'.split(' ')\n",
    "a_l_matrix = labeled_matrix(a_matrix, basis_labels, 'J=3')"
   ]
  },
  {
   "cell_type": "code",
   "execution_count": null,
   "metadata": {},
   "outputs": [],
   "source": [
    "# for term_row, term_col in product(terms, terms): # loop over the terms for rows and columns\n",
    "#     # unpack term_row\n",
    "#     S, L, W = term_row \n",
    "#     # unpack term_col\n",
    "#     Sp, Lp, Wp = term_col\n",
    "#     # make the ranges for ML, MLp, MS, MSp\n",
    "#     ML_s, MLp_s = mrange(L), mrange(Lp)\n",
    "#     MS_s, MSp_s = mrange(S), mrange(Sp)\n",
    "#     for MS, ML, MSp, MLp in product(MS_s, ML_s, MSp_s, MLp_s): # this loops over the enclosed states\n",
    "#         Ω  = (W,  S,  MS,  L,  ML) # full address of row state\n",
    "#         Ωp = (Wp, Sp, MSp, Lp, MLp) # full address of col state\n",
    "#         if just_the_diagonal:\n",
    "#             if Ω != Ωp:\n",
    "#                 continue\n",
    "#         summands = []\n",
    "#         num_iters = 0\n",
    "#         for term_bar in term_bar_s: # iterate over the terms of lⁿ⁻¹\n",
    "#             Sb, Lb, Wb = term_bar # unpack term_bar\n",
    "#             MSb_s, MLb_s = mrange(Sb), mrange(Lb)\n",
    "#             for MSb, MLb in product(MSb_s, MLb_s):\n",
    "#                 Ωb = (Wb, Sb, MSb, Lb, MLb) # full address of an lⁿ⁻¹ state\n",
    "#                 for ml, ms in product(mls, Ms_s): # Σ ω, ωp assumming δ(ml,mlp)δ(ms,msp)\n",
    "#                     mlp, msp = ml, ms\n",
    "#                     num_iters += 1\n",
    "#                     ω =  (1, HALF, ms,  l, ml)\n",
    "#                     ωp = (1, HALF, msp, l, mlp)\n",
    "#                     fp0 = Ω_coeff(l, n, Ω, Ωb, ω)\n",
    "#                     if fp0 == 0:\n",
    "#                         continue\n",
    "#                     fp1 = Ω_coeff(l, n, Ωp, Ωb, ωp)\n",
    "#                     if fp1 == 0:\n",
    "#                         continue\n",
    "#                     summand = fp0 * fp1 * ham_single(ms,ml,msp,mlp)\n",
    "#                     summands.append(summand)\n",
    "#         one_body_ham[(Ω, Ωp)] = n*sum(summands)\n",
    "# return one_body_ham"
   ]
  },
  {
   "cell_type": "markdown",
   "metadata": {},
   "source": [
    "# LS bases (Apr-27 2022-04-27 10:16:29)"
   ]
  },
  {
   "cell_type": "markdown",
   "metadata": {},
   "source": [
    "Create the multi-electron bases |L,S,ML,MS⟩ explicitly using the one-body coefficients of fractional parentage. Results are saved as dictionaries that are keyed by 4-tuples (L,S,ML,MS) and whose values are qets whose keys are 2n-tuples (ml_1, ms_1, ml_2, ms_2, ... ml_n, ms_n) whose coefficients are symbolic expressions for the coefficients.\n",
    "\n",
    "Going beyond the half-filled shell states is unnecessary but it's done here nonetheless."
   ]
  },
  {
   "cell_type": "markdown",
   "metadata": {},
   "source": [
    "## Loops and loops"
   ]
  },
  {
   "cell_type": "code",
   "execution_count": null,
   "metadata": {},
   "outputs": [],
   "source": [
    "# up to half-filled\n",
    "Ψs_1 = {(1, to.HALF, ms, l, ml): Qet({(ml,ms):1}) for ml,ms in product(to.mrange(l), to.mrange(to.HALF)) }\n",
    "\n",
    "l , n = 2, 2\n",
    "terms_n = list(to.term_range(l, n))\n",
    "terms_nm1 = list(to.term_range(l, n-1))\n",
    "Ψs_2 = {} # this will be a dictionary of qets, these are all determinantal qets\n",
    "for term_n in terms_n: # for each term there will be a bunch of wavefunctions\n",
    "    ψ_key = term_n\n",
    "    S_n, L_n, W_n = term_n\n",
    "    for MS_n , ML_n in product(to.mrange(S_n), to.mrange(L_n)):\n",
    "        Ω = (W_n, S_n, MS_n, L_n, ML_n)\n",
    "        summands = []\n",
    "        for ml, ms in product(to.mrange(l), to.mrange(to.HALF)):\n",
    "            Ω_1 = (1, to.HALF, ms, l, ml)\n",
    "            for term_nm1 in terms_nm1:\n",
    "                for Ω_bar in to.ψ_range(term_nm1):\n",
    "                    (W_bar, S_bar, MS_bar, L_bar, ML_bar) = Ω_bar\n",
    "                    Ω_bar_qet = Qet({(ML_bar, MS_bar):1})\n",
    "                    coeff = to.Ω_coeff(l,n, Ω, Ω_bar, Ω_1)\n",
    "                    if coeff:\n",
    "                        qet = coeff*Qet({(ml,ms):1})*Ω_bar_qet\n",
    "                        summands.append(qet)\n",
    "        full_qet = sum(summands,Qet({}))\n",
    "        Ψs_2[Ω] = full_qet\n",
    "\n",
    "l , n = 2, 3\n",
    "terms_n = list(to.term_range(l, n))\n",
    "terms_nm1 = list(to.term_range(l, n-1))\n",
    "Ψs_3 = {} # this will be a dictionary of qets, these are all determinantal qets\n",
    "for term_n in terms_n: # for each term there will be a bunch of wavefunctions\n",
    "    ψ_key = term_n\n",
    "    S_n, L_n, W_n = term_n\n",
    "    for MS_n , ML_n in product(to.mrange(S_n), to.mrange(L_n)):\n",
    "        Ω = (W_n, S_n, MS_n, L_n, ML_n)\n",
    "        summands = []\n",
    "        for ml, ms in product(to.mrange(l), to.mrange(to.HALF)):\n",
    "            Ω_1 = (1, to.HALF, ms, l, ml)\n",
    "            for term_nm1 in terms_nm1:\n",
    "                for Ω_bar in to.ψ_range(term_nm1):\n",
    "                    (W_bar, S_bar, MS_bar, L_bar, ML_bar) = Ω_bar\n",
    "                    Ω_bar_qet = Ψs_2[(Ω_bar)]\n",
    "                    coeff = to.Ω_coeff(l,n, Ω, Ω_bar, Ω_1)\n",
    "                    if coeff:\n",
    "                        qet = coeff*Qet({(ml,ms):1})*Ω_bar_qet\n",
    "                        summands.append(qet)\n",
    "        full_qet = sum(summands,Qet({}))\n",
    "        Ψs_3[Ω] = full_qet\n",
    "\n",
    "l , n = 2, 4\n",
    "terms_n = list(to.term_range(l, n))\n",
    "terms_nm1 = list(to.term_range(l, n-1))\n",
    "Ψs_4 = {} # this will be a dictionary of qets, these are all determinantal qets\n",
    "for term_n in terms_n: # for each term there will be a bunch of wavefunctions\n",
    "    ψ_key = term_n\n",
    "    S_n, L_n, W_n = term_n\n",
    "    for MS_n , ML_n in product(to.mrange(S_n), to.mrange(L_n)):\n",
    "        Ω = (W_n, S_n, MS_n, L_n, ML_n)\n",
    "        summands = []\n",
    "        for ml, ms in product(to.mrange(l), to.mrange(to.HALF)):\n",
    "            Ω_1 = (1, to.HALF, ms, l, ml)\n",
    "            for term_nm1 in terms_nm1:\n",
    "                for Ω_bar in to.ψ_range(term_nm1):\n",
    "                    (W_bar, S_bar, MS_bar, L_bar, ML_bar) = Ω_bar\n",
    "                    Ω_bar_qet = Ψs_3[(Ω_bar)]\n",
    "                    coeff = to.Ω_coeff(l,n, Ω, Ω_bar, Ω_1)\n",
    "                    if coeff:\n",
    "                        qet = coeff*Qet({(ml,ms):1})*Ω_bar_qet\n",
    "                        summands.append(qet)\n",
    "        full_qet = sum(summands,Qet({}))\n",
    "        Ψs_4[Ω] = full_qet\n",
    "\n",
    "l , n = 2, 5\n",
    "terms_n = list(to.term_range(l, n))\n",
    "terms_nm1 = list(to.term_range(l, n-1))\n",
    "Ψs_5 = {} # this will be a dictionary of qets, these are all determinantal qets\n",
    "for term_n in terms_n: # for each term there will be a bunch of wavefunctions\n",
    "    ψ_key = term_n\n",
    "    S_n, L_n, W_n = term_n\n",
    "    for MS_n , ML_n in product(to.mrange(S_n), to.mrange(L_n)):\n",
    "        Ω = (W_n, S_n, MS_n, L_n, ML_n)\n",
    "        summands = []\n",
    "        for ml, ms in product(to.mrange(l), to.mrange(to.HALF)):\n",
    "            Ω_1 = (1, to.HALF, ms, l, ml)\n",
    "            for term_nm1 in terms_nm1:\n",
    "                for Ω_bar in to.ψ_range(term_nm1):\n",
    "                    (W_bar, S_bar, MS_bar, L_bar, ML_bar) = Ω_bar\n",
    "                    Ω_bar_qet = Ψs_4[(Ω_bar)]\n",
    "                    coeff = to.Ω_coeff(l,n, Ω, Ω_bar, Ω_1)\n",
    "                    if coeff:\n",
    "                        qet = coeff*Qet({(ml,ms):1})*Ω_bar_qet\n",
    "                        summands.append(qet)\n",
    "        full_qet = sum(summands,Qet({}))\n",
    "        Ψs_5[Ω] = full_qet"
   ]
  },
  {
   "cell_type": "code",
   "execution_count": 100,
   "metadata": {},
   "outputs": [
    {
     "name": "stdout",
     "output_type": "stream",
     "text": [
      "Loading data for 1-body coefficients of fractional parentage...\n"
     ]
    }
   ],
   "source": [
    "# from half-filled onwards\n",
    "# this takes about 6 minutes\n",
    "l , n = 2, 6\n",
    "terms_n = list(to.term_range(l, n))\n",
    "terms_nm1 = list(to.term_range(l, n-1))\n",
    "# initally I will develop this assuming that n is 2\n",
    "# in which case the basis for n-1 is trivial\n",
    "Ψs_6 = {} # this will be a dictionary of qets, these are all determinantal qets\n",
    "for term_n in terms_n: # for each term there will be a bunch of wavefunctions\n",
    "    ψ_key = term_n\n",
    "    S_n, L_n, W_n = term_n\n",
    "    for MS_n , ML_n in product(to.mrange(S_n), to.mrange(L_n)):\n",
    "        Ω = (W_n, S_n, MS_n, L_n, ML_n)\n",
    "        summands = []\n",
    "        for ml, ms in product(to.mrange(l), to.mrange(to.HALF)):\n",
    "            Ω_1 = (1, to.HALF, ms, l, ml)\n",
    "            for term_nm1 in terms_nm1:\n",
    "                for Ω_bar in to.ψ_range(term_nm1):\n",
    "                    (W_bar, S_bar, MS_bar, L_bar, ML_bar) = Ω_bar\n",
    "                    Ω_bar_qet = Ψs_5[(Ω_bar)]\n",
    "                    coeff = to.Ω_coeff(l,n, Ω, Ω_bar, Ω_1)\n",
    "                    if coeff:\n",
    "                        qet = coeff*Qet({(ml,ms):1})*Ω_bar_qet\n",
    "                        summands.append(qet)\n",
    "        full_qet = sum(summands,Qet({}))\n",
    "        Ψs_6[Ω] = full_qet\n",
    "\n",
    "# this takes about 20 minutes to run\n",
    "l , n = 2, 7\n",
    "terms_n = list(to.term_range(l, n))\n",
    "terms_nm1 = list(to.term_range(l, n-1))\n",
    "# initally I will develop this assuming that n is 2\n",
    "# in which case the basis for n-1 is trivial\n",
    "Ψs_7 = {} # this will be a dictionary of qets, these are all determinantal qets\n",
    "for term_n in terms_n: # for each term there will be a bunch of wavefunctions\n",
    "    ψ_key = term_n\n",
    "    S_n, L_n, W_n = term_n\n",
    "    for MS_n , ML_n in product(to.mrange(S_n), to.mrange(L_n)):\n",
    "        Ω = (W_n, S_n, MS_n, L_n, ML_n)\n",
    "        summands = []\n",
    "        for ml, ms in product(to.mrange(l), to.mrange(to.HALF)):\n",
    "            Ω_1 = (1, to.HALF, ms, l, ml)\n",
    "            for term_nm1 in terms_nm1:\n",
    "                for Ω_bar in to.ψ_range(term_nm1):\n",
    "                    (W_bar, S_bar, MS_bar, L_bar, ML_bar) = Ω_bar\n",
    "                    Ω_bar_qet = Ψs_6[(Ω_bar)]\n",
    "                    coeff = to.Ω_coeff(l,n, Ω, Ω_bar, Ω_1)\n",
    "                    if coeff:\n",
    "                        qet = coeff*Qet({(ml,ms):1})*Ω_bar_qet\n",
    "                        summands.append(qet)\n",
    "        full_qet = sum(summands,Qet({}))\n",
    "        Ψs_7[Ω] = full_qet\n",
    "\n",
    "# this takes about 110 minutes to run\n",
    "l , n = 2, 8\n",
    "terms_n = list(to.term_range(l, n))\n",
    "terms_nm1 = list(to.term_range(l, n-1))\n",
    "# initally I will develop this assuming that n is 2\n",
    "# in which case the basis for n-1 is trivial\n",
    "Ψs_8 = {} # this will be a dictionary of qets, these are all determinantal qets\n",
    "for term_n in terms_n: # for each term there will be a bunch of wavefunctions\n",
    "    ψ_key = term_n\n",
    "    S_n, L_n, W_n = term_n\n",
    "    for MS_n , ML_n in product(to.mrange(S_n), to.mrange(L_n)):\n",
    "        Ω = (W_n, S_n, MS_n, L_n, ML_n)\n",
    "        summands = []\n",
    "        for ml, ms in product(to.mrange(l), to.mrange(to.HALF)):\n",
    "            Ω_1 = (1, to.HALF, ms, l, ml)\n",
    "            for term_nm1 in terms_nm1:\n",
    "                for Ω_bar in to.ψ_range(term_nm1):\n",
    "                    (W_bar, S_bar, MS_bar, L_bar, ML_bar) = Ω_bar\n",
    "                    Ω_bar_qet = Ψs_7[(Ω_bar)]\n",
    "                    coeff = to.Ω_coeff(l,n, Ω, Ω_bar, Ω_1)\n",
    "                    if coeff:\n",
    "                        qet = coeff*Qet({(ml,ms):1})*Ω_bar_qet\n",
    "                        summands.append(qet)\n",
    "        full_qet = sum(summands,Qet({}))\n",
    "        Ψs_8[Ω] = full_qet\n",
    "\n",
    "# this takes about 340 minutes to run\n",
    "l , n = 2, 9\n",
    "terms_n = list(to.term_range(l, n))\n",
    "terms_nm1 = list(to.term_range(l, n-1))\n",
    "# initally I will develop this assuming that n is 2\n",
    "# in which case the basis for n-1 is trivial\n",
    "Ψs_9 = {} # this will be a dictionary of qets, these are all determinantal qets\n",
    "for term_n in terms_n: # for each term there will be a bunch of wavefunctions\n",
    "    ψ_key = term_n\n",
    "    S_n, L_n, W_n = term_n\n",
    "    for MS_n , ML_n in product(to.mrange(S_n), to.mrange(L_n)):\n",
    "        Ω = (W_n, S_n, MS_n, L_n, ML_n)\n",
    "        summands = []\n",
    "        for ml, ms in product(to.mrange(l), to.mrange(to.HALF)):\n",
    "            Ω_1 = (1, to.HALF, ms, l, ml)\n",
    "            for term_nm1 in terms_nm1:\n",
    "                for Ω_bar in to.ψ_range(term_nm1):\n",
    "                    (W_bar, S_bar, MS_bar, L_bar, ML_bar) = Ω_bar\n",
    "                    Ω_bar_qet = Ψs_8[(Ω_bar)]\n",
    "                    coeff = to.Ω_coeff(l,n, Ω, Ω_bar, Ω_1)\n",
    "                    if coeff:\n",
    "                        qet = coeff*Qet({(ml,ms):1})*Ω_bar_qet\n",
    "                        summands.append(qet)\n",
    "        full_qet = sum(summands,Qet({}))\n",
    "        Ψs_9[Ω] = full_qet"
   ]
  },
  {
   "cell_type": "code",
   "execution_count": 160,
   "metadata": {},
   "outputs": [],
   "source": [
    "LS_Ψs = {1: Ψs_1, 2: Ψs_2, 3: Ψs_3, 4: Ψs_4, 5: Ψs_5, 6: Ψs_6, 7: Ψs_7, 8: Ψs_8, 9: Ψs_9}\n",
    "LS_Ψs = {num_e: {k:ψ.dict for k,ψ in Ψs.items()} for num_e, Ψs in LS_Ψs.items()}"
   ]
  },
  {
   "cell_type": "code",
   "execution_count": 161,
   "metadata": {},
   "outputs": [],
   "source": [
    "from misc import split_dump"
   ]
  },
  {
   "cell_type": "code",
   "execution_count": 162,
   "metadata": {},
   "outputs": [
    {
     "name": "stdout",
     "output_type": "stream",
     "text": [
      "Object pickled to 6 file(s).\n"
     ]
    }
   ],
   "source": [
    "pickle.dump(LS_Ψs, open('./data/LS_qets_1_to_9.pkl','wb'))\n",
    "split_dump(LS_Ψs, 'LS_qets_1_to_9', './data/', 90)"
   ]
  },
  {
   "cell_type": "code",
   "execution_count": 157,
   "metadata": {},
   "outputs": [],
   "source": [
    "LS_Ψs = {1: Ψs_1, 2: Ψs_2, 3: Ψs_3, 4: Ψs_4, 5: Ψs_5}\n",
    "LS_Ψs = {num_e: {k:ψ.dict for k,ψ in Ψs.items()} for num_e, Ψs in LS_Ψs.items()}\n",
    "pickle.dump(LS_Ψs, open('./data/LS_qets_1_to_5.pkl','wb'))"
   ]
  },
  {
   "cell_type": "markdown",
   "metadata": {},
   "source": [
    "## Neat loop"
   ]
  },
  {
   "cell_type": "code",
   "execution_count": 251,
   "metadata": {},
   "outputs": [
    {
     "name": "stdout",
     "output_type": "stream",
     "text": [
      "> Building LSMLMS determinantal qets for d^2\n",
      "> Building LSMLMS determinantal qets for d^3\n",
      "> Building LSMLMS determinantal qets for d^4\n"
     ]
    }
   ],
   "source": [
    "# up to half-filled\n",
    "\n",
    "l = 2\n",
    "n_max = (2*l+1)\n",
    "n_max = 4\n",
    "\n",
    "LS_Ψs = {}\n",
    "LS_Ψs[1] = {(1, to.HALF, ms, l, ml): Qet({(ml,ms):1}) for ml,ms in product(to.mrange(l), to.mrange(to.HALF)) }\n",
    "\n",
    "for n in range(2, n_max+1):\n",
    "    print(\"> Building LSMLMS determinantal qets for %s^%d\" % (l_notation_switch(l).lower(),n))\n",
    "    terms_n = list(to.term_range(l, n))\n",
    "    terms_nm1 = list(to.term_range(l, n-1))\n",
    "    # this will be a dictionary of qets\n",
    "    Ψs_next = {} \n",
    "    for term_n in terms_n: # for each term there will be a bunch of wavefunctions\n",
    "        ψ_key = term_n\n",
    "        S_n, L_n, W_n = term_n\n",
    "        for MS_n , ML_n in product(to.mrange(S_n), to.mrange(L_n)):\n",
    "            Ω = (W_n, S_n, MS_n, L_n, ML_n)\n",
    "            summands = []\n",
    "            for ml, ms in product(to.mrange(l), to.mrange(to.HALF)):\n",
    "                Ω_1 = (1, to.HALF, ms, l, ml)\n",
    "                for term_nm1 in terms_nm1:\n",
    "                    for Ω_bar in to.ψ_range(term_nm1):\n",
    "                        (W_bar, S_bar, MS_bar, L_bar, ML_bar) = Ω_bar\n",
    "                        Ω_bar_qet = LS_Ψs[n-1][(Ω_bar)]\n",
    "                        coeff = to.Ω_coeff(l,n, Ω, Ω_bar, Ω_1)\n",
    "                        if coeff:\n",
    "                            qet = coeff * (Ω_bar_qet * Qet({(ml,ms):1}))\n",
    "                            summands.append(qet)\n",
    "            full_qet = sum(summands,Qet({}))\n",
    "            Ψs_next[Ω] = full_qet\n",
    "    LS_Ψs[n] = Ψs_next\n"
   ]
  },
  {
   "cell_type": "code",
   "execution_count": null,
   "metadata": {},
   "outputs": [],
   "source": [
    "# v 1 10.2\n",
    "# shortcircuit 1.2s\n",
    "# shortcircuit 2.8s\n",
    "# adding as it goes along 10.7\n",
    "# parallelized 3.9s"
   ]
  },
  {
   "cell_type": "markdown",
   "metadata": {},
   "source": [
    "### alternatives"
   ]
  },
  {
   "cell_type": "code",
   "execution_count": 254,
   "metadata": {},
   "outputs": [
    {
     "name": "stdout",
     "output_type": "stream",
     "text": [
      "> Building LSMLMS determinantal qets for d^2\n",
      "> Building LSMLMS determinantal qets for d^3\n",
      "> Building LSMLMS determinantal qets for d^4\n"
     ]
    }
   ],
   "source": [
    "# # shortcircuit\n",
    "# up to half-filled\n",
    "\n",
    "l = 2\n",
    "n_max = (2*l+1)\n",
    "n_max = 4\n",
    "\n",
    "LS_Ψs = {}\n",
    "LS_Ψs[1] = {(1, to.HALF, ms, l, ml): Qet({(ml,ms):1}) for ml,ms in product(to.mrange(l), to.mrange(to.HALF)) }\n",
    "\n",
    "for n in range(2, n_max+1):\n",
    "    print(\"> Building LSMLMS determinantal qets for %s^%d\" % (l_notation_switch(l).lower(),n))\n",
    "    terms_n = list(to.term_range(l, n))\n",
    "    terms_nm1 = list(to.term_range(l, n-1))\n",
    "    # this will be a dictionary of qets\n",
    "    Ψs_next = {} \n",
    "    for term_n in terms_n: # for each term there will be a bunch of wavefunctions\n",
    "        ψ_key = term_n\n",
    "        S_n, L_n, W_n = term_n\n",
    "        for MS_n , ML_n in product(to.mrange(S_n), to.mrange(L_n)):\n",
    "            Ω = (W_n, S_n, MS_n, L_n, ML_n)\n",
    "            summands = []\n",
    "            for ml, ms in product(to.mrange(l), to.mrange(to.HALF)):\n",
    "                Ω_1 = (1, to.HALF, ms, l, ml)\n",
    "                for term_nm1 in terms_nm1:\n",
    "                    for Ω_bar in to.ψ_range(term_nm1):\n",
    "                        (W_bar, S_bar, MS_bar, L_bar, ML_bar) = Ω_bar\n",
    "                        Ω_bar_qet = LS_Ψs[n-1][(Ω_bar)]\n",
    "                        # coeff = to.Ω_coeff(l,n, Ω, Ω_bar, Ω_1)\n",
    "                        continue\n",
    "                        if coeff:\n",
    "                            qet = coeff * (Ω_bar_qet * Qet({(ml,ms):1}))\n",
    "                            summands.append(qet)\n",
    "            full_qet = sum(summands,Qet({}))\n",
    "            Ψs_next[Ω] = full_qet\n",
    "    LS_Ψs[n] = Ψs_next\n"
   ]
  },
  {
   "cell_type": "code",
   "execution_count": 256,
   "metadata": {},
   "outputs": [
    {
     "name": "stdout",
     "output_type": "stream",
     "text": [
      "> Building LSMLMS determinantal qets for d^2\n",
      "> Building LSMLMS determinantal qets for d^3\n",
      "> Building LSMLMS determinantal qets for d^4\n"
     ]
    }
   ],
   "source": [
    "# # shortcircuit with coeff\n",
    "# up to half-filled\n",
    "\n",
    "l = 2\n",
    "n_max = (2*l+1)\n",
    "n_max = 4\n",
    "\n",
    "LS_Ψs = {}\n",
    "LS_Ψs[1] = {(1, to.HALF, ms, l, ml): Qet({(ml,ms):1}) for ml,ms in product(to.mrange(l), to.mrange(to.HALF)) }\n",
    "\n",
    "for n in range(2, n_max+1):\n",
    "    print(\"> Building LSMLMS determinantal qets for %s^%d\" % (l_notation_switch(l).lower(),n))\n",
    "    terms_n = list(to.term_range(l, n))\n",
    "    terms_nm1 = list(to.term_range(l, n-1))\n",
    "    # this will be a dictionary of qets\n",
    "    Ψs_next = {} \n",
    "    for term_n in terms_n: # for each term there will be a bunch of wavefunctions\n",
    "        ψ_key = term_n\n",
    "        S_n, L_n, W_n = term_n\n",
    "        for MS_n , ML_n in product(to.mrange(S_n), to.mrange(L_n)):\n",
    "            Ω = (W_n, S_n, MS_n, L_n, ML_n)\n",
    "            summands = []\n",
    "            for ml, ms in product(to.mrange(l), to.mrange(to.HALF)):\n",
    "                Ω_1 = (1, to.HALF, ms, l, ml)\n",
    "                for term_nm1 in terms_nm1:\n",
    "                    for Ω_bar in to.ψ_range(term_nm1):\n",
    "                        (W_bar, S_bar, MS_bar, L_bar, ML_bar) = Ω_bar\n",
    "                        Ω_bar_qet = LS_Ψs[n-1][(Ω_bar)]\n",
    "                        coeff = to.Ω_coeff(l,n, Ω, Ω_bar, Ω_1)\n",
    "                        if coeff:\n",
    "                            qet = coeff * (Ω_bar_qet * Qet({(ml,ms):1}))\n",
    "                            summands.append(qet)\n",
    "            full_qet = sum(summands,Qet({}))\n",
    "            Ψs_next[Ω] = full_qet\n",
    "    LS_Ψs[n] = Ψs_next\n"
   ]
  },
  {
   "cell_type": "code",
   "execution_count": 290,
   "metadata": {},
   "outputs": [
    {
     "name": "stdout",
     "output_type": "stream",
     "text": [
      "> Building LSMLMS determinantal qets for d^2\n"
     ]
    }
   ],
   "source": [
    "# # adding as it goes along\n",
    "# up to half-filled\n",
    "\n",
    "l = 2\n",
    "n_max = (2*l+1)\n",
    "n_max = 4\n",
    "\n",
    "LS_Ψs = {}\n",
    "LS_Ψs[1] = {(1, to.HALF, ms, l, ml): Qet({(ml,ms):1}) for ml,ms in product(to.mrange(l), to.mrange(to.HALF)) }\n",
    "\n",
    "for n in range(2, n_max+1):\n",
    "    print(\"> Building LSMLMS determinantal qets for %s^%d\" % (l_notation_switch(l).lower(),n))\n",
    "    terms_n = list(to.term_range(l, n))\n",
    "    terms_nm1 = list(to.term_range(l, n-1))\n",
    "    # this will be a dictionary of qets\n",
    "    Ψs_next = {} \n",
    "    for term_n in terms_n: # for each term there will be a bunch of wavefunctions\n",
    "        ψ_key = term_n\n",
    "        S_n, L_n, W_n = term_n\n",
    "        for MS_n , ML_n in product(to.mrange(S_n), to.mrange(L_n)):\n",
    "            Ω = (W_n, S_n, MS_n, L_n, ML_n)\n",
    "            qet = Qet({})\n",
    "            for ml, ms in product(to.mrange(l), to.mrange(to.HALF)):\n",
    "                Ω_1 = (1, to.HALF, ms, l, ml)\n",
    "                for term_nm1 in terms_nm1:\n",
    "                    for Ω_bar in to.ψ_range(term_nm1):\n",
    "                        (W_bar, S_bar, MS_bar, L_bar, ML_bar) = Ω_bar\n",
    "                        Ω_bar_qet = LS_Ψs[n-1][(Ω_bar)]\n",
    "                        coeff = to.Ω_coeff(l,n, Ω, Ω_bar, Ω_1)\n",
    "                        if coeff:\n",
    "                            qet = qet + coeff * (Ω_bar_qet * Qet({(ml,ms):1}))\n",
    "            Ψs_next[Ω] = qet\n",
    "    LS_Ψs[n] = Ψs_next\n"
   ]
  },
  {
   "cell_type": "markdown",
   "metadata": {},
   "source": [
    "## Parallelized"
   ]
  },
  {
   "cell_type": "code",
   "execution_count": 311,
   "metadata": {},
   "outputs": [],
   "source": [
    "from joblib import Parallel, delayed\n",
    "import multiprocessing\n",
    "num_cores = multiprocessing.cpu_count()"
   ]
  },
  {
   "cell_type": "code",
   "execution_count": 338,
   "metadata": {},
   "outputs": [],
   "source": [
    "def ψ_baker(l, n, S_n, L_n, W_n, MS_n , ML_n, ψs_nm1, terms_nm1):\n",
    "    Ω = (W_n, S_n, MS_n, L_n, ML_n)\n",
    "    qet = Qet({})\n",
    "    for ml, ms in product(to.mrange(l), to.mrange(to.HALF)):\n",
    "        Ω_1 = (1, to.HALF, ms, l, ml)\n",
    "        for term_nm1 in terms_nm1:\n",
    "            for Ω_bar in to.ψ_range(term_nm1):\n",
    "                Ω_bar_qet = ψs_nm1[(Ω_bar)]\n",
    "                coeff = to.Ω_coeff(l,n, Ω, Ω_bar, Ω_1)\n",
    "                if coeff:\n",
    "                    qet = qet + coeff * (Ω_bar_qet * Qet({(ml,ms):1}))\n",
    "    return (Ω, qet)"
   ]
  },
  {
   "cell_type": "code",
   "execution_count": null,
   "metadata": {},
   "outputs": [],
   "source": [
    "l = 2\n",
    "n_max = (2*l+1)\n",
    "n_max = 4\n",
    "\n",
    "LS_Ψs = {}\n",
    "LS_Ψs[1] = {(1, to.HALF, ms, l, ml): Qet({(ml,ms):1}) for ml,ms in product(to.mrange(l), to.mrange(to.HALF)) }\n",
    "\n",
    "for n in range(2, n_max+1):\n",
    "    print(\"> Building LSMLMS determinantal qets for %s^%d\" % (l_notation_switch(l).lower(),n))\n",
    "    start_time = time()\n",
    "    terms_n = list(to.term_range(l, n))\n",
    "    terms_nm1 = list(to.term_range(l, n-1))\n",
    "    # this will be a dictionary of qets\n",
    "    all_qets = []\n",
    "    for term_n in terms_n: # for each term there will be a bunch of wavefunctions\n",
    "        ψ_key = term_n\n",
    "        S_n, L_n, W_n = term_n\n",
    "        qets = Parallel(n_jobs = num_cores)(delayed(ψ_baker)(l, n, S_n, L_n, W_n, MS_n, ML_n, LS_Ψs[n-1], terms_nm1) for (MS_n, ML_n) in product(to.mrange(S_n), to.mrange(L_n)))\n",
    "        all_qets.extend(qets)\n",
    "    LS_Ψs[n] = dict(all_qets)\n",
    "    end_time = time()\n",
    "    print(\">> Time taken: %.1f minutes.\" % ((end_time-start_time)/60))\n"
   ]
  },
  {
   "cell_type": "code",
   "execution_count": 321,
   "metadata": {},
   "outputs": [],
   "source": [
    "LS_Ψs = {num_e: {k:ψ.dict for k,ψ in Ψs.items()} for num_e, Ψs in LS_Ψs.items()}\n",
    "pickle.dump(LS_Ψs, open('./data/LS_qets_1_to_5.pkl','wb'))"
   ]
  },
  {
   "cell_type": "code",
   "execution_count": null,
   "metadata": {},
   "outputs": [],
   "source": [
    "# this takes about 30 minutes to run\n",
    "l = 2\n",
    "n_max = 2*(2*l+1) - 1\n",
    "\n",
    "LS_Ψs = {}\n",
    "LS_Ψs[1] = {(1, to.HALF, ms, l, ml): Qet({(ml,ms):1}) for ml,ms in product(to.mrange(l), to.mrange(to.HALF)) }\n",
    "\n",
    "for n in range(2, n_max+1):\n",
    "    print(\"> Building LSMLMS determinantal qets for %s^%d\" % (l_notation_switch(l).lower(),n))\n",
    "    start_time = time()\n",
    "    terms_n = list(to.term_range(l, n))\n",
    "    terms_nm1 = list(to.term_range(l, n-1))\n",
    "    all_qets = {}\n",
    "    for term_n in terms_n: # for each term there will be a bunch of wavefunctions\n",
    "        ψ_key = term_n\n",
    "        S_n, L_n, W_n = term_n\n",
    "        qets = Parallel(n_jobs = num_cores)(delayed(ψ_baker)(l, n, S_n, L_n, W_n, MS_n, ML_n, LS_Ψs[n-1], terms_nm1) for (MS_n, ML_n) in product(to.mrange(S_n), to.mrange(L_n)))\n",
    "        all_qets[tuple(term_n)] = qets\n",
    "    LS_Ψs[n] = all_qets\n",
    "    end_time = time()\n",
    "    print(\">> Time taken: %.1f minutes.\" % ((end_time-start_time)/60))\n"
   ]
  },
  {
   "cell_type": "code",
   "execution_count": 323,
   "metadata": {},
   "outputs": [
    {
     "data": {
      "text/plain": [
       "[10, 45, 120, 210, 252, 210, 120, 45, 10]"
      ]
     },
     "execution_count": 323,
     "metadata": {},
     "output_type": "execute_result"
    }
   ],
   "source": [
    "list(map(len,LS_Ψs.values())) "
   ]
  },
  {
   "cell_type": "code",
   "execution_count": 324,
   "metadata": {},
   "outputs": [
    {
     "name": "stdout",
     "output_type": "stream",
     "text": [
      "Removed 6 previous matching files.\n",
      "Object pickled to 6 file(s).\n"
     ]
    }
   ],
   "source": [
    "LS_Ψs = {num_e: {k:ψ.dict for k,ψ in Ψs.items()} for num_e, Ψs in LS_Ψs.items()}\n",
    "pickle.dump(LS_Ψs, open('./data/LS_qets_1_to_9.pkl','wb'))\n",
    "split_dump(LS_Ψs, 'LS_qets_1_to_9', './data/', 90)"
   ]
  },
  {
   "cell_type": "markdown",
   "metadata": {},
   "source": [
    "## Parallelized with term keys (moved to script LS_basis_gen.py)"
   ]
  },
  {
   "cell_type": "code",
   "execution_count": 359,
   "metadata": {},
   "outputs": [],
   "source": [
    "from joblib import Parallel, delayed\n",
    "import multiprocessing\n",
    "num_cores = multiprocessing.cpu_count()"
   ]
  },
  {
   "cell_type": "code",
   "execution_count": 375,
   "metadata": {},
   "outputs": [],
   "source": [
    "def ψ_baker(l, n, S_n, L_n, W_n, MS_n , ML_n, ψs_nm1, terms_nm1):\n",
    "    Ω = (W_n, S_n, MS_n, L_n, ML_n)\n",
    "    qet = Qet({})\n",
    "    for ml, ms in product(to.mrange(l), to.mrange(to.HALF)):\n",
    "        Ω_1 = (1, to.HALF, ms, l, ml)\n",
    "        for term_nm1 in terms_nm1:\n",
    "            for Ω_bar in to.ψ_range(term_nm1):\n",
    "                term_bar = (Ω_bar[1], Ω_bar[3], Ω_bar[0])\n",
    "                Ω_bar_qet = ψs_nm1[term_bar][Ω_bar]\n",
    "                coeff = to.Ω_coeff(l,n, Ω, Ω_bar, Ω_1)\n",
    "                if coeff:\n",
    "                    qet = qet + coeff * (Ω_bar_qet * Qet({(ml,ms):1}))\n",
    "    return (Ω, qet)"
   ]
  },
  {
   "cell_type": "code",
   "execution_count": 391,
   "metadata": {},
   "outputs": [
    {
     "name": "stdout",
     "output_type": "stream",
     "text": [
      "> Building LSMLMS determinantal qets for d^2\n",
      ">> Time taken: 0.00 minutes.\n",
      "> Building LSMLMS determinantal qets for d^3\n",
      ">> Time taken: 0.01 minutes.\n",
      "> Building LSMLMS determinantal qets for d^4\n",
      ">> Time taken: 0.04 minutes.\n",
      "> Building LSMLMS determinantal qets for d^5\n",
      ">> Time taken: 0.31 minutes.\n"
     ]
    }
   ],
   "source": [
    "l = 2\n",
    "n_max = (2*l+1)\n",
    "\n",
    "LS_Ψs = {}\n",
    "LS_Ψs[1] = {(to.HALF,l,1): {(1, to.HALF, ms, l, ml): Qet({(ml,ms):1}) for ml,ms in product(to.mrange(l), to.mrange(to.HALF)) }}\n",
    "\n",
    "for n in range(2, n_max+1):\n",
    "    print(\"> Building LSMLMS determinantal qets for %s^%d\" % (l_notation_switch(l).lower(),n))\n",
    "    start_time = time()\n",
    "    terms_n = list(to.term_range(l, n))\n",
    "    terms_nm1 = list(to.term_range(l, n-1))\n",
    "    all_qets = {}\n",
    "    for term_n in terms_n: # for each term there will be a bunch of wavefunctions\n",
    "        ψ_key = term_n\n",
    "        S_n, L_n, W_n = term_n\n",
    "        term_n = tuple(term_n)\n",
    "        qets = Parallel(n_jobs = num_cores)(delayed(ψ_baker)(l, n, S_n, L_n, W_n, MS_n, ML_n, LS_Ψs[n-1], terms_nm1) for (MS_n, ML_n) in product(to.mrange(S_n), to.mrange(L_n)))\n",
    "        all_qets[term_n] = dict(qets)\n",
    "    LS_Ψs[n] = all_qets\n",
    "    end_time = time()\n",
    "    print(\">> Time taken: %.2f minutes.\" % ((end_time-start_time)/60))\n"
   ]
  },
  {
   "cell_type": "code",
   "execution_count": 392,
   "metadata": {},
   "outputs": [],
   "source": [
    "LS_Ψs = {num_e: {term: {k:ψ.dict for k,ψ in Ψs[term].items()} for term in Ψs} for num_e, Ψs in LS_Ψs.items()}\n",
    "pickle.dump(LS_Ψs, open('./data/LS_qets_1_to_5.pkl','wb'))"
   ]
  },
  {
   "cell_type": "code",
   "execution_count": 393,
   "metadata": {},
   "outputs": [
    {
     "name": "stdout",
     "output_type": "stream",
     "text": [
      "> Building LSMLMS determinantal qets for d^2\n",
      ">> Time taken: 0.00 minutes.\n",
      "> Building LSMLMS determinantal qets for d^3\n",
      ">> Time taken: 0.01 minutes.\n",
      "> Building LSMLMS determinantal qets for d^4\n",
      ">> Time taken: 0.06 minutes.\n",
      "> Building LSMLMS determinantal qets for d^5\n",
      ">> Time taken: 0.36 minutes.\n",
      "> Building LSMLMS determinantal qets for d^6\n",
      ">> Time taken: 1.86 minutes.\n",
      "> Building LSMLMS determinantal qets for d^7\n",
      ">> Time taken: 6.55 minutes.\n",
      "> Building LSMLMS determinantal qets for d^8\n",
      ">> Time taken: 10.65 minutes.\n",
      "> Building LSMLMS determinantal qets for d^9\n",
      ">> Time taken: 6.96 minutes.\n"
     ]
    }
   ],
   "source": [
    "l = 2\n",
    "n_max = 2*(2*l+1) - 1\n",
    "\n",
    "LS_Ψs = {}\n",
    "LS_Ψs[1] = {(to.HALF,l,1): {(1, to.HALF, ms, l, ml): Qet({(ml,ms):1}) for ml,ms in product(to.mrange(l), to.mrange(to.HALF)) }}\n",
    "\n",
    "for n in range(2, n_max+1):\n",
    "    print(\"> Building LSMLMS determinantal qets for %s^%d\" % (l_notation_switch(l).lower(),n))\n",
    "    start_time = time()\n",
    "    terms_n = list(to.term_range(l, n))\n",
    "    terms_nm1 = list(to.term_range(l, n-1))\n",
    "    all_qets = {}\n",
    "    for term_n in terms_n: # for each term there will be a bunch of wavefunctions\n",
    "        ψ_key = term_n\n",
    "        S_n, L_n, W_n = term_n\n",
    "        term_n = tuple(term_n)\n",
    "        qets = Parallel(n_jobs = num_cores)(delayed(ψ_baker)(l, n, S_n, L_n, W_n, MS_n, ML_n, LS_Ψs[n-1], terms_nm1) for (MS_n, ML_n) in product(to.mrange(S_n), to.mrange(L_n)))\n",
    "        all_qets[term_n] = dict(qets)\n",
    "    LS_Ψs[n] = all_qets\n",
    "    end_time = time()\n",
    "    print(\">> Time taken: %.2f minutes.\" % ((end_time-start_time)/60))\n"
   ]
  },
  {
   "cell_type": "code",
   "execution_count": 414,
   "metadata": {},
   "outputs": [
    {
     "data": {
      "text/plain": [
       "[(1, (2, 2)), (3, 4)]"
      ]
     },
     "execution_count": 414,
     "metadata": {},
     "output_type": "execute_result"
    }
   ],
   "source": [
    "list({1:(2,2),3:4}.items())"
   ]
  },
  {
   "cell_type": "code",
   "execution_count": 397,
   "metadata": {},
   "outputs": [
    {
     "name": "stdout",
     "output_type": "stream",
     "text": [
      "Removed 6 previous matching files.\n",
      "Object pickled to 6 file(s).\n"
     ]
    }
   ],
   "source": [
    "LS_Ψs = {num_e: {term: {k:ψ for k,ψ in Ψs[term].items()} for term in Ψs} for num_e, Ψs in LS_Ψs.items()}\n",
    "pickle.dump(LS_Ψs, open('./data/LS_qets_1_to_9.pkl','wb'))\n",
    "split_dump(LS_Ψs, 'LS_qets_1_to_9', './data/', 90)"
   ]
  },
  {
   "cell_type": "code",
   "execution_count": 418,
   "metadata": {},
   "outputs": [],
   "source": [
    "import pickle\n",
    "data= pickle.load(open('./data/LS_qets_1_to_3.pkl','rb'))"
   ]
  },
  {
   "cell_type": "code",
   "execution_count": 425,
   "metadata": {},
   "outputs": [
    {
     "data": {
      "text/latex": [
       "$\\displaystyle 2$"
      ],
      "text/plain": [
       "2"
      ]
     },
     "execution_count": 425,
     "metadata": {},
     "output_type": "execute_result"
    }
   ],
   "source": [
    "data[2][(0,0,1)][(1,0,0,0,0)][0][0][0]"
   ]
  },
  {
   "cell_type": "markdown",
   "metadata": {},
   "source": [
    "## SLMSML to LSJMJ "
   ]
  },
  {
   "cell_type": "code",
   "execution_count": 2,
   "metadata": {},
   "outputs": [],
   "source": [
    "from LS_basis_gen import SMSLML_gen"
   ]
  },
  {
   "cell_type": "code",
   "execution_count": 9,
   "metadata": {},
   "outputs": [
    {
     "name": "stdout",
     "output_type": "stream",
     "text": [
      "> Building LSMLMS determinantal qets for d^2\n",
      ">> Time taken: 0.00 minutes.\n",
      "> Building LSMLMS determinantal qets for d^3\n",
      ">> Time taken: 0.01 minutes.\n",
      "> Building LSMLMS determinantal qets for d^4\n",
      ">> Time taken: 0.16 minutes.\n",
      "> Building LSMLMS determinantal qets for d^5\n",
      ">> Time taken: 0.59 minutes.\n",
      "> Building LSMLMS determinantal qets for d^6\n",
      ">> Time taken: 1.98 minutes.\n"
     ]
    }
   ],
   "source": [
    "LS_Ψs = SMSLML_gen(2,6,verbose=True)"
   ]
  },
  {
   "cell_type": "code",
   "execution_count": null,
   "metadata": {},
   "outputs": [],
   "source": []
  },
  {
   "cell_type": "code",
   "execution_count": 97,
   "metadata": {},
   "outputs": [],
   "source": [
    "collection = {}\n",
    "for k, v in LS_Ψs[3][(sp.S(1)/2, 1, 1)][(1,sp.S(1)/2,-sp.S(1)/2,1,-1)].dict.items():\n",
    "    k = ((k[0],k[1]),\n",
    "         (k[2],k[3]),\n",
    "         (k[4],k[5]))\n",
    "    k = frozenset(k)\n",
    "    if k not in collection:\n",
    "        collection[k] = []\n",
    "    collection[k].append(v)"
   ]
  },
  {
   "cell_type": "code",
   "execution_count": null,
   "metadata": {},
   "outputs": [],
   "source": [
    "for k,v in collection.items():\n",
    "    print(list(k))\n",
    "    print(v)\n",
    "    print(len(v))\n",
    "    print(len(set(map(abs,v))))"
   ]
  },
  {
   "cell_type": "code",
   "execution_count": 159,
   "metadata": {},
   "outputs": [],
   "source": [
    "collection = {}\n",
    "num_electrons = 5\n",
    "Ψs =  LS_Ψs[num_electrons]\n",
    "directory = []\n",
    "for term in Ψs:\n",
    "    for qet_key, qet in Ψs[term].items():\n",
    "        collection = {}\n",
    "        good_ket = {}\n",
    "        for k, v in qet.dict.items():\n",
    "            k_paired = [(k[2*i], k[2*i+1]) for i in range(len(k)//2)]\n",
    "            k_paired = tuple(k_paired)\n",
    "            k_set = frozenset(k_paired)\n",
    "            if k_set not in collection:\n",
    "                collection[k_set] = []\n",
    "                good_ket[k] = v\n",
    "            collection[k_set].append(v)\n",
    "        good_ket = sp.sqrt(sp.factorial(num_electrons))*Qet(good_ket)\n",
    "        if good_ket.norm() != 1:\n",
    "            print(good_ket.norm())\n",
    "        directory.append((qet, good_ket))\n",
    "        for k, v in collection.items():\n",
    "            ablen = len(set(map(abs,v)))\n",
    "            if ablen != 1:\n",
    "                print(\"wups\")"
   ]
  },
  {
   "cell_type": "code",
   "execution_count": 29,
   "metadata": {},
   "outputs": [],
   "source": [
    "import gc\n",
    "\n",
    "def actualsize(input_obj):\n",
    "    memory_size = 0\n",
    "    ids = set()\n",
    "    objects = [input_obj]\n",
    "    while objects:\n",
    "        new = []\n",
    "        for obj in objects:\n",
    "            if id(obj) not in ids:\n",
    "                ids.add(id(obj))\n",
    "                memory_size += sys.getsizeof(obj)\n",
    "                new.append(obj)\n",
    "        objects = gc.get_referents(*new)\n",
    "    return memory_size\n",
    "\n",
    "def get_size(obj, seen=None):\n",
    "    \"\"\"Recursively finds size of objects\"\"\"\n",
    "    size = sys.getsizeof(obj)\n",
    "    if seen is None:\n",
    "        seen = set()\n",
    "    obj_id = id(obj)\n",
    "    if obj_id in seen:\n",
    "        return 0\n",
    "    # Important mark as seen *before* entering recursion to gracefully handle\n",
    "    # self-referential objects\n",
    "    seen.add(obj_id)\n",
    "    if isinstance(obj, dict):\n",
    "        size += sum([get_size(v, seen) for v in obj.values()])\n",
    "        size += sum([get_size(k, seen) for k in obj.keys()])\n",
    "    elif hasattr(obj, '__dict__'):\n",
    "        size += get_size(obj.__dict__, seen)\n",
    "    elif hasattr(obj, '__iter__') and not isinstance(obj, (str, bytes, bytearray)):\n",
    "        size += sum([get_size(i, seen) for i in obj])\n",
    "    return size"
   ]
  },
  {
   "cell_type": "code",
   "execution_count": 32,
   "metadata": {},
   "outputs": [
    {
     "name": "stdout",
     "output_type": "stream",
     "text": [
      "#################################\n",
      "electrons: 1\n",
      "    terms: 1\n",
      "     qets: 10\n",
      " bytesize: 6669\n",
      "#################################\n",
      "electrons: 2\n",
      "    terms: 5\n",
      "     qets: 45\n",
      " bytesize: 45629\n",
      "#################################\n",
      "electrons: 3\n",
      "    terms: 8\n",
      "     qets: 120\n",
      " bytesize: 489301\n",
      "#################################\n",
      "electrons: 4\n",
      "    terms: 16\n",
      "     qets: 210\n",
      " bytesize: 5004557\n",
      "#################################\n",
      "electrons: 5\n",
      "    terms: 16\n",
      "     qets: 252\n",
      " bytesize: 37952733\n",
      "#################################\n",
      "electrons: 6\n",
      "    terms: 16\n",
      "     qets: 210\n",
      " bytesize: 180004365\n"
     ]
    }
   ],
   "source": [
    "byte_sizes = []\n",
    "for num_electrons in LS_Ψs:\n",
    "    bsize = get_size(LS_Ψs[num_electrons])\n",
    "    byte_sizes.append(bsize)\n",
    "    print(\"#\"*33)\n",
    "    print(\"electrons:\", num_electrons)\n",
    "    print(\"    terms:\", len(LS_Ψs[num_electrons]))\n",
    "    print(\"     qets:\", sum([len(Ψs) for Ψs in LS_Ψs[num_electrons].values()]))\n",
    "    print(\" bytesize:\", get_size(LS_Ψs[num_electrons]))\n"
   ]
  },
  {
   "cell_type": "code",
   "execution_count": 46,
   "metadata": {},
   "outputs": [
    {
     "data": {
      "text/plain": [
       "(1, 1)"
      ]
     },
     "execution_count": 46,
     "metadata": {},
     "output_type": "execute_result"
    }
   ],
   "source": [
    "len(LS_Ψs[6][(0, 0, 1)]), len(LS_Ψs[4][(0, 0, 1)])"
   ]
  },
  {
   "cell_type": "code",
   "execution_count": 71,
   "metadata": {},
   "outputs": [
    {
     "name": "stdout",
     "output_type": "stream",
     "text": [
      "1 10\n",
      "2 90\n",
      "3 720\n",
      "4 5040\n",
      "5 30240\n",
      "6 151200\n"
     ]
    }
   ],
   "source": [
    "for num_electrons in LS_Ψs:\n",
    "    Ψs = LS_Ψs[num_electrons]\n",
    "    full_basis = set()\n",
    "    for term in Ψs:\n",
    "        for qet in Ψs[term].values():\n",
    "            full_basis.update(qet.dict.keys())\n",
    "    print(num_electrons, len(full_basis))"
   ]
  },
  {
   "cell_type": "code",
   "execution_count": 73,
   "metadata": {},
   "outputs": [
    {
     "name": "stdout",
     "output_type": "stream",
     "text": [
      "1 10\n",
      "2 90\n",
      "3 720\n",
      "4 5040\n",
      "5 30240\n",
      "6 151200\n",
      "7 604800\n",
      "8 1814400\n",
      "9 3628800\n"
     ]
    }
   ],
   "source": [
    "l = 2\n",
    "Nl = 2*(2*l+1)\n",
    "for n in range(1, Nl):\n",
    "    print(n, sp.factorial(Nl)/sp.factorial(Nl-n))"
   ]
  },
  {
   "cell_type": "code",
   "execution_count": 79,
   "metadata": {},
   "outputs": [
    {
     "name": "stdout",
     "output_type": "stream",
     "text": [
      "1 6 6\n",
      "2 30 15\n",
      "3 120 20\n",
      "4 360 15\n",
      "5 720 6\n"
     ]
    }
   ],
   "source": [
    "l = 1\n",
    "Nl = 2*(2*l+1)\n",
    "for n in range(1, Nl):\n",
    "    print(n, sp.factorial(Nl)/sp.factorial(Nl-n), sp.factorial(Nl)/sp.factorial(Nl-n)/sp.factorial(n))"
   ]
  },
  {
   "cell_type": "code",
   "execution_count": 568,
   "metadata": {},
   "outputs": [],
   "source": [
    "LS_Ψs = {}\n",
    "for n in range(1,10):\n",
    "    fname = './data/bases/LSMLMS_detqets_d_%d.pkl' % n\n",
    "    LS_Ψs[n] = pickle.load(open(fname,'rb'))"
   ]
  },
  {
   "cell_type": "code",
   "execution_count": 575,
   "metadata": {},
   "outputs": [
    {
     "data": {
      "text/latex": [
       "$\\displaystyle - \\frac{\\sqrt{5} {\\left|\\left( -2, \\  - \\frac{1}{2}, \\  2, \\  \\frac{1}{2}\\right)\\right\\rangle }}{5} + \\frac{\\sqrt{5} {\\left|\\left( -2, \\  \\frac{1}{2}, \\  2, \\  - \\frac{1}{2}\\right)\\right\\rangle }}{5} + \\frac{\\sqrt{5} {\\left|\\left( -1, \\  - \\frac{1}{2}, \\  1, \\  \\frac{1}{2}\\right)\\right\\rangle }}{5} - \\frac{\\sqrt{5} {\\left|\\left( -1, \\  \\frac{1}{2}, \\  1, \\  - \\frac{1}{2}\\right)\\right\\rangle }}{5} - \\frac{\\sqrt{5} {\\left|\\left( 0, \\  - \\frac{1}{2}, \\  0, \\  \\frac{1}{2}\\right)\\right\\rangle }}{5}$"
      ],
      "text/plain": [
       "-sqrt(5)*|(-2, -1/2, 2, 1/2)>/5 + sqrt(5)*|(-2, 1/2, 2, -1/2)>/5 + sqrt(5)*|(-1, -1/2, 1, 1/2)>/5 - sqrt(5)*|(-1, 1/2, 1, -1/2)>/5 - sqrt(5)*|(0, -1/2, 0, 1/2)>/5"
      ]
     },
     "execution_count": 575,
     "metadata": {},
     "output_type": "execute_result"
    }
   ],
   "source": [
    "LS_Ψs[2][(0,0,1)][(1,0,0,0,0)].as_ket()"
   ]
  },
  {
   "cell_type": "code",
   "execution_count": 514,
   "metadata": {},
   "outputs": [
    {
     "name": "stdout",
     "output_type": "stream",
     "text": [
      "#################################\n",
      "electrons: 1\n",
      "    terms: 1\n",
      "     qets: 10\n",
      " bytesize: 4056\n",
      "#################################\n",
      "electrons: 2\n",
      "    terms: 5\n",
      "     qets: 45\n",
      " bytesize: 28112\n",
      "#################################\n",
      "electrons: 3\n",
      "    terms: 8\n",
      "     qets: 120\n",
      " bytesize: 116880\n",
      "#################################\n",
      "electrons: 4\n",
      "    terms: 16\n",
      "     qets: 210\n",
      " bytesize: 299808\n",
      "#################################\n",
      "electrons: 5\n",
      "    terms: 16\n",
      "     qets: 252\n",
      " bytesize: 429648\n",
      "#################################\n",
      "electrons: 6\n",
      "    terms: 16\n",
      "     qets: 210\n",
      " bytesize: 345120\n",
      "#################################\n",
      "electrons: 7\n",
      "    terms: 8\n",
      "     qets: 120\n",
      " bytesize: 151952\n",
      "#################################\n",
      "electrons: 8\n",
      "    terms: 5\n",
      "     qets: 45\n",
      " bytesize: 39024\n",
      "#################################\n",
      "electrons: 9\n",
      "    terms: 1\n",
      "     qets: 10\n",
      " bytesize: 5408\n"
     ]
    }
   ],
   "source": [
    "byte_sizes = []\n",
    "for num_electrons in LS_Ψs:\n",
    "    bsize = get_size(LS_Ψs[num_electrons])\n",
    "    byte_sizes.append(bsize)\n",
    "    print(\"#\"*33)\n",
    "    print(\"electrons:\", num_electrons)\n",
    "    print(\"    terms:\", len(LS_Ψs[num_electrons]))\n",
    "    print(\"     qets:\", sum([len(Ψs) for Ψs in LS_Ψs[num_electrons].values()]))\n",
    "    print(\" bytesize:\", get_size(LS_Ψs[num_electrons]))\n"
   ]
  },
  {
   "cell_type": "code",
   "execution_count": 515,
   "metadata": {},
   "outputs": [],
   "source": [
    "from itertools import combinations"
   ]
  },
  {
   "cell_type": "code",
   "execution_count": 536,
   "metadata": {},
   "outputs": [
    {
     "data": {
      "text/latex": [
       "$\\displaystyle - \\frac{\\sqrt{5} {\\left|\\left( -2, \\  - \\frac{1}{2}, \\  2, \\  \\frac{1}{2}\\right)\\right\\rangle }}{5} + \\frac{\\sqrt{5} {\\left|\\left( -2, \\  \\frac{1}{2}, \\  2, \\  - \\frac{1}{2}\\right)\\right\\rangle }}{5} + \\frac{\\sqrt{5} {\\left|\\left( -1, \\  - \\frac{1}{2}, \\  1, \\  \\frac{1}{2}\\right)\\right\\rangle }}{5} - \\frac{\\sqrt{5} {\\left|\\left( -1, \\  \\frac{1}{2}, \\  1, \\  - \\frac{1}{2}\\right)\\right\\rangle }}{5} - \\frac{\\sqrt{5} {\\left|\\left( 0, \\  - \\frac{1}{2}, \\  0, \\  \\frac{1}{2}\\right)\\right\\rangle }}{5}$"
      ],
      "text/plain": [
       "-sqrt(5)*|(-2, -1/2, 2, 1/2)>/5 + sqrt(5)*|(-2, 1/2, 2, -1/2)>/5 + sqrt(5)*|(-1, -1/2, 1, 1/2)>/5 - sqrt(5)*|(-1, 1/2, 1, -1/2)>/5 - sqrt(5)*|(0, -1/2, 0, 1/2)>/5"
      ]
     },
     "execution_count": 536,
     "metadata": {},
     "output_type": "execute_result"
    }
   ],
   "source": [
    "Qet(dict(LS_Ψs[2][(0,0,1)][(1,0,0,0,0)])).as_ket()"
   ]
  },
  {
   "cell_type": "code",
   "execution_count": 617,
   "metadata": {},
   "outputs": [],
   "source": [
    "LSMLMS_matrices = {}\n",
    "for num_electrons, Ψs in LS_Ψs.items():\n",
    "    matrix = []\n",
    "    basis = elementary_basis(\"multi equiv electron\", 2, num_electrons, flatten=True)\n",
    "    for term_key, term_qets in Ψs.items():\n",
    "        for qet_key, qet in term_qets.items():\n",
    "            matrix.append(qet.vec_in_basis(basis))\n",
    "    LSMLMS_matrices[num_electrons] = sp.Matrix(matrix).T"
   ]
  },
  {
   "cell_type": "code",
   "execution_count": 594,
   "metadata": {},
   "outputs": [],
   "source": [
    "LSJ_Ψs = dict([(num_electrons, to.SMSLML_to_SLJMJ(LS_Ψs[num_electrons])) for num_electrons in LS_Ψs])"
   ]
  },
  {
   "cell_type": "code",
   "execution_count": 621,
   "metadata": {},
   "outputs": [],
   "source": [
    "LSJMJ_matrices = {}\n",
    "for num_electrons, Ψs in LSJ_Ψs.items():\n",
    "    # if num_electrons != 9:\n",
    "    #     continue\n",
    "    matrix = []\n",
    "    basis = elementary_basis(\"multi equiv electron\", 2, num_electrons, flatten=True)\n",
    "    for term_key, term_qets in Ψs.items():\n",
    "        # print(\">>\", term_key)\n",
    "        for qet_key, qet in term_qets.items():\n",
    "            # print(\">>>\", qet_key)\n",
    "            matrix.append(qet.vec_in_basis(basis))\n",
    "    LSJMJ_matrices[num_electrons] = sp.Matrix(matrix).T"
   ]
  },
  {
   "cell_type": "code",
   "execution_count": 622,
   "metadata": {},
   "outputs": [
    {
     "name": "stdout",
     "output_type": "stream",
     "text": [
      "1.0000000000000004\n",
      "0.9999999999999988\n",
      "-0.9999999999999912\n",
      "-1.0000000000000018\n",
      "0.9999999999999836\n",
      "0.9999999999999932\n",
      "-0.999999999999986\n",
      "-0.9999999999999988\n",
      "1.0000000000000004\n"
     ]
    }
   ],
   "source": [
    "for num_electrons, matrix in LSJMJ_matrices.items():\n",
    "    matrix = np.array(matrix, dtype=np.float64)\n",
    "    print(np.linalg.det(matrix))"
   ]
  },
  {
   "cell_type": "code",
   "execution_count": 312,
   "metadata": {},
   "outputs": [],
   "source": [
    "# LS_Ψs_long = SMSLML_gen(2, 4)"
   ]
  },
  {
   "cell_type": "code",
   "execution_count": 318,
   "metadata": {},
   "outputs": [],
   "source": [
    "num_electrons = 9\n",
    "Ψs =  LS_Ψs[num_electrons]\n",
    "for term in Ψs:\n",
    "    for qet_key, qet in Ψs[term].items():\n",
    "        qet =  Qet(dict(qet))\n",
    "        norm = qet.norm()\n",
    "        # display(qet.as_ket())\n",
    "        if norm != 1:\n",
    "            print(\"wups\")\n",
    "            print(norm)\n",
    "            1/0"
   ]
  },
  {
   "cell_type": "code",
   "execution_count": 627,
   "metadata": {},
   "outputs": [],
   "source": [
    "import pickle\n",
    "LSJMJ_Ψs = {n: pickle.load(open('./data/bases/L-S-J-MJ_detqets_d_%d.pkl' % n,'rb')) for n in range(1,10)}"
   ]
  },
  {
   "cell_type": "code",
   "execution_count": null,
   "metadata": {},
   "outputs": [],
   "source": [
    "for val in (LS_Ψs[4][(0, 0, 1)][(1,0,0,0,0)].dict.values()):\n",
    "    print(val)"
   ]
  },
  {
   "cell_type": "code",
   "execution_count": 48,
   "metadata": {},
   "outputs": [
    {
     "data": {
      "text/plain": [
       "7200"
      ]
     },
     "execution_count": 48,
     "metadata": {},
     "output_type": "execute_result"
    }
   ],
   "source": [
    "len(LS_Ψs[6][(0, 0, 1)][(1,0,0,0,0)].dict)"
   ]
  },
  {
   "cell_type": "code",
   "execution_count": 38,
   "metadata": {},
   "outputs": [
    {
     "data": {
      "image/png": "[encoded data removed]",
      "text/plain": [
       "<Figure size 432x288 with 1 Axes>"
      ]
     },
     "metadata": {},
     "output_type": "display_data"
    }
   ],
   "source": [
    "plt.figure()\n",
    "plt.plot(range(1,7), byte_sizes)\n",
    "plt.yscale('log')\n",
    "plt.show()"
   ]
  },
  {
   "cell_type": "code",
   "execution_count": 497,
   "metadata": {},
   "outputs": [],
   "source": [
    "# this is now added to the tensorops module\n",
    "# def SMSLML_to_SLJMJ(LS_basis):\n",
    "#     '''\n",
    "#     This  function  receives  a  dictionary  for  a  basis  in |S,MS,L,ML⟩\n",
    "#     coupling and returns the corresponding basis in |S,L,J,MJ⟩ coupling.\n",
    "#     This  is  done  by  bringing  in  the vector coupling coefficients for\n",
    "#     coupling the L and S angular momenta of a given term.\n",
    "#     When  this  is carried through all of the the SL terms, there might be\n",
    "#     repetitions  of  a  given  (SLJ)  term,  these are discriminated by an\n",
    "#     additional index W that distinguishes them.\n",
    "#     Parameters\n",
    "#     ----------\n",
    "#     LS_basis  (dict): keys are 3-tuples (S, L, W), values are dictionaries\n",
    "#     whose  keys  are  5-tuples (W, S, MS, L, ML) and whose values are qets\n",
    "#     whose  keys  are 2n-tuples of ms,ml pairs (ms_1, ml_1, ms_2, ml_2, ...\n",
    "#     ms_n, ml_n).\n",
    "#     Returns\n",
    "#     -------\n",
    "#     LSJ_basis  (dict):  keys  are  3-tuples  (S,L,J,WJ),  whose values are\n",
    "#     dictionaries  whose  keys  are 5-tuples (S,L,J,MJ,WJ) and whose values\n",
    "#     are qets whose keys are 2n-tuples ms,ml pairs (ms_1, ml_1, ms_2, ml_2,\n",
    "#     ... ms_n, ml_n).\n",
    "#     '''\n",
    "#     SLJM_terms = {}\n",
    "#      # this is just to keep in check the SLJ terms that appear and \n",
    "#      # distinguish between the different ones that may appear.\n",
    "#     term_index = {}\n",
    "#     for term, term_qets in LS_basis.items():\n",
    "#         S, L, W = term\n",
    "#         for J in lrange(S,L):\n",
    "#             SLJM_sub_term = (S,L,J)\n",
    "#             if SLJM_sub_term not in term_index:\n",
    "#                 term_index[SLJM_sub_term] = 1\n",
    "#             WJ = term_index[SLJM_sub_term]\n",
    "#             SLJM_term = (S,L,J,WJ)\n",
    "#             term_index[SLJM_sub_term] += 1\n",
    "#             SLJM_terms[SLJM_term] = {}\n",
    "#             MJs = mrange(J)\n",
    "#             for MJ in MJs:\n",
    "#                 sum_qet = Qet({})\n",
    "#                 sum_qet_key = (S,L,J,MJ,WJ)\n",
    "#                 for qet_key, qet in term_qets.items():\n",
    "#                     (W, S, MS, L, ML) = qet_key\n",
    "#                     SLvc = to.VC_coeff((S, MS, L, ML), \n",
    "#                                         (S, L, J, MJ))\n",
    "#                     sum_qet += SLvc*qet\n",
    "#                 SLJM_terms[SLJM_term][sum_qet_key] = sum_qet\n",
    "#     return SLJM_terms\n"
   ]
  },
  {
   "cell_type": "code",
   "execution_count": 513,
   "metadata": {},
   "outputs": [
    {
     "name": "stdout",
     "output_type": "stream",
     "text": [
      "Loading data for 1-body coefficients of fractional parentage...\n"
     ]
    }
   ],
   "source": [
    "SLJ_4 = to.SMSLML_to_SLJMJ(LS_Ψs[4])"
   ]
  },
  {
   "cell_type": "code",
   "execution_count": 515,
   "metadata": {},
   "outputs": [],
   "source": [
    "SLJ_Ψs = {n: to.SMSLML_to_SLJMJ(SL_basis) for n, SL_basis in LS_Ψs.items()}"
   ]
  },
  {
   "cell_type": "code",
   "execution_count": 517,
   "metadata": {},
   "outputs": [
    {
     "data": {
      "text/plain": [
       "dict_keys([(0, 0, 0, 1), (0, 2, 2, 1), (0, 4, 4, 1), (1, 1, 0, 1), (1, 1, 1, 1), (1, 1, 2, 1), (1, 3, 2, 1), (1, 3, 3, 1), (1, 3, 4, 1)])"
      ]
     },
     "execution_count": 517,
     "metadata": {},
     "output_type": "execute_result"
    }
   ],
   "source": [
    "SLJ_Ψs[2].keys()"
   ]
  }
 ],
 "metadata": {
  "interpreter": {
   "hash": "5ed69564610cdd861a99d06236eab56151da4db3d5eb55442ace689096fe7345"
  },
  "kernelspec": {
   "display_name": "Python 3.8.8 ('qdef3p8')",
   "language": "python",
   "name": "python3"
  },
  "language_info": {
   "codemirror_mode": {
    "name": "ipython",
    "version": 3
   },
   "file_extension": ".py",
   "mimetype": "text/x-python",
   "name": "python",
   "nbconvert_exporter": "python",
   "pygments_lexer": "ipython3",
   "version": "3.8.8"
  },
  "orig_nbformat": 4
 },
 "nbformat": 4,
 "nbformat_minor": 2
}
