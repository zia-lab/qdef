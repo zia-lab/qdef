{
 "cells": [
  {
   "cell_type": "markdown",
   "metadata": {},
   "source": [
    "# Electron Splits"
   ]
  },
  {
   "cell_type": "code",
   "execution_count": 1,
   "metadata": {},
   "outputs": [
    {
     "data": {
      "text/html": [
       "<pre>✔️ 2.42 s (2021-12-09T15:52:12/2021-12-09T15:52:14)</pre>"
      ],
      "text/plain": [
       "<IPython.core.display.HTML object>"
      ]
     },
     "metadata": {},
     "output_type": "display_data"
    },
    {
     "name": "stdout",
     "output_type": "stream",
     "text": [
      "Reloading /Volumes/GoogleDrive/My Drive/Zia Lab/Codebase/qdef/data/CPGs.pkl ...\n"
     ]
    }
   ],
   "source": [
    "%load_ext line_profiler\n",
    "%load_ext autoreload\n",
    "# provide cell timings\n",
    "%load_ext autotime\n",
    "# %autoreload 2\n",
    "import sympy as sp\n",
    "import numpy as np\n",
    "%config InlineBackend.figure_format='retina'\n",
    "%config Completer.use_jedi = False\n",
    "from qdef import *\n",
    "from misc import *\n",
    "from notation import *\n",
    "from IPython.display import display, Math, Latex\n",
    "# from joblib import Parallel, delayed\n",
    "# import multiprocessing\n",
    "# num_cores = multiprocessing.cpu_count()\n",
    "import time"
   ]
  },
  {
   "cell_type": "code",
   "execution_count": 64,
   "metadata": {},
   "outputs": [
    {
     "data": {
      "text/html": [
       "<pre>✔️ 769 µs (2021-12-09T16:32:57/2021-12-09T16:32:57)</pre>"
      ],
      "text/plain": [
       "<IPython.core.display.HTML object>"
      ]
     },
     "metadata": {},
     "output_type": "display_data"
    }
   ],
   "source": [
    "class Electrons():\n",
    "    def __init__(self, e_string):\n",
    "        self.e_string = e_string\n",
    "        self.n = int(e_string[0])\n",
    "        self.l = l_from_lett_to_num[e_string[1]]\n",
    "        self.num_electrons = int(e_string[2])\n",
    "    def __repr__(self):\n",
    "        return self.e_string\n",
    "class MultiElectronConfig():\n",
    "    def __init__(self, config_string):\n",
    "        self.config_string = config_string\n",
    "        self.electrons = [Electrons(e_config) for e_config in config_string.split(',')]\n",
    "    def __repr__(self):\n",
    "        return self.config_string\n"
   ]
  },
  {
   "cell_type": "markdown",
   "metadata": {},
   "source": [
    "Here each final configuration is saved as a sequence of irrep symbols of length N, where the first N-1 correspond to the sequence of irreps as they were sequentially added and where the final symbol is the character that that combination may have.\n",
    "\n",
    "At each stage, grab all the current irrep characters of the current combinations, to each of those add either of the single electron irreps, figure out what may come out of that, and then append these to the sequence of single electron irreps for each previous combination thus far."
   ]
  },
  {
   "cell_type": "code",
   "execution_count": 378,
   "metadata": {},
   "outputs": [
    {
     "data": {
      "text/html": [
       "<pre>✔️ 13.1 ms (2021-12-10T08:53:39/2021-12-10T08:53:39)</pre>"
      ],
      "text/plain": [
       "<IPython.core.display.HTML object>"
      ]
     },
     "metadata": {},
     "output_type": "display_data"
    }
   ],
   "source": [
    "'''\n",
    "Given an MultiElectronConfiguration and a crystallographic point group\n",
    "This function determines how the level will split under a potential with\n",
    "the given symmetry\n",
    "'''\n",
    "\n",
    "multiconf = MultiElectronConfig('3d3')\n",
    "group_label = 'O'\n",
    "group = CPGs.get_group_by_label(group_label)\n",
    "electrons_in_shells = multiconf.electrons\n",
    "\n",
    "'''\n",
    "How to build the n-electron set of irreps by iterating \n",
    "over pairs?\n",
    "\n",
    "For each Electrons\n",
    "-> take the value of l and determine their corresponding single-electron splitting\n",
    "-> then, using the number of electrons, use mix the single-electron irreps to obtain\n",
    "-> multi-electron irreps\n",
    "'''\n",
    "\n",
    "single_electron_reductions = []\n",
    "electrons = electrons_in_shells[0]\n",
    "l = electrons.l\n",
    "group_irreps = group.irrep_labels\n",
    "num_electrons = electrons.num_electrons\n",
    "single_electron_split = l_splitter(group_label, l)\n",
    "product_table_dict = group.product_table.odict\n",
    "single_electron_irreps = list(single_electron_split.dict.keys())\n",
    "multi_combos = [[c,c] for c in single_electron_irreps]\n",
    "\n",
    "for _ in range(num_electrons-1):\n",
    "    next_multi_combos = []\n",
    "    for combo in multi_combos:\n",
    "        current_irrep = combo[-1]\n",
    "        for new_electron in single_electron_irreps:\n",
    "            duo = (current_irrep, new_electron)\n",
    "            branches = product_table_dict[(duo)]\n",
    "            for branch in branches:\n",
    "                next_multi_combos.append(combo[:-1]+[new_electron,branch])\n",
    "    multi_combos = list(next_multi_combos)\n",
    "\n",
    "final_characters = list(map(lambda x: x[-1], multi_combos))\n",
    "multiplicities = [{ir: final_characters.count(ir)} for ir in group_irreps]\n",
    "\n",
    "final_inequiv_combos = [list(map(lambda x: sp.Symbol(sp.latex(x).lower()), combo[:-1]))+[combo[-1]] for combo in multi_combos]\n",
    "final_inequiv_combos = sp.Matrix(final_inequiv_combos)\n",
    "final_equiv_combos = [(frozenset(map(lambda x: sp.Symbol(sp.latex(x).lower()), combo[:-1])),combo[-1]) for combo in multi_combos]\n",
    "\n",
    "unique_combos = frozenset(list(map(lambda x: x[0], final_equiv_combos)))\n",
    "final_combo_collection = {uc:[x[-1] for x in final_equiv_combos if x[0] == uc] for uc in unique_combos}\n",
    "final_combo_collection = {k:{ir:v.count(ir) for ir in single_electron_irreps if v.count(ir) !=0} for k,v in final_combo_collection.items()}\n"
   ]
  },
  {
   "cell_type": "code",
   "execution_count": 381,
   "metadata": {},
   "outputs": [
    {
     "data": {
      "text/html": [
       "<pre>✔️ 3.99 ms (2021-12-10T10:37:11/2021-12-10T10:37:11)</pre>"
      ],
      "text/plain": [
       "<IPython.core.display.HTML object>"
      ]
     },
     "metadata": {},
     "output_type": "display_data"
    },
    {
     "data": {
      "text/latex": [
       "$\\displaystyle \n",
       "\\newcommand\\T{\\Rule{0pt}{1em}{.3em}}\n",
       "\\begin{array}{|c|c|c|c|c|c|}\n",
       "\\hline O & A_{1} & A_{2} & E & T_{1} & T_{2}\\\\\\hline \n",
       "A_{1} & \\left[ A_{1}\\right] & \\left[ A_{2}\\right] & \\left[ E\\right] & \\left[ T_{1}\\right] & \\left[ T_{2}\\right]\\\\\\hline \n",
       "A_{2} & \\left[ A_{2}\\right] & \\left[ A_{1}\\right] & \\left[ E\\right] & \\left[ T_{2}\\right] & \\left[ T_{1}\\right]\\\\\\hline \n",
       "E & \\left[ E\\right] & \\left[ E\\right] & \\left[ A_{1}, \\  A_{2}, \\  E\\right] & \\left[ T_{1}, \\  T_{2}\\right] & \\left[ T_{1}, \\  T_{2}\\right]\\\\\\hline \n",
       "T_{1} & \\left[ T_{1}\\right] & \\left[ T_{2}\\right] & \\left[ T_{1}, \\  T_{2}\\right] & \\left[ A_{1}, \\  E, \\  T_{1}, \\  T_{2}\\right] & \\left[ A_{2}, \\  E, \\  T_{1}, \\  T_{2}\\right]\\\\\\hline \n",
       "T_{2} & \\left[ T_{2}\\right] & \\left[ T_{1}\\right] & \\left[ T_{1}, \\  T_{2}\\right] & \\left[ A_{2}, \\  E, \\  T_{1}, \\  T_{2}\\right] & \\left[ A_{1}, \\  E, \\  T_{1}, \\  T_{2}\\right]\\\\\\hline \n",
       "\\end{array}$"
      ],
      "text/plain": [
       "<IPython.core.display.Math object>"
      ]
     },
     "metadata": {},
     "output_type": "display_data"
    }
   ],
   "source": [
    "display(Math(group.product_table.pretty_parse()))"
   ]
  },
  {
   "cell_type": "code",
   "execution_count": 379,
   "metadata": {},
   "outputs": [
    {
     "data": {
      "text/html": [
       "<pre>✔️ 2.75 ms (2021-12-10T08:53:40/2021-12-10T08:53:40)</pre>"
      ],
      "text/plain": [
       "<IPython.core.display.HTML object>"
      ]
     },
     "metadata": {},
     "output_type": "display_data"
    },
    {
     "data": {
      "text/plain": [
       "{frozenset({t_{2}}): {E: 2, T_2: 4},\n",
       " frozenset({e, t_{2}}): {E: 6, T_2: 12},\n",
       " frozenset({e}): {E: 3}}"
      ]
     },
     "execution_count": 379,
     "metadata": {},
     "output_type": "execute_result"
    }
   ],
   "source": [
    "final_combo_collection"
   ]
  },
  {
   "cell_type": "code",
   "execution_count": 366,
   "metadata": {},
   "outputs": [
    {
     "data": {
      "text/html": [
       "<pre>✔️ 666 µs (2021-12-10T08:48:23/2021-12-10T08:48:23)</pre>"
      ],
      "text/plain": [
       "<IPython.core.display.HTML object>"
      ]
     },
     "metadata": {},
     "output_type": "display_data"
    }
   ],
   "source": [
    "unique_combos = frozenset(list(map(lambda x: x[0], final_equiv_combos)))\n",
    "final_combo_collection = {uc:[x[-1] for x in final_equiv_combos if x[0] == uc] for uc in unique_combos}"
   ]
  },
  {
   "cell_type": "code",
   "execution_count": 357,
   "metadata": {},
   "outputs": [
    {
     "data": {
      "text/html": [
       "<pre>✔️ 3.39 ms (2021-12-10T08:46:05/2021-12-10T08:46:05)</pre>"
      ],
      "text/plain": [
       "<IPython.core.display.HTML object>"
      ]
     },
     "metadata": {},
     "output_type": "display_data"
    },
    {
     "data": {
      "text/plain": [
       "frozenset({frozenset({t_{2}}), frozenset({e}), frozenset({e, t_{2}})})"
      ]
     },
     "execution_count": 357,
     "metadata": {},
     "output_type": "execute_result"
    }
   ],
   "source": [
    "frozenset(list(map(lambda x: x[0], final_equiv_combos)))"
   ]
  },
  {
   "cell_type": "code",
   "execution_count": 352,
   "metadata": {},
   "outputs": [
    {
     "data": {
      "text/html": [
       "<pre>✔️ 637 µs (2021-12-10T08:44:30/2021-12-10T08:44:30)</pre>"
      ],
      "text/plain": [
       "<IPython.core.display.HTML object>"
      ]
     },
     "metadata": {},
     "output_type": "display_data"
    }
   ],
   "source": [
    "from functools import reduce"
   ]
  },
  {
   "cell_type": "code",
   "execution_count": 314,
   "metadata": {},
   "outputs": [
    {
     "data": {
      "text/html": [
       "<pre>✔️ 13.6 ms (2021-12-10T08:35:55/2021-12-10T08:35:55)</pre>"
      ],
      "text/plain": [
       "<IPython.core.display.HTML object>"
      ]
     },
     "metadata": {},
     "output_type": "display_data"
    },
    {
     "data": {
      "text/latex": [
       "$\\displaystyle 6$"
      ],
      "text/plain": [
       "6"
      ]
     },
     "execution_count": 314,
     "metadata": {},
     "output_type": "execute_result"
    }
   ],
   "source": [
    "reduce(sp.Mul,[1,2,3])"
   ]
  },
  {
   "cell_type": "markdown",
   "metadata": {},
   "source": [
    "If the individual electrons are equivalent then the ordering of the irreps should not matter.\n",
    "For example {E,E,E,A1,T1} should be considered equivalent to {A1,E,E,E,T1}.\n",
    "\n",
    "For inequivalent electrons the total number of states at the end should equal, for d-electrons, (2*(2l+1))^(number of electrons), since this Hilbert space is simply the one spanned by the all the combinations of the 2*(2l+1) states with the given l and spin 1/2."
   ]
  },
  {
   "cell_type": "code",
   "execution_count": null,
   "metadata": {},
   "outputs": [],
   "source": []
  },
  {
   "cell_type": "code",
   "execution_count": null,
   "metadata": {},
   "outputs": [
    {
     "data": {
      "text/html": [
       "<pre>✔️ 389 µs (2021-12-09T15:52:17/2021-12-09T15:52:17)</pre>"
      ],
      "text/plain": [
       "<IPython.core.display.HTML object>"
      ]
     },
     "metadata": {},
     "output_type": "display_data"
    }
   ],
   "source": [
    "# class AngularMomentumNotation():\n",
    "#     def __init__(self):\n",
    "#         pass\n",
    "#     spectroscopic_alphabet = 'spdfghiklmnoqrtuv'\n",
    "#     l_from_lett_to_num = OrderedDict([(cls.spectroscopic_alphabet[i],i) for i in range(len(cls.spectroscopic_alphabet))])\n",
    "#     l_from_num_to_lett = OrderedDict([(i,cls.spectroscopic_alphabet[i]) for i in range(len(cls.spectroscopic_alphabet))])\n",
    "#     @classmethod\n",
    "#     def switch(cls, origin):\n",
    "#         '''\n",
    "#         If given a string it returns an int,\n",
    "#         if given an int it returns a char.\n",
    "#         '''\n",
    "#         # if not hasattr(cls, 'l_from_lett_to_num'):\n",
    "#         #     cls,l_from_lett_to_num = cls.\n",
    "#         if isinstance(origin,int):\n",
    "#             return cls.l_from_num_to_lett[origin]\n",
    "#         elif isinstance(origin, str):\n",
    "#             assert len(origin) == 1, \"only one character allowed\"\n",
    "#             assert origin in cls.spectroscopic_alphabet\n",
    "#             return cls.l_from_lett_to_num[origin]"
   ]
  },
  {
   "cell_type": "code",
   "execution_count": null,
   "metadata": {},
   "outputs": [],
   "source": [
    "spectroscopic_alphabet = 'spdfghiklmnoqrtuv'\n",
    "l_from_lett_to_num = OrderedDict([(spectroscopic_alphabet[i],i) for i in range(len(spectroscopic_alphabet))])\n",
    "l_from_num_to_lett = OrderedDict([(i,spectroscopic_alphabet[i]) for i in range(len(spectroscopic_alphabet))])"
   ]
  },
  {
   "cell_type": "code",
   "execution_count": 83,
   "metadata": {},
   "outputs": [
    {
     "data": {
      "text/html": [
       "<pre>✔️ 806 µs (2021-12-09T15:41:28/2021-12-09T15:41:28)</pre>"
      ],
      "text/plain": [
       "<IPython.core.display.HTML object>"
      ]
     },
     "metadata": {},
     "output_type": "display_data"
    }
   ],
   "source": [
    "class AngularMomentumNotation():\n",
    "    spectroscopic_alphabet = 'spdfghiklmnoqrtuv'\n",
    "    l_from_lett_to_num = OrderedDict([('spdfghiklmnoqrtuv'[i],i) for i in range(len(spectroscopic_alphabet))])\n",
    "    l_from_num_to_lett = OrderedDict([(i,spectroscopic_alphabet[i]) for i in range(len(spectroscopic_alphabet))])\n",
    "    @classmethod\n",
    "    def switch(cls, origin):\n",
    "        '''\n",
    "        If given a string it returns an int,\n",
    "        if given an int it returns a char.\n",
    "        '''\n",
    "        if isinstance(origin,int):\n",
    "            return cls.l_from_num_to_lett[origin]\n",
    "        elif isinstance(origin, str):\n",
    "            assert len(origin) == 1, \"only one character allowed\"\n",
    "            return cls.l_from_lett_to_num[origin]\n",
    "\n"
   ]
  }
 ],
 "metadata": {
  "interpreter": {
   "hash": "5ed69564610cdd861a99d06236eab56151da4db3d5eb55442ace689096fe7345"
  },
  "kernelspec": {
   "display_name": "Python 3.8.8 64-bit ('qdef3p8': conda)",
   "language": "python",
   "name": "python3"
  },
  "language_info": {
   "codemirror_mode": {
    "name": "ipython",
    "version": 3
   },
   "file_extension": ".py",
   "mimetype": "text/x-python",
   "name": "python",
   "nbconvert_exporter": "python",
   "pygments_lexer": "ipython3",
   "version": "3.8.8"
  },
  "orig_nbformat": 4
 },
 "nbformat": 4,
 "nbformat_minor": 2
}
