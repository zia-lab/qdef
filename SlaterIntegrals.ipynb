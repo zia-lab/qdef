{
 "cells": [
  {
   "cell_type": "markdown",
   "metadata": {},
   "source": [
    "# Slater Integrals Sources"
   ]
  },
  {
   "cell_type": "code",
   "execution_count": 179,
   "metadata": {},
   "outputs": [],
   "source": [
    "import sympy as sp\n",
    "from itertools import product\n",
    "from IPython.display import display"
   ]
  },
  {
   "cell_type": "code",
   "execution_count": 210,
   "metadata": {},
   "outputs": [],
   "source": [
    "def SlaterFddSTK(k, κ = sp.Symbol('\\\\kappa')):\n",
    "    '''\n",
    "    For a d-orbital in a hydrogenic atom \n",
    "\n",
    "        R_d(r) = N r^2 exp(-κ r)\n",
    "        with N = sqrt((2κ)**7/6!). \n",
    "    \n",
    "    Using these, this function returns the values of the\n",
    "    Slater integral F^k(dd).\n",
    "\n",
    "    Parameters\n",
    "    ----------\n",
    "    k : [int]\n",
    "        The superscript for the corresponding Slater integral.\n",
    "    κ : [sp.Symbol or number] dimension is of inverse  length,\n",
    "        and corresponds to the exponential decay rate of   the\n",
    "        wave function. \n",
    "\n",
    "    Returns\n",
    "    -------\n",
    "    Fk : [sympy expression]\n",
    "        The corresponding Slater integral in terms of κ (kappa).\n",
    "\n",
    "    Reference\n",
    "    ---------\n",
    "    STK eqn (5.3)\n",
    "    '''    \n",
    "    s0 = 4 * sp.factorial(6 + k) / sp.factorial(6)**2\n",
    "    s10 = sp.factorial(5 - k)\n",
    "    s11 = sum([sp.factorial(12-n) / 2**(13-n) / sp.factorial(7+k-n) for n in range(1,8+k)]) \n",
    "    s1 = s10 - s11\n",
    "    Fk = κ * s0 * s1\n",
    "    return Fk"
   ]
  },
  {
   "cell_type": "code",
   "execution_count": 211,
   "metadata": {},
   "outputs": [],
   "source": [
    "A, B, C = sp.symbols('A B C')\n",
    "subs = {sp.Symbol('F_4') : sp.Symbol('F^(4)')/441,\n",
    "        sp.Symbol('F_0'): sp.Symbol('F^(0)'),\n",
    "        sp.Symbol('F_2'): sp.Symbol('F^(2)')/49}\n",
    "A = sp.Symbol('F_0') - 49 * sp.Symbol('F_4')\n",
    "A = A.subs(subs)\n",
    "B = sp.Symbol('F_2') - 5 * sp.Symbol('F_4')\n",
    "B = B.subs(subs)\n",
    "C = 35*sp.Symbol('F_4')\n",
    "C = C.subs(subs)"
   ]
  },
  {
   "cell_type": "code",
   "execution_count": 213,
   "metadata": {},
   "outputs": [
    {
     "data": {
      "text/latex": [
       "$\\displaystyle \\frac{5 F^{(4)}}{63 \\left(\\frac{F^{(2)}}{49} - \\frac{5 F^{(4)}}{441}\\right)}$"
      ],
      "text/plain": [
       "5*F^(4)/(63*(F^(2)/49 - 5*F^(4)/441))"
      ]
     },
     "metadata": {},
     "output_type": "display_data"
    },
    {
     "data": {
      "text/latex": [
       "$\\displaystyle \\frac{1}{44}$"
      ],
      "text/plain": [
       "1/44"
      ]
     },
     "execution_count": 213,
     "metadata": {},
     "output_type": "execute_result"
    }
   ],
   "source": [
    "display(C/B)\n",
    "(4-C/B).subs({sp.Symbol('F^(0)'): SlaterFddSTK(0), \n",
    "            sp.Symbol('F^(2)'): SlaterFddSTK(2),\n",
    "            sp.Symbol('F^(4)'): SlaterFddSTK(4)})"
   ]
  },
  {
   "cell_type": "code",
   "execution_count": 214,
   "metadata": {},
   "outputs": [],
   "source": [
    "def RkSlater_A(n, l, s):\n",
    "    '''\n",
    "    Used in RkSlater\n",
    "    '''\n",
    "    return ((-1)**s * (sp.S(2) / n)**s\n",
    "            / sp.factorial(n - l - s - 1) / sp.factorial(2 * l + s + 1) / sp.factorial(s) \n",
    "            ) \n",
    "\n",
    "def RkSlater_I(s, s1, s2, s3, na, la, nb, lb, nc, lc, nd, ld, k):\n",
    "    '''\n",
    "    Used in RkSlater\n",
    "    '''\n",
    "    p = lb + ld + 2 + k + s1 + s3 \n",
    "    q = la + lc + 1 - k + s  + s2 \n",
    "    x = la + lc + 2 + k + s  + s2 \n",
    "    y = lb + ld + 1 - k + s1 + s3 \n",
    "    α = (na + nc) / (na * nc) \n",
    "    β = (nb + nd) / (nb * nd) \n",
    "    r00 = (sp.factorial(q) / α**(q+1) / β**(p+1)) *  (β / (α + β))**(p+1) \n",
    "    r01 = sum([sp.factorial(p+r) / sp.factorial(r) * (α / (α + β))**r for r in range(0,q+1)]) \n",
    "    r0 = r00 * r01 \n",
    "    r10 = sp.factorial(y) / α**(x+1) / β**(y+1)   *    (α / (α + β))**(x+1) \n",
    "    r11 = sum([sp.factorial(x+r) / sp.factorial(r) * (β / (α + β))**r for r in range(0,y+1)]) \n",
    "    r1 = r10 * r11\n",
    "    return r0 + r1 \n",
    "\n",
    "def RkSlater(input_params):\n",
    "    '''\n",
    "    Provides the hydrogenic Slater radial integral\n",
    "\n",
    "    R^{(k)}(ab,cd) = \\int_0^\\infty\\int_0^\\infty \n",
    "                    \\frac{r_<^{k}}{r_>^{k+1}} \n",
    "                    R_{na,la}(r_1) R_{nb,lb}(r_2) \n",
    "                    R_{nc,lc}(r_1) R_{nd,ld}(r_2)\n",
    "                    r_1^2 r_2^2 dr_1 dr_2\n",
    "    \n",
    "    Where a = (na,la), b = (nb, lb), c = (nc, lc), d = (nd, ld).\n",
    "\n",
    "    Where R_{nl} = \\sqrt{\\left(\\frac{2}{na}\\right)^3 \n",
    "                   \\frac{(n-l-1)!}{2n (n+1)!}}\n",
    "                   e^{-\\rho/2} \\rho^l L_{n-l-1}^{2l+1}(\\frac{2r}{na})\n",
    "\n",
    "    The  dimensions  of  this  integral are of inverse length, and what is\n",
    "    provided  by  this  function  is  in  terms  of atomic units, that is,\n",
    "    setting a=1.\n",
    "\n",
    "    Parameters\n",
    "    ----------\n",
    "    inputparams (str, or tuple)\n",
    "        If  given  as a string the format needs to be 'k na la nb lb nc lc\n",
    "        nd  ld'  where  all  la,  lb,  lc,  ld  are given in spectroscopic\n",
    "        notation.\n",
    "\n",
    "        For  example  to  obtain  R^0(2s2s2s1s)  the input string would be\n",
    "        '02s2s2s1s'.\n",
    "\n",
    "        For  legibility  any  spaces can be added, for example '0 2s 2s 2s\n",
    "        1s' is equivalent to '02s2s2s1s'.\n",
    "\n",
    "        If  inputparams  is  given  as  a  tuple  then  it needs to have 9\n",
    "        elements:\n",
    "\n",
    "            ( k [int], na[int], la[int], nb [int] ... , nd[int], ld[int])\n",
    "\n",
    "    Returns\n",
    "    -------\n",
    "    R^(k)(ab,cd) as a sympy symbolic expression.\n",
    "\n",
    "    References\n",
    "    ----------\n",
    "    Butler,  Minchin,  and  Wybourne,  \"Tables of Hydrogenic Slater Radial\n",
    "    Integrals.\" NOTE: A(abcd) was missing a few sqrt factorials.\n",
    "    '''\n",
    "\n",
    "    if isinstance(input_params, str):\n",
    "        inputstring = input_params.replace(' ','')\n",
    "        k, na, la, nb, lb, nc, lc, nd, ld = list(inputstring)\n",
    "        la, lb, lc, ld = [{'s':0,'p':1,'d':2,'f':3, 'g':4}[x] for x in [la,lb,lc,ld]]\n",
    "        k, na, nb, nc, nd = list(map(int, [k, na, nb, nc, nd]))\n",
    "        k, na, la, nb, lb, nc, lc, nd, ld = list(map(sp.S, [k, na, la, nb, lb, nc, lc, nd, ld]))\n",
    "        input_params = k, na, la, nb, lb, nc, lc, nd, ld\n",
    "    else:\n",
    "        k, na, la, nb, lb, nc, lc, nd, ld = input_params\n",
    "    \n",
    "    if input_params in RkSlater.cache:\n",
    "        return RkSlater.cache[input_params]\n",
    "\n",
    "    scaler = (sp.S(2)**4 / (na * nb * nc * nd)**2\n",
    "                * sp.sqrt((sp.factorial(na - la -1)\n",
    "                         * sp.factorial(nb - lb -1)\n",
    "                         * sp.factorial(nc - lc -1)\n",
    "                         * sp.factorial(nd - ld -1))\n",
    "                         * sp.factorial(la + na) # added\n",
    "                         * sp.factorial(lb + nb) # added\n",
    "                         * sp.factorial(lc + nc) # added\n",
    "                         * sp.factorial(ld + nd) # added\n",
    "                         ) \n",
    "                * (sp.S(2) / na)**la \n",
    "                * (sp.S(2) / nb)**lb \n",
    "                * (sp.S(2) / nc)**lc \n",
    "                * (sp.S(2) / nd)**ld) \n",
    "\n",
    "    iterator =  product(range(0, na-la),\n",
    "                        range(0, nb-lb),\n",
    "                        range(0, nc-lc),\n",
    "                        range(0, nd-ld)\n",
    "                       )\n",
    "    summands = [( RkSlater_A(na,la,s) \n",
    "                * RkSlater_A(nb,lb,s1)\n",
    "                * RkSlater_A(nc,lc,s2)\n",
    "                * RkSlater_A(nd,ld,s3)\n",
    "                * RkSlater_I(s,s1,s2,s3,na,la,nb,lb,nc,lc,nd,ld,k)) for s,s1,s2,s3 in iterator]\n",
    "    Rkabcd = scaler * sum(summands)\n",
    "    RkSlater.cache[input_params] = Rkabcd\n",
    "    return Rkabcd\n",
    "RkSlater.cache = {}\n",
    "\n",
    "def SlaterFdd(k, n = 3, κ = sp.Symbol('\\\\kappa')):\n",
    "    '''\n",
    "    Slater radial integral for nd-orbitals, using RkSlater.\n",
    "\n",
    "    Parameters\n",
    "    ----------\n",
    "    k : (int)\n",
    "        The superscript for the corresponding Slater integral.\n",
    "    n : (int)\n",
    "        The shell to which the atomic orbital belongs to.\n",
    "    κ : (sp.Symbol or number) represents the reciprocal of the\n",
    "        inverse of the unit of length for this hydrogenic model\n",
    "        for an ion. What is oftem most important is the ratio,\n",
    "        between two of these, so this factor is often irrelevant,\n",
    "        given that it's shared between different integrals.\n",
    "\n",
    "    Returns\n",
    "    -------\n",
    "    SFdd : [sympy expression]\n",
    "        The corresponding Slater integral in terms of κ (kappa).\n",
    "\n",
    "    '''    \n",
    "    SFdd = RkSlater('{k}{n}d{n}d{n}d{n}d'.format(k=k, n=n)) * n * κ\n",
    "    return SFdd"
   ]
  },
  {
   "cell_type": "code",
   "execution_count": 215,
   "metadata": {},
   "outputs": [
    {
     "data": {
      "text/latex": [
       "$\\displaystyle \\left[\\begin{matrix}0 & \\frac{2093 \\kappa}{15360} & \\frac{2093 \\kappa}{15360}\\end{matrix}\\right]$"
      ],
      "text/plain": [
       "Matrix([[0, 2093*\\kappa/15360, 2093*\\kappa/15360]])"
      ]
     },
     "metadata": {},
     "output_type": "display_data"
    },
    {
     "data": {
      "text/latex": [
       "$\\displaystyle \\left[\\begin{matrix}1 & \\frac{2093 \\kappa}{15360} & \\frac{2093 \\kappa}{15360}\\end{matrix}\\right]$"
      ],
      "text/plain": [
       "Matrix([[1, 2093*\\kappa/15360, 2093*\\kappa/15360]])"
      ]
     },
     "metadata": {},
     "output_type": "display_data"
    },
    {
     "data": {
      "text/latex": [
       "$\\displaystyle \\left[\\begin{matrix}2 & \\frac{2093 \\kappa}{15360} & \\frac{2093 \\kappa}{15360}\\end{matrix}\\right]$"
      ],
      "text/plain": [
       "Matrix([[2, 2093*\\kappa/15360, 2093*\\kappa/15360]])"
      ]
     },
     "metadata": {},
     "output_type": "display_data"
    },
    {
     "data": {
      "text/latex": [
       "$\\displaystyle \\left[\\begin{matrix}3 & \\frac{2093 \\kappa}{15360} & \\frac{2093 \\kappa}{15360}\\end{matrix}\\right]$"
      ],
      "text/plain": [
       "Matrix([[3, 2093*\\kappa/15360, 2093*\\kappa/15360]])"
      ]
     },
     "metadata": {},
     "output_type": "display_data"
    },
    {
     "data": {
      "text/latex": [
       "$\\displaystyle \\left[\\begin{matrix}4 & \\frac{2093 \\kappa}{15360} & \\frac{2093 \\kappa}{15360}\\end{matrix}\\right]$"
      ],
      "text/plain": [
       "Matrix([[4, 2093*\\kappa/15360, 2093*\\kappa/15360]])"
      ]
     },
     "metadata": {},
     "output_type": "display_data"
    }
   ],
   "source": [
    "# Comparison of STK provided expression to that of Butler et. al\n",
    "for i in range(5):\n",
    "    display(sp.Matrix([i, SlaterFdd(2), SlaterFddSTK(2)]).T)"
   ]
  },
  {
   "cell_type": "markdown",
   "metadata": {},
   "source": [
    "## Comparison against numerical values of Butler et al. 1971\n",
    "\n",
    "<center> <img src=\"notebook_imgs/2022-01-03-12-08-24.png\" alt=\"Drawing\" style=\"width: 50%;\"/> </center>\n"
   ]
  },
  {
   "cell_type": "code",
   "execution_count": 195,
   "metadata": {},
   "outputs": [
    {
     "name": "stdout",
     "output_type": "stream",
     "text": [
      "0 2s 1s 1s 1s qdef/ground_truth : 1.000\n",
      "0 2s 1s 2s 1s qdef/ground_truth : 1.000\n",
      "0 2p 1s 2p 1s qdef/ground_truth : 1.000\n",
      "0 2s 2s 1s 1s qdef/ground_truth : 1.000\n",
      "1 2p 2p 1s 1s qdef/ground_truth : 1.000\n",
      "0 2s 2s 2s 1s qdef/ground_truth : 1.000\n",
      "0 2p 2s 2p 1s qdef/ground_truth : 1.000\n",
      "1 2p 2p 2s 1s qdef/ground_truth : 1.000\n",
      "0 2s 2s 2s 2s qdef/ground_truth : 1.000\n",
      "2 3d 3d 3d 1s qdef/ground_truth : 1.000\n",
      "6 4f 4f 4f 4f qdef/ground_truth : 1.000\n"
     ]
    }
   ],
   "source": [
    "inputstrings = ['0 2s 1s 1s 1s',\n",
    "                '0 2s 1s 2s 1s',\n",
    "                '0 2p 1s 2p 1s',\n",
    "                '0 2s 2s 1s 1s',\n",
    "                '1 2p 2p 1s 1s',\n",
    "                '0 2s 2s 2s 1s',\n",
    "                '0 2p 2s 2p 1s',\n",
    "                '1 2p 2p 2s 1s',\n",
    "                '0 2s 2s 2s 2s',\n",
    "                '2 3d 3d 3d 1s', \n",
    "                '6 4f 4f 4f 4f']\n",
    "fixem = False\n",
    "gts = list(map(float,'0.0893550 0.2098765 0.2427984 0.0219479 0.0512117 0.0085817 0.0085817 -0.0386175 0.1503906 0.0028476 0.0139103'.split(' ')))\n",
    "fixers = (2, 4, 36, 4, 36, 8, 72, 72, 16, 1, 1)\n",
    "for inputstring, gt, fix in zip(inputstrings, gts, fixers):\n",
    "    me = RkSlater(inputstring)\n",
    "    print(inputstring,'qdef/ground_truth : %.3f' % (sp.N(me)/gt))\n"
   ]
  }
 ],
 "metadata": {
  "interpreter": {
   "hash": "5ed69564610cdd861a99d06236eab56151da4db3d5eb55442ace689096fe7345"
  },
  "kernelspec": {
   "display_name": "Python 3.8.8 64-bit ('qdef3p8': conda)",
   "language": "python",
   "name": "python3"
  },
  "language_info": {
   "codemirror_mode": {
    "name": "ipython",
    "version": 3
   },
   "file_extension": ".py",
   "mimetype": "text/x-python",
   "name": "python",
   "nbconvert_exporter": "python",
   "pygments_lexer": "ipython3",
   "version": "3.8.8"
  },
  "orig_nbformat": 4
 },
 "nbformat": 4,
 "nbformat_minor": 2
}
